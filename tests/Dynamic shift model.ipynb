{
 "cells": [
  {
   "cell_type": "markdown",
   "id": "84565b74",
   "metadata": {
    "hide_input": false
   },
   "source": [
    "#### Imports"
   ]
  },
  {
   "cell_type": "code",
   "execution_count": 1,
   "id": "dfdaeca7",
   "metadata": {
    "ExecuteTime": {
     "end_time": "2023-02-22T16:46:21.949566Z",
     "start_time": "2023-02-22T16:46:16.064871Z"
    }
   },
   "outputs": [],
   "source": [
    "import dostools\n",
    "import importlib\n",
    "import numpy as np\n",
    "import pickle\n",
    "import torch\n",
    "import sys\n",
    "import matplotlib.pyplot as plt\n",
    "import copy\n",
    "from tqdm import tqdm\n",
    "import matplotlib\n",
    "import time\n",
    "torch.set_default_dtype(torch.float64) \n",
    "%matplotlib notebook\n",
    "matplotlib.rcParams['figure.figsize'] = (10, 10)"
   ]
  },
  {
   "cell_type": "code",
   "execution_count": 2,
   "id": "7ccbf26d",
   "metadata": {
    "ExecuteTime": {
     "end_time": "2023-02-22T16:46:28.188700Z",
     "start_time": "2023-02-22T16:46:21.951962Z"
    }
   },
   "outputs": [
    {
     "name": "stdout",
     "output_type": "stream",
     "text": [
      "ldos shape is torch.Size([1039, 778])\n",
      "mean dos shape is torch.Size([778])\n",
      "Variance covered with 10 PCs is = 0.9871211778950163\n"
     ]
    }
   ],
   "source": [
    "import dostools.datasets.data as data\n",
    "import dostools.utils.utils as utils\n",
    "\n",
    "n_structures = 1039\n",
    "np.random.seed(0)\n",
    "n_train = int(0.8 * n_structures)\n",
    "train_index = np.arange(n_structures)\n",
    "np.random.shuffle(train_index)\n",
    "test_index = train_index[n_train:]\n",
    "train_index = train_index[:n_train]\n",
    "\n",
    "with torch.no_grad():\n",
    "    structures = data.load_structures(\":\")\n",
    "    n_structures = len(structures) #total number of structures\n",
    "    for structure in structures:#implement periodicity\n",
    "        structure.wrap(eps = 1e-12) \n",
    "    n_atoms = np.zeros(n_structures, dtype = int) #stores number of atoms in each structures\n",
    "    for i in range(n_structures):\n",
    "        n_atoms[i] = len(structures[i])\n",
    "\n",
    "    #eigenergies, emin, emax = dostools.src.datasets.data.load_eigenenergies(unpack = True, n_structures = len(structures))\n",
    "    xdos = torch.tensor(data.load_xdos())\n",
    "    ldos = torch.tensor(data.load_ldos())\n",
    "    ldos *= 2\n",
    "\n",
    "    print (\"ldos shape is {}\".format(ldos.shape))\n",
    "    mean_dos_per_atom = ldos[train_index].mean(axis = 0) #only calculated for train set to prevent data leakage\n",
    "    print (\"mean dos shape is {}\".format(mean_dos_per_atom.shape))\n",
    "    \n",
    "    \n",
    "    y_pw = ldos - mean_dos_per_atom\n",
    "    y_lcdf = torch.cumsum(y_pw, dim = 1)\n",
    "    _, pc_vectors = utils.build_pc(ldos[train_index], mean_dos_per_atom[None,:], n_pc = 10)\n",
    "    y_pc = utils.build_coeffs(ldos - mean_dos_per_atom[None,:], pc_vectors)\n",
    "    Silicon = data.load_features()\n",
    "    kMM = data.load_kMM()"
   ]
  },
  {
   "cell_type": "code",
   "execution_count": 3,
   "id": "c7a83067",
   "metadata": {
    "ExecuteTime": {
     "end_time": "2023-02-22T16:46:38.610762Z",
     "start_time": "2023-02-22T16:46:28.192221Z"
    }
   },
   "outputs": [
    {
     "name": "stdout",
     "output_type": "stream",
     "text": [
      "This file contains the eigenenergies and their corresponding kpoints of the training Silicon structures generated using DFT PBE as implemented in FHI-AIMS version 171221_1 with the ``tight'' settings\n"
     ]
    }
   ],
   "source": [
    "importlib.reload(data)\n",
    "eigen_energies, emin, emax = data.load_eigenenergies(unpack = True, n_structures = n_structures)"
   ]
  },
  {
   "cell_type": "code",
   "execution_count": 4,
   "id": "dccbde1a",
   "metadata": {
    "ExecuteTime": {
     "end_time": "2023-02-22T16:46:38.622434Z",
     "start_time": "2023-02-22T16:46:38.615788Z"
    }
   },
   "outputs": [
    {
     "name": "stdout",
     "output_type": "stream",
     "text": [
      "-24.553719539983\n"
     ]
    }
   ],
   "source": [
    "print (emin)"
   ]
  },
  {
   "cell_type": "code",
   "execution_count": 5,
   "id": "c4132d76",
   "metadata": {
    "ExecuteTime": {
     "end_time": "2023-02-22T16:46:38.639462Z",
     "start_time": "2023-02-22T16:46:38.625276Z"
    }
   },
   "outputs": [
    {
     "name": "stdout",
     "output_type": "stream",
     "text": [
      "11.346414696331\n"
     ]
    }
   ],
   "source": [
    "print (emax)"
   ]
  },
  {
   "cell_type": "code",
   "execution_count": 6,
   "id": "8001a4d6",
   "metadata": {
    "ExecuteTime": {
     "end_time": "2023-02-22T16:46:38.654563Z",
     "start_time": "2023-02-22T16:46:38.641456Z"
    }
   },
   "outputs": [],
   "source": [
    "# gb = 0.3 #eV\n",
    "# dE = 0.05 #eV\n",
    "\n",
    "# # build the DOS of the dataset, \n",
    "# # normalized by number of atoms and number of eigenvalues\n",
    "# xdos2, ldos2 = utils.build_dos(gb, eigen_energies, dE, emin, emax, n_atoms) #sigma, eigenvalues, dx, emin, emax\n",
    "\n",
    "# xdos2_tensor = torch.tensor(xdos2)\n",
    "# ldos2 *= 2\n",
    "# ldos2 = torch.tensor(ldos2)"
   ]
  },
  {
   "cell_type": "markdown",
   "id": "459624a6",
   "metadata": {},
   "source": []
  },
  {
   "cell_type": "code",
   "execution_count": null,
   "id": "eeb115b1",
   "metadata": {
    "ExecuteTime": {
     "end_time": "2023-02-15T21:18:14.754862Z",
     "start_time": "2023-02-15T21:18:14.002114Z"
    }
   },
   "outputs": [],
   "source": []
  },
  {
   "cell_type": "code",
   "execution_count": null,
   "id": "c2b15734",
   "metadata": {
    "ExecuteTime": {
     "end_time": "2023-02-15T21:18:14.763222Z",
     "start_time": "2023-02-15T21:18:14.756960Z"
    }
   },
   "outputs": [],
   "source": []
  },
  {
   "cell_type": "code",
   "execution_count": null,
   "id": "a09ca373",
   "metadata": {
    "ExecuteTime": {
     "end_time": "2023-02-15T21:18:14.785247Z",
     "start_time": "2023-02-15T21:18:14.765407Z"
    }
   },
   "outputs": [],
   "source": []
  },
  {
   "cell_type": "markdown",
   "id": "9e0652c3",
   "metadata": {},
   "source": [
    "## Features PCA"
   ]
  },
  {
   "cell_type": "code",
   "execution_count": 7,
   "id": "35332a42",
   "metadata": {
    "ExecuteTime": {
     "end_time": "2023-02-22T16:46:39.020590Z",
     "start_time": "2023-02-22T16:46:38.656857Z"
    }
   },
   "outputs": [
    {
     "name": "stdout",
     "output_type": "stream",
     "text": [
      "SOAP PCA explained variance with 1 PCA is: [0.85417772]\n",
      "Kernel PCA explained variance with 1 PCA is: [0.76640756]\n"
     ]
    }
   ],
   "source": [
    "from sklearn.decomposition import PCA\n",
    "\n",
    "soap = Silicon.Features['structure_avedescriptors'] \n",
    "soap_pca = PCA(n_components = 1, svd_solver = \"full\")\n",
    "soap_pca.fit(soap)\n",
    "\n",
    "print (\"SOAP PCA explained variance with 1 PCA is: {}\".format(soap_pca.explained_variance_ratio_))\n",
    "\n",
    "PCA_soap = soap_pca.transform(soap)\n",
    "\n",
    "kernel = Silicon.Features['structure_avekerneldescriptors']\n",
    "kernel_pca = PCA(n_components = 1, svd_solver = \"full\")\n",
    "kernel_pca.fit(kernel)\n",
    "\n",
    "print (\"Kernel PCA explained variance with 1 PCA is: {}\".format(kernel_pca.explained_variance_ratio_))\n",
    "\n",
    "PCA_kernel = kernel_pca.transform(kernel)"
   ]
  },
  {
   "cell_type": "markdown",
   "id": "09757efc",
   "metadata": {},
   "source": [
    "## Translation invariant Loss function"
   ]
  },
  {
   "cell_type": "code",
   "execution_count": 8,
   "id": "fea8a204",
   "metadata": {
    "ExecuteTime": {
     "end_time": "2023-02-22T16:46:39.046971Z",
     "start_time": "2023-02-22T16:46:39.022466Z"
    }
   },
   "outputs": [],
   "source": [
    "import dostools.loss.loss as loss\n",
    "\n",
    "# importlib.reload(loss)\n",
    "# with torch.no_grad():\n",
    "#     shift_range = torch.tensor([0.05 * a for a in torch.arange(-5,5)])\n",
    "#     #shift_range = torch.tensor([0])\n",
    "#     a = loss.t_get_BF_shift_rmse(reconstructed_ldos_t, ldos, shift_range, xdos, perc = True)\n",
    "#     print (a)"
   ]
  },
  {
   "cell_type": "code",
   "execution_count": 9,
   "id": "3af34687",
   "metadata": {
    "ExecuteTime": {
     "end_time": "2023-02-22T16:46:39.051091Z",
     "start_time": "2023-02-22T16:46:39.048562Z"
    }
   },
   "outputs": [],
   "source": [
    "# z = (torch.sum((structure_coefficients_t[train_index].view(1, 831, 687) * (torch.exp(-0.5*((alignment.view(1,-1,1) + xdos.view(-1,1,1) - structure_eigvals_t[train_index])/sigma)**2))), dim = 2)).T * normalization[train_index].view(-1,1) * 2\n"
   ]
  },
  {
   "cell_type": "markdown",
   "id": "7112d149",
   "metadata": {},
   "source": [
    "## Dataset and Dataloader"
   ]
  },
  {
   "cell_type": "code",
   "execution_count": 10,
   "id": "f8cd7271",
   "metadata": {
    "ExecuteTime": {
     "end_time": "2023-02-22T16:46:39.392675Z",
     "start_time": "2023-02-22T16:46:39.052675Z"
    }
   },
   "outputs": [],
   "source": [
    "structure_coefficients_t = torch.load('structure_coefficients.pt')\n",
    "structure_eigvals_t = torch.load('structure_eigvals.pt')\n",
    "reconstructed_ldos_t = torch.load('reconstructed_ldos.pt')\n",
    "\n",
    "sigma = 0.3\n",
    "dx = 0.05\n",
    "\n",
    "full_eigen_energies = [torch.tensor(i.flatten()) for i in eigen_energies]\n",
    "eigenenergy_length = [len(i) for i in full_eigen_energies]\n",
    "eigenenergy_length_t = torch.tensor(eigenenergy_length)\n",
    "# small_index = (eigenenergy_length_t<10000)\n",
    "# small_index = small_index.nonzero()\n",
    "# small_index = small_index.flatten()\n",
    "n_atoms_t = torch.tensor(n_atoms)\n",
    "normalization_eiglength = [len(i) for i in eigen_energies]\n",
    "normalization_eiglength_t = torch.tensor(normalization_eiglength)\n",
    "normalization = 1/torch.sqrt(2*torch.tensor(np.pi)*sigma**2)/n_atoms_t/normalization_eiglength_t\n",
    "\n"
   ]
  },
  {
   "cell_type": "code",
   "execution_count": 11,
   "id": "5876615f",
   "metadata": {
    "ExecuteTime": {
     "end_time": "2023-02-22T16:46:39.405716Z",
     "start_time": "2023-02-22T16:46:39.395568Z"
    }
   },
   "outputs": [],
   "source": [
    "from torch.utils.data import Dataset\n",
    "class ShiftingDataset(Dataset):\n",
    "    def __init__(self, X, y_coeff, y_eigval, normalization, xdos):\n",
    "        self.X = X\n",
    "        self.y_coeff = y_coeff\n",
    "        self.y_eigval = y_eigval\n",
    "        self.normalization = normalization\n",
    "        self.alignment = torch.nn.parameter.Parameter(torch.zeros(len(X)))\n",
    "        self.xdos = xdos\n",
    "        \n",
    "        \n",
    "    def __len__(self):\n",
    "        return len(self.X)\n",
    "    \n",
    "    def project_dos(self, idx):\n",
    "        new_dos = (torch.sum((self.y_coeff[idx].view(1, -1, 687) * (torch.exp(-0.5*((self.alignment[idx].view(1,-1,1) + self.xdos.view(-1,1,1) - self.y_eigval[idx])/sigma)**2))), dim = 2)).T * self.normalization[idx].view(-1,1) * 2\n",
    "        return new_dos.squeeze()\n",
    "    \n",
    "    def __getitem__(self, idx):\n",
    "        y = self.project_dos(idx)\n",
    "        return self.X[idx], y.double()\n",
    "        "
   ]
  },
  {
   "cell_type": "code",
   "execution_count": 12,
   "id": "e0c73f83",
   "metadata": {
    "ExecuteTime": {
     "end_time": "2023-02-22T16:46:39.420725Z",
     "start_time": "2023-02-22T16:46:39.408138Z"
    }
   },
   "outputs": [],
   "source": [
    "##Remeber to save the good struct coeffs and eigvals and integrate into the database folder"
   ]
  },
  {
   "cell_type": "code",
   "execution_count": null,
   "id": "d2469be1",
   "metadata": {
    "ExecuteTime": {
     "end_time": "2023-02-21T21:32:21.692715Z",
     "start_time": "2023-02-21T21:32:21.487372Z"
    }
   },
   "outputs": [],
   "source": []
  },
  {
   "cell_type": "code",
   "execution_count": 13,
   "id": "42dd9031",
   "metadata": {
    "ExecuteTime": {
     "end_time": "2023-02-22T16:46:39.446213Z",
     "start_time": "2023-02-22T16:46:39.423236Z"
    }
   },
   "outputs": [],
   "source": [
    "from torch.utils.data import TensorDataset, DataLoader\n",
    "# soap_dataset = ShiftingDataset(Silicon.Features['structure_avedescriptors'][:10].double(), structure_coefficients_t[:10], structure_eigvals_t[:10], normalization[:10], xdos)\n",
    "soap_dataset = ShiftingDataset(Silicon.Features['structure_avedescriptors'][train_index].double(), structure_coefficients_t[train_index], structure_eigvals_t[train_index], normalization[train_index], xdos)\n",
    "device = 'cpu'\n",
    "kwargs = {\"pin_memory\":True} if device == \"cuda:0\" else {}\n",
    "soap_dataloader = DataLoader(soap_dataset, batch_size = 8, shuffle = True,**kwargs)"
   ]
  },
  {
   "cell_type": "code",
   "execution_count": 14,
   "id": "284008b5",
   "metadata": {
    "ExecuteTime": {
     "end_time": "2023-02-22T16:46:39.515940Z",
     "start_time": "2023-02-22T16:46:39.451964Z"
    }
   },
   "outputs": [
    {
     "name": "stdout",
     "output_type": "stream",
     "text": [
      "torch.Size([8, 448])\n",
      "torch.Size([8, 778])\n"
     ]
    }
   ],
   "source": [
    "for x,y in soap_dataloader:\n",
    "    print (x.shape)\n",
    "    print (y.shape)\n",
    "    break"
   ]
  },
  {
   "cell_type": "markdown",
   "id": "7126fa65",
   "metadata": {},
   "source": [
    "## Model"
   ]
  },
  {
   "cell_type": "code",
   "execution_count": 147,
   "id": "fc8a6805",
   "metadata": {
    "ExecuteTime": {
     "end_time": "2023-02-23T11:42:46.758407Z",
     "start_time": "2023-02-23T11:42:46.734265Z"
    }
   },
   "outputs": [],
   "source": [
    "import dostools.models.models as models\n",
    "import dostools.models.training as training\n",
    "import dostools.models.architectures as architecture\n",
    "import dostools.loss.loss as loss\n",
    "import torch.nn as nn\n",
    "\n",
    "importlib.reload(models)\n",
    "importlib.reload(training)\n",
    "importlib.reload(architecture)\n",
    "importlib.reload(loss)\n",
    "\n",
    "#can consider normalization layer here, start with bias and stuff first\n",
    "\n",
    "class WassLinearModel(nn.Module):\n",
    "    def __init__(self, inputSize, outputSize, xdos, device):\n",
    "        super(WassLinearModel, self).__init__()\n",
    "        self.linear = nn.Linear(inputSize, outputSize, bias = True)\n",
    "        self.xdos = xdos\n",
    "        self.device = device\n",
    "        #self.alignment = torch.zeros(train_size, device = self.device)\n",
    "        self.to(self.device)\n",
    "\n",
    "    def forward(self, x):\n",
    "        \"\"\"\n",
    "        Performs the transformations to the features based on the model\n",
    "        \n",
    "        Args:\n",
    "            x (tensor): input features\n",
    "        \n",
    "        Returns:\n",
    "            tensor: output\n",
    "        \"\"\"\n",
    "        out = self.linear(x)\n",
    "        return out\n",
    "    \n",
    "    "
   ]
  },
  {
   "cell_type": "code",
   "execution_count": 152,
   "id": "093b6e45",
   "metadata": {
    "ExecuteTime": {
     "end_time": "2023-02-23T11:43:32.555801Z",
     "start_time": "2023-02-23T11:43:32.546922Z"
    }
   },
   "outputs": [],
   "source": [
    "%matplotlib notebook\n",
    "matplotlib.rcParams['figure.figsize'] = (10, 10)"
   ]
  },
  {
   "cell_type": "code",
   "execution_count": 153,
   "id": "cef82dc4",
   "metadata": {
    "ExecuteTime": {
     "end_time": "2023-02-23T11:43:34.915930Z",
     "start_time": "2023-02-23T11:43:34.902055Z"
    }
   },
   "outputs": [],
   "source": [
    "model1 = WassLinearModel(448, 778, xdos, \"cpu\")\n",
    "# model1.load_state_dict(torch.load('./DynamicAdam.pt'))\n",
    "# soap_dataset.alignment = torch.load('DynamicAdam_trainalignment')"
   ]
  },
  {
   "cell_type": "code",
   "execution_count": 154,
   "id": "4c3316bf",
   "metadata": {
    "ExecuteTime": {
     "end_time": "2023-02-23T13:23:27.859062Z",
     "start_time": "2023-02-23T11:43:35.028877Z"
    }
   },
   "outputs": [
    {
     "name": "stderr",
     "output_type": "stream",
     "text": [
      "\r",
      "  0%|                                                                                                                                                                                    | 0/10000 [00:00<?, ?it/s]"
     ]
    },
    {
     "data": {
      "application/javascript": [
       "/* Put everything inside the global mpl namespace */\n",
       "/* global mpl */\n",
       "window.mpl = {};\n",
       "\n",
       "mpl.get_websocket_type = function () {\n",
       "    if (typeof WebSocket !== 'undefined') {\n",
       "        return WebSocket;\n",
       "    } else if (typeof MozWebSocket !== 'undefined') {\n",
       "        return MozWebSocket;\n",
       "    } else {\n",
       "        alert(\n",
       "            'Your browser does not have WebSocket support. ' +\n",
       "                'Please try Chrome, Safari or Firefox ≥ 6. ' +\n",
       "                'Firefox 4 and 5 are also supported but you ' +\n",
       "                'have to enable WebSockets in about:config.'\n",
       "        );\n",
       "    }\n",
       "};\n",
       "\n",
       "mpl.figure = function (figure_id, websocket, ondownload, parent_element) {\n",
       "    this.id = figure_id;\n",
       "\n",
       "    this.ws = websocket;\n",
       "\n",
       "    this.supports_binary = this.ws.binaryType !== undefined;\n",
       "\n",
       "    if (!this.supports_binary) {\n",
       "        var warnings = document.getElementById('mpl-warnings');\n",
       "        if (warnings) {\n",
       "            warnings.style.display = 'block';\n",
       "            warnings.textContent =\n",
       "                'This browser does not support binary websocket messages. ' +\n",
       "                'Performance may be slow.';\n",
       "        }\n",
       "    }\n",
       "\n",
       "    this.imageObj = new Image();\n",
       "\n",
       "    this.context = undefined;\n",
       "    this.message = undefined;\n",
       "    this.canvas = undefined;\n",
       "    this.rubberband_canvas = undefined;\n",
       "    this.rubberband_context = undefined;\n",
       "    this.format_dropdown = undefined;\n",
       "\n",
       "    this.image_mode = 'full';\n",
       "\n",
       "    this.root = document.createElement('div');\n",
       "    this.root.setAttribute('style', 'display: inline-block');\n",
       "    this._root_extra_style(this.root);\n",
       "\n",
       "    parent_element.appendChild(this.root);\n",
       "\n",
       "    this._init_header(this);\n",
       "    this._init_canvas(this);\n",
       "    this._init_toolbar(this);\n",
       "\n",
       "    var fig = this;\n",
       "\n",
       "    this.waiting = false;\n",
       "\n",
       "    this.ws.onopen = function () {\n",
       "        fig.send_message('supports_binary', { value: fig.supports_binary });\n",
       "        fig.send_message('send_image_mode', {});\n",
       "        if (fig.ratio !== 1) {\n",
       "            fig.send_message('set_device_pixel_ratio', {\n",
       "                device_pixel_ratio: fig.ratio,\n",
       "            });\n",
       "        }\n",
       "        fig.send_message('refresh', {});\n",
       "    };\n",
       "\n",
       "    this.imageObj.onload = function () {\n",
       "        if (fig.image_mode === 'full') {\n",
       "            // Full images could contain transparency (where diff images\n",
       "            // almost always do), so we need to clear the canvas so that\n",
       "            // there is no ghosting.\n",
       "            fig.context.clearRect(0, 0, fig.canvas.width, fig.canvas.height);\n",
       "        }\n",
       "        fig.context.drawImage(fig.imageObj, 0, 0);\n",
       "    };\n",
       "\n",
       "    this.imageObj.onunload = function () {\n",
       "        fig.ws.close();\n",
       "    };\n",
       "\n",
       "    this.ws.onmessage = this._make_on_message_function(this);\n",
       "\n",
       "    this.ondownload = ondownload;\n",
       "};\n",
       "\n",
       "mpl.figure.prototype._init_header = function () {\n",
       "    var titlebar = document.createElement('div');\n",
       "    titlebar.classList =\n",
       "        'ui-dialog-titlebar ui-widget-header ui-corner-all ui-helper-clearfix';\n",
       "    var titletext = document.createElement('div');\n",
       "    titletext.classList = 'ui-dialog-title';\n",
       "    titletext.setAttribute(\n",
       "        'style',\n",
       "        'width: 100%; text-align: center; padding: 3px;'\n",
       "    );\n",
       "    titlebar.appendChild(titletext);\n",
       "    this.root.appendChild(titlebar);\n",
       "    this.header = titletext;\n",
       "};\n",
       "\n",
       "mpl.figure.prototype._canvas_extra_style = function (_canvas_div) {};\n",
       "\n",
       "mpl.figure.prototype._root_extra_style = function (_canvas_div) {};\n",
       "\n",
       "mpl.figure.prototype._init_canvas = function () {\n",
       "    var fig = this;\n",
       "\n",
       "    var canvas_div = (this.canvas_div = document.createElement('div'));\n",
       "    canvas_div.setAttribute(\n",
       "        'style',\n",
       "        'border: 1px solid #ddd;' +\n",
       "            'box-sizing: content-box;' +\n",
       "            'clear: both;' +\n",
       "            'min-height: 1px;' +\n",
       "            'min-width: 1px;' +\n",
       "            'outline: 0;' +\n",
       "            'overflow: hidden;' +\n",
       "            'position: relative;' +\n",
       "            'resize: both;'\n",
       "    );\n",
       "\n",
       "    function on_keyboard_event_closure(name) {\n",
       "        return function (event) {\n",
       "            return fig.key_event(event, name);\n",
       "        };\n",
       "    }\n",
       "\n",
       "    canvas_div.addEventListener(\n",
       "        'keydown',\n",
       "        on_keyboard_event_closure('key_press')\n",
       "    );\n",
       "    canvas_div.addEventListener(\n",
       "        'keyup',\n",
       "        on_keyboard_event_closure('key_release')\n",
       "    );\n",
       "\n",
       "    this._canvas_extra_style(canvas_div);\n",
       "    this.root.appendChild(canvas_div);\n",
       "\n",
       "    var canvas = (this.canvas = document.createElement('canvas'));\n",
       "    canvas.classList.add('mpl-canvas');\n",
       "    canvas.setAttribute('style', 'box-sizing: content-box;');\n",
       "\n",
       "    this.context = canvas.getContext('2d');\n",
       "\n",
       "    var backingStore =\n",
       "        this.context.backingStorePixelRatio ||\n",
       "        this.context.webkitBackingStorePixelRatio ||\n",
       "        this.context.mozBackingStorePixelRatio ||\n",
       "        this.context.msBackingStorePixelRatio ||\n",
       "        this.context.oBackingStorePixelRatio ||\n",
       "        this.context.backingStorePixelRatio ||\n",
       "        1;\n",
       "\n",
       "    this.ratio = (window.devicePixelRatio || 1) / backingStore;\n",
       "\n",
       "    var rubberband_canvas = (this.rubberband_canvas = document.createElement(\n",
       "        'canvas'\n",
       "    ));\n",
       "    rubberband_canvas.setAttribute(\n",
       "        'style',\n",
       "        'box-sizing: content-box; position: absolute; left: 0; top: 0; z-index: 1;'\n",
       "    );\n",
       "\n",
       "    // Apply a ponyfill if ResizeObserver is not implemented by browser.\n",
       "    if (this.ResizeObserver === undefined) {\n",
       "        if (window.ResizeObserver !== undefined) {\n",
       "            this.ResizeObserver = window.ResizeObserver;\n",
       "        } else {\n",
       "            var obs = _JSXTOOLS_RESIZE_OBSERVER({});\n",
       "            this.ResizeObserver = obs.ResizeObserver;\n",
       "        }\n",
       "    }\n",
       "\n",
       "    this.resizeObserverInstance = new this.ResizeObserver(function (entries) {\n",
       "        var nentries = entries.length;\n",
       "        for (var i = 0; i < nentries; i++) {\n",
       "            var entry = entries[i];\n",
       "            var width, height;\n",
       "            if (entry.contentBoxSize) {\n",
       "                if (entry.contentBoxSize instanceof Array) {\n",
       "                    // Chrome 84 implements new version of spec.\n",
       "                    width = entry.contentBoxSize[0].inlineSize;\n",
       "                    height = entry.contentBoxSize[0].blockSize;\n",
       "                } else {\n",
       "                    // Firefox implements old version of spec.\n",
       "                    width = entry.contentBoxSize.inlineSize;\n",
       "                    height = entry.contentBoxSize.blockSize;\n",
       "                }\n",
       "            } else {\n",
       "                // Chrome <84 implements even older version of spec.\n",
       "                width = entry.contentRect.width;\n",
       "                height = entry.contentRect.height;\n",
       "            }\n",
       "\n",
       "            // Keep the size of the canvas and rubber band canvas in sync with\n",
       "            // the canvas container.\n",
       "            if (entry.devicePixelContentBoxSize) {\n",
       "                // Chrome 84 implements new version of spec.\n",
       "                canvas.setAttribute(\n",
       "                    'width',\n",
       "                    entry.devicePixelContentBoxSize[0].inlineSize\n",
       "                );\n",
       "                canvas.setAttribute(\n",
       "                    'height',\n",
       "                    entry.devicePixelContentBoxSize[0].blockSize\n",
       "                );\n",
       "            } else {\n",
       "                canvas.setAttribute('width', width * fig.ratio);\n",
       "                canvas.setAttribute('height', height * fig.ratio);\n",
       "            }\n",
       "            canvas.setAttribute(\n",
       "                'style',\n",
       "                'width: ' + width + 'px; height: ' + height + 'px;'\n",
       "            );\n",
       "\n",
       "            rubberband_canvas.setAttribute('width', width);\n",
       "            rubberband_canvas.setAttribute('height', height);\n",
       "\n",
       "            // And update the size in Python. We ignore the initial 0/0 size\n",
       "            // that occurs as the element is placed into the DOM, which should\n",
       "            // otherwise not happen due to the minimum size styling.\n",
       "            if (fig.ws.readyState == 1 && width != 0 && height != 0) {\n",
       "                fig.request_resize(width, height);\n",
       "            }\n",
       "        }\n",
       "    });\n",
       "    this.resizeObserverInstance.observe(canvas_div);\n",
       "\n",
       "    function on_mouse_event_closure(name) {\n",
       "        return function (event) {\n",
       "            return fig.mouse_event(event, name);\n",
       "        };\n",
       "    }\n",
       "\n",
       "    rubberband_canvas.addEventListener(\n",
       "        'mousedown',\n",
       "        on_mouse_event_closure('button_press')\n",
       "    );\n",
       "    rubberband_canvas.addEventListener(\n",
       "        'mouseup',\n",
       "        on_mouse_event_closure('button_release')\n",
       "    );\n",
       "    rubberband_canvas.addEventListener(\n",
       "        'dblclick',\n",
       "        on_mouse_event_closure('dblclick')\n",
       "    );\n",
       "    // Throttle sequential mouse events to 1 every 20ms.\n",
       "    rubberband_canvas.addEventListener(\n",
       "        'mousemove',\n",
       "        on_mouse_event_closure('motion_notify')\n",
       "    );\n",
       "\n",
       "    rubberband_canvas.addEventListener(\n",
       "        'mouseenter',\n",
       "        on_mouse_event_closure('figure_enter')\n",
       "    );\n",
       "    rubberband_canvas.addEventListener(\n",
       "        'mouseleave',\n",
       "        on_mouse_event_closure('figure_leave')\n",
       "    );\n",
       "\n",
       "    canvas_div.addEventListener('wheel', function (event) {\n",
       "        if (event.deltaY < 0) {\n",
       "            event.step = 1;\n",
       "        } else {\n",
       "            event.step = -1;\n",
       "        }\n",
       "        on_mouse_event_closure('scroll')(event);\n",
       "    });\n",
       "\n",
       "    canvas_div.appendChild(canvas);\n",
       "    canvas_div.appendChild(rubberband_canvas);\n",
       "\n",
       "    this.rubberband_context = rubberband_canvas.getContext('2d');\n",
       "    this.rubberband_context.strokeStyle = '#000000';\n",
       "\n",
       "    this._resize_canvas = function (width, height, forward) {\n",
       "        if (forward) {\n",
       "            canvas_div.style.width = width + 'px';\n",
       "            canvas_div.style.height = height + 'px';\n",
       "        }\n",
       "    };\n",
       "\n",
       "    // Disable right mouse context menu.\n",
       "    this.rubberband_canvas.addEventListener('contextmenu', function (_e) {\n",
       "        event.preventDefault();\n",
       "        return false;\n",
       "    });\n",
       "\n",
       "    function set_focus() {\n",
       "        canvas.focus();\n",
       "        canvas_div.focus();\n",
       "    }\n",
       "\n",
       "    window.setTimeout(set_focus, 100);\n",
       "};\n",
       "\n",
       "mpl.figure.prototype._init_toolbar = function () {\n",
       "    var fig = this;\n",
       "\n",
       "    var toolbar = document.createElement('div');\n",
       "    toolbar.classList = 'mpl-toolbar';\n",
       "    this.root.appendChild(toolbar);\n",
       "\n",
       "    function on_click_closure(name) {\n",
       "        return function (_event) {\n",
       "            return fig.toolbar_button_onclick(name);\n",
       "        };\n",
       "    }\n",
       "\n",
       "    function on_mouseover_closure(tooltip) {\n",
       "        return function (event) {\n",
       "            if (!event.currentTarget.disabled) {\n",
       "                return fig.toolbar_button_onmouseover(tooltip);\n",
       "            }\n",
       "        };\n",
       "    }\n",
       "\n",
       "    fig.buttons = {};\n",
       "    var buttonGroup = document.createElement('div');\n",
       "    buttonGroup.classList = 'mpl-button-group';\n",
       "    for (var toolbar_ind in mpl.toolbar_items) {\n",
       "        var name = mpl.toolbar_items[toolbar_ind][0];\n",
       "        var tooltip = mpl.toolbar_items[toolbar_ind][1];\n",
       "        var image = mpl.toolbar_items[toolbar_ind][2];\n",
       "        var method_name = mpl.toolbar_items[toolbar_ind][3];\n",
       "\n",
       "        if (!name) {\n",
       "            /* Instead of a spacer, we start a new button group. */\n",
       "            if (buttonGroup.hasChildNodes()) {\n",
       "                toolbar.appendChild(buttonGroup);\n",
       "            }\n",
       "            buttonGroup = document.createElement('div');\n",
       "            buttonGroup.classList = 'mpl-button-group';\n",
       "            continue;\n",
       "        }\n",
       "\n",
       "        var button = (fig.buttons[name] = document.createElement('button'));\n",
       "        button.classList = 'mpl-widget';\n",
       "        button.setAttribute('role', 'button');\n",
       "        button.setAttribute('aria-disabled', 'false');\n",
       "        button.addEventListener('click', on_click_closure(method_name));\n",
       "        button.addEventListener('mouseover', on_mouseover_closure(tooltip));\n",
       "\n",
       "        var icon_img = document.createElement('img');\n",
       "        icon_img.src = '_images/' + image + '.png';\n",
       "        icon_img.srcset = '_images/' + image + '_large.png 2x';\n",
       "        icon_img.alt = tooltip;\n",
       "        button.appendChild(icon_img);\n",
       "\n",
       "        buttonGroup.appendChild(button);\n",
       "    }\n",
       "\n",
       "    if (buttonGroup.hasChildNodes()) {\n",
       "        toolbar.appendChild(buttonGroup);\n",
       "    }\n",
       "\n",
       "    var fmt_picker = document.createElement('select');\n",
       "    fmt_picker.classList = 'mpl-widget';\n",
       "    toolbar.appendChild(fmt_picker);\n",
       "    this.format_dropdown = fmt_picker;\n",
       "\n",
       "    for (var ind in mpl.extensions) {\n",
       "        var fmt = mpl.extensions[ind];\n",
       "        var option = document.createElement('option');\n",
       "        option.selected = fmt === mpl.default_extension;\n",
       "        option.innerHTML = fmt;\n",
       "        fmt_picker.appendChild(option);\n",
       "    }\n",
       "\n",
       "    var status_bar = document.createElement('span');\n",
       "    status_bar.classList = 'mpl-message';\n",
       "    toolbar.appendChild(status_bar);\n",
       "    this.message = status_bar;\n",
       "};\n",
       "\n",
       "mpl.figure.prototype.request_resize = function (x_pixels, y_pixels) {\n",
       "    // Request matplotlib to resize the figure. Matplotlib will then trigger a resize in the client,\n",
       "    // which will in turn request a refresh of the image.\n",
       "    this.send_message('resize', { width: x_pixels, height: y_pixels });\n",
       "};\n",
       "\n",
       "mpl.figure.prototype.send_message = function (type, properties) {\n",
       "    properties['type'] = type;\n",
       "    properties['figure_id'] = this.id;\n",
       "    this.ws.send(JSON.stringify(properties));\n",
       "};\n",
       "\n",
       "mpl.figure.prototype.send_draw_message = function () {\n",
       "    if (!this.waiting) {\n",
       "        this.waiting = true;\n",
       "        this.ws.send(JSON.stringify({ type: 'draw', figure_id: this.id }));\n",
       "    }\n",
       "};\n",
       "\n",
       "mpl.figure.prototype.handle_save = function (fig, _msg) {\n",
       "    var format_dropdown = fig.format_dropdown;\n",
       "    var format = format_dropdown.options[format_dropdown.selectedIndex].value;\n",
       "    fig.ondownload(fig, format);\n",
       "};\n",
       "\n",
       "mpl.figure.prototype.handle_resize = function (fig, msg) {\n",
       "    var size = msg['size'];\n",
       "    if (size[0] !== fig.canvas.width || size[1] !== fig.canvas.height) {\n",
       "        fig._resize_canvas(size[0], size[1], msg['forward']);\n",
       "        fig.send_message('refresh', {});\n",
       "    }\n",
       "};\n",
       "\n",
       "mpl.figure.prototype.handle_rubberband = function (fig, msg) {\n",
       "    var x0 = msg['x0'] / fig.ratio;\n",
       "    var y0 = (fig.canvas.height - msg['y0']) / fig.ratio;\n",
       "    var x1 = msg['x1'] / fig.ratio;\n",
       "    var y1 = (fig.canvas.height - msg['y1']) / fig.ratio;\n",
       "    x0 = Math.floor(x0) + 0.5;\n",
       "    y0 = Math.floor(y0) + 0.5;\n",
       "    x1 = Math.floor(x1) + 0.5;\n",
       "    y1 = Math.floor(y1) + 0.5;\n",
       "    var min_x = Math.min(x0, x1);\n",
       "    var min_y = Math.min(y0, y1);\n",
       "    var width = Math.abs(x1 - x0);\n",
       "    var height = Math.abs(y1 - y0);\n",
       "\n",
       "    fig.rubberband_context.clearRect(\n",
       "        0,\n",
       "        0,\n",
       "        fig.canvas.width / fig.ratio,\n",
       "        fig.canvas.height / fig.ratio\n",
       "    );\n",
       "\n",
       "    fig.rubberband_context.strokeRect(min_x, min_y, width, height);\n",
       "};\n",
       "\n",
       "mpl.figure.prototype.handle_figure_label = function (fig, msg) {\n",
       "    // Updates the figure title.\n",
       "    fig.header.textContent = msg['label'];\n",
       "};\n",
       "\n",
       "mpl.figure.prototype.handle_cursor = function (fig, msg) {\n",
       "    fig.rubberband_canvas.style.cursor = msg['cursor'];\n",
       "};\n",
       "\n",
       "mpl.figure.prototype.handle_message = function (fig, msg) {\n",
       "    fig.message.textContent = msg['message'];\n",
       "};\n",
       "\n",
       "mpl.figure.prototype.handle_draw = function (fig, _msg) {\n",
       "    // Request the server to send over a new figure.\n",
       "    fig.send_draw_message();\n",
       "};\n",
       "\n",
       "mpl.figure.prototype.handle_image_mode = function (fig, msg) {\n",
       "    fig.image_mode = msg['mode'];\n",
       "};\n",
       "\n",
       "mpl.figure.prototype.handle_history_buttons = function (fig, msg) {\n",
       "    for (var key in msg) {\n",
       "        if (!(key in fig.buttons)) {\n",
       "            continue;\n",
       "        }\n",
       "        fig.buttons[key].disabled = !msg[key];\n",
       "        fig.buttons[key].setAttribute('aria-disabled', !msg[key]);\n",
       "    }\n",
       "};\n",
       "\n",
       "mpl.figure.prototype.handle_navigate_mode = function (fig, msg) {\n",
       "    if (msg['mode'] === 'PAN') {\n",
       "        fig.buttons['Pan'].classList.add('active');\n",
       "        fig.buttons['Zoom'].classList.remove('active');\n",
       "    } else if (msg['mode'] === 'ZOOM') {\n",
       "        fig.buttons['Pan'].classList.remove('active');\n",
       "        fig.buttons['Zoom'].classList.add('active');\n",
       "    } else {\n",
       "        fig.buttons['Pan'].classList.remove('active');\n",
       "        fig.buttons['Zoom'].classList.remove('active');\n",
       "    }\n",
       "};\n",
       "\n",
       "mpl.figure.prototype.updated_canvas_event = function () {\n",
       "    // Called whenever the canvas gets updated.\n",
       "    this.send_message('ack', {});\n",
       "};\n",
       "\n",
       "// A function to construct a web socket function for onmessage handling.\n",
       "// Called in the figure constructor.\n",
       "mpl.figure.prototype._make_on_message_function = function (fig) {\n",
       "    return function socket_on_message(evt) {\n",
       "        if (evt.data instanceof Blob) {\n",
       "            var img = evt.data;\n",
       "            if (img.type !== 'image/png') {\n",
       "                /* FIXME: We get \"Resource interpreted as Image but\n",
       "                 * transferred with MIME type text/plain:\" errors on\n",
       "                 * Chrome.  But how to set the MIME type?  It doesn't seem\n",
       "                 * to be part of the websocket stream */\n",
       "                img.type = 'image/png';\n",
       "            }\n",
       "\n",
       "            /* Free the memory for the previous frames */\n",
       "            if (fig.imageObj.src) {\n",
       "                (window.URL || window.webkitURL).revokeObjectURL(\n",
       "                    fig.imageObj.src\n",
       "                );\n",
       "            }\n",
       "\n",
       "            fig.imageObj.src = (window.URL || window.webkitURL).createObjectURL(\n",
       "                img\n",
       "            );\n",
       "            fig.updated_canvas_event();\n",
       "            fig.waiting = false;\n",
       "            return;\n",
       "        } else if (\n",
       "            typeof evt.data === 'string' &&\n",
       "            evt.data.slice(0, 21) === 'data:image/png;base64'\n",
       "        ) {\n",
       "            fig.imageObj.src = evt.data;\n",
       "            fig.updated_canvas_event();\n",
       "            fig.waiting = false;\n",
       "            return;\n",
       "        }\n",
       "\n",
       "        var msg = JSON.parse(evt.data);\n",
       "        var msg_type = msg['type'];\n",
       "\n",
       "        // Call the  \"handle_{type}\" callback, which takes\n",
       "        // the figure and JSON message as its only arguments.\n",
       "        try {\n",
       "            var callback = fig['handle_' + msg_type];\n",
       "        } catch (e) {\n",
       "            console.log(\n",
       "                \"No handler for the '\" + msg_type + \"' message type: \",\n",
       "                msg\n",
       "            );\n",
       "            return;\n",
       "        }\n",
       "\n",
       "        if (callback) {\n",
       "            try {\n",
       "                // console.log(\"Handling '\" + msg_type + \"' message: \", msg);\n",
       "                callback(fig, msg);\n",
       "            } catch (e) {\n",
       "                console.log(\n",
       "                    \"Exception inside the 'handler_\" + msg_type + \"' callback:\",\n",
       "                    e,\n",
       "                    e.stack,\n",
       "                    msg\n",
       "                );\n",
       "            }\n",
       "        }\n",
       "    };\n",
       "};\n",
       "\n",
       "// from https://stackoverflow.com/questions/1114465/getting-mouse-location-in-canvas\n",
       "mpl.findpos = function (e) {\n",
       "    //this section is from http://www.quirksmode.org/js/events_properties.html\n",
       "    var targ;\n",
       "    if (!e) {\n",
       "        e = window.event;\n",
       "    }\n",
       "    if (e.target) {\n",
       "        targ = e.target;\n",
       "    } else if (e.srcElement) {\n",
       "        targ = e.srcElement;\n",
       "    }\n",
       "    if (targ.nodeType === 3) {\n",
       "        // defeat Safari bug\n",
       "        targ = targ.parentNode;\n",
       "    }\n",
       "\n",
       "    // pageX,Y are the mouse positions relative to the document\n",
       "    var boundingRect = targ.getBoundingClientRect();\n",
       "    var x = e.pageX - (boundingRect.left + document.body.scrollLeft);\n",
       "    var y = e.pageY - (boundingRect.top + document.body.scrollTop);\n",
       "\n",
       "    return { x: x, y: y };\n",
       "};\n",
       "\n",
       "/*\n",
       " * return a copy of an object with only non-object keys\n",
       " * we need this to avoid circular references\n",
       " * https://stackoverflow.com/a/24161582/3208463\n",
       " */\n",
       "function simpleKeys(original) {\n",
       "    return Object.keys(original).reduce(function (obj, key) {\n",
       "        if (typeof original[key] !== 'object') {\n",
       "            obj[key] = original[key];\n",
       "        }\n",
       "        return obj;\n",
       "    }, {});\n",
       "}\n",
       "\n",
       "mpl.figure.prototype.mouse_event = function (event, name) {\n",
       "    var canvas_pos = mpl.findpos(event);\n",
       "\n",
       "    if (name === 'button_press') {\n",
       "        this.canvas.focus();\n",
       "        this.canvas_div.focus();\n",
       "    }\n",
       "\n",
       "    var x = canvas_pos.x * this.ratio;\n",
       "    var y = canvas_pos.y * this.ratio;\n",
       "\n",
       "    this.send_message(name, {\n",
       "        x: x,\n",
       "        y: y,\n",
       "        button: event.button,\n",
       "        step: event.step,\n",
       "        guiEvent: simpleKeys(event),\n",
       "    });\n",
       "\n",
       "    /* This prevents the web browser from automatically changing to\n",
       "     * the text insertion cursor when the button is pressed.  We want\n",
       "     * to control all of the cursor setting manually through the\n",
       "     * 'cursor' event from matplotlib */\n",
       "    event.preventDefault();\n",
       "    return false;\n",
       "};\n",
       "\n",
       "mpl.figure.prototype._key_event_extra = function (_event, _name) {\n",
       "    // Handle any extra behaviour associated with a key event\n",
       "};\n",
       "\n",
       "mpl.figure.prototype.key_event = function (event, name) {\n",
       "    // Prevent repeat events\n",
       "    if (name === 'key_press') {\n",
       "        if (event.key === this._key) {\n",
       "            return;\n",
       "        } else {\n",
       "            this._key = event.key;\n",
       "        }\n",
       "    }\n",
       "    if (name === 'key_release') {\n",
       "        this._key = null;\n",
       "    }\n",
       "\n",
       "    var value = '';\n",
       "    if (event.ctrlKey && event.key !== 'Control') {\n",
       "        value += 'ctrl+';\n",
       "    }\n",
       "    else if (event.altKey && event.key !== 'Alt') {\n",
       "        value += 'alt+';\n",
       "    }\n",
       "    else if (event.shiftKey && event.key !== 'Shift') {\n",
       "        value += 'shift+';\n",
       "    }\n",
       "\n",
       "    value += 'k' + event.key;\n",
       "\n",
       "    this._key_event_extra(event, name);\n",
       "\n",
       "    this.send_message(name, { key: value, guiEvent: simpleKeys(event) });\n",
       "    return false;\n",
       "};\n",
       "\n",
       "mpl.figure.prototype.toolbar_button_onclick = function (name) {\n",
       "    if (name === 'download') {\n",
       "        this.handle_save(this, null);\n",
       "    } else {\n",
       "        this.send_message('toolbar_button', { name: name });\n",
       "    }\n",
       "};\n",
       "\n",
       "mpl.figure.prototype.toolbar_button_onmouseover = function (tooltip) {\n",
       "    this.message.textContent = tooltip;\n",
       "};\n",
       "\n",
       "///////////////// REMAINING CONTENT GENERATED BY embed_js.py /////////////////\n",
       "// prettier-ignore\n",
       "var _JSXTOOLS_RESIZE_OBSERVER=function(A){var t,i=new WeakMap,n=new WeakMap,a=new WeakMap,r=new WeakMap,o=new Set;function s(e){if(!(this instanceof s))throw new TypeError(\"Constructor requires 'new' operator\");i.set(this,e)}function h(){throw new TypeError(\"Function is not a constructor\")}function c(e,t,i,n){e=0 in arguments?Number(arguments[0]):0,t=1 in arguments?Number(arguments[1]):0,i=2 in arguments?Number(arguments[2]):0,n=3 in arguments?Number(arguments[3]):0,this.right=(this.x=this.left=e)+(this.width=i),this.bottom=(this.y=this.top=t)+(this.height=n),Object.freeze(this)}function d(){t=requestAnimationFrame(d);var s=new WeakMap,p=new Set;o.forEach((function(t){r.get(t).forEach((function(i){var r=t instanceof window.SVGElement,o=a.get(t),d=r?0:parseFloat(o.paddingTop),f=r?0:parseFloat(o.paddingRight),l=r?0:parseFloat(o.paddingBottom),u=r?0:parseFloat(o.paddingLeft),g=r?0:parseFloat(o.borderTopWidth),m=r?0:parseFloat(o.borderRightWidth),w=r?0:parseFloat(o.borderBottomWidth),b=u+f,F=d+l,v=(r?0:parseFloat(o.borderLeftWidth))+m,W=g+w,y=r?0:t.offsetHeight-W-t.clientHeight,E=r?0:t.offsetWidth-v-t.clientWidth,R=b+v,z=F+W,M=r?t.width:parseFloat(o.width)-R-E,O=r?t.height:parseFloat(o.height)-z-y;if(n.has(t)){var k=n.get(t);if(k[0]===M&&k[1]===O)return}n.set(t,[M,O]);var S=Object.create(h.prototype);S.target=t,S.contentRect=new c(u,d,M,O),s.has(i)||(s.set(i,[]),p.add(i)),s.get(i).push(S)}))})),p.forEach((function(e){i.get(e).call(e,s.get(e),e)}))}return s.prototype.observe=function(i){if(i instanceof window.Element){r.has(i)||(r.set(i,new Set),o.add(i),a.set(i,window.getComputedStyle(i)));var n=r.get(i);n.has(this)||n.add(this),cancelAnimationFrame(t),t=requestAnimationFrame(d)}},s.prototype.unobserve=function(i){if(i instanceof window.Element&&r.has(i)){var n=r.get(i);n.has(this)&&(n.delete(this),n.size||(r.delete(i),o.delete(i))),n.size||r.delete(i),o.size||cancelAnimationFrame(t)}},A.DOMRectReadOnly=c,A.ResizeObserver=s,A.ResizeObserverEntry=h,A}; // eslint-disable-line\n",
       "mpl.toolbar_items = [[\"Home\", \"Reset original view\", \"fa fa-home icon-home\", \"home\"], [\"Back\", \"Back to previous view\", \"fa fa-arrow-left icon-arrow-left\", \"back\"], [\"Forward\", \"Forward to next view\", \"fa fa-arrow-right icon-arrow-right\", \"forward\"], [\"\", \"\", \"\", \"\"], [\"Pan\", \"Left button pans, Right button zooms\\nx/y fixes axis, CTRL fixes aspect\", \"fa fa-arrows icon-move\", \"pan\"], [\"Zoom\", \"Zoom to rectangle\\nx/y fixes axis\", \"fa fa-square-o icon-check-empty\", \"zoom\"], [\"\", \"\", \"\", \"\"], [\"Download\", \"Download plot\", \"fa fa-floppy-o icon-save\", \"download\"]];\n",
       "\n",
       "mpl.extensions = [\"eps\", \"jpeg\", \"pgf\", \"pdf\", \"png\", \"ps\", \"raw\", \"svg\", \"tif\"];\n",
       "\n",
       "mpl.default_extension = \"png\";/* global mpl */\n",
       "\n",
       "var comm_websocket_adapter = function (comm) {\n",
       "    // Create a \"websocket\"-like object which calls the given IPython comm\n",
       "    // object with the appropriate methods. Currently this is a non binary\n",
       "    // socket, so there is still some room for performance tuning.\n",
       "    var ws = {};\n",
       "\n",
       "    ws.binaryType = comm.kernel.ws.binaryType;\n",
       "    ws.readyState = comm.kernel.ws.readyState;\n",
       "    function updateReadyState(_event) {\n",
       "        if (comm.kernel.ws) {\n",
       "            ws.readyState = comm.kernel.ws.readyState;\n",
       "        } else {\n",
       "            ws.readyState = 3; // Closed state.\n",
       "        }\n",
       "    }\n",
       "    comm.kernel.ws.addEventListener('open', updateReadyState);\n",
       "    comm.kernel.ws.addEventListener('close', updateReadyState);\n",
       "    comm.kernel.ws.addEventListener('error', updateReadyState);\n",
       "\n",
       "    ws.close = function () {\n",
       "        comm.close();\n",
       "    };\n",
       "    ws.send = function (m) {\n",
       "        //console.log('sending', m);\n",
       "        comm.send(m);\n",
       "    };\n",
       "    // Register the callback with on_msg.\n",
       "    comm.on_msg(function (msg) {\n",
       "        //console.log('receiving', msg['content']['data'], msg);\n",
       "        var data = msg['content']['data'];\n",
       "        if (data['blob'] !== undefined) {\n",
       "            data = {\n",
       "                data: new Blob(msg['buffers'], { type: data['blob'] }),\n",
       "            };\n",
       "        }\n",
       "        // Pass the mpl event to the overridden (by mpl) onmessage function.\n",
       "        ws.onmessage(data);\n",
       "    });\n",
       "    return ws;\n",
       "};\n",
       "\n",
       "mpl.mpl_figure_comm = function (comm, msg) {\n",
       "    // This is the function which gets called when the mpl process\n",
       "    // starts-up an IPython Comm through the \"matplotlib\" channel.\n",
       "\n",
       "    var id = msg.content.data.id;\n",
       "    // Get hold of the div created by the display call when the Comm\n",
       "    // socket was opened in Python.\n",
       "    var element = document.getElementById(id);\n",
       "    var ws_proxy = comm_websocket_adapter(comm);\n",
       "\n",
       "    function ondownload(figure, _format) {\n",
       "        window.open(figure.canvas.toDataURL());\n",
       "    }\n",
       "\n",
       "    var fig = new mpl.figure(id, ws_proxy, ondownload, element);\n",
       "\n",
       "    // Call onopen now - mpl needs it, as it is assuming we've passed it a real\n",
       "    // web socket which is closed, not our websocket->open comm proxy.\n",
       "    ws_proxy.onopen();\n",
       "\n",
       "    fig.parent_element = element;\n",
       "    fig.cell_info = mpl.find_output_cell(\"<div id='\" + id + \"'></div>\");\n",
       "    if (!fig.cell_info) {\n",
       "        console.error('Failed to find cell for figure', id, fig);\n",
       "        return;\n",
       "    }\n",
       "    fig.cell_info[0].output_area.element.on(\n",
       "        'cleared',\n",
       "        { fig: fig },\n",
       "        fig._remove_fig_handler\n",
       "    );\n",
       "};\n",
       "\n",
       "mpl.figure.prototype.handle_close = function (fig, msg) {\n",
       "    var width = fig.canvas.width / fig.ratio;\n",
       "    fig.cell_info[0].output_area.element.off(\n",
       "        'cleared',\n",
       "        fig._remove_fig_handler\n",
       "    );\n",
       "    fig.resizeObserverInstance.unobserve(fig.canvas_div);\n",
       "\n",
       "    // Update the output cell to use the data from the current canvas.\n",
       "    fig.push_to_output();\n",
       "    var dataURL = fig.canvas.toDataURL();\n",
       "    // Re-enable the keyboard manager in IPython - without this line, in FF,\n",
       "    // the notebook keyboard shortcuts fail.\n",
       "    IPython.keyboard_manager.enable();\n",
       "    fig.parent_element.innerHTML =\n",
       "        '<img src=\"' + dataURL + '\" width=\"' + width + '\">';\n",
       "    fig.close_ws(fig, msg);\n",
       "};\n",
       "\n",
       "mpl.figure.prototype.close_ws = function (fig, msg) {\n",
       "    fig.send_message('closing', msg);\n",
       "    // fig.ws.close()\n",
       "};\n",
       "\n",
       "mpl.figure.prototype.push_to_output = function (_remove_interactive) {\n",
       "    // Turn the data on the canvas into data in the output cell.\n",
       "    var width = this.canvas.width / this.ratio;\n",
       "    var dataURL = this.canvas.toDataURL();\n",
       "    this.cell_info[1]['text/html'] =\n",
       "        '<img src=\"' + dataURL + '\" width=\"' + width + '\">';\n",
       "};\n",
       "\n",
       "mpl.figure.prototype.updated_canvas_event = function () {\n",
       "    // Tell IPython that the notebook contents must change.\n",
       "    IPython.notebook.set_dirty(true);\n",
       "    this.send_message('ack', {});\n",
       "    var fig = this;\n",
       "    // Wait a second, then push the new image to the DOM so\n",
       "    // that it is saved nicely (might be nice to debounce this).\n",
       "    setTimeout(function () {\n",
       "        fig.push_to_output();\n",
       "    }, 1000);\n",
       "};\n",
       "\n",
       "mpl.figure.prototype._init_toolbar = function () {\n",
       "    var fig = this;\n",
       "\n",
       "    var toolbar = document.createElement('div');\n",
       "    toolbar.classList = 'btn-toolbar';\n",
       "    this.root.appendChild(toolbar);\n",
       "\n",
       "    function on_click_closure(name) {\n",
       "        return function (_event) {\n",
       "            return fig.toolbar_button_onclick(name);\n",
       "        };\n",
       "    }\n",
       "\n",
       "    function on_mouseover_closure(tooltip) {\n",
       "        return function (event) {\n",
       "            if (!event.currentTarget.disabled) {\n",
       "                return fig.toolbar_button_onmouseover(tooltip);\n",
       "            }\n",
       "        };\n",
       "    }\n",
       "\n",
       "    fig.buttons = {};\n",
       "    var buttonGroup = document.createElement('div');\n",
       "    buttonGroup.classList = 'btn-group';\n",
       "    var button;\n",
       "    for (var toolbar_ind in mpl.toolbar_items) {\n",
       "        var name = mpl.toolbar_items[toolbar_ind][0];\n",
       "        var tooltip = mpl.toolbar_items[toolbar_ind][1];\n",
       "        var image = mpl.toolbar_items[toolbar_ind][2];\n",
       "        var method_name = mpl.toolbar_items[toolbar_ind][3];\n",
       "\n",
       "        if (!name) {\n",
       "            /* Instead of a spacer, we start a new button group. */\n",
       "            if (buttonGroup.hasChildNodes()) {\n",
       "                toolbar.appendChild(buttonGroup);\n",
       "            }\n",
       "            buttonGroup = document.createElement('div');\n",
       "            buttonGroup.classList = 'btn-group';\n",
       "            continue;\n",
       "        }\n",
       "\n",
       "        button = fig.buttons[name] = document.createElement('button');\n",
       "        button.classList = 'btn btn-default';\n",
       "        button.href = '#';\n",
       "        button.title = name;\n",
       "        button.innerHTML = '<i class=\"fa ' + image + ' fa-lg\"></i>';\n",
       "        button.addEventListener('click', on_click_closure(method_name));\n",
       "        button.addEventListener('mouseover', on_mouseover_closure(tooltip));\n",
       "        buttonGroup.appendChild(button);\n",
       "    }\n",
       "\n",
       "    if (buttonGroup.hasChildNodes()) {\n",
       "        toolbar.appendChild(buttonGroup);\n",
       "    }\n",
       "\n",
       "    // Add the status bar.\n",
       "    var status_bar = document.createElement('span');\n",
       "    status_bar.classList = 'mpl-message pull-right';\n",
       "    toolbar.appendChild(status_bar);\n",
       "    this.message = status_bar;\n",
       "\n",
       "    // Add the close button to the window.\n",
       "    var buttongrp = document.createElement('div');\n",
       "    buttongrp.classList = 'btn-group inline pull-right';\n",
       "    button = document.createElement('button');\n",
       "    button.classList = 'btn btn-mini btn-primary';\n",
       "    button.href = '#';\n",
       "    button.title = 'Stop Interaction';\n",
       "    button.innerHTML = '<i class=\"fa fa-power-off icon-remove icon-large\"></i>';\n",
       "    button.addEventListener('click', function (_evt) {\n",
       "        fig.handle_close(fig, {});\n",
       "    });\n",
       "    button.addEventListener(\n",
       "        'mouseover',\n",
       "        on_mouseover_closure('Stop Interaction')\n",
       "    );\n",
       "    buttongrp.appendChild(button);\n",
       "    var titlebar = this.root.querySelector('.ui-dialog-titlebar');\n",
       "    titlebar.insertBefore(buttongrp, titlebar.firstChild);\n",
       "};\n",
       "\n",
       "mpl.figure.prototype._remove_fig_handler = function (event) {\n",
       "    var fig = event.data.fig;\n",
       "    if (event.target !== this) {\n",
       "        // Ignore bubbled events from children.\n",
       "        return;\n",
       "    }\n",
       "    fig.close_ws(fig, {});\n",
       "};\n",
       "\n",
       "mpl.figure.prototype._root_extra_style = function (el) {\n",
       "    el.style.boxSizing = 'content-box'; // override notebook setting of border-box.\n",
       "};\n",
       "\n",
       "mpl.figure.prototype._canvas_extra_style = function (el) {\n",
       "    // this is important to make the div 'focusable\n",
       "    el.setAttribute('tabindex', 0);\n",
       "    // reach out to IPython and tell the keyboard manager to turn it's self\n",
       "    // off when our div gets focus\n",
       "\n",
       "    // location in version 3\n",
       "    if (IPython.notebook.keyboard_manager) {\n",
       "        IPython.notebook.keyboard_manager.register_events(el);\n",
       "    } else {\n",
       "        // location in version 2\n",
       "        IPython.keyboard_manager.register_events(el);\n",
       "    }\n",
       "};\n",
       "\n",
       "mpl.figure.prototype._key_event_extra = function (event, _name) {\n",
       "    // Check for shift+enter\n",
       "    if (event.shiftKey && event.which === 13) {\n",
       "        this.canvas_div.blur();\n",
       "        // select the cell after this one\n",
       "        var index = IPython.notebook.find_cell_index(this.cell_info[0]);\n",
       "        IPython.notebook.select(index + 1);\n",
       "    }\n",
       "};\n",
       "\n",
       "mpl.figure.prototype.handle_save = function (fig, _msg) {\n",
       "    fig.ondownload(fig, null);\n",
       "};\n",
       "\n",
       "mpl.find_output_cell = function (html_output) {\n",
       "    // Return the cell and output element which can be found *uniquely* in the notebook.\n",
       "    // Note - this is a bit hacky, but it is done because the \"notebook_saving.Notebook\"\n",
       "    // IPython event is triggered only after the cells have been serialised, which for\n",
       "    // our purposes (turning an active figure into a static one), is too late.\n",
       "    var cells = IPython.notebook.get_cells();\n",
       "    var ncells = cells.length;\n",
       "    for (var i = 0; i < ncells; i++) {\n",
       "        var cell = cells[i];\n",
       "        if (cell.cell_type === 'code') {\n",
       "            for (var j = 0; j < cell.output_area.outputs.length; j++) {\n",
       "                var data = cell.output_area.outputs[j];\n",
       "                if (data.data) {\n",
       "                    // IPython >= 3 moved mimebundle to data attribute of output\n",
       "                    data = data.data;\n",
       "                }\n",
       "                if (data['text/html'] === html_output) {\n",
       "                    return [cell, data, j];\n",
       "                }\n",
       "            }\n",
       "        }\n",
       "    }\n",
       "};\n",
       "\n",
       "// Register the function which deals with the matplotlib target/channel.\n",
       "// The kernel may be null if the page has been refreshed.\n",
       "if (IPython.notebook.kernel !== null) {\n",
       "    IPython.notebook.kernel.comm_manager.register_target(\n",
       "        'matplotlib',\n",
       "        mpl.mpl_figure_comm\n",
       "    );\n",
       "}\n"
      ],
      "text/plain": [
       "<IPython.core.display.Javascript object>"
      ]
     },
     "metadata": {},
     "output_type": "display_data"
    },
    {
     "data": {
      "text/html": [
       "<img src=\"data:image/png;base64,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\" width=\"1036\">"
      ],
      "text/plain": [
       "<IPython.core.display.HTML object>"
      ]
     },
     "metadata": {},
     "output_type": "display_data"
    },
    {
     "name": "stderr",
     "output_type": "stream",
     "text": [
      "/tmp/ipykernel_9427/2665746901.py:42: UserWarning: You have mixed positional and keyword arguments, some input may be discarded.\n",
      "  fig.legend([line,z], labels = [\"Predicted\", \"True\"], loc = \"lower center\")\n",
      "Epoch: 2094:  21%|████████████████████▌                                                                             | 2094/10000 [1:39:52<6:17:06,  2.86s/it, lowest_loss=0.00973, pred_loss=8.78e-5, trigger=1000]"
     ]
    },
    {
     "name": "stdout",
     "output_type": "stream",
     "text": [
      "Implemented early stopping with lowest_loss: 0.009727725368105006\n"
     ]
    },
    {
     "name": "stderr",
     "output_type": "stream",
     "text": [
      "\n"
     ]
    }
   ],
   "source": [
    "n_epochs = 10000\n",
    "lr_model = 0.001\n",
    "lr_alignment = 0.01\n",
    "\n",
    "# if self.opt == \"Adam\":\n",
    "opt_model = torch.optim.Adam(model1.parameters(), lr = lr_model, weight_decay = 0)\n",
    "opt_alignment = torch.optim.Adam([soap_dataset.alignment], lr = lr_alignment, weight_decay = 0)\n",
    "# if valdata_loader is not None:\n",
    "#     threshold = 1000\n",
    "#     scheduler_threshold = 100\n",
    "# else:\n",
    "threshold = 1000\n",
    "scheduler_threshold = 100\n",
    "tol = 1e-4\n",
    "# if self.opt == \"LBFGS\":\n",
    "#     opt = torch.optim.LBFGS(self.parameters(), lr = lr, line_search_fn = \"strong_wolfe\")\n",
    "#     if valdata_loader is not None:\n",
    "#         threshold = 2000\n",
    "#         scheduler_threshold = 2000\n",
    "#     else:\n",
    "#         threshold = 30\n",
    "#         scheduler_threshold = 5\n",
    "#     tol = 1e-4\n",
    "scheduler_model = torch.optim.lr_scheduler.ReduceLROnPlateau(opt_model, factor = 0.1, patience = scheduler_threshold)#0.5)\n",
    "scheduler_alignment = torch.optim.lr_scheduler.ReduceLROnPlateau(opt_alignment, factor = 0.1, patience = scheduler_threshold)\n",
    "best_state = copy.deepcopy(model1.state_dict())\n",
    "lowest_loss = torch.tensor(9999)\n",
    "pred_loss = torch.tensor(0)\n",
    "trigger = 0\n",
    "loss_history =[]\n",
    "pbar = tqdm(range(n_epochs))\n",
    "\n",
    "fig, ax_list = plt.subplots(4,2)\n",
    "ax_list = ax_list.flatten()\n",
    "lines = []\n",
    "critical_indexes = np.arange(8)\n",
    "#critical_indexes = np.array([369, 341, 745, 521, 278, 5, 193, 37])\n",
    "for i in range(len(critical_indexes)):\n",
    "    line, = ax_list[i].plot(model1.xdos.cpu(), reconstructed_ldos_t[train_index[critical_indexes[i]]], label = \"Prediction\")\n",
    "    lines.append(line)\n",
    "    z = ax_list[i].plot(model1.xdos.cpu(), reconstructed_ldos_t[train_index[critical_indexes[i]]], label = \"True\")\n",
    "fig.legend([line,z], labels = [\"Predicted\", \"True\"], loc = \"lower center\")\n",
    "for epoch in pbar:\n",
    "    total_error = 0\n",
    "    pbar.set_description(f\"Epoch: {epoch}\")\n",
    "#     if valdata_loader is not None:\n",
    "#         pbar.set_postfix(val_loss = lowest_loss.item(), trigger = trigger, train_loss = pred_loss.item())\n",
    "#     else:\n",
    "    pbar.set_postfix(pred_loss = pred_loss.item(), lowest_loss = lowest_loss.item(), trigger = trigger)\n",
    "\n",
    "    for x_data, y_data in soap_dataloader:\n",
    "        opt_model.zero_grad()\n",
    "        opt_alignment.zero_grad()\n",
    "        x_data, y_data = x_data.to(model1.device), y_data.to(model1.device)\n",
    "#         if self.opt == \"LBFGS\":\n",
    "#             def closure(predictions = False):\n",
    "#                 \"\"\"\n",
    "#                 Function is necessary for LBFGS, returns the total loss of the model\n",
    "\n",
    "#                 Args:\n",
    "#                     predictions (bool, optional): Returns prediction loss if true, returns total loss if False\n",
    "\n",
    "#                 Returns:\n",
    "#                     tensor: Loss\n",
    "#                 \"\"\"\n",
    "#                 opt.zero_grad()\n",
    "#                 _pred = self.forward(x_data)\n",
    "#                 _pred_loss = t_get_mse(_pred, y_data)#, self.xdos), perc = True)       \n",
    "#                 _pred_loss *= 1e7\n",
    "#                 #self.alignment = (self.alignment - 20) * (self.xdos[1] - self.xdos[0])\n",
    "#                 _pred_loss = torch.nan_to_num(_pred_loss, nan=lowest_loss.item(), posinf = lowest_loss.item(), neginf = lowest_loss.item())                 \n",
    "#                 _reg_loss = torch.sum(torch.pow(self.linear.weight,2))\n",
    "#                 _reg_loss *= self.reg.item()\n",
    "#                 _new_loss = _pred_loss + _reg_loss\n",
    "#                 _new_loss.backward()\n",
    "#                 # global z \n",
    "#                 # z = (torch.sum(abs(self.linear.weight.grad)))\n",
    "#                 if predictions:\n",
    "#                     return _pred_loss\n",
    "#                 return _new_loss\n",
    "#             opt.step(closure)\n",
    "#             #print (z)\n",
    "#             with torch.no_grad():\n",
    "#                 pred = self.forward(x_data)\n",
    "#                 pred_loss = t_get_rmse(pred, y_data)\n",
    "#                 reg_loss = torch.sum(torch.pow(self.linear.weight,2))\n",
    "#                 reg_loss *= self.reg.item()\n",
    "#                 new_loss = pred_loss + reg_loss\n",
    "#             if pred_loss >100000 or (pred_loss.isnan().any()) :\n",
    "#                 print (\"Optimizer shows weird behaviour, reinitializing at previous best_State\")\n",
    "#                 self.load_state_dict(best_state)\n",
    "#                 opt = torch.optim.LBFGS(self.parameters(), lr = lr)\n",
    "#             if epoch %10 == 1:\n",
    "#                 loss_history.append(lowest_loss.item())\n",
    "#         elif self.opt == \"Adam\":\n",
    "        pred = model1.forward(x_data)\n",
    "\n",
    "    \n",
    "        pred_loss = loss.t_get_mse(pred, y_data)#, self.xdos, perc = True)\n",
    "        total_error += pred_loss\n",
    "        new_loss = 1E7 * pred_loss\n",
    "        new_loss.backward()\n",
    "        opt_model.step()\n",
    "        opt_alignment.step()\n",
    "        if pred_loss >100000 or (pred_loss.isnan().any()) :\n",
    "            print (\"Optimizer shows weird behaviour, reinitializing at previous best_State\")\n",
    "            model1.load_state_dict(best_state)\n",
    "            opt = torch.optim.Adam(model1.parameters(), lr = lr, weight_decay = 0)\n",
    "\n",
    "    with torch.no_grad():\n",
    "        critical_pred = model1.forward(soap_dataset.X[critical_indexes])\n",
    "        new_loss = total_error\n",
    "        scheduler_model.step(new_loss)\n",
    "        scheduler_alignment.step(new_loss)\n",
    "        if lowest_loss - new_loss > tol: #threshold to stop training\n",
    "            best_state = copy.deepcopy(model1.state_dict())\n",
    "            lowest_loss = new_loss\n",
    "            trigger = 0\n",
    "        else:\n",
    "            trigger +=1\n",
    "        if epoch %1000 == 1:\n",
    "            loss_history.append(lowest_loss.item())\n",
    "        for i in range(len(critical_indexes)):\n",
    "            lines[i].set_ydata(critical_pred[i].detach().numpy())\n",
    "        fig.suptitle(\"Epochs: {}, Pred loss: {}, Lowest loss:{}, Trigger: {}\".format(epoch, new_loss.item(), lowest_loss.item(), trigger))\n",
    "        fig.canvas.draw()\n",
    "        fig.canvas.flush_events()\n",
    "\n",
    "        if trigger > threshold:\n",
    "            model1.load_state_dict(best_state)\n",
    "            print (\"Implemented early stopping with lowest_loss: {}\".format(lowest_loss))\n",
    "            break\n"
   ]
  },
  {
   "cell_type": "code",
   "execution_count": null,
   "id": "a389bf66",
   "metadata": {
    "ExecuteTime": {
     "end_time": "2023-02-22T16:46:45.803205Z",
     "start_time": "2023-02-22T16:46:45.803187Z"
    }
   },
   "outputs": [],
   "source": [
    "# torch.save(model1.state_dict(), \"./DynamicAdam.pt\")"
   ]
  },
  {
   "cell_type": "code",
   "execution_count": null,
   "id": "ea9ea059",
   "metadata": {
    "ExecuteTime": {
     "end_time": "2023-02-22T16:46:45.805129Z",
     "start_time": "2023-02-22T16:46:45.805112Z"
    }
   },
   "outputs": [],
   "source": [
    "# torch.save(soap_dataset.alignment, \"./DynamicAdam_trainalignment\")"
   ]
  },
  {
   "cell_type": "code",
   "execution_count": 158,
   "id": "06c098c0",
   "metadata": {
    "ExecuteTime": {
     "end_time": "2023-02-24T11:27:02.322413Z",
     "start_time": "2023-02-24T11:27:02.315683Z"
    }
   },
   "outputs": [],
   "source": [
    "old_alignment = torch.load(\"./DynamicAdam_trainalignment\")"
   ]
  },
  {
   "cell_type": "code",
   "execution_count": 18,
   "id": "ad183943",
   "metadata": {
    "ExecuteTime": {
     "end_time": "2023-02-22T16:46:59.731556Z",
     "start_time": "2023-02-22T16:46:59.724395Z"
    }
   },
   "outputs": [
    {
     "data": {
      "text/plain": [
       "<module 'dostools.loss.loss' from '/home/how/dostools/src/dostools/loss/loss.py'>"
      ]
     },
     "execution_count": 18,
     "metadata": {},
     "output_type": "execute_result"
    }
   ],
   "source": [
    "import dostools.loss.loss as loss\n",
    "importlib.reload(loss)\n",
    "#t_get_BF_shift_index_error\n",
    "# importlib.reload(loss)\n",
    "# with torch.no_grad():\n",
    "#     shift_range = torch.tensor([0.05 * a for a in torch.arange(-5,5)])\n",
    "#     #shift_range = torch.tensor([0])\n",
    "#     a = loss.t_get_BF_shift_rmse(reconstructed_ldos_t, ldos, shift_range, xdos, perc = True)\n",
    "#     print (a)"
   ]
  },
  {
   "cell_type": "code",
   "execution_count": 23,
   "id": "6eeb32ca",
   "metadata": {
    "ExecuteTime": {
     "end_time": "2023-02-22T16:47:40.497969Z",
     "start_time": "2023-02-22T16:47:36.538364Z"
    }
   },
   "outputs": [],
   "source": [
    "_, new_dos = soap_dataset[:]"
   ]
  },
  {
   "cell_type": "code",
   "execution_count": 28,
   "id": "3bf8c271",
   "metadata": {
    "ExecuteTime": {
     "end_time": "2023-02-22T16:48:12.026545Z",
     "start_time": "2023-02-22T16:48:03.018889Z"
    }
   },
   "outputs": [],
   "source": [
    "with torch.no_grad():\n",
    "    shift_range = torch.tensor([0.05 * a for a in torch.arange(-30,30)])\n",
    "    Total_preds = model1.forward(Silicon.Features['structure_avedescriptors'])\n",
    "    train_loss, train_indexes = loss.t_get_BF_shift_index_error(Total_preds[train_index], ldos[train_index], shift_range, xdos, perc = False)\n",
    "    test_loss, test_indexes = loss.t_get_BF_shift_index_error(Total_preds[test_index], ldos[test_index], shift_range, xdos, perc = False)\n",
    "    total_loss, total_indexes = loss.t_get_BF_shift_index_error(Total_preds, ldos, shift_range, xdos, perc = False)"
   ]
  },
  {
   "cell_type": "code",
   "execution_count": 29,
   "id": "39e6979f",
   "metadata": {
    "ExecuteTime": {
     "end_time": "2023-02-22T16:48:21.649750Z",
     "start_time": "2023-02-22T16:48:12.028996Z"
    }
   },
   "outputs": [],
   "source": [
    "with torch.no_grad():\n",
    "    shift_range = torch.tensor([0.05 * a for a in torch.arange(-30,30)])\n",
    "    Total_preds = model1.forward(Silicon.Features['structure_avedescriptors'])\n",
    "    atrain_loss, atrain_indexes = loss.t_get_BF_shift_index_error(Total_preds[train_index], ldos[train_index], shift_range, xdos, perc = True)\n",
    "    atest_loss, atest_indexes = loss.t_get_BF_shift_index_error(Total_preds[test_index], ldos[test_index], shift_range, xdos, perc = True)\n",
    "    atotal_loss, atotal_indexes = loss.t_get_BF_shift_index_error(Total_preds, ldos, shift_range, xdos, perc = True)"
   ]
  },
  {
   "cell_type": "code",
   "execution_count": 21,
   "id": "56917679",
   "metadata": {
    "ExecuteTime": {
     "end_time": "2023-02-22T16:47:21.617393Z",
     "start_time": "2023-02-22T16:47:18.298168Z"
    }
   },
   "outputs": [],
   "source": [
    "train_loss_abs, train_indexes_abs = loss.t_get_BF_shift_index_error(Total_preds[train_index], ldos[train_index], shift_range, xdos, perc = False)"
   ]
  },
  {
   "cell_type": "code",
   "execution_count": 30,
   "id": "b02aef6b",
   "metadata": {
    "ExecuteTime": {
     "end_time": "2023-02-22T16:48:24.158864Z",
     "start_time": "2023-02-22T16:48:24.139333Z"
    }
   },
   "outputs": [
    {
     "name": "stdout",
     "output_type": "stream",
     "text": [
      "tensor(0.0541, grad_fn=<SqrtBackward0>)\n"
     ]
    }
   ],
   "source": [
    "z = loss.t_get_rmse(Total_preds[train_index], new_dos, xdos, perc = False)\n",
    "print (z)"
   ]
  },
  {
   "cell_type": "code",
   "execution_count": 31,
   "id": "92901e0f",
   "metadata": {
    "ExecuteTime": {
     "end_time": "2023-02-22T16:48:25.101632Z",
     "start_time": "2023-02-22T16:48:25.092940Z"
    }
   },
   "outputs": [
    {
     "name": "stdout",
     "output_type": "stream",
     "text": [
      "tensor(0.1019)\n"
     ]
    }
   ],
   "source": [
    "z = loss.t_get_rmse(Total_preds[train_index], ldos[train_index], xdos, perc = False)\n",
    "print (z)"
   ]
  },
  {
   "cell_type": "code",
   "execution_count": 32,
   "id": "57e4b09c",
   "metadata": {
    "ExecuteTime": {
     "end_time": "2023-02-22T16:48:26.600812Z",
     "start_time": "2023-02-22T16:48:26.593808Z"
    }
   },
   "outputs": [
    {
     "data": {
      "text/plain": [
       "tensor(0.0559)"
      ]
     },
     "execution_count": 32,
     "metadata": {},
     "output_type": "execute_result"
    }
   ],
   "source": [
    "train_loss"
   ]
  },
  {
   "cell_type": "code",
   "execution_count": 33,
   "id": "335e90ab",
   "metadata": {
    "ExecuteTime": {
     "end_time": "2023-02-22T16:48:27.711959Z",
     "start_time": "2023-02-22T16:48:27.688450Z"
    }
   },
   "outputs": [],
   "source": [
    "mldos = ldos[train_index].mean(axis = 0)\n",
    "std_train = torch.sqrt((torch.trapezoid((ldos[train_index] - mldos)**2, xdos, axis=1)).mean())\n",
    "mldos = ldos[test_index].mean(axis = 0)\n",
    "std_test = torch.sqrt((torch.trapezoid((ldos[test_index] - mldos)**2, xdos, axis=1)).mean())\n",
    "mldos = ldos.mean(axis = 0)\n",
    "std_all = torch.sqrt((torch.trapezoid((ldos - mldos)**2, xdos, axis=1)).mean())"
   ]
  },
  {
   "cell_type": "code",
   "execution_count": 34,
   "id": "5f7e76be",
   "metadata": {
    "ExecuteTime": {
     "end_time": "2023-02-22T16:48:28.120404Z",
     "start_time": "2023-02-22T16:48:28.114134Z"
    }
   },
   "outputs": [
    {
     "data": {
      "text/plain": [
       "tensor(0.0559)"
      ]
     },
     "execution_count": 34,
     "metadata": {},
     "output_type": "execute_result"
    }
   ],
   "source": [
    "train_loss"
   ]
  },
  {
   "cell_type": "code",
   "execution_count": 35,
   "id": "c295cc1c",
   "metadata": {
    "ExecuteTime": {
     "end_time": "2023-02-22T16:48:28.531781Z",
     "start_time": "2023-02-22T16:48:28.526304Z"
    }
   },
   "outputs": [
    {
     "data": {
      "text/plain": [
       "tensor(0.0559)"
      ]
     },
     "execution_count": 35,
     "metadata": {},
     "output_type": "execute_result"
    }
   ],
   "source": [
    "train_loss"
   ]
  },
  {
   "cell_type": "code",
   "execution_count": 36,
   "id": "4bd442cb",
   "metadata": {
    "ExecuteTime": {
     "end_time": "2023-02-22T16:48:29.235449Z",
     "start_time": "2023-02-22T16:48:29.228342Z"
    }
   },
   "outputs": [
    {
     "data": {
      "text/plain": [
       "tensor(9.5086)"
      ]
     },
     "execution_count": 36,
     "metadata": {},
     "output_type": "execute_result"
    }
   ],
   "source": [
    "100 * train_loss / std_train"
   ]
  },
  {
   "cell_type": "code",
   "execution_count": 37,
   "id": "c79a9377",
   "metadata": {
    "ExecuteTime": {
     "end_time": "2023-02-22T16:48:31.790964Z",
     "start_time": "2023-02-22T16:48:31.786409Z"
    }
   },
   "outputs": [
    {
     "data": {
      "text/plain": [
       "tensor(9.5086)"
      ]
     },
     "execution_count": 37,
     "metadata": {},
     "output_type": "execute_result"
    }
   ],
   "source": [
    "atrain_loss"
   ]
  },
  {
   "cell_type": "code",
   "execution_count": 38,
   "id": "3b74732b",
   "metadata": {
    "ExecuteTime": {
     "end_time": "2023-02-22T16:48:32.282170Z",
     "start_time": "2023-02-22T16:48:32.269348Z"
    }
   },
   "outputs": [
    {
     "data": {
      "text/plain": [
       "tensor([  5.0000,  -1.0000,  -4.0000,  -1.0000,   1.0000,  -4.0000,   0.0000,\n",
       "          2.0000,  -1.0000,  -2.0000,  -1.0000,  -6.0000,  -1.0000,  -1.0000,\n",
       "          2.0000,  -1.0000,  -1.0000,  -1.0000,   1.0000,   2.0000,   4.0000,\n",
       "          4.0000,   2.0000,   2.0000,   2.0000,   2.0000,   1.0000,   0.0000,\n",
       "         -5.0000,  -2.0000,   1.0000,   1.0000,   3.0000,  -1.0000,  -1.0000,\n",
       "         -1.0000,   2.0000,   1.0000,  -1.0000,   1.0000,  -2.0000,   0.0000,\n",
       "         -2.0000,  -1.0000,   4.0000,  -1.0000,   2.0000,   5.0000,   4.0000,\n",
       "          3.0000,  -1.0000,  -4.0000,   1.0000,   1.0000,  -1.0000,  -4.0000,\n",
       "          1.0000,   1.0000,   3.0000,   2.0000,   2.0000,   2.0000,  -1.0000,\n",
       "          0.0000,  -1.0000,  -3.0000,  -1.0000,   0.0000,  -1.0000,   0.0000,\n",
       "          2.0000,  -1.0000,   1.0000,   1.0000,   2.0000,   2.0000,   4.0000,\n",
       "          1.0000,   0.0000,   1.0000,   0.0000,   0.0000,  -2.0000,  -7.0000,\n",
       "          2.0000,   1.0000,   2.0000,   4.0000,  -1.0000,   2.0000,   1.0000,\n",
       "          1.0000,   2.0000,   0.0000,   1.0000,  -1.0000,  -4.0000,  -8.0000,\n",
       "         -1.0000,   1.0000,   1.0000,   1.0000,  -6.0000,  -4.0000,  -1.0000,\n",
       "          0.0000,   2.0000,   3.0000,   2.0000,   5.0000,  -1.0000,   2.0000,\n",
       "          1.0000,  -1.0000,  -2.0000,   1.0000,  -1.0000,   2.0000,   1.0000,\n",
       "         -1.0000,  -1.0000,   0.0000,   1.0000,   0.0000,   2.0000,   1.0000,\n",
       "          0.0000,   0.0000,  -1.0000,  -1.0000,  -2.0000,  -1.0000,  -1.0000,\n",
       "         -1.0000,  -1.0000,  -1.0000,   0.0000,  -1.0000,   2.0000,  -3.0000,\n",
       "         -2.0000,  -1.0000,  -1.0000,  -1.0000,  -3.0000,  -2.0000,  -2.0000,\n",
       "          2.0000,  -3.0000,  -2.0000,  -1.0000,   2.0000,   2.0000,  -1.0000,\n",
       "          4.0000,   1.0000,  -1.0000,   0.0000,  -1.0000,   1.0000,   1.0000,\n",
       "          2.0000,   0.0000,  -1.0000,   3.0000,   1.0000,  -1.0000,  -3.0000,\n",
       "         -2.0000,   1.0000,   2.0000,  -1.0000,  -1.0000,   0.0000,   0.0000,\n",
       "         -1.0000,   2.0000,   0.0000,   2.0000,   0.0000,   1.0000,  -1.0000,\n",
       "         -1.0000,  -3.0000,  -1.0000,   1.0000,   1.0000,  -1.0000,   0.0000,\n",
       "          2.0000,   1.0000,   1.0000,   0.0000,  -1.0000,   0.0000,   2.0000,\n",
       "         -1.0000,   0.0000,  -1.0000,   1.0000,   1.0000,  -2.0000,   2.0000,\n",
       "          1.0000,   2.0000,  -1.0000,   1.0000,   0.0000,   4.0000,   1.0000,\n",
       "         -1.0000,  -4.0000,  -1.0000,   2.0000,  -1.0000,   0.0000,  -8.0000,\n",
       "          1.0000,   6.0000,   0.0000,  -1.0000,  -1.0000,   0.0000,  -1.0000,\n",
       "          1.0000,   2.0000,   1.0000,   2.0000,   0.0000,  -1.0000,   5.0000,\n",
       "          3.0000,   0.0000,   1.0000,   0.0000,   1.0000,  -1.0000,   2.0000,\n",
       "         -1.0000,   1.0000,   5.0000,   3.0000,   1.0000,   2.0000,   2.0000,\n",
       "         -2.0000,   2.0000,   0.0000,  -1.0000,  -1.0000,  -1.0000,   4.0000,\n",
       "          0.0000,   1.0000,  -1.0000,  -1.0000,   1.0000,   2.0000,   0.0000,\n",
       "        -15.0000,   0.0000,  -5.0000,   2.0000,  -1.0000,   0.0000,   1.0000,\n",
       "          1.0000,  -2.0000,  -1.0000,   2.0000, -10.0000,   1.0000,  -2.0000,\n",
       "         -5.0000,   1.0000,   1.0000,   1.0000,  -4.0000,  -3.0000,   5.0000,\n",
       "         -1.0000,  -1.0000,   1.0000,   0.0000,  -1.0000,   5.0000,  -2.0000,\n",
       "          0.0000,   1.0000,   1.0000,   0.0000,  -1.0000,  -2.0000,   3.0000,\n",
       "         -2.0000,   1.0000,   0.0000,   6.0000,  -1.0000,   0.0000,   0.0000,\n",
       "         -3.0000,   0.0000,   2.0000,   2.0000,  -2.0000,   1.0000,  -1.0000,\n",
       "          2.0000,  -1.0000,   1.0000,   1.0000,  -8.0000,  -1.0000,   0.0000,\n",
       "          0.0000,  -1.0000,   1.0000,   3.0000,  -1.0000,   2.0000,   0.0000,\n",
       "         -1.0000,   0.0000,  -3.0000,   0.0000,   1.0000,   0.0000,   1.0000,\n",
       "          0.0000,   0.0000,   2.0000,   2.0000,   3.0000,  -3.0000,  -4.0000,\n",
       "          1.0000,   1.0000,  -1.0000,   3.0000,   0.0000,  -3.0000,  -1.0000,\n",
       "          2.0000,   1.0000,   2.0000,   0.0000,   0.0000,  -3.0000,   0.0000,\n",
       "          1.0000,  -1.0000,  -3.0000,   5.0000,  -3.0000,  -1.0000,   1.0000,\n",
       "         -1.0000,   0.0000,   4.0000,  -1.0000,  -1.0000,  -1.0000,   1.0000,\n",
       "         -1.0000,  -1.0000,  -1.0000,   1.0000,   1.0000,  -5.0000,  -1.0000,\n",
       "          0.0000,   2.0000,   1.0000,   3.0000,  -1.0000,   0.0000,   1.0000,\n",
       "          1.0000,   2.0000,  -2.0000,   3.0000,   2.0000,   2.0000, -19.0000,\n",
       "          3.0000,  -1.0000,   0.0000,   2.0000,  -1.0000,  -3.0000,   1.0000,\n",
       "          1.0000,   1.0000,   0.0000,  -1.0000,  -2.0000,   1.0000,  -1.0000,\n",
       "         -5.0000,   2.0000,   4.0000,   1.0000,   1.0000,   0.0000,  -5.0000,\n",
       "          0.0000,   0.0000,  -1.0000,  -7.0000,  -2.0000,  -1.0000,   0.0000,\n",
       "          1.0000,   1.0000,   1.0000,   3.0000,  -2.0000,   0.0000,   2.0000,\n",
       "         -1.0000,  -4.0000,  -1.0000, -19.0000,   1.0000,   1.0000,   1.0000,\n",
       "          1.0000,   1.0000,   1.0000,   1.0000,  -3.0000,  -1.0000,   2.0000,\n",
       "         -1.0000,   2.0000,  -1.0000,   0.0000,   2.0000,  -1.0000,  -1.0000,\n",
       "          3.0000,   2.0000,  -3.0000,   2.0000,  -1.0000,   0.0000,   0.0000,\n",
       "          1.0000,  -1.0000,   3.0000,   5.0000,   2.0000,  -1.0000,   2.0000,\n",
       "         -5.0000,   1.0000,   2.0000,   2.0000,   0.0000,   1.0000,  -2.0000,\n",
       "         -1.0000,   1.0000,   0.0000,   1.0000,   1.0000,   0.0000,   1.0000,\n",
       "         -1.0000,   6.0000,   1.0000, -14.0000,   2.0000,  -1.0000,   1.0000,\n",
       "         -1.0000,  -1.0000,   2.0000,   2.0000,   2.0000,  -1.0000,   3.0000,\n",
       "          0.0000,  -2.0000,  -3.0000,   0.0000,  -1.0000,  -2.0000,   2.0000,\n",
       "          5.0000,   2.0000,  -1.0000,   1.0000,   0.0000,   1.0000,  -5.0000,\n",
       "          2.0000,   1.0000,  -1.0000,   4.0000,   1.0000,   0.0000,  -1.0000,\n",
       "         -1.0000,   1.0000,   0.0000,   1.0000,   1.0000,   2.0000,  -2.0000,\n",
       "         -1.0000,  -1.0000,   2.0000,  -1.0000,  -5.0000,  -1.0000,   3.0000,\n",
       "          1.0000,  -3.0000, -10.0000,   0.0000,   4.0000,  -3.0000,   0.0000,\n",
       "          2.0000,   0.0000,   0.0000,   0.0000,  -1.0000,   1.0000,   2.0000,\n",
       "         -5.0000,   1.0000,   1.0000,   0.0000,   1.0000,  -1.0000,  -1.0000,\n",
       "          2.0000,   3.0000,   1.0000,   2.0000,   2.0000,   1.0000,  -1.0000,\n",
       "          1.0000,  -7.0000,   3.0000,   1.0000,  -3.0000,  -5.0000,  -1.0000,\n",
       "          2.0000,   3.0000,   1.0000,   1.0000,  -1.0000,   2.0000,   4.0000,\n",
       "          0.0000,  -2.0000,   0.0000, -16.0000,  -3.0000,   0.0000,   1.0000,\n",
       "          0.0000,   3.0000,  -1.0000,   1.0000,   1.0000,   1.0000,   1.0000,\n",
       "        -17.0000,  -1.0000,   0.0000,  -1.0000,   1.0000,  -5.0000,   3.0000,\n",
       "          5.0000,   3.0000,  -9.0000,  -1.0000,  -1.0000,  -1.0000,  -1.0000,\n",
       "         -1.0000,  -1.0000,  -1.0000,  -8.0000,  -1.0000,  -8.0000,   2.0000,\n",
       "         -1.0000,   1.0000,   0.0000,  -2.0000,   1.0000,   0.0000,   0.0000,\n",
       "          3.0000,  -1.0000,   2.0000,   2.0000,   3.0000,  -1.0000,  -1.0000,\n",
       "          0.0000,   3.0000,   3.0000,   1.0000,  -1.0000,   0.0000,  -1.0000,\n",
       "          1.0000,   0.0000,   0.0000,   2.0000,   2.0000,   2.0000, -18.0000,\n",
       "          1.0000,  -2.0000,  -1.0000,  -1.0000,  -2.0000,   1.0000,   2.0000,\n",
       "          1.0000,   1.0000,  -1.0000,  -1.0000,   1.0000,  -1.0000,   1.0000,\n",
       "          1.0000,  -2.0000,  -1.0000,  -1.0000,   2.0000,   2.0000,   1.0000,\n",
       "         -5.0000,  -1.0000,  -1.0000,   0.0000,   1.0000,  -1.0000,   0.0000,\n",
       "          0.0000,   2.0000,   2.0000,   1.0000,  -1.0000,   0.0000,  -1.0000,\n",
       "          2.0000,  -1.0000,  -6.0000,  -1.0000,   5.0000,   1.0000,   0.0000,\n",
       "         -1.0000,  -1.0000,  -1.0000,   2.0000,   1.0000,   2.0000,  -2.0000,\n",
       "         -1.0000,   2.0000,   2.0000,   1.0000,  -2.0000,  -3.0000,   1.0000,\n",
       "          2.0000,  -2.0000,   3.0000,   2.0000,   1.0000,   4.0000,  -1.0000,\n",
       "          0.0000,   2.0000,   2.0000,   2.0000,   1.0000,  -1.0000,   0.0000,\n",
       "         -1.0000,   1.0000,   1.0000,   5.0000,   2.0000,  -1.0000,   1.0000,\n",
       "          4.0000,   1.0000,   2.0000,   1.0000,   0.0000,   2.0000,   2.0000,\n",
       "          0.0000,   1.0000,  -1.0000,   1.0000,  -1.0000,  -6.0000,   2.0000,\n",
       "         -3.0000,  -1.0000,  -1.0000,  -1.0000,   5.0000,   1.0000,   6.0000,\n",
       "          1.0000,   0.0000,   0.0000,   1.0000,   0.0000,  -1.0000,   2.0000,\n",
       "          3.0000,  -2.0000,   2.0000,   1.0000,  -4.0000,   0.0000,   1.0000,\n",
       "          2.0000,  -2.0000,   1.0000,   4.0000,   1.0000,  -1.0000,   1.0000,\n",
       "          1.0000,   1.0000,  -6.0000,   0.0000,   2.0000,  -1.0000,   2.0000,\n",
       "         -1.0000,   1.0000,   3.0000,   0.0000,  -1.0000,  -1.0000,  -1.0000,\n",
       "         -2.0000,   1.0000,   0.0000,  -1.0000,  -2.0000,   0.0000,  -5.0000,\n",
       "          2.0000,  -2.0000,   1.0000,   1.0000,   1.0000,   2.0000,   0.0000,\n",
       "          1.0000,  -1.0000,   0.0000,  -1.0000,  -3.0000,   1.0000,   2.0000,\n",
       "          2.0000,   2.0000,  -1.0000,  -1.0000,   0.0000,   5.0000,   0.0000,\n",
       "          2.0000,  -1.0000,   1.0000,   4.0000,  -1.0000,  -1.0000,   2.0000,\n",
       "         -1.0000,   3.0000,   0.0000,  -3.0000,  -1.0000,   0.0000,  -1.0000,\n",
       "          0.0000,   1.0000,  -1.0000,   0.0000,   1.0000,  -1.0000,  -1.0000,\n",
       "          0.0000,  -2.0000,   2.0000,   0.0000,   0.0000,   0.0000,   3.0000,\n",
       "        -10.0000,   3.0000,   1.0000,   0.0000,   0.0000,   2.0000,   2.0000,\n",
       "         -2.0000,   0.0000,   2.0000,  -1.0000,  -1.0000,   2.0000,  -2.0000,\n",
       "          1.0000,  -6.0000,   4.0000,   1.0000,   1.0000])"
      ]
     },
     "execution_count": 38,
     "metadata": {},
     "output_type": "execute_result"
    }
   ],
   "source": [
    "shift_range[train_indexes.long()]/0.05"
   ]
  },
  {
   "cell_type": "code",
   "execution_count": 39,
   "id": "83f6b230",
   "metadata": {
    "ExecuteTime": {
     "end_time": "2023-02-22T16:48:32.595247Z",
     "start_time": "2023-02-22T16:48:32.588893Z"
    }
   },
   "outputs": [
    {
     "data": {
      "text/plain": [
       "tensor(10.3370)"
      ]
     },
     "execution_count": 39,
     "metadata": {},
     "output_type": "execute_result"
    }
   ],
   "source": [
    "100 * test_loss / std_test"
   ]
  },
  {
   "cell_type": "code",
   "execution_count": 40,
   "id": "c7ef60b2",
   "metadata": {
    "ExecuteTime": {
     "end_time": "2023-02-22T16:48:33.093062Z",
     "start_time": "2023-02-22T16:48:33.088616Z"
    }
   },
   "outputs": [
    {
     "data": {
      "text/plain": [
       "tensor(10.3370)"
      ]
     },
     "execution_count": 40,
     "metadata": {},
     "output_type": "execute_result"
    }
   ],
   "source": [
    "atest_loss"
   ]
  },
  {
   "cell_type": "code",
   "execution_count": 41,
   "id": "92e1f2b3",
   "metadata": {
    "ExecuteTime": {
     "end_time": "2023-02-22T16:48:33.446991Z",
     "start_time": "2023-02-22T16:48:33.440510Z"
    }
   },
   "outputs": [
    {
     "data": {
      "text/plain": [
       "tensor([ -1.0000,  -1.0000,   2.0000,   2.0000,   3.0000,   0.0000,   2.0000,\n",
       "          3.0000,   2.0000,   2.0000,   2.0000,  -1.0000,  -3.0000,   0.0000,\n",
       "          2.0000,   3.0000,   0.0000,  -1.0000,  -1.0000,  -1.0000,  -1.0000,\n",
       "          1.0000,  -1.0000,   0.0000,   1.0000,  -1.0000,  -2.0000,   1.0000,\n",
       "          0.0000,  -1.0000,  -2.0000,  -1.0000,  -4.0000,   2.0000,  -1.0000,\n",
       "          1.0000,  -2.0000,  -3.0000,   3.0000,   1.0000,   2.0000,   1.0000,\n",
       "        -11.0000,   0.0000,   1.0000,  -2.0000,  -1.0000,   2.0000,   1.0000,\n",
       "          2.0000,  -3.0000,  -3.0000,   0.0000,   5.0000,  -1.0000,   0.0000,\n",
       "         -3.0000,  -1.0000,   1.0000,   1.0000,   0.0000,   0.0000,  -1.0000,\n",
       "          1.0000,   2.0000,   0.0000,   2.0000,   0.0000,   2.0000,   4.0000,\n",
       "          0.0000,   2.0000,  -4.0000,  -4.0000,   3.0000,  -1.0000,   2.0000,\n",
       "         -1.0000,   2.0000,   2.0000,  -1.0000,   2.0000,  -1.0000,   1.0000,\n",
       "         -4.0000,   2.0000,  -3.0000,   1.0000,  -1.0000,  -1.0000,  -1.0000,\n",
       "         -1.0000,   0.0000,  -1.0000,  -1.0000,   1.0000,  -2.0000,   2.0000,\n",
       "          1.0000,   1.0000,   2.0000,  -3.0000,   2.0000,  -1.0000,  -7.0000,\n",
       "         -1.0000,  -1.0000,  -1.0000,   0.0000,   6.0000,   3.0000,  -1.0000,\n",
       "          1.0000,   0.0000,   3.0000,   1.0000,  -2.0000,  -1.0000,  -8.0000,\n",
       "          1.0000,  -2.0000,  -2.0000,   2.0000,  -1.0000,   2.0000,  -4.0000,\n",
       "          1.0000,  -1.0000,  -4.0000,  -1.0000,   2.0000,  -1.0000,   3.0000,\n",
       "         -1.0000,  -1.0000,  -2.0000,  -1.0000,  -1.0000,  -1.0000,  -1.0000,\n",
       "          1.0000,   2.0000,   0.0000,  -3.0000,   1.0000,  -1.0000,  -2.0000,\n",
       "          0.0000,   1.0000,   2.0000,   0.0000,   1.0000,  -1.0000,   1.0000,\n",
       "          3.0000,  -1.0000,   3.0000,   1.0000,  -1.0000,   0.0000,   1.0000,\n",
       "         -1.0000,   2.0000,  -1.0000,  -1.0000,   2.0000,   2.0000,   2.0000,\n",
       "         -1.0000,  -2.0000,   1.0000,  -2.0000,   2.0000,  -1.0000,   2.0000,\n",
       "          6.0000,  -1.0000,   1.0000,   1.0000,   0.0000,  -8.0000,  -1.0000,\n",
       "          0.0000,   2.0000,  -1.0000,  -1.0000,   0.0000,   2.0000,   4.0000,\n",
       "         -1.0000,  -1.0000,  -2.0000,  -1.0000,   2.0000,  -1.0000,   1.0000,\n",
       "         -5.0000,   2.0000,  -1.0000,  -1.0000,   3.0000,   2.0000,  -2.0000,\n",
       "          1.0000,   0.0000,  -1.0000,   2.0000,  -1.0000])"
      ]
     },
     "execution_count": 41,
     "metadata": {},
     "output_type": "execute_result"
    }
   ],
   "source": [
    "shift_range[test_indexes.long()]/0.05"
   ]
  },
  {
   "cell_type": "code",
   "execution_count": 42,
   "id": "fa518f96",
   "metadata": {
    "ExecuteTime": {
     "end_time": "2023-02-22T16:48:33.619571Z",
     "start_time": "2023-02-22T16:48:33.613052Z"
    }
   },
   "outputs": [
    {
     "data": {
      "text/plain": [
       "tensor(9.6875)"
      ]
     },
     "execution_count": 42,
     "metadata": {},
     "output_type": "execute_result"
    }
   ],
   "source": [
    "100 * total_loss/ std_all"
   ]
  },
  {
   "cell_type": "code",
   "execution_count": 43,
   "id": "c4250f6c",
   "metadata": {
    "ExecuteTime": {
     "end_time": "2023-02-22T16:48:34.576825Z",
     "start_time": "2023-02-22T16:48:34.570619Z"
    }
   },
   "outputs": [
    {
     "data": {
      "text/plain": [
       "tensor(9.6875)"
      ]
     },
     "execution_count": 43,
     "metadata": {},
     "output_type": "execute_result"
    }
   ],
   "source": [
    "atotal_loss"
   ]
  },
  {
   "cell_type": "code",
   "execution_count": 44,
   "id": "d9274421",
   "metadata": {
    "ExecuteTime": {
     "end_time": "2023-02-22T16:48:34.738828Z",
     "start_time": "2023-02-22T16:48:34.728860Z"
    }
   },
   "outputs": [
    {
     "data": {
      "text/plain": [
       "tensor([2., 1., 1., 1., 1., 1., 1., 1., 1., 1., 1., 1., 0., 1., 2., 1., 1., 1.,\n",
       "        1., 2., 1., 1., 1., 0., 1., 1., 1., 1., 0., 1., 0., 1., 0., 1., 2., 1.,\n",
       "        1., 2., 1., 1., 1., 1., 1., 0., 1., 0., 1., 2., 1., 1., 0., 1., 2., 1.,\n",
       "        1., 1., 1., 1., 2., 1., 1., 1., 1., 1., 1., 1., 2., 1., 1., 1., 1., 2.,\n",
       "        1., 0., 2., 1., 1., 1., 1., 1., 1., 0., 1., 1., 1., 1., 1., 1., 1., 1.,\n",
       "        1., 1., 2., 2., 1., 1., 1., 1., 1., 1.])"
      ]
     },
     "execution_count": 44,
     "metadata": {},
     "output_type": "execute_result"
    }
   ],
   "source": [
    "(shift_range[total_indexes.long()]/0.05)[939:1039]"
   ]
  },
  {
   "cell_type": "markdown",
   "id": "7e20dd8a",
   "metadata": {},
   "source": [
    "## Analytical"
   ]
  },
  {
   "cell_type": "code",
   "execution_count": 73,
   "id": "c6944d51",
   "metadata": {
    "ExecuteTime": {
     "end_time": "2023-02-22T17:47:17.513941Z",
     "start_time": "2023-02-22T17:47:17.278401Z"
    }
   },
   "outputs": [
    {
     "data": {
      "text/plain": [
       "[<matplotlib.lines.Line2D at 0x7f6c6450d460>]"
      ]
     },
     "execution_count": 73,
     "metadata": {},
     "output_type": "execute_result"
    },
    {
     "data": {
      "image/png": "[encoded data removed]",
      "text/plain": [
       "<Figure size 432x288 with 1 Axes>"
      ]
     },
     "metadata": {
      "needs_background": "light"
     },
     "output_type": "display_data"
    }
   ],
   "source": [
    "%matplotlib inline\n",
    "plt.plot(xdos, final_ldos[600], c='b')\n",
    "plt.plot(xdos, ldos[600], c= 'r')"
   ]
  },
  {
   "cell_type": "code",
   "execution_count": 163,
   "id": "84d16faa",
   "metadata": {
    "ExecuteTime": {
     "end_time": "2023-02-24T11:35:24.495477Z",
     "start_time": "2023-02-24T11:30:55.703215Z"
    }
   },
   "outputs": [
    {
     "name": "stderr",
     "output_type": "stream",
     "text": [
      "100%|████████████████████████████████████████████████████████████████████████████████████████████████████████████████████████████████████████████████████████████████████████████| 831/831 [04:28<00:00,  3.09it/s]\n"
     ]
    }
   ],
   "source": [
    "#use alignment to make full dataset\n",
    "sigma = 0.3\n",
    "dx = 0.05\n",
    "\n",
    "emin = -24.5537\n",
    "emax = 11.3464\n",
    "\n",
    "\n",
    "ndos = int((emax-emin+3) / dx) #number of points\n",
    "xdos = np.linspace(emin-1.5, emax+1.5, ndos) # extend the energy grid by 3eV \n",
    "final_ldos = []\n",
    "with torch.no_grad():\n",
    "    for i in tqdm(range(len(train_index))):#for every structure    \n",
    "        i_ldos = np.zeros(ndos)\n",
    "        for j in (full_eigen_energies[train_index[i]]):\n",
    "            i_ldos += (np.exp(-0.5*((soap_dataset.alignment[i].detach().numpy() + xdos - j.numpy())/sigma)**2))\n",
    "        final_ldos.append(i_ldos * normalization[train_index[i]].detach().numpy() * 2)\n",
    "\n",
    "#final_ldos = ((ldos.T * normalization ).T)* 2\n",
    "final_ldos = np.vstack(final_ldos) "
   ]
  },
  {
   "cell_type": "code",
   "execution_count": 164,
   "id": "08bb1797",
   "metadata": {
    "ExecuteTime": {
     "end_time": "2023-02-24T11:35:24.502304Z",
     "start_time": "2023-02-24T11:35:24.498217Z"
    }
   },
   "outputs": [],
   "source": [
    "final_ldos = torch.tensor(final_ldos)"
   ]
  },
  {
   "cell_type": "code",
   "execution_count": 165,
   "id": "2817319f",
   "metadata": {
    "ExecuteTime": {
     "end_time": "2023-02-24T11:35:24.691524Z",
     "start_time": "2023-02-24T11:35:24.504836Z"
    }
   },
   "outputs": [
    {
     "name": "stdout",
     "output_type": "stream",
     "text": [
      "training over\n"
     ]
    },
    {
     "ename": "TypeError",
     "evalue": "trapezoid() received an invalid combination of arguments - got (Tensor, numpy.ndarray, axis=int), but expected one of:\n * (Tensor y, Tensor x, *, int dim)\n * (Tensor y, *, Number dx, int dim)\n",
     "output_type": "error",
     "traceback": [
      "\u001b[0;31m---------------------------------------------------------------------------\u001b[0m",
      "\u001b[0;31mTypeError\u001b[0m                                 Traceback (most recent call last)",
      "Input \u001b[0;32mIn [165]\u001b[0m, in \u001b[0;36m<cell line: 6>\u001b[0;34m()\u001b[0m\n\u001b[1;32m     12\u001b[0m shift_range \u001b[38;5;241m=\u001b[39m torch\u001b[38;5;241m.\u001b[39mtensor([\u001b[38;5;241m0.05\u001b[39m \u001b[38;5;241m*\u001b[39m a \u001b[38;5;28;01mfor\u001b[39;00m a \u001b[38;5;129;01min\u001b[39;00m torch\u001b[38;5;241m.\u001b[39marange(\u001b[38;5;241m-\u001b[39m\u001b[38;5;241m80\u001b[39m,\u001b[38;5;241m80\u001b[39m)])\n\u001b[1;32m     13\u001b[0m Total_preds \u001b[38;5;241m=\u001b[39m Total_Features \u001b[38;5;241m@\u001b[39m optimal_weights\n\u001b[0;32m---> 14\u001b[0m atrain_loss, atrain_indexes \u001b[38;5;241m=\u001b[39m \u001b[43mloss\u001b[49m\u001b[38;5;241;43m.\u001b[39;49m\u001b[43mt_get_BF_shift_index_error\u001b[49m\u001b[43m(\u001b[49m\u001b[43mTotal_preds\u001b[49m\u001b[43m[\u001b[49m\u001b[43mtrain_index\u001b[49m\u001b[43m]\u001b[49m\u001b[43m,\u001b[49m\u001b[43m \u001b[49m\u001b[43mldos\u001b[49m\u001b[43m[\u001b[49m\u001b[43mtrain_index\u001b[49m\u001b[43m]\u001b[49m\u001b[43m,\u001b[49m\u001b[43m \u001b[49m\u001b[43mshift_range\u001b[49m\u001b[43m,\u001b[49m\u001b[43m \u001b[49m\u001b[43mxdos\u001b[49m\u001b[43m,\u001b[49m\u001b[43m \u001b[49m\u001b[43mperc\u001b[49m\u001b[43m \u001b[49m\u001b[38;5;241;43m=\u001b[39;49m\u001b[43m \u001b[49m\u001b[38;5;28;43;01mTrue\u001b[39;49;00m\u001b[43m)\u001b[49m\n\u001b[1;32m     15\u001b[0m atest_loss, atest_indexes \u001b[38;5;241m=\u001b[39m loss\u001b[38;5;241m.\u001b[39mt_get_BF_shift_index_error(Total_preds[test_index], ldos[test_index], shift_range, xdos, perc \u001b[38;5;241m=\u001b[39m \u001b[38;5;28;01mTrue\u001b[39;00m)\n\u001b[1;32m     16\u001b[0m atotal_loss, atotal_indexes \u001b[38;5;241m=\u001b[39m loss\u001b[38;5;241m.\u001b[39mt_get_BF_shift_index_error(Total_preds, ldos, shift_range, xdos, perc \u001b[38;5;241m=\u001b[39m \u001b[38;5;28;01mTrue\u001b[39;00m)\n",
      "File \u001b[0;32m~/dostools/src/dostools/loss/loss.py:112\u001b[0m, in \u001b[0;36mt_get_BF_shift_index_error\u001b[0;34m(prediction, true, shift_range, xdos, perc)\u001b[0m\n\u001b[1;32m    110\u001b[0m index \u001b[38;5;241m=\u001b[39m torch\u001b[38;5;241m.\u001b[39mzeros(true\u001b[38;5;241m.\u001b[39mshape[\u001b[38;5;241m0\u001b[39m])\n\u001b[1;32m    111\u001b[0m mean \u001b[38;5;241m=\u001b[39m true\u001b[38;5;241m.\u001b[39mmean(axis \u001b[38;5;241m=\u001b[39m \u001b[38;5;241m0\u001b[39m)\n\u001b[0;32m--> 112\u001b[0m std \u001b[38;5;241m=\u001b[39m torch\u001b[38;5;241m.\u001b[39msqrt(\u001b[43mtorch\u001b[49m\u001b[38;5;241;43m.\u001b[39;49m\u001b[43mtrapezoid\u001b[49m\u001b[43m(\u001b[49m\u001b[43m(\u001b[49m\u001b[43mtrue\u001b[49m\u001b[43m \u001b[49m\u001b[38;5;241;43m-\u001b[39;49m\u001b[43m \u001b[49m\u001b[43mmean\u001b[49m\u001b[43m)\u001b[49m\u001b[38;5;241;43m*\u001b[39;49m\u001b[38;5;241;43m*\u001b[39;49m\u001b[38;5;241;43m2\u001b[39;49m\u001b[43m,\u001b[49m\u001b[43m \u001b[49m\u001b[43mxdos\u001b[49m\u001b[43m,\u001b[49m\u001b[43m \u001b[49m\u001b[43maxis\u001b[49m\u001b[38;5;241;43m=\u001b[39;49m\u001b[38;5;241;43m1\u001b[39;49m\u001b[43m)\u001b[49m\u001b[38;5;241m.\u001b[39mmean())\n\u001b[1;32m    113\u001b[0m \u001b[38;5;28;01mfor\u001b[39;00m i, pred \u001b[38;5;129;01min\u001b[39;00m \u001b[38;5;28menumerate\u001b[39m((prediction)):\n\u001b[1;32m    114\u001b[0m     shifted_preds \u001b[38;5;241m=\u001b[39m consistency\u001b[38;5;241m.\u001b[39mshifted_ldos(pred\u001b[38;5;241m.\u001b[39mrepeat(shift_range\u001b[38;5;241m.\u001b[39mshape[\u001b[38;5;241m0\u001b[39m],\u001b[38;5;241m1\u001b[39m), xdos, shift_range) \n",
      "\u001b[0;31mTypeError\u001b[0m: trapezoid() received an invalid combination of arguments - got (Tensor, numpy.ndarray, axis=int), but expected one of:\n * (Tensor y, Tensor x, *, int dim)\n * (Tensor y, *, Number dx, int dim)\n"
     ]
    }
   ],
   "source": [
    "#def evaluate_performance(new_dos):\n",
    "\n",
    "\n",
    "\n",
    "\n",
    "with torch.no_grad():\n",
    "    Features = torch.hstack([Silicon.Features['structure_avedescriptors'][train_index].double(), torch.ones(len(train_index)).view(-1,1)])\n",
    "    Target = final_ldos\n",
    "    optimal_weights = torch.linalg.lstsq(Features, Target, driver = 'gelsd').solution\n",
    "    Total_Features = torch.hstack([Silicon.Features['structure_avedescriptors'].double(), torch.ones(len(Silicon.Features['structure_avedescriptors'])).view(-1,1)])\n",
    "    print (\"training over\")\n",
    "    shift_range = torch.tensor([0.05 * a for a in torch.arange(-80,80)])\n",
    "    Total_preds = Total_Features @ optimal_weights\n",
    "    atrain_loss, atrain_indexes = loss.t_get_BF_shift_index_error(Total_preds[train_index], ldos[train_index], shift_range, xdos, perc = True)\n",
    "    atest_loss, atest_indexes = loss.t_get_BF_shift_index_error(Total_preds[test_index], ldos[test_index], shift_range, xdos, perc = True)\n",
    "    atotal_loss, atotal_indexes = loss.t_get_BF_shift_index_error(Total_preds, ldos, shift_range, xdos, perc = True)\n",
    "\n",
    "print (atrain_loss)\n",
    "print (atrain_loss * std_train /100)\n",
    "print (atest_loss)\n",
    "print (atest_loss * std_test / 100)\n",
    "print (atotal_loss)\n",
    "print (atotal_loss * std_all/ 100)"
   ]
  },
  {
   "cell_type": "code",
   "execution_count": 93,
   "id": "78f5e024",
   "metadata": {
    "ExecuteTime": {
     "end_time": "2023-02-22T18:10:15.692341Z",
     "start_time": "2023-02-22T18:10:15.689281Z"
    }
   },
   "outputs": [],
   "source": [
    "xdos = torch.tensor(xdos)"
   ]
  },
  {
   "cell_type": "code",
   "execution_count": 94,
   "id": "f71bef08",
   "metadata": {
    "ExecuteTime": {
     "end_time": "2023-02-22T18:10:17.181023Z",
     "start_time": "2023-02-22T18:10:17.152997Z"
    }
   },
   "outputs": [
    {
     "data": {
      "text/plain": [
       "tensor(0.0240)"
      ]
     },
     "execution_count": 94,
     "metadata": {},
     "output_type": "execute_result"
    }
   ],
   "source": [
    "loss.t_get_rmse(Features @ optimal_weights, final_ldos, xdos, perc = False)\n"
   ]
  },
  {
   "cell_type": "code",
   "execution_count": 143,
   "id": "77c6f23d",
   "metadata": {
    "ExecuteTime": {
     "end_time": "2023-02-22T18:28:32.786933Z",
     "start_time": "2023-02-22T18:28:32.018342Z"
    }
   },
   "outputs": [
    {
     "name": "stdout",
     "output_type": "stream",
     "text": [
      "tensor(4.6182)\n"
     ]
    }
   ],
   "source": [
    "from sklearn.linear_model import Ridge\n",
    "\n",
    "model = Ridge(alpha = 0, fit_intercept = False, solver = 'svd')\n",
    "model.fit(Features, ldos[train_index])\n",
    "Total_preds = model.predict(Total_Features)\n",
    "\n",
    "print (loss.t_get_rmse(torch.tensor(Total_preds[train_index]), ldos[train_index], xdos, perc= True))"
   ]
  },
  {
   "cell_type": "code",
   "execution_count": 117,
   "id": "b57b37de",
   "metadata": {
    "ExecuteTime": {
     "end_time": "2023-02-22T18:21:00.067543Z",
     "start_time": "2023-02-22T18:21:00.059012Z"
    }
   },
   "outputs": [
    {
     "data": {
      "text/plain": [
       "array([[-4.64694949e-12, -1.37134748e-11, -1.52624580e-11, ...,\n",
       "         3.24504867e-11,  1.58344449e-11,  6.29185593e-12],\n",
       "       [-7.06545933e-12, -1.76054726e-11, -3.57047725e-11, ...,\n",
       "        -3.13065129e-11, -1.29709576e-11, -6.43218812e-12],\n",
       "       [-1.10489395e-12, -6.59383659e-12,  5.12301312e-12, ...,\n",
       "         9.56594803e-11,  4.71240824e-11,  1.74892323e-11],\n",
       "       ...,\n",
       "       [ 3.29691829e-12,  6.03961325e-12,  2.46558329e-11, ...,\n",
       "        -4.20641300e-11, -1.85451654e-11, -8.66151595e-12],\n",
       "       [ 1.65591985e-11,  3.65787400e-11,  9.71454028e-11, ...,\n",
       "        -2.80955259e-11, -1.05874198e-11, -5.76938497e-12],\n",
       "       [ 3.00204306e-12,  4.78905804e-12,  2.81659140e-11, ...,\n",
       "        -1.56319402e-11, -4.40536496e-12, -3.38573614e-12]])"
      ]
     },
     "execution_count": 117,
     "metadata": {},
     "output_type": "execute_result"
    }
   ],
   "source": [
    "Total_preds[train_index]"
   ]
  },
  {
   "cell_type": "code",
   "execution_count": 134,
   "id": "890535f4",
   "metadata": {
    "ExecuteTime": {
     "end_time": "2023-02-22T18:25:36.122808Z",
     "start_time": "2023-02-22T18:25:36.099440Z"
    }
   },
   "outputs": [],
   "source": [
    "ldos = torch.tensor(data.load_ldos() * 2)"
   ]
  },
  {
   "cell_type": "code",
   "execution_count": 145,
   "id": "17f709ca",
   "metadata": {
    "ExecuteTime": {
     "end_time": "2023-02-22T18:29:22.687893Z",
     "start_time": "2023-02-22T18:29:20.435993Z"
    }
   },
   "outputs": [
    {
     "name": "stdout",
     "output_type": "stream",
     "text": [
      "training over\n",
      "tensor(4.2598)\n",
      "tensor(0.0251)\n",
      "tensor(41.7378)\n",
      "tensor(0.2542)\n",
      "tensor(19.5660)\n",
      "tensor(0.1159)\n"
     ]
    }
   ],
   "source": [
    "#def evaluate_performance(new_dos):\n",
    "\n",
    "feature = Silicon.Features['structure_avedescriptors'].double()\n",
    "target = ldos\n",
    "\n",
    "with torch.no_grad():\n",
    "    Features = torch.hstack([feature[train_index], torch.ones(len(train_index)).view(-1,1)])\n",
    "    Target = target[train_index]\n",
    "    optimal_weights = torch.linalg.lstsq(Features, Target, driver = 'gelsd').solution\n",
    "    Total_Features = torch.hstack([feature, torch.ones(len(feature)).view(-1,1)])\n",
    "    print (\"training over\")\n",
    "    Total_preds = Total_Features @ optimal_weights\n",
    "    atrain_loss = loss.t_get_rmse(Total_preds[train_index], target[train_index], xdos, perc = True)\n",
    "    atest_loss = loss.t_get_rmse(Total_preds[test_index], target[test_index], xdos, perc = True)\n",
    "    atotal_loss = loss.t_get_rmse(Total_preds, target, xdos, perc = True)\n",
    "\n",
    "print (atrain_loss)\n",
    "print (atrain_loss * std_train /100)\n",
    "print (atest_loss)\n",
    "print (atest_loss * std_test / 100)\n",
    "print (atotal_loss)\n",
    "print (atotal_loss * std_all/ 100)"
   ]
  },
  {
   "cell_type": "code",
   "execution_count": 130,
   "id": "5e56b18f",
   "metadata": {
    "ExecuteTime": {
     "end_time": "2023-02-22T18:25:14.446757Z",
     "start_time": "2023-02-22T18:25:14.438863Z"
    }
   },
   "outputs": [],
   "source": []
  },
  {
   "cell_type": "code",
   "execution_count": 131,
   "id": "557c134e",
   "metadata": {
    "ExecuteTime": {
     "end_time": "2023-02-22T18:25:14.995093Z",
     "start_time": "2023-02-22T18:25:14.607963Z"
    }
   },
   "outputs": [
    {
     "data": {
      "text/plain": [
       "[<matplotlib.lines.Line2D at 0x7f6c0dd27c10>]"
      ]
     },
     "execution_count": 131,
     "metadata": {},
     "output_type": "execute_result"
    },
    {
     "data": {
      "image/png": "[encoded data removed]",
      "text/plain": [
       "<Figure size 432x288 with 1 Axes>"
      ]
     },
     "metadata": {
      "needs_background": "light"
     },
     "output_type": "display_data"
    }
   ],
   "source": [
    "plt.plot(xdos, ldos[train_index[0]], c= 'r')\n",
    "plt.plot(xdos, final_ldos[0], c='b')"
   ]
  },
  {
   "cell_type": "code",
   "execution_count": 109,
   "id": "9f3cec1e",
   "metadata": {
    "ExecuteTime": {
     "end_time": "2023-02-22T18:17:06.146533Z",
     "start_time": "2023-02-22T18:17:06.136542Z"
    }
   },
   "outputs": [
    {
     "data": {
      "text/plain": [
       "tensor(4.2598)"
      ]
     },
     "execution_count": 109,
     "metadata": {},
     "output_type": "execute_result"
    }
   ],
   "source": [
    "loss.t_get_rmse(Total_preds[train_index], ldos[train_index], xdos, perc= True)"
   ]
  },
  {
   "cell_type": "code",
   "execution_count": null,
   "id": "e076ea9f",
   "metadata": {},
   "outputs": [],
   "source": []
  },
  {
   "cell_type": "code",
   "execution_count": 106,
   "id": "fc55acf7",
   "metadata": {
    "ExecuteTime": {
     "end_time": "2023-02-22T14:27:38.441374Z",
     "start_time": "2023-02-22T14:27:34.059252Z"
    }
   },
   "outputs": [],
   "source": []
  },
  {
   "cell_type": "code",
   "execution_count": 111,
   "id": "6e458426",
   "metadata": {
    "ExecuteTime": {
     "end_time": "2023-02-22T14:28:43.208743Z",
     "start_time": "2023-02-22T14:28:42.961990Z"
    }
   },
   "outputs": [
    {
     "data": {
      "text/plain": [
       "[<matplotlib.lines.Line2D at 0x7fb709cbe190>]"
      ]
     },
     "execution_count": 111,
     "metadata": {},
     "output_type": "execute_result"
    },
    {
     "data": {
      "image/png": "[encoded data removed]",
      "text/plain": [
       "<Figure size 432x288 with 1 Axes>"
      ]
     },
     "metadata": {
      "needs_background": "light"
     },
     "output_type": "display_data"
    }
   ],
   "source": [
    "%matplotlib inline\n",
    "i = 2\n",
    "plt.plot(xdos,new_dos[i].detach().numpy(), c = 'r')\n",
    "plt.plot(xdos, ldos[train_index[i]], c= 'b')"
   ]
  },
  {
   "cell_type": "code",
   "execution_count": 12,
   "id": "66786581",
   "metadata": {
    "ExecuteTime": {
     "end_time": "2023-02-16T08:39:06.823661Z",
     "start_time": "2023-02-16T08:39:06.819813Z"
    }
   },
   "outputs": [],
   "source": [
    "def generate_energy_index(eigenenergy_length):\n",
    "    n_structures = len(eigenenergy_length)\n",
    "    total_index = []\n",
    "    for i, e_vals in enumerate(eigenenergy_length):\n",
    "        indiv_index = torch.zeros(e_vals) + i\n",
    "        total_index.append(indiv_index)\n",
    "    total_index = torch.hstack(total_index)\n",
    "    return total_index.long()"
   ]
  },
  {
   "cell_type": "code",
   "execution_count": 13,
   "id": "54ca4d16",
   "metadata": {
    "ExecuteTime": {
     "end_time": "2023-02-16T08:39:07.380768Z",
     "start_time": "2023-02-16T08:39:07.157417Z"
    }
   },
   "outputs": [],
   "source": [
    "energy_index = generate_energy_index(eigenenergy_length)"
   ]
  },
  {
   "cell_type": "code",
   "execution_count": 14,
   "id": "c5a39d14",
   "metadata": {
    "ExecuteTime": {
     "end_time": "2023-02-16T08:39:07.473228Z",
     "start_time": "2023-02-16T08:39:07.387758Z"
    }
   },
   "outputs": [],
   "source": [
    "energies = torch.hstack(full_eigen_energies).view(-1,1)"
   ]
  },
  {
   "cell_type": "code",
   "execution_count": 15,
   "id": "d9e44023",
   "metadata": {
    "ExecuteTime": {
     "end_time": "2023-02-16T08:39:08.146583Z",
     "start_time": "2023-02-16T08:39:08.136158Z"
    }
   },
   "outputs": [],
   "source": [
    "def torch_generate_dos(energies, eigenenergy_length_t, normalization, splits):\n",
    "    ldoses = []\n",
    "    for i in tqdm(range(len(splits) - 1)):\n",
    "        indexes = generate_energy_index(eigenenergy_length_t[splits[i]:splits[i+1]])\n",
    "        E = energies[torch.sum(eigenenergy_length_t[:splits[i]]):torch.sum(eigenenergy_length_t[:splits[i]]) + torch.sum(eigenenergy_length_t[splits[i]:splits[i+1]])]\n",
    "        split_ldos = torch.zeros(splits[i+1] - splits[i], len(xdos))\n",
    "        \n",
    "        new_ldos = (torch.exp(-0.5*((xdos - E)/sigma)**2))\n",
    "        \n",
    "        split_ldos.index_add_(0, indexes, new_ldos)\n",
    "        \n",
    "        ldoses.append(split_ldos)\n",
    "    ldoses = torch.vstack(ldoses)     \n",
    "    \n",
    "    final_ldos = ((ldoses.T * normalization ).T)* 2\n",
    "    return final_ldos\n",
    "    \n"
   ]
  },
  {
   "cell_type": "code",
   "execution_count": 16,
   "id": "7689c586",
   "metadata": {
    "ExecuteTime": {
     "end_time": "2023-02-16T08:39:08.576690Z",
     "start_time": "2023-02-16T08:39:08.574219Z"
    }
   },
   "outputs": [],
   "source": [
    "# ldos2 = torch_generate_dos(energies, eigenenergy_length_t, normalization, [0, 100, 200, 300, 400, 500, 800, 1039])"
   ]
  },
  {
   "cell_type": "code",
   "execution_count": 17,
   "id": "d7efc2ab",
   "metadata": {
    "ExecuteTime": {
     "end_time": "2023-02-16T08:39:09.032679Z",
     "start_time": "2023-02-16T08:39:09.027183Z"
    }
   },
   "outputs": [
    {
     "data": {
      "text/plain": [
       "torch.Size([435])"
      ]
     },
     "execution_count": 17,
     "metadata": {},
     "output_type": "execute_result"
    }
   ],
   "source": [
    "alignment.shape"
   ]
  },
  {
   "cell_type": "code",
   "execution_count": 18,
   "id": "d61874f7",
   "metadata": {
    "ExecuteTime": {
     "end_time": "2023-02-16T08:39:09.588529Z",
     "start_time": "2023-02-16T08:39:09.585975Z"
    }
   },
   "outputs": [],
   "source": [
    "lr = 100\n",
    "n_epochs = 1000\n",
    "\n"
   ]
  },
  {
   "cell_type": "code",
   "execution_count": 19,
   "id": "54872698",
   "metadata": {
    "ExecuteTime": {
     "end_time": "2023-02-16T08:39:19.381624Z",
     "start_time": "2023-02-16T08:39:13.631029Z"
    }
   },
   "outputs": [
    {
     "name": "stderr",
     "output_type": "stream",
     "text": [
      "100%|████████████████████████████████████████████████████████████████████████████████████████████████████████████████████████████████████████████████████████████████████| 435/435 [00:05<00:00, 75.96it/s]\n"
     ]
    }
   ],
   "source": [
    "sigma = torch.tensor(0.3)\n",
    "dx = 0.05\n",
    "\n",
    "emin = -24.5537\n",
    "emax = 11.3464\n",
    "\n",
    "\n",
    "ndos = int((emax-emin+3) / dx) #number of points\n",
    "xdos = torch.linspace(emin-1.5, emax+1.5, ndos) # extend the energy grid by 3eV \n",
    "ldos = torch.zeros((len(small_index), ndos))\n",
    "for i in tqdm(range(len(small_index))):#for every structure    \n",
    "    ldos[i] = torch.sum(torch.exp(-0.5*((alignment[i] + xdos - full_eigen_energies[small_index[i]].view(-1,1))/sigma)**2), dim = 0)\n",
    "\n",
    "final_ldos = ((ldos.T * normalization ).T)* 2"
   ]
  },
  {
   "cell_type": "code",
   "execution_count": 20,
   "id": "60bd101f",
   "metadata": {
    "ExecuteTime": {
     "end_time": "2023-02-16T08:39:19.400819Z",
     "start_time": "2023-02-16T08:39:19.385744Z"
    }
   },
   "outputs": [],
   "source": [
    "loss = torch.sum((1 - torch.abs((torch.corrcoef(torch.hstack([kernel_features, final_ldos]).T)[0][1:])))**2)"
   ]
  },
  {
   "cell_type": "code",
   "execution_count": 21,
   "id": "908f44b7",
   "metadata": {
    "ExecuteTime": {
     "end_time": "2023-02-16T08:39:19.417545Z",
     "start_time": "2023-02-16T08:39:19.404028Z"
    }
   },
   "outputs": [
    {
     "name": "stdout",
     "output_type": "stream",
     "text": [
      "tensor(212.8861, grad_fn=<SumBackward0>)\n"
     ]
    }
   ],
   "source": [
    "print (loss)"
   ]
  },
  {
   "cell_type": "code",
   "execution_count": null,
   "id": "7e04ff2d",
   "metadata": {
    "ExecuteTime": {
     "start_time": "2023-02-16T08:39:58.336Z"
    }
   },
   "outputs": [
    {
     "name": "stderr",
     "output_type": "stream",
     "text": [
      "  0%|▏                                                                                                                                                                  | 1/1000 [00:09<2:45:56,  9.97s/it]"
     ]
    },
    {
     "name": "stdout",
     "output_type": "stream",
     "text": [
      "tensor(212.8861, grad_fn=<SumBackward0>)\n"
     ]
    },
    {
     "name": "stderr",
     "output_type": "stream",
     "text": [
      "\r",
      "  0%|▎                                                                                                                                                                  | 2/1000 [00:21<2:56:37, 10.62s/it]"
     ]
    },
    {
     "name": "stdout",
     "output_type": "stream",
     "text": [
      "tensor(212.1835, grad_fn=<SumBackward0>)\n"
     ]
    },
    {
     "name": "stderr",
     "output_type": "stream",
     "text": [
      "\r",
      "  0%|▍                                                                                                                                                                  | 3/1000 [00:29<2:41:25,  9.71s/it]"
     ]
    },
    {
     "name": "stdout",
     "output_type": "stream",
     "text": [
      "tensor(207.9559, grad_fn=<SumBackward0>)\n"
     ]
    },
    {
     "name": "stderr",
     "output_type": "stream",
     "text": [
      "\r",
      "  0%|▋                                                                                                                                                                  | 4/1000 [00:37<2:27:05,  8.86s/it]"
     ]
    },
    {
     "name": "stdout",
     "output_type": "stream",
     "text": [
      "tensor(204.2679, grad_fn=<SumBackward0>)\n"
     ]
    },
    {
     "name": "stderr",
     "output_type": "stream",
     "text": [
      "\r",
      "  0%|▊                                                                                                                                                                  | 5/1000 [00:45<2:25:24,  8.77s/it]"
     ]
    },
    {
     "name": "stdout",
     "output_type": "stream",
     "text": [
      "tensor(202.9791, grad_fn=<SumBackward0>)\n"
     ]
    },
    {
     "name": "stderr",
     "output_type": "stream",
     "text": [
      "\r",
      "  1%|▉                                                                                                                                                                  | 6/1000 [00:54<2:23:37,  8.67s/it]"
     ]
    },
    {
     "name": "stdout",
     "output_type": "stream",
     "text": [
      "tensor(203.2197, grad_fn=<SumBackward0>)\n"
     ]
    },
    {
     "name": "stderr",
     "output_type": "stream",
     "text": [
      "\r",
      "  1%|█▏                                                                                                                                                                 | 7/1000 [01:02<2:21:07,  8.53s/it]"
     ]
    },
    {
     "name": "stdout",
     "output_type": "stream",
     "text": [
      "tensor(203.7145, grad_fn=<SumBackward0>)\n"
     ]
    },
    {
     "name": "stderr",
     "output_type": "stream",
     "text": [
      "\r",
      "  1%|█▎                                                                                                                                                                 | 8/1000 [01:10<2:20:22,  8.49s/it]"
     ]
    },
    {
     "name": "stdout",
     "output_type": "stream",
     "text": [
      "tensor(203.2850, grad_fn=<SumBackward0>)\n"
     ]
    },
    {
     "name": "stderr",
     "output_type": "stream",
     "text": [
      "\r",
      "  1%|█▍                                                                                                                                                                 | 9/1000 [01:18<2:16:03,  8.24s/it]"
     ]
    },
    {
     "name": "stdout",
     "output_type": "stream",
     "text": [
      "tensor(202.0296, grad_fn=<SumBackward0>)\n"
     ]
    }
   ],
   "source": [
    "lr = 0.01\n",
    "alignment = torch.nn.parameter.Parameter(torch.zeros(len(small_index)))\n",
    "n_epochs = 1000\n",
    "\n",
    "optimizer = torch.optim.Adam(\n",
    "                [alignment],\n",
    "                lr=lr)#,  line_search_fn=\"strong_wolfe\")\n",
    "\n",
    "for i in tqdm(range(n_epochs)):\n",
    "    def closure():\n",
    "        optimizer.zero_grad()\n",
    "        sigma = torch.tensor(0.3)\n",
    "        dx = 0.05\n",
    "\n",
    "        emin = -24.5537\n",
    "        emax = 11.3464\n",
    "\n",
    "\n",
    "        ndos = int((emax-emin+3) / dx) #number of points\n",
    "        xdos = torch.linspace(emin-1.5, emax+1.5, ndos) # extend the energy grid by 3eV \n",
    "        ldos = torch.zeros((len(small_index), ndos))\n",
    "        for i in (range(len(small_index))):#for every structure    \n",
    "            ldos[i] = torch.sum(torch.exp(-0.5*((alignment[i] + xdos - full_eigen_energies[small_index[i]].view(-1,1))/sigma)**2), dim = 0)\n",
    "\n",
    "        final_ldos = ((ldos.T * normalization ).T)* 2\n",
    "        pc_loss = torch.sum((1 - torch.abs((torch.corrcoef(torch.hstack([kernel_features, final_ldos]).T)[0][1:])))**2)\n",
    "        #print (pc_loss)\n",
    "        pc_loss.backward()\n",
    "        return pc_loss\n",
    "    \n",
    "    mse = optimizer.step(closure)\n",
    "    \n",
    "    print (mse)"
   ]
  },
  {
   "cell_type": "code",
   "execution_count": null,
   "id": "a27ee561",
   "metadata": {},
   "outputs": [],
   "source": []
  },
  {
   "cell_type": "code",
   "execution_count": 80,
   "id": "50611879",
   "metadata": {
    "ExecuteTime": {
     "end_time": "2023-02-15T21:35:58.937150Z",
     "start_time": "2023-02-15T21:35:58.697835Z"
    }
   },
   "outputs": [
    {
     "data": {
      "text/plain": [
       "[<matplotlib.lines.Line2D at 0x7f10ec0a2c10>]"
      ]
     },
     "execution_count": 80,
     "metadata": {},
     "output_type": "execute_result"
    },
    {
     "data": {
      "image/png": "[encoded data removed]",
      "text/plain": [
       "<Figure size 432x288 with 1 Axes>"
      ]
     },
     "metadata": {
      "needs_background": "light"
     },
     "output_type": "display_data"
    }
   ],
   "source": [
    "%matplotlib inline\n",
    "index = 50\n",
    "plt.plot(xdos, o_ldos[small_index[index]], c = 'r')\n",
    "plt.plot(xdos, final_ldos[index].detach(), c = 'b')"
   ]
  },
  {
   "cell_type": "markdown",
   "id": "9e9f040b",
   "metadata": {},
   "source": [
    "torch.corrcoef\n",
    "torch.var"
   ]
  },
  {
   "cell_type": "code",
   "execution_count": 24,
   "id": "675d9ffc",
   "metadata": {
    "ExecuteTime": {
     "end_time": "2023-02-16T10:05:38.418301Z",
     "start_time": "2023-02-16T10:05:38.353655Z"
    }
   },
   "outputs": [
    {
     "name": "stdout",
     "output_type": "stream",
     "text": [
      "tensor(552253)\n"
     ]
    },
    {
     "ename": "NameError",
     "evalue": "name 'test_ldos' is not defined",
     "output_type": "error",
     "traceback": [
      "\u001b[0;31m---------------------------------------------------------------------------\u001b[0m",
      "\u001b[0;31mNameError\u001b[0m                                 Traceback (most recent call last)",
      "Input \u001b[0;32mIn [24]\u001b[0m, in \u001b[0;36m<cell line: 4>\u001b[0;34m()\u001b[0m\n\u001b[1;32m      1\u001b[0m tol \u001b[38;5;241m=\u001b[39m \u001b[38;5;241m1E-4\u001b[39m\n\u001b[1;32m      2\u001b[0m \u001b[38;5;28mprint\u001b[39m (torch\u001b[38;5;241m.\u001b[39msum(ldos \u001b[38;5;241m>\u001b[39m tol))\n\u001b[0;32m----> 4\u001b[0m plt\u001b[38;5;241m.\u001b[39mplot(xdos[(\u001b[43mtest_ldos\u001b[49m \u001b[38;5;241m>\u001b[39m tol)], test_ldos[(test_ldos \u001b[38;5;241m>\u001b[39m tol)])\n",
      "\u001b[0;31mNameError\u001b[0m: name 'test_ldos' is not defined"
     ]
    }
   ],
   "source": [
    "tol = 1E-4\n",
    "print (torch.sum(test_ldos > tol))\n",
    "\n",
    "plt.plot(xdos[(test_ldos > tol)], test_ldos[(test_ldos > tol)])"
   ]
  },
  {
   "cell_type": "code",
   "execution_count": 22,
   "id": "938df9f3",
   "metadata": {
    "ExecuteTime": {
     "end_time": "2023-02-16T10:05:21.184180Z",
     "start_time": "2023-02-16T10:05:20.379077Z"
    }
   },
   "outputs": [
    {
     "ename": "NameError",
     "evalue": "name 'test_ldos' is not defined",
     "output_type": "error",
     "traceback": [
      "\u001b[0;31m---------------------------------------------------------------------------\u001b[0m",
      "\u001b[0;31mNameError\u001b[0m                                 Traceback (most recent call last)",
      "Input \u001b[0;32mIn [22]\u001b[0m, in \u001b[0;36m<cell line: 1>\u001b[0;34m()\u001b[0m\n\u001b[0;32m----> 1\u001b[0m \u001b[38;5;28mlen\u001b[39m(xdos[(\u001b[43mtest_ldos\u001b[49m \u001b[38;5;241m>\u001b[39m tol)])\n",
      "\u001b[0;31mNameError\u001b[0m: name 'test_ldos' is not defined"
     ]
    }
   ],
   "source": [
    "len(xdos[(test_ldos > tol)])"
   ]
  },
  {
   "cell_type": "code",
   "execution_count": 212,
   "id": "e357e0fa",
   "metadata": {
    "ExecuteTime": {
     "end_time": "2023-02-15T18:43:55.022917Z",
     "start_time": "2023-02-15T18:43:55.004512Z"
    }
   },
   "outputs": [
    {
     "data": {
      "text/plain": [
       "tensor([6.3422e-155, 5.0089e-153, 3.8472e-151, 2.8738e-149, 2.0878e-147,\n",
       "        1.4751e-145, 1.0136e-143, 6.7735e-142, 4.4023e-140, 2.7826e-138,\n",
       "        1.7105e-136, 1.0226e-134, 5.9460e-133, 3.3623e-131, 1.8491e-129,\n",
       "        9.8900e-128, 5.1445e-126, 2.6026e-124, 1.2805e-122, 6.1272e-121,\n",
       "        2.8514e-119, 1.2906e-117, 5.6807e-116, 2.4319e-114, 1.0125e-112,\n",
       "        4.0999e-111, 1.6146e-109, 6.1840e-108, 2.3035e-106, 8.3453e-105,\n",
       "        2.9404e-103, 1.0076e-101, 3.3580e-100,  1.0885e-98,  3.4313e-97,\n",
       "         1.0520e-95,  3.1370e-94,  9.0977e-93,  2.5661e-91,  7.0396e-90,\n",
       "         1.8782e-88,  4.8739e-87,  1.2301e-85,  3.0194e-84,  7.2086e-83,\n",
       "         1.6738e-81,  3.7801e-80,  8.3031e-79,  1.7738e-77,  3.6858e-76,\n",
       "         7.4489e-75,  1.4642e-73,  2.7993e-72,  5.2054e-71,  9.4147e-70,\n",
       "         1.6562e-68,  2.8339e-67,  4.7164e-66,  7.6348e-65,  1.2021e-63,\n",
       "         1.8411e-62,  2.7426e-61,  3.9740e-60,  5.6011e-59,  7.6789e-58,\n",
       "         1.0240e-56,  1.3284e-55,  1.6761e-54,  2.0573e-53,  2.4563e-52,\n",
       "         2.8529e-51,  3.2233e-50,  3.5426e-49,  3.7876e-48,  3.9395e-47,\n",
       "         3.9860e-46,  3.9235e-45,  3.7572e-44,  3.5002e-43,  3.1723e-42,\n",
       "         2.7972e-41,  2.3996e-40,  2.0027e-39,  1.6263e-38,  1.2848e-37,\n",
       "         9.8763e-37,  7.3866e-36,  5.3754e-35,  3.8061e-34,  2.6223e-33,\n",
       "         1.7580e-32,  1.1468e-31,  7.2798e-31,  4.4967e-30,  2.7030e-29,\n",
       "         1.5811e-28,  9.0000e-28,  4.9857e-27,  2.6878e-26,  1.4102e-25,\n",
       "         7.2005e-25,  3.5783e-24,  1.7306e-23,  8.1466e-23,  3.7324e-22,\n",
       "         1.6644e-21,  7.2239e-21,  3.0518e-20,  1.2549e-19,  5.0228e-19,\n",
       "         1.9569e-18,  7.4212e-18,  2.7396e-17,  9.8450e-17,  3.4439e-16,\n",
       "         1.1728e-15,  3.8879e-15,  1.2547e-14,  3.9422e-14,  1.2058e-13,\n",
       "         3.5908e-13,  1.0411e-12,  2.9388e-12,  8.0771e-12,  2.1615e-11,\n",
       "         5.6326e-11,  1.4292e-10,  3.5316e-10,  8.4984e-10,  1.9917e-09,\n",
       "         4.5462e-09,  1.0108e-08,  2.1891e-08,  4.6188e-08,  9.4948e-08,\n",
       "         1.9018e-07,  3.7123e-07,  7.0625e-07,  1.3097e-06,  2.3680e-06,\n",
       "         4.1747e-06,  7.1780e-06,  1.2040e-05,  1.9703e-05,  3.1471e-05,\n",
       "         4.9073e-05,  7.4723e-05,  1.1115e-04,  1.6157e-04,  2.2961e-04,\n",
       "         3.1913e-04,  4.3403e-04,  5.7795e-04,  7.5390e-04,  9.6401e-04,\n",
       "         1.2092e-03,  1.4889e-03,  1.8013e-03,  2.1430e-03,  2.5095e-03,\n",
       "         2.8954e-03,  3.2947e-03,  3.7016e-03,  4.1104e-03,  4.5160e-03,\n",
       "         4.9145e-03,  5.3026e-03,  5.6785e-03,  6.0412e-03,  6.3907e-03,\n",
       "         6.7276e-03,  7.0533e-03,  7.3692e-03,  7.6766e-03,  7.9769e-03,\n",
       "         8.2709e-03,  8.5594e-03,  8.8429e-03,  9.1222e-03,  9.3985e-03,\n",
       "         9.6734e-03,  9.9487e-03,  1.0227e-02,  1.0510e-02,  1.0801e-02,\n",
       "         1.1099e-02,  1.1406e-02,  1.1722e-02,  1.2045e-02,  1.2374e-02,\n",
       "         1.2710e-02,  1.3052e-02,  1.3400e-02,  1.3755e-02,  1.4118e-02,\n",
       "         1.4490e-02,  1.4869e-02,  1.5254e-02,  1.5642e-02,  1.6028e-02,\n",
       "         1.6404e-02,  1.6766e-02,  1.7105e-02,  1.7414e-02,  1.7688e-02,\n",
       "         1.7922e-02,  1.8112e-02,  1.8255e-02,  1.8351e-02,  1.8399e-02,\n",
       "         1.8399e-02,  1.8352e-02,  1.8259e-02,  1.8120e-02,  1.7937e-02,\n",
       "         1.7710e-02,  1.7442e-02,  1.7136e-02,  1.6794e-02,  1.6423e-02,\n",
       "         1.6028e-02,  1.5613e-02,  1.5183e-02,  1.4743e-02,  1.4293e-02,\n",
       "         1.3835e-02,  1.3368e-02,  1.2889e-02,  1.2397e-02,  1.1888e-02,\n",
       "         1.1362e-02,  1.0818e-02,  1.0259e-02,  9.6895e-03,  9.1150e-03,\n",
       "         8.5447e-03,  7.9887e-03,  7.4592e-03,  6.9691e-03,  6.5323e-03,\n",
       "         6.1628e-03,  5.8745e-03,  5.6806e-03,  5.5934e-03,  5.6234e-03,\n",
       "         5.7799e-03,  6.0695e-03,  6.4967e-03,  7.0630e-03,  7.7663e-03,\n",
       "         8.6010e-03,  9.5568e-03,  1.0619e-02,  1.1768e-02,  1.2979e-02,\n",
       "         1.4224e-02,  1.5471e-02,  1.6688e-02,  1.7842e-02,  1.8901e-02,\n",
       "         1.9838e-02,  2.0628e-02,  2.1254e-02,  2.1703e-02,  2.1969e-02,\n",
       "         2.2054e-02,  2.1963e-02,  2.1709e-02,  2.1309e-02,  2.0785e-02,\n",
       "         2.0162e-02,  1.9465e-02,  1.8721e-02,  1.7956e-02,  1.7192e-02,\n",
       "         1.6449e-02,  1.5740e-02,  1.5075e-02,  1.4459e-02,  1.3892e-02,\n",
       "         1.3370e-02,  1.2888e-02,  1.2440e-02,  1.2019e-02,  1.1618e-02,\n",
       "         1.1233e-02,  1.0862e-02,  1.0505e-02,  1.0161e-02,  9.8354e-03,\n",
       "         9.5303e-03,  9.2505e-03,  9.0001e-03,  8.7829e-03,  8.6025e-03,\n",
       "         8.4619e-03,  8.3648e-03,  8.3153e-03,  8.3191e-03,  8.3840e-03,\n",
       "         8.5201e-03,  8.7394e-03,  9.0557e-03,  9.4823e-03,  1.0031e-02,\n",
       "         1.0711e-02,  1.1523e-02,  1.2465e-02,  1.3523e-02,  1.4678e-02,\n",
       "         1.5903e-02,  1.7166e-02,  1.8430e-02,  1.9662e-02,  2.0826e-02,\n",
       "         2.1895e-02,  2.2845e-02,  2.3663e-02,  2.4343e-02,  2.4887e-02,\n",
       "         2.5307e-02,  2.5619e-02,  2.5846e-02,  2.6013e-02,  2.6148e-02,\n",
       "         2.6274e-02,  2.6415e-02,  2.6587e-02,  2.6803e-02,  2.7072e-02,\n",
       "         2.7395e-02,  2.7774e-02,  2.8203e-02,  2.8676e-02,  2.9185e-02,\n",
       "         2.9720e-02,  3.0271e-02,  3.0826e-02,  3.1369e-02,  3.1886e-02,\n",
       "         3.2363e-02,  3.2785e-02,  3.3140e-02,  3.3418e-02,  3.3616e-02,\n",
       "         3.3734e-02,  3.3776e-02,  3.3752e-02,  3.3675e-02,  3.3559e-02,\n",
       "         3.3418e-02,  3.3263e-02,  3.3102e-02,  3.2942e-02,  3.2781e-02,\n",
       "         3.2618e-02,  3.2444e-02,  3.2252e-02,  3.2032e-02,  3.1775e-02,\n",
       "         3.1472e-02,  3.1116e-02,  3.0701e-02,  3.0226e-02,  2.9688e-02,\n",
       "         2.9089e-02,  2.8432e-02,  2.7722e-02,  2.6965e-02,  2.6168e-02,\n",
       "         2.5340e-02,  2.4489e-02,  2.3622e-02,  2.2749e-02,  2.1873e-02,\n",
       "         2.1000e-02,  2.0131e-02,  1.9268e-02,  1.8409e-02,  1.7553e-02,\n",
       "         1.6697e-02,  1.5840e-02,  1.4981e-02,  1.4119e-02,  1.3255e-02,\n",
       "         1.2392e-02,  1.1534e-02,  1.0685e-02,  9.8508e-03,  9.0375e-03,\n",
       "         8.2506e-03,  7.4957e-03,  6.7779e-03,  6.1023e-03,  5.4731e-03,\n",
       "         4.8947e-03,  4.3709e-03,  3.9051e-03,  3.5007e-03,  3.1604e-03,\n",
       "         2.8866e-03,  2.6809e-03,  2.5448e-03,  2.4785e-03,  2.4823e-03,\n",
       "         2.5554e-03,  2.6967e-03,  2.9047e-03,  3.1773e-03,  3.5120e-03,\n",
       "         3.9057e-03,  4.3549e-03,  4.8558e-03,  5.4040e-03,  5.9951e-03,\n",
       "         6.6248e-03,  7.2894e-03,  7.9860e-03,  8.7128e-03,  9.4696e-03,\n",
       "         1.0257e-02,  1.1078e-02,  1.1935e-02,  1.2832e-02,  1.3770e-02,\n",
       "         1.4753e-02,  1.5779e-02,  1.6847e-02,  1.7953e-02,  1.9089e-02,\n",
       "         2.0248e-02,  2.1419e-02,  2.2587e-02,  2.3740e-02,  2.4860e-02,\n",
       "         2.5930e-02,  2.6934e-02,  2.7854e-02,  2.8677e-02,  2.9391e-02,\n",
       "         2.9987e-02,  3.0465e-02,  3.0828e-02,  3.1083e-02,  3.1246e-02,\n",
       "         3.1334e-02,  3.1367e-02,  3.1367e-02,  3.1353e-02,  3.1345e-02,\n",
       "         3.1357e-02,  3.1402e-02,  3.1485e-02,  3.1612e-02,  3.1781e-02,\n",
       "         3.1991e-02,  3.2236e-02,  3.2511e-02,  3.2810e-02,  3.3127e-02,\n",
       "         3.3455e-02,  3.3790e-02,  3.4128e-02,  3.4464e-02,  3.4794e-02,\n",
       "         3.5115e-02,  3.5424e-02,  3.5715e-02,  3.5985e-02,  3.6228e-02,\n",
       "         3.6439e-02,  3.6610e-02,  3.6737e-02,  3.6813e-02,  3.6834e-02,\n",
       "         3.6796e-02,  3.6700e-02,  3.6546e-02,  3.6337e-02,  3.6082e-02,\n",
       "         3.5786e-02,  3.5457e-02,  3.5104e-02,  3.4733e-02,  3.4347e-02,\n",
       "         3.3949e-02,  3.3540e-02,  3.3121e-02,  3.2693e-02,  3.2260e-02,\n",
       "         3.1829e-02,  3.1409e-02,  3.1009e-02,  3.0644e-02,  3.0325e-02,\n",
       "         3.0061e-02,  2.9857e-02,  2.9716e-02,  2.9633e-02,  2.9600e-02,\n",
       "         2.9603e-02,  2.9629e-02,  2.9661e-02,  2.9684e-02,  2.9686e-02,\n",
       "         2.9655e-02,  2.9585e-02,  2.9473e-02,  2.9319e-02,  2.9126e-02,\n",
       "         2.8900e-02,  2.8650e-02,  2.8384e-02,  2.8113e-02,  2.7847e-02,\n",
       "         2.7594e-02,  2.7362e-02,  2.7156e-02,  2.6977e-02,  2.6824e-02,\n",
       "         2.6696e-02,  2.6588e-02,  2.6496e-02,  2.6415e-02,  2.6346e-02,\n",
       "         2.6287e-02,  2.6243e-02,  2.6218e-02,  2.6216e-02,  2.6243e-02,\n",
       "         2.6301e-02,  2.6393e-02,  2.6517e-02,  2.6669e-02,  2.6844e-02,\n",
       "         2.7035e-02,  2.7236e-02,  2.7439e-02,  2.7637e-02,  2.7824e-02,\n",
       "         2.7993e-02,  2.8140e-02,  2.8262e-02,  2.8354e-02,  2.8416e-02,\n",
       "         2.8448e-02,  2.8452e-02,  2.8433e-02,  2.8395e-02,  2.8345e-02,\n",
       "         2.8290e-02,  2.8237e-02,  2.8193e-02,  2.8165e-02,  2.8157e-02,\n",
       "         2.8174e-02,  2.8218e-02,  2.8288e-02,  2.8385e-02,  2.8504e-02,\n",
       "         2.8638e-02,  2.8781e-02,  2.8924e-02,  2.9058e-02,  2.9173e-02,\n",
       "         2.9263e-02,  2.9321e-02,  2.9345e-02,  2.9334e-02,  2.9291e-02,\n",
       "         2.9219e-02,  2.9125e-02,  2.9017e-02,  2.8904e-02,  2.8792e-02,\n",
       "         2.8691e-02,  2.8606e-02,  2.8541e-02,  2.8500e-02,  2.8481e-02,\n",
       "         2.8483e-02,  2.8499e-02,  2.8521e-02,  2.8540e-02,  2.8546e-02,\n",
       "         2.8530e-02,  2.8484e-02,  2.8405e-02,  2.8292e-02,  2.8148e-02,\n",
       "         2.7980e-02,  2.7796e-02,  2.7609e-02,  2.7430e-02,  2.7269e-02,\n",
       "         2.7134e-02,  2.7031e-02,  2.6963e-02,  2.6927e-02,  2.6919e-02,\n",
       "         2.6930e-02,  2.6948e-02,  2.6961e-02,  2.6952e-02,  2.6904e-02,\n",
       "         2.6801e-02,  2.6626e-02,  2.6365e-02,  2.6006e-02,  2.5543e-02,\n",
       "         2.4973e-02,  2.4301e-02,  2.3538e-02,  2.2700e-02,  2.1810e-02,\n",
       "         2.0892e-02,  1.9973e-02,  1.9080e-02,  1.8233e-02,  1.7450e-02,\n",
       "         1.6737e-02,  1.6094e-02,  1.5512e-02,  1.4972e-02,  1.4453e-02,\n",
       "         1.3929e-02,  1.3377e-02,  1.2778e-02,  1.2118e-02,  1.1393e-02,\n",
       "         1.0608e-02,  9.7757e-03,  8.9154e-03,  8.0504e-03,  7.2048e-03,\n",
       "         6.4011e-03,  5.6575e-03,  4.9864e-03,  4.3937e-03,  3.8789e-03,\n",
       "         3.4362e-03,  3.0560e-03,  2.7265e-03,  2.4358e-03,  2.1729e-03,\n",
       "         1.9294e-03,  1.6996e-03,  1.4805e-03,  1.2716e-03,  1.0744e-03,\n",
       "         8.9123e-04,  7.2458e-04,  5.7664e-04,  4.4874e-04,  3.4120e-04,\n",
       "         2.5331e-04,  1.8353e-04,  1.2972e-04,  8.9409e-05,  6.0078e-05,\n",
       "         3.9347e-05,  2.5111e-05,  1.5615e-05,  9.4585e-06,  5.5809e-06,\n",
       "         3.2071e-06,  1.7948e-06,  9.7804e-07,  5.1895e-07,  2.6809e-07,\n",
       "         1.3483e-07,  6.6014e-08,  3.1463e-08,  1.4596e-08,  6.5912e-09,\n",
       "         2.8969e-09,  1.2392e-09,  5.1590e-10,  2.0903e-10,  8.2419e-11,\n",
       "         3.1625e-11,  1.1809e-11,  4.2907e-12,  1.5171e-12,  5.2193e-13,\n",
       "         1.7472e-13,  5.6912e-14,  1.8037e-14,  5.5620e-15,  1.6688e-15,\n",
       "         4.8712e-16,  1.3835e-16,  3.8227e-17,  1.0276e-17,  2.6876e-18,\n",
       "         6.8383e-19,  1.6927e-19,  4.0763e-20,  9.5496e-21,  2.1764e-21,\n",
       "         4.8253e-22,  1.0407e-22,  2.1836e-23,  4.4569e-24,  8.8491e-25,\n",
       "         1.7091e-25,  3.2112e-26,  5.8689e-27,  1.0434e-27,  1.8044e-28,\n",
       "         3.0355e-29,  4.9671e-30,  7.9062e-31,  1.2241e-31,  1.8435e-32,\n",
       "         2.7007e-33,  3.8482e-34,  5.3338e-35,  7.1908e-36,  9.4296e-37,\n",
       "         1.2028e-37,  1.4922e-38,  1.8008e-39,  2.1137e-40,  2.4132e-41,\n",
       "         2.6798e-42,  2.8944e-43,  3.0408e-44,  3.1072e-45,  3.0882e-46,\n",
       "         2.9853e-47,  2.8069e-48,  2.5669e-49,  2.2832e-50,  1.9753e-51,\n",
       "         1.6621e-52,  1.3603e-53,  1.0828e-54,  8.3836e-56,  6.3130e-57,\n",
       "         4.6236e-58,  3.2936e-59,  2.2819e-60,  1.5377e-61,  1.0078e-62,\n",
       "         6.4239e-64,  3.9826e-65,  2.4015e-66,  1.4084e-67,  8.0333e-69,\n",
       "         4.4566e-70,  2.4046e-71,  1.2619e-72,  6.4403e-74,  3.1970e-75,\n",
       "         1.5435e-76,  7.2475e-78,  3.3098e-79,  1.4701e-80,  6.3506e-82,\n",
       "         2.6681e-83,  1.0903e-84,  4.3329e-86,  1.6748e-87,  6.2957e-89,\n",
       "         2.3018e-90,  8.1849e-92,  2.8306e-93,  9.5207e-95,  3.1144e-96,\n",
       "         9.9086e-98,  3.0660e-99, 9.2266e-101, 2.7005e-102, 7.6870e-104,\n",
       "        2.1281e-105, 5.7300e-107, 1.5005e-108])"
      ]
     },
     "execution_count": 212,
     "metadata": {},
     "output_type": "execute_result"
    }
   ],
   "source": [
    "ldos[0]"
   ]
  },
  {
   "cell_type": "code",
   "execution_count": 154,
   "id": "0d021141",
   "metadata": {
    "ExecuteTime": {
     "end_time": "2023-02-14T12:47:02.295618Z",
     "start_time": "2023-02-14T12:33:29.004700Z"
    }
   },
   "outputs": [
    {
     "name": "stderr",
     "output_type": "stream",
     "text": [
      "100%|██████████████████████████████████████████████████████████████████████████████████████████████████████████████████████████████████████████████████████████████████| 1039/1039 [13:33<00:00,  1.28it/s]\n"
     ]
    }
   ],
   "source": [
    "sigma = torch.tensor(0.3)\n",
    "dx = 0.05\n",
    "\n",
    "ndos = int((emax-emin+3) / dx) #number of points\n",
    "xdos = torch.linspace(emin-1.5, emax+1.5, ndos) # extend the energy grid by 3eV \n",
    "ldos = torch.zeros((len(full_eigen_energies), ndos))\n",
    "for i in tqdm(range(len(full_eigen_energies))):#for every structure    \n",
    "    for ei in full_eigen_energies[i]:#for every energy level\n",
    "        ldos[i] += torch.exp(-0.5*((xdos[:]-ei)/sigma)**2) #puts a gaussian centered on the energy level\n",
    "    ldos[i] *= 1/torch.sqrt(2*torch.tensor(np.pi)*sigma**2)/n_atoms[i]/len(full_eigen_energies[i]) #normalize"
   ]
  },
  {
   "cell_type": "code",
   "execution_count": 181,
   "id": "f7fd98cd",
   "metadata": {
    "ExecuteTime": {
     "end_time": "2023-02-14T13:14:29.018511Z",
     "start_time": "2023-02-14T13:00:48.948943Z"
    }
   },
   "outputs": [
    {
     "name": "stderr",
     "output_type": "stream",
     "text": [
      "100%|██████████████████████████████████████████████████████████████████████████████████████████████████████████████████████████████████████████████████████████████████| 1039/1039 [13:40<00:00,  1.27it/s]\n"
     ]
    }
   ],
   "source": [
    "sigma = torch.tensor(0.3)\n",
    "dx = 0.05\n",
    "\n",
    "ndos3 = int((emax-emin+3) / dx) #number of points\n",
    "xdos3 = torch.linspace(emin-1.5, emax+1.5, ndos) # extend the energy grid by 3eV \n",
    "ldos3 = torch.zeros((len(full_eigen_energies), ndos))\n",
    "for i in tqdm(range(len(eigen_energies))):#for every structure    \n",
    "    for ei in full_eigen_energies[i]:#for every energy level\n",
    "        ldos3[i] += torch.exp(-0.5*((xdos[:]-ei)/sigma)**2) #puts a gaussian centered on the energy level\n",
    "    ldos3[i] *= 1/torch.sqrt(2*np.pi*sigma**2)/n_atoms[i]/len(eigen_energies[i]) #normalize"
   ]
  },
  {
   "cell_type": "code",
   "execution_count": 139,
   "id": "c9f7e311",
   "metadata": {
    "ExecuteTime": {
     "end_time": "2023-02-13T19:02:53.046358Z",
     "start_time": "2023-02-13T19:02:52.696381Z"
    }
   },
   "outputs": [
    {
     "name": "stdout",
     "output_type": "stream",
     "text": [
      "SOAP PCA explained variance with 1 PCA is: [0.85417772]\n",
      "Kernel PCA explained variance with 1 PCA is: [0.76640756]\n"
     ]
    }
   ],
   "source": [
    "from sklearn.decomposition import PCA\n",
    "\n",
    "soap = Silicon.Features['structure_avedescriptors'] \n",
    "soap_pca = PCA(n_components = 1, svd_solver = \"full\")\n",
    "soap_pca.fit(soap)\n",
    "\n",
    "print (\"SOAP PCA explained variance with 1 PCA is: {}\".format(soap_pca.explained_variance_ratio_))\n",
    "\n",
    "PCA_soap = soap_pca.transform(soap)\n",
    "\n",
    "kernel = Silicon.Features['structure_avekerneldescriptors']\n",
    "kernel_pca = PCA(n_components = 1, svd_solver = \"full\")\n",
    "kernel_pca.fit(kernel)\n",
    "\n",
    "print (\"Kernel PCA explained variance with 1 PCA is: {}\".format(kernel_pca.explained_variance_ratio_))\n",
    "\n",
    "PCA_kernel = kernel_pca.transform(kernel)"
   ]
  },
  {
   "cell_type": "code",
   "execution_count": 146,
   "id": "110f93f1",
   "metadata": {
    "ExecuteTime": {
     "end_time": "2023-02-13T19:05:58.302764Z",
     "start_time": "2023-02-13T19:05:58.288914Z"
    }
   },
   "outputs": [
    {
     "data": {
      "text/plain": [
       "array([[-3.49913423e-03, -1.76411215e-02,  3.32522948e-02,\n",
       "         3.61629233e-01,  1.87222390e-01,  7.49472932e-02,\n",
       "         7.73753721e-02,  2.89413546e-02, -1.76411215e-02,\n",
       "         7.01613627e-04, -6.64714922e-03, -1.96539716e-02,\n",
       "        -1.21993389e-02, -6.67081254e-03, -4.36700539e-03,\n",
       "        -1.68577363e-03,  3.32522948e-02, -6.64714922e-03,\n",
       "         2.20352739e-02,  1.41889410e-01,  7.26851954e-02,\n",
       "         3.15241013e-02,  2.88627511e-02,  1.08549650e-02,\n",
       "         3.61629233e-01, -1.96539716e-02,  1.41889410e-01,\n",
       "         4.92546963e-01,  2.89406316e-01,  1.51981690e-01,\n",
       "         1.06534352e-01,  4.10607729e-02,  1.87222390e-01,\n",
       "        -1.21993389e-02,  7.26851954e-02,  2.89406316e-01,\n",
       "         1.62030561e-01,  8.08235013e-02,  6.02749031e-02,\n",
       "         2.31914869e-02,  7.49472932e-02, -6.67081254e-03,\n",
       "         3.15241013e-02,  1.51981690e-01,  8.08235013e-02,\n",
       "         3.70043392e-02,  3.02939232e-02,  1.15274716e-02,\n",
       "         7.73753721e-02, -4.36700539e-03,  2.88627511e-02,\n",
       "         1.06534352e-01,  6.02749031e-02,  3.02939232e-02,\n",
       "         2.17846734e-02,  8.37328373e-03,  2.89413546e-02,\n",
       "        -1.68577363e-03,  1.08549650e-02,  4.10607729e-02,\n",
       "         2.31914869e-02,  1.15274716e-02,  8.37328373e-03,\n",
       "         3.21169845e-03, -2.42678062e-05,  5.11123332e-05,\n",
       "        -3.53316626e-04, -5.69486606e-04, -3.00272506e-04,\n",
       "        -2.40257378e-04, -8.47122357e-05, -3.94519317e-05,\n",
       "         5.11123332e-05, -1.69061333e-04,  8.91359912e-04,\n",
       "         1.52903701e-03,  7.98658394e-04,  5.79778184e-04,\n",
       "         1.83320028e-04,  8.26635902e-05, -3.53316626e-04,\n",
       "         8.91359912e-04, -5.43889188e-03, -9.33776686e-03,\n",
       "        -5.16824236e-03, -3.94312423e-03, -1.41001255e-03,\n",
       "        -6.45440361e-04, -5.69486606e-04,  1.52903701e-03,\n",
       "        -9.33776686e-03, -1.70537584e-02, -9.57630675e-03,\n",
       "        -6.39819664e-03, -2.20517209e-03, -9.70570198e-04,\n",
       "        -3.00272506e-04,  7.98658394e-04, -5.16824236e-03,\n",
       "        -9.57630675e-03, -6.90821221e-03, -4.72774768e-03,\n",
       "        -1.80610336e-03, -7.53570430e-04, -2.40257378e-04,\n",
       "         5.79778184e-04, -3.94312423e-03, -6.39819664e-03,\n",
       "        -4.72774768e-03, -3.68062261e-03, -1.42088201e-03,\n",
       "        -6.01509578e-04, -8.47122357e-05,  1.83320028e-04,\n",
       "        -1.41001255e-03, -2.20517209e-03, -1.80610336e-03,\n",
       "        -1.42088201e-03, -5.76636427e-04, -2.39698375e-04,\n",
       "        -3.94519317e-05,  8.26635902e-05, -6.45440361e-04,\n",
       "        -9.70570198e-04, -7.53570430e-04, -6.01509578e-04,\n",
       "        -2.39698375e-04, -1.00730273e-04, -8.58758363e-06,\n",
       "         3.54320192e-05, -1.33048376e-04, -4.02508982e-04,\n",
       "        -9.06240701e-05,  1.25316756e-05,  6.69886108e-06,\n",
       "        -3.79706680e-06,  3.54320192e-05, -4.69333435e-05,\n",
       "         6.44297922e-04,  4.61774643e-04,  2.24269773e-04,\n",
       "        -3.27066608e-05, -1.11055172e-05,  8.79788855e-06,\n",
       "        -1.33048376e-04,  6.44297922e-04, -2.00324396e-03,\n",
       "        -6.23215987e-03, -1.12522536e-03, -3.43541622e-06,\n",
       "         1.58350714e-04, -2.30601944e-05, -4.02508982e-04,\n",
       "         4.61774643e-04, -6.23215987e-03, -5.40760398e-03,\n",
       "        -1.82666612e-03, -4.18024769e-05,  2.30771920e-04,\n",
       "        -2.17776046e-05, -9.06240701e-05,  2.24269773e-04,\n",
       "        -1.12522536e-03, -1.82666612e-03, -3.44104695e-04,\n",
       "        -8.42776342e-04, -8.02835618e-06,  2.13334142e-05,\n",
       "         1.25316756e-05, -3.27066608e-05, -3.43541622e-06,\n",
       "        -4.18024769e-05, -8.42776342e-04, -4.37251369e-04,\n",
       "        -2.51613975e-04, -9.74882526e-05,  6.69886108e-06,\n",
       "        -1.11055172e-05,  1.58350714e-04,  2.30771920e-04,\n",
       "        -8.02835618e-06, -2.51613975e-04, -8.49561794e-05,\n",
       "        -2.61261272e-05, -3.79706680e-06,  8.79788855e-06,\n",
       "        -2.30601944e-05, -2.17776046e-05,  2.13334142e-05,\n",
       "        -9.74882526e-05, -2.61261272e-05, -8.82993811e-06,\n",
       "        -1.36932787e-04,  3.14708918e-04, -2.45644041e-03,\n",
       "        -4.91953300e-03, -9.45603141e-04,  4.32227611e-04,\n",
       "         1.70934099e-04,  1.82215577e-05,  3.14708918e-04,\n",
       "        -7.39813355e-04,  5.39783324e-03,  1.00309471e-02,\n",
       "         1.77314627e-03, -7.10253863e-04, -3.82378572e-04,\n",
       "        -4.25116022e-05, -2.45644041e-03,  5.39783324e-03,\n",
       "        -4.06359761e-02, -7.10010143e-02, -1.12217390e-02,\n",
       "         5.20759821e-03,  2.69665377e-03,  1.12269107e-04,\n",
       "        -4.91953300e-03,  1.00309471e-02, -7.10010143e-02,\n",
       "        -9.03459590e-02, -5.51929567e-03,  2.30618802e-03,\n",
       "         4.41800631e-03, -2.48145527e-04, -9.45603141e-04,\n",
       "         1.77314627e-03, -1.12217390e-02, -5.51929567e-03,\n",
       "         2.20724073e-03, -1.90025875e-03,  4.85091238e-04,\n",
       "        -2.30001097e-04,  4.32227611e-04, -7.10253863e-04,\n",
       "         5.20759821e-03,  2.30618802e-03, -1.90025875e-03,\n",
       "        -1.47095066e-04, -3.85901561e-04,  7.76001765e-05,\n",
       "         1.70934099e-04, -3.82378572e-04,  2.69665377e-03,\n",
       "         4.41800631e-03,  4.85091238e-04, -3.85901561e-04,\n",
       "        -2.27680329e-04, -1.73486176e-05,  1.82215577e-05,\n",
       "        -4.25116022e-05,  1.12269107e-04, -2.48145527e-04,\n",
       "        -2.30001097e-04,  7.76001765e-05, -1.73486176e-05,\n",
       "         4.65229984e-06,  3.17205927e-04, -8.76536785e-04,\n",
       "         3.50296059e-03,  4.71843202e-03, -2.69920876e-03,\n",
       "         1.43909137e-04, -9.16594629e-05,  1.13397437e-04,\n",
       "        -8.76536785e-04,  2.45432174e-03, -9.84106713e-03,\n",
       "        -1.39200745e-02,  6.91016052e-03, -3.64375614e-04,\n",
       "         2.88172028e-04, -3.00361411e-04,  3.50296059e-03,\n",
       "        -9.84106713e-03,  3.74407831e-02,  5.06135592e-02,\n",
       "        -3.43059449e-02,  1.25872089e-03, -6.90009087e-04,\n",
       "         1.44113709e-03,  4.71843202e-03, -1.39200745e-02,\n",
       "         5.06135592e-02,  7.61404092e-02, -4.66312567e-02,\n",
       "         1.01025823e-03, -8.37839837e-04,  2.07138845e-03,\n",
       "        -2.69920876e-03,  6.91016052e-03, -3.43059449e-02,\n",
       "        -4.66312567e-02,  6.76587152e-03, -2.70728159e-03,\n",
       "         1.78997504e-03, -3.28286014e-04,  1.43909137e-04,\n",
       "        -3.64375614e-04,  1.25872089e-03,  1.01025823e-03,\n",
       "        -2.70728159e-03, -4.12028445e-04, -8.67012673e-05,\n",
       "         5.88660250e-05, -9.16594629e-05,  2.88172028e-04,\n",
       "        -6.90009087e-04, -8.37839837e-04,  1.78997504e-03,\n",
       "        -8.67012673e-05, -1.03002646e-04, -9.94709926e-05,\n",
       "         1.13397437e-04, -3.00361411e-04,  1.44113709e-03,\n",
       "         2.07138845e-03, -3.28286014e-04,  5.88660250e-05,\n",
       "        -9.94709926e-05,  5.47791295e-06,  2.69703453e-05,\n",
       "        -1.10821617e-04,  4.41077242e-04,  1.23213413e-03,\n",
       "         1.50384057e-05, -1.15836237e-04,  1.38452625e-05,\n",
       "         2.04876918e-05, -1.10821617e-04,  4.22802069e-04,\n",
       "        -1.72640876e-03, -4.46305808e-03,  9.17482665e-06,\n",
       "         3.79278770e-04, -2.60887171e-05, -7.11566938e-05,\n",
       "         4.41077242e-04, -1.72640876e-03,  7.03149316e-03,\n",
       "         1.87433195e-02, -1.58944095e-04, -1.84394597e-03,\n",
       "         1.64785462e-04,  3.17329064e-04,  1.23213413e-03,\n",
       "        -4.46305808e-03,  1.87433195e-02,  4.53418297e-02,\n",
       "        -8.67120540e-04, -3.81488630e-03,  8.44223976e-05,\n",
       "         7.13357786e-04,  1.50384057e-05,  9.17482665e-06,\n",
       "        -1.58944095e-04, -8.67120540e-04, -2.30985229e-03,\n",
       "        -1.13637796e-03, -1.09402371e-04,  4.47829321e-05,\n",
       "        -1.15836237e-04,  3.79278770e-04, -1.84394597e-03,\n",
       "        -3.81488630e-03, -1.13637796e-03, -5.18684389e-04,\n",
       "        -6.37093505e-05, -4.47195135e-05,  1.38452625e-05,\n",
       "        -2.60887171e-05,  1.64785462e-04,  8.44223976e-05,\n",
       "        -1.09402371e-04, -6.37093505e-05, -5.49075207e-05,\n",
       "        -1.44111513e-05,  2.04876918e-05, -7.11566938e-05,\n",
       "         3.17329064e-04,  7.13357786e-04,  4.47829321e-05,\n",
       "        -4.47195135e-05, -1.44111513e-05,  3.71990815e-06,\n",
       "        -8.84232851e-05,  2.13432424e-04, -1.05365352e-03,\n",
       "        -1.28227484e-03,  1.03529794e-03,  4.26027676e-04,\n",
       "         1.97772524e-04,  3.48733255e-05,  2.13432424e-04,\n",
       "        -3.84820427e-04,  2.14430254e-03,  5.43098790e-04,\n",
       "        -3.77062969e-03, -9.54267572e-04, -4.48106798e-04,\n",
       "        -8.23291730e-05, -1.05365352e-03,  2.14430254e-03,\n",
       "        -1.11990161e-02, -7.06210927e-03,  1.65057707e-02,\n",
       "         4.76842957e-03,  2.22422284e-03,  3.92803788e-04,\n",
       "        -1.28227484e-03,  5.43098790e-04, -7.06210927e-03,\n",
       "         3.26782253e-02,  4.05656950e-02,  4.51914962e-03,\n",
       "         2.11034472e-03,  3.70105452e-04,  1.03529794e-03,\n",
       "        -3.77062969e-03,  1.65057707e-02,  4.05656950e-02,\n",
       "         1.45538059e-04, -6.85922464e-03, -2.82650992e-03,\n",
       "        -4.43771147e-04,  4.26027676e-04, -9.54267572e-04,\n",
       "         4.76842957e-03,  4.51914962e-03, -6.85922464e-03,\n",
       "        -3.18102152e-03, -1.14176178e-03, -1.75230454e-04,\n",
       "         1.97772524e-04, -4.48106798e-04,  2.22422284e-03,\n",
       "         2.11034472e-03, -2.82650992e-03, -1.14176178e-03,\n",
       "        -4.65548759e-04, -7.20415672e-05,  3.48733255e-05,\n",
       "        -8.23291730e-05,  3.92803788e-04,  3.70105452e-04,\n",
       "        -4.43771147e-04, -1.75230454e-04, -7.20415672e-05,\n",
       "        -7.51907251e-06]])"
      ]
     },
     "execution_count": 146,
     "metadata": {},
     "output_type": "execute_result"
    }
   ],
   "source": [
    "soap_pca.components_"
   ]
  },
  {
   "cell_type": "markdown",
   "id": "30c25902",
   "metadata": {},
   "source": [
    "## Baseline Model (SOAP)"
   ]
  },
  {
   "cell_type": "code",
   "execution_count": 325,
   "id": "3b29440b",
   "metadata": {
    "ExecuteTime": {
     "end_time": "2023-02-21T19:02:24.430143Z",
     "start_time": "2023-02-21T19:02:24.150335Z"
    }
   },
   "outputs": [
    {
     "name": "stdout",
     "output_type": "stream",
     "text": [
      "tensor(0.0613)\n",
      "tensor(0.0636)\n"
     ]
    }
   ],
   "source": [
    "from sklearn.linear_model import Ridge\n",
    "from dostools.loss import loss\n",
    "from dostools.consistency import consistency\n",
    "\n",
    "Features = copy.deepcopy(PCA_kernel)\n",
    "o_ldos = torch.tensor(data.load_ldos())\n",
    "o_ldos *= 2\n",
    "y_pw = o_ldos# - o_ldos[train_index].mean(axis = 0)\n",
    "y_shifted = copy.deepcopy(y_pw)\n",
    "#y_shifted = consistency.shifted_ldos()\n",
    "\n",
    "baselinemodel = Ridge(alpha = 0, fit_intercept = True, solver = 'svd')\n",
    "\n",
    "x = Features[train_index]\n",
    "y = y_shifted[train_index]\n",
    "\n",
    "baselinemodel.fit(x,y)\n",
    "\n",
    "baseline_predictions = baselinemodel.predict(x)\n",
    "train_rmse = loss.t_get_rmse(torch.tensor(baseline_predictions), y)\n",
    "\n",
    "# small_test_index = torch.arange(1039)\n",
    "# small_test_index[small_index] = False\n",
    "# small_test_index = small_test_index.nonzero().flatten()\n",
    "\n",
    "\n",
    "baseline_test_predictions = baselinemodel.predict(Features[test_index])\n",
    "test_rmse = loss.t_get_rmse(torch.tensor(baseline_test_predictions), y_shifted[test_index])\n",
    "\n",
    "print(train_rmse)\n",
    "print(test_rmse)"
   ]
  },
  {
   "cell_type": "markdown",
   "id": "ec309322",
   "metadata": {},
   "source": [
    "## Misc Visualizations"
   ]
  },
  {
   "cell_type": "code",
   "execution_count": 326,
   "id": "021bfb0e",
   "metadata": {
    "ExecuteTime": {
     "end_time": "2023-02-21T19:05:40.302401Z",
     "start_time": "2023-02-21T19:05:39.368377Z"
    }
   },
   "outputs": [
    {
     "data": {
      "text/plain": [
       "[<matplotlib.lines.Line2D at 0x7f6e384d7370>]"
      ]
     },
     "execution_count": 326,
     "metadata": {},
     "output_type": "execute_result"
    },
    {
     "data": {
      "image/png": "[encoded data removed]",
      "text/plain": [
       "<Figure size 432x288 with 1 Axes>"
      ]
     },
     "metadata": {
      "needs_background": "light"
     },
     "output_type": "display_data"
    }
   ],
   "source": [
    "plt.plot(xdos, ldos[700])"
   ]
  },
  {
   "cell_type": "code",
   "execution_count": 194,
   "id": "999cfd9c",
   "metadata": {
    "ExecuteTime": {
     "end_time": "2023-02-21T15:10:19.556678Z",
     "start_time": "2023-02-21T15:10:18.772098Z"
    }
   },
   "outputs": [
    {
     "data": {
      "text/plain": [
       "<matplotlib.collections.PathCollection at 0x7f6e3a747850>"
      ]
     },
     "execution_count": 194,
     "metadata": {},
     "output_type": "execute_result"
    },
    {
     "data": {
      "image/png": "[encoded data removed]",
      "text/plain": [
       "<Figure size 432x288 with 1 Axes>"
      ]
     },
     "metadata": {
      "needs_background": "light"
     },
     "output_type": "display_data"
    }
   ],
   "source": [
    "plt.plot(np.array([1,0.5,0.1,0.05,0.01,0.001]), np.array([0.6768, 0.0426, 0.0079, 0.0036, 0.0019, 0.0017]))\n",
    "plt.scatter(np.array([1,0.5,0.1,0.05,0.01,0.001]), np.array([0.6768, 0.0426, 0.0079, 0.0036, 0.0019, 0.0017]))"
   ]
  },
  {
   "cell_type": "code",
   "execution_count": null,
   "id": "8981b05b",
   "metadata": {},
   "outputs": [],
   "source": [
    "1\n",
    "tensor(24)\n",
    "tensor(0.6768)\n",
    "\n",
    "5E-1\n",
    "tensor(49)\n",
    "tensor(0.0426)\n",
    "\n",
    "\n",
    "1E-1\n",
    "tensor(245)\n",
    "tensor(0.0079)\n",
    "\n",
    "5E-2\n",
    "tensor(484)\n",
    "tensor(0.0036)\n",
    "\n",
    "1E-2 \n",
    "tensor(2149)\n",
    "tensor(0.0019)\n",
    "\n",
    "1E-3\n",
    "tensor(7013)\n",
    "tensor(0.0017)"
   ]
  }
 ],
 "metadata": {
  "kernelspec": {
   "display_name": "Python 3 (ipykernel)",
   "language": "python",
   "name": "python3"
  },
  "language_info": {
   "codemirror_mode": {
    "name": "ipython",
    "version": 3
   },
   "file_extension": ".py",
   "mimetype": "text/x-python",
   "name": "python",
   "nbconvert_exporter": "python",
   "pygments_lexer": "ipython3",
   "version": "3.9.12"
  },
  "toc": {
   "base_numbering": 1,
   "nav_menu": {},
   "number_sections": true,
   "sideBar": true,
   "skip_h1_title": false,
   "title_cell": "Table of Contents",
   "title_sidebar": "Contents",
   "toc_cell": false,
   "toc_position": {
    "height": "calc(100% - 180px)",
    "left": "10px",
    "top": "150px",
    "width": "165px"
   },
   "toc_section_display": true,
   "toc_window_display": true
  }
 },
 "nbformat": 4,
 "nbformat_minor": 5
}
