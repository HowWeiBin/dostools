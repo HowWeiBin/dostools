{
 "cells": [
  {
   "cell_type": "markdown",
   "id": "84565b74",
   "metadata": {
    "hide_input": false
   },
   "source": [
    "## Imports"
   ]
  },
  {
   "cell_type": "code",
   "execution_count": 2,
   "id": "dfdaeca7",
   "metadata": {
    "ExecuteTime": {
     "end_time": "2023-02-09T12:32:12.477346Z",
     "start_time": "2023-02-09T12:32:08.765316Z"
    }
   },
   "outputs": [],
   "source": [
    "import dostools\n",
    "import importlib\n",
    "import numpy as np\n",
    "import pickle\n",
    "import torch\n",
    "import sys\n",
    "import matplotlib.pyplot as plt\n",
    "import copy\n",
    "from tqdm import tqdm\n",
    "import matplotlib\n",
    "import time\n",
    "torch.set_default_dtype(torch.float64) \n",
    "%matplotlib notebook\n",
    "matplotlib.rcParams['figure.figsize'] = (10, 10)\n",
    "sys.modules['dostools.src'] = dostools"
   ]
  },
  {
   "cell_type": "code",
   "execution_count": 3,
   "id": "7ccbf26d",
   "metadata": {
    "ExecuteTime": {
     "end_time": "2023-02-09T12:32:19.692139Z",
     "start_time": "2023-02-09T12:32:15.949136Z"
    }
   },
   "outputs": [
    {
     "name": "stdout",
     "output_type": "stream",
     "text": [
      "ldos shape is torch.Size([1039, 778])\n",
      "mean dos shape is torch.Size([778])\n",
      "Variance covered with 10 PCs is = 0.9871211778950163\n"
     ]
    }
   ],
   "source": [
    "import dostools.datasets.data as data\n",
    "import dostools.utils.utils as utils\n",
    "\n",
    "n_structures = 1039\n",
    "np.random.seed(0)\n",
    "n_train = int(0.8 * n_structures)\n",
    "train_index = np.arange(n_structures)\n",
    "np.random.shuffle(train_index)\n",
    "test_index = train_index[n_train:]\n",
    "train_index = train_index[:n_train]\n",
    "\n",
    "with torch.no_grad():\n",
    "    structures = data.load_structures(\":\")\n",
    "    n_structures = len(structures) #total number of structures\n",
    "    for structure in structures:#implement periodicity\n",
    "        structure.wrap(eps = 1e-12) \n",
    "    n_atoms = np.zeros(n_structures, dtype = int) #stores number of atoms in each structures\n",
    "    for i in range(n_structures):\n",
    "        n_atoms[i] = len(structures[i])\n",
    "\n",
    "    #eigenergies, emin, emax = dostools.src.datasets.data.load_eigenenergies(unpack = True, n_structures = len(structures))\n",
    "    xdos = torch.tensor(data.load_xdos())\n",
    "    ldos = torch.tensor(data.load_ldos())\n",
    "    ldos *= 2\n",
    "\n",
    "    print (\"ldos shape is {}\".format(ldos.shape))\n",
    "    mean_dos_per_atom = ldos[train_index].mean(axis = 0) #only calculated for train set to prevent data leakage\n",
    "    print (\"mean dos shape is {}\".format(mean_dos_per_atom.shape))\n",
    "    \n",
    "    \n",
    "    y_pw = ldos - mean_dos_per_atom\n",
    "    y_lcdf = torch.cumsum(y_pw, dim = 1)\n",
    "    _, pc_vectors = utils.build_pc(ldos[train_index], mean_dos_per_atom[None,:], n_pc = 10)\n",
    "    y_pc = utils.build_coeffs(ldos - mean_dos_per_atom[None,:], pc_vectors)\n",
    "    Silicon = data.load_features()\n",
    "    kMM = data.load_kMM()"
   ]
  },
  {
   "cell_type": "markdown",
   "id": "3a7c7af2",
   "metadata": {},
   "source": [
    "## Evaluator"
   ]
  },
  {
   "cell_type": "code",
   "execution_count": 4,
   "id": "8cfe1751",
   "metadata": {
    "ExecuteTime": {
     "end_time": "2023-02-09T12:32:19.713716Z",
     "start_time": "2023-02-09T12:32:19.694733Z"
    }
   },
   "outputs": [],
   "source": [
    "import dostools.evaluation.evaluation as evaluation\n",
    "importlib.reload(evaluation)\n",
    "import dostools.models.training as training\n",
    "importlib.reload(training)\n",
    "\n",
    "targets = {\n",
    "    'pw' : ldos,\n",
    "    'lcdf' : y_lcdf,\n",
    "    'pc' : y_pc\n",
    "}\n",
    "evaluator = evaluation.Evaluator(targets, xdos, mean_dos_per_atom)"
   ]
  },
  {
   "cell_type": "markdown",
   "id": "ec309322",
   "metadata": {},
   "source": [
    "## Generate data"
   ]
  },
  {
   "cell_type": "markdown",
   "id": "926a2a74",
   "metadata": {},
   "source": [
    "Data Generation will consist of two steps  \n",
    "1. Generate a random alignment \n",
    "2. Use scikitlearn Ridge to determine optimal loss"
   ]
  },
  {
   "cell_type": "code",
   "execution_count": 80,
   "id": "eab90e75",
   "metadata": {
    "ExecuteTime": {
     "end_time": "2023-02-09T13:05:57.408792Z",
     "start_time": "2023-02-09T13:05:57.352378Z"
    }
   },
   "outputs": [],
   "source": [
    "### Define limits for alignment to prevent complete shifts (shifting the spectrum out of the data)\n",
    "\n",
    "def determine_bounds(input_dos, threshold):\n",
    "    boo_dos = input_dos > threshold\n",
    "    left_bound = torch.nonzero(boo_dos)[0]\n",
    "    right_bound = torch.nonzero(boo_dos)[-1]\n",
    "        \n",
    "    return (0-left_bound), (788-right_bound)\n",
    "\n",
    "bounds = []\n",
    "for i in ldos[train_index]:\n",
    "    bounds.append(determine_bounds(i, 1e-10))\n",
    "\n",
    "bounds = torch.tensor(bounds)"
   ]
  },
  {
   "cell_type": "code",
   "execution_count": 102,
   "id": "5116d80b",
   "metadata": {
    "ExecuteTime": {
     "end_time": "2023-02-09T15:40:36.128975Z",
     "start_time": "2023-02-09T15:40:36.121942Z"
    }
   },
   "outputs": [
    {
     "data": {
      "text/plain": [
       "tensor([[1.0000, 0.9839, 0.9761,  ..., 0.9413, 0.9105, 0.9245],\n",
       "        [0.9954, 0.9963, 0.9544,  ..., 0.9445, 0.9030, 0.9228],\n",
       "        [0.9974, 0.9927, 0.9656,  ..., 0.9473, 0.9099, 0.9239],\n",
       "        ...,\n",
       "        [0.9579, 0.9509, 0.9480,  ..., 0.9760, 0.9593, 0.9697],\n",
       "        [0.9567, 0.9493, 0.9479,  ..., 0.9754, 0.9599, 0.9695],\n",
       "        [0.9563, 0.9496, 0.9474,  ..., 0.9787, 0.9629, 0.9728]],\n",
       "       dtype=torch.float32)"
      ]
     },
     "execution_count": 102,
     "metadata": {},
     "output_type": "execute_result"
    }
   ],
   "source": [
    "Silicon.Features['structure_avekerneldescriptors']"
   ]
  },
  {
   "cell_type": "code",
   "execution_count": 101,
   "id": "83ae1054",
   "metadata": {
    "ExecuteTime": {
     "end_time": "2023-02-09T15:37:42.960548Z",
     "start_time": "2023-02-09T15:37:42.470736Z"
    }
   },
   "outputs": [
    {
     "name": "stdout",
     "output_type": "stream",
     "text": [
      "tensor(0.0364)\n"
     ]
    }
   ],
   "source": [
    "model = Ridge(alpha = 0, fit_intercept = False, solver = 'svd')\n",
    "model.fit(Silicon.Features['structure_avedescriptors'][train_index,:], y_pw[train_index])\n",
    "preds = model.predict(Silicon.Features['structure_avedescriptors'][train_index,:])\n",
    "rmse = loss.t_get_rmse(torch.tensor(preds), y_pw[train_index], xdos)\n",
    "print (rmse)"
   ]
  },
  {
   "cell_type": "code",
   "execution_count": null,
   "id": "6d3fc654",
   "metadata": {},
   "outputs": [],
   "source": []
  },
  {
   "cell_type": "code",
   "execution_count": 115,
   "id": "13b24a68",
   "metadata": {
    "ExecuteTime": {
     "end_time": "2023-02-07T19:50:44.395926Z",
     "start_time": "2023-02-07T19:50:44.374335Z"
    }
   },
   "outputs": [],
   "source": [
    "from sklearn.linear_model import Ridge\n",
    "import dostools.src.loss.loss as loss\n",
    "import dostools.consistency.consistency as consistency\n",
    "importlib.reload(consistency)\n",
    "importlib.reload(loss)\n",
    "\n",
    "xdos_step = xdos[1] - xdos[0]\n",
    "#Since it should be alright to overfit shifts\n",
    "def determine_error(normalized_dos):\n",
    "    model = Ridge(alpha = 0, fit_intercept = False, solver = 'svd')\n",
    "    model.fit(Silicon.Features['structure_avekerneldescriptors'][train_index,:], normalized_dos)\n",
    "    \n",
    "    preds = model.predict(Silicon.Features['structure_avekerneldescriptors'][train_index,:])\n",
    "    with torch.no_grad():\n",
    "        rmse = loss.t_get_rmse(torch.tensor(preds), normalized_dos, xdos)\n",
    "        \n",
    "    return rmse\n",
    "        \n",
    "\n",
    "def normalize(ldos, alignment):\n",
    "    shifted_dos = consistency.shifted_ldos(ldos, xdos, alignment)\n",
    "    mean = torch.mean(shifted_dos, dim = 0)\n",
    "    normalized_dos = shifted_dos# - mean\n",
    "    \n",
    "    return normalized_dos\n",
    "\n",
    "def generate_sample(bounds, ldos, batch_size):\n",
    "    x_sample = []\n",
    "    for bound in bounds:\n",
    "        col_i = torch.randint(bound[0], bound[1], (batch_size,1))\n",
    "        x_sample.append(col_i)\n",
    "    \n",
    "    x_sample = torch.hstack(x_sample)\n",
    "    \n",
    "    y_sample = []\n",
    "    for x in x_sample:\n",
    "        normalized_dos = normalize(ldos, x)\n",
    "        y = determine_error(normalized_dos)\n",
    "        y_sample.append(y)\n",
    "        \n",
    "        \n",
    "    y_sample = torch.tensor(y_sample)\n",
    "    \n",
    "    return (x_sample, y_sample)"
   ]
  },
  {
   "cell_type": "code",
   "execution_count": 118,
   "id": "6a873b60",
   "metadata": {
    "ExecuteTime": {
     "end_time": "2023-02-07T20:38:39.461172Z",
     "start_time": "2023-02-07T20:00:34.434458Z"
    }
   },
   "outputs": [
    {
     "name": "stderr",
     "output_type": "stream",
     "text": [
      "/tmp/ipykernel_34381/4135128243.py:33: OptimizeWarning: Initial guess is not within the specified bounds\n",
      "  rmin = minimize(fun = shift_rmse, x0 = np.random.rand(831), bounds = bounds * xdos_step, method = \"Nelder-Mead\", options ={\"maxiter\": 10000})\n"
     ]
    },
    {
     "name": "stdout",
     "output_type": "stream",
     "text": [
      "Iteration: 9435, Current error :0.0003003460751756304, Best error: 0.00030034607517563044\r"
     ]
    }
   ],
   "source": [
    "from scipy.optimize import minimize\n",
    "from sklearn.linear_model import Ridge\n",
    "\n",
    "\n",
    "lowest_rmse = 10\n",
    "global lowest_rmse\n",
    "best_alignment = 0\n",
    "global best_alignment\n",
    "iteration = 0\n",
    "global iteration\n",
    "\n",
    "def shift_rmse(alignment):\n",
    "    global iteration\n",
    "    iteration +=1\n",
    "    alignment = torch.tensor(alignment)\n",
    "    normalized_dos = normalize(ldos[train_index], alignment) \n",
    "    model = Ridge(alpha = 0, fit_intercept = True, solver = 'svd')\n",
    "    model.fit(Silicon.Features['structure_avekerneldescriptors'][train_index,:], normalized_dos)\n",
    "    preds = model.predict(Silicon.Features['structure_avekerneldescriptors'][train_index,:])\n",
    "    with torch.no_grad():\n",
    "        rmse = loss.t_get_rmse(torch.tensor(preds), normalized_dos, xdos)\n",
    "        global lowest_rmse\n",
    "            \n",
    "        if rmse < lowest_rmse:\n",
    "            global best_alignment\n",
    "            lowest_rmse = rmse\n",
    "            best_alignment = alignment\n",
    "            \n",
    "    print (\"Iteration: {}, Current error :{}, Best error: {}\".format(iteration, rmse, lowest_rmse), end = \"\\r\", flush = True)\n",
    "\n",
    "    return rmse\n",
    "\n",
    "rmin = minimize(fun = shift_rmse, x0 = np.random.rand(831), bounds = bounds * xdos_step, method = \"Nelder-Mead\", options ={\"maxiter\": 10000})"
   ]
  },
  {
   "cell_type": "code",
   "execution_count": 126,
   "id": "53e7df7e",
   "metadata": {
    "ExecuteTime": {
     "end_time": "2023-02-08T09:48:10.849162Z",
     "start_time": "2023-02-08T09:48:10.828604Z"
    }
   },
   "outputs": [
    {
     "data": {
      "text/plain": [
       "tensor([12.,  4.,  5.,  1., 13.,  4., 17., 15.,  2., 11.,  8., 16., 13.,  2.,\n",
       "        20.,  5.,  5.,  6., 19., 16.,  2.,  8., 17.,  7.,  6., 13.,  7.,  3.,\n",
       "        10., 16., 17., 12., 20., 20.,  5., 15.,  4.,  8.,  0.,  4.,  4., 20.,\n",
       "         1., 19., 17.,  0.,  3., 13.,  7.,  7., 14., 20.,  7., 18., 15., 17.,\n",
       "        10., 11., 11., 11.,  3.,  4.,  3.,  4., 13.,  4., 18.,  2., 20.,  0.,\n",
       "        17.,  0., 16., 15., 14.,  7., 13., 12., 15., 14.,  5., 14.,  6.,  8.,\n",
       "         6., 15., 17.,  5., 10., 14., 16., 15.,  2., 14., 18.,  9., 15., 19.,\n",
       "        14.,  6.,  9.,  9., 17., 19., 12.,  2., 19., 20.,  8., 16.,  9., 14.,\n",
       "         1., 18.,  1.,  4., 11., 18.,  5.,  2., 16.,  7., 15.,  4.,  5.,  7.,\n",
       "        16., 19., 16.,  0., 16., 13., 16., 11.,  1., 16.,  2.,  7., 11.,  6.,\n",
       "        15., 19.,  9., 19., 18., 16., 15.,  0., 18., 11.,  3., 14.,  5., 14.,\n",
       "         2., 19.,  1., 17.,  6.,  6.,  8., 15.,  4.,  9., 10., 18., 11., 13.,\n",
       "        18.,  7.,  1., 16., 15.,  6., 19., 17.,  0.,  2.,  9., 18.,  4., 13.,\n",
       "        17., 19., 13.,  7.,  7., 15., 17., 19., 15., 11., 18., 19.,  9., 19.,\n",
       "        12.,  8., 18.,  8.,  7., 16., 19., 13.,  6., 17., 18.,  3.,  6., 12.,\n",
       "         7., 12., 17.,  3., 12., 13., 11., 14., 16.,  3.,  3., 18.,  3.,  7.,\n",
       "        16.,  1., 10., 11.,  0.,  8., 18.,  9., 18.,  6., 10., 17., 20., 15.,\n",
       "         7.,  6.,  1.,  4., 15.,  8.,  3.,  6., 12., 19., 19.,  2.,  5., 12.,\n",
       "        18., 20., 14.,  8., 17.,  8., 13., 10., 16., 15.,  8.,  2., 19., 18.,\n",
       "         4.,  4., 16., 16., 19., 20., 10., 19., 16., 15.,  7., 17., 18., 15.,\n",
       "        13., 13.,  3.,  4.,  5.,  3., 10.,  1.,  6., 16., 18., 17.,  6., 11.,\n",
       "        19., 11.,  5., 14., 13.,  2., 15.,  2., 13., 14., 12.,  7., 12., 11.,\n",
       "        12., 16., 17., 15., 10.,  7., 18., 18., 16., 18.,  8., 11., 11., 14.,\n",
       "        16., 11., 18.,  4.,  8.,  1., 20., 16.,  2.,  7., 11.,  6.,  2., 12.,\n",
       "         4., 13., 14., 16.,  9., 14.,  1., 13.,  9., 16., 20.,  6., 18.,  2.,\n",
       "         9., 14., 17.,  4., 10., 19., 15.,  8., 10., 18., 10.,  1.,  4.,  0.,\n",
       "        10., 19., 16.,  1., 19.,  2.,  0.,  4., 10.,  2., 16.,  0.,  4., 12.,\n",
       "         8.,  9., 13.,  7.,  5., 18.,  7., 10., 16., 13., 12., 13., 16., 11.,\n",
       "         2., 13.,  3., 17.,  3., 19., 14.,  5.,  4., 18.,  5.,  8.,  9.,  2.,\n",
       "        15.,  2., 17., 11., 12., 17.,  7., 19., 12.,  2.,  6., 10., 14.,  4.,\n",
       "         9.,  2.,  4., 15., 12.,  9.,  0.,  1., 15.,  2., 15., 14., 10.,  7.,\n",
       "        18.,  4., 17., 15., 13., 19., 20., 16.,  5., 14.,  8.,  2., 17.,  7.,\n",
       "        19., 16., 16., 17.,  8.,  2., 20., 19.,  9., 17., 10., 19.,  8., 18.,\n",
       "         0.,  7., 12., 17.,  2.,  1., 16., 11.,  3., 10.,  4., 15., 16.,  9.,\n",
       "        19., 13.,  5.,  1., 14., 12.,  7., 15.,  1., 17.,  4.,  1., 18., 12.,\n",
       "         2., 13., 18., 12., 15., 18., 18.,  3., 15., 17., 20., 17., 14.,  5.,\n",
       "         6., 16.,  8., 17.,  9., 13., 19.,  4.,  6.,  9., 16., 16., 16.,  7.,\n",
       "         2.,  3.,  3., 13., 11.,  4.,  9., 10., 16., 12.,  8., 19., 10., 17.,\n",
       "         9.,  0., 12., 16.,  6., 14.,  9.,  7.,  1.,  7., 16., 16., 17., 16.,\n",
       "        15., 17., 16.,  4., 14., 20.,  3., 15., 18., 13.,  7., 13., 19., 19.,\n",
       "        17., 11., 11., 19., 13.,  0.,  6.,  8., 10.,  6.,  4., 14.,  3.,  2.,\n",
       "         8., 16., 15.,  5.,  5., 20.,  1.,  2.,  2.,  6., 15., 18., 19.,  5.,\n",
       "         9.,  2., 11.,  0.,  9., 20.,  3.,  4.,  6., 17., 18., 19.,  5.,  9.,\n",
       "         8., 12.,  6., 17., 18., 18.,  5., 10., 11., 19.,  9.,  1., 13.,  3.,\n",
       "         7., 10., 19.,  3., 17.,  0.,  1., 10., 11.,  4.,  4., 14.,  6., 14.,\n",
       "        10.,  7.,  1., 19.,  8., 16.,  7., 18.,  1.,  6., 11., 12., 13.,  8.,\n",
       "        13., 17., 17.,  5.,  1.,  5., 16., 13.,  2.,  3.,  5., 17.,  8.,  7.,\n",
       "         5., 13., 19.,  2., 10., 18.,  5.,  7., 10.,  3., 16.,  5.,  1., 13.,\n",
       "        11., 19., 16.,  1., 11., 17.,  0.,  7., 17.,  5.,  0.,  7.,  1., 18.,\n",
       "        17.,  8.,  8., 20., 10.,  9.,  8.,  6.,  7.,  9., 18., 18., 15., 16.,\n",
       "         8., 12., 18.,  7.,  8.,  5.,  1.,  0.,  5., 19.,  6., 18.,  2., 13.,\n",
       "         7., 18., 14.,  7., 10.,  5.,  1.,  1., 16., 15., 13., 18.,  5.,  0.,\n",
       "        18., 20.,  3., 13.,  2.,  1.,  7.,  2.,  2., 10., 11.,  8., 13., 20.,\n",
       "        17., 15.,  8.,  7., 11.,  6.,  3., 17.,  2., 20.,  5., 15.,  1., 16.,\n",
       "        10., 19., 10., 16.,  5.,  7., 16., 17.,  2., 14., 20., 19.,  7.,  6.,\n",
       "         3., 20., 15., 13., 10., 16., 13., 10.,  9.,  8., 19., 18.,  7.,  1.,\n",
       "         3., 12., 14., 17., 18., 19., 20., 16., 15.,  7., 19.,  3., 11.,  9.,\n",
       "        18., 13.,  8.,  2.,  6., 10.,  8., 19., 12., 14., 12.,  8.,  1.,  1.,\n",
       "        13., 14.,  4., 13.,  0.,  9.,  6., 18.,  6.,  8.,  3.,  3.,  7., 15.,\n",
       "         1.,  1., 16., 10., 17.])"
      ]
     },
     "execution_count": 126,
     "metadata": {},
     "output_type": "execute_result"
    }
   ],
   "source": [
    "torch.round(rmin['x']/xdos_step)"
   ]
  },
  {
   "cell_type": "code",
   "execution_count": null,
   "id": "fd79ba58",
   "metadata": {
    "ExecuteTime": {
     "end_time": "2023-02-07T19:49:24.739931Z",
     "start_time": "2023-02-07T19:49:24.739914Z"
    }
   },
   "outputs": [],
   "source": [
    "best_alignment"
   ]
  },
  {
   "cell_type": "code",
   "execution_count": 105,
   "id": "7b5e2d98",
   "metadata": {
    "ExecuteTime": {
     "end_time": "2023-02-07T19:19:09.299891Z",
     "start_time": "2023-02-07T19:19:09.285496Z"
    }
   },
   "outputs": [],
   "source": [
    "a_ldos = ldos[train_index]\n",
    "a_ldos[:100] = consistency.shifted_ldos(a_ldos[:100], xdos, np.zeros(100) + (-5 * xdos_step.item()))"
   ]
  },
  {
   "cell_type": "code",
   "execution_count": 127,
   "id": "db6202e0",
   "metadata": {
    "ExecuteTime": {
     "end_time": "2023-02-08T09:48:26.808254Z",
     "start_time": "2023-02-08T09:48:26.755282Z"
    }
   },
   "outputs": [
    {
     "data": {
      "application/javascript": [
       "/* Put everything inside the global mpl namespace */\n",
       "/* global mpl */\n",
       "window.mpl = {};\n",
       "\n",
       "mpl.get_websocket_type = function () {\n",
       "    if (typeof WebSocket !== 'undefined') {\n",
       "        return WebSocket;\n",
       "    } else if (typeof MozWebSocket !== 'undefined') {\n",
       "        return MozWebSocket;\n",
       "    } else {\n",
       "        alert(\n",
       "            'Your browser does not have WebSocket support. ' +\n",
       "                'Please try Chrome, Safari or Firefox ≥ 6. ' +\n",
       "                'Firefox 4 and 5 are also supported but you ' +\n",
       "                'have to enable WebSockets in about:config.'\n",
       "        );\n",
       "    }\n",
       "};\n",
       "\n",
       "mpl.figure = function (figure_id, websocket, ondownload, parent_element) {\n",
       "    this.id = figure_id;\n",
       "\n",
       "    this.ws = websocket;\n",
       "\n",
       "    this.supports_binary = this.ws.binaryType !== undefined;\n",
       "\n",
       "    if (!this.supports_binary) {\n",
       "        var warnings = document.getElementById('mpl-warnings');\n",
       "        if (warnings) {\n",
       "            warnings.style.display = 'block';\n",
       "            warnings.textContent =\n",
       "                'This browser does not support binary websocket messages. ' +\n",
       "                'Performance may be slow.';\n",
       "        }\n",
       "    }\n",
       "\n",
       "    this.imageObj = new Image();\n",
       "\n",
       "    this.context = undefined;\n",
       "    this.message = undefined;\n",
       "    this.canvas = undefined;\n",
       "    this.rubberband_canvas = undefined;\n",
       "    this.rubberband_context = undefined;\n",
       "    this.format_dropdown = undefined;\n",
       "\n",
       "    this.image_mode = 'full';\n",
       "\n",
       "    this.root = document.createElement('div');\n",
       "    this.root.setAttribute('style', 'display: inline-block');\n",
       "    this._root_extra_style(this.root);\n",
       "\n",
       "    parent_element.appendChild(this.root);\n",
       "\n",
       "    this._init_header(this);\n",
       "    this._init_canvas(this);\n",
       "    this._init_toolbar(this);\n",
       "\n",
       "    var fig = this;\n",
       "\n",
       "    this.waiting = false;\n",
       "\n",
       "    this.ws.onopen = function () {\n",
       "        fig.send_message('supports_binary', { value: fig.supports_binary });\n",
       "        fig.send_message('send_image_mode', {});\n",
       "        if (fig.ratio !== 1) {\n",
       "            fig.send_message('set_device_pixel_ratio', {\n",
       "                device_pixel_ratio: fig.ratio,\n",
       "            });\n",
       "        }\n",
       "        fig.send_message('refresh', {});\n",
       "    };\n",
       "\n",
       "    this.imageObj.onload = function () {\n",
       "        if (fig.image_mode === 'full') {\n",
       "            // Full images could contain transparency (where diff images\n",
       "            // almost always do), so we need to clear the canvas so that\n",
       "            // there is no ghosting.\n",
       "            fig.context.clearRect(0, 0, fig.canvas.width, fig.canvas.height);\n",
       "        }\n",
       "        fig.context.drawImage(fig.imageObj, 0, 0);\n",
       "    };\n",
       "\n",
       "    this.imageObj.onunload = function () {\n",
       "        fig.ws.close();\n",
       "    };\n",
       "\n",
       "    this.ws.onmessage = this._make_on_message_function(this);\n",
       "\n",
       "    this.ondownload = ondownload;\n",
       "};\n",
       "\n",
       "mpl.figure.prototype._init_header = function () {\n",
       "    var titlebar = document.createElement('div');\n",
       "    titlebar.classList =\n",
       "        'ui-dialog-titlebar ui-widget-header ui-corner-all ui-helper-clearfix';\n",
       "    var titletext = document.createElement('div');\n",
       "    titletext.classList = 'ui-dialog-title';\n",
       "    titletext.setAttribute(\n",
       "        'style',\n",
       "        'width: 100%; text-align: center; padding: 3px;'\n",
       "    );\n",
       "    titlebar.appendChild(titletext);\n",
       "    this.root.appendChild(titlebar);\n",
       "    this.header = titletext;\n",
       "};\n",
       "\n",
       "mpl.figure.prototype._canvas_extra_style = function (_canvas_div) {};\n",
       "\n",
       "mpl.figure.prototype._root_extra_style = function (_canvas_div) {};\n",
       "\n",
       "mpl.figure.prototype._init_canvas = function () {\n",
       "    var fig = this;\n",
       "\n",
       "    var canvas_div = (this.canvas_div = document.createElement('div'));\n",
       "    canvas_div.setAttribute(\n",
       "        'style',\n",
       "        'border: 1px solid #ddd;' +\n",
       "            'box-sizing: content-box;' +\n",
       "            'clear: both;' +\n",
       "            'min-height: 1px;' +\n",
       "            'min-width: 1px;' +\n",
       "            'outline: 0;' +\n",
       "            'overflow: hidden;' +\n",
       "            'position: relative;' +\n",
       "            'resize: both;'\n",
       "    );\n",
       "\n",
       "    function on_keyboard_event_closure(name) {\n",
       "        return function (event) {\n",
       "            return fig.key_event(event, name);\n",
       "        };\n",
       "    }\n",
       "\n",
       "    canvas_div.addEventListener(\n",
       "        'keydown',\n",
       "        on_keyboard_event_closure('key_press')\n",
       "    );\n",
       "    canvas_div.addEventListener(\n",
       "        'keyup',\n",
       "        on_keyboard_event_closure('key_release')\n",
       "    );\n",
       "\n",
       "    this._canvas_extra_style(canvas_div);\n",
       "    this.root.appendChild(canvas_div);\n",
       "\n",
       "    var canvas = (this.canvas = document.createElement('canvas'));\n",
       "    canvas.classList.add('mpl-canvas');\n",
       "    canvas.setAttribute('style', 'box-sizing: content-box;');\n",
       "\n",
       "    this.context = canvas.getContext('2d');\n",
       "\n",
       "    var backingStore =\n",
       "        this.context.backingStorePixelRatio ||\n",
       "        this.context.webkitBackingStorePixelRatio ||\n",
       "        this.context.mozBackingStorePixelRatio ||\n",
       "        this.context.msBackingStorePixelRatio ||\n",
       "        this.context.oBackingStorePixelRatio ||\n",
       "        this.context.backingStorePixelRatio ||\n",
       "        1;\n",
       "\n",
       "    this.ratio = (window.devicePixelRatio || 1) / backingStore;\n",
       "\n",
       "    var rubberband_canvas = (this.rubberband_canvas = document.createElement(\n",
       "        'canvas'\n",
       "    ));\n",
       "    rubberband_canvas.setAttribute(\n",
       "        'style',\n",
       "        'box-sizing: content-box; position: absolute; left: 0; top: 0; z-index: 1;'\n",
       "    );\n",
       "\n",
       "    // Apply a ponyfill if ResizeObserver is not implemented by browser.\n",
       "    if (this.ResizeObserver === undefined) {\n",
       "        if (window.ResizeObserver !== undefined) {\n",
       "            this.ResizeObserver = window.ResizeObserver;\n",
       "        } else {\n",
       "            var obs = _JSXTOOLS_RESIZE_OBSERVER({});\n",
       "            this.ResizeObserver = obs.ResizeObserver;\n",
       "        }\n",
       "    }\n",
       "\n",
       "    this.resizeObserverInstance = new this.ResizeObserver(function (entries) {\n",
       "        var nentries = entries.length;\n",
       "        for (var i = 0; i < nentries; i++) {\n",
       "            var entry = entries[i];\n",
       "            var width, height;\n",
       "            if (entry.contentBoxSize) {\n",
       "                if (entry.contentBoxSize instanceof Array) {\n",
       "                    // Chrome 84 implements new version of spec.\n",
       "                    width = entry.contentBoxSize[0].inlineSize;\n",
       "                    height = entry.contentBoxSize[0].blockSize;\n",
       "                } else {\n",
       "                    // Firefox implements old version of spec.\n",
       "                    width = entry.contentBoxSize.inlineSize;\n",
       "                    height = entry.contentBoxSize.blockSize;\n",
       "                }\n",
       "            } else {\n",
       "                // Chrome <84 implements even older version of spec.\n",
       "                width = entry.contentRect.width;\n",
       "                height = entry.contentRect.height;\n",
       "            }\n",
       "\n",
       "            // Keep the size of the canvas and rubber band canvas in sync with\n",
       "            // the canvas container.\n",
       "            if (entry.devicePixelContentBoxSize) {\n",
       "                // Chrome 84 implements new version of spec.\n",
       "                canvas.setAttribute(\n",
       "                    'width',\n",
       "                    entry.devicePixelContentBoxSize[0].inlineSize\n",
       "                );\n",
       "                canvas.setAttribute(\n",
       "                    'height',\n",
       "                    entry.devicePixelContentBoxSize[0].blockSize\n",
       "                );\n",
       "            } else {\n",
       "                canvas.setAttribute('width', width * fig.ratio);\n",
       "                canvas.setAttribute('height', height * fig.ratio);\n",
       "            }\n",
       "            canvas.setAttribute(\n",
       "                'style',\n",
       "                'width: ' + width + 'px; height: ' + height + 'px;'\n",
       "            );\n",
       "\n",
       "            rubberband_canvas.setAttribute('width', width);\n",
       "            rubberband_canvas.setAttribute('height', height);\n",
       "\n",
       "            // And update the size in Python. We ignore the initial 0/0 size\n",
       "            // that occurs as the element is placed into the DOM, which should\n",
       "            // otherwise not happen due to the minimum size styling.\n",
       "            if (fig.ws.readyState == 1 && width != 0 && height != 0) {\n",
       "                fig.request_resize(width, height);\n",
       "            }\n",
       "        }\n",
       "    });\n",
       "    this.resizeObserverInstance.observe(canvas_div);\n",
       "\n",
       "    function on_mouse_event_closure(name) {\n",
       "        return function (event) {\n",
       "            return fig.mouse_event(event, name);\n",
       "        };\n",
       "    }\n",
       "\n",
       "    rubberband_canvas.addEventListener(\n",
       "        'mousedown',\n",
       "        on_mouse_event_closure('button_press')\n",
       "    );\n",
       "    rubberband_canvas.addEventListener(\n",
       "        'mouseup',\n",
       "        on_mouse_event_closure('button_release')\n",
       "    );\n",
       "    rubberband_canvas.addEventListener(\n",
       "        'dblclick',\n",
       "        on_mouse_event_closure('dblclick')\n",
       "    );\n",
       "    // Throttle sequential mouse events to 1 every 20ms.\n",
       "    rubberband_canvas.addEventListener(\n",
       "        'mousemove',\n",
       "        on_mouse_event_closure('motion_notify')\n",
       "    );\n",
       "\n",
       "    rubberband_canvas.addEventListener(\n",
       "        'mouseenter',\n",
       "        on_mouse_event_closure('figure_enter')\n",
       "    );\n",
       "    rubberband_canvas.addEventListener(\n",
       "        'mouseleave',\n",
       "        on_mouse_event_closure('figure_leave')\n",
       "    );\n",
       "\n",
       "    canvas_div.addEventListener('wheel', function (event) {\n",
       "        if (event.deltaY < 0) {\n",
       "            event.step = 1;\n",
       "        } else {\n",
       "            event.step = -1;\n",
       "        }\n",
       "        on_mouse_event_closure('scroll')(event);\n",
       "    });\n",
       "\n",
       "    canvas_div.appendChild(canvas);\n",
       "    canvas_div.appendChild(rubberband_canvas);\n",
       "\n",
       "    this.rubberband_context = rubberband_canvas.getContext('2d');\n",
       "    this.rubberband_context.strokeStyle = '#000000';\n",
       "\n",
       "    this._resize_canvas = function (width, height, forward) {\n",
       "        if (forward) {\n",
       "            canvas_div.style.width = width + 'px';\n",
       "            canvas_div.style.height = height + 'px';\n",
       "        }\n",
       "    };\n",
       "\n",
       "    // Disable right mouse context menu.\n",
       "    this.rubberband_canvas.addEventListener('contextmenu', function (_e) {\n",
       "        event.preventDefault();\n",
       "        return false;\n",
       "    });\n",
       "\n",
       "    function set_focus() {\n",
       "        canvas.focus();\n",
       "        canvas_div.focus();\n",
       "    }\n",
       "\n",
       "    window.setTimeout(set_focus, 100);\n",
       "};\n",
       "\n",
       "mpl.figure.prototype._init_toolbar = function () {\n",
       "    var fig = this;\n",
       "\n",
       "    var toolbar = document.createElement('div');\n",
       "    toolbar.classList = 'mpl-toolbar';\n",
       "    this.root.appendChild(toolbar);\n",
       "\n",
       "    function on_click_closure(name) {\n",
       "        return function (_event) {\n",
       "            return fig.toolbar_button_onclick(name);\n",
       "        };\n",
       "    }\n",
       "\n",
       "    function on_mouseover_closure(tooltip) {\n",
       "        return function (event) {\n",
       "            if (!event.currentTarget.disabled) {\n",
       "                return fig.toolbar_button_onmouseover(tooltip);\n",
       "            }\n",
       "        };\n",
       "    }\n",
       "\n",
       "    fig.buttons = {};\n",
       "    var buttonGroup = document.createElement('div');\n",
       "    buttonGroup.classList = 'mpl-button-group';\n",
       "    for (var toolbar_ind in mpl.toolbar_items) {\n",
       "        var name = mpl.toolbar_items[toolbar_ind][0];\n",
       "        var tooltip = mpl.toolbar_items[toolbar_ind][1];\n",
       "        var image = mpl.toolbar_items[toolbar_ind][2];\n",
       "        var method_name = mpl.toolbar_items[toolbar_ind][3];\n",
       "\n",
       "        if (!name) {\n",
       "            /* Instead of a spacer, we start a new button group. */\n",
       "            if (buttonGroup.hasChildNodes()) {\n",
       "                toolbar.appendChild(buttonGroup);\n",
       "            }\n",
       "            buttonGroup = document.createElement('div');\n",
       "            buttonGroup.classList = 'mpl-button-group';\n",
       "            continue;\n",
       "        }\n",
       "\n",
       "        var button = (fig.buttons[name] = document.createElement('button'));\n",
       "        button.classList = 'mpl-widget';\n",
       "        button.setAttribute('role', 'button');\n",
       "        button.setAttribute('aria-disabled', 'false');\n",
       "        button.addEventListener('click', on_click_closure(method_name));\n",
       "        button.addEventListener('mouseover', on_mouseover_closure(tooltip));\n",
       "\n",
       "        var icon_img = document.createElement('img');\n",
       "        icon_img.src = '_images/' + image + '.png';\n",
       "        icon_img.srcset = '_images/' + image + '_large.png 2x';\n",
       "        icon_img.alt = tooltip;\n",
       "        button.appendChild(icon_img);\n",
       "\n",
       "        buttonGroup.appendChild(button);\n",
       "    }\n",
       "\n",
       "    if (buttonGroup.hasChildNodes()) {\n",
       "        toolbar.appendChild(buttonGroup);\n",
       "    }\n",
       "\n",
       "    var fmt_picker = document.createElement('select');\n",
       "    fmt_picker.classList = 'mpl-widget';\n",
       "    toolbar.appendChild(fmt_picker);\n",
       "    this.format_dropdown = fmt_picker;\n",
       "\n",
       "    for (var ind in mpl.extensions) {\n",
       "        var fmt = mpl.extensions[ind];\n",
       "        var option = document.createElement('option');\n",
       "        option.selected = fmt === mpl.default_extension;\n",
       "        option.innerHTML = fmt;\n",
       "        fmt_picker.appendChild(option);\n",
       "    }\n",
       "\n",
       "    var status_bar = document.createElement('span');\n",
       "    status_bar.classList = 'mpl-message';\n",
       "    toolbar.appendChild(status_bar);\n",
       "    this.message = status_bar;\n",
       "};\n",
       "\n",
       "mpl.figure.prototype.request_resize = function (x_pixels, y_pixels) {\n",
       "    // Request matplotlib to resize the figure. Matplotlib will then trigger a resize in the client,\n",
       "    // which will in turn request a refresh of the image.\n",
       "    this.send_message('resize', { width: x_pixels, height: y_pixels });\n",
       "};\n",
       "\n",
       "mpl.figure.prototype.send_message = function (type, properties) {\n",
       "    properties['type'] = type;\n",
       "    properties['figure_id'] = this.id;\n",
       "    this.ws.send(JSON.stringify(properties));\n",
       "};\n",
       "\n",
       "mpl.figure.prototype.send_draw_message = function () {\n",
       "    if (!this.waiting) {\n",
       "        this.waiting = true;\n",
       "        this.ws.send(JSON.stringify({ type: 'draw', figure_id: this.id }));\n",
       "    }\n",
       "};\n",
       "\n",
       "mpl.figure.prototype.handle_save = function (fig, _msg) {\n",
       "    var format_dropdown = fig.format_dropdown;\n",
       "    var format = format_dropdown.options[format_dropdown.selectedIndex].value;\n",
       "    fig.ondownload(fig, format);\n",
       "};\n",
       "\n",
       "mpl.figure.prototype.handle_resize = function (fig, msg) {\n",
       "    var size = msg['size'];\n",
       "    if (size[0] !== fig.canvas.width || size[1] !== fig.canvas.height) {\n",
       "        fig._resize_canvas(size[0], size[1], msg['forward']);\n",
       "        fig.send_message('refresh', {});\n",
       "    }\n",
       "};\n",
       "\n",
       "mpl.figure.prototype.handle_rubberband = function (fig, msg) {\n",
       "    var x0 = msg['x0'] / fig.ratio;\n",
       "    var y0 = (fig.canvas.height - msg['y0']) / fig.ratio;\n",
       "    var x1 = msg['x1'] / fig.ratio;\n",
       "    var y1 = (fig.canvas.height - msg['y1']) / fig.ratio;\n",
       "    x0 = Math.floor(x0) + 0.5;\n",
       "    y0 = Math.floor(y0) + 0.5;\n",
       "    x1 = Math.floor(x1) + 0.5;\n",
       "    y1 = Math.floor(y1) + 0.5;\n",
       "    var min_x = Math.min(x0, x1);\n",
       "    var min_y = Math.min(y0, y1);\n",
       "    var width = Math.abs(x1 - x0);\n",
       "    var height = Math.abs(y1 - y0);\n",
       "\n",
       "    fig.rubberband_context.clearRect(\n",
       "        0,\n",
       "        0,\n",
       "        fig.canvas.width / fig.ratio,\n",
       "        fig.canvas.height / fig.ratio\n",
       "    );\n",
       "\n",
       "    fig.rubberband_context.strokeRect(min_x, min_y, width, height);\n",
       "};\n",
       "\n",
       "mpl.figure.prototype.handle_figure_label = function (fig, msg) {\n",
       "    // Updates the figure title.\n",
       "    fig.header.textContent = msg['label'];\n",
       "};\n",
       "\n",
       "mpl.figure.prototype.handle_cursor = function (fig, msg) {\n",
       "    fig.rubberband_canvas.style.cursor = msg['cursor'];\n",
       "};\n",
       "\n",
       "mpl.figure.prototype.handle_message = function (fig, msg) {\n",
       "    fig.message.textContent = msg['message'];\n",
       "};\n",
       "\n",
       "mpl.figure.prototype.handle_draw = function (fig, _msg) {\n",
       "    // Request the server to send over a new figure.\n",
       "    fig.send_draw_message();\n",
       "};\n",
       "\n",
       "mpl.figure.prototype.handle_image_mode = function (fig, msg) {\n",
       "    fig.image_mode = msg['mode'];\n",
       "};\n",
       "\n",
       "mpl.figure.prototype.handle_history_buttons = function (fig, msg) {\n",
       "    for (var key in msg) {\n",
       "        if (!(key in fig.buttons)) {\n",
       "            continue;\n",
       "        }\n",
       "        fig.buttons[key].disabled = !msg[key];\n",
       "        fig.buttons[key].setAttribute('aria-disabled', !msg[key]);\n",
       "    }\n",
       "};\n",
       "\n",
       "mpl.figure.prototype.handle_navigate_mode = function (fig, msg) {\n",
       "    if (msg['mode'] === 'PAN') {\n",
       "        fig.buttons['Pan'].classList.add('active');\n",
       "        fig.buttons['Zoom'].classList.remove('active');\n",
       "    } else if (msg['mode'] === 'ZOOM') {\n",
       "        fig.buttons['Pan'].classList.remove('active');\n",
       "        fig.buttons['Zoom'].classList.add('active');\n",
       "    } else {\n",
       "        fig.buttons['Pan'].classList.remove('active');\n",
       "        fig.buttons['Zoom'].classList.remove('active');\n",
       "    }\n",
       "};\n",
       "\n",
       "mpl.figure.prototype.updated_canvas_event = function () {\n",
       "    // Called whenever the canvas gets updated.\n",
       "    this.send_message('ack', {});\n",
       "};\n",
       "\n",
       "// A function to construct a web socket function for onmessage handling.\n",
       "// Called in the figure constructor.\n",
       "mpl.figure.prototype._make_on_message_function = function (fig) {\n",
       "    return function socket_on_message(evt) {\n",
       "        if (evt.data instanceof Blob) {\n",
       "            var img = evt.data;\n",
       "            if (img.type !== 'image/png') {\n",
       "                /* FIXME: We get \"Resource interpreted as Image but\n",
       "                 * transferred with MIME type text/plain:\" errors on\n",
       "                 * Chrome.  But how to set the MIME type?  It doesn't seem\n",
       "                 * to be part of the websocket stream */\n",
       "                img.type = 'image/png';\n",
       "            }\n",
       "\n",
       "            /* Free the memory for the previous frames */\n",
       "            if (fig.imageObj.src) {\n",
       "                (window.URL || window.webkitURL).revokeObjectURL(\n",
       "                    fig.imageObj.src\n",
       "                );\n",
       "            }\n",
       "\n",
       "            fig.imageObj.src = (window.URL || window.webkitURL).createObjectURL(\n",
       "                img\n",
       "            );\n",
       "            fig.updated_canvas_event();\n",
       "            fig.waiting = false;\n",
       "            return;\n",
       "        } else if (\n",
       "            typeof evt.data === 'string' &&\n",
       "            evt.data.slice(0, 21) === 'data:image/png;base64'\n",
       "        ) {\n",
       "            fig.imageObj.src = evt.data;\n",
       "            fig.updated_canvas_event();\n",
       "            fig.waiting = false;\n",
       "            return;\n",
       "        }\n",
       "\n",
       "        var msg = JSON.parse(evt.data);\n",
       "        var msg_type = msg['type'];\n",
       "\n",
       "        // Call the  \"handle_{type}\" callback, which takes\n",
       "        // the figure and JSON message as its only arguments.\n",
       "        try {\n",
       "            var callback = fig['handle_' + msg_type];\n",
       "        } catch (e) {\n",
       "            console.log(\n",
       "                \"No handler for the '\" + msg_type + \"' message type: \",\n",
       "                msg\n",
       "            );\n",
       "            return;\n",
       "        }\n",
       "\n",
       "        if (callback) {\n",
       "            try {\n",
       "                // console.log(\"Handling '\" + msg_type + \"' message: \", msg);\n",
       "                callback(fig, msg);\n",
       "            } catch (e) {\n",
       "                console.log(\n",
       "                    \"Exception inside the 'handler_\" + msg_type + \"' callback:\",\n",
       "                    e,\n",
       "                    e.stack,\n",
       "                    msg\n",
       "                );\n",
       "            }\n",
       "        }\n",
       "    };\n",
       "};\n",
       "\n",
       "// from https://stackoverflow.com/questions/1114465/getting-mouse-location-in-canvas\n",
       "mpl.findpos = function (e) {\n",
       "    //this section is from http://www.quirksmode.org/js/events_properties.html\n",
       "    var targ;\n",
       "    if (!e) {\n",
       "        e = window.event;\n",
       "    }\n",
       "    if (e.target) {\n",
       "        targ = e.target;\n",
       "    } else if (e.srcElement) {\n",
       "        targ = e.srcElement;\n",
       "    }\n",
       "    if (targ.nodeType === 3) {\n",
       "        // defeat Safari bug\n",
       "        targ = targ.parentNode;\n",
       "    }\n",
       "\n",
       "    // pageX,Y are the mouse positions relative to the document\n",
       "    var boundingRect = targ.getBoundingClientRect();\n",
       "    var x = e.pageX - (boundingRect.left + document.body.scrollLeft);\n",
       "    var y = e.pageY - (boundingRect.top + document.body.scrollTop);\n",
       "\n",
       "    return { x: x, y: y };\n",
       "};\n",
       "\n",
       "/*\n",
       " * return a copy of an object with only non-object keys\n",
       " * we need this to avoid circular references\n",
       " * https://stackoverflow.com/a/24161582/3208463\n",
       " */\n",
       "function simpleKeys(original) {\n",
       "    return Object.keys(original).reduce(function (obj, key) {\n",
       "        if (typeof original[key] !== 'object') {\n",
       "            obj[key] = original[key];\n",
       "        }\n",
       "        return obj;\n",
       "    }, {});\n",
       "}\n",
       "\n",
       "mpl.figure.prototype.mouse_event = function (event, name) {\n",
       "    var canvas_pos = mpl.findpos(event);\n",
       "\n",
       "    if (name === 'button_press') {\n",
       "        this.canvas.focus();\n",
       "        this.canvas_div.focus();\n",
       "    }\n",
       "\n",
       "    var x = canvas_pos.x * this.ratio;\n",
       "    var y = canvas_pos.y * this.ratio;\n",
       "\n",
       "    this.send_message(name, {\n",
       "        x: x,\n",
       "        y: y,\n",
       "        button: event.button,\n",
       "        step: event.step,\n",
       "        guiEvent: simpleKeys(event),\n",
       "    });\n",
       "\n",
       "    /* This prevents the web browser from automatically changing to\n",
       "     * the text insertion cursor when the button is pressed.  We want\n",
       "     * to control all of the cursor setting manually through the\n",
       "     * 'cursor' event from matplotlib */\n",
       "    event.preventDefault();\n",
       "    return false;\n",
       "};\n",
       "\n",
       "mpl.figure.prototype._key_event_extra = function (_event, _name) {\n",
       "    // Handle any extra behaviour associated with a key event\n",
       "};\n",
       "\n",
       "mpl.figure.prototype.key_event = function (event, name) {\n",
       "    // Prevent repeat events\n",
       "    if (name === 'key_press') {\n",
       "        if (event.key === this._key) {\n",
       "            return;\n",
       "        } else {\n",
       "            this._key = event.key;\n",
       "        }\n",
       "    }\n",
       "    if (name === 'key_release') {\n",
       "        this._key = null;\n",
       "    }\n",
       "\n",
       "    var value = '';\n",
       "    if (event.ctrlKey && event.key !== 'Control') {\n",
       "        value += 'ctrl+';\n",
       "    }\n",
       "    else if (event.altKey && event.key !== 'Alt') {\n",
       "        value += 'alt+';\n",
       "    }\n",
       "    else if (event.shiftKey && event.key !== 'Shift') {\n",
       "        value += 'shift+';\n",
       "    }\n",
       "\n",
       "    value += 'k' + event.key;\n",
       "\n",
       "    this._key_event_extra(event, name);\n",
       "\n",
       "    this.send_message(name, { key: value, guiEvent: simpleKeys(event) });\n",
       "    return false;\n",
       "};\n",
       "\n",
       "mpl.figure.prototype.toolbar_button_onclick = function (name) {\n",
       "    if (name === 'download') {\n",
       "        this.handle_save(this, null);\n",
       "    } else {\n",
       "        this.send_message('toolbar_button', { name: name });\n",
       "    }\n",
       "};\n",
       "\n",
       "mpl.figure.prototype.toolbar_button_onmouseover = function (tooltip) {\n",
       "    this.message.textContent = tooltip;\n",
       "};\n",
       "\n",
       "///////////////// REMAINING CONTENT GENERATED BY embed_js.py /////////////////\n",
       "// prettier-ignore\n",
       "var _JSXTOOLS_RESIZE_OBSERVER=function(A){var t,i=new WeakMap,n=new WeakMap,a=new WeakMap,r=new WeakMap,o=new Set;function s(e){if(!(this instanceof s))throw new TypeError(\"Constructor requires 'new' operator\");i.set(this,e)}function h(){throw new TypeError(\"Function is not a constructor\")}function c(e,t,i,n){e=0 in arguments?Number(arguments[0]):0,t=1 in arguments?Number(arguments[1]):0,i=2 in arguments?Number(arguments[2]):0,n=3 in arguments?Number(arguments[3]):0,this.right=(this.x=this.left=e)+(this.width=i),this.bottom=(this.y=this.top=t)+(this.height=n),Object.freeze(this)}function d(){t=requestAnimationFrame(d);var s=new WeakMap,p=new Set;o.forEach((function(t){r.get(t).forEach((function(i){var r=t instanceof window.SVGElement,o=a.get(t),d=r?0:parseFloat(o.paddingTop),f=r?0:parseFloat(o.paddingRight),l=r?0:parseFloat(o.paddingBottom),u=r?0:parseFloat(o.paddingLeft),g=r?0:parseFloat(o.borderTopWidth),m=r?0:parseFloat(o.borderRightWidth),w=r?0:parseFloat(o.borderBottomWidth),b=u+f,F=d+l,v=(r?0:parseFloat(o.borderLeftWidth))+m,W=g+w,y=r?0:t.offsetHeight-W-t.clientHeight,E=r?0:t.offsetWidth-v-t.clientWidth,R=b+v,z=F+W,M=r?t.width:parseFloat(o.width)-R-E,O=r?t.height:parseFloat(o.height)-z-y;if(n.has(t)){var k=n.get(t);if(k[0]===M&&k[1]===O)return}n.set(t,[M,O]);var S=Object.create(h.prototype);S.target=t,S.contentRect=new c(u,d,M,O),s.has(i)||(s.set(i,[]),p.add(i)),s.get(i).push(S)}))})),p.forEach((function(e){i.get(e).call(e,s.get(e),e)}))}return s.prototype.observe=function(i){if(i instanceof window.Element){r.has(i)||(r.set(i,new Set),o.add(i),a.set(i,window.getComputedStyle(i)));var n=r.get(i);n.has(this)||n.add(this),cancelAnimationFrame(t),t=requestAnimationFrame(d)}},s.prototype.unobserve=function(i){if(i instanceof window.Element&&r.has(i)){var n=r.get(i);n.has(this)&&(n.delete(this),n.size||(r.delete(i),o.delete(i))),n.size||r.delete(i),o.size||cancelAnimationFrame(t)}},A.DOMRectReadOnly=c,A.ResizeObserver=s,A.ResizeObserverEntry=h,A}; // eslint-disable-line\n",
       "mpl.toolbar_items = [[\"Home\", \"Reset original view\", \"fa fa-home icon-home\", \"home\"], [\"Back\", \"Back to previous view\", \"fa fa-arrow-left icon-arrow-left\", \"back\"], [\"Forward\", \"Forward to next view\", \"fa fa-arrow-right icon-arrow-right\", \"forward\"], [\"\", \"\", \"\", \"\"], [\"Pan\", \"Left button pans, Right button zooms\\nx/y fixes axis, CTRL fixes aspect\", \"fa fa-arrows icon-move\", \"pan\"], [\"Zoom\", \"Zoom to rectangle\\nx/y fixes axis\", \"fa fa-square-o icon-check-empty\", \"zoom\"], [\"\", \"\", \"\", \"\"], [\"Download\", \"Download plot\", \"fa fa-floppy-o icon-save\", \"download\"]];\n",
       "\n",
       "mpl.extensions = [\"eps\", \"jpeg\", \"pgf\", \"pdf\", \"png\", \"ps\", \"raw\", \"svg\", \"tif\"];\n",
       "\n",
       "mpl.default_extension = \"png\";/* global mpl */\n",
       "\n",
       "var comm_websocket_adapter = function (comm) {\n",
       "    // Create a \"websocket\"-like object which calls the given IPython comm\n",
       "    // object with the appropriate methods. Currently this is a non binary\n",
       "    // socket, so there is still some room for performance tuning.\n",
       "    var ws = {};\n",
       "\n",
       "    ws.binaryType = comm.kernel.ws.binaryType;\n",
       "    ws.readyState = comm.kernel.ws.readyState;\n",
       "    function updateReadyState(_event) {\n",
       "        if (comm.kernel.ws) {\n",
       "            ws.readyState = comm.kernel.ws.readyState;\n",
       "        } else {\n",
       "            ws.readyState = 3; // Closed state.\n",
       "        }\n",
       "    }\n",
       "    comm.kernel.ws.addEventListener('open', updateReadyState);\n",
       "    comm.kernel.ws.addEventListener('close', updateReadyState);\n",
       "    comm.kernel.ws.addEventListener('error', updateReadyState);\n",
       "\n",
       "    ws.close = function () {\n",
       "        comm.close();\n",
       "    };\n",
       "    ws.send = function (m) {\n",
       "        //console.log('sending', m);\n",
       "        comm.send(m);\n",
       "    };\n",
       "    // Register the callback with on_msg.\n",
       "    comm.on_msg(function (msg) {\n",
       "        //console.log('receiving', msg['content']['data'], msg);\n",
       "        var data = msg['content']['data'];\n",
       "        if (data['blob'] !== undefined) {\n",
       "            data = {\n",
       "                data: new Blob(msg['buffers'], { type: data['blob'] }),\n",
       "            };\n",
       "        }\n",
       "        // Pass the mpl event to the overridden (by mpl) onmessage function.\n",
       "        ws.onmessage(data);\n",
       "    });\n",
       "    return ws;\n",
       "};\n",
       "\n",
       "mpl.mpl_figure_comm = function (comm, msg) {\n",
       "    // This is the function which gets called when the mpl process\n",
       "    // starts-up an IPython Comm through the \"matplotlib\" channel.\n",
       "\n",
       "    var id = msg.content.data.id;\n",
       "    // Get hold of the div created by the display call when the Comm\n",
       "    // socket was opened in Python.\n",
       "    var element = document.getElementById(id);\n",
       "    var ws_proxy = comm_websocket_adapter(comm);\n",
       "\n",
       "    function ondownload(figure, _format) {\n",
       "        window.open(figure.canvas.toDataURL());\n",
       "    }\n",
       "\n",
       "    var fig = new mpl.figure(id, ws_proxy, ondownload, element);\n",
       "\n",
       "    // Call onopen now - mpl needs it, as it is assuming we've passed it a real\n",
       "    // web socket which is closed, not our websocket->open comm proxy.\n",
       "    ws_proxy.onopen();\n",
       "\n",
       "    fig.parent_element = element;\n",
       "    fig.cell_info = mpl.find_output_cell(\"<div id='\" + id + \"'></div>\");\n",
       "    if (!fig.cell_info) {\n",
       "        console.error('Failed to find cell for figure', id, fig);\n",
       "        return;\n",
       "    }\n",
       "    fig.cell_info[0].output_area.element.on(\n",
       "        'cleared',\n",
       "        { fig: fig },\n",
       "        fig._remove_fig_handler\n",
       "    );\n",
       "};\n",
       "\n",
       "mpl.figure.prototype.handle_close = function (fig, msg) {\n",
       "    var width = fig.canvas.width / fig.ratio;\n",
       "    fig.cell_info[0].output_area.element.off(\n",
       "        'cleared',\n",
       "        fig._remove_fig_handler\n",
       "    );\n",
       "    fig.resizeObserverInstance.unobserve(fig.canvas_div);\n",
       "\n",
       "    // Update the output cell to use the data from the current canvas.\n",
       "    fig.push_to_output();\n",
       "    var dataURL = fig.canvas.toDataURL();\n",
       "    // Re-enable the keyboard manager in IPython - without this line, in FF,\n",
       "    // the notebook keyboard shortcuts fail.\n",
       "    IPython.keyboard_manager.enable();\n",
       "    fig.parent_element.innerHTML =\n",
       "        '<img src=\"' + dataURL + '\" width=\"' + width + '\">';\n",
       "    fig.close_ws(fig, msg);\n",
       "};\n",
       "\n",
       "mpl.figure.prototype.close_ws = function (fig, msg) {\n",
       "    fig.send_message('closing', msg);\n",
       "    // fig.ws.close()\n",
       "};\n",
       "\n",
       "mpl.figure.prototype.push_to_output = function (_remove_interactive) {\n",
       "    // Turn the data on the canvas into data in the output cell.\n",
       "    var width = this.canvas.width / this.ratio;\n",
       "    var dataURL = this.canvas.toDataURL();\n",
       "    this.cell_info[1]['text/html'] =\n",
       "        '<img src=\"' + dataURL + '\" width=\"' + width + '\">';\n",
       "};\n",
       "\n",
       "mpl.figure.prototype.updated_canvas_event = function () {\n",
       "    // Tell IPython that the notebook contents must change.\n",
       "    IPython.notebook.set_dirty(true);\n",
       "    this.send_message('ack', {});\n",
       "    var fig = this;\n",
       "    // Wait a second, then push the new image to the DOM so\n",
       "    // that it is saved nicely (might be nice to debounce this).\n",
       "    setTimeout(function () {\n",
       "        fig.push_to_output();\n",
       "    }, 1000);\n",
       "};\n",
       "\n",
       "mpl.figure.prototype._init_toolbar = function () {\n",
       "    var fig = this;\n",
       "\n",
       "    var toolbar = document.createElement('div');\n",
       "    toolbar.classList = 'btn-toolbar';\n",
       "    this.root.appendChild(toolbar);\n",
       "\n",
       "    function on_click_closure(name) {\n",
       "        return function (_event) {\n",
       "            return fig.toolbar_button_onclick(name);\n",
       "        };\n",
       "    }\n",
       "\n",
       "    function on_mouseover_closure(tooltip) {\n",
       "        return function (event) {\n",
       "            if (!event.currentTarget.disabled) {\n",
       "                return fig.toolbar_button_onmouseover(tooltip);\n",
       "            }\n",
       "        };\n",
       "    }\n",
       "\n",
       "    fig.buttons = {};\n",
       "    var buttonGroup = document.createElement('div');\n",
       "    buttonGroup.classList = 'btn-group';\n",
       "    var button;\n",
       "    for (var toolbar_ind in mpl.toolbar_items) {\n",
       "        var name = mpl.toolbar_items[toolbar_ind][0];\n",
       "        var tooltip = mpl.toolbar_items[toolbar_ind][1];\n",
       "        var image = mpl.toolbar_items[toolbar_ind][2];\n",
       "        var method_name = mpl.toolbar_items[toolbar_ind][3];\n",
       "\n",
       "        if (!name) {\n",
       "            /* Instead of a spacer, we start a new button group. */\n",
       "            if (buttonGroup.hasChildNodes()) {\n",
       "                toolbar.appendChild(buttonGroup);\n",
       "            }\n",
       "            buttonGroup = document.createElement('div');\n",
       "            buttonGroup.classList = 'btn-group';\n",
       "            continue;\n",
       "        }\n",
       "\n",
       "        button = fig.buttons[name] = document.createElement('button');\n",
       "        button.classList = 'btn btn-default';\n",
       "        button.href = '#';\n",
       "        button.title = name;\n",
       "        button.innerHTML = '<i class=\"fa ' + image + ' fa-lg\"></i>';\n",
       "        button.addEventListener('click', on_click_closure(method_name));\n",
       "        button.addEventListener('mouseover', on_mouseover_closure(tooltip));\n",
       "        buttonGroup.appendChild(button);\n",
       "    }\n",
       "\n",
       "    if (buttonGroup.hasChildNodes()) {\n",
       "        toolbar.appendChild(buttonGroup);\n",
       "    }\n",
       "\n",
       "    // Add the status bar.\n",
       "    var status_bar = document.createElement('span');\n",
       "    status_bar.classList = 'mpl-message pull-right';\n",
       "    toolbar.appendChild(status_bar);\n",
       "    this.message = status_bar;\n",
       "\n",
       "    // Add the close button to the window.\n",
       "    var buttongrp = document.createElement('div');\n",
       "    buttongrp.classList = 'btn-group inline pull-right';\n",
       "    button = document.createElement('button');\n",
       "    button.classList = 'btn btn-mini btn-primary';\n",
       "    button.href = '#';\n",
       "    button.title = 'Stop Interaction';\n",
       "    button.innerHTML = '<i class=\"fa fa-power-off icon-remove icon-large\"></i>';\n",
       "    button.addEventListener('click', function (_evt) {\n",
       "        fig.handle_close(fig, {});\n",
       "    });\n",
       "    button.addEventListener(\n",
       "        'mouseover',\n",
       "        on_mouseover_closure('Stop Interaction')\n",
       "    );\n",
       "    buttongrp.appendChild(button);\n",
       "    var titlebar = this.root.querySelector('.ui-dialog-titlebar');\n",
       "    titlebar.insertBefore(buttongrp, titlebar.firstChild);\n",
       "};\n",
       "\n",
       "mpl.figure.prototype._remove_fig_handler = function (event) {\n",
       "    var fig = event.data.fig;\n",
       "    if (event.target !== this) {\n",
       "        // Ignore bubbled events from children.\n",
       "        return;\n",
       "    }\n",
       "    fig.close_ws(fig, {});\n",
       "};\n",
       "\n",
       "mpl.figure.prototype._root_extra_style = function (el) {\n",
       "    el.style.boxSizing = 'content-box'; // override notebook setting of border-box.\n",
       "};\n",
       "\n",
       "mpl.figure.prototype._canvas_extra_style = function (el) {\n",
       "    // this is important to make the div 'focusable\n",
       "    el.setAttribute('tabindex', 0);\n",
       "    // reach out to IPython and tell the keyboard manager to turn it's self\n",
       "    // off when our div gets focus\n",
       "\n",
       "    // location in version 3\n",
       "    if (IPython.notebook.keyboard_manager) {\n",
       "        IPython.notebook.keyboard_manager.register_events(el);\n",
       "    } else {\n",
       "        // location in version 2\n",
       "        IPython.keyboard_manager.register_events(el);\n",
       "    }\n",
       "};\n",
       "\n",
       "mpl.figure.prototype._key_event_extra = function (event, _name) {\n",
       "    // Check for shift+enter\n",
       "    if (event.shiftKey && event.which === 13) {\n",
       "        this.canvas_div.blur();\n",
       "        // select the cell after this one\n",
       "        var index = IPython.notebook.find_cell_index(this.cell_info[0]);\n",
       "        IPython.notebook.select(index + 1);\n",
       "    }\n",
       "};\n",
       "\n",
       "mpl.figure.prototype.handle_save = function (fig, _msg) {\n",
       "    fig.ondownload(fig, null);\n",
       "};\n",
       "\n",
       "mpl.find_output_cell = function (html_output) {\n",
       "    // Return the cell and output element which can be found *uniquely* in the notebook.\n",
       "    // Note - this is a bit hacky, but it is done because the \"notebook_saving.Notebook\"\n",
       "    // IPython event is triggered only after the cells have been serialised, which for\n",
       "    // our purposes (turning an active figure into a static one), is too late.\n",
       "    var cells = IPython.notebook.get_cells();\n",
       "    var ncells = cells.length;\n",
       "    for (var i = 0; i < ncells; i++) {\n",
       "        var cell = cells[i];\n",
       "        if (cell.cell_type === 'code') {\n",
       "            for (var j = 0; j < cell.output_area.outputs.length; j++) {\n",
       "                var data = cell.output_area.outputs[j];\n",
       "                if (data.data) {\n",
       "                    // IPython >= 3 moved mimebundle to data attribute of output\n",
       "                    data = data.data;\n",
       "                }\n",
       "                if (data['text/html'] === html_output) {\n",
       "                    return [cell, data, j];\n",
       "                }\n",
       "            }\n",
       "        }\n",
       "    }\n",
       "};\n",
       "\n",
       "// Register the function which deals with the matplotlib target/channel.\n",
       "// The kernel may be null if the page has been refreshed.\n",
       "if (IPython.notebook.kernel !== null) {\n",
       "    IPython.notebook.kernel.comm_manager.register_target(\n",
       "        'matplotlib',\n",
       "        mpl.mpl_figure_comm\n",
       "    );\n",
       "}\n"
      ],
      "text/plain": [
       "<IPython.core.display.Javascript object>"
      ]
     },
     "metadata": {},
     "output_type": "display_data"
    },
    {
     "data": {
      "text/html": [
       "<img src=\"data:image/png;base64,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\" width=\"1000\">"
      ],
      "text/plain": [
       "<IPython.core.display.HTML object>"
      ]
     },
     "metadata": {},
     "output_type": "display_data"
    },
    {
     "data": {
      "text/plain": [
       "[<matplotlib.lines.Line2D at 0x7ff61f2c0610>]"
      ]
     },
     "execution_count": 127,
     "metadata": {},
     "output_type": "execute_result"
    }
   ],
   "source": [
    "\n",
    "plt.plot(xdos, a_ldos[101])\n",
    "plt.plot(xdos, ldos[train_index[101]])"
   ]
  },
  {
   "cell_type": "code",
   "execution_count": 140,
   "id": "87c12fd1",
   "metadata": {
    "ExecuteTime": {
     "end_time": "2023-02-08T10:08:00.324046Z",
     "start_time": "2023-02-08T10:07:21.255071Z"
    }
   },
   "outputs": [
    {
     "name": "stdout",
     "output_type": "stream",
     "text": [
      "Iteration: 171, Current error :6.313446382297562e-09, Best error: 6.313446382297562e-09\r"
     ]
    },
    {
     "ename": "KeyboardInterrupt",
     "evalue": "",
     "output_type": "error",
     "traceback": [
      "\u001b[0;31m---------------------------------------------------------------------------\u001b[0m",
      "\u001b[0;31mKeyboardInterrupt\u001b[0m                         Traceback (most recent call last)",
      "Input \u001b[0;32mIn [140]\u001b[0m, in \u001b[0;36m<cell line: 33>\u001b[0;34m()\u001b[0m\n\u001b[1;32m     29\u001b[0m     \u001b[38;5;28mprint\u001b[39m (\u001b[38;5;124m\"\u001b[39m\u001b[38;5;124mIteration: \u001b[39m\u001b[38;5;132;01m{}\u001b[39;00m\u001b[38;5;124m, Current error :\u001b[39m\u001b[38;5;132;01m{}\u001b[39;00m\u001b[38;5;124m, Best error: \u001b[39m\u001b[38;5;132;01m{}\u001b[39;00m\u001b[38;5;124m\"\u001b[39m\u001b[38;5;241m.\u001b[39mformat(iteration, rmse, lowest_rmse), end \u001b[38;5;241m=\u001b[39m \u001b[38;5;124m\"\u001b[39m\u001b[38;5;130;01m\\r\u001b[39;00m\u001b[38;5;124m\"\u001b[39m, flush \u001b[38;5;241m=\u001b[39m \u001b[38;5;28;01mTrue\u001b[39;00m)\n\u001b[1;32m     31\u001b[0m     \u001b[38;5;28;01mreturn\u001b[39;00m rmse\n\u001b[0;32m---> 33\u001b[0m rmin_a \u001b[38;5;241m=\u001b[39m \u001b[43mminimize\u001b[49m\u001b[43m(\u001b[49m\u001b[43mfun\u001b[49m\u001b[43m \u001b[49m\u001b[38;5;241;43m=\u001b[39;49m\u001b[43m \u001b[49m\u001b[43ma_shift_rmse\u001b[49m\u001b[43m,\u001b[49m\u001b[43m \u001b[49m\u001b[43mx0\u001b[49m\u001b[43m \u001b[49m\u001b[38;5;241;43m=\u001b[39;49m\u001b[43m \u001b[49m\u001b[43mnp\u001b[49m\u001b[38;5;241;43m.\u001b[39;49m\u001b[43mzeros\u001b[49m\u001b[43m(\u001b[49m\u001b[38;5;241;43m831\u001b[39;49m\u001b[43m)\u001b[49m\u001b[43m,\u001b[49m\u001b[43m \u001b[49m\u001b[43mbounds\u001b[49m\u001b[43m \u001b[49m\u001b[38;5;241;43m=\u001b[39;49m\u001b[43m \u001b[49m\u001b[43mbounds\u001b[49m\u001b[43m \u001b[49m\u001b[38;5;241;43m*\u001b[39;49m\u001b[43m \u001b[49m\u001b[43mxdos_step\u001b[49m\u001b[43m,\u001b[49m\u001b[43m \u001b[49m\u001b[43mmethod\u001b[49m\u001b[43m \u001b[49m\u001b[38;5;241;43m=\u001b[39;49m\u001b[43m \u001b[49m\u001b[38;5;124;43m\"\u001b[39;49m\u001b[38;5;124;43mTNC\u001b[39;49m\u001b[38;5;124;43m\"\u001b[39;49m\u001b[43m,\u001b[49m\u001b[43m \u001b[49m\u001b[43moptions\u001b[49m\u001b[43m \u001b[49m\u001b[38;5;241;43m=\u001b[39;49m\u001b[43m{\u001b[49m\u001b[38;5;124;43m\"\u001b[39;49m\u001b[38;5;124;43mmaxiter\u001b[39;49m\u001b[38;5;124;43m\"\u001b[39;49m\u001b[43m:\u001b[49m\u001b[43m \u001b[49m\u001b[38;5;241;43m10000\u001b[39;49m\u001b[43m}\u001b[49m\u001b[43m)\u001b[49m\n",
      "File \u001b[0;32m~/anaconda3/lib/python3.9/site-packages/scipy/optimize/_minimize.py:626\u001b[0m, in \u001b[0;36mminimize\u001b[0;34m(fun, x0, args, method, jac, hess, hessp, bounds, constraints, tol, callback, options)\u001b[0m\n\u001b[1;32m    623\u001b[0m     \u001b[38;5;28;01mreturn\u001b[39;00m _minimize_lbfgsb(fun, x0, args, jac, bounds,\n\u001b[1;32m    624\u001b[0m                             callback\u001b[38;5;241m=\u001b[39mcallback, \u001b[38;5;241m*\u001b[39m\u001b[38;5;241m*\u001b[39moptions)\n\u001b[1;32m    625\u001b[0m \u001b[38;5;28;01melif\u001b[39;00m meth \u001b[38;5;241m==\u001b[39m \u001b[38;5;124m'\u001b[39m\u001b[38;5;124mtnc\u001b[39m\u001b[38;5;124m'\u001b[39m:\n\u001b[0;32m--> 626\u001b[0m     \u001b[38;5;28;01mreturn\u001b[39;00m \u001b[43m_minimize_tnc\u001b[49m\u001b[43m(\u001b[49m\u001b[43mfun\u001b[49m\u001b[43m,\u001b[49m\u001b[43m \u001b[49m\u001b[43mx0\u001b[49m\u001b[43m,\u001b[49m\u001b[43m \u001b[49m\u001b[43margs\u001b[49m\u001b[43m,\u001b[49m\u001b[43m \u001b[49m\u001b[43mjac\u001b[49m\u001b[43m,\u001b[49m\u001b[43m \u001b[49m\u001b[43mbounds\u001b[49m\u001b[43m,\u001b[49m\u001b[43m \u001b[49m\u001b[43mcallback\u001b[49m\u001b[38;5;241;43m=\u001b[39;49m\u001b[43mcallback\u001b[49m\u001b[43m,\u001b[49m\n\u001b[1;32m    627\u001b[0m \u001b[43m                         \u001b[49m\u001b[38;5;241;43m*\u001b[39;49m\u001b[38;5;241;43m*\u001b[39;49m\u001b[43moptions\u001b[49m\u001b[43m)\u001b[49m\n\u001b[1;32m    628\u001b[0m \u001b[38;5;28;01melif\u001b[39;00m meth \u001b[38;5;241m==\u001b[39m \u001b[38;5;124m'\u001b[39m\u001b[38;5;124mcobyla\u001b[39m\u001b[38;5;124m'\u001b[39m:\n\u001b[1;32m    629\u001b[0m     \u001b[38;5;28;01mreturn\u001b[39;00m _minimize_cobyla(fun, x0, args, constraints, \u001b[38;5;241m*\u001b[39m\u001b[38;5;241m*\u001b[39moptions)\n",
      "File \u001b[0;32m~/anaconda3/lib/python3.9/site-packages/scipy/optimize/tnc.py:375\u001b[0m, in \u001b[0;36m_minimize_tnc\u001b[0;34m(fun, x0, args, jac, bounds, eps, scale, offset, mesg_num, maxCGit, maxiter, eta, stepmx, accuracy, minfev, ftol, xtol, gtol, rescale, disp, callback, finite_diff_rel_step, maxfun, **unknown_options)\u001b[0m\n\u001b[1;32m    372\u001b[0m \u001b[38;5;28;01melse\u001b[39;00m:\n\u001b[1;32m    373\u001b[0m     messages \u001b[38;5;241m=\u001b[39m MSG_NONE\n\u001b[0;32m--> 375\u001b[0m sf \u001b[38;5;241m=\u001b[39m \u001b[43m_prepare_scalar_function\u001b[49m\u001b[43m(\u001b[49m\u001b[43mfun\u001b[49m\u001b[43m,\u001b[49m\u001b[43m \u001b[49m\u001b[43mx0\u001b[49m\u001b[43m,\u001b[49m\u001b[43m \u001b[49m\u001b[43mjac\u001b[49m\u001b[38;5;241;43m=\u001b[39;49m\u001b[43mjac\u001b[49m\u001b[43m,\u001b[49m\u001b[43m \u001b[49m\u001b[43margs\u001b[49m\u001b[38;5;241;43m=\u001b[39;49m\u001b[43margs\u001b[49m\u001b[43m,\u001b[49m\u001b[43m \u001b[49m\u001b[43mepsilon\u001b[49m\u001b[38;5;241;43m=\u001b[39;49m\u001b[43meps\u001b[49m\u001b[43m,\u001b[49m\n\u001b[1;32m    376\u001b[0m \u001b[43m                              \u001b[49m\u001b[43mfinite_diff_rel_step\u001b[49m\u001b[38;5;241;43m=\u001b[39;49m\u001b[43mfinite_diff_rel_step\u001b[49m\u001b[43m,\u001b[49m\n\u001b[1;32m    377\u001b[0m \u001b[43m                              \u001b[49m\u001b[43mbounds\u001b[49m\u001b[38;5;241;43m=\u001b[39;49m\u001b[43mnew_bounds\u001b[49m\u001b[43m)\u001b[49m\n\u001b[1;32m    378\u001b[0m func_and_grad \u001b[38;5;241m=\u001b[39m sf\u001b[38;5;241m.\u001b[39mfun_and_grad\n\u001b[1;32m    380\u001b[0m \u001b[38;5;124;03m\"\"\"\u001b[39;00m\n\u001b[1;32m    381\u001b[0m \u001b[38;5;124;03mlow, up   : the bounds (lists of floats)\u001b[39;00m\n\u001b[1;32m    382\u001b[0m \u001b[38;5;124;03m            if low is None, the lower bounds are removed.\u001b[39;00m\n\u001b[1;32m    383\u001b[0m \u001b[38;5;124;03m            if up is None, the upper bounds are removed.\u001b[39;00m\n\u001b[1;32m    384\u001b[0m \u001b[38;5;124;03m            low and up defaults to None\u001b[39;00m\n\u001b[1;32m    385\u001b[0m \u001b[38;5;124;03m\"\"\"\u001b[39;00m\n",
      "File \u001b[0;32m~/anaconda3/lib/python3.9/site-packages/scipy/optimize/optimize.py:261\u001b[0m, in \u001b[0;36m_prepare_scalar_function\u001b[0;34m(fun, x0, jac, args, bounds, epsilon, finite_diff_rel_step, hess)\u001b[0m\n\u001b[1;32m    257\u001b[0m     bounds \u001b[38;5;241m=\u001b[39m (\u001b[38;5;241m-\u001b[39mnp\u001b[38;5;241m.\u001b[39minf, np\u001b[38;5;241m.\u001b[39minf)\n\u001b[1;32m    259\u001b[0m \u001b[38;5;66;03m# ScalarFunction caches. Reuse of fun(x) during grad\u001b[39;00m\n\u001b[1;32m    260\u001b[0m \u001b[38;5;66;03m# calculation reduces overall function evaluations.\u001b[39;00m\n\u001b[0;32m--> 261\u001b[0m sf \u001b[38;5;241m=\u001b[39m \u001b[43mScalarFunction\u001b[49m\u001b[43m(\u001b[49m\u001b[43mfun\u001b[49m\u001b[43m,\u001b[49m\u001b[43m \u001b[49m\u001b[43mx0\u001b[49m\u001b[43m,\u001b[49m\u001b[43m \u001b[49m\u001b[43margs\u001b[49m\u001b[43m,\u001b[49m\u001b[43m \u001b[49m\u001b[43mgrad\u001b[49m\u001b[43m,\u001b[49m\u001b[43m \u001b[49m\u001b[43mhess\u001b[49m\u001b[43m,\u001b[49m\n\u001b[1;32m    262\u001b[0m \u001b[43m                    \u001b[49m\u001b[43mfinite_diff_rel_step\u001b[49m\u001b[43m,\u001b[49m\u001b[43m \u001b[49m\u001b[43mbounds\u001b[49m\u001b[43m,\u001b[49m\u001b[43m \u001b[49m\u001b[43mepsilon\u001b[49m\u001b[38;5;241;43m=\u001b[39;49m\u001b[43mepsilon\u001b[49m\u001b[43m)\u001b[49m\n\u001b[1;32m    264\u001b[0m \u001b[38;5;28;01mreturn\u001b[39;00m sf\n",
      "File \u001b[0;32m~/anaconda3/lib/python3.9/site-packages/scipy/optimize/_differentiable_functions.py:159\u001b[0m, in \u001b[0;36mScalarFunction.__init__\u001b[0;34m(self, fun, x0, args, grad, hess, finite_diff_rel_step, finite_diff_bounds, epsilon)\u001b[0m\n\u001b[1;32m    155\u001b[0m         \u001b[38;5;28mself\u001b[39m\u001b[38;5;241m.\u001b[39mg \u001b[38;5;241m=\u001b[39m approx_derivative(fun_wrapped, \u001b[38;5;28mself\u001b[39m\u001b[38;5;241m.\u001b[39mx, f0\u001b[38;5;241m=\u001b[39m\u001b[38;5;28mself\u001b[39m\u001b[38;5;241m.\u001b[39mf,\n\u001b[1;32m    156\u001b[0m                                    \u001b[38;5;241m*\u001b[39m\u001b[38;5;241m*\u001b[39mfinite_diff_options)\n\u001b[1;32m    158\u001b[0m \u001b[38;5;28mself\u001b[39m\u001b[38;5;241m.\u001b[39m_update_grad_impl \u001b[38;5;241m=\u001b[39m update_grad\n\u001b[0;32m--> 159\u001b[0m \u001b[38;5;28;43mself\u001b[39;49m\u001b[38;5;241;43m.\u001b[39;49m\u001b[43m_update_grad\u001b[49m\u001b[43m(\u001b[49m\u001b[43m)\u001b[49m\n\u001b[1;32m    161\u001b[0m \u001b[38;5;66;03m# Hessian Evaluation\u001b[39;00m\n\u001b[1;32m    162\u001b[0m \u001b[38;5;28;01mif\u001b[39;00m callable(hess):\n",
      "File \u001b[0;32m~/anaconda3/lib/python3.9/site-packages/scipy/optimize/_differentiable_functions.py:238\u001b[0m, in \u001b[0;36mScalarFunction._update_grad\u001b[0;34m(self)\u001b[0m\n\u001b[1;32m    236\u001b[0m \u001b[38;5;28;01mdef\u001b[39;00m \u001b[38;5;21m_update_grad\u001b[39m(\u001b[38;5;28mself\u001b[39m):\n\u001b[1;32m    237\u001b[0m     \u001b[38;5;28;01mif\u001b[39;00m \u001b[38;5;129;01mnot\u001b[39;00m \u001b[38;5;28mself\u001b[39m\u001b[38;5;241m.\u001b[39mg_updated:\n\u001b[0;32m--> 238\u001b[0m         \u001b[38;5;28;43mself\u001b[39;49m\u001b[38;5;241;43m.\u001b[39;49m\u001b[43m_update_grad_impl\u001b[49m\u001b[43m(\u001b[49m\u001b[43m)\u001b[49m\n\u001b[1;32m    239\u001b[0m         \u001b[38;5;28mself\u001b[39m\u001b[38;5;241m.\u001b[39mg_updated \u001b[38;5;241m=\u001b[39m \u001b[38;5;28;01mTrue\u001b[39;00m\n",
      "File \u001b[0;32m~/anaconda3/lib/python3.9/site-packages/scipy/optimize/_differentiable_functions.py:155\u001b[0m, in \u001b[0;36mScalarFunction.__init__.<locals>.update_grad\u001b[0;34m()\u001b[0m\n\u001b[1;32m    153\u001b[0m \u001b[38;5;28mself\u001b[39m\u001b[38;5;241m.\u001b[39m_update_fun()\n\u001b[1;32m    154\u001b[0m \u001b[38;5;28mself\u001b[39m\u001b[38;5;241m.\u001b[39mngev \u001b[38;5;241m+\u001b[39m\u001b[38;5;241m=\u001b[39m \u001b[38;5;241m1\u001b[39m\n\u001b[0;32m--> 155\u001b[0m \u001b[38;5;28mself\u001b[39m\u001b[38;5;241m.\u001b[39mg \u001b[38;5;241m=\u001b[39m \u001b[43mapprox_derivative\u001b[49m\u001b[43m(\u001b[49m\u001b[43mfun_wrapped\u001b[49m\u001b[43m,\u001b[49m\u001b[43m \u001b[49m\u001b[38;5;28;43mself\u001b[39;49m\u001b[38;5;241;43m.\u001b[39;49m\u001b[43mx\u001b[49m\u001b[43m,\u001b[49m\u001b[43m \u001b[49m\u001b[43mf0\u001b[49m\u001b[38;5;241;43m=\u001b[39;49m\u001b[38;5;28;43mself\u001b[39;49m\u001b[38;5;241;43m.\u001b[39;49m\u001b[43mf\u001b[49m\u001b[43m,\u001b[49m\n\u001b[1;32m    156\u001b[0m \u001b[43m                           \u001b[49m\u001b[38;5;241;43m*\u001b[39;49m\u001b[38;5;241;43m*\u001b[39;49m\u001b[43mfinite_diff_options\u001b[49m\u001b[43m)\u001b[49m\n",
      "File \u001b[0;32m~/anaconda3/lib/python3.9/site-packages/scipy/optimize/_numdiff.py:486\u001b[0m, in \u001b[0;36mapprox_derivative\u001b[0;34m(fun, x0, method, rel_step, abs_step, f0, bounds, sparsity, as_linear_operator, args, kwargs)\u001b[0m\n\u001b[1;32m    483\u001b[0m     use_one_sided \u001b[38;5;241m=\u001b[39m \u001b[38;5;28;01mFalse\u001b[39;00m\n\u001b[1;32m    485\u001b[0m \u001b[38;5;28;01mif\u001b[39;00m sparsity \u001b[38;5;129;01mis\u001b[39;00m \u001b[38;5;28;01mNone\u001b[39;00m:\n\u001b[0;32m--> 486\u001b[0m     \u001b[38;5;28;01mreturn\u001b[39;00m \u001b[43m_dense_difference\u001b[49m\u001b[43m(\u001b[49m\u001b[43mfun_wrapped\u001b[49m\u001b[43m,\u001b[49m\u001b[43m \u001b[49m\u001b[43mx0\u001b[49m\u001b[43m,\u001b[49m\u001b[43m \u001b[49m\u001b[43mf0\u001b[49m\u001b[43m,\u001b[49m\u001b[43m \u001b[49m\u001b[43mh\u001b[49m\u001b[43m,\u001b[49m\n\u001b[1;32m    487\u001b[0m \u001b[43m                             \u001b[49m\u001b[43muse_one_sided\u001b[49m\u001b[43m,\u001b[49m\u001b[43m \u001b[49m\u001b[43mmethod\u001b[49m\u001b[43m)\u001b[49m\n\u001b[1;32m    488\u001b[0m \u001b[38;5;28;01melse\u001b[39;00m:\n\u001b[1;32m    489\u001b[0m     \u001b[38;5;28;01mif\u001b[39;00m \u001b[38;5;129;01mnot\u001b[39;00m issparse(sparsity) \u001b[38;5;129;01mand\u001b[39;00m \u001b[38;5;28mlen\u001b[39m(sparsity) \u001b[38;5;241m==\u001b[39m \u001b[38;5;241m2\u001b[39m:\n",
      "File \u001b[0;32m~/anaconda3/lib/python3.9/site-packages/scipy/optimize/_numdiff.py:557\u001b[0m, in \u001b[0;36m_dense_difference\u001b[0;34m(fun, x0, f0, h, use_one_sided, method)\u001b[0m\n\u001b[1;32m    555\u001b[0m     x \u001b[38;5;241m=\u001b[39m x0 \u001b[38;5;241m+\u001b[39m h_vecs[i]\n\u001b[1;32m    556\u001b[0m     dx \u001b[38;5;241m=\u001b[39m x[i] \u001b[38;5;241m-\u001b[39m x0[i]  \u001b[38;5;66;03m# Recompute dx as exactly representable number.\u001b[39;00m\n\u001b[0;32m--> 557\u001b[0m     df \u001b[38;5;241m=\u001b[39m \u001b[43mfun\u001b[49m\u001b[43m(\u001b[49m\u001b[43mx\u001b[49m\u001b[43m)\u001b[49m \u001b[38;5;241m-\u001b[39m f0\n\u001b[1;32m    558\u001b[0m \u001b[38;5;28;01melif\u001b[39;00m method \u001b[38;5;241m==\u001b[39m \u001b[38;5;124m'\u001b[39m\u001b[38;5;124m3-point\u001b[39m\u001b[38;5;124m'\u001b[39m \u001b[38;5;129;01mand\u001b[39;00m use_one_sided[i]:\n\u001b[1;32m    559\u001b[0m     x1 \u001b[38;5;241m=\u001b[39m x0 \u001b[38;5;241m+\u001b[39m h_vecs[i]\n",
      "File \u001b[0;32m~/anaconda3/lib/python3.9/site-packages/scipy/optimize/_numdiff.py:437\u001b[0m, in \u001b[0;36mapprox_derivative.<locals>.fun_wrapped\u001b[0;34m(x)\u001b[0m\n\u001b[1;32m    436\u001b[0m \u001b[38;5;28;01mdef\u001b[39;00m \u001b[38;5;21mfun_wrapped\u001b[39m(x):\n\u001b[0;32m--> 437\u001b[0m     f \u001b[38;5;241m=\u001b[39m np\u001b[38;5;241m.\u001b[39matleast_1d(\u001b[43mfun\u001b[49m\u001b[43m(\u001b[49m\u001b[43mx\u001b[49m\u001b[43m,\u001b[49m\u001b[43m \u001b[49m\u001b[38;5;241;43m*\u001b[39;49m\u001b[43margs\u001b[49m\u001b[43m,\u001b[49m\u001b[43m \u001b[49m\u001b[38;5;241;43m*\u001b[39;49m\u001b[38;5;241;43m*\u001b[39;49m\u001b[43mkwargs\u001b[49m\u001b[43m)\u001b[49m)\n\u001b[1;32m    438\u001b[0m     \u001b[38;5;28;01mif\u001b[39;00m f\u001b[38;5;241m.\u001b[39mndim \u001b[38;5;241m>\u001b[39m \u001b[38;5;241m1\u001b[39m:\n\u001b[1;32m    439\u001b[0m         \u001b[38;5;28;01mraise\u001b[39;00m \u001b[38;5;167;01mRuntimeError\u001b[39;00m(\u001b[38;5;124m\"\u001b[39m\u001b[38;5;124m`fun` return value has \u001b[39m\u001b[38;5;124m\"\u001b[39m\n\u001b[1;32m    440\u001b[0m                            \u001b[38;5;124m\"\u001b[39m\u001b[38;5;124mmore than 1 dimension.\u001b[39m\u001b[38;5;124m\"\u001b[39m)\n",
      "File \u001b[0;32m~/anaconda3/lib/python3.9/site-packages/scipy/optimize/_differentiable_functions.py:134\u001b[0m, in \u001b[0;36mScalarFunction.__init__.<locals>.fun_wrapped\u001b[0;34m(x)\u001b[0m\n\u001b[1;32m    130\u001b[0m \u001b[38;5;28mself\u001b[39m\u001b[38;5;241m.\u001b[39mnfev \u001b[38;5;241m+\u001b[39m\u001b[38;5;241m=\u001b[39m \u001b[38;5;241m1\u001b[39m\n\u001b[1;32m    131\u001b[0m \u001b[38;5;66;03m# Send a copy because the user may overwrite it.\u001b[39;00m\n\u001b[1;32m    132\u001b[0m \u001b[38;5;66;03m# Overwriting results in undefined behaviour because\u001b[39;00m\n\u001b[1;32m    133\u001b[0m \u001b[38;5;66;03m# fun(self.x) will change self.x, with the two no longer linked.\u001b[39;00m\n\u001b[0;32m--> 134\u001b[0m \u001b[38;5;28;01mreturn\u001b[39;00m \u001b[43mfun\u001b[49m\u001b[43m(\u001b[49m\u001b[43mnp\u001b[49m\u001b[38;5;241;43m.\u001b[39;49m\u001b[43mcopy\u001b[49m\u001b[43m(\u001b[49m\u001b[43mx\u001b[49m\u001b[43m)\u001b[49m\u001b[43m,\u001b[49m\u001b[43m \u001b[49m\u001b[38;5;241;43m*\u001b[39;49m\u001b[43margs\u001b[49m\u001b[43m)\u001b[49m\n",
      "Input \u001b[0;32mIn [140]\u001b[0m, in \u001b[0;36ma_shift_rmse\u001b[0;34m(alignment)\u001b[0m\n\u001b[1;32m     16\u001b[0m normalized_dos \u001b[38;5;241m=\u001b[39m normalize(a_ldos, alignment) \n\u001b[1;32m     17\u001b[0m model \u001b[38;5;241m=\u001b[39m Ridge(alpha \u001b[38;5;241m=\u001b[39m \u001b[38;5;241m0\u001b[39m, fit_intercept \u001b[38;5;241m=\u001b[39m \u001b[38;5;28;01mTrue\u001b[39;00m, solver \u001b[38;5;241m=\u001b[39m \u001b[38;5;124m'\u001b[39m\u001b[38;5;124msvd\u001b[39m\u001b[38;5;124m'\u001b[39m)\n\u001b[0;32m---> 18\u001b[0m model\u001b[38;5;241m.\u001b[39mfit(Silicon\u001b[38;5;241m.\u001b[39mFeatures[\u001b[38;5;124m'\u001b[39m\u001b[38;5;124mstructure_avekerneldescriptors\u001b[39m\u001b[38;5;124m'\u001b[39m][train_index,:], normalized_dos)\n\u001b[1;32m     19\u001b[0m preds \u001b[38;5;241m=\u001b[39m model\u001b[38;5;241m.\u001b[39mpredict(Silicon\u001b[38;5;241m.\u001b[39mFeatures[\u001b[38;5;124m'\u001b[39m\u001b[38;5;124mstructure_avekerneldescriptors\u001b[39m\u001b[38;5;124m'\u001b[39m][train_index,:])\n\u001b[1;32m     20\u001b[0m \u001b[38;5;28;01mwith\u001b[39;00m torch\u001b[38;5;241m.\u001b[39mno_grad():\n",
      "File \u001b[0;32m~/anaconda3/lib/python3.9/site-packages/sklearn/linear_model/_ridge.py:1011\u001b[0m, in \u001b[0;36mRidge.fit\u001b[0;34m(self, X, y, sample_weight)\u001b[0m\n\u001b[1;32m   1002\u001b[0m _accept_sparse \u001b[38;5;241m=\u001b[39m _get_valid_accept_sparse(sparse\u001b[38;5;241m.\u001b[39missparse(X), \u001b[38;5;28mself\u001b[39m\u001b[38;5;241m.\u001b[39msolver)\n\u001b[1;32m   1003\u001b[0m X, y \u001b[38;5;241m=\u001b[39m \u001b[38;5;28mself\u001b[39m\u001b[38;5;241m.\u001b[39m_validate_data(\n\u001b[1;32m   1004\u001b[0m     X,\n\u001b[1;32m   1005\u001b[0m     y,\n\u001b[0;32m   (...)\u001b[0m\n\u001b[1;32m   1009\u001b[0m     y_numeric\u001b[38;5;241m=\u001b[39m\u001b[38;5;28;01mTrue\u001b[39;00m,\n\u001b[1;32m   1010\u001b[0m )\n\u001b[0;32m-> 1011\u001b[0m \u001b[38;5;28;01mreturn\u001b[39;00m \u001b[38;5;28;43msuper\u001b[39;49m\u001b[43m(\u001b[49m\u001b[43m)\u001b[49m\u001b[38;5;241;43m.\u001b[39;49m\u001b[43mfit\u001b[49m\u001b[43m(\u001b[49m\u001b[43mX\u001b[49m\u001b[43m,\u001b[49m\u001b[43m \u001b[49m\u001b[43my\u001b[49m\u001b[43m,\u001b[49m\u001b[43m \u001b[49m\u001b[43msample_weight\u001b[49m\u001b[38;5;241;43m=\u001b[39;49m\u001b[43msample_weight\u001b[49m\u001b[43m)\u001b[49m\n",
      "File \u001b[0;32m~/anaconda3/lib/python3.9/site-packages/sklearn/linear_model/_ridge.py:782\u001b[0m, in \u001b[0;36m_BaseRidge.fit\u001b[0;34m(self, X, y, sample_weight)\u001b[0m\n\u001b[1;32m    778\u001b[0m     \u001b[38;5;28;01melse\u001b[39;00m:\n\u001b[1;32m    779\u001b[0m         \u001b[38;5;66;03m# for dense matrices or when intercept is set to 0\u001b[39;00m\n\u001b[1;32m    780\u001b[0m         params \u001b[38;5;241m=\u001b[39m {}\n\u001b[0;32m--> 782\u001b[0m     \u001b[38;5;28mself\u001b[39m\u001b[38;5;241m.\u001b[39mcoef_, \u001b[38;5;28mself\u001b[39m\u001b[38;5;241m.\u001b[39mn_iter_ \u001b[38;5;241m=\u001b[39m \u001b[43m_ridge_regression\u001b[49m\u001b[43m(\u001b[49m\n\u001b[1;32m    783\u001b[0m \u001b[43m        \u001b[49m\u001b[43mX\u001b[49m\u001b[43m,\u001b[49m\n\u001b[1;32m    784\u001b[0m \u001b[43m        \u001b[49m\u001b[43my\u001b[49m\u001b[43m,\u001b[49m\n\u001b[1;32m    785\u001b[0m \u001b[43m        \u001b[49m\u001b[43malpha\u001b[49m\u001b[38;5;241;43m=\u001b[39;49m\u001b[38;5;28;43mself\u001b[39;49m\u001b[38;5;241;43m.\u001b[39;49m\u001b[43malpha\u001b[49m\u001b[43m,\u001b[49m\n\u001b[1;32m    786\u001b[0m \u001b[43m        \u001b[49m\u001b[43msample_weight\u001b[49m\u001b[38;5;241;43m=\u001b[39;49m\u001b[43msample_weight\u001b[49m\u001b[43m,\u001b[49m\n\u001b[1;32m    787\u001b[0m \u001b[43m        \u001b[49m\u001b[43mmax_iter\u001b[49m\u001b[38;5;241;43m=\u001b[39;49m\u001b[38;5;28;43mself\u001b[39;49m\u001b[38;5;241;43m.\u001b[39;49m\u001b[43mmax_iter\u001b[49m\u001b[43m,\u001b[49m\n\u001b[1;32m    788\u001b[0m \u001b[43m        \u001b[49m\u001b[43mtol\u001b[49m\u001b[38;5;241;43m=\u001b[39;49m\u001b[38;5;28;43mself\u001b[39;49m\u001b[38;5;241;43m.\u001b[39;49m\u001b[43mtol\u001b[49m\u001b[43m,\u001b[49m\n\u001b[1;32m    789\u001b[0m \u001b[43m        \u001b[49m\u001b[43msolver\u001b[49m\u001b[38;5;241;43m=\u001b[39;49m\u001b[43msolver\u001b[49m\u001b[43m,\u001b[49m\n\u001b[1;32m    790\u001b[0m \u001b[43m        \u001b[49m\u001b[43mpositive\u001b[49m\u001b[38;5;241;43m=\u001b[39;49m\u001b[38;5;28;43mself\u001b[39;49m\u001b[38;5;241;43m.\u001b[39;49m\u001b[43mpositive\u001b[49m\u001b[43m,\u001b[49m\n\u001b[1;32m    791\u001b[0m \u001b[43m        \u001b[49m\u001b[43mrandom_state\u001b[49m\u001b[38;5;241;43m=\u001b[39;49m\u001b[38;5;28;43mself\u001b[39;49m\u001b[38;5;241;43m.\u001b[39;49m\u001b[43mrandom_state\u001b[49m\u001b[43m,\u001b[49m\n\u001b[1;32m    792\u001b[0m \u001b[43m        \u001b[49m\u001b[43mreturn_n_iter\u001b[49m\u001b[38;5;241;43m=\u001b[39;49m\u001b[38;5;28;43;01mTrue\u001b[39;49;00m\u001b[43m,\u001b[49m\n\u001b[1;32m    793\u001b[0m \u001b[43m        \u001b[49m\u001b[43mreturn_intercept\u001b[49m\u001b[38;5;241;43m=\u001b[39;49m\u001b[38;5;28;43;01mFalse\u001b[39;49;00m\u001b[43m,\u001b[49m\n\u001b[1;32m    794\u001b[0m \u001b[43m        \u001b[49m\u001b[43mcheck_input\u001b[49m\u001b[38;5;241;43m=\u001b[39;49m\u001b[38;5;28;43;01mFalse\u001b[39;49;00m\u001b[43m,\u001b[49m\n\u001b[1;32m    795\u001b[0m \u001b[43m        \u001b[49m\u001b[38;5;241;43m*\u001b[39;49m\u001b[38;5;241;43m*\u001b[39;49m\u001b[43mparams\u001b[49m\u001b[43m,\u001b[49m\n\u001b[1;32m    796\u001b[0m \u001b[43m    \u001b[49m\u001b[43m)\u001b[49m\n\u001b[1;32m    797\u001b[0m     \u001b[38;5;28mself\u001b[39m\u001b[38;5;241m.\u001b[39m_set_intercept(X_offset, y_offset, X_scale)\n\u001b[1;32m    799\u001b[0m \u001b[38;5;28;01mreturn\u001b[39;00m \u001b[38;5;28mself\u001b[39m\n",
      "File \u001b[0;32m~/anaconda3/lib/python3.9/site-packages/sklearn/linear_model/_ridge.py:657\u001b[0m, in \u001b[0;36m_ridge_regression\u001b[0;34m(X, y, alpha, sample_weight, solver, max_iter, tol, verbose, positive, random_state, return_n_iter, return_intercept, X_scale, X_offset, check_input)\u001b[0m\n\u001b[1;32m    655\u001b[0m     \u001b[38;5;28;01mif\u001b[39;00m sparse\u001b[38;5;241m.\u001b[39missparse(X):\n\u001b[1;32m    656\u001b[0m         \u001b[38;5;28;01mraise\u001b[39;00m \u001b[38;5;167;01mTypeError\u001b[39;00m(\u001b[38;5;124m\"\u001b[39m\u001b[38;5;124mSVD solver does not support sparse inputs currently\u001b[39m\u001b[38;5;124m\"\u001b[39m)\n\u001b[0;32m--> 657\u001b[0m     coef \u001b[38;5;241m=\u001b[39m \u001b[43m_solve_svd\u001b[49m\u001b[43m(\u001b[49m\u001b[43mX\u001b[49m\u001b[43m,\u001b[49m\u001b[43m \u001b[49m\u001b[43my\u001b[49m\u001b[43m,\u001b[49m\u001b[43m \u001b[49m\u001b[43malpha\u001b[49m\u001b[43m)\u001b[49m\n\u001b[1;32m    659\u001b[0m \u001b[38;5;28;01mif\u001b[39;00m ravel:\n\u001b[1;32m    660\u001b[0m     \u001b[38;5;66;03m# When y was passed as a 1d-array, we flatten the coefficients.\u001b[39;00m\n\u001b[1;32m    661\u001b[0m     coef \u001b[38;5;241m=\u001b[39m coef\u001b[38;5;241m.\u001b[39mravel()\n",
      "File \u001b[0;32m~/anaconda3/lib/python3.9/site-packages/sklearn/linear_model/_ridge.py:230\u001b[0m, in \u001b[0;36m_solve_svd\u001b[0;34m(X, y, alpha)\u001b[0m\n\u001b[1;32m    229\u001b[0m \u001b[38;5;28;01mdef\u001b[39;00m \u001b[38;5;21m_solve_svd\u001b[39m(X, y, alpha):\n\u001b[0;32m--> 230\u001b[0m     U, s, Vt \u001b[38;5;241m=\u001b[39m \u001b[43mlinalg\u001b[49m\u001b[38;5;241;43m.\u001b[39;49m\u001b[43msvd\u001b[49m\u001b[43m(\u001b[49m\u001b[43mX\u001b[49m\u001b[43m,\u001b[49m\u001b[43m \u001b[49m\u001b[43mfull_matrices\u001b[49m\u001b[38;5;241;43m=\u001b[39;49m\u001b[38;5;28;43;01mFalse\u001b[39;49;00m\u001b[43m)\u001b[49m\n\u001b[1;32m    231\u001b[0m     idx \u001b[38;5;241m=\u001b[39m s \u001b[38;5;241m>\u001b[39m \u001b[38;5;241m1e-15\u001b[39m  \u001b[38;5;66;03m# same default value as scipy.linalg.pinv\u001b[39;00m\n\u001b[1;32m    232\u001b[0m     s_nnz \u001b[38;5;241m=\u001b[39m s[idx][:, np\u001b[38;5;241m.\u001b[39mnewaxis]\n",
      "File \u001b[0;32m~/anaconda3/lib/python3.9/site-packages/scipy/linalg/decomp_svd.py:127\u001b[0m, in \u001b[0;36msvd\u001b[0;34m(a, full_matrices, compute_uv, overwrite_a, check_finite, lapack_driver)\u001b[0m\n\u001b[1;32m    123\u001b[0m lwork \u001b[38;5;241m=\u001b[39m _compute_lwork(gesXd_lwork, a1\u001b[38;5;241m.\u001b[39mshape[\u001b[38;5;241m0\u001b[39m], a1\u001b[38;5;241m.\u001b[39mshape[\u001b[38;5;241m1\u001b[39m],\n\u001b[1;32m    124\u001b[0m                        compute_uv\u001b[38;5;241m=\u001b[39mcompute_uv, full_matrices\u001b[38;5;241m=\u001b[39mfull_matrices)\n\u001b[1;32m    126\u001b[0m \u001b[38;5;66;03m# perform decomposition\u001b[39;00m\n\u001b[0;32m--> 127\u001b[0m u, s, v, info \u001b[38;5;241m=\u001b[39m \u001b[43mgesXd\u001b[49m\u001b[43m(\u001b[49m\u001b[43ma1\u001b[49m\u001b[43m,\u001b[49m\u001b[43m \u001b[49m\u001b[43mcompute_uv\u001b[49m\u001b[38;5;241;43m=\u001b[39;49m\u001b[43mcompute_uv\u001b[49m\u001b[43m,\u001b[49m\u001b[43m \u001b[49m\u001b[43mlwork\u001b[49m\u001b[38;5;241;43m=\u001b[39;49m\u001b[43mlwork\u001b[49m\u001b[43m,\u001b[49m\n\u001b[1;32m    128\u001b[0m \u001b[43m                      \u001b[49m\u001b[43mfull_matrices\u001b[49m\u001b[38;5;241;43m=\u001b[39;49m\u001b[43mfull_matrices\u001b[49m\u001b[43m,\u001b[49m\u001b[43m \u001b[49m\u001b[43moverwrite_a\u001b[49m\u001b[38;5;241;43m=\u001b[39;49m\u001b[43moverwrite_a\u001b[49m\u001b[43m)\u001b[49m\n\u001b[1;32m    130\u001b[0m \u001b[38;5;28;01mif\u001b[39;00m info \u001b[38;5;241m>\u001b[39m \u001b[38;5;241m0\u001b[39m:\n\u001b[1;32m    131\u001b[0m     \u001b[38;5;28;01mraise\u001b[39;00m LinAlgError(\u001b[38;5;124m\"\u001b[39m\u001b[38;5;124mSVD did not converge\u001b[39m\u001b[38;5;124m\"\u001b[39m)\n",
      "\u001b[0;31mKeyboardInterrupt\u001b[0m: "
     ]
    }
   ],
   "source": [
    "from scipy.optimize import minimize\n",
    "from sklearn.linear_model import Ridge\n",
    "\n",
    "\n",
    "lowest_rmse = 10\n",
    "global lowest_rmse\n",
    "best_alignment = 0\n",
    "global best_alignment\n",
    "iteration = 0\n",
    "global iteration\n",
    "\n",
    "def a_shift_rmse(alignment):\n",
    "    global iteration\n",
    "    iteration +=1\n",
    "    alignment = torch.tensor(alignment)\n",
    "    normalized_dos = normalize(a_ldos, alignment) \n",
    "    model = Ridge(alpha = 0, fit_intercept = True, solver = 'svd')\n",
    "    model.fit(Silicon.Features['structure_avekerneldescriptors'][train_index,:], normalized_dos)\n",
    "    preds = model.predict(Silicon.Features['structure_avekerneldescriptors'][train_index,:])\n",
    "    with torch.no_grad():\n",
    "        rmse = loss.t_get_rmse(torch.tensor(preds), normalized_dos, xdos)\n",
    "        global lowest_rmse\n",
    "            \n",
    "        if rmse < lowest_rmse:\n",
    "            global best_alignment\n",
    "            lowest_rmse = rmse\n",
    "            best_alignment = alignment\n",
    "            \n",
    "    print (\"Iteration: {}, Current error :{}, Best error: {}\".format(iteration, rmse, lowest_rmse), end = \"\\r\", flush = True)\n",
    "\n",
    "    return rmse\n",
    "\n",
    "rmin_a = minimize(fun = a_shift_rmse, x0 = np.zeros(831), bounds = bounds * xdos_step, method = \"TNC\", options ={\"maxiter\": 10000})"
   ]
  },
  {
   "cell_type": "code",
   "execution_count": 132,
   "id": "ae841e1f",
   "metadata": {
    "ExecuteTime": {
     "end_time": "2023-02-08T10:01:30.445531Z",
     "start_time": "2023-02-08T10:01:30.439635Z"
    }
   },
   "outputs": [],
   "source": [
    "start = np.zeros(831)\n",
    "start[:100] += (5 * xdos_step.item())"
   ]
  },
  {
   "cell_type": "code",
   "execution_count": 133,
   "id": "944684a5",
   "metadata": {
    "ExecuteTime": {
     "end_time": "2023-02-08T10:01:31.261869Z",
     "start_time": "2023-02-08T10:01:31.244542Z"
    }
   },
   "outputs": [
    {
     "data": {
      "text/plain": [
       "array([0.25032261, 0.25032261, 0.25032261, 0.25032261, 0.25032261,\n",
       "       0.25032261, 0.25032261, 0.25032261, 0.25032261, 0.25032261,\n",
       "       0.25032261, 0.25032261, 0.25032261, 0.25032261, 0.25032261,\n",
       "       0.25032261, 0.25032261, 0.25032261, 0.25032261, 0.25032261,\n",
       "       0.25032261, 0.25032261, 0.25032261, 0.25032261, 0.25032261,\n",
       "       0.25032261, 0.25032261, 0.25032261, 0.25032261, 0.25032261,\n",
       "       0.25032261, 0.25032261, 0.25032261, 0.25032261, 0.25032261,\n",
       "       0.25032261, 0.25032261, 0.25032261, 0.25032261, 0.25032261,\n",
       "       0.25032261, 0.25032261, 0.25032261, 0.25032261, 0.25032261,\n",
       "       0.25032261, 0.25032261, 0.25032261, 0.25032261, 0.25032261,\n",
       "       0.25032261, 0.25032261, 0.25032261, 0.25032261, 0.25032261,\n",
       "       0.25032261, 0.25032261, 0.25032261, 0.25032261, 0.25032261,\n",
       "       0.25032261, 0.25032261, 0.25032261, 0.25032261, 0.25032261,\n",
       "       0.25032261, 0.25032261, 0.25032261, 0.25032261, 0.25032261,\n",
       "       0.25032261, 0.25032261, 0.25032261, 0.25032261, 0.25032261,\n",
       "       0.25032261, 0.25032261, 0.25032261, 0.25032261, 0.25032261,\n",
       "       0.25032261, 0.25032261, 0.25032261, 0.25032261, 0.25032261,\n",
       "       0.25032261, 0.25032261, 0.25032261, 0.25032261, 0.25032261,\n",
       "       0.25032261, 0.25032261, 0.25032261, 0.25032261, 0.25032261,\n",
       "       0.25032261, 0.25032261, 0.25032261, 0.25032261, 0.25032261,\n",
       "       0.        , 0.        , 0.        , 0.        , 0.        ,\n",
       "       0.        , 0.        , 0.        , 0.        , 0.        ,\n",
       "       0.        , 0.        , 0.        , 0.        , 0.        ,\n",
       "       0.        , 0.        , 0.        , 0.        , 0.        ,\n",
       "       0.        , 0.        , 0.        , 0.        , 0.        ,\n",
       "       0.        , 0.        , 0.        , 0.        , 0.        ,\n",
       "       0.        , 0.        , 0.        , 0.        , 0.        ,\n",
       "       0.        , 0.        , 0.        , 0.        , 0.        ,\n",
       "       0.        , 0.        , 0.        , 0.        , 0.        ,\n",
       "       0.        , 0.        , 0.        , 0.        , 0.        ,\n",
       "       0.        , 0.        , 0.        , 0.        , 0.        ,\n",
       "       0.        , 0.        , 0.        , 0.        , 0.        ,\n",
       "       0.        , 0.        , 0.        , 0.        , 0.        ,\n",
       "       0.        , 0.        , 0.        , 0.        , 0.        ,\n",
       "       0.        , 0.        , 0.        , 0.        , 0.        ,\n",
       "       0.        , 0.        , 0.        , 0.        , 0.        ,\n",
       "       0.        , 0.        , 0.        , 0.        , 0.        ,\n",
       "       0.        , 0.        , 0.        , 0.        , 0.        ,\n",
       "       0.        , 0.        , 0.        , 0.        , 0.        ,\n",
       "       0.        , 0.        , 0.        , 0.        , 0.        ,\n",
       "       0.        , 0.        , 0.        , 0.        , 0.        ,\n",
       "       0.        , 0.        , 0.        , 0.        , 0.        ,\n",
       "       0.        , 0.        , 0.        , 0.        , 0.        ,\n",
       "       0.        , 0.        , 0.        , 0.        , 0.        ,\n",
       "       0.        , 0.        , 0.        , 0.        , 0.        ,\n",
       "       0.        , 0.        , 0.        , 0.        , 0.        ,\n",
       "       0.        , 0.        , 0.        , 0.        , 0.        ,\n",
       "       0.        , 0.        , 0.        , 0.        , 0.        ,\n",
       "       0.        , 0.        , 0.        , 0.        , 0.        ,\n",
       "       0.        , 0.        , 0.        , 0.        , 0.        ,\n",
       "       0.        , 0.        , 0.        , 0.        , 0.        ,\n",
       "       0.        , 0.        , 0.        , 0.        , 0.        ,\n",
       "       0.        , 0.        , 0.        , 0.        , 0.        ,\n",
       "       0.        , 0.        , 0.        , 0.        , 0.        ,\n",
       "       0.        , 0.        , 0.        , 0.        , 0.        ,\n",
       "       0.        , 0.        , 0.        , 0.        , 0.        ,\n",
       "       0.        , 0.        , 0.        , 0.        , 0.        ,\n",
       "       0.        , 0.        , 0.        , 0.        , 0.        ,\n",
       "       0.        , 0.        , 0.        , 0.        , 0.        ,\n",
       "       0.        , 0.        , 0.        , 0.        , 0.        ,\n",
       "       0.        , 0.        , 0.        , 0.        , 0.        ,\n",
       "       0.        , 0.        , 0.        , 0.        , 0.        ,\n",
       "       0.        , 0.        , 0.        , 0.        , 0.        ,\n",
       "       0.        , 0.        , 0.        , 0.        , 0.        ,\n",
       "       0.        , 0.        , 0.        , 0.        , 0.        ,\n",
       "       0.        , 0.        , 0.        , 0.        , 0.        ,\n",
       "       0.        , 0.        , 0.        , 0.        , 0.        ,\n",
       "       0.        , 0.        , 0.        , 0.        , 0.        ,\n",
       "       0.        , 0.        , 0.        , 0.        , 0.        ,\n",
       "       0.        , 0.        , 0.        , 0.        , 0.        ,\n",
       "       0.        , 0.        , 0.        , 0.        , 0.        ,\n",
       "       0.        , 0.        , 0.        , 0.        , 0.        ,\n",
       "       0.        , 0.        , 0.        , 0.        , 0.        ,\n",
       "       0.        , 0.        , 0.        , 0.        , 0.        ,\n",
       "       0.        , 0.        , 0.        , 0.        , 0.        ,\n",
       "       0.        , 0.        , 0.        , 0.        , 0.        ,\n",
       "       0.        , 0.        , 0.        , 0.        , 0.        ,\n",
       "       0.        , 0.        , 0.        , 0.        , 0.        ,\n",
       "       0.        , 0.        , 0.        , 0.        , 0.        ,\n",
       "       0.        , 0.        , 0.        , 0.        , 0.        ,\n",
       "       0.        , 0.        , 0.        , 0.        , 0.        ,\n",
       "       0.        , 0.        , 0.        , 0.        , 0.        ,\n",
       "       0.        , 0.        , 0.        , 0.        , 0.        ,\n",
       "       0.        , 0.        , 0.        , 0.        , 0.        ,\n",
       "       0.        , 0.        , 0.        , 0.        , 0.        ,\n",
       "       0.        , 0.        , 0.        , 0.        , 0.        ,\n",
       "       0.        , 0.        , 0.        , 0.        , 0.        ,\n",
       "       0.        , 0.        , 0.        , 0.        , 0.        ,\n",
       "       0.        , 0.        , 0.        , 0.        , 0.        ,\n",
       "       0.        , 0.        , 0.        , 0.        , 0.        ,\n",
       "       0.        , 0.        , 0.        , 0.        , 0.        ,\n",
       "       0.        , 0.        , 0.        , 0.        , 0.        ,\n",
       "       0.        , 0.        , 0.        , 0.        , 0.        ,\n",
       "       0.        , 0.        , 0.        , 0.        , 0.        ,\n",
       "       0.        , 0.        , 0.        , 0.        , 0.        ,\n",
       "       0.        , 0.        , 0.        , 0.        , 0.        ,\n",
       "       0.        , 0.        , 0.        , 0.        , 0.        ,\n",
       "       0.        , 0.        , 0.        , 0.        , 0.        ,\n",
       "       0.        , 0.        , 0.        , 0.        , 0.        ,\n",
       "       0.        , 0.        , 0.        , 0.        , 0.        ,\n",
       "       0.        , 0.        , 0.        , 0.        , 0.        ,\n",
       "       0.        , 0.        , 0.        , 0.        , 0.        ,\n",
       "       0.        , 0.        , 0.        , 0.        , 0.        ,\n",
       "       0.        , 0.        , 0.        , 0.        , 0.        ,\n",
       "       0.        , 0.        , 0.        , 0.        , 0.        ,\n",
       "       0.        , 0.        , 0.        , 0.        , 0.        ,\n",
       "       0.        , 0.        , 0.        , 0.        , 0.        ,\n",
       "       0.        , 0.        , 0.        , 0.        , 0.        ,\n",
       "       0.        , 0.        , 0.        , 0.        , 0.        ,\n",
       "       0.        , 0.        , 0.        , 0.        , 0.        ,\n",
       "       0.        , 0.        , 0.        , 0.        , 0.        ,\n",
       "       0.        , 0.        , 0.        , 0.        , 0.        ,\n",
       "       0.        , 0.        , 0.        , 0.        , 0.        ,\n",
       "       0.        , 0.        , 0.        , 0.        , 0.        ,\n",
       "       0.        , 0.        , 0.        , 0.        , 0.        ,\n",
       "       0.        , 0.        , 0.        , 0.        , 0.        ,\n",
       "       0.        , 0.        , 0.        , 0.        , 0.        ,\n",
       "       0.        , 0.        , 0.        , 0.        , 0.        ,\n",
       "       0.        , 0.        , 0.        , 0.        , 0.        ,\n",
       "       0.        , 0.        , 0.        , 0.        , 0.        ,\n",
       "       0.        , 0.        , 0.        , 0.        , 0.        ,\n",
       "       0.        , 0.        , 0.        , 0.        , 0.        ,\n",
       "       0.        , 0.        , 0.        , 0.        , 0.        ,\n",
       "       0.        , 0.        , 0.        , 0.        , 0.        ,\n",
       "       0.        , 0.        , 0.        , 0.        , 0.        ,\n",
       "       0.        , 0.        , 0.        , 0.        , 0.        ,\n",
       "       0.        , 0.        , 0.        , 0.        , 0.        ,\n",
       "       0.        , 0.        , 0.        , 0.        , 0.        ,\n",
       "       0.        , 0.        , 0.        , 0.        , 0.        ,\n",
       "       0.        , 0.        , 0.        , 0.        , 0.        ,\n",
       "       0.        , 0.        , 0.        , 0.        , 0.        ,\n",
       "       0.        , 0.        , 0.        , 0.        , 0.        ,\n",
       "       0.        , 0.        , 0.        , 0.        , 0.        ,\n",
       "       0.        , 0.        , 0.        , 0.        , 0.        ,\n",
       "       0.        , 0.        , 0.        , 0.        , 0.        ,\n",
       "       0.        , 0.        , 0.        , 0.        , 0.        ,\n",
       "       0.        , 0.        , 0.        , 0.        , 0.        ,\n",
       "       0.        , 0.        , 0.        , 0.        , 0.        ,\n",
       "       0.        , 0.        , 0.        , 0.        , 0.        ,\n",
       "       0.        , 0.        , 0.        , 0.        , 0.        ,\n",
       "       0.        , 0.        , 0.        , 0.        , 0.        ,\n",
       "       0.        , 0.        , 0.        , 0.        , 0.        ,\n",
       "       0.        , 0.        , 0.        , 0.        , 0.        ,\n",
       "       0.        , 0.        , 0.        , 0.        , 0.        ,\n",
       "       0.        , 0.        , 0.        , 0.        , 0.        ,\n",
       "       0.        , 0.        , 0.        , 0.        , 0.        ,\n",
       "       0.        , 0.        , 0.        , 0.        , 0.        ,\n",
       "       0.        , 0.        , 0.        , 0.        , 0.        ,\n",
       "       0.        , 0.        , 0.        , 0.        , 0.        ,\n",
       "       0.        , 0.        , 0.        , 0.        , 0.        ,\n",
       "       0.        , 0.        , 0.        , 0.        , 0.        ,\n",
       "       0.        , 0.        , 0.        , 0.        , 0.        ,\n",
       "       0.        , 0.        , 0.        , 0.        , 0.        ,\n",
       "       0.        , 0.        , 0.        , 0.        , 0.        ,\n",
       "       0.        , 0.        , 0.        , 0.        , 0.        ,\n",
       "       0.        , 0.        , 0.        , 0.        , 0.        ,\n",
       "       0.        , 0.        , 0.        , 0.        , 0.        ,\n",
       "       0.        , 0.        , 0.        , 0.        , 0.        ,\n",
       "       0.        , 0.        , 0.        , 0.        , 0.        ,\n",
       "       0.        , 0.        , 0.        , 0.        , 0.        ,\n",
       "       0.        , 0.        , 0.        , 0.        , 0.        ,\n",
       "       0.        , 0.        , 0.        , 0.        , 0.        ,\n",
       "       0.        , 0.        , 0.        , 0.        , 0.        ,\n",
       "       0.        , 0.        , 0.        , 0.        , 0.        ,\n",
       "       0.        , 0.        , 0.        , 0.        , 0.        ,\n",
       "       0.        , 0.        , 0.        , 0.        , 0.        ,\n",
       "       0.        ])"
      ]
     },
     "execution_count": 133,
     "metadata": {},
     "output_type": "execute_result"
    }
   ],
   "source": [
    "start"
   ]
  },
  {
   "cell_type": "code",
   "execution_count": 122,
   "id": "952a5669",
   "metadata": {
    "ExecuteTime": {
     "end_time": "2023-02-08T09:23:19.472049Z",
     "start_time": "2023-02-08T09:23:19.460568Z"
    }
   },
   "outputs": [
    {
     "data": {
      "text/plain": [
       "array([0., 0., 0., 0., 0., 0., 0., 0., 0., 0., 0., 0., 0., 0., 0., 0., 0.,\n",
       "       0., 0., 0., 0., 0., 0., 0., 0., 0., 0., 0., 0., 0., 0., 0., 0., 0.,\n",
       "       0., 0., 0., 0., 0., 0., 0., 0., 0., 0., 0., 0., 0., 0., 0., 0., 0.,\n",
       "       0., 0., 0., 0., 0., 0., 0., 0., 0., 0., 0., 0., 0., 0., 0., 0., 0.,\n",
       "       0., 0., 0., 0., 0., 0., 0., 0., 0., 0., 0., 0., 0., 0., 0., 0., 0.,\n",
       "       0., 0., 0., 0., 0., 0., 0., 0., 0., 0., 0., 0., 0., 0., 0., 0., 0.,\n",
       "       0., 0., 0., 0., 0., 0., 0., 0., 0., 0., 0., 0., 0., 0., 0., 0., 0.,\n",
       "       0., 0., 0., 0., 0., 0., 0., 0., 0., 0., 0., 0., 0., 0., 0., 0., 0.,\n",
       "       0., 0., 0., 0., 0., 0., 0., 0., 0., 0., 0., 0., 0., 0., 0., 0., 0.,\n",
       "       0., 0., 0., 0., 0., 0., 0., 0., 0., 0., 0., 0., 0., 0., 0., 0., 0.,\n",
       "       0., 0., 0., 0., 0., 0., 0., 0., 0., 0., 0., 0., 0., 0., 0., 0., 0.,\n",
       "       0., 0., 0., 0., 0., 0., 0., 0., 0., 0., 0., 0., 0., 0., 0., 0., 0.,\n",
       "       0., 0., 0., 0., 0., 0., 0., 0., 0., 0., 0., 0., 0., 0., 0., 0., 0.,\n",
       "       0., 0., 0., 0., 0., 0., 0., 0., 0., 0., 0., 0., 0., 0., 0., 0., 0.,\n",
       "       0., 0., 0., 0., 0., 0., 0., 0., 0., 0., 0., 0., 0., 0., 0., 0., 0.,\n",
       "       0., 0., 0., 0., 0., 0., 0., 0., 0., 0., 0., 0., 0., 0., 0., 0., 0.,\n",
       "       0., 0., 0., 0., 0., 0., 0., 0., 0., 0., 0., 0., 0., 0., 0., 0., 0.,\n",
       "       0., 0., 0., 0., 0., 0., 0., 0., 0., 0., 0., 0., 0., 0., 0., 0., 0.,\n",
       "       0., 0., 0., 0., 0., 0., 0., 0., 0., 0., 0., 0., 0., 0., 0., 0., 0.,\n",
       "       0., 0., 0., 0., 0., 0., 0., 0., 0., 0., 0., 0., 0., 0., 0., 0., 0.,\n",
       "       0., 0., 0., 0., 0., 0., 0., 0., 0., 0., 0., 0., 0., 0., 0., 0., 0.,\n",
       "       0., 0., 0., 0., 0., 0., 0., 0., 0., 0., 0., 0., 0., 0., 0., 0., 0.,\n",
       "       0., 0., 0., 0., 0., 0., 0., 0., 0., 0., 0., 0., 0., 0., 0., 0., 0.,\n",
       "       0., 0., 0., 0., 0., 0., 0., 0., 0., 0., 0., 0., 0., 0., 0., 0., 0.,\n",
       "       0., 0., 0., 0., 0., 0., 0., 0., 0., 0., 0., 0., 0., 0., 0., 0., 0.,\n",
       "       0., 0., 0., 0., 0., 0., 0., 0., 0., 0., 0., 0., 0., 0., 0., 0., 0.,\n",
       "       0., 0., 0., 0., 0., 0., 0., 0., 0., 0., 0., 0., 0., 0., 0., 0., 0.,\n",
       "       0., 0., 0., 0., 0., 0., 0., 0., 0., 0., 0., 0., 0., 0., 0., 0., 0.,\n",
       "       0., 0., 0., 0., 0., 0., 0., 0., 0., 0., 0., 0., 0., 0., 0., 0., 0.,\n",
       "       0., 0., 0., 0., 0., 0., 0., 0., 0., 0., 0., 0., 0., 0., 0., 0., 0.,\n",
       "       0., 0., 0., 0., 0., 0., 0., 0., 0., 0., 0., 0., 0., 0., 0., 0., 0.,\n",
       "       0., 0., 0., 0., 0., 0., 0., 0., 0., 0., 0., 0., 0., 0., 0., 0., 0.,\n",
       "       0., 0., 0., 0., 0., 0., 0., 0., 0., 0., 0., 0., 0., 0., 0., 0., 0.,\n",
       "       0., 0., 0., 0., 0., 0., 0., 0., 0., 0., 0., 0., 0., 0., 0., 0., 0.,\n",
       "       0., 0., 0., 0., 0., 0., 0., 0., 0., 0., 0., 0., 0., 0., 0., 0., 0.,\n",
       "       0., 0., 0., 0., 0., 0., 0., 0., 0., 0., 0., 0., 0., 0., 0., 0., 0.,\n",
       "       0., 0., 0., 0., 0., 0., 0., 0., 0., 0., 0., 0., 0., 0., 0., 0., 0.,\n",
       "       0., 0., 0., 0., 0., 0., 0., 0., 0., 0., 0., 0., 0., 0., 0., 0., 0.,\n",
       "       0., 0., 0., 0., 0., 0., 0., 0., 0., 0., 0., 0., 0., 0., 0., 0., 0.,\n",
       "       0., 0., 0., 0., 0., 0., 0., 0., 0., 0., 0., 0., 0., 0., 0., 0., 0.,\n",
       "       0., 0., 0., 0., 0., 0., 0., 0., 0., 0., 0., 0., 0., 0., 0., 0., 0.,\n",
       "       0., 0., 0., 0., 0., 0., 0., 0., 0., 0., 0., 0., 0., 0., 0., 0., 0.,\n",
       "       0., 0., 0., 0., 0., 0., 0., 0., 0., 0., 0., 0., 0., 0., 0., 0., 0.,\n",
       "       0., 0., 0., 0., 0., 0., 0., 0., 0., 0., 0., 0., 0., 0., 0., 0., 0.,\n",
       "       0., 0., 0., 0., 0., 0., 0., 0., 0., 0., 0., 0., 0., 0., 0., 0., 0.,\n",
       "       0., 0., 0., 0., 0., 0., 0., 0., 0., 0., 0., 0., 0., 0., 0., 0., 0.,\n",
       "       0., 0., 0., 0., 0., 0., 0., 0., 0., 0., 0., 0., 0., 0., 0., 0., 0.,\n",
       "       0., 0., 0., 0., 0., 0., 0., 0., 0., 0., 0., 0., 0., 0., 0., 0., 0.,\n",
       "       0., 0., 0., 0., 0., 0., 0., 0., 0., 0., 0., 0., 0., 0., 0.])"
      ]
     },
     "execution_count": 122,
     "metadata": {},
     "output_type": "execute_result"
    }
   ],
   "source": [
    "rmin_a['x']"
   ]
  },
  {
   "cell_type": "code",
   "execution_count": 1,
   "id": "a04443df",
   "metadata": {
    "ExecuteTime": {
     "end_time": "2023-02-09T12:32:03.561486Z",
     "start_time": "2023-02-09T12:32:02.903087Z"
    }
   },
   "outputs": [
    {
     "ename": "NameError",
     "evalue": "name 'best_alignment' is not defined",
     "output_type": "error",
     "traceback": [
      "\u001b[0;31m---------------------------------------------------------------------------\u001b[0m",
      "\u001b[0;31mNameError\u001b[0m                                 Traceback (most recent call last)",
      "Input \u001b[0;32mIn [1]\u001b[0m, in \u001b[0;36m<cell line: 1>\u001b[0;34m()\u001b[0m\n\u001b[0;32m----> 1\u001b[0m \u001b[43mbest_alignment\u001b[49m\n",
      "\u001b[0;31mNameError\u001b[0m: name 'best_alignment' is not defined"
     ]
    }
   ],
   "source": [
    "best_alignment"
   ]
  },
  {
   "cell_type": "markdown",
   "id": "b3617481",
   "metadata": {},
   "source": [
    "## Structure-type Brute-shifts"
   ]
  },
  {
   "cell_type": "code",
   "execution_count": 81,
   "id": "c2ca519e",
   "metadata": {
    "ExecuteTime": {
     "end_time": "2023-02-09T13:06:08.645995Z",
     "start_time": "2023-02-09T13:06:08.635129Z"
    }
   },
   "outputs": [
    {
     "data": {
      "text/plain": [
       "tensor([[ -89,  112],\n",
       "        [-141,  144],\n",
       "        [-109,  130],\n",
       "        [-141,  144],\n",
       "        [-115,  123],\n",
       "        [-150,  147],\n",
       "        [-151,  148],\n",
       "        [ -77,   36],\n",
       "        [-117,  107],\n",
       "        [-131,  129],\n",
       "        [ -97,   81],\n",
       "        [ -86,   82],\n",
       "        [ -80,  108],\n",
       "        [ -74,  106],\n",
       "        [ -99,  117],\n",
       "        [ -38,   95],\n",
       "        [-110,  130],\n",
       "        [ -89,  112],\n",
       "        [-150,  148],\n",
       "        [ -45,   97],\n",
       "        [-110,  130],\n",
       "        [-110,  129],\n",
       "        [-106,  119],\n",
       "        [-106,   96],\n",
       "        [-117,  137],\n",
       "        [-108,  129],\n",
       "        [ -58,  101],\n",
       "        [-150,  147],\n",
       "        [ -92,  114],\n",
       "        [ -65,  118],\n",
       "        [ -95,   85],\n",
       "        [-102,   95],\n",
       "        [-115,  123],\n",
       "        [-150,  148],\n",
       "        [ -55,   57],\n",
       "        [-131,  130],\n",
       "        [ -93,  116],\n",
       "        [-104,   92],\n",
       "        [-101,   91],\n",
       "        [ -69,  104],\n",
       "        [ -99,  116],\n",
       "        [-150,  147],\n",
       "        [-151,  148],\n",
       "        [-108,  130],\n",
       "        [ -84,   76],\n",
       "        [ -87,   81],\n",
       "        [-150,  147],\n",
       "        [-106,  100],\n",
       "        [ -56,   49],\n",
       "        [ -74,  106],\n",
       "        [-124,  127],\n",
       "        [-145,  149],\n",
       "        [ -89,  110],\n",
       "        [ -80,  108],\n",
       "        [-111,  130],\n",
       "        [ -54,  100],\n",
       "        [ -92,  114],\n",
       "        [-129,  129],\n",
       "        [-115,  102],\n",
       "        [-120,  125],\n",
       "        [ -20,   47],\n",
       "        [-124,  127],\n",
       "        [-105,   86],\n",
       "        [-103,  118],\n",
       "        [ -41,   96],\n",
       "        [-103,  118],\n",
       "        [-110,  137],\n",
       "        [ -74,  106],\n",
       "        [-110,  130],\n",
       "        [-107,  129],\n",
       "        [-150,  148],\n",
       "        [-151,  147],\n",
       "        [ -85,   45],\n",
       "        [-111,  130],\n",
       "        [-151,  148],\n",
       "        [ -51,   33],\n",
       "        [-124,  135],\n",
       "        [-130,  115],\n",
       "        [-111,  129],\n",
       "        [-110,  121],\n",
       "        [ -91,  112],\n",
       "        [ -60,   30],\n",
       "        [-106,  119],\n",
       "        [ -81,  108],\n",
       "        [-151,  147],\n",
       "        [ -46,   60],\n",
       "        [ -90,  116],\n",
       "        [-103,  118],\n",
       "        [ -81,  108],\n",
       "        [-115,  123],\n",
       "        [-110,  121],\n",
       "        [-110,  129],\n",
       "        [-124,  127],\n",
       "        [ -92,  114],\n",
       "        [-141,  145],\n",
       "        [-128,  136],\n",
       "        [ -90,  117],\n",
       "        [ -86,   83],\n",
       "        [-150,  148],\n",
       "        [   0,   28],\n",
       "        [ -69,  104],\n",
       "        [-111,  121],\n",
       "        [ -68,  104],\n",
       "        [ -68,  104],\n",
       "        [-112,  130],\n",
       "        [ -80,  107],\n",
       "        [-111,  130],\n",
       "        [-105,  137],\n",
       "        [-151,  147],\n",
       "        [ -45,   97],\n",
       "        [-141,  145],\n",
       "        [-119,  108],\n",
       "        [-145,  149],\n",
       "        [-141,  145],\n",
       "        [-111,  130],\n",
       "        [ -99,  116],\n",
       "        [-103,  118],\n",
       "        [ -38,   95],\n",
       "        [-118,  101],\n",
       "        [ -91,   86],\n",
       "        [-120,  125],\n",
       "        [-145,  149],\n",
       "        [ -98,   74],\n",
       "        [-150,  147],\n",
       "        [ -74,  106],\n",
       "        [-145,  149],\n",
       "        [-131,  129],\n",
       "        [ -70,  121],\n",
       "        [ -75,   57],\n",
       "        [-145,  148],\n",
       "        [ -46,   97],\n",
       "        [ -87,   85],\n",
       "        [ -74,  106],\n",
       "        [ -54,  100],\n",
       "        [-109,  130],\n",
       "        [-116,  136],\n",
       "        [ -68,  104],\n",
       "        [-115,  137],\n",
       "        [-103,   92],\n",
       "        [ -80,  108],\n",
       "        [-106,  119],\n",
       "        [-115,  123],\n",
       "        [-115,  123],\n",
       "        [-103,  118],\n",
       "        [-110,  121],\n",
       "        [-151,  147],\n",
       "        [ -61,  118],\n",
       "        [-136,  140],\n",
       "        [ -30,   46],\n",
       "        [ -41,   96],\n",
       "        [-151,  147],\n",
       "        [ -74,  107],\n",
       "        [-145,  149],\n",
       "        [-149,  148],\n",
       "        [-120,  125],\n",
       "        [ -54,  100],\n",
       "        [ -39,   94],\n",
       "        [-150,  148],\n",
       "        [-124,  127],\n",
       "        [ -86,  109],\n",
       "        [ -97,   86],\n",
       "        [-105,  133],\n",
       "        [-103,  118],\n",
       "        [-103,  117],\n",
       "        [ -96,  115],\n",
       "        [-120,  125],\n",
       "        [ -71,  121],\n",
       "        [ -50,   99],\n",
       "        [-145,  149],\n",
       "        [-115,  123],\n",
       "        [-141,  144],\n",
       "        [ -64,  103],\n",
       "        [ -84,   80],\n",
       "        [ -41,   96],\n",
       "        [-137,  140],\n",
       "        [-103,  118],\n",
       "        [ -79,   78],\n",
       "        [-109,  130],\n",
       "        [-141,  144],\n",
       "        [-151,  148],\n",
       "        [-151,  147],\n",
       "        [-110,  130],\n",
       "        [-107,  120],\n",
       "        [ -68,  104],\n",
       "        [-109,  130],\n",
       "        [ -58,  100],\n",
       "        [ -90,  114],\n",
       "        [-151,  147],\n",
       "        [-151,  147],\n",
       "        [ -55,  100],\n",
       "        [ -99,  116],\n",
       "        [-124,  142],\n",
       "        [-128,  144],\n",
       "        [-130,  129],\n",
       "        [-109,  130],\n",
       "        [ -94,   89],\n",
       "        [ -35,   29],\n",
       "        [ -91,  112],\n",
       "        [-132,  106],\n",
       "        [ -77,   48],\n",
       "        [-107,  120],\n",
       "        [ -49,   98],\n",
       "        [-150,  148],\n",
       "        [-108,  129],\n",
       "        [-106,  119],\n",
       "        [-145,  149],\n",
       "        [ -74,  107],\n",
       "        [ -54,  100],\n",
       "        [ -43,   34],\n",
       "        [-110,  121],\n",
       "        [ -63,  103],\n",
       "        [-150,  148],\n",
       "        [ -63,  102],\n",
       "        [-151,  147],\n",
       "        [-145,  148],\n",
       "        [ -50,   98],\n",
       "        [-124,  127],\n",
       "        [-115,  123],\n",
       "        [ -59,  100],\n",
       "        [ -38,   95],\n",
       "        [-107,  129],\n",
       "        [-150,  148],\n",
       "        [-109,  130],\n",
       "        [ -76,   78],\n",
       "        [ -74,  121],\n",
       "        [ -74,  106],\n",
       "        [ -94,   90],\n",
       "        [ -88,   79],\n",
       "        [-151,  148],\n",
       "        [-111,  129],\n",
       "        [-123,  107],\n",
       "        [ -68,  104],\n",
       "        [ -80,  108],\n",
       "        [-150,  147],\n",
       "        [ -54,   99],\n",
       "        [-132,  129],\n",
       "        [-141,  144],\n",
       "        [-107,  133],\n",
       "        [-107,  120],\n",
       "        [ -65,   63],\n",
       "        [ -93,   91],\n",
       "        [-141,  145],\n",
       "        [ -80,  108],\n",
       "        [-106,  119],\n",
       "        [-125,  127],\n",
       "        [ -99,  116],\n",
       "        [-109,  129],\n",
       "        [-110,  129],\n",
       "        [-137,  140],\n",
       "        [-107,  130],\n",
       "        [ -27,   23],\n",
       "        [-151,  147],\n",
       "        [-108,  102],\n",
       "        [-145,  149],\n",
       "        [ -64,  103],\n",
       "        [-126,  142],\n",
       "        [ -38,   95],\n",
       "        [-133,  112],\n",
       "        [-124,  127],\n",
       "        [  -2,   31],\n",
       "        [-151,  147],\n",
       "        [-150,  148],\n",
       "        [-151,  147],\n",
       "        [-151,  148],\n",
       "        [-150,  148],\n",
       "        [-103,  118],\n",
       "        [-148,  147],\n",
       "        [ -34,   50],\n",
       "        [-151,  147],\n",
       "        [ -39,   54],\n",
       "        [ -58,  101],\n",
       "        [-149,  147],\n",
       "        [-111,  130],\n",
       "        [ -87,  110],\n",
       "        [ -99,   91],\n",
       "        [-111,  130],\n",
       "        [ -58,   55],\n",
       "        [-103,  118],\n",
       "        [-130,  129],\n",
       "        [-151,  147]])"
      ]
     },
     "execution_count": 81,
     "metadata": {},
     "output_type": "execute_result"
    }
   ],
   "source": [
    "bounds[324:604]"
   ]
  },
  {
   "cell_type": "code",
   "execution_count": 32,
   "id": "5e12579f",
   "metadata": {
    "ExecuteTime": {
     "end_time": "2023-02-09T12:49:46.816999Z",
     "start_time": "2023-02-09T12:49:46.811231Z"
    }
   },
   "outputs": [],
   "source": [
    "%matplotlib inline"
   ]
  },
  {
   "cell_type": "code",
   "execution_count": null,
   "id": "50e0fa89",
   "metadata": {},
   "outputs": [],
   "source": [
    "def t_get_BF_shift_index_mse(prediction, true, shift_range, xdos = None, perc = False):\n",
    "    \n",
    "    if xdos is not None:\n",
    "        if len(prediction.shape) > 1:\n",
    "            mse = torch.zeros(true.shape[0])\n",
    "            index = torch.zeros(true.shape[0])\n",
    "            for i, pred in enumerate((prediction)):\n",
    "                shifted_preds = consistency.shifted_ldos(pred.repeat(shift_range.shape[0],1), xdos, shift_range)\n",
    "                mse[i], index[i] = torch.min(loss.t_get_each_mse(shifted_preds, true[i].repeat(shift_range.shape[0],1)),0)\n",
    "            mse = torch.mean(mse, 0)\n",
    "\n",
    "                   \n",
    "        else: \n",
    "            mse = torch.zeros(1)\n",
    "            index = torch.zeros(1)\n",
    "            shifted_preds = consistency.shifted_ldos(prediction.repeat(shift_range.shape[0],1), xdos, shift_range)\n",
    "            error_range = loss.t_get_each_mse(shifted_preds, true.repeat(shift_range.shape[0],1))\n",
    "            mse, index = torch.min(error_range,0)\n",
    "            \n",
    "        return mse,index \n",
    "    \n",
    "    else:\n",
    "        raise ValueError(\"xdos not defined\")"
   ]
  },
  {
   "cell_type": "code",
   "execution_count": null,
   "id": "fc4df0a1",
   "metadata": {},
   "outputs": [],
   "source": []
  },
  {
   "cell_type": "code",
   "execution_count": 82,
   "id": "57b97464",
   "metadata": {
    "ExecuteTime": {
     "end_time": "2023-02-09T13:07:15.674697Z",
     "start_time": "2023-02-09T13:06:50.540025Z"
    }
   },
   "outputs": [
    {
     "name": "stderr",
     "output_type": "stream",
     "text": [
      "100%|████████████████████████████████████████████████████████████████████████████████████████████████████████████████████████████████████████████████████████████████████| 300/300 [00:25<00:00, 11.96it/s]\n"
     ]
    }
   ],
   "source": [
    "from dostools.consistency import consistency\n",
    "from sklearn.linear_model import Ridge\n",
    "import dostools.src.loss.loss as loss\n",
    "import dostools.consistency.consistency as consistency\n",
    "importlib.reload(consistency)\n",
    "importlib.reload(loss)\n",
    "xdos_step = xdos[1]-xdos[0]\n",
    "train_rmse_list = []\n",
    "total_rmse_list = []\n",
    "variance_list = []\n",
    "sumvar_list = []\n",
    "shift_list = []\n",
    "ldos2 = copy.deepcopy(ldos)\n",
    "for i in tqdm(range(-150, 150 , 1)):\n",
    "    \n",
    "\n",
    "    with torch.no_grad():\n",
    "\n",
    "        selected_index = torch.hstack([torch.arange(0,160), torch.arange(324,464)])\n",
    "        ldos2[324:604] = consistency.shifted_ldos(ldos2[324:604], xdos, torch.zeros(len(ldos2[324:604])) + (i*xdos_step.item()))\n",
    "        \n",
    "        diamond_y = ldos2[0:160]\n",
    "        betatin_y = ldos2[324:464]\n",
    "        \n",
    "        y = torch.vstack([diamond_y, betatin_y]) #only diamond and beta tin\n",
    "        x = Silicon.Features['structure_avekerneldescriptors'][selected_index]\n",
    "\n",
    "        model = Ridge(alpha = 0, fit_intercept = True, solver = 'svd')\n",
    "        model.fit(x,y)\n",
    "        train_preds = model.predict(x)\n",
    "        train_rmse = loss.t_get_mse(torch.tensor(train_preds), y, xdos)\n",
    "        total_preds = model.predict(Silicon.Features['structure_avekerneldescriptors'][:604])\n",
    "        total_rmse = loss.t_get_mse(torch.tensor(total_preds), ldos2[:604], xdos)\n",
    "        variance = torch.var(ldos2[:604], dim = 0, unbiased = False)\n",
    "        sumvar = torch.sum(variance)\n",
    "        sumvar_list.append(sumvar)\n",
    "        variance_list.append(variance)\n",
    "        train_rmse_list.append(train_rmse)\n",
    "        total_rmse_list.append(total_rmse)\n",
    "        shift_list.append(i)\n"
   ]
  },
  {
   "cell_type": "code",
   "execution_count": 83,
   "id": "c6dbdd2d",
   "metadata": {
    "ExecuteTime": {
     "end_time": "2023-02-09T13:07:16.754680Z",
     "start_time": "2023-02-09T13:07:16.746645Z"
    }
   },
   "outputs": [
    {
     "data": {
      "text/plain": [
       "tensor(24.8029)"
      ]
     },
     "execution_count": 83,
     "metadata": {},
     "output_type": "execute_result"
    }
   ],
   "source": [
    "torch.sum(variance)"
   ]
  },
  {
   "cell_type": "code",
   "execution_count": null,
   "id": "2ef39edd",
   "metadata": {},
   "outputs": [],
   "source": []
  },
  {
   "cell_type": "code",
   "execution_count": 48,
   "id": "2e7c4794",
   "metadata": {
    "ExecuteTime": {
     "end_time": "2023-02-09T12:54:30.539848Z",
     "start_time": "2023-02-09T12:54:20.742687Z"
    }
   },
   "outputs": [
    {
     "data": {
      "image/png": "[encoded data removed]",
      "text/plain": [
       "<Figure size 432x288 with 1 Axes>"
      ]
     },
     "metadata": {
      "needs_background": "light"
     },
     "output_type": "display_data"
    }
   ],
   "source": [
    "ldos2 = copy.deepcopy(ldos)\n",
    "ldos2[324:604] = consistency.shifted_ldos(ldos2[324:604], xdos, torch.zeros(len(ldos2[324:604])) + (-47*xdos_step.item()))\n",
    "for i in range(624):\n",
    "    plt.plot(xdos, ldos[i])\n",
    "    plt.plot(xdos, ldos2[i])"
   ]
  },
  {
   "cell_type": "code",
   "execution_count": 41,
   "id": "7d52b6be",
   "metadata": {
    "ExecuteTime": {
     "end_time": "2023-02-09T12:52:39.421599Z",
     "start_time": "2023-02-09T12:52:39.417235Z"
    }
   },
   "outputs": [
    {
     "data": {
      "text/plain": [
       "100"
      ]
     },
     "execution_count": 41,
     "metadata": {},
     "output_type": "execute_result"
    }
   ],
   "source": [
    "len(total_rmse_list)"
   ]
  },
  {
   "cell_type": "code",
   "execution_count": 84,
   "id": "887da132",
   "metadata": {
    "ExecuteTime": {
     "end_time": "2023-02-09T13:07:21.928102Z",
     "start_time": "2023-02-09T13:07:21.920499Z"
    }
   },
   "outputs": [
    {
     "data": {
      "text/plain": [
       "tensor(5)"
      ]
     },
     "execution_count": 84,
     "metadata": {},
     "output_type": "execute_result"
    }
   ],
   "source": [
    "torch.argmin(torch.tensor(train_rmse_list))"
   ]
  },
  {
   "cell_type": "code",
   "execution_count": 73,
   "id": "a2708cd9",
   "metadata": {
    "ExecuteTime": {
     "end_time": "2023-02-09T13:05:18.129512Z",
     "start_time": "2023-02-09T13:05:18.125050Z"
    }
   },
   "outputs": [
    {
     "data": {
      "text/plain": [
       "-746"
      ]
     },
     "execution_count": 73,
     "metadata": {},
     "output_type": "execute_result"
    }
   ],
   "source": [
    "shift_list[torch.argmax(torch.tensor(rmse_list))]"
   ]
  },
  {
   "cell_type": "code",
   "execution_count": null,
   "id": "eef307ec",
   "metadata": {},
   "outputs": [],
   "source": [
    "tri"
   ]
  },
  {
   "cell_type": "code",
   "execution_count": 85,
   "id": "267f873d",
   "metadata": {
    "ExecuteTime": {
     "end_time": "2023-02-09T13:07:24.852033Z",
     "start_time": "2023-02-09T13:07:24.681158Z"
    }
   },
   "outputs": [
    {
     "data": {
      "text/plain": [
       "[<matplotlib.lines.Line2D at 0x7f977525b640>]"
      ]
     },
     "execution_count": 85,
     "metadata": {},
     "output_type": "execute_result"
    },
    {
     "data": {
      "image/png": "[encoded data removed]",
      "text/plain": [
       "<Figure size 432x288 with 1 Axes>"
      ]
     },
     "metadata": {
      "needs_background": "light"
     },
     "output_type": "display_data"
    }
   ],
   "source": [
    "plt.plot(shift_list, total_rmse_list, c= 'r')\n",
    "#plt.plot(shift_list, train_rmse_list, c= 'b')\n",
    "#plt.plot(shift_list, sumvar_list, c = 'g')\n"
   ]
  },
  {
   "cell_type": "code",
   "execution_count": 86,
   "id": "f442a006",
   "metadata": {
    "ExecuteTime": {
     "end_time": "2023-02-09T13:07:27.374116Z",
     "start_time": "2023-02-09T13:07:27.367676Z"
    }
   },
   "outputs": [
    {
     "data": {
      "text/plain": [
       "tensor(5)"
      ]
     },
     "execution_count": 86,
     "metadata": {},
     "output_type": "execute_result"
    }
   ],
   "source": [
    "torch.argmin(torch.tensor(total_rmse_list))"
   ]
  },
  {
   "cell_type": "code",
   "execution_count": 87,
   "id": "e22539d7",
   "metadata": {
    "ExecuteTime": {
     "end_time": "2023-02-09T13:07:28.371938Z",
     "start_time": "2023-02-09T13:07:28.172278Z"
    }
   },
   "outputs": [
    {
     "data": {
      "text/plain": [
       "[<matplotlib.lines.Line2D at 0x7f9775223070>]"
      ]
     },
     "execution_count": 87,
     "metadata": {},
     "output_type": "execute_result"
    },
    {
     "data": {
      "image/png": "[encoded data removed]",
      "text/plain": [
       "<Figure size 432x288 with 1 Axes>"
      ]
     },
     "metadata": {
      "needs_background": "light"
     },
     "output_type": "display_data"
    }
   ],
   "source": [
    "plt.plot(shift_list, train_rmse_list)"
   ]
  },
  {
   "cell_type": "code",
   "execution_count": 88,
   "id": "a4456a45",
   "metadata": {
    "ExecuteTime": {
     "end_time": "2023-02-09T13:07:35.842553Z",
     "start_time": "2023-02-09T13:07:35.835951Z"
    }
   },
   "outputs": [
    {
     "data": {
      "text/plain": [
       "tensor(5)"
      ]
     },
     "execution_count": 88,
     "metadata": {},
     "output_type": "execute_result"
    }
   ],
   "source": [
    "torch.argmin(torch.tensor(train_rmse_list))"
   ]
  },
  {
   "cell_type": "code",
   "execution_count": 90,
   "id": "486faf17",
   "metadata": {
    "ExecuteTime": {
     "end_time": "2023-02-09T13:07:49.489983Z",
     "start_time": "2023-02-09T13:07:49.483900Z"
    }
   },
   "outputs": [
    {
     "data": {
      "text/plain": [
       "tensor(0)"
      ]
     },
     "execution_count": 90,
     "metadata": {},
     "output_type": "execute_result"
    }
   ],
   "source": [
    "torch.argmin(torch.tensor(sumvar_list))"
   ]
  },
  {
   "cell_type": "code",
   "execution_count": 89,
   "id": "c6366b0b",
   "metadata": {
    "ExecuteTime": {
     "end_time": "2023-02-09T13:07:36.687750Z",
     "start_time": "2023-02-09T13:07:36.580938Z"
    }
   },
   "outputs": [
    {
     "data": {
      "text/plain": [
       "[<matplotlib.lines.Line2D at 0x7f9775178790>]"
      ]
     },
     "execution_count": 89,
     "metadata": {},
     "output_type": "execute_result"
    },
    {
     "data": {
      "image/png": "[encoded data removed]",
      "text/plain": [
       "<Figure size 432x288 with 1 Axes>"
      ]
     },
     "metadata": {
      "needs_background": "light"
     },
     "output_type": "display_data"
    }
   ],
   "source": [
    "plt.plot(shift_list, sumvar_list)"
   ]
  },
  {
   "cell_type": "code",
   "execution_count": 49,
   "id": "c576a0a3",
   "metadata": {
    "ExecuteTime": {
     "end_time": "2023-02-09T12:54:30.546116Z",
     "start_time": "2023-02-09T12:54:30.541628Z"
    }
   },
   "outputs": [
    {
     "data": {
      "text/plain": [
       "tensor(0)"
      ]
     },
     "execution_count": 49,
     "metadata": {},
     "output_type": "execute_result"
    }
   ],
   "source": [
    "torch.argmin(torch.tensor(total_rmse_list))"
   ]
  },
  {
   "cell_type": "code",
   "execution_count": 170,
   "id": "90705ad8",
   "metadata": {
    "ExecuteTime": {
     "end_time": "2023-02-08T13:13:27.902258Z",
     "start_time": "2023-02-08T13:13:27.895782Z"
    }
   },
   "outputs": [
    {
     "data": {
      "text/plain": [
       "tensor(0.5821)"
      ]
     },
     "execution_count": 170,
     "metadata": {},
     "output_type": "execute_result"
    }
   ],
   "source": [
    "rmse"
   ]
  },
  {
   "cell_type": "code",
   "execution_count": 145,
   "id": "017c5e78",
   "metadata": {
    "ExecuteTime": {
     "end_time": "2023-02-08T13:07:10.435805Z",
     "start_time": "2023-02-08T13:07:10.432789Z"
    }
   },
   "outputs": [],
   "source": [
    "model = Ridge(alpha = 0, fit_intercept = True)\n",
    "model.fit()"
   ]
  },
  {
   "cell_type": "code",
   "execution_count": null,
   "id": "a5603ceb",
   "metadata": {},
   "outputs": [],
   "source": [
    "model = Ridge(alpha = 0, fit_intercept = False, solver = 'svd')\n",
    "    model.fit(Silicon.Features['structure_avekerneldescriptors'][train_index,:], normalized_dos)\n",
    "    \n",
    "    preds = model.predict(Silicon.Features['structure_avekerneldescriptors'][train_index,:])\n",
    "    with torch.no_grad():\n",
    "        rmse = loss.t_get_rmse(torch.tensor(preds), normalized_dos, xdos)\n",
    "        \n",
    "    return rmse"
   ]
  }
 ],
 "metadata": {
  "kernelspec": {
   "display_name": "Python 3 (ipykernel)",
   "language": "python",
   "name": "python3"
  },
  "language_info": {
   "codemirror_mode": {
    "name": "ipython",
    "version": 3
   },
   "file_extension": ".py",
   "mimetype": "text/x-python",
   "name": "python",
   "nbconvert_exporter": "python",
   "pygments_lexer": "ipython3",
   "version": "3.9.12"
  },
  "toc": {
   "base_numbering": 1,
   "nav_menu": {},
   "number_sections": true,
   "sideBar": true,
   "skip_h1_title": false,
   "title_cell": "Table of Contents",
   "title_sidebar": "Contents",
   "toc_cell": false,
   "toc_position": {
    "height": "calc(100% - 180px)",
    "left": "10px",
    "top": "150px",
    "width": "165px"
   },
   "toc_section_display": true,
   "toc_window_display": true
  }
 },
 "nbformat": 4,
 "nbformat_minor": 5
}
