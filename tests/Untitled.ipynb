{
 "cells": [
  {
   "cell_type": "code",
   "execution_count": 7,
   "id": "2ef8c5c8",
   "metadata": {
    "ExecuteTime": {
     "end_time": "2023-04-05T17:24:19.467823Z",
     "start_time": "2023-04-05T17:23:59.536343Z"
    }
   },
   "outputs": [
    {
     "name": "stdout",
     "output_type": "stream",
     "text": [
      "This file contains the eigenenergies and their corresponding kpoints of the training Silicon structures generated using DFT PBE as implemented in FHI-AIMS version 171221_1 with the ``tight'' settings\n"
     ]
    }
   ],
   "source": [
    "import torch\n",
    "from scipy.interpolate import CubicHermiteSpline\n",
    "import dostools.datasets.data as data\n",
    "import numpy as np\n",
    "from tqdm import tqdm\n",
    "\n",
    "with torch.no_grad():\n",
    "    sigma = 0.3\n",
    "    structures = data.load_structures(\":\")\n",
    "    n_structures = len(structures) #total number of structures\n",
    "    for structure in structures:#implement periodicity\n",
    "        structure.wrap(eps = 1e-12) \n",
    "    n_atoms = np.zeros(n_structures, dtype = int) #stores number of atoms in each structures\n",
    "    for i in range(n_structures):\n",
    "        n_atoms[i] = len(structures[i])\n",
    "\n",
    "\n",
    "    eigen_energies, emin, emax = data.load_eigenenergies(unpack = True, n_structures = n_structures)\n",
    "    full_eigen_energies = [torch.tensor(i.flatten()) for i in eigen_energies]\n",
    "    eigenenergy_length = [len(i) for i in full_eigen_energies]\n",
    "    eigenenergy_length_t = torch.tensor(eigenenergy_length)\n",
    "    normalization_eiglength = [len(i) for i in eigen_energies]\n",
    "    normalization_eiglength_t = torch.tensor(normalization_eiglength)\n",
    "    normalization = 1/torch.sqrt(2*torch.tensor(np.pi)*sigma**2)/n_atoms/normalization_eiglength_t\n",
    "    normalization_quartic = 1/n_atoms/normalization_eiglength_t\n",
    "\n",
    "\n",
    "lower_bound = -24.553719539983-1.5\n",
    "upper_bound = -4.3758+3\n",
    "xaxis = torch.arange(lower_bound,upper_bound,0.001)\n",
    "total_coefs = []\n",
    "for i in tqdm(range(1039)):\n",
    "    def value_fn(x):\n",
    "        l_dos_E = torch.sum(torch.exp(-0.5*((x - full_eigen_energies[i].view(-1,1))/sigma)**2), dim = 0) * 2 * normalization[i]\n",
    "        return l_dos_E\n",
    "    def derivative_fn(x):\n",
    "        dfn_E = torch.sum(torch.exp(-0.5*((x - full_eigen_energies[i].view(-1,1))/sigma)**2) *\n",
    "                          (-1 * ((x - full_eigen_energies[i].view(-1,1))/sigma)**2), dim =0) * 2 * normalization[i]\n",
    "        return dfn_E\n",
    "\n",
    "    spliner = CubicHermiteSpline(xaxis, value_fn(xaxis), derivative_fn(xaxis))\n",
    "    total_coefs.append(torch.tensor(spliner.c))\n",
    "    \n",
    "a = torch.stack(total_coefs)\n",
    "torch.save(a, \"./Splines_dataset.pt\")"
   ]
  }
 ],
 "metadata": {
  "kernelspec": {
   "display_name": "Python 3 (ipykernel)",
   "language": "python",
   "name": "python3"
  },
  "language_info": {
   "codemirror_mode": {
    "name": "ipython",
    "version": 3
   },
   "file_extension": ".py",
   "mimetype": "text/x-python",
   "name": "python",
   "nbconvert_exporter": "python",
   "pygments_lexer": "ipython3",
   "version": "3.9.12"
  },
  "toc": {
   "base_numbering": 1,
   "nav_menu": {},
   "number_sections": true,
   "sideBar": true,
   "skip_h1_title": false,
   "title_cell": "Table of Contents",
   "title_sidebar": "Contents",
   "toc_cell": false,
   "toc_position": {},
   "toc_section_display": true,
   "toc_window_display": false
  }
 },
 "nbformat": 4,
 "nbformat_minor": 5
}
