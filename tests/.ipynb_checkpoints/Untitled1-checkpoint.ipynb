{
 "cells": [
  {
   "cell_type": "code",
   "execution_count": 1,
   "id": "7ada29a6",
   "metadata": {
    "ExecuteTime": {
     "end_time": "2023-04-28T14:39:06.414144Z",
     "start_time": "2023-04-28T14:39:02.783794Z"
    }
   },
   "outputs": [],
   "source": [
    "import torch\n",
    "from scipy.interpolate import CubicHermiteSpline\n",
    "import dostools.datasets.data as data\n",
    "import numpy as np\n",
    "from tqdm import tqdm\n",
    "import ase\n",
    "import json\n",
    "import ase.io\n",
    "\n",
    "lower_bound = -24.5537 - 2\n",
    "upper_bound = 11.3464 + 2\n",
    "\n",
    "eigenenergies = torch.load(\"../../data/total_eigen_energies.pt\")\n",
    "normalization = torch.load(\"../../data/total_normalization_3.pt\")\n",
    "\n",
    "sigma = 0.3\n",
    "\n",
    "xaxis = torch.arange(lower_bound, upper_bound)\n",
    "surface_index = torch.arange(673, 673+154)\n",
    "bulk_index = torch.concatenate([torch.arange(673), torch.arange(673+154, 927)])\n",
    "total_coefs = []\n",
    "for i in tqdm(range(n_structures)):\n",
    "    def value_fn(x):\n",
    "        l_dos_E = torch.sum(torch.exp(-0.5*((x - eigenenergies[i].view(-1,1))/sigma)**2), dim = 0) * 2 * normalization[i]\n",
    "        return l_dos_E\n",
    "    def derivative_fn(x):\n",
    "        dfn_E = torch.sum(torch.exp(-0.5*((x - t_surfaces_eigen_energies[i].view(-1,1))/sigma)**2) *\n",
    "                          (-1 * ((x - eigenenergies[i].view(-1,1))/sigma)**2), dim =0) * 2 * normalization[i]\n",
    "        return dfn_E\n",
    "\n",
    "    spliner = CubicHermiteSpline(xaxis, value_fn(xaxis), derivative_fn(xaxis))\n",
    "    total_coefs.append(torch.tensor(spliner.c))\n",
    "\n",
    "\n",
    "total_coefs = torch.stack(total_coefs)\n",
    "surface_coefs = total_coefs[surface_index,:]\n",
    "bulk_coefs = total_coefs[bulk_index,:]\n",
    "torch.save(total_coefs, \"./Splines_Total_03.pt\")\n",
    "torch.save(total_coefs, \"./Splines_Splines_03.pt\")\n",
    "torch.save(total_coefs, \"./Splines_Bulk_03.pt\")"
   ]
  }
 ],
 "metadata": {
  "kernelspec": {
   "display_name": "Python 3 (ipykernel)",
   "language": "python",
   "name": "python3"
  },
  "language_info": {
   "codemirror_mode": {
    "name": "ipython",
    "version": 3
   },
   "file_extension": ".py",
   "mimetype": "text/x-python",
   "name": "python",
   "nbconvert_exporter": "python",
   "pygments_lexer": "ipython3",
   "version": "3.9.12"
  },
  "toc": {
   "base_numbering": 1,
   "nav_menu": {},
   "number_sections": true,
   "sideBar": true,
   "skip_h1_title": false,
   "title_cell": "Table of Contents",
   "title_sidebar": "Contents",
   "toc_cell": false,
   "toc_position": {},
   "toc_section_display": true,
   "toc_window_display": false
  }
 },
 "nbformat": 4,
 "nbformat_minor": 5
}
