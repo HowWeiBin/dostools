{
 "cells": [
  {
   "cell_type": "markdown",
   "id": "84565b74",
   "metadata": {
    "hide_input": false
   },
   "source": [
    "## Imports"
   ]
  },
  {
   "cell_type": "code",
   "execution_count": 1,
   "id": "dfdaeca7",
   "metadata": {
    "ExecuteTime": {
     "end_time": "2023-02-22T16:46:21.949566Z",
     "start_time": "2023-02-22T16:46:16.064871Z"
    }
   },
   "outputs": [],
   "source": [
    "import dostools\n",
    "import importlib\n",
    "import numpy as np\n",
    "import pickle\n",
    "import torch\n",
    "import sys\n",
    "import matplotlib.pyplot as plt\n",
    "import copy\n",
    "from tqdm import tqdm\n",
    "import matplotlib\n",
    "import time\n",
    "torch.set_default_dtype(torch.float64) \n",
    "%matplotlib notebook\n",
    "matplotlib.rcParams['figure.figsize'] = (10, 10)"
   ]
  },
  {
   "cell_type": "code",
   "execution_count": 2,
   "id": "7ccbf26d",
   "metadata": {
    "ExecuteTime": {
     "end_time": "2023-02-22T16:46:28.188700Z",
     "start_time": "2023-02-22T16:46:21.951962Z"
    }
   },
   "outputs": [
    {
     "name": "stdout",
     "output_type": "stream",
     "text": [
      "ldos shape is torch.Size([1039, 778])\n",
      "mean dos shape is torch.Size([778])\n",
      "Variance covered with 10 PCs is = 0.9871211778950163\n"
     ]
    }
   ],
   "source": [
    "import dostools.datasets.data as data\n",
    "import dostools.utils.utils as utils\n",
    "\n",
    "n_structures = 1039\n",
    "np.random.seed(0)\n",
    "n_train = int(0.8 * n_structures)\n",
    "train_index = np.arange(n_structures)\n",
    "np.random.shuffle(train_index)\n",
    "test_index = train_index[n_train:]\n",
    "train_index = train_index[:n_train]\n",
    "\n",
    "with torch.no_grad():\n",
    "    structures = data.load_structures(\":\")\n",
    "    n_structures = len(structures) #total number of structures\n",
    "    for structure in structures:#implement periodicity\n",
    "        structure.wrap(eps = 1e-12) \n",
    "    n_atoms = np.zeros(n_structures, dtype = int) #stores number of atoms in each structures\n",
    "    for i in range(n_structures):\n",
    "        n_atoms[i] = len(structures[i])\n",
    "\n",
    "    #eigenergies, emin, emax = dostools.src.datasets.data.load_eigenenergies(unpack = True, n_structures = len(structures))\n",
    "    xdos = torch.tensor(data.load_xdos())\n",
    "    ldos = torch.tensor(data.load_ldos())\n",
    "    ldos *= 2\n",
    "\n",
    "    print (\"ldos shape is {}\".format(ldos.shape))\n",
    "    mean_dos_per_atom = ldos[train_index].mean(axis = 0) #only calculated for train set to prevent data leakage\n",
    "    print (\"mean dos shape is {}\".format(mean_dos_per_atom.shape))\n",
    "    \n",
    "    \n",
    "    y_pw = ldos - mean_dos_per_atom\n",
    "    y_lcdf = torch.cumsum(y_pw, dim = 1)\n",
    "    _, pc_vectors = utils.build_pc(ldos[train_index], mean_dos_per_atom[None,:], n_pc = 10)\n",
    "    y_pc = utils.build_coeffs(ldos - mean_dos_per_atom[None,:], pc_vectors)\n",
    "    Silicon = data.load_features()\n",
    "    kMM = data.load_kMM()"
   ]
  },
  {
   "cell_type": "code",
   "execution_count": 3,
   "id": "c7a83067",
   "metadata": {
    "ExecuteTime": {
     "end_time": "2023-02-22T16:46:38.610762Z",
     "start_time": "2023-02-22T16:46:28.192221Z"
    }
   },
   "outputs": [
    {
     "name": "stdout",
     "output_type": "stream",
     "text": [
      "This file contains the eigenenergies and their corresponding kpoints of the training Silicon structures generated using DFT PBE as implemented in FHI-AIMS version 171221_1 with the ``tight'' settings\n"
     ]
    }
   ],
   "source": [
    "importlib.reload(data)\n",
    "eigen_energies, emin, emax = data.load_eigenenergies(unpack = True, n_structures = n_structures)"
   ]
  },
  {
   "cell_type": "code",
   "execution_count": 4,
   "id": "dccbde1a",
   "metadata": {
    "ExecuteTime": {
     "end_time": "2023-02-22T16:46:38.622434Z",
     "start_time": "2023-02-22T16:46:38.615788Z"
    }
   },
   "outputs": [
    {
     "name": "stdout",
     "output_type": "stream",
     "text": [
      "-24.553719539983\n"
     ]
    }
   ],
   "source": [
    "print (emin)"
   ]
  },
  {
   "cell_type": "code",
   "execution_count": 5,
   "id": "c4132d76",
   "metadata": {
    "ExecuteTime": {
     "end_time": "2023-02-22T16:46:38.639462Z",
     "start_time": "2023-02-22T16:46:38.625276Z"
    }
   },
   "outputs": [
    {
     "name": "stdout",
     "output_type": "stream",
     "text": [
      "11.346414696331\n"
     ]
    }
   ],
   "source": [
    "print (emax)"
   ]
  },
  {
   "cell_type": "code",
   "execution_count": 6,
   "id": "8001a4d6",
   "metadata": {
    "ExecuteTime": {
     "end_time": "2023-02-22T16:46:38.654563Z",
     "start_time": "2023-02-22T16:46:38.641456Z"
    }
   },
   "outputs": [],
   "source": [
    "# gb = 0.3 #eV\n",
    "# dE = 0.05 #eV\n",
    "\n",
    "# # build the DOS of the dataset, \n",
    "# # normalized by number of atoms and number of eigenvalues\n",
    "# xdos2, ldos2 = utils.build_dos(gb, eigen_energies, dE, emin, emax, n_atoms) #sigma, eigenvalues, dx, emin, emax\n",
    "\n",
    "# xdos2_tensor = torch.tensor(xdos2)\n",
    "# ldos2 *= 2\n",
    "# ldos2 = torch.tensor(ldos2)"
   ]
  },
  {
   "cell_type": "markdown",
   "id": "459624a6",
   "metadata": {},
   "source": []
  },
  {
   "cell_type": "code",
   "execution_count": null,
   "id": "eeb115b1",
   "metadata": {
    "ExecuteTime": {
     "end_time": "2023-02-15T21:18:14.754862Z",
     "start_time": "2023-02-15T21:18:14.002114Z"
    }
   },
   "outputs": [],
   "source": []
  },
  {
   "cell_type": "code",
   "execution_count": null,
   "id": "c2b15734",
   "metadata": {
    "ExecuteTime": {
     "end_time": "2023-02-15T21:18:14.763222Z",
     "start_time": "2023-02-15T21:18:14.756960Z"
    }
   },
   "outputs": [],
   "source": []
  },
  {
   "cell_type": "code",
   "execution_count": null,
   "id": "a09ca373",
   "metadata": {
    "ExecuteTime": {
     "end_time": "2023-02-15T21:18:14.785247Z",
     "start_time": "2023-02-15T21:18:14.765407Z"
    }
   },
   "outputs": [],
   "source": []
  },
  {
   "cell_type": "markdown",
   "id": "9e0652c3",
   "metadata": {},
   "source": [
    "## Features PCA"
   ]
  },
  {
   "cell_type": "code",
   "execution_count": 7,
   "id": "35332a42",
   "metadata": {
    "ExecuteTime": {
     "end_time": "2023-02-22T16:46:39.020590Z",
     "start_time": "2023-02-22T16:46:38.656857Z"
    }
   },
   "outputs": [
    {
     "name": "stdout",
     "output_type": "stream",
     "text": [
      "SOAP PCA explained variance with 1 PCA is: [0.85417772]\n",
      "Kernel PCA explained variance with 1 PCA is: [0.76640756]\n"
     ]
    }
   ],
   "source": [
    "from sklearn.decomposition import PCA\n",
    "\n",
    "soap = Silicon.Features['structure_avedescriptors'] \n",
    "soap_pca = PCA(n_components = 1, svd_solver = \"full\")\n",
    "soap_pca.fit(soap)\n",
    "\n",
    "print (\"SOAP PCA explained variance with 1 PCA is: {}\".format(soap_pca.explained_variance_ratio_))\n",
    "\n",
    "PCA_soap = soap_pca.transform(soap)\n",
    "\n",
    "kernel = Silicon.Features['structure_avekerneldescriptors']\n",
    "kernel_pca = PCA(n_components = 1, svd_solver = \"full\")\n",
    "kernel_pca.fit(kernel)\n",
    "\n",
    "print (\"Kernel PCA explained variance with 1 PCA is: {}\".format(kernel_pca.explained_variance_ratio_))\n",
    "\n",
    "PCA_kernel = kernel_pca.transform(kernel)"
   ]
  },
  {
   "cell_type": "markdown",
   "id": "09757efc",
   "metadata": {},
   "source": [
    "## Translation invariant Loss function"
   ]
  },
  {
   "cell_type": "code",
   "execution_count": 8,
   "id": "fea8a204",
   "metadata": {
    "ExecuteTime": {
     "end_time": "2023-02-22T16:46:39.046971Z",
     "start_time": "2023-02-22T16:46:39.022466Z"
    }
   },
   "outputs": [],
   "source": [
    "import dostools.loss.loss as loss\n",
    "\n",
    "# importlib.reload(loss)\n",
    "# with torch.no_grad():\n",
    "#     shift_range = torch.tensor([0.05 * a for a in torch.arange(-5,5)])\n",
    "#     #shift_range = torch.tensor([0])\n",
    "#     a = loss.t_get_BF_shift_rmse(reconstructed_ldos_t, ldos, shift_range, xdos, perc = True)\n",
    "#     print (a)"
   ]
  },
  {
   "cell_type": "code",
   "execution_count": 9,
   "id": "3af34687",
   "metadata": {
    "ExecuteTime": {
     "end_time": "2023-02-22T16:46:39.051091Z",
     "start_time": "2023-02-22T16:46:39.048562Z"
    }
   },
   "outputs": [],
   "source": [
    "# z = (torch.sum((structure_coefficients_t[train_index].view(1, 831, 687) * (torch.exp(-0.5*((alignment.view(1,-1,1) + xdos.view(-1,1,1) - structure_eigvals_t[train_index])/sigma)**2))), dim = 2)).T * normalization[train_index].view(-1,1) * 2\n"
   ]
  },
  {
   "cell_type": "markdown",
   "id": "54d8790a",
   "metadata": {},
   "source": [
    "## Dataset and Dataloader"
   ]
  },
  {
   "cell_type": "code",
   "execution_count": 10,
   "id": "0ce6bf58",
   "metadata": {
    "ExecuteTime": {
     "end_time": "2023-02-22T16:46:39.392675Z",
     "start_time": "2023-02-22T16:46:39.052675Z"
    }
   },
   "outputs": [],
   "source": [
    "structure_coefficients_t = torch.load('structure_coefficients.pt')\n",
    "structure_eigvals_t = torch.load('structure_eigvals.pt')\n",
    "reconstructed_ldos_t = torch.load('reconstructed_ldos.pt')\n",
    "\n",
    "sigma = 0.3\n",
    "dx = 0.05\n",
    "\n",
    "full_eigen_energies = [torch.tensor(i.flatten()) for i in eigen_energies]\n",
    "eigenenergy_length = [len(i) for i in full_eigen_energies]\n",
    "eigenenergy_length_t = torch.tensor(eigenenergy_length)\n",
    "# small_index = (eigenenergy_length_t<10000)\n",
    "# small_index = small_index.nonzero()\n",
    "# small_index = small_index.flatten()\n",
    "n_atoms_t = torch.tensor(n_atoms)\n",
    "normalization_eiglength = [len(i) for i in eigen_energies]\n",
    "normalization_eiglength_t = torch.tensor(normalization_eiglength)\n",
    "normalization = 1/torch.sqrt(2*torch.tensor(np.pi)*sigma**2)/n_atoms_t/normalization_eiglength_t\n",
    "\n"
   ]
  },
  {
   "cell_type": "code",
   "execution_count": 11,
   "id": "e456cba1",
   "metadata": {
    "ExecuteTime": {
     "end_time": "2023-02-22T16:46:39.405716Z",
     "start_time": "2023-02-22T16:46:39.395568Z"
    }
   },
   "outputs": [],
   "source": [
    "from torch.utils.data import Dataset\n",
    "class ShiftingDataset(Dataset):\n",
    "    def __init__(self, X, y_coeff, y_eigval, normalization, xdos):\n",
    "        self.X = X\n",
    "        self.y_coeff = y_coeff\n",
    "        self.y_eigval = y_eigval\n",
    "        self.normalization = normalization\n",
    "        self.alignment = torch.nn.parameter.Parameter(torch.zeros(len(X)))\n",
    "        self.xdos = xdos\n",
    "        \n",
    "        \n",
    "    def __len__(self):\n",
    "        return len(self.X)\n",
    "    \n",
    "    def project_dos(self, idx):\n",
    "        new_dos = (torch.sum((self.y_coeff[idx].view(1, -1, 687) * (torch.exp(-0.5*((self.alignment[idx].view(1,-1,1) + self.xdos.view(-1,1,1) - self.y_eigval[idx])/sigma)**2))), dim = 2)).T * self.normalization[idx].view(-1,1) * 2\n",
    "        return new_dos.squeeze()\n",
    "    \n",
    "    def __getitem__(self, idx):\n",
    "        y = self.project_dos(idx)\n",
    "        return self.X[idx], y.double()\n",
    "        "
   ]
  },
  {
   "cell_type": "code",
   "execution_count": 12,
   "id": "d1782bcb",
   "metadata": {
    "ExecuteTime": {
     "end_time": "2023-02-22T16:46:39.420725Z",
     "start_time": "2023-02-22T16:46:39.408138Z"
    }
   },
   "outputs": [],
   "source": [
    "##Remeber to save the good struct coeffs and eigvals and integrate into the database folder"
   ]
  },
  {
   "cell_type": "code",
   "execution_count": null,
   "id": "b28fd40c",
   "metadata": {
    "ExecuteTime": {
     "end_time": "2023-02-21T21:32:21.692715Z",
     "start_time": "2023-02-21T21:32:21.487372Z"
    }
   },
   "outputs": [],
   "source": []
  },
  {
   "cell_type": "code",
   "execution_count": 13,
   "id": "fceb0381",
   "metadata": {
    "ExecuteTime": {
     "end_time": "2023-02-22T16:46:39.446213Z",
     "start_time": "2023-02-22T16:46:39.423236Z"
    }
   },
   "outputs": [],
   "source": [
    "from torch.utils.data import TensorDataset, DataLoader\n",
    "# soap_dataset = ShiftingDataset(Silicon.Features['structure_avedescriptors'][:10].double(), structure_coefficients_t[:10], structure_eigvals_t[:10], normalization[:10], xdos)\n",
    "soap_dataset = ShiftingDataset(Silicon.Features['structure_avedescriptors'][train_index].double(), structure_coefficients_t[train_index], structure_eigvals_t[train_index], normalization[train_index], xdos)\n",
    "device = 'cpu'\n",
    "kwargs = {\"pin_memory\":True} if device == \"cuda:0\" else {}\n",
    "soap_dataloader = DataLoader(soap_dataset, batch_size = 8, shuffle = True,**kwargs)"
   ]
  },
  {
   "cell_type": "code",
   "execution_count": 14,
   "id": "6448efe3",
   "metadata": {
    "ExecuteTime": {
     "end_time": "2023-02-22T16:46:39.515940Z",
     "start_time": "2023-02-22T16:46:39.451964Z"
    }
   },
   "outputs": [
    {
     "name": "stdout",
     "output_type": "stream",
     "text": [
      "torch.Size([8, 448])\n",
      "torch.Size([8, 778])\n"
     ]
    }
   ],
   "source": [
    "for x,y in soap_dataloader:\n",
    "    print (x.shape)\n",
    "    print (y.shape)\n",
    "    break"
   ]
  },
  {
   "cell_type": "markdown",
   "id": "dad09156",
   "metadata": {},
   "source": [
    "## Model"
   ]
  },
  {
   "cell_type": "code",
   "execution_count": 15,
   "id": "e9de52ec",
   "metadata": {
    "ExecuteTime": {
     "end_time": "2023-02-22T16:46:39.550056Z",
     "start_time": "2023-02-22T16:46:39.518221Z"
    }
   },
   "outputs": [],
   "source": [
    "import dostools.models.models as models\n",
    "import dostools.models.training as training\n",
    "import dostools.models.architectures as architecture\n",
    "import dostools.loss.loss as loss\n",
    "import torch.nn as nn\n",
    "\n",
    "importlib.reload(models)\n",
    "importlib.reload(training)\n",
    "importlib.reload(architecture)\n",
    "importlib.reload(loss)\n",
    "\n",
    "#can consider normalization layer here, start with bias and stuff first\n",
    "\n",
    "class WassLinearModel(nn.Module):\n",
    "    def __init__(self, inputSize, outputSize, xdos, device):\n",
    "        super(WassLinearModel, self).__init__()\n",
    "        self.linear = nn.Linear(inputSize, outputSize, bias = True)\n",
    "        self.xdos = xdos\n",
    "        self.device = device\n",
    "        #self.alignment = torch.zeros(train_size, device = self.device)\n",
    "        self.to(self.device)\n",
    "\n",
    "    def forward(self, x):\n",
    "        \"\"\"\n",
    "        Performs the transformations to the features based on the model\n",
    "        \n",
    "        Args:\n",
    "            x (tensor): input features\n",
    "        \n",
    "        Returns:\n",
    "            tensor: output\n",
    "        \"\"\"\n",
    "        out = self.linear(x)\n",
    "        return out\n",
    "    \n",
    "    "
   ]
  },
  {
   "cell_type": "code",
   "execution_count": 27,
   "id": "11425897",
   "metadata": {
    "ExecuteTime": {
     "end_time": "2023-02-22T16:47:53.495165Z",
     "start_time": "2023-02-22T16:47:53.479593Z"
    }
   },
   "outputs": [],
   "source": [
    "model1 = WassLinearModel(448, 778, xdos, \"cpu\")\n",
    "model1.load_state_dict(torch.load('./DynamicAdam.pt'))\n",
    "soap_dataset.alignment = torch.load('DynamicAdam_trainalignment')"
   ]
  },
  {
   "cell_type": "code",
   "execution_count": 17,
   "id": "7a5a54fe",
   "metadata": {
    "ExecuteTime": {
     "end_time": "2023-02-22T16:46:45.798297Z",
     "start_time": "2023-02-22T16:46:39.639498Z"
    }
   },
   "outputs": [
    {
     "name": "stderr",
     "output_type": "stream",
     "text": [
      "\r",
      "  0%|                                                                                                                                                                                    | 0/10000 [00:00<?, ?it/s]"
     ]
    },
    {
     "data": {
      "application/javascript": [
       "/* Put everything inside the global mpl namespace */\n",
       "/* global mpl */\n",
       "window.mpl = {};\n",
       "\n",
       "mpl.get_websocket_type = function () {\n",
       "    if (typeof WebSocket !== 'undefined') {\n",
       "        return WebSocket;\n",
       "    } else if (typeof MozWebSocket !== 'undefined') {\n",
       "        return MozWebSocket;\n",
       "    } else {\n",
       "        alert(\n",
       "            'Your browser does not have WebSocket support. ' +\n",
       "                'Please try Chrome, Safari or Firefox ≥ 6. ' +\n",
       "                'Firefox 4 and 5 are also supported but you ' +\n",
       "                'have to enable WebSockets in about:config.'\n",
       "        );\n",
       "    }\n",
       "};\n",
       "\n",
       "mpl.figure = function (figure_id, websocket, ondownload, parent_element) {\n",
       "    this.id = figure_id;\n",
       "\n",
       "    this.ws = websocket;\n",
       "\n",
       "    this.supports_binary = this.ws.binaryType !== undefined;\n",
       "\n",
       "    if (!this.supports_binary) {\n",
       "        var warnings = document.getElementById('mpl-warnings');\n",
       "        if (warnings) {\n",
       "            warnings.style.display = 'block';\n",
       "            warnings.textContent =\n",
       "                'This browser does not support binary websocket messages. ' +\n",
       "                'Performance may be slow.';\n",
       "        }\n",
       "    }\n",
       "\n",
       "    this.imageObj = new Image();\n",
       "\n",
       "    this.context = undefined;\n",
       "    this.message = undefined;\n",
       "    this.canvas = undefined;\n",
       "    this.rubberband_canvas = undefined;\n",
       "    this.rubberband_context = undefined;\n",
       "    this.format_dropdown = undefined;\n",
       "\n",
       "    this.image_mode = 'full';\n",
       "\n",
       "    this.root = document.createElement('div');\n",
       "    this.root.setAttribute('style', 'display: inline-block');\n",
       "    this._root_extra_style(this.root);\n",
       "\n",
       "    parent_element.appendChild(this.root);\n",
       "\n",
       "    this._init_header(this);\n",
       "    this._init_canvas(this);\n",
       "    this._init_toolbar(this);\n",
       "\n",
       "    var fig = this;\n",
       "\n",
       "    this.waiting = false;\n",
       "\n",
       "    this.ws.onopen = function () {\n",
       "        fig.send_message('supports_binary', { value: fig.supports_binary });\n",
       "        fig.send_message('send_image_mode', {});\n",
       "        if (fig.ratio !== 1) {\n",
       "            fig.send_message('set_device_pixel_ratio', {\n",
       "                device_pixel_ratio: fig.ratio,\n",
       "            });\n",
       "        }\n",
       "        fig.send_message('refresh', {});\n",
       "    };\n",
       "\n",
       "    this.imageObj.onload = function () {\n",
       "        if (fig.image_mode === 'full') {\n",
       "            // Full images could contain transparency (where diff images\n",
       "            // almost always do), so we need to clear the canvas so that\n",
       "            // there is no ghosting.\n",
       "            fig.context.clearRect(0, 0, fig.canvas.width, fig.canvas.height);\n",
       "        }\n",
       "        fig.context.drawImage(fig.imageObj, 0, 0);\n",
       "    };\n",
       "\n",
       "    this.imageObj.onunload = function () {\n",
       "        fig.ws.close();\n",
       "    };\n",
       "\n",
       "    this.ws.onmessage = this._make_on_message_function(this);\n",
       "\n",
       "    this.ondownload = ondownload;\n",
       "};\n",
       "\n",
       "mpl.figure.prototype._init_header = function () {\n",
       "    var titlebar = document.createElement('div');\n",
       "    titlebar.classList =\n",
       "        'ui-dialog-titlebar ui-widget-header ui-corner-all ui-helper-clearfix';\n",
       "    var titletext = document.createElement('div');\n",
       "    titletext.classList = 'ui-dialog-title';\n",
       "    titletext.setAttribute(\n",
       "        'style',\n",
       "        'width: 100%; text-align: center; padding: 3px;'\n",
       "    );\n",
       "    titlebar.appendChild(titletext);\n",
       "    this.root.appendChild(titlebar);\n",
       "    this.header = titletext;\n",
       "};\n",
       "\n",
       "mpl.figure.prototype._canvas_extra_style = function (_canvas_div) {};\n",
       "\n",
       "mpl.figure.prototype._root_extra_style = function (_canvas_div) {};\n",
       "\n",
       "mpl.figure.prototype._init_canvas = function () {\n",
       "    var fig = this;\n",
       "\n",
       "    var canvas_div = (this.canvas_div = document.createElement('div'));\n",
       "    canvas_div.setAttribute(\n",
       "        'style',\n",
       "        'border: 1px solid #ddd;' +\n",
       "            'box-sizing: content-box;' +\n",
       "            'clear: both;' +\n",
       "            'min-height: 1px;' +\n",
       "            'min-width: 1px;' +\n",
       "            'outline: 0;' +\n",
       "            'overflow: hidden;' +\n",
       "            'position: relative;' +\n",
       "            'resize: both;'\n",
       "    );\n",
       "\n",
       "    function on_keyboard_event_closure(name) {\n",
       "        return function (event) {\n",
       "            return fig.key_event(event, name);\n",
       "        };\n",
       "    }\n",
       "\n",
       "    canvas_div.addEventListener(\n",
       "        'keydown',\n",
       "        on_keyboard_event_closure('key_press')\n",
       "    );\n",
       "    canvas_div.addEventListener(\n",
       "        'keyup',\n",
       "        on_keyboard_event_closure('key_release')\n",
       "    );\n",
       "\n",
       "    this._canvas_extra_style(canvas_div);\n",
       "    this.root.appendChild(canvas_div);\n",
       "\n",
       "    var canvas = (this.canvas = document.createElement('canvas'));\n",
       "    canvas.classList.add('mpl-canvas');\n",
       "    canvas.setAttribute('style', 'box-sizing: content-box;');\n",
       "\n",
       "    this.context = canvas.getContext('2d');\n",
       "\n",
       "    var backingStore =\n",
       "        this.context.backingStorePixelRatio ||\n",
       "        this.context.webkitBackingStorePixelRatio ||\n",
       "        this.context.mozBackingStorePixelRatio ||\n",
       "        this.context.msBackingStorePixelRatio ||\n",
       "        this.context.oBackingStorePixelRatio ||\n",
       "        this.context.backingStorePixelRatio ||\n",
       "        1;\n",
       "\n",
       "    this.ratio = (window.devicePixelRatio || 1) / backingStore;\n",
       "\n",
       "    var rubberband_canvas = (this.rubberband_canvas = document.createElement(\n",
       "        'canvas'\n",
       "    ));\n",
       "    rubberband_canvas.setAttribute(\n",
       "        'style',\n",
       "        'box-sizing: content-box; position: absolute; left: 0; top: 0; z-index: 1;'\n",
       "    );\n",
       "\n",
       "    // Apply a ponyfill if ResizeObserver is not implemented by browser.\n",
       "    if (this.ResizeObserver === undefined) {\n",
       "        if (window.ResizeObserver !== undefined) {\n",
       "            this.ResizeObserver = window.ResizeObserver;\n",
       "        } else {\n",
       "            var obs = _JSXTOOLS_RESIZE_OBSERVER({});\n",
       "            this.ResizeObserver = obs.ResizeObserver;\n",
       "        }\n",
       "    }\n",
       "\n",
       "    this.resizeObserverInstance = new this.ResizeObserver(function (entries) {\n",
       "        var nentries = entries.length;\n",
       "        for (var i = 0; i < nentries; i++) {\n",
       "            var entry = entries[i];\n",
       "            var width, height;\n",
       "            if (entry.contentBoxSize) {\n",
       "                if (entry.contentBoxSize instanceof Array) {\n",
       "                    // Chrome 84 implements new version of spec.\n",
       "                    width = entry.contentBoxSize[0].inlineSize;\n",
       "                    height = entry.contentBoxSize[0].blockSize;\n",
       "                } else {\n",
       "                    // Firefox implements old version of spec.\n",
       "                    width = entry.contentBoxSize.inlineSize;\n",
       "                    height = entry.contentBoxSize.blockSize;\n",
       "                }\n",
       "            } else {\n",
       "                // Chrome <84 implements even older version of spec.\n",
       "                width = entry.contentRect.width;\n",
       "                height = entry.contentRect.height;\n",
       "            }\n",
       "\n",
       "            // Keep the size of the canvas and rubber band canvas in sync with\n",
       "            // the canvas container.\n",
       "            if (entry.devicePixelContentBoxSize) {\n",
       "                // Chrome 84 implements new version of spec.\n",
       "                canvas.setAttribute(\n",
       "                    'width',\n",
       "                    entry.devicePixelContentBoxSize[0].inlineSize\n",
       "                );\n",
       "                canvas.setAttribute(\n",
       "                    'height',\n",
       "                    entry.devicePixelContentBoxSize[0].blockSize\n",
       "                );\n",
       "            } else {\n",
       "                canvas.setAttribute('width', width * fig.ratio);\n",
       "                canvas.setAttribute('height', height * fig.ratio);\n",
       "            }\n",
       "            canvas.setAttribute(\n",
       "                'style',\n",
       "                'width: ' + width + 'px; height: ' + height + 'px;'\n",
       "            );\n",
       "\n",
       "            rubberband_canvas.setAttribute('width', width);\n",
       "            rubberband_canvas.setAttribute('height', height);\n",
       "\n",
       "            // And update the size in Python. We ignore the initial 0/0 size\n",
       "            // that occurs as the element is placed into the DOM, which should\n",
       "            // otherwise not happen due to the minimum size styling.\n",
       "            if (fig.ws.readyState == 1 && width != 0 && height != 0) {\n",
       "                fig.request_resize(width, height);\n",
       "            }\n",
       "        }\n",
       "    });\n",
       "    this.resizeObserverInstance.observe(canvas_div);\n",
       "\n",
       "    function on_mouse_event_closure(name) {\n",
       "        return function (event) {\n",
       "            return fig.mouse_event(event, name);\n",
       "        };\n",
       "    }\n",
       "\n",
       "    rubberband_canvas.addEventListener(\n",
       "        'mousedown',\n",
       "        on_mouse_event_closure('button_press')\n",
       "    );\n",
       "    rubberband_canvas.addEventListener(\n",
       "        'mouseup',\n",
       "        on_mouse_event_closure('button_release')\n",
       "    );\n",
       "    rubberband_canvas.addEventListener(\n",
       "        'dblclick',\n",
       "        on_mouse_event_closure('dblclick')\n",
       "    );\n",
       "    // Throttle sequential mouse events to 1 every 20ms.\n",
       "    rubberband_canvas.addEventListener(\n",
       "        'mousemove',\n",
       "        on_mouse_event_closure('motion_notify')\n",
       "    );\n",
       "\n",
       "    rubberband_canvas.addEventListener(\n",
       "        'mouseenter',\n",
       "        on_mouse_event_closure('figure_enter')\n",
       "    );\n",
       "    rubberband_canvas.addEventListener(\n",
       "        'mouseleave',\n",
       "        on_mouse_event_closure('figure_leave')\n",
       "    );\n",
       "\n",
       "    canvas_div.addEventListener('wheel', function (event) {\n",
       "        if (event.deltaY < 0) {\n",
       "            event.step = 1;\n",
       "        } else {\n",
       "            event.step = -1;\n",
       "        }\n",
       "        on_mouse_event_closure('scroll')(event);\n",
       "    });\n",
       "\n",
       "    canvas_div.appendChild(canvas);\n",
       "    canvas_div.appendChild(rubberband_canvas);\n",
       "\n",
       "    this.rubberband_context = rubberband_canvas.getContext('2d');\n",
       "    this.rubberband_context.strokeStyle = '#000000';\n",
       "\n",
       "    this._resize_canvas = function (width, height, forward) {\n",
       "        if (forward) {\n",
       "            canvas_div.style.width = width + 'px';\n",
       "            canvas_div.style.height = height + 'px';\n",
       "        }\n",
       "    };\n",
       "\n",
       "    // Disable right mouse context menu.\n",
       "    this.rubberband_canvas.addEventListener('contextmenu', function (_e) {\n",
       "        event.preventDefault();\n",
       "        return false;\n",
       "    });\n",
       "\n",
       "    function set_focus() {\n",
       "        canvas.focus();\n",
       "        canvas_div.focus();\n",
       "    }\n",
       "\n",
       "    window.setTimeout(set_focus, 100);\n",
       "};\n",
       "\n",
       "mpl.figure.prototype._init_toolbar = function () {\n",
       "    var fig = this;\n",
       "\n",
       "    var toolbar = document.createElement('div');\n",
       "    toolbar.classList = 'mpl-toolbar';\n",
       "    this.root.appendChild(toolbar);\n",
       "\n",
       "    function on_click_closure(name) {\n",
       "        return function (_event) {\n",
       "            return fig.toolbar_button_onclick(name);\n",
       "        };\n",
       "    }\n",
       "\n",
       "    function on_mouseover_closure(tooltip) {\n",
       "        return function (event) {\n",
       "            if (!event.currentTarget.disabled) {\n",
       "                return fig.toolbar_button_onmouseover(tooltip);\n",
       "            }\n",
       "        };\n",
       "    }\n",
       "\n",
       "    fig.buttons = {};\n",
       "    var buttonGroup = document.createElement('div');\n",
       "    buttonGroup.classList = 'mpl-button-group';\n",
       "    for (var toolbar_ind in mpl.toolbar_items) {\n",
       "        var name = mpl.toolbar_items[toolbar_ind][0];\n",
       "        var tooltip = mpl.toolbar_items[toolbar_ind][1];\n",
       "        var image = mpl.toolbar_items[toolbar_ind][2];\n",
       "        var method_name = mpl.toolbar_items[toolbar_ind][3];\n",
       "\n",
       "        if (!name) {\n",
       "            /* Instead of a spacer, we start a new button group. */\n",
       "            if (buttonGroup.hasChildNodes()) {\n",
       "                toolbar.appendChild(buttonGroup);\n",
       "            }\n",
       "            buttonGroup = document.createElement('div');\n",
       "            buttonGroup.classList = 'mpl-button-group';\n",
       "            continue;\n",
       "        }\n",
       "\n",
       "        var button = (fig.buttons[name] = document.createElement('button'));\n",
       "        button.classList = 'mpl-widget';\n",
       "        button.setAttribute('role', 'button');\n",
       "        button.setAttribute('aria-disabled', 'false');\n",
       "        button.addEventListener('click', on_click_closure(method_name));\n",
       "        button.addEventListener('mouseover', on_mouseover_closure(tooltip));\n",
       "\n",
       "        var icon_img = document.createElement('img');\n",
       "        icon_img.src = '_images/' + image + '.png';\n",
       "        icon_img.srcset = '_images/' + image + '_large.png 2x';\n",
       "        icon_img.alt = tooltip;\n",
       "        button.appendChild(icon_img);\n",
       "\n",
       "        buttonGroup.appendChild(button);\n",
       "    }\n",
       "\n",
       "    if (buttonGroup.hasChildNodes()) {\n",
       "        toolbar.appendChild(buttonGroup);\n",
       "    }\n",
       "\n",
       "    var fmt_picker = document.createElement('select');\n",
       "    fmt_picker.classList = 'mpl-widget';\n",
       "    toolbar.appendChild(fmt_picker);\n",
       "    this.format_dropdown = fmt_picker;\n",
       "\n",
       "    for (var ind in mpl.extensions) {\n",
       "        var fmt = mpl.extensions[ind];\n",
       "        var option = document.createElement('option');\n",
       "        option.selected = fmt === mpl.default_extension;\n",
       "        option.innerHTML = fmt;\n",
       "        fmt_picker.appendChild(option);\n",
       "    }\n",
       "\n",
       "    var status_bar = document.createElement('span');\n",
       "    status_bar.classList = 'mpl-message';\n",
       "    toolbar.appendChild(status_bar);\n",
       "    this.message = status_bar;\n",
       "};\n",
       "\n",
       "mpl.figure.prototype.request_resize = function (x_pixels, y_pixels) {\n",
       "    // Request matplotlib to resize the figure. Matplotlib will then trigger a resize in the client,\n",
       "    // which will in turn request a refresh of the image.\n",
       "    this.send_message('resize', { width: x_pixels, height: y_pixels });\n",
       "};\n",
       "\n",
       "mpl.figure.prototype.send_message = function (type, properties) {\n",
       "    properties['type'] = type;\n",
       "    properties['figure_id'] = this.id;\n",
       "    this.ws.send(JSON.stringify(properties));\n",
       "};\n",
       "\n",
       "mpl.figure.prototype.send_draw_message = function () {\n",
       "    if (!this.waiting) {\n",
       "        this.waiting = true;\n",
       "        this.ws.send(JSON.stringify({ type: 'draw', figure_id: this.id }));\n",
       "    }\n",
       "};\n",
       "\n",
       "mpl.figure.prototype.handle_save = function (fig, _msg) {\n",
       "    var format_dropdown = fig.format_dropdown;\n",
       "    var format = format_dropdown.options[format_dropdown.selectedIndex].value;\n",
       "    fig.ondownload(fig, format);\n",
       "};\n",
       "\n",
       "mpl.figure.prototype.handle_resize = function (fig, msg) {\n",
       "    var size = msg['size'];\n",
       "    if (size[0] !== fig.canvas.width || size[1] !== fig.canvas.height) {\n",
       "        fig._resize_canvas(size[0], size[1], msg['forward']);\n",
       "        fig.send_message('refresh', {});\n",
       "    }\n",
       "};\n",
       "\n",
       "mpl.figure.prototype.handle_rubberband = function (fig, msg) {\n",
       "    var x0 = msg['x0'] / fig.ratio;\n",
       "    var y0 = (fig.canvas.height - msg['y0']) / fig.ratio;\n",
       "    var x1 = msg['x1'] / fig.ratio;\n",
       "    var y1 = (fig.canvas.height - msg['y1']) / fig.ratio;\n",
       "    x0 = Math.floor(x0) + 0.5;\n",
       "    y0 = Math.floor(y0) + 0.5;\n",
       "    x1 = Math.floor(x1) + 0.5;\n",
       "    y1 = Math.floor(y1) + 0.5;\n",
       "    var min_x = Math.min(x0, x1);\n",
       "    var min_y = Math.min(y0, y1);\n",
       "    var width = Math.abs(x1 - x0);\n",
       "    var height = Math.abs(y1 - y0);\n",
       "\n",
       "    fig.rubberband_context.clearRect(\n",
       "        0,\n",
       "        0,\n",
       "        fig.canvas.width / fig.ratio,\n",
       "        fig.canvas.height / fig.ratio\n",
       "    );\n",
       "\n",
       "    fig.rubberband_context.strokeRect(min_x, min_y, width, height);\n",
       "};\n",
       "\n",
       "mpl.figure.prototype.handle_figure_label = function (fig, msg) {\n",
       "    // Updates the figure title.\n",
       "    fig.header.textContent = msg['label'];\n",
       "};\n",
       "\n",
       "mpl.figure.prototype.handle_cursor = function (fig, msg) {\n",
       "    fig.rubberband_canvas.style.cursor = msg['cursor'];\n",
       "};\n",
       "\n",
       "mpl.figure.prototype.handle_message = function (fig, msg) {\n",
       "    fig.message.textContent = msg['message'];\n",
       "};\n",
       "\n",
       "mpl.figure.prototype.handle_draw = function (fig, _msg) {\n",
       "    // Request the server to send over a new figure.\n",
       "    fig.send_draw_message();\n",
       "};\n",
       "\n",
       "mpl.figure.prototype.handle_image_mode = function (fig, msg) {\n",
       "    fig.image_mode = msg['mode'];\n",
       "};\n",
       "\n",
       "mpl.figure.prototype.handle_history_buttons = function (fig, msg) {\n",
       "    for (var key in msg) {\n",
       "        if (!(key in fig.buttons)) {\n",
       "            continue;\n",
       "        }\n",
       "        fig.buttons[key].disabled = !msg[key];\n",
       "        fig.buttons[key].setAttribute('aria-disabled', !msg[key]);\n",
       "    }\n",
       "};\n",
       "\n",
       "mpl.figure.prototype.handle_navigate_mode = function (fig, msg) {\n",
       "    if (msg['mode'] === 'PAN') {\n",
       "        fig.buttons['Pan'].classList.add('active');\n",
       "        fig.buttons['Zoom'].classList.remove('active');\n",
       "    } else if (msg['mode'] === 'ZOOM') {\n",
       "        fig.buttons['Pan'].classList.remove('active');\n",
       "        fig.buttons['Zoom'].classList.add('active');\n",
       "    } else {\n",
       "        fig.buttons['Pan'].classList.remove('active');\n",
       "        fig.buttons['Zoom'].classList.remove('active');\n",
       "    }\n",
       "};\n",
       "\n",
       "mpl.figure.prototype.updated_canvas_event = function () {\n",
       "    // Called whenever the canvas gets updated.\n",
       "    this.send_message('ack', {});\n",
       "};\n",
       "\n",
       "// A function to construct a web socket function for onmessage handling.\n",
       "// Called in the figure constructor.\n",
       "mpl.figure.prototype._make_on_message_function = function (fig) {\n",
       "    return function socket_on_message(evt) {\n",
       "        if (evt.data instanceof Blob) {\n",
       "            var img = evt.data;\n",
       "            if (img.type !== 'image/png') {\n",
       "                /* FIXME: We get \"Resource interpreted as Image but\n",
       "                 * transferred with MIME type text/plain:\" errors on\n",
       "                 * Chrome.  But how to set the MIME type?  It doesn't seem\n",
       "                 * to be part of the websocket stream */\n",
       "                img.type = 'image/png';\n",
       "            }\n",
       "\n",
       "            /* Free the memory for the previous frames */\n",
       "            if (fig.imageObj.src) {\n",
       "                (window.URL || window.webkitURL).revokeObjectURL(\n",
       "                    fig.imageObj.src\n",
       "                );\n",
       "            }\n",
       "\n",
       "            fig.imageObj.src = (window.URL || window.webkitURL).createObjectURL(\n",
       "                img\n",
       "            );\n",
       "            fig.updated_canvas_event();\n",
       "            fig.waiting = false;\n",
       "            return;\n",
       "        } else if (\n",
       "            typeof evt.data === 'string' &&\n",
       "            evt.data.slice(0, 21) === 'data:image/png;base64'\n",
       "        ) {\n",
       "            fig.imageObj.src = evt.data;\n",
       "            fig.updated_canvas_event();\n",
       "            fig.waiting = false;\n",
       "            return;\n",
       "        }\n",
       "\n",
       "        var msg = JSON.parse(evt.data);\n",
       "        var msg_type = msg['type'];\n",
       "\n",
       "        // Call the  \"handle_{type}\" callback, which takes\n",
       "        // the figure and JSON message as its only arguments.\n",
       "        try {\n",
       "            var callback = fig['handle_' + msg_type];\n",
       "        } catch (e) {\n",
       "            console.log(\n",
       "                \"No handler for the '\" + msg_type + \"' message type: \",\n",
       "                msg\n",
       "            );\n",
       "            return;\n",
       "        }\n",
       "\n",
       "        if (callback) {\n",
       "            try {\n",
       "                // console.log(\"Handling '\" + msg_type + \"' message: \", msg);\n",
       "                callback(fig, msg);\n",
       "            } catch (e) {\n",
       "                console.log(\n",
       "                    \"Exception inside the 'handler_\" + msg_type + \"' callback:\",\n",
       "                    e,\n",
       "                    e.stack,\n",
       "                    msg\n",
       "                );\n",
       "            }\n",
       "        }\n",
       "    };\n",
       "};\n",
       "\n",
       "// from https://stackoverflow.com/questions/1114465/getting-mouse-location-in-canvas\n",
       "mpl.findpos = function (e) {\n",
       "    //this section is from http://www.quirksmode.org/js/events_properties.html\n",
       "    var targ;\n",
       "    if (!e) {\n",
       "        e = window.event;\n",
       "    }\n",
       "    if (e.target) {\n",
       "        targ = e.target;\n",
       "    } else if (e.srcElement) {\n",
       "        targ = e.srcElement;\n",
       "    }\n",
       "    if (targ.nodeType === 3) {\n",
       "        // defeat Safari bug\n",
       "        targ = targ.parentNode;\n",
       "    }\n",
       "\n",
       "    // pageX,Y are the mouse positions relative to the document\n",
       "    var boundingRect = targ.getBoundingClientRect();\n",
       "    var x = e.pageX - (boundingRect.left + document.body.scrollLeft);\n",
       "    var y = e.pageY - (boundingRect.top + document.body.scrollTop);\n",
       "\n",
       "    return { x: x, y: y };\n",
       "};\n",
       "\n",
       "/*\n",
       " * return a copy of an object with only non-object keys\n",
       " * we need this to avoid circular references\n",
       " * https://stackoverflow.com/a/24161582/3208463\n",
       " */\n",
       "function simpleKeys(original) {\n",
       "    return Object.keys(original).reduce(function (obj, key) {\n",
       "        if (typeof original[key] !== 'object') {\n",
       "            obj[key] = original[key];\n",
       "        }\n",
       "        return obj;\n",
       "    }, {});\n",
       "}\n",
       "\n",
       "mpl.figure.prototype.mouse_event = function (event, name) {\n",
       "    var canvas_pos = mpl.findpos(event);\n",
       "\n",
       "    if (name === 'button_press') {\n",
       "        this.canvas.focus();\n",
       "        this.canvas_div.focus();\n",
       "    }\n",
       "\n",
       "    var x = canvas_pos.x * this.ratio;\n",
       "    var y = canvas_pos.y * this.ratio;\n",
       "\n",
       "    this.send_message(name, {\n",
       "        x: x,\n",
       "        y: y,\n",
       "        button: event.button,\n",
       "        step: event.step,\n",
       "        guiEvent: simpleKeys(event),\n",
       "    });\n",
       "\n",
       "    /* This prevents the web browser from automatically changing to\n",
       "     * the text insertion cursor when the button is pressed.  We want\n",
       "     * to control all of the cursor setting manually through the\n",
       "     * 'cursor' event from matplotlib */\n",
       "    event.preventDefault();\n",
       "    return false;\n",
       "};\n",
       "\n",
       "mpl.figure.prototype._key_event_extra = function (_event, _name) {\n",
       "    // Handle any extra behaviour associated with a key event\n",
       "};\n",
       "\n",
       "mpl.figure.prototype.key_event = function (event, name) {\n",
       "    // Prevent repeat events\n",
       "    if (name === 'key_press') {\n",
       "        if (event.key === this._key) {\n",
       "            return;\n",
       "        } else {\n",
       "            this._key = event.key;\n",
       "        }\n",
       "    }\n",
       "    if (name === 'key_release') {\n",
       "        this._key = null;\n",
       "    }\n",
       "\n",
       "    var value = '';\n",
       "    if (event.ctrlKey && event.key !== 'Control') {\n",
       "        value += 'ctrl+';\n",
       "    }\n",
       "    else if (event.altKey && event.key !== 'Alt') {\n",
       "        value += 'alt+';\n",
       "    }\n",
       "    else if (event.shiftKey && event.key !== 'Shift') {\n",
       "        value += 'shift+';\n",
       "    }\n",
       "\n",
       "    value += 'k' + event.key;\n",
       "\n",
       "    this._key_event_extra(event, name);\n",
       "\n",
       "    this.send_message(name, { key: value, guiEvent: simpleKeys(event) });\n",
       "    return false;\n",
       "};\n",
       "\n",
       "mpl.figure.prototype.toolbar_button_onclick = function (name) {\n",
       "    if (name === 'download') {\n",
       "        this.handle_save(this, null);\n",
       "    } else {\n",
       "        this.send_message('toolbar_button', { name: name });\n",
       "    }\n",
       "};\n",
       "\n",
       "mpl.figure.prototype.toolbar_button_onmouseover = function (tooltip) {\n",
       "    this.message.textContent = tooltip;\n",
       "};\n",
       "\n",
       "///////////////// REMAINING CONTENT GENERATED BY embed_js.py /////////////////\n",
       "// prettier-ignore\n",
       "var _JSXTOOLS_RESIZE_OBSERVER=function(A){var t,i=new WeakMap,n=new WeakMap,a=new WeakMap,r=new WeakMap,o=new Set;function s(e){if(!(this instanceof s))throw new TypeError(\"Constructor requires 'new' operator\");i.set(this,e)}function h(){throw new TypeError(\"Function is not a constructor\")}function c(e,t,i,n){e=0 in arguments?Number(arguments[0]):0,t=1 in arguments?Number(arguments[1]):0,i=2 in arguments?Number(arguments[2]):0,n=3 in arguments?Number(arguments[3]):0,this.right=(this.x=this.left=e)+(this.width=i),this.bottom=(this.y=this.top=t)+(this.height=n),Object.freeze(this)}function d(){t=requestAnimationFrame(d);var s=new WeakMap,p=new Set;o.forEach((function(t){r.get(t).forEach((function(i){var r=t instanceof window.SVGElement,o=a.get(t),d=r?0:parseFloat(o.paddingTop),f=r?0:parseFloat(o.paddingRight),l=r?0:parseFloat(o.paddingBottom),u=r?0:parseFloat(o.paddingLeft),g=r?0:parseFloat(o.borderTopWidth),m=r?0:parseFloat(o.borderRightWidth),w=r?0:parseFloat(o.borderBottomWidth),b=u+f,F=d+l,v=(r?0:parseFloat(o.borderLeftWidth))+m,W=g+w,y=r?0:t.offsetHeight-W-t.clientHeight,E=r?0:t.offsetWidth-v-t.clientWidth,R=b+v,z=F+W,M=r?t.width:parseFloat(o.width)-R-E,O=r?t.height:parseFloat(o.height)-z-y;if(n.has(t)){var k=n.get(t);if(k[0]===M&&k[1]===O)return}n.set(t,[M,O]);var S=Object.create(h.prototype);S.target=t,S.contentRect=new c(u,d,M,O),s.has(i)||(s.set(i,[]),p.add(i)),s.get(i).push(S)}))})),p.forEach((function(e){i.get(e).call(e,s.get(e),e)}))}return s.prototype.observe=function(i){if(i instanceof window.Element){r.has(i)||(r.set(i,new Set),o.add(i),a.set(i,window.getComputedStyle(i)));var n=r.get(i);n.has(this)||n.add(this),cancelAnimationFrame(t),t=requestAnimationFrame(d)}},s.prototype.unobserve=function(i){if(i instanceof window.Element&&r.has(i)){var n=r.get(i);n.has(this)&&(n.delete(this),n.size||(r.delete(i),o.delete(i))),n.size||r.delete(i),o.size||cancelAnimationFrame(t)}},A.DOMRectReadOnly=c,A.ResizeObserver=s,A.ResizeObserverEntry=h,A}; // eslint-disable-line\n",
       "mpl.toolbar_items = [[\"Home\", \"Reset original view\", \"fa fa-home icon-home\", \"home\"], [\"Back\", \"Back to previous view\", \"fa fa-arrow-left icon-arrow-left\", \"back\"], [\"Forward\", \"Forward to next view\", \"fa fa-arrow-right icon-arrow-right\", \"forward\"], [\"\", \"\", \"\", \"\"], [\"Pan\", \"Left button pans, Right button zooms\\nx/y fixes axis, CTRL fixes aspect\", \"fa fa-arrows icon-move\", \"pan\"], [\"Zoom\", \"Zoom to rectangle\\nx/y fixes axis\", \"fa fa-square-o icon-check-empty\", \"zoom\"], [\"\", \"\", \"\", \"\"], [\"Download\", \"Download plot\", \"fa fa-floppy-o icon-save\", \"download\"]];\n",
       "\n",
       "mpl.extensions = [\"eps\", \"jpeg\", \"pgf\", \"pdf\", \"png\", \"ps\", \"raw\", \"svg\", \"tif\"];\n",
       "\n",
       "mpl.default_extension = \"png\";/* global mpl */\n",
       "\n",
       "var comm_websocket_adapter = function (comm) {\n",
       "    // Create a \"websocket\"-like object which calls the given IPython comm\n",
       "    // object with the appropriate methods. Currently this is a non binary\n",
       "    // socket, so there is still some room for performance tuning.\n",
       "    var ws = {};\n",
       "\n",
       "    ws.binaryType = comm.kernel.ws.binaryType;\n",
       "    ws.readyState = comm.kernel.ws.readyState;\n",
       "    function updateReadyState(_event) {\n",
       "        if (comm.kernel.ws) {\n",
       "            ws.readyState = comm.kernel.ws.readyState;\n",
       "        } else {\n",
       "            ws.readyState = 3; // Closed state.\n",
       "        }\n",
       "    }\n",
       "    comm.kernel.ws.addEventListener('open', updateReadyState);\n",
       "    comm.kernel.ws.addEventListener('close', updateReadyState);\n",
       "    comm.kernel.ws.addEventListener('error', updateReadyState);\n",
       "\n",
       "    ws.close = function () {\n",
       "        comm.close();\n",
       "    };\n",
       "    ws.send = function (m) {\n",
       "        //console.log('sending', m);\n",
       "        comm.send(m);\n",
       "    };\n",
       "    // Register the callback with on_msg.\n",
       "    comm.on_msg(function (msg) {\n",
       "        //console.log('receiving', msg['content']['data'], msg);\n",
       "        var data = msg['content']['data'];\n",
       "        if (data['blob'] !== undefined) {\n",
       "            data = {\n",
       "                data: new Blob(msg['buffers'], { type: data['blob'] }),\n",
       "            };\n",
       "        }\n",
       "        // Pass the mpl event to the overridden (by mpl) onmessage function.\n",
       "        ws.onmessage(data);\n",
       "    });\n",
       "    return ws;\n",
       "};\n",
       "\n",
       "mpl.mpl_figure_comm = function (comm, msg) {\n",
       "    // This is the function which gets called when the mpl process\n",
       "    // starts-up an IPython Comm through the \"matplotlib\" channel.\n",
       "\n",
       "    var id = msg.content.data.id;\n",
       "    // Get hold of the div created by the display call when the Comm\n",
       "    // socket was opened in Python.\n",
       "    var element = document.getElementById(id);\n",
       "    var ws_proxy = comm_websocket_adapter(comm);\n",
       "\n",
       "    function ondownload(figure, _format) {\n",
       "        window.open(figure.canvas.toDataURL());\n",
       "    }\n",
       "\n",
       "    var fig = new mpl.figure(id, ws_proxy, ondownload, element);\n",
       "\n",
       "    // Call onopen now - mpl needs it, as it is assuming we've passed it a real\n",
       "    // web socket which is closed, not our websocket->open comm proxy.\n",
       "    ws_proxy.onopen();\n",
       "\n",
       "    fig.parent_element = element;\n",
       "    fig.cell_info = mpl.find_output_cell(\"<div id='\" + id + \"'></div>\");\n",
       "    if (!fig.cell_info) {\n",
       "        console.error('Failed to find cell for figure', id, fig);\n",
       "        return;\n",
       "    }\n",
       "    fig.cell_info[0].output_area.element.on(\n",
       "        'cleared',\n",
       "        { fig: fig },\n",
       "        fig._remove_fig_handler\n",
       "    );\n",
       "};\n",
       "\n",
       "mpl.figure.prototype.handle_close = function (fig, msg) {\n",
       "    var width = fig.canvas.width / fig.ratio;\n",
       "    fig.cell_info[0].output_area.element.off(\n",
       "        'cleared',\n",
       "        fig._remove_fig_handler\n",
       "    );\n",
       "    fig.resizeObserverInstance.unobserve(fig.canvas_div);\n",
       "\n",
       "    // Update the output cell to use the data from the current canvas.\n",
       "    fig.push_to_output();\n",
       "    var dataURL = fig.canvas.toDataURL();\n",
       "    // Re-enable the keyboard manager in IPython - without this line, in FF,\n",
       "    // the notebook keyboard shortcuts fail.\n",
       "    IPython.keyboard_manager.enable();\n",
       "    fig.parent_element.innerHTML =\n",
       "        '<img src=\"' + dataURL + '\" width=\"' + width + '\">';\n",
       "    fig.close_ws(fig, msg);\n",
       "};\n",
       "\n",
       "mpl.figure.prototype.close_ws = function (fig, msg) {\n",
       "    fig.send_message('closing', msg);\n",
       "    // fig.ws.close()\n",
       "};\n",
       "\n",
       "mpl.figure.prototype.push_to_output = function (_remove_interactive) {\n",
       "    // Turn the data on the canvas into data in the output cell.\n",
       "    var width = this.canvas.width / this.ratio;\n",
       "    var dataURL = this.canvas.toDataURL();\n",
       "    this.cell_info[1]['text/html'] =\n",
       "        '<img src=\"' + dataURL + '\" width=\"' + width + '\">';\n",
       "};\n",
       "\n",
       "mpl.figure.prototype.updated_canvas_event = function () {\n",
       "    // Tell IPython that the notebook contents must change.\n",
       "    IPython.notebook.set_dirty(true);\n",
       "    this.send_message('ack', {});\n",
       "    var fig = this;\n",
       "    // Wait a second, then push the new image to the DOM so\n",
       "    // that it is saved nicely (might be nice to debounce this).\n",
       "    setTimeout(function () {\n",
       "        fig.push_to_output();\n",
       "    }, 1000);\n",
       "};\n",
       "\n",
       "mpl.figure.prototype._init_toolbar = function () {\n",
       "    var fig = this;\n",
       "\n",
       "    var toolbar = document.createElement('div');\n",
       "    toolbar.classList = 'btn-toolbar';\n",
       "    this.root.appendChild(toolbar);\n",
       "\n",
       "    function on_click_closure(name) {\n",
       "        return function (_event) {\n",
       "            return fig.toolbar_button_onclick(name);\n",
       "        };\n",
       "    }\n",
       "\n",
       "    function on_mouseover_closure(tooltip) {\n",
       "        return function (event) {\n",
       "            if (!event.currentTarget.disabled) {\n",
       "                return fig.toolbar_button_onmouseover(tooltip);\n",
       "            }\n",
       "        };\n",
       "    }\n",
       "\n",
       "    fig.buttons = {};\n",
       "    var buttonGroup = document.createElement('div');\n",
       "    buttonGroup.classList = 'btn-group';\n",
       "    var button;\n",
       "    for (var toolbar_ind in mpl.toolbar_items) {\n",
       "        var name = mpl.toolbar_items[toolbar_ind][0];\n",
       "        var tooltip = mpl.toolbar_items[toolbar_ind][1];\n",
       "        var image = mpl.toolbar_items[toolbar_ind][2];\n",
       "        var method_name = mpl.toolbar_items[toolbar_ind][3];\n",
       "\n",
       "        if (!name) {\n",
       "            /* Instead of a spacer, we start a new button group. */\n",
       "            if (buttonGroup.hasChildNodes()) {\n",
       "                toolbar.appendChild(buttonGroup);\n",
       "            }\n",
       "            buttonGroup = document.createElement('div');\n",
       "            buttonGroup.classList = 'btn-group';\n",
       "            continue;\n",
       "        }\n",
       "\n",
       "        button = fig.buttons[name] = document.createElement('button');\n",
       "        button.classList = 'btn btn-default';\n",
       "        button.href = '#';\n",
       "        button.title = name;\n",
       "        button.innerHTML = '<i class=\"fa ' + image + ' fa-lg\"></i>';\n",
       "        button.addEventListener('click', on_click_closure(method_name));\n",
       "        button.addEventListener('mouseover', on_mouseover_closure(tooltip));\n",
       "        buttonGroup.appendChild(button);\n",
       "    }\n",
       "\n",
       "    if (buttonGroup.hasChildNodes()) {\n",
       "        toolbar.appendChild(buttonGroup);\n",
       "    }\n",
       "\n",
       "    // Add the status bar.\n",
       "    var status_bar = document.createElement('span');\n",
       "    status_bar.classList = 'mpl-message pull-right';\n",
       "    toolbar.appendChild(status_bar);\n",
       "    this.message = status_bar;\n",
       "\n",
       "    // Add the close button to the window.\n",
       "    var buttongrp = document.createElement('div');\n",
       "    buttongrp.classList = 'btn-group inline pull-right';\n",
       "    button = document.createElement('button');\n",
       "    button.classList = 'btn btn-mini btn-primary';\n",
       "    button.href = '#';\n",
       "    button.title = 'Stop Interaction';\n",
       "    button.innerHTML = '<i class=\"fa fa-power-off icon-remove icon-large\"></i>';\n",
       "    button.addEventListener('click', function (_evt) {\n",
       "        fig.handle_close(fig, {});\n",
       "    });\n",
       "    button.addEventListener(\n",
       "        'mouseover',\n",
       "        on_mouseover_closure('Stop Interaction')\n",
       "    );\n",
       "    buttongrp.appendChild(button);\n",
       "    var titlebar = this.root.querySelector('.ui-dialog-titlebar');\n",
       "    titlebar.insertBefore(buttongrp, titlebar.firstChild);\n",
       "};\n",
       "\n",
       "mpl.figure.prototype._remove_fig_handler = function (event) {\n",
       "    var fig = event.data.fig;\n",
       "    if (event.target !== this) {\n",
       "        // Ignore bubbled events from children.\n",
       "        return;\n",
       "    }\n",
       "    fig.close_ws(fig, {});\n",
       "};\n",
       "\n",
       "mpl.figure.prototype._root_extra_style = function (el) {\n",
       "    el.style.boxSizing = 'content-box'; // override notebook setting of border-box.\n",
       "};\n",
       "\n",
       "mpl.figure.prototype._canvas_extra_style = function (el) {\n",
       "    // this is important to make the div 'focusable\n",
       "    el.setAttribute('tabindex', 0);\n",
       "    // reach out to IPython and tell the keyboard manager to turn it's self\n",
       "    // off when our div gets focus\n",
       "\n",
       "    // location in version 3\n",
       "    if (IPython.notebook.keyboard_manager) {\n",
       "        IPython.notebook.keyboard_manager.register_events(el);\n",
       "    } else {\n",
       "        // location in version 2\n",
       "        IPython.keyboard_manager.register_events(el);\n",
       "    }\n",
       "};\n",
       "\n",
       "mpl.figure.prototype._key_event_extra = function (event, _name) {\n",
       "    // Check for shift+enter\n",
       "    if (event.shiftKey && event.which === 13) {\n",
       "        this.canvas_div.blur();\n",
       "        // select the cell after this one\n",
       "        var index = IPython.notebook.find_cell_index(this.cell_info[0]);\n",
       "        IPython.notebook.select(index + 1);\n",
       "    }\n",
       "};\n",
       "\n",
       "mpl.figure.prototype.handle_save = function (fig, _msg) {\n",
       "    fig.ondownload(fig, null);\n",
       "};\n",
       "\n",
       "mpl.find_output_cell = function (html_output) {\n",
       "    // Return the cell and output element which can be found *uniquely* in the notebook.\n",
       "    // Note - this is a bit hacky, but it is done because the \"notebook_saving.Notebook\"\n",
       "    // IPython event is triggered only after the cells have been serialised, which for\n",
       "    // our purposes (turning an active figure into a static one), is too late.\n",
       "    var cells = IPython.notebook.get_cells();\n",
       "    var ncells = cells.length;\n",
       "    for (var i = 0; i < ncells; i++) {\n",
       "        var cell = cells[i];\n",
       "        if (cell.cell_type === 'code') {\n",
       "            for (var j = 0; j < cell.output_area.outputs.length; j++) {\n",
       "                var data = cell.output_area.outputs[j];\n",
       "                if (data.data) {\n",
       "                    // IPython >= 3 moved mimebundle to data attribute of output\n",
       "                    data = data.data;\n",
       "                }\n",
       "                if (data['text/html'] === html_output) {\n",
       "                    return [cell, data, j];\n",
       "                }\n",
       "            }\n",
       "        }\n",
       "    }\n",
       "};\n",
       "\n",
       "// Register the function which deals with the matplotlib target/channel.\n",
       "// The kernel may be null if the page has been refreshed.\n",
       "if (IPython.notebook.kernel !== null) {\n",
       "    IPython.notebook.kernel.comm_manager.register_target(\n",
       "        'matplotlib',\n",
       "        mpl.mpl_figure_comm\n",
       "    );\n",
       "}\n"
      ],
      "text/plain": [
       "<IPython.core.display.Javascript object>"
      ]
     },
     "metadata": {},
     "output_type": "display_data"
    },
    {
     "data": {
      "text/html": [
       "<img src=\"data:image/png;base64,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\" width=\"1000\">"
      ],
      "text/plain": [
       "<IPython.core.display.HTML object>"
      ]
     },
     "metadata": {},
     "output_type": "display_data"
    },
    {
     "name": "stderr",
     "output_type": "stream",
     "text": [
      "/tmp/ipykernel_9427/2360536920.py:42: UserWarning: You have mixed positional and keyword arguments, some input may be discarded.\n",
      "  fig.legend([line,z], labels = [\"Predicted\", \"True\"], loc = \"lower center\")\n",
      "Epoch: 1:   0%|                                                                                                             | 1/10000 [00:05<16:35:41,  5.97s/it, lowest_loss=0.0093, pred_loss=7.24e-5, trigger=0]\n",
      "\n",
      "KeyboardInterrupt\n",
      "\n"
     ]
    }
   ],
   "source": [
    "n_epochs = 10000\n",
    "lr_model = 0.001\n",
    "lr_alignment = 0.001\n",
    "\n",
    "# if self.opt == \"Adam\":\n",
    "opt_model = torch.optim.Adam(model1.parameters(), lr = lr_model, weight_decay = 0)\n",
    "opt_alignment = torch.optim.Adam([soap_dataset.alignment], lr = lr_alignment, weight_decay = 0)\n",
    "# if valdata_loader is not None:\n",
    "#     threshold = 1000\n",
    "#     scheduler_threshold = 100\n",
    "# else:\n",
    "threshold = 1000\n",
    "scheduler_threshold = 100\n",
    "tol = 1e-4\n",
    "# if self.opt == \"LBFGS\":\n",
    "#     opt = torch.optim.LBFGS(self.parameters(), lr = lr, line_search_fn = \"strong_wolfe\")\n",
    "#     if valdata_loader is not None:\n",
    "#         threshold = 2000\n",
    "#         scheduler_threshold = 2000\n",
    "#     else:\n",
    "#         threshold = 30\n",
    "#         scheduler_threshold = 5\n",
    "#     tol = 1e-4\n",
    "scheduler_model = torch.optim.lr_scheduler.ReduceLROnPlateau(opt_model, factor = 0.1, patience = scheduler_threshold)#0.5)\n",
    "scheduler_alignment = torch.optim.lr_scheduler.ReduceLROnPlateau(opt_alignment, factor = 0.1, patience = scheduler_threshold)\n",
    "best_state = copy.deepcopy(model1.state_dict())\n",
    "lowest_loss = torch.tensor(9999)\n",
    "pred_loss = torch.tensor(0)\n",
    "trigger = 0\n",
    "loss_history =[]\n",
    "pbar = tqdm(range(n_epochs))\n",
    "\n",
    "fig, ax_list = plt.subplots(4,2)\n",
    "ax_list = ax_list.flatten()\n",
    "lines = []\n",
    "critical_indexes = np.arange(8)\n",
    "#critical_indexes = np.array([369, 341, 745, 521, 278, 5, 193, 37])\n",
    "for i in range(len(critical_indexes)):\n",
    "    line, = ax_list[i].plot(model1.xdos.cpu(), reconstructed_ldos_t[train_index[critical_indexes[i]]], label = \"Prediction\")\n",
    "    lines.append(line)\n",
    "    z = ax_list[i].plot(model1.xdos.cpu(), reconstructed_ldos_t[train_index[critical_indexes[i]]], label = \"True\")\n",
    "fig.legend([line,z], labels = [\"Predicted\", \"True\"], loc = \"lower center\")\n",
    "for epoch in pbar:\n",
    "    total_error = 0\n",
    "    pbar.set_description(f\"Epoch: {epoch}\")\n",
    "#     if valdata_loader is not None:\n",
    "#         pbar.set_postfix(val_loss = lowest_loss.item(), trigger = trigger, train_loss = pred_loss.item())\n",
    "#     else:\n",
    "    pbar.set_postfix(pred_loss = pred_loss.item(), lowest_loss = lowest_loss.item(), trigger = trigger)\n",
    "\n",
    "    for x_data, y_data in soap_dataloader:\n",
    "        opt_model.zero_grad()\n",
    "        opt_alignment.zero_grad()\n",
    "        x_data, y_data = x_data.to(model1.device), y_data.to(model1.device)\n",
    "#         if self.opt == \"LBFGS\":\n",
    "#             def closure(predictions = False):\n",
    "#                 \"\"\"\n",
    "#                 Function is necessary for LBFGS, returns the total loss of the model\n",
    "\n",
    "#                 Args:\n",
    "#                     predictions (bool, optional): Returns prediction loss if true, returns total loss if False\n",
    "\n",
    "#                 Returns:\n",
    "#                     tensor: Loss\n",
    "#                 \"\"\"\n",
    "#                 opt.zero_grad()\n",
    "#                 _pred = self.forward(x_data)\n",
    "#                 _pred_loss = t_get_mse(_pred, y_data)#, self.xdos), perc = True)       \n",
    "#                 _pred_loss *= 1e7\n",
    "#                 #self.alignment = (self.alignment - 20) * (self.xdos[1] - self.xdos[0])\n",
    "#                 _pred_loss = torch.nan_to_num(_pred_loss, nan=lowest_loss.item(), posinf = lowest_loss.item(), neginf = lowest_loss.item())                 \n",
    "#                 _reg_loss = torch.sum(torch.pow(self.linear.weight,2))\n",
    "#                 _reg_loss *= self.reg.item()\n",
    "#                 _new_loss = _pred_loss + _reg_loss\n",
    "#                 _new_loss.backward()\n",
    "#                 # global z \n",
    "#                 # z = (torch.sum(abs(self.linear.weight.grad)))\n",
    "#                 if predictions:\n",
    "#                     return _pred_loss\n",
    "#                 return _new_loss\n",
    "#             opt.step(closure)\n",
    "#             #print (z)\n",
    "#             with torch.no_grad():\n",
    "#                 pred = self.forward(x_data)\n",
    "#                 pred_loss = t_get_rmse(pred, y_data)\n",
    "#                 reg_loss = torch.sum(torch.pow(self.linear.weight,2))\n",
    "#                 reg_loss *= self.reg.item()\n",
    "#                 new_loss = pred_loss + reg_loss\n",
    "#             if pred_loss >100000 or (pred_loss.isnan().any()) :\n",
    "#                 print (\"Optimizer shows weird behaviour, reinitializing at previous best_State\")\n",
    "#                 self.load_state_dict(best_state)\n",
    "#                 opt = torch.optim.LBFGS(self.parameters(), lr = lr)\n",
    "#             if epoch %10 == 1:\n",
    "#                 loss_history.append(lowest_loss.item())\n",
    "#         elif self.opt == \"Adam\":\n",
    "        pred = model1.forward(x_data)\n",
    "\n",
    "    \n",
    "        pred_loss = loss.t_get_mse(pred, y_data)#, self.xdos, perc = True)\n",
    "        total_error += pred_loss\n",
    "        new_loss = 1E7 * pred_loss\n",
    "        new_loss.backward()\n",
    "        opt_model.step()\n",
    "        opt_alignment.step()\n",
    "        if pred_loss >100000 or (pred_loss.isnan().any()) :\n",
    "            print (\"Optimizer shows weird behaviour, reinitializing at previous best_State\")\n",
    "            model1.load_state_dict(best_state)\n",
    "            opt = torch.optim.Adam(model1.parameters(), lr = lr, weight_decay = 0)\n",
    "\n",
    "    with torch.no_grad():\n",
    "        critical_pred = model1.forward(soap_dataset.X[critical_indexes])\n",
    "        new_loss = total_error\n",
    "        scheduler_model.step(new_loss)\n",
    "        scheduler_alignment.step(new_loss)\n",
    "        if lowest_loss - new_loss > tol: #threshold to stop training\n",
    "            best_state = copy.deepcopy(model1.state_dict())\n",
    "            lowest_loss = new_loss\n",
    "            trigger = 0\n",
    "        else:\n",
    "            trigger +=1\n",
    "        if epoch %1000 == 1:\n",
    "            loss_history.append(lowest_loss.item())\n",
    "        for i in range(len(critical_indexes)):\n",
    "            lines[i].set_ydata(critical_pred[i].detach().numpy())\n",
    "        fig.suptitle(\"Epochs: {}, Pred loss: {}, Lowest loss:{}, Trigger: {}\".format(epoch, new_loss.item(), lowest_loss.item(), trigger))\n",
    "        fig.canvas.draw()\n",
    "        fig.canvas.flush_events()\n",
    "\n",
    "        if trigger > threshold:\n",
    "            model1.load_state_dict(best_state)\n",
    "            print (\"Implemented early stopping with lowest_loss: {}\".format(lowest_loss))\n",
    "            break\n"
   ]
  },
  {
   "cell_type": "code",
   "execution_count": null,
   "id": "257b5503",
   "metadata": {
    "ExecuteTime": {
     "end_time": "2023-02-22T16:46:45.803205Z",
     "start_time": "2023-02-22T16:46:45.803187Z"
    }
   },
   "outputs": [],
   "source": [
    "# torch.save(model1.state_dict(), \"./DynamicAdam.pt\")"
   ]
  },
  {
   "cell_type": "code",
   "execution_count": null,
   "id": "14acf164",
   "metadata": {
    "ExecuteTime": {
     "end_time": "2023-02-22T16:46:45.805129Z",
     "start_time": "2023-02-22T16:46:45.805112Z"
    }
   },
   "outputs": [],
   "source": [
    "# torch.save(soap_dataset.alignment, \"./DynamicAdam_trainalignment\")"
   ]
  },
  {
   "cell_type": "code",
   "execution_count": 18,
   "id": "510f86eb",
   "metadata": {
    "ExecuteTime": {
     "end_time": "2023-02-22T16:46:59.731556Z",
     "start_time": "2023-02-22T16:46:59.724395Z"
    }
   },
   "outputs": [
    {
     "data": {
      "text/plain": [
       "<module 'dostools.loss.loss' from '/home/how/dostools/src/dostools/loss/loss.py'>"
      ]
     },
     "execution_count": 18,
     "metadata": {},
     "output_type": "execute_result"
    }
   ],
   "source": [
    "import dostools.loss.loss as loss\n",
    "importlib.reload(loss)\n",
    "#t_get_BF_shift_index_error\n",
    "# importlib.reload(loss)\n",
    "# with torch.no_grad():\n",
    "#     shift_range = torch.tensor([0.05 * a for a in torch.arange(-5,5)])\n",
    "#     #shift_range = torch.tensor([0])\n",
    "#     a = loss.t_get_BF_shift_rmse(reconstructed_ldos_t, ldos, shift_range, xdos, perc = True)\n",
    "#     print (a)"
   ]
  },
  {
   "cell_type": "code",
   "execution_count": 23,
   "id": "1632414e",
   "metadata": {
    "ExecuteTime": {
     "end_time": "2023-02-22T16:47:40.497969Z",
     "start_time": "2023-02-22T16:47:36.538364Z"
    }
   },
   "outputs": [],
   "source": [
    "_, new_dos = soap_dataset[:]"
   ]
  },
  {
   "cell_type": "code",
   "execution_count": 28,
   "id": "d3a24d24",
   "metadata": {
    "ExecuteTime": {
     "end_time": "2023-02-22T16:48:12.026545Z",
     "start_time": "2023-02-22T16:48:03.018889Z"
    }
   },
   "outputs": [],
   "source": [
    "with torch.no_grad():\n",
    "    shift_range = torch.tensor([0.05 * a for a in torch.arange(-30,30)])\n",
    "    Total_preds = model1.forward(Silicon.Features['structure_avedescriptors'])\n",
    "    train_loss, train_indexes = loss.t_get_BF_shift_index_error(Total_preds[train_index], ldos[train_index], shift_range, xdos, perc = False)\n",
    "    test_loss, test_indexes = loss.t_get_BF_shift_index_error(Total_preds[test_index], ldos[test_index], shift_range, xdos, perc = False)\n",
    "    total_loss, total_indexes = loss.t_get_BF_shift_index_error(Total_preds, ldos, shift_range, xdos, perc = False)"
   ]
  },
  {
   "cell_type": "code",
   "execution_count": 29,
   "id": "18b49bc5",
   "metadata": {
    "ExecuteTime": {
     "end_time": "2023-02-22T16:48:21.649750Z",
     "start_time": "2023-02-22T16:48:12.028996Z"
    }
   },
   "outputs": [],
   "source": [
    "with torch.no_grad():\n",
    "    shift_range = torch.tensor([0.05 * a for a in torch.arange(-30,30)])\n",
    "    Total_preds = model1.forward(Silicon.Features['structure_avedescriptors'])\n",
    "    atrain_loss, atrain_indexes = loss.t_get_BF_shift_index_error(Total_preds[train_index], ldos[train_index], shift_range, xdos, perc = True)\n",
    "    atest_loss, atest_indexes = loss.t_get_BF_shift_index_error(Total_preds[test_index], ldos[test_index], shift_range, xdos, perc = True)\n",
    "    atotal_loss, atotal_indexes = loss.t_get_BF_shift_index_error(Total_preds, ldos, shift_range, xdos, perc = True)"
   ]
  },
  {
   "cell_type": "code",
   "execution_count": 21,
   "id": "48c2ce2d",
   "metadata": {
    "ExecuteTime": {
     "end_time": "2023-02-22T16:47:21.617393Z",
     "start_time": "2023-02-22T16:47:18.298168Z"
    }
   },
   "outputs": [],
   "source": [
    "train_loss_abs, train_indexes_abs = loss.t_get_BF_shift_index_error(Total_preds[train_index], ldos[train_index], shift_range, xdos, perc = False)"
   ]
  },
  {
   "cell_type": "code",
   "execution_count": 30,
   "id": "11fdb462",
   "metadata": {
    "ExecuteTime": {
     "end_time": "2023-02-22T16:48:24.158864Z",
     "start_time": "2023-02-22T16:48:24.139333Z"
    }
   },
   "outputs": [
    {
     "name": "stdout",
     "output_type": "stream",
     "text": [
      "tensor(0.0541, grad_fn=<SqrtBackward0>)\n"
     ]
    }
   ],
   "source": [
    "z = loss.t_get_rmse(Total_preds[train_index], new_dos, xdos, perc = False)\n",
    "print (z)"
   ]
  },
  {
   "cell_type": "code",
   "execution_count": 31,
   "id": "1d244485",
   "metadata": {
    "ExecuteTime": {
     "end_time": "2023-02-22T16:48:25.101632Z",
     "start_time": "2023-02-22T16:48:25.092940Z"
    }
   },
   "outputs": [
    {
     "name": "stdout",
     "output_type": "stream",
     "text": [
      "tensor(0.1019)\n"
     ]
    }
   ],
   "source": [
    "z = loss.t_get_rmse(Total_preds[train_index], ldos[train_index], xdos, perc = False)\n",
    "print (z)"
   ]
  },
  {
   "cell_type": "code",
   "execution_count": 32,
   "id": "19592e87",
   "metadata": {
    "ExecuteTime": {
     "end_time": "2023-02-22T16:48:26.600812Z",
     "start_time": "2023-02-22T16:48:26.593808Z"
    }
   },
   "outputs": [
    {
     "data": {
      "text/plain": [
       "tensor(0.0559)"
      ]
     },
     "execution_count": 32,
     "metadata": {},
     "output_type": "execute_result"
    }
   ],
   "source": [
    "train_loss"
   ]
  },
  {
   "cell_type": "code",
   "execution_count": 33,
   "id": "4c0d7edc",
   "metadata": {
    "ExecuteTime": {
     "end_time": "2023-02-22T16:48:27.711959Z",
     "start_time": "2023-02-22T16:48:27.688450Z"
    }
   },
   "outputs": [],
   "source": [
    "mldos = ldos[train_index].mean(axis = 0)\n",
    "std_train = torch.sqrt((torch.trapezoid((ldos[train_index] - mldos)**2, xdos, axis=1)).mean())\n",
    "mldos = ldos[test_index].mean(axis = 0)\n",
    "std_test = torch.sqrt((torch.trapezoid((ldos[test_index] - mldos)**2, xdos, axis=1)).mean())\n",
    "mldos = ldos.mean(axis = 0)\n",
    "std_all = torch.sqrt((torch.trapezoid((ldos - mldos)**2, xdos, axis=1)).mean())"
   ]
  },
  {
   "cell_type": "code",
   "execution_count": 34,
   "id": "8ee76929",
   "metadata": {
    "ExecuteTime": {
     "end_time": "2023-02-22T16:48:28.120404Z",
     "start_time": "2023-02-22T16:48:28.114134Z"
    }
   },
   "outputs": [
    {
     "data": {
      "text/plain": [
       "tensor(0.0559)"
      ]
     },
     "execution_count": 34,
     "metadata": {},
     "output_type": "execute_result"
    }
   ],
   "source": [
    "train_loss"
   ]
  },
  {
   "cell_type": "code",
   "execution_count": 35,
   "id": "a653c990",
   "metadata": {
    "ExecuteTime": {
     "end_time": "2023-02-22T16:48:28.531781Z",
     "start_time": "2023-02-22T16:48:28.526304Z"
    }
   },
   "outputs": [
    {
     "data": {
      "text/plain": [
       "tensor(0.0559)"
      ]
     },
     "execution_count": 35,
     "metadata": {},
     "output_type": "execute_result"
    }
   ],
   "source": [
    "train_loss"
   ]
  },
  {
   "cell_type": "code",
   "execution_count": 36,
   "id": "8a4935db",
   "metadata": {
    "ExecuteTime": {
     "end_time": "2023-02-22T16:48:29.235449Z",
     "start_time": "2023-02-22T16:48:29.228342Z"
    }
   },
   "outputs": [
    {
     "data": {
      "text/plain": [
       "tensor(9.5086)"
      ]
     },
     "execution_count": 36,
     "metadata": {},
     "output_type": "execute_result"
    }
   ],
   "source": [
    "100 * train_loss / std_train"
   ]
  },
  {
   "cell_type": "code",
   "execution_count": 37,
   "id": "9bedc190",
   "metadata": {
    "ExecuteTime": {
     "end_time": "2023-02-22T16:48:31.790964Z",
     "start_time": "2023-02-22T16:48:31.786409Z"
    }
   },
   "outputs": [
    {
     "data": {
      "text/plain": [
       "tensor(9.5086)"
      ]
     },
     "execution_count": 37,
     "metadata": {},
     "output_type": "execute_result"
    }
   ],
   "source": [
    "atrain_loss"
   ]
  },
  {
   "cell_type": "code",
   "execution_count": 38,
   "id": "7f93b8fa",
   "metadata": {
    "ExecuteTime": {
     "end_time": "2023-02-22T16:48:32.282170Z",
     "start_time": "2023-02-22T16:48:32.269348Z"
    }
   },
   "outputs": [
    {
     "data": {
      "text/plain": [
       "tensor([  5.0000,  -1.0000,  -4.0000,  -1.0000,   1.0000,  -4.0000,   0.0000,\n",
       "          2.0000,  -1.0000,  -2.0000,  -1.0000,  -6.0000,  -1.0000,  -1.0000,\n",
       "          2.0000,  -1.0000,  -1.0000,  -1.0000,   1.0000,   2.0000,   4.0000,\n",
       "          4.0000,   2.0000,   2.0000,   2.0000,   2.0000,   1.0000,   0.0000,\n",
       "         -5.0000,  -2.0000,   1.0000,   1.0000,   3.0000,  -1.0000,  -1.0000,\n",
       "         -1.0000,   2.0000,   1.0000,  -1.0000,   1.0000,  -2.0000,   0.0000,\n",
       "         -2.0000,  -1.0000,   4.0000,  -1.0000,   2.0000,   5.0000,   4.0000,\n",
       "          3.0000,  -1.0000,  -4.0000,   1.0000,   1.0000,  -1.0000,  -4.0000,\n",
       "          1.0000,   1.0000,   3.0000,   2.0000,   2.0000,   2.0000,  -1.0000,\n",
       "          0.0000,  -1.0000,  -3.0000,  -1.0000,   0.0000,  -1.0000,   0.0000,\n",
       "          2.0000,  -1.0000,   1.0000,   1.0000,   2.0000,   2.0000,   4.0000,\n",
       "          1.0000,   0.0000,   1.0000,   0.0000,   0.0000,  -2.0000,  -7.0000,\n",
       "          2.0000,   1.0000,   2.0000,   4.0000,  -1.0000,   2.0000,   1.0000,\n",
       "          1.0000,   2.0000,   0.0000,   1.0000,  -1.0000,  -4.0000,  -8.0000,\n",
       "         -1.0000,   1.0000,   1.0000,   1.0000,  -6.0000,  -4.0000,  -1.0000,\n",
       "          0.0000,   2.0000,   3.0000,   2.0000,   5.0000,  -1.0000,   2.0000,\n",
       "          1.0000,  -1.0000,  -2.0000,   1.0000,  -1.0000,   2.0000,   1.0000,\n",
       "         -1.0000,  -1.0000,   0.0000,   1.0000,   0.0000,   2.0000,   1.0000,\n",
       "          0.0000,   0.0000,  -1.0000,  -1.0000,  -2.0000,  -1.0000,  -1.0000,\n",
       "         -1.0000,  -1.0000,  -1.0000,   0.0000,  -1.0000,   2.0000,  -3.0000,\n",
       "         -2.0000,  -1.0000,  -1.0000,  -1.0000,  -3.0000,  -2.0000,  -2.0000,\n",
       "          2.0000,  -3.0000,  -2.0000,  -1.0000,   2.0000,   2.0000,  -1.0000,\n",
       "          4.0000,   1.0000,  -1.0000,   0.0000,  -1.0000,   1.0000,   1.0000,\n",
       "          2.0000,   0.0000,  -1.0000,   3.0000,   1.0000,  -1.0000,  -3.0000,\n",
       "         -2.0000,   1.0000,   2.0000,  -1.0000,  -1.0000,   0.0000,   0.0000,\n",
       "         -1.0000,   2.0000,   0.0000,   2.0000,   0.0000,   1.0000,  -1.0000,\n",
       "         -1.0000,  -3.0000,  -1.0000,   1.0000,   1.0000,  -1.0000,   0.0000,\n",
       "          2.0000,   1.0000,   1.0000,   0.0000,  -1.0000,   0.0000,   2.0000,\n",
       "         -1.0000,   0.0000,  -1.0000,   1.0000,   1.0000,  -2.0000,   2.0000,\n",
       "          1.0000,   2.0000,  -1.0000,   1.0000,   0.0000,   4.0000,   1.0000,\n",
       "         -1.0000,  -4.0000,  -1.0000,   2.0000,  -1.0000,   0.0000,  -8.0000,\n",
       "          1.0000,   6.0000,   0.0000,  -1.0000,  -1.0000,   0.0000,  -1.0000,\n",
       "          1.0000,   2.0000,   1.0000,   2.0000,   0.0000,  -1.0000,   5.0000,\n",
       "          3.0000,   0.0000,   1.0000,   0.0000,   1.0000,  -1.0000,   2.0000,\n",
       "         -1.0000,   1.0000,   5.0000,   3.0000,   1.0000,   2.0000,   2.0000,\n",
       "         -2.0000,   2.0000,   0.0000,  -1.0000,  -1.0000,  -1.0000,   4.0000,\n",
       "          0.0000,   1.0000,  -1.0000,  -1.0000,   1.0000,   2.0000,   0.0000,\n",
       "        -15.0000,   0.0000,  -5.0000,   2.0000,  -1.0000,   0.0000,   1.0000,\n",
       "          1.0000,  -2.0000,  -1.0000,   2.0000, -10.0000,   1.0000,  -2.0000,\n",
       "         -5.0000,   1.0000,   1.0000,   1.0000,  -4.0000,  -3.0000,   5.0000,\n",
       "         -1.0000,  -1.0000,   1.0000,   0.0000,  -1.0000,   5.0000,  -2.0000,\n",
       "          0.0000,   1.0000,   1.0000,   0.0000,  -1.0000,  -2.0000,   3.0000,\n",
       "         -2.0000,   1.0000,   0.0000,   6.0000,  -1.0000,   0.0000,   0.0000,\n",
       "         -3.0000,   0.0000,   2.0000,   2.0000,  -2.0000,   1.0000,  -1.0000,\n",
       "          2.0000,  -1.0000,   1.0000,   1.0000,  -8.0000,  -1.0000,   0.0000,\n",
       "          0.0000,  -1.0000,   1.0000,   3.0000,  -1.0000,   2.0000,   0.0000,\n",
       "         -1.0000,   0.0000,  -3.0000,   0.0000,   1.0000,   0.0000,   1.0000,\n",
       "          0.0000,   0.0000,   2.0000,   2.0000,   3.0000,  -3.0000,  -4.0000,\n",
       "          1.0000,   1.0000,  -1.0000,   3.0000,   0.0000,  -3.0000,  -1.0000,\n",
       "          2.0000,   1.0000,   2.0000,   0.0000,   0.0000,  -3.0000,   0.0000,\n",
       "          1.0000,  -1.0000,  -3.0000,   5.0000,  -3.0000,  -1.0000,   1.0000,\n",
       "         -1.0000,   0.0000,   4.0000,  -1.0000,  -1.0000,  -1.0000,   1.0000,\n",
       "         -1.0000,  -1.0000,  -1.0000,   1.0000,   1.0000,  -5.0000,  -1.0000,\n",
       "          0.0000,   2.0000,   1.0000,   3.0000,  -1.0000,   0.0000,   1.0000,\n",
       "          1.0000,   2.0000,  -2.0000,   3.0000,   2.0000,   2.0000, -19.0000,\n",
       "          3.0000,  -1.0000,   0.0000,   2.0000,  -1.0000,  -3.0000,   1.0000,\n",
       "          1.0000,   1.0000,   0.0000,  -1.0000,  -2.0000,   1.0000,  -1.0000,\n",
       "         -5.0000,   2.0000,   4.0000,   1.0000,   1.0000,   0.0000,  -5.0000,\n",
       "          0.0000,   0.0000,  -1.0000,  -7.0000,  -2.0000,  -1.0000,   0.0000,\n",
       "          1.0000,   1.0000,   1.0000,   3.0000,  -2.0000,   0.0000,   2.0000,\n",
       "         -1.0000,  -4.0000,  -1.0000, -19.0000,   1.0000,   1.0000,   1.0000,\n",
       "          1.0000,   1.0000,   1.0000,   1.0000,  -3.0000,  -1.0000,   2.0000,\n",
       "         -1.0000,   2.0000,  -1.0000,   0.0000,   2.0000,  -1.0000,  -1.0000,\n",
       "          3.0000,   2.0000,  -3.0000,   2.0000,  -1.0000,   0.0000,   0.0000,\n",
       "          1.0000,  -1.0000,   3.0000,   5.0000,   2.0000,  -1.0000,   2.0000,\n",
       "         -5.0000,   1.0000,   2.0000,   2.0000,   0.0000,   1.0000,  -2.0000,\n",
       "         -1.0000,   1.0000,   0.0000,   1.0000,   1.0000,   0.0000,   1.0000,\n",
       "         -1.0000,   6.0000,   1.0000, -14.0000,   2.0000,  -1.0000,   1.0000,\n",
       "         -1.0000,  -1.0000,   2.0000,   2.0000,   2.0000,  -1.0000,   3.0000,\n",
       "          0.0000,  -2.0000,  -3.0000,   0.0000,  -1.0000,  -2.0000,   2.0000,\n",
       "          5.0000,   2.0000,  -1.0000,   1.0000,   0.0000,   1.0000,  -5.0000,\n",
       "          2.0000,   1.0000,  -1.0000,   4.0000,   1.0000,   0.0000,  -1.0000,\n",
       "         -1.0000,   1.0000,   0.0000,   1.0000,   1.0000,   2.0000,  -2.0000,\n",
       "         -1.0000,  -1.0000,   2.0000,  -1.0000,  -5.0000,  -1.0000,   3.0000,\n",
       "          1.0000,  -3.0000, -10.0000,   0.0000,   4.0000,  -3.0000,   0.0000,\n",
       "          2.0000,   0.0000,   0.0000,   0.0000,  -1.0000,   1.0000,   2.0000,\n",
       "         -5.0000,   1.0000,   1.0000,   0.0000,   1.0000,  -1.0000,  -1.0000,\n",
       "          2.0000,   3.0000,   1.0000,   2.0000,   2.0000,   1.0000,  -1.0000,\n",
       "          1.0000,  -7.0000,   3.0000,   1.0000,  -3.0000,  -5.0000,  -1.0000,\n",
       "          2.0000,   3.0000,   1.0000,   1.0000,  -1.0000,   2.0000,   4.0000,\n",
       "          0.0000,  -2.0000,   0.0000, -16.0000,  -3.0000,   0.0000,   1.0000,\n",
       "          0.0000,   3.0000,  -1.0000,   1.0000,   1.0000,   1.0000,   1.0000,\n",
       "        -17.0000,  -1.0000,   0.0000,  -1.0000,   1.0000,  -5.0000,   3.0000,\n",
       "          5.0000,   3.0000,  -9.0000,  -1.0000,  -1.0000,  -1.0000,  -1.0000,\n",
       "         -1.0000,  -1.0000,  -1.0000,  -8.0000,  -1.0000,  -8.0000,   2.0000,\n",
       "         -1.0000,   1.0000,   0.0000,  -2.0000,   1.0000,   0.0000,   0.0000,\n",
       "          3.0000,  -1.0000,   2.0000,   2.0000,   3.0000,  -1.0000,  -1.0000,\n",
       "          0.0000,   3.0000,   3.0000,   1.0000,  -1.0000,   0.0000,  -1.0000,\n",
       "          1.0000,   0.0000,   0.0000,   2.0000,   2.0000,   2.0000, -18.0000,\n",
       "          1.0000,  -2.0000,  -1.0000,  -1.0000,  -2.0000,   1.0000,   2.0000,\n",
       "          1.0000,   1.0000,  -1.0000,  -1.0000,   1.0000,  -1.0000,   1.0000,\n",
       "          1.0000,  -2.0000,  -1.0000,  -1.0000,   2.0000,   2.0000,   1.0000,\n",
       "         -5.0000,  -1.0000,  -1.0000,   0.0000,   1.0000,  -1.0000,   0.0000,\n",
       "          0.0000,   2.0000,   2.0000,   1.0000,  -1.0000,   0.0000,  -1.0000,\n",
       "          2.0000,  -1.0000,  -6.0000,  -1.0000,   5.0000,   1.0000,   0.0000,\n",
       "         -1.0000,  -1.0000,  -1.0000,   2.0000,   1.0000,   2.0000,  -2.0000,\n",
       "         -1.0000,   2.0000,   2.0000,   1.0000,  -2.0000,  -3.0000,   1.0000,\n",
       "          2.0000,  -2.0000,   3.0000,   2.0000,   1.0000,   4.0000,  -1.0000,\n",
       "          0.0000,   2.0000,   2.0000,   2.0000,   1.0000,  -1.0000,   0.0000,\n",
       "         -1.0000,   1.0000,   1.0000,   5.0000,   2.0000,  -1.0000,   1.0000,\n",
       "          4.0000,   1.0000,   2.0000,   1.0000,   0.0000,   2.0000,   2.0000,\n",
       "          0.0000,   1.0000,  -1.0000,   1.0000,  -1.0000,  -6.0000,   2.0000,\n",
       "         -3.0000,  -1.0000,  -1.0000,  -1.0000,   5.0000,   1.0000,   6.0000,\n",
       "          1.0000,   0.0000,   0.0000,   1.0000,   0.0000,  -1.0000,   2.0000,\n",
       "          3.0000,  -2.0000,   2.0000,   1.0000,  -4.0000,   0.0000,   1.0000,\n",
       "          2.0000,  -2.0000,   1.0000,   4.0000,   1.0000,  -1.0000,   1.0000,\n",
       "          1.0000,   1.0000,  -6.0000,   0.0000,   2.0000,  -1.0000,   2.0000,\n",
       "         -1.0000,   1.0000,   3.0000,   0.0000,  -1.0000,  -1.0000,  -1.0000,\n",
       "         -2.0000,   1.0000,   0.0000,  -1.0000,  -2.0000,   0.0000,  -5.0000,\n",
       "          2.0000,  -2.0000,   1.0000,   1.0000,   1.0000,   2.0000,   0.0000,\n",
       "          1.0000,  -1.0000,   0.0000,  -1.0000,  -3.0000,   1.0000,   2.0000,\n",
       "          2.0000,   2.0000,  -1.0000,  -1.0000,   0.0000,   5.0000,   0.0000,\n",
       "          2.0000,  -1.0000,   1.0000,   4.0000,  -1.0000,  -1.0000,   2.0000,\n",
       "         -1.0000,   3.0000,   0.0000,  -3.0000,  -1.0000,   0.0000,  -1.0000,\n",
       "          0.0000,   1.0000,  -1.0000,   0.0000,   1.0000,  -1.0000,  -1.0000,\n",
       "          0.0000,  -2.0000,   2.0000,   0.0000,   0.0000,   0.0000,   3.0000,\n",
       "        -10.0000,   3.0000,   1.0000,   0.0000,   0.0000,   2.0000,   2.0000,\n",
       "         -2.0000,   0.0000,   2.0000,  -1.0000,  -1.0000,   2.0000,  -2.0000,\n",
       "          1.0000,  -6.0000,   4.0000,   1.0000,   1.0000])"
      ]
     },
     "execution_count": 38,
     "metadata": {},
     "output_type": "execute_result"
    }
   ],
   "source": [
    "shift_range[train_indexes.long()]/0.05"
   ]
  },
  {
   "cell_type": "code",
   "execution_count": 39,
   "id": "b7463361",
   "metadata": {
    "ExecuteTime": {
     "end_time": "2023-02-22T16:48:32.595247Z",
     "start_time": "2023-02-22T16:48:32.588893Z"
    }
   },
   "outputs": [
    {
     "data": {
      "text/plain": [
       "tensor(10.3370)"
      ]
     },
     "execution_count": 39,
     "metadata": {},
     "output_type": "execute_result"
    }
   ],
   "source": [
    "100 * test_loss / std_test"
   ]
  },
  {
   "cell_type": "code",
   "execution_count": 40,
   "id": "316ef06b",
   "metadata": {
    "ExecuteTime": {
     "end_time": "2023-02-22T16:48:33.093062Z",
     "start_time": "2023-02-22T16:48:33.088616Z"
    }
   },
   "outputs": [
    {
     "data": {
      "text/plain": [
       "tensor(10.3370)"
      ]
     },
     "execution_count": 40,
     "metadata": {},
     "output_type": "execute_result"
    }
   ],
   "source": [
    "atest_loss"
   ]
  },
  {
   "cell_type": "code",
   "execution_count": 41,
   "id": "6bd935a2",
   "metadata": {
    "ExecuteTime": {
     "end_time": "2023-02-22T16:48:33.446991Z",
     "start_time": "2023-02-22T16:48:33.440510Z"
    }
   },
   "outputs": [
    {
     "data": {
      "text/plain": [
       "tensor([ -1.0000,  -1.0000,   2.0000,   2.0000,   3.0000,   0.0000,   2.0000,\n",
       "          3.0000,   2.0000,   2.0000,   2.0000,  -1.0000,  -3.0000,   0.0000,\n",
       "          2.0000,   3.0000,   0.0000,  -1.0000,  -1.0000,  -1.0000,  -1.0000,\n",
       "          1.0000,  -1.0000,   0.0000,   1.0000,  -1.0000,  -2.0000,   1.0000,\n",
       "          0.0000,  -1.0000,  -2.0000,  -1.0000,  -4.0000,   2.0000,  -1.0000,\n",
       "          1.0000,  -2.0000,  -3.0000,   3.0000,   1.0000,   2.0000,   1.0000,\n",
       "        -11.0000,   0.0000,   1.0000,  -2.0000,  -1.0000,   2.0000,   1.0000,\n",
       "          2.0000,  -3.0000,  -3.0000,   0.0000,   5.0000,  -1.0000,   0.0000,\n",
       "         -3.0000,  -1.0000,   1.0000,   1.0000,   0.0000,   0.0000,  -1.0000,\n",
       "          1.0000,   2.0000,   0.0000,   2.0000,   0.0000,   2.0000,   4.0000,\n",
       "          0.0000,   2.0000,  -4.0000,  -4.0000,   3.0000,  -1.0000,   2.0000,\n",
       "         -1.0000,   2.0000,   2.0000,  -1.0000,   2.0000,  -1.0000,   1.0000,\n",
       "         -4.0000,   2.0000,  -3.0000,   1.0000,  -1.0000,  -1.0000,  -1.0000,\n",
       "         -1.0000,   0.0000,  -1.0000,  -1.0000,   1.0000,  -2.0000,   2.0000,\n",
       "          1.0000,   1.0000,   2.0000,  -3.0000,   2.0000,  -1.0000,  -7.0000,\n",
       "         -1.0000,  -1.0000,  -1.0000,   0.0000,   6.0000,   3.0000,  -1.0000,\n",
       "          1.0000,   0.0000,   3.0000,   1.0000,  -2.0000,  -1.0000,  -8.0000,\n",
       "          1.0000,  -2.0000,  -2.0000,   2.0000,  -1.0000,   2.0000,  -4.0000,\n",
       "          1.0000,  -1.0000,  -4.0000,  -1.0000,   2.0000,  -1.0000,   3.0000,\n",
       "         -1.0000,  -1.0000,  -2.0000,  -1.0000,  -1.0000,  -1.0000,  -1.0000,\n",
       "          1.0000,   2.0000,   0.0000,  -3.0000,   1.0000,  -1.0000,  -2.0000,\n",
       "          0.0000,   1.0000,   2.0000,   0.0000,   1.0000,  -1.0000,   1.0000,\n",
       "          3.0000,  -1.0000,   3.0000,   1.0000,  -1.0000,   0.0000,   1.0000,\n",
       "         -1.0000,   2.0000,  -1.0000,  -1.0000,   2.0000,   2.0000,   2.0000,\n",
       "         -1.0000,  -2.0000,   1.0000,  -2.0000,   2.0000,  -1.0000,   2.0000,\n",
       "          6.0000,  -1.0000,   1.0000,   1.0000,   0.0000,  -8.0000,  -1.0000,\n",
       "          0.0000,   2.0000,  -1.0000,  -1.0000,   0.0000,   2.0000,   4.0000,\n",
       "         -1.0000,  -1.0000,  -2.0000,  -1.0000,   2.0000,  -1.0000,   1.0000,\n",
       "         -5.0000,   2.0000,  -1.0000,  -1.0000,   3.0000,   2.0000,  -2.0000,\n",
       "          1.0000,   0.0000,  -1.0000,   2.0000,  -1.0000])"
      ]
     },
     "execution_count": 41,
     "metadata": {},
     "output_type": "execute_result"
    }
   ],
   "source": [
    "shift_range[test_indexes.long()]/0.05"
   ]
  },
  {
   "cell_type": "code",
   "execution_count": 42,
   "id": "933c9f38",
   "metadata": {
    "ExecuteTime": {
     "end_time": "2023-02-22T16:48:33.619571Z",
     "start_time": "2023-02-22T16:48:33.613052Z"
    }
   },
   "outputs": [
    {
     "data": {
      "text/plain": [
       "tensor(9.6875)"
      ]
     },
     "execution_count": 42,
     "metadata": {},
     "output_type": "execute_result"
    }
   ],
   "source": [
    "100 * total_loss/ std_all"
   ]
  },
  {
   "cell_type": "code",
   "execution_count": 43,
   "id": "0927444c",
   "metadata": {
    "ExecuteTime": {
     "end_time": "2023-02-22T16:48:34.576825Z",
     "start_time": "2023-02-22T16:48:34.570619Z"
    }
   },
   "outputs": [
    {
     "data": {
      "text/plain": [
       "tensor(9.6875)"
      ]
     },
     "execution_count": 43,
     "metadata": {},
     "output_type": "execute_result"
    }
   ],
   "source": [
    "atotal_loss"
   ]
  },
  {
   "cell_type": "code",
   "execution_count": 44,
   "id": "a8581804",
   "metadata": {
    "ExecuteTime": {
     "end_time": "2023-02-22T16:48:34.738828Z",
     "start_time": "2023-02-22T16:48:34.728860Z"
    }
   },
   "outputs": [
    {
     "data": {
      "text/plain": [
       "tensor([2., 1., 1., 1., 1., 1., 1., 1., 1., 1., 1., 1., 0., 1., 2., 1., 1., 1.,\n",
       "        1., 2., 1., 1., 1., 0., 1., 1., 1., 1., 0., 1., 0., 1., 0., 1., 2., 1.,\n",
       "        1., 2., 1., 1., 1., 1., 1., 0., 1., 0., 1., 2., 1., 1., 0., 1., 2., 1.,\n",
       "        1., 1., 1., 1., 2., 1., 1., 1., 1., 1., 1., 1., 2., 1., 1., 1., 1., 2.,\n",
       "        1., 0., 2., 1., 1., 1., 1., 1., 1., 0., 1., 1., 1., 1., 1., 1., 1., 1.,\n",
       "        1., 1., 2., 2., 1., 1., 1., 1., 1., 1.])"
      ]
     },
     "execution_count": 44,
     "metadata": {},
     "output_type": "execute_result"
    }
   ],
   "source": [
    "(shift_range[total_indexes.long()]/0.05)[939:1039]"
   ]
  },
  {
   "cell_type": "markdown",
   "id": "3c069057",
   "metadata": {},
   "source": [
    "## Analytical"
   ]
  },
  {
   "cell_type": "code",
   "execution_count": 73,
   "id": "f07d5062",
   "metadata": {
    "ExecuteTime": {
     "end_time": "2023-02-22T17:47:17.513941Z",
     "start_time": "2023-02-22T17:47:17.278401Z"
    }
   },
   "outputs": [
    {
     "data": {
      "text/plain": [
       "[<matplotlib.lines.Line2D at 0x7f6c6450d460>]"
      ]
     },
     "execution_count": 73,
     "metadata": {},
     "output_type": "execute_result"
    },
    {
     "data": {
      "image/png": "[encoded data removed]",
      "text/plain": [
       "<Figure size 432x288 with 1 Axes>"
      ]
     },
     "metadata": {
      "needs_background": "light"
     },
     "output_type": "display_data"
    }
   ],
   "source": [
    "%matplotlib inline\n",
    "plt.plot(xdos, final_ldos[600], c='b')\n",
    "plt.plot(xdos, ldos[600], c= 'r')"
   ]
  },
  {
   "cell_type": "code",
   "execution_count": 47,
   "id": "cb76b633",
   "metadata": {
    "ExecuteTime": {
     "end_time": "2023-02-22T17:09:24.697739Z",
     "start_time": "2023-02-22T16:51:19.032635Z"
    }
   },
   "outputs": [
    {
     "name": "stderr",
     "output_type": "stream",
     "text": [
      "100%|████████████████████████████████████████████████████████████████████████████████████████████████████████████████████████████████████████████████████████████████████████████| 831/831 [18:05<00:00,  1.31s/it]\n"
     ]
    }
   ],
   "source": [
    "#use alignment to make full dataset\n",
    "sigma = torch.tensor(0.3)\n",
    "dx = 0.05\n",
    "\n",
    "emin = -24.5537\n",
    "emax = 11.3464\n",
    "\n",
    "\n",
    "ndos = int((emax-emin+3) / dx) #number of points\n",
    "xdos = torch.linspace(emin-1.5, emax+1.5, ndos) # extend the energy grid by 3eV \n",
    "final_ldos = []\n",
    "with torch.no_grad():\n",
    "    for i in tqdm(range(len(train_index))):#for every structure    \n",
    "        i_ldos = torch.zeros(ndos)\n",
    "        for j in (full_eigen_energies[i]):\n",
    "            i_ldos += (torch.exp(-0.5*((soap_dataset.alignment[i] + xdos - j)/sigma)**2))\n",
    "        final_ldos.append(i_ldos * normalization[train_index[i]] * 2)\n",
    "\n",
    "#final_ldos = ((ldos.T * normalization ).T)* 2\n",
    "final_ldos = torch.vstack(final_ldos) "
   ]
  },
  {
   "cell_type": "code",
   "execution_count": 70,
   "id": "7021a9c2",
   "metadata": {
    "ExecuteTime": {
     "end_time": "2023-02-22T17:46:29.135105Z",
     "start_time": "2023-02-22T17:46:29.120868Z"
    }
   },
   "outputs": [
    {
     "data": {
      "text/plain": [
       "tensor(66.6423)"
      ]
     },
     "execution_count": 70,
     "metadata": {},
     "output_type": "execute_result"
    }
   ],
   "source": [
    "loss.t_get_rmse(Features @ optimal_weights, final_ldos, xdos, perc = False)\n"
   ]
  },
  {
   "cell_type": "code",
   "execution_count": 53,
   "id": "2f50939f",
   "metadata": {
    "ExecuteTime": {
     "end_time": "2023-02-22T17:36:51.243958Z",
     "start_time": "2023-02-22T17:36:00.150185Z"
    }
   },
   "outputs": [
    {
     "name": "stdout",
     "output_type": "stream",
     "text": [
      "training over\n"
     ]
    }
   ],
   "source": [
    "#def evaluate_performance(new_dos):\n",
    "\n",
    "\n",
    "\n",
    "\n",
    "with torch.no_grad():\n",
    "    Features = torch.hstack([Silicon.Features['structure_avedescriptors'][train_index].double(), torch.ones(len(train_index)).view(-1,1)])\n",
    "    Target = final_ldos\n",
    "    optimal_weights = torch.linalg.lstsq(Features, Target, driver = 'gelsd').solution\n",
    "    Total_Features = torch.hstack([Silicon.Features['structure_avedescriptors'].double(), torch.ones(len(Silicon.Features['structure_avedescriptors'])).view(-1,1)])\n",
    "    print (\"training over\")\n",
    "    shift_range = torch.tensor([0.05 * a for a in torch.arange(-80,80)])\n",
    "    Total_preds = Total_Features @ optimal_weights\n",
    "    atrain_loss, atrain_indexes = loss.t_get_BF_shift_index_error(Total_preds[train_index], ldos[train_index], shift_range, xdos, perc = True)\n",
    "    atest_loss, atest_indexes = loss.t_get_BF_shift_index_error(Total_preds[test_index], ldos[test_index], shift_range, xdos, perc = True)\n",
    "    atotal_loss, atotal_indexes = loss.t_get_BF_shift_index_error(Total_preds, ldos, shift_range, xdos, perc = True)\n",
    "\n"
   ]
  },
  {
   "cell_type": "code",
   "execution_count": 54,
   "id": "28bb9bd3",
   "metadata": {
    "ExecuteTime": {
     "end_time": "2023-02-22T17:36:51.253337Z",
     "start_time": "2023-02-22T17:36:51.247937Z"
    }
   },
   "outputs": [
    {
     "name": "stdout",
     "output_type": "stream",
     "text": [
      "tensor(7161.7377)\n"
     ]
    }
   ],
   "source": [
    "print (atrain_loss)"
   ]
  },
  {
   "cell_type": "code",
   "execution_count": 55,
   "id": "71f50e46",
   "metadata": {
    "ExecuteTime": {
     "end_time": "2023-02-22T17:36:51.268387Z",
     "start_time": "2023-02-22T17:36:51.255285Z"
    }
   },
   "outputs": [
    {
     "name": "stdout",
     "output_type": "stream",
     "text": [
      "tensor(11334.0570)\n"
     ]
    }
   ],
   "source": [
    "print (atest_loss)"
   ]
  },
  {
   "cell_type": "code",
   "execution_count": 56,
   "id": "f08f0e30",
   "metadata": {
    "ExecuteTime": {
     "end_time": "2023-02-22T17:36:51.281577Z",
     "start_time": "2023-02-22T17:36:51.270761Z"
    }
   },
   "outputs": [
    {
     "name": "stdout",
     "output_type": "stream",
     "text": [
      "tensor(8221.4012)\n"
     ]
    }
   ],
   "source": [
    "print (atotal_loss)"
   ]
  },
  {
   "cell_type": "code",
   "execution_count": null,
   "id": "6fd6c725",
   "metadata": {},
   "outputs": [],
   "source": []
  },
  {
   "cell_type": "code",
   "execution_count": 106,
   "id": "68598e97",
   "metadata": {
    "ExecuteTime": {
     "end_time": "2023-02-22T14:27:38.441374Z",
     "start_time": "2023-02-22T14:27:34.059252Z"
    }
   },
   "outputs": [],
   "source": []
  },
  {
   "cell_type": "code",
   "execution_count": 111,
   "id": "049200ad",
   "metadata": {
    "ExecuteTime": {
     "end_time": "2023-02-22T14:28:43.208743Z",
     "start_time": "2023-02-22T14:28:42.961990Z"
    }
   },
   "outputs": [
    {
     "data": {
      "text/plain": [
       "[<matplotlib.lines.Line2D at 0x7fb709cbe190>]"
      ]
     },
     "execution_count": 111,
     "metadata": {},
     "output_type": "execute_result"
    },
    {
     "data": {
      "image/png": "[encoded data removed]",
      "text/plain": [
       "<Figure size 432x288 with 1 Axes>"
      ]
     },
     "metadata": {
      "needs_background": "light"
     },
     "output_type": "display_data"
    }
   ],
   "source": [
    "%matplotlib inline\n",
    "i = 3\n",
    "plt.plot(xdos,new_dos[i].detach().numpy(), c = 'r')\n",
    "plt.plot(xdos, ldos[train_index[i]], c= 'b')"
   ]
  },
  {
   "cell_type": "code",
   "execution_count": 12,
   "id": "66786581",
   "metadata": {
    "ExecuteTime": {
     "end_time": "2023-02-16T08:39:06.823661Z",
     "start_time": "2023-02-16T08:39:06.819813Z"
    }
   },
   "outputs": [],
   "source": [
    "def generate_energy_index(eigenenergy_length):\n",
    "    n_structures = len(eigenenergy_length)\n",
    "    total_index = []\n",
    "    for i, e_vals in enumerate(eigenenergy_length):\n",
    "        indiv_index = torch.zeros(e_vals) + i\n",
    "        total_index.append(indiv_index)\n",
    "    total_index = torch.hstack(total_index)\n",
    "    return total_index.long()"
   ]
  },
  {
   "cell_type": "code",
   "execution_count": 13,
   "id": "54ca4d16",
   "metadata": {
    "ExecuteTime": {
     "end_time": "2023-02-16T08:39:07.380768Z",
     "start_time": "2023-02-16T08:39:07.157417Z"
    }
   },
   "outputs": [],
   "source": [
    "energy_index = generate_energy_index(eigenenergy_length)"
   ]
  },
  {
   "cell_type": "code",
   "execution_count": 14,
   "id": "c5a39d14",
   "metadata": {
    "ExecuteTime": {
     "end_time": "2023-02-16T08:39:07.473228Z",
     "start_time": "2023-02-16T08:39:07.387758Z"
    }
   },
   "outputs": [],
   "source": [
    "energies = torch.hstack(full_eigen_energies).view(-1,1)"
   ]
  },
  {
   "cell_type": "code",
   "execution_count": 15,
   "id": "d9e44023",
   "metadata": {
    "ExecuteTime": {
     "end_time": "2023-02-16T08:39:08.146583Z",
     "start_time": "2023-02-16T08:39:08.136158Z"
    }
   },
   "outputs": [],
   "source": [
    "def torch_generate_dos(energies, eigenenergy_length_t, normalization, splits):\n",
    "    ldoses = []\n",
    "    for i in tqdm(range(len(splits) - 1)):\n",
    "        indexes = generate_energy_index(eigenenergy_length_t[splits[i]:splits[i+1]])\n",
    "        E = energies[torch.sum(eigenenergy_length_t[:splits[i]]):torch.sum(eigenenergy_length_t[:splits[i]]) + torch.sum(eigenenergy_length_t[splits[i]:splits[i+1]])]\n",
    "        split_ldos = torch.zeros(splits[i+1] - splits[i], len(xdos))\n",
    "        \n",
    "        new_ldos = (torch.exp(-0.5*((xdos - E)/sigma)**2))\n",
    "        \n",
    "        split_ldos.index_add_(0, indexes, new_ldos)\n",
    "        \n",
    "        ldoses.append(split_ldos)\n",
    "    ldoses = torch.vstack(ldoses)     \n",
    "    \n",
    "    final_ldos = ((ldoses.T * normalization ).T)* 2\n",
    "    return final_ldos\n",
    "    \n"
   ]
  },
  {
   "cell_type": "code",
   "execution_count": 16,
   "id": "7689c586",
   "metadata": {
    "ExecuteTime": {
     "end_time": "2023-02-16T08:39:08.576690Z",
     "start_time": "2023-02-16T08:39:08.574219Z"
    }
   },
   "outputs": [],
   "source": [
    "# ldos2 = torch_generate_dos(energies, eigenenergy_length_t, normalization, [0, 100, 200, 300, 400, 500, 800, 1039])"
   ]
  },
  {
   "cell_type": "code",
   "execution_count": 17,
   "id": "d7efc2ab",
   "metadata": {
    "ExecuteTime": {
     "end_time": "2023-02-16T08:39:09.032679Z",
     "start_time": "2023-02-16T08:39:09.027183Z"
    }
   },
   "outputs": [
    {
     "data": {
      "text/plain": [
       "torch.Size([435])"
      ]
     },
     "execution_count": 17,
     "metadata": {},
     "output_type": "execute_result"
    }
   ],
   "source": [
    "alignment.shape"
   ]
  },
  {
   "cell_type": "code",
   "execution_count": 18,
   "id": "d61874f7",
   "metadata": {
    "ExecuteTime": {
     "end_time": "2023-02-16T08:39:09.588529Z",
     "start_time": "2023-02-16T08:39:09.585975Z"
    }
   },
   "outputs": [],
   "source": [
    "lr = 100\n",
    "n_epochs = 1000\n",
    "\n"
   ]
  },
  {
   "cell_type": "code",
   "execution_count": 19,
   "id": "54872698",
   "metadata": {
    "ExecuteTime": {
     "end_time": "2023-02-16T08:39:19.381624Z",
     "start_time": "2023-02-16T08:39:13.631029Z"
    }
   },
   "outputs": [
    {
     "name": "stderr",
     "output_type": "stream",
     "text": [
      "100%|████████████████████████████████████████████████████████████████████████████████████████████████████████████████████████████████████████████████████████████████████| 435/435 [00:05<00:00, 75.96it/s]\n"
     ]
    }
   ],
   "source": [
    "sigma = torch.tensor(0.3)\n",
    "dx = 0.05\n",
    "\n",
    "emin = -24.5537\n",
    "emax = 11.3464\n",
    "\n",
    "\n",
    "ndos = int((emax-emin+3) / dx) #number of points\n",
    "xdos = torch.linspace(emin-1.5, emax+1.5, ndos) # extend the energy grid by 3eV \n",
    "ldos = torch.zeros((len(small_index), ndos))\n",
    "for i in tqdm(range(len(small_index))):#for every structure    \n",
    "    ldos[i] = torch.sum(torch.exp(-0.5*((alignment[i] + xdos - full_eigen_energies[small_index[i]].view(-1,1))/sigma)**2), dim = 0)\n",
    "\n",
    "final_ldos = ((ldos.T * normalization ).T)* 2"
   ]
  },
  {
   "cell_type": "code",
   "execution_count": 20,
   "id": "60bd101f",
   "metadata": {
    "ExecuteTime": {
     "end_time": "2023-02-16T08:39:19.400819Z",
     "start_time": "2023-02-16T08:39:19.385744Z"
    }
   },
   "outputs": [],
   "source": [
    "loss = torch.sum((1 - torch.abs((torch.corrcoef(torch.hstack([kernel_features, final_ldos]).T)[0][1:])))**2)"
   ]
  },
  {
   "cell_type": "code",
   "execution_count": 21,
   "id": "908f44b7",
   "metadata": {
    "ExecuteTime": {
     "end_time": "2023-02-16T08:39:19.417545Z",
     "start_time": "2023-02-16T08:39:19.404028Z"
    }
   },
   "outputs": [
    {
     "name": "stdout",
     "output_type": "stream",
     "text": [
      "tensor(212.8861, grad_fn=<SumBackward0>)\n"
     ]
    }
   ],
   "source": [
    "print (loss)"
   ]
  },
  {
   "cell_type": "code",
   "execution_count": null,
   "id": "7e04ff2d",
   "metadata": {
    "ExecuteTime": {
     "start_time": "2023-02-16T08:39:58.336Z"
    }
   },
   "outputs": [
    {
     "name": "stderr",
     "output_type": "stream",
     "text": [
      "  0%|▏                                                                                                                                                                  | 1/1000 [00:09<2:45:56,  9.97s/it]"
     ]
    },
    {
     "name": "stdout",
     "output_type": "stream",
     "text": [
      "tensor(212.8861, grad_fn=<SumBackward0>)\n"
     ]
    },
    {
     "name": "stderr",
     "output_type": "stream",
     "text": [
      "\r",
      "  0%|▎                                                                                                                                                                  | 2/1000 [00:21<2:56:37, 10.62s/it]"
     ]
    },
    {
     "name": "stdout",
     "output_type": "stream",
     "text": [
      "tensor(212.1835, grad_fn=<SumBackward0>)\n"
     ]
    },
    {
     "name": "stderr",
     "output_type": "stream",
     "text": [
      "\r",
      "  0%|▍                                                                                                                                                                  | 3/1000 [00:29<2:41:25,  9.71s/it]"
     ]
    },
    {
     "name": "stdout",
     "output_type": "stream",
     "text": [
      "tensor(207.9559, grad_fn=<SumBackward0>)\n"
     ]
    },
    {
     "name": "stderr",
     "output_type": "stream",
     "text": [
      "\r",
      "  0%|▋                                                                                                                                                                  | 4/1000 [00:37<2:27:05,  8.86s/it]"
     ]
    },
    {
     "name": "stdout",
     "output_type": "stream",
     "text": [
      "tensor(204.2679, grad_fn=<SumBackward0>)\n"
     ]
    },
    {
     "name": "stderr",
     "output_type": "stream",
     "text": [
      "\r",
      "  0%|▊                                                                                                                                                                  | 5/1000 [00:45<2:25:24,  8.77s/it]"
     ]
    },
    {
     "name": "stdout",
     "output_type": "stream",
     "text": [
      "tensor(202.9791, grad_fn=<SumBackward0>)\n"
     ]
    },
    {
     "name": "stderr",
     "output_type": "stream",
     "text": [
      "\r",
      "  1%|▉                                                                                                                                                                  | 6/1000 [00:54<2:23:37,  8.67s/it]"
     ]
    },
    {
     "name": "stdout",
     "output_type": "stream",
     "text": [
      "tensor(203.2197, grad_fn=<SumBackward0>)\n"
     ]
    },
    {
     "name": "stderr",
     "output_type": "stream",
     "text": [
      "\r",
      "  1%|█▏                                                                                                                                                                 | 7/1000 [01:02<2:21:07,  8.53s/it]"
     ]
    },
    {
     "name": "stdout",
     "output_type": "stream",
     "text": [
      "tensor(203.7145, grad_fn=<SumBackward0>)\n"
     ]
    },
    {
     "name": "stderr",
     "output_type": "stream",
     "text": [
      "\r",
      "  1%|█▎                                                                                                                                                                 | 8/1000 [01:10<2:20:22,  8.49s/it]"
     ]
    },
    {
     "name": "stdout",
     "output_type": "stream",
     "text": [
      "tensor(203.2850, grad_fn=<SumBackward0>)\n"
     ]
    },
    {
     "name": "stderr",
     "output_type": "stream",
     "text": [
      "\r",
      "  1%|█▍                                                                                                                                                                 | 9/1000 [01:18<2:16:03,  8.24s/it]"
     ]
    },
    {
     "name": "stdout",
     "output_type": "stream",
     "text": [
      "tensor(202.0296, grad_fn=<SumBackward0>)\n"
     ]
    }
   ],
   "source": [
    "lr = 0.01\n",
    "alignment = torch.nn.parameter.Parameter(torch.zeros(len(small_index)))\n",
    "n_epochs = 1000\n",
    "\n",
    "optimizer = torch.optim.Adam(\n",
    "                [alignment],\n",
    "                lr=lr)#,  line_search_fn=\"strong_wolfe\")\n",
    "\n",
    "for i in tqdm(range(n_epochs)):\n",
    "    def closure():\n",
    "        optimizer.zero_grad()\n",
    "        sigma = torch.tensor(0.3)\n",
    "        dx = 0.05\n",
    "\n",
    "        emin = -24.5537\n",
    "        emax = 11.3464\n",
    "\n",
    "\n",
    "        ndos = int((emax-emin+3) / dx) #number of points\n",
    "        xdos = torch.linspace(emin-1.5, emax+1.5, ndos) # extend the energy grid by 3eV \n",
    "        ldos = torch.zeros((len(small_index), ndos))\n",
    "        for i in (range(len(small_index))):#for every structure    \n",
    "            ldos[i] = torch.sum(torch.exp(-0.5*((alignment[i] + xdos - full_eigen_energies[small_index[i]].view(-1,1))/sigma)**2), dim = 0)\n",
    "\n",
    "        final_ldos = ((ldos.T * normalization ).T)* 2\n",
    "        pc_loss = torch.sum((1 - torch.abs((torch.corrcoef(torch.hstack([kernel_features, final_ldos]).T)[0][1:])))**2)\n",
    "        #print (pc_loss)\n",
    "        pc_loss.backward()\n",
    "        return pc_loss\n",
    "    \n",
    "    mse = optimizer.step(closure)\n",
    "    \n",
    "    print (mse)"
   ]
  },
  {
   "cell_type": "code",
   "execution_count": null,
   "id": "a27ee561",
   "metadata": {},
   "outputs": [],
   "source": []
  },
  {
   "cell_type": "code",
   "execution_count": 80,
   "id": "50611879",
   "metadata": {
    "ExecuteTime": {
     "end_time": "2023-02-15T21:35:58.937150Z",
     "start_time": "2023-02-15T21:35:58.697835Z"
    }
   },
   "outputs": [
    {
     "data": {
      "text/plain": [
       "[<matplotlib.lines.Line2D at 0x7f10ec0a2c10>]"
      ]
     },
     "execution_count": 80,
     "metadata": {},
     "output_type": "execute_result"
    },
    {
     "data": {
      "image/png": "[encoded data removed]",
      "text/plain": [
       "<Figure size 432x288 with 1 Axes>"
      ]
     },
     "metadata": {
      "needs_background": "light"
     },
     "output_type": "display_data"
    }
   ],
   "source": [
    "%matplotlib inline\n",
    "index = 50\n",
    "plt.plot(xdos, o_ldos[small_index[index]], c = 'r')\n",
    "plt.plot(xdos, final_ldos[index].detach(), c = 'b')"
   ]
  },
  {
   "cell_type": "markdown",
   "id": "9e9f040b",
   "metadata": {},
   "source": [
    "torch.corrcoef\n",
    "torch.var"
   ]
  },
  {
   "cell_type": "code",
   "execution_count": 24,
   "id": "675d9ffc",
   "metadata": {
    "ExecuteTime": {
     "end_time": "2023-02-16T10:05:38.418301Z",
     "start_time": "2023-02-16T10:05:38.353655Z"
    }
   },
   "outputs": [
    {
     "name": "stdout",
     "output_type": "stream",
     "text": [
      "tensor(552253)\n"
     ]
    },
    {
     "ename": "NameError",
     "evalue": "name 'test_ldos' is not defined",
     "output_type": "error",
     "traceback": [
      "\u001b[0;31m---------------------------------------------------------------------------\u001b[0m",
      "\u001b[0;31mNameError\u001b[0m                                 Traceback (most recent call last)",
      "Input \u001b[0;32mIn [24]\u001b[0m, in \u001b[0;36m<cell line: 4>\u001b[0;34m()\u001b[0m\n\u001b[1;32m      1\u001b[0m tol \u001b[38;5;241m=\u001b[39m \u001b[38;5;241m1E-4\u001b[39m\n\u001b[1;32m      2\u001b[0m \u001b[38;5;28mprint\u001b[39m (torch\u001b[38;5;241m.\u001b[39msum(ldos \u001b[38;5;241m>\u001b[39m tol))\n\u001b[0;32m----> 4\u001b[0m plt\u001b[38;5;241m.\u001b[39mplot(xdos[(\u001b[43mtest_ldos\u001b[49m \u001b[38;5;241m>\u001b[39m tol)], test_ldos[(test_ldos \u001b[38;5;241m>\u001b[39m tol)])\n",
      "\u001b[0;31mNameError\u001b[0m: name 'test_ldos' is not defined"
     ]
    }
   ],
   "source": [
    "tol = 1E-4\n",
    "print (torch.sum(test_ldos > tol))\n",
    "\n",
    "plt.plot(xdos[(test_ldos > tol)], test_ldos[(test_ldos > tol)])"
   ]
  },
  {
   "cell_type": "code",
   "execution_count": 22,
   "id": "938df9f3",
   "metadata": {
    "ExecuteTime": {
     "end_time": "2023-02-16T10:05:21.184180Z",
     "start_time": "2023-02-16T10:05:20.379077Z"
    }
   },
   "outputs": [
    {
     "ename": "NameError",
     "evalue": "name 'test_ldos' is not defined",
     "output_type": "error",
     "traceback": [
      "\u001b[0;31m---------------------------------------------------------------------------\u001b[0m",
      "\u001b[0;31mNameError\u001b[0m                                 Traceback (most recent call last)",
      "Input \u001b[0;32mIn [22]\u001b[0m, in \u001b[0;36m<cell line: 1>\u001b[0;34m()\u001b[0m\n\u001b[0;32m----> 1\u001b[0m \u001b[38;5;28mlen\u001b[39m(xdos[(\u001b[43mtest_ldos\u001b[49m \u001b[38;5;241m>\u001b[39m tol)])\n",
      "\u001b[0;31mNameError\u001b[0m: name 'test_ldos' is not defined"
     ]
    }
   ],
   "source": [
    "len(xdos[(test_ldos > tol)])"
   ]
  },
  {
   "cell_type": "code",
   "execution_count": 212,
   "id": "e357e0fa",
   "metadata": {
    "ExecuteTime": {
     "end_time": "2023-02-15T18:43:55.022917Z",
     "start_time": "2023-02-15T18:43:55.004512Z"
    }
   },
   "outputs": [
    {
     "data": {
      "text/plain": [
       "tensor([6.3422e-155, 5.0089e-153, 3.8472e-151, 2.8738e-149, 2.0878e-147,\n",
       "        1.4751e-145, 1.0136e-143, 6.7735e-142, 4.4023e-140, 2.7826e-138,\n",
       "        1.7105e-136, 1.0226e-134, 5.9460e-133, 3.3623e-131, 1.8491e-129,\n",
       "        9.8900e-128, 5.1445e-126, 2.6026e-124, 1.2805e-122, 6.1272e-121,\n",
       "        2.8514e-119, 1.2906e-117, 5.6807e-116, 2.4319e-114, 1.0125e-112,\n",
       "        4.0999e-111, 1.6146e-109, 6.1840e-108, 2.3035e-106, 8.3453e-105,\n",
       "        2.9404e-103, 1.0076e-101, 3.3580e-100,  1.0885e-98,  3.4313e-97,\n",
       "         1.0520e-95,  3.1370e-94,  9.0977e-93,  2.5661e-91,  7.0396e-90,\n",
       "         1.8782e-88,  4.8739e-87,  1.2301e-85,  3.0194e-84,  7.2086e-83,\n",
       "         1.6738e-81,  3.7801e-80,  8.3031e-79,  1.7738e-77,  3.6858e-76,\n",
       "         7.4489e-75,  1.4642e-73,  2.7993e-72,  5.2054e-71,  9.4147e-70,\n",
       "         1.6562e-68,  2.8339e-67,  4.7164e-66,  7.6348e-65,  1.2021e-63,\n",
       "         1.8411e-62,  2.7426e-61,  3.9740e-60,  5.6011e-59,  7.6789e-58,\n",
       "         1.0240e-56,  1.3284e-55,  1.6761e-54,  2.0573e-53,  2.4563e-52,\n",
       "         2.8529e-51,  3.2233e-50,  3.5426e-49,  3.7876e-48,  3.9395e-47,\n",
       "         3.9860e-46,  3.9235e-45,  3.7572e-44,  3.5002e-43,  3.1723e-42,\n",
       "         2.7972e-41,  2.3996e-40,  2.0027e-39,  1.6263e-38,  1.2848e-37,\n",
       "         9.8763e-37,  7.3866e-36,  5.3754e-35,  3.8061e-34,  2.6223e-33,\n",
       "         1.7580e-32,  1.1468e-31,  7.2798e-31,  4.4967e-30,  2.7030e-29,\n",
       "         1.5811e-28,  9.0000e-28,  4.9857e-27,  2.6878e-26,  1.4102e-25,\n",
       "         7.2005e-25,  3.5783e-24,  1.7306e-23,  8.1466e-23,  3.7324e-22,\n",
       "         1.6644e-21,  7.2239e-21,  3.0518e-20,  1.2549e-19,  5.0228e-19,\n",
       "         1.9569e-18,  7.4212e-18,  2.7396e-17,  9.8450e-17,  3.4439e-16,\n",
       "         1.1728e-15,  3.8879e-15,  1.2547e-14,  3.9422e-14,  1.2058e-13,\n",
       "         3.5908e-13,  1.0411e-12,  2.9388e-12,  8.0771e-12,  2.1615e-11,\n",
       "         5.6326e-11,  1.4292e-10,  3.5316e-10,  8.4984e-10,  1.9917e-09,\n",
       "         4.5462e-09,  1.0108e-08,  2.1891e-08,  4.6188e-08,  9.4948e-08,\n",
       "         1.9018e-07,  3.7123e-07,  7.0625e-07,  1.3097e-06,  2.3680e-06,\n",
       "         4.1747e-06,  7.1780e-06,  1.2040e-05,  1.9703e-05,  3.1471e-05,\n",
       "         4.9073e-05,  7.4723e-05,  1.1115e-04,  1.6157e-04,  2.2961e-04,\n",
       "         3.1913e-04,  4.3403e-04,  5.7795e-04,  7.5390e-04,  9.6401e-04,\n",
       "         1.2092e-03,  1.4889e-03,  1.8013e-03,  2.1430e-03,  2.5095e-03,\n",
       "         2.8954e-03,  3.2947e-03,  3.7016e-03,  4.1104e-03,  4.5160e-03,\n",
       "         4.9145e-03,  5.3026e-03,  5.6785e-03,  6.0412e-03,  6.3907e-03,\n",
       "         6.7276e-03,  7.0533e-03,  7.3692e-03,  7.6766e-03,  7.9769e-03,\n",
       "         8.2709e-03,  8.5594e-03,  8.8429e-03,  9.1222e-03,  9.3985e-03,\n",
       "         9.6734e-03,  9.9487e-03,  1.0227e-02,  1.0510e-02,  1.0801e-02,\n",
       "         1.1099e-02,  1.1406e-02,  1.1722e-02,  1.2045e-02,  1.2374e-02,\n",
       "         1.2710e-02,  1.3052e-02,  1.3400e-02,  1.3755e-02,  1.4118e-02,\n",
       "         1.4490e-02,  1.4869e-02,  1.5254e-02,  1.5642e-02,  1.6028e-02,\n",
       "         1.6404e-02,  1.6766e-02,  1.7105e-02,  1.7414e-02,  1.7688e-02,\n",
       "         1.7922e-02,  1.8112e-02,  1.8255e-02,  1.8351e-02,  1.8399e-02,\n",
       "         1.8399e-02,  1.8352e-02,  1.8259e-02,  1.8120e-02,  1.7937e-02,\n",
       "         1.7710e-02,  1.7442e-02,  1.7136e-02,  1.6794e-02,  1.6423e-02,\n",
       "         1.6028e-02,  1.5613e-02,  1.5183e-02,  1.4743e-02,  1.4293e-02,\n",
       "         1.3835e-02,  1.3368e-02,  1.2889e-02,  1.2397e-02,  1.1888e-02,\n",
       "         1.1362e-02,  1.0818e-02,  1.0259e-02,  9.6895e-03,  9.1150e-03,\n",
       "         8.5447e-03,  7.9887e-03,  7.4592e-03,  6.9691e-03,  6.5323e-03,\n",
       "         6.1628e-03,  5.8745e-03,  5.6806e-03,  5.5934e-03,  5.6234e-03,\n",
       "         5.7799e-03,  6.0695e-03,  6.4967e-03,  7.0630e-03,  7.7663e-03,\n",
       "         8.6010e-03,  9.5568e-03,  1.0619e-02,  1.1768e-02,  1.2979e-02,\n",
       "         1.4224e-02,  1.5471e-02,  1.6688e-02,  1.7842e-02,  1.8901e-02,\n",
       "         1.9838e-02,  2.0628e-02,  2.1254e-02,  2.1703e-02,  2.1969e-02,\n",
       "         2.2054e-02,  2.1963e-02,  2.1709e-02,  2.1309e-02,  2.0785e-02,\n",
       "         2.0162e-02,  1.9465e-02,  1.8721e-02,  1.7956e-02,  1.7192e-02,\n",
       "         1.6449e-02,  1.5740e-02,  1.5075e-02,  1.4459e-02,  1.3892e-02,\n",
       "         1.3370e-02,  1.2888e-02,  1.2440e-02,  1.2019e-02,  1.1618e-02,\n",
       "         1.1233e-02,  1.0862e-02,  1.0505e-02,  1.0161e-02,  9.8354e-03,\n",
       "         9.5303e-03,  9.2505e-03,  9.0001e-03,  8.7829e-03,  8.6025e-03,\n",
       "         8.4619e-03,  8.3648e-03,  8.3153e-03,  8.3191e-03,  8.3840e-03,\n",
       "         8.5201e-03,  8.7394e-03,  9.0557e-03,  9.4823e-03,  1.0031e-02,\n",
       "         1.0711e-02,  1.1523e-02,  1.2465e-02,  1.3523e-02,  1.4678e-02,\n",
       "         1.5903e-02,  1.7166e-02,  1.8430e-02,  1.9662e-02,  2.0826e-02,\n",
       "         2.1895e-02,  2.2845e-02,  2.3663e-02,  2.4343e-02,  2.4887e-02,\n",
       "         2.5307e-02,  2.5619e-02,  2.5846e-02,  2.6013e-02,  2.6148e-02,\n",
       "         2.6274e-02,  2.6415e-02,  2.6587e-02,  2.6803e-02,  2.7072e-02,\n",
       "         2.7395e-02,  2.7774e-02,  2.8203e-02,  2.8676e-02,  2.9185e-02,\n",
       "         2.9720e-02,  3.0271e-02,  3.0826e-02,  3.1369e-02,  3.1886e-02,\n",
       "         3.2363e-02,  3.2785e-02,  3.3140e-02,  3.3418e-02,  3.3616e-02,\n",
       "         3.3734e-02,  3.3776e-02,  3.3752e-02,  3.3675e-02,  3.3559e-02,\n",
       "         3.3418e-02,  3.3263e-02,  3.3102e-02,  3.2942e-02,  3.2781e-02,\n",
       "         3.2618e-02,  3.2444e-02,  3.2252e-02,  3.2032e-02,  3.1775e-02,\n",
       "         3.1472e-02,  3.1116e-02,  3.0701e-02,  3.0226e-02,  2.9688e-02,\n",
       "         2.9089e-02,  2.8432e-02,  2.7722e-02,  2.6965e-02,  2.6168e-02,\n",
       "         2.5340e-02,  2.4489e-02,  2.3622e-02,  2.2749e-02,  2.1873e-02,\n",
       "         2.1000e-02,  2.0131e-02,  1.9268e-02,  1.8409e-02,  1.7553e-02,\n",
       "         1.6697e-02,  1.5840e-02,  1.4981e-02,  1.4119e-02,  1.3255e-02,\n",
       "         1.2392e-02,  1.1534e-02,  1.0685e-02,  9.8508e-03,  9.0375e-03,\n",
       "         8.2506e-03,  7.4957e-03,  6.7779e-03,  6.1023e-03,  5.4731e-03,\n",
       "         4.8947e-03,  4.3709e-03,  3.9051e-03,  3.5007e-03,  3.1604e-03,\n",
       "         2.8866e-03,  2.6809e-03,  2.5448e-03,  2.4785e-03,  2.4823e-03,\n",
       "         2.5554e-03,  2.6967e-03,  2.9047e-03,  3.1773e-03,  3.5120e-03,\n",
       "         3.9057e-03,  4.3549e-03,  4.8558e-03,  5.4040e-03,  5.9951e-03,\n",
       "         6.6248e-03,  7.2894e-03,  7.9860e-03,  8.7128e-03,  9.4696e-03,\n",
       "         1.0257e-02,  1.1078e-02,  1.1935e-02,  1.2832e-02,  1.3770e-02,\n",
       "         1.4753e-02,  1.5779e-02,  1.6847e-02,  1.7953e-02,  1.9089e-02,\n",
       "         2.0248e-02,  2.1419e-02,  2.2587e-02,  2.3740e-02,  2.4860e-02,\n",
       "         2.5930e-02,  2.6934e-02,  2.7854e-02,  2.8677e-02,  2.9391e-02,\n",
       "         2.9987e-02,  3.0465e-02,  3.0828e-02,  3.1083e-02,  3.1246e-02,\n",
       "         3.1334e-02,  3.1367e-02,  3.1367e-02,  3.1353e-02,  3.1345e-02,\n",
       "         3.1357e-02,  3.1402e-02,  3.1485e-02,  3.1612e-02,  3.1781e-02,\n",
       "         3.1991e-02,  3.2236e-02,  3.2511e-02,  3.2810e-02,  3.3127e-02,\n",
       "         3.3455e-02,  3.3790e-02,  3.4128e-02,  3.4464e-02,  3.4794e-02,\n",
       "         3.5115e-02,  3.5424e-02,  3.5715e-02,  3.5985e-02,  3.6228e-02,\n",
       "         3.6439e-02,  3.6610e-02,  3.6737e-02,  3.6813e-02,  3.6834e-02,\n",
       "         3.6796e-02,  3.6700e-02,  3.6546e-02,  3.6337e-02,  3.6082e-02,\n",
       "         3.5786e-02,  3.5457e-02,  3.5104e-02,  3.4733e-02,  3.4347e-02,\n",
       "         3.3949e-02,  3.3540e-02,  3.3121e-02,  3.2693e-02,  3.2260e-02,\n",
       "         3.1829e-02,  3.1409e-02,  3.1009e-02,  3.0644e-02,  3.0325e-02,\n",
       "         3.0061e-02,  2.9857e-02,  2.9716e-02,  2.9633e-02,  2.9600e-02,\n",
       "         2.9603e-02,  2.9629e-02,  2.9661e-02,  2.9684e-02,  2.9686e-02,\n",
       "         2.9655e-02,  2.9585e-02,  2.9473e-02,  2.9319e-02,  2.9126e-02,\n",
       "         2.8900e-02,  2.8650e-02,  2.8384e-02,  2.8113e-02,  2.7847e-02,\n",
       "         2.7594e-02,  2.7362e-02,  2.7156e-02,  2.6977e-02,  2.6824e-02,\n",
       "         2.6696e-02,  2.6588e-02,  2.6496e-02,  2.6415e-02,  2.6346e-02,\n",
       "         2.6287e-02,  2.6243e-02,  2.6218e-02,  2.6216e-02,  2.6243e-02,\n",
       "         2.6301e-02,  2.6393e-02,  2.6517e-02,  2.6669e-02,  2.6844e-02,\n",
       "         2.7035e-02,  2.7236e-02,  2.7439e-02,  2.7637e-02,  2.7824e-02,\n",
       "         2.7993e-02,  2.8140e-02,  2.8262e-02,  2.8354e-02,  2.8416e-02,\n",
       "         2.8448e-02,  2.8452e-02,  2.8433e-02,  2.8395e-02,  2.8345e-02,\n",
       "         2.8290e-02,  2.8237e-02,  2.8193e-02,  2.8165e-02,  2.8157e-02,\n",
       "         2.8174e-02,  2.8218e-02,  2.8288e-02,  2.8385e-02,  2.8504e-02,\n",
       "         2.8638e-02,  2.8781e-02,  2.8924e-02,  2.9058e-02,  2.9173e-02,\n",
       "         2.9263e-02,  2.9321e-02,  2.9345e-02,  2.9334e-02,  2.9291e-02,\n",
       "         2.9219e-02,  2.9125e-02,  2.9017e-02,  2.8904e-02,  2.8792e-02,\n",
       "         2.8691e-02,  2.8606e-02,  2.8541e-02,  2.8500e-02,  2.8481e-02,\n",
       "         2.8483e-02,  2.8499e-02,  2.8521e-02,  2.8540e-02,  2.8546e-02,\n",
       "         2.8530e-02,  2.8484e-02,  2.8405e-02,  2.8292e-02,  2.8148e-02,\n",
       "         2.7980e-02,  2.7796e-02,  2.7609e-02,  2.7430e-02,  2.7269e-02,\n",
       "         2.7134e-02,  2.7031e-02,  2.6963e-02,  2.6927e-02,  2.6919e-02,\n",
       "         2.6930e-02,  2.6948e-02,  2.6961e-02,  2.6952e-02,  2.6904e-02,\n",
       "         2.6801e-02,  2.6626e-02,  2.6365e-02,  2.6006e-02,  2.5543e-02,\n",
       "         2.4973e-02,  2.4301e-02,  2.3538e-02,  2.2700e-02,  2.1810e-02,\n",
       "         2.0892e-02,  1.9973e-02,  1.9080e-02,  1.8233e-02,  1.7450e-02,\n",
       "         1.6737e-02,  1.6094e-02,  1.5512e-02,  1.4972e-02,  1.4453e-02,\n",
       "         1.3929e-02,  1.3377e-02,  1.2778e-02,  1.2118e-02,  1.1393e-02,\n",
       "         1.0608e-02,  9.7757e-03,  8.9154e-03,  8.0504e-03,  7.2048e-03,\n",
       "         6.4011e-03,  5.6575e-03,  4.9864e-03,  4.3937e-03,  3.8789e-03,\n",
       "         3.4362e-03,  3.0560e-03,  2.7265e-03,  2.4358e-03,  2.1729e-03,\n",
       "         1.9294e-03,  1.6996e-03,  1.4805e-03,  1.2716e-03,  1.0744e-03,\n",
       "         8.9123e-04,  7.2458e-04,  5.7664e-04,  4.4874e-04,  3.4120e-04,\n",
       "         2.5331e-04,  1.8353e-04,  1.2972e-04,  8.9409e-05,  6.0078e-05,\n",
       "         3.9347e-05,  2.5111e-05,  1.5615e-05,  9.4585e-06,  5.5809e-06,\n",
       "         3.2071e-06,  1.7948e-06,  9.7804e-07,  5.1895e-07,  2.6809e-07,\n",
       "         1.3483e-07,  6.6014e-08,  3.1463e-08,  1.4596e-08,  6.5912e-09,\n",
       "         2.8969e-09,  1.2392e-09,  5.1590e-10,  2.0903e-10,  8.2419e-11,\n",
       "         3.1625e-11,  1.1809e-11,  4.2907e-12,  1.5171e-12,  5.2193e-13,\n",
       "         1.7472e-13,  5.6912e-14,  1.8037e-14,  5.5620e-15,  1.6688e-15,\n",
       "         4.8712e-16,  1.3835e-16,  3.8227e-17,  1.0276e-17,  2.6876e-18,\n",
       "         6.8383e-19,  1.6927e-19,  4.0763e-20,  9.5496e-21,  2.1764e-21,\n",
       "         4.8253e-22,  1.0407e-22,  2.1836e-23,  4.4569e-24,  8.8491e-25,\n",
       "         1.7091e-25,  3.2112e-26,  5.8689e-27,  1.0434e-27,  1.8044e-28,\n",
       "         3.0355e-29,  4.9671e-30,  7.9062e-31,  1.2241e-31,  1.8435e-32,\n",
       "         2.7007e-33,  3.8482e-34,  5.3338e-35,  7.1908e-36,  9.4296e-37,\n",
       "         1.2028e-37,  1.4922e-38,  1.8008e-39,  2.1137e-40,  2.4132e-41,\n",
       "         2.6798e-42,  2.8944e-43,  3.0408e-44,  3.1072e-45,  3.0882e-46,\n",
       "         2.9853e-47,  2.8069e-48,  2.5669e-49,  2.2832e-50,  1.9753e-51,\n",
       "         1.6621e-52,  1.3603e-53,  1.0828e-54,  8.3836e-56,  6.3130e-57,\n",
       "         4.6236e-58,  3.2936e-59,  2.2819e-60,  1.5377e-61,  1.0078e-62,\n",
       "         6.4239e-64,  3.9826e-65,  2.4015e-66,  1.4084e-67,  8.0333e-69,\n",
       "         4.4566e-70,  2.4046e-71,  1.2619e-72,  6.4403e-74,  3.1970e-75,\n",
       "         1.5435e-76,  7.2475e-78,  3.3098e-79,  1.4701e-80,  6.3506e-82,\n",
       "         2.6681e-83,  1.0903e-84,  4.3329e-86,  1.6748e-87,  6.2957e-89,\n",
       "         2.3018e-90,  8.1849e-92,  2.8306e-93,  9.5207e-95,  3.1144e-96,\n",
       "         9.9086e-98,  3.0660e-99, 9.2266e-101, 2.7005e-102, 7.6870e-104,\n",
       "        2.1281e-105, 5.7300e-107, 1.5005e-108])"
      ]
     },
     "execution_count": 212,
     "metadata": {},
     "output_type": "execute_result"
    }
   ],
   "source": [
    "ldos[0]"
   ]
  },
  {
   "cell_type": "code",
   "execution_count": 154,
   "id": "0d021141",
   "metadata": {
    "ExecuteTime": {
     "end_time": "2023-02-14T12:47:02.295618Z",
     "start_time": "2023-02-14T12:33:29.004700Z"
    }
   },
   "outputs": [
    {
     "name": "stderr",
     "output_type": "stream",
     "text": [
      "100%|██████████████████████████████████████████████████████████████████████████████████████████████████████████████████████████████████████████████████████████████████| 1039/1039 [13:33<00:00,  1.28it/s]\n"
     ]
    }
   ],
   "source": [
    "sigma = torch.tensor(0.3)\n",
    "dx = 0.05\n",
    "\n",
    "ndos = int((emax-emin+3) / dx) #number of points\n",
    "xdos = torch.linspace(emin-1.5, emax+1.5, ndos) # extend the energy grid by 3eV \n",
    "ldos = torch.zeros((len(full_eigen_energies), ndos))\n",
    "for i in tqdm(range(len(full_eigen_energies))):#for every structure    \n",
    "    for ei in full_eigen_energies[i]:#for every energy level\n",
    "        ldos[i] += torch.exp(-0.5*((xdos[:]-ei)/sigma)**2) #puts a gaussian centered on the energy level\n",
    "    ldos[i] *= 1/torch.sqrt(2*torch.tensor(np.pi)*sigma**2)/n_atoms[i]/len(full_eigen_energies[i]) #normalize"
   ]
  },
  {
   "cell_type": "code",
   "execution_count": 181,
   "id": "f7fd98cd",
   "metadata": {
    "ExecuteTime": {
     "end_time": "2023-02-14T13:14:29.018511Z",
     "start_time": "2023-02-14T13:00:48.948943Z"
    }
   },
   "outputs": [
    {
     "name": "stderr",
     "output_type": "stream",
     "text": [
      "100%|██████████████████████████████████████████████████████████████████████████████████████████████████████████████████████████████████████████████████████████████████| 1039/1039 [13:40<00:00,  1.27it/s]\n"
     ]
    }
   ],
   "source": [
    "sigma = torch.tensor(0.3)\n",
    "dx = 0.05\n",
    "\n",
    "ndos3 = int((emax-emin+3) / dx) #number of points\n",
    "xdos3 = torch.linspace(emin-1.5, emax+1.5, ndos) # extend the energy grid by 3eV \n",
    "ldos3 = torch.zeros((len(full_eigen_energies), ndos))\n",
    "for i in tqdm(range(len(eigen_energies))):#for every structure    \n",
    "    for ei in full_eigen_energies[i]:#for every energy level\n",
    "        ldos3[i] += torch.exp(-0.5*((xdos[:]-ei)/sigma)**2) #puts a gaussian centered on the energy level\n",
    "    ldos3[i] *= 1/torch.sqrt(2*np.pi*sigma**2)/n_atoms[i]/len(eigen_energies[i]) #normalize"
   ]
  },
  {
   "cell_type": "code",
   "execution_count": 139,
   "id": "c9f7e311",
   "metadata": {
    "ExecuteTime": {
     "end_time": "2023-02-13T19:02:53.046358Z",
     "start_time": "2023-02-13T19:02:52.696381Z"
    }
   },
   "outputs": [
    {
     "name": "stdout",
     "output_type": "stream",
     "text": [
      "SOAP PCA explained variance with 1 PCA is: [0.85417772]\n",
      "Kernel PCA explained variance with 1 PCA is: [0.76640756]\n"
     ]
    }
   ],
   "source": [
    "from sklearn.decomposition import PCA\n",
    "\n",
    "soap = Silicon.Features['structure_avedescriptors'] \n",
    "soap_pca = PCA(n_components = 1, svd_solver = \"full\")\n",
    "soap_pca.fit(soap)\n",
    "\n",
    "print (\"SOAP PCA explained variance with 1 PCA is: {}\".format(soap_pca.explained_variance_ratio_))\n",
    "\n",
    "PCA_soap = soap_pca.transform(soap)\n",
    "\n",
    "kernel = Silicon.Features['structure_avekerneldescriptors']\n",
    "kernel_pca = PCA(n_components = 1, svd_solver = \"full\")\n",
    "kernel_pca.fit(kernel)\n",
    "\n",
    "print (\"Kernel PCA explained variance with 1 PCA is: {}\".format(kernel_pca.explained_variance_ratio_))\n",
    "\n",
    "PCA_kernel = kernel_pca.transform(kernel)"
   ]
  },
  {
   "cell_type": "code",
   "execution_count": 146,
   "id": "110f93f1",
   "metadata": {
    "ExecuteTime": {
     "end_time": "2023-02-13T19:05:58.302764Z",
     "start_time": "2023-02-13T19:05:58.288914Z"
    }
   },
   "outputs": [
    {
     "data": {
      "text/plain": [
       "array([[-3.49913423e-03, -1.76411215e-02,  3.32522948e-02,\n",
       "         3.61629233e-01,  1.87222390e-01,  7.49472932e-02,\n",
       "         7.73753721e-02,  2.89413546e-02, -1.76411215e-02,\n",
       "         7.01613627e-04, -6.64714922e-03, -1.96539716e-02,\n",
       "        -1.21993389e-02, -6.67081254e-03, -4.36700539e-03,\n",
       "        -1.68577363e-03,  3.32522948e-02, -6.64714922e-03,\n",
       "         2.20352739e-02,  1.41889410e-01,  7.26851954e-02,\n",
       "         3.15241013e-02,  2.88627511e-02,  1.08549650e-02,\n",
       "         3.61629233e-01, -1.96539716e-02,  1.41889410e-01,\n",
       "         4.92546963e-01,  2.89406316e-01,  1.51981690e-01,\n",
       "         1.06534352e-01,  4.10607729e-02,  1.87222390e-01,\n",
       "        -1.21993389e-02,  7.26851954e-02,  2.89406316e-01,\n",
       "         1.62030561e-01,  8.08235013e-02,  6.02749031e-02,\n",
       "         2.31914869e-02,  7.49472932e-02, -6.67081254e-03,\n",
       "         3.15241013e-02,  1.51981690e-01,  8.08235013e-02,\n",
       "         3.70043392e-02,  3.02939232e-02,  1.15274716e-02,\n",
       "         7.73753721e-02, -4.36700539e-03,  2.88627511e-02,\n",
       "         1.06534352e-01,  6.02749031e-02,  3.02939232e-02,\n",
       "         2.17846734e-02,  8.37328373e-03,  2.89413546e-02,\n",
       "        -1.68577363e-03,  1.08549650e-02,  4.10607729e-02,\n",
       "         2.31914869e-02,  1.15274716e-02,  8.37328373e-03,\n",
       "         3.21169845e-03, -2.42678062e-05,  5.11123332e-05,\n",
       "        -3.53316626e-04, -5.69486606e-04, -3.00272506e-04,\n",
       "        -2.40257378e-04, -8.47122357e-05, -3.94519317e-05,\n",
       "         5.11123332e-05, -1.69061333e-04,  8.91359912e-04,\n",
       "         1.52903701e-03,  7.98658394e-04,  5.79778184e-04,\n",
       "         1.83320028e-04,  8.26635902e-05, -3.53316626e-04,\n",
       "         8.91359912e-04, -5.43889188e-03, -9.33776686e-03,\n",
       "        -5.16824236e-03, -3.94312423e-03, -1.41001255e-03,\n",
       "        -6.45440361e-04, -5.69486606e-04,  1.52903701e-03,\n",
       "        -9.33776686e-03, -1.70537584e-02, -9.57630675e-03,\n",
       "        -6.39819664e-03, -2.20517209e-03, -9.70570198e-04,\n",
       "        -3.00272506e-04,  7.98658394e-04, -5.16824236e-03,\n",
       "        -9.57630675e-03, -6.90821221e-03, -4.72774768e-03,\n",
       "        -1.80610336e-03, -7.53570430e-04, -2.40257378e-04,\n",
       "         5.79778184e-04, -3.94312423e-03, -6.39819664e-03,\n",
       "        -4.72774768e-03, -3.68062261e-03, -1.42088201e-03,\n",
       "        -6.01509578e-04, -8.47122357e-05,  1.83320028e-04,\n",
       "        -1.41001255e-03, -2.20517209e-03, -1.80610336e-03,\n",
       "        -1.42088201e-03, -5.76636427e-04, -2.39698375e-04,\n",
       "        -3.94519317e-05,  8.26635902e-05, -6.45440361e-04,\n",
       "        -9.70570198e-04, -7.53570430e-04, -6.01509578e-04,\n",
       "        -2.39698375e-04, -1.00730273e-04, -8.58758363e-06,\n",
       "         3.54320192e-05, -1.33048376e-04, -4.02508982e-04,\n",
       "        -9.06240701e-05,  1.25316756e-05,  6.69886108e-06,\n",
       "        -3.79706680e-06,  3.54320192e-05, -4.69333435e-05,\n",
       "         6.44297922e-04,  4.61774643e-04,  2.24269773e-04,\n",
       "        -3.27066608e-05, -1.11055172e-05,  8.79788855e-06,\n",
       "        -1.33048376e-04,  6.44297922e-04, -2.00324396e-03,\n",
       "        -6.23215987e-03, -1.12522536e-03, -3.43541622e-06,\n",
       "         1.58350714e-04, -2.30601944e-05, -4.02508982e-04,\n",
       "         4.61774643e-04, -6.23215987e-03, -5.40760398e-03,\n",
       "        -1.82666612e-03, -4.18024769e-05,  2.30771920e-04,\n",
       "        -2.17776046e-05, -9.06240701e-05,  2.24269773e-04,\n",
       "        -1.12522536e-03, -1.82666612e-03, -3.44104695e-04,\n",
       "        -8.42776342e-04, -8.02835618e-06,  2.13334142e-05,\n",
       "         1.25316756e-05, -3.27066608e-05, -3.43541622e-06,\n",
       "        -4.18024769e-05, -8.42776342e-04, -4.37251369e-04,\n",
       "        -2.51613975e-04, -9.74882526e-05,  6.69886108e-06,\n",
       "        -1.11055172e-05,  1.58350714e-04,  2.30771920e-04,\n",
       "        -8.02835618e-06, -2.51613975e-04, -8.49561794e-05,\n",
       "        -2.61261272e-05, -3.79706680e-06,  8.79788855e-06,\n",
       "        -2.30601944e-05, -2.17776046e-05,  2.13334142e-05,\n",
       "        -9.74882526e-05, -2.61261272e-05, -8.82993811e-06,\n",
       "        -1.36932787e-04,  3.14708918e-04, -2.45644041e-03,\n",
       "        -4.91953300e-03, -9.45603141e-04,  4.32227611e-04,\n",
       "         1.70934099e-04,  1.82215577e-05,  3.14708918e-04,\n",
       "        -7.39813355e-04,  5.39783324e-03,  1.00309471e-02,\n",
       "         1.77314627e-03, -7.10253863e-04, -3.82378572e-04,\n",
       "        -4.25116022e-05, -2.45644041e-03,  5.39783324e-03,\n",
       "        -4.06359761e-02, -7.10010143e-02, -1.12217390e-02,\n",
       "         5.20759821e-03,  2.69665377e-03,  1.12269107e-04,\n",
       "        -4.91953300e-03,  1.00309471e-02, -7.10010143e-02,\n",
       "        -9.03459590e-02, -5.51929567e-03,  2.30618802e-03,\n",
       "         4.41800631e-03, -2.48145527e-04, -9.45603141e-04,\n",
       "         1.77314627e-03, -1.12217390e-02, -5.51929567e-03,\n",
       "         2.20724073e-03, -1.90025875e-03,  4.85091238e-04,\n",
       "        -2.30001097e-04,  4.32227611e-04, -7.10253863e-04,\n",
       "         5.20759821e-03,  2.30618802e-03, -1.90025875e-03,\n",
       "        -1.47095066e-04, -3.85901561e-04,  7.76001765e-05,\n",
       "         1.70934099e-04, -3.82378572e-04,  2.69665377e-03,\n",
       "         4.41800631e-03,  4.85091238e-04, -3.85901561e-04,\n",
       "        -2.27680329e-04, -1.73486176e-05,  1.82215577e-05,\n",
       "        -4.25116022e-05,  1.12269107e-04, -2.48145527e-04,\n",
       "        -2.30001097e-04,  7.76001765e-05, -1.73486176e-05,\n",
       "         4.65229984e-06,  3.17205927e-04, -8.76536785e-04,\n",
       "         3.50296059e-03,  4.71843202e-03, -2.69920876e-03,\n",
       "         1.43909137e-04, -9.16594629e-05,  1.13397437e-04,\n",
       "        -8.76536785e-04,  2.45432174e-03, -9.84106713e-03,\n",
       "        -1.39200745e-02,  6.91016052e-03, -3.64375614e-04,\n",
       "         2.88172028e-04, -3.00361411e-04,  3.50296059e-03,\n",
       "        -9.84106713e-03,  3.74407831e-02,  5.06135592e-02,\n",
       "        -3.43059449e-02,  1.25872089e-03, -6.90009087e-04,\n",
       "         1.44113709e-03,  4.71843202e-03, -1.39200745e-02,\n",
       "         5.06135592e-02,  7.61404092e-02, -4.66312567e-02,\n",
       "         1.01025823e-03, -8.37839837e-04,  2.07138845e-03,\n",
       "        -2.69920876e-03,  6.91016052e-03, -3.43059449e-02,\n",
       "        -4.66312567e-02,  6.76587152e-03, -2.70728159e-03,\n",
       "         1.78997504e-03, -3.28286014e-04,  1.43909137e-04,\n",
       "        -3.64375614e-04,  1.25872089e-03,  1.01025823e-03,\n",
       "        -2.70728159e-03, -4.12028445e-04, -8.67012673e-05,\n",
       "         5.88660250e-05, -9.16594629e-05,  2.88172028e-04,\n",
       "        -6.90009087e-04, -8.37839837e-04,  1.78997504e-03,\n",
       "        -8.67012673e-05, -1.03002646e-04, -9.94709926e-05,\n",
       "         1.13397437e-04, -3.00361411e-04,  1.44113709e-03,\n",
       "         2.07138845e-03, -3.28286014e-04,  5.88660250e-05,\n",
       "        -9.94709926e-05,  5.47791295e-06,  2.69703453e-05,\n",
       "        -1.10821617e-04,  4.41077242e-04,  1.23213413e-03,\n",
       "         1.50384057e-05, -1.15836237e-04,  1.38452625e-05,\n",
       "         2.04876918e-05, -1.10821617e-04,  4.22802069e-04,\n",
       "        -1.72640876e-03, -4.46305808e-03,  9.17482665e-06,\n",
       "         3.79278770e-04, -2.60887171e-05, -7.11566938e-05,\n",
       "         4.41077242e-04, -1.72640876e-03,  7.03149316e-03,\n",
       "         1.87433195e-02, -1.58944095e-04, -1.84394597e-03,\n",
       "         1.64785462e-04,  3.17329064e-04,  1.23213413e-03,\n",
       "        -4.46305808e-03,  1.87433195e-02,  4.53418297e-02,\n",
       "        -8.67120540e-04, -3.81488630e-03,  8.44223976e-05,\n",
       "         7.13357786e-04,  1.50384057e-05,  9.17482665e-06,\n",
       "        -1.58944095e-04, -8.67120540e-04, -2.30985229e-03,\n",
       "        -1.13637796e-03, -1.09402371e-04,  4.47829321e-05,\n",
       "        -1.15836237e-04,  3.79278770e-04, -1.84394597e-03,\n",
       "        -3.81488630e-03, -1.13637796e-03, -5.18684389e-04,\n",
       "        -6.37093505e-05, -4.47195135e-05,  1.38452625e-05,\n",
       "        -2.60887171e-05,  1.64785462e-04,  8.44223976e-05,\n",
       "        -1.09402371e-04, -6.37093505e-05, -5.49075207e-05,\n",
       "        -1.44111513e-05,  2.04876918e-05, -7.11566938e-05,\n",
       "         3.17329064e-04,  7.13357786e-04,  4.47829321e-05,\n",
       "        -4.47195135e-05, -1.44111513e-05,  3.71990815e-06,\n",
       "        -8.84232851e-05,  2.13432424e-04, -1.05365352e-03,\n",
       "        -1.28227484e-03,  1.03529794e-03,  4.26027676e-04,\n",
       "         1.97772524e-04,  3.48733255e-05,  2.13432424e-04,\n",
       "        -3.84820427e-04,  2.14430254e-03,  5.43098790e-04,\n",
       "        -3.77062969e-03, -9.54267572e-04, -4.48106798e-04,\n",
       "        -8.23291730e-05, -1.05365352e-03,  2.14430254e-03,\n",
       "        -1.11990161e-02, -7.06210927e-03,  1.65057707e-02,\n",
       "         4.76842957e-03,  2.22422284e-03,  3.92803788e-04,\n",
       "        -1.28227484e-03,  5.43098790e-04, -7.06210927e-03,\n",
       "         3.26782253e-02,  4.05656950e-02,  4.51914962e-03,\n",
       "         2.11034472e-03,  3.70105452e-04,  1.03529794e-03,\n",
       "        -3.77062969e-03,  1.65057707e-02,  4.05656950e-02,\n",
       "         1.45538059e-04, -6.85922464e-03, -2.82650992e-03,\n",
       "        -4.43771147e-04,  4.26027676e-04, -9.54267572e-04,\n",
       "         4.76842957e-03,  4.51914962e-03, -6.85922464e-03,\n",
       "        -3.18102152e-03, -1.14176178e-03, -1.75230454e-04,\n",
       "         1.97772524e-04, -4.48106798e-04,  2.22422284e-03,\n",
       "         2.11034472e-03, -2.82650992e-03, -1.14176178e-03,\n",
       "        -4.65548759e-04, -7.20415672e-05,  3.48733255e-05,\n",
       "        -8.23291730e-05,  3.92803788e-04,  3.70105452e-04,\n",
       "        -4.43771147e-04, -1.75230454e-04, -7.20415672e-05,\n",
       "        -7.51907251e-06]])"
      ]
     },
     "execution_count": 146,
     "metadata": {},
     "output_type": "execute_result"
    }
   ],
   "source": [
    "soap_pca.components_"
   ]
  },
  {
   "cell_type": "markdown",
   "id": "30c25902",
   "metadata": {},
   "source": [
    "## Baseline Model (SOAP)"
   ]
  },
  {
   "cell_type": "code",
   "execution_count": 325,
   "id": "3b29440b",
   "metadata": {
    "ExecuteTime": {
     "end_time": "2023-02-21T19:02:24.430143Z",
     "start_time": "2023-02-21T19:02:24.150335Z"
    }
   },
   "outputs": [
    {
     "name": "stdout",
     "output_type": "stream",
     "text": [
      "tensor(0.0613)\n",
      "tensor(0.0636)\n"
     ]
    }
   ],
   "source": [
    "from sklearn.linear_model import Ridge\n",
    "from dostools.loss import loss\n",
    "from dostools.consistency import consistency\n",
    "\n",
    "Features = copy.deepcopy(PCA_kernel)\n",
    "o_ldos = torch.tensor(data.load_ldos())\n",
    "o_ldos *= 2\n",
    "y_pw = o_ldos# - o_ldos[train_index].mean(axis = 0)\n",
    "y_shifted = copy.deepcopy(y_pw)\n",
    "#y_shifted = consistency.shifted_ldos()\n",
    "\n",
    "baselinemodel = Ridge(alpha = 0, fit_intercept = True, solver = 'svd')\n",
    "\n",
    "x = Features[train_index]\n",
    "y = y_shifted[train_index]\n",
    "\n",
    "baselinemodel.fit(x,y)\n",
    "\n",
    "baseline_predictions = baselinemodel.predict(x)\n",
    "train_rmse = loss.t_get_rmse(torch.tensor(baseline_predictions), y)\n",
    "\n",
    "# small_test_index = torch.arange(1039)\n",
    "# small_test_index[small_index] = False\n",
    "# small_test_index = small_test_index.nonzero().flatten()\n",
    "\n",
    "\n",
    "baseline_test_predictions = baselinemodel.predict(Features[test_index])\n",
    "test_rmse = loss.t_get_rmse(torch.tensor(baseline_test_predictions), y_shifted[test_index])\n",
    "\n",
    "print(train_rmse)\n",
    "print(test_rmse)"
   ]
  },
  {
   "cell_type": "markdown",
   "id": "ec309322",
   "metadata": {},
   "source": [
    "## Misc Visualizations"
   ]
  },
  {
   "cell_type": "code",
   "execution_count": 326,
   "id": "021bfb0e",
   "metadata": {
    "ExecuteTime": {
     "end_time": "2023-02-21T19:05:40.302401Z",
     "start_time": "2023-02-21T19:05:39.368377Z"
    }
   },
   "outputs": [
    {
     "data": {
      "text/plain": [
       "[<matplotlib.lines.Line2D at 0x7f6e384d7370>]"
      ]
     },
     "execution_count": 326,
     "metadata": {},
     "output_type": "execute_result"
    },
    {
     "data": {
      "image/png": "[encoded data removed]",
      "text/plain": [
       "<Figure size 432x288 with 1 Axes>"
      ]
     },
     "metadata": {
      "needs_background": "light"
     },
     "output_type": "display_data"
    }
   ],
   "source": [
    "plt.plot(xdos, ldos[700])"
   ]
  },
  {
   "cell_type": "code",
   "execution_count": 194,
   "id": "999cfd9c",
   "metadata": {
    "ExecuteTime": {
     "end_time": "2023-02-21T15:10:19.556678Z",
     "start_time": "2023-02-21T15:10:18.772098Z"
    }
   },
   "outputs": [
    {
     "data": {
      "text/plain": [
       "<matplotlib.collections.PathCollection at 0x7f6e3a747850>"
      ]
     },
     "execution_count": 194,
     "metadata": {},
     "output_type": "execute_result"
    },
    {
     "data": {
      "image/png": "[encoded data removed]",
      "text/plain": [
       "<Figure size 432x288 with 1 Axes>"
      ]
     },
     "metadata": {
      "needs_background": "light"
     },
     "output_type": "display_data"
    }
   ],
   "source": [
    "plt.plot(np.array([1,0.5,0.1,0.05,0.01,0.001]), np.array([0.6768, 0.0426, 0.0079, 0.0036, 0.0019, 0.0017]))\n",
    "plt.scatter(np.array([1,0.5,0.1,0.05,0.01,0.001]), np.array([0.6768, 0.0426, 0.0079, 0.0036, 0.0019, 0.0017]))"
   ]
  },
  {
   "cell_type": "code",
   "execution_count": null,
   "id": "8981b05b",
   "metadata": {},
   "outputs": [],
   "source": [
    "1\n",
    "tensor(24)\n",
    "tensor(0.6768)\n",
    "\n",
    "5E-1\n",
    "tensor(49)\n",
    "tensor(0.0426)\n",
    "\n",
    "\n",
    "1E-1\n",
    "tensor(245)\n",
    "tensor(0.0079)\n",
    "\n",
    "5E-2\n",
    "tensor(484)\n",
    "tensor(0.0036)\n",
    "\n",
    "1E-2 \n",
    "tensor(2149)\n",
    "tensor(0.0019)\n",
    "\n",
    "1E-3\n",
    "tensor(7013)\n",
    "tensor(0.0017)"
   ]
  }
 ],
 "metadata": {
  "kernelspec": {
   "display_name": "Python 3 (ipykernel)",
   "language": "python",
   "name": "python3"
  },
  "language_info": {
   "codemirror_mode": {
    "name": "ipython",
    "version": 3
   },
   "file_extension": ".py",
   "mimetype": "text/x-python",
   "name": "python",
   "nbconvert_exporter": "python",
   "pygments_lexer": "ipython3",
   "version": "3.9.12"
  },
  "toc": {
   "base_numbering": 1,
   "nav_menu": {},
   "number_sections": true,
   "sideBar": true,
   "skip_h1_title": false,
   "title_cell": "Table of Contents",
   "title_sidebar": "Contents",
   "toc_cell": false,
   "toc_position": {
    "height": "calc(100% - 180px)",
    "left": "10px",
    "top": "150px",
    "width": "165px"
   },
   "toc_section_display": true,
   "toc_window_display": true
  }
 },
 "nbformat": 4,
 "nbformat_minor": 5
}
