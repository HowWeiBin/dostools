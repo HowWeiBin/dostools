{
 "cells": [
  {
   "cell_type": "code",
   "execution_count": 37,
   "id": "deae838b",
   "metadata": {
    "ExecuteTime": {
     "end_time": "2023-05-01T15:39:40.342970Z",
     "start_time": "2023-05-01T15:39:40.338644Z"
    }
   },
   "outputs": [],
   "source": [
    "import numpy as np\n",
    "import torch\n",
    "import matplotlib.pyplot as plt\n",
    "from tqdm import tqdm"
   ]
  },
  {
   "cell_type": "code",
   "execution_count": 413,
   "id": "687b31ea",
   "metadata": {
    "ExecuteTime": {
     "end_time": "2023-05-01T17:41:39.708345Z",
     "start_time": "2023-05-01T17:41:39.697038Z"
    }
   },
   "outputs": [],
   "source": [
    "def manual_call2(spline_coefs, spline_positions, x):\n",
    "    \"\"\"\n",
    "    spline_coefs: shape of (n x 4 x spline_positions)\n",
    "    \n",
    "    return value: shape of (n x x)\n",
    "    \n",
    "    x : shape of (n x n_points)\n",
    "    \"\"\"\n",
    "    interval = torch.round(spline_positions[1] - spline_positions[0], decimals = 4)\n",
    "    x = torch.clamp(x, min = spline_positions[0], max = spline_positions[-1]- 0.0005)\n",
    "    indexes = torch.floor((x - spline_positions[0])/interval).long()\n",
    "    expanded_index = indexes.unsqueeze(dim=1).expand(-1,4,-1)\n",
    "    x_1 = x - spline_positions[indexes]\n",
    "    x_2 = x_1 * x_1\n",
    "    x_3 = x_2 * x_1\n",
    "    x_0 = torch.ones_like(x_1)\n",
    "    x_powers = torch.stack([x_3, x_2, x_1, x_0]).permute(1,0,2)\n",
    "    value = torch.sum(torch.mul(x_powers, torch.gather(spline_coefs, 2, expanded_index)), axis = 1) \n",
    "    \n",
    "    \n",
    "    return value"
   ]
  },
  {
   "cell_type": "code",
   "execution_count": 407,
   "id": "817e82ad",
   "metadata": {
    "ExecuteTime": {
     "end_time": "2023-05-01T17:38:51.039967Z",
     "start_time": "2023-05-01T17:38:50.688188Z"
    }
   },
   "outputs": [],
   "source": [
    "# shifts = torch.arange(-28, 28, 2)\n",
    "# shifts = shifts.repeat(927, 1)\n",
    "# z = (shifts.reshape(-1,1) - xaxis).reshape(927,28, -1)"
   ]
  },
  {
   "cell_type": "code",
   "execution_count": 414,
   "id": "f67cb528",
   "metadata": {
    "ExecuteTime": {
     "end_time": "2023-05-01T17:41:42.666001Z",
     "start_time": "2023-05-01T17:41:42.067300Z"
    }
   },
   "outputs": [],
   "source": [
    "for i in range(40):\n",
    "    test2 = manual_call2(Splines_03[index:index+batch_size], xaxis, full_xdos + true_alignments.view(-1,1))\n"
   ]
  },
  {
   "cell_type": "code",
   "execution_count": 8,
   "id": "ab72bc65",
   "metadata": {
    "ExecuteTime": {
     "end_time": "2023-05-01T15:09:16.185729Z",
     "start_time": "2023-05-01T15:09:13.929205Z"
    }
   },
   "outputs": [],
   "source": [
    "with torch.no_grad():\n",
    "    Splines_03 = torch.load(\"./Splines_Total_03.pt\")\n",
    "    Splines_01 = torch.load(\"./Splines_Total_01.pt\")"
   ]
  },
  {
   "cell_type": "code",
   "execution_count": 12,
   "id": "a0458a6a",
   "metadata": {
    "ExecuteTime": {
     "end_time": "2023-05-01T15:15:47.724837Z",
     "start_time": "2023-05-01T15:15:47.710595Z"
    }
   },
   "outputs": [],
   "source": [
    "with torch.no_grad():\n",
    "    total_dos3 = torch.load(\"./total_ldos3.pt\")\n",
    "    total_dos1 = torch.load(\"./total_ldos1.pt\")"
   ]
  },
  {
   "cell_type": "code",
   "execution_count": 51,
   "id": "cb696e86",
   "metadata": {
    "ExecuteTime": {
     "end_time": "2023-05-01T15:44:23.678996Z",
     "start_time": "2023-05-01T15:44:23.649496Z"
    }
   },
   "outputs": [],
   "source": [
    "with torch.no_grad():\n",
    "    lower_bound2 = -24.5537 - 2\n",
    "    upper_bound2 = 11.3464 + 2\n",
    "    efermi_max = -4.7117\n",
    "    truncated_upper_bound = efermi_max + 3\n",
    "    xaxis = torch.arange(lower_bound2,upper_bound2,0.001)\n",
    "    full_xdos = torch.arange(-24.5537 - 1.5, 11.3464 + 1.5 - 0.05, 0.05)\n",
    "    partial_xdos = torch.arange(-24.5537 - 1.5, efermi_max + 3, 0.05)"
   ]
  },
  {
   "cell_type": "code",
   "execution_count": 188,
   "id": "098ebc1b",
   "metadata": {
    "ExecuteTime": {
     "end_time": "2023-05-01T16:14:12.573212Z",
     "start_time": "2023-05-01T16:14:12.568394Z"
    }
   },
   "outputs": [
    {
     "data": {
      "text/plain": [
       "39.900099999999995"
      ]
     },
     "execution_count": 188,
     "metadata": {},
     "output_type": "execute_result"
    }
   ],
   "source": [
    "upper_bound2 - lower_bound2"
   ]
  },
  {
   "cell_type": "code",
   "execution_count": 418,
   "id": "cb77a231",
   "metadata": {
    "ExecuteTime": {
     "end_time": "2023-05-01T17:43:57.352392Z",
     "start_time": "2023-05-01T17:43:57.347573Z"
    }
   },
   "outputs": [],
   "source": [
    "shifts = torch.arange(-28, 28, 2)\n",
    "shifts = shifts.repeat(927,1)\n",
    "# shi\n",
    "shifts = shifts.T"
   ]
  },
  {
   "cell_type": "code",
   "execution_count": 457,
   "id": "fa4d2c28",
   "metadata": {
    "ExecuteTime": {
     "end_time": "2023-05-01T18:07:32.268303Z",
     "start_time": "2023-05-01T18:07:32.252282Z"
    }
   },
   "outputs": [],
   "source": [
    "def t_get_mse(a, b, xdos = None, perc = False):\n",
    "    if xdos is not None:\n",
    "        if len(a.size()) > 1:\n",
    "            mse = (torch.trapezoid((a - b)**2, xdos, axis=1)).mean()\n",
    "        else:\n",
    "            mse = (torch.trapezoid((a - b)**2, xdos, axis=0)).mean()\n",
    "        if not perc:\n",
    "            return mse\n",
    "        else:\n",
    "            mean = b.mean(axis = 0)\n",
    "            std = torch.trapezoid((b - mean)**2, xdos, axis=1).mean()\n",
    "            return (100 * mse / std)\n",
    "    else:\n",
    "        if len(a.size()) > 1:\n",
    "            mse = ((a - b)**2).mean(dim = (1,2))\n",
    "        else:\n",
    "            mse = ((a - b)**2).mean()\n",
    "        if len(mse.shape) > 1:\n",
    "            raise ValueError('Loss became 2D')\n",
    "        if not perc:\n",
    "            return mse\n",
    "        else:\n",
    "            return 100 * mse / b.std(dim=0, unbiased = True)"
   ]
  },
  {
   "cell_type": "code",
   "execution_count": 469,
   "id": "a8fef34f",
   "metadata": {
    "ExecuteTime": {
     "end_time": "2023-05-01T18:19:03.596096Z",
     "start_time": "2023-05-01T18:19:03.591572Z"
    }
   },
   "outputs": [],
   "source": [
    "a = torch.rand(29,927)\n",
    "b = torch.ones_like(a)\n"
   ]
  },
  {
   "cell_type": "code",
   "execution_count": 489,
   "id": "6e227a1c",
   "metadata": {
    "ExecuteTime": {
     "end_time": "2023-05-01T18:24:54.107030Z",
     "start_time": "2023-05-01T18:24:54.101706Z"
    }
   },
   "outputs": [
    {
     "data": {
      "text/plain": [
       "tensor([[0.0150, 0.3560, 0.1094,  ..., 0.0150, 0.0575, 0.7629],\n",
       "        [0.7238, 0.9709, 0.3950,  ..., 0.7238, 0.5274, 0.9011],\n",
       "        [0.1114, 0.9859, 0.8028,  ..., 0.1114, 0.0692, 0.7382],\n",
       "        ...,\n",
       "        [0.9630, 0.5954, 0.1033,  ..., 0.9630, 0.2133, 0.3217],\n",
       "        [0.3105, 0.6311, 0.5671,  ..., 0.3105, 0.5694, 0.3700],\n",
       "        [0.4975, 0.5055, 0.3629,  ..., 0.4975, 0.8139, 0.0691]])"
      ]
     },
     "execution_count": 489,
     "metadata": {},
     "output_type": "execute_result"
    }
   ],
   "source": [
    "torch.index_select(a, dim =1, index = i)"
   ]
  },
  {
   "cell_type": "code",
   "execution_count": 471,
   "id": "b6a26ac0",
   "metadata": {
    "ExecuteTime": {
     "end_time": "2023-05-01T18:19:38.990931Z",
     "start_time": "2023-05-01T18:19:38.983431Z"
    }
   },
   "outputs": [
    {
     "data": {
      "text/plain": [
       "tensor([[0.0150, 0.6438, 0.6472,  ..., 0.0143, 0.3003, 0.9438],\n",
       "        [0.7238, 0.0859, 0.3940,  ..., 0.6917, 0.3882, 0.7487],\n",
       "        [0.1114, 0.8945, 0.8884,  ..., 0.0397, 0.8491, 0.7889],\n",
       "        ...,\n",
       "        [0.9630, 0.3745, 0.6036,  ..., 0.7591, 0.7048, 0.9748],\n",
       "        [0.3105, 0.3299, 0.5299,  ..., 0.6879, 0.3857, 0.0191],\n",
       "        [0.4975, 0.0869, 0.0591,  ..., 0.5842, 0.2988, 0.0298]])"
      ]
     },
     "execution_count": 471,
     "metadata": {},
     "output_type": "execute_result"
    }
   ],
   "source": [
    "a"
   ]
  },
  {
   "cell_type": "code",
   "execution_count": 479,
   "id": "cb2a9a31",
   "metadata": {
    "ExecuteTime": {
     "end_time": "2023-05-01T18:22:27.072411Z",
     "start_time": "2023-05-01T18:22:27.062013Z"
    }
   },
   "outputs": [],
   "source": [
    "i = torch.argmin(a, dim = 0)"
   ]
  },
  {
   "cell_type": "code",
   "execution_count": 517,
   "id": "ea1b96f5",
   "metadata": {
    "ExecuteTime": {
     "end_time": "2023-05-01T18:32:42.067267Z",
     "start_time": "2023-05-01T18:32:42.056726Z"
    }
   },
   "outputs": [
    {
     "data": {
      "text/plain": [
       "tensor([ 0, 15,  7,  0,  8,  2, 10, 15,  7,  3, 12, 26,  3, 18, 15, 21,  3,  4,\n",
       "         5, 13,  0, 16,  4,  9,  2, 10, 22, 24, 24, 23,  0, 14, 17, 21, 24, 22,\n",
       "        26,  8, 11, 18, 26,  5,  9, 28,  2, 12, 11,  4, 12, 15, 22,  7, 28, 22,\n",
       "        21,  8, 26, 20, 12, 10, 22, 14, 15, 21, 18,  9, 23,  6, 24, 26, 24, 23,\n",
       "        28, 11,  9, 10, 25,  5, 16, 28, 24,  0,  3,  9,  7,  6, 21,  8,  7, 16,\n",
       "         5,  7, 18, 20, 11, 17, 20,  4, 15, 14,  6, 28,  5, 10, 11,  2, 19, 26,\n",
       "         3, 13, 27, 17,  2, 24,  2, 12, 10,  4,  2, 27,  0,  4, 24,  2,  6, 16,\n",
       "        16, 23,  0,  3,  8, 16,  1,  9, 21, 18,  8,  3, 28, 23, 27, 26, 21, 21,\n",
       "         6,  1,  8, 22, 11,  8, 24,  1, 26,  0, 19, 14,  0, 24, 28, 18,  6,  8,\n",
       "        26,  7, 11, 28,  5,  5, 20, 13, 12,  9,  3, 27, 12, 19, 12,  1, 25, 20,\n",
       "        21,  8,  0, 25,  9, 18, 22,  2,  4, 10,  0,  6, 18, 19,  4, 28, 23,  8,\n",
       "        20, 27,  6, 17, 18, 15,  4,  0,  4, 28, 27, 25, 17, 24, 17, 24, 10, 19,\n",
       "        16,  8, 11,  7, 18, 15, 21, 12, 18, 19,  2, 23, 13, 22, 28, 20,  1, 19,\n",
       "        14,  4,  4, 16,  3, 18, 25, 26, 12,  1,  9, 10,  1,  4,  7, 17,  2, 21,\n",
       "         7, 19, 20,  3, 10, 26, 27, 18, 22, 27, 21, 21, 18, 23,  7,  8,  4,  1,\n",
       "        23,  4,  7,  4, 27,  0,  9,  1, 10,  4, 23,  0,  8, 25,  7, 11,  0,  8,\n",
       "         3, 19, 26, 21,  7, 18, 20, 26, 19,  3, 26, 16, 15,  9,  8, 21,  1, 13,\n",
       "         0, 27, 25,  7, 17, 27, 16,  0, 27, 15, 13,  6,  7, 19, 23, 15, 19, 20,\n",
       "        16, 27,  2, 11, 11,  3, 15, 12,  2,  7, 22, 11, 25, 19,  7,  9, 28, 25,\n",
       "        26,  3,  0, 15, 19, 27, 14, 24, 21, 12, 16, 23, 26, 22, 12, 28, 20, 22,\n",
       "         8, 10, 10, 19, 17, 10,  7, 27, 16, 16, 12,  7, 11, 25, 15, 17, 25, 26,\n",
       "        18, 11, 13,  1, 21,  4, 22, 25,  9, 21, 22, 24,  8, 10, 15, 14,  6,  1,\n",
       "        13,  1, 26, 15, 26, 17, 15, 13,  0,  1,  0, 28, 20, 10,  5, 10, 12, 15,\n",
       "        19, 21, 19,  2,  4, 13,  7,  9, 25, 25, 12,  5, 12, 23, 17, 17, 26, 15,\n",
       "        13,  3,  3,  5,  4, 18, 10,  1, 28,  7, 19,  6, 12,  2, 27,  7, 21, 10,\n",
       "        28, 27, 20,  9,  9, 27, 22, 28, 10,  7, 21, 28,  6, 24,  0, 24, 12,  5,\n",
       "        12, 26,  3, 28,  8, 28, 11, 24, 19,  7, 18,  2,  6, 10, 23, 15, 26, 13,\n",
       "        28, 15, 11, 16, 11, 13, 11,  3,  6, 10,  0, 25,  6,  6,  3, 20, 15, 16,\n",
       "        15,  9,  5,  5, 16, 22, 28,  8,  1,  3,  9, 14, 16,  8, 15,  5,  4, 25,\n",
       "         4, 28, 28, 15, 11, 23, 19,  8, 11,  6, 13,  1, 26, 12, 16,  6, 14, 12,\n",
       "        21, 21,  3,  3, 20, 23, 18,  0, 23, 22, 28,  7, 18, 26, 23, 11, 20,  1,\n",
       "         7, 17, 18, 23, 15, 22,  4, 16, 13, 20, 28, 17,  9,  7,  1, 12,  9,  2,\n",
       "        28, 10, 19, 24, 14, 28,  5, 26,  0,  4,  1,  3, 17,  0, 27,  5,  9, 27,\n",
       "         8, 21, 13,  0, 25, 20,  3,  9, 12, 21,  9,  4,  3, 22, 19,  1, 28, 26,\n",
       "        19, 14, 25, 24, 19, 28, 15, 13, 10, 26, 20, 12, 14,  3, 21, 24,  0, 17,\n",
       "         7,  9,  3, 11, 28, 15,  8, 20, 27, 16,  4, 18, 18, 11, 23,  0, 24,  0,\n",
       "        19, 16, 27, 25,  6, 18,  8, 18, 28, 10, 12,  1,  1, 14,  4, 19, 11, 19,\n",
       "        18, 13, 26,  3,  6, 21, 22,  5, 13,  8, 27, 27, 10,  2, 11,  5, 26, 24,\n",
       "         4, 25,  5,  0,  5, 22, 21,  7, 24, 12, 14, 17,  3, 23, 20, 16, 10, 23,\n",
       "         8, 24, 12, 23,  3, 20,  1,  5,  9,  0, 10, 27, 26, 23, 20, 12,  6, 22,\n",
       "        22, 11, 14, 21, 20, 17, 20, 17,  3,  6,  0, 19, 26, 18, 27, 10,  0, 18,\n",
       "        28,  4, 22,  5, 13, 14,  8, 16,  4, 12,  6, 17,  4, 11,  5, 25, 13, 12,\n",
       "         4, 11, 23,  8, 12, 10, 16,  2, 11, 21, 25,  4, 17, 16, 16, 27, 11, 16,\n",
       "        16, 12,  5, 25, 23,  9, 28,  5, 28,  4,  2, 22, 25, 14,  3,  1,  2, 13,\n",
       "         9, 14, 12, 10, 25, 20,  0,  2, 20, 14,  8, 28, 22,  6,  1,  4, 23,  8,\n",
       "         3,  0, 24, 12, 13, 13,  0, 19, 27, 16, 10,  2, 11, 26, 10, 23,  4, 28,\n",
       "        20, 14, 20, 13,  5, 23, 12,  5,  3, 28, 15, 16, 27,  6,  1,  0, 27, 13,\n",
       "        12,  7, 24, 12,  7, 28,  1,  3, 14, 11, 22, 12,  3,  5, 18,  3, 19,  6,\n",
       "         6,  2,  4, 27, 23, 24, 15,  9, 12, 28,  0, 16,  6, 11,  9,  4, 23, 19,\n",
       "        24, 10, 16,  0, 14,  3, 24,  7, 19,  3, 10,  1, 28, 19, 20,  1, 21, 28,\n",
       "         3, 20,  7, 10,  3, 24,  7, 28,  3, 17,  5,  9,  4, 12, 11, 21, 19,  8,\n",
       "         3, 27, 13,  6,  4, 27,  0, 22, 27])"
      ]
     },
     "execution_count": 517,
     "metadata": {},
     "output_type": "execute_result"
    }
   ],
   "source": [
    "i"
   ]
  },
  {
   "cell_type": "code",
   "execution_count": 573,
   "id": "76f082ce",
   "metadata": {
    "ExecuteTime": {
     "end_time": "2023-05-01T18:48:44.806425Z",
     "start_time": "2023-05-01T18:48:44.793559Z"
    }
   },
   "outputs": [],
   "source": [
    "from dostools.loss import loss\n",
    "def MSE_shift_spline(y_pred, critical_xdos, target_splines, spline_positions, n_epochs):\n",
    "    shifts = torch.nn.parameter.Parameter(torch.zeros(y_pred.shape[0]))\n",
    "    opt_LBFGS = torch.optim.LBFGS([shifts], lr = 0.1, line_search_fn = 'strong_wolfe', tolerance_grad = 1e-15, tolerance_change = 1e-15)#, weight_decay = 0)\n",
    "    opt_adam = torch.optim.Adam([shifts], lr = 1e-1, weight_decay = 0)\n",
    "    scheduler = torch.optim.lr_scheduler.ReduceLROnPlateau(opt_adam, factor = 0.1, patience = 20, threshold = 1e-7, min_lr = 1e-7)\n",
    "   \n",
    "    for i in tqdm(range(n_epochs)):\n",
    "        def closure():\n",
    "            opt_adam.zero_grad()\n",
    "            shifted_target = manual_call2(target_splines, spline_positions, critical_xdos + shifts.view(-1,1))\n",
    "#             shifted_ldos = evaluate_dos_from_fourier(shifted_preds, emin, emax, num_eval=778)\n",
    "            #loss_i = torch.mean((y_pred - shifted_target)**2)\n",
    "#             loss_i = loss.t_get_mse(y_pred, shifted_target)\n",
    "            loss_i = loss.t_get_mse(y_pred, shifted_target)\n",
    "#             loss_i += loss.t_get_mse(shifted_target[:,cutoff_index], target[:,cutoff_index])\n",
    "            loss_i.backward(gradient = torch.tensor(1), inputs = shifts)\n",
    "#             print (loss_i.item(), shifts.grad.item(), shifts.item())\n",
    "            return (loss_i)\n",
    "\n",
    "        mse = opt_adam.step(closure)\n",
    "    shifted_target = manual_call2(target_splines, spline_positions, critical_xdos + shifts.view(-1,1))\n",
    "    rmse = loss.t_get_rmse(y_pred, shifted_target, critical_xdos, perc = True)\n",
    "    return rmse, shifts"
   ]
  },
  {
   "cell_type": "code",
   "execution_count": 601,
   "id": "11b99612",
   "metadata": {
    "ExecuteTime": {
     "end_time": "2023-05-01T19:15:37.280022Z",
     "start_time": "2023-05-01T19:15:37.267315Z"
    }
   },
   "outputs": [],
   "source": [
    "from dostools.loss import loss\n",
    "def MSE_shift_spline2(y_pred, critical_xdos, target_splines, spline_positions, n_epochs):\n",
    "    all_shifts = []\n",
    "    all_mse = []\n",
    "    for offset in tqdm(range(-28,29,2)):\n",
    "        shifts = torch.nn.parameter.Parameter(torch.zeros(y_pred.shape[0]) + offset)\n",
    "        opt_LBFGS = torch.optim.LBFGS([shifts], lr = 0.1, line_search_fn = 'strong_wolfe', tolerance_grad = 1e-15, tolerance_change = 1e-15)#, weight_decay = 0)\n",
    "        opt_adam = torch.optim.Adam([shifts], lr = 1e-1, weight_decay = 0)\n",
    "        scheduler = torch.optim.lr_scheduler.ReduceLROnPlateau(opt_adam, factor = 0.1, patience = 20, threshold = 1e-7, min_lr = 1e-7)\n",
    "        best_error = torch.tensor(100)\n",
    "        best_shifts = shifts.clone()\n",
    "        for i in (range(n_epochs)):\n",
    "            def closure():\n",
    "                opt_adam.zero_grad()\n",
    "                shifted_target = manual_call2(target_splines, spline_positions, critical_xdos + shifts.view(-1,1))\n",
    "    #             shifted_ldos = evaluate_dos_from_fourier(shifted_preds, emin, emax, num_eval=778)\n",
    "                #loss_i = torch.mean((y_pred - shifted_target)**2)\n",
    "    #             loss_i = loss.t_get_mse(y_pred, shifted_target)\n",
    "                loss_i = ((y_pred - shifted_target)**2).mean()\n",
    "    #             loss_i += loss.t_get_mse(shifted_target[:,cutoff_index], target[:,cutoff_index])\n",
    "                loss_i.backward(gradient = torch.tensor(1), inputs = shifts)\n",
    "    #             print (loss_i.item(), shifts.grad.item(), shifts.item())\n",
    "                return (loss_i)\n",
    "\n",
    "            mse = opt_adam.step(closure)\n",
    "            if mse < best_error:\n",
    "                best_shifts = shifts.clone()\n",
    "                best_error = mse.clone()\n",
    "        #Evaluate\n",
    "        all_shifts.append(best_shifts)\n",
    "        shifted_target = manual_call2(target_splines, spline_positions, critical_xdos + best_shifts.view(-1,1))\n",
    "        mse = ((y_pred - shifted_target)**2).mean(dim = 1)\n",
    "        all_mse.append(mse)\n",
    "    all_shifts = torch.vstack(all_shifts)\n",
    "    all_mse = torch.vstack(all_mse)\n",
    "    min_index = torch.argmin(all_mse, dim = 0)\n",
    "    optimal_shift = []\n",
    "    for i in range(len(min_index)):\n",
    "        optimal_shift.append(all_shifts.T[i, min_index[i]])\n",
    "    optimal_shift = torch.tensor(optimal_shift)\n",
    "    shifted_target = manual_call2(target_splines, spline_positions, critical_xdos + optimal_shift.view(-1,1))\n",
    "    rmse = loss.t_get_rmse(y_pred, shifted_target, critical_xdos, perc = True)\n",
    "    return rmse, optimal_shift"
   ]
  },
  {
   "cell_type": "code",
   "execution_count": 655,
   "id": "ef51dc6b",
   "metadata": {
    "ExecuteTime": {
     "end_time": "2023-05-01T19:58:58.120851Z",
     "start_time": "2023-05-01T19:58:58.099821Z"
    }
   },
   "outputs": [],
   "source": [
    "from dostools.loss import loss\n",
    "def MSE_shift_spline3(y_pred, critical_xdos, target_splines, spline_positions, n_epochs):\n",
    "    all_shifts = []\n",
    "    all_mse = []\n",
    "    optim_search_mse = []\n",
    "    offsets = torch.arange(-28,29,2)\n",
    "    with torch.no_grad():\n",
    "        for offset in offsets:\n",
    "            shifts = torch.zeros(y_pred.shape[0]) + offset\n",
    "            shifted_target = manual_call2(target_splines, spline_positions, critical_xdos + shifts.view(-1,1))\n",
    "            loss_i = ((y_pred - shifted_target)**2).mean(dim = 1)\n",
    "            optim_search_mse.append(loss_i)\n",
    "        optim_search_mse = torch.vstack(optim_search_mse)\n",
    "        min_index = torch.argmin(optim_search_mse, dim = 0)\n",
    "        optimal_offset = offsets[min_index]\n",
    "    \n",
    "    offsets = [optimal_offset -2, optimal_offset, optimal_offset+2]\n",
    "    \n",
    "    for offset in tqdm(offsets):\n",
    "        shifts = torch.nn.parameter.Parameter(offset.float())\n",
    "        opt_LBFGS = torch.optim.LBFGS([shifts], lr = 0.1, line_search_fn = 'strong_wolfe', tolerance_grad = 1e-15, tolerance_change = 1e-15)#, weight_decay = 0)\n",
    "        opt_adam = torch.optim.Adam([shifts], lr = 1e-1, weight_decay = 0)\n",
    "        scheduler = torch.optim.lr_scheduler.ReduceLROnPlateau(opt_adam, factor = 0.1, patience = 20, threshold = 1e-7, min_lr = 1e-7)\n",
    "        best_error = torch.tensor(100)\n",
    "        best_shifts = shifts.clone()\n",
    "        for i in (range(n_epochs)):\n",
    "            def closure():\n",
    "                opt_adam.zero_grad()\n",
    "                shifted_target = manual_call2(target_splines, spline_positions, critical_xdos + shifts.view(-1,1))\n",
    "    #             shifted_ldos = evaluate_dos_from_fourier(shifted_preds, emin, emax, num_eval=778)\n",
    "                #loss_i = torch.mean((y_pred - shifted_target)**2)\n",
    "    #             loss_i = loss.t_get_mse(y_pred, shifted_target)\n",
    "                loss_i = ((y_pred - shifted_target)**2).mean()\n",
    "    #             loss_i += loss.t_get_mse(shifted_target[:,cutoff_index], target[:,cutoff_index])\n",
    "                loss_i.backward(gradient = torch.tensor(1), inputs = shifts)\n",
    "    #             print (loss_i.item(), shifts.grad.item(), shifts.item())\n",
    "                return (loss_i)\n",
    "\n",
    "            mse = opt_adam.step(closure)\n",
    "            if mse < best_error:\n",
    "                best_shifts = shifts.clone()\n",
    "                best_error = mse.clone()\n",
    "        #Evaluate\n",
    "        all_shifts.append(best_shifts)\n",
    "        shifted_target = manual_call2(target_splines, spline_positions, critical_xdos + best_shifts.view(-1,1))\n",
    "        mse = ((y_pred - shifted_target)**2).mean(dim = 1)\n",
    "        all_mse.append(mse)\n",
    "    all_shifts = torch.vstack(all_shifts)\n",
    "    all_mse = torch.vstack(all_mse)\n",
    "    min_index = torch.argmin(all_mse, dim = 0)\n",
    "    optimal_shift = []\n",
    "    for i in range(len(min_index)):\n",
    "        optimal_shift.append(all_shifts.T[i, min_index[i]])\n",
    "    optimal_shift = torch.tensor(optimal_shift)\n",
    "    shifted_target = manual_call2(target_splines, spline_positions, critical_xdos + optimal_shift.view(-1,1))\n",
    "    rmse = loss.t_get_rmse(y_pred, shifted_target, critical_xdos, perc = True)\n",
    "    return rmse, optimal_shift, all_mse, all_shifts"
   ]
  },
  {
   "cell_type": "code",
   "execution_count": 596,
   "id": "62ceb66b",
   "metadata": {
    "ExecuteTime": {
     "end_time": "2023-05-01T18:53:49.274158Z",
     "start_time": "2023-05-01T18:53:49.267233Z"
    }
   },
   "outputs": [
    {
     "data": {
      "text/plain": [
       "tensor([1.2005e-01, 1.2021e-01, 1.2745e-01, 1.3354e-01, 1.5293e-01, 1.6391e-01,\n",
       "        1.6316e-01, 1.9940e-01, 2.0002e-01, 2.3553e-01, 2.2701e-01, 1.9945e-01,\n",
       "        1.9840e-01, 1.4053e-01, 1.4139e-01, 6.9947e-02, 6.2310e-02, 6.2277e-02,\n",
       "        6.2348e-02, 1.7426e-09, 5.0384e-12, 3.7029e-12, 3.0673e-07, 5.1855e-02,\n",
       "        5.1784e-02, 5.1678e-02, 9.2785e-02, 9.2767e-02, 9.3232e-02],\n",
       "       dtype=torch.float64, grad_fn=<SelectBackward0>)"
      ]
     },
     "execution_count": 596,
     "metadata": {},
     "output_type": "execute_result"
    }
   ],
   "source": [
    "all_error[:,0]"
   ]
  },
  {
   "cell_type": "code",
   "execution_count": 595,
   "id": "7c0b2158",
   "metadata": {
    "ExecuteTime": {
     "end_time": "2023-05-01T18:53:43.946062Z",
     "start_time": "2023-05-01T18:53:43.941259Z"
    }
   },
   "outputs": [
    {
     "data": {
      "text/plain": [
       "tensor([-31.0223, -30.3160, -26.0885, -23.4150, -21.0903, -17.5235, -18.0635,\n",
       "        -14.1413, -14.0753,  -9.4784,  -6.6460,  -3.0280,  -2.9006,   1.8578,\n",
       "          1.1330,   7.2483,   8.4833,   8.3534,   8.5191,  13.4003,  13.4000,\n",
       "         13.4000,  13.4038,  18.7440,  18.4713,  18.5822,  25.5288,  25.2945,\n",
       "         25.7483], grad_fn=<SelectBackward0>)"
      ]
     },
     "execution_count": 595,
     "metadata": {},
     "output_type": "execute_result"
    }
   ],
   "source": [
    "all_shift[:,0]"
   ]
  },
  {
   "cell_type": "code",
   "execution_count": 435,
   "id": "ed254112",
   "metadata": {
    "ExecuteTime": {
     "end_time": "2023-05-01T17:54:58.788196Z",
     "start_time": "2023-05-01T17:54:58.718104Z"
    }
   },
   "outputs": [
    {
     "data": {
      "text/plain": [
       "tensor(0.3332)"
      ]
     },
     "execution_count": 435,
     "metadata": {},
     "output_type": "execute_result"
    }
   ],
   "source": [
    "((b - a) ** 2).mean()"
   ]
  },
  {
   "cell_type": "code",
   "execution_count": 363,
   "id": "ee2d82db",
   "metadata": {
    "ExecuteTime": {
     "end_time": "2023-05-01T17:28:44.946441Z",
     "start_time": "2023-05-01T17:28:44.941017Z"
    }
   },
   "outputs": [
    {
     "data": {
      "text/plain": [
       "torch.Size([927, 28])"
      ]
     },
     "execution_count": 363,
     "metadata": {},
     "output_type": "execute_result"
    }
   ],
   "source": [
    "shifts.shape"
   ]
  },
  {
   "cell_type": "code",
   "execution_count": 364,
   "id": "e3e74771",
   "metadata": {
    "ExecuteTime": {
     "end_time": "2023-05-01T17:28:49.964815Z",
     "start_time": "2023-05-01T17:28:49.272032Z"
    }
   },
   "outputs": [],
   "source": [
    "50 it/s"
   ]
  },
  {
   "cell_type": "code",
   "execution_count": 653,
   "id": "7e64adb1",
   "metadata": {
    "ExecuteTime": {
     "end_time": "2023-05-01T19:50:07.439663Z",
     "start_time": "2023-05-01T19:49:56.815198Z"
    }
   },
   "outputs": [
    {
     "name": "stdout",
     "output_type": "stream",
     "text": [
      "torch.Size([29, 927])\n"
     ]
    },
    {
     "name": "stderr",
     "output_type": "stream",
     "text": [
      "100%|████████████████████████████████████████████████████████████████████████████████████████████████████████████████████████████████████████████████████████████████████████████████| 3/3 [00:09<00:00,  3.27s/it]\n"
     ]
    }
   ],
   "source": [
    "batch_size = 927\n",
    "index = 0\n",
    "# true_alignments = (torch.rand(batch_size)-0.5) * 2 #torch.tensor([0.9])\n",
    "\n",
    "true_alignments = torch.rand(927) * 25\n",
    "shift_target = manual_call2(Splines_03[index:index+batch_size], xaxis, full_xdos + true_alignments.view(-1,1))\n",
    "error3, align3, all_error, all_shift = MSE_shift_spline3(shift_target, full_xdos, Splines_03[index:index+batch_size], xaxis, 200)\n",
    "# print (torch.where(abs(true_alignments + align)>1e-3))"
   ]
  },
  {
   "cell_type": "code",
   "execution_count": 656,
   "id": "105cf7e4",
   "metadata": {
    "ExecuteTime": {
     "end_time": "2023-05-01T19:59:00.284467Z",
     "start_time": "2023-05-01T19:59:00.277836Z"
    }
   },
   "outputs": [
    {
     "data": {
      "text/plain": [
       "tensor(0.0050, dtype=torch.float64)"
      ]
     },
     "execution_count": 656,
     "metadata": {},
     "output_type": "execute_result"
    }
   ],
   "source": [
    "error3"
   ]
  },
  {
   "cell_type": "code",
   "execution_count": 657,
   "id": "c65a167c",
   "metadata": {
    "ExecuteTime": {
     "end_time": "2023-05-01T19:59:00.644004Z",
     "start_time": "2023-05-01T19:59:00.619998Z"
    }
   },
   "outputs": [
    {
     "data": {
      "text/plain": [
       "tensor([1.5933e+01, 1.7330e+01, 1.5075e+00, 1.8444e+00, 1.0907e+01, 7.0404e+00,\n",
       "        1.1343e+01, 1.1789e+01, 9.9925e+00, 1.2550e+01, 1.6038e+01, 2.2193e+01,\n",
       "        7.5066e+00, 8.7309e+00, 1.9006e+01, 2.0920e+01, 8.7882e+00, 2.1498e+01,\n",
       "        2.3297e+01, 1.3612e+01, 2.1757e+01, 2.0176e+01, 2.3534e+01, 2.2457e+01,\n",
       "        2.4652e+01, 1.6004e+01, 1.5464e+01, 1.0917e+01, 2.2832e+01, 1.2268e+01,\n",
       "        1.9812e+01, 1.5851e+01, 1.0728e+01, 1.0520e+01, 1.6518e+01, 1.0202e+01,\n",
       "        1.7134e+01, 9.0370e+00, 1.1482e+01, 3.0695e+00, 1.5811e+01, 3.5424e+00,\n",
       "        1.9116e+00, 9.1722e+00, 9.5080e+00, 3.9184e+00, 6.0645e+00, 1.6063e+01,\n",
       "        7.0081e-01, 5.5396e+00, 2.6170e+00, 1.7798e+01, 4.0194e+00, 9.4981e+00,\n",
       "        2.4768e+01, 6.6582e+00, 1.7304e+00, 1.9956e+01, 5.2931e+00, 1.5498e+01,\n",
       "        7.7458e+00, 9.8072e+00, 1.7827e+01, 2.1037e+00, 9.9552e+00, 1.4974e+01,\n",
       "        1.3286e+01, 1.9595e+01, 7.5784e+00, 7.3870e+00, 1.0800e+01, 5.4675e-01,\n",
       "        9.9521e+00, 2.1426e+01, 7.5426e+00, 3.3429e+00, 1.1576e+01, 3.1812e+00,\n",
       "        1.5324e+01, 1.4636e+01, 1.8941e+01, 1.8719e+00, 1.6345e+00, 2.4994e+01,\n",
       "        1.2867e+01, 1.1895e+01, 9.2971e+00, 1.4421e+01, 1.5688e+01, 1.1527e+01,\n",
       "        6.3332e+00, 9.9720e+00, 1.9326e+01, 1.1362e+01, 2.3039e+01, 5.3208e+00,\n",
       "        3.2854e+00, 1.4257e+01, 9.7770e+00, 3.9956e+00, 2.0431e+01, 1.6081e+01,\n",
       "        1.2409e+01, 2.0630e+00, 9.3062e+00, 1.3001e+01, 2.1956e+01, 2.4221e+01,\n",
       "        1.6479e+01, 7.5693e+00, 2.0337e+01, 1.6203e+01, 1.0677e+01, 2.3427e+01,\n",
       "        2.3660e-03, 1.1937e+01, 2.7929e+00, 1.8018e+01, 2.3942e+01, 2.3423e+01,\n",
       "        5.8197e+00, 2.4489e+01, 7.9522e-02, 2.3676e+01, 3.7573e+00, 1.8486e+01,\n",
       "        6.3808e+00, 8.5051e+00, 1.3058e+01, 1.3238e+01, 2.0031e+01, 2.3873e+01,\n",
       "        2.4752e+00, 4.6188e-01, 1.5873e+01, 1.2063e+01, 2.0239e+01, 1.3150e+01,\n",
       "        1.2798e+01, 1.9397e+01, 1.0574e+00, 7.0450e+00, 4.2795e+00, 9.9434e-01,\n",
       "        8.5530e+00, 2.3531e+01, 2.4235e+01, 2.0494e+00, 4.1183e+00, 2.0167e+01,\n",
       "        2.3498e+01, 2.4337e+01, 1.5988e+01, 4.9774e+00, 5.4883e+00, 2.1558e+01,\n",
       "        1.5303e+01, 1.6889e+01, 4.4972e+00, 1.9979e+01, 1.4515e+01, 1.8931e+01,\n",
       "        1.4035e+01, 2.2995e+01, 2.3213e+01, 1.2604e+00, 2.2412e+01, 5.8160e+00,\n",
       "        1.2891e+01, 1.3996e+01, 1.5902e+01, 1.9914e+01, 7.1146e+00, 1.5188e+00,\n",
       "        1.0194e+01, 1.4281e+01, 2.0521e+01, 6.4846e+00, 2.0166e+01, 3.4308e+00,\n",
       "        2.0306e+01, 1.1925e+01, 1.5286e+01, 1.4256e+01, 1.7508e+01, 1.3143e+01,\n",
       "        8.2829e+00, 1.7080e+01, 1.1817e+00, 1.1897e+01, 1.4970e+01, 1.7632e+00,\n",
       "        9.0207e+00, 1.0627e+01, 1.1200e+01, 8.1227e+00, 2.7945e+00, 3.8478e+00,\n",
       "        8.7709e+00, 2.0552e+01, 4.0276e+00, 8.2102e-01, 1.7690e+01, 5.3399e+00,\n",
       "        1.1594e+01, 3.9983e+00, 5.3707e+00, 1.6559e+01, 9.8054e+00, 6.5979e+00,\n",
       "        1.2042e+01, 1.7907e+01, 8.7326e+00, 1.8428e+01, 2.0474e+01, 2.4429e+01,\n",
       "        1.1016e+01, 1.4745e+01, 2.1527e+01, 2.3625e+00, 2.3885e+01, 1.6198e+01,\n",
       "        7.3698e-01, 1.9525e+01, 1.1827e+01, 2.3383e+01, 1.7202e+01, 2.0787e+00,\n",
       "        2.4608e+01, 1.1829e+01, 1.3819e+01, 5.2576e+00, 1.3096e+01, 1.0541e+01,\n",
       "        1.1015e+00, 1.0294e+01, 1.1506e+01, 7.3034e+00, 1.8389e+01, 4.4479e+00,\n",
       "        7.9212e-01, 3.8529e+00, 5.8030e+00, 2.2810e+01, 2.3599e+01, 1.4329e+01,\n",
       "        1.0882e+01, 2.5111e+00, 4.6798e-01, 1.6796e+00, 1.0365e+01, 1.4290e+01,\n",
       "        1.0680e+01, 1.6283e+01, 1.1126e+01, 9.9487e+00, 5.1807e+00, 2.2211e+01,\n",
       "        7.7402e+00, 8.2906e+00, 2.4242e+01, 1.9875e+01, 1.2617e+01, 1.7841e+00,\n",
       "        2.6874e+00, 2.0379e+01, 6.9557e+00, 7.8290e+00, 2.0591e+01, 8.7389e+00,\n",
       "        1.0424e+01, 1.2146e+01, 5.4796e+00, 7.3123e+00, 1.8676e+01, 1.5748e+01,\n",
       "        1.8361e+01, 1.6527e+01, 9.5524e+00, 1.6858e+01, 2.3682e+00, 2.3045e+01,\n",
       "        2.3344e+01, 1.4801e+01, 2.2104e+01, 9.6652e+00, 1.2792e+00, 1.8972e+01,\n",
       "        1.8743e+01, 2.1065e+01, 1.0959e+01, 1.6035e+01, 1.9311e+01, 1.8050e+01,\n",
       "        2.3544e+01, 1.3970e+01, 8.0218e+00, 9.0668e+00, 5.7075e+00, 2.2644e+01,\n",
       "        1.1442e+01, 2.0397e+01, 1.9435e+01, 1.2223e+01, 8.2780e+00, 1.8048e+00,\n",
       "        1.1337e+01, 2.0341e+01, 6.6600e+00, 1.7555e+01, 1.9410e+01, 2.0686e+01,\n",
       "        5.3698e+00, 2.4306e+01, 1.7221e+01, 1.9532e+01, 1.6168e+01, 1.1401e+01,\n",
       "        1.3171e+00, 2.0788e+01, 1.5233e+01, 8.5521e-01, 1.6374e+01, 1.1684e+01,\n",
       "        1.4132e+01, 2.1366e+01, 1.4733e+01, 5.3732e+00, 1.2389e+01, 3.6627e+00,\n",
       "        3.4999e+00, 2.4876e+00, 2.4097e+00, 1.5933e+01, 1.8910e+01, 8.3691e+00,\n",
       "        6.8146e+00, 2.4108e+01, 1.9494e+01, 2.0950e+01, 3.0646e+00, 1.8525e+01,\n",
       "        1.8750e+01, 7.3854e+00, 2.4200e+01, 1.8230e+01, 2.0982e+01, 1.6296e+01,\n",
       "        1.6284e+01, 2.0201e+01, 1.8199e+01, 8.3550e+00, 1.2365e+01, 1.5294e+00,\n",
       "        1.8880e+01, 9.9283e+00, 8.2569e+00, 1.3213e+01, 1.9522e+01, 1.0622e+01,\n",
       "        4.6684e+00, 1.7612e+00, 7.2915e+00, 2.1863e+01, 2.2814e+01, 1.4780e+01,\n",
       "        2.0342e+01, 1.6145e+01, 2.0547e+01, 3.3212e-01, 1.5836e+01, 2.1223e+00,\n",
       "        1.0594e+00, 1.2338e+01, 3.4127e+00, 1.0184e+01, 8.5330e+00, 2.1534e+01,\n",
       "        8.7534e+00, 1.1148e+01, 9.3836e+00, 9.4598e+00, 1.5925e+01, 5.4740e+00,\n",
       "        1.1920e+01, 2.2002e+01, 1.2487e+01, 3.0491e+00, 3.7870e-01, 6.8484e+00,\n",
       "        2.1837e+01, 5.7558e+00, 1.1230e+01, 1.5930e+01, 1.9021e+01, 2.7440e+00,\n",
       "        1.0833e+01, 2.0024e+01, 7.6370e-01, 2.2560e+01, 1.9709e+01, 5.0630e+00,\n",
       "        2.0372e+01, 2.4419e+00, 9.7093e-01, 1.3238e+01, 1.4878e+01, 5.7790e+00,\n",
       "        2.0527e+01, 1.9919e+01, 1.2274e+01, 1.4235e+01, 1.0003e+01, 1.0755e+01,\n",
       "        4.8756e+00, 1.2764e+01, 4.0015e+00, 1.6241e+01, 1.4203e+00, 2.5187e+00,\n",
       "        6.8344e-01, 2.5719e+00, 1.4446e+01, 1.9885e+00, 1.0527e+01, 4.3387e+00,\n",
       "        2.1511e+01, 2.1237e+01, 1.8823e+01, 1.6103e+01, 7.2722e+00, 5.7663e+00,\n",
       "        1.2370e+00, 7.2367e+00, 9.4330e+00, 9.6211e+00, 4.7543e+00, 1.5053e+01,\n",
       "        1.9152e+01, 1.8925e+01, 1.2975e+01, 1.5412e+00, 1.0678e+01, 1.5815e+01,\n",
       "        1.3663e+01, 1.4487e+01, 2.1240e+01, 1.7530e+00, 2.4592e+01, 1.9325e+01,\n",
       "        2.2127e+01, 2.4100e+01, 2.0259e+01, 6.3918e+00, 1.3082e+01, 6.8916e+00,\n",
       "        1.9565e+01, 5.8604e+00, 2.4106e+01, 1.2765e+01, 2.4541e+01, 1.5677e+01,\n",
       "        2.3388e+01, 1.5815e+01, 6.2921e+00, 1.1740e+01, 1.8810e+01, 2.0988e+01,\n",
       "        2.1349e+01, 1.8961e+01, 1.8396e+00, 1.0365e+00, 8.3294e+00, 1.6184e+00,\n",
       "        8.2707e+00, 3.4618e+00, 1.8546e+01, 1.9453e+01, 1.0601e+01, 2.4206e+01,\n",
       "        3.9753e+00, 1.8210e+01, 2.0546e+01, 9.1933e+00, 1.1089e+01, 2.1602e+01,\n",
       "        1.8160e+01, 2.3784e+01, 1.3846e+01, 2.4578e+01, 4.5023e+00, 1.6382e+01,\n",
       "        9.3361e+00, 1.1863e+01, 2.3052e+01, 1.8031e+01, 5.4756e+00, 2.2224e+01,\n",
       "        9.4128e+00, 9.6695e+00, 2.3020e+01, 1.4753e+01, 9.7745e+00, 1.3448e+01,\n",
       "        2.4366e+00, 2.2489e+01, 6.8305e+00, 2.2560e+01, 1.8141e+01, 6.3882e+00,\n",
       "        3.8315e+00, 2.3884e+01, 1.6752e+01, 3.7588e+00, 2.4503e+01, 1.0903e+01,\n",
       "        2.0754e+01, 1.9654e-01, 2.9708e+00, 8.0211e+00, 1.1296e+01, 9.4470e+00,\n",
       "        8.3740e+00, 1.1703e+01, 1.6759e+01, 8.7403e+00, 3.8178e+00, 7.6045e+00,\n",
       "        2.3162e+01, 8.9360e-01, 2.0437e+01, 1.7338e+01, 2.4959e+01, 6.9867e-01,\n",
       "        4.2259e+00, 1.6573e+01, 1.2981e+01, 4.5020e+00, 4.6010e+00, 6.5764e+00,\n",
       "        1.4058e+01, 2.0678e+01, 1.0915e+01, 2.6296e+00, 9.1040e+00, 1.5100e+01,\n",
       "        2.4189e+01, 1.6588e+01, 2.9039e+00, 8.2553e+00, 1.3266e+01, 5.8375e+00,\n",
       "        2.3453e+01, 4.0012e+00, 1.0280e+01, 4.8128e+00, 1.9168e+00, 1.2040e+01,\n",
       "        1.7898e+01, 1.9307e+01, 1.0749e+01, 1.6888e+01, 1.4786e+00, 2.1038e+01,\n",
       "        2.1739e+01, 9.9213e+00, 1.0759e+01, 2.0476e+01, 1.7557e+01, 8.3311e+00,\n",
       "        2.4099e+01, 7.0001e+00, 1.6748e+01, 1.5310e+01, 3.5897e+00, 8.5530e-01,\n",
       "        6.4281e+00, 1.1585e+01, 1.8505e+01, 3.5563e+00, 7.8198e+00, 5.9982e+00,\n",
       "        2.3466e+01, 8.6279e-02, 1.1043e+01, 1.1722e+01, 2.0182e+01, 1.1344e+01,\n",
       "        1.1613e+01, 2.2627e+01, 1.7541e+01, 1.0941e+01, 1.6005e+01, 7.1956e-01,\n",
       "        9.5076e+00, 2.1906e+01, 1.3652e+01, 2.1970e+01, 1.8804e+01, 2.4320e+01,\n",
       "        1.8112e+01, 1.7466e+01, 3.4061e+00, 7.2437e+00, 6.1896e+00, 1.9078e+01,\n",
       "        2.3908e+01, 2.0162e+01, 2.4154e+01, 4.5853e+00, 2.0686e+01, 2.4225e+01,\n",
       "        1.7854e+01, 1.2153e+01, 1.8261e+01, 2.0978e+01, 3.6152e+00, 8.9361e+00,\n",
       "        2.3071e+01, 1.2757e+01, 2.3169e+01, 1.8315e+01, 4.7733e-02, 1.5884e+01,\n",
       "        2.0561e+00, 3.6738e+00, 8.2695e+00, 5.5847e+00, 2.2785e+01, 1.4839e+01,\n",
       "        1.4588e+01, 2.0978e+01, 1.4494e+00, 8.4923e-01, 4.9625e-01, 4.9540e+00,\n",
       "        2.0730e+01, 6.4707e+00, 2.1705e+01, 1.6031e+01, 2.3950e+01, 2.4873e+01,\n",
       "        2.0606e+01, 2.1164e+01, 1.0856e+01, 1.3450e+01, 1.4473e+01, 1.0890e+01,\n",
       "        1.6875e+01, 1.6716e+01, 2.4232e+00, 1.4379e+01, 9.2151e+00, 8.4921e-01,\n",
       "        8.5338e-01, 1.3528e+01, 1.3407e+01, 2.3137e+01, 2.1600e+01, 2.3729e+01,\n",
       "        4.1445e+00, 6.4824e+00, 4.4559e+00, 7.0999e+00, 2.1929e+01, 1.8706e+01,\n",
       "        1.7708e+01, 1.8017e+01, 6.4404e+00, 6.0444e+00, 1.7324e+00, 1.1158e+01,\n",
       "        1.0792e+01, 5.9118e+00, 1.0634e+01, 2.1382e+01, 1.7106e+01, 2.4367e+00,\n",
       "        1.4574e+01, 1.7258e+01, 2.1623e+01, 1.4108e+00, 1.9993e+01, 1.4044e+01,\n",
       "        1.0360e+01, 1.5187e+01, 1.4629e+01, 1.3359e+01, 2.0129e+01, 2.4505e+01,\n",
       "        2.3155e+01, 9.4386e+00, 1.4098e+01, 4.9891e+00, 1.5706e+01, 1.8772e+01,\n",
       "        7.7689e+00, 8.3634e+00, 8.1547e+00, 2.6718e+00, 1.7439e+01, 1.6427e+01,\n",
       "        5.2618e+00, 4.0595e+00, 3.0369e+00, 2.4179e+01, 6.5934e+00, 1.2365e+01,\n",
       "        1.1952e+01, 1.3192e+01, 5.9022e+00, 7.9468e+00, 1.1511e+01, 7.1690e+00,\n",
       "        1.4130e+01, 1.8104e+01, 1.5961e+01, 8.1912e+00, 1.3374e+01, 4.5359e+00,\n",
       "        2.1552e-01, 3.3091e+00, 2.9785e+00, 5.0812e+00, 1.4242e+01, 1.2165e+01,\n",
       "        3.6792e+00, 9.8853e+00, 1.5658e+01, 1.0000e+01, 6.8195e+00, 2.3144e+01,\n",
       "        6.9849e+00, 4.5476e+00, 1.8628e+01, 2.2829e+01, 1.0060e+01, 1.6065e+01,\n",
       "        3.9279e+00, 1.5851e+01, 9.0238e+00, 1.5202e+01, 9.8579e+00, 1.8443e+01,\n",
       "        1.7386e+01, 1.7547e+01, 1.4563e+01, 2.1176e+01, 1.0226e+01, 8.4570e+00,\n",
       "        1.5004e+01, 2.4030e+01, 7.5578e+00, 4.7561e+00, 8.7285e+00, 1.7497e+01,\n",
       "        2.3551e+01, 1.7816e+00, 1.8499e+01, 1.2190e+01, 1.7340e+01, 5.9500e+00,\n",
       "        1.9752e+00, 1.0025e+01, 2.2019e+01, 2.8153e+00, 6.4507e+00, 1.6501e+01,\n",
       "        1.1493e+00, 1.7803e+01, 1.8943e+01, 1.6395e+01, 1.4659e+00, 1.2703e+01,\n",
       "        1.7818e+01, 1.2857e+01, 2.1657e+01, 1.7567e+01, 1.6710e+01, 2.0205e+01,\n",
       "        7.6903e+00, 8.6459e+00, 5.7329e+00, 1.0536e+01, 2.7259e+00, 1.5056e+01,\n",
       "        1.0239e+01, 7.5953e+00, 6.2468e+00, 1.0983e+01, 8.1212e+00, 3.1547e-01,\n",
       "        1.8557e+01, 4.4660e+00, 1.6255e+01, 2.3866e+01, 4.5014e+00, 2.3615e+01,\n",
       "        1.3711e+01, 1.6299e+01, 5.2473e-01, 1.4214e+01, 4.6956e+00, 9.8568e+00,\n",
       "        2.3720e+01, 7.0574e+00, 1.3300e+01, 1.9798e+01, 2.4129e+01, 1.7238e+01,\n",
       "        2.2631e+01, 2.4012e+01, 2.1199e+01, 1.7516e+01, 6.0022e+00, 1.9176e+01,\n",
       "        1.8289e+01, 1.3224e+00, 9.3646e+00, 1.8633e+01, 9.3700e+00, 4.8521e-01,\n",
       "        1.5472e+01, 2.1184e+01, 1.7771e+01, 1.9656e+01, 4.5378e+00, 1.6672e+01,\n",
       "        1.6611e+01, 6.1465e+00, 5.8777e+00, 1.2930e+01, 5.9706e+00, 1.6161e+01,\n",
       "        1.3729e+01, 1.4095e+01, 2.0527e+01, 1.1755e+01, 1.0237e+01, 2.0888e+01,\n",
       "        8.7310e+00, 1.6775e+01, 1.5337e+01, 1.3430e+01, 1.3455e+01, 6.7500e+00,\n",
       "        8.2707e+00, 6.9394e-02, 5.6967e+00, 1.2684e+00, 5.0521e+00, 1.3733e+01,\n",
       "        2.0293e+01, 2.0028e+01, 7.4783e+00, 1.9342e+01, 2.2110e+01, 5.9751e-01,\n",
       "        5.2220e+00, 6.7076e+00, 8.0789e+00, 1.5686e+01, 1.2765e+01, 1.1730e+01,\n",
       "        2.4899e+01, 1.9362e+01, 1.0484e+01, 2.1186e+01, 2.0148e+01, 1.1304e+01,\n",
       "        2.0989e+01, 1.8389e+01, 1.0274e+01, 8.4641e+00, 2.1869e+01, 3.6601e+00,\n",
       "        1.7836e+01, 1.8415e+01, 1.1042e+01, 9.0109e+00, 1.8721e+01, 2.3225e+01,\n",
       "        1.2968e+01, 1.6290e+01, 1.3217e+00, 2.3189e+01, 9.4199e+00, 1.6415e+01,\n",
       "        2.0515e+01, 1.4647e+01, 2.2000e+01, 1.5501e+01, 2.1714e+00, 2.3450e+01,\n",
       "        1.9069e+01, 1.7782e+01, 2.2256e+01, 9.1046e+00, 1.4470e+01, 2.2244e+01,\n",
       "        2.2643e+01, 7.1784e-01, 1.6223e+01, 1.7482e+01, 8.7819e+00, 1.3874e+01,\n",
       "        1.1644e+01, 2.1788e+01, 1.9262e+01, 2.3607e+00, 1.7636e+01, 5.0613e+00,\n",
       "        1.3654e+01, 4.3253e+00, 9.4564e+00, 2.1851e+00, 1.5519e+01, 7.7567e+00,\n",
       "        2.0221e+01, 1.7670e+01, 1.8609e+01, 2.0434e+01, 1.4094e+01, 1.0537e+01,\n",
       "        7.9890e+00, 1.1278e+01, 2.0912e+01])"
      ]
     },
     "execution_count": 657,
     "metadata": {},
     "output_type": "execute_result"
    }
   ],
   "source": [
    "align3"
   ]
  },
  {
   "cell_type": "code",
   "execution_count": 646,
   "id": "4a3d0f98",
   "metadata": {
    "ExecuteTime": {
     "end_time": "2023-05-01T19:48:25.609139Z",
     "start_time": "2023-05-01T19:48:25.596281Z"
    }
   },
   "outputs": [
    {
     "data": {
      "text/plain": [
       "tensor([ 8.3358,  2.8370, 11.6037,  0.9611,  8.2463,  3.5191,  0.8531, 22.3584,\n",
       "         8.7174,  8.1162, 13.0347, 22.9954,  8.6602,  7.8749, 22.8256, 21.5666,\n",
       "         2.1668,  5.9923,  6.3001,  2.1777, 23.3380, 12.9699,  2.9323, 21.2345,\n",
       "        16.5034,  9.0373, 17.2543, 24.0596,  6.5519, 20.2897,  0.2674, 13.8998,\n",
       "        18.9008, 24.7216,  4.1683, 24.7901, 10.6703,  0.8583, 23.2561, 16.5145,\n",
       "        20.8584,  5.7090,  7.3425, 21.5657, 17.7926, 11.0394, 19.2834, 18.7318,\n",
       "        15.1959,  6.6456, 16.3837,  8.4254,  4.7387, 10.8619, 17.5160, 21.2148,\n",
       "         6.1442, 16.6624, 24.1324, 13.2043, 24.8722,  2.7572,  4.7098,  0.0289,\n",
       "         6.3787, 17.2753, 14.5071,  5.6426,  6.8512, 24.3548, 16.3239,  5.4038,\n",
       "         5.4297, 15.8818, 11.5553, 16.9927, 14.8826, 16.2574, 19.4249, 20.3294,\n",
       "        23.8971,  9.1948,  7.2583,  3.9841,  1.3482, 20.2143, 20.8540, 19.9020,\n",
       "        12.2178, 12.8239, 14.2294, 20.9119, 22.7297,  2.3291, 18.9186, 22.1818,\n",
       "         6.6643,  4.0457,  1.2567,  8.0175,  3.6912, 11.7455, 16.7582, 16.2205,\n",
       "         0.4623,  3.9792, 20.2848, 12.9746,  0.8487, 13.2466, 10.0712,  8.2248,\n",
       "        18.3057, 11.8966, 22.9782, 19.0256, 20.8067, 14.3699, 23.2732, 16.6057,\n",
       "         7.3193,  5.1619, 20.3949, 19.6410,  0.4876, 23.7830, 15.3830,  4.4737,\n",
       "        19.4690,  8.3377,  3.3625, 18.7118, 22.9013,  5.9918, 10.9056, 11.3231,\n",
       "        11.0290, 24.7022,  6.6030, 18.1675, 18.4995,  1.8124,  2.2466, 18.4309,\n",
       "         7.1562,  7.7921,  3.4442,  0.7180, 11.4621,  4.6944,  9.3822, 24.5006,\n",
       "         4.9282, 19.2470, 17.0836, 21.5235, 13.5499, 14.1634,  6.2900, 11.1467,\n",
       "         8.3512,  6.3365,  8.9656, 18.9296,  1.8955, 18.1880, 11.7036, 19.6841,\n",
       "        19.1503, 12.3763, 21.5257, 12.2340, 21.5005,  0.5284, 18.9347, 16.3361,\n",
       "         6.2279, 13.3977,  0.9941, 20.1858, 18.2734, 13.6094,  1.9634,  3.2597,\n",
       "        22.5452,  9.7878,  2.0138,  7.1650, 22.8028,  9.8761, 10.5118, 17.8259,\n",
       "        22.6409, 11.1521, 24.1378, 23.1362, 19.9325, 17.3996, 12.2347, 22.0771,\n",
       "        22.2467,  4.6502,  6.6751,  0.6047, 13.0492, 23.4762, 18.5209, 23.3739,\n",
       "         4.7283, 15.4873, 19.4806,  7.4693,  6.8012, 14.6448, 12.1862, 19.6877,\n",
       "         1.8676, 23.1089, 19.7298,  9.8562, 14.6855, 23.9504, 12.7514, 14.4505,\n",
       "        13.4784, 10.9265, 13.7298, 23.3972,  9.2598, 23.8682, 23.9770, 16.8848,\n",
       "        19.7338,  6.4340,  0.6425,  2.9497, 16.3773,  1.3953, 16.7849, 10.2427,\n",
       "        20.2627, 17.6668, 19.0641, 21.0546,  8.1095,  0.1776, 17.9463, 16.9555,\n",
       "        19.6686, 15.1490, 13.8955,  4.6529, 20.9559, 10.6990,  4.5516,  7.4024,\n",
       "        19.3079, 20.6881,  3.3680, 14.6795, 21.6514, 20.2600, 15.3071, 14.4218,\n",
       "         4.4704,  8.1459,  1.8692,  3.1021, 19.5616,  1.5093, 17.4669, 24.9419,\n",
       "        20.6595,  8.1526,  6.3987,  6.0475, 20.0481, 11.8602,  1.2691, 18.7635,\n",
       "        11.7205, 20.9775, 13.8634,  3.9973,  1.4382, 12.3160,  7.4461, 21.8441,\n",
       "        15.7067,  5.4245,  4.6174,  1.5152, 13.6129, 18.2902,  4.6242, 24.5014,\n",
       "         5.2179, 24.2333,  4.1597, 23.0043, 13.4307,  7.5217, 21.0058, 19.3736,\n",
       "        22.5464, 10.7853, 20.1018, 20.5714,  0.8449, 23.8038, 14.8376, 20.7228,\n",
       "        10.5729,  5.1880, 18.3202, 17.9319,  6.4830,  7.4111, 23.3907,  5.8342,\n",
       "        19.9314,  7.7773, 16.1422, 13.1493,  2.2539, 11.1161, 10.4460,  5.7481,\n",
       "         0.7525, 13.1292, 10.0990, 15.4892, 24.8260, 17.4605, 10.5201, 17.8048,\n",
       "         0.1324, 14.2161, 11.6144, 20.2858,  8.7701, 12.7660,  5.2915,  5.3033,\n",
       "        17.9754, 10.5136,  6.3472, 17.6114,  5.5442, 23.7476, 12.6702, 23.1427,\n",
       "        21.8012,  2.4256,  5.0943, 12.7125, 18.8231,  2.6364, 15.5462, 11.7538,\n",
       "        16.9705, 11.0353, 19.4236,  7.4182,  5.3326, 19.0027, 15.9375,  8.7172,\n",
       "        21.3920, 19.6601, 24.7644,  3.1012,  9.1951,  4.9167,  0.3656, 24.9770,\n",
       "        15.8199,  9.8525,  0.6422, 17.5435, 20.1083, 24.2681, 17.3938,  6.8631,\n",
       "        19.4363, 11.7486, 10.5370, 16.3179,  1.6670,  9.8402, 14.3690, 24.7978,\n",
       "         5.2359, 10.8297, 22.5685, 15.6333, 18.8663, 11.9304, 14.5348, 13.4149,\n",
       "        18.0275, 11.5991, 19.3171, 11.9376, 17.5859, 21.1468, 10.5573,  2.0393,\n",
       "        21.5558,  1.1074, 10.9181,  4.9938, 15.2095,  0.7481, 14.6833,  2.2509,\n",
       "         2.7623, 17.9877, 23.8047, 10.3144, 23.9490, 14.6791,  3.4082,  3.0694,\n",
       "         7.7644, 15.2995,  1.7609, 11.2847, 21.0681,  5.1176, 19.1535, 12.7013,\n",
       "         7.4202, 17.5944,  9.7931, 17.9387,  9.4030,  6.9971, 17.7964, 17.7218,\n",
       "         1.5564, 20.8529,  1.3043, 19.2753, 20.2508, 16.2657,  3.7437,  0.4416,\n",
       "        17.2853, 22.6412,  5.6494, 15.7351,  3.9870,  9.3409,  5.5212, 15.7379,\n",
       "        18.9609, 17.7843, 17.4321, 13.0984, 11.7386, 18.7855, 19.2978, 22.6138,\n",
       "         6.9054, 23.5041, 21.5659, 14.0851, 15.2492,  2.8941, 22.4680, 18.5014,\n",
       "        10.8810, 12.9450, 13.2893, 15.0209, 11.2253,  0.1697,  8.0256,  9.4419,\n",
       "         9.6183,  1.4251, 20.7477, 12.1791,  2.9653,  1.9557, 22.3765,  8.6610,\n",
       "         5.0744,  8.3585,  6.4945, 19.5475, 22.0753, 12.1758, 14.6024,  6.7053,\n",
       "        22.1260, 18.0044, 18.6174, 23.0989,  0.7324,  9.8888,  6.2732, 14.1532,\n",
       "         1.8713,  5.9432, 20.7605, 10.4079, 16.9649,  0.1806, 19.5381, 11.8814,\n",
       "         6.5081, 14.4336, 13.9175,  5.5257, 12.0602, 17.9743,  8.1380, 11.2155,\n",
       "         5.6183,  4.6496, 24.4156, 20.6718, 20.7351,  5.2333, 16.8023, 22.7124,\n",
       "         9.2886,  6.1575, 20.2698, 10.3234, 24.2608, 13.5508, 20.2227, 20.0544,\n",
       "        24.2508,  6.4044,  5.1057, 19.0513,  5.7956,  8.9213,  5.6430,  3.8001,\n",
       "         5.2523,  2.0136,  4.6790, 22.8302, 12.4710, 21.1724,  0.6138, 10.8022,\n",
       "        16.2387,  8.3320,  1.6620, 18.5998,  8.6594, 23.6299, 17.7799, 21.4344,\n",
       "        18.6121,  2.1795, 21.4833,  1.2861, 22.4848, 15.2297, 13.2846, 24.3376,\n",
       "        16.8146, 14.8472,  5.6385, 16.7981, 21.0828,  4.0044,  9.7024,  5.9687,\n",
       "        18.8285, 19.6975,  4.3738, 18.7980, 20.7423, 23.1926, 12.8252, 20.0030,\n",
       "         4.8799, 14.0995,  1.0077,  2.2836, 12.2165, 14.8233, 14.7600, 23.3521,\n",
       "         7.8338, 20.5367,  8.8095, 18.9550, 19.6302, 16.2612,  0.9191, 11.0752,\n",
       "        24.9234,  8.2363, 12.2724, 20.3900, 13.4067, 24.6246,  9.1928,  3.5694,\n",
       "        23.2189,  4.8927, 10.1159,  7.3868,  0.5341, 12.6551, 10.0557, 24.2871,\n",
       "        21.6584,  5.2828, 20.2999, 20.3009, 19.3271, 18.0788,  0.2108,  2.1145,\n",
       "        10.6726, 14.7594, 16.7657,  8.1789, 20.8354,  7.4965, 23.6190,  8.9340,\n",
       "        24.1477, 23.1363, 13.6862, 11.9830,  7.1444, 20.0045,  7.8589, 17.2772,\n",
       "        21.3209,  4.4493, 18.7601,  9.4359, 11.6719, 10.8252,  9.8919, 22.8149,\n",
       "         0.9170,  7.2147, 19.0263,  7.7048,  1.1255,  1.2806,  6.8787,  6.8626,\n",
       "        12.1507,  6.2129,  0.3867, 19.4417, 11.3796, 11.3131, 20.2262,  3.4490,\n",
       "        20.9023,  4.3035,  1.0665, 10.8934, 17.8270,  3.1594, 13.1550, 17.6531,\n",
       "         9.7224, 11.7459, 15.1525, 15.7592,  6.2602, 14.1045,  3.6229, 24.0330,\n",
       "        19.9361, 23.0626,  7.4067,  0.2551,  1.4080, 21.4255, 15.9869,  0.6643,\n",
       "        24.4611,  7.3831, 15.9305, 11.7688,  1.6347, 12.8234,  3.8373, 10.5832,\n",
       "        16.4727,  6.4254, 24.5759, 12.0262,  7.4444,  9.9671, 24.2298,  2.9166,\n",
       "         9.3444,  6.9876, 20.1461, 22.7999, 14.8823,  0.3697, 15.0920, 12.2900,\n",
       "        11.7153,  0.3189, 23.0010, 24.0013,  0.0715, 11.4921,  7.6296, 17.0160,\n",
       "         3.4624, 14.7858,  5.0111, 15.7255,  4.9215,  6.4087, 24.3244, 14.9313,\n",
       "         4.5922,  2.3692, 14.6829,  7.2932,  6.6146,  2.5199, 18.2105, 12.7864,\n",
       "         4.3743, 11.5340, 23.7576,  4.4764,  9.1521,  6.2604, 18.3253, 21.4231,\n",
       "        11.1343,  6.9252, 14.7154,  6.0689, 22.0263, 10.2725,  7.8426, 15.6838,\n",
       "         5.7705, 12.8726, 12.3109, 23.3088, 15.2917,  5.6168,  7.2584, 18.1863,\n",
       "         3.6321, 13.1138, 17.9212,  3.2023, 16.9452,  3.1829,  0.9513,  2.7282,\n",
       "         0.7953,  5.3269, 19.4632, 13.2136,  8.8811,  6.6319, 22.6227,  9.5548,\n",
       "        15.4985,  3.7996, 16.4613, 14.6637,  5.7008,  0.4477, 12.5046, 24.1119,\n",
       "         6.6611, 16.5801, 18.9526, 22.0387, 20.0157, 14.8981, 15.2997, 17.6181,\n",
       "         6.0731,  0.9846,  3.6337, 11.0154, 20.6535, 12.6879, 21.6391, 17.8617,\n",
       "        23.8734,  7.7399,  1.6112,  6.7228, 16.9448, 23.4309,  0.8732, 20.2332,\n",
       "         7.5104, 13.1766, 20.8756,  8.9572,  3.3103,  8.8372, 10.6779, 16.0450,\n",
       "        21.7414,  1.1927, 20.7121,  5.8496,  9.5505, 12.6751, 19.7542,  2.5165,\n",
       "         9.2454, 19.7042,  2.6603,  9.7515, 11.4107,  9.4429,  3.4282,  7.4213,\n",
       "         7.3228,  1.5568, 15.6506, 15.1573, 24.6402, 20.2006, 13.3887, 14.4295,\n",
       "         2.1122, 18.6320, 18.8586,  2.4328,  0.4774, 20.2027, 21.9878, 21.8614,\n",
       "        21.6934, 15.3173, 10.7965, 18.9215,  2.9106, 12.3076,  7.9856,  2.5102,\n",
       "         8.7566,  4.7216,  0.9312, 23.9371, 12.3804, 19.4480, 21.0172, 23.4208,\n",
       "        23.9085,  5.7342, 19.9857,  9.1737, 14.1936, 23.6582, 20.0384, 23.7375,\n",
       "         0.2128, 16.7602,  5.6933,  5.4014, 10.3622,  4.1716, 18.4756, 19.6162,\n",
       "         6.4445,  8.0873,  5.4233, 21.6948, 21.1075, 10.3914, 15.4285, 15.5361,\n",
       "         4.2744,  1.1914,  6.1877, 10.1222, 11.3523, 17.3979, 15.7773, 20.9496,\n",
       "        12.0793, 16.4409, 24.6930, 18.6701,  6.8287, 20.1980,  1.2579, 24.5221,\n",
       "        15.4597,  5.2003,  0.4994,  9.9636,  5.4740, 21.7047, 11.4329, 18.2153,\n",
       "         6.6989, 20.6167, 20.3703,  7.5618, 13.7469, 24.8548,  5.0898, 15.8867,\n",
       "        11.7235, 17.0687,  8.2413, 22.9353,  7.0454, 23.6562, 16.9475])"
      ]
     },
     "execution_count": 646,
     "metadata": {},
     "output_type": "execute_result"
    }
   ],
   "source": [
    "true_alignments"
   ]
  },
  {
   "cell_type": "code",
   "execution_count": 638,
   "id": "4fd05bcc",
   "metadata": {
    "ExecuteTime": {
     "end_time": "2023-05-01T19:46:06.323654Z",
     "start_time": "2023-05-01T19:46:06.317860Z"
    }
   },
   "outputs": [
    {
     "data": {
      "text/plain": [
       "tensor(104.0282, dtype=torch.float64)"
      ]
     },
     "execution_count": 638,
     "metadata": {},
     "output_type": "execute_result"
    }
   ],
   "source": [
    "error3"
   ]
  },
  {
   "cell_type": "code",
   "execution_count": 637,
   "id": "7f6514ba",
   "metadata": {
    "ExecuteTime": {
     "end_time": "2023-05-01T19:45:56.912513Z",
     "start_time": "2023-05-01T19:45:56.896919Z"
    }
   },
   "outputs": [
    {
     "data": {
      "text/plain": [
       "tensor([ 1.8302e+00,  1.2760e+01,  0.0000e+00, -2.6703e-05, -9.9945e-04,\n",
       "        -4.6103e+00, -1.9073e-06,  1.1774e+01,  2.9755e-04,  3.9506e+00,\n",
       "        -4.7580e+00,  4.9792e+00,  3.6883e+00,  5.0129e+00,  4.8019e+00,\n",
       "         9.5367e-07, -2.8610e-06,  2.1572e-03,  1.1941e+01, -1.4305e-05,\n",
       "         3.3379e-05, -5.4545e+00, -4.7798e+00, -1.4305e-05, -5.3290e+00,\n",
       "        -5.3131e+00,  3.9624e+00,  1.3351e-05,  5.3908e+00, -6.5291e+00,\n",
       "         8.5831e-06, -2.0981e-05,  3.7146e+00,  3.1471e-05,  6.5838e+00,\n",
       "         1.2981e+01,  6.9141e-05,  1.1483e+01, -9.3794e-04,  4.4414e+00,\n",
       "         3.7193e-05, -8.5831e-06, -7.2479e-05, -1.9264e-04, -3.9950e+00,\n",
       "        -1.5545e-04, -5.5486e+00,  1.3680e+01,  1.4510e+01,  1.2980e+01,\n",
       "         5.0307e+00,  1.3669e+01, -1.7166e-05,  9.0917e+00,  1.7227e-01,\n",
       "         5.7220e-06, -4.9567e+00, -4.8416e+00,  5.6926e+00, -2.2888e-05,\n",
       "        -4.7650e+00, -4.5856e+00,  5.2452e-05, -1.7341e-01, -4.9195e+00,\n",
       "         8.4415e+00,  3.1471e-05,  1.3538e+01,  3.3073e+00,  8.0509e+00,\n",
       "         2.5899e+00,  1.1359e+01, -7.9387e+00, -9.5367e-07, -4.4842e+00,\n",
       "         4.9077e+00,  1.8120e-05, -6.6620e+00, -5.1575e+00,  3.8147e-04,\n",
       "         1.3141e+01,  5.7220e-06, -2.8610e-06,  6.8665e-05,  4.4823e-05,\n",
       "        -6.6757e-06, -4.0436e-04, -3.3007e+00, -2.2615e-02, -2.7330e+00,\n",
       "        -4.7684e-06, -3.8147e-06,  9.8086e+00,  5.3321e+00, -6.2772e+00,\n",
       "        -5.3626e+00,  4.6974e+00,  6.9249e+00, -5.3733e+00,  4.4460e+00,\n",
       "        -9.5367e-06, -5.7220e-06, -5.6412e+00, -5.4897e+00,  1.0490e-05,\n",
       "         5.0608e+00,  9.5367e-07, -6.2773e+00, -1.3351e-05,  5.1492e+00,\n",
       "         0.0000e+00, -1.1444e-05,  5.5899e+00,  1.1504e+01,  9.5367e-06,\n",
       "        -1.3351e-05,  5.1237e+00,  5.1913e+00, -3.8147e-06,  1.2291e+01,\n",
       "         1.1566e+01,  1.1884e+01, -1.4305e-05,  4.6410e+00, -4.4950e+00,\n",
       "        -5.1390e+00,  1.3042e+01, -5.1976e+00, -5.1968e+00, -3.2425e-05,\n",
       "        -5.6629e+00,  5.2709e+00, -6.6757e-06,  3.1686e+00, -7.6294e-06,\n",
       "        -2.2888e-05, -3.6240e-05, -5.1381e+00,  4.9382e+00, -4.9586e+00,\n",
       "         4.7684e-06,  1.3476e+01,  1.2018e+01, -5.2524e+00, -5.1242e+00,\n",
       "         1.1444e-05, -9.5367e-06,  3.8147e-06,  7.1258e+00, -4.8391e+00,\n",
       "         1.1659e+01,  1.3004e+01,  7.6294e-06,  1.0490e-05,  1.2263e+01,\n",
       "        -1.2398e-05, -5.0027e+00, -3.4332e-05, -7.6731e+00,  5.2223e+00,\n",
       "         5.2754e+00, -1.9073e-06, -5.0955e+00,  5.3262e+00, -5.6327e+00,\n",
       "         3.9267e+00,  1.2736e+01,  5.7220e-06,  1.1897e+01, -1.6212e-05,\n",
       "        -5.1958e+00,  4.5291e+00, -3.4523e-04,  4.9145e+00,  1.2610e+01,\n",
       "        -5.4468e+00,  5.5523e+00,  5.8111e+00,  1.0347e-04,  1.9073e-06,\n",
       "         5.1384e+00,  5.4830e+00, -4.6255e+00, -4.8612e+00, -5.1956e+00,\n",
       "        -5.0975e+00, -7.2484e+00,  4.7995e+00,  5.2452e-04,  1.2200e+01,\n",
       "         1.4305e-05, -4.7684e-06, -5.6162e+00, -2.5749e-05,  1.2226e+01,\n",
       "         5.6653e+00, -4.1962e-05,  4.7467e+00, -3.5095e-04,  2.1362e-04,\n",
       "        -6.8808e-03,  2.8801e-04,  5.0465e+00, -4.8443e+00, -3.9101e-05,\n",
       "         1.2634e+01,  9.1012e+00, -5.4288e+00,  2.4223e-04,  1.2612e+01,\n",
       "         1.2764e+01,  1.2725e+01,  4.1577e+00, -1.9073e-06,  4.6610e+00,\n",
       "         5.3868e+00, -3.3379e-05, -5.0476e+00,  6.6757e-05,  1.3256e+01,\n",
       "         1.2375e+01,  2.5749e-05, -2.8610e-05, -5.3664e+00, -9.5367e-06,\n",
       "         1.2253e+01,  4.4229e+00, -2.6703e-05,  2.4223e-04,  1.0458e+00,\n",
       "        -5.4105e+00,  2.7657e-05, -5.1805e+00, -5.4617e+00, -9.5367e-07,\n",
       "        -2.4326e+00,  2.5749e-05,  1.2318e+01, -2.1935e-05,  4.6570e+00,\n",
       "         8.7112e+00,  1.2398e-05,  5.3608e+00, -1.9073e-06, -5.0545e-05,\n",
       "        -6.6757e-06,  7.6771e-05, -5.2390e+00,  3.4847e+00,  7.6494e+00,\n",
       "        -5.1827e+00, -5.7220e-06,  5.5682e+00, -5.3210e+00, -1.0490e-05,\n",
       "         1.5259e-05,  4.5776e-05,  1.1883e+01,  3.4332e-05,  1.2949e+01,\n",
       "         5.2272e+00, -5.0645e+00,  1.2854e+01,  4.7016e-04,  3.7193e-05,\n",
       "        -1.6212e-05,  3.8013e-02,  3.5286e-05, -7.6294e-06,  1.4305e-05,\n",
       "         5.5880e+00, -5.6256e+00, -5.7220e-06,  4.7940e+00, -5.3488e+00,\n",
       "        -5.1404e+00,  1.5068e-04,  5.4768e+00, -2.8610e-06,  3.2063e+00,\n",
       "         1.3085e+01,  1.3216e+01,  4.5966e+00,  8.5425e+00,  1.2238e+01,\n",
       "         5.6543e+00,  1.2557e+01,  4.5895e+00, -1.9073e-06, -4.9211e+00,\n",
       "         1.3366e+01, -1.9073e-06, -3.8147e-05,  8.5831e-06,  2.8610e-06,\n",
       "        -4.4707e+00, -8.7357e-04, -5.5022e+00, -5.0262e+00, -8.5831e-05,\n",
       "        -3.4332e-05,  1.1660e+01, -1.9895e+00, -2.8610e-05, -5.4824e+00,\n",
       "         7.5340e-05,  6.1444e+00,  6.5599e+00, -1.6212e-05,  5.7311e+00,\n",
       "         6.6757e-06,  4.7684e-06,  4.7816e+00, -2.1172e-04, -2.8610e-06,\n",
       "         5.4084e+00, -4.4987e+00, -1.4305e-05,  4.7438e+00, -4.8447e-04,\n",
       "        -4.8872e+00,  4.0894e+00,  5.7173e-04,  7.0000e-04, -2.7052e+00,\n",
       "         8.4873e+00, -6.0077e+00,  2.9783e+00, -7.3795e-03,  5.6768e+00,\n",
       "        -9.5367e-07,  1.1475e-01, -3.9768e-04, -1.6325e-01, -3.9959e-04,\n",
       "         1.0885e+01,  8.6975e-04,  1.4633e-02, -7.6504e-03, -3.9442e+00,\n",
       "         6.2143e+00, -5.1498e-05, -5.5331e+00, -1.4303e+00,  6.6757e-06,\n",
       "         3.1471e-04, -7.4863e-05,  7.0572e-04, -5.7220e-06,  1.9073e-05,\n",
       "         4.3583e-04,  5.0735e-04,  1.3562e+01, -5.3780e+00,  1.1734e+01,\n",
       "         1.3877e+01,  1.0577e-02,  3.1471e-05, -6.8188e-04, -1.4114e-04,\n",
       "        -2.0675e-01,  9.8096e+00, -2.0485e-03,  1.1427e+00, -1.5707e-03,\n",
       "         9.6452e+00,  1.1968e+01,  6.0570e+00, -7.0139e-01,  3.0319e-02,\n",
       "         1.7776e-03, -1.9073e-05, -4.4184e+00, -3.7251e-03, -4.8161e-05,\n",
       "         3.0863e+00,  2.1452e-01,  8.5831e-06,  6.6757e-06, -3.0235e+00,\n",
       "         6.4132e+00, -1.2529e-01, -1.6079e-03, -2.8092e+00, -4.0862e+00,\n",
       "        -6.3240e-01,  1.3081e+01,  8.2416e+00,  4.9681e+00,  3.1471e-05,\n",
       "         2.8853e+00,  2.7657e-05, -7.1085e+00,  3.7235e+00,  1.2765e+01,\n",
       "         6.5947e-03,  4.0235e-02,  2.2198e-02,  7.3713e+00,  9.5367e-06,\n",
       "        -9.5367e-06, -7.6196e-01,  2.2490e-02,  6.5775e-03, -1.6212e-05,\n",
       "         1.5378e-03,  1.1963e+01, -5.8313e+00,  1.0828e+01,  7.0883e-02,\n",
       "         8.1062e-05,  1.0772e+01,  1.1782e+01,  2.0400e+00,  3.7193e-05,\n",
       "         8.8574e+00,  1.3061e+01,  1.3674e+01,  1.1824e-02,  3.9134e-03,\n",
       "        -1.0490e-05,  1.2957e+01, -1.6212e-05,  3.0327e-04,  1.5259e-05,\n",
       "         4.1623e+00, -1.4860e+00,  1.9073e-06,  6.6757e-06, -4.5776e-05,\n",
       "        -1.4305e-05, -4.3181e+00,  1.2902e-01,  6.9590e+00, -2.9286e+00,\n",
       "         1.0109e-04,  6.7976e+00,  3.4011e+00,  1.8911e+00, -1.9073e-05,\n",
       "        -1.8176e+00,  2.9564e-05,  2.2507e-04,  7.7724e-02,  1.3690e+01,\n",
       "         3.6362e+00, -7.6351e-03, -1.6212e-04,  1.0922e+01,  1.2398e-05,\n",
       "        -1.1989e-02,  3.8147e-06,  1.1902e+01,  1.0153e+01,  1.2398e-05,\n",
       "        -6.5179e+00, -1.2313e-01, -5.0392e+00,  3.5922e-02,  2.1935e-05,\n",
       "         7.7685e-01,  8.8189e+00, -3.5435e-01, -9.3946e-01, -8.7738e-05,\n",
       "        -3.8147e-06,  5.7220e-05,  6.4693e+00,  6.1989e-04,  3.8147e-05,\n",
       "         1.5577e+00,  4.4823e-05,  1.1523e+01, -6.3765e+00, -2.4260e-02,\n",
       "         0.0000e+00, -5.7220e-05, -3.8147e-06,  4.6493e+00,  1.9073e-05,\n",
       "         7.6294e-06, -4.1252e+00,  6.1798e-04,  1.0490e-05, -4.3208e+00,\n",
       "         5.2453e+00,  1.4735e+01,  9.1136e+00,  9.3829e-01,  1.2533e+01,\n",
       "         1.3143e+01, -3.0224e+00, -4.1737e+00,  8.9659e+00,  1.9073e-06,\n",
       "         1.2797e+01,  3.0241e-03, -3.5286e-05, -4.9744e-03, -4.2915e-05,\n",
       "         1.4081e-03, -9.5367e-07, -1.4305e-05,  1.3511e+01,  1.2463e-01,\n",
       "         4.3869e-05, -5.5695e-04, -7.2233e+00, -4.1775e-01, -3.3379e-05,\n",
       "         1.0906e+01, -4.0102e-03,  7.5379e+00, -1.2398e-05,  6.8707e-01,\n",
       "         1.2244e+01,  1.2488e+01,  5.7220e-06,  8.5106e-03,  7.9842e-03,\n",
       "        -9.5367e-07, -2.6703e-05,  1.3634e+01, -6.1989e-05, -4.7684e-06,\n",
       "        -2.6832e-03,  3.9955e+00, -8.0597e-02, -3.6240e-05,  7.5822e+00,\n",
       "        -1.2691e+00, -1.1635e-04,  1.3838e-03,  1.2449e+01,  1.0015e+01,\n",
       "        -1.1444e-05,  4.3426e+00,  1.2099e+01, -9.0981e-04,  8.0872e-04,\n",
       "         6.0911e+00,  2.8610e-06,  7.0067e+00,  1.7687e+00,  1.1635e-04,\n",
       "         3.4053e+00,  7.0148e+00,  2.8992e-04, -7.3357e-01,  1.1002e-01,\n",
       "        -3.6067e-01, -3.3598e-02, -1.0802e+00,  1.2370e+01, -7.5148e+00,\n",
       "         3.5102e+00,  1.7762e-03,  7.6294e-06, -1.2398e-05,  9.2745e-04,\n",
       "        -1.2398e-05,  1.2761e+01,  2.0599e-04,  1.0731e+01, -1.2398e-05,\n",
       "        -4.2713e-02, -2.1935e-05, -2.3937e-04,  4.2516e+00, -2.2888e-05,\n",
       "        -1.5497e-04, -5.1280e+00, -5.8826e+00,  3.7231e+00,  4.8162e+00,\n",
       "         1.1687e+01, -2.2125e-04,  6.5632e-03, -3.0775e-02, -9.5367e-07,\n",
       "        -2.1935e-05,  9.2691e+00,  1.3752e+01,  9.5367e-07,  1.4257e+01,\n",
       "         1.0319e-03,  1.1340e+01,  2.1935e-05,  4.0752e+00,  1.4507e+01,\n",
       "        -2.2888e-05,  1.3161e-04,  0.0000e+00, -5.7220e-04, -2.8610e-05,\n",
       "        -9.6989e-04,  7.8905e+00,  2.8610e-06,  1.1060e+01, -8.5831e-06,\n",
       "        -4.7684e-06,  5.9923e+00,  8.4608e+00,  1.2183e-02,  9.6149e-03,\n",
       "        -5.8940e+00,  2.4796e-05, -8.6826e-01, -4.3721e-03,  9.0061e+00,\n",
       "         6.3687e-02,  6.0000e-02, -1.7166e-05,  7.7438e-04, -3.7812e+00,\n",
       "        -1.9073e-06, -4.5649e+00,  2.9564e-05,  1.3405e+01,  2.7391e+00,\n",
       "        -1.6975e-04, -3.9591e+00,  1.9073e-05,  1.0009e+01, -2.4869e-01,\n",
       "         6.1113e+00, -7.2956e-04,  5.7624e+00,  1.0032e+01, -1.2141e-02,\n",
       "        -7.6294e-05,  2.7657e-05, -1.9073e-06,  5.5313e-05, -2.8099e+00,\n",
       "         1.1177e-01,  9.9291e+00, -4.9172e+00,  1.4340e+01, -6.7691e+00,\n",
       "        -5.4550e+00, -6.2561e-04,  9.1070e-02,  8.1898e+00,  1.2427e+01,\n",
       "        -2.9564e-05, -2.4796e-05,  4.5316e+00, -9.5367e-06,  1.3464e+01,\n",
       "        -1.3351e-05, -1.8654e-03, -5.7220e-05, -4.4895e+00,  7.3778e+00,\n",
       "         8.5831e-06, -3.8147e-06,  1.2398e-05, -9.5367e-07, -4.0716e+00,\n",
       "         6.2831e+00,  1.1749e+01, -1.0967e-04, -4.2081e+00,  7.4121e+00,\n",
       "        -2.0981e-05,  7.0112e-02, -2.6169e-03, -3.2425e-04,  5.5885e-04,\n",
       "         6.6757e-06, -1.6212e-05, -4.5628e-01, -8.7642e+00, -8.6069e-04,\n",
       "        -7.7237e+00, -8.5831e-05, -2.0790e-04,  0.0000e+00,  1.0073e+01,\n",
       "         1.9646e-02,  9.0315e+00,  9.8551e+00,  1.9073e-05,  1.2391e+01,\n",
       "        -1.9073e-05,  6.6757e-06, -2.8610e-06, -8.7357e-04,  1.4942e+01,\n",
       "        -4.5776e-04, -5.1498e-04, -3.2633e+00,  3.5490e+00,  3.8147e-06,\n",
       "         1.5736e-04, -5.8784e-03, -4.9572e+00, -1.2398e-05, -2.4903e+00,\n",
       "         3.4714e-04,  9.6647e+00,  1.5622e+01, -1.8296e-03,  1.2683e+01,\n",
       "        -8.2128e+00, -1.9676e-02,  1.0360e+01, -3.8147e-06, -1.6281e-02,\n",
       "        -3.8147e-06, -2.2521e+00, -7.6294e-06, -5.1566e+00,  1.3363e+01,\n",
       "         7.4229e+00,  9.8748e+00,  3.2377e-04,  1.9073e-06, -5.1781e+00,\n",
       "         1.4901e+01,  2.7006e+00, -1.9073e-06,  9.3079e-04, -3.0667e+00,\n",
       "         3.0877e+00,  9.6216e+00,  1.3714e-03,  9.8469e+00,  1.9073e-06,\n",
       "         1.0678e+01,  1.1117e-01, -8.8483e+00, -7.0620e-04, -8.0047e+00,\n",
       "         8.8120e-04, -7.0979e+00, -1.7977e-04, -4.2157e+00,  3.8915e+00,\n",
       "        -4.0627e-04, -7.3051e-04,  1.2919e-02, -1.2698e-03, -8.7685e-02,\n",
       "         1.3466e+01, -9.5367e-06, -3.9543e-01, -5.1072e+00,  7.6294e-06,\n",
       "        -3.0145e+00, -6.9332e-03,  2.2793e-04,  2.1935e-05,  9.0068e+00,\n",
       "         7.8568e+00,  8.5831e-06, -9.5367e-06,  2.0346e-02, -5.0631e-03,\n",
       "        -2.0981e-05,  8.3504e+00,  9.3816e+00,  2.6859e-02, -2.2888e-05,\n",
       "        -8.6352e+00, -6.3133e-04,  5.2261e-04,  1.0962e+01, -7.6294e-05,\n",
       "        -1.2798e-02, -7.4485e+00, -8.3758e+00,  2.1286e-02,  3.8147e-06,\n",
       "         8.9956e+00, -3.8520e+00,  1.4315e-03,  1.4114e-04,  1.9073e-04,\n",
       "        -3.3619e+00, -6.9977e+00,  6.7139e-04, -9.3460e-05,  3.6240e-05,\n",
       "         3.5747e+00,  4.0054e-05,  7.6294e-06, -6.4094e+00,  1.0380e+01,\n",
       "         1.5352e-02, -2.3770e-03, -3.8660e+00,  1.3351e-05,  5.6306e+00,\n",
       "        -2.8372e-04, -6.9118e-01, -4.7684e-03,  1.2169e-03,  2.7657e-05,\n",
       "        -3.1233e-02,  7.0572e-05, -2.8610e-06, -9.3176e-02, -1.2593e-01,\n",
       "         7.4237e+00, -1.0490e-05, -5.5313e-05,  1.1715e-02, -4.4707e+00,\n",
       "         3.8147e-06,  1.2463e-01, -2.5254e+00, -8.8882e-04, -2.1681e+00,\n",
       "         1.1949e+01,  2.4033e-04,  1.2398e-05, -7.8039e+00,  1.5898e+01,\n",
       "        -9.3460e-05,  9.5367e-07, -2.1648e-04,  3.9939e+00, -5.7220e-06,\n",
       "        -5.2599e+00, -4.6926e+00,  1.1405e+01,  4.9591e-04,  1.3444e+01,\n",
       "         1.2223e+01,  8.9633e-02,  1.1500e+01, -4.7191e+00, -3.3511e-01,\n",
       "        -6.6757e-06,  5.7360e+00,  2.9564e-05,  1.0742e-01,  1.6212e-05,\n",
       "        -1.7834e-04,  3.8147e-06,  1.3304e-02,  5.5170e-04,  1.0827e+01,\n",
       "         7.7556e+00, -4.3392e-04, -8.2328e-01, -4.3869e-05, -1.2970e-04,\n",
       "        -2.8610e-05, -9.5367e-06, -6.2943e-05, -3.4809e-03,  1.2003e+01,\n",
       "         4.5879e+00,  7.0073e+00,  1.1245e+01,  8.5831e-06,  4.9293e+00,\n",
       "         9.8189e+00,  1.5259e-05, -1.9073e-06,  5.2261e-04,  5.2840e+00,\n",
       "        -5.7220e-06,  1.0204e-04, -5.3229e+00, -2.6131e-04,  1.1121e+01,\n",
       "         1.1063e-04,  3.9670e+00,  8.5831e-06,  1.2763e+01,  1.3206e+01,\n",
       "         1.6120e+00,  4.7934e-02,  6.4850e-05, -5.1519e+00, -1.4860e+00,\n",
       "         1.1338e+01,  4.6127e-02,  9.2189e+00, -5.7220e-06,  1.5364e+01,\n",
       "         1.0958e+01, -8.3542e-04,  2.5673e-02,  3.8147e-06,  8.6560e-03,\n",
       "        -4.3790e+00, -3.4618e-04, -4.0150e-04,  2.0027e-05, -2.1935e-05,\n",
       "         9.5367e-06,  2.2888e-05,  6.6757e-06,  4.9205e+00,  4.7684e-06,\n",
       "         1.1412e+01,  3.8147e-06,  7.6294e-06,  1.0644e+01, -4.7684e-06,\n",
       "        -3.6240e-05,  8.2016e-05, -2.4319e-05,  5.7220e-06,  1.1380e+01,\n",
       "        -5.7255e+00,  1.1008e+01, -2.2545e+00,  1.1721e+01, -4.0581e-02,\n",
       "         5.7052e+00,  3.0518e-05, -1.1444e-05,  1.6212e-05,  1.1080e+01,\n",
       "         1.3351e-05,  2.5776e-02, -2.4021e+00,  3.8147e-06,  1.1247e+01,\n",
       "         1.2009e+01, -2.9547e-01])"
      ]
     },
     "execution_count": 637,
     "metadata": {},
     "output_type": "execute_result"
    }
   ],
   "source": [
    "true_alignments - align3"
   ]
  },
  {
   "cell_type": "code",
   "execution_count": 630,
   "id": "8f3d44a9",
   "metadata": {
    "ExecuteTime": {
     "end_time": "2023-05-01T19:44:30.378469Z",
     "start_time": "2023-05-01T19:44:30.372236Z"
    }
   },
   "outputs": [
    {
     "data": {
      "text/plain": [
       "tensor(0.0203, dtype=torch.float64)"
      ]
     },
     "execution_count": 630,
     "metadata": {},
     "output_type": "execute_result"
    }
   ],
   "source": [
    "error3"
   ]
  },
  {
   "cell_type": "code",
   "execution_count": 633,
   "id": "f989f877",
   "metadata": {
    "ExecuteTime": {
     "end_time": "2023-05-01T19:45:18.715916Z",
     "start_time": "2023-05-01T19:45:18.709376Z"
    }
   },
   "outputs": [
    {
     "data": {
      "text/plain": [
       "tensor([[3.7668, 1.6655, 6.1400,  ..., 7.3949, 0.5670, 7.1344],\n",
       "        [8.8335, 1.6656, 6.1258,  ..., 7.3946, 0.5660, 7.1325],\n",
       "        [8.7193, 5.9886, 6.1273,  ..., 7.3947, 0.4832, 7.1324]],\n",
       "       grad_fn=<CatBackward0>)"
      ]
     },
     "execution_count": 633,
     "metadata": {},
     "output_type": "execute_result"
    }
   ],
   "source": [
    "all_shift"
   ]
  },
  {
   "cell_type": "code",
   "execution_count": 617,
   "id": "aa24d337",
   "metadata": {
    "ExecuteTime": {
     "end_time": "2023-05-01T19:34:27.899578Z",
     "start_time": "2023-05-01T19:34:27.895150Z"
    }
   },
   "outputs": [
    {
     "data": {
      "text/plain": [
       "tensor(0.0312, dtype=torch.float64)"
      ]
     },
     "execution_count": 617,
     "metadata": {},
     "output_type": "execute_result"
    }
   ],
   "source": [
    "error3\n"
   ]
  },
  {
   "cell_type": "code",
   "execution_count": 634,
   "id": "2354380c",
   "metadata": {
    "ExecuteTime": {
     "end_time": "2023-05-01T19:45:23.218864Z",
     "start_time": "2023-05-01T19:45:23.194857Z"
    }
   },
   "outputs": [
    {
     "data": {
      "text/plain": [
       "tensor([8.7193e+00, 1.6655e+00, 6.1258e+00, 2.4929e+00, 9.3330e+00, 6.1740e+00,\n",
       "        7.3032e+00, 9.9711e+00, 3.2320e+00, 8.9468e+00, 1.7788e+00, 4.1607e+00,\n",
       "        2.0572e-01, 4.9110e+00, 7.6432e+00, 4.6490e+00, 9.0626e+00, 5.5950e+00,\n",
       "        5.4933e+00, 8.6658e-01, 2.0665e+00, 2.8892e+00, 8.2957e-01, 7.7392e+00,\n",
       "        3.9286e+00, 2.8025e+00, 8.8784e+00, 4.7478e+00, 1.4920e+00, 2.7881e+00,\n",
       "        1.5895e+00, 2.1625e+00, 9.9283e+00, 3.3374e+00, 4.9381e+00, 2.0428e+00,\n",
       "        4.0888e+00, 9.4326e+00, 5.0194e+00, 3.2465e+00, 8.8400e+00, 4.8848e+00,\n",
       "        3.4332e+00, 4.4493e+00, 7.0091e+00, 8.1648e+00, 6.6045e+00, 6.9979e-01,\n",
       "        9.1608e-01, 4.7482e+00, 6.5577e+00, 2.7857e+00, 7.0007e+00, 3.2183e+00,\n",
       "        1.6087e+00, 1.3207e-01, 4.8770e+00, 4.0846e-01, 4.4245e+00, 6.1257e+00,\n",
       "        2.9108e+00, 2.8876e+00, 3.1927e+00, 6.4579e+00, 5.6150e+00, 8.3677e+00,\n",
       "        9.7999e+00, 1.0300e-01, 6.2094e+00, 3.1723e+00, 3.9058e+00, 8.9710e+00,\n",
       "        8.1042e+00, 4.0130e+00, 1.7060e+00, 1.9757e+00, 9.8871e+00, 7.7008e+00,\n",
       "        6.2510e+00, 7.1046e+00, 4.5668e+00, 4.7755e+00, 9.2404e-01, 9.3571e+00,\n",
       "        1.5613e+00, 9.6232e+00, 8.2510e-01, 3.1647e+00, 9.3250e+00, 2.4258e+00,\n",
       "        6.3521e+00, 3.6291e+00, 9.5711e+00, 4.7498e+00, 7.5611e+00, 9.0502e-01,\n",
       "        5.6845e+00, 4.4255e-02, 9.4324e+00, 6.3575e+00, 5.4482e+00, 4.6573e+00,\n",
       "        4.5851e+00, 2.7881e+00, 9.9808e+00, 3.2916e+00, 7.8543e+00, 1.8716e+00,\n",
       "        5.5642e+00, 7.6097e+00, 3.1047e+00, 1.3106e+00, 7.6886e+00, 8.2345e-01,\n",
       "        5.9770e+00, 6.0355e+00, 6.6293e+00, 6.4833e+00, 7.8452e+00, 6.9615e+00,\n",
       "        6.0423e+00, 4.3796e+00, 4.3137e-01, 7.8404e+00, 2.1537e+00, 1.1959e-01,\n",
       "        2.1493e-01, 4.5207e+00, 5.9982e+00, 3.7095e+00, 2.9862e+00, 9.8855e+00,\n",
       "        5.5032e+00, 2.8832e+00, 8.8926e+00, 1.5066e+00, 4.2681e+00, 5.6024e+00,\n",
       "        5.2938e+00, 6.3262e+00, 5.6702e+00, 3.3633e+00, 2.9179e-01, 1.8052e+00,\n",
       "        8.6387e+00, 1.9439e+00, 7.5711e+00, 1.9201e+00, 6.1530e+00, 7.3998e+00,\n",
       "        5.6163e+00, 5.2991e+00, 5.8255e+00, 8.7632e+00, 8.2782e+00, 6.7607e-02,\n",
       "        2.8994e+00, 1.9604e+00, 7.9418e+00, 4.2708e+00, 8.4013e+00, 1.5338e+00,\n",
       "        6.3639e+00, 2.7774e+00, 5.0961e+00, 7.3602e+00, 9.6424e+00, 6.1945e+00,\n",
       "        4.3695e+00, 8.0217e+00, 1.2898e+00, 9.4165e+00, 8.0483e+00, 6.8065e+00,\n",
       "        6.9116e+00, 2.9414e+00, 7.6942e+00, 2.4187e+00, 1.2538e+00, 8.2434e-01,\n",
       "        5.1353e+00, 8.6260e+00, 1.5262e+00, 5.0254e+00, 5.7282e+00, 1.0891e+00,\n",
       "        8.9793e+00, 7.8669e+00, 7.1335e+00, 2.7560e+00, 7.0403e+00, 3.4925e+00,\n",
       "        8.0814e+00, 5.0215e+00, 7.9762e+00, 5.6763e+00, 3.7854e+00, 8.5475e+00,\n",
       "        1.6270e+00, 1.0046e+00, 7.3213e+00, 4.2499e+00, 6.6074e+00, 1.6883e+00,\n",
       "        9.9557e+00, 6.0889e+00, 5.6673e+00, 2.1608e+00, 8.3841e+00, 9.4061e+00,\n",
       "        2.1662e+00, 6.0557e+00, 4.6511e+00, 8.5743e+00, 3.7012e+00, 9.4764e+00,\n",
       "        6.8118e+00, 5.7386e+00, 9.3457e+00, 5.0423e+00, 7.1752e+00, 5.4329e+00,\n",
       "        4.6499e+00, 2.0775e+00, 3.6063e+00, 8.7122e+00, 5.0555e-01, 4.7635e+00,\n",
       "        3.0393e+00, 6.7345e+00, 2.7268e-01, 7.0466e-01, 8.3590e+00, 7.8946e+00,\n",
       "        7.1196e+00, 5.9705e+00, 4.8717e+00, 7.0357e+00, 7.1744e-01, 4.8355e+00,\n",
       "        9.7210e+00, 5.7441e+00, 9.0295e+00, 1.5510e+00, 8.8984e+00, 2.9049e+00,\n",
       "        2.2100e+00, 9.0604e-01, 8.9985e-02, 5.3528e+00, 4.8609e+00, 2.5594e+00,\n",
       "        5.1924e+00, 8.0539e+00, 6.4415e+00, 1.5820e+00, 6.9266e+00, 6.7152e+00,\n",
       "        7.3216e+00, 2.4227e+00, 9.9782e+00, 7.6665e+00, 2.0115e+00, 9.8223e+00,\n",
       "        2.0661e+00, 8.3911e+00, 3.8892e+00, 3.4719e+00, 9.3611e+00, 6.2477e+00,\n",
       "        1.5489e+00, 2.5900e+00, 4.0974e+00, 1.9427e+00, 8.9573e+00, 5.7040e+00,\n",
       "        9.7676e+00, 7.7820e+00, 3.7101e+00, 3.1600e+00, 2.2331e+00, 5.5739e+00,\n",
       "        5.0903e+00, 3.6697e+00, 6.3102e+00, 4.6516e+00, 6.8276e+00, 3.5889e+00,\n",
       "        8.4027e+00, 1.3907e+00, 1.0785e+00, 7.7599e+00, 2.7165e+00, 4.6063e+00,\n",
       "        3.1660e+00, 8.0900e+00, 6.1744e+00, 4.7645e+00, 2.8167e-01, 7.1328e+00,\n",
       "        8.5221e+00, 6.7566e+00, 2.8724e+00, 7.2082e+00, 8.6820e+00, 3.1384e+00,\n",
       "        8.1910e+00, 2.9387e+00, 6.9201e+00, 9.4625e+00, 9.4403e+00, 7.2265e-01,\n",
       "        9.0038e+00, 7.6794e+00, 5.8814e+00, 6.8494e+00, 4.0555e+00, 6.4242e+00,\n",
       "        1.1796e+00, 5.4412e+00, 7.0957e+00, 1.3714e+00, 8.7800e+00, 3.7418e+00,\n",
       "        5.8559e+00, 3.4444e+00, 8.6705e+00, 1.5706e-01, 1.4516e+00, 9.7237e+00,\n",
       "        1.2853e+00, 6.8845e+00, 6.5494e+00, 7.1898e+00, 9.0471e+00, 2.8658e+00,\n",
       "        5.3733e+00, 1.5851e+00, 5.3572e+00, 2.8726e+00, 3.7726e+00, 1.2016e+00,\n",
       "        3.4674e+00, 6.8527e+00, 1.7570e-02, 6.3645e+00, 2.5412e+00, 9.4849e+00,\n",
       "        6.5032e+00, 8.8304e+00, 5.5535e-01, 7.6299e+00, 1.8476e+00, 3.3236e+00,\n",
       "        6.1621e+00, 9.9439e+00, 7.2864e+00, 7.2410e+00, 2.8529e+00, 5.0807e+00,\n",
       "        7.2462e+00, 9.1728e+00, 8.5815e+00, 4.2553e-01, 9.6804e+00, 3.4675e+00,\n",
       "        6.9319e+00, 7.1813e+00, 8.1111e+00, 8.1800e+00, 8.9544e-02, 5.7475e+00,\n",
       "        6.4331e+00, 7.5871e+00, 6.4152e+00, 9.0158e+00, 5.7776e-01, 2.0305e+00,\n",
       "        1.3706e+00, 7.9803e+00, 3.9929e+00, 3.6619e+00, 5.1295e+00, 6.2361e+00,\n",
       "        6.4239e+00, 5.5439e+00, 9.5327e+00, 4.2489e+00, 9.6733e+00, 7.6602e+00,\n",
       "        5.2479e+00, 3.6668e+00, 6.3398e+00, 1.6490e+00, 4.6626e+00, 3.8095e+00,\n",
       "        4.1419e+00, 9.2759e+00, 9.2096e+00, 7.0902e+00, 6.1243e+00, 9.1684e+00,\n",
       "        2.8046e+00, 4.9528e+00, 3.6844e+00, 7.0160e+00, 2.1812e+00, 3.3907e-01,\n",
       "        7.6861e+00, 4.4112e+00, 6.6608e+00, 6.4195e+00, 1.9573e+00, 1.9196e+00,\n",
       "        4.3411e+00, 5.7858e+00, 4.3906e+00, 3.1606e+00, 8.6351e+00, 5.9562e-01,\n",
       "        3.6500e+00, 8.1052e+00, 3.2190e+00, 7.3846e+00, 2.3487e+00, 3.9002e+00,\n",
       "        9.5220e-01, 3.4237e+00, 4.1797e+00, 5.1646e-01, 9.2366e+00, 9.1458e+00,\n",
       "        3.4799e+00, 2.4174e+00, 5.6269e+00, 5.2727e+00, 2.0213e+00, 8.0012e+00,\n",
       "        2.2912e+00, 6.0493e+00, 4.5735e-01, 6.4788e+00, 2.2225e+00, 1.1151e+00,\n",
       "        3.0188e+00, 8.8103e+00, 6.2918e+00, 6.7531e-01, 2.0560e+00, 7.5297e+00,\n",
       "        1.8985e+00, 3.0610e+00, 6.5197e+00, 5.9724e+00, 8.4048e+00, 3.1662e+00,\n",
       "        4.8837e+00, 2.8232e+00, 7.9078e+00, 8.2003e+00, 4.5028e+00, 6.0793e+00,\n",
       "        4.6721e+00, 6.2215e+00, 3.1522e+00, 1.7777e+00, 6.3213e-01, 9.3272e+00,\n",
       "        8.2384e+00, 1.6969e+00, 9.3326e+00, 8.3368e+00, 5.0534e+00, 1.2152e+00,\n",
       "        5.9457e-01, 7.9292e+00, 2.8094e+00, 5.0138e-01, 4.3109e+00, 7.6941e+00,\n",
       "        5.7339e+00, 2.6596e+00, 7.7180e+00, 3.8770e+00, 6.0150e+00, 7.3358e-01,\n",
       "        6.7491e+00, 2.0143e+00, 4.4792e+00, 6.3794e+00, 2.8292e+00, 3.9959e+00,\n",
       "        1.8852e+00, 8.7314e+00, 8.3258e+00, 6.0578e+00, 9.0142e+00, 6.8189e+00,\n",
       "        3.1384e+00, 8.6877e+00, 7.9724e+00, 1.4292e-02, 9.2190e+00, 9.0358e+00,\n",
       "        3.9173e+00, 4.2992e+00, 6.9994e+00, 9.6719e-01, 4.0198e+00, 1.7496e+00,\n",
       "        5.1564e-01, 8.1926e+00, 1.0156e+00, 1.8127e+00, 7.2735e+00, 3.3115e+00,\n",
       "        1.9551e-01, 9.8601e+00, 7.4637e+00, 3.3093e+00, 2.8060e+00, 8.7765e+00,\n",
       "        5.2057e+00, 8.7417e+00, 5.6588e+00, 4.9523e+00, 9.7724e+00, 5.8275e+00,\n",
       "        6.4009e+00, 3.0149e+00, 3.9085e+00, 8.9731e+00, 8.2212e+00, 6.1992e+00,\n",
       "        6.8427e+00, 1.7580e-01, 3.1858e+00, 1.6403e-01, 2.3102e+00, 7.7668e+00,\n",
       "        3.1002e+00, 9.5325e+00, 9.0545e+00, 8.9626e+00, 2.8000e+00, 6.2800e+00,\n",
       "        6.2073e+00, 1.4302e+00, 9.6473e+00, 1.6557e+00, 3.6018e+00, 2.8323e+00,\n",
       "        5.5201e+00, 7.8907e-01, 1.1728e+00, 9.4537e-01, 4.1361e+00, 7.4280e+00,\n",
       "        3.2091e+00, 2.5439e-01, 4.7325e+00, 9.6621e+00, 2.9433e+00, 3.7985e+00,\n",
       "        7.5600e+00, 7.0630e+00, 2.3651e-01, 2.6132e+00, 9.5749e+00, 8.0470e+00,\n",
       "        5.1757e-01, 8.5401e+00, 9.8261e+00, 3.6849e+00, 9.6654e+00, 7.7659e+00,\n",
       "        9.8191e+00, 8.4873e+00, 2.7765e+00, 9.5783e+00, 5.0831e-01, 2.4093e+00,\n",
       "        4.2153e+00, 9.7186e+00, 1.1657e+00, 2.5930e+00, 5.0225e+00, 2.3496e+00,\n",
       "        6.4062e+00, 3.3327e+00, 5.4724e-01, 7.7112e+00, 7.3503e-01, 9.8049e+00,\n",
       "        8.4498e+00, 4.9547e+00, 1.6006e+00, 6.7019e+00, 4.2423e+00, 2.0615e+00,\n",
       "        2.2107e-01, 6.7580e+00, 8.9493e+00, 8.1985e-01, 2.8991e+00, 3.8918e+00,\n",
       "        5.1903e+00, 4.6042e+00, 6.6085e+00, 5.1722e+00, 8.4702e+00, 8.9383e-01,\n",
       "        1.8513e+00, 9.6292e-01, 6.4400e+00, 1.3816e+00, 8.3523e+00, 6.5784e+00,\n",
       "        3.3703e+00, 5.8861e+00, 3.2328e+00, 7.9773e+00, 8.8685e+00, 9.3574e+00,\n",
       "        3.3391e+00, 1.1724e+00, 4.8735e+00, 4.4550e+00, 2.4492e+00, 8.3587e+00,\n",
       "        7.0103e+00, 7.7257e+00, 6.2789e-01, 5.6132e+00, 9.8455e+00, 3.4699e+00,\n",
       "        5.6569e+00, 9.0083e+00, 4.7146e+00, 1.7045e+00, 1.4703e+00, 7.7097e+00,\n",
       "        4.6274e+00, 3.5329e+00, 9.3429e+00, 2.2409e+00, 2.4990e-01, 5.5703e+00,\n",
       "        8.5198e-01, 9.8799e+00, 1.1709e+00, 2.1434e+00, 1.4149e-01, 1.5140e-01,\n",
       "        2.1536e-01, 2.5280e+00, 6.5647e+00, 4.3675e+00, 7.5548e+00, 8.6080e+00,\n",
       "        6.1612e+00, 6.8571e+00, 6.0721e+00, 8.3867e+00, 8.4197e+00, 6.0247e-01,\n",
       "        2.7317e+00, 1.6956e+00, 7.9779e-01, 7.4312e-01, 8.1853e+00, 2.6796e+00,\n",
       "        1.9595e+00, 1.4527e+00, 8.0361e+00, 5.8108e+00, 1.8509e+00, 6.8669e+00,\n",
       "        7.1997e+00, 2.8033e+00, 1.2476e+00, 5.3292e+00, 1.9331e+00, 9.8220e+00,\n",
       "        2.1859e+00, 8.4531e+00, 3.9164e+00, 2.0638e+00, 3.5070e-01, 7.4629e+00,\n",
       "        3.1200e+00, 8.4650e+00, 4.0837e+00, 6.8107e+00, 5.4126e+00, 6.7482e+00,\n",
       "        5.1556e+00, 4.2624e+00, 9.2288e+00, 8.3159e+00, 9.8584e+00, 3.7199e+00,\n",
       "        3.2126e+00, 7.2187e+00, 7.5445e+00, 2.9971e+00, 3.4543e-01, 9.3897e+00,\n",
       "        3.6186e+00, 9.6688e+00, 2.4148e-01, 8.0560e+00, 6.3426e+00, 7.8131e+00,\n",
       "        1.1543e+00, 3.9348e+00, 9.0178e+00, 6.8994e+00, 1.4910e+00, 4.0800e+00,\n",
       "        3.5330e+00, 3.1308e+00, 1.3870e+00, 8.3196e+00, 7.1164e+00, 3.5139e+00,\n",
       "        5.8553e+00, 8.0001e+00, 5.6793e+00, 7.1146e+00, 8.8247e+00, 4.5946e+00,\n",
       "        7.8355e+00, 3.9076e+00, 3.5045e-04, 4.3070e+00, 6.6400e+00, 1.9317e+00,\n",
       "        9.9410e+00, 4.0212e+00, 1.0451e+00, 1.6220e-01, 2.7909e+00, 4.5015e+00,\n",
       "        4.8953e+00, 6.3763e+00, 4.7859e+00, 7.8340e-01, 7.2483e+00, 6.6859e+00,\n",
       "        5.6189e+00, 2.0146e+00, 4.2330e+00, 6.2411e+00, 9.3775e+00, 4.5111e-01,\n",
       "        4.2483e+00, 2.5335e+00, 9.0898e+00, 2.9996e+00, 7.2194e+00, 5.5382e+00,\n",
       "        5.7875e+00, 5.2920e+00, 2.8041e+00, 8.0444e+00, 3.2178e+00, 1.1119e-01,\n",
       "        2.8039e+00, 4.5764e+00, 7.5163e+00, 7.1270e+00, 3.5369e+00, 5.0166e+00,\n",
       "        9.7957e+00, 7.3367e+00, 3.9141e+00, 3.9614e+00, 9.4409e+00, 7.7241e+00,\n",
       "        6.0079e+00, 4.5181e+00, 5.6606e+00, 2.8683e+00, 8.6600e-01, 7.1648e-01,\n",
       "        3.9186e+00, 9.3622e+00, 7.4967e+00, 1.1980e+00, 4.6337e+00, 2.5394e+00,\n",
       "        3.3480e+00, 7.0492e+00, 8.6971e+00, 9.4552e-01, 7.8435e+00, 2.3152e+00,\n",
       "        3.4037e+00, 2.9189e+00, 5.3209e+00, 1.9192e+00, 3.8066e+00, 5.1166e+00,\n",
       "        6.1229e+00, 3.3985e+00, 5.4039e+00, 9.1074e+00, 2.5527e+00, 3.8782e-01,\n",
       "        2.7214e+00, 5.2574e+00, 2.4000e+00, 4.8322e+00, 1.4069e+00, 1.6225e+00,\n",
       "        3.5499e+00, 4.7387e+00, 8.0738e-01, 3.3714e+00, 5.7597e-01, 7.7297e+00,\n",
       "        9.0145e+00, 2.6415e+00, 9.4473e+00, 3.7842e-01, 5.1982e+00, 6.6945e-01,\n",
       "        4.1999e+00, 6.7856e-02, 2.9518e+00, 6.6942e+00, 4.5198e+00, 5.0210e+00,\n",
       "        3.3917e+00, 9.7265e+00, 7.5075e+00, 7.3012e+00, 9.6295e-02, 1.4232e+00,\n",
       "        7.9488e+00, 5.1983e+00, 7.5153e+00, 8.2456e-01, 5.9943e+00, 6.1740e+00,\n",
       "        3.6722e+00, 6.8618e+00, 5.3404e+00, 4.8611e+00, 4.2228e+00, 3.1816e+00,\n",
       "        4.0255e-01, 5.0477e+00, 3.5000e+00, 9.8334e-01, 6.6963e+00, 7.5963e+00,\n",
       "        7.5981e+00, 5.5701e+00, 2.6040e+00, 9.2252e+00, 5.8139e+00, 9.3520e+00,\n",
       "        8.0045e+00, 3.7610e+00, 6.3438e+00, 7.9050e+00, 4.5680e+00, 2.6229e+00,\n",
       "        5.4132e+00, 4.2233e-01, 3.3429e+00, 2.8451e+00, 9.2169e+00, 2.9771e+00,\n",
       "        9.3989e+00, 2.5821e+00, 7.8240e+00, 9.8461e+00, 9.4242e+00, 7.0576e+00,\n",
       "        5.0355e+00, 9.7295e+00, 8.3314e+00, 1.6845e+00, 4.7059e+00, 4.0863e+00,\n",
       "        5.7693e+00, 3.7737e+00, 7.4505e+00, 9.5739e+00, 1.2673e+00, 6.5643e+00,\n",
       "        5.6022e+00, 3.6325e+00, 8.6889e+00, 3.6067e+00, 5.8354e+00, 3.5122e+00,\n",
       "        6.7035e-01, 1.0814e-01, 6.4103e+00, 3.5891e+00, 7.9414e+00, 8.6319e+00,\n",
       "        1.6760e+00, 4.6352e+00, 1.7290e+00, 4.3200e+00, 5.6344e+00, 8.3662e+00,\n",
       "        3.7468e+00, 1.0923e+00, 1.9466e+00, 5.1303e-03, 2.2934e+00, 5.8580e+00,\n",
       "        4.5186e+00, 1.2541e+00, 2.8802e+00, 2.6132e+00, 7.2354e+00, 6.4332e+00,\n",
       "        7.3947e+00, 5.6705e-01, 7.1324e+00])"
      ]
     },
     "execution_count": 634,
     "metadata": {},
     "output_type": "execute_result"
    }
   ],
   "source": [
    "align3"
   ]
  },
  {
   "cell_type": "code",
   "execution_count": 611,
   "id": "cf8d0f47",
   "metadata": {
    "ExecuteTime": {
     "end_time": "2023-05-01T19:33:41.018592Z",
     "start_time": "2023-05-01T19:32:11.600873Z"
    }
   },
   "outputs": [
    {
     "name": "stderr",
     "output_type": "stream",
     "text": [
      "100%|██████████████████████████████████████████████████████████████████████████████████████████████████████████████████████████████████████████████████████████████████████████████| 29/29 [01:29<00:00,  3.08s/it]\n"
     ]
    }
   ],
   "source": [
    "batch_size = 927\n",
    "index = 0\n",
    "# true_alignments = (torch.rand(batch_size)-0.5) * 2 #torch.tensor([0.9])\n",
    "\n",
    "true_alignments = torch.zeros(927) + -18\n",
    "shift_target = manual_call2(Splines_03[index:index+batch_size], xaxis, full_xdos + true_alignments.view(-1,1))\n",
    "error2, align2= MSE_shift_spline2(shift_target, full_xdos, Splines_03[index:index+batch_size], xaxis, 200)\n",
    "# print (torch.where(abs(true_alignments + align)>1e-3))"
   ]
  },
  {
   "cell_type": "code",
   "execution_count": 598,
   "id": "35a69e0c",
   "metadata": {
    "ExecuteTime": {
     "end_time": "2023-05-01T19:06:45.686111Z",
     "start_time": "2023-05-01T19:06:42.267681Z"
    }
   },
   "outputs": [
    {
     "name": "stderr",
     "output_type": "stream",
     "text": [
      "100%|████████████████████████████████████████████████████████████████████████████████████████████████████████████████████████████████████████████████████████████████████████████| 200/200 [00:03<00:00, 59.10it/s]\n"
     ]
    }
   ],
   "source": [
    "batch_size = 927\n",
    "index = 0\n",
    "# true_alignments = (torch.rand(batch_size)-0.5) * 2 #torch.tensor([0.9])\n",
    "\n",
    "true_alignments = torch.zeros(927) - 18\n",
    "shift_target = manual_call2(Splines_03[index:index+batch_size], xaxis, full_xdos + true_alignments.view(-1,1))\n",
    "error, align = MSE_shift_spline(shift_target, full_xdos, Splines_03[index:index+batch_size], xaxis, 200)\n",
    "# print (torch.where(abs(true_alignments + align)>1e-3))"
   ]
  },
  {
   "cell_type": "code",
   "execution_count": 555,
   "id": "161173f8",
   "metadata": {
    "ExecuteTime": {
     "end_time": "2023-05-01T18:43:51.625735Z",
     "start_time": "2023-05-01T18:43:51.620992Z"
    }
   },
   "outputs": [
    {
     "data": {
      "text/plain": [
       "tensor([[7.1399e-02, 7.4184e-02, 6.8932e-02,  ..., 3.5890e-02, 3.7558e-02,\n",
       "         3.8023e-02],\n",
       "        [7.9101e-04, 8.5785e-04, 7.8415e-04,  ..., 4.8367e-04, 5.7928e-04,\n",
       "         5.5207e-04],\n",
       "        [7.2882e-13, 1.8936e-10, 5.6565e-10,  ..., 3.1729e-13, 5.8616e-10,\n",
       "         8.5755e-10]], dtype=torch.float64, grad_fn=<CatBackward0>)"
      ]
     },
     "execution_count": 555,
     "metadata": {},
     "output_type": "execute_result"
    }
   ],
   "source": [
    "all_error"
   ]
  },
  {
   "cell_type": "code",
   "execution_count": 554,
   "id": "fce2242f",
   "metadata": {
    "ExecuteTime": {
     "end_time": "2023-05-01T18:43:36.231359Z",
     "start_time": "2023-05-01T18:43:36.223904Z"
    }
   },
   "outputs": [
    {
     "data": {
      "text/plain": [
       "tensor([[-1.7137, -1.7958, -1.7517,  ..., -0.7075, -0.8969, -0.8985],\n",
       "        [ 1.8245,  1.8240,  1.8192,  ...,  1.8191,  1.7872,  1.7977],\n",
       "        [ 2.0010,  2.0010,  2.0009,  ...,  2.0010,  2.0011,  2.0009]],\n",
       "       grad_fn=<CatBackward0>)"
      ]
     },
     "execution_count": 554,
     "metadata": {},
     "output_type": "execute_result"
    }
   ],
   "source": [
    "all_shift"
   ]
  },
  {
   "cell_type": "code",
   "execution_count": 599,
   "id": "dbbeeabc",
   "metadata": {
    "ExecuteTime": {
     "end_time": "2023-05-01T19:06:45.693188Z",
     "start_time": "2023-05-01T19:06:45.688347Z"
    }
   },
   "outputs": [
    {
     "data": {
      "text/plain": [
       "tensor(296.4560, dtype=torch.float64, grad_fn=<DivBackward0>)"
      ]
     },
     "execution_count": 599,
     "metadata": {},
     "output_type": "execute_result"
    }
   ],
   "source": [
    "error"
   ]
  },
  {
   "cell_type": "code",
   "execution_count": 600,
   "id": "9d1d0858",
   "metadata": {
    "ExecuteTime": {
     "end_time": "2023-05-01T19:06:45.707351Z",
     "start_time": "2023-05-01T19:06:45.695594Z"
    }
   },
   "outputs": [
    {
     "data": {
      "text/plain": [
       "tensor(0., dtype=torch.float64)"
      ]
     },
     "execution_count": 600,
     "metadata": {},
     "output_type": "execute_result"
    }
   ],
   "source": [
    "error2"
   ]
  },
  {
   "cell_type": "code",
   "execution_count": 590,
   "id": "756de7c5",
   "metadata": {
    "ExecuteTime": {
     "end_time": "2023-05-01T18:51:48.063848Z",
     "start_time": "2023-05-01T18:51:48.040177Z"
    }
   },
   "outputs": [
    {
     "data": {
      "text/plain": [
       "Parameter containing:\n",
       "tensor([ 1.1330e+00,  3.0543e+00,  1.6851e+00,  1.8005e+00,  1.2071e+00,\n",
       "         1.5688e+00,  1.8161e+00,  8.3290e-01,  2.0946e+00,  1.5397e+00,\n",
       "         1.4863e+00,  2.3696e+00,  2.7048e+00,  1.2749e+00,  1.4842e+00,\n",
       "         1.5260e+00,  3.1515e+00,  1.9976e+00,  1.1451e+00,  2.3791e-01,\n",
       "         3.2647e+00,  8.6244e-01,  1.5726e+00,  1.1577e+00,  1.7780e+00,\n",
       "         3.4599e+00,  4.2537e-01,  7.2440e-01,  1.0756e+00,  1.4001e+00,\n",
       "         2.7377e-01,  1.4343e+00,  1.0912e+00,  5.2172e-01,  1.5325e+00,\n",
       "         2.6795e+00,  1.3907e+00,  8.6075e-01,  9.8878e-01,  6.2063e-01,\n",
       "         9.9265e-01,  7.1759e-01,  2.2401e+00,  1.2097e-02,  3.9044e+00,\n",
       "         6.5665e+00,  9.6827e-01,  3.8972e+00,  7.9526e-01,  8.8241e-01,\n",
       "         9.9929e-01,  2.0812e-01,  2.1118e+00,  2.6175e+00,  3.5303e-01,\n",
       "         1.4843e-01,  3.6772e+00,  2.1822e-01,  3.5058e+00,  1.9896e+00,\n",
       "         7.9380e-01,  1.5162e+00,  2.7478e+00,  3.3076e+00,  5.5170e+00,\n",
       "         6.1567e+00,  5.1682e-01,  4.6150e-01,  1.3096e+00,  3.8972e-01,\n",
       "         1.1185e+00,  6.4324e-01,  5.3314e-03,  8.5428e-01,  1.8633e+00,\n",
       "         2.0983e+00,  3.7158e-01,  3.4778e-01, -1.0509e+00,  5.3259e+00,\n",
       "         5.6663e+00, -5.2323e-01,  9.0887e-02,  5.7421e-01,  1.5513e+00,\n",
       "         3.0199e+00,  1.4517e+00,  4.8103e+00,  5.5330e+00,  9.3005e-01,\n",
       "         1.0568e+00, -1.9741e-01,  1.5766e+00,  2.7990e-01,  8.6664e-01,\n",
       "         1.8403e-01,  2.4862e+00,  2.0762e+00,  9.8458e-01,  4.3773e+00,\n",
       "         4.3463e+00,  8.3991e-01,  2.0182e+00,  5.1763e-01,  1.2128e+00,\n",
       "         2.0472e+00,  1.1040e+00,  2.0158e+00,  1.5276e+00,  1.7232e+00,\n",
       "         2.7089e+00,  1.5541e+00,  1.3614e+00,  1.8606e+00,  2.8603e+00,\n",
       "         1.8291e+00,  1.6083e+00,  1.7091e+00,  2.2248e+00,  9.3293e-01,\n",
       "         1.9315e+00,  1.6163e+00,  1.4227e+00,  2.0273e+00,  2.0773e+00,\n",
       "         1.4013e+00,  6.8093e-01,  2.0219e+00,  2.3471e+00,  1.9959e+00,\n",
       "         1.9837e+00,  1.6373e+00,  1.6264e+00,  2.1107e+00,  9.4027e-01,\n",
       "         1.5410e+00,  1.3755e+00,  1.2543e+00,  9.7094e-01,  9.6911e-01,\n",
       "         2.0035e+00,  2.1002e+00,  3.9471e-01,  2.4727e+00,  2.0665e+00,\n",
       "         1.7261e+00,  1.0838e+00,  1.2722e+00,  9.0085e-01,  1.0458e+00,\n",
       "         2.2728e+00,  1.7983e+00,  1.4944e+00,  1.5918e+00,  8.8854e-01,\n",
       "         1.4834e+00,  7.5298e+00,  1.5331e+00,  1.3612e+00,  1.0362e+00,\n",
       "         1.6492e+00,  9.9216e-01,  2.0405e+00,  1.5100e+00,  4.7521e-01,\n",
       "         2.0618e+00,  2.1026e+00,  5.3848e-01,  2.7741e+00,  1.1669e+00,\n",
       "         1.0073e+00,  8.1387e-01,  1.3695e+00,  1.7540e+00,  1.0879e+00,\n",
       "         1.7033e+00,  1.2605e+00,  1.0617e+00,  1.5747e-01,  2.9490e-01,\n",
       "         8.0580e-01,  3.0304e-01,  1.7388e+00,  6.7056e-01,  9.1971e-01,\n",
       "         1.7348e+00,  1.6661e+00,  1.7616e+00,  3.9064e+00,  1.9922e+00,\n",
       "         2.6527e+00,  9.5959e-01,  1.0483e+00,  1.2749e+00,  2.2749e-01,\n",
       "         8.0173e-01,  1.2964e+00,  1.0739e+00,  1.4579e+00,  1.3093e+00,\n",
       "         1.0110e+00,  6.5197e-01,  7.7032e-01,  2.1832e+00,  4.9116e+00,\n",
       "         9.0693e-01,  2.6422e+00,  2.4988e+00,  2.2605e+00,  6.5528e-01,\n",
       "         1.1568e+00,  7.7670e-01,  1.2682e+00,  1.0897e+00,  2.4366e+00,\n",
       "         6.7918e-01,  1.1648e+00,  1.0535e+00, -2.5987e-02,  1.3994e+00,\n",
       "         9.3372e-01,  1.5094e+00,  2.5074e-01,  7.7781e-01,  6.9869e-01,\n",
       "         2.8748e+00,  1.5636e+00,  1.1470e-01,  3.2473e-01,  2.0253e+00,\n",
       "         2.5697e+00,  4.3225e+00,  9.7633e-01,  4.6626e-01,  3.2598e+00,\n",
       "         1.0040e+00,  1.0624e+00,  1.3360e+00,  2.3577e+00,  9.5864e-01,\n",
       "         1.9116e+00,  6.3605e-01,  9.7074e-01,  4.0252e-01,  8.3522e-01,\n",
       "         1.4954e+00,  3.0937e-01,  9.0550e-01,  9.0248e-01,  9.3227e-01,\n",
       "         2.9424e-01,  7.7284e-01,  1.6931e+00,  2.3777e-01,  1.8265e+00,\n",
       "         8.4419e-01,  5.5091e-01,  1.1482e+00, -2.0213e-01, -2.0205e-01,\n",
       "         8.9864e-01,  6.3836e-01,  7.9384e-01,  1.4721e+00,  2.0597e-01,\n",
       "         1.8573e-03,  1.9554e+00,  4.9430e-01,  3.4261e-01,  3.0419e-01,\n",
       "         6.1553e-01,  3.3688e-01,  5.4211e-01,  2.7541e+00,  1.4114e+00,\n",
       "         1.8020e+00,  6.5803e-03, -1.9942e-01,  9.3584e-01, -2.1591e-01,\n",
       "         2.4403e-01,  3.1355e+00,  8.3106e-01,  1.4833e+00,  2.4265e-01,\n",
       "         1.4417e-01, -3.0629e-01, -1.4573e-01,  9.8358e-01,  3.2260e+00,\n",
       "         2.3845e+00,  2.9346e+00,  8.8054e-01,  9.4793e-01,  5.4404e-01,\n",
       "         5.9716e-01,  1.6169e+00,  1.0511e+00,  2.3622e-01,  9.6017e-01,\n",
       "         1.2281e+00,  1.3751e+00,  3.0387e+00,  1.1929e+00,  1.1915e+00,\n",
       "        -8.2021e-01,  9.7764e-01,  9.5698e-01,  3.5742e-01, -1.7061e-02,\n",
       "         1.4198e-01,  7.0574e-01,  5.1883e-01,  3.0091e+00,  7.8662e-01,\n",
       "         3.1228e+00,  7.0221e-01,  8.7799e-01,  5.7185e-01,  1.0646e+00,\n",
       "         3.6928e+00,  2.2607e+00,  4.4793e-01,  1.2149e+00,  4.7530e+00,\n",
       "         6.4796e+00,  5.9039e+00,  5.8421e+00,  5.7613e+00,  5.3090e+00,\n",
       "         4.8962e+00,  5.9509e+00,  3.2513e+00,  4.2234e+00,  6.7042e+00,\n",
       "         4.7243e+00,  5.0785e+00,  2.5929e+00,  4.8369e+00,  2.7497e+00,\n",
       "         4.6987e+00,  5.4469e+00,  4.5685e+00,  3.9626e+00,  5.3469e+00,\n",
       "         4.3733e+00,  5.5778e+00,  5.7177e+00,  4.5105e+00,  5.3632e+00,\n",
       "         5.4376e+00,  4.6186e+00,  3.3283e+00,  4.1413e+00,  4.6029e+00,\n",
       "         6.7041e+00,  3.9506e+00,  3.3898e+00,  2.2361e+00,  4.5122e+00,\n",
       "         4.9511e+00,  3.9775e+00,  5.5308e+00,  5.4323e+00,  5.6037e+00,\n",
       "         5.6204e+00,  5.2071e+00,  5.6881e+00,  4.8399e+00,  6.4864e+00,\n",
       "         6.0395e+00,  5.6599e+00,  6.6913e+00,  5.7265e+00,  2.9399e+00,\n",
       "         5.1327e+00,  3.8443e+00,  4.0338e+00,  4.0810e+00,  5.2251e+00,\n",
       "         2.2396e+00,  2.3651e+00,  5.2722e+00,  3.7162e+00,  3.9636e+00,\n",
       "         1.4845e+00,  3.9293e+00,  3.3928e+00,  3.0495e+00,  7.5593e-01,\n",
       "         5.7887e+00,  1.2842e+00,  5.0051e+00,  3.2333e+00,  2.9818e+00,\n",
       "         4.9028e+00,  2.9117e+00,  4.1248e+00,  4.0306e+00,  3.2555e+00,\n",
       "         4.1459e+00,  2.8092e+00,  4.6142e+00,  3.8876e+00,  5.3594e+00,\n",
       "         4.7848e+00,  3.1690e+00,  2.7955e+00,  5.3821e+00,  5.5609e+00,\n",
       "         2.7437e+00,  3.2446e+00,  5.6027e+00,  3.8863e+00,  4.3463e+00,\n",
       "         2.4519e+00,  4.4761e+00,  6.6963e+00,  6.4700e+00,  6.4480e+00,\n",
       "         3.5918e+00,  1.3346e+00,  4.3549e+00,  5.1653e+00,  4.3416e+00,\n",
       "         2.9414e+00,  2.8345e+00,  5.7267e+00,  3.9009e+00,  3.6960e+00,\n",
       "         1.7793e+00,  6.3380e+00,  4.3602e+00,  2.3357e+00,  3.6930e+00,\n",
       "         4.2948e+00,  1.2662e+00,  5.4925e+00,  5.1845e+00,  5.0701e+00,\n",
       "         4.9009e+00,  2.5403e+00,  4.7036e+00,  5.4468e+00,  4.5689e+00,\n",
       "         4.4421e+00,  4.4813e+00,  4.5158e+00,  6.3361e+00,  5.9392e+00,\n",
       "         1.9083e+00,  3.2379e+00,  3.2928e+00,  4.1219e+00,  1.3282e+00,\n",
       "         4.5136e+00,  4.9809e+00,  4.3341e+00,  5.1392e+00,  3.7884e+00,\n",
       "         4.4226e+00,  1.4012e+00,  2.0202e+00,  3.8529e+00,  4.3126e+00,\n",
       "         6.2609e+00,  2.0321e+00,  3.2984e+00,  5.4462e+00,  1.5287e+00,\n",
       "         5.0074e+00,  3.1138e+00,  2.9601e+00,  5.3530e+00,  2.2314e+00,\n",
       "         6.6232e+00,  3.6733e+00,  5.7193e+00,  1.7281e+00,  5.5216e+00,\n",
       "         1.9208e+00,  2.8768e+00,  2.4634e+00,  4.6449e+00,  2.2976e+00,\n",
       "         4.1162e+00,  4.3370e+00,  6.0270e+00,  6.7285e+00,  2.6069e+00,\n",
       "         4.2879e+00,  5.4347e+00,  3.2881e+00,  2.1605e+00,  3.8876e+00,\n",
       "         2.6268e+00,  4.6338e+00,  3.1424e+00,  2.3978e+00,  3.8630e+00,\n",
       "         3.9654e+00,  4.2090e+00,  3.4267e+00,  2.7949e+00,  3.8153e+00,\n",
       "         2.5698e+00,  3.0915e+00,  1.2843e+00,  3.1667e+00,  5.9519e+00,\n",
       "         4.4524e+00,  3.0343e+00,  2.4580e+00,  3.4701e+00,  4.3217e+00,\n",
       "         2.2584e+00,  4.0473e+00,  3.6855e+00,  2.5854e+00,  1.8765e+00,\n",
       "         4.2536e+00,  3.4877e+00,  3.3103e+00,  4.7280e+00,  3.0457e+00,\n",
       "         2.1825e+00,  4.4029e+00,  4.1104e+00,  4.6788e+00,  4.3893e+00,\n",
       "         4.0373e+00,  4.2711e+00,  3.1067e+00,  3.2218e+00,  3.6753e+00,\n",
       "         5.5113e+00,  3.1096e+00,  5.4628e+00,  4.6375e+00,  5.0794e+00,\n",
       "         6.4917e+00,  2.7420e+00,  3.4751e+00,  5.2778e+00,  4.3704e+00,\n",
       "         1.5104e+00,  5.0571e+00,  3.5465e+00,  4.8357e+00,  2.0072e+00,\n",
       "         4.4561e+00,  3.7867e+00,  5.3788e+00,  3.5975e+00,  3.9286e+00,\n",
       "         3.9142e+00,  2.8084e+00,  4.9820e+00,  1.7051e+00,  3.9580e+00,\n",
       "         4.2606e+00,  3.8753e+00,  3.8601e+00,  5.6083e+00,  2.8452e+00,\n",
       "         4.1410e+00,  3.0182e+00,  1.1232e+00,  4.2303e+00,  3.6118e+00,\n",
       "         2.1579e+00,  5.8188e+00,  4.0017e+00,  4.8714e+00,  5.5246e+00,\n",
       "         5.1700e+00,  3.7676e+00,  4.7173e+00,  4.2127e+00,  4.5196e+00,\n",
       "         1.3017e+00,  2.2753e+00,  5.4759e+00,  4.4699e+00,  4.7796e+00,\n",
       "         1.6121e+00,  5.0969e+00,  5.3357e+00,  4.1111e+00,  4.6942e+00,\n",
       "         4.2545e+00,  4.8860e+00,  9.4442e-01,  5.0422e+00,  4.5107e+00,\n",
       "         5.5307e+00,  3.7524e+00,  4.2857e+00,  3.0241e+00,  5.0049e+00,\n",
       "         5.0190e+00,  3.4474e+00,  4.6060e+00,  6.0032e+00,  4.9161e+00,\n",
       "         3.1522e+00,  5.1714e+00,  3.4394e+00,  4.5294e+00,  5.0320e+00,\n",
       "         4.0826e+00,  4.5816e+00,  4.6263e+00,  5.6028e+00,  4.5858e+00,\n",
       "         5.1260e+00,  3.5663e+00,  5.0614e+00,  6.5109e+00,  2.9775e+00,\n",
       "         4.2031e+00,  5.9417e+00,  6.2911e+00,  5.6954e+00,  5.5332e+00,\n",
       "         4.6792e+00,  5.1260e+00,  5.6335e+00,  6.9150e+00,  5.6581e+00,\n",
       "         4.8418e+00,  5.3202e+00,  3.5355e+00,  1.7121e+00,  4.9187e+00,\n",
       "         2.3909e+00,  1.8936e+00,  2.3251e+00,  2.2110e+00,  4.3315e+00,\n",
       "         4.8147e+00,  2.3776e+00,  4.3184e+00,  3.3952e+00,  5.6735e+00,\n",
       "         5.0699e+00,  4.9287e+00,  4.1393e+00,  6.1690e+00,  3.7788e+00,\n",
       "         5.7027e+00,  5.4461e+00,  2.1428e+00,  2.9160e+00,  2.3498e+00,\n",
       "         3.6816e+00,  3.5825e+00,  5.2668e+00,  5.9373e+00,  4.4255e+00,\n",
       "         3.2749e+00,  5.3550e+00,  3.7728e+00,  4.0734e+00,  3.9143e+00,\n",
       "         2.7853e+00,  2.7769e+00,  4.1934e+00,  5.7340e+00,  5.1687e+00,\n",
       "         5.6028e+00,  3.9112e+00,  4.0215e+00,  3.8463e+00,  3.6765e+00,\n",
       "         1.8532e+00,  3.8182e+00,  2.5525e+00,  2.6628e+00,  3.1910e+00,\n",
       "         4.3620e+00,  4.2293e+00,  3.8075e+00,  4.9451e+00,  3.5166e+00,\n",
       "         2.3776e+00,  4.8968e+00,  4.9034e+00,  4.4004e+00,  3.6580e+00,\n",
       "         2.8702e+00,  4.2352e+00,  3.2040e+00,  3.0850e+00,  2.6318e+00,\n",
       "         4.4539e+00,  3.2101e+00,  3.4282e+00,  4.2207e+00,  3.3802e+00,\n",
       "         3.8560e+00,  6.1471e+00,  4.2576e+00,  5.8413e+00,  2.9447e+00,\n",
       "         2.9722e+00,  2.6588e+00,  2.5454e+00,  5.8160e+00,  3.8028e+00,\n",
       "         2.7907e+00,  2.5259e+00,  3.4569e+00,  3.6146e+00,  5.5857e+00,\n",
       "         3.1471e+00,  3.4052e+00,  4.3376e+00,  3.3596e+00,  4.5339e+00,\n",
       "         4.0940e+00,  3.4699e+00,  2.2213e+00,  3.8842e+00,  5.8767e+00,\n",
       "         3.3718e+00,  5.5223e+00,  4.9500e+00,  2.9977e+00,  5.4955e+00,\n",
       "         4.6318e+00,  5.3706e+00,  3.9557e+00,  5.5111e+00,  4.6852e+00,\n",
       "         3.8763e+00,  5.6712e+00,  4.0322e+00,  5.5339e+00,  5.0160e+00,\n",
       "         4.8014e+00,  4.3809e+00,  3.6246e+00,  3.8342e+00,  4.5157e+00,\n",
       "         5.6729e-01,  3.5362e+00,  5.5825e+00,  3.7788e+00,  4.1733e+00,\n",
       "         2.8218e+00,  5.4486e+00,  4.3579e+00,  3.7633e+00,  4.4886e+00,\n",
       "         4.8352e+00,  3.3731e+00,  5.4055e+00,  4.8873e+00,  4.7943e+00,\n",
       "         4.1780e+00,  3.6226e+00,  4.1903e+00,  4.4807e+00,  3.2986e+00,\n",
       "         4.1105e+00,  5.1051e+00,  4.2130e+00,  5.4528e+00,  4.5984e+00,\n",
       "         4.2115e+00,  5.5497e+00,  3.9377e+00,  3.3083e+00,  4.3919e+00,\n",
       "         2.4081e+00,  4.7415e+00,  4.9902e+00,  4.0549e+00,  4.0494e+00,\n",
       "         4.2295e+00,  3.6527e+00,  4.2374e+00,  4.1709e+00,  5.1438e+00,\n",
       "         4.6829e+00,  3.8459e+00,  4.9485e+00,  5.4088e+00,  3.9514e+00,\n",
       "         3.1605e+00,  4.1915e+00,  5.2478e+00,  5.2306e+00,  6.3344e+00,\n",
       "         4.7338e+00,  3.2865e+00,  4.3404e+00,  4.3654e+00,  3.9540e+00,\n",
       "         2.9379e+00,  1.3618e+00,  4.9488e+00,  2.9104e+00,  4.9900e+00,\n",
       "         3.0829e+00,  4.0717e+00,  3.4923e+00,  3.6630e+00,  4.6254e+00,\n",
       "         4.4108e+00,  5.6588e+00,  4.2579e+00,  6.0608e+00,  3.9407e+00,\n",
       "         4.3742e+00,  5.6469e+00,  4.3860e+00,  2.7864e+00,  4.8357e+00,\n",
       "         5.7825e+00,  4.7522e+00,  3.9777e+00,  3.6849e+00,  4.0879e+00,\n",
       "         4.3366e+00,  5.3809e+00,  3.5724e+00,  2.1612e+00,  2.6164e+00,\n",
       "         2.2450e+00,  4.5449e+00,  3.6677e+00,  3.5072e+00,  1.7039e+00,\n",
       "         6.4471e+00,  5.3776e+00,  3.7953e+00,  2.1884e+00,  3.2607e+00,\n",
       "         4.0811e+00,  3.4979e+00,  1.3573e+00,  2.1474e+00,  4.8843e+00,\n",
       "         2.7981e+00,  3.2720e+00,  4.3446e+00,  1.7688e+00,  2.8692e+00,\n",
       "         3.3224e+00,  2.9391e+00,  1.7357e+00,  8.3051e-01,  3.2305e+00,\n",
       "         3.6569e+00,  4.9120e+00,  2.7977e+00,  1.4943e+00,  3.3614e+00,\n",
       "         3.1752e+00,  2.2348e+00,  2.4024e+00,  5.4665e+00,  2.8955e+00,\n",
       "         1.5499e+00,  1.4417e+00,  4.1456e+00,  4.6991e+00,  2.2914e+00,\n",
       "         2.8317e+00,  4.2858e+00,  3.0649e+00,  1.4718e+00,  1.9606e+00,\n",
       "         2.7511e+00,  9.9997e-01,  4.0438e+00,  3.9723e+00,  3.3874e+00,\n",
       "         2.1770e+00,  1.3797e+00,  1.6960e+00,  2.3877e+00,  4.5277e+00,\n",
       "         3.6210e+00,  4.6148e+00,  2.7165e+00,  4.0142e+00,  4.0222e+00,\n",
       "         2.8609e+00,  2.4280e+00,  2.9143e+00,  3.0464e+00,  1.6782e+00,\n",
       "         2.0073e+00,  2.9208e+00,  3.2102e+00,  3.7560e+00,  2.2339e+00,\n",
       "         3.1026e+00,  2.0600e+00,  2.2701e+00,  2.5286e+00,  2.4032e+00,\n",
       "         1.5725e+00,  2.1027e+00,  3.0171e+00,  2.6374e+00,  4.3607e+00,\n",
       "         2.1145e+00,  2.0911e+00,  3.1991e+00,  6.1193e+00,  3.9754e+00,\n",
       "         3.4139e+00,  2.6978e+00,  1.7405e+00,  2.2974e+00,  5.7664e+00,\n",
       "         2.7526e+00,  1.5338e+00,  1.4712e+00,  3.7180e+00,  2.7347e+00,\n",
       "         3.2199e+00,  2.3574e+00], requires_grad=True)"
      ]
     },
     "execution_count": 590,
     "metadata": {},
     "output_type": "execute_result"
    }
   ],
   "source": [
    "align\n"
   ]
  },
  {
   "cell_type": "code",
   "execution_count": 591,
   "id": "fc8e68a3",
   "metadata": {
    "ExecuteTime": {
     "end_time": "2023-05-01T18:51:54.628417Z",
     "start_time": "2023-05-01T18:51:54.604539Z"
    }
   },
   "outputs": [
    {
     "data": {
      "text/plain": [
       "tensor([13.4000, 13.4000, 13.4000, 13.4000, 13.4000, 13.4000, 13.4000, 13.4000,\n",
       "        13.4000, 13.4000, 13.4000, 13.4000, 13.4000, 13.4000, 13.4000, 13.4000,\n",
       "        13.4000, 13.4000, 13.4000, 13.4000, 13.4000, 13.4000, 13.4000, 13.4000,\n",
       "        13.4000, 13.4000, 13.4000, 13.4000, 13.4000, 13.4000, 13.4000, 13.4000,\n",
       "        13.4000, 13.4000, 13.4000, 13.4000, 13.4000, 13.4000, 13.4000, 13.4000,\n",
       "        13.4000, 13.4000, 13.4000, 13.4000, 13.4000, 13.4000, 13.4000, 13.4000,\n",
       "        13.4000, 13.4000, 13.4000, 13.4000, 13.4000, 13.4000, 13.4000, 13.4000,\n",
       "        13.4000, 13.4000, 13.4000, 13.4000, 13.4000, 13.4000, 13.4000, 13.4000,\n",
       "        13.4000, 13.4000, 13.4000, 13.4000, 13.4000, 13.4000, 13.4000, 13.4000,\n",
       "        13.4000, 13.4000, 13.4000, 13.4000, 13.4000, 13.4000, 13.4000, 13.4000,\n",
       "        13.4000, 13.4000, 13.4000, 13.4000, 13.4000, 13.4000, 13.4000, 13.4000,\n",
       "        13.4000, 13.4000, 13.4000, 13.4000, 13.4000, 13.4000, 13.4000, 13.4000,\n",
       "        13.4000, 13.4000, 13.4000, 13.4000, 13.4000, 13.4000, 13.4000, 13.4000,\n",
       "        13.4000, 13.4000, 13.4000, 13.4000, 13.4000, 13.4000, 13.4000, 13.4000,\n",
       "        13.4000, 13.4000, 13.4000, 13.4000, 13.4000, 13.4000, 13.4000, 13.4000,\n",
       "        13.4000, 13.4000, 13.4000, 13.4000, 13.4000, 13.4000, 13.4000, 13.4000,\n",
       "        13.4000, 13.4000, 13.4000, 13.4000, 13.4000, 13.4000, 13.4000, 13.4000,\n",
       "        13.4000, 13.4000, 13.4000, 13.4000, 13.4000, 13.4000, 13.4000, 13.4000,\n",
       "        13.4000, 13.4000, 13.4000, 13.4000, 13.4000, 13.4000, 13.4000, 13.4000,\n",
       "        13.4000, 13.4000, 13.4000, 13.4000, 13.4000, 13.4000, 13.4000, 13.4000,\n",
       "        13.4000, 13.4000, 13.4000, 13.4000, 13.4000, 13.4000, 13.4000, 13.4000,\n",
       "        13.4000, 13.4000, 13.4000, 13.4000, 13.4000, 13.4000, 13.4000, 13.4000,\n",
       "        13.4000, 13.4000, 13.4000, 13.4000, 13.4000, 13.4000, 13.4000, 13.4000,\n",
       "        13.4000, 13.4000, 13.4000, 13.4000, 13.4000, 13.4000, 13.4000, 13.4000,\n",
       "        13.4000, 13.4000, 13.4000, 13.4000, 13.4000, 13.4000, 13.4000, 13.4000,\n",
       "        13.4000, 13.4000, 13.4000, 13.4000, 13.4000, 13.4000, 13.4000, 13.4000,\n",
       "        13.4000, 13.4000, 13.4000, 13.4000, 13.4000, 13.4000, 13.4000, 13.4000,\n",
       "        13.4000, 13.4000, 13.4000, 13.4000, 13.4000, 13.4000, 13.4000, 13.4000,\n",
       "        13.4000, 13.4000, 13.4000, 13.4000, 13.4000, 13.4000, 13.4000, 13.4000,\n",
       "        13.4000, 13.4000, 13.4000, 13.4000, 13.4000, 13.4000, 13.4000, 13.4000,\n",
       "        13.4000, 13.4000, 13.4000, 13.4000, 13.4000, 13.4000, 13.4000, 13.4000,\n",
       "        13.4000, 13.4000, 13.4000, 13.4000, 13.4000, 13.4000, 13.4000, 13.4000,\n",
       "        13.4000, 13.4000, 13.4000, 13.4000, 13.4000, 13.4000, 13.4000, 13.4000,\n",
       "        13.4000, 13.4000, 13.4000, 13.4000, 13.4000, 13.4000, 13.4000, 13.4000,\n",
       "        13.4000, 13.4000, 13.4000, 13.4000, 13.4000, 13.4000, 13.4000, 13.4000,\n",
       "        13.4000, 13.4000, 13.4000, 13.4000, 13.4000, 13.4000, 13.4000, 13.4000,\n",
       "        13.4000, 13.4000, 13.4000, 13.4000, 13.4000, 13.4000, 13.4000, 13.4000,\n",
       "        13.4000, 13.4000, 13.4000, 13.4000, 13.4000, 13.4000, 13.4000, 13.4000,\n",
       "        13.4000, 13.4000, 13.4000, 13.4000, 13.4000, 13.4000, 13.4000, 13.4000,\n",
       "        13.4000, 13.4000, 13.4000, 13.4000, 13.4000, 13.4000, 13.4000, 13.4000,\n",
       "        13.4000, 13.4000, 13.4000, 13.4000, 13.4000, 13.4000, 13.4000, 13.4001,\n",
       "        13.4004, 13.4004, 13.3999, 13.4000, 13.4000, 13.4000, 13.4000, 13.4000,\n",
       "        13.4000, 13.4000, 13.3999, 13.3995, 13.4000, 13.4000, 13.3996, 13.4000,\n",
       "        13.4001, 13.4001, 13.4000, 13.4000, 13.3995, 13.4000, 13.4000, 13.4005,\n",
       "        13.4000, 13.4000, 13.3999, 13.3996, 13.3995, 13.4000, 13.3995, 13.4000,\n",
       "        13.3999, 13.4000, 13.4000, 13.3995, 13.3995, 13.3995, 13.4000, 13.4000,\n",
       "        13.4005, 13.3996, 13.4001, 13.4000, 13.3999, 13.4000, 13.4000, 13.4000,\n",
       "        13.4000, 13.4000, 13.4000, 13.4000, 13.3995, 13.4000, 13.3996, 13.4001,\n",
       "        13.4000, 13.4000, 13.4000, 13.4000, 13.4000, 13.4000, 13.4000, 13.4000,\n",
       "        13.4000, 13.4000, 13.4000, 13.4000, 13.4000, 13.4000, 13.4000, 13.4000,\n",
       "        13.4000, 13.4000, 13.4000, 13.4000, 13.4000, 13.4000, 13.4000, 13.4000,\n",
       "        13.4000, 13.4000, 13.4000, 13.4000, 13.4000, 13.4000, 13.4000, 13.4000,\n",
       "        13.4000, 13.4000, 13.4000, 13.4000, 13.4000, 13.4000, 13.4000, 13.4000,\n",
       "        13.4000, 13.4000, 13.4000, 13.4000, 13.4000, 13.4000, 13.4000, 13.4000,\n",
       "        13.4000, 13.4000, 13.4000, 13.4000, 13.4000, 13.4000, 13.4000, 13.4000,\n",
       "        13.4000, 13.4000, 13.4000, 13.4000, 13.4000, 13.4000, 13.4000, 13.4000,\n",
       "        13.4000, 13.4000, 13.4000, 13.4000, 13.4000, 13.4000, 13.4000, 13.4000,\n",
       "        13.4000, 13.4000, 13.4000, 13.4000, 13.4000, 13.4000, 13.4000, 13.4000,\n",
       "        13.4000, 13.4000, 13.4000, 13.4000, 13.4000, 13.4000, 13.4000, 13.4000,\n",
       "        13.4000, 13.4000, 13.4000, 13.4000, 13.4000, 13.4000, 13.4000, 13.4000,\n",
       "        13.4000, 13.4000, 13.4000, 13.4000, 13.4000, 13.4000, 13.4000, 13.4000,\n",
       "        13.4000, 13.4000, 13.4000, 13.4000, 13.4000, 13.4000, 13.4000, 13.4000,\n",
       "        13.4000, 13.4000, 13.4000, 13.4000, 13.4000, 13.4000, 13.4000, 13.4000,\n",
       "        13.4000, 13.4000, 13.4000, 13.4000, 13.4000, 13.4000, 13.4000, 13.4000,\n",
       "        13.4000, 13.4000, 13.4000, 13.4000, 13.4000, 13.4000, 13.4000, 13.4000,\n",
       "        13.4000, 13.4000, 13.4000, 13.4000, 13.4000, 13.4000, 13.4000, 13.4000,\n",
       "        13.4000, 13.4000, 13.4000, 13.4000, 13.4000, 13.4000, 13.4000, 13.4000,\n",
       "        13.4000, 13.4000, 13.4000, 13.4000, 13.4000, 13.4000, 13.4000, 13.4000,\n",
       "        13.4000, 13.4000, 13.4000, 13.4000, 13.4000, 13.4000, 13.4000, 13.4000,\n",
       "        13.4000, 13.4000, 13.4000, 13.4000, 13.4000, 13.4000, 13.4000, 13.4000,\n",
       "        13.4000, 13.4000, 13.4000, 13.4000, 13.4000, 13.4000, 13.4000, 13.4000,\n",
       "        13.4000, 13.4000, 13.4000, 13.4000, 13.4000, 13.4000, 13.4000, 13.4000,\n",
       "        13.4000, 13.4000, 13.4000, 13.4000, 13.4000, 13.4000, 13.4000, 13.4000,\n",
       "        13.4000, 13.4000, 13.4000, 13.4000, 13.4000, 13.4000, 13.4000, 13.4000,\n",
       "        13.4000, 13.4000, 13.4000, 13.4000, 13.4000, 13.4000, 13.4000, 13.4000,\n",
       "        13.4000, 13.4000, 13.4000, 13.4000, 13.4000, 13.4000, 13.4000, 13.4000,\n",
       "        13.4000, 13.4000, 13.4000, 13.4000, 13.4000, 13.4000, 13.4000, 13.4000,\n",
       "        13.4000, 13.4000, 13.4000, 13.4000, 13.4000, 13.4000, 13.4000, 13.4000,\n",
       "        13.4000, 13.4000, 13.4000, 13.4000, 13.4000, 13.4000, 13.4000, 13.4000,\n",
       "        13.4000, 13.4000, 13.4000, 13.4000, 13.4000, 13.4000, 13.4000, 13.4000,\n",
       "        13.4000, 13.4000, 13.4000, 13.4000, 13.4000, 13.4000, 13.4000, 13.4000,\n",
       "        13.4000, 13.4000, 13.4000, 13.4000, 13.4000, 13.4000, 13.4000, 13.4000,\n",
       "        13.4000, 13.4000, 13.4000, 13.4000, 13.4000, 13.4000, 13.4000, 13.4000,\n",
       "        13.4000, 13.4000, 13.4000, 13.4000, 13.4000, 13.4000, 13.4000, 13.4000,\n",
       "        13.4000, 13.4000, 13.4000, 13.4000, 13.4000, 13.4000, 13.4000, 13.4000,\n",
       "        13.4000, 13.4000, 13.4000, 13.4000, 13.4000, 13.4000, 13.4000, 13.4000,\n",
       "        13.4000, 13.4000, 13.4000, 13.4000, 13.4000, 13.4000, 13.4000, 13.4000,\n",
       "        13.4000, 13.4000, 13.4000, 13.4000, 13.4000, 13.4000, 13.4000, 13.4000,\n",
       "        13.4000, 13.4000, 13.4000, 13.4000, 13.4000, 13.4000, 13.4000, 13.4000,\n",
       "        13.4000, 13.4000, 13.4000, 13.4000, 13.4000, 13.4000, 13.4000, 13.4000,\n",
       "        13.4000, 13.4000, 13.4000, 13.4000, 13.4000, 13.4000, 13.4000, 13.4000,\n",
       "        13.4000, 13.4000, 13.4000, 13.4000, 13.4000, 13.4000, 13.4000, 13.4000,\n",
       "        13.4000, 13.4000, 13.4000, 13.4000, 13.4000, 13.4000, 13.4000, 13.4000,\n",
       "        13.4000, 13.4000, 13.4000, 13.4000, 13.4000, 13.4000, 13.4000, 13.4000,\n",
       "        13.4000, 13.4000, 13.4000, 13.4000, 13.4000, 13.4000, 13.4000, 13.4000,\n",
       "        13.4000, 13.4000, 13.4000, 13.4000, 13.4000, 13.4000, 13.4000, 13.4000,\n",
       "        13.4000, 13.4000, 13.4000, 13.4000, 13.4000, 13.4000, 13.4000, 13.4000,\n",
       "        13.4000, 13.4000, 13.4000, 13.4000, 13.4000, 13.4000, 13.4000, 13.4000,\n",
       "        13.4000, 13.4000, 13.4000, 13.4000, 13.4000, 13.4000, 13.4000, 13.4000,\n",
       "        13.4000, 13.4000, 13.4000, 13.4000, 13.4000, 13.4000, 13.4000, 13.4000,\n",
       "        13.4000, 13.4000, 13.4000, 13.4000, 13.4000, 13.4000, 13.4000, 13.4000,\n",
       "        13.4000, 13.4000, 13.4000, 13.4000, 13.4000, 13.4000, 13.4000, 13.4000,\n",
       "        13.4000, 13.4000, 13.4000, 13.4000, 13.4000, 13.4000, 13.4000, 13.4000,\n",
       "        13.4000, 13.4000, 13.4000, 13.4000, 13.4000, 13.4000, 13.4000, 13.4000,\n",
       "        13.4000, 13.4000, 13.4000, 13.4000, 13.4000, 13.4000, 13.4000, 13.4000,\n",
       "        13.4000, 13.4000, 13.4000, 13.4000, 13.4000, 13.4000, 13.4000, 13.4000,\n",
       "        13.4000, 13.4000, 13.4000, 13.4000, 13.4000, 13.4000, 13.4000, 13.4000,\n",
       "        13.4000, 13.4000, 13.4000, 13.4000, 13.4000, 13.4000, 13.4000, 13.4000,\n",
       "        13.4000, 13.4000, 13.4000, 13.4000, 13.4000, 13.4000, 13.4000, 13.4000,\n",
       "        13.4000, 13.4000, 13.4000, 13.4000, 13.4000, 13.4000, 13.4000, 13.4000,\n",
       "        13.4000, 13.4000, 13.4000, 13.4000, 13.4000, 13.4000, 13.4000, 13.4000,\n",
       "        13.4000, 13.4000, 13.4000, 13.4000, 13.4000, 13.4000, 13.4000, 13.4000,\n",
       "        13.4000, 13.4000, 13.4000, 13.4000, 13.4000, 13.4000, 13.4000, 13.4000,\n",
       "        13.4000, 13.4000, 13.4000, 13.4000, 13.4000, 13.4000, 13.4000, 13.4000,\n",
       "        13.4000, 13.4000, 13.4000, 13.4000, 13.4000, 13.4000, 13.4000, 13.4000,\n",
       "        13.4000, 13.4000, 13.4000, 13.4000, 13.4000, 13.4000, 13.4000])"
      ]
     },
     "execution_count": 591,
     "metadata": {},
     "output_type": "execute_result"
    }
   ],
   "source": [
    "align2"
   ]
  },
  {
   "cell_type": "code",
   "execution_count": 372,
   "id": "537f00da",
   "metadata": {
    "ExecuteTime": {
     "end_time": "2023-05-01T17:30:12.398694Z",
     "start_time": "2023-05-01T17:30:12.370036Z"
    }
   },
   "outputs": [
    {
     "name": "stdout",
     "output_type": "stream",
     "text": [
      "torch.Size([927, 4, 778])\n"
     ]
    }
   ],
   "source": [
    "with torch.no_grad():\n",
    "    aligned_target = manual_call2(Splines_03[index:index+batch_size], xaxis, full_xdos + true_alignments.view(-1,1) - align.view(-1,1))"
   ]
  },
  {
   "cell_type": "code",
   "execution_count": 301,
   "id": "0e6c15a7",
   "metadata": {
    "ExecuteTime": {
     "end_time": "2023-05-01T16:54:55.407328Z",
     "start_time": "2023-05-01T16:54:55.402910Z"
    }
   },
   "outputs": [
    {
     "data": {
      "text/plain": [
       "200.0"
      ]
     },
     "execution_count": 301,
     "metadata": {},
     "output_type": "execute_result"
    }
   ],
   "source": [
    "10/0.05"
   ]
  },
  {
   "cell_type": "code",
   "execution_count": 373,
   "id": "6d3bfcf5",
   "metadata": {
    "ExecuteTime": {
     "end_time": "2023-05-01T17:30:16.757560Z",
     "start_time": "2023-05-01T17:30:16.743954Z"
    }
   },
   "outputs": [
    {
     "name": "stdout",
     "output_type": "stream",
     "text": [
      "tensor(0.0199, dtype=torch.float64, grad_fn=<DivBackward0>)\n"
     ]
    }
   ],
   "source": [
    "print (error)"
   ]
  },
  {
   "cell_type": "code",
   "execution_count": 374,
   "id": "1ef88c4d",
   "metadata": {
    "ExecuteTime": {
     "end_time": "2023-05-01T17:30:17.398216Z",
     "start_time": "2023-05-01T17:30:17.394275Z"
    }
   },
   "outputs": [
    {
     "name": "stdout",
     "output_type": "stream",
     "text": [
      "tensor(0.0199, dtype=torch.float64, grad_fn=<DivBackward0>)\n"
     ]
    }
   ],
   "source": [
    "print (error)"
   ]
  },
  {
   "cell_type": "code",
   "execution_count": null,
   "id": "06200968",
   "metadata": {
    "ExecuteTime": {
     "end_time": "2023-05-01T18:35:15.190722Z",
     "start_time": "2023-05-01T18:35:15.190703Z"
    }
   },
   "outputs": [],
   "source": [
    "align"
   ]
  },
  {
   "cell_type": "code",
   "execution_count": 304,
   "id": "c2e19601",
   "metadata": {
    "ExecuteTime": {
     "end_time": "2023-05-01T16:54:56.775635Z",
     "start_time": "2023-05-01T16:54:56.772280Z"
    }
   },
   "outputs": [
    {
     "name": "stdout",
     "output_type": "stream",
     "text": [
      "tensor(38.7871, dtype=torch.float64, grad_fn=<DivBackward0>)\n"
     ]
    }
   ],
   "source": [
    "print (error)"
   ]
  },
  {
   "cell_type": "code",
   "execution_count": 287,
   "id": "e2aa62e8",
   "metadata": {
    "ExecuteTime": {
     "end_time": "2023-05-01T16:53:07.082898Z",
     "start_time": "2023-05-01T16:53:07.076999Z"
    }
   },
   "outputs": [
    {
     "name": "stdout",
     "output_type": "stream",
     "text": [
      "tensor(24.7067, grad_fn=<MaxBackward0>)\n",
      "tensor(340)\n"
     ]
    }
   ],
   "source": [
    "value, worst_index = torch.max(abs(align - true_alignments),0)\n",
    "print (value)\n",
    "print (worst_index)"
   ]
  },
  {
   "cell_type": "code",
   "execution_count": 241,
   "id": "468fb067",
   "metadata": {
    "ExecuteTime": {
     "end_time": "2023-05-01T16:28:25.395857Z",
     "start_time": "2023-05-01T16:28:25.215175Z"
    }
   },
   "outputs": [
    {
     "data": {
      "text/plain": [
       "[<matplotlib.lines.Line2D at 0x7fe924043cd0>]"
      ]
     },
     "execution_count": 241,
     "metadata": {},
     "output_type": "execute_result"
    },
    {
     "data": {
      "image/png": "[encoded data removed]",
      "text/plain": [
       "<Figure size 432x288 with 1 Axes>"
      ]
     },
     "metadata": {
      "needs_background": "light"
     },
     "output_type": "display_data"
    }
   ],
   "source": [
    "a_index = worst_index\n",
    "plt.plot(full_xdos, shift_target[a_index] , c='r')\n",
    "plt.plot(full_xdos, total_dos3[a_index], c= 'b')\n",
    "plt.plot(full_xdos, aligned_target[a_index], c= 'y')"
   ]
  },
  {
   "cell_type": "code",
   "execution_count": 305,
   "id": "1a7b6569",
   "metadata": {
    "ExecuteTime": {
     "end_time": "2023-05-01T16:55:00.261887Z",
     "start_time": "2023-05-01T16:55:00.239784Z"
    }
   },
   "outputs": [
    {
     "data": {
      "text/plain": [
       "Parameter containing:\n",
       "tensor([-2.9987, -2.9888, -2.9953,  1.2157, -2.9989, -2.9097, -3.0061, -2.9993,\n",
       "        -2.9993, -2.9925, -2.9986, -2.9984, -3.0000, -3.0004, -3.0009,  2.8594,\n",
       "        -2.9998, -2.9991, -2.9989, -2.9971, -2.9984, -2.9987, -2.9994, -2.9986,\n",
       "        -2.9989, -2.9992, -2.9984, -2.9983, -2.9981, -2.9987, -2.9992, -2.9984,\n",
       "        -2.9990,  1.2451, -2.9991, -2.9988, -2.9988, -3.0000, -2.9991, -2.9987,\n",
       "        -2.9988, -3.0000, -2.9988, -2.9993, -3.0004, -2.9985, -2.9985, -2.9987,\n",
       "        -2.9984, -2.9986, -2.9987, -2.9992, -2.9992, -2.9992, -2.9998, -3.0013,\n",
       "        -2.9984, -2.9984, -2.9998, -2.9998, -2.9997, -2.9987, -2.9971, -2.9998,\n",
       "        -2.9988, -2.9983, -2.9999, -2.9991, -2.9999, -2.9999, -2.9986, -2.9986,\n",
       "        -2.9987, -2.9996, -2.9986, -2.9980, -2.9993, -2.9991, -3.0002, -2.9990,\n",
       "        -2.9992, -2.9987, -2.9903, -2.9988, -2.9992, -2.9988, -2.9988, -2.9997,\n",
       "        -2.9986, -2.9987, -2.9988, -2.9988, -2.9996, -2.9997, -2.9990, -2.9992,\n",
       "        -3.0000, -2.9986, -3.0002, -2.9995, -2.9986, -2.9988, -2.9991, -2.9989,\n",
       "        -2.9974, -2.9988, -3.2473, -3.0007, -2.9995,  2.6895, -2.9991, -2.9989,\n",
       "        -2.9992, -3.0323, -2.9998, -2.9928, -2.9978, -2.9876, -3.0027, -2.9980,\n",
       "        -2.9173, -2.9987,  1.5608, -2.9957, -2.9983, -2.9985, -2.9991, -2.9992,\n",
       "        -2.9986, -2.9991, -3.0010, -2.9996, -2.9938,  2.0622, -2.9939, -3.0007,\n",
       "        -2.9993, -1.4096, -2.9980, -2.9938, -2.9999,  1.7637, -2.9979, -2.9979,\n",
       "        -2.9982, -3.1071, -2.9985, -2.9927, -2.9993,  0.8478, -3.0008, -3.0103,\n",
       "        -2.9957,  2.2006, -2.9996, -2.9989, -2.9896, -2.9993, -2.9995, -2.9992,\n",
       "        -2.9905, -2.9977, -2.9919, -2.9995, -3.0012, -2.9977, -2.9987, -2.9986,\n",
       "        -2.9988, -2.9985, -2.9993, -2.9988, -3.0003, -2.9981, -2.9993, -2.9996,\n",
       "        -3.0189, -2.9989, -2.9969, -2.9987, -2.9980, -2.9993, -2.9993, -3.0009,\n",
       "        -2.9984, -3.0014, -2.9992, -2.9994, -2.9991, -2.9991, -2.9993, -2.9985,\n",
       "        -2.9997, -2.9993, -2.9995, -2.9993, -2.9993, -2.9985, -2.9980, -2.9994,\n",
       "        -2.9987, -3.0011, -2.9990,  0.2063, -2.9907, -3.0006, -2.9994, -2.9977,\n",
       "        -2.9984, -2.9992, -2.9994, -2.9988, -2.9934, -2.9989,  1.2992, -2.9991,\n",
       "        -2.9991, -2.9989, -2.9991, -2.9974, -2.9992, -2.9994, -2.9937, -2.9993,\n",
       "        -2.9993, -2.9979, -2.9989, -2.9984, -2.9988, -2.9957, -2.9983, -2.9994,\n",
       "        -3.0009, -2.9994, -2.9988, -2.9991, -2.9993, -2.9995, -2.9990, -2.9992,\n",
       "        -2.9980, -2.9989, -2.9994, -2.9983, -2.9995, -2.9993, -2.9996, -2.9987,\n",
       "        -3.0000, -2.9991, -2.9992, -2.9994, -2.9993, -2.9997, -2.9990, -2.9986,\n",
       "        -2.9995, -2.9993, -3.0010, -2.9986, -2.9980, -3.0001, -2.9981, -2.9988,\n",
       "        -2.9992, -2.9992, -2.9984, -2.9983, -2.9992, -2.9987, -3.0003, -2.9982,\n",
       "        -2.9994, -2.9988, -2.9989, -2.9992, -2.9994, -2.9993, -2.9988, -2.9994,\n",
       "        -2.9989, -2.9985, -2.9993, -2.9991, -2.9990, -2.9990, -2.9983, -2.9941,\n",
       "        -2.9992, -2.9987, -2.9992, -2.9988, -2.9994, -2.9995, -2.9978, -2.9984,\n",
       "        -2.9989, -2.9984, -2.9988, -2.9986, -2.9995, -2.9994, -2.9991, -2.9994,\n",
       "        -2.9984, -2.9992, -2.9992, -2.9985, -2.9988, -2.9986, -3.0006, -2.9995,\n",
       "        -3.0003, -2.9992, -2.9984, -2.9991, -2.9985, -2.9945, -2.9991, -2.9989,\n",
       "        -2.9978, -2.9988, -3.0005, -2.9993, -2.9988, -3.0000, -2.9987, -3.0010,\n",
       "        -2.9987, -2.9986, -2.9990, -2.9989, -2.9986, -2.9991, -2.9990, -2.9988,\n",
       "        -2.9991, -2.9989, -2.9989, -3.0000, -2.9987, -2.9991, -2.9989, -2.9993,\n",
       "        -2.9986, -2.9985, -2.9990, -2.9986, -2.9986, -2.9994, -2.9990, -2.9998,\n",
       "        -2.9985, -2.9985, -2.9991, -2.9985, -2.9987, -2.9987, -2.9989, -2.9990,\n",
       "        -2.9991, -2.9986, -2.9987, -2.9989, -2.9989, -2.9989, -2.9990, -2.9996,\n",
       "        -2.9990, -2.9985, -2.9990, -2.9986, -2.9990, -2.9994, -2.9985, -3.0010,\n",
       "        -2.9985, -2.9990, -3.0010, -2.9990, -2.9986, -2.9986, -2.9991, -2.9990,\n",
       "        -2.9994, -2.9991, -2.9985, -2.9994, -2.9992, -2.9991, -2.9986, -2.9993,\n",
       "        -2.9990, -2.9990, -2.9990, -2.9997, -2.9986, -2.9988, -2.9993, -2.9986,\n",
       "        -2.9999, -2.9989, -2.9986, -2.9985, -2.9985, -2.9985, -2.9991, -2.9991,\n",
       "        -2.9986, -2.9986, -2.9993, -2.9993, -2.9989, -2.9993, -2.9984, -2.9984,\n",
       "        -2.9989, -2.9992, -2.9999, -2.9988, -2.9989, -2.9988, -2.9991, -2.9985,\n",
       "        -2.9991, -2.9986, -2.9988, -2.9988, -3.0001, -2.9989, -2.9987, -2.9987,\n",
       "        -2.9984, -2.9998, -2.9989, -2.9941, -2.9997, -2.9993, -2.9990, -2.9998,\n",
       "        -2.9987, -2.9986, -2.9985, -2.9989, -2.9985, -2.9987, -3.0003, -2.9980,\n",
       "        -2.9990, -2.9989, -2.9990, -2.9991, -2.9988, -2.9998, -2.9992, -2.9987,\n",
       "        -2.9986, -3.0001, -2.9996, -2.9991, -2.9987, -2.9998, -2.9986, -2.9992,\n",
       "        -2.9985, -2.9994, -2.9984, -2.9991, -2.9994, -2.9990, -2.9984, -2.9984,\n",
       "        -2.9991, -2.9993, -2.9993, -2.9992, -2.9994, -2.9992, -2.9993, -2.9991,\n",
       "        -2.9991, -2.9992, -2.9994, -2.9990, -2.9993, -2.9986, -2.9991, -2.9993,\n",
       "        -2.9986, -2.9992, -2.9991, -2.9987, -2.9984, -2.9992, -2.9994, -2.9994,\n",
       "        -2.9994, -2.9992, -2.9993, -2.9992, -2.9988, -2.9992, -2.9990, -2.9991,\n",
       "        -2.9986, -2.9988, -2.9987, -2.9988, -3.0000, -2.9991, -2.9989, -2.9984,\n",
       "        -2.9987, -2.9970, -2.9990, -2.9985, -2.9996, -2.9987, -2.9984, -2.9987,\n",
       "        -2.9989, -2.9988, -2.9974, -2.9988, -2.9990, -2.9993, -2.9993, -3.0010,\n",
       "        -2.9986, -2.9999, -2.9991, -2.9986, -2.9987, -2.9987, -2.9998, -2.9997,\n",
       "        -2.9991, -2.9990, -2.9988, -2.9986, -3.0001, -2.9986, -2.9987, -2.9985,\n",
       "        -2.9987, -2.9989, -2.9993, -3.0000, -2.9989, -2.9986, -2.9991, -2.9988,\n",
       "        -2.9995, -2.9998, -2.9989, -3.0000, -2.9994, -2.9986, -2.9993, -2.9996,\n",
       "        -2.9989, -2.9986, -2.9997, -2.9986, -2.9999, -2.9991, -2.9988, -2.9989,\n",
       "        -2.9984, -2.9998, -2.9990, -3.0000, -2.9987, -2.9990, -2.9986, -2.9988,\n",
       "        -2.9994, -2.9999, -2.9996, -2.9989, -2.9986, -2.9990, -2.9991, -3.0000,\n",
       "        -2.9962, -2.9986, -2.9999, -2.9988, -3.0000, -2.9986, -2.9987, -2.9988,\n",
       "        -2.9987, -2.9987, -2.9994, -2.9987, -2.9990, -2.9985, -2.9996, -2.9987,\n",
       "        -2.9989, -2.9990, -2.9989, -2.9986, -2.9992, -2.9995, -2.9993, -2.9992,\n",
       "        -2.9987, -2.9988, -2.9985, -2.9986, -2.9999, -2.9999, -2.9993, -2.9988,\n",
       "        -2.9987, -2.9988, -2.9988, -2.9987, -2.9988, -2.9992, -2.9988, -2.9991,\n",
       "        -2.9989, -2.9990, -2.9986, -2.9987, -2.9987, -2.9989, -2.9994, -2.9986,\n",
       "        -2.9989, -2.9988, -2.9999, -2.9993, -2.9989, -2.9989, -2.9988, -2.9996,\n",
       "        -2.9987, -3.0003, -3.0000, -2.9991, -2.9992, -2.9992, -2.9988, -2.9993,\n",
       "        -2.9988, -2.9987, -2.9993, -2.9996, -2.9982, -2.9984, -2.9986, -2.9989,\n",
       "        -2.9997, -2.9987, -2.9986, -2.9983, -2.9990, -2.9986, -2.9995, -2.9986,\n",
       "        -2.9986, -2.9989, -2.9994, -2.9994, -2.9996, -2.9987, -3.0001, -2.9989,\n",
       "        -2.9991, -2.9995, -3.0000, -2.9996, -2.9994, -2.9987, -2.9987, -2.9992,\n",
       "        -2.9996, -2.9993, -2.9987, -2.9993, -3.0005, -3.0004, -2.9985, -2.9988,\n",
       "        -2.9986, -2.9988, -2.9983, -2.9985, -2.9986, -2.9984, -2.9989, -2.9987,\n",
       "        -2.9992, -2.9987, -2.9988, -2.9993, -2.9991, -2.9995, -2.9993, -3.0002,\n",
       "        -2.9972, -2.9984, -2.9988, -2.9991, -2.9987, -2.9983, -2.9999, -2.9984,\n",
       "        -3.0005, -2.9985, -2.9994, -2.9987, -2.9991, -2.9981, -2.9984, -2.9986,\n",
       "        -2.9997, -3.0002, -2.9990, -2.9987, -2.9997, -2.9999, -2.9988, -2.9990,\n",
       "        -2.9999, -3.0001, -2.9992, -2.9991, -2.9992, -2.9998, -2.9988, -2.9992,\n",
       "        -2.9996, -2.9992, -2.9989, -2.9955, -2.9991, -2.9992, -2.9991, -2.9987,\n",
       "        -2.9990, -2.9987, -2.9988, -2.9988, -2.9982, -2.9990, -2.9991, -2.9988,\n",
       "        -2.9996, -2.9990, -2.9989, -2.9990, -2.9997, -2.9987, -2.9992, -2.9987,\n",
       "        -2.9993, -2.9997, -2.9992, -2.9991, -3.0005, -2.9986, -2.9991, -2.9989,\n",
       "        -2.9991, -2.9986, -2.9992, -2.9986, -2.9984, -2.9994, -2.9992, -2.9986,\n",
       "        -2.9989, -2.9993, -2.9992, -2.9984, -2.9979, -2.9995, -2.9986, -2.9991,\n",
       "        -2.9989, -2.9987, -2.9998, -2.9989, -2.9993, -3.0004, -2.9985, -2.9988,\n",
       "        -2.9988, -2.9992, -2.9985, -2.9986, -2.9989, -3.0000, -2.9987, -2.9991,\n",
       "        -2.9987, -3.0000, -2.9979, -2.9987, -2.9985, -3.0000, -2.9987, -2.9986,\n",
       "        -3.0002, -2.9988, -2.9986, -2.9987, -2.9992, -2.9986, -2.9986, -2.9986,\n",
       "        -2.9995, -2.9988, -2.9988, -2.9984, -2.9991, -2.9987, -2.9991, -2.9990,\n",
       "        -2.9988, -2.9987, -2.9995, -2.9986, -2.9990, -2.9987, -2.9999, -2.9989,\n",
       "        -2.9973, -2.9999, -2.9986, -2.9996, -2.9997, -2.9990, -2.9989, -2.9997,\n",
       "        -2.9987, -2.9993, -2.9985, -2.9986, -2.9975, -3.0002, -2.9999, -3.0000,\n",
       "        -2.9990, -2.9999, -2.9987, -2.9991, -2.9992, -2.9992, -3.0000, -2.9997,\n",
       "        -2.9999, -2.9996, -2.9986, -2.9985, -2.9995, -2.9986, -2.9989, -2.9997,\n",
       "        -2.9987, -2.9986, -2.9987, -2.9966, -2.9988, -2.9977, -2.9997, -2.9985,\n",
       "        -2.9993, -2.9990, -3.0003, -2.9999, -3.0000, -2.9990, -2.9996, -2.9990,\n",
       "        -2.9986, -3.0003, -2.9988, -2.9984, -2.9996, -3.0001, -3.0002, -2.9965,\n",
       "        -2.9996, -2.9997, -2.9997, -2.9989, -2.9991, -2.9993, -2.9979, -3.0000,\n",
       "        -2.9990, -2.9998, -2.9993, -2.9997, -2.9995, -2.9989, -2.9985, -2.9989,\n",
       "        -3.0000, -2.9997, -2.9968, -2.9988, -2.9990, -2.9986, -3.0002, -2.9991,\n",
       "        -3.0000, -2.9985, -2.9988, -3.0001, -2.9958, -2.9986, -2.9989, -3.0003,\n",
       "        -2.9993, -3.0000, -2.9994, -2.9993, -2.9968, -3.0000, -3.0000],\n",
       "       requires_grad=True)"
      ]
     },
     "execution_count": 305,
     "metadata": {},
     "output_type": "execute_result"
    }
   ],
   "source": [
    "align"
   ]
  },
  {
   "cell_type": "code",
   "execution_count": 327,
   "id": "47dd8eda",
   "metadata": {
    "ExecuteTime": {
     "end_time": "2023-05-01T16:57:50.605008Z",
     "start_time": "2023-05-01T16:57:50.592799Z"
    },
    "scrolled": true
   },
   "outputs": [
    {
     "data": {
      "text/plain": [
       "Parameter containing:\n",
       "tensor([-1.9899, -1.9899, -1.9901, -1.9899, -1.9899, -1.9899, -1.9898, -1.9900,\n",
       "        -1.9900, -1.9899, -1.9901, -1.9901, -1.9897, -1.9900, -1.9899, -1.9901,\n",
       "        -1.9899, -1.9900, -1.9901, -1.9900, -1.9900, -1.9899, -1.9897, -1.9899,\n",
       "        -1.9902, -1.9901, -1.9902, -1.9901, -1.9899, -1.9899, -1.9899, -1.9903,\n",
       "        -1.9899, -1.9899, -1.9899, -1.9900, -1.9902, -1.9901, -1.9901, -1.9900,\n",
       "        -1.9904, -1.9897, -1.9900, -1.9900, -1.9900, -1.9901, -1.9898, -1.9900,\n",
       "        -1.9899, -1.9903, -1.9900, -1.9899, -1.9899, -1.9899, -1.9899, -1.9898,\n",
       "        -1.9898, -1.9899, -1.9899, -1.9900, -1.9901, -1.9900, -1.9900, -1.9901,\n",
       "        -1.9899, -1.9899, -1.9900, -1.9904, -1.9901, -1.9899, -1.9899, -1.9900,\n",
       "        -1.9900, -1.9902, -1.9899, -1.9899, -1.9900, -1.9901, -1.9900, -1.9899,\n",
       "        -1.9899, -1.9900, -1.9901, -1.9899, -1.9901, -1.9901, -1.9900, -1.9900,\n",
       "        -1.9900, -1.9900, -1.9900, -1.9900, -1.9901, -1.9899, -1.9903, -1.9901,\n",
       "        -1.9901, -1.9903, -1.9899, -1.9902, -1.9901, -1.9901, -1.9902, -1.9901,\n",
       "        -1.9901, -1.9901, -1.9899, -1.9901, -1.9901, -1.9901, -1.9901, -1.9901,\n",
       "        -1.9900, -1.9900, -1.9900, -1.9900, -1.9901, -1.9900, -1.9901, -1.9901,\n",
       "        -1.9901, -1.9901, -1.9901, -1.9902, -1.9899, -1.9900, -1.9901, -1.9900,\n",
       "        -1.9901, -1.9901, -1.9901, -1.9902, -1.9901, -1.9899, -1.9901, -1.9901,\n",
       "        -1.9899, -1.9901, -1.9901, -1.9902, -1.9899, -1.9901, -1.9897, -1.9898,\n",
       "        -1.9902, -1.9901, -1.9901, -1.9901, -1.9901, -1.9897, -1.9899, -1.9901,\n",
       "        -1.9901, -1.9901, -1.9902, -1.9901, -1.9901, -1.9899, -1.9899, -1.9900,\n",
       "        -1.9902, -1.9901, -1.9900, -1.9898, -1.9901, -1.9898, -1.9900, -1.9900,\n",
       "        -1.9902, -1.9900, -1.9901, -1.9901, -1.9901, -1.9900, -1.9900, -1.9902,\n",
       "        -1.9901, -1.9899, -1.9900, -1.9898, -1.9901, -1.9899, -1.9900, -1.9897,\n",
       "        -1.9899, -1.9900, -1.9899, -1.9901, -1.9901, -1.9899, -1.9898, -1.9902,\n",
       "        -1.9899, -1.9899, -1.9901, -1.9900, -1.9901, -1.9900, -1.9900, -1.9901,\n",
       "        -1.9900, -1.9901, -1.9901, -1.9900, -1.9899, -1.9901, -1.9900, -1.9900,\n",
       "        -1.9898, -1.9898, -1.9900, -1.9901, -1.9901, -1.9900, -1.9898, -1.9903,\n",
       "        -1.9899, -1.9900, -1.9902, -1.9898, -1.9897, -1.9897, -1.9901, -1.9901,\n",
       "        -1.9901, -1.9899, -1.9899, -1.9902, -1.9900, -1.9900, -1.9901, -1.9900,\n",
       "        -1.9899, -1.9898, -1.9899, -1.9898, -1.9898, -1.9902, -1.9899, -1.9900,\n",
       "        -1.9903, -1.9900, -1.9901, -1.9899, -1.9899, -1.9904, -1.9900, -1.9900,\n",
       "        -1.9901, -1.9901, -1.9897, -1.9897, -1.9899, -1.9897, -1.9898, -1.9899,\n",
       "        -1.9898, -1.9898, -1.9899, -1.9900, -1.9902, -1.9899, -1.9898, -1.9899,\n",
       "        -1.9900, -1.9897, -1.9899, -1.9899, -1.9898, -1.9900, -1.9899, -1.9899,\n",
       "        -1.9898, -1.9900, -1.9898, -1.9901, -1.9902, -1.9900, -1.9902, -1.9899,\n",
       "        -1.9899, -1.9898, -1.9899, -1.9901, -1.9900, -1.9900, -1.9900, -1.9901,\n",
       "        -1.9900, -1.9901, -1.9900, -1.9901, -1.9901, -1.9900, -1.9901, -1.9899,\n",
       "        -1.9900, -1.9901, -1.9899, -1.9900, -1.9902, -1.9903, -1.9900, -1.9901,\n",
       "        -1.9900, -1.9900, -1.9899, -1.9900, -1.9899, -1.9902, -1.9901, -1.9901,\n",
       "        -1.9899, -1.9900, -1.9901, -1.9901, -1.9900, -1.9900, -1.9901, -1.9901,\n",
       "        -1.9900, -1.9901, -1.9901, -1.9904, -1.9900, -1.9905, -1.9896, -1.9900,\n",
       "        -1.9904, -1.9896, -1.9900, -1.9900, -1.9900, -1.9896, -1.9900, -1.9900,\n",
       "        -1.9900, -1.9900, -1.9904, -1.9897, -1.9905, -1.9904, -1.9900, -1.9895,\n",
       "        -1.9896, -1.9904, -1.9905, -1.9905, -1.9904, -1.9904, -1.9905, -1.9910,\n",
       "        -1.9900, -1.9900, -1.9896, -1.9896, -1.9900, -1.9900, -1.9900, -1.9890,\n",
       "        -1.9904, -1.9896, -1.9900, -1.9904, -1.9896, -1.9900, -1.9900, -1.9896,\n",
       "        -1.9900, -1.9900, -1.9896, -1.9896, -1.9910, -1.9890, -1.9870, -1.9905,\n",
       "        -1.9895, -1.9895, -1.9900, -1.9904, -1.9900, -1.9904, -1.9910, -1.9900,\n",
       "        -1.9900, -1.9900, -1.9900, -1.9901, -1.9901, -1.9902, -1.9901, -1.9899,\n",
       "        -1.9899, -1.9901, -1.9900, -1.9901, -1.9899, -1.9900, -1.9900, -1.9900,\n",
       "        -1.9901, -1.9900, -1.9900, -1.9902, -1.9901, -1.9899, -1.9900, -1.9899,\n",
       "        -1.9901, -1.9901, -1.9901, -1.9901, -1.9900, -1.9900, -1.9903, -1.9899,\n",
       "        -1.9899, -1.9900, -1.9900, -1.9899, -1.9898, -1.9899, -1.9900, -1.9899,\n",
       "        -1.9899, -1.9900, -1.9900, -1.9900, -1.9900, -1.9899, -1.9901, -1.9899,\n",
       "        -1.9901, -1.9900, -1.9900, -1.9901, -1.9900, -1.9899, -1.9900, -1.9899,\n",
       "        -1.9900, -1.9897, -1.9901, -1.9900, -1.9900, -1.9901, -1.9900, -1.9900,\n",
       "        -1.9900, -1.9901, -1.9901, -1.9899, -1.9899, -1.9899, -1.9901, -1.9899,\n",
       "        -1.9897, -1.9899, -1.9900, -1.9901, -1.9901, -1.9900, -1.9902, -1.9902,\n",
       "        -1.9900, -1.9898, -1.9900, -1.9900, -1.9902, -1.9901, -1.9900, -1.9901,\n",
       "        -1.9900, -1.9903, -1.9900, -1.9901, -1.9899, -1.9900, -1.9899, -1.9897,\n",
       "        -1.9900, -1.9899, -1.9899, -1.9899, -1.9901, -1.9900, -1.9902, -1.9900,\n",
       "        -1.9900, -1.9900, -1.9900, -1.9897, -1.9901, -1.9901, -1.9899, -1.9901,\n",
       "        -1.9903, -1.9901, -1.9899, -1.9901, -1.9901, -1.9901, -1.9900, -1.9900,\n",
       "        -1.9900, -1.9901, -1.9900, -1.9900, -1.9903, -1.9900, -1.9900, -1.9900,\n",
       "        -1.9900, -1.9900, -1.9897, -1.9900, -1.9900, -1.9901, -1.9901, -1.9901,\n",
       "        -1.9900, -1.9900, -1.9900, -1.9901, -1.9901, -1.9901, -1.9899, -1.9901,\n",
       "        -1.9900, -1.9901, -1.9899, -1.9900, -1.9897, -1.9900, -1.9900, -1.9901,\n",
       "        -1.9900, -1.9895, -1.9900, -1.9900, -1.9897, -1.9899, -1.9899, -1.9899,\n",
       "        -1.9899, -1.9900, -1.9898, -1.9900, -1.9898, -1.9897, -1.9897, -1.9900,\n",
       "        -1.9900, -1.9900, -1.9900, -1.9899, -1.9898, -1.9898, -1.9898, -1.9897,\n",
       "        -1.9900, -1.9899, -1.9900, -1.9896, -1.9900, -1.9901, -1.9899, -1.9901,\n",
       "        -1.9899, -1.9900, -1.9900, -1.9901, -1.9897, -1.9900, -1.9899, -1.9900,\n",
       "        -1.9900, -1.9901, -1.9901, -1.9900, -1.9898, -1.9899, -1.9900, -1.9900,\n",
       "        -1.9897, -1.9899, -1.9900, -1.9900, -1.9900, -1.9899, -1.9902, -1.9900,\n",
       "        -1.9901, -1.9900, -1.9898, -1.9898, -1.9901, -1.9900, -1.9900, -1.9901,\n",
       "        -1.9899, -1.9900, -1.9897, -1.9900, -1.9900, -1.9896, -1.9899, -1.9900,\n",
       "        -1.9899, -1.9902, -1.9900, -1.9901, -1.9900, -1.9899, -1.9901, -1.9899,\n",
       "        -1.9899, -1.9896, -1.9900, -1.9900, -1.9900, -1.9900, -1.9901, -1.9901,\n",
       "        -1.9900, -1.9899, -1.9900, -1.9901, -1.9897, -1.9900, -1.9900, -1.9901,\n",
       "        -1.9900, -1.9901, -1.9898, -1.9899, -1.9900, -1.9901, -1.9899, -1.9899,\n",
       "        -1.9899, -1.9901, -1.9898, -1.9900, -1.9901, -1.9901, -1.9899, -1.9899,\n",
       "        -1.9900, -1.9900, -1.9900, -1.9900, -1.9900, -1.9901, -1.9900, -1.9899,\n",
       "        -1.9901, -1.9900, -1.9901, -1.9900, -1.9901, -1.9900, -1.9904, -1.9900,\n",
       "        -1.9900, -1.9900, -1.9901, -1.9901, -1.9900, -1.9901, -1.9899, -1.9898,\n",
       "        -1.9900, -1.9900, -1.9898, -1.9903, -1.9900, -1.9900, -1.9900, -1.9900,\n",
       "        -1.9900, -1.9901, -1.9901, -1.9901, -1.9900, -1.9900, -1.9900, -1.9901,\n",
       "        -1.9899, -1.9901, -1.9901, -1.9900, -1.9900, -1.9900, -1.9900, -1.9899,\n",
       "        -1.9900, -1.9900, -1.9900, -1.9899, -1.9901, -1.9899, -1.9900, -1.9899,\n",
       "        -1.9901, -1.9901, -1.9897, -1.9900, -1.9899, -1.9901, -1.9899, -1.9899,\n",
       "        -1.9900, -1.9899, -1.9902, -1.9905, -1.9900, -1.9900, -1.9899, -1.9900,\n",
       "        -1.9901, -1.9901, -1.9899, -1.9899, -1.9898, -1.9901, -1.9900, -1.9900,\n",
       "        -1.9899, -1.9895, -1.9900, -1.9899, -1.9898, -1.9901, -1.9899, -1.9900,\n",
       "        -1.9901, -1.9899, -1.9899, -1.9901, -1.9900, -1.9901, -1.9898, -1.9900,\n",
       "        -1.9900, -1.9898, -1.9899, -1.9899, -1.9901, -1.9899, -1.9899, -1.9901,\n",
       "        -1.9901, -1.9901, -1.9903, -1.9899, -1.9899, -1.9901, -1.9901, -1.9901,\n",
       "        -1.9901, -1.9896, -1.9901, -1.9901, -1.9900, -1.9900, -1.9898, -1.9900,\n",
       "        -1.9900, -1.9900, -1.9904, -1.9901, -1.9897, -1.9900, -1.9901, -1.9901,\n",
       "        -1.9898, -1.9900, -1.9897, -1.9899, -1.9899, -1.9900, -1.9900, -1.9901,\n",
       "        -1.9900, -1.9900, -1.9902, -1.9900, -1.9904, -1.9899, -1.9900, -1.9899,\n",
       "        -1.9901, -1.9899, -1.9900, -1.9901, -1.9900, -1.9901, -1.9901, -1.9901,\n",
       "        -1.9899, -1.9901, -1.9899, -1.9900, -1.9900, -1.9900, -1.9899, -1.9898,\n",
       "        -1.9901, -1.9899, -1.9899, -1.9901, -1.9900, -1.9901, -1.9900, -1.9901,\n",
       "        -1.9900, -1.9898, -1.9900, -1.9901, -1.9900, -1.9900, -1.9900, -1.9899,\n",
       "        -1.9900, -1.9899, -1.9900, -1.9901, -1.9901, -1.9899, -1.9900, -1.9901,\n",
       "        -1.9899, -1.9899, -1.9901, -1.9900, -1.9890, -1.9899, -1.9899, -1.9900,\n",
       "        -1.9900, -1.9899, -1.9900, -1.9901, -1.9900, -1.9901, -1.9899, -1.9901,\n",
       "        -1.9900, -1.9900, -1.9900, -1.9898, -1.9900, -1.9899, -1.9898, -1.9903,\n",
       "        -1.9901, -1.9899, -1.9902, -1.9901, -1.9894, -1.9899, -1.9900, -1.9902,\n",
       "        -1.9901, -1.9899, -1.9899, -1.9899, -1.9900, -1.9899, -1.9899, -1.9903,\n",
       "        -1.9901, -1.9900, -1.9899, -1.9900, -1.9899, -1.9900, -1.9899, -1.9899,\n",
       "        -1.9897, -1.9899, -1.9899, -1.9901, -1.9899, -1.9900, -1.9899, -1.9899,\n",
       "        -1.9900, -1.9898, -1.9901, -1.9899, -1.9900, -1.9900, -1.9899, -1.9901,\n",
       "        -1.9900, -1.9899, -1.9901, -1.9901, -1.9900, -1.9900, -1.9903, -1.9902,\n",
       "        -1.9901, -1.9899, -1.9899, -1.9902, -1.9900, -1.9902, -1.9898, -1.9900,\n",
       "        -1.9900, -1.9900, -1.9899, -1.9900, -1.9899, -1.9900, -1.9899, -1.9900,\n",
       "        -1.9899, -1.9901, -1.9899, -1.9900, -1.9898, -1.9900, -1.9900],\n",
       "       requires_grad=True)"
      ]
     },
     "execution_count": 327,
     "metadata": {},
     "output_type": "execute_result"
    }
   ],
   "source": [
    "align"
   ]
  },
  {
   "cell_type": "code",
   "execution_count": null,
   "id": "35c9799d",
   "metadata": {},
   "outputs": [],
   "source": []
  }
 ],
 "metadata": {
  "kernelspec": {
   "display_name": "Python 3 (ipykernel)",
   "language": "python",
   "name": "python3"
  },
  "language_info": {
   "codemirror_mode": {
    "name": "ipython",
    "version": 3
   },
   "file_extension": ".py",
   "mimetype": "text/x-python",
   "name": "python",
   "nbconvert_exporter": "python",
   "pygments_lexer": "ipython3",
   "version": "3.9.12"
  },
  "toc": {
   "base_numbering": 1,
   "nav_menu": {},
   "number_sections": true,
   "sideBar": true,
   "skip_h1_title": false,
   "title_cell": "Table of Contents",
   "title_sidebar": "Contents",
   "toc_cell": false,
   "toc_position": {},
   "toc_section_display": true,
   "toc_window_display": false
  }
 },
 "nbformat": 4,
 "nbformat_minor": 5
}
