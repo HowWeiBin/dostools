{
 "cells": [
  {
   "cell_type": "markdown",
   "id": "84565b74",
   "metadata": {
    "hide_input": false
   },
   "source": [
    "## Imports"
   ]
  },
  {
   "cell_type": "code",
   "execution_count": 3,
   "id": "dfdaeca7",
   "metadata": {
    "ExecuteTime": {
     "end_time": "2023-04-18T22:01:58.946046Z",
     "start_time": "2023-04-18T22:01:47.020703Z"
    }
   },
   "outputs": [],
   "source": [
    "import dostools\n",
    "import importlib\n",
    "import numpy as np\n",
    "import pickle\n",
    "import torch\n",
    "import sys\n",
    "import matplotlib.pyplot as plt\n",
    "import copy\n",
    "from tqdm import tqdm\n",
    "import matplotlib\n",
    "import time\n",
    "torch.set_default_dtype(torch.float64) \n",
    "# %matplotlib notebook\n",
    "# matplotlib.rcParams['figure.figsize'] = (10, 10)"
   ]
  },
  {
   "cell_type": "code",
   "execution_count": 4,
   "id": "7ccbf26d",
   "metadata": {
    "ExecuteTime": {
     "end_time": "2023-04-18T22:02:30.311215Z",
     "start_time": "2023-04-18T22:02:26.885928Z"
    }
   },
   "outputs": [],
   "source": [
    "import dostools.datasets.data as data\n",
    "import dostools.utils.utils as utils\n",
    "importlib.reload(data)\n",
    "\n",
    "n_structures = 1039\n",
    "np.random.seed(0)\n",
    "n_train = int(0.8 * n_structures)\n",
    "train_index = np.arange(n_structures)\n",
    "np.random.shuffle(train_index)\n",
    "test_index = train_index[n_train:]\n",
    "train_index = train_index[:n_train]\n",
    "\n",
    "with torch.no_grad():\n",
    "#     structures = data.load_structures(\":\")\n",
    "#     n_structures = len(structures) #total number of structures\n",
    "#     for structure in structures:#implement periodicity\n",
    "#         structure.wrap(eps = 1e-12) \n",
    "#     n_atoms = np.zeros(n_structures, dtype = int) #stores number of atoms in each structures\n",
    "#     for i in range(n_structures):\n",
    "#         n_atoms[i] = len(structures[i])\n",
    "\n",
    "#     #eigenergies, emin, emax = dostools.src.datasets.data.load_eigenenergies(unpack = True, n_structures = len(structures))\n",
    "#     xdos = torch.tensor(data.load_xdos())\n",
    "#     ldos = torch.tensor(data.load_ldos())\n",
    "#     ldos *= 2\n",
    "\n",
    "#     print (\"ldos shape is {}\".format(ldos.shape))\n",
    "#     mean_dos_per_atom = ldos[train_index].mean(axis = 0) #only calculated for train set to prevent data leakage\n",
    "#     print (\"mean dos shape is {}\".format(mean_dos_per_atom.shape))\n",
    "    \n",
    "    \n",
    "#     y_pw = ldos - mean_dos_per_atom\n",
    "#     y_lcdf = torch.cumsum(y_pw, dim = 1)\n",
    "#     _, pc_vectors = utils.build_pc(ldos[train_index], mean_dos_per_atom[None,:], n_pc = 10)\n",
    "#     y_pc = utils.build_coeffs(ldos - mean_dos_per_atom[None,:], pc_vectors)\n",
    "#     Silicon = data.load_features()\n",
    "#     kMM = data.load_kMM()\n",
    "#     structure_eigvals_t, structure_coefficients_t, reconstructed_ldos_t = data.load_structure_gaussians()\n",
    "    xdos = torch.tensor(data.load_xdos())\n",
    "    ldos3 = torch.tensor(data.load_ldos())\n",
    "    ldos3 *= 2\n",
    "    \n",
    "    kMM_200 = torch.load(\"./kMM200.pt\")\n",
    "    SOAP = torch.load(\"./Soap.pt\")\n",
    "    KERNEL = torch.load(\"./kernel200.pt\")\n",
    "    ldos1 = torch.load(\"./ldos_01.pt\")\n",
    "    \n",
    "    biased_train_index = np.load(\"./biased_train_index.npy\")\n",
    "    biased_test_index = np.load(\"./biased_test_index.npy\")\n"
   ]
  },
  {
   "cell_type": "code",
   "execution_count": 5,
   "id": "61091a5d",
   "metadata": {
    "ExecuteTime": {
     "end_time": "2023-04-18T22:02:33.505039Z",
     "start_time": "2023-04-18T22:02:33.495252Z"
    }
   },
   "outputs": [],
   "source": [
    "def manual_call(spline_coefs, spline_positions, x):\n",
    "    \"\"\"\n",
    "    spline_coefs: shape of (n x 4 x spline_positions)\n",
    "    \n",
    "    return value: shape of (n x x)\n",
    "    \"\"\"\n",
    "    interval = torch.round(spline_positions[1] - spline_positions[0], decimals = 4)\n",
    "    indexes = torch.floor((x - spline_positions[0])/interval).long()\n",
    "    x_1 = x - spline_positions[indexes]\n",
    "    x_2 = x_1 * x_1\n",
    "    x_3 = x_2 * x_1\n",
    "    x_0 = torch.ones_like(x_1)\n",
    "    x_powers = torch.stack([x_3, x_2, x_1, x_0])\n",
    "    \n",
    "    value = torch.sum(torch.mul(x_powers, torch.index_select(spline_coefs, 2, indexes)), axis = 1) \n",
    "    \n",
    "    \n",
    "    return value"
   ]
  },
  {
   "cell_type": "code",
   "execution_count": 6,
   "id": "24690649",
   "metadata": {
    "ExecuteTime": {
     "end_time": "2023-04-18T22:02:34.491108Z",
     "start_time": "2023-04-18T22:02:34.480588Z"
    }
   },
   "outputs": [],
   "source": [
    "def manual_call2(spline_coefs, spline_positions, x):\n",
    "    \"\"\"\n",
    "    spline_coefs: shape of (n x 4 x spline_positions)\n",
    "    \n",
    "    return value: shape of (n x x)\n",
    "    \"\"\"\n",
    "    interval = torch.round(spline_positions[1] - spline_positions[0], decimals = 4)\n",
    "    indexes = torch.floor((x - spline_positions[0])/interval).long()\n",
    "    expanded_index = indexes.unsqueeze(dim=1).expand(-1,4,-1)\n",
    "    x_1 = x - spline_positions[indexes]\n",
    "    x_2 = x_1 * x_1\n",
    "    x_3 = x_2 * x_1\n",
    "    x_0 = torch.ones_like(x_1)\n",
    "    x_powers = torch.stack([x_3, x_2, x_1, x_0]).permute(1,0,2)\n",
    "    value = torch.sum(torch.mul(x_powers, torch.gather(spline_coefs, 2, expanded_index)), axis = 1) \n",
    "    \n",
    "    \n",
    "    return value"
   ]
  },
  {
   "cell_type": "code",
   "execution_count": 624,
   "id": "8d594135",
   "metadata": {
    "ExecuteTime": {
     "end_time": "2023-04-12T11:34:07.852373Z",
     "start_time": "2023-04-12T11:34:02.399695Z"
    }
   },
   "outputs": [
    {
     "name": "stdout",
     "output_type": "stream",
     "text": [
      "This file contains the eigenenergies and their corresponding kpoints of the training Silicon structures generated using DFT PBE as implemented in FHI-AIMS version 171221_1 with the ``tight'' settings\n"
     ]
    }
   ],
   "source": [
    "# sigma = 0.3\n",
    "# dx = 0.05\n",
    "# eigen_energies, emin, emax = data.load_eigenenergies(unpack = True, n_structures = 1039)\n",
    "# full_eigen_energies = [torch.tensor(i.flatten()) for i in eigen_energies]\n",
    "# eigenenergy_length = [len(i) for i in full_eigen_energies]\n",
    "# eigenenergy_length_t = torch.tensor(eigenenergy_length)\n",
    "# n_atoms_t = torch.tensor(n_atoms)\n",
    "# normalization_eiglength = [len(i) for i in eigen_energies]\n",
    "# normalization_eiglength_t = torch.tensor(normalization_eiglength)\n",
    "# normalization = 1/torch.sqrt(2*torch.tensor(np.pi)*sigma**2)/n_atoms_t/normalization_eiglength_t\n",
    "# normalization_quartic = 1/n_atoms/normalization_eiglength_t"
   ]
  },
  {
   "cell_type": "code",
   "execution_count": 1265,
   "id": "12dc6582",
   "metadata": {
    "ExecuteTime": {
     "end_time": "2023-04-14T16:28:44.964065Z",
     "start_time": "2023-04-14T16:28:44.959641Z"
    }
   },
   "outputs": [
    {
     "data": {
      "text/plain": [
       "17280"
      ]
     },
     "execution_count": 1265,
     "metadata": {},
     "output_type": "execute_result"
    }
   ],
   "source": [
    "# len(full_eigen_energies[0])"
   ]
  },
  {
   "cell_type": "code",
   "execution_count": 1267,
   "id": "d2d4c275",
   "metadata": {
    "ExecuteTime": {
     "end_time": "2023-04-14T16:28:55.999365Z",
     "start_time": "2023-04-14T16:28:55.987987Z"
    }
   },
   "outputs": [
    {
     "data": {
      "text/plain": [
       "tensor([0.0004, 0.0004, 0.0004,  ..., 0.0026, 0.0026, 0.0026])"
      ]
     },
     "execution_count": 1267,
     "metadata": {},
     "output_type": "execute_result"
    }
   ],
   "source": [
    "# normalization"
   ]
  },
  {
   "cell_type": "markdown",
   "id": "23308202",
   "metadata": {},
   "source": [
    "## Spline Loading"
   ]
  },
  {
   "cell_type": "code",
   "execution_count": 384,
   "id": "ff81f660",
   "metadata": {
    "ExecuteTime": {
     "end_time": "2023-04-19T09:21:21.201186Z",
     "start_time": "2023-04-19T09:21:20.662930Z"
    }
   },
   "outputs": [],
   "source": [
    "#Try for full ldos and shifted ldos for splines\n",
    "emin = -24.553719539983\n",
    "max_efermi = -4.3758\n",
    "# emax = 11.346414696331\n",
    "Total_splines = torch.load(\"./Splines_dataset4.pt\")\n",
    "# lower_bound = torch.round(torch.tensor(emin-1.5).float(), decimals = 3)\n",
    "# upper_bound = torch.round(torch.tensor(max_efermi+3).float(), decimals = 3)\n",
    "# n_points = ((upper_bound - lower_bound)/0.001).long()\n",
    "# xaxis = torch.linspace(lower_bound,upper_bound,n_points).float()\n",
    "lower_bound = -24.553719539983-4.5\n",
    "upper_bound = -4.3758+5.5\n",
    "xaxis = torch.arange(lower_bound,upper_bound,0.001)\n",
    "import dostools.datasets.data as data\n",
    "xdos = torch.tensor(data.load_xdos())"
   ]
  },
  {
   "cell_type": "markdown",
   "id": "ed3d190b",
   "metadata": {},
   "source": [
    "## Biased Train-test split"
   ]
  },
  {
   "cell_type": "code",
   "execution_count": 1131,
   "id": "0a69a2b5",
   "metadata": {
    "ExecuteTime": {
     "end_time": "2023-04-12T16:14:19.118505Z",
     "start_time": "2023-04-12T16:14:19.107931Z"
    }
   },
   "outputs": [],
   "source": [
    "# #Selected Amorphous structures\n",
    "\n",
    "# amorph_train = np.arange(939,1039,1)\n",
    "# np.random.seed(0)\n",
    "# np.random.shuffle(amorph_train)\n",
    "\n",
    "# amorph_test = amorph_train[:80]\n",
    "# amorph_train = amorph_train[80:]\n",
    "\n",
    "# n_structures2 = 939\n",
    "# np.random.seed(0)\n",
    "# n_train = int(0.8 * 1039)-20\n",
    "# remaining_train_index = np.arange(n_structures2)\n",
    "# np.random.shuffle(remaining_train_index)\n",
    "\n",
    "# remaining_test_index = remaining_train_index[n_train:]\n",
    "# remaining_train_index = remaining_train_index[:n_train]\n",
    "\n",
    "# biased_train_index = np.concatenate([remaining_train_index, amorph_train])\n",
    "# biased_test_index = np.concatenate([remaining_test_index, amorph_test])"
   ]
  },
  {
   "cell_type": "code",
   "execution_count": 359,
   "id": "ea2de713",
   "metadata": {
    "ExecuteTime": {
     "end_time": "2023-04-19T09:18:24.740873Z",
     "start_time": "2023-04-19T09:18:22.058233Z"
    }
   },
   "outputs": [],
   "source": [
    "# Fermi level\n",
    "import ase\n",
    "\n",
    "T_0 = 200\n",
    "beta_0 = 1 / (ase.units.kB * T_0) # inverse temperature\n",
    "efermi = torch.zeros(n_structures)\n",
    "for i in range(n_structures):\n",
    "    efermi[i] = torch.tensor(utils.getmu(ldos3[i], beta_0, xdos, n=4))"
   ]
  },
  {
   "cell_type": "code",
   "execution_count": 360,
   "id": "6bd87d3d",
   "metadata": {
    "ExecuteTime": {
     "end_time": "2023-04-19T09:18:24.745954Z",
     "start_time": "2023-04-19T09:18:24.742666Z"
    }
   },
   "outputs": [],
   "source": [
    "cutoff = torch.max(efermi) + 3\n",
    "cutoff_index = torch.searchsorted(xdos, cutoff)"
   ]
  },
  {
   "cell_type": "code",
   "execution_count": 11,
   "id": "15f17b26",
   "metadata": {
    "ExecuteTime": {
     "end_time": "2023-04-18T22:03:09.135032Z",
     "start_time": "2023-04-18T22:03:09.121103Z"
    }
   },
   "outputs": [],
   "source": [
    "# #Build critical x-axis (Not implemented yet)\n",
    "# min_eigen_energies = torch.tensor([torch.min(i) for i in full_eigen_energies])\n",
    "# l_bound = min_eigen_energies - 0.5\n",
    "# r_bound = efermi + 2"
   ]
  },
  {
   "cell_type": "code",
   "execution_count": 361,
   "id": "e638b884",
   "metadata": {
    "ExecuteTime": {
     "end_time": "2023-04-19T09:18:33.957130Z",
     "start_time": "2023-04-19T09:18:33.950230Z"
    }
   },
   "outputs": [
    {
     "name": "stdout",
     "output_type": "stream",
     "text": [
      "torch.Size([474])\n"
     ]
    }
   ],
   "source": [
    "#Prediction will be done from lowest lbound to highest rbound\n",
    "emin = -24.553719539983\n",
    "max_efermi = -4.3758\n",
    "pred_xdos = torch.arange(emin-1.5, torch.max(efermi) + 2, 0.05)\n",
    "print (pred_xdos.shape)\n"
   ]
  },
  {
   "cell_type": "code",
   "execution_count": 362,
   "id": "0d5365e9",
   "metadata": {
    "ExecuteTime": {
     "end_time": "2023-04-19T09:18:34.574864Z",
     "start_time": "2023-04-19T09:18:34.561934Z"
    }
   },
   "outputs": [
    {
     "data": {
      "text/plain": [
       "tensor([-26.0537, -26.0037, -25.9537, -25.9037, -25.8537, -25.8037, -25.7537,\n",
       "        -25.7037, -25.6537, -25.6037, -25.5537, -25.5037, -25.4537, -25.4037,\n",
       "        -25.3537, -25.3037, -25.2537, -25.2037, -25.1537, -25.1037, -25.0537,\n",
       "        -25.0037, -24.9537, -24.9037, -24.8537, -24.8037, -24.7537, -24.7037,\n",
       "        -24.6537, -24.6037, -24.5537, -24.5037, -24.4537, -24.4037, -24.3537,\n",
       "        -24.3037, -24.2537, -24.2037, -24.1537, -24.1037, -24.0537, -24.0037,\n",
       "        -23.9537, -23.9037, -23.8537, -23.8037, -23.7537, -23.7037, -23.6537,\n",
       "        -23.6037, -23.5537, -23.5037, -23.4537, -23.4037, -23.3537, -23.3037,\n",
       "        -23.2537, -23.2037, -23.1537, -23.1037, -23.0537, -23.0037, -22.9537,\n",
       "        -22.9037, -22.8537, -22.8037, -22.7537, -22.7037, -22.6537, -22.6037,\n",
       "        -22.5537, -22.5037, -22.4537, -22.4037, -22.3537, -22.3037, -22.2537,\n",
       "        -22.2037, -22.1537, -22.1037, -22.0537, -22.0037, -21.9537, -21.9037,\n",
       "        -21.8537, -21.8037, -21.7537, -21.7037, -21.6537, -21.6037, -21.5537,\n",
       "        -21.5037, -21.4537, -21.4037, -21.3537, -21.3037, -21.2537, -21.2037,\n",
       "        -21.1537, -21.1037, -21.0537, -21.0037, -20.9537, -20.9037, -20.8537,\n",
       "        -20.8037, -20.7537, -20.7037, -20.6537, -20.6037, -20.5537, -20.5037,\n",
       "        -20.4537, -20.4037, -20.3537, -20.3037, -20.2537, -20.2037, -20.1537,\n",
       "        -20.1037, -20.0537, -20.0037, -19.9537, -19.9037, -19.8537, -19.8037,\n",
       "        -19.7537, -19.7037, -19.6537, -19.6037, -19.5537, -19.5037, -19.4537,\n",
       "        -19.4037, -19.3537, -19.3037, -19.2537, -19.2037, -19.1537, -19.1037,\n",
       "        -19.0537, -19.0037, -18.9537, -18.9037, -18.8537, -18.8037, -18.7537,\n",
       "        -18.7037, -18.6537, -18.6037, -18.5537, -18.5037, -18.4537, -18.4037,\n",
       "        -18.3537, -18.3037, -18.2537, -18.2037, -18.1537, -18.1037, -18.0537,\n",
       "        -18.0037, -17.9537, -17.9037, -17.8537, -17.8037, -17.7537, -17.7037,\n",
       "        -17.6537, -17.6037, -17.5537, -17.5037, -17.4537, -17.4037, -17.3537,\n",
       "        -17.3037, -17.2537, -17.2037, -17.1537, -17.1037, -17.0537, -17.0037,\n",
       "        -16.9537, -16.9037, -16.8537, -16.8037, -16.7537, -16.7037, -16.6537,\n",
       "        -16.6037, -16.5537, -16.5037, -16.4537, -16.4037, -16.3537, -16.3037,\n",
       "        -16.2537, -16.2037, -16.1537, -16.1037, -16.0537, -16.0037, -15.9537,\n",
       "        -15.9037, -15.8537, -15.8037, -15.7537, -15.7037, -15.6537, -15.6037,\n",
       "        -15.5537, -15.5037, -15.4537, -15.4037, -15.3537, -15.3037, -15.2537,\n",
       "        -15.2037, -15.1537, -15.1037, -15.0537, -15.0037, -14.9537, -14.9037,\n",
       "        -14.8537, -14.8037, -14.7537, -14.7037, -14.6537, -14.6037, -14.5537,\n",
       "        -14.5037, -14.4537, -14.4037, -14.3537, -14.3037, -14.2537, -14.2037,\n",
       "        -14.1537, -14.1037, -14.0537, -14.0037, -13.9537, -13.9037, -13.8537,\n",
       "        -13.8037, -13.7537, -13.7037, -13.6537, -13.6037, -13.5537, -13.5037,\n",
       "        -13.4537, -13.4037, -13.3537, -13.3037, -13.2537, -13.2037, -13.1537,\n",
       "        -13.1037, -13.0537, -13.0037, -12.9537, -12.9037, -12.8537, -12.8037,\n",
       "        -12.7537, -12.7037, -12.6537, -12.6037, -12.5537, -12.5037, -12.4537,\n",
       "        -12.4037, -12.3537, -12.3037, -12.2537, -12.2037, -12.1537, -12.1037,\n",
       "        -12.0537, -12.0037, -11.9537, -11.9037, -11.8537, -11.8037, -11.7537,\n",
       "        -11.7037, -11.6537, -11.6037, -11.5537, -11.5037, -11.4537, -11.4037,\n",
       "        -11.3537, -11.3037, -11.2537, -11.2037, -11.1537, -11.1037, -11.0537,\n",
       "        -11.0037, -10.9537, -10.9037, -10.8537, -10.8037, -10.7537, -10.7037,\n",
       "        -10.6537, -10.6037, -10.5537, -10.5037, -10.4537, -10.4037, -10.3537,\n",
       "        -10.3037, -10.2537, -10.2037, -10.1537, -10.1037, -10.0537, -10.0037,\n",
       "         -9.9537,  -9.9037,  -9.8537,  -9.8037,  -9.7537,  -9.7037,  -9.6537,\n",
       "         -9.6037,  -9.5537,  -9.5037,  -9.4537,  -9.4037,  -9.3537,  -9.3037,\n",
       "         -9.2537,  -9.2037,  -9.1537,  -9.1037,  -9.0537,  -9.0037,  -8.9537,\n",
       "         -8.9037,  -8.8537,  -8.8037,  -8.7537,  -8.7037,  -8.6537,  -8.6037,\n",
       "         -8.5537,  -8.5037,  -8.4537,  -8.4037,  -8.3537,  -8.3037,  -8.2537,\n",
       "         -8.2037,  -8.1537,  -8.1037,  -8.0537,  -8.0037,  -7.9537,  -7.9037,\n",
       "         -7.8537,  -7.8037,  -7.7537,  -7.7037,  -7.6537,  -7.6037,  -7.5537,\n",
       "         -7.5037,  -7.4537,  -7.4037,  -7.3537,  -7.3037,  -7.2537,  -7.2037,\n",
       "         -7.1537,  -7.1037,  -7.0537,  -7.0037,  -6.9537,  -6.9037,  -6.8537,\n",
       "         -6.8037,  -6.7537,  -6.7037,  -6.6537,  -6.6037,  -6.5537,  -6.5037,\n",
       "         -6.4537,  -6.4037,  -6.3537,  -6.3037,  -6.2537,  -6.2037,  -6.1537,\n",
       "         -6.1037,  -6.0537,  -6.0037,  -5.9537,  -5.9037,  -5.8537,  -5.8037,\n",
       "         -5.7537,  -5.7037,  -5.6537,  -5.6037,  -5.5537,  -5.5037,  -5.4537,\n",
       "         -5.4037,  -5.3537,  -5.3037,  -5.2537,  -5.2037,  -5.1537,  -5.1037,\n",
       "         -5.0537,  -5.0037,  -4.9537,  -4.9037,  -4.8537,  -4.8037,  -4.7537,\n",
       "         -4.7037,  -4.6537,  -4.6037,  -4.5537,  -4.5037,  -4.4537,  -4.4037,\n",
       "         -4.3537,  -4.3037,  -4.2537,  -4.2037,  -4.1537,  -4.1037,  -4.0537,\n",
       "         -4.0037,  -3.9537,  -3.9037,  -3.8537,  -3.8037,  -3.7537,  -3.7037,\n",
       "         -3.6537,  -3.6037,  -3.5537,  -3.5037,  -3.4537,  -3.4037,  -3.3537,\n",
       "         -3.3037,  -3.2537,  -3.2037,  -3.1537,  -3.1037,  -3.0537,  -3.0037,\n",
       "         -2.9537,  -2.9037,  -2.8537,  -2.8037,  -2.7537,  -2.7037,  -2.6537,\n",
       "         -2.6037,  -2.5537,  -2.5037,  -2.4537,  -2.4037])"
      ]
     },
     "execution_count": 362,
     "metadata": {},
     "output_type": "execute_result"
    }
   ],
   "source": [
    "pred_xdos"
   ]
  },
  {
   "cell_type": "markdown",
   "id": "6f27e076",
   "metadata": {},
   "source": [
    "## Test Loss function"
   ]
  },
  {
   "cell_type": "code",
   "execution_count": 363,
   "id": "e8543d83",
   "metadata": {
    "ExecuteTime": {
     "end_time": "2023-04-19T09:18:36.934045Z",
     "start_time": "2023-04-19T09:18:36.923369Z"
    }
   },
   "outputs": [],
   "source": [
    "from scipy.signal import convolve, correlate, correlation_lags\n",
    "\n",
    "def find_optimal_discrete_shift(y1, y2):\n",
    "    if len(y2.shape) == len(y1.shape) and len(y1.shape) == 2:\n",
    "        shift = []\n",
    "        for i in range(y2.shape[0]):\n",
    "            corr = correlate(y2[i], y1[i], mode='valid')\n",
    "            shift_i = np.argmax(corr) - 67 #Needs calibration  \n",
    "            shift.append(shift_i)\n",
    "        \n",
    "        \n",
    "    elif len(y2.shape) == len(y1.shape) and len(y1.shape) == 1:\n",
    "        corr = correlate(y2, y1, mode='valid')\n",
    "        shift = np.argmax(corr) - 67\n",
    "    else:\n",
    "        print (\"input shapes are not the same\")\n",
    "        raise Exception\n",
    "    return shift"
   ]
  },
  {
   "cell_type": "code",
   "execution_count": 539,
   "id": "e132b89d",
   "metadata": {
    "ExecuteTime": {
     "end_time": "2023-04-19T09:51:50.844346Z",
     "start_time": "2023-04-19T09:51:50.830220Z"
    }
   },
   "outputs": [],
   "source": [
    "from dostools.loss import loss\n",
    "def MSE_shift_spline(y_pred, critical_xdos, target_splines, spline_positions, n_epochs):\n",
    "    original_target = manual_call2(target_splines, spline_positions, search_xdos + torch.zeros(y_pred.shape[0]).view(-1,1))\n",
    "    init_shift = torch.tensor(find_optimal_discrete_shift(y_pred.detach(), original_target.detach()))*(critical_xdos[0] - critical_xdos[1])\n",
    "\n",
    "    shifts = torch.nn.parameter.Parameter(init_shift)\n",
    "    return shifts, 1\n",
    "    \n",
    "    opt_LBFGS = torch.optim.LBFGS([shifts], lr = 0.1, line_search_fn = 'strong_wolfe', tolerance_grad = 1e-15, tolerance_change = 1e-15)#, weight_decay = 0)\n",
    "    opt_adam = torch.optim.Adam([shifts], lr = 1e-2, weight_decay = 0)\n",
    "    scheduler = torch.optim.lr_scheduler.ReduceLROnPlateau(opt_adam, factor = 0.1, patience = 20, threshold = 1e-7, min_lr = 1e-7)\n",
    "   \n",
    "    for i in tqdm(range(n_epochs)):\n",
    "        def closure():\n",
    "            opt_adam.zero_grad()\n",
    "            shifted_target = manual_call2(target_splines, spline_positions, critical_xdos + torch.clamp(shifts, -3 , 3.5).view(-1,1))\n",
    "#             shifted_ldos = evaluate_dos_from_fourier(shifted_preds, emin, emax, num_eval=778)\n",
    "            #loss_i = torch.mean((y_pred - shifted_target)**2)\n",
    "#             loss_i = loss.t_get_mse(y_pred, shifted_target)\n",
    "            if i < 100:\n",
    "                loss_i = -1 * torch.mean(y_pred * shifted_target)\n",
    "            else:\n",
    "                loss_i = loss.t_get_mse(y_pred, shifted_target)\n",
    "#             loss_i += loss.t_get_mse(shifted_target[:,cutoff_index], target[:,cutoff_index])\n",
    "            loss_i.backward(gradient = torch.tensor(1), inputs = shifts)\n",
    "#             print (loss_i.item(), shifts.grad.item(), shifts.item())\n",
    "            return (loss_i)\n",
    "\n",
    "        mse = opt_adam.step(closure)\n",
    "        \n",
    "    return mse, shifts"
   ]
  },
  {
   "cell_type": "code",
   "execution_count": 540,
   "id": "f14eaa60",
   "metadata": {
    "ExecuteTime": {
     "end_time": "2023-04-19T09:51:52.610673Z",
     "start_time": "2023-04-19T09:51:52.478934Z"
    },
    "scrolled": true
   },
   "outputs": [],
   "source": [
    "batch_size = 1039\n",
    "index = 0\n",
    "# true_alignments = (torch.rand(batch_size)-0.5) * 2 #torch.tensor([0.9])\n",
    "\n",
    "true_alignments = torch.zeros(1039) + 1\n",
    "shift_target = manual_call2(Total_splines[index:index+batch_size], xaxis, pred_xdos + true_alignments.view(-1,1))\n",
    "error, align = MSE_shift_spline(shift_target, pred_xdos, Total_splines[index:index+batch_size], xaxis, 500)\n",
    "# print (torch.where(abs(true_alignments + align)>1e-3))"
   ]
  },
  {
   "cell_type": "code",
   "execution_count": 390,
   "id": "a0525179",
   "metadata": {
    "ExecuteTime": {
     "end_time": "2023-04-19T09:23:47.659865Z",
     "start_time": "2023-04-19T09:23:47.652479Z"
    }
   },
   "outputs": [
    {
     "data": {
      "text/plain": [
       "tensor(-0.7026, grad_fn=<SelectBackward0>)"
      ]
     },
     "execution_count": 390,
     "metadata": {},
     "output_type": "execute_result"
    }
   ],
   "source": [
    "align[340]"
   ]
  },
  {
   "cell_type": "code",
   "execution_count": 391,
   "id": "7a2bd489",
   "metadata": {
    "ExecuteTime": {
     "end_time": "2023-04-19T09:23:48.060155Z",
     "start_time": "2023-04-19T09:23:48.053173Z"
    }
   },
   "outputs": [
    {
     "data": {
      "text/plain": [
       "tensor(-1.5577, grad_fn=<SelectBackward0>)"
      ]
     },
     "execution_count": 391,
     "metadata": {},
     "output_type": "execute_result"
    }
   ],
   "source": [
    "align[81]"
   ]
  },
  {
   "cell_type": "code",
   "execution_count": 331,
   "id": "c8de3009",
   "metadata": {
    "ExecuteTime": {
     "end_time": "2023-04-19T09:12:52.025815Z",
     "start_time": "2023-04-19T09:12:52.008588Z"
    }
   },
   "outputs": [
    {
     "data": {
      "text/plain": [
       "(tensor([ 324,  325,  326,  327,  328,  329,  330,  331,  332,  333,  334,  335,\n",
       "          336,  337,  338,  339,  340,  341,  342,  343,  344,  345,  346,  347,\n",
       "          348,  349,  350,  351,  352,  353,  354,  355,  356,  357,  358,  359,\n",
       "          360,  361,  362,  363,  364,  365,  366,  367,  368,  369,  370,  371,\n",
       "          372,  373,  374,  375,  376,  377,  378,  379,  380,  381,  382,  383,\n",
       "          384,  385,  386,  387,  388,  389,  390,  391,  392,  393,  394,  395,\n",
       "          396,  397,  398,  399,  400,  401,  402,  403,  404,  405,  406,  407,\n",
       "          408,  409,  410,  411,  412,  413,  414,  415,  416,  417,  418,  419,\n",
       "          420,  421,  422,  423,  424,  425,  426,  427,  428,  429,  430,  431,\n",
       "          432,  433,  434,  435,  436,  437,  438,  439,  440,  441,  442,  443,\n",
       "          444,  445,  446,  447,  448,  449,  450,  451,  452,  453,  454,  455,\n",
       "          456,  457,  458,  459,  460,  461,  462,  463,  464,  465,  466,  467,\n",
       "          468,  469,  470,  471,  472,  473,  474,  475,  476,  477,  478,  479,\n",
       "          480,  481,  482,  483,  484,  485,  486,  487,  488,  489,  490,  491,\n",
       "          492,  493,  494,  495,  496,  497,  498,  499,  500,  501,  502,  503,\n",
       "          504,  505,  506,  507,  508,  509,  510,  511,  512,  513,  514,  515,\n",
       "          516,  517,  518,  519,  520,  521,  522,  523,  524,  525,  526,  527,\n",
       "          528,  529,  530,  531,  532,  533,  534,  535,  536,  537,  538,  539,\n",
       "          540,  541,  542,  543,  544,  545,  546,  547,  548,  549,  550,  551,\n",
       "          552,  553,  554,  555,  556,  557,  558,  559,  560,  561,  562,  563,\n",
       "          564,  565,  566,  567,  568,  569,  570,  571,  572,  573,  574,  575,\n",
       "          576,  577,  578,  579,  580,  581,  582,  583,  584,  585,  586,  587,\n",
       "          588,  589,  590,  591,  592,  593,  594,  595,  596,  597,  598,  599,\n",
       "          600,  601,  602,  603,  604,  605,  606,  607,  608,  609,  610,  611,\n",
       "          612,  613,  614,  615,  616,  617,  618,  619,  620,  621,  622,  623,\n",
       "          624,  625,  626,  627,  628,  629,  630,  631,  642,  643,  644,  645,\n",
       "          646,  647,  648,  649,  650,  651,  657,  658,  659,  660,  661,  662,\n",
       "          663,  664,  665,  666,  667,  668,  669,  670,  671,  672,  673,  674,\n",
       "          675,  676,  677,  678,  680,  682,  683,  684,  685,  686,  687,  688,\n",
       "          689,  690,  691,  692,  693,  694,  695,  696,  697,  698,  699,  700,\n",
       "          701,  702,  703,  704,  705,  706,  707,  708,  709,  710,  711,  712,\n",
       "          713,  714,  715,  716,  717,  718,  719,  720,  722,  791,  797,  799,\n",
       "          803,  814,  819,  830,  831,  832,  834,  842,  844,  845,  846,  854,\n",
       "          855,  856,  864,  866,  868,  869,  872,  877,  879,  886,  899,  902,\n",
       "          907,  908,  909,  914,  915,  916,  917,  919,  920,  922,  923,  925,\n",
       "          927,  928,  929,  931,  934,  935,  936,  937,  938,  940,  943,  944,\n",
       "          945,  946,  950,  954,  955,  957,  961,  962,  964,  965,  968,  969,\n",
       "          973,  976,  979,  980,  981,  984,  986,  987,  988,  989,  993,  994,\n",
       "          996,  997,  998, 1000, 1001, 1002, 1006, 1007, 1010, 1011, 1012, 1013,\n",
       "         1015, 1018, 1020, 1021, 1024, 1025, 1026, 1028, 1032, 1033, 1038]),)"
      ]
     },
     "execution_count": 331,
     "metadata": {},
     "output_type": "execute_result"
    }
   ],
   "source": [
    "torch.where(abs(align - true_alignments) > 0.1)"
   ]
  },
  {
   "cell_type": "code",
   "execution_count": 161,
   "id": "ae8d2cd7",
   "metadata": {
    "ExecuteTime": {
     "end_time": "2023-04-18T22:35:57.705218Z",
     "start_time": "2023-04-18T22:35:57.698586Z"
    }
   },
   "outputs": [
    {
     "data": {
      "text/plain": [
       "(tensor([346, 373, 620, 622, 625, 626, 627, 629, 631, 648, 649, 651, 658, 660,\n",
       "         663, 664]),)"
      ]
     },
     "execution_count": 161,
     "metadata": {},
     "output_type": "execute_result"
    }
   ],
   "source": [
    "torch.where(abs(true_alignments - align) > 1e-1)"
   ]
  },
  {
   "cell_type": "code",
   "execution_count": 159,
   "id": "82881589",
   "metadata": {
    "ExecuteTime": {
     "end_time": "2023-04-18T22:35:41.465246Z",
     "start_time": "2023-04-18T22:35:41.459763Z"
    }
   },
   "outputs": [
    {
     "data": {
      "text/plain": [
       "(tensor([623, 626, 628, 629, 631, 646, 664, 666]),)"
      ]
     },
     "execution_count": 159,
     "metadata": {},
     "output_type": "execute_result"
    }
   ],
   "source": [
    "torch.where(abs(true_alignments - align) > 1e-1)"
   ]
  },
  {
   "cell_type": "code",
   "execution_count": 155,
   "id": "a2586c9c",
   "metadata": {
    "ExecuteTime": {
     "end_time": "2023-04-18T22:35:14.385283Z",
     "start_time": "2023-04-18T22:35:14.378314Z"
    }
   },
   "outputs": [
    {
     "data": {
      "text/plain": [
       "tensor(0.1852, grad_fn=<SelectBackward0>)"
      ]
     },
     "execution_count": 155,
     "metadata": {},
     "output_type": "execute_result"
    }
   ],
   "source": [
    "abs(true_alignments - align)[629]"
   ]
  },
  {
   "cell_type": "code",
   "execution_count": 105,
   "id": "85d9a7be",
   "metadata": {
    "ExecuteTime": {
     "end_time": "2023-04-18T22:23:37.761596Z",
     "start_time": "2023-04-18T22:23:37.515032Z"
    }
   },
   "outputs": [
    {
     "data": {
      "text/plain": [
       "[<matplotlib.lines.Line2D at 0x7fe1601b3190>]"
      ]
     },
     "execution_count": 105,
     "metadata": {},
     "output_type": "execute_result"
    },
    {
     "data": {
      "image/png": "[encoded data removed]",
      "text/plain": [
       "<Figure size 432x288 with 1 Axes>"
      ]
     },
     "metadata": {
      "needs_background": "light"
     },
     "output_type": "display_data"
    }
   ],
   "source": [
    "plt.plot(pred_xdos, shift_target[-1], c= 'g')\n",
    "plt.plot(pred_xdos, original_target[-1], c= 'b')"
   ]
  },
  {
   "cell_type": "code",
   "execution_count": 392,
   "id": "81ec5440",
   "metadata": {
    "ExecuteTime": {
     "end_time": "2023-04-19T09:24:08.692992Z",
     "start_time": "2023-04-19T09:24:08.686172Z"
    }
   },
   "outputs": [
    {
     "name": "stdout",
     "output_type": "stream",
     "text": [
      "torch.Size([604])\n"
     ]
    }
   ],
   "source": [
    "\n",
    "emin = -24.553719539983\n",
    "max_efermi = -4.3758\n",
    "search_xdos = torch.arange(emin-4.5, torch.max(efermi) + 5.5, 0.05)\n",
    "print (search_xdos.shape)"
   ]
  },
  {
   "cell_type": "code",
   "execution_count": 486,
   "id": "277e83fc",
   "metadata": {
    "ExecuteTime": {
     "end_time": "2023-04-19T09:39:25.426134Z",
     "start_time": "2023-04-19T09:39:25.418919Z"
    }
   },
   "outputs": [
    {
     "name": "stdout",
     "output_type": "stream",
     "text": [
      "torch.Size([474])\n"
     ]
    }
   ],
   "source": [
    "#Prediction will be done from lowest lbound to highest rbound\n",
    "emin = -24.553719539983\n",
    "max_efermi = -4.3758\n",
    "pred_xdos = torch.arange(emin-1.5, torch.max(efermi) + 2, 0.05)\n",
    "print (pred_xdos.shape)"
   ]
  },
  {
   "cell_type": "code",
   "execution_count": 460,
   "id": "899d005f",
   "metadata": {
    "ExecuteTime": {
     "end_time": "2023-04-19T09:35:55.717767Z",
     "start_time": "2023-04-19T09:35:55.613313Z"
    }
   },
   "outputs": [
    {
     "data": {
      "text/plain": [
       "[<matplotlib.lines.Line2D at 0x7fe1285be970>]"
      ]
     },
     "execution_count": 460,
     "metadata": {},
     "output_type": "execute_result"
    },
    {
     "data": {
      "image/png": "[encoded data removed]",
      "text/plain": [
       "<Figure size 432x288 with 1 Axes>"
      ]
     },
     "metadata": {
      "needs_background": "light"
     },
     "output_type": "display_data"
    }
   ],
   "source": [
    "plt.plot(shift_target[0])\n",
    "plt.plot(original_fulltarget[0])"
   ]
  },
  {
   "cell_type": "code",
   "execution_count": 534,
   "id": "c4cb7624",
   "metadata": {
    "ExecuteTime": {
     "end_time": "2023-04-19T09:50:33.492265Z",
     "start_time": "2023-04-19T09:50:33.458050Z"
    }
   },
   "outputs": [],
   "source": [
    "i = 0\n",
    "\n",
    "from scipy.signal import convolve, correlate, correlation_lags\n",
    "original_fulltarget = manual_call2(Total_splines[index:index+batch_size], xaxis, search_xdos + torch.zeros(1039).view(-1,1))\n",
    "shift_target = manual_call2(Total_splines[index:index+batch_size], xaxis, pred_xdos + (torch.zeros(1039)+0.).view(-1,1))\n",
    "\n",
    "\n",
    "def find_optimal_discrete_shift(y1, y2):\n",
    "    if len(y2.shape) == len(y1.shape) and len(y1.shape) == 2:\n",
    "        shift = []\n",
    "        for i in range(y2.shape[0]):\n",
    "            corr = correlate(y2[i], y1[i], mode='valid')\n",
    "            shift_i = np.argmax(corr) - 67 #Needs calibration  \n",
    "            shift.append(shift_i)\n",
    "        \n",
    "        \n",
    "    elif len(y2.shape) == len(y1.shape) and len(y1.shape) == 1:\n",
    "        corr = correlate(y2, y1, mode='valid')\n",
    "        shift = np.argmax(corr) - 67\n",
    "    else:\n",
    "        print (\"input shapes are not the same\")\n",
    "        raise Exception\n",
    "    return shift\n",
    "\n",
    "\n",
    "opt_shift = find_optimal_discrete_shift(shift_target[i].detach(), original_fulltarget[i].detach())"
   ]
  },
  {
   "cell_type": "code",
   "execution_count": 535,
   "id": "6b1d276f",
   "metadata": {
    "ExecuteTime": {
     "end_time": "2023-04-19T09:50:33.718820Z",
     "start_time": "2023-04-19T09:50:33.713738Z"
    }
   },
   "outputs": [
    {
     "data": {
      "text/plain": [
       "2"
      ]
     },
     "execution_count": 535,
     "metadata": {},
     "output_type": "execute_result"
    }
   ],
   "source": [
    "opt_shift"
   ]
  },
  {
   "cell_type": "code",
   "execution_count": 525,
   "id": "3e8a9d17",
   "metadata": {
    "ExecuteTime": {
     "end_time": "2023-04-19T09:45:53.451888Z",
     "start_time": "2023-04-19T09:45:53.449637Z"
    }
   },
   "outputs": [],
   "source": [
    "#gives 15 for some reason"
   ]
  },
  {
   "cell_type": "code",
   "execution_count": 526,
   "id": "e8109c7e",
   "metadata": {
    "ExecuteTime": {
     "end_time": "2023-04-19T09:45:53.709198Z",
     "start_time": "2023-04-19T09:45:53.703116Z"
    }
   },
   "outputs": [
    {
     "data": {
      "text/plain": [
       "(131,)"
      ]
     },
     "execution_count": 526,
     "metadata": {},
     "output_type": "execute_result"
    }
   ],
   "source": [
    "opt_shift.shape"
   ]
  },
  {
   "cell_type": "code",
   "execution_count": 527,
   "id": "2d517598",
   "metadata": {
    "ExecuteTime": {
     "end_time": "2023-04-19T09:45:54.326691Z",
     "start_time": "2023-04-19T09:45:54.319980Z"
    }
   },
   "outputs": [
    {
     "data": {
      "text/plain": [
       "84"
      ]
     },
     "execution_count": 527,
     "metadata": {},
     "output_type": "execute_result"
    }
   ],
   "source": [
    "np.argmax(opt_shift)"
   ]
  },
  {
   "cell_type": "code",
   "execution_count": 528,
   "id": "a636e383",
   "metadata": {
    "ExecuteTime": {
     "end_time": "2023-04-19T09:45:55.104616Z",
     "start_time": "2023-04-19T09:45:55.098234Z"
    }
   },
   "outputs": [
    {
     "data": {
      "text/plain": [
       "474"
      ]
     },
     "execution_count": 528,
     "metadata": {},
     "output_type": "execute_result"
    }
   ],
   "source": [
    "len(shift_target[i])"
   ]
  },
  {
   "cell_type": "code",
   "execution_count": 508,
   "id": "f56466c9",
   "metadata": {
    "ExecuteTime": {
     "end_time": "2023-04-19T09:44:21.558650Z",
     "start_time": "2023-04-19T09:44:21.552129Z"
    }
   },
   "outputs": [
    {
     "data": {
      "text/plain": [
       "604"
      ]
     },
     "execution_count": 508,
     "metadata": {},
     "output_type": "execute_result"
    }
   ],
   "source": [
    "len(original_fulltarget[i])"
   ]
  },
  {
   "cell_type": "code",
   "execution_count": 182,
   "id": "bea8c889",
   "metadata": {
    "ExecuteTime": {
     "end_time": "2023-04-19T08:41:47.084025Z",
     "start_time": "2023-04-19T08:41:46.987737Z"
    }
   },
   "outputs": [
    {
     "data": {
      "text/plain": [
       "[<matplotlib.lines.Line2D at 0x7fe128f0cf70>]"
      ]
     },
     "execution_count": 182,
     "metadata": {},
     "output_type": "execute_result"
    },
    {
     "data": {
      "image/png": "[encoded data removed]",
      "text/plain": [
       "<Figure size 432x288 with 1 Axes>"
      ]
     },
     "metadata": {
      "needs_background": "light"
     },
     "output_type": "display_data"
    }
   ],
   "source": []
  },
  {
   "cell_type": "code",
   "execution_count": 98,
   "id": "193c4462",
   "metadata": {
    "ExecuteTime": {
     "end_time": "2023-04-18T22:22:58.567808Z",
     "start_time": "2023-04-18T22:22:58.558835Z"
    }
   },
   "outputs": [
    {
     "data": {
      "text/plain": [
       "torch.Size([474])"
      ]
     },
     "execution_count": 98,
     "metadata": {},
     "output_type": "execute_result"
    }
   ],
   "source": [
    "pred_xdos.shape"
   ]
  },
  {
   "cell_type": "code",
   "execution_count": 99,
   "id": "920316b0",
   "metadata": {
    "ExecuteTime": {
     "end_time": "2023-04-18T22:22:59.104280Z",
     "start_time": "2023-04-18T22:22:59.096583Z"
    }
   },
   "outputs": [
    {
     "data": {
      "text/plain": [
       "0"
      ]
     },
     "execution_count": 99,
     "metadata": {},
     "output_type": "execute_result"
    }
   ],
   "source": [
    "np.argmax(opt_shift) - 474 + 1"
   ]
  },
  {
   "cell_type": "code",
   "execution_count": 100,
   "id": "bc4179d5",
   "metadata": {
    "ExecuteTime": {
     "end_time": "2023-04-18T22:22:59.988431Z",
     "start_time": "2023-04-18T22:22:59.727514Z"
    }
   },
   "outputs": [
    {
     "data": {
      "text/plain": [
       "[<matplotlib.lines.Line2D at 0x7fe1602e87f0>]"
      ]
     },
     "execution_count": 100,
     "metadata": {},
     "output_type": "execute_result"
    },
    {
     "data": {
      "image/png": "[encoded data removed]",
      "text/plain": [
       "<Figure size 432x288 with 1 Axes>"
      ]
     },
     "metadata": {
      "needs_background": "light"
     },
     "output_type": "display_data"
    }
   ],
   "source": [
    "plt.plot(opt_shift)"
   ]
  },
  {
   "cell_type": "code",
   "execution_count": 64,
   "id": "3b551793",
   "metadata": {
    "ExecuteTime": {
     "end_time": "2023-04-18T22:15:13.965577Z",
     "start_time": "2023-04-18T22:15:13.958026Z"
    }
   },
   "outputs": [
    {
     "data": {
      "text/plain": [
       "tensor(0.0500)"
      ]
     },
     "execution_count": 64,
     "metadata": {},
     "output_type": "execute_result"
    }
   ],
   "source": [
    "(pred_xdos[1] - pred_xdos[0])"
   ]
  },
  {
   "cell_type": "code",
   "execution_count": 65,
   "id": "810c4298",
   "metadata": {
    "ExecuteTime": {
     "end_time": "2023-04-18T22:15:18.156335Z",
     "start_time": "2023-04-18T22:15:18.138325Z"
    }
   },
   "outputs": [
    {
     "data": {
      "text/plain": [
       "tensor([1., 1., 1.,  ..., 1., 1., 1.])"
      ]
     },
     "execution_count": 65,
     "metadata": {},
     "output_type": "execute_result"
    }
   ],
   "source": [
    "true_alignments"
   ]
  },
  {
   "cell_type": "code",
   "execution_count": 27,
   "id": "8fd7ee97",
   "metadata": {
    "ExecuteTime": {
     "end_time": "2023-04-18T22:10:42.015623Z",
     "start_time": "2023-04-18T22:10:42.006491Z"
    }
   },
   "outputs": [
    {
     "data": {
      "text/plain": [
       "tensor([ 0.0000, -0.2500,  0.0000,  ...,  0.0000,  0.0000,  0.0000])"
      ]
     },
     "execution_count": 27,
     "metadata": {},
     "output_type": "execute_result"
    }
   ],
   "source": [
    "error"
   ]
  },
  {
   "cell_type": "code",
   "execution_count": 1119,
   "id": "e568cfcc",
   "metadata": {
    "ExecuteTime": {
     "end_time": "2023-04-12T14:54:54.078138Z",
     "start_time": "2023-04-12T14:54:54.029759Z"
    }
   },
   "outputs": [
    {
     "ename": "IndexError",
     "evalue": "index 24691 is out of bounds for dimension 0 with size 24678",
     "output_type": "error",
     "traceback": [
      "\u001b[0;31m---------------------------------------------------------------------------\u001b[0m",
      "\u001b[0;31mIndexError\u001b[0m                                Traceback (most recent call last)",
      "Input \u001b[0;32mIn [1119]\u001b[0m, in \u001b[0;36m<cell line: 4>\u001b[0;34m()\u001b[0m\n\u001b[1;32m      2\u001b[0m cat \u001b[38;5;241m=\u001b[39m torch\u001b[38;5;241m.\u001b[39mzeros(\u001b[38;5;241m1\u001b[39m)\n\u001b[1;32m      4\u001b[0m \u001b[38;5;28;01mwith\u001b[39;00m torch\u001b[38;5;241m.\u001b[39mno_grad():\n\u001b[0;32m----> 5\u001b[0m     aligned_target \u001b[38;5;241m=\u001b[39m \u001b[43mmanual_call2\u001b[49m\u001b[43m(\u001b[49m\u001b[43mTotal_splines\u001b[49m\u001b[43m[\u001b[49m\u001b[43mindex\u001b[49m\u001b[43m:\u001b[49m\u001b[43mindex\u001b[49m\u001b[38;5;241;43m+\u001b[39;49m\u001b[38;5;241;43m1\u001b[39;49m\u001b[43m]\u001b[49m\u001b[43m,\u001b[49m\u001b[43m \u001b[49m\u001b[43mxaxis\u001b[49m\u001b[43m,\u001b[49m\u001b[43m \u001b[49m\u001b[43mpred_xdos\u001b[49m\u001b[43m \u001b[49m\u001b[38;5;241;43m+\u001b[39;49m\u001b[43m \u001b[49m\u001b[43malign\u001b[49m\u001b[38;5;241;43m.\u001b[39;49m\u001b[43mview\u001b[49m\u001b[43m(\u001b[49m\u001b[38;5;241;43m-\u001b[39;49m\u001b[38;5;241;43m1\u001b[39;49m\u001b[43m,\u001b[49m\u001b[38;5;241;43m1\u001b[39;49m\u001b[43m)\u001b[49m\u001b[43m)\u001b[49m\n\u001b[1;32m      6\u001b[0m \u001b[38;5;66;03m#     aligned_target = manual_call2(Total_splines[index:index+1], xaxis, pred_xdos + torch.zeros(1).view(-1,1))\u001b[39;00m\n\u001b[1;32m      7\u001b[0m     plt\u001b[38;5;241m.\u001b[39mplot(pred_xdos, shift_target[\u001b[38;5;241m0\u001b[39m], c\u001b[38;5;241m=\u001b[39m \u001b[38;5;124m'\u001b[39m\u001b[38;5;124mr\u001b[39m\u001b[38;5;124m'\u001b[39m)\n",
      "Input \u001b[0;32mIn [6]\u001b[0m, in \u001b[0;36mmanual_call2\u001b[0;34m(spline_coefs, spline_positions, x)\u001b[0m\n\u001b[1;32m      8\u001b[0m indexes \u001b[38;5;241m=\u001b[39m torch\u001b[38;5;241m.\u001b[39mfloor((x \u001b[38;5;241m-\u001b[39m spline_positions[\u001b[38;5;241m0\u001b[39m])\u001b[38;5;241m/\u001b[39minterval)\u001b[38;5;241m.\u001b[39mlong()\n\u001b[1;32m      9\u001b[0m expanded_index \u001b[38;5;241m=\u001b[39m indexes\u001b[38;5;241m.\u001b[39munsqueeze(dim\u001b[38;5;241m=\u001b[39m\u001b[38;5;241m1\u001b[39m)\u001b[38;5;241m.\u001b[39mexpand(\u001b[38;5;241m-\u001b[39m\u001b[38;5;241m1\u001b[39m,\u001b[38;5;241m4\u001b[39m,\u001b[38;5;241m-\u001b[39m\u001b[38;5;241m1\u001b[39m)\n\u001b[0;32m---> 10\u001b[0m x_1 \u001b[38;5;241m=\u001b[39m x \u001b[38;5;241m-\u001b[39m \u001b[43mspline_positions\u001b[49m\u001b[43m[\u001b[49m\u001b[43mindexes\u001b[49m\u001b[43m]\u001b[49m\n\u001b[1;32m     11\u001b[0m x_2 \u001b[38;5;241m=\u001b[39m x_1 \u001b[38;5;241m*\u001b[39m x_1\n\u001b[1;32m     12\u001b[0m x_3 \u001b[38;5;241m=\u001b[39m x_2 \u001b[38;5;241m*\u001b[39m x_1\n",
      "\u001b[0;31mIndexError\u001b[0m: index 24691 is out of bounds for dimension 0 with size 24678"
     ]
    }
   ],
   "source": [
    "%matplotlib notebook\n",
    "cat = torch.zeros(1)\n",
    "\n",
    "with torch.no_grad():\n",
    "    aligned_target = manual_call2(Total_splines[index:index+1], xaxis, pred_xdos + align.view(-1,1))\n",
    "#     aligned_target = manual_call2(Total_splines[index:index+1], xaxis, pred_xdos + torch.zeros(1).view(-1,1))\n",
    "    plt.plot(pred_xdos, shift_target[0], c= 'r')\n",
    "    plt.plot(pred_xdos, aligned_target[0], c = 'b')\n",
    "    loss_i = torch.mean((shift_target - aligned_target)**2) \n",
    "    print (loss_i)"
   ]
  },
  {
   "cell_type": "markdown",
   "id": "f7d37e26",
   "metadata": {},
   "source": [
    "## Generate Features"
   ]
  },
  {
   "cell_type": "code",
   "execution_count": 1120,
   "id": "f0d94518",
   "metadata": {
    "ExecuteTime": {
     "end_time": "2023-04-12T14:55:39.373205Z",
     "start_time": "2023-04-12T14:55:00.824059Z"
    }
   },
   "outputs": [
    {
     "data": {
      "application/vnd.jupyter.widget-view+json": {
       "model_id": "4e8a2fb9ecbc4f6ca574ad6c6dca71e9",
       "version_major": 2,
       "version_minor": 0
      },
      "text/plain": [
       "  0%|          | 0/199 [00:00<?, ?it/s]"
      ]
     },
     "metadata": {},
     "output_type": "display_data"
    }
   ],
   "source": [
    "import rascaline\n",
    "from skcosmo.feature_selection import FPS\n",
    "import scipy\n",
    "\n",
    "HYPER_PARAMETERS = {\n",
    "    \"cutoff\": 4.0,#6.0,#4.0,\n",
    "    \"max_radial\": 8,#12,#8,\n",
    "    \"max_angular\": 6,#9,#6,\n",
    "    \"atomic_gaussian_width\": 0.45,\n",
    "    \"center_atom_weight\": 1.0,\n",
    "    \"radial_basis\":{\n",
    "        \"Gto\":{}\n",
    "    },\n",
    "    \"cutoff_function\":{\n",
    "        \"Step\":{}, #maybe \n",
    "    },\n",
    "    \"radial_scaling\":{\n",
    "        \"Willatt2018\":{\n",
    "        'exponent': 5,\n",
    "        'rate' : 1,\n",
    "        'scale' : 3.,\n",
    "        },\n",
    "    },\n",
    "}\n",
    "\n",
    "calculator = rascaline.SoapPowerSpectrum(**HYPER_PARAMETERS)\n",
    "descriptors = calculator.compute(structures)\n",
    "descriptors.keys_to_samples(\"species_center\")\n",
    "descriptors.keys_to_properties([\"species_neighbor_1\", \"species_neighbor_2\"])\n",
    "\n",
    "\n",
    "\n",
    "n_refs = 200\n",
    "n_atoms = descriptors.block(0).values.shape[0]\n",
    "n_structures = np.unique(descriptors.block(0).samples[\"structure\"])\n",
    "feature = torch.zeros(len(n_structures), n_refs)\n",
    "atom_descriptors = torch.tensor(descriptors.block(0).values)\n",
    "atom_descriptors = torch.nn.functional.normalize(atom_descriptors, dim = 1)\n",
    "selector = FPS(n_to_select = n_refs,\n",
    "           progress_bar = True,\n",
    "           score_threshold = 1e-12,\n",
    "           full = False,\n",
    "           initialize = 0\n",
    "          )\n",
    "selector.fit(atom_descriptors.T)\n",
    "references = selector.transform(atom_descriptors.T).T\n",
    "atomkernel_descriptors = torch.pow(atom_descriptors @ references.T, 2)\n",
    "for structure_i in n_structures:\n",
    "    a_i = descriptors.block(0).samples[\"structure\"] == structure_i\n",
    "    feature[structure_i, :] = torch.sum(atomkernel_descriptors[a_i, :], axis = 0)/np.sum(a_i)\n",
    "\n",
    "kMM = references @ references.T\n",
    "rtkMM = scipy.linalg.sqrtm(kMM)"
   ]
  },
  {
   "cell_type": "markdown",
   "id": "4d5a327e",
   "metadata": {},
   "source": [
    "## Analytical training Unbiased\n"
   ]
  },
  {
   "cell_type": "code",
   "execution_count": 1244,
   "id": "e3c26a50",
   "metadata": {
    "ExecuteTime": {
     "end_time": "2023-04-13T13:06:24.131517Z",
     "start_time": "2023-04-13T13:06:24.102521Z"
    }
   },
   "outputs": [
    {
     "data": {
      "text/plain": [
       "<module 'dostools.loss.loss' from '/home/how/dostools/src/dostools/loss/loss.py'>"
      ]
     },
     "execution_count": 1244,
     "metadata": {},
     "output_type": "execute_result"
    }
   ],
   "source": [
    "importlib.reload(loss)"
   ]
  },
  {
   "cell_type": "code",
   "execution_count": 1257,
   "id": "cd3dd7ea",
   "metadata": {
    "ExecuteTime": {
     "end_time": "2023-04-13T13:47:26.400534Z",
     "start_time": "2023-04-13T13:24:37.972918Z"
    }
   },
   "outputs": [
    {
     "name": "stdout",
     "output_type": "stream",
     "text": [
      "Reference training loss: 10.5108\n",
      "Reference test loss : 11.9648\n"
     ]
    },
    {
     "name": "stderr",
     "output_type": "stream",
     "text": [
      "Epoch: 375:   0%|▍                                                                                                          | 375/100000 [06:47<29:33:26,  1.07s/it, lowest_mse=0.00668, pred_loss=8.85, trigger=0]"
     ]
    },
    {
     "name": "stdout",
     "output_type": "stream",
     "text": [
      "The batch_size is now: 64\n"
     ]
    },
    {
     "name": "stderr",
     "output_type": "stream",
     "text": [
      "Epoch: 566:   1%|▌                                                                                                          | 566/100000 [08:50<16:53:39,  1.63it/s, lowest_mse=0.00654, pred_loss=8.68, trigger=0]"
     ]
    },
    {
     "name": "stdout",
     "output_type": "stream",
     "text": [
      "The batch_size is now: 128\n"
     ]
    },
    {
     "name": "stderr",
     "output_type": "stream",
     "text": [
      "Epoch: 821:   1%|▉                                                                                                          | 821/100000 [10:37<12:03:00,  2.29it/s, lowest_mse=0.00643, pred_loss=8.56, trigger=0]"
     ]
    },
    {
     "name": "stdout",
     "output_type": "stream",
     "text": [
      "The batch_size is now: 256\n"
     ]
    },
    {
     "name": "stderr",
     "output_type": "stream",
     "text": [
      "Epoch: 1163:   1%|█▏                                                                                                        | 1163/100000 [12:13<8:20:56,  3.29it/s, lowest_mse=0.00632, pred_loss=8.44, trigger=0]"
     ]
    },
    {
     "name": "stdout",
     "output_type": "stream",
     "text": [
      "The batch_size is now: 512\n"
     ]
    },
    {
     "name": "stderr",
     "output_type": "stream",
     "text": [
      "Epoch: 3354:   3%|███▌                                                                                                      | 3354/100000 [18:58<4:27:54,  6.01it/s, lowest_mse=0.00603, pred_loss=8.12, trigger=0]"
     ]
    },
    {
     "name": "stdout",
     "output_type": "stream",
     "text": [
      "The batch_size is now: 1024\n"
     ]
    },
    {
     "name": "stderr",
     "output_type": "stream",
     "text": [
      "Epoch: 5043:   5%|█████▍                                                                                                     | 5043/100000 [22:48<7:09:21,  3.69it/s, lowest_mse=0.00599, pred_loss=8.1, trigger=0]"
     ]
    },
    {
     "name": "stdout",
     "output_type": "stream",
     "text": [
      "The batch_size is now: 2048\n",
      "Final training loss: 8.09868\n"
     ]
    },
    {
     "name": "stderr",
     "output_type": "stream",
     "text": [
      "\n"
     ]
    }
   ],
   "source": [
    "from dostools.loss import loss\n",
    "#normal dataset\n",
    "\n",
    "batch_size = 32\n",
    "sigma = 0.3\n",
    "n_epochs = 100000\n",
    "patience = 20\n",
    "\n",
    "index = train_index\n",
    "t_index = test_index\n",
    "\n",
    "Sampler = torch.utils.data.RandomSampler(index, replacement = False)\n",
    "Batcher = torch.utils.data.BatchSampler(Sampler, batch_size, False)\n",
    "\n",
    "Features = torch.hstack([feature[index], torch.ones(len(index)).view(-1,1)])#.type(dtype = torch.complex128)\n",
    "t_Features = torch.hstack([feature[t_index], torch.ones(len(t_index)).view(-1,1)])#.type(dtype = torch.complex128)\n",
    "# Features = torch.hstack([Silicon.Features['structure_avedescriptors'][index].double(), torch.ones(len(index)).view(-1,1)])\n",
    "# t_Features = torch.hstack([Silicon.Features['structure_avedescriptors'][t_index].double(), torch.ones(len(t_index)).view(-1,1)])\n",
    "alignment = torch.nn.parameter.Parameter(torch.zeros(len(index)))\n",
    "# alignment = torch.nn.parameter.Parameter((torch.rand(len(index))-0.5) *2 ) \n",
    "\n",
    "opt = torch.optim.Adam([alignment], lr = 1e-3, weight_decay = 0)\n",
    "# opt_LBFGS = torch.optim.LBFGS([alignment], lr = 1e-3, line_search_fn = 'strong_wolfe', tolerance_grad = 1e-15, tolerance_change = 1e-15)#, weight_decay = 0)\n",
    "scheduler = torch.optim.lr_scheduler.ReduceLROnPlateau(opt, factor = 0.1, patience = 20, threshold = 1e-5, min_lr = 1e-8)\n",
    "\n",
    "xdos_i = xdos.clone()\n",
    "# cutoff = torch.max(efermi) + 3\n",
    "# cutoff_index = torch.searchsorted(xdos, cutoff)\n",
    "\n",
    "train_ldos = manual_call2(Total_splines[index], xaxis, pred_xdos + alignment.view(-1,1))\n",
    "test_ldos = manual_call2(Total_splines[t_index], xaxis, pred_xdos + torch.zeros(len(t_index)).view(-1,1))\n",
    "\n",
    "best_mse = torch.tensor(100)\n",
    "best_state = alignment.clone()\n",
    "\n",
    "n_col = Features.shape[1]\n",
    "regularization = 1\n",
    "\n",
    "reg = torch.hstack([torch.real(torch.tensor(regularization * rtkMM)), torch.zeros(rtkMM.shape[0]).view(-1,1)])\n",
    "reg = torch.vstack([reg, torch.zeros(n_col)])\n",
    "\n",
    "\n",
    "reg_features = torch.vstack([Features, reg])\n",
    "reg_target = torch.vstack([train_ldos, torch.zeros(n_col,train_ldos.shape[1])])\n",
    "reference_weights = torch.linalg.lstsq(reg_features, reg_target, driver = \"gelsd\", rcond = 1e-10).solution\n",
    "reference_pred = Features @ reference_weights\n",
    "reference_t_pred = t_Features @ reference_weights\n",
    "\n",
    "\n",
    "\n",
    "train_loss = loss.t_get_rmse(reference_pred, train_ldos, pred_xdos, perc = True)#torch.mean(abs(reference_pred- train_ldos)**2) \n",
    "test_loss = loss.t_get_rmse(reference_t_pred, test_ldos, pred_xdos, perc = True)#torch.mean(abs(reference_t_pred- test_ldos)**2) \n",
    "current_rmse = torch.tensor(100)\n",
    "pred_loss = torch.tensor(100)\n",
    "prev_loss = torch.tensor(100)\n",
    "trigger = 0\n",
    "print (\"Reference training loss: {:.6}\".format(train_loss))\n",
    "print (\"Reference test loss : {:.6}\".format(test_loss))\n",
    "\n",
    "pbar = tqdm(range(n_epochs))\n",
    "for epoch in pbar:\n",
    "    pbar.set_description(f\"Epoch: {epoch}\")\n",
    "    pbar.set_postfix(pred_loss = pred_loss.item(), lowest_mse = best_mse.item(), trigger = trigger)\n",
    "    for i_batch in Batcher:\n",
    "        def closure():\n",
    "            opt.zero_grad()\n",
    "            reg_features_i = torch.vstack([Features[i_batch], reg])\n",
    "            shifted_target = manual_call2(Total_splines[index[i_batch]], xaxis, pred_xdos + alignment[i_batch].view(-1,1))\n",
    "            shifted_reg_target = torch.vstack([shifted_target, torch.zeros(n_col,train_ldos.shape[1])])          \n",
    "            train_weights = torch.linalg.lstsq(reg_features_i, shifted_reg_target, rcond = 1e-10, driver = \"gelsd\").solution\n",
    "            shifted_train_preds = Features[i_batch] @ train_weights\n",
    "            loss_i = loss.t_get_rmse(shifted_train_preds, shifted_target, pred_xdos)#torch.mean(abs(shifted_train_preds - shifted_target)**2) \n",
    "            loss_i.backward(inputs = alignment)\n",
    "            return loss_i\n",
    "        opt.step(closure)\n",
    "        train_ldos = train_ldos.detach()\n",
    "        \n",
    "    with torch.no_grad():\n",
    "        shifted_target = manual_call2(Total_splines[index], xaxis, pred_xdos + alignment.view(-1,1))\n",
    "        shifted_reg_target = torch.vstack([shifted_target, torch.zeros(n_col,train_ldos.shape[1])])          \n",
    "        train_weights = torch.linalg.lstsq(reg_features, shifted_reg_target, rcond = 1e-10, driver = \"gelsd\").solution\n",
    "        pred_i = Features @ train_weights\n",
    "        \n",
    "\n",
    "        i_loss = loss.t_get_rmse(pred_i, shifted_target)#torch.mean(abs(pred_i - shifted_target)**2) \n",
    "        pred_loss = loss.t_get_rmse(pred_i, shifted_target, pred_xdos, perc = True)\n",
    "#         pred_loss = i_loss\n",
    "        if i_loss < prev_loss * (1 + 1e-3): \n",
    "            trigger = 0\n",
    "        else:\n",
    "            trigger +=1 \n",
    "            if trigger >= patience:\n",
    "                alignment = torch.nn.parameter.Parameter(best_state)\n",
    "                opt = torch.optim.Adam([alignment], lr = opt.param_groups[0]['lr'], weight_decay = 0)\n",
    "                counter = 0\n",
    "\n",
    "        if i_loss < best_mse:\n",
    "            best_mse = i_loss\n",
    "            best_state = alignment.clone()\n",
    "\n",
    "        prev_loss = i_loss\n",
    "\n",
    "        scheduler.step(i_loss)\n",
    "        if Batcher.batch_size > 1024:\n",
    "            break\n",
    "            \n",
    "        if opt.param_groups[0]['lr'] < 1e-3:\n",
    "            Batcher.batch_size *= 2 \n",
    "            opt.param_groups[0]['lr'] = 1e-3\n",
    "            print (\"The batch_size is now:\", Batcher.batch_size)\n",
    "\n",
    "            \n",
    "            \n",
    "\n",
    "\n",
    "shifted_target = manual_call2(Total_splines[index], xaxis, pred_xdos + best_state.view(-1,1))\n",
    "shifted_reg_target = torch.vstack([shifted_target, torch.zeros(n_col,shifted_target.shape[1])])   \n",
    "\n",
    "\n",
    "shifted_weights = torch.linalg.lstsq(reg_features, shifted_reg_target, driver = \"gelsd\").solution\n",
    "shifted_preds = Features @ shifted_weights\n",
    "shifted_t_preds = t_Features @ shifted_weights\n",
    "\n",
    "\n",
    "shifted_train_loss = loss.t_get_rmse(shifted_preds, shifted_target, pred_xdos, perc = True)#torch.mean(abs(shifted_preds - shifted_target)**2)#\n",
    "# shifted_test_loss = loss.t_get_rmse(shifted_t_preds, shifted_ldos, xdos, perc = True) Need the one with the new loss function\n",
    "\n",
    "print (\"Final training loss: {:.6}\".format(shifted_train_loss))\n"
   ]
  },
  {
   "cell_type": "code",
   "execution_count": 1147,
   "id": "b347e364",
   "metadata": {
    "ExecuteTime": {
     "end_time": "2023-04-12T17:42:03.449417Z",
     "start_time": "2023-04-12T17:42:03.444580Z"
    }
   },
   "outputs": [],
   "source": [
    "best_state1 = best_state.clone()"
   ]
  },
  {
   "cell_type": "code",
   "execution_count": 1196,
   "id": "37025838",
   "metadata": {
    "ExecuteTime": {
     "end_time": "2023-04-13T10:44:51.951017Z",
     "start_time": "2023-04-13T10:44:51.940089Z"
    }
   },
   "outputs": [],
   "source": [
    "torch.save(best_state1, \"./Splines_beststate_0\")"
   ]
  },
  {
   "cell_type": "code",
   "execution_count": 1222,
   "id": "ea756a64",
   "metadata": {
    "ExecuteTime": {
     "end_time": "2023-04-13T11:44:08.098719Z",
     "start_time": "2023-04-13T11:44:08.091044Z"
    }
   },
   "outputs": [
    {
     "data": {
      "text/plain": [
       "tensor(-0.9601)"
      ]
     },
     "execution_count": 1222,
     "metadata": {},
     "output_type": "execute_result"
    }
   ],
   "source": [
    "torch.min(best_state1)"
   ]
  },
  {
   "cell_type": "code",
   "execution_count": 1174,
   "id": "69cbb216",
   "metadata": {
    "ExecuteTime": {
     "end_time": "2023-04-13T09:46:47.440540Z",
     "start_time": "2023-04-13T09:46:45.452588Z"
    }
   },
   "outputs": [
    {
     "name": "stderr",
     "output_type": "stream",
     "text": [
      "100%|███████████████████████████████████████████████████████████████████████████████████████████████████████████████████████████████████████████████████████████████████████████| 300/300 [00:01<00:00, 158.95it/s]\n"
     ]
    }
   ],
   "source": [
    "train_error, train_align = MSE_shift_spline(shifted_preds, pred_xdos, Total_splines[index], xaxis, 300)"
   ]
  },
  {
   "cell_type": "code",
   "execution_count": 1191,
   "id": "506c6788",
   "metadata": {
    "ExecuteTime": {
     "end_time": "2023-04-13T09:56:18.022965Z",
     "start_time": "2023-04-13T09:56:17.060676Z"
    }
   },
   "outputs": [
    {
     "name": "stderr",
     "output_type": "stream",
     "text": [
      "100%|███████████████████████████████████████████████████████████████████████████████████████████████████████████████████████████████████████████████████████████████████████████| 300/300 [00:00<00:00, 324.16it/s]\n"
     ]
    }
   ],
   "source": [
    "test_error, test_align = MSE_shift_spline(shifted_t_preds, pred_xdos, Total_splines[t_index], xaxis, 300)"
   ]
  },
  {
   "cell_type": "code",
   "execution_count": 1258,
   "id": "c73ddf13",
   "metadata": {
    "ExecuteTime": {
     "end_time": "2023-04-13T15:55:31.036977Z",
     "start_time": "2023-04-13T15:55:27.809973Z"
    }
   },
   "outputs": [
    {
     "name": "stderr",
     "output_type": "stream",
     "text": [
      "100%|███████████████████████████████████████████████████████████████████████████████████████████████████████████████████████████████████████████████████████████████████████████| 300/300 [00:02<00:00, 138.27it/s]\n",
      "100%|███████████████████████████████████████████████████████████████████████████████████████████████████████████████████████████████████████████████████████████████████████████| 300/300 [00:00<00:00, 318.80it/s]"
     ]
    },
    {
     "name": "stdout",
     "output_type": "stream",
     "text": [
      "Train loss is 0.03533325635500744\n",
      "Test loss is 9.684926519953992\n"
     ]
    },
    {
     "name": "stderr",
     "output_type": "stream",
     "text": [
      "\n"
     ]
    }
   ],
   "source": [
    "train_error, train_align = MSE_shift_spline(shifted_preds, pred_xdos, Total_splines[index], xaxis, 300)\n",
    "test_error, test_align = MSE_shift_spline(shifted_t_preds, pred_xdos, Total_splines[t_index], xaxis, 300)\n",
    "with torch.no_grad():\n",
    "    original_ldos = manual_call2(Total_splines, xaxis, pred_xdos + torch.zeros(1039).view(-1,1))\n",
    "    opt_shifted_train_preds = manual_call2(Total_splines[index], xaxis, pred_xdos + train_align.view(-1,1))\n",
    "    shifted_train_loss = loss.t_get_rmse(shifted_preds, opt_shifted_train_preds, pred_xdos, perc = False)#torch.mean(abs(shifted_preds - shifted_target)**2)#\n",
    "    print (\"Train loss is {}\".format(shifted_train_loss))\n",
    "    \n",
    "    opt_shifted_test_preds = manual_call2(Total_splines[t_index], xaxis, pred_xdos + test_align.view(-1,1))\n",
    "    shifted_test_loss = loss.t_get_rmse(shifted_t_preds, opt_shifted_test_preds, pred_xdos, perc = True)#torch.mean(abs(shifted_preds - shifted_target)**2)#\n",
    "    print (\"Test loss is {}\".format(shifted_test_loss))"
   ]
  },
  {
   "cell_type": "code",
   "execution_count": 1168,
   "id": "acf88d79",
   "metadata": {
    "ExecuteTime": {
     "end_time": "2023-04-13T09:41:45.156785Z",
     "start_time": "2023-04-13T09:41:45.147737Z"
    }
   },
   "outputs": [
    {
     "data": {
      "text/plain": [
       "tensor(0.0350)"
      ]
     },
     "execution_count": 1168,
     "metadata": {},
     "output_type": "execute_result"
    }
   ],
   "source": [
    "shifted_train_loss = loss.t_get_rmse(shifted_preds, shifted_target, pred_xdos, perc = False)\n",
    "shifted_train_loss"
   ]
  },
  {
   "cell_type": "code",
   "execution_count": 1224,
   "id": "504ceebb",
   "metadata": {
    "ExecuteTime": {
     "end_time": "2023-04-13T12:10:53.947260Z",
     "start_time": "2023-04-13T12:10:53.937076Z"
    }
   },
   "outputs": [],
   "source": [
    "torch.save(test_align, \"./Splines_testalign_0\")"
   ]
  },
  {
   "cell_type": "code",
   "execution_count": 1209,
   "id": "de7bd703",
   "metadata": {
    "ExecuteTime": {
     "end_time": "2023-04-13T10:53:34.439076Z",
     "start_time": "2023-04-13T10:53:34.318995Z"
    }
   },
   "outputs": [
    {
     "data": {
      "text/plain": [
       "[<matplotlib.lines.Line2D at 0x7fe9944627f0>]"
      ]
     },
     "execution_count": 1209,
     "metadata": {},
     "output_type": "execute_result"
    },
    {
     "data": {
      "image/png": "[encoded data removed]",
      "text/plain": [
       "<Figure size 432x288 with 1 Axes>"
      ]
     },
     "metadata": {
      "needs_background": "light"
     },
     "output_type": "display_data"
    }
   ],
   "source": [
    "%matplotlib inline\n",
    "plt.plot(xdos, new_train_ldos[0])\n",
    "plt.plot(xdos[:474], opt_shifted_train_preds[0])"
   ]
  },
  {
   "cell_type": "markdown",
   "id": "f5d9ef27",
   "metadata": {},
   "source": [
    "### Evaluate the equivalent shift using normal ldos"
   ]
  },
  {
   "cell_type": "code",
   "execution_count": 1212,
   "id": "c9300e10",
   "metadata": {
    "ExecuteTime": {
     "end_time": "2023-04-13T10:55:06.995570Z",
     "start_time": "2023-04-13T10:54:05.001397Z"
    }
   },
   "outputs": [
    {
     "name": "stderr",
     "output_type": "stream",
     "text": [
      "100%|████████████████████████████████████████████████████████████████████████████████████████████████████████████████████████████████████████████████████████████████████████████| 831/831 [01:01<00:00, 13.43it/s]\n"
     ]
    }
   ],
   "source": [
    "##Generate individual xdos, ldos\n",
    "new_train_ldos = []\n",
    "\n",
    "sigma = torch.tensor(0.3)\n",
    "ndos = 778\n",
    "\n",
    "emin = -24.5537 - 1.5\n",
    "emax = 11.3464 + 1.5\n",
    "x_dos = torch.linspace(emin, emax, 778)\n",
    "for j, i in enumerate(tqdm(train_index)):\n",
    "    \n",
    "    l_dos = torch.sum(torch.exp(-0.5*((x_dos + best_state1[j] - full_eigen_energies[i].view(-1,1))/sigma)**2), dim = 0)\n",
    "    new_train_ldos.append(l_dos[:474])\n",
    "\n",
    "new_train_ldos = torch.vstack(new_train_ldos)\n",
    "new_train_ldos = ((new_train_ldos.T * normalization[train_index] ).T)* 2"
   ]
  },
  {
   "cell_type": "code",
   "execution_count": 1213,
   "id": "b8924610",
   "metadata": {
    "ExecuteTime": {
     "end_time": "2023-04-13T10:55:20.648635Z",
     "start_time": "2023-04-13T10:55:07.015395Z"
    }
   },
   "outputs": [
    {
     "name": "stderr",
     "output_type": "stream",
     "text": [
      "100%|████████████████████████████████████████████████████████████████████████████████████████████████████████████████████████████████████████████████████████████████████████████| 208/208 [00:13<00:00, 15.29it/s]\n"
     ]
    }
   ],
   "source": [
    "##Generate individual xdos, ldos\n",
    "new_test_ldos = []\n",
    "\n",
    "sigma = torch.tensor(0.3)\n",
    "ndos = 778\n",
    "\n",
    "emin = -24.5537 - 1.5\n",
    "emax = 11.3464 + 1.5\n",
    "x_dos = torch.linspace(emin, emax, 778)\n",
    "for j, i in enumerate(tqdm(test_index)):\n",
    "    \n",
    "    l_dos = torch.sum(torch.exp(-0.5*((x_dos + test_align[j]- full_eigen_energies[i].view(-1,1))/sigma)**2), dim = 0)\n",
    "    new_test_ldos.append(l_dos[:474])\n",
    "    \n",
    "new_test_ldos = torch.vstack(new_test_ldos)\n",
    "new_test_ldos = ((new_test_ldos.T * normalization[test_index] ).T)* 2"
   ]
  },
  {
   "cell_type": "code",
   "execution_count": 1204,
   "id": "0ac9bd65",
   "metadata": {
    "ExecuteTime": {
     "end_time": "2023-04-13T10:52:25.723818Z",
     "start_time": "2023-04-13T10:52:25.693294Z"
    },
    "scrolled": true
   },
   "outputs": [
    {
     "ename": "NameError",
     "evalue": "name 'shifted_train_preds' is not defined",
     "output_type": "error",
     "traceback": [
      "\u001b[0;31m---------------------------------------------------------------------------\u001b[0m",
      "\u001b[0;31mNameError\u001b[0m                                 Traceback (most recent call last)",
      "Input \u001b[0;32mIn [1204]\u001b[0m, in \u001b[0;36m<cell line: 3>\u001b[0;34m()\u001b[0m\n\u001b[1;32m      1\u001b[0m plt\u001b[38;5;241m.\u001b[39mplot(xdos, ldos[train_index[\u001b[38;5;241m1\u001b[39m]], c\u001b[38;5;241m=\u001b[39m \u001b[38;5;124m'\u001b[39m\u001b[38;5;124mb\u001b[39m\u001b[38;5;124m'\u001b[39m)\n\u001b[1;32m      2\u001b[0m plt\u001b[38;5;241m.\u001b[39mplot(x_dos, new_train_ldos[\u001b[38;5;241m1\u001b[39m], c\u001b[38;5;241m=\u001b[39m \u001b[38;5;124m'\u001b[39m\u001b[38;5;124mg\u001b[39m\u001b[38;5;124m'\u001b[39m)\n\u001b[0;32m----> 3\u001b[0m plt\u001b[38;5;241m.\u001b[39mplot(xdos, \u001b[43mshifted_train_preds\u001b[49m[\u001b[38;5;241m1\u001b[39m], c\u001b[38;5;241m=\u001b[39m \u001b[38;5;124m'\u001b[39m\u001b[38;5;124mr\u001b[39m\u001b[38;5;124m'\u001b[39m)\n",
      "\u001b[0;31mNameError\u001b[0m: name 'shifted_train_preds' is not defined"
     ]
    }
   ],
   "source": [
    "plt.plot(xdos, ldos[train_index[1]], c= 'b')\n",
    "plt.plot(x_dos, new_train_ldos[1], c= 'g')\n",
    "plt.plot(xdos, shifted_train_preds[1], c= 'r')"
   ]
  },
  {
   "cell_type": "code",
   "execution_count": null,
   "id": "8f55b9ac",
   "metadata": {
    "ExecuteTime": {
     "end_time": "2023-04-03T14:32:44.441794Z",
     "start_time": "2023-04-03T14:32:44.359048Z"
    }
   },
   "outputs": [],
   "source": [
    "%matplotlib notebook\n",
    "plt.plot(xdos, ldos[test_index[0]], c= 'b')\n",
    "plt.plot(xdos, new_test_ldos[0].detach(), c= 'g')\n",
    "plt.plot(xdos, shifted_test_preds[0], c= 'r')"
   ]
  },
  {
   "cell_type": "code",
   "execution_count": 1217,
   "id": "ffda61f9",
   "metadata": {
    "ExecuteTime": {
     "end_time": "2023-04-13T10:56:20.966889Z",
     "start_time": "2023-04-13T10:56:20.920039Z"
    }
   },
   "outputs": [
    {
     "name": "stdout",
     "output_type": "stream",
     "text": [
      "Using Spline shifts, Train_rmse:8.16759, Test_rmse 9.66818\n"
     ]
    }
   ],
   "source": [
    "# shifted_target = shift_coeffs(new_train_ldos, emin, emax, best_state1) \n",
    "# shifted_reg_target = torch.vstack([shifted_target, torch.zeros(n_col,new_train_ldos.shape[1])])   \n",
    "shifted_reg_target = torch.vstack([new_train_ldos, torch.zeros(n_col,new_train_ldos.shape[1])])\n",
    "\n",
    "shifted_weights = torch.linalg.lstsq(reg_features.double(), shifted_reg_target, driver = \"gelsd\").solution\n",
    "\n",
    "shifted_train_preds = Features.double() @ shifted_weights\n",
    "shifted_test_preds = t_Features.double() @ shifted_weights\n",
    "\n",
    "train_rmse = loss.t_get_rmse(shifted_train_preds, new_train_ldos, xdos[:474], perc = True)\n",
    "test_rmse = loss.t_get_rmse(shifted_test_preds, new_test_ldos, xdos[:474], perc = True)\n",
    "\n",
    "print (\"Using Spline shifts, Train_rmse:{:.6}, Test_rmse {:.6}\".format(train_rmse, test_rmse)) "
   ]
  },
  {
   "cell_type": "code",
   "execution_count": 1220,
   "id": "35420a25",
   "metadata": {
    "ExecuteTime": {
     "end_time": "2023-04-13T10:56:35.293673Z",
     "start_time": "2023-04-13T10:56:35.178224Z"
    }
   },
   "outputs": [
    {
     "data": {
      "text/plain": [
       "[<matplotlib.lines.Line2D at 0x7fe99433cdf0>]"
      ]
     },
     "execution_count": 1220,
     "metadata": {},
     "output_type": "execute_result"
    },
    {
     "data": {
      "image/png": "[encoded data removed]",
      "text/plain": [
       "<Figure size 432x288 with 1 Axes>"
      ]
     },
     "metadata": {
      "needs_background": "light"
     },
     "output_type": "display_data"
    }
   ],
   "source": [
    "plt.plot(xdos, ldos[train_index[0]], c= 'b')\n",
    "plt.plot(xdos[:474], new_train_ldos[0], c= 'g')"
   ]
  },
  {
   "cell_type": "code",
   "execution_count": null,
   "id": "8221161b",
   "metadata": {},
   "outputs": [],
   "source": [
    "10.5, 17.4"
   ]
  },
  {
   "cell_type": "code",
   "execution_count": 32,
   "id": "ce91bb70",
   "metadata": {
    "ExecuteTime": {
     "end_time": "2023-04-01T21:29:13.493990Z",
     "start_time": "2023-04-01T21:29:13.382702Z"
    }
   },
   "outputs": [
    {
     "data": {
      "text/plain": [
       "[<matplotlib.lines.Line2D at 0x7f41802fd370>]"
      ]
     },
     "execution_count": 32,
     "metadata": {},
     "output_type": "execute_result"
    },
    {
     "data": {
      "image/png": "[encoded data removed]",
      "text/plain": [
       "<Figure size 432x288 with 1 Axes>"
      ]
     },
     "metadata": {
      "needs_background": "light"
     },
     "output_type": "display_data"
    }
   ],
   "source": [
    "plt.plot(xdos, shifted_test_preds[0], c= 'r')\n",
    "plt.plot(xdos, new_test_ldos[0].detach(), c= 'b')"
   ]
  },
  {
   "cell_type": "code",
   "execution_count": 67,
   "id": "cc4a1f02",
   "metadata": {
    "ExecuteTime": {
     "end_time": "2023-04-04T15:20:52.256472Z",
     "start_time": "2023-04-04T15:20:52.158850Z"
    }
   },
   "outputs": [
    {
     "name": "stdout",
     "output_type": "stream",
     "text": [
      "No shifts, Train_rmse:10.9057, Test_rmse 12.4247\n"
     ]
    }
   ],
   "source": [
    "# original_target = shift_coeffs(ldos[train_index], emin, emax, best_state1) \n",
    "# original_reg_target = torch.vstack([original_target, torch.zeros(n_col,ldos.shape[1])])   \n",
    "\n",
    "\n",
    "original_reg_target = torch.vstack([ldos[train_index], torch.zeros(n_col,ldos.shape[1])])\n",
    "\n",
    "original_weights = torch.linalg.lstsq(reg_features.double(), original_reg_target, driver = \"gelsd\").solution\n",
    "\n",
    "original_train_preds = Features.double() @ original_weights\n",
    "original_test_preds = t_Features.double() @ original_weights\n",
    "\n",
    "train_rmse = loss.t_get_rmse(original_train_preds, ldos[train_index], xdos, perc = True)\n",
    "test_rmse = loss.t_get_rmse(original_test_preds, ldos[test_index], xdos, perc = True)\n",
    "\n",
    "print (\"No shifts, Train_rmse:{:.6}, Test_rmse {:.6}\".format(train_rmse, test_rmse))"
   ]
  },
  {
   "cell_type": "code",
   "execution_count": 248,
   "id": "0c0ce608",
   "metadata": {
    "ExecuteTime": {
     "end_time": "2023-04-01T21:17:16.226372Z",
     "start_time": "2023-04-01T21:17:16.120940Z"
    }
   },
   "outputs": [
    {
     "data": {
      "text/plain": [
       "[<matplotlib.lines.Line2D at 0x7feaa3fe5d30>]"
      ]
     },
     "execution_count": 248,
     "metadata": {},
     "output_type": "execute_result"
    },
    {
     "data": {
      "image/png": "[encoded data removed]",
      "text/plain": [
       "<Figure size 432x288 with 1 Axes>"
      ]
     },
     "metadata": {
      "needs_background": "light"
     },
     "output_type": "display_data"
    }
   ],
   "source": [
    "plt.plot(xdos, original_train_preds[0], c= 'r')\n",
    "plt.plot(xdos, ldos[train_index[0]], c= 'b')"
   ]
  },
  {
   "cell_type": "markdown",
   "id": "c40f32eb",
   "metadata": {},
   "source": [
    "## For Biased Index"
   ]
  },
  {
   "cell_type": "code",
   "execution_count": 1226,
   "id": "85a61f26",
   "metadata": {
    "ExecuteTime": {
     "end_time": "2023-04-13T12:48:58.648548Z",
     "start_time": "2023-04-13T12:29:52.284203Z"
    }
   },
   "outputs": [
    {
     "name": "stdout",
     "output_type": "stream",
     "text": [
      "Reference training loss: 9.68362\n",
      "Reference test loss : 16.9169\n"
     ]
    },
    {
     "name": "stderr",
     "output_type": "stream",
     "text": [
      "Epoch: 499:   0%|▌                                                                                                          | 499/100000 [08:53<29:09:30,  1.05s/it, lowest_mse=0.00624, pred_loss=7.97, trigger=0]"
     ]
    },
    {
     "name": "stdout",
     "output_type": "stream",
     "text": [
      "The batch_size is now: 64\n"
     ]
    },
    {
     "name": "stderr",
     "output_type": "stream",
     "text": [
      "Epoch: 634:   1%|▋                                                                                                          | 634/100000 [10:17<16:45:12,  1.65it/s, lowest_mse=0.00613, pred_loss=7.84, trigger=0]"
     ]
    },
    {
     "name": "stdout",
     "output_type": "stream",
     "text": [
      "The batch_size is now: 128\n"
     ]
    },
    {
     "name": "stderr",
     "output_type": "stream",
     "text": [
      "Epoch: 763:   1%|▊                                                                                                          | 763/100000 [11:07<12:23:22,  2.22it/s, lowest_mse=0.00608, pred_loss=7.79, trigger=0]"
     ]
    },
    {
     "name": "stdout",
     "output_type": "stream",
     "text": [
      "The batch_size is now: 256\n"
     ]
    },
    {
     "name": "stderr",
     "output_type": "stream",
     "text": [
      "Epoch: 1822:   2%|█▉                                                                                                         | 1822/100000 [15:44<6:24:34,  4.25it/s, lowest_mse=0.00582, pred_loss=7.5, trigger=0]"
     ]
    },
    {
     "name": "stdout",
     "output_type": "stream",
     "text": [
      "The batch_size is now: 512\n"
     ]
    },
    {
     "name": "stderr",
     "output_type": "stream",
     "text": [
      "Epoch: 2541:   3%|██▋                                                                                                       | 2541/100000 [18:00<5:37:52,  4.81it/s, lowest_mse=0.00572, pred_loss=7.41, trigger=0]"
     ]
    },
    {
     "name": "stdout",
     "output_type": "stream",
     "text": [
      "The batch_size is now: 1024\n"
     ]
    },
    {
     "name": "stderr",
     "output_type": "stream",
     "text": [
      "Epoch: 3020:   3%|███▏                                                                                                       | 3020/100000 [19:06<10:13:26,  2.63it/s, lowest_mse=0.0057, pred_loss=7.4, trigger=0]"
     ]
    },
    {
     "name": "stdout",
     "output_type": "stream",
     "text": [
      "The batch_size is now: 2048\n",
      "Final training loss: 7.39511\n"
     ]
    },
    {
     "name": "stderr",
     "output_type": "stream",
     "text": [
      "\n"
     ]
    }
   ],
   "source": [
    "from dostools.loss import loss\n",
    "#normal dataset\n",
    "\n",
    "batch_size = 32\n",
    "sigma = 0.3\n",
    "n_epochs = 100000\n",
    "patience = 20\n",
    "\n",
    "index = biased_train_index\n",
    "t_index = biased_test_index\n",
    "\n",
    "Sampler = torch.utils.data.RandomSampler(index, replacement = False)\n",
    "Batcher = torch.utils.data.BatchSampler(Sampler, batch_size, False)\n",
    "\n",
    "Features = torch.hstack([feature[index].double(), torch.ones(len(index)).view(-1,1)])#.type(dtype = torch.complex128)\n",
    "t_Features = torch.hstack([feature[t_index].double(), torch.ones(len(t_index)).view(-1,1)])#.type(dtype = torch.complex128)\n",
    "# Features = torch.hstack([Silicon.Features['structure_avedescriptors'][index].double(), torch.ones(len(index)).view(-1,1)])\n",
    "# t_Features = torch.hstack([Silicon.Features['structure_avedescriptors'][t_index].double(), torch.ones(len(t_index)).view(-1,1)])\n",
    "alignment = torch.nn.parameter.Parameter(torch.zeros(len(index)))\n",
    "# alignment = torch.nn.parameter.Parameter((torch.rand(len(index))-0.5) *2 ) \n",
    "\n",
    "opt = torch.optim.Adam([alignment], lr = 1e-3, weight_decay = 0)\n",
    "# opt_LBFGS = torch.optim.LBFGS([alignment], lr = 1e-3, line_search_fn = 'strong_wolfe', tolerance_grad = 1e-15, tolerance_change = 1e-15)#, weight_decay = 0)\n",
    "scheduler = torch.optim.lr_scheduler.ReduceLROnPlateau(opt, factor = 0.1, patience = 20, threshold = 1e-5, min_lr = 1e-8)\n",
    "\n",
    "xdos_i = xdos.clone()\n",
    "# cutoff = torch.max(efermi) + 3\n",
    "# cutoff_index = torch.searchsorted(xdos, cutoff)\n",
    "\n",
    "train_ldos = manual_call2(Total_splines[index], xaxis, pred_xdos + alignment.view(-1,1))\n",
    "test_ldos = manual_call2(Total_splines[t_index], xaxis, pred_xdos + torch.zeros(len(t_index)).view(-1,1))\n",
    "\n",
    "best_mse = torch.tensor(100)\n",
    "best_state = alignment.clone()\n",
    "\n",
    "n_col = Features.shape[1]\n",
    "regularization = 1\n",
    "\n",
    "reg = torch.hstack([torch.real(torch.tensor(regularization * rtkMM)), torch.zeros(rtkMM.shape[0]).view(-1,1)])\n",
    "reg = torch.vstack([reg, torch.zeros(n_col)])\n",
    "\n",
    "\n",
    "reg_features = torch.vstack([Features, reg])\n",
    "reg_target = torch.vstack([train_ldos, torch.zeros(n_col,train_ldos.shape[1])])\n",
    "reference_weights = torch.linalg.lstsq(reg_features, reg_target, driver = \"gelsd\", rcond = 1e-10).solution\n",
    "reference_pred = Features @ reference_weights\n",
    "reference_t_pred = t_Features @ reference_weights\n",
    "\n",
    "\n",
    "\n",
    "train_loss = loss.t_get_rmse(reference_pred, train_ldos, pred_xdos, perc = True)#torch.mean(abs(reference_pred- train_ldos)**2) \n",
    "test_loss = loss.t_get_rmse(reference_t_pred, test_ldos, pred_xdos, perc = True)#torch.mean(abs(reference_t_pred- test_ldos)**2) \n",
    "current_rmse = torch.tensor(100)\n",
    "pred_loss = torch.tensor(100)\n",
    "prev_loss = torch.tensor(100)\n",
    "trigger = 0\n",
    "print (\"Reference training loss: {:.6}\".format(train_loss))\n",
    "print (\"Reference test loss : {:.6}\".format(test_loss))\n",
    "\n",
    "pbar = tqdm(range(n_epochs))\n",
    "for epoch in pbar:\n",
    "    pbar.set_description(f\"Epoch: {epoch}\")\n",
    "    pbar.set_postfix(pred_loss = pred_loss.item(), lowest_mse = best_mse.item(), trigger = trigger)\n",
    "    for i_batch in Batcher:\n",
    "        def closure():\n",
    "            opt.zero_grad()\n",
    "            reg_features_i = torch.vstack([Features[i_batch], reg])\n",
    "            shifted_target = manual_call2(Total_splines[index[i_batch]], xaxis, pred_xdos + alignment[i_batch].view(-1,1))\n",
    "            shifted_reg_target = torch.vstack([shifted_target, torch.zeros(n_col,train_ldos.shape[1])])          \n",
    "            train_weights = torch.linalg.lstsq(reg_features_i, shifted_reg_target, rcond = 1e-10, driver = \"gelsd\").solution\n",
    "            shifted_train_preds = Features[i_batch] @ train_weights\n",
    "            loss_i = loss.t_get_mse(shifted_train_preds, shifted_target)#torch.mean(abs(shifted_train_preds - shifted_target)**2) \n",
    "            loss_i.backward(inputs = alignment)\n",
    "            return loss_i\n",
    "        opt.step(closure)\n",
    "        train_ldos = train_ldos.detach()\n",
    "        \n",
    "    with torch.no_grad():\n",
    "        shifted_target = manual_call2(Total_splines[index], xaxis, pred_xdos + alignment.view(-1,1))\n",
    "        shifted_reg_target = torch.vstack([shifted_target, torch.zeros(n_col,train_ldos.shape[1])])          \n",
    "        train_weights = torch.linalg.lstsq(reg_features, shifted_reg_target, rcond = 1e-10, driver = \"gelsd\").solution\n",
    "        pred_i = Features @ train_weights\n",
    "        \n",
    "        \n",
    "        i_loss = loss.t_get_rmse(pred_i, shifted_target)#torch.mean(abs(pred_i - shifted_target)**2) \n",
    "        pred_loss = loss.t_get_rmse(pred_i, shifted_target, pred_xdos, perc = True)\n",
    "#         pred_loss = i_loss\n",
    "        if i_loss < prev_loss * (1 + 1e-3): \n",
    "            trigger = 0\n",
    "        else:\n",
    "            trigger +=1 \n",
    "            if trigger >= patience:\n",
    "                alignment = torch.nn.parameter.Parameter(best_state)\n",
    "                opt = torch.optim.Adam([alignment], lr = opt.param_groups[0]['lr'], weight_decay = 0)\n",
    "                counter = 0\n",
    "\n",
    "        if i_loss < best_mse:\n",
    "            best_mse = i_loss\n",
    "            best_state = alignment.clone()\n",
    "\n",
    "        prev_loss = i_loss\n",
    "\n",
    "        scheduler.step(i_loss)\n",
    "        if Batcher.batch_size > 1024:\n",
    "            break\n",
    "            \n",
    "        if opt.param_groups[0]['lr'] < 1e-3:\n",
    "            Batcher.batch_size *= 2 \n",
    "            opt.param_groups[0]['lr'] = 1e-3\n",
    "            print (\"The batch_size is now:\", Batcher.batch_size)\n",
    "\n",
    "            \n",
    "            \n",
    "\n",
    "\n",
    "shifted_target = manual_call2(Total_splines[index], xaxis, pred_xdos + best_state.view(-1,1))\n",
    "shifted_reg_target = torch.vstack([shifted_target, torch.zeros(n_col,shifted_target.shape[1])])   \n",
    "\n",
    "\n",
    "shifted_weights = torch.linalg.lstsq(reg_features, shifted_reg_target, driver = \"gelsd\").solution\n",
    "shifted_preds = Features @ shifted_weights\n",
    "shifted_t_preds = t_Features @ shifted_weights\n",
    "\n",
    "\n",
    "shifted_train_loss = loss.t_get_rmse(shifted_preds, shifted_target, pred_xdos, perc = True)#torch.mean(abs(shifted_preds - shifted_target)**2)#\n",
    "# shifted_test_loss = loss.t_get_rmse(shifted_t_preds, shifted_ldos, xdos, perc = True) Need the one with the new loss function\n",
    "\n",
    "print (\"Final training loss: {:.6}\".format(shifted_train_loss))\n"
   ]
  },
  {
   "cell_type": "code",
   "execution_count": 46,
   "id": "0b4f588d",
   "metadata": {
    "ExecuteTime": {
     "end_time": "2023-04-04T09:57:34.471304Z",
     "start_time": "2023-04-04T09:57:34.466763Z"
    }
   },
   "outputs": [],
   "source": [
    "biased_best_state = best_state.clone()"
   ]
  },
  {
   "cell_type": "code",
   "execution_count": null,
   "id": "7e3e100c",
   "metadata": {},
   "outputs": [],
   "source": []
  },
  {
   "cell_type": "code",
   "execution_count": null,
   "id": "d57f9335",
   "metadata": {
    "ExecuteTime": {
     "end_time": "2023-04-13T12:10:26.682903Z",
     "start_time": "2023-04-13T12:10:26.682890Z"
    }
   },
   "outputs": [],
   "source": [
    "torch.save(biased_best_state, \"./Splines_biased_best_state_0.pt\")"
   ]
  },
  {
   "cell_type": "code",
   "execution_count": 25,
   "id": "04a32270",
   "metadata": {
    "ExecuteTime": {
     "end_time": "2023-04-04T13:58:20.930036Z",
     "start_time": "2023-04-04T13:58:20.923196Z"
    }
   },
   "outputs": [],
   "source": [
    "biased_best_state = torch.load(\"./biased_best_state2.pt\")\n",
    "\n"
   ]
  },
  {
   "cell_type": "code",
   "execution_count": 1228,
   "id": "2075436a",
   "metadata": {
    "ExecuteTime": {
     "end_time": "2023-04-13T12:53:35.442455Z",
     "start_time": "2023-04-13T12:53:32.487486Z"
    }
   },
   "outputs": [
    {
     "name": "stderr",
     "output_type": "stream",
     "text": [
      "100%|███████████████████████████████████████████████████████████████████████████████████████████████████████████████████████████████████████████████████████████████████████████| 300/300 [00:01<00:00, 155.41it/s]\n",
      "100%|███████████████████████████████████████████████████████████████████████████████████████████████████████████████████████████████████████████████████████████████████████████| 300/300 [00:00<00:00, 332.14it/s]\n"
     ]
    },
    {
     "name": "stdout",
     "output_type": "stream",
     "text": [
      "Train loss is 7.43613250071883\n",
      "Test loss is 14.42680444575426\n"
     ]
    }
   ],
   "source": [
    "train_error, train_align = MSE_shift_spline(shifted_preds, pred_xdos, Total_splines[index], xaxis, 300)\n",
    "test_error, test_align = MSE_shift_spline(shifted_t_preds, pred_xdos, Total_splines[t_index], xaxis, 300)\n",
    "with torch.no_grad():\n",
    "    original_ldos = manual_call2(Total_splines, xaxis, pred_xdos + torch.zeros(1039).view(-1,1))\n",
    "    opt_shifted_train_preds = manual_call2(Total_splines[index], xaxis, pred_xdos + train_align.view(-1,1))\n",
    "    shifted_train_loss = loss.t_get_rmse(shifted_preds, opt_shifted_train_preds, pred_xdos, perc = True)#torch.mean(abs(shifted_preds - shifted_target)**2)#\n",
    "    print (\"Train loss is {}\".format(shifted_train_loss))\n",
    "    \n",
    "    opt_shifted_test_preds = manual_call2(Total_splines[t_index], xaxis, pred_xdos + test_align.view(-1,1))\n",
    "    shifted_test_loss = loss.t_get_rmse(shifted_t_preds, opt_shifted_test_preds, pred_xdos, perc = True)#torch.mean(abs(shifted_preds - shifted_target)**2)#\n",
    "    print (\"Test loss is {}\".format(shifted_test_loss))"
   ]
  },
  {
   "cell_type": "markdown",
   "id": "4368a2e1",
   "metadata": {},
   "source": [
    "### Baseline no shift"
   ]
  },
  {
   "cell_type": "code",
   "execution_count": 26,
   "id": "6d86b890",
   "metadata": {
    "ExecuteTime": {
     "end_time": "2023-04-04T13:58:22.430316Z",
     "start_time": "2023-04-04T13:58:22.367869Z"
    }
   },
   "outputs": [
    {
     "name": "stdout",
     "output_type": "stream",
     "text": [
      "Fourier Space\n",
      "Reference training loss: 0.00153287\n",
      "Reference test loss : 0.00264829\n",
      "Real Space\n",
      "Reference training loss: 10.2953\n",
      "Reference test loss : 16.2029\n",
      "Gaussian Space\n",
      "Reference training loss: 10.4205\n",
      "Reference test loss : 16.2931\n"
     ]
    }
   ],
   "source": [
    "emin = -24.553719539983 - 1.5\n",
    "emax = 11.346414696331 + 1.5\n",
    "index= biased_train_index\n",
    "t_index = biased_test_index\n",
    "\n",
    "Features = torch.hstack([feature[index].double(), torch.ones(len(index)).view(-1,1)]).type(dtype = torch.complex128)\n",
    "t_Features = torch.hstack([feature[t_index].double(), torch.ones(len(t_index)).view(-1,1)]).type(dtype = torch.complex128)\n",
    "\n",
    "xdos_i = xdos.clone()\n",
    "\n",
    "train_ldos = coeffs[index,:].clone()\n",
    "\n",
    "\n",
    "n_col = Features.shape[1]\n",
    "regularization = 1\n",
    "\n",
    "reg = torch.hstack([torch.real(torch.tensor(regularization * rtkMM)), torch.zeros(rtkMM.shape[0]).view(-1,1)])\n",
    "reg = torch.vstack([reg, torch.zeros(n_col)])\n",
    "\n",
    "\n",
    "reg_features = torch.vstack([Features, reg])\n",
    "reg_target = torch.vstack([train_ldos, torch.zeros(n_col,train_ldos.shape[1])])\n",
    "reference_weights = torch.linalg.lstsq(reg_features, reg_target, driver = \"gelsd\", rcond = 1e-10).solution\n",
    "reference_pred = Features @ reference_weights\n",
    "reference_t_pred = t_Features @ reference_weights\n",
    "\n",
    "\n",
    "\n",
    "train_loss = torch.mean(abs(reference_pred- train_ldos)**2) \n",
    "test_loss = torch.mean(abs(reference_t_pred- coeffs[t_index])**2) \n",
    "\n",
    "\n",
    "print (\"Fourier Space\")\n",
    "print (\"Reference training loss: {:.6}\".format(train_loss))\n",
    "print (\"Reference test loss : {:.6}\".format(test_loss))\n",
    "\n",
    "train_rs = evaluate_dos_from_fourier(reference_pred, emin, emax, num_eval=778)\n",
    "test_rs = evaluate_dos_from_fourier(reference_t_pred , emin, emax, num_eval=778)\n",
    "\n",
    "\n",
    "train_rmse = loss.t_get_rmse(train_rs, f_ldos[index], xdos, perc = True)\n",
    "test_rmse = loss.t_get_rmse(test_rs, f_ldos[t_index], xdos, perc = True)\n",
    "\n",
    "print (\"Real Space\")\n",
    "print (\"Reference training loss: {:.6}\".format(train_rmse))\n",
    "print (\"Reference test loss : {:.6}\".format(test_rmse))\n",
    "\n",
    "print (\"Gaussian Space\")\n",
    "train_rmse = loss.t_get_rmse(train_rs, ldos[index], xdos, perc = True)\n",
    "test_rmse = loss.t_get_rmse(test_rs, ldos[t_index], xdos, perc = True)\n",
    "\n",
    "print (\"Reference training loss: {:.6}\".format(train_rmse))\n",
    "print (\"Reference test loss : {:.6}\".format(test_rmse))\n",
    "\n",
    "\n"
   ]
  },
  {
   "cell_type": "code",
   "execution_count": 27,
   "id": "ef883950",
   "metadata": {
    "ExecuteTime": {
     "end_time": "2023-04-04T13:58:24.036676Z",
     "start_time": "2023-04-04T13:58:23.798902Z"
    }
   },
   "outputs": [
    {
     "name": "stdout",
     "output_type": "stream",
     "text": [
      "Fourier Space: Train_loss: 0.00134436, Test_loss:0.0023673\n"
     ]
    }
   ],
   "source": [
    "shifted_target = shift_coeffs(train_ldos, emin, emax, 1 * biased_best_state)    \n",
    "shifted_reg_target = torch.vstack([shifted_target, torch.zeros(n_col,train_ldos.shape[1])])   \n",
    "\n",
    "\n",
    "shifted_weights = torch.linalg.lstsq(reg_features, shifted_reg_target, driver = \"gelsd\").solution\n",
    "shifted_preds = Features @ shifted_weights\n",
    "shifted_t_preds = t_Features @ shifted_weights\n",
    "\n",
    "shifted_train_loss = torch.mean(abs(shifted_preds - shifted_target)**2)\n",
    "shifted_test_loss = MSE_shift_fourier(shifted_t_preds, coeffs[t_index], 5)\n",
    "\n",
    "print (\"Fourier Space: Train_loss: {:.6}, Test_loss:{:.6}\".format(shifted_train_loss, shifted_test_loss[0]))\n"
   ]
  },
  {
   "cell_type": "code",
   "execution_count": 28,
   "id": "0ccbf03e",
   "metadata": {
    "ExecuteTime": {
     "end_time": "2023-04-04T13:58:25.466623Z",
     "start_time": "2023-04-04T13:58:25.221030Z"
    }
   },
   "outputs": [
    {
     "name": "stdout",
     "output_type": "stream",
     "text": [
      "Real Space: Train_loss: 9.64147, Test_loss:15.3193\n"
     ]
    }
   ],
   "source": [
    "shifted_target = shift_coeffs(train_ldos, emin, emax, biased_best_state)    \n",
    "shifted_reg_target = torch.vstack([shifted_target, torch.zeros(n_col,train_ldos.shape[1])])   \n",
    "\n",
    "\n",
    "shifted_weights = torch.linalg.lstsq(reg_features, shifted_reg_target, driver = \"gelsd\").solution\n",
    "shifted_preds = Features @ shifted_weights\n",
    "shifted_t_preds = t_Features @ shifted_weights\n",
    "\n",
    "shifted_train_loss = torch.mean(abs(shifted_preds - shifted_target)**2)\n",
    "biased_shifted_test_loss = MSE_shift_fourier(shifted_t_preds, coeffs[t_index], 5)\n",
    "\n",
    "\n",
    "zeroed_train_predictions = evaluate_dos_from_fourier(shift_coeffs(shifted_preds, emin, emax, -1 * biased_best_state) , emin, emax, num_eval=778)\n",
    "zeroed_test_predictions = evaluate_dos_from_fourier(shift_coeffs(shifted_t_preds, emin, emax, 1 * biased_shifted_test_loss[1]) , emin, emax, num_eval=778)\n",
    "\n",
    "\n",
    "\n",
    "train_rmse = loss.t_get_rmse(zeroed_train_predictions, f_ldos[biased_train_index], xdos, perc = True)\n",
    "test_rmse = loss.t_get_rmse(zeroed_test_predictions, f_ldos[biased_test_index], xdos, perc = True)\n",
    "\n",
    "print (\"Real Space: Train_loss: {:.6}, Test_loss:{:.6}\".format(train_rmse, test_rmse))"
   ]
  },
  {
   "cell_type": "code",
   "execution_count": 29,
   "id": "206700a3",
   "metadata": {
    "ExecuteTime": {
     "end_time": "2023-04-04T13:58:26.755941Z",
     "start_time": "2023-04-04T13:58:26.745770Z"
    }
   },
   "outputs": [
    {
     "name": "stdout",
     "output_type": "stream",
     "text": [
      "Real Space to gaussian: Train_loss: 9.77523, Test_loss:15.4148\n"
     ]
    }
   ],
   "source": [
    "train_rmse = loss.t_get_rmse(zeroed_train_predictions, ldos[biased_train_index], xdos, perc = True)\n",
    "test_rmse = loss.t_get_rmse(zeroed_test_predictions, ldos[biased_test_index], xdos, perc = True)\n",
    "\n",
    "print (\"Real Space to gaussian: Train_loss: {:.6}, Test_loss:{:.6}\".format(train_rmse, test_rmse))"
   ]
  },
  {
   "cell_type": "code",
   "execution_count": 30,
   "id": "4d5fae8b",
   "metadata": {
    "ExecuteTime": {
     "end_time": "2023-04-04T13:58:51.324128Z",
     "start_time": "2023-04-04T13:58:51.316380Z"
    }
   },
   "outputs": [],
   "source": [
    "biased_test_shift = biased_shifted_test_loss[1]\n",
    "torch.save(biased_test_shift, \"./biased_test_shift.pt\")"
   ]
  },
  {
   "cell_type": "markdown",
   "id": "5dfb8b99",
   "metadata": {},
   "source": [
    "### For gaussian dataset"
   ]
  },
  {
   "cell_type": "code",
   "execution_count": 52,
   "id": "1ec30f1e",
   "metadata": {
    "ExecuteTime": {
     "end_time": "2023-04-04T09:59:15.914408Z",
     "start_time": "2023-04-04T09:58:08.737755Z"
    }
   },
   "outputs": [
    {
     "name": "stderr",
     "output_type": "stream",
     "text": [
      "100%|████████████████████████████████████████████████████████████████████████████████████████████████████████████████████████████████████████████████████████████████████████████| 831/831 [01:07<00:00, 12.38it/s]\n"
     ]
    }
   ],
   "source": [
    "##Generate individual xdos, ldos\n",
    "new_biased_train_ldos = []\n",
    "\n",
    "sigma = torch.tensor(0.3)\n",
    "ndos = 778\n",
    "\n",
    "emin = -24.5537 - 1.5\n",
    "emax = 11.3464 + 1.5\n",
    "x_dos = torch.linspace(emin, emax, 778)\n",
    "for j, i in enumerate(tqdm(biased_train_index)):\n",
    "    \n",
    "    l_dos = torch.sum(torch.exp(-0.5*((x_dos + biased_best_state[j] - full_eigen_energies[i].view(-1,1))/sigma)**2), dim = 0)\n",
    "    new_biased_train_ldos.append(l_dos)\n",
    "\n",
    "new_biased_train_ldos = torch.vstack(new_biased_train_ldos)\n",
    "new_biased_train_ldos = ((new_biased_train_ldos.T * normalization[biased_train_index] ).T)* 2"
   ]
  },
  {
   "cell_type": "code",
   "execution_count": 53,
   "id": "8899aef3",
   "metadata": {
    "ExecuteTime": {
     "end_time": "2023-04-04T09:59:26.273532Z",
     "start_time": "2023-04-04T09:59:15.916801Z"
    }
   },
   "outputs": [
    {
     "name": "stderr",
     "output_type": "stream",
     "text": [
      "100%|████████████████████████████████████████████████████████████████████████████████████████████████████████████████████████████████████████████████████████████████████████████| 208/208 [00:09<00:00, 21.78it/s]\n"
     ]
    }
   ],
   "source": [
    "##Generate individual xdos, ldos\n",
    "new_biased_test_ldos = []\n",
    "\n",
    "sigma = torch.tensor(0.3)\n",
    "ndos = 778\n",
    "\n",
    "emin = -24.5537 - 1.5\n",
    "emax = 11.3464 + 1.5\n",
    "x_dos = torch.linspace(emin, emax, 778)\n",
    "for j, i in enumerate(tqdm(biased_test_index)):\n",
    "    \n",
    "    l_dos = torch.sum(torch.exp(-0.5*((x_dos - biased_shifted_test_loss[1][j]- full_eigen_energies[i].view(-1,1))/sigma)**2), dim = 0)\n",
    "    new_biased_test_ldos.append(l_dos)\n",
    "    \n",
    "new_biased_test_ldos = torch.vstack(new_biased_test_ldos)\n",
    "new_biased_test_ldos = ((new_biased_test_ldos.T * normalization[biased_test_index] ).T)* 2"
   ]
  },
  {
   "cell_type": "code",
   "execution_count": 54,
   "id": "d8e9a2da",
   "metadata": {
    "ExecuteTime": {
     "end_time": "2023-04-04T09:59:26.344867Z",
     "start_time": "2023-04-04T09:59:26.275096Z"
    }
   },
   "outputs": [
    {
     "name": "stdout",
     "output_type": "stream",
     "text": [
      "Using fourier shifts, Train_rmse:11.6673, Test_rmse 18.1646\n"
     ]
    }
   ],
   "source": [
    "# shifted_target = shift_coeffs(new_train_ldos, emin, emax, best_state1) \n",
    "# shifted_reg_target = torch.vstack([shifted_target, torch.zeros(n_col,new_train_ldos.shape[1])])   \n",
    "shifted_reg_target = torch.vstack([new_biased_train_ldos, torch.zeros(n_col,new_biased_train_ldos.shape[1])])\n",
    "\n",
    "shifted_weights = torch.linalg.lstsq(reg_features.double(), shifted_reg_target, driver = \"gelsd\", rcond = 1e-10).solution\n",
    "\n",
    "shifted_train_preds = Features.double() @ shifted_weights\n",
    "shifted_test_preds = t_Features.double() @ shifted_weights\n",
    "\n",
    "train_rmse = loss.t_get_rmse(shifted_train_preds, new_biased_train_ldos, xdos, perc = True)\n",
    "test_rmse = loss.t_get_rmse(shifted_test_preds, new_biased_test_ldos, xdos, perc = True)\n",
    "\n",
    "print (\"Using fourier shifts, Train_rmse:{:.6}, Test_rmse {:.6}\".format(train_rmse, test_rmse)) "
   ]
  },
  {
   "cell_type": "code",
   "execution_count": 55,
   "id": "123041f8",
   "metadata": {
    "ExecuteTime": {
     "end_time": "2023-04-04T09:59:26.410386Z",
     "start_time": "2023-04-04T09:59:26.347015Z"
    }
   },
   "outputs": [
    {
     "name": "stdout",
     "output_type": "stream",
     "text": [
      "No shifts, Train_rmse:10.3077, Test_rmse 16.2216\n"
     ]
    }
   ],
   "source": [
    "# original_target = shift_coeffs(ldos[train_index], emin, emax, best_state1) \n",
    "# original_reg_target = torch.vstack([original_target, torch.zeros(n_col,ldos.shape[1])])   \n",
    "\n",
    "\n",
    "original_reg_target = torch.vstack([ldos[biased_train_index], torch.zeros(n_col,ldos.shape[1])])\n",
    "\n",
    "original_weights = torch.linalg.lstsq(reg_features.double(), original_reg_target, driver = \"gelsd\").solution\n",
    "\n",
    "original_train_preds = Features.double() @ original_weights\n",
    "original_test_preds = t_Features.double() @ original_weights\n",
    "\n",
    "train_rmse = loss.t_get_rmse(original_train_preds, ldos[biased_train_index], xdos, perc = True)\n",
    "test_rmse = loss.t_get_rmse(original_test_preds, ldos[biased_test_index], xdos, perc = True)\n",
    "\n",
    "print (\"No shifts, Train_rmse:{:.6}, Test_rmse {:.6}\".format(train_rmse, test_rmse))"
   ]
  },
  {
   "cell_type": "markdown",
   "id": "eae7ea05",
   "metadata": {},
   "source": [
    "### Quartic Dataset"
   ]
  },
  {
   "cell_type": "code",
   "execution_count": 56,
   "id": "5ae9b7b4",
   "metadata": {
    "ExecuteTime": {
     "end_time": "2023-04-04T09:59:28.987613Z",
     "start_time": "2023-04-04T09:59:26.412060Z"
    }
   },
   "outputs": [
    {
     "name": "stderr",
     "output_type": "stream",
     "text": [
      "100%|███████████████████████████████████████████████████████████████████████████████████████████████████████████████████████████████████████████████████████████████████████████| 831/831 [00:02<00:00, 324.02it/s]\n"
     ]
    }
   ],
   "source": [
    "##Generate individual xdos, ldos\n",
    "with torch.no_grad():\n",
    "    biased_train_ldos2 = []\n",
    "\n",
    "    sigma = torch.tensor(0.3)\n",
    "    ndos = 778 #+ int(30/0.05)\n",
    "\n",
    "\n",
    "    emin = -24.5537 - 1.5\n",
    "    emax = 11.3464 + 1.5\n",
    "\n",
    "    x_dos2 = torch.linspace(emin, emax, 778)\n",
    "\n",
    "    for j,i in enumerate(tqdm(biased_train_index)):\n",
    "        #steps = int((rbounds[i].item()- (10 * sigma) - lbounds[i].item() - 1.5)/0.05)    \n",
    "        l_dos2 = quartic_dos(sorted_full_eigen_energies[i] + biased_best_state[j], x_dos2, sigma)#torch.sum(torch.exp(-0.5*((x_dos - full_eigen_energies[i].view(-1,1))/sigma)**2), dim = 0)\n",
    "    #     n_xdos2.append(x_dos2)\n",
    "        biased_train_ldos2.append(l_dos2)\n",
    "\n",
    "    # n_xdos2 = torch.vstack(n_xdos2)\n",
    "    biased_train_ldos2 = torch.vstack(biased_train_ldos2)\n",
    "    biased_train_ldos2 = ((biased_train_ldos2.T * normalization_quartic[biased_train_index] ).T)* 2\n",
    "\n",
    "#Do cutting here?"
   ]
  },
  {
   "cell_type": "code",
   "execution_count": 57,
   "id": "9fba2ded",
   "metadata": {
    "ExecuteTime": {
     "end_time": "2023-04-04T09:59:29.463801Z",
     "start_time": "2023-04-04T09:59:28.989172Z"
    }
   },
   "outputs": [
    {
     "name": "stderr",
     "output_type": "stream",
     "text": [
      "100%|███████████████████████████████████████████████████████████████████████████████████████████████████████████████████████████████████████████████████████████████████████████| 208/208 [00:00<00:00, 446.12it/s]\n"
     ]
    }
   ],
   "source": [
    "##Generate individual xdos, ldos\n",
    "with torch.no_grad():\n",
    "    biased_test_ldos2 = []\n",
    "\n",
    "    sigma = torch.tensor(0.3)\n",
    "    ndos = 778 #+ int(30/0.05)\n",
    "\n",
    "\n",
    "    emin = -24.5537 - 1.5\n",
    "    emax = 11.3464 + 1.5\n",
    "\n",
    "    x_dos2 = torch.linspace(emin, emax, 778)\n",
    "\n",
    "    for j,i in enumerate(tqdm(biased_test_index)):\n",
    "        #steps = int((rbounds[i].item()- (10 * sigma) - lbounds[i].item() - 1.5)/0.05)    \n",
    "        l_dos2 = quartic_dos(sorted_full_eigen_energies[i] - shifted_test_loss[1][j], x_dos2, sigma)#torch.sum(torch.exp(-0.5*((x_dos - full_eigen_energies[i].view(-1,1))/sigma)**2), dim = 0)\n",
    "    #     n_xdos2.append(x_dos2)\n",
    "        biased_test_ldos2.append(l_dos2)\n",
    "\n",
    "    # n_xdos2 = torch.vstack(n_xdos2)\n",
    "    biased_test_ldos2 = torch.vstack(biased_test_ldos2)\n",
    "    biased_test_ldos2 = ((biased_test_ldos2.T * normalization_quartic[biased_test_index] ).T)* 2\n",
    "\n",
    "#Do cutting here?"
   ]
  },
  {
   "cell_type": "code",
   "execution_count": 58,
   "id": "21c92a0d",
   "metadata": {
    "ExecuteTime": {
     "end_time": "2023-04-04T09:59:29.522934Z",
     "start_time": "2023-04-04T09:59:29.465343Z"
    }
   },
   "outputs": [
    {
     "name": "stdout",
     "output_type": "stream",
     "text": [
      "Using fourier shifts, Train_rmse:9.23298, Test_rmse 14.6728\n"
     ]
    }
   ],
   "source": [
    "# shifted_target = shift_coeffs(new_train_ldos, emin, emax, best_state1) \n",
    "# shifted_reg_target = torch.vstack([shifted_target, torch.zeros(n_col,new_train_ldos.shape[1])])   \n",
    "shifted_reg_target = torch.vstack([biased_train_ldos2, torch.zeros(n_col,biased_train_ldos2.shape[1])])\n",
    "\n",
    "shifted_weights = torch.linalg.lstsq(reg_features.double(), shifted_reg_target, driver = \"gelsd\").solution\n",
    "\n",
    "shifted_train_preds = Features.double() @ shifted_weights\n",
    "shifted_test_preds = t_Features.double() @ shifted_weights\n",
    "\n",
    "train_rmse = loss.t_get_rmse(shifted_train_preds, biased_train_ldos2, xdos, perc = True)\n",
    "test_rmse = loss.t_get_rmse(shifted_test_preds, biased_test_ldos2, xdos, perc = True)\n",
    "\n",
    "print (\"Using fourier shifts, Train_rmse:{:.6}, Test_rmse {:.6}\".format(train_rmse, test_rmse)) "
   ]
  },
  {
   "cell_type": "code",
   "execution_count": 59,
   "id": "36e0ac40",
   "metadata": {
    "ExecuteTime": {
     "end_time": "2023-04-04T09:59:29.586661Z",
     "start_time": "2023-04-04T09:59:29.524599Z"
    }
   },
   "outputs": [
    {
     "name": "stdout",
     "output_type": "stream",
     "text": [
      "No shifts, Train_rmse:9.85658, Test_rmse 15.5983\n"
     ]
    }
   ],
   "source": [
    "# original_target = shift_coeffs(ldos[train_index], emin, emax, best_state1) \n",
    "# original_reg_target = torch.vstack([original_target, torch.zeros(n_col,ldos.shape[1])])   \n",
    "\n",
    "\n",
    "original_reg_target = torch.vstack([quartic_ldos[biased_train_index], torch.zeros(n_col,ldos.shape[1])])\n",
    "\n",
    "original_weights = torch.linalg.lstsq(reg_features.double(), original_reg_target, driver = \"gelsd\").solution\n",
    "\n",
    "original_train_preds = Features.double() @ original_weights\n",
    "original_test_preds = t_Features.double() @ original_weights\n",
    "\n",
    "train_rmse = loss.t_get_rmse(original_train_preds, quartic_ldos[biased_train_index], xdos, perc = True)\n",
    "test_rmse = loss.t_get_rmse(original_test_preds, quartic_ldos[biased_test_index], xdos, perc = True)\n",
    "\n",
    "print (\"No shifts, Train_rmse:{:.6}, Test_rmse {:.6}\".format(train_rmse, test_rmse))"
   ]
  },
  {
   "cell_type": "markdown",
   "id": "707310cb",
   "metadata": {},
   "source": [
    "## Last"
   ]
  },
  {
   "cell_type": "code",
   "execution_count": null,
   "id": "4feba9c4",
   "metadata": {},
   "outputs": [],
   "source": []
  }
 ],
 "metadata": {
  "kernelspec": {
   "display_name": "Python 3 (ipykernel)",
   "language": "python",
   "name": "python3"
  },
  "language_info": {
   "codemirror_mode": {
    "name": "ipython",
    "version": 3
   },
   "file_extension": ".py",
   "mimetype": "text/x-python",
   "name": "python",
   "nbconvert_exporter": "python",
   "pygments_lexer": "ipython3",
   "version": "3.9.12"
  },
  "toc": {
   "base_numbering": 1,
   "nav_menu": {},
   "number_sections": true,
   "sideBar": true,
   "skip_h1_title": false,
   "title_cell": "Table of Contents",
   "title_sidebar": "Contents",
   "toc_cell": false,
   "toc_position": {
    "height": "calc(100% - 180px)",
    "left": "10px",
    "top": "150px",
    "width": "165px"
   },
   "toc_section_display": true,
   "toc_window_display": true
  }
 },
 "nbformat": 4,
 "nbformat_minor": 5
}
