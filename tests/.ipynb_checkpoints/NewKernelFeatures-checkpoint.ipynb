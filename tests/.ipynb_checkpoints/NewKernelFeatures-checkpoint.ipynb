{
 "cells": [
  {
   "cell_type": "code",
   "execution_count": 1,
   "id": "cfc7fe9e",
   "metadata": {
    "ExecuteTime": {
     "end_time": "2023-03-31T16:24:38.381679Z",
     "start_time": "2023-03-31T16:24:35.630116Z"
    }
   },
   "outputs": [],
   "source": [
    "import dostools\n",
    "import importlib\n",
    "import numpy as np\n",
    "import pickle\n",
    "import torch\n",
    "import sys\n",
    "import matplotlib.pyplot as plt\n",
    "import copy\n",
    "from tqdm import tqdm\n",
    "import matplotlib\n",
    "import time\n",
    "torch.set_default_dtype(torch.float64) \n"
   ]
  },
  {
   "cell_type": "code",
   "execution_count": 2,
   "id": "24c0d714",
   "metadata": {
    "ExecuteTime": {
     "end_time": "2023-03-31T16:24:40.955356Z",
     "start_time": "2023-03-31T16:24:38.383789Z"
    }
   },
   "outputs": [
    {
     "name": "stdout",
     "output_type": "stream",
     "text": [
      "ldos shape is torch.Size([1039, 778])\n",
      "mean dos shape is torch.Size([778])\n",
      "Variance covered with 10 PCs is = 0.9871211778950163\n"
     ]
    }
   ],
   "source": [
    "import dostools.datasets.data as data\n",
    "import dostools.utils.utils as utils\n",
    "\n",
    "n_structures = 1039\n",
    "np.random.seed(0)\n",
    "n_train = int(0.8 * n_structures)\n",
    "train_index = np.arange(n_structures)\n",
    "np.random.shuffle(train_index)\n",
    "test_index = train_index[n_train:]\n",
    "train_index = train_index[:n_train]\n",
    "\n",
    "with torch.no_grad():\n",
    "    structures = data.load_structures(\":\")\n",
    "    n_structures = len(structures) #total number of structures\n",
    "    for structure in structures:#implement periodicity\n",
    "        structure.wrap(eps = 1e-12) \n",
    "    n_atoms = np.zeros(n_structures, dtype = int) #stores number of atoms in each structures\n",
    "    for i in range(n_structures):\n",
    "        n_atoms[i] = len(structures[i])\n",
    "\n",
    "    #eigenergies, emin, emax = dostools.src.datasets.data.load_eigenenergies(unpack = True, n_structures = len(structures))\n",
    "    xdos = torch.tensor(data.load_xdos())\n",
    "    ldos = torch.tensor(data.load_ldos())\n",
    "    ldos *= 2\n",
    "\n",
    "    print (\"ldos shape is {}\".format(ldos.shape))\n",
    "    mean_dos_per_atom = ldos[train_index].mean(axis = 0) #only calculated for train set to prevent data leakage\n",
    "    print (\"mean dos shape is {}\".format(mean_dos_per_atom.shape))\n",
    "    \n",
    "    \n",
    "    y_pw = ldos - mean_dos_per_atom\n",
    "    y_lcdf = torch.cumsum(y_pw, dim = 1)\n",
    "    _, pc_vectors = utils.build_pc(ldos[train_index], mean_dos_per_atom[None,:], n_pc = 10)\n",
    "    y_pc = utils.build_coeffs(ldos - mean_dos_per_atom[None,:], pc_vectors)\n",
    "    Silicon = data.load_features()\n",
    "    kMM = data.load_kMM()"
   ]
  },
  {
   "cell_type": "code",
   "execution_count": 3,
   "id": "dee090a3",
   "metadata": {
    "ExecuteTime": {
     "end_time": "2023-03-31T16:24:40.971933Z",
     "start_time": "2023-03-31T16:24:40.957355Z"
    }
   },
   "outputs": [],
   "source": [
    "#Testing linalg solver\n",
    "Features = torch.rand(1000,1000)\n",
    "Target = torch.sum(Features, dim = 1)"
   ]
  },
  {
   "cell_type": "code",
   "execution_count": 8,
   "id": "2412c02d",
   "metadata": {
    "ExecuteTime": {
     "end_time": "2023-03-31T16:24:54.211662Z",
     "start_time": "2023-03-31T16:24:54.205100Z"
    }
   },
   "outputs": [],
   "source": [
    "HYPER_PARAMETERS = {\n",
    "    \"cutoff\": 4.0,#6.0,#4.0,\n",
    "    \"max_radial\": 8,#12,#8,\n",
    "    \"max_angular\": 6,#9,#6,\n",
    "    \"atomic_gaussian_width\": 0.45,\n",
    "    \"center_atom_weight\": 1.0,\n",
    "    \"radial_basis\":{\n",
    "        \"Gto\":{}\n",
    "    },\n",
    "    \"cutoff_function\":{\n",
    "        \"Step\":{}, #maybe \n",
    "    },\n",
    "    \"radial_scaling\":{\n",
    "        \"Willatt2018\":{\n",
    "        'exponent': 5,\n",
    "        'rate' : 1,\n",
    "        'scale' : 3.,\n",
    "        },\n",
    "    },\n",
    "}\n"
   ]
  },
  {
   "cell_type": "code",
   "execution_count": 27,
   "id": "678226a9",
   "metadata": {
    "ExecuteTime": {
     "end_time": "2023-03-31T16:55:53.838069Z",
     "start_time": "2023-03-31T16:52:48.216542Z"
    }
   },
   "outputs": [
    {
     "data": {
      "application/vnd.jupyter.widget-view+json": {
       "model_id": "0d8d99816b654f5eaf414e7875391489",
       "version_major": 2,
       "version_minor": 0
      },
      "text/plain": [
       "  0%|          | 0/999 [00:00<?, ?it/s]"
      ]
     },
     "metadata": {},
     "output_type": "display_data"
    }
   ],
   "source": [
    "from dostools.datasets import dataset\n",
    "importlib.reload(dataset)\n",
    "Silicon = dataset.TensorFeatures(structures, HYPERS = HYPER_PARAMETERS)"
   ]
  },
  {
   "cell_type": "code",
   "execution_count": 33,
   "id": "384b131e",
   "metadata": {
    "ExecuteTime": {
     "end_time": "2023-03-31T16:57:24.466410Z",
     "start_time": "2023-03-31T16:57:23.699985Z"
    }
   },
   "outputs": [
    {
     "data": {
      "text/plain": [
       "TensorMap with 1 blocks\n",
       "keys: ['species_center']\n",
       "             14"
      ]
     },
     "execution_count": 33,
     "metadata": {},
     "output_type": "execute_result"
    }
   ],
   "source": [
    "import rascaline\n",
    "calculator = rascaline.SoapPowerSpectrum(**HYPER_PARAMETERS)\n",
    "descriptors = calculator.compute(structures)\n",
    "descriptors.keys_to_samples(\"species_center\")\n",
    "descriptors.keys_to_properties([\"species_neighbor_1\", \"species_neighbor_2\"])"
   ]
  },
  {
   "cell_type": "code",
   "execution_count": 84,
   "id": "d61c9637",
   "metadata": {
    "ExecuteTime": {
     "end_time": "2023-03-31T20:49:06.049374Z",
     "start_time": "2023-03-31T20:48:54.727213Z"
    }
   },
   "outputs": [
    {
     "data": {
      "application/vnd.jupyter.widget-view+json": {
       "model_id": "307ed6d6d2a4447881f263494a894a05",
       "version_major": 2,
       "version_minor": 0
      },
      "text/plain": [
       "  0%|          | 0/49 [00:00<?, ?it/s]"
      ]
     },
     "metadata": {},
     "output_type": "display_data"
    }
   ],
   "source": [
    "from skcosmo.feature_selection import FPS\n",
    "\n",
    "n_refs_list = [50]\n",
    "features2 = []\n",
    "for i in n_refs_list:\n",
    "    n_refs = i\n",
    "    n_atoms = descriptors.block(0).values.shape[0]\n",
    "    n_structures = np.unique(descriptors.block(0).samples[\"structure\"])\n",
    "    feature = torch.zeros(len(n_structures), n_refs)\n",
    "    atom_descriptors = torch.tensor(descriptors.block(0).values)\n",
    "    atom_descriptors = torch.nn.functional.normalize(atom_descriptors, dim = 1)\n",
    "    selector = FPS(n_to_select = n_refs,\n",
    "               progress_bar = True,\n",
    "               score_threshold = 1e-12,\n",
    "               full = False,\n",
    "               initialize = 0\n",
    "              )\n",
    "    selector.fit(atom_descriptors.T)\n",
    "    references = selector.transform(atom_descriptors.T).T\n",
    "    atomkernel_descriptors = torch.pow(atom_descriptors @ references.T, 2)\n",
    "    for structure_i in n_structures:\n",
    "        a_i = descriptors.block(0).samples[\"structure\"] == structure_i\n",
    "        feature[structure_i, :] = torch.sum(atomkernel_descriptors[a_i, :], axis = 0)/np.sum(a_i)\n",
    "    \n",
    "    features2.append(feature)\n",
    "    "
   ]
  },
  {
   "cell_type": "code",
   "execution_count": 43,
   "id": "b5f8a215",
   "metadata": {
    "ExecuteTime": {
     "end_time": "2023-03-31T19:57:09.304925Z",
     "start_time": "2023-03-31T19:57:09.291724Z"
    }
   },
   "outputs": [
    {
     "data": {
      "text/plain": [
       "tensor([[1.0000, 0.6910, 0.8774,  ..., 0.8087, 0.8686, 0.6336],\n",
       "        [0.9954, 0.6765, 0.8903,  ..., 0.8480, 0.8828, 0.6544],\n",
       "        [0.9974, 0.6843, 0.8924,  ..., 0.8378, 0.8890, 0.6556],\n",
       "        ...,\n",
       "        [0.9579, 0.7939, 0.8952,  ..., 0.8066, 0.8550, 0.6117],\n",
       "        [0.9567, 0.7964, 0.8965,  ..., 0.8048, 0.8549, 0.6107],\n",
       "        [0.9563, 0.8012, 0.8983,  ..., 0.8070, 0.8558, 0.6106]])"
      ]
     },
     "execution_count": 43,
     "metadata": {},
     "output_type": "execute_result"
    }
   ],
   "source": [
    "features[0]"
   ]
  },
  {
   "cell_type": "code",
   "execution_count": 86,
   "id": "ecd5f6d2",
   "metadata": {
    "ExecuteTime": {
     "end_time": "2023-03-31T20:49:23.426025Z",
     "start_time": "2023-03-31T20:49:23.387909Z"
    }
   },
   "outputs": [
    {
     "name": "stdout",
     "output_type": "stream",
     "text": [
      "Regularization: 0.001\n",
      "The train error is 14.64 for n_refs = 50\n",
      "The test error is 14.4 for n_refs = 50\n"
     ]
    }
   ],
   "source": [
    "main = features2[0]\n",
    "\n",
    "Features = main[train_index]#Silicon.Features['structure_avekerneldescriptors'][train_index]\n",
    "test_features = main[test_index]#Silicon.Features['structure_avekerneldescriptors'][test_index]\n",
    "Target = ldos[train_index]\n",
    "test_target = ldos[test_index]\n",
    "m = Features.shape[1]\n",
    "regularization = 1e-3\n",
    "reg = regularization * torch.eye(m)\n",
    "reg[-1, -1] = 0\n",
    "A = torch.vstack([Features, reg])\n",
    "b = torch.vstack([Target, torch.zeros(m,Target.shape[1])])\n",
    "weights = torch.linalg.lstsq(A, b, rcond=1e-10).solution\n",
    "pred = Features @ weights \n",
    "test_pred = test_features @ weights\n",
    "\n",
    "loss_dos = loss.t_get_rmse(pred, Target, xdos, perc = True)\n",
    "test_loss_dos = loss.t_get_rmse(test_pred, test_target, xdos, perc = True)\n",
    "print (\"Regularization: {}\".format(regularization))\n",
    "print (\"The train error is {:.4} for n_refs = {}\".format(loss_dos,m))\n",
    "print (\"The test error is {:.4} for n_refs = {}\".format(test_loss_dos, m))"
   ]
  },
  {
   "cell_type": "code",
   "execution_count": null,
   "id": "96b9be5b",
   "metadata": {},
   "outputs": [],
   "source": [
    "#Lets go for 200"
   ]
  },
  {
   "cell_type": "code",
   "execution_count": null,
   "id": "2e64037d",
   "metadata": {},
   "outputs": [],
   "source": []
  },
  {
   "cell_type": "markdown",
   "id": "54022d70",
   "metadata": {},
   "source": [
    "reg: 0, 1e-10, 1e-5, 1e-3, 1e-1, 1\n",
    "1000: 2.69, 67.15| 2.69, 67.15|  5.073, 17.79|  10.22, 12.92| 25.84, 25.4| 38.38, 38.05\n",
    "500: 2.65, 76.07| 2.41, 92.05|5.24, 16.04 |10.64, 13.0 |27.4, 26.89 |39.95, 39.4\n",
    "300: 3.56, 41.12| 3.56, 41.12| 5.801, 14.5| 11.06, 13.0| 28.61, 28.13| 41.16, 40.57\n",
    "200: 5.284, 23.26| 5.284, 23.26| 6.324, 13.24 | 11.36, 12.98| 29.6, 29.14| 42.6, 42.1\n",
    "100: 8.168 14.63| 8.168 14.63| 8.188 14.28| 12.37, 13.19| 31.35, 31.0| 43.8, 43.09\n",
    "10: 34.33, 34.21 |34.33, 34.21 |34.33, 34.21 | 34.33, 34.21| 37.03, 36.8| 49.93, 49.63\n"
   ]
  },
  {
   "cell_type": "code",
   "execution_count": 31,
   "id": "efb84beb",
   "metadata": {
    "ExecuteTime": {
     "end_time": "2023-03-31T16:56:11.314386Z",
     "start_time": "2023-03-31T16:56:11.310188Z"
    }
   },
   "outputs": [
    {
     "data": {
      "text/plain": [
       "-34.51"
      ]
     },
     "execution_count": 31,
     "metadata": {},
     "output_type": "execute_result"
    }
   ],
   "source": [
    "8.5 - 43.01"
   ]
  },
  {
   "cell_type": "code",
   "execution_count": null,
   "id": "f52f0eb4",
   "metadata": {},
   "outputs": [],
   "source": [
    "2.956 - 37.61"
   ]
  },
  {
   "cell_type": "code",
   "execution_count": 21,
   "id": "cf1ebfe7",
   "metadata": {
    "ExecuteTime": {
     "end_time": "2023-03-31T16:49:09.096609Z",
     "start_time": "2023-03-31T16:49:09.091487Z"
    }
   },
   "outputs": [
    {
     "data": {
      "text/plain": [
       "torch.Size([100, 778])"
      ]
     },
     "execution_count": 21,
     "metadata": {},
     "output_type": "execute_result"
    }
   ],
   "source": [
    "weights.shape"
   ]
  },
  {
   "cell_type": "code",
   "execution_count": 127,
   "id": "ab63d781",
   "metadata": {
    "ExecuteTime": {
     "end_time": "2023-03-31T13:53:00.644682Z",
     "start_time": "2023-03-31T13:53:00.507010Z"
    }
   },
   "outputs": [
    {
     "name": "stdout",
     "output_type": "stream",
     "text": [
      "error1 : 1.261e-24\n"
     ]
    }
   ],
   "source": [
    "regularization = 100\n",
    "n_col = Features.shape[1]\n",
    "reg = regularization * torch.eye(n_col)\n",
    "reg[n_col-1, n_col-1] = 0\n",
    "reg_features = Features.T @ Features + reg\n",
    "\n",
    "\n",
    "# matinv = torch.linalg.inv(Features.T @ Features)\n",
    "# weight = matinv @ Features.T @ Target\n",
    "\n",
    "weight2 = torch.linalg.lstsq(((Features.T @ Features)+reg),Features.T @ Target, driver = \"gelsd\", rcond = 1e-15).solution\n",
    "preds1 = Features @ weight2\n",
    "# preds2 = Features @ weight\n",
    "\n",
    "print (\"error1 : {:.4}\".format(torch.mean(Target - preds1)**2))\n",
    "# print (\"error2 : {:.4}\".format(torch.mean(Target - preds2)**2))"
   ]
  },
  {
   "cell_type": "code",
   "execution_count": 126,
   "id": "6f2049e3",
   "metadata": {
    "ExecuteTime": {
     "end_time": "2023-03-31T13:52:34.476381Z",
     "start_time": "2023-03-31T13:52:34.469049Z"
    }
   },
   "outputs": [
    {
     "data": {
      "text/plain": [
       "tensor([1.1406e-01, 9.8752e-02, 7.7868e-02,  ..., 1.1185e-01, 8.9080e-02,\n",
       "        8.1009e+02])"
      ]
     },
     "execution_count": 126,
     "metadata": {},
     "output_type": "execute_result"
    }
   ],
   "source": [
    "weight2"
   ]
  },
  {
   "cell_type": "code",
   "execution_count": 113,
   "id": "87a61f91",
   "metadata": {
    "ExecuteTime": {
     "end_time": "2023-03-31T13:48:47.580633Z",
     "start_time": "2023-03-31T13:48:47.573073Z"
    }
   },
   "outputs": [
    {
     "data": {
      "text/plain": [
       "tensor([152238.9036, -81631.2050,  93461.0305,  ..., 135140.0196,\n",
       "        -71803.1538, -79685.7966])"
      ]
     },
     "execution_count": 113,
     "metadata": {},
     "output_type": "execute_result"
    }
   ],
   "source": [
    "weight"
   ]
  },
  {
   "cell_type": "code",
   "execution_count": 92,
   "id": "9bf8ae08",
   "metadata": {
    "ExecuteTime": {
     "end_time": "2023-03-31T13:30:03.767240Z",
     "start_time": "2023-03-31T13:30:03.759332Z"
    }
   },
   "outputs": [
    {
     "data": {
      "text/plain": [
       "tensor(32.8394)"
      ]
     },
     "execution_count": 92,
     "metadata": {},
     "output_type": "execute_result"
    }
   ],
   "source": [
    "torch.mean(Target - preds2)**2"
   ]
  },
  {
   "cell_type": "code",
   "execution_count": 93,
   "id": "3a0dab55",
   "metadata": {
    "ExecuteTime": {
     "end_time": "2023-03-31T13:30:04.483848Z",
     "start_time": "2023-03-31T13:30:04.476799Z"
    }
   },
   "outputs": [
    {
     "data": {
      "text/plain": [
       "tensor([731.6263])"
      ]
     },
     "execution_count": 93,
     "metadata": {},
     "output_type": "execute_result"
    }
   ],
   "source": [
    "shifted_weights"
   ]
  },
  {
   "cell_type": "code",
   "execution_count": null,
   "id": "8c4a9410",
   "metadata": {},
   "outputs": [],
   "source": []
  }
 ],
 "metadata": {
  "kernelspec": {
   "display_name": "Python 3 (ipykernel)",
   "language": "python",
   "name": "python3"
  },
  "language_info": {
   "codemirror_mode": {
    "name": "ipython",
    "version": 3
   },
   "file_extension": ".py",
   "mimetype": "text/x-python",
   "name": "python",
   "nbconvert_exporter": "python",
   "pygments_lexer": "ipython3",
   "version": "3.9.12"
  },
  "toc": {
   "base_numbering": 1,
   "nav_menu": {},
   "number_sections": true,
   "sideBar": true,
   "skip_h1_title": false,
   "title_cell": "Table of Contents",
   "title_sidebar": "Contents",
   "toc_cell": false,
   "toc_position": {},
   "toc_section_display": true,
   "toc_window_display": false
  }
 },
 "nbformat": 4,
 "nbformat_minor": 5
}
