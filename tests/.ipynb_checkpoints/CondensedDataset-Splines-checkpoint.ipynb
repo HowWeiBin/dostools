{
 "cells": [
  {
   "cell_type": "markdown",
   "id": "84565b74",
   "metadata": {
    "hide_input": false
   },
   "source": [
    "## Imports"
   ]
  },
  {
   "cell_type": "code",
   "execution_count": 1,
   "id": "dfdaeca7",
   "metadata": {
    "ExecuteTime": {
     "end_time": "2023-03-30T20:06:22.461862Z",
     "start_time": "2023-03-30T20:06:08.279216Z"
    }
   },
   "outputs": [],
   "source": [
    "import dostools\n",
    "import importlib\n",
    "import numpy as np\n",
    "import pickle\n",
    "import torch\n",
    "import sys\n",
    "import matplotlib.pyplot as plt\n",
    "import copy\n",
    "from tqdm import tqdm\n",
    "import matplotlib\n",
    "import time\n",
    "torch.set_default_dtype(torch.float64) \n"
   ]
  },
  {
   "cell_type": "code",
   "execution_count": 2,
   "id": "7ccbf26d",
   "metadata": {
    "ExecuteTime": {
     "end_time": "2023-03-30T20:06:37.265476Z",
     "start_time": "2023-03-30T20:06:22.463537Z"
    }
   },
   "outputs": [
    {
     "name": "stdout",
     "output_type": "stream",
     "text": [
      "ldos shape is torch.Size([1039, 778])\n",
      "mean dos shape is torch.Size([778])\n",
      "Variance covered with 10 PCs is = 0.9871211778950163\n"
     ]
    }
   ],
   "source": [
    "import dostools.datasets.data as data\n",
    "import dostools.utils.utils as utils\n",
    "\n",
    "n_structures = 1039\n",
    "np.random.seed(0)\n",
    "n_train = int(0.8 * n_structures)\n",
    "train_index = np.arange(n_structures)\n",
    "np.random.shuffle(train_index)\n",
    "test_index = train_index[n_train:]\n",
    "train_index = train_index[:n_train]\n",
    "\n",
    "with torch.no_grad():\n",
    "    structures = data.load_structures(\":\")\n",
    "    n_structures = len(structures) #total number of structures\n",
    "    for structure in structures:#implement periodicity\n",
    "        structure.wrap(eps = 1e-12) \n",
    "    n_atoms = np.zeros(n_structures, dtype = int) #stores number of atoms in each structures\n",
    "    for i in range(n_structures):\n",
    "        n_atoms[i] = len(structures[i])\n",
    "\n",
    "    #eigenergies, emin, emax = dostools.src.datasets.data.load_eigenenergies(unpack = True, n_structures = len(structures))\n",
    "    xdos = torch.tensor(data.load_xdos())\n",
    "    ldos = torch.tensor(data.load_ldos())\n",
    "    ldos *= 2\n",
    "\n",
    "    print (\"ldos shape is {}\".format(ldos.shape))\n",
    "    mean_dos_per_atom = ldos[train_index].mean(axis = 0) #only calculated for train set to prevent data leakage\n",
    "    print (\"mean dos shape is {}\".format(mean_dos_per_atom.shape))\n",
    "    \n",
    "    \n",
    "    y_pw = ldos - mean_dos_per_atom\n",
    "    y_lcdf = torch.cumsum(y_pw, dim = 1)\n",
    "    _, pc_vectors = utils.build_pc(ldos[train_index], mean_dos_per_atom[None,:], n_pc = 10)\n",
    "    y_pc = utils.build_coeffs(ldos - mean_dos_per_atom[None,:], pc_vectors)\n",
    "    Silicon = data.load_features()\n",
    "    kMM = data.load_kMM()"
   ]
  },
  {
   "cell_type": "code",
   "execution_count": 3,
   "id": "381681ad",
   "metadata": {
    "ExecuteTime": {
     "end_time": "2023-03-30T20:06:45.062638Z",
     "start_time": "2023-03-30T20:06:37.269529Z"
    }
   },
   "outputs": [
    {
     "name": "stdout",
     "output_type": "stream",
     "text": [
      "This file contains the eigenenergies and their corresponding kpoints of the training Silicon structures generated using DFT PBE as implemented in FHI-AIMS version 171221_1 with the ``tight'' settings\n"
     ]
    }
   ],
   "source": [
    "importlib.reload(data)\n",
    "eigen_energies, emin, emax = data.load_eigenenergies(unpack = True, n_structures = n_structures)"
   ]
  },
  {
   "cell_type": "markdown",
   "id": "3a7c7af2",
   "metadata": {},
   "source": [
    "## Generate NN Data"
   ]
  },
  {
   "cell_type": "code",
   "execution_count": 4,
   "id": "cccb6b75",
   "metadata": {
    "ExecuteTime": {
     "end_time": "2023-03-30T20:06:45.416968Z",
     "start_time": "2023-03-30T20:06:45.065161Z"
    }
   },
   "outputs": [],
   "source": [
    "sigma = 0.3\n",
    "dx = 0.05\n",
    "\n",
    "full_eigen_energies = [torch.tensor(i.flatten()) for i in eigen_energies]\n",
    "eigenenergy_length = [len(i) for i in full_eigen_energies]\n",
    "eigenenergy_length_t = torch.tensor(eigenenergy_length)\n",
    "normalization_eiglength = [len(i) for i in eigen_energies]\n",
    "normalization_eiglength_t = torch.tensor(normalization_eiglength)\n",
    "normalization = 1/torch.sqrt(2*torch.tensor(np.pi)*sigma**2)/n_atoms/normalization_eiglength_t\n",
    "normalization_quartic = 1/n_atoms/normalization_eiglength_t\n"
   ]
  },
  {
   "cell_type": "code",
   "execution_count": 5,
   "id": "805ad21f",
   "metadata": {
    "ExecuteTime": {
     "end_time": "2023-03-30T20:06:45.431407Z",
     "start_time": "2023-03-30T20:06:45.419728Z"
    }
   },
   "outputs": [],
   "source": [
    "%matplotlib notebook"
   ]
  },
  {
   "cell_type": "code",
   "execution_count": 95,
   "id": "54c1048b",
   "metadata": {
    "ExecuteTime": {
     "end_time": "2023-03-31T13:02:14.827932Z",
     "start_time": "2023-03-31T13:02:14.808277Z"
    }
   },
   "outputs": [],
   "source": [
    "class DynamicSpliner:\n",
    "\n",
    "    def __init__(\n",
    "        self,\n",
    "        start,\n",
    "        stop,\n",
    "        values_fn,\n",
    "        derivatives_fn,\n",
    "        requested_accuracy,\n",
    "        device\n",
    "    ) -> None:\n",
    "\n",
    "        self.start = start\n",
    "        self.stop = stop\n",
    "        self.values_fn = values_fn\n",
    "        self.derivatives_fn = derivatives_fn\n",
    "        self.requested_accuracy = requested_accuracy\n",
    "\n",
    "        # initialize spline with 11 points\n",
    "        positions = torch.linspace(start, stop, 11)\n",
    "        self.spline_positions = positions\n",
    "        self.spline_values = values_fn(positions)\n",
    "        self.spline_derivatives = derivatives_fn(positions)\n",
    "\n",
    "        self.number_of_custom_dimensions = len(self.spline_values.shape) - 1\n",
    "\n",
    "        while True:\n",
    "            n_intermediate_positions = len(self.spline_positions) - 1\n",
    "\n",
    "            if n_intermediate_positions >= 500000:\n",
    "                plt.plot(self.spline_positions, self.spline_values, label = f\"{len(self.spline_positions)}\")\n",
    "                plt.legend()\n",
    "    \n",
    "                raise ValueError(\n",
    "                    \"Maximum number of spline points reached. \\\n",
    "                    There might be a problem with the functions to be splined\"\n",
    "                )\n",
    "\n",
    "            half_step = (self.spline_positions[1] - self.spline_positions[0]) / 2\n",
    "            intermediate_positions = torch.linspace(\n",
    "                self.start + half_step, self.stop - half_step, n_intermediate_positions\n",
    "            )\n",
    "\n",
    "            estimated_values = self.compute(intermediate_positions)\n",
    "            new_values = self.values_fn(intermediate_positions)\n",
    "\n",
    "            mean_absolute_error = torch.mean(torch.abs(estimated_values - new_values))\n",
    "#             print (intermediate_positions[torch.max(estimated_values - new_values, 0)[1]])\n",
    "#             print (estimated_values[torch.max(estimated_values - new_values, 0)[1]])\n",
    "#             print (new_values[torch.max(estimated_values - new_values, 0)[1]])\n",
    "            mean_relative_error = torch.mean(\n",
    "                torch.abs((estimated_values - new_values) / new_values)\n",
    "            )\n",
    "\n",
    "            if (\n",
    "                mean_absolute_error < self.requested_accuracy\n",
    "                or mean_relative_error < self.requested_accuracy\n",
    "            ):\n",
    "                break\n",
    "\n",
    "            new_derivatives = self.derivatives_fn(intermediate_positions)\n",
    "\n",
    "            concatenated_positions = torch.cat(\n",
    "                [self.spline_positions, intermediate_positions], dim=0\n",
    "            )\n",
    "            concatenated_values = torch.cat(\n",
    "                [self.spline_values, new_values], dim=0\n",
    "            )\n",
    "            concatenated_derivatives = torch.cat(\n",
    "                [self.spline_derivatives, new_derivatives], dim=0\n",
    "            )\n",
    "\n",
    "            sort_indices = torch.argsort(concatenated_positions, dim=0)\n",
    "\n",
    "            self.spline_positions = concatenated_positions[sort_indices]\n",
    "            self.spline_values = concatenated_values[sort_indices]\n",
    "            self.spline_derivatives = concatenated_derivatives[sort_indices]\n",
    "            \n",
    "            print (mean_absolute_error)\n",
    "            \n",
    "        self.spline_positions = self.spline_positions.to(device)\n",
    "        self.spline_values = self.spline_values.to(device)\n",
    "        self.spline_derivatives = self.spline_derivatives.to(device)\n",
    "\n",
    "    def compute(self, positions):\n",
    "        x = positions - self.start\n",
    "        delta_x = self.spline_positions[1] - self.spline_positions[0]\n",
    "        n = (torch.floor(x / delta_x)).to(dtype=torch.long)\n",
    "#         print (n)\n",
    "\n",
    "        t = (x - n * delta_x) / delta_x\n",
    "        t_2 = t**2\n",
    "        t_3 = t**3\n",
    "\n",
    "        h00 = 2.0 * t_3 - 3.0 * t_2 + 1.0\n",
    "        h10 = t_3 - 2.0 * t_2 + t\n",
    "        h01 = -2.0 * t_3 + 3.0 * t_2\n",
    "        h11 = t_3 - t_2\n",
    "\n",
    "        p_k = self.spline_values[n]\n",
    "        p_k_1 = self.spline_values[n + 1]\n",
    "\n",
    "        m_k = self.spline_derivatives[n]\n",
    "        m_k_1 = self.spline_derivatives[n + 1]\n",
    "\n",
    "        new_shape = (-1,) + (1,) * self.number_of_custom_dimensions\n",
    "        h00 = h00.reshape(new_shape)\n",
    "        h10 = h10.reshape(new_shape)\n",
    "        h01 = h01.reshape(new_shape)\n",
    "        h11 = h11.reshape(new_shape)\n",
    "\n",
    "        interpolated_values = (\n",
    "            h00 * p_k + h10 * delta_x * m_k + h01 * p_k_1 + h11 * delta_x * m_k_1\n",
    "        )\n",
    "\n",
    "        return interpolated_values"
   ]
  },
  {
   "cell_type": "code",
   "execution_count": 43,
   "id": "39e4dc8c",
   "metadata": {
    "ExecuteTime": {
     "end_time": "2023-03-31T12:28:54.292306Z",
     "start_time": "2023-03-31T12:28:51.396688Z"
    }
   },
   "outputs": [],
   "source": [
    "# Fermi level\n",
    "import ase\n",
    "\n",
    "T_0 = 200\n",
    "beta_0 = 1 / (ase.units.kB * T_0) # inverse temperature\n",
    "efermi = torch.zeros(n_structures)\n",
    "for i in range(n_structures):\n",
    "    efermi[i] = torch.tensor(utils.getmu(ldos[i], beta_0, xdos, n=4))\n",
    "cutoff = torch.max(efermi) + 3\n",
    "cutoff_index = torch.searchsorted(xdos, cutoff)\n",
    "\n"
   ]
  },
  {
   "cell_type": "code",
   "execution_count": 84,
   "id": "8f8d6351",
   "metadata": {
    "ExecuteTime": {
     "end_time": "2023-03-31T12:52:07.460929Z",
     "start_time": "2023-03-31T12:52:07.274488Z"
    }
   },
   "outputs": [],
   "source": [
    "from scipy.interpolate import CubicHermiteSpline\n",
    "shift = -0.005\n",
    "spliner = CubicHermiteSpline(xdos, value_fn(xdos), derivative_fn(xdos))"
   ]
  },
  {
   "cell_type": "code",
   "execution_count": 85,
   "id": "5d1d0e9a",
   "metadata": {
    "ExecuteTime": {
     "end_time": "2023-03-31T12:52:08.259124Z",
     "start_time": "2023-03-31T12:52:08.251166Z"
    }
   },
   "outputs": [
    {
     "data": {
      "text/plain": [
       "array([[ 1.01179258e-146,  7.75770425e-145,  5.78478463e-143, ...,\n",
       "        -6.51082901e-098, -1.80985115e-099, -4.89298605e-101],\n",
       "       [-4.74421920e-148, -3.63868355e-146, -2.71419993e-144, ...,\n",
       "         6.99522341e-099,  1.94487899e-100,  5.25898349e-102],\n",
       "       [ 3.67196249e-151,  2.89442029e-149,  2.21886944e-147, ...,\n",
       "        -2.16879652e-100, -6.02788730e-102, -1.62938783e-103],\n",
       "       [ 1.26844316e-153,  1.00177389e-151,  7.69443633e-150, ...,\n",
       "         1.53739986e-102,  4.25621920e-104,  1.14599009e-105]])"
      ]
     },
     "execution_count": 85,
     "metadata": {},
     "output_type": "execute_result"
    }
   ],
   "source": [
    "spliner.c"
   ]
  },
  {
   "cell_type": "code",
   "execution_count": 91,
   "id": "10cb4769",
   "metadata": {
    "ExecuteTime": {
     "end_time": "2023-03-31T12:52:56.633906Z",
     "start_time": "2023-03-31T12:52:56.604492Z"
    }
   },
   "outputs": [
    {
     "data": {
      "application/javascript": [
       "/* Put everything inside the global mpl namespace */\n",
       "/* global mpl */\n",
       "window.mpl = {};\n",
       "\n",
       "mpl.get_websocket_type = function () {\n",
       "    if (typeof WebSocket !== 'undefined') {\n",
       "        return WebSocket;\n",
       "    } else if (typeof MozWebSocket !== 'undefined') {\n",
       "        return MozWebSocket;\n",
       "    } else {\n",
       "        alert(\n",
       "            'Your browser does not have WebSocket support. ' +\n",
       "                'Please try Chrome, Safari or Firefox ≥ 6. ' +\n",
       "                'Firefox 4 and 5 are also supported but you ' +\n",
       "                'have to enable WebSockets in about:config.'\n",
       "        );\n",
       "    }\n",
       "};\n",
       "\n",
       "mpl.figure = function (figure_id, websocket, ondownload, parent_element) {\n",
       "    this.id = figure_id;\n",
       "\n",
       "    this.ws = websocket;\n",
       "\n",
       "    this.supports_binary = this.ws.binaryType !== undefined;\n",
       "\n",
       "    if (!this.supports_binary) {\n",
       "        var warnings = document.getElementById('mpl-warnings');\n",
       "        if (warnings) {\n",
       "            warnings.style.display = 'block';\n",
       "            warnings.textContent =\n",
       "                'This browser does not support binary websocket messages. ' +\n",
       "                'Performance may be slow.';\n",
       "        }\n",
       "    }\n",
       "\n",
       "    this.imageObj = new Image();\n",
       "\n",
       "    this.context = undefined;\n",
       "    this.message = undefined;\n",
       "    this.canvas = undefined;\n",
       "    this.rubberband_canvas = undefined;\n",
       "    this.rubberband_context = undefined;\n",
       "    this.format_dropdown = undefined;\n",
       "\n",
       "    this.image_mode = 'full';\n",
       "\n",
       "    this.root = document.createElement('div');\n",
       "    this.root.setAttribute('style', 'display: inline-block');\n",
       "    this._root_extra_style(this.root);\n",
       "\n",
       "    parent_element.appendChild(this.root);\n",
       "\n",
       "    this._init_header(this);\n",
       "    this._init_canvas(this);\n",
       "    this._init_toolbar(this);\n",
       "\n",
       "    var fig = this;\n",
       "\n",
       "    this.waiting = false;\n",
       "\n",
       "    this.ws.onopen = function () {\n",
       "        fig.send_message('supports_binary', { value: fig.supports_binary });\n",
       "        fig.send_message('send_image_mode', {});\n",
       "        if (fig.ratio !== 1) {\n",
       "            fig.send_message('set_device_pixel_ratio', {\n",
       "                device_pixel_ratio: fig.ratio,\n",
       "            });\n",
       "        }\n",
       "        fig.send_message('refresh', {});\n",
       "    };\n",
       "\n",
       "    this.imageObj.onload = function () {\n",
       "        if (fig.image_mode === 'full') {\n",
       "            // Full images could contain transparency (where diff images\n",
       "            // almost always do), so we need to clear the canvas so that\n",
       "            // there is no ghosting.\n",
       "            fig.context.clearRect(0, 0, fig.canvas.width, fig.canvas.height);\n",
       "        }\n",
       "        fig.context.drawImage(fig.imageObj, 0, 0);\n",
       "    };\n",
       "\n",
       "    this.imageObj.onunload = function () {\n",
       "        fig.ws.close();\n",
       "    };\n",
       "\n",
       "    this.ws.onmessage = this._make_on_message_function(this);\n",
       "\n",
       "    this.ondownload = ondownload;\n",
       "};\n",
       "\n",
       "mpl.figure.prototype._init_header = function () {\n",
       "    var titlebar = document.createElement('div');\n",
       "    titlebar.classList =\n",
       "        'ui-dialog-titlebar ui-widget-header ui-corner-all ui-helper-clearfix';\n",
       "    var titletext = document.createElement('div');\n",
       "    titletext.classList = 'ui-dialog-title';\n",
       "    titletext.setAttribute(\n",
       "        'style',\n",
       "        'width: 100%; text-align: center; padding: 3px;'\n",
       "    );\n",
       "    titlebar.appendChild(titletext);\n",
       "    this.root.appendChild(titlebar);\n",
       "    this.header = titletext;\n",
       "};\n",
       "\n",
       "mpl.figure.prototype._canvas_extra_style = function (_canvas_div) {};\n",
       "\n",
       "mpl.figure.prototype._root_extra_style = function (_canvas_div) {};\n",
       "\n",
       "mpl.figure.prototype._init_canvas = function () {\n",
       "    var fig = this;\n",
       "\n",
       "    var canvas_div = (this.canvas_div = document.createElement('div'));\n",
       "    canvas_div.setAttribute(\n",
       "        'style',\n",
       "        'border: 1px solid #ddd;' +\n",
       "            'box-sizing: content-box;' +\n",
       "            'clear: both;' +\n",
       "            'min-height: 1px;' +\n",
       "            'min-width: 1px;' +\n",
       "            'outline: 0;' +\n",
       "            'overflow: hidden;' +\n",
       "            'position: relative;' +\n",
       "            'resize: both;'\n",
       "    );\n",
       "\n",
       "    function on_keyboard_event_closure(name) {\n",
       "        return function (event) {\n",
       "            return fig.key_event(event, name);\n",
       "        };\n",
       "    }\n",
       "\n",
       "    canvas_div.addEventListener(\n",
       "        'keydown',\n",
       "        on_keyboard_event_closure('key_press')\n",
       "    );\n",
       "    canvas_div.addEventListener(\n",
       "        'keyup',\n",
       "        on_keyboard_event_closure('key_release')\n",
       "    );\n",
       "\n",
       "    this._canvas_extra_style(canvas_div);\n",
       "    this.root.appendChild(canvas_div);\n",
       "\n",
       "    var canvas = (this.canvas = document.createElement('canvas'));\n",
       "    canvas.classList.add('mpl-canvas');\n",
       "    canvas.setAttribute('style', 'box-sizing: content-box;');\n",
       "\n",
       "    this.context = canvas.getContext('2d');\n",
       "\n",
       "    var backingStore =\n",
       "        this.context.backingStorePixelRatio ||\n",
       "        this.context.webkitBackingStorePixelRatio ||\n",
       "        this.context.mozBackingStorePixelRatio ||\n",
       "        this.context.msBackingStorePixelRatio ||\n",
       "        this.context.oBackingStorePixelRatio ||\n",
       "        this.context.backingStorePixelRatio ||\n",
       "        1;\n",
       "\n",
       "    this.ratio = (window.devicePixelRatio || 1) / backingStore;\n",
       "\n",
       "    var rubberband_canvas = (this.rubberband_canvas = document.createElement(\n",
       "        'canvas'\n",
       "    ));\n",
       "    rubberband_canvas.setAttribute(\n",
       "        'style',\n",
       "        'box-sizing: content-box; position: absolute; left: 0; top: 0; z-index: 1;'\n",
       "    );\n",
       "\n",
       "    // Apply a ponyfill if ResizeObserver is not implemented by browser.\n",
       "    if (this.ResizeObserver === undefined) {\n",
       "        if (window.ResizeObserver !== undefined) {\n",
       "            this.ResizeObserver = window.ResizeObserver;\n",
       "        } else {\n",
       "            var obs = _JSXTOOLS_RESIZE_OBSERVER({});\n",
       "            this.ResizeObserver = obs.ResizeObserver;\n",
       "        }\n",
       "    }\n",
       "\n",
       "    this.resizeObserverInstance = new this.ResizeObserver(function (entries) {\n",
       "        var nentries = entries.length;\n",
       "        for (var i = 0; i < nentries; i++) {\n",
       "            var entry = entries[i];\n",
       "            var width, height;\n",
       "            if (entry.contentBoxSize) {\n",
       "                if (entry.contentBoxSize instanceof Array) {\n",
       "                    // Chrome 84 implements new version of spec.\n",
       "                    width = entry.contentBoxSize[0].inlineSize;\n",
       "                    height = entry.contentBoxSize[0].blockSize;\n",
       "                } else {\n",
       "                    // Firefox implements old version of spec.\n",
       "                    width = entry.contentBoxSize.inlineSize;\n",
       "                    height = entry.contentBoxSize.blockSize;\n",
       "                }\n",
       "            } else {\n",
       "                // Chrome <84 implements even older version of spec.\n",
       "                width = entry.contentRect.width;\n",
       "                height = entry.contentRect.height;\n",
       "            }\n",
       "\n",
       "            // Keep the size of the canvas and rubber band canvas in sync with\n",
       "            // the canvas container.\n",
       "            if (entry.devicePixelContentBoxSize) {\n",
       "                // Chrome 84 implements new version of spec.\n",
       "                canvas.setAttribute(\n",
       "                    'width',\n",
       "                    entry.devicePixelContentBoxSize[0].inlineSize\n",
       "                );\n",
       "                canvas.setAttribute(\n",
       "                    'height',\n",
       "                    entry.devicePixelContentBoxSize[0].blockSize\n",
       "                );\n",
       "            } else {\n",
       "                canvas.setAttribute('width', width * fig.ratio);\n",
       "                canvas.setAttribute('height', height * fig.ratio);\n",
       "            }\n",
       "            canvas.setAttribute(\n",
       "                'style',\n",
       "                'width: ' + width + 'px; height: ' + height + 'px;'\n",
       "            );\n",
       "\n",
       "            rubberband_canvas.setAttribute('width', width);\n",
       "            rubberband_canvas.setAttribute('height', height);\n",
       "\n",
       "            // And update the size in Python. We ignore the initial 0/0 size\n",
       "            // that occurs as the element is placed into the DOM, which should\n",
       "            // otherwise not happen due to the minimum size styling.\n",
       "            if (fig.ws.readyState == 1 && width != 0 && height != 0) {\n",
       "                fig.request_resize(width, height);\n",
       "            }\n",
       "        }\n",
       "    });\n",
       "    this.resizeObserverInstance.observe(canvas_div);\n",
       "\n",
       "    function on_mouse_event_closure(name) {\n",
       "        return function (event) {\n",
       "            return fig.mouse_event(event, name);\n",
       "        };\n",
       "    }\n",
       "\n",
       "    rubberband_canvas.addEventListener(\n",
       "        'mousedown',\n",
       "        on_mouse_event_closure('button_press')\n",
       "    );\n",
       "    rubberband_canvas.addEventListener(\n",
       "        'mouseup',\n",
       "        on_mouse_event_closure('button_release')\n",
       "    );\n",
       "    rubberband_canvas.addEventListener(\n",
       "        'dblclick',\n",
       "        on_mouse_event_closure('dblclick')\n",
       "    );\n",
       "    // Throttle sequential mouse events to 1 every 20ms.\n",
       "    rubberband_canvas.addEventListener(\n",
       "        'mousemove',\n",
       "        on_mouse_event_closure('motion_notify')\n",
       "    );\n",
       "\n",
       "    rubberband_canvas.addEventListener(\n",
       "        'mouseenter',\n",
       "        on_mouse_event_closure('figure_enter')\n",
       "    );\n",
       "    rubberband_canvas.addEventListener(\n",
       "        'mouseleave',\n",
       "        on_mouse_event_closure('figure_leave')\n",
       "    );\n",
       "\n",
       "    canvas_div.addEventListener('wheel', function (event) {\n",
       "        if (event.deltaY < 0) {\n",
       "            event.step = 1;\n",
       "        } else {\n",
       "            event.step = -1;\n",
       "        }\n",
       "        on_mouse_event_closure('scroll')(event);\n",
       "    });\n",
       "\n",
       "    canvas_div.appendChild(canvas);\n",
       "    canvas_div.appendChild(rubberband_canvas);\n",
       "\n",
       "    this.rubberband_context = rubberband_canvas.getContext('2d');\n",
       "    this.rubberband_context.strokeStyle = '#000000';\n",
       "\n",
       "    this._resize_canvas = function (width, height, forward) {\n",
       "        if (forward) {\n",
       "            canvas_div.style.width = width + 'px';\n",
       "            canvas_div.style.height = height + 'px';\n",
       "        }\n",
       "    };\n",
       "\n",
       "    // Disable right mouse context menu.\n",
       "    this.rubberband_canvas.addEventListener('contextmenu', function (_e) {\n",
       "        event.preventDefault();\n",
       "        return false;\n",
       "    });\n",
       "\n",
       "    function set_focus() {\n",
       "        canvas.focus();\n",
       "        canvas_div.focus();\n",
       "    }\n",
       "\n",
       "    window.setTimeout(set_focus, 100);\n",
       "};\n",
       "\n",
       "mpl.figure.prototype._init_toolbar = function () {\n",
       "    var fig = this;\n",
       "\n",
       "    var toolbar = document.createElement('div');\n",
       "    toolbar.classList = 'mpl-toolbar';\n",
       "    this.root.appendChild(toolbar);\n",
       "\n",
       "    function on_click_closure(name) {\n",
       "        return function (_event) {\n",
       "            return fig.toolbar_button_onclick(name);\n",
       "        };\n",
       "    }\n",
       "\n",
       "    function on_mouseover_closure(tooltip) {\n",
       "        return function (event) {\n",
       "            if (!event.currentTarget.disabled) {\n",
       "                return fig.toolbar_button_onmouseover(tooltip);\n",
       "            }\n",
       "        };\n",
       "    }\n",
       "\n",
       "    fig.buttons = {};\n",
       "    var buttonGroup = document.createElement('div');\n",
       "    buttonGroup.classList = 'mpl-button-group';\n",
       "    for (var toolbar_ind in mpl.toolbar_items) {\n",
       "        var name = mpl.toolbar_items[toolbar_ind][0];\n",
       "        var tooltip = mpl.toolbar_items[toolbar_ind][1];\n",
       "        var image = mpl.toolbar_items[toolbar_ind][2];\n",
       "        var method_name = mpl.toolbar_items[toolbar_ind][3];\n",
       "\n",
       "        if (!name) {\n",
       "            /* Instead of a spacer, we start a new button group. */\n",
       "            if (buttonGroup.hasChildNodes()) {\n",
       "                toolbar.appendChild(buttonGroup);\n",
       "            }\n",
       "            buttonGroup = document.createElement('div');\n",
       "            buttonGroup.classList = 'mpl-button-group';\n",
       "            continue;\n",
       "        }\n",
       "\n",
       "        var button = (fig.buttons[name] = document.createElement('button'));\n",
       "        button.classList = 'mpl-widget';\n",
       "        button.setAttribute('role', 'button');\n",
       "        button.setAttribute('aria-disabled', 'false');\n",
       "        button.addEventListener('click', on_click_closure(method_name));\n",
       "        button.addEventListener('mouseover', on_mouseover_closure(tooltip));\n",
       "\n",
       "        var icon_img = document.createElement('img');\n",
       "        icon_img.src = '_images/' + image + '.png';\n",
       "        icon_img.srcset = '_images/' + image + '_large.png 2x';\n",
       "        icon_img.alt = tooltip;\n",
       "        button.appendChild(icon_img);\n",
       "\n",
       "        buttonGroup.appendChild(button);\n",
       "    }\n",
       "\n",
       "    if (buttonGroup.hasChildNodes()) {\n",
       "        toolbar.appendChild(buttonGroup);\n",
       "    }\n",
       "\n",
       "    var fmt_picker = document.createElement('select');\n",
       "    fmt_picker.classList = 'mpl-widget';\n",
       "    toolbar.appendChild(fmt_picker);\n",
       "    this.format_dropdown = fmt_picker;\n",
       "\n",
       "    for (var ind in mpl.extensions) {\n",
       "        var fmt = mpl.extensions[ind];\n",
       "        var option = document.createElement('option');\n",
       "        option.selected = fmt === mpl.default_extension;\n",
       "        option.innerHTML = fmt;\n",
       "        fmt_picker.appendChild(option);\n",
       "    }\n",
       "\n",
       "    var status_bar = document.createElement('span');\n",
       "    status_bar.classList = 'mpl-message';\n",
       "    toolbar.appendChild(status_bar);\n",
       "    this.message = status_bar;\n",
       "};\n",
       "\n",
       "mpl.figure.prototype.request_resize = function (x_pixels, y_pixels) {\n",
       "    // Request matplotlib to resize the figure. Matplotlib will then trigger a resize in the client,\n",
       "    // which will in turn request a refresh of the image.\n",
       "    this.send_message('resize', { width: x_pixels, height: y_pixels });\n",
       "};\n",
       "\n",
       "mpl.figure.prototype.send_message = function (type, properties) {\n",
       "    properties['type'] = type;\n",
       "    properties['figure_id'] = this.id;\n",
       "    this.ws.send(JSON.stringify(properties));\n",
       "};\n",
       "\n",
       "mpl.figure.prototype.send_draw_message = function () {\n",
       "    if (!this.waiting) {\n",
       "        this.waiting = true;\n",
       "        this.ws.send(JSON.stringify({ type: 'draw', figure_id: this.id }));\n",
       "    }\n",
       "};\n",
       "\n",
       "mpl.figure.prototype.handle_save = function (fig, _msg) {\n",
       "    var format_dropdown = fig.format_dropdown;\n",
       "    var format = format_dropdown.options[format_dropdown.selectedIndex].value;\n",
       "    fig.ondownload(fig, format);\n",
       "};\n",
       "\n",
       "mpl.figure.prototype.handle_resize = function (fig, msg) {\n",
       "    var size = msg['size'];\n",
       "    if (size[0] !== fig.canvas.width || size[1] !== fig.canvas.height) {\n",
       "        fig._resize_canvas(size[0], size[1], msg['forward']);\n",
       "        fig.send_message('refresh', {});\n",
       "    }\n",
       "};\n",
       "\n",
       "mpl.figure.prototype.handle_rubberband = function (fig, msg) {\n",
       "    var x0 = msg['x0'] / fig.ratio;\n",
       "    var y0 = (fig.canvas.height - msg['y0']) / fig.ratio;\n",
       "    var x1 = msg['x1'] / fig.ratio;\n",
       "    var y1 = (fig.canvas.height - msg['y1']) / fig.ratio;\n",
       "    x0 = Math.floor(x0) + 0.5;\n",
       "    y0 = Math.floor(y0) + 0.5;\n",
       "    x1 = Math.floor(x1) + 0.5;\n",
       "    y1 = Math.floor(y1) + 0.5;\n",
       "    var min_x = Math.min(x0, x1);\n",
       "    var min_y = Math.min(y0, y1);\n",
       "    var width = Math.abs(x1 - x0);\n",
       "    var height = Math.abs(y1 - y0);\n",
       "\n",
       "    fig.rubberband_context.clearRect(\n",
       "        0,\n",
       "        0,\n",
       "        fig.canvas.width / fig.ratio,\n",
       "        fig.canvas.height / fig.ratio\n",
       "    );\n",
       "\n",
       "    fig.rubberband_context.strokeRect(min_x, min_y, width, height);\n",
       "};\n",
       "\n",
       "mpl.figure.prototype.handle_figure_label = function (fig, msg) {\n",
       "    // Updates the figure title.\n",
       "    fig.header.textContent = msg['label'];\n",
       "};\n",
       "\n",
       "mpl.figure.prototype.handle_cursor = function (fig, msg) {\n",
       "    fig.rubberband_canvas.style.cursor = msg['cursor'];\n",
       "};\n",
       "\n",
       "mpl.figure.prototype.handle_message = function (fig, msg) {\n",
       "    fig.message.textContent = msg['message'];\n",
       "};\n",
       "\n",
       "mpl.figure.prototype.handle_draw = function (fig, _msg) {\n",
       "    // Request the server to send over a new figure.\n",
       "    fig.send_draw_message();\n",
       "};\n",
       "\n",
       "mpl.figure.prototype.handle_image_mode = function (fig, msg) {\n",
       "    fig.image_mode = msg['mode'];\n",
       "};\n",
       "\n",
       "mpl.figure.prototype.handle_history_buttons = function (fig, msg) {\n",
       "    for (var key in msg) {\n",
       "        if (!(key in fig.buttons)) {\n",
       "            continue;\n",
       "        }\n",
       "        fig.buttons[key].disabled = !msg[key];\n",
       "        fig.buttons[key].setAttribute('aria-disabled', !msg[key]);\n",
       "    }\n",
       "};\n",
       "\n",
       "mpl.figure.prototype.handle_navigate_mode = function (fig, msg) {\n",
       "    if (msg['mode'] === 'PAN') {\n",
       "        fig.buttons['Pan'].classList.add('active');\n",
       "        fig.buttons['Zoom'].classList.remove('active');\n",
       "    } else if (msg['mode'] === 'ZOOM') {\n",
       "        fig.buttons['Pan'].classList.remove('active');\n",
       "        fig.buttons['Zoom'].classList.add('active');\n",
       "    } else {\n",
       "        fig.buttons['Pan'].classList.remove('active');\n",
       "        fig.buttons['Zoom'].classList.remove('active');\n",
       "    }\n",
       "};\n",
       "\n",
       "mpl.figure.prototype.updated_canvas_event = function () {\n",
       "    // Called whenever the canvas gets updated.\n",
       "    this.send_message('ack', {});\n",
       "};\n",
       "\n",
       "// A function to construct a web socket function for onmessage handling.\n",
       "// Called in the figure constructor.\n",
       "mpl.figure.prototype._make_on_message_function = function (fig) {\n",
       "    return function socket_on_message(evt) {\n",
       "        if (evt.data instanceof Blob) {\n",
       "            var img = evt.data;\n",
       "            if (img.type !== 'image/png') {\n",
       "                /* FIXME: We get \"Resource interpreted as Image but\n",
       "                 * transferred with MIME type text/plain:\" errors on\n",
       "                 * Chrome.  But how to set the MIME type?  It doesn't seem\n",
       "                 * to be part of the websocket stream */\n",
       "                img.type = 'image/png';\n",
       "            }\n",
       "\n",
       "            /* Free the memory for the previous frames */\n",
       "            if (fig.imageObj.src) {\n",
       "                (window.URL || window.webkitURL).revokeObjectURL(\n",
       "                    fig.imageObj.src\n",
       "                );\n",
       "            }\n",
       "\n",
       "            fig.imageObj.src = (window.URL || window.webkitURL).createObjectURL(\n",
       "                img\n",
       "            );\n",
       "            fig.updated_canvas_event();\n",
       "            fig.waiting = false;\n",
       "            return;\n",
       "        } else if (\n",
       "            typeof evt.data === 'string' &&\n",
       "            evt.data.slice(0, 21) === 'data:image/png;base64'\n",
       "        ) {\n",
       "            fig.imageObj.src = evt.data;\n",
       "            fig.updated_canvas_event();\n",
       "            fig.waiting = false;\n",
       "            return;\n",
       "        }\n",
       "\n",
       "        var msg = JSON.parse(evt.data);\n",
       "        var msg_type = msg['type'];\n",
       "\n",
       "        // Call the  \"handle_{type}\" callback, which takes\n",
       "        // the figure and JSON message as its only arguments.\n",
       "        try {\n",
       "            var callback = fig['handle_' + msg_type];\n",
       "        } catch (e) {\n",
       "            console.log(\n",
       "                \"No handler for the '\" + msg_type + \"' message type: \",\n",
       "                msg\n",
       "            );\n",
       "            return;\n",
       "        }\n",
       "\n",
       "        if (callback) {\n",
       "            try {\n",
       "                // console.log(\"Handling '\" + msg_type + \"' message: \", msg);\n",
       "                callback(fig, msg);\n",
       "            } catch (e) {\n",
       "                console.log(\n",
       "                    \"Exception inside the 'handler_\" + msg_type + \"' callback:\",\n",
       "                    e,\n",
       "                    e.stack,\n",
       "                    msg\n",
       "                );\n",
       "            }\n",
       "        }\n",
       "    };\n",
       "};\n",
       "\n",
       "// from https://stackoverflow.com/questions/1114465/getting-mouse-location-in-canvas\n",
       "mpl.findpos = function (e) {\n",
       "    //this section is from http://www.quirksmode.org/js/events_properties.html\n",
       "    var targ;\n",
       "    if (!e) {\n",
       "        e = window.event;\n",
       "    }\n",
       "    if (e.target) {\n",
       "        targ = e.target;\n",
       "    } else if (e.srcElement) {\n",
       "        targ = e.srcElement;\n",
       "    }\n",
       "    if (targ.nodeType === 3) {\n",
       "        // defeat Safari bug\n",
       "        targ = targ.parentNode;\n",
       "    }\n",
       "\n",
       "    // pageX,Y are the mouse positions relative to the document\n",
       "    var boundingRect = targ.getBoundingClientRect();\n",
       "    var x = e.pageX - (boundingRect.left + document.body.scrollLeft);\n",
       "    var y = e.pageY - (boundingRect.top + document.body.scrollTop);\n",
       "\n",
       "    return { x: x, y: y };\n",
       "};\n",
       "\n",
       "/*\n",
       " * return a copy of an object with only non-object keys\n",
       " * we need this to avoid circular references\n",
       " * https://stackoverflow.com/a/24161582/3208463\n",
       " */\n",
       "function simpleKeys(original) {\n",
       "    return Object.keys(original).reduce(function (obj, key) {\n",
       "        if (typeof original[key] !== 'object') {\n",
       "            obj[key] = original[key];\n",
       "        }\n",
       "        return obj;\n",
       "    }, {});\n",
       "}\n",
       "\n",
       "mpl.figure.prototype.mouse_event = function (event, name) {\n",
       "    var canvas_pos = mpl.findpos(event);\n",
       "\n",
       "    if (name === 'button_press') {\n",
       "        this.canvas.focus();\n",
       "        this.canvas_div.focus();\n",
       "    }\n",
       "\n",
       "    var x = canvas_pos.x * this.ratio;\n",
       "    var y = canvas_pos.y * this.ratio;\n",
       "\n",
       "    this.send_message(name, {\n",
       "        x: x,\n",
       "        y: y,\n",
       "        button: event.button,\n",
       "        step: event.step,\n",
       "        guiEvent: simpleKeys(event),\n",
       "    });\n",
       "\n",
       "    /* This prevents the web browser from automatically changing to\n",
       "     * the text insertion cursor when the button is pressed.  We want\n",
       "     * to control all of the cursor setting manually through the\n",
       "     * 'cursor' event from matplotlib */\n",
       "    event.preventDefault();\n",
       "    return false;\n",
       "};\n",
       "\n",
       "mpl.figure.prototype._key_event_extra = function (_event, _name) {\n",
       "    // Handle any extra behaviour associated with a key event\n",
       "};\n",
       "\n",
       "mpl.figure.prototype.key_event = function (event, name) {\n",
       "    // Prevent repeat events\n",
       "    if (name === 'key_press') {\n",
       "        if (event.key === this._key) {\n",
       "            return;\n",
       "        } else {\n",
       "            this._key = event.key;\n",
       "        }\n",
       "    }\n",
       "    if (name === 'key_release') {\n",
       "        this._key = null;\n",
       "    }\n",
       "\n",
       "    var value = '';\n",
       "    if (event.ctrlKey && event.key !== 'Control') {\n",
       "        value += 'ctrl+';\n",
       "    }\n",
       "    else if (event.altKey && event.key !== 'Alt') {\n",
       "        value += 'alt+';\n",
       "    }\n",
       "    else if (event.shiftKey && event.key !== 'Shift') {\n",
       "        value += 'shift+';\n",
       "    }\n",
       "\n",
       "    value += 'k' + event.key;\n",
       "\n",
       "    this._key_event_extra(event, name);\n",
       "\n",
       "    this.send_message(name, { key: value, guiEvent: simpleKeys(event) });\n",
       "    return false;\n",
       "};\n",
       "\n",
       "mpl.figure.prototype.toolbar_button_onclick = function (name) {\n",
       "    if (name === 'download') {\n",
       "        this.handle_save(this, null);\n",
       "    } else {\n",
       "        this.send_message('toolbar_button', { name: name });\n",
       "    }\n",
       "};\n",
       "\n",
       "mpl.figure.prototype.toolbar_button_onmouseover = function (tooltip) {\n",
       "    this.message.textContent = tooltip;\n",
       "};\n",
       "\n",
       "///////////////// REMAINING CONTENT GENERATED BY embed_js.py /////////////////\n",
       "// prettier-ignore\n",
       "var _JSXTOOLS_RESIZE_OBSERVER=function(A){var t,i=new WeakMap,n=new WeakMap,a=new WeakMap,r=new WeakMap,o=new Set;function s(e){if(!(this instanceof s))throw new TypeError(\"Constructor requires 'new' operator\");i.set(this,e)}function h(){throw new TypeError(\"Function is not a constructor\")}function c(e,t,i,n){e=0 in arguments?Number(arguments[0]):0,t=1 in arguments?Number(arguments[1]):0,i=2 in arguments?Number(arguments[2]):0,n=3 in arguments?Number(arguments[3]):0,this.right=(this.x=this.left=e)+(this.width=i),this.bottom=(this.y=this.top=t)+(this.height=n),Object.freeze(this)}function d(){t=requestAnimationFrame(d);var s=new WeakMap,p=new Set;o.forEach((function(t){r.get(t).forEach((function(i){var r=t instanceof window.SVGElement,o=a.get(t),d=r?0:parseFloat(o.paddingTop),f=r?0:parseFloat(o.paddingRight),l=r?0:parseFloat(o.paddingBottom),u=r?0:parseFloat(o.paddingLeft),g=r?0:parseFloat(o.borderTopWidth),m=r?0:parseFloat(o.borderRightWidth),w=r?0:parseFloat(o.borderBottomWidth),b=u+f,F=d+l,v=(r?0:parseFloat(o.borderLeftWidth))+m,W=g+w,y=r?0:t.offsetHeight-W-t.clientHeight,E=r?0:t.offsetWidth-v-t.clientWidth,R=b+v,z=F+W,M=r?t.width:parseFloat(o.width)-R-E,O=r?t.height:parseFloat(o.height)-z-y;if(n.has(t)){var k=n.get(t);if(k[0]===M&&k[1]===O)return}n.set(t,[M,O]);var S=Object.create(h.prototype);S.target=t,S.contentRect=new c(u,d,M,O),s.has(i)||(s.set(i,[]),p.add(i)),s.get(i).push(S)}))})),p.forEach((function(e){i.get(e).call(e,s.get(e),e)}))}return s.prototype.observe=function(i){if(i instanceof window.Element){r.has(i)||(r.set(i,new Set),o.add(i),a.set(i,window.getComputedStyle(i)));var n=r.get(i);n.has(this)||n.add(this),cancelAnimationFrame(t),t=requestAnimationFrame(d)}},s.prototype.unobserve=function(i){if(i instanceof window.Element&&r.has(i)){var n=r.get(i);n.has(this)&&(n.delete(this),n.size||(r.delete(i),o.delete(i))),n.size||r.delete(i),o.size||cancelAnimationFrame(t)}},A.DOMRectReadOnly=c,A.ResizeObserver=s,A.ResizeObserverEntry=h,A}; // eslint-disable-line\n",
       "mpl.toolbar_items = [[\"Home\", \"Reset original view\", \"fa fa-home icon-home\", \"home\"], [\"Back\", \"Back to previous view\", \"fa fa-arrow-left icon-arrow-left\", \"back\"], [\"Forward\", \"Forward to next view\", \"fa fa-arrow-right icon-arrow-right\", \"forward\"], [\"\", \"\", \"\", \"\"], [\"Pan\", \"Left button pans, Right button zooms\\nx/y fixes axis, CTRL fixes aspect\", \"fa fa-arrows icon-move\", \"pan\"], [\"Zoom\", \"Zoom to rectangle\\nx/y fixes axis\", \"fa fa-square-o icon-check-empty\", \"zoom\"], [\"\", \"\", \"\", \"\"], [\"Download\", \"Download plot\", \"fa fa-floppy-o icon-save\", \"download\"]];\n",
       "\n",
       "mpl.extensions = [\"eps\", \"jpeg\", \"pgf\", \"pdf\", \"png\", \"ps\", \"raw\", \"svg\", \"tif\"];\n",
       "\n",
       "mpl.default_extension = \"png\";/* global mpl */\n",
       "\n",
       "var comm_websocket_adapter = function (comm) {\n",
       "    // Create a \"websocket\"-like object which calls the given IPython comm\n",
       "    // object with the appropriate methods. Currently this is a non binary\n",
       "    // socket, so there is still some room for performance tuning.\n",
       "    var ws = {};\n",
       "\n",
       "    ws.binaryType = comm.kernel.ws.binaryType;\n",
       "    ws.readyState = comm.kernel.ws.readyState;\n",
       "    function updateReadyState(_event) {\n",
       "        if (comm.kernel.ws) {\n",
       "            ws.readyState = comm.kernel.ws.readyState;\n",
       "        } else {\n",
       "            ws.readyState = 3; // Closed state.\n",
       "        }\n",
       "    }\n",
       "    comm.kernel.ws.addEventListener('open', updateReadyState);\n",
       "    comm.kernel.ws.addEventListener('close', updateReadyState);\n",
       "    comm.kernel.ws.addEventListener('error', updateReadyState);\n",
       "\n",
       "    ws.close = function () {\n",
       "        comm.close();\n",
       "    };\n",
       "    ws.send = function (m) {\n",
       "        //console.log('sending', m);\n",
       "        comm.send(m);\n",
       "    };\n",
       "    // Register the callback with on_msg.\n",
       "    comm.on_msg(function (msg) {\n",
       "        //console.log('receiving', msg['content']['data'], msg);\n",
       "        var data = msg['content']['data'];\n",
       "        if (data['blob'] !== undefined) {\n",
       "            data = {\n",
       "                data: new Blob(msg['buffers'], { type: data['blob'] }),\n",
       "            };\n",
       "        }\n",
       "        // Pass the mpl event to the overridden (by mpl) onmessage function.\n",
       "        ws.onmessage(data);\n",
       "    });\n",
       "    return ws;\n",
       "};\n",
       "\n",
       "mpl.mpl_figure_comm = function (comm, msg) {\n",
       "    // This is the function which gets called when the mpl process\n",
       "    // starts-up an IPython Comm through the \"matplotlib\" channel.\n",
       "\n",
       "    var id = msg.content.data.id;\n",
       "    // Get hold of the div created by the display call when the Comm\n",
       "    // socket was opened in Python.\n",
       "    var element = document.getElementById(id);\n",
       "    var ws_proxy = comm_websocket_adapter(comm);\n",
       "\n",
       "    function ondownload(figure, _format) {\n",
       "        window.open(figure.canvas.toDataURL());\n",
       "    }\n",
       "\n",
       "    var fig = new mpl.figure(id, ws_proxy, ondownload, element);\n",
       "\n",
       "    // Call onopen now - mpl needs it, as it is assuming we've passed it a real\n",
       "    // web socket which is closed, not our websocket->open comm proxy.\n",
       "    ws_proxy.onopen();\n",
       "\n",
       "    fig.parent_element = element;\n",
       "    fig.cell_info = mpl.find_output_cell(\"<div id='\" + id + \"'></div>\");\n",
       "    if (!fig.cell_info) {\n",
       "        console.error('Failed to find cell for figure', id, fig);\n",
       "        return;\n",
       "    }\n",
       "    fig.cell_info[0].output_area.element.on(\n",
       "        'cleared',\n",
       "        { fig: fig },\n",
       "        fig._remove_fig_handler\n",
       "    );\n",
       "};\n",
       "\n",
       "mpl.figure.prototype.handle_close = function (fig, msg) {\n",
       "    var width = fig.canvas.width / fig.ratio;\n",
       "    fig.cell_info[0].output_area.element.off(\n",
       "        'cleared',\n",
       "        fig._remove_fig_handler\n",
       "    );\n",
       "    fig.resizeObserverInstance.unobserve(fig.canvas_div);\n",
       "\n",
       "    // Update the output cell to use the data from the current canvas.\n",
       "    fig.push_to_output();\n",
       "    var dataURL = fig.canvas.toDataURL();\n",
       "    // Re-enable the keyboard manager in IPython - without this line, in FF,\n",
       "    // the notebook keyboard shortcuts fail.\n",
       "    IPython.keyboard_manager.enable();\n",
       "    fig.parent_element.innerHTML =\n",
       "        '<img src=\"' + dataURL + '\" width=\"' + width + '\">';\n",
       "    fig.close_ws(fig, msg);\n",
       "};\n",
       "\n",
       "mpl.figure.prototype.close_ws = function (fig, msg) {\n",
       "    fig.send_message('closing', msg);\n",
       "    // fig.ws.close()\n",
       "};\n",
       "\n",
       "mpl.figure.prototype.push_to_output = function (_remove_interactive) {\n",
       "    // Turn the data on the canvas into data in the output cell.\n",
       "    var width = this.canvas.width / this.ratio;\n",
       "    var dataURL = this.canvas.toDataURL();\n",
       "    this.cell_info[1]['text/html'] =\n",
       "        '<img src=\"' + dataURL + '\" width=\"' + width + '\">';\n",
       "};\n",
       "\n",
       "mpl.figure.prototype.updated_canvas_event = function () {\n",
       "    // Tell IPython that the notebook contents must change.\n",
       "    IPython.notebook.set_dirty(true);\n",
       "    this.send_message('ack', {});\n",
       "    var fig = this;\n",
       "    // Wait a second, then push the new image to the DOM so\n",
       "    // that it is saved nicely (might be nice to debounce this).\n",
       "    setTimeout(function () {\n",
       "        fig.push_to_output();\n",
       "    }, 1000);\n",
       "};\n",
       "\n",
       "mpl.figure.prototype._init_toolbar = function () {\n",
       "    var fig = this;\n",
       "\n",
       "    var toolbar = document.createElement('div');\n",
       "    toolbar.classList = 'btn-toolbar';\n",
       "    this.root.appendChild(toolbar);\n",
       "\n",
       "    function on_click_closure(name) {\n",
       "        return function (_event) {\n",
       "            return fig.toolbar_button_onclick(name);\n",
       "        };\n",
       "    }\n",
       "\n",
       "    function on_mouseover_closure(tooltip) {\n",
       "        return function (event) {\n",
       "            if (!event.currentTarget.disabled) {\n",
       "                return fig.toolbar_button_onmouseover(tooltip);\n",
       "            }\n",
       "        };\n",
       "    }\n",
       "\n",
       "    fig.buttons = {};\n",
       "    var buttonGroup = document.createElement('div');\n",
       "    buttonGroup.classList = 'btn-group';\n",
       "    var button;\n",
       "    for (var toolbar_ind in mpl.toolbar_items) {\n",
       "        var name = mpl.toolbar_items[toolbar_ind][0];\n",
       "        var tooltip = mpl.toolbar_items[toolbar_ind][1];\n",
       "        var image = mpl.toolbar_items[toolbar_ind][2];\n",
       "        var method_name = mpl.toolbar_items[toolbar_ind][3];\n",
       "\n",
       "        if (!name) {\n",
       "            /* Instead of a spacer, we start a new button group. */\n",
       "            if (buttonGroup.hasChildNodes()) {\n",
       "                toolbar.appendChild(buttonGroup);\n",
       "            }\n",
       "            buttonGroup = document.createElement('div');\n",
       "            buttonGroup.classList = 'btn-group';\n",
       "            continue;\n",
       "        }\n",
       "\n",
       "        button = fig.buttons[name] = document.createElement('button');\n",
       "        button.classList = 'btn btn-default';\n",
       "        button.href = '#';\n",
       "        button.title = name;\n",
       "        button.innerHTML = '<i class=\"fa ' + image + ' fa-lg\"></i>';\n",
       "        button.addEventListener('click', on_click_closure(method_name));\n",
       "        button.addEventListener('mouseover', on_mouseover_closure(tooltip));\n",
       "        buttonGroup.appendChild(button);\n",
       "    }\n",
       "\n",
       "    if (buttonGroup.hasChildNodes()) {\n",
       "        toolbar.appendChild(buttonGroup);\n",
       "    }\n",
       "\n",
       "    // Add the status bar.\n",
       "    var status_bar = document.createElement('span');\n",
       "    status_bar.classList = 'mpl-message pull-right';\n",
       "    toolbar.appendChild(status_bar);\n",
       "    this.message = status_bar;\n",
       "\n",
       "    // Add the close button to the window.\n",
       "    var buttongrp = document.createElement('div');\n",
       "    buttongrp.classList = 'btn-group inline pull-right';\n",
       "    button = document.createElement('button');\n",
       "    button.classList = 'btn btn-mini btn-primary';\n",
       "    button.href = '#';\n",
       "    button.title = 'Stop Interaction';\n",
       "    button.innerHTML = '<i class=\"fa fa-power-off icon-remove icon-large\"></i>';\n",
       "    button.addEventListener('click', function (_evt) {\n",
       "        fig.handle_close(fig, {});\n",
       "    });\n",
       "    button.addEventListener(\n",
       "        'mouseover',\n",
       "        on_mouseover_closure('Stop Interaction')\n",
       "    );\n",
       "    buttongrp.appendChild(button);\n",
       "    var titlebar = this.root.querySelector('.ui-dialog-titlebar');\n",
       "    titlebar.insertBefore(buttongrp, titlebar.firstChild);\n",
       "};\n",
       "\n",
       "mpl.figure.prototype._remove_fig_handler = function (event) {\n",
       "    var fig = event.data.fig;\n",
       "    if (event.target !== this) {\n",
       "        // Ignore bubbled events from children.\n",
       "        return;\n",
       "    }\n",
       "    fig.close_ws(fig, {});\n",
       "};\n",
       "\n",
       "mpl.figure.prototype._root_extra_style = function (el) {\n",
       "    el.style.boxSizing = 'content-box'; // override notebook setting of border-box.\n",
       "};\n",
       "\n",
       "mpl.figure.prototype._canvas_extra_style = function (el) {\n",
       "    // this is important to make the div 'focusable\n",
       "    el.setAttribute('tabindex', 0);\n",
       "    // reach out to IPython and tell the keyboard manager to turn it's self\n",
       "    // off when our div gets focus\n",
       "\n",
       "    // location in version 3\n",
       "    if (IPython.notebook.keyboard_manager) {\n",
       "        IPython.notebook.keyboard_manager.register_events(el);\n",
       "    } else {\n",
       "        // location in version 2\n",
       "        IPython.keyboard_manager.register_events(el);\n",
       "    }\n",
       "};\n",
       "\n",
       "mpl.figure.prototype._key_event_extra = function (event, _name) {\n",
       "    // Check for shift+enter\n",
       "    if (event.shiftKey && event.which === 13) {\n",
       "        this.canvas_div.blur();\n",
       "        // select the cell after this one\n",
       "        var index = IPython.notebook.find_cell_index(this.cell_info[0]);\n",
       "        IPython.notebook.select(index + 1);\n",
       "    }\n",
       "};\n",
       "\n",
       "mpl.figure.prototype.handle_save = function (fig, _msg) {\n",
       "    fig.ondownload(fig, null);\n",
       "};\n",
       "\n",
       "mpl.find_output_cell = function (html_output) {\n",
       "    // Return the cell and output element which can be found *uniquely* in the notebook.\n",
       "    // Note - this is a bit hacky, but it is done because the \"notebook_saving.Notebook\"\n",
       "    // IPython event is triggered only after the cells have been serialised, which for\n",
       "    // our purposes (turning an active figure into a static one), is too late.\n",
       "    var cells = IPython.notebook.get_cells();\n",
       "    var ncells = cells.length;\n",
       "    for (var i = 0; i < ncells; i++) {\n",
       "        var cell = cells[i];\n",
       "        if (cell.cell_type === 'code') {\n",
       "            for (var j = 0; j < cell.output_area.outputs.length; j++) {\n",
       "                var data = cell.output_area.outputs[j];\n",
       "                if (data.data) {\n",
       "                    // IPython >= 3 moved mimebundle to data attribute of output\n",
       "                    data = data.data;\n",
       "                }\n",
       "                if (data['text/html'] === html_output) {\n",
       "                    return [cell, data, j];\n",
       "                }\n",
       "            }\n",
       "        }\n",
       "    }\n",
       "};\n",
       "\n",
       "// Register the function which deals with the matplotlib target/channel.\n",
       "// The kernel may be null if the page has been refreshed.\n",
       "if (IPython.notebook.kernel !== null) {\n",
       "    IPython.notebook.kernel.comm_manager.register_target(\n",
       "        'matplotlib',\n",
       "        mpl.mpl_figure_comm\n",
       "    );\n",
       "}\n"
      ],
      "text/plain": [
       "<IPython.core.display.Javascript object>"
      ]
     },
     "metadata": {},
     "output_type": "display_data"
    },
    {
     "data": {
      "text/html": [
       "<img src=\"data:image/png;base64,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\" width=\"432\">"
      ],
      "text/plain": [
       "<IPython.core.display.HTML object>"
      ]
     },
     "metadata": {},
     "output_type": "display_data"
    },
    {
     "data": {
      "text/plain": [
       "[<matplotlib.lines.Line2D at 0x7f0d55fcbb20>]"
      ]
     },
     "execution_count": 91,
     "metadata": {},
     "output_type": "execute_result"
    }
   ],
   "source": [
    "%matplotlib notebook\n",
    "plt.plot(xdos,spliner(xdos + 0.005), c= 'r')\n",
    "plt.plot(xdos, ldos[0], c= 'b')"
   ]
  },
  {
   "cell_type": "code",
   "execution_count": 96,
   "id": "5dde159c",
   "metadata": {
    "ExecuteTime": {
     "end_time": "2023-03-31T13:03:08.750379Z",
     "start_time": "2023-03-31T13:02:17.724498Z"
    },
    "hide_input": false,
    "scrolled": false
   },
   "outputs": [
    {
     "name": "stdout",
     "output_type": "stream",
     "text": [
      "tensor(6.2441)\n",
      "tensor(3.0102)\n",
      "tensor(1.0327)\n",
      "tensor(0.2976)\n",
      "tensor(0.0765)\n",
      "tensor(0.0193)\n",
      "tensor(0.0048)\n",
      "tensor(0.0012)\n",
      "tensor(0.0003)\n",
      "tensor(7.5486e-05)\n",
      "tensor(1.8872e-05)\n",
      "tensor(4.7179e-06)\n",
      "tensor(1.1795e-06)\n",
      "tensor(2.9487e-07)\n"
     ]
    }
   ],
   "source": [
    "#we want to spline up to emin -3,  rbound (maybe efermi) + 3,  \n",
    "#trying full spectrum for now\n",
    "sigma = 0.3\n",
    "def value_fn(x):\n",
    "    l_dos_E = torch.sum(torch.exp(-0.5*((x - full_eigen_energies[0].view(-1,1))/sigma)**2), dim = 0) * 2 * normalization[0]\n",
    "    return l_dos_E\n",
    "def derivative_fn(x):\n",
    "    dfn_E = torch.sum(torch.exp(-0.5*((x - full_eigen_energies[0].view(-1,1))/sigma)**2), dim =0) * 2 * normalization[0]*(-1 * x/ sigma**2)\n",
    "    return dfn_E\n",
    "Dynamic_Spliner_0 = DynamicSpliner(xdos[0], xdos[-1], value_fn, derivative_fn, 1e-7, \"cpu\") "
   ]
  },
  {
   "cell_type": "code",
   "execution_count": 47,
   "id": "f34cf2c4",
   "metadata": {
    "ExecuteTime": {
     "end_time": "2023-03-31T12:31:51.389476Z",
     "start_time": "2023-03-31T12:30:45.247052Z"
    }
   },
   "outputs": [
    {
     "name": "stderr",
     "output_type": "stream",
     "text": [
      "  0%|▏                                                                                                                                                                         | 1/1039 [01:06<19:03:14, 66.08s/it]\n"
     ]
    },
    {
     "ename": "KeyboardInterrupt",
     "evalue": "",
     "output_type": "error",
     "traceback": [
      "\u001b[0;31m---------------------------------------------------------------------------\u001b[0m",
      "\u001b[0;31mKeyboardInterrupt\u001b[0m                         Traceback (most recent call last)",
      "Input \u001b[0;32mIn [47]\u001b[0m, in \u001b[0;36m<cell line: 2>\u001b[0;34m()\u001b[0m\n\u001b[1;32m     10\u001b[0m     dfn_E \u001b[38;5;241m=\u001b[39m torch\u001b[38;5;241m.\u001b[39msum(torch\u001b[38;5;241m.\u001b[39mexp(\u001b[38;5;241m-\u001b[39m\u001b[38;5;241m0.5\u001b[39m\u001b[38;5;241m*\u001b[39m((x \u001b[38;5;241m-\u001b[39m full_eigen_energies[i]\u001b[38;5;241m.\u001b[39mview(\u001b[38;5;241m-\u001b[39m\u001b[38;5;241m1\u001b[39m,\u001b[38;5;241m1\u001b[39m))\u001b[38;5;241m/\u001b[39msigma)\u001b[38;5;241m*\u001b[39m\u001b[38;5;241m*\u001b[39m\u001b[38;5;241m2\u001b[39m), dim \u001b[38;5;241m=\u001b[39m\u001b[38;5;241m0\u001b[39m) \u001b[38;5;241m*\u001b[39m \u001b[38;5;241m2\u001b[39m \u001b[38;5;241m*\u001b[39m normalization[\u001b[38;5;241m0\u001b[39m]\u001b[38;5;241m*\u001b[39m(\u001b[38;5;241m-\u001b[39m\u001b[38;5;241m1\u001b[39m \u001b[38;5;241m*\u001b[39m x\u001b[38;5;241m/\u001b[39m sigma\u001b[38;5;241m*\u001b[39m\u001b[38;5;241m*\u001b[39m\u001b[38;5;241m2\u001b[39m)\n\u001b[1;32m     11\u001b[0m     \u001b[38;5;28;01mreturn\u001b[39;00m dfn_E\n\u001b[0;32m---> 12\u001b[0m Dynamic_Spliner_i \u001b[38;5;241m=\u001b[39m \u001b[43mDynamicSpliner\u001b[49m\u001b[43m(\u001b[49m\u001b[43memin\u001b[49m\u001b[43m \u001b[49m\u001b[38;5;241;43m-\u001b[39;49m\u001b[38;5;241;43m3\u001b[39;49m\u001b[43m,\u001b[49m\u001b[43m \u001b[49m\u001b[38;5;28;43mmax\u001b[39;49m\u001b[43m(\u001b[49m\u001b[43mefermi\u001b[49m\u001b[43m)\u001b[49m\u001b[43m \u001b[49m\u001b[38;5;241;43m+\u001b[39;49m\u001b[43m \u001b[49m\u001b[38;5;241;43m3\u001b[39;49m\u001b[43m,\u001b[49m\u001b[43m \u001b[49m\u001b[43mvalue_fn\u001b[49m\u001b[43m,\u001b[49m\u001b[43m \u001b[49m\u001b[43mderivative_fn\u001b[49m\u001b[43m,\u001b[49m\u001b[43m \u001b[49m\u001b[38;5;241;43m1e-7\u001b[39;49m\u001b[43m,\u001b[49m\u001b[43m \u001b[49m\u001b[38;5;124;43m\"\u001b[39;49m\u001b[38;5;124;43mcpu\u001b[39;49m\u001b[38;5;124;43m\"\u001b[39;49m\u001b[43m)\u001b[49m \n\u001b[1;32m     13\u001b[0m Spliners\u001b[38;5;241m.\u001b[39mappend(Dynamic_Spliner_i)\n",
      "Input \u001b[0;32mIn [45]\u001b[0m, in \u001b[0;36mDynamicSpliner.__init__\u001b[0;34m(self, start, stop, values_fn, derivatives_fn, requested_accuracy, device)\u001b[0m\n\u001b[1;32m     40\u001b[0m             intermediate_positions \u001b[38;5;241m=\u001b[39m torch\u001b[38;5;241m.\u001b[39mlinspace(\n\u001b[1;32m     41\u001b[0m                 \u001b[38;5;28mself\u001b[39m\u001b[38;5;241m.\u001b[39mstart \u001b[38;5;241m+\u001b[39m half_step, \u001b[38;5;28mself\u001b[39m\u001b[38;5;241m.\u001b[39mstop \u001b[38;5;241m-\u001b[39m half_step, n_intermediate_positions\n\u001b[1;32m     42\u001b[0m             )\n\u001b[1;32m     44\u001b[0m             estimated_values \u001b[38;5;241m=\u001b[39m \u001b[38;5;28mself\u001b[39m\u001b[38;5;241m.\u001b[39mcompute(intermediate_positions)\n\u001b[0;32m---> 45\u001b[0m             new_values \u001b[38;5;241m=\u001b[39m \u001b[38;5;28;43mself\u001b[39;49m\u001b[38;5;241;43m.\u001b[39;49m\u001b[43mvalues_fn\u001b[49m\u001b[43m(\u001b[49m\u001b[43mintermediate_positions\u001b[49m\u001b[43m)\u001b[49m\n\u001b[1;32m     47\u001b[0m             mean_absolute_error \u001b[38;5;241m=\u001b[39m torch\u001b[38;5;241m.\u001b[39mmean(torch\u001b[38;5;241m.\u001b[39mabs(estimated_values \u001b[38;5;241m-\u001b[39m new_values))\n\u001b[1;32m     48\u001b[0m \u001b[38;5;66;03m#             print (intermediate_positions[torch.max(estimated_values - new_values, 0)[1]])\u001b[39;00m\n\u001b[1;32m     49\u001b[0m \u001b[38;5;66;03m#             print (estimated_values[torch.max(estimated_values - new_values, 0)[1]])\u001b[39;00m\n\u001b[1;32m     50\u001b[0m \u001b[38;5;66;03m#             print (new_values[torch.max(estimated_values - new_values, 0)[1]])\u001b[39;00m\n",
      "Input \u001b[0;32mIn [47]\u001b[0m, in \u001b[0;36mvalue_fn\u001b[0;34m(x)\u001b[0m\n\u001b[1;32m      6\u001b[0m \u001b[38;5;28;01mdef\u001b[39;00m \u001b[38;5;21mvalue_fn\u001b[39m(x):\n\u001b[0;32m----> 7\u001b[0m     l_dos_E \u001b[38;5;241m=\u001b[39m torch\u001b[38;5;241m.\u001b[39msum(\u001b[43mtorch\u001b[49m\u001b[38;5;241;43m.\u001b[39;49m\u001b[43mexp\u001b[49m\u001b[43m(\u001b[49m\u001b[38;5;241;43m-\u001b[39;49m\u001b[38;5;241;43m0.5\u001b[39;49m\u001b[38;5;241;43m*\u001b[39;49m\u001b[43m(\u001b[49m\u001b[43m(\u001b[49m\u001b[43mx\u001b[49m\u001b[43m \u001b[49m\u001b[38;5;241;43m-\u001b[39;49m\u001b[43m \u001b[49m\u001b[43mfull_eigen_energies\u001b[49m\u001b[43m[\u001b[49m\u001b[43mi\u001b[49m\u001b[43m]\u001b[49m\u001b[38;5;241;43m.\u001b[39;49m\u001b[43mview\u001b[49m\u001b[43m(\u001b[49m\u001b[38;5;241;43m-\u001b[39;49m\u001b[38;5;241;43m1\u001b[39;49m\u001b[43m,\u001b[49m\u001b[38;5;241;43m1\u001b[39;49m\u001b[43m)\u001b[49m\u001b[43m)\u001b[49m\u001b[38;5;241;43m/\u001b[39;49m\u001b[43msigma\u001b[49m\u001b[43m)\u001b[49m\u001b[38;5;241;43m*\u001b[39;49m\u001b[38;5;241;43m*\u001b[39;49m\u001b[38;5;241;43m2\u001b[39;49m\u001b[43m)\u001b[49m, dim \u001b[38;5;241m=\u001b[39m \u001b[38;5;241m0\u001b[39m) \u001b[38;5;241m*\u001b[39m \u001b[38;5;241m2\u001b[39m \u001b[38;5;241m*\u001b[39m normalization[\u001b[38;5;241m0\u001b[39m]\n\u001b[1;32m      8\u001b[0m     \u001b[38;5;28;01mreturn\u001b[39;00m l_dos_E\n",
      "\u001b[0;31mKeyboardInterrupt\u001b[0m: "
     ]
    }
   ],
   "source": [
    "Spliners = []\n",
    "for i in tqdm(range(n_structures)):\n",
    "    #we want to spline up to emin -3, and max(efermi) + 3\n",
    "\n",
    "    sigma = 0.3\n",
    "    def value_fn(x):\n",
    "        l_dos_E = torch.sum(torch.exp(-0.5*((x - full_eigen_energies[i].view(-1,1))/sigma)**2), dim = 0) * 2 * normalization[0]\n",
    "        return l_dos_E\n",
    "    def derivative_fn(x):\n",
    "        dfn_E = torch.sum(torch.exp(-0.5*((x - full_eigen_energies[i].view(-1,1))/sigma)**2), dim =0) * 2 * normalization[0]*(-1 * x/ sigma**2)\n",
    "        return dfn_E\n",
    "    Dynamic_Spliner_i = DynamicSpliner(emin -3, max(efermi) + 3, value_fn, derivative_fn, 1e-7, \"cpu\") \n",
    "    Spliners.append(Dynamic_Spliner_i)"
   ]
  },
  {
   "cell_type": "code",
   "execution_count": 37,
   "id": "8d13c585",
   "metadata": {
    "ExecuteTime": {
     "end_time": "2023-03-31T10:06:33.182007Z",
     "start_time": "2023-03-31T10:06:11.473870Z"
    }
   },
   "outputs": [],
   "source": [
    "a = value_fn(Dynamic_Spliner_0.spline_positions)"
   ]
  },
  {
   "cell_type": "code",
   "execution_count": 38,
   "id": "70e23e7e",
   "metadata": {
    "ExecuteTime": {
     "end_time": "2023-03-31T10:06:38.661754Z",
     "start_time": "2023-03-31T10:06:33.185712Z"
    }
   },
   "outputs": [
    {
     "data": {
      "text/plain": [
       "[<matplotlib.lines.Line2D at 0x7f0d5746b040>]"
      ]
     },
     "execution_count": 38,
     "metadata": {},
     "output_type": "execute_result"
    },
    {
     "data": {
      "image/png": "[encoded data removed]",
      "text/plain": [
       "<Figure size 432x288 with 1 Axes>"
      ]
     },
     "metadata": {
      "needs_background": "light"
     },
     "output_type": "display_data"
    }
   ],
   "source": [
    "\n",
    "plt.plot(Dynamic_Spliner_0.spline_positions, a, c = 'r')\n",
    "plt.plot(Dynamic_Spliner_0.spline_positions, Dynamic_Spliner_0.spline_values, c= 'b')"
   ]
  },
  {
   "cell_type": "code",
   "execution_count": 51,
   "id": "58f9fc17",
   "metadata": {
    "ExecuteTime": {
     "end_time": "2023-03-30T16:03:43.922157Z",
     "start_time": "2023-03-30T16:03:43.725359Z"
    },
    "hide_input": false
   },
   "outputs": [],
   "source": [
    "l_dos_E = torch.sum(torch.exp(-0.5*((xdos - full_eigen_energies[0].view(-1,1))/sigma)**2), dim = 0) * 2 * normalization[0]\n",
    "dfn_E = torch.sum(torch.exp(-0.5*((xdos - full_eigen_energies[0].view(-1,1))/sigma)**2), dim =0) * 2 * normalization[0]*(-1 * xdos/ sigma**2)\n"
   ]
  },
  {
   "cell_type": "code",
   "execution_count": 85,
   "id": "29e5aa05",
   "metadata": {
    "ExecuteTime": {
     "end_time": "2023-03-30T19:58:50.846728Z",
     "start_time": "2023-03-30T19:58:50.805573Z"
    }
   },
   "outputs": [
    {
     "data": {
      "application/javascript": [
       "/* Put everything inside the global mpl namespace */\n",
       "/* global mpl */\n",
       "window.mpl = {};\n",
       "\n",
       "mpl.get_websocket_type = function () {\n",
       "    if (typeof WebSocket !== 'undefined') {\n",
       "        return WebSocket;\n",
       "    } else if (typeof MozWebSocket !== 'undefined') {\n",
       "        return MozWebSocket;\n",
       "    } else {\n",
       "        alert(\n",
       "            'Your browser does not have WebSocket support. ' +\n",
       "                'Please try Chrome, Safari or Firefox ≥ 6. ' +\n",
       "                'Firefox 4 and 5 are also supported but you ' +\n",
       "                'have to enable WebSockets in about:config.'\n",
       "        );\n",
       "    }\n",
       "};\n",
       "\n",
       "mpl.figure = function (figure_id, websocket, ondownload, parent_element) {\n",
       "    this.id = figure_id;\n",
       "\n",
       "    this.ws = websocket;\n",
       "\n",
       "    this.supports_binary = this.ws.binaryType !== undefined;\n",
       "\n",
       "    if (!this.supports_binary) {\n",
       "        var warnings = document.getElementById('mpl-warnings');\n",
       "        if (warnings) {\n",
       "            warnings.style.display = 'block';\n",
       "            warnings.textContent =\n",
       "                'This browser does not support binary websocket messages. ' +\n",
       "                'Performance may be slow.';\n",
       "        }\n",
       "    }\n",
       "\n",
       "    this.imageObj = new Image();\n",
       "\n",
       "    this.context = undefined;\n",
       "    this.message = undefined;\n",
       "    this.canvas = undefined;\n",
       "    this.rubberband_canvas = undefined;\n",
       "    this.rubberband_context = undefined;\n",
       "    this.format_dropdown = undefined;\n",
       "\n",
       "    this.image_mode = 'full';\n",
       "\n",
       "    this.root = document.createElement('div');\n",
       "    this.root.setAttribute('style', 'display: inline-block');\n",
       "    this._root_extra_style(this.root);\n",
       "\n",
       "    parent_element.appendChild(this.root);\n",
       "\n",
       "    this._init_header(this);\n",
       "    this._init_canvas(this);\n",
       "    this._init_toolbar(this);\n",
       "\n",
       "    var fig = this;\n",
       "\n",
       "    this.waiting = false;\n",
       "\n",
       "    this.ws.onopen = function () {\n",
       "        fig.send_message('supports_binary', { value: fig.supports_binary });\n",
       "        fig.send_message('send_image_mode', {});\n",
       "        if (fig.ratio !== 1) {\n",
       "            fig.send_message('set_device_pixel_ratio', {\n",
       "                device_pixel_ratio: fig.ratio,\n",
       "            });\n",
       "        }\n",
       "        fig.send_message('refresh', {});\n",
       "    };\n",
       "\n",
       "    this.imageObj.onload = function () {\n",
       "        if (fig.image_mode === 'full') {\n",
       "            // Full images could contain transparency (where diff images\n",
       "            // almost always do), so we need to clear the canvas so that\n",
       "            // there is no ghosting.\n",
       "            fig.context.clearRect(0, 0, fig.canvas.width, fig.canvas.height);\n",
       "        }\n",
       "        fig.context.drawImage(fig.imageObj, 0, 0);\n",
       "    };\n",
       "\n",
       "    this.imageObj.onunload = function () {\n",
       "        fig.ws.close();\n",
       "    };\n",
       "\n",
       "    this.ws.onmessage = this._make_on_message_function(this);\n",
       "\n",
       "    this.ondownload = ondownload;\n",
       "};\n",
       "\n",
       "mpl.figure.prototype._init_header = function () {\n",
       "    var titlebar = document.createElement('div');\n",
       "    titlebar.classList =\n",
       "        'ui-dialog-titlebar ui-widget-header ui-corner-all ui-helper-clearfix';\n",
       "    var titletext = document.createElement('div');\n",
       "    titletext.classList = 'ui-dialog-title';\n",
       "    titletext.setAttribute(\n",
       "        'style',\n",
       "        'width: 100%; text-align: center; padding: 3px;'\n",
       "    );\n",
       "    titlebar.appendChild(titletext);\n",
       "    this.root.appendChild(titlebar);\n",
       "    this.header = titletext;\n",
       "};\n",
       "\n",
       "mpl.figure.prototype._canvas_extra_style = function (_canvas_div) {};\n",
       "\n",
       "mpl.figure.prototype._root_extra_style = function (_canvas_div) {};\n",
       "\n",
       "mpl.figure.prototype._init_canvas = function () {\n",
       "    var fig = this;\n",
       "\n",
       "    var canvas_div = (this.canvas_div = document.createElement('div'));\n",
       "    canvas_div.setAttribute(\n",
       "        'style',\n",
       "        'border: 1px solid #ddd;' +\n",
       "            'box-sizing: content-box;' +\n",
       "            'clear: both;' +\n",
       "            'min-height: 1px;' +\n",
       "            'min-width: 1px;' +\n",
       "            'outline: 0;' +\n",
       "            'overflow: hidden;' +\n",
       "            'position: relative;' +\n",
       "            'resize: both;'\n",
       "    );\n",
       "\n",
       "    function on_keyboard_event_closure(name) {\n",
       "        return function (event) {\n",
       "            return fig.key_event(event, name);\n",
       "        };\n",
       "    }\n",
       "\n",
       "    canvas_div.addEventListener(\n",
       "        'keydown',\n",
       "        on_keyboard_event_closure('key_press')\n",
       "    );\n",
       "    canvas_div.addEventListener(\n",
       "        'keyup',\n",
       "        on_keyboard_event_closure('key_release')\n",
       "    );\n",
       "\n",
       "    this._canvas_extra_style(canvas_div);\n",
       "    this.root.appendChild(canvas_div);\n",
       "\n",
       "    var canvas = (this.canvas = document.createElement('canvas'));\n",
       "    canvas.classList.add('mpl-canvas');\n",
       "    canvas.setAttribute('style', 'box-sizing: content-box;');\n",
       "\n",
       "    this.context = canvas.getContext('2d');\n",
       "\n",
       "    var backingStore =\n",
       "        this.context.backingStorePixelRatio ||\n",
       "        this.context.webkitBackingStorePixelRatio ||\n",
       "        this.context.mozBackingStorePixelRatio ||\n",
       "        this.context.msBackingStorePixelRatio ||\n",
       "        this.context.oBackingStorePixelRatio ||\n",
       "        this.context.backingStorePixelRatio ||\n",
       "        1;\n",
       "\n",
       "    this.ratio = (window.devicePixelRatio || 1) / backingStore;\n",
       "\n",
       "    var rubberband_canvas = (this.rubberband_canvas = document.createElement(\n",
       "        'canvas'\n",
       "    ));\n",
       "    rubberband_canvas.setAttribute(\n",
       "        'style',\n",
       "        'box-sizing: content-box; position: absolute; left: 0; top: 0; z-index: 1;'\n",
       "    );\n",
       "\n",
       "    // Apply a ponyfill if ResizeObserver is not implemented by browser.\n",
       "    if (this.ResizeObserver === undefined) {\n",
       "        if (window.ResizeObserver !== undefined) {\n",
       "            this.ResizeObserver = window.ResizeObserver;\n",
       "        } else {\n",
       "            var obs = _JSXTOOLS_RESIZE_OBSERVER({});\n",
       "            this.ResizeObserver = obs.ResizeObserver;\n",
       "        }\n",
       "    }\n",
       "\n",
       "    this.resizeObserverInstance = new this.ResizeObserver(function (entries) {\n",
       "        var nentries = entries.length;\n",
       "        for (var i = 0; i < nentries; i++) {\n",
       "            var entry = entries[i];\n",
       "            var width, height;\n",
       "            if (entry.contentBoxSize) {\n",
       "                if (entry.contentBoxSize instanceof Array) {\n",
       "                    // Chrome 84 implements new version of spec.\n",
       "                    width = entry.contentBoxSize[0].inlineSize;\n",
       "                    height = entry.contentBoxSize[0].blockSize;\n",
       "                } else {\n",
       "                    // Firefox implements old version of spec.\n",
       "                    width = entry.contentBoxSize.inlineSize;\n",
       "                    height = entry.contentBoxSize.blockSize;\n",
       "                }\n",
       "            } else {\n",
       "                // Chrome <84 implements even older version of spec.\n",
       "                width = entry.contentRect.width;\n",
       "                height = entry.contentRect.height;\n",
       "            }\n",
       "\n",
       "            // Keep the size of the canvas and rubber band canvas in sync with\n",
       "            // the canvas container.\n",
       "            if (entry.devicePixelContentBoxSize) {\n",
       "                // Chrome 84 implements new version of spec.\n",
       "                canvas.setAttribute(\n",
       "                    'width',\n",
       "                    entry.devicePixelContentBoxSize[0].inlineSize\n",
       "                );\n",
       "                canvas.setAttribute(\n",
       "                    'height',\n",
       "                    entry.devicePixelContentBoxSize[0].blockSize\n",
       "                );\n",
       "            } else {\n",
       "                canvas.setAttribute('width', width * fig.ratio);\n",
       "                canvas.setAttribute('height', height * fig.ratio);\n",
       "            }\n",
       "            canvas.setAttribute(\n",
       "                'style',\n",
       "                'width: ' + width + 'px; height: ' + height + 'px;'\n",
       "            );\n",
       "\n",
       "            rubberband_canvas.setAttribute('width', width);\n",
       "            rubberband_canvas.setAttribute('height', height);\n",
       "\n",
       "            // And update the size in Python. We ignore the initial 0/0 size\n",
       "            // that occurs as the element is placed into the DOM, which should\n",
       "            // otherwise not happen due to the minimum size styling.\n",
       "            if (fig.ws.readyState == 1 && width != 0 && height != 0) {\n",
       "                fig.request_resize(width, height);\n",
       "            }\n",
       "        }\n",
       "    });\n",
       "    this.resizeObserverInstance.observe(canvas_div);\n",
       "\n",
       "    function on_mouse_event_closure(name) {\n",
       "        return function (event) {\n",
       "            return fig.mouse_event(event, name);\n",
       "        };\n",
       "    }\n",
       "\n",
       "    rubberband_canvas.addEventListener(\n",
       "        'mousedown',\n",
       "        on_mouse_event_closure('button_press')\n",
       "    );\n",
       "    rubberband_canvas.addEventListener(\n",
       "        'mouseup',\n",
       "        on_mouse_event_closure('button_release')\n",
       "    );\n",
       "    rubberband_canvas.addEventListener(\n",
       "        'dblclick',\n",
       "        on_mouse_event_closure('dblclick')\n",
       "    );\n",
       "    // Throttle sequential mouse events to 1 every 20ms.\n",
       "    rubberband_canvas.addEventListener(\n",
       "        'mousemove',\n",
       "        on_mouse_event_closure('motion_notify')\n",
       "    );\n",
       "\n",
       "    rubberband_canvas.addEventListener(\n",
       "        'mouseenter',\n",
       "        on_mouse_event_closure('figure_enter')\n",
       "    );\n",
       "    rubberband_canvas.addEventListener(\n",
       "        'mouseleave',\n",
       "        on_mouse_event_closure('figure_leave')\n",
       "    );\n",
       "\n",
       "    canvas_div.addEventListener('wheel', function (event) {\n",
       "        if (event.deltaY < 0) {\n",
       "            event.step = 1;\n",
       "        } else {\n",
       "            event.step = -1;\n",
       "        }\n",
       "        on_mouse_event_closure('scroll')(event);\n",
       "    });\n",
       "\n",
       "    canvas_div.appendChild(canvas);\n",
       "    canvas_div.appendChild(rubberband_canvas);\n",
       "\n",
       "    this.rubberband_context = rubberband_canvas.getContext('2d');\n",
       "    this.rubberband_context.strokeStyle = '#000000';\n",
       "\n",
       "    this._resize_canvas = function (width, height, forward) {\n",
       "        if (forward) {\n",
       "            canvas_div.style.width = width + 'px';\n",
       "            canvas_div.style.height = height + 'px';\n",
       "        }\n",
       "    };\n",
       "\n",
       "    // Disable right mouse context menu.\n",
       "    this.rubberband_canvas.addEventListener('contextmenu', function (_e) {\n",
       "        event.preventDefault();\n",
       "        return false;\n",
       "    });\n",
       "\n",
       "    function set_focus() {\n",
       "        canvas.focus();\n",
       "        canvas_div.focus();\n",
       "    }\n",
       "\n",
       "    window.setTimeout(set_focus, 100);\n",
       "};\n",
       "\n",
       "mpl.figure.prototype._init_toolbar = function () {\n",
       "    var fig = this;\n",
       "\n",
       "    var toolbar = document.createElement('div');\n",
       "    toolbar.classList = 'mpl-toolbar';\n",
       "    this.root.appendChild(toolbar);\n",
       "\n",
       "    function on_click_closure(name) {\n",
       "        return function (_event) {\n",
       "            return fig.toolbar_button_onclick(name);\n",
       "        };\n",
       "    }\n",
       "\n",
       "    function on_mouseover_closure(tooltip) {\n",
       "        return function (event) {\n",
       "            if (!event.currentTarget.disabled) {\n",
       "                return fig.toolbar_button_onmouseover(tooltip);\n",
       "            }\n",
       "        };\n",
       "    }\n",
       "\n",
       "    fig.buttons = {};\n",
       "    var buttonGroup = document.createElement('div');\n",
       "    buttonGroup.classList = 'mpl-button-group';\n",
       "    for (var toolbar_ind in mpl.toolbar_items) {\n",
       "        var name = mpl.toolbar_items[toolbar_ind][0];\n",
       "        var tooltip = mpl.toolbar_items[toolbar_ind][1];\n",
       "        var image = mpl.toolbar_items[toolbar_ind][2];\n",
       "        var method_name = mpl.toolbar_items[toolbar_ind][3];\n",
       "\n",
       "        if (!name) {\n",
       "            /* Instead of a spacer, we start a new button group. */\n",
       "            if (buttonGroup.hasChildNodes()) {\n",
       "                toolbar.appendChild(buttonGroup);\n",
       "            }\n",
       "            buttonGroup = document.createElement('div');\n",
       "            buttonGroup.classList = 'mpl-button-group';\n",
       "            continue;\n",
       "        }\n",
       "\n",
       "        var button = (fig.buttons[name] = document.createElement('button'));\n",
       "        button.classList = 'mpl-widget';\n",
       "        button.setAttribute('role', 'button');\n",
       "        button.setAttribute('aria-disabled', 'false');\n",
       "        button.addEventListener('click', on_click_closure(method_name));\n",
       "        button.addEventListener('mouseover', on_mouseover_closure(tooltip));\n",
       "\n",
       "        var icon_img = document.createElement('img');\n",
       "        icon_img.src = '_images/' + image + '.png';\n",
       "        icon_img.srcset = '_images/' + image + '_large.png 2x';\n",
       "        icon_img.alt = tooltip;\n",
       "        button.appendChild(icon_img);\n",
       "\n",
       "        buttonGroup.appendChild(button);\n",
       "    }\n",
       "\n",
       "    if (buttonGroup.hasChildNodes()) {\n",
       "        toolbar.appendChild(buttonGroup);\n",
       "    }\n",
       "\n",
       "    var fmt_picker = document.createElement('select');\n",
       "    fmt_picker.classList = 'mpl-widget';\n",
       "    toolbar.appendChild(fmt_picker);\n",
       "    this.format_dropdown = fmt_picker;\n",
       "\n",
       "    for (var ind in mpl.extensions) {\n",
       "        var fmt = mpl.extensions[ind];\n",
       "        var option = document.createElement('option');\n",
       "        option.selected = fmt === mpl.default_extension;\n",
       "        option.innerHTML = fmt;\n",
       "        fmt_picker.appendChild(option);\n",
       "    }\n",
       "\n",
       "    var status_bar = document.createElement('span');\n",
       "    status_bar.classList = 'mpl-message';\n",
       "    toolbar.appendChild(status_bar);\n",
       "    this.message = status_bar;\n",
       "};\n",
       "\n",
       "mpl.figure.prototype.request_resize = function (x_pixels, y_pixels) {\n",
       "    // Request matplotlib to resize the figure. Matplotlib will then trigger a resize in the client,\n",
       "    // which will in turn request a refresh of the image.\n",
       "    this.send_message('resize', { width: x_pixels, height: y_pixels });\n",
       "};\n",
       "\n",
       "mpl.figure.prototype.send_message = function (type, properties) {\n",
       "    properties['type'] = type;\n",
       "    properties['figure_id'] = this.id;\n",
       "    this.ws.send(JSON.stringify(properties));\n",
       "};\n",
       "\n",
       "mpl.figure.prototype.send_draw_message = function () {\n",
       "    if (!this.waiting) {\n",
       "        this.waiting = true;\n",
       "        this.ws.send(JSON.stringify({ type: 'draw', figure_id: this.id }));\n",
       "    }\n",
       "};\n",
       "\n",
       "mpl.figure.prototype.handle_save = function (fig, _msg) {\n",
       "    var format_dropdown = fig.format_dropdown;\n",
       "    var format = format_dropdown.options[format_dropdown.selectedIndex].value;\n",
       "    fig.ondownload(fig, format);\n",
       "};\n",
       "\n",
       "mpl.figure.prototype.handle_resize = function (fig, msg) {\n",
       "    var size = msg['size'];\n",
       "    if (size[0] !== fig.canvas.width || size[1] !== fig.canvas.height) {\n",
       "        fig._resize_canvas(size[0], size[1], msg['forward']);\n",
       "        fig.send_message('refresh', {});\n",
       "    }\n",
       "};\n",
       "\n",
       "mpl.figure.prototype.handle_rubberband = function (fig, msg) {\n",
       "    var x0 = msg['x0'] / fig.ratio;\n",
       "    var y0 = (fig.canvas.height - msg['y0']) / fig.ratio;\n",
       "    var x1 = msg['x1'] / fig.ratio;\n",
       "    var y1 = (fig.canvas.height - msg['y1']) / fig.ratio;\n",
       "    x0 = Math.floor(x0) + 0.5;\n",
       "    y0 = Math.floor(y0) + 0.5;\n",
       "    x1 = Math.floor(x1) + 0.5;\n",
       "    y1 = Math.floor(y1) + 0.5;\n",
       "    var min_x = Math.min(x0, x1);\n",
       "    var min_y = Math.min(y0, y1);\n",
       "    var width = Math.abs(x1 - x0);\n",
       "    var height = Math.abs(y1 - y0);\n",
       "\n",
       "    fig.rubberband_context.clearRect(\n",
       "        0,\n",
       "        0,\n",
       "        fig.canvas.width / fig.ratio,\n",
       "        fig.canvas.height / fig.ratio\n",
       "    );\n",
       "\n",
       "    fig.rubberband_context.strokeRect(min_x, min_y, width, height);\n",
       "};\n",
       "\n",
       "mpl.figure.prototype.handle_figure_label = function (fig, msg) {\n",
       "    // Updates the figure title.\n",
       "    fig.header.textContent = msg['label'];\n",
       "};\n",
       "\n",
       "mpl.figure.prototype.handle_cursor = function (fig, msg) {\n",
       "    fig.rubberband_canvas.style.cursor = msg['cursor'];\n",
       "};\n",
       "\n",
       "mpl.figure.prototype.handle_message = function (fig, msg) {\n",
       "    fig.message.textContent = msg['message'];\n",
       "};\n",
       "\n",
       "mpl.figure.prototype.handle_draw = function (fig, _msg) {\n",
       "    // Request the server to send over a new figure.\n",
       "    fig.send_draw_message();\n",
       "};\n",
       "\n",
       "mpl.figure.prototype.handle_image_mode = function (fig, msg) {\n",
       "    fig.image_mode = msg['mode'];\n",
       "};\n",
       "\n",
       "mpl.figure.prototype.handle_history_buttons = function (fig, msg) {\n",
       "    for (var key in msg) {\n",
       "        if (!(key in fig.buttons)) {\n",
       "            continue;\n",
       "        }\n",
       "        fig.buttons[key].disabled = !msg[key];\n",
       "        fig.buttons[key].setAttribute('aria-disabled', !msg[key]);\n",
       "    }\n",
       "};\n",
       "\n",
       "mpl.figure.prototype.handle_navigate_mode = function (fig, msg) {\n",
       "    if (msg['mode'] === 'PAN') {\n",
       "        fig.buttons['Pan'].classList.add('active');\n",
       "        fig.buttons['Zoom'].classList.remove('active');\n",
       "    } else if (msg['mode'] === 'ZOOM') {\n",
       "        fig.buttons['Pan'].classList.remove('active');\n",
       "        fig.buttons['Zoom'].classList.add('active');\n",
       "    } else {\n",
       "        fig.buttons['Pan'].classList.remove('active');\n",
       "        fig.buttons['Zoom'].classList.remove('active');\n",
       "    }\n",
       "};\n",
       "\n",
       "mpl.figure.prototype.updated_canvas_event = function () {\n",
       "    // Called whenever the canvas gets updated.\n",
       "    this.send_message('ack', {});\n",
       "};\n",
       "\n",
       "// A function to construct a web socket function for onmessage handling.\n",
       "// Called in the figure constructor.\n",
       "mpl.figure.prototype._make_on_message_function = function (fig) {\n",
       "    return function socket_on_message(evt) {\n",
       "        if (evt.data instanceof Blob) {\n",
       "            var img = evt.data;\n",
       "            if (img.type !== 'image/png') {\n",
       "                /* FIXME: We get \"Resource interpreted as Image but\n",
       "                 * transferred with MIME type text/plain:\" errors on\n",
       "                 * Chrome.  But how to set the MIME type?  It doesn't seem\n",
       "                 * to be part of the websocket stream */\n",
       "                img.type = 'image/png';\n",
       "            }\n",
       "\n",
       "            /* Free the memory for the previous frames */\n",
       "            if (fig.imageObj.src) {\n",
       "                (window.URL || window.webkitURL).revokeObjectURL(\n",
       "                    fig.imageObj.src\n",
       "                );\n",
       "            }\n",
       "\n",
       "            fig.imageObj.src = (window.URL || window.webkitURL).createObjectURL(\n",
       "                img\n",
       "            );\n",
       "            fig.updated_canvas_event();\n",
       "            fig.waiting = false;\n",
       "            return;\n",
       "        } else if (\n",
       "            typeof evt.data === 'string' &&\n",
       "            evt.data.slice(0, 21) === 'data:image/png;base64'\n",
       "        ) {\n",
       "            fig.imageObj.src = evt.data;\n",
       "            fig.updated_canvas_event();\n",
       "            fig.waiting = false;\n",
       "            return;\n",
       "        }\n",
       "\n",
       "        var msg = JSON.parse(evt.data);\n",
       "        var msg_type = msg['type'];\n",
       "\n",
       "        // Call the  \"handle_{type}\" callback, which takes\n",
       "        // the figure and JSON message as its only arguments.\n",
       "        try {\n",
       "            var callback = fig['handle_' + msg_type];\n",
       "        } catch (e) {\n",
       "            console.log(\n",
       "                \"No handler for the '\" + msg_type + \"' message type: \",\n",
       "                msg\n",
       "            );\n",
       "            return;\n",
       "        }\n",
       "\n",
       "        if (callback) {\n",
       "            try {\n",
       "                // console.log(\"Handling '\" + msg_type + \"' message: \", msg);\n",
       "                callback(fig, msg);\n",
       "            } catch (e) {\n",
       "                console.log(\n",
       "                    \"Exception inside the 'handler_\" + msg_type + \"' callback:\",\n",
       "                    e,\n",
       "                    e.stack,\n",
       "                    msg\n",
       "                );\n",
       "            }\n",
       "        }\n",
       "    };\n",
       "};\n",
       "\n",
       "// from https://stackoverflow.com/questions/1114465/getting-mouse-location-in-canvas\n",
       "mpl.findpos = function (e) {\n",
       "    //this section is from http://www.quirksmode.org/js/events_properties.html\n",
       "    var targ;\n",
       "    if (!e) {\n",
       "        e = window.event;\n",
       "    }\n",
       "    if (e.target) {\n",
       "        targ = e.target;\n",
       "    } else if (e.srcElement) {\n",
       "        targ = e.srcElement;\n",
       "    }\n",
       "    if (targ.nodeType === 3) {\n",
       "        // defeat Safari bug\n",
       "        targ = targ.parentNode;\n",
       "    }\n",
       "\n",
       "    // pageX,Y are the mouse positions relative to the document\n",
       "    var boundingRect = targ.getBoundingClientRect();\n",
       "    var x = e.pageX - (boundingRect.left + document.body.scrollLeft);\n",
       "    var y = e.pageY - (boundingRect.top + document.body.scrollTop);\n",
       "\n",
       "    return { x: x, y: y };\n",
       "};\n",
       "\n",
       "/*\n",
       " * return a copy of an object with only non-object keys\n",
       " * we need this to avoid circular references\n",
       " * https://stackoverflow.com/a/24161582/3208463\n",
       " */\n",
       "function simpleKeys(original) {\n",
       "    return Object.keys(original).reduce(function (obj, key) {\n",
       "        if (typeof original[key] !== 'object') {\n",
       "            obj[key] = original[key];\n",
       "        }\n",
       "        return obj;\n",
       "    }, {});\n",
       "}\n",
       "\n",
       "mpl.figure.prototype.mouse_event = function (event, name) {\n",
       "    var canvas_pos = mpl.findpos(event);\n",
       "\n",
       "    if (name === 'button_press') {\n",
       "        this.canvas.focus();\n",
       "        this.canvas_div.focus();\n",
       "    }\n",
       "\n",
       "    var x = canvas_pos.x * this.ratio;\n",
       "    var y = canvas_pos.y * this.ratio;\n",
       "\n",
       "    this.send_message(name, {\n",
       "        x: x,\n",
       "        y: y,\n",
       "        button: event.button,\n",
       "        step: event.step,\n",
       "        guiEvent: simpleKeys(event),\n",
       "    });\n",
       "\n",
       "    /* This prevents the web browser from automatically changing to\n",
       "     * the text insertion cursor when the button is pressed.  We want\n",
       "     * to control all of the cursor setting manually through the\n",
       "     * 'cursor' event from matplotlib */\n",
       "    event.preventDefault();\n",
       "    return false;\n",
       "};\n",
       "\n",
       "mpl.figure.prototype._key_event_extra = function (_event, _name) {\n",
       "    // Handle any extra behaviour associated with a key event\n",
       "};\n",
       "\n",
       "mpl.figure.prototype.key_event = function (event, name) {\n",
       "    // Prevent repeat events\n",
       "    if (name === 'key_press') {\n",
       "        if (event.key === this._key) {\n",
       "            return;\n",
       "        } else {\n",
       "            this._key = event.key;\n",
       "        }\n",
       "    }\n",
       "    if (name === 'key_release') {\n",
       "        this._key = null;\n",
       "    }\n",
       "\n",
       "    var value = '';\n",
       "    if (event.ctrlKey && event.key !== 'Control') {\n",
       "        value += 'ctrl+';\n",
       "    }\n",
       "    else if (event.altKey && event.key !== 'Alt') {\n",
       "        value += 'alt+';\n",
       "    }\n",
       "    else if (event.shiftKey && event.key !== 'Shift') {\n",
       "        value += 'shift+';\n",
       "    }\n",
       "\n",
       "    value += 'k' + event.key;\n",
       "\n",
       "    this._key_event_extra(event, name);\n",
       "\n",
       "    this.send_message(name, { key: value, guiEvent: simpleKeys(event) });\n",
       "    return false;\n",
       "};\n",
       "\n",
       "mpl.figure.prototype.toolbar_button_onclick = function (name) {\n",
       "    if (name === 'download') {\n",
       "        this.handle_save(this, null);\n",
       "    } else {\n",
       "        this.send_message('toolbar_button', { name: name });\n",
       "    }\n",
       "};\n",
       "\n",
       "mpl.figure.prototype.toolbar_button_onmouseover = function (tooltip) {\n",
       "    this.message.textContent = tooltip;\n",
       "};\n",
       "\n",
       "///////////////// REMAINING CONTENT GENERATED BY embed_js.py /////////////////\n",
       "// prettier-ignore\n",
       "var _JSXTOOLS_RESIZE_OBSERVER=function(A){var t,i=new WeakMap,n=new WeakMap,a=new WeakMap,r=new WeakMap,o=new Set;function s(e){if(!(this instanceof s))throw new TypeError(\"Constructor requires 'new' operator\");i.set(this,e)}function h(){throw new TypeError(\"Function is not a constructor\")}function c(e,t,i,n){e=0 in arguments?Number(arguments[0]):0,t=1 in arguments?Number(arguments[1]):0,i=2 in arguments?Number(arguments[2]):0,n=3 in arguments?Number(arguments[3]):0,this.right=(this.x=this.left=e)+(this.width=i),this.bottom=(this.y=this.top=t)+(this.height=n),Object.freeze(this)}function d(){t=requestAnimationFrame(d);var s=new WeakMap,p=new Set;o.forEach((function(t){r.get(t).forEach((function(i){var r=t instanceof window.SVGElement,o=a.get(t),d=r?0:parseFloat(o.paddingTop),f=r?0:parseFloat(o.paddingRight),l=r?0:parseFloat(o.paddingBottom),u=r?0:parseFloat(o.paddingLeft),g=r?0:parseFloat(o.borderTopWidth),m=r?0:parseFloat(o.borderRightWidth),w=r?0:parseFloat(o.borderBottomWidth),b=u+f,F=d+l,v=(r?0:parseFloat(o.borderLeftWidth))+m,W=g+w,y=r?0:t.offsetHeight-W-t.clientHeight,E=r?0:t.offsetWidth-v-t.clientWidth,R=b+v,z=F+W,M=r?t.width:parseFloat(o.width)-R-E,O=r?t.height:parseFloat(o.height)-z-y;if(n.has(t)){var k=n.get(t);if(k[0]===M&&k[1]===O)return}n.set(t,[M,O]);var S=Object.create(h.prototype);S.target=t,S.contentRect=new c(u,d,M,O),s.has(i)||(s.set(i,[]),p.add(i)),s.get(i).push(S)}))})),p.forEach((function(e){i.get(e).call(e,s.get(e),e)}))}return s.prototype.observe=function(i){if(i instanceof window.Element){r.has(i)||(r.set(i,new Set),o.add(i),a.set(i,window.getComputedStyle(i)));var n=r.get(i);n.has(this)||n.add(this),cancelAnimationFrame(t),t=requestAnimationFrame(d)}},s.prototype.unobserve=function(i){if(i instanceof window.Element&&r.has(i)){var n=r.get(i);n.has(this)&&(n.delete(this),n.size||(r.delete(i),o.delete(i))),n.size||r.delete(i),o.size||cancelAnimationFrame(t)}},A.DOMRectReadOnly=c,A.ResizeObserver=s,A.ResizeObserverEntry=h,A}; // eslint-disable-line\n",
       "mpl.toolbar_items = [[\"Home\", \"Reset original view\", \"fa fa-home icon-home\", \"home\"], [\"Back\", \"Back to previous view\", \"fa fa-arrow-left icon-arrow-left\", \"back\"], [\"Forward\", \"Forward to next view\", \"fa fa-arrow-right icon-arrow-right\", \"forward\"], [\"\", \"\", \"\", \"\"], [\"Pan\", \"Left button pans, Right button zooms\\nx/y fixes axis, CTRL fixes aspect\", \"fa fa-arrows icon-move\", \"pan\"], [\"Zoom\", \"Zoom to rectangle\\nx/y fixes axis\", \"fa fa-square-o icon-check-empty\", \"zoom\"], [\"\", \"\", \"\", \"\"], [\"Download\", \"Download plot\", \"fa fa-floppy-o icon-save\", \"download\"]];\n",
       "\n",
       "mpl.extensions = [\"eps\", \"jpeg\", \"pgf\", \"pdf\", \"png\", \"ps\", \"raw\", \"svg\", \"tif\"];\n",
       "\n",
       "mpl.default_extension = \"png\";/* global mpl */\n",
       "\n",
       "var comm_websocket_adapter = function (comm) {\n",
       "    // Create a \"websocket\"-like object which calls the given IPython comm\n",
       "    // object with the appropriate methods. Currently this is a non binary\n",
       "    // socket, so there is still some room for performance tuning.\n",
       "    var ws = {};\n",
       "\n",
       "    ws.binaryType = comm.kernel.ws.binaryType;\n",
       "    ws.readyState = comm.kernel.ws.readyState;\n",
       "    function updateReadyState(_event) {\n",
       "        if (comm.kernel.ws) {\n",
       "            ws.readyState = comm.kernel.ws.readyState;\n",
       "        } else {\n",
       "            ws.readyState = 3; // Closed state.\n",
       "        }\n",
       "    }\n",
       "    comm.kernel.ws.addEventListener('open', updateReadyState);\n",
       "    comm.kernel.ws.addEventListener('close', updateReadyState);\n",
       "    comm.kernel.ws.addEventListener('error', updateReadyState);\n",
       "\n",
       "    ws.close = function () {\n",
       "        comm.close();\n",
       "    };\n",
       "    ws.send = function (m) {\n",
       "        //console.log('sending', m);\n",
       "        comm.send(m);\n",
       "    };\n",
       "    // Register the callback with on_msg.\n",
       "    comm.on_msg(function (msg) {\n",
       "        //console.log('receiving', msg['content']['data'], msg);\n",
       "        var data = msg['content']['data'];\n",
       "        if (data['blob'] !== undefined) {\n",
       "            data = {\n",
       "                data: new Blob(msg['buffers'], { type: data['blob'] }),\n",
       "            };\n",
       "        }\n",
       "        // Pass the mpl event to the overridden (by mpl) onmessage function.\n",
       "        ws.onmessage(data);\n",
       "    });\n",
       "    return ws;\n",
       "};\n",
       "\n",
       "mpl.mpl_figure_comm = function (comm, msg) {\n",
       "    // This is the function which gets called when the mpl process\n",
       "    // starts-up an IPython Comm through the \"matplotlib\" channel.\n",
       "\n",
       "    var id = msg.content.data.id;\n",
       "    // Get hold of the div created by the display call when the Comm\n",
       "    // socket was opened in Python.\n",
       "    var element = document.getElementById(id);\n",
       "    var ws_proxy = comm_websocket_adapter(comm);\n",
       "\n",
       "    function ondownload(figure, _format) {\n",
       "        window.open(figure.canvas.toDataURL());\n",
       "    }\n",
       "\n",
       "    var fig = new mpl.figure(id, ws_proxy, ondownload, element);\n",
       "\n",
       "    // Call onopen now - mpl needs it, as it is assuming we've passed it a real\n",
       "    // web socket which is closed, not our websocket->open comm proxy.\n",
       "    ws_proxy.onopen();\n",
       "\n",
       "    fig.parent_element = element;\n",
       "    fig.cell_info = mpl.find_output_cell(\"<div id='\" + id + \"'></div>\");\n",
       "    if (!fig.cell_info) {\n",
       "        console.error('Failed to find cell for figure', id, fig);\n",
       "        return;\n",
       "    }\n",
       "    fig.cell_info[0].output_area.element.on(\n",
       "        'cleared',\n",
       "        { fig: fig },\n",
       "        fig._remove_fig_handler\n",
       "    );\n",
       "};\n",
       "\n",
       "mpl.figure.prototype.handle_close = function (fig, msg) {\n",
       "    var width = fig.canvas.width / fig.ratio;\n",
       "    fig.cell_info[0].output_area.element.off(\n",
       "        'cleared',\n",
       "        fig._remove_fig_handler\n",
       "    );\n",
       "    fig.resizeObserverInstance.unobserve(fig.canvas_div);\n",
       "\n",
       "    // Update the output cell to use the data from the current canvas.\n",
       "    fig.push_to_output();\n",
       "    var dataURL = fig.canvas.toDataURL();\n",
       "    // Re-enable the keyboard manager in IPython - without this line, in FF,\n",
       "    // the notebook keyboard shortcuts fail.\n",
       "    IPython.keyboard_manager.enable();\n",
       "    fig.parent_element.innerHTML =\n",
       "        '<img src=\"' + dataURL + '\" width=\"' + width + '\">';\n",
       "    fig.close_ws(fig, msg);\n",
       "};\n",
       "\n",
       "mpl.figure.prototype.close_ws = function (fig, msg) {\n",
       "    fig.send_message('closing', msg);\n",
       "    // fig.ws.close()\n",
       "};\n",
       "\n",
       "mpl.figure.prototype.push_to_output = function (_remove_interactive) {\n",
       "    // Turn the data on the canvas into data in the output cell.\n",
       "    var width = this.canvas.width / this.ratio;\n",
       "    var dataURL = this.canvas.toDataURL();\n",
       "    this.cell_info[1]['text/html'] =\n",
       "        '<img src=\"' + dataURL + '\" width=\"' + width + '\">';\n",
       "};\n",
       "\n",
       "mpl.figure.prototype.updated_canvas_event = function () {\n",
       "    // Tell IPython that the notebook contents must change.\n",
       "    IPython.notebook.set_dirty(true);\n",
       "    this.send_message('ack', {});\n",
       "    var fig = this;\n",
       "    // Wait a second, then push the new image to the DOM so\n",
       "    // that it is saved nicely (might be nice to debounce this).\n",
       "    setTimeout(function () {\n",
       "        fig.push_to_output();\n",
       "    }, 1000);\n",
       "};\n",
       "\n",
       "mpl.figure.prototype._init_toolbar = function () {\n",
       "    var fig = this;\n",
       "\n",
       "    var toolbar = document.createElement('div');\n",
       "    toolbar.classList = 'btn-toolbar';\n",
       "    this.root.appendChild(toolbar);\n",
       "\n",
       "    function on_click_closure(name) {\n",
       "        return function (_event) {\n",
       "            return fig.toolbar_button_onclick(name);\n",
       "        };\n",
       "    }\n",
       "\n",
       "    function on_mouseover_closure(tooltip) {\n",
       "        return function (event) {\n",
       "            if (!event.currentTarget.disabled) {\n",
       "                return fig.toolbar_button_onmouseover(tooltip);\n",
       "            }\n",
       "        };\n",
       "    }\n",
       "\n",
       "    fig.buttons = {};\n",
       "    var buttonGroup = document.createElement('div');\n",
       "    buttonGroup.classList = 'btn-group';\n",
       "    var button;\n",
       "    for (var toolbar_ind in mpl.toolbar_items) {\n",
       "        var name = mpl.toolbar_items[toolbar_ind][0];\n",
       "        var tooltip = mpl.toolbar_items[toolbar_ind][1];\n",
       "        var image = mpl.toolbar_items[toolbar_ind][2];\n",
       "        var method_name = mpl.toolbar_items[toolbar_ind][3];\n",
       "\n",
       "        if (!name) {\n",
       "            /* Instead of a spacer, we start a new button group. */\n",
       "            if (buttonGroup.hasChildNodes()) {\n",
       "                toolbar.appendChild(buttonGroup);\n",
       "            }\n",
       "            buttonGroup = document.createElement('div');\n",
       "            buttonGroup.classList = 'btn-group';\n",
       "            continue;\n",
       "        }\n",
       "\n",
       "        button = fig.buttons[name] = document.createElement('button');\n",
       "        button.classList = 'btn btn-default';\n",
       "        button.href = '#';\n",
       "        button.title = name;\n",
       "        button.innerHTML = '<i class=\"fa ' + image + ' fa-lg\"></i>';\n",
       "        button.addEventListener('click', on_click_closure(method_name));\n",
       "        button.addEventListener('mouseover', on_mouseover_closure(tooltip));\n",
       "        buttonGroup.appendChild(button);\n",
       "    }\n",
       "\n",
       "    if (buttonGroup.hasChildNodes()) {\n",
       "        toolbar.appendChild(buttonGroup);\n",
       "    }\n",
       "\n",
       "    // Add the status bar.\n",
       "    var status_bar = document.createElement('span');\n",
       "    status_bar.classList = 'mpl-message pull-right';\n",
       "    toolbar.appendChild(status_bar);\n",
       "    this.message = status_bar;\n",
       "\n",
       "    // Add the close button to the window.\n",
       "    var buttongrp = document.createElement('div');\n",
       "    buttongrp.classList = 'btn-group inline pull-right';\n",
       "    button = document.createElement('button');\n",
       "    button.classList = 'btn btn-mini btn-primary';\n",
       "    button.href = '#';\n",
       "    button.title = 'Stop Interaction';\n",
       "    button.innerHTML = '<i class=\"fa fa-power-off icon-remove icon-large\"></i>';\n",
       "    button.addEventListener('click', function (_evt) {\n",
       "        fig.handle_close(fig, {});\n",
       "    });\n",
       "    button.addEventListener(\n",
       "        'mouseover',\n",
       "        on_mouseover_closure('Stop Interaction')\n",
       "    );\n",
       "    buttongrp.appendChild(button);\n",
       "    var titlebar = this.root.querySelector('.ui-dialog-titlebar');\n",
       "    titlebar.insertBefore(buttongrp, titlebar.firstChild);\n",
       "};\n",
       "\n",
       "mpl.figure.prototype._remove_fig_handler = function (event) {\n",
       "    var fig = event.data.fig;\n",
       "    if (event.target !== this) {\n",
       "        // Ignore bubbled events from children.\n",
       "        return;\n",
       "    }\n",
       "    fig.close_ws(fig, {});\n",
       "};\n",
       "\n",
       "mpl.figure.prototype._root_extra_style = function (el) {\n",
       "    el.style.boxSizing = 'content-box'; // override notebook setting of border-box.\n",
       "};\n",
       "\n",
       "mpl.figure.prototype._canvas_extra_style = function (el) {\n",
       "    // this is important to make the div 'focusable\n",
       "    el.setAttribute('tabindex', 0);\n",
       "    // reach out to IPython and tell the keyboard manager to turn it's self\n",
       "    // off when our div gets focus\n",
       "\n",
       "    // location in version 3\n",
       "    if (IPython.notebook.keyboard_manager) {\n",
       "        IPython.notebook.keyboard_manager.register_events(el);\n",
       "    } else {\n",
       "        // location in version 2\n",
       "        IPython.keyboard_manager.register_events(el);\n",
       "    }\n",
       "};\n",
       "\n",
       "mpl.figure.prototype._key_event_extra = function (event, _name) {\n",
       "    // Check for shift+enter\n",
       "    if (event.shiftKey && event.which === 13) {\n",
       "        this.canvas_div.blur();\n",
       "        // select the cell after this one\n",
       "        var index = IPython.notebook.find_cell_index(this.cell_info[0]);\n",
       "        IPython.notebook.select(index + 1);\n",
       "    }\n",
       "};\n",
       "\n",
       "mpl.figure.prototype.handle_save = function (fig, _msg) {\n",
       "    fig.ondownload(fig, null);\n",
       "};\n",
       "\n",
       "mpl.find_output_cell = function (html_output) {\n",
       "    // Return the cell and output element which can be found *uniquely* in the notebook.\n",
       "    // Note - this is a bit hacky, but it is done because the \"notebook_saving.Notebook\"\n",
       "    // IPython event is triggered only after the cells have been serialised, which for\n",
       "    // our purposes (turning an active figure into a static one), is too late.\n",
       "    var cells = IPython.notebook.get_cells();\n",
       "    var ncells = cells.length;\n",
       "    for (var i = 0; i < ncells; i++) {\n",
       "        var cell = cells[i];\n",
       "        if (cell.cell_type === 'code') {\n",
       "            for (var j = 0; j < cell.output_area.outputs.length; j++) {\n",
       "                var data = cell.output_area.outputs[j];\n",
       "                if (data.data) {\n",
       "                    // IPython >= 3 moved mimebundle to data attribute of output\n",
       "                    data = data.data;\n",
       "                }\n",
       "                if (data['text/html'] === html_output) {\n",
       "                    return [cell, data, j];\n",
       "                }\n",
       "            }\n",
       "        }\n",
       "    }\n",
       "};\n",
       "\n",
       "// Register the function which deals with the matplotlib target/channel.\n",
       "// The kernel may be null if the page has been refreshed.\n",
       "if (IPython.notebook.kernel !== null) {\n",
       "    IPython.notebook.kernel.comm_manager.register_target(\n",
       "        'matplotlib',\n",
       "        mpl.mpl_figure_comm\n",
       "    );\n",
       "}\n"
      ],
      "text/plain": [
       "<IPython.core.display.Javascript object>"
      ]
     },
     "metadata": {},
     "output_type": "display_data"
    },
    {
     "data": {
      "text/html": [
       "<img src=\"data:image/png;base64,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\" width=\"640\">"
      ],
      "text/plain": [
       "<IPython.core.display.HTML object>"
      ]
     },
     "metadata": {},
     "output_type": "display_data"
    },
    {
     "name": "stdout",
     "output_type": "stream",
     "text": [
      "tensor(0.0523)\n",
      "tensor(0.0007)\n",
      "tensor(0.0003)\n",
      "tensor(1.6398e-05)\n",
      "tensor(1.0234e-06)\n",
      "tensor(6.4576e-08)\n"
     ]
    }
   ],
   "source": [
    "\n",
    "def value_fn(x):\n",
    "    l_dos_E = torch.exp(-0.5*(((x-0)/sigma)**2))  \n",
    "    \n",
    "#     print (x.shape)\n",
    "    return l_dos_E\n",
    "def derivative_fn(x):\n",
    "    dfn_E = torch.exp(-0.5*(((x - 0)/sigma)**2))*(-1 * x/ sigma**2)    \n",
    "    return dfn_E\n",
    "# l_dos_E = value_fn(xdos)#torch.exp(-0.5*(((xdos-0)/sigma)**2))\n",
    "# dfn_E = derivative_fn(xdos)#torch.exp(-0.5*(((xdos-0)/sigma)**2))*(-1 * xdos/ sigma**2)\n",
    "plt.plot(torch.linspace(-5,5, 800), gauss, c = 'black', label = 'true', linewidth = 1)\n",
    "Dynamic_Spliner_0 = DynamicSpliner(-5, 5, value_fn, derivative_fn, 1E-8, \"cpu\") \n"
   ]
  },
  {
   "cell_type": "code",
   "execution_count": null,
   "id": "eb49a278",
   "metadata": {},
   "outputs": [],
   "source": [
    "xdos"
   ]
  },
  {
   "cell_type": "code",
   "execution_count": 76,
   "id": "5ff5537a",
   "metadata": {
    "ExecuteTime": {
     "end_time": "2023-03-30T16:08:16.375726Z",
     "start_time": "2023-03-30T16:08:16.368835Z"
    }
   },
   "outputs": [
    {
     "data": {
      "text/plain": [
       "torch.Size([778])"
      ]
     },
     "execution_count": 76,
     "metadata": {},
     "output_type": "execute_result"
    }
   ],
   "source": [
    "l_dos_E.shape"
   ]
  },
  {
   "cell_type": "code",
   "execution_count": 85,
   "id": "95bfb92e",
   "metadata": {
    "ExecuteTime": {
     "end_time": "2023-03-30T16:09:17.762484Z",
     "start_time": "2023-03-30T16:09:17.659147Z"
    }
   },
   "outputs": [
    {
     "data": {
      "text/plain": [
       "[<matplotlib.lines.Line2D at 0x7fc2f6d18ca0>]"
      ]
     },
     "execution_count": 85,
     "metadata": {},
     "output_type": "execute_result"
    },
    {
     "data": {
      "image/png": "[encoded data removed]",
      "text/plain": [
       "<Figure size 432x288 with 1 Axes>"
      ]
     },
     "metadata": {
      "needs_background": "light"
     },
     "output_type": "display_data"
    }
   ],
   "source": [
    "ldos_0 = Dynamic_Spliner_0.compute(xdos)\n",
    "plt.plot(xdos, ldos_0, c= 'g')\n",
    "# plt.plot(xdos, l_dos_E, c = 'b')\n",
    "# plt.plot(xdos, dfn_E/100, c= 'r')"
   ]
  },
  {
   "cell_type": "code",
   "execution_count": 26,
   "id": "82bf279c",
   "metadata": {
    "ExecuteTime": {
     "end_time": "2023-03-30T15:55:01.929193Z",
     "start_time": "2023-03-30T15:55:01.827381Z"
    }
   },
   "outputs": [
    {
     "data": {
      "text/plain": [
       "[<matplotlib.lines.Line2D at 0x7fc34f1eaeb0>]"
      ]
     },
     "execution_count": 26,
     "metadata": {},
     "output_type": "execute_result"
    },
    {
     "data": {
      "image/png": "[encoded data removed]",
      "text/plain": [
       "<Figure size 432x288 with 1 Axes>"
      ]
     },
     "metadata": {
      "needs_background": "light"
     },
     "output_type": "display_data"
    }
   ],
   "source": []
  },
  {
   "cell_type": "code",
   "execution_count": 10,
   "id": "4b6ba887",
   "metadata": {
    "ExecuteTime": {
     "end_time": "2023-03-30T20:09:09.512436Z",
     "start_time": "2023-03-30T20:09:09.505035Z"
    }
   },
   "outputs": [
    {
     "data": {
      "text/plain": [
       "torch.Size([163841])"
      ]
     },
     "execution_count": 10,
     "metadata": {},
     "output_type": "execute_result"
    }
   ],
   "source": [
    "Dynamic_Spliner_0.spline_positions.shape\n"
   ]
  },
  {
   "cell_type": "code",
   "execution_count": 106,
   "id": "f11a4374",
   "metadata": {
    "ExecuteTime": {
     "end_time": "2023-03-31T13:05:47.741596Z",
     "start_time": "2023-03-31T13:05:47.705310Z"
    }
   },
   "outputs": [
    {
     "data": {
      "application/javascript": [
       "/* Put everything inside the global mpl namespace */\n",
       "/* global mpl */\n",
       "window.mpl = {};\n",
       "\n",
       "mpl.get_websocket_type = function () {\n",
       "    if (typeof WebSocket !== 'undefined') {\n",
       "        return WebSocket;\n",
       "    } else if (typeof MozWebSocket !== 'undefined') {\n",
       "        return MozWebSocket;\n",
       "    } else {\n",
       "        alert(\n",
       "            'Your browser does not have WebSocket support. ' +\n",
       "                'Please try Chrome, Safari or Firefox ≥ 6. ' +\n",
       "                'Firefox 4 and 5 are also supported but you ' +\n",
       "                'have to enable WebSockets in about:config.'\n",
       "        );\n",
       "    }\n",
       "};\n",
       "\n",
       "mpl.figure = function (figure_id, websocket, ondownload, parent_element) {\n",
       "    this.id = figure_id;\n",
       "\n",
       "    this.ws = websocket;\n",
       "\n",
       "    this.supports_binary = this.ws.binaryType !== undefined;\n",
       "\n",
       "    if (!this.supports_binary) {\n",
       "        var warnings = document.getElementById('mpl-warnings');\n",
       "        if (warnings) {\n",
       "            warnings.style.display = 'block';\n",
       "            warnings.textContent =\n",
       "                'This browser does not support binary websocket messages. ' +\n",
       "                'Performance may be slow.';\n",
       "        }\n",
       "    }\n",
       "\n",
       "    this.imageObj = new Image();\n",
       "\n",
       "    this.context = undefined;\n",
       "    this.message = undefined;\n",
       "    this.canvas = undefined;\n",
       "    this.rubberband_canvas = undefined;\n",
       "    this.rubberband_context = undefined;\n",
       "    this.format_dropdown = undefined;\n",
       "\n",
       "    this.image_mode = 'full';\n",
       "\n",
       "    this.root = document.createElement('div');\n",
       "    this.root.setAttribute('style', 'display: inline-block');\n",
       "    this._root_extra_style(this.root);\n",
       "\n",
       "    parent_element.appendChild(this.root);\n",
       "\n",
       "    this._init_header(this);\n",
       "    this._init_canvas(this);\n",
       "    this._init_toolbar(this);\n",
       "\n",
       "    var fig = this;\n",
       "\n",
       "    this.waiting = false;\n",
       "\n",
       "    this.ws.onopen = function () {\n",
       "        fig.send_message('supports_binary', { value: fig.supports_binary });\n",
       "        fig.send_message('send_image_mode', {});\n",
       "        if (fig.ratio !== 1) {\n",
       "            fig.send_message('set_device_pixel_ratio', {\n",
       "                device_pixel_ratio: fig.ratio,\n",
       "            });\n",
       "        }\n",
       "        fig.send_message('refresh', {});\n",
       "    };\n",
       "\n",
       "    this.imageObj.onload = function () {\n",
       "        if (fig.image_mode === 'full') {\n",
       "            // Full images could contain transparency (where diff images\n",
       "            // almost always do), so we need to clear the canvas so that\n",
       "            // there is no ghosting.\n",
       "            fig.context.clearRect(0, 0, fig.canvas.width, fig.canvas.height);\n",
       "        }\n",
       "        fig.context.drawImage(fig.imageObj, 0, 0);\n",
       "    };\n",
       "\n",
       "    this.imageObj.onunload = function () {\n",
       "        fig.ws.close();\n",
       "    };\n",
       "\n",
       "    this.ws.onmessage = this._make_on_message_function(this);\n",
       "\n",
       "    this.ondownload = ondownload;\n",
       "};\n",
       "\n",
       "mpl.figure.prototype._init_header = function () {\n",
       "    var titlebar = document.createElement('div');\n",
       "    titlebar.classList =\n",
       "        'ui-dialog-titlebar ui-widget-header ui-corner-all ui-helper-clearfix';\n",
       "    var titletext = document.createElement('div');\n",
       "    titletext.classList = 'ui-dialog-title';\n",
       "    titletext.setAttribute(\n",
       "        'style',\n",
       "        'width: 100%; text-align: center; padding: 3px;'\n",
       "    );\n",
       "    titlebar.appendChild(titletext);\n",
       "    this.root.appendChild(titlebar);\n",
       "    this.header = titletext;\n",
       "};\n",
       "\n",
       "mpl.figure.prototype._canvas_extra_style = function (_canvas_div) {};\n",
       "\n",
       "mpl.figure.prototype._root_extra_style = function (_canvas_div) {};\n",
       "\n",
       "mpl.figure.prototype._init_canvas = function () {\n",
       "    var fig = this;\n",
       "\n",
       "    var canvas_div = (this.canvas_div = document.createElement('div'));\n",
       "    canvas_div.setAttribute(\n",
       "        'style',\n",
       "        'border: 1px solid #ddd;' +\n",
       "            'box-sizing: content-box;' +\n",
       "            'clear: both;' +\n",
       "            'min-height: 1px;' +\n",
       "            'min-width: 1px;' +\n",
       "            'outline: 0;' +\n",
       "            'overflow: hidden;' +\n",
       "            'position: relative;' +\n",
       "            'resize: both;'\n",
       "    );\n",
       "\n",
       "    function on_keyboard_event_closure(name) {\n",
       "        return function (event) {\n",
       "            return fig.key_event(event, name);\n",
       "        };\n",
       "    }\n",
       "\n",
       "    canvas_div.addEventListener(\n",
       "        'keydown',\n",
       "        on_keyboard_event_closure('key_press')\n",
       "    );\n",
       "    canvas_div.addEventListener(\n",
       "        'keyup',\n",
       "        on_keyboard_event_closure('key_release')\n",
       "    );\n",
       "\n",
       "    this._canvas_extra_style(canvas_div);\n",
       "    this.root.appendChild(canvas_div);\n",
       "\n",
       "    var canvas = (this.canvas = document.createElement('canvas'));\n",
       "    canvas.classList.add('mpl-canvas');\n",
       "    canvas.setAttribute('style', 'box-sizing: content-box;');\n",
       "\n",
       "    this.context = canvas.getContext('2d');\n",
       "\n",
       "    var backingStore =\n",
       "        this.context.backingStorePixelRatio ||\n",
       "        this.context.webkitBackingStorePixelRatio ||\n",
       "        this.context.mozBackingStorePixelRatio ||\n",
       "        this.context.msBackingStorePixelRatio ||\n",
       "        this.context.oBackingStorePixelRatio ||\n",
       "        this.context.backingStorePixelRatio ||\n",
       "        1;\n",
       "\n",
       "    this.ratio = (window.devicePixelRatio || 1) / backingStore;\n",
       "\n",
       "    var rubberband_canvas = (this.rubberband_canvas = document.createElement(\n",
       "        'canvas'\n",
       "    ));\n",
       "    rubberband_canvas.setAttribute(\n",
       "        'style',\n",
       "        'box-sizing: content-box; position: absolute; left: 0; top: 0; z-index: 1;'\n",
       "    );\n",
       "\n",
       "    // Apply a ponyfill if ResizeObserver is not implemented by browser.\n",
       "    if (this.ResizeObserver === undefined) {\n",
       "        if (window.ResizeObserver !== undefined) {\n",
       "            this.ResizeObserver = window.ResizeObserver;\n",
       "        } else {\n",
       "            var obs = _JSXTOOLS_RESIZE_OBSERVER({});\n",
       "            this.ResizeObserver = obs.ResizeObserver;\n",
       "        }\n",
       "    }\n",
       "\n",
       "    this.resizeObserverInstance = new this.ResizeObserver(function (entries) {\n",
       "        var nentries = entries.length;\n",
       "        for (var i = 0; i < nentries; i++) {\n",
       "            var entry = entries[i];\n",
       "            var width, height;\n",
       "            if (entry.contentBoxSize) {\n",
       "                if (entry.contentBoxSize instanceof Array) {\n",
       "                    // Chrome 84 implements new version of spec.\n",
       "                    width = entry.contentBoxSize[0].inlineSize;\n",
       "                    height = entry.contentBoxSize[0].blockSize;\n",
       "                } else {\n",
       "                    // Firefox implements old version of spec.\n",
       "                    width = entry.contentBoxSize.inlineSize;\n",
       "                    height = entry.contentBoxSize.blockSize;\n",
       "                }\n",
       "            } else {\n",
       "                // Chrome <84 implements even older version of spec.\n",
       "                width = entry.contentRect.width;\n",
       "                height = entry.contentRect.height;\n",
       "            }\n",
       "\n",
       "            // Keep the size of the canvas and rubber band canvas in sync with\n",
       "            // the canvas container.\n",
       "            if (entry.devicePixelContentBoxSize) {\n",
       "                // Chrome 84 implements new version of spec.\n",
       "                canvas.setAttribute(\n",
       "                    'width',\n",
       "                    entry.devicePixelContentBoxSize[0].inlineSize\n",
       "                );\n",
       "                canvas.setAttribute(\n",
       "                    'height',\n",
       "                    entry.devicePixelContentBoxSize[0].blockSize\n",
       "                );\n",
       "            } else {\n",
       "                canvas.setAttribute('width', width * fig.ratio);\n",
       "                canvas.setAttribute('height', height * fig.ratio);\n",
       "            }\n",
       "            canvas.setAttribute(\n",
       "                'style',\n",
       "                'width: ' + width + 'px; height: ' + height + 'px;'\n",
       "            );\n",
       "\n",
       "            rubberband_canvas.setAttribute('width', width);\n",
       "            rubberband_canvas.setAttribute('height', height);\n",
       "\n",
       "            // And update the size in Python. We ignore the initial 0/0 size\n",
       "            // that occurs as the element is placed into the DOM, which should\n",
       "            // otherwise not happen due to the minimum size styling.\n",
       "            if (fig.ws.readyState == 1 && width != 0 && height != 0) {\n",
       "                fig.request_resize(width, height);\n",
       "            }\n",
       "        }\n",
       "    });\n",
       "    this.resizeObserverInstance.observe(canvas_div);\n",
       "\n",
       "    function on_mouse_event_closure(name) {\n",
       "        return function (event) {\n",
       "            return fig.mouse_event(event, name);\n",
       "        };\n",
       "    }\n",
       "\n",
       "    rubberband_canvas.addEventListener(\n",
       "        'mousedown',\n",
       "        on_mouse_event_closure('button_press')\n",
       "    );\n",
       "    rubberband_canvas.addEventListener(\n",
       "        'mouseup',\n",
       "        on_mouse_event_closure('button_release')\n",
       "    );\n",
       "    rubberband_canvas.addEventListener(\n",
       "        'dblclick',\n",
       "        on_mouse_event_closure('dblclick')\n",
       "    );\n",
       "    // Throttle sequential mouse events to 1 every 20ms.\n",
       "    rubberband_canvas.addEventListener(\n",
       "        'mousemove',\n",
       "        on_mouse_event_closure('motion_notify')\n",
       "    );\n",
       "\n",
       "    rubberband_canvas.addEventListener(\n",
       "        'mouseenter',\n",
       "        on_mouse_event_closure('figure_enter')\n",
       "    );\n",
       "    rubberband_canvas.addEventListener(\n",
       "        'mouseleave',\n",
       "        on_mouse_event_closure('figure_leave')\n",
       "    );\n",
       "\n",
       "    canvas_div.addEventListener('wheel', function (event) {\n",
       "        if (event.deltaY < 0) {\n",
       "            event.step = 1;\n",
       "        } else {\n",
       "            event.step = -1;\n",
       "        }\n",
       "        on_mouse_event_closure('scroll')(event);\n",
       "    });\n",
       "\n",
       "    canvas_div.appendChild(canvas);\n",
       "    canvas_div.appendChild(rubberband_canvas);\n",
       "\n",
       "    this.rubberband_context = rubberband_canvas.getContext('2d');\n",
       "    this.rubberband_context.strokeStyle = '#000000';\n",
       "\n",
       "    this._resize_canvas = function (width, height, forward) {\n",
       "        if (forward) {\n",
       "            canvas_div.style.width = width + 'px';\n",
       "            canvas_div.style.height = height + 'px';\n",
       "        }\n",
       "    };\n",
       "\n",
       "    // Disable right mouse context menu.\n",
       "    this.rubberband_canvas.addEventListener('contextmenu', function (_e) {\n",
       "        event.preventDefault();\n",
       "        return false;\n",
       "    });\n",
       "\n",
       "    function set_focus() {\n",
       "        canvas.focus();\n",
       "        canvas_div.focus();\n",
       "    }\n",
       "\n",
       "    window.setTimeout(set_focus, 100);\n",
       "};\n",
       "\n",
       "mpl.figure.prototype._init_toolbar = function () {\n",
       "    var fig = this;\n",
       "\n",
       "    var toolbar = document.createElement('div');\n",
       "    toolbar.classList = 'mpl-toolbar';\n",
       "    this.root.appendChild(toolbar);\n",
       "\n",
       "    function on_click_closure(name) {\n",
       "        return function (_event) {\n",
       "            return fig.toolbar_button_onclick(name);\n",
       "        };\n",
       "    }\n",
       "\n",
       "    function on_mouseover_closure(tooltip) {\n",
       "        return function (event) {\n",
       "            if (!event.currentTarget.disabled) {\n",
       "                return fig.toolbar_button_onmouseover(tooltip);\n",
       "            }\n",
       "        };\n",
       "    }\n",
       "\n",
       "    fig.buttons = {};\n",
       "    var buttonGroup = document.createElement('div');\n",
       "    buttonGroup.classList = 'mpl-button-group';\n",
       "    for (var toolbar_ind in mpl.toolbar_items) {\n",
       "        var name = mpl.toolbar_items[toolbar_ind][0];\n",
       "        var tooltip = mpl.toolbar_items[toolbar_ind][1];\n",
       "        var image = mpl.toolbar_items[toolbar_ind][2];\n",
       "        var method_name = mpl.toolbar_items[toolbar_ind][3];\n",
       "\n",
       "        if (!name) {\n",
       "            /* Instead of a spacer, we start a new button group. */\n",
       "            if (buttonGroup.hasChildNodes()) {\n",
       "                toolbar.appendChild(buttonGroup);\n",
       "            }\n",
       "            buttonGroup = document.createElement('div');\n",
       "            buttonGroup.classList = 'mpl-button-group';\n",
       "            continue;\n",
       "        }\n",
       "\n",
       "        var button = (fig.buttons[name] = document.createElement('button'));\n",
       "        button.classList = 'mpl-widget';\n",
       "        button.setAttribute('role', 'button');\n",
       "        button.setAttribute('aria-disabled', 'false');\n",
       "        button.addEventListener('click', on_click_closure(method_name));\n",
       "        button.addEventListener('mouseover', on_mouseover_closure(tooltip));\n",
       "\n",
       "        var icon_img = document.createElement('img');\n",
       "        icon_img.src = '_images/' + image + '.png';\n",
       "        icon_img.srcset = '_images/' + image + '_large.png 2x';\n",
       "        icon_img.alt = tooltip;\n",
       "        button.appendChild(icon_img);\n",
       "\n",
       "        buttonGroup.appendChild(button);\n",
       "    }\n",
       "\n",
       "    if (buttonGroup.hasChildNodes()) {\n",
       "        toolbar.appendChild(buttonGroup);\n",
       "    }\n",
       "\n",
       "    var fmt_picker = document.createElement('select');\n",
       "    fmt_picker.classList = 'mpl-widget';\n",
       "    toolbar.appendChild(fmt_picker);\n",
       "    this.format_dropdown = fmt_picker;\n",
       "\n",
       "    for (var ind in mpl.extensions) {\n",
       "        var fmt = mpl.extensions[ind];\n",
       "        var option = document.createElement('option');\n",
       "        option.selected = fmt === mpl.default_extension;\n",
       "        option.innerHTML = fmt;\n",
       "        fmt_picker.appendChild(option);\n",
       "    }\n",
       "\n",
       "    var status_bar = document.createElement('span');\n",
       "    status_bar.classList = 'mpl-message';\n",
       "    toolbar.appendChild(status_bar);\n",
       "    this.message = status_bar;\n",
       "};\n",
       "\n",
       "mpl.figure.prototype.request_resize = function (x_pixels, y_pixels) {\n",
       "    // Request matplotlib to resize the figure. Matplotlib will then trigger a resize in the client,\n",
       "    // which will in turn request a refresh of the image.\n",
       "    this.send_message('resize', { width: x_pixels, height: y_pixels });\n",
       "};\n",
       "\n",
       "mpl.figure.prototype.send_message = function (type, properties) {\n",
       "    properties['type'] = type;\n",
       "    properties['figure_id'] = this.id;\n",
       "    this.ws.send(JSON.stringify(properties));\n",
       "};\n",
       "\n",
       "mpl.figure.prototype.send_draw_message = function () {\n",
       "    if (!this.waiting) {\n",
       "        this.waiting = true;\n",
       "        this.ws.send(JSON.stringify({ type: 'draw', figure_id: this.id }));\n",
       "    }\n",
       "};\n",
       "\n",
       "mpl.figure.prototype.handle_save = function (fig, _msg) {\n",
       "    var format_dropdown = fig.format_dropdown;\n",
       "    var format = format_dropdown.options[format_dropdown.selectedIndex].value;\n",
       "    fig.ondownload(fig, format);\n",
       "};\n",
       "\n",
       "mpl.figure.prototype.handle_resize = function (fig, msg) {\n",
       "    var size = msg['size'];\n",
       "    if (size[0] !== fig.canvas.width || size[1] !== fig.canvas.height) {\n",
       "        fig._resize_canvas(size[0], size[1], msg['forward']);\n",
       "        fig.send_message('refresh', {});\n",
       "    }\n",
       "};\n",
       "\n",
       "mpl.figure.prototype.handle_rubberband = function (fig, msg) {\n",
       "    var x0 = msg['x0'] / fig.ratio;\n",
       "    var y0 = (fig.canvas.height - msg['y0']) / fig.ratio;\n",
       "    var x1 = msg['x1'] / fig.ratio;\n",
       "    var y1 = (fig.canvas.height - msg['y1']) / fig.ratio;\n",
       "    x0 = Math.floor(x0) + 0.5;\n",
       "    y0 = Math.floor(y0) + 0.5;\n",
       "    x1 = Math.floor(x1) + 0.5;\n",
       "    y1 = Math.floor(y1) + 0.5;\n",
       "    var min_x = Math.min(x0, x1);\n",
       "    var min_y = Math.min(y0, y1);\n",
       "    var width = Math.abs(x1 - x0);\n",
       "    var height = Math.abs(y1 - y0);\n",
       "\n",
       "    fig.rubberband_context.clearRect(\n",
       "        0,\n",
       "        0,\n",
       "        fig.canvas.width / fig.ratio,\n",
       "        fig.canvas.height / fig.ratio\n",
       "    );\n",
       "\n",
       "    fig.rubberband_context.strokeRect(min_x, min_y, width, height);\n",
       "};\n",
       "\n",
       "mpl.figure.prototype.handle_figure_label = function (fig, msg) {\n",
       "    // Updates the figure title.\n",
       "    fig.header.textContent = msg['label'];\n",
       "};\n",
       "\n",
       "mpl.figure.prototype.handle_cursor = function (fig, msg) {\n",
       "    fig.rubberband_canvas.style.cursor = msg['cursor'];\n",
       "};\n",
       "\n",
       "mpl.figure.prototype.handle_message = function (fig, msg) {\n",
       "    fig.message.textContent = msg['message'];\n",
       "};\n",
       "\n",
       "mpl.figure.prototype.handle_draw = function (fig, _msg) {\n",
       "    // Request the server to send over a new figure.\n",
       "    fig.send_draw_message();\n",
       "};\n",
       "\n",
       "mpl.figure.prototype.handle_image_mode = function (fig, msg) {\n",
       "    fig.image_mode = msg['mode'];\n",
       "};\n",
       "\n",
       "mpl.figure.prototype.handle_history_buttons = function (fig, msg) {\n",
       "    for (var key in msg) {\n",
       "        if (!(key in fig.buttons)) {\n",
       "            continue;\n",
       "        }\n",
       "        fig.buttons[key].disabled = !msg[key];\n",
       "        fig.buttons[key].setAttribute('aria-disabled', !msg[key]);\n",
       "    }\n",
       "};\n",
       "\n",
       "mpl.figure.prototype.handle_navigate_mode = function (fig, msg) {\n",
       "    if (msg['mode'] === 'PAN') {\n",
       "        fig.buttons['Pan'].classList.add('active');\n",
       "        fig.buttons['Zoom'].classList.remove('active');\n",
       "    } else if (msg['mode'] === 'ZOOM') {\n",
       "        fig.buttons['Pan'].classList.remove('active');\n",
       "        fig.buttons['Zoom'].classList.add('active');\n",
       "    } else {\n",
       "        fig.buttons['Pan'].classList.remove('active');\n",
       "        fig.buttons['Zoom'].classList.remove('active');\n",
       "    }\n",
       "};\n",
       "\n",
       "mpl.figure.prototype.updated_canvas_event = function () {\n",
       "    // Called whenever the canvas gets updated.\n",
       "    this.send_message('ack', {});\n",
       "};\n",
       "\n",
       "// A function to construct a web socket function for onmessage handling.\n",
       "// Called in the figure constructor.\n",
       "mpl.figure.prototype._make_on_message_function = function (fig) {\n",
       "    return function socket_on_message(evt) {\n",
       "        if (evt.data instanceof Blob) {\n",
       "            var img = evt.data;\n",
       "            if (img.type !== 'image/png') {\n",
       "                /* FIXME: We get \"Resource interpreted as Image but\n",
       "                 * transferred with MIME type text/plain:\" errors on\n",
       "                 * Chrome.  But how to set the MIME type?  It doesn't seem\n",
       "                 * to be part of the websocket stream */\n",
       "                img.type = 'image/png';\n",
       "            }\n",
       "\n",
       "            /* Free the memory for the previous frames */\n",
       "            if (fig.imageObj.src) {\n",
       "                (window.URL || window.webkitURL).revokeObjectURL(\n",
       "                    fig.imageObj.src\n",
       "                );\n",
       "            }\n",
       "\n",
       "            fig.imageObj.src = (window.URL || window.webkitURL).createObjectURL(\n",
       "                img\n",
       "            );\n",
       "            fig.updated_canvas_event();\n",
       "            fig.waiting = false;\n",
       "            return;\n",
       "        } else if (\n",
       "            typeof evt.data === 'string' &&\n",
       "            evt.data.slice(0, 21) === 'data:image/png;base64'\n",
       "        ) {\n",
       "            fig.imageObj.src = evt.data;\n",
       "            fig.updated_canvas_event();\n",
       "            fig.waiting = false;\n",
       "            return;\n",
       "        }\n",
       "\n",
       "        var msg = JSON.parse(evt.data);\n",
       "        var msg_type = msg['type'];\n",
       "\n",
       "        // Call the  \"handle_{type}\" callback, which takes\n",
       "        // the figure and JSON message as its only arguments.\n",
       "        try {\n",
       "            var callback = fig['handle_' + msg_type];\n",
       "        } catch (e) {\n",
       "            console.log(\n",
       "                \"No handler for the '\" + msg_type + \"' message type: \",\n",
       "                msg\n",
       "            );\n",
       "            return;\n",
       "        }\n",
       "\n",
       "        if (callback) {\n",
       "            try {\n",
       "                // console.log(\"Handling '\" + msg_type + \"' message: \", msg);\n",
       "                callback(fig, msg);\n",
       "            } catch (e) {\n",
       "                console.log(\n",
       "                    \"Exception inside the 'handler_\" + msg_type + \"' callback:\",\n",
       "                    e,\n",
       "                    e.stack,\n",
       "                    msg\n",
       "                );\n",
       "            }\n",
       "        }\n",
       "    };\n",
       "};\n",
       "\n",
       "// from https://stackoverflow.com/questions/1114465/getting-mouse-location-in-canvas\n",
       "mpl.findpos = function (e) {\n",
       "    //this section is from http://www.quirksmode.org/js/events_properties.html\n",
       "    var targ;\n",
       "    if (!e) {\n",
       "        e = window.event;\n",
       "    }\n",
       "    if (e.target) {\n",
       "        targ = e.target;\n",
       "    } else if (e.srcElement) {\n",
       "        targ = e.srcElement;\n",
       "    }\n",
       "    if (targ.nodeType === 3) {\n",
       "        // defeat Safari bug\n",
       "        targ = targ.parentNode;\n",
       "    }\n",
       "\n",
       "    // pageX,Y are the mouse positions relative to the document\n",
       "    var boundingRect = targ.getBoundingClientRect();\n",
       "    var x = e.pageX - (boundingRect.left + document.body.scrollLeft);\n",
       "    var y = e.pageY - (boundingRect.top + document.body.scrollTop);\n",
       "\n",
       "    return { x: x, y: y };\n",
       "};\n",
       "\n",
       "/*\n",
       " * return a copy of an object with only non-object keys\n",
       " * we need this to avoid circular references\n",
       " * https://stackoverflow.com/a/24161582/3208463\n",
       " */\n",
       "function simpleKeys(original) {\n",
       "    return Object.keys(original).reduce(function (obj, key) {\n",
       "        if (typeof original[key] !== 'object') {\n",
       "            obj[key] = original[key];\n",
       "        }\n",
       "        return obj;\n",
       "    }, {});\n",
       "}\n",
       "\n",
       "mpl.figure.prototype.mouse_event = function (event, name) {\n",
       "    var canvas_pos = mpl.findpos(event);\n",
       "\n",
       "    if (name === 'button_press') {\n",
       "        this.canvas.focus();\n",
       "        this.canvas_div.focus();\n",
       "    }\n",
       "\n",
       "    var x = canvas_pos.x * this.ratio;\n",
       "    var y = canvas_pos.y * this.ratio;\n",
       "\n",
       "    this.send_message(name, {\n",
       "        x: x,\n",
       "        y: y,\n",
       "        button: event.button,\n",
       "        step: event.step,\n",
       "        guiEvent: simpleKeys(event),\n",
       "    });\n",
       "\n",
       "    /* This prevents the web browser from automatically changing to\n",
       "     * the text insertion cursor when the button is pressed.  We want\n",
       "     * to control all of the cursor setting manually through the\n",
       "     * 'cursor' event from matplotlib */\n",
       "    event.preventDefault();\n",
       "    return false;\n",
       "};\n",
       "\n",
       "mpl.figure.prototype._key_event_extra = function (_event, _name) {\n",
       "    // Handle any extra behaviour associated with a key event\n",
       "};\n",
       "\n",
       "mpl.figure.prototype.key_event = function (event, name) {\n",
       "    // Prevent repeat events\n",
       "    if (name === 'key_press') {\n",
       "        if (event.key === this._key) {\n",
       "            return;\n",
       "        } else {\n",
       "            this._key = event.key;\n",
       "        }\n",
       "    }\n",
       "    if (name === 'key_release') {\n",
       "        this._key = null;\n",
       "    }\n",
       "\n",
       "    var value = '';\n",
       "    if (event.ctrlKey && event.key !== 'Control') {\n",
       "        value += 'ctrl+';\n",
       "    }\n",
       "    else if (event.altKey && event.key !== 'Alt') {\n",
       "        value += 'alt+';\n",
       "    }\n",
       "    else if (event.shiftKey && event.key !== 'Shift') {\n",
       "        value += 'shift+';\n",
       "    }\n",
       "\n",
       "    value += 'k' + event.key;\n",
       "\n",
       "    this._key_event_extra(event, name);\n",
       "\n",
       "    this.send_message(name, { key: value, guiEvent: simpleKeys(event) });\n",
       "    return false;\n",
       "};\n",
       "\n",
       "mpl.figure.prototype.toolbar_button_onclick = function (name) {\n",
       "    if (name === 'download') {\n",
       "        this.handle_save(this, null);\n",
       "    } else {\n",
       "        this.send_message('toolbar_button', { name: name });\n",
       "    }\n",
       "};\n",
       "\n",
       "mpl.figure.prototype.toolbar_button_onmouseover = function (tooltip) {\n",
       "    this.message.textContent = tooltip;\n",
       "};\n",
       "\n",
       "///////////////// REMAINING CONTENT GENERATED BY embed_js.py /////////////////\n",
       "// prettier-ignore\n",
       "var _JSXTOOLS_RESIZE_OBSERVER=function(A){var t,i=new WeakMap,n=new WeakMap,a=new WeakMap,r=new WeakMap,o=new Set;function s(e){if(!(this instanceof s))throw new TypeError(\"Constructor requires 'new' operator\");i.set(this,e)}function h(){throw new TypeError(\"Function is not a constructor\")}function c(e,t,i,n){e=0 in arguments?Number(arguments[0]):0,t=1 in arguments?Number(arguments[1]):0,i=2 in arguments?Number(arguments[2]):0,n=3 in arguments?Number(arguments[3]):0,this.right=(this.x=this.left=e)+(this.width=i),this.bottom=(this.y=this.top=t)+(this.height=n),Object.freeze(this)}function d(){t=requestAnimationFrame(d);var s=new WeakMap,p=new Set;o.forEach((function(t){r.get(t).forEach((function(i){var r=t instanceof window.SVGElement,o=a.get(t),d=r?0:parseFloat(o.paddingTop),f=r?0:parseFloat(o.paddingRight),l=r?0:parseFloat(o.paddingBottom),u=r?0:parseFloat(o.paddingLeft),g=r?0:parseFloat(o.borderTopWidth),m=r?0:parseFloat(o.borderRightWidth),w=r?0:parseFloat(o.borderBottomWidth),b=u+f,F=d+l,v=(r?0:parseFloat(o.borderLeftWidth))+m,W=g+w,y=r?0:t.offsetHeight-W-t.clientHeight,E=r?0:t.offsetWidth-v-t.clientWidth,R=b+v,z=F+W,M=r?t.width:parseFloat(o.width)-R-E,O=r?t.height:parseFloat(o.height)-z-y;if(n.has(t)){var k=n.get(t);if(k[0]===M&&k[1]===O)return}n.set(t,[M,O]);var S=Object.create(h.prototype);S.target=t,S.contentRect=new c(u,d,M,O),s.has(i)||(s.set(i,[]),p.add(i)),s.get(i).push(S)}))})),p.forEach((function(e){i.get(e).call(e,s.get(e),e)}))}return s.prototype.observe=function(i){if(i instanceof window.Element){r.has(i)||(r.set(i,new Set),o.add(i),a.set(i,window.getComputedStyle(i)));var n=r.get(i);n.has(this)||n.add(this),cancelAnimationFrame(t),t=requestAnimationFrame(d)}},s.prototype.unobserve=function(i){if(i instanceof window.Element&&r.has(i)){var n=r.get(i);n.has(this)&&(n.delete(this),n.size||(r.delete(i),o.delete(i))),n.size||r.delete(i),o.size||cancelAnimationFrame(t)}},A.DOMRectReadOnly=c,A.ResizeObserver=s,A.ResizeObserverEntry=h,A}; // eslint-disable-line\n",
       "mpl.toolbar_items = [[\"Home\", \"Reset original view\", \"fa fa-home icon-home\", \"home\"], [\"Back\", \"Back to previous view\", \"fa fa-arrow-left icon-arrow-left\", \"back\"], [\"Forward\", \"Forward to next view\", \"fa fa-arrow-right icon-arrow-right\", \"forward\"], [\"\", \"\", \"\", \"\"], [\"Pan\", \"Left button pans, Right button zooms\\nx/y fixes axis, CTRL fixes aspect\", \"fa fa-arrows icon-move\", \"pan\"], [\"Zoom\", \"Zoom to rectangle\\nx/y fixes axis\", \"fa fa-square-o icon-check-empty\", \"zoom\"], [\"\", \"\", \"\", \"\"], [\"Download\", \"Download plot\", \"fa fa-floppy-o icon-save\", \"download\"]];\n",
       "\n",
       "mpl.extensions = [\"eps\", \"jpeg\", \"pgf\", \"pdf\", \"png\", \"ps\", \"raw\", \"svg\", \"tif\"];\n",
       "\n",
       "mpl.default_extension = \"png\";/* global mpl */\n",
       "\n",
       "var comm_websocket_adapter = function (comm) {\n",
       "    // Create a \"websocket\"-like object which calls the given IPython comm\n",
       "    // object with the appropriate methods. Currently this is a non binary\n",
       "    // socket, so there is still some room for performance tuning.\n",
       "    var ws = {};\n",
       "\n",
       "    ws.binaryType = comm.kernel.ws.binaryType;\n",
       "    ws.readyState = comm.kernel.ws.readyState;\n",
       "    function updateReadyState(_event) {\n",
       "        if (comm.kernel.ws) {\n",
       "            ws.readyState = comm.kernel.ws.readyState;\n",
       "        } else {\n",
       "            ws.readyState = 3; // Closed state.\n",
       "        }\n",
       "    }\n",
       "    comm.kernel.ws.addEventListener('open', updateReadyState);\n",
       "    comm.kernel.ws.addEventListener('close', updateReadyState);\n",
       "    comm.kernel.ws.addEventListener('error', updateReadyState);\n",
       "\n",
       "    ws.close = function () {\n",
       "        comm.close();\n",
       "    };\n",
       "    ws.send = function (m) {\n",
       "        //console.log('sending', m);\n",
       "        comm.send(m);\n",
       "    };\n",
       "    // Register the callback with on_msg.\n",
       "    comm.on_msg(function (msg) {\n",
       "        //console.log('receiving', msg['content']['data'], msg);\n",
       "        var data = msg['content']['data'];\n",
       "        if (data['blob'] !== undefined) {\n",
       "            data = {\n",
       "                data: new Blob(msg['buffers'], { type: data['blob'] }),\n",
       "            };\n",
       "        }\n",
       "        // Pass the mpl event to the overridden (by mpl) onmessage function.\n",
       "        ws.onmessage(data);\n",
       "    });\n",
       "    return ws;\n",
       "};\n",
       "\n",
       "mpl.mpl_figure_comm = function (comm, msg) {\n",
       "    // This is the function which gets called when the mpl process\n",
       "    // starts-up an IPython Comm through the \"matplotlib\" channel.\n",
       "\n",
       "    var id = msg.content.data.id;\n",
       "    // Get hold of the div created by the display call when the Comm\n",
       "    // socket was opened in Python.\n",
       "    var element = document.getElementById(id);\n",
       "    var ws_proxy = comm_websocket_adapter(comm);\n",
       "\n",
       "    function ondownload(figure, _format) {\n",
       "        window.open(figure.canvas.toDataURL());\n",
       "    }\n",
       "\n",
       "    var fig = new mpl.figure(id, ws_proxy, ondownload, element);\n",
       "\n",
       "    // Call onopen now - mpl needs it, as it is assuming we've passed it a real\n",
       "    // web socket which is closed, not our websocket->open comm proxy.\n",
       "    ws_proxy.onopen();\n",
       "\n",
       "    fig.parent_element = element;\n",
       "    fig.cell_info = mpl.find_output_cell(\"<div id='\" + id + \"'></div>\");\n",
       "    if (!fig.cell_info) {\n",
       "        console.error('Failed to find cell for figure', id, fig);\n",
       "        return;\n",
       "    }\n",
       "    fig.cell_info[0].output_area.element.on(\n",
       "        'cleared',\n",
       "        { fig: fig },\n",
       "        fig._remove_fig_handler\n",
       "    );\n",
       "};\n",
       "\n",
       "mpl.figure.prototype.handle_close = function (fig, msg) {\n",
       "    var width = fig.canvas.width / fig.ratio;\n",
       "    fig.cell_info[0].output_area.element.off(\n",
       "        'cleared',\n",
       "        fig._remove_fig_handler\n",
       "    );\n",
       "    fig.resizeObserverInstance.unobserve(fig.canvas_div);\n",
       "\n",
       "    // Update the output cell to use the data from the current canvas.\n",
       "    fig.push_to_output();\n",
       "    var dataURL = fig.canvas.toDataURL();\n",
       "    // Re-enable the keyboard manager in IPython - without this line, in FF,\n",
       "    // the notebook keyboard shortcuts fail.\n",
       "    IPython.keyboard_manager.enable();\n",
       "    fig.parent_element.innerHTML =\n",
       "        '<img src=\"' + dataURL + '\" width=\"' + width + '\">';\n",
       "    fig.close_ws(fig, msg);\n",
       "};\n",
       "\n",
       "mpl.figure.prototype.close_ws = function (fig, msg) {\n",
       "    fig.send_message('closing', msg);\n",
       "    // fig.ws.close()\n",
       "};\n",
       "\n",
       "mpl.figure.prototype.push_to_output = function (_remove_interactive) {\n",
       "    // Turn the data on the canvas into data in the output cell.\n",
       "    var width = this.canvas.width / this.ratio;\n",
       "    var dataURL = this.canvas.toDataURL();\n",
       "    this.cell_info[1]['text/html'] =\n",
       "        '<img src=\"' + dataURL + '\" width=\"' + width + '\">';\n",
       "};\n",
       "\n",
       "mpl.figure.prototype.updated_canvas_event = function () {\n",
       "    // Tell IPython that the notebook contents must change.\n",
       "    IPython.notebook.set_dirty(true);\n",
       "    this.send_message('ack', {});\n",
       "    var fig = this;\n",
       "    // Wait a second, then push the new image to the DOM so\n",
       "    // that it is saved nicely (might be nice to debounce this).\n",
       "    setTimeout(function () {\n",
       "        fig.push_to_output();\n",
       "    }, 1000);\n",
       "};\n",
       "\n",
       "mpl.figure.prototype._init_toolbar = function () {\n",
       "    var fig = this;\n",
       "\n",
       "    var toolbar = document.createElement('div');\n",
       "    toolbar.classList = 'btn-toolbar';\n",
       "    this.root.appendChild(toolbar);\n",
       "\n",
       "    function on_click_closure(name) {\n",
       "        return function (_event) {\n",
       "            return fig.toolbar_button_onclick(name);\n",
       "        };\n",
       "    }\n",
       "\n",
       "    function on_mouseover_closure(tooltip) {\n",
       "        return function (event) {\n",
       "            if (!event.currentTarget.disabled) {\n",
       "                return fig.toolbar_button_onmouseover(tooltip);\n",
       "            }\n",
       "        };\n",
       "    }\n",
       "\n",
       "    fig.buttons = {};\n",
       "    var buttonGroup = document.createElement('div');\n",
       "    buttonGroup.classList = 'btn-group';\n",
       "    var button;\n",
       "    for (var toolbar_ind in mpl.toolbar_items) {\n",
       "        var name = mpl.toolbar_items[toolbar_ind][0];\n",
       "        var tooltip = mpl.toolbar_items[toolbar_ind][1];\n",
       "        var image = mpl.toolbar_items[toolbar_ind][2];\n",
       "        var method_name = mpl.toolbar_items[toolbar_ind][3];\n",
       "\n",
       "        if (!name) {\n",
       "            /* Instead of a spacer, we start a new button group. */\n",
       "            if (buttonGroup.hasChildNodes()) {\n",
       "                toolbar.appendChild(buttonGroup);\n",
       "            }\n",
       "            buttonGroup = document.createElement('div');\n",
       "            buttonGroup.classList = 'btn-group';\n",
       "            continue;\n",
       "        }\n",
       "\n",
       "        button = fig.buttons[name] = document.createElement('button');\n",
       "        button.classList = 'btn btn-default';\n",
       "        button.href = '#';\n",
       "        button.title = name;\n",
       "        button.innerHTML = '<i class=\"fa ' + image + ' fa-lg\"></i>';\n",
       "        button.addEventListener('click', on_click_closure(method_name));\n",
       "        button.addEventListener('mouseover', on_mouseover_closure(tooltip));\n",
       "        buttonGroup.appendChild(button);\n",
       "    }\n",
       "\n",
       "    if (buttonGroup.hasChildNodes()) {\n",
       "        toolbar.appendChild(buttonGroup);\n",
       "    }\n",
       "\n",
       "    // Add the status bar.\n",
       "    var status_bar = document.createElement('span');\n",
       "    status_bar.classList = 'mpl-message pull-right';\n",
       "    toolbar.appendChild(status_bar);\n",
       "    this.message = status_bar;\n",
       "\n",
       "    // Add the close button to the window.\n",
       "    var buttongrp = document.createElement('div');\n",
       "    buttongrp.classList = 'btn-group inline pull-right';\n",
       "    button = document.createElement('button');\n",
       "    button.classList = 'btn btn-mini btn-primary';\n",
       "    button.href = '#';\n",
       "    button.title = 'Stop Interaction';\n",
       "    button.innerHTML = '<i class=\"fa fa-power-off icon-remove icon-large\"></i>';\n",
       "    button.addEventListener('click', function (_evt) {\n",
       "        fig.handle_close(fig, {});\n",
       "    });\n",
       "    button.addEventListener(\n",
       "        'mouseover',\n",
       "        on_mouseover_closure('Stop Interaction')\n",
       "    );\n",
       "    buttongrp.appendChild(button);\n",
       "    var titlebar = this.root.querySelector('.ui-dialog-titlebar');\n",
       "    titlebar.insertBefore(buttongrp, titlebar.firstChild);\n",
       "};\n",
       "\n",
       "mpl.figure.prototype._remove_fig_handler = function (event) {\n",
       "    var fig = event.data.fig;\n",
       "    if (event.target !== this) {\n",
       "        // Ignore bubbled events from children.\n",
       "        return;\n",
       "    }\n",
       "    fig.close_ws(fig, {});\n",
       "};\n",
       "\n",
       "mpl.figure.prototype._root_extra_style = function (el) {\n",
       "    el.style.boxSizing = 'content-box'; // override notebook setting of border-box.\n",
       "};\n",
       "\n",
       "mpl.figure.prototype._canvas_extra_style = function (el) {\n",
       "    // this is important to make the div 'focusable\n",
       "    el.setAttribute('tabindex', 0);\n",
       "    // reach out to IPython and tell the keyboard manager to turn it's self\n",
       "    // off when our div gets focus\n",
       "\n",
       "    // location in version 3\n",
       "    if (IPython.notebook.keyboard_manager) {\n",
       "        IPython.notebook.keyboard_manager.register_events(el);\n",
       "    } else {\n",
       "        // location in version 2\n",
       "        IPython.keyboard_manager.register_events(el);\n",
       "    }\n",
       "};\n",
       "\n",
       "mpl.figure.prototype._key_event_extra = function (event, _name) {\n",
       "    // Check for shift+enter\n",
       "    if (event.shiftKey && event.which === 13) {\n",
       "        this.canvas_div.blur();\n",
       "        // select the cell after this one\n",
       "        var index = IPython.notebook.find_cell_index(this.cell_info[0]);\n",
       "        IPython.notebook.select(index + 1);\n",
       "    }\n",
       "};\n",
       "\n",
       "mpl.figure.prototype.handle_save = function (fig, _msg) {\n",
       "    fig.ondownload(fig, null);\n",
       "};\n",
       "\n",
       "mpl.find_output_cell = function (html_output) {\n",
       "    // Return the cell and output element which can be found *uniquely* in the notebook.\n",
       "    // Note - this is a bit hacky, but it is done because the \"notebook_saving.Notebook\"\n",
       "    // IPython event is triggered only after the cells have been serialised, which for\n",
       "    // our purposes (turning an active figure into a static one), is too late.\n",
       "    var cells = IPython.notebook.get_cells();\n",
       "    var ncells = cells.length;\n",
       "    for (var i = 0; i < ncells; i++) {\n",
       "        var cell = cells[i];\n",
       "        if (cell.cell_type === 'code') {\n",
       "            for (var j = 0; j < cell.output_area.outputs.length; j++) {\n",
       "                var data = cell.output_area.outputs[j];\n",
       "                if (data.data) {\n",
       "                    // IPython >= 3 moved mimebundle to data attribute of output\n",
       "                    data = data.data;\n",
       "                }\n",
       "                if (data['text/html'] === html_output) {\n",
       "                    return [cell, data, j];\n",
       "                }\n",
       "            }\n",
       "        }\n",
       "    }\n",
       "};\n",
       "\n",
       "// Register the function which deals with the matplotlib target/channel.\n",
       "// The kernel may be null if the page has been refreshed.\n",
       "if (IPython.notebook.kernel !== null) {\n",
       "    IPython.notebook.kernel.comm_manager.register_target(\n",
       "        'matplotlib',\n",
       "        mpl.mpl_figure_comm\n",
       "    );\n",
       "}\n"
      ],
      "text/plain": [
       "<IPython.core.display.Javascript object>"
      ]
     },
     "metadata": {},
     "output_type": "display_data"
    },
    {
     "data": {
      "text/html": [
       "<img src=\"data:image/png;base64,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\" width=\"432\">"
      ],
      "text/plain": [
       "<IPython.core.display.HTML object>"
      ]
     },
     "metadata": {},
     "output_type": "display_data"
    },
    {
     "data": {
      "text/plain": [
       "[<matplotlib.lines.Line2D at 0x7f0d55a6ed00>]"
      ]
     },
     "execution_count": 106,
     "metadata": {},
     "output_type": "execute_result"
    }
   ],
   "source": [
    "%matplotlib notebook\n",
    "a = 0\n",
    "ldos_0 = Dynamic_Spliner_0.compute(xdos[a:-100] - 0.01)\n",
    "plt.plot(xdos[a:-100], ldos_0, c= 'r')\n",
    "plt.plot(xdos[a:-100], ldos[0, a:-100], c= 'b')"
   ]
  },
  {
   "cell_type": "code",
   "execution_count": null,
   "id": "5512c75d",
   "metadata": {},
   "outputs": [],
   "source": []
  },
  {
   "cell_type": "code",
   "execution_count": null,
   "id": "0a4ccd22",
   "metadata": {},
   "outputs": [],
   "source": [
    "Dynamic_Spliner"
   ]
  },
  {
   "cell_type": "code",
   "execution_count": 5,
   "id": "6ff48068",
   "metadata": {
    "ExecuteTime": {
     "end_time": "2023-03-28T18:27:11.965523Z",
     "start_time": "2023-03-28T18:27:11.910360Z"
    }
   },
   "outputs": [],
   "source": [
    "#Determine right_bound as highest eigenenergy\n",
    "def determine_rightbounds(eigen_energies):\n",
    "    right_bounds = []\n",
    "    for energies in (eigen_energies):\n",
    "        right_bound = torch.max(energies)\n",
    "        right_bounds.append(right_bound)\n",
    "    right_bounds = torch.vstack(right_bounds)\n",
    "    return right_bounds\n",
    "\n",
    "\n",
    "rbounds = determine_rightbounds(full_eigen_energies)\n",
    "\n",
    "def determine_leftbounds(eigen_energies):\n",
    "    left_bounds = []\n",
    "    for energies in (eigen_energies):\n",
    "        left_bound = torch.min(energies)\n",
    "        left_bounds.append(left_bound)\n",
    "    left_bounds = torch.vstack(left_bounds)\n",
    "    return left_bounds\n",
    "lbounds = determine_leftbounds(full_eigen_energies)\n"
   ]
  },
  {
   "cell_type": "code",
   "execution_count": 6,
   "id": "a6c5f365",
   "metadata": {
    "ExecuteTime": {
     "end_time": "2023-03-28T18:27:11.974036Z",
     "start_time": "2023-03-28T18:27:11.970672Z"
    }
   },
   "outputs": [],
   "source": [
    "# Determine Fermi level with respect to upper bound\n",
    "# Get core level references"
   ]
  },
  {
   "cell_type": "code",
   "execution_count": 7,
   "id": "5d6187a7",
   "metadata": {
    "ExecuteTime": {
     "end_time": "2023-03-28T18:27:14.814703Z",
     "start_time": "2023-03-28T18:27:11.976810Z"
    }
   },
   "outputs": [],
   "source": [
    "# Fermi level\n",
    "import ase\n",
    "\n",
    "T_0 = 200\n",
    "beta_0 = 1 / (ase.units.kB * T_0) # inverse temperature\n",
    "efermi = np.zeros(n_structures)\n",
    "for i in range(n_structures):\n",
    "    efermi[i] = utils.getmu(ldos[i], beta_0, xdos, n=4)"
   ]
  },
  {
   "cell_type": "code",
   "execution_count": 8,
   "id": "39bbc8ad",
   "metadata": {
    "ExecuteTime": {
     "end_time": "2023-03-28T18:27:14.822646Z",
     "start_time": "2023-03-28T18:27:14.816837Z"
    }
   },
   "outputs": [
    {
     "data": {
      "text/plain": [
       "-4.375835372334838e+00"
      ]
     },
     "execution_count": 8,
     "metadata": {},
     "output_type": "execute_result"
    }
   ],
   "source": [
    "max(efermi)"
   ]
  },
  {
   "cell_type": "code",
   "execution_count": 9,
   "id": "ea38b737",
   "metadata": {
    "ExecuteTime": {
     "end_time": "2023-03-28T18:27:26.538479Z",
     "start_time": "2023-03-28T18:27:14.823931Z"
    }
   },
   "outputs": [
    {
     "name": "stderr",
     "output_type": "stream",
     "text": [
      "100%|██████████████████████████████████████████████████████████████████████████████████████████████████████████████████████████████████████████████████████████████████████████| 1039/1039 [00:11<00:00, 89.28it/s]\n"
     ]
    }
   ],
   "source": [
    "##Generate individual xdos, ldos\n",
    "n_xdos = []\n",
    "n_ldos = []\n",
    "\n",
    "sigma = torch.tensor(0.3)\n",
    "ndos = 200\n",
    "\n",
    "emin = -24.5537\n",
    "emax = 11.3464\n",
    "\n",
    "for i in tqdm(range(n_structures)):\n",
    "    x_dos = torch.linspace(lbounds[i].item() - 1.5, rbounds[i].item()- (10 * sigma),ndos)\n",
    "    l_dos = torch.sum(torch.exp(-0.5*((x_dos - full_eigen_energies[i].view(-1,1))/sigma)**2), dim = 0)\n",
    "    n_xdos.append(x_dos)\n",
    "    n_ldos.append(l_dos)\n",
    "    \n",
    "n_xdos = torch.vstack(n_xdos)\n",
    "n_ldos = torch.vstack(n_ldos)\n",
    "n_ldos = ((n_ldos.T * normalization ).T)* 2"
   ]
  },
  {
   "cell_type": "code",
   "execution_count": 10,
   "id": "d73b7589",
   "metadata": {
    "ExecuteTime": {
     "end_time": "2023-03-28T18:27:26.913878Z",
     "start_time": "2023-03-28T18:27:26.541680Z"
    }
   },
   "outputs": [
    {
     "data": {
      "text/plain": [
       "<matplotlib.collections.PathCollection at 0x7f0be26d3610>"
      ]
     },
     "execution_count": 10,
     "metadata": {},
     "output_type": "execute_result"
    },
    {
     "data": {
      "image/png": "[encoded data removed]",
      "text/plain": [
       "<Figure size 720x720 with 1 Axes>"
      ]
     },
     "metadata": {
      "needs_background": "light"
     },
     "output_type": "display_data"
    }
   ],
   "source": [
    "i = 800\n",
    "plt.rcParams['figure.figsize'] = 10, 10\n",
    "plt.plot(xdos, ldos[i], c = 'r')\n",
    "plt.plot(n_xdos[i], n_ldos[i], c= 'b')\n",
    "plt.scatter(n_xdos[i], n_ldos[i], c= 'black')"
   ]
  },
  {
   "cell_type": "code",
   "execution_count": 11,
   "id": "09c7a867",
   "metadata": {
    "ExecuteTime": {
     "end_time": "2023-03-28T18:27:27.057463Z",
     "start_time": "2023-03-28T18:27:26.915255Z"
    }
   },
   "outputs": [],
   "source": [
    "np.save(\"n_ldos.npy\", n_ldos)\n",
    "np.save(\"n_xdos.npy\", n_xdos)"
   ]
  },
  {
   "cell_type": "markdown",
   "id": "90dbdbbf",
   "metadata": {},
   "source": [
    "## Quartic dataset"
   ]
  },
  {
   "cell_type": "code",
   "execution_count": 12,
   "id": "b39aaea9",
   "metadata": {
    "ExecuteTime": {
     "end_time": "2023-03-28T18:27:27.116654Z",
     "start_time": "2023-03-28T18:27:27.059505Z"
    }
   },
   "outputs": [],
   "source": [
    "#Determine bounds\n",
    "#Determine right_bound as highest eigenenergy\n",
    "rbounds = determine_rightbounds(full_eigen_energies)\n",
    "efermi = torch.tensor(efermi)"
   ]
  },
  {
   "cell_type": "code",
   "execution_count": 13,
   "id": "41cf0c12",
   "metadata": {
    "ExecuteTime": {
     "end_time": "2023-03-28T18:27:27.223076Z",
     "start_time": "2023-03-28T18:27:27.117939Z"
    }
   },
   "outputs": [
    {
     "data": {
      "text/plain": [
       "torch.return_types.max(\n",
       "values=tensor(-4.3758),\n",
       "indices=tensor(723))"
      ]
     },
     "execution_count": 13,
     "metadata": {},
     "output_type": "execute_result"
    }
   ],
   "source": [
    "torch.max(efermi, dim = 0)"
   ]
  },
  {
   "cell_type": "code",
   "execution_count": 14,
   "id": "e604bc88",
   "metadata": {
    "ExecuteTime": {
     "end_time": "2023-03-28T18:27:27.260371Z",
     "start_time": "2023-03-28T18:27:27.225432Z"
    }
   },
   "outputs": [
    {
     "data": {
      "text/plain": [
       "torch.return_types.min(\n",
       "values=tensor(-7.8526),\n",
       "indices=tensor(346))"
      ]
     },
     "execution_count": 14,
     "metadata": {},
     "output_type": "execute_result"
    }
   ],
   "source": [
    "torch.min(efermi, dim = 0)"
   ]
  },
  {
   "cell_type": "code",
   "execution_count": 15,
   "id": "f4807872",
   "metadata": {
    "ExecuteTime": {
     "end_time": "2023-03-28T18:27:27.338527Z",
     "start_time": "2023-03-28T18:27:27.262592Z"
    }
   },
   "outputs": [
    {
     "data": {
      "text/plain": [
       "tensor(1)"
      ]
     },
     "execution_count": 15,
     "metadata": {},
     "output_type": "execute_result"
    }
   ],
   "source": [
    "torch.min(torch.min(torch.tensor([5,1])), torch.tensor(2))"
   ]
  },
  {
   "cell_type": "code",
   "execution_count": 16,
   "id": "8688a737",
   "metadata": {
    "ExecuteTime": {
     "end_time": "2023-03-28T18:27:27.394087Z",
     "start_time": "2023-03-28T18:27:27.340554Z"
    }
   },
   "outputs": [],
   "source": [
    "def quartic_dos(energies,xdos, sigma):\n",
    "   \n",
    "    left_b = energies - (np.sqrt(7) * sigma)\n",
    "\n",
    "    output = torch.zeros_like(xdos)\n",
    "\n",
    "    left_bound = torch.searchsorted(xdos, left_b)\n",
    "    \n",
    "    xdos_interval = xdos[1]-xdos[0]\n",
    "    interval = int((2 * (np.sqrt(7) * sigma))/xdos_interval) + 1\n",
    "    indexes = torch.clamp(left_bound.repeat(interval,1) + torch.arange(0,interval,1).view(-1,1), 0, len(xdos)-1)\n",
    "                     \n",
    "    E = torch.clamp((energies.view(1,-1) - xdos[indexes]), min = -1* (np.sqrt(7) * sigma), max = (np.sqrt(7) * sigma))\n",
    "    values = (E**2 - (7 * (sigma**2))) **2 / ((16/15) * (np.sqrt(7) * sigma)**5)\n",
    "    output.index_add_(0, indexes.flatten(), values.flatten())\n",
    "\n",
    "#     output = -1 * output\n",
    "    \n",
    "    return output"
   ]
  },
  {
   "cell_type": "code",
   "execution_count": 17,
   "id": "2ba1f126",
   "metadata": {
    "ExecuteTime": {
     "end_time": "2023-03-28T18:27:28.972518Z",
     "start_time": "2023-03-28T18:27:27.396060Z"
    }
   },
   "outputs": [],
   "source": [
    "#1\n",
    "full_eigen_energies = [torch.tensor(i.flatten()) for i in eigen_energies]\n",
    "sorted_full_eigen_energies = [torch.sort(i)[0] for i in full_eigen_energies]\n",
    "#2\n",
    "#Sticking to sigma=0.3, 2eV above the max fermi level will correspond to max energy of 2.8ev above the max fermi level\n",
    "sorted_full_eigen_energies_2 = []\n",
    "for e in sorted_full_eigen_energies:\n",
    "    \n",
    "    sorted_full_eigen_energies_2.append(e[:torch.searchsorted(e, torch.max(efermi) + 2.8)])\n",
    "#3\n",
    "sorted_full_eigen_energies_3 = []\n",
    "for i,e in enumerate(sorted_full_eigen_energies):    \n",
    "    sorted_full_eigen_energies_3.append(e[:torch.searchsorted(e, efermi[i] + 2.8)])"
   ]
  },
  {
   "cell_type": "code",
   "execution_count": 18,
   "id": "a1c84cfa",
   "metadata": {
    "ExecuteTime": {
     "end_time": "2023-03-28T18:27:32.023031Z",
     "start_time": "2023-03-28T18:27:28.974803Z"
    }
   },
   "outputs": [
    {
     "name": "stderr",
     "output_type": "stream",
     "text": [
      "100%|█████████████████████████████████████████████████████████████████████████████████████████████████████████████████████████████████████████████████████████████████████████| 1039/1039 [00:03<00:00, 343.44it/s]\n"
     ]
    }
   ],
   "source": [
    "##Generate individual xdos, ldos\n",
    "\n",
    "\n",
    "n_xdos2 = []\n",
    "n_ldos2 = []\n",
    "\n",
    "sigma = torch.tensor(0.3)\n",
    "ndos = 778 #+ int(30/0.05)\n",
    "\n",
    "\n",
    "emin = -24.5537\n",
    "emax = 11.3464\n",
    "for i in tqdm(range(n_structures)):\n",
    "    #steps = int((rbounds[i].item()- (10 * sigma) - lbounds[i].item() - 1.5)/0.05)\n",
    "    x_dos2 = torch.linspace(emin - 1.5, emax + 1.5,ndos)\n",
    "    l_dos2 = quartic_dos(sorted_full_eigen_energies[i], x_dos2, sigma)#torch.sum(torch.exp(-0.5*((x_dos - full_eigen_energies[i].view(-1,1))/sigma)**2), dim = 0)\n",
    "    n_xdos2.append(x_dos2)\n",
    "    n_ldos2.append(l_dos2)\n",
    "    \n",
    "n_xdos2 = torch.vstack(n_xdos2)\n",
    "n_ldos2 = torch.vstack(n_ldos2)\n",
    "n_ldos2 = ((n_ldos2.T * normalization_quartic ).T)* 2\n",
    "\n",
    "#Do cutting here?"
   ]
  },
  {
   "cell_type": "code",
   "execution_count": 19,
   "id": "bd2416a2",
   "metadata": {
    "ExecuteTime": {
     "end_time": "2023-03-28T18:27:32.177431Z",
     "start_time": "2023-03-28T18:27:32.024502Z"
    }
   },
   "outputs": [
    {
     "data": {
      "text/plain": [
       "<matplotlib.collections.LineCollection at 0x7f0be1a0e580>"
      ]
     },
     "execution_count": 19,
     "metadata": {},
     "output_type": "execute_result"
    },
    {
     "data": {
      "image/png": "[encoded data removed]",
      "text/plain": [
       "<Figure size 720x720 with 1 Axes>"
      ]
     },
     "metadata": {
      "needs_background": "light"
     },
     "output_type": "display_data"
    }
   ],
   "source": [
    "i = 700\n",
    "#plt.plot(n_xdos[i], n_ldos[i], c= 'r')\n",
    "plt.plot(xdos, ldos[i], c= 'b')\n",
    "plt.plot(xdos, n_ldos2[i], c= 'g')\n",
    "plt.vlines(x = efermi[i], ymin = -0.05, ymax = 0.7)"
   ]
  },
  {
   "cell_type": "markdown",
   "id": "2e6d966f",
   "metadata": {},
   "source": [
    "Datasets generated: <br/>\n",
    "1) Full quartic dataset <br/> \n",
    "2) Up to max(Efermi + 2) <br/> \n",
    "3) Up to Efermi + 2 for everyone <br/>\n"
   ]
  },
  {
   "cell_type": "code",
   "execution_count": 20,
   "id": "d7db2fbe",
   "metadata": {
    "ExecuteTime": {
     "end_time": "2023-03-28T18:27:34.926435Z",
     "start_time": "2023-03-28T18:27:32.178816Z"
    }
   },
   "outputs": [
    {
     "name": "stderr",
     "output_type": "stream",
     "text": [
      "100%|█████████████████████████████████████████████████████████████████████████████████████████████████████████████████████████████████████████████████████████████████████████| 1039/1039 [00:02<00:00, 381.87it/s]\n"
     ]
    }
   ],
   "source": [
    "##Generate Full quartic dataset\n",
    "\n",
    "\n",
    "full_xdos = []\n",
    "full_ldos = []\n",
    "\n",
    "sigma = torch.tensor(0.3)\n",
    "ndos = 778 #+ int(30/0.05)\n",
    "\n",
    "\n",
    "emin = -24.5537\n",
    "emax = 11.3464\n",
    "\n",
    "\n",
    "\n",
    "full_xdos = torch.arange(emin - 1.5, emax + 1.5,0.05)\n",
    "for i in tqdm(range(n_structures)):\n",
    "    #steps = int((rbounds[i].item()- (10 * sigma) - lbounds[i].item() - 1.5)/0.05)\n",
    "    #x_dos2 = torch.linspace(emin - 1.5, emax + 1.5,ndos)\n",
    "    full_ldos_i = quartic_dos(sorted_full_eigen_energies[i], full_xdos, sigma)#torch.sum(torch.exp(-0.5*((x_dos - full_eigen_energies[i].view(-1,1))/sigma)**2), dim = 0)\n",
    "#     n_xdos2.append(x_dos2)\n",
    "    full_ldos.append(full_ldos_i)\n",
    "    \n",
    "#n_xdos2 = torch.vstack(n_xdos2)\n",
    "full_ldos = torch.vstack(full_ldos)\n",
    "full_ldos = ((full_ldos.T * normalization_quartic ).T)* 2\n",
    "\n",
    "#Do cutting here?"
   ]
  },
  {
   "cell_type": "code",
   "execution_count": 21,
   "id": "1f22b83e",
   "metadata": {
    "ExecuteTime": {
     "end_time": "2023-03-28T18:27:36.860974Z",
     "start_time": "2023-03-28T18:27:34.928494Z"
    }
   },
   "outputs": [
    {
     "name": "stderr",
     "output_type": "stream",
     "text": [
      "100%|█████████████████████████████████████████████████████████████████████████████████████████████████████████████████████████████████████████████████████████████████████████| 1039/1039 [00:01<00:00, 542.76it/s]\n"
     ]
    }
   ],
   "source": [
    "## Generate up to max(Efermi + 2)\n",
    "full_xdos_2 = []\n",
    "full_ldos_2 = []\n",
    "\n",
    "sigma = torch.tensor(0.3)\n",
    "ndos = 778 #+ int(30/0.05)\n",
    "\n",
    "\n",
    "emin = -24.5537\n",
    "emax = torch.max(efermi)\n",
    "\n",
    "\n",
    "\n",
    "full_xdos_2 = torch.arange(emin - 1.5, emax + 1,0.05)\n",
    "for i in tqdm(range(n_structures)):\n",
    "    #steps = int((rbounds[i].item()- (10 * sigma) - lbounds[i].item() - 1.5)/0.05)\n",
    "    #x_dos2 = torch.linspace(emin - 1.5, emax + 1.5,ndos)\n",
    "    full_ldos_i = quartic_dos(sorted_full_eigen_energies_2[i], full_xdos, sigma)#torch.sum(torch.exp(-0.5*((x_dos - full_eigen_energies[i].view(-1,1))/sigma)**2), dim = 0)\n",
    "#     n_xdos2.append(x_dos2)\n",
    "    full_ldos_2.append(full_ldos_i)\n",
    "    \n",
    "#n_xdos2 = torch.vstack(n_xdos2)\n",
    "full_ldos_2 = torch.vstack(full_ldos_2)\n",
    "full_ldos_2 = ((full_ldos_2.T * normalization_quartic ).T)* 2\n",
    "\n",
    "#Do cutting here?"
   ]
  },
  {
   "cell_type": "code",
   "execution_count": 22,
   "id": "7e5016a7",
   "metadata": {
    "ExecuteTime": {
     "end_time": "2023-03-28T18:27:36.864978Z",
     "start_time": "2023-03-28T18:27:36.862462Z"
    }
   },
   "outputs": [],
   "source": [
    "# ## Generate up to Efermi + 2 (4?)\n",
    "\n",
    "# full_xdos_3 = []\n",
    "# full_ldos_3 = []\n",
    "\n",
    "# sigma = torch.tensor(0.3)\n",
    "# ndos = 778 #+ int(30/0.05)\n",
    "\n",
    "\n",
    "# emin = -24.5537\n",
    "# emax = torch.max(efermi)\n",
    "\n",
    "\n",
    "\n",
    "\n",
    "# for i in tqdm(range(n_structures)):\n",
    "#     xdos_3 = torch.arange(emin - 1.5, efermi[i] + 1,0.05)\n",
    "#     #steps = int((rbounds[i].item()- (10 * sigma) - lbounds[i].item() - 1.5)/0.05)\n",
    "#     #x_dos2 = torch.linspace(emin - 1.5, emax + 1.5,ndos)\n",
    "#     full_ldos_i = quartic_dos(sorted_full_eigen_energies_3[i], full_xdos, sigma)#torch.sum(torch.exp(-0.5*((x_dos - full_eigen_energies[i].view(-1,1))/sigma)**2), dim = 0)\n",
    "#     full_xdos_3.append(xdos_3)\n",
    "#     full_ldos_3.append(full_ldos_i)\n",
    "    \n",
    "# full_xdos_3 = torch.vstack(full_xdos_3)\n",
    "# full_ldos_3 = torch.vstack(full_ldos_3)\n",
    "# full_ldos_3 = ((full_ldos_3.T * normalization_quartic ).T)* 2\n",
    "\n",
    "# #Do cutting here?"
   ]
  },
  {
   "cell_type": "markdown",
   "id": "741e904d",
   "metadata": {},
   "source": [
    "## Gradient descent in loss functions"
   ]
  },
  {
   "cell_type": "code",
   "execution_count": 23,
   "id": "e1585d2a",
   "metadata": {
    "ExecuteTime": {
     "end_time": "2023-03-28T18:27:37.033514Z",
     "start_time": "2023-03-28T18:27:36.866303Z"
    }
   },
   "outputs": [],
   "source": [
    "from dostools.loss.loss import t_get_mse"
   ]
  },
  {
   "cell_type": "code",
   "execution_count": 24,
   "id": "f184caef",
   "metadata": {
    "ExecuteTime": {
     "end_time": "2023-03-28T09:09:10.690468Z",
     "start_time": "2023-03-28T09:09:10.688284Z"
    }
   },
   "outputs": [],
   "source": [
    "#Goal is to only evaluate loss on the relevant energies\n",
    "# 1) Need to know the range of relevant energies \n",
    "# 2) Should train the energy levels individually,\n",
    "# 3) Need a dataset class\n",
    "# 4) Model receives data and determines which one to feed to\n",
    "# 5) Optimizer updates all relevant weights at once\n",
    "\n",
    "# To define Loss\n",
    "# 1) String together all the xdos, ldos values\n",
    "# 2) Calculate loss on that interval"
   ]
  },
  {
   "cell_type": "code",
   "execution_count": 25,
   "id": "a5769926",
   "metadata": {
    "ExecuteTime": {
     "end_time": "2023-03-28T09:09:10.701171Z",
     "start_time": "2023-03-28T09:09:10.691883Z"
    }
   },
   "outputs": [],
   "source": [
    "# Quartic polynomials\n",
    "# 1) "
   ]
  },
  {
   "cell_type": "code",
   "execution_count": 26,
   "id": "8f890103",
   "metadata": {
    "ExecuteTime": {
     "end_time": "2023-03-28T09:09:10.711618Z",
     "start_time": "2023-03-28T09:09:10.702579Z"
    }
   },
   "outputs": [],
   "source": [
    "#Need to see if i should align all at once or just one at a time"
   ]
  },
  {
   "cell_type": "code",
   "execution_count": 24,
   "id": "3df1b4bc",
   "metadata": {
    "ExecuteTime": {
     "end_time": "2023-03-28T18:27:59.676064Z",
     "start_time": "2023-03-28T18:27:59.655340Z"
    }
   },
   "outputs": [],
   "source": [
    "def MSE_shift_discrete(pred: torch.tensor, target_eigvals: list, normalization:torch.tensor, xdos: torch.tensor, rbound:int, n_epochs:int, draw = False):\n",
    "    #cannot rely solely on error values because pred might look different from target\n",
    "    alignments = []\n",
    "    all_mse = []\n",
    "    sigma = 0.3\n",
    "    patience = 20\n",
    "    counter = 0\n",
    "###DRAW\n",
    "    if draw:\n",
    "        fig, ax_list = plt.subplots(1,1)\n",
    "    #     ax_list = ax_list.flatten()\n",
    "        line, = ax_list.plot(xdos, pred[0], label = \"Aligned True\")\n",
    "        z, = ax_list.plot(xdos, pred[0], label = \"Prediction\")\n",
    "        ax_list.vlines(x = -2.3231, ymin = -0.05, ymax = 1, color = 'black')\n",
    "        fig.legend([line,z], labels = [\"Aligned True\", \"Prediction\"], loc = \"lower center\")\n",
    "\n",
    "    for i in tqdm(range(len(target_eigvals))):        \n",
    "        xdos_i = xdos\n",
    "        shift = torch.nn.parameter.Parameter(torch.tensor(0.))\n",
    "        best_mse = torch.tensor(1)\n",
    "        best_state = shift.clone()\n",
    "        opt_LBFGS = torch.optim.LBFGS([shift], lr = 100, line_search_fn = 'strong_wolfe')#, weight_decay = 0)\n",
    "        opt_adam = torch.optim.Adam([shift], lr = 1, weight_decay = 0)\n",
    "        scheduler = torch.optim.lr_scheduler.ReduceLROnPlateau(opt_adam, factor = 0.1, patience = 20, threshold = 1e-7, min_lr = 0.01)\n",
    "        if draw:\n",
    "            z.set_ydata(pred[i].detach().numpy())\n",
    "        prev_mse = torch.tensor(1)\n",
    "        for epoch in range(n_epochs):            \n",
    "            opt_LBFGS.zero_grad()\n",
    "            def closure():\n",
    "                opt_LBFGS.zero_grad()\n",
    "                ldos_i = quartic_dos(target_eigvals[i] + shift, xdos_i, sigma)\n",
    "                ldos_i = ((ldos_i * normalization[i] ))* 2\n",
    "                mse = t_get_mse(pred[i,:rbound], ldos_i[:rbound])\n",
    "                mse.backward()\n",
    "                return mse\n",
    "                            \n",
    "            \n",
    "            if epoch == 0:\n",
    "                opt_LBFGS.step(closure)\n",
    "            else:\n",
    "                opt_adam.step(closure)\n",
    "            \n",
    "            with torch.no_grad():\n",
    "                ldos_i = quartic_dos(target_eigvals[i] + shift, xdos_i, sigma)\n",
    "                ldos_i = ((ldos_i * normalization[i] ))* 2\n",
    "                mse = t_get_mse(pred[i,:rbound], ldos_i[:rbound])\n",
    "                scheduler.step(mse)\n",
    "            if mse < best_mse:\n",
    "                \n",
    "                best_mse = mse.detach().clone()\n",
    "                best_state = shift.detach().clone()\n",
    "            \n",
    "            if mse < prev_mse * (1 - 1e-3):\n",
    "                counter = 0 \n",
    "            else:\n",
    "                counter +=1\n",
    "            prev_mse = mse\n",
    "#                 counter += 1\n",
    "#                 if counter >= patience:\n",
    "#                     shift = torch.nn.parameter.Parameter(torch.tensor(best_state))\n",
    "#                     counter = 0\n",
    "#             else:\n",
    "                \n",
    "##DRAW      \n",
    "            if draw:\n",
    "                ldos_i = quartic_dos(target_eigvals[i] + shift, xdos_i, sigma)\n",
    "                ldos_i = ((ldos_i * normalization[i] ))* 2\n",
    "                line.set_ydata(ldos_i.detach().numpy())\n",
    "                fig.suptitle(\"Epochs: {}, Shift: {:.3}, Best Shift: {:.3}, Current loss:{:.3}, Best Loss: {:.3}, LR: {}\".format(epoch, shift.item(), best_state.item(), mse.item(), best_mse.item(), opt_adam.param_groups[0]['lr']))\n",
    "                fig.canvas.draw()\n",
    "                fig.canvas.flush_events()\n",
    "            \n",
    "            \n",
    "            if mse < 1e-10:\n",
    "#                 print (\"break at lr: {}, mse : {}, epoch : {}, shift: {}\". format(opt.param_groups[0]['lr'], mse, epoch, shift.item()))\n",
    "                break\n",
    "            if best_mse.item() > 1e-5 and counter >= patience: #does not really work because i dont know when the error is unacceptable, maybe only applies to trained models?\n",
    "                shift = torch.nn.parameter.Parameter(best_state)\n",
    "                opt_adam = torch.optim.Adam([shift], lr = opt_adam.param_groups[0]['lr'], weight_decay = 0)\n",
    "                counter = 0\n",
    "                    \n",
    "            if opt_adam.param_groups[0]['lr'] < 0.1 and (counter >= patience or mse.item() < 1e-10):\n",
    "#                 print (\"break at lr: {}, mse : {}, epoch : {}, shift: {}\". format(opt.param_groups[0]['lr'], mse, epoch, shift.item()))\n",
    "                break\n",
    "\n",
    "\n",
    "        alignments.append(torch.tensor(best_state.item()))\n",
    "        ldos_i = quartic_dos(target_eigvals[i] + shift, xdos_i, sigma)\n",
    "        ldos_i = ((ldos_i * normalization_quartic[i] ))* 2\n",
    "        mse = t_get_mse(pred[i,:rbound], ldos_i[:rbound])\n",
    "        all_mse.append(mse)\n",
    "                \n",
    "        \n",
    "    all_mse = torch.vstack(all_mse)\n",
    "    alignments = torch.vstack(alignments)\n",
    "    \n",
    "    return all_mse, alignments\n"
   ]
  },
  {
   "cell_type": "code",
   "execution_count": 28,
   "id": "2b98e3b3",
   "metadata": {
    "ExecuteTime": {
     "end_time": "2023-03-28T09:09:10.749700Z",
     "start_time": "2023-03-28T09:09:10.739094Z"
    }
   },
   "outputs": [],
   "source": [
    "def MSE_shift_continuous(x_pred, target): #Should make the model repredict the DOS at a shifted energy value\n",
    "    alignments = torch.nn.parameter.Parameter(torch.zeros(len(target)))\n",
    "    pass"
   ]
  },
  {
   "cell_type": "code",
   "execution_count": 29,
   "id": "f453e84d",
   "metadata": {
    "ExecuteTime": {
     "end_time": "2023-03-28T09:09:10.761648Z",
     "start_time": "2023-03-28T09:09:10.751098Z"
    }
   },
   "outputs": [],
   "source": [
    "def MSE_shift_fourier(x_pred, target):\n",
    "    alignments = torch.nn.parameter.Parameter(torch.zeros(len(target)))\n",
    "    pass"
   ]
  },
  {
   "cell_type": "code",
   "execution_count": 30,
   "id": "4341c8ae",
   "metadata": {
    "ExecuteTime": {
     "end_time": "2023-03-28T09:09:10.773716Z",
     "start_time": "2023-03-28T09:09:10.763048Z"
    }
   },
   "outputs": [],
   "source": [
    "def MSE_shift_continuous(pred, target): #shifts the prediction values, 1) want to extract the inner representation with a method. 2) modify the energy input values at the inner representation layer, 3) optimize the optimal alignment values \n",
    "    alignments = torch.nn.parameter.Parameter(torch.tensor(0.))\n",
    "    pass"
   ]
  },
  {
   "cell_type": "code",
   "execution_count": 31,
   "id": "dce1bd08",
   "metadata": {
    "ExecuteTime": {
     "end_time": "2023-03-28T09:09:13.682023Z",
     "start_time": "2023-03-28T09:09:10.775134Z"
    },
    "hide_input": true,
    "scrolled": true
   },
   "outputs": [
    {
     "name": "stderr",
     "output_type": "stream",
     "text": [
      "100%|█████████████████████████████████████████████████████████████████████████████████████████████████████████████████████████████████████████████████████████████████████████| 1039/1039 [00:02<00:00, 360.90it/s]\n"
     ]
    }
   ],
   "source": [
    "##Generate shifted quartic dataset\n",
    "\n",
    "\n",
    "full_xdos = []\n",
    "shifted_full_ldos = []\n",
    "\n",
    "sigma = torch.tensor(0.3)\n",
    "# ndos = 778 #+ int(30/0.05)\n",
    "\n",
    "\n",
    "emin = -24.5537\n",
    "emax = 11.3464\n",
    "\n",
    "true_alignments = (torch.rand(1039)-0.5) * 4\n",
    "\n",
    "full_xdos = torch.arange(emin - 1.5, emax + 3,0.05)\n",
    "for i in tqdm(range(n_structures)):\n",
    "    #steps = int((rbounds[i].item()- (10 * sigma) - lbounds[i].item() - 1.5)/0.05)\n",
    "    #x_dos2 = torch.linspace(emin - 1.5, emax + 1.5,ndos)\n",
    "    shifted_full_ldos_i = quartic_dos(sorted_full_eigen_energies[i] + true_alignments[i], full_xdos, sigma)#torch.sum(torch.exp(-0.5*((x_dos - full_eigen_energies[i].view(-1,1))/sigma)**2), dim = 0)\n",
    "#     n_xdos2.append(x_dos2)\n",
    "    shifted_full_ldos.append(shifted_full_ldos_i)\n",
    "    \n",
    "#n_xdos2 = torch.vstack(n_xdos2)\n",
    "shifted_full_ldos = torch.vstack(shifted_full_ldos)\n",
    "shifted_full_ldos = ((shifted_full_ldos.T * normalization_quartic ).T)* 2\n",
    "\n",
    "#Do cutting here?"
   ]
  },
  {
   "cell_type": "code",
   "execution_count": 45,
   "id": "5d799bc4",
   "metadata": {
    "ExecuteTime": {
     "end_time": "2023-03-28T09:15:09.443231Z",
     "start_time": "2023-03-28T09:15:09.429601Z"
    }
   },
   "outputs": [],
   "source": [
    "%matplotlib notebook\n",
    "matplotlib.rcParams['figure.figsize'] = (10, 10)"
   ]
  },
  {
   "cell_type": "code",
   "execution_count": 71,
   "id": "f051ead5",
   "metadata": {
    "ExecuteTime": {
     "end_time": "2023-03-28T09:24:31.410602Z",
     "start_time": "2023-03-28T09:22:05.148489Z"
    },
    "scrolled": false
   },
   "outputs": [
    {
     "name": "stderr",
     "output_type": "stream",
     "text": [
      "100%|██████████████████████████████████████████████████████████████████████████████████████████████████████████████████████████████████████████████████████████████████████████| 1039/1039 [02:26<00:00,  7.10it/s]\n"
     ]
    }
   ],
   "source": [
    "draw = False\n",
    "i = 0\n",
    "j = 1039\n",
    "\n",
    "mse3, shift3 = MSE_shift_discrete(shifted_full_ldos[i:i+j], sorted_full_eigen_energies[i:i+j], normalization_quartic[i:i+j], full_xdos, 479, 50, draw = draw)"
   ]
  },
  {
   "cell_type": "code",
   "execution_count": 74,
   "id": "0abdf5ac",
   "metadata": {
    "ExecuteTime": {
     "end_time": "2023-03-28T08:42:05.225253Z",
     "start_time": "2023-03-28T08:42:05.214183Z"
    }
   },
   "outputs": [
    {
     "data": {
      "text/plain": [
       "tensor(-1.9190)"
      ]
     },
     "execution_count": 74,
     "metadata": {},
     "output_type": "execute_result"
    }
   ],
   "source": []
  },
  {
   "cell_type": "code",
   "execution_count": 72,
   "id": "9ac56832",
   "metadata": {
    "ExecuteTime": {
     "end_time": "2023-03-28T09:24:32.266043Z",
     "start_time": "2023-03-28T09:24:32.211396Z"
    }
   },
   "outputs": [
    {
     "data": {
      "text/plain": [
       "tensor([[2.5008e-14],\n",
       "        [8.6894e-17],\n",
       "        [4.9784e-12],\n",
       "        ...,\n",
       "        [1.4592e-14],\n",
       "        [7.5228e-11],\n",
       "        [1.0957e-15]], grad_fn=<CatBackward0>)"
      ]
     },
     "execution_count": 72,
     "metadata": {},
     "output_type": "execute_result"
    }
   ],
   "source": [
    "mse3"
   ]
  },
  {
   "cell_type": "code",
   "execution_count": 89,
   "id": "7898fab8",
   "metadata": {
    "ExecuteTime": {
     "end_time": "2023-03-28T09:25:41.426267Z",
     "start_time": "2023-03-28T09:25:41.418967Z"
    }
   },
   "outputs": [
    {
     "name": "stdout",
     "output_type": "stream",
     "text": [
      "tensor([1.3265])\n",
      "tensor(1.3303)\n"
     ]
    }
   ],
   "source": [
    "i = 688\n",
    "print (shift3[i])\n",
    "print (true_alignments[i])"
   ]
  },
  {
   "cell_type": "code",
   "execution_count": 60,
   "id": "40a1b97b",
   "metadata": {
    "ExecuteTime": {
     "end_time": "2023-03-28T09:19:48.396900Z",
     "start_time": "2023-03-28T09:19:48.389107Z"
    }
   },
   "outputs": [
    {
     "data": {
      "text/plain": [
       "tensor(1.2854)"
      ]
     },
     "execution_count": 60,
     "metadata": {},
     "output_type": "execute_result"
    }
   ],
   "source": [
    "true_alignments[676]"
   ]
  },
  {
   "cell_type": "code",
   "execution_count": 77,
   "id": "4a4ed3a9",
   "metadata": {
    "ExecuteTime": {
     "end_time": "2023-03-28T09:24:43.922194Z",
     "start_time": "2023-03-28T09:24:43.915004Z"
    }
   },
   "outputs": [
    {
     "data": {
      "text/plain": [
       "(tensor([699]), tensor([0]))"
      ]
     },
     "execution_count": 77,
     "metadata": {},
     "output_type": "execute_result"
    }
   ],
   "source": [
    "torch.where(mse3 > 1e-2)"
   ]
  },
  {
   "cell_type": "code",
   "execution_count": 88,
   "id": "e4231d7f",
   "metadata": {
    "ExecuteTime": {
     "end_time": "2023-03-28T09:25:36.807297Z",
     "start_time": "2023-03-28T09:25:36.797372Z"
    }
   },
   "outputs": [
    {
     "data": {
      "text/plain": [
       "tensor([688, 693, 719, 721, 722, 738])"
      ]
     },
     "execution_count": 88,
     "metadata": {},
     "output_type": "execute_result"
    }
   ],
   "source": [
    "torch.where(abs(true_alignments[:,None] - shift3) > 3e-3)[0]"
   ]
  },
  {
   "cell_type": "code",
   "execution_count": 38,
   "id": "8cac988d",
   "metadata": {
    "ExecuteTime": {
     "end_time": "2023-03-28T09:10:34.392199Z",
     "start_time": "2023-03-28T09:10:34.384088Z"
    }
   },
   "outputs": [
    {
     "data": {
      "text/plain": [
       "tensor([361, 443, 676, 688, 691, 693, 702, 704, 707, 709, 711, 716, 719, 721,\n",
       "        722, 738])"
      ]
     },
     "execution_count": 38,
     "metadata": {},
     "output_type": "execute_result"
    }
   ],
   "source": [
    "torch.where(abs(true_alignments[:,None] - shift3) > 1e-3)[0]"
   ]
  },
  {
   "cell_type": "code",
   "execution_count": 1738,
   "id": "b9207494",
   "metadata": {
    "ExecuteTime": {
     "end_time": "2023-03-27T07:32:42.537574Z",
     "start_time": "2023-03-27T07:32:42.530046Z"
    }
   },
   "outputs": [
    {
     "data": {
      "text/plain": [
       "tensor([[1.5576]])"
      ]
     },
     "execution_count": 1738,
     "metadata": {},
     "output_type": "execute_result"
    }
   ],
   "source": [
    "shift3"
   ]
  },
  {
   "cell_type": "code",
   "execution_count": 1728,
   "id": "db043384",
   "metadata": {
    "ExecuteTime": {
     "end_time": "2023-03-27T07:28:19.697233Z",
     "start_time": "2023-03-27T07:28:19.689790Z"
    }
   },
   "outputs": [
    {
     "data": {
      "text/plain": [
       "tensor([1.3762])"
      ]
     },
     "execution_count": 1728,
     "metadata": {},
     "output_type": "execute_result"
    }
   ],
   "source": [
    "shift2[120]"
   ]
  },
  {
   "cell_type": "code",
   "execution_count": 1710,
   "id": "3abd89ab",
   "metadata": {
    "ExecuteTime": {
     "end_time": "2023-03-24T20:20:09.356270Z",
     "start_time": "2023-03-24T20:20:09.348458Z"
    }
   },
   "outputs": [
    {
     "data": {
      "text/plain": [
       "tensor([[1.0933]])"
      ]
     },
     "execution_count": 1710,
     "metadata": {},
     "output_type": "execute_result"
    }
   ],
   "source": [
    "shift[i:i+j]"
   ]
  },
  {
   "cell_type": "code",
   "execution_count": 1737,
   "id": "dde63b43",
   "metadata": {
    "ExecuteTime": {
     "end_time": "2023-03-27T07:32:37.966632Z",
     "start_time": "2023-03-27T07:32:37.955759Z"
    }
   },
   "outputs": [
    {
     "data": {
      "text/plain": [
       "tensor([1.5576])"
      ]
     },
     "execution_count": 1737,
     "metadata": {},
     "output_type": "execute_result"
    }
   ],
   "source": [
    "true_alignments[i:i+j]"
   ]
  },
  {
   "cell_type": "code",
   "execution_count": 1730,
   "id": "c9b6f264",
   "metadata": {
    "ExecuteTime": {
     "end_time": "2023-03-27T07:28:29.806935Z",
     "start_time": "2023-03-27T07:28:29.799782Z"
    }
   },
   "outputs": [
    {
     "data": {
      "text/plain": [
       "tensor(1.5576)"
      ]
     },
     "execution_count": 1730,
     "metadata": {},
     "output_type": "execute_result"
    }
   ],
   "source": [
    "true_alignments[120]"
   ]
  },
  {
   "cell_type": "code",
   "execution_count": 1318,
   "id": "485d78ed",
   "metadata": {
    "ExecuteTime": {
     "end_time": "2023-03-24T16:13:49.999565Z",
     "start_time": "2023-03-24T16:13:49.992527Z"
    }
   },
   "outputs": [
    {
     "data": {
      "text/plain": [
       "tensor([0.0303])"
      ]
     },
     "execution_count": 1318,
     "metadata": {},
     "output_type": "execute_result"
    }
   ],
   "source": [
    "normalization_quartic[685:686]"
   ]
  },
  {
   "cell_type": "code",
   "execution_count": 1549,
   "id": "25805705",
   "metadata": {
    "ExecuteTime": {
     "end_time": "2023-03-24T17:46:56.326119Z",
     "start_time": "2023-03-24T17:46:56.145469Z"
    }
   },
   "outputs": [
    {
     "data": {
      "image/png": "[encoded data removed]",
      "text/plain": [
       "<Figure size 432x288 with 1 Axes>"
      ]
     },
     "metadata": {
      "needs_background": "light"
     },
     "output_type": "display_data"
    }
   ],
   "source": [
    "%matplotlib inline\n",
    "i = 26\n",
    "with torch.no_grad():\n",
    "    pred_opt_shift = quartic_dos(sorted_full_eigen_energies[i:i+1][0] + shift[i], full_xdos, sigma) * normalization_quartic[i:i+1][0]  * 2\n",
    "    plt.plot(full_xdos, pred_opt_shift, c= 'b')\n",
    "    plt.plot(full_xdos, shifted_full_ldos[i], c= 'g')\n",
    "    plt.vlines(x = -2.3231, ymin = -0.05, ymax = 1, color = 'black')"
   ]
  },
  {
   "cell_type": "code",
   "execution_count": 892,
   "id": "3da3e8ff",
   "metadata": {
    "ExecuteTime": {
     "end_time": "2023-03-22T15:03:23.141728Z",
     "start_time": "2023-03-22T15:03:23.130277Z"
    }
   },
   "outputs": [],
   "source": [
    "pred_opt_shift = quartic_dos(sorted_full_eigen_energies[0] - 0.6624, full_xdos, sigma) * normalization_quartic[0] * 2"
   ]
  },
  {
   "cell_type": "code",
   "execution_count": 893,
   "id": "8df4703a",
   "metadata": {
    "ExecuteTime": {
     "end_time": "2023-03-22T15:03:24.238050Z",
     "start_time": "2023-03-22T15:03:24.113095Z"
    }
   },
   "outputs": [
    {
     "data": {
      "text/plain": [
       "[<matplotlib.lines.Line2D at 0x7f45515618b0>]"
      ]
     },
     "execution_count": 893,
     "metadata": {},
     "output_type": "execute_result"
    },
    {
     "data": {
      "image/png": "[encoded data removed]",
      "text/plain": [
       "<Figure size 720x720 with 1 Axes>"
      ]
     },
     "metadata": {
      "needs_background": "light"
     },
     "output_type": "display_data"
    }
   ],
   "source": [
    "plt.plot(full_xdos, pred_opt_shift.detach(), c= 'r')\n",
    "plt.plot(full_xdos, shifted_full_ldos[0].detach(), c = 'b')"
   ]
  },
  {
   "cell_type": "markdown",
   "id": "3a543b16",
   "metadata": {
    "heading_collapsed": true
   },
   "source": [
    "## Quartic Peaks Debug\n"
   ]
  },
  {
   "cell_type": "code",
   "execution_count": 516,
   "id": "4814d308",
   "metadata": {
    "ExecuteTime": {
     "end_time": "2023-03-10T17:39:36.813946Z",
     "start_time": "2023-03-10T17:38:16.341125Z"
    },
    "hidden": true
   },
   "outputs": [
    {
     "name": "stderr",
     "output_type": "stream",
     "text": [
      "100%|██████████████████████████████████████████████████████████████████████████████████████████████████████████████████████████████████████████████████████████████████| 1039/1039 [01:20<00:00, 12.92it/s]\n"
     ]
    }
   ],
   "source": [
    "#LOL NOW RUN FOR GAUSSIAN TO COMPARE\n",
    "\n",
    "##Generate individual xdos, ldos\n",
    "n_xdos = []\n",
    "n_ldos = []\n",
    "\n",
    "sigma = torch.tensor(0.3)\n",
    "ndos = 778\n",
    "\n",
    "\n",
    "emin = -24.5537\n",
    "emax = 11.3464\n",
    "\n",
    "for i in tqdm(range(n_structures)):\n",
    "    x_dos = torch.linspace(lbounds[i].item() - 1.5, rbounds[i].item()- (10 * sigma),ndos)\n",
    "    l_dos = torch.sum(torch.exp(-0.5*((x_dos - full_eigen_energies[i].view(-1,1))/sigma)**2), dim = 0)\n",
    "    n_xdos.append(x_dos)\n",
    "    n_ldos.append(l_dos)\n",
    "    \n",
    "n_xdos = torch.vstack(n_xdos)\n",
    "n_ldos = torch.vstack(n_ldos)\n",
    "n_ldos = ((n_ldos.T * normalization ).T)* 2\n"
   ]
  },
  {
   "cell_type": "code",
   "execution_count": 551,
   "id": "9302187d",
   "metadata": {
    "ExecuteTime": {
     "end_time": "2023-03-10T17:57:24.368804Z",
     "start_time": "2023-03-10T17:57:24.354367Z"
    },
    "hidden": true
   },
   "outputs": [],
   "source": [
    "#Quartic polynomials\n",
    "def quartic(x, xdos, sigma):\n",
    "    #identify bounds\n",
    "    left_b = x- 1.2*(np.sqrt(7)*(sigma))\n",
    "    right_b = x + 1.2*(np.sqrt(7)*(sigma))\n",
    "    #Obtain mask\n",
    "    mask = torch.where((left_b < xdos) & (xdos < right_b))\n",
    "    output = torch.zeros_like(xdos)\n",
    "    output[mask] = ((x-xdos[mask])**2 - (7 * sigma**2)) **2 / ((16/15) * (np.sqrt(7) * sigma)**5)\n",
    "    \n",
    "    return output\n",
    "\n",
    "def quartic_peak(x, xdos, sigma):\n",
    "    #Identify bounds\n",
    "#     left_b = x - (np.sqrt(7) * sigma)\n",
    "#     right_b = x + (np.sqrt(7) * sigma)\n",
    "    \n",
    "    #Obtain mask\n",
    "    #mask = ((xdos >= left_b.view(-1,1)) & (xdos <= right_b.view(-1,1)))\n",
    "    \n",
    "    \n",
    "    #Initialize output\n",
    "    output = torch.zeros(len(xdos))\n",
    "\n",
    "    \n",
    "#     a = ((x.view(-1,1) - torch.masked_select(xdos.expand(len(x), len(xdos)),mask))**2 - (7 * (sigma**2)))**2 / ((16/15) * (np.sqrt(7) * sigma)**5)\n",
    "#     print (a.shape)\n",
    "#     print (torch.masked_select(xdos.expand(len(x), len(xdos)),mask).shape)\n",
    "    \n",
    "#     output[mask] = ((x.view(-1,1) - torch.masked_select(xdos.expand(len(x), len(xdos)),mask))**2 - (7 * (sigma**2)))**2 / ((16/15) * (np.sqrt(7) * sigma)**5)\n",
    "    for E in x:\n",
    "        output += quartic(E, xdos, sigma)\n",
    "    \n",
    "    return output\n",
    "    \n",
    "    \n",
    "def quartic_peak_E(energies, xdos, sigma):\n",
    "    if False:#len(energies) <= len(xdos):\n",
    "        output = quartic_peak(energies, xdos, sigma)\n",
    "    else:\n",
    "        output = torch.zeros_like(xdos)\n",
    "        for i, x in enumerate(xdos):\n",
    "            l_energies = torch.searchsorted(energies, x - (np.sqrt(7)*(sigma)))\n",
    "            r_energies = torch.searchsorted(energies, x + (np.sqrt(7)*(sigma)))\n",
    "            if r_energies != l_energies:\n",
    "                output[i] = torch.sum(((energies[l_energies:r_energies].view(-1,1) - x)**2 - (7 * (sigma**2))) **2 / ((16/15) * (np.sqrt(7) * sigma)**5))\n",
    "                \n",
    "        return output\n",
    "                    "
   ]
  },
  {
   "cell_type": "code",
   "execution_count": 503,
   "id": "a7c3647b",
   "metadata": {
    "ExecuteTime": {
     "end_time": "2023-03-10T17:35:22.357521Z",
     "start_time": "2023-03-10T17:35:22.344396Z"
    },
    "hidden": true
   },
   "outputs": [
    {
     "name": "stdout",
     "output_type": "stream",
     "text": [
      "torch.Size([2500])\n"
     ]
    }
   ],
   "source": [
    "xaxis = torch.arange(-50,50,0.04)\n",
    "print (xaxis.shape)\n",
    "energies = torch.tensor([-5, 0, 1, 2, 3, 4])\n",
    "left_b = energies - (np.sqrt(7) * sigma)\n",
    "right_b = energies + (np.sqrt(7)*sigma)\n",
    "\n",
    "output = torch.zeros_like(xaxis)\n",
    "\n",
    "left_bound = torch.searchsorted(xaxis, left_b)\n",
    "indexes = left_bound.repeat(20,1) + torch.arange(0,20,1).view(-1,1)\n",
    "values = torch.clamp((energies.view(1,-1) - xaxis[indexes])**2 - (7 * (sigma**2)) **2 / ((16/15) * (np.sqrt(7) * sigma)**5), max = 0)\n",
    "\n",
    "output.index_add_(0, indexes.flatten(), values.flatten())\n",
    "\n",
    "output = -1 * output\n",
    "# xaxis = xaxis.expand(len(energies), len(xaxis))\n",
    "# output = torch.zeros_like(xaxis)\n",
    "# values = ((energies.reshape(6,1) - (xaxis[mask].reshape(len(energies), -1)))**2 - (7 * (sigma**2))) **2 / ((16/15) * (np.sqrt(7) * sigma)**5)\n",
    "\n",
    "# output[mask] = values.flatten()\n",
    "# output = torch.sum(output, 0)\n"
   ]
  },
  {
   "cell_type": "code",
   "execution_count": 505,
   "id": "195c619d",
   "metadata": {
    "ExecuteTime": {
     "end_time": "2023-03-10T17:35:23.308157Z",
     "start_time": "2023-03-10T17:35:23.193929Z"
    },
    "hidden": true
   },
   "outputs": [
    {
     "data": {
      "text/plain": [
       "[<matplotlib.lines.Line2D at 0x7f4558d94820>]"
      ]
     },
     "execution_count": 505,
     "metadata": {},
     "output_type": "execute_result"
    },
    {
     "data": {
      "image/png": "[encoded data removed]",
      "text/plain": [
       "<Figure size 720x720 with 1 Axes>"
      ]
     },
     "metadata": {
      "needs_background": "light"
     },
     "output_type": "display_data"
    }
   ],
   "source": [
    "plt.plot(torch.arange(-50,50,0.04), output)"
   ]
  },
  {
   "cell_type": "markdown",
   "id": "b3b3d70a",
   "metadata": {
    "heading_collapsed": true
   },
   "source": [
    "## Inspecting default train-test split and generating biased dataset"
   ]
  },
  {
   "cell_type": "code",
   "execution_count": 115,
   "id": "a3d10226",
   "metadata": {
    "ExecuteTime": {
     "end_time": "2023-03-08T12:42:22.184959Z",
     "start_time": "2023-03-08T12:42:22.173267Z"
    },
    "hidden": true
   },
   "outputs": [],
   "source": [
    "diamond_range = np.arange(0,324,1)\n",
    "beta_tin_range = np.arange(324,604,1)\n",
    "liquid_range = np.arange(604, 673, 1)\n",
    "clusters_range = np.arange(673, 939, 1)\n",
    "amorphous_range = np.arange(939, 1039, 1)\n",
    "def find_structures_in_index(index):\n",
    "    structures = {}\n",
    "    structures['diamond'] =  np.sum(np.isin(index, diamond_range))\n",
    "    structures['beta_tin'] = np.sum(np.isin(index, beta_tin_range))\n",
    "    structures['liquid'] = np.sum(np.isin(index, liquid_range))\n",
    "    structures['clusters'] = np.sum(np.isin(index, clusters_range))\n",
    "    structures['amorphous'] = np.sum(np.isin(index, amorphous_range))\n",
    "    \n",
    "    return structures\n",
    "\n",
    "train_structures = find_structures_in_index(train_index)"
   ]
  },
  {
   "cell_type": "code",
   "execution_count": 116,
   "id": "c80e79dc",
   "metadata": {
    "ExecuteTime": {
     "end_time": "2023-03-08T12:42:22.319682Z",
     "start_time": "2023-03-08T12:42:22.314483Z"
    },
    "hidden": true
   },
   "outputs": [
    {
     "data": {
      "text/plain": [
       "{'diamond': 249,\n",
       " 'beta_tin': 231,\n",
       " 'liquid': 58,\n",
       " 'clusters': 209,\n",
       " 'amorphous': 84}"
      ]
     },
     "execution_count": 116,
     "metadata": {},
     "output_type": "execute_result"
    }
   ],
   "source": [
    "train_structures"
   ]
  },
  {
   "cell_type": "code",
   "execution_count": 86,
   "id": "4fde0d44",
   "metadata": {
    "ExecuteTime": {
     "end_time": "2023-03-08T12:02:56.638677Z",
     "start_time": "2023-03-08T12:02:56.634735Z"
    },
    "hidden": true
   },
   "outputs": [],
   "source": [
    "#For biased dataset, we want roughly 80 amorphous structures in the test set and 20 in the train set to test the model's extrapolatability\n"
   ]
  },
  {
   "cell_type": "code",
   "execution_count": 108,
   "id": "9084e0b6",
   "metadata": {
    "ExecuteTime": {
     "end_time": "2023-03-08T12:41:02.245295Z",
     "start_time": "2023-03-08T12:41:02.235586Z"
    },
    "hidden": true
   },
   "outputs": [],
   "source": [
    "#Selected Amorphous structures\n",
    "\n",
    "amorph_train = np.arange(939,1039,1)\n",
    "np.random.seed(0)\n",
    "np.random.shuffle(amorph_train)\n",
    "\n",
    "amorph_test = amorph_train[:80]\n",
    "amorph_train = amorph_train[80:]\n",
    "\n",
    "n_structures = 939\n",
    "np.random.seed(0)\n",
    "n_train = int(0.8 * 1039)-20\n",
    "remaining_train_index = np.arange(n_structures)\n",
    "np.random.shuffle(remaining_train_index)\n",
    "\n",
    "remaining_test_index = remaining_train_index[n_train:]\n",
    "remaining_train_index = remaining_train_index[:n_train]\n",
    "\n",
    "biased_train_index = np.concatenate([remaining_train_index, amorph_train])\n",
    "biased_test_index = np.concatenate([remaining_test_index, amorph_test])"
   ]
  },
  {
   "cell_type": "code",
   "execution_count": 104,
   "id": "778525dd",
   "metadata": {
    "ExecuteTime": {
     "end_time": "2023-03-08T12:33:24.315755Z",
     "start_time": "2023-03-08T12:33:24.309589Z"
    },
    "hidden": true,
    "scrolled": true
   },
   "outputs": [
    {
     "data": {
      "text/plain": [
       "208"
      ]
     },
     "execution_count": 104,
     "metadata": {},
     "output_type": "execute_result"
    }
   ],
   "source": [
    "len(biased_train_index)\n",
    "len(biased_test_index)"
   ]
  },
  {
   "cell_type": "code",
   "execution_count": 113,
   "id": "6e2dc42d",
   "metadata": {
    "ExecuteTime": {
     "end_time": "2023-03-08T12:41:24.398293Z",
     "start_time": "2023-03-08T12:41:24.392178Z"
    },
    "hidden": true
   },
   "outputs": [],
   "source": [
    "biased_train_structures = find_structures_in_index(biased_train_index)"
   ]
  },
  {
   "cell_type": "code",
   "execution_count": 117,
   "id": "6cbf24e7",
   "metadata": {
    "ExecuteTime": {
     "end_time": "2023-03-08T12:42:47.122668Z",
     "start_time": "2023-03-08T12:42:47.101779Z"
    },
    "hidden": true
   },
   "outputs": [],
   "source": [
    "np.save(\"train_index\", train_index)\n",
    "np.save(\"test_index\", test_index)\n",
    "np.save(\"biased_train_index\", biased_train_index)\n",
    "np.save(\"biased_test_index\", biased_test_index)"
   ]
  }
 ],
 "metadata": {
  "kernelspec": {
   "display_name": "Python 3 (ipykernel)",
   "language": "python",
   "name": "python3"
  },
  "language_info": {
   "codemirror_mode": {
    "name": "ipython",
    "version": 3
   },
   "file_extension": ".py",
   "mimetype": "text/x-python",
   "name": "python",
   "nbconvert_exporter": "python",
   "pygments_lexer": "ipython3",
   "version": "3.9.12"
  },
  "toc": {
   "base_numbering": 1,
   "nav_menu": {},
   "number_sections": true,
   "sideBar": true,
   "skip_h1_title": false,
   "title_cell": "Table of Contents",
   "title_sidebar": "Contents",
   "toc_cell": false,
   "toc_position": {
    "height": "759px",
    "left": "26px",
    "top": "111.133px",
    "width": "165px"
   },
   "toc_section_display": true,
   "toc_window_display": true
  }
 },
 "nbformat": 4,
 "nbformat_minor": 5
}
