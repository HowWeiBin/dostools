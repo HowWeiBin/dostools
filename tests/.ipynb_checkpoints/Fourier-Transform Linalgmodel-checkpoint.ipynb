{
 "cells": [
  {
   "cell_type": "markdown",
   "id": "84565b74",
   "metadata": {
    "hide_input": false
   },
   "source": [
    "## Imports"
   ]
  },
  {
   "cell_type": "code",
   "execution_count": 1,
   "id": "dfdaeca7",
   "metadata": {
    "ExecuteTime": {
     "end_time": "2023-04-12T15:25:30.904871Z",
     "start_time": "2023-04-12T15:25:18.672659Z"
    }
   },
   "outputs": [],
   "source": [
    "import dostools\n",
    "import importlib\n",
    "import numpy as np\n",
    "import pickle\n",
    "import torch\n",
    "import sys\n",
    "import matplotlib.pyplot as plt\n",
    "import copy\n",
    "from tqdm import tqdm\n",
    "import matplotlib\n",
    "import time\n",
    "torch.set_default_dtype(torch.float64) \n",
    "# %matplotlib notebook\n",
    "# matplotlib.rcParams['figure.figsize'] = (10, 10)"
   ]
  },
  {
   "cell_type": "code",
   "execution_count": 2,
   "id": "7ccbf26d",
   "metadata": {
    "ExecuteTime": {
     "end_time": "2023-04-12T15:25:45.100860Z",
     "start_time": "2023-04-12T15:25:30.907190Z"
    }
   },
   "outputs": [
    {
     "name": "stdout",
     "output_type": "stream",
     "text": [
      "ldos shape is torch.Size([1039, 778])\n",
      "mean dos shape is torch.Size([778])\n",
      "Variance covered with 10 PCs is = 0.9871211778950163\n"
     ]
    }
   ],
   "source": [
    "import dostools.datasets.data as data\n",
    "import dostools.utils.utils as utils\n",
    "importlib.reload(data)\n",
    "\n",
    "n_structures = 1039\n",
    "np.random.seed(0)\n",
    "n_train = int(0.8 * n_structures)\n",
    "train_index = np.arange(n_structures)\n",
    "np.random.shuffle(train_index)\n",
    "test_index = train_index[n_train:]\n",
    "train_index = train_index[:n_train]\n",
    "\n",
    "with torch.no_grad():\n",
    "    structures = data.load_structures(\":\")\n",
    "    n_structures = len(structures) #total number of structures\n",
    "    for structure in structures:#implement periodicity\n",
    "        structure.wrap(eps = 1e-12) \n",
    "    n_atoms = np.zeros(n_structures, dtype = int) #stores number of atoms in each structures\n",
    "    for i in range(n_structures):\n",
    "        n_atoms[i] = len(structures[i])\n",
    "\n",
    "    #eigenergies, emin, emax = dostools.src.datasets.data.load_eigenenergies(unpack = True, n_structures = len(structures))\n",
    "    xdos = torch.tensor(data.load_xdos())\n",
    "    ldos = torch.tensor(data.load_ldos())\n",
    "    ldos *= 2\n",
    "\n",
    "    print (\"ldos shape is {}\".format(ldos.shape))\n",
    "    mean_dos_per_atom = ldos[train_index].mean(axis = 0) #only calculated for train set to prevent data leakage\n",
    "    print (\"mean dos shape is {}\".format(mean_dos_per_atom.shape))\n",
    "    \n",
    "    \n",
    "    y_pw = ldos - mean_dos_per_atom\n",
    "    y_lcdf = torch.cumsum(y_pw, dim = 1)\n",
    "    _, pc_vectors = utils.build_pc(ldos[train_index], mean_dos_per_atom[None,:], n_pc = 10)\n",
    "    y_pc = utils.build_coeffs(ldos - mean_dos_per_atom[None,:], pc_vectors)\n",
    "    Silicon = data.load_features()\n",
    "    kMM = data.load_kMM()\n",
    "    structure_eigvals_t, structure_coefficients_t, reconstructed_ldos_t = data.load_structure_gaussians()\n"
   ]
  },
  {
   "cell_type": "code",
   "execution_count": 3,
   "id": "8d594135",
   "metadata": {
    "ExecuteTime": {
     "end_time": "2023-04-12T15:25:53.755046Z",
     "start_time": "2023-04-12T15:25:45.104397Z"
    }
   },
   "outputs": [
    {
     "name": "stdout",
     "output_type": "stream",
     "text": [
      "This file contains the eigenenergies and their corresponding kpoints of the training Silicon structures generated using DFT PBE as implemented in FHI-AIMS version 171221_1 with the ``tight'' settings\n"
     ]
    }
   ],
   "source": [
    "sigma = 0.3\n",
    "dx = 0.05\n",
    "eigen_energies, emin, emax = data.load_eigenenergies(unpack = True, n_structures = 1039)\n",
    "full_eigen_energies = [torch.tensor(i.flatten()) for i in eigen_energies]\n",
    "eigenenergy_length = [len(i) for i in full_eigen_energies]\n",
    "eigenenergy_length_t = torch.tensor(eigenenergy_length)\n",
    "n_atoms_t = torch.tensor(n_atoms)\n",
    "normalization_eiglength = [len(i) for i in eigen_energies]\n",
    "normalization_eiglength_t = torch.tensor(normalization_eiglength)\n",
    "normalization = 1/torch.sqrt(2*torch.tensor(np.pi)*sigma**2)/n_atoms_t/normalization_eiglength_t\n",
    "normalization_quartic = 1/n_atoms/normalization_eiglength_t"
   ]
  },
  {
   "cell_type": "markdown",
   "id": "23308202",
   "metadata": {},
   "source": [
    "## Fourier Transform Preprocessing"
   ]
  },
  {
   "cell_type": "code",
   "execution_count": 4,
   "id": "f366afd8",
   "metadata": {
    "ExecuteTime": {
     "end_time": "2023-04-12T15:25:53.775806Z",
     "start_time": "2023-04-12T15:25:53.759077Z"
    }
   },
   "outputs": [],
   "source": [
    "def fourier_transform_dos(energies, emin, emax, num_frequencies, smearing):\n",
    "    \"\"\"\n",
    "    For a provided array of energies, compute the Fourier coefficients\n",
    "    of the density of states.\n",
    "\n",
    "    Parameters\n",
    "    ----------\n",
    "    energies : torch.tensor\n",
    "        Tensor containing all energy levels\n",
    "    emin : float\n",
    "        Minimum energy for the interval\n",
    "    emax : float\n",
    "        Maximum energy for the interval\n",
    "    num_frequencies : int\n",
    "        Number of Fourier space frequencies to use\n",
    "    smearing: float\n",
    "        Width of Gaussian smearing applied to each energy level\n",
    "\n",
    "    Returns\n",
    "    -------\n",
    "    coeffs: torch.tensor (dtype=complex)\n",
    "        Tensor containing Fourier coefficients\n",
    "    \"\"\"\n",
    "\n",
    "    # Initialization\n",
    "#     coeffs = []\n",
    "    length_interval = emax - emin\n",
    "    \n",
    "    # Make sure that all energies lie in the interval\n",
    "    assert min(energies) > emin\n",
    "    assert max(energies) < emax\n",
    "    \n",
    "    # For all frequencies, compute the Fourier coefficients by\n",
    "    # accumulating contributions from all the energy levels\n",
    "    k = torch.arange(num_frequencies)\n",
    "    k_scaled = k * 2*np.pi / length_interval\n",
    "    coeffs = torch.sum(torch.exp(-1j*k_scaled.view(-1,1)*energies), dim = 1)\n",
    "    coeffs *= torch.exp(-0.5*smearing**2*k_scaled**2)\n",
    "    coeffs *= np.sqrt(2*np.pi*smearing**2) \n",
    "#     for k in range(num_frequencies):\n",
    "#         # Rescale the frequency to make the \"plane waves\" periodic with\n",
    "#         # respect to the energy interval (rather than having a period of 2pi)\n",
    "#         k_scaled = torch.tensor(k * 2*np.pi / length_interval)\n",
    "        \n",
    "#         # Add up contributions from all energy levels\n",
    "#         coeffs_k = torch.sum(torch.exp(-1j*k_scaled*energies))\n",
    "        \n",
    "#         # Multiply by factor only dependent on k\n",
    "#         coeffs_k *= torch.exp(-0.5*smearing**2*k_scaled**2)\n",
    "        \n",
    "#         coeffs.append(coeffs_k)\n",
    "    \n",
    "#     # Multiply by global factor\n",
    "#     coeffs = torch.hstack(coeffs)\n",
    "#     coeffs *= np.sqrt(2*np.pi*smearing**2) \n",
    "    \n",
    "    return coeffs\n",
    "\n",
    "def evaluate_dos_from_fourier(coeffs, emin, emax, num_eval=50):\n",
    "    \"\"\"\n",
    "    Evaluate the DOS from the Fourier coefficients on a specified interval.\n",
    "    \n",
    "\n",
    "    Parameters\n",
    "    ----------\n",
    "    coeffs: torch.tensor\n",
    "        Tensor containing all Fourier coefficients\n",
    "    emin : float\n",
    "        Minimum energy for the interval\n",
    "    emax : float\n",
    "        Maximum energy for the interval\n",
    "    num_eval : int\n",
    "        Number of energy points on which to evaluate the DOS.\n",
    "        To be more precise, the energies are evaluated on\n",
    "        np.linspace(emin, emax, num_eval)\n",
    "\n",
    "    Returns\n",
    "    -------\n",
    "    dos:\n",
    "        DOS evaluated at specified energy interval (see above).\n",
    "\n",
    "    \"\"\"\n",
    "    # Initialize arrays and variables\n",
    "#     energies = torch.linspace(emin, emax, num_eval)\n",
    "#     length_interval = emax - emin\n",
    "#     dos = torch.zeros((num_eval,), dtype=torch.cdouble)\n",
    "    \n",
    "    \n",
    "    \n",
    "    \n",
    "#     # Compute the DOS by accumulating contributions from all frequencies\n",
    "#     for k, coeff in enumerate(coeffs):\n",
    "#         # Rescale frequency k to match periodicity of energy interval\n",
    "#         k_scaled = torch.tensor(k * 2*np.pi / length_interval)\n",
    "        \n",
    "#         # Accumulate contribution from frequency k to DOS\n",
    "#         dos += coeff * torch.exp(1j*k_scaled*energies)\n",
    "        \n",
    "#     # Convert complex Fourier transform into real form\n",
    "#     dos_real = 2 * torch.real(dos) - torch.real(coeffs[0])\n",
    "    \n",
    "#     # Global prefactor of inverse Fourier transform\n",
    "#     dos_real /= length_interval\n",
    "    \n",
    "#     return dos_real\n",
    "\n",
    "    energies = torch.linspace(emin,emax, num_eval)\n",
    "    length_interval = emax - emin\n",
    "    dos = torch.zeros((coeffs.shape[0], num_eval), dtype = torch.cdouble)\n",
    "    \n",
    "    k = torch.arange(coeffs.shape[1])\n",
    "    k_scaled = k * 2*np.pi/length_interval\n",
    "    dos = coeffs @ (torch.exp(1j * k_scaled.view(-1,1)*energies))\n",
    "    dos_real = 2 * torch.real(dos) - torch.real(coeffs[:,:1])\n",
    "    dos_real /= length_interval\n",
    "    \n",
    "    return dos_real\n",
    "    \n",
    "\n",
    "def shift_coeffs(coeffs, emin, emax, delta):\n",
    "    \"\"\"\n",
    "    Recompute Fourier coefficients of shifted DOS function.\n",
    "\n",
    "    Parameters\n",
    "    ----------\n",
    "    coeffs: torch.tensor\n",
    "        Tensor containing all Fourier coefficients\n",
    "    emin : float\n",
    "        Minimum energy for the interval\n",
    "    emax : float\n",
    "        Maximum energy for the interval\n",
    "    delta : torch.tensor\n",
    "        Amount by which the DOS is shifted\n",
    "\n",
    "    Returns\n",
    "    -------\n",
    "    coeffs_shifted : torch.tensor (dtype=cdouble)\n",
    "        Fourier coefficients of shifted DOS\n",
    "\n",
    "    \"\"\"\n",
    "    # Initialization\n",
    "#     coeffs_shifted = []\n",
    "#     coeffs_shifted = torch.zeros_like(coeffs)\n",
    "#     length_interval = emax - emin\n",
    "    \n",
    "#     # Compute the DOS by accumulating contributions from all frequencies\n",
    "#     for k, coeff in enumerate(coeffs):\n",
    "#         # Rescale frequency k to match periodicity of energy interval\n",
    "#         k_scaled = torch.tensor(k * 2*np.pi / length_interval)\n",
    "        \n",
    "#         coeffs_shifted_k = coeffs[k] * torch.exp(-1j*k_scaled*delta)\n",
    "#         coeffs_shifted.append(coeffs_shifted_k)\n",
    "\n",
    "    length_interval = emax - emin\n",
    "    k = torch.arange(coeffs.shape[1])\n",
    "    k_scaled = k * 2*np.pi/ length_interval\n",
    "    coeffs_shifted = coeffs * torch.exp(-1j * k_scaled*delta.view(-1,1))\n",
    "    \n",
    "    return coeffs_shifted"
   ]
  },
  {
   "cell_type": "code",
   "execution_count": 5,
   "id": "c8eb6d5e",
   "metadata": {
    "ExecuteTime": {
     "end_time": "2023-04-12T15:29:32.945773Z",
     "start_time": "2023-04-12T15:25:53.778148Z"
    }
   },
   "outputs": [
    {
     "name": "stderr",
     "output_type": "stream",
     "text": [
      "100%|██████████████████████████████████████████████████████████████████████████████████████████████████████████████████████████████████████████████████████████████████████████| 1039/1039 [03:38<00:00,  4.75it/s]"
     ]
    },
    {
     "name": "stdout",
     "output_type": "stream",
     "text": [
      "Computed 50 complex Fourier coeffs.\n",
      "  --> corresponds to 99 real coeffs.\n",
      "\n",
      "Duration = 218.7783s\n"
     ]
    },
    {
     "name": "stderr",
     "output_type": "stream",
     "text": [
      "\n"
     ]
    },
    {
     "data": {
      "text/plain": [
       "[<matplotlib.lines.Line2D at 0x7f7163ca9040>]"
      ]
     },
     "execution_count": 5,
     "metadata": {},
     "output_type": "execute_result"
    },
    {
     "data": {
      "image/png": "[encoded data removed]",
      "text/plain": [
       "<Figure size 432x288 with 1 Axes>"
      ]
     },
     "metadata": {
      "needs_background": "light"
     },
     "output_type": "display_data"
    }
   ],
   "source": [
    "energies = full_eigen_energies\n",
    "emin = -24.553719539983 - 1.5\n",
    "emax = 11.346414696331 + 1.5\n",
    "num_frequencies = 50\n",
    "smearing = 0.3\n",
    "\n",
    "# Compute Fourier coefficients\n",
    "t0 = time.time()\n",
    "coeffs = []\n",
    "for i in tqdm(full_eigen_energies):\n",
    "    coeffs_i = fourier_transform_dos(i, emin, emax, num_frequencies, smearing)\n",
    "    coeffs.append(coeffs_i)\n",
    "\n",
    "coeffs = torch.vstack(coeffs)\n",
    "coeffs = ((coeffs.T * normalization).T) * 2\n",
    "# Print required time\n",
    "dt = time.time()-t0\n",
    "print(f'Computed {num_frequencies} complex Fourier coeffs.')\n",
    "print(f'  --> corresponds to {2*num_frequencies-1} real coeffs.')\n",
    "print(f'\\nDuration = {dt:6.4f}s')\n",
    "# print(f'Estimate for 5000 frames = {5000*dt:5.1f}s = {500/6*dt:3.2f}min')\n",
    "\n",
    "# Evaluate DOS and plot\n",
    "\n",
    "f_ldos = evaluate_dos_from_fourier(coeffs, emin, emax, num_eval=778)\n",
    "ene_plot = np.linspace(emin, emax, len(f_ldos[0]))\n",
    "plt.plot(ene_plot, f_ldos[0], c= 'b')\n",
    "# plt.plot(xdos, ldos[0])\n",
    "\n",
    "# Plot shifted version as well\n",
    "coeffs_shifted = shift_coeffs(coeffs[:1], emin, emax, delta=torch.tensor([5]))\n",
    "dos_shifted = evaluate_dos_from_fourier(coeffs_shifted, emin, emax, num_eval=778)\n",
    "plt.plot(ene_plot, dos_shifted[0], c= 'r')"
   ]
  },
  {
   "cell_type": "code",
   "execution_count": 6,
   "id": "13c53d74",
   "metadata": {
    "ExecuteTime": {
     "end_time": "2023-04-12T15:29:33.066454Z",
     "start_time": "2023-04-12T15:29:32.949781Z"
    }
   },
   "outputs": [
    {
     "data": {
      "text/plain": [
       "[<matplotlib.lines.Line2D at 0x7f7162fd8280>]"
      ]
     },
     "execution_count": 6,
     "metadata": {},
     "output_type": "execute_result"
    },
    {
     "data": {
      "image/png": "[encoded data removed]",
      "text/plain": [
       "<Figure size 432x288 with 1 Axes>"
      ]
     },
     "metadata": {
      "needs_background": "light"
     },
     "output_type": "display_data"
    }
   ],
   "source": [
    "plt.plot(ene_plot, f_ldos[0], c= 'b')\n",
    "plt.plot(xdos, ldos[0], c= 'r')"
   ]
  },
  {
   "cell_type": "markdown",
   "id": "ed3d190b",
   "metadata": {},
   "source": [
    "## Biased Train-test split"
   ]
  },
  {
   "cell_type": "code",
   "execution_count": 7,
   "id": "0a69a2b5",
   "metadata": {
    "ExecuteTime": {
     "end_time": "2023-04-12T15:29:33.073157Z",
     "start_time": "2023-04-12T15:29:33.068155Z"
    }
   },
   "outputs": [],
   "source": [
    "#Selected Amorphous structures\n",
    "\n",
    "amorph_train = np.arange(939,1039,1)\n",
    "np.random.seed(0)\n",
    "np.random.shuffle(amorph_train)\n",
    "\n",
    "amorph_test = amorph_train[:80]\n",
    "amorph_train = amorph_train[80:]\n",
    "\n",
    "n_structures2 = 939\n",
    "np.random.seed(0)\n",
    "n_train = int(0.8 * 1039)-20\n",
    "remaining_train_index = np.arange(n_structures2)\n",
    "np.random.shuffle(remaining_train_index)\n",
    "\n",
    "remaining_test_index = remaining_train_index[n_train:]\n",
    "remaining_train_index = remaining_train_index[:n_train]\n",
    "\n",
    "biased_train_index = np.concatenate([remaining_train_index, amorph_train])\n",
    "biased_test_index = np.concatenate([remaining_test_index, amorph_test])"
   ]
  },
  {
   "cell_type": "code",
   "execution_count": 8,
   "id": "ea2de713",
   "metadata": {
    "ExecuteTime": {
     "end_time": "2023-04-12T15:29:36.296694Z",
     "start_time": "2023-04-12T15:29:33.074853Z"
    }
   },
   "outputs": [],
   "source": [
    "# Fermi level\n",
    "import ase\n",
    "\n",
    "T_0 = 200\n",
    "beta_0 = 1 / (ase.units.kB * T_0) # inverse temperature\n",
    "efermi = torch.zeros(n_structures)\n",
    "for i in range(n_structures):\n",
    "    efermi[i] = torch.tensor(utils.getmu(ldos[i], beta_0, xdos, n=4))"
   ]
  },
  {
   "cell_type": "code",
   "execution_count": 9,
   "id": "6bd87d3d",
   "metadata": {
    "ExecuteTime": {
     "end_time": "2023-04-12T15:29:36.303181Z",
     "start_time": "2023-04-12T15:29:36.298263Z"
    }
   },
   "outputs": [],
   "source": [
    "cutoff = torch.max(efermi) + 3\n",
    "cutoff_index = torch.searchsorted(xdos, cutoff)"
   ]
  },
  {
   "cell_type": "markdown",
   "id": "6f27e076",
   "metadata": {},
   "source": [
    "## Test Loss function"
   ]
  },
  {
   "cell_type": "code",
   "execution_count": 10,
   "id": "e132b89d",
   "metadata": {
    "ExecuteTime": {
     "end_time": "2023-04-12T15:29:36.323871Z",
     "start_time": "2023-04-12T15:29:36.307214Z"
    }
   },
   "outputs": [],
   "source": [
    "def MSE_shift_fourier(x_pred, target, n_epochs):\n",
    "    shifts = torch.nn.parameter.Parameter(torch.zeros(target.shape[0]))\n",
    "    opt_LBFGS = torch.optim.LBFGS([shifts], lr = 1, line_search_fn = 'strong_wolfe', tolerance_grad = 1e-15, tolerance_change = 1e-15)#, weight_decay = 0)\n",
    "    opt_adam = torch.optim.Adam([shifts], lr = 1e-2, weight_decay = 0)\n",
    "    scheduler = torch.optim.lr_scheduler.ReduceLROnPlateau(opt_adam, factor = 0.1, patience = 20, threshold = 1e-7, min_lr = 1e-7)\n",
    "   \n",
    "    for i in range(n_epochs):\n",
    "        def closure():\n",
    "            opt_LBFGS.zero_grad()\n",
    "            shifted_preds = shift_coeffs(x_pred, emin, emax, shifts)\n",
    "#             shifted_ldos = evaluate_dos_from_fourier(shifted_preds, emin, emax, num_eval=778)\n",
    "            loss_i = torch.mean(abs(shifted_preds- target)**2) \n",
    "#             loss_i = loss.t_get_mse(shifted_ldos[:,cutoff_index], target[:,cutoff_index])\n",
    "            loss_i.backward(gradient = torch.tensor(1), inputs = shifts )\n",
    "            return (loss_i)\n",
    "\n",
    "        mse = opt_LBFGS.step(closure)\n",
    "        \n",
    "    return mse, shifts"
   ]
  },
  {
   "cell_type": "code",
   "execution_count": 11,
   "id": "f14eaa60",
   "metadata": {
    "ExecuteTime": {
     "end_time": "2023-04-12T15:29:37.063159Z",
     "start_time": "2023-04-12T15:29:36.326047Z"
    }
   },
   "outputs": [
    {
     "name": "stdout",
     "output_type": "stream",
     "text": [
      "(tensor([105, 112]),)\n"
     ]
    }
   ],
   "source": [
    "true_alignments = (torch.rand(1039)-0.5) * 8 #true_alignments.clone()\n",
    "shifted_target = shift_coeffs(coeffs, emin ,emax, true_alignments)\n",
    "error, align = MSE_shift_fourier(shifted_target, coeffs, 5)\n",
    "print (torch.where(abs(true_alignments + align)>1e-3))"
   ]
  },
  {
   "cell_type": "markdown",
   "id": "f7d37e26",
   "metadata": {},
   "source": [
    "## Generate Features"
   ]
  },
  {
   "cell_type": "code",
   "execution_count": 12,
   "id": "f0d94518",
   "metadata": {
    "ExecuteTime": {
     "end_time": "2023-04-12T15:30:14.437536Z",
     "start_time": "2023-04-12T15:29:37.066011Z"
    }
   },
   "outputs": [
    {
     "data": {
      "application/vnd.jupyter.widget-view+json": {
       "model_id": "8db32fd4b949437eb87dba5b6cc7fbd4",
       "version_major": 2,
       "version_minor": 0
      },
      "text/plain": [
       "  0%|          | 0/199 [00:00<?, ?it/s]"
      ]
     },
     "metadata": {},
     "output_type": "display_data"
    }
   ],
   "source": [
    "import rascaline\n",
    "from skcosmo.feature_selection import FPS\n",
    "import scipy\n",
    "\n",
    "HYPER_PARAMETERS = {\n",
    "    \"cutoff\": 4.0,#6.0,#4.0,\n",
    "    \"max_radial\": 8,#12,#8,\n",
    "    \"max_angular\": 6,#9,#6,\n",
    "    \"atomic_gaussian_width\": 0.45,\n",
    "    \"center_atom_weight\": 1.0,\n",
    "    \"radial_basis\":{\n",
    "        \"Gto\":{}\n",
    "    },\n",
    "    \"cutoff_function\":{\n",
    "        \"Step\":{}, #maybe \n",
    "    },\n",
    "    \"radial_scaling\":{\n",
    "        \"Willatt2018\":{\n",
    "        'exponent': 5,\n",
    "        'rate' : 1,\n",
    "        'scale' : 3.,\n",
    "        },\n",
    "    },\n",
    "}\n",
    "\n",
    "calculator = rascaline.SoapPowerSpectrum(**HYPER_PARAMETERS)\n",
    "descriptors = calculator.compute(structures)\n",
    "descriptors.keys_to_samples(\"species_center\")\n",
    "descriptors.keys_to_properties([\"species_neighbor_1\", \"species_neighbor_2\"])\n",
    "\n",
    "\n",
    "\n",
    "n_refs = 200\n",
    "n_atoms = descriptors.block(0).values.shape[0]\n",
    "n_structures = np.unique(descriptors.block(0).samples[\"structure\"])\n",
    "feature = torch.zeros(len(n_structures), n_refs)\n",
    "atom_descriptors = torch.tensor(descriptors.block(0).values)\n",
    "atom_descriptors = torch.nn.functional.normalize(atom_descriptors, dim = 1)\n",
    "selector = FPS(n_to_select = n_refs,\n",
    "           progress_bar = True,\n",
    "           score_threshold = 1e-12,\n",
    "           full = False,\n",
    "           initialize = 0\n",
    "          )\n",
    "selector.fit(atom_descriptors.T)\n",
    "references = selector.transform(atom_descriptors.T).T\n",
    "atomkernel_descriptors = torch.pow(atom_descriptors @ references.T, 2)\n",
    "for structure_i in n_structures:\n",
    "    a_i = descriptors.block(0).samples[\"structure\"] == structure_i\n",
    "    feature[structure_i, :] = torch.sum(atomkernel_descriptors[a_i, :], axis = 0)/np.sum(a_i)\n",
    "\n",
    "kMM = references @ references.T\n",
    "rtkMM = scipy.linalg.sqrtm(kMM)"
   ]
  },
  {
   "cell_type": "markdown",
   "id": "4d5a327e",
   "metadata": {},
   "source": [
    "## Analytical training Unbiased\n"
   ]
  },
  {
   "cell_type": "code",
   "execution_count": 33,
   "id": "cd3dd7ea",
   "metadata": {
    "ExecuteTime": {
     "end_time": "2023-04-12T15:42:06.163318Z",
     "start_time": "2023-04-12T15:41:56.090678Z"
    }
   },
   "outputs": [
    {
     "name": "stdout",
     "output_type": "stream",
     "text": [
      "Reference training loss: 0.0015957\n",
      "Reference test loss : 0.00222239\n"
     ]
    },
    {
     "name": "stderr",
     "output_type": "stream",
     "text": [
      "Epoch: 8:   0%|                                                                                                            | 8/100000 [00:09<34:18:21,  1.24s/it, lowest_mse=0.00159, pred_loss=0.00159, trigger=0]\n"
     ]
    },
    {
     "ename": "KeyboardInterrupt",
     "evalue": "",
     "output_type": "error",
     "traceback": [
      "\u001b[0;31m---------------------------------------------------------------------------\u001b[0m",
      "\u001b[0;31mKeyboardInterrupt\u001b[0m                         Traceback (most recent call last)",
      "Input \u001b[0;32mIn [33]\u001b[0m, in \u001b[0;36m<cell line: 60>\u001b[0;34m()\u001b[0m\n\u001b[1;32m     72\u001b[0m         loss_i\u001b[38;5;241m.\u001b[39mbackward(inputs \u001b[38;5;241m=\u001b[39m alignment)\n\u001b[1;32m     73\u001b[0m         \u001b[38;5;28;01mreturn\u001b[39;00m loss_i\n\u001b[0;32m---> 74\u001b[0m     \u001b[43mopt\u001b[49m\u001b[38;5;241;43m.\u001b[39;49m\u001b[43mstep\u001b[49m\u001b[43m(\u001b[49m\u001b[43mclosure\u001b[49m\u001b[43m)\u001b[49m\n\u001b[1;32m     75\u001b[0m     train_ldos \u001b[38;5;241m=\u001b[39m train_ldos\u001b[38;5;241m.\u001b[39mdetach()\n\u001b[1;32m     77\u001b[0m \u001b[38;5;28;01mwith\u001b[39;00m torch\u001b[38;5;241m.\u001b[39mno_grad():\n",
      "File \u001b[0;32m~/anaconda3/lib/python3.9/site-packages/torch/optim/optimizer.py:140\u001b[0m, in \u001b[0;36mOptimizer._hook_for_profile.<locals>.profile_hook_step.<locals>.wrapper\u001b[0;34m(*args, **kwargs)\u001b[0m\n\u001b[1;32m    138\u001b[0m profile_name \u001b[38;5;241m=\u001b[39m \u001b[38;5;124m\"\u001b[39m\u001b[38;5;124mOptimizer.step#\u001b[39m\u001b[38;5;132;01m{}\u001b[39;00m\u001b[38;5;124m.step\u001b[39m\u001b[38;5;124m\"\u001b[39m\u001b[38;5;241m.\u001b[39mformat(obj\u001b[38;5;241m.\u001b[39m\u001b[38;5;18m__class__\u001b[39m\u001b[38;5;241m.\u001b[39m\u001b[38;5;18m__name__\u001b[39m)\n\u001b[1;32m    139\u001b[0m \u001b[38;5;28;01mwith\u001b[39;00m torch\u001b[38;5;241m.\u001b[39mautograd\u001b[38;5;241m.\u001b[39mprofiler\u001b[38;5;241m.\u001b[39mrecord_function(profile_name):\n\u001b[0;32m--> 140\u001b[0m     out \u001b[38;5;241m=\u001b[39m \u001b[43mfunc\u001b[49m\u001b[43m(\u001b[49m\u001b[38;5;241;43m*\u001b[39;49m\u001b[43margs\u001b[49m\u001b[43m,\u001b[49m\u001b[43m \u001b[49m\u001b[38;5;241;43m*\u001b[39;49m\u001b[38;5;241;43m*\u001b[39;49m\u001b[43mkwargs\u001b[49m\u001b[43m)\u001b[49m\n\u001b[1;32m    141\u001b[0m     obj\u001b[38;5;241m.\u001b[39m_optimizer_step_code()\n\u001b[1;32m    142\u001b[0m     \u001b[38;5;28;01mreturn\u001b[39;00m out\n",
      "File \u001b[0;32m~/anaconda3/lib/python3.9/site-packages/torch/optim/optimizer.py:23\u001b[0m, in \u001b[0;36m_use_grad_for_differentiable.<locals>._use_grad\u001b[0;34m(self, *args, **kwargs)\u001b[0m\n\u001b[1;32m     21\u001b[0m \u001b[38;5;28;01mtry\u001b[39;00m:\n\u001b[1;32m     22\u001b[0m     torch\u001b[38;5;241m.\u001b[39mset_grad_enabled(\u001b[38;5;28mself\u001b[39m\u001b[38;5;241m.\u001b[39mdefaults[\u001b[38;5;124m'\u001b[39m\u001b[38;5;124mdifferentiable\u001b[39m\u001b[38;5;124m'\u001b[39m])\n\u001b[0;32m---> 23\u001b[0m     ret \u001b[38;5;241m=\u001b[39m \u001b[43mfunc\u001b[49m\u001b[43m(\u001b[49m\u001b[38;5;28;43mself\u001b[39;49m\u001b[43m,\u001b[49m\u001b[43m \u001b[49m\u001b[38;5;241;43m*\u001b[39;49m\u001b[43margs\u001b[49m\u001b[43m,\u001b[49m\u001b[43m \u001b[49m\u001b[38;5;241;43m*\u001b[39;49m\u001b[38;5;241;43m*\u001b[39;49m\u001b[43mkwargs\u001b[49m\u001b[43m)\u001b[49m\n\u001b[1;32m     24\u001b[0m \u001b[38;5;28;01mfinally\u001b[39;00m:\n\u001b[1;32m     25\u001b[0m     torch\u001b[38;5;241m.\u001b[39mset_grad_enabled(prev_grad)\n",
      "File \u001b[0;32m~/anaconda3/lib/python3.9/site-packages/torch/optim/adam.py:183\u001b[0m, in \u001b[0;36mAdam.step\u001b[0;34m(self, closure, grad_scaler)\u001b[0m\n\u001b[1;32m    181\u001b[0m \u001b[38;5;28;01mif\u001b[39;00m closure \u001b[38;5;129;01mis\u001b[39;00m \u001b[38;5;129;01mnot\u001b[39;00m \u001b[38;5;28;01mNone\u001b[39;00m:\n\u001b[1;32m    182\u001b[0m     \u001b[38;5;28;01mwith\u001b[39;00m torch\u001b[38;5;241m.\u001b[39menable_grad():\n\u001b[0;32m--> 183\u001b[0m         loss \u001b[38;5;241m=\u001b[39m \u001b[43mclosure\u001b[49m\u001b[43m(\u001b[49m\u001b[43m)\u001b[49m\n\u001b[1;32m    185\u001b[0m \u001b[38;5;28;01mfor\u001b[39;00m group \u001b[38;5;129;01min\u001b[39;00m \u001b[38;5;28mself\u001b[39m\u001b[38;5;241m.\u001b[39mparam_groups:\n\u001b[1;32m    186\u001b[0m     params_with_grad \u001b[38;5;241m=\u001b[39m []\n",
      "Input \u001b[0;32mIn [33]\u001b[0m, in \u001b[0;36mclosure\u001b[0;34m()\u001b[0m\n\u001b[1;32m     67\u001b[0m shifted_target \u001b[38;5;241m=\u001b[39m shift_coeffs(train_ldos[i_batch], emin, emax, alignment[i_batch])            \n\u001b[1;32m     68\u001b[0m shifted_reg_target \u001b[38;5;241m=\u001b[39m torch\u001b[38;5;241m.\u001b[39mvstack([shifted_target, torch\u001b[38;5;241m.\u001b[39mzeros(n_col,train_ldos\u001b[38;5;241m.\u001b[39mshape[\u001b[38;5;241m1\u001b[39m])])          \n\u001b[0;32m---> 69\u001b[0m train_weights \u001b[38;5;241m=\u001b[39m \u001b[43mtorch\u001b[49m\u001b[38;5;241;43m.\u001b[39;49m\u001b[43mlinalg\u001b[49m\u001b[38;5;241;43m.\u001b[39;49m\u001b[43mlstsq\u001b[49m\u001b[43m(\u001b[49m\u001b[43mreg_features_i\u001b[49m\u001b[43m,\u001b[49m\u001b[43m \u001b[49m\u001b[43mshifted_reg_target\u001b[49m\u001b[43m,\u001b[49m\u001b[43m \u001b[49m\u001b[43mrcond\u001b[49m\u001b[43m \u001b[49m\u001b[38;5;241;43m=\u001b[39;49m\u001b[43m \u001b[49m\u001b[38;5;241;43m1e-10\u001b[39;49m\u001b[43m,\u001b[49m\u001b[43m \u001b[49m\u001b[43mdriver\u001b[49m\u001b[43m \u001b[49m\u001b[38;5;241;43m=\u001b[39;49m\u001b[43m \u001b[49m\u001b[38;5;124;43m\"\u001b[39;49m\u001b[38;5;124;43mgelsd\u001b[39;49m\u001b[38;5;124;43m\"\u001b[39;49m\u001b[43m)\u001b[49m\u001b[38;5;241m.\u001b[39msolution\n\u001b[1;32m     70\u001b[0m shifted_train_preds \u001b[38;5;241m=\u001b[39m Features[i_batch] \u001b[38;5;241m@\u001b[39m train_weights\n\u001b[1;32m     71\u001b[0m loss_i \u001b[38;5;241m=\u001b[39m torch\u001b[38;5;241m.\u001b[39mmean(\u001b[38;5;28mabs\u001b[39m(shifted_train_preds \u001b[38;5;241m-\u001b[39m shifted_target)\u001b[38;5;241m*\u001b[39m\u001b[38;5;241m*\u001b[39m\u001b[38;5;241m2\u001b[39m) \n",
      "\u001b[0;31mKeyboardInterrupt\u001b[0m: "
     ]
    }
   ],
   "source": [
    "from dostools.loss import loss\n",
    "#normal dataset\n",
    "\n",
    "batch_size = 32\n",
    "sigma = 0.3\n",
    "n_epochs = 100000\n",
    "patience = 20\n",
    "\n",
    "index = train_index\n",
    "t_index = test_index\n",
    "\n",
    "Sampler = torch.utils.data.RandomSampler(index, replacement = False)\n",
    "Batcher = torch.utils.data.BatchSampler(Sampler, batch_size, False)\n",
    "\n",
    "Features = torch.hstack([feature[index].double(), torch.ones(len(index)).view(-1,1)]).type(dtype = torch.complex128)\n",
    "t_Features = torch.hstack([feature[t_index].double(), torch.ones(len(t_index)).view(-1,1)]).type(dtype = torch.complex128)\n",
    "# Features = torch.hstack([Silicon.Features['structure_avedescriptors'][index].double(), torch.ones(len(index)).view(-1,1)])\n",
    "# t_Features = torch.hstack([Silicon.Features['structure_avedescriptors'][t_index].double(), torch.ones(len(t_index)).view(-1,1)])\n",
    "# alignment = torch.nn.parameter.Parameter(torch.zeros(len(index)))\n",
    "#alignment = torch.nn.parameter.Parameter(torch.rand(len(index))-0.5)\n",
    "\n",
    "opt = torch.optim.Adam([alignment], lr = 1e-3, weight_decay = 0)\n",
    "# opt_LBFGS = torch.optim.LBFGS([alignment], lr = 1e-3, line_search_fn = 'strong_wolfe', tolerance_grad = 1e-15, tolerance_change = 1e-15)#, weight_decay = 0)\n",
    "scheduler = torch.optim.lr_scheduler.ReduceLROnPlateau(opt, factor = 0.1, patience = 20, threshold = 1e-5, min_lr = 1e-8)\n",
    "\n",
    "xdos_i = xdos.clone()\n",
    "# cutoff = torch.max(efermi) + 3\n",
    "# cutoff_index = torch.searchsorted(xdos, cutoff)\n",
    "\n",
    "train_ldos = coeffs[index,:].clone()#n_ldos2[index,:cutoff_index].clone()\n",
    "\n",
    "best_mse = torch.tensor(100)\n",
    "best_state = alignment.clone()\n",
    "\n",
    "n_col = Features.shape[1]\n",
    "regularization = 1\n",
    "\n",
    "reg = torch.hstack([torch.real(torch.tensor(regularization * rtkMM)), torch.zeros(rtkMM.shape[0]).view(-1,1)])\n",
    "reg = torch.vstack([reg, torch.zeros(n_col)])\n",
    "\n",
    "\n",
    "reg_features = torch.vstack([Features, reg])\n",
    "reg_target = torch.vstack([train_ldos, torch.zeros(n_col,train_ldos.shape[1])])\n",
    "reference_weights = torch.linalg.lstsq(reg_features, reg_target, driver = \"gelsd\", rcond = 1e-10).solution\n",
    "reference_pred = Features @ reference_weights\n",
    "reference_t_pred = t_Features @ reference_weights\n",
    "\n",
    "\n",
    "\n",
    "train_loss = torch.mean(abs(reference_pred- train_ldos)**2) \n",
    "test_loss = torch.mean(abs(reference_t_pred- coeffs[test_index])**2) \n",
    "current_rmse = torch.tensor(100)\n",
    "pred_loss = torch.tensor(100)\n",
    "prev_loss = torch.tensor(100)\n",
    "trigger = 0\n",
    "print (\"Reference training loss: {:.6}\".format(train_loss))\n",
    "print (\"Reference test loss : {:.6}\".format(test_loss))\n",
    "\n",
    "pbar = tqdm(range(n_epochs))\n",
    "for epoch in pbar:\n",
    "    pbar.set_description(f\"Epoch: {epoch}\")\n",
    "    pbar.set_postfix(pred_loss = pred_loss.item(), lowest_mse = best_mse.item(), trigger = trigger)\n",
    "    for i_batch in Batcher:\n",
    "        def closure():\n",
    "            opt.zero_grad()\n",
    "            reg_features_i = torch.vstack([Features[i_batch], reg])\n",
    "            shifted_target = shift_coeffs(train_ldos[i_batch], emin, emax, alignment[i_batch])            \n",
    "            shifted_reg_target = torch.vstack([shifted_target, torch.zeros(n_col,train_ldos.shape[1])])          \n",
    "            train_weights = torch.linalg.lstsq(reg_features_i, shifted_reg_target, rcond = 1e-10, driver = \"gelsd\").solution\n",
    "            shifted_train_preds = Features[i_batch] @ train_weights\n",
    "            loss_i = torch.mean(abs(shifted_train_preds - shifted_target)**2) \n",
    "            loss_i.backward(inputs = alignment)\n",
    "            return loss_i\n",
    "        opt.step(closure)\n",
    "        train_ldos = train_ldos.detach()\n",
    "        \n",
    "    with torch.no_grad():\n",
    "        shifted_target = shift_coeffs(train_ldos, emin, emax, alignment)\n",
    "        shifted_reg_target = torch.vstack([shifted_target, torch.zeros(n_col,train_ldos.shape[1])])          \n",
    "        train_weights = torch.linalg.lstsq(reg_features, shifted_reg_target, rcond = 1e-10, driver = \"gelsd\").solution\n",
    "        pred_i = Features @ train_weights\n",
    "        \n",
    "        \n",
    "        i_loss = torch.mean(abs(pred_i - shifted_target)**2) \n",
    "       \n",
    "        pred_loss = i_loss\n",
    "        if i_loss < prev_loss * (1 + 1e-3): \n",
    "            trigger = 0\n",
    "        else:\n",
    "            trigger +=1 \n",
    "            if trigger >= patience:\n",
    "                alignment = torch.nn.parameter.Parameter(best_state)\n",
    "                opt = torch.optim.Adam([alignment], lr = opt.param_groups[0]['lr'], weight_decay = 0)\n",
    "                counter = 0\n",
    "\n",
    "        if i_loss < best_mse:\n",
    "            best_mse = i_loss\n",
    "            best_state = alignment.clone()\n",
    "\n",
    "        prev_loss = i_loss\n",
    "\n",
    "        scheduler.step(i_loss)\n",
    "        if Batcher.batch_size > 1024:\n",
    "            break\n",
    "            \n",
    "        if opt.param_groups[0]['lr'] < 1e-3:\n",
    "            Batcher.batch_size *= 2 \n",
    "            opt.param_groups[0]['lr'] = 1e-3\n",
    "            print (\"The batch_size is now:\", Batcher.batch_size)\n",
    "\n",
    "            \n",
    "            \n",
    "\n",
    "\n",
    "shifted_target = shift_coeffs(train_ldos, emin, emax, best_state)    \n",
    "shifted_reg_target = torch.vstack([shifted_target, torch.zeros(n_col,train_ldos.shape[1])])   \n",
    "\n",
    "\n",
    "shifted_weights = torch.linalg.lstsq(reg_features, shifted_reg_target, driver = \"gelsd\").solution\n",
    "shifted_preds = Features @ shifted_weights\n",
    "shifted_t_preds = t_Features @ shifted_weights\n",
    "\n",
    "\n",
    "shifted_train_loss = torch.mean(abs(shifted_preds - shifted_target)**2)#loss.t_get_rmse(shifted_preds, shifted_target, xdos, perc = True)\n",
    "# shifted_test_loss = loss.t_get_rmse(shifted_t_preds, shifted_ldos, xdos, perc = True) Need the one with the new loss function\n",
    "\n",
    "print (\"Final training loss: {:.6}\".format(shifted_train_loss))\n"
   ]
  },
  {
   "cell_type": "code",
   "execution_count": null,
   "id": "f3561eba",
   "metadata": {
    "ExecuteTime": {
     "end_time": "2023-04-12T15:41:46.628306Z",
     "start_time": "2023-04-12T15:41:46.628289Z"
    }
   },
   "outputs": [],
   "source": [
    "alignment"
   ]
  },
  {
   "cell_type": "markdown",
   "id": "02b292f7",
   "metadata": {},
   "source": [
    "## Analytical training function"
   ]
  },
  {
   "cell_type": "code",
   "execution_count": 15,
   "id": "625a1f22",
   "metadata": {
    "ExecuteTime": {
     "end_time": "2023-04-12T15:31:06.194236Z",
     "start_time": "2023-04-12T15:31:06.170397Z"
    }
   },
   "outputs": [],
   "source": [
    "from dostools.loss import loss\n",
    "\n",
    "emin = -24.553719539983 - 1.5\n",
    "emax = 11.346414696331 + 1.5\n",
    "\n",
    "def find_optimal_alignment_fourier(init_alignment, feature, target, rtkMM, train_index, test_index, n_epochs):\n",
    "    batch_size = 32\n",
    "    sigma = 0.3\n",
    "    n_epochs = n_epochs\n",
    "    patience = 20\n",
    "\n",
    "    index = train_index\n",
    "    t_index = test_index\n",
    "\n",
    "    Sampler = torch.utils.data.RandomSampler(index, replacement = False)\n",
    "    Batcher = torch.utils.data.BatchSampler(Sampler, batch_size, False)\n",
    "\n",
    "    Features = torch.hstack([feature[index].double(), torch.ones(len(index)).view(-1,1)]).type(dtype = torch.complex128)\n",
    "    t_Features = torch.hstack([feature[t_index].double(), torch.ones(len(t_index)).view(-1,1)]).type(dtype = torch.complex128)\n",
    "    alignment = init_alignment.clone()\n",
    "\n",
    "    opt = torch.optim.Adam([alignment], lr = 1e-3, weight_decay = 0)\n",
    "    scheduler = torch.optim.lr_scheduler.ReduceLROnPlateau(opt, factor = 0.1, patience = 20, threshold = 1e-5, min_lr = 1e-8)\n",
    "    train_ldos = target[index,:].clone()#n_ldos2[index,:cutoff_index].clone()\n",
    "\n",
    "    best_mse = torch.tensor(100)\n",
    "    best_state = alignment.clone()\n",
    "\n",
    "    n_col = Features.shape[1]\n",
    "    regularization = 1\n",
    "\n",
    "    reg = torch.hstack([torch.real(torch.tensor(regularization * rtkMM)), torch.zeros(rtkMM.shape[0]).view(-1,1)])\n",
    "    reg = torch.vstack([reg, torch.zeros(n_col)])\n",
    "\n",
    "\n",
    "    reg_features = torch.vstack([Features, reg])\n",
    "    reg_target = torch.vstack([train_ldos, torch.zeros(n_col,train_ldos.shape[1])])\n",
    "    reference_weights = torch.linalg.lstsq(reg_features, reg_target, driver = \"gelsd\", rcond = 1e-10).solution\n",
    "    reference_pred = Features @ reference_weights\n",
    "    reference_t_pred = t_Features @ reference_weights\n",
    "\n",
    "\n",
    "\n",
    "    train_loss = torch.mean(abs(reference_pred- train_ldos)**2) \n",
    "    test_loss = torch.mean(abs(reference_t_pred- target[test_index])**2) \n",
    "    current_rmse = torch.tensor(100)\n",
    "    pred_loss = torch.tensor(100)\n",
    "    prev_loss = torch.tensor(100)\n",
    "    trigger = 0\n",
    "    print (\"Reference training loss: {:.6}\".format(train_loss))\n",
    "    print (\"Reference test loss : {:.6}\".format(test_loss))\n",
    "\n",
    "    pbar = tqdm(range(n_epochs))\n",
    "    for epoch in pbar:\n",
    "        pbar.set_description(f\"Epoch: {epoch}\")\n",
    "        pbar.set_postfix(pred_loss = pred_loss.item(), lowest_mse = best_mse.item(), trigger = trigger)\n",
    "        for i_batch in Batcher:\n",
    "            def closure():\n",
    "                opt.zero_grad()\n",
    "                reg_features_i = torch.vstack([Features[i_batch], reg])\n",
    "                shifted_target = shift_coeffs(train_ldos[i_batch], emin, emax, alignment[i_batch])            \n",
    "                shifted_reg_target = torch.vstack([shifted_target, torch.zeros(n_col,train_ldos.shape[1])])          \n",
    "                train_weights = torch.linalg.lstsq(reg_features_i, shifted_reg_target, rcond = 1e-10, driver = \"gelsd\").solution\n",
    "                shifted_train_preds = Features[i_batch] @ train_weights\n",
    "                loss_i = torch.mean(abs(shifted_train_preds - shifted_target)**2) \n",
    "                loss_i.backward(inputs = alignment)\n",
    "                return loss_i\n",
    "            opt.step(closure)\n",
    "            train_ldos = train_ldos.detach()\n",
    "\n",
    "        with torch.no_grad():\n",
    "            shifted_target = shift_coeffs(train_ldos, emin, emax, alignment)\n",
    "            shifted_reg_target = torch.vstack([shifted_target, torch.zeros(n_col,train_ldos.shape[1])])          \n",
    "            train_weights = torch.linalg.lstsq(reg_features, shifted_reg_target, rcond = 1e-10, driver = \"gelsd\").solution\n",
    "            pred_i = Features @ train_weights\n",
    "            i_loss = torch.mean(abs(pred_i - shifted_target)**2) \n",
    "\n",
    "            pred_loss = i_loss\n",
    "            if i_loss < prev_loss * (1 + 1e-3): \n",
    "                trigger = 0\n",
    "            else:\n",
    "                trigger +=1 \n",
    "                if trigger >= patience:\n",
    "                    alignment = torch.nn.parameter.Parameter(best_state)\n",
    "                    opt = torch.optim.Adam([alignment], lr = opt.param_groups[0]['lr'], weight_decay = 0)\n",
    "                    counter = 0\n",
    "\n",
    "            if i_loss < best_mse:\n",
    "                best_mse = i_loss\n",
    "                best_state = alignment.clone()\n",
    "\n",
    "            prev_loss = i_loss\n",
    "\n",
    "            scheduler.step(i_loss)\n",
    "            if Batcher.batch_size > 1024:\n",
    "                break\n",
    "\n",
    "            if opt.param_groups[0]['lr'] < 1e-3:\n",
    "                Batcher.batch_size *= 2 \n",
    "                opt.param_groups[0]['lr'] = 1e-3\n",
    "                print (\"The batch_size is now:\", Batcher.batch_size)\n",
    "\n",
    "    shifted_target = shift_coeffs(train_ldos, emin, emax, best_state)    \n",
    "    shifted_reg_target = torch.vstack([shifted_target, torch.zeros(n_col,train_ldos.shape[1])])   \n",
    "\n",
    "\n",
    "    shifted_weights = torch.linalg.lstsq(reg_features, shifted_reg_target, driver = \"gelsd\").solution\n",
    "    shifted_preds = Features @ shifted_weights\n",
    "    shifted_t_preds = t_Features @ shifted_weights\n",
    "\n",
    "\n",
    "    shifted_train_loss = torch.mean(abs(shifted_preds - shifted_target)**2)#loss.t_get_rmse(shifted_preds, shifted_target, xdos, perc = True)\n",
    "    # shifted_test_loss = loss.t_get_rmse(shifted_t_preds, shifted_ldos, xdos, perc = True) Need the one with the new loss function\n",
    "\n",
    "    print (\"Final training loss: {:.6}\".format(shifted_train_loss))\n",
    "    \n",
    "    return alignment\n"
   ]
  },
  {
   "cell_type": "code",
   "execution_count": 16,
   "id": "e2cd3f34",
   "metadata": {
    "ExecuteTime": {
     "end_time": "2023-04-12T15:31:14.150662Z",
     "start_time": "2023-04-12T15:31:13.363726Z"
    }
   },
   "outputs": [
    {
     "name": "stdout",
     "output_type": "stream",
     "text": [
      "Reference training loss: 0.0015957\n",
      "Reference test loss : 0.00222239\n"
     ]
    },
    {
     "name": "stderr",
     "output_type": "stream",
     "text": [
      "Epoch: 0:   0%|                                                                                                                               | 0/200000 [00:00<?, ?it/s, lowest_mse=100, pred_loss=100, trigger=0]\n"
     ]
    },
    {
     "ename": "RuntimeError",
     "evalue": "torch.linalg.lstsq: input.size(-2) should match other.size(-2)",
     "output_type": "error",
     "traceback": [
      "\u001b[0;31m---------------------------------------------------------------------------\u001b[0m",
      "\u001b[0;31mRuntimeError\u001b[0m                              Traceback (most recent call last)",
      "Input \u001b[0;32mIn [16]\u001b[0m, in \u001b[0;36m<cell line: 5>\u001b[0;34m()\u001b[0m\n\u001b[1;32m      3\u001b[0m \u001b[38;5;66;03m# init = (torch.rand(len(index))-0.5) * 0.2\u001b[39;00m\n\u001b[1;32m      4\u001b[0m init \u001b[38;5;241m=\u001b[39m torch\u001b[38;5;241m.\u001b[39mzeros(\u001b[38;5;28mlen\u001b[39m(index)) \u001b[38;5;241m+\u001b[39m \u001b[38;5;241m2\u001b[39m\n\u001b[0;32m----> 5\u001b[0m opt_align \u001b[38;5;241m=\u001b[39m \u001b[43mfind_optimal_alignment_fourier\u001b[49m\u001b[43m(\u001b[49m\u001b[43minit\u001b[49m\u001b[43m,\u001b[49m\u001b[43m \u001b[49m\u001b[43mfeature\u001b[49m\u001b[43m,\u001b[49m\u001b[43m \u001b[49m\u001b[43mcoeffs\u001b[49m\u001b[43m,\u001b[49m\u001b[43m \u001b[49m\u001b[43mrtkMM\u001b[49m\u001b[43m,\u001b[49m\u001b[43m \u001b[49m\u001b[43mtrain_index\u001b[49m\u001b[43m,\u001b[49m\u001b[43m \u001b[49m\u001b[43mtest_index\u001b[49m\u001b[43m,\u001b[49m\u001b[43m \u001b[49m\u001b[38;5;241;43m200000\u001b[39;49m\u001b[43m)\u001b[49m\n",
      "Input \u001b[0;32mIn [15]\u001b[0m, in \u001b[0;36mfind_optimal_alignment_fourier\u001b[0;34m(init_alignment, feature, target, rtkMM, train_index, test_index, n_epochs)\u001b[0m\n\u001b[1;32m     67\u001b[0m         loss_i\u001b[38;5;241m.\u001b[39mbackward(inputs \u001b[38;5;241m=\u001b[39m alignment)\n\u001b[1;32m     68\u001b[0m         \u001b[38;5;28;01mreturn\u001b[39;00m loss_i\n\u001b[0;32m---> 69\u001b[0m     \u001b[43mopt\u001b[49m\u001b[38;5;241;43m.\u001b[39;49m\u001b[43mstep\u001b[49m\u001b[43m(\u001b[49m\u001b[43mclosure\u001b[49m\u001b[43m)\u001b[49m\n\u001b[1;32m     70\u001b[0m     train_ldos \u001b[38;5;241m=\u001b[39m train_ldos\u001b[38;5;241m.\u001b[39mdetach()\n\u001b[1;32m     72\u001b[0m \u001b[38;5;28;01mwith\u001b[39;00m torch\u001b[38;5;241m.\u001b[39mno_grad():\n",
      "File \u001b[0;32m~/anaconda3/lib/python3.9/site-packages/torch/optim/optimizer.py:140\u001b[0m, in \u001b[0;36mOptimizer._hook_for_profile.<locals>.profile_hook_step.<locals>.wrapper\u001b[0;34m(*args, **kwargs)\u001b[0m\n\u001b[1;32m    138\u001b[0m profile_name \u001b[38;5;241m=\u001b[39m \u001b[38;5;124m\"\u001b[39m\u001b[38;5;124mOptimizer.step#\u001b[39m\u001b[38;5;132;01m{}\u001b[39;00m\u001b[38;5;124m.step\u001b[39m\u001b[38;5;124m\"\u001b[39m\u001b[38;5;241m.\u001b[39mformat(obj\u001b[38;5;241m.\u001b[39m\u001b[38;5;18m__class__\u001b[39m\u001b[38;5;241m.\u001b[39m\u001b[38;5;18m__name__\u001b[39m)\n\u001b[1;32m    139\u001b[0m \u001b[38;5;28;01mwith\u001b[39;00m torch\u001b[38;5;241m.\u001b[39mautograd\u001b[38;5;241m.\u001b[39mprofiler\u001b[38;5;241m.\u001b[39mrecord_function(profile_name):\n\u001b[0;32m--> 140\u001b[0m     out \u001b[38;5;241m=\u001b[39m \u001b[43mfunc\u001b[49m\u001b[43m(\u001b[49m\u001b[38;5;241;43m*\u001b[39;49m\u001b[43margs\u001b[49m\u001b[43m,\u001b[49m\u001b[43m \u001b[49m\u001b[38;5;241;43m*\u001b[39;49m\u001b[38;5;241;43m*\u001b[39;49m\u001b[43mkwargs\u001b[49m\u001b[43m)\u001b[49m\n\u001b[1;32m    141\u001b[0m     obj\u001b[38;5;241m.\u001b[39m_optimizer_step_code()\n\u001b[1;32m    142\u001b[0m     \u001b[38;5;28;01mreturn\u001b[39;00m out\n",
      "File \u001b[0;32m~/anaconda3/lib/python3.9/site-packages/torch/optim/optimizer.py:23\u001b[0m, in \u001b[0;36m_use_grad_for_differentiable.<locals>._use_grad\u001b[0;34m(self, *args, **kwargs)\u001b[0m\n\u001b[1;32m     21\u001b[0m \u001b[38;5;28;01mtry\u001b[39;00m:\n\u001b[1;32m     22\u001b[0m     torch\u001b[38;5;241m.\u001b[39mset_grad_enabled(\u001b[38;5;28mself\u001b[39m\u001b[38;5;241m.\u001b[39mdefaults[\u001b[38;5;124m'\u001b[39m\u001b[38;5;124mdifferentiable\u001b[39m\u001b[38;5;124m'\u001b[39m])\n\u001b[0;32m---> 23\u001b[0m     ret \u001b[38;5;241m=\u001b[39m \u001b[43mfunc\u001b[49m\u001b[43m(\u001b[49m\u001b[38;5;28;43mself\u001b[39;49m\u001b[43m,\u001b[49m\u001b[43m \u001b[49m\u001b[38;5;241;43m*\u001b[39;49m\u001b[43margs\u001b[49m\u001b[43m,\u001b[49m\u001b[43m \u001b[49m\u001b[38;5;241;43m*\u001b[39;49m\u001b[38;5;241;43m*\u001b[39;49m\u001b[43mkwargs\u001b[49m\u001b[43m)\u001b[49m\n\u001b[1;32m     24\u001b[0m \u001b[38;5;28;01mfinally\u001b[39;00m:\n\u001b[1;32m     25\u001b[0m     torch\u001b[38;5;241m.\u001b[39mset_grad_enabled(prev_grad)\n",
      "File \u001b[0;32m~/anaconda3/lib/python3.9/site-packages/torch/optim/adam.py:183\u001b[0m, in \u001b[0;36mAdam.step\u001b[0;34m(self, closure, grad_scaler)\u001b[0m\n\u001b[1;32m    181\u001b[0m \u001b[38;5;28;01mif\u001b[39;00m closure \u001b[38;5;129;01mis\u001b[39;00m \u001b[38;5;129;01mnot\u001b[39;00m \u001b[38;5;28;01mNone\u001b[39;00m:\n\u001b[1;32m    182\u001b[0m     \u001b[38;5;28;01mwith\u001b[39;00m torch\u001b[38;5;241m.\u001b[39menable_grad():\n\u001b[0;32m--> 183\u001b[0m         loss \u001b[38;5;241m=\u001b[39m \u001b[43mclosure\u001b[49m\u001b[43m(\u001b[49m\u001b[43m)\u001b[49m\n\u001b[1;32m    185\u001b[0m \u001b[38;5;28;01mfor\u001b[39;00m group \u001b[38;5;129;01min\u001b[39;00m \u001b[38;5;28mself\u001b[39m\u001b[38;5;241m.\u001b[39mparam_groups:\n\u001b[1;32m    186\u001b[0m     params_with_grad \u001b[38;5;241m=\u001b[39m []\n",
      "Input \u001b[0;32mIn [15]\u001b[0m, in \u001b[0;36mfind_optimal_alignment_fourier.<locals>.closure\u001b[0;34m()\u001b[0m\n\u001b[1;32m     62\u001b[0m train_ldos[i_batch] \u001b[38;5;241m=\u001b[39m shifted_target_i\n\u001b[1;32m     63\u001b[0m shifted_reg_target \u001b[38;5;241m=\u001b[39m torch\u001b[38;5;241m.\u001b[39mvstack([train_ldos, torch\u001b[38;5;241m.\u001b[39mzeros(n_col,train_ldos\u001b[38;5;241m.\u001b[39mshape[\u001b[38;5;241m1\u001b[39m])])          \n\u001b[0;32m---> 64\u001b[0m train_weights \u001b[38;5;241m=\u001b[39m \u001b[43mtorch\u001b[49m\u001b[38;5;241;43m.\u001b[39;49m\u001b[43mlinalg\u001b[49m\u001b[38;5;241;43m.\u001b[39;49m\u001b[43mlstsq\u001b[49m\u001b[43m(\u001b[49m\u001b[43mreg_features_i\u001b[49m\u001b[43m,\u001b[49m\u001b[43m \u001b[49m\u001b[43mshifted_reg_target\u001b[49m\u001b[43m,\u001b[49m\u001b[43m \u001b[49m\u001b[43mrcond\u001b[49m\u001b[43m \u001b[49m\u001b[38;5;241;43m=\u001b[39;49m\u001b[43m \u001b[49m\u001b[38;5;241;43m1e-10\u001b[39;49m\u001b[43m,\u001b[49m\u001b[43m \u001b[49m\u001b[43mdriver\u001b[49m\u001b[43m \u001b[49m\u001b[38;5;241;43m=\u001b[39;49m\u001b[43m \u001b[49m\u001b[38;5;124;43m\"\u001b[39;49m\u001b[38;5;124;43mgelsd\u001b[39;49m\u001b[38;5;124;43m\"\u001b[39;49m\u001b[43m)\u001b[49m\u001b[38;5;241m.\u001b[39msolution\n\u001b[1;32m     65\u001b[0m shifted_train_preds \u001b[38;5;241m=\u001b[39m Features[i_batch] \u001b[38;5;241m@\u001b[39m train_weights\n\u001b[1;32m     66\u001b[0m loss_i \u001b[38;5;241m=\u001b[39m torch\u001b[38;5;241m.\u001b[39mmean(\u001b[38;5;28mabs\u001b[39m(shifted_train_preds \u001b[38;5;241m-\u001b[39m shifted_target)\u001b[38;5;241m*\u001b[39m\u001b[38;5;241m*\u001b[39m\u001b[38;5;241m2\u001b[39m) \n",
      "\u001b[0;31mRuntimeError\u001b[0m: torch.linalg.lstsq: input.size(-2) should match other.size(-2)"
     ]
    }
   ],
   "source": [
    "index = train_index\n",
    "t_index = test_index\n",
    "# init = (torch.rand(len(index))-0.5) * 0.2\n",
    "init = torch.zeros(len(index)) + 2\n",
    "opt_align = find_optimal_alignment_fourier(init, feature, coeffs, rtkMM, train_index, test_index, 200000)"
   ]
  },
  {
   "cell_type": "code",
   "execution_count": 200,
   "id": "454b99cd",
   "metadata": {
    "ExecuteTime": {
     "end_time": "2023-04-11T14:46:36.821012Z",
     "start_time": "2023-04-11T14:46:36.809916Z"
    }
   },
   "outputs": [
    {
     "data": {
      "text/plain": [
       "Parameter containing:\n",
       "tensor([1.7371, 1.9157, 1.5303, 2.2095, 2.0222, 2.0606, 2.0495, 1.7668, 2.3179,\n",
       "        2.3628, 2.2796, 2.0343, 1.9164, 2.2186, 1.8162, 2.2409, 1.8968, 1.9192,\n",
       "        1.9806, 1.9331, 2.0873, 2.1195, 1.9350, 2.1696, 1.9427, 1.9221, 1.8112,\n",
       "        1.8066, 2.0281, 2.2895, 2.0228, 1.8491, 2.1076, 1.8967, 1.8929, 1.9000,\n",
       "        1.9361, 1.7421, 2.2460, 1.9817, 2.3208, 2.2714, 1.8864, 1.8913, 2.1076,\n",
       "        2.2187, 1.9073, 2.0621, 2.0746, 2.1488, 1.8831, 2.4306, 2.2366, 1.9806,\n",
       "        2.3376, 2.4042, 2.2401, 1.7929, 2.1479, 1.9162, 1.9418, 1.9543, 1.8866,\n",
       "        2.0491, 2.2978, 2.2673, 1.8984, 1.8476, 1.8924, 1.8426, 1.7960, 2.3270,\n",
       "        1.8375, 1.8158, 1.9665, 1.8554, 2.1151, 1.9837, 2.0851, 1.8011, 1.8441,\n",
       "        1.8766, 2.3537, 2.4762, 1.9016, 1.9670, 1.8867, 1.7123, 1.9027, 1.8042,\n",
       "        1.7749, 1.9593, 1.9106, 1.8444, 1.7976, 2.3059, 2.3832, 2.2122, 2.2323,\n",
       "        2.0422, 1.8195, 1.8316, 2.5520, 2.0131, 2.2948, 1.8512, 1.9743, 2.1195,\n",
       "        1.9563, 1.6999, 1.8610, 1.9541, 2.2077, 1.8537, 2.2926, 1.9483, 1.8982,\n",
       "        1.9026, 2.2294, 1.8779, 1.9032, 2.0806, 1.8118, 1.8438, 1.9093, 2.2299,\n",
       "        1.8501, 1.8431, 2.3105, 1.9192, 2.2757, 1.8999, 1.8919, 1.9183, 1.8948,\n",
       "        2.3138, 1.7622, 1.8500, 1.9590, 2.3135, 1.8744, 1.8892, 1.9204, 1.8768,\n",
       "        1.9033, 2.3243, 2.3898, 1.9537, 2.3652, 2.3589, 2.2412, 1.9622, 1.8227,\n",
       "        1.8985, 1.7541, 1.9865, 1.8930, 1.8463, 1.8937, 2.0139, 1.8019, 1.9435,\n",
       "        2.1063, 2.3244, 2.1370, 1.8067, 1.8905, 2.3670, 2.3771, 2.0136, 1.9608,\n",
       "        1.8892, 2.3173, 2.1040, 1.8443, 1.9239, 1.9048, 2.2748, 2.1630, 2.2927,\n",
       "        2.2193, 1.8822, 1.8951, 1.8541, 1.9171, 2.0471, 1.7596, 1.8967, 1.8741,\n",
       "        1.9475, 1.7751, 1.7684, 1.8449, 1.4652, 2.0480, 1.9384, 1.9192, 1.8821,\n",
       "        1.8944, 1.8333, 2.2402, 2.3226, 1.9404, 1.8097, 2.1868, 1.8912, 2.0460,\n",
       "        1.8485, 1.7193, 1.7751, 1.8953, 1.9766, 1.9185, 2.1843, 1.8917, 1.8466,\n",
       "        1.4140, 1.9719, 1.5927, 2.2748, 1.9167, 1.9190, 1.8497, 1.7887, 1.9764,\n",
       "        1.9420, 1.9875, 2.1830, 2.2818, 1.9189, 2.0677, 1.8802, 1.8461, 1.7921,\n",
       "        1.8455, 1.9705, 1.9186, 2.1816, 2.2930, 1.8234, 1.6848, 1.8883, 2.0158,\n",
       "        1.9115, 1.8915, 2.3541, 1.9262, 2.1042, 2.2966, 1.8485, 1.8950, 2.1133,\n",
       "        1.8504, 2.1847, 1.9167, 1.9184, 1.8220, 2.1799, 2.2319, 2.0317, 2.0508,\n",
       "        1.4393, 1.9024, 1.8959, 2.2856, 1.8553, 2.0179, 1.9086, 1.8855, 1.9121,\n",
       "        1.7249, 2.0144, 2.2789, 2.4778, 2.2393, 1.9690, 2.2079, 2.0061, 1.8992,\n",
       "        2.0714, 1.9029, 1.8979, 2.0146, 1.8425, 2.2983, 2.0716, 2.3815, 1.7959,\n",
       "        2.1837, 1.8295, 1.8527, 2.2740, 2.3586, 2.1498, 1.8948, 2.2396, 1.8475,\n",
       "        1.6187, 1.8859, 2.0630, 1.8421, 1.8717, 2.2422, 2.1785, 1.9311, 2.3071,\n",
       "        1.9661, 1.8850, 1.8984, 1.8965, 2.2068, 1.7644, 1.7766, 1.9007, 1.8439,\n",
       "        1.8796, 1.8934, 2.2091, 1.8806, 1.8973, 2.1819, 2.2630, 1.9185, 2.2683,\n",
       "        2.4142, 1.8422, 1.7593, 1.8448, 2.2098, 1.8876, 1.8787, 1.5983, 2.1684,\n",
       "        2.1189, 2.3375, 2.4846, 2.0504, 2.0232, 2.3016, 1.8831, 1.8489, 2.4509,\n",
       "        1.9005, 1.9103, 1.7526, 1.8168, 2.2709, 2.2619, 1.8973, 1.7656, 1.9625,\n",
       "        1.8983, 2.4136, 1.6573, 2.3883, 2.3118, 2.2065, 1.9020, 1.7971, 2.1134,\n",
       "        2.2401, 2.2966, 2.3210, 1.9762, 2.3022, 1.8960, 1.8955, 1.7854, 1.9662,\n",
       "        2.4539, 1.9017, 2.2706, 1.7965, 2.0139, 2.1564, 1.9170, 2.1058, 2.0450,\n",
       "        1.8293, 1.9460, 2.2853, 2.1255, 2.1579, 2.1807, 2.8143, 2.1544, 2.1397,\n",
       "        2.2877, 1.9022, 2.3003, 1.9112, 2.0163, 1.8288, 1.7907, 1.8795, 1.8941,\n",
       "        2.0322, 1.7908, 1.8990, 1.7980, 1.8286, 2.0871, 1.7612, 2.2385, 2.1052,\n",
       "        1.9688, 2.2756, 2.0535, 1.8986, 2.1072, 2.2706, 2.3027, 2.0528, 2.2070,\n",
       "        2.2381, 1.7936, 2.1528, 2.2847, 1.8509, 1.8826, 2.2105, 2.4699, 1.9019,\n",
       "        2.3459, 1.9752, 2.2340, 1.9964, 1.9818, 1.7897, 2.0424, 1.8029, 1.9397,\n",
       "        1.8979, 1.9113, 1.8534, 2.1411, 1.9162, 1.8515, 1.7914, 2.3198, 2.3038,\n",
       "        1.8893, 2.1420, 2.4128, 2.1784, 1.9170, 2.0010, 1.8858, 2.0124, 1.9189,\n",
       "        2.1199, 1.6666, 1.7338, 1.9199, 1.9103, 2.4818, 2.0232, 1.9416, 1.7848,\n",
       "        1.7688, 1.9946, 1.8547, 2.2959, 2.0470, 2.2681, 2.2075, 2.2116, 2.2868,\n",
       "        2.2380, 1.8932, 1.6401, 1.8990, 2.3247, 1.9080, 1.8943, 2.0257, 1.9173,\n",
       "        1.8760, 2.1827, 1.9425, 1.8927, 1.8860, 2.1540, 2.1061, 2.3465, 1.8707,\n",
       "        2.2909, 2.3115, 2.3740, 2.1776, 1.6903, 1.9129, 1.9189, 2.2092, 1.8495,\n",
       "        1.9719, 2.4798, 1.9046, 1.9557, 2.2942, 1.7821, 1.7932, 1.8489, 1.8899,\n",
       "        1.8957, 1.8092, 2.2652, 1.9920, 1.8311, 1.9566, 2.3434, 1.8947, 1.8944,\n",
       "        1.9474, 2.3519, 2.0747, 1.9348, 2.1251, 1.7889, 2.4036, 1.8995, 2.1012,\n",
       "        2.0640, 1.9742, 2.2682, 1.9293, 1.8749, 1.8511, 2.2787, 1.9187, 2.0177,\n",
       "        1.9338, 2.3227, 2.2414, 1.9858, 1.8802, 1.9746, 1.8952, 1.9198, 1.9240,\n",
       "        2.1533, 2.2072, 1.9568, 1.8822, 1.7741, 1.8978, 1.8111, 2.6215, 1.7348,\n",
       "        2.0148, 2.3957, 2.4317, 1.8804, 1.7848, 2.1297, 1.9886, 2.0488, 1.9046,\n",
       "        1.9418, 2.1118, 1.8460, 1.8879, 2.2585, 2.5806, 2.4136, 1.8518, 2.0513,\n",
       "        2.2694, 2.1512, 2.3454, 1.7805, 1.8209, 1.9704, 1.8209, 2.2267, 1.8950,\n",
       "        2.2502, 1.9174, 1.9717, 2.0174, 1.8814, 2.0831, 2.1523, 2.4612, 1.8945,\n",
       "        1.8999, 1.8881, 1.9007, 1.9047, 2.3024, 1.9009, 2.2130, 1.8910, 1.7325,\n",
       "        1.9576, 1.8910, 1.8056, 2.1059, 2.3110, 1.8000, 1.9313, 2.2824, 2.1208,\n",
       "        1.8964, 1.9413, 1.9015, 2.1543, 2.3000, 1.8966, 1.8482, 2.1526, 2.1465,\n",
       "        2.0205, 1.8978, 1.8469, 1.8881, 1.9762, 1.8414, 1.8219, 2.1824, 1.9004,\n",
       "        1.9271, 2.6929, 1.7760, 1.8590, 1.9169, 1.8909, 2.3491, 1.9721, 1.9135,\n",
       "        2.0503, 2.0421, 1.9164, 1.9204, 2.0255, 1.9173, 1.7851, 1.7913, 2.2791,\n",
       "        1.8878, 1.9181, 1.9075, 2.1784, 1.8890, 2.3346, 2.3032, 1.8954, 1.8046,\n",
       "        2.0153, 1.9010, 2.0935, 1.8791, 1.9572, 1.9110, 1.7828, 1.8936, 2.2676,\n",
       "        1.9183, 1.8888, 2.3133, 1.9599, 1.9228, 2.0732, 1.7820, 2.0784, 1.8943,\n",
       "        1.9179, 1.8960, 1.9348, 1.9293, 1.9077, 1.8484, 1.8994, 1.7761, 1.9350,\n",
       "        1.7846, 2.3192, 2.4217, 2.0446, 1.9548, 2.3206, 2.1165, 1.8826, 1.7847,\n",
       "        2.0855, 1.8976, 2.1062, 1.9129, 1.8046, 2.1791, 1.7798, 1.9180, 1.8452,\n",
       "        1.8524, 2.2378, 2.2403, 1.7272, 1.9242, 1.8952, 2.2127, 2.1122, 2.1590,\n",
       "        1.9055, 1.7766, 1.8422, 1.9179, 1.9810, 2.0522, 2.0174, 1.8940, 1.9868,\n",
       "        1.8513, 2.4363, 1.9626, 2.3756, 1.8816, 1.8898, 1.9182, 1.6398, 1.9702,\n",
       "        1.5977, 1.8323, 1.8486, 1.8452, 1.8109, 1.8774, 2.2328, 1.9125, 1.6330,\n",
       "        2.3566, 1.9396, 1.9904, 1.6549, 2.2659, 1.7846, 2.1843, 2.3375, 2.2355,\n",
       "        2.1083, 1.9897, 1.9040, 1.7645, 2.2094, 2.2088, 1.8867, 1.5694, 1.7938,\n",
       "        1.8951, 1.8243, 1.8956, 2.2404, 2.1529, 2.0762, 1.8974, 2.3132, 1.8982,\n",
       "        2.3085, 1.7964, 1.8844, 2.2922, 1.8577, 2.2475, 2.4199, 2.1695, 1.5999,\n",
       "        2.1995, 1.8014, 2.2305, 1.9574, 1.8455, 1.9787, 1.8961, 1.8504, 2.2714,\n",
       "        2.3286, 1.9831, 1.9149, 1.8981, 1.9148, 1.8752, 1.8912, 1.7971, 1.7017,\n",
       "        2.2731, 1.9171, 1.8993, 1.8269, 1.7749, 1.8889, 1.8950, 1.9612, 1.9171,\n",
       "        2.1518, 2.2684, 1.8817, 1.8956, 1.8834, 1.8953, 1.8435, 1.7783, 1.9182,\n",
       "        1.8461, 1.8238, 1.9182, 2.2914, 1.8475, 2.3230, 2.1611, 1.8022, 2.2739,\n",
       "        1.8430, 2.1552, 1.9006, 2.1260, 2.2099, 1.7972, 2.2741, 1.9386, 1.9116,\n",
       "        2.3334, 1.8788, 1.8843, 1.8933, 1.9067, 1.9396, 2.3845, 2.0439, 2.1615,\n",
       "        2.1108, 1.7671, 1.9813], requires_grad=True)"
      ]
     },
     "execution_count": 200,
     "metadata": {},
     "output_type": "execute_result"
    }
   ],
   "source": [
    "opt_align"
   ]
  },
  {
   "cell_type": "code",
   "execution_count": 198,
   "id": "4d9e1fbd",
   "metadata": {
    "ExecuteTime": {
     "end_time": "2023-04-11T14:46:14.061464Z",
     "start_time": "2023-04-11T14:46:13.946948Z"
    },
    "scrolled": true
   },
   "outputs": [
    {
     "name": "stdout",
     "output_type": "stream",
     "text": [
      "error is 0.0002305\n",
      "error is 0.01736\n",
      "error is 0.04018\n",
      "error is 0.0298\n",
      "error is 0.05883\n"
     ]
    }
   ],
   "source": [
    "reference_shifts = [best_state0, best_state05, best_state10, best_state20, best_state50]\n",
    "\n",
    "def find_optimal_shift_difference(state1, state2):\n",
    "    phase = torch.nn.parameter.Parameter((torch.zeros(1))) \n",
    "    opt = torch.optim.LBFGS([phase], lr = 1e-3, line_search_fn = 'strong_wolfe', tolerance_grad = 1e-15, tolerance_change = 1e-15)#, weight_decay = 0)\n",
    "    for epoch in range(5):\n",
    "        def closure():\n",
    "            opt.zero_grad()\n",
    "            diff = torch.mean(abs((state1+phase) - (state2)))\n",
    "            diff.backward()\n",
    "            return diff\n",
    "        opt.step(closure)\n",
    "        \n",
    "    diff = torch.mean(abs((state1+phase) - (state2)))\n",
    "#     print (\"phase is {:.4}\".format(phase.item()))\n",
    "    return diff\n",
    "\n",
    "\n",
    "for i in reference_shifts:\n",
    "    error = find_optimal_shift_difference(opt_align, i)\n",
    "    print (\"error is {:.4}\".format(error))\n"
   ]
  },
  {
   "cell_type": "code",
   "execution_count": 186,
   "id": "833aa3c4",
   "metadata": {
    "ExecuteTime": {
     "end_time": "2023-04-06T15:47:18.664234Z",
     "start_time": "2023-04-06T15:47:18.654255Z"
    }
   },
   "outputs": [
    {
     "data": {
      "text/plain": [
       "tensor(0.0861)"
      ]
     },
     "execution_count": 186,
     "metadata": {},
     "output_type": "execute_result"
    }
   ],
   "source": [
    "torch.var(best_state50)"
   ]
  },
  {
   "cell_type": "code",
   "execution_count": 181,
   "id": "ae0c11c8",
   "metadata": {
    "ExecuteTime": {
     "end_time": "2023-04-05T15:17:41.552292Z",
     "start_time": "2023-04-05T15:17:41.542105Z"
    }
   },
   "outputs": [
    {
     "name": "stdout",
     "output_type": "stream",
     "text": [
      "tensor(0.0012, grad_fn=<SubBackward0>)\n",
      "tensor(-0.0149, grad_fn=<SubBackward0>)\n",
      "tensor(0.0035, grad_fn=<SubBackward0>)\n",
      "tensor(-0.0198, grad_fn=<SubBackward0>)\n",
      "tensor(-0.0274, grad_fn=<SubBackward0>)\n"
     ]
    }
   ],
   "source": [
    "for i in reference_shifts:\n",
    "    print(torch.mean(i) - torch.mean(opt_align))\n"
   ]
  },
  {
   "cell_type": "code",
   "execution_count": 175,
   "id": "1b1bcdd1",
   "metadata": {
    "ExecuteTime": {
     "end_time": "2023-04-05T15:16:28.175541Z",
     "start_time": "2023-04-05T15:16:28.167808Z"
    }
   },
   "outputs": [
    {
     "data": {
      "text/plain": [
       "tensor(0.0069, grad_fn=<MeanBackward0>)"
      ]
     },
     "execution_count": 175,
     "metadata": {},
     "output_type": "execute_result"
    }
   ],
   "source": [
    "torch.mean(opt_align)"
   ]
  },
  {
   "cell_type": "code",
   "execution_count": 171,
   "id": "006b9a5a",
   "metadata": {
    "ExecuteTime": {
     "end_time": "2023-04-05T15:14:35.601636Z",
     "start_time": "2023-04-05T15:14:35.595901Z"
    }
   },
   "outputs": [
    {
     "data": {
      "text/plain": [
       "tensor(0.0181, grad_fn=<MeanBackward0>)"
      ]
     },
     "execution_count": 171,
     "metadata": {},
     "output_type": "execute_result"
    }
   ],
   "source": [
    "state1 = opt_align\n",
    "state2 = best_state05\n",
    "torch.mean(abs((state1-torch.mean(state1) - (state2 - torch.mean(state2)))))"
   ]
  },
  {
   "cell_type": "code",
   "execution_count": 136,
   "id": "72002a3c",
   "metadata": {
    "ExecuteTime": {
     "end_time": "2023-04-05T14:22:07.899448Z",
     "start_time": "2023-04-05T14:22:07.892548Z"
    }
   },
   "outputs": [
    {
     "data": {
      "text/plain": [
       "Parameter containing:\n",
       "tensor([0.], requires_grad=True)"
      ]
     },
     "execution_count": 136,
     "metadata": {},
     "output_type": "execute_result"
    }
   ],
   "source": [
    "phase"
   ]
  },
  {
   "cell_type": "code",
   "execution_count": 133,
   "id": "7d95a767",
   "metadata": {
    "ExecuteTime": {
     "end_time": "2023-04-05T14:21:56.351558Z",
     "start_time": "2023-04-05T14:21:56.337048Z"
    },
    "scrolled": true
   },
   "outputs": [
    {
     "data": {
      "text/plain": [
       "tensor([-0.2625, -0.0836, -0.4695,  0.2096,  0.0225,  0.0614,  0.0498, -0.2328,\n",
       "         0.3179,  0.3628,  0.2797,  0.0348, -0.0829,  0.2187, -0.1834,  0.2409,\n",
       "        -0.1025, -0.0801, -0.0191, -0.0666,  0.0873,  0.1195, -0.0648,  0.1696,\n",
       "        -0.0571, -0.0777, -0.1884, -0.1930,  0.0286,  0.2896,  0.0232, -0.1505,\n",
       "         0.1076, -0.1027, -0.1065, -0.0994, -0.0637, -0.2575,  0.2460, -0.0180,\n",
       "         0.3208,  0.2714, -0.1131, -0.1081,  0.1076,  0.2188, -0.0925,  0.0622,\n",
       "         0.0747,  0.1489, -0.1162,  0.4307,  0.2366, -0.0191,  0.3376,  0.4038,\n",
       "         0.2401, -0.2066,  0.1479, -0.0836, -0.0580, -0.0454, -0.1128,  0.0494,\n",
       "         0.2978,  0.2674, -0.1010, -0.1516, -0.1070, -0.1567, -0.2036,  0.3270,\n",
       "        -0.1621, -0.1838, -0.0332, -0.1442,  0.1151, -0.0161,  0.0854, -0.1984,\n",
       "        -0.1552, -0.1228,  0.3537,  0.4762, -0.0982, -0.0328, -0.1130, -0.2873,\n",
       "        -0.0967, -0.1953, -0.2246, -0.0404, -0.0892, -0.1548, -0.2020,  0.3059,\n",
       "         0.3832,  0.2115,  0.2324,  0.0425, -0.1802, -0.1679,  0.5520,  0.0135,\n",
       "         0.2948, -0.1481, -0.0255,  0.1196, -0.0435, -0.2998, -0.1386, -0.0457,\n",
       "         0.2078, -0.1455,  0.2927, -0.0514, -0.1012, -0.0972,  0.2295, -0.1214,\n",
       "        -0.0962,  0.0809, -0.1878, -0.1554, -0.0905,  0.2299, -0.1491, -0.1561,\n",
       "         0.3105, -0.0801,  0.2757, -0.0995, -0.1075, -0.0810, -0.1045,  0.3138,\n",
       "        -0.2372, -0.1493, -0.0408,  0.3135, -0.1251, -0.1102, -0.0789, -0.1228,\n",
       "        -0.0962,  0.3243,  0.3899, -0.0461,  0.3653,  0.3589,  0.2412, -0.0376,\n",
       "        -0.1769, -0.1009, -0.2455, -0.0133, -0.1064, -0.1530, -0.1057,  0.0142,\n",
       "        -0.1976, -0.0562,  0.1066,  0.3244,  0.1370, -0.1928, -0.1089,  0.3670,\n",
       "         0.3771,  0.0139, -0.0389, -0.1102,  0.3173,  0.1044, -0.1550, -0.0757,\n",
       "        -0.0949,  0.2748,  0.1630,  0.2927,  0.2193, -0.1172, -0.1043, -0.1454,\n",
       "        -0.0822,  0.0474, -0.2400, -0.1027, -0.1253, -0.0522, -0.2245, -0.2311,\n",
       "        -0.1544, -0.5342,  0.0483, -0.0614, -0.0800, -0.1173, -0.1050, -0.1663,\n",
       "         0.2403,  0.3226, -0.0593, -0.1899,  0.1868, -0.1082,  0.0463, -0.1508,\n",
       "        -0.2802, -0.2245, -0.1040, -0.0229, -0.0808,  0.1843, -0.1076, -0.1527,\n",
       "        -0.5860, -0.0279, -0.4069,  0.2748, -0.0826, -0.0803, -0.1496, -0.2106,\n",
       "        -0.0234, -0.0577, -0.0122,  0.1830,  0.2818, -0.0804,  0.0677, -0.1195,\n",
       "        -0.1532, -0.2074, -0.1538, -0.0293, -0.0807,  0.1817,  0.2930, -0.1761,\n",
       "        -0.3147, -0.1115,  0.0161, -0.0883, -0.1083,  0.3541, -0.0735,  0.1045,\n",
       "         0.2966, -0.1508, -0.1043,  0.1133, -0.1489,  0.1847, -0.0826, -0.0809,\n",
       "        -0.1776,  0.1799,  0.2319,  0.0321,  0.0511, -0.5602, -0.0974, -0.1035,\n",
       "         0.2856, -0.1443,  0.0182, -0.0910, -0.1139, -0.0876, -0.2747,  0.0146,\n",
       "         0.2790,  0.4778,  0.2393, -0.0308,  0.2079,  0.0066, -0.1004,  0.0715,\n",
       "        -0.0964, -0.1015,  0.0149, -0.1568,  0.2983,  0.0717,  0.3815, -0.2037,\n",
       "         0.1837, -0.1701, -0.1466,  0.2740,  0.3586,  0.1498, -0.1048,  0.2396,\n",
       "        -0.1518, -0.3809, -0.1134,  0.0633, -0.1571, -0.1278,  0.2422,  0.1786,\n",
       "        -0.0687,  0.3071, -0.0337, -0.1144, -0.1013, -0.1029,  0.2068, -0.2352,\n",
       "        -0.2228, -0.0987, -0.1554, -0.1198, -0.1059,  0.2091, -0.1191, -0.1021,\n",
       "         0.1820,  0.2630, -0.0808,  0.2683,  0.4143, -0.1570, -0.2403, -0.1545,\n",
       "         0.2098, -0.1118, -0.1206, -0.3956,  0.1685,  0.1190,  0.3375,  0.4847,\n",
       "         0.0507,  0.0235,  0.3016, -0.1166, -0.1507,  0.4509, -0.0989, -0.0895,\n",
       "        -0.2470, -0.1828,  0.2709,  0.2619, -0.1023, -0.2340, -0.0373, -0.1011,\n",
       "         0.4137, -0.3424,  0.3884,  0.3118,  0.2065, -0.0974, -0.2022,  0.1134,\n",
       "         0.2401,  0.2966,  0.3211, -0.0235,  0.3022, -0.1034, -0.1039, -0.2142,\n",
       "        -0.0340,  0.4539, -0.0977,  0.2706, -0.2030,  0.0142,  0.1564, -0.0823,\n",
       "         0.1061,  0.0453, -0.1702, -0.0538,  0.2854,  0.1256,  0.1580,  0.1807,\n",
       "         0.8144,  0.1545,  0.1397,  0.2878, -0.0976,  0.3003, -0.0883,  0.0166,\n",
       "        -0.1707, -0.2089, -0.1199, -0.1053,  0.0329, -0.2088, -0.1003, -0.2001,\n",
       "        -0.1709,  0.0872, -0.2383,  0.2385,  0.1055, -0.0315,  0.2756,  0.0538,\n",
       "        -0.1008,  0.1079,  0.2706,  0.3027,  0.0531,  0.2070,  0.2381, -0.2060,\n",
       "         0.1528,  0.2847, -0.1484, -0.1170,  0.2105,  0.4699, -0.0975,  0.3461,\n",
       "        -0.0245,  0.2341, -0.0034, -0.0180, -0.2099,  0.0427, -0.1967, -0.0597,\n",
       "        -0.1014, -0.0884, -0.1459,  0.1411, -0.0831, -0.1477, -0.2081,  0.3198,\n",
       "         0.3038, -0.1105,  0.1420,  0.4128,  0.1785, -0.0823,  0.0010, -0.1136,\n",
       "         0.0127, -0.0804,  0.1199, -0.3330, -0.2656, -0.0794, -0.0894,  0.4818,\n",
       "         0.0235, -0.0582, -0.2148, -0.2307, -0.0052, -0.1449,  0.2959,  0.0473,\n",
       "         0.2682,  0.2075,  0.2116,  0.2868,  0.2380, -0.1062, -0.3596, -0.1006,\n",
       "         0.3249, -0.0917, -0.1051,  0.0260, -0.0820, -0.1233,  0.1827, -0.0572,\n",
       "        -0.1071, -0.1133,  0.1540,  0.1064,  0.3465, -0.1289,  0.2909,  0.3115,\n",
       "         0.3740,  0.1776, -0.3093, -0.0868, -0.0804,  0.2092, -0.1498, -0.0278,\n",
       "         0.4799, -0.0952, -0.0439,  0.2942, -0.2179, -0.2064, -0.1503, -0.1095,\n",
       "        -0.1037, -0.1904,  0.2653, -0.0078, -0.1685, -0.0432,  0.3434, -0.1047,\n",
       "        -0.1050, -0.0524,  0.3519,  0.0752, -0.0644,  0.1252, -0.2106,  0.4036,\n",
       "        -0.1007,  0.1015,  0.0641, -0.0256,  0.2682, -0.0705, -0.1245, -0.1485,\n",
       "         0.2787, -0.0806,  0.0179, -0.0659,  0.3231,  0.2414, -0.0139, -0.1192,\n",
       "        -0.0252, -0.1042, -0.0794, -0.0757,  0.1533,  0.2072, -0.0430, -0.1176,\n",
       "        -0.2255, -0.1015, -0.1885,  0.6216, -0.2649,  0.0151,  0.3957,  0.4318,\n",
       "        -0.1190, -0.2148,  0.1297, -0.0112,  0.0491, -0.0948, -0.0580,  0.1119,\n",
       "        -0.1533, -0.1117,  0.2585,  0.5807,  0.4136, -0.1475,  0.0516,  0.2694,\n",
       "         0.1512,  0.3454, -0.2191, -0.1787, -0.0293, -0.1786,  0.2273, -0.1044,\n",
       "         0.2502, -0.0819, -0.0281,  0.0178, -0.1184,  0.0833,  0.1523,  0.4610,\n",
       "        -0.1049, -0.0995, -0.1113, -0.0987, -0.0947,  0.3024, -0.0985,  0.2133,\n",
       "        -0.1084, -0.2668, -0.0421, -0.1084, -0.1939,  0.1062,  0.3110, -0.1996,\n",
       "        -0.0684,  0.2824,  0.1209, -0.1030, -0.0585, -0.0983,  0.1543,  0.3000,\n",
       "        -0.1028, -0.1511,  0.1526,  0.1466,  0.0208, -0.1016, -0.1524, -0.1113,\n",
       "        -0.0235, -0.1579, -0.1787,  0.1824, -0.0994, -0.0727,  0.6932, -0.2236,\n",
       "        -0.1405, -0.0824, -0.1084,  0.3491, -0.0277, -0.0863,  0.0506,  0.0424,\n",
       "        -0.0829, -0.0789,  0.0258, -0.0820, -0.2145, -0.2082,  0.2791, -0.1115,\n",
       "        -0.0812, -0.0923,  0.1785, -0.1106,  0.3352,  0.3032, -0.1040, -0.1949,\n",
       "         0.0155, -0.0983,  0.0938, -0.1203, -0.0425, -0.0888, -0.2167, -0.1058,\n",
       "         0.2677, -0.0810, -0.1110,  0.3133, -0.0406, -0.0765,  0.0733, -0.2175,\n",
       "         0.0787, -0.1050, -0.0814, -0.1034, -0.0650, -0.0703, -0.0921, -0.1512,\n",
       "        -0.1000, -0.2234, -0.0648, -0.2150,  0.3192,  0.4217,  0.0449, -0.0450,\n",
       "         0.3206,  0.1165, -0.1171, -0.2149,  0.0856, -0.1018,  0.1066, -0.0869,\n",
       "        -0.1949,  0.1791, -0.2198, -0.0813, -0.1540, -0.1469,  0.2379,  0.2403,\n",
       "        -0.2723, -0.0755, -0.1042,  0.2127,  0.1122,  0.1591, -0.0942, -0.2230,\n",
       "        -0.1570, -0.0818, -0.0181,  0.0525,  0.0177, -0.1054, -0.0129, -0.1480,\n",
       "         0.4363, -0.0372,  0.3756, -0.1178, -0.1096, -0.0811, -0.3598, -0.0295,\n",
       "        -0.4018, -0.1673, -0.1507, -0.1540, -0.1886, -0.1220,  0.2328, -0.0872,\n",
       "        -0.3666,  0.3566, -0.0602, -0.0093, -0.3444,  0.2659, -0.2149,  0.1844,\n",
       "         0.3375,  0.2355,  0.1083, -0.0100, -0.0954, -0.2351,  0.2094,  0.2088,\n",
       "        -0.1129, -0.4300, -0.2058, -0.1043, -0.1753, -0.1038,  0.2404,  0.1529,\n",
       "         0.0765, -0.1020,  0.3132, -0.1012,  0.3085, -0.2032, -0.1150,  0.2922,\n",
       "        -0.1419,  0.2476,  0.4199,  0.1695, -0.3990,  0.1995, -0.1982,  0.2305,\n",
       "        -0.0424, -0.1538, -0.0210, -0.1032, -0.1489,  0.2715,  0.3286, -0.0166,\n",
       "        -0.0848, -0.1016, -0.0850, -0.1242, -0.1082, -0.2025, -0.2979,  0.2731,\n",
       "        -0.0827, -0.1001, -0.1727, -0.2247, -0.1107, -0.1044, -0.0385, -0.0822,\n",
       "         0.1518,  0.2684, -0.1179, -0.1038, -0.1160, -0.1041, -0.1557, -0.2213,\n",
       "        -0.0811, -0.1531, -0.1757, -0.0811,  0.2914, -0.1517,  0.3231,  0.1611,\n",
       "        -0.1976,  0.2739, -0.1563,  0.1552, -0.0992,  0.1261,  0.2100, -0.2024,\n",
       "         0.2741, -0.0611, -0.0882,  0.3335, -0.1206, -0.1155, -0.1061, -0.0927,\n",
       "        -0.0601,  0.3845,  0.0442,  0.1620,  0.1109, -0.2325, -0.0184])"
      ]
     },
     "execution_count": 133,
     "metadata": {},
     "output_type": "execute_result"
    }
   ],
   "source": [
    "best_state0"
   ]
  },
  {
   "cell_type": "code",
   "execution_count": 125,
   "id": "75bac141",
   "metadata": {
    "ExecuteTime": {
     "end_time": "2023-04-05T14:20:30.893343Z",
     "start_time": "2023-04-05T14:20:30.886784Z"
    }
   },
   "outputs": [
    {
     "data": {
      "text/plain": [
       "torch.Size([831])"
      ]
     },
     "execution_count": 125,
     "metadata": {},
     "output_type": "execute_result"
    }
   ],
   "source": [
    "best_state0.shape"
   ]
  },
  {
   "cell_type": "code",
   "execution_count": 78,
   "id": "85fe1e87",
   "metadata": {
    "ExecuteTime": {
     "end_time": "2023-04-04T16:04:58.627497Z",
     "start_time": "2023-04-04T16:04:58.619840Z"
    },
    "scrolled": true
   },
   "outputs": [
    {
     "data": {
      "text/plain": [
       "tensor(0.0450)"
      ]
     },
     "execution_count": 78,
     "metadata": {},
     "output_type": "execute_result"
    }
   ],
   "source": [
    "torch.var(best_state1)"
   ]
  },
  {
   "cell_type": "code",
   "execution_count": 108,
   "id": "dc87575b",
   "metadata": {
    "ExecuteTime": {
     "end_time": "2023-04-04T16:55:06.612114Z",
     "start_time": "2023-04-04T16:55:06.591825Z"
    }
   },
   "outputs": [
    {
     "data": {
      "text/plain": [
       "tensor(0.0403)"
      ]
     },
     "execution_count": 108,
     "metadata": {},
     "output_type": "execute_result"
    }
   ],
   "source": [
    "torch.var(best_state20)"
   ]
  },
  {
   "cell_type": "code",
   "execution_count": 112,
   "id": "471e6f92",
   "metadata": {
    "ExecuteTime": {
     "end_time": "2023-04-05T11:44:00.215093Z",
     "start_time": "2023-04-05T11:44:00.173226Z"
    }
   },
   "outputs": [
    {
     "data": {
      "text/plain": [
       "tensor(0.0316)"
      ]
     },
     "execution_count": 112,
     "metadata": {},
     "output_type": "execute_result"
    }
   ],
   "source": [
    "torch.mean(abs((best_state20 - best_state20[0]) - (best_state0 - best_state0[0])))"
   ]
  },
  {
   "cell_type": "code",
   "execution_count": 113,
   "id": "404d64c5",
   "metadata": {
    "ExecuteTime": {
     "end_time": "2023-04-05T11:44:22.778883Z",
     "start_time": "2023-04-05T11:44:22.769995Z"
    }
   },
   "outputs": [
    {
     "data": {
      "text/plain": [
       "tensor(0.0421)"
      ]
     },
     "execution_count": 113,
     "metadata": {},
     "output_type": "execute_result"
    }
   ],
   "source": [
    "torch.mean(abs((best_state20 - best_state20[0]) - (best_state05 - best_state05[0])))"
   ]
  },
  {
   "cell_type": "code",
   "execution_count": 115,
   "id": "03ea5e17",
   "metadata": {
    "ExecuteTime": {
     "end_time": "2023-04-05T11:45:00.651840Z",
     "start_time": "2023-04-05T11:45:00.644366Z"
    }
   },
   "outputs": [
    {
     "data": {
      "text/plain": [
       "tensor(0.0637)"
      ]
     },
     "execution_count": 115,
     "metadata": {},
     "output_type": "execute_result"
    }
   ],
   "source": [
    "torch.mean(abs((best_state20 - best_state20[0]) - (best_state10 - best_state10[0])))"
   ]
  },
  {
   "cell_type": "code",
   "execution_count": 85,
   "id": "8d228182",
   "metadata": {
    "ExecuteTime": {
     "end_time": "2023-04-04T16:06:48.214341Z",
     "start_time": "2023-04-04T16:06:48.210142Z"
    }
   },
   "outputs": [],
   "source": [
    "best_state0_2 = best_state1.clone()"
   ]
  },
  {
   "cell_type": "code",
   "execution_count": 86,
   "id": "d9c205aa",
   "metadata": {
    "ExecuteTime": {
     "end_time": "2023-04-04T16:06:52.222130Z",
     "start_time": "2023-04-04T16:06:52.217585Z"
    }
   },
   "outputs": [],
   "source": [
    "best_state1 = best_state.clone()"
   ]
  },
  {
   "cell_type": "code",
   "execution_count": 48,
   "id": "0ccb9efb",
   "metadata": {
    "ExecuteTime": {
     "end_time": "2023-04-04T15:12:58.711066Z",
     "start_time": "2023-04-04T15:12:58.700481Z"
    }
   },
   "outputs": [
    {
     "data": {
      "text/plain": [
       "tensor(0.0195)"
      ]
     },
     "execution_count": 48,
     "metadata": {},
     "output_type": "execute_result"
    }
   ],
   "source": [
    "torch.mean(abs((best_state1 - best_state1[0]) - (best_state05 - best_state05[0])))"
   ]
  },
  {
   "cell_type": "code",
   "execution_count": 298,
   "id": "507e66d0",
   "metadata": {
    "ExecuteTime": {
     "end_time": "2023-04-03T18:10:29.290981Z",
     "start_time": "2023-04-03T18:10:29.284759Z"
    }
   },
   "outputs": [
    {
     "data": {
      "text/plain": [
       "0.001"
      ]
     },
     "execution_count": 298,
     "metadata": {},
     "output_type": "execute_result"
    }
   ],
   "source": [
    "opt.param_groups[0]['lr']"
   ]
  },
  {
   "cell_type": "code",
   "execution_count": 191,
   "id": "e892d827",
   "metadata": {
    "ExecuteTime": {
     "end_time": "2023-04-06T16:11:19.360507Z",
     "start_time": "2023-04-06T16:11:19.356170Z"
    }
   },
   "outputs": [],
   "source": [
    "best_state1 = best_state50"
   ]
  },
  {
   "cell_type": "code",
   "execution_count": 303,
   "id": "e30bfbed",
   "metadata": {
    "ExecuteTime": {
     "end_time": "2023-04-03T18:26:57.483216Z",
     "start_time": "2023-04-03T18:26:57.480279Z"
    }
   },
   "outputs": [],
   "source": [
    "# best_state1 = best_state.clone()"
   ]
  },
  {
   "cell_type": "code",
   "execution_count": 304,
   "id": "dd51caf5",
   "metadata": {
    "ExecuteTime": {
     "end_time": "2023-04-03T18:26:57.501633Z",
     "start_time": "2023-04-03T18:26:57.484582Z"
    }
   },
   "outputs": [],
   "source": [
    "# torch.save(best_state1, \"./best_shift_fourier4.pt\")"
   ]
  },
  {
   "cell_type": "code",
   "execution_count": 56,
   "id": "0332585a",
   "metadata": {
    "ExecuteTime": {
     "end_time": "2023-04-01T21:36:37.455269Z",
     "start_time": "2023-04-01T21:36:37.448564Z"
    }
   },
   "outputs": [],
   "source": [
    "# new_bestest = torch.load(\"./best_shift_fourier.pt\")"
   ]
  },
  {
   "cell_type": "code",
   "execution_count": 92,
   "id": "09eb1868",
   "metadata": {
    "ExecuteTime": {
     "end_time": "2023-04-04T16:09:39.395786Z",
     "start_time": "2023-04-04T16:09:39.389227Z"
    }
   },
   "outputs": [],
   "source": [
    "best_state0 = torch.load(\"./best_shift_fourier4.pt\")"
   ]
  },
  {
   "cell_type": "markdown",
   "id": "d5032b37",
   "metadata": {
    "ExecuteTime": {
     "end_time": "2023-04-01T14:53:33.158717Z",
     "start_time": "2023-04-01T14:53:33.136943Z"
    }
   },
   "source": [
    "## Evaluate the best_state in both FT space and real_space"
   ]
  },
  {
   "cell_type": "markdown",
   "id": "8819ac88",
   "metadata": {},
   "source": [
    "### Baseline no shift performance"
   ]
  },
  {
   "cell_type": "code",
   "execution_count": 192,
   "id": "f43ff98d",
   "metadata": {
    "ExecuteTime": {
     "end_time": "2023-04-06T16:11:22.206384Z",
     "start_time": "2023-04-06T16:11:22.124906Z"
    }
   },
   "outputs": [
    {
     "name": "stdout",
     "output_type": "stream",
     "text": [
      "Fourier Space\n",
      "Reference training loss: 0.0015957\n",
      "Reference test loss : 0.00222239\n",
      "Real Space\n",
      "Reference training loss: 10.8924\n",
      "Reference test loss : 12.4119\n",
      "Gaussian Space\n",
      "Reference training loss: 11.0117\n",
      "Reference test loss : 12.5207\n"
     ]
    }
   ],
   "source": [
    "from dostools.loss import loss\n",
    "emin = -24.553719539983 - 1.5\n",
    "emax = 11.346414696331 + 1.5\n",
    "index= train_index\n",
    "t_index = test_index\n",
    "\n",
    "Features = torch.hstack([feature[index].double(), torch.ones(len(index)).view(-1,1)]).type(dtype = torch.complex128)\n",
    "t_Features = torch.hstack([feature[t_index].double(), torch.ones(len(t_index)).view(-1,1)]).type(dtype = torch.complex128)\n",
    "\n",
    "xdos_i = xdos.clone()\n",
    "\n",
    "train_ldos = coeffs[index,:].clone()\n",
    "\n",
    "\n",
    "n_col = Features.shape[1]\n",
    "regularization = 1\n",
    "\n",
    "reg = torch.hstack([torch.real(torch.tensor(regularization * rtkMM)), torch.zeros(rtkMM.shape[0]).view(-1,1)])\n",
    "reg = torch.vstack([reg, torch.zeros(n_col)])\n",
    "\n",
    "\n",
    "reg_features = torch.vstack([Features, reg])\n",
    "reg_target = torch.vstack([train_ldos, torch.zeros(n_col,train_ldos.shape[1])])\n",
    "reference_weights = torch.linalg.lstsq(reg_features, reg_target, driver = \"gelsd\", rcond = 1e-10).solution\n",
    "reference_pred = Features @ reference_weights\n",
    "reference_t_pred = t_Features @ reference_weights\n",
    "\n",
    "\n",
    "\n",
    "train_loss = torch.mean(abs(reference_pred- train_ldos)**2) \n",
    "test_loss = torch.mean(abs(reference_t_pred- coeffs[test_index])**2) \n",
    "\n",
    "\n",
    "print (\"Fourier Space\")\n",
    "print (\"Reference training loss: {:.6}\".format(train_loss))\n",
    "print (\"Reference test loss : {:.6}\".format(test_loss))\n",
    "\n",
    "train_rs = evaluate_dos_from_fourier(reference_pred, emin, emax, num_eval=778)\n",
    "test_rs = evaluate_dos_from_fourier(reference_t_pred , emin, emax, num_eval=778)\n",
    "\n",
    "\n",
    "train_rmse = loss.t_get_rmse(train_rs, f_ldos[train_index], xdos, perc = True)\n",
    "test_rmse = loss.t_get_rmse(test_rs, f_ldos[test_index], xdos, perc = True)\n",
    "\n",
    "print (\"Real Space\")\n",
    "print (\"Reference training loss: {:.6}\".format(train_rmse))\n",
    "print (\"Reference test loss : {:.6}\".format(test_rmse))\n",
    "\n",
    "print (\"Gaussian Space\")\n",
    "train_rmse = loss.t_get_rmse(train_rs, ldos[train_index], xdos, perc = True)\n",
    "test_rmse = loss.t_get_rmse(test_rs, ldos[test_index], xdos, perc = True)\n",
    "\n",
    "print (\"Reference training loss: {:.6}\".format(train_rmse))\n",
    "print (\"Reference test loss : {:.6}\".format(test_rmse))\n"
   ]
  },
  {
   "cell_type": "code",
   "execution_count": 193,
   "id": "5b927ac7",
   "metadata": {
    "ExecuteTime": {
     "end_time": "2023-04-06T16:11:24.427803Z",
     "start_time": "2023-04-06T16:11:24.203843Z"
    }
   },
   "outputs": [
    {
     "name": "stdout",
     "output_type": "stream",
     "text": [
      "Fourier Space: Train_loss: 0.00208806, Test_loss:0.00307753\n"
     ]
    }
   ],
   "source": [
    "shifted_target = shift_coeffs(train_ldos, emin, emax, 1 * best_state1)    \n",
    "shifted_reg_target = torch.vstack([shifted_target, torch.zeros(n_col,train_ldos.shape[1])])   \n",
    "\n",
    "\n",
    "shifted_weights = torch.linalg.lstsq(reg_features, shifted_reg_target, driver = \"gelsd\").solution\n",
    "shifted_preds = Features @ shifted_weights\n",
    "shifted_t_preds = t_Features @ shifted_weights\n",
    "\n",
    "shifted_train_loss = torch.mean(abs(shifted_preds - shifted_target)**2)\n",
    "shifted_test_loss = MSE_shift_fourier(shifted_t_preds, coeffs[test_index], 5)\n",
    "\n",
    "print (\"Fourier Space: Train_loss: {:.6}, Test_loss:{:.6}\".format(shifted_train_loss, shifted_test_loss[0]))\n"
   ]
  },
  {
   "cell_type": "code",
   "execution_count": 194,
   "id": "1f10bd3e",
   "metadata": {
    "ExecuteTime": {
     "end_time": "2023-04-06T16:11:26.941883Z",
     "start_time": "2023-04-06T16:11:26.689008Z"
    }
   },
   "outputs": [
    {
     "name": "stdout",
     "output_type": "stream",
     "text": [
      "Real Space: Train_loss: 12.46, Test_loss:14.606\n"
     ]
    }
   ],
   "source": [
    "shifted_target = shift_coeffs(train_ldos, emin, emax, best_state1)    \n",
    "shifted_reg_target = torch.vstack([shifted_target, torch.zeros(n_col,train_ldos.shape[1])])   \n",
    "\n",
    "\n",
    "shifted_weights = torch.linalg.lstsq(reg_features, shifted_reg_target, driver = \"gelsd\").solution\n",
    "shifted_preds = Features @ shifted_weights\n",
    "shifted_t_preds = t_Features @ shifted_weights\n",
    "\n",
    "shifted_train_loss = torch.mean(abs(shifted_preds - shifted_target)**2)\n",
    "shifted_test_loss = MSE_shift_fourier(shifted_t_preds, coeffs[test_index], 5)\n",
    "\n",
    "\n",
    "zeroed_train_predictions = evaluate_dos_from_fourier(shift_coeffs(shifted_preds, emin, emax, -1 * best_state1) , emin, emax, num_eval=778)\n",
    "zeroed_test_predictions = evaluate_dos_from_fourier(shift_coeffs(shifted_t_preds, emin, emax, 1 * shifted_test_loss[1]) , emin, emax, num_eval=778)\n",
    "\n",
    "\n",
    "\n",
    "train_rmse = loss.t_get_rmse(zeroed_train_predictions, f_ldos[train_index], xdos, perc = True)\n",
    "test_rmse = loss.t_get_rmse(zeroed_test_predictions, f_ldos[test_index], xdos, perc = True)\n",
    "\n",
    "print (\"Real Space: Train_loss: {:.6}, Test_loss:{:.6}\".format(train_rmse, test_rmse))"
   ]
  },
  {
   "cell_type": "code",
   "execution_count": 23,
   "id": "98e50553",
   "metadata": {
    "ExecuteTime": {
     "end_time": "2023-04-04T13:57:43.291592Z",
     "start_time": "2023-04-04T13:57:43.281266Z"
    }
   },
   "outputs": [],
   "source": [
    "unbiased_test_shift = shifted_test_loss[1]\n",
    "torch.save(unbiased_test_shift, \"./unbiased_test_shift.pt\")"
   ]
  },
  {
   "cell_type": "code",
   "execution_count": 319,
   "id": "83a0d061",
   "metadata": {
    "ExecuteTime": {
     "end_time": "2023-04-03T18:27:49.832860Z",
     "start_time": "2023-04-03T18:27:49.687487Z"
    }
   },
   "outputs": [
    {
     "data": {
      "text/plain": [
       "[<matplotlib.lines.Line2D at 0x7f4618eaf850>]"
      ]
     },
     "execution_count": 319,
     "metadata": {},
     "output_type": "execute_result"
    },
    {
     "data": {
      "image/png": "[encoded data removed]",
      "text/plain": [
       "<Figure size 432x288 with 1 Axes>"
      ]
     },
     "metadata": {
      "needs_background": "light"
     },
     "output_type": "display_data"
    }
   ],
   "source": [
    "%matplotlib inline\n",
    "plt.plot(xdos, zeroed_train_predictions[0])\n",
    "plt.plot(xdos, ldos[train_index][0])"
   ]
  },
  {
   "cell_type": "code",
   "execution_count": 96,
   "id": "4c679f09",
   "metadata": {
    "ExecuteTime": {
     "end_time": "2023-04-04T16:10:20.243877Z",
     "start_time": "2023-04-04T16:10:20.231342Z"
    }
   },
   "outputs": [
    {
     "name": "stdout",
     "output_type": "stream",
     "text": [
      "Real Space to gaussian: Train_loss: 10.3285, Test_loss:11.7687\n"
     ]
    }
   ],
   "source": [
    "train_rmse = loss.t_get_rmse(zeroed_train_predictions, ldos[train_index], xdos, perc = True)\n",
    "test_rmse = loss.t_get_rmse(zeroed_test_predictions, ldos[test_index], xdos, perc = True)\n",
    "\n",
    "print (\"Real Space to gaussian: Train_loss: {:.6}, Test_loss:{:.6}\".format(train_rmse, test_rmse))"
   ]
  },
  {
   "cell_type": "markdown",
   "id": "f5d9ef27",
   "metadata": {},
   "source": [
    "### Evaluate the equivalent shift using normal ldos"
   ]
  },
  {
   "cell_type": "code",
   "execution_count": 97,
   "id": "c9300e10",
   "metadata": {
    "ExecuteTime": {
     "end_time": "2023-04-04T16:11:22.433230Z",
     "start_time": "2023-04-04T16:10:24.454280Z"
    }
   },
   "outputs": [
    {
     "name": "stderr",
     "output_type": "stream",
     "text": [
      "100%|████████████████████████████████████████████████████████████████████████████████████████████████████████████████████████████████████████████████████████████████████████████| 831/831 [00:57<00:00, 14.34it/s]\n"
     ]
    }
   ],
   "source": [
    "##Generate individual xdos, ldos\n",
    "new_train_ldos = []\n",
    "\n",
    "sigma = torch.tensor(0.3)\n",
    "ndos = 778\n",
    "\n",
    "emin = -24.5537 - 1.5\n",
    "emax = 11.3464 + 1.5\n",
    "x_dos = torch.linspace(emin, emax, 778)\n",
    "for j, i in enumerate(tqdm(train_index)):\n",
    "    \n",
    "    l_dos = torch.sum(torch.exp(-0.5*((x_dos + best_state1[j] - full_eigen_energies[i].view(-1,1))/sigma)**2), dim = 0)\n",
    "    new_train_ldos.append(l_dos)\n",
    "\n",
    "new_train_ldos = torch.vstack(new_train_ldos)\n",
    "new_train_ldos = ((new_train_ldos.T * normalization[train_index] ).T)* 2"
   ]
  },
  {
   "cell_type": "code",
   "execution_count": 98,
   "id": "b8924610",
   "metadata": {
    "ExecuteTime": {
     "end_time": "2023-04-04T16:11:36.672319Z",
     "start_time": "2023-04-04T16:11:22.435675Z"
    }
   },
   "outputs": [
    {
     "name": "stderr",
     "output_type": "stream",
     "text": [
      "100%|████████████████████████████████████████████████████████████████████████████████████████████████████████████████████████████████████████████████████████████████████████████| 208/208 [00:12<00:00, 16.03it/s]\n"
     ]
    }
   ],
   "source": [
    "##Generate individual xdos, ldos\n",
    "new_test_ldos = []\n",
    "\n",
    "sigma = torch.tensor(0.3)\n",
    "ndos = 778\n",
    "\n",
    "emin = -24.5537 - 1.5\n",
    "emax = 11.3464 + 1.5\n",
    "x_dos = torch.linspace(emin, emax, 778)\n",
    "for j, i in enumerate(tqdm(test_index)):\n",
    "    \n",
    "    l_dos = torch.sum(torch.exp(-0.5*((x_dos - shifted_test_loss[1][j]- full_eigen_energies[i].view(-1,1))/sigma)**2), dim = 0)\n",
    "    new_test_ldos.append(l_dos)\n",
    "    \n",
    "new_test_ldos = torch.vstack(new_test_ldos)\n",
    "new_test_ldos = ((new_test_ldos.T * normalization[test_index] ).T)* 2"
   ]
  },
  {
   "cell_type": "code",
   "execution_count": null,
   "id": "d9b64e01",
   "metadata": {},
   "outputs": [],
   "source": [
    "plt.plot(xdos, orig_test_ldos[0])\n",
    "plt.plot(xdosm )"
   ]
  },
  {
   "cell_type": "code",
   "execution_count": null,
   "id": "0ac9bd65",
   "metadata": {
    "ExecuteTime": {
     "end_time": "2023-04-03T14:35:08.616586Z",
     "start_time": "2023-04-03T14:35:08.552598Z"
    },
    "scrolled": true
   },
   "outputs": [],
   "source": [
    "plt.plot(xdos, ldos[train_index[1]], c= 'b')\n",
    "plt.plot(x_dos, new_train_ldos[1], c= 'g')\n",
    "plt.plot(xdos, shifted_train_preds[1], c= 'r')"
   ]
  },
  {
   "cell_type": "code",
   "execution_count": null,
   "id": "12317320",
   "metadata": {
    "ExecuteTime": {
     "end_time": "2023-04-03T14:32:44.441794Z",
     "start_time": "2023-04-03T14:32:44.359048Z"
    }
   },
   "outputs": [],
   "source": [
    "%matplotlib notebook\n",
    "plt.plot(xdos, ldos[test_index[0]], c= 'b')\n",
    "plt.plot(xdos, new_test_ldos[0].detach(), c= 'g')\n",
    "plt.plot(xdos, shifted_test_preds[0], c= 'r')"
   ]
  },
  {
   "cell_type": "code",
   "execution_count": 99,
   "id": "ffda61f9",
   "metadata": {
    "ExecuteTime": {
     "end_time": "2023-04-04T16:11:36.728836Z",
     "start_time": "2023-04-04T16:11:36.673854Z"
    }
   },
   "outputs": [
    {
     "name": "stdout",
     "output_type": "stream",
     "text": [
      "Using fourier shifts, Train_rmse:12.4497, Test_rmse 13.9672\n"
     ]
    }
   ],
   "source": [
    "# shifted_target = shift_coeffs(new_train_ldos, emin, emax, best_state1) \n",
    "# shifted_reg_target = torch.vstack([shifted_target, torch.zeros(n_col,new_train_ldos.shape[1])])   \n",
    "shifted_reg_target = torch.vstack([new_train_ldos, torch.zeros(n_col,new_train_ldos.shape[1])])\n",
    "\n",
    "shifted_weights = torch.linalg.lstsq(reg_features.double(), shifted_reg_target, driver = \"gelsd\").solution\n",
    "\n",
    "shifted_train_preds = Features.double() @ shifted_weights\n",
    "shifted_test_preds = t_Features.double() @ shifted_weights\n",
    "\n",
    "train_rmse = loss.t_get_rmse(shifted_train_preds, new_train_ldos, xdos, perc = True)\n",
    "test_rmse = loss.t_get_rmse(shifted_test_preds, new_test_ldos, xdos, perc = True)\n",
    "\n",
    "print (\"Using fourier shifts, Train_rmse:{:.6}, Test_rmse {:.6}\".format(train_rmse, test_rmse)) "
   ]
  },
  {
   "cell_type": "code",
   "execution_count": null,
   "id": "eea2ec49",
   "metadata": {},
   "outputs": [],
   "source": [
    "plt.plot(xdos, ldos[train_index[0]], c= 'b')\n",
    "plt.plot(xdos, new_train_ldos[0], c= 'g')"
   ]
  },
  {
   "cell_type": "code",
   "execution_count": null,
   "id": "8221161b",
   "metadata": {},
   "outputs": [],
   "source": [
    "10.5, 17.4"
   ]
  },
  {
   "cell_type": "code",
   "execution_count": 32,
   "id": "ce91bb70",
   "metadata": {
    "ExecuteTime": {
     "end_time": "2023-04-01T21:29:13.493990Z",
     "start_time": "2023-04-01T21:29:13.382702Z"
    }
   },
   "outputs": [
    {
     "data": {
      "text/plain": [
       "[<matplotlib.lines.Line2D at 0x7f41802fd370>]"
      ]
     },
     "execution_count": 32,
     "metadata": {},
     "output_type": "execute_result"
    },
    {
     "data": {
      "image/png": "[encoded data removed]",
      "text/plain": [
       "<Figure size 432x288 with 1 Axes>"
      ]
     },
     "metadata": {
      "needs_background": "light"
     },
     "output_type": "display_data"
    }
   ],
   "source": [
    "plt.plot(xdos, shifted_test_preds[0], c= 'r')\n",
    "plt.plot(xdos, new_test_ldos[0].detach(), c= 'b')"
   ]
  },
  {
   "cell_type": "code",
   "execution_count": 101,
   "id": "cc4a1f02",
   "metadata": {
    "ExecuteTime": {
     "end_time": "2023-04-04T16:11:49.383910Z",
     "start_time": "2023-04-04T16:11:49.315761Z"
    }
   },
   "outputs": [
    {
     "name": "stdout",
     "output_type": "stream",
     "text": [
      "No shifts, Train_rmse:10.9057, Test_rmse 12.4247\n"
     ]
    }
   ],
   "source": [
    "# original_target = shift_coeffs(ldos[train_index], emin, emax, best_state1) \n",
    "# original_reg_target = torch.vstack([original_target, torch.zeros(n_col,ldos.shape[1])])   \n",
    "\n",
    "\n",
    "original_reg_target = torch.vstack([ldos[train_index], torch.zeros(n_col,ldos.shape[1])])\n",
    "\n",
    "original_weights = torch.linalg.lstsq(reg_features.double(), original_reg_target, driver = \"gelsd\").solution\n",
    "\n",
    "original_train_preds = Features.double() @ original_weights\n",
    "original_test_preds = t_Features.double() @ original_weights\n",
    "\n",
    "train_rmse = loss.t_get_rmse(original_train_preds, ldos[train_index], xdos, perc = True)\n",
    "test_rmse = loss.t_get_rmse(original_test_preds, ldos[test_index], xdos, perc = True)\n",
    "\n",
    "print (\"No shifts, Train_rmse:{:.6}, Test_rmse {:.6}\".format(train_rmse, test_rmse))"
   ]
  },
  {
   "cell_type": "code",
   "execution_count": 248,
   "id": "0c0ce608",
   "metadata": {
    "ExecuteTime": {
     "end_time": "2023-04-01T21:17:16.226372Z",
     "start_time": "2023-04-01T21:17:16.120940Z"
    }
   },
   "outputs": [
    {
     "data": {
      "text/plain": [
       "[<matplotlib.lines.Line2D at 0x7feaa3fe5d30>]"
      ]
     },
     "execution_count": 248,
     "metadata": {},
     "output_type": "execute_result"
    },
    {
     "data": {
      "image/png": "[encoded data removed]",
      "text/plain": [
       "<Figure size 432x288 with 1 Axes>"
      ]
     },
     "metadata": {
      "needs_background": "light"
     },
     "output_type": "display_data"
    }
   ],
   "source": [
    "plt.plot(xdos, original_train_preds[0], c= 'r')\n",
    "plt.plot(xdos, ldos[train_index[0]], c= 'b')"
   ]
  },
  {
   "cell_type": "markdown",
   "id": "5478f7e0",
   "metadata": {},
   "source": [
    "### Evaluate using quartic ldos"
   ]
  },
  {
   "cell_type": "code",
   "execution_count": 68,
   "id": "5df32c02",
   "metadata": {
    "ExecuteTime": {
     "end_time": "2023-04-04T15:21:03.947972Z",
     "start_time": "2023-04-04T15:21:03.934968Z"
    }
   },
   "outputs": [],
   "source": [
    "def quartic_dos(energies,xdos, sigma):\n",
    "   \n",
    "    left_b = energies - (np.sqrt(7) * sigma)\n",
    "\n",
    "    output = torch.zeros_like(xdos)\n",
    "\n",
    "    left_bound = torch.searchsorted(xdos, left_b)\n",
    "    \n",
    "    xdos_interval = xdos[1]-xdos[0]\n",
    "    interval = int((2 * (np.sqrt(7) * sigma))/xdos_interval) + 1\n",
    "    indexes = torch.clamp(left_bound.repeat(interval,1) + torch.arange(0,interval,1).view(-1,1), 0, len(xdos)-1)\n",
    "                     \n",
    "    E = torch.clamp((energies.view(1,-1) - xdos[indexes]), min = -1* (np.sqrt(7) * sigma), max = (np.sqrt(7) * sigma))\n",
    "    values = (E**2 - (7 * (sigma**2))) **2 / ((16/15) * (np.sqrt(7) * sigma)**5)\n",
    "    output.index_add_(0, indexes.flatten(), values.flatten())\n",
    "\n",
    "#     output = -1 * output\n",
    "    \n",
    "    return output"
   ]
  },
  {
   "cell_type": "code",
   "execution_count": 102,
   "id": "64467824",
   "metadata": {
    "ExecuteTime": {
     "end_time": "2023-04-04T16:12:06.498200Z",
     "start_time": "2023-04-04T16:12:02.986984Z"
    }
   },
   "outputs": [
    {
     "name": "stderr",
     "output_type": "stream",
     "text": [
      "100%|███████████████████████████████████████████████████████████████████████████████████████████████████████████████████████████████████████████████████████████████████████████| 831/831 [00:02<00:00, 375.96it/s]\n"
     ]
    }
   ],
   "source": [
    "\n",
    "sorted_full_eigen_energies = [torch.sort(i)[0] for i in full_eigen_energies]\n",
    "\n",
    "##Generate individual xdos, ldos\n",
    "with torch.no_grad():\n",
    "    train_ldos2 = []\n",
    "\n",
    "    sigma = torch.tensor(0.3)\n",
    "    ndos = 778 #+ int(30/0.05)\n",
    "\n",
    "\n",
    "    emin = -24.5537 - 1.5\n",
    "    emax = 11.3464 + 1.5\n",
    "\n",
    "    x_dos2 = torch.linspace(emin, emax, 778)\n",
    "\n",
    "    for j,i in enumerate(tqdm(train_index)):\n",
    "        #steps = int((rbounds[i].item()- (10 * sigma) - lbounds[i].item() - 1.5)/0.05)    \n",
    "        l_dos2 = quartic_dos(sorted_full_eigen_energies[i] + best_state1[j], x_dos2, sigma)#torch.sum(torch.exp(-0.5*((x_dos - full_eigen_energies[i].view(-1,1))/sigma)**2), dim = 0)\n",
    "    #     n_xdos2.append(x_dos2)\n",
    "        train_ldos2.append(l_dos2)\n",
    "\n",
    "    # n_xdos2 = torch.vstack(n_xdos2)\n",
    "    train_ldos2 = torch.vstack(train_ldos2)\n",
    "    train_ldos2 = ((train_ldos2.T * normalization_quartic[train_index] ).T)* 2\n",
    "\n",
    "#Do cutting here?"
   ]
  },
  {
   "cell_type": "code",
   "execution_count": 103,
   "id": "f28929b9",
   "metadata": {
    "ExecuteTime": {
     "end_time": "2023-04-04T16:12:08.335887Z",
     "start_time": "2023-04-04T16:12:06.499945Z"
    }
   },
   "outputs": [
    {
     "name": "stderr",
     "output_type": "stream",
     "text": [
      "100%|███████████████████████████████████████████████████████████████████████████████████████████████████████████████████████████████████████████████████████████████████████████| 208/208 [00:00<00:00, 387.13it/s]\n"
     ]
    }
   ],
   "source": [
    "sorted_full_eigen_energies = [torch.sort(i)[0] for i in full_eigen_energies]\n",
    "\n",
    "##Generate individual xdos, ldos\n",
    "with torch.no_grad():\n",
    "    test_ldos2 = []\n",
    "\n",
    "    sigma = torch.tensor(0.3)\n",
    "    ndos = 778 #+ int(30/0.05)\n",
    "\n",
    "\n",
    "    emin = -24.5537 - 1.5\n",
    "    emax = 11.3464 + 1.5\n",
    "\n",
    "    x_dos2 = torch.linspace(emin, emax, 778)\n",
    "\n",
    "    for j,i in enumerate(tqdm(test_index)):\n",
    "        #steps = int((rbounds[i].item()- (10 * sigma) - lbounds[i].item() - 1.5)/0.05)    \n",
    "        l_dos2 = quartic_dos(sorted_full_eigen_energies[i] - shifted_test_loss[1][j], x_dos2, sigma)#torch.sum(torch.exp(-0.5*((x_dos - full_eigen_energies[i].view(-1,1))/sigma)**2), dim = 0)\n",
    "    #     n_xdos2.append(x_dos2)\n",
    "        test_ldos2.append(l_dos2)\n",
    "\n",
    "    # n_xdos2 = torch.vstack(n_xdos2)\n",
    "    test_ldos2 = torch.vstack(test_ldos2)\n",
    "    test_ldos2 = ((test_ldos2.T * normalization_quartic[test_index] ).T)* 2\n",
    "\n",
    "#Do cutting here?"
   ]
  },
  {
   "cell_type": "code",
   "execution_count": 71,
   "id": "bed03999",
   "metadata": {
    "ExecuteTime": {
     "end_time": "2023-04-04T15:21:15.900017Z",
     "start_time": "2023-04-04T15:21:13.237540Z"
    }
   },
   "outputs": [
    {
     "name": "stderr",
     "output_type": "stream",
     "text": [
      "100%|█████████████████████████████████████████████████████████████████████████████████████████████████████████████████████████████████████████████████████████████████████████| 1039/1039 [00:02<00:00, 392.63it/s]\n"
     ]
    }
   ],
   "source": [
    "with torch.no_grad():\n",
    "    quartic_ldos = []\n",
    "\n",
    "    sigma = torch.tensor(0.3)\n",
    "    ndos = 778 #+ int(30/0.05)\n",
    "\n",
    "\n",
    "    emin = -24.5537 - 1.5\n",
    "    emax = 11.3464 + 1.5\n",
    "\n",
    "    x_dos2 = torch.linspace(emin, emax, 778)\n",
    "\n",
    "    for i in tqdm(range(len(sorted_full_eigen_energies))):\n",
    "        #steps = int((rbounds[i].item()- (10 * sigma) - lbounds[i].item() - 1.5)/0.05)    \n",
    "        l_dos2 = quartic_dos(sorted_full_eigen_energies[i], x_dos2, sigma)#torch.sum(torch.exp(-0.5*((x_dos - full_eigen_energies[i].view(-1,1))/sigma)**2), dim = 0)\n",
    "    #     n_xdos2.append(x_dos2)\n",
    "        quartic_ldos.append(l_dos2)\n",
    "\n",
    "    # n_xdos2 = torch.vstack(n_xdos2)\n",
    "    quartic_ldos = torch.vstack(quartic_ldos)\n",
    "    quartic_ldos = ((quartic_ldos.T * normalization_quartic).T)* 2\n",
    "\n",
    "#Do cutting here?"
   ]
  },
  {
   "cell_type": "code",
   "execution_count": 104,
   "id": "e7fc57cb",
   "metadata": {
    "ExecuteTime": {
     "end_time": "2023-04-04T16:12:17.735860Z",
     "start_time": "2023-04-04T16:12:17.674900Z"
    }
   },
   "outputs": [
    {
     "name": "stdout",
     "output_type": "stream",
     "text": [
      "Using fourier shifts, Train_rmse:9.71838, Test_rmse 11.1712\n"
     ]
    }
   ],
   "source": [
    "# shifted_target = shift_coeffs(new_train_ldos, emin, emax, best_state1) \n",
    "# shifted_reg_target = torch.vstack([shifted_target, torch.zeros(n_col,new_train_ldos.shape[1])])   \n",
    "shifted_reg_target = torch.vstack([train_ldos2, torch.zeros(n_col,new_train_ldos.shape[1])])\n",
    "\n",
    "shifted_weights = torch.linalg.lstsq(reg_features.double(), shifted_reg_target, driver = \"gelsd\").solution\n",
    "\n",
    "shifted_train_preds = Features.double() @ shifted_weights\n",
    "shifted_test_preds = t_Features.double() @ shifted_weights\n",
    "\n",
    "train_rmse = loss.t_get_rmse(shifted_train_preds, train_ldos2, xdos, perc = True)\n",
    "test_rmse = loss.t_get_rmse(shifted_test_preds, test_ldos2, xdos, perc = True)\n",
    "\n",
    "print (\"Using fourier shifts, Train_rmse:{:.6}, Test_rmse {:.6}\".format(train_rmse, test_rmse)) "
   ]
  },
  {
   "cell_type": "code",
   "execution_count": 73,
   "id": "7062f505",
   "metadata": {
    "ExecuteTime": {
     "end_time": "2023-04-04T15:21:20.055437Z",
     "start_time": "2023-04-04T15:21:19.940986Z"
    }
   },
   "outputs": [
    {
     "data": {
      "text/plain": [
       "[<matplotlib.lines.Line2D at 0x7fc3ec16e970>]"
      ]
     },
     "execution_count": 73,
     "metadata": {},
     "output_type": "execute_result"
    },
    {
     "data": {
      "image/png": "[encoded data removed]",
      "text/plain": [
       "<Figure size 432x288 with 1 Axes>"
      ]
     },
     "metadata": {
      "needs_background": "light"
     },
     "output_type": "display_data"
    }
   ],
   "source": [
    "plt.plot(xdos, ldos[train_index[0]])\n",
    "plt.plot(xdos)"
   ]
  },
  {
   "cell_type": "code",
   "execution_count": 105,
   "id": "27d20898",
   "metadata": {
    "ExecuteTime": {
     "end_time": "2023-04-04T16:12:36.120747Z",
     "start_time": "2023-04-04T16:12:36.057046Z"
    }
   },
   "outputs": [
    {
     "name": "stdout",
     "output_type": "stream",
     "text": [
      "No shifts, Train_rmse:10.436, Test_rmse 11.9341\n"
     ]
    }
   ],
   "source": [
    "# original_target = shift_coeffs(ldos[train_index], emin, emax, best_state1) \n",
    "# original_reg_target = torch.vstack([original_target, torch.zeros(n_col,ldos.shape[1])])   \n",
    "\n",
    "\n",
    "original_reg_target = torch.vstack([quartic_ldos[train_index], torch.zeros(n_col,ldos.shape[1])])\n",
    "\n",
    "original_weights = torch.linalg.lstsq(reg_features.double(), original_reg_target, driver = \"gelsd\").solution\n",
    "\n",
    "original_train_preds = Features.double() @ original_weights\n",
    "original_test_preds = t_Features.double() @ original_weights\n",
    "\n",
    "train_rmse = loss.t_get_rmse(original_train_preds, quartic_ldos[train_index], xdos, perc = True)\n",
    "test_rmse = loss.t_get_rmse(original_test_preds, quartic_ldos[test_index], xdos, perc = True)\n",
    "\n",
    "print (\"No shifts, Train_rmse:{:.6}, Test_rmse {:.6}\".format(train_rmse, test_rmse))"
   ]
  },
  {
   "cell_type": "markdown",
   "id": "7afebf6e",
   "metadata": {},
   "source": [
    "## For Biased Index"
   ]
  },
  {
   "cell_type": "code",
   "execution_count": 24,
   "id": "c079e49c",
   "metadata": {
    "ExecuteTime": {
     "end_time": "2023-04-04T13:58:14.276499Z",
     "start_time": "2023-04-04T13:58:11.667674Z"
    }
   },
   "outputs": [
    {
     "name": "stdout",
     "output_type": "stream",
     "text": [
      "Reference training loss: 0.00153287\n",
      "Reference test loss : 0.00264829\n"
     ]
    },
    {
     "name": "stderr",
     "output_type": "stream",
     "text": [
      "Epoch: 2:   0%|                                                                                                            | 2/100000 [00:02<33:54:00,  1.22s/it, lowest_mse=0.00153, pred_loss=0.00153, trigger=0]\n"
     ]
    },
    {
     "ename": "KeyboardInterrupt",
     "evalue": "",
     "output_type": "error",
     "traceback": [
      "\u001b[0;31m---------------------------------------------------------------------------\u001b[0m",
      "\u001b[0;31mKeyboardInterrupt\u001b[0m                         Traceback (most recent call last)",
      "Input \u001b[0;32mIn [24]\u001b[0m, in \u001b[0;36m<cell line: 59>\u001b[0;34m()\u001b[0m\n\u001b[1;32m     71\u001b[0m         loss_i\u001b[38;5;241m.\u001b[39mbackward(inputs \u001b[38;5;241m=\u001b[39m alignment)\n\u001b[1;32m     72\u001b[0m         \u001b[38;5;28;01mreturn\u001b[39;00m loss_i\n\u001b[0;32m---> 73\u001b[0m     \u001b[43mopt\u001b[49m\u001b[38;5;241;43m.\u001b[39;49m\u001b[43mstep\u001b[49m\u001b[43m(\u001b[49m\u001b[43mclosure\u001b[49m\u001b[43m)\u001b[49m\n\u001b[1;32m     74\u001b[0m     train_ldos \u001b[38;5;241m=\u001b[39m train_ldos\u001b[38;5;241m.\u001b[39mdetach()\n\u001b[1;32m     76\u001b[0m \u001b[38;5;28;01mwith\u001b[39;00m torch\u001b[38;5;241m.\u001b[39mno_grad():\n",
      "File \u001b[0;32m~/anaconda3/lib/python3.9/site-packages/torch/optim/optimizer.py:140\u001b[0m, in \u001b[0;36mOptimizer._hook_for_profile.<locals>.profile_hook_step.<locals>.wrapper\u001b[0;34m(*args, **kwargs)\u001b[0m\n\u001b[1;32m    138\u001b[0m profile_name \u001b[38;5;241m=\u001b[39m \u001b[38;5;124m\"\u001b[39m\u001b[38;5;124mOptimizer.step#\u001b[39m\u001b[38;5;132;01m{}\u001b[39;00m\u001b[38;5;124m.step\u001b[39m\u001b[38;5;124m\"\u001b[39m\u001b[38;5;241m.\u001b[39mformat(obj\u001b[38;5;241m.\u001b[39m\u001b[38;5;18m__class__\u001b[39m\u001b[38;5;241m.\u001b[39m\u001b[38;5;18m__name__\u001b[39m)\n\u001b[1;32m    139\u001b[0m \u001b[38;5;28;01mwith\u001b[39;00m torch\u001b[38;5;241m.\u001b[39mautograd\u001b[38;5;241m.\u001b[39mprofiler\u001b[38;5;241m.\u001b[39mrecord_function(profile_name):\n\u001b[0;32m--> 140\u001b[0m     out \u001b[38;5;241m=\u001b[39m \u001b[43mfunc\u001b[49m\u001b[43m(\u001b[49m\u001b[38;5;241;43m*\u001b[39;49m\u001b[43margs\u001b[49m\u001b[43m,\u001b[49m\u001b[43m \u001b[49m\u001b[38;5;241;43m*\u001b[39;49m\u001b[38;5;241;43m*\u001b[39;49m\u001b[43mkwargs\u001b[49m\u001b[43m)\u001b[49m\n\u001b[1;32m    141\u001b[0m     obj\u001b[38;5;241m.\u001b[39m_optimizer_step_code()\n\u001b[1;32m    142\u001b[0m     \u001b[38;5;28;01mreturn\u001b[39;00m out\n",
      "File \u001b[0;32m~/anaconda3/lib/python3.9/site-packages/torch/optim/optimizer.py:23\u001b[0m, in \u001b[0;36m_use_grad_for_differentiable.<locals>._use_grad\u001b[0;34m(self, *args, **kwargs)\u001b[0m\n\u001b[1;32m     21\u001b[0m \u001b[38;5;28;01mtry\u001b[39;00m:\n\u001b[1;32m     22\u001b[0m     torch\u001b[38;5;241m.\u001b[39mset_grad_enabled(\u001b[38;5;28mself\u001b[39m\u001b[38;5;241m.\u001b[39mdefaults[\u001b[38;5;124m'\u001b[39m\u001b[38;5;124mdifferentiable\u001b[39m\u001b[38;5;124m'\u001b[39m])\n\u001b[0;32m---> 23\u001b[0m     ret \u001b[38;5;241m=\u001b[39m \u001b[43mfunc\u001b[49m\u001b[43m(\u001b[49m\u001b[38;5;28;43mself\u001b[39;49m\u001b[43m,\u001b[49m\u001b[43m \u001b[49m\u001b[38;5;241;43m*\u001b[39;49m\u001b[43margs\u001b[49m\u001b[43m,\u001b[49m\u001b[43m \u001b[49m\u001b[38;5;241;43m*\u001b[39;49m\u001b[38;5;241;43m*\u001b[39;49m\u001b[43mkwargs\u001b[49m\u001b[43m)\u001b[49m\n\u001b[1;32m     24\u001b[0m \u001b[38;5;28;01mfinally\u001b[39;00m:\n\u001b[1;32m     25\u001b[0m     torch\u001b[38;5;241m.\u001b[39mset_grad_enabled(prev_grad)\n",
      "File \u001b[0;32m~/anaconda3/lib/python3.9/site-packages/torch/optim/adam.py:183\u001b[0m, in \u001b[0;36mAdam.step\u001b[0;34m(self, closure, grad_scaler)\u001b[0m\n\u001b[1;32m    181\u001b[0m \u001b[38;5;28;01mif\u001b[39;00m closure \u001b[38;5;129;01mis\u001b[39;00m \u001b[38;5;129;01mnot\u001b[39;00m \u001b[38;5;28;01mNone\u001b[39;00m:\n\u001b[1;32m    182\u001b[0m     \u001b[38;5;28;01mwith\u001b[39;00m torch\u001b[38;5;241m.\u001b[39menable_grad():\n\u001b[0;32m--> 183\u001b[0m         loss \u001b[38;5;241m=\u001b[39m \u001b[43mclosure\u001b[49m\u001b[43m(\u001b[49m\u001b[43m)\u001b[49m\n\u001b[1;32m    185\u001b[0m \u001b[38;5;28;01mfor\u001b[39;00m group \u001b[38;5;129;01min\u001b[39;00m \u001b[38;5;28mself\u001b[39m\u001b[38;5;241m.\u001b[39mparam_groups:\n\u001b[1;32m    186\u001b[0m     params_with_grad \u001b[38;5;241m=\u001b[39m []\n",
      "Input \u001b[0;32mIn [24]\u001b[0m, in \u001b[0;36mclosure\u001b[0;34m()\u001b[0m\n\u001b[1;32m     66\u001b[0m shifted_target \u001b[38;5;241m=\u001b[39m shift_coeffs(train_ldos[i_batch], emin, emax, alignment[i_batch])            \n\u001b[1;32m     67\u001b[0m shifted_reg_target \u001b[38;5;241m=\u001b[39m torch\u001b[38;5;241m.\u001b[39mvstack([shifted_target, torch\u001b[38;5;241m.\u001b[39mzeros(n_col,train_ldos\u001b[38;5;241m.\u001b[39mshape[\u001b[38;5;241m1\u001b[39m])])          \n\u001b[0;32m---> 68\u001b[0m train_weights \u001b[38;5;241m=\u001b[39m \u001b[43mtorch\u001b[49m\u001b[38;5;241;43m.\u001b[39;49m\u001b[43mlinalg\u001b[49m\u001b[38;5;241;43m.\u001b[39;49m\u001b[43mlstsq\u001b[49m\u001b[43m(\u001b[49m\u001b[43mreg_features_i\u001b[49m\u001b[43m,\u001b[49m\u001b[43m \u001b[49m\u001b[43mshifted_reg_target\u001b[49m\u001b[43m,\u001b[49m\u001b[43m \u001b[49m\u001b[43mrcond\u001b[49m\u001b[43m \u001b[49m\u001b[38;5;241;43m=\u001b[39;49m\u001b[43m \u001b[49m\u001b[38;5;241;43m1e-10\u001b[39;49m\u001b[43m,\u001b[49m\u001b[43m \u001b[49m\u001b[43mdriver\u001b[49m\u001b[43m \u001b[49m\u001b[38;5;241;43m=\u001b[39;49m\u001b[43m \u001b[49m\u001b[38;5;124;43m\"\u001b[39;49m\u001b[38;5;124;43mgelsd\u001b[39;49m\u001b[38;5;124;43m\"\u001b[39;49m\u001b[43m)\u001b[49m\u001b[38;5;241m.\u001b[39msolution\n\u001b[1;32m     69\u001b[0m shifted_train_preds \u001b[38;5;241m=\u001b[39m Features[i_batch] \u001b[38;5;241m@\u001b[39m train_weights\n\u001b[1;32m     70\u001b[0m loss_i \u001b[38;5;241m=\u001b[39m torch\u001b[38;5;241m.\u001b[39mmean(\u001b[38;5;28mabs\u001b[39m(shifted_train_preds \u001b[38;5;241m-\u001b[39m shifted_target)\u001b[38;5;241m*\u001b[39m\u001b[38;5;241m*\u001b[39m\u001b[38;5;241m2\u001b[39m) \n",
      "\u001b[0;31mKeyboardInterrupt\u001b[0m: "
     ]
    }
   ],
   "source": [
    "from dostools.loss import loss\n",
    "#normal dataset\n",
    "\n",
    "batch_size = 32\n",
    "sigma = 0.3\n",
    "n_epochs = 100000\n",
    "patience = 20\n",
    "\n",
    "index = biased_train_index\n",
    "t_index = biased_test_index\n",
    "\n",
    "Sampler = torch.utils.data.RandomSampler(index, replacement = False)\n",
    "Batcher = torch.utils.data.BatchSampler(Sampler, batch_size, False)\n",
    "\n",
    "Features = torch.hstack([feature[index].double(), torch.ones(len(index)).view(-1,1)]).type(dtype = torch.complex128)\n",
    "t_Features = torch.hstack([feature[t_index].double(), torch.ones(len(t_index)).view(-1,1)]).type(dtype = torch.complex128)\n",
    "# Features = torch.hstack([Silicon.Features['structure_avedescriptors'][index].double(), torch.ones(len(index)).view(-1,1)])\n",
    "# t_Features = torch.hstack([Silicon.Features['structure_avedescriptors'][t_index].double(), torch.ones(len(t_index)).view(-1,1)])\n",
    "alignment = torch.nn.parameter.Parameter(torch.zeros(len(index)))\n",
    "\n",
    "opt = torch.optim.Adam([alignment], lr = 1e-3, weight_decay = 0)\n",
    "# opt_LBFGS = torch.optim.LBFGS([alignment], lr = 1e-3, line_search_fn = 'strong_wolfe', tolerance_grad = 1e-15, tolerance_change = 1e-15)#, weight_decay = 0)\n",
    "scheduler = torch.optim.lr_scheduler.ReduceLROnPlateau(opt, factor = 0.1, patience = 10, threshold = 1e-5, min_lr = 1e-8)\n",
    "\n",
    "xdos_i = xdos.clone()\n",
    "# cutoff = torch.max(efermi) + 3\n",
    "# cutoff_index = torch.searchsorted(xdos, cutoff)\n",
    "\n",
    "train_ldos = coeffs[index,:].clone()#n_ldos2[index,:cutoff_index].clone()\n",
    "\n",
    "best_mse = torch.tensor(100)\n",
    "best_state = alignment.clone()\n",
    "\n",
    "n_col = Features.shape[1]\n",
    "regularization = 1\n",
    "\n",
    "reg = torch.hstack([torch.real(torch.tensor(regularization * rtkMM)), torch.zeros(rtkMM.shape[0]).view(-1,1)])\n",
    "reg = torch.vstack([reg, torch.zeros(n_col)])\n",
    "\n",
    "\n",
    "reg_features = torch.vstack([Features, reg])\n",
    "reg_target = torch.vstack([train_ldos, torch.zeros(n_col,train_ldos.shape[1])])\n",
    "reference_weights = torch.linalg.lstsq(reg_features, reg_target, driver = \"gelsd\", rcond = 1e-10).solution\n",
    "reference_pred = Features @ reference_weights\n",
    "reference_t_pred = t_Features @ reference_weights\n",
    "\n",
    "\n",
    "\n",
    "train_loss = torch.mean(abs(reference_pred- train_ldos)**2) \n",
    "test_loss = torch.mean(abs(reference_t_pred- coeffs[t_index])**2) \n",
    "current_rmse = torch.tensor(100)\n",
    "pred_loss = torch.tensor(100)\n",
    "prev_loss = torch.tensor(100)\n",
    "trigger = 0\n",
    "print (\"Reference training loss: {:.6}\".format(train_loss))\n",
    "print (\"Reference test loss : {:.6}\".format(test_loss))\n",
    "\n",
    "pbar = tqdm(range(n_epochs))\n",
    "for epoch in pbar:\n",
    "    pbar.set_description(f\"Epoch: {epoch}\")\n",
    "    pbar.set_postfix(pred_loss = pred_loss.item(), lowest_mse = best_mse.item(), trigger = trigger)\n",
    "    for i_batch in Batcher:\n",
    "        def closure():\n",
    "            opt.zero_grad()\n",
    "            reg_features_i = torch.vstack([Features[i_batch], reg])\n",
    "            shifted_target = shift_coeffs(train_ldos[i_batch], emin, emax, alignment[i_batch])            \n",
    "            shifted_reg_target = torch.vstack([shifted_target, torch.zeros(n_col,train_ldos.shape[1])])          \n",
    "            train_weights = torch.linalg.lstsq(reg_features_i, shifted_reg_target, rcond = 1e-10, driver = \"gelsd\").solution\n",
    "            shifted_train_preds = Features[i_batch] @ train_weights\n",
    "            loss_i = torch.mean(abs(shifted_train_preds - shifted_target)**2) \n",
    "            loss_i.backward(inputs = alignment)\n",
    "            return loss_i\n",
    "        opt.step(closure)\n",
    "        train_ldos = train_ldos.detach()\n",
    "        \n",
    "    with torch.no_grad():\n",
    "        shifted_target = shift_coeffs(train_ldos, emin, emax, alignment)\n",
    "        shifted_reg_target = torch.vstack([shifted_target, torch.zeros(n_col,train_ldos.shape[1])])          \n",
    "        train_weights = torch.linalg.lstsq(reg_features, shifted_reg_target, rcond = 1e-10, driver = \"gelsd\").solution\n",
    "        pred_i = Features @ train_weights\n",
    "        \n",
    "        \n",
    "        i_loss = torch.mean(abs(pred_i - shifted_target)**2) \n",
    "       \n",
    "        pred_loss = i_loss\n",
    "        if i_loss < prev_loss * (1 + 1e-3): \n",
    "            trigger = 0\n",
    "        else:\n",
    "            trigger +=1 \n",
    "            if trigger >= patience:\n",
    "                alignment = torch.nn.parameter.Parameter(best_state)\n",
    "                opt = torch.optim.Adam([alignment], lr = opt.param_groups[0]['lr'], weight_decay = 0)\n",
    "                counter = 0\n",
    "\n",
    "        if i_loss < best_mse:\n",
    "            best_mse = i_loss\n",
    "            best_state = alignment.clone()\n",
    "\n",
    "        prev_loss = i_loss\n",
    "\n",
    "        scheduler.step(i_loss)\n",
    "        if Batcher.batch_size > 1024:\n",
    "            break\n",
    "            \n",
    "        if opt.param_groups[0]['lr'] < 1e-3:\n",
    "            Batcher.batch_size *= 2 \n",
    "            opt.param_groups[0]['lr'] = 1e-3\n",
    "            print (\"The batch_size is now:\", Batcher.batch_size)\n",
    "\n",
    "\n",
    "            \n",
    "            \n",
    "\n",
    "\n",
    "shifted_target = shift_coeffs(train_ldos, emin, emax, best_state)    \n",
    "shifted_reg_target = torch.vstack([shifted_target, torch.zeros(n_col,train_ldos.shape[1])])   \n",
    "\n",
    "\n",
    "shifted_weights = torch.linalg.lstsq(reg_features, shifted_reg_target, driver = \"gelsd\").solution\n",
    "shifted_preds = Features @ shifted_weights\n",
    "shifted_t_preds = t_Features @ shifted_weights\n",
    "\n",
    "\n",
    "shifted_train_loss = torch.mean(abs(shifted_preds - shifted_target)**2)#loss.t_get_rmse(shifted_preds, shifted_target, xdos, perc = True)\n",
    "# shifted_test_loss = loss.t_get_rmse(shifted_t_preds, shifted_ldos, xdos, perc = True) Need the one with the new loss function\n",
    "\n",
    "print (\"Final training loss: {:.6}\".format(shifted_train_loss))\n"
   ]
  },
  {
   "cell_type": "code",
   "execution_count": 46,
   "id": "5040916a",
   "metadata": {
    "ExecuteTime": {
     "end_time": "2023-04-04T09:57:34.471304Z",
     "start_time": "2023-04-04T09:57:34.466763Z"
    }
   },
   "outputs": [],
   "source": [
    "biased_best_state = best_state.clone()"
   ]
  },
  {
   "cell_type": "code",
   "execution_count": 47,
   "id": "ea475489",
   "metadata": {
    "ExecuteTime": {
     "end_time": "2023-04-04T09:57:34.695458Z",
     "start_time": "2023-04-04T09:57:34.592228Z"
    }
   },
   "outputs": [],
   "source": [
    "torch.save(biased_best_state, \"./biased_best_state2.pt\")"
   ]
  },
  {
   "cell_type": "code",
   "execution_count": 25,
   "id": "45db76db",
   "metadata": {
    "ExecuteTime": {
     "end_time": "2023-04-04T13:58:20.930036Z",
     "start_time": "2023-04-04T13:58:20.923196Z"
    }
   },
   "outputs": [],
   "source": [
    "biased_best_state = torch.load(\"./biased_best_state2.pt\")\n",
    "\n"
   ]
  },
  {
   "cell_type": "markdown",
   "id": "18468143",
   "metadata": {},
   "source": [
    "### Baseline no shift"
   ]
  },
  {
   "cell_type": "code",
   "execution_count": 26,
   "id": "e26b7071",
   "metadata": {
    "ExecuteTime": {
     "end_time": "2023-04-04T13:58:22.430316Z",
     "start_time": "2023-04-04T13:58:22.367869Z"
    }
   },
   "outputs": [
    {
     "name": "stdout",
     "output_type": "stream",
     "text": [
      "Fourier Space\n",
      "Reference training loss: 0.00153287\n",
      "Reference test loss : 0.00264829\n",
      "Real Space\n",
      "Reference training loss: 10.2953\n",
      "Reference test loss : 16.2029\n",
      "Gaussian Space\n",
      "Reference training loss: 10.4205\n",
      "Reference test loss : 16.2931\n"
     ]
    }
   ],
   "source": [
    "emin = -24.553719539983 - 1.5\n",
    "emax = 11.346414696331 + 1.5\n",
    "index= biased_train_index\n",
    "t_index = biased_test_index\n",
    "\n",
    "Features = torch.hstack([feature[index].double(), torch.ones(len(index)).view(-1,1)]).type(dtype = torch.complex128)\n",
    "t_Features = torch.hstack([feature[t_index].double(), torch.ones(len(t_index)).view(-1,1)]).type(dtype = torch.complex128)\n",
    "\n",
    "xdos_i = xdos.clone()\n",
    "\n",
    "train_ldos = coeffs[index,:].clone()\n",
    "\n",
    "\n",
    "n_col = Features.shape[1]\n",
    "regularization = 1\n",
    "\n",
    "reg = torch.hstack([torch.real(torch.tensor(regularization * rtkMM)), torch.zeros(rtkMM.shape[0]).view(-1,1)])\n",
    "reg = torch.vstack([reg, torch.zeros(n_col)])\n",
    "\n",
    "\n",
    "reg_features = torch.vstack([Features, reg])\n",
    "reg_target = torch.vstack([train_ldos, torch.zeros(n_col,train_ldos.shape[1])])\n",
    "reference_weights = torch.linalg.lstsq(reg_features, reg_target, driver = \"gelsd\", rcond = 1e-10).solution\n",
    "reference_pred = Features @ reference_weights\n",
    "reference_t_pred = t_Features @ reference_weights\n",
    "\n",
    "\n",
    "\n",
    "train_loss = torch.mean(abs(reference_pred- train_ldos)**2) \n",
    "test_loss = torch.mean(abs(reference_t_pred- coeffs[t_index])**2) \n",
    "\n",
    "\n",
    "print (\"Fourier Space\")\n",
    "print (\"Reference training loss: {:.6}\".format(train_loss))\n",
    "print (\"Reference test loss : {:.6}\".format(test_loss))\n",
    "\n",
    "train_rs = evaluate_dos_from_fourier(reference_pred, emin, emax, num_eval=778)\n",
    "test_rs = evaluate_dos_from_fourier(reference_t_pred , emin, emax, num_eval=778)\n",
    "\n",
    "\n",
    "train_rmse = loss.t_get_rmse(train_rs, f_ldos[index], xdos, perc = True)\n",
    "test_rmse = loss.t_get_rmse(test_rs, f_ldos[t_index], xdos, perc = True)\n",
    "\n",
    "print (\"Real Space\")\n",
    "print (\"Reference training loss: {:.6}\".format(train_rmse))\n",
    "print (\"Reference test loss : {:.6}\".format(test_rmse))\n",
    "\n",
    "print (\"Gaussian Space\")\n",
    "train_rmse = loss.t_get_rmse(train_rs, ldos[index], xdos, perc = True)\n",
    "test_rmse = loss.t_get_rmse(test_rs, ldos[t_index], xdos, perc = True)\n",
    "\n",
    "print (\"Reference training loss: {:.6}\".format(train_rmse))\n",
    "print (\"Reference test loss : {:.6}\".format(test_rmse))\n",
    "\n",
    "\n"
   ]
  },
  {
   "cell_type": "code",
   "execution_count": 27,
   "id": "011851cb",
   "metadata": {
    "ExecuteTime": {
     "end_time": "2023-04-04T13:58:24.036676Z",
     "start_time": "2023-04-04T13:58:23.798902Z"
    }
   },
   "outputs": [
    {
     "name": "stdout",
     "output_type": "stream",
     "text": [
      "Fourier Space: Train_loss: 0.00134436, Test_loss:0.0023673\n"
     ]
    }
   ],
   "source": [
    "shifted_target = shift_coeffs(train_ldos, emin, emax, 1 * biased_best_state)    \n",
    "shifted_reg_target = torch.vstack([shifted_target, torch.zeros(n_col,train_ldos.shape[1])])   \n",
    "\n",
    "\n",
    "shifted_weights = torch.linalg.lstsq(reg_features, shifted_reg_target, driver = \"gelsd\").solution\n",
    "shifted_preds = Features @ shifted_weights\n",
    "shifted_t_preds = t_Features @ shifted_weights\n",
    "\n",
    "shifted_train_loss = torch.mean(abs(shifted_preds - shifted_target)**2)\n",
    "shifted_test_loss = MSE_shift_fourier(shifted_t_preds, coeffs[t_index], 5)\n",
    "\n",
    "print (\"Fourier Space: Train_loss: {:.6}, Test_loss:{:.6}\".format(shifted_train_loss, shifted_test_loss[0]))\n"
   ]
  },
  {
   "cell_type": "code",
   "execution_count": 28,
   "id": "9f348112",
   "metadata": {
    "ExecuteTime": {
     "end_time": "2023-04-04T13:58:25.466623Z",
     "start_time": "2023-04-04T13:58:25.221030Z"
    }
   },
   "outputs": [
    {
     "name": "stdout",
     "output_type": "stream",
     "text": [
      "Real Space: Train_loss: 9.64147, Test_loss:15.3193\n"
     ]
    }
   ],
   "source": [
    "shifted_target = shift_coeffs(train_ldos, emin, emax, biased_best_state)    \n",
    "shifted_reg_target = torch.vstack([shifted_target, torch.zeros(n_col,train_ldos.shape[1])])   \n",
    "\n",
    "\n",
    "shifted_weights = torch.linalg.lstsq(reg_features, shifted_reg_target, driver = \"gelsd\").solution\n",
    "shifted_preds = Features @ shifted_weights\n",
    "shifted_t_preds = t_Features @ shifted_weights\n",
    "\n",
    "shifted_train_loss = torch.mean(abs(shifted_preds - shifted_target)**2)\n",
    "biased_shifted_test_loss = MSE_shift_fourier(shifted_t_preds, coeffs[t_index], 5)\n",
    "\n",
    "\n",
    "zeroed_train_predictions = evaluate_dos_from_fourier(shift_coeffs(shifted_preds, emin, emax, -1 * biased_best_state) , emin, emax, num_eval=778)\n",
    "zeroed_test_predictions = evaluate_dos_from_fourier(shift_coeffs(shifted_t_preds, emin, emax, 1 * biased_shifted_test_loss[1]) , emin, emax, num_eval=778)\n",
    "\n",
    "\n",
    "\n",
    "train_rmse = loss.t_get_rmse(zeroed_train_predictions, f_ldos[biased_train_index], xdos, perc = True)\n",
    "test_rmse = loss.t_get_rmse(zeroed_test_predictions, f_ldos[biased_test_index], xdos, perc = True)\n",
    "\n",
    "print (\"Real Space: Train_loss: {:.6}, Test_loss:{:.6}\".format(train_rmse, test_rmse))"
   ]
  },
  {
   "cell_type": "code",
   "execution_count": 29,
   "id": "573a9d46",
   "metadata": {
    "ExecuteTime": {
     "end_time": "2023-04-04T13:58:26.755941Z",
     "start_time": "2023-04-04T13:58:26.745770Z"
    }
   },
   "outputs": [
    {
     "name": "stdout",
     "output_type": "stream",
     "text": [
      "Real Space to gaussian: Train_loss: 9.77523, Test_loss:15.4148\n"
     ]
    }
   ],
   "source": [
    "train_rmse = loss.t_get_rmse(zeroed_train_predictions, ldos[biased_train_index], xdos, perc = True)\n",
    "test_rmse = loss.t_get_rmse(zeroed_test_predictions, ldos[biased_test_index], xdos, perc = True)\n",
    "\n",
    "print (\"Real Space to gaussian: Train_loss: {:.6}, Test_loss:{:.6}\".format(train_rmse, test_rmse))"
   ]
  },
  {
   "cell_type": "code",
   "execution_count": 30,
   "id": "ca95e54f",
   "metadata": {
    "ExecuteTime": {
     "end_time": "2023-04-04T13:58:51.324128Z",
     "start_time": "2023-04-04T13:58:51.316380Z"
    }
   },
   "outputs": [],
   "source": [
    "biased_test_shift = biased_shifted_test_loss[1]\n",
    "torch.save(biased_test_shift, \"./biased_test_shift.pt\")"
   ]
  },
  {
   "cell_type": "markdown",
   "id": "986c192e",
   "metadata": {},
   "source": [
    "### For gaussian dataset"
   ]
  },
  {
   "cell_type": "code",
   "execution_count": 52,
   "id": "ae55cf42",
   "metadata": {
    "ExecuteTime": {
     "end_time": "2023-04-04T09:59:15.914408Z",
     "start_time": "2023-04-04T09:58:08.737755Z"
    }
   },
   "outputs": [
    {
     "name": "stderr",
     "output_type": "stream",
     "text": [
      "100%|████████████████████████████████████████████████████████████████████████████████████████████████████████████████████████████████████████████████████████████████████████████| 831/831 [01:07<00:00, 12.38it/s]\n"
     ]
    }
   ],
   "source": [
    "##Generate individual xdos, ldos\n",
    "new_biased_train_ldos = []\n",
    "\n",
    "sigma = torch.tensor(0.3)\n",
    "ndos = 778\n",
    "\n",
    "emin = -24.5537 - 1.5\n",
    "emax = 11.3464 + 1.5\n",
    "x_dos = torch.linspace(emin, emax, 778)\n",
    "for j, i in enumerate(tqdm(biased_train_index)):\n",
    "    \n",
    "    l_dos = torch.sum(torch.exp(-0.5*((x_dos + biased_best_state[j] - full_eigen_energies[i].view(-1,1))/sigma)**2), dim = 0)\n",
    "    new_biased_train_ldos.append(l_dos)\n",
    "\n",
    "new_biased_train_ldos = torch.vstack(new_biased_train_ldos)\n",
    "new_biased_train_ldos = ((new_biased_train_ldos.T * normalization[biased_train_index] ).T)* 2"
   ]
  },
  {
   "cell_type": "code",
   "execution_count": 53,
   "id": "e570ece9",
   "metadata": {
    "ExecuteTime": {
     "end_time": "2023-04-04T09:59:26.273532Z",
     "start_time": "2023-04-04T09:59:15.916801Z"
    }
   },
   "outputs": [
    {
     "name": "stderr",
     "output_type": "stream",
     "text": [
      "100%|████████████████████████████████████████████████████████████████████████████████████████████████████████████████████████████████████████████████████████████████████████████| 208/208 [00:09<00:00, 21.78it/s]\n"
     ]
    }
   ],
   "source": [
    "##Generate individual xdos, ldos\n",
    "new_biased_test_ldos = []\n",
    "\n",
    "sigma = torch.tensor(0.3)\n",
    "ndos = 778\n",
    "\n",
    "emin = -24.5537 - 1.5\n",
    "emax = 11.3464 + 1.5\n",
    "x_dos = torch.linspace(emin, emax, 778)\n",
    "for j, i in enumerate(tqdm(biased_test_index)):\n",
    "    \n",
    "    l_dos = torch.sum(torch.exp(-0.5*((x_dos - biased_shifted_test_loss[1][j]- full_eigen_energies[i].view(-1,1))/sigma)**2), dim = 0)\n",
    "    new_biased_test_ldos.append(l_dos)\n",
    "    \n",
    "new_biased_test_ldos = torch.vstack(new_biased_test_ldos)\n",
    "new_biased_test_ldos = ((new_biased_test_ldos.T * normalization[biased_test_index] ).T)* 2"
   ]
  },
  {
   "cell_type": "code",
   "execution_count": 54,
   "id": "f6e8214b",
   "metadata": {
    "ExecuteTime": {
     "end_time": "2023-04-04T09:59:26.344867Z",
     "start_time": "2023-04-04T09:59:26.275096Z"
    }
   },
   "outputs": [
    {
     "name": "stdout",
     "output_type": "stream",
     "text": [
      "Using fourier shifts, Train_rmse:11.6673, Test_rmse 18.1646\n"
     ]
    }
   ],
   "source": [
    "# shifted_target = shift_coeffs(new_train_ldos, emin, emax, best_state1) \n",
    "# shifted_reg_target = torch.vstack([shifted_target, torch.zeros(n_col,new_train_ldos.shape[1])])   \n",
    "shifted_reg_target = torch.vstack([new_biased_train_ldos, torch.zeros(n_col,new_biased_train_ldos.shape[1])])\n",
    "\n",
    "shifted_weights = torch.linalg.lstsq(reg_features.double(), shifted_reg_target, driver = \"gelsd\", rcond = 1e-10).solution\n",
    "\n",
    "shifted_train_preds = Features.double() @ shifted_weights\n",
    "shifted_test_preds = t_Features.double() @ shifted_weights\n",
    "\n",
    "train_rmse = loss.t_get_rmse(shifted_train_preds, new_biased_train_ldos, xdos, perc = True)\n",
    "test_rmse = loss.t_get_rmse(shifted_test_preds, new_biased_test_ldos, xdos, perc = True)\n",
    "\n",
    "print (\"Using fourier shifts, Train_rmse:{:.6}, Test_rmse {:.6}\".format(train_rmse, test_rmse)) "
   ]
  },
  {
   "cell_type": "code",
   "execution_count": 55,
   "id": "7ddaac28",
   "metadata": {
    "ExecuteTime": {
     "end_time": "2023-04-04T09:59:26.410386Z",
     "start_time": "2023-04-04T09:59:26.347015Z"
    }
   },
   "outputs": [
    {
     "name": "stdout",
     "output_type": "stream",
     "text": [
      "No shifts, Train_rmse:10.3077, Test_rmse 16.2216\n"
     ]
    }
   ],
   "source": [
    "# original_target = shift_coeffs(ldos[train_index], emin, emax, best_state1) \n",
    "# original_reg_target = torch.vstack([original_target, torch.zeros(n_col,ldos.shape[1])])   \n",
    "\n",
    "\n",
    "original_reg_target = torch.vstack([ldos[biased_train_index], torch.zeros(n_col,ldos.shape[1])])\n",
    "\n",
    "original_weights = torch.linalg.lstsq(reg_features.double(), original_reg_target, driver = \"gelsd\").solution\n",
    "\n",
    "original_train_preds = Features.double() @ original_weights\n",
    "original_test_preds = t_Features.double() @ original_weights\n",
    "\n",
    "train_rmse = loss.t_get_rmse(original_train_preds, ldos[biased_train_index], xdos, perc = True)\n",
    "test_rmse = loss.t_get_rmse(original_test_preds, ldos[biased_test_index], xdos, perc = True)\n",
    "\n",
    "print (\"No shifts, Train_rmse:{:.6}, Test_rmse {:.6}\".format(train_rmse, test_rmse))"
   ]
  },
  {
   "cell_type": "markdown",
   "id": "c1ef4158",
   "metadata": {},
   "source": [
    "### Quartic Dataset"
   ]
  },
  {
   "cell_type": "code",
   "execution_count": 56,
   "id": "cb2252ae",
   "metadata": {
    "ExecuteTime": {
     "end_time": "2023-04-04T09:59:28.987613Z",
     "start_time": "2023-04-04T09:59:26.412060Z"
    }
   },
   "outputs": [
    {
     "name": "stderr",
     "output_type": "stream",
     "text": [
      "100%|███████████████████████████████████████████████████████████████████████████████████████████████████████████████████████████████████████████████████████████████████████████| 831/831 [00:02<00:00, 324.02it/s]\n"
     ]
    }
   ],
   "source": [
    "##Generate individual xdos, ldos\n",
    "with torch.no_grad():\n",
    "    biased_train_ldos2 = []\n",
    "\n",
    "    sigma = torch.tensor(0.3)\n",
    "    ndos = 778 #+ int(30/0.05)\n",
    "\n",
    "\n",
    "    emin = -24.5537 - 1.5\n",
    "    emax = 11.3464 + 1.5\n",
    "\n",
    "    x_dos2 = torch.linspace(emin, emax, 778)\n",
    "\n",
    "    for j,i in enumerate(tqdm(biased_train_index)):\n",
    "        #steps = int((rbounds[i].item()- (10 * sigma) - lbounds[i].item() - 1.5)/0.05)    \n",
    "        l_dos2 = quartic_dos(sorted_full_eigen_energies[i] + biased_best_state[j], x_dos2, sigma)#torch.sum(torch.exp(-0.5*((x_dos - full_eigen_energies[i].view(-1,1))/sigma)**2), dim = 0)\n",
    "    #     n_xdos2.append(x_dos2)\n",
    "        biased_train_ldos2.append(l_dos2)\n",
    "\n",
    "    # n_xdos2 = torch.vstack(n_xdos2)\n",
    "    biased_train_ldos2 = torch.vstack(biased_train_ldos2)\n",
    "    biased_train_ldos2 = ((biased_train_ldos2.T * normalization_quartic[biased_train_index] ).T)* 2\n",
    "\n",
    "#Do cutting here?"
   ]
  },
  {
   "cell_type": "code",
   "execution_count": 57,
   "id": "063c489d",
   "metadata": {
    "ExecuteTime": {
     "end_time": "2023-04-04T09:59:29.463801Z",
     "start_time": "2023-04-04T09:59:28.989172Z"
    }
   },
   "outputs": [
    {
     "name": "stderr",
     "output_type": "stream",
     "text": [
      "100%|███████████████████████████████████████████████████████████████████████████████████████████████████████████████████████████████████████████████████████████████████████████| 208/208 [00:00<00:00, 446.12it/s]\n"
     ]
    }
   ],
   "source": [
    "##Generate individual xdos, ldos\n",
    "with torch.no_grad():\n",
    "    biased_test_ldos2 = []\n",
    "\n",
    "    sigma = torch.tensor(0.3)\n",
    "    ndos = 778 #+ int(30/0.05)\n",
    "\n",
    "\n",
    "    emin = -24.5537 - 1.5\n",
    "    emax = 11.3464 + 1.5\n",
    "\n",
    "    x_dos2 = torch.linspace(emin, emax, 778)\n",
    "\n",
    "    for j,i in enumerate(tqdm(biased_test_index)):\n",
    "        #steps = int((rbounds[i].item()- (10 * sigma) - lbounds[i].item() - 1.5)/0.05)    \n",
    "        l_dos2 = quartic_dos(sorted_full_eigen_energies[i] - shifted_test_loss[1][j], x_dos2, sigma)#torch.sum(torch.exp(-0.5*((x_dos - full_eigen_energies[i].view(-1,1))/sigma)**2), dim = 0)\n",
    "    #     n_xdos2.append(x_dos2)\n",
    "        biased_test_ldos2.append(l_dos2)\n",
    "\n",
    "    # n_xdos2 = torch.vstack(n_xdos2)\n",
    "    biased_test_ldos2 = torch.vstack(biased_test_ldos2)\n",
    "    biased_test_ldos2 = ((biased_test_ldos2.T * normalization_quartic[biased_test_index] ).T)* 2\n",
    "\n",
    "#Do cutting here?"
   ]
  },
  {
   "cell_type": "code",
   "execution_count": 58,
   "id": "6e55dfe5",
   "metadata": {
    "ExecuteTime": {
     "end_time": "2023-04-04T09:59:29.522934Z",
     "start_time": "2023-04-04T09:59:29.465343Z"
    }
   },
   "outputs": [
    {
     "name": "stdout",
     "output_type": "stream",
     "text": [
      "Using fourier shifts, Train_rmse:9.23298, Test_rmse 14.6728\n"
     ]
    }
   ],
   "source": [
    "# shifted_target = shift_coeffs(new_train_ldos, emin, emax, best_state1) \n",
    "# shifted_reg_target = torch.vstack([shifted_target, torch.zeros(n_col,new_train_ldos.shape[1])])   \n",
    "shifted_reg_target = torch.vstack([biased_train_ldos2, torch.zeros(n_col,biased_train_ldos2.shape[1])])\n",
    "\n",
    "shifted_weights = torch.linalg.lstsq(reg_features.double(), shifted_reg_target, driver = \"gelsd\").solution\n",
    "\n",
    "shifted_train_preds = Features.double() @ shifted_weights\n",
    "shifted_test_preds = t_Features.double() @ shifted_weights\n",
    "\n",
    "train_rmse = loss.t_get_rmse(shifted_train_preds, biased_train_ldos2, xdos, perc = True)\n",
    "test_rmse = loss.t_get_rmse(shifted_test_preds, biased_test_ldos2, xdos, perc = True)\n",
    "\n",
    "print (\"Using fourier shifts, Train_rmse:{:.6}, Test_rmse {:.6}\".format(train_rmse, test_rmse)) "
   ]
  },
  {
   "cell_type": "code",
   "execution_count": 59,
   "id": "a8029c71",
   "metadata": {
    "ExecuteTime": {
     "end_time": "2023-04-04T09:59:29.586661Z",
     "start_time": "2023-04-04T09:59:29.524599Z"
    }
   },
   "outputs": [
    {
     "name": "stdout",
     "output_type": "stream",
     "text": [
      "No shifts, Train_rmse:9.85658, Test_rmse 15.5983\n"
     ]
    }
   ],
   "source": [
    "# original_target = shift_coeffs(ldos[train_index], emin, emax, best_state1) \n",
    "# original_reg_target = torch.vstack([original_target, torch.zeros(n_col,ldos.shape[1])])   \n",
    "\n",
    "\n",
    "original_reg_target = torch.vstack([quartic_ldos[biased_train_index], torch.zeros(n_col,ldos.shape[1])])\n",
    "\n",
    "original_weights = torch.linalg.lstsq(reg_features.double(), original_reg_target, driver = \"gelsd\").solution\n",
    "\n",
    "original_train_preds = Features.double() @ original_weights\n",
    "original_test_preds = t_Features.double() @ original_weights\n",
    "\n",
    "train_rmse = loss.t_get_rmse(original_train_preds, quartic_ldos[biased_train_index], xdos, perc = True)\n",
    "test_rmse = loss.t_get_rmse(original_test_preds, quartic_ldos[biased_test_index], xdos, perc = True)\n",
    "\n",
    "print (\"No shifts, Train_rmse:{:.6}, Test_rmse {:.6}\".format(train_rmse, test_rmse))"
   ]
  },
  {
   "cell_type": "markdown",
   "id": "599d3582",
   "metadata": {},
   "source": [
    "## Last"
   ]
  },
  {
   "cell_type": "code",
   "execution_count": null,
   "id": "9dc24b58",
   "metadata": {},
   "outputs": [],
   "source": []
  }
 ],
 "metadata": {
  "kernelspec": {
   "display_name": "Python 3 (ipykernel)",
   "language": "python",
   "name": "python3"
  },
  "language_info": {
   "codemirror_mode": {
    "name": "ipython",
    "version": 3
   },
   "file_extension": ".py",
   "mimetype": "text/x-python",
   "name": "python",
   "nbconvert_exporter": "python",
   "pygments_lexer": "ipython3",
   "version": "3.9.12"
  },
  "toc": {
   "base_numbering": 1,
   "nav_menu": {},
   "number_sections": true,
   "sideBar": true,
   "skip_h1_title": false,
   "title_cell": "Table of Contents",
   "title_sidebar": "Contents",
   "toc_cell": false,
   "toc_position": {
    "height": "calc(100% - 180px)",
    "left": "10px",
    "top": "150px",
    "width": "165px"
   },
   "toc_section_display": true,
   "toc_window_display": true
  }
 },
 "nbformat": 4,
 "nbformat_minor": 5
}
