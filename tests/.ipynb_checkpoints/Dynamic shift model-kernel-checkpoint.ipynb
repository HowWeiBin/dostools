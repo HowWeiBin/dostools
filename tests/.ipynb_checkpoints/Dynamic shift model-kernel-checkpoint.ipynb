{
 "cells": [
  {
   "cell_type": "markdown",
   "id": "84565b74",
   "metadata": {
    "hide_input": false
   },
   "source": [
    "## Imports"
   ]
  },
  {
   "cell_type": "code",
   "execution_count": 1,
   "id": "dfdaeca7",
   "metadata": {
    "ExecuteTime": {
     "end_time": "2023-02-22T16:46:21.949566Z",
     "start_time": "2023-02-22T16:46:16.064871Z"
    }
   },
   "outputs": [],
   "source": [
    "import dostools\n",
    "import importlib\n",
    "import numpy as np\n",
    "import pickle\n",
    "import torch\n",
    "import sys\n",
    "import matplotlib.pyplot as plt\n",
    "import copy\n",
    "from tqdm import tqdm\n",
    "import matplotlib\n",
    "import time\n",
    "torch.set_default_dtype(torch.float64) \n",
    "%matplotlib notebook\n",
    "matplotlib.rcParams['figure.figsize'] = (10, 10)"
   ]
  },
  {
   "cell_type": "code",
   "execution_count": 2,
   "id": "7ccbf26d",
   "metadata": {
    "ExecuteTime": {
     "end_time": "2023-02-22T16:46:28.188700Z",
     "start_time": "2023-02-22T16:46:21.951962Z"
    }
   },
   "outputs": [
    {
     "name": "stdout",
     "output_type": "stream",
     "text": [
      "ldos shape is torch.Size([1039, 778])\n",
      "mean dos shape is torch.Size([778])\n",
      "Variance covered with 10 PCs is = 0.9871211778950163\n"
     ]
    }
   ],
   "source": [
    "import dostools.datasets.data as data\n",
    "import dostools.utils.utils as utils\n",
    "\n",
    "n_structures = 1039\n",
    "np.random.seed(0)\n",
    "n_train = int(0.8 * n_structures)\n",
    "train_index = np.arange(n_structures)\n",
    "np.random.shuffle(train_index)\n",
    "test_index = train_index[n_train:]\n",
    "train_index = train_index[:n_train]\n",
    "\n",
    "with torch.no_grad():\n",
    "    structures = data.load_structures(\":\")\n",
    "    n_structures = len(structures) #total number of structures\n",
    "    for structure in structures:#implement periodicity\n",
    "        structure.wrap(eps = 1e-12) \n",
    "    n_atoms = np.zeros(n_structures, dtype = int) #stores number of atoms in each structures\n",
    "    for i in range(n_structures):\n",
    "        n_atoms[i] = len(structures[i])\n",
    "\n",
    "    #eigenergies, emin, emax = dostools.src.datasets.data.load_eigenenergies(unpack = True, n_structures = len(structures))\n",
    "    xdos = torch.tensor(data.load_xdos())\n",
    "    ldos = torch.tensor(data.load_ldos())\n",
    "    ldos *= 2\n",
    "\n",
    "    print (\"ldos shape is {}\".format(ldos.shape))\n",
    "    mean_dos_per_atom = ldos[train_index].mean(axis = 0) #only calculated for train set to prevent data leakage\n",
    "    print (\"mean dos shape is {}\".format(mean_dos_per_atom.shape))\n",
    "    \n",
    "    \n",
    "    y_pw = ldos - mean_dos_per_atom\n",
    "    y_lcdf = torch.cumsum(y_pw, dim = 1)\n",
    "    _, pc_vectors = utils.build_pc(ldos[train_index], mean_dos_per_atom[None,:], n_pc = 10)\n",
    "    y_pc = utils.build_coeffs(ldos - mean_dos_per_atom[None,:], pc_vectors)\n",
    "    Silicon = data.load_features()\n",
    "    kMM = data.load_kMM()"
   ]
  },
  {
   "cell_type": "code",
   "execution_count": 3,
   "id": "c7a83067",
   "metadata": {
    "ExecuteTime": {
     "end_time": "2023-02-22T16:46:38.610762Z",
     "start_time": "2023-02-22T16:46:28.192221Z"
    }
   },
   "outputs": [
    {
     "name": "stdout",
     "output_type": "stream",
     "text": [
      "This file contains the eigenenergies and their corresponding kpoints of the training Silicon structures generated using DFT PBE as implemented in FHI-AIMS version 171221_1 with the ``tight'' settings\n"
     ]
    }
   ],
   "source": [
    "importlib.reload(data)\n",
    "eigen_energies, emin, emax = data.load_eigenenergies(unpack = True, n_structures = n_structures)"
   ]
  },
  {
   "cell_type": "code",
   "execution_count": 4,
   "id": "dccbde1a",
   "metadata": {
    "ExecuteTime": {
     "end_time": "2023-02-22T16:46:38.622434Z",
     "start_time": "2023-02-22T16:46:38.615788Z"
    }
   },
   "outputs": [
    {
     "name": "stdout",
     "output_type": "stream",
     "text": [
      "-24.553719539983\n"
     ]
    }
   ],
   "source": [
    "print (emin)"
   ]
  },
  {
   "cell_type": "code",
   "execution_count": 5,
   "id": "c4132d76",
   "metadata": {
    "ExecuteTime": {
     "end_time": "2023-02-22T16:46:38.639462Z",
     "start_time": "2023-02-22T16:46:38.625276Z"
    }
   },
   "outputs": [
    {
     "name": "stdout",
     "output_type": "stream",
     "text": [
      "11.346414696331\n"
     ]
    }
   ],
   "source": [
    "print (emax)"
   ]
  },
  {
   "cell_type": "code",
   "execution_count": 6,
   "id": "8001a4d6",
   "metadata": {
    "ExecuteTime": {
     "end_time": "2023-02-22T16:46:38.654563Z",
     "start_time": "2023-02-22T16:46:38.641456Z"
    }
   },
   "outputs": [],
   "source": [
    "# gb = 0.3 #eV\n",
    "# dE = 0.05 #eV\n",
    "\n",
    "# # build the DOS of the dataset, \n",
    "# # normalized by number of atoms and number of eigenvalues\n",
    "# xdos2, ldos2 = utils.build_dos(gb, eigen_energies, dE, emin, emax, n_atoms) #sigma, eigenvalues, dx, emin, emax\n",
    "\n",
    "# xdos2_tensor = torch.tensor(xdos2)\n",
    "# ldos2 *= 2\n",
    "# ldos2 = torch.tensor(ldos2)"
   ]
  },
  {
   "cell_type": "markdown",
   "id": "459624a6",
   "metadata": {},
   "source": []
  },
  {
   "cell_type": "code",
   "execution_count": null,
   "id": "eeb115b1",
   "metadata": {
    "ExecuteTime": {
     "end_time": "2023-02-15T21:18:14.754862Z",
     "start_time": "2023-02-15T21:18:14.002114Z"
    }
   },
   "outputs": [],
   "source": []
  },
  {
   "cell_type": "code",
   "execution_count": null,
   "id": "c2b15734",
   "metadata": {
    "ExecuteTime": {
     "end_time": "2023-02-15T21:18:14.763222Z",
     "start_time": "2023-02-15T21:18:14.756960Z"
    }
   },
   "outputs": [],
   "source": []
  },
  {
   "cell_type": "code",
   "execution_count": null,
   "id": "a09ca373",
   "metadata": {
    "ExecuteTime": {
     "end_time": "2023-02-15T21:18:14.785247Z",
     "start_time": "2023-02-15T21:18:14.765407Z"
    }
   },
   "outputs": [],
   "source": []
  },
  {
   "cell_type": "markdown",
   "id": "9e0652c3",
   "metadata": {},
   "source": [
    "## Features PCA"
   ]
  },
  {
   "cell_type": "code",
   "execution_count": 7,
   "id": "35332a42",
   "metadata": {
    "ExecuteTime": {
     "end_time": "2023-02-22T16:46:39.020590Z",
     "start_time": "2023-02-22T16:46:38.656857Z"
    }
   },
   "outputs": [
    {
     "name": "stdout",
     "output_type": "stream",
     "text": [
      "SOAP PCA explained variance with 1 PCA is: [0.85417772]\n",
      "Kernel PCA explained variance with 1 PCA is: [0.76640756]\n"
     ]
    }
   ],
   "source": [
    "from sklearn.decomposition import PCA\n",
    "\n",
    "soap = Silicon.Features['structure_avedescriptors'] \n",
    "soap_pca = PCA(n_components = 1, svd_solver = \"full\")\n",
    "soap_pca.fit(soap)\n",
    "\n",
    "print (\"SOAP PCA explained variance with 1 PCA is: {}\".format(soap_pca.explained_variance_ratio_))\n",
    "\n",
    "PCA_soap = soap_pca.transform(soap)\n",
    "\n",
    "kernel = Silicon.Features['structure_avekerneldescriptors']\n",
    "kernel_pca = PCA(n_components = 1, svd_solver = \"full\")\n",
    "kernel_pca.fit(kernel)\n",
    "\n",
    "print (\"Kernel PCA explained variance with 1 PCA is: {}\".format(kernel_pca.explained_variance_ratio_))\n",
    "\n",
    "PCA_kernel = kernel_pca.transform(kernel)"
   ]
  },
  {
   "cell_type": "markdown",
   "id": "09757efc",
   "metadata": {},
   "source": [
    "## Translation invariant Loss function"
   ]
  },
  {
   "cell_type": "code",
   "execution_count": 8,
   "id": "fea8a204",
   "metadata": {
    "ExecuteTime": {
     "end_time": "2023-02-22T16:46:39.046971Z",
     "start_time": "2023-02-22T16:46:39.022466Z"
    }
   },
   "outputs": [],
   "source": [
    "import dostools.loss.loss as loss\n",
    "\n",
    "# importlib.reload(loss)\n",
    "# with torch.no_grad():\n",
    "#     shift_range = torch.tensor([0.05 * a for a in torch.arange(-5,5)])\n",
    "#     #shift_range = torch.tensor([0])\n",
    "#     a = loss.t_get_BF_shift_rmse(reconstructed_ldos_t, ldos, shift_range, xdos, perc = True)\n",
    "#     print (a)"
   ]
  },
  {
   "cell_type": "code",
   "execution_count": 9,
   "id": "3af34687",
   "metadata": {
    "ExecuteTime": {
     "end_time": "2023-02-22T16:46:39.051091Z",
     "start_time": "2023-02-22T16:46:39.048562Z"
    }
   },
   "outputs": [],
   "source": [
    "# z = (torch.sum((structure_coefficients_t[train_index].view(1, 831, 687) * (torch.exp(-0.5*((alignment.view(1,-1,1) + xdos.view(-1,1,1) - structure_eigvals_t[train_index])/sigma)**2))), dim = 2)).T * normalization[train_index].view(-1,1) * 2\n"
   ]
  },
  {
   "cell_type": "markdown",
   "id": "4ff86aaf",
   "metadata": {},
   "source": [
    "## Dataset and Dataloader"
   ]
  },
  {
   "cell_type": "code",
   "execution_count": 10,
   "id": "b4c2dddc",
   "metadata": {
    "ExecuteTime": {
     "end_time": "2023-02-22T16:46:39.392675Z",
     "start_time": "2023-02-22T16:46:39.052675Z"
    }
   },
   "outputs": [],
   "source": [
    "structure_coefficients_t = torch.load('structure_coefficients.pt')\n",
    "structure_eigvals_t = torch.load('structure_eigvals.pt')\n",
    "reconstructed_ldos_t = torch.load('reconstructed_ldos.pt')\n",
    "\n",
    "sigma = 0.3\n",
    "dx = 0.05\n",
    "\n",
    "full_eigen_energies = [torch.tensor(i.flatten()) for i in eigen_energies]\n",
    "eigenenergy_length = [len(i) for i in full_eigen_energies]\n",
    "eigenenergy_length_t = torch.tensor(eigenenergy_length)\n",
    "# small_index = (eigenenergy_length_t<10000)\n",
    "# small_index = small_index.nonzero()\n",
    "# small_index = small_index.flatten()\n",
    "n_atoms_t = torch.tensor(n_atoms)\n",
    "normalization_eiglength = [len(i) for i in eigen_energies]\n",
    "normalization_eiglength_t = torch.tensor(normalization_eiglength)\n",
    "normalization = 1/torch.sqrt(2*torch.tensor(np.pi)*sigma**2)/n_atoms_t/normalization_eiglength_t\n",
    "\n"
   ]
  },
  {
   "cell_type": "code",
   "execution_count": 11,
   "id": "0d2ccf27",
   "metadata": {
    "ExecuteTime": {
     "end_time": "2023-02-22T16:46:39.405716Z",
     "start_time": "2023-02-22T16:46:39.395568Z"
    }
   },
   "outputs": [],
   "source": [
    "from torch.utils.data import Dataset\n",
    "class ShiftingDataset(Dataset):\n",
    "    def __init__(self, X, y_coeff, y_eigval, normalization, xdos):\n",
    "        self.X = X\n",
    "        self.y_coeff = y_coeff\n",
    "        self.y_eigval = y_eigval\n",
    "        self.normalization = normalization\n",
    "        self.alignment = torch.nn.parameter.Parameter(torch.zeros(len(X)))\n",
    "        self.xdos = xdos\n",
    "        \n",
    "        \n",
    "    def __len__(self):\n",
    "        return len(self.X)\n",
    "    \n",
    "    def project_dos(self, idx):\n",
    "        new_dos = (torch.sum((self.y_coeff[idx].view(1, -1, 687) * (torch.exp(-0.5*((self.alignment[idx].view(1,-1,1) + self.xdos.view(-1,1,1) - self.y_eigval[idx])/sigma)**2))), dim = 2)).T * self.normalization[idx].view(-1,1) * 2\n",
    "        return new_dos.squeeze()\n",
    "    \n",
    "    def __getitem__(self, idx):\n",
    "        y = self.project_dos(idx)\n",
    "        return self.X[idx], y.double()\n",
    "        "
   ]
  },
  {
   "cell_type": "code",
   "execution_count": 12,
   "id": "d961889d",
   "metadata": {
    "ExecuteTime": {
     "end_time": "2023-02-22T16:46:39.420725Z",
     "start_time": "2023-02-22T16:46:39.408138Z"
    }
   },
   "outputs": [],
   "source": [
    "##Remeber to save the good struct coeffs and eigvals and integrate into the database folder"
   ]
  },
  {
   "cell_type": "code",
   "execution_count": null,
   "id": "957e76d9",
   "metadata": {
    "ExecuteTime": {
     "end_time": "2023-02-21T21:32:21.692715Z",
     "start_time": "2023-02-21T21:32:21.487372Z"
    }
   },
   "outputs": [],
   "source": []
  },
  {
   "cell_type": "code",
   "execution_count": 13,
   "id": "1d5aeaa1",
   "metadata": {
    "ExecuteTime": {
     "end_time": "2023-02-22T16:46:39.446213Z",
     "start_time": "2023-02-22T16:46:39.423236Z"
    }
   },
   "outputs": [],
   "source": [
    "from torch.utils.data import TensorDataset, DataLoader\n",
    "# soap_dataset = ShiftingDataset(Silicon.Features['structure_avedescriptors'][:10].double(), structure_coefficients_t[:10], structure_eigvals_t[:10], normalization[:10], xdos)\n",
    "soap_dataset = ShiftingDataset(Silicon.Features['structure_avedescriptors'][train_index].double(), structure_coefficients_t[train_index], structure_eigvals_t[train_index], normalization[train_index], xdos)\n",
    "device = 'cpu'\n",
    "kwargs = {\"pin_memory\":True} if device == \"cuda:0\" else {}\n",
    "soap_dataloader = DataLoader(soap_dataset, batch_size = 8, shuffle = True,**kwargs)"
   ]
  },
  {
   "cell_type": "code",
   "execution_count": 14,
   "id": "d2bddde6",
   "metadata": {
    "ExecuteTime": {
     "end_time": "2023-02-22T16:46:39.515940Z",
     "start_time": "2023-02-22T16:46:39.451964Z"
    }
   },
   "outputs": [
    {
     "name": "stdout",
     "output_type": "stream",
     "text": [
      "torch.Size([8, 448])\n",
      "torch.Size([8, 778])\n"
     ]
    }
   ],
   "source": [
    "for x,y in soap_dataloader:\n",
    "    print (x.shape)\n",
    "    print (y.shape)\n",
    "    break"
   ]
  },
  {
   "cell_type": "markdown",
   "id": "efbaeb84",
   "metadata": {},
   "source": [
    "## Model"
   ]
  },
  {
   "cell_type": "code",
   "execution_count": 15,
   "id": "fa9c9dbc",
   "metadata": {
    "ExecuteTime": {
     "end_time": "2023-02-22T16:46:39.550056Z",
     "start_time": "2023-02-22T16:46:39.518221Z"
    }
   },
   "outputs": [],
   "source": [
    "import dostools.models.models as models\n",
    "import dostools.models.training as training\n",
    "import dostools.models.architectures as architecture\n",
    "import dostools.loss.loss as loss\n",
    "import torch.nn as nn\n",
    "\n",
    "importlib.reload(models)\n",
    "importlib.reload(training)\n",
    "importlib.reload(architecture)\n",
    "importlib.reload(loss)\n",
    "\n",
    "#can consider normalization layer here, start with bias and stuff first\n",
    "\n",
    "class WassLinearModel(nn.Module):\n",
    "    def __init__(self, inputSize, outputSize, xdos, device):\n",
    "        super(WassLinearModel, self).__init__()\n",
    "        self.linear = nn.Linear(inputSize, outputSize, bias = True)\n",
    "        self.xdos = xdos\n",
    "        self.device = device\n",
    "        #self.alignment = torch.zeros(train_size, device = self.device)\n",
    "        self.to(self.device)\n",
    "\n",
    "    def forward(self, x):\n",
    "        \"\"\"\n",
    "        Performs the transformations to the features based on the model\n",
    "        \n",
    "        Args:\n",
    "            x (tensor): input features\n",
    "        \n",
    "        Returns:\n",
    "            tensor: output\n",
    "        \"\"\"\n",
    "        out = self.linear(x)\n",
    "        return out\n",
    "    \n",
    "    "
   ]
  },
  {
   "cell_type": "code",
   "execution_count": 27,
   "id": "db388a2d",
   "metadata": {
    "ExecuteTime": {
     "end_time": "2023-02-22T16:47:53.495165Z",
     "start_time": "2023-02-22T16:47:53.479593Z"
    }
   },
   "outputs": [],
   "source": [
    "model1 = WassLinearModel(448, 778, xdos, \"cpu\")\n",
    "model1.load_state_dict(torch.load('./DynamicAdam.pt'))\n",
    "soap_dataset.alignment = torch.load('DynamicAdam_trainalignment')"
   ]
  },
  {
   "cell_type": "code",
   "execution_count": 17,
   "id": "2ce77792",
   "metadata": {
    "ExecuteTime": {
     "end_time": "2023-02-22T16:46:45.798297Z",
     "start_time": "2023-02-22T16:46:39.639498Z"
    }
   },
   "outputs": [
    {
     "name": "stderr",
     "output_type": "stream",
     "text": [
      "\r",
      "  0%|                                                                                                                                                                                    | 0/10000 [00:00<?, ?it/s]"
     ]
    },
    {
     "data": {
      "application/javascript": [
       "/* Put everything inside the global mpl namespace */\n",
       "/* global mpl */\n",
       "window.mpl = {};\n",
       "\n",
       "mpl.get_websocket_type = function () {\n",
       "    if (typeof WebSocket !== 'undefined') {\n",
       "        return WebSocket;\n",
       "    } else if (typeof MozWebSocket !== 'undefined') {\n",
       "        return MozWebSocket;\n",
       "    } else {\n",
       "        alert(\n",
       "            'Your browser does not have WebSocket support. ' +\n",
       "                'Please try Chrome, Safari or Firefox ≥ 6. ' +\n",
       "                'Firefox 4 and 5 are also supported but you ' +\n",
       "                'have to enable WebSockets in about:config.'\n",
       "        );\n",
       "    }\n",
       "};\n",
       "\n",
       "mpl.figure = function (figure_id, websocket, ondownload, parent_element) {\n",
       "    this.id = figure_id;\n",
       "\n",
       "    this.ws = websocket;\n",
       "\n",
       "    this.supports_binary = this.ws.binaryType !== undefined;\n",
       "\n",
       "    if (!this.supports_binary) {\n",
       "        var warnings = document.getElementById('mpl-warnings');\n",
       "        if (warnings) {\n",
       "            warnings.style.display = 'block';\n",
       "            warnings.textContent =\n",
       "                'This browser does not support binary websocket messages. ' +\n",
       "                'Performance may be slow.';\n",
       "        }\n",
       "    }\n",
       "\n",
       "    this.imageObj = new Image();\n",
       "\n",
       "    this.context = undefined;\n",
       "    this.message = undefined;\n",
       "    this.canvas = undefined;\n",
       "    this.rubberband_canvas = undefined;\n",
       "    this.rubberband_context = undefined;\n",
       "    this.format_dropdown = undefined;\n",
       "\n",
       "    this.image_mode = 'full';\n",
       "\n",
       "    this.root = document.createElement('div');\n",
       "    this.root.setAttribute('style', 'display: inline-block');\n",
       "    this._root_extra_style(this.root);\n",
       "\n",
       "    parent_element.appendChild(this.root);\n",
       "\n",
       "    this._init_header(this);\n",
       "    this._init_canvas(this);\n",
       "    this._init_toolbar(this);\n",
       "\n",
       "    var fig = this;\n",
       "\n",
       "    this.waiting = false;\n",
       "\n",
       "    this.ws.onopen = function () {\n",
       "        fig.send_message('supports_binary', { value: fig.supports_binary });\n",
       "        fig.send_message('send_image_mode', {});\n",
       "        if (fig.ratio !== 1) {\n",
       "            fig.send_message('set_device_pixel_ratio', {\n",
       "                device_pixel_ratio: fig.ratio,\n",
       "            });\n",
       "        }\n",
       "        fig.send_message('refresh', {});\n",
       "    };\n",
       "\n",
       "    this.imageObj.onload = function () {\n",
       "        if (fig.image_mode === 'full') {\n",
       "            // Full images could contain transparency (where diff images\n",
       "            // almost always do), so we need to clear the canvas so that\n",
       "            // there is no ghosting.\n",
       "            fig.context.clearRect(0, 0, fig.canvas.width, fig.canvas.height);\n",
       "        }\n",
       "        fig.context.drawImage(fig.imageObj, 0, 0);\n",
       "    };\n",
       "\n",
       "    this.imageObj.onunload = function () {\n",
       "        fig.ws.close();\n",
       "    };\n",
       "\n",
       "    this.ws.onmessage = this._make_on_message_function(this);\n",
       "\n",
       "    this.ondownload = ondownload;\n",
       "};\n",
       "\n",
       "mpl.figure.prototype._init_header = function () {\n",
       "    var titlebar = document.createElement('div');\n",
       "    titlebar.classList =\n",
       "        'ui-dialog-titlebar ui-widget-header ui-corner-all ui-helper-clearfix';\n",
       "    var titletext = document.createElement('div');\n",
       "    titletext.classList = 'ui-dialog-title';\n",
       "    titletext.setAttribute(\n",
       "        'style',\n",
       "        'width: 100%; text-align: center; padding: 3px;'\n",
       "    );\n",
       "    titlebar.appendChild(titletext);\n",
       "    this.root.appendChild(titlebar);\n",
       "    this.header = titletext;\n",
       "};\n",
       "\n",
       "mpl.figure.prototype._canvas_extra_style = function (_canvas_div) {};\n",
       "\n",
       "mpl.figure.prototype._root_extra_style = function (_canvas_div) {};\n",
       "\n",
       "mpl.figure.prototype._init_canvas = function () {\n",
       "    var fig = this;\n",
       "\n",
       "    var canvas_div = (this.canvas_div = document.createElement('div'));\n",
       "    canvas_div.setAttribute(\n",
       "        'style',\n",
       "        'border: 1px solid #ddd;' +\n",
       "            'box-sizing: content-box;' +\n",
       "            'clear: both;' +\n",
       "            'min-height: 1px;' +\n",
       "            'min-width: 1px;' +\n",
       "            'outline: 0;' +\n",
       "            'overflow: hidden;' +\n",
       "            'position: relative;' +\n",
       "            'resize: both;'\n",
       "    );\n",
       "\n",
       "    function on_keyboard_event_closure(name) {\n",
       "        return function (event) {\n",
       "            return fig.key_event(event, name);\n",
       "        };\n",
       "    }\n",
       "\n",
       "    canvas_div.addEventListener(\n",
       "        'keydown',\n",
       "        on_keyboard_event_closure('key_press')\n",
       "    );\n",
       "    canvas_div.addEventListener(\n",
       "        'keyup',\n",
       "        on_keyboard_event_closure('key_release')\n",
       "    );\n",
       "\n",
       "    this._canvas_extra_style(canvas_div);\n",
       "    this.root.appendChild(canvas_div);\n",
       "\n",
       "    var canvas = (this.canvas = document.createElement('canvas'));\n",
       "    canvas.classList.add('mpl-canvas');\n",
       "    canvas.setAttribute('style', 'box-sizing: content-box;');\n",
       "\n",
       "    this.context = canvas.getContext('2d');\n",
       "\n",
       "    var backingStore =\n",
       "        this.context.backingStorePixelRatio ||\n",
       "        this.context.webkitBackingStorePixelRatio ||\n",
       "        this.context.mozBackingStorePixelRatio ||\n",
       "        this.context.msBackingStorePixelRatio ||\n",
       "        this.context.oBackingStorePixelRatio ||\n",
       "        this.context.backingStorePixelRatio ||\n",
       "        1;\n",
       "\n",
       "    this.ratio = (window.devicePixelRatio || 1) / backingStore;\n",
       "\n",
       "    var rubberband_canvas = (this.rubberband_canvas = document.createElement(\n",
       "        'canvas'\n",
       "    ));\n",
       "    rubberband_canvas.setAttribute(\n",
       "        'style',\n",
       "        'box-sizing: content-box; position: absolute; left: 0; top: 0; z-index: 1;'\n",
       "    );\n",
       "\n",
       "    // Apply a ponyfill if ResizeObserver is not implemented by browser.\n",
       "    if (this.ResizeObserver === undefined) {\n",
       "        if (window.ResizeObserver !== undefined) {\n",
       "            this.ResizeObserver = window.ResizeObserver;\n",
       "        } else {\n",
       "            var obs = _JSXTOOLS_RESIZE_OBSERVER({});\n",
       "            this.ResizeObserver = obs.ResizeObserver;\n",
       "        }\n",
       "    }\n",
       "\n",
       "    this.resizeObserverInstance = new this.ResizeObserver(function (entries) {\n",
       "        var nentries = entries.length;\n",
       "        for (var i = 0; i < nentries; i++) {\n",
       "            var entry = entries[i];\n",
       "            var width, height;\n",
       "            if (entry.contentBoxSize) {\n",
       "                if (entry.contentBoxSize instanceof Array) {\n",
       "                    // Chrome 84 implements new version of spec.\n",
       "                    width = entry.contentBoxSize[0].inlineSize;\n",
       "                    height = entry.contentBoxSize[0].blockSize;\n",
       "                } else {\n",
       "                    // Firefox implements old version of spec.\n",
       "                    width = entry.contentBoxSize.inlineSize;\n",
       "                    height = entry.contentBoxSize.blockSize;\n",
       "                }\n",
       "            } else {\n",
       "                // Chrome <84 implements even older version of spec.\n",
       "                width = entry.contentRect.width;\n",
       "                height = entry.contentRect.height;\n",
       "            }\n",
       "\n",
       "            // Keep the size of the canvas and rubber band canvas in sync with\n",
       "            // the canvas container.\n",
       "            if (entry.devicePixelContentBoxSize) {\n",
       "                // Chrome 84 implements new version of spec.\n",
       "                canvas.setAttribute(\n",
       "                    'width',\n",
       "                    entry.devicePixelContentBoxSize[0].inlineSize\n",
       "                );\n",
       "                canvas.setAttribute(\n",
       "                    'height',\n",
       "                    entry.devicePixelContentBoxSize[0].blockSize\n",
       "                );\n",
       "            } else {\n",
       "                canvas.setAttribute('width', width * fig.ratio);\n",
       "                canvas.setAttribute('height', height * fig.ratio);\n",
       "            }\n",
       "            canvas.setAttribute(\n",
       "                'style',\n",
       "                'width: ' + width + 'px; height: ' + height + 'px;'\n",
       "            );\n",
       "\n",
       "            rubberband_canvas.setAttribute('width', width);\n",
       "            rubberband_canvas.setAttribute('height', height);\n",
       "\n",
       "            // And update the size in Python. We ignore the initial 0/0 size\n",
       "            // that occurs as the element is placed into the DOM, which should\n",
       "            // otherwise not happen due to the minimum size styling.\n",
       "            if (fig.ws.readyState == 1 && width != 0 && height != 0) {\n",
       "                fig.request_resize(width, height);\n",
       "            }\n",
       "        }\n",
       "    });\n",
       "    this.resizeObserverInstance.observe(canvas_div);\n",
       "\n",
       "    function on_mouse_event_closure(name) {\n",
       "        return function (event) {\n",
       "            return fig.mouse_event(event, name);\n",
       "        };\n",
       "    }\n",
       "\n",
       "    rubberband_canvas.addEventListener(\n",
       "        'mousedown',\n",
       "        on_mouse_event_closure('button_press')\n",
       "    );\n",
       "    rubberband_canvas.addEventListener(\n",
       "        'mouseup',\n",
       "        on_mouse_event_closure('button_release')\n",
       "    );\n",
       "    rubberband_canvas.addEventListener(\n",
       "        'dblclick',\n",
       "        on_mouse_event_closure('dblclick')\n",
       "    );\n",
       "    // Throttle sequential mouse events to 1 every 20ms.\n",
       "    rubberband_canvas.addEventListener(\n",
       "        'mousemove',\n",
       "        on_mouse_event_closure('motion_notify')\n",
       "    );\n",
       "\n",
       "    rubberband_canvas.addEventListener(\n",
       "        'mouseenter',\n",
       "        on_mouse_event_closure('figure_enter')\n",
       "    );\n",
       "    rubberband_canvas.addEventListener(\n",
       "        'mouseleave',\n",
       "        on_mouse_event_closure('figure_leave')\n",
       "    );\n",
       "\n",
       "    canvas_div.addEventListener('wheel', function (event) {\n",
       "        if (event.deltaY < 0) {\n",
       "            event.step = 1;\n",
       "        } else {\n",
       "            event.step = -1;\n",
       "        }\n",
       "        on_mouse_event_closure('scroll')(event);\n",
       "    });\n",
       "\n",
       "    canvas_div.appendChild(canvas);\n",
       "    canvas_div.appendChild(rubberband_canvas);\n",
       "\n",
       "    this.rubberband_context = rubberband_canvas.getContext('2d');\n",
       "    this.rubberband_context.strokeStyle = '#000000';\n",
       "\n",
       "    this._resize_canvas = function (width, height, forward) {\n",
       "        if (forward) {\n",
       "            canvas_div.style.width = width + 'px';\n",
       "            canvas_div.style.height = height + 'px';\n",
       "        }\n",
       "    };\n",
       "\n",
       "    // Disable right mouse context menu.\n",
       "    this.rubberband_canvas.addEventListener('contextmenu', function (_e) {\n",
       "        event.preventDefault();\n",
       "        return false;\n",
       "    });\n",
       "\n",
       "    function set_focus() {\n",
       "        canvas.focus();\n",
       "        canvas_div.focus();\n",
       "    }\n",
       "\n",
       "    window.setTimeout(set_focus, 100);\n",
       "};\n",
       "\n",
       "mpl.figure.prototype._init_toolbar = function () {\n",
       "    var fig = this;\n",
       "\n",
       "    var toolbar = document.createElement('div');\n",
       "    toolbar.classList = 'mpl-toolbar';\n",
       "    this.root.appendChild(toolbar);\n",
       "\n",
       "    function on_click_closure(name) {\n",
       "        return function (_event) {\n",
       "            return fig.toolbar_button_onclick(name);\n",
       "        };\n",
       "    }\n",
       "\n",
       "    function on_mouseover_closure(tooltip) {\n",
       "        return function (event) {\n",
       "            if (!event.currentTarget.disabled) {\n",
       "                return fig.toolbar_button_onmouseover(tooltip);\n",
       "            }\n",
       "        };\n",
       "    }\n",
       "\n",
       "    fig.buttons = {};\n",
       "    var buttonGroup = document.createElement('div');\n",
       "    buttonGroup.classList = 'mpl-button-group';\n",
       "    for (var toolbar_ind in mpl.toolbar_items) {\n",
       "        var name = mpl.toolbar_items[toolbar_ind][0];\n",
       "        var tooltip = mpl.toolbar_items[toolbar_ind][1];\n",
       "        var image = mpl.toolbar_items[toolbar_ind][2];\n",
       "        var method_name = mpl.toolbar_items[toolbar_ind][3];\n",
       "\n",
       "        if (!name) {\n",
       "            /* Instead of a spacer, we start a new button group. */\n",
       "            if (buttonGroup.hasChildNodes()) {\n",
       "                toolbar.appendChild(buttonGroup);\n",
       "            }\n",
       "            buttonGroup = document.createElement('div');\n",
       "            buttonGroup.classList = 'mpl-button-group';\n",
       "            continue;\n",
       "        }\n",
       "\n",
       "        var button = (fig.buttons[name] = document.createElement('button'));\n",
       "        button.classList = 'mpl-widget';\n",
       "        button.setAttribute('role', 'button');\n",
       "        button.setAttribute('aria-disabled', 'false');\n",
       "        button.addEventListener('click', on_click_closure(method_name));\n",
       "        button.addEventListener('mouseover', on_mouseover_closure(tooltip));\n",
       "\n",
       "        var icon_img = document.createElement('img');\n",
       "        icon_img.src = '_images/' + image + '.png';\n",
       "        icon_img.srcset = '_images/' + image + '_large.png 2x';\n",
       "        icon_img.alt = tooltip;\n",
       "        button.appendChild(icon_img);\n",
       "\n",
       "        buttonGroup.appendChild(button);\n",
       "    }\n",
       "\n",
       "    if (buttonGroup.hasChildNodes()) {\n",
       "        toolbar.appendChild(buttonGroup);\n",
       "    }\n",
       "\n",
       "    var fmt_picker = document.createElement('select');\n",
       "    fmt_picker.classList = 'mpl-widget';\n",
       "    toolbar.appendChild(fmt_picker);\n",
       "    this.format_dropdown = fmt_picker;\n",
       "\n",
       "    for (var ind in mpl.extensions) {\n",
       "        var fmt = mpl.extensions[ind];\n",
       "        var option = document.createElement('option');\n",
       "        option.selected = fmt === mpl.default_extension;\n",
       "        option.innerHTML = fmt;\n",
       "        fmt_picker.appendChild(option);\n",
       "    }\n",
       "\n",
       "    var status_bar = document.createElement('span');\n",
       "    status_bar.classList = 'mpl-message';\n",
       "    toolbar.appendChild(status_bar);\n",
       "    this.message = status_bar;\n",
       "};\n",
       "\n",
       "mpl.figure.prototype.request_resize = function (x_pixels, y_pixels) {\n",
       "    // Request matplotlib to resize the figure. Matplotlib will then trigger a resize in the client,\n",
       "    // which will in turn request a refresh of the image.\n",
       "    this.send_message('resize', { width: x_pixels, height: y_pixels });\n",
       "};\n",
       "\n",
       "mpl.figure.prototype.send_message = function (type, properties) {\n",
       "    properties['type'] = type;\n",
       "    properties['figure_id'] = this.id;\n",
       "    this.ws.send(JSON.stringify(properties));\n",
       "};\n",
       "\n",
       "mpl.figure.prototype.send_draw_message = function () {\n",
       "    if (!this.waiting) {\n",
       "        this.waiting = true;\n",
       "        this.ws.send(JSON.stringify({ type: 'draw', figure_id: this.id }));\n",
       "    }\n",
       "};\n",
       "\n",
       "mpl.figure.prototype.handle_save = function (fig, _msg) {\n",
       "    var format_dropdown = fig.format_dropdown;\n",
       "    var format = format_dropdown.options[format_dropdown.selectedIndex].value;\n",
       "    fig.ondownload(fig, format);\n",
       "};\n",
       "\n",
       "mpl.figure.prototype.handle_resize = function (fig, msg) {\n",
       "    var size = msg['size'];\n",
       "    if (size[0] !== fig.canvas.width || size[1] !== fig.canvas.height) {\n",
       "        fig._resize_canvas(size[0], size[1], msg['forward']);\n",
       "        fig.send_message('refresh', {});\n",
       "    }\n",
       "};\n",
       "\n",
       "mpl.figure.prototype.handle_rubberband = function (fig, msg) {\n",
       "    var x0 = msg['x0'] / fig.ratio;\n",
       "    var y0 = (fig.canvas.height - msg['y0']) / fig.ratio;\n",
       "    var x1 = msg['x1'] / fig.ratio;\n",
       "    var y1 = (fig.canvas.height - msg['y1']) / fig.ratio;\n",
       "    x0 = Math.floor(x0) + 0.5;\n",
       "    y0 = Math.floor(y0) + 0.5;\n",
       "    x1 = Math.floor(x1) + 0.5;\n",
       "    y1 = Math.floor(y1) + 0.5;\n",
       "    var min_x = Math.min(x0, x1);\n",
       "    var min_y = Math.min(y0, y1);\n",
       "    var width = Math.abs(x1 - x0);\n",
       "    var height = Math.abs(y1 - y0);\n",
       "\n",
       "    fig.rubberband_context.clearRect(\n",
       "        0,\n",
       "        0,\n",
       "        fig.canvas.width / fig.ratio,\n",
       "        fig.canvas.height / fig.ratio\n",
       "    );\n",
       "\n",
       "    fig.rubberband_context.strokeRect(min_x, min_y, width, height);\n",
       "};\n",
       "\n",
       "mpl.figure.prototype.handle_figure_label = function (fig, msg) {\n",
       "    // Updates the figure title.\n",
       "    fig.header.textContent = msg['label'];\n",
       "};\n",
       "\n",
       "mpl.figure.prototype.handle_cursor = function (fig, msg) {\n",
       "    fig.rubberband_canvas.style.cursor = msg['cursor'];\n",
       "};\n",
       "\n",
       "mpl.figure.prototype.handle_message = function (fig, msg) {\n",
       "    fig.message.textContent = msg['message'];\n",
       "};\n",
       "\n",
       "mpl.figure.prototype.handle_draw = function (fig, _msg) {\n",
       "    // Request the server to send over a new figure.\n",
       "    fig.send_draw_message();\n",
       "};\n",
       "\n",
       "mpl.figure.prototype.handle_image_mode = function (fig, msg) {\n",
       "    fig.image_mode = msg['mode'];\n",
       "};\n",
       "\n",
       "mpl.figure.prototype.handle_history_buttons = function (fig, msg) {\n",
       "    for (var key in msg) {\n",
       "        if (!(key in fig.buttons)) {\n",
       "            continue;\n",
       "        }\n",
       "        fig.buttons[key].disabled = !msg[key];\n",
       "        fig.buttons[key].setAttribute('aria-disabled', !msg[key]);\n",
       "    }\n",
       "};\n",
       "\n",
       "mpl.figure.prototype.handle_navigate_mode = function (fig, msg) {\n",
       "    if (msg['mode'] === 'PAN') {\n",
       "        fig.buttons['Pan'].classList.add('active');\n",
       "        fig.buttons['Zoom'].classList.remove('active');\n",
       "    } else if (msg['mode'] === 'ZOOM') {\n",
       "        fig.buttons['Pan'].classList.remove('active');\n",
       "        fig.buttons['Zoom'].classList.add('active');\n",
       "    } else {\n",
       "        fig.buttons['Pan'].classList.remove('active');\n",
       "        fig.buttons['Zoom'].classList.remove('active');\n",
       "    }\n",
       "};\n",
       "\n",
       "mpl.figure.prototype.updated_canvas_event = function () {\n",
       "    // Called whenever the canvas gets updated.\n",
       "    this.send_message('ack', {});\n",
       "};\n",
       "\n",
       "// A function to construct a web socket function for onmessage handling.\n",
       "// Called in the figure constructor.\n",
       "mpl.figure.prototype._make_on_message_function = function (fig) {\n",
       "    return function socket_on_message(evt) {\n",
       "        if (evt.data instanceof Blob) {\n",
       "            var img = evt.data;\n",
       "            if (img.type !== 'image/png') {\n",
       "                /* FIXME: We get \"Resource interpreted as Image but\n",
       "                 * transferred with MIME type text/plain:\" errors on\n",
       "                 * Chrome.  But how to set the MIME type?  It doesn't seem\n",
       "                 * to be part of the websocket stream */\n",
       "                img.type = 'image/png';\n",
       "            }\n",
       "\n",
       "            /* Free the memory for the previous frames */\n",
       "            if (fig.imageObj.src) {\n",
       "                (window.URL || window.webkitURL).revokeObjectURL(\n",
       "                    fig.imageObj.src\n",
       "                );\n",
       "            }\n",
       "\n",
       "            fig.imageObj.src = (window.URL || window.webkitURL).createObjectURL(\n",
       "                img\n",
       "            );\n",
       "            fig.updated_canvas_event();\n",
       "            fig.waiting = false;\n",
       "            return;\n",
       "        } else if (\n",
       "            typeof evt.data === 'string' &&\n",
       "            evt.data.slice(0, 21) === 'data:image/png;base64'\n",
       "        ) {\n",
       "            fig.imageObj.src = evt.data;\n",
       "            fig.updated_canvas_event();\n",
       "            fig.waiting = false;\n",
       "            return;\n",
       "        }\n",
       "\n",
       "        var msg = JSON.parse(evt.data);\n",
       "        var msg_type = msg['type'];\n",
       "\n",
       "        // Call the  \"handle_{type}\" callback, which takes\n",
       "        // the figure and JSON message as its only arguments.\n",
       "        try {\n",
       "            var callback = fig['handle_' + msg_type];\n",
       "        } catch (e) {\n",
       "            console.log(\n",
       "                \"No handler for the '\" + msg_type + \"' message type: \",\n",
       "                msg\n",
       "            );\n",
       "            return;\n",
       "        }\n",
       "\n",
       "        if (callback) {\n",
       "            try {\n",
       "                // console.log(\"Handling '\" + msg_type + \"' message: \", msg);\n",
       "                callback(fig, msg);\n",
       "            } catch (e) {\n",
       "                console.log(\n",
       "                    \"Exception inside the 'handler_\" + msg_type + \"' callback:\",\n",
       "                    e,\n",
       "                    e.stack,\n",
       "                    msg\n",
       "                );\n",
       "            }\n",
       "        }\n",
       "    };\n",
       "};\n",
       "\n",
       "// from https://stackoverflow.com/questions/1114465/getting-mouse-location-in-canvas\n",
       "mpl.findpos = function (e) {\n",
       "    //this section is from http://www.quirksmode.org/js/events_properties.html\n",
       "    var targ;\n",
       "    if (!e) {\n",
       "        e = window.event;\n",
       "    }\n",
       "    if (e.target) {\n",
       "        targ = e.target;\n",
       "    } else if (e.srcElement) {\n",
       "        targ = e.srcElement;\n",
       "    }\n",
       "    if (targ.nodeType === 3) {\n",
       "        // defeat Safari bug\n",
       "        targ = targ.parentNode;\n",
       "    }\n",
       "\n",
       "    // pageX,Y are the mouse positions relative to the document\n",
       "    var boundingRect = targ.getBoundingClientRect();\n",
       "    var x = e.pageX - (boundingRect.left + document.body.scrollLeft);\n",
       "    var y = e.pageY - (boundingRect.top + document.body.scrollTop);\n",
       "\n",
       "    return { x: x, y: y };\n",
       "};\n",
       "\n",
       "/*\n",
       " * return a copy of an object with only non-object keys\n",
       " * we need this to avoid circular references\n",
       " * https://stackoverflow.com/a/24161582/3208463\n",
       " */\n",
       "function simpleKeys(original) {\n",
       "    return Object.keys(original).reduce(function (obj, key) {\n",
       "        if (typeof original[key] !== 'object') {\n",
       "            obj[key] = original[key];\n",
       "        }\n",
       "        return obj;\n",
       "    }, {});\n",
       "}\n",
       "\n",
       "mpl.figure.prototype.mouse_event = function (event, name) {\n",
       "    var canvas_pos = mpl.findpos(event);\n",
       "\n",
       "    if (name === 'button_press') {\n",
       "        this.canvas.focus();\n",
       "        this.canvas_div.focus();\n",
       "    }\n",
       "\n",
       "    var x = canvas_pos.x * this.ratio;\n",
       "    var y = canvas_pos.y * this.ratio;\n",
       "\n",
       "    this.send_message(name, {\n",
       "        x: x,\n",
       "        y: y,\n",
       "        button: event.button,\n",
       "        step: event.step,\n",
       "        guiEvent: simpleKeys(event),\n",
       "    });\n",
       "\n",
       "    /* This prevents the web browser from automatically changing to\n",
       "     * the text insertion cursor when the button is pressed.  We want\n",
       "     * to control all of the cursor setting manually through the\n",
       "     * 'cursor' event from matplotlib */\n",
       "    event.preventDefault();\n",
       "    return false;\n",
       "};\n",
       "\n",
       "mpl.figure.prototype._key_event_extra = function (_event, _name) {\n",
       "    // Handle any extra behaviour associated with a key event\n",
       "};\n",
       "\n",
       "mpl.figure.prototype.key_event = function (event, name) {\n",
       "    // Prevent repeat events\n",
       "    if (name === 'key_press') {\n",
       "        if (event.key === this._key) {\n",
       "            return;\n",
       "        } else {\n",
       "            this._key = event.key;\n",
       "        }\n",
       "    }\n",
       "    if (name === 'key_release') {\n",
       "        this._key = null;\n",
       "    }\n",
       "\n",
       "    var value = '';\n",
       "    if (event.ctrlKey && event.key !== 'Control') {\n",
       "        value += 'ctrl+';\n",
       "    }\n",
       "    else if (event.altKey && event.key !== 'Alt') {\n",
       "        value += 'alt+';\n",
       "    }\n",
       "    else if (event.shiftKey && event.key !== 'Shift') {\n",
       "        value += 'shift+';\n",
       "    }\n",
       "\n",
       "    value += 'k' + event.key;\n",
       "\n",
       "    this._key_event_extra(event, name);\n",
       "\n",
       "    this.send_message(name, { key: value, guiEvent: simpleKeys(event) });\n",
       "    return false;\n",
       "};\n",
       "\n",
       "mpl.figure.prototype.toolbar_button_onclick = function (name) {\n",
       "    if (name === 'download') {\n",
       "        this.handle_save(this, null);\n",
       "    } else {\n",
       "        this.send_message('toolbar_button', { name: name });\n",
       "    }\n",
       "};\n",
       "\n",
       "mpl.figure.prototype.toolbar_button_onmouseover = function (tooltip) {\n",
       "    this.message.textContent = tooltip;\n",
       "};\n",
       "\n",
       "///////////////// REMAINING CONTENT GENERATED BY embed_js.py /////////////////\n",
       "// prettier-ignore\n",
       "var _JSXTOOLS_RESIZE_OBSERVER=function(A){var t,i=new WeakMap,n=new WeakMap,a=new WeakMap,r=new WeakMap,o=new Set;function s(e){if(!(this instanceof s))throw new TypeError(\"Constructor requires 'new' operator\");i.set(this,e)}function h(){throw new TypeError(\"Function is not a constructor\")}function c(e,t,i,n){e=0 in arguments?Number(arguments[0]):0,t=1 in arguments?Number(arguments[1]):0,i=2 in arguments?Number(arguments[2]):0,n=3 in arguments?Number(arguments[3]):0,this.right=(this.x=this.left=e)+(this.width=i),this.bottom=(this.y=this.top=t)+(this.height=n),Object.freeze(this)}function d(){t=requestAnimationFrame(d);var s=new WeakMap,p=new Set;o.forEach((function(t){r.get(t).forEach((function(i){var r=t instanceof window.SVGElement,o=a.get(t),d=r?0:parseFloat(o.paddingTop),f=r?0:parseFloat(o.paddingRight),l=r?0:parseFloat(o.paddingBottom),u=r?0:parseFloat(o.paddingLeft),g=r?0:parseFloat(o.borderTopWidth),m=r?0:parseFloat(o.borderRightWidth),w=r?0:parseFloat(o.borderBottomWidth),b=u+f,F=d+l,v=(r?0:parseFloat(o.borderLeftWidth))+m,W=g+w,y=r?0:t.offsetHeight-W-t.clientHeight,E=r?0:t.offsetWidth-v-t.clientWidth,R=b+v,z=F+W,M=r?t.width:parseFloat(o.width)-R-E,O=r?t.height:parseFloat(o.height)-z-y;if(n.has(t)){var k=n.get(t);if(k[0]===M&&k[1]===O)return}n.set(t,[M,O]);var S=Object.create(h.prototype);S.target=t,S.contentRect=new c(u,d,M,O),s.has(i)||(s.set(i,[]),p.add(i)),s.get(i).push(S)}))})),p.forEach((function(e){i.get(e).call(e,s.get(e),e)}))}return s.prototype.observe=function(i){if(i instanceof window.Element){r.has(i)||(r.set(i,new Set),o.add(i),a.set(i,window.getComputedStyle(i)));var n=r.get(i);n.has(this)||n.add(this),cancelAnimationFrame(t),t=requestAnimationFrame(d)}},s.prototype.unobserve=function(i){if(i instanceof window.Element&&r.has(i)){var n=r.get(i);n.has(this)&&(n.delete(this),n.size||(r.delete(i),o.delete(i))),n.size||r.delete(i),o.size||cancelAnimationFrame(t)}},A.DOMRectReadOnly=c,A.ResizeObserver=s,A.ResizeObserverEntry=h,A}; // eslint-disable-line\n",
       "mpl.toolbar_items = [[\"Home\", \"Reset original view\", \"fa fa-home icon-home\", \"home\"], [\"Back\", \"Back to previous view\", \"fa fa-arrow-left icon-arrow-left\", \"back\"], [\"Forward\", \"Forward to next view\", \"fa fa-arrow-right icon-arrow-right\", \"forward\"], [\"\", \"\", \"\", \"\"], [\"Pan\", \"Left button pans, Right button zooms\\nx/y fixes axis, CTRL fixes aspect\", \"fa fa-arrows icon-move\", \"pan\"], [\"Zoom\", \"Zoom to rectangle\\nx/y fixes axis\", \"fa fa-square-o icon-check-empty\", \"zoom\"], [\"\", \"\", \"\", \"\"], [\"Download\", \"Download plot\", \"fa fa-floppy-o icon-save\", \"download\"]];\n",
       "\n",
       "mpl.extensions = [\"eps\", \"jpeg\", \"pgf\", \"pdf\", \"png\", \"ps\", \"raw\", \"svg\", \"tif\"];\n",
       "\n",
       "mpl.default_extension = \"png\";/* global mpl */\n",
       "\n",
       "var comm_websocket_adapter = function (comm) {\n",
       "    // Create a \"websocket\"-like object which calls the given IPython comm\n",
       "    // object with the appropriate methods. Currently this is a non binary\n",
       "    // socket, so there is still some room for performance tuning.\n",
       "    var ws = {};\n",
       "\n",
       "    ws.binaryType = comm.kernel.ws.binaryType;\n",
       "    ws.readyState = comm.kernel.ws.readyState;\n",
       "    function updateReadyState(_event) {\n",
       "        if (comm.kernel.ws) {\n",
       "            ws.readyState = comm.kernel.ws.readyState;\n",
       "        } else {\n",
       "            ws.readyState = 3; // Closed state.\n",
       "        }\n",
       "    }\n",
       "    comm.kernel.ws.addEventListener('open', updateReadyState);\n",
       "    comm.kernel.ws.addEventListener('close', updateReadyState);\n",
       "    comm.kernel.ws.addEventListener('error', updateReadyState);\n",
       "\n",
       "    ws.close = function () {\n",
       "        comm.close();\n",
       "    };\n",
       "    ws.send = function (m) {\n",
       "        //console.log('sending', m);\n",
       "        comm.send(m);\n",
       "    };\n",
       "    // Register the callback with on_msg.\n",
       "    comm.on_msg(function (msg) {\n",
       "        //console.log('receiving', msg['content']['data'], msg);\n",
       "        var data = msg['content']['data'];\n",
       "        if (data['blob'] !== undefined) {\n",
       "            data = {\n",
       "                data: new Blob(msg['buffers'], { type: data['blob'] }),\n",
       "            };\n",
       "        }\n",
       "        // Pass the mpl event to the overridden (by mpl) onmessage function.\n",
       "        ws.onmessage(data);\n",
       "    });\n",
       "    return ws;\n",
       "};\n",
       "\n",
       "mpl.mpl_figure_comm = function (comm, msg) {\n",
       "    // This is the function which gets called when the mpl process\n",
       "    // starts-up an IPython Comm through the \"matplotlib\" channel.\n",
       "\n",
       "    var id = msg.content.data.id;\n",
       "    // Get hold of the div created by the display call when the Comm\n",
       "    // socket was opened in Python.\n",
       "    var element = document.getElementById(id);\n",
       "    var ws_proxy = comm_websocket_adapter(comm);\n",
       "\n",
       "    function ondownload(figure, _format) {\n",
       "        window.open(figure.canvas.toDataURL());\n",
       "    }\n",
       "\n",
       "    var fig = new mpl.figure(id, ws_proxy, ondownload, element);\n",
       "\n",
       "    // Call onopen now - mpl needs it, as it is assuming we've passed it a real\n",
       "    // web socket which is closed, not our websocket->open comm proxy.\n",
       "    ws_proxy.onopen();\n",
       "\n",
       "    fig.parent_element = element;\n",
       "    fig.cell_info = mpl.find_output_cell(\"<div id='\" + id + \"'></div>\");\n",
       "    if (!fig.cell_info) {\n",
       "        console.error('Failed to find cell for figure', id, fig);\n",
       "        return;\n",
       "    }\n",
       "    fig.cell_info[0].output_area.element.on(\n",
       "        'cleared',\n",
       "        { fig: fig },\n",
       "        fig._remove_fig_handler\n",
       "    );\n",
       "};\n",
       "\n",
       "mpl.figure.prototype.handle_close = function (fig, msg) {\n",
       "    var width = fig.canvas.width / fig.ratio;\n",
       "    fig.cell_info[0].output_area.element.off(\n",
       "        'cleared',\n",
       "        fig._remove_fig_handler\n",
       "    );\n",
       "    fig.resizeObserverInstance.unobserve(fig.canvas_div);\n",
       "\n",
       "    // Update the output cell to use the data from the current canvas.\n",
       "    fig.push_to_output();\n",
       "    var dataURL = fig.canvas.toDataURL();\n",
       "    // Re-enable the keyboard manager in IPython - without this line, in FF,\n",
       "    // the notebook keyboard shortcuts fail.\n",
       "    IPython.keyboard_manager.enable();\n",
       "    fig.parent_element.innerHTML =\n",
       "        '<img src=\"' + dataURL + '\" width=\"' + width + '\">';\n",
       "    fig.close_ws(fig, msg);\n",
       "};\n",
       "\n",
       "mpl.figure.prototype.close_ws = function (fig, msg) {\n",
       "    fig.send_message('closing', msg);\n",
       "    // fig.ws.close()\n",
       "};\n",
       "\n",
       "mpl.figure.prototype.push_to_output = function (_remove_interactive) {\n",
       "    // Turn the data on the canvas into data in the output cell.\n",
       "    var width = this.canvas.width / this.ratio;\n",
       "    var dataURL = this.canvas.toDataURL();\n",
       "    this.cell_info[1]['text/html'] =\n",
       "        '<img src=\"' + dataURL + '\" width=\"' + width + '\">';\n",
       "};\n",
       "\n",
       "mpl.figure.prototype.updated_canvas_event = function () {\n",
       "    // Tell IPython that the notebook contents must change.\n",
       "    IPython.notebook.set_dirty(true);\n",
       "    this.send_message('ack', {});\n",
       "    var fig = this;\n",
       "    // Wait a second, then push the new image to the DOM so\n",
       "    // that it is saved nicely (might be nice to debounce this).\n",
       "    setTimeout(function () {\n",
       "        fig.push_to_output();\n",
       "    }, 1000);\n",
       "};\n",
       "\n",
       "mpl.figure.prototype._init_toolbar = function () {\n",
       "    var fig = this;\n",
       "\n",
       "    var toolbar = document.createElement('div');\n",
       "    toolbar.classList = 'btn-toolbar';\n",
       "    this.root.appendChild(toolbar);\n",
       "\n",
       "    function on_click_closure(name) {\n",
       "        return function (_event) {\n",
       "            return fig.toolbar_button_onclick(name);\n",
       "        };\n",
       "    }\n",
       "\n",
       "    function on_mouseover_closure(tooltip) {\n",
       "        return function (event) {\n",
       "            if (!event.currentTarget.disabled) {\n",
       "                return fig.toolbar_button_onmouseover(tooltip);\n",
       "            }\n",
       "        };\n",
       "    }\n",
       "\n",
       "    fig.buttons = {};\n",
       "    var buttonGroup = document.createElement('div');\n",
       "    buttonGroup.classList = 'btn-group';\n",
       "    var button;\n",
       "    for (var toolbar_ind in mpl.toolbar_items) {\n",
       "        var name = mpl.toolbar_items[toolbar_ind][0];\n",
       "        var tooltip = mpl.toolbar_items[toolbar_ind][1];\n",
       "        var image = mpl.toolbar_items[toolbar_ind][2];\n",
       "        var method_name = mpl.toolbar_items[toolbar_ind][3];\n",
       "\n",
       "        if (!name) {\n",
       "            /* Instead of a spacer, we start a new button group. */\n",
       "            if (buttonGroup.hasChildNodes()) {\n",
       "                toolbar.appendChild(buttonGroup);\n",
       "            }\n",
       "            buttonGroup = document.createElement('div');\n",
       "            buttonGroup.classList = 'btn-group';\n",
       "            continue;\n",
       "        }\n",
       "\n",
       "        button = fig.buttons[name] = document.createElement('button');\n",
       "        button.classList = 'btn btn-default';\n",
       "        button.href = '#';\n",
       "        button.title = name;\n",
       "        button.innerHTML = '<i class=\"fa ' + image + ' fa-lg\"></i>';\n",
       "        button.addEventListener('click', on_click_closure(method_name));\n",
       "        button.addEventListener('mouseover', on_mouseover_closure(tooltip));\n",
       "        buttonGroup.appendChild(button);\n",
       "    }\n",
       "\n",
       "    if (buttonGroup.hasChildNodes()) {\n",
       "        toolbar.appendChild(buttonGroup);\n",
       "    }\n",
       "\n",
       "    // Add the status bar.\n",
       "    var status_bar = document.createElement('span');\n",
       "    status_bar.classList = 'mpl-message pull-right';\n",
       "    toolbar.appendChild(status_bar);\n",
       "    this.message = status_bar;\n",
       "\n",
       "    // Add the close button to the window.\n",
       "    var buttongrp = document.createElement('div');\n",
       "    buttongrp.classList = 'btn-group inline pull-right';\n",
       "    button = document.createElement('button');\n",
       "    button.classList = 'btn btn-mini btn-primary';\n",
       "    button.href = '#';\n",
       "    button.title = 'Stop Interaction';\n",
       "    button.innerHTML = '<i class=\"fa fa-power-off icon-remove icon-large\"></i>';\n",
       "    button.addEventListener('click', function (_evt) {\n",
       "        fig.handle_close(fig, {});\n",
       "    });\n",
       "    button.addEventListener(\n",
       "        'mouseover',\n",
       "        on_mouseover_closure('Stop Interaction')\n",
       "    );\n",
       "    buttongrp.appendChild(button);\n",
       "    var titlebar = this.root.querySelector('.ui-dialog-titlebar');\n",
       "    titlebar.insertBefore(buttongrp, titlebar.firstChild);\n",
       "};\n",
       "\n",
       "mpl.figure.prototype._remove_fig_handler = function (event) {\n",
       "    var fig = event.data.fig;\n",
       "    if (event.target !== this) {\n",
       "        // Ignore bubbled events from children.\n",
       "        return;\n",
       "    }\n",
       "    fig.close_ws(fig, {});\n",
       "};\n",
       "\n",
       "mpl.figure.prototype._root_extra_style = function (el) {\n",
       "    el.style.boxSizing = 'content-box'; // override notebook setting of border-box.\n",
       "};\n",
       "\n",
       "mpl.figure.prototype._canvas_extra_style = function (el) {\n",
       "    // this is important to make the div 'focusable\n",
       "    el.setAttribute('tabindex', 0);\n",
       "    // reach out to IPython and tell the keyboard manager to turn it's self\n",
       "    // off when our div gets focus\n",
       "\n",
       "    // location in version 3\n",
       "    if (IPython.notebook.keyboard_manager) {\n",
       "        IPython.notebook.keyboard_manager.register_events(el);\n",
       "    } else {\n",
       "        // location in version 2\n",
       "        IPython.keyboard_manager.register_events(el);\n",
       "    }\n",
       "};\n",
       "\n",
       "mpl.figure.prototype._key_event_extra = function (event, _name) {\n",
       "    // Check for shift+enter\n",
       "    if (event.shiftKey && event.which === 13) {\n",
       "        this.canvas_div.blur();\n",
       "        // select the cell after this one\n",
       "        var index = IPython.notebook.find_cell_index(this.cell_info[0]);\n",
       "        IPython.notebook.select(index + 1);\n",
       "    }\n",
       "};\n",
       "\n",
       "mpl.figure.prototype.handle_save = function (fig, _msg) {\n",
       "    fig.ondownload(fig, null);\n",
       "};\n",
       "\n",
       "mpl.find_output_cell = function (html_output) {\n",
       "    // Return the cell and output element which can be found *uniquely* in the notebook.\n",
       "    // Note - this is a bit hacky, but it is done because the \"notebook_saving.Notebook\"\n",
       "    // IPython event is triggered only after the cells have been serialised, which for\n",
       "    // our purposes (turning an active figure into a static one), is too late.\n",
       "    var cells = IPython.notebook.get_cells();\n",
       "    var ncells = cells.length;\n",
       "    for (var i = 0; i < ncells; i++) {\n",
       "        var cell = cells[i];\n",
       "        if (cell.cell_type === 'code') {\n",
       "            for (var j = 0; j < cell.output_area.outputs.length; j++) {\n",
       "                var data = cell.output_area.outputs[j];\n",
       "                if (data.data) {\n",
       "                    // IPython >= 3 moved mimebundle to data attribute of output\n",
       "                    data = data.data;\n",
       "                }\n",
       "                if (data['text/html'] === html_output) {\n",
       "                    return [cell, data, j];\n",
       "                }\n",
       "            }\n",
       "        }\n",
       "    }\n",
       "};\n",
       "\n",
       "// Register the function which deals with the matplotlib target/channel.\n",
       "// The kernel may be null if the page has been refreshed.\n",
       "if (IPython.notebook.kernel !== null) {\n",
       "    IPython.notebook.kernel.comm_manager.register_target(\n",
       "        'matplotlib',\n",
       "        mpl.mpl_figure_comm\n",
       "    );\n",
       "}\n"
      ],
      "text/plain": [
       "<IPython.core.display.Javascript object>"
      ]
     },
     "metadata": {},
     "output_type": "display_data"
    },
    {
     "data": {
      "text/html": [
       "<img src=\"data:image/png;base64,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\" width=\"1000\">"
      ],
      "text/plain": [
       "<IPython.core.display.HTML object>"
      ]
     },
     "metadata": {},
     "output_type": "display_data"
    },
    {
     "name": "stderr",
     "output_type": "stream",
     "text": [
      "/tmp/ipykernel_9427/2360536920.py:42: UserWarning: You have mixed positional and keyword arguments, some input may be discarded.\n",
      "  fig.legend([line,z], labels = [\"Predicted\", \"True\"], loc = \"lower center\")\n",
      "Epoch: 1:   0%|                                                                                                             | 1/10000 [00:05<16:35:41,  5.97s/it, lowest_loss=0.0093, pred_loss=7.24e-5, trigger=0]\n",
      "\n",
      "KeyboardInterrupt\n",
      "\n"
     ]
    }
   ],
   "source": [
    "n_epochs = 10000\n",
    "lr_model = 0.001\n",
    "lr_alignment = 0.001\n",
    "\n",
    "# if self.opt == \"Adam\":\n",
    "opt_model = torch.optim.Adam(model1.parameters(), lr = lr_model, weight_decay = 0)\n",
    "opt_alignment = torch.optim.Adam([soap_dataset.alignment], lr = lr_alignment, weight_decay = 0)\n",
    "# if valdata_loader is not None:\n",
    "#     threshold = 1000\n",
    "#     scheduler_threshold = 100\n",
    "# else:\n",
    "threshold = 1000\n",
    "scheduler_threshold = 100\n",
    "tol = 1e-4\n",
    "# if self.opt == \"LBFGS\":\n",
    "#     opt = torch.optim.LBFGS(self.parameters(), lr = lr, line_search_fn = \"strong_wolfe\")\n",
    "#     if valdata_loader is not None:\n",
    "#         threshold = 2000\n",
    "#         scheduler_threshold = 2000\n",
    "#     else:\n",
    "#         threshold = 30\n",
    "#         scheduler_threshold = 5\n",
    "#     tol = 1e-4\n",
    "scheduler_model = torch.optim.lr_scheduler.ReduceLROnPlateau(opt_model, factor = 0.1, patience = scheduler_threshold)#0.5)\n",
    "scheduler_alignment = torch.optim.lr_scheduler.ReduceLROnPlateau(opt_alignment, factor = 0.1, patience = scheduler_threshold)\n",
    "best_state = copy.deepcopy(model1.state_dict())\n",
    "lowest_loss = torch.tensor(9999)\n",
    "pred_loss = torch.tensor(0)\n",
    "trigger = 0\n",
    "loss_history =[]\n",
    "pbar = tqdm(range(n_epochs))\n",
    "\n",
    "fig, ax_list = plt.subplots(4,2)\n",
    "ax_list = ax_list.flatten()\n",
    "lines = []\n",
    "critical_indexes = np.arange(8)\n",
    "#critical_indexes = np.array([369, 341, 745, 521, 278, 5, 193, 37])\n",
    "for i in range(len(critical_indexes)):\n",
    "    line, = ax_list[i].plot(model1.xdos.cpu(), reconstructed_ldos_t[train_index[critical_indexes[i]]], label = \"Prediction\")\n",
    "    lines.append(line)\n",
    "    z = ax_list[i].plot(model1.xdos.cpu(), reconstructed_ldos_t[train_index[critical_indexes[i]]], label = \"True\")\n",
    "fig.legend([line,z], labels = [\"Predicted\", \"True\"], loc = \"lower center\")\n",
    "for epoch in pbar:\n",
    "    total_error = 0\n",
    "    pbar.set_description(f\"Epoch: {epoch}\")\n",
    "#     if valdata_loader is not None:\n",
    "#         pbar.set_postfix(val_loss = lowest_loss.item(), trigger = trigger, train_loss = pred_loss.item())\n",
    "#     else:\n",
    "    pbar.set_postfix(pred_loss = pred_loss.item(), lowest_loss = lowest_loss.item(), trigger = trigger)\n",
    "\n",
    "    for x_data, y_data in soap_dataloader:\n",
    "        opt_model.zero_grad()\n",
    "        opt_alignment.zero_grad()\n",
    "        x_data, y_data = x_data.to(model1.device), y_data.to(model1.device)\n",
    "#         if self.opt == \"LBFGS\":\n",
    "#             def closure(predictions = False):\n",
    "#                 \"\"\"\n",
    "#                 Function is necessary for LBFGS, returns the total loss of the model\n",
    "\n",
    "#                 Args:\n",
    "#                     predictions (bool, optional): Returns prediction loss if true, returns total loss if False\n",
    "\n",
    "#                 Returns:\n",
    "#                     tensor: Loss\n",
    "#                 \"\"\"\n",
    "#                 opt.zero_grad()\n",
    "#                 _pred = self.forward(x_data)\n",
    "#                 _pred_loss = t_get_mse(_pred, y_data)#, self.xdos), perc = True)       \n",
    "#                 _pred_loss *= 1e7\n",
    "#                 #self.alignment = (self.alignment - 20) * (self.xdos[1] - self.xdos[0])\n",
    "#                 _pred_loss = torch.nan_to_num(_pred_loss, nan=lowest_loss.item(), posinf = lowest_loss.item(), neginf = lowest_loss.item())                 \n",
    "#                 _reg_loss = torch.sum(torch.pow(self.linear.weight,2))\n",
    "#                 _reg_loss *= self.reg.item()\n",
    "#                 _new_loss = _pred_loss + _reg_loss\n",
    "#                 _new_loss.backward()\n",
    "#                 # global z \n",
    "#                 # z = (torch.sum(abs(self.linear.weight.grad)))\n",
    "#                 if predictions:\n",
    "#                     return _pred_loss\n",
    "#                 return _new_loss\n",
    "#             opt.step(closure)\n",
    "#             #print (z)\n",
    "#             with torch.no_grad():\n",
    "#                 pred = self.forward(x_data)\n",
    "#                 pred_loss = t_get_rmse(pred, y_data)\n",
    "#                 reg_loss = torch.sum(torch.pow(self.linear.weight,2))\n",
    "#                 reg_loss *= self.reg.item()\n",
    "#                 new_loss = pred_loss + reg_loss\n",
    "#             if pred_loss >100000 or (pred_loss.isnan().any()) :\n",
    "#                 print (\"Optimizer shows weird behaviour, reinitializing at previous best_State\")\n",
    "#                 self.load_state_dict(best_state)\n",
    "#                 opt = torch.optim.LBFGS(self.parameters(), lr = lr)\n",
    "#             if epoch %10 == 1:\n",
    "#                 loss_history.append(lowest_loss.item())\n",
    "#         elif self.opt == \"Adam\":\n",
    "        pred = model1.forward(x_data)\n",
    "\n",
    "    \n",
    "        pred_loss = loss.t_get_mse(pred, y_data)#, self.xdos, perc = True)\n",
    "        total_error += pred_loss\n",
    "        new_loss = 1E7 * pred_loss\n",
    "        new_loss.backward()\n",
    "        opt_model.step()\n",
    "        opt_alignment.step()\n",
    "        if pred_loss >100000 or (pred_loss.isnan().any()) :\n",
    "            print (\"Optimizer shows weird behaviour, reinitializing at previous best_State\")\n",
    "            model1.load_state_dict(best_state)\n",
    "            opt = torch.optim.Adam(model1.parameters(), lr = lr, weight_decay = 0)\n",
    "\n",
    "    with torch.no_grad():\n",
    "        critical_pred = model1.forward(soap_dataset.X[critical_indexes])\n",
    "        new_loss = total_error\n",
    "        scheduler_model.step(new_loss)\n",
    "        scheduler_alignment.step(new_loss)\n",
    "        if lowest_loss - new_loss > tol: #threshold to stop training\n",
    "            best_state = copy.deepcopy(model1.state_dict())\n",
    "            lowest_loss = new_loss\n",
    "            trigger = 0\n",
    "        else:\n",
    "            trigger +=1\n",
    "        if epoch %1000 == 1:\n",
    "            loss_history.append(lowest_loss.item())\n",
    "        for i in range(len(critical_indexes)):\n",
    "            lines[i].set_ydata(critical_pred[i].detach().numpy())\n",
    "        fig.suptitle(\"Epochs: {}, Pred loss: {}, Lowest loss:{}, Trigger: {}\".format(epoch, new_loss.item(), lowest_loss.item(), trigger))\n",
    "        fig.canvas.draw()\n",
    "        fig.canvas.flush_events()\n",
    "\n",
    "        if trigger > threshold:\n",
    "            model1.load_state_dict(best_state)\n",
    "            print (\"Implemented early stopping with lowest_loss: {}\".format(lowest_loss))\n",
    "            break\n"
   ]
  },
  {
   "cell_type": "code",
   "execution_count": null,
   "id": "ba9b915e",
   "metadata": {
    "ExecuteTime": {
     "end_time": "2023-02-22T16:46:45.803205Z",
     "start_time": "2023-02-22T16:46:45.803187Z"
    }
   },
   "outputs": [],
   "source": [
    "# torch.save(model1.state_dict(), \"./DynamicAdam.pt\")"
   ]
  },
  {
   "cell_type": "code",
   "execution_count": null,
   "id": "3a23f365",
   "metadata": {
    "ExecuteTime": {
     "end_time": "2023-02-22T16:46:45.805129Z",
     "start_time": "2023-02-22T16:46:45.805112Z"
    }
   },
   "outputs": [],
   "source": [
    "# torch.save(soap_dataset.alignment, \"./DynamicAdam_trainalignment\")"
   ]
  },
  {
   "cell_type": "code",
   "execution_count": 18,
   "id": "52773fc3",
   "metadata": {
    "ExecuteTime": {
     "end_time": "2023-02-22T16:46:59.731556Z",
     "start_time": "2023-02-22T16:46:59.724395Z"
    }
   },
   "outputs": [
    {
     "data": {
      "text/plain": [
       "<module 'dostools.loss.loss' from '/home/how/dostools/src/dostools/loss/loss.py'>"
      ]
     },
     "execution_count": 18,
     "metadata": {},
     "output_type": "execute_result"
    }
   ],
   "source": [
    "import dostools.loss.loss as loss\n",
    "importlib.reload(loss)\n",
    "#t_get_BF_shift_index_error\n",
    "# importlib.reload(loss)\n",
    "# with torch.no_grad():\n",
    "#     shift_range = torch.tensor([0.05 * a for a in torch.arange(-5,5)])\n",
    "#     #shift_range = torch.tensor([0])\n",
    "#     a = loss.t_get_BF_shift_rmse(reconstructed_ldos_t, ldos, shift_range, xdos, perc = True)\n",
    "#     print (a)"
   ]
  },
  {
   "cell_type": "code",
   "execution_count": 23,
   "id": "1b8875a1",
   "metadata": {
    "ExecuteTime": {
     "end_time": "2023-02-22T16:47:40.497969Z",
     "start_time": "2023-02-22T16:47:36.538364Z"
    }
   },
   "outputs": [],
   "source": [
    "_, new_dos = soap_dataset[:]"
   ]
  },
  {
   "cell_type": "code",
   "execution_count": 28,
   "id": "9d45b548",
   "metadata": {
    "ExecuteTime": {
     "end_time": "2023-02-22T16:48:12.026545Z",
     "start_time": "2023-02-22T16:48:03.018889Z"
    }
   },
   "outputs": [],
   "source": [
    "with torch.no_grad():\n",
    "    shift_range = torch.tensor([0.05 * a for a in torch.arange(-30,30)])\n",
    "    Total_preds = model1.forward(Silicon.Features['structure_avedescriptors'])\n",
    "    train_loss, train_indexes = loss.t_get_BF_shift_index_error(Total_preds[train_index], ldos[train_index], shift_range, xdos, perc = False)\n",
    "    test_loss, test_indexes = loss.t_get_BF_shift_index_error(Total_preds[test_index], ldos[test_index], shift_range, xdos, perc = False)\n",
    "    total_loss, total_indexes = loss.t_get_BF_shift_index_error(Total_preds, ldos, shift_range, xdos, perc = False)"
   ]
  },
  {
   "cell_type": "code",
   "execution_count": 29,
   "id": "711fbb30",
   "metadata": {
    "ExecuteTime": {
     "end_time": "2023-02-22T16:48:21.649750Z",
     "start_time": "2023-02-22T16:48:12.028996Z"
    }
   },
   "outputs": [],
   "source": [
    "with torch.no_grad():\n",
    "    shift_range = torch.tensor([0.05 * a for a in torch.arange(-30,30)])\n",
    "    Total_preds = model1.forward(Silicon.Features['structure_avedescriptors'])\n",
    "    atrain_loss, atrain_indexes = loss.t_get_BF_shift_index_error(Total_preds[train_index], ldos[train_index], shift_range, xdos, perc = True)\n",
    "    atest_loss, atest_indexes = loss.t_get_BF_shift_index_error(Total_preds[test_index], ldos[test_index], shift_range, xdos, perc = True)\n",
    "    atotal_loss, atotal_indexes = loss.t_get_BF_shift_index_error(Total_preds, ldos, shift_range, xdos, perc = True)"
   ]
  },
  {
   "cell_type": "code",
   "execution_count": 21,
   "id": "a34d999f",
   "metadata": {
    "ExecuteTime": {
     "end_time": "2023-02-22T16:47:21.617393Z",
     "start_time": "2023-02-22T16:47:18.298168Z"
    }
   },
   "outputs": [],
   "source": [
    "train_loss_abs, train_indexes_abs = loss.t_get_BF_shift_index_error(Total_preds[train_index], ldos[train_index], shift_range, xdos, perc = False)"
   ]
  },
  {
   "cell_type": "code",
   "execution_count": 30,
   "id": "38cabd79",
   "metadata": {
    "ExecuteTime": {
     "end_time": "2023-02-22T16:48:24.158864Z",
     "start_time": "2023-02-22T16:48:24.139333Z"
    }
   },
   "outputs": [
    {
     "name": "stdout",
     "output_type": "stream",
     "text": [
      "tensor(0.0541, grad_fn=<SqrtBackward0>)\n"
     ]
    }
   ],
   "source": [
    "z = loss.t_get_rmse(Total_preds[train_index], new_dos, xdos, perc = False)\n",
    "print (z)"
   ]
  },
  {
   "cell_type": "code",
   "execution_count": 31,
   "id": "809682bc",
   "metadata": {
    "ExecuteTime": {
     "end_time": "2023-02-22T16:48:25.101632Z",
     "start_time": "2023-02-22T16:48:25.092940Z"
    }
   },
   "outputs": [
    {
     "name": "stdout",
     "output_type": "stream",
     "text": [
      "tensor(0.1019)\n"
     ]
    }
   ],
   "source": [
    "z = loss.t_get_rmse(Total_preds[train_index], ldos[train_index], xdos, perc = False)\n",
    "print (z)"
   ]
  },
  {
   "cell_type": "code",
   "execution_count": 32,
   "id": "cb584695",
   "metadata": {
    "ExecuteTime": {
     "end_time": "2023-02-22T16:48:26.600812Z",
     "start_time": "2023-02-22T16:48:26.593808Z"
    }
   },
   "outputs": [
    {
     "data": {
      "text/plain": [
       "tensor(0.0559)"
      ]
     },
     "execution_count": 32,
     "metadata": {},
     "output_type": "execute_result"
    }
   ],
   "source": [
    "train_loss"
   ]
  },
  {
   "cell_type": "code",
   "execution_count": 33,
   "id": "bf066995",
   "metadata": {
    "ExecuteTime": {
     "end_time": "2023-02-22T16:48:27.711959Z",
     "start_time": "2023-02-22T16:48:27.688450Z"
    }
   },
   "outputs": [],
   "source": [
    "mldos = ldos[train_index].mean(axis = 0)\n",
    "std_train = torch.sqrt((torch.trapezoid((ldos[train_index] - mldos)**2, xdos, axis=1)).mean())\n",
    "mldos = ldos[test_index].mean(axis = 0)\n",
    "std_test = torch.sqrt((torch.trapezoid((ldos[test_index] - mldos)**2, xdos, axis=1)).mean())\n",
    "mldos = ldos.mean(axis = 0)\n",
    "std_all = torch.sqrt((torch.trapezoid((ldos - mldos)**2, xdos, axis=1)).mean())"
   ]
  },
  {
   "cell_type": "code",
   "execution_count": 34,
   "id": "a1beca51",
   "metadata": {
    "ExecuteTime": {
     "end_time": "2023-02-22T16:48:28.120404Z",
     "start_time": "2023-02-22T16:48:28.114134Z"
    }
   },
   "outputs": [
    {
     "data": {
      "text/plain": [
       "tensor(0.0559)"
      ]
     },
     "execution_count": 34,
     "metadata": {},
     "output_type": "execute_result"
    }
   ],
   "source": [
    "train_loss"
   ]
  },
  {
   "cell_type": "code",
   "execution_count": 35,
   "id": "1252e710",
   "metadata": {
    "ExecuteTime": {
     "end_time": "2023-02-22T16:48:28.531781Z",
     "start_time": "2023-02-22T16:48:28.526304Z"
    }
   },
   "outputs": [
    {
     "data": {
      "text/plain": [
       "tensor(0.0559)"
      ]
     },
     "execution_count": 35,
     "metadata": {},
     "output_type": "execute_result"
    }
   ],
   "source": [
    "train_loss"
   ]
  },
  {
   "cell_type": "code",
   "execution_count": 36,
   "id": "3fdf9389",
   "metadata": {
    "ExecuteTime": {
     "end_time": "2023-02-22T16:48:29.235449Z",
     "start_time": "2023-02-22T16:48:29.228342Z"
    }
   },
   "outputs": [
    {
     "data": {
      "text/plain": [
       "tensor(9.5086)"
      ]
     },
     "execution_count": 36,
     "metadata": {},
     "output_type": "execute_result"
    }
   ],
   "source": [
    "100 * train_loss / std_train"
   ]
  },
  {
   "cell_type": "code",
   "execution_count": 37,
   "id": "d20f6727",
   "metadata": {
    "ExecuteTime": {
     "end_time": "2023-02-22T16:48:31.790964Z",
     "start_time": "2023-02-22T16:48:31.786409Z"
    }
   },
   "outputs": [
    {
     "data": {
      "text/plain": [
       "tensor(9.5086)"
      ]
     },
     "execution_count": 37,
     "metadata": {},
     "output_type": "execute_result"
    }
   ],
   "source": [
    "atrain_loss"
   ]
  },
  {
   "cell_type": "code",
   "execution_count": 38,
   "id": "3419ec1f",
   "metadata": {
    "ExecuteTime": {
     "end_time": "2023-02-22T16:48:32.282170Z",
     "start_time": "2023-02-22T16:48:32.269348Z"
    }
   },
   "outputs": [
    {
     "data": {
      "text/plain": [
       "tensor([  5.0000,  -1.0000,  -4.0000,  -1.0000,   1.0000,  -4.0000,   0.0000,\n",
       "          2.0000,  -1.0000,  -2.0000,  -1.0000,  -6.0000,  -1.0000,  -1.0000,\n",
       "          2.0000,  -1.0000,  -1.0000,  -1.0000,   1.0000,   2.0000,   4.0000,\n",
       "          4.0000,   2.0000,   2.0000,   2.0000,   2.0000,   1.0000,   0.0000,\n",
       "         -5.0000,  -2.0000,   1.0000,   1.0000,   3.0000,  -1.0000,  -1.0000,\n",
       "         -1.0000,   2.0000,   1.0000,  -1.0000,   1.0000,  -2.0000,   0.0000,\n",
       "         -2.0000,  -1.0000,   4.0000,  -1.0000,   2.0000,   5.0000,   4.0000,\n",
       "          3.0000,  -1.0000,  -4.0000,   1.0000,   1.0000,  -1.0000,  -4.0000,\n",
       "          1.0000,   1.0000,   3.0000,   2.0000,   2.0000,   2.0000,  -1.0000,\n",
       "          0.0000,  -1.0000,  -3.0000,  -1.0000,   0.0000,  -1.0000,   0.0000,\n",
       "          2.0000,  -1.0000,   1.0000,   1.0000,   2.0000,   2.0000,   4.0000,\n",
       "          1.0000,   0.0000,   1.0000,   0.0000,   0.0000,  -2.0000,  -7.0000,\n",
       "          2.0000,   1.0000,   2.0000,   4.0000,  -1.0000,   2.0000,   1.0000,\n",
       "          1.0000,   2.0000,   0.0000,   1.0000,  -1.0000,  -4.0000,  -8.0000,\n",
       "         -1.0000,   1.0000,   1.0000,   1.0000,  -6.0000,  -4.0000,  -1.0000,\n",
       "          0.0000,   2.0000,   3.0000,   2.0000,   5.0000,  -1.0000,   2.0000,\n",
       "          1.0000,  -1.0000,  -2.0000,   1.0000,  -1.0000,   2.0000,   1.0000,\n",
       "         -1.0000,  -1.0000,   0.0000,   1.0000,   0.0000,   2.0000,   1.0000,\n",
       "          0.0000,   0.0000,  -1.0000,  -1.0000,  -2.0000,  -1.0000,  -1.0000,\n",
       "         -1.0000,  -1.0000,  -1.0000,   0.0000,  -1.0000,   2.0000,  -3.0000,\n",
       "         -2.0000,  -1.0000,  -1.0000,  -1.0000,  -3.0000,  -2.0000,  -2.0000,\n",
       "          2.0000,  -3.0000,  -2.0000,  -1.0000,   2.0000,   2.0000,  -1.0000,\n",
       "          4.0000,   1.0000,  -1.0000,   0.0000,  -1.0000,   1.0000,   1.0000,\n",
       "          2.0000,   0.0000,  -1.0000,   3.0000,   1.0000,  -1.0000,  -3.0000,\n",
       "         -2.0000,   1.0000,   2.0000,  -1.0000,  -1.0000,   0.0000,   0.0000,\n",
       "         -1.0000,   2.0000,   0.0000,   2.0000,   0.0000,   1.0000,  -1.0000,\n",
       "         -1.0000,  -3.0000,  -1.0000,   1.0000,   1.0000,  -1.0000,   0.0000,\n",
       "          2.0000,   1.0000,   1.0000,   0.0000,  -1.0000,   0.0000,   2.0000,\n",
       "         -1.0000,   0.0000,  -1.0000,   1.0000,   1.0000,  -2.0000,   2.0000,\n",
       "          1.0000,   2.0000,  -1.0000,   1.0000,   0.0000,   4.0000,   1.0000,\n",
       "         -1.0000,  -4.0000,  -1.0000,   2.0000,  -1.0000,   0.0000,  -8.0000,\n",
       "          1.0000,   6.0000,   0.0000,  -1.0000,  -1.0000,   0.0000,  -1.0000,\n",
       "          1.0000,   2.0000,   1.0000,   2.0000,   0.0000,  -1.0000,   5.0000,\n",
       "          3.0000,   0.0000,   1.0000,   0.0000,   1.0000,  -1.0000,   2.0000,\n",
       "         -1.0000,   1.0000,   5.0000,   3.0000,   1.0000,   2.0000,   2.0000,\n",
       "         -2.0000,   2.0000,   0.0000,  -1.0000,  -1.0000,  -1.0000,   4.0000,\n",
       "          0.0000,   1.0000,  -1.0000,  -1.0000,   1.0000,   2.0000,   0.0000,\n",
       "        -15.0000,   0.0000,  -5.0000,   2.0000,  -1.0000,   0.0000,   1.0000,\n",
       "          1.0000,  -2.0000,  -1.0000,   2.0000, -10.0000,   1.0000,  -2.0000,\n",
       "         -5.0000,   1.0000,   1.0000,   1.0000,  -4.0000,  -3.0000,   5.0000,\n",
       "         -1.0000,  -1.0000,   1.0000,   0.0000,  -1.0000,   5.0000,  -2.0000,\n",
       "          0.0000,   1.0000,   1.0000,   0.0000,  -1.0000,  -2.0000,   3.0000,\n",
       "         -2.0000,   1.0000,   0.0000,   6.0000,  -1.0000,   0.0000,   0.0000,\n",
       "         -3.0000,   0.0000,   2.0000,   2.0000,  -2.0000,   1.0000,  -1.0000,\n",
       "          2.0000,  -1.0000,   1.0000,   1.0000,  -8.0000,  -1.0000,   0.0000,\n",
       "          0.0000,  -1.0000,   1.0000,   3.0000,  -1.0000,   2.0000,   0.0000,\n",
       "         -1.0000,   0.0000,  -3.0000,   0.0000,   1.0000,   0.0000,   1.0000,\n",
       "          0.0000,   0.0000,   2.0000,   2.0000,   3.0000,  -3.0000,  -4.0000,\n",
       "          1.0000,   1.0000,  -1.0000,   3.0000,   0.0000,  -3.0000,  -1.0000,\n",
       "          2.0000,   1.0000,   2.0000,   0.0000,   0.0000,  -3.0000,   0.0000,\n",
       "          1.0000,  -1.0000,  -3.0000,   5.0000,  -3.0000,  -1.0000,   1.0000,\n",
       "         -1.0000,   0.0000,   4.0000,  -1.0000,  -1.0000,  -1.0000,   1.0000,\n",
       "         -1.0000,  -1.0000,  -1.0000,   1.0000,   1.0000,  -5.0000,  -1.0000,\n",
       "          0.0000,   2.0000,   1.0000,   3.0000,  -1.0000,   0.0000,   1.0000,\n",
       "          1.0000,   2.0000,  -2.0000,   3.0000,   2.0000,   2.0000, -19.0000,\n",
       "          3.0000,  -1.0000,   0.0000,   2.0000,  -1.0000,  -3.0000,   1.0000,\n",
       "          1.0000,   1.0000,   0.0000,  -1.0000,  -2.0000,   1.0000,  -1.0000,\n",
       "         -5.0000,   2.0000,   4.0000,   1.0000,   1.0000,   0.0000,  -5.0000,\n",
       "          0.0000,   0.0000,  -1.0000,  -7.0000,  -2.0000,  -1.0000,   0.0000,\n",
       "          1.0000,   1.0000,   1.0000,   3.0000,  -2.0000,   0.0000,   2.0000,\n",
       "         -1.0000,  -4.0000,  -1.0000, -19.0000,   1.0000,   1.0000,   1.0000,\n",
       "          1.0000,   1.0000,   1.0000,   1.0000,  -3.0000,  -1.0000,   2.0000,\n",
       "         -1.0000,   2.0000,  -1.0000,   0.0000,   2.0000,  -1.0000,  -1.0000,\n",
       "          3.0000,   2.0000,  -3.0000,   2.0000,  -1.0000,   0.0000,   0.0000,\n",
       "          1.0000,  -1.0000,   3.0000,   5.0000,   2.0000,  -1.0000,   2.0000,\n",
       "         -5.0000,   1.0000,   2.0000,   2.0000,   0.0000,   1.0000,  -2.0000,\n",
       "         -1.0000,   1.0000,   0.0000,   1.0000,   1.0000,   0.0000,   1.0000,\n",
       "         -1.0000,   6.0000,   1.0000, -14.0000,   2.0000,  -1.0000,   1.0000,\n",
       "         -1.0000,  -1.0000,   2.0000,   2.0000,   2.0000,  -1.0000,   3.0000,\n",
       "          0.0000,  -2.0000,  -3.0000,   0.0000,  -1.0000,  -2.0000,   2.0000,\n",
       "          5.0000,   2.0000,  -1.0000,   1.0000,   0.0000,   1.0000,  -5.0000,\n",
       "          2.0000,   1.0000,  -1.0000,   4.0000,   1.0000,   0.0000,  -1.0000,\n",
       "         -1.0000,   1.0000,   0.0000,   1.0000,   1.0000,   2.0000,  -2.0000,\n",
       "         -1.0000,  -1.0000,   2.0000,  -1.0000,  -5.0000,  -1.0000,   3.0000,\n",
       "          1.0000,  -3.0000, -10.0000,   0.0000,   4.0000,  -3.0000,   0.0000,\n",
       "          2.0000,   0.0000,   0.0000,   0.0000,  -1.0000,   1.0000,   2.0000,\n",
       "         -5.0000,   1.0000,   1.0000,   0.0000,   1.0000,  -1.0000,  -1.0000,\n",
       "          2.0000,   3.0000,   1.0000,   2.0000,   2.0000,   1.0000,  -1.0000,\n",
       "          1.0000,  -7.0000,   3.0000,   1.0000,  -3.0000,  -5.0000,  -1.0000,\n",
       "          2.0000,   3.0000,   1.0000,   1.0000,  -1.0000,   2.0000,   4.0000,\n",
       "          0.0000,  -2.0000,   0.0000, -16.0000,  -3.0000,   0.0000,   1.0000,\n",
       "          0.0000,   3.0000,  -1.0000,   1.0000,   1.0000,   1.0000,   1.0000,\n",
       "        -17.0000,  -1.0000,   0.0000,  -1.0000,   1.0000,  -5.0000,   3.0000,\n",
       "          5.0000,   3.0000,  -9.0000,  -1.0000,  -1.0000,  -1.0000,  -1.0000,\n",
       "         -1.0000,  -1.0000,  -1.0000,  -8.0000,  -1.0000,  -8.0000,   2.0000,\n",
       "         -1.0000,   1.0000,   0.0000,  -2.0000,   1.0000,   0.0000,   0.0000,\n",
       "          3.0000,  -1.0000,   2.0000,   2.0000,   3.0000,  -1.0000,  -1.0000,\n",
       "          0.0000,   3.0000,   3.0000,   1.0000,  -1.0000,   0.0000,  -1.0000,\n",
       "          1.0000,   0.0000,   0.0000,   2.0000,   2.0000,   2.0000, -18.0000,\n",
       "          1.0000,  -2.0000,  -1.0000,  -1.0000,  -2.0000,   1.0000,   2.0000,\n",
       "          1.0000,   1.0000,  -1.0000,  -1.0000,   1.0000,  -1.0000,   1.0000,\n",
       "          1.0000,  -2.0000,  -1.0000,  -1.0000,   2.0000,   2.0000,   1.0000,\n",
       "         -5.0000,  -1.0000,  -1.0000,   0.0000,   1.0000,  -1.0000,   0.0000,\n",
       "          0.0000,   2.0000,   2.0000,   1.0000,  -1.0000,   0.0000,  -1.0000,\n",
       "          2.0000,  -1.0000,  -6.0000,  -1.0000,   5.0000,   1.0000,   0.0000,\n",
       "         -1.0000,  -1.0000,  -1.0000,   2.0000,   1.0000,   2.0000,  -2.0000,\n",
       "         -1.0000,   2.0000,   2.0000,   1.0000,  -2.0000,  -3.0000,   1.0000,\n",
       "          2.0000,  -2.0000,   3.0000,   2.0000,   1.0000,   4.0000,  -1.0000,\n",
       "          0.0000,   2.0000,   2.0000,   2.0000,   1.0000,  -1.0000,   0.0000,\n",
       "         -1.0000,   1.0000,   1.0000,   5.0000,   2.0000,  -1.0000,   1.0000,\n",
       "          4.0000,   1.0000,   2.0000,   1.0000,   0.0000,   2.0000,   2.0000,\n",
       "          0.0000,   1.0000,  -1.0000,   1.0000,  -1.0000,  -6.0000,   2.0000,\n",
       "         -3.0000,  -1.0000,  -1.0000,  -1.0000,   5.0000,   1.0000,   6.0000,\n",
       "          1.0000,   0.0000,   0.0000,   1.0000,   0.0000,  -1.0000,   2.0000,\n",
       "          3.0000,  -2.0000,   2.0000,   1.0000,  -4.0000,   0.0000,   1.0000,\n",
       "          2.0000,  -2.0000,   1.0000,   4.0000,   1.0000,  -1.0000,   1.0000,\n",
       "          1.0000,   1.0000,  -6.0000,   0.0000,   2.0000,  -1.0000,   2.0000,\n",
       "         -1.0000,   1.0000,   3.0000,   0.0000,  -1.0000,  -1.0000,  -1.0000,\n",
       "         -2.0000,   1.0000,   0.0000,  -1.0000,  -2.0000,   0.0000,  -5.0000,\n",
       "          2.0000,  -2.0000,   1.0000,   1.0000,   1.0000,   2.0000,   0.0000,\n",
       "          1.0000,  -1.0000,   0.0000,  -1.0000,  -3.0000,   1.0000,   2.0000,\n",
       "          2.0000,   2.0000,  -1.0000,  -1.0000,   0.0000,   5.0000,   0.0000,\n",
       "          2.0000,  -1.0000,   1.0000,   4.0000,  -1.0000,  -1.0000,   2.0000,\n",
       "         -1.0000,   3.0000,   0.0000,  -3.0000,  -1.0000,   0.0000,  -1.0000,\n",
       "          0.0000,   1.0000,  -1.0000,   0.0000,   1.0000,  -1.0000,  -1.0000,\n",
       "          0.0000,  -2.0000,   2.0000,   0.0000,   0.0000,   0.0000,   3.0000,\n",
       "        -10.0000,   3.0000,   1.0000,   0.0000,   0.0000,   2.0000,   2.0000,\n",
       "         -2.0000,   0.0000,   2.0000,  -1.0000,  -1.0000,   2.0000,  -2.0000,\n",
       "          1.0000,  -6.0000,   4.0000,   1.0000,   1.0000])"
      ]
     },
     "execution_count": 38,
     "metadata": {},
     "output_type": "execute_result"
    }
   ],
   "source": [
    "shift_range[train_indexes.long()]/0.05"
   ]
  },
  {
   "cell_type": "code",
   "execution_count": 39,
   "id": "e4513b5b",
   "metadata": {
    "ExecuteTime": {
     "end_time": "2023-02-22T16:48:32.595247Z",
     "start_time": "2023-02-22T16:48:32.588893Z"
    }
   },
   "outputs": [
    {
     "data": {
      "text/plain": [
       "tensor(10.3370)"
      ]
     },
     "execution_count": 39,
     "metadata": {},
     "output_type": "execute_result"
    }
   ],
   "source": [
    "100 * test_loss / std_test"
   ]
  },
  {
   "cell_type": "code",
   "execution_count": 40,
   "id": "904d1b2e",
   "metadata": {
    "ExecuteTime": {
     "end_time": "2023-02-22T16:48:33.093062Z",
     "start_time": "2023-02-22T16:48:33.088616Z"
    }
   },
   "outputs": [
    {
     "data": {
      "text/plain": [
       "tensor(10.3370)"
      ]
     },
     "execution_count": 40,
     "metadata": {},
     "output_type": "execute_result"
    }
   ],
   "source": [
    "atest_loss"
   ]
  },
  {
   "cell_type": "code",
   "execution_count": 41,
   "id": "3b25b946",
   "metadata": {
    "ExecuteTime": {
     "end_time": "2023-02-22T16:48:33.446991Z",
     "start_time": "2023-02-22T16:48:33.440510Z"
    }
   },
   "outputs": [
    {
     "data": {
      "text/plain": [
       "tensor([ -1.0000,  -1.0000,   2.0000,   2.0000,   3.0000,   0.0000,   2.0000,\n",
       "          3.0000,   2.0000,   2.0000,   2.0000,  -1.0000,  -3.0000,   0.0000,\n",
       "          2.0000,   3.0000,   0.0000,  -1.0000,  -1.0000,  -1.0000,  -1.0000,\n",
       "          1.0000,  -1.0000,   0.0000,   1.0000,  -1.0000,  -2.0000,   1.0000,\n",
       "          0.0000,  -1.0000,  -2.0000,  -1.0000,  -4.0000,   2.0000,  -1.0000,\n",
       "          1.0000,  -2.0000,  -3.0000,   3.0000,   1.0000,   2.0000,   1.0000,\n",
       "        -11.0000,   0.0000,   1.0000,  -2.0000,  -1.0000,   2.0000,   1.0000,\n",
       "          2.0000,  -3.0000,  -3.0000,   0.0000,   5.0000,  -1.0000,   0.0000,\n",
       "         -3.0000,  -1.0000,   1.0000,   1.0000,   0.0000,   0.0000,  -1.0000,\n",
       "          1.0000,   2.0000,   0.0000,   2.0000,   0.0000,   2.0000,   4.0000,\n",
       "          0.0000,   2.0000,  -4.0000,  -4.0000,   3.0000,  -1.0000,   2.0000,\n",
       "         -1.0000,   2.0000,   2.0000,  -1.0000,   2.0000,  -1.0000,   1.0000,\n",
       "         -4.0000,   2.0000,  -3.0000,   1.0000,  -1.0000,  -1.0000,  -1.0000,\n",
       "         -1.0000,   0.0000,  -1.0000,  -1.0000,   1.0000,  -2.0000,   2.0000,\n",
       "          1.0000,   1.0000,   2.0000,  -3.0000,   2.0000,  -1.0000,  -7.0000,\n",
       "         -1.0000,  -1.0000,  -1.0000,   0.0000,   6.0000,   3.0000,  -1.0000,\n",
       "          1.0000,   0.0000,   3.0000,   1.0000,  -2.0000,  -1.0000,  -8.0000,\n",
       "          1.0000,  -2.0000,  -2.0000,   2.0000,  -1.0000,   2.0000,  -4.0000,\n",
       "          1.0000,  -1.0000,  -4.0000,  -1.0000,   2.0000,  -1.0000,   3.0000,\n",
       "         -1.0000,  -1.0000,  -2.0000,  -1.0000,  -1.0000,  -1.0000,  -1.0000,\n",
       "          1.0000,   2.0000,   0.0000,  -3.0000,   1.0000,  -1.0000,  -2.0000,\n",
       "          0.0000,   1.0000,   2.0000,   0.0000,   1.0000,  -1.0000,   1.0000,\n",
       "          3.0000,  -1.0000,   3.0000,   1.0000,  -1.0000,   0.0000,   1.0000,\n",
       "         -1.0000,   2.0000,  -1.0000,  -1.0000,   2.0000,   2.0000,   2.0000,\n",
       "         -1.0000,  -2.0000,   1.0000,  -2.0000,   2.0000,  -1.0000,   2.0000,\n",
       "          6.0000,  -1.0000,   1.0000,   1.0000,   0.0000,  -8.0000,  -1.0000,\n",
       "          0.0000,   2.0000,  -1.0000,  -1.0000,   0.0000,   2.0000,   4.0000,\n",
       "         -1.0000,  -1.0000,  -2.0000,  -1.0000,   2.0000,  -1.0000,   1.0000,\n",
       "         -5.0000,   2.0000,  -1.0000,  -1.0000,   3.0000,   2.0000,  -2.0000,\n",
       "          1.0000,   0.0000,  -1.0000,   2.0000,  -1.0000])"
      ]
     },
     "execution_count": 41,
     "metadata": {},
     "output_type": "execute_result"
    }
   ],
   "source": [
    "shift_range[test_indexes.long()]/0.05"
   ]
  },
  {
   "cell_type": "code",
   "execution_count": 42,
   "id": "8ca3151b",
   "metadata": {
    "ExecuteTime": {
     "end_time": "2023-02-22T16:48:33.619571Z",
     "start_time": "2023-02-22T16:48:33.613052Z"
    }
   },
   "outputs": [
    {
     "data": {
      "text/plain": [
       "tensor(9.6875)"
      ]
     },
     "execution_count": 42,
     "metadata": {},
     "output_type": "execute_result"
    }
   ],
   "source": [
    "100 * total_loss/ std_all"
   ]
  },
  {
   "cell_type": "code",
   "execution_count": 43,
   "id": "8efa4b37",
   "metadata": {
    "ExecuteTime": {
     "end_time": "2023-02-22T16:48:34.576825Z",
     "start_time": "2023-02-22T16:48:34.570619Z"
    }
   },
   "outputs": [
    {
     "data": {
      "text/plain": [
       "tensor(9.6875)"
      ]
     },
     "execution_count": 43,
     "metadata": {},
     "output_type": "execute_result"
    }
   ],
   "source": [
    "atotal_loss"
   ]
  },
  {
   "cell_type": "code",
   "execution_count": 44,
   "id": "abb7f04d",
   "metadata": {
    "ExecuteTime": {
     "end_time": "2023-02-22T16:48:34.738828Z",
     "start_time": "2023-02-22T16:48:34.728860Z"
    }
   },
   "outputs": [
    {
     "data": {
      "text/plain": [
       "tensor([2., 1., 1., 1., 1., 1., 1., 1., 1., 1., 1., 1., 0., 1., 2., 1., 1., 1.,\n",
       "        1., 2., 1., 1., 1., 0., 1., 1., 1., 1., 0., 1., 0., 1., 0., 1., 2., 1.,\n",
       "        1., 2., 1., 1., 1., 1., 1., 0., 1., 0., 1., 2., 1., 1., 0., 1., 2., 1.,\n",
       "        1., 1., 1., 1., 2., 1., 1., 1., 1., 1., 1., 1., 2., 1., 1., 1., 1., 2.,\n",
       "        1., 0., 2., 1., 1., 1., 1., 1., 1., 0., 1., 1., 1., 1., 1., 1., 1., 1.,\n",
       "        1., 1., 2., 2., 1., 1., 1., 1., 1., 1.])"
      ]
     },
     "execution_count": 44,
     "metadata": {},
     "output_type": "execute_result"
    }
   ],
   "source": [
    "(shift_range[total_indexes.long()]/0.05)[939:1039]"
   ]
  },
  {
   "cell_type": "markdown",
   "id": "1cdc58d9",
   "metadata": {},
   "source": [
    "## Analytical"
   ]
  },
  {
   "cell_type": "code",
   "execution_count": 207,
   "id": "50dc881f",
   "metadata": {
    "ExecuteTime": {
     "end_time": "2023-02-22T16:25:54.246110Z",
     "start_time": "2023-02-22T16:25:54.092206Z"
    }
   },
   "outputs": [],
   "source": []
  },
  {
   "cell_type": "code",
   "execution_count": 47,
   "id": "f31a1f17",
   "metadata": {
    "ExecuteTime": {
     "end_time": "2023-02-22T17:09:24.697739Z",
     "start_time": "2023-02-22T16:51:19.032635Z"
    }
   },
   "outputs": [
    {
     "name": "stderr",
     "output_type": "stream",
     "text": [
      "100%|████████████████████████████████████████████████████████████████████████████████████████████████████████████████████████████████████████████████████████████████████████████| 831/831 [18:05<00:00,  1.31s/it]\n"
     ]
    }
   ],
   "source": [
    "#use alignment to make full dataset\n",
    "sigma = torch.tensor(0.3)\n",
    "dx = 0.05\n",
    "\n",
    "emin = -24.5537\n",
    "emax = 11.3464\n",
    "\n",
    "\n",
    "ndos = int((emax-emin+3) / dx) #number of points\n",
    "xdos = torch.linspace(emin-1.5, emax+1.5, ndos) # extend the energy grid by 3eV \n",
    "final_ldos = []\n",
    "with torch.no_grad():\n",
    "    for i in tqdm(range(len(train_index))):#for every structure    \n",
    "        i_ldos = torch.zeros(ndos)\n",
    "        for j in (full_eigen_energies[i]):\n",
    "            i_ldos += (torch.exp(-0.5*((soap_dataset.alignment[i] + xdos - j)/sigma)**2))\n",
    "        final_ldos.append(i_ldos * normalization[train_index[i]])\n",
    "\n",
    "#final_ldos = ((ldos.T * normalization ).T)* 2"
   ]
  },
  {
   "cell_type": "code",
   "execution_count": 49,
   "id": "a6aea555",
   "metadata": {
    "ExecuteTime": {
     "end_time": "2023-02-22T17:34:45.467536Z",
     "start_time": "2023-02-22T17:34:45.435532Z"
    }
   },
   "outputs": [],
   "source": [
    "final_ldos = torch.vstack(final_ldos)"
   ]
  },
  {
   "cell_type": "code",
   "execution_count": 52,
   "id": "e7f96737",
   "metadata": {
    "ExecuteTime": {
     "end_time": "2023-02-22T17:35:19.600650Z",
     "start_time": "2023-02-22T17:35:19.521844Z"
    }
   },
   "outputs": [],
   "source": [
    "\n"
   ]
  },
  {
   "cell_type": "code",
   "execution_count": null,
   "id": "871d4fce",
   "metadata": {
    "ExecuteTime": {
     "start_time": "2023-02-22T17:36:00.144Z"
    }
   },
   "outputs": [
    {
     "name": "stdout",
     "output_type": "stream",
     "text": [
      "training over\n"
     ]
    }
   ],
   "source": [
    "#def evaluate_performance(new_dos):\n",
    "\n",
    "\n",
    "\n",
    "\n",
    "with torch.no_grad():\n",
    "    Features = torch.hstack([Silicon.Features['structure_avedescriptors'][train_index].double(), torch.ones(len(train_index)).view(-1,1)])\n",
    "    Target = final_ldos\n",
    "    optimal_weights = torch.linalg.lstsq(Features, Target, driver = 'gelsd').solution\n",
    "    Total_Features = torch.hstack([Silicon.Features['structure_avedescriptors'].double(), torch.ones(len(Silicon.Features['structure_avedescriptors'])).view(-1,1)])\n",
    "    print (\"training over\")\n",
    "    shift_range = torch.tensor([0.05 * a for a in torch.arange(-80,80)])\n",
    "    Total_preds = Total_Features @ optimal_weights\n",
    "    atrain_loss, atrain_indexes = loss.t_get_BF_shift_index_error(Total_preds[train_index], ldos[train_index], shift_range, xdos, perc = True)\n",
    "    atest_loss, atest_indexes = loss.t_get_BF_shift_index_error(Total_preds[test_index], ldos[test_index], shift_range, xdos, perc = True)\n",
    "    atotal_loss, atotal_indexes = loss.t_get_BF_shift_index_error(Total_preds, ldos, shift_range, xdos, perc = True)\n",
    "\n"
   ]
  },
  {
   "cell_type": "code",
   "execution_count": null,
   "id": "622855e2",
   "metadata": {
    "ExecuteTime": {
     "start_time": "2023-02-22T17:36:17.485Z"
    }
   },
   "outputs": [],
   "source": [
    "print (atrain_loss)"
   ]
  },
  {
   "cell_type": "code",
   "execution_count": null,
   "id": "950af5af",
   "metadata": {
    "ExecuteTime": {
     "start_time": "2023-02-22T17:36:21.632Z"
    }
   },
   "outputs": [],
   "source": [
    "print (atest_loss)"
   ]
  },
  {
   "cell_type": "code",
   "execution_count": null,
   "id": "0266ad36",
   "metadata": {
    "ExecuteTime": {
     "start_time": "2023-02-22T17:36:25.236Z"
    }
   },
   "outputs": [],
   "source": [
    "print (atotal_loss)"
   ]
  },
  {
   "cell_type": "code",
   "execution_count": null,
   "id": "af2c332d",
   "metadata": {},
   "outputs": [],
   "source": []
  },
  {
   "cell_type": "code",
   "execution_count": 106,
   "id": "c82d1b52",
   "metadata": {
    "ExecuteTime": {
     "end_time": "2023-02-22T14:27:38.441374Z",
     "start_time": "2023-02-22T14:27:34.059252Z"
    }
   },
   "outputs": [],
   "source": []
  },
  {
   "cell_type": "code",
   "execution_count": 111,
   "id": "88c3c56f",
   "metadata": {
    "ExecuteTime": {
     "end_time": "2023-02-22T14:28:43.208743Z",
     "start_time": "2023-02-22T14:28:42.961990Z"
    }
   },
   "outputs": [
    {
     "data": {
      "text/plain": [
       "[<matplotlib.lines.Line2D at 0x7fb709cbe190>]"
      ]
     },
     "execution_count": 111,
     "metadata": {},
     "output_type": "execute_result"
    },
    {
     "data": {
      "image/png": "[encoded data removed]",
      "text/plain": [
       "<Figure size 432x288 with 1 Axes>"
      ]
     },
     "metadata": {
      "needs_background": "light"
     },
     "output_type": "display_data"
    }
   ],
   "source": [
    "%matplotlib inline\n",
    "i = 3\n",
    "plt.plot(xdos,new_dos[i].detach().numpy(), c = 'r')\n",
    "plt.plot(xdos, ldos[train_index[i]], c= 'b')"
   ]
  },
  {
   "cell_type": "code",
   "execution_count": 12,
   "id": "66786581",
   "metadata": {
    "ExecuteTime": {
     "end_time": "2023-02-16T08:39:06.823661Z",
     "start_time": "2023-02-16T08:39:06.819813Z"
    }
   },
   "outputs": [],
   "source": [
    "def generate_energy_index(eigenenergy_length):\n",
    "    n_structures = len(eigenenergy_length)\n",
    "    total_index = []\n",
    "    for i, e_vals in enumerate(eigenenergy_length):\n",
    "        indiv_index = torch.zeros(e_vals) + i\n",
    "        total_index.append(indiv_index)\n",
    "    total_index = torch.hstack(total_index)\n",
    "    return total_index.long()"
   ]
  },
  {
   "cell_type": "code",
   "execution_count": 13,
   "id": "54ca4d16",
   "metadata": {
    "ExecuteTime": {
     "end_time": "2023-02-16T08:39:07.380768Z",
     "start_time": "2023-02-16T08:39:07.157417Z"
    }
   },
   "outputs": [],
   "source": [
    "energy_index = generate_energy_index(eigenenergy_length)"
   ]
  },
  {
   "cell_type": "code",
   "execution_count": 14,
   "id": "c5a39d14",
   "metadata": {
    "ExecuteTime": {
     "end_time": "2023-02-16T08:39:07.473228Z",
     "start_time": "2023-02-16T08:39:07.387758Z"
    }
   },
   "outputs": [],
   "source": [
    "energies = torch.hstack(full_eigen_energies).view(-1,1)"
   ]
  },
  {
   "cell_type": "code",
   "execution_count": 15,
   "id": "d9e44023",
   "metadata": {
    "ExecuteTime": {
     "end_time": "2023-02-16T08:39:08.146583Z",
     "start_time": "2023-02-16T08:39:08.136158Z"
    }
   },
   "outputs": [],
   "source": [
    "def torch_generate_dos(energies, eigenenergy_length_t, normalization, splits):\n",
    "    ldoses = []\n",
    "    for i in tqdm(range(len(splits) - 1)):\n",
    "        indexes = generate_energy_index(eigenenergy_length_t[splits[i]:splits[i+1]])\n",
    "        E = energies[torch.sum(eigenenergy_length_t[:splits[i]]):torch.sum(eigenenergy_length_t[:splits[i]]) + torch.sum(eigenenergy_length_t[splits[i]:splits[i+1]])]\n",
    "        split_ldos = torch.zeros(splits[i+1] - splits[i], len(xdos))\n",
    "        \n",
    "        new_ldos = (torch.exp(-0.5*((xdos - E)/sigma)**2))\n",
    "        \n",
    "        split_ldos.index_add_(0, indexes, new_ldos)\n",
    "        \n",
    "        ldoses.append(split_ldos)\n",
    "    ldoses = torch.vstack(ldoses)     \n",
    "    \n",
    "    final_ldos = ((ldoses.T * normalization ).T)* 2\n",
    "    return final_ldos\n",
    "    \n"
   ]
  },
  {
   "cell_type": "code",
   "execution_count": 16,
   "id": "7689c586",
   "metadata": {
    "ExecuteTime": {
     "end_time": "2023-02-16T08:39:08.576690Z",
     "start_time": "2023-02-16T08:39:08.574219Z"
    }
   },
   "outputs": [],
   "source": [
    "# ldos2 = torch_generate_dos(energies, eigenenergy_length_t, normalization, [0, 100, 200, 300, 400, 500, 800, 1039])"
   ]
  },
  {
   "cell_type": "code",
   "execution_count": 17,
   "id": "d7efc2ab",
   "metadata": {
    "ExecuteTime": {
     "end_time": "2023-02-16T08:39:09.032679Z",
     "start_time": "2023-02-16T08:39:09.027183Z"
    }
   },
   "outputs": [
    {
     "data": {
      "text/plain": [
       "torch.Size([435])"
      ]
     },
     "execution_count": 17,
     "metadata": {},
     "output_type": "execute_result"
    }
   ],
   "source": [
    "alignment.shape"
   ]
  },
  {
   "cell_type": "code",
   "execution_count": 18,
   "id": "d61874f7",
   "metadata": {
    "ExecuteTime": {
     "end_time": "2023-02-16T08:39:09.588529Z",
     "start_time": "2023-02-16T08:39:09.585975Z"
    }
   },
   "outputs": [],
   "source": [
    "lr = 100\n",
    "n_epochs = 1000\n",
    "\n"
   ]
  },
  {
   "cell_type": "code",
   "execution_count": 19,
   "id": "54872698",
   "metadata": {
    "ExecuteTime": {
     "end_time": "2023-02-16T08:39:19.381624Z",
     "start_time": "2023-02-16T08:39:13.631029Z"
    }
   },
   "outputs": [
    {
     "name": "stderr",
     "output_type": "stream",
     "text": [
      "100%|████████████████████████████████████████████████████████████████████████████████████████████████████████████████████████████████████████████████████████████████████| 435/435 [00:05<00:00, 75.96it/s]\n"
     ]
    }
   ],
   "source": [
    "sigma = torch.tensor(0.3)\n",
    "dx = 0.05\n",
    "\n",
    "emin = -24.5537\n",
    "emax = 11.3464\n",
    "\n",
    "\n",
    "ndos = int((emax-emin+3) / dx) #number of points\n",
    "xdos = torch.linspace(emin-1.5, emax+1.5, ndos) # extend the energy grid by 3eV \n",
    "ldos = torch.zeros((len(small_index), ndos))\n",
    "for i in tqdm(range(len(small_index))):#for every structure    \n",
    "    ldos[i] = torch.sum(torch.exp(-0.5*((alignment[i] + xdos - full_eigen_energies[small_index[i]].view(-1,1))/sigma)**2), dim = 0)\n",
    "\n",
    "final_ldos = ((ldos.T * normalization ).T)* 2"
   ]
  },
  {
   "cell_type": "code",
   "execution_count": 20,
   "id": "60bd101f",
   "metadata": {
    "ExecuteTime": {
     "end_time": "2023-02-16T08:39:19.400819Z",
     "start_time": "2023-02-16T08:39:19.385744Z"
    }
   },
   "outputs": [],
   "source": [
    "loss = torch.sum((1 - torch.abs((torch.corrcoef(torch.hstack([kernel_features, final_ldos]).T)[0][1:])))**2)"
   ]
  },
  {
   "cell_type": "code",
   "execution_count": 21,
   "id": "908f44b7",
   "metadata": {
    "ExecuteTime": {
     "end_time": "2023-02-16T08:39:19.417545Z",
     "start_time": "2023-02-16T08:39:19.404028Z"
    }
   },
   "outputs": [
    {
     "name": "stdout",
     "output_type": "stream",
     "text": [
      "tensor(212.8861, grad_fn=<SumBackward0>)\n"
     ]
    }
   ],
   "source": [
    "print (loss)"
   ]
  },
  {
   "cell_type": "code",
   "execution_count": null,
   "id": "7e04ff2d",
   "metadata": {
    "ExecuteTime": {
     "start_time": "2023-02-16T08:39:58.336Z"
    }
   },
   "outputs": [
    {
     "name": "stderr",
     "output_type": "stream",
     "text": [
      "  0%|▏                                                                                                                                                                  | 1/1000 [00:09<2:45:56,  9.97s/it]"
     ]
    },
    {
     "name": "stdout",
     "output_type": "stream",
     "text": [
      "tensor(212.8861, grad_fn=<SumBackward0>)\n"
     ]
    },
    {
     "name": "stderr",
     "output_type": "stream",
     "text": [
      "\r",
      "  0%|▎                                                                                                                                                                  | 2/1000 [00:21<2:56:37, 10.62s/it]"
     ]
    },
    {
     "name": "stdout",
     "output_type": "stream",
     "text": [
      "tensor(212.1835, grad_fn=<SumBackward0>)\n"
     ]
    },
    {
     "name": "stderr",
     "output_type": "stream",
     "text": [
      "\r",
      "  0%|▍                                                                                                                                                                  | 3/1000 [00:29<2:41:25,  9.71s/it]"
     ]
    },
    {
     "name": "stdout",
     "output_type": "stream",
     "text": [
      "tensor(207.9559, grad_fn=<SumBackward0>)\n"
     ]
    },
    {
     "name": "stderr",
     "output_type": "stream",
     "text": [
      "\r",
      "  0%|▋                                                                                                                                                                  | 4/1000 [00:37<2:27:05,  8.86s/it]"
     ]
    },
    {
     "name": "stdout",
     "output_type": "stream",
     "text": [
      "tensor(204.2679, grad_fn=<SumBackward0>)\n"
     ]
    },
    {
     "name": "stderr",
     "output_type": "stream",
     "text": [
      "\r",
      "  0%|▊                                                                                                                                                                  | 5/1000 [00:45<2:25:24,  8.77s/it]"
     ]
    },
    {
     "name": "stdout",
     "output_type": "stream",
     "text": [
      "tensor(202.9791, grad_fn=<SumBackward0>)\n"
     ]
    },
    {
     "name": "stderr",
     "output_type": "stream",
     "text": [
      "\r",
      "  1%|▉                                                                                                                                                                  | 6/1000 [00:54<2:23:37,  8.67s/it]"
     ]
    },
    {
     "name": "stdout",
     "output_type": "stream",
     "text": [
      "tensor(203.2197, grad_fn=<SumBackward0>)\n"
     ]
    },
    {
     "name": "stderr",
     "output_type": "stream",
     "text": [
      "\r",
      "  1%|█▏                                                                                                                                                                 | 7/1000 [01:02<2:21:07,  8.53s/it]"
     ]
    },
    {
     "name": "stdout",
     "output_type": "stream",
     "text": [
      "tensor(203.7145, grad_fn=<SumBackward0>)\n"
     ]
    },
    {
     "name": "stderr",
     "output_type": "stream",
     "text": [
      "\r",
      "  1%|█▎                                                                                                                                                                 | 8/1000 [01:10<2:20:22,  8.49s/it]"
     ]
    },
    {
     "name": "stdout",
     "output_type": "stream",
     "text": [
      "tensor(203.2850, grad_fn=<SumBackward0>)\n"
     ]
    },
    {
     "name": "stderr",
     "output_type": "stream",
     "text": [
      "\r",
      "  1%|█▍                                                                                                                                                                 | 9/1000 [01:18<2:16:03,  8.24s/it]"
     ]
    },
    {
     "name": "stdout",
     "output_type": "stream",
     "text": [
      "tensor(202.0296, grad_fn=<SumBackward0>)\n"
     ]
    }
   ],
   "source": [
    "lr = 0.01\n",
    "alignment = torch.nn.parameter.Parameter(torch.zeros(len(small_index)))\n",
    "n_epochs = 1000\n",
    "\n",
    "optimizer = torch.optim.Adam(\n",
    "                [alignment],\n",
    "                lr=lr)#,  line_search_fn=\"strong_wolfe\")\n",
    "\n",
    "for i in tqdm(range(n_epochs)):\n",
    "    def closure():\n",
    "        optimizer.zero_grad()\n",
    "        sigma = torch.tensor(0.3)\n",
    "        dx = 0.05\n",
    "\n",
    "        emin = -24.5537\n",
    "        emax = 11.3464\n",
    "\n",
    "\n",
    "        ndos = int((emax-emin+3) / dx) #number of points\n",
    "        xdos = torch.linspace(emin-1.5, emax+1.5, ndos) # extend the energy grid by 3eV \n",
    "        ldos = torch.zeros((len(small_index), ndos))\n",
    "        for i in (range(len(small_index))):#for every structure    \n",
    "            ldos[i] = torch.sum(torch.exp(-0.5*((alignment[i] + xdos - full_eigen_energies[small_index[i]].view(-1,1))/sigma)**2), dim = 0)\n",
    "\n",
    "        final_ldos = ((ldos.T * normalization ).T)* 2\n",
    "        pc_loss = torch.sum((1 - torch.abs((torch.corrcoef(torch.hstack([kernel_features, final_ldos]).T)[0][1:])))**2)\n",
    "        #print (pc_loss)\n",
    "        pc_loss.backward()\n",
    "        return pc_loss\n",
    "    \n",
    "    mse = optimizer.step(closure)\n",
    "    \n",
    "    print (mse)"
   ]
  },
  {
   "cell_type": "code",
   "execution_count": null,
   "id": "a27ee561",
   "metadata": {},
   "outputs": [],
   "source": []
  },
  {
   "cell_type": "code",
   "execution_count": 80,
   "id": "50611879",
   "metadata": {
    "ExecuteTime": {
     "end_time": "2023-02-15T21:35:58.937150Z",
     "start_time": "2023-02-15T21:35:58.697835Z"
    }
   },
   "outputs": [
    {
     "data": {
      "text/plain": [
       "[<matplotlib.lines.Line2D at 0x7f10ec0a2c10>]"
      ]
     },
     "execution_count": 80,
     "metadata": {},
     "output_type": "execute_result"
    },
    {
     "data": {
      "image/png": "[encoded data removed]",
      "text/plain": [
       "<Figure size 432x288 with 1 Axes>"
      ]
     },
     "metadata": {
      "needs_background": "light"
     },
     "output_type": "display_data"
    }
   ],
   "source": [
    "%matplotlib inline\n",
    "index = 50\n",
    "plt.plot(xdos, o_ldos[small_index[index]], c = 'r')\n",
    "plt.plot(xdos, final_ldos[index].detach(), c = 'b')"
   ]
  },
  {
   "cell_type": "markdown",
   "id": "9e9f040b",
   "metadata": {},
   "source": [
    "torch.corrcoef\n",
    "torch.var"
   ]
  },
  {
   "cell_type": "code",
   "execution_count": 24,
   "id": "675d9ffc",
   "metadata": {
    "ExecuteTime": {
     "end_time": "2023-02-16T10:05:38.418301Z",
     "start_time": "2023-02-16T10:05:38.353655Z"
    }
   },
   "outputs": [
    {
     "name": "stdout",
     "output_type": "stream",
     "text": [
      "tensor(552253)\n"
     ]
    },
    {
     "ename": "NameError",
     "evalue": "name 'test_ldos' is not defined",
     "output_type": "error",
     "traceback": [
      "\u001b[0;31m---------------------------------------------------------------------------\u001b[0m",
      "\u001b[0;31mNameError\u001b[0m                                 Traceback (most recent call last)",
      "Input \u001b[0;32mIn [24]\u001b[0m, in \u001b[0;36m<cell line: 4>\u001b[0;34m()\u001b[0m\n\u001b[1;32m      1\u001b[0m tol \u001b[38;5;241m=\u001b[39m \u001b[38;5;241m1E-4\u001b[39m\n\u001b[1;32m      2\u001b[0m \u001b[38;5;28mprint\u001b[39m (torch\u001b[38;5;241m.\u001b[39msum(ldos \u001b[38;5;241m>\u001b[39m tol))\n\u001b[0;32m----> 4\u001b[0m plt\u001b[38;5;241m.\u001b[39mplot(xdos[(\u001b[43mtest_ldos\u001b[49m \u001b[38;5;241m>\u001b[39m tol)], test_ldos[(test_ldos \u001b[38;5;241m>\u001b[39m tol)])\n",
      "\u001b[0;31mNameError\u001b[0m: name 'test_ldos' is not defined"
     ]
    }
   ],
   "source": [
    "tol = 1E-4\n",
    "print (torch.sum(test_ldos > tol))\n",
    "\n",
    "plt.plot(xdos[(test_ldos > tol)], test_ldos[(test_ldos > tol)])"
   ]
  },
  {
   "cell_type": "code",
   "execution_count": 22,
   "id": "938df9f3",
   "metadata": {
    "ExecuteTime": {
     "end_time": "2023-02-16T10:05:21.184180Z",
     "start_time": "2023-02-16T10:05:20.379077Z"
    }
   },
   "outputs": [
    {
     "ename": "NameError",
     "evalue": "name 'test_ldos' is not defined",
     "output_type": "error",
     "traceback": [
      "\u001b[0;31m---------------------------------------------------------------------------\u001b[0m",
      "\u001b[0;31mNameError\u001b[0m                                 Traceback (most recent call last)",
      "Input \u001b[0;32mIn [22]\u001b[0m, in \u001b[0;36m<cell line: 1>\u001b[0;34m()\u001b[0m\n\u001b[0;32m----> 1\u001b[0m \u001b[38;5;28mlen\u001b[39m(xdos[(\u001b[43mtest_ldos\u001b[49m \u001b[38;5;241m>\u001b[39m tol)])\n",
      "\u001b[0;31mNameError\u001b[0m: name 'test_ldos' is not defined"
     ]
    }
   ],
   "source": [
    "len(xdos[(test_ldos > tol)])"
   ]
  },
  {
   "cell_type": "code",
   "execution_count": 212,
   "id": "e357e0fa",
   "metadata": {
    "ExecuteTime": {
     "end_time": "2023-02-15T18:43:55.022917Z",
     "start_time": "2023-02-15T18:43:55.004512Z"
    }
   },
   "outputs": [
    {
     "data": {
      "text/plain": [
       "tensor([6.3422e-155, 5.0089e-153, 3.8472e-151, 2.8738e-149, 2.0878e-147,\n",
       "        1.4751e-145, 1.0136e-143, 6.7735e-142, 4.4023e-140, 2.7826e-138,\n",
       "        1.7105e-136, 1.0226e-134, 5.9460e-133, 3.3623e-131, 1.8491e-129,\n",
       "        9.8900e-128, 5.1445e-126, 2.6026e-124, 1.2805e-122, 6.1272e-121,\n",
       "        2.8514e-119, 1.2906e-117, 5.6807e-116, 2.4319e-114, 1.0125e-112,\n",
       "        4.0999e-111, 1.6146e-109, 6.1840e-108, 2.3035e-106, 8.3453e-105,\n",
       "        2.9404e-103, 1.0076e-101, 3.3580e-100,  1.0885e-98,  3.4313e-97,\n",
       "         1.0520e-95,  3.1370e-94,  9.0977e-93,  2.5661e-91,  7.0396e-90,\n",
       "         1.8782e-88,  4.8739e-87,  1.2301e-85,  3.0194e-84,  7.2086e-83,\n",
       "         1.6738e-81,  3.7801e-80,  8.3031e-79,  1.7738e-77,  3.6858e-76,\n",
       "         7.4489e-75,  1.4642e-73,  2.7993e-72,  5.2054e-71,  9.4147e-70,\n",
       "         1.6562e-68,  2.8339e-67,  4.7164e-66,  7.6348e-65,  1.2021e-63,\n",
       "         1.8411e-62,  2.7426e-61,  3.9740e-60,  5.6011e-59,  7.6789e-58,\n",
       "         1.0240e-56,  1.3284e-55,  1.6761e-54,  2.0573e-53,  2.4563e-52,\n",
       "         2.8529e-51,  3.2233e-50,  3.5426e-49,  3.7876e-48,  3.9395e-47,\n",
       "         3.9860e-46,  3.9235e-45,  3.7572e-44,  3.5002e-43,  3.1723e-42,\n",
       "         2.7972e-41,  2.3996e-40,  2.0027e-39,  1.6263e-38,  1.2848e-37,\n",
       "         9.8763e-37,  7.3866e-36,  5.3754e-35,  3.8061e-34,  2.6223e-33,\n",
       "         1.7580e-32,  1.1468e-31,  7.2798e-31,  4.4967e-30,  2.7030e-29,\n",
       "         1.5811e-28,  9.0000e-28,  4.9857e-27,  2.6878e-26,  1.4102e-25,\n",
       "         7.2005e-25,  3.5783e-24,  1.7306e-23,  8.1466e-23,  3.7324e-22,\n",
       "         1.6644e-21,  7.2239e-21,  3.0518e-20,  1.2549e-19,  5.0228e-19,\n",
       "         1.9569e-18,  7.4212e-18,  2.7396e-17,  9.8450e-17,  3.4439e-16,\n",
       "         1.1728e-15,  3.8879e-15,  1.2547e-14,  3.9422e-14,  1.2058e-13,\n",
       "         3.5908e-13,  1.0411e-12,  2.9388e-12,  8.0771e-12,  2.1615e-11,\n",
       "         5.6326e-11,  1.4292e-10,  3.5316e-10,  8.4984e-10,  1.9917e-09,\n",
       "         4.5462e-09,  1.0108e-08,  2.1891e-08,  4.6188e-08,  9.4948e-08,\n",
       "         1.9018e-07,  3.7123e-07,  7.0625e-07,  1.3097e-06,  2.3680e-06,\n",
       "         4.1747e-06,  7.1780e-06,  1.2040e-05,  1.9703e-05,  3.1471e-05,\n",
       "         4.9073e-05,  7.4723e-05,  1.1115e-04,  1.6157e-04,  2.2961e-04,\n",
       "         3.1913e-04,  4.3403e-04,  5.7795e-04,  7.5390e-04,  9.6401e-04,\n",
       "         1.2092e-03,  1.4889e-03,  1.8013e-03,  2.1430e-03,  2.5095e-03,\n",
       "         2.8954e-03,  3.2947e-03,  3.7016e-03,  4.1104e-03,  4.5160e-03,\n",
       "         4.9145e-03,  5.3026e-03,  5.6785e-03,  6.0412e-03,  6.3907e-03,\n",
       "         6.7276e-03,  7.0533e-03,  7.3692e-03,  7.6766e-03,  7.9769e-03,\n",
       "         8.2709e-03,  8.5594e-03,  8.8429e-03,  9.1222e-03,  9.3985e-03,\n",
       "         9.6734e-03,  9.9487e-03,  1.0227e-02,  1.0510e-02,  1.0801e-02,\n",
       "         1.1099e-02,  1.1406e-02,  1.1722e-02,  1.2045e-02,  1.2374e-02,\n",
       "         1.2710e-02,  1.3052e-02,  1.3400e-02,  1.3755e-02,  1.4118e-02,\n",
       "         1.4490e-02,  1.4869e-02,  1.5254e-02,  1.5642e-02,  1.6028e-02,\n",
       "         1.6404e-02,  1.6766e-02,  1.7105e-02,  1.7414e-02,  1.7688e-02,\n",
       "         1.7922e-02,  1.8112e-02,  1.8255e-02,  1.8351e-02,  1.8399e-02,\n",
       "         1.8399e-02,  1.8352e-02,  1.8259e-02,  1.8120e-02,  1.7937e-02,\n",
       "         1.7710e-02,  1.7442e-02,  1.7136e-02,  1.6794e-02,  1.6423e-02,\n",
       "         1.6028e-02,  1.5613e-02,  1.5183e-02,  1.4743e-02,  1.4293e-02,\n",
       "         1.3835e-02,  1.3368e-02,  1.2889e-02,  1.2397e-02,  1.1888e-02,\n",
       "         1.1362e-02,  1.0818e-02,  1.0259e-02,  9.6895e-03,  9.1150e-03,\n",
       "         8.5447e-03,  7.9887e-03,  7.4592e-03,  6.9691e-03,  6.5323e-03,\n",
       "         6.1628e-03,  5.8745e-03,  5.6806e-03,  5.5934e-03,  5.6234e-03,\n",
       "         5.7799e-03,  6.0695e-03,  6.4967e-03,  7.0630e-03,  7.7663e-03,\n",
       "         8.6010e-03,  9.5568e-03,  1.0619e-02,  1.1768e-02,  1.2979e-02,\n",
       "         1.4224e-02,  1.5471e-02,  1.6688e-02,  1.7842e-02,  1.8901e-02,\n",
       "         1.9838e-02,  2.0628e-02,  2.1254e-02,  2.1703e-02,  2.1969e-02,\n",
       "         2.2054e-02,  2.1963e-02,  2.1709e-02,  2.1309e-02,  2.0785e-02,\n",
       "         2.0162e-02,  1.9465e-02,  1.8721e-02,  1.7956e-02,  1.7192e-02,\n",
       "         1.6449e-02,  1.5740e-02,  1.5075e-02,  1.4459e-02,  1.3892e-02,\n",
       "         1.3370e-02,  1.2888e-02,  1.2440e-02,  1.2019e-02,  1.1618e-02,\n",
       "         1.1233e-02,  1.0862e-02,  1.0505e-02,  1.0161e-02,  9.8354e-03,\n",
       "         9.5303e-03,  9.2505e-03,  9.0001e-03,  8.7829e-03,  8.6025e-03,\n",
       "         8.4619e-03,  8.3648e-03,  8.3153e-03,  8.3191e-03,  8.3840e-03,\n",
       "         8.5201e-03,  8.7394e-03,  9.0557e-03,  9.4823e-03,  1.0031e-02,\n",
       "         1.0711e-02,  1.1523e-02,  1.2465e-02,  1.3523e-02,  1.4678e-02,\n",
       "         1.5903e-02,  1.7166e-02,  1.8430e-02,  1.9662e-02,  2.0826e-02,\n",
       "         2.1895e-02,  2.2845e-02,  2.3663e-02,  2.4343e-02,  2.4887e-02,\n",
       "         2.5307e-02,  2.5619e-02,  2.5846e-02,  2.6013e-02,  2.6148e-02,\n",
       "         2.6274e-02,  2.6415e-02,  2.6587e-02,  2.6803e-02,  2.7072e-02,\n",
       "         2.7395e-02,  2.7774e-02,  2.8203e-02,  2.8676e-02,  2.9185e-02,\n",
       "         2.9720e-02,  3.0271e-02,  3.0826e-02,  3.1369e-02,  3.1886e-02,\n",
       "         3.2363e-02,  3.2785e-02,  3.3140e-02,  3.3418e-02,  3.3616e-02,\n",
       "         3.3734e-02,  3.3776e-02,  3.3752e-02,  3.3675e-02,  3.3559e-02,\n",
       "         3.3418e-02,  3.3263e-02,  3.3102e-02,  3.2942e-02,  3.2781e-02,\n",
       "         3.2618e-02,  3.2444e-02,  3.2252e-02,  3.2032e-02,  3.1775e-02,\n",
       "         3.1472e-02,  3.1116e-02,  3.0701e-02,  3.0226e-02,  2.9688e-02,\n",
       "         2.9089e-02,  2.8432e-02,  2.7722e-02,  2.6965e-02,  2.6168e-02,\n",
       "         2.5340e-02,  2.4489e-02,  2.3622e-02,  2.2749e-02,  2.1873e-02,\n",
       "         2.1000e-02,  2.0131e-02,  1.9268e-02,  1.8409e-02,  1.7553e-02,\n",
       "         1.6697e-02,  1.5840e-02,  1.4981e-02,  1.4119e-02,  1.3255e-02,\n",
       "         1.2392e-02,  1.1534e-02,  1.0685e-02,  9.8508e-03,  9.0375e-03,\n",
       "         8.2506e-03,  7.4957e-03,  6.7779e-03,  6.1023e-03,  5.4731e-03,\n",
       "         4.8947e-03,  4.3709e-03,  3.9051e-03,  3.5007e-03,  3.1604e-03,\n",
       "         2.8866e-03,  2.6809e-03,  2.5448e-03,  2.4785e-03,  2.4823e-03,\n",
       "         2.5554e-03,  2.6967e-03,  2.9047e-03,  3.1773e-03,  3.5120e-03,\n",
       "         3.9057e-03,  4.3549e-03,  4.8558e-03,  5.4040e-03,  5.9951e-03,\n",
       "         6.6248e-03,  7.2894e-03,  7.9860e-03,  8.7128e-03,  9.4696e-03,\n",
       "         1.0257e-02,  1.1078e-02,  1.1935e-02,  1.2832e-02,  1.3770e-02,\n",
       "         1.4753e-02,  1.5779e-02,  1.6847e-02,  1.7953e-02,  1.9089e-02,\n",
       "         2.0248e-02,  2.1419e-02,  2.2587e-02,  2.3740e-02,  2.4860e-02,\n",
       "         2.5930e-02,  2.6934e-02,  2.7854e-02,  2.8677e-02,  2.9391e-02,\n",
       "         2.9987e-02,  3.0465e-02,  3.0828e-02,  3.1083e-02,  3.1246e-02,\n",
       "         3.1334e-02,  3.1367e-02,  3.1367e-02,  3.1353e-02,  3.1345e-02,\n",
       "         3.1357e-02,  3.1402e-02,  3.1485e-02,  3.1612e-02,  3.1781e-02,\n",
       "         3.1991e-02,  3.2236e-02,  3.2511e-02,  3.2810e-02,  3.3127e-02,\n",
       "         3.3455e-02,  3.3790e-02,  3.4128e-02,  3.4464e-02,  3.4794e-02,\n",
       "         3.5115e-02,  3.5424e-02,  3.5715e-02,  3.5985e-02,  3.6228e-02,\n",
       "         3.6439e-02,  3.6610e-02,  3.6737e-02,  3.6813e-02,  3.6834e-02,\n",
       "         3.6796e-02,  3.6700e-02,  3.6546e-02,  3.6337e-02,  3.6082e-02,\n",
       "         3.5786e-02,  3.5457e-02,  3.5104e-02,  3.4733e-02,  3.4347e-02,\n",
       "         3.3949e-02,  3.3540e-02,  3.3121e-02,  3.2693e-02,  3.2260e-02,\n",
       "         3.1829e-02,  3.1409e-02,  3.1009e-02,  3.0644e-02,  3.0325e-02,\n",
       "         3.0061e-02,  2.9857e-02,  2.9716e-02,  2.9633e-02,  2.9600e-02,\n",
       "         2.9603e-02,  2.9629e-02,  2.9661e-02,  2.9684e-02,  2.9686e-02,\n",
       "         2.9655e-02,  2.9585e-02,  2.9473e-02,  2.9319e-02,  2.9126e-02,\n",
       "         2.8900e-02,  2.8650e-02,  2.8384e-02,  2.8113e-02,  2.7847e-02,\n",
       "         2.7594e-02,  2.7362e-02,  2.7156e-02,  2.6977e-02,  2.6824e-02,\n",
       "         2.6696e-02,  2.6588e-02,  2.6496e-02,  2.6415e-02,  2.6346e-02,\n",
       "         2.6287e-02,  2.6243e-02,  2.6218e-02,  2.6216e-02,  2.6243e-02,\n",
       "         2.6301e-02,  2.6393e-02,  2.6517e-02,  2.6669e-02,  2.6844e-02,\n",
       "         2.7035e-02,  2.7236e-02,  2.7439e-02,  2.7637e-02,  2.7824e-02,\n",
       "         2.7993e-02,  2.8140e-02,  2.8262e-02,  2.8354e-02,  2.8416e-02,\n",
       "         2.8448e-02,  2.8452e-02,  2.8433e-02,  2.8395e-02,  2.8345e-02,\n",
       "         2.8290e-02,  2.8237e-02,  2.8193e-02,  2.8165e-02,  2.8157e-02,\n",
       "         2.8174e-02,  2.8218e-02,  2.8288e-02,  2.8385e-02,  2.8504e-02,\n",
       "         2.8638e-02,  2.8781e-02,  2.8924e-02,  2.9058e-02,  2.9173e-02,\n",
       "         2.9263e-02,  2.9321e-02,  2.9345e-02,  2.9334e-02,  2.9291e-02,\n",
       "         2.9219e-02,  2.9125e-02,  2.9017e-02,  2.8904e-02,  2.8792e-02,\n",
       "         2.8691e-02,  2.8606e-02,  2.8541e-02,  2.8500e-02,  2.8481e-02,\n",
       "         2.8483e-02,  2.8499e-02,  2.8521e-02,  2.8540e-02,  2.8546e-02,\n",
       "         2.8530e-02,  2.8484e-02,  2.8405e-02,  2.8292e-02,  2.8148e-02,\n",
       "         2.7980e-02,  2.7796e-02,  2.7609e-02,  2.7430e-02,  2.7269e-02,\n",
       "         2.7134e-02,  2.7031e-02,  2.6963e-02,  2.6927e-02,  2.6919e-02,\n",
       "         2.6930e-02,  2.6948e-02,  2.6961e-02,  2.6952e-02,  2.6904e-02,\n",
       "         2.6801e-02,  2.6626e-02,  2.6365e-02,  2.6006e-02,  2.5543e-02,\n",
       "         2.4973e-02,  2.4301e-02,  2.3538e-02,  2.2700e-02,  2.1810e-02,\n",
       "         2.0892e-02,  1.9973e-02,  1.9080e-02,  1.8233e-02,  1.7450e-02,\n",
       "         1.6737e-02,  1.6094e-02,  1.5512e-02,  1.4972e-02,  1.4453e-02,\n",
       "         1.3929e-02,  1.3377e-02,  1.2778e-02,  1.2118e-02,  1.1393e-02,\n",
       "         1.0608e-02,  9.7757e-03,  8.9154e-03,  8.0504e-03,  7.2048e-03,\n",
       "         6.4011e-03,  5.6575e-03,  4.9864e-03,  4.3937e-03,  3.8789e-03,\n",
       "         3.4362e-03,  3.0560e-03,  2.7265e-03,  2.4358e-03,  2.1729e-03,\n",
       "         1.9294e-03,  1.6996e-03,  1.4805e-03,  1.2716e-03,  1.0744e-03,\n",
       "         8.9123e-04,  7.2458e-04,  5.7664e-04,  4.4874e-04,  3.4120e-04,\n",
       "         2.5331e-04,  1.8353e-04,  1.2972e-04,  8.9409e-05,  6.0078e-05,\n",
       "         3.9347e-05,  2.5111e-05,  1.5615e-05,  9.4585e-06,  5.5809e-06,\n",
       "         3.2071e-06,  1.7948e-06,  9.7804e-07,  5.1895e-07,  2.6809e-07,\n",
       "         1.3483e-07,  6.6014e-08,  3.1463e-08,  1.4596e-08,  6.5912e-09,\n",
       "         2.8969e-09,  1.2392e-09,  5.1590e-10,  2.0903e-10,  8.2419e-11,\n",
       "         3.1625e-11,  1.1809e-11,  4.2907e-12,  1.5171e-12,  5.2193e-13,\n",
       "         1.7472e-13,  5.6912e-14,  1.8037e-14,  5.5620e-15,  1.6688e-15,\n",
       "         4.8712e-16,  1.3835e-16,  3.8227e-17,  1.0276e-17,  2.6876e-18,\n",
       "         6.8383e-19,  1.6927e-19,  4.0763e-20,  9.5496e-21,  2.1764e-21,\n",
       "         4.8253e-22,  1.0407e-22,  2.1836e-23,  4.4569e-24,  8.8491e-25,\n",
       "         1.7091e-25,  3.2112e-26,  5.8689e-27,  1.0434e-27,  1.8044e-28,\n",
       "         3.0355e-29,  4.9671e-30,  7.9062e-31,  1.2241e-31,  1.8435e-32,\n",
       "         2.7007e-33,  3.8482e-34,  5.3338e-35,  7.1908e-36,  9.4296e-37,\n",
       "         1.2028e-37,  1.4922e-38,  1.8008e-39,  2.1137e-40,  2.4132e-41,\n",
       "         2.6798e-42,  2.8944e-43,  3.0408e-44,  3.1072e-45,  3.0882e-46,\n",
       "         2.9853e-47,  2.8069e-48,  2.5669e-49,  2.2832e-50,  1.9753e-51,\n",
       "         1.6621e-52,  1.3603e-53,  1.0828e-54,  8.3836e-56,  6.3130e-57,\n",
       "         4.6236e-58,  3.2936e-59,  2.2819e-60,  1.5377e-61,  1.0078e-62,\n",
       "         6.4239e-64,  3.9826e-65,  2.4015e-66,  1.4084e-67,  8.0333e-69,\n",
       "         4.4566e-70,  2.4046e-71,  1.2619e-72,  6.4403e-74,  3.1970e-75,\n",
       "         1.5435e-76,  7.2475e-78,  3.3098e-79,  1.4701e-80,  6.3506e-82,\n",
       "         2.6681e-83,  1.0903e-84,  4.3329e-86,  1.6748e-87,  6.2957e-89,\n",
       "         2.3018e-90,  8.1849e-92,  2.8306e-93,  9.5207e-95,  3.1144e-96,\n",
       "         9.9086e-98,  3.0660e-99, 9.2266e-101, 2.7005e-102, 7.6870e-104,\n",
       "        2.1281e-105, 5.7300e-107, 1.5005e-108])"
      ]
     },
     "execution_count": 212,
     "metadata": {},
     "output_type": "execute_result"
    }
   ],
   "source": [
    "ldos[0]"
   ]
  },
  {
   "cell_type": "code",
   "execution_count": 154,
   "id": "0d021141",
   "metadata": {
    "ExecuteTime": {
     "end_time": "2023-02-14T12:47:02.295618Z",
     "start_time": "2023-02-14T12:33:29.004700Z"
    }
   },
   "outputs": [
    {
     "name": "stderr",
     "output_type": "stream",
     "text": [
      "100%|██████████████████████████████████████████████████████████████████████████████████████████████████████████████████████████████████████████████████████████████████| 1039/1039 [13:33<00:00,  1.28it/s]\n"
     ]
    }
   ],
   "source": [
    "sigma = torch.tensor(0.3)\n",
    "dx = 0.05\n",
    "\n",
    "ndos = int((emax-emin+3) / dx) #number of points\n",
    "xdos = torch.linspace(emin-1.5, emax+1.5, ndos) # extend the energy grid by 3eV \n",
    "ldos = torch.zeros((len(full_eigen_energies), ndos))\n",
    "for i in tqdm(range(len(full_eigen_energies))):#for every structure    \n",
    "    for ei in full_eigen_energies[i]:#for every energy level\n",
    "        ldos[i] += torch.exp(-0.5*((xdos[:]-ei)/sigma)**2) #puts a gaussian centered on the energy level\n",
    "    ldos[i] *= 1/torch.sqrt(2*torch.tensor(np.pi)*sigma**2)/n_atoms[i]/len(full_eigen_energies[i]) #normalize"
   ]
  },
  {
   "cell_type": "code",
   "execution_count": 181,
   "id": "f7fd98cd",
   "metadata": {
    "ExecuteTime": {
     "end_time": "2023-02-14T13:14:29.018511Z",
     "start_time": "2023-02-14T13:00:48.948943Z"
    }
   },
   "outputs": [
    {
     "name": "stderr",
     "output_type": "stream",
     "text": [
      "100%|██████████████████████████████████████████████████████████████████████████████████████████████████████████████████████████████████████████████████████████████████| 1039/1039 [13:40<00:00,  1.27it/s]\n"
     ]
    }
   ],
   "source": [
    "sigma = torch.tensor(0.3)\n",
    "dx = 0.05\n",
    "\n",
    "ndos3 = int((emax-emin+3) / dx) #number of points\n",
    "xdos3 = torch.linspace(emin-1.5, emax+1.5, ndos) # extend the energy grid by 3eV \n",
    "ldos3 = torch.zeros((len(full_eigen_energies), ndos))\n",
    "for i in tqdm(range(len(eigen_energies))):#for every structure    \n",
    "    for ei in full_eigen_energies[i]:#for every energy level\n",
    "        ldos3[i] += torch.exp(-0.5*((xdos[:]-ei)/sigma)**2) #puts a gaussian centered on the energy level\n",
    "    ldos3[i] *= 1/torch.sqrt(2*np.pi*sigma**2)/n_atoms[i]/len(eigen_energies[i]) #normalize"
   ]
  },
  {
   "cell_type": "code",
   "execution_count": 139,
   "id": "c9f7e311",
   "metadata": {
    "ExecuteTime": {
     "end_time": "2023-02-13T19:02:53.046358Z",
     "start_time": "2023-02-13T19:02:52.696381Z"
    }
   },
   "outputs": [
    {
     "name": "stdout",
     "output_type": "stream",
     "text": [
      "SOAP PCA explained variance with 1 PCA is: [0.85417772]\n",
      "Kernel PCA explained variance with 1 PCA is: [0.76640756]\n"
     ]
    }
   ],
   "source": [
    "from sklearn.decomposition import PCA\n",
    "\n",
    "soap = Silicon.Features['structure_avedescriptors'] \n",
    "soap_pca = PCA(n_components = 1, svd_solver = \"full\")\n",
    "soap_pca.fit(soap)\n",
    "\n",
    "print (\"SOAP PCA explained variance with 1 PCA is: {}\".format(soap_pca.explained_variance_ratio_))\n",
    "\n",
    "PCA_soap = soap_pca.transform(soap)\n",
    "\n",
    "kernel = Silicon.Features['structure_avekerneldescriptors']\n",
    "kernel_pca = PCA(n_components = 1, svd_solver = \"full\")\n",
    "kernel_pca.fit(kernel)\n",
    "\n",
    "print (\"Kernel PCA explained variance with 1 PCA is: {}\".format(kernel_pca.explained_variance_ratio_))\n",
    "\n",
    "PCA_kernel = kernel_pca.transform(kernel)"
   ]
  },
  {
   "cell_type": "code",
   "execution_count": 146,
   "id": "110f93f1",
   "metadata": {
    "ExecuteTime": {
     "end_time": "2023-02-13T19:05:58.302764Z",
     "start_time": "2023-02-13T19:05:58.288914Z"
    }
   },
   "outputs": [
    {
     "data": {
      "text/plain": [
       "array([[-3.49913423e-03, -1.76411215e-02,  3.32522948e-02,\n",
       "         3.61629233e-01,  1.87222390e-01,  7.49472932e-02,\n",
       "         7.73753721e-02,  2.89413546e-02, -1.76411215e-02,\n",
       "         7.01613627e-04, -6.64714922e-03, -1.96539716e-02,\n",
       "        -1.21993389e-02, -6.67081254e-03, -4.36700539e-03,\n",
       "        -1.68577363e-03,  3.32522948e-02, -6.64714922e-03,\n",
       "         2.20352739e-02,  1.41889410e-01,  7.26851954e-02,\n",
       "         3.15241013e-02,  2.88627511e-02,  1.08549650e-02,\n",
       "         3.61629233e-01, -1.96539716e-02,  1.41889410e-01,\n",
       "         4.92546963e-01,  2.89406316e-01,  1.51981690e-01,\n",
       "         1.06534352e-01,  4.10607729e-02,  1.87222390e-01,\n",
       "        -1.21993389e-02,  7.26851954e-02,  2.89406316e-01,\n",
       "         1.62030561e-01,  8.08235013e-02,  6.02749031e-02,\n",
       "         2.31914869e-02,  7.49472932e-02, -6.67081254e-03,\n",
       "         3.15241013e-02,  1.51981690e-01,  8.08235013e-02,\n",
       "         3.70043392e-02,  3.02939232e-02,  1.15274716e-02,\n",
       "         7.73753721e-02, -4.36700539e-03,  2.88627511e-02,\n",
       "         1.06534352e-01,  6.02749031e-02,  3.02939232e-02,\n",
       "         2.17846734e-02,  8.37328373e-03,  2.89413546e-02,\n",
       "        -1.68577363e-03,  1.08549650e-02,  4.10607729e-02,\n",
       "         2.31914869e-02,  1.15274716e-02,  8.37328373e-03,\n",
       "         3.21169845e-03, -2.42678062e-05,  5.11123332e-05,\n",
       "        -3.53316626e-04, -5.69486606e-04, -3.00272506e-04,\n",
       "        -2.40257378e-04, -8.47122357e-05, -3.94519317e-05,\n",
       "         5.11123332e-05, -1.69061333e-04,  8.91359912e-04,\n",
       "         1.52903701e-03,  7.98658394e-04,  5.79778184e-04,\n",
       "         1.83320028e-04,  8.26635902e-05, -3.53316626e-04,\n",
       "         8.91359912e-04, -5.43889188e-03, -9.33776686e-03,\n",
       "        -5.16824236e-03, -3.94312423e-03, -1.41001255e-03,\n",
       "        -6.45440361e-04, -5.69486606e-04,  1.52903701e-03,\n",
       "        -9.33776686e-03, -1.70537584e-02, -9.57630675e-03,\n",
       "        -6.39819664e-03, -2.20517209e-03, -9.70570198e-04,\n",
       "        -3.00272506e-04,  7.98658394e-04, -5.16824236e-03,\n",
       "        -9.57630675e-03, -6.90821221e-03, -4.72774768e-03,\n",
       "        -1.80610336e-03, -7.53570430e-04, -2.40257378e-04,\n",
       "         5.79778184e-04, -3.94312423e-03, -6.39819664e-03,\n",
       "        -4.72774768e-03, -3.68062261e-03, -1.42088201e-03,\n",
       "        -6.01509578e-04, -8.47122357e-05,  1.83320028e-04,\n",
       "        -1.41001255e-03, -2.20517209e-03, -1.80610336e-03,\n",
       "        -1.42088201e-03, -5.76636427e-04, -2.39698375e-04,\n",
       "        -3.94519317e-05,  8.26635902e-05, -6.45440361e-04,\n",
       "        -9.70570198e-04, -7.53570430e-04, -6.01509578e-04,\n",
       "        -2.39698375e-04, -1.00730273e-04, -8.58758363e-06,\n",
       "         3.54320192e-05, -1.33048376e-04, -4.02508982e-04,\n",
       "        -9.06240701e-05,  1.25316756e-05,  6.69886108e-06,\n",
       "        -3.79706680e-06,  3.54320192e-05, -4.69333435e-05,\n",
       "         6.44297922e-04,  4.61774643e-04,  2.24269773e-04,\n",
       "        -3.27066608e-05, -1.11055172e-05,  8.79788855e-06,\n",
       "        -1.33048376e-04,  6.44297922e-04, -2.00324396e-03,\n",
       "        -6.23215987e-03, -1.12522536e-03, -3.43541622e-06,\n",
       "         1.58350714e-04, -2.30601944e-05, -4.02508982e-04,\n",
       "         4.61774643e-04, -6.23215987e-03, -5.40760398e-03,\n",
       "        -1.82666612e-03, -4.18024769e-05,  2.30771920e-04,\n",
       "        -2.17776046e-05, -9.06240701e-05,  2.24269773e-04,\n",
       "        -1.12522536e-03, -1.82666612e-03, -3.44104695e-04,\n",
       "        -8.42776342e-04, -8.02835618e-06,  2.13334142e-05,\n",
       "         1.25316756e-05, -3.27066608e-05, -3.43541622e-06,\n",
       "        -4.18024769e-05, -8.42776342e-04, -4.37251369e-04,\n",
       "        -2.51613975e-04, -9.74882526e-05,  6.69886108e-06,\n",
       "        -1.11055172e-05,  1.58350714e-04,  2.30771920e-04,\n",
       "        -8.02835618e-06, -2.51613975e-04, -8.49561794e-05,\n",
       "        -2.61261272e-05, -3.79706680e-06,  8.79788855e-06,\n",
       "        -2.30601944e-05, -2.17776046e-05,  2.13334142e-05,\n",
       "        -9.74882526e-05, -2.61261272e-05, -8.82993811e-06,\n",
       "        -1.36932787e-04,  3.14708918e-04, -2.45644041e-03,\n",
       "        -4.91953300e-03, -9.45603141e-04,  4.32227611e-04,\n",
       "         1.70934099e-04,  1.82215577e-05,  3.14708918e-04,\n",
       "        -7.39813355e-04,  5.39783324e-03,  1.00309471e-02,\n",
       "         1.77314627e-03, -7.10253863e-04, -3.82378572e-04,\n",
       "        -4.25116022e-05, -2.45644041e-03,  5.39783324e-03,\n",
       "        -4.06359761e-02, -7.10010143e-02, -1.12217390e-02,\n",
       "         5.20759821e-03,  2.69665377e-03,  1.12269107e-04,\n",
       "        -4.91953300e-03,  1.00309471e-02, -7.10010143e-02,\n",
       "        -9.03459590e-02, -5.51929567e-03,  2.30618802e-03,\n",
       "         4.41800631e-03, -2.48145527e-04, -9.45603141e-04,\n",
       "         1.77314627e-03, -1.12217390e-02, -5.51929567e-03,\n",
       "         2.20724073e-03, -1.90025875e-03,  4.85091238e-04,\n",
       "        -2.30001097e-04,  4.32227611e-04, -7.10253863e-04,\n",
       "         5.20759821e-03,  2.30618802e-03, -1.90025875e-03,\n",
       "        -1.47095066e-04, -3.85901561e-04,  7.76001765e-05,\n",
       "         1.70934099e-04, -3.82378572e-04,  2.69665377e-03,\n",
       "         4.41800631e-03,  4.85091238e-04, -3.85901561e-04,\n",
       "        -2.27680329e-04, -1.73486176e-05,  1.82215577e-05,\n",
       "        -4.25116022e-05,  1.12269107e-04, -2.48145527e-04,\n",
       "        -2.30001097e-04,  7.76001765e-05, -1.73486176e-05,\n",
       "         4.65229984e-06,  3.17205927e-04, -8.76536785e-04,\n",
       "         3.50296059e-03,  4.71843202e-03, -2.69920876e-03,\n",
       "         1.43909137e-04, -9.16594629e-05,  1.13397437e-04,\n",
       "        -8.76536785e-04,  2.45432174e-03, -9.84106713e-03,\n",
       "        -1.39200745e-02,  6.91016052e-03, -3.64375614e-04,\n",
       "         2.88172028e-04, -3.00361411e-04,  3.50296059e-03,\n",
       "        -9.84106713e-03,  3.74407831e-02,  5.06135592e-02,\n",
       "        -3.43059449e-02,  1.25872089e-03, -6.90009087e-04,\n",
       "         1.44113709e-03,  4.71843202e-03, -1.39200745e-02,\n",
       "         5.06135592e-02,  7.61404092e-02, -4.66312567e-02,\n",
       "         1.01025823e-03, -8.37839837e-04,  2.07138845e-03,\n",
       "        -2.69920876e-03,  6.91016052e-03, -3.43059449e-02,\n",
       "        -4.66312567e-02,  6.76587152e-03, -2.70728159e-03,\n",
       "         1.78997504e-03, -3.28286014e-04,  1.43909137e-04,\n",
       "        -3.64375614e-04,  1.25872089e-03,  1.01025823e-03,\n",
       "        -2.70728159e-03, -4.12028445e-04, -8.67012673e-05,\n",
       "         5.88660250e-05, -9.16594629e-05,  2.88172028e-04,\n",
       "        -6.90009087e-04, -8.37839837e-04,  1.78997504e-03,\n",
       "        -8.67012673e-05, -1.03002646e-04, -9.94709926e-05,\n",
       "         1.13397437e-04, -3.00361411e-04,  1.44113709e-03,\n",
       "         2.07138845e-03, -3.28286014e-04,  5.88660250e-05,\n",
       "        -9.94709926e-05,  5.47791295e-06,  2.69703453e-05,\n",
       "        -1.10821617e-04,  4.41077242e-04,  1.23213413e-03,\n",
       "         1.50384057e-05, -1.15836237e-04,  1.38452625e-05,\n",
       "         2.04876918e-05, -1.10821617e-04,  4.22802069e-04,\n",
       "        -1.72640876e-03, -4.46305808e-03,  9.17482665e-06,\n",
       "         3.79278770e-04, -2.60887171e-05, -7.11566938e-05,\n",
       "         4.41077242e-04, -1.72640876e-03,  7.03149316e-03,\n",
       "         1.87433195e-02, -1.58944095e-04, -1.84394597e-03,\n",
       "         1.64785462e-04,  3.17329064e-04,  1.23213413e-03,\n",
       "        -4.46305808e-03,  1.87433195e-02,  4.53418297e-02,\n",
       "        -8.67120540e-04, -3.81488630e-03,  8.44223976e-05,\n",
       "         7.13357786e-04,  1.50384057e-05,  9.17482665e-06,\n",
       "        -1.58944095e-04, -8.67120540e-04, -2.30985229e-03,\n",
       "        -1.13637796e-03, -1.09402371e-04,  4.47829321e-05,\n",
       "        -1.15836237e-04,  3.79278770e-04, -1.84394597e-03,\n",
       "        -3.81488630e-03, -1.13637796e-03, -5.18684389e-04,\n",
       "        -6.37093505e-05, -4.47195135e-05,  1.38452625e-05,\n",
       "        -2.60887171e-05,  1.64785462e-04,  8.44223976e-05,\n",
       "        -1.09402371e-04, -6.37093505e-05, -5.49075207e-05,\n",
       "        -1.44111513e-05,  2.04876918e-05, -7.11566938e-05,\n",
       "         3.17329064e-04,  7.13357786e-04,  4.47829321e-05,\n",
       "        -4.47195135e-05, -1.44111513e-05,  3.71990815e-06,\n",
       "        -8.84232851e-05,  2.13432424e-04, -1.05365352e-03,\n",
       "        -1.28227484e-03,  1.03529794e-03,  4.26027676e-04,\n",
       "         1.97772524e-04,  3.48733255e-05,  2.13432424e-04,\n",
       "        -3.84820427e-04,  2.14430254e-03,  5.43098790e-04,\n",
       "        -3.77062969e-03, -9.54267572e-04, -4.48106798e-04,\n",
       "        -8.23291730e-05, -1.05365352e-03,  2.14430254e-03,\n",
       "        -1.11990161e-02, -7.06210927e-03,  1.65057707e-02,\n",
       "         4.76842957e-03,  2.22422284e-03,  3.92803788e-04,\n",
       "        -1.28227484e-03,  5.43098790e-04, -7.06210927e-03,\n",
       "         3.26782253e-02,  4.05656950e-02,  4.51914962e-03,\n",
       "         2.11034472e-03,  3.70105452e-04,  1.03529794e-03,\n",
       "        -3.77062969e-03,  1.65057707e-02,  4.05656950e-02,\n",
       "         1.45538059e-04, -6.85922464e-03, -2.82650992e-03,\n",
       "        -4.43771147e-04,  4.26027676e-04, -9.54267572e-04,\n",
       "         4.76842957e-03,  4.51914962e-03, -6.85922464e-03,\n",
       "        -3.18102152e-03, -1.14176178e-03, -1.75230454e-04,\n",
       "         1.97772524e-04, -4.48106798e-04,  2.22422284e-03,\n",
       "         2.11034472e-03, -2.82650992e-03, -1.14176178e-03,\n",
       "        -4.65548759e-04, -7.20415672e-05,  3.48733255e-05,\n",
       "        -8.23291730e-05,  3.92803788e-04,  3.70105452e-04,\n",
       "        -4.43771147e-04, -1.75230454e-04, -7.20415672e-05,\n",
       "        -7.51907251e-06]])"
      ]
     },
     "execution_count": 146,
     "metadata": {},
     "output_type": "execute_result"
    }
   ],
   "source": [
    "soap_pca.components_"
   ]
  },
  {
   "cell_type": "markdown",
   "id": "30c25902",
   "metadata": {},
   "source": [
    "## Baseline Model (SOAP)"
   ]
  },
  {
   "cell_type": "code",
   "execution_count": 325,
   "id": "3b29440b",
   "metadata": {
    "ExecuteTime": {
     "end_time": "2023-02-21T19:02:24.430143Z",
     "start_time": "2023-02-21T19:02:24.150335Z"
    }
   },
   "outputs": [
    {
     "name": "stdout",
     "output_type": "stream",
     "text": [
      "tensor(0.0613)\n",
      "tensor(0.0636)\n"
     ]
    }
   ],
   "source": [
    "from sklearn.linear_model import Ridge\n",
    "from dostools.loss import loss\n",
    "from dostools.consistency import consistency\n",
    "\n",
    "Features = copy.deepcopy(PCA_kernel)\n",
    "o_ldos = torch.tensor(data.load_ldos())\n",
    "o_ldos *= 2\n",
    "y_pw = o_ldos# - o_ldos[train_index].mean(axis = 0)\n",
    "y_shifted = copy.deepcopy(y_pw)\n",
    "#y_shifted = consistency.shifted_ldos()\n",
    "\n",
    "baselinemodel = Ridge(alpha = 0, fit_intercept = True, solver = 'svd')\n",
    "\n",
    "x = Features[train_index]\n",
    "y = y_shifted[train_index]\n",
    "\n",
    "baselinemodel.fit(x,y)\n",
    "\n",
    "baseline_predictions = baselinemodel.predict(x)\n",
    "train_rmse = loss.t_get_rmse(torch.tensor(baseline_predictions), y)\n",
    "\n",
    "# small_test_index = torch.arange(1039)\n",
    "# small_test_index[small_index] = False\n",
    "# small_test_index = small_test_index.nonzero().flatten()\n",
    "\n",
    "\n",
    "baseline_test_predictions = baselinemodel.predict(Features[test_index])\n",
    "test_rmse = loss.t_get_rmse(torch.tensor(baseline_test_predictions), y_shifted[test_index])\n",
    "\n",
    "print(train_rmse)\n",
    "print(test_rmse)"
   ]
  },
  {
   "cell_type": "markdown",
   "id": "ec309322",
   "metadata": {},
   "source": [
    "## Misc Visualizations"
   ]
  },
  {
   "cell_type": "code",
   "execution_count": 326,
   "id": "021bfb0e",
   "metadata": {
    "ExecuteTime": {
     "end_time": "2023-02-21T19:05:40.302401Z",
     "start_time": "2023-02-21T19:05:39.368377Z"
    }
   },
   "outputs": [
    {
     "data": {
      "text/plain": [
       "[<matplotlib.lines.Line2D at 0x7f6e384d7370>]"
      ]
     },
     "execution_count": 326,
     "metadata": {},
     "output_type": "execute_result"
    },
    {
     "data": {
      "image/png": "[encoded data removed]",
      "text/plain": [
       "<Figure size 432x288 with 1 Axes>"
      ]
     },
     "metadata": {
      "needs_background": "light"
     },
     "output_type": "display_data"
    }
   ],
   "source": [
    "plt.plot(xdos, ldos[700])"
   ]
  },
  {
   "cell_type": "code",
   "execution_count": 194,
   "id": "999cfd9c",
   "metadata": {
    "ExecuteTime": {
     "end_time": "2023-02-21T15:10:19.556678Z",
     "start_time": "2023-02-21T15:10:18.772098Z"
    }
   },
   "outputs": [
    {
     "data": {
      "text/plain": [
       "<matplotlib.collections.PathCollection at 0x7f6e3a747850>"
      ]
     },
     "execution_count": 194,
     "metadata": {},
     "output_type": "execute_result"
    },
    {
     "data": {
      "image/png": "[encoded data removed]",
      "text/plain": [
       "<Figure size 432x288 with 1 Axes>"
      ]
     },
     "metadata": {
      "needs_background": "light"
     },
     "output_type": "display_data"
    }
   ],
   "source": [
    "plt.plot(np.array([1,0.5,0.1,0.05,0.01,0.001]), np.array([0.6768, 0.0426, 0.0079, 0.0036, 0.0019, 0.0017]))\n",
    "plt.scatter(np.array([1,0.5,0.1,0.05,0.01,0.001]), np.array([0.6768, 0.0426, 0.0079, 0.0036, 0.0019, 0.0017]))"
   ]
  },
  {
   "cell_type": "code",
   "execution_count": null,
   "id": "8981b05b",
   "metadata": {},
   "outputs": [],
   "source": [
    "1\n",
    "tensor(24)\n",
    "tensor(0.6768)\n",
    "\n",
    "5E-1\n",
    "tensor(49)\n",
    "tensor(0.0426)\n",
    "\n",
    "\n",
    "1E-1\n",
    "tensor(245)\n",
    "tensor(0.0079)\n",
    "\n",
    "5E-2\n",
    "tensor(484)\n",
    "tensor(0.0036)\n",
    "\n",
    "1E-2 \n",
    "tensor(2149)\n",
    "tensor(0.0019)\n",
    "\n",
    "1E-3\n",
    "tensor(7013)\n",
    "tensor(0.0017)"
   ]
  }
 ],
 "metadata": {
  "kernelspec": {
   "display_name": "Python 3 (ipykernel)",
   "language": "python",
   "name": "python3"
  },
  "language_info": {
   "codemirror_mode": {
    "name": "ipython",
    "version": 3
   },
   "file_extension": ".py",
   "mimetype": "text/x-python",
   "name": "python",
   "nbconvert_exporter": "python",
   "pygments_lexer": "ipython3",
   "version": "3.9.12"
  },
  "toc": {
   "base_numbering": 1,
   "nav_menu": {},
   "number_sections": true,
   "sideBar": true,
   "skip_h1_title": false,
   "title_cell": "Table of Contents",
   "title_sidebar": "Contents",
   "toc_cell": false,
   "toc_position": {
    "height": "calc(100% - 180px)",
    "left": "10px",
    "top": "150px",
    "width": "165px"
   },
   "toc_section_display": true,
   "toc_window_display": true
  }
 },
 "nbformat": 4,
 "nbformat_minor": 5
}
