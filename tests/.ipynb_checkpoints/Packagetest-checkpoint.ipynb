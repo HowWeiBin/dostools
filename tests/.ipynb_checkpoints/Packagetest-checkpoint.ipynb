{
 "cells": [
  {
   "cell_type": "markdown",
   "id": "84565b74",
   "metadata": {
    "hide_input": false
   },
   "source": [
    "## Imports"
   ]
  },
  {
   "cell_type": "code",
   "execution_count": 1,
   "id": "dfdaeca7",
   "metadata": {
    "ExecuteTime": {
     "end_time": "2023-02-27T11:47:17.410174Z",
     "start_time": "2023-02-27T11:47:15.226301Z"
    }
   },
   "outputs": [],
   "source": [
    "import dostools\n",
    "import importlib\n",
    "import numpy as np\n",
    "import pickle\n",
    "import torch\n",
    "import sys\n",
    "import matplotlib.pyplot as plt\n",
    "torch.set_default_dtype(torch.float64) \n",
    "sys.modules['dostools.src'] = dostools"
   ]
  },
  {
   "cell_type": "code",
   "execution_count": 2,
   "id": "7ccbf26d",
   "metadata": {
    "ExecuteTime": {
     "end_time": "2023-02-27T11:47:21.032175Z",
     "start_time": "2023-02-27T11:47:18.503283Z"
    }
   },
   "outputs": [
    {
     "name": "stdout",
     "output_type": "stream",
     "text": [
      "ldos shape is torch.Size([1039, 778])\n",
      "mean dos shape is torch.Size([778])\n",
      "Variance covered with 10 PCs is = 0.9871211778950163\n"
     ]
    }
   ],
   "source": [
    "import dostools.datasets.data as data\n",
    "import dostools.utils.utils as utils\n",
    "\n",
    "n_structures = 1039\n",
    "np.random.seed(0)\n",
    "n_train = int(0.8 * n_structures)\n",
    "train_index = np.arange(n_structures)\n",
    "np.random.shuffle(train_index)\n",
    "test_index = train_index[n_train:]\n",
    "train_index = train_index[:n_train]\n",
    "\n",
    "with torch.no_grad():\n",
    "    structures = data.load_structures(\":\")\n",
    "    n_structures = len(structures) #total number of structures\n",
    "    for structure in structures:#implement periodicity\n",
    "        structure.wrap(eps = 1e-12) \n",
    "    n_atoms = np.zeros(n_structures, dtype = int) #stores number of atoms in each structures\n",
    "    for i in range(n_structures):\n",
    "        n_atoms[i] = len(structures[i])\n",
    "\n",
    "    #eigenergies, emin, emax = dostools.src.datasets.data.load_eigenenergies(unpack = True, n_structures = len(structures))\n",
    "    xdos = torch.tensor(data.load_xdos())\n",
    "    ldos = torch.tensor(data.load_ldos())\n",
    "    ldos *= 2\n",
    "\n",
    "    print (\"ldos shape is {}\".format(ldos.shape))\n",
    "    mean_dos_per_atom = ldos[train_index].mean(axis = 0) #only calculated for train set to prevent data leakage\n",
    "    print (\"mean dos shape is {}\".format(mean_dos_per_atom.shape))\n",
    "    \n",
    "    \n",
    "    y_pw = ldos - mean_dos_per_atom\n",
    "    y_lcdf = torch.cumsum(y_pw, dim = 1)\n",
    "    _, pc_vectors = utils.build_pc(ldos[train_index], mean_dos_per_atom[None,:], n_pc = 10)\n",
    "    y_pc = utils.build_coeffs(ldos - mean_dos_per_atom[None,:], pc_vectors)\n",
    "    Silicon = data.load_features()\n",
    "    kMM = data.load_kMM()"
   ]
  },
  {
   "cell_type": "markdown",
   "id": "3a7c7af2",
   "metadata": {},
   "source": [
    "## Evaluator"
   ]
  },
  {
   "cell_type": "code",
   "execution_count": 3,
   "id": "8cfe1751",
   "metadata": {
    "ExecuteTime": {
     "end_time": "2023-02-24T19:53:37.316600Z",
     "start_time": "2023-02-24T19:53:37.279220Z"
    }
   },
   "outputs": [],
   "source": [
    "import dostools.evaluation.evaluation as evaluation\n",
    "importlib.reload(evaluation)\n",
    "import dostools.models.training as training\n",
    "importlib.reload(training)\n",
    "\n",
    "targets = {\n",
    "    'pw' : ldos,\n",
    "    'lcdf' : y_lcdf,\n",
    "    'pc' : y_pc\n",
    "}\n",
    "evaluator = evaluation.Evaluator(targets, xdos, mean_dos_per_atom)"
   ]
  },
  {
   "cell_type": "markdown",
   "id": "2db6462d",
   "metadata": {},
   "source": [
    "## Analytical Models"
   ]
  },
  {
   "cell_type": "code",
   "execution_count": 15,
   "id": "778eedc2",
   "metadata": {
    "ExecuteTime": {
     "end_time": "2023-02-24T20:02:37.787774Z",
     "start_time": "2023-02-24T20:00:51.807339Z"
    },
    "scrolled": true
   },
   "outputs": [
    {
     "name": "stdout",
     "output_type": "stream",
     "text": [
      "The performance at reg value 1.0000000000000031e-10 is 0.17151869261033634\n",
      "The performance at reg value 1.0000000000000018e-08 is 0.017746170474499355\n",
      "The performance at reg value 1.0000000000000004e-06 is 0.028049560736494297\n",
      "The performance at reg value 9.999999999999991e-05 is 0.06093813844914883\n",
      "The performance at reg value 0.010000000000000005 is 0.09425103532209708\n",
      "The performance at reg value 1.0 is 0.09422982466966132\n",
      "The performance at reg value 100.00000000000004 is 0.09422425614545982\n",
      "The log_grid error is:\n",
      "[0.17151869 0.01774617 0.02804956 0.06093814 0.09425104 0.09422982\n",
      " 0.09422426]\n",
      "Init value is: 1.0000000000000018e-08\n",
      "The performance at reg value [1.e-08] is 0.017749662644268405\n",
      "The performance at reg value [3.98107171e-09] is 0.01778472861604392\n",
      "The performance at reg value [2.51188643e-08] is 0.01790122864872175\n",
      "The performance at reg value [6.30957344e-09] is 0.017717433226841425\n",
      "Optimal Regularization value for GPR, Feature:avekernels, Target: pw, train_ratio: 1.0 is: 6.309573444801934e-09\n",
      "The performance at reg value 1.0000000000000031e-10 is 0.02014813392592555\n",
      "The performance at reg value 1.0000000000000018e-08 is 0.01969253678281959\n",
      "The performance at reg value 1.0000000000000004e-06 is 0.029661700035140418\n",
      "The performance at reg value 9.999999999999991e-05 is 0.06481544042506769\n",
      "The performance at reg value 0.010000000000000005 is 0.09376936232585148\n",
      "The performance at reg value 1.0 is 0.09378478198639442\n",
      "The performance at reg value 100.00000000000004 is 0.093786223112294\n",
      "The log_grid error is:\n",
      "[0.02014813 0.01969254 0.0296617  0.06481544 0.09376936 0.09378478\n",
      " 0.09378622]\n",
      "Init value is: 1.0000000000000018e-08\n",
      "The performance at reg value [1.e-08] is 0.019629440506309975\n",
      "The performance at reg value [3.98107171e-09] is 0.019945370065063455\n",
      "The performance at reg value [2.51188643e-08] is 0.01981928864670103\n",
      "The performance at reg value [1.58489319e-08] is 0.019851147435039622\n",
      "The performance at reg value [6.30957344e-09] is 0.019848505923844916\n",
      "Optimal Regularization value for GPR, Feature:avekernels, Target: pw, train_ratio: 0.75 is: 1.0000000000000018e-08\n",
      "The performance at reg value 1.0000000000000031e-10 is 0.022663953135415197\n",
      "The performance at reg value 1.0000000000000018e-08 is 0.02179106275861425\n",
      "The performance at reg value 1.0000000000000004e-06 is 0.030170919284926094\n",
      "The performance at reg value 9.999999999999991e-05 is 0.06889084105528498\n",
      "The performance at reg value 0.010000000000000005 is 0.0934572940190424\n",
      "The performance at reg value 1.0 is 0.0934679011421056\n",
      "The performance at reg value 100.00000000000004 is 0.0934679022177624\n",
      "The log_grid error is:\n",
      "[0.02266395 0.02179106 0.03017092 0.06889084 0.09345729 0.0934679\n",
      " 0.0934679 ]\n",
      "Init value is: 1.0000000000000018e-08\n",
      "The performance at reg value [1.e-08] is 0.021781054845471853\n",
      "The performance at reg value [3.98107171e-09] is 0.0222814641022449\n",
      "The performance at reg value [2.51188643e-08] is 0.021396649601226177\n",
      "The performance at reg value [6.30957344e-08] is 0.02143248442819523\n",
      "Optimal Regularization value for GPR, Feature:avekernels, Target: pw, train_ratio: 0.5 is: 2.511886431509584e-08\n",
      "The performance at reg value 1.0000000000000031e-10 is 0.04954486377552485\n",
      "The performance at reg value 1.0000000000000018e-08 is 0.03688393695535744\n",
      "The performance at reg value 1.0000000000000004e-06 is 0.03363498398423237\n",
      "The performance at reg value 9.999999999999991e-05 is 0.07634844195647908\n",
      "The performance at reg value 0.010000000000000005 is 0.0929595439980077\n",
      "The performance at reg value 1.0 is 0.0929642125959792\n",
      "The performance at reg value 100.00000000000004 is 0.09296421309800337\n",
      "The log_grid error is:\n",
      "[0.04954486 0.03688394 0.03363498 0.07634844 0.09295954 0.09296421\n",
      " 0.09296421]\n",
      "Init value is: 1.0000000000000004e-06\n",
      "The performance at reg value [1.e-06] is 0.033649625590914375\n",
      "The performance at reg value [5.01187234e-07] is 0.03180001555765109\n",
      "The performance at reg value [2.51188643e-07] is 0.031720712488063685\n",
      "The performance at reg value [1.25892541e-07] is 0.033263084557991804\n",
      "Optimal Regularization value for GPR, Feature:avekernels, Target: pw, train_ratio: 0.25 is: 2.511886431509578e-07\n",
      "The performance at reg value 1.0000000000000031e-10 is 0.035442964812716374\n",
      "The performance at reg value 1.0000000000000018e-08 is 0.019621432459102868\n",
      "The performance at reg value 1.0000000000000004e-06 is 0.012822981648358732\n",
      "The performance at reg value 9.999999999999991e-05 is 0.01125402628923488\n",
      "The performance at reg value 0.010000000000000005 is 0.01870074077202674\n",
      "The performance at reg value 1.0 is 0.031346355680708156\n",
      "The performance at reg value 100.00000000000004 is 0.05857842217141815\n",
      "The log_grid error is:\n",
      "[0.03544296 0.01962143 0.01282298 0.01125403 0.01870074 0.03134636\n",
      " 0.05857842]\n",
      "Init value is: 9.999999999999991e-05\n",
      "The performance at reg value 9.999999999999991e-05 is 0.01125402628923488\n",
      "The performance at reg value 6.309573444801928e-05 is 0.011098429124939755\n",
      "The performance at reg value 3.98107170553497e-05 is 0.011029186462742058\n",
      "The performance at reg value 2.5118864315095835e-05 is 0.011051351677508998\n",
      "Optimal regularization value for Ridge, Feature:avesoap, target: pw, train_ratio: 1.0 is 3.98107170553497e-05\n",
      "The performance at reg value 1.0000000000000031e-10 is 0.05872481927419661\n",
      "The performance at reg value 1.0000000000000018e-08 is 0.0328085301764776\n",
      "The performance at reg value 1.0000000000000004e-06 is 0.017607559378321144\n",
      "The performance at reg value 9.999999999999991e-05 is 0.014079717126590768\n",
      "The performance at reg value 0.010000000000000005 is 0.021171568032326678\n",
      "The performance at reg value 1.0 is 0.032590797479857006\n",
      "The performance at reg value 100.00000000000004 is 0.06067137318265111\n",
      "The log_grid error is:\n",
      "[0.05872482 0.03280853 0.01760756 0.01407972 0.02117157 0.0325908\n",
      " 0.06067137]\n",
      "Init value is: 9.999999999999991e-05\n",
      "The performance at reg value 9.999999999999991e-05 is 0.014079717126590768\n",
      "The performance at reg value 6.309573444801928e-05 is 0.013878479043541489\n",
      "The performance at reg value 3.98107170553497e-05 is 0.013769345216196043\n",
      "The performance at reg value 2.5118864315095835e-05 is 0.01376656674782703\n",
      "Optimal regularization value for Ridge, Feature:avesoap, target: pw, train_ratio: 0.75 is 2.5118864315095835e-05\n",
      "The performance at reg value 1.0000000000000031e-10 is 0.06490931619872867\n",
      "The performance at reg value 1.0000000000000018e-08 is 0.0352753334283114\n",
      "The performance at reg value 1.0000000000000004e-06 is 0.017862058848449786\n",
      "The performance at reg value 9.999999999999991e-05 is 0.015098397736934723\n",
      "The performance at reg value 0.010000000000000005 is 0.021072099262696257\n",
      "The performance at reg value 1.0 is 0.03408023641549035\n",
      "The performance at reg value 100.00000000000004 is 0.06336067001676847\n",
      "The log_grid error is:\n",
      "[0.06490932 0.03527533 0.01786206 0.0150984  0.0210721  0.03408024\n",
      " 0.06336067]\n",
      "Init value is: 9.999999999999991e-05\n",
      "The performance at reg value 9.999999999999991e-05 is 0.015098397736934723\n",
      "The performance at reg value 6.309573444801928e-05 is 0.0149939414112185\n",
      "The performance at reg value 3.98107170553497e-05 is 0.014927780865120003\n",
      "The performance at reg value 2.5118864315095835e-05 is 0.014932588351748158\n",
      "Optimal regularization value for Ridge, Feature:avesoap, target: pw, train_ratio: 0.5 is 3.98107170553497e-05\n",
      "The performance at reg value 1.0000000000000031e-10 is 0.06886973805628531\n",
      "The performance at reg value 1.0000000000000018e-08 is 0.04399090259855572\n",
      "The performance at reg value 1.0000000000000004e-06 is 0.028701863379859985\n",
      "The performance at reg value 9.999999999999991e-05 is 0.024472762184164967\n",
      "The performance at reg value 0.010000000000000005 is 0.025748675314543848\n",
      "The performance at reg value 1.0 is 0.0371476832544802\n",
      "The performance at reg value 100.00000000000004 is 0.06738391517174189\n",
      "The log_grid error is:\n",
      "[0.06886974 0.0439909  0.02870186 0.02447276 0.02574868 0.03714768\n",
      " 0.06738392]\n",
      "Init value is: 9.999999999999991e-05\n",
      "The performance at reg value 9.999999999999991e-05 is 0.024472762184164967\n",
      "The performance at reg value 6.309573444801928e-05 is 0.0240386636598384\n",
      "The performance at reg value 3.98107170553497e-05 is 0.023704338833925084\n",
      "The performance at reg value 2.5118864315095835e-05 is 0.023574388274655286\n",
      "Optimal regularization value for Ridge, Feature:avesoap, target: pw, train_ratio: 0.25 is 2.5118864315095835e-05\n"
     ]
    },
    {
     "name": "stdout",
     "output_type": "stream",
     "text": [
      "The performance at reg value 1.0000000000000031e-10 is 0.011833355815168155\n",
      "The performance at reg value 1.0000000000000018e-08 is 0.011745355361854306\n",
      "The performance at reg value 1.0000000000000004e-06 is 0.011020615645974629\n",
      "The performance at reg value 9.999999999999991e-05 is 0.01400719212426833\n",
      "The performance at reg value 0.010000000000000005 is 0.021430710870649364\n",
      "The performance at reg value 1.0 is 0.029181137997060406\n",
      "The performance at reg value 100.00000000000004 is 0.041608873995800655\n",
      "The log_grid error is:\n",
      "[0.01183336 0.01174536 0.01102062 0.01400719 0.02143071 0.02918114\n",
      " 0.04160887]\n",
      "Init value is: 1.0000000000000004e-06\n",
      "The performance at reg value 1.0000000000000004e-06 is 0.011020615645974629\n",
      "The performance at reg value 5.011872336272722e-07 is 0.010885799201795547\n",
      "The performance at reg value 2.511886431509578e-07 is 0.010803980594705045\n",
      "The performance at reg value 1.2589254117941606e-07 is 0.010770407682814707\n",
      "Optimal regularization value for Ridge, Feature:avekernels, target: pw, train_ratio: 1.0 is 1.2589254117941606e-07\n",
      "The performance at reg value 1.0000000000000031e-10 is 0.014769405012781026\n",
      "The performance at reg value 1.0000000000000018e-08 is 0.01439257706000488\n",
      "The performance at reg value 1.0000000000000004e-06 is 0.012968765303847146\n",
      "The performance at reg value 9.999999999999991e-05 is 0.0158714135176976\n",
      "The performance at reg value 0.010000000000000005 is 0.022818620299517228\n",
      "The performance at reg value 1.0 is 0.02998097552168222\n",
      "The performance at reg value 100.00000000000004 is 0.043872624256069914\n",
      "The log_grid error is:\n",
      "[0.01476941 0.01439258 0.01296877 0.01587141 0.02281862 0.02998098\n",
      " 0.04387262]\n",
      "Init value is: 1.0000000000000004e-06\n",
      "The performance at reg value 1.0000000000000004e-06 is 0.012968765303847146\n",
      "The performance at reg value 5.011872336272722e-07 is 0.012919613486717017\n",
      "The performance at reg value 2.511886431509578e-07 is 0.012950255099889499\n",
      "The performance at reg value 3.548133892335746e-07 is 0.012927397444261144\n",
      "Optimal regularization value for Ridge, Feature:avekernels, target: pw, train_ratio: 0.75 is 5.011872336272722e-07\n",
      "The performance at reg value 1.0000000000000031e-10 is 0.016418235318290713\n",
      "The performance at reg value 1.0000000000000018e-08 is 0.01593089805777674\n",
      "The performance at reg value 1.0000000000000004e-06 is 0.014076083930751285\n",
      "The performance at reg value 9.999999999999991e-05 is 0.01654616455884692\n",
      "The performance at reg value 0.010000000000000005 is 0.022917115253772775\n",
      "The performance at reg value 1.0 is 0.030655239765416096\n",
      "The performance at reg value 100.00000000000004 is 0.04700772717949613\n",
      "The log_grid error is:\n",
      "[0.01641824 0.0159309  0.01407608 0.01654616 0.02291712 0.03065524\n",
      " 0.04700773]\n",
      "Init value is: 1.0000000000000004e-06\n",
      "The performance at reg value 1.0000000000000004e-06 is 0.014076083930751285\n",
      "The performance at reg value 5.011872336272722e-07 is 0.013863935371280762\n",
      "The performance at reg value 2.511886431509578e-07 is 0.013800989830053841\n",
      "The performance at reg value 1.2589254117941606e-07 is 0.013903102763481195\n",
      "Optimal regularization value for Ridge, Feature:avekernels, target: pw, train_ratio: 0.5 is 2.511886431509578e-07\n",
      "The performance at reg value 1.0000000000000031e-10 is 0.03561999975608485\n",
      "The performance at reg value 1.0000000000000018e-08 is 0.03105485337108268\n",
      "The performance at reg value 1.0000000000000004e-06 is 0.023686905484469466\n",
      "The performance at reg value 9.999999999999991e-05 is 0.025068852132493886\n",
      "The performance at reg value 0.010000000000000005 is 0.02568566863908192\n",
      "The performance at reg value 1.0 is 0.03185034737472678\n",
      "The performance at reg value 100.00000000000004 is 0.05237410878226499\n",
      "The log_grid error is:\n",
      "[0.03562    0.03105485 0.02368691 0.02506885 0.02568567 0.03185035\n",
      " 0.05237411]\n",
      "Init value is: 1.0000000000000004e-06\n",
      "The performance at reg value 1.0000000000000004e-06 is 0.023686905484469466\n",
      "The performance at reg value 5.011872336272722e-07 is 0.023700297809060022\n",
      "The performance at reg value 1.995262314968882e-06 is 0.024133996101783427\n",
      "The performance at reg value 7.07945784384138e-07 is 0.023624781416575147\n",
      "Optimal regularization value for Ridge, Feature:avekernels, target: pw, train_ratio: 0.25 is 7.07945784384138e-07\n"
     ]
    }
   ],
   "source": [
    "import dostools.models.models as models\n",
    "importlib.reload(models)\n",
    "import dostools.models.training as training\n",
    "importlib.reload(training)\n",
    "importlib.reload(utils)\n",
    "\n",
    "\n",
    "GPR_pw = models.GPR(Silicon.Features['structure_avekerneldescriptors'], \"avekernels\", y_pw, \"pw\", xdos, kMM)\n",
    "GPR_pw.obtain_weights([1.0,0.75,0.5,0.25], train_index)\n",
    "GPR_pw.get_DosRMSE(evaluator, train_index, test_index)\n",
    "GPR_pw.get_targetRMSE(evaluator, train_index, test_index)\n",
    "\n",
    "Ridge_pw_soap = models.RidgeRegression(Silicon.Features['structure_avedescriptors'], \"avesoap\", y_pw, \"pw\", xdos)\n",
    "Ridge_pw_soap.obtain_weights([1.0,0.75,0.5,0.25], train_index) \n",
    "Ridge_pw_soap.get_DosRMSE(evaluator, train_index, test_index) \n",
    "Ridge_pw_soap.get_targetRMSE(evaluator, train_index, test_index) \n",
    "\n",
    "Ridge_pw_kernel = models.RidgeRegression(Silicon.Features['structure_avekerneldescriptors'], \"avekernels\", y_pw, \"pw\", xdos)\n",
    "Ridge_pw_kernel.obtain_weights([1.0,0.75,0.5,0.25], train_index)\n",
    "Ridge_pw_kernel.get_DosRMSE(evaluator, train_index, test_index)\n",
    "Ridge_pw_kernel.get_targetRMSE(evaluator, train_index, test_index)\n",
    "\n",
    "\n"
   ]
  },
  {
   "cell_type": "code",
   "execution_count": 16,
   "id": "3649a67d",
   "metadata": {
    "ExecuteTime": {
     "end_time": "2023-02-24T20:03:56.373625Z",
     "start_time": "2023-02-24T20:02:37.790654Z"
    }
   },
   "outputs": [
    {
     "name": "stdout",
     "output_type": "stream",
     "text": [
      "The performance at reg value 1.0000000000000031e-10 is 0.16377892973800107\n",
      "The performance at reg value 1.0000000000000018e-08 is 0.15982895289947788\n",
      "The performance at reg value 1.0000000000000004e-06 is 0.16482270949306185\n",
      "The performance at reg value 9.999999999999991e-05 is 0.2029517983689832\n",
      "The performance at reg value 0.010000000000000005 is 0.32023410451631995\n",
      "The performance at reg value 1.0 is 0.6089002202224385\n",
      "The performance at reg value 100.00000000000004 is 1.3521840929526006\n",
      "The log_grid error is:\n",
      "[0.16377893 0.15982895 0.16482271 0.2029518  0.3202341  0.60890022\n",
      " 1.35218409]\n",
      "Init value is: 1.0000000000000018e-08\n",
      "The performance at reg value 1.0000000000000018e-08 is 0.15982895289947788\n",
      "The performance at reg value 3.9810717055349805e-09 is 0.16201279394061657\n",
      "The performance at reg value 2.511886431509584e-08 is 0.1567274387171811\n",
      "The performance at reg value 6.309573444801918e-08 is 0.1511241468138293\n",
      "Optimal regularization value for Ridge, Feature:avekernels, target: lcdf, train_ratio: 1.0 is 6.309573444801918e-08\n",
      "The performance at reg value 1.0000000000000031e-10 is 0.20389262524147228\n",
      "The performance at reg value 1.0000000000000018e-08 is 0.19898209977461087\n",
      "The performance at reg value 1.0000000000000004e-06 is 0.20039957936109676\n",
      "The performance at reg value 9.999999999999991e-05 is 0.24349436046037337\n",
      "The performance at reg value 0.010000000000000005 is 0.34986123634709265\n",
      "The performance at reg value 1.0 is 0.6603995724843597\n",
      "The performance at reg value 100.00000000000004 is 1.518821731415897\n",
      "The log_grid error is:\n",
      "[0.20389263 0.1989821  0.20039958 0.24349436 0.34986124 0.66039957\n",
      " 1.51882173]\n",
      "Init value is: 1.0000000000000018e-08\n",
      "The performance at reg value 1.0000000000000018e-08 is 0.19898209977461087\n",
      "The performance at reg value 3.9810717055349805e-09 is 0.2013921647090783\n",
      "The performance at reg value 2.511886431509584e-08 is 0.1951204024813495\n",
      "The performance at reg value 6.309573444801918e-08 is 0.18763375598425752\n",
      "Optimal regularization value for Ridge, Feature:avekernels, target: lcdf, train_ratio: 0.75 is 6.309573444801918e-08\n",
      "The performance at reg value 1.0000000000000031e-10 is 0.21020104541935186\n",
      "The performance at reg value 1.0000000000000018e-08 is 0.20681571958723716\n",
      "The performance at reg value 1.0000000000000004e-06 is 0.20857651636578955\n",
      "The performance at reg value 9.999999999999991e-05 is 0.2553796420116424\n",
      "The performance at reg value 0.010000000000000005 is 0.35616561667573976\n",
      "The performance at reg value 1.0 is 0.6653540416930428\n",
      "The performance at reg value 100.00000000000004 is 1.7151809891688965\n",
      "The log_grid error is:\n",
      "[0.21020105 0.20681572 0.20857652 0.25537964 0.35616562 0.66535404\n",
      " 1.71518099]\n",
      "Init value is: 1.0000000000000018e-08\n",
      "The performance at reg value 1.0000000000000018e-08 is 0.20681571958723716\n",
      "The performance at reg value 3.9810717055349805e-09 is 0.20783922645432407\n",
      "The performance at reg value 2.511886431509584e-08 is 0.2011596819757966\n",
      "The performance at reg value 6.309573444801918e-08 is 0.19530305871168435\n",
      "Optimal regularization value for Ridge, Feature:avekernels, target: lcdf, train_ratio: 0.5 is 6.309573444801918e-08\n",
      "The performance at reg value 1.0000000000000031e-10 is 0.3677745665965109\n",
      "The performance at reg value 1.0000000000000018e-08 is 0.33046047708836385\n",
      "The performance at reg value 1.0000000000000004e-06 is 0.32076134284485036\n",
      "The performance at reg value 9.999999999999991e-05 is 0.40297776620857284\n",
      "The performance at reg value 0.010000000000000005 is 0.41260271756220723\n",
      "The performance at reg value 1.0 is 0.7094410785293583\n",
      "The performance at reg value 100.00000000000004 is 2.1680815498840076\n",
      "The log_grid error is:\n",
      "[0.36777457 0.33046048 0.32076134 0.40297777 0.41260272 0.70944108\n",
      " 2.16808155]\n",
      "Init value is: 1.0000000000000004e-06\n",
      "The performance at reg value 1.0000000000000004e-06 is 0.32076134284485036\n",
      "The performance at reg value 5.011872336272722e-07 is 0.3085008721040763\n",
      "The performance at reg value 2.511886431509578e-07 is 0.30359101294394175\n",
      "The performance at reg value 1.2589254117941606e-07 is 0.3028868618281065\n",
      "Optimal regularization value for Ridge, Feature:avekernels, target: lcdf, train_ratio: 0.25 is 1.2589254117941606e-07\n",
      "The performance at reg value 1.0000000000000031e-10 is 0.33559378986481614\n",
      "The performance at reg value 1.0000000000000018e-08 is 0.21791251962773248\n",
      "The performance at reg value 1.0000000000000004e-06 is 0.16452231516078197\n",
      "The performance at reg value 9.999999999999991e-05 is 0.16532208738970308\n",
      "The performance at reg value 0.010000000000000005 is 0.27962175461823235\n",
      "The performance at reg value 1.0 is 0.6826010591262379\n",
      "The performance at reg value 100.00000000000004 is 2.5508435110179217\n",
      "The log_grid error is:\n",
      "[0.33559379 0.21791252 0.16452232 0.16532209 0.27962175 0.68260106\n",
      " 2.55084351]\n",
      "Init value is: 1.0000000000000004e-06\n",
      "The performance at reg value 1.0000000000000004e-06 is 0.16452231516078197\n",
      "The performance at reg value 5.011872336272722e-07 is 0.16734982348399877\n",
      "The performance at reg value 1.995262314968882e-06 is 0.1624326859416927\n",
      "The performance at reg value 3.98107170553498e-06 is 0.16108792627776575\n",
      "Optimal regularization value for Ridge, Feature:avesoap, target: lcdf, train_ratio: 1.0 is 3.98107170553498e-06\n",
      "The performance at reg value 1.0000000000000031e-10 is 0.5269390468996831\n",
      "The performance at reg value 1.0000000000000018e-08 is 0.3264242116036758\n",
      "The performance at reg value 1.0000000000000004e-06 is 0.22520032393246137\n",
      "The performance at reg value 9.999999999999991e-05 is 0.22343260279609156\n",
      "The performance at reg value 0.010000000000000005 is 0.32687355918392985\n",
      "The performance at reg value 1.0 is 0.7565366348281085\n",
      "The performance at reg value 100.00000000000004 is 2.7324878265747437\n",
      "The log_grid error is:\n",
      "[0.52693905 0.32642421 0.22520032 0.2234326  0.32687356 0.75653663\n",
      " 2.73248783]\n",
      "Init value is: 9.999999999999991e-05\n",
      "The performance at reg value 9.999999999999991e-05 is 0.22343260279609156\n",
      "The performance at reg value 6.309573444801928e-05 is 0.22016104621571092\n",
      "The performance at reg value 3.98107170553497e-05 is 0.21767436127562168\n",
      "The performance at reg value 2.5118864315095835e-05 is 0.21590233279672294\n",
      "Optimal regularization value for Ridge, Feature:avesoap, target: lcdf, train_ratio: 0.75 is 2.5118864315095835e-05\n",
      "The performance at reg value 1.0000000000000031e-10 is 0.5414909408250819\n",
      "The performance at reg value 1.0000000000000018e-08 is 0.37059678685088915\n",
      "The performance at reg value 1.0000000000000004e-06 is 0.2224813013967038\n",
      "The performance at reg value 9.999999999999991e-05 is 0.2241900935710625\n",
      "The performance at reg value 0.010000000000000005 is 0.3300169722917202\n",
      "The performance at reg value 1.0 is 0.8383676674708849\n",
      "The performance at reg value 100.00000000000004 is 2.9768753741223817\n",
      "The log_grid error is:\n",
      "[0.54149094 0.37059679 0.2224813  0.22419009 0.33001697 0.83836767\n",
      " 2.97687537]\n",
      "Init value is: 1.0000000000000004e-06\n",
      "The performance at reg value 1.0000000000000004e-06 is 0.2224813013967038\n",
      "The performance at reg value 5.011872336272722e-07 is 0.2362188307612591\n",
      "The performance at reg value 1.995262314968882e-06 is 0.21281039894482803\n",
      "The performance at reg value 3.98107170553498e-06 is 0.2079397284634622\n",
      "Optimal regularization value for Ridge, Feature:avesoap, target: lcdf, train_ratio: 0.5 is 3.98107170553498e-06\n",
      "The performance at reg value 1.0000000000000031e-10 is 0.5444777893238522\n",
      "The performance at reg value 1.0000000000000018e-08 is 0.396885852166409\n",
      "The performance at reg value 1.0000000000000004e-06 is 0.3280065129590694\n",
      "The performance at reg value 9.999999999999991e-05 is 0.36408200405650193\n",
      "The performance at reg value 0.010000000000000005 is 0.3987321553983055\n",
      "The performance at reg value 1.0 is 1.0529336327091392\n",
      "The performance at reg value 100.00000000000004 is 3.47642754931164\n",
      "The log_grid error is:\n",
      "[0.54447779 0.39688585 0.32800651 0.364082   0.39873216 1.05293363\n",
      " 3.47642755]\n",
      "Init value is: 1.0000000000000004e-06\n",
      "The performance at reg value 1.0000000000000004e-06 is 0.3280065129590694\n",
      "The performance at reg value 5.011872336272722e-07 is 0.33652420681965073\n",
      "The performance at reg value 1.995262314968882e-06 is 0.3201621855979411\n",
      "The performance at reg value 3.98107170553498e-06 is 0.3124135464418091\n",
      "Optimal regularization value for Ridge, Feature:avesoap, target: lcdf, train_ratio: 0.25 is 3.98107170553498e-06\n"
     ]
    },
    {
     "name": "stdout",
     "output_type": "stream",
     "text": [
      "The performance at reg value 1.0000000000000031e-10 is 0.2719911676027864\n",
      "The performance at reg value 1.0000000000000018e-08 is 0.3063347262660172\n",
      "The performance at reg value 1.0000000000000004e-06 is 0.2669864737271283\n",
      "The performance at reg value 9.999999999999991e-05 is 0.2676219840338244\n",
      "The performance at reg value 0.010000000000000005 is 0.6808306388201535\n",
      "The performance at reg value 1.0 is 4.753275756252011\n",
      "The performance at reg value 100.00000000000004 is 5.319687654539237\n",
      "The log_grid error is:\n",
      "[0.27199117 0.30633473 0.26698647 0.26762198 0.68083064 4.75327576\n",
      " 5.31968765]\n",
      "Init value is: 1.0000000000000004e-06\n",
      "The performance at reg value [1.e-06] is 0.27505777197907366\n",
      "The performance at reg value [5.01187234e-07] is 0.26711494798028035\n",
      "The performance at reg value [2.51188643e-07] is 0.26985759987240837\n",
      "The performance at reg value [3.54813389e-07] is 0.26960683684732456\n",
      "Optimal Regularization value for GPR, Feature:avekernels, Target: lcdf, train_ratio: 1.0 is: 5.011872336272722e-07\n",
      "The performance at reg value 1.0000000000000031e-10 is 0.9825994543770902\n",
      "The performance at reg value 1.0000000000000018e-08 is 0.5988967749212547\n",
      "The performance at reg value 1.0000000000000004e-06 is 0.3131191405819702\n",
      "The performance at reg value 9.999999999999991e-05 is 0.3101328720450901\n",
      "The performance at reg value 0.010000000000000005 is 0.7029258303323975\n",
      "The performance at reg value 1.0 is 4.856907060505337\n",
      "The performance at reg value 100.00000000000004 is 5.297264164886202\n",
      "The log_grid error is:\n",
      "[0.98259945 0.59889677 0.31311914 0.31013287 0.70292583 4.85690706\n",
      " 5.29726416]\n",
      "Init value is: 9.999999999999991e-05\n",
      "The performance at reg value [1.e-04] is 0.3101342092341265\n",
      "The performance at reg value [6.30957344e-05] is 0.310213204782946\n",
      "The performance at reg value [0.00015849] is 0.31502146382197205\n",
      "The performance at reg value [7.94328235e-05] is 0.30924815027289654\n",
      "Optimal Regularization value for GPR, Feature:avekernels, Target: lcdf, train_ratio: 0.75 is: 7.943282347242815e-05\n",
      "The performance at reg value 1.0000000000000031e-10 is 0.5293662250709265\n",
      "The performance at reg value 1.0000000000000018e-08 is 3.7267516924348003\n",
      "The performance at reg value 1.0000000000000004e-06 is 0.7282328542834005\n",
      "The performance at reg value 9.999999999999991e-05 is 0.5897556452793371\n",
      "The performance at reg value 0.010000000000000005 is 0.9050312253539189\n",
      "The performance at reg value 1.0 is 4.449501144673039\n",
      "The performance at reg value 100.00000000000004 is 5.236182921345867\n",
      "The log_grid error is:\n",
      "[0.52936623 3.72675169 0.72823285 0.58975565 0.90503123 4.44950114\n",
      " 5.23618292]\n",
      "Init value is: 1.0000000000000031e-10\n",
      "The performance at reg value [1.e-10] is 0.35446338274276057\n",
      "The performance at reg value [3.16227766e-11] is 0.4092888778883523\n",
      "The performance at reg value [3.16227766e-10] is 0.3544305531299165\n",
      "The performance at reg value [1.e-09] is 0.3547240176323373\n",
      "Optimal Regularization value for GPR, Feature:avekernels, Target: lcdf, train_ratio: 0.5 is: 3.1622776601683966e-10\n",
      "The performance at reg value 1.0000000000000031e-10 is 0.8298072504765703\n",
      "The performance at reg value 1.0000000000000018e-08 is 0.6012791723019927\n",
      "The performance at reg value 1.0000000000000004e-06 is 0.6024875321480747\n",
      "The performance at reg value 9.999999999999991e-05 is 0.5291519896041126\n",
      "The performance at reg value 0.010000000000000005 is 3.4170798156326656\n",
      "The performance at reg value 1.0 is 5.246764488771278\n",
      "The performance at reg value 100.00000000000004 is 5.2468557347296905\n",
      "The log_grid error is:\n",
      "[0.82980725 0.60127917 0.60248753 0.52915199 3.41707982 5.24676449\n",
      " 5.24685573]\n",
      "Init value is: 9.999999999999991e-05\n",
      "The performance at reg value [1.e-04] is 0.5291525597796354\n",
      "The performance at reg value [6.30957344e-05] is 0.5172422348463916\n",
      "The performance at reg value [3.98107171e-05] is 0.5741769979903698\n",
      "The performance at reg value [7.94328235e-05] is 0.5161265023731575\n",
      "Optimal Regularization value for GPR, Feature:avekernels, Target: lcdf, train_ratio: 0.25 is: 7.943282347242815e-05\n"
     ]
    }
   ],
   "source": [
    "Ridge_lcdf_kernel = models.RidgeRegression(Silicon.Features['structure_avekerneldescriptors'], \"avekernels\", y_lcdf, \"lcdf\", xdos)\n",
    "Ridge_lcdf_kernel.obtain_weights([1.0,0.75,0.5,0.25], train_index)\n",
    "Ridge_lcdf_kernel.get_DosRMSE(evaluator, train_index, test_index)\n",
    "Ridge_lcdf_kernel.get_targetRMSE(evaluator, train_index, test_index)\n",
    "\n",
    "Ridge_lcdf_soap = models.RidgeRegression(Silicon.Features['structure_avedescriptors'], \"avesoap\", y_lcdf, \"lcdf\", xdos)\n",
    "Ridge_lcdf_soap.obtain_weights([1.0,0.75,0.5,0.25], train_index)\n",
    "Ridge_lcdf_soap.get_DosRMSE(evaluator, train_index, test_index)\n",
    "Ridge_lcdf_soap.get_targetRMSE(evaluator, train_index, test_index)\n",
    "\n",
    "GPR_lcdf = models.GPR(Silicon.Features['structure_avekerneldescriptors'], \"avekernels\", y_lcdf, \"lcdf\", xdos, kMM)\n",
    "GPR_lcdf.obtain_weights([1.0,0.75,0.5,0.25], train_index)\n",
    "GPR_lcdf.get_DosRMSE(evaluator, train_index, test_index)\n",
    "GPR_lcdf.get_targetRMSE(evaluator, train_index, test_index)"
   ]
  },
  {
   "cell_type": "code",
   "execution_count": null,
   "id": "f618582a",
   "metadata": {},
   "outputs": [],
   "source": [
    "[369, 341, 745, 521, 278, 5, 193, 37]"
   ]
  },
  {
   "cell_type": "markdown",
   "id": "7844ccf4",
   "metadata": {},
   "source": [
    "## Analytical Evaluation"
   ]
  },
  {
   "cell_type": "code",
   "execution_count": 17,
   "id": "42e964a9",
   "metadata": {
    "ExecuteTime": {
     "end_time": "2023-02-24T20:03:56.382051Z",
     "start_time": "2023-02-24T20:03:56.375885Z"
    },
    "scrolled": true
   },
   "outputs": [
    {
     "name": "stdout",
     "output_type": "stream",
     "text": [
      "Ridge_pw_kernel DOS RMSE\n",
      "{1.0: array([8.16682939, 9.73633345, 8.52113307, 0.04802679, 0.0592986 ,\n",
      "       0.0504852 ]), 0.75: array([ 9.47487388, 10.53180032,  9.70586662,  0.05571902,  0.06414335,\n",
      "        0.0575044 ]), 0.5: array([10.93737745, 11.5806272 , 11.07400203,  0.06431959,  0.07053117,\n",
      "        0.0656102 ]), 0.25: array([16.19422271, 14.44411899, 15.83618246,  0.09523359,  0.08797111,\n",
      "        0.09382471])}\n",
      "Ridge_pw_kernel Target RMSE\n",
      "{1.0: array([8.16682939, 9.73633345, 8.52113307, 0.04802679, 0.0592986 ,\n",
      "       0.0504852 ]), 0.75: array([ 9.47487388, 10.53180032,  9.70586662,  0.05571902,  0.06414335,\n",
      "        0.0575044 ]), 0.5: array([10.93737745, 11.5806272 , 11.07400203,  0.06431959,  0.07053117,\n",
      "        0.0656102 ]), 0.25: array([16.19422271, 14.44411899, 15.83618246,  0.09523359,  0.08797111,\n",
      "        0.09382471])}\n"
     ]
    }
   ],
   "source": [
    "print (\"Ridge_pw_kernel DOS RMSE\")\n",
    "print (Ridge_pw_kernel.DOSrmse)\n",
    "print (\"Ridge_pw_kernel Target RMSE\")\n",
    "print (Ridge_pw_kernel.targetrmse)"
   ]
  },
  {
   "cell_type": "code",
   "execution_count": 18,
   "id": "eb011577",
   "metadata": {
    "ExecuteTime": {
     "end_time": "2023-02-24T20:03:56.397900Z",
     "start_time": "2023-02-24T20:03:56.384137Z"
    }
   },
   "outputs": [
    {
     "name": "stdout",
     "output_type": "stream",
     "text": [
      "Ridge_pw_soap DOS RMSE\n",
      "{1.0: array([ 9.34658818, 10.24767001,  9.54213068,  0.05496461,  0.06241287,\n",
      "        0.05653431]), 0.75: array([ 9.56297269, 10.6594269 ,  9.80293814,  0.05623711,  0.06492065,\n",
      "        0.05807952]), 0.5: array([11.68065042, 11.49377802, 11.63857829,  0.06869056,  0.07000222,\n",
      "        0.06895514]), 0.25: array([19.25781208, 15.14324325, 18.45922273,  0.11324968,  0.09222909,\n",
      "        0.10936545])}\n",
      "Ridge_pw_soap Target RMSE\n",
      "{1.0: array([ 9.34658818, 10.24767001,  9.54213068,  0.05496461,  0.06241287,\n",
      "        0.05653431]), 0.75: array([ 9.56297269, 10.6594269 ,  9.80293814,  0.05623711,  0.06492065,\n",
      "        0.05807952]), 0.5: array([11.68065042, 11.49377802, 11.63857829,  0.06869056,  0.07000222,\n",
      "        0.06895514]), 0.25: array([19.25781208, 15.14324325, 18.45922273,  0.11324968,  0.09222909,\n",
      "        0.10936545])}\n"
     ]
    }
   ],
   "source": [
    "print (\"Ridge_pw_soap DOS RMSE\")\n",
    "print (Ridge_pw_soap.DOSrmse)\n",
    "print (\"Ridge_pw_soap Target RMSE\")\n",
    "print (Ridge_pw_soap.targetrmse)"
   ]
  },
  {
   "cell_type": "code",
   "execution_count": 24,
   "id": "fa331725",
   "metadata": {
    "ExecuteTime": {
     "end_time": "2023-02-24T20:10:49.975329Z",
     "start_time": "2023-02-24T20:10:49.964586Z"
    }
   },
   "outputs": [
    {
     "name": "stdout",
     "output_type": "stream",
     "text": [
      "GPR_pw DOS RMSE\n",
      "{1.0: array([15.83990322, 13.85756258, 15.43791049,  0.09314994,  0.08439872,\n",
      "        0.09146507]), 0.75: array([16.80472599, 14.56769455, 15.96314784,  0.09834957,  0.08872374,\n",
      "        0.09457694]), 0.5: array([16.46400714, 14.70025623, 16.40379541,  0.09661453,  0.0895311 ,\n",
      "        0.09718765]), 0.25: array([33.43225061, 31.10270218, 32.22513304,  0.19017155,  0.18942929,\n",
      "        0.19092441])}\n",
      "GPR_pw Target RMSE\n",
      "{1.0: array([15.83990322, 13.85756258, 15.43791049,  0.09314994,  0.08439872,\n",
      "        0.09146507]), 0.75: array([16.80472599, 14.56769455, 15.96314784,  0.09834957,  0.08872374,\n",
      "        0.09457694]), 0.5: array([16.46400714, 14.70025623, 16.40379541,  0.09661453,  0.0895311 ,\n",
      "        0.09718765]), 0.25: array([33.43225061, 31.10270218, 32.22513304,  0.19017155,  0.18942929,\n",
      "        0.19092441])}\n"
     ]
    }
   ],
   "source": [
    "print (\"GPR_pw DOS RMSE\")\n",
    "print (GPR_pw.DOSrmse)\n",
    "print (\"GPR_pw Target RMSE\")\n",
    "print (GPR_pw.targetrmse)"
   ]
  },
  {
   "cell_type": "code",
   "execution_count": 20,
   "id": "b6ea6b64",
   "metadata": {
    "ExecuteTime": {
     "end_time": "2023-02-24T20:03:56.422952Z",
     "start_time": "2023-02-24T20:03:56.412027Z"
    }
   },
   "outputs": [
    {
     "name": "stdout",
     "output_type": "stream",
     "text": [
      "Ridge_lcdf_kernel DOS RMSE\n",
      "{1.0: array([ 9.40876349, 10.9497305 ,  9.7529166 ,  0.05533025,  0.06668873,\n",
      "        0.05778315]), 0.75: array([ 9.84694186, 11.06331125, 10.11418768,  0.05790705,  0.06738049,\n",
      "        0.05992358]), 0.5: array([11.60335195, 12.50069451, 11.79616145,  0.06823599,  0.07613479,\n",
      "        0.06988878]), 0.25: array([17.6204658 , 16.0214378 , 17.29025336,  0.10362092,  0.09757768,\n",
      "        0.10243965])}\n",
      "Ridge_lcdf_kernel Target RMSE\n",
      "{1.0: array([1.82225617, 2.23024464, 1.91344557, 0.60507306, 0.75606914,\n",
      "       0.638168  ]), 0.75: array([2.00902453, 2.29047979, 2.06999262, 0.66708876, 0.7764893 ,\n",
      "       0.69037921]), 0.5: array([2.701237  , 2.5585874 , 2.67181281, 0.89693521, 0.86737973,\n",
      "       0.89109691]), 0.25: array([4.63953503, 3.69834026, 4.46021841, 1.54053952, 1.25376423,\n",
      "       1.48756186])}\n"
     ]
    }
   ],
   "source": [
    "print (\"Ridge_lcdf_kernel DOS RMSE\")\n",
    "print (Ridge_lcdf_kernel.DOSrmse)\n",
    "print (\"Ridge_lcdf_kernel Target RMSE\")\n",
    "print (Ridge_lcdf_kernel.targetrmse)"
   ]
  },
  {
   "cell_type": "code",
   "execution_count": 21,
   "id": "9501f5fc",
   "metadata": {
    "ExecuteTime": {
     "end_time": "2023-02-24T20:03:56.434479Z",
     "start_time": "2023-02-24T20:03:56.424754Z"
    }
   },
   "outputs": [
    {
     "name": "stdout",
     "output_type": "stream",
     "text": [
      "Ridge_lcdf_soap DOS RMSE\n",
      "{1.0: array([ 9.02969725, 11.25790573,  9.54252212,  0.05310107,  0.06856565,\n",
      "        0.05653663]), 0.75: array([10.49276132, 11.44072432, 10.69785987,  0.06170493,  0.0696791 ,\n",
      "        0.06338166]), 0.5: array([13.18537778, 13.20391361, 13.18616386,  0.07753943,  0.08041771,\n",
      "        0.07812413]), 0.25: array([22.38787352, 17.48196444, 21.43827584,  0.13165668,  0.10647294,\n",
      "        0.12701546])}\n",
      "Ridge_lcdf_soap Target RMSE\n",
      "{1.0: array([1.57037507, 2.22250958, 1.72531183, 0.52143692, 0.7534469 ,\n",
      "       0.57542206]), 0.75: array([2.07404868, 2.29293505, 2.12077223, 0.68867978, 0.77732165,\n",
      "       0.70731511]), 0.5: array([2.84272648, 2.81536616, 2.83652184, 0.94391624, 0.95442959,\n",
      "       0.94603029]), 0.25: array([5.02121336, 3.75307207, 4.78550553, 1.66727432, 1.27231871,\n",
      "       1.59605088])}\n"
     ]
    }
   ],
   "source": [
    "print (\"Ridge_lcdf_soap DOS RMSE\")\n",
    "print (Ridge_lcdf_soap.DOSrmse)\n",
    "print (\"Ridge_lcdf_soap Target RMSE\")\n",
    "print (Ridge_lcdf_soap.targetrmse)"
   ]
  },
  {
   "cell_type": "code",
   "execution_count": 22,
   "id": "0309af72",
   "metadata": {
    "ExecuteTime": {
     "end_time": "2023-02-24T20:03:56.446629Z",
     "start_time": "2023-02-24T20:03:56.436191Z"
    }
   },
   "outputs": [
    {
     "name": "stdout",
     "output_type": "stream",
     "text": [
      "GPR_lcdf DOS RMSE\n",
      "{1.0: array([17.55359591, 15.60147243, 17.15488231,  0.10322767,  0.09501991,\n",
      "        0.10163762]), 0.75: array([17.24155169, 15.30610102, 16.54255247,  0.10090609,  0.09322096,\n",
      "        0.09800975]), 0.5: array([20.18521246, 18.38440937, 19.99689581,  0.1184514 ,  0.11196923,\n",
      "        0.11847571]), 0.25: array([29.935536  , 28.99496198, 29.54953963,  0.17028131,  0.17659221,\n",
      "        0.17507231])}\n",
      "GPR_lcdf Target RMSE\n",
      "{1.0: array([4.53690309, 3.91847027, 4.41517007, 1.50646098, 1.3283899 ,\n",
      "       1.47253744]), 0.75: array([4.25790056, 3.56263116, 4.00000331, 1.40756759, 1.20775786,\n",
      "       1.33407197]), 0.5: array([5.45136397, 4.97905622, 5.55331212, 1.81856849, 1.68793625,\n",
      "       1.85212798]), 0.25: array([8.38872638, 7.3379663 , 7.75590592, 2.60140017, 2.48762391,\n",
      "       2.58673204])}\n"
     ]
    }
   ],
   "source": [
    "print (\"GPR_lcdf DOS RMSE\")\n",
    "print (GPR_lcdf.DOSrmse)\n",
    "print (\"GPR_lcdf Target RMSE\")\n",
    "print (GPR_lcdf.targetrmse)"
   ]
  },
  {
   "cell_type": "markdown",
   "id": "c91e6519",
   "metadata": {},
   "source": [
    "## Torch Model"
   ]
  },
  {
   "cell_type": "code",
   "execution_count": 56,
   "id": "091a655c",
   "metadata": {
    "ExecuteTime": {
     "end_time": "2023-01-27T14:18:49.479577Z",
     "start_time": "2023-01-27T14:18:49.449653Z"
    }
   },
   "outputs": [],
   "source": [
    "import dostools.models.models as models\n",
    "import dostools.models.training as training\n",
    "import dostools.models.architectures as architecture\n",
    "import dostools.loss.loss as loss\n",
    "importlib.reload(models)\n",
    "importlib.reload(training)\n",
    "importlib.reload(architecture)\n",
    "importlib.reload(loss)\n",
    "\n",
    "TLReg_pw_soap = models.TRegression(Silicon.Features['structure_avedescriptors'].double(), \"avedesc\", y_pw.double(), \"pw\", \"pw\", xdos, \"Adam\", \"cpu\")\n",
    "TLReg_pw_kernel = models.TRegression(Silicon.Features['structure_avekerneldescriptors'].double(), \"avekerneldesc\", y_pw.double(), \"pw\", \"pw\", xdos, \"Adam\", \"cpu\")\n",
    "TLReg_lcdf_soap = models.TRegression(Silicon.Features['structure_avedescriptors'].double(), \"avedesc\", y_lcdf.double(), \"lcdf\", \"pw\", xdos, \"Adam\", \"cpu\")\n",
    "TLReg_lcdf_kernel = models.TRegression(Silicon.Features['structure_avekerneldescriptors'].double(), \"avekerneldesc\", y_lcdf.double(), \"lcdf\", \"pw\", xdos, \"Adam\", \"cpu\")\n"
   ]
  },
  {
   "cell_type": "code",
   "execution_count": 57,
   "id": "866ba7d4",
   "metadata": {
    "ExecuteTime": {
     "end_time": "2023-01-27T17:26:27.474608Z",
     "start_time": "2023-01-27T14:18:50.105262Z"
    },
    "scrolled": true
   },
   "outputs": [
    {
     "name": "stdout",
     "output_type": "stream",
     "text": [
      "Currently trying regularization :1.0000000000000031e-10\n"
     ]
    },
    {
     "name": "stderr",
     "output_type": "stream",
     "text": [
      "Epoch: 4898:   0%|▏                                                                                                | 4898/2000000 [01:46<12:02:41, 46.01it/s, lowest_loss=0.0146, pred_loss=0.000213, trigger=1300]\n"
     ]
    },
    {
     "name": "stdout",
     "output_type": "stream",
     "text": [
      "Implemented early stopping with lowest_loss: 0.01460984729623029\n"
     ]
    },
    {
     "name": "stderr",
     "output_type": "stream",
     "text": [
      "Epoch: 4895:   0%|▏                                                                                                | 4895/2000000 [01:45<11:54:11, 46.56it/s, lowest_loss=0.0147, pred_loss=0.000216, trigger=1300]\n"
     ]
    },
    {
     "name": "stdout",
     "output_type": "stream",
     "text": [
      "Implemented early stopping with lowest_loss: 0.014700051137602775\n",
      "The performance at reg value:1.0000000000000031e-10 is 0.00021480600769089138\n",
      "Currently trying regularization :1.0000000000000018e-08\n"
     ]
    },
    {
     "name": "stderr",
     "output_type": "stream",
     "text": [
      "Epoch: 5617:   0%|▎                                                                                                | 5617/2000000 [02:02<12:03:19, 45.95it/s, lowest_loss=0.0184, pred_loss=0.000338, trigger=1300]\n"
     ]
    },
    {
     "name": "stdout",
     "output_type": "stream",
     "text": [
      "Implemented early stopping with lowest_loss: 0.01837476808515232\n"
     ]
    },
    {
     "name": "stderr",
     "output_type": "stream",
     "text": [
      "Epoch: 4840:   0%|▏                                                                                                | 4840/2000000 [01:45<12:03:47, 45.94it/s, lowest_loss=0.0184, pred_loss=0.000338, trigger=1300]\n"
     ]
    },
    {
     "name": "stdout",
     "output_type": "stream",
     "text": [
      "Implemented early stopping with lowest_loss: 0.018401996271018108\n",
      "The performance at reg value:1.0000000000000018e-08 is 0.0003382527884219765\n",
      "Currently trying regularization :1.0000000000000004e-06\n"
     ]
    },
    {
     "name": "stderr",
     "output_type": "stream",
     "text": [
      "Epoch: 4300:   0%|▏                                                                                                 | 4300/2000000 [01:32<11:57:53, 46.33it/s, lowest_loss=0.0343, pred_loss=0.00118, trigger=1300]\n"
     ]
    },
    {
     "name": "stdout",
     "output_type": "stream",
     "text": [
      "Implemented early stopping with lowest_loss: 0.03430628857148687\n"
     ]
    },
    {
     "name": "stderr",
     "output_type": "stream",
     "text": [
      "Epoch: 4016:   0%|▏                                                                                                 | 4016/2000000 [01:26<11:57:22, 46.37it/s, lowest_loss=0.0343, pred_loss=0.00118, trigger=1300]\n"
     ]
    },
    {
     "name": "stdout",
     "output_type": "stream",
     "text": [
      "Implemented early stopping with lowest_loss: 0.03430852898595736\n",
      "The performance at reg value:1.0000000000000004e-06 is 0.0011770499586201489\n",
      "Currently trying regularization :9.999999999999991e-05\n"
     ]
    },
    {
     "name": "stderr",
     "output_type": "stream",
     "text": [
      "Epoch: 1432:   0%|                                                                                                    | 1432/2000000 [00:30<11:43:57, 47.32it/s, lowest_loss=0.064, pred_loss=0.0041, trigger=1300]\n"
     ]
    },
    {
     "name": "stdout",
     "output_type": "stream",
     "text": [
      "Implemented early stopping with lowest_loss: 0.06401722092320913\n"
     ]
    },
    {
     "name": "stderr",
     "output_type": "stream",
     "text": [
      "Epoch: 1432:   0%|                                                                                                    | 1432/2000000 [00:31<12:04:41, 45.96it/s, lowest_loss=0.064, pred_loss=0.0041, trigger=1300]\n"
     ]
    },
    {
     "name": "stdout",
     "output_type": "stream",
     "text": [
      "Implemented early stopping with lowest_loss: 0.06401609082117621\n",
      "The performance at reg value:9.999999999999991e-05 is 0.004098080648992898\n",
      "Currently trying regularization :0.010000000000000005\n"
     ]
    },
    {
     "name": "stderr",
     "output_type": "stream",
     "text": [
      "Epoch: 1346:   0%|                                                                                                  | 1346/2000000 [00:28<11:48:54, 46.99it/s, lowest_loss=0.0923, pred_loss=0.00853, trigger=1300]\n"
     ]
    },
    {
     "name": "stdout",
     "output_type": "stream",
     "text": [
      "Implemented early stopping with lowest_loss: 0.09230138610154055\n"
     ]
    },
    {
     "name": "stderr",
     "output_type": "stream",
     "text": [
      "Epoch: 1338:   0%|                                                                                                  | 1338/2000000 [00:28<11:53:48, 46.67it/s, lowest_loss=0.0923, pred_loss=0.00853, trigger=1300]\n"
     ]
    },
    {
     "name": "stdout",
     "output_type": "stream",
     "text": [
      "Implemented early stopping with lowest_loss: 0.09228854268221402\n",
      "The performance at reg value:0.010000000000000005 is 0.008527607021859477\n",
      "Currently trying regularization :1.0\n"
     ]
    },
    {
     "name": "stderr",
     "output_type": "stream",
     "text": [
      "Epoch: 1383:   0%|                                                                                                  | 1383/2000000 [00:29<11:58:43, 46.35it/s, lowest_loss=0.0942, pred_loss=0.00887, trigger=1300]\n"
     ]
    },
    {
     "name": "stdout",
     "output_type": "stream",
     "text": [
      "Implemented early stopping with lowest_loss: 0.09419871743630996\n"
     ]
    },
    {
     "name": "stderr",
     "output_type": "stream",
     "text": [
      "Epoch: 1383:   0%|                                                                                                  | 1383/2000000 [00:29<11:49:26, 46.95it/s, lowest_loss=0.0942, pred_loss=0.00887, trigger=1300]\n"
     ]
    },
    {
     "name": "stdout",
     "output_type": "stream",
     "text": [
      "Implemented early stopping with lowest_loss: 0.09419312724157318\n",
      "The performance at reg value:1.0 is 0.008873772567017933\n",
      "Currently trying regularization :100.00000000000004\n"
     ]
    },
    {
     "name": "stderr",
     "output_type": "stream",
     "text": [
      "Epoch: 1375:   0%|                                                                                                  | 1375/2000000 [00:29<11:58:48, 46.34it/s, lowest_loss=0.0942, pred_loss=0.00888, trigger=1300]\n"
     ]
    },
    {
     "name": "stdout",
     "output_type": "stream",
     "text": [
      "Implemented early stopping with lowest_loss: 0.09423526400541825\n"
     ]
    },
    {
     "name": "stderr",
     "output_type": "stream",
     "text": [
      "Epoch: 1396:   0%|                                                                                                  | 1396/2000000 [00:30<12:01:08, 46.19it/s, lowest_loss=0.0942, pred_loss=0.00888, trigger=1300]\n"
     ]
    },
    {
     "name": "stdout",
     "output_type": "stream",
     "text": [
      "Implemented early stopping with lowest_loss: 0.09422737839068697\n",
      "The performance at reg value:100.00000000000004 is 0.008879665993233575\n",
      "The log_grid error is:\n",
      "[0.00021481 0.00033825 0.00117705 0.00409808 0.00852761 0.00887377\n",
      " 0.00887967]\n",
      "Init value is: 1.0000000000000031e-10\n",
      "Currently trying regularization :[1.e-10]\n"
     ]
    },
    {
     "name": "stderr",
     "output_type": "stream",
     "text": [
      "Epoch: 4828:   0%|▏                                                                                                | 4828/2000000 [01:43<11:55:45, 46.46it/s, lowest_loss=0.0147, pred_loss=0.000216, trigger=1300]\n"
     ]
    },
    {
     "name": "stdout",
     "output_type": "stream",
     "text": [
      "Implemented early stopping with lowest_loss: 0.014702705896698948\n"
     ]
    },
    {
     "name": "stderr",
     "output_type": "stream",
     "text": [
      "Epoch: 4865:   0%|▏                                                                                                | 4865/2000000 [01:44<11:55:45, 46.46it/s, lowest_loss=0.0146, pred_loss=0.000213, trigger=1300]\n"
     ]
    },
    {
     "name": "stdout",
     "output_type": "stream",
     "text": [
      "Implemented early stopping with lowest_loss: 0.014617502113199031\n",
      "The performance at reg value:[1.e-10] is 0.00021491939412930273\n",
      "Currently trying regularization :[3.16227766e-11]\n"
     ]
    },
    {
     "name": "stderr",
     "output_type": "stream",
     "text": [
      "Epoch: 5046:   0%|▏                                                                                                 | 5046/2000000 [01:51<12:14:47, 45.25it/s, lowest_loss=0.0145, pred_loss=0.00021, trigger=1300]\n"
     ]
    },
    {
     "name": "stdout",
     "output_type": "stream",
     "text": [
      "Implemented early stopping with lowest_loss: 0.014509118181533913\n"
     ]
    },
    {
     "name": "stderr",
     "output_type": "stream",
     "text": [
      "Epoch: 5872:   0%|▎                                                                                                 | 5872/2000000 [02:07<12:02:32, 46.00it/s, lowest_loss=0.0145, pred_loss=0.00021, trigger=1300]\n"
     ]
    },
    {
     "name": "stdout",
     "output_type": "stream",
     "text": [
      "Implemented early stopping with lowest_loss: 0.014509418315374488\n",
      "The performance at reg value:[3.16227766e-11] is 0.000210444785052635\n",
      "Currently trying regularization :[1.e-11]\n"
     ]
    },
    {
     "name": "stderr",
     "output_type": "stream",
     "text": [
      "Epoch: 4973:   0%|▏                                                                                                 | 4973/2000000 [01:48<12:04:31, 45.89it/s, lowest_loss=0.0145, pred_loss=0.00021, trigger=1300]\n"
     ]
    },
    {
     "name": "stdout",
     "output_type": "stream",
     "text": [
      "Implemented early stopping with lowest_loss: 0.014499589349799166\n"
     ]
    },
    {
     "name": "stderr",
     "output_type": "stream",
     "text": [
      "Epoch: 5317:   0%|▎                                                                                                 | 5317/2000000 [01:54<11:52:47, 46.64it/s, lowest_loss=0.0145, pred_loss=0.00021, trigger=1300]\n"
     ]
    },
    {
     "name": "stdout",
     "output_type": "stream",
     "text": [
      "Implemented early stopping with lowest_loss: 0.014486668520929967\n",
      "The performance at reg value:[1.e-11] is 0.00021005158770659896\n",
      "Currently trying regularization :[3.16227766e-12]\n"
     ]
    },
    {
     "name": "stderr",
     "output_type": "stream",
     "text": [
      "Epoch: 4944:   0%|▏                                                                                                | 4944/2000000 [01:46<11:54:32, 46.53it/s, lowest_loss=0.0145, pred_loss=0.000209, trigger=1300]\n"
     ]
    },
    {
     "name": "stdout",
     "output_type": "stream",
     "text": [
      "Implemented early stopping with lowest_loss: 0.014470120139434873\n"
     ]
    },
    {
     "name": "stderr",
     "output_type": "stream",
     "text": [
      "Epoch: 5058:   0%|▏                                                                                                | 5058/2000000 [01:49<12:00:06, 46.17it/s, lowest_loss=0.0145, pred_loss=0.000209, trigger=1300]\n"
     ]
    },
    {
     "name": "stdout",
     "output_type": "stream",
     "text": [
      "Implemented early stopping with lowest_loss: 0.014470813023410868\n",
      "The performance at reg value:[3.16227766e-12] is 0.00020942513392409578\n",
      "Optimal regularization value for Ridge, Feature:avedesc, target: pw is 3.1622776601683673e-12\n",
      "Currently training torch linear model with features :avedesc, target: pw, opt: Adam, lr:0.1\n"
     ]
    },
    {
     "name": "stderr",
     "output_type": "stream",
     "text": [
      "Epoch: 5839:   0%|▎                                                                                                | 5839/2000000 [02:07<12:05:14, 45.83it/s, lowest_loss=0.0145, pred_loss=0.000209, trigger=1300]\n"
     ]
    },
    {
     "name": "stdout",
     "output_type": "stream",
     "text": [
      "Implemented early stopping with lowest_loss: 0.014474158217777014\n",
      "Currently trying regularization :1.0000000000000031e-10\n"
     ]
    },
    {
     "name": "stderr",
     "output_type": "stream",
     "text": [
      "Epoch: 5241:   0%|▎                                                                                                 | 5241/2000000 [02:34<16:21:40, 33.87it/s, lowest_loss=0.0429, pred_loss=0.00184, trigger=1300]\n"
     ]
    },
    {
     "name": "stdout",
     "output_type": "stream",
     "text": [
      "Implemented early stopping with lowest_loss: 0.0428601771571922\n"
     ]
    },
    {
     "name": "stderr",
     "output_type": "stream",
     "text": [
      "Epoch: 5216:   0%|▎                                                                                                 | 5216/2000000 [02:33<16:20:18, 33.91it/s, lowest_loss=0.0428, pred_loss=0.00183, trigger=1300]\n"
     ]
    },
    {
     "name": "stdout",
     "output_type": "stream",
     "text": [
      "Implemented early stopping with lowest_loss: 0.04278429917262287\n",
      "The performance at reg value:1.0000000000000031e-10 is 0.0018338934423836077\n",
      "Currently trying regularization :1.0000000000000018e-08\n"
     ]
    },
    {
     "name": "stderr",
     "output_type": "stream",
     "text": [
      "Epoch: 6023:   0%|▎                                                                                                 | 6023/2000000 [02:59<16:30:50, 33.54it/s, lowest_loss=0.0428, pred_loss=0.00183, trigger=1300]\n"
     ]
    },
    {
     "name": "stdout",
     "output_type": "stream",
     "text": [
      "Implemented early stopping with lowest_loss: 0.04277744051080507\n"
     ]
    },
    {
     "name": "stderr",
     "output_type": "stream",
     "text": [
      "Epoch: 5194:   0%|▎                                                                                                 | 5194/2000000 [02:34<16:27:42, 33.66it/s, lowest_loss=0.0428, pred_loss=0.00183, trigger=1300]\n"
     ]
    },
    {
     "name": "stdout",
     "output_type": "stream",
     "text": [
      "Implemented early stopping with lowest_loss: 0.04280268758209192\n",
      "The performance at reg value:1.0000000000000018e-08 is 0.0018310093226522005\n",
      "Currently trying regularization :1.0000000000000004e-06\n"
     ]
    },
    {
     "name": "stderr",
     "output_type": "stream",
     "text": [
      "Epoch: 5397:   0%|▎                                                                                                 | 5397/2000000 [02:39<16:21:06, 33.88it/s, lowest_loss=0.0429, pred_loss=0.00184, trigger=1300]\n"
     ]
    },
    {
     "name": "stdout",
     "output_type": "stream",
     "text": [
      "Implemented early stopping with lowest_loss: 0.042851197194313045\n"
     ]
    },
    {
     "name": "stderr",
     "output_type": "stream",
     "text": [
      "Epoch: 6103:   0%|▎                                                                                                 | 6103/2000000 [03:00<16:22:31, 33.82it/s, lowest_loss=0.0428, pred_loss=0.00183, trigger=1300]\n"
     ]
    },
    {
     "name": "stdout",
     "output_type": "stream",
     "text": [
      "Implemented early stopping with lowest_loss: 0.0428076211061505\n",
      "The performance at reg value:1.0000000000000004e-06 is 0.0018345631789133529\n",
      "Currently trying regularization :9.999999999999991e-05\n"
     ]
    },
    {
     "name": "stderr",
     "output_type": "stream",
     "text": [
      "Epoch: 4048:   0%|▏                                                                                                 | 4048/2000000 [01:59<16:24:17, 33.80it/s, lowest_loss=0.0467, pred_loss=0.00218, trigger=1300]\n"
     ]
    },
    {
     "name": "stdout",
     "output_type": "stream",
     "text": [
      "Implemented early stopping with lowest_loss: 0.04667414426616123\n"
     ]
    },
    {
     "name": "stderr",
     "output_type": "stream",
     "text": [
      "Epoch: 4077:   0%|▏                                                                                                 | 4077/2000000 [01:59<16:19:04, 33.98it/s, lowest_loss=0.0467, pred_loss=0.00218, trigger=1300]\n"
     ]
    },
    {
     "name": "stdout",
     "output_type": "stream",
     "text": [
      "Implemented early stopping with lowest_loss: 0.04667417384147107\n",
      "The performance at reg value:9.999999999999991e-05 is 0.002178526275930431\n",
      "Currently trying regularization :0.010000000000000005\n"
     ]
    },
    {
     "name": "stderr",
     "output_type": "stream",
     "text": [
      "Epoch: 2426:   0%|                                                                                                  | 2426/2000000 [01:10<16:07:20, 34.42it/s, lowest_loss=0.0808, pred_loss=0.00652, trigger=1300]\n"
     ]
    },
    {
     "name": "stdout",
     "output_type": "stream",
     "text": [
      "Implemented early stopping with lowest_loss: 0.080777130807295\n"
     ]
    },
    {
     "name": "stderr",
     "output_type": "stream",
     "text": [
      "Epoch: 2433:   0%|                                                                                                  | 2433/2000000 [01:12<16:25:38, 33.78it/s, lowest_loss=0.0808, pred_loss=0.00652, trigger=1300]\n"
     ]
    },
    {
     "name": "stdout",
     "output_type": "stream",
     "text": [
      "Implemented early stopping with lowest_loss: 0.08077663222090141\n",
      "The performance at reg value:0.010000000000000005 is 0.006524930431045611\n",
      "Currently trying regularization :1.0\n"
     ]
    },
    {
     "name": "stderr",
     "output_type": "stream",
     "text": [
      "Epoch: 1400:   0%|                                                                                                  | 1400/2000000 [00:41<16:33:35, 33.52it/s, lowest_loss=0.0939, pred_loss=0.00883, trigger=1300]\n"
     ]
    },
    {
     "name": "stdout",
     "output_type": "stream",
     "text": [
      "Implemented early stopping with lowest_loss: 0.0939483855323077\n"
     ]
    },
    {
     "name": "stderr",
     "output_type": "stream",
     "text": [
      "Epoch: 1385:   0%|                                                                                                  | 1385/2000000 [00:41<16:28:45, 33.69it/s, lowest_loss=0.0939, pred_loss=0.00883, trigger=1300]\n"
     ]
    },
    {
     "name": "stdout",
     "output_type": "stream",
     "text": [
      "Implemented early stopping with lowest_loss: 0.09394071886520285\n",
      "The performance at reg value:1.0 is 0.00882560626318004\n",
      "Currently trying regularization :100.00000000000004\n"
     ]
    },
    {
     "name": "stderr",
     "output_type": "stream",
     "text": [
      "Epoch: 1424:   0%|                                                                                                  | 1424/2000000 [00:42<16:27:32, 33.73it/s, lowest_loss=0.0942, pred_loss=0.00888, trigger=1300]\n"
     ]
    },
    {
     "name": "stdout",
     "output_type": "stream",
     "text": [
      "Implemented early stopping with lowest_loss: 0.09422759910175461\n"
     ]
    },
    {
     "name": "stderr",
     "output_type": "stream",
     "text": [
      "Epoch: 1410:   0%|                                                                                                  | 1410/2000000 [00:42<16:36:22, 33.43it/s, lowest_loss=0.0942, pred_loss=0.00888, trigger=1300]\n"
     ]
    },
    {
     "name": "stdout",
     "output_type": "stream",
     "text": [
      "Implemented early stopping with lowest_loss: 0.09423252131378594\n",
      "The performance at reg value:100.00000000000004 is 0.008879190706194182\n",
      "The log_grid error is:\n",
      "[0.00183389 0.00183101 0.00183456 0.00217853 0.00652493 0.00882561\n",
      " 0.00887919]\n",
      "Init value is: 1.0000000000000018e-08\n",
      "Currently trying regularization :[1.e-08]\n"
     ]
    },
    {
     "name": "stderr",
     "output_type": "stream",
     "text": [
      "Epoch: 5502:   0%|▎                                                                                                 | 5502/2000000 [02:40<16:11:44, 34.21it/s, lowest_loss=0.0428, pred_loss=0.00183, trigger=1300]\n"
     ]
    },
    {
     "name": "stdout",
     "output_type": "stream",
     "text": [
      "Implemented early stopping with lowest_loss: 0.04282433089898341\n"
     ]
    },
    {
     "name": "stderr",
     "output_type": "stream",
     "text": [
      "Epoch: 5377:   0%|▎                                                                                                 | 5377/2000000 [02:38<16:19:02, 33.96it/s, lowest_loss=0.0428, pred_loss=0.00183, trigger=1300]\n"
     ]
    },
    {
     "name": "stdout",
     "output_type": "stream",
     "text": [
      "Implemented early stopping with lowest_loss: 0.042784440331583094\n",
      "The performance at reg value:[1.e-08] is 0.001832355620088993\n",
      "Currently trying regularization :[3.98107171e-09]\n"
     ]
    },
    {
     "name": "stderr",
     "output_type": "stream",
     "text": [
      "Epoch: 5741:   0%|▎                                                                                                 | 5741/2000000 [02:48<16:16:32, 34.04it/s, lowest_loss=0.0428, pred_loss=0.00183, trigger=1300]\n"
     ]
    },
    {
     "name": "stdout",
     "output_type": "stream",
     "text": [
      "Implemented early stopping with lowest_loss: 0.0427679801658768\n"
     ]
    },
    {
     "name": "stderr",
     "output_type": "stream",
     "text": [
      "Epoch: 6129:   0%|▎                                                                                                 | 6129/2000000 [03:01<16:21:49, 33.85it/s, lowest_loss=0.0428, pred_loss=0.00183, trigger=1300]\n"
     ]
    },
    {
     "name": "stdout",
     "output_type": "stream",
     "text": [
      "Implemented early stopping with lowest_loss: 0.04276245728327587\n",
      "The performance at reg value:[3.98107171e-09] is 0.001828968878866616\n",
      "Currently trying regularization :[1.58489319e-09]\n"
     ]
    },
    {
     "name": "stderr",
     "output_type": "stream",
     "text": [
      "Epoch: 5404:   0%|▎                                                                                                 | 5404/2000000 [02:39<16:23:37, 33.80it/s, lowest_loss=0.0428, pred_loss=0.00183, trigger=1300]\n"
     ]
    },
    {
     "name": "stdout",
     "output_type": "stream",
     "text": [
      "Implemented early stopping with lowest_loss: 0.04275899236627952\n"
     ]
    },
    {
     "name": "stderr",
     "output_type": "stream",
     "text": [
      "Epoch: 6053:   0%|▎                                                                                                 | 6053/2000000 [02:59<16:25:37, 33.72it/s, lowest_loss=0.0428, pred_loss=0.00183, trigger=1300]\n"
     ]
    },
    {
     "name": "stdout",
     "output_type": "stream",
     "text": [
      "Implemented early stopping with lowest_loss: 0.04275363351029247\n",
      "The performance at reg value:[1.58489319e-09] is 0.001828091968160553\n",
      "Currently trying regularization :[6.30957344e-10]\n"
     ]
    },
    {
     "name": "stderr",
     "output_type": "stream",
     "text": [
      "Epoch: 5199:   0%|▎                                                                                                 | 5199/2000000 [02:33<16:23:32, 33.80it/s, lowest_loss=0.0428, pred_loss=0.00183, trigger=1300]\n"
     ]
    },
    {
     "name": "stdout",
     "output_type": "stream",
     "text": [
      "Implemented early stopping with lowest_loss: 0.04277883571718157\n"
     ]
    },
    {
     "name": "stderr",
     "output_type": "stream",
     "text": [
      "Epoch: 6080:   0%|▎                                                                                                 | 6080/2000000 [03:00<16:25:46, 33.71it/s, lowest_loss=0.0427, pred_loss=0.00182, trigger=1300]\n"
     ]
    },
    {
     "name": "stdout",
     "output_type": "stream",
     "text": [
      "Implemented early stopping with lowest_loss: 0.042693734853131333\n",
      "The performance at reg value:[6.30957344e-10] is 0.001826364861473551\n",
      "Optimal regularization value for Ridge, Feature:avekerneldesc, target: pw is 6.309573444801949e-10\n",
      "Currently training torch linear model with features :avekerneldesc, target: pw, opt: Adam, lr:0.001\n"
     ]
    },
    {
     "name": "stderr",
     "output_type": "stream",
     "text": [
      "Epoch: 5322:   0%|▎                                                                                                 | 5322/2000000 [02:35<16:11:06, 34.23it/s, lowest_loss=0.0428, pred_loss=0.00183, trigger=1300]\n"
     ]
    },
    {
     "name": "stdout",
     "output_type": "stream",
     "text": [
      "Implemented early stopping with lowest_loss: 0.04282098367984266\n",
      "Currently trying regularization :1.0000000000000031e-10\n"
     ]
    },
    {
     "name": "stderr",
     "output_type": "stream",
     "text": [
      "Epoch: 8668:   0%|▍                                                                                                   | 8668/2000000 [03:04<11:46:48, 46.96it/s, lowest_loss=0.263, pred_loss=0.0693, trigger=1300]\n"
     ]
    },
    {
     "name": "stdout",
     "output_type": "stream",
     "text": [
      "Implemented early stopping with lowest_loss: 0.26316683407297425\n"
     ]
    },
    {
     "name": "stderr",
     "output_type": "stream",
     "text": [
      "Epoch: 8136:   0%|▍                                                                                                   | 8136/2000000 [02:52<11:42:25, 47.26it/s, lowest_loss=0.263, pred_loss=0.0692, trigger=1300]\n"
     ]
    },
    {
     "name": "stdout",
     "output_type": "stream",
     "text": [
      "Implemented early stopping with lowest_loss: 0.2630398233286805\n",
      "The performance at reg value:1.0000000000000031e-10 is 0.06921536198322722\n",
      "Currently trying regularization :1.0000000000000018e-08\n"
     ]
    },
    {
     "name": "stderr",
     "output_type": "stream",
     "text": [
      "Epoch: 7169:   0%|▎                                                                                                   | 7169/2000000 [02:32<11:45:07, 47.10it/s, lowest_loss=0.313, pred_loss=0.0978, trigger=1300]\n"
     ]
    },
    {
     "name": "stdout",
     "output_type": "stream",
     "text": [
      "Implemented early stopping with lowest_loss: 0.3127709269147396\n"
     ]
    },
    {
     "name": "stderr",
     "output_type": "stream",
     "text": [
      "Epoch: 7209:   0%|▎                                                                                                   | 7209/2000000 [02:31<11:38:53, 47.52it/s, lowest_loss=0.312, pred_loss=0.0973, trigger=1300]\n"
     ]
    },
    {
     "name": "stdout",
     "output_type": "stream",
     "text": [
      "Implemented early stopping with lowest_loss: 0.3120053991986277\n",
      "The performance at reg value:1.0000000000000018e-08 is 0.09762577042885834\n",
      "Currently trying regularization :1.0000000000000004e-06\n"
     ]
    },
    {
     "name": "stderr",
     "output_type": "stream",
     "text": [
      "Epoch: 5070:   0%|▎                                                                                                    | 5070/2000000 [01:48<11:53:11, 46.62it/s, lowest_loss=0.792, pred_loss=0.627, trigger=1300]\n"
     ]
    },
    {
     "name": "stdout",
     "output_type": "stream",
     "text": [
      "Implemented early stopping with lowest_loss: 0.7915819220204127\n"
     ]
    },
    {
     "name": "stderr",
     "output_type": "stream",
     "text": [
      "Epoch: 5870:   0%|▎                                                                                                    | 5870/2000000 [02:06<11:56:56, 46.36it/s, lowest_loss=0.792, pred_loss=0.627, trigger=1300]\n"
     ]
    },
    {
     "name": "stdout",
     "output_type": "stream",
     "text": [
      "Implemented early stopping with lowest_loss: 0.7916447361926351\n",
      "The performance at reg value:1.0000000000000004e-06 is 0.626631482350982\n",
      "Currently trying regularization :9.999999999999991e-05\n"
     ]
    },
    {
     "name": "stderr",
     "output_type": "stream",
     "text": [
      "Epoch: 1427:   0%|                                                                                                       | 1427/2000000 [00:30<11:45:28, 47.22it/s, lowest_loss=2.81, pred_loss=7.91, trigger=1300]\n"
     ]
    },
    {
     "name": "stdout",
     "output_type": "stream",
     "text": [
      "Implemented early stopping with lowest_loss: 2.8129737980671172\n"
     ]
    },
    {
     "name": "stderr",
     "output_type": "stream",
     "text": [
      "Epoch: 1431:   0%|                                                                                                       | 1431/2000000 [00:30<11:43:04, 47.38it/s, lowest_loss=2.81, pred_loss=7.91, trigger=1300]\n"
     ]
    },
    {
     "name": "stdout",
     "output_type": "stream",
     "text": [
      "Implemented early stopping with lowest_loss: 2.8129652030840373\n",
      "The performance at reg value:9.999999999999991e-05 is 7.912956041499851\n",
      "Currently trying regularization :0.010000000000000005\n"
     ]
    },
    {
     "name": "stderr",
     "output_type": "stream",
     "text": [
      "Epoch: 1303:   0%|                                                                                                       | 1303/2000000 [00:28<12:07:17, 45.80it/s, lowest_loss=4.92, pred_loss=26.3, trigger=1300]\n"
     ]
    },
    {
     "name": "stdout",
     "output_type": "stream",
     "text": [
      "Implemented early stopping with lowest_loss: 4.921220097247267\n"
     ]
    },
    {
     "name": "stderr",
     "output_type": "stream",
     "text": [
      "Epoch: 1303:   0%|                                                                                                       | 1303/2000000 [00:27<11:34:47, 47.94it/s, lowest_loss=4.93, pred_loss=26.3, trigger=1300]\n"
     ]
    },
    {
     "name": "stdout",
     "output_type": "stream",
     "text": [
      "Implemented early stopping with lowest_loss: 4.934584369206409\n",
      "The performance at reg value:0.010000000000000005 is 44.08384118161518\n",
      "Currently trying regularization :1.0\n"
     ]
    },
    {
     "name": "stderr",
     "output_type": "stream",
     "text": [
      "Epoch: 1331:   0%|                                                                                                       | 1331/2000000 [00:28<11:49:13, 46.97it/s, lowest_loss=5.31, pred_loss=28.3, trigger=1300]\n"
     ]
    },
    {
     "name": "stdout",
     "output_type": "stream",
     "text": [
      "Implemented early stopping with lowest_loss: 5.31466137352239\n"
     ]
    },
    {
     "name": "stderr",
     "output_type": "stream",
     "text": [
      "Epoch: 1320:   0%|                                                                                                       | 1320/2000000 [00:28<11:48:01, 47.05it/s, lowest_loss=5.31, pred_loss=28.3, trigger=1300]\n"
     ]
    },
    {
     "name": "stdout",
     "output_type": "stream",
     "text": [
      "Implemented early stopping with lowest_loss: 5.313713108249434\n",
      "The performance at reg value:1.0 is 28.29170896268404\n",
      "Currently trying regularization :100.00000000000004\n"
     ]
    },
    {
     "name": "stderr",
     "output_type": "stream",
     "text": [
      "Epoch: 1364:   0%|                                                                                                       | 1364/2000000 [00:28<11:42:40, 47.41it/s, lowest_loss=5.32, pred_loss=28.3, trigger=1300]\n"
     ]
    },
    {
     "name": "stdout",
     "output_type": "stream",
     "text": [
      "Implemented early stopping with lowest_loss: 5.319953270907256\n"
     ]
    },
    {
     "name": "stderr",
     "output_type": "stream",
     "text": [
      "Epoch: 1366:   0%|                                                                                                       | 1366/2000000 [00:28<11:39:12, 47.64it/s, lowest_loss=5.32, pred_loss=28.3, trigger=1300]\n"
     ]
    },
    {
     "name": "stdout",
     "output_type": "stream",
     "text": [
      "Implemented early stopping with lowest_loss: 5.320317196580742\n",
      "The performance at reg value:100.00000000000004 is 28.306427817260925\n",
      "The log_grid error is:\n",
      "[ 0.06921536  0.09762577  0.62663148  7.91295604 44.08384118 28.29170896\n",
      " 28.30642782]\n",
      "Init value is: 1.0000000000000031e-10\n",
      "Currently trying regularization :[1.e-10]\n"
     ]
    },
    {
     "name": "stderr",
     "output_type": "stream",
     "text": [
      "Epoch: 7524:   0%|▍                                                                                                   | 7524/2000000 [02:40<11:47:39, 46.93it/s, lowest_loss=0.263, pred_loss=0.0692, trigger=1300]\n"
     ]
    },
    {
     "name": "stdout",
     "output_type": "stream",
     "text": [
      "Implemented early stopping with lowest_loss: 0.26313056783407035\n"
     ]
    },
    {
     "name": "stderr",
     "output_type": "stream",
     "text": [
      "Epoch: 8479:   0%|▍                                                                                                   | 8479/2000000 [03:02<11:55:12, 46.41it/s, lowest_loss=0.261, pred_loss=0.0683, trigger=1300]\n"
     ]
    },
    {
     "name": "stdout",
     "output_type": "stream",
     "text": [
      "Implemented early stopping with lowest_loss: 0.2613652101518756\n",
      "The performance at reg value:[1.e-10] is 0.06876417836082992\n",
      "Currently trying regularization :[3.16227766e-11]\n"
     ]
    },
    {
     "name": "stderr",
     "output_type": "stream",
     "text": [
      "Epoch: 7700:   0%|▍                                                                                                   | 7700/2000000 [02:42<11:42:21, 47.28it/s, lowest_loss=0.261, pred_loss=0.0682, trigger=1300]\n"
     ]
    },
    {
     "name": "stdout",
     "output_type": "stream",
     "text": [
      "Implemented early stopping with lowest_loss: 0.2610742499167625\n"
     ]
    },
    {
     "name": "stderr",
     "output_type": "stream",
     "text": [
      "Epoch: 8219:   0%|▍                                                                                                    | 8219/2000000 [02:54<11:46:33, 46.98it/s, lowest_loss=0.26, pred_loss=0.0675, trigger=1300]\n"
     ]
    },
    {
     "name": "stdout",
     "output_type": "stream",
     "text": [
      "Implemented early stopping with lowest_loss: 0.2598831746943923\n",
      "The performance at reg value:[3.16227766e-11] is 0.06784744828925982\n",
      "Currently trying regularization :[1.e-11]\n"
     ]
    },
    {
     "name": "stderr",
     "output_type": "stream",
     "text": [
      "Epoch: 7543:   0%|▍                                                                                                    | 7543/2000000 [02:38<11:36:59, 47.64it/s, lowest_loss=0.26, pred_loss=0.0674, trigger=1300]\n"
     ]
    },
    {
     "name": "stdout",
     "output_type": "stream",
     "text": [
      "Implemented early stopping with lowest_loss: 0.2595775477670516\n"
     ]
    },
    {
     "name": "stderr",
     "output_type": "stream",
     "text": [
      "Epoch: 7613:   0%|▍                                                                                                    | 7613/2000000 [02:41<11:43:03, 47.23it/s, lowest_loss=0.26, pred_loss=0.0676, trigger=1300]\n"
     ]
    },
    {
     "name": "stdout",
     "output_type": "stream",
     "text": [
      "Implemented early stopping with lowest_loss: 0.26004792776302693\n",
      "The performance at reg value:[1.e-11] is 0.06749104950770941\n",
      "Currently trying regularization :[3.16227766e-12]\n"
     ]
    },
    {
     "name": "stderr",
     "output_type": "stream",
     "text": [
      "Epoch: 7775:   0%|▍                                                                                                    | 7775/2000000 [02:45<11:46:41, 46.98it/s, lowest_loss=0.26, pred_loss=0.0673, trigger=1300]\n"
     ]
    },
    {
     "name": "stdout",
     "output_type": "stream",
     "text": [
      "Implemented early stopping with lowest_loss: 0.2595081205331626\n"
     ]
    },
    {
     "name": "stderr",
     "output_type": "stream",
     "text": [
      "Epoch: 7903:   0%|▍                                                                                                    | 7903/2000000 [02:46<11:39:35, 47.46it/s, lowest_loss=0.259, pred_loss=0.067, trigger=1300]\n"
     ]
    },
    {
     "name": "stdout",
     "output_type": "stream",
     "text": [
      "Implemented early stopping with lowest_loss: 0.2588285283447921\n",
      "The performance at reg value:[3.16227766e-12] is 0.06713113979176788\n",
      "Optimal regularization value for Ridge, Feature:avedesc, target: lcdf is 3.1622776601683673e-12\n",
      "Currently training torch linear model with features :avedesc, target: lcdf, opt: Adam, lr:1\n"
     ]
    },
    {
     "name": "stderr",
     "output_type": "stream",
     "text": [
      "Epoch: 8777:   0%|▍                                                                                                    | 8777/2000000 [03:03<11:33:28, 47.86it/s, lowest_loss=0.26, pred_loss=0.0674, trigger=1300]\n"
     ]
    },
    {
     "name": "stdout",
     "output_type": "stream",
     "text": [
      "Implemented early stopping with lowest_loss: 0.259693736764835\n",
      "Currently trying regularization :1.0000000000000031e-10\n"
     ]
    },
    {
     "name": "stderr",
     "output_type": "stream",
     "text": [
      "Epoch: 14470:   1%|▋                                                                                                    | 14470/2000000 [06:59<15:59:05, 34.50it/s, lowest_loss=1.03, pred_loss=1.07, trigger=1300]\n"
     ]
    },
    {
     "name": "stdout",
     "output_type": "stream",
     "text": [
      "Implemented early stopping with lowest_loss: 1.0323749412330345\n"
     ]
    },
    {
     "name": "stderr",
     "output_type": "stream",
     "text": [
      "Epoch: 15136:   1%|▊                                                                                                    | 15136/2000000 [07:16<15:52:56, 34.71it/s, lowest_loss=1.04, pred_loss=1.07, trigger=1300]\n"
     ]
    },
    {
     "name": "stdout",
     "output_type": "stream",
     "text": [
      "Implemented early stopping with lowest_loss: 1.0360630693682327\n",
      "The performance at reg value:1.0000000000000031e-10 is 1.0696962740058524\n",
      "Currently trying regularization :1.0000000000000018e-08\n"
     ]
    },
    {
     "name": "stderr",
     "output_type": "stream",
     "text": [
      "Epoch: 14738:   1%|▋                                                                                                    | 14738/2000000 [07:05<15:55:34, 34.63it/s, lowest_loss=1.03, pred_loss=1.06, trigger=1300]\n"
     ]
    },
    {
     "name": "stdout",
     "output_type": "stream",
     "text": [
      "Implemented early stopping with lowest_loss: 1.0313800915046039\n"
     ]
    },
    {
     "name": "stderr",
     "output_type": "stream",
     "text": [
      "Epoch: 14691:   1%|▋                                                                                                    | 14691/2000000 [07:02<15:51:11, 34.79it/s, lowest_loss=1.03, pred_loss=1.07, trigger=1300]\n"
     ]
    },
    {
     "name": "stdout",
     "output_type": "stream",
     "text": [
      "Implemented early stopping with lowest_loss: 1.0339073721986913\n",
      "The performance at reg value:1.0000000000000018e-08 is 1.0664334097297163\n",
      "Currently trying regularization :1.0000000000000004e-06\n"
     ]
    },
    {
     "name": "stderr",
     "output_type": "stream",
     "text": [
      "Epoch: 14090:   1%|▋                                                                                                    | 14090/2000000 [06:43<15:48:06, 34.91it/s, lowest_loss=1.06, pred_loss=1.12, trigger=1300]\n"
     ]
    },
    {
     "name": "stdout",
     "output_type": "stream",
     "text": [
      "Implemented early stopping with lowest_loss: 1.0564800115482684\n"
     ]
    },
    {
     "name": "stderr",
     "output_type": "stream",
     "text": [
      "Epoch: 14385:   1%|▋                                                                                                     | 14385/2000000 [06:54<15:53:16, 34.72it/s, lowest_loss=1.05, pred_loss=1.1, trigger=1300]\n"
     ]
    },
    {
     "name": "stdout",
     "output_type": "stream",
     "text": [
      "Implemented early stopping with lowest_loss: 1.0484031740782251\n",
      "The performance at reg value:1.0000000000000004e-06 is 1.107719932462397\n",
      "Currently trying regularization :9.999999999999991e-05\n"
     ]
    },
    {
     "name": "stderr",
     "output_type": "stream",
     "text": [
      "Epoch: 6963:   0%|▎                                                                                                       | 6963/2000000 [03:18<15:46:02, 35.11it/s, lowest_loss=1.4, pred_loss=1.97, trigger=1300]\n"
     ]
    },
    {
     "name": "stdout",
     "output_type": "stream",
     "text": [
      "Implemented early stopping with lowest_loss: 1.404581611821883\n"
     ]
    },
    {
     "name": "stderr",
     "output_type": "stream",
     "text": [
      "Epoch: 5989:   0%|▎                                                                                                       | 5989/2000000 [02:50<15:45:51, 35.14it/s, lowest_loss=1.4, pred_loss=1.97, trigger=1300]\n"
     ]
    },
    {
     "name": "stdout",
     "output_type": "stream",
     "text": [
      "Implemented early stopping with lowest_loss: 1.4046827567806488\n",
      "The performance at reg value:9.999999999999991e-05 is 1.9730693431122956\n",
      "Currently trying regularization :0.010000000000000005\n"
     ]
    },
    {
     "name": "stderr",
     "output_type": "stream",
     "text": [
      "Epoch: 1370:   0%|                                                                                                       | 1370/2000000 [00:39<15:57:25, 34.79it/s, lowest_loss=3.89, pred_loss=15.2, trigger=1300]\n"
     ]
    },
    {
     "name": "stdout",
     "output_type": "stream",
     "text": [
      "Implemented early stopping with lowest_loss: 3.89457810063231\n"
     ]
    },
    {
     "name": "stderr",
     "output_type": "stream",
     "text": [
      "Epoch: 1370:   0%|                                                                                                        | 1370/2000000 [00:39<16:10:40, 34.32it/s, lowest_loss=3.9, pred_loss=15.2, trigger=1300]\n"
     ]
    },
    {
     "name": "stdout",
     "output_type": "stream",
     "text": [
      "Implemented early stopping with lowest_loss: 3.8966530513351754\n",
      "The performance at reg value:0.010000000000000005 is 15.177557375100138\n",
      "Currently trying regularization :1.0\n"
     ]
    },
    {
     "name": "stderr",
     "output_type": "stream",
     "text": [
      "Epoch: 1308:   0%|                                                                                                         | 1308/2000000 [00:37<15:52:56, 34.96it/s, lowest_loss=5.28, pred_loss=28, trigger=1300]\n"
     ]
    },
    {
     "name": "stdout",
     "output_type": "stream",
     "text": [
      "Implemented early stopping with lowest_loss: 5.276222209638129\n"
     ]
    },
    {
     "name": "stderr",
     "output_type": "stream",
     "text": [
      "Epoch: 1308:   0%|                                                                                                         | 1308/2000000 [00:37<15:57:34, 34.79it/s, lowest_loss=5.28, pred_loss=28, trigger=1300]\n"
     ]
    },
    {
     "name": "stdout",
     "output_type": "stream",
     "text": [
      "Implemented early stopping with lowest_loss: 5.27666258919315\n",
      "The performance at reg value:1.0 is 27.861685921890462\n",
      "Currently trying regularization :100.00000000000004\n"
     ]
    },
    {
     "name": "stderr",
     "output_type": "stream",
     "text": [
      "Epoch: 1352:   0%|                                                                                                       | 1352/2000000 [00:38<15:52:25, 34.97it/s, lowest_loss=5.32, pred_loss=28.3, trigger=1300]\n"
     ]
    },
    {
     "name": "stdout",
     "output_type": "stream",
     "text": [
      "Implemented early stopping with lowest_loss: 5.320066275733129\n"
     ]
    },
    {
     "name": "stderr",
     "output_type": "stream",
     "text": [
      "Epoch: 1383:   0%|                                                                                                       | 1383/2000000 [00:39<15:53:57, 34.92it/s, lowest_loss=5.32, pred_loss=28.3, trigger=1300]\n"
     ]
    },
    {
     "name": "stdout",
     "output_type": "stream",
     "text": [
      "Implemented early stopping with lowest_loss: 5.320071270709167\n",
      "The performance at reg value:100.00000000000004 is 28.304291586362652\n",
      "The log_grid error is:\n",
      "[ 1.06969627  1.06643341  1.10771993  1.97306934 15.17755738 27.86168592\n",
      " 28.30429159]\n",
      "Init value is: 1.0000000000000018e-08\n",
      "Currently trying regularization :[1.e-08]\n"
     ]
    },
    {
     "name": "stderr",
     "output_type": "stream",
     "text": [
      "Epoch: 15168:   1%|▊                                                                                                    | 15168/2000000 [07:11<15:41:55, 35.12it/s, lowest_loss=1.04, pred_loss=1.07, trigger=1300]\n"
     ]
    },
    {
     "name": "stdout",
     "output_type": "stream",
     "text": [
      "Implemented early stopping with lowest_loss: 1.0350121298788797\n"
     ]
    },
    {
     "name": "stderr",
     "output_type": "stream",
     "text": [
      "Epoch: 14682:   1%|▋                                                                                                    | 14682/2000000 [07:02<15:52:15, 34.75it/s, lowest_loss=1.03, pred_loss=1.07, trigger=1300]\n"
     ]
    },
    {
     "name": "stdout",
     "output_type": "stream",
     "text": [
      "Implemented early stopping with lowest_loss: 1.0341783284527275\n",
      "The performance at reg value:[1.e-08] is 1.070460608552903\n",
      "Currently trying regularization :[3.98107171e-09]\n"
     ]
    },
    {
     "name": "stderr",
     "output_type": "stream",
     "text": [
      "Epoch: 14606:   1%|▋                                                                                                    | 14606/2000000 [07:04<16:00:54, 34.44it/s, lowest_loss=1.03, pred_loss=1.07, trigger=1300]\n"
     ]
    },
    {
     "name": "stdout",
     "output_type": "stream",
     "text": [
      "Implemented early stopping with lowest_loss: 1.0344424625645023\n"
     ]
    },
    {
     "name": "stderr",
     "output_type": "stream",
     "text": [
      "Epoch: 14614:   1%|▋                                                                                                    | 14614/2000000 [06:57<15:45:42, 34.99it/s, lowest_loss=1.04, pred_loss=1.07, trigger=1300]\n"
     ]
    },
    {
     "name": "stdout",
     "output_type": "stream",
     "text": [
      "Implemented early stopping with lowest_loss: 1.0359839240284163\n",
      "The performance at reg value:[3.98107171e-09] is 1.0717305073676322\n",
      "Currently trying regularization :[2.51188643e-08]\n"
     ]
    },
    {
     "name": "stderr",
     "output_type": "stream",
     "text": [
      "Epoch: 14661:   1%|▋                                                                                                    | 14661/2000000 [07:02<15:52:48, 34.73it/s, lowest_loss=1.03, pred_loss=1.07, trigger=1300]\n"
     ]
    },
    {
     "name": "stdout",
     "output_type": "stream",
     "text": [
      "Implemented early stopping with lowest_loss: 1.0332915903001576\n"
     ]
    },
    {
     "name": "stderr",
     "output_type": "stream",
     "text": [
      "Epoch: 14751:   1%|▋                                                                                                    | 14751/2000000 [07:09<16:04:20, 34.31it/s, lowest_loss=1.03, pred_loss=1.07, trigger=1300]\n"
     ]
    },
    {
     "name": "stdout",
     "output_type": "stream",
     "text": [
      "Implemented early stopping with lowest_loss: 1.034385233681503\n",
      "The performance at reg value:[2.51188643e-08] is 1.0689111004487473\n",
      "Currently trying regularization :[6.30957344e-08]\n"
     ]
    },
    {
     "name": "stderr",
     "output_type": "stream",
     "text": [
      "Epoch: 14630:   1%|▋                                                                                                    | 14630/2000000 [07:02<15:54:56, 34.65it/s, lowest_loss=1.03, pred_loss=1.07, trigger=1300]\n"
     ]
    },
    {
     "name": "stdout",
     "output_type": "stream",
     "text": [
      "Implemented early stopping with lowest_loss: 1.033612076020491\n"
     ]
    },
    {
     "name": "stderr",
     "output_type": "stream",
     "text": [
      "Epoch: 14579:   1%|▋                                                                                                    | 14579/2000000 [06:58<15:49:58, 34.83it/s, lowest_loss=1.03, pred_loss=1.06, trigger=1300]\n"
     ]
    },
    {
     "name": "stdout",
     "output_type": "stream",
     "text": [
      "Implemented early stopping with lowest_loss: 1.0296956071502261\n",
      "The performance at reg value:[6.30957344e-08] is 1.0643871558180287\n",
      "Optimal regularization value for Ridge, Feature:avekerneldesc, target: lcdf is 6.309573444801918e-08\n",
      "Currently training torch linear model with features :avekerneldesc, target: lcdf, opt: Adam, lr:0.01\n"
     ]
    },
    {
     "name": "stderr",
     "output_type": "stream",
     "text": [
      "Epoch: 14693:   1%|▋                                                                                                    | 14693/2000000 [07:03<15:53:31, 34.70it/s, lowest_loss=1.04, pred_loss=1.07, trigger=1300]"
     ]
    },
    {
     "name": "stdout",
     "output_type": "stream",
     "text": [
      "Implemented early stopping with lowest_loss: 1.0366479699046682\n"
     ]
    },
    {
     "name": "stderr",
     "output_type": "stream",
     "text": [
      "\n"
     ]
    }
   ],
   "source": [
    "torch.manual_seed(0)\n",
    "TLReg_pw_soap.obtain_weights([1.0], train_index, None, 0.1, 2000000, loss.t_get_mse)\n",
    "torch.manual_seed(0)\n",
    "TLReg_pw_kernel.obtain_weights([1.0], train_index, None, 0.001, 2000000, loss.t_get_mse)\n",
    "torch.manual_seed(0)\n",
    "TLReg_lcdf_soap.obtain_weights([1.0], train_index, None, 1, 2000000, loss.t_get_mse)\n",
    "torch.manual_seed(0)\n",
    "TLReg_lcdf_kernel.obtain_weights([1.0], train_index, None, 0.01, 2000000, loss.t_get_mse)"
   ]
  },
  {
   "cell_type": "code",
   "execution_count": 70,
   "id": "79b35ed8",
   "metadata": {
    "ExecuteTime": {
     "end_time": "2023-01-26T16:06:01.418908Z",
     "start_time": "2023-01-26T16:05:58.792630Z"
    }
   },
   "outputs": [
    {
     "name": "stdout",
     "output_type": "stream",
     "text": [
      "The performance at reg value 9.999999999999996e-11 is 0.0470273564726883\n",
      "The performance at reg value 9.999999999999982e-09 is 0.03135393777242554\n",
      "The performance at reg value 1.0000000000000004e-06 is 0.020054425087597604\n",
      "The performance at reg value 0.00010000000000000009 is 0.016362072888277648\n",
      "The performance at reg value 0.010000000000000004 is 0.02395674318210591\n",
      "The performance at reg value 1.0 is 0.04281414485376572\n",
      "The performance at reg value 100.00000000000004 is 0.08142463483743637\n",
      "The log_grid error is:\n",
      "[0.04702736 0.03135394 0.02005443 0.01636207 0.02395674 0.04281414\n",
      " 0.08142463]\n",
      "Init value is: 0.00010000000000000009\n",
      "The performance at reg value 0.00010000000000000009 is 0.016362072888277648\n",
      "The performance at reg value 6.309573444801939e-05 is 0.016439094014605245\n",
      "The performance at reg value 0.00015848931924611147 is 0.016417027215670447\n",
      "The performance at reg value 0.00012589254117941672 is 0.01637212888920042\n",
      "Optimal regularization value for Ridge, Feature:avedesc, target: pw, train_ratio: 1.0 is 0.00010000000000000009\n",
      "The performance at reg value 9.999999999999996e-11 is 0.1096621962654267\n",
      "The performance at reg value 9.999999999999982e-09 is 0.061763607982083565\n",
      "The performance at reg value 1.0000000000000004e-06 is 0.03128935071380948\n",
      "The performance at reg value 0.00010000000000000009 is 0.02306864171375883\n",
      "The performance at reg value 0.010000000000000004 is 0.02720018416224277\n",
      "The performance at reg value 1.0 is 0.04677009491029993\n",
      "The performance at reg value 100.00000000000004 is 0.08561635270714567\n",
      "The log_grid error is:\n",
      "[0.1096622  0.06176361 0.03128935 0.02306864 0.02720018 0.04677009\n",
      " 0.08561635]\n",
      "Init value is: 0.00010000000000000009\n",
      "The performance at reg value 0.00010000000000000009 is 0.02306864171375883\n",
      "The performance at reg value 6.309573444801939e-05 is 0.02333003855656592\n",
      "The performance at reg value 0.00015848931924611147 is 0.022829925565568843\n",
      "The performance at reg value 0.00025118864315095774 is 0.02258992466219104\n",
      "Optimal regularization value for Ridge, Feature:avedesc, target: pw, train_ratio: 0.5 is 0.00025118864315095774\n"
     ]
    }
   ],
   "source": [
    "Ridge_pw = models.RidgeRegression(Silicon.Features['structure_avedescriptors'], \"avedesc\", y_pw, \"pw\", xdos)\n",
    "Ridge_pw.obtain_weights([1.0,0.5], train_index)\n",
    "Ridge_pw.get_DosRMSE(evaluator, train_index, test_index)\n",
    "Ridge_pw.get_targetRMSE(evaluator, train_index, test_index)\n"
   ]
  },
  {
   "cell_type": "code",
   "execution_count": 58,
   "id": "aa4142ef",
   "metadata": {
    "ExecuteTime": {
     "end_time": "2023-01-27T17:33:46.746468Z",
     "start_time": "2023-01-27T17:33:45.264591Z"
    }
   },
   "outputs": [],
   "source": [
    "TLReg_pw_soap.get_DosRMSE(evaluator, train_index, test_index) \n",
    "TLReg_pw_kernel.get_DosRMSE(evaluator, train_index, test_index) \n",
    "TLReg_lcdf_soap.get_DosRMSE(evaluator, train_index, test_index) \n",
    "TLReg_lcdf_kernel.get_DosRMSE(evaluator, train_index, test_index)\n",
    "TLReg_pw_soap.get_targetRMSE(evaluator, train_index, test_index) \n",
    "TLReg_pw_kernel.get_targetRMSE(evaluator, train_index, test_index) \n",
    "TLReg_lcdf_soap.get_targetRMSE(evaluator, train_index, test_index) \n",
    "TLReg_lcdf_kernel.get_targetRMSE(evaluator, train_index, test_index)"
   ]
  },
  {
   "cell_type": "code",
   "execution_count": 59,
   "id": "bf1d7cce",
   "metadata": {
    "ExecuteTime": {
     "end_time": "2023-01-27T17:35:49.586088Z",
     "start_time": "2023-01-27T17:35:49.581376Z"
    }
   },
   "outputs": [
    {
     "name": "stdout",
     "output_type": "stream",
     "text": [
      "soap pw\n",
      "tensor(3.1623e-12)\n",
      "{1.0: array([13.67663314, 13.834722  , 13.7035479 ,  0.07584956,  0.0803414 ,\n",
      "        0.07674879])}\n",
      "{1.0: array([13.67663314, 13.834722  , 13.7035479 ,  0.07584956,  0.0803414 ,\n",
      "        0.07674879])}\n"
     ]
    }
   ],
   "source": [
    "print (\"soap pw\")\n",
    "print (TLReg_pw_soap.models[1.0].reg)\n",
    "print (TLReg_pw_soap.DOSrmse)\n",
    "print (TLReg_pw_soap.targetrmse)"
   ]
  },
  {
   "cell_type": "code",
   "execution_count": 60,
   "id": "4bf9b9ac",
   "metadata": {
    "ExecuteTime": {
     "end_time": "2023-01-27T17:36:17.551807Z",
     "start_time": "2023-01-27T17:36:17.547464Z"
    }
   },
   "outputs": [
    {
     "name": "stdout",
     "output_type": "stream",
     "text": [
      "soap lcdf\n",
      "tensor(3.1623e-12)\n",
      "{1.0: array([15.62364639, 15.66332171, 15.62514124,  0.08664754,  0.0909605 ,\n",
      "        0.08751096])}\n",
      "{1.0: array([3.8455992 , 3.77437849, 3.82975315, 1.12077482, 1.13837139,\n",
      "       1.12429752])}\n"
     ]
    }
   ],
   "source": [
    "print (\"soap lcdf\")\n",
    "print (TLReg_lcdf_soap.models[1.0].reg)\n",
    "print (TLReg_lcdf_soap.DOSrmse)\n",
    "print (TLReg_lcdf_soap.targetrmse) "
   ]
  },
  {
   "cell_type": "code",
   "execution_count": 61,
   "id": "6518d09e",
   "metadata": {
    "ExecuteTime": {
     "end_time": "2023-01-27T17:35:35.505107Z",
     "start_time": "2023-01-27T17:35:35.497982Z"
    }
   },
   "outputs": [
    {
     "name": "stdout",
     "output_type": "stream",
     "text": [
      "kernel pw \n",
      "tensor(6.3096e-10)\n",
      "{1.0: array([42.99324575, 42.21080844, 42.81228073,  0.23843724,  0.24512784,\n",
      "        0.23977665])}\n",
      "{1.0: array([42.99324575, 42.21080844, 42.81228073,  0.23843724,  0.24512784,\n",
      "        0.23977665])}\n"
     ]
    }
   ],
   "source": [
    "print (\"kernel pw \")\n",
    "print (TLReg_pw_kernel.models[1.0].reg)\n",
    "print (TLReg_pw_kernel.DOSrmse)\n",
    "print (TLReg_pw_kernel.targetrmse)"
   ]
  },
  {
   "cell_type": "code",
   "execution_count": 62,
   "id": "be870eed",
   "metadata": {
    "ExecuteTime": {
     "end_time": "2023-01-27T17:36:48.786470Z",
     "start_time": "2023-01-27T17:36:48.778281Z"
    }
   },
   "outputs": [
    {
     "name": "stdout",
     "output_type": "stream",
     "text": [
      "kernel lcdf \n",
      "tensor(6.3096e-08)\n",
      "{1.0: array([38.80565144, 37.57889253, 38.53426242,  0.21521316,  0.21822925,\n",
      "        0.21581696])}\n",
      "{1.0: array([17.80732676, 16.09720864, 17.45005574,  5.18982932,  4.85499845,\n",
      "        5.12279869])}\n"
     ]
    }
   ],
   "source": [
    "print (\"kernel lcdf \")\n",
    "print (TLReg_lcdf_kernel.models[1.0].reg)\n",
    "print (TLReg_lcdf_kernel.DOSrmse)\n",
    "print (TLReg_lcdf_kernel.targetrmse)"
   ]
  },
  {
   "cell_type": "code",
   "execution_count": null,
   "id": "563a737b",
   "metadata": {},
   "outputs": [],
   "source": []
  },
  {
   "cell_type": "markdown",
   "id": "1ebfb2bd",
   "metadata": {},
   "source": [
    "Multiplying loss by col A : Train error col B\n",
    "1e0 = 16.188\n",
    "1e3 = 11.73\n",
    "1e5 = 11.79\n",
    "1e7 = 11.41\n",
    "1e10 = 11.66\n",
    "1e20 = 11.27\n",
    "1e90 = 11.29"
   ]
  },
  {
   "cell_type": "code",
   "execution_count": 229,
   "id": "2cb6ab8a",
   "metadata": {
    "ExecuteTime": {
     "end_time": "2023-01-27T12:17:19.324624Z",
     "start_time": "2023-01-27T12:17:19.319001Z"
    }
   },
   "outputs": [
    {
     "data": {
      "text/plain": [
       "{1.0: array([11.41705718, 12.11622485, 11.5572621 ,  0.06331812,  0.0703617 ,\n",
       "         0.06472819])}"
      ]
     },
     "execution_count": 229,
     "metadata": {},
     "output_type": "execute_result"
    }
   ],
   "source": []
  },
  {
   "cell_type": "code",
   "execution_count": 28,
   "id": "6604fc00",
   "metadata": {
    "ExecuteTime": {
     "end_time": "2023-01-26T15:19:06.587911Z",
     "start_time": "2023-01-26T15:19:05.572484Z"
    },
    "scrolled": true
   },
   "outputs": [
    {
     "ename": "RuntimeError",
     "evalue": "mat1 and mat2 shapes cannot be multiplied (1039x448 and 1000x778)",
     "output_type": "error",
     "traceback": [
      "\u001b[0;31m---------------------------------------------------------------------------\u001b[0m",
      "\u001b[0;31mRuntimeError\u001b[0m                              Traceback (most recent call last)",
      "Input \u001b[0;32mIn [28]\u001b[0m, in \u001b[0;36m<cell line: 1>\u001b[0;34m()\u001b[0m\n\u001b[1;32m      2\u001b[0m GPR_pred \u001b[38;5;241m=\u001b[39m Silicon\u001b[38;5;241m.\u001b[39mFeatures[\u001b[38;5;124m'\u001b[39m\u001b[38;5;124mstructure_avekerneldescriptors\u001b[39m\u001b[38;5;124m'\u001b[39m] \u001b[38;5;241m@\u001b[39m GPR_pw\u001b[38;5;241m.\u001b[39mweights[\u001b[38;5;241m1.0\u001b[39m]\n\u001b[1;32m      3\u001b[0m Ridge_pred \u001b[38;5;241m=\u001b[39m Ridge_pw\u001b[38;5;241m.\u001b[39mmodels[\u001b[38;5;241m1.0\u001b[39m]\u001b[38;5;241m.\u001b[39mpredict(Silicon\u001b[38;5;241m.\u001b[39mFeatures[\u001b[38;5;124m'\u001b[39m\u001b[38;5;124mstructure_avekerneldescriptors\u001b[39m\u001b[38;5;124m'\u001b[39m])\n\u001b[0;32m----> 4\u001b[0m torch_pred \u001b[38;5;241m=\u001b[39m \u001b[43mTLReg\u001b[49m\u001b[38;5;241;43m.\u001b[39;49m\u001b[43mmodels\u001b[49m\u001b[43m[\u001b[49m\u001b[38;5;241;43m1.0\u001b[39;49m\u001b[43m]\u001b[49m\u001b[43m(\u001b[49m\u001b[43mSilicon\u001b[49m\u001b[38;5;241;43m.\u001b[39;49m\u001b[43mFeatures\u001b[49m\u001b[43m[\u001b[49m\u001b[38;5;124;43m'\u001b[39;49m\u001b[38;5;124;43mstructure_avedescriptors\u001b[39;49m\u001b[38;5;124;43m'\u001b[39;49m\u001b[43m]\u001b[49m\u001b[38;5;241;43m.\u001b[39;49m\u001b[43mdouble\u001b[49m\u001b[43m(\u001b[49m\u001b[43m)\u001b[49m\u001b[43m)\u001b[49m\n",
      "File \u001b[0;32m~/anaconda3/envs/rascaline/lib/python3.10/site-packages/torch/nn/modules/module.py:1130\u001b[0m, in \u001b[0;36mModule._call_impl\u001b[0;34m(self, *input, **kwargs)\u001b[0m\n\u001b[1;32m   1126\u001b[0m \u001b[38;5;66;03m# If we don't have any hooks, we want to skip the rest of the logic in\u001b[39;00m\n\u001b[1;32m   1127\u001b[0m \u001b[38;5;66;03m# this function, and just call forward.\u001b[39;00m\n\u001b[1;32m   1128\u001b[0m \u001b[38;5;28;01mif\u001b[39;00m \u001b[38;5;129;01mnot\u001b[39;00m (\u001b[38;5;28mself\u001b[39m\u001b[38;5;241m.\u001b[39m_backward_hooks \u001b[38;5;129;01mor\u001b[39;00m \u001b[38;5;28mself\u001b[39m\u001b[38;5;241m.\u001b[39m_forward_hooks \u001b[38;5;129;01mor\u001b[39;00m \u001b[38;5;28mself\u001b[39m\u001b[38;5;241m.\u001b[39m_forward_pre_hooks \u001b[38;5;129;01mor\u001b[39;00m _global_backward_hooks\n\u001b[1;32m   1129\u001b[0m         \u001b[38;5;129;01mor\u001b[39;00m _global_forward_hooks \u001b[38;5;129;01mor\u001b[39;00m _global_forward_pre_hooks):\n\u001b[0;32m-> 1130\u001b[0m     \u001b[38;5;28;01mreturn\u001b[39;00m \u001b[43mforward_call\u001b[49m\u001b[43m(\u001b[49m\u001b[38;5;241;43m*\u001b[39;49m\u001b[38;5;28;43minput\u001b[39;49m\u001b[43m,\u001b[49m\u001b[43m \u001b[49m\u001b[38;5;241;43m*\u001b[39;49m\u001b[38;5;241;43m*\u001b[39;49m\u001b[43mkwargs\u001b[49m\u001b[43m)\u001b[49m\n\u001b[1;32m   1131\u001b[0m \u001b[38;5;66;03m# Do not call functions when jit is used\u001b[39;00m\n\u001b[1;32m   1132\u001b[0m full_backward_hooks, non_full_backward_hooks \u001b[38;5;241m=\u001b[39m [], []\n",
      "File \u001b[0;32m/scratch/how/dostools/src/models/architectures.py:38\u001b[0m, in \u001b[0;36mLinearModel.forward\u001b[0;34m(self, x)\u001b[0m\n\u001b[1;32m     28\u001b[0m \u001b[38;5;28;01mdef\u001b[39;00m \u001b[38;5;21mforward\u001b[39m(\u001b[38;5;28mself\u001b[39m, x):\n\u001b[1;32m     29\u001b[0m     \u001b[38;5;124;03m\"\"\"\u001b[39;00m\n\u001b[1;32m     30\u001b[0m \u001b[38;5;124;03m    Performs the transformations to the features based on the model\u001b[39;00m\n\u001b[1;32m     31\u001b[0m \u001b[38;5;124;03m    \u001b[39;00m\n\u001b[0;32m   (...)\u001b[0m\n\u001b[1;32m     36\u001b[0m \u001b[38;5;124;03m        tensor: output\u001b[39;00m\n\u001b[1;32m     37\u001b[0m \u001b[38;5;124;03m    \"\"\"\u001b[39;00m\n\u001b[0;32m---> 38\u001b[0m     out \u001b[38;5;241m=\u001b[39m \u001b[38;5;28;43mself\u001b[39;49m\u001b[38;5;241;43m.\u001b[39;49m\u001b[43mlinear\u001b[49m\u001b[43m(\u001b[49m\u001b[43mx\u001b[49m\u001b[43m)\u001b[49m\n\u001b[1;32m     39\u001b[0m     \u001b[38;5;28;01mreturn\u001b[39;00m out\n",
      "File \u001b[0;32m~/anaconda3/envs/rascaline/lib/python3.10/site-packages/torch/nn/modules/module.py:1130\u001b[0m, in \u001b[0;36mModule._call_impl\u001b[0;34m(self, *input, **kwargs)\u001b[0m\n\u001b[1;32m   1126\u001b[0m \u001b[38;5;66;03m# If we don't have any hooks, we want to skip the rest of the logic in\u001b[39;00m\n\u001b[1;32m   1127\u001b[0m \u001b[38;5;66;03m# this function, and just call forward.\u001b[39;00m\n\u001b[1;32m   1128\u001b[0m \u001b[38;5;28;01mif\u001b[39;00m \u001b[38;5;129;01mnot\u001b[39;00m (\u001b[38;5;28mself\u001b[39m\u001b[38;5;241m.\u001b[39m_backward_hooks \u001b[38;5;129;01mor\u001b[39;00m \u001b[38;5;28mself\u001b[39m\u001b[38;5;241m.\u001b[39m_forward_hooks \u001b[38;5;129;01mor\u001b[39;00m \u001b[38;5;28mself\u001b[39m\u001b[38;5;241m.\u001b[39m_forward_pre_hooks \u001b[38;5;129;01mor\u001b[39;00m _global_backward_hooks\n\u001b[1;32m   1129\u001b[0m         \u001b[38;5;129;01mor\u001b[39;00m _global_forward_hooks \u001b[38;5;129;01mor\u001b[39;00m _global_forward_pre_hooks):\n\u001b[0;32m-> 1130\u001b[0m     \u001b[38;5;28;01mreturn\u001b[39;00m \u001b[43mforward_call\u001b[49m\u001b[43m(\u001b[49m\u001b[38;5;241;43m*\u001b[39;49m\u001b[38;5;28;43minput\u001b[39;49m\u001b[43m,\u001b[49m\u001b[43m \u001b[49m\u001b[38;5;241;43m*\u001b[39;49m\u001b[38;5;241;43m*\u001b[39;49m\u001b[43mkwargs\u001b[49m\u001b[43m)\u001b[49m\n\u001b[1;32m   1131\u001b[0m \u001b[38;5;66;03m# Do not call functions when jit is used\u001b[39;00m\n\u001b[1;32m   1132\u001b[0m full_backward_hooks, non_full_backward_hooks \u001b[38;5;241m=\u001b[39m [], []\n",
      "File \u001b[0;32m~/anaconda3/envs/rascaline/lib/python3.10/site-packages/torch/nn/modules/linear.py:114\u001b[0m, in \u001b[0;36mLinear.forward\u001b[0;34m(self, input)\u001b[0m\n\u001b[1;32m    113\u001b[0m \u001b[38;5;28;01mdef\u001b[39;00m \u001b[38;5;21mforward\u001b[39m(\u001b[38;5;28mself\u001b[39m, \u001b[38;5;28minput\u001b[39m: Tensor) \u001b[38;5;241m-\u001b[39m\u001b[38;5;241m>\u001b[39m Tensor:\n\u001b[0;32m--> 114\u001b[0m     \u001b[38;5;28;01mreturn\u001b[39;00m \u001b[43mF\u001b[49m\u001b[38;5;241;43m.\u001b[39;49m\u001b[43mlinear\u001b[49m\u001b[43m(\u001b[49m\u001b[38;5;28;43minput\u001b[39;49m\u001b[43m,\u001b[49m\u001b[43m \u001b[49m\u001b[38;5;28;43mself\u001b[39;49m\u001b[38;5;241;43m.\u001b[39;49m\u001b[43mweight\u001b[49m\u001b[43m,\u001b[49m\u001b[43m \u001b[49m\u001b[38;5;28;43mself\u001b[39;49m\u001b[38;5;241;43m.\u001b[39;49m\u001b[43mbias\u001b[49m\u001b[43m)\u001b[49m\n",
      "\u001b[0;31mRuntimeError\u001b[0m: mat1 and mat2 shapes cannot be multiplied (1039x448 and 1000x778)"
     ]
    }
   ],
   "source": [
    "with torch.no_grad():\n",
    "    GPR_pred = Silicon.Features['structure_avekerneldescriptors'] @ GPR_pw.weights[1.0]\n",
    "    Ridge_pred = Ridge_pw.models[1.0].predict(Silicon.Features['structure_avekerneldescriptors'])\n",
    "    torch_pred = TLReg.models[1.0](Silicon.Features['structure_avedescriptors'].double())"
   ]
  },
  {
   "cell_type": "code",
   "execution_count": null,
   "id": "5f3193b2",
   "metadata": {
    "ExecuteTime": {
     "end_time": "2023-01-26T15:19:06.590024Z",
     "start_time": "2023-01-26T15:19:06.590012Z"
    }
   },
   "outputs": [],
   "source": [
    "plt.plot(xdos, GPR_pred[369], color = 'r', label = \"GPR_pred\")\n",
    "plt.plot(xdos, Ridge_pred[369], color = 'g', label = \"Ridge_pred\")\n",
    "plt.plot(xdos, torch_pred[369], color = 'c', label = \"Torch_pred\")\n",
    "plt.plot(xdos, y_pw[369], color = 'b', label = 'true')\n",
    "plt.legend()\n",
    "\n"
   ]
  },
  {
   "cell_type": "code",
   "execution_count": null,
   "id": "7a400e30",
   "metadata": {},
   "outputs": [],
   "source": []
  }
 ],
 "metadata": {
  "kernelspec": {
   "display_name": "Python 3 (ipykernel)",
   "language": "python",
   "name": "python3"
  },
  "language_info": {
   "codemirror_mode": {
    "name": "ipython",
    "version": 3
   },
   "file_extension": ".py",
   "mimetype": "text/x-python",
   "name": "python",
   "nbconvert_exporter": "python",
   "pygments_lexer": "ipython3",
   "version": "3.9.12"
  },
  "toc": {
   "base_numbering": 1,
   "nav_menu": {},
   "number_sections": true,
   "sideBar": true,
   "skip_h1_title": false,
   "title_cell": "Table of Contents",
   "title_sidebar": "Contents",
   "toc_cell": false,
   "toc_position": {
    "height": "calc(100% - 180px)",
    "left": "10px",
    "top": "150px",
    "width": "165px"
   },
   "toc_section_display": true,
   "toc_window_display": true
  }
 },
 "nbformat": 4,
 "nbformat_minor": 5
}
