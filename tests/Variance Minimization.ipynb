{
 "cells": [
  {
   "cell_type": "markdown",
   "id": "84565b74",
   "metadata": {
    "hide_input": false
   },
   "source": [
    "## Imports"
   ]
  },
  {
   "cell_type": "code",
   "execution_count": 2,
   "id": "dfdaeca7",
   "metadata": {
    "ExecuteTime": {
     "end_time": "2023-02-27T11:45:39.814742Z",
     "start_time": "2023-02-27T11:45:36.687047Z"
    }
   },
   "outputs": [],
   "source": [
    "import dostools\n",
    "import importlib\n",
    "import numpy as np\n",
    "import pickle\n",
    "import torch\n",
    "import sys\n",
    "import matplotlib.pyplot as plt\n",
    "import copy\n",
    "from tqdm import tqdm\n",
    "import matplotlib\n",
    "import time\n",
    "torch.set_default_dtype(torch.float64) \n",
    "%matplotlib notebook\n",
    "matplotlib.rcParams['figure.figsize'] = (10, 10)"
   ]
  },
  {
   "cell_type": "code",
   "execution_count": 3,
   "id": "7ccbf26d",
   "metadata": {
    "ExecuteTime": {
     "end_time": "2023-02-16T08:37:41.621684Z",
     "start_time": "2023-02-16T08:37:34.108315Z"
    }
   },
   "outputs": [
    {
     "name": "stdout",
     "output_type": "stream",
     "text": [
      "ldos shape is torch.Size([1039, 778])\n",
      "mean dos shape is torch.Size([778])\n",
      "Variance covered with 10 PCs is = 0.9871211778950163\n"
     ]
    }
   ],
   "source": [
    "import dostools.datasets.data as data\n",
    "import dostools.utils.utils as utils\n",
    "\n",
    "n_structures = 1039\n",
    "np.random.seed(0)\n",
    "n_train = int(0.8 * n_structures)\n",
    "train_index = np.arange(n_structures)\n",
    "np.random.shuffle(train_index)\n",
    "test_index = train_index[n_train:]\n",
    "train_index = train_index[:n_train]\n",
    "\n",
    "with torch.no_grad():\n",
    "    structures = data.load_structures(\":\")\n",
    "    n_structures = len(structures) #total number of structures\n",
    "    for structure in structures:#implement periodicity\n",
    "        structure.wrap(eps = 1e-12) \n",
    "    n_atoms = np.zeros(n_structures, dtype = int) #stores number of atoms in each structures\n",
    "    for i in range(n_structures):\n",
    "        n_atoms[i] = len(structures[i])\n",
    "\n",
    "    #eigenergies, emin, emax = dostools.src.datasets.data.load_eigenenergies(unpack = True, n_structures = len(structures))\n",
    "    xdos = torch.tensor(data.load_xdos())\n",
    "    ldos = torch.tensor(data.load_ldos())\n",
    "    ldos *= 2\n",
    "\n",
    "    print (\"ldos shape is {}\".format(ldos.shape))\n",
    "    mean_dos_per_atom = ldos[train_index].mean(axis = 0) #only calculated for train set to prevent data leakage\n",
    "    print (\"mean dos shape is {}\".format(mean_dos_per_atom.shape))\n",
    "    \n",
    "    \n",
    "    y_pw = ldos - mean_dos_per_atom\n",
    "    y_lcdf = torch.cumsum(y_pw, dim = 1)\n",
    "    _, pc_vectors = utils.build_pc(ldos[train_index], mean_dos_per_atom[None,:], n_pc = 10)\n",
    "    y_pc = utils.build_coeffs(ldos - mean_dos_per_atom[None,:], pc_vectors)\n",
    "    Silicon = data.load_features()\n",
    "    kMM = data.load_kMM()"
   ]
  },
  {
   "cell_type": "code",
   "execution_count": 4,
   "id": "381681ad",
   "metadata": {
    "ExecuteTime": {
     "end_time": "2023-02-16T08:37:50.669103Z",
     "start_time": "2023-02-16T08:37:41.624766Z"
    }
   },
   "outputs": [
    {
     "name": "stdout",
     "output_type": "stream",
     "text": [
      "This file contains the eigenenergies and their corresponding kpoints of the training Silicon structures generated using DFT PBE as implemented in FHI-AIMS version 171221_1 with the ``tight'' settings\n"
     ]
    }
   ],
   "source": [
    "importlib.reload(data)\n",
    "eigen_energies, emin, emax = data.load_eigenenergies(unpack = True, n_structures = n_structures)"
   ]
  },
  {
   "cell_type": "code",
   "execution_count": 5,
   "id": "00b3dc5d",
   "metadata": {
    "ExecuteTime": {
     "end_time": "2023-02-16T08:37:50.677428Z",
     "start_time": "2023-02-16T08:37:50.672742Z"
    }
   },
   "outputs": [
    {
     "name": "stdout",
     "output_type": "stream",
     "text": [
      "-24.553719539983\n"
     ]
    }
   ],
   "source": [
    "print (emin)"
   ]
  },
  {
   "cell_type": "code",
   "execution_count": 6,
   "id": "0a5dbdc8",
   "metadata": {
    "ExecuteTime": {
     "end_time": "2023-02-16T08:37:50.695233Z",
     "start_time": "2023-02-16T08:37:50.679922Z"
    }
   },
   "outputs": [
    {
     "name": "stdout",
     "output_type": "stream",
     "text": [
      "11.346414696331\n"
     ]
    }
   ],
   "source": [
    "print (emax)"
   ]
  },
  {
   "cell_type": "code",
   "execution_count": 7,
   "id": "27de1160",
   "metadata": {
    "ExecuteTime": {
     "end_time": "2023-02-16T08:37:50.710194Z",
     "start_time": "2023-02-16T08:37:50.698313Z"
    }
   },
   "outputs": [],
   "source": [
    "# gb = 0.3 #eV\n",
    "# dE = 0.05 #eV\n",
    "\n",
    "# # build the DOS of the dataset, \n",
    "# # normalized by number of atoms and number of eigenvalues\n",
    "# xdos2, ldos2 = utils.build_dos(gb, eigen_energies, dE, emin, emax, n_atoms) #sigma, eigenvalues, dx, emin, emax\n",
    "\n",
    "# xdos2_tensor = torch.tensor(xdos2)\n",
    "# ldos2 *= 2\n",
    "# ldos2 = torch.tensor(ldos2)"
   ]
  },
  {
   "cell_type": "markdown",
   "id": "fdb9f663",
   "metadata": {},
   "source": []
  },
  {
   "cell_type": "code",
   "execution_count": null,
   "id": "4d9f1068",
   "metadata": {
    "ExecuteTime": {
     "end_time": "2023-02-15T21:18:14.754862Z",
     "start_time": "2023-02-15T21:18:14.002114Z"
    }
   },
   "outputs": [],
   "source": []
  },
  {
   "cell_type": "code",
   "execution_count": null,
   "id": "9207ae6b",
   "metadata": {
    "ExecuteTime": {
     "end_time": "2023-02-15T21:18:14.763222Z",
     "start_time": "2023-02-15T21:18:14.756960Z"
    }
   },
   "outputs": [],
   "source": []
  },
  {
   "cell_type": "code",
   "execution_count": null,
   "id": "1d366192",
   "metadata": {
    "ExecuteTime": {
     "end_time": "2023-02-15T21:18:14.785247Z",
     "start_time": "2023-02-15T21:18:14.765407Z"
    }
   },
   "outputs": [],
   "source": []
  },
  {
   "cell_type": "markdown",
   "id": "b90a7e1d",
   "metadata": {},
   "source": [
    "## Features PCA"
   ]
  },
  {
   "cell_type": "code",
   "execution_count": 8,
   "id": "53631e3e",
   "metadata": {
    "ExecuteTime": {
     "end_time": "2023-02-16T08:37:51.211155Z",
     "start_time": "2023-02-16T08:37:50.713033Z"
    }
   },
   "outputs": [
    {
     "name": "stdout",
     "output_type": "stream",
     "text": [
      "SOAP PCA explained variance with 1 PCA is: [0.85417772]\n",
      "Kernel PCA explained variance with 1 PCA is: [0.76640756]\n"
     ]
    }
   ],
   "source": [
    "from sklearn.decomposition import PCA\n",
    "\n",
    "soap = Silicon.Features['structure_avedescriptors'] \n",
    "soap_pca = PCA(n_components = 1, svd_solver = \"full\")\n",
    "soap_pca.fit(soap)\n",
    "\n",
    "print (\"SOAP PCA explained variance with 1 PCA is: {}\".format(soap_pca.explained_variance_ratio_))\n",
    "\n",
    "PCA_soap = soap_pca.transform(soap)\n",
    "\n",
    "kernel = Silicon.Features['structure_avekerneldescriptors']\n",
    "kernel_pca = PCA(n_components = 1, svd_solver = \"full\")\n",
    "kernel_pca.fit(kernel)\n",
    "\n",
    "print (\"Kernel PCA explained variance with 1 PCA is: {}\".format(kernel_pca.explained_variance_ratio_))\n",
    "\n",
    "PCA_kernel = kernel_pca.transform(kernel)"
   ]
  },
  {
   "cell_type": "markdown",
   "id": "3a7c7af2",
   "metadata": {},
   "source": [
    "## Variance Minimization"
   ]
  },
  {
   "cell_type": "code",
   "execution_count": 10,
   "id": "cccb6b75",
   "metadata": {
    "ExecuteTime": {
     "end_time": "2023-02-16T08:39:04.946346Z",
     "start_time": "2023-02-16T08:39:04.773230Z"
    }
   },
   "outputs": [],
   "source": [
    "sigma = 0.3\n",
    "dx = 0.05\n",
    "\n",
    "full_eigen_energies = [torch.tensor(i.flatten()) for i in eigen_energies]\n",
    "eigenenergy_length = [len(i) for i in full_eigen_energies]\n",
    "eigenenergy_length_t = torch.tensor(eigenenergy_length)\n",
    "small_index = (eigenenergy_length_t<10000)\n",
    "small_index = small_index.nonzero()\n",
    "small_index = small_index.flatten()\n",
    "n_atoms_t = torch.tensor(n_atoms[small_index])\n",
    "normalization_eiglength = [len(i) for i in eigen_energies]\n",
    "normalization_eiglength_t = torch.tensor(normalization_eiglength)\n",
    "normalization = 1/torch.sqrt(2*torch.tensor(np.pi)*sigma**2)/n_atoms_t/normalization_eiglength_t[small_index]"
   ]
  },
  {
   "cell_type": "code",
   "execution_count": 11,
   "id": "b3da7b25",
   "metadata": {
    "ExecuteTime": {
     "end_time": "2023-02-16T08:39:06.323528Z",
     "start_time": "2023-02-16T08:39:06.319872Z"
    }
   },
   "outputs": [],
   "source": [
    "kernel_features = torch.tensor(PCA_kernel[small_index])\n",
    "alignment = torch.nn.parameter.Parameter(torch.zeros(len(small_index)))"
   ]
  },
  {
   "cell_type": "code",
   "execution_count": 12,
   "id": "2d4b26d3",
   "metadata": {
    "ExecuteTime": {
     "end_time": "2023-02-16T08:39:06.823661Z",
     "start_time": "2023-02-16T08:39:06.819813Z"
    }
   },
   "outputs": [],
   "source": [
    "def generate_energy_index(eigenenergy_length):\n",
    "    n_structures = len(eigenenergy_length)\n",
    "    total_index = []\n",
    "    for i, e_vals in enumerate(eigenenergy_length):\n",
    "        indiv_index = torch.zeros(e_vals) + i\n",
    "        total_index.append(indiv_index)\n",
    "    total_index = torch.hstack(total_index)\n",
    "    return total_index.long()"
   ]
  },
  {
   "cell_type": "code",
   "execution_count": 13,
   "id": "2b8b2fa3",
   "metadata": {
    "ExecuteTime": {
     "end_time": "2023-02-16T08:39:07.380768Z",
     "start_time": "2023-02-16T08:39:07.157417Z"
    }
   },
   "outputs": [],
   "source": [
    "energy_index = generate_energy_index(eigenenergy_length)"
   ]
  },
  {
   "cell_type": "code",
   "execution_count": 14,
   "id": "8b09d589",
   "metadata": {
    "ExecuteTime": {
     "end_time": "2023-02-16T08:39:07.473228Z",
     "start_time": "2023-02-16T08:39:07.387758Z"
    }
   },
   "outputs": [],
   "source": [
    "energies = torch.hstack(full_eigen_energies).view(-1,1)"
   ]
  },
  {
   "cell_type": "code",
   "execution_count": 15,
   "id": "bd693bfb",
   "metadata": {
    "ExecuteTime": {
     "end_time": "2023-02-16T08:39:08.146583Z",
     "start_time": "2023-02-16T08:39:08.136158Z"
    }
   },
   "outputs": [],
   "source": [
    "def torch_generate_dos(energies, eigenenergy_length_t, normalization, splits):\n",
    "    ldoses = []\n",
    "    for i in tqdm(range(len(splits) - 1)):\n",
    "        indexes = generate_energy_index(eigenenergy_length_t[splits[i]:splits[i+1]])\n",
    "        E = energies[torch.sum(eigenenergy_length_t[:splits[i]]):torch.sum(eigenenergy_length_t[:splits[i]]) + torch.sum(eigenenergy_length_t[splits[i]:splits[i+1]])]\n",
    "        split_ldos = torch.zeros(splits[i+1] - splits[i], len(xdos))\n",
    "        \n",
    "        new_ldos = (torch.exp(-0.5*((xdos - E)/sigma)**2))\n",
    "        \n",
    "        split_ldos.index_add_(0, indexes, new_ldos)\n",
    "        \n",
    "        ldoses.append(split_ldos)\n",
    "    ldoses = torch.vstack(ldoses)     \n",
    "    \n",
    "    final_ldos = ((ldoses.T * normalization ).T)* 2\n",
    "    return final_ldos\n",
    "    \n"
   ]
  },
  {
   "cell_type": "code",
   "execution_count": 16,
   "id": "7ab39412",
   "metadata": {
    "ExecuteTime": {
     "end_time": "2023-02-16T08:39:08.576690Z",
     "start_time": "2023-02-16T08:39:08.574219Z"
    }
   },
   "outputs": [],
   "source": [
    "# ldos2 = torch_generate_dos(energies, eigenenergy_length_t, normalization, [0, 100, 200, 300, 400, 500, 800, 1039])"
   ]
  },
  {
   "cell_type": "code",
   "execution_count": 17,
   "id": "f6379b3a",
   "metadata": {
    "ExecuteTime": {
     "end_time": "2023-02-16T08:39:09.032679Z",
     "start_time": "2023-02-16T08:39:09.027183Z"
    }
   },
   "outputs": [
    {
     "data": {
      "text/plain": [
       "torch.Size([435])"
      ]
     },
     "execution_count": 17,
     "metadata": {},
     "output_type": "execute_result"
    }
   ],
   "source": [
    "alignment.shape"
   ]
  },
  {
   "cell_type": "code",
   "execution_count": 18,
   "id": "78bdf327",
   "metadata": {
    "ExecuteTime": {
     "end_time": "2023-02-16T08:39:09.588529Z",
     "start_time": "2023-02-16T08:39:09.585975Z"
    }
   },
   "outputs": [],
   "source": [
    "lr = 100\n",
    "n_epochs = 1000\n",
    "\n"
   ]
  },
  {
   "cell_type": "code",
   "execution_count": 19,
   "id": "ee02b5ab",
   "metadata": {
    "ExecuteTime": {
     "end_time": "2023-02-16T08:39:19.381624Z",
     "start_time": "2023-02-16T08:39:13.631029Z"
    }
   },
   "outputs": [
    {
     "name": "stderr",
     "output_type": "stream",
     "text": [
      "100%|████████████████████████████████████████████████████████████████████████████████████████████████████████████████████████████████████████████████████████████████████| 435/435 [00:05<00:00, 75.96it/s]\n"
     ]
    }
   ],
   "source": [
    "sigma = torch.tensor(0.3)\n",
    "dx = 0.05\n",
    "\n",
    "emin = -24.5537\n",
    "emax = 11.3464\n",
    "\n",
    "\n",
    "ndos = int((emax-emin+3) / dx) #number of points\n",
    "xdos = torch.linspace(emin-1.5, emax+1.5, ndos) # extend the energy grid by 3eV \n",
    "ldos = torch.zeros((len(small_index), ndos))\n",
    "for i in tqdm(range(len(small_index))):#for every structure    \n",
    "    ldos[i] = torch.sum(torch.exp(-0.5*((alignment[i] + xdos - full_eigen_energies[small_index[i]].view(-1,1))/sigma)**2), dim = 0)\n",
    "\n",
    "final_ldos = ((ldos.T * normalization ).T)* 2"
   ]
  },
  {
   "cell_type": "code",
   "execution_count": 20,
   "id": "848cdac1",
   "metadata": {
    "ExecuteTime": {
     "end_time": "2023-02-16T08:39:19.400819Z",
     "start_time": "2023-02-16T08:39:19.385744Z"
    }
   },
   "outputs": [],
   "source": [
    "loss = torch.sum((1 - torch.abs((torch.corrcoef(torch.hstack([kernel_features, final_ldos]).T)[0][1:])))**2)"
   ]
  },
  {
   "cell_type": "code",
   "execution_count": 21,
   "id": "ccb5dc2d",
   "metadata": {
    "ExecuteTime": {
     "end_time": "2023-02-16T08:39:19.417545Z",
     "start_time": "2023-02-16T08:39:19.404028Z"
    }
   },
   "outputs": [
    {
     "name": "stdout",
     "output_type": "stream",
     "text": [
      "tensor(212.8861, grad_fn=<SumBackward0>)\n"
     ]
    }
   ],
   "source": [
    "print (loss)"
   ]
  },
  {
   "cell_type": "code",
   "execution_count": null,
   "id": "86e2df72",
   "metadata": {
    "ExecuteTime": {
     "start_time": "2023-02-16T17:05:08.153Z"
    }
   },
   "outputs": [
    {
     "name": "stderr",
     "output_type": "stream",
     "text": [
      "  0%|                                                                                                                                                              | 1/100000 [01:23<2332:10:58, 83.96s/it]"
     ]
    },
    {
     "name": "stdout",
     "output_type": "stream",
     "text": [
      "tensor(164.7118, grad_fn=<SumBackward0>)\n"
     ]
    },
    {
     "name": "stderr",
     "output_type": "stream",
     "text": [
      "\r",
      "  0%|                                                                                                                                                              | 2/100000 [02:43<2253:17:55, 81.12s/it]"
     ]
    },
    {
     "name": "stdout",
     "output_type": "stream",
     "text": [
      "tensor(166.7246, grad_fn=<SumBackward0>)\n"
     ]
    },
    {
     "name": "stderr",
     "output_type": "stream",
     "text": [
      "\r",
      "  0%|                                                                                                                                                              | 3/100000 [04:03<2240:32:03, 80.66s/it]"
     ]
    },
    {
     "name": "stdout",
     "output_type": "stream",
     "text": [
      "tensor(164.8353, grad_fn=<SumBackward0>)\n"
     ]
    },
    {
     "name": "stderr",
     "output_type": "stream",
     "text": [
      "\r",
      "  0%|                                                                                                                                                              | 4/100000 [05:22<2227:39:07, 80.20s/it]"
     ]
    },
    {
     "name": "stdout",
     "output_type": "stream",
     "text": [
      "tensor(165.0686, grad_fn=<SumBackward0>)\n"
     ]
    },
    {
     "name": "stderr",
     "output_type": "stream",
     "text": [
      "\r",
      "  0%|                                                                                                                                                              | 5/100000 [06:44<2240:40:59, 80.67s/it]"
     ]
    },
    {
     "name": "stdout",
     "output_type": "stream",
     "text": [
      "tensor(165.7550, grad_fn=<SumBackward0>)\n"
     ]
    },
    {
     "name": "stderr",
     "output_type": "stream",
     "text": [
      "\r",
      "  0%|                                                                                                                                                              | 6/100000 [08:07<2267:19:46, 81.63s/it]"
     ]
    },
    {
     "name": "stdout",
     "output_type": "stream",
     "text": [
      "tensor(165.7180, grad_fn=<SumBackward0>)\n"
     ]
    },
    {
     "name": "stderr",
     "output_type": "stream",
     "text": [
      "\r",
      "  0%|                                                                                                                                                              | 7/100000 [09:32<2292:11:35, 82.52s/it]"
     ]
    },
    {
     "name": "stdout",
     "output_type": "stream",
     "text": [
      "tensor(165.2326, grad_fn=<SumBackward0>)\n"
     ]
    },
    {
     "name": "stderr",
     "output_type": "stream",
     "text": [
      "\r",
      "  0%|                                                                                                                                                              | 8/100000 [11:06<2401:39:58, 86.47s/it]"
     ]
    },
    {
     "name": "stdout",
     "output_type": "stream",
     "text": [
      "tensor(164.8136, grad_fn=<SumBackward0>)\n"
     ]
    },
    {
     "name": "stderr",
     "output_type": "stream",
     "text": [
      "\r",
      "  0%|                                                                                                                                                              | 9/100000 [12:21<2301:28:13, 82.86s/it]"
     ]
    },
    {
     "name": "stdout",
     "output_type": "stream",
     "text": [
      "tensor(164.7856, grad_fn=<SumBackward0>)\n"
     ]
    },
    {
     "name": "stderr",
     "output_type": "stream",
     "text": [
      "\r",
      "  0%|                                                                                                                                                             | 10/100000 [13:48<2331:23:51, 83.94s/it]"
     ]
    },
    {
     "name": "stdout",
     "output_type": "stream",
     "text": [
      "tensor(165.0706, grad_fn=<SumBackward0>)\n"
     ]
    },
    {
     "name": "stderr",
     "output_type": "stream",
     "text": [
      "\r",
      "  0%|                                                                                                                                                             | 11/100000 [15:13<2342:37:40, 84.34s/it]"
     ]
    },
    {
     "name": "stdout",
     "output_type": "stream",
     "text": [
      "tensor(165.2523, grad_fn=<SumBackward0>)\n"
     ]
    },
    {
     "name": "stderr",
     "output_type": "stream",
     "text": [
      "\r",
      "  0%|                                                                                                                                                             | 12/100000 [16:40<2367:55:13, 85.26s/it]"
     ]
    },
    {
     "name": "stdout",
     "output_type": "stream",
     "text": [
      "tensor(165.1251, grad_fn=<SumBackward0>)\n"
     ]
    },
    {
     "name": "stderr",
     "output_type": "stream",
     "text": [
      "\r",
      "  0%|                                                                                                                                                             | 13/100000 [18:08<2391:58:06, 86.12s/it]"
     ]
    },
    {
     "name": "stdout",
     "output_type": "stream",
     "text": [
      "tensor(164.8635, grad_fn=<SumBackward0>)\n"
     ]
    },
    {
     "name": "stderr",
     "output_type": "stream",
     "text": [
      "\r",
      "  0%|                                                                                                                                                             | 14/100000 [19:40<2434:24:33, 87.65s/it]"
     ]
    },
    {
     "name": "stdout",
     "output_type": "stream",
     "text": [
      "tensor(164.7274, grad_fn=<SumBackward0>)\n"
     ]
    },
    {
     "name": "stderr",
     "output_type": "stream",
     "text": [
      "\r",
      "  0%|                                                                                                                                                             | 15/100000 [21:09<2452:17:02, 88.30s/it]"
     ]
    },
    {
     "name": "stdout",
     "output_type": "stream",
     "text": [
      "tensor(164.7896, grad_fn=<SumBackward0>)\n"
     ]
    },
    {
     "name": "stderr",
     "output_type": "stream",
     "text": [
      "\r",
      "  0%|                                                                                                                                                             | 16/100000 [22:44<2507:45:59, 90.29s/it]"
     ]
    },
    {
     "name": "stdout",
     "output_type": "stream",
     "text": [
      "tensor(164.9275, grad_fn=<SumBackward0>)\n"
     ]
    },
    {
     "name": "stderr",
     "output_type": "stream",
     "text": [
      "\r",
      "  0%|                                                                                                                                                             | 17/100000 [24:14<2504:48:51, 90.19s/it]"
     ]
    },
    {
     "name": "stdout",
     "output_type": "stream",
     "text": [
      "tensor(164.9909, grad_fn=<SumBackward0>)\n"
     ]
    },
    {
     "name": "stderr",
     "output_type": "stream",
     "text": [
      "\r",
      "  0%|                                                                                                                                                             | 18/100000 [25:46<2519:40:05, 90.72s/it]"
     ]
    },
    {
     "name": "stdout",
     "output_type": "stream",
     "text": [
      "tensor(164.9322, grad_fn=<SumBackward0>)\n"
     ]
    },
    {
     "name": "stderr",
     "output_type": "stream",
     "text": [
      "\r",
      "  0%|                                                                                                                                                             | 19/100000 [27:20<2543:53:59, 91.60s/it]"
     ]
    },
    {
     "name": "stdout",
     "output_type": "stream",
     "text": [
      "tensor(164.8127, grad_fn=<SumBackward0>)\n"
     ]
    },
    {
     "name": "stderr",
     "output_type": "stream",
     "text": [
      "\r",
      "  0%|                                                                                                                                                             | 20/100000 [28:53<2555:32:01, 92.02s/it]"
     ]
    },
    {
     "name": "stdout",
     "output_type": "stream",
     "text": [
      "tensor(164.7324, grad_fn=<SumBackward0>)\n"
     ]
    },
    {
     "name": "stderr",
     "output_type": "stream",
     "text": [
      "\r",
      "  0%|                                                                                                                                                             | 21/100000 [30:26<2560:53:29, 92.21s/it]"
     ]
    },
    {
     "name": "stdout",
     "output_type": "stream",
     "text": [
      "tensor(164.7471, grad_fn=<SumBackward0>)\n"
     ]
    },
    {
     "name": "stderr",
     "output_type": "stream",
     "text": [
      "\r",
      "  0%|                                                                                                                                                             | 22/100000 [31:57<2558:05:26, 92.11s/it]"
     ]
    },
    {
     "name": "stdout",
     "output_type": "stream",
     "text": [
      "tensor(164.8191, grad_fn=<SumBackward0>)\n"
     ]
    },
    {
     "name": "stderr",
     "output_type": "stream",
     "text": [
      "\r",
      "  0%|                                                                                                                                                             | 23/100000 [33:27<2540:26:57, 91.48s/it]"
     ]
    },
    {
     "name": "stdout",
     "output_type": "stream",
     "text": [
      "tensor(164.8581, grad_fn=<SumBackward0>)\n"
     ]
    },
    {
     "name": "stderr",
     "output_type": "stream",
     "text": [
      "\r",
      "  0%|                                                                                                                                                             | 24/100000 [35:03<2576:59:23, 92.79s/it]"
     ]
    },
    {
     "name": "stdout",
     "output_type": "stream",
     "text": [
      "tensor(164.8233, grad_fn=<SumBackward0>)\n"
     ]
    },
    {
     "name": "stderr",
     "output_type": "stream",
     "text": [
      "\r",
      "  0%|                                                                                                                                                             | 25/100000 [36:35<2571:10:17, 92.59s/it]"
     ]
    },
    {
     "name": "stdout",
     "output_type": "stream",
     "text": [
      "tensor(164.7564, grad_fn=<SumBackward0>)\n"
     ]
    },
    {
     "name": "stderr",
     "output_type": "stream",
     "text": [
      "\r",
      "  0%|                                                                                                                                                             | 26/100000 [38:09<2583:24:34, 93.03s/it]"
     ]
    },
    {
     "name": "stdout",
     "output_type": "stream",
     "text": [
      "tensor(164.7220, grad_fn=<SumBackward0>)\n"
     ]
    },
    {
     "name": "stderr",
     "output_type": "stream",
     "text": [
      "\r",
      "  0%|                                                                                                                                                             | 27/100000 [39:43<2590:14:15, 93.27s/it]"
     ]
    },
    {
     "name": "stdout",
     "output_type": "stream",
     "text": [
      "tensor(164.7401, grad_fn=<SumBackward0>)\n"
     ]
    },
    {
     "name": "stderr",
     "output_type": "stream",
     "text": [
      "\r",
      "  0%|                                                                                                                                                             | 28/100000 [41:18<2605:14:55, 93.82s/it]"
     ]
    },
    {
     "name": "stdout",
     "output_type": "stream",
     "text": [
      "tensor(164.7776, grad_fn=<SumBackward0>)\n"
     ]
    },
    {
     "name": "stderr",
     "output_type": "stream",
     "text": [
      "\r",
      "  0%|                                                                                                                                                             | 29/100000 [42:52<2602:15:09, 93.71s/it]"
     ]
    },
    {
     "name": "stdout",
     "output_type": "stream",
     "text": [
      "tensor(164.7915, grad_fn=<SumBackward0>)\n"
     ]
    },
    {
     "name": "stderr",
     "output_type": "stream",
     "text": [
      "\r",
      "  0%|                                                                                                                                                             | 30/100000 [44:24<2588:45:46, 93.22s/it]"
     ]
    },
    {
     "name": "stdout",
     "output_type": "stream",
     "text": [
      "tensor(164.7697, grad_fn=<SumBackward0>)\n"
     ]
    },
    {
     "name": "stderr",
     "output_type": "stream",
     "text": [
      "\r",
      "  0%|                                                                                                                                                             | 31/100000 [45:59<2607:40:09, 93.91s/it]"
     ]
    },
    {
     "name": "stdout",
     "output_type": "stream",
     "text": [
      "tensor(164.7353, grad_fn=<SumBackward0>)\n"
     ]
    },
    {
     "name": "stderr",
     "output_type": "stream",
     "text": [
      "\r",
      "  0%|                                                                                                                                                             | 32/100000 [47:32<2592:44:30, 93.37s/it]"
     ]
    },
    {
     "name": "stdout",
     "output_type": "stream",
     "text": [
      "tensor(164.7196, grad_fn=<SumBackward0>)\n"
     ]
    },
    {
     "name": "stderr",
     "output_type": "stream",
     "text": [
      "\r",
      "  0%|                                                                                                                                                             | 33/100000 [49:04<2586:16:34, 93.14s/it]"
     ]
    },
    {
     "name": "stdout",
     "output_type": "stream",
     "text": [
      "tensor(164.7319, grad_fn=<SumBackward0>)\n"
     ]
    },
    {
     "name": "stderr",
     "output_type": "stream",
     "text": [
      "\r",
      "  0%|                                                                                                                                                             | 34/100000 [50:40<2605:50:48, 93.84s/it]"
     ]
    },
    {
     "name": "stdout",
     "output_type": "stream",
     "text": [
      "tensor(164.7519, grad_fn=<SumBackward0>)\n"
     ]
    },
    {
     "name": "stderr",
     "output_type": "stream",
     "text": [
      "\r",
      "  0%|                                                                                                                                                             | 35/100000 [52:15<2619:15:36, 94.33s/it]"
     ]
    },
    {
     "name": "stdout",
     "output_type": "stream",
     "text": [
      "tensor(164.7542, grad_fn=<SumBackward0>)\n"
     ]
    },
    {
     "name": "stderr",
     "output_type": "stream",
     "text": [
      "\r",
      "  0%|                                                                                                                                                             | 36/100000 [53:49<2611:37:40, 94.05s/it]"
     ]
    },
    {
     "name": "stdout",
     "output_type": "stream",
     "text": [
      "tensor(164.7367, grad_fn=<SumBackward0>)\n"
     ]
    },
    {
     "name": "stderr",
     "output_type": "stream",
     "text": [
      "\r",
      "  0%|                                                                                                                                                             | 37/100000 [55:20<2591:15:57, 93.32s/it]"
     ]
    },
    {
     "name": "stdout",
     "output_type": "stream",
     "text": [
      "tensor(164.7190, grad_fn=<SumBackward0>)\n"
     ]
    },
    {
     "name": "stderr",
     "output_type": "stream",
     "text": [
      "\r",
      "  0%|                                                                                                                                                             | 38/100000 [56:55<2601:21:28, 93.68s/it]"
     ]
    },
    {
     "name": "stdout",
     "output_type": "stream",
     "text": [
      "tensor(164.7176, grad_fn=<SumBackward0>)\n"
     ]
    },
    {
     "name": "stderr",
     "output_type": "stream",
     "text": [
      "\r",
      "  0%|                                                                                                                                                             | 39/100000 [58:30<2619:05:43, 94.32s/it]"
     ]
    },
    {
     "name": "stdout",
     "output_type": "stream",
     "text": [
      "tensor(164.7290, grad_fn=<SumBackward0>)\n"
     ]
    },
    {
     "name": "stderr",
     "output_type": "stream",
     "text": [
      "\r",
      "  0%|                                                                                                                                                             | 40/100000 [59:59<2572:37:02, 92.65s/it]"
     ]
    },
    {
     "name": "stdout",
     "output_type": "stream",
     "text": [
      "tensor(164.7371, grad_fn=<SumBackward0>)\n"
     ]
    },
    {
     "name": "stderr",
     "output_type": "stream",
     "text": [
      "\r",
      "  0%|                                                                                                                                                           | 41/100000 [1:01:32<2574:29:31, 92.72s/it]"
     ]
    },
    {
     "name": "stdout",
     "output_type": "stream",
     "text": [
      "tensor(164.7323, grad_fn=<SumBackward0>)\n"
     ]
    },
    {
     "name": "stderr",
     "output_type": "stream",
     "text": [
      "\r",
      "  0%|                                                                                                                                                           | 42/100000 [1:03:08<2600:34:02, 93.66s/it]"
     ]
    },
    {
     "name": "stdout",
     "output_type": "stream",
     "text": [
      "tensor(164.7207, grad_fn=<SumBackward0>)\n"
     ]
    },
    {
     "name": "stderr",
     "output_type": "stream",
     "text": [
      "\r",
      "  0%|                                                                                                                                                           | 43/100000 [1:04:38<2573:22:11, 92.68s/it]"
     ]
    },
    {
     "name": "stdout",
     "output_type": "stream",
     "text": [
      "tensor(164.7147, grad_fn=<SumBackward0>)\n"
     ]
    },
    {
     "name": "stderr",
     "output_type": "stream",
     "text": [
      "\r",
      "  0%|                                                                                                                                                           | 44/100000 [1:06:15<2604:37:24, 93.81s/it]"
     ]
    },
    {
     "name": "stdout",
     "output_type": "stream",
     "text": [
      "tensor(164.7188, grad_fn=<SumBackward0>)\n"
     ]
    },
    {
     "name": "stderr",
     "output_type": "stream",
     "text": [
      "\r",
      "  0%|                                                                                                                                                           | 45/100000 [1:07:51<2628:05:23, 94.65s/it]"
     ]
    },
    {
     "name": "stdout",
     "output_type": "stream",
     "text": [
      "tensor(164.7255, grad_fn=<SumBackward0>)\n"
     ]
    },
    {
     "name": "stderr",
     "output_type": "stream",
     "text": [
      "\r",
      "  0%|                                                                                                                                                           | 46/100000 [1:09:26<2629:17:11, 94.70s/it]"
     ]
    },
    {
     "name": "stdout",
     "output_type": "stream",
     "text": [
      "tensor(164.7253, grad_fn=<SumBackward0>)\n"
     ]
    },
    {
     "name": "stderr",
     "output_type": "stream",
     "text": [
      "\r",
      "  0%|                                                                                                                                                           | 47/100000 [1:11:05<2660:08:53, 95.81s/it]"
     ]
    },
    {
     "name": "stdout",
     "output_type": "stream",
     "text": [
      "tensor(164.7186, grad_fn=<SumBackward0>)\n"
     ]
    },
    {
     "name": "stderr",
     "output_type": "stream",
     "text": [
      "\r",
      "  0%|                                                                                                                                                           | 48/100000 [1:12:36<2621:41:08, 94.43s/it]"
     ]
    },
    {
     "name": "stdout",
     "output_type": "stream",
     "text": [
      "tensor(164.7136, grad_fn=<SumBackward0>)\n"
     ]
    },
    {
     "name": "stderr",
     "output_type": "stream",
     "text": [
      "\r",
      "  0%|                                                                                                                                                           | 49/100000 [1:14:13<2646:22:34, 95.32s/it]"
     ]
    },
    {
     "name": "stdout",
     "output_type": "stream",
     "text": [
      "tensor(164.7149, grad_fn=<SumBackward0>)\n"
     ]
    },
    {
     "name": "stderr",
     "output_type": "stream",
     "text": [
      "\r",
      "  0%|                                                                                                                                                           | 50/100000 [1:15:49<2653:14:44, 95.56s/it]"
     ]
    },
    {
     "name": "stdout",
     "output_type": "stream",
     "text": [
      "tensor(164.7192, grad_fn=<SumBackward0>)\n"
     ]
    },
    {
     "name": "stderr",
     "output_type": "stream",
     "text": [
      "\r",
      "  0%|                                                                                                                                                           | 51/100000 [1:17:24<2645:59:52, 95.30s/it]"
     ]
    },
    {
     "name": "stdout",
     "output_type": "stream",
     "text": [
      "tensor(164.7203, grad_fn=<SumBackward0>)\n"
     ]
    },
    {
     "name": "stderr",
     "output_type": "stream",
     "text": [
      "\r",
      "  0%|                                                                                                                                                           | 52/100000 [1:19:01<2659:01:22, 95.77s/it]"
     ]
    },
    {
     "name": "stdout",
     "output_type": "stream",
     "text": [
      "tensor(164.7170, grad_fn=<SumBackward0>)\n"
     ]
    },
    {
     "name": "stderr",
     "output_type": "stream",
     "text": [
      "\r",
      "  0%|                                                                                                                                                           | 53/100000 [1:20:33<2625:52:03, 94.58s/it]"
     ]
    },
    {
     "name": "stdout",
     "output_type": "stream",
     "text": [
      "tensor(164.7134, grad_fn=<SumBackward0>)\n"
     ]
    },
    {
     "name": "stderr",
     "output_type": "stream",
     "text": [
      "\r",
      "  0%|                                                                                                                                                           | 54/100000 [1:22:10<2646:54:03, 95.34s/it]"
     ]
    },
    {
     "name": "stdout",
     "output_type": "stream",
     "text": [
      "tensor(164.7133, grad_fn=<SumBackward0>)\n"
     ]
    },
    {
     "name": "stderr",
     "output_type": "stream",
     "text": [
      "\r",
      "  0%|                                                                                                                                                           | 55/100000 [1:23:48<2672:58:14, 96.28s/it]"
     ]
    },
    {
     "name": "stdout",
     "output_type": "stream",
     "text": [
      "tensor(164.7158, grad_fn=<SumBackward0>)\n"
     ]
    },
    {
     "name": "stderr",
     "output_type": "stream",
     "text": [
      "\r",
      "  0%|                                                                                                                                                           | 56/100000 [1:25:23<2660:50:52, 95.84s/it]"
     ]
    },
    {
     "name": "stdout",
     "output_type": "stream",
     "text": [
      "tensor(164.7169, grad_fn=<SumBackward0>)\n"
     ]
    },
    {
     "name": "stderr",
     "output_type": "stream",
     "text": [
      "\r",
      "  0%|                                                                                                                                                           | 57/100000 [1:26:55<2628:35:38, 94.68s/it]"
     ]
    },
    {
     "name": "stdout",
     "output_type": "stream",
     "text": [
      "tensor(164.7150, grad_fn=<SumBackward0>)\n"
     ]
    },
    {
     "name": "stderr",
     "output_type": "stream",
     "text": [
      "\r",
      "  0%|                                                                                                                                                           | 58/100000 [1:28:28<2613:43:08, 94.15s/it]"
     ]
    },
    {
     "name": "stdout",
     "output_type": "stream",
     "text": [
      "tensor(164.7127, grad_fn=<SumBackward0>)\n"
     ]
    },
    {
     "name": "stderr",
     "output_type": "stream",
     "text": [
      "\r",
      "  0%|                                                                                                                                                           | 59/100000 [1:30:01<2606:01:34, 93.87s/it]"
     ]
    },
    {
     "name": "stdout",
     "output_type": "stream",
     "text": [
      "tensor(164.7126, grad_fn=<SumBackward0>)\n"
     ]
    },
    {
     "name": "stderr",
     "output_type": "stream",
     "text": [
      "\r",
      "  0%|                                                                                                                                                           | 60/100000 [1:31:32<2576:22:46, 92.81s/it]"
     ]
    },
    {
     "name": "stdout",
     "output_type": "stream",
     "text": [
      "tensor(164.7142, grad_fn=<SumBackward0>)\n"
     ]
    },
    {
     "name": "stderr",
     "output_type": "stream",
     "text": [
      "\r",
      "  0%|                                                                                                                                                           | 61/100000 [1:33:05<2584:03:39, 93.08s/it]"
     ]
    },
    {
     "name": "stdout",
     "output_type": "stream",
     "text": [
      "tensor(164.7149, grad_fn=<SumBackward0>)\n"
     ]
    },
    {
     "name": "stderr",
     "output_type": "stream",
     "text": [
      "\r",
      "  0%|                                                                                                                                                           | 62/100000 [1:34:43<2621:40:01, 94.44s/it]"
     ]
    },
    {
     "name": "stdout",
     "output_type": "stream",
     "text": [
      "tensor(164.7137, grad_fn=<SumBackward0>)\n"
     ]
    },
    {
     "name": "stderr",
     "output_type": "stream",
     "text": [
      "\r",
      "  0%|                                                                                                                                                           | 63/100000 [1:36:18<2625:11:32, 94.57s/it]"
     ]
    },
    {
     "name": "stdout",
     "output_type": "stream",
     "text": [
      "tensor(164.7123, grad_fn=<SumBackward0>)\n"
     ]
    },
    {
     "name": "stderr",
     "output_type": "stream",
     "text": [
      "\r",
      "  0%|                                                                                                                                                           | 64/100000 [1:37:51<2612:10:30, 94.10s/it]"
     ]
    },
    {
     "name": "stdout",
     "output_type": "stream",
     "text": [
      "tensor(164.7123, grad_fn=<SumBackward0>)\n"
     ]
    },
    {
     "name": "stderr",
     "output_type": "stream",
     "text": [
      "\r",
      "  0%|                                                                                                                                                           | 65/100000 [1:39:22<2591:32:38, 93.36s/it]"
     ]
    },
    {
     "name": "stdout",
     "output_type": "stream",
     "text": [
      "tensor(164.7132, grad_fn=<SumBackward0>)\n"
     ]
    },
    {
     "name": "stderr",
     "output_type": "stream",
     "text": [
      "\r",
      "  0%|                                                                                                                                                           | 66/100000 [1:40:52<2560:22:35, 92.23s/it]"
     ]
    },
    {
     "name": "stdout",
     "output_type": "stream",
     "text": [
      "tensor(164.7136, grad_fn=<SumBackward0>)\n"
     ]
    },
    {
     "name": "stderr",
     "output_type": "stream",
     "text": [
      "\r",
      "  0%|                                                                                                                                                           | 67/100000 [1:42:24<2560:25:10, 92.24s/it]"
     ]
    },
    {
     "name": "stdout",
     "output_type": "stream",
     "text": [
      "tensor(164.7128, grad_fn=<SumBackward0>)\n"
     ]
    },
    {
     "name": "stderr",
     "output_type": "stream",
     "text": [
      "\r",
      "  0%|                                                                                                                                                           | 68/100000 [1:43:56<2558:15:24, 92.16s/it]"
     ]
    },
    {
     "name": "stdout",
     "output_type": "stream",
     "text": [
      "tensor(164.7120, grad_fn=<SumBackward0>)\n"
     ]
    },
    {
     "name": "stderr",
     "output_type": "stream",
     "text": [
      "\r",
      "  0%|                                                                                                                                                           | 69/100000 [1:45:30<2573:18:44, 92.70s/it]"
     ]
    },
    {
     "name": "stdout",
     "output_type": "stream",
     "text": [
      "tensor(164.7122, grad_fn=<SumBackward0>)\n"
     ]
    },
    {
     "name": "stderr",
     "output_type": "stream",
     "text": [
      "\r",
      "  0%|                                                                                                                                                           | 70/100000 [1:47:01<2561:16:32, 92.27s/it]"
     ]
    },
    {
     "name": "stdout",
     "output_type": "stream",
     "text": [
      "tensor(164.7128, grad_fn=<SumBackward0>)\n"
     ]
    },
    {
     "name": "stderr",
     "output_type": "stream",
     "text": [
      "\r",
      "  0%|                                                                                                                                                           | 71/100000 [1:48:34<2561:07:04, 92.27s/it]"
     ]
    },
    {
     "name": "stdout",
     "output_type": "stream",
     "text": [
      "tensor(164.7128, grad_fn=<SumBackward0>)\n"
     ]
    },
    {
     "name": "stderr",
     "output_type": "stream",
     "text": [
      "\r",
      "  0%|                                                                                                                                                           | 72/100000 [1:50:04<2540:58:50, 91.54s/it]"
     ]
    },
    {
     "name": "stdout",
     "output_type": "stream",
     "text": [
      "tensor(164.7123, grad_fn=<SumBackward0>)\n"
     ]
    },
    {
     "name": "stderr",
     "output_type": "stream",
     "text": [
      "\r",
      "  0%|                                                                                                                                                           | 73/100000 [1:51:32<2516:39:19, 90.67s/it]"
     ]
    },
    {
     "name": "stdout",
     "output_type": "stream",
     "text": [
      "tensor(164.7119, grad_fn=<SumBackward0>)\n"
     ]
    },
    {
     "name": "stderr",
     "output_type": "stream",
     "text": [
      "\r",
      "  0%|                                                                                                                                                           | 74/100000 [1:53:05<2537:58:43, 91.43s/it]"
     ]
    },
    {
     "name": "stdout",
     "output_type": "stream",
     "text": [
      "tensor(164.7121, grad_fn=<SumBackward0>)\n"
     ]
    },
    {
     "name": "stderr",
     "output_type": "stream",
     "text": [
      "\r",
      "  0%|                                                                                                                                                           | 75/100000 [1:54:41<2574:05:57, 92.74s/it]"
     ]
    },
    {
     "name": "stdout",
     "output_type": "stream",
     "text": [
      "tensor(164.7124, grad_fn=<SumBackward0>)\n"
     ]
    },
    {
     "name": "stderr",
     "output_type": "stream",
     "text": [
      "\r",
      "  0%|                                                                                                                                                           | 76/100000 [1:56:17<2598:38:06, 93.62s/it]"
     ]
    },
    {
     "name": "stdout",
     "output_type": "stream",
     "text": [
      "tensor(164.7123, grad_fn=<SumBackward0>)\n"
     ]
    },
    {
     "name": "stderr",
     "output_type": "stream",
     "text": [
      "\r",
      "  0%|                                                                                                                                                           | 77/100000 [1:57:51<2602:51:27, 93.78s/it]"
     ]
    },
    {
     "name": "stdout",
     "output_type": "stream",
     "text": [
      "tensor(164.7119, grad_fn=<SumBackward0>)\n"
     ]
    },
    {
     "name": "stderr",
     "output_type": "stream",
     "text": [
      "\r",
      "  0%|                                                                                                                                                           | 78/100000 [1:59:26<2612:14:09, 94.11s/it]"
     ]
    },
    {
     "name": "stdout",
     "output_type": "stream",
     "text": [
      "tensor(164.7118, grad_fn=<SumBackward0>)\n"
     ]
    },
    {
     "name": "stderr",
     "output_type": "stream",
     "text": [
      "\r",
      "  0%|                                                                                                                                                           | 79/100000 [2:01:02<2629:41:12, 94.74s/it]"
     ]
    },
    {
     "name": "stdout",
     "output_type": "stream",
     "text": [
      "tensor(164.7120, grad_fn=<SumBackward0>)\n"
     ]
    },
    {
     "name": "stderr",
     "output_type": "stream",
     "text": [
      "\r",
      "  0%|                                                                                                                                                           | 80/100000 [2:02:35<2611:06:36, 94.08s/it]"
     ]
    },
    {
     "name": "stdout",
     "output_type": "stream",
     "text": [
      "tensor(164.7122, grad_fn=<SumBackward0>)\n"
     ]
    },
    {
     "name": "stderr",
     "output_type": "stream",
     "text": [
      "\r",
      "  0%|▏                                                                                                                                                          | 81/100000 [2:04:12<2636:52:09, 95.00s/it]"
     ]
    },
    {
     "name": "stdout",
     "output_type": "stream",
     "text": [
      "tensor(164.7120, grad_fn=<SumBackward0>)\n"
     ]
    },
    {
     "name": "stderr",
     "output_type": "stream",
     "text": [
      "\r",
      "  0%|▏                                                                                                                                                          | 82/100000 [2:05:46<2633:01:18, 94.87s/it]"
     ]
    },
    {
     "name": "stdout",
     "output_type": "stream",
     "text": [
      "tensor(164.7118, grad_fn=<SumBackward0>)\n"
     ]
    },
    {
     "name": "stderr",
     "output_type": "stream",
     "text": [
      "\r",
      "  0%|▏                                                                                                                                                          | 83/100000 [2:07:16<2590:32:57, 93.34s/it]"
     ]
    },
    {
     "name": "stdout",
     "output_type": "stream",
     "text": [
      "tensor(164.7118, grad_fn=<SumBackward0>)\n"
     ]
    },
    {
     "name": "stderr",
     "output_type": "stream",
     "text": [
      "\r",
      "  0%|▏                                                                                                                                                          | 84/100000 [2:08:50<2595:59:14, 93.53s/it]"
     ]
    },
    {
     "name": "stdout",
     "output_type": "stream",
     "text": [
      "tensor(164.7120, grad_fn=<SumBackward0>)\n"
     ]
    },
    {
     "name": "stderr",
     "output_type": "stream",
     "text": [
      "\r",
      "  0%|▏                                                                                                                                                          | 85/100000 [2:10:24<2600:16:01, 93.69s/it]"
     ]
    },
    {
     "name": "stdout",
     "output_type": "stream",
     "text": [
      "tensor(164.7120, grad_fn=<SumBackward0>)\n"
     ]
    },
    {
     "name": "stderr",
     "output_type": "stream",
     "text": [
      "\r",
      "  0%|▏                                                                                                                                                          | 86/100000 [2:11:57<2589:16:09, 93.29s/it]"
     ]
    },
    {
     "name": "stdout",
     "output_type": "stream",
     "text": [
      "tensor(164.7118, grad_fn=<SumBackward0>)\n"
     ]
    },
    {
     "name": "stderr",
     "output_type": "stream",
     "text": [
      "\r",
      "  0%|▏                                                                                                                                                          | 87/100000 [2:13:26<2560:17:08, 92.25s/it]"
     ]
    },
    {
     "name": "stdout",
     "output_type": "stream",
     "text": [
      "tensor(164.7118, grad_fn=<SumBackward0>)\n"
     ]
    },
    {
     "name": "stderr",
     "output_type": "stream",
     "text": [
      "\r",
      "  0%|▏                                                                                                                                                          | 88/100000 [2:14:59<2565:48:34, 92.45s/it]"
     ]
    },
    {
     "name": "stdout",
     "output_type": "stream",
     "text": [
      "tensor(164.7118, grad_fn=<SumBackward0>)\n"
     ]
    },
    {
     "name": "stderr",
     "output_type": "stream",
     "text": [
      "\r",
      "  0%|▏                                                                                                                                                          | 89/100000 [2:16:35<2590:24:11, 93.34s/it]"
     ]
    },
    {
     "name": "stdout",
     "output_type": "stream",
     "text": [
      "tensor(164.7119, grad_fn=<SumBackward0>)\n"
     ]
    },
    {
     "name": "stderr",
     "output_type": "stream",
     "text": [
      "\r",
      "  0%|▏                                                                                                                                                          | 90/100000 [2:18:08<2589:21:57, 93.30s/it]"
     ]
    },
    {
     "name": "stdout",
     "output_type": "stream",
     "text": [
      "tensor(164.7118, grad_fn=<SumBackward0>)\n"
     ]
    },
    {
     "name": "stderr",
     "output_type": "stream",
     "text": [
      "\r",
      "  0%|▏                                                                                                                                                          | 91/100000 [2:19:41<2590:18:17, 93.34s/it]"
     ]
    },
    {
     "name": "stdout",
     "output_type": "stream",
     "text": [
      "tensor(164.7118, grad_fn=<SumBackward0>)\n"
     ]
    },
    {
     "name": "stderr",
     "output_type": "stream",
     "text": [
      "\r",
      "  0%|▏                                                                                                                                                          | 92/100000 [2:21:15<2596:58:01, 93.58s/it]"
     ]
    },
    {
     "name": "stdout",
     "output_type": "stream",
     "text": [
      "tensor(164.7118, grad_fn=<SumBackward0>)\n"
     ]
    },
    {
     "name": "stderr",
     "output_type": "stream",
     "text": [
      "\r",
      "  0%|▏                                                                                                                                                          | 93/100000 [2:22:48<2587:00:20, 93.22s/it]"
     ]
    },
    {
     "name": "stdout",
     "output_type": "stream",
     "text": [
      "tensor(164.7118, grad_fn=<SumBackward0>)\n"
     ]
    },
    {
     "name": "stderr",
     "output_type": "stream",
     "text": [
      "\r",
      "  0%|▏                                                                                                                                                          | 94/100000 [2:24:19<2569:53:24, 92.60s/it]"
     ]
    },
    {
     "name": "stdout",
     "output_type": "stream",
     "text": [
      "tensor(164.7118, grad_fn=<SumBackward0>)\n"
     ]
    },
    {
     "name": "stderr",
     "output_type": "stream",
     "text": [
      "\r",
      "  0%|▏                                                                                                                                                          | 95/100000 [2:25:47<2529:48:14, 91.16s/it]"
     ]
    },
    {
     "name": "stdout",
     "output_type": "stream",
     "text": [
      "tensor(164.7118, grad_fn=<SumBackward0>)\n"
     ]
    },
    {
     "name": "stderr",
     "output_type": "stream",
     "text": [
      "\r",
      "  0%|▏                                                                                                                                                          | 96/100000 [2:27:19<2535:34:28, 91.37s/it]"
     ]
    },
    {
     "name": "stdout",
     "output_type": "stream",
     "text": [
      "tensor(164.7117, grad_fn=<SumBackward0>)\n"
     ]
    },
    {
     "name": "stderr",
     "output_type": "stream",
     "text": [
      "\r",
      "  0%|▏                                                                                                                                                          | 97/100000 [2:28:55<2572:49:58, 92.71s/it]"
     ]
    },
    {
     "name": "stdout",
     "output_type": "stream",
     "text": [
      "tensor(164.7118, grad_fn=<SumBackward0>)\n"
     ]
    },
    {
     "name": "stderr",
     "output_type": "stream",
     "text": [
      "\r",
      "  0%|▏                                                                                                                                                          | 98/100000 [2:30:28<2577:44:27, 92.89s/it]"
     ]
    },
    {
     "name": "stdout",
     "output_type": "stream",
     "text": [
      "tensor(164.7118, grad_fn=<SumBackward0>)\n"
     ]
    },
    {
     "name": "stderr",
     "output_type": "stream",
     "text": [
      "\r",
      "  0%|▏                                                                                                                                                          | 99/100000 [2:32:06<2617:58:51, 94.34s/it]"
     ]
    },
    {
     "name": "stdout",
     "output_type": "stream",
     "text": [
      "tensor(164.7118, grad_fn=<SumBackward0>)\n"
     ]
    },
    {
     "name": "stderr",
     "output_type": "stream",
     "text": [
      "\r",
      "  0%|▏                                                                                                                                                         | 100/100000 [2:33:44<2655:28:37, 95.69s/it]"
     ]
    },
    {
     "name": "stdout",
     "output_type": "stream",
     "text": [
      "tensor(164.7117, grad_fn=<SumBackward0>)\n"
     ]
    },
    {
     "name": "stderr",
     "output_type": "stream",
     "text": [
      "\r",
      "  0%|▏                                                                                                                                                         | 101/100000 [2:35:21<2662:24:33, 95.94s/it]"
     ]
    },
    {
     "name": "stdout",
     "output_type": "stream",
     "text": [
      "tensor(164.7117, grad_fn=<SumBackward0>)\n"
     ]
    },
    {
     "name": "stderr",
     "output_type": "stream",
     "text": [
      "\r",
      "  0%|▏                                                                                                                                                         | 102/100000 [2:36:59<2683:58:58, 96.72s/it]"
     ]
    },
    {
     "name": "stdout",
     "output_type": "stream",
     "text": [
      "tensor(164.7118, grad_fn=<SumBackward0>)\n"
     ]
    },
    {
     "name": "stderr",
     "output_type": "stream",
     "text": [
      "\r",
      "  0%|▏                                                                                                                                                         | 103/100000 [2:38:39<2705:43:37, 97.51s/it]"
     ]
    },
    {
     "name": "stdout",
     "output_type": "stream",
     "text": [
      "tensor(164.7117, grad_fn=<SumBackward0>)\n"
     ]
    },
    {
     "name": "stderr",
     "output_type": "stream",
     "text": [
      "\r",
      "  0%|▏                                                                                                                                                         | 104/100000 [2:39:54<2522:38:50, 90.91s/it]"
     ]
    },
    {
     "name": "stdout",
     "output_type": "stream",
     "text": [
      "tensor(164.7117, grad_fn=<SumBackward0>)\n"
     ]
    },
    {
     "name": "stderr",
     "output_type": "stream",
     "text": [
      "\r",
      "  0%|▏                                                                                                                                                         | 105/100000 [2:41:24<2514:22:07, 90.61s/it]"
     ]
    },
    {
     "name": "stdout",
     "output_type": "stream",
     "text": [
      "tensor(164.7117, grad_fn=<SumBackward0>)\n"
     ]
    },
    {
     "name": "stderr",
     "output_type": "stream",
     "text": [
      "\r",
      "  0%|▏                                                                                                                                                         | 106/100000 [2:43:03<2579:10:45, 92.95s/it]"
     ]
    },
    {
     "name": "stdout",
     "output_type": "stream",
     "text": [
      "tensor(164.7117, grad_fn=<SumBackward0>)\n"
     ]
    },
    {
     "name": "stderr",
     "output_type": "stream",
     "text": [
      "\r",
      "  0%|▏                                                                                                                                                         | 107/100000 [2:44:38<2598:37:25, 93.65s/it]"
     ]
    },
    {
     "name": "stdout",
     "output_type": "stream",
     "text": [
      "tensor(164.7117, grad_fn=<SumBackward0>)\n"
     ]
    },
    {
     "name": "stderr",
     "output_type": "stream",
     "text": [
      "\r",
      "  0%|▏                                                                                                                                                         | 108/100000 [2:46:16<2634:02:10, 94.93s/it]"
     ]
    },
    {
     "name": "stdout",
     "output_type": "stream",
     "text": [
      "tensor(164.7117, grad_fn=<SumBackward0>)\n"
     ]
    },
    {
     "name": "stderr",
     "output_type": "stream",
     "text": [
      "\r",
      "  0%|▏                                                                                                                                                         | 109/100000 [2:47:51<2639:09:41, 95.11s/it]"
     ]
    },
    {
     "name": "stdout",
     "output_type": "stream",
     "text": [
      "tensor(164.7117, grad_fn=<SumBackward0>)\n"
     ]
    },
    {
     "name": "stderr",
     "output_type": "stream",
     "text": [
      "\r",
      "  0%|▏                                                                                                                                                         | 110/100000 [2:49:26<2633:43:59, 94.92s/it]"
     ]
    },
    {
     "name": "stdout",
     "output_type": "stream",
     "text": [
      "tensor(164.7117, grad_fn=<SumBackward0>)\n"
     ]
    },
    {
     "name": "stderr",
     "output_type": "stream",
     "text": [
      "\r",
      "  0%|▏                                                                                                                                                         | 111/100000 [2:50:57<2605:57:46, 93.92s/it]"
     ]
    },
    {
     "name": "stdout",
     "output_type": "stream",
     "text": [
      "tensor(164.7117, grad_fn=<SumBackward0>)\n"
     ]
    },
    {
     "name": "stderr",
     "output_type": "stream",
     "text": [
      "\r",
      "  0%|▏                                                                                                                                                         | 112/100000 [2:52:33<2619:53:16, 94.42s/it]"
     ]
    },
    {
     "name": "stdout",
     "output_type": "stream",
     "text": [
      "tensor(164.7117, grad_fn=<SumBackward0>)\n"
     ]
    },
    {
     "name": "stderr",
     "output_type": "stream",
     "text": [
      "\r",
      "  0%|▏                                                                                                                                                         | 113/100000 [2:54:09<2631:26:11, 94.84s/it]"
     ]
    },
    {
     "name": "stdout",
     "output_type": "stream",
     "text": [
      "tensor(164.7117, grad_fn=<SumBackward0>)\n"
     ]
    },
    {
     "name": "stderr",
     "output_type": "stream",
     "text": [
      "\r",
      "  0%|▏                                                                                                                                                         | 114/100000 [2:55:47<2657:47:48, 95.79s/it]"
     ]
    },
    {
     "name": "stdout",
     "output_type": "stream",
     "text": [
      "tensor(164.7117, grad_fn=<SumBackward0>)\n"
     ]
    },
    {
     "name": "stderr",
     "output_type": "stream",
     "text": [
      "\r",
      "  0%|▏                                                                                                                                                         | 115/100000 [2:57:14<2583:16:03, 93.10s/it]"
     ]
    },
    {
     "name": "stdout",
     "output_type": "stream",
     "text": [
      "tensor(164.7117, grad_fn=<SumBackward0>)\n"
     ]
    },
    {
     "name": "stderr",
     "output_type": "stream",
     "text": [
      "\r",
      "  0%|▏                                                                                                                                                         | 116/100000 [2:58:50<2611:46:27, 94.13s/it]"
     ]
    },
    {
     "name": "stdout",
     "output_type": "stream",
     "text": [
      "tensor(164.7117, grad_fn=<SumBackward0>)\n"
     ]
    },
    {
     "name": "stderr",
     "output_type": "stream",
     "text": [
      "\r",
      "  0%|▏                                                                                                                                                         | 117/100000 [3:00:25<2618:21:28, 94.37s/it]"
     ]
    },
    {
     "name": "stdout",
     "output_type": "stream",
     "text": [
      "tensor(164.7117, grad_fn=<SumBackward0>)\n"
     ]
    },
    {
     "name": "stderr",
     "output_type": "stream",
     "text": [
      "\r",
      "  0%|▏                                                                                                                                                         | 118/100000 [3:02:01<2634:46:04, 94.96s/it]"
     ]
    },
    {
     "name": "stdout",
     "output_type": "stream",
     "text": [
      "tensor(164.7117, grad_fn=<SumBackward0>)\n"
     ]
    },
    {
     "name": "stderr",
     "output_type": "stream",
     "text": [
      "\r",
      "  0%|▏                                                                                                                                                         | 119/100000 [3:03:38<2650:06:07, 95.52s/it]"
     ]
    },
    {
     "name": "stdout",
     "output_type": "stream",
     "text": [
      "tensor(164.7117, grad_fn=<SumBackward0>)\n"
     ]
    },
    {
     "name": "stderr",
     "output_type": "stream",
     "text": [
      "\r",
      "  0%|▏                                                                                                                                                         | 120/100000 [3:05:14<2649:39:43, 95.50s/it]"
     ]
    },
    {
     "name": "stdout",
     "output_type": "stream",
     "text": [
      "tensor(164.7117, grad_fn=<SumBackward0>)\n"
     ]
    },
    {
     "name": "stderr",
     "output_type": "stream",
     "text": [
      "\r",
      "  0%|▏                                                                                                                                                         | 121/100000 [3:06:50<2652:25:43, 95.60s/it]"
     ]
    },
    {
     "name": "stdout",
     "output_type": "stream",
     "text": [
      "tensor(164.7117, grad_fn=<SumBackward0>)\n"
     ]
    },
    {
     "name": "stderr",
     "output_type": "stream",
     "text": [
      "\r",
      "  0%|▏                                                                                                                                                         | 122/100000 [3:08:03<2469:16:02, 89.00s/it]"
     ]
    },
    {
     "name": "stdout",
     "output_type": "stream",
     "text": [
      "tensor(164.7117, grad_fn=<SumBackward0>)\n"
     ]
    },
    {
     "name": "stderr",
     "output_type": "stream",
     "text": [
      "\r",
      "  0%|▏                                                                                                                                                         | 123/100000 [3:08:56<2165:11:24, 78.04s/it]"
     ]
    },
    {
     "name": "stdout",
     "output_type": "stream",
     "text": [
      "tensor(164.7117, grad_fn=<SumBackward0>)\n"
     ]
    },
    {
     "name": "stderr",
     "output_type": "stream",
     "text": [
      "\r",
      "  0%|▏                                                                                                                                                         | 124/100000 [3:10:08<2118:58:27, 76.38s/it]"
     ]
    },
    {
     "name": "stdout",
     "output_type": "stream",
     "text": [
      "tensor(164.7117, grad_fn=<SumBackward0>)\n"
     ]
    },
    {
     "name": "stderr",
     "output_type": "stream",
     "text": [
      "\r",
      "  0%|▏                                                                                                                                                         | 125/100000 [3:11:20<2080:15:16, 74.98s/it]"
     ]
    },
    {
     "name": "stdout",
     "output_type": "stream",
     "text": [
      "tensor(164.7117, grad_fn=<SumBackward0>)\n"
     ]
    },
    {
     "name": "stderr",
     "output_type": "stream",
     "text": [
      "\r",
      "  0%|▏                                                                                                                                                         | 126/100000 [3:12:24<1989:01:07, 71.70s/it]"
     ]
    },
    {
     "name": "stdout",
     "output_type": "stream",
     "text": [
      "tensor(164.7117, grad_fn=<SumBackward0>)\n"
     ]
    },
    {
     "name": "stderr",
     "output_type": "stream",
     "text": [
      "\r",
      "  0%|▏                                                                                                                                                         | 127/100000 [3:13:28<1925:57:23, 69.42s/it]"
     ]
    },
    {
     "name": "stdout",
     "output_type": "stream",
     "text": [
      "tensor(164.7117, grad_fn=<SumBackward0>)\n"
     ]
    },
    {
     "name": "stderr",
     "output_type": "stream",
     "text": [
      "\r",
      "  0%|▏                                                                                                                                                         | 128/100000 [3:14:19<1774:42:37, 63.97s/it]"
     ]
    },
    {
     "name": "stdout",
     "output_type": "stream",
     "text": [
      "tensor(164.7117, grad_fn=<SumBackward0>)\n"
     ]
    },
    {
     "name": "stderr",
     "output_type": "stream",
     "text": [
      "\r",
      "  0%|▏                                                                                                                                                         | 129/100000 [3:15:18<1733:36:43, 62.49s/it]"
     ]
    },
    {
     "name": "stdout",
     "output_type": "stream",
     "text": [
      "tensor(164.7117, grad_fn=<SumBackward0>)\n"
     ]
    },
    {
     "name": "stderr",
     "output_type": "stream",
     "text": [
      "\r",
      "  0%|▏                                                                                                                                                         | 130/100000 [3:16:25<1772:29:30, 63.89s/it]"
     ]
    },
    {
     "name": "stdout",
     "output_type": "stream",
     "text": [
      "tensor(164.7117, grad_fn=<SumBackward0>)\n"
     ]
    },
    {
     "name": "stderr",
     "output_type": "stream",
     "text": [
      "\r",
      "  0%|▏                                                                                                                                                         | 131/100000 [3:17:37<1833:55:19, 66.11s/it]"
     ]
    },
    {
     "name": "stdout",
     "output_type": "stream",
     "text": [
      "tensor(164.7117, grad_fn=<SumBackward0>)\n"
     ]
    },
    {
     "name": "stderr",
     "output_type": "stream",
     "text": [
      "\r",
      "  0%|▏                                                                                                                                                         | 132/100000 [3:18:26<1692:51:24, 61.02s/it]"
     ]
    },
    {
     "name": "stdout",
     "output_type": "stream",
     "text": [
      "tensor(164.7117, grad_fn=<SumBackward0>)\n"
     ]
    },
    {
     "name": "stderr",
     "output_type": "stream",
     "text": [
      "\r",
      "  0%|▏                                                                                                                                                         | 133/100000 [3:19:29<1708:21:19, 61.58s/it]"
     ]
    },
    {
     "name": "stdout",
     "output_type": "stream",
     "text": [
      "tensor(164.7117, grad_fn=<SumBackward0>)\n"
     ]
    },
    {
     "name": "stderr",
     "output_type": "stream",
     "text": [
      "\r",
      "  0%|▏                                                                                                                                                         | 134/100000 [3:20:33<1732:02:37, 62.44s/it]"
     ]
    },
    {
     "name": "stdout",
     "output_type": "stream",
     "text": [
      "tensor(164.7117, grad_fn=<SumBackward0>)\n"
     ]
    },
    {
     "name": "stderr",
     "output_type": "stream",
     "text": [
      "\r",
      "  0%|▏                                                                                                                                                         | 135/100000 [3:21:29<1674:04:08, 60.35s/it]"
     ]
    },
    {
     "name": "stdout",
     "output_type": "stream",
     "text": [
      "tensor(164.7117, grad_fn=<SumBackward0>)\n"
     ]
    },
    {
     "name": "stderr",
     "output_type": "stream",
     "text": [
      "\r",
      "  0%|▏                                                                                                                                                         | 136/100000 [3:22:27<1660:00:52, 59.84s/it]"
     ]
    },
    {
     "name": "stdout",
     "output_type": "stream",
     "text": [
      "tensor(164.7117, grad_fn=<SumBackward0>)\n"
     ]
    },
    {
     "name": "stderr",
     "output_type": "stream",
     "text": [
      "\r",
      "  0%|▏                                                                                                                                                         | 137/100000 [3:23:25<1640:20:03, 59.13s/it]"
     ]
    },
    {
     "name": "stdout",
     "output_type": "stream",
     "text": [
      "tensor(164.7117, grad_fn=<SumBackward0>)\n"
     ]
    },
    {
     "name": "stderr",
     "output_type": "stream",
     "text": [
      "\r",
      "  0%|▏                                                                                                                                                         | 138/100000 [3:24:35<1735:45:05, 62.57s/it]"
     ]
    },
    {
     "name": "stdout",
     "output_type": "stream",
     "text": [
      "tensor(164.7117, grad_fn=<SumBackward0>)\n"
     ]
    },
    {
     "name": "stderr",
     "output_type": "stream",
     "text": [
      "\r",
      "  0%|▏                                                                                                                                                         | 139/100000 [3:25:52<1853:47:18, 66.83s/it]"
     ]
    },
    {
     "name": "stdout",
     "output_type": "stream",
     "text": [
      "tensor(164.7117, grad_fn=<SumBackward0>)\n"
     ]
    },
    {
     "name": "stderr",
     "output_type": "stream",
     "text": [
      "\r",
      "  0%|▏                                                                                                                                                         | 140/100000 [3:26:58<1847:21:35, 66.60s/it]"
     ]
    },
    {
     "name": "stdout",
     "output_type": "stream",
     "text": [
      "tensor(164.7117, grad_fn=<SumBackward0>)\n"
     ]
    },
    {
     "name": "stderr",
     "output_type": "stream",
     "text": [
      "\r",
      "  0%|▏                                                                                                                                                         | 141/100000 [3:28:08<1870:18:57, 67.43s/it]"
     ]
    },
    {
     "name": "stdout",
     "output_type": "stream",
     "text": [
      "tensor(164.7117, grad_fn=<SumBackward0>)\n"
     ]
    },
    {
     "name": "stderr",
     "output_type": "stream",
     "text": [
      "\r",
      "  0%|▏                                                                                                                                                         | 142/100000 [3:29:13<1849:54:28, 66.69s/it]"
     ]
    },
    {
     "name": "stdout",
     "output_type": "stream",
     "text": [
      "tensor(164.7117, grad_fn=<SumBackward0>)\n"
     ]
    },
    {
     "name": "stderr",
     "output_type": "stream",
     "text": [
      "\r",
      "  0%|▏                                                                                                                                                         | 143/100000 [3:30:22<1869:33:18, 67.40s/it]"
     ]
    },
    {
     "name": "stdout",
     "output_type": "stream",
     "text": [
      "tensor(164.7117, grad_fn=<SumBackward0>)\n"
     ]
    },
    {
     "name": "stderr",
     "output_type": "stream",
     "text": [
      "\r",
      "  0%|▏                                                                                                                                                         | 144/100000 [3:31:34<1908:59:00, 68.82s/it]"
     ]
    },
    {
     "name": "stdout",
     "output_type": "stream",
     "text": [
      "tensor(164.7117, grad_fn=<SumBackward0>)\n"
     ]
    },
    {
     "name": "stderr",
     "output_type": "stream",
     "text": [
      "\r",
      "  0%|▏                                                                                                                                                         | 145/100000 [3:32:37<1859:53:22, 67.05s/it]"
     ]
    },
    {
     "name": "stdout",
     "output_type": "stream",
     "text": [
      "tensor(164.7117, grad_fn=<SumBackward0>)\n"
     ]
    },
    {
     "name": "stderr",
     "output_type": "stream",
     "text": [
      "\r",
      "  0%|▏                                                                                                                                                         | 146/100000 [3:33:28<1725:04:42, 62.19s/it]"
     ]
    },
    {
     "name": "stdout",
     "output_type": "stream",
     "text": [
      "tensor(164.7117, grad_fn=<SumBackward0>)\n"
     ]
    },
    {
     "name": "stderr",
     "output_type": "stream",
     "text": [
      "\r",
      "  0%|▏                                                                                                                                                         | 147/100000 [3:34:21<1655:56:02, 59.70s/it]"
     ]
    },
    {
     "name": "stdout",
     "output_type": "stream",
     "text": [
      "tensor(164.7117, grad_fn=<SumBackward0>)\n"
     ]
    },
    {
     "name": "stderr",
     "output_type": "stream",
     "text": [
      "\r",
      "  0%|▏                                                                                                                                                         | 148/100000 [3:35:24<1683:30:02, 60.70s/it]"
     ]
    },
    {
     "name": "stdout",
     "output_type": "stream",
     "text": [
      "tensor(164.7117, grad_fn=<SumBackward0>)\n"
     ]
    },
    {
     "name": "stderr",
     "output_type": "stream",
     "text": [
      "\r",
      "  0%|▏                                                                                                                                                         | 149/100000 [3:36:18<1626:48:22, 58.65s/it]"
     ]
    },
    {
     "name": "stdout",
     "output_type": "stream",
     "text": [
      "tensor(164.7117, grad_fn=<SumBackward0>)\n"
     ]
    },
    {
     "name": "stderr",
     "output_type": "stream",
     "text": [
      "\r",
      "  0%|▏                                                                                                                                                         | 150/100000 [3:37:20<1650:47:30, 59.52s/it]"
     ]
    },
    {
     "name": "stdout",
     "output_type": "stream",
     "text": [
      "tensor(164.7117, grad_fn=<SumBackward0>)\n"
     ]
    },
    {
     "name": "stderr",
     "output_type": "stream",
     "text": [
      "\r",
      "  0%|▏                                                                                                                                                         | 151/100000 [3:38:22<1673:17:43, 60.33s/it]"
     ]
    },
    {
     "name": "stdout",
     "output_type": "stream",
     "text": [
      "tensor(164.7117, grad_fn=<SumBackward0>)\n"
     ]
    },
    {
     "name": "stderr",
     "output_type": "stream",
     "text": [
      "\r",
      "  0%|▏                                                                                                                                                         | 152/100000 [3:39:32<1751:31:10, 63.15s/it]"
     ]
    },
    {
     "name": "stdout",
     "output_type": "stream",
     "text": [
      "tensor(164.7117, grad_fn=<SumBackward0>)\n"
     ]
    },
    {
     "name": "stderr",
     "output_type": "stream",
     "text": [
      "\r",
      "  0%|▏                                                                                                                                                         | 153/100000 [3:40:29<1699:48:24, 61.29s/it]"
     ]
    },
    {
     "name": "stdout",
     "output_type": "stream",
     "text": [
      "tensor(164.7117, grad_fn=<SumBackward0>)\n"
     ]
    },
    {
     "name": "stderr",
     "output_type": "stream",
     "text": [
      "\r",
      "  0%|▏                                                                                                                                                         | 154/100000 [3:41:35<1740:14:17, 62.75s/it]"
     ]
    },
    {
     "name": "stdout",
     "output_type": "stream",
     "text": [
      "tensor(164.7117, grad_fn=<SumBackward0>)\n"
     ]
    },
    {
     "name": "stderr",
     "output_type": "stream",
     "text": [
      "\r",
      "  0%|▏                                                                                                                                                         | 155/100000 [3:42:21<1603:45:32, 57.82s/it]"
     ]
    },
    {
     "name": "stdout",
     "output_type": "stream",
     "text": [
      "tensor(164.7117, grad_fn=<SumBackward0>)\n"
     ]
    },
    {
     "name": "stderr",
     "output_type": "stream",
     "text": [
      "\r",
      "  0%|▏                                                                                                                                                         | 156/100000 [3:43:22<1627:08:43, 58.67s/it]"
     ]
    },
    {
     "name": "stdout",
     "output_type": "stream",
     "text": [
      "tensor(164.7117, grad_fn=<SumBackward0>)\n"
     ]
    },
    {
     "name": "stderr",
     "output_type": "stream",
     "text": [
      "\r",
      "  0%|▏                                                                                                                                                         | 157/100000 [3:44:32<1724:48:50, 62.19s/it]"
     ]
    },
    {
     "name": "stdout",
     "output_type": "stream",
     "text": [
      "tensor(164.7117, grad_fn=<SumBackward0>)\n"
     ]
    },
    {
     "name": "stderr",
     "output_type": "stream",
     "text": [
      "\r",
      "  0%|▏                                                                                                                                                         | 158/100000 [3:45:44<1806:32:40, 65.14s/it]"
     ]
    },
    {
     "name": "stdout",
     "output_type": "stream",
     "text": [
      "tensor(164.7117, grad_fn=<SumBackward0>)\n"
     ]
    },
    {
     "name": "stderr",
     "output_type": "stream",
     "text": [
      "\r",
      "  0%|▏                                                                                                                                                         | 159/100000 [3:46:54<1844:44:41, 66.52s/it]"
     ]
    },
    {
     "name": "stdout",
     "output_type": "stream",
     "text": [
      "tensor(164.7117, grad_fn=<SumBackward0>)\n"
     ]
    },
    {
     "name": "stderr",
     "output_type": "stream",
     "text": [
      "\r",
      "  0%|▏                                                                                                                                                         | 160/100000 [3:47:56<1804:43:30, 65.07s/it]"
     ]
    },
    {
     "name": "stdout",
     "output_type": "stream",
     "text": [
      "tensor(164.7117, grad_fn=<SumBackward0>)\n"
     ]
    },
    {
     "name": "stderr",
     "output_type": "stream",
     "text": [
      "\r",
      "  0%|▏                                                                                                                                                         | 161/100000 [3:49:08<1862:01:46, 67.14s/it]"
     ]
    },
    {
     "name": "stdout",
     "output_type": "stream",
     "text": [
      "tensor(164.7117, grad_fn=<SumBackward0>)\n"
     ]
    },
    {
     "name": "stderr",
     "output_type": "stream",
     "text": [
      "\r",
      "  0%|▏                                                                                                                                                         | 162/100000 [3:50:10<1822:29:12, 65.72s/it]"
     ]
    },
    {
     "name": "stdout",
     "output_type": "stream",
     "text": [
      "tensor(164.7117, grad_fn=<SumBackward0>)\n"
     ]
    },
    {
     "name": "stderr",
     "output_type": "stream",
     "text": [
      "\r",
      "  0%|▎                                                                                                                                                         | 163/100000 [3:51:28<1927:17:34, 69.50s/it]"
     ]
    },
    {
     "name": "stdout",
     "output_type": "stream",
     "text": [
      "tensor(164.7117, grad_fn=<SumBackward0>)\n"
     ]
    },
    {
     "name": "stderr",
     "output_type": "stream",
     "text": [
      "\r",
      "  0%|▎                                                                                                                                                         | 164/100000 [3:52:37<1921:00:30, 69.27s/it]"
     ]
    },
    {
     "name": "stdout",
     "output_type": "stream",
     "text": [
      "tensor(164.7117, grad_fn=<SumBackward0>)\n"
     ]
    },
    {
     "name": "stderr",
     "output_type": "stream",
     "text": [
      "\r",
      "  0%|▎                                                                                                                                                         | 165/100000 [3:53:49<1940:43:04, 69.98s/it]"
     ]
    },
    {
     "name": "stdout",
     "output_type": "stream",
     "text": [
      "tensor(164.7117, grad_fn=<SumBackward0>)\n"
     ]
    },
    {
     "name": "stderr",
     "output_type": "stream",
     "text": [
      "\r",
      "  0%|▎                                                                                                                                                         | 166/100000 [3:54:52<1879:42:34, 67.78s/it]"
     ]
    },
    {
     "name": "stdout",
     "output_type": "stream",
     "text": [
      "tensor(164.7117, grad_fn=<SumBackward0>)\n"
     ]
    },
    {
     "name": "stderr",
     "output_type": "stream",
     "text": [
      "\r",
      "  0%|▎                                                                                                                                                         | 167/100000 [3:55:56<1852:32:04, 66.80s/it]"
     ]
    },
    {
     "name": "stdout",
     "output_type": "stream",
     "text": [
      "tensor(164.7117, grad_fn=<SumBackward0>)\n"
     ]
    },
    {
     "name": "stderr",
     "output_type": "stream",
     "text": [
      "\r",
      "  0%|▎                                                                                                                                                         | 168/100000 [3:56:55<1787:13:15, 64.45s/it]"
     ]
    },
    {
     "name": "stdout",
     "output_type": "stream",
     "text": [
      "tensor(164.7117, grad_fn=<SumBackward0>)\n"
     ]
    },
    {
     "name": "stderr",
     "output_type": "stream",
     "text": [
      "\r",
      "  0%|▎                                                                                                                                                         | 169/100000 [3:57:50<1707:05:56, 61.56s/it]"
     ]
    },
    {
     "name": "stdout",
     "output_type": "stream",
     "text": [
      "tensor(164.7117, grad_fn=<SumBackward0>)\n"
     ]
    },
    {
     "name": "stderr",
     "output_type": "stream",
     "text": [
      "\r",
      "  0%|▎                                                                                                                                                         | 170/100000 [3:58:52<1715:10:50, 61.85s/it]"
     ]
    },
    {
     "name": "stdout",
     "output_type": "stream",
     "text": [
      "tensor(164.7117, grad_fn=<SumBackward0>)\n"
     ]
    },
    {
     "name": "stderr",
     "output_type": "stream",
     "text": [
      "\r",
      "  0%|▎                                                                                                                                                         | 171/100000 [4:00:01<1774:43:10, 64.00s/it]"
     ]
    },
    {
     "name": "stdout",
     "output_type": "stream",
     "text": [
      "tensor(164.7117, grad_fn=<SumBackward0>)\n"
     ]
    },
    {
     "name": "stderr",
     "output_type": "stream",
     "text": [
      "\r",
      "  0%|▎                                                                                                                                                         | 172/100000 [4:01:08<1797:58:54, 64.84s/it]"
     ]
    },
    {
     "name": "stdout",
     "output_type": "stream",
     "text": [
      "tensor(164.7117, grad_fn=<SumBackward0>)\n"
     ]
    },
    {
     "name": "stderr",
     "output_type": "stream",
     "text": [
      "\r",
      "  0%|▎                                                                                                                                                         | 173/100000 [4:02:20<1852:31:58, 66.81s/it]"
     ]
    },
    {
     "name": "stdout",
     "output_type": "stream",
     "text": [
      "tensor(164.7117, grad_fn=<SumBackward0>)\n"
     ]
    },
    {
     "name": "stderr",
     "output_type": "stream",
     "text": [
      "\r",
      "  0%|▎                                                                                                                                                         | 174/100000 [4:03:20<1802:58:47, 65.02s/it]"
     ]
    },
    {
     "name": "stdout",
     "output_type": "stream",
     "text": [
      "tensor(164.7117, grad_fn=<SumBackward0>)\n"
     ]
    },
    {
     "name": "stderr",
     "output_type": "stream",
     "text": [
      "\r",
      "  0%|▎                                                                                                                                                         | 175/100000 [4:04:33<1863:35:49, 67.21s/it]"
     ]
    },
    {
     "name": "stdout",
     "output_type": "stream",
     "text": [
      "tensor(164.7117, grad_fn=<SumBackward0>)\n"
     ]
    },
    {
     "name": "stderr",
     "output_type": "stream",
     "text": [
      "\r",
      "  0%|▎                                                                                                                                                         | 176/100000 [4:05:31<1790:05:52, 64.56s/it]"
     ]
    },
    {
     "name": "stdout",
     "output_type": "stream",
     "text": [
      "tensor(164.7117, grad_fn=<SumBackward0>)\n"
     ]
    },
    {
     "name": "stderr",
     "output_type": "stream",
     "text": [
      "\r",
      "  0%|▎                                                                                                                                                         | 177/100000 [4:06:33<1767:36:44, 63.75s/it]"
     ]
    },
    {
     "name": "stdout",
     "output_type": "stream",
     "text": [
      "tensor(164.7117, grad_fn=<SumBackward0>)\n"
     ]
    },
    {
     "name": "stderr",
     "output_type": "stream",
     "text": [
      "\r",
      "  0%|▎                                                                                                                                                         | 178/100000 [4:07:39<1784:57:34, 64.37s/it]"
     ]
    },
    {
     "name": "stdout",
     "output_type": "stream",
     "text": [
      "tensor(164.7117, grad_fn=<SumBackward0>)\n"
     ]
    },
    {
     "name": "stderr",
     "output_type": "stream",
     "text": [
      "\r",
      "  0%|▎                                                                                                                                                         | 179/100000 [4:08:34<1711:46:45, 61.73s/it]"
     ]
    },
    {
     "name": "stdout",
     "output_type": "stream",
     "text": [
      "tensor(164.7117, grad_fn=<SumBackward0>)\n"
     ]
    },
    {
     "name": "stderr",
     "output_type": "stream",
     "text": [
      "\r",
      "  0%|▎                                                                                                                                                         | 180/100000 [4:09:34<1696:31:26, 61.18s/it]"
     ]
    },
    {
     "name": "stdout",
     "output_type": "stream",
     "text": [
      "tensor(164.7117, grad_fn=<SumBackward0>)\n"
     ]
    },
    {
     "name": "stderr",
     "output_type": "stream",
     "text": [
      "\r",
      "  0%|▎                                                                                                                                                         | 181/100000 [4:10:40<1732:35:02, 62.49s/it]"
     ]
    },
    {
     "name": "stdout",
     "output_type": "stream",
     "text": [
      "tensor(164.7117, grad_fn=<SumBackward0>)\n"
     ]
    },
    {
     "name": "stderr",
     "output_type": "stream",
     "text": [
      "\r",
      "  0%|▎                                                                                                                                                         | 182/100000 [4:11:46<1766:53:49, 63.72s/it]"
     ]
    },
    {
     "name": "stdout",
     "output_type": "stream",
     "text": [
      "tensor(164.7117, grad_fn=<SumBackward0>)\n"
     ]
    },
    {
     "name": "stderr",
     "output_type": "stream",
     "text": [
      "\r",
      "  0%|▎                                                                                                                                                         | 183/100000 [4:12:38<1662:06:47, 59.95s/it]"
     ]
    },
    {
     "name": "stdout",
     "output_type": "stream",
     "text": [
      "tensor(164.7117, grad_fn=<SumBackward0>)\n"
     ]
    },
    {
     "name": "stderr",
     "output_type": "stream",
     "text": [
      "\r",
      "  0%|▎                                                                                                                                                         | 184/100000 [4:13:42<1698:51:58, 61.27s/it]"
     ]
    },
    {
     "name": "stdout",
     "output_type": "stream",
     "text": [
      "tensor(164.7117, grad_fn=<SumBackward0>)\n"
     ]
    },
    {
     "name": "stderr",
     "output_type": "stream",
     "text": [
      "\r",
      "  0%|▎                                                                                                                                                         | 185/100000 [4:14:45<1714:57:32, 61.85s/it]"
     ]
    },
    {
     "name": "stdout",
     "output_type": "stream",
     "text": [
      "tensor(164.7117, grad_fn=<SumBackward0>)\n"
     ]
    },
    {
     "name": "stderr",
     "output_type": "stream",
     "text": [
      "\r",
      "  0%|▎                                                                                                                                                         | 186/100000 [4:15:49<1728:46:12, 62.35s/it]"
     ]
    },
    {
     "name": "stdout",
     "output_type": "stream",
     "text": [
      "tensor(164.7117, grad_fn=<SumBackward0>)\n"
     ]
    },
    {
     "name": "stderr",
     "output_type": "stream",
     "text": [
      "\r",
      "  0%|▎                                                                                                                                                         | 187/100000 [4:16:48<1704:43:13, 61.48s/it]"
     ]
    },
    {
     "name": "stdout",
     "output_type": "stream",
     "text": [
      "tensor(164.7117, grad_fn=<SumBackward0>)\n"
     ]
    },
    {
     "name": "stderr",
     "output_type": "stream",
     "text": [
      "\r",
      "  0%|▎                                                                                                                                                         | 188/100000 [4:17:53<1733:01:50, 62.51s/it]"
     ]
    },
    {
     "name": "stdout",
     "output_type": "stream",
     "text": [
      "tensor(164.7117, grad_fn=<SumBackward0>)\n"
     ]
    },
    {
     "name": "stderr",
     "output_type": "stream",
     "text": [
      "\r",
      "  0%|▎                                                                                                                                                         | 189/100000 [4:19:04<1806:55:18, 65.17s/it]"
     ]
    },
    {
     "name": "stdout",
     "output_type": "stream",
     "text": [
      "tensor(164.7117, grad_fn=<SumBackward0>)\n"
     ]
    },
    {
     "name": "stderr",
     "output_type": "stream",
     "text": [
      "\r",
      "  0%|▎                                                                                                                                                         | 190/100000 [4:20:11<1819:44:54, 65.64s/it]"
     ]
    },
    {
     "name": "stdout",
     "output_type": "stream",
     "text": [
      "tensor(164.7117, grad_fn=<SumBackward0>)\n"
     ]
    },
    {
     "name": "stderr",
     "output_type": "stream",
     "text": [
      "\r",
      "  0%|▎                                                                                                                                                         | 191/100000 [4:21:07<1741:00:04, 62.80s/it]"
     ]
    },
    {
     "name": "stdout",
     "output_type": "stream",
     "text": [
      "tensor(164.7117, grad_fn=<SumBackward0>)\n"
     ]
    },
    {
     "name": "stderr",
     "output_type": "stream",
     "text": [
      "\r",
      "  0%|▎                                                                                                                                                         | 192/100000 [4:22:08<1728:11:04, 62.33s/it]"
     ]
    },
    {
     "name": "stdout",
     "output_type": "stream",
     "text": [
      "tensor(164.7117, grad_fn=<SumBackward0>)\n"
     ]
    },
    {
     "name": "stderr",
     "output_type": "stream",
     "text": [
      "\r",
      "  0%|▎                                                                                                                                                         | 193/100000 [4:23:20<1803:48:29, 65.06s/it]"
     ]
    },
    {
     "name": "stdout",
     "output_type": "stream",
     "text": [
      "tensor(164.7117, grad_fn=<SumBackward0>)\n"
     ]
    },
    {
     "name": "stderr",
     "output_type": "stream",
     "text": [
      "\r",
      "  0%|▎                                                                                                                                                         | 194/100000 [4:24:20<1766:08:30, 63.70s/it]"
     ]
    },
    {
     "name": "stdout",
     "output_type": "stream",
     "text": [
      "tensor(164.7117, grad_fn=<SumBackward0>)\n"
     ]
    },
    {
     "name": "stderr",
     "output_type": "stream",
     "text": [
      "\r",
      "  0%|▎                                                                                                                                                         | 195/100000 [4:25:26<1780:20:11, 64.22s/it]"
     ]
    },
    {
     "name": "stdout",
     "output_type": "stream",
     "text": [
      "tensor(164.7117, grad_fn=<SumBackward0>)\n"
     ]
    },
    {
     "name": "stderr",
     "output_type": "stream",
     "text": [
      "\r",
      "  0%|▎                                                                                                                                                         | 196/100000 [4:26:34<1809:56:15, 65.29s/it]"
     ]
    },
    {
     "name": "stdout",
     "output_type": "stream",
     "text": [
      "tensor(164.7117, grad_fn=<SumBackward0>)\n"
     ]
    },
    {
     "name": "stderr",
     "output_type": "stream",
     "text": [
      "\r",
      "  0%|▎                                                                                                                                                         | 197/100000 [4:27:37<1791:59:29, 64.64s/it]"
     ]
    },
    {
     "name": "stdout",
     "output_type": "stream",
     "text": [
      "tensor(164.7117, grad_fn=<SumBackward0>)\n"
     ]
    },
    {
     "name": "stderr",
     "output_type": "stream",
     "text": [
      "\r",
      "  0%|▎                                                                                                                                                         | 198/100000 [4:28:39<1769:27:45, 63.83s/it]"
     ]
    },
    {
     "name": "stdout",
     "output_type": "stream",
     "text": [
      "tensor(164.7117, grad_fn=<SumBackward0>)\n"
     ]
    },
    {
     "name": "stderr",
     "output_type": "stream",
     "text": [
      "\r",
      "  0%|▎                                                                                                                                                         | 199/100000 [4:29:43<1769:55:46, 63.84s/it]"
     ]
    },
    {
     "name": "stdout",
     "output_type": "stream",
     "text": [
      "tensor(164.7117, grad_fn=<SumBackward0>)\n"
     ]
    },
    {
     "name": "stderr",
     "output_type": "stream",
     "text": [
      "\r",
      "  0%|▎                                                                                                                                                         | 200/100000 [4:30:29<1621:48:33, 58.50s/it]"
     ]
    },
    {
     "name": "stdout",
     "output_type": "stream",
     "text": [
      "tensor(164.7117, grad_fn=<SumBackward0>)\n"
     ]
    },
    {
     "name": "stderr",
     "output_type": "stream",
     "text": [
      "\r",
      "  0%|▎                                                                                                                                                         | 201/100000 [4:31:29<1633:39:57, 58.93s/it]"
     ]
    },
    {
     "name": "stdout",
     "output_type": "stream",
     "text": [
      "tensor(164.7117, grad_fn=<SumBackward0>)\n"
     ]
    },
    {
     "name": "stderr",
     "output_type": "stream",
     "text": [
      "\r",
      "  0%|▎                                                                                                                                                         | 202/100000 [4:32:32<1673:36:12, 60.37s/it]"
     ]
    },
    {
     "name": "stdout",
     "output_type": "stream",
     "text": [
      "tensor(164.7117, grad_fn=<SumBackward0>)\n"
     ]
    },
    {
     "name": "stderr",
     "output_type": "stream",
     "text": [
      "\r",
      "  0%|▎                                                                                                                                                         | 203/100000 [4:33:36<1700:23:40, 61.34s/it]"
     ]
    },
    {
     "name": "stdout",
     "output_type": "stream",
     "text": [
      "tensor(164.7117, grad_fn=<SumBackward0>)\n"
     ]
    },
    {
     "name": "stderr",
     "output_type": "stream",
     "text": [
      "\r",
      "  0%|▎                                                                                                                                                         | 204/100000 [4:34:30<1636:34:53, 59.04s/it]"
     ]
    },
    {
     "name": "stdout",
     "output_type": "stream",
     "text": [
      "tensor(164.7117, grad_fn=<SumBackward0>)\n"
     ]
    },
    {
     "name": "stderr",
     "output_type": "stream",
     "text": [
      "\r",
      "  0%|▎                                                                                                                                                         | 205/100000 [4:35:34<1682:33:34, 60.70s/it]"
     ]
    },
    {
     "name": "stdout",
     "output_type": "stream",
     "text": [
      "tensor(164.7117, grad_fn=<SumBackward0>)\n"
     ]
    },
    {
     "name": "stderr",
     "output_type": "stream",
     "text": [
      "\r",
      "  0%|▎                                                                                                                                                         | 206/100000 [4:36:30<1639:19:08, 59.14s/it]"
     ]
    },
    {
     "name": "stdout",
     "output_type": "stream",
     "text": [
      "tensor(164.7117, grad_fn=<SumBackward0>)\n"
     ]
    },
    {
     "name": "stderr",
     "output_type": "stream",
     "text": [
      "\r",
      "  0%|▎                                                                                                                                                         | 207/100000 [4:37:22<1584:41:30, 57.17s/it]"
     ]
    },
    {
     "name": "stdout",
     "output_type": "stream",
     "text": [
      "tensor(164.7117, grad_fn=<SumBackward0>)\n"
     ]
    },
    {
     "name": "stderr",
     "output_type": "stream",
     "text": [
      "\r",
      "  0%|▎                                                                                                                                                         | 208/100000 [4:38:08<1491:09:57, 53.79s/it]"
     ]
    },
    {
     "name": "stdout",
     "output_type": "stream",
     "text": [
      "tensor(164.7117, grad_fn=<SumBackward0>)\n"
     ]
    },
    {
     "name": "stderr",
     "output_type": "stream",
     "text": [
      "\r",
      "  0%|▎                                                                                                                                                         | 209/100000 [4:39:03<1497:04:44, 54.01s/it]"
     ]
    },
    {
     "name": "stdout",
     "output_type": "stream",
     "text": [
      "tensor(164.7117, grad_fn=<SumBackward0>)\n"
     ]
    },
    {
     "name": "stderr",
     "output_type": "stream",
     "text": [
      "\r",
      "  0%|▎                                                                                                                                                         | 210/100000 [4:40:03<1553:00:36, 56.03s/it]"
     ]
    },
    {
     "name": "stdout",
     "output_type": "stream",
     "text": [
      "tensor(164.7117, grad_fn=<SumBackward0>)\n"
     ]
    },
    {
     "name": "stderr",
     "output_type": "stream",
     "text": [
      "\r",
      "  0%|▎                                                                                                                                                         | 211/100000 [4:41:15<1680:18:25, 60.62s/it]"
     ]
    },
    {
     "name": "stdout",
     "output_type": "stream",
     "text": [
      "tensor(164.7117, grad_fn=<SumBackward0>)\n"
     ]
    },
    {
     "name": "stderr",
     "output_type": "stream",
     "text": [
      "\r",
      "  0%|▎                                                                                                                                                         | 212/100000 [4:42:18<1706:34:56, 61.57s/it]"
     ]
    },
    {
     "name": "stdout",
     "output_type": "stream",
     "text": [
      "tensor(164.7117, grad_fn=<SumBackward0>)\n"
     ]
    },
    {
     "name": "stderr",
     "output_type": "stream",
     "text": [
      "\r",
      "  0%|▎                                                                                                                                                         | 213/100000 [4:43:26<1752:36:09, 63.23s/it]"
     ]
    },
    {
     "name": "stdout",
     "output_type": "stream",
     "text": [
      "tensor(164.7117, grad_fn=<SumBackward0>)\n"
     ]
    },
    {
     "name": "stderr",
     "output_type": "stream",
     "text": [
      "\r",
      "  0%|▎                                                                                                                                                         | 214/100000 [4:44:38<1828:50:30, 65.98s/it]"
     ]
    },
    {
     "name": "stdout",
     "output_type": "stream",
     "text": [
      "tensor(164.7117, grad_fn=<SumBackward0>)\n"
     ]
    },
    {
     "name": "stderr",
     "output_type": "stream",
     "text": [
      "\r",
      "  0%|▎                                                                                                                                                         | 215/100000 [4:45:52<1895:39:30, 68.39s/it]"
     ]
    },
    {
     "name": "stdout",
     "output_type": "stream",
     "text": [
      "tensor(164.7117, grad_fn=<SumBackward0>)\n"
     ]
    },
    {
     "name": "stderr",
     "output_type": "stream",
     "text": [
      "\r",
      "  0%|▎                                                                                                                                                         | 216/100000 [4:46:45<1765:02:34, 63.68s/it]"
     ]
    },
    {
     "name": "stdout",
     "output_type": "stream",
     "text": [
      "tensor(164.7117, grad_fn=<SumBackward0>)\n"
     ]
    },
    {
     "name": "stderr",
     "output_type": "stream",
     "text": [
      "\r",
      "  0%|▎                                                                                                                                                         | 217/100000 [4:47:53<1803:18:35, 65.06s/it]"
     ]
    },
    {
     "name": "stdout",
     "output_type": "stream",
     "text": [
      "tensor(164.7117, grad_fn=<SumBackward0>)\n"
     ]
    },
    {
     "name": "stderr",
     "output_type": "stream",
     "text": [
      "\r",
      "  0%|▎                                                                                                                                                         | 218/100000 [4:49:00<1822:20:55, 65.75s/it]"
     ]
    },
    {
     "name": "stdout",
     "output_type": "stream",
     "text": [
      "tensor(164.7117, grad_fn=<SumBackward0>)\n"
     ]
    },
    {
     "name": "stderr",
     "output_type": "stream",
     "text": [
      "\r",
      "  0%|▎                                                                                                                                                         | 219/100000 [4:49:55<1727:46:22, 62.34s/it]"
     ]
    },
    {
     "name": "stdout",
     "output_type": "stream",
     "text": [
      "tensor(164.7117, grad_fn=<SumBackward0>)\n"
     ]
    },
    {
     "name": "stderr",
     "output_type": "stream",
     "text": [
      "\r",
      "  0%|▎                                                                                                                                                         | 220/100000 [4:50:57<1730:10:13, 62.42s/it]"
     ]
    },
    {
     "name": "stdout",
     "output_type": "stream",
     "text": [
      "tensor(164.7117, grad_fn=<SumBackward0>)\n"
     ]
    },
    {
     "name": "stderr",
     "output_type": "stream",
     "text": [
      "\r",
      "  0%|▎                                                                                                                                                         | 221/100000 [4:51:53<1673:21:01, 60.37s/it]"
     ]
    },
    {
     "name": "stdout",
     "output_type": "stream",
     "text": [
      "tensor(164.7117, grad_fn=<SumBackward0>)\n"
     ]
    },
    {
     "name": "stderr",
     "output_type": "stream",
     "text": [
      "\r",
      "  0%|▎                                                                                                                                                         | 222/100000 [4:52:48<1630:33:46, 58.83s/it]"
     ]
    },
    {
     "name": "stdout",
     "output_type": "stream",
     "text": [
      "tensor(164.7117, grad_fn=<SumBackward0>)\n"
     ]
    },
    {
     "name": "stderr",
     "output_type": "stream",
     "text": [
      "\r",
      "  0%|▎                                                                                                                                                         | 223/100000 [4:53:45<1612:17:56, 58.17s/it]"
     ]
    },
    {
     "name": "stdout",
     "output_type": "stream",
     "text": [
      "tensor(164.7117, grad_fn=<SumBackward0>)\n"
     ]
    },
    {
     "name": "stderr",
     "output_type": "stream",
     "text": [
      "\r",
      "  0%|▎                                                                                                                                                         | 224/100000 [4:54:43<1610:46:40, 58.12s/it]"
     ]
    },
    {
     "name": "stdout",
     "output_type": "stream",
     "text": [
      "tensor(164.7117, grad_fn=<SumBackward0>)\n"
     ]
    },
    {
     "name": "stderr",
     "output_type": "stream",
     "text": [
      "\r",
      "  0%|▎                                                                                                                                                         | 225/100000 [4:55:36<1570:17:08, 56.66s/it]"
     ]
    },
    {
     "name": "stdout",
     "output_type": "stream",
     "text": [
      "tensor(164.7117, grad_fn=<SumBackward0>)\n"
     ]
    },
    {
     "name": "stderr",
     "output_type": "stream",
     "text": [
      "\r",
      "  0%|▎                                                                                                                                                         | 226/100000 [4:56:46<1680:35:45, 60.64s/it]"
     ]
    },
    {
     "name": "stdout",
     "output_type": "stream",
     "text": [
      "tensor(164.7117, grad_fn=<SumBackward0>)\n"
     ]
    },
    {
     "name": "stderr",
     "output_type": "stream",
     "text": [
      "\r",
      "  0%|▎                                                                                                                                                         | 227/100000 [4:57:52<1727:53:35, 62.35s/it]"
     ]
    },
    {
     "name": "stdout",
     "output_type": "stream",
     "text": [
      "tensor(164.7117, grad_fn=<SumBackward0>)\n"
     ]
    },
    {
     "name": "stderr",
     "output_type": "stream",
     "text": [
      "\r",
      "  0%|▎                                                                                                                                                         | 228/100000 [4:59:01<1778:11:32, 64.16s/it]"
     ]
    },
    {
     "name": "stdout",
     "output_type": "stream",
     "text": [
      "tensor(164.7117, grad_fn=<SumBackward0>)\n"
     ]
    },
    {
     "name": "stderr",
     "output_type": "stream",
     "text": [
      "\r",
      "  0%|▎                                                                                                                                                         | 229/100000 [4:59:57<1717:02:30, 61.96s/it]"
     ]
    },
    {
     "name": "stdout",
     "output_type": "stream",
     "text": [
      "tensor(164.7117, grad_fn=<SumBackward0>)\n"
     ]
    },
    {
     "name": "stderr",
     "output_type": "stream",
     "text": [
      "\r",
      "  0%|▎                                                                                                                                                         | 230/100000 [5:01:03<1747:05:00, 63.04s/it]"
     ]
    },
    {
     "name": "stdout",
     "output_type": "stream",
     "text": [
      "tensor(164.7117, grad_fn=<SumBackward0>)\n"
     ]
    },
    {
     "name": "stderr",
     "output_type": "stream",
     "text": [
      "\r",
      "  0%|▎                                                                                                                                                         | 231/100000 [5:02:10<1779:17:59, 64.20s/it]"
     ]
    },
    {
     "name": "stdout",
     "output_type": "stream",
     "text": [
      "tensor(164.7117, grad_fn=<SumBackward0>)\n"
     ]
    },
    {
     "name": "stderr",
     "output_type": "stream",
     "text": [
      "\r",
      "  0%|▎                                                                                                                                                         | 232/100000 [5:03:14<1779:17:01, 64.20s/it]"
     ]
    },
    {
     "name": "stdout",
     "output_type": "stream",
     "text": [
      "tensor(164.7117, grad_fn=<SumBackward0>)\n"
     ]
    },
    {
     "name": "stderr",
     "output_type": "stream",
     "text": [
      "\r",
      "  0%|▎                                                                                                                                                         | 233/100000 [5:04:34<1910:29:16, 68.94s/it]"
     ]
    },
    {
     "name": "stdout",
     "output_type": "stream",
     "text": [
      "tensor(164.7117, grad_fn=<SumBackward0>)\n"
     ]
    },
    {
     "name": "stderr",
     "output_type": "stream",
     "text": [
      "\r",
      "  0%|▎                                                                                                                                                         | 234/100000 [5:05:40<1885:19:44, 68.03s/it]"
     ]
    },
    {
     "name": "stdout",
     "output_type": "stream",
     "text": [
      "tensor(164.7117, grad_fn=<SumBackward0>)\n"
     ]
    },
    {
     "name": "stderr",
     "output_type": "stream",
     "text": [
      "\r",
      "  0%|▎                                                                                                                                                         | 235/100000 [5:06:47<1876:27:53, 67.71s/it]"
     ]
    },
    {
     "name": "stdout",
     "output_type": "stream",
     "text": [
      "tensor(164.7117, grad_fn=<SumBackward0>)\n"
     ]
    },
    {
     "name": "stderr",
     "output_type": "stream",
     "text": [
      "\r",
      "  0%|▎                                                                                                                                                         | 236/100000 [5:07:47<1810:17:29, 65.32s/it]"
     ]
    },
    {
     "name": "stdout",
     "output_type": "stream",
     "text": [
      "tensor(164.7117, grad_fn=<SumBackward0>)\n"
     ]
    },
    {
     "name": "stderr",
     "output_type": "stream",
     "text": [
      "\r",
      "  0%|▎                                                                                                                                                         | 237/100000 [5:08:45<1752:27:05, 63.24s/it]"
     ]
    },
    {
     "name": "stdout",
     "output_type": "stream",
     "text": [
      "tensor(164.7117, grad_fn=<SumBackward0>)\n"
     ]
    },
    {
     "name": "stderr",
     "output_type": "stream",
     "text": [
      "\r",
      "  0%|▎                                                                                                                                                         | 238/100000 [5:09:44<1714:47:05, 61.88s/it]"
     ]
    },
    {
     "name": "stdout",
     "output_type": "stream",
     "text": [
      "tensor(164.7117, grad_fn=<SumBackward0>)\n"
     ]
    },
    {
     "name": "stderr",
     "output_type": "stream",
     "text": [
      "\r",
      "  0%|▎                                                                                                                                                         | 239/100000 [5:10:44<1699:50:15, 61.34s/it]"
     ]
    },
    {
     "name": "stdout",
     "output_type": "stream",
     "text": [
      "tensor(164.7117, grad_fn=<SumBackward0>)\n"
     ]
    },
    {
     "name": "stderr",
     "output_type": "stream",
     "text": [
      "\r",
      "  0%|▎                                                                                                                                                         | 240/100000 [5:11:50<1742:12:21, 62.87s/it]"
     ]
    },
    {
     "name": "stdout",
     "output_type": "stream",
     "text": [
      "tensor(164.7117, grad_fn=<SumBackward0>)\n"
     ]
    },
    {
     "name": "stderr",
     "output_type": "stream",
     "text": [
      "\r",
      "  0%|▎                                                                                                                                                         | 241/100000 [5:12:45<1675:46:03, 60.47s/it]"
     ]
    },
    {
     "name": "stdout",
     "output_type": "stream",
     "text": [
      "tensor(164.7117, grad_fn=<SumBackward0>)\n"
     ]
    },
    {
     "name": "stderr",
     "output_type": "stream",
     "text": [
      "\r",
      "  0%|▎                                                                                                                                                         | 242/100000 [5:13:51<1722:49:09, 62.17s/it]"
     ]
    },
    {
     "name": "stdout",
     "output_type": "stream",
     "text": [
      "tensor(164.7117, grad_fn=<SumBackward0>)\n"
     ]
    },
    {
     "name": "stderr",
     "output_type": "stream",
     "text": [
      "\r",
      "  0%|▎                                                                                                                                                         | 243/100000 [5:14:59<1763:38:28, 63.65s/it]"
     ]
    },
    {
     "name": "stdout",
     "output_type": "stream",
     "text": [
      "tensor(164.7117, grad_fn=<SumBackward0>)\n"
     ]
    },
    {
     "name": "stderr",
     "output_type": "stream",
     "text": [
      "\r",
      "  0%|▍                                                                                                                                                         | 244/100000 [5:16:05<1783:19:35, 64.36s/it]"
     ]
    },
    {
     "name": "stdout",
     "output_type": "stream",
     "text": [
      "tensor(164.7117, grad_fn=<SumBackward0>)\n"
     ]
    },
    {
     "name": "stderr",
     "output_type": "stream",
     "text": [
      "\r",
      "  0%|▍                                                                                                                                                         | 245/100000 [5:17:04<1740:08:28, 62.80s/it]"
     ]
    },
    {
     "name": "stdout",
     "output_type": "stream",
     "text": [
      "tensor(164.7117, grad_fn=<SumBackward0>)\n"
     ]
    },
    {
     "name": "stderr",
     "output_type": "stream",
     "text": [
      "\r",
      "  0%|▍                                                                                                                                                         | 246/100000 [5:18:08<1749:53:34, 63.15s/it]"
     ]
    },
    {
     "name": "stdout",
     "output_type": "stream",
     "text": [
      "tensor(164.7117, grad_fn=<SumBackward0>)\n"
     ]
    },
    {
     "name": "stderr",
     "output_type": "stream",
     "text": [
      "\r",
      "  0%|▍                                                                                                                                                         | 247/100000 [5:19:08<1724:26:26, 62.23s/it]"
     ]
    },
    {
     "name": "stdout",
     "output_type": "stream",
     "text": [
      "tensor(164.7117, grad_fn=<SumBackward0>)\n"
     ]
    },
    {
     "name": "stderr",
     "output_type": "stream",
     "text": [
      "\r",
      "  0%|▍                                                                                                                                                         | 248/100000 [5:20:21<1813:27:38, 65.45s/it]"
     ]
    },
    {
     "name": "stdout",
     "output_type": "stream",
     "text": [
      "tensor(164.7117, grad_fn=<SumBackward0>)\n"
     ]
    },
    {
     "name": "stderr",
     "output_type": "stream",
     "text": [
      "\r",
      "  0%|▍                                                                                                                                                         | 249/100000 [5:21:32<1861:33:28, 67.18s/it]"
     ]
    },
    {
     "name": "stdout",
     "output_type": "stream",
     "text": [
      "tensor(164.7117, grad_fn=<SumBackward0>)\n"
     ]
    },
    {
     "name": "stderr",
     "output_type": "stream",
     "text": [
      "\r",
      "  0%|▍                                                                                                                                                         | 250/100000 [5:22:35<1831:01:59, 66.08s/it]"
     ]
    },
    {
     "name": "stdout",
     "output_type": "stream",
     "text": [
      "tensor(164.7117, grad_fn=<SumBackward0>)\n"
     ]
    },
    {
     "name": "stderr",
     "output_type": "stream",
     "text": [
      "\r",
      "  0%|▍                                                                                                                                                         | 251/100000 [5:23:41<1828:24:35, 65.99s/it]"
     ]
    },
    {
     "name": "stdout",
     "output_type": "stream",
     "text": [
      "tensor(164.7117, grad_fn=<SumBackward0>)\n"
     ]
    },
    {
     "name": "stderr",
     "output_type": "stream",
     "text": [
      "\r",
      "  0%|▍                                                                                                                                                         | 252/100000 [5:24:32<1701:44:34, 61.42s/it]"
     ]
    },
    {
     "name": "stdout",
     "output_type": "stream",
     "text": [
      "tensor(164.7117, grad_fn=<SumBackward0>)\n"
     ]
    },
    {
     "name": "stderr",
     "output_type": "stream",
     "text": [
      "\r",
      "  0%|▍                                                                                                                                                         | 253/100000 [5:25:18<1573:32:27, 56.79s/it]"
     ]
    },
    {
     "name": "stdout",
     "output_type": "stream",
     "text": [
      "tensor(164.7117, grad_fn=<SumBackward0>)\n"
     ]
    },
    {
     "name": "stderr",
     "output_type": "stream",
     "text": [
      "\r",
      "  0%|▍                                                                                                                                                         | 254/100000 [5:26:16<1582:52:36, 57.13s/it]"
     ]
    },
    {
     "name": "stdout",
     "output_type": "stream",
     "text": [
      "tensor(164.7117, grad_fn=<SumBackward0>)\n"
     ]
    },
    {
     "name": "stderr",
     "output_type": "stream",
     "text": [
      "\r",
      "  0%|▍                                                                                                                                                         | 255/100000 [5:27:21<1646:33:12, 59.43s/it]"
     ]
    },
    {
     "name": "stdout",
     "output_type": "stream",
     "text": [
      "tensor(164.7117, grad_fn=<SumBackward0>)\n"
     ]
    },
    {
     "name": "stderr",
     "output_type": "stream",
     "text": [
      "\r",
      "  0%|▍                                                                                                                                                         | 256/100000 [5:28:29<1724:16:14, 62.23s/it]"
     ]
    },
    {
     "name": "stdout",
     "output_type": "stream",
     "text": [
      "tensor(164.7117, grad_fn=<SumBackward0>)\n"
     ]
    },
    {
     "name": "stderr",
     "output_type": "stream",
     "text": [
      "\r",
      "  0%|▍                                                                                                                                                         | 257/100000 [5:29:44<1827:01:01, 65.94s/it]"
     ]
    },
    {
     "name": "stdout",
     "output_type": "stream",
     "text": [
      "tensor(164.7117, grad_fn=<SumBackward0>)\n"
     ]
    },
    {
     "name": "stderr",
     "output_type": "stream",
     "text": [
      "\r",
      "  0%|▍                                                                                                                                                         | 258/100000 [5:30:50<1825:18:34, 65.88s/it]"
     ]
    },
    {
     "name": "stdout",
     "output_type": "stream",
     "text": [
      "tensor(164.7117, grad_fn=<SumBackward0>)\n"
     ]
    },
    {
     "name": "stderr",
     "output_type": "stream",
     "text": [
      "\r",
      "  0%|▍                                                                                                                                                         | 259/100000 [5:31:51<1786:25:07, 64.48s/it]"
     ]
    },
    {
     "name": "stdout",
     "output_type": "stream",
     "text": [
      "tensor(164.7117, grad_fn=<SumBackward0>)\n"
     ]
    },
    {
     "name": "stderr",
     "output_type": "stream",
     "text": [
      "\r",
      "  0%|▍                                                                                                                                                         | 260/100000 [5:32:53<1766:37:33, 63.76s/it]"
     ]
    },
    {
     "name": "stdout",
     "output_type": "stream",
     "text": [
      "tensor(164.7117, grad_fn=<SumBackward0>)\n"
     ]
    },
    {
     "name": "stderr",
     "output_type": "stream",
     "text": [
      "\r",
      "  0%|▍                                                                                                                                                         | 261/100000 [5:33:44<1656:27:34, 59.79s/it]"
     ]
    },
    {
     "name": "stdout",
     "output_type": "stream",
     "text": [
      "tensor(164.7117, grad_fn=<SumBackward0>)\n"
     ]
    },
    {
     "name": "stderr",
     "output_type": "stream",
     "text": [
      "\r",
      "  0%|▍                                                                                                                                                         | 262/100000 [5:34:48<1691:38:11, 61.06s/it]"
     ]
    },
    {
     "name": "stdout",
     "output_type": "stream",
     "text": [
      "tensor(164.7117, grad_fn=<SumBackward0>)\n"
     ]
    },
    {
     "name": "stderr",
     "output_type": "stream",
     "text": [
      "\r",
      "  0%|▍                                                                                                                                                         | 263/100000 [5:35:54<1734:00:00, 62.59s/it]"
     ]
    },
    {
     "name": "stdout",
     "output_type": "stream",
     "text": [
      "tensor(164.7117, grad_fn=<SumBackward0>)\n"
     ]
    },
    {
     "name": "stderr",
     "output_type": "stream",
     "text": [
      "\r",
      "  0%|▍                                                                                                                                                         | 264/100000 [5:36:59<1759:41:50, 63.52s/it]"
     ]
    },
    {
     "name": "stdout",
     "output_type": "stream",
     "text": [
      "tensor(164.7117, grad_fn=<SumBackward0>)\n"
     ]
    },
    {
     "name": "stderr",
     "output_type": "stream",
     "text": [
      "\r",
      "  0%|▍                                                                                                                                                         | 265/100000 [5:38:06<1788:18:47, 64.55s/it]"
     ]
    },
    {
     "name": "stdout",
     "output_type": "stream",
     "text": [
      "tensor(164.7117, grad_fn=<SumBackward0>)\n"
     ]
    },
    {
     "name": "stderr",
     "output_type": "stream",
     "text": [
      "\r",
      "  0%|▍                                                                                                                                                         | 266/100000 [5:39:09<1774:17:16, 64.04s/it]"
     ]
    },
    {
     "name": "stdout",
     "output_type": "stream",
     "text": [
      "tensor(164.7117, grad_fn=<SumBackward0>)\n"
     ]
    },
    {
     "name": "stderr",
     "output_type": "stream",
     "text": [
      "\r",
      "  0%|▍                                                                                                                                                         | 267/100000 [5:40:06<1711:31:54, 61.78s/it]"
     ]
    },
    {
     "name": "stdout",
     "output_type": "stream",
     "text": [
      "tensor(164.7117, grad_fn=<SumBackward0>)\n"
     ]
    },
    {
     "name": "stderr",
     "output_type": "stream",
     "text": [
      "\r",
      "  0%|▍                                                                                                                                                         | 268/100000 [5:41:08<1712:57:06, 61.83s/it]"
     ]
    },
    {
     "name": "stdout",
     "output_type": "stream",
     "text": [
      "tensor(164.7117, grad_fn=<SumBackward0>)\n"
     ]
    },
    {
     "name": "stderr",
     "output_type": "stream",
     "text": [
      "\r",
      "  0%|▍                                                                                                                                                         | 269/100000 [5:42:18<1786:43:22, 64.50s/it]"
     ]
    },
    {
     "name": "stdout",
     "output_type": "stream",
     "text": [
      "tensor(164.7117, grad_fn=<SumBackward0>)\n"
     ]
    },
    {
     "name": "stderr",
     "output_type": "stream",
     "text": [
      "\r",
      "  0%|▍                                                                                                                                                         | 270/100000 [5:43:25<1803:42:37, 65.11s/it]"
     ]
    },
    {
     "name": "stdout",
     "output_type": "stream",
     "text": [
      "tensor(164.7117, grad_fn=<SumBackward0>)\n"
     ]
    },
    {
     "name": "stderr",
     "output_type": "stream",
     "text": [
      "\r",
      "  0%|▍                                                                                                                                                         | 271/100000 [5:44:36<1849:09:47, 66.75s/it]"
     ]
    },
    {
     "name": "stdout",
     "output_type": "stream",
     "text": [
      "tensor(164.7117, grad_fn=<SumBackward0>)\n"
     ]
    },
    {
     "name": "stderr",
     "output_type": "stream",
     "text": [
      "\r",
      "  0%|▍                                                                                                                                                         | 272/100000 [5:45:48<1893:36:16, 68.36s/it]"
     ]
    },
    {
     "name": "stdout",
     "output_type": "stream",
     "text": [
      "tensor(164.7117, grad_fn=<SumBackward0>)\n"
     ]
    },
    {
     "name": "stderr",
     "output_type": "stream",
     "text": [
      "\r",
      "  0%|▍                                                                                                                                                         | 273/100000 [5:46:50<1845:45:32, 66.63s/it]"
     ]
    },
    {
     "name": "stdout",
     "output_type": "stream",
     "text": [
      "tensor(164.7117, grad_fn=<SumBackward0>)\n"
     ]
    },
    {
     "name": "stderr",
     "output_type": "stream",
     "text": [
      "\r",
      "  0%|▍                                                                                                                                                         | 274/100000 [5:47:59<1864:11:53, 67.30s/it]"
     ]
    },
    {
     "name": "stdout",
     "output_type": "stream",
     "text": [
      "tensor(164.7117, grad_fn=<SumBackward0>)\n"
     ]
    },
    {
     "name": "stderr",
     "output_type": "stream",
     "text": [
      "\r",
      "  0%|▍                                                                                                                                                         | 275/100000 [5:49:02<1824:58:57, 65.88s/it]"
     ]
    },
    {
     "name": "stdout",
     "output_type": "stream",
     "text": [
      "tensor(164.7117, grad_fn=<SumBackward0>)\n"
     ]
    },
    {
     "name": "stderr",
     "output_type": "stream",
     "text": [
      "\r",
      "  0%|▍                                                                                                                                                         | 276/100000 [5:50:11<1849:44:14, 66.77s/it]"
     ]
    },
    {
     "name": "stdout",
     "output_type": "stream",
     "text": [
      "tensor(164.7117, grad_fn=<SumBackward0>)\n"
     ]
    },
    {
     "name": "stderr",
     "output_type": "stream",
     "text": [
      "\r",
      "  0%|▍                                                                                                                                                         | 277/100000 [5:51:17<1847:24:31, 66.69s/it]"
     ]
    },
    {
     "name": "stdout",
     "output_type": "stream",
     "text": [
      "tensor(164.7117, grad_fn=<SumBackward0>)\n"
     ]
    },
    {
     "name": "stderr",
     "output_type": "stream",
     "text": [
      "\r",
      "  0%|▍                                                                                                                                                         | 278/100000 [5:52:16<1779:41:11, 64.25s/it]"
     ]
    },
    {
     "name": "stdout",
     "output_type": "stream",
     "text": [
      "tensor(164.7117, grad_fn=<SumBackward0>)\n"
     ]
    },
    {
     "name": "stderr",
     "output_type": "stream",
     "text": [
      "\r",
      "  0%|▍                                                                                                                                                         | 279/100000 [5:53:19<1771:32:16, 63.95s/it]"
     ]
    },
    {
     "name": "stdout",
     "output_type": "stream",
     "text": [
      "tensor(164.7117, grad_fn=<SumBackward0>)\n"
     ]
    },
    {
     "name": "stderr",
     "output_type": "stream",
     "text": [
      "\r",
      "  0%|▍                                                                                                                                                         | 280/100000 [5:54:24<1779:30:34, 64.24s/it]"
     ]
    },
    {
     "name": "stdout",
     "output_type": "stream",
     "text": [
      "tensor(164.7117, grad_fn=<SumBackward0>)\n"
     ]
    },
    {
     "name": "stderr",
     "output_type": "stream",
     "text": [
      "\r",
      "  0%|▍                                                                                                                                                         | 281/100000 [5:55:25<1755:43:46, 63.38s/it]"
     ]
    },
    {
     "name": "stdout",
     "output_type": "stream",
     "text": [
      "tensor(164.7117, grad_fn=<SumBackward0>)\n"
     ]
    },
    {
     "name": "stderr",
     "output_type": "stream",
     "text": [
      "\r",
      "  0%|▍                                                                                                                                                         | 282/100000 [5:56:29<1759:28:16, 63.52s/it]"
     ]
    },
    {
     "name": "stdout",
     "output_type": "stream",
     "text": [
      "tensor(164.7117, grad_fn=<SumBackward0>)\n"
     ]
    },
    {
     "name": "stderr",
     "output_type": "stream",
     "text": [
      "\r",
      "  0%|▍                                                                                                                                                         | 283/100000 [5:57:35<1781:52:38, 64.33s/it]"
     ]
    },
    {
     "name": "stdout",
     "output_type": "stream",
     "text": [
      "tensor(164.7117, grad_fn=<SumBackward0>)\n"
     ]
    },
    {
     "name": "stderr",
     "output_type": "stream",
     "text": [
      "\r",
      "  0%|▍                                                                                                                                                         | 284/100000 [5:58:32<1721:24:04, 62.15s/it]"
     ]
    },
    {
     "name": "stdout",
     "output_type": "stream",
     "text": [
      "tensor(164.7117, grad_fn=<SumBackward0>)\n"
     ]
    },
    {
     "name": "stderr",
     "output_type": "stream",
     "text": [
      "\r",
      "  0%|▍                                                                                                                                                         | 285/100000 [5:59:32<1701:15:26, 61.42s/it]"
     ]
    },
    {
     "name": "stdout",
     "output_type": "stream",
     "text": [
      "tensor(164.7117, grad_fn=<SumBackward0>)\n"
     ]
    },
    {
     "name": "stderr",
     "output_type": "stream",
     "text": [
      "\r",
      "  0%|▍                                                                                                                                                         | 286/100000 [6:00:44<1793:02:04, 64.73s/it]"
     ]
    },
    {
     "name": "stdout",
     "output_type": "stream",
     "text": [
      "tensor(164.7117, grad_fn=<SumBackward0>)\n"
     ]
    },
    {
     "name": "stderr",
     "output_type": "stream",
     "text": [
      "\r",
      "  0%|▍                                                                                                                                                         | 287/100000 [6:01:48<1783:54:22, 64.41s/it]"
     ]
    },
    {
     "name": "stdout",
     "output_type": "stream",
     "text": [
      "tensor(164.7117, grad_fn=<SumBackward0>)\n"
     ]
    },
    {
     "name": "stderr",
     "output_type": "stream",
     "text": [
      "\r",
      "  0%|▍                                                                                                                                                         | 288/100000 [6:02:56<1809:34:25, 65.33s/it]"
     ]
    },
    {
     "name": "stdout",
     "output_type": "stream",
     "text": [
      "tensor(164.7117, grad_fn=<SumBackward0>)\n"
     ]
    },
    {
     "name": "stderr",
     "output_type": "stream",
     "text": [
      "\r",
      "  0%|▍                                                                                                                                                         | 289/100000 [6:03:58<1781:20:26, 64.31s/it]"
     ]
    },
    {
     "name": "stdout",
     "output_type": "stream",
     "text": [
      "tensor(164.7117, grad_fn=<SumBackward0>)\n"
     ]
    },
    {
     "name": "stderr",
     "output_type": "stream",
     "text": [
      "\r",
      "  0%|▍                                                                                                                                                         | 290/100000 [6:05:02<1782:41:54, 64.36s/it]"
     ]
    },
    {
     "name": "stdout",
     "output_type": "stream",
     "text": [
      "tensor(164.7117, grad_fn=<SumBackward0>)\n"
     ]
    },
    {
     "name": "stderr",
     "output_type": "stream",
     "text": [
      "\r",
      "  0%|▍                                                                                                                                                         | 291/100000 [6:06:13<1837:50:47, 66.36s/it]"
     ]
    },
    {
     "name": "stdout",
     "output_type": "stream",
     "text": [
      "tensor(164.7117, grad_fn=<SumBackward0>)\n"
     ]
    },
    {
     "name": "stderr",
     "output_type": "stream",
     "text": [
      "\r",
      "  0%|▍                                                                                                                                                         | 292/100000 [6:07:13<1787:25:47, 64.54s/it]"
     ]
    },
    {
     "name": "stdout",
     "output_type": "stream",
     "text": [
      "tensor(164.7117, grad_fn=<SumBackward0>)\n"
     ]
    },
    {
     "name": "stderr",
     "output_type": "stream",
     "text": [
      "\r",
      "  0%|▍                                                                                                                                                         | 293/100000 [6:08:20<1802:35:51, 65.08s/it]"
     ]
    },
    {
     "name": "stdout",
     "output_type": "stream",
     "text": [
      "tensor(164.7117, grad_fn=<SumBackward0>)\n"
     ]
    },
    {
     "name": "stderr",
     "output_type": "stream",
     "text": [
      "\r",
      "  0%|▍                                                                                                                                                         | 294/100000 [6:09:20<1765:54:13, 63.76s/it]"
     ]
    },
    {
     "name": "stdout",
     "output_type": "stream",
     "text": [
      "tensor(164.7117, grad_fn=<SumBackward0>)\n"
     ]
    },
    {
     "name": "stderr",
     "output_type": "stream",
     "text": [
      "\r",
      "  0%|▍                                                                                                                                                         | 295/100000 [6:10:23<1753:47:36, 63.32s/it]"
     ]
    },
    {
     "name": "stdout",
     "output_type": "stream",
     "text": [
      "tensor(164.7117, grad_fn=<SumBackward0>)\n"
     ]
    },
    {
     "name": "stderr",
     "output_type": "stream",
     "text": [
      "\r",
      "  0%|▍                                                                                                                                                         | 296/100000 [6:11:31<1794:48:49, 64.81s/it]"
     ]
    },
    {
     "name": "stdout",
     "output_type": "stream",
     "text": [
      "tensor(164.7117, grad_fn=<SumBackward0>)\n"
     ]
    },
    {
     "name": "stderr",
     "output_type": "stream",
     "text": [
      "\r",
      "  0%|▍                                                                                                                                                         | 297/100000 [6:12:20<1663:14:58, 60.06s/it]"
     ]
    },
    {
     "name": "stdout",
     "output_type": "stream",
     "text": [
      "tensor(164.7117, grad_fn=<SumBackward0>)\n"
     ]
    },
    {
     "name": "stderr",
     "output_type": "stream",
     "text": [
      "\r",
      "  0%|▍                                                                                                                                                         | 298/100000 [6:13:20<1659:57:03, 59.94s/it]"
     ]
    },
    {
     "name": "stdout",
     "output_type": "stream",
     "text": [
      "tensor(164.7117, grad_fn=<SumBackward0>)\n"
     ]
    },
    {
     "name": "stderr",
     "output_type": "stream",
     "text": [
      "\r",
      "  0%|▍                                                                                                                                                         | 299/100000 [6:14:22<1677:39:55, 60.58s/it]"
     ]
    },
    {
     "name": "stdout",
     "output_type": "stream",
     "text": [
      "tensor(164.7117, grad_fn=<SumBackward0>)\n"
     ]
    },
    {
     "name": "stderr",
     "output_type": "stream",
     "text": [
      "\r",
      "  0%|▍                                                                                                                                                         | 300/100000 [6:15:24<1689:19:29, 61.00s/it]"
     ]
    },
    {
     "name": "stdout",
     "output_type": "stream",
     "text": [
      "tensor(164.7117, grad_fn=<SumBackward0>)\n"
     ]
    },
    {
     "name": "stderr",
     "output_type": "stream",
     "text": [
      "\r",
      "  0%|▍                                                                                                                                                         | 301/100000 [6:16:39<1806:34:04, 65.23s/it]"
     ]
    },
    {
     "name": "stdout",
     "output_type": "stream",
     "text": [
      "tensor(164.7117, grad_fn=<SumBackward0>)\n"
     ]
    },
    {
     "name": "stderr",
     "output_type": "stream",
     "text": [
      "\r",
      "  0%|▍                                                                                                                                                         | 302/100000 [6:17:42<1787:46:51, 64.56s/it]"
     ]
    },
    {
     "name": "stdout",
     "output_type": "stream",
     "text": [
      "tensor(164.7117, grad_fn=<SumBackward0>)\n"
     ]
    },
    {
     "name": "stderr",
     "output_type": "stream",
     "text": [
      "\r",
      "  0%|▍                                                                                                                                                         | 303/100000 [6:18:50<1821:43:43, 65.78s/it]"
     ]
    },
    {
     "name": "stdout",
     "output_type": "stream",
     "text": [
      "tensor(164.7117, grad_fn=<SumBackward0>)\n"
     ]
    },
    {
     "name": "stderr",
     "output_type": "stream",
     "text": [
      "\r",
      "  0%|▍                                                                                                                                                         | 304/100000 [6:19:56<1819:14:25, 65.69s/it]"
     ]
    },
    {
     "name": "stdout",
     "output_type": "stream",
     "text": [
      "tensor(164.7117, grad_fn=<SumBackward0>)\n"
     ]
    },
    {
     "name": "stderr",
     "output_type": "stream",
     "text": [
      "\r",
      "  0%|▍                                                                                                                                                         | 305/100000 [6:20:57<1781:57:19, 64.35s/it]"
     ]
    },
    {
     "name": "stdout",
     "output_type": "stream",
     "text": [
      "tensor(164.7117, grad_fn=<SumBackward0>)\n"
     ]
    },
    {
     "name": "stderr",
     "output_type": "stream",
     "text": [
      "\r",
      "  0%|▍                                                                                                                                                         | 306/100000 [6:21:59<1764:51:58, 63.73s/it]"
     ]
    },
    {
     "name": "stdout",
     "output_type": "stream",
     "text": [
      "tensor(164.7117, grad_fn=<SumBackward0>)\n"
     ]
    },
    {
     "name": "stderr",
     "output_type": "stream",
     "text": [
      "\r",
      "  0%|▍                                                                                                                                                         | 307/100000 [6:23:06<1791:51:29, 64.71s/it]"
     ]
    },
    {
     "name": "stdout",
     "output_type": "stream",
     "text": [
      "tensor(164.7117, grad_fn=<SumBackward0>)\n"
     ]
    },
    {
     "name": "stderr",
     "output_type": "stream",
     "text": [
      "\r",
      "  0%|▍                                                                                                                                                         | 308/100000 [6:24:09<1779:22:25, 64.26s/it]"
     ]
    },
    {
     "name": "stdout",
     "output_type": "stream",
     "text": [
      "tensor(164.7117, grad_fn=<SumBackward0>)\n"
     ]
    },
    {
     "name": "stderr",
     "output_type": "stream",
     "text": [
      "\r",
      "  0%|▍                                                                                                                                                         | 309/100000 [6:25:24<1861:42:21, 67.23s/it]"
     ]
    },
    {
     "name": "stdout",
     "output_type": "stream",
     "text": [
      "tensor(164.7117, grad_fn=<SumBackward0>)\n"
     ]
    },
    {
     "name": "stderr",
     "output_type": "stream",
     "text": [
      "\r",
      "  0%|▍                                                                                                                                                         | 310/100000 [6:26:25<1812:22:16, 65.45s/it]"
     ]
    },
    {
     "name": "stdout",
     "output_type": "stream",
     "text": [
      "tensor(164.7117, grad_fn=<SumBackward0>)\n"
     ]
    },
    {
     "name": "stderr",
     "output_type": "stream",
     "text": [
      "\r",
      "  0%|▍                                                                                                                                                         | 311/100000 [6:27:28<1790:40:18, 64.67s/it]"
     ]
    },
    {
     "name": "stdout",
     "output_type": "stream",
     "text": [
      "tensor(164.7117, grad_fn=<SumBackward0>)\n"
     ]
    },
    {
     "name": "stderr",
     "output_type": "stream",
     "text": [
      "\r",
      "  0%|▍                                                                                                                                                         | 312/100000 [6:28:35<1808:55:22, 65.33s/it]"
     ]
    },
    {
     "name": "stdout",
     "output_type": "stream",
     "text": [
      "tensor(164.7117, grad_fn=<SumBackward0>)\n"
     ]
    },
    {
     "name": "stderr",
     "output_type": "stream",
     "text": [
      "\r",
      "  0%|▍                                                                                                                                                         | 313/100000 [6:29:37<1780:48:38, 64.31s/it]"
     ]
    },
    {
     "name": "stdout",
     "output_type": "stream",
     "text": [
      "tensor(164.7117, grad_fn=<SumBackward0>)\n"
     ]
    },
    {
     "name": "stderr",
     "output_type": "stream",
     "text": [
      "\r",
      "  0%|▍                                                                                                                                                         | 314/100000 [6:30:38<1752:56:30, 63.30s/it]"
     ]
    },
    {
     "name": "stdout",
     "output_type": "stream",
     "text": [
      "tensor(164.7117, grad_fn=<SumBackward0>)\n"
     ]
    },
    {
     "name": "stderr",
     "output_type": "stream",
     "text": [
      "\r",
      "  0%|▍                                                                                                                                                         | 315/100000 [6:31:45<1783:50:15, 64.42s/it]"
     ]
    },
    {
     "name": "stdout",
     "output_type": "stream",
     "text": [
      "tensor(164.7117, grad_fn=<SumBackward0>)\n"
     ]
    },
    {
     "name": "stderr",
     "output_type": "stream",
     "text": [
      "\r",
      "  0%|▍                                                                                                                                                         | 316/100000 [6:32:43<1734:39:46, 62.65s/it]"
     ]
    },
    {
     "name": "stdout",
     "output_type": "stream",
     "text": [
      "tensor(164.7117, grad_fn=<SumBackward0>)\n"
     ]
    },
    {
     "name": "stderr",
     "output_type": "stream",
     "text": [
      "\r",
      "  0%|▍                                                                                                                                                         | 317/100000 [6:33:48<1752:14:01, 63.28s/it]"
     ]
    },
    {
     "name": "stdout",
     "output_type": "stream",
     "text": [
      "tensor(164.7117, grad_fn=<SumBackward0>)\n"
     ]
    },
    {
     "name": "stderr",
     "output_type": "stream",
     "text": [
      "\r",
      "  0%|▍                                                                                                                                                         | 318/100000 [6:34:50<1746:38:00, 63.08s/it]"
     ]
    },
    {
     "name": "stdout",
     "output_type": "stream",
     "text": [
      "tensor(164.7117, grad_fn=<SumBackward0>)\n"
     ]
    },
    {
     "name": "stderr",
     "output_type": "stream",
     "text": [
      "\r",
      "  0%|▍                                                                                                                                                         | 319/100000 [6:36:00<1803:45:19, 65.14s/it]"
     ]
    },
    {
     "name": "stdout",
     "output_type": "stream",
     "text": [
      "tensor(164.7117, grad_fn=<SumBackward0>)\n"
     ]
    },
    {
     "name": "stderr",
     "output_type": "stream",
     "text": [
      "\r",
      "  0%|▍                                                                                                                                                         | 320/100000 [6:37:01<1769:08:15, 63.89s/it]"
     ]
    },
    {
     "name": "stdout",
     "output_type": "stream",
     "text": [
      "tensor(164.7117, grad_fn=<SumBackward0>)\n"
     ]
    },
    {
     "name": "stderr",
     "output_type": "stream",
     "text": [
      "\r",
      "  0%|▍                                                                                                                                                         | 321/100000 [6:37:55<1683:57:26, 60.82s/it]"
     ]
    },
    {
     "name": "stdout",
     "output_type": "stream",
     "text": [
      "tensor(164.7117, grad_fn=<SumBackward0>)\n"
     ]
    },
    {
     "name": "stderr",
     "output_type": "stream",
     "text": [
      "\r",
      "  0%|▍                                                                                                                                                         | 322/100000 [6:38:53<1657:13:28, 59.85s/it]"
     ]
    },
    {
     "name": "stdout",
     "output_type": "stream",
     "text": [
      "tensor(164.7117, grad_fn=<SumBackward0>)\n"
     ]
    },
    {
     "name": "stderr",
     "output_type": "stream",
     "text": [
      "\r",
      "  0%|▍                                                                                                                                                         | 323/100000 [6:39:43<1578:09:00, 57.00s/it]"
     ]
    },
    {
     "name": "stdout",
     "output_type": "stream",
     "text": [
      "tensor(164.7117, grad_fn=<SumBackward0>)\n"
     ]
    },
    {
     "name": "stderr",
     "output_type": "stream",
     "text": [
      "\r",
      "  0%|▍                                                                                                                                                         | 324/100000 [6:40:52<1676:01:07, 60.53s/it]"
     ]
    },
    {
     "name": "stdout",
     "output_type": "stream",
     "text": [
      "tensor(164.7117, grad_fn=<SumBackward0>)\n"
     ]
    },
    {
     "name": "stderr",
     "output_type": "stream",
     "text": [
      "\r",
      "  0%|▌                                                                                                                                                         | 325/100000 [6:42:05<1780:21:58, 64.30s/it]"
     ]
    },
    {
     "name": "stdout",
     "output_type": "stream",
     "text": [
      "tensor(164.7117, grad_fn=<SumBackward0>)\n"
     ]
    },
    {
     "name": "stderr",
     "output_type": "stream",
     "text": [
      "\r",
      "  0%|▌                                                                                                                                                         | 326/100000 [6:43:12<1802:54:21, 65.12s/it]"
     ]
    },
    {
     "name": "stdout",
     "output_type": "stream",
     "text": [
      "tensor(164.7117, grad_fn=<SumBackward0>)\n"
     ]
    },
    {
     "name": "stderr",
     "output_type": "stream",
     "text": [
      "\r",
      "  0%|▌                                                                                                                                                         | 327/100000 [6:44:22<1841:42:51, 66.52s/it]"
     ]
    },
    {
     "name": "stdout",
     "output_type": "stream",
     "text": [
      "tensor(164.7117, grad_fn=<SumBackward0>)\n"
     ]
    },
    {
     "name": "stderr",
     "output_type": "stream",
     "text": [
      "\r",
      "  0%|▌                                                                                                                                                         | 328/100000 [6:45:15<1732:35:13, 62.58s/it]"
     ]
    },
    {
     "name": "stdout",
     "output_type": "stream",
     "text": [
      "tensor(164.7117, grad_fn=<SumBackward0>)\n"
     ]
    },
    {
     "name": "stderr",
     "output_type": "stream",
     "text": [
      "\r",
      "  0%|▌                                                                                                                                                         | 329/100000 [6:46:15<1712:14:04, 61.84s/it]"
     ]
    },
    {
     "name": "stdout",
     "output_type": "stream",
     "text": [
      "tensor(164.7117, grad_fn=<SumBackward0>)\n"
     ]
    },
    {
     "name": "stderr",
     "output_type": "stream",
     "text": [
      "\r",
      "  0%|▌                                                                                                                                                         | 330/100000 [6:47:09<1645:23:42, 59.43s/it]"
     ]
    },
    {
     "name": "stdout",
     "output_type": "stream",
     "text": [
      "tensor(164.7117, grad_fn=<SumBackward0>)\n"
     ]
    },
    {
     "name": "stderr",
     "output_type": "stream",
     "text": [
      "\r",
      "  0%|▌                                                                                                                                                         | 331/100000 [6:48:09<1654:05:56, 59.75s/it]"
     ]
    },
    {
     "name": "stdout",
     "output_type": "stream",
     "text": [
      "tensor(164.7117, grad_fn=<SumBackward0>)\n"
     ]
    },
    {
     "name": "stderr",
     "output_type": "stream",
     "text": [
      "\r",
      "  0%|▌                                                                                                                                                         | 332/100000 [6:49:16<1714:00:45, 61.91s/it]"
     ]
    },
    {
     "name": "stdout",
     "output_type": "stream",
     "text": [
      "tensor(164.7117, grad_fn=<SumBackward0>)\n"
     ]
    },
    {
     "name": "stderr",
     "output_type": "stream",
     "text": [
      "\r",
      "  0%|▌                                                                                                                                                         | 333/100000 [6:50:09<1638:37:09, 59.19s/it]"
     ]
    },
    {
     "name": "stdout",
     "output_type": "stream",
     "text": [
      "tensor(164.7117, grad_fn=<SumBackward0>)\n"
     ]
    },
    {
     "name": "stderr",
     "output_type": "stream",
     "text": [
      "\r",
      "  0%|▌                                                                                                                                                         | 334/100000 [6:50:59<1556:21:26, 56.22s/it]"
     ]
    },
    {
     "name": "stdout",
     "output_type": "stream",
     "text": [
      "tensor(164.7117, grad_fn=<SumBackward0>)\n"
     ]
    },
    {
     "name": "stderr",
     "output_type": "stream",
     "text": [
      "\r",
      "  0%|▌                                                                                                                                                         | 335/100000 [6:52:14<1712:27:42, 61.86s/it]"
     ]
    },
    {
     "name": "stdout",
     "output_type": "stream",
     "text": [
      "tensor(164.7117, grad_fn=<SumBackward0>)\n"
     ]
    },
    {
     "name": "stderr",
     "output_type": "stream",
     "text": [
      "\r",
      "  0%|▌                                                                                                                                                         | 336/100000 [6:53:13<1690:52:25, 61.08s/it]"
     ]
    },
    {
     "name": "stdout",
     "output_type": "stream",
     "text": [
      "tensor(164.7117, grad_fn=<SumBackward0>)\n"
     ]
    },
    {
     "name": "stderr",
     "output_type": "stream",
     "text": [
      "\r",
      "  0%|▌                                                                                                                                                         | 337/100000 [6:54:18<1721:27:52, 62.18s/it]"
     ]
    },
    {
     "name": "stdout",
     "output_type": "stream",
     "text": [
      "tensor(164.7117, grad_fn=<SumBackward0>)\n"
     ]
    },
    {
     "name": "stderr",
     "output_type": "stream",
     "text": [
      "\r",
      "  0%|▌                                                                                                                                                         | 338/100000 [6:55:12<1657:47:54, 59.88s/it]"
     ]
    },
    {
     "name": "stdout",
     "output_type": "stream",
     "text": [
      "tensor(164.7117, grad_fn=<SumBackward0>)\n"
     ]
    },
    {
     "name": "stderr",
     "output_type": "stream",
     "text": [
      "\r",
      "  0%|▌                                                                                                                                                         | 339/100000 [6:56:05<1600:17:48, 57.81s/it]"
     ]
    },
    {
     "name": "stdout",
     "output_type": "stream",
     "text": [
      "tensor(164.7117, grad_fn=<SumBackward0>)\n"
     ]
    },
    {
     "name": "stderr",
     "output_type": "stream",
     "text": [
      "\r",
      "  0%|▌                                                                                                                                                         | 340/100000 [6:57:09<1647:58:46, 59.53s/it]"
     ]
    },
    {
     "name": "stdout",
     "output_type": "stream",
     "text": [
      "tensor(164.7117, grad_fn=<SumBackward0>)\n"
     ]
    },
    {
     "name": "stderr",
     "output_type": "stream",
     "text": [
      "\r",
      "  0%|▌                                                                                                                                                         | 341/100000 [6:58:07<1642:01:31, 59.32s/it]"
     ]
    },
    {
     "name": "stdout",
     "output_type": "stream",
     "text": [
      "tensor(164.7117, grad_fn=<SumBackward0>)\n"
     ]
    },
    {
     "name": "stderr",
     "output_type": "stream",
     "text": [
      "\r",
      "  0%|▌                                                                                                                                                         | 342/100000 [6:58:55<1546:15:11, 55.86s/it]"
     ]
    },
    {
     "name": "stdout",
     "output_type": "stream",
     "text": [
      "tensor(164.7117, grad_fn=<SumBackward0>)\n"
     ]
    },
    {
     "name": "stderr",
     "output_type": "stream",
     "text": [
      "\r",
      "  0%|▌                                                                                                                                                         | 343/100000 [7:00:03<1641:17:05, 59.29s/it]"
     ]
    },
    {
     "name": "stdout",
     "output_type": "stream",
     "text": [
      "tensor(164.7117, grad_fn=<SumBackward0>)\n"
     ]
    },
    {
     "name": "stderr",
     "output_type": "stream",
     "text": [
      "\r",
      "  0%|▌                                                                                                                                                         | 344/100000 [7:01:05<1664:43:34, 60.14s/it]"
     ]
    },
    {
     "name": "stdout",
     "output_type": "stream",
     "text": [
      "tensor(164.7117, grad_fn=<SumBackward0>)\n"
     ]
    },
    {
     "name": "stderr",
     "output_type": "stream",
     "text": [
      "\r",
      "  0%|▌                                                                                                                                                         | 345/100000 [7:02:15<1752:25:04, 63.31s/it]"
     ]
    },
    {
     "name": "stdout",
     "output_type": "stream",
     "text": [
      "tensor(164.7117, grad_fn=<SumBackward0>)\n"
     ]
    },
    {
     "name": "stderr",
     "output_type": "stream",
     "text": [
      "\r",
      "  0%|▌                                                                                                                                                         | 346/100000 [7:03:23<1787:06:36, 64.56s/it]"
     ]
    },
    {
     "name": "stdout",
     "output_type": "stream",
     "text": [
      "tensor(164.7117, grad_fn=<SumBackward0>)\n"
     ]
    },
    {
     "name": "stderr",
     "output_type": "stream",
     "text": [
      "\r",
      "  0%|▌                                                                                                                                                         | 347/100000 [7:04:25<1764:48:33, 63.75s/it]"
     ]
    },
    {
     "name": "stdout",
     "output_type": "stream",
     "text": [
      "tensor(164.7117, grad_fn=<SumBackward0>)\n"
     ]
    },
    {
     "name": "stderr",
     "output_type": "stream",
     "text": [
      "\r",
      "  0%|▌                                                                                                                                                         | 348/100000 [7:05:38<1845:36:35, 66.67s/it]"
     ]
    },
    {
     "name": "stdout",
     "output_type": "stream",
     "text": [
      "tensor(164.7117, grad_fn=<SumBackward0>)\n"
     ]
    },
    {
     "name": "stderr",
     "output_type": "stream",
     "text": [
      "\r",
      "  0%|▌                                                                                                                                                         | 349/100000 [7:06:26<1690:46:21, 61.08s/it]"
     ]
    },
    {
     "name": "stdout",
     "output_type": "stream",
     "text": [
      "tensor(164.7117, grad_fn=<SumBackward0>)\n"
     ]
    },
    {
     "name": "stderr",
     "output_type": "stream",
     "text": [
      "\r",
      "  0%|▌                                                                                                                                                         | 350/100000 [7:07:13<1574:00:50, 56.86s/it]"
     ]
    },
    {
     "name": "stdout",
     "output_type": "stream",
     "text": [
      "tensor(164.7117, grad_fn=<SumBackward0>)\n"
     ]
    },
    {
     "name": "stderr",
     "output_type": "stream",
     "text": [
      "\r",
      "  0%|▌                                                                                                                                                         | 351/100000 [7:08:16<1622:53:30, 58.63s/it]"
     ]
    },
    {
     "name": "stdout",
     "output_type": "stream",
     "text": [
      "tensor(164.7117, grad_fn=<SumBackward0>)\n"
     ]
    },
    {
     "name": "stderr",
     "output_type": "stream",
     "text": [
      "\r",
      "  0%|▌                                                                                                                                                         | 352/100000 [7:09:14<1621:09:59, 58.57s/it]"
     ]
    },
    {
     "name": "stdout",
     "output_type": "stream",
     "text": [
      "tensor(164.7117, grad_fn=<SumBackward0>)\n"
     ]
    },
    {
     "name": "stderr",
     "output_type": "stream",
     "text": [
      "\r",
      "  0%|▌                                                                                                                                                         | 353/100000 [7:10:10<1593:33:54, 57.57s/it]"
     ]
    },
    {
     "name": "stdout",
     "output_type": "stream",
     "text": [
      "tensor(164.7117, grad_fn=<SumBackward0>)\n"
     ]
    },
    {
     "name": "stderr",
     "output_type": "stream",
     "text": [
      "\r",
      "  0%|▌                                                                                                                                                         | 354/100000 [7:11:13<1642:47:17, 59.35s/it]"
     ]
    },
    {
     "name": "stdout",
     "output_type": "stream",
     "text": [
      "tensor(164.7117, grad_fn=<SumBackward0>)\n"
     ]
    },
    {
     "name": "stderr",
     "output_type": "stream",
     "text": [
      "\r",
      "  0%|▌                                                                                                                                                         | 355/100000 [7:12:16<1670:54:20, 60.37s/it]"
     ]
    },
    {
     "name": "stdout",
     "output_type": "stream",
     "text": [
      "tensor(164.7117, grad_fn=<SumBackward0>)\n"
     ]
    },
    {
     "name": "stderr",
     "output_type": "stream",
     "text": [
      "\r",
      "  0%|▌                                                                                                                                                         | 356/100000 [7:13:19<1689:51:25, 61.05s/it]"
     ]
    },
    {
     "name": "stdout",
     "output_type": "stream",
     "text": [
      "tensor(164.7117, grad_fn=<SumBackward0>)\n"
     ]
    },
    {
     "name": "stderr",
     "output_type": "stream",
     "text": [
      "\r",
      "  0%|▌                                                                                                                                                         | 357/100000 [7:14:32<1792:14:22, 64.75s/it]"
     ]
    },
    {
     "name": "stdout",
     "output_type": "stream",
     "text": [
      "tensor(164.7117, grad_fn=<SumBackward0>)\n"
     ]
    },
    {
     "name": "stderr",
     "output_type": "stream",
     "text": [
      "\r",
      "  0%|▌                                                                                                                                                         | 358/100000 [7:15:41<1831:29:21, 66.17s/it]"
     ]
    },
    {
     "name": "stdout",
     "output_type": "stream",
     "text": [
      "tensor(164.7117, grad_fn=<SumBackward0>)\n"
     ]
    },
    {
     "name": "stderr",
     "output_type": "stream",
     "text": [
      "\r",
      "  0%|▌                                                                                                                                                         | 359/100000 [7:16:52<1869:02:07, 67.53s/it]"
     ]
    },
    {
     "name": "stdout",
     "output_type": "stream",
     "text": [
      "tensor(164.7117, grad_fn=<SumBackward0>)\n"
     ]
    },
    {
     "name": "stderr",
     "output_type": "stream",
     "text": [
      "\r",
      "  0%|▌                                                                                                                                                         | 360/100000 [7:18:06<1918:37:34, 69.32s/it]"
     ]
    },
    {
     "name": "stdout",
     "output_type": "stream",
     "text": [
      "tensor(164.7117, grad_fn=<SumBackward0>)\n"
     ]
    },
    {
     "name": "stderr",
     "output_type": "stream",
     "text": [
      "\r",
      "  0%|▌                                                                                                                                                         | 361/100000 [7:19:05<1835:09:57, 66.31s/it]"
     ]
    },
    {
     "name": "stdout",
     "output_type": "stream",
     "text": [
      "tensor(164.7117, grad_fn=<SumBackward0>)\n"
     ]
    },
    {
     "name": "stderr",
     "output_type": "stream",
     "text": [
      "\r",
      "  0%|▌                                                                                                                                                         | 362/100000 [7:20:07<1803:29:26, 65.16s/it]"
     ]
    },
    {
     "name": "stdout",
     "output_type": "stream",
     "text": [
      "tensor(164.7117, grad_fn=<SumBackward0>)\n"
     ]
    },
    {
     "name": "stderr",
     "output_type": "stream",
     "text": [
      "\r",
      "  0%|▌                                                                                                                                                         | 363/100000 [7:21:12<1803:08:25, 65.15s/it]"
     ]
    },
    {
     "name": "stdout",
     "output_type": "stream",
     "text": [
      "tensor(164.7117, grad_fn=<SumBackward0>)\n"
     ]
    },
    {
     "name": "stderr",
     "output_type": "stream",
     "text": [
      "\r",
      "  0%|▌                                                                                                                                                         | 364/100000 [7:22:11<1746:04:51, 63.09s/it]"
     ]
    },
    {
     "name": "stdout",
     "output_type": "stream",
     "text": [
      "tensor(164.7117, grad_fn=<SumBackward0>)\n"
     ]
    },
    {
     "name": "stderr",
     "output_type": "stream",
     "text": [
      "\r",
      "  0%|▌                                                                                                                                                         | 365/100000 [7:23:12<1729:06:29, 62.48s/it]"
     ]
    },
    {
     "name": "stdout",
     "output_type": "stream",
     "text": [
      "tensor(164.7117, grad_fn=<SumBackward0>)\n"
     ]
    },
    {
     "name": "stderr",
     "output_type": "stream",
     "text": [
      "\r",
      "  0%|▌                                                                                                                                                         | 366/100000 [7:24:11<1703:09:10, 61.54s/it]"
     ]
    },
    {
     "name": "stdout",
     "output_type": "stream",
     "text": [
      "tensor(164.7117, grad_fn=<SumBackward0>)\n"
     ]
    },
    {
     "name": "stderr",
     "output_type": "stream",
     "text": [
      "\r",
      "  0%|▌                                                                                                                                                         | 367/100000 [7:25:09<1676:05:14, 60.56s/it]"
     ]
    },
    {
     "name": "stdout",
     "output_type": "stream",
     "text": [
      "tensor(164.7117, grad_fn=<SumBackward0>)\n"
     ]
    },
    {
     "name": "stderr",
     "output_type": "stream",
     "text": [
      "\r",
      "  0%|▌                                                                                                                                                         | 368/100000 [7:26:07<1647:55:54, 59.54s/it]"
     ]
    },
    {
     "name": "stdout",
     "output_type": "stream",
     "text": [
      "tensor(164.7117, grad_fn=<SumBackward0>)\n"
     ]
    },
    {
     "name": "stderr",
     "output_type": "stream",
     "text": [
      "\r",
      "  0%|▌                                                                                                                                                         | 369/100000 [7:27:08<1662:01:14, 60.05s/it]"
     ]
    },
    {
     "name": "stdout",
     "output_type": "stream",
     "text": [
      "tensor(164.7117, grad_fn=<SumBackward0>)\n"
     ]
    },
    {
     "name": "stderr",
     "output_type": "stream",
     "text": [
      "\r",
      "  0%|▌                                                                                                                                                         | 370/100000 [7:28:18<1744:17:56, 63.03s/it]"
     ]
    },
    {
     "name": "stdout",
     "output_type": "stream",
     "text": [
      "tensor(164.7117, grad_fn=<SumBackward0>)\n"
     ]
    },
    {
     "name": "stderr",
     "output_type": "stream",
     "text": [
      "\r",
      "  0%|▌                                                                                                                                                         | 371/100000 [7:29:37<1878:44:35, 67.89s/it]"
     ]
    },
    {
     "name": "stdout",
     "output_type": "stream",
     "text": [
      "tensor(164.7117, grad_fn=<SumBackward0>)\n"
     ]
    },
    {
     "name": "stderr",
     "output_type": "stream",
     "text": [
      "\r",
      "  0%|▌                                                                                                                                                         | 372/100000 [7:30:43<1864:29:40, 67.37s/it]"
     ]
    },
    {
     "name": "stdout",
     "output_type": "stream",
     "text": [
      "tensor(164.7117, grad_fn=<SumBackward0>)\n"
     ]
    },
    {
     "name": "stderr",
     "output_type": "stream",
     "text": [
      "\r",
      "  0%|▌                                                                                                                                                         | 373/100000 [7:31:48<1843:47:04, 66.62s/it]"
     ]
    },
    {
     "name": "stdout",
     "output_type": "stream",
     "text": [
      "tensor(164.7117, grad_fn=<SumBackward0>)\n"
     ]
    },
    {
     "name": "stderr",
     "output_type": "stream",
     "text": [
      "\r",
      "  0%|▌                                                                                                                                                         | 374/100000 [7:32:48<1791:52:45, 64.75s/it]"
     ]
    },
    {
     "name": "stdout",
     "output_type": "stream",
     "text": [
      "tensor(164.7117, grad_fn=<SumBackward0>)\n"
     ]
    },
    {
     "name": "stderr",
     "output_type": "stream",
     "text": [
      "\r",
      "  0%|▌                                                                                                                                                         | 375/100000 [7:33:50<1768:48:47, 63.92s/it]"
     ]
    },
    {
     "name": "stdout",
     "output_type": "stream",
     "text": [
      "tensor(164.7117, grad_fn=<SumBackward0>)\n"
     ]
    },
    {
     "name": "stderr",
     "output_type": "stream",
     "text": [
      "\r",
      "  0%|▌                                                                                                                                                         | 376/100000 [7:34:51<1743:51:45, 63.02s/it]"
     ]
    },
    {
     "name": "stdout",
     "output_type": "stream",
     "text": [
      "tensor(164.7117, grad_fn=<SumBackward0>)\n"
     ]
    },
    {
     "name": "stderr",
     "output_type": "stream",
     "text": [
      "\r",
      "  0%|▌                                                                                                                                                         | 377/100000 [7:35:50<1704:58:46, 61.61s/it]"
     ]
    },
    {
     "name": "stdout",
     "output_type": "stream",
     "text": [
      "tensor(164.7117, grad_fn=<SumBackward0>)\n"
     ]
    },
    {
     "name": "stderr",
     "output_type": "stream",
     "text": [
      "\r",
      "  0%|▌                                                                                                                                                         | 378/100000 [7:36:54<1730:30:41, 62.53s/it]"
     ]
    },
    {
     "name": "stdout",
     "output_type": "stream",
     "text": [
      "tensor(164.7117, grad_fn=<SumBackward0>)\n"
     ]
    },
    {
     "name": "stderr",
     "output_type": "stream",
     "text": [
      "\r",
      "  0%|▌                                                                                                                                                         | 379/100000 [7:37:56<1718:57:34, 62.12s/it]"
     ]
    },
    {
     "name": "stdout",
     "output_type": "stream",
     "text": [
      "tensor(164.7117, grad_fn=<SumBackward0>)\n"
     ]
    },
    {
     "name": "stderr",
     "output_type": "stream",
     "text": [
      "\r",
      "  0%|▌                                                                                                                                                         | 380/100000 [7:38:48<1642:38:18, 59.36s/it]"
     ]
    },
    {
     "name": "stdout",
     "output_type": "stream",
     "text": [
      "tensor(164.7117, grad_fn=<SumBackward0>)\n"
     ]
    },
    {
     "name": "stderr",
     "output_type": "stream",
     "text": [
      "\r",
      "  0%|▌                                                                                                                                                         | 381/100000 [7:39:51<1672:13:35, 60.43s/it]"
     ]
    },
    {
     "name": "stdout",
     "output_type": "stream",
     "text": [
      "tensor(164.7117, grad_fn=<SumBackward0>)\n"
     ]
    },
    {
     "name": "stderr",
     "output_type": "stream",
     "text": [
      "\r",
      "  0%|▌                                                                                                                                                         | 382/100000 [7:40:53<1683:47:05, 60.85s/it]"
     ]
    },
    {
     "name": "stdout",
     "output_type": "stream",
     "text": [
      "tensor(164.7117, grad_fn=<SumBackward0>)\n"
     ]
    },
    {
     "name": "stderr",
     "output_type": "stream",
     "text": [
      "\r",
      "  0%|▌                                                                                                                                                         | 383/100000 [7:42:03<1760:27:48, 63.62s/it]"
     ]
    },
    {
     "name": "stdout",
     "output_type": "stream",
     "text": [
      "tensor(164.7117, grad_fn=<SumBackward0>)\n"
     ]
    },
    {
     "name": "stderr",
     "output_type": "stream",
     "text": [
      "\r",
      "  0%|▌                                                                                                                                                         | 384/100000 [7:43:02<1719:10:26, 62.13s/it]"
     ]
    },
    {
     "name": "stdout",
     "output_type": "stream",
     "text": [
      "tensor(164.7117, grad_fn=<SumBackward0>)\n"
     ]
    },
    {
     "name": "stderr",
     "output_type": "stream",
     "text": [
      "\r",
      "  0%|▌                                                                                                                                                         | 385/100000 [7:44:08<1752:22:57, 63.33s/it]"
     ]
    },
    {
     "name": "stdout",
     "output_type": "stream",
     "text": [
      "tensor(164.7117, grad_fn=<SumBackward0>)\n"
     ]
    },
    {
     "name": "stderr",
     "output_type": "stream",
     "text": [
      "\r",
      "  0%|▌                                                                                                                                                         | 386/100000 [7:45:07<1715:40:20, 62.00s/it]"
     ]
    },
    {
     "name": "stdout",
     "output_type": "stream",
     "text": [
      "tensor(164.7117, grad_fn=<SumBackward0>)\n"
     ]
    },
    {
     "name": "stderr",
     "output_type": "stream",
     "text": [
      "\r",
      "  0%|▌                                                                                                                                                         | 387/100000 [7:46:00<1641:53:38, 59.34s/it]"
     ]
    },
    {
     "name": "stdout",
     "output_type": "stream",
     "text": [
      "tensor(164.7117, grad_fn=<SumBackward0>)\n"
     ]
    },
    {
     "name": "stderr",
     "output_type": "stream",
     "text": [
      "\r",
      "  0%|▌                                                                                                                                                         | 388/100000 [7:46:59<1640:11:58, 59.28s/it]"
     ]
    },
    {
     "name": "stdout",
     "output_type": "stream",
     "text": [
      "tensor(164.7117, grad_fn=<SumBackward0>)\n"
     ]
    },
    {
     "name": "stderr",
     "output_type": "stream",
     "text": [
      "\r",
      "  0%|▌                                                                                                                                                         | 389/100000 [7:47:51<1580:18:20, 57.11s/it]"
     ]
    },
    {
     "name": "stdout",
     "output_type": "stream",
     "text": [
      "tensor(164.7117, grad_fn=<SumBackward0>)\n"
     ]
    },
    {
     "name": "stderr",
     "output_type": "stream",
     "text": [
      "\r",
      "  0%|▌                                                                                                                                                         | 390/100000 [7:48:52<1612:53:53, 58.29s/it]"
     ]
    },
    {
     "name": "stdout",
     "output_type": "stream",
     "text": [
      "tensor(164.7117, grad_fn=<SumBackward0>)\n"
     ]
    },
    {
     "name": "stderr",
     "output_type": "stream",
     "text": [
      "\r",
      "  0%|▌                                                                                                                                                         | 391/100000 [7:49:47<1585:06:27, 57.29s/it]"
     ]
    },
    {
     "name": "stdout",
     "output_type": "stream",
     "text": [
      "tensor(164.7117, grad_fn=<SumBackward0>)\n"
     ]
    },
    {
     "name": "stderr",
     "output_type": "stream",
     "text": [
      "\r",
      "  0%|▌                                                                                                                                                         | 392/100000 [7:50:57<1684:46:29, 60.89s/it]"
     ]
    },
    {
     "name": "stdout",
     "output_type": "stream",
     "text": [
      "tensor(164.7117, grad_fn=<SumBackward0>)\n"
     ]
    },
    {
     "name": "stderr",
     "output_type": "stream",
     "text": [
      "\r",
      "  0%|▌                                                                                                                                                         | 393/100000 [7:51:50<1621:39:43, 58.61s/it]"
     ]
    },
    {
     "name": "stdout",
     "output_type": "stream",
     "text": [
      "tensor(164.7117, grad_fn=<SumBackward0>)\n"
     ]
    },
    {
     "name": "stderr",
     "output_type": "stream",
     "text": [
      "\r",
      "  0%|▌                                                                                                                                                         | 394/100000 [7:52:57<1692:21:45, 61.17s/it]"
     ]
    },
    {
     "name": "stdout",
     "output_type": "stream",
     "text": [
      "tensor(164.7117, grad_fn=<SumBackward0>)\n"
     ]
    },
    {
     "name": "stderr",
     "output_type": "stream",
     "text": [
      "\r",
      "  0%|▌                                                                                                                                                         | 395/100000 [7:54:07<1767:26:39, 63.88s/it]"
     ]
    },
    {
     "name": "stdout",
     "output_type": "stream",
     "text": [
      "tensor(164.7117, grad_fn=<SumBackward0>)\n"
     ]
    },
    {
     "name": "stderr",
     "output_type": "stream",
     "text": [
      "\r",
      "  0%|▌                                                                                                                                                         | 396/100000 [7:55:11<1765:16:30, 63.80s/it]"
     ]
    },
    {
     "name": "stdout",
     "output_type": "stream",
     "text": [
      "tensor(164.7117, grad_fn=<SumBackward0>)\n"
     ]
    },
    {
     "name": "stderr",
     "output_type": "stream",
     "text": [
      "\r",
      "  0%|▌                                                                                                                                                         | 397/100000 [7:56:04<1673:10:45, 60.47s/it]"
     ]
    },
    {
     "name": "stdout",
     "output_type": "stream",
     "text": [
      "tensor(164.7117, grad_fn=<SumBackward0>)\n"
     ]
    },
    {
     "name": "stderr",
     "output_type": "stream",
     "text": [
      "\r",
      "  0%|▌                                                                                                                                                         | 398/100000 [7:57:14<1756:09:09, 63.47s/it]"
     ]
    },
    {
     "name": "stdout",
     "output_type": "stream",
     "text": [
      "tensor(164.7117, grad_fn=<SumBackward0>)\n"
     ]
    },
    {
     "name": "stderr",
     "output_type": "stream",
     "text": [
      "\r",
      "  0%|▌                                                                                                                                                         | 399/100000 [7:58:13<1715:27:57, 62.00s/it]"
     ]
    },
    {
     "name": "stdout",
     "output_type": "stream",
     "text": [
      "tensor(164.7117, grad_fn=<SumBackward0>)\n"
     ]
    },
    {
     "name": "stderr",
     "output_type": "stream",
     "text": [
      "\r",
      "  0%|▌                                                                                                                                                         | 400/100000 [7:59:17<1739:19:50, 62.87s/it]"
     ]
    },
    {
     "name": "stdout",
     "output_type": "stream",
     "text": [
      "tensor(164.7117, grad_fn=<SumBackward0>)\n"
     ]
    },
    {
     "name": "stderr",
     "output_type": "stream",
     "text": [
      "\r",
      "  0%|▌                                                                                                                                                         | 401/100000 [8:00:11<1661:07:51, 60.04s/it]"
     ]
    },
    {
     "name": "stdout",
     "output_type": "stream",
     "text": [
      "tensor(164.7117, grad_fn=<SumBackward0>)\n"
     ]
    },
    {
     "name": "stderr",
     "output_type": "stream",
     "text": [
      "\r",
      "  0%|▌                                                                                                                                                         | 402/100000 [8:01:14<1686:50:03, 60.97s/it]"
     ]
    },
    {
     "name": "stdout",
     "output_type": "stream",
     "text": [
      "tensor(164.7117, grad_fn=<SumBackward0>)\n"
     ]
    },
    {
     "name": "stderr",
     "output_type": "stream",
     "text": [
      "\r",
      "  0%|▌                                                                                                                                                         | 403/100000 [8:02:28<1796:01:12, 64.92s/it]"
     ]
    },
    {
     "name": "stdout",
     "output_type": "stream",
     "text": [
      "tensor(164.7117, grad_fn=<SumBackward0>)\n"
     ]
    },
    {
     "name": "stderr",
     "output_type": "stream",
     "text": [
      "\r",
      "  0%|▌                                                                                                                                                         | 404/100000 [8:03:30<1768:50:17, 63.94s/it]"
     ]
    },
    {
     "name": "stdout",
     "output_type": "stream",
     "text": [
      "tensor(164.7117, grad_fn=<SumBackward0>)\n"
     ]
    },
    {
     "name": "stderr",
     "output_type": "stream",
     "text": [
      "\r",
      "  0%|▌                                                                                                                                                         | 405/100000 [8:04:33<1763:31:55, 63.75s/it]"
     ]
    },
    {
     "name": "stdout",
     "output_type": "stream",
     "text": [
      "tensor(164.7117, grad_fn=<SumBackward0>)\n"
     ]
    },
    {
     "name": "stderr",
     "output_type": "stream",
     "text": [
      "\r",
      "  0%|▋                                                                                                                                                         | 406/100000 [8:05:34<1739:12:37, 62.87s/it]"
     ]
    },
    {
     "name": "stdout",
     "output_type": "stream",
     "text": [
      "tensor(164.7117, grad_fn=<SumBackward0>)\n"
     ]
    },
    {
     "name": "stderr",
     "output_type": "stream",
     "text": [
      "\r",
      "  0%|▋                                                                                                                                                         | 407/100000 [8:06:36<1736:28:48, 62.77s/it]"
     ]
    },
    {
     "name": "stdout",
     "output_type": "stream",
     "text": [
      "tensor(164.7117, grad_fn=<SumBackward0>)\n"
     ]
    },
    {
     "name": "stderr",
     "output_type": "stream",
     "text": [
      "\r",
      "  0%|▋                                                                                                                                                         | 408/100000 [8:07:47<1802:29:55, 65.16s/it]"
     ]
    },
    {
     "name": "stdout",
     "output_type": "stream",
     "text": [
      "tensor(164.7117, grad_fn=<SumBackward0>)\n"
     ]
    },
    {
     "name": "stderr",
     "output_type": "stream",
     "text": [
      "\r",
      "  0%|▋                                                                                                                                                         | 409/100000 [8:08:43<1725:06:34, 62.36s/it]"
     ]
    },
    {
     "name": "stdout",
     "output_type": "stream",
     "text": [
      "tensor(164.7117, grad_fn=<SumBackward0>)\n"
     ]
    },
    {
     "name": "stderr",
     "output_type": "stream",
     "text": [
      "\r",
      "  0%|▋                                                                                                                                                         | 410/100000 [8:09:58<1832:49:18, 66.25s/it]"
     ]
    },
    {
     "name": "stdout",
     "output_type": "stream",
     "text": [
      "tensor(164.7117, grad_fn=<SumBackward0>)\n"
     ]
    },
    {
     "name": "stderr",
     "output_type": "stream",
     "text": [
      "\r",
      "  0%|▋                                                                                                                                                         | 411/100000 [8:11:04<1827:58:49, 66.08s/it]"
     ]
    },
    {
     "name": "stdout",
     "output_type": "stream",
     "text": [
      "tensor(164.7117, grad_fn=<SumBackward0>)\n"
     ]
    },
    {
     "name": "stderr",
     "output_type": "stream",
     "text": [
      "\r",
      "  0%|▋                                                                                                                                                         | 412/100000 [8:12:12<1841:48:33, 66.58s/it]"
     ]
    },
    {
     "name": "stdout",
     "output_type": "stream",
     "text": [
      "tensor(164.7117, grad_fn=<SumBackward0>)\n"
     ]
    },
    {
     "name": "stderr",
     "output_type": "stream",
     "text": [
      "\r",
      "  0%|▋                                                                                                                                                         | 413/100000 [8:13:18<1840:10:42, 66.52s/it]"
     ]
    },
    {
     "name": "stdout",
     "output_type": "stream",
     "text": [
      "tensor(164.7117, grad_fn=<SumBackward0>)\n"
     ]
    },
    {
     "name": "stderr",
     "output_type": "stream",
     "text": [
      "\r",
      "  0%|▋                                                                                                                                                         | 414/100000 [8:14:13<1741:40:31, 62.96s/it]"
     ]
    },
    {
     "name": "stdout",
     "output_type": "stream",
     "text": [
      "tensor(164.7117, grad_fn=<SumBackward0>)\n"
     ]
    },
    {
     "name": "stderr",
     "output_type": "stream",
     "text": [
      "\r",
      "  0%|▋                                                                                                                                                         | 415/100000 [8:15:04<1644:14:01, 59.44s/it]"
     ]
    },
    {
     "name": "stdout",
     "output_type": "stream",
     "text": [
      "tensor(164.7117, grad_fn=<SumBackward0>)\n"
     ]
    },
    {
     "name": "stderr",
     "output_type": "stream",
     "text": [
      "\r",
      "  0%|▋                                                                                                                                                         | 416/100000 [8:16:16<1749:13:00, 63.23s/it]"
     ]
    },
    {
     "name": "stdout",
     "output_type": "stream",
     "text": [
      "tensor(164.7117, grad_fn=<SumBackward0>)\n"
     ]
    },
    {
     "name": "stderr",
     "output_type": "stream",
     "text": [
      "\r",
      "  0%|▋                                                                                                                                                         | 417/100000 [8:17:31<1847:14:17, 66.78s/it]"
     ]
    },
    {
     "name": "stdout",
     "output_type": "stream",
     "text": [
      "tensor(164.7117, grad_fn=<SumBackward0>)\n"
     ]
    },
    {
     "name": "stderr",
     "output_type": "stream",
     "text": [
      "\r",
      "  0%|▋                                                                                                                                                         | 418/100000 [8:18:37<1841:53:14, 66.59s/it]"
     ]
    },
    {
     "name": "stdout",
     "output_type": "stream",
     "text": [
      "tensor(164.7117, grad_fn=<SumBackward0>)\n"
     ]
    },
    {
     "name": "stderr",
     "output_type": "stream",
     "text": [
      "\r",
      "  0%|▋                                                                                                                                                         | 419/100000 [8:19:28<1706:36:21, 61.70s/it]"
     ]
    },
    {
     "name": "stdout",
     "output_type": "stream",
     "text": [
      "tensor(164.7117, grad_fn=<SumBackward0>)\n"
     ]
    },
    {
     "name": "stderr",
     "output_type": "stream",
     "text": [
      "\r",
      "  0%|▋                                                                                                                                                         | 420/100000 [8:20:30<1715:41:10, 62.03s/it]"
     ]
    },
    {
     "name": "stdout",
     "output_type": "stream",
     "text": [
      "tensor(164.7117, grad_fn=<SumBackward0>)\n"
     ]
    },
    {
     "name": "stderr",
     "output_type": "stream",
     "text": [
      "\r",
      "  0%|▋                                                                                                                                                         | 421/100000 [8:21:38<1765:09:32, 63.81s/it]"
     ]
    },
    {
     "name": "stdout",
     "output_type": "stream",
     "text": [
      "tensor(164.7117, grad_fn=<SumBackward0>)\n"
     ]
    },
    {
     "name": "stderr",
     "output_type": "stream",
     "text": [
      "\r",
      "  0%|▋                                                                                                                                                         | 422/100000 [8:22:44<1778:25:45, 64.29s/it]"
     ]
    },
    {
     "name": "stdout",
     "output_type": "stream",
     "text": [
      "tensor(164.7117, grad_fn=<SumBackward0>)\n"
     ]
    },
    {
     "name": "stderr",
     "output_type": "stream",
     "text": [
      "\r",
      "  0%|▋                                                                                                                                                         | 423/100000 [8:23:47<1769:21:23, 63.97s/it]"
     ]
    },
    {
     "name": "stdout",
     "output_type": "stream",
     "text": [
      "tensor(164.7117, grad_fn=<SumBackward0>)\n"
     ]
    },
    {
     "name": "stderr",
     "output_type": "stream",
     "text": [
      "\r",
      "  0%|▋                                                                                                                                                         | 424/100000 [8:24:51<1769:28:16, 63.97s/it]"
     ]
    },
    {
     "name": "stdout",
     "output_type": "stream",
     "text": [
      "tensor(164.7117, grad_fn=<SumBackward0>)\n"
     ]
    },
    {
     "name": "stderr",
     "output_type": "stream",
     "text": [
      "\r",
      "  0%|▋                                                                                                                                                         | 425/100000 [8:25:52<1748:45:48, 63.22s/it]"
     ]
    },
    {
     "name": "stdout",
     "output_type": "stream",
     "text": [
      "tensor(164.7117, grad_fn=<SumBackward0>)\n"
     ]
    },
    {
     "name": "stderr",
     "output_type": "stream",
     "text": [
      "\r",
      "  0%|▋                                                                                                                                                         | 426/100000 [8:26:54<1733:59:38, 62.69s/it]"
     ]
    },
    {
     "name": "stdout",
     "output_type": "stream",
     "text": [
      "tensor(164.7117, grad_fn=<SumBackward0>)\n"
     ]
    },
    {
     "name": "stderr",
     "output_type": "stream",
     "text": [
      "\r",
      "  0%|▋                                                                                                                                                         | 427/100000 [8:28:00<1760:08:35, 63.64s/it]"
     ]
    },
    {
     "name": "stdout",
     "output_type": "stream",
     "text": [
      "tensor(164.7117, grad_fn=<SumBackward0>)\n"
     ]
    },
    {
     "name": "stderr",
     "output_type": "stream",
     "text": [
      "\r",
      "  0%|▋                                                                                                                                                         | 428/100000 [8:28:58<1716:42:33, 62.07s/it]"
     ]
    },
    {
     "name": "stdout",
     "output_type": "stream",
     "text": [
      "tensor(164.7117, grad_fn=<SumBackward0>)\n"
     ]
    },
    {
     "name": "stderr",
     "output_type": "stream",
     "text": [
      "\r",
      "  0%|▋                                                                                                                                                         | 429/100000 [8:29:56<1680:37:07, 60.76s/it]"
     ]
    },
    {
     "name": "stdout",
     "output_type": "stream",
     "text": [
      "tensor(164.7117, grad_fn=<SumBackward0>)\n"
     ]
    },
    {
     "name": "stderr",
     "output_type": "stream",
     "text": [
      "\r",
      "  0%|▋                                                                                                                                                         | 430/100000 [8:30:58<1694:51:13, 61.28s/it]"
     ]
    },
    {
     "name": "stdout",
     "output_type": "stream",
     "text": [
      "tensor(164.7117, grad_fn=<SumBackward0>)\n"
     ]
    },
    {
     "name": "stderr",
     "output_type": "stream",
     "text": [
      "\r",
      "  0%|▋                                                                                                                                                         | 431/100000 [8:32:00<1699:45:24, 61.46s/it]"
     ]
    },
    {
     "name": "stdout",
     "output_type": "stream",
     "text": [
      "tensor(164.7117, grad_fn=<SumBackward0>)\n"
     ]
    },
    {
     "name": "stderr",
     "output_type": "stream",
     "text": [
      "\r",
      "  0%|▋                                                                                                                                                         | 432/100000 [8:32:49<1592:00:10, 57.56s/it]"
     ]
    },
    {
     "name": "stdout",
     "output_type": "stream",
     "text": [
      "tensor(164.7117, grad_fn=<SumBackward0>)\n"
     ]
    },
    {
     "name": "stderr",
     "output_type": "stream",
     "text": [
      "\r",
      "  0%|▋                                                                                                                                                         | 433/100000 [8:33:49<1613:19:54, 58.33s/it]"
     ]
    },
    {
     "name": "stdout",
     "output_type": "stream",
     "text": [
      "tensor(164.7117, grad_fn=<SumBackward0>)\n"
     ]
    },
    {
     "name": "stderr",
     "output_type": "stream",
     "text": [
      "\r",
      "  0%|▋                                                                                                                                                         | 434/100000 [8:34:54<1667:13:40, 60.28s/it]"
     ]
    },
    {
     "name": "stdout",
     "output_type": "stream",
     "text": [
      "tensor(164.7117, grad_fn=<SumBackward0>)\n"
     ]
    },
    {
     "name": "stderr",
     "output_type": "stream",
     "text": [
      "\r",
      "  0%|▋                                                                                                                                                         | 435/100000 [8:35:49<1628:06:07, 58.87s/it]"
     ]
    },
    {
     "name": "stdout",
     "output_type": "stream",
     "text": [
      "tensor(164.7117, grad_fn=<SumBackward0>)\n"
     ]
    },
    {
     "name": "stderr",
     "output_type": "stream",
     "text": [
      "\r",
      "  0%|▋                                                                                                                                                         | 436/100000 [8:36:37<1536:58:30, 55.57s/it]"
     ]
    },
    {
     "name": "stdout",
     "output_type": "stream",
     "text": [
      "tensor(164.7117, grad_fn=<SumBackward0>)\n"
     ]
    },
    {
     "name": "stderr",
     "output_type": "stream",
     "text": [
      "\r",
      "  0%|▋                                                                                                                                                         | 437/100000 [8:37:28<1499:35:57, 54.22s/it]"
     ]
    },
    {
     "name": "stdout",
     "output_type": "stream",
     "text": [
      "tensor(164.7117, grad_fn=<SumBackward0>)\n"
     ]
    },
    {
     "name": "stderr",
     "output_type": "stream",
     "text": [
      "\r",
      "  0%|▋                                                                                                                                                         | 438/100000 [8:38:36<1612:23:32, 58.30s/it]"
     ]
    },
    {
     "name": "stdout",
     "output_type": "stream",
     "text": [
      "tensor(164.7117, grad_fn=<SumBackward0>)\n"
     ]
    },
    {
     "name": "stderr",
     "output_type": "stream",
     "text": [
      "\r",
      "  0%|▋                                                                                                                                                         | 439/100000 [8:39:49<1730:22:05, 62.57s/it]"
     ]
    },
    {
     "name": "stdout",
     "output_type": "stream",
     "text": [
      "tensor(164.7117, grad_fn=<SumBackward0>)\n"
     ]
    },
    {
     "name": "stderr",
     "output_type": "stream",
     "text": [
      "\r",
      "  0%|▋                                                                                                                                                         | 440/100000 [8:41:02<1818:41:11, 65.76s/it]"
     ]
    },
    {
     "name": "stdout",
     "output_type": "stream",
     "text": [
      "tensor(164.7117, grad_fn=<SumBackward0>)\n"
     ]
    },
    {
     "name": "stderr",
     "output_type": "stream",
     "text": [
      "\r",
      "  0%|▋                                                                                                                                                         | 441/100000 [8:42:11<1848:20:50, 66.84s/it]"
     ]
    },
    {
     "name": "stdout",
     "output_type": "stream",
     "text": [
      "tensor(164.7117, grad_fn=<SumBackward0>)\n"
     ]
    },
    {
     "name": "stderr",
     "output_type": "stream",
     "text": [
      "\r",
      "  0%|▋                                                                                                                                                         | 442/100000 [8:43:25<1904:22:52, 68.86s/it]"
     ]
    },
    {
     "name": "stdout",
     "output_type": "stream",
     "text": [
      "tensor(164.7117, grad_fn=<SumBackward0>)\n"
     ]
    },
    {
     "name": "stderr",
     "output_type": "stream",
     "text": [
      "\r",
      "  0%|▋                                                                                                                                                         | 443/100000 [8:44:23<1813:31:24, 65.58s/it]"
     ]
    },
    {
     "name": "stdout",
     "output_type": "stream",
     "text": [
      "tensor(164.7117, grad_fn=<SumBackward0>)\n"
     ]
    },
    {
     "name": "stderr",
     "output_type": "stream",
     "text": [
      "\r",
      "  0%|▋                                                                                                                                                         | 444/100000 [8:45:28<1808:47:28, 65.41s/it]"
     ]
    },
    {
     "name": "stdout",
     "output_type": "stream",
     "text": [
      "tensor(164.7117, grad_fn=<SumBackward0>)\n"
     ]
    },
    {
     "name": "stderr",
     "output_type": "stream",
     "text": [
      "\r",
      "  0%|▋                                                                                                                                                         | 445/100000 [8:46:32<1797:30:10, 65.00s/it]"
     ]
    },
    {
     "name": "stdout",
     "output_type": "stream",
     "text": [
      "tensor(164.7117, grad_fn=<SumBackward0>)\n"
     ]
    },
    {
     "name": "stderr",
     "output_type": "stream",
     "text": [
      "\r",
      "  0%|▋                                                                                                                                                         | 446/100000 [8:47:32<1756:28:38, 63.52s/it]"
     ]
    },
    {
     "name": "stdout",
     "output_type": "stream",
     "text": [
      "tensor(164.7117, grad_fn=<SumBackward0>)\n"
     ]
    },
    {
     "name": "stderr",
     "output_type": "stream",
     "text": [
      "\r",
      "  0%|▋                                                                                                                                                         | 447/100000 [8:48:40<1799:51:54, 65.09s/it]"
     ]
    },
    {
     "name": "stdout",
     "output_type": "stream",
     "text": [
      "tensor(164.7117, grad_fn=<SumBackward0>)\n"
     ]
    },
    {
     "name": "stderr",
     "output_type": "stream",
     "text": [
      "\r",
      "  0%|▋                                                                                                                                                         | 448/100000 [8:49:48<1816:15:41, 65.68s/it]"
     ]
    },
    {
     "name": "stdout",
     "output_type": "stream",
     "text": [
      "tensor(164.7117, grad_fn=<SumBackward0>)\n"
     ]
    },
    {
     "name": "stderr",
     "output_type": "stream",
     "text": [
      "\r",
      "  0%|▋                                                                                                                                                         | 449/100000 [8:50:51<1797:58:04, 65.02s/it]"
     ]
    },
    {
     "name": "stdout",
     "output_type": "stream",
     "text": [
      "tensor(164.7117, grad_fn=<SumBackward0>)\n"
     ]
    },
    {
     "name": "stderr",
     "output_type": "stream",
     "text": [
      "\r",
      "  0%|▋                                                                                                                                                         | 450/100000 [8:51:52<1763:49:49, 63.78s/it]"
     ]
    },
    {
     "name": "stdout",
     "output_type": "stream",
     "text": [
      "tensor(164.7117, grad_fn=<SumBackward0>)\n"
     ]
    },
    {
     "name": "stderr",
     "output_type": "stream",
     "text": [
      "\r",
      "  0%|▋                                                                                                                                                         | 451/100000 [8:52:56<1762:28:14, 63.74s/it]"
     ]
    },
    {
     "name": "stdout",
     "output_type": "stream",
     "text": [
      "tensor(164.7117, grad_fn=<SumBackward0>)\n"
     ]
    },
    {
     "name": "stderr",
     "output_type": "stream",
     "text": [
      "\r",
      "  0%|▋                                                                                                                                                         | 452/100000 [8:54:07<1828:07:40, 66.11s/it]"
     ]
    },
    {
     "name": "stdout",
     "output_type": "stream",
     "text": [
      "tensor(164.7117, grad_fn=<SumBackward0>)\n"
     ]
    },
    {
     "name": "stderr",
     "output_type": "stream",
     "text": [
      "\r",
      "  0%|▋                                                                                                                                                         | 453/100000 [8:55:16<1850:45:59, 66.93s/it]"
     ]
    },
    {
     "name": "stdout",
     "output_type": "stream",
     "text": [
      "tensor(164.7117, grad_fn=<SumBackward0>)\n"
     ]
    },
    {
     "name": "stderr",
     "output_type": "stream",
     "text": [
      "\r",
      "  0%|▋                                                                                                                                                         | 454/100000 [8:56:30<1907:37:03, 68.99s/it]"
     ]
    },
    {
     "name": "stdout",
     "output_type": "stream",
     "text": [
      "tensor(164.7117, grad_fn=<SumBackward0>)\n"
     ]
    },
    {
     "name": "stderr",
     "output_type": "stream",
     "text": [
      "\r",
      "  0%|▋                                                                                                                                                         | 455/100000 [8:57:41<1926:08:07, 69.66s/it]"
     ]
    },
    {
     "name": "stdout",
     "output_type": "stream",
     "text": [
      "tensor(164.7117, grad_fn=<SumBackward0>)\n"
     ]
    },
    {
     "name": "stderr",
     "output_type": "stream",
     "text": [
      "\r",
      "  0%|▋                                                                                                                                                         | 456/100000 [8:58:47<1892:21:42, 68.44s/it]"
     ]
    },
    {
     "name": "stdout",
     "output_type": "stream",
     "text": [
      "tensor(164.7117, grad_fn=<SumBackward0>)\n"
     ]
    },
    {
     "name": "stderr",
     "output_type": "stream",
     "text": [
      "\r",
      "  0%|▋                                                                                                                                                         | 457/100000 [8:59:48<1831:45:48, 66.25s/it]"
     ]
    },
    {
     "name": "stdout",
     "output_type": "stream",
     "text": [
      "tensor(164.7117, grad_fn=<SumBackward0>)\n"
     ]
    },
    {
     "name": "stderr",
     "output_type": "stream",
     "text": [
      "\r",
      "  0%|▋                                                                                                                                                         | 458/100000 [9:00:55<1842:35:26, 66.64s/it]"
     ]
    },
    {
     "name": "stdout",
     "output_type": "stream",
     "text": [
      "tensor(164.7117, grad_fn=<SumBackward0>)\n"
     ]
    },
    {
     "name": "stderr",
     "output_type": "stream",
     "text": [
      "\r",
      "  0%|▋                                                                                                                                                         | 459/100000 [9:02:00<1827:13:00, 66.08s/it]"
     ]
    },
    {
     "name": "stdout",
     "output_type": "stream",
     "text": [
      "tensor(164.7117, grad_fn=<SumBackward0>)\n"
     ]
    },
    {
     "name": "stderr",
     "output_type": "stream",
     "text": [
      "\r",
      "  0%|▋                                                                                                                                                         | 460/100000 [9:02:59<1770:24:04, 64.03s/it]"
     ]
    },
    {
     "name": "stdout",
     "output_type": "stream",
     "text": [
      "tensor(164.7117, grad_fn=<SumBackward0>)\n"
     ]
    },
    {
     "name": "stderr",
     "output_type": "stream",
     "text": [
      "\r",
      "  0%|▋                                                                                                                                                         | 461/100000 [9:04:07<1798:52:42, 65.06s/it]"
     ]
    },
    {
     "name": "stdout",
     "output_type": "stream",
     "text": [
      "tensor(164.7117, grad_fn=<SumBackward0>)\n"
     ]
    },
    {
     "name": "stderr",
     "output_type": "stream",
     "text": [
      "\r",
      "  0%|▋                                                                                                                                                         | 462/100000 [9:05:09<1776:14:22, 64.24s/it]"
     ]
    },
    {
     "name": "stdout",
     "output_type": "stream",
     "text": [
      "tensor(164.7117, grad_fn=<SumBackward0>)\n"
     ]
    },
    {
     "name": "stderr",
     "output_type": "stream",
     "text": [
      "\r",
      "  0%|▋                                                                                                                                                         | 463/100000 [9:06:09<1739:25:18, 62.91s/it]"
     ]
    },
    {
     "name": "stdout",
     "output_type": "stream",
     "text": [
      "tensor(164.7117, grad_fn=<SumBackward0>)\n"
     ]
    },
    {
     "name": "stderr",
     "output_type": "stream",
     "text": [
      "\r",
      "  0%|▋                                                                                                                                                         | 464/100000 [9:07:05<1685:25:51, 60.96s/it]"
     ]
    },
    {
     "name": "stdout",
     "output_type": "stream",
     "text": [
      "tensor(164.7117, grad_fn=<SumBackward0>)\n"
     ]
    },
    {
     "name": "stderr",
     "output_type": "stream",
     "text": [
      "\r",
      "  0%|▋                                                                                                                                                         | 465/100000 [9:08:05<1675:54:09, 60.61s/it]"
     ]
    },
    {
     "name": "stdout",
     "output_type": "stream",
     "text": [
      "tensor(164.7117, grad_fn=<SumBackward0>)\n"
     ]
    },
    {
     "name": "stderr",
     "output_type": "stream",
     "text": [
      "\r",
      "  0%|▋                                                                                                                                                         | 466/100000 [9:09:13<1738:35:03, 62.88s/it]"
     ]
    },
    {
     "name": "stdout",
     "output_type": "stream",
     "text": [
      "tensor(164.7117, grad_fn=<SumBackward0>)\n"
     ]
    },
    {
     "name": "stderr",
     "output_type": "stream",
     "text": [
      "\r",
      "  0%|▋                                                                                                                                                         | 467/100000 [9:10:19<1759:35:05, 63.64s/it]"
     ]
    },
    {
     "name": "stdout",
     "output_type": "stream",
     "text": [
      "tensor(164.7117, grad_fn=<SumBackward0>)\n"
     ]
    },
    {
     "name": "stderr",
     "output_type": "stream",
     "text": [
      "\r",
      "  0%|▋                                                                                                                                                         | 468/100000 [9:11:20<1737:03:53, 62.83s/it]"
     ]
    },
    {
     "name": "stdout",
     "output_type": "stream",
     "text": [
      "tensor(164.7117, grad_fn=<SumBackward0>)\n"
     ]
    },
    {
     "name": "stderr",
     "output_type": "stream",
     "text": [
      "\r",
      "  0%|▋                                                                                                                                                         | 469/100000 [9:12:24<1745:25:20, 63.13s/it]"
     ]
    },
    {
     "name": "stdout",
     "output_type": "stream",
     "text": [
      "tensor(164.7117, grad_fn=<SumBackward0>)\n"
     ]
    },
    {
     "name": "stderr",
     "output_type": "stream",
     "text": [
      "\r",
      "  0%|▋                                                                                                                                                         | 470/100000 [9:13:29<1762:58:54, 63.77s/it]"
     ]
    },
    {
     "name": "stdout",
     "output_type": "stream",
     "text": [
      "tensor(164.7117, grad_fn=<SumBackward0>)\n"
     ]
    },
    {
     "name": "stderr",
     "output_type": "stream",
     "text": [
      "\r",
      "  0%|▋                                                                                                                                                         | 471/100000 [9:14:36<1795:12:11, 64.93s/it]"
     ]
    },
    {
     "name": "stdout",
     "output_type": "stream",
     "text": [
      "tensor(164.7117, grad_fn=<SumBackward0>)\n"
     ]
    },
    {
     "name": "stderr",
     "output_type": "stream",
     "text": [
      "\r",
      "  0%|▋                                                                                                                                                         | 472/100000 [9:15:43<1807:28:16, 65.38s/it]"
     ]
    },
    {
     "name": "stdout",
     "output_type": "stream",
     "text": [
      "tensor(164.7117, grad_fn=<SumBackward0>)\n"
     ]
    },
    {
     "name": "stderr",
     "output_type": "stream",
     "text": [
      "\r",
      "  0%|▋                                                                                                                                                         | 473/100000 [9:16:51<1826:59:24, 66.08s/it]"
     ]
    },
    {
     "name": "stdout",
     "output_type": "stream",
     "text": [
      "tensor(164.7117, grad_fn=<SumBackward0>)\n"
     ]
    },
    {
     "name": "stderr",
     "output_type": "stream",
     "text": [
      "\r",
      "  0%|▋                                                                                                                                                         | 474/100000 [9:17:58<1838:27:29, 66.50s/it]"
     ]
    },
    {
     "name": "stdout",
     "output_type": "stream",
     "text": [
      "tensor(164.7117, grad_fn=<SumBackward0>)\n"
     ]
    },
    {
     "name": "stderr",
     "output_type": "stream",
     "text": [
      "\r",
      "  0%|▋                                                                                                                                                         | 475/100000 [9:18:53<1739:03:41, 62.91s/it]"
     ]
    },
    {
     "name": "stdout",
     "output_type": "stream",
     "text": [
      "tensor(164.7117, grad_fn=<SumBackward0>)\n"
     ]
    },
    {
     "name": "stderr",
     "output_type": "stream",
     "text": [
      "\r",
      "  0%|▋                                                                                                                                                         | 476/100000 [9:19:52<1713:30:23, 61.98s/it]"
     ]
    },
    {
     "name": "stdout",
     "output_type": "stream",
     "text": [
      "tensor(164.7117, grad_fn=<SumBackward0>)\n"
     ]
    },
    {
     "name": "stderr",
     "output_type": "stream",
     "text": [
      "\r",
      "  0%|▋                                                                                                                                                         | 477/100000 [9:21:02<1774:53:58, 64.20s/it]"
     ]
    },
    {
     "name": "stdout",
     "output_type": "stream",
     "text": [
      "tensor(164.7117, grad_fn=<SumBackward0>)\n"
     ]
    },
    {
     "name": "stderr",
     "output_type": "stream",
     "text": [
      "\r",
      "  0%|▋                                                                                                                                                         | 478/100000 [9:22:10<1808:18:57, 65.41s/it]"
     ]
    },
    {
     "name": "stdout",
     "output_type": "stream",
     "text": [
      "tensor(164.7117, grad_fn=<SumBackward0>)\n"
     ]
    },
    {
     "name": "stderr",
     "output_type": "stream",
     "text": [
      "\r",
      "  0%|▋                                                                                                                                                         | 479/100000 [9:23:18<1829:09:04, 66.17s/it]"
     ]
    },
    {
     "name": "stdout",
     "output_type": "stream",
     "text": [
      "tensor(164.7117, grad_fn=<SumBackward0>)\n"
     ]
    },
    {
     "name": "stderr",
     "output_type": "stream",
     "text": [
      "\r",
      "  0%|▋                                                                                                                                                         | 480/100000 [9:24:31<1882:44:19, 68.11s/it]"
     ]
    },
    {
     "name": "stdout",
     "output_type": "stream",
     "text": [
      "tensor(164.7117, grad_fn=<SumBackward0>)\n"
     ]
    },
    {
     "name": "stderr",
     "output_type": "stream",
     "text": [
      "\r",
      "  0%|▋                                                                                                                                                         | 481/100000 [9:25:42<1909:50:45, 69.09s/it]"
     ]
    },
    {
     "name": "stdout",
     "output_type": "stream",
     "text": [
      "tensor(164.7117, grad_fn=<SumBackward0>)\n"
     ]
    },
    {
     "name": "stderr",
     "output_type": "stream",
     "text": [
      "\r",
      "  0%|▋                                                                                                                                                         | 482/100000 [9:26:51<1911:09:42, 69.14s/it]"
     ]
    },
    {
     "name": "stdout",
     "output_type": "stream",
     "text": [
      "tensor(164.7117, grad_fn=<SumBackward0>)\n"
     ]
    },
    {
     "name": "stderr",
     "output_type": "stream",
     "text": [
      "\r",
      "  0%|▋                                                                                                                                                         | 483/100000 [9:27:59<1897:30:57, 68.64s/it]"
     ]
    },
    {
     "name": "stdout",
     "output_type": "stream",
     "text": [
      "tensor(164.7117, grad_fn=<SumBackward0>)\n"
     ]
    },
    {
     "name": "stderr",
     "output_type": "stream",
     "text": [
      "\r",
      "  0%|▋                                                                                                                                                         | 484/100000 [9:29:02<1850:48:39, 66.95s/it]"
     ]
    },
    {
     "name": "stdout",
     "output_type": "stream",
     "text": [
      "tensor(164.7117, grad_fn=<SumBackward0>)\n"
     ]
    },
    {
     "name": "stderr",
     "output_type": "stream",
     "text": [
      "\r",
      "  0%|▋                                                                                                                                                         | 485/100000 [9:29:57<1752:18:17, 63.39s/it]"
     ]
    },
    {
     "name": "stdout",
     "output_type": "stream",
     "text": [
      "tensor(164.7117, grad_fn=<SumBackward0>)\n"
     ]
    },
    {
     "name": "stderr",
     "output_type": "stream",
     "text": [
      "\r",
      "  0%|▋                                                                                                                                                         | 486/100000 [9:31:03<1776:34:41, 64.27s/it]"
     ]
    },
    {
     "name": "stdout",
     "output_type": "stream",
     "text": [
      "tensor(164.7117, grad_fn=<SumBackward0>)\n"
     ]
    },
    {
     "name": "stderr",
     "output_type": "stream",
     "text": [
      "\r",
      "  0%|▋                                                                                                                                                         | 487/100000 [9:32:14<1834:15:18, 66.36s/it]"
     ]
    },
    {
     "name": "stdout",
     "output_type": "stream",
     "text": [
      "tensor(164.7117, grad_fn=<SumBackward0>)\n"
     ]
    },
    {
     "name": "stderr",
     "output_type": "stream",
     "text": [
      "\r",
      "  0%|▊                                                                                                                                                         | 488/100000 [9:33:13<1769:02:39, 64.00s/it]"
     ]
    },
    {
     "name": "stdout",
     "output_type": "stream",
     "text": [
      "tensor(164.7117, grad_fn=<SumBackward0>)\n"
     ]
    },
    {
     "name": "stderr",
     "output_type": "stream",
     "text": [
      "\r",
      "  0%|▊                                                                                                                                                         | 489/100000 [9:34:21<1800:09:14, 65.12s/it]"
     ]
    },
    {
     "name": "stdout",
     "output_type": "stream",
     "text": [
      "tensor(164.7117, grad_fn=<SumBackward0>)\n"
     ]
    },
    {
     "name": "stderr",
     "output_type": "stream",
     "text": [
      "\r",
      "  0%|▊                                                                                                                                                         | 490/100000 [9:35:24<1786:58:17, 64.65s/it]"
     ]
    },
    {
     "name": "stdout",
     "output_type": "stream",
     "text": [
      "tensor(164.7117, grad_fn=<SumBackward0>)\n"
     ]
    },
    {
     "name": "stderr",
     "output_type": "stream",
     "text": [
      "\r",
      "  0%|▊                                                                                                                                                         | 491/100000 [9:36:24<1746:49:56, 63.20s/it]"
     ]
    },
    {
     "name": "stdout",
     "output_type": "stream",
     "text": [
      "tensor(164.7117, grad_fn=<SumBackward0>)\n"
     ]
    },
    {
     "name": "stderr",
     "output_type": "stream",
     "text": [
      "\r",
      "  0%|▊                                                                                                                                                         | 492/100000 [9:37:35<1815:15:52, 65.67s/it]"
     ]
    },
    {
     "name": "stdout",
     "output_type": "stream",
     "text": [
      "tensor(164.7117, grad_fn=<SumBackward0>)\n"
     ]
    },
    {
     "name": "stderr",
     "output_type": "stream",
     "text": [
      "\r",
      "  0%|▊                                                                                                                                                         | 493/100000 [9:38:39<1801:13:23, 65.17s/it]"
     ]
    },
    {
     "name": "stdout",
     "output_type": "stream",
     "text": [
      "tensor(164.7117, grad_fn=<SumBackward0>)\n"
     ]
    },
    {
     "name": "stderr",
     "output_type": "stream",
     "text": [
      "\r",
      "  0%|▊                                                                                                                                                         | 494/100000 [9:39:36<1733:14:46, 62.71s/it]"
     ]
    },
    {
     "name": "stdout",
     "output_type": "stream",
     "text": [
      "tensor(164.7117, grad_fn=<SumBackward0>)\n"
     ]
    },
    {
     "name": "stderr",
     "output_type": "stream",
     "text": [
      "\r",
      "  0%|▊                                                                                                                                                         | 495/100000 [9:40:42<1756:37:20, 63.55s/it]"
     ]
    },
    {
     "name": "stdout",
     "output_type": "stream",
     "text": [
      "tensor(164.7117, grad_fn=<SumBackward0>)\n"
     ]
    },
    {
     "name": "stderr",
     "output_type": "stream",
     "text": [
      "\r",
      "  0%|▊                                                                                                                                                         | 496/100000 [9:41:44<1741:02:50, 62.99s/it]"
     ]
    },
    {
     "name": "stdout",
     "output_type": "stream",
     "text": [
      "tensor(164.7117, grad_fn=<SumBackward0>)\n"
     ]
    },
    {
     "name": "stderr",
     "output_type": "stream",
     "text": [
      "\r",
      "  0%|▊                                                                                                                                                         | 497/100000 [9:42:39<1682:21:40, 60.87s/it]"
     ]
    },
    {
     "name": "stdout",
     "output_type": "stream",
     "text": [
      "tensor(164.7117, grad_fn=<SumBackward0>)\n"
     ]
    },
    {
     "name": "stderr",
     "output_type": "stream",
     "text": [
      "\r",
      "  0%|▊                                                                                                                                                         | 498/100000 [9:43:34<1628:47:31, 58.93s/it]"
     ]
    },
    {
     "name": "stdout",
     "output_type": "stream",
     "text": [
      "tensor(164.7117, grad_fn=<SumBackward0>)\n"
     ]
    },
    {
     "name": "stderr",
     "output_type": "stream",
     "text": [
      "\r",
      "  0%|▊                                                                                                                                                         | 499/100000 [9:44:35<1649:03:13, 59.66s/it]"
     ]
    },
    {
     "name": "stdout",
     "output_type": "stream",
     "text": [
      "tensor(164.7117, grad_fn=<SumBackward0>)\n"
     ]
    },
    {
     "name": "stderr",
     "output_type": "stream",
     "text": [
      "\r",
      "  0%|▊                                                                                                                                                         | 500/100000 [9:45:44<1722:31:58, 62.32s/it]"
     ]
    },
    {
     "name": "stdout",
     "output_type": "stream",
     "text": [
      "tensor(164.7117, grad_fn=<SumBackward0>)\n"
     ]
    },
    {
     "name": "stderr",
     "output_type": "stream",
     "text": [
      "\r",
      "  1%|▊                                                                                                                                                         | 501/100000 [9:46:49<1749:41:58, 63.31s/it]"
     ]
    },
    {
     "name": "stdout",
     "output_type": "stream",
     "text": [
      "tensor(164.7117, grad_fn=<SumBackward0>)\n"
     ]
    },
    {
     "name": "stderr",
     "output_type": "stream",
     "text": [
      "\r",
      "  1%|▊                                                                                                                                                         | 502/100000 [9:47:40<1645:40:27, 59.54s/it]"
     ]
    },
    {
     "name": "stdout",
     "output_type": "stream",
     "text": [
      "tensor(164.7117, grad_fn=<SumBackward0>)\n"
     ]
    },
    {
     "name": "stderr",
     "output_type": "stream",
     "text": [
      "\r",
      "  1%|▊                                                                                                                                                         | 503/100000 [9:48:47<1710:16:30, 61.88s/it]"
     ]
    },
    {
     "name": "stdout",
     "output_type": "stream",
     "text": [
      "tensor(164.7117, grad_fn=<SumBackward0>)\n"
     ]
    },
    {
     "name": "stderr",
     "output_type": "stream",
     "text": [
      "\r",
      "  1%|▊                                                                                                                                                         | 504/100000 [9:49:57<1773:34:03, 64.17s/it]"
     ]
    },
    {
     "name": "stdout",
     "output_type": "stream",
     "text": [
      "tensor(164.7117, grad_fn=<SumBackward0>)\n"
     ]
    },
    {
     "name": "stderr",
     "output_type": "stream",
     "text": [
      "\r",
      "  1%|▊                                                                                                                                                         | 505/100000 [9:50:49<1674:30:56, 60.59s/it]"
     ]
    },
    {
     "name": "stdout",
     "output_type": "stream",
     "text": [
      "tensor(164.7117, grad_fn=<SumBackward0>)\n"
     ]
    },
    {
     "name": "stderr",
     "output_type": "stream",
     "text": [
      "\r",
      "  1%|▊                                                                                                                                                         | 506/100000 [9:52:00<1759:25:07, 63.66s/it]"
     ]
    },
    {
     "name": "stdout",
     "output_type": "stream",
     "text": [
      "tensor(164.7117, grad_fn=<SumBackward0>)\n"
     ]
    },
    {
     "name": "stderr",
     "output_type": "stream",
     "text": [
      "\r",
      "  1%|▊                                                                                                                                                         | 507/100000 [9:53:02<1742:50:13, 63.06s/it]"
     ]
    },
    {
     "name": "stdout",
     "output_type": "stream",
     "text": [
      "tensor(164.7117, grad_fn=<SumBackward0>)\n"
     ]
    },
    {
     "name": "stderr",
     "output_type": "stream",
     "text": [
      "\r",
      "  1%|▊                                                                                                                                                         | 508/100000 [9:54:12<1803:49:03, 65.27s/it]"
     ]
    },
    {
     "name": "stdout",
     "output_type": "stream",
     "text": [
      "tensor(164.7117, grad_fn=<SumBackward0>)\n"
     ]
    },
    {
     "name": "stderr",
     "output_type": "stream",
     "text": [
      "\r",
      "  1%|▊                                                                                                                                                         | 509/100000 [9:55:04<1695:30:18, 61.35s/it]"
     ]
    },
    {
     "name": "stdout",
     "output_type": "stream",
     "text": [
      "tensor(164.7117, grad_fn=<SumBackward0>)\n"
     ]
    },
    {
     "name": "stderr",
     "output_type": "stream",
     "text": [
      "\r",
      "  1%|▊                                                                                                                                                         | 510/100000 [9:55:59<1641:39:41, 59.40s/it]"
     ]
    },
    {
     "name": "stdout",
     "output_type": "stream",
     "text": [
      "tensor(164.7117, grad_fn=<SumBackward0>)\n"
     ]
    },
    {
     "name": "stderr",
     "output_type": "stream",
     "text": [
      "\r",
      "  1%|▊                                                                                                                                                         | 511/100000 [9:57:09<1728:19:36, 62.54s/it]"
     ]
    },
    {
     "name": "stdout",
     "output_type": "stream",
     "text": [
      "tensor(164.7117, grad_fn=<SumBackward0>)\n"
     ]
    },
    {
     "name": "stderr",
     "output_type": "stream",
     "text": [
      "\r",
      "  1%|▊                                                                                                                                                         | 512/100000 [9:58:01<1639:57:30, 59.34s/it]"
     ]
    },
    {
     "name": "stdout",
     "output_type": "stream",
     "text": [
      "tensor(164.7117, grad_fn=<SumBackward0>)\n"
     ]
    },
    {
     "name": "stderr",
     "output_type": "stream",
     "text": [
      "\r",
      "  1%|▊                                                                                                                                                         | 513/100000 [9:59:12<1735:35:28, 62.80s/it]"
     ]
    },
    {
     "name": "stdout",
     "output_type": "stream",
     "text": [
      "tensor(164.7117, grad_fn=<SumBackward0>)\n"
     ]
    },
    {
     "name": "stderr",
     "output_type": "stream",
     "text": [
      "\r",
      "  1%|▊                                                                                                                                                        | 514/100000 [10:00:09<1687:35:56, 61.07s/it]"
     ]
    },
    {
     "name": "stdout",
     "output_type": "stream",
     "text": [
      "tensor(164.7117, grad_fn=<SumBackward0>)\n"
     ]
    },
    {
     "name": "stderr",
     "output_type": "stream",
     "text": [
      "\r",
      "  1%|▊                                                                                                                                                        | 515/100000 [10:01:19<1765:45:28, 63.90s/it]"
     ]
    },
    {
     "name": "stdout",
     "output_type": "stream",
     "text": [
      "tensor(164.7117, grad_fn=<SumBackward0>)\n"
     ]
    },
    {
     "name": "stderr",
     "output_type": "stream",
     "text": [
      "\r",
      "  1%|▊                                                                                                                                                        | 516/100000 [10:02:01<1581:46:52, 57.24s/it]"
     ]
    },
    {
     "name": "stdout",
     "output_type": "stream",
     "text": [
      "tensor(164.7117, grad_fn=<SumBackward0>)\n"
     ]
    },
    {
     "name": "stderr",
     "output_type": "stream",
     "text": [
      "\r",
      "  1%|▊                                                                                                                                                        | 517/100000 [10:02:59<1583:57:33, 57.32s/it]"
     ]
    },
    {
     "name": "stdout",
     "output_type": "stream",
     "text": [
      "tensor(164.7117, grad_fn=<SumBackward0>)\n"
     ]
    },
    {
     "name": "stderr",
     "output_type": "stream",
     "text": [
      "\r",
      "  1%|▊                                                                                                                                                        | 518/100000 [10:03:54<1566:40:35, 56.69s/it]"
     ]
    },
    {
     "name": "stdout",
     "output_type": "stream",
     "text": [
      "tensor(164.7117, grad_fn=<SumBackward0>)\n"
     ]
    },
    {
     "name": "stderr",
     "output_type": "stream",
     "text": [
      "\r",
      "  1%|▊                                                                                                                                                        | 519/100000 [10:04:53<1587:32:49, 57.45s/it]"
     ]
    },
    {
     "name": "stdout",
     "output_type": "stream",
     "text": [
      "tensor(164.7117, grad_fn=<SumBackward0>)\n"
     ]
    },
    {
     "name": "stderr",
     "output_type": "stream",
     "text": [
      "\r",
      "  1%|▊                                                                                                                                                        | 520/100000 [10:05:56<1629:53:22, 58.98s/it]"
     ]
    },
    {
     "name": "stdout",
     "output_type": "stream",
     "text": [
      "tensor(164.7117, grad_fn=<SumBackward0>)\n"
     ]
    },
    {
     "name": "stderr",
     "output_type": "stream",
     "text": [
      "\r",
      "  1%|▊                                                                                                                                                        | 521/100000 [10:07:02<1690:23:04, 61.17s/it]"
     ]
    },
    {
     "name": "stdout",
     "output_type": "stream",
     "text": [
      "tensor(164.7117, grad_fn=<SumBackward0>)\n"
     ]
    },
    {
     "name": "stderr",
     "output_type": "stream",
     "text": [
      "\r",
      "  1%|▊                                                                                                                                                        | 522/100000 [10:08:06<1716:31:42, 62.12s/it]"
     ]
    },
    {
     "name": "stdout",
     "output_type": "stream",
     "text": [
      "tensor(164.7117, grad_fn=<SumBackward0>)\n"
     ]
    },
    {
     "name": "stderr",
     "output_type": "stream",
     "text": [
      "\r",
      "  1%|▊                                                                                                                                                        | 523/100000 [10:09:04<1681:30:35, 60.85s/it]"
     ]
    },
    {
     "name": "stdout",
     "output_type": "stream",
     "text": [
      "tensor(164.7117, grad_fn=<SumBackward0>)\n"
     ]
    },
    {
     "name": "stderr",
     "output_type": "stream",
     "text": [
      "\r",
      "  1%|▊                                                                                                                                                        | 524/100000 [10:10:17<1778:55:36, 64.38s/it]"
     ]
    },
    {
     "name": "stdout",
     "output_type": "stream",
     "text": [
      "tensor(164.7117, grad_fn=<SumBackward0>)\n"
     ]
    },
    {
     "name": "stderr",
     "output_type": "stream",
     "text": [
      "\r",
      "  1%|▊                                                                                                                                                        | 525/100000 [10:11:31<1857:37:00, 67.23s/it]"
     ]
    },
    {
     "name": "stdout",
     "output_type": "stream",
     "text": [
      "tensor(164.7117, grad_fn=<SumBackward0>)\n"
     ]
    },
    {
     "name": "stderr",
     "output_type": "stream",
     "text": [
      "\r",
      "  1%|▊                                                                                                                                                        | 526/100000 [10:12:29<1784:23:04, 64.58s/it]"
     ]
    },
    {
     "name": "stdout",
     "output_type": "stream",
     "text": [
      "tensor(164.7117, grad_fn=<SumBackward0>)\n"
     ]
    },
    {
     "name": "stderr",
     "output_type": "stream",
     "text": [
      "\r",
      "  1%|▊                                                                                                                                                        | 527/100000 [10:13:24<1701:50:53, 61.59s/it]"
     ]
    },
    {
     "name": "stdout",
     "output_type": "stream",
     "text": [
      "tensor(164.7117, grad_fn=<SumBackward0>)\n"
     ]
    },
    {
     "name": "stderr",
     "output_type": "stream",
     "text": [
      "\r",
      "  1%|▊                                                                                                                                                        | 528/100000 [10:14:24<1688:34:24, 61.11s/it]"
     ]
    },
    {
     "name": "stdout",
     "output_type": "stream",
     "text": [
      "tensor(164.7117, grad_fn=<SumBackward0>)\n"
     ]
    },
    {
     "name": "stderr",
     "output_type": "stream",
     "text": [
      "\r",
      "  1%|▊                                                                                                                                                        | 529/100000 [10:15:18<1636:19:29, 59.22s/it]"
     ]
    },
    {
     "name": "stdout",
     "output_type": "stream",
     "text": [
      "tensor(164.7117, grad_fn=<SumBackward0>)\n"
     ]
    },
    {
     "name": "stderr",
     "output_type": "stream",
     "text": [
      "\r",
      "  1%|▊                                                                                                                                                        | 530/100000 [10:16:19<1651:33:22, 59.77s/it]"
     ]
    },
    {
     "name": "stdout",
     "output_type": "stream",
     "text": [
      "tensor(164.7117, grad_fn=<SumBackward0>)\n"
     ]
    },
    {
     "name": "stderr",
     "output_type": "stream",
     "text": [
      "\r",
      "  1%|▊                                                                                                                                                        | 531/100000 [10:17:18<1645:17:53, 59.55s/it]"
     ]
    },
    {
     "name": "stdout",
     "output_type": "stream",
     "text": [
      "tensor(164.7117, grad_fn=<SumBackward0>)\n"
     ]
    },
    {
     "name": "stderr",
     "output_type": "stream",
     "text": [
      "\r",
      "  1%|▊                                                                                                                                                        | 532/100000 [10:18:24<1696:21:40, 61.40s/it]"
     ]
    },
    {
     "name": "stdout",
     "output_type": "stream",
     "text": [
      "tensor(164.7117, grad_fn=<SumBackward0>)\n"
     ]
    },
    {
     "name": "stderr",
     "output_type": "stream",
     "text": [
      "\r",
      "  1%|▊                                                                                                                                                        | 533/100000 [10:19:15<1610:56:14, 58.30s/it]"
     ]
    },
    {
     "name": "stdout",
     "output_type": "stream",
     "text": [
      "tensor(164.7117, grad_fn=<SumBackward0>)\n"
     ]
    },
    {
     "name": "stderr",
     "output_type": "stream",
     "text": [
      "\r",
      "  1%|▊                                                                                                                                                        | 534/100000 [10:20:11<1591:55:05, 57.62s/it]"
     ]
    },
    {
     "name": "stdout",
     "output_type": "stream",
     "text": [
      "tensor(164.7117, grad_fn=<SumBackward0>)\n"
     ]
    },
    {
     "name": "stderr",
     "output_type": "stream",
     "text": [
      "\r",
      "  1%|▊                                                                                                                                                        | 535/100000 [10:21:04<1549:24:32, 56.08s/it]"
     ]
    },
    {
     "name": "stdout",
     "output_type": "stream",
     "text": [
      "tensor(164.7117, grad_fn=<SumBackward0>)\n"
     ]
    },
    {
     "name": "stderr",
     "output_type": "stream",
     "text": [
      "\r",
      "  1%|▊                                                                                                                                                        | 536/100000 [10:21:54<1500:36:08, 54.31s/it]"
     ]
    },
    {
     "name": "stdout",
     "output_type": "stream",
     "text": [
      "tensor(164.7117, grad_fn=<SumBackward0>)\n"
     ]
    },
    {
     "name": "stderr",
     "output_type": "stream",
     "text": [
      "\r",
      "  1%|▊                                                                                                                                                        | 537/100000 [10:22:54<1545:55:51, 55.95s/it]"
     ]
    },
    {
     "name": "stdout",
     "output_type": "stream",
     "text": [
      "tensor(164.7117, grad_fn=<SumBackward0>)\n"
     ]
    },
    {
     "name": "stderr",
     "output_type": "stream",
     "text": [
      "\r",
      "  1%|▊                                                                                                                                                        | 538/100000 [10:24:03<1653:01:27, 59.83s/it]"
     ]
    },
    {
     "name": "stdout",
     "output_type": "stream",
     "text": [
      "tensor(164.7117, grad_fn=<SumBackward0>)\n"
     ]
    },
    {
     "name": "stderr",
     "output_type": "stream",
     "text": [
      "\r",
      "  1%|▊                                                                                                                                                        | 539/100000 [10:25:12<1735:02:24, 62.80s/it]"
     ]
    },
    {
     "name": "stdout",
     "output_type": "stream",
     "text": [
      "tensor(164.7117, grad_fn=<SumBackward0>)\n"
     ]
    },
    {
     "name": "stderr",
     "output_type": "stream",
     "text": [
      "\r",
      "  1%|▊                                                                                                                                                        | 540/100000 [10:26:32<1875:15:17, 67.88s/it]"
     ]
    },
    {
     "name": "stdout",
     "output_type": "stream",
     "text": [
      "tensor(164.7117, grad_fn=<SumBackward0>)\n"
     ]
    },
    {
     "name": "stderr",
     "output_type": "stream",
     "text": [
      "\r",
      "  1%|▊                                                                                                                                                        | 541/100000 [10:27:35<1834:31:39, 66.40s/it]"
     ]
    },
    {
     "name": "stdout",
     "output_type": "stream",
     "text": [
      "tensor(164.7117, grad_fn=<SumBackward0>)\n"
     ]
    },
    {
     "name": "stderr",
     "output_type": "stream",
     "text": [
      "\r",
      "  1%|▊                                                                                                                                                        | 542/100000 [10:28:30<1743:49:19, 63.12s/it]"
     ]
    },
    {
     "name": "stdout",
     "output_type": "stream",
     "text": [
      "tensor(164.7117, grad_fn=<SumBackward0>)\n"
     ]
    },
    {
     "name": "stderr",
     "output_type": "stream",
     "text": [
      "\r",
      "  1%|▊                                                                                                                                                        | 543/100000 [10:29:35<1758:55:13, 63.67s/it]"
     ]
    },
    {
     "name": "stdout",
     "output_type": "stream",
     "text": [
      "tensor(164.7117, grad_fn=<SumBackward0>)\n"
     ]
    },
    {
     "name": "stderr",
     "output_type": "stream",
     "text": [
      "\r",
      "  1%|▊                                                                                                                                                        | 544/100000 [10:30:21<1608:00:55, 58.21s/it]"
     ]
    },
    {
     "name": "stdout",
     "output_type": "stream",
     "text": [
      "tensor(164.7117, grad_fn=<SumBackward0>)\n"
     ]
    },
    {
     "name": "stderr",
     "output_type": "stream",
     "text": [
      "\r",
      "  1%|▊                                                                                                                                                        | 545/100000 [10:31:34<1735:49:26, 62.83s/it]"
     ]
    },
    {
     "name": "stdout",
     "output_type": "stream",
     "text": [
      "tensor(164.7117, grad_fn=<SumBackward0>)\n"
     ]
    },
    {
     "name": "stderr",
     "output_type": "stream",
     "text": [
      "\r",
      "  1%|▊                                                                                                                                                        | 546/100000 [10:32:26<1641:42:36, 59.43s/it]"
     ]
    },
    {
     "name": "stdout",
     "output_type": "stream",
     "text": [
      "tensor(164.7117, grad_fn=<SumBackward0>)\n"
     ]
    },
    {
     "name": "stderr",
     "output_type": "stream",
     "text": [
      "\r",
      "  1%|▊                                                                                                                                                        | 547/100000 [10:33:31<1688:53:26, 61.13s/it]"
     ]
    },
    {
     "name": "stdout",
     "output_type": "stream",
     "text": [
      "tensor(164.7117, grad_fn=<SumBackward0>)\n"
     ]
    },
    {
     "name": "stderr",
     "output_type": "stream",
     "text": [
      "\r",
      "  1%|▊                                                                                                                                                        | 548/100000 [10:34:38<1736:53:35, 62.87s/it]"
     ]
    },
    {
     "name": "stdout",
     "output_type": "stream",
     "text": [
      "tensor(164.7117, grad_fn=<SumBackward0>)\n"
     ]
    },
    {
     "name": "stderr",
     "output_type": "stream",
     "text": [
      "\r",
      "  1%|▊                                                                                                                                                        | 549/100000 [10:35:27<1624:25:37, 58.80s/it]"
     ]
    },
    {
     "name": "stdout",
     "output_type": "stream",
     "text": [
      "tensor(164.7117, grad_fn=<SumBackward0>)\n"
     ]
    },
    {
     "name": "stderr",
     "output_type": "stream",
     "text": [
      "\r",
      "  1%|▊                                                                                                                                                        | 550/100000 [10:36:38<1721:25:16, 62.31s/it]"
     ]
    },
    {
     "name": "stdout",
     "output_type": "stream",
     "text": [
      "tensor(164.7117, grad_fn=<SumBackward0>)\n"
     ]
    },
    {
     "name": "stderr",
     "output_type": "stream",
     "text": [
      "\r",
      "  1%|▊                                                                                                                                                        | 551/100000 [10:37:46<1768:12:16, 64.01s/it]"
     ]
    },
    {
     "name": "stdout",
     "output_type": "stream",
     "text": [
      "tensor(164.7117, grad_fn=<SumBackward0>)\n"
     ]
    },
    {
     "name": "stderr",
     "output_type": "stream",
     "text": [
      "\r",
      "  1%|▊                                                                                                                                                        | 552/100000 [10:38:48<1752:28:33, 63.44s/it]"
     ]
    },
    {
     "name": "stdout",
     "output_type": "stream",
     "text": [
      "tensor(164.7117, grad_fn=<SumBackward0>)\n"
     ]
    },
    {
     "name": "stderr",
     "output_type": "stream",
     "text": [
      "\r",
      "  1%|▊                                                                                                                                                        | 553/100000 [10:39:52<1761:42:39, 63.77s/it]"
     ]
    },
    {
     "name": "stdout",
     "output_type": "stream",
     "text": [
      "tensor(164.7117, grad_fn=<SumBackward0>)\n"
     ]
    },
    {
     "name": "stderr",
     "output_type": "stream",
     "text": [
      "\r",
      "  1%|▊                                                                                                                                                        | 554/100000 [10:41:01<1804:32:19, 65.33s/it]"
     ]
    },
    {
     "name": "stdout",
     "output_type": "stream",
     "text": [
      "tensor(164.7117, grad_fn=<SumBackward0>)\n"
     ]
    },
    {
     "name": "stderr",
     "output_type": "stream",
     "text": [
      "\r",
      "  1%|▊                                                                                                                                                        | 555/100000 [10:42:00<1744:44:11, 63.16s/it]"
     ]
    },
    {
     "name": "stdout",
     "output_type": "stream",
     "text": [
      "tensor(164.7117, grad_fn=<SumBackward0>)\n"
     ]
    },
    {
     "name": "stderr",
     "output_type": "stream",
     "text": [
      "\r",
      "  1%|▊                                                                                                                                                        | 556/100000 [10:43:10<1809:30:41, 65.51s/it]"
     ]
    },
    {
     "name": "stdout",
     "output_type": "stream",
     "text": [
      "tensor(164.7117, grad_fn=<SumBackward0>)\n"
     ]
    },
    {
     "name": "stderr",
     "output_type": "stream",
     "text": [
      "\r",
      "  1%|▊                                                                                                                                                        | 557/100000 [10:44:15<1800:26:13, 65.18s/it]"
     ]
    },
    {
     "name": "stdout",
     "output_type": "stream",
     "text": [
      "tensor(164.7117, grad_fn=<SumBackward0>)\n"
     ]
    },
    {
     "name": "stderr",
     "output_type": "stream",
     "text": [
      "\r",
      "  1%|▊                                                                                                                                                        | 558/100000 [10:45:20<1800:03:14, 65.17s/it]"
     ]
    },
    {
     "name": "stdout",
     "output_type": "stream",
     "text": [
      "tensor(164.7117, grad_fn=<SumBackward0>)\n"
     ]
    },
    {
     "name": "stderr",
     "output_type": "stream",
     "text": [
      "\r",
      "  1%|▊                                                                                                                                                        | 559/100000 [10:46:10<1673:09:33, 60.57s/it]"
     ]
    },
    {
     "name": "stdout",
     "output_type": "stream",
     "text": [
      "tensor(164.7117, grad_fn=<SumBackward0>)\n"
     ]
    },
    {
     "name": "stderr",
     "output_type": "stream",
     "text": [
      "\r",
      "  1%|▊                                                                                                                                                        | 560/100000 [10:46:58<1569:49:22, 56.83s/it]"
     ]
    },
    {
     "name": "stdout",
     "output_type": "stream",
     "text": [
      "tensor(164.7117, grad_fn=<SumBackward0>)\n"
     ]
    },
    {
     "name": "stderr",
     "output_type": "stream",
     "text": [
      "\r",
      "  1%|▊                                                                                                                                                        | 561/100000 [10:47:56<1582:52:59, 57.31s/it]"
     ]
    },
    {
     "name": "stdout",
     "output_type": "stream",
     "text": [
      "tensor(164.7117, grad_fn=<SumBackward0>)\n"
     ]
    },
    {
     "name": "stderr",
     "output_type": "stream",
     "text": [
      "\r",
      "  1%|▊                                                                                                                                                        | 562/100000 [10:48:59<1627:43:24, 58.93s/it]"
     ]
    },
    {
     "name": "stdout",
     "output_type": "stream",
     "text": [
      "tensor(164.7117, grad_fn=<SumBackward0>)\n"
     ]
    },
    {
     "name": "stderr",
     "output_type": "stream",
     "text": [
      "\r",
      "  1%|▊                                                                                                                                                        | 563/100000 [10:50:05<1682:27:27, 60.91s/it]"
     ]
    },
    {
     "name": "stdout",
     "output_type": "stream",
     "text": [
      "tensor(164.7117, grad_fn=<SumBackward0>)\n"
     ]
    },
    {
     "name": "stderr",
     "output_type": "stream",
     "text": [
      "\r",
      "  1%|▊                                                                                                                                                        | 564/100000 [10:51:12<1733:56:37, 62.78s/it]"
     ]
    },
    {
     "name": "stdout",
     "output_type": "stream",
     "text": [
      "tensor(164.7117, grad_fn=<SumBackward0>)\n"
     ]
    },
    {
     "name": "stderr",
     "output_type": "stream",
     "text": [
      "\r",
      "  1%|▊                                                                                                                                                        | 565/100000 [10:52:22<1793:35:34, 64.94s/it]"
     ]
    },
    {
     "name": "stdout",
     "output_type": "stream",
     "text": [
      "tensor(164.7117, grad_fn=<SumBackward0>)\n"
     ]
    },
    {
     "name": "stderr",
     "output_type": "stream",
     "text": [
      "\r",
      "  1%|▊                                                                                                                                                        | 566/100000 [10:53:06<1622:18:20, 58.74s/it]"
     ]
    },
    {
     "name": "stdout",
     "output_type": "stream",
     "text": [
      "tensor(164.7117, grad_fn=<SumBackward0>)\n"
     ]
    },
    {
     "name": "stderr",
     "output_type": "stream",
     "text": [
      "\r",
      "  1%|▊                                                                                                                                                        | 567/100000 [10:54:17<1725:38:21, 62.48s/it]"
     ]
    },
    {
     "name": "stdout",
     "output_type": "stream",
     "text": [
      "tensor(164.7117, grad_fn=<SumBackward0>)\n"
     ]
    },
    {
     "name": "stderr",
     "output_type": "stream",
     "text": [
      "\r",
      "  1%|▊                                                                                                                                                        | 568/100000 [10:55:08<1629:40:14, 59.00s/it]"
     ]
    },
    {
     "name": "stdout",
     "output_type": "stream",
     "text": [
      "tensor(164.7117, grad_fn=<SumBackward0>)\n"
     ]
    },
    {
     "name": "stderr",
     "output_type": "stream",
     "text": [
      "\r",
      "  1%|▊                                                                                                                                                        | 569/100000 [10:56:06<1617:31:45, 58.56s/it]"
     ]
    },
    {
     "name": "stdout",
     "output_type": "stream",
     "text": [
      "tensor(164.7117, grad_fn=<SumBackward0>)\n"
     ]
    },
    {
     "name": "stderr",
     "output_type": "stream",
     "text": [
      "\r",
      "  1%|▊                                                                                                                                                        | 570/100000 [10:57:16<1717:09:27, 62.17s/it]"
     ]
    },
    {
     "name": "stdout",
     "output_type": "stream",
     "text": [
      "tensor(164.7117, grad_fn=<SumBackward0>)\n"
     ]
    },
    {
     "name": "stderr",
     "output_type": "stream",
     "text": [
      "\r",
      "  1%|▊                                                                                                                                                        | 571/100000 [10:58:26<1782:35:10, 64.54s/it]"
     ]
    },
    {
     "name": "stdout",
     "output_type": "stream",
     "text": [
      "tensor(164.7117, grad_fn=<SumBackward0>)\n"
     ]
    },
    {
     "name": "stderr",
     "output_type": "stream",
     "text": [
      "\r",
      "  1%|▉                                                                                                                                                        | 572/100000 [10:59:41<1863:22:08, 67.47s/it]"
     ]
    },
    {
     "name": "stdout",
     "output_type": "stream",
     "text": [
      "tensor(164.7117, grad_fn=<SumBackward0>)\n"
     ]
    },
    {
     "name": "stderr",
     "output_type": "stream",
     "text": [
      "\r",
      "  1%|▉                                                                                                                                                        | 573/100000 [11:00:41<1805:32:26, 65.37s/it]"
     ]
    },
    {
     "name": "stdout",
     "output_type": "stream",
     "text": [
      "tensor(164.7117, grad_fn=<SumBackward0>)\n"
     ]
    },
    {
     "name": "stderr",
     "output_type": "stream",
     "text": [
      "\r",
      "  1%|▉                                                                                                                                                        | 574/100000 [11:01:46<1799:49:48, 65.17s/it]"
     ]
    },
    {
     "name": "stdout",
     "output_type": "stream",
     "text": [
      "tensor(164.7117, grad_fn=<SumBackward0>)\n"
     ]
    },
    {
     "name": "stderr",
     "output_type": "stream",
     "text": [
      "\r",
      "  1%|▉                                                                                                                                                        | 575/100000 [11:02:57<1848:36:40, 66.93s/it]"
     ]
    },
    {
     "name": "stdout",
     "output_type": "stream",
     "text": [
      "tensor(164.7117, grad_fn=<SumBackward0>)\n"
     ]
    },
    {
     "name": "stderr",
     "output_type": "stream",
     "text": [
      "\r",
      "  1%|▉                                                                                                                                                        | 576/100000 [11:04:06<1870:51:10, 67.74s/it]"
     ]
    },
    {
     "name": "stdout",
     "output_type": "stream",
     "text": [
      "tensor(164.7117, grad_fn=<SumBackward0>)\n"
     ]
    },
    {
     "name": "stderr",
     "output_type": "stream",
     "text": [
      "\r",
      "  1%|▉                                                                                                                                                        | 577/100000 [11:05:13<1856:33:06, 67.22s/it]"
     ]
    },
    {
     "name": "stdout",
     "output_type": "stream",
     "text": [
      "tensor(164.7117, grad_fn=<SumBackward0>)\n"
     ]
    },
    {
     "name": "stderr",
     "output_type": "stream",
     "text": [
      "\r",
      "  1%|▉                                                                                                                                                        | 578/100000 [11:06:24<1894:38:40, 68.60s/it]"
     ]
    },
    {
     "name": "stdout",
     "output_type": "stream",
     "text": [
      "tensor(164.7117, grad_fn=<SumBackward0>)\n"
     ]
    },
    {
     "name": "stderr",
     "output_type": "stream",
     "text": [
      "\r",
      "  1%|▉                                                                                                                                                        | 579/100000 [11:07:30<1868:52:44, 67.67s/it]"
     ]
    },
    {
     "name": "stdout",
     "output_type": "stream",
     "text": [
      "tensor(164.7117, grad_fn=<SumBackward0>)\n"
     ]
    },
    {
     "name": "stderr",
     "output_type": "stream",
     "text": [
      "\r",
      "  1%|▉                                                                                                                                                        | 580/100000 [11:08:33<1829:05:01, 66.23s/it]"
     ]
    },
    {
     "name": "stdout",
     "output_type": "stream",
     "text": [
      "tensor(164.7117, grad_fn=<SumBackward0>)\n"
     ]
    },
    {
     "name": "stderr",
     "output_type": "stream",
     "text": [
      "\r",
      "  1%|▉                                                                                                                                                        | 581/100000 [11:09:29<1750:31:10, 63.39s/it]"
     ]
    },
    {
     "name": "stdout",
     "output_type": "stream",
     "text": [
      "tensor(164.7117, grad_fn=<SumBackward0>)\n"
     ]
    },
    {
     "name": "stderr",
     "output_type": "stream",
     "text": [
      "\r",
      "  1%|▉                                                                                                                                                        | 582/100000 [11:10:30<1730:11:08, 62.65s/it]"
     ]
    },
    {
     "name": "stdout",
     "output_type": "stream",
     "text": [
      "tensor(164.7117, grad_fn=<SumBackward0>)\n"
     ]
    },
    {
     "name": "stderr",
     "output_type": "stream",
     "text": [
      "\r",
      "  1%|▉                                                                                                                                                        | 583/100000 [11:11:33<1730:09:35, 62.65s/it]"
     ]
    },
    {
     "name": "stdout",
     "output_type": "stream",
     "text": [
      "tensor(164.7117, grad_fn=<SumBackward0>)\n"
     ]
    },
    {
     "name": "stderr",
     "output_type": "stream",
     "text": [
      "\r",
      "  1%|▉                                                                                                                                                        | 584/100000 [11:12:40<1768:24:05, 64.04s/it]"
     ]
    },
    {
     "name": "stdout",
     "output_type": "stream",
     "text": [
      "tensor(164.7117, grad_fn=<SumBackward0>)\n"
     ]
    },
    {
     "name": "stderr",
     "output_type": "stream",
     "text": [
      "\r",
      "  1%|▉                                                                                                                                                        | 585/100000 [11:13:40<1729:45:09, 62.64s/it]"
     ]
    },
    {
     "name": "stdout",
     "output_type": "stream",
     "text": [
      "tensor(164.7117, grad_fn=<SumBackward0>)\n"
     ]
    },
    {
     "name": "stderr",
     "output_type": "stream",
     "text": [
      "\r",
      "  1%|▉                                                                                                                                                        | 586/100000 [11:14:48<1780:02:35, 64.46s/it]"
     ]
    },
    {
     "name": "stdout",
     "output_type": "stream",
     "text": [
      "tensor(164.7117, grad_fn=<SumBackward0>)\n"
     ]
    },
    {
     "name": "stderr",
     "output_type": "stream",
     "text": [
      "\r",
      "  1%|▉                                                                                                                                                        | 587/100000 [11:15:50<1759:32:11, 63.72s/it]"
     ]
    },
    {
     "name": "stdout",
     "output_type": "stream",
     "text": [
      "tensor(164.7117, grad_fn=<SumBackward0>)\n"
     ]
    },
    {
     "name": "stderr",
     "output_type": "stream",
     "text": [
      "\r",
      "  1%|▉                                                                                                                                                        | 588/100000 [11:16:52<1742:29:13, 63.10s/it]"
     ]
    },
    {
     "name": "stdout",
     "output_type": "stream",
     "text": [
      "tensor(164.7117, grad_fn=<SumBackward0>)\n"
     ]
    },
    {
     "name": "stderr",
     "output_type": "stream",
     "text": [
      "\r",
      "  1%|▉                                                                                                                                                        | 589/100000 [11:17:47<1675:22:26, 60.67s/it]"
     ]
    },
    {
     "name": "stdout",
     "output_type": "stream",
     "text": [
      "tensor(164.7117, grad_fn=<SumBackward0>)\n"
     ]
    },
    {
     "name": "stderr",
     "output_type": "stream",
     "text": [
      "\r",
      "  1%|▉                                                                                                                                                        | 590/100000 [11:18:58<1758:44:07, 63.69s/it]"
     ]
    },
    {
     "name": "stdout",
     "output_type": "stream",
     "text": [
      "tensor(164.7117, grad_fn=<SumBackward0>)\n"
     ]
    },
    {
     "name": "stderr",
     "output_type": "stream",
     "text": [
      "\r",
      "  1%|▉                                                                                                                                                        | 591/100000 [11:20:07<1804:55:43, 65.36s/it]"
     ]
    },
    {
     "name": "stdout",
     "output_type": "stream",
     "text": [
      "tensor(164.7117, grad_fn=<SumBackward0>)\n"
     ]
    },
    {
     "name": "stderr",
     "output_type": "stream",
     "text": [
      "\r",
      "  1%|▉                                                                                                                                                        | 592/100000 [11:21:12<1802:37:59, 65.28s/it]"
     ]
    },
    {
     "name": "stdout",
     "output_type": "stream",
     "text": [
      "tensor(164.7117, grad_fn=<SumBackward0>)\n"
     ]
    },
    {
     "name": "stderr",
     "output_type": "stream",
     "text": [
      "\r",
      "  1%|▉                                                                                                                                                        | 593/100000 [11:22:19<1816:35:52, 65.79s/it]"
     ]
    },
    {
     "name": "stdout",
     "output_type": "stream",
     "text": [
      "tensor(164.7117, grad_fn=<SumBackward0>)\n"
     ]
    },
    {
     "name": "stderr",
     "output_type": "stream",
     "text": [
      "\r",
      "  1%|▉                                                                                                                                                        | 594/100000 [11:23:19<1769:50:31, 64.10s/it]"
     ]
    },
    {
     "name": "stdout",
     "output_type": "stream",
     "text": [
      "tensor(164.7117, grad_fn=<SumBackward0>)\n"
     ]
    },
    {
     "name": "stderr",
     "output_type": "stream",
     "text": [
      "\r",
      "  1%|▉                                                                                                                                                        | 595/100000 [11:24:11<1666:33:19, 60.36s/it]"
     ]
    },
    {
     "name": "stdout",
     "output_type": "stream",
     "text": [
      "tensor(164.7117, grad_fn=<SumBackward0>)\n"
     ]
    },
    {
     "name": "stderr",
     "output_type": "stream",
     "text": [
      "\r",
      "  1%|▉                                                                                                                                                        | 596/100000 [11:25:20<1739:16:15, 62.99s/it]"
     ]
    },
    {
     "name": "stdout",
     "output_type": "stream",
     "text": [
      "tensor(164.7117, grad_fn=<SumBackward0>)\n"
     ]
    },
    {
     "name": "stderr",
     "output_type": "stream",
     "text": [
      "\r",
      "  1%|▉                                                                                                                                                        | 597/100000 [11:26:20<1713:44:47, 62.07s/it]"
     ]
    },
    {
     "name": "stdout",
     "output_type": "stream",
     "text": [
      "tensor(164.7117, grad_fn=<SumBackward0>)\n"
     ]
    },
    {
     "name": "stderr",
     "output_type": "stream",
     "text": [
      "\r",
      "  1%|▉                                                                                                                                                        | 598/100000 [11:27:31<1790:18:21, 64.84s/it]"
     ]
    },
    {
     "name": "stdout",
     "output_type": "stream",
     "text": [
      "tensor(164.7117, grad_fn=<SumBackward0>)\n"
     ]
    },
    {
     "name": "stderr",
     "output_type": "stream",
     "text": [
      "\r",
      "  1%|▉                                                                                                                                                        | 599/100000 [11:28:36<1793:02:23, 64.94s/it]"
     ]
    },
    {
     "name": "stdout",
     "output_type": "stream",
     "text": [
      "tensor(164.7117, grad_fn=<SumBackward0>)\n"
     ]
    },
    {
     "name": "stderr",
     "output_type": "stream",
     "text": [
      "\r",
      "  1%|▉                                                                                                                                                        | 600/100000 [11:29:33<1723:52:35, 62.43s/it]"
     ]
    },
    {
     "name": "stdout",
     "output_type": "stream",
     "text": [
      "tensor(164.7117, grad_fn=<SumBackward0>)\n"
     ]
    },
    {
     "name": "stderr",
     "output_type": "stream",
     "text": [
      "\r",
      "  1%|▉                                                                                                                                                        | 601/100000 [11:30:37<1734:15:33, 62.81s/it]"
     ]
    },
    {
     "name": "stdout",
     "output_type": "stream",
     "text": [
      "tensor(164.7117, grad_fn=<SumBackward0>)\n"
     ]
    },
    {
     "name": "stderr",
     "output_type": "stream",
     "text": [
      "\r",
      "  1%|▉                                                                                                                                                        | 602/100000 [11:31:42<1758:37:11, 63.69s/it]"
     ]
    },
    {
     "name": "stdout",
     "output_type": "stream",
     "text": [
      "tensor(164.7117, grad_fn=<SumBackward0>)\n"
     ]
    },
    {
     "name": "stderr",
     "output_type": "stream",
     "text": [
      "\r",
      "  1%|▉                                                                                                                                                        | 603/100000 [11:32:37<1680:07:56, 60.85s/it]"
     ]
    },
    {
     "name": "stdout",
     "output_type": "stream",
     "text": [
      "tensor(164.7117, grad_fn=<SumBackward0>)\n"
     ]
    },
    {
     "name": "stderr",
     "output_type": "stream",
     "text": [
      "\r",
      "  1%|▉                                                                                                                                                        | 604/100000 [11:33:34<1653:03:50, 59.87s/it]"
     ]
    },
    {
     "name": "stdout",
     "output_type": "stream",
     "text": [
      "tensor(164.7117, grad_fn=<SumBackward0>)\n"
     ]
    },
    {
     "name": "stderr",
     "output_type": "stream",
     "text": [
      "\r",
      "  1%|▉                                                                                                                                                        | 605/100000 [11:34:37<1674:41:38, 60.66s/it]"
     ]
    },
    {
     "name": "stdout",
     "output_type": "stream",
     "text": [
      "tensor(164.7117, grad_fn=<SumBackward0>)\n"
     ]
    },
    {
     "name": "stderr",
     "output_type": "stream",
     "text": [
      "\r",
      "  1%|▉                                                                                                                                                        | 606/100000 [11:35:32<1628:03:56, 58.97s/it]"
     ]
    },
    {
     "name": "stdout",
     "output_type": "stream",
     "text": [
      "tensor(164.7117, grad_fn=<SumBackward0>)\n"
     ]
    },
    {
     "name": "stderr",
     "output_type": "stream",
     "text": [
      "\r",
      "  1%|▉                                                                                                                                                        | 607/100000 [11:36:39<1696:42:04, 61.45s/it]"
     ]
    },
    {
     "name": "stdout",
     "output_type": "stream",
     "text": [
      "tensor(164.7117, grad_fn=<SumBackward0>)\n"
     ]
    },
    {
     "name": "stderr",
     "output_type": "stream",
     "text": [
      "\r",
      "  1%|▉                                                                                                                                                        | 608/100000 [11:37:37<1666:46:14, 60.37s/it]"
     ]
    },
    {
     "name": "stdout",
     "output_type": "stream",
     "text": [
      "tensor(164.7117, grad_fn=<SumBackward0>)\n"
     ]
    },
    {
     "name": "stderr",
     "output_type": "stream",
     "text": [
      "\r",
      "  1%|▉                                                                                                                                                        | 609/100000 [11:38:40<1689:14:51, 61.19s/it]"
     ]
    },
    {
     "name": "stdout",
     "output_type": "stream",
     "text": [
      "tensor(164.7117, grad_fn=<SumBackward0>)\n"
     ]
    },
    {
     "name": "stderr",
     "output_type": "stream",
     "text": [
      "\r",
      "  1%|▉                                                                                                                                                        | 610/100000 [11:39:42<1699:53:45, 61.57s/it]"
     ]
    },
    {
     "name": "stdout",
     "output_type": "stream",
     "text": [
      "tensor(164.7117, grad_fn=<SumBackward0>)\n"
     ]
    },
    {
     "name": "stderr",
     "output_type": "stream",
     "text": [
      "\r",
      "  1%|▉                                                                                                                                                        | 611/100000 [11:40:41<1678:41:08, 60.80s/it]"
     ]
    },
    {
     "name": "stdout",
     "output_type": "stream",
     "text": [
      "tensor(164.7117, grad_fn=<SumBackward0>)\n"
     ]
    },
    {
     "name": "stderr",
     "output_type": "stream",
     "text": [
      "\r",
      "  1%|▉                                                                                                                                                        | 612/100000 [11:41:31<1585:05:50, 57.41s/it]"
     ]
    },
    {
     "name": "stdout",
     "output_type": "stream",
     "text": [
      "tensor(164.7117, grad_fn=<SumBackward0>)\n"
     ]
    },
    {
     "name": "stderr",
     "output_type": "stream",
     "text": [
      "\r",
      "  1%|▉                                                                                                                                                        | 613/100000 [11:42:31<1610:40:34, 58.34s/it]"
     ]
    },
    {
     "name": "stdout",
     "output_type": "stream",
     "text": [
      "tensor(164.7117, grad_fn=<SumBackward0>)\n"
     ]
    },
    {
     "name": "stderr",
     "output_type": "stream",
     "text": [
      "\r",
      "  1%|▉                                                                                                                                                        | 614/100000 [11:43:27<1585:58:32, 57.45s/it]"
     ]
    },
    {
     "name": "stdout",
     "output_type": "stream",
     "text": [
      "tensor(164.7117, grad_fn=<SumBackward0>)\n"
     ]
    },
    {
     "name": "stderr",
     "output_type": "stream",
     "text": [
      "\r",
      "  1%|▉                                                                                                                                                        | 615/100000 [11:44:37<1687:35:03, 61.13s/it]"
     ]
    },
    {
     "name": "stdout",
     "output_type": "stream",
     "text": [
      "tensor(164.7117, grad_fn=<SumBackward0>)\n"
     ]
    },
    {
     "name": "stderr",
     "output_type": "stream",
     "text": [
      "\r",
      "  1%|▉                                                                                                                                                        | 616/100000 [11:45:48<1770:26:43, 64.13s/it]"
     ]
    },
    {
     "name": "stdout",
     "output_type": "stream",
     "text": [
      "tensor(164.7117, grad_fn=<SumBackward0>)\n"
     ]
    },
    {
     "name": "stderr",
     "output_type": "stream",
     "text": [
      "\r",
      "  1%|▉                                                                                                                                                        | 617/100000 [11:46:42<1693:05:54, 61.33s/it]"
     ]
    },
    {
     "name": "stdout",
     "output_type": "stream",
     "text": [
      "tensor(164.7117, grad_fn=<SumBackward0>)\n"
     ]
    },
    {
     "name": "stderr",
     "output_type": "stream",
     "text": [
      "\r",
      "  1%|▉                                                                                                                                                        | 618/100000 [11:47:43<1690:45:22, 61.25s/it]"
     ]
    },
    {
     "name": "stdout",
     "output_type": "stream",
     "text": [
      "tensor(164.7117, grad_fn=<SumBackward0>)\n"
     ]
    },
    {
     "name": "stderr",
     "output_type": "stream",
     "text": [
      "\r",
      "  1%|▉                                                                                                                                                        | 619/100000 [11:48:49<1726:21:35, 62.54s/it]"
     ]
    },
    {
     "name": "stdout",
     "output_type": "stream",
     "text": [
      "tensor(164.7117, grad_fn=<SumBackward0>)\n"
     ]
    },
    {
     "name": "stderr",
     "output_type": "stream",
     "text": [
      "\r",
      "  1%|▉                                                                                                                                                        | 620/100000 [11:49:48<1696:11:46, 61.44s/it]"
     ]
    },
    {
     "name": "stdout",
     "output_type": "stream",
     "text": [
      "tensor(164.7117, grad_fn=<SumBackward0>)\n"
     ]
    },
    {
     "name": "stderr",
     "output_type": "stream",
     "text": [
      "\r",
      "  1%|▉                                                                                                                                                        | 621/100000 [11:50:56<1748:58:54, 63.36s/it]"
     ]
    },
    {
     "name": "stdout",
     "output_type": "stream",
     "text": [
      "tensor(164.7117, grad_fn=<SumBackward0>)\n"
     ]
    },
    {
     "name": "stderr",
     "output_type": "stream",
     "text": [
      "\r",
      "  1%|▉                                                                                                                                                        | 622/100000 [11:51:53<1699:36:06, 61.57s/it]"
     ]
    },
    {
     "name": "stdout",
     "output_type": "stream",
     "text": [
      "tensor(164.7117, grad_fn=<SumBackward0>)\n"
     ]
    },
    {
     "name": "stderr",
     "output_type": "stream",
     "text": [
      "\r",
      "  1%|▉                                                                                                                                                        | 623/100000 [11:53:03<1771:49:10, 64.19s/it]"
     ]
    },
    {
     "name": "stdout",
     "output_type": "stream",
     "text": [
      "tensor(164.7117, grad_fn=<SumBackward0>)\n"
     ]
    },
    {
     "name": "stderr",
     "output_type": "stream",
     "text": [
      "\r",
      "  1%|▉                                                                                                                                                        | 624/100000 [11:54:13<1815:01:54, 65.75s/it]"
     ]
    },
    {
     "name": "stdout",
     "output_type": "stream",
     "text": [
      "tensor(164.7117, grad_fn=<SumBackward0>)\n"
     ]
    },
    {
     "name": "stderr",
     "output_type": "stream",
     "text": [
      "\r",
      "  1%|▉                                                                                                                                                        | 625/100000 [11:55:18<1806:14:31, 65.43s/it]"
     ]
    },
    {
     "name": "stdout",
     "output_type": "stream",
     "text": [
      "tensor(164.7117, grad_fn=<SumBackward0>)\n"
     ]
    },
    {
     "name": "stderr",
     "output_type": "stream",
     "text": [
      "\r",
      "  1%|▉                                                                                                                                                        | 626/100000 [11:56:26<1831:12:26, 66.34s/it]"
     ]
    },
    {
     "name": "stdout",
     "output_type": "stream",
     "text": [
      "tensor(164.7117, grad_fn=<SumBackward0>)\n"
     ]
    },
    {
     "name": "stderr",
     "output_type": "stream",
     "text": [
      "\r",
      "  1%|▉                                                                                                                                                        | 627/100000 [11:57:33<1837:18:28, 66.56s/it]"
     ]
    },
    {
     "name": "stdout",
     "output_type": "stream",
     "text": [
      "tensor(164.7117, grad_fn=<SumBackward0>)\n"
     ]
    },
    {
     "name": "stderr",
     "output_type": "stream",
     "text": [
      "\r",
      "  1%|▉                                                                                                                                                        | 628/100000 [11:58:29<1745:57:49, 63.25s/it]"
     ]
    },
    {
     "name": "stdout",
     "output_type": "stream",
     "text": [
      "tensor(164.7117, grad_fn=<SumBackward0>)\n"
     ]
    },
    {
     "name": "stderr",
     "output_type": "stream",
     "text": [
      "\r",
      "  1%|▉                                                                                                                                                        | 629/100000 [11:59:31<1735:05:31, 62.86s/it]"
     ]
    },
    {
     "name": "stdout",
     "output_type": "stream",
     "text": [
      "tensor(164.7117, grad_fn=<SumBackward0>)\n"
     ]
    },
    {
     "name": "stderr",
     "output_type": "stream",
     "text": [
      "\r",
      "  1%|▉                                                                                                                                                        | 630/100000 [12:00:26<1673:46:29, 60.64s/it]"
     ]
    },
    {
     "name": "stdout",
     "output_type": "stream",
     "text": [
      "tensor(164.7117, grad_fn=<SumBackward0>)\n"
     ]
    },
    {
     "name": "stderr",
     "output_type": "stream",
     "text": [
      "\r",
      "  1%|▉                                                                                                                                                        | 631/100000 [12:01:40<1786:16:59, 64.71s/it]"
     ]
    },
    {
     "name": "stdout",
     "output_type": "stream",
     "text": [
      "tensor(164.7117, grad_fn=<SumBackward0>)\n"
     ]
    },
    {
     "name": "stderr",
     "output_type": "stream",
     "text": [
      "\r",
      "  1%|▉                                                                                                                                                        | 632/100000 [12:02:50<1831:55:53, 66.37s/it]"
     ]
    },
    {
     "name": "stdout",
     "output_type": "stream",
     "text": [
      "tensor(164.7117, grad_fn=<SumBackward0>)\n"
     ]
    },
    {
     "name": "stderr",
     "output_type": "stream",
     "text": [
      "\r",
      "  1%|▉                                                                                                                                                        | 633/100000 [12:03:58<1843:58:51, 66.81s/it]"
     ]
    },
    {
     "name": "stdout",
     "output_type": "stream",
     "text": [
      "tensor(164.7117, grad_fn=<SumBackward0>)\n"
     ]
    },
    {
     "name": "stderr",
     "output_type": "stream",
     "text": [
      "\r",
      "  1%|▉                                                                                                                                                        | 634/100000 [12:05:05<1845:14:27, 66.85s/it]"
     ]
    },
    {
     "name": "stdout",
     "output_type": "stream",
     "text": [
      "tensor(164.7117, grad_fn=<SumBackward0>)\n"
     ]
    },
    {
     "name": "stderr",
     "output_type": "stream",
     "text": [
      "\r",
      "  1%|▉                                                                                                                                                        | 635/100000 [12:05:52<1679:52:53, 60.86s/it]"
     ]
    },
    {
     "name": "stdout",
     "output_type": "stream",
     "text": [
      "tensor(164.7117, grad_fn=<SumBackward0>)\n"
     ]
    },
    {
     "name": "stderr",
     "output_type": "stream",
     "text": [
      "\r",
      "  1%|▉                                                                                                                                                        | 636/100000 [12:06:49<1651:01:06, 59.82s/it]"
     ]
    },
    {
     "name": "stdout",
     "output_type": "stream",
     "text": [
      "tensor(164.7117, grad_fn=<SumBackward0>)\n"
     ]
    },
    {
     "name": "stderr",
     "output_type": "stream",
     "text": [
      "\r",
      "  1%|▉                                                                                                                                                        | 637/100000 [12:07:53<1678:39:00, 60.82s/it]"
     ]
    },
    {
     "name": "stdout",
     "output_type": "stream",
     "text": [
      "tensor(164.7117, grad_fn=<SumBackward0>)\n"
     ]
    },
    {
     "name": "stderr",
     "output_type": "stream",
     "text": [
      "\r",
      "  1%|▉                                                                                                                                                        | 638/100000 [12:08:58<1713:24:29, 62.08s/it]"
     ]
    },
    {
     "name": "stdout",
     "output_type": "stream",
     "text": [
      "tensor(164.7117, grad_fn=<SumBackward0>)\n"
     ]
    },
    {
     "name": "stderr",
     "output_type": "stream",
     "text": [
      "\r",
      "  1%|▉                                                                                                                                                        | 639/100000 [12:10:11<1805:35:45, 65.42s/it]"
     ]
    },
    {
     "name": "stdout",
     "output_type": "stream",
     "text": [
      "tensor(164.7117, grad_fn=<SumBackward0>)\n"
     ]
    },
    {
     "name": "stderr",
     "output_type": "stream",
     "text": [
      "\r",
      "  1%|▉                                                                                                                                                        | 640/100000 [12:11:15<1797:48:49, 65.14s/it]"
     ]
    },
    {
     "name": "stdout",
     "output_type": "stream",
     "text": [
      "tensor(164.7117, grad_fn=<SumBackward0>)\n"
     ]
    },
    {
     "name": "stderr",
     "output_type": "stream",
     "text": [
      "\r",
      "  1%|▉                                                                                                                                                        | 641/100000 [12:12:22<1810:09:08, 65.59s/it]"
     ]
    },
    {
     "name": "stdout",
     "output_type": "stream",
     "text": [
      "tensor(164.7117, grad_fn=<SumBackward0>)\n"
     ]
    },
    {
     "name": "stderr",
     "output_type": "stream",
     "text": [
      "\r",
      "  1%|▉                                                                                                                                                        | 642/100000 [12:13:21<1755:30:09, 63.61s/it]"
     ]
    },
    {
     "name": "stdout",
     "output_type": "stream",
     "text": [
      "tensor(164.7117, grad_fn=<SumBackward0>)\n"
     ]
    },
    {
     "name": "stderr",
     "output_type": "stream",
     "text": [
      "\r",
      "  1%|▉                                                                                                                                                        | 643/100000 [12:14:25<1757:43:11, 63.69s/it]"
     ]
    },
    {
     "name": "stdout",
     "output_type": "stream",
     "text": [
      "tensor(164.7117, grad_fn=<SumBackward0>)\n"
     ]
    },
    {
     "name": "stderr",
     "output_type": "stream",
     "text": [
      "\r",
      "  1%|▉                                                                                                                                                        | 644/100000 [12:15:27<1747:13:04, 63.31s/it]"
     ]
    },
    {
     "name": "stdout",
     "output_type": "stream",
     "text": [
      "tensor(164.7117, grad_fn=<SumBackward0>)\n"
     ]
    },
    {
     "name": "stderr",
     "output_type": "stream",
     "text": [
      "\r",
      "  1%|▉                                                                                                                                                        | 645/100000 [12:16:19<1648:52:41, 59.74s/it]"
     ]
    },
    {
     "name": "stdout",
     "output_type": "stream",
     "text": [
      "tensor(164.7117, grad_fn=<SumBackward0>)\n"
     ]
    },
    {
     "name": "stderr",
     "output_type": "stream",
     "text": [
      "\r",
      "  1%|▉                                                                                                                                                        | 646/100000 [12:17:22<1678:21:56, 60.81s/it]"
     ]
    },
    {
     "name": "stdout",
     "output_type": "stream",
     "text": [
      "tensor(164.7117, grad_fn=<SumBackward0>)\n"
     ]
    },
    {
     "name": "stderr",
     "output_type": "stream",
     "text": [
      "\r",
      "  1%|▉                                                                                                                                                        | 647/100000 [12:18:24<1688:05:30, 61.17s/it]"
     ]
    },
    {
     "name": "stdout",
     "output_type": "stream",
     "text": [
      "tensor(164.7117, grad_fn=<SumBackward0>)\n"
     ]
    },
    {
     "name": "stderr",
     "output_type": "stream",
     "text": [
      "\r",
      "  1%|▉                                                                                                                                                        | 648/100000 [12:19:41<1815:22:36, 65.78s/it]"
     ]
    },
    {
     "name": "stdout",
     "output_type": "stream",
     "text": [
      "tensor(164.7117, grad_fn=<SumBackward0>)\n"
     ]
    },
    {
     "name": "stderr",
     "output_type": "stream",
     "text": [
      "\r",
      "  1%|▉                                                                                                                                                        | 649/100000 [12:20:34<1716:04:26, 62.18s/it]"
     ]
    },
    {
     "name": "stdout",
     "output_type": "stream",
     "text": [
      "tensor(164.7117, grad_fn=<SumBackward0>)\n"
     ]
    },
    {
     "name": "stderr",
     "output_type": "stream",
     "text": [
      "\r",
      "  1%|▉                                                                                                                                                        | 650/100000 [12:21:32<1678:11:39, 60.81s/it]"
     ]
    },
    {
     "name": "stdout",
     "output_type": "stream",
     "text": [
      "tensor(164.7117, grad_fn=<SumBackward0>)\n"
     ]
    },
    {
     "name": "stderr",
     "output_type": "stream",
     "text": [
      "\r",
      "  1%|▉                                                                                                                                                        | 651/100000 [12:22:38<1723:53:49, 62.47s/it]"
     ]
    },
    {
     "name": "stdout",
     "output_type": "stream",
     "text": [
      "tensor(164.7117, grad_fn=<SumBackward0>)\n"
     ]
    },
    {
     "name": "stderr",
     "output_type": "stream",
     "text": [
      "\r",
      "  1%|▉                                                                                                                                                        | 652/100000 [12:23:38<1701:41:26, 61.66s/it]"
     ]
    },
    {
     "name": "stdout",
     "output_type": "stream",
     "text": [
      "tensor(164.7117, grad_fn=<SumBackward0>)\n"
     ]
    },
    {
     "name": "stderr",
     "output_type": "stream",
     "text": [
      "\r",
      "  1%|▉                                                                                                                                                        | 653/100000 [12:24:43<1732:26:21, 62.78s/it]"
     ]
    },
    {
     "name": "stdout",
     "output_type": "stream",
     "text": [
      "tensor(164.7117, grad_fn=<SumBackward0>)\n"
     ]
    },
    {
     "name": "stderr",
     "output_type": "stream",
     "text": [
      "\r",
      "  1%|█                                                                                                                                                        | 654/100000 [12:25:43<1704:54:54, 61.78s/it]"
     ]
    },
    {
     "name": "stdout",
     "output_type": "stream",
     "text": [
      "tensor(164.7117, grad_fn=<SumBackward0>)\n"
     ]
    },
    {
     "name": "stderr",
     "output_type": "stream",
     "text": [
      "\r",
      "  1%|█                                                                                                                                                        | 655/100000 [12:26:31<1587:57:52, 57.54s/it]"
     ]
    },
    {
     "name": "stdout",
     "output_type": "stream",
     "text": [
      "tensor(164.7117, grad_fn=<SumBackward0>)\n"
     ]
    },
    {
     "name": "stderr",
     "output_type": "stream",
     "text": [
      "\r",
      "  1%|█                                                                                                                                                        | 656/100000 [12:27:39<1681:31:54, 60.93s/it]"
     ]
    },
    {
     "name": "stdout",
     "output_type": "stream",
     "text": [
      "tensor(164.7117, grad_fn=<SumBackward0>)\n"
     ]
    },
    {
     "name": "stderr",
     "output_type": "stream",
     "text": [
      "\r",
      "  1%|█                                                                                                                                                        | 657/100000 [12:28:31<1606:49:44, 58.23s/it]"
     ]
    },
    {
     "name": "stdout",
     "output_type": "stream",
     "text": [
      "tensor(164.7117, grad_fn=<SumBackward0>)\n"
     ]
    },
    {
     "name": "stderr",
     "output_type": "stream",
     "text": [
      "\r",
      "  1%|█                                                                                                                                                        | 658/100000 [12:29:39<1684:49:44, 61.06s/it]"
     ]
    },
    {
     "name": "stdout",
     "output_type": "stream",
     "text": [
      "tensor(164.7117, grad_fn=<SumBackward0>)\n"
     ]
    },
    {
     "name": "stderr",
     "output_type": "stream",
     "text": [
      "\r",
      "  1%|█                                                                                                                                                        | 659/100000 [12:30:40<1688:33:59, 61.19s/it]"
     ]
    },
    {
     "name": "stdout",
     "output_type": "stream",
     "text": [
      "tensor(164.7117, grad_fn=<SumBackward0>)\n"
     ]
    },
    {
     "name": "stderr",
     "output_type": "stream",
     "text": [
      "\r",
      "  1%|█                                                                                                                                                        | 660/100000 [12:31:49<1750:37:48, 63.44s/it]"
     ]
    },
    {
     "name": "stdout",
     "output_type": "stream",
     "text": [
      "tensor(164.7117, grad_fn=<SumBackward0>)\n"
     ]
    },
    {
     "name": "stderr",
     "output_type": "stream",
     "text": [
      "\r",
      "  1%|█                                                                                                                                                        | 661/100000 [12:32:59<1802:43:46, 65.33s/it]"
     ]
    },
    {
     "name": "stdout",
     "output_type": "stream",
     "text": [
      "tensor(164.7117, grad_fn=<SumBackward0>)\n"
     ]
    },
    {
     "name": "stderr",
     "output_type": "stream",
     "text": [
      "\r",
      "  1%|█                                                                                                                                                        | 662/100000 [12:34:08<1832:46:14, 66.42s/it]"
     ]
    },
    {
     "name": "stdout",
     "output_type": "stream",
     "text": [
      "tensor(164.7117, grad_fn=<SumBackward0>)\n"
     ]
    },
    {
     "name": "stderr",
     "output_type": "stream",
     "text": [
      "\r",
      "  1%|█                                                                                                                                                        | 663/100000 [12:35:11<1803:33:58, 65.36s/it]"
     ]
    },
    {
     "name": "stdout",
     "output_type": "stream",
     "text": [
      "tensor(164.7117, grad_fn=<SumBackward0>)\n"
     ]
    },
    {
     "name": "stderr",
     "output_type": "stream",
     "text": [
      "\r",
      "  1%|█                                                                                                                                                        | 664/100000 [12:36:06<1723:47:02, 62.47s/it]"
     ]
    },
    {
     "name": "stdout",
     "output_type": "stream",
     "text": [
      "tensor(164.7117, grad_fn=<SumBackward0>)\n"
     ]
    },
    {
     "name": "stderr",
     "output_type": "stream",
     "text": [
      "\r",
      "  1%|█                                                                                                                                                        | 665/100000 [12:37:10<1733:20:38, 62.82s/it]"
     ]
    },
    {
     "name": "stdout",
     "output_type": "stream",
     "text": [
      "tensor(164.7117, grad_fn=<SumBackward0>)\n"
     ]
    },
    {
     "name": "stderr",
     "output_type": "stream",
     "text": [
      "\r",
      "  1%|█                                                                                                                                                        | 666/100000 [12:38:01<1635:38:14, 59.28s/it]"
     ]
    },
    {
     "name": "stdout",
     "output_type": "stream",
     "text": [
      "tensor(164.7117, grad_fn=<SumBackward0>)\n"
     ]
    },
    {
     "name": "stderr",
     "output_type": "stream",
     "text": [
      "\r",
      "  1%|█                                                                                                                                                        | 667/100000 [12:39:12<1733:02:57, 62.81s/it]"
     ]
    },
    {
     "name": "stdout",
     "output_type": "stream",
     "text": [
      "tensor(164.7117, grad_fn=<SumBackward0>)\n"
     ]
    },
    {
     "name": "stderr",
     "output_type": "stream",
     "text": [
      "\r",
      "  1%|█                                                                                                                                                        | 668/100000 [12:40:24<1803:50:05, 65.37s/it]"
     ]
    },
    {
     "name": "stdout",
     "output_type": "stream",
     "text": [
      "tensor(164.7117, grad_fn=<SumBackward0>)\n"
     ]
    },
    {
     "name": "stderr",
     "output_type": "stream",
     "text": [
      "\r",
      "  1%|█                                                                                                                                                        | 669/100000 [12:41:28<1793:07:52, 64.99s/it]"
     ]
    },
    {
     "name": "stdout",
     "output_type": "stream",
     "text": [
      "tensor(164.7117, grad_fn=<SumBackward0>)\n"
     ]
    },
    {
     "name": "stderr",
     "output_type": "stream",
     "text": [
      "\r",
      "  1%|█                                                                                                                                                        | 670/100000 [12:42:38<1836:01:39, 66.54s/it]"
     ]
    },
    {
     "name": "stdout",
     "output_type": "stream",
     "text": [
      "tensor(164.7117, grad_fn=<SumBackward0>)\n"
     ]
    },
    {
     "name": "stderr",
     "output_type": "stream",
     "text": [
      "\r",
      "  1%|█                                                                                                                                                        | 671/100000 [12:43:32<1730:36:54, 62.72s/it]"
     ]
    },
    {
     "name": "stdout",
     "output_type": "stream",
     "text": [
      "tensor(164.7117, grad_fn=<SumBackward0>)\n"
     ]
    },
    {
     "name": "stderr",
     "output_type": "stream",
     "text": [
      "\r",
      "  1%|█                                                                                                                                                        | 672/100000 [12:44:42<1790:32:07, 64.90s/it]"
     ]
    },
    {
     "name": "stdout",
     "output_type": "stream",
     "text": [
      "tensor(164.7117, grad_fn=<SumBackward0>)\n"
     ]
    },
    {
     "name": "stderr",
     "output_type": "stream",
     "text": [
      "\r",
      "  1%|█                                                                                                                                                        | 673/100000 [12:45:40<1735:11:27, 62.89s/it]"
     ]
    },
    {
     "name": "stdout",
     "output_type": "stream",
     "text": [
      "tensor(164.7117, grad_fn=<SumBackward0>)\n"
     ]
    },
    {
     "name": "stderr",
     "output_type": "stream",
     "text": [
      "\r",
      "  1%|█                                                                                                                                                        | 674/100000 [12:46:37<1692:01:52, 61.33s/it]"
     ]
    },
    {
     "name": "stdout",
     "output_type": "stream",
     "text": [
      "tensor(164.7117, grad_fn=<SumBackward0>)\n"
     ]
    },
    {
     "name": "stderr",
     "output_type": "stream",
     "text": [
      "\r",
      "  1%|█                                                                                                                                                        | 675/100000 [12:47:40<1704:49:05, 61.79s/it]"
     ]
    },
    {
     "name": "stdout",
     "output_type": "stream",
     "text": [
      "tensor(164.7117, grad_fn=<SumBackward0>)\n"
     ]
    },
    {
     "name": "stderr",
     "output_type": "stream",
     "text": [
      "\r",
      "  1%|█                                                                                                                                                        | 676/100000 [12:48:43<1712:24:00, 62.07s/it]"
     ]
    },
    {
     "name": "stdout",
     "output_type": "stream",
     "text": [
      "tensor(164.7117, grad_fn=<SumBackward0>)\n"
     ]
    },
    {
     "name": "stderr",
     "output_type": "stream",
     "text": [
      "\r",
      "  1%|█                                                                                                                                                        | 677/100000 [12:49:43<1695:08:32, 61.44s/it]"
     ]
    },
    {
     "name": "stdout",
     "output_type": "stream",
     "text": [
      "tensor(164.7117, grad_fn=<SumBackward0>)\n"
     ]
    },
    {
     "name": "stderr",
     "output_type": "stream",
     "text": [
      "\r",
      "  1%|█                                                                                                                                                        | 678/100000 [12:50:50<1738:30:13, 63.01s/it]"
     ]
    },
    {
     "name": "stdout",
     "output_type": "stream",
     "text": [
      "tensor(164.7117, grad_fn=<SumBackward0>)\n"
     ]
    },
    {
     "name": "stderr",
     "output_type": "stream",
     "text": [
      "\r",
      "  1%|█                                                                                                                                                        | 679/100000 [12:51:52<1731:25:45, 62.76s/it]"
     ]
    },
    {
     "name": "stdout",
     "output_type": "stream",
     "text": [
      "tensor(164.7117, grad_fn=<SumBackward0>)\n"
     ]
    },
    {
     "name": "stderr",
     "output_type": "stream",
     "text": [
      "\r",
      "  1%|█                                                                                                                                                        | 680/100000 [12:53:02<1794:35:32, 65.05s/it]"
     ]
    },
    {
     "name": "stdout",
     "output_type": "stream",
     "text": [
      "tensor(164.7117, grad_fn=<SumBackward0>)\n"
     ]
    },
    {
     "name": "stderr",
     "output_type": "stream",
     "text": [
      "\r",
      "  1%|█                                                                                                                                                        | 681/100000 [12:54:06<1786:27:33, 64.75s/it]"
     ]
    },
    {
     "name": "stdout",
     "output_type": "stream",
     "text": [
      "tensor(164.7117, grad_fn=<SumBackward0>)\n"
     ]
    },
    {
     "name": "stderr",
     "output_type": "stream",
     "text": [
      "\r",
      "  1%|█                                                                                                                                                        | 682/100000 [12:55:11<1787:01:05, 64.77s/it]"
     ]
    },
    {
     "name": "stdout",
     "output_type": "stream",
     "text": [
      "tensor(164.7117, grad_fn=<SumBackward0>)\n"
     ]
    },
    {
     "name": "stderr",
     "output_type": "stream",
     "text": [
      "\r",
      "  1%|█                                                                                                                                                        | 683/100000 [12:56:15<1775:57:59, 64.37s/it]"
     ]
    },
    {
     "name": "stdout",
     "output_type": "stream",
     "text": [
      "tensor(164.7117, grad_fn=<SumBackward0>)\n"
     ]
    },
    {
     "name": "stderr",
     "output_type": "stream",
     "text": [
      "\r",
      "  1%|█                                                                                                                                                        | 684/100000 [12:57:14<1738:07:50, 63.00s/it]"
     ]
    },
    {
     "name": "stdout",
     "output_type": "stream",
     "text": [
      "tensor(164.7117, grad_fn=<SumBackward0>)\n"
     ]
    },
    {
     "name": "stderr",
     "output_type": "stream",
     "text": [
      "\r",
      "  1%|█                                                                                                                                                        | 685/100000 [12:58:13<1705:22:04, 61.82s/it]"
     ]
    },
    {
     "name": "stdout",
     "output_type": "stream",
     "text": [
      "tensor(164.7117, grad_fn=<SumBackward0>)\n"
     ]
    },
    {
     "name": "stderr",
     "output_type": "stream",
     "text": [
      "\r",
      "  1%|█                                                                                                                                                        | 686/100000 [12:59:10<1664:59:04, 60.35s/it]"
     ]
    },
    {
     "name": "stdout",
     "output_type": "stream",
     "text": [
      "tensor(164.7117, grad_fn=<SumBackward0>)\n"
     ]
    },
    {
     "name": "stderr",
     "output_type": "stream",
     "text": [
      "\r",
      "  1%|█                                                                                                                                                        | 687/100000 [13:00:04<1607:46:48, 58.28s/it]"
     ]
    },
    {
     "name": "stdout",
     "output_type": "stream",
     "text": [
      "tensor(164.7117, grad_fn=<SumBackward0>)\n"
     ]
    },
    {
     "name": "stderr",
     "output_type": "stream",
     "text": [
      "\r",
      "  1%|█                                                                                                                                                        | 688/100000 [13:01:02<1610:34:47, 58.38s/it]"
     ]
    },
    {
     "name": "stdout",
     "output_type": "stream",
     "text": [
      "tensor(164.7117, grad_fn=<SumBackward0>)\n"
     ]
    },
    {
     "name": "stderr",
     "output_type": "stream",
     "text": [
      "\r",
      "  1%|█                                                                                                                                                        | 689/100000 [13:02:04<1637:25:40, 59.36s/it]"
     ]
    },
    {
     "name": "stdout",
     "output_type": "stream",
     "text": [
      "tensor(164.7117, grad_fn=<SumBackward0>)\n"
     ]
    },
    {
     "name": "stderr",
     "output_type": "stream",
     "text": [
      "\r",
      "  1%|█                                                                                                                                                        | 690/100000 [13:03:10<1687:59:24, 61.19s/it]"
     ]
    },
    {
     "name": "stdout",
     "output_type": "stream",
     "text": [
      "tensor(164.7117, grad_fn=<SumBackward0>)\n"
     ]
    },
    {
     "name": "stderr",
     "output_type": "stream",
     "text": [
      "\r",
      "  1%|█                                                                                                                                                        | 691/100000 [13:04:15<1723:29:16, 62.48s/it]"
     ]
    },
    {
     "name": "stdout",
     "output_type": "stream",
     "text": [
      "tensor(164.7117, grad_fn=<SumBackward0>)\n"
     ]
    },
    {
     "name": "stderr",
     "output_type": "stream",
     "text": [
      "\r",
      "  1%|█                                                                                                                                                        | 692/100000 [13:05:28<1809:34:28, 65.60s/it]"
     ]
    },
    {
     "name": "stdout",
     "output_type": "stream",
     "text": [
      "tensor(164.7117, grad_fn=<SumBackward0>)\n"
     ]
    },
    {
     "name": "stderr",
     "output_type": "stream",
     "text": [
      "\r",
      "  1%|█                                                                                                                                                        | 693/100000 [13:06:21<1709:16:24, 61.96s/it]"
     ]
    },
    {
     "name": "stdout",
     "output_type": "stream",
     "text": [
      "tensor(164.7117, grad_fn=<SumBackward0>)\n"
     ]
    },
    {
     "name": "stderr",
     "output_type": "stream",
     "text": [
      "\r",
      "  1%|█                                                                                                                                                        | 694/100000 [13:07:23<1708:50:52, 61.95s/it]"
     ]
    },
    {
     "name": "stdout",
     "output_type": "stream",
     "text": [
      "tensor(164.7117, grad_fn=<SumBackward0>)\n"
     ]
    },
    {
     "name": "stderr",
     "output_type": "stream",
     "text": [
      "\r",
      "  1%|█                                                                                                                                                        | 695/100000 [13:08:30<1749:27:31, 63.42s/it]"
     ]
    },
    {
     "name": "stdout",
     "output_type": "stream",
     "text": [
      "tensor(164.7117, grad_fn=<SumBackward0>)\n"
     ]
    },
    {
     "name": "stderr",
     "output_type": "stream",
     "text": [
      "\r",
      "  1%|█                                                                                                                                                        | 696/100000 [13:09:28<1700:53:24, 61.66s/it]"
     ]
    },
    {
     "name": "stdout",
     "output_type": "stream",
     "text": [
      "tensor(164.7117, grad_fn=<SumBackward0>)\n"
     ]
    },
    {
     "name": "stderr",
     "output_type": "stream",
     "text": [
      "\r",
      "  1%|█                                                                                                                                                        | 697/100000 [13:10:32<1723:54:46, 62.50s/it]"
     ]
    },
    {
     "name": "stdout",
     "output_type": "stream",
     "text": [
      "tensor(164.7117, grad_fn=<SumBackward0>)\n"
     ]
    },
    {
     "name": "stderr",
     "output_type": "stream",
     "text": [
      "\r",
      "  1%|█                                                                                                                                                        | 698/100000 [13:11:33<1707:04:40, 61.89s/it]"
     ]
    },
    {
     "name": "stdout",
     "output_type": "stream",
     "text": [
      "tensor(164.7117, grad_fn=<SumBackward0>)\n"
     ]
    },
    {
     "name": "stderr",
     "output_type": "stream",
     "text": [
      "\r",
      "  1%|█                                                                                                                                                        | 699/100000 [13:12:43<1775:39:18, 64.37s/it]"
     ]
    },
    {
     "name": "stdout",
     "output_type": "stream",
     "text": [
      "tensor(164.7117, grad_fn=<SumBackward0>)\n"
     ]
    },
    {
     "name": "stderr",
     "output_type": "stream",
     "text": [
      "\r",
      "  1%|█                                                                                                                                                        | 700/100000 [13:13:41<1723:18:21, 62.48s/it]"
     ]
    },
    {
     "name": "stdout",
     "output_type": "stream",
     "text": [
      "tensor(164.7117, grad_fn=<SumBackward0>)\n"
     ]
    },
    {
     "name": "stderr",
     "output_type": "stream",
     "text": [
      "\r",
      "  1%|█                                                                                                                                                        | 701/100000 [13:14:43<1722:53:51, 62.46s/it]"
     ]
    },
    {
     "name": "stdout",
     "output_type": "stream",
     "text": [
      "tensor(164.7117, grad_fn=<SumBackward0>)\n"
     ]
    },
    {
     "name": "stderr",
     "output_type": "stream",
     "text": [
      "\r",
      "  1%|█                                                                                                                                                        | 702/100000 [13:15:42<1690:21:20, 61.28s/it]"
     ]
    },
    {
     "name": "stdout",
     "output_type": "stream",
     "text": [
      "tensor(164.7117, grad_fn=<SumBackward0>)\n"
     ]
    },
    {
     "name": "stderr",
     "output_type": "stream",
     "text": [
      "\r",
      "  1%|█                                                                                                                                                        | 703/100000 [13:16:43<1688:32:10, 61.22s/it]"
     ]
    },
    {
     "name": "stdout",
     "output_type": "stream",
     "text": [
      "tensor(164.7117, grad_fn=<SumBackward0>)\n"
     ]
    },
    {
     "name": "stderr",
     "output_type": "stream",
     "text": [
      "\r",
      "  1%|█                                                                                                                                                        | 704/100000 [13:17:39<1646:08:21, 59.68s/it]"
     ]
    },
    {
     "name": "stdout",
     "output_type": "stream",
     "text": [
      "tensor(164.7117, grad_fn=<SumBackward0>)\n"
     ]
    },
    {
     "name": "stderr",
     "output_type": "stream",
     "text": [
      "\r",
      "  1%|█                                                                                                                                                        | 705/100000 [13:18:40<1655:47:35, 60.03s/it]"
     ]
    },
    {
     "name": "stdout",
     "output_type": "stream",
     "text": [
      "tensor(164.7117, grad_fn=<SumBackward0>)\n"
     ]
    },
    {
     "name": "stderr",
     "output_type": "stream",
     "text": [
      "\r",
      "  1%|█                                                                                                                                                        | 706/100000 [13:19:42<1677:04:54, 60.80s/it]"
     ]
    },
    {
     "name": "stdout",
     "output_type": "stream",
     "text": [
      "tensor(164.7117, grad_fn=<SumBackward0>)\n"
     ]
    },
    {
     "name": "stderr",
     "output_type": "stream",
     "text": [
      "\r",
      "  1%|█                                                                                                                                                        | 707/100000 [13:20:50<1735:41:00, 62.93s/it]"
     ]
    },
    {
     "name": "stdout",
     "output_type": "stream",
     "text": [
      "tensor(164.7117, grad_fn=<SumBackward0>)\n"
     ]
    },
    {
     "name": "stderr",
     "output_type": "stream",
     "text": [
      "\r",
      "  1%|█                                                                                                                                                        | 708/100000 [13:21:53<1732:44:38, 62.82s/it]"
     ]
    },
    {
     "name": "stdout",
     "output_type": "stream",
     "text": [
      "tensor(164.7117, grad_fn=<SumBackward0>)\n"
     ]
    },
    {
     "name": "stderr",
     "output_type": "stream",
     "text": [
      "\r",
      "  1%|█                                                                                                                                                        | 709/100000 [13:22:43<1630:09:56, 59.11s/it]"
     ]
    },
    {
     "name": "stdout",
     "output_type": "stream",
     "text": [
      "tensor(164.7117, grad_fn=<SumBackward0>)\n"
     ]
    },
    {
     "name": "stderr",
     "output_type": "stream",
     "text": [
      "\r",
      "  1%|█                                                                                                                                                        | 710/100000 [13:23:57<1748:49:02, 63.41s/it]"
     ]
    },
    {
     "name": "stdout",
     "output_type": "stream",
     "text": [
      "tensor(164.7117, grad_fn=<SumBackward0>)\n"
     ]
    },
    {
     "name": "stderr",
     "output_type": "stream",
     "text": [
      "\r",
      "  1%|█                                                                                                                                                        | 711/100000 [13:24:58<1730:11:53, 62.73s/it]"
     ]
    },
    {
     "name": "stdout",
     "output_type": "stream",
     "text": [
      "tensor(164.7117, grad_fn=<SumBackward0>)\n"
     ]
    },
    {
     "name": "stderr",
     "output_type": "stream",
     "text": [
      "\r",
      "  1%|█                                                                                                                                                        | 712/100000 [13:26:08<1793:32:22, 65.03s/it]"
     ]
    },
    {
     "name": "stdout",
     "output_type": "stream",
     "text": [
      "tensor(164.7117, grad_fn=<SumBackward0>)\n"
     ]
    },
    {
     "name": "stderr",
     "output_type": "stream",
     "text": [
      "\r",
      "  1%|█                                                                                                                                                        | 713/100000 [13:27:06<1728:56:07, 62.69s/it]"
     ]
    },
    {
     "name": "stdout",
     "output_type": "stream",
     "text": [
      "tensor(164.7117, grad_fn=<SumBackward0>)\n"
     ]
    },
    {
     "name": "stderr",
     "output_type": "stream",
     "text": [
      "\r",
      "  1%|█                                                                                                                                                        | 714/100000 [13:28:10<1746:35:39, 63.33s/it]"
     ]
    },
    {
     "name": "stdout",
     "output_type": "stream",
     "text": [
      "tensor(164.7117, grad_fn=<SumBackward0>)\n"
     ]
    },
    {
     "name": "stderr",
     "output_type": "stream",
     "text": [
      "\r",
      "  1%|█                                                                                                                                                        | 715/100000 [13:29:12<1735:10:25, 62.92s/it]"
     ]
    },
    {
     "name": "stdout",
     "output_type": "stream",
     "text": [
      "tensor(164.7117, grad_fn=<SumBackward0>)\n"
     ]
    },
    {
     "name": "stderr",
     "output_type": "stream",
     "text": [
      "\r",
      "  1%|█                                                                                                                                                        | 716/100000 [13:30:18<1761:30:21, 63.87s/it]"
     ]
    },
    {
     "name": "stdout",
     "output_type": "stream",
     "text": [
      "tensor(164.7117, grad_fn=<SumBackward0>)\n"
     ]
    },
    {
     "name": "stderr",
     "output_type": "stream",
     "text": [
      "\r",
      "  1%|█                                                                                                                                                        | 717/100000 [13:31:32<1842:59:53, 66.83s/it]"
     ]
    },
    {
     "name": "stdout",
     "output_type": "stream",
     "text": [
      "tensor(164.7117, grad_fn=<SumBackward0>)\n"
     ]
    },
    {
     "name": "stderr",
     "output_type": "stream",
     "text": [
      "\r",
      "  1%|█                                                                                                                                                        | 718/100000 [13:32:43<1876:17:42, 68.04s/it]"
     ]
    },
    {
     "name": "stdout",
     "output_type": "stream",
     "text": [
      "tensor(164.7117, grad_fn=<SumBackward0>)\n"
     ]
    },
    {
     "name": "stderr",
     "output_type": "stream",
     "text": [
      "\r",
      "  1%|█                                                                                                                                                        | 719/100000 [13:33:44<1816:50:27, 65.88s/it]"
     ]
    },
    {
     "name": "stdout",
     "output_type": "stream",
     "text": [
      "tensor(164.7117, grad_fn=<SumBackward0>)\n"
     ]
    },
    {
     "name": "stderr",
     "output_type": "stream",
     "text": [
      "\r",
      "  1%|█                                                                                                                                                        | 720/100000 [13:34:53<1842:33:36, 66.81s/it]"
     ]
    },
    {
     "name": "stdout",
     "output_type": "stream",
     "text": [
      "tensor(164.7117, grad_fn=<SumBackward0>)\n"
     ]
    },
    {
     "name": "stderr",
     "output_type": "stream",
     "text": [
      "\r",
      "  1%|█                                                                                                                                                        | 721/100000 [13:35:59<1839:13:26, 66.69s/it]"
     ]
    },
    {
     "name": "stdout",
     "output_type": "stream",
     "text": [
      "tensor(164.7117, grad_fn=<SumBackward0>)\n"
     ]
    },
    {
     "name": "stderr",
     "output_type": "stream",
     "text": [
      "\r",
      "  1%|█                                                                                                                                                        | 722/100000 [13:37:11<1877:27:19, 68.08s/it]"
     ]
    },
    {
     "name": "stdout",
     "output_type": "stream",
     "text": [
      "tensor(164.7117, grad_fn=<SumBackward0>)\n"
     ]
    },
    {
     "name": "stderr",
     "output_type": "stream",
     "text": [
      "\r",
      "  1%|█                                                                                                                                                        | 723/100000 [13:38:10<1804:33:15, 65.44s/it]"
     ]
    },
    {
     "name": "stdout",
     "output_type": "stream",
     "text": [
      "tensor(164.7117, grad_fn=<SumBackward0>)\n"
     ]
    },
    {
     "name": "stderr",
     "output_type": "stream",
     "text": [
      "\r",
      "  1%|█                                                                                                                                                        | 724/100000 [13:39:20<1839:50:23, 66.72s/it]"
     ]
    },
    {
     "name": "stdout",
     "output_type": "stream",
     "text": [
      "tensor(164.7117, grad_fn=<SumBackward0>)\n"
     ]
    },
    {
     "name": "stderr",
     "output_type": "stream",
     "text": [
      "\r",
      "  1%|█                                                                                                                                                        | 725/100000 [13:40:26<1838:03:23, 66.65s/it]"
     ]
    },
    {
     "name": "stdout",
     "output_type": "stream",
     "text": [
      "tensor(164.7117, grad_fn=<SumBackward0>)\n"
     ]
    },
    {
     "name": "stderr",
     "output_type": "stream",
     "text": [
      "\r",
      "  1%|█                                                                                                                                                        | 726/100000 [13:41:31<1823:01:59, 66.11s/it]"
     ]
    },
    {
     "name": "stdout",
     "output_type": "stream",
     "text": [
      "tensor(164.7117, grad_fn=<SumBackward0>)\n"
     ]
    },
    {
     "name": "stderr",
     "output_type": "stream",
     "text": [
      "\r",
      "  1%|█                                                                                                                                                        | 727/100000 [13:42:36<1810:37:20, 65.66s/it]"
     ]
    },
    {
     "name": "stdout",
     "output_type": "stream",
     "text": [
      "tensor(164.7117, grad_fn=<SumBackward0>)\n"
     ]
    },
    {
     "name": "stderr",
     "output_type": "stream",
     "text": [
      "\r",
      "  1%|█                                                                                                                                                        | 728/100000 [13:43:44<1837:07:44, 66.62s/it]"
     ]
    },
    {
     "name": "stdout",
     "output_type": "stream",
     "text": [
      "tensor(164.7117, grad_fn=<SumBackward0>)\n"
     ]
    },
    {
     "name": "stderr",
     "output_type": "stream",
     "text": [
      "\r",
      "  1%|█                                                                                                                                                        | 729/100000 [13:44:53<1854:29:10, 67.25s/it]"
     ]
    },
    {
     "name": "stdout",
     "output_type": "stream",
     "text": [
      "tensor(164.7117, grad_fn=<SumBackward0>)\n"
     ]
    },
    {
     "name": "stderr",
     "output_type": "stream",
     "text": [
      "\r",
      "  1%|█                                                                                                                                                        | 730/100000 [13:46:04<1881:49:17, 68.24s/it]"
     ]
    },
    {
     "name": "stdout",
     "output_type": "stream",
     "text": [
      "tensor(164.7117, grad_fn=<SumBackward0>)\n"
     ]
    },
    {
     "name": "stderr",
     "output_type": "stream",
     "text": [
      "\r",
      "  1%|█                                                                                                                                                        | 731/100000 [13:47:10<1866:32:51, 67.69s/it]"
     ]
    },
    {
     "name": "stdout",
     "output_type": "stream",
     "text": [
      "tensor(164.7117, grad_fn=<SumBackward0>)\n"
     ]
    },
    {
     "name": "stderr",
     "output_type": "stream",
     "text": [
      "\r",
      "  1%|█                                                                                                                                                        | 732/100000 [13:48:01<1727:09:21, 62.64s/it]"
     ]
    },
    {
     "name": "stdout",
     "output_type": "stream",
     "text": [
      "tensor(164.7117, grad_fn=<SumBackward0>)\n"
     ]
    },
    {
     "name": "stderr",
     "output_type": "stream",
     "text": [
      "\r",
      "  1%|█                                                                                                                                                        | 733/100000 [13:49:10<1777:12:47, 64.45s/it]"
     ]
    },
    {
     "name": "stdout",
     "output_type": "stream",
     "text": [
      "tensor(164.7117, grad_fn=<SumBackward0>)\n"
     ]
    },
    {
     "name": "stderr",
     "output_type": "stream",
     "text": [
      "\r",
      "  1%|█                                                                                                                                                        | 734/100000 [13:50:00<1665:01:34, 60.38s/it]"
     ]
    },
    {
     "name": "stdout",
     "output_type": "stream",
     "text": [
      "tensor(164.7117, grad_fn=<SumBackward0>)\n"
     ]
    },
    {
     "name": "stderr",
     "output_type": "stream",
     "text": [
      "\r",
      "  1%|█                                                                                                                                                        | 735/100000 [13:51:01<1662:01:12, 60.28s/it]"
     ]
    },
    {
     "name": "stdout",
     "output_type": "stream",
     "text": [
      "tensor(164.7117, grad_fn=<SumBackward0>)\n"
     ]
    },
    {
     "name": "stderr",
     "output_type": "stream",
     "text": [
      "\r",
      "  1%|█▏                                                                                                                                                       | 736/100000 [13:52:01<1663:32:51, 60.33s/it]"
     ]
    },
    {
     "name": "stdout",
     "output_type": "stream",
     "text": [
      "tensor(164.7117, grad_fn=<SumBackward0>)\n"
     ]
    },
    {
     "name": "stderr",
     "output_type": "stream",
     "text": [
      "\r",
      "  1%|█▏                                                                                                                                                       | 737/100000 [13:53:11<1740:27:23, 63.12s/it]"
     ]
    },
    {
     "name": "stdout",
     "output_type": "stream",
     "text": [
      "tensor(164.7117, grad_fn=<SumBackward0>)\n"
     ]
    },
    {
     "name": "stderr",
     "output_type": "stream",
     "text": [
      "\r",
      "  1%|█▏                                                                                                                                                       | 738/100000 [13:53:53<1569:36:27, 56.93s/it]"
     ]
    },
    {
     "name": "stdout",
     "output_type": "stream",
     "text": [
      "tensor(164.7117, grad_fn=<SumBackward0>)\n"
     ]
    },
    {
     "name": "stderr",
     "output_type": "stream",
     "text": [
      "\r",
      "  1%|█▏                                                                                                                                                       | 739/100000 [13:54:57<1626:09:01, 58.98s/it]"
     ]
    },
    {
     "name": "stdout",
     "output_type": "stream",
     "text": [
      "tensor(164.7117, grad_fn=<SumBackward0>)\n"
     ]
    },
    {
     "name": "stderr",
     "output_type": "stream",
     "text": [
      "\r",
      "  1%|█▏                                                                                                                                                       | 740/100000 [13:56:12<1756:36:30, 63.71s/it]"
     ]
    },
    {
     "name": "stdout",
     "output_type": "stream",
     "text": [
      "tensor(164.7117, grad_fn=<SumBackward0>)\n"
     ]
    },
    {
     "name": "stderr",
     "output_type": "stream",
     "text": [
      "\r",
      "  1%|█▏                                                                                                                                                       | 741/100000 [13:57:24<1830:43:08, 66.40s/it]"
     ]
    },
    {
     "name": "stdout",
     "output_type": "stream",
     "text": [
      "tensor(164.7117, grad_fn=<SumBackward0>)\n"
     ]
    },
    {
     "name": "stderr",
     "output_type": "stream",
     "text": [
      "\r",
      "  1%|█▏                                                                                                                                                       | 742/100000 [13:58:29<1819:02:36, 65.98s/it]"
     ]
    },
    {
     "name": "stdout",
     "output_type": "stream",
     "text": [
      "tensor(164.7117, grad_fn=<SumBackward0>)\n"
     ]
    },
    {
     "name": "stderr",
     "output_type": "stream",
     "text": [
      "\r",
      "  1%|█▏                                                                                                                                                       | 743/100000 [13:59:34<1813:00:39, 65.76s/it]"
     ]
    },
    {
     "name": "stdout",
     "output_type": "stream",
     "text": [
      "tensor(164.7117, grad_fn=<SumBackward0>)\n"
     ]
    },
    {
     "name": "stderr",
     "output_type": "stream",
     "text": [
      "\r",
      "  1%|█▏                                                                                                                                                       | 744/100000 [14:00:46<1859:26:54, 67.44s/it]"
     ]
    },
    {
     "name": "stdout",
     "output_type": "stream",
     "text": [
      "tensor(164.7117, grad_fn=<SumBackward0>)\n"
     ]
    },
    {
     "name": "stderr",
     "output_type": "stream",
     "text": [
      "\r",
      "  1%|█▏                                                                                                                                                       | 745/100000 [14:01:40<1750:20:15, 63.49s/it]"
     ]
    },
    {
     "name": "stdout",
     "output_type": "stream",
     "text": [
      "tensor(164.7117, grad_fn=<SumBackward0>)\n"
     ]
    },
    {
     "name": "stderr",
     "output_type": "stream",
     "text": [
      "\r",
      "  1%|█▏                                                                                                                                                       | 746/100000 [14:02:32<1658:03:06, 60.14s/it]"
     ]
    },
    {
     "name": "stdout",
     "output_type": "stream",
     "text": [
      "tensor(164.7117, grad_fn=<SumBackward0>)\n"
     ]
    },
    {
     "name": "stderr",
     "output_type": "stream",
     "text": [
      "\r",
      "  1%|█▏                                                                                                                                                       | 747/100000 [14:03:28<1622:09:38, 58.84s/it]"
     ]
    },
    {
     "name": "stdout",
     "output_type": "stream",
     "text": [
      "tensor(164.7117, grad_fn=<SumBackward0>)\n"
     ]
    },
    {
     "name": "stderr",
     "output_type": "stream",
     "text": [
      "\r",
      "  1%|█▏                                                                                                                                                       | 748/100000 [14:04:33<1669:57:54, 60.57s/it]"
     ]
    },
    {
     "name": "stdout",
     "output_type": "stream",
     "text": [
      "tensor(164.7117, grad_fn=<SumBackward0>)\n"
     ]
    },
    {
     "name": "stderr",
     "output_type": "stream",
     "text": [
      "\r",
      "  1%|█▏                                                                                                                                                       | 749/100000 [14:05:28<1621:51:25, 58.83s/it]"
     ]
    },
    {
     "name": "stdout",
     "output_type": "stream",
     "text": [
      "tensor(164.7117, grad_fn=<SumBackward0>)\n"
     ]
    },
    {
     "name": "stderr",
     "output_type": "stream",
     "text": [
      "\r",
      "  1%|█▏                                                                                                                                                       | 750/100000 [14:06:36<1698:39:23, 61.61s/it]"
     ]
    },
    {
     "name": "stdout",
     "output_type": "stream",
     "text": [
      "tensor(164.7117, grad_fn=<SumBackward0>)\n"
     ]
    },
    {
     "name": "stderr",
     "output_type": "stream",
     "text": [
      "\r",
      "  1%|█▏                                                                                                                                                       | 751/100000 [14:07:28<1620:50:23, 58.79s/it]"
     ]
    },
    {
     "name": "stdout",
     "output_type": "stream",
     "text": [
      "tensor(164.7117, grad_fn=<SumBackward0>)\n"
     ]
    },
    {
     "name": "stderr",
     "output_type": "stream",
     "text": [
      "\r",
      "  1%|█▏                                                                                                                                                       | 752/100000 [14:08:34<1678:22:06, 60.88s/it]"
     ]
    },
    {
     "name": "stdout",
     "output_type": "stream",
     "text": [
      "tensor(164.7117, grad_fn=<SumBackward0>)\n"
     ]
    },
    {
     "name": "stderr",
     "output_type": "stream",
     "text": [
      "\r",
      "  1%|█▏                                                                                                                                                       | 753/100000 [14:09:35<1681:12:09, 60.98s/it]"
     ]
    },
    {
     "name": "stdout",
     "output_type": "stream",
     "text": [
      "tensor(164.7117, grad_fn=<SumBackward0>)\n"
     ]
    },
    {
     "name": "stderr",
     "output_type": "stream",
     "text": [
      "\r",
      "  1%|█▏                                                                                                                                                       | 754/100000 [14:10:45<1758:28:32, 63.79s/it]"
     ]
    },
    {
     "name": "stdout",
     "output_type": "stream",
     "text": [
      "tensor(164.7117, grad_fn=<SumBackward0>)\n"
     ]
    },
    {
     "name": "stderr",
     "output_type": "stream",
     "text": [
      "\r",
      "  1%|█▏                                                                                                                                                       | 755/100000 [14:11:44<1714:50:08, 62.20s/it]"
     ]
    },
    {
     "name": "stdout",
     "output_type": "stream",
     "text": [
      "tensor(164.7117, grad_fn=<SumBackward0>)\n"
     ]
    },
    {
     "name": "stderr",
     "output_type": "stream",
     "text": [
      "\r",
      "  1%|█▏                                                                                                                                                       | 756/100000 [14:12:46<1716:30:45, 62.27s/it]"
     ]
    },
    {
     "name": "stdout",
     "output_type": "stream",
     "text": [
      "tensor(164.7117, grad_fn=<SumBackward0>)\n"
     ]
    },
    {
     "name": "stderr",
     "output_type": "stream",
     "text": [
      "\r",
      "  1%|█▏                                                                                                                                                       | 757/100000 [14:13:47<1707:13:57, 61.93s/it]"
     ]
    },
    {
     "name": "stdout",
     "output_type": "stream",
     "text": [
      "tensor(164.7117, grad_fn=<SumBackward0>)\n"
     ]
    },
    {
     "name": "stderr",
     "output_type": "stream",
     "text": [
      "\r",
      "  1%|█▏                                                                                                                                                       | 758/100000 [14:14:50<1714:38:15, 62.20s/it]"
     ]
    },
    {
     "name": "stdout",
     "output_type": "stream",
     "text": [
      "tensor(164.7117, grad_fn=<SumBackward0>)\n"
     ]
    },
    {
     "name": "stderr",
     "output_type": "stream",
     "text": [
      "\r",
      "  1%|█▏                                                                                                                                                       | 759/100000 [14:15:58<1757:45:22, 63.76s/it]"
     ]
    },
    {
     "name": "stdout",
     "output_type": "stream",
     "text": [
      "tensor(164.7117, grad_fn=<SumBackward0>)\n"
     ]
    },
    {
     "name": "stderr",
     "output_type": "stream",
     "text": [
      "\r",
      "  1%|█▏                                                                                                                                                       | 760/100000 [14:17:05<1784:32:24, 64.74s/it]"
     ]
    },
    {
     "name": "stdout",
     "output_type": "stream",
     "text": [
      "tensor(164.7117, grad_fn=<SumBackward0>)\n"
     ]
    },
    {
     "name": "stderr",
     "output_type": "stream",
     "text": [
      "\r",
      "  1%|█▏                                                                                                                                                       | 761/100000 [14:18:08<1776:49:49, 64.46s/it]"
     ]
    },
    {
     "name": "stdout",
     "output_type": "stream",
     "text": [
      "tensor(164.7117, grad_fn=<SumBackward0>)\n"
     ]
    },
    {
     "name": "stderr",
     "output_type": "stream",
     "text": [
      "\r",
      "  1%|█▏                                                                                                                                                       | 762/100000 [14:19:13<1775:36:50, 64.41s/it]"
     ]
    },
    {
     "name": "stdout",
     "output_type": "stream",
     "text": [
      "tensor(164.7117, grad_fn=<SumBackward0>)\n"
     ]
    },
    {
     "name": "stderr",
     "output_type": "stream",
     "text": [
      "\r",
      "  1%|█▏                                                                                                                                                       | 763/100000 [14:20:20<1800:39:55, 65.32s/it]"
     ]
    },
    {
     "name": "stdout",
     "output_type": "stream",
     "text": [
      "tensor(164.7117, grad_fn=<SumBackward0>)\n"
     ]
    },
    {
     "name": "stderr",
     "output_type": "stream",
     "text": [
      "\r",
      "  1%|█▏                                                                                                                                                       | 764/100000 [14:21:26<1807:42:36, 65.58s/it]"
     ]
    },
    {
     "name": "stdout",
     "output_type": "stream",
     "text": [
      "tensor(164.7117, grad_fn=<SumBackward0>)\n"
     ]
    },
    {
     "name": "stderr",
     "output_type": "stream",
     "text": [
      "\r",
      "  1%|█▏                                                                                                                                                       | 765/100000 [14:22:30<1789:56:34, 64.93s/it]"
     ]
    },
    {
     "name": "stdout",
     "output_type": "stream",
     "text": [
      "tensor(164.7117, grad_fn=<SumBackward0>)\n"
     ]
    },
    {
     "name": "stderr",
     "output_type": "stream",
     "text": [
      "\r",
      "  1%|█▏                                                                                                                                                       | 766/100000 [14:23:35<1790:40:33, 64.96s/it]"
     ]
    },
    {
     "name": "stdout",
     "output_type": "stream",
     "text": [
      "tensor(164.7117, grad_fn=<SumBackward0>)\n"
     ]
    },
    {
     "name": "stderr",
     "output_type": "stream",
     "text": [
      "\r",
      "  1%|█▏                                                                                                                                                       | 767/100000 [14:24:36<1759:28:36, 63.83s/it]"
     ]
    },
    {
     "name": "stdout",
     "output_type": "stream",
     "text": [
      "tensor(164.7117, grad_fn=<SumBackward0>)\n"
     ]
    },
    {
     "name": "stderr",
     "output_type": "stream",
     "text": [
      "\r",
      "  1%|█▏                                                                                                                                                       | 768/100000 [14:25:37<1737:00:01, 63.02s/it]"
     ]
    },
    {
     "name": "stdout",
     "output_type": "stream",
     "text": [
      "tensor(164.7117, grad_fn=<SumBackward0>)\n"
     ]
    },
    {
     "name": "stderr",
     "output_type": "stream",
     "text": [
      "\r",
      "  1%|█▏                                                                                                                                                       | 769/100000 [14:26:37<1708:23:56, 61.98s/it]"
     ]
    },
    {
     "name": "stdout",
     "output_type": "stream",
     "text": [
      "tensor(164.7117, grad_fn=<SumBackward0>)\n"
     ]
    },
    {
     "name": "stderr",
     "output_type": "stream",
     "text": [
      "\r",
      "  1%|█▏                                                                                                                                                       | 770/100000 [14:27:20<1555:43:46, 56.44s/it]"
     ]
    },
    {
     "name": "stdout",
     "output_type": "stream",
     "text": [
      "tensor(164.7117, grad_fn=<SumBackward0>)\n"
     ]
    },
    {
     "name": "stderr",
     "output_type": "stream",
     "text": [
      "\r",
      "  1%|█▏                                                                                                                                                       | 771/100000 [14:28:30<1663:11:39, 60.34s/it]"
     ]
    },
    {
     "name": "stdout",
     "output_type": "stream",
     "text": [
      "tensor(164.7117, grad_fn=<SumBackward0>)\n"
     ]
    },
    {
     "name": "stderr",
     "output_type": "stream",
     "text": [
      "\r",
      "  1%|█▏                                                                                                                                                       | 772/100000 [14:29:24<1612:39:07, 58.51s/it]"
     ]
    },
    {
     "name": "stdout",
     "output_type": "stream",
     "text": [
      "tensor(164.7117, grad_fn=<SumBackward0>)\n"
     ]
    },
    {
     "name": "stderr",
     "output_type": "stream",
     "text": [
      "\r",
      "  1%|█▏                                                                                                                                                       | 773/100000 [14:30:25<1631:16:32, 59.18s/it]"
     ]
    },
    {
     "name": "stdout",
     "output_type": "stream",
     "text": [
      "tensor(164.7117, grad_fn=<SumBackward0>)\n"
     ]
    },
    {
     "name": "stderr",
     "output_type": "stream",
     "text": [
      "\r",
      "  1%|█▏                                                                                                                                                       | 774/100000 [14:31:19<1588:38:55, 57.64s/it]"
     ]
    },
    {
     "name": "stdout",
     "output_type": "stream",
     "text": [
      "tensor(164.7117, grad_fn=<SumBackward0>)\n"
     ]
    },
    {
     "name": "stderr",
     "output_type": "stream",
     "text": [
      "\r",
      "  1%|█▏                                                                                                                                                       | 775/100000 [14:32:20<1621:31:34, 58.83s/it]"
     ]
    },
    {
     "name": "stdout",
     "output_type": "stream",
     "text": [
      "tensor(164.7117, grad_fn=<SumBackward0>)\n"
     ]
    },
    {
     "name": "stderr",
     "output_type": "stream",
     "text": [
      "\r",
      "  1%|█▏                                                                                                                                                       | 776/100000 [14:33:16<1593:50:33, 57.83s/it]"
     ]
    },
    {
     "name": "stdout",
     "output_type": "stream",
     "text": [
      "tensor(164.7117, grad_fn=<SumBackward0>)\n"
     ]
    },
    {
     "name": "stderr",
     "output_type": "stream",
     "text": [
      "\r",
      "  1%|█▏                                                                                                                                                       | 777/100000 [14:34:16<1618:21:35, 58.72s/it]"
     ]
    },
    {
     "name": "stdout",
     "output_type": "stream",
     "text": [
      "tensor(164.7117, grad_fn=<SumBackward0>)\n"
     ]
    },
    {
     "name": "stderr",
     "output_type": "stream",
     "text": [
      "\r",
      "  1%|█▏                                                                                                                                                       | 778/100000 [14:35:17<1636:30:50, 59.38s/it]"
     ]
    },
    {
     "name": "stdout",
     "output_type": "stream",
     "text": [
      "tensor(164.7117, grad_fn=<SumBackward0>)\n"
     ]
    },
    {
     "name": "stderr",
     "output_type": "stream",
     "text": [
      "\r",
      "  1%|█▏                                                                                                                                                       | 779/100000 [14:36:29<1738:36:31, 63.08s/it]"
     ]
    },
    {
     "name": "stdout",
     "output_type": "stream",
     "text": [
      "tensor(164.7117, grad_fn=<SumBackward0>)\n"
     ]
    },
    {
     "name": "stderr",
     "output_type": "stream",
     "text": [
      "\r",
      "  1%|█▏                                                                                                                                                       | 780/100000 [14:37:35<1760:55:46, 63.89s/it]"
     ]
    },
    {
     "name": "stdout",
     "output_type": "stream",
     "text": [
      "tensor(164.7117, grad_fn=<SumBackward0>)\n"
     ]
    },
    {
     "name": "stderr",
     "output_type": "stream",
     "text": [
      "\r",
      "  1%|█▏                                                                                                                                                       | 781/100000 [14:38:27<1663:45:46, 60.37s/it]"
     ]
    },
    {
     "name": "stdout",
     "output_type": "stream",
     "text": [
      "tensor(164.7117, grad_fn=<SumBackward0>)\n"
     ]
    },
    {
     "name": "stderr",
     "output_type": "stream",
     "text": [
      "\r",
      "  1%|█▏                                                                                                                                                       | 782/100000 [14:39:37<1741:20:18, 63.18s/it]"
     ]
    },
    {
     "name": "stdout",
     "output_type": "stream",
     "text": [
      "tensor(164.7117, grad_fn=<SumBackward0>)\n"
     ]
    },
    {
     "name": "stderr",
     "output_type": "stream",
     "text": [
      "\r",
      "  1%|█▏                                                                                                                                                       | 783/100000 [14:40:39<1734:44:18, 62.94s/it]"
     ]
    },
    {
     "name": "stdout",
     "output_type": "stream",
     "text": [
      "tensor(164.7117, grad_fn=<SumBackward0>)\n"
     ]
    },
    {
     "name": "stderr",
     "output_type": "stream",
     "text": [
      "\r",
      "  1%|█▏                                                                                                                                                       | 784/100000 [14:41:48<1783:07:59, 64.70s/it]"
     ]
    },
    {
     "name": "stdout",
     "output_type": "stream",
     "text": [
      "tensor(164.7117, grad_fn=<SumBackward0>)\n"
     ]
    },
    {
     "name": "stderr",
     "output_type": "stream",
     "text": [
      "\r",
      "  1%|█▏                                                                                                                                                       | 785/100000 [14:43:00<1845:47:51, 66.97s/it]"
     ]
    },
    {
     "name": "stdout",
     "output_type": "stream",
     "text": [
      "tensor(164.7117, grad_fn=<SumBackward0>)\n"
     ]
    },
    {
     "name": "stderr",
     "output_type": "stream",
     "text": [
      "\r",
      "  1%|█▏                                                                                                                                                       | 786/100000 [14:44:14<1900:16:57, 68.95s/it]"
     ]
    },
    {
     "name": "stdout",
     "output_type": "stream",
     "text": [
      "tensor(164.7117, grad_fn=<SumBackward0>)\n"
     ]
    },
    {
     "name": "stderr",
     "output_type": "stream",
     "text": [
      "\r",
      "  1%|█▏                                                                                                                                                       | 787/100000 [14:45:10<1795:29:58, 65.15s/it]"
     ]
    },
    {
     "name": "stdout",
     "output_type": "stream",
     "text": [
      "tensor(164.7117, grad_fn=<SumBackward0>)\n"
     ]
    },
    {
     "name": "stderr",
     "output_type": "stream",
     "text": [
      "\r",
      "  1%|█▏                                                                                                                                                       | 788/100000 [14:46:16<1803:03:15, 65.43s/it]"
     ]
    },
    {
     "name": "stdout",
     "output_type": "stream",
     "text": [
      "tensor(164.7117, grad_fn=<SumBackward0>)\n"
     ]
    },
    {
     "name": "stderr",
     "output_type": "stream",
     "text": [
      "\r",
      "  1%|█▏                                                                                                                                                       | 789/100000 [14:47:17<1764:00:23, 64.01s/it]"
     ]
    },
    {
     "name": "stdout",
     "output_type": "stream",
     "text": [
      "tensor(164.7117, grad_fn=<SumBackward0>)\n"
     ]
    },
    {
     "name": "stderr",
     "output_type": "stream",
     "text": [
      "\r",
      "  1%|█▏                                                                                                                                                       | 790/100000 [14:48:15<1719:04:33, 62.38s/it]"
     ]
    },
    {
     "name": "stdout",
     "output_type": "stream",
     "text": [
      "tensor(164.7117, grad_fn=<SumBackward0>)\n"
     ]
    },
    {
     "name": "stderr",
     "output_type": "stream",
     "text": [
      "\r",
      "  1%|█▏                                                                                                                                                       | 791/100000 [14:49:19<1727:37:52, 62.69s/it]"
     ]
    },
    {
     "name": "stdout",
     "output_type": "stream",
     "text": [
      "tensor(164.7117, grad_fn=<SumBackward0>)\n"
     ]
    },
    {
     "name": "stderr",
     "output_type": "stream",
     "text": [
      "\r",
      "  1%|█▏                                                                                                                                                       | 792/100000 [14:50:22<1732:42:05, 62.88s/it]"
     ]
    },
    {
     "name": "stdout",
     "output_type": "stream",
     "text": [
      "tensor(164.7117, grad_fn=<SumBackward0>)\n"
     ]
    },
    {
     "name": "stderr",
     "output_type": "stream",
     "text": [
      "\r",
      "  1%|█▏                                                                                                                                                       | 793/100000 [14:51:19<1685:59:46, 61.18s/it]"
     ]
    },
    {
     "name": "stdout",
     "output_type": "stream",
     "text": [
      "tensor(164.7117, grad_fn=<SumBackward0>)\n"
     ]
    },
    {
     "name": "stderr",
     "output_type": "stream",
     "text": [
      "\r",
      "  1%|█▏                                                                                                                                                       | 794/100000 [14:52:04<1549:32:31, 56.23s/it]"
     ]
    },
    {
     "name": "stdout",
     "output_type": "stream",
     "text": [
      "tensor(164.7117, grad_fn=<SumBackward0>)\n"
     ]
    },
    {
     "name": "stderr",
     "output_type": "stream",
     "text": [
      "\r",
      "  1%|█▏                                                                                                                                                       | 795/100000 [14:53:16<1676:55:37, 60.85s/it]"
     ]
    },
    {
     "name": "stdout",
     "output_type": "stream",
     "text": [
      "tensor(164.7117, grad_fn=<SumBackward0>)\n"
     ]
    },
    {
     "name": "stderr",
     "output_type": "stream",
     "text": [
      "\r",
      "  1%|█▏                                                                                                                                                       | 796/100000 [14:54:17<1678:13:53, 60.90s/it]"
     ]
    },
    {
     "name": "stdout",
     "output_type": "stream",
     "text": [
      "tensor(164.7117, grad_fn=<SumBackward0>)\n"
     ]
    },
    {
     "name": "stderr",
     "output_type": "stream",
     "text": [
      "\r",
      "  1%|█▏                                                                                                                                                       | 797/100000 [14:55:28<1766:38:32, 64.11s/it]"
     ]
    },
    {
     "name": "stdout",
     "output_type": "stream",
     "text": [
      "tensor(164.7117, grad_fn=<SumBackward0>)\n"
     ]
    },
    {
     "name": "stderr",
     "output_type": "stream",
     "text": [
      "\r",
      "  1%|█▏                                                                                                                                                       | 798/100000 [14:56:23<1686:13:48, 61.19s/it]"
     ]
    },
    {
     "name": "stdout",
     "output_type": "stream",
     "text": [
      "tensor(164.7117, grad_fn=<SumBackward0>)\n"
     ]
    },
    {
     "name": "stderr",
     "output_type": "stream",
     "text": [
      "\r",
      "  1%|█▏                                                                                                                                                       | 799/100000 [14:57:27<1711:57:19, 62.13s/it]"
     ]
    },
    {
     "name": "stdout",
     "output_type": "stream",
     "text": [
      "tensor(164.7117, grad_fn=<SumBackward0>)\n"
     ]
    },
    {
     "name": "stderr",
     "output_type": "stream",
     "text": [
      "\r",
      "  1%|█▏                                                                                                                                                       | 800/100000 [14:58:23<1664:29:52, 60.41s/it]"
     ]
    },
    {
     "name": "stdout",
     "output_type": "stream",
     "text": [
      "tensor(164.7117, grad_fn=<SumBackward0>)\n"
     ]
    },
    {
     "name": "stderr",
     "output_type": "stream",
     "text": [
      "\r",
      "  1%|█▏                                                                                                                                                       | 801/100000 [14:59:27<1694:06:42, 61.48s/it]"
     ]
    },
    {
     "name": "stdout",
     "output_type": "stream",
     "text": [
      "tensor(164.7117, grad_fn=<SumBackward0>)\n"
     ]
    },
    {
     "name": "stderr",
     "output_type": "stream",
     "text": [
      "\r",
      "  1%|█▏                                                                                                                                                       | 802/100000 [15:00:29<1696:40:02, 61.57s/it]"
     ]
    },
    {
     "name": "stdout",
     "output_type": "stream",
     "text": [
      "tensor(164.7117, grad_fn=<SumBackward0>)\n"
     ]
    },
    {
     "name": "stderr",
     "output_type": "stream",
     "text": [
      "\r",
      "  1%|█▏                                                                                                                                                       | 803/100000 [15:01:24<1642:38:04, 59.61s/it]"
     ]
    },
    {
     "name": "stdout",
     "output_type": "stream",
     "text": [
      "tensor(164.7117, grad_fn=<SumBackward0>)\n"
     ]
    },
    {
     "name": "stderr",
     "output_type": "stream",
     "text": [
      "\r",
      "  1%|█▏                                                                                                                                                       | 804/100000 [15:02:30<1693:54:26, 61.47s/it]"
     ]
    },
    {
     "name": "stdout",
     "output_type": "stream",
     "text": [
      "tensor(164.7117, grad_fn=<SumBackward0>)\n"
     ]
    },
    {
     "name": "stderr",
     "output_type": "stream",
     "text": [
      "\r",
      "  1%|█▏                                                                                                                                                       | 805/100000 [15:03:40<1766:55:03, 64.13s/it]"
     ]
    },
    {
     "name": "stdout",
     "output_type": "stream",
     "text": [
      "tensor(164.7117, grad_fn=<SumBackward0>)\n"
     ]
    },
    {
     "name": "stderr",
     "output_type": "stream",
     "text": [
      "\r",
      "  1%|█▏                                                                                                                                                       | 806/100000 [15:04:45<1774:31:47, 64.40s/it]"
     ]
    },
    {
     "name": "stdout",
     "output_type": "stream",
     "text": [
      "tensor(164.7117, grad_fn=<SumBackward0>)\n"
     ]
    },
    {
     "name": "stderr",
     "output_type": "stream",
     "text": [
      "\r",
      "  1%|█▏                                                                                                                                                       | 807/100000 [15:05:56<1829:33:43, 66.40s/it]"
     ]
    },
    {
     "name": "stdout",
     "output_type": "stream",
     "text": [
      "tensor(164.7117, grad_fn=<SumBackward0>)\n"
     ]
    },
    {
     "name": "stderr",
     "output_type": "stream",
     "text": [
      "\r",
      "  1%|█▏                                                                                                                                                       | 808/100000 [15:06:50<1722:22:15, 62.51s/it]"
     ]
    },
    {
     "name": "stdout",
     "output_type": "stream",
     "text": [
      "tensor(164.7117, grad_fn=<SumBackward0>)\n"
     ]
    },
    {
     "name": "stderr",
     "output_type": "stream",
     "text": [
      "\r",
      "  1%|█▏                                                                                                                                                       | 809/100000 [15:07:44<1648:41:27, 59.84s/it]"
     ]
    },
    {
     "name": "stdout",
     "output_type": "stream",
     "text": [
      "tensor(164.7117, grad_fn=<SumBackward0>)\n"
     ]
    },
    {
     "name": "stderr",
     "output_type": "stream",
     "text": [
      "\r",
      "  1%|█▏                                                                                                                                                       | 810/100000 [15:08:57<1757:42:20, 63.79s/it]"
     ]
    },
    {
     "name": "stdout",
     "output_type": "stream",
     "text": [
      "tensor(164.7117, grad_fn=<SumBackward0>)\n"
     ]
    },
    {
     "name": "stderr",
     "output_type": "stream",
     "text": [
      "\r",
      "  1%|█▏                                                                                                                                                       | 811/100000 [15:09:48<1656:14:21, 60.11s/it]"
     ]
    },
    {
     "name": "stdout",
     "output_type": "stream",
     "text": [
      "tensor(164.7117, grad_fn=<SumBackward0>)\n"
     ]
    },
    {
     "name": "stderr",
     "output_type": "stream",
     "text": [
      "\r",
      "  1%|█▏                                                                                                                                                       | 812/100000 [15:10:59<1745:45:51, 63.36s/it]"
     ]
    },
    {
     "name": "stdout",
     "output_type": "stream",
     "text": [
      "tensor(164.7117, grad_fn=<SumBackward0>)\n"
     ]
    },
    {
     "name": "stderr",
     "output_type": "stream",
     "text": [
      "\r",
      "  1%|█▏                                                                                                                                                       | 813/100000 [15:12:08<1796:01:47, 65.19s/it]"
     ]
    },
    {
     "name": "stdout",
     "output_type": "stream",
     "text": [
      "tensor(164.7117, grad_fn=<SumBackward0>)\n"
     ]
    },
    {
     "name": "stderr",
     "output_type": "stream",
     "text": [
      "\r",
      "  1%|█▏                                                                                                                                                       | 814/100000 [15:13:04<1716:10:03, 62.29s/it]"
     ]
    },
    {
     "name": "stdout",
     "output_type": "stream",
     "text": [
      "tensor(164.7117, grad_fn=<SumBackward0>)\n"
     ]
    },
    {
     "name": "stderr",
     "output_type": "stream",
     "text": [
      "\r",
      "  1%|█▏                                                                                                                                                       | 815/100000 [15:13:57<1643:02:10, 59.64s/it]"
     ]
    },
    {
     "name": "stdout",
     "output_type": "stream",
     "text": [
      "tensor(164.7117, grad_fn=<SumBackward0>)\n"
     ]
    },
    {
     "name": "stderr",
     "output_type": "stream",
     "text": [
      "\r",
      "  1%|█▏                                                                                                                                                       | 816/100000 [15:15:07<1724:04:00, 62.58s/it]"
     ]
    },
    {
     "name": "stdout",
     "output_type": "stream",
     "text": [
      "tensor(164.7117, grad_fn=<SumBackward0>)\n"
     ]
    },
    {
     "name": "stderr",
     "output_type": "stream",
     "text": [
      "\r",
      "  1%|█▎                                                                                                                                                       | 817/100000 [15:16:19<1798:52:47, 65.29s/it]"
     ]
    },
    {
     "name": "stdout",
     "output_type": "stream",
     "text": [
      "tensor(164.7117, grad_fn=<SumBackward0>)\n"
     ]
    },
    {
     "name": "stderr",
     "output_type": "stream",
     "text": [
      "\r",
      "  1%|█▎                                                                                                                                                       | 818/100000 [15:17:19<1759:16:37, 63.86s/it]"
     ]
    },
    {
     "name": "stdout",
     "output_type": "stream",
     "text": [
      "tensor(164.7117, grad_fn=<SumBackward0>)\n"
     ]
    },
    {
     "name": "stderr",
     "output_type": "stream",
     "text": [
      "\r",
      "  1%|█▎                                                                                                                                                       | 819/100000 [15:18:15<1691:52:28, 61.41s/it]"
     ]
    },
    {
     "name": "stdout",
     "output_type": "stream",
     "text": [
      "tensor(164.7117, grad_fn=<SumBackward0>)\n"
     ]
    },
    {
     "name": "stderr",
     "output_type": "stream",
     "text": [
      "\r",
      "  1%|█▎                                                                                                                                                       | 820/100000 [15:19:09<1635:00:28, 59.35s/it]"
     ]
    },
    {
     "name": "stdout",
     "output_type": "stream",
     "text": [
      "tensor(164.7117, grad_fn=<SumBackward0>)\n"
     ]
    },
    {
     "name": "stderr",
     "output_type": "stream",
     "text": [
      "\r",
      "  1%|█▎                                                                                                                                                       | 821/100000 [15:20:12<1665:33:22, 60.46s/it]"
     ]
    },
    {
     "name": "stdout",
     "output_type": "stream",
     "text": [
      "tensor(164.7117, grad_fn=<SumBackward0>)\n"
     ]
    },
    {
     "name": "stderr",
     "output_type": "stream",
     "text": [
      "\r",
      "  1%|█▎                                                                                                                                                       | 822/100000 [15:21:13<1670:49:19, 60.65s/it]"
     ]
    },
    {
     "name": "stdout",
     "output_type": "stream",
     "text": [
      "tensor(164.7117, grad_fn=<SumBackward0>)\n"
     ]
    },
    {
     "name": "stderr",
     "output_type": "stream",
     "text": [
      "\r",
      "  1%|█▎                                                                                                                                                       | 823/100000 [15:22:21<1725:11:53, 62.62s/it]"
     ]
    },
    {
     "name": "stdout",
     "output_type": "stream",
     "text": [
      "tensor(164.7117, grad_fn=<SumBackward0>)\n"
     ]
    },
    {
     "name": "stderr",
     "output_type": "stream",
     "text": [
      "\r",
      "  1%|█▎                                                                                                                                                       | 824/100000 [15:23:27<1753:46:56, 63.66s/it]"
     ]
    },
    {
     "name": "stdout",
     "output_type": "stream",
     "text": [
      "tensor(164.7117, grad_fn=<SumBackward0>)\n"
     ]
    },
    {
     "name": "stderr",
     "output_type": "stream",
     "text": [
      "\r",
      "  1%|█▎                                                                                                                                                       | 825/100000 [15:24:29<1738:37:57, 63.11s/it]"
     ]
    },
    {
     "name": "stdout",
     "output_type": "stream",
     "text": [
      "tensor(164.7117, grad_fn=<SumBackward0>)\n"
     ]
    },
    {
     "name": "stderr",
     "output_type": "stream",
     "text": [
      "\r",
      "  1%|█▎                                                                                                                                                       | 826/100000 [15:25:36<1772:10:55, 64.33s/it]"
     ]
    },
    {
     "name": "stdout",
     "output_type": "stream",
     "text": [
      "tensor(164.7117, grad_fn=<SumBackward0>)\n"
     ]
    },
    {
     "name": "stderr",
     "output_type": "stream",
     "text": [
      "\r",
      "  1%|█▎                                                                                                                                                       | 827/100000 [15:26:47<1829:03:51, 66.40s/it]"
     ]
    },
    {
     "name": "stdout",
     "output_type": "stream",
     "text": [
      "tensor(164.7117, grad_fn=<SumBackward0>)\n"
     ]
    },
    {
     "name": "stderr",
     "output_type": "stream",
     "text": [
      "\r",
      "  1%|█▎                                                                                                                                                       | 828/100000 [15:27:56<1850:18:46, 67.17s/it]"
     ]
    },
    {
     "name": "stdout",
     "output_type": "stream",
     "text": [
      "tensor(164.7117, grad_fn=<SumBackward0>)\n"
     ]
    },
    {
     "name": "stderr",
     "output_type": "stream",
     "text": [
      "\r",
      "  1%|█▎                                                                                                                                                       | 829/100000 [15:28:51<1753:46:49, 63.66s/it]"
     ]
    },
    {
     "name": "stdout",
     "output_type": "stream",
     "text": [
      "tensor(164.7117, grad_fn=<SumBackward0>)\n"
     ]
    },
    {
     "name": "stderr",
     "output_type": "stream",
     "text": [
      "\r",
      "  1%|█▎                                                                                                                                                       | 830/100000 [15:30:01<1799:21:48, 65.32s/it]"
     ]
    },
    {
     "name": "stdout",
     "output_type": "stream",
     "text": [
      "tensor(164.7117, grad_fn=<SumBackward0>)\n"
     ]
    },
    {
     "name": "stderr",
     "output_type": "stream",
     "text": [
      "\r",
      "  1%|█▎                                                                                                                                                       | 831/100000 [15:30:55<1713:13:18, 62.19s/it]"
     ]
    },
    {
     "name": "stdout",
     "output_type": "stream",
     "text": [
      "tensor(164.7117, grad_fn=<SumBackward0>)\n"
     ]
    },
    {
     "name": "stderr",
     "output_type": "stream",
     "text": [
      "\r",
      "  1%|█▎                                                                                                                                                       | 832/100000 [15:32:04<1765:12:36, 64.08s/it]"
     ]
    },
    {
     "name": "stdout",
     "output_type": "stream",
     "text": [
      "tensor(164.7117, grad_fn=<SumBackward0>)\n"
     ]
    },
    {
     "name": "stderr",
     "output_type": "stream",
     "text": [
      "\r",
      "  1%|█▎                                                                                                                                                       | 833/100000 [15:33:14<1816:59:04, 65.96s/it]"
     ]
    },
    {
     "name": "stdout",
     "output_type": "stream",
     "text": [
      "tensor(164.7117, grad_fn=<SumBackward0>)\n"
     ]
    },
    {
     "name": "stderr",
     "output_type": "stream",
     "text": [
      "\r",
      "  1%|█▎                                                                                                                                                       | 834/100000 [15:34:27<1872:42:53, 67.98s/it]"
     ]
    },
    {
     "name": "stdout",
     "output_type": "stream",
     "text": [
      "tensor(164.7117, grad_fn=<SumBackward0>)\n"
     ]
    },
    {
     "name": "stderr",
     "output_type": "stream",
     "text": [
      "\r",
      "  1%|█▎                                                                                                                                                       | 835/100000 [15:35:35<1874:03:15, 68.03s/it]"
     ]
    },
    {
     "name": "stdout",
     "output_type": "stream",
     "text": [
      "tensor(164.7117, grad_fn=<SumBackward0>)\n"
     ]
    },
    {
     "name": "stderr",
     "output_type": "stream",
     "text": [
      "\r",
      "  1%|█▎                                                                                                                                                       | 836/100000 [15:36:47<1901:45:00, 69.04s/it]"
     ]
    },
    {
     "name": "stdout",
     "output_type": "stream",
     "text": [
      "tensor(164.7117, grad_fn=<SumBackward0>)\n"
     ]
    },
    {
     "name": "stderr",
     "output_type": "stream",
     "text": [
      "\r",
      "  1%|█▎                                                                                                                                                       | 837/100000 [15:37:53<1884:15:19, 68.41s/it]"
     ]
    },
    {
     "name": "stdout",
     "output_type": "stream",
     "text": [
      "tensor(164.7117, grad_fn=<SumBackward0>)\n"
     ]
    },
    {
     "name": "stderr",
     "output_type": "stream",
     "text": [
      "\r",
      "  1%|█▎                                                                                                                                                       | 838/100000 [15:38:50<1783:23:06, 64.74s/it]"
     ]
    },
    {
     "name": "stdout",
     "output_type": "stream",
     "text": [
      "tensor(164.7117, grad_fn=<SumBackward0>)\n"
     ]
    },
    {
     "name": "stderr",
     "output_type": "stream",
     "text": [
      "\r",
      "  1%|█▎                                                                                                                                                       | 839/100000 [15:39:46<1713:27:27, 62.21s/it]"
     ]
    },
    {
     "name": "stdout",
     "output_type": "stream",
     "text": [
      "tensor(164.7117, grad_fn=<SumBackward0>)\n"
     ]
    },
    {
     "name": "stderr",
     "output_type": "stream",
     "text": [
      "\r",
      "  1%|█▎                                                                                                                                                       | 840/100000 [15:40:45<1688:04:10, 61.29s/it]"
     ]
    },
    {
     "name": "stdout",
     "output_type": "stream",
     "text": [
      "tensor(164.7117, grad_fn=<SumBackward0>)\n"
     ]
    },
    {
     "name": "stderr",
     "output_type": "stream",
     "text": [
      "\r",
      "  1%|█▎                                                                                                                                                       | 841/100000 [15:41:43<1659:48:27, 60.26s/it]"
     ]
    },
    {
     "name": "stdout",
     "output_type": "stream",
     "text": [
      "tensor(164.7117, grad_fn=<SumBackward0>)\n"
     ]
    },
    {
     "name": "stderr",
     "output_type": "stream",
     "text": [
      "\r",
      "  1%|█▎                                                                                                                                                       | 842/100000 [15:42:58<1778:14:01, 64.56s/it]"
     ]
    },
    {
     "name": "stdout",
     "output_type": "stream",
     "text": [
      "tensor(164.7117, grad_fn=<SumBackward0>)\n"
     ]
    },
    {
     "name": "stderr",
     "output_type": "stream",
     "text": [
      "\r",
      "  1%|█▎                                                                                                                                                       | 843/100000 [15:43:55<1721:18:46, 62.49s/it]"
     ]
    },
    {
     "name": "stdout",
     "output_type": "stream",
     "text": [
      "tensor(164.7117, grad_fn=<SumBackward0>)\n"
     ]
    },
    {
     "name": "stderr",
     "output_type": "stream",
     "text": [
      "\r",
      "  1%|█▎                                                                                                                                                       | 844/100000 [15:45:02<1760:19:07, 63.91s/it]"
     ]
    },
    {
     "name": "stdout",
     "output_type": "stream",
     "text": [
      "tensor(164.7117, grad_fn=<SumBackward0>)\n"
     ]
    },
    {
     "name": "stderr",
     "output_type": "stream",
     "text": [
      "\r",
      "  1%|█▎                                                                                                                                                       | 845/100000 [15:46:09<1779:27:38, 64.61s/it]"
     ]
    },
    {
     "name": "stdout",
     "output_type": "stream",
     "text": [
      "tensor(164.7117, grad_fn=<SumBackward0>)\n"
     ]
    },
    {
     "name": "stderr",
     "output_type": "stream",
     "text": [
      "\r",
      "  1%|█▎                                                                                                                                                       | 846/100000 [15:46:56<1636:02:48, 59.40s/it]"
     ]
    },
    {
     "name": "stdout",
     "output_type": "stream",
     "text": [
      "tensor(164.7117, grad_fn=<SumBackward0>)\n"
     ]
    },
    {
     "name": "stderr",
     "output_type": "stream",
     "text": [
      "\r",
      "  1%|█▎                                                                                                                                                       | 847/100000 [15:47:51<1603:31:07, 58.22s/it]"
     ]
    },
    {
     "name": "stdout",
     "output_type": "stream",
     "text": [
      "tensor(164.7117, grad_fn=<SumBackward0>)\n"
     ]
    },
    {
     "name": "stderr",
     "output_type": "stream",
     "text": [
      "\r",
      "  1%|█▎                                                                                                                                                       | 848/100000 [15:48:52<1625:03:28, 59.00s/it]"
     ]
    },
    {
     "name": "stdout",
     "output_type": "stream",
     "text": [
      "tensor(164.7117, grad_fn=<SumBackward0>)\n"
     ]
    },
    {
     "name": "stderr",
     "output_type": "stream",
     "text": [
      "\r",
      "  1%|█▎                                                                                                                                                       | 849/100000 [15:49:59<1686:37:32, 61.24s/it]"
     ]
    },
    {
     "name": "stdout",
     "output_type": "stream",
     "text": [
      "tensor(164.7117, grad_fn=<SumBackward0>)\n"
     ]
    },
    {
     "name": "stderr",
     "output_type": "stream",
     "text": [
      "\r",
      "  1%|█▎                                                                                                                                                       | 850/100000 [15:51:02<1702:08:13, 61.80s/it]"
     ]
    },
    {
     "name": "stdout",
     "output_type": "stream",
     "text": [
      "tensor(164.7117, grad_fn=<SumBackward0>)\n"
     ]
    },
    {
     "name": "stderr",
     "output_type": "stream",
     "text": [
      "\r",
      "  1%|█▎                                                                                                                                                       | 851/100000 [15:52:05<1712:09:52, 62.17s/it]"
     ]
    },
    {
     "name": "stdout",
     "output_type": "stream",
     "text": [
      "tensor(164.7117, grad_fn=<SumBackward0>)\n"
     ]
    },
    {
     "name": "stderr",
     "output_type": "stream",
     "text": [
      "\r",
      "  1%|█▎                                                                                                                                                       | 852/100000 [15:53:07<1715:59:26, 62.31s/it]"
     ]
    },
    {
     "name": "stdout",
     "output_type": "stream",
     "text": [
      "tensor(164.7117, grad_fn=<SumBackward0>)\n"
     ]
    },
    {
     "name": "stderr",
     "output_type": "stream",
     "text": [
      "\r",
      "  1%|█▎                                                                                                                                                       | 853/100000 [15:54:19<1790:07:16, 65.00s/it]"
     ]
    },
    {
     "name": "stdout",
     "output_type": "stream",
     "text": [
      "tensor(164.7117, grad_fn=<SumBackward0>)\n"
     ]
    },
    {
     "name": "stderr",
     "output_type": "stream",
     "text": [
      "\r",
      "  1%|█▎                                                                                                                                                       | 854/100000 [15:55:33<1863:16:21, 67.66s/it]"
     ]
    },
    {
     "name": "stdout",
     "output_type": "stream",
     "text": [
      "tensor(164.7117, grad_fn=<SumBackward0>)\n"
     ]
    },
    {
     "name": "stderr",
     "output_type": "stream",
     "text": [
      "\r",
      "  1%|█▎                                                                                                                                                       | 855/100000 [15:56:44<1894:12:44, 68.78s/it]"
     ]
    },
    {
     "name": "stdout",
     "output_type": "stream",
     "text": [
      "tensor(164.7117, grad_fn=<SumBackward0>)\n"
     ]
    },
    {
     "name": "stderr",
     "output_type": "stream",
     "text": [
      "\r",
      "  1%|█▎                                                                                                                                                       | 856/100000 [15:57:39<1779:00:15, 64.60s/it]"
     ]
    },
    {
     "name": "stdout",
     "output_type": "stream",
     "text": [
      "tensor(164.7117, grad_fn=<SumBackward0>)\n"
     ]
    },
    {
     "name": "stderr",
     "output_type": "stream",
     "text": [
      "\r",
      "  1%|█▎                                                                                                                                                       | 857/100000 [15:58:36<1721:42:39, 62.52s/it]"
     ]
    },
    {
     "name": "stdout",
     "output_type": "stream",
     "text": [
      "tensor(164.7117, grad_fn=<SumBackward0>)\n"
     ]
    },
    {
     "name": "stderr",
     "output_type": "stream",
     "text": [
      "\r",
      "  1%|█▎                                                                                                                                                       | 858/100000 [15:59:51<1816:57:28, 65.98s/it]"
     ]
    },
    {
     "name": "stdout",
     "output_type": "stream",
     "text": [
      "tensor(164.7117, grad_fn=<SumBackward0>)\n"
     ]
    },
    {
     "name": "stderr",
     "output_type": "stream",
     "text": [
      "\r",
      "  1%|█▎                                                                                                                                                       | 859/100000 [16:01:05<1889:50:59, 68.62s/it]"
     ]
    },
    {
     "name": "stdout",
     "output_type": "stream",
     "text": [
      "tensor(164.7117, grad_fn=<SumBackward0>)\n"
     ]
    },
    {
     "name": "stderr",
     "output_type": "stream",
     "text": [
      "\r",
      "  1%|█▎                                                                                                                                                       | 860/100000 [16:02:21<1949:14:05, 70.78s/it]"
     ]
    },
    {
     "name": "stdout",
     "output_type": "stream",
     "text": [
      "tensor(164.7117, grad_fn=<SumBackward0>)\n"
     ]
    },
    {
     "name": "stderr",
     "output_type": "stream",
     "text": [
      "\r",
      "  1%|█▎                                                                                                                                                       | 861/100000 [16:03:27<1905:15:34, 69.19s/it]"
     ]
    },
    {
     "name": "stdout",
     "output_type": "stream",
     "text": [
      "tensor(164.7117, grad_fn=<SumBackward0>)\n"
     ]
    },
    {
     "name": "stderr",
     "output_type": "stream",
     "text": [
      "\r",
      "  1%|█▎                                                                                                                                                       | 862/100000 [16:04:40<1941:31:06, 70.50s/it]"
     ]
    },
    {
     "name": "stdout",
     "output_type": "stream",
     "text": [
      "tensor(164.7117, grad_fn=<SumBackward0>)\n"
     ]
    },
    {
     "name": "stderr",
     "output_type": "stream",
     "text": [
      "\r",
      "  1%|█▎                                                                                                                                                       | 863/100000 [16:05:49<1929:23:51, 70.06s/it]"
     ]
    },
    {
     "name": "stdout",
     "output_type": "stream",
     "text": [
      "tensor(164.7117, grad_fn=<SumBackward0>)\n"
     ]
    },
    {
     "name": "stderr",
     "output_type": "stream",
     "text": [
      "\r",
      "  1%|█▎                                                                                                                                                       | 864/100000 [16:06:58<1916:24:28, 69.59s/it]"
     ]
    },
    {
     "name": "stdout",
     "output_type": "stream",
     "text": [
      "tensor(164.7117, grad_fn=<SumBackward0>)\n"
     ]
    },
    {
     "name": "stderr",
     "output_type": "stream",
     "text": [
      "\r",
      "  1%|█▎                                                                                                                                                       | 865/100000 [16:08:00<1855:06:32, 67.37s/it]"
     ]
    },
    {
     "name": "stdout",
     "output_type": "stream",
     "text": [
      "tensor(164.7117, grad_fn=<SumBackward0>)\n"
     ]
    },
    {
     "name": "stderr",
     "output_type": "stream",
     "text": [
      "\r",
      "  1%|█▎                                                                                                                                                       | 866/100000 [16:08:50<1714:34:34, 62.26s/it]"
     ]
    },
    {
     "name": "stdout",
     "output_type": "stream",
     "text": [
      "tensor(164.7117, grad_fn=<SumBackward0>)\n"
     ]
    },
    {
     "name": "stderr",
     "output_type": "stream",
     "text": [
      "\r",
      "  1%|█▎                                                                                                                                                       | 867/100000 [16:09:48<1679:00:39, 60.97s/it]"
     ]
    },
    {
     "name": "stdout",
     "output_type": "stream",
     "text": [
      "tensor(164.7117, grad_fn=<SumBackward0>)\n"
     ]
    },
    {
     "name": "stderr",
     "output_type": "stream",
     "text": [
      "\r",
      "  1%|█▎                                                                                                                                                       | 868/100000 [16:11:02<1784:47:49, 64.82s/it]"
     ]
    },
    {
     "name": "stdout",
     "output_type": "stream",
     "text": [
      "tensor(164.7117, grad_fn=<SumBackward0>)\n"
     ]
    },
    {
     "name": "stderr",
     "output_type": "stream",
     "text": [
      "\r",
      "  1%|█▎                                                                                                                                                       | 869/100000 [16:12:11<1817:47:06, 66.01s/it]"
     ]
    },
    {
     "name": "stdout",
     "output_type": "stream",
     "text": [
      "tensor(164.7117, grad_fn=<SumBackward0>)\n"
     ]
    },
    {
     "name": "stderr",
     "output_type": "stream",
     "text": [
      "\r",
      "  1%|█▎                                                                                                                                                       | 870/100000 [16:13:19<1836:45:49, 66.70s/it]"
     ]
    },
    {
     "name": "stdout",
     "output_type": "stream",
     "text": [
      "tensor(164.7117, grad_fn=<SumBackward0>)\n"
     ]
    },
    {
     "name": "stderr",
     "output_type": "stream",
     "text": [
      "\r",
      "  1%|█▎                                                                                                                                                       | 871/100000 [16:14:14<1739:15:54, 63.16s/it]"
     ]
    },
    {
     "name": "stdout",
     "output_type": "stream",
     "text": [
      "tensor(164.7117, grad_fn=<SumBackward0>)\n"
     ]
    },
    {
     "name": "stderr",
     "output_type": "stream",
     "text": [
      "\r",
      "  1%|█▎                                                                                                                                                       | 872/100000 [16:15:20<1763:48:18, 64.06s/it]"
     ]
    },
    {
     "name": "stdout",
     "output_type": "stream",
     "text": [
      "tensor(164.7117, grad_fn=<SumBackward0>)\n"
     ]
    },
    {
     "name": "stderr",
     "output_type": "stream",
     "text": [
      "\r",
      "  1%|█▎                                                                                                                                                       | 873/100000 [16:16:21<1735:12:52, 63.02s/it]"
     ]
    },
    {
     "name": "stdout",
     "output_type": "stream",
     "text": [
      "tensor(164.7117, grad_fn=<SumBackward0>)\n"
     ]
    },
    {
     "name": "stderr",
     "output_type": "stream",
     "text": [
      "\r",
      "  1%|█▎                                                                                                                                                       | 874/100000 [16:17:31<1796:16:02, 65.24s/it]"
     ]
    },
    {
     "name": "stdout",
     "output_type": "stream",
     "text": [
      "tensor(164.7117, grad_fn=<SumBackward0>)\n"
     ]
    },
    {
     "name": "stderr",
     "output_type": "stream",
     "text": [
      "\r",
      "  1%|█▎                                                                                                                                                       | 875/100000 [16:18:37<1797:58:31, 65.30s/it]"
     ]
    },
    {
     "name": "stdout",
     "output_type": "stream",
     "text": [
      "tensor(164.7117, grad_fn=<SumBackward0>)\n"
     ]
    },
    {
     "name": "stderr",
     "output_type": "stream",
     "text": [
      "\r",
      "  1%|█▎                                                                                                                                                       | 876/100000 [16:19:41<1786:59:35, 64.90s/it]"
     ]
    },
    {
     "name": "stdout",
     "output_type": "stream",
     "text": [
      "tensor(164.7117, grad_fn=<SumBackward0>)\n"
     ]
    },
    {
     "name": "stderr",
     "output_type": "stream",
     "text": [
      "\r",
      "  1%|█▎                                                                                                                                                       | 877/100000 [16:20:59<1901:52:18, 69.07s/it]"
     ]
    },
    {
     "name": "stdout",
     "output_type": "stream",
     "text": [
      "tensor(164.7117, grad_fn=<SumBackward0>)\n"
     ]
    },
    {
     "name": "stderr",
     "output_type": "stream",
     "text": [
      "\r",
      "  1%|█▎                                                                                                                                                       | 878/100000 [16:21:59<1827:31:30, 66.37s/it]"
     ]
    },
    {
     "name": "stdout",
     "output_type": "stream",
     "text": [
      "tensor(164.7117, grad_fn=<SumBackward0>)\n"
     ]
    },
    {
     "name": "stderr",
     "output_type": "stream",
     "text": [
      "\r",
      "  1%|█▎                                                                                                                                                       | 879/100000 [16:23:09<1850:38:05, 67.21s/it]"
     ]
    },
    {
     "name": "stdout",
     "output_type": "stream",
     "text": [
      "tensor(164.7117, grad_fn=<SumBackward0>)\n"
     ]
    },
    {
     "name": "stderr",
     "output_type": "stream",
     "text": [
      "\r",
      "  1%|█▎                                                                                                                                                       | 880/100000 [16:24:04<1752:38:24, 63.66s/it]"
     ]
    },
    {
     "name": "stdout",
     "output_type": "stream",
     "text": [
      "tensor(164.7117, grad_fn=<SumBackward0>)\n"
     ]
    },
    {
     "name": "stderr",
     "output_type": "stream",
     "text": [
      "\r",
      "  1%|█▎                                                                                                                                                       | 881/100000 [16:25:16<1825:30:19, 66.30s/it]"
     ]
    },
    {
     "name": "stdout",
     "output_type": "stream",
     "text": [
      "tensor(164.7117, grad_fn=<SumBackward0>)\n"
     ]
    },
    {
     "name": "stderr",
     "output_type": "stream",
     "text": [
      "\r",
      "  1%|█▎                                                                                                                                                       | 882/100000 [16:26:25<1846:52:19, 67.08s/it]"
     ]
    },
    {
     "name": "stdout",
     "output_type": "stream",
     "text": [
      "tensor(164.7117, grad_fn=<SumBackward0>)\n"
     ]
    },
    {
     "name": "stderr",
     "output_type": "stream",
     "text": [
      "\r",
      "  1%|█▎                                                                                                                                                       | 883/100000 [16:27:10<1664:39:38, 60.46s/it]"
     ]
    },
    {
     "name": "stdout",
     "output_type": "stream",
     "text": [
      "tensor(164.7117, grad_fn=<SumBackward0>)\n"
     ]
    },
    {
     "name": "stderr",
     "output_type": "stream",
     "text": [
      "\r",
      "  1%|█▎                                                                                                                                                       | 884/100000 [16:28:10<1654:39:00, 60.10s/it]"
     ]
    },
    {
     "name": "stdout",
     "output_type": "stream",
     "text": [
      "tensor(164.7117, grad_fn=<SumBackward0>)\n"
     ]
    },
    {
     "name": "stderr",
     "output_type": "stream",
     "text": [
      "\r",
      "  1%|█▎                                                                                                                                                       | 885/100000 [16:29:21<1745:19:16, 63.39s/it]"
     ]
    },
    {
     "name": "stdout",
     "output_type": "stream",
     "text": [
      "tensor(164.7117, grad_fn=<SumBackward0>)\n"
     ]
    },
    {
     "name": "stderr",
     "output_type": "stream",
     "text": [
      "\r",
      "  1%|█▎                                                                                                                                                       | 886/100000 [16:30:29<1782:14:01, 64.73s/it]"
     ]
    },
    {
     "name": "stdout",
     "output_type": "stream",
     "text": [
      "tensor(164.7117, grad_fn=<SumBackward0>)\n"
     ]
    },
    {
     "name": "stderr",
     "output_type": "stream",
     "text": [
      "\r",
      "  1%|█▎                                                                                                                                                       | 887/100000 [16:31:25<1710:12:12, 62.12s/it]"
     ]
    },
    {
     "name": "stdout",
     "output_type": "stream",
     "text": [
      "tensor(164.7117, grad_fn=<SumBackward0>)\n"
     ]
    },
    {
     "name": "stderr",
     "output_type": "stream",
     "text": [
      "\r",
      "  1%|█▎                                                                                                                                                       | 888/100000 [16:32:30<1735:42:03, 63.05s/it]"
     ]
    },
    {
     "name": "stdout",
     "output_type": "stream",
     "text": [
      "tensor(164.7117, grad_fn=<SumBackward0>)\n"
     ]
    },
    {
     "name": "stderr",
     "output_type": "stream",
     "text": [
      "\r",
      "  1%|█▎                                                                                                                                                       | 889/100000 [16:33:34<1744:23:49, 63.36s/it]"
     ]
    },
    {
     "name": "stdout",
     "output_type": "stream",
     "text": [
      "tensor(164.7117, grad_fn=<SumBackward0>)\n"
     ]
    },
    {
     "name": "stderr",
     "output_type": "stream",
     "text": [
      "\r",
      "  1%|█▎                                                                                                                                                       | 890/100000 [16:34:43<1790:24:05, 65.03s/it]"
     ]
    },
    {
     "name": "stdout",
     "output_type": "stream",
     "text": [
      "tensor(164.7117, grad_fn=<SumBackward0>)\n"
     ]
    },
    {
     "name": "stderr",
     "output_type": "stream",
     "text": [
      "\r",
      "  1%|█▎                                                                                                                                                       | 891/100000 [16:35:54<1840:25:43, 66.85s/it]"
     ]
    },
    {
     "name": "stdout",
     "output_type": "stream",
     "text": [
      "tensor(164.7117, grad_fn=<SumBackward0>)\n"
     ]
    },
    {
     "name": "stderr",
     "output_type": "stream",
     "text": [
      "\r",
      "  1%|█▎                                                                                                                                                       | 892/100000 [16:36:54<1786:54:26, 64.91s/it]"
     ]
    },
    {
     "name": "stdout",
     "output_type": "stream",
     "text": [
      "tensor(164.7117, grad_fn=<SumBackward0>)\n"
     ]
    },
    {
     "name": "stderr",
     "output_type": "stream",
     "text": [
      "\r",
      "  1%|█▎                                                                                                                                                       | 893/100000 [16:37:56<1759:12:05, 63.90s/it]"
     ]
    },
    {
     "name": "stdout",
     "output_type": "stream",
     "text": [
      "tensor(164.7117, grad_fn=<SumBackward0>)\n"
     ]
    },
    {
     "name": "stderr",
     "output_type": "stream",
     "text": [
      "\r",
      "  1%|█▎                                                                                                                                                       | 894/100000 [16:39:07<1821:03:40, 66.15s/it]"
     ]
    },
    {
     "name": "stdout",
     "output_type": "stream",
     "text": [
      "tensor(164.7117, grad_fn=<SumBackward0>)\n"
     ]
    },
    {
     "name": "stderr",
     "output_type": "stream",
     "text": [
      "\r",
      "  1%|█▎                                                                                                                                                       | 895/100000 [16:40:13<1816:18:01, 65.98s/it]"
     ]
    },
    {
     "name": "stdout",
     "output_type": "stream",
     "text": [
      "tensor(164.7117, grad_fn=<SumBackward0>)\n"
     ]
    },
    {
     "name": "stderr",
     "output_type": "stream",
     "text": [
      "\r",
      "  1%|█▎                                                                                                                                                       | 896/100000 [16:41:10<1744:57:34, 63.39s/it]"
     ]
    },
    {
     "name": "stdout",
     "output_type": "stream",
     "text": [
      "tensor(164.7117, grad_fn=<SumBackward0>)\n"
     ]
    },
    {
     "name": "stderr",
     "output_type": "stream",
     "text": [
      "\r",
      "  1%|█▎                                                                                                                                                       | 897/100000 [16:42:10<1718:57:55, 62.44s/it]"
     ]
    },
    {
     "name": "stdout",
     "output_type": "stream",
     "text": [
      "tensor(164.7117, grad_fn=<SumBackward0>)\n"
     ]
    },
    {
     "name": "stderr",
     "output_type": "stream",
     "text": [
      "\r",
      "  1%|█▎                                                                                                                                                       | 898/100000 [16:43:13<1724:29:51, 62.64s/it]"
     ]
    },
    {
     "name": "stdout",
     "output_type": "stream",
     "text": [
      "tensor(164.7117, grad_fn=<SumBackward0>)\n"
     ]
    },
    {
     "name": "stderr",
     "output_type": "stream",
     "text": [
      "\r",
      "  1%|█▍                                                                                                                                                       | 899/100000 [16:44:14<1702:57:52, 61.86s/it]"
     ]
    },
    {
     "name": "stdout",
     "output_type": "stream",
     "text": [
      "tensor(164.7117, grad_fn=<SumBackward0>)\n"
     ]
    },
    {
     "name": "stderr",
     "output_type": "stream",
     "text": [
      "\r",
      "  1%|█▍                                                                                                                                                       | 900/100000 [16:45:20<1737:26:28, 63.12s/it]"
     ]
    },
    {
     "name": "stdout",
     "output_type": "stream",
     "text": [
      "tensor(164.7117, grad_fn=<SumBackward0>)\n"
     ]
    },
    {
     "name": "stderr",
     "output_type": "stream",
     "text": [
      "\r",
      "  1%|█▍                                                                                                                                                       | 901/100000 [16:46:21<1723:29:58, 62.61s/it]"
     ]
    },
    {
     "name": "stdout",
     "output_type": "stream",
     "text": [
      "tensor(164.7117, grad_fn=<SumBackward0>)\n"
     ]
    },
    {
     "name": "stderr",
     "output_type": "stream",
     "text": [
      "\r",
      "  1%|█▍                                                                                                                                                       | 902/100000 [16:47:17<1666:13:00, 60.53s/it]"
     ]
    },
    {
     "name": "stdout",
     "output_type": "stream",
     "text": [
      "tensor(164.7117, grad_fn=<SumBackward0>)\n"
     ]
    },
    {
     "name": "stderr",
     "output_type": "stream",
     "text": [
      "\r",
      "  1%|█▍                                                                                                                                                       | 903/100000 [16:48:16<1652:59:27, 60.05s/it]"
     ]
    },
    {
     "name": "stdout",
     "output_type": "stream",
     "text": [
      "tensor(164.7117, grad_fn=<SumBackward0>)\n"
     ]
    },
    {
     "name": "stderr",
     "output_type": "stream",
     "text": [
      "\r",
      "  1%|█▍                                                                                                                                                       | 904/100000 [16:49:20<1685:53:31, 61.25s/it]"
     ]
    },
    {
     "name": "stdout",
     "output_type": "stream",
     "text": [
      "tensor(164.7117, grad_fn=<SumBackward0>)\n"
     ]
    },
    {
     "name": "stderr",
     "output_type": "stream",
     "text": [
      "\r",
      "  1%|█▍                                                                                                                                                       | 905/100000 [16:50:28<1741:37:57, 63.27s/it]"
     ]
    },
    {
     "name": "stdout",
     "output_type": "stream",
     "text": [
      "tensor(164.7117, grad_fn=<SumBackward0>)\n"
     ]
    },
    {
     "name": "stderr",
     "output_type": "stream",
     "text": [
      "\r",
      "  1%|█▍                                                                                                                                                       | 906/100000 [16:51:28<1713:36:54, 62.25s/it]"
     ]
    },
    {
     "name": "stdout",
     "output_type": "stream",
     "text": [
      "tensor(164.7117, grad_fn=<SumBackward0>)\n"
     ]
    },
    {
     "name": "stderr",
     "output_type": "stream",
     "text": [
      "\r",
      "  1%|█▍                                                                                                                                                       | 907/100000 [16:52:32<1727:58:38, 62.78s/it]"
     ]
    },
    {
     "name": "stdout",
     "output_type": "stream",
     "text": [
      "tensor(164.7117, grad_fn=<SumBackward0>)\n"
     ]
    },
    {
     "name": "stderr",
     "output_type": "stream",
     "text": [
      "\r",
      "  1%|█▍                                                                                                                                                       | 908/100000 [16:53:39<1769:18:44, 64.28s/it]"
     ]
    },
    {
     "name": "stdout",
     "output_type": "stream",
     "text": [
      "tensor(164.7117, grad_fn=<SumBackward0>)\n"
     ]
    },
    {
     "name": "stderr",
     "output_type": "stream",
     "text": [
      "\r",
      "  1%|█▍                                                                                                                                                       | 909/100000 [16:54:42<1754:57:31, 63.76s/it]"
     ]
    },
    {
     "name": "stdout",
     "output_type": "stream",
     "text": [
      "tensor(164.7117, grad_fn=<SumBackward0>)\n"
     ]
    },
    {
     "name": "stderr",
     "output_type": "stream",
     "text": [
      "\r",
      "  1%|█▍                                                                                                                                                       | 910/100000 [16:55:51<1795:41:00, 65.24s/it]"
     ]
    },
    {
     "name": "stdout",
     "output_type": "stream",
     "text": [
      "tensor(164.7117, grad_fn=<SumBackward0>)\n"
     ]
    },
    {
     "name": "stderr",
     "output_type": "stream",
     "text": [
      "\r",
      "  1%|█▍                                                                                                                                                       | 911/100000 [16:57:00<1832:19:16, 66.57s/it]"
     ]
    },
    {
     "name": "stdout",
     "output_type": "stream",
     "text": [
      "tensor(164.7117, grad_fn=<SumBackward0>)\n"
     ]
    },
    {
     "name": "stderr",
     "output_type": "stream",
     "text": [
      "\r",
      "  1%|█▍                                                                                                                                                       | 912/100000 [16:58:04<1813:06:46, 65.87s/it]"
     ]
    },
    {
     "name": "stdout",
     "output_type": "stream",
     "text": [
      "tensor(164.7117, grad_fn=<SumBackward0>)\n"
     ]
    },
    {
     "name": "stderr",
     "output_type": "stream",
     "text": [
      "\r",
      "  1%|█▍                                                                                                                                                       | 913/100000 [16:59:06<1780:59:13, 64.71s/it]"
     ]
    },
    {
     "name": "stdout",
     "output_type": "stream",
     "text": [
      "tensor(164.7117, grad_fn=<SumBackward0>)\n"
     ]
    },
    {
     "name": "stderr",
     "output_type": "stream",
     "text": [
      "\r",
      "  1%|█▍                                                                                                                                                       | 914/100000 [17:00:05<1732:43:53, 62.95s/it]"
     ]
    },
    {
     "name": "stdout",
     "output_type": "stream",
     "text": [
      "tensor(164.7117, grad_fn=<SumBackward0>)\n"
     ]
    },
    {
     "name": "stderr",
     "output_type": "stream",
     "text": [
      "\r",
      "  1%|█▍                                                                                                                                                       | 915/100000 [17:01:08<1730:26:58, 62.87s/it]"
     ]
    },
    {
     "name": "stdout",
     "output_type": "stream",
     "text": [
      "tensor(164.7117, grad_fn=<SumBackward0>)\n"
     ]
    },
    {
     "name": "stderr",
     "output_type": "stream",
     "text": [
      "\r",
      "  1%|█▍                                                                                                                                                       | 916/100000 [17:02:10<1725:39:11, 62.70s/it]"
     ]
    },
    {
     "name": "stdout",
     "output_type": "stream",
     "text": [
      "tensor(164.7117, grad_fn=<SumBackward0>)\n"
     ]
    },
    {
     "name": "stderr",
     "output_type": "stream",
     "text": [
      "\r",
      "  1%|█▍                                                                                                                                                       | 917/100000 [17:03:15<1742:19:36, 63.30s/it]"
     ]
    },
    {
     "name": "stdout",
     "output_type": "stream",
     "text": [
      "tensor(164.7117, grad_fn=<SumBackward0>)\n"
     ]
    },
    {
     "name": "stderr",
     "output_type": "stream",
     "text": [
      "\r",
      "  1%|█▍                                                                                                                                                       | 918/100000 [17:04:22<1773:02:25, 64.42s/it]"
     ]
    },
    {
     "name": "stdout",
     "output_type": "stream",
     "text": [
      "tensor(164.7117, grad_fn=<SumBackward0>)\n"
     ]
    },
    {
     "name": "stderr",
     "output_type": "stream",
     "text": [
      "\r",
      "  1%|█▍                                                                                                                                                       | 919/100000 [17:05:34<1833:22:37, 66.61s/it]"
     ]
    },
    {
     "name": "stdout",
     "output_type": "stream",
     "text": [
      "tensor(164.7117, grad_fn=<SumBackward0>)\n"
     ]
    },
    {
     "name": "stderr",
     "output_type": "stream",
     "text": [
      "\r",
      "  1%|█▍                                                                                                                                                       | 920/100000 [17:06:36<1794:02:27, 65.19s/it]"
     ]
    },
    {
     "name": "stdout",
     "output_type": "stream",
     "text": [
      "tensor(164.7117, grad_fn=<SumBackward0>)\n"
     ]
    },
    {
     "name": "stderr",
     "output_type": "stream",
     "text": [
      "\r",
      "  1%|█▍                                                                                                                                                       | 921/100000 [17:07:41<1792:23:57, 65.13s/it]"
     ]
    },
    {
     "name": "stdout",
     "output_type": "stream",
     "text": [
      "tensor(164.7117, grad_fn=<SumBackward0>)\n"
     ]
    },
    {
     "name": "stderr",
     "output_type": "stream",
     "text": [
      "\r",
      "  1%|█▍                                                                                                                                                       | 922/100000 [17:08:41<1755:34:53, 63.79s/it]"
     ]
    },
    {
     "name": "stdout",
     "output_type": "stream",
     "text": [
      "tensor(164.7117, grad_fn=<SumBackward0>)\n"
     ]
    },
    {
     "name": "stderr",
     "output_type": "stream",
     "text": [
      "\r",
      "  1%|█▍                                                                                                                                                       | 923/100000 [17:10:02<1896:01:42, 68.89s/it]"
     ]
    },
    {
     "name": "stdout",
     "output_type": "stream",
     "text": [
      "tensor(164.7117, grad_fn=<SumBackward0>)\n"
     ]
    },
    {
     "name": "stderr",
     "output_type": "stream",
     "text": [
      "\r",
      "  1%|█▍                                                                                                                                                       | 924/100000 [17:11:00<1807:58:50, 65.69s/it]"
     ]
    },
    {
     "name": "stdout",
     "output_type": "stream",
     "text": [
      "tensor(164.7117, grad_fn=<SumBackward0>)\n"
     ]
    },
    {
     "name": "stderr",
     "output_type": "stream",
     "text": [
      "\r",
      "  1%|█▍                                                                                                                                                       | 925/100000 [17:11:57<1734:20:32, 63.02s/it]"
     ]
    },
    {
     "name": "stdout",
     "output_type": "stream",
     "text": [
      "tensor(164.7117, grad_fn=<SumBackward0>)\n"
     ]
    },
    {
     "name": "stderr",
     "output_type": "stream",
     "text": [
      "\r",
      "  1%|█▍                                                                                                                                                       | 926/100000 [17:12:51<1655:43:16, 60.16s/it]"
     ]
    },
    {
     "name": "stdout",
     "output_type": "stream",
     "text": [
      "tensor(164.7117, grad_fn=<SumBackward0>)\n"
     ]
    },
    {
     "name": "stderr",
     "output_type": "stream",
     "text": [
      "\r",
      "  1%|█▍                                                                                                                                                       | 927/100000 [17:13:58<1716:38:31, 62.38s/it]"
     ]
    },
    {
     "name": "stdout",
     "output_type": "stream",
     "text": [
      "tensor(164.7117, grad_fn=<SumBackward0>)\n"
     ]
    },
    {
     "name": "stderr",
     "output_type": "stream",
     "text": [
      "\r",
      "  1%|█▍                                                                                                                                                       | 928/100000 [17:15:02<1729:46:37, 62.86s/it]"
     ]
    },
    {
     "name": "stdout",
     "output_type": "stream",
     "text": [
      "tensor(164.7117, grad_fn=<SumBackward0>)\n"
     ]
    },
    {
     "name": "stderr",
     "output_type": "stream",
     "text": [
      "\r",
      "  1%|█▍                                                                                                                                                       | 929/100000 [17:16:06<1735:19:44, 63.06s/it]"
     ]
    },
    {
     "name": "stdout",
     "output_type": "stream",
     "text": [
      "tensor(164.7117, grad_fn=<SumBackward0>)\n"
     ]
    },
    {
     "name": "stderr",
     "output_type": "stream",
     "text": [
      "\r",
      "  1%|█▍                                                                                                                                                       | 930/100000 [17:17:08<1726:50:29, 62.75s/it]"
     ]
    },
    {
     "name": "stdout",
     "output_type": "stream",
     "text": [
      "tensor(164.7117, grad_fn=<SumBackward0>)\n"
     ]
    },
    {
     "name": "stderr",
     "output_type": "stream",
     "text": [
      "\r",
      "  1%|█▍                                                                                                                                                       | 931/100000 [17:18:06<1693:23:27, 61.53s/it]"
     ]
    },
    {
     "name": "stdout",
     "output_type": "stream",
     "text": [
      "tensor(164.7117, grad_fn=<SumBackward0>)\n"
     ]
    },
    {
     "name": "stderr",
     "output_type": "stream",
     "text": [
      "\r",
      "  1%|█▍                                                                                                                                                       | 932/100000 [17:19:11<1721:28:05, 62.56s/it]"
     ]
    },
    {
     "name": "stdout",
     "output_type": "stream",
     "text": [
      "tensor(164.7117, grad_fn=<SumBackward0>)\n"
     ]
    },
    {
     "name": "stderr",
     "output_type": "stream",
     "text": [
      "\r",
      "  1%|█▍                                                                                                                                                       | 933/100000 [17:20:14<1723:40:21, 62.64s/it]"
     ]
    },
    {
     "name": "stdout",
     "output_type": "stream",
     "text": [
      "tensor(164.7117, grad_fn=<SumBackward0>)\n"
     ]
    },
    {
     "name": "stderr",
     "output_type": "stream",
     "text": [
      "\r",
      "  1%|█▍                                                                                                                                                       | 934/100000 [17:21:26<1798:01:01, 65.34s/it]"
     ]
    },
    {
     "name": "stdout",
     "output_type": "stream",
     "text": [
      "tensor(164.7117, grad_fn=<SumBackward0>)\n"
     ]
    },
    {
     "name": "stderr",
     "output_type": "stream",
     "text": [
      "\r",
      "  1%|█▍                                                                                                                                                       | 935/100000 [17:22:33<1810:39:50, 65.80s/it]"
     ]
    },
    {
     "name": "stdout",
     "output_type": "stream",
     "text": [
      "tensor(164.7117, grad_fn=<SumBackward0>)\n"
     ]
    },
    {
     "name": "stderr",
     "output_type": "stream",
     "text": [
      "\r",
      "  1%|█▍                                                                                                                                                       | 936/100000 [17:23:42<1839:24:23, 66.84s/it]"
     ]
    },
    {
     "name": "stdout",
     "output_type": "stream",
     "text": [
      "tensor(164.7117, grad_fn=<SumBackward0>)\n"
     ]
    },
    {
     "name": "stderr",
     "output_type": "stream",
     "text": [
      "\r",
      "  1%|█▍                                                                                                                                                       | 937/100000 [17:24:42<1782:33:35, 64.78s/it]"
     ]
    },
    {
     "name": "stdout",
     "output_type": "stream",
     "text": [
      "tensor(164.7117, grad_fn=<SumBackward0>)\n"
     ]
    },
    {
     "name": "stderr",
     "output_type": "stream",
     "text": [
      "\r",
      "  1%|█▍                                                                                                                                                       | 938/100000 [17:25:44<1759:06:20, 63.93s/it]"
     ]
    },
    {
     "name": "stdout",
     "output_type": "stream",
     "text": [
      "tensor(164.7117, grad_fn=<SumBackward0>)\n"
     ]
    },
    {
     "name": "stderr",
     "output_type": "stream",
     "text": [
      "\r",
      "  1%|█▍                                                                                                                                                       | 939/100000 [17:26:55<1817:24:35, 66.05s/it]"
     ]
    },
    {
     "name": "stdout",
     "output_type": "stream",
     "text": [
      "tensor(164.7117, grad_fn=<SumBackward0>)\n"
     ]
    },
    {
     "name": "stderr",
     "output_type": "stream",
     "text": [
      "\r",
      "  1%|█▍                                                                                                                                                       | 940/100000 [17:27:56<1779:51:18, 64.68s/it]"
     ]
    },
    {
     "name": "stdout",
     "output_type": "stream",
     "text": [
      "tensor(164.7117, grad_fn=<SumBackward0>)\n"
     ]
    },
    {
     "name": "stderr",
     "output_type": "stream",
     "text": [
      "\r",
      "  1%|█▍                                                                                                                                                       | 941/100000 [17:29:00<1768:06:58, 64.26s/it]"
     ]
    },
    {
     "name": "stdout",
     "output_type": "stream",
     "text": [
      "tensor(164.7117, grad_fn=<SumBackward0>)\n"
     ]
    },
    {
     "name": "stderr",
     "output_type": "stream",
     "text": [
      "\r",
      "  1%|█▍                                                                                                                                                       | 942/100000 [17:29:56<1705:06:29, 61.97s/it]"
     ]
    },
    {
     "name": "stdout",
     "output_type": "stream",
     "text": [
      "tensor(164.7117, grad_fn=<SumBackward0>)\n"
     ]
    },
    {
     "name": "stderr",
     "output_type": "stream",
     "text": [
      "\r",
      "  1%|█▍                                                                                                                                                       | 943/100000 [17:31:05<1762:54:27, 64.07s/it]"
     ]
    },
    {
     "name": "stdout",
     "output_type": "stream",
     "text": [
      "tensor(164.7117, grad_fn=<SumBackward0>)\n"
     ]
    },
    {
     "name": "stderr",
     "output_type": "stream",
     "text": [
      "\r",
      "  1%|█▍                                                                                                                                                       | 944/100000 [17:32:10<1768:27:56, 64.27s/it]"
     ]
    },
    {
     "name": "stdout",
     "output_type": "stream",
     "text": [
      "tensor(164.7117, grad_fn=<SumBackward0>)\n"
     ]
    },
    {
     "name": "stderr",
     "output_type": "stream",
     "text": [
      "\r",
      "  1%|█▍                                                                                                                                                       | 945/100000 [17:33:07<1709:24:05, 62.13s/it]"
     ]
    },
    {
     "name": "stdout",
     "output_type": "stream",
     "text": [
      "tensor(164.7117, grad_fn=<SumBackward0>)\n"
     ]
    },
    {
     "name": "stderr",
     "output_type": "stream",
     "text": [
      "\r",
      "  1%|█▍                                                                                                                                                       | 946/100000 [17:34:14<1747:38:35, 63.52s/it]"
     ]
    },
    {
     "name": "stdout",
     "output_type": "stream",
     "text": [
      "tensor(164.7117, grad_fn=<SumBackward0>)\n"
     ]
    },
    {
     "name": "stderr",
     "output_type": "stream",
     "text": [
      "\r",
      "  1%|█▍                                                                                                                                                       | 947/100000 [17:35:11<1692:08:01, 61.50s/it]"
     ]
    },
    {
     "name": "stdout",
     "output_type": "stream",
     "text": [
      "tensor(164.7117, grad_fn=<SumBackward0>)\n"
     ]
    },
    {
     "name": "stderr",
     "output_type": "stream",
     "text": [
      "\r",
      "  1%|█▍                                                                                                                                                       | 948/100000 [17:36:05<1635:28:26, 59.44s/it]"
     ]
    },
    {
     "name": "stdout",
     "output_type": "stream",
     "text": [
      "tensor(164.7117, grad_fn=<SumBackward0>)\n"
     ]
    },
    {
     "name": "stderr",
     "output_type": "stream",
     "text": [
      "\r",
      "  1%|█▍                                                                                                                                                       | 949/100000 [17:37:09<1673:24:08, 60.82s/it]"
     ]
    },
    {
     "name": "stdout",
     "output_type": "stream",
     "text": [
      "tensor(164.7117, grad_fn=<SumBackward0>)\n"
     ]
    },
    {
     "name": "stderr",
     "output_type": "stream",
     "text": [
      "\r",
      "  1%|█▍                                                                                                                                                       | 950/100000 [17:37:30<1339:44:24, 48.69s/it]"
     ]
    },
    {
     "name": "stdout",
     "output_type": "stream",
     "text": [
      "tensor(164.7117, grad_fn=<SumBackward0>)\n"
     ]
    },
    {
     "name": "stderr",
     "output_type": "stream",
     "text": [
      "\r",
      "  1%|█▍                                                                                                                                                       | 951/100000 [17:37:44<1052:55:15, 38.27s/it]"
     ]
    },
    {
     "name": "stdout",
     "output_type": "stream",
     "text": [
      "tensor(164.7117, grad_fn=<SumBackward0>)\n"
     ]
    }
   ],
   "source": [
    "lr = 0.005\n",
    "# alignment = torch.nn.parameter.Parameter(torch.zeros(len(small_index)))\n",
    "n_epochs = 100000\n",
    "\n",
    "optimizer = torch.optim.Adam(\n",
    "                [alignment],\n",
    "                lr=lr)#,  line_search_fn=\"strong_wolfe\")\n",
    "\n",
    "for i in tqdm(range(n_epochs)):\n",
    "    def closure():\n",
    "        optimizer.zero_grad()\n",
    "        sigma = torch.tensor(0.3)\n",
    "        dx = 0.05\n",
    "\n",
    "        emin = -24.5537\n",
    "        emax = 11.3464\n",
    "\n",
    "\n",
    "        ndos = int((emax-emin+3) / dx) #number of points\n",
    "        xdos = torch.linspace(emin-1.5, emax+1.5, ndos) # extend the energy grid by 3eV \n",
    "        ldos = torch.zeros((len(small_index), ndos))\n",
    "        for i in (range(len(small_index))):#for every structure    \n",
    "            ldos[i] = torch.sum(torch.exp(-0.5*((alignment[i] + xdos - full_eigen_energies[small_index[i]].view(-1,1))/sigma)**2), dim = 0)\n",
    "\n",
    "        final_ldos = ((ldos.T * normalization ).T)* 2\n",
    "        pc_loss = torch.sum((1 - torch.abs((torch.corrcoef(torch.hstack([kernel_features, final_ldos]).T)[0][1:])))**2)\n",
    "        #print (pc_loss)\n",
    "        pc_loss.backward()\n",
    "        return pc_loss\n",
    "    \n",
    "    mse = optimizer.step(closure)\n",
    "    \n",
    "    print (mse)"
   ]
  },
  {
   "cell_type": "code",
   "execution_count": 69,
   "id": "076e33b4",
   "metadata": {
    "ExecuteTime": {
     "end_time": "2023-02-16T17:05:04.438287Z",
     "start_time": "2023-02-16T17:05:04.427813Z"
    },
    "scrolled": true
   },
   "outputs": [
    {
     "data": {
      "text/plain": [
       "Parameter containing:\n",
       "tensor([-0.1655, -0.1923, -0.2154, -0.2509, -0.2577, -0.2701,  0.2464, -0.2979,\n",
       "        -0.2301, -0.2329, -0.2279, -0.2380, -0.2602, -0.2532, -0.2596, -0.2676,\n",
       "        -0.2761, -0.2890,  0.5101,  0.5081,  0.5539,  0.5427,  0.5161,  0.5198,\n",
       "         0.5513,  0.5197,  0.5648,  0.5330, -0.1460, -0.0513, -0.0574, -0.0767,\n",
       "        -0.1742, -0.2288, -0.1131, -0.0336, -0.0506, -0.1276, -0.0766,  0.9406,\n",
       "        -0.0891, -0.0968, -0.1290, -0.1507, -0.1674, -0.1613, -0.1441, -0.0996,\n",
       "        -0.3280, -0.3221, -0.3038, -0.3226, -0.2903,  0.6657,  0.6539,  0.7266,\n",
       "         0.6644,  0.6924,  0.7079,  0.7837,  0.7060,  0.6767,  0.6713, -0.0691,\n",
       "        -0.0627, -0.4847, -0.4327, -0.4816, -0.4737,  0.1141,  0.1114,  0.1101,\n",
       "         0.1099,  0.1110,  0.1133,  0.1158,  0.1136,  0.1112,  0.1099,  0.1096,\n",
       "         0.1103,  0.1118,  0.1140,  0.1126,  0.1106,  0.1096,  0.1092,  0.1096,\n",
       "         0.1107,  0.1122,  0.1115,  0.1100,  0.1091,  0.1090,  0.1094,  0.1099,\n",
       "         0.1107,  0.1104,  0.1098,  0.1094,  0.1094,  0.1095,  0.1098,  0.1100,\n",
       "         0.1097,  0.1099,  0.1102,  0.1103,  0.1105,  0.1105,  0.1101,  0.1096,\n",
       "         0.1107,  0.1116,  0.1122,  0.1126,  0.1122,  0.1114,  0.1090, -0.0729,\n",
       "        -0.4010, -0.3963, -0.4015, -0.3967, -0.3940, -0.3943, -0.4104, -0.4003,\n",
       "        -0.3907, -0.4076, -0.3853, -0.3878, -0.3909, -0.3943, -0.3984, -0.4025,\n",
       "        -0.4051, -0.3904, -0.3920, -0.3939, -0.3964, -0.4004, -0.4049, -0.4085,\n",
       "        -0.3939, -0.3947, -0.3956, -0.3976, -0.4015, -0.4065, -0.4110, -0.3953,\n",
       "        -0.3964, -0.3976, -0.3999, -0.4042, -0.4094, -0.4143, -0.3958, -0.3989,\n",
       "        -0.4018, -0.4052, -0.4097, -0.4147, -0.4193, -0.3965, -0.4023, -0.4074,\n",
       "        -0.4121, -0.4166, -0.4213, -0.4255, -0.3983, -0.4058, -0.4128, -0.4187,\n",
       "        -0.4236, -0.4279, -0.4312, -0.3965, -0.3999, -0.4123, -0.0915, -0.0856,\n",
       "        -0.0833, -0.0835, -0.0856, -0.0896, -0.0958, -0.1022, -0.1061, -0.1061,\n",
       "        -0.1051, -0.0932, -0.0881, -0.0858, -0.0851, -0.0870, -0.0922, -0.1004,\n",
       "        -0.1069, -0.1086, -0.1053, -0.1010, -0.0933, -0.0900, -0.0862, -0.0845,\n",
       "        -0.0870, -0.0936, -0.1009, -0.1047, -0.1036, -0.0993, -0.0943, -0.0950,\n",
       "        -0.0927, -0.0865, -0.0847, -0.0878, -0.0927, -0.0960, -0.0973, -0.0964,\n",
       "        -0.0934, -0.0895, -0.0978, -0.0952, -0.0880, -0.0869, -0.0891, -0.0898,\n",
       "        -0.0894, -0.0902, -0.0902, -0.0891, -0.0859, -0.0976, -0.0956, -0.0904,\n",
       "        -0.0901, -0.0898, -0.0865, -0.0839, -0.0846, -0.0854, -0.0849, -0.0816,\n",
       "        -0.0966, -0.0942, -0.0923, -0.0927, -0.0900, -0.0840, -0.0808, -0.0807,\n",
       "        -0.0818, -0.0808, -0.0773, -0.0922, -0.0914, -0.0921, -0.0936, -0.0902,\n",
       "        -0.0834, -0.0797, -0.0791, -0.0797, -0.0787, -0.0748, -0.0861, -0.0873,\n",
       "        -0.0884, -0.0910, -0.0892, -0.0836, -0.0790, -0.0784, -0.0785, -0.0777,\n",
       "        -0.0736, -0.0826, -0.0832, -0.0839, -0.0845, -0.0839, -0.0808, -0.0774,\n",
       "        -0.0763, -0.0762, -0.0748, -0.0706, -0.0907, -0.0837, -0.0811, -0.0779,\n",
       "        -0.0754, -0.0730, -0.0718, -0.0707, -0.0704, -0.0685, -0.0649,  0.3561,\n",
       "        -0.0842, -0.0894, -0.0880, -0.0884, -0.0867, -0.0874, -0.0863, -0.0889,\n",
       "        -0.0882, -0.0894, -0.0855, -0.0876, -0.0864, -0.0869, -0.0883, -0.0880,\n",
       "        -0.0881, -0.0870, -0.0854, -0.0876, -0.0833, -0.0891, -0.0850, -0.0863,\n",
       "        -0.0860, -0.0876, -0.0848, -0.0845, -0.0880, -0.0865, -0.1483,  0.1403,\n",
       "         0.1233,  0.1336,  0.1170,  0.1146,  0.1459,  0.0912,  0.1298,  0.1783,\n",
       "         0.1278,  0.1495,  0.0774,  0.1368,  0.1107,  0.1052,  0.0942,  0.0840,\n",
       "         0.1125,  0.1185,  0.1714,  0.1266,  0.1415,  0.1050,  0.0927,  0.1257,\n",
       "         0.1372,  0.0926,  0.1485,  0.1458,  0.0805,  0.1194,  0.1285,  0.1224,\n",
       "         0.1782,  0.1481,  0.1083,  0.1558,  0.1310,  0.1053,  0.1589,  0.1452,\n",
       "         0.0919,  0.1332,  0.1306,  0.0803,  0.0803,  0.1518,  0.1237,  0.1327,\n",
       "         0.1007,  0.1263,  0.1073,  0.1598,  0.1178,  0.1800,  0.0712,  0.1449,\n",
       "         0.0987,  0.1284,  0.0686,  0.1391,  0.0979,  0.1076,  0.1273,  0.1475,\n",
       "         0.1062,  0.1338,  0.1143,  0.1019,  0.1382,  0.1398,  0.1231,  0.1101,\n",
       "         0.0908,  0.0857,  0.0844,  0.1486,  0.1471,  0.0935,  0.1474,  0.1618,\n",
       "         0.1387,  0.1007,  0.1397,  0.1415,  0.1394,  0.1345,  0.0566,  0.1893,\n",
       "         0.0906,  0.1558,  0.1968,  0.1516,  0.1005,  0.1052,  0.1331,  0.1189,\n",
       "         0.1167,  0.1216,  0.1993], requires_grad=True)"
      ]
     },
     "execution_count": 69,
     "metadata": {},
     "output_type": "execute_result"
    }
   ],
   "source": [
    "alignment"
   ]
  },
  {
   "cell_type": "code",
   "execution_count": 66,
   "id": "934e17c7",
   "metadata": {
    "ExecuteTime": {
     "end_time": "2023-02-16T15:47:25.802455Z",
     "start_time": "2023-02-16T15:47:25.700189Z"
    }
   },
   "outputs": [
    {
     "data": {
      "text/plain": [
       "<matplotlib.collections.PathCollection at 0x7f4aa04493d0>"
      ]
     },
     "execution_count": 66,
     "metadata": {},
     "output_type": "execute_result"
    },
    {
     "data": {
      "image/png": "[encoded data removed]",
      "text/plain": [
       "<Figure size 432x288 with 1 Axes>"
      ]
     },
     "metadata": {
      "needs_background": "light"
     },
     "output_type": "display_data"
    }
   ],
   "source": [
    "plt.scatter(kernel_features, final_ldos[:,400].detach())"
   ]
  },
  {
   "cell_type": "code",
   "execution_count": 67,
   "id": "3860dbb7",
   "metadata": {
    "ExecuteTime": {
     "end_time": "2023-02-16T15:47:28.473354Z",
     "start_time": "2023-02-16T15:47:28.368329Z"
    }
   },
   "outputs": [
    {
     "data": {
      "text/plain": [
       "<matplotlib.collections.PathCollection at 0x7f4aa04493a0>"
      ]
     },
     "execution_count": 67,
     "metadata": {},
     "output_type": "execute_result"
    },
    {
     "data": {
      "image/png": "[encoded data removed]",
      "text/plain": [
       "<Figure size 432x288 with 1 Axes>"
      ]
     },
     "metadata": {
      "needs_background": "light"
     },
     "output_type": "display_data"
    }
   ],
   "source": [
    "plt.scatter(kernel_features, o_ldos[small_index,400].detach())"
   ]
  },
  {
   "cell_type": "code",
   "execution_count": 59,
   "id": "ee53d88f",
   "metadata": {
    "ExecuteTime": {
     "end_time": "2023-02-16T15:42:26.098736Z",
     "start_time": "2023-02-16T15:42:22.644273Z"
    }
   },
   "outputs": [
    {
     "name": "stderr",
     "output_type": "stream",
     "text": [
      "100%|███████████████████████████████████████████████████████████████████████████████████████████████████████████████████████████████████████████████████████████████████| 435/435 [00:03<00:00, 126.45it/s]\n"
     ]
    }
   ],
   "source": [
    "sigma = torch.tensor(0.3)\n",
    "dx = 0.05\n",
    "\n",
    "emin = -24.5537\n",
    "emax = 11.3464\n",
    "\n",
    "\n",
    "ndos = int((emax-emin+3) / dx) #number of points\n",
    "xdos = torch.linspace(emin-1.5, emax+1.5, ndos) # extend the energy grid by 3eV \n",
    "ldos = torch.zeros((len(small_index), ndos))\n",
    "for i in tqdm(range(len(small_index))):#for every structure    \n",
    "    ldos[i] = torch.sum(torch.exp(-0.5*((alignment[i] + xdos - full_eigen_energies[small_index[i]].view(-1,1))/sigma)**2), dim = 0)\n",
    "\n",
    "final_ldos = ((ldos.T * normalization ).T)* 2"
   ]
  },
  {
   "cell_type": "code",
   "execution_count": 27,
   "id": "6bcb88d7",
   "metadata": {
    "ExecuteTime": {
     "end_time": "2023-02-16T10:58:34.417184Z",
     "start_time": "2023-02-16T10:58:34.410405Z"
    }
   },
   "outputs": [
    {
     "data": {
      "text/plain": [
       "torch.Size([435, 778])"
      ]
     },
     "execution_count": 27,
     "metadata": {},
     "output_type": "execute_result"
    }
   ],
   "source": [
    "final_ldos.shape"
   ]
  },
  {
   "cell_type": "code",
   "execution_count": null,
   "id": "7ccc8921",
   "metadata": {},
   "outputs": [],
   "source": [
    "plt.plot()"
   ]
  },
  {
   "cell_type": "code",
   "execution_count": 64,
   "id": "d4de9e22",
   "metadata": {
    "ExecuteTime": {
     "end_time": "2023-02-16T15:46:50.908291Z",
     "start_time": "2023-02-16T15:46:47.778442Z"
    }
   },
   "outputs": [
    {
     "data": {
      "image/png": "[encoded data removed]",
      "text/plain": [
       "<Figure size 432x288 with 1 Axes>"
      ]
     },
     "metadata": {
      "needs_background": "light"
     },
     "output_type": "display_data"
    }
   ],
   "source": [
    "%matplotlib inline\n",
    "index = 50\n",
    "for index in range(len(small_index)):\n",
    "    #plt.plot(xdos, o_ldos[small_index[index]], c = 'r')\n",
    "    plt.plot(xdos, final_ldos[index].detach(), c = 'b')"
   ]
  },
  {
   "cell_type": "code",
   "execution_count": 65,
   "id": "4bea83eb",
   "metadata": {
    "ExecuteTime": {
     "end_time": "2023-02-16T15:47:02.762035Z",
     "start_time": "2023-02-16T15:46:59.784900Z"
    }
   },
   "outputs": [
    {
     "data": {
      "image/png": "[encoded data removed]",
      "text/plain": [
       "<Figure size 432x288 with 1 Axes>"
      ]
     },
     "metadata": {
      "needs_background": "light"
     },
     "output_type": "display_data"
    }
   ],
   "source": [
    "%matplotlib inline\n",
    "index = 50\n",
    "for index in range(len(small_index)):\n",
    "    plt.plot(xdos, o_ldos[small_index[index]], c = 'r')\n",
    "    #plt.plot(xdos, final_ldos[index].detach(), c = 'b')"
   ]
  },
  {
   "cell_type": "markdown",
   "id": "5370221a",
   "metadata": {},
   "source": [
    "torch.corrcoef\n",
    "torch.var"
   ]
  },
  {
   "cell_type": "code",
   "execution_count": 214,
   "id": "7b3dc001",
   "metadata": {
    "ExecuteTime": {
     "end_time": "2023-02-15T18:44:53.225075Z",
     "start_time": "2023-02-15T18:44:53.022945Z"
    }
   },
   "outputs": [
    {
     "name": "stdout",
     "output_type": "stream",
     "text": [
      "tensor(52)\n"
     ]
    },
    {
     "data": {
      "text/plain": [
       "[<matplotlib.lines.Line2D at 0x7f83b81d18b0>]"
      ]
     },
     "execution_count": 214,
     "metadata": {},
     "output_type": "execute_result"
    },
    {
     "data": {
      "image/png": "[encoded data removed]",
      "text/plain": [
       "<Figure size 432x288 with 1 Axes>"
      ]
     },
     "metadata": {
      "needs_background": "light"
     },
     "output_type": "display_data"
    }
   ],
   "source": [
    "tol = 1E-4\n",
    "print (torch.sum(test_ldos > tol))\n",
    "\n",
    "plt.plot(xdos[(test_ldos > tol)], test_ldos[(test_ldos > tol)])"
   ]
  },
  {
   "cell_type": "code",
   "execution_count": 216,
   "id": "841de3a5",
   "metadata": {
    "ExecuteTime": {
     "end_time": "2023-02-15T18:48:22.802628Z",
     "start_time": "2023-02-15T18:48:22.797671Z"
    }
   },
   "outputs": [
    {
     "data": {
      "text/plain": [
       "tensor([-1.2718, -1.2217, -1.1717, -1.1216, -1.0715, -1.0215, -0.9714, -0.9213,\n",
       "        -0.8713, -0.8212, -0.7711, -0.7211, -0.6710, -0.6209, -0.5709, -0.5208,\n",
       "        -0.4707, -0.4207, -0.3706, -0.3206, -0.2705, -0.2204, -0.1704, -0.1203,\n",
       "        -0.0702, -0.0202,  0.0299,  0.0800,  0.1300,  0.1801,  0.2302,  0.2802,\n",
       "         0.3303,  0.3803,  0.4304,  0.4805,  0.5305,  0.5806,  0.6307,  0.6807,\n",
       "         0.7308,  0.7809,  0.8309,  0.8810,  0.9311,  0.9811,  1.0312,  1.0813,\n",
       "         1.1313,  1.1814,  1.2314,  1.2815])"
      ]
     },
     "execution_count": 216,
     "metadata": {},
     "output_type": "execute_result"
    }
   ],
   "source": [
    "xdos[(test_ldos > tol)]"
   ]
  },
  {
   "cell_type": "code",
   "execution_count": 212,
   "id": "72c941ec",
   "metadata": {
    "ExecuteTime": {
     "end_time": "2023-02-15T18:43:55.022917Z",
     "start_time": "2023-02-15T18:43:55.004512Z"
    }
   },
   "outputs": [
    {
     "data": {
      "text/plain": [
       "tensor([6.3422e-155, 5.0089e-153, 3.8472e-151, 2.8738e-149, 2.0878e-147,\n",
       "        1.4751e-145, 1.0136e-143, 6.7735e-142, 4.4023e-140, 2.7826e-138,\n",
       "        1.7105e-136, 1.0226e-134, 5.9460e-133, 3.3623e-131, 1.8491e-129,\n",
       "        9.8900e-128, 5.1445e-126, 2.6026e-124, 1.2805e-122, 6.1272e-121,\n",
       "        2.8514e-119, 1.2906e-117, 5.6807e-116, 2.4319e-114, 1.0125e-112,\n",
       "        4.0999e-111, 1.6146e-109, 6.1840e-108, 2.3035e-106, 8.3453e-105,\n",
       "        2.9404e-103, 1.0076e-101, 3.3580e-100,  1.0885e-98,  3.4313e-97,\n",
       "         1.0520e-95,  3.1370e-94,  9.0977e-93,  2.5661e-91,  7.0396e-90,\n",
       "         1.8782e-88,  4.8739e-87,  1.2301e-85,  3.0194e-84,  7.2086e-83,\n",
       "         1.6738e-81,  3.7801e-80,  8.3031e-79,  1.7738e-77,  3.6858e-76,\n",
       "         7.4489e-75,  1.4642e-73,  2.7993e-72,  5.2054e-71,  9.4147e-70,\n",
       "         1.6562e-68,  2.8339e-67,  4.7164e-66,  7.6348e-65,  1.2021e-63,\n",
       "         1.8411e-62,  2.7426e-61,  3.9740e-60,  5.6011e-59,  7.6789e-58,\n",
       "         1.0240e-56,  1.3284e-55,  1.6761e-54,  2.0573e-53,  2.4563e-52,\n",
       "         2.8529e-51,  3.2233e-50,  3.5426e-49,  3.7876e-48,  3.9395e-47,\n",
       "         3.9860e-46,  3.9235e-45,  3.7572e-44,  3.5002e-43,  3.1723e-42,\n",
       "         2.7972e-41,  2.3996e-40,  2.0027e-39,  1.6263e-38,  1.2848e-37,\n",
       "         9.8763e-37,  7.3866e-36,  5.3754e-35,  3.8061e-34,  2.6223e-33,\n",
       "         1.7580e-32,  1.1468e-31,  7.2798e-31,  4.4967e-30,  2.7030e-29,\n",
       "         1.5811e-28,  9.0000e-28,  4.9857e-27,  2.6878e-26,  1.4102e-25,\n",
       "         7.2005e-25,  3.5783e-24,  1.7306e-23,  8.1466e-23,  3.7324e-22,\n",
       "         1.6644e-21,  7.2239e-21,  3.0518e-20,  1.2549e-19,  5.0228e-19,\n",
       "         1.9569e-18,  7.4212e-18,  2.7396e-17,  9.8450e-17,  3.4439e-16,\n",
       "         1.1728e-15,  3.8879e-15,  1.2547e-14,  3.9422e-14,  1.2058e-13,\n",
       "         3.5908e-13,  1.0411e-12,  2.9388e-12,  8.0771e-12,  2.1615e-11,\n",
       "         5.6326e-11,  1.4292e-10,  3.5316e-10,  8.4984e-10,  1.9917e-09,\n",
       "         4.5462e-09,  1.0108e-08,  2.1891e-08,  4.6188e-08,  9.4948e-08,\n",
       "         1.9018e-07,  3.7123e-07,  7.0625e-07,  1.3097e-06,  2.3680e-06,\n",
       "         4.1747e-06,  7.1780e-06,  1.2040e-05,  1.9703e-05,  3.1471e-05,\n",
       "         4.9073e-05,  7.4723e-05,  1.1115e-04,  1.6157e-04,  2.2961e-04,\n",
       "         3.1913e-04,  4.3403e-04,  5.7795e-04,  7.5390e-04,  9.6401e-04,\n",
       "         1.2092e-03,  1.4889e-03,  1.8013e-03,  2.1430e-03,  2.5095e-03,\n",
       "         2.8954e-03,  3.2947e-03,  3.7016e-03,  4.1104e-03,  4.5160e-03,\n",
       "         4.9145e-03,  5.3026e-03,  5.6785e-03,  6.0412e-03,  6.3907e-03,\n",
       "         6.7276e-03,  7.0533e-03,  7.3692e-03,  7.6766e-03,  7.9769e-03,\n",
       "         8.2709e-03,  8.5594e-03,  8.8429e-03,  9.1222e-03,  9.3985e-03,\n",
       "         9.6734e-03,  9.9487e-03,  1.0227e-02,  1.0510e-02,  1.0801e-02,\n",
       "         1.1099e-02,  1.1406e-02,  1.1722e-02,  1.2045e-02,  1.2374e-02,\n",
       "         1.2710e-02,  1.3052e-02,  1.3400e-02,  1.3755e-02,  1.4118e-02,\n",
       "         1.4490e-02,  1.4869e-02,  1.5254e-02,  1.5642e-02,  1.6028e-02,\n",
       "         1.6404e-02,  1.6766e-02,  1.7105e-02,  1.7414e-02,  1.7688e-02,\n",
       "         1.7922e-02,  1.8112e-02,  1.8255e-02,  1.8351e-02,  1.8399e-02,\n",
       "         1.8399e-02,  1.8352e-02,  1.8259e-02,  1.8120e-02,  1.7937e-02,\n",
       "         1.7710e-02,  1.7442e-02,  1.7136e-02,  1.6794e-02,  1.6423e-02,\n",
       "         1.6028e-02,  1.5613e-02,  1.5183e-02,  1.4743e-02,  1.4293e-02,\n",
       "         1.3835e-02,  1.3368e-02,  1.2889e-02,  1.2397e-02,  1.1888e-02,\n",
       "         1.1362e-02,  1.0818e-02,  1.0259e-02,  9.6895e-03,  9.1150e-03,\n",
       "         8.5447e-03,  7.9887e-03,  7.4592e-03,  6.9691e-03,  6.5323e-03,\n",
       "         6.1628e-03,  5.8745e-03,  5.6806e-03,  5.5934e-03,  5.6234e-03,\n",
       "         5.7799e-03,  6.0695e-03,  6.4967e-03,  7.0630e-03,  7.7663e-03,\n",
       "         8.6010e-03,  9.5568e-03,  1.0619e-02,  1.1768e-02,  1.2979e-02,\n",
       "         1.4224e-02,  1.5471e-02,  1.6688e-02,  1.7842e-02,  1.8901e-02,\n",
       "         1.9838e-02,  2.0628e-02,  2.1254e-02,  2.1703e-02,  2.1969e-02,\n",
       "         2.2054e-02,  2.1963e-02,  2.1709e-02,  2.1309e-02,  2.0785e-02,\n",
       "         2.0162e-02,  1.9465e-02,  1.8721e-02,  1.7956e-02,  1.7192e-02,\n",
       "         1.6449e-02,  1.5740e-02,  1.5075e-02,  1.4459e-02,  1.3892e-02,\n",
       "         1.3370e-02,  1.2888e-02,  1.2440e-02,  1.2019e-02,  1.1618e-02,\n",
       "         1.1233e-02,  1.0862e-02,  1.0505e-02,  1.0161e-02,  9.8354e-03,\n",
       "         9.5303e-03,  9.2505e-03,  9.0001e-03,  8.7829e-03,  8.6025e-03,\n",
       "         8.4619e-03,  8.3648e-03,  8.3153e-03,  8.3191e-03,  8.3840e-03,\n",
       "         8.5201e-03,  8.7394e-03,  9.0557e-03,  9.4823e-03,  1.0031e-02,\n",
       "         1.0711e-02,  1.1523e-02,  1.2465e-02,  1.3523e-02,  1.4678e-02,\n",
       "         1.5903e-02,  1.7166e-02,  1.8430e-02,  1.9662e-02,  2.0826e-02,\n",
       "         2.1895e-02,  2.2845e-02,  2.3663e-02,  2.4343e-02,  2.4887e-02,\n",
       "         2.5307e-02,  2.5619e-02,  2.5846e-02,  2.6013e-02,  2.6148e-02,\n",
       "         2.6274e-02,  2.6415e-02,  2.6587e-02,  2.6803e-02,  2.7072e-02,\n",
       "         2.7395e-02,  2.7774e-02,  2.8203e-02,  2.8676e-02,  2.9185e-02,\n",
       "         2.9720e-02,  3.0271e-02,  3.0826e-02,  3.1369e-02,  3.1886e-02,\n",
       "         3.2363e-02,  3.2785e-02,  3.3140e-02,  3.3418e-02,  3.3616e-02,\n",
       "         3.3734e-02,  3.3776e-02,  3.3752e-02,  3.3675e-02,  3.3559e-02,\n",
       "         3.3418e-02,  3.3263e-02,  3.3102e-02,  3.2942e-02,  3.2781e-02,\n",
       "         3.2618e-02,  3.2444e-02,  3.2252e-02,  3.2032e-02,  3.1775e-02,\n",
       "         3.1472e-02,  3.1116e-02,  3.0701e-02,  3.0226e-02,  2.9688e-02,\n",
       "         2.9089e-02,  2.8432e-02,  2.7722e-02,  2.6965e-02,  2.6168e-02,\n",
       "         2.5340e-02,  2.4489e-02,  2.3622e-02,  2.2749e-02,  2.1873e-02,\n",
       "         2.1000e-02,  2.0131e-02,  1.9268e-02,  1.8409e-02,  1.7553e-02,\n",
       "         1.6697e-02,  1.5840e-02,  1.4981e-02,  1.4119e-02,  1.3255e-02,\n",
       "         1.2392e-02,  1.1534e-02,  1.0685e-02,  9.8508e-03,  9.0375e-03,\n",
       "         8.2506e-03,  7.4957e-03,  6.7779e-03,  6.1023e-03,  5.4731e-03,\n",
       "         4.8947e-03,  4.3709e-03,  3.9051e-03,  3.5007e-03,  3.1604e-03,\n",
       "         2.8866e-03,  2.6809e-03,  2.5448e-03,  2.4785e-03,  2.4823e-03,\n",
       "         2.5554e-03,  2.6967e-03,  2.9047e-03,  3.1773e-03,  3.5120e-03,\n",
       "         3.9057e-03,  4.3549e-03,  4.8558e-03,  5.4040e-03,  5.9951e-03,\n",
       "         6.6248e-03,  7.2894e-03,  7.9860e-03,  8.7128e-03,  9.4696e-03,\n",
       "         1.0257e-02,  1.1078e-02,  1.1935e-02,  1.2832e-02,  1.3770e-02,\n",
       "         1.4753e-02,  1.5779e-02,  1.6847e-02,  1.7953e-02,  1.9089e-02,\n",
       "         2.0248e-02,  2.1419e-02,  2.2587e-02,  2.3740e-02,  2.4860e-02,\n",
       "         2.5930e-02,  2.6934e-02,  2.7854e-02,  2.8677e-02,  2.9391e-02,\n",
       "         2.9987e-02,  3.0465e-02,  3.0828e-02,  3.1083e-02,  3.1246e-02,\n",
       "         3.1334e-02,  3.1367e-02,  3.1367e-02,  3.1353e-02,  3.1345e-02,\n",
       "         3.1357e-02,  3.1402e-02,  3.1485e-02,  3.1612e-02,  3.1781e-02,\n",
       "         3.1991e-02,  3.2236e-02,  3.2511e-02,  3.2810e-02,  3.3127e-02,\n",
       "         3.3455e-02,  3.3790e-02,  3.4128e-02,  3.4464e-02,  3.4794e-02,\n",
       "         3.5115e-02,  3.5424e-02,  3.5715e-02,  3.5985e-02,  3.6228e-02,\n",
       "         3.6439e-02,  3.6610e-02,  3.6737e-02,  3.6813e-02,  3.6834e-02,\n",
       "         3.6796e-02,  3.6700e-02,  3.6546e-02,  3.6337e-02,  3.6082e-02,\n",
       "         3.5786e-02,  3.5457e-02,  3.5104e-02,  3.4733e-02,  3.4347e-02,\n",
       "         3.3949e-02,  3.3540e-02,  3.3121e-02,  3.2693e-02,  3.2260e-02,\n",
       "         3.1829e-02,  3.1409e-02,  3.1009e-02,  3.0644e-02,  3.0325e-02,\n",
       "         3.0061e-02,  2.9857e-02,  2.9716e-02,  2.9633e-02,  2.9600e-02,\n",
       "         2.9603e-02,  2.9629e-02,  2.9661e-02,  2.9684e-02,  2.9686e-02,\n",
       "         2.9655e-02,  2.9585e-02,  2.9473e-02,  2.9319e-02,  2.9126e-02,\n",
       "         2.8900e-02,  2.8650e-02,  2.8384e-02,  2.8113e-02,  2.7847e-02,\n",
       "         2.7594e-02,  2.7362e-02,  2.7156e-02,  2.6977e-02,  2.6824e-02,\n",
       "         2.6696e-02,  2.6588e-02,  2.6496e-02,  2.6415e-02,  2.6346e-02,\n",
       "         2.6287e-02,  2.6243e-02,  2.6218e-02,  2.6216e-02,  2.6243e-02,\n",
       "         2.6301e-02,  2.6393e-02,  2.6517e-02,  2.6669e-02,  2.6844e-02,\n",
       "         2.7035e-02,  2.7236e-02,  2.7439e-02,  2.7637e-02,  2.7824e-02,\n",
       "         2.7993e-02,  2.8140e-02,  2.8262e-02,  2.8354e-02,  2.8416e-02,\n",
       "         2.8448e-02,  2.8452e-02,  2.8433e-02,  2.8395e-02,  2.8345e-02,\n",
       "         2.8290e-02,  2.8237e-02,  2.8193e-02,  2.8165e-02,  2.8157e-02,\n",
       "         2.8174e-02,  2.8218e-02,  2.8288e-02,  2.8385e-02,  2.8504e-02,\n",
       "         2.8638e-02,  2.8781e-02,  2.8924e-02,  2.9058e-02,  2.9173e-02,\n",
       "         2.9263e-02,  2.9321e-02,  2.9345e-02,  2.9334e-02,  2.9291e-02,\n",
       "         2.9219e-02,  2.9125e-02,  2.9017e-02,  2.8904e-02,  2.8792e-02,\n",
       "         2.8691e-02,  2.8606e-02,  2.8541e-02,  2.8500e-02,  2.8481e-02,\n",
       "         2.8483e-02,  2.8499e-02,  2.8521e-02,  2.8540e-02,  2.8546e-02,\n",
       "         2.8530e-02,  2.8484e-02,  2.8405e-02,  2.8292e-02,  2.8148e-02,\n",
       "         2.7980e-02,  2.7796e-02,  2.7609e-02,  2.7430e-02,  2.7269e-02,\n",
       "         2.7134e-02,  2.7031e-02,  2.6963e-02,  2.6927e-02,  2.6919e-02,\n",
       "         2.6930e-02,  2.6948e-02,  2.6961e-02,  2.6952e-02,  2.6904e-02,\n",
       "         2.6801e-02,  2.6626e-02,  2.6365e-02,  2.6006e-02,  2.5543e-02,\n",
       "         2.4973e-02,  2.4301e-02,  2.3538e-02,  2.2700e-02,  2.1810e-02,\n",
       "         2.0892e-02,  1.9973e-02,  1.9080e-02,  1.8233e-02,  1.7450e-02,\n",
       "         1.6737e-02,  1.6094e-02,  1.5512e-02,  1.4972e-02,  1.4453e-02,\n",
       "         1.3929e-02,  1.3377e-02,  1.2778e-02,  1.2118e-02,  1.1393e-02,\n",
       "         1.0608e-02,  9.7757e-03,  8.9154e-03,  8.0504e-03,  7.2048e-03,\n",
       "         6.4011e-03,  5.6575e-03,  4.9864e-03,  4.3937e-03,  3.8789e-03,\n",
       "         3.4362e-03,  3.0560e-03,  2.7265e-03,  2.4358e-03,  2.1729e-03,\n",
       "         1.9294e-03,  1.6996e-03,  1.4805e-03,  1.2716e-03,  1.0744e-03,\n",
       "         8.9123e-04,  7.2458e-04,  5.7664e-04,  4.4874e-04,  3.4120e-04,\n",
       "         2.5331e-04,  1.8353e-04,  1.2972e-04,  8.9409e-05,  6.0078e-05,\n",
       "         3.9347e-05,  2.5111e-05,  1.5615e-05,  9.4585e-06,  5.5809e-06,\n",
       "         3.2071e-06,  1.7948e-06,  9.7804e-07,  5.1895e-07,  2.6809e-07,\n",
       "         1.3483e-07,  6.6014e-08,  3.1463e-08,  1.4596e-08,  6.5912e-09,\n",
       "         2.8969e-09,  1.2392e-09,  5.1590e-10,  2.0903e-10,  8.2419e-11,\n",
       "         3.1625e-11,  1.1809e-11,  4.2907e-12,  1.5171e-12,  5.2193e-13,\n",
       "         1.7472e-13,  5.6912e-14,  1.8037e-14,  5.5620e-15,  1.6688e-15,\n",
       "         4.8712e-16,  1.3835e-16,  3.8227e-17,  1.0276e-17,  2.6876e-18,\n",
       "         6.8383e-19,  1.6927e-19,  4.0763e-20,  9.5496e-21,  2.1764e-21,\n",
       "         4.8253e-22,  1.0407e-22,  2.1836e-23,  4.4569e-24,  8.8491e-25,\n",
       "         1.7091e-25,  3.2112e-26,  5.8689e-27,  1.0434e-27,  1.8044e-28,\n",
       "         3.0355e-29,  4.9671e-30,  7.9062e-31,  1.2241e-31,  1.8435e-32,\n",
       "         2.7007e-33,  3.8482e-34,  5.3338e-35,  7.1908e-36,  9.4296e-37,\n",
       "         1.2028e-37,  1.4922e-38,  1.8008e-39,  2.1137e-40,  2.4132e-41,\n",
       "         2.6798e-42,  2.8944e-43,  3.0408e-44,  3.1072e-45,  3.0882e-46,\n",
       "         2.9853e-47,  2.8069e-48,  2.5669e-49,  2.2832e-50,  1.9753e-51,\n",
       "         1.6621e-52,  1.3603e-53,  1.0828e-54,  8.3836e-56,  6.3130e-57,\n",
       "         4.6236e-58,  3.2936e-59,  2.2819e-60,  1.5377e-61,  1.0078e-62,\n",
       "         6.4239e-64,  3.9826e-65,  2.4015e-66,  1.4084e-67,  8.0333e-69,\n",
       "         4.4566e-70,  2.4046e-71,  1.2619e-72,  6.4403e-74,  3.1970e-75,\n",
       "         1.5435e-76,  7.2475e-78,  3.3098e-79,  1.4701e-80,  6.3506e-82,\n",
       "         2.6681e-83,  1.0903e-84,  4.3329e-86,  1.6748e-87,  6.2957e-89,\n",
       "         2.3018e-90,  8.1849e-92,  2.8306e-93,  9.5207e-95,  3.1144e-96,\n",
       "         9.9086e-98,  3.0660e-99, 9.2266e-101, 2.7005e-102, 7.6870e-104,\n",
       "        2.1281e-105, 5.7300e-107, 1.5005e-108])"
      ]
     },
     "execution_count": 212,
     "metadata": {},
     "output_type": "execute_result"
    }
   ],
   "source": [
    "ldos[0]"
   ]
  },
  {
   "cell_type": "code",
   "execution_count": 154,
   "id": "7510c9a0",
   "metadata": {
    "ExecuteTime": {
     "end_time": "2023-02-14T12:47:02.295618Z",
     "start_time": "2023-02-14T12:33:29.004700Z"
    }
   },
   "outputs": [
    {
     "name": "stderr",
     "output_type": "stream",
     "text": [
      "100%|██████████████████████████████████████████████████████████████████████████████████████████████████████████████████████████████████████████████████████████████████| 1039/1039 [13:33<00:00,  1.28it/s]\n"
     ]
    }
   ],
   "source": [
    "sigma = torch.tensor(0.3)\n",
    "dx = 0.05\n",
    "\n",
    "ndos = int((emax-emin+3) / dx) #number of points\n",
    "xdos = torch.linspace(emin-1.5, emax+1.5, ndos) # extend the energy grid by 3eV \n",
    "ldos = torch.zeros((len(full_eigen_energies), ndos))\n",
    "for i in tqdm(range(len(full_eigen_energies))):#for every structure    \n",
    "    for ei in full_eigen_energies[i]:#for every energy level\n",
    "        ldos[i] += torch.exp(-0.5*((xdos[:]-ei)/sigma)**2) #puts a gaussian centered on the energy level\n",
    "    ldos[i] *= 1/torch.sqrt(2*torch.tensor(np.pi)*sigma**2)/n_atoms[i]/len(full_eigen_energies[i]) #normalize"
   ]
  },
  {
   "cell_type": "code",
   "execution_count": 181,
   "id": "bc69394a",
   "metadata": {
    "ExecuteTime": {
     "end_time": "2023-02-14T13:14:29.018511Z",
     "start_time": "2023-02-14T13:00:48.948943Z"
    }
   },
   "outputs": [
    {
     "name": "stderr",
     "output_type": "stream",
     "text": [
      "100%|██████████████████████████████████████████████████████████████████████████████████████████████████████████████████████████████████████████████████████████████████| 1039/1039 [13:40<00:00,  1.27it/s]\n"
     ]
    }
   ],
   "source": [
    "sigma = torch.tensor(0.3)\n",
    "dx = 0.05\n",
    "\n",
    "ndos3 = int((emax-emin+3) / dx) #number of points\n",
    "xdos3 = torch.linspace(emin-1.5, emax+1.5, ndos) # extend the energy grid by 3eV \n",
    "ldos3 = torch.zeros((len(full_eigen_energies), ndos))\n",
    "for i in tqdm(range(len(eigen_energies))):#for every structure    \n",
    "    for ei in full_eigen_energies[i]:#for every energy level\n",
    "        ldos3[i] += torch.exp(-0.5*((xdos[:]-ei)/sigma)**2) #puts a gaussian centered on the energy level\n",
    "    ldos3[i] *= 1/torch.sqrt(2*np.pi*sigma**2)/n_atoms[i]/len(eigen_energies[i]) #normalize"
   ]
  },
  {
   "cell_type": "code",
   "execution_count": 156,
   "id": "dc15209a",
   "metadata": {
    "ExecuteTime": {
     "end_time": "2023-02-14T12:47:02.363920Z",
     "start_time": "2023-02-14T12:47:02.318393Z"
    }
   },
   "outputs": [
    {
     "data": {
      "text/plain": [
       "torch.Size([1039, 778])"
      ]
     },
     "execution_count": 156,
     "metadata": {},
     "output_type": "execute_result"
    }
   ],
   "source": [
    "ldos.shape"
   ]
  },
  {
   "cell_type": "code",
   "execution_count": 155,
   "id": "4f93fad6",
   "metadata": {
    "ExecuteTime": {
     "end_time": "2023-02-14T12:47:02.316609Z",
     "start_time": "2023-02-14T12:47:02.298933Z"
    }
   },
   "outputs": [],
   "source": [
    "load_ldos = torch.tensor(data.load_ldos())"
   ]
  },
  {
   "cell_type": "code",
   "execution_count": 157,
   "id": "d277222c",
   "metadata": {
    "ExecuteTime": {
     "end_time": "2023-02-14T12:47:02.392856Z",
     "start_time": "2023-02-14T12:47:02.366242Z"
    }
   },
   "outputs": [
    {
     "data": {
      "text/plain": [
       "torch.Size([1039, 778])"
      ]
     },
     "execution_count": 157,
     "metadata": {},
     "output_type": "execute_result"
    }
   ],
   "source": [
    "load_ldos.shape"
   ]
  },
  {
   "cell_type": "code",
   "execution_count": 182,
   "id": "ff134d49",
   "metadata": {
    "ExecuteTime": {
     "end_time": "2023-02-14T14:26:23.617209Z",
     "start_time": "2023-02-14T14:26:23.607748Z"
    }
   },
   "outputs": [
    {
     "data": {
      "text/plain": [
       "tensor(1.8786e-11)"
      ]
     },
     "execution_count": 182,
     "metadata": {},
     "output_type": "execute_result"
    }
   ],
   "source": [
    "torch.sum(ldos3 - load_ldos)"
   ]
  },
  {
   "cell_type": "code",
   "execution_count": 167,
   "id": "215a844f",
   "metadata": {
    "ExecuteTime": {
     "end_time": "2023-02-14T12:55:38.525039Z",
     "start_time": "2023-02-14T12:55:38.512196Z"
    }
   },
   "outputs": [
    {
     "data": {
      "text/plain": [
       "tensor([6.3422e-155, 5.0089e-153, 3.8472e-151, 2.8738e-149, 2.0878e-147,\n",
       "        1.4751e-145, 1.0136e-143, 6.7735e-142, 4.4023e-140, 2.7826e-138,\n",
       "        1.7105e-136, 1.0226e-134, 5.9460e-133, 3.3623e-131, 1.8491e-129,\n",
       "        9.8900e-128, 5.1445e-126, 2.6026e-124, 1.2805e-122, 6.1272e-121,\n",
       "        2.8514e-119, 1.2906e-117, 5.6807e-116, 2.4319e-114, 1.0125e-112,\n",
       "        4.0999e-111, 1.6146e-109, 6.1840e-108, 2.3035e-106, 8.3453e-105,\n",
       "        2.9404e-103, 1.0076e-101, 3.3580e-100,  1.0885e-98,  3.4313e-97,\n",
       "         1.0520e-95,  3.1370e-94,  9.0977e-93,  2.5661e-91,  7.0396e-90,\n",
       "         1.8782e-88,  4.8739e-87,  1.2301e-85,  3.0194e-84,  7.2086e-83,\n",
       "         1.6738e-81,  3.7801e-80,  8.3031e-79,  1.7738e-77,  3.6858e-76,\n",
       "         7.4489e-75,  1.4642e-73,  2.7993e-72,  5.2054e-71,  9.4147e-70,\n",
       "         1.6562e-68,  2.8339e-67,  4.7164e-66,  7.6348e-65,  1.2021e-63,\n",
       "         1.8411e-62,  2.7426e-61,  3.9740e-60,  5.6011e-59,  7.6789e-58,\n",
       "         1.0240e-56,  1.3284e-55,  1.6761e-54,  2.0573e-53,  2.4563e-52,\n",
       "         2.8529e-51,  3.2233e-50,  3.5426e-49,  3.7876e-48,  3.9395e-47,\n",
       "         3.9860e-46,  3.9235e-45,  3.7572e-44,  3.5002e-43,  3.1723e-42,\n",
       "         2.7972e-41,  2.3996e-40,  2.0027e-39,  1.6263e-38,  1.2848e-37,\n",
       "         9.8763e-37,  7.3866e-36,  5.3754e-35,  3.8061e-34,  2.6223e-33,\n",
       "         1.7580e-32,  1.1468e-31,  7.2798e-31,  4.4967e-30,  2.7030e-29,\n",
       "         1.5811e-28,  9.0000e-28,  4.9857e-27,  2.6878e-26,  1.4102e-25,\n",
       "         7.2005e-25,  3.5783e-24,  1.7306e-23,  8.1466e-23,  3.7324e-22,\n",
       "         1.6644e-21,  7.2239e-21,  3.0518e-20,  1.2549e-19,  5.0228e-19,\n",
       "         1.9569e-18,  7.4212e-18,  2.7396e-17,  9.8450e-17,  3.4439e-16,\n",
       "         1.1728e-15,  3.8879e-15,  1.2547e-14,  3.9422e-14,  1.2058e-13,\n",
       "         3.5908e-13,  1.0411e-12,  2.9388e-12,  8.0771e-12,  2.1615e-11,\n",
       "         5.6326e-11,  1.4292e-10,  3.5316e-10,  8.4984e-10,  1.9917e-09,\n",
       "         4.5462e-09,  1.0108e-08,  2.1891e-08,  4.6188e-08,  9.4948e-08,\n",
       "         1.9018e-07,  3.7123e-07,  7.0625e-07,  1.3097e-06,  2.3680e-06,\n",
       "         4.1747e-06,  7.1780e-06,  1.2040e-05,  1.9703e-05,  3.1471e-05,\n",
       "         4.9073e-05,  7.4723e-05,  1.1115e-04,  1.6157e-04,  2.2961e-04,\n",
       "         3.1913e-04,  4.3403e-04,  5.7795e-04,  7.5390e-04,  9.6401e-04,\n",
       "         1.2092e-03,  1.4889e-03,  1.8013e-03,  2.1430e-03,  2.5095e-03,\n",
       "         2.8954e-03,  3.2947e-03,  3.7016e-03,  4.1104e-03,  4.5160e-03,\n",
       "         4.9145e-03,  5.3026e-03,  5.6785e-03,  6.0412e-03,  6.3907e-03,\n",
       "         6.7276e-03,  7.0533e-03,  7.3692e-03,  7.6766e-03,  7.9769e-03,\n",
       "         8.2709e-03,  8.5594e-03,  8.8429e-03,  9.1222e-03,  9.3985e-03,\n",
       "         9.6734e-03,  9.9487e-03,  1.0227e-02,  1.0510e-02,  1.0801e-02,\n",
       "         1.1099e-02,  1.1406e-02,  1.1722e-02,  1.2045e-02,  1.2374e-02,\n",
       "         1.2710e-02,  1.3052e-02,  1.3400e-02,  1.3755e-02,  1.4118e-02,\n",
       "         1.4490e-02,  1.4869e-02,  1.5254e-02,  1.5642e-02,  1.6028e-02,\n",
       "         1.6404e-02,  1.6766e-02,  1.7105e-02,  1.7414e-02,  1.7688e-02,\n",
       "         1.7922e-02,  1.8112e-02,  1.8255e-02,  1.8351e-02,  1.8399e-02,\n",
       "         1.8399e-02,  1.8352e-02,  1.8259e-02,  1.8120e-02,  1.7937e-02,\n",
       "         1.7710e-02,  1.7442e-02,  1.7136e-02,  1.6794e-02,  1.6423e-02,\n",
       "         1.6028e-02,  1.5613e-02,  1.5183e-02,  1.4743e-02,  1.4293e-02,\n",
       "         1.3835e-02,  1.3368e-02,  1.2889e-02,  1.2397e-02,  1.1888e-02,\n",
       "         1.1362e-02,  1.0818e-02,  1.0259e-02,  9.6895e-03,  9.1150e-03,\n",
       "         8.5447e-03,  7.9887e-03,  7.4592e-03,  6.9691e-03,  6.5323e-03,\n",
       "         6.1628e-03,  5.8745e-03,  5.6806e-03,  5.5934e-03,  5.6234e-03,\n",
       "         5.7799e-03,  6.0695e-03,  6.4967e-03,  7.0630e-03,  7.7663e-03,\n",
       "         8.6010e-03,  9.5568e-03,  1.0619e-02,  1.1768e-02,  1.2979e-02,\n",
       "         1.4224e-02,  1.5471e-02,  1.6688e-02,  1.7842e-02,  1.8901e-02,\n",
       "         1.9838e-02,  2.0628e-02,  2.1254e-02,  2.1703e-02,  2.1969e-02,\n",
       "         2.2054e-02,  2.1963e-02,  2.1709e-02,  2.1309e-02,  2.0785e-02,\n",
       "         2.0162e-02,  1.9465e-02,  1.8721e-02,  1.7956e-02,  1.7192e-02,\n",
       "         1.6449e-02,  1.5740e-02,  1.5075e-02,  1.4459e-02,  1.3892e-02,\n",
       "         1.3370e-02,  1.2888e-02,  1.2440e-02,  1.2019e-02,  1.1618e-02,\n",
       "         1.1233e-02,  1.0862e-02,  1.0505e-02,  1.0161e-02,  9.8354e-03,\n",
       "         9.5303e-03,  9.2505e-03,  9.0001e-03,  8.7829e-03,  8.6025e-03,\n",
       "         8.4619e-03,  8.3648e-03,  8.3153e-03,  8.3191e-03,  8.3840e-03,\n",
       "         8.5201e-03,  8.7394e-03,  9.0557e-03,  9.4823e-03,  1.0031e-02,\n",
       "         1.0711e-02,  1.1523e-02,  1.2465e-02,  1.3523e-02,  1.4678e-02,\n",
       "         1.5903e-02,  1.7166e-02,  1.8430e-02,  1.9662e-02,  2.0826e-02,\n",
       "         2.1895e-02,  2.2845e-02,  2.3663e-02,  2.4343e-02,  2.4887e-02,\n",
       "         2.5307e-02,  2.5619e-02,  2.5846e-02,  2.6013e-02,  2.6148e-02,\n",
       "         2.6274e-02,  2.6415e-02,  2.6587e-02,  2.6803e-02,  2.7072e-02,\n",
       "         2.7395e-02,  2.7774e-02,  2.8203e-02,  2.8676e-02,  2.9185e-02,\n",
       "         2.9720e-02,  3.0271e-02,  3.0826e-02,  3.1369e-02,  3.1886e-02,\n",
       "         3.2363e-02,  3.2785e-02,  3.3140e-02,  3.3418e-02,  3.3616e-02,\n",
       "         3.3734e-02,  3.3776e-02,  3.3752e-02,  3.3675e-02,  3.3559e-02,\n",
       "         3.3418e-02,  3.3263e-02,  3.3102e-02,  3.2942e-02,  3.2781e-02,\n",
       "         3.2618e-02,  3.2444e-02,  3.2252e-02,  3.2032e-02,  3.1775e-02,\n",
       "         3.1472e-02,  3.1116e-02,  3.0701e-02,  3.0226e-02,  2.9688e-02,\n",
       "         2.9089e-02,  2.8432e-02,  2.7722e-02,  2.6965e-02,  2.6168e-02,\n",
       "         2.5340e-02,  2.4489e-02,  2.3622e-02,  2.2749e-02,  2.1873e-02,\n",
       "         2.1000e-02,  2.0131e-02,  1.9268e-02,  1.8409e-02,  1.7553e-02,\n",
       "         1.6697e-02,  1.5840e-02,  1.4981e-02,  1.4119e-02,  1.3255e-02,\n",
       "         1.2392e-02,  1.1534e-02,  1.0685e-02,  9.8508e-03,  9.0375e-03,\n",
       "         8.2506e-03,  7.4957e-03,  6.7779e-03,  6.1023e-03,  5.4731e-03,\n",
       "         4.8947e-03,  4.3709e-03,  3.9051e-03,  3.5007e-03,  3.1604e-03,\n",
       "         2.8866e-03,  2.6809e-03,  2.5448e-03,  2.4785e-03,  2.4823e-03,\n",
       "         2.5554e-03,  2.6967e-03,  2.9047e-03,  3.1773e-03,  3.5120e-03,\n",
       "         3.9057e-03,  4.3549e-03,  4.8558e-03,  5.4040e-03,  5.9951e-03,\n",
       "         6.6248e-03,  7.2894e-03,  7.9860e-03,  8.7128e-03,  9.4696e-03,\n",
       "         1.0257e-02,  1.1078e-02,  1.1935e-02,  1.2832e-02,  1.3770e-02,\n",
       "         1.4753e-02,  1.5779e-02,  1.6847e-02,  1.7953e-02,  1.9089e-02,\n",
       "         2.0248e-02,  2.1419e-02,  2.2587e-02,  2.3740e-02,  2.4860e-02,\n",
       "         2.5930e-02,  2.6934e-02,  2.7854e-02,  2.8677e-02,  2.9391e-02,\n",
       "         2.9987e-02,  3.0465e-02,  3.0828e-02,  3.1083e-02,  3.1246e-02,\n",
       "         3.1334e-02,  3.1367e-02,  3.1367e-02,  3.1353e-02,  3.1345e-02,\n",
       "         3.1357e-02,  3.1402e-02,  3.1485e-02,  3.1612e-02,  3.1781e-02,\n",
       "         3.1991e-02,  3.2236e-02,  3.2511e-02,  3.2810e-02,  3.3127e-02,\n",
       "         3.3455e-02,  3.3790e-02,  3.4128e-02,  3.4464e-02,  3.4794e-02,\n",
       "         3.5115e-02,  3.5424e-02,  3.5715e-02,  3.5985e-02,  3.6228e-02,\n",
       "         3.6439e-02,  3.6610e-02,  3.6737e-02,  3.6813e-02,  3.6834e-02,\n",
       "         3.6796e-02,  3.6700e-02,  3.6546e-02,  3.6337e-02,  3.6082e-02,\n",
       "         3.5786e-02,  3.5457e-02,  3.5104e-02,  3.4733e-02,  3.4347e-02,\n",
       "         3.3949e-02,  3.3540e-02,  3.3121e-02,  3.2693e-02,  3.2260e-02,\n",
       "         3.1829e-02,  3.1409e-02,  3.1009e-02,  3.0644e-02,  3.0325e-02,\n",
       "         3.0061e-02,  2.9857e-02,  2.9716e-02,  2.9633e-02,  2.9600e-02,\n",
       "         2.9603e-02,  2.9629e-02,  2.9661e-02,  2.9684e-02,  2.9686e-02,\n",
       "         2.9655e-02,  2.9585e-02,  2.9473e-02,  2.9319e-02,  2.9126e-02,\n",
       "         2.8900e-02,  2.8650e-02,  2.8384e-02,  2.8113e-02,  2.7847e-02,\n",
       "         2.7594e-02,  2.7362e-02,  2.7156e-02,  2.6977e-02,  2.6824e-02,\n",
       "         2.6696e-02,  2.6588e-02,  2.6496e-02,  2.6415e-02,  2.6346e-02,\n",
       "         2.6287e-02,  2.6243e-02,  2.6218e-02,  2.6216e-02,  2.6243e-02,\n",
       "         2.6301e-02,  2.6393e-02,  2.6517e-02,  2.6669e-02,  2.6844e-02,\n",
       "         2.7035e-02,  2.7236e-02,  2.7439e-02,  2.7637e-02,  2.7824e-02,\n",
       "         2.7993e-02,  2.8140e-02,  2.8262e-02,  2.8354e-02,  2.8416e-02,\n",
       "         2.8448e-02,  2.8452e-02,  2.8433e-02,  2.8395e-02,  2.8345e-02,\n",
       "         2.8290e-02,  2.8237e-02,  2.8193e-02,  2.8165e-02,  2.8157e-02,\n",
       "         2.8174e-02,  2.8218e-02,  2.8288e-02,  2.8385e-02,  2.8504e-02,\n",
       "         2.8638e-02,  2.8781e-02,  2.8924e-02,  2.9058e-02,  2.9173e-02,\n",
       "         2.9263e-02,  2.9321e-02,  2.9345e-02,  2.9334e-02,  2.9291e-02,\n",
       "         2.9219e-02,  2.9125e-02,  2.9017e-02,  2.8904e-02,  2.8792e-02,\n",
       "         2.8691e-02,  2.8606e-02,  2.8541e-02,  2.8500e-02,  2.8481e-02,\n",
       "         2.8483e-02,  2.8499e-02,  2.8521e-02,  2.8540e-02,  2.8546e-02,\n",
       "         2.8530e-02,  2.8484e-02,  2.8405e-02,  2.8292e-02,  2.8148e-02,\n",
       "         2.7980e-02,  2.7796e-02,  2.7609e-02,  2.7430e-02,  2.7269e-02,\n",
       "         2.7134e-02,  2.7031e-02,  2.6963e-02,  2.6927e-02,  2.6919e-02,\n",
       "         2.6930e-02,  2.6948e-02,  2.6961e-02,  2.6952e-02,  2.6904e-02,\n",
       "         2.6801e-02,  2.6626e-02,  2.6365e-02,  2.6006e-02,  2.5543e-02,\n",
       "         2.4973e-02,  2.4301e-02,  2.3538e-02,  2.2700e-02,  2.1810e-02,\n",
       "         2.0892e-02,  1.9973e-02,  1.9080e-02,  1.8233e-02,  1.7450e-02,\n",
       "         1.6737e-02,  1.6094e-02,  1.5512e-02,  1.4972e-02,  1.4453e-02,\n",
       "         1.3929e-02,  1.3377e-02,  1.2778e-02,  1.2118e-02,  1.1393e-02,\n",
       "         1.0608e-02,  9.7757e-03,  8.9154e-03,  8.0504e-03,  7.2048e-03,\n",
       "         6.4011e-03,  5.6575e-03,  4.9864e-03,  4.3937e-03,  3.8789e-03,\n",
       "         3.4362e-03,  3.0560e-03,  2.7265e-03,  2.4358e-03,  2.1729e-03,\n",
       "         1.9294e-03,  1.6996e-03,  1.4805e-03,  1.2716e-03,  1.0744e-03,\n",
       "         8.9123e-04,  7.2458e-04,  5.7664e-04,  4.4874e-04,  3.4120e-04,\n",
       "         2.5331e-04,  1.8353e-04,  1.2972e-04,  8.9409e-05,  6.0078e-05,\n",
       "         3.9347e-05,  2.5111e-05,  1.5615e-05,  9.4585e-06,  5.5809e-06,\n",
       "         3.2071e-06,  1.7948e-06,  9.7804e-07,  5.1895e-07,  2.6809e-07,\n",
       "         1.3483e-07,  6.6014e-08,  3.1463e-08,  1.4596e-08,  6.5912e-09,\n",
       "         2.8969e-09,  1.2392e-09,  5.1590e-10,  2.0903e-10,  8.2419e-11,\n",
       "         3.1625e-11,  1.1809e-11,  4.2907e-12,  1.5171e-12,  5.2193e-13,\n",
       "         1.7472e-13,  5.6912e-14,  1.8037e-14,  5.5620e-15,  1.6688e-15,\n",
       "         4.8712e-16,  1.3835e-16,  3.8227e-17,  1.0276e-17,  2.6876e-18,\n",
       "         6.8383e-19,  1.6927e-19,  4.0763e-20,  9.5496e-21,  2.1764e-21,\n",
       "         4.8253e-22,  1.0407e-22,  2.1836e-23,  4.4569e-24,  8.8491e-25,\n",
       "         1.7091e-25,  3.2112e-26,  5.8689e-27,  1.0434e-27,  1.8044e-28,\n",
       "         3.0355e-29,  4.9671e-30,  7.9062e-31,  1.2241e-31,  1.8435e-32,\n",
       "         2.7007e-33,  3.8482e-34,  5.3338e-35,  7.1908e-36,  9.4296e-37,\n",
       "         1.2028e-37,  1.4922e-38,  1.8008e-39,  2.1137e-40,  2.4132e-41,\n",
       "         2.6798e-42,  2.8944e-43,  3.0408e-44,  3.1072e-45,  3.0882e-46,\n",
       "         2.9853e-47,  2.8069e-48,  2.5669e-49,  2.2832e-50,  1.9753e-51,\n",
       "         1.6621e-52,  1.3603e-53,  1.0828e-54,  8.3836e-56,  6.3130e-57,\n",
       "         4.6236e-58,  3.2936e-59,  2.2819e-60,  1.5377e-61,  1.0078e-62,\n",
       "         6.4239e-64,  3.9826e-65,  2.4015e-66,  1.4084e-67,  8.0333e-69,\n",
       "         4.4566e-70,  2.4046e-71,  1.2619e-72,  6.4403e-74,  3.1970e-75,\n",
       "         1.5435e-76,  7.2475e-78,  3.3098e-79,  1.4701e-80,  6.3506e-82,\n",
       "         2.6681e-83,  1.0903e-84,  4.3329e-86,  1.6748e-87,  6.2957e-89,\n",
       "         2.3018e-90,  8.1849e-92,  2.8306e-93,  9.5207e-95,  3.1144e-96,\n",
       "         9.9086e-98,  3.0660e-99, 9.2266e-101, 2.7005e-102, 7.6870e-104,\n",
       "        2.1281e-105, 5.7300e-107, 1.5005e-108])"
      ]
     },
     "execution_count": 167,
     "metadata": {},
     "output_type": "execute_result"
    }
   ],
   "source": []
  },
  {
   "cell_type": "code",
   "execution_count": 173,
   "id": "258cb47a",
   "metadata": {
    "ExecuteTime": {
     "end_time": "2023-02-14T12:57:12.913739Z",
     "start_time": "2023-02-14T12:57:12.786934Z"
    }
   },
   "outputs": [
    {
     "data": {
      "text/plain": [
       "[<matplotlib.lines.Line2D at 0x7f83e6f66880>]"
      ]
     },
     "execution_count": 173,
     "metadata": {},
     "output_type": "execute_result"
    },
    {
     "data": {
      "image/png": "[encoded data removed]",
      "text/plain": [
       "<Figure size 432x288 with 1 Axes>"
      ]
     },
     "metadata": {
      "needs_background": "light"
     },
     "output_type": "display_data"
    }
   ],
   "source": [
    "plt.plot(xdos, ldos[0])\n",
    "plt.plot(xdos, load_ldos[0])\n",
    "plt.plot(xdos, ldos2[0]/2)"
   ]
  },
  {
   "cell_type": "code",
   "execution_count": 151,
   "id": "c8d0930d",
   "metadata": {
    "ExecuteTime": {
     "end_time": "2023-02-14T12:24:35.367931Z",
     "start_time": "2023-02-14T12:24:35.363388Z"
    }
   },
   "outputs": [
    {
     "data": {
      "text/plain": [
       "1039"
      ]
     },
     "execution_count": 151,
     "metadata": {},
     "output_type": "execute_result"
    }
   ],
   "source": [
    "len(full_eigen_energies)"
   ]
  },
  {
   "cell_type": "code",
   "execution_count": 150,
   "id": "4e4751a4",
   "metadata": {
    "ExecuteTime": {
     "end_time": "2023-02-14T12:24:20.471796Z",
     "start_time": "2023-02-14T12:24:20.464662Z"
    }
   },
   "outputs": [
    {
     "data": {
      "text/plain": [
       "array([ 2,  2,  2, ..., 64, 64, 64])"
      ]
     },
     "execution_count": 150,
     "metadata": {},
     "output_type": "execute_result"
    }
   ],
   "source": [
    "n_atoms"
   ]
  },
  {
   "cell_type": "code",
   "execution_count": 149,
   "id": "ee5ea48c",
   "metadata": {
    "ExecuteTime": {
     "end_time": "2023-02-14T11:36:17.767655Z",
     "start_time": "2023-02-14T11:36:17.762633Z"
    }
   },
   "outputs": [
    {
     "data": {
      "text/plain": [
       "torch.Size([17280])"
      ]
     },
     "execution_count": 149,
     "metadata": {},
     "output_type": "execute_result"
    }
   ],
   "source": [
    "full_eigen_energies[0].shape"
   ]
  },
  {
   "cell_type": "code",
   "execution_count": 128,
   "id": "01043b7b",
   "metadata": {
    "ExecuteTime": {
     "end_time": "2023-02-13T18:51:36.528839Z",
     "start_time": "2023-02-13T18:51:36.420580Z"
    }
   },
   "outputs": [
    {
     "data": {
      "text/plain": [
       "(array([ 871.,  976., 1260., 2222., 1576., 1416., 2839., 2357., 2409.,\n",
       "        1354.]),\n",
       " array([-18.17461078, -15.72919256, -13.28377434, -10.83835611,\n",
       "         -8.39293789,  -5.94751967,  -3.50210145,  -1.05668323,\n",
       "          1.388735  ,   3.83415322,   6.27957144]),\n",
       " <BarContainer object of 10 artists>)"
      ]
     },
     "execution_count": 128,
     "metadata": {},
     "output_type": "execute_result"
    },
    {
     "data": {
      "image/png": "[encoded data removed]",
      "text/plain": [
       "<Figure size 432x288 with 1 Axes>"
      ]
     },
     "metadata": {
      "needs_background": "light"
     },
     "output_type": "display_data"
    }
   ],
   "source": [
    "%matplotlib inline\n",
    "plt.hist(full_eigen_energies[0])"
   ]
  },
  {
   "cell_type": "code",
   "execution_count": 126,
   "id": "9b6bf5bf",
   "metadata": {
    "ExecuteTime": {
     "end_time": "2023-02-13T18:50:37.694051Z",
     "start_time": "2023-02-13T18:50:37.576074Z"
    }
   },
   "outputs": [
    {
     "data": {
      "text/plain": [
       "[<matplotlib.lines.Line2D at 0x7f83dc79c4c0>]"
      ]
     },
     "execution_count": 126,
     "metadata": {},
     "output_type": "execute_result"
    },
    {
     "data": {
      "image/png": "[encoded data removed]",
      "text/plain": [
       "<Figure size 432x288 with 1 Axes>"
      ]
     },
     "metadata": {
      "needs_background": "light"
     },
     "output_type": "display_data"
    }
   ],
   "source": [
    "plt.plot(xdos, ldos[0])"
   ]
  },
  {
   "cell_type": "code",
   "execution_count": 119,
   "id": "2b48d0cb",
   "metadata": {
    "ExecuteTime": {
     "end_time": "2023-02-09T18:01:11.078302Z",
     "start_time": "2023-02-09T18:01:11.068804Z"
    }
   },
   "outputs": [
    {
     "data": {
      "text/plain": [
       "array([-16.60588, -16.54909, -15.54305, -15.45937, -15.45121, -15.43287,\n",
       "       -15.32074, -14.61737, -14.33326, -14.29375, -14.05621, -14.00797,\n",
       "       -13.93545, -13.64648, -13.61615, -13.38318, -13.26855, -13.24025,\n",
       "       -13.17384, -12.707  , -12.59452, -12.56104, -12.45239, -11.76678,\n",
       "       -11.67876, -11.59029, -11.34739, -11.26894, -11.21269, -10.98213,\n",
       "       -10.69638, -10.66462, -10.31505, -10.21668,  -9.91014,  -9.86218,\n",
       "        -9.80729,  -9.78614,  -9.58256,  -9.53331,  -9.487  ,  -9.36825,\n",
       "        -9.33584,  -9.31106,  -9.14733,  -8.43683,  -8.27836,  -8.2237 ,\n",
       "        -8.12477,  -8.06293,  -7.90795,  -7.86268,  -7.56618,  -7.48181,\n",
       "        -7.34864,  -7.30863,  -7.26979,  -7.25031,  -7.21767,  -7.16886,\n",
       "        -7.11855,  -7.1168 ,  -7.11524,  -7.01444,  -6.89008,  -6.85225,\n",
       "        -6.78634,  -6.78052,  -6.65848,  -6.59779,  -6.44407,  -6.43024,\n",
       "        -6.36549,  -6.30418,  -5.97351,  -5.90463,  -5.81469,  -5.79334,\n",
       "        -5.75529,  -5.73908,  -5.7175 ,  -5.65801,  -5.56116,  -5.50671,\n",
       "        -5.43127,  -5.39431,  -5.35843,  -5.27631,  -5.10345,  -5.04135,\n",
       "        -5.03001,  -4.85643,  -4.68065,  -4.6358 ,  -4.44267,  -4.33495,\n",
       "        -4.18009,  -4.12198,  -3.84902,  -3.70491,  -3.54029,  -3.48644,\n",
       "        -3.41906,  -3.41605,  -3.34534,  -3.30939,  -3.01188,  -2.985  ,\n",
       "        -2.8455 ,  -2.70938,  -2.62362,  -2.53417,  -2.51691,  -2.46057,\n",
       "        -2.38044,  -2.37539,  -2.35377,  -2.31258,  -2.10702,  -1.93405,\n",
       "        -1.92547,  -1.85824,  -1.84388,  -1.74016,  -1.68946,  -1.58533,\n",
       "        -1.48532,  -1.45213,  -1.4372 ,  -1.33647,  -1.2847 ,  -1.25627,\n",
       "        -1.22277,  -1.20011,  -1.11638,  -1.06261,  -0.92444,  -0.86017,\n",
       "        -0.81769,  -0.77733,  -0.695  ,  -0.60514,  -0.54644,  -0.38174,\n",
       "        -0.36351,  -0.29812,  -0.25736,  -0.21484,  -0.19623,  -0.12767,\n",
       "        -0.08406,  -0.04988,   0.03904,   0.09007,   0.1145 ,   0.19828,\n",
       "         0.21183,   0.24821,   0.31894,   0.35667,   0.40232,   0.43736,\n",
       "         0.59695,   0.70474,   0.73156,   0.86575,   0.87422,   0.90935,\n",
       "         0.92546,   1.07593,   1.16827,   1.22461,   1.33603,   1.41538,\n",
       "         1.51132,   1.58483,   1.61884,   1.65743,   1.67954,   1.74098,\n",
       "         1.79224,   1.83908,   1.89345,   1.93502,   1.99811,   2.05743,\n",
       "         2.08582,   2.11906,   2.16862,   2.20207,   2.21493,   2.25176,\n",
       "         2.27787,   2.30675,   2.32733,   2.3851 ,   2.44938,   2.46998,\n",
       "         2.51901,   2.54209,   2.57412,   2.64559,   2.65318,   2.67347,\n",
       "         2.76939,   2.81836,   2.96048,   3.004  ,   3.052  ,   3.06205,\n",
       "         3.16338,   3.22329,   3.28596,   3.35279,   3.44017,   3.49849,\n",
       "         3.51336,   3.55849,   3.58581,   3.62396,   3.6718 ,   3.69909,\n",
       "         3.70346,   3.73926,   3.78196,   3.86694,   3.98599,   4.03185,\n",
       "         4.0423 ,   4.05829])"
      ]
     },
     "execution_count": 119,
     "metadata": {},
     "output_type": "execute_result"
    }
   ],
   "source": [
    "full_eigen_energies[800]"
   ]
  },
  {
   "cell_type": "code",
   "execution_count": 114,
   "id": "7ecfb24c",
   "metadata": {
    "ExecuteTime": {
     "end_time": "2023-02-09T17:59:28.093134Z",
     "start_time": "2023-02-09T17:59:28.086532Z"
    }
   },
   "outputs": [],
   "source": [
    "#find a way to maximize certain peaks based on normalization weights\n",
    "\n",
    "normalization_weights = []\n",
    "for i in range(n_structures):\n",
    "    value = 1/np.sqrt(2*np.pi*gb**2)/n_atoms[i]/eigenenergy_length[i] #normalize\n",
    "    normalization_weights.append(value)"
   ]
  },
  {
   "cell_type": "code",
   "execution_count": 118,
   "id": "b8bd74f9",
   "metadata": {
    "ExecuteTime": {
     "end_time": "2023-02-09T17:59:53.805924Z",
     "start_time": "2023-02-09T17:59:53.593004Z"
    }
   },
   "outputs": [
    {
     "name": "stdout",
     "output_type": "stream",
     "text": [
      "0 3.847822920538509e-05\n",
      "1 3.847822920538509e-05\n",
      "2 3.847822920538509e-05\n",
      "3 3.847822920538509e-05\n",
      "4 3.847822920538509e-05\n",
      "5 3.847822920538509e-05\n",
      "6 3.847822920538509e-05\n",
      "7 3.847822920538509e-05\n",
      "8 3.847822920538509e-05\n",
      "9 3.847822920538509e-05\n",
      "10 3.847822920538509e-05\n",
      "11 3.847822920538509e-05\n",
      "12 3.847822920538509e-05\n",
      "13 3.847822920538509e-05\n",
      "14 3.847822920538509e-05\n",
      "15 3.847822920538509e-05\n",
      "16 3.847822920538509e-05\n",
      "17 3.847822920538509e-05\n",
      "18 3.847822920538509e-05\n",
      "19 3.847822920538509e-05\n",
      "20 3.847822920538509e-05\n",
      "21 3.847822920538509e-05\n",
      "22 3.847822920538509e-05\n",
      "23 3.847822920538509e-05\n",
      "24 3.847822920538509e-05\n",
      "25 3.847822920538509e-05\n",
      "26 3.847822920538509e-05\n",
      "27 3.847822920538509e-05\n",
      "28 3.847822920538509e-05\n",
      "29 3.847822920538509e-05\n",
      "30 3.847822920538509e-05\n",
      "31 3.847822920538509e-05\n",
      "32 3.847822920538509e-05\n",
      "33 3.847822920538509e-05\n",
      "34 3.847822920538509e-05\n",
      "35 3.847822920538509e-05\n",
      "36 3.847822920538509e-05\n",
      "37 3.847822920538509e-05\n",
      "38 3.847822920538509e-05\n",
      "39 3.847822920538509e-05\n",
      "40 3.847822920538509e-05\n",
      "41 3.847822920538509e-05\n",
      "42 3.847822920538509e-05\n",
      "43 3.847822920538509e-05\n",
      "44 3.847822920538509e-05\n",
      "45 3.847822920538509e-05\n",
      "46 3.847822920538509e-05\n",
      "47 3.847822920538509e-05\n",
      "48 3.847822920538509e-05\n",
      "49 3.847822920538509e-05\n",
      "50 3.847822920538509e-05\n",
      "51 3.847822920538509e-05\n",
      "52 3.847822920538509e-05\n",
      "53 3.847822920538509e-05\n",
      "54 3.847822920538509e-05\n",
      "55 3.847822920538509e-05\n",
      "56 3.847822920538509e-05\n",
      "57 3.298133931890151e-05\n",
      "58 3.847822920538509e-05\n",
      "59 3.847822920538509e-05\n",
      "60 3.847822920538509e-05\n",
      "61 3.847822920538509e-05\n",
      "62 3.847822920538509e-05\n",
      "63 3.298133931890151e-05\n",
      "64 3.847822920538509e-05\n",
      "65 3.847822920538509e-05\n",
      "66 3.847822920538509e-05\n",
      "67 3.298133931890151e-05\n",
      "68 3.847822920538509e-05\n",
      "69 3.298133931890151e-05\n",
      "70 3.298133931890151e-05\n",
      "71 3.847822920538509e-05\n",
      "72 3.298133931890151e-05\n",
      "73 2.8269719416201294e-05\n",
      "74 3.847822920538509e-05\n",
      "75 3.847822920538509e-05\n",
      "76 3.847822920538509e-05\n",
      "77 3.847822920538509e-05\n",
      "78 3.847822920538509e-05\n",
      "79 3.298133931890151e-05\n",
      "80 3.847822920538509e-05\n",
      "81 2.8269719416201294e-05\n",
      "82 3.847822920538509e-05\n",
      "83 3.847822920538509e-05\n",
      "84 3.847822920538509e-05\n",
      "85 2.8269719416201294e-05\n",
      "86 3.298133931890151e-05\n",
      "87 3.847822920538509e-05\n",
      "88 3.847822920538509e-05\n",
      "89 3.298133931890151e-05\n",
      "90 2.8269719416201294e-05\n",
      "91 3.298133931890151e-05\n",
      "92 3.298133931890151e-05\n",
      "93 2.8269719416201294e-05\n",
      "94 3.298133931890151e-05\n",
      "95 3.847822920538509e-05\n",
      "96 2.8269719416201294e-05\n",
      "97 3.298133931890151e-05\n",
      "98 3.298133931890151e-05\n",
      "99 2.8269719416201294e-05\n",
      "100 3.298133931890151e-05\n",
      "101 2.8269719416201294e-05\n",
      "102 3.847822920538509e-05\n",
      "103 2.8269719416201294e-05\n",
      "104 4.809778650673137e-06\n",
      "105 4.809778650673137e-06\n",
      "106 4.809778650673137e-06\n",
      "107 4.809778650673137e-06\n",
      "108 4.809778650673137e-06\n",
      "109 4.809778650673137e-06\n",
      "110 4.809778650673137e-06\n",
      "111 4.809778650673137e-06\n",
      "112 4.809778650673137e-06\n",
      "113 4.809778650673137e-06\n",
      "114 4.809778650673137e-06\n",
      "115 4.809778650673137e-06\n",
      "116 4.809778650673137e-06\n",
      "117 4.809778650673137e-06\n",
      "118 4.809778650673137e-06\n",
      "119 4.809778650673137e-06\n",
      "120 4.809778650673137e-06\n",
      "121 4.809778650673137e-06\n",
      "122 4.809778650673137e-06\n",
      "123 4.809778650673137e-06\n",
      "124 4.809778650673137e-06\n",
      "125 4.809778650673137e-06\n",
      "126 4.809778650673137e-06\n",
      "127 4.809778650673137e-06\n",
      "128 4.809778650673137e-06\n",
      "129 4.809778650673137e-06\n",
      "130 4.809778650673137e-06\n",
      "131 4.809778650673137e-06\n",
      "132 4.809778650673137e-06\n",
      "133 4.809778650673137e-06\n",
      "134 4.809778650673137e-06\n",
      "135 4.809778650673137e-06\n",
      "136 4.809778650673137e-06\n",
      "137 4.809778650673137e-06\n",
      "138 4.809778650673137e-06\n",
      "139 4.809778650673137e-06\n",
      "140 4.809778650673137e-06\n",
      "141 4.809778650673137e-06\n",
      "142 4.809778650673137e-06\n",
      "143 4.809778650673137e-06\n",
      "144 4.809778650673137e-06\n",
      "145 4.809778650673137e-06\n",
      "146 4.809778650673137e-06\n",
      "147 4.809778650673137e-06\n",
      "148 4.809778650673137e-06\n",
      "149 4.809778650673137e-06\n",
      "150 4.809778650673137e-06\n",
      "151 4.809778650673137e-06\n",
      "152 4.809778650673137e-06\n",
      "153 4.809778650673137e-06\n",
      "154 4.809778650673137e-06\n",
      "155 4.809778650673137e-06\n",
      "156 4.809778650673137e-06\n",
      "157 4.809778650673137e-06\n",
      "158 4.809778650673137e-06\n",
      "159 4.809778650673137e-06\n",
      "160 4.809778650673137e-06\n",
      "161 4.809778650673137e-06\n",
      "162 4.809778650673137e-06\n",
      "163 4.809778650673137e-06\n",
      "164 4.809778650673137e-06\n",
      "165 4.809778650673137e-06\n",
      "166 4.809778650673137e-06\n",
      "167 4.809778650673137e-06\n",
      "168 4.809778650673137e-06\n",
      "169 4.809778650673137e-06\n",
      "170 4.809778650673137e-06\n",
      "171 4.809778650673137e-06\n",
      "172 4.809778650673137e-06\n",
      "173 4.809778650673137e-06\n",
      "174 4.809778650673137e-06\n",
      "175 4.809778650673137e-06\n",
      "176 4.809778650673137e-06\n",
      "177 4.809778650673137e-06\n",
      "178 4.809778650673137e-06\n",
      "179 4.809778650673137e-06\n",
      "180 4.809778650673137e-06\n",
      "181 4.809778650673137e-06\n",
      "182 4.809778650673137e-06\n",
      "183 4.809778650673137e-06\n",
      "184 4.809778650673137e-06\n",
      "185 4.809778650673137e-06\n",
      "186 4.809778650673137e-06\n",
      "187 4.809778650673137e-06\n",
      "188 4.809778650673137e-06\n",
      "189 4.809778650673137e-06\n",
      "190 4.809778650673137e-06\n",
      "191 4.809778650673137e-06\n",
      "192 4.809778650673137e-06\n",
      "193 4.809778650673137e-06\n",
      "194 4.809778650673137e-06\n",
      "195 4.809778650673137e-06\n",
      "196 4.809778650673137e-06\n",
      "197 4.809778650673137e-06\n",
      "198 4.809778650673137e-06\n",
      "199 4.809778650673137e-06\n",
      "200 4.809778650673137e-06\n",
      "201 4.809778650673137e-06\n",
      "202 4.809778650673137e-06\n",
      "203 4.809778650673137e-06\n",
      "204 4.809778650673137e-06\n",
      "205 4.809778650673137e-06\n",
      "206 4.809778650673137e-06\n",
      "207 4.809778650673137e-06\n",
      "208 4.809778650673137e-06\n",
      "209 4.809778650673137e-06\n",
      "210 4.809778650673137e-06\n",
      "211 4.809778650673137e-06\n",
      "212 4.809778650673137e-06\n",
      "213 4.809778650673137e-06\n",
      "214 4.809778650673137e-06\n",
      "215 4.809778650673137e-06\n",
      "216 4.809778650673137e-06\n",
      "217 4.809778650673137e-06\n",
      "218 4.809778650673137e-06\n",
      "219 4.809778650673137e-06\n",
      "220 4.809778650673137e-06\n",
      "221 4.809778650673137e-06\n",
      "222 4.809778650673137e-06\n",
      "223 4.809778650673137e-06\n",
      "224 4.809778650673137e-06\n",
      "225 4.809778650673137e-06\n",
      "226 4.809778650673137e-06\n",
      "227 4.809778650673137e-06\n",
      "228 4.809778650673137e-06\n",
      "229 4.809778650673137e-06\n",
      "230 4.809778650673137e-06\n",
      "231 4.809778650673137e-06\n",
      "232 4.809778650673137e-06\n",
      "233 4.809778650673137e-06\n",
      "234 4.809778650673137e-06\n",
      "235 4.809778650673137e-06\n",
      "236 4.809778650673137e-06\n",
      "237 4.809778650673137e-06\n",
      "238 4.809778650673137e-06\n",
      "239 4.809778650673137e-06\n",
      "240 4.809778650673137e-06\n",
      "241 4.809778650673137e-06\n",
      "242 4.809778650673137e-06\n",
      "243 4.809778650673137e-06\n",
      "244 4.809778650673137e-06\n",
      "245 4.809778650673137e-06\n",
      "246 4.809778650673137e-06\n",
      "247 4.809778650673137e-06\n",
      "248 4.809778650673137e-06\n",
      "249 4.809778650673137e-06\n",
      "250 4.809778650673137e-06\n",
      "251 4.809778650673137e-06\n",
      "252 4.809778650673137e-06\n",
      "253 4.809778650673137e-06\n",
      "254 4.809778650673137e-06\n",
      "255 4.809778650673137e-06\n",
      "256 4.809778650673137e-06\n",
      "257 4.809778650673137e-06\n",
      "258 4.809778650673137e-06\n",
      "259 4.809778650673137e-06\n",
      "260 4.809778650673137e-06\n",
      "261 4.809778650673137e-06\n",
      "262 4.809778650673137e-06\n",
      "263 4.809778650673137e-06\n",
      "264 4.809778650673137e-06\n",
      "265 4.809778650673137e-06\n",
      "266 4.809778650673137e-06\n",
      "267 4.809778650673137e-06\n",
      "268 4.809778650673137e-06\n",
      "269 4.809778650673137e-06\n",
      "270 4.809778650673137e-06\n",
      "271 4.809778650673137e-06\n",
      "272 4.809778650673137e-06\n",
      "273 4.809778650673137e-06\n",
      "274 4.809778650673137e-06\n",
      "275 4.809778650673137e-06\n",
      "276 4.809778650673137e-06\n",
      "277 4.809778650673137e-06\n",
      "278 4.809778650673137e-06\n",
      "279 4.809778650673137e-06\n",
      "280 4.809778650673137e-06\n",
      "281 4.809778650673137e-06\n",
      "282 4.809778650673137e-06\n",
      "283 4.809778650673137e-06\n",
      "284 4.809778650673137e-06\n",
      "285 4.809778650673137e-06\n",
      "286 4.809778650673137e-06\n",
      "287 4.809778650673137e-06\n",
      "288 4.809778650673137e-06\n",
      "289 4.809778650673137e-06\n",
      "290 4.809778650673137e-06\n",
      "291 4.809778650673137e-06\n",
      "292 4.809778650673137e-06\n",
      "293 4.809778650673137e-06\n",
      "294 4.809778650673137e-06\n",
      "295 4.809778650673137e-06\n",
      "296 4.809778650673137e-06\n",
      "297 4.809778650673137e-06\n",
      "298 4.809778650673137e-06\n",
      "299 4.809778650673137e-06\n",
      "300 4.809778650673137e-06\n",
      "301 4.809778650673137e-06\n",
      "302 4.809778650673137e-06\n",
      "303 4.809778650673137e-06\n",
      "304 4.809778650673137e-06\n",
      "305 4.809778650673137e-06\n",
      "306 4.809778650673137e-06\n",
      "307 4.809778650673137e-06\n",
      "308 4.809778650673137e-06\n",
      "309 4.809778650673137e-06\n",
      "310 4.809778650673137e-06\n",
      "311 4.809778650673137e-06\n",
      "312 4.809778650673137e-06\n",
      "313 4.809778650673137e-06\n",
      "314 4.809778650673137e-06\n",
      "315 4.809778650673137e-06\n",
      "316 4.809778650673137e-06\n",
      "317 4.809778650673137e-06\n",
      "318 4.809778650673137e-06\n",
      "319 4.809778650673137e-06\n",
      "320 4.809778650673137e-06\n",
      "321 4.809778650673137e-06\n",
      "322 4.809778650673137e-06\n",
      "323 4.809778650673137e-06\n",
      "324 1.9239114602692546e-05\n",
      "325 2.052172224287205e-05\n",
      "326 2.1644003928029114e-05\n",
      "327 2.1644003928029114e-05\n",
      "328 2.3086937523231054e-05\n",
      "329 2.3086937523231054e-05\n",
      "330 2.1987559545934338e-05\n",
      "331 2.3086937523231054e-05\n",
      "332 2.597280471363494e-05\n",
      "333 2.597280471363494e-05\n",
      "334 2.1644003928029114e-05\n",
      "335 2.052172224287205e-05\n",
      "336 2.052172224287205e-05\n",
      "337 2.1644003928029114e-05\n",
      "338 2.052172224287205e-05\n",
      "339 2.597280471363494e-05\n",
      "340 1.539129168215404e-05\n",
      "341 1.7101435202393374e-05\n",
      "342 1.8469550018584845e-05\n",
      "343 2.1644003928029114e-05\n",
      "344 2.1644003928029114e-05\n",
      "345 1.9239114602692546e-05\n",
      "346 1.6490669659450755e-05\n",
      "347 1.539129168215404e-05\n",
      "348 2.052172224287205e-05\n",
      "349 1.539129168215404e-05\n",
      "350 1.8469550018584845e-05\n",
      "351 2.052172224287205e-05\n",
      "352 1.8469550018584845e-05\n",
      "353 2.052172224287205e-05\n",
      "354 1.539129168215404e-05\n",
      "355 2.1644003928029114e-05\n",
      "356 1.9239114602692546e-05\n",
      "357 1.9239114602692546e-05\n",
      "358 1.9239114602692546e-05\n",
      "359 2.1644003928029114e-05\n",
      "360 1.7101435202393374e-05\n",
      "361 1.3852162513938634e-05\n",
      "362 2.3086937523231054e-05\n",
      "363 2.3086937523231054e-05\n",
      "364 1.539129168215404e-05\n",
      "365 1.7101435202393374e-05\n",
      "366 1.7101435202393374e-05\n",
      "367 1.7101435202393374e-05\n",
      "368 1.7101435202393374e-05\n",
      "369 2.1644003928029114e-05\n",
      "370 1.7101435202393374e-05\n",
      "371 1.9239114602692546e-05\n",
      "372 1.3852162513938634e-05\n",
      "373 1.7101435202393374e-05\n",
      "374 2.052172224287205e-05\n",
      "375 1.9239114602692546e-05\n",
      "376 1.9239114602692546e-05\n",
      "377 2.1644003928029114e-05\n",
      "378 2.3086937523231054e-05\n",
      "379 2.1644003928029114e-05\n",
      "380 1.9239114602692546e-05\n",
      "381 2.1644003928029114e-05\n",
      "382 2.052172224287205e-05\n",
      "383 2.3086937523231054e-05\n",
      "384 2.7055004910036392e-06\n",
      "385 2.7055004910036392e-06\n",
      "386 2.7055004910036392e-06\n",
      "387 2.7055004910036392e-06\n",
      "388 2.7055004910036392e-06\n",
      "389 2.7055004910036392e-06\n",
      "390 2.7055004910036392e-06\n",
      "391 2.7055004910036392e-06\n",
      "392 2.7055004910036392e-06\n",
      "393 2.7055004910036392e-06\n",
      "394 2.7055004910036392e-06\n",
      "395 2.7055004910036392e-06\n",
      "396 2.7055004910036392e-06\n",
      "397 2.7055004910036392e-06\n",
      "398 2.7055004910036392e-06\n",
      "399 2.7055004910036392e-06\n",
      "400 2.7055004910036392e-06\n",
      "401 2.7055004910036392e-06\n",
      "402 2.7055004910036392e-06\n",
      "403 2.7055004910036392e-06\n",
      "404 2.7055004910036392e-06\n",
      "405 2.7055004910036392e-06\n",
      "406 2.7055004910036392e-06\n",
      "407 2.7055004910036392e-06\n",
      "408 2.7055004910036392e-06\n",
      "409 2.7055004910036392e-06\n",
      "410 2.7055004910036392e-06\n",
      "411 2.7055004910036392e-06\n",
      "412 2.7055004910036392e-06\n",
      "413 2.7055004910036392e-06\n",
      "414 2.7055004910036392e-06\n",
      "415 2.7055004910036392e-06\n",
      "416 2.7055004910036392e-06\n",
      "417 2.7055004910036392e-06\n",
      "418 2.7055004910036392e-06\n",
      "419 2.7055004910036392e-06\n",
      "420 2.7055004910036392e-06\n",
      "421 2.7055004910036392e-06\n",
      "422 2.7055004910036392e-06\n",
      "423 2.7055004910036392e-06\n",
      "424 2.7055004910036392e-06\n",
      "425 2.7055004910036392e-06\n",
      "426 2.7055004910036392e-06\n",
      "427 2.7055004910036392e-06\n",
      "428 2.7055004910036392e-06\n",
      "429 2.7055004910036392e-06\n",
      "430 2.7055004910036392e-06\n",
      "431 2.7055004910036392e-06\n",
      "432 2.7055004910036392e-06\n",
      "433 2.7055004910036392e-06\n",
      "434 2.7055004910036392e-06\n",
      "435 2.7055004910036392e-06\n",
      "436 2.7055004910036392e-06\n",
      "437 2.7055004910036392e-06\n",
      "438 2.7055004910036392e-06\n",
      "439 2.7055004910036392e-06\n",
      "440 2.7055004910036392e-06\n",
      "441 2.7055004910036392e-06\n",
      "442 2.7055004910036392e-06\n",
      "443 2.7055004910036392e-06\n",
      "444 2.7055004910036392e-06\n",
      "445 2.7055004910036392e-06\n",
      "446 2.7055004910036392e-06\n",
      "447 2.7055004910036392e-06\n",
      "448 2.7055004910036392e-06\n",
      "449 2.7055004910036392e-06\n",
      "450 2.7055004910036392e-06\n",
      "451 2.7055004910036392e-06\n",
      "452 2.7055004910036392e-06\n",
      "453 2.7055004910036392e-06\n",
      "454 2.7055004910036392e-06\n",
      "455 2.7055004910036392e-06\n",
      "456 2.7055004910036392e-06\n",
      "457 2.7055004910036392e-06\n",
      "458 2.7055004910036392e-06\n",
      "459 2.7055004910036392e-06\n",
      "460 2.7055004910036392e-06\n",
      "461 2.7055004910036392e-06\n",
      "462 2.7055004910036392e-06\n",
      "463 2.7055004910036392e-06\n",
      "464 2.7055004910036392e-06\n",
      "465 2.7055004910036392e-06\n",
      "466 2.7055004910036392e-06\n",
      "467 2.7055004910036392e-06\n",
      "468 2.7055004910036392e-06\n",
      "469 2.7055004910036392e-06\n",
      "470 2.7055004910036392e-06\n",
      "471 2.7055004910036392e-06\n",
      "472 2.7055004910036392e-06\n",
      "473 2.7055004910036392e-06\n",
      "474 2.7055004910036392e-06\n",
      "475 2.7055004910036392e-06\n",
      "476 2.7055004910036392e-06\n",
      "477 2.7055004910036392e-06\n",
      "478 2.7055004910036392e-06\n",
      "479 2.7055004910036392e-06\n",
      "480 2.7055004910036392e-06\n",
      "481 2.7055004910036392e-06\n",
      "482 2.7055004910036392e-06\n",
      "483 2.7055004910036392e-06\n",
      "484 2.7055004910036392e-06\n",
      "485 2.7055004910036392e-06\n",
      "486 2.7055004910036392e-06\n",
      "487 2.7055004910036392e-06\n",
      "488 2.7055004910036392e-06\n",
      "489 2.7055004910036392e-06\n",
      "490 2.7055004910036392e-06\n",
      "491 2.7055004910036392e-06\n",
      "492 2.7055004910036392e-06\n",
      "493 2.7055004910036392e-06\n",
      "494 2.7055004910036392e-06\n",
      "495 2.7055004910036392e-06\n",
      "496 2.7055004910036392e-06\n",
      "497 2.7055004910036392e-06\n",
      "498 2.7055004910036392e-06\n",
      "499 2.7055004910036392e-06\n",
      "500 2.7055004910036392e-06\n",
      "501 2.7055004910036392e-06\n",
      "502 2.7055004910036392e-06\n",
      "503 2.7055004910036392e-06\n",
      "504 2.7055004910036392e-06\n",
      "505 2.7055004910036392e-06\n",
      "506 2.7055004910036392e-06\n",
      "507 2.7055004910036392e-06\n",
      "508 2.7055004910036392e-06\n",
      "509 2.7055004910036392e-06\n",
      "510 2.7055004910036392e-06\n",
      "511 2.7055004910036392e-06\n",
      "512 2.7055004910036392e-06\n",
      "513 2.7055004910036392e-06\n",
      "514 2.7055004910036392e-06\n",
      "515 2.7055004910036392e-06\n",
      "516 2.7055004910036392e-06\n",
      "517 2.7055004910036392e-06\n",
      "518 2.7055004910036392e-06\n",
      "519 2.7055004910036392e-06\n",
      "520 2.7055004910036392e-06\n",
      "521 2.7055004910036392e-06\n",
      "522 2.7055004910036392e-06\n",
      "523 2.7055004910036392e-06\n",
      "524 2.7055004910036392e-06\n",
      "525 2.7055004910036392e-06\n",
      "526 2.7055004910036392e-06\n",
      "527 2.7055004910036392e-06\n",
      "528 2.7055004910036392e-06\n",
      "529 2.7055004910036392e-06\n",
      "530 2.7055004910036392e-06\n",
      "531 2.7055004910036392e-06\n",
      "532 2.7055004910036392e-06\n",
      "533 2.7055004910036392e-06\n",
      "534 2.7055004910036392e-06\n",
      "535 2.7055004910036392e-06\n",
      "536 2.7055004910036392e-06\n",
      "537 2.7055004910036392e-06\n",
      "538 2.7055004910036392e-06\n",
      "539 2.7055004910036392e-06\n",
      "540 2.7055004910036392e-06\n",
      "541 2.7055004910036392e-06\n",
      "542 2.7055004910036392e-06\n",
      "543 2.7055004910036392e-06\n",
      "544 2.7055004910036392e-06\n",
      "545 2.7055004910036392e-06\n",
      "546 2.7055004910036392e-06\n",
      "547 2.7055004910036392e-06\n",
      "548 2.7055004910036392e-06\n",
      "549 2.7055004910036392e-06\n",
      "550 2.7055004910036392e-06\n",
      "551 2.7055004910036392e-06\n",
      "552 2.7055004910036392e-06\n",
      "553 2.7055004910036392e-06\n",
      "554 2.7055004910036392e-06\n",
      "555 2.7055004910036392e-06\n",
      "556 2.7055004910036392e-06\n",
      "557 2.7055004910036392e-06\n",
      "558 2.7055004910036392e-06\n",
      "559 2.7055004910036392e-06\n",
      "560 2.7055004910036392e-06\n",
      "561 2.7055004910036392e-06\n",
      "562 2.7055004910036392e-06\n",
      "563 2.7055004910036392e-06\n",
      "564 2.7055004910036392e-06\n",
      "565 2.7055004910036392e-06\n",
      "566 2.7055004910036392e-06\n",
      "567 2.7055004910036392e-06\n",
      "568 2.7055004910036392e-06\n",
      "569 2.7055004910036392e-06\n",
      "570 2.7055004910036392e-06\n",
      "571 2.7055004910036392e-06\n",
      "572 2.7055004910036392e-06\n",
      "573 2.7055004910036392e-06\n",
      "574 2.7055004910036392e-06\n",
      "575 2.7055004910036392e-06\n",
      "576 2.7055004910036392e-06\n",
      "577 2.7055004910036392e-06\n",
      "578 2.7055004910036392e-06\n",
      "579 2.7055004910036392e-06\n",
      "580 2.7055004910036392e-06\n",
      "581 2.7055004910036392e-06\n",
      "582 2.7055004910036392e-06\n",
      "583 2.7055004910036392e-06\n",
      "584 2.7055004910036392e-06\n",
      "585 2.7055004910036392e-06\n",
      "586 2.7055004910036392e-06\n",
      "587 2.7055004910036392e-06\n",
      "588 2.7055004910036392e-06\n",
      "589 2.7055004910036392e-06\n",
      "590 2.7055004910036392e-06\n",
      "591 2.7055004910036392e-06\n",
      "592 2.7055004910036392e-06\n",
      "593 2.7055004910036392e-06\n",
      "594 2.7055004910036392e-06\n",
      "595 2.7055004910036392e-06\n",
      "596 2.7055004910036392e-06\n",
      "597 2.7055004910036392e-06\n",
      "598 2.7055004910036392e-06\n",
      "599 2.7055004910036392e-06\n",
      "600 2.7055004910036392e-06\n",
      "601 2.7055004910036392e-06\n",
      "602 2.7055004910036392e-06\n",
      "603 2.7055004910036392e-06\n",
      "604 2.4048893253365683e-06\n",
      "605 2.4048893253365683e-06\n",
      "606 2.4048893253365683e-06\n",
      "607 2.4048893253365683e-06\n",
      "608 2.4048893253365683e-06\n",
      "609 2.4048893253365683e-06\n",
      "610 2.4048893253365683e-06\n",
      "611 2.4048893253365683e-06\n",
      "612 2.4048893253365683e-06\n",
      "613 2.4048893253365683e-06\n",
      "614 2.4048893253365683e-06\n",
      "615 2.4048893253365683e-06\n",
      "616 2.4048893253365683e-06\n",
      "617 2.4048893253365683e-06\n",
      "618 2.4048893253365683e-06\n",
      "619 2.4048893253365683e-06\n",
      "620 2.4048893253365683e-06\n",
      "621 2.4048893253365683e-06\n",
      "622 2.4048893253365683e-06\n",
      "623 2.4048893253365683e-06\n",
      "624 2.4048893253365683e-06\n",
      "625 2.4048893253365683e-06\n",
      "626 2.4048893253365683e-06\n",
      "627 2.4048893253365683e-06\n",
      "628 2.4048893253365683e-06\n",
      "629 2.4048893253365683e-06\n",
      "630 2.4048893253365683e-06\n",
      "631 2.4048893253365683e-06\n",
      "632 2.4048893253365683e-06\n",
      "633 2.4048893253365683e-06\n",
      "634 2.4048893253365683e-06\n",
      "635 2.4048893253365683e-06\n",
      "636 2.4048893253365683e-06\n",
      "637 2.4048893253365683e-06\n",
      "638 2.4048893253365683e-06\n",
      "639 2.4048893253365683e-06\n",
      "640 2.4048893253365683e-06\n",
      "641 2.4048893253365683e-06\n",
      "642 2.4048893253365683e-06\n",
      "643 2.4048893253365683e-06\n",
      "644 2.4048893253365683e-06\n",
      "645 2.4048893253365683e-06\n",
      "646 2.4048893253365683e-06\n",
      "647 2.4048893253365683e-06\n",
      "648 2.4048893253365683e-06\n",
      "649 2.4048893253365683e-06\n",
      "650 2.4048893253365683e-06\n",
      "651 2.4048893253365683e-06\n",
      "652 2.4048893253365683e-06\n",
      "653 2.4048893253365683e-06\n",
      "654 2.4048893253365683e-06\n",
      "655 2.4048893253365683e-06\n",
      "656 2.4048893253365683e-06\n",
      "657 2.4048893253365683e-06\n",
      "658 2.4048893253365683e-06\n",
      "659 2.4048893253365683e-06\n",
      "660 2.4048893253365683e-06\n",
      "661 2.4048893253365683e-06\n",
      "662 2.4048893253365683e-06\n",
      "663 2.4048893253365683e-06\n",
      "664 2.4048893253365683e-06\n",
      "665 2.4048893253365683e-06\n",
      "666 2.4048893253365683e-06\n",
      "667 2.4048893253365683e-06\n",
      "668 2.4048893253365683e-06\n",
      "669 2.4048893253365683e-06\n",
      "670 2.4048893253365683e-06\n",
      "671 2.4048893253365683e-06\n",
      "672 2.4048893253365683e-06\n",
      "673 0.0002442254547912045\n",
      "674 0.0002442254547912045\n",
      "675 0.0002442254547912045\n",
      "676 0.0002442254547912045\n",
      "677 0.0002442254547912045\n",
      "678 0.0002442254547912045\n",
      "679 0.0002442254547912045\n",
      "680 0.0002442254547912045\n",
      "681 0.0002442254547912045\n",
      "682 0.0002442254547912045\n",
      "683 0.0002442254547912045\n",
      "684 0.0002442254547912045\n",
      "685 0.0002442254547912045\n",
      "686 0.0002442254547912045\n",
      "687 0.0002442254547912045\n",
      "688 0.0002442254547912045\n",
      "689 0.0002442254547912045\n",
      "690 0.0002442254547912045\n",
      "691 0.0002442254547912045\n",
      "692 0.0002442254547912045\n",
      "693 0.0002442254547912045\n",
      "694 0.0002442254547912045\n",
      "695 0.0002442254547912045\n",
      "696 0.0002442254547912045\n",
      "697 0.0002442254547912045\n",
      "698 0.0002442254547912045\n",
      "699 0.0002442254547912045\n",
      "700 0.0002442254547912045\n",
      "701 0.0002442254547912045\n",
      "702 0.0002442254547912045\n",
      "703 0.0002442254547912045\n",
      "704 0.0002442254547912045\n",
      "705 0.0002442254547912045\n",
      "706 0.0002442254547912045\n",
      "707 0.0002442254547912045\n",
      "708 0.0002442254547912045\n",
      "709 0.0002442254547912045\n",
      "710 0.0002442254547912045\n",
      "711 0.0002442254547912045\n",
      "712 0.0002442254547912045\n",
      "713 0.0002442254547912045\n",
      "714 0.0002442254547912045\n",
      "715 0.0002442254547912045\n",
      "716 0.0002442254547912045\n",
      "717 0.0002442254547912045\n",
      "718 0.0002442254547912045\n",
      "719 0.0002442254547912045\n",
      "720 0.0002442254547912045\n",
      "721 0.0002442254547912045\n",
      "722 0.0002442254547912045\n",
      "723 0.00023007051926264858\n",
      "724 0.0001313390223543811\n",
      "725 0.0001313390223543811\n",
      "726 0.0001313390223543811\n",
      "727 0.0001313390223543811\n",
      "728 0.0001313390223543811\n",
      "729 0.0001313390223543811\n",
      "730 0.0001313390223543811\n",
      "731 0.0001313390223543811\n",
      "732 0.0001313390223543811\n",
      "733 0.0001313390223543811\n",
      "734 0.0001313390223543811\n",
      "735 0.0001313390223543811\n",
      "736 0.0001313390223543811\n",
      "737 0.0001313390223543811\n",
      "738 0.0001313390223543811\n",
      "739 0.0001313390223543811\n",
      "740 0.0001313390223543811\n",
      "741 0.0001313390223543811\n",
      "742 0.0001313390223543811\n",
      "743 0.0001313390223543811\n",
      "744 0.0001313390223543811\n",
      "745 0.0001313390223543811\n",
      "746 0.0001313390223543811\n",
      "747 0.0001313390223543811\n",
      "748 0.0001313390223543811\n",
      "749 0.0001313390223543811\n",
      "750 0.0001313390223543811\n",
      "751 0.0001313390223543811\n",
      "752 0.0001313390223543811\n",
      "753 0.0001313390223543811\n",
      "754 0.0001313390223543811\n",
      "755 0.0001313390223543811\n",
      "756 0.0001313390223543811\n",
      "757 0.0001313390223543811\n",
      "758 0.0001313390223543811\n",
      "759 0.0001313390223543811\n",
      "760 0.0001313390223543811\n",
      "761 0.0001313390223543811\n",
      "762 0.0001313390223543811\n",
      "763 0.0001313390223543811\n",
      "764 0.0001313390223543811\n",
      "765 0.0001313390223543811\n",
      "766 0.0001313390223543811\n",
      "767 0.0001313390223543811\n",
      "768 0.0001313390223543811\n",
      "769 0.0001313390223543811\n",
      "770 0.0001313390223543811\n",
      "771 0.0001313390223543811\n",
      "772 0.0001313390223543811\n",
      "773 0.0001313390223543811\n",
      "774 0.0001313390223543811\n",
      "775 0.0001313390223543811\n",
      "776 0.0001313390223543811\n",
      "777 0.0001313390223543811\n",
      "778 0.0001313390223543811\n",
      "779 0.0001313390223543811\n",
      "780 0.0001313390223543811\n",
      "781 0.0001313390223543811\n",
      "782 0.0001313390223543811\n",
      "783 0.0001313390223543811\n",
      "784 0.0001313390223543811\n",
      "785 0.00012569069955936757\n",
      "786 0.00012569069955936757\n",
      "787 0.00012569069955936757\n",
      "788 0.00012569069955936757\n",
      "789 0.00012569069955936757\n",
      "790 0.00012569069955936757\n",
      "791 0.00012569069955936757\n",
      "792 0.00012569069955936757\n",
      "793 0.00012569069955936757\n",
      "794 0.00012569069955936757\n",
      "795 0.00012569069955936757\n",
      "796 0.00012569069955936757\n",
      "797 0.00012569069955936757\n",
      "798 0.00012569069955936757\n",
      "799 0.00012569069955936757\n",
      "800 0.00012569069955936757\n",
      "801 0.00012569069955936757\n",
      "802 0.00012569069955936757\n",
      "803 0.00012569069955936757\n",
      "804 0.00012569069955936757\n",
      "805 0.00012569069955936757\n",
      "806 0.00012569069955936757\n",
      "807 0.00012569069955936757\n",
      "808 0.00012569069955936757\n",
      "809 0.00012569069955936757\n",
      "810 0.00012569069955936757\n",
      "811 0.00012569069955936757\n",
      "812 0.00012569069955936757\n",
      "813 0.00012569069955936757\n",
      "814 0.00012569069955936757\n",
      "815 0.00012569069955936757\n",
      "816 0.00012569069955936757\n",
      "817 0.00012569069955936757\n",
      "818 0.00012569069955936757\n",
      "819 0.00012569069955936757\n",
      "820 0.00012569069955936757\n",
      "821 0.00012569069955936757\n",
      "822 0.00012569069955936757\n",
      "823 0.00012569069955936757\n",
      "824 0.00012569069955936757\n",
      "825 0.00012569069955936757\n",
      "826 0.00012569069955936757\n",
      "827 0.00012569069955936757\n",
      "828 0.00012569069955936757\n",
      "829 0.00012569069955936757\n",
      "830 0.00012569069955936757\n",
      "831 0.00012569069955936757\n",
      "832 0.00012569069955936757\n",
      "833 0.00012569069955936757\n",
      "834 0.00012569069955936757\n",
      "835 0.00012569069955936757\n",
      "836 0.00012569069955936757\n",
      "837 0.00012569069955936757\n",
      "838 0.00012569069955936757\n",
      "839 0.00012569069955936757\n",
      "840 0.00012569069955936757\n",
      "841 0.00012569069955936757\n",
      "842 0.00012569069955936757\n",
      "843 0.00012569069955936757\n",
      "844 0.00012569069955936757\n",
      "845 0.00012569069955936757\n",
      "846 0.00012569069955936757\n",
      "847 0.00012569069955936757\n",
      "848 0.00012569069955936757\n",
      "849 0.00012569069955936757\n",
      "850 0.00012569069955936757\n",
      "851 0.00012569069955936757\n",
      "852 0.00012569069955936757\n",
      "853 0.00012569069955936757\n",
      "854 0.00012569069955936757\n",
      "855 0.00012569069955936757\n",
      "856 0.00012569069955936757\n",
      "857 0.00012569069955936757\n",
      "858 0.00012569069955936757\n",
      "859 0.00012569069955936757\n",
      "860 0.00012569069955936757\n",
      "861 0.00012569069955936757\n",
      "862 0.00012569069955936757\n",
      "863 0.00012569069955936757\n",
      "864 0.00012569069955936757\n",
      "865 0.00012569069955936757\n",
      "866 0.00012569069955936757\n",
      "867 0.00012569069955936757\n",
      "868 0.00012569069955936757\n",
      "869 0.00012569069955936757\n",
      "870 0.00012569069955936757\n",
      "871 0.00012569069955936757\n",
      "872 0.00012569069955936757\n",
      "873 0.00012569069955936757\n",
      "874 0.00012569069955936757\n",
      "875 0.00012569069955936757\n",
      "876 0.00012569069955936757\n",
      "877 0.00012569069955936757\n",
      "878 0.00012569069955936757\n",
      "879 0.00012569069955936757\n",
      "880 0.00012569069955936757\n",
      "881 0.00012569069955936757\n",
      "882 0.00012569069955936757\n",
      "883 0.00012569069955936757\n",
      "884 0.00012569069955936757\n",
      "885 0.00012569069955936757\n",
      "886 0.00012569069955936757\n",
      "887 0.00012569069955936757\n",
      "888 0.00012569069955936757\n",
      "889 0.00012569069955936757\n",
      "890 0.00012569069955936757\n",
      "891 0.00012569069955936757\n",
      "892 0.00012569069955936757\n",
      "893 0.00012569069955936757\n",
      "894 0.00012569069955936757\n",
      "895 0.00012569069955936757\n",
      "896 0.00012569069955936757\n",
      "897 0.00012569069955936757\n",
      "898 0.00012569069955936757\n",
      "899 0.00012569069955936757\n",
      "900 0.00012569069955936757\n",
      "901 0.00012569069955936757\n",
      "902 0.00012569069955936757\n",
      "903 0.00012569069955936757\n",
      "904 0.00012569069955936757\n",
      "905 0.00012569069955936757\n",
      "906 0.00012569069955936757\n",
      "907 5.275967472081368e-05\n",
      "908 0.00012569069955936757\n",
      "909 0.00012569069955936757\n",
      "910 0.00012569069955936757\n",
      "911 0.00012569069955936757\n",
      "912 0.00012569069955936757\n",
      "913 0.00012569069955936757\n",
      "914 0.00012569069955936757\n",
      "915 0.00012569069955936757\n",
      "916 0.00012569069955936757\n",
      "917 0.00012569069955936757\n",
      "918 0.00012569069955936757\n",
      "919 0.00012569069955936757\n",
      "920 0.00012569069955936757\n",
      "921 0.00012569069955936757\n",
      "922 0.00012569069955936757\n",
      "923 0.00012569069955936757\n",
      "924 0.00012569069955936757\n",
      "925 0.00012569069955936757\n",
      "926 0.00012569069955936757\n",
      "927 0.00012569069955936757\n",
      "928 0.00012569069955936757\n",
      "929 0.00012569069955936757\n",
      "930 0.00012569069955936757\n",
      "931 0.00012569069955936757\n",
      "932 0.00012569069955936757\n",
      "933 0.00012569069955936757\n",
      "934 0.00012569069955936757\n",
      "935 0.00012569069955936757\n",
      "936 0.00012569069955936757\n",
      "937 0.00012569069955936757\n",
      "938 0.00012039905851861556\n",
      "939 8.116501473010918e-06\n",
      "940 8.116501473010918e-06\n",
      "941 8.116501473010918e-06\n",
      "942 8.116501473010918e-06\n",
      "943 8.116501473010918e-06\n",
      "944 8.116501473010918e-06\n",
      "945 8.116501473010918e-06\n",
      "946 8.116501473010918e-06\n",
      "947 8.116501473010918e-06\n",
      "948 8.116501473010918e-06\n",
      "949 8.116501473010918e-06\n",
      "950 8.116501473010918e-06\n",
      "951 8.116501473010918e-06\n",
      "952 8.116501473010918e-06\n",
      "953 8.116501473010918e-06\n",
      "954 8.116501473010918e-06\n",
      "955 8.116501473010918e-06\n",
      "956 8.116501473010918e-06\n",
      "957 8.116501473010918e-06\n",
      "958 8.116501473010918e-06\n",
      "959 8.116501473010918e-06\n",
      "960 8.116501473010918e-06\n",
      "961 8.116501473010918e-06\n",
      "962 8.116501473010918e-06\n",
      "963 8.116501473010918e-06\n",
      "964 8.116501473010918e-06\n",
      "965 8.116501473010918e-06\n",
      "966 8.116501473010918e-06\n",
      "967 8.116501473010918e-06\n",
      "968 8.116501473010918e-06\n",
      "969 8.116501473010918e-06\n",
      "970 8.116501473010918e-06\n",
      "971 8.116501473010918e-06\n",
      "972 8.116501473010918e-06\n",
      "973 8.116501473010918e-06\n",
      "974 8.116501473010918e-06\n",
      "975 8.116501473010918e-06\n",
      "976 8.116501473010918e-06\n",
      "977 8.116501473010918e-06\n",
      "978 8.116501473010918e-06\n",
      "979 8.116501473010918e-06\n",
      "980 8.116501473010918e-06\n",
      "981 8.116501473010918e-06\n",
      "982 8.116501473010918e-06\n",
      "983 8.116501473010918e-06\n",
      "984 8.116501473010918e-06\n",
      "985 8.116501473010918e-06\n",
      "986 8.116501473010918e-06\n",
      "987 8.116501473010918e-06\n",
      "988 8.116501473010918e-06\n",
      "989 8.116501473010918e-06\n",
      "990 8.116501473010918e-06\n",
      "991 8.116501473010918e-06\n",
      "992 8.116501473010918e-06\n",
      "993 8.116501473010918e-06\n",
      "994 8.116501473010918e-06\n",
      "995 8.116501473010918e-06\n",
      "996 8.116501473010918e-06\n",
      "997 8.116501473010918e-06\n",
      "998 8.116501473010918e-06\n",
      "999 8.116501473010918e-06\n",
      "1000 8.116501473010918e-06\n",
      "1001 8.116501473010918e-06\n",
      "1002 8.116501473010918e-06\n",
      "1003 8.116501473010918e-06\n",
      "1004 8.116501473010918e-06\n",
      "1005 8.116501473010918e-06\n",
      "1006 8.116501473010918e-06\n",
      "1007 8.116501473010918e-06\n",
      "1008 8.116501473010918e-06\n",
      "1009 8.116501473010918e-06\n",
      "1010 8.116501473010918e-06\n",
      "1011 8.116501473010918e-06\n",
      "1012 8.116501473010918e-06\n",
      "1013 8.116501473010918e-06\n",
      "1014 8.116501473010918e-06\n",
      "1015 8.116501473010918e-06\n",
      "1016 8.116501473010918e-06\n",
      "1017 8.116501473010918e-06\n",
      "1018 8.116501473010918e-06\n",
      "1019 8.116501473010918e-06\n",
      "1020 8.116501473010918e-06\n",
      "1021 8.116501473010918e-06\n",
      "1022 8.116501473010918e-06\n",
      "1023 8.116501473010918e-06\n",
      "1024 8.116501473010918e-06\n",
      "1025 8.116501473010918e-06\n",
      "1026 8.116501473010918e-06\n",
      "1027 8.116501473010918e-06\n",
      "1028 8.116501473010918e-06\n",
      "1029 8.116501473010918e-06\n",
      "1030 8.116501473010918e-06\n",
      "1031 8.116501473010918e-06\n",
      "1032 8.116501473010918e-06\n",
      "1033 8.116501473010918e-06\n",
      "1034 8.116501473010918e-06\n",
      "1035 8.116501473010918e-06\n",
      "1036 8.116501473010918e-06\n",
      "1037 8.116501473010918e-06\n",
      "1038 8.116501473010918e-06\n"
     ]
    }
   ],
   "source": [
    "for i,j in enumerate(normalization_weights):\n",
    "    print (i, j)"
   ]
  },
  {
   "cell_type": "code",
   "execution_count": 108,
   "id": "3fc4c20a",
   "metadata": {
    "ExecuteTime": {
     "end_time": "2023-02-09T17:43:29.533499Z",
     "start_time": "2023-02-09T17:43:29.317690Z"
    }
   },
   "outputs": [
    {
     "name": "stdout",
     "output_type": "stream",
     "text": [
      "0 17280\n",
      "1 17280\n",
      "2 17280\n",
      "3 17280\n",
      "4 17280\n",
      "5 17280\n",
      "6 17280\n",
      "7 17280\n",
      "8 17280\n",
      "9 17280\n",
      "10 17280\n",
      "11 17280\n",
      "12 17280\n",
      "13 17280\n",
      "14 17280\n",
      "15 17280\n",
      "16 17280\n",
      "17 17280\n",
      "18 17280\n",
      "19 17280\n",
      "20 17280\n",
      "21 17280\n",
      "22 17280\n",
      "23 17280\n",
      "24 17280\n",
      "25 17280\n",
      "26 17280\n",
      "27 17280\n",
      "28 17280\n",
      "29 17280\n",
      "30 17280\n",
      "31 17280\n",
      "32 17280\n",
      "33 17280\n",
      "34 17280\n",
      "35 17280\n",
      "36 17280\n",
      "37 17280\n",
      "38 17280\n",
      "39 17280\n",
      "40 17280\n",
      "41 17280\n",
      "42 17280\n",
      "43 17280\n",
      "44 17280\n",
      "45 17280\n",
      "46 17280\n",
      "47 17280\n",
      "48 17280\n",
      "49 17280\n",
      "50 17280\n",
      "51 17280\n",
      "52 17280\n",
      "53 17280\n",
      "54 17280\n",
      "55 17280\n",
      "56 17280\n",
      "57 20160\n",
      "58 17280\n",
      "59 17280\n",
      "60 17280\n",
      "61 17280\n",
      "62 17280\n",
      "63 20160\n",
      "64 17280\n",
      "65 17280\n",
      "66 17280\n",
      "67 20160\n",
      "68 17280\n",
      "69 20160\n",
      "70 20160\n",
      "71 17280\n",
      "72 20160\n",
      "73 23520\n",
      "74 17280\n",
      "75 17280\n",
      "76 17280\n",
      "77 17280\n",
      "78 17280\n",
      "79 20160\n",
      "80 17280\n",
      "81 23520\n",
      "82 17280\n",
      "83 17280\n",
      "84 17280\n",
      "85 23520\n",
      "86 20160\n",
      "87 17280\n",
      "88 17280\n",
      "89 20160\n",
      "90 23520\n",
      "91 20160\n",
      "92 20160\n",
      "93 23520\n",
      "94 20160\n",
      "95 17280\n",
      "96 23520\n",
      "97 20160\n",
      "98 20160\n",
      "99 23520\n",
      "100 20160\n",
      "101 23520\n",
      "102 17280\n",
      "103 23520\n",
      "104 17280\n",
      "105 17280\n",
      "106 17280\n",
      "107 17280\n",
      "108 17280\n",
      "109 17280\n",
      "110 17280\n",
      "111 17280\n",
      "112 17280\n",
      "113 17280\n",
      "114 17280\n",
      "115 17280\n",
      "116 17280\n",
      "117 17280\n",
      "118 17280\n",
      "119 17280\n",
      "120 17280\n",
      "121 17280\n",
      "122 17280\n",
      "123 17280\n",
      "124 17280\n",
      "125 17280\n",
      "126 17280\n",
      "127 17280\n",
      "128 17280\n",
      "129 17280\n",
      "130 17280\n",
      "131 17280\n",
      "132 17280\n",
      "133 17280\n",
      "134 17280\n",
      "135 17280\n",
      "136 17280\n",
      "137 17280\n",
      "138 17280\n",
      "139 17280\n",
      "140 17280\n",
      "141 17280\n",
      "142 17280\n",
      "143 17280\n",
      "144 17280\n",
      "145 17280\n",
      "146 17280\n",
      "147 17280\n",
      "148 17280\n",
      "149 17280\n",
      "150 17280\n",
      "151 17280\n",
      "152 17280\n",
      "153 17280\n",
      "154 17280\n",
      "155 17280\n",
      "156 17280\n",
      "157 17280\n",
      "158 17280\n",
      "159 17280\n",
      "160 17280\n",
      "161 17280\n",
      "162 17280\n",
      "163 17280\n",
      "164 17280\n",
      "165 17280\n",
      "166 17280\n",
      "167 17280\n",
      "168 17280\n",
      "169 17280\n",
      "170 17280\n",
      "171 17280\n",
      "172 17280\n",
      "173 17280\n",
      "174 17280\n",
      "175 17280\n",
      "176 17280\n",
      "177 17280\n",
      "178 17280\n",
      "179 17280\n",
      "180 17280\n",
      "181 17280\n",
      "182 17280\n",
      "183 17280\n",
      "184 17280\n",
      "185 17280\n",
      "186 17280\n",
      "187 17280\n",
      "188 17280\n",
      "189 17280\n",
      "190 17280\n",
      "191 17280\n",
      "192 17280\n",
      "193 17280\n",
      "194 17280\n",
      "195 17280\n",
      "196 17280\n",
      "197 17280\n",
      "198 17280\n",
      "199 17280\n",
      "200 17280\n",
      "201 17280\n",
      "202 17280\n",
      "203 17280\n",
      "204 17280\n",
      "205 17280\n",
      "206 17280\n",
      "207 17280\n",
      "208 17280\n",
      "209 17280\n",
      "210 17280\n",
      "211 17280\n",
      "212 17280\n",
      "213 17280\n",
      "214 17280\n",
      "215 17280\n",
      "216 17280\n",
      "217 17280\n",
      "218 17280\n",
      "219 17280\n",
      "220 17280\n",
      "221 17280\n",
      "222 17280\n",
      "223 17280\n",
      "224 17280\n",
      "225 17280\n",
      "226 17280\n",
      "227 17280\n",
      "228 17280\n",
      "229 17280\n",
      "230 17280\n",
      "231 17280\n",
      "232 17280\n",
      "233 17280\n",
      "234 17280\n",
      "235 17280\n",
      "236 17280\n",
      "237 17280\n",
      "238 17280\n",
      "239 17280\n",
      "240 17280\n",
      "241 17280\n",
      "242 17280\n",
      "243 17280\n",
      "244 17280\n",
      "245 17280\n",
      "246 17280\n",
      "247 17280\n",
      "248 17280\n",
      "249 17280\n",
      "250 17280\n",
      "251 17280\n",
      "252 17280\n",
      "253 17280\n",
      "254 17280\n",
      "255 17280\n",
      "256 17280\n",
      "257 17280\n",
      "258 17280\n",
      "259 17280\n",
      "260 17280\n",
      "261 17280\n",
      "262 17280\n",
      "263 17280\n",
      "264 17280\n",
      "265 17280\n",
      "266 17280\n",
      "267 17280\n",
      "268 17280\n",
      "269 17280\n",
      "270 17280\n",
      "271 17280\n",
      "272 17280\n",
      "273 17280\n",
      "274 17280\n",
      "275 17280\n",
      "276 17280\n",
      "277 17280\n",
      "278 17280\n",
      "279 17280\n",
      "280 17280\n",
      "281 17280\n",
      "282 17280\n",
      "283 17280\n",
      "284 17280\n",
      "285 17280\n",
      "286 17280\n",
      "287 17280\n",
      "288 17280\n",
      "289 17280\n",
      "290 17280\n",
      "291 17280\n",
      "292 17280\n",
      "293 17280\n",
      "294 17280\n",
      "295 17280\n",
      "296 17280\n",
      "297 17280\n",
      "298 17280\n",
      "299 17280\n",
      "300 17280\n",
      "301 17280\n",
      "302 17280\n",
      "303 17280\n",
      "304 17280\n",
      "305 17280\n",
      "306 17280\n",
      "307 17280\n",
      "308 17280\n",
      "309 17280\n",
      "310 17280\n",
      "311 17280\n",
      "312 17280\n",
      "313 17280\n",
      "314 17280\n",
      "315 17280\n",
      "316 17280\n",
      "317 17280\n",
      "318 17280\n",
      "319 17280\n",
      "320 17280\n",
      "321 17280\n",
      "322 17280\n",
      "323 17280\n",
      "324 34560\n",
      "325 32400\n",
      "326 30720\n",
      "327 30720\n",
      "328 28800\n",
      "329 28800\n",
      "330 30240\n",
      "331 28800\n",
      "332 25600\n",
      "333 25600\n",
      "334 30720\n",
      "335 32400\n",
      "336 32400\n",
      "337 30720\n",
      "338 32400\n",
      "339 25600\n",
      "340 43200\n",
      "341 38880\n",
      "342 36000\n",
      "343 30720\n",
      "344 30720\n",
      "345 34560\n",
      "346 40320\n",
      "347 43200\n",
      "348 32400\n",
      "349 43200\n",
      "350 36000\n",
      "351 32400\n",
      "352 36000\n",
      "353 32400\n",
      "354 43200\n",
      "355 30720\n",
      "356 34560\n",
      "357 34560\n",
      "358 34560\n",
      "359 30720\n",
      "360 38880\n",
      "361 48000\n",
      "362 28800\n",
      "363 28800\n",
      "364 43200\n",
      "365 38880\n",
      "366 38880\n",
      "367 38880\n",
      "368 38880\n",
      "369 30720\n",
      "370 38880\n",
      "371 34560\n",
      "372 48000\n",
      "373 38880\n",
      "374 32400\n",
      "375 34560\n",
      "376 34560\n",
      "377 30720\n",
      "378 28800\n",
      "379 30720\n",
      "380 34560\n",
      "381 30720\n",
      "382 32400\n",
      "383 28800\n",
      "384 30720\n",
      "385 30720\n",
      "386 30720\n",
      "387 30720\n",
      "388 30720\n",
      "389 30720\n",
      "390 30720\n",
      "391 30720\n",
      "392 30720\n",
      "393 30720\n",
      "394 30720\n",
      "395 30720\n",
      "396 30720\n",
      "397 30720\n",
      "398 30720\n",
      "399 30720\n",
      "400 30720\n",
      "401 30720\n",
      "402 30720\n",
      "403 30720\n",
      "404 30720\n",
      "405 30720\n",
      "406 30720\n",
      "407 30720\n",
      "408 30720\n",
      "409 30720\n",
      "410 30720\n",
      "411 30720\n",
      "412 30720\n",
      "413 30720\n",
      "414 30720\n",
      "415 30720\n",
      "416 30720\n",
      "417 30720\n",
      "418 30720\n",
      "419 30720\n",
      "420 30720\n",
      "421 30720\n",
      "422 30720\n",
      "423 30720\n",
      "424 30720\n",
      "425 30720\n",
      "426 30720\n",
      "427 30720\n",
      "428 30720\n",
      "429 30720\n",
      "430 30720\n",
      "431 30720\n",
      "432 30720\n",
      "433 30720\n",
      "434 30720\n",
      "435 30720\n",
      "436 30720\n",
      "437 30720\n",
      "438 30720\n",
      "439 30720\n",
      "440 30720\n",
      "441 30720\n",
      "442 30720\n",
      "443 30720\n",
      "444 30720\n",
      "445 30720\n",
      "446 30720\n",
      "447 30720\n",
      "448 30720\n",
      "449 30720\n",
      "450 30720\n",
      "451 30720\n",
      "452 30720\n",
      "453 30720\n",
      "454 30720\n",
      "455 30720\n",
      "456 30720\n",
      "457 30720\n",
      "458 30720\n",
      "459 30720\n",
      "460 30720\n",
      "461 30720\n",
      "462 30720\n",
      "463 30720\n",
      "464 30720\n",
      "465 30720\n",
      "466 30720\n",
      "467 30720\n",
      "468 30720\n",
      "469 30720\n",
      "470 30720\n",
      "471 30720\n",
      "472 30720\n",
      "473 30720\n",
      "474 30720\n",
      "475 30720\n",
      "476 30720\n",
      "477 30720\n",
      "478 30720\n",
      "479 30720\n",
      "480 30720\n",
      "481 30720\n",
      "482 30720\n",
      "483 30720\n",
      "484 30720\n",
      "485 30720\n",
      "486 30720\n",
      "487 30720\n",
      "488 30720\n",
      "489 30720\n",
      "490 30720\n",
      "491 30720\n",
      "492 30720\n",
      "493 30720\n",
      "494 30720\n",
      "495 30720\n",
      "496 30720\n",
      "497 30720\n",
      "498 30720\n",
      "499 30720\n",
      "500 30720\n",
      "501 30720\n",
      "502 30720\n",
      "503 30720\n",
      "504 30720\n",
      "505 30720\n",
      "506 30720\n",
      "507 30720\n",
      "508 30720\n",
      "509 30720\n",
      "510 30720\n",
      "511 30720\n",
      "512 30720\n",
      "513 30720\n",
      "514 30720\n",
      "515 30720\n",
      "516 30720\n",
      "517 30720\n",
      "518 30720\n",
      "519 30720\n",
      "520 30720\n",
      "521 30720\n",
      "522 30720\n",
      "523 30720\n",
      "524 30720\n",
      "525 30720\n",
      "526 30720\n",
      "527 30720\n",
      "528 30720\n",
      "529 30720\n",
      "530 30720\n",
      "531 30720\n",
      "532 30720\n",
      "533 30720\n",
      "534 30720\n",
      "535 30720\n",
      "536 30720\n",
      "537 30720\n",
      "538 30720\n",
      "539 30720\n",
      "540 30720\n",
      "541 30720\n",
      "542 30720\n",
      "543 30720\n",
      "544 30720\n",
      "545 30720\n",
      "546 30720\n",
      "547 30720\n",
      "548 30720\n",
      "549 30720\n",
      "550 30720\n",
      "551 30720\n",
      "552 30720\n",
      "553 30720\n",
      "554 30720\n",
      "555 30720\n",
      "556 30720\n",
      "557 30720\n",
      "558 30720\n",
      "559 30720\n",
      "560 30720\n",
      "561 30720\n",
      "562 30720\n",
      "563 30720\n",
      "564 30720\n",
      "565 30720\n",
      "566 30720\n",
      "567 30720\n",
      "568 30720\n",
      "569 30720\n",
      "570 30720\n",
      "571 30720\n",
      "572 30720\n",
      "573 30720\n",
      "574 30720\n",
      "575 30720\n",
      "576 30720\n",
      "577 30720\n",
      "578 30720\n",
      "579 30720\n",
      "580 30720\n",
      "581 30720\n",
      "582 30720\n",
      "583 30720\n",
      "584 30720\n",
      "585 30720\n",
      "586 30720\n",
      "587 30720\n",
      "588 30720\n",
      "589 30720\n",
      "590 30720\n",
      "591 30720\n",
      "592 30720\n",
      "593 30720\n",
      "594 30720\n",
      "595 30720\n",
      "596 30720\n",
      "597 30720\n",
      "598 30720\n",
      "599 30720\n",
      "600 30720\n",
      "601 30720\n",
      "602 30720\n",
      "603 30720\n",
      "604 8640\n",
      "605 8640\n",
      "606 8640\n",
      "607 8640\n",
      "608 8640\n",
      "609 8640\n",
      "610 8640\n",
      "611 8640\n",
      "612 8640\n",
      "613 8640\n",
      "614 8640\n",
      "615 8640\n",
      "616 8640\n",
      "617 8640\n",
      "618 8640\n",
      "619 8640\n",
      "620 8640\n",
      "621 8640\n",
      "622 8640\n",
      "623 8640\n",
      "624 8640\n",
      "625 8640\n",
      "626 8640\n",
      "627 8640\n",
      "628 8640\n",
      "629 8640\n",
      "630 8640\n",
      "631 8640\n",
      "632 8640\n",
      "633 8640\n",
      "634 8640\n",
      "635 8640\n",
      "636 8640\n",
      "637 8640\n",
      "638 8640\n",
      "639 8640\n",
      "640 8640\n",
      "641 8640\n",
      "642 8640\n",
      "643 8640\n",
      "644 8640\n",
      "645 8640\n",
      "646 8640\n",
      "647 8640\n",
      "648 8640\n",
      "649 8640\n",
      "650 8640\n",
      "651 8640\n",
      "652 8640\n",
      "653 8640\n",
      "654 8640\n",
      "655 8640\n",
      "656 8640\n",
      "657 8640\n",
      "658 8640\n",
      "659 8640\n",
      "660 8640\n",
      "661 8640\n",
      "662 8640\n",
      "663 8640\n",
      "664 8640\n",
      "665 8640\n",
      "666 8640\n",
      "667 8640\n",
      "668 8640\n",
      "669 8640\n",
      "670 8640\n",
      "671 8640\n",
      "672 8640\n",
      "673 165\n",
      "674 165\n",
      "675 165\n",
      "676 165\n",
      "677 165\n",
      "678 165\n",
      "679 165\n",
      "680 165\n",
      "681 165\n",
      "682 165\n",
      "683 165\n",
      "684 165\n",
      "685 165\n",
      "686 165\n",
      "687 165\n",
      "688 165\n",
      "689 165\n",
      "690 165\n",
      "691 165\n",
      "692 165\n",
      "693 165\n",
      "694 165\n",
      "695 165\n",
      "696 165\n",
      "697 165\n",
      "698 165\n",
      "699 165\n",
      "700 165\n",
      "701 165\n",
      "702 165\n",
      "703 165\n",
      "704 165\n",
      "705 165\n",
      "706 165\n",
      "707 165\n",
      "708 165\n",
      "709 165\n",
      "710 165\n",
      "711 165\n",
      "712 165\n",
      "713 165\n",
      "714 165\n",
      "715 165\n",
      "716 165\n",
      "717 165\n",
      "718 165\n",
      "719 165\n",
      "720 165\n",
      "721 165\n",
      "722 165\n",
      "723 170\n",
      "724 225\n",
      "725 225\n",
      "726 225\n",
      "727 225\n",
      "728 225\n",
      "729 225\n",
      "730 225\n",
      "731 225\n",
      "732 225\n",
      "733 225\n",
      "734 225\n",
      "735 225\n",
      "736 225\n",
      "737 225\n",
      "738 225\n",
      "739 225\n",
      "740 225\n",
      "741 225\n",
      "742 225\n",
      "743 225\n",
      "744 225\n",
      "745 225\n",
      "746 225\n",
      "747 225\n",
      "748 225\n",
      "749 225\n",
      "750 225\n",
      "751 225\n",
      "752 225\n",
      "753 225\n",
      "754 225\n",
      "755 225\n",
      "756 225\n",
      "757 225\n",
      "758 225\n",
      "759 225\n",
      "760 225\n",
      "761 225\n",
      "762 225\n",
      "763 225\n",
      "764 225\n",
      "765 225\n",
      "766 225\n",
      "767 225\n",
      "768 225\n",
      "769 225\n",
      "770 225\n",
      "771 225\n",
      "772 225\n",
      "773 225\n",
      "774 225\n",
      "775 225\n",
      "776 225\n",
      "777 225\n",
      "778 225\n",
      "779 225\n",
      "780 225\n",
      "781 225\n",
      "782 225\n",
      "783 225\n",
      "784 225\n",
      "785 230\n",
      "786 230\n",
      "787 230\n",
      "788 230\n",
      "789 230\n",
      "790 230\n",
      "791 230\n",
      "792 230\n",
      "793 230\n",
      "794 230\n",
      "795 230\n",
      "796 230\n",
      "797 230\n",
      "798 230\n",
      "799 230\n",
      "800 230\n",
      "801 230\n",
      "802 230\n",
      "803 230\n",
      "804 230\n",
      "805 230\n",
      "806 230\n",
      "807 230\n",
      "808 230\n",
      "809 230\n",
      "810 230\n",
      "811 230\n",
      "812 230\n",
      "813 230\n",
      "814 230\n",
      "815 230\n",
      "816 230\n",
      "817 230\n",
      "818 230\n",
      "819 230\n",
      "820 230\n",
      "821 230\n",
      "822 230\n",
      "823 230\n",
      "824 230\n",
      "825 230\n",
      "826 230\n",
      "827 230\n",
      "828 230\n",
      "829 230\n",
      "830 230\n",
      "831 230\n",
      "832 230\n",
      "833 230\n",
      "834 230\n",
      "835 230\n",
      "836 230\n",
      "837 230\n",
      "838 230\n",
      "839 230\n",
      "840 230\n",
      "841 230\n",
      "842 230\n",
      "843 230\n",
      "844 230\n",
      "845 230\n",
      "846 230\n",
      "847 230\n",
      "848 230\n",
      "849 230\n",
      "850 230\n",
      "851 230\n",
      "852 230\n",
      "853 230\n",
      "854 230\n",
      "855 230\n",
      "856 230\n",
      "857 230\n",
      "858 230\n",
      "859 230\n",
      "860 230\n",
      "861 230\n",
      "862 230\n",
      "863 230\n",
      "864 230\n",
      "865 230\n",
      "866 230\n",
      "867 230\n",
      "868 230\n",
      "869 230\n",
      "870 230\n",
      "871 230\n",
      "872 230\n",
      "873 230\n",
      "874 230\n",
      "875 230\n",
      "876 230\n",
      "877 230\n",
      "878 230\n",
      "879 230\n",
      "880 230\n",
      "881 230\n",
      "882 230\n",
      "883 230\n",
      "884 230\n",
      "885 230\n",
      "886 230\n",
      "887 230\n",
      "888 230\n",
      "889 230\n",
      "890 230\n",
      "891 230\n",
      "892 230\n",
      "893 230\n",
      "894 230\n",
      "895 230\n",
      "896 230\n",
      "897 230\n",
      "898 230\n",
      "899 230\n",
      "900 230\n",
      "901 230\n",
      "902 230\n",
      "903 230\n",
      "904 230\n",
      "905 230\n",
      "906 230\n",
      "907 355\n",
      "908 230\n",
      "909 230\n",
      "910 230\n",
      "911 230\n",
      "912 230\n",
      "913 230\n",
      "914 230\n",
      "915 230\n",
      "916 230\n",
      "917 230\n",
      "918 230\n",
      "919 230\n",
      "920 230\n",
      "921 230\n",
      "922 230\n",
      "923 230\n",
      "924 230\n",
      "925 230\n",
      "926 230\n",
      "927 230\n",
      "928 230\n",
      "929 230\n",
      "930 230\n",
      "931 230\n",
      "932 230\n",
      "933 230\n",
      "934 230\n",
      "935 230\n",
      "936 230\n",
      "937 230\n",
      "938 235\n",
      "939 2560\n",
      "940 2560\n",
      "941 2560\n",
      "942 2560\n",
      "943 2560\n",
      "944 2560\n",
      "945 2560\n",
      "946 2560\n",
      "947 2560\n",
      "948 2560\n",
      "949 2560\n",
      "950 2560\n",
      "951 2560\n",
      "952 2560\n",
      "953 2560\n",
      "954 2560\n",
      "955 2560\n",
      "956 2560\n",
      "957 2560\n",
      "958 2560\n",
      "959 2560\n",
      "960 2560\n",
      "961 2560\n",
      "962 2560\n",
      "963 2560\n",
      "964 2560\n",
      "965 2560\n",
      "966 2560\n",
      "967 2560\n",
      "968 2560\n",
      "969 2560\n",
      "970 2560\n",
      "971 2560\n",
      "972 2560\n",
      "973 2560\n",
      "974 2560\n",
      "975 2560\n",
      "976 2560\n",
      "977 2560\n",
      "978 2560\n",
      "979 2560\n",
      "980 2560\n",
      "981 2560\n",
      "982 2560\n",
      "983 2560\n",
      "984 2560\n",
      "985 2560\n",
      "986 2560\n",
      "987 2560\n",
      "988 2560\n",
      "989 2560\n",
      "990 2560\n",
      "991 2560\n",
      "992 2560\n",
      "993 2560\n",
      "994 2560\n",
      "995 2560\n",
      "996 2560\n",
      "997 2560\n",
      "998 2560\n",
      "999 2560\n",
      "1000 2560\n",
      "1001 2560\n",
      "1002 2560\n",
      "1003 2560\n",
      "1004 2560\n",
      "1005 2560\n",
      "1006 2560\n",
      "1007 2560\n",
      "1008 2560\n",
      "1009 2560\n",
      "1010 2560\n",
      "1011 2560\n",
      "1012 2560\n",
      "1013 2560\n",
      "1014 2560\n",
      "1015 2560\n",
      "1016 2560\n",
      "1017 2560\n",
      "1018 2560\n",
      "1019 2560\n",
      "1020 2560\n",
      "1021 2560\n",
      "1022 2560\n",
      "1023 2560\n",
      "1024 2560\n",
      "1025 2560\n",
      "1026 2560\n",
      "1027 2560\n",
      "1028 2560\n",
      "1029 2560\n",
      "1030 2560\n",
      "1031 2560\n",
      "1032 2560\n",
      "1033 2560\n",
      "1034 2560\n",
      "1035 2560\n",
      "1036 2560\n",
      "1037 2560\n",
      "1038 2560\n"
     ]
    }
   ],
   "source": [
    "for i,j in enumerate(eigenenergy_length):\n",
    "    print (i, j)"
   ]
  },
  {
   "cell_type": "code",
   "execution_count": 101,
   "id": "1eeb9837",
   "metadata": {
    "ExecuteTime": {
     "end_time": "2023-02-09T17:22:06.716496Z",
     "start_time": "2023-02-09T17:22:06.710049Z"
    }
   },
   "outputs": [
    {
     "data": {
      "text/plain": [
       "array([-18.17461078,  -6.44173492,  -6.11571398, ...,  -1.60998269,\n",
       "         1.12160967,   2.04909942])"
      ]
     },
     "execution_count": 101,
     "metadata": {},
     "output_type": "execute_result"
    }
   ],
   "source": [
    "eigen_energies[0].flatten()"
   ]
  },
  {
   "cell_type": "code",
   "execution_count": null,
   "id": "743093fd",
   "metadata": {},
   "outputs": [],
   "source": []
  },
  {
   "cell_type": "code",
   "execution_count": null,
   "id": "16eb53ab",
   "metadata": {},
   "outputs": [],
   "source": [
    "eigen_energies"
   ]
  },
  {
   "cell_type": "code",
   "execution_count": 96,
   "id": "3df451ca",
   "metadata": {
    "ExecuteTime": {
     "end_time": "2023-02-09T17:08:11.243193Z",
     "start_time": "2023-02-09T17:08:11.239256Z"
    }
   },
   "outputs": [
    {
     "data": {
      "text/plain": [
       "10"
      ]
     },
     "execution_count": 96,
     "metadata": {},
     "output_type": "execute_result"
    }
   ],
   "source": [
    "len(eigen_energies[0][1])"
   ]
  },
  {
   "cell_type": "code",
   "execution_count": 95,
   "id": "6a5470cd",
   "metadata": {
    "ExecuteTime": {
     "end_time": "2023-02-09T17:07:34.060465Z",
     "start_time": "2023-02-09T17:07:34.053540Z"
    }
   },
   "outputs": [
    {
     "data": {
      "text/plain": [
       "165"
      ]
     },
     "execution_count": 95,
     "metadata": {},
     "output_type": "execute_result"
    }
   ],
   "source": [
    "len(eigen_energies[700][0])"
   ]
  },
  {
   "cell_type": "code",
   "execution_count": 87,
   "id": "a7beec4a",
   "metadata": {
    "ExecuteTime": {
     "end_time": "2023-02-09T17:04:32.883183Z",
     "start_time": "2023-02-09T17:04:32.877870Z"
    }
   },
   "outputs": [
    {
     "data": {
      "text/plain": [
       "1"
      ]
     },
     "execution_count": 87,
     "metadata": {},
     "output_type": "execute_result"
    }
   ],
   "source": [
    "eigenenergy_length[700]"
   ]
  },
  {
   "cell_type": "code",
   "execution_count": 110,
   "id": "1782aac6",
   "metadata": {
    "ExecuteTime": {
     "end_time": "2023-02-09T17:55:03.034571Z",
     "start_time": "2023-02-09T17:55:03.020450Z"
    }
   },
   "outputs": [
    {
     "data": {
      "text/plain": [
       "[<matplotlib.lines.Line2D at 0x7f83e6052a60>]"
      ]
     },
     "execution_count": 110,
     "metadata": {},
     "output_type": "execute_result"
    }
   ],
   "source": [
    "plt.plot(xdos, ldos[0])"
   ]
  },
  {
   "cell_type": "code",
   "execution_count": 139,
   "id": "ce7ac6dc",
   "metadata": {
    "ExecuteTime": {
     "end_time": "2023-02-13T19:02:53.046358Z",
     "start_time": "2023-02-13T19:02:52.696381Z"
    }
   },
   "outputs": [
    {
     "name": "stdout",
     "output_type": "stream",
     "text": [
      "SOAP PCA explained variance with 1 PCA is: [0.85417772]\n",
      "Kernel PCA explained variance with 1 PCA is: [0.76640756]\n"
     ]
    }
   ],
   "source": [
    "from sklearn.decomposition import PCA\n",
    "\n",
    "soap = Silicon.Features['structure_avedescriptors'] \n",
    "soap_pca = PCA(n_components = 1, svd_solver = \"full\")\n",
    "soap_pca.fit(soap)\n",
    "\n",
    "print (\"SOAP PCA explained variance with 1 PCA is: {}\".format(soap_pca.explained_variance_ratio_))\n",
    "\n",
    "PCA_soap = soap_pca.transform(soap)\n",
    "\n",
    "kernel = Silicon.Features['structure_avekerneldescriptors']\n",
    "kernel_pca = PCA(n_components = 1, svd_solver = \"full\")\n",
    "kernel_pca.fit(kernel)\n",
    "\n",
    "print (\"Kernel PCA explained variance with 1 PCA is: {}\".format(kernel_pca.explained_variance_ratio_))\n",
    "\n",
    "PCA_kernel = kernel_pca.transform(kernel)"
   ]
  },
  {
   "cell_type": "code",
   "execution_count": 146,
   "id": "e53bcd34",
   "metadata": {
    "ExecuteTime": {
     "end_time": "2023-02-13T19:05:58.302764Z",
     "start_time": "2023-02-13T19:05:58.288914Z"
    }
   },
   "outputs": [
    {
     "data": {
      "text/plain": [
       "array([[-3.49913423e-03, -1.76411215e-02,  3.32522948e-02,\n",
       "         3.61629233e-01,  1.87222390e-01,  7.49472932e-02,\n",
       "         7.73753721e-02,  2.89413546e-02, -1.76411215e-02,\n",
       "         7.01613627e-04, -6.64714922e-03, -1.96539716e-02,\n",
       "        -1.21993389e-02, -6.67081254e-03, -4.36700539e-03,\n",
       "        -1.68577363e-03,  3.32522948e-02, -6.64714922e-03,\n",
       "         2.20352739e-02,  1.41889410e-01,  7.26851954e-02,\n",
       "         3.15241013e-02,  2.88627511e-02,  1.08549650e-02,\n",
       "         3.61629233e-01, -1.96539716e-02,  1.41889410e-01,\n",
       "         4.92546963e-01,  2.89406316e-01,  1.51981690e-01,\n",
       "         1.06534352e-01,  4.10607729e-02,  1.87222390e-01,\n",
       "        -1.21993389e-02,  7.26851954e-02,  2.89406316e-01,\n",
       "         1.62030561e-01,  8.08235013e-02,  6.02749031e-02,\n",
       "         2.31914869e-02,  7.49472932e-02, -6.67081254e-03,\n",
       "         3.15241013e-02,  1.51981690e-01,  8.08235013e-02,\n",
       "         3.70043392e-02,  3.02939232e-02,  1.15274716e-02,\n",
       "         7.73753721e-02, -4.36700539e-03,  2.88627511e-02,\n",
       "         1.06534352e-01,  6.02749031e-02,  3.02939232e-02,\n",
       "         2.17846734e-02,  8.37328373e-03,  2.89413546e-02,\n",
       "        -1.68577363e-03,  1.08549650e-02,  4.10607729e-02,\n",
       "         2.31914869e-02,  1.15274716e-02,  8.37328373e-03,\n",
       "         3.21169845e-03, -2.42678062e-05,  5.11123332e-05,\n",
       "        -3.53316626e-04, -5.69486606e-04, -3.00272506e-04,\n",
       "        -2.40257378e-04, -8.47122357e-05, -3.94519317e-05,\n",
       "         5.11123332e-05, -1.69061333e-04,  8.91359912e-04,\n",
       "         1.52903701e-03,  7.98658394e-04,  5.79778184e-04,\n",
       "         1.83320028e-04,  8.26635902e-05, -3.53316626e-04,\n",
       "         8.91359912e-04, -5.43889188e-03, -9.33776686e-03,\n",
       "        -5.16824236e-03, -3.94312423e-03, -1.41001255e-03,\n",
       "        -6.45440361e-04, -5.69486606e-04,  1.52903701e-03,\n",
       "        -9.33776686e-03, -1.70537584e-02, -9.57630675e-03,\n",
       "        -6.39819664e-03, -2.20517209e-03, -9.70570198e-04,\n",
       "        -3.00272506e-04,  7.98658394e-04, -5.16824236e-03,\n",
       "        -9.57630675e-03, -6.90821221e-03, -4.72774768e-03,\n",
       "        -1.80610336e-03, -7.53570430e-04, -2.40257378e-04,\n",
       "         5.79778184e-04, -3.94312423e-03, -6.39819664e-03,\n",
       "        -4.72774768e-03, -3.68062261e-03, -1.42088201e-03,\n",
       "        -6.01509578e-04, -8.47122357e-05,  1.83320028e-04,\n",
       "        -1.41001255e-03, -2.20517209e-03, -1.80610336e-03,\n",
       "        -1.42088201e-03, -5.76636427e-04, -2.39698375e-04,\n",
       "        -3.94519317e-05,  8.26635902e-05, -6.45440361e-04,\n",
       "        -9.70570198e-04, -7.53570430e-04, -6.01509578e-04,\n",
       "        -2.39698375e-04, -1.00730273e-04, -8.58758363e-06,\n",
       "         3.54320192e-05, -1.33048376e-04, -4.02508982e-04,\n",
       "        -9.06240701e-05,  1.25316756e-05,  6.69886108e-06,\n",
       "        -3.79706680e-06,  3.54320192e-05, -4.69333435e-05,\n",
       "         6.44297922e-04,  4.61774643e-04,  2.24269773e-04,\n",
       "        -3.27066608e-05, -1.11055172e-05,  8.79788855e-06,\n",
       "        -1.33048376e-04,  6.44297922e-04, -2.00324396e-03,\n",
       "        -6.23215987e-03, -1.12522536e-03, -3.43541622e-06,\n",
       "         1.58350714e-04, -2.30601944e-05, -4.02508982e-04,\n",
       "         4.61774643e-04, -6.23215987e-03, -5.40760398e-03,\n",
       "        -1.82666612e-03, -4.18024769e-05,  2.30771920e-04,\n",
       "        -2.17776046e-05, -9.06240701e-05,  2.24269773e-04,\n",
       "        -1.12522536e-03, -1.82666612e-03, -3.44104695e-04,\n",
       "        -8.42776342e-04, -8.02835618e-06,  2.13334142e-05,\n",
       "         1.25316756e-05, -3.27066608e-05, -3.43541622e-06,\n",
       "        -4.18024769e-05, -8.42776342e-04, -4.37251369e-04,\n",
       "        -2.51613975e-04, -9.74882526e-05,  6.69886108e-06,\n",
       "        -1.11055172e-05,  1.58350714e-04,  2.30771920e-04,\n",
       "        -8.02835618e-06, -2.51613975e-04, -8.49561794e-05,\n",
       "        -2.61261272e-05, -3.79706680e-06,  8.79788855e-06,\n",
       "        -2.30601944e-05, -2.17776046e-05,  2.13334142e-05,\n",
       "        -9.74882526e-05, -2.61261272e-05, -8.82993811e-06,\n",
       "        -1.36932787e-04,  3.14708918e-04, -2.45644041e-03,\n",
       "        -4.91953300e-03, -9.45603141e-04,  4.32227611e-04,\n",
       "         1.70934099e-04,  1.82215577e-05,  3.14708918e-04,\n",
       "        -7.39813355e-04,  5.39783324e-03,  1.00309471e-02,\n",
       "         1.77314627e-03, -7.10253863e-04, -3.82378572e-04,\n",
       "        -4.25116022e-05, -2.45644041e-03,  5.39783324e-03,\n",
       "        -4.06359761e-02, -7.10010143e-02, -1.12217390e-02,\n",
       "         5.20759821e-03,  2.69665377e-03,  1.12269107e-04,\n",
       "        -4.91953300e-03,  1.00309471e-02, -7.10010143e-02,\n",
       "        -9.03459590e-02, -5.51929567e-03,  2.30618802e-03,\n",
       "         4.41800631e-03, -2.48145527e-04, -9.45603141e-04,\n",
       "         1.77314627e-03, -1.12217390e-02, -5.51929567e-03,\n",
       "         2.20724073e-03, -1.90025875e-03,  4.85091238e-04,\n",
       "        -2.30001097e-04,  4.32227611e-04, -7.10253863e-04,\n",
       "         5.20759821e-03,  2.30618802e-03, -1.90025875e-03,\n",
       "        -1.47095066e-04, -3.85901561e-04,  7.76001765e-05,\n",
       "         1.70934099e-04, -3.82378572e-04,  2.69665377e-03,\n",
       "         4.41800631e-03,  4.85091238e-04, -3.85901561e-04,\n",
       "        -2.27680329e-04, -1.73486176e-05,  1.82215577e-05,\n",
       "        -4.25116022e-05,  1.12269107e-04, -2.48145527e-04,\n",
       "        -2.30001097e-04,  7.76001765e-05, -1.73486176e-05,\n",
       "         4.65229984e-06,  3.17205927e-04, -8.76536785e-04,\n",
       "         3.50296059e-03,  4.71843202e-03, -2.69920876e-03,\n",
       "         1.43909137e-04, -9.16594629e-05,  1.13397437e-04,\n",
       "        -8.76536785e-04,  2.45432174e-03, -9.84106713e-03,\n",
       "        -1.39200745e-02,  6.91016052e-03, -3.64375614e-04,\n",
       "         2.88172028e-04, -3.00361411e-04,  3.50296059e-03,\n",
       "        -9.84106713e-03,  3.74407831e-02,  5.06135592e-02,\n",
       "        -3.43059449e-02,  1.25872089e-03, -6.90009087e-04,\n",
       "         1.44113709e-03,  4.71843202e-03, -1.39200745e-02,\n",
       "         5.06135592e-02,  7.61404092e-02, -4.66312567e-02,\n",
       "         1.01025823e-03, -8.37839837e-04,  2.07138845e-03,\n",
       "        -2.69920876e-03,  6.91016052e-03, -3.43059449e-02,\n",
       "        -4.66312567e-02,  6.76587152e-03, -2.70728159e-03,\n",
       "         1.78997504e-03, -3.28286014e-04,  1.43909137e-04,\n",
       "        -3.64375614e-04,  1.25872089e-03,  1.01025823e-03,\n",
       "        -2.70728159e-03, -4.12028445e-04, -8.67012673e-05,\n",
       "         5.88660250e-05, -9.16594629e-05,  2.88172028e-04,\n",
       "        -6.90009087e-04, -8.37839837e-04,  1.78997504e-03,\n",
       "        -8.67012673e-05, -1.03002646e-04, -9.94709926e-05,\n",
       "         1.13397437e-04, -3.00361411e-04,  1.44113709e-03,\n",
       "         2.07138845e-03, -3.28286014e-04,  5.88660250e-05,\n",
       "        -9.94709926e-05,  5.47791295e-06,  2.69703453e-05,\n",
       "        -1.10821617e-04,  4.41077242e-04,  1.23213413e-03,\n",
       "         1.50384057e-05, -1.15836237e-04,  1.38452625e-05,\n",
       "         2.04876918e-05, -1.10821617e-04,  4.22802069e-04,\n",
       "        -1.72640876e-03, -4.46305808e-03,  9.17482665e-06,\n",
       "         3.79278770e-04, -2.60887171e-05, -7.11566938e-05,\n",
       "         4.41077242e-04, -1.72640876e-03,  7.03149316e-03,\n",
       "         1.87433195e-02, -1.58944095e-04, -1.84394597e-03,\n",
       "         1.64785462e-04,  3.17329064e-04,  1.23213413e-03,\n",
       "        -4.46305808e-03,  1.87433195e-02,  4.53418297e-02,\n",
       "        -8.67120540e-04, -3.81488630e-03,  8.44223976e-05,\n",
       "         7.13357786e-04,  1.50384057e-05,  9.17482665e-06,\n",
       "        -1.58944095e-04, -8.67120540e-04, -2.30985229e-03,\n",
       "        -1.13637796e-03, -1.09402371e-04,  4.47829321e-05,\n",
       "        -1.15836237e-04,  3.79278770e-04, -1.84394597e-03,\n",
       "        -3.81488630e-03, -1.13637796e-03, -5.18684389e-04,\n",
       "        -6.37093505e-05, -4.47195135e-05,  1.38452625e-05,\n",
       "        -2.60887171e-05,  1.64785462e-04,  8.44223976e-05,\n",
       "        -1.09402371e-04, -6.37093505e-05, -5.49075207e-05,\n",
       "        -1.44111513e-05,  2.04876918e-05, -7.11566938e-05,\n",
       "         3.17329064e-04,  7.13357786e-04,  4.47829321e-05,\n",
       "        -4.47195135e-05, -1.44111513e-05,  3.71990815e-06,\n",
       "        -8.84232851e-05,  2.13432424e-04, -1.05365352e-03,\n",
       "        -1.28227484e-03,  1.03529794e-03,  4.26027676e-04,\n",
       "         1.97772524e-04,  3.48733255e-05,  2.13432424e-04,\n",
       "        -3.84820427e-04,  2.14430254e-03,  5.43098790e-04,\n",
       "        -3.77062969e-03, -9.54267572e-04, -4.48106798e-04,\n",
       "        -8.23291730e-05, -1.05365352e-03,  2.14430254e-03,\n",
       "        -1.11990161e-02, -7.06210927e-03,  1.65057707e-02,\n",
       "         4.76842957e-03,  2.22422284e-03,  3.92803788e-04,\n",
       "        -1.28227484e-03,  5.43098790e-04, -7.06210927e-03,\n",
       "         3.26782253e-02,  4.05656950e-02,  4.51914962e-03,\n",
       "         2.11034472e-03,  3.70105452e-04,  1.03529794e-03,\n",
       "        -3.77062969e-03,  1.65057707e-02,  4.05656950e-02,\n",
       "         1.45538059e-04, -6.85922464e-03, -2.82650992e-03,\n",
       "        -4.43771147e-04,  4.26027676e-04, -9.54267572e-04,\n",
       "         4.76842957e-03,  4.51914962e-03, -6.85922464e-03,\n",
       "        -3.18102152e-03, -1.14176178e-03, -1.75230454e-04,\n",
       "         1.97772524e-04, -4.48106798e-04,  2.22422284e-03,\n",
       "         2.11034472e-03, -2.82650992e-03, -1.14176178e-03,\n",
       "        -4.65548759e-04, -7.20415672e-05,  3.48733255e-05,\n",
       "        -8.23291730e-05,  3.92803788e-04,  3.70105452e-04,\n",
       "        -4.43771147e-04, -1.75230454e-04, -7.20415672e-05,\n",
       "        -7.51907251e-06]])"
      ]
     },
     "execution_count": 146,
     "metadata": {},
     "output_type": "execute_result"
    }
   ],
   "source": [
    "soap_pca.components_"
   ]
  },
  {
   "cell_type": "markdown",
   "id": "1d7a32d9",
   "metadata": {},
   "source": [
    "## Baseline Model (Kernel) and Comparison"
   ]
  },
  {
   "cell_type": "code",
   "execution_count": 58,
   "id": "4317fa98",
   "metadata": {
    "ExecuteTime": {
     "end_time": "2023-02-16T15:42:00.699181Z",
     "start_time": "2023-02-16T15:42:00.654989Z"
    }
   },
   "outputs": [
    {
     "name": "stdout",
     "output_type": "stream",
     "text": [
      "tensor(0.0458)\n",
      "tensor(0.1024)\n"
     ]
    }
   ],
   "source": [
    "from sklearn.linear_model import Ridge\n",
    "from dostools.loss import loss\n",
    "from dostools.consistency import consistency\n",
    "\n",
    "#Features = copy.deepcopy(Silicon.Features[\"structure_avekerneldescriptors\"])\n",
    "Features = copy.deepcopy(PCA_kernel)\n",
    "o_ldos = torch.tensor(data.load_ldos())\n",
    "o_ldos *= 2\n",
    "y_pw = o_ldos# - o_ldos[train_index].mean(axis = 0)\n",
    "y_shifted = copy.deepcopy(y_pw)\n",
    "#y_shifted = consistency.shifted_ldos()\n",
    "\n",
    "baselinemodel = Ridge(alpha = 0, fit_intercept = True, solver = 'svd')\n",
    "\n",
    "x = Features[small_index]\n",
    "y = y_shifted[small_index]\n",
    "\n",
    "baselinemodel.fit(x,y)\n",
    "\n",
    "baseline_predictions = baselinemodel.predict(x)\n",
    "train_rmse = loss.t_get_rmse(torch.tensor(baseline_predictions), y)\n",
    "\n",
    "small_test_index = torch.arange(1039)\n",
    "small_test_index[small_index] = False\n",
    "small_test_index = small_test_index.nonzero().flatten()\n",
    "\n",
    "\n",
    "baseline_test_predictions = baselinemodel.predict(Features[small_test_index])\n",
    "test_rmse = loss.t_get_rmse(torch.tensor(baseline_test_predictions), y_shifted[small_test_index])\n",
    "\n",
    "print(train_rmse)\n",
    "print(test_rmse)"
   ]
  },
  {
   "cell_type": "code",
   "execution_count": 60,
   "id": "4b84548d",
   "metadata": {
    "ExecuteTime": {
     "end_time": "2023-02-16T15:42:32.171958Z",
     "start_time": "2023-02-16T15:42:32.151319Z"
    }
   },
   "outputs": [
    {
     "name": "stdout",
     "output_type": "stream",
     "text": [
      "tensor(0.0943)\n"
     ]
    },
    {
     "name": "stderr",
     "output_type": "stream",
     "text": [
      "/tmp/ipykernel_41760/2171692042.py:7: UserWarning: To copy construct from a tensor, it is recommended to use sourceTensor.clone().detach() or sourceTensor.clone().detach().requires_grad_(True), rather than torch.tensor(sourceTensor).\n",
      "  n_ldos = torch.tensor(final_ldos)\n"
     ]
    }
   ],
   "source": [
    "from sklearn.linear_model import Ridge\n",
    "from dostools.loss import loss\n",
    "from dostools.consistency import consistency\n",
    "\n",
    "# Features = copy.deepcopy(Silicon.Features[\"structure_avekerneldescriptors\"])\n",
    "Features = copy.deepcopy(PCA_kernel)\n",
    "n_ldos = torch.tensor(final_ldos)\n",
    "n_ldos *= 2\n",
    "y_pw = n_ldos# - o_ldos[train_index].mean(axis = 0)\n",
    "y_shifted = copy.deepcopy(y_pw.clone())\n",
    "#y_shifted = consistency.shifted_ldos()\n",
    "\n",
    "baselinemodel = Ridge(alpha = 0, fit_intercept = True, solver = 'svd')\n",
    "\n",
    "x = Features[small_index]\n",
    "y = y_shifted\n",
    "\n",
    "baselinemodel.fit(x,y)\n",
    "\n",
    "baseline_predictions = baselinemodel.predict(x)\n",
    "train_rmse = loss.t_get_rmse(torch.tensor(baseline_predictions), y)\n",
    "\n",
    "small_test_index = torch.arange(1039)\n",
    "small_test_index[small_index] = False\n",
    "small_test_index = small_test_index.nonzero().flatten()\n",
    "\n",
    "\n",
    "#baseline_test_predictions = baselinemodel.predict(Features[small_test_index])\n",
    "#test_rmse = loss.t_get_rmse(torch.tensor(baseline_test_predictions), y_shifted[small_test_index])\n",
    "\n",
    "print(train_rmse)\n",
    "#print(test_rmse)"
   ]
  },
  {
   "cell_type": "code",
   "execution_count": 48,
   "id": "cb137dae",
   "metadata": {
    "ExecuteTime": {
     "end_time": "2023-02-15T21:31:16.725204Z",
     "start_time": "2023-02-15T21:31:16.719013Z"
    }
   },
   "outputs": [
    {
     "data": {
      "text/plain": [
       "torch.Size([435, 1])"
      ]
     },
     "execution_count": 48,
     "metadata": {},
     "output_type": "execute_result"
    }
   ],
   "source": [
    "small_index.shape"
   ]
  },
  {
   "cell_type": "code",
   "execution_count": 43,
   "id": "8d2f428a",
   "metadata": {
    "ExecuteTime": {
     "end_time": "2023-02-15T21:30:44.979869Z",
     "start_time": "2023-02-15T21:30:44.975031Z"
    }
   },
   "outputs": [],
   "source": []
  },
  {
   "cell_type": "code",
   "execution_count": 46,
   "id": "ff2e0cee",
   "metadata": {
    "ExecuteTime": {
     "end_time": "2023-02-15T21:30:57.772566Z",
     "start_time": "2023-02-15T21:30:57.750854Z"
    }
   },
   "outputs": [
    {
     "data": {
      "text/plain": [
       "tensor([[  1],\n",
       "        [  2],\n",
       "        [  3],\n",
       "        [  4],\n",
       "        [  5],\n",
       "        [  6],\n",
       "        [  7],\n",
       "        [  8],\n",
       "        [  9],\n",
       "        [ 10],\n",
       "        [ 11],\n",
       "        [ 12],\n",
       "        [ 13],\n",
       "        [ 14],\n",
       "        [ 15],\n",
       "        [ 16],\n",
       "        [ 17],\n",
       "        [ 18],\n",
       "        [ 19],\n",
       "        [ 20],\n",
       "        [ 21],\n",
       "        [ 22],\n",
       "        [ 23],\n",
       "        [ 24],\n",
       "        [ 25],\n",
       "        [ 26],\n",
       "        [ 27],\n",
       "        [ 28],\n",
       "        [ 29],\n",
       "        [ 30],\n",
       "        [ 31],\n",
       "        [ 32],\n",
       "        [ 33],\n",
       "        [ 34],\n",
       "        [ 35],\n",
       "        [ 36],\n",
       "        [ 37],\n",
       "        [ 38],\n",
       "        [ 39],\n",
       "        [ 40],\n",
       "        [ 41],\n",
       "        [ 42],\n",
       "        [ 43],\n",
       "        [ 44],\n",
       "        [ 45],\n",
       "        [ 46],\n",
       "        [ 47],\n",
       "        [ 48],\n",
       "        [ 49],\n",
       "        [ 50],\n",
       "        [ 51],\n",
       "        [ 52],\n",
       "        [ 53],\n",
       "        [ 54],\n",
       "        [ 55],\n",
       "        [ 56],\n",
       "        [ 57],\n",
       "        [ 58],\n",
       "        [ 59],\n",
       "        [ 60],\n",
       "        [ 61],\n",
       "        [ 62],\n",
       "        [ 63],\n",
       "        [ 64],\n",
       "        [ 65],\n",
       "        [ 66],\n",
       "        [ 67],\n",
       "        [ 68],\n",
       "        [ 69],\n",
       "        [ 70],\n",
       "        [ 71],\n",
       "        [ 72],\n",
       "        [ 73],\n",
       "        [ 74],\n",
       "        [ 75],\n",
       "        [ 76],\n",
       "        [ 77],\n",
       "        [ 78],\n",
       "        [ 79],\n",
       "        [ 80],\n",
       "        [ 81],\n",
       "        [ 82],\n",
       "        [ 83],\n",
       "        [ 84],\n",
       "        [ 85],\n",
       "        [ 86],\n",
       "        [ 87],\n",
       "        [ 88],\n",
       "        [ 89],\n",
       "        [ 90],\n",
       "        [ 91],\n",
       "        [ 92],\n",
       "        [ 93],\n",
       "        [ 94],\n",
       "        [ 95],\n",
       "        [ 96],\n",
       "        [ 97],\n",
       "        [ 98],\n",
       "        [ 99],\n",
       "        [100],\n",
       "        [101],\n",
       "        [102],\n",
       "        [103],\n",
       "        [104],\n",
       "        [105],\n",
       "        [106],\n",
       "        [107],\n",
       "        [108],\n",
       "        [109],\n",
       "        [110],\n",
       "        [111],\n",
       "        [112],\n",
       "        [113],\n",
       "        [114],\n",
       "        [115],\n",
       "        [116],\n",
       "        [117],\n",
       "        [118],\n",
       "        [119],\n",
       "        [120],\n",
       "        [121],\n",
       "        [122],\n",
       "        [123],\n",
       "        [124],\n",
       "        [125],\n",
       "        [126],\n",
       "        [127],\n",
       "        [128],\n",
       "        [129],\n",
       "        [130],\n",
       "        [131],\n",
       "        [132],\n",
       "        [133],\n",
       "        [134],\n",
       "        [135],\n",
       "        [136],\n",
       "        [137],\n",
       "        [138],\n",
       "        [139],\n",
       "        [140],\n",
       "        [141],\n",
       "        [142],\n",
       "        [143],\n",
       "        [144],\n",
       "        [145],\n",
       "        [146],\n",
       "        [147],\n",
       "        [148],\n",
       "        [149],\n",
       "        [150],\n",
       "        [151],\n",
       "        [152],\n",
       "        [153],\n",
       "        [154],\n",
       "        [155],\n",
       "        [156],\n",
       "        [157],\n",
       "        [158],\n",
       "        [159],\n",
       "        [160],\n",
       "        [161],\n",
       "        [162],\n",
       "        [163],\n",
       "        [164],\n",
       "        [165],\n",
       "        [166],\n",
       "        [167],\n",
       "        [168],\n",
       "        [169],\n",
       "        [170],\n",
       "        [171],\n",
       "        [172],\n",
       "        [173],\n",
       "        [174],\n",
       "        [175],\n",
       "        [176],\n",
       "        [177],\n",
       "        [178],\n",
       "        [179],\n",
       "        [180],\n",
       "        [181],\n",
       "        [182],\n",
       "        [183],\n",
       "        [184],\n",
       "        [185],\n",
       "        [186],\n",
       "        [187],\n",
       "        [188],\n",
       "        [189],\n",
       "        [190],\n",
       "        [191],\n",
       "        [192],\n",
       "        [193],\n",
       "        [194],\n",
       "        [195],\n",
       "        [196],\n",
       "        [197],\n",
       "        [198],\n",
       "        [199],\n",
       "        [200],\n",
       "        [201],\n",
       "        [202],\n",
       "        [203],\n",
       "        [204],\n",
       "        [205],\n",
       "        [206],\n",
       "        [207],\n",
       "        [208],\n",
       "        [209],\n",
       "        [210],\n",
       "        [211],\n",
       "        [212],\n",
       "        [213],\n",
       "        [214],\n",
       "        [215],\n",
       "        [216],\n",
       "        [217],\n",
       "        [218],\n",
       "        [219],\n",
       "        [220],\n",
       "        [221],\n",
       "        [222],\n",
       "        [223],\n",
       "        [224],\n",
       "        [225],\n",
       "        [226],\n",
       "        [227],\n",
       "        [228],\n",
       "        [229],\n",
       "        [230],\n",
       "        [231],\n",
       "        [232],\n",
       "        [233],\n",
       "        [234],\n",
       "        [235],\n",
       "        [236],\n",
       "        [237],\n",
       "        [238],\n",
       "        [239],\n",
       "        [240],\n",
       "        [241],\n",
       "        [242],\n",
       "        [243],\n",
       "        [244],\n",
       "        [245],\n",
       "        [246],\n",
       "        [247],\n",
       "        [248],\n",
       "        [249],\n",
       "        [250],\n",
       "        [251],\n",
       "        [252],\n",
       "        [253],\n",
       "        [254],\n",
       "        [255],\n",
       "        [256],\n",
       "        [257],\n",
       "        [258],\n",
       "        [259],\n",
       "        [260],\n",
       "        [261],\n",
       "        [262],\n",
       "        [263],\n",
       "        [264],\n",
       "        [265],\n",
       "        [266],\n",
       "        [267],\n",
       "        [268],\n",
       "        [269],\n",
       "        [270],\n",
       "        [271],\n",
       "        [272],\n",
       "        [273],\n",
       "        [274],\n",
       "        [275],\n",
       "        [276],\n",
       "        [277],\n",
       "        [278],\n",
       "        [279],\n",
       "        [280],\n",
       "        [281],\n",
       "        [282],\n",
       "        [283],\n",
       "        [284],\n",
       "        [285],\n",
       "        [286],\n",
       "        [287],\n",
       "        [288],\n",
       "        [289],\n",
       "        [290],\n",
       "        [291],\n",
       "        [292],\n",
       "        [293],\n",
       "        [294],\n",
       "        [295],\n",
       "        [296],\n",
       "        [297],\n",
       "        [298],\n",
       "        [299],\n",
       "        [300],\n",
       "        [301],\n",
       "        [302],\n",
       "        [303],\n",
       "        [304],\n",
       "        [305],\n",
       "        [306],\n",
       "        [307],\n",
       "        [308],\n",
       "        [309],\n",
       "        [310],\n",
       "        [311],\n",
       "        [312],\n",
       "        [313],\n",
       "        [314],\n",
       "        [315],\n",
       "        [316],\n",
       "        [317],\n",
       "        [318],\n",
       "        [319],\n",
       "        [320],\n",
       "        [321],\n",
       "        [322],\n",
       "        [323],\n",
       "        [324],\n",
       "        [325],\n",
       "        [326],\n",
       "        [327],\n",
       "        [328],\n",
       "        [329],\n",
       "        [330],\n",
       "        [331],\n",
       "        [332],\n",
       "        [333],\n",
       "        [334],\n",
       "        [335],\n",
       "        [336],\n",
       "        [337],\n",
       "        [338],\n",
       "        [339],\n",
       "        [340],\n",
       "        [341],\n",
       "        [342],\n",
       "        [343],\n",
       "        [344],\n",
       "        [345],\n",
       "        [346],\n",
       "        [347],\n",
       "        [348],\n",
       "        [349],\n",
       "        [350],\n",
       "        [351],\n",
       "        [352],\n",
       "        [353],\n",
       "        [354],\n",
       "        [355],\n",
       "        [356],\n",
       "        [357],\n",
       "        [358],\n",
       "        [359],\n",
       "        [360],\n",
       "        [361],\n",
       "        [362],\n",
       "        [363],\n",
       "        [364],\n",
       "        [365],\n",
       "        [366],\n",
       "        [367],\n",
       "        [368],\n",
       "        [369],\n",
       "        [370],\n",
       "        [371],\n",
       "        [372],\n",
       "        [373],\n",
       "        [374],\n",
       "        [375],\n",
       "        [376],\n",
       "        [377],\n",
       "        [378],\n",
       "        [379],\n",
       "        [380],\n",
       "        [381],\n",
       "        [382],\n",
       "        [383],\n",
       "        [384],\n",
       "        [385],\n",
       "        [386],\n",
       "        [387],\n",
       "        [388],\n",
       "        [389],\n",
       "        [390],\n",
       "        [391],\n",
       "        [392],\n",
       "        [393],\n",
       "        [394],\n",
       "        [395],\n",
       "        [396],\n",
       "        [397],\n",
       "        [398],\n",
       "        [399],\n",
       "        [400],\n",
       "        [401],\n",
       "        [402],\n",
       "        [403],\n",
       "        [404],\n",
       "        [405],\n",
       "        [406],\n",
       "        [407],\n",
       "        [408],\n",
       "        [409],\n",
       "        [410],\n",
       "        [411],\n",
       "        [412],\n",
       "        [413],\n",
       "        [414],\n",
       "        [415],\n",
       "        [416],\n",
       "        [417],\n",
       "        [418],\n",
       "        [419],\n",
       "        [420],\n",
       "        [421],\n",
       "        [422],\n",
       "        [423],\n",
       "        [424],\n",
       "        [425],\n",
       "        [426],\n",
       "        [427],\n",
       "        [428],\n",
       "        [429],\n",
       "        [430],\n",
       "        [431],\n",
       "        [432],\n",
       "        [433],\n",
       "        [434],\n",
       "        [435],\n",
       "        [436],\n",
       "        [437],\n",
       "        [438],\n",
       "        [439],\n",
       "        [440],\n",
       "        [441],\n",
       "        [442],\n",
       "        [443],\n",
       "        [444],\n",
       "        [445],\n",
       "        [446],\n",
       "        [447],\n",
       "        [448],\n",
       "        [449],\n",
       "        [450],\n",
       "        [451],\n",
       "        [452],\n",
       "        [453],\n",
       "        [454],\n",
       "        [455],\n",
       "        [456],\n",
       "        [457],\n",
       "        [458],\n",
       "        [459],\n",
       "        [460],\n",
       "        [461],\n",
       "        [462],\n",
       "        [463],\n",
       "        [464],\n",
       "        [465],\n",
       "        [466],\n",
       "        [467],\n",
       "        [468],\n",
       "        [469],\n",
       "        [470],\n",
       "        [471],\n",
       "        [472],\n",
       "        [473],\n",
       "        [474],\n",
       "        [475],\n",
       "        [476],\n",
       "        [477],\n",
       "        [478],\n",
       "        [479],\n",
       "        [480],\n",
       "        [481],\n",
       "        [482],\n",
       "        [483],\n",
       "        [484],\n",
       "        [485],\n",
       "        [486],\n",
       "        [487],\n",
       "        [488],\n",
       "        [489],\n",
       "        [490],\n",
       "        [491],\n",
       "        [492],\n",
       "        [493],\n",
       "        [494],\n",
       "        [495],\n",
       "        [496],\n",
       "        [497],\n",
       "        [498],\n",
       "        [499],\n",
       "        [500],\n",
       "        [501],\n",
       "        [502],\n",
       "        [503],\n",
       "        [504],\n",
       "        [505],\n",
       "        [506],\n",
       "        [507],\n",
       "        [508],\n",
       "        [509],\n",
       "        [510],\n",
       "        [511],\n",
       "        [512],\n",
       "        [513],\n",
       "        [514],\n",
       "        [515],\n",
       "        [516],\n",
       "        [517],\n",
       "        [518],\n",
       "        [519],\n",
       "        [520],\n",
       "        [521],\n",
       "        [522],\n",
       "        [523],\n",
       "        [524],\n",
       "        [525],\n",
       "        [526],\n",
       "        [527],\n",
       "        [528],\n",
       "        [529],\n",
       "        [530],\n",
       "        [531],\n",
       "        [532],\n",
       "        [533],\n",
       "        [534],\n",
       "        [535],\n",
       "        [536],\n",
       "        [537],\n",
       "        [538],\n",
       "        [539],\n",
       "        [540],\n",
       "        [541],\n",
       "        [542],\n",
       "        [543],\n",
       "        [544],\n",
       "        [545],\n",
       "        [546],\n",
       "        [547],\n",
       "        [548],\n",
       "        [549],\n",
       "        [550],\n",
       "        [551],\n",
       "        [552],\n",
       "        [553],\n",
       "        [554],\n",
       "        [555],\n",
       "        [556],\n",
       "        [557],\n",
       "        [558],\n",
       "        [559],\n",
       "        [560],\n",
       "        [561],\n",
       "        [562],\n",
       "        [563],\n",
       "        [564],\n",
       "        [565],\n",
       "        [566],\n",
       "        [567],\n",
       "        [568],\n",
       "        [569],\n",
       "        [570],\n",
       "        [571],\n",
       "        [572],\n",
       "        [573],\n",
       "        [574],\n",
       "        [575],\n",
       "        [576],\n",
       "        [577],\n",
       "        [578],\n",
       "        [579],\n",
       "        [580],\n",
       "        [581],\n",
       "        [582],\n",
       "        [583],\n",
       "        [584],\n",
       "        [585],\n",
       "        [586],\n",
       "        [587],\n",
       "        [588],\n",
       "        [589],\n",
       "        [590],\n",
       "        [591],\n",
       "        [592],\n",
       "        [593],\n",
       "        [594],\n",
       "        [595],\n",
       "        [596],\n",
       "        [597],\n",
       "        [598],\n",
       "        [599],\n",
       "        [600],\n",
       "        [601],\n",
       "        [602],\n",
       "        [603]])"
      ]
     },
     "execution_count": 46,
     "metadata": {},
     "output_type": "execute_result"
    }
   ],
   "source": [
    "small_test_index"
   ]
  },
  {
   "cell_type": "markdown",
   "id": "ec309322",
   "metadata": {},
   "source": [
    "## Generate data"
   ]
  },
  {
   "cell_type": "code",
   "execution_count": 109,
   "id": "2e47d79c",
   "metadata": {
    "ExecuteTime": {
     "end_time": "2023-02-09T17:54:50.248956Z",
     "start_time": "2023-02-09T17:54:50.212377Z"
    }
   },
   "outputs": [
    {
     "data": {
      "application/javascript": [
       "/* Put everything inside the global mpl namespace */\n",
       "/* global mpl */\n",
       "window.mpl = {};\n",
       "\n",
       "mpl.get_websocket_type = function () {\n",
       "    if (typeof WebSocket !== 'undefined') {\n",
       "        return WebSocket;\n",
       "    } else if (typeof MozWebSocket !== 'undefined') {\n",
       "        return MozWebSocket;\n",
       "    } else {\n",
       "        alert(\n",
       "            'Your browser does not have WebSocket support. ' +\n",
       "                'Please try Chrome, Safari or Firefox ≥ 6. ' +\n",
       "                'Firefox 4 and 5 are also supported but you ' +\n",
       "                'have to enable WebSockets in about:config.'\n",
       "        );\n",
       "    }\n",
       "};\n",
       "\n",
       "mpl.figure = function (figure_id, websocket, ondownload, parent_element) {\n",
       "    this.id = figure_id;\n",
       "\n",
       "    this.ws = websocket;\n",
       "\n",
       "    this.supports_binary = this.ws.binaryType !== undefined;\n",
       "\n",
       "    if (!this.supports_binary) {\n",
       "        var warnings = document.getElementById('mpl-warnings');\n",
       "        if (warnings) {\n",
       "            warnings.style.display = 'block';\n",
       "            warnings.textContent =\n",
       "                'This browser does not support binary websocket messages. ' +\n",
       "                'Performance may be slow.';\n",
       "        }\n",
       "    }\n",
       "\n",
       "    this.imageObj = new Image();\n",
       "\n",
       "    this.context = undefined;\n",
       "    this.message = undefined;\n",
       "    this.canvas = undefined;\n",
       "    this.rubberband_canvas = undefined;\n",
       "    this.rubberband_context = undefined;\n",
       "    this.format_dropdown = undefined;\n",
       "\n",
       "    this.image_mode = 'full';\n",
       "\n",
       "    this.root = document.createElement('div');\n",
       "    this.root.setAttribute('style', 'display: inline-block');\n",
       "    this._root_extra_style(this.root);\n",
       "\n",
       "    parent_element.appendChild(this.root);\n",
       "\n",
       "    this._init_header(this);\n",
       "    this._init_canvas(this);\n",
       "    this._init_toolbar(this);\n",
       "\n",
       "    var fig = this;\n",
       "\n",
       "    this.waiting = false;\n",
       "\n",
       "    this.ws.onopen = function () {\n",
       "        fig.send_message('supports_binary', { value: fig.supports_binary });\n",
       "        fig.send_message('send_image_mode', {});\n",
       "        if (fig.ratio !== 1) {\n",
       "            fig.send_message('set_device_pixel_ratio', {\n",
       "                device_pixel_ratio: fig.ratio,\n",
       "            });\n",
       "        }\n",
       "        fig.send_message('refresh', {});\n",
       "    };\n",
       "\n",
       "    this.imageObj.onload = function () {\n",
       "        if (fig.image_mode === 'full') {\n",
       "            // Full images could contain transparency (where diff images\n",
       "            // almost always do), so we need to clear the canvas so that\n",
       "            // there is no ghosting.\n",
       "            fig.context.clearRect(0, 0, fig.canvas.width, fig.canvas.height);\n",
       "        }\n",
       "        fig.context.drawImage(fig.imageObj, 0, 0);\n",
       "    };\n",
       "\n",
       "    this.imageObj.onunload = function () {\n",
       "        fig.ws.close();\n",
       "    };\n",
       "\n",
       "    this.ws.onmessage = this._make_on_message_function(this);\n",
       "\n",
       "    this.ondownload = ondownload;\n",
       "};\n",
       "\n",
       "mpl.figure.prototype._init_header = function () {\n",
       "    var titlebar = document.createElement('div');\n",
       "    titlebar.classList =\n",
       "        'ui-dialog-titlebar ui-widget-header ui-corner-all ui-helper-clearfix';\n",
       "    var titletext = document.createElement('div');\n",
       "    titletext.classList = 'ui-dialog-title';\n",
       "    titletext.setAttribute(\n",
       "        'style',\n",
       "        'width: 100%; text-align: center; padding: 3px;'\n",
       "    );\n",
       "    titlebar.appendChild(titletext);\n",
       "    this.root.appendChild(titlebar);\n",
       "    this.header = titletext;\n",
       "};\n",
       "\n",
       "mpl.figure.prototype._canvas_extra_style = function (_canvas_div) {};\n",
       "\n",
       "mpl.figure.prototype._root_extra_style = function (_canvas_div) {};\n",
       "\n",
       "mpl.figure.prototype._init_canvas = function () {\n",
       "    var fig = this;\n",
       "\n",
       "    var canvas_div = (this.canvas_div = document.createElement('div'));\n",
       "    canvas_div.setAttribute(\n",
       "        'style',\n",
       "        'border: 1px solid #ddd;' +\n",
       "            'box-sizing: content-box;' +\n",
       "            'clear: both;' +\n",
       "            'min-height: 1px;' +\n",
       "            'min-width: 1px;' +\n",
       "            'outline: 0;' +\n",
       "            'overflow: hidden;' +\n",
       "            'position: relative;' +\n",
       "            'resize: both;'\n",
       "    );\n",
       "\n",
       "    function on_keyboard_event_closure(name) {\n",
       "        return function (event) {\n",
       "            return fig.key_event(event, name);\n",
       "        };\n",
       "    }\n",
       "\n",
       "    canvas_div.addEventListener(\n",
       "        'keydown',\n",
       "        on_keyboard_event_closure('key_press')\n",
       "    );\n",
       "    canvas_div.addEventListener(\n",
       "        'keyup',\n",
       "        on_keyboard_event_closure('key_release')\n",
       "    );\n",
       "\n",
       "    this._canvas_extra_style(canvas_div);\n",
       "    this.root.appendChild(canvas_div);\n",
       "\n",
       "    var canvas = (this.canvas = document.createElement('canvas'));\n",
       "    canvas.classList.add('mpl-canvas');\n",
       "    canvas.setAttribute('style', 'box-sizing: content-box;');\n",
       "\n",
       "    this.context = canvas.getContext('2d');\n",
       "\n",
       "    var backingStore =\n",
       "        this.context.backingStorePixelRatio ||\n",
       "        this.context.webkitBackingStorePixelRatio ||\n",
       "        this.context.mozBackingStorePixelRatio ||\n",
       "        this.context.msBackingStorePixelRatio ||\n",
       "        this.context.oBackingStorePixelRatio ||\n",
       "        this.context.backingStorePixelRatio ||\n",
       "        1;\n",
       "\n",
       "    this.ratio = (window.devicePixelRatio || 1) / backingStore;\n",
       "\n",
       "    var rubberband_canvas = (this.rubberband_canvas = document.createElement(\n",
       "        'canvas'\n",
       "    ));\n",
       "    rubberband_canvas.setAttribute(\n",
       "        'style',\n",
       "        'box-sizing: content-box; position: absolute; left: 0; top: 0; z-index: 1;'\n",
       "    );\n",
       "\n",
       "    // Apply a ponyfill if ResizeObserver is not implemented by browser.\n",
       "    if (this.ResizeObserver === undefined) {\n",
       "        if (window.ResizeObserver !== undefined) {\n",
       "            this.ResizeObserver = window.ResizeObserver;\n",
       "        } else {\n",
       "            var obs = _JSXTOOLS_RESIZE_OBSERVER({});\n",
       "            this.ResizeObserver = obs.ResizeObserver;\n",
       "        }\n",
       "    }\n",
       "\n",
       "    this.resizeObserverInstance = new this.ResizeObserver(function (entries) {\n",
       "        var nentries = entries.length;\n",
       "        for (var i = 0; i < nentries; i++) {\n",
       "            var entry = entries[i];\n",
       "            var width, height;\n",
       "            if (entry.contentBoxSize) {\n",
       "                if (entry.contentBoxSize instanceof Array) {\n",
       "                    // Chrome 84 implements new version of spec.\n",
       "                    width = entry.contentBoxSize[0].inlineSize;\n",
       "                    height = entry.contentBoxSize[0].blockSize;\n",
       "                } else {\n",
       "                    // Firefox implements old version of spec.\n",
       "                    width = entry.contentBoxSize.inlineSize;\n",
       "                    height = entry.contentBoxSize.blockSize;\n",
       "                }\n",
       "            } else {\n",
       "                // Chrome <84 implements even older version of spec.\n",
       "                width = entry.contentRect.width;\n",
       "                height = entry.contentRect.height;\n",
       "            }\n",
       "\n",
       "            // Keep the size of the canvas and rubber band canvas in sync with\n",
       "            // the canvas container.\n",
       "            if (entry.devicePixelContentBoxSize) {\n",
       "                // Chrome 84 implements new version of spec.\n",
       "                canvas.setAttribute(\n",
       "                    'width',\n",
       "                    entry.devicePixelContentBoxSize[0].inlineSize\n",
       "                );\n",
       "                canvas.setAttribute(\n",
       "                    'height',\n",
       "                    entry.devicePixelContentBoxSize[0].blockSize\n",
       "                );\n",
       "            } else {\n",
       "                canvas.setAttribute('width', width * fig.ratio);\n",
       "                canvas.setAttribute('height', height * fig.ratio);\n",
       "            }\n",
       "            canvas.setAttribute(\n",
       "                'style',\n",
       "                'width: ' + width + 'px; height: ' + height + 'px;'\n",
       "            );\n",
       "\n",
       "            rubberband_canvas.setAttribute('width', width);\n",
       "            rubberband_canvas.setAttribute('height', height);\n",
       "\n",
       "            // And update the size in Python. We ignore the initial 0/0 size\n",
       "            // that occurs as the element is placed into the DOM, which should\n",
       "            // otherwise not happen due to the minimum size styling.\n",
       "            if (fig.ws.readyState == 1 && width != 0 && height != 0) {\n",
       "                fig.request_resize(width, height);\n",
       "            }\n",
       "        }\n",
       "    });\n",
       "    this.resizeObserverInstance.observe(canvas_div);\n",
       "\n",
       "    function on_mouse_event_closure(name) {\n",
       "        return function (event) {\n",
       "            return fig.mouse_event(event, name);\n",
       "        };\n",
       "    }\n",
       "\n",
       "    rubberband_canvas.addEventListener(\n",
       "        'mousedown',\n",
       "        on_mouse_event_closure('button_press')\n",
       "    );\n",
       "    rubberband_canvas.addEventListener(\n",
       "        'mouseup',\n",
       "        on_mouse_event_closure('button_release')\n",
       "    );\n",
       "    rubberband_canvas.addEventListener(\n",
       "        'dblclick',\n",
       "        on_mouse_event_closure('dblclick')\n",
       "    );\n",
       "    // Throttle sequential mouse events to 1 every 20ms.\n",
       "    rubberband_canvas.addEventListener(\n",
       "        'mousemove',\n",
       "        on_mouse_event_closure('motion_notify')\n",
       "    );\n",
       "\n",
       "    rubberband_canvas.addEventListener(\n",
       "        'mouseenter',\n",
       "        on_mouse_event_closure('figure_enter')\n",
       "    );\n",
       "    rubberband_canvas.addEventListener(\n",
       "        'mouseleave',\n",
       "        on_mouse_event_closure('figure_leave')\n",
       "    );\n",
       "\n",
       "    canvas_div.addEventListener('wheel', function (event) {\n",
       "        if (event.deltaY < 0) {\n",
       "            event.step = 1;\n",
       "        } else {\n",
       "            event.step = -1;\n",
       "        }\n",
       "        on_mouse_event_closure('scroll')(event);\n",
       "    });\n",
       "\n",
       "    canvas_div.appendChild(canvas);\n",
       "    canvas_div.appendChild(rubberband_canvas);\n",
       "\n",
       "    this.rubberband_context = rubberband_canvas.getContext('2d');\n",
       "    this.rubberband_context.strokeStyle = '#000000';\n",
       "\n",
       "    this._resize_canvas = function (width, height, forward) {\n",
       "        if (forward) {\n",
       "            canvas_div.style.width = width + 'px';\n",
       "            canvas_div.style.height = height + 'px';\n",
       "        }\n",
       "    };\n",
       "\n",
       "    // Disable right mouse context menu.\n",
       "    this.rubberband_canvas.addEventListener('contextmenu', function (_e) {\n",
       "        event.preventDefault();\n",
       "        return false;\n",
       "    });\n",
       "\n",
       "    function set_focus() {\n",
       "        canvas.focus();\n",
       "        canvas_div.focus();\n",
       "    }\n",
       "\n",
       "    window.setTimeout(set_focus, 100);\n",
       "};\n",
       "\n",
       "mpl.figure.prototype._init_toolbar = function () {\n",
       "    var fig = this;\n",
       "\n",
       "    var toolbar = document.createElement('div');\n",
       "    toolbar.classList = 'mpl-toolbar';\n",
       "    this.root.appendChild(toolbar);\n",
       "\n",
       "    function on_click_closure(name) {\n",
       "        return function (_event) {\n",
       "            return fig.toolbar_button_onclick(name);\n",
       "        };\n",
       "    }\n",
       "\n",
       "    function on_mouseover_closure(tooltip) {\n",
       "        return function (event) {\n",
       "            if (!event.currentTarget.disabled) {\n",
       "                return fig.toolbar_button_onmouseover(tooltip);\n",
       "            }\n",
       "        };\n",
       "    }\n",
       "\n",
       "    fig.buttons = {};\n",
       "    var buttonGroup = document.createElement('div');\n",
       "    buttonGroup.classList = 'mpl-button-group';\n",
       "    for (var toolbar_ind in mpl.toolbar_items) {\n",
       "        var name = mpl.toolbar_items[toolbar_ind][0];\n",
       "        var tooltip = mpl.toolbar_items[toolbar_ind][1];\n",
       "        var image = mpl.toolbar_items[toolbar_ind][2];\n",
       "        var method_name = mpl.toolbar_items[toolbar_ind][3];\n",
       "\n",
       "        if (!name) {\n",
       "            /* Instead of a spacer, we start a new button group. */\n",
       "            if (buttonGroup.hasChildNodes()) {\n",
       "                toolbar.appendChild(buttonGroup);\n",
       "            }\n",
       "            buttonGroup = document.createElement('div');\n",
       "            buttonGroup.classList = 'mpl-button-group';\n",
       "            continue;\n",
       "        }\n",
       "\n",
       "        var button = (fig.buttons[name] = document.createElement('button'));\n",
       "        button.classList = 'mpl-widget';\n",
       "        button.setAttribute('role', 'button');\n",
       "        button.setAttribute('aria-disabled', 'false');\n",
       "        button.addEventListener('click', on_click_closure(method_name));\n",
       "        button.addEventListener('mouseover', on_mouseover_closure(tooltip));\n",
       "\n",
       "        var icon_img = document.createElement('img');\n",
       "        icon_img.src = '_images/' + image + '.png';\n",
       "        icon_img.srcset = '_images/' + image + '_large.png 2x';\n",
       "        icon_img.alt = tooltip;\n",
       "        button.appendChild(icon_img);\n",
       "\n",
       "        buttonGroup.appendChild(button);\n",
       "    }\n",
       "\n",
       "    if (buttonGroup.hasChildNodes()) {\n",
       "        toolbar.appendChild(buttonGroup);\n",
       "    }\n",
       "\n",
       "    var fmt_picker = document.createElement('select');\n",
       "    fmt_picker.classList = 'mpl-widget';\n",
       "    toolbar.appendChild(fmt_picker);\n",
       "    this.format_dropdown = fmt_picker;\n",
       "\n",
       "    for (var ind in mpl.extensions) {\n",
       "        var fmt = mpl.extensions[ind];\n",
       "        var option = document.createElement('option');\n",
       "        option.selected = fmt === mpl.default_extension;\n",
       "        option.innerHTML = fmt;\n",
       "        fmt_picker.appendChild(option);\n",
       "    }\n",
       "\n",
       "    var status_bar = document.createElement('span');\n",
       "    status_bar.classList = 'mpl-message';\n",
       "    toolbar.appendChild(status_bar);\n",
       "    this.message = status_bar;\n",
       "};\n",
       "\n",
       "mpl.figure.prototype.request_resize = function (x_pixels, y_pixels) {\n",
       "    // Request matplotlib to resize the figure. Matplotlib will then trigger a resize in the client,\n",
       "    // which will in turn request a refresh of the image.\n",
       "    this.send_message('resize', { width: x_pixels, height: y_pixels });\n",
       "};\n",
       "\n",
       "mpl.figure.prototype.send_message = function (type, properties) {\n",
       "    properties['type'] = type;\n",
       "    properties['figure_id'] = this.id;\n",
       "    this.ws.send(JSON.stringify(properties));\n",
       "};\n",
       "\n",
       "mpl.figure.prototype.send_draw_message = function () {\n",
       "    if (!this.waiting) {\n",
       "        this.waiting = true;\n",
       "        this.ws.send(JSON.stringify({ type: 'draw', figure_id: this.id }));\n",
       "    }\n",
       "};\n",
       "\n",
       "mpl.figure.prototype.handle_save = function (fig, _msg) {\n",
       "    var format_dropdown = fig.format_dropdown;\n",
       "    var format = format_dropdown.options[format_dropdown.selectedIndex].value;\n",
       "    fig.ondownload(fig, format);\n",
       "};\n",
       "\n",
       "mpl.figure.prototype.handle_resize = function (fig, msg) {\n",
       "    var size = msg['size'];\n",
       "    if (size[0] !== fig.canvas.width || size[1] !== fig.canvas.height) {\n",
       "        fig._resize_canvas(size[0], size[1], msg['forward']);\n",
       "        fig.send_message('refresh', {});\n",
       "    }\n",
       "};\n",
       "\n",
       "mpl.figure.prototype.handle_rubberband = function (fig, msg) {\n",
       "    var x0 = msg['x0'] / fig.ratio;\n",
       "    var y0 = (fig.canvas.height - msg['y0']) / fig.ratio;\n",
       "    var x1 = msg['x1'] / fig.ratio;\n",
       "    var y1 = (fig.canvas.height - msg['y1']) / fig.ratio;\n",
       "    x0 = Math.floor(x0) + 0.5;\n",
       "    y0 = Math.floor(y0) + 0.5;\n",
       "    x1 = Math.floor(x1) + 0.5;\n",
       "    y1 = Math.floor(y1) + 0.5;\n",
       "    var min_x = Math.min(x0, x1);\n",
       "    var min_y = Math.min(y0, y1);\n",
       "    var width = Math.abs(x1 - x0);\n",
       "    var height = Math.abs(y1 - y0);\n",
       "\n",
       "    fig.rubberband_context.clearRect(\n",
       "        0,\n",
       "        0,\n",
       "        fig.canvas.width / fig.ratio,\n",
       "        fig.canvas.height / fig.ratio\n",
       "    );\n",
       "\n",
       "    fig.rubberband_context.strokeRect(min_x, min_y, width, height);\n",
       "};\n",
       "\n",
       "mpl.figure.prototype.handle_figure_label = function (fig, msg) {\n",
       "    // Updates the figure title.\n",
       "    fig.header.textContent = msg['label'];\n",
       "};\n",
       "\n",
       "mpl.figure.prototype.handle_cursor = function (fig, msg) {\n",
       "    fig.rubberband_canvas.style.cursor = msg['cursor'];\n",
       "};\n",
       "\n",
       "mpl.figure.prototype.handle_message = function (fig, msg) {\n",
       "    fig.message.textContent = msg['message'];\n",
       "};\n",
       "\n",
       "mpl.figure.prototype.handle_draw = function (fig, _msg) {\n",
       "    // Request the server to send over a new figure.\n",
       "    fig.send_draw_message();\n",
       "};\n",
       "\n",
       "mpl.figure.prototype.handle_image_mode = function (fig, msg) {\n",
       "    fig.image_mode = msg['mode'];\n",
       "};\n",
       "\n",
       "mpl.figure.prototype.handle_history_buttons = function (fig, msg) {\n",
       "    for (var key in msg) {\n",
       "        if (!(key in fig.buttons)) {\n",
       "            continue;\n",
       "        }\n",
       "        fig.buttons[key].disabled = !msg[key];\n",
       "        fig.buttons[key].setAttribute('aria-disabled', !msg[key]);\n",
       "    }\n",
       "};\n",
       "\n",
       "mpl.figure.prototype.handle_navigate_mode = function (fig, msg) {\n",
       "    if (msg['mode'] === 'PAN') {\n",
       "        fig.buttons['Pan'].classList.add('active');\n",
       "        fig.buttons['Zoom'].classList.remove('active');\n",
       "    } else if (msg['mode'] === 'ZOOM') {\n",
       "        fig.buttons['Pan'].classList.remove('active');\n",
       "        fig.buttons['Zoom'].classList.add('active');\n",
       "    } else {\n",
       "        fig.buttons['Pan'].classList.remove('active');\n",
       "        fig.buttons['Zoom'].classList.remove('active');\n",
       "    }\n",
       "};\n",
       "\n",
       "mpl.figure.prototype.updated_canvas_event = function () {\n",
       "    // Called whenever the canvas gets updated.\n",
       "    this.send_message('ack', {});\n",
       "};\n",
       "\n",
       "// A function to construct a web socket function for onmessage handling.\n",
       "// Called in the figure constructor.\n",
       "mpl.figure.prototype._make_on_message_function = function (fig) {\n",
       "    return function socket_on_message(evt) {\n",
       "        if (evt.data instanceof Blob) {\n",
       "            var img = evt.data;\n",
       "            if (img.type !== 'image/png') {\n",
       "                /* FIXME: We get \"Resource interpreted as Image but\n",
       "                 * transferred with MIME type text/plain:\" errors on\n",
       "                 * Chrome.  But how to set the MIME type?  It doesn't seem\n",
       "                 * to be part of the websocket stream */\n",
       "                img.type = 'image/png';\n",
       "            }\n",
       "\n",
       "            /* Free the memory for the previous frames */\n",
       "            if (fig.imageObj.src) {\n",
       "                (window.URL || window.webkitURL).revokeObjectURL(\n",
       "                    fig.imageObj.src\n",
       "                );\n",
       "            }\n",
       "\n",
       "            fig.imageObj.src = (window.URL || window.webkitURL).createObjectURL(\n",
       "                img\n",
       "            );\n",
       "            fig.updated_canvas_event();\n",
       "            fig.waiting = false;\n",
       "            return;\n",
       "        } else if (\n",
       "            typeof evt.data === 'string' &&\n",
       "            evt.data.slice(0, 21) === 'data:image/png;base64'\n",
       "        ) {\n",
       "            fig.imageObj.src = evt.data;\n",
       "            fig.updated_canvas_event();\n",
       "            fig.waiting = false;\n",
       "            return;\n",
       "        }\n",
       "\n",
       "        var msg = JSON.parse(evt.data);\n",
       "        var msg_type = msg['type'];\n",
       "\n",
       "        // Call the  \"handle_{type}\" callback, which takes\n",
       "        // the figure and JSON message as its only arguments.\n",
       "        try {\n",
       "            var callback = fig['handle_' + msg_type];\n",
       "        } catch (e) {\n",
       "            console.log(\n",
       "                \"No handler for the '\" + msg_type + \"' message type: \",\n",
       "                msg\n",
       "            );\n",
       "            return;\n",
       "        }\n",
       "\n",
       "        if (callback) {\n",
       "            try {\n",
       "                // console.log(\"Handling '\" + msg_type + \"' message: \", msg);\n",
       "                callback(fig, msg);\n",
       "            } catch (e) {\n",
       "                console.log(\n",
       "                    \"Exception inside the 'handler_\" + msg_type + \"' callback:\",\n",
       "                    e,\n",
       "                    e.stack,\n",
       "                    msg\n",
       "                );\n",
       "            }\n",
       "        }\n",
       "    };\n",
       "};\n",
       "\n",
       "// from https://stackoverflow.com/questions/1114465/getting-mouse-location-in-canvas\n",
       "mpl.findpos = function (e) {\n",
       "    //this section is from http://www.quirksmode.org/js/events_properties.html\n",
       "    var targ;\n",
       "    if (!e) {\n",
       "        e = window.event;\n",
       "    }\n",
       "    if (e.target) {\n",
       "        targ = e.target;\n",
       "    } else if (e.srcElement) {\n",
       "        targ = e.srcElement;\n",
       "    }\n",
       "    if (targ.nodeType === 3) {\n",
       "        // defeat Safari bug\n",
       "        targ = targ.parentNode;\n",
       "    }\n",
       "\n",
       "    // pageX,Y are the mouse positions relative to the document\n",
       "    var boundingRect = targ.getBoundingClientRect();\n",
       "    var x = e.pageX - (boundingRect.left + document.body.scrollLeft);\n",
       "    var y = e.pageY - (boundingRect.top + document.body.scrollTop);\n",
       "\n",
       "    return { x: x, y: y };\n",
       "};\n",
       "\n",
       "/*\n",
       " * return a copy of an object with only non-object keys\n",
       " * we need this to avoid circular references\n",
       " * https://stackoverflow.com/a/24161582/3208463\n",
       " */\n",
       "function simpleKeys(original) {\n",
       "    return Object.keys(original).reduce(function (obj, key) {\n",
       "        if (typeof original[key] !== 'object') {\n",
       "            obj[key] = original[key];\n",
       "        }\n",
       "        return obj;\n",
       "    }, {});\n",
       "}\n",
       "\n",
       "mpl.figure.prototype.mouse_event = function (event, name) {\n",
       "    var canvas_pos = mpl.findpos(event);\n",
       "\n",
       "    if (name === 'button_press') {\n",
       "        this.canvas.focus();\n",
       "        this.canvas_div.focus();\n",
       "    }\n",
       "\n",
       "    var x = canvas_pos.x * this.ratio;\n",
       "    var y = canvas_pos.y * this.ratio;\n",
       "\n",
       "    this.send_message(name, {\n",
       "        x: x,\n",
       "        y: y,\n",
       "        button: event.button,\n",
       "        step: event.step,\n",
       "        guiEvent: simpleKeys(event),\n",
       "    });\n",
       "\n",
       "    /* This prevents the web browser from automatically changing to\n",
       "     * the text insertion cursor when the button is pressed.  We want\n",
       "     * to control all of the cursor setting manually through the\n",
       "     * 'cursor' event from matplotlib */\n",
       "    event.preventDefault();\n",
       "    return false;\n",
       "};\n",
       "\n",
       "mpl.figure.prototype._key_event_extra = function (_event, _name) {\n",
       "    // Handle any extra behaviour associated with a key event\n",
       "};\n",
       "\n",
       "mpl.figure.prototype.key_event = function (event, name) {\n",
       "    // Prevent repeat events\n",
       "    if (name === 'key_press') {\n",
       "        if (event.key === this._key) {\n",
       "            return;\n",
       "        } else {\n",
       "            this._key = event.key;\n",
       "        }\n",
       "    }\n",
       "    if (name === 'key_release') {\n",
       "        this._key = null;\n",
       "    }\n",
       "\n",
       "    var value = '';\n",
       "    if (event.ctrlKey && event.key !== 'Control') {\n",
       "        value += 'ctrl+';\n",
       "    }\n",
       "    else if (event.altKey && event.key !== 'Alt') {\n",
       "        value += 'alt+';\n",
       "    }\n",
       "    else if (event.shiftKey && event.key !== 'Shift') {\n",
       "        value += 'shift+';\n",
       "    }\n",
       "\n",
       "    value += 'k' + event.key;\n",
       "\n",
       "    this._key_event_extra(event, name);\n",
       "\n",
       "    this.send_message(name, { key: value, guiEvent: simpleKeys(event) });\n",
       "    return false;\n",
       "};\n",
       "\n",
       "mpl.figure.prototype.toolbar_button_onclick = function (name) {\n",
       "    if (name === 'download') {\n",
       "        this.handle_save(this, null);\n",
       "    } else {\n",
       "        this.send_message('toolbar_button', { name: name });\n",
       "    }\n",
       "};\n",
       "\n",
       "mpl.figure.prototype.toolbar_button_onmouseover = function (tooltip) {\n",
       "    this.message.textContent = tooltip;\n",
       "};\n",
       "\n",
       "///////////////// REMAINING CONTENT GENERATED BY embed_js.py /////////////////\n",
       "// prettier-ignore\n",
       "var _JSXTOOLS_RESIZE_OBSERVER=function(A){var t,i=new WeakMap,n=new WeakMap,a=new WeakMap,r=new WeakMap,o=new Set;function s(e){if(!(this instanceof s))throw new TypeError(\"Constructor requires 'new' operator\");i.set(this,e)}function h(){throw new TypeError(\"Function is not a constructor\")}function c(e,t,i,n){e=0 in arguments?Number(arguments[0]):0,t=1 in arguments?Number(arguments[1]):0,i=2 in arguments?Number(arguments[2]):0,n=3 in arguments?Number(arguments[3]):0,this.right=(this.x=this.left=e)+(this.width=i),this.bottom=(this.y=this.top=t)+(this.height=n),Object.freeze(this)}function d(){t=requestAnimationFrame(d);var s=new WeakMap,p=new Set;o.forEach((function(t){r.get(t).forEach((function(i){var r=t instanceof window.SVGElement,o=a.get(t),d=r?0:parseFloat(o.paddingTop),f=r?0:parseFloat(o.paddingRight),l=r?0:parseFloat(o.paddingBottom),u=r?0:parseFloat(o.paddingLeft),g=r?0:parseFloat(o.borderTopWidth),m=r?0:parseFloat(o.borderRightWidth),w=r?0:parseFloat(o.borderBottomWidth),b=u+f,F=d+l,v=(r?0:parseFloat(o.borderLeftWidth))+m,W=g+w,y=r?0:t.offsetHeight-W-t.clientHeight,E=r?0:t.offsetWidth-v-t.clientWidth,R=b+v,z=F+W,M=r?t.width:parseFloat(o.width)-R-E,O=r?t.height:parseFloat(o.height)-z-y;if(n.has(t)){var k=n.get(t);if(k[0]===M&&k[1]===O)return}n.set(t,[M,O]);var S=Object.create(h.prototype);S.target=t,S.contentRect=new c(u,d,M,O),s.has(i)||(s.set(i,[]),p.add(i)),s.get(i).push(S)}))})),p.forEach((function(e){i.get(e).call(e,s.get(e),e)}))}return s.prototype.observe=function(i){if(i instanceof window.Element){r.has(i)||(r.set(i,new Set),o.add(i),a.set(i,window.getComputedStyle(i)));var n=r.get(i);n.has(this)||n.add(this),cancelAnimationFrame(t),t=requestAnimationFrame(d)}},s.prototype.unobserve=function(i){if(i instanceof window.Element&&r.has(i)){var n=r.get(i);n.has(this)&&(n.delete(this),n.size||(r.delete(i),o.delete(i))),n.size||r.delete(i),o.size||cancelAnimationFrame(t)}},A.DOMRectReadOnly=c,A.ResizeObserver=s,A.ResizeObserverEntry=h,A}; // eslint-disable-line\n",
       "mpl.toolbar_items = [[\"Home\", \"Reset original view\", \"fa fa-home icon-home\", \"home\"], [\"Back\", \"Back to previous view\", \"fa fa-arrow-left icon-arrow-left\", \"back\"], [\"Forward\", \"Forward to next view\", \"fa fa-arrow-right icon-arrow-right\", \"forward\"], [\"\", \"\", \"\", \"\"], [\"Pan\", \"Left button pans, Right button zooms\\nx/y fixes axis, CTRL fixes aspect\", \"fa fa-arrows icon-move\", \"pan\"], [\"Zoom\", \"Zoom to rectangle\\nx/y fixes axis\", \"fa fa-square-o icon-check-empty\", \"zoom\"], [\"\", \"\", \"\", \"\"], [\"Download\", \"Download plot\", \"fa fa-floppy-o icon-save\", \"download\"]];\n",
       "\n",
       "mpl.extensions = [\"eps\", \"jpeg\", \"pgf\", \"pdf\", \"png\", \"ps\", \"raw\", \"svg\", \"tif\"];\n",
       "\n",
       "mpl.default_extension = \"png\";/* global mpl */\n",
       "\n",
       "var comm_websocket_adapter = function (comm) {\n",
       "    // Create a \"websocket\"-like object which calls the given IPython comm\n",
       "    // object with the appropriate methods. Currently this is a non binary\n",
       "    // socket, so there is still some room for performance tuning.\n",
       "    var ws = {};\n",
       "\n",
       "    ws.binaryType = comm.kernel.ws.binaryType;\n",
       "    ws.readyState = comm.kernel.ws.readyState;\n",
       "    function updateReadyState(_event) {\n",
       "        if (comm.kernel.ws) {\n",
       "            ws.readyState = comm.kernel.ws.readyState;\n",
       "        } else {\n",
       "            ws.readyState = 3; // Closed state.\n",
       "        }\n",
       "    }\n",
       "    comm.kernel.ws.addEventListener('open', updateReadyState);\n",
       "    comm.kernel.ws.addEventListener('close', updateReadyState);\n",
       "    comm.kernel.ws.addEventListener('error', updateReadyState);\n",
       "\n",
       "    ws.close = function () {\n",
       "        comm.close();\n",
       "    };\n",
       "    ws.send = function (m) {\n",
       "        //console.log('sending', m);\n",
       "        comm.send(m);\n",
       "    };\n",
       "    // Register the callback with on_msg.\n",
       "    comm.on_msg(function (msg) {\n",
       "        //console.log('receiving', msg['content']['data'], msg);\n",
       "        var data = msg['content']['data'];\n",
       "        if (data['blob'] !== undefined) {\n",
       "            data = {\n",
       "                data: new Blob(msg['buffers'], { type: data['blob'] }),\n",
       "            };\n",
       "        }\n",
       "        // Pass the mpl event to the overridden (by mpl) onmessage function.\n",
       "        ws.onmessage(data);\n",
       "    });\n",
       "    return ws;\n",
       "};\n",
       "\n",
       "mpl.mpl_figure_comm = function (comm, msg) {\n",
       "    // This is the function which gets called when the mpl process\n",
       "    // starts-up an IPython Comm through the \"matplotlib\" channel.\n",
       "\n",
       "    var id = msg.content.data.id;\n",
       "    // Get hold of the div created by the display call when the Comm\n",
       "    // socket was opened in Python.\n",
       "    var element = document.getElementById(id);\n",
       "    var ws_proxy = comm_websocket_adapter(comm);\n",
       "\n",
       "    function ondownload(figure, _format) {\n",
       "        window.open(figure.canvas.toDataURL());\n",
       "    }\n",
       "\n",
       "    var fig = new mpl.figure(id, ws_proxy, ondownload, element);\n",
       "\n",
       "    // Call onopen now - mpl needs it, as it is assuming we've passed it a real\n",
       "    // web socket which is closed, not our websocket->open comm proxy.\n",
       "    ws_proxy.onopen();\n",
       "\n",
       "    fig.parent_element = element;\n",
       "    fig.cell_info = mpl.find_output_cell(\"<div id='\" + id + \"'></div>\");\n",
       "    if (!fig.cell_info) {\n",
       "        console.error('Failed to find cell for figure', id, fig);\n",
       "        return;\n",
       "    }\n",
       "    fig.cell_info[0].output_area.element.on(\n",
       "        'cleared',\n",
       "        { fig: fig },\n",
       "        fig._remove_fig_handler\n",
       "    );\n",
       "};\n",
       "\n",
       "mpl.figure.prototype.handle_close = function (fig, msg) {\n",
       "    var width = fig.canvas.width / fig.ratio;\n",
       "    fig.cell_info[0].output_area.element.off(\n",
       "        'cleared',\n",
       "        fig._remove_fig_handler\n",
       "    );\n",
       "    fig.resizeObserverInstance.unobserve(fig.canvas_div);\n",
       "\n",
       "    // Update the output cell to use the data from the current canvas.\n",
       "    fig.push_to_output();\n",
       "    var dataURL = fig.canvas.toDataURL();\n",
       "    // Re-enable the keyboard manager in IPython - without this line, in FF,\n",
       "    // the notebook keyboard shortcuts fail.\n",
       "    IPython.keyboard_manager.enable();\n",
       "    fig.parent_element.innerHTML =\n",
       "        '<img src=\"' + dataURL + '\" width=\"' + width + '\">';\n",
       "    fig.close_ws(fig, msg);\n",
       "};\n",
       "\n",
       "mpl.figure.prototype.close_ws = function (fig, msg) {\n",
       "    fig.send_message('closing', msg);\n",
       "    // fig.ws.close()\n",
       "};\n",
       "\n",
       "mpl.figure.prototype.push_to_output = function (_remove_interactive) {\n",
       "    // Turn the data on the canvas into data in the output cell.\n",
       "    var width = this.canvas.width / this.ratio;\n",
       "    var dataURL = this.canvas.toDataURL();\n",
       "    this.cell_info[1]['text/html'] =\n",
       "        '<img src=\"' + dataURL + '\" width=\"' + width + '\">';\n",
       "};\n",
       "\n",
       "mpl.figure.prototype.updated_canvas_event = function () {\n",
       "    // Tell IPython that the notebook contents must change.\n",
       "    IPython.notebook.set_dirty(true);\n",
       "    this.send_message('ack', {});\n",
       "    var fig = this;\n",
       "    // Wait a second, then push the new image to the DOM so\n",
       "    // that it is saved nicely (might be nice to debounce this).\n",
       "    setTimeout(function () {\n",
       "        fig.push_to_output();\n",
       "    }, 1000);\n",
       "};\n",
       "\n",
       "mpl.figure.prototype._init_toolbar = function () {\n",
       "    var fig = this;\n",
       "\n",
       "    var toolbar = document.createElement('div');\n",
       "    toolbar.classList = 'btn-toolbar';\n",
       "    this.root.appendChild(toolbar);\n",
       "\n",
       "    function on_click_closure(name) {\n",
       "        return function (_event) {\n",
       "            return fig.toolbar_button_onclick(name);\n",
       "        };\n",
       "    }\n",
       "\n",
       "    function on_mouseover_closure(tooltip) {\n",
       "        return function (event) {\n",
       "            if (!event.currentTarget.disabled) {\n",
       "                return fig.toolbar_button_onmouseover(tooltip);\n",
       "            }\n",
       "        };\n",
       "    }\n",
       "\n",
       "    fig.buttons = {};\n",
       "    var buttonGroup = document.createElement('div');\n",
       "    buttonGroup.classList = 'btn-group';\n",
       "    var button;\n",
       "    for (var toolbar_ind in mpl.toolbar_items) {\n",
       "        var name = mpl.toolbar_items[toolbar_ind][0];\n",
       "        var tooltip = mpl.toolbar_items[toolbar_ind][1];\n",
       "        var image = mpl.toolbar_items[toolbar_ind][2];\n",
       "        var method_name = mpl.toolbar_items[toolbar_ind][3];\n",
       "\n",
       "        if (!name) {\n",
       "            /* Instead of a spacer, we start a new button group. */\n",
       "            if (buttonGroup.hasChildNodes()) {\n",
       "                toolbar.appendChild(buttonGroup);\n",
       "            }\n",
       "            buttonGroup = document.createElement('div');\n",
       "            buttonGroup.classList = 'btn-group';\n",
       "            continue;\n",
       "        }\n",
       "\n",
       "        button = fig.buttons[name] = document.createElement('button');\n",
       "        button.classList = 'btn btn-default';\n",
       "        button.href = '#';\n",
       "        button.title = name;\n",
       "        button.innerHTML = '<i class=\"fa ' + image + ' fa-lg\"></i>';\n",
       "        button.addEventListener('click', on_click_closure(method_name));\n",
       "        button.addEventListener('mouseover', on_mouseover_closure(tooltip));\n",
       "        buttonGroup.appendChild(button);\n",
       "    }\n",
       "\n",
       "    if (buttonGroup.hasChildNodes()) {\n",
       "        toolbar.appendChild(buttonGroup);\n",
       "    }\n",
       "\n",
       "    // Add the status bar.\n",
       "    var status_bar = document.createElement('span');\n",
       "    status_bar.classList = 'mpl-message pull-right';\n",
       "    toolbar.appendChild(status_bar);\n",
       "    this.message = status_bar;\n",
       "\n",
       "    // Add the close button to the window.\n",
       "    var buttongrp = document.createElement('div');\n",
       "    buttongrp.classList = 'btn-group inline pull-right';\n",
       "    button = document.createElement('button');\n",
       "    button.classList = 'btn btn-mini btn-primary';\n",
       "    button.href = '#';\n",
       "    button.title = 'Stop Interaction';\n",
       "    button.innerHTML = '<i class=\"fa fa-power-off icon-remove icon-large\"></i>';\n",
       "    button.addEventListener('click', function (_evt) {\n",
       "        fig.handle_close(fig, {});\n",
       "    });\n",
       "    button.addEventListener(\n",
       "        'mouseover',\n",
       "        on_mouseover_closure('Stop Interaction')\n",
       "    );\n",
       "    buttongrp.appendChild(button);\n",
       "    var titlebar = this.root.querySelector('.ui-dialog-titlebar');\n",
       "    titlebar.insertBefore(buttongrp, titlebar.firstChild);\n",
       "};\n",
       "\n",
       "mpl.figure.prototype._remove_fig_handler = function (event) {\n",
       "    var fig = event.data.fig;\n",
       "    if (event.target !== this) {\n",
       "        // Ignore bubbled events from children.\n",
       "        return;\n",
       "    }\n",
       "    fig.close_ws(fig, {});\n",
       "};\n",
       "\n",
       "mpl.figure.prototype._root_extra_style = function (el) {\n",
       "    el.style.boxSizing = 'content-box'; // override notebook setting of border-box.\n",
       "};\n",
       "\n",
       "mpl.figure.prototype._canvas_extra_style = function (el) {\n",
       "    // this is important to make the div 'focusable\n",
       "    el.setAttribute('tabindex', 0);\n",
       "    // reach out to IPython and tell the keyboard manager to turn it's self\n",
       "    // off when our div gets focus\n",
       "\n",
       "    // location in version 3\n",
       "    if (IPython.notebook.keyboard_manager) {\n",
       "        IPython.notebook.keyboard_manager.register_events(el);\n",
       "    } else {\n",
       "        // location in version 2\n",
       "        IPython.keyboard_manager.register_events(el);\n",
       "    }\n",
       "};\n",
       "\n",
       "mpl.figure.prototype._key_event_extra = function (event, _name) {\n",
       "    // Check for shift+enter\n",
       "    if (event.shiftKey && event.which === 13) {\n",
       "        this.canvas_div.blur();\n",
       "        // select the cell after this one\n",
       "        var index = IPython.notebook.find_cell_index(this.cell_info[0]);\n",
       "        IPython.notebook.select(index + 1);\n",
       "    }\n",
       "};\n",
       "\n",
       "mpl.figure.prototype.handle_save = function (fig, _msg) {\n",
       "    fig.ondownload(fig, null);\n",
       "};\n",
       "\n",
       "mpl.find_output_cell = function (html_output) {\n",
       "    // Return the cell and output element which can be found *uniquely* in the notebook.\n",
       "    // Note - this is a bit hacky, but it is done because the \"notebook_saving.Notebook\"\n",
       "    // IPython event is triggered only after the cells have been serialised, which for\n",
       "    // our purposes (turning an active figure into a static one), is too late.\n",
       "    var cells = IPython.notebook.get_cells();\n",
       "    var ncells = cells.length;\n",
       "    for (var i = 0; i < ncells; i++) {\n",
       "        var cell = cells[i];\n",
       "        if (cell.cell_type === 'code') {\n",
       "            for (var j = 0; j < cell.output_area.outputs.length; j++) {\n",
       "                var data = cell.output_area.outputs[j];\n",
       "                if (data.data) {\n",
       "                    // IPython >= 3 moved mimebundle to data attribute of output\n",
       "                    data = data.data;\n",
       "                }\n",
       "                if (data['text/html'] === html_output) {\n",
       "                    return [cell, data, j];\n",
       "                }\n",
       "            }\n",
       "        }\n",
       "    }\n",
       "};\n",
       "\n",
       "// Register the function which deals with the matplotlib target/channel.\n",
       "// The kernel may be null if the page has been refreshed.\n",
       "if (IPython.notebook.kernel !== null) {\n",
       "    IPython.notebook.kernel.comm_manager.register_target(\n",
       "        'matplotlib',\n",
       "        mpl.mpl_figure_comm\n",
       "    );\n",
       "}\n"
      ],
      "text/plain": [
       "<IPython.core.display.Javascript object>"
      ]
     },
     "metadata": {},
     "output_type": "display_data"
    },
    {
     "data": {
      "text/html": [
       "<img src=\"data:image/png;base64,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\" width=\"1000\">"
      ],
      "text/plain": [
       "<IPython.core.display.HTML object>"
      ]
     },
     "metadata": {},
     "output_type": "display_data"
    },
    {
     "data": {
      "text/plain": [
       "[<matplotlib.lines.Line2D at 0x7f83dc5b5040>]"
      ]
     },
     "execution_count": 109,
     "metadata": {},
     "output_type": "execute_result"
    }
   ],
   "source": [
    "plt.plot(xdos, ldos[700])"
   ]
  },
  {
   "cell_type": "code",
   "execution_count": null,
   "id": "4b33a67e",
   "metadata": {},
   "outputs": [],
   "source": []
  }
 ],
 "metadata": {
  "kernelspec": {
   "display_name": "Python 3 (ipykernel)",
   "language": "python",
   "name": "python3"
  },
  "language_info": {
   "codemirror_mode": {
    "name": "ipython",
    "version": 3
   },
   "file_extension": ".py",
   "mimetype": "text/x-python",
   "name": "python",
   "nbconvert_exporter": "python",
   "pygments_lexer": "ipython3",
   "version": "3.9.12"
  },
  "toc": {
   "base_numbering": 1,
   "nav_menu": {},
   "number_sections": true,
   "sideBar": true,
   "skip_h1_title": false,
   "title_cell": "Table of Contents",
   "title_sidebar": "Contents",
   "toc_cell": false,
   "toc_position": {
    "height": "calc(100% - 180px)",
    "left": "10px",
    "top": "150px",
    "width": "165px"
   },
   "toc_section_display": true,
   "toc_window_display": true
  }
 },
 "nbformat": 4,
 "nbformat_minor": 5
}
