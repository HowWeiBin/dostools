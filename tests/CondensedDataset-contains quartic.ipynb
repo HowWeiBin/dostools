{
 "cells": [
  {
   "cell_type": "markdown",
   "id": "84565b74",
   "metadata": {
    "hide_input": false
   },
   "source": [
    "## Imports"
   ]
  },
  {
   "cell_type": "code",
   "execution_count": 1,
   "id": "dfdaeca7",
   "metadata": {
    "ExecuteTime": {
<<<<<<< HEAD
     "end_time": "2023-04-17T14:01:04.396748Z",
     "start_time": "2023-04-17T14:01:00.662630Z"
=======
     "end_time": "2023-03-28T18:26:50.458053Z",
     "start_time": "2023-03-28T18:26:38.018501Z"
>>>>>>> d22a6c4f71ffcfe88e87f8f7402568f1c6e91048
    }
   },
   "outputs": [],
   "source": [
    "import dostools\n",
    "import importlib\n",
    "import numpy as np\n",
    "import pickle\n",
    "import torch\n",
    "import sys\n",
    "import matplotlib.pyplot as plt\n",
    "import copy\n",
    "from tqdm import tqdm\n",
    "import matplotlib\n",
    "import time\n",
    "torch.set_default_dtype(torch.float64) \n"
   ]
  },
  {
   "cell_type": "code",
   "execution_count": 2,
   "id": "7ccbf26d",
   "metadata": {
    "ExecuteTime": {
<<<<<<< HEAD
     "end_time": "2023-04-17T14:01:11.286589Z",
     "start_time": "2023-04-17T14:01:04.399396Z"
=======
     "end_time": "2023-03-28T18:27:03.872726Z",
     "start_time": "2023-03-28T18:26:50.460355Z"
>>>>>>> d22a6c4f71ffcfe88e87f8f7402568f1c6e91048
    }
   },
   "outputs": [
    {
     "name": "stdout",
     "output_type": "stream",
     "text": [
      "ldos shape is torch.Size([1039, 778])\n",
      "mean dos shape is torch.Size([778])\n",
      "Variance covered with 10 PCs is = 0.9871211778950163\n"
     ]
    }
   ],
   "source": [
    "import dostools.datasets.data as data\n",
    "import dostools.utils.utils as utils\n",
    "\n",
    "n_structures = 1039\n",
    "np.random.seed(0)\n",
    "n_train = int(0.8 * n_structures)\n",
    "train_index = np.arange(n_structures)\n",
    "np.random.shuffle(train_index)\n",
    "test_index = train_index[n_train:]\n",
    "train_index = train_index[:n_train]\n",
    "\n",
    "with torch.no_grad():\n",
    "    structures = data.load_structures(\":\")\n",
    "    n_structures = len(structures) #total number of structures\n",
    "    for structure in structures:#implement periodicity\n",
    "        structure.wrap(eps = 1e-12) \n",
    "    n_atoms = np.zeros(n_structures, dtype = int) #stores number of atoms in each structures\n",
    "    for i in range(n_structures):\n",
    "        n_atoms[i] = len(structures[i])\n",
    "\n",
    "    #eigenergies, emin, emax = dostools.src.datasets.data.load_eigenenergies(unpack = True, n_structures = len(structures))\n",
    "    xdos = torch.tensor(data.load_xdos())\n",
    "    ldos = torch.tensor(data.load_ldos())\n",
    "    ldos *= 2\n",
    "\n",
    "    print (\"ldos shape is {}\".format(ldos.shape))\n",
    "    mean_dos_per_atom = ldos[train_index].mean(axis = 0) #only calculated for train set to prevent data leakage\n",
    "    print (\"mean dos shape is {}\".format(mean_dos_per_atom.shape))\n",
    "    \n",
    "    \n",
    "    y_pw = ldos - mean_dos_per_atom\n",
    "    y_lcdf = torch.cumsum(y_pw, dim = 1)\n",
    "    _, pc_vectors = utils.build_pc(ldos[train_index], mean_dos_per_atom[None,:], n_pc = 10)\n",
    "    y_pc = utils.build_coeffs(ldos - mean_dos_per_atom[None,:], pc_vectors)\n",
    "    Silicon = data.load_features()\n",
    "    kMM = data.load_kMM()"
   ]
  },
  {
   "cell_type": "code",
   "execution_count": 3,
   "id": "381681ad",
   "metadata": {
    "ExecuteTime": {
<<<<<<< HEAD
     "end_time": "2023-04-17T14:01:22.602853Z",
     "start_time": "2023-04-17T14:01:11.289470Z"
=======
     "end_time": "2023-03-28T18:27:11.743294Z",
     "start_time": "2023-03-28T18:27:03.875100Z"
>>>>>>> d22a6c4f71ffcfe88e87f8f7402568f1c6e91048
    }
   },
   "outputs": [
    {
     "name": "stdout",
     "output_type": "stream",
     "text": [
      "This file contains the eigenenergies and their corresponding kpoints of the training Silicon structures generated using DFT PBE as implemented in FHI-AIMS version 171221_1 with the ``tight'' settings\n"
     ]
    }
   ],
   "source": [
    "importlib.reload(data)\n",
    "eigen_energies, emin, emax = data.load_eigenenergies(unpack = True, n_structures = n_structures)"
   ]
  },
  {
   "cell_type": "markdown",
   "id": "3a7c7af2",
   "metadata": {},
   "source": [
    "## Generate NN Data"
   ]
  },
  {
   "cell_type": "code",
   "execution_count": 4,
   "id": "cccb6b75",
   "metadata": {
    "ExecuteTime": {
<<<<<<< HEAD
     "end_time": "2023-04-17T14:01:22.940209Z",
     "start_time": "2023-04-17T14:01:22.607261Z"
=======
     "end_time": "2023-03-28T18:27:11.904116Z",
     "start_time": "2023-03-28T18:27:11.745504Z"
>>>>>>> d22a6c4f71ffcfe88e87f8f7402568f1c6e91048
    }
   },
   "outputs": [],
   "source": [
    "sigma = 0.3\n",
    "dx = 0.05\n",
    "\n",
    "full_eigen_energies = [torch.tensor(i.flatten()) for i in eigen_energies]\n",
    "eigenenergy_length = [len(i) for i in full_eigen_energies]\n",
    "eigenenergy_length_t = torch.tensor(eigenenergy_length)\n",
    "normalization_eiglength = [len(i) for i in eigen_energies]\n",
    "normalization_eiglength_t = torch.tensor(normalization_eiglength)\n",
    "normalization = 1/torch.sqrt(2*torch.tensor(np.pi)*sigma**2)/n_atoms/normalization_eiglength_t\n",
    "normalization_quartic = 1/n_atoms/normalization_eiglength_t\n"
   ]
  },
  {
   "cell_type": "code",
<<<<<<< HEAD
   "execution_count": 6,
   "id": "cfe0c159",
   "metadata": {
    "ExecuteTime": {
     "end_time": "2023-04-17T14:01:34.759265Z",
     "start_time": "2023-04-17T14:01:34.755043Z"
    }
   },
   "outputs": [
    {
     "data": {
      "text/plain": [
       "array([ 2,  2,  2, ..., 64, 64, 64])"
      ]
     },
     "execution_count": 6,
     "metadata": {},
     "output_type": "execute_result"
    }
   ],
   "source": [
    "n_atoms"
   ]
  },
  {
   "cell_type": "code",
   "execution_count": 7,
   "id": "8d81f313",
   "metadata": {
    "ExecuteTime": {
     "end_time": "2023-04-17T14:01:40.377874Z",
     "start_time": "2023-04-17T14:01:40.372296Z"
    }
   },
   "outputs": [
    {
     "data": {
      "text/plain": [
       "tensor([4.8098e-06, 4.8098e-06, 4.8098e-06,  ..., 3.2466e-05, 3.2466e-05,\n",
       "        3.2466e-05])"
      ]
     },
     "execution_count": 7,
     "metadata": {},
     "output_type": "execute_result"
    }
   ],
   "source": [
    "normalization/80"
   ]
  },
  {
   "cell_type": "markdown",
   "id": "991a344e",
=======
   "execution_count": null,
   "id": "8d81f313",
   "metadata": {},
   "outputs": [],
   "source": []
  },
  {
   "cell_type": "code",
   "execution_count": 5,
   "id": "6ff48068",
>>>>>>> d22a6c4f71ffcfe88e87f8f7402568f1c6e91048
   "metadata": {
    "ExecuteTime": {
     "end_time": "2023-03-28T18:27:11.965523Z",
     "start_time": "2023-03-28T18:27:11.910360Z"
    }
   },
<<<<<<< HEAD
=======
   "outputs": [],
>>>>>>> d22a6c4f71ffcfe88e87f8f7402568f1c6e91048
   "source": [
    "#Determine right_bound as highest eigenenergy\n",
    "def determine_rightbounds(eigen_energies):\n",
    "    right_bounds = []\n",
    "    for energies in (eigen_energies):\n",
    "        right_bound = torch.max(energies)\n",
    "        right_bounds.append(right_bound)\n",
    "    right_bounds = torch.vstack(right_bounds)\n",
    "    return right_bounds\n",
    "\n",
    "\n",
    "rbounds = determine_rightbounds(full_eigen_energies)\n",
    "\n",
    "def determine_leftbounds(eigen_energies):\n",
    "    left_bounds = []\n",
    "    for energies in (eigen_energies):\n",
    "        left_bound = torch.min(energies)\n",
    "        left_bounds.append(left_bound)\n",
    "    left_bounds = torch.vstack(left_bounds)\n",
    "    return left_bounds\n",
    "lbounds = determine_leftbounds(full_eigen_energies)\n"
   ]
  },
  {
   "cell_type": "code",
   "execution_count": 6,
   "id": "a6c5f365",
   "metadata": {
    "ExecuteTime": {
     "end_time": "2023-03-28T18:27:11.974036Z",
     "start_time": "2023-03-28T18:27:11.970672Z"
    }
   },
   "outputs": [],
   "source": [
    "# Determine Fermi level with respect to upper bound\n",
    "# Get core level references"
   ]
  },
  {
   "cell_type": "code",
   "execution_count": 7,
   "id": "5d6187a7",
   "metadata": {
    "ExecuteTime": {
     "end_time": "2023-03-28T18:27:14.814703Z",
     "start_time": "2023-03-28T18:27:11.976810Z"
    }
   },
   "outputs": [],
   "source": [
    "# Fermi level\n",
    "import ase\n",
    "\n",
    "T_0 = 200\n",
    "beta_0 = 1 / (ase.units.kB * T_0) # inverse temperature\n",
    "efermi = np.zeros(n_structures)\n",
    "for i in range(n_structures):\n",
    "    efermi[i] = utils.getmu(ldos[i], beta_0, xdos, n=4)"
   ]
  },
  {
   "cell_type": "code",
   "execution_count": 8,
   "id": "39bbc8ad",
   "metadata": {
    "ExecuteTime": {
     "end_time": "2023-03-28T18:27:14.822646Z",
     "start_time": "2023-03-28T18:27:14.816837Z"
    }
   },
   "outputs": [
    {
     "data": {
      "text/plain": [
       "-4.375835372334838e+00"
      ]
     },
     "execution_count": 8,
     "metadata": {},
     "output_type": "execute_result"
    }
   ],
   "source": [
    "max(efermi)"
   ]
  },
  {
   "cell_type": "code",
   "execution_count": 9,
   "id": "ea38b737",
   "metadata": {
    "ExecuteTime": {
     "end_time": "2023-03-28T18:27:26.538479Z",
     "start_time": "2023-03-28T18:27:14.823931Z"
    }
   },
   "outputs": [
    {
     "name": "stderr",
     "output_type": "stream",
     "text": [
      "100%|██████████████████████████████████████████████████████████████████████████████████████████████████████████████████████████████████████████████████████████████████████████| 1039/1039 [00:11<00:00, 89.28it/s]\n"
     ]
    }
   ],
   "source": [
    "##Generate individual xdos, ldos\n",
    "n_xdos = []\n",
    "n_ldos = []\n",
    "\n",
    "sigma = torch.tensor(0.3)\n",
    "ndos = 200\n",
    "\n",
    "emin = -24.5537\n",
    "emax = 11.3464\n",
    "\n",
    "for i in tqdm(range(n_structures)):\n",
    "    x_dos = torch.linspace(lbounds[i].item() - 1.5, rbounds[i].item()- (10 * sigma),ndos)\n",
    "    l_dos = torch.sum(torch.exp(-0.5*((x_dos - full_eigen_energies[i].view(-1,1))/sigma)**2), dim = 0)\n",
    "    n_xdos.append(x_dos)\n",
    "    n_ldos.append(l_dos)\n",
    "    \n",
    "n_xdos = torch.vstack(n_xdos)\n",
    "n_ldos = torch.vstack(n_ldos)\n",
    "n_ldos = ((n_ldos.T * normalization ).T)* 2"
   ]
  },
  {
   "cell_type": "code",
   "execution_count": 10,
   "id": "d73b7589",
   "metadata": {
    "ExecuteTime": {
     "end_time": "2023-03-28T18:27:26.913878Z",
     "start_time": "2023-03-28T18:27:26.541680Z"
    }
   },
   "outputs": [
    {
     "data": {
      "text/plain": [
       "<matplotlib.collections.PathCollection at 0x7f0be26d3610>"
      ]
     },
     "execution_count": 10,
     "metadata": {},
     "output_type": "execute_result"
    },
    {
     "data": {
      "image/png": "iVBORw0KGgoAAAANSUhEUgAAAlMAAAI/CAYAAABTd1zJAAAAOXRFWHRTb2Z0d2FyZQBNYXRwbG90bGliIHZlcnNpb24zLjUuMSwgaHR0cHM6Ly9tYXRwbG90bGliLm9yZy/YYfK9AAAACXBIWXMAAAsTAAALEwEAmpwYAACL6UlEQVR4nOzdeXxjd33v/9eRV8mWZUteZrU9k0z2nZRASIHSDQIXuvzaAgdIoXRIU9p0p63b0pbrLpR7b0MhpNMWegmnlC60hd4UaAsUypqE7Mskkxlbs3mTrcWWbMvS+f1xdGR7LNmSJVvy+P18PPJw5uhIOjbBes/n+zmfr2HbNiIiIiKyOZ5aX4CIiIjITqYwJSIiIlIBhSkRERGRCihMiYiIiFRAYUpERESkAgpTIiIiIhVorNUbd3d324ODg7V6exEREZGSPfzww1O2bfcUeqxmYWpwcJCHHnqoVm8vIiIiUjLDMEaLPaZlPhEREZEKKEyJiIiIVEBhSkRERKQCClMiIiIiFVCYEhEREamAwpSIiIhIBRSmRERERCqgMCUiIiJSAYUpERERkQooTImIiIhUQGFKREREpAIKUyIiIiIVUJgSERERqYDClIiIiEgFFKZEREREKqAwJSIiIlIBhSkRERGRCihMiYiIiFRAYUpERESkAgpTIiIiIhVQmBIRERGpgMKUiIiISAUUpkREpP7YNvzP/wm/+Zu1vhKRDTXW+gJERETW+MIX4Ld/2/n3X/s16Oys6eWIrEeVKRERqT9f+9ryv3/uc7W7DpESKEyJiEj9efRRuPxyaG2Fhx6q9dWIrEvLfCIiUn8eeQRe/nIwDDh1qtZXI7IuhSkREakvqRScOQNXXgnT0wpTUve0zCciIvXl7Fnn68GDcOgQjIzU9HJENqIwJSIi9eXMGeerG6ZmZiAWq+01iaxDYUpEROrL6dPO1wMHoL9/9TGROqQwJSIi9cWtTB04AL29zr9PTtbuekQ2oDAlIiL15cwZCAbB54OeHueYwpTUMYUpERGpL2NjsGeP8++qTMkOoDAlIiL1ZXJyuSIVCjmzpiYmantNIutQmBIRkfqyMkw1NDhLfqpMSR1TmBIRkfqyMkyBs9SnypTUMYUpERGpH5mMM/V8ZZjq6VGYkrqmMCUiIvVjehpsG7q7l4+FQs7gTpE6pTAlIiL1w+2NWlmZ6upSmJK6pjAlIiL1o1CY6uyEaLQWVyNSEoUpERGpH9PTztdgcPlYZyfMzUE6XZNLEtmIwpSIiNQPtwLV1bV8rLPT+arNjqVOKUyJiEj9cAOTG6BgOVipb0rqlMKUiIjUj2jUmXje0bF8zA1W6puSOqUwJSIi9SMadYKUZ8XHk8KU1DmFKRERqR/R6OolPlhe5lOYkjqlMCUiIvUjGoVAYPUxN1ypZ0rqlMKUiIjUj0KVKTdc6W4+qVMKUyIiUj8Kham2NqcpPZGoxRWJbEhhSkRE6kehMGUY0N6uMCV1S2FKRETqR6EwBU6Ymp3d7qsRKYnClIiI1IdsFuLxwmHK71dlSuqWwpSIiNSHeBxsW2FKdhyFKRERqQ+FtpJxKUxJHVOYEhGR+uAO5VSYkh1GYUpEROrDemFKDehSxxSmRESkPqgyJTuUwpSIiNQHhSnZoRSmRESkPrhh6sK9+cAJU8kkZDLbekkipdgwTBmG8VHDMCYMw3iyyOOGYRgfNAzjhGEYjxuGcVP1L1NERC56bpjq6Fj7WHu781V9U1KHSqlM/TXw6nUefw1wJPfPUeAjlV+WiIjsOtGoU4FqbFz7mN/vfNVSn9ShDcOUbdtfAabXOeUNwMdtxzeBTsMw9lbrAkVEZJeIxwtXpWA5TKkyJXWoGj1T+4HTK/58JndMRESkdKWEKVWmpA5VI0wZBY7ZBU80jKOGYTxkGMZDk5OTVXhrERG5aCQSy6HpQgpTUseqEabOAAdX/PkAcK7QibZtH7Nt+2bbtm/u6empwluLiMhFY70w5TagK0xJHapGmPoM8LbcXX0vAWK2bZ+vwuuKiMhuosqU7FAFbplYzTCMTwKvBLoNwzgDvBdoArBt+z7gAeB24ASQBN6+VRcrIiIXsXh84zClBnSpQxuGKdu237TB4zbws1W7IhER2Z0SCTWgy46kCegiIlIf1lvm8/mWzxGpMwpTIiJSewsLkE4XD1Mej9OErjAldUhhSkREai8ed74WC1PuYwpTUocUpkREpPbckLRRmFIDutQhhSkREak9N0wVa0AHVaakbilMiYhI7ZVSmVLPlNQphSkREam9UsPU3Nz2XI9IGRSmRESk9kppQG9rU8+U1CWFKRERqT1VpmQHU5gSEZHaK6UBvb1dlSmpSwpTIiJSe26Yam8vfk5bm1OZsu3tuSaREilMiYhI7cXj4PVC4zpbxra3w9ISLC5u33WJlEBhSkREam+9fflcbW3OV/VNSZ1RmBIRkdorJUy5S4Dqm5I6ozAlIiK1l0is33wOqkxJ3VKYEhGR2ovHVZmSHUthSkREak89U7KDKUyJiEjtqWdKdjCFKRERqb3Z2dIrUwpTUmcUpkREpPZmZ9cf2AnLj2uZT+qMwpSIiNRWNusEpFLDlCpTUmcUpkREpLZSKWeLmI3ClBrQpU4pTImISG25laaNwlRzs7PdjCpTUmcUpkREpLbcSpNbeSrGMJY3OxapIwpTIiJSW6VWptxzVJmSOqMwJSIitVVOmFJlSuqQwpSIiNSWKlOywylMiYhIbZXaM+Weo8qU1BmFKRERqS1VpmSHU5gSEZHaUs+U7HAKUyIiUluqTMkOpzAlIiK15VaafL6Nz1VlSuqQwpSIiNTW7KwTpDwlfCSpMiV1SGFKRERqa3a2tCU+cM5bXIR0emuvSaQMClMiIlJb5YQpbXYsdUhhSkREamturrzKlPsckTqhMCUiIrU1O1vawE5YPk99U1JHFKZERKS2yu2Zcp8jUicUpkREpLbUMyU7nMKUiIjU1mZ6plSZkjqiMCUiIrWlypTscApTIiJSW+U0oKsyJXVIYUpERGonk4FUSpUp2dEUpkREpHbcUKSeKdnBFKZERKR2yg1Tra3OHn6qTEkdUZgSEZHacStMpfZMGYZzripTUkcUpkREpHbcUFRqZco9t9TK1OQknDlT/nWJlKGx1hcgIiK72GbCVKmVqXgcenudf8bHN3d9IiVQZUpERGqn3J4p99xSKlP/8A/O14kJ5x+RLaIwJSIitVNuz5R7bimVqSeeWP73//qv8q5LpAwKUyIiUjtb2TP15JNw3XVO0/qTT27u+kRKoDAlIiK1s5U9U08+CTfd5PRMnT+/uesTKYHClIiI1M5W9UzNzsLYGFx2GezdC+fObf4aRTagMCUiIrUzO+sM4WxtLf05pVSmzp51vh48CPv2qTIlW0phSkREasfd5NgwSn9OKZUpd7bUgQOqTMmWU5gSEZHamZ0tb4kPnPNTKWeT5GLcytSBA05lamIClpY2f50i61CYEhGR2pmbKz9MuWMU1qtOuZWp/fudylQ2q1lTsmUUpkREpHY2W5mC9cPU2bMQDILX63wFiEY3dYkiG1GYEhGR2nF7psrhnr9eE/q5c05FCqCz0/mqMCVbRGFKRERqZ6sqU5OTznwpUJiSLacwJSIitVNJz9R6lanJSejpcf5dYUq2mMKUiIjUzlZWphSmZJsoTImISO1sJkxtVJlKp2FmZnmZLxBwvipMyRZRmBIRkdrZTAO6G74SicKPRyLOV7cy1doKLS0KU7JlFKZERKQ20mlYXCy/MuVWmuLxwo+786TcMAXOUl8sVvYlipRCYUpERGpjM5scA3R0OF+LhaPJSefrhWFKlSnZIgpTIiJSG27PU7lhqqkJfD6FKakbClMiIlKUZVkMDg7i8XgYHBzEsqzqvbgbpsrtmQJnqa+cMNXRoWU+2TKNtb4AERGpT5ZlcfToUZLJJACjo6McPXoUANM0K3+DzS7zwcZhyjCWt5Fx3+P8+fLfR6QEqkyJiEhBQ0NDJJNJXsQPcZineDUBkskkd9xxR3UqVJtd5oONw1R3NzQ0LB9ra1t/yKdIBRSmRESkoHA4DEAIk5NcRT93AZDJZDh69GjlgWorw9TKJT73PdYb8ilSAYUpEREpKBgM0o+HB3kVAJ/mF9mLF4BkMsnQ0FBlb7CVPVMXhilVpmQLKUyJiMgalmURj8e5hhcxQ5DLOcYUPezl1flz3MrVpm1VZWpionBlKpWCbLb89xLZgMKUiIisMTQ0RDqdZonvB+Ac7wcgwCX5c/r7+yt7k61sQC9UmQLINdOLVJPClIiIrOFWnaZ4GZfyBAleIMA0DRwCwOfzMTw8XNmbVFqZSiadKeorZTIwPV24MrXyPUWqSGFKRETWcKtOCfrp4gQAPZwkyWEGBgY4duxY5eMRZmedAZzNzeU/t9iWMpEI2PbyJscutzKlJnTZAgpTIiKyxvDwMH6vl3EO0sBpADqMU0wYlzAyMlKdOVOb2eTY5YapC5f6Cu3LB6pMyZbS0E4REVnDNE04m+At7wmQ5QwDAwNc623hk8/2k5mJ09DVUfmbzM1tbokPiocpd/q5KlOyjVSZEhGRgm7cfwsAv/Brb2ZkZISX3raPRVo499C56rzB7Gz1w1SxypQbplSZki2gMCUiIgWdedrpRzp4lR+AyMIzAPzEDxytzj59WxGmilWm3PdRZUq2gMKUiIgUdPrEAgAHbujGsizu+7s/BqCVw/l9+ioKVFvRM1VoXz5QZUq2VElhyjCMVxuGcdwwjBOGYfx6gccDhmF81jCMxwzDeMowjLdX/1JFRGQ7nQlnMciy74oOhoaGOLPwHB4yZDkMVGEK+lb0TE1MQCi0el8+UGVKttSGYcowjAbgw8BrgKuANxmGcdUFp/0s8LRt29cDrwT+l2EYm7jXVURE6sXp8Sb6GqZobjEIh8PYpOlhnCX25c+paAr6Vi3zXbjEB+DzOV81tFO2QCmVqRcDJ2zbPmnb9iLwt8AbLjjHBvyGYRhAOzANLFX1SkVEZNtYlsVTIxk6MyMMDg4SzC2bdTBJmuXm7oqmoFcSppqawOstXJm6sPkcnHPB2VJGpMpKCVP7ITdkxHEmd2ylDwFXAueAJ4C7bdvWBkgiIjuQZVkcPXqUSXs/fs4wOjpKPB6nubmZdiZI4lR+Kp6CXkmYAqc6FY2uPlasMtXUBB6PwpRsiVLClFHgmH3Bn38QeBTYB9wAfMgwjDVDSAzDOGoYxkOGYTw06d5xISIidWVoaIhkMskEB/BxBoB0Oo3f78fXMEOCnsqnoNu207+02QZ0gM7O0itThuFUpxSmZAuUMrTzDHBwxZ8P4FSgVno78Ee2bdvACcMwTgFXAN9eeZJt28eAYwA333zzhYFMRETqQDgcpokmEgQwGM8fn56e5uab9vH4w73ET51yAspmLS7C0lJllalQCKamlv+8tFR4Xz6XwpRskVIqUw8CRwzDOJRrKn8j8JkLzgkD3wtgGEYfcDlwspoXKiIi26O/v59uQgCkiaw63tNrkKCD+fMzlb1JJZscu3p7l4d0grMvn3u8EK9XDeiyJTYMU7ZtLwHvBj4PPAP8nW3bTxmGcadhGHfmTnsfcKthGE8A/wm8x7btqcKvKCIi9Wx4eJi+pr0ALOTClNsf1bvXGTkw+Xy0sjepRpjq6Vke0gnFp5+7VJmSLVLS3ny2bT8APHDBsftW/Ps54Aeqe2kiIlILpmky+dk4j34K5ogwMDDA8PAwpmnyz88+DMDkqVkOvqKCN3HDVCU9Uz09TjUqm3Way90wtV5lSmFKtoA2OhYRkTX6e68E4JOf+Wuu/x/L4w96B515TRMjFS6XuWHK79/8a/T0QCYDMzNO/9TZs87xffsKn+/zKUzJltB2MiIissbUmDMqMHRo9Y3ZPYNOJWny3GJlb1CtnilYrki5YWr/hdN7clSZki2iMCUiImtEppwbri8MU72XdQIwcb7CUYLV6pmC5b6pM2egq2t52vmFFKZkiyhMiYjIGpFpAy9JvG2rPyY69vtpYpHJSm8xqmZlajw3vuHsWThwoPj5ClOyRRSmRERkjUiskVBjbM3xv/nk3xBikq9+8ySDg4NYlrW5N0gknK+V9EwdzI1AdPcHPHOm+BIfKEzJllGYEpEdw7IsBgcH8Xg8lX2Qy4Yisy2EmhOrjrnbzHQywQI9jI6OcvTo0c3971CNylRnpxPGRkedP58+rcqU1ITClIjsCO4H+ejoKF22zWwlH+SyoUjKS8i7+o49d5uZdibz+/Mlk0mGhobKfwM3TBXrbyqFYcDAgBOm4nGnEf3SS4ufr6GdskUUpkRkR3A/yPs5whv4Kz5JO8lkkjvuuEOBagtEFvyE2hdWHQvnltNamWI2NyF95fGyzM46M6Y8FX4MDQw4y3zHjzt/vvzy4ueqMiVbRGFKRHYE9wP7CK/lY7yDB/h9vEAmk1GFagtEMgFCHUurjvX3O/OmGomQILjmeFkSicqW+FwDAzAyUnqYWlpy/hGpIoUpEdkRlj/InabjD/LzXM21QAVLTVLQJz72f5m2u3jyiS+t6k0bHh7G5/NhME2MTsCT32ambLOzlTWfu669FqJReOABaGiASy4pfq67pKjqlFSZwpSI7AjuB3magwSIkKWBdpb3M9nUUpOsYVkWv3HXb5ClAZvIqiZz0zQ5duwYrd55bDxcse8qjh07hmma5b/R7Gx1KlO33up8/eQn4cYbobm5+Lmtrc7X+fnK31dkBYUpEdkRTNPk2J//OQkO0MejNLGIh+VtQza11CRrDA0N0TzvVHDSuU2OV1b+TNPkTW+5HYDPfvxfNxekoHph6uqrl/uufuiH1j+3pcX5urCw/nkiZVKYEpEdw3zNazjHQZqNM4QYI8tegM0vNcka4XCYtlxz+WIuTLnHXcF9ToVnOjy7+TeqVs9UQwP8y7/A614Hd9yx/rmqTMkWUZgSkR1j6dwE59nLzS/qocsYI8U+BgYGNr/UJGv09/fjzYWp1IowtbLyF9zvBWD69Nzm36halSlwgtRnP7v+jClQZUq2TGOtL0BEpFTnj8fJ0sBLXzZIdGqBE6cPMDIyUuvLuqgMDw/zl3f8B2RgNhemLqz8BQecxvHp8xWEkmo1oJdDYUq2iCpTIrJjnD7uDFw8eGkL+/oynMv06c6sKjNNk5uufxUAcSIFK3/BQWfz48hEZvNvVM3KVKkUpmSLqDIlIjuCZVn8wx9+Efgefu19R3nZwXczzc3Mh0dpvXyg1pd3UfF5D+AhQ3QpgqfBWPN414ATpqYj9ubewLar1zNVDvVMyRZRZUpE6p67lczsXCcAxyce5qFH/w2AseNrN+OVykRmPASNmYJBCqCxpYGAEWN6pvDjG1pcdAZnqjIlFwmFKRGpe+5WMmkO0k6CNDHmMs7dZeeer6AJWgqaijcTaoqve06wIcZ0fJOLG9XY5HgzFKZkiyhMiUjdc2/LX6SPEGMAJDgPwLlT+mCstshcC6GW9cceBJvnmJ5bZ0Dmetwwtd0N6O4yn8KUVJnClIjUPfe2/AwdtOJUTKKcA+AjH/7HVVueSOUiqTZCvvUb+4PeJNNJ7+beIJFwvtaqMqWeKakyhSkRqXvuVjKL+GnJhak5IjSSJsu+VVueSOUiaT8h/+K65wTbFplebNvcG2iZTy4yClMiUvfcPeEW6KCJBA0NDYBND2Ms5qaga7Pj6olkOgkFio89sCyLyfNPEUn7N1cVVJiSi4zClIjsCKZpstDQyeWX9JLNZgHwE2GJYP4cbXZcuVR0gRQ+QqHCYw/cOyuX0mPMEGR0NFx+VVA9U3KRUZgSkR0jkWmjoy2T76HyMsM8XfnHtdnxapZl0d3djWEYGIZBd3f3hqEn8kIUgFB34Y8H985Km2myNNBBR/lVwVpXptQzJVWmMCUiO8PSEgna8bcv91C1MEOKTkCbHV/Isize/va30xiJcE3uWCQS4R3veMe6gSoy4jSHh/Y0FXzcrf5lclvNBHKVwbKqgrVqQG/KfU+qTEmVKUyJyI6Qnk4wjxd/h5HvofI2zpGgS5sdFzA0NEQ6neFKPs2VfIpX8woAFhcX160iRU47W/aE9rUUfNyt/i0yDUB7LkyVVRWsVWXKMJzqlMKUVJnClIjsCIlzTjWjo9P5tWWaJi+6vp84XYyMjChIXSAcDnMr1/NlfphP8yOc4v+seqwQy7L4w/feA8Bv/9GvFqxguVXBVC5MeQmWXxV0w5TPV/pzqqW1VWFKqk5hSkR2hMSYM+nc37U8dbur0yZJG4sJfTheqL+/n25eDsAVfJznuY5DtOUfu5DbWJ6MO0thJ6eeLdhY7lYF23uc/x16/JuoCrqbHHtq8BHU0qKeKak6hSkR2RHiY87ykz+03MvTFXJ+hc2Mrr/1yW5jWRazs7PEeTn7eIE5/p4sDRzmu2hubi5YRXIbyz2EAJghUrSx3DRN/uWL/wDA61/zlvKrgrXY5NilZT7ZAgpTIrIjJKacD0B/d2v+WFd3AwAz4URNrqkeuRWmeCTCE7ycPr5CmG8C0MKt+IuMI3CX/mxCtDFLisVVxy/UdagTgOmpbPkX6VamakHLfLIFFKZEZEdww1RH74ow1efsDTdzRpsdu9wK0wBXEaGbRr5CliiDPMUMtxKJRAou3y1v2ROiM3en3srjF2pua6KdBNMzRvkXWcswpcqUbAGFKRHZEeIzSwD4e1aEqb3Ov8+M6cPR5VaSurkOgCgPArCfr/MMLwUKT4tf3rInREcuTG3UWB5siBGJNRZ9vKhahyn1TEmVKUyJyI6QiOamnvcub67bdcBpqI6OK0y53EqSj8MAjHISgAaeJEqQID3A2uW7/JY9Rjc+IiWNmwg2zzI921z+RSYS2z/93KXKlGwBhSkR2RHcOY8dfSvC1EGnujEzVXwfud3GrTDZHKKbMRZJAZDgBQAOcAlQePnONE0Wm/Zw6f7WksZNhFqTTKda1z2nIPVMyUVGYUpEdoR4wunN8QeX7+brHAgAMBPZRBP0RcqtMM0al9DDKUKhEM3NzYznwlQXl6y7fDeV7iTUkS7pvYJtC0wvtJV/kbVe5lOYkipTmBKRHSExZ9DCfH5HEIBmfws+5piJbqIJ+iJmmiaTxmFuvMTD1NQUH/3oR2k6mMEgS3vLVUWX7zJLNlG7g1BnaeE06E8zne4o/wJrHabUMyVVpjAlIjtCYq6BDs/smuNdnhgz8YYaXFH9Ss/MEs4e4NBBp2nfNE1Gws+xv3Gc4J7bii7fzZyZw8ZDqKe0j4ZgZ5ZpuxM7a5d+cbZd2zlTWuaTLaAwJSI7QmK+EX9Dcs3xrqZZZmYLb8q7W53+5llnSOdlq++0u9Q/wQtTgaLPi5yYAYpvcnyhYMhgiSZmz5cx52thATIZNaDLRUVhSkR2hHiqGX/j6uUZy7JoWpzg5PkUg4ODBfeS220sy+Jn3vSbAHz079+f/5lYloWdeJTn5/qK/qwip5xJ8qH9pTWVz8RHALjqwLWl//xrtcmxS2FKtoDClIjUPcuyODu1QDY1lv/Qdid9N9sRUnQxOjpacBjlbpLfXy8WBOCFmYc4evQod911F0ePHiW79CyT7GF6dKrgzypy2hl+2j2wcVO5ZVl8+ev/CkAbodJ//u5tmeqZkouIwpSI1DU3IKTsNlpI5D+07777bpLJJE3MMEsXUHgY5UavPTg4iMfjuSgqW+70c5tDNJJmirMkk0mOHTtGMplkMXdH314OF/xZRc46FZvQoY2byoeGhkgsjQPgwwlvJf38YzHna6D4cuOWUs+UbAGFKRGpa25ASNJBE05VI5lMEok4U7obiDHH8od/sb3kLpSv4oyO4rPti6Ky5X7vS+ynj/Ms4czfymScrzOcAqCLQ6vOd0XGnYb10CWdJb3XXG5Sektuc+RCr7lGrcOUlvlkCyhMiUhdcz+cU7TTwNq7+SBGgg7AGY9QbC+5C7mVLYtruI6vEaCn7MpWvXG/9wX2EuRc/nhDg3O34xijAHgZWHU+OOHyP/79OzSS5rqXXr1hqOzv7yfGJABNuanqF75mQfUQprJZWFqqzfvLRUlhSkTqmvvhPI8Pg+W7+UKhUG7SdwwbD37aN9xLzmVZFpFIhEuAD/ABvsGt3MytQOmVrXrkTj+Ps492zgPO/npHjx7NHZ/ESxKDgVU/q/xS6mI7nUwTPh3esEo3PDzMfGsSgyyeXJgq6edfD2EK1DclVaUwJSJ1bXh4GJ/XyzzefJjy+Xzcc889HDt2DK/PqTAc6bt8w73kXG716SpeyRf4Qec1uRwovbJVj9zp59Pso5Vz+f317r33Xo4dO8bAwAB9jJLxHF71s3KXUtOE8OeW7jaq0pmmyZ//5Z8TJEKW3pL28gNqH6Zac3cqaqlPqmgT232LiGwf0zRhMcNb3tGCTYqBgQGGh4fzH9pNDx3m838K//dei2t+5LKSXtOtPkX5YdqYpYkk6VyYKqWyVc9+9IfeyFto4FWvuJwvfnkkf9w0TUzT5NV7HmEqdgTTvCb/2PJSag9tTK05XoxpmvzBT52gJ3QjXxkZWffcvFqHKbcypTAlVaTKlIjUvTd8/+sBeN1rv3fNBryBbmfAZHw8VfLrudWnDHvo4Qw9PM00lxMKBkuqbNWz809NA7DvQOFf74N75hmd73P6hnLcn8cMe2lb0WtVSpWup3WWydkyNjuOxZxA44aa7aZlPtkCClMiUvdSUaeK4G1b+ysr0Od8kMcmSq80uL1FKfbQzhhejnOSy7j3j/6oOhdcQ+efdqaY7ztUOKwMDBhM0cPcyfH8MffnMck+Wlb0WpVSpev1p5hIlbE/XyxWu6oUaJlPtoTClIjUvVTUqSL42tZuaBzY4wUgNpUu+fXc3qI4e2hhDG/zKFP08DtH37Pj502dO+6Mj9h7WeHtWmYzJwF4+ZFX5b9X0zT50J/cxxztNKzotSqlStfblWZyqbP0C6x1mNIyn2wBhSkRqXup6CIA3va1GxoH9jnTumPT5d3qbr7hDUywh8uOdLCQfQaADi7f8fOmzo84IWHfNcE1j1mWxaf+/S8B6GRg1fd661XfB8BP/dTta5ZS19MTyjJtB0nPLZZ2gQpTchFSmBKRupdcJ0x17HcqMLGZ7JrH1n3NE+dI0MHI2YeJLD0JQHOuCX2nzpuyLIt//qdv0kial77htjWBcGhoiPDicQBaGQSWv9d8RWuguaz37N3jfIxMPTdd2hNiMejsLOs9qko9U7IFFKZEpO6l4s4Snq9j7Q3IbT0+GlgiHivvNcefdzb1jSdPMsEIAJ7cMEvYefOm8hPdF4L0cZ4XTq+tsIXDYdKcp5kF7NwUdPf4+RPOvnz7jmy8L99KPQec8DV5osT/AWpdmVLPlGwBhSkRqXtumPJ2NK15zPAYdBgJYom1/VTrGXvBCQ/erkUWWCLADA0rtkXZafOm3FlRKfblp59fWGFzviebvbzALEdWHT930qnU7Lu+h3L0DvgAmDhZaDp9AbUOU1rmky2gMCUidS+VcPqhCoUpgEDDLLHZtUuA6xkLO0uHb3zn6/D5fHQQYYluoPQ72eqJW0lLrJh+vvI4LN+118UJJrkUWP5ez521aWMW/6V9Zb3vk6MPAvC7v/6B0pr3FabkIqQwJSJ1L5lwNuotGqYak8SShR8rZvy885pvetcPcezYMTqMCPN0l3UnWz1xK2nT7KW1yKwo9y7GQHOYUS7lyMHl7/X8RAN7GyYxmkqf5WxZFu/70HsBaKB34+b9TAZmZ+tjmU89U1JFClMiUvdSs07w8XUVnp3U0TxPbL68IZBjYwYGWXr6vZimyWBfI9mW/WXdyVZPhoeH8bV2EiWEZ51ZUaZp8sY330wKH1+8/z8xTRPLsnhmZBF/JlzWaIihoSHG5s/RwFJ+f751m/fjTp+aKlNysVGYEpG6l0o6d+p5uwpP2g54F4gvlD6F27Isvv7QGYJMceSIEx66OxaZSpcxfLLOmKbJn/zmBwGwN5gVdeSGdgCe/2Yk37g+Y+/Bx7myRkM4S4g23UywxN4LjhdQ661kAJpzdyumS59LJrIRhSkRqXtJp1ccb2fh6lPAmya25CvptdzwkFgK0cVYPjzYmQmmskFnKWqHuuHgLQD8ytBPrVthez72MAC//+t/wR133EEymWSKfTTmKlqljoZwlxBDnCHJgTXH16inMLVY4lwskRIoTIlI3UslbQB8IW/BxwPtGWKZ9pJey73rLcEe/DhbqiSTSc6cfYwkbaTOzVTnomvg/PPOHXX7Liv+s7Asi1/+w7toYR6bI2QyGXrpJ0kbNs/lzytlNITb0B4gzAxOgFq3eV9hSi5SClMiUvdSKfCQoam18B17gY4sMbsDO2tv+FpuSEjSSQvLgyYT86cBiLwQrfyCa+TcqeLTz11DQ0Mk55Mc4AVSufEIPdwAQIpH8ueVMhrCbWjvaBpjgoP092/QvK8wJRcphSkRqXupeQMvKYwCo6Qsy+I73/kvlmjiyv7LN+z1cUPCHAGaWB402drhjF+YOhmv3oVvs/NnszSSJnRlb9Fz3DDZx+OM4CwLNnMjHjKM8QRQ3mgI0zT5ge+7nDnaefQbz6zfvF8PYaoxd7eiwpRUkcKUiNS95LyB11h795Xb/zQ3PwZA9Gx8w+Zpd2lqlg4MnODk8/l43Y99DwBTp1Nb8B1sj3PjHvZ6xvF4i9/Z6IbJNr7MBPsIcIRFbuAIz3GO1KZGQxw85ASU8Hem1j+xHsKUYTjVKYUpqSKFKRGpe6mFBnyetXOB3P6npVyFqY3Ahs3TpmnykT+7jyRteIjlw8PrfvxVAETGdu5dXuemvextWX+PPDdMJvgSAPv4HiLcwAEe5cDAAMPDw2WPhui/3Gn+P/1EdP0TIxHna1dXWa9fdQpTUmUKUyJS91ILHrwNaytT7pJVOhemfARWHS/mtS9/HQA/9MPfl7/rrXvQadqemixvw+R6YVkWp6YaaUy9sO6sKNM0ueOOO3iS59nLWeBHGWOQJh4payzCSgdvcLbhCT+bXP/ESMSpSjWVN2C16hSmpMoUpkSk7iUXG/E2rK0YuUtWC7kw1ZILUxs1T8fPO7MWAl3LvwI///V/BeAf/vG/yhpcWQ/c5c4p25l+vlEoeuCBB5gFLuNLPMMPABDhG0DpYxFW+tLz/00jaf7m419c/2c3NQWhUOHHtlNzs4Z2SlUpTIlI3UulG/E1ra0kuEtWqVzvUzOBkpqnY+ecMNURcioklmVx58++iwAzZAhtukJTK85y59Kq6efrhSK3chflz3gbH+MPeS0P8t9rHi+FZVkc/fmfZS9nyHBw/Z9dJFI/YUqVKakihSkRqXuppSa8jUtrjudvze9z5k91tu0tqXk6PuH0XwW6nTDl9l51MUU6t9nxZio0tRIOh+nKTSDPrtiXr1gocit3j/FtHuAd/E8eKPh4KZZ/dqdJ5mZNFf3ZKUzJRUphSkTqXmqpCW/T2jAFTqD64rf/HYDvf9WPlNQ8HZt0lnjcEOaGDj/OZseucio0tdTf308wF6bmc5Up93ghbkUPYAqYW/FYOWMRYPln1M4IExxec3wVhSm5SClMiUjdS2aa8TYX3+bFv9dpHo9FNx7aCRCPOMEs0Ofs5+eGjlaiLLB82345FZpaGh4eJtg4AMBsrjK1XihyK3oDA85zGhqcYaibGYvg/oxaeIYxDtBKx6rjqyhMyUVKYUpE6l4q24KvpXiYamjy4CdOLFFgqmcBsVyY6tjnhDC3UtNEjCSdQPkVmloyTZPvfvEbAJjhfEmhyDRNRkZGsG2bpaUlbNtedz+/Ytyf3QJPAXCAqwr/7NJpiMcVpuSi1FjrCxAR2Ugq24K3Zf2RBR0Nc8QShbebuVA85rxW4IAfIB8g/von50guBRjY5LylWmpp7KeRNCNzYTy+1m17X/dndN8vfggmob/9Fn73vnev/dlN5QZ6dndTcwpTUmWqTIlI3UvaXryt6y/hBRrniCdL+/thLAZNLNLauRw6TNPkxusHSRDYVIWm1s6NNzjTz7cxSLlM0+S/Rr6ElyTXX/3jhX92Y86Uevbs2d6LK0RhSqpMYUpE6pqdtUnhxefdIEw1p4jNN5f0mrGEhw4jgeFZvSzY2QnzeFmYK9zsXs/OTzezt3WmZu//yX/6Rw7zLF/6VqLwrCk3TO3du/0Xd6GWFoUpqSqFKRGpa9ZffZwsDXz1v7+w7kDIQOsCsYXSqjLx2QYCDbNrXyM3xDMWjq15rN6dS/jZ51/7PW0Hd2hoJ08yxtWFZ02pMiUXMYUpEalblmXxaz//HgCypNYdCBnwpomlfSW9bizVREfT2g2NO0NOz1X0TG1CSSXOLwTZG6pNQHBnTdk8xRgH6Cu0R6LClFzEFKZEpG4NDQ2RnXeW4myc8FNsIGRH2xLxpbaSXjc+30ygeW2YCvQ6y4TuhPSdwLIsjvQfIWKHOHnyqzWZ2u7OlJrhIQAOccuq44ATpgIB8Hq3/frWUJiSKlOYEpG6FQ6HacX58M2SXHX8QgF/lpjtB3vjWVOxBS8drWs/TDtzc6ei59cGrXrkLq8tnna+l/j8yZpsg+POlDrJt2hgiVZuW3UccMJUPVSlQGFKqk5hSkTqVn9/P835MJVadfxCgQ5I4SOdmN/wdeNLXgLetRsnB/Y47+VOSK937vJakH0AzHG+JtvgLM+amuNyHmE6F6ZmZ2eXg92ZM7Bv37ZeV1EKU1JlClMiUreGh4dpb3ImkqdzYarYMM188/jp+LqvaVkW0aU2wiOPrWloD+x3hnhGJ3fG3XzL2+DsByCam36+3dvguBPVQ6EQfXyN57kFD41EIpHlStnJk3Do0LZeV1EKU1JlClMiUrdM08T8ibcDkCG17mTvji6neXy9fifLsvjpd/40cQIYxNY0tHf2O1uhxKaLT1uvBcuyGBwcxOPxrAqAboWuESekTHBq1fHtZJom7e3tJPlvUvi4ihsBp8ft93/jN5xlPoUpuUgpTIlIXbvm8hsAuPfP/3TdYZqB7iYA4mPJgo+D29AOGRoBp4K1clmsva8Ng2zJe/xtB7cvanR0DNtuWBUA3eW1NIcJMsU8iZpugxMOh3mWrwLQw/fljzecPu38y+HDhZ62/ZqbYWFnLOXKzlBSmDIM49WGYRw3DOOEYRi/XuScVxqG8ahhGE8ZhvFf1b1MEdmtUglnyc0bWH8gZ6AndyfeePGeqXA4jB9nC5ks8VXHATwNBgEjTjRW2h5/22FoaIhMMsmVfI0f4B/ZgxMA77777vzyWspzKXs5uamNiqupv7+fGBNcyYNM8rr88ev9zs+8ripT6XRJNyuIlGLDMGUYRgPwYeA1wFXAmwzDuOqCczqBe4HX27Z9NfBj1b9UEdmNkglnyW2jMPX4885t+UO/+r6iwz37+/vx5cJUhsSq465Awyyx2dL2+NsO4XCY2xjkGV7EF3g9r+L/AyASiWBZFqZpEmu6nGv2ztd8G5zh4WGamprYw2d5ipfgx9mHrz+ZqxYeOVKza1ulOfffUnrtTQgim1FKZerFwAnbtk/atr0I/C3whgvOeTPwadu2wwC2bU9U9zJFZLdKzTmbEvu6WoqeY1kWH/zL/wVAA4Giwz2Hh4fpbHY+4NM4gzkvXBbrbJojmixtW5rtEAwG2c+rAejjFF/h/fnHhoaGyCzZjCzs5fDe2o9zME2Tjo4OpvhXbDxczWsAuCGT4UxDQ31scgzLYUp9U1IlpYSp/cDpFX8+kzu20mVAl2EYXzYM42HDMN5WrQsUkd3NDVPezuJhamhoiKnFScAJU1B4uKdpmtzxxncCsESi4LJYoHme2Hzx99pOlmURj8cZ5TXs4QWu5P2c4RB7cXqPwuEwZ56YYYkmDl1aH9W06elpnuAR9nKaFM5Hwc3ANzN11NSvMCVVVkqYKtQ8cOFCcyPwIuC1wA8Cv20YxmVrXsgwjhqG8ZBhGA9NTk6WfbEisvukkrkw1VV8371wOEwCZz89g45Vxy90xaHrAPjIX92zZlnMsiwWE6cZixvr7gO4XYaGhsikDR7iVRzi3ziL0446yCsAp2r1lu/9aQD+4fMfqfn1wvKS6fX8GY/xfdzEizgCfBvq4voAhSmpulLC1Bng4Io/H4DcMJPV53zOtu0527angK8A11/4QrZtH7Nt+2bbtm/u6enZ7DWLyC6STDp/n1svTPX392OTppUU5CpT7vELJaadPpn27tWv594158lOM7fOUuF2CofDHOQwc7TTwDd4nmcIMYnBywGIxWIszXQC8HzsOzW/XnCWUg3D4DHuo5MZBvkNMsDfwLYPEy1KYUqqrJQw9SBwxDCMQ4ZhNANvBD5zwTn/Any3YRiNhmH4gFuAZ6p7qSKyG6VS0MwCDU3Ff125IwL8xMjmwlSxEQGzUefuQP+e1fv4udPEG4iRoBMovg/gdunv72dfrqtikjMAXMpXOZ0LU0tLSzRzCQ0scZrTNb9ecJZSbdvmPAkO8yHm8DJMI2fZ/mGiRSlMSZVtGKZs214C3g18Hicg/Z1t208ZhnGnYRh35s55Bvgc8DhONfcvbdt+cusuW0R2i9S8gddYf4sYd0RAG3HSBNYdEZCIOcuG/j7fquP58QhESWywVLhdhoeHCTQMADCeC1PN/BenOcy+3IJBjBdzCU+xhNOTVA+BZWDAuebv8F7+ndfyXpwAW4thogUpTEmVlTRnyrbtB2zbvsy27Uts2x7OHbvPtu37VpzzJ7ZtX2Xb9jW2bf/pFl2viOwyyXnPhmEKnEDV3bZER+jwuiMCEnGn5bN9T/uq4+4HvU2MLA20077qeC2Ypslllzj9Ue5WMWP8OwAHuR1o4ji3MsDyaL96CCxupRBssrljtRwmuobClFSZJqCLSF1LLXjweUqbVh1oWSC+wZ14iVmDFuZpaln9688NAFmiALTTWRcBIJ3dS9Azw8BAHwDP8wyDvECS19PFzczjozkXpurhemG5UjgwMIBhGDUfJrqGwpRUmcKUiNS11GID3obSPvQC3kViae+658zOGfiNtfv3uQHA53cqV4e6L62LAHBm2ssBb2RFtQeu4DM8x6vo53bnHL4CwB133FHz63WZpsnIyAjZbLbmw0TXUJiSKmus9QWIiKwnlW7A21himGpbIna+bd1zEskG/A1JILTmMdM06Q1fzhd+E97/e/dwm3ndZi65qs7OBtjfPZsPI3fccQfRzGdZ4Bd5jl/iMp7kMaYAeOCBB2p5qTtHS656qTAlVaLKlIjUtWS6CW9jadt+BPwZYln/uuck5htpbyzegxXodT5oYxN1sBGubXNmsZf93c6HvmmaZLNZHuSrvI6/5mYeop//lT+9HprPdwRVpqTKFKZEpK6llprwNZUWpjr8kKCDTKr4h+TsQhP+5uJhqnOfs5QWnaz9vm2LE1Em6OPA3uXp4f39/WRY4qu8HXgF/8Ffr3pMSqAwJVWmMCUidS211Iy3qbStSAKdzoDP2XPxouckFlvwtxT/EA3sc5YJY9O13f7Esixeed0PAvCVr/1dfhinu5lwDPjqivObm5vrovl8R1CYkipTz5SI1LVkpgVvc4lhKujsTxc7O0vgksKb6ibSXg62Jou/xgFnmTA6ky16zlZzp7FfmrwBgOnZZzh69BhAvnfq7rvvJhKJABAKhbjnnnvqq8m7nrlhaqEOlnLloqDKlIjUtVS2GV9LiWGq2/n7Yez82rv1XLOZVvze4q/XGvTRwjyxWHnXWU3uNPbW3PTzOc6umm5umiZTU1PYto1t20xNTSlIlUOVKakyhSkRqWspuxVva2lVokC38yEZGyveE5XItuFvWyecGQYBI04sXrtfj24jeTNOdS3K5KrjUiGFKakyhSkRqWtOmLJLOrej19m8uNidePZShgR+/O0FH87rbJglOtdU1nVWk9tI3kgQgGmmVx2XCilMSZUpTIlI3cqmM8zjxes1Sjo/sNe5Ey8+vVTw8YXILBkaaV9/egKBpiSxZO3ClDug0yBIGwkypOtmuvlFQWFKqkwN6CJSt+aj80AbPl9plan8nXiRwmEqMTYHBPB3rP/3yM6WFNF537rnbCW3/+mjd9gEMtN0DwwwPDysvqhqUZiSKlOYEpG6lZpxwpTXV2Jl6mAHALFo4fCVGHfu4vN3Nqz/Ot5FzkwHS7/QLWCaJp/6hW/Qm1zgkZGRml7LRacpV3VUmJIq0TKfiNQtJ0yB11far6pPf/bvaCTNF/79WwwODuZnM4EzbuAdbz4KwF//zbFVj12os22R6NIGjVXbYDrlJegtPsZBNsnjgcZGhSmpGlWmRKRuJWecRnKff/1KEjhh6V3vOoqfV5MlwOjoKEePHs0/fvToUa7IzW2aip/JP1Zo6SzQniWWqYMwtdjG1aGZWl/Gxam5WWFKqkZhSkTqVirmfNh52zcOU+5spiAxlggArJrNlEwmacbpPF8gkX+sYJjqsEnSRnrRpqm5tCXGrTC91EGwY6Jm739RU5iSKlKYEpG6lYo7++OVEqbcGUxtzLBI55rjAE25MJUiseaxlTpzT4+dm6N7sDYVKnspw7TdRTBQu0nsFzWFKaki9UyJSN1KxnJhyr/x3/vcGUw+ZkjRteq4+1gDToN6itiq56xkWRZf+M9PA/C9L/nBdXurttLsmShpmgmGalcZu6gpTEkVKUyJSN1KJZwRB77O5g3PdWcztTDDXG7YpTubaXluk7P8N0e84Nwmd0+86NwZAOLj8xw9erQmgWp6xNmsOdizcVVONkFhSqpIYUpE6pJlWXzw/9wHwN2/+u4NA41pmhw7doy2xgQJuhgYGODYsWOYppl/rKW5B4Deg135x1Zy+64Wc5UrL4FVfVfbaTo8C0Bwz8ZBUjZBYUqqSD1TIlJ33ArRjckfAeDsVHjdu+9cpmnyxD1f5KsPdjF+agTDWP3YQx/4Ml97NM5oeKTg890eqnmiALTkeq9qsSfe9NkUAMF9rdv+3ruCwpRUkSpTIlJ33AqRB2cK+QKpkitEXUFYpIXk9NrNjuNzDQQaZos+1+2hSuYqU025ZcFa7Ik3fd4ZCxE8ULtJ7Bc1hSmpIoUpEak7biXIwAvAPHOrjq+nK+T0GM2ciq55LJZsoqOh+BBMt7dqLleZaqCzJnviWZbFX/+V0wT/5jt/rGZN8Be1lhZYKLwhtki5FKZEpO64lSAjV5lKkVx1fD3BPmerkJlwYs1j8fkmAs3Fw5TbW9V5oBMAb0tfwd6qreQucaaSzvLe0+efqlkT/EVNlSmpIoUpEak7boXIxkcDS6RJl1wh6trTAsDM2bWhKbbQSkfz+tUI0zR5OnwKP3Guu/7l2765sLvECUG8JMkyX7Mm+IuawpRUkRrQRaTuuAHmY++YwbeYJDgwwPDwcEnBpmu/U82aPlegZyrtZaAjuvEFGAadRpxYYvv/vukuZWYIEmCa1AXHpUoUpqSKVJkSkbpkmiaXXno9PiPFyMhIyRWirn5nyvnM+NoPythSGwFfuqTXCTTOEp1tKv2Cq8RdylwkSDvTa45LlShMSRUpTIlI3Zqbb8DnWVthWk9w0JlyPjO5tOaxeKaNjrZMSa/T2ZQkltr+MOUucc4TxJcLU7Vogr/oKUxJFSlMiUjdSi404Gso744r/z4/HjJMT68+vrQEc7QT8Je2112gZZ7Y/PbPeHKb4JOEaGF61fBRqSKFKakihSkRqVvJxUZ8jeV94HkaDDqNGDPR1XvaJaacUNbRUdrrdHoXiC56y3rvajFNk1lPiOuu6C1riVPKoDAlVaQwJSJ1ywlTpfU4rRRsTDCTWH1/TeysM6wz0FXar71A2xKxpbay37sqbJvpbCfBQGlVNNkEhSmpIoUpEalbyaUmfM3lhSnLsmhemuD507MMDg7m5zPFzzlhqiNUWh9Upz9DNNuBbZd3zdWQmpxlHi/BYA3efLdQmJIq0mgEEalbyaVmfM2lNYzD8sDLy+1Pk6KL0dHR/J5+/bM3AhDoLW3j4ECHTYZGknM2be3Gxk+oosipOOAn2N2wre+7qyhMSRWpMiUidSuZacHXsvauvGLcgZdNzJCky3mN3MDL+IRzV2BHb2l9UIFOJ0BFx8q7m7Aapked6e3uNHfZAm6YqkXpUS46ClMiUreS2VZ8raX3DbmDLZuIECW06nhs0qlCBPaWtnFwZ9D59ej2Wm2n6TPO9Pbgvu2/m3DXaG52glSm9MqnSDEKUyJSt5wwVXrlwB1s2cAEM4RozHUyBINBPv5Xfw/AG3/6J0ra5y7Q7VSFoueK7+W3VabPO9Ww0MHSgp9sQnNuuVdLfVIFClMiUpfsrE0SH74y8oQ78BImAAjQQ1NTE4lEglTSCVbPjj1b0sbBnbneqthYat3ztsL0uLO0Gexv3/b33jUUpqSKFKZEpC4tzi6SpaGsMOUOvGzzOwHocM81dHR0sLi4iEEHDSwxT6qkjYMDfc4Sm7s8uJ2mp5ylp+ChwLa/966hMCVVpDAlInUpOeUsr/nayruTzjRNhn7vLgDe957/zXRuFHqWLgJE8+dttHFw5z4nxUWnSm+Ar5bpaWhmAV+oNkNDdwU3TC2UN2FfpBCFKRGpS8mIU13ytZf/a6rvsDNsc3x0Pt9HNU8fQcbz52y0cfB/PfxFAP7qLz61al7VdpiONhD0RDE82zuSYVdRZUqqSGFKROpSctppwvb5y5+11HtFEIDxM+l8H9UcfQRyYWqjjYMty+IXfudXaWIRg878vKrtCFSWZfH08xHaslPbHuJ2FYUpqSKFKRGpS8mo8yG3mTDlP9RNKykmxu18H9Use2hjvKSNg4eGhpiYTxEgho3Tt1RKn1Wl3KGjyWwAH9PbGuJ2nZYW56vClFSBwpSI1KXkjNPL4usof6MGo7mJPs8k41NOEDNNk2ljDzdeGSpp4+BwOIwNdBAlS+eq41vJHTqaJEgLTq/XdoS4XUmVKakihSkRqUvJmLMnn6+ztO1fLtTbHGU86lQfknM2s3Y7e3pKayZ3+6naiLFEYM3xreKGtQQhmnJhauVxqSKFKakihSkRqUvLYWpzW6r0tc0yPpdrRD855xzrK62h2+2z8hJjIVeZ2qjPqhrcsBahhwYm1xyXKlKYkipSmBKRupRMOLOWfF2b21Klr2OeifkOAMaejTrH9pe2ZJifV+WJs0CgpD6rahgeHmZPaw8LtEIuTG1HiNuVFKakihSmRKQslmUxODiIx+PZ0rvNknFnSc7X1VL2cy3L4tzZh5nIhBjoH+Tf/vG/AdhzqPS5TaZpMri3jaWm7pL6rKrBNE1+7xed4JRhattC3K6kMCVVpDAlIiW76667eNdb3sKVo6PYtr2ld5sl55wNjssdXOneETe3eIYMjSROz/Kv//BVAPouKW97ls72JaJL27ulyw2XvASA33zvz25biNuVNLRTqkhhSkRKYlkW9913H7/PAV7HXfwgLwW27m6z5KyzwXFbd3lhyr0jLsV5AHrZjyfT7fz7laGyXivQ4TSuL23jEPTJsDOstKdf08+3lBum0unaXodcFBSmRKQkQ0NDtNot/A7P8G4+zHk+kH9sK+42Szq7yeANlHc33/IdcU8B0Ma1NNJHkAiXf89tZVXROrucr/FotqxrqMTUOWfZqXtQmxxvKS3zSRUpTIlIScLhMJdyhDnaCTDNOY7gtnNvxd1mySS0ksLTUN6WKu61THCcFuaxuR6bPoKMcSocLmtZMhB0vsPY2dnyLr4Ck2NO433Pkc5te89dSWFKqkhhSkRK0t/fTx+XA7CfzzFFD0cIYBhG1e82syyLRx9/Hi/Jspvc3bEG02S4kqeY4wbm6aMtt5VMOcuSnT3OWIbo6UT538QmTU45mxz793ds23vuSuqZkipSmBKRkgwPD9PmuRKAGA8AMMil3HnnnVVtknYbyOfTTbSQLLvJ3R1rMDAwwH4e5Twv4nluopNn8+eUuiwZ6HXuJNzWytR0I92eaW1yvNVUmZIqUpgSkZKYpklT+4vo5QyTPArAK24xuffee6v6Pm4DeYY2mnGascttcjdNk+HhYVp5jARBUvg4wEfzj5e6LBnY6wMgej5VxndQmal4Mz3NsW17v11LYUqqSGFKREoWnh/g2j1RZuaeBGAxc0n13yNXNUrTjpfEmuOlGhoaYpbHALiJh3mEhwHKWpbsPOA0gccmt28paHLOR0/r9lXCdi2FKakihSkR2ZBlWRzuH+D44iALkW/wK79yF32c5ksPRas+uNOtGi3QQSvxNcdLFQ6H+RqPEGSSN/K/eDp33LbtkpclAwf8AMQmq3f7/EZDTyfn/fS0b18lbNdqaHD+UZiSKlCYEpF1uT1MC6fnidHJUvoJPvKRj9DH80S4tOqDO90G8hQdtOTC1Ga2VOnv72eWBDF6eR+fzB8fGBgo+TUCA50ARKerMxrB/VmOFhl6alkWk+kOxs88sqXT5SWnuVlhSqpCYUpE1uX2MHVzGQALPAdAByc4yxGguoM73QbyFB00kdj0lipuKMtAfrGw3FDW2N5KG7PEonZZ712M+7PsoZ2beS2w/LOzLIufeeddxOkky+SWTpeXHIUpqRKFKRFZl9ur1M5+AGYYBaCB00TooSk3baqagztN0yTlCXDdFfs2vaXKyrv6DMPYVCizLAs/Ub798ImqVIpGR0fxAW/gj3iIf+U2bgGcn93Q0BDt820ApJkCtm66vOQoTEmVKEyJyLrcXqUm+gCI5OY1pZkGIETXqvOqJZ5tp8NX2T4upmkyMjJCNpstO5S5S3I+YiwRqLhSZFkWhmHwEg7wcd4JQBc/BYDH42F0dJQu3H6x0/nnbcV0eclpbtacKakKhSkRWZe7XGbQSyNpEkQBWMyFqQ6Cm+ppWs/CvM0iLXS0V2d5bTPcJTkvURbpBCqrFA0NDWHbNll+ERuDS/k8X+KNhGgjk8lgGAZeDgMwy8n887ZiurzkqDIlVaIwJSLrcpfLjMb9hJhgYKCfn/mZn8Hb6QSd/q5LNtXTtJ7ElFMt8HfUbnClWxFqZZokwTXHN/t6Ub6LK/gmDbyPWfxcxusB5y7DxlyYinAK2FzjvZRBYUqqRGFKRDZkmibtwSvZ600wMjLCvffey//6iPMhf/dP/3pVgxRA/JwzZ6mjs3a/otyKUAtTxOlec3yzrzfOYby8wHN8g3YSNHJb/pw0h9nHWSLMb7rxXsrQ0qIwJVWhMCUiJRmfa6PPtzxMsmswAMDMWPV7TuJjSQA6uhqq/tqlcpc3G5liJhemKqkUDQ8PM9jSyXn2Ay9gk+UI32ScW/PnLHiOcLjlHBnb3nTjvZRBlSmpEoUpESnJxEKA3sB8/s/BQ06Ymp6orEm8kPiE8z4d3U1Vf+1Sucubba1zpPBx6YHLKqoUmabJb73tvQDMcRLDMPDzNU5wLe34MQyDaQ5zOBSt4nch61KYkipRmBKRDdk2jC+F6AsuB6dAdxMGWaanq/9++Z6pUEv1X7wMpmnyoz/2SgD+89NfqbhS1Nt0BQB/9c//mzvvvJNZvk6WBi7jxdh2M2PZvcxMfFOzpbaLwpRUicKUiGxobsKpzvT2Lh9raIBOT5zpaPWbxOMRZ/uWjt7Wqr92ubr3ONWxqVOJDc7c2MkTGQAO39LDAw88wHN8E4Msfl5GkAFsPMwvPadhndtFYUqqRGFKRDY0/oxTfurbt7qHKdiUYDpR/aW4+LRTAevo81b9tcvVfdC5hqmRyjYftiyLz30xTDtxbr7lEkZHR5klwdV8m7P8EAdwNo2O8YKGdW4XzZmSKlGYEpENTZxw9sjrPbh62S3YMsd0svqBJxF1Kjj+PW1Vf+1ydR9yNjueOjO/wZnFuQNAZ5YOspeThMOjGIZT0Rvkfk5wI7P8Js0s8DTPAhrWuS1UmZIqUZgSkXVZlsVv//L7AfiDDw6tWn4KeueZWfBV/T3jMRuDLG197VV/7XJ1H3EmvE+d2/yHrjsAdJJLCPIC4MyVAjjHp2gkzUlu48f4U2aZATSsc1toNIJUicKUiBTlVlRScaci9ULk6VX9PMH2BabT1Q888QT4SeDx174y1XmoCw8Zpiaym34Nt8o0zkFaWF1x+g4RbuFf6GGCFH+QP65hndtAlSmpEoUpESnKrag05Pblm2ZyVT9PV/sS05lA1d83Meuhw0iAp/a/ohqaGwgaM0xFNt9o39/fTxs+5mjHzu1tCNDQ4PSgfYd3EOR6Po2znBoKhTRjajsoTEmV1P43lYjUreW+nW4CRJknvep4sDPLDF1kF9JVfd/4XAP+hmRVX7MS3U0xpmKbb7QfHh5mX/MBAJaYAJwBoEePHsXn85EiwXHG8sfvueeeyi9aNqYwJVWiMCUiRbl9O1mCdDC96rhlWXz7258jSwPXH76hqrfyx5ONdDRvvuG72rq9c0zNbn5Mg2ma/OzbfgWARSbyW8Xce++9HDt2jIGBAQzD0BYy201hSqpEYUpEinK3VFmki7ZcmPL5fNx+++0cPXqU2dQZAGLnUlWbjWRZFuemFlhKjjE4OFjzeUuWZbE0O8LZWGNF13PJ3usAuPdj71+1VYxpmoyMjJDNZrWFzHZTmJIqUZgSkaLcLVUWjBBeZvKVkwceeIBkMsmSG7AIVmU2ktvwPm+300Sc0dHRmg6wdK/HkxknRndF1zN+2vnQ7rvUX+3LlM1y50zl7qwU2SyFKRFZl2maLDb2cuRge75y4vZMzRMDoBWnCb3S2Uhuw3uSDjw4E8drOcDSvR6DKabpxlPB9Uycd+4G7Lk8WOWrlE1rbna+LlV/f0nZXRSmRGRD00t+uvzLTeZuL1UqF3haaV91fLPcMBYjiIfomuPbzX1fm3HSNBOia9PXMzFp0E4CX0/txz1ITktuCK2W+qRCClMisi47azNjdxIMLM9ZcnupkjhbrDThx+fzVTwbqb+/nxbamKOdRs6vOl4L7vsu5a4lwN5NX8/ETCO9jVuwK7RsnluZUpiSCilMici65sZnSdNMV3B5zpLbS9W11+n/6fD1VuUutOHhYXqb3aCyPCqgVgMs3dA4nwtT7ezd9PVMxL30tsSqfYlSCYUpqRKFKRFZ18yIEwCC3at/XZimyTce/zoAr3zF66pyF5ppmrz77b8BQJaxmo8KcENjW49Tletuv2zT1zORbKevrbLNkqXKFKakShprfQEiUt+mw04A6OpdO7TS19WCQZbZRPXe75L9LwLgg/f9Pte/6yXVe+FNMk2T17/s1XQcgh941Zsxzds29TrjC53csv9Mla9OKqIwJVVSUmXKMIxXG4Zx3DCME4Zh/Po6532XYRgZwzD+v+pdoojU0sy5FADBvS1rHvM0GLQxR2KuekXusRFnWOeey6u/Tc1m+fu7aGOW8+c3PreQ+++3mMwGOXXia3UxO0tyFKakSjb8DWgYRgPwYeA1wFXAmwzDuKrIeX8MfL7aFykitTN9fgGArv2+go/7PVUOU2eW8JCh+8qeqr1mxTwe9jZOcn6yoeynWpbFzx/9dbI0ABM1n50lK7hhamGhttchO14pvwFfDJywbfukbduLwN8Cbyhw3s8B/wi5jadE5KIwM+GMRAj2txd8vL1hntlU+SGjmLFxg14maOipr3lMe70xzke9ZT9vaGiI1nmnUX+JSaC2s7NkBVWmpEpKCVP7gdMr/nwmdyzPMIz9wA8D91Xv0kSkHkxPZgDoGugo+Li/KUVifvObAF9obLqJPU0R8NTX/TF7A0nOz5W/9BgOh/HTDcDCir9r1mp2lqygOVNSJaX8tjIKHLtw9v6fAu+xbTuz7gsZxlHDMB4yDOOhycnJEi9RRGppZgaaWKStr0hlqmmR2cUqhqmYjz3eeNVer1r2dC8xlg6WvfVIf38/bbkwNcfUquNSY6pMSZWUEqbOAAdX/PkAcO6Cc24G/tYwjBHg/wPuNQzjhy58Idu2j9m2fbNt2zf39NRRP4SIFGRZFt968AUCzHDo8KGCfT7+lkUSi61Ve8+xVAd7OpJVe71qydrniBMg4Gkrq4l8eHiYtoY9AMRzYaqWs7NkBYUpqZJSwtSDwBHDMA4ZhtEMvBH4zMoTbNs+ZNv2oG3bg8A/AHfZtv3P1b5YEdk+7ia/yaV2Opgu2jjd3ppmdmntnX6bcf/9FuPpIGNnHqyru94sy+KRJ/8dgF72ltVEbpom11/zCgBmiNR8dpasoDAlVbJhmLJtewl4N85des8Af2fb9lOGYdxpGMadW32BIlIb7ia/CwTxMQMUbpz2e5dIZArf6VcOy7L4laPvIU0zi4zV1V1vQ0NDzGSc1tFO9gHlNZG3NO+njVmi2VR+s2ipAwpTUiUlDe20bfsB4IELjhVsNrdt+ycrvywRqTW3QTpFF/7c1i4rj7vafTaz2crD1NDQEKH5EBNAPPd+bmCpdfgIh8PsxVnK9NG/6ngppmY8dHtmwCjcdyY1ojAlVVJft8uISN1wG6RnCdKcq0ytPO7yt9vM0o6dLa8x+0LhcJh2vguAGR5ZdbzW+vv7mWQUAA+Dq46XIhJvprul/prqdz3NmZIqUZgSkYLcTX4TdNHINFC4cbq9HWw8zE2lKnq//v5+0txKiClO8/yq47U2PDxMk89DL+dJcwgor4l8Kuml2zu3lZcom6HKlFSJ9uYTkYJM0yS7ZPO2n+zCwwwDAwMMDw+vWXLzdzjTU2bH52jv3dxyn2VZzM7OssTLuJav8+Xc8Xq56839nv/kraPM2oNFfxbFTM37ORKa3spLlM3QnCmpElWmRKSo1778fwDwhje8omjjdHvAmX6emNhcZcq9a3AmAme5nABfByAUCtXVXW+maXLlvkVmmy8ru4l8ailAd+fSFl6dbIoqU1IlClMiUtT0iNPnE+wpvl2Mv9N5bHZqflPvcffdd5NMJrmRWwGI8TUA2tvb6yZIuQ7tXyS8uIdMOlvycxbn0sQJ0B3awguTzVGYkipRmBKRombOOH0+XX3NRc9p73Kmnyemym/itSyLSCRCAx7SDNHFJP/NQ0B9NJ5faPDSJtI0c+6R8ZKfE3kuAkB3X/X2L5QqacpN7leYkgopTIlIUdNnnaW74L7iE8793U7fyex0+R9I7pym27iLx7mFAX6eJZwKVz00nl9oJvMCAG+45SdKHio69UIMgO59xQOp1IjHA42NClNSMYUpESlqZsypNnXtL95Y7oapxHS67NcfHR0lgIcT/CrX8SUe5W/zj9VD4/lKlmXx5//0vwHoYLCkoaKWZfGLP/0bAHzoo++viwGkcoHmZo1GkIopTIlIUdMTTtN0sL/4sMmvfecrAHzwT/+irC1gLMvCMAxewvdzln5muTf/WCgUqrt+qaGhIU4tPo9BliYOA+tPQXcb6+ejzq/Z0Znn6maiu6zQ3KzKlFRMYUpEipqJOI3WXYc6Cz5uWRa//ye/A4AHf1lbwAwNDWHbNkl+ii4mOZnb8tMwDO65557qfANV5PRwLbKfU6S48oLja7nb8TTTDUCUSFlb0Mg2UZiSKlCYEpGipmcM2pilOeAt+PjQ0BCT85O5P/mB0vesC4fDGHh4iNdyDZ8CnA8027brrioFyz1c+3iSMa5Zc/xCbsgy6AMgytSq41InWloUpqRiClMiUtRMzEOXJwaGUfDxcDjMAks0sYhB26rjG+nv7+dS+knhY5FH88cHBgYqvu6t4E6Eb+dJRrkMaFp3qKgbsjL00cUUsLTquNQJVaakChSmRKSo6dkmgk2Joo+7wcDHHOBbc3w9w8PDXNroVHjOcdx5nTqZeF6IaZocO3aMtrZRlmjipp7b1h0q6oavBfoI4oxSqOfvb9dSmJIqUJgSkaJmki10tSSLPu4GBi9z2LnKVKmBwTRNrr/MmbB+lmcZGBioq4nnhZimyavveBEATZO9DA0NFe0Pc8NXytiLn/Ed8f3tSgpTUgXam09Eipqeb+NIYKLo424w+K23JMnQVvaeddHUAF2eKJGlyWIriXXFsix+86PvoYGfwss1jI5+iqNHjwIU/J5N0+R33z7CzXvP8smRkW2+WimJwpRUgSpTIlKQZVlMzbcSGX9m3ZEHpmnS6c0S6j1U9p51xye7uLzj/I4IUuA03MfmYxzkeea5Fti44X4iHaSvq/wZXLJNNGdKqkBhSkTWcGckxQjSyPSGIw/amhZJLjaV9x6f+ATPzu4nG/1WWfOpasltrO/lEUa4ec3xC83HF4nTQV9P6Xv5yTZTZUqqQGFKRNYYGhoilcyQwgfMAOtXYNqa0sylSw9TlmXxnp/+Jc6zn0aeLWs+VS25jfXNfJ0x9rOX/lXHLzT+rPOz692jX7V1S2FKqkD/DxeRNcLhMB10AWAzvep4Ib7mJeaWWkp+/aGhIXzz+wFY4nmg9PlUteQ23M/wNQD2c+u6Dffjzzn78vUd1L58dUtzpqQKFKZEZI3+/n78uTC1lKtMuccLaWtdYi5TfDPkC4XDYQK5YZaznFt1vJ65d+hFus7SxiwtvAyvt/BAU4Dxk3MA9A0WP0dqTJUpqQKFKRFZY3h4mK6mPQAs5ipT61Vg2lqzJMsIU/39/XjpBWCGiVXHd4L4whyX8U0i3EokEim6RDk+Og9A32WB7b5EKZXClFSBwpSIrGGaJj/++jsAmGdmwxlJbb4sc3bp1Zfh4WG8nr0ATOXC1E4ZaOnuudfG13iO6+kiUHCJ0rIs/v5v/hOAH3jrD9Z9P9iupTAlVaAwJSIFHey5HIBPf/5vNxx54PPCHG3YmdLuWjNNkwMHXkQrKdLM7aiBlu5S5AxfIEsDl/H9q47D8t2Q8/MddBDl+JkTO6LBfldSmJIqUJgSkYJmJp295LoGOjY8t60dbDzMz6RKfv0lu5vephlsO1v2fKpacpcin+VbdDKNwWsB8Hg8+bDkVq/SK7aS2QkN9ruS5kxJFShMiUhB01NZDLIEBjo3PLetzZm6mZwqvvXMhSbiXvq88c1eXs24d/RlyHAtn+d5XgMYZDKZfPXJrVLFGSDIcsWq3hvsdyVVpqQKFKZEpKCZqEEnMTytG9/W3+Z3fpXMTZVemZqY99PbXnr4qhfuHX0NDQ14+H9E6OMSbgKWq09u9WqMw3RwMv/cndJgv6soTEkVKEyJbDHLshgcHMTj8eyYSd8A0/EGgo2xks71dTQAMDdd+nLJRLqL3o6dubximibZbJZn+DwGWfbllvrAqT4NDw/T1tpDhF5aeQHYOQ32u05LC6TTYNu1vhLZwRSmRLaQ24g8OjqKbduMjo7ylre8he7u7roPVTOzzXQ1z5V0blvA2TN9bqa0v+HbmSwT2W56gzt3z7r+/n4mmOIqvk2E2/PHg8Egpmnyvp/7PwCkObmjGux3neZc5TW9c/9blNpTmBLZQnfffTfJZBIfrXw3P841+ADWnU1UL6ZTrQRbS1u2aws4W8kkZ0qrNMVPx1ikhd6enVsNGB4epqmpiRD/j2f4LnroASCRSDjVyPbrAHj/R35tRzXY7zpumNJSn1RAYUpki9x1111EIhHa8HItn+GrfIoUj3I5zsiBer+7a2ahja620j5g2rqcD6S5aGl/u5844TSe9/bt3F9BpmnS0dHBOR7AxsMVvBqAxcVFhoaGeOFJpx/s8K17anmZshGFKamCnfubTKQOuf1RhmHwkY98BDC4BosHeRUv4n2M08ce3pM/v57v7ppe8tPlXyrpXF+Xsy/fXGzj8y3L4u0/8XMAfPxTf1bX1bmNTE9Pc4JH6OUcS7w+f3x0dJR/+ecnCBLhRf/ju3f093jRU5iSKlCYEqmSu+66i7e+9a2Mjo7mjjTwcv6Ib/HDvIxf5mF+h8v4V57hdgI4owSCwWDtLngddtZmxu4k2FnaEM62YC5MxTPrnuf2kCWnnYb1sdhzdb/cuR7n7jyby/hnHuM1tLA8BT6RPsA+TnIyHN7R3+NFzw1TmjUlFVCYEqkCy7K47777MGyDH+SHuBWLQZ7kK/wat3GMr3IPAHP8KxP0cS03A8v9NfUmcTZOhka6gkZJ57eFnH355hLrhy93mGVjbl++WSbqfrlzPW7fVJJ/JEkb1/ED+ceiXII/NxZhJ3+PFz1VpqQKFKZEquDuu+/Gtm2+jw/wef6J53gVXZzle/kJ/pt35c87xefwkKGF1wHL/TX1xLIsXnWzs0XKv3/pH0sKe209TmN9cm79hnJ3WbOBbgBiRFYd32ncvqnH+ApdRGjlRwFoo4fTHKaJJ/Pn7tTv8aKnMCVVoDAlUiHLsohEIryIQ3yRd3MTH2WKAzzC9/Gf/N2qcxeZ4Sq+xQTfmz9WTx+y+WW4CaeRfHrudElLVL6Qs7w1N7t+mHKHVnoI0EqKKIurju9E09PTZFjiCv6eh/hRAgTZz+vI0kCGf82ft5O/x4tai7NErTAllVCYEqmQW1ny8Ts0ssTT/BawunfIMAza29sBCPAoo1yTf6yePmTdZTgfXQDMM13SElVDo0EL88wl118WdLdigQAdxMiy84dZuv/7TfNnpPBxBUdp4g30M8rjPApAc3Pzjv4eL2qqTEkVKEyJVCgcDtOEwRO8npv4W+Y5v+rxgYEB7r//fu67777cnm5PESfAAPvqLki4VbIWQgDMMr3q+HrajOSGYcrdisVoCNFG7KIYZjk8PIxhGBznaV7MFzjBL/MCP8B1fIZE7hy/37+jv8eLmsKUVEFjrS9AZKfr7+8nNOrjOwRJ8pX88VAoxNTU1JrzP/xz/wgzcHXgZbz5w2+oqw/Z/v5+RkdHaXQHUDKZP76RNk+K5PzGfz8zTZP7f+EhulNLfHtkpKLrrQemafKWt7wFgCS/yqXcx3GuYIT78+dMT0/X6vJkIwpTUgWqTIlUaHh4mL0N3w3ACF8DnKWre+65Z825pmnyz9/5BADf/9Kf2pIgVclegO4ynJ272y7GVEnVM8uyaMokOH5yrKT3jKVa6GydL/m66t3AwAAAT/I4I9xKH0Ge5MH84/W0lCsX0GgEqQKFKZEqWMy+lE6miPI8oVBo3aWrf//aPxFkkn/5XLjqGx8X2guwnBlH7jJcY9N+uoiwf+DAhstw7ns2MccSbSW9Z2zRS8BX2kDQnWC5FwzGgeMrHqu3pVy5gNuArjAlFVCYEqmAGyResF/KIb4OQCpVfD879/z9PE2Eq8sOOxu5++67SSeT/Ah/yrV8nUFaSCaT3H333SW/hmmadO+9lt6maEl7yrlN683MkaYN2HiuUnSpjYB//QGfO4kbQt0KVUODM5T0YugJu+gpTEkVKEyJVGBoaAgj2chJLqeDbwDrBwk3eAR4ilGu3vD8crgjGn6I2/g0d/MEL+VF/C7gbKxcTmCbiHvpbY2XdK7bnN7EHOncRs4rj6+RyRCzO+gMlHw5O4JpmoyMjGDbNktLS9i2rQ2Od4JWZ+CswpRUQmFKpALhcJgBLgUgybOrjhc73/EscQL05Bq9qzFryg1kT/MB9jDKtXyCf+JX6ePAqsdLMZlqo6e9tJ4mtx+okTkWcpWplccvlJ6MkqSNQGdp09VFtpRbmZq/eHr4ZPspTIlUoL+/n55cmBrjhVXHi50PMJs7d3/uudVoUA6Hw3TTzlPcwhH+igR/TJYGrs4NCC0nsE0udtLTWdrdTW6/UANJ5nNhar0+ofhZZ2BAIKhfP1IHtMwnVaDfZiIVGB4eptVzBICzuYC0XpBwg8c4JwDo5JKqNSj39/dzBdcDMMF3GOEpgkyQ5VUAeDyekpb6MosZpuwgvaHSNjl2+4VamxZJ0bZhn1D07BwAgaAms0gd0DKfVIHClOxqlYwRgNzebN230MN5bCO1YZBwg0fzwSwGWdqbr65ag/Lw8DCdHmcD5VEeAWwO8yWO58JUJpMpqdl9+sQ0Nh569jSU/N6maXLTDZeRwrdhn1Bs3FlO6expKvn1RbaMlvmkChSmZNeqdIyAa2L+AJd1TJHNZktqODZNk5Hw8xxsGiPQfUtVG5QX7BsIMsE85wDw8EXOc4DLcKpnpTS7Tz43A0DP/uay3rutDZK0kV1cf+SBG6YCvS1lvb7IlmhsBI9HlSmpiMKU7FrunXW/TQNv40Zgc3fWvTDXxyXdsbLf/9KuCC9EOst+XiFuMDxrX89+Hskfn+BLAHTzivyxjXqnJl5wepp6B7xlXYOvzWkoT03NrXtedNLZRDmwp7zXF9kyra2qTElFFKZk1xodHSUE2LyXj/MdghwESm/UtiyLwwcv40xmHxNnv1J2RavLe54TCwdoMYyKh3cODQ2RTqZ5nqvpWBGmRnieAFE83JQ/tl6zu2VZ/PHv3QvAb/zhL5V1TW3tTpiamyo+ZwsgNu3Mlwrs9a17nsi2aWlRZUoqojAlu5JlWRiGwavp5v/wiwC8mCuB0u6scytBC2ecJurkwpNlLRFalsXomS8zRQ8DdFQ8vDMcDrOfI6RpxubxVY8N8igzucrbes3u+e8p4Sy/PTtZ3vfU5nd+nSSn1/8bfmzGaWzvPOgv6XVFtpzClFRIYUp2paGhIWzbZoxfYI52AFq5FMMwSrqzzl0iDHIYgDlOlrVEODQ0xEzG2XRkH5cAlQ3v7O/vpxsnBEYZyR8PhUL0ND3FSa7j0MHBdZvd3e/JyO3LFydS1jW1dTgN63OR4mHKsiz+4z++DcCNL7mqqlvpiGyalvmkQgpTsiu5S3kxrudyHsXLHBkuxbbtkhrC3ee3sx+AKU6vOl7K88/zHAB+Ll/zuuUaHh6my3MIgHM4r+FutnzLbW2k8NFw2svQ0FDRAOO+d5Y+upgCMmVdky/g3J03N1N4PpVb+UouePExSzh8sqpb6YhsmipTUiGFKdmV3KW8JHto4xy9nCDOkfzeaqU+v5l9GGQ5x/iq46U8P8lzeMhg5JYXy3n+hUzT5PDgd9PAElHO50c0AHz6ax8CYA83rruc6L73HAfp4UzZ19TWuX6YcitfGQL4iQLV20pHpCIKU1IhhSnZlYaHh/F5vUTZQwNjtHOC81zKH7zvfaU/3+fDZh89jJMmU9bwTef5jezlJIlcmKp0eGcys4/9jePYdiY/omFoaIhnFx+jhXmaNrhj0f2eZjhIZ67SVs41tXU5oxTmoumCj7sVrjQBfMTWHBepGS3zSYUUpmRXMk2Tj73/A0zQR5Yx2ppGOMVhfvFtP1nSnXXu8M2MZz9dnNtwWGex5/c1PM95rir7+YWcnvFzsG161bFwOIzNEod4glguTLnHi13TFAdp43TZ19QWdBrXk/HCc6bcCtciAbwrwlQ1ttIRqYgqU1IhhSnZtV513StZoolbX345ZJ8nTTNBDpZ8Z51pmqSaB7l0j13SsM5Cz//+l3dzkiOc+NbDFQ/vDCdD9HclVh1zg0qQ73CyhPEIP/Q/3kiUIN//ykvL/p7cMDWXKLwNjVv5StFJSy5MVWsrHZGKKExJhRSmZNcaey4OwIOPfZ65zLMA+HIbD5fay3NuoZt9XevPVVpXy0nSNPNde26taNZUNmNzZmkPB3tX9yu5ASbLI0TpYpCBdQPMmUcmATh4qPx983whZwhnsTDlVr6SBGgmWpVqnEhVaJlPKqQwJbvW2MkkAOdiz5LgFADNDOYf36iXJz2fYcLuZl/P+tunFGNZFv/wxQ8D0MWVm541ZVkW1x98EYu08MQT/2/V890AQ8jpgbrS/4p1A8zpRyMAHLy8/IGabT3Oc+Zm7aLnmKbJnNHJDdcc3FQ1T2RLqDIlFVKYkl1r7LRTxfH2wRRTADQTyj++US/P+LMz2HjYt29z7z80NMSpxccAaOAaoPy729xxA/PnnRlPM6njawKZaZoc/YM34SHDYuKSdccjnH7W2Qrm4HWdZX8/3oDTgJ6cKx6msG2idoCAf51zRLabwpRUSGFKdq2xc84H+i///l3YXmhhHk8uTJXSy3P+WafvZ99A06bePxwOkyXBEZ5gnFetOl4qd9yAH3esQXhNILMsi3f/4rsY4Fnm1hmPYFkWn/jr/wDg9UdfV3aFzOMBH3PMJY2i58xH5likhUBAYUrqiJb5pEIKU7JrjU148JLinT/9Rv7iL47RSQSbUEm9PJZl8Ut3/j4AH/yL399Ur5Nb+bqUB3iW2wBnexXDMPB4PCX1ULnBqxWnPBbh7KrjsBy4evkOp3gRsLYC5la4UvM99DDOU2de2NSSo88zz1yq+K+V2BmnQb6zS796pI6oMiUV0m802ZUsy+KRZ6YJcp5DhwYB6PWm6Oy5csNennzwiDk9Qqemn9hU8BgeHqapqYlF/o00zRzmewHIZrPYts3o6Chvfetbueuuu4q+hhvIGunFQ4ZxIquOw3KwauRbjLOP/RxYdRyWA9cCB+nOzZjazEDNNk+KufmGoo/HzjnLiIFQ+Q3uIltGYUoqpDAlu44bhuKZHgKM5Ze92j0zRFLeDZ/vBg8P+/CQYZqJTQUP0zTp6OjgMb6Gnzhd/BgBAtzKmziEcx22bXPfffcVDWru3XrQS4hJMthrlijdYDXDNwHYx0tXHYflYDXDIO2E1xwvVVvDAsmF4mEqet6581FhSuqKlvmkQgpTsuu4YSjKHtoZA5wqDPNniCy0b/j85T3s9tDLBDNkVx0vx/T0NFMs8SI+wcO8mRTjfJ2/oZcvMEAAcAJVsaDm3q2X9ewlwETBJUo3cL3AY3hJ0sxLMQyD22+/PX9Of38/HloIcyltPLXqeDnamhaYWywelGITzt/+O/taynpdkS3V0gLpNGQLj/UQ2YjClOw6y1WYXlqYzB/3ZCaILAU2fL4bMJboJcgE9gXHy+E+5xHezdv4KW7lE1zPL/IwtzDAb6655kJM08T29jMQyhZcojRNkzvuuINFI8NlPESMl2DbNv/3//7ffMVreHiYgeYbyNAIPAFsbqCmrynN3GLxhvzYpHMHZWDPxhVAkW3Tkgv3i4X3lRTZiMKU7DpugEkQwMNM/ri3ZZZpuws7s/7fTt1Kzzw9dDABbH6S9/DwMIZhEMPm43yUL/NOHuNPuYxvkuDla665mIn5AL2B4j0fDzzwALZt4+ebPMdNtNG8amnSNE1+/HvuBiDK45seqNnWnGYuXbzqFIs4M7kCe8ufYyWyZVpbna9a6pNNUpiSXWd4eJhgaxeLtGCv2Nbkqqv3sUQTiTOxdZ/vLq3N0YevyNJaqUzT5M4778QwVo8TaOEbPMlN7Kdl46Bm20xkgvR0FR8e6la24vw3i7RwFS9bdRxgaXaQFuZ5cPrBTQ/UbGvJkMw0F308Ou0E1cD+jZdTRbaNW5lSE7psksKU7DqmafL+3/oTALIrtjW54Uan+hM5FS/pNWJGH9deFqx4kve9997L/fffz8DAAIZhEAqFWGh6mDTNXMJNeL3rL4nNj8eIE6C3t/jsJrey9RxfpIV5WngdAB6PB8uysCyLL35jjkt4mktvvHZTox4sy2L83PPE081FxzrEYmCQxb9XYUrqiMKUVEhhSnall1373QD8zM/dkQ9DoT1Or09kdHbD56dSkLDb6Q1lqnI9pmkyMjJCNpvlnnvu4UzDtwFo46VEIpF1Ry9MPucsVfbuLd74vbw0OccNfIlwLkxlMhne/va38453vIOz2avo5fFNbWvj3iGZWYqRoq3oa8QSBh3E8TTqV4/UES3zSYX0G012pdh5Z1++lXeVhfY5/x45u/Ev1MnTzjm9fcWnfW/W0NAQ8fkR9nOKaG6MwXqjFyaed5Ylew8WX15zlyYbGhpo418JcxkHOAJAOp0muNjNBPvI8PiG71fsmpPJJAZzJGkr+hrRRCOBho3Dqsi2UmVKKqQwJbtSft7RirvKQv1OCIic3/iOnsnnowD07qv+vCS3j+kg32Est2ffyuNrrmXUCYa9g23rvq5pmmSzWY7zrwAM8pb8Y/v5cee1co+t937rXTPMsUArzTQUfI1YspFAY7Lk1xXZFgpTUiGFKdmVYpPOL83AvuUA8vUn/wuAj3zobzbcymXiBWdblJ7+6t/i7/Y3NTHCGP1rjq9kWRYf+t+fAOBnfv0dGy7N9ff3c5YwL+WfeYJ304DTuxTnTVzLwxzn+XXfb6NrBufn4s297oWvEUu10NmiMCV1Rst8UiGFKdmVYhGn16nzgPOhb1kWv/R7v5B7NLRh39DEqFPZ6j1c/UZqt78pzSgpfOynu+AdffltbeacMQNPjz++Ya+TO4rB5g+JEeRmfoV9XMPzvJiDfDI/M6vcUQ/uNdv5MOUv+BqxxVYCLfrbv9QZVaakQgpTsitFo05scG/RHxoaIjY/Sycz2ISADfqUzjhLgb2XdVb92tz+psaAc1fh1V03Fhy94PYpQS+tpEgzu2Gvk2ma2LbNN/k2t/L3fIv3MsO3CDDDo/xN/rxyRz2419zu7NXMQM8la17Dsiymks3MTD5f0ibOIttGYUoqpA2yZFeKxQw8ZGjvcu7gc3t7OphmiWD+vKJ9SuNZWknRfqhnS67PNE2uaruNm34Y3vWW3+RHzFeuOce9tjS9dDHJ+Q2u2TUwMMDo6CiP8yZewwgRbqCFd/HV3CsMDAxsemZW5/FL+Pz74J4/+Qi3mFfmH3OraC2EaSSar/y5zxOpKS3zSYVUmZJdKRr3EDDiuLMy3d6edmZYojN/XrE+pa9+/Xm6meTQtddsWYVl4EXdAIyeLDx+wb22eXrzk9hXHi/GXeqbJcO/8Wt8mx/gq5wCwDCMTU1yd/lz4XR2Or3quFtFixPAkxuUupnNoUW2hCpTUiGFKdmVYnONdK64Rd/t+WklykIuTK3XpzSX7qKLCUbD4bJnMpWq60Abbcwyerrw/03da56jl7YytrUpNnXdMAzuvPPOiipF/qATphIXhKlwOEwjPjI0YhBbdVyk5hSmpEIKU7IrRVPNBJqW7ypze358njgpOotuEeNWWFL00p7bJHmrKiyGAQMtY4QnC98x6F5zjF5aytzW5sKp6wMDA9x///3ce++9FV2zv9e51sTM6q1t+vv78edCamZFmNrM5tAiVadlPqmQwpTsSrH5FjpbUquOmabJFZd2k/SEim4R41ZSEvTiW7G0thUVFsuy8KdP8PT5pqIN229+05uZopfbbjlc9rY2K6euV7oljsu/xxk1cWGYGh4epru5F4AlosDmN4cWqTpVpqRCClOyK0UXfQRa1/7i7OzIEs12FH2eW0mJ0kNTGX1K5XKXE1uzI0wwUHRUQ+J0lAVa6e2r6ttvmrvnXiKWXXXcNE3ufNvPAZAmVtHm0CJVpzAlFVKYkl0plvYR8KXXHO/shBQ+FmKFy/3Dw8N4W3tYwIuRW+bbigqLu5zYxCgzdOPBV3A5sZR9+baTt6cdDxkS8bWbLl956EYA/vTeP6paJUykKtwwpWU+2aSSwpRhGK82DOO4YRgnDMP49QKPm4ZhPJ775+uGYVxf/UsVqZ5opoNO/9Ka410hpyk7Go4XfJ5pmvzRb38QALvMPqVyuMuGS5wDoJs9q4673Ensvf2tVX3/zTIaPLQzSyKx9rH81Pm9vm2+KpENNDZCQ4MqU7JpG4YpwzAagA8DrwGuAt5kGMZVF5x2CniFbdvXAe8DjlX7QkWq5f6Pf4IE7Tz+2FfW9CJ1hpwKT/RM8c14X3zkZQC8+xffumUVFnfZMMkYAEH2rjrumhhxmuh7NtiXbzv5PUkSc2t/tcSmnPDaub9+rlUkr6VFYUo2rZTK1IuBE7Ztn7RtexH4W+ANK0+wbfvrtm3P5P74TeBAdS9TpDosy+IX3vWr2HhgxfBIN1B19jnl/ujZuaKvMXnKCVq9A9Xfl8/ljj2I5QZpdrCn4HJifhL7kcCWXUu5/I1JEqmGNcdjM04fVeBg8Z40kZppbdUyn2xaKWFqP3B6xZ/P5I4V81PAv1VyUSJbZWhoiIb5ZgDsAsMjO/fkwtRY8V+qE2HnsZ5Lti4UuGMPmvc6y45B79rtWQAmxpyA0nN5cM1r1Iq/aZ5EqmnN8eiMTQNL+Hqrv5+hSMVaWhSmZNNKCVNGgWNru0sBwzC+BydMvafI40cNw3jIMIyHJicnS79KkSoJh8P4cEJQmviq4wBduSWomfHFoq8xec55rOeyrq26TMAJVI+GH6GRNDde/+qCy4kTUwYdxGntaN7SaymHv2WRxOLa64klDDqNGIan0K8UkRrz+SCV2vg8kQJKCVNngIMr/nwAcl2xKxiGcR3wl8AbbNuOFHoh27aP2bZ9s23bN/f0bM2eZiLr6e/vpzUfptYOj+w84FRNolNrm9NdE+PgY462ge4tvFKHp9FDX8MUY5Nrl80AJmaa6G2a3vLrKIe/JU1icW1DfCzRQKCheC+aSE15vQpTsmmlhKkHgSOGYRwyDKMZeCPwmZUnGIbRD3waeKtt289V/zJFqmN4eJiOxhAAC7nK1MpepM4Bp/coGim8Hx7AZMRDrzG1fDv1FtvTEuV8dG1/lmVZPH9mkdb02aJDPWvB711idqlAmEo1rZo6L1JXfD5I6r9P2ZwNw5Rt20vAu4HPA88Af2fb9lOGYdxpGMadudN+BwgB9xqG8ahhGA9t2RWLVMA0TW7//h8FnDB14WiD1kALzSwQjRV/jYlYMz3N0W24Wsde/yxjc6v7jNyhnrFsNz4mig71rAV/W5ZEdu34g2iqhUCLelKkTqkyJRUoadKfbdsPAA9ccOy+Ff/+TuCd1b00ka2xv+9SAP7j65/nwEsPrnrMMKDLE2MmVnhZDWBy1sc+30TRx6ttb3CeBycGVh1zh3pG6aWPbwDLjfS1Hobpb7dJ2O1g284PNCe26OWSrvpakhTJ8/lAvbyySZqALrtOPHeLfsfewvOOOhtnic4V/nuGZVmcm/WSnHlu25bW9vRkmbC7WUouN8WHw2EaaCBCD57cLCr3eK35O2CBVtLR1eMlnKnzxXvRRGpKlSmpgMKU7DrxmHMzavte/5rHLMuiKT3JC2dm14Qly7L46Z8+ykxuX77tWlqbT4ex8TDQNpC/pv7+frrpwcZDdkWYqvYegZvh73B+rSTOrR6DHs34CfizhZ4iUnvqmZIKKEzJrhNPgJ84npbVs5DcPqRme5p5OteEpaGhIeZTjSzSArl9+Qrtl1dNlmXx1Qed+z0C7M1f0+23305fs7P0t5gb7LkVewRuxtjUKQBefM1L8uEvm86QwE+go+BUFZHaU2VKKqAwJbtOfNZDh2ftLfpuH1IzUeZwZkitDEvhcJhOnJEeWZZ7prZyaW1oaIiZJWdmrj+3pUwymeSBBx7gTa9z2hSTjG3ZHoHlsiyLL37Vaa9sxZ8Pfz//jrux8fBfX/mXurrzUCRPlSmpQH1sNS+yjeLJRjoa1/7SdENRIzPECa453t/fjzHaywywwHKj6lYurYXDYXpxxjS0sG/V8b5XXQ7AZ7/y9xz67vrYwWloaIj2pSsAJ0yBE/4+84nPAB9iiVg+YAE1D38ieapMSQVUmZJdJ55qoqNp7S9NNxR5mCZKF+7wf/f48PAwXY1OoEnmKlNbvbTW39/PFGMYZDFWbHnZ39/P2FknZPVdFdqy9y9XOBxmPje/q5nl/QJ9dALLg1K3enlUpGxeL6TTsKSbJKR8ClOy68QXWuhoXrs7vLu5sEGELA34CawKS6Zp8n3f7cyoSjC5LUtrw8PDtPia6WWMTG5LTPeaxsYNOojhC23dhsvl6u/vZ54pABpYDnmtuWXTRWbyx+rhzkORPF9uNpqqU7IJClOy68QXW+nwptccdzcX9rU7QetI39VrwlJn2yAAj448xMjIyJYvU7nX1GOcI8mBVQFubLqZPU0Fd26qmeHhYexWZySCgbPdjmEYNOd6zeZX9JrVw52HInne3F9KFKZkE9QzJbtOfMlHwLc2TIETXjqfPsS//QHc+ycf5RbzslWPT0xAOwm8B7Zvac00Tf7hl77GicSljIyM5I+Pxb3s9a0zqr0GTNOExSXe9o4MWboZGBjg9ttv54ljjZCBuW1aHhUpm1uZUhO6bIIqU7LrxDPtdLQX33svtM/Zc2/67Nq/oU5ON9DriUBD8QnpW2F/cJ4z86s3Vj6f7GRPR/394jfffgchIlx7w/cxMjLCvffey1VXvByAaSJ1c+ehyCqqTEkFFKZkV8lmbBK009FefN5R8KDzN9TI+bV9VROxFnpatr8adGBflqjdyVzUqahZlsVYOsj46QfrctRAd8MMU7Hm/J8bm/YRYoq5bHpblkdFyqbKlFRAy3yyq8xNJrFpoyNgFD0ndMi5Cy0ytvaunsk5L/1tU1t2fcXsH3D+r3r20UkePPsl3v3Ou0lgAmN1OWqguyXB1Gxr/s8TM030Nk6D0b3Os0RqSJUpqYAqU7KrxM85wzo7Oov/p995qAuDLJHJtVufTCwE6AkU7rfaShPJ5wD4ke8xueOOO2if7wAgndtKpt5GDYS8KaaSvvyfJxJeeloS6zxDpMZUmZIKKEzJrhI/79xp1hEsXpRtaPfSxQyR6dXVKztrM5kJ0ttdvN9qK1iWxcf+6UMAtHOATCZDiMMAzDKaP6+eRg10++eZWlje+3Ay1UZv29w6zxCpMVWmpAIKU7KrxMedX5QdoaZ1zws2xpmOr24yj47GWKKJnr7t/b/N0NAQ4cWTADTnZk214kwZj/Bs/rx6GjXQ3blEZCmAnWtNm1gI0NsxX9uLElmPKlNSAYUp2TUsy+I3fvl3Afjje963btN2qDlBJNGy6rmvveV1AHzui5/a1obvcDhMgiRdRLA5BIDN5XQQ43xuma/eRg10h2zSNJOI2ywtQSQbpKdLk6WljqkyJRVQmJJdwbIsjh49ylzU6YM6NzPC0aNHi4aikDdJJOVd9dyF3HZ8Y7Mn131utbkVp0M8xhQ3ADDHFRziOFnDqMtRA929TlVv6mScyPlFAHp7a3lFIhtQZUoqoDAlu8LQ0BDJZJImnMbtJPF1m7ZD7QtEcj0/7nPbc1O8Y0xua8O3u81ND49wiuuABqa4nCMd58lms3U5aqB7nzMWYeqFGBNPOSm092DLek8RqS1VpqQCClOyK7jN2Q25zXfjuc14CzVtW5bFxLknmVrqYHBwkNHR0dxznY2GI5wt+tyt4G4p0+V7jgW8tBnfxTj9ZOcfq7v5Uq6RsScBuOPH7sS8/ScB+Iu//bO6vV6RfJhSZUo2QWFKdgV3qcygE4MsCWKrjrvyS3rpMebwc3r0HIbh3NVnc5BmFphjsuBzt5Jpmlx2o/PvB+0fAyC6+Ni2LjeWyrIsjv39fQD46abNdrbeORk9XpfXKwI4uxo0N6syJZuiMCW7grtUZtOJnzhgF2zadpf0lnA2EA4RxLZtDMNggYPs4XTR524ly7K492t/RSspIvwEAOMcr7v5UuD8DE8tOtW7NrppxWmWmmCiLq9XJM/rVZiSTdEEdNkV3J6iv/xJG/9SlK6BAYaHh9f0GrlLdwu5DXm72MMk49i2zawxSMg+jVHkuVtpaGiIKTJcw+M8yS1czWMc5/iqa64X4XAYGxsvSWwGWKSZDmLEmck/LlKXfD4t88mmqDIlu4ZpmgS6L6W7daFo07a7dJfC+cBvx/nzwMAA0YYBrun31KTh2w0g3Qzze/wOb+ClLLG06prrhXs9V/FtznIr53kp1/AtwF71uEjdUWVKNklhSnaVaKqFzpbivyzd5cBYbrJ4EwP4fD7e974/4NxSL/29tRk86QaQL/NZ/oL38Uc434NhGHU1XwqWf4aX8FVOcSNhrmUf3wDqbx6WyCqqTMkmKUzJrhJd8NLpXSj6uHvnnPdAKy3M09JyGceOHeN7vuv1ZGjk4MFtvNgV3IACcAbI4gSpO++8s+7GIrg/w+6mb5OhkSwNNPINQqFQ3c3DEllFlSnZJIUp2VWi6TY629bfqNg0TY6fHqXfc4a+g7dhmianH3QmjR+83Lfuc7eKG1AGBgYwcoM677//fu69996aXE8pRoxv4sHZx3Cab5HSh5TUO1WmZJMUpmRXiWb8dPpL26h4wDtJOOLDsix+62f/GIA//ovfqdmt/aZpMjIyUreDOlcaGhriS4tT3MgjXMnTfIOo7uST+qfKlGySwpTsGtl0hjgddAbsks7vDyYYiXVx9OhR0gln2Ofjke9oVlIJwuEwKWCan+IMbyOx4rhI3VJlSjZJYUp2jfjZBDYeAp1GSecP7FtiPNtLMpkBBvATJ7rBNjTicBvmT/E4CR5ec1ykLqkyJZukMCW7RvS0Ux/pDDWUdH7Wc9o5nwNMcAuX8kj+MVVY1reyYd6lO/mk7qkyJZukMCW7RvTsHACdPU0bnmtZFl968B8B6OFqTnATe/lq/nFVWNZXqGFed/JJ3Wtrg7m5Wl+F7EAKU7LjWZbF4OAgHo+HwcHBov1M0TFnRlRnX8uGrzk0NMTzS88B4OFdZGjEw1cAVVhKtZMa5kUA8Pthdhbs0voqRVzaTkZ2NHdj4mSuND86OsrRo0cB1nx4R8ed+VKde70bvq67Jcp38VUe5HY8ZBjPDZ684447FAxELkbt7U6QSiadKpVIiVSZkh3t7rvvJplM8g7ewiEe5wDtRRvEo5POfKnO/Rv/knSX8X6Q9wBwDY/wELMAPPDAA9W6fBGpJ+3tztfZ2dpeh+w4ClOyY1mWRSQS4TZ6+TQf5BTXchtvA5wK1YXLfdGIM1+q86B/w9d2l/E+xjd4E79LGx/ALfyr+VzkIuWGqURi/fNELqAwJTuWW31q4L3M0UYfz/Edfo5mnNEHK+dBWZbF5/7NWaa78eU3bDgnyjRNQqEQZ4FP8nt8g0/lH1PzuchFyp/7i5YqU1ImhSnZsdwKUZjv5Sb+H3v5PZ7jCi7n5QD55T63ryq10EoHMUZPj5Q0ePOee+7R7f0iu4mW+WSTFKZkx+rv72c/bYxwBPgOJ3F6mbq5JX9OOBxmaGiIZDJJhk78RAFKGryp2/tFdhmFKdkkhSnZsYaHh7m08WZsPER5lDhR9jHCEjfmz+nv789XsBbopp3p/GOl9D7p9n6RXcRd5lPPlJRJYUp2NL/hBKczuenke3mUs9wALC/JuT1Os+zBz1j+uep9EpFVVJmSTVKYkh3J7YOaS19NkEnmOEtTUxPtnsc5xWW04cPrdeZJuVubROnDmwtT6n0SkTUUpmSTFKZkR3L7oMa4kf5cVSqdTpPMPoyNhwGuJRKJ5Ad4/vmfHyNCH82Mq/dJRArTaATZJE1Alx3J6XcyOMnVvJQP5Y+P5YJVJzcA38o3mn/nG8dJ08zrXnMTv/DASC0uWUTqXUsLNDaqMiVlU2VKdqT+/n562McCrdicyB8/zWk6mQGuzx8Lh8OMH48C0LdP/8mLSBGG4TShx+O1vhLZYfTJIjvS8PAwB5suB2COkwAYhjOss5+nmeXK/Ln9/f2MnXDK9n0HN97kWER2sUBAYUrKpjAlO5Jpmtz+srcAMMkpBgYGuPPOO/H5fAR4hnO5MOU2mo+fSgGw59DGmxyLyC4WCEA0WuurkB1GPVOyYzVkBjDIcjz+FC3+ZgBe9rKX8YmffpapVB9X772G3/iTX8c0Tf70LQ8B0HdZoJaXLCL1LhCAWKzWVyE7jMKU7FinTjeyv2GMFv++/DHTNOl64SE+91647zfv5zbzBgDGz6ZpYpGuq/cVeTUREZwwpc3MpUxa5pMd61TEzyH/1Jrj4cyTAPzWz32YwcFBLMtibMyg15jE42/b7ssUkZ1ElSnZBIUp2ZEsy+KFRDfp6CP5wOQe/6X3v5tWUni4ktHRUd7+9rfzxPEoAfv8qnNFRNbo7FSYkrJpmU92HMuy+JV3/izjTDPISUZHR/PDOYeGhkjNz3GE48zlmtDT6TSz9NLBeZ5eca6GdorIGu7dfLbtjEoQKYEqU7LjDA0N0TXfg42HRU4B5IdzupsXh3iC0RWzpqLsoZnxVeeKiKwRCEAmA3Nztb4S2UEUpmTHCYfDdHEYgHguTLnH3c2LW/k24+yjkwO00s04+2jlmVXnioisEcjd8avxCFIGhSnZcfr7+2nlEADjK8JUf39/flPjFN8CYB+3sI8XAbDIQ6vOFRFZww1T6puSMihMyY4zPDxMg3EJzSwQ4xywPJzTNE2OHTvGVGeYZhZo5xba+C4Msozz8KpzRUTW6Ox0vqoyJWVQmJIdxzRNWgLXs5cwhgEDAwMcO3ZsVUP5+cUEV/IdZnkJaW7mMo5zigShUGjNuSIieaGQ8zUSqe11yI6iu/lkRxqb38cVvQlGxrNrHhsaGiKZTNLNt/g6R2lllpfweY4DqVRq+y9WRHYOhSnZBFWmZOexbU7N7+HQnsLByG0un8aigQwz9JLmQUB38onIBhSmZBMUpmTHib8wSYRuDg3aBR93m8sf4SHez/W8if/Dk3wy/7ju5BORovx+aGxUmJKyKEzJjmJZFm94yZsA+NyXP1Zwmrl7Rx/AXZzik/wSYyxvO6M7+USkKMNwqlMKU1IGhSnZMSzL4ujRo6QjfgBG449x9OjRNYHKvaMv5JbrV9CdfCKyoVAIptbu+ylSjMKU7BhuY3lLbsbUGKeK9kCZpsnU1BSf+MQnGBgYwDCMgnf9iYisocqUlEl388mO4fY6ZbiUADPEmF51vBDTNBWeRKQ8oRA8/3ytr0J2EFWmZMdwe50SHGE/z685LiJSFb29MDFR66uQHURhSnYMt7F8giN0cgJQD5SIbIG9e2FyEtLpWl+J7BAKU7JjmKbJvX92jHP04+V59UCJyNbYu9f5quqUlEhhSnaUW/bfRpYGfvKdr2RkZERBSkSqzw1T58/X9jpkx1CYkh3l+f8eB+DSFwdrfCUictHas8f5qjAlJVKYkh3Dsizu+8C/APCO3zULDuwUEamYW5kaG6vtdciOoTAlO4I7sDM5f4BOpnnm3BMFB3aKiFTMrUydO1fb65AdQ2FKdgR3YGeCy9iTG4ugTYtFZEs0NTnVqdHRWl+J7BAKU7IjuIM5T3IDQR5bc1xEpKoOHYJTp2p9FbJDKEzJjtDf308vB5khRCOPrDouIlJ1ClNSBoUp2RGGh4c52PhiAGZzYUoDO0Vkyxw+DKdPa3CnlERhSnaMNm7CQ4ZRHicUCmlgp4hsnUOHIJsFtRJICRSmpO65d/LNLV3DYY4TIUUqlar1ZYnIxeyKK5yvTz9d2+uQHUFhSuqeeyffOW6kL7fEpzv5RGRLXXON8/Xxx2t7HbIjKExJ3QuHw+zlEOc5SCPfWnVcRGRL+P3OUt8TT9T6SmQHUJiSuhcMBjnIawE4xwP547qTT0S21PXXw8MP1/oqZAdQmJK6ZlkW8XiceV7LJRznBC8A0NzcrDv5RGRr3XYbnDihSeiyIYUpqWtDQ0N40k0c55UM8v+wc8f9fr/u5BORrfXKVzpfv/zlWl6F7AAKU1K3LMtidHSU63kjC7QyzWfzj01PT9fwykRkV7jhBujpgX/6p1pfidS5ksKUYRivNgzjuGEYJwzD+PUCjxuGYXww9/jjhmHcVP1Lld3krrvu4q1vfSvQxBl+i2t4kEf4cv5x9UuJyJZraIA3vxk++1mYmqr11Ugd2zBMGYbRAHwYeA1wFfAmwzCuuuC01wBHcv8cBT5S5euUi4hlWXR3d2MYRtF/PvKRj2DbNi/llznHIbr5nfzzNflcRLbNnXc6U9B/93drfSVSx0qpTL0YOGHb9knbtheBvwXecME5bwA+bju+CXQahrG3ytcqFwHLsnj7299OJBJZ97xW2nkp7+Ub/CG38g98mc/lH9PkcxHZNldcAT/7s/DhD8Mf/AHMztb6iqQONZZwzn7g9Io/nwFuKeGc/cD5iq6uEiMj8Gu/tvqYba//51LO2cxzavm6tXzvAs+59Jvf5N/Tab7AW/g6/wMbD1k8+a9pWojTyymu4hu0cBt/y3d4W/75AwMDClIisr0+8AHnjr6hIRgehquuglAImpqcfxobwTBqfZW72/d/P7zznTV7+1LCVKH/Qi78lCzlHAzDOIqzDLj1PS+pFDz55NrjF/4HX+6f9RoVvUZyYQEbmGQvJ7kGD1kMsvmvjaTxc46X8u/E+Hv+m4dWvIyh5T0R2X7NzfD3fw9f+xr83d/B8eMwM+Ms/6XTsLRU6yuUq6+u6duXEqbOAAdX/PkAcOHQjVLOwbbtY8AxgJtvvrlAqaOKrrxSeyrVobcPDjI6Ogr8Se6f0t15552qSolIbRiGM3fqtttqfSVSh0rpmXoQOGIYxiHDMJqBNwKfueCczwBvy93V9xIgZtt27Zb4pG4NDw/T1NRU1nMMw+BnfuZnuPfee7foqkRERDZvwzBl2/YS8G7g88AzwN/Ztv2UYRh3GoZxZ+60B4CTwAngL4C7tuh6ZYczTZOPfexjhEKhdc/zeJz/NAcGBrj//vsVpEREpG4ZdqHG4m1w88032w899NDGJ4qIiIjUmGEYD9u2fXOhxzQBXURERKQCClMiIiIiFVCYEhEREamAwpSIiIhIBRSmRERERCqgMCUiIiJSAYUpERERkQooTImIiIhUQGFKREREpAIKUyIiIiIVUJgSERERqYDClIiIiPz/7dxPiJR1HMfx9wclDxFUuJpkfzbYDhohJF6iKIq0iMxAsNNCQQl5T/FQ5CWK6NBfCiQPlXixpL9uHvIkpSTlltZqVraS/Tl0KIy1b4f5TTxtz6ybTzO/2f19XjDMzPObYb77+f129zvP88xYA26mzMzMzBpwM2VmZmbWgJspMzMzswbcTJmZmZk14GbKzMzMrAE3U2ZmZmYNuJkyMzMza8DNlJmZmVkDiog8Lyz9CHyT5cXPbj7wU+4i+oBzcAbgDMAZgDNocw7lZnBFRAzUDWRrpvqZpP0RsTx3Hbk5B2cAzgCcATiDNufgDOr4MJ+ZmZlZA26mzMzMzBpwM1XvpdwF9Ann4AzAGYAzAGfQ5hycwb/4nCkzMzOzBrxnyszMzKwBN1MVkp6UdFjSp5J2Srowbb9S0u+SDqbLi5lL7ZpOGaSxTZLGJB2RtDJjmV0laa2kUUl/Slpe2V7SOqjNII0VsQ4mk/SopO8r839H7pp6RdKqNN9jkjbmricHScclfZbmfn/uenpB0lZJpyQdqmy7WNKIpK/S9UU5a+wXbqb+aQS4JiKuBb4ENlXGjkbEsnRZn6e8nqjNQNISYB2wFFgFPC9pTrYqu+sQcA+wt2aslHVQm0Fh66DO05X5fyd3Mb2Q5vc54HZgCXBvWgclujnNfSlfC/AKrd/zqo3AnogYAvak+8VzM1UREbsjYiLd3QcszllPDlNksBrYHhGnI+JrYAxYkaPGbouILyLiSO46cpoig2LWgf1tBTAWEcci4g9gO611YLNcROwFfpm0eTWwLd3eBtzdy5r6lZupzu4D3q3cH5T0iaQPJd2Qq6geq2ZwKfBdZexE2laaEtdBVenrYEM6BL61oMMbpc95WwC7JR2Q9EDuYjJaGBEnAdL1gsz19IW5uQvoNUkfAJfUDG2OiDfTYzYDE8CraewkcHlE/CzpOuANSUsj4teeFP0/O8cMVPP4GftR0OlkUKO4dVD3tJptM3YdTDZVJsALwBZaP+8W4Clabzhmu1k95//B9RExLmkBMCLpcNpzY1ZeMxURt041LmkYuBO4JdL3RkTEaeB0un1A0lHgamBGnoR4LhnQejd6WeVhi4Hx7lTYfWfLoMNziloHHcyqdTDZdDOR9DLwVpfL6Rezes6nKyLG0/UpSTtpHf4ssZn6QdKiiDgpaRFwKndB/cCH+SokrQIeBu6KiN8q2wfaJ9lKugoYAo7lqbK7OmUA7ALWSZonaZBWBh/lqDGXktbBFIpdB+kfR9saWifpl+BjYEjSoKTzaH0AYVfmmnpK0vmSLmjfBm6jnPmfbBcwnG4PA532YheluD1TZ/EsMI/WLlyAfekTWzcCj0maAM4A6yNi8kl5s0VtBhExKmkH8Dmtw38PRcSZjHV2jaQ1wDPAAPC2pIMRsZKC1kGnDEpaBzWekLSM1iGu48CDWavpkYiYkLQBeB+YA2yNiNHMZfXaQmBn+ps4F3gtIt7LW1L3SXoduAmYL+kE8AjwOLBD0v3At8DafBX2D38DupmZmVkDPsxnZmZm1oCbKTMzM7MG3EyZmZmZNeBmyszMzKwBN1NmZmZmDbiZMjMzM2vAzZSZmZlZA26mzMzMzBr4C6g8n3HCvd/5AAAAAElFTkSuQmCC\n",
      "text/plain": [
       "<Figure size 720x720 with 1 Axes>"
      ]
     },
     "metadata": {
      "needs_background": "light"
     },
     "output_type": "display_data"
    }
   ],
   "source": [
    "i = 800\n",
    "plt.rcParams['figure.figsize'] = 10, 10\n",
    "plt.plot(xdos, ldos[i], c = 'r')\n",
    "plt.plot(n_xdos[i], n_ldos[i], c= 'b')\n",
    "plt.scatter(n_xdos[i], n_ldos[i], c= 'black')"
   ]
  },
  {
   "cell_type": "code",
   "execution_count": 11,
   "id": "09c7a867",
   "metadata": {
    "ExecuteTime": {
     "end_time": "2023-03-28T18:27:27.057463Z",
     "start_time": "2023-03-28T18:27:26.915255Z"
    }
   },
   "outputs": [],
   "source": [
    "np.save(\"n_ldos.npy\", n_ldos)\n",
    "np.save(\"n_xdos.npy\", n_xdos)"
   ]
  },
  {
   "cell_type": "markdown",
   "id": "90dbdbbf",
   "metadata": {},
   "source": [
    "## Quartic dataset"
   ]
  },
  {
   "cell_type": "code",
   "execution_count": 12,
   "id": "b39aaea9",
   "metadata": {
    "ExecuteTime": {
     "end_time": "2023-03-28T18:27:27.116654Z",
     "start_time": "2023-03-28T18:27:27.059505Z"
    }
   },
   "outputs": [],
   "source": [
    "#Determine bounds\n",
    "#Determine right_bound as highest eigenenergy\n",
    "rbounds = determine_rightbounds(full_eigen_energies)\n",
    "efermi = torch.tensor(efermi)"
   ]
  },
  {
   "cell_type": "code",
   "execution_count": 13,
   "id": "41cf0c12",
   "metadata": {
    "ExecuteTime": {
     "end_time": "2023-03-28T18:27:27.223076Z",
     "start_time": "2023-03-28T18:27:27.117939Z"
    }
   },
   "outputs": [
    {
     "data": {
      "text/plain": [
       "torch.return_types.max(\n",
       "values=tensor(-4.3758),\n",
       "indices=tensor(723))"
      ]
     },
     "execution_count": 13,
     "metadata": {},
     "output_type": "execute_result"
    }
   ],
   "source": [
    "torch.max(efermi, dim = 0)"
   ]
  },
  {
   "cell_type": "code",
   "execution_count": 14,
   "id": "e604bc88",
   "metadata": {
    "ExecuteTime": {
     "end_time": "2023-03-28T18:27:27.260371Z",
     "start_time": "2023-03-28T18:27:27.225432Z"
    }
   },
   "outputs": [
    {
     "data": {
      "text/plain": [
       "torch.return_types.min(\n",
       "values=tensor(-7.8526),\n",
       "indices=tensor(346))"
      ]
     },
     "execution_count": 14,
     "metadata": {},
     "output_type": "execute_result"
    }
   ],
   "source": [
    "torch.min(efermi, dim = 0)"
   ]
  },
  {
   "cell_type": "code",
   "execution_count": 15,
   "id": "f4807872",
   "metadata": {
    "ExecuteTime": {
     "end_time": "2023-03-28T18:27:27.338527Z",
     "start_time": "2023-03-28T18:27:27.262592Z"
    }
   },
   "outputs": [
    {
     "data": {
      "text/plain": [
       "tensor(1)"
      ]
     },
     "execution_count": 15,
     "metadata": {},
     "output_type": "execute_result"
    }
   ],
   "source": [
    "torch.min(torch.min(torch.tensor([5,1])), torch.tensor(2))"
   ]
  },
  {
   "cell_type": "code",
   "execution_count": 16,
   "id": "8688a737",
   "metadata": {
    "ExecuteTime": {
     "end_time": "2023-03-28T18:27:27.394087Z",
     "start_time": "2023-03-28T18:27:27.340554Z"
    }
   },
   "outputs": [],
   "source": [
    "def quartic_dos(energies,xdos, sigma):\n",
    "   \n",
    "    left_b = energies - (np.sqrt(7) * sigma)\n",
    "\n",
    "    output = torch.zeros_like(xdos)\n",
    "\n",
    "    left_bound = torch.searchsorted(xdos, left_b)\n",
    "    \n",
    "    xdos_interval = xdos[1]-xdos[0]\n",
    "    interval = int((2 * (np.sqrt(7) * sigma))/xdos_interval) + 1\n",
    "    indexes = torch.clamp(left_bound.repeat(interval,1) + torch.arange(0,interval,1).view(-1,1), 0, len(xdos)-1)\n",
    "                     \n",
    "    E = torch.clamp((energies.view(1,-1) - xdos[indexes]), min = -1* (np.sqrt(7) * sigma), max = (np.sqrt(7) * sigma))\n",
    "    values = (E**2 - (7 * (sigma**2))) **2 / ((16/15) * (np.sqrt(7) * sigma)**5)\n",
    "    output.index_add_(0, indexes.flatten(), values.flatten())\n",
    "\n",
    "#     output = -1 * output\n",
    "    \n",
    "    return output"
   ]
  },
  {
   "cell_type": "code",
   "execution_count": 17,
   "id": "2ba1f126",
   "metadata": {
    "ExecuteTime": {
     "end_time": "2023-03-28T18:27:28.972518Z",
     "start_time": "2023-03-28T18:27:27.396060Z"
    }
   },
   "outputs": [],
   "source": [
    "#1\n",
    "full_eigen_energies = [torch.tensor(i.flatten()) for i in eigen_energies]\n",
    "sorted_full_eigen_energies = [torch.sort(i)[0] for i in full_eigen_energies]\n",
    "#2\n",
    "#Sticking to sigma=0.3, 2eV above the max fermi level will correspond to max energy of 2.8ev above the max fermi level\n",
    "sorted_full_eigen_energies_2 = []\n",
    "for e in sorted_full_eigen_energies:\n",
    "    \n",
    "    sorted_full_eigen_energies_2.append(e[:torch.searchsorted(e, torch.max(efermi) + 2.8)])\n",
    "#3\n",
    "sorted_full_eigen_energies_3 = []\n",
    "for i,e in enumerate(sorted_full_eigen_energies):    \n",
    "    sorted_full_eigen_energies_3.append(e[:torch.searchsorted(e, efermi[i] + 2.8)])"
   ]
  },
  {
   "cell_type": "code",
   "execution_count": 18,
   "id": "a1c84cfa",
   "metadata": {
    "ExecuteTime": {
     "end_time": "2023-03-28T18:27:32.023031Z",
     "start_time": "2023-03-28T18:27:28.974803Z"
    }
   },
   "outputs": [
    {
     "name": "stderr",
     "output_type": "stream",
     "text": [
      "100%|█████████████████████████████████████████████████████████████████████████████████████████████████████████████████████████████████████████████████████████████████████████| 1039/1039 [00:03<00:00, 343.44it/s]\n"
     ]
    }
   ],
   "source": [
    "##Generate individual xdos, ldos\n",
    "\n",
    "\n",
    "n_xdos2 = []\n",
    "n_ldos2 = []\n",
    "\n",
    "sigma = torch.tensor(0.3)\n",
    "ndos = 778 #+ int(30/0.05)\n",
    "\n",
    "\n",
    "emin = -24.5537\n",
    "emax = 11.3464\n",
    "for i in tqdm(range(n_structures)):\n",
    "    #steps = int((rbounds[i].item()- (10 * sigma) - lbounds[i].item() - 1.5)/0.05)\n",
    "    x_dos2 = torch.linspace(emin - 1.5, emax + 1.5,ndos)\n",
    "    l_dos2 = quartic_dos(sorted_full_eigen_energies[i], x_dos2, sigma)#torch.sum(torch.exp(-0.5*((x_dos - full_eigen_energies[i].view(-1,1))/sigma)**2), dim = 0)\n",
    "    n_xdos2.append(x_dos2)\n",
    "    n_ldos2.append(l_dos2)\n",
    "    \n",
    "n_xdos2 = torch.vstack(n_xdos2)\n",
    "n_ldos2 = torch.vstack(n_ldos2)\n",
    "n_ldos2 = ((n_ldos2.T * normalization_quartic ).T)* 2\n",
    "\n",
    "#Do cutting here?"
   ]
  },
  {
   "cell_type": "code",
   "execution_count": 19,
   "id": "bd2416a2",
   "metadata": {
    "ExecuteTime": {
     "end_time": "2023-03-28T18:27:32.177431Z",
     "start_time": "2023-03-28T18:27:32.024502Z"
    }
   },
   "outputs": [
    {
     "data": {
      "text/plain": [
       "<matplotlib.collections.LineCollection at 0x7f0be1a0e580>"
      ]
     },
     "execution_count": 19,
     "metadata": {},
     "output_type": "execute_result"
    },
    {
     "data": {
      "image/png": "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\n",
      "text/plain": [
       "<Figure size 720x720 with 1 Axes>"
      ]
     },
     "metadata": {
      "needs_background": "light"
     },
     "output_type": "display_data"
    }
   ],
   "source": [
    "i = 700\n",
    "#plt.plot(n_xdos[i], n_ldos[i], c= 'r')\n",
    "plt.plot(xdos, ldos[i], c= 'b')\n",
    "plt.plot(xdos, n_ldos2[i], c= 'g')\n",
    "plt.vlines(x = efermi[i], ymin = -0.05, ymax = 0.7)"
   ]
  },
  {
   "cell_type": "markdown",
   "id": "2e6d966f",
   "metadata": {},
   "source": [
    "Datasets generated: <br/>\n",
    "1) Full quartic dataset <br/> \n",
    "2) Up to max(Efermi + 2) <br/> \n",
    "3) Up to Efermi + 2 for everyone <br/>\n"
   ]
  },
  {
   "cell_type": "code",
   "execution_count": 20,
   "id": "d7db2fbe",
   "metadata": {
    "ExecuteTime": {
     "end_time": "2023-03-28T18:27:34.926435Z",
     "start_time": "2023-03-28T18:27:32.178816Z"
    }
   },
   "outputs": [
    {
     "name": "stderr",
     "output_type": "stream",
     "text": [
      "100%|█████████████████████████████████████████████████████████████████████████████████████████████████████████████████████████████████████████████████████████████████████████| 1039/1039 [00:02<00:00, 381.87it/s]\n"
     ]
    }
   ],
   "source": [
    "##Generate Full quartic dataset\n",
    "\n",
    "\n",
    "full_xdos = []\n",
    "full_ldos = []\n",
    "\n",
    "sigma = torch.tensor(0.3)\n",
    "ndos = 778 #+ int(30/0.05)\n",
    "\n",
    "\n",
    "emin = -24.5537\n",
    "emax = 11.3464\n",
    "\n",
    "\n",
    "\n",
    "full_xdos = torch.arange(emin - 1.5, emax + 1.5,0.05)\n",
    "for i in tqdm(range(n_structures)):\n",
    "    #steps = int((rbounds[i].item()- (10 * sigma) - lbounds[i].item() - 1.5)/0.05)\n",
    "    #x_dos2 = torch.linspace(emin - 1.5, emax + 1.5,ndos)\n",
    "    full_ldos_i = quartic_dos(sorted_full_eigen_energies[i], full_xdos, sigma)#torch.sum(torch.exp(-0.5*((x_dos - full_eigen_energies[i].view(-1,1))/sigma)**2), dim = 0)\n",
    "#     n_xdos2.append(x_dos2)\n",
    "    full_ldos.append(full_ldos_i)\n",
    "    \n",
    "#n_xdos2 = torch.vstack(n_xdos2)\n",
    "full_ldos = torch.vstack(full_ldos)\n",
    "full_ldos = ((full_ldos.T * normalization_quartic ).T)* 2\n",
    "\n",
    "#Do cutting here?"
   ]
  },
  {
   "cell_type": "code",
   "execution_count": 21,
   "id": "1f22b83e",
   "metadata": {
    "ExecuteTime": {
     "end_time": "2023-03-28T18:27:36.860974Z",
     "start_time": "2023-03-28T18:27:34.928494Z"
    }
   },
   "outputs": [
    {
     "name": "stderr",
     "output_type": "stream",
     "text": [
      "100%|█████████████████████████████████████████████████████████████████████████████████████████████████████████████████████████████████████████████████████████████████████████| 1039/1039 [00:01<00:00, 542.76it/s]\n"
     ]
    }
   ],
   "source": [
    "## Generate up to max(Efermi + 2)\n",
    "full_xdos_2 = []\n",
    "full_ldos_2 = []\n",
    "\n",
    "sigma = torch.tensor(0.3)\n",
    "ndos = 778 #+ int(30/0.05)\n",
    "\n",
    "\n",
    "emin = -24.5537\n",
    "emax = torch.max(efermi)\n",
    "\n",
    "\n",
    "\n",
    "full_xdos_2 = torch.arange(emin - 1.5, emax + 1,0.05)\n",
    "for i in tqdm(range(n_structures)):\n",
    "    #steps = int((rbounds[i].item()- (10 * sigma) - lbounds[i].item() - 1.5)/0.05)\n",
    "    #x_dos2 = torch.linspace(emin - 1.5, emax + 1.5,ndos)\n",
    "    full_ldos_i = quartic_dos(sorted_full_eigen_energies_2[i], full_xdos, sigma)#torch.sum(torch.exp(-0.5*((x_dos - full_eigen_energies[i].view(-1,1))/sigma)**2), dim = 0)\n",
    "#     n_xdos2.append(x_dos2)\n",
    "    full_ldos_2.append(full_ldos_i)\n",
    "    \n",
    "#n_xdos2 = torch.vstack(n_xdos2)\n",
    "full_ldos_2 = torch.vstack(full_ldos_2)\n",
    "full_ldos_2 = ((full_ldos_2.T * normalization_quartic ).T)* 2\n",
    "\n",
    "#Do cutting here?"
   ]
  },
  {
   "cell_type": "code",
   "execution_count": 22,
   "id": "7e5016a7",
   "metadata": {
    "ExecuteTime": {
     "end_time": "2023-03-28T18:27:36.864978Z",
     "start_time": "2023-03-28T18:27:36.862462Z"
    }
   },
   "outputs": [],
   "source": [
    "# ## Generate up to Efermi + 2 (4?)\n",
    "\n",
    "# full_xdos_3 = []\n",
    "# full_ldos_3 = []\n",
    "\n",
    "# sigma = torch.tensor(0.3)\n",
    "# ndos = 778 #+ int(30/0.05)\n",
    "\n",
    "\n",
    "# emin = -24.5537\n",
    "# emax = torch.max(efermi)\n",
    "\n",
    "\n",
    "\n",
    "\n",
    "# for i in tqdm(range(n_structures)):\n",
    "#     xdos_3 = torch.arange(emin - 1.5, efermi[i] + 1,0.05)\n",
    "#     #steps = int((rbounds[i].item()- (10 * sigma) - lbounds[i].item() - 1.5)/0.05)\n",
    "#     #x_dos2 = torch.linspace(emin - 1.5, emax + 1.5,ndos)\n",
    "#     full_ldos_i = quartic_dos(sorted_full_eigen_energies_3[i], full_xdos, sigma)#torch.sum(torch.exp(-0.5*((x_dos - full_eigen_energies[i].view(-1,1))/sigma)**2), dim = 0)\n",
    "#     full_xdos_3.append(xdos_3)\n",
    "#     full_ldos_3.append(full_ldos_i)\n",
    "    \n",
    "# full_xdos_3 = torch.vstack(full_xdos_3)\n",
    "# full_ldos_3 = torch.vstack(full_ldos_3)\n",
    "# full_ldos_3 = ((full_ldos_3.T * normalization_quartic ).T)* 2\n",
    "\n",
    "# #Do cutting here?"
   ]
  },
  {
   "cell_type": "markdown",
   "id": "741e904d",
   "metadata": {},
   "source": [
    "## Gradient descent in loss functions"
   ]
  },
  {
   "cell_type": "code",
   "execution_count": 23,
   "id": "e1585d2a",
   "metadata": {
    "ExecuteTime": {
     "end_time": "2023-03-28T18:27:37.033514Z",
     "start_time": "2023-03-28T18:27:36.866303Z"
    }
   },
   "outputs": [],
   "source": [
    "from dostools.loss.loss import t_get_mse"
   ]
  },
  {
   "cell_type": "code",
   "execution_count": 24,
   "id": "f184caef",
   "metadata": {
    "ExecuteTime": {
     "end_time": "2023-03-28T09:09:10.690468Z",
     "start_time": "2023-03-28T09:09:10.688284Z"
    }
   },
   "outputs": [],
   "source": [
    "#Goal is to only evaluate loss on the relevant energies\n",
    "# 1) Need to know the range of relevant energies \n",
    "# 2) Should train the energy levels individually,\n",
    "# 3) Need a dataset class\n",
    "# 4) Model receives data and determines which one to feed to\n",
    "# 5) Optimizer updates all relevant weights at once\n",
    "\n",
    "# To define Loss\n",
    "# 1) String together all the xdos, ldos values\n",
    "# 2) Calculate loss on that interval"
   ]
  },
  {
   "cell_type": "code",
   "execution_count": 25,
   "id": "a5769926",
   "metadata": {
    "ExecuteTime": {
     "end_time": "2023-03-28T09:09:10.701171Z",
     "start_time": "2023-03-28T09:09:10.691883Z"
    }
   },
   "outputs": [],
   "source": [
    "# Quartic polynomials\n",
    "# 1) "
   ]
  },
  {
   "cell_type": "code",
   "execution_count": 26,
   "id": "8f890103",
   "metadata": {
    "ExecuteTime": {
     "end_time": "2023-03-28T09:09:10.711618Z",
     "start_time": "2023-03-28T09:09:10.702579Z"
    }
   },
   "outputs": [],
   "source": [
    "#Need to see if i should align all at once or just one at a time"
   ]
  },
  {
   "cell_type": "code",
   "execution_count": 24,
   "id": "3df1b4bc",
   "metadata": {
    "ExecuteTime": {
     "end_time": "2023-03-28T18:27:59.676064Z",
     "start_time": "2023-03-28T18:27:59.655340Z"
    }
   },
   "outputs": [],
   "source": [
    "def MSE_shift_discrete(pred: torch.tensor, target_eigvals: list, normalization:torch.tensor, xdos: torch.tensor, rbound:int, n_epochs:int, draw = False):\n",
    "    #cannot rely solely on error values because pred might look different from target\n",
    "    alignments = []\n",
    "    all_mse = []\n",
    "    sigma = 0.3\n",
    "    patience = 20\n",
    "    counter = 0\n",
    "###DRAW\n",
    "    if draw:\n",
    "        fig, ax_list = plt.subplots(1,1)\n",
    "    #     ax_list = ax_list.flatten()\n",
    "        line, = ax_list.plot(xdos, pred[0], label = \"Aligned True\")\n",
    "        z, = ax_list.plot(xdos, pred[0], label = \"Prediction\")\n",
    "        ax_list.vlines(x = -2.3231, ymin = -0.05, ymax = 1, color = 'black')\n",
    "        fig.legend([line,z], labels = [\"Aligned True\", \"Prediction\"], loc = \"lower center\")\n",
    "\n",
    "    for i in tqdm(range(len(target_eigvals))):        \n",
    "        xdos_i = xdos\n",
    "        shift = torch.nn.parameter.Parameter(torch.tensor(0.))\n",
    "        best_mse = torch.tensor(1)\n",
    "        best_state = shift.clone()\n",
    "        opt_LBFGS = torch.optim.LBFGS([shift], lr = 100, line_search_fn = 'strong_wolfe')#, weight_decay = 0)\n",
    "        opt_adam = torch.optim.Adam([shift], lr = 1, weight_decay = 0)\n",
    "        scheduler = torch.optim.lr_scheduler.ReduceLROnPlateau(opt_adam, factor = 0.1, patience = 20, threshold = 1e-7, min_lr = 0.01)\n",
    "        if draw:\n",
    "            z.set_ydata(pred[i].detach().numpy())\n",
    "        prev_mse = torch.tensor(1)\n",
    "        for epoch in range(n_epochs):            \n",
    "            opt_LBFGS.zero_grad()\n",
    "            def closure():\n",
    "                opt_LBFGS.zero_grad()\n",
    "                ldos_i = quartic_dos(target_eigvals[i] + shift, xdos_i, sigma)\n",
    "                ldos_i = ((ldos_i * normalization[i] ))* 2\n",
    "                mse = t_get_mse(pred[i,:rbound], ldos_i[:rbound])\n",
    "                mse.backward()\n",
    "                return mse\n",
    "                            \n",
    "            \n",
    "            if epoch == 0:\n",
    "                opt_LBFGS.step(closure)\n",
    "            else:\n",
    "                opt_adam.step(closure)\n",
    "            \n",
    "            with torch.no_grad():\n",
    "                ldos_i = quartic_dos(target_eigvals[i] + shift, xdos_i, sigma)\n",
    "                ldos_i = ((ldos_i * normalization[i] ))* 2\n",
    "                mse = t_get_mse(pred[i,:rbound], ldos_i[:rbound])\n",
    "                scheduler.step(mse)\n",
    "            if mse < best_mse:\n",
    "                \n",
    "                best_mse = mse.detach().clone()\n",
    "                best_state = shift.detach().clone()\n",
    "            \n",
    "            if mse < prev_mse * (1 - 1e-3):\n",
    "                counter = 0 \n",
    "            else:\n",
    "                counter +=1\n",
    "            prev_mse = mse\n",
    "#                 counter += 1\n",
    "#                 if counter >= patience:\n",
    "#                     shift = torch.nn.parameter.Parameter(torch.tensor(best_state))\n",
    "#                     counter = 0\n",
    "#             else:\n",
    "                \n",
    "##DRAW      \n",
    "            if draw:\n",
    "                ldos_i = quartic_dos(target_eigvals[i] + shift, xdos_i, sigma)\n",
    "                ldos_i = ((ldos_i * normalization[i] ))* 2\n",
    "                line.set_ydata(ldos_i.detach().numpy())\n",
    "                fig.suptitle(\"Epochs: {}, Shift: {:.3}, Best Shift: {:.3}, Current loss:{:.3}, Best Loss: {:.3}, LR: {}\".format(epoch, shift.item(), best_state.item(), mse.item(), best_mse.item(), opt_adam.param_groups[0]['lr']))\n",
    "                fig.canvas.draw()\n",
    "                fig.canvas.flush_events()\n",
    "            \n",
    "            \n",
    "            if mse < 1e-10:\n",
    "#                 print (\"break at lr: {}, mse : {}, epoch : {}, shift: {}\". format(opt.param_groups[0]['lr'], mse, epoch, shift.item()))\n",
    "                break\n",
    "            if best_mse.item() > 1e-5 and counter >= patience: #does not really work because i dont know when the error is unacceptable, maybe only applies to trained models?\n",
    "                shift = torch.nn.parameter.Parameter(best_state)\n",
    "                opt_adam = torch.optim.Adam([shift], lr = opt_adam.param_groups[0]['lr'], weight_decay = 0)\n",
    "                counter = 0\n",
    "                    \n",
    "            if opt_adam.param_groups[0]['lr'] < 0.1 and (counter >= patience or mse.item() < 1e-10):\n",
    "#                 print (\"break at lr: {}, mse : {}, epoch : {}, shift: {}\". format(opt.param_groups[0]['lr'], mse, epoch, shift.item()))\n",
    "                break\n",
    "\n",
    "\n",
    "        alignments.append(torch.tensor(best_state.item()))\n",
    "        ldos_i = quartic_dos(target_eigvals[i] + shift, xdos_i, sigma)\n",
    "        ldos_i = ((ldos_i * normalization_quartic[i] ))* 2\n",
    "        mse = t_get_mse(pred[i,:rbound], ldos_i[:rbound])\n",
    "        all_mse.append(mse)\n",
    "                \n",
    "        \n",
    "    all_mse = torch.vstack(all_mse)\n",
    "    alignments = torch.vstack(alignments)\n",
    "    \n",
    "    return all_mse, alignments\n"
   ]
  },
  {
   "cell_type": "code",
   "execution_count": 28,
   "id": "2b98e3b3",
   "metadata": {
    "ExecuteTime": {
     "end_time": "2023-03-28T09:09:10.749700Z",
     "start_time": "2023-03-28T09:09:10.739094Z"
    }
   },
   "outputs": [],
   "source": [
    "def MSE_shift_continuous(x_pred, target): #Should make the model repredict the DOS at a shifted energy value\n",
    "    alignments = torch.nn.parameter.Parameter(torch.zeros(len(target)))\n",
    "    pass"
   ]
  },
  {
   "cell_type": "code",
   "execution_count": 29,
   "id": "f453e84d",
   "metadata": {
    "ExecuteTime": {
     "end_time": "2023-03-28T09:09:10.761648Z",
     "start_time": "2023-03-28T09:09:10.751098Z"
    }
   },
   "outputs": [],
   "source": [
    "def MSE_shift_fourier(x_pred, target):\n",
    "    alignments = torch.nn.parameter.Parameter(torch.zeros(len(target)))\n",
    "    pass"
   ]
  },
  {
   "cell_type": "code",
   "execution_count": 30,
   "id": "4341c8ae",
   "metadata": {
    "ExecuteTime": {
     "end_time": "2023-03-28T09:09:10.773716Z",
     "start_time": "2023-03-28T09:09:10.763048Z"
    }
   },
   "outputs": [],
   "source": [
    "def MSE_shift_continuous(pred, target): #shifts the prediction values, 1) want to extract the inner representation with a method. 2) modify the energy input values at the inner representation layer, 3) optimize the optimal alignment values \n",
    "    alignments = torch.nn.parameter.Parameter(torch.tensor(0.))\n",
    "    pass"
   ]
  },
  {
   "cell_type": "code",
   "execution_count": 31,
   "id": "dce1bd08",
   "metadata": {
    "ExecuteTime": {
     "end_time": "2023-03-28T09:09:13.682023Z",
     "start_time": "2023-03-28T09:09:10.775134Z"
    },
    "hide_input": false,
    "scrolled": true
   },
   "outputs": [
    {
     "name": "stderr",
     "output_type": "stream",
     "text": [
      "100%|█████████████████████████████████████████████████████████████████████████████████████████████████████████████████████████████████████████████████████████████████████████| 1039/1039 [00:02<00:00, 360.90it/s]\n"
     ]
    }
   ],
   "source": [
    "##Generate shifted quartic dataset\n",
    "\n",
    "\n",
    "full_xdos = []\n",
    "shifted_full_ldos = []\n",
    "\n",
    "sigma = torch.tensor(0.3)\n",
    "# ndos = 778 #+ int(30/0.05)\n",
    "\n",
    "\n",
    "emin = -24.5537\n",
    "emax = 11.3464\n",
    "\n",
    "true_alignments = (torch.rand(1039)-0.5) * 4\n",
    "\n",
    "full_xdos = torch.arange(emin - 1.5, emax + 3,0.05)\n",
    "for i in tqdm(range(n_structures)):\n",
    "    #steps = int((rbounds[i].item()- (10 * sigma) - lbounds[i].item() - 1.5)/0.05)\n",
    "    #x_dos2 = torch.linspace(emin - 1.5, emax + 1.5,ndos)\n",
    "    shifted_full_ldos_i = quartic_dos(sorted_full_eigen_energies[i] + true_alignments[i], full_xdos, sigma)#torch.sum(torch.exp(-0.5*((x_dos - full_eigen_energies[i].view(-1,1))/sigma)**2), dim = 0)\n",
    "#     n_xdos2.append(x_dos2)\n",
    "    shifted_full_ldos.append(shifted_full_ldos_i)\n",
    "    \n",
    "#n_xdos2 = torch.vstack(n_xdos2)\n",
    "shifted_full_ldos = torch.vstack(shifted_full_ldos)\n",
    "shifted_full_ldos = ((shifted_full_ldos.T * normalization_quartic ).T)* 2\n",
    "\n",
    "#Do cutting here?"
   ]
  },
  {
   "cell_type": "code",
   "execution_count": 45,
   "id": "5d799bc4",
   "metadata": {
    "ExecuteTime": {
     "end_time": "2023-03-28T09:15:09.443231Z",
     "start_time": "2023-03-28T09:15:09.429601Z"
    }
   },
   "outputs": [],
   "source": [
    "%matplotlib notebook\n",
    "matplotlib.rcParams['figure.figsize'] = (10, 10)"
   ]
  },
  {
   "cell_type": "code",
   "execution_count": 71,
   "id": "f051ead5",
   "metadata": {
    "ExecuteTime": {
     "end_time": "2023-03-28T09:24:31.410602Z",
     "start_time": "2023-03-28T09:22:05.148489Z"
    },
    "scrolled": false
   },
   "outputs": [
    {
     "name": "stderr",
     "output_type": "stream",
     "text": [
      "100%|██████████████████████████████████████████████████████████████████████████████████████████████████████████████████████████████████████████████████████████████████████████| 1039/1039 [02:26<00:00,  7.10it/s]\n"
     ]
    }
   ],
   "source": [
    "draw = False\n",
    "i = 0\n",
    "j = 1039\n",
    "\n",
    "mse3, shift3 = MSE_shift_discrete(shifted_full_ldos[i:i+j], sorted_full_eigen_energies[i:i+j], normalization_quartic[i:i+j], full_xdos, 479, 50, draw = draw)"
   ]
  },
  {
   "cell_type": "code",
   "execution_count": 74,
   "id": "0abdf5ac",
   "metadata": {
    "ExecuteTime": {
     "end_time": "2023-03-28T08:42:05.225253Z",
     "start_time": "2023-03-28T08:42:05.214183Z"
    }
   },
   "outputs": [
    {
     "data": {
      "text/plain": [
       "tensor(-1.9190)"
      ]
     },
     "execution_count": 74,
     "metadata": {},
     "output_type": "execute_result"
    }
   ],
   "source": []
  },
  {
   "cell_type": "code",
   "execution_count": 72,
   "id": "9ac56832",
   "metadata": {
    "ExecuteTime": {
     "end_time": "2023-03-28T09:24:32.266043Z",
     "start_time": "2023-03-28T09:24:32.211396Z"
    }
   },
   "outputs": [
    {
     "data": {
      "text/plain": [
       "tensor([[2.5008e-14],\n",
       "        [8.6894e-17],\n",
       "        [4.9784e-12],\n",
       "        ...,\n",
       "        [1.4592e-14],\n",
       "        [7.5228e-11],\n",
       "        [1.0957e-15]], grad_fn=<CatBackward0>)"
      ]
     },
     "execution_count": 72,
     "metadata": {},
     "output_type": "execute_result"
    }
   ],
   "source": [
    "mse3"
   ]
  },
  {
   "cell_type": "code",
   "execution_count": 89,
   "id": "7898fab8",
   "metadata": {
    "ExecuteTime": {
     "end_time": "2023-03-28T09:25:41.426267Z",
     "start_time": "2023-03-28T09:25:41.418967Z"
    }
   },
   "outputs": [
    {
     "name": "stdout",
     "output_type": "stream",
     "text": [
      "tensor([1.3265])\n",
      "tensor(1.3303)\n"
     ]
    }
   ],
   "source": [
    "i = 688\n",
    "print (shift3[i])\n",
    "print (true_alignments[i])"
   ]
  },
  {
   "cell_type": "code",
   "execution_count": 60,
   "id": "40a1b97b",
   "metadata": {
    "ExecuteTime": {
     "end_time": "2023-03-28T09:19:48.396900Z",
     "start_time": "2023-03-28T09:19:48.389107Z"
    }
   },
   "outputs": [
    {
     "data": {
      "text/plain": [
       "tensor(1.2854)"
      ]
     },
     "execution_count": 60,
     "metadata": {},
     "output_type": "execute_result"
    }
   ],
   "source": [
    "true_alignments[676]"
   ]
  },
  {
   "cell_type": "code",
   "execution_count": 77,
   "id": "4a4ed3a9",
   "metadata": {
    "ExecuteTime": {
     "end_time": "2023-03-28T09:24:43.922194Z",
     "start_time": "2023-03-28T09:24:43.915004Z"
    }
   },
   "outputs": [
    {
     "data": {
      "text/plain": [
       "(tensor([699]), tensor([0]))"
      ]
     },
     "execution_count": 77,
     "metadata": {},
     "output_type": "execute_result"
    }
   ],
   "source": [
    "torch.where(mse3 > 1e-2)"
   ]
  },
  {
   "cell_type": "code",
   "execution_count": 88,
   "id": "e4231d7f",
   "metadata": {
    "ExecuteTime": {
     "end_time": "2023-03-28T09:25:36.807297Z",
     "start_time": "2023-03-28T09:25:36.797372Z"
    }
   },
   "outputs": [
    {
     "data": {
      "text/plain": [
       "tensor([688, 693, 719, 721, 722, 738])"
      ]
     },
     "execution_count": 88,
     "metadata": {},
     "output_type": "execute_result"
    }
   ],
   "source": [
    "torch.where(abs(true_alignments[:,None] - shift3) > 3e-3)[0]"
   ]
  },
  {
   "cell_type": "code",
   "execution_count": 38,
   "id": "8cac988d",
   "metadata": {
    "ExecuteTime": {
     "end_time": "2023-03-28T09:10:34.392199Z",
     "start_time": "2023-03-28T09:10:34.384088Z"
    }
   },
   "outputs": [
    {
     "data": {
      "text/plain": [
       "tensor([361, 443, 676, 688, 691, 693, 702, 704, 707, 709, 711, 716, 719, 721,\n",
       "        722, 738])"
      ]
     },
     "execution_count": 38,
     "metadata": {},
     "output_type": "execute_result"
    }
   ],
   "source": [
    "torch.where(abs(true_alignments[:,None] - shift3) > 1e-3)[0]"
   ]
  },
  {
   "cell_type": "code",
   "execution_count": 1738,
   "id": "b9207494",
   "metadata": {
    "ExecuteTime": {
     "end_time": "2023-03-27T07:32:42.537574Z",
     "start_time": "2023-03-27T07:32:42.530046Z"
    }
   },
   "outputs": [
    {
     "data": {
      "text/plain": [
       "tensor([[1.5576]])"
      ]
     },
     "execution_count": 1738,
     "metadata": {},
     "output_type": "execute_result"
    }
   ],
   "source": [
    "shift3"
   ]
  },
  {
   "cell_type": "code",
   "execution_count": 1728,
   "id": "db043384",
   "metadata": {
    "ExecuteTime": {
     "end_time": "2023-03-27T07:28:19.697233Z",
     "start_time": "2023-03-27T07:28:19.689790Z"
    }
   },
   "outputs": [
    {
     "data": {
      "text/plain": [
       "tensor([1.3762])"
      ]
     },
     "execution_count": 1728,
     "metadata": {},
     "output_type": "execute_result"
    }
   ],
   "source": [
    "shift2[120]"
   ]
  },
  {
   "cell_type": "code",
   "execution_count": 1710,
   "id": "3abd89ab",
   "metadata": {
    "ExecuteTime": {
     "end_time": "2023-03-24T20:20:09.356270Z",
     "start_time": "2023-03-24T20:20:09.348458Z"
    }
   },
   "outputs": [
    {
     "data": {
      "text/plain": [
       "tensor([[1.0933]])"
      ]
     },
     "execution_count": 1710,
     "metadata": {},
     "output_type": "execute_result"
    }
   ],
   "source": [
    "shift[i:i+j]"
   ]
  },
  {
   "cell_type": "code",
   "execution_count": 1737,
   "id": "dde63b43",
   "metadata": {
    "ExecuteTime": {
     "end_time": "2023-03-27T07:32:37.966632Z",
     "start_time": "2023-03-27T07:32:37.955759Z"
    }
   },
   "outputs": [
    {
     "data": {
      "text/plain": [
       "tensor([1.5576])"
      ]
     },
     "execution_count": 1737,
     "metadata": {},
     "output_type": "execute_result"
    }
   ],
   "source": [
    "true_alignments[i:i+j]"
   ]
  },
  {
   "cell_type": "code",
   "execution_count": 1730,
   "id": "c9b6f264",
   "metadata": {
    "ExecuteTime": {
     "end_time": "2023-03-27T07:28:29.806935Z",
     "start_time": "2023-03-27T07:28:29.799782Z"
    }
   },
   "outputs": [
    {
     "data": {
      "text/plain": [
       "tensor(1.5576)"
      ]
     },
     "execution_count": 1730,
     "metadata": {},
     "output_type": "execute_result"
    }
   ],
   "source": [
    "true_alignments[120]"
   ]
  },
  {
   "cell_type": "code",
   "execution_count": 1318,
   "id": "485d78ed",
   "metadata": {
    "ExecuteTime": {
     "end_time": "2023-03-24T16:13:49.999565Z",
     "start_time": "2023-03-24T16:13:49.992527Z"
    }
   },
   "outputs": [
    {
     "data": {
      "text/plain": [
       "tensor([0.0303])"
      ]
     },
     "execution_count": 1318,
     "metadata": {},
     "output_type": "execute_result"
    }
   ],
   "source": [
    "normalization_quartic[685:686]"
   ]
  },
  {
   "cell_type": "code",
   "execution_count": 1549,
   "id": "25805705",
   "metadata": {
    "ExecuteTime": {
     "end_time": "2023-03-24T17:46:56.326119Z",
     "start_time": "2023-03-24T17:46:56.145469Z"
    }
   },
   "outputs": [
    {
     "data": {
      "image/png": "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\n",
      "text/plain": [
       "<Figure size 432x288 with 1 Axes>"
      ]
     },
     "metadata": {
      "needs_background": "light"
     },
     "output_type": "display_data"
    }
   ],
   "source": [
    "%matplotlib inline\n",
    "i = 26\n",
    "with torch.no_grad():\n",
    "    pred_opt_shift = quartic_dos(sorted_full_eigen_energies[i:i+1][0] + shift[i], full_xdos, sigma) * normalization_quartic[i:i+1][0]  * 2\n",
    "    plt.plot(full_xdos, pred_opt_shift, c= 'b')\n",
    "    plt.plot(full_xdos, shifted_full_ldos[i], c= 'g')\n",
    "    plt.vlines(x = -2.3231, ymin = -0.05, ymax = 1, color = 'black')"
   ]
  },
  {
   "cell_type": "code",
   "execution_count": 892,
   "id": "3da3e8ff",
   "metadata": {
    "ExecuteTime": {
     "end_time": "2023-03-22T15:03:23.141728Z",
     "start_time": "2023-03-22T15:03:23.130277Z"
    }
   },
   "outputs": [],
   "source": [
    "pred_opt_shift = quartic_dos(sorted_full_eigen_energies[0] - 0.6624, full_xdos, sigma) * normalization_quartic[0] * 2"
   ]
  },
  {
   "cell_type": "code",
   "execution_count": 893,
   "id": "8df4703a",
   "metadata": {
    "ExecuteTime": {
     "end_time": "2023-03-22T15:03:24.238050Z",
     "start_time": "2023-03-22T15:03:24.113095Z"
    }
   },
   "outputs": [
    {
     "data": {
      "text/plain": [
       "[<matplotlib.lines.Line2D at 0x7f45515618b0>]"
      ]
     },
     "execution_count": 893,
     "metadata": {},
     "output_type": "execute_result"
    },
    {
     "data": {
      "image/png": "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\n",
      "text/plain": [
       "<Figure size 720x720 with 1 Axes>"
      ]
     },
     "metadata": {
      "needs_background": "light"
     },
     "output_type": "display_data"
    }
   ],
   "source": [
    "plt.plot(full_xdos, pred_opt_shift.detach(), c= 'r')\n",
    "plt.plot(full_xdos, shifted_full_ldos[0].detach(), c = 'b')"
   ]
  },
  {
   "cell_type": "markdown",
   "id": "3a543b16",
   "metadata": {
    "heading_collapsed": true
   },
   "source": [
    "## Quartic Peaks Debug\n"
   ]
  },
  {
   "cell_type": "code",
   "execution_count": 516,
   "id": "4814d308",
   "metadata": {
    "ExecuteTime": {
     "end_time": "2023-03-10T17:39:36.813946Z",
     "start_time": "2023-03-10T17:38:16.341125Z"
    },
    "hidden": true
   },
   "outputs": [
    {
     "name": "stderr",
     "output_type": "stream",
     "text": [
      "100%|██████████████████████████████████████████████████████████████████████████████████████████████████████████████████████████████████████████████████████████████████| 1039/1039 [01:20<00:00, 12.92it/s]\n"
     ]
    }
   ],
   "source": [
    "#LOL NOW RUN FOR GAUSSIAN TO COMPARE\n",
    "\n",
    "##Generate individual xdos, ldos\n",
    "n_xdos = []\n",
    "n_ldos = []\n",
    "\n",
    "sigma = torch.tensor(0.3)\n",
    "ndos = 778\n",
    "\n",
    "\n",
    "emin = -24.5537\n",
    "emax = 11.3464\n",
    "\n",
    "for i in tqdm(range(n_structures)):\n",
    "    x_dos = torch.linspace(lbounds[i].item() - 1.5, rbounds[i].item()- (10 * sigma),ndos)\n",
    "    l_dos = torch.sum(torch.exp(-0.5*((x_dos - full_eigen_energies[i].view(-1,1))/sigma)**2), dim = 0)\n",
    "    n_xdos.append(x_dos)\n",
    "    n_ldos.append(l_dos)\n",
    "    \n",
    "n_xdos = torch.vstack(n_xdos)\n",
    "n_ldos = torch.vstack(n_ldos)\n",
    "n_ldos = ((n_ldos.T * normalization ).T)* 2\n"
   ]
  },
  {
   "cell_type": "code",
   "execution_count": 551,
   "id": "9302187d",
   "metadata": {
    "ExecuteTime": {
     "end_time": "2023-03-10T17:57:24.368804Z",
     "start_time": "2023-03-10T17:57:24.354367Z"
    },
    "hidden": true
   },
   "outputs": [],
   "source": [
    "#Quartic polynomials\n",
    "def quartic(x, xdos, sigma):\n",
    "    #identify bounds\n",
    "    left_b = x- 1.2*(np.sqrt(7)*(sigma))\n",
    "    right_b = x + 1.2*(np.sqrt(7)*(sigma))\n",
    "    #Obtain mask\n",
    "    mask = torch.where((left_b < xdos) & (xdos < right_b))\n",
    "    output = torch.zeros_like(xdos)\n",
    "    output[mask] = ((x-xdos[mask])**2 - (7 * sigma**2)) **2 / ((16/15) * (np.sqrt(7) * sigma)**5)\n",
    "    \n",
    "    return output\n",
    "\n",
    "def quartic_peak(x, xdos, sigma):\n",
    "    #Identify bounds\n",
    "#     left_b = x - (np.sqrt(7) * sigma)\n",
    "#     right_b = x + (np.sqrt(7) * sigma)\n",
    "    \n",
    "    #Obtain mask\n",
    "    #mask = ((xdos >= left_b.view(-1,1)) & (xdos <= right_b.view(-1,1)))\n",
    "    \n",
    "    \n",
    "    #Initialize output\n",
    "    output = torch.zeros(len(xdos))\n",
    "\n",
    "    \n",
    "#     a = ((x.view(-1,1) - torch.masked_select(xdos.expand(len(x), len(xdos)),mask))**2 - (7 * (sigma**2)))**2 / ((16/15) * (np.sqrt(7) * sigma)**5)\n",
    "#     print (a.shape)\n",
    "#     print (torch.masked_select(xdos.expand(len(x), len(xdos)),mask).shape)\n",
    "    \n",
    "#     output[mask] = ((x.view(-1,1) - torch.masked_select(xdos.expand(len(x), len(xdos)),mask))**2 - (7 * (sigma**2)))**2 / ((16/15) * (np.sqrt(7) * sigma)**5)\n",
    "    for E in x:\n",
    "        output += quartic(E, xdos, sigma)\n",
    "    \n",
    "    return output\n",
    "    \n",
    "    \n",
    "def quartic_peak_E(energies, xdos, sigma):\n",
    "    if False:#len(energies) <= len(xdos):\n",
    "        output = quartic_peak(energies, xdos, sigma)\n",
    "    else:\n",
    "        output = torch.zeros_like(xdos)\n",
    "        for i, x in enumerate(xdos):\n",
    "            l_energies = torch.searchsorted(energies, x - (np.sqrt(7)*(sigma)))\n",
    "            r_energies = torch.searchsorted(energies, x + (np.sqrt(7)*(sigma)))\n",
    "            if r_energies != l_energies:\n",
    "                output[i] = torch.sum(((energies[l_energies:r_energies].view(-1,1) - x)**2 - (7 * (sigma**2))) **2 / ((16/15) * (np.sqrt(7) * sigma)**5))\n",
    "                \n",
    "        return output\n",
    "                    "
   ]
  },
  {
   "cell_type": "code",
   "execution_count": 503,
   "id": "a7c3647b",
   "metadata": {
    "ExecuteTime": {
     "end_time": "2023-03-10T17:35:22.357521Z",
     "start_time": "2023-03-10T17:35:22.344396Z"
    },
    "hidden": true
   },
   "outputs": [
    {
     "name": "stdout",
     "output_type": "stream",
     "text": [
      "torch.Size([2500])\n"
     ]
    }
   ],
   "source": [
    "xaxis = torch.arange(-50,50,0.04)\n",
    "print (xaxis.shape)\n",
    "energies = torch.tensor([-5, 0, 1, 2, 3, 4])\n",
    "left_b = energies - (np.sqrt(7) * sigma)\n",
    "right_b = energies + (np.sqrt(7)*sigma)\n",
    "\n",
    "output = torch.zeros_like(xaxis)\n",
    "\n",
    "left_bound = torch.searchsorted(xaxis, left_b)\n",
    "indexes = left_bound.repeat(20,1) + torch.arange(0,20,1).view(-1,1)\n",
    "values = torch.clamp((energies.view(1,-1) - xaxis[indexes])**2 - (7 * (sigma**2)) **2 / ((16/15) * (np.sqrt(7) * sigma)**5), max = 0)\n",
    "\n",
    "output.index_add_(0, indexes.flatten(), values.flatten())\n",
    "\n",
    "output = -1 * output\n",
    "# xaxis = xaxis.expand(len(energies), len(xaxis))\n",
    "# output = torch.zeros_like(xaxis)\n",
    "# values = ((energies.reshape(6,1) - (xaxis[mask].reshape(len(energies), -1)))**2 - (7 * (sigma**2))) **2 / ((16/15) * (np.sqrt(7) * sigma)**5)\n",
    "\n",
    "# output[mask] = values.flatten()\n",
    "# output = torch.sum(output, 0)\n"
   ]
  },
  {
   "cell_type": "code",
   "execution_count": 505,
   "id": "195c619d",
   "metadata": {
    "ExecuteTime": {
     "end_time": "2023-03-10T17:35:23.308157Z",
     "start_time": "2023-03-10T17:35:23.193929Z"
    },
    "hidden": true
   },
   "outputs": [
    {
     "data": {
      "text/plain": [
       "[<matplotlib.lines.Line2D at 0x7f4558d94820>]"
      ]
     },
     "execution_count": 505,
     "metadata": {},
     "output_type": "execute_result"
    },
    {
     "data": {
      "image/png": "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\n",
      "text/plain": [
       "<Figure size 720x720 with 1 Axes>"
      ]
     },
     "metadata": {
      "needs_background": "light"
     },
     "output_type": "display_data"
    }
   ],
   "source": [
    "plt.plot(torch.arange(-50,50,0.04), output)"
   ]
  },
  {
   "cell_type": "markdown",
   "id": "b3b3d70a",
   "metadata": {
    "heading_collapsed": true
   },
   "source": [
    "## Inspecting default train-test split and generating biased dataset"
   ]
  },
  {
   "cell_type": "code",
   "execution_count": 115,
   "id": "a3d10226",
   "metadata": {
    "ExecuteTime": {
     "end_time": "2023-03-08T12:42:22.184959Z",
     "start_time": "2023-03-08T12:42:22.173267Z"
    },
    "hidden": true
   },
   "outputs": [],
   "source": [
    "diamond_range = np.arange(0,324,1)\n",
    "beta_tin_range = np.arange(324,604,1)\n",
    "liquid_range = np.arange(604, 673, 1)\n",
    "clusters_range = np.arange(673, 939, 1)\n",
    "amorphous_range = np.arange(939, 1039, 1)\n",
    "def find_structures_in_index(index):\n",
    "    structures = {}\n",
    "    structures['diamond'] =  np.sum(np.isin(index, diamond_range))\n",
    "    structures['beta_tin'] = np.sum(np.isin(index, beta_tin_range))\n",
    "    structures['liquid'] = np.sum(np.isin(index, liquid_range))\n",
    "    structures['clusters'] = np.sum(np.isin(index, clusters_range))\n",
    "    structures['amorphous'] = np.sum(np.isin(index, amorphous_range))\n",
    "    \n",
    "    return structures\n",
    "\n",
    "train_structures = find_structures_in_index(train_index)"
   ]
  },
  {
   "cell_type": "code",
   "execution_count": 116,
   "id": "c80e79dc",
   "metadata": {
    "ExecuteTime": {
     "end_time": "2023-03-08T12:42:22.319682Z",
     "start_time": "2023-03-08T12:42:22.314483Z"
    },
    "hidden": true
   },
   "outputs": [
    {
     "data": {
      "text/plain": [
       "{'diamond': 249,\n",
       " 'beta_tin': 231,\n",
       " 'liquid': 58,\n",
       " 'clusters': 209,\n",
       " 'amorphous': 84}"
      ]
     },
     "execution_count": 116,
     "metadata": {},
     "output_type": "execute_result"
    }
   ],
   "source": [
    "train_structures"
   ]
  },
  {
   "cell_type": "code",
   "execution_count": 86,
   "id": "4fde0d44",
   "metadata": {
    "ExecuteTime": {
     "end_time": "2023-03-08T12:02:56.638677Z",
     "start_time": "2023-03-08T12:02:56.634735Z"
    },
    "hidden": true
   },
   "outputs": [],
   "source": [
    "#For biased dataset, we want roughly 80 amorphous structures in the test set and 20 in the train set to test the model's extrapolatability\n"
   ]
  },
  {
   "cell_type": "code",
   "execution_count": 108,
   "id": "9084e0b6",
   "metadata": {
    "ExecuteTime": {
     "end_time": "2023-03-08T12:41:02.245295Z",
     "start_time": "2023-03-08T12:41:02.235586Z"
    },
    "hidden": true
   },
   "outputs": [],
   "source": [
    "#Selected Amorphous structures\n",
    "\n",
    "amorph_train = np.arange(939,1039,1)\n",
    "np.random.seed(0)\n",
    "np.random.shuffle(amorph_train)\n",
    "\n",
    "amorph_test = amorph_train[:80]\n",
    "amorph_train = amorph_train[80:]\n",
    "\n",
    "n_structures = 939\n",
    "np.random.seed(0)\n",
    "n_train = int(0.8 * 1039)-20\n",
    "remaining_train_index = np.arange(n_structures)\n",
    "np.random.shuffle(remaining_train_index)\n",
    "\n",
    "remaining_test_index = remaining_train_index[n_train:]\n",
    "remaining_train_index = remaining_train_index[:n_train]\n",
    "\n",
    "biased_train_index = np.concatenate([remaining_train_index, amorph_train])\n",
    "biased_test_index = np.concatenate([remaining_test_index, amorph_test])"
   ]
  },
  {
   "cell_type": "code",
   "execution_count": 104,
   "id": "778525dd",
   "metadata": {
    "ExecuteTime": {
     "end_time": "2023-03-08T12:33:24.315755Z",
     "start_time": "2023-03-08T12:33:24.309589Z"
    },
    "hidden": true,
    "scrolled": true
   },
   "outputs": [
    {
     "data": {
      "text/plain": [
       "208"
      ]
     },
     "execution_count": 104,
     "metadata": {},
     "output_type": "execute_result"
    }
   ],
   "source": [
    "len(biased_train_index)\n",
    "len(biased_test_index)"
   ]
  },
  {
   "cell_type": "code",
   "execution_count": 113,
   "id": "6e2dc42d",
   "metadata": {
    "ExecuteTime": {
     "end_time": "2023-03-08T12:41:24.398293Z",
     "start_time": "2023-03-08T12:41:24.392178Z"
    },
    "hidden": true
   },
   "outputs": [],
   "source": [
    "biased_train_structures = find_structures_in_index(biased_train_index)"
   ]
  },
  {
   "cell_type": "code",
   "execution_count": 117,
   "id": "6cbf24e7",
   "metadata": {
    "ExecuteTime": {
     "end_time": "2023-03-08T12:42:47.122668Z",
     "start_time": "2023-03-08T12:42:47.101779Z"
    },
    "hidden": true
   },
   "outputs": [],
   "source": [
    "np.save(\"train_index\", train_index)\n",
    "np.save(\"test_index\", test_index)\n",
    "np.save(\"biased_train_index\", biased_train_index)\n",
    "np.save(\"biased_test_index\", biased_test_index)"
   ]
  }
 ],
 "metadata": {
  "kernelspec": {
   "display_name": "Python 3 (ipykernel)",
   "language": "python",
   "name": "python3"
  },
  "language_info": {
   "codemirror_mode": {
    "name": "ipython",
    "version": 3
   },
   "file_extension": ".py",
   "mimetype": "text/x-python",
   "name": "python",
   "nbconvert_exporter": "python",
   "pygments_lexer": "ipython3",
   "version": "3.9.12"
  },
  "toc": {
   "base_numbering": 1,
   "nav_menu": {},
   "number_sections": true,
   "sideBar": true,
   "skip_h1_title": false,
   "title_cell": "Table of Contents",
   "title_sidebar": "Contents",
   "toc_cell": false,
   "toc_position": {
    "height": "759px",
    "left": "26px",
    "top": "111.133px",
    "width": "165px"
   },
   "toc_section_display": true,
   "toc_window_display": true
  }
 },
 "nbformat": 4,
 "nbformat_minor": 5
}
