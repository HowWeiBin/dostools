{
 "cells": [
  {
   "cell_type": "markdown",
   "id": "84565b74",
   "metadata": {
    "hide_input": false
   },
   "source": [
    "## Imports"
   ]
  },
  {
   "cell_type": "code",
   "execution_count": 1,
   "id": "dfdaeca7",
   "metadata": {
    "ExecuteTime": {
     "end_time": "2023-02-22T10:00:26.743078Z",
     "start_time": "2023-02-22T10:00:23.077470Z"
    }
   },
   "outputs": [],
   "source": [
    "import dostools\n",
    "import importlib\n",
    "import numpy as np\n",
    "import pickle\n",
    "import torch\n",
    "import sys\n",
    "import matplotlib.pyplot as plt\n",
    "import copy\n",
    "from tqdm import tqdm\n",
    "import matplotlib\n",
    "import time\n",
    "torch.set_default_dtype(torch.float64) \n",
    "%matplotlib notebook\n",
    "matplotlib.rcParams['figure.figsize'] = (10, 10)"
   ]
  },
  {
   "cell_type": "code",
   "execution_count": 5,
   "id": "7ccbf26d",
   "metadata": {
    "ExecuteTime": {
     "end_time": "2023-02-22T10:02:03.960919Z",
     "start_time": "2023-02-22T10:02:01.633258Z"
    }
   },
   "outputs": [
    {
     "name": "stdout",
     "output_type": "stream",
     "text": [
      "ldos shape is torch.Size([1039, 778])\n",
      "mean dos shape is torch.Size([778])\n",
      "Variance covered with 10 PCs is = 0.9871211778950163\n"
     ]
    }
   ],
   "source": [
    "import dostools.datasets.data as data\n",
    "import dostools.utils.utils as utils\n",
    "importlib.reload(data)\n",
    "\n",
    "n_structures = 1039\n",
    "np.random.seed(0)\n",
    "n_train = int(0.8 * n_structures)\n",
    "train_index = np.arange(n_structures)\n",
    "np.random.shuffle(train_index)\n",
    "test_index = train_index[n_train:]\n",
    "train_index = train_index[:n_train]\n",
    "\n",
    "with torch.no_grad():\n",
    "    structures = data.load_structures(\":\")\n",
    "    n_structures = len(structures) #total number of structures\n",
    "    for structure in structures:#implement periodicity\n",
    "        structure.wrap(eps = 1e-12) \n",
    "    n_atoms = np.zeros(n_structures, dtype = int) #stores number of atoms in each structures\n",
    "    for i in range(n_structures):\n",
    "        n_atoms[i] = len(structures[i])\n",
    "\n",
    "    #eigenergies, emin, emax = dostools.src.datasets.data.load_eigenenergies(unpack = True, n_structures = len(structures))\n",
    "    xdos = torch.tensor(data.load_xdos())\n",
    "    ldos = torch.tensor(data.load_ldos())\n",
    "    ldos *= 2\n",
    "\n",
    "    print (\"ldos shape is {}\".format(ldos.shape))\n",
    "    mean_dos_per_atom = ldos[train_index].mean(axis = 0) #only calculated for train set to prevent data leakage\n",
    "    print (\"mean dos shape is {}\".format(mean_dos_per_atom.shape))\n",
    "    \n",
    "    \n",
    "    y_pw = ldos - mean_dos_per_atom\n",
    "    y_lcdf = torch.cumsum(y_pw, dim = 1)\n",
    "    _, pc_vectors = utils.build_pc(ldos[train_index], mean_dos_per_atom[None,:], n_pc = 10)\n",
    "    y_pc = utils.build_coeffs(ldos - mean_dos_per_atom[None,:], pc_vectors)\n",
    "    Silicon = data.load_features()\n",
    "    kMM = data.load_kMM()\n",
    "    structure_eigvals_t, structure_coefficients_t, reconstructed_ldos_t = data.load_structure_gaussians()\n"
   ]
  },
  {
   "cell_type": "code",
   "execution_count": 11,
   "id": "bf9bebc4",
   "metadata": {
    "ExecuteTime": {
     "end_time": "2023-02-22T11:09:48.872805Z",
     "start_time": "2023-02-22T11:09:39.377236Z"
    }
   },
   "outputs": [
    {
     "name": "stdout",
     "output_type": "stream",
     "text": [
      "This file contains the eigenenergies and their corresponding kpoints of the training Silicon structures generated using DFT PBE as implemented in FHI-AIMS version 171221_1 with the ``tight'' settings\n"
     ]
    }
   ],
   "source": [
    "sigma = 0.3\n",
    "dx = 0.05\n",
    "eigen_energies, emin, emax = data.load_eigenenergies(unpack = True, n_structures = n_structures)\n",
    "full_eigen_energies = [torch.tensor(i.flatten()) for i in eigen_energies]\n",
    "eigenenergy_length = [len(i) for i in full_eigen_energies]\n",
    "eigenenergy_length_t = torch.tensor(eigenenergy_length)\n",
    "n_atoms_t = torch.tensor(n_atoms)\n",
    "normalization_eiglength = [len(i) for i in eigen_energies]\n",
    "normalization_eiglength_t = torch.tensor(normalization_eiglength)\n",
    "normalization = 1/torch.sqrt(2*torch.tensor(np.pi)*sigma**2)/n_atoms_t/normalization_eiglength_t"
   ]
  },
  {
   "cell_type": "markdown",
   "id": "09757efc",
   "metadata": {},
   "source": [
    "## Translation invariant Loss function"
   ]
  },
  {
   "cell_type": "code",
   "execution_count": 17,
   "id": "fea8a204",
   "metadata": {
    "ExecuteTime": {
     "end_time": "2023-02-21T20:53:43.282424Z",
     "start_time": "2023-02-21T20:53:43.279755Z"
    }
   },
   "outputs": [],
   "source": [
    "import dostools.loss.loss as loss\n",
    "\n",
    "# importlib.reload(loss)\n",
    "# with torch.no_grad():\n",
    "#     shift_range = torch.tensor([0.05 * a for a in torch.arange(-5,5)])\n",
    "#     #shift_range = torch.tensor([0])\n",
    "#     a = loss.t_get_BF_shift_rmse(reconstructed_ldos_t, ldos, shift_range, xdos, perc = True)\n",
    "#     print (a)"
   ]
  },
  {
   "cell_type": "code",
   "execution_count": 411,
   "id": "3af34687",
   "metadata": {
    "ExecuteTime": {
     "end_time": "2023-02-21T19:58:35.672837Z",
     "start_time": "2023-02-21T19:58:24.303305Z"
    }
   },
   "outputs": [
    {
     "name": "stdout",
     "output_type": "stream",
     "text": [
      "torch.Size([831, 778])\n"
     ]
    }
   ],
   "source": [
    "# z = (torch.sum((structure_coefficients_t[train_index].view(1, 831, 687) * (torch.exp(-0.5*((alignment.view(1,-1,1) + xdos.view(-1,1,1) - structure_eigvals_t[train_index])/sigma)**2))), dim = 2)).T * normalization[train_index].view(-1,1) * 2\n"
   ]
  },
  {
   "cell_type": "markdown",
   "id": "13ca1470",
   "metadata": {},
   "source": [
    "## Dataset and Dataloader"
   ]
  },
  {
   "cell_type": "code",
   "execution_count": 10,
   "id": "f0c83521",
   "metadata": {
    "ExecuteTime": {
     "end_time": "2023-02-22T11:09:17.907947Z",
     "start_time": "2023-02-22T11:09:17.895504Z"
    }
   },
   "outputs": [],
   "source": [
    "from torch.utils.data import Dataset\n",
    "class ShiftingDataset(Dataset):\n",
    "    def __init__(self, X, y_coeff, y_eigval, normalization, xdos):\n",
    "        self.X = X\n",
    "        self.y_coeff = y_coeff\n",
    "        self.y_eigval = y_eigval\n",
    "        self.normalization = normalization\n",
    "        self.alignment = torch.nn.parameter.Parameter(torch.zeros(len(X)))\n",
    "        self.xdos = xdos\n",
    "        \n",
    "        \n",
    "    def __len__(self):\n",
    "        return len(self.X)\n",
    "    \n",
    "    def project_dos(self, idx):\n",
    "        new_dos = (torch.sum((self.y_coeff[idx].view(1, -1, 687) * (torch.exp(-0.5*((self.alignment[idx].view(1,-1,1) + self.xdos.view(-1,1,1) - self.y_eigval[idx])/sigma)**2))), dim = 2)).T * self.normalization[idx].view(-1,1) * 2\n",
    "        return new_dos.squeeze()\n",
    "    \n",
    "    def __getitem__(self, idx):\n",
    "        y = self.project_dos(idx)\n",
    "        return self.X[idx], y.double()\n",
    "        "
   ]
  },
  {
   "cell_type": "code",
   "execution_count": 12,
   "id": "ece2eba7",
   "metadata": {
    "ExecuteTime": {
     "end_time": "2023-02-22T11:10:50.557536Z",
     "start_time": "2023-02-22T11:10:50.520930Z"
    }
   },
   "outputs": [],
   "source": [
    "from torch.utils.data import TensorDataset, DataLoader\n",
    "# soap_dataset = ShiftingDataset(Silicon.Features['structure_avedescriptors'][:10].double(), structure_coefficients_t[:10], structure_eigvals_t[:10], normalization[:10], xdos)\n",
    "soap_dataset = ShiftingDataset(Silicon.Features['structure_avedescriptors'][train_index].double(), structure_coefficients_t[train_index], structure_eigvals_t[train_index], normalization[train_index], xdos)\n",
    "device = 'cpu'\n",
    "kwargs = {\"pin_memory\":True} if device == \"cuda:0\" else {}\n",
    "soap_dataloader = DataLoader(soap_dataset, batch_size = 8, shuffle = True,**kwargs)"
   ]
  },
  {
   "cell_type": "code",
   "execution_count": null,
   "id": "b5438dd2",
   "metadata": {},
   "outputs": [],
   "source": [
    "def evaluate_performance"
   ]
  },
  {
   "cell_type": "code",
   "execution_count": null,
   "id": "de8d9998",
   "metadata": {},
   "outputs": [],
   "source": [
    "soap_dataset.alignment = torch.nn.parameter.Parameter(torch.zeros(len(train_index)))\n",
    "lr = 1\n",
    "sigma = 0.3\n",
    "n_epochs = 100000\n",
    "optimizer = torch.optim.Adam(\n",
    "        [soap_dataset.alignment],\n",
    "        lr=lr)#,  line_search_fn=\"strong_wolfe\")\n",
    "\n",
    "\n",
    "scheduler = torch.optim.lr_scheduler.ReduceLROnPlateau(optimizer, factor = 0.1, patience = 30)#0.5)\n",
    "\n",
    "for epoch in (range(n_epochs)):\n",
    "    def closure():\n",
    "        optimizer.zero_grad()\n",
    "        new_dos = (torch.sum((structure_coefficients_t[train_index].view(1, 831, 687) * (torch.exp(-0.5*((alignment.view(1,-1,1) + xdos.view(-1,1,1) - structure_eigvals_t[train_index])/sigma)**2))), dim = 2)).T * normalization[train_index].view(-1,1) * 2\n",
    "        train_loss = evaluate_performance(new_dos)\n",
    "#         pc_loss = torch.sum((1 - ((torch.corrcoef(torch.hstack([kernel_features, new_dos]).T)[0][1:]))**2))\n",
    "#         pc_loss.backward()\n",
    "#         var_loss = torch.sum(torch.var(new_dos, dim = 0, unbiased = False))\n",
    "        return train_loss\n",
    "#         return var_loss\n",
    "    pc_loss = optimizer.step(closure)\n",
    "    scheduler.step(pc_loss)\n",
    "    \n",
    "    print (\"The pc_loss at epoch {} is : {}\".format(epoch, pc_loss))\n",
    "#     with torch.no_grad():\n",
    "#         new_dos = (torch.sum((structure_coefficients_t[train_index].view(1, 831, 687) * (torch.exp(-0.5*((alignment.view(1,-1,1) + xdos.view(-1,1,1) - structure_eigvals_t[train_index])/sigma)**2))), dim = 2)).T * normalization[train_index].view(-1,1) * 2\n",
    "#         train_loss = evaluate_performance(new_dos)\n",
    "#         all_losses.append(pc_loss)\n",
    "#         all_train_loss.append(train_loss)\n"
   ]
  },
  {
   "cell_type": "code",
   "execution_count": 97,
   "id": "adbcc5cb",
   "metadata": {
    "ExecuteTime": {
     "end_time": "2023-02-21T21:39:04.928742Z",
     "start_time": "2023-02-21T21:39:01.731998Z"
    }
   },
   "outputs": [
    {
     "name": "stdout",
     "output_type": "stream",
     "text": [
      "torch.Size([8, 448])\n",
      "torch.Size([8, 778])\n"
     ]
    }
   ],
   "source": [
    "for x,y in soap_dataloader:\n",
    "    print (x.shape)\n",
    "    print (y.shape)\n",
    "    break"
   ]
  },
  {
   "cell_type": "markdown",
   "id": "59069965",
   "metadata": {},
   "source": [
    "## Model"
   ]
  },
  {
   "cell_type": "code",
   "execution_count": 98,
   "id": "f44dd81a",
   "metadata": {
    "ExecuteTime": {
     "end_time": "2023-02-21T21:39:07.572725Z",
     "start_time": "2023-02-21T21:39:07.549545Z"
    }
   },
   "outputs": [],
   "source": [
    "import dostools.models.models as models\n",
    "import dostools.models.training as training\n",
    "import dostools.models.architectures as architecture\n",
    "import dostools.loss.loss as loss\n",
    "import torch.nn as nn\n",
    "\n",
    "importlib.reload(models)\n",
    "importlib.reload(training)\n",
    "importlib.reload(architecture)\n",
    "importlib.reload(loss)\n",
    "\n",
    "#can consider normalization layer here, start with bias and stuff first\n",
    "\n",
    "class WassLinearModel(nn.Module):\n",
    "    def __init__(self, inputSize, outputSize, xdos, device):\n",
    "        super(WassLinearModel, self).__init__()\n",
    "        self.linear = nn.Linear(inputSize, outputSize, bias = True)\n",
    "        self.xdos = xdos\n",
    "        self.device = device\n",
    "        #self.alignment = torch.zeros(train_size, device = self.device)\n",
    "        self.to(self.device)\n",
    "\n",
    "    def forward(self, x):\n",
    "        \"\"\"\n",
    "        Performs the transformations to the features based on the model\n",
    "        \n",
    "        Args:\n",
    "            x (tensor): input features\n",
    "        \n",
    "        Returns:\n",
    "            tensor: output\n",
    "        \"\"\"\n",
    "        out = self.linear(x)\n",
    "        return out\n",
    "    \n",
    "    "
   ]
  },
  {
   "cell_type": "code",
   "execution_count": 99,
   "id": "e9819182",
   "metadata": {
    "ExecuteTime": {
     "end_time": "2023-02-21T21:39:07.658044Z",
     "start_time": "2023-02-21T21:39:07.647078Z"
    }
   },
   "outputs": [],
   "source": [
    "model1 = WassLinearModel(448, 778, xdos, \"cpu\")\n"
   ]
  },
  {
   "cell_type": "code",
   "execution_count": null,
   "id": "7b819ea2",
   "metadata": {
    "ExecuteTime": {
     "start_time": "2023-02-21T21:39:08.431Z"
    }
   },
   "outputs": [
    {
     "name": "stderr",
     "output_type": "stream",
     "text": [
      "\r",
      "  0%|                                                                                                                                                                            | 0/10000 [00:00<?, ?it/s]"
     ]
    },
    {
     "data": {
      "application/javascript": [
       "/* Put everything inside the global mpl namespace */\n",
       "/* global mpl */\n",
       "window.mpl = {};\n",
       "\n",
       "mpl.get_websocket_type = function () {\n",
       "    if (typeof WebSocket !== 'undefined') {\n",
       "        return WebSocket;\n",
       "    } else if (typeof MozWebSocket !== 'undefined') {\n",
       "        return MozWebSocket;\n",
       "    } else {\n",
       "        alert(\n",
       "            'Your browser does not have WebSocket support. ' +\n",
       "                'Please try Chrome, Safari or Firefox ≥ 6. ' +\n",
       "                'Firefox 4 and 5 are also supported but you ' +\n",
       "                'have to enable WebSockets in about:config.'\n",
       "        );\n",
       "    }\n",
       "};\n",
       "\n",
       "mpl.figure = function (figure_id, websocket, ondownload, parent_element) {\n",
       "    this.id = figure_id;\n",
       "\n",
       "    this.ws = websocket;\n",
       "\n",
       "    this.supports_binary = this.ws.binaryType !== undefined;\n",
       "\n",
       "    if (!this.supports_binary) {\n",
       "        var warnings = document.getElementById('mpl-warnings');\n",
       "        if (warnings) {\n",
       "            warnings.style.display = 'block';\n",
       "            warnings.textContent =\n",
       "                'This browser does not support binary websocket messages. ' +\n",
       "                'Performance may be slow.';\n",
       "        }\n",
       "    }\n",
       "\n",
       "    this.imageObj = new Image();\n",
       "\n",
       "    this.context = undefined;\n",
       "    this.message = undefined;\n",
       "    this.canvas = undefined;\n",
       "    this.rubberband_canvas = undefined;\n",
       "    this.rubberband_context = undefined;\n",
       "    this.format_dropdown = undefined;\n",
       "\n",
       "    this.image_mode = 'full';\n",
       "\n",
       "    this.root = document.createElement('div');\n",
       "    this.root.setAttribute('style', 'display: inline-block');\n",
       "    this._root_extra_style(this.root);\n",
       "\n",
       "    parent_element.appendChild(this.root);\n",
       "\n",
       "    this._init_header(this);\n",
       "    this._init_canvas(this);\n",
       "    this._init_toolbar(this);\n",
       "\n",
       "    var fig = this;\n",
       "\n",
       "    this.waiting = false;\n",
       "\n",
       "    this.ws.onopen = function () {\n",
       "        fig.send_message('supports_binary', { value: fig.supports_binary });\n",
       "        fig.send_message('send_image_mode', {});\n",
       "        if (fig.ratio !== 1) {\n",
       "            fig.send_message('set_device_pixel_ratio', {\n",
       "                device_pixel_ratio: fig.ratio,\n",
       "            });\n",
       "        }\n",
       "        fig.send_message('refresh', {});\n",
       "    };\n",
       "\n",
       "    this.imageObj.onload = function () {\n",
       "        if (fig.image_mode === 'full') {\n",
       "            // Full images could contain transparency (where diff images\n",
       "            // almost always do), so we need to clear the canvas so that\n",
       "            // there is no ghosting.\n",
       "            fig.context.clearRect(0, 0, fig.canvas.width, fig.canvas.height);\n",
       "        }\n",
       "        fig.context.drawImage(fig.imageObj, 0, 0);\n",
       "    };\n",
       "\n",
       "    this.imageObj.onunload = function () {\n",
       "        fig.ws.close();\n",
       "    };\n",
       "\n",
       "    this.ws.onmessage = this._make_on_message_function(this);\n",
       "\n",
       "    this.ondownload = ondownload;\n",
       "};\n",
       "\n",
       "mpl.figure.prototype._init_header = function () {\n",
       "    var titlebar = document.createElement('div');\n",
       "    titlebar.classList =\n",
       "        'ui-dialog-titlebar ui-widget-header ui-corner-all ui-helper-clearfix';\n",
       "    var titletext = document.createElement('div');\n",
       "    titletext.classList = 'ui-dialog-title';\n",
       "    titletext.setAttribute(\n",
       "        'style',\n",
       "        'width: 100%; text-align: center; padding: 3px;'\n",
       "    );\n",
       "    titlebar.appendChild(titletext);\n",
       "    this.root.appendChild(titlebar);\n",
       "    this.header = titletext;\n",
       "};\n",
       "\n",
       "mpl.figure.prototype._canvas_extra_style = function (_canvas_div) {};\n",
       "\n",
       "mpl.figure.prototype._root_extra_style = function (_canvas_div) {};\n",
       "\n",
       "mpl.figure.prototype._init_canvas = function () {\n",
       "    var fig = this;\n",
       "\n",
       "    var canvas_div = (this.canvas_div = document.createElement('div'));\n",
       "    canvas_div.setAttribute(\n",
       "        'style',\n",
       "        'border: 1px solid #ddd;' +\n",
       "            'box-sizing: content-box;' +\n",
       "            'clear: both;' +\n",
       "            'min-height: 1px;' +\n",
       "            'min-width: 1px;' +\n",
       "            'outline: 0;' +\n",
       "            'overflow: hidden;' +\n",
       "            'position: relative;' +\n",
       "            'resize: both;'\n",
       "    );\n",
       "\n",
       "    function on_keyboard_event_closure(name) {\n",
       "        return function (event) {\n",
       "            return fig.key_event(event, name);\n",
       "        };\n",
       "    }\n",
       "\n",
       "    canvas_div.addEventListener(\n",
       "        'keydown',\n",
       "        on_keyboard_event_closure('key_press')\n",
       "    );\n",
       "    canvas_div.addEventListener(\n",
       "        'keyup',\n",
       "        on_keyboard_event_closure('key_release')\n",
       "    );\n",
       "\n",
       "    this._canvas_extra_style(canvas_div);\n",
       "    this.root.appendChild(canvas_div);\n",
       "\n",
       "    var canvas = (this.canvas = document.createElement('canvas'));\n",
       "    canvas.classList.add('mpl-canvas');\n",
       "    canvas.setAttribute('style', 'box-sizing: content-box;');\n",
       "\n",
       "    this.context = canvas.getContext('2d');\n",
       "\n",
       "    var backingStore =\n",
       "        this.context.backingStorePixelRatio ||\n",
       "        this.context.webkitBackingStorePixelRatio ||\n",
       "        this.context.mozBackingStorePixelRatio ||\n",
       "        this.context.msBackingStorePixelRatio ||\n",
       "        this.context.oBackingStorePixelRatio ||\n",
       "        this.context.backingStorePixelRatio ||\n",
       "        1;\n",
       "\n",
       "    this.ratio = (window.devicePixelRatio || 1) / backingStore;\n",
       "\n",
       "    var rubberband_canvas = (this.rubberband_canvas = document.createElement(\n",
       "        'canvas'\n",
       "    ));\n",
       "    rubberband_canvas.setAttribute(\n",
       "        'style',\n",
       "        'box-sizing: content-box; position: absolute; left: 0; top: 0; z-index: 1;'\n",
       "    );\n",
       "\n",
       "    // Apply a ponyfill if ResizeObserver is not implemented by browser.\n",
       "    if (this.ResizeObserver === undefined) {\n",
       "        if (window.ResizeObserver !== undefined) {\n",
       "            this.ResizeObserver = window.ResizeObserver;\n",
       "        } else {\n",
       "            var obs = _JSXTOOLS_RESIZE_OBSERVER({});\n",
       "            this.ResizeObserver = obs.ResizeObserver;\n",
       "        }\n",
       "    }\n",
       "\n",
       "    this.resizeObserverInstance = new this.ResizeObserver(function (entries) {\n",
       "        var nentries = entries.length;\n",
       "        for (var i = 0; i < nentries; i++) {\n",
       "            var entry = entries[i];\n",
       "            var width, height;\n",
       "            if (entry.contentBoxSize) {\n",
       "                if (entry.contentBoxSize instanceof Array) {\n",
       "                    // Chrome 84 implements new version of spec.\n",
       "                    width = entry.contentBoxSize[0].inlineSize;\n",
       "                    height = entry.contentBoxSize[0].blockSize;\n",
       "                } else {\n",
       "                    // Firefox implements old version of spec.\n",
       "                    width = entry.contentBoxSize.inlineSize;\n",
       "                    height = entry.contentBoxSize.blockSize;\n",
       "                }\n",
       "            } else {\n",
       "                // Chrome <84 implements even older version of spec.\n",
       "                width = entry.contentRect.width;\n",
       "                height = entry.contentRect.height;\n",
       "            }\n",
       "\n",
       "            // Keep the size of the canvas and rubber band canvas in sync with\n",
       "            // the canvas container.\n",
       "            if (entry.devicePixelContentBoxSize) {\n",
       "                // Chrome 84 implements new version of spec.\n",
       "                canvas.setAttribute(\n",
       "                    'width',\n",
       "                    entry.devicePixelContentBoxSize[0].inlineSize\n",
       "                );\n",
       "                canvas.setAttribute(\n",
       "                    'height',\n",
       "                    entry.devicePixelContentBoxSize[0].blockSize\n",
       "                );\n",
       "            } else {\n",
       "                canvas.setAttribute('width', width * fig.ratio);\n",
       "                canvas.setAttribute('height', height * fig.ratio);\n",
       "            }\n",
       "            canvas.setAttribute(\n",
       "                'style',\n",
       "                'width: ' + width + 'px; height: ' + height + 'px;'\n",
       "            );\n",
       "\n",
       "            rubberband_canvas.setAttribute('width', width);\n",
       "            rubberband_canvas.setAttribute('height', height);\n",
       "\n",
       "            // And update the size in Python. We ignore the initial 0/0 size\n",
       "            // that occurs as the element is placed into the DOM, which should\n",
       "            // otherwise not happen due to the minimum size styling.\n",
       "            if (fig.ws.readyState == 1 && width != 0 && height != 0) {\n",
       "                fig.request_resize(width, height);\n",
       "            }\n",
       "        }\n",
       "    });\n",
       "    this.resizeObserverInstance.observe(canvas_div);\n",
       "\n",
       "    function on_mouse_event_closure(name) {\n",
       "        return function (event) {\n",
       "            return fig.mouse_event(event, name);\n",
       "        };\n",
       "    }\n",
       "\n",
       "    rubberband_canvas.addEventListener(\n",
       "        'mousedown',\n",
       "        on_mouse_event_closure('button_press')\n",
       "    );\n",
       "    rubberband_canvas.addEventListener(\n",
       "        'mouseup',\n",
       "        on_mouse_event_closure('button_release')\n",
       "    );\n",
       "    rubberband_canvas.addEventListener(\n",
       "        'dblclick',\n",
       "        on_mouse_event_closure('dblclick')\n",
       "    );\n",
       "    // Throttle sequential mouse events to 1 every 20ms.\n",
       "    rubberband_canvas.addEventListener(\n",
       "        'mousemove',\n",
       "        on_mouse_event_closure('motion_notify')\n",
       "    );\n",
       "\n",
       "    rubberband_canvas.addEventListener(\n",
       "        'mouseenter',\n",
       "        on_mouse_event_closure('figure_enter')\n",
       "    );\n",
       "    rubberband_canvas.addEventListener(\n",
       "        'mouseleave',\n",
       "        on_mouse_event_closure('figure_leave')\n",
       "    );\n",
       "\n",
       "    canvas_div.addEventListener('wheel', function (event) {\n",
       "        if (event.deltaY < 0) {\n",
       "            event.step = 1;\n",
       "        } else {\n",
       "            event.step = -1;\n",
       "        }\n",
       "        on_mouse_event_closure('scroll')(event);\n",
       "    });\n",
       "\n",
       "    canvas_div.appendChild(canvas);\n",
       "    canvas_div.appendChild(rubberband_canvas);\n",
       "\n",
       "    this.rubberband_context = rubberband_canvas.getContext('2d');\n",
       "    this.rubberband_context.strokeStyle = '#000000';\n",
       "\n",
       "    this._resize_canvas = function (width, height, forward) {\n",
       "        if (forward) {\n",
       "            canvas_div.style.width = width + 'px';\n",
       "            canvas_div.style.height = height + 'px';\n",
       "        }\n",
       "    };\n",
       "\n",
       "    // Disable right mouse context menu.\n",
       "    this.rubberband_canvas.addEventListener('contextmenu', function (_e) {\n",
       "        event.preventDefault();\n",
       "        return false;\n",
       "    });\n",
       "\n",
       "    function set_focus() {\n",
       "        canvas.focus();\n",
       "        canvas_div.focus();\n",
       "    }\n",
       "\n",
       "    window.setTimeout(set_focus, 100);\n",
       "};\n",
       "\n",
       "mpl.figure.prototype._init_toolbar = function () {\n",
       "    var fig = this;\n",
       "\n",
       "    var toolbar = document.createElement('div');\n",
       "    toolbar.classList = 'mpl-toolbar';\n",
       "    this.root.appendChild(toolbar);\n",
       "\n",
       "    function on_click_closure(name) {\n",
       "        return function (_event) {\n",
       "            return fig.toolbar_button_onclick(name);\n",
       "        };\n",
       "    }\n",
       "\n",
       "    function on_mouseover_closure(tooltip) {\n",
       "        return function (event) {\n",
       "            if (!event.currentTarget.disabled) {\n",
       "                return fig.toolbar_button_onmouseover(tooltip);\n",
       "            }\n",
       "        };\n",
       "    }\n",
       "\n",
       "    fig.buttons = {};\n",
       "    var buttonGroup = document.createElement('div');\n",
       "    buttonGroup.classList = 'mpl-button-group';\n",
       "    for (var toolbar_ind in mpl.toolbar_items) {\n",
       "        var name = mpl.toolbar_items[toolbar_ind][0];\n",
       "        var tooltip = mpl.toolbar_items[toolbar_ind][1];\n",
       "        var image = mpl.toolbar_items[toolbar_ind][2];\n",
       "        var method_name = mpl.toolbar_items[toolbar_ind][3];\n",
       "\n",
       "        if (!name) {\n",
       "            /* Instead of a spacer, we start a new button group. */\n",
       "            if (buttonGroup.hasChildNodes()) {\n",
       "                toolbar.appendChild(buttonGroup);\n",
       "            }\n",
       "            buttonGroup = document.createElement('div');\n",
       "            buttonGroup.classList = 'mpl-button-group';\n",
       "            continue;\n",
       "        }\n",
       "\n",
       "        var button = (fig.buttons[name] = document.createElement('button'));\n",
       "        button.classList = 'mpl-widget';\n",
       "        button.setAttribute('role', 'button');\n",
       "        button.setAttribute('aria-disabled', 'false');\n",
       "        button.addEventListener('click', on_click_closure(method_name));\n",
       "        button.addEventListener('mouseover', on_mouseover_closure(tooltip));\n",
       "\n",
       "        var icon_img = document.createElement('img');\n",
       "        icon_img.src = '_images/' + image + '.png';\n",
       "        icon_img.srcset = '_images/' + image + '_large.png 2x';\n",
       "        icon_img.alt = tooltip;\n",
       "        button.appendChild(icon_img);\n",
       "\n",
       "        buttonGroup.appendChild(button);\n",
       "    }\n",
       "\n",
       "    if (buttonGroup.hasChildNodes()) {\n",
       "        toolbar.appendChild(buttonGroup);\n",
       "    }\n",
       "\n",
       "    var fmt_picker = document.createElement('select');\n",
       "    fmt_picker.classList = 'mpl-widget';\n",
       "    toolbar.appendChild(fmt_picker);\n",
       "    this.format_dropdown = fmt_picker;\n",
       "\n",
       "    for (var ind in mpl.extensions) {\n",
       "        var fmt = mpl.extensions[ind];\n",
       "        var option = document.createElement('option');\n",
       "        option.selected = fmt === mpl.default_extension;\n",
       "        option.innerHTML = fmt;\n",
       "        fmt_picker.appendChild(option);\n",
       "    }\n",
       "\n",
       "    var status_bar = document.createElement('span');\n",
       "    status_bar.classList = 'mpl-message';\n",
       "    toolbar.appendChild(status_bar);\n",
       "    this.message = status_bar;\n",
       "};\n",
       "\n",
       "mpl.figure.prototype.request_resize = function (x_pixels, y_pixels) {\n",
       "    // Request matplotlib to resize the figure. Matplotlib will then trigger a resize in the client,\n",
       "    // which will in turn request a refresh of the image.\n",
       "    this.send_message('resize', { width: x_pixels, height: y_pixels });\n",
       "};\n",
       "\n",
       "mpl.figure.prototype.send_message = function (type, properties) {\n",
       "    properties['type'] = type;\n",
       "    properties['figure_id'] = this.id;\n",
       "    this.ws.send(JSON.stringify(properties));\n",
       "};\n",
       "\n",
       "mpl.figure.prototype.send_draw_message = function () {\n",
       "    if (!this.waiting) {\n",
       "        this.waiting = true;\n",
       "        this.ws.send(JSON.stringify({ type: 'draw', figure_id: this.id }));\n",
       "    }\n",
       "};\n",
       "\n",
       "mpl.figure.prototype.handle_save = function (fig, _msg) {\n",
       "    var format_dropdown = fig.format_dropdown;\n",
       "    var format = format_dropdown.options[format_dropdown.selectedIndex].value;\n",
       "    fig.ondownload(fig, format);\n",
       "};\n",
       "\n",
       "mpl.figure.prototype.handle_resize = function (fig, msg) {\n",
       "    var size = msg['size'];\n",
       "    if (size[0] !== fig.canvas.width || size[1] !== fig.canvas.height) {\n",
       "        fig._resize_canvas(size[0], size[1], msg['forward']);\n",
       "        fig.send_message('refresh', {});\n",
       "    }\n",
       "};\n",
       "\n",
       "mpl.figure.prototype.handle_rubberband = function (fig, msg) {\n",
       "    var x0 = msg['x0'] / fig.ratio;\n",
       "    var y0 = (fig.canvas.height - msg['y0']) / fig.ratio;\n",
       "    var x1 = msg['x1'] / fig.ratio;\n",
       "    var y1 = (fig.canvas.height - msg['y1']) / fig.ratio;\n",
       "    x0 = Math.floor(x0) + 0.5;\n",
       "    y0 = Math.floor(y0) + 0.5;\n",
       "    x1 = Math.floor(x1) + 0.5;\n",
       "    y1 = Math.floor(y1) + 0.5;\n",
       "    var min_x = Math.min(x0, x1);\n",
       "    var min_y = Math.min(y0, y1);\n",
       "    var width = Math.abs(x1 - x0);\n",
       "    var height = Math.abs(y1 - y0);\n",
       "\n",
       "    fig.rubberband_context.clearRect(\n",
       "        0,\n",
       "        0,\n",
       "        fig.canvas.width / fig.ratio,\n",
       "        fig.canvas.height / fig.ratio\n",
       "    );\n",
       "\n",
       "    fig.rubberband_context.strokeRect(min_x, min_y, width, height);\n",
       "};\n",
       "\n",
       "mpl.figure.prototype.handle_figure_label = function (fig, msg) {\n",
       "    // Updates the figure title.\n",
       "    fig.header.textContent = msg['label'];\n",
       "};\n",
       "\n",
       "mpl.figure.prototype.handle_cursor = function (fig, msg) {\n",
       "    fig.rubberband_canvas.style.cursor = msg['cursor'];\n",
       "};\n",
       "\n",
       "mpl.figure.prototype.handle_message = function (fig, msg) {\n",
       "    fig.message.textContent = msg['message'];\n",
       "};\n",
       "\n",
       "mpl.figure.prototype.handle_draw = function (fig, _msg) {\n",
       "    // Request the server to send over a new figure.\n",
       "    fig.send_draw_message();\n",
       "};\n",
       "\n",
       "mpl.figure.prototype.handle_image_mode = function (fig, msg) {\n",
       "    fig.image_mode = msg['mode'];\n",
       "};\n",
       "\n",
       "mpl.figure.prototype.handle_history_buttons = function (fig, msg) {\n",
       "    for (var key in msg) {\n",
       "        if (!(key in fig.buttons)) {\n",
       "            continue;\n",
       "        }\n",
       "        fig.buttons[key].disabled = !msg[key];\n",
       "        fig.buttons[key].setAttribute('aria-disabled', !msg[key]);\n",
       "    }\n",
       "};\n",
       "\n",
       "mpl.figure.prototype.handle_navigate_mode = function (fig, msg) {\n",
       "    if (msg['mode'] === 'PAN') {\n",
       "        fig.buttons['Pan'].classList.add('active');\n",
       "        fig.buttons['Zoom'].classList.remove('active');\n",
       "    } else if (msg['mode'] === 'ZOOM') {\n",
       "        fig.buttons['Pan'].classList.remove('active');\n",
       "        fig.buttons['Zoom'].classList.add('active');\n",
       "    } else {\n",
       "        fig.buttons['Pan'].classList.remove('active');\n",
       "        fig.buttons['Zoom'].classList.remove('active');\n",
       "    }\n",
       "};\n",
       "\n",
       "mpl.figure.prototype.updated_canvas_event = function () {\n",
       "    // Called whenever the canvas gets updated.\n",
       "    this.send_message('ack', {});\n",
       "};\n",
       "\n",
       "// A function to construct a web socket function for onmessage handling.\n",
       "// Called in the figure constructor.\n",
       "mpl.figure.prototype._make_on_message_function = function (fig) {\n",
       "    return function socket_on_message(evt) {\n",
       "        if (evt.data instanceof Blob) {\n",
       "            var img = evt.data;\n",
       "            if (img.type !== 'image/png') {\n",
       "                /* FIXME: We get \"Resource interpreted as Image but\n",
       "                 * transferred with MIME type text/plain:\" errors on\n",
       "                 * Chrome.  But how to set the MIME type?  It doesn't seem\n",
       "                 * to be part of the websocket stream */\n",
       "                img.type = 'image/png';\n",
       "            }\n",
       "\n",
       "            /* Free the memory for the previous frames */\n",
       "            if (fig.imageObj.src) {\n",
       "                (window.URL || window.webkitURL).revokeObjectURL(\n",
       "                    fig.imageObj.src\n",
       "                );\n",
       "            }\n",
       "\n",
       "            fig.imageObj.src = (window.URL || window.webkitURL).createObjectURL(\n",
       "                img\n",
       "            );\n",
       "            fig.updated_canvas_event();\n",
       "            fig.waiting = false;\n",
       "            return;\n",
       "        } else if (\n",
       "            typeof evt.data === 'string' &&\n",
       "            evt.data.slice(0, 21) === 'data:image/png;base64'\n",
       "        ) {\n",
       "            fig.imageObj.src = evt.data;\n",
       "            fig.updated_canvas_event();\n",
       "            fig.waiting = false;\n",
       "            return;\n",
       "        }\n",
       "\n",
       "        var msg = JSON.parse(evt.data);\n",
       "        var msg_type = msg['type'];\n",
       "\n",
       "        // Call the  \"handle_{type}\" callback, which takes\n",
       "        // the figure and JSON message as its only arguments.\n",
       "        try {\n",
       "            var callback = fig['handle_' + msg_type];\n",
       "        } catch (e) {\n",
       "            console.log(\n",
       "                \"No handler for the '\" + msg_type + \"' message type: \",\n",
       "                msg\n",
       "            );\n",
       "            return;\n",
       "        }\n",
       "\n",
       "        if (callback) {\n",
       "            try {\n",
       "                // console.log(\"Handling '\" + msg_type + \"' message: \", msg);\n",
       "                callback(fig, msg);\n",
       "            } catch (e) {\n",
       "                console.log(\n",
       "                    \"Exception inside the 'handler_\" + msg_type + \"' callback:\",\n",
       "                    e,\n",
       "                    e.stack,\n",
       "                    msg\n",
       "                );\n",
       "            }\n",
       "        }\n",
       "    };\n",
       "};\n",
       "\n",
       "// from https://stackoverflow.com/questions/1114465/getting-mouse-location-in-canvas\n",
       "mpl.findpos = function (e) {\n",
       "    //this section is from http://www.quirksmode.org/js/events_properties.html\n",
       "    var targ;\n",
       "    if (!e) {\n",
       "        e = window.event;\n",
       "    }\n",
       "    if (e.target) {\n",
       "        targ = e.target;\n",
       "    } else if (e.srcElement) {\n",
       "        targ = e.srcElement;\n",
       "    }\n",
       "    if (targ.nodeType === 3) {\n",
       "        // defeat Safari bug\n",
       "        targ = targ.parentNode;\n",
       "    }\n",
       "\n",
       "    // pageX,Y are the mouse positions relative to the document\n",
       "    var boundingRect = targ.getBoundingClientRect();\n",
       "    var x = e.pageX - (boundingRect.left + document.body.scrollLeft);\n",
       "    var y = e.pageY - (boundingRect.top + document.body.scrollTop);\n",
       "\n",
       "    return { x: x, y: y };\n",
       "};\n",
       "\n",
       "/*\n",
       " * return a copy of an object with only non-object keys\n",
       " * we need this to avoid circular references\n",
       " * https://stackoverflow.com/a/24161582/3208463\n",
       " */\n",
       "function simpleKeys(original) {\n",
       "    return Object.keys(original).reduce(function (obj, key) {\n",
       "        if (typeof original[key] !== 'object') {\n",
       "            obj[key] = original[key];\n",
       "        }\n",
       "        return obj;\n",
       "    }, {});\n",
       "}\n",
       "\n",
       "mpl.figure.prototype.mouse_event = function (event, name) {\n",
       "    var canvas_pos = mpl.findpos(event);\n",
       "\n",
       "    if (name === 'button_press') {\n",
       "        this.canvas.focus();\n",
       "        this.canvas_div.focus();\n",
       "    }\n",
       "\n",
       "    var x = canvas_pos.x * this.ratio;\n",
       "    var y = canvas_pos.y * this.ratio;\n",
       "\n",
       "    this.send_message(name, {\n",
       "        x: x,\n",
       "        y: y,\n",
       "        button: event.button,\n",
       "        step: event.step,\n",
       "        guiEvent: simpleKeys(event),\n",
       "    });\n",
       "\n",
       "    /* This prevents the web browser from automatically changing to\n",
       "     * the text insertion cursor when the button is pressed.  We want\n",
       "     * to control all of the cursor setting manually through the\n",
       "     * 'cursor' event from matplotlib */\n",
       "    event.preventDefault();\n",
       "    return false;\n",
       "};\n",
       "\n",
       "mpl.figure.prototype._key_event_extra = function (_event, _name) {\n",
       "    // Handle any extra behaviour associated with a key event\n",
       "};\n",
       "\n",
       "mpl.figure.prototype.key_event = function (event, name) {\n",
       "    // Prevent repeat events\n",
       "    if (name === 'key_press') {\n",
       "        if (event.key === this._key) {\n",
       "            return;\n",
       "        } else {\n",
       "            this._key = event.key;\n",
       "        }\n",
       "    }\n",
       "    if (name === 'key_release') {\n",
       "        this._key = null;\n",
       "    }\n",
       "\n",
       "    var value = '';\n",
       "    if (event.ctrlKey && event.key !== 'Control') {\n",
       "        value += 'ctrl+';\n",
       "    }\n",
       "    else if (event.altKey && event.key !== 'Alt') {\n",
       "        value += 'alt+';\n",
       "    }\n",
       "    else if (event.shiftKey && event.key !== 'Shift') {\n",
       "        value += 'shift+';\n",
       "    }\n",
       "\n",
       "    value += 'k' + event.key;\n",
       "\n",
       "    this._key_event_extra(event, name);\n",
       "\n",
       "    this.send_message(name, { key: value, guiEvent: simpleKeys(event) });\n",
       "    return false;\n",
       "};\n",
       "\n",
       "mpl.figure.prototype.toolbar_button_onclick = function (name) {\n",
       "    if (name === 'download') {\n",
       "        this.handle_save(this, null);\n",
       "    } else {\n",
       "        this.send_message('toolbar_button', { name: name });\n",
       "    }\n",
       "};\n",
       "\n",
       "mpl.figure.prototype.toolbar_button_onmouseover = function (tooltip) {\n",
       "    this.message.textContent = tooltip;\n",
       "};\n",
       "\n",
       "///////////////// REMAINING CONTENT GENERATED BY embed_js.py /////////////////\n",
       "// prettier-ignore\n",
       "var _JSXTOOLS_RESIZE_OBSERVER=function(A){var t,i=new WeakMap,n=new WeakMap,a=new WeakMap,r=new WeakMap,o=new Set;function s(e){if(!(this instanceof s))throw new TypeError(\"Constructor requires 'new' operator\");i.set(this,e)}function h(){throw new TypeError(\"Function is not a constructor\")}function c(e,t,i,n){e=0 in arguments?Number(arguments[0]):0,t=1 in arguments?Number(arguments[1]):0,i=2 in arguments?Number(arguments[2]):0,n=3 in arguments?Number(arguments[3]):0,this.right=(this.x=this.left=e)+(this.width=i),this.bottom=(this.y=this.top=t)+(this.height=n),Object.freeze(this)}function d(){t=requestAnimationFrame(d);var s=new WeakMap,p=new Set;o.forEach((function(t){r.get(t).forEach((function(i){var r=t instanceof window.SVGElement,o=a.get(t),d=r?0:parseFloat(o.paddingTop),f=r?0:parseFloat(o.paddingRight),l=r?0:parseFloat(o.paddingBottom),u=r?0:parseFloat(o.paddingLeft),g=r?0:parseFloat(o.borderTopWidth),m=r?0:parseFloat(o.borderRightWidth),w=r?0:parseFloat(o.borderBottomWidth),b=u+f,F=d+l,v=(r?0:parseFloat(o.borderLeftWidth))+m,W=g+w,y=r?0:t.offsetHeight-W-t.clientHeight,E=r?0:t.offsetWidth-v-t.clientWidth,R=b+v,z=F+W,M=r?t.width:parseFloat(o.width)-R-E,O=r?t.height:parseFloat(o.height)-z-y;if(n.has(t)){var k=n.get(t);if(k[0]===M&&k[1]===O)return}n.set(t,[M,O]);var S=Object.create(h.prototype);S.target=t,S.contentRect=new c(u,d,M,O),s.has(i)||(s.set(i,[]),p.add(i)),s.get(i).push(S)}))})),p.forEach((function(e){i.get(e).call(e,s.get(e),e)}))}return s.prototype.observe=function(i){if(i instanceof window.Element){r.has(i)||(r.set(i,new Set),o.add(i),a.set(i,window.getComputedStyle(i)));var n=r.get(i);n.has(this)||n.add(this),cancelAnimationFrame(t),t=requestAnimationFrame(d)}},s.prototype.unobserve=function(i){if(i instanceof window.Element&&r.has(i)){var n=r.get(i);n.has(this)&&(n.delete(this),n.size||(r.delete(i),o.delete(i))),n.size||r.delete(i),o.size||cancelAnimationFrame(t)}},A.DOMRectReadOnly=c,A.ResizeObserver=s,A.ResizeObserverEntry=h,A}; // eslint-disable-line\n",
       "mpl.toolbar_items = [[\"Home\", \"Reset original view\", \"fa fa-home icon-home\", \"home\"], [\"Back\", \"Back to previous view\", \"fa fa-arrow-left icon-arrow-left\", \"back\"], [\"Forward\", \"Forward to next view\", \"fa fa-arrow-right icon-arrow-right\", \"forward\"], [\"\", \"\", \"\", \"\"], [\"Pan\", \"Left button pans, Right button zooms\\nx/y fixes axis, CTRL fixes aspect\", \"fa fa-arrows icon-move\", \"pan\"], [\"Zoom\", \"Zoom to rectangle\\nx/y fixes axis\", \"fa fa-square-o icon-check-empty\", \"zoom\"], [\"\", \"\", \"\", \"\"], [\"Download\", \"Download plot\", \"fa fa-floppy-o icon-save\", \"download\"]];\n",
       "\n",
       "mpl.extensions = [\"eps\", \"jpeg\", \"pgf\", \"pdf\", \"png\", \"ps\", \"raw\", \"svg\", \"tif\"];\n",
       "\n",
       "mpl.default_extension = \"png\";/* global mpl */\n",
       "\n",
       "var comm_websocket_adapter = function (comm) {\n",
       "    // Create a \"websocket\"-like object which calls the given IPython comm\n",
       "    // object with the appropriate methods. Currently this is a non binary\n",
       "    // socket, so there is still some room for performance tuning.\n",
       "    var ws = {};\n",
       "\n",
       "    ws.binaryType = comm.kernel.ws.binaryType;\n",
       "    ws.readyState = comm.kernel.ws.readyState;\n",
       "    function updateReadyState(_event) {\n",
       "        if (comm.kernel.ws) {\n",
       "            ws.readyState = comm.kernel.ws.readyState;\n",
       "        } else {\n",
       "            ws.readyState = 3; // Closed state.\n",
       "        }\n",
       "    }\n",
       "    comm.kernel.ws.addEventListener('open', updateReadyState);\n",
       "    comm.kernel.ws.addEventListener('close', updateReadyState);\n",
       "    comm.kernel.ws.addEventListener('error', updateReadyState);\n",
       "\n",
       "    ws.close = function () {\n",
       "        comm.close();\n",
       "    };\n",
       "    ws.send = function (m) {\n",
       "        //console.log('sending', m);\n",
       "        comm.send(m);\n",
       "    };\n",
       "    // Register the callback with on_msg.\n",
       "    comm.on_msg(function (msg) {\n",
       "        //console.log('receiving', msg['content']['data'], msg);\n",
       "        var data = msg['content']['data'];\n",
       "        if (data['blob'] !== undefined) {\n",
       "            data = {\n",
       "                data: new Blob(msg['buffers'], { type: data['blob'] }),\n",
       "            };\n",
       "        }\n",
       "        // Pass the mpl event to the overridden (by mpl) onmessage function.\n",
       "        ws.onmessage(data);\n",
       "    });\n",
       "    return ws;\n",
       "};\n",
       "\n",
       "mpl.mpl_figure_comm = function (comm, msg) {\n",
       "    // This is the function which gets called when the mpl process\n",
       "    // starts-up an IPython Comm through the \"matplotlib\" channel.\n",
       "\n",
       "    var id = msg.content.data.id;\n",
       "    // Get hold of the div created by the display call when the Comm\n",
       "    // socket was opened in Python.\n",
       "    var element = document.getElementById(id);\n",
       "    var ws_proxy = comm_websocket_adapter(comm);\n",
       "\n",
       "    function ondownload(figure, _format) {\n",
       "        window.open(figure.canvas.toDataURL());\n",
       "    }\n",
       "\n",
       "    var fig = new mpl.figure(id, ws_proxy, ondownload, element);\n",
       "\n",
       "    // Call onopen now - mpl needs it, as it is assuming we've passed it a real\n",
       "    // web socket which is closed, not our websocket->open comm proxy.\n",
       "    ws_proxy.onopen();\n",
       "\n",
       "    fig.parent_element = element;\n",
       "    fig.cell_info = mpl.find_output_cell(\"<div id='\" + id + \"'></div>\");\n",
       "    if (!fig.cell_info) {\n",
       "        console.error('Failed to find cell for figure', id, fig);\n",
       "        return;\n",
       "    }\n",
       "    fig.cell_info[0].output_area.element.on(\n",
       "        'cleared',\n",
       "        { fig: fig },\n",
       "        fig._remove_fig_handler\n",
       "    );\n",
       "};\n",
       "\n",
       "mpl.figure.prototype.handle_close = function (fig, msg) {\n",
       "    var width = fig.canvas.width / fig.ratio;\n",
       "    fig.cell_info[0].output_area.element.off(\n",
       "        'cleared',\n",
       "        fig._remove_fig_handler\n",
       "    );\n",
       "    fig.resizeObserverInstance.unobserve(fig.canvas_div);\n",
       "\n",
       "    // Update the output cell to use the data from the current canvas.\n",
       "    fig.push_to_output();\n",
       "    var dataURL = fig.canvas.toDataURL();\n",
       "    // Re-enable the keyboard manager in IPython - without this line, in FF,\n",
       "    // the notebook keyboard shortcuts fail.\n",
       "    IPython.keyboard_manager.enable();\n",
       "    fig.parent_element.innerHTML =\n",
       "        '<img src=\"' + dataURL + '\" width=\"' + width + '\">';\n",
       "    fig.close_ws(fig, msg);\n",
       "};\n",
       "\n",
       "mpl.figure.prototype.close_ws = function (fig, msg) {\n",
       "    fig.send_message('closing', msg);\n",
       "    // fig.ws.close()\n",
       "};\n",
       "\n",
       "mpl.figure.prototype.push_to_output = function (_remove_interactive) {\n",
       "    // Turn the data on the canvas into data in the output cell.\n",
       "    var width = this.canvas.width / this.ratio;\n",
       "    var dataURL = this.canvas.toDataURL();\n",
       "    this.cell_info[1]['text/html'] =\n",
       "        '<img src=\"' + dataURL + '\" width=\"' + width + '\">';\n",
       "};\n",
       "\n",
       "mpl.figure.prototype.updated_canvas_event = function () {\n",
       "    // Tell IPython that the notebook contents must change.\n",
       "    IPython.notebook.set_dirty(true);\n",
       "    this.send_message('ack', {});\n",
       "    var fig = this;\n",
       "    // Wait a second, then push the new image to the DOM so\n",
       "    // that it is saved nicely (might be nice to debounce this).\n",
       "    setTimeout(function () {\n",
       "        fig.push_to_output();\n",
       "    }, 1000);\n",
       "};\n",
       "\n",
       "mpl.figure.prototype._init_toolbar = function () {\n",
       "    var fig = this;\n",
       "\n",
       "    var toolbar = document.createElement('div');\n",
       "    toolbar.classList = 'btn-toolbar';\n",
       "    this.root.appendChild(toolbar);\n",
       "\n",
       "    function on_click_closure(name) {\n",
       "        return function (_event) {\n",
       "            return fig.toolbar_button_onclick(name);\n",
       "        };\n",
       "    }\n",
       "\n",
       "    function on_mouseover_closure(tooltip) {\n",
       "        return function (event) {\n",
       "            if (!event.currentTarget.disabled) {\n",
       "                return fig.toolbar_button_onmouseover(tooltip);\n",
       "            }\n",
       "        };\n",
       "    }\n",
       "\n",
       "    fig.buttons = {};\n",
       "    var buttonGroup = document.createElement('div');\n",
       "    buttonGroup.classList = 'btn-group';\n",
       "    var button;\n",
       "    for (var toolbar_ind in mpl.toolbar_items) {\n",
       "        var name = mpl.toolbar_items[toolbar_ind][0];\n",
       "        var tooltip = mpl.toolbar_items[toolbar_ind][1];\n",
       "        var image = mpl.toolbar_items[toolbar_ind][2];\n",
       "        var method_name = mpl.toolbar_items[toolbar_ind][3];\n",
       "\n",
       "        if (!name) {\n",
       "            /* Instead of a spacer, we start a new button group. */\n",
       "            if (buttonGroup.hasChildNodes()) {\n",
       "                toolbar.appendChild(buttonGroup);\n",
       "            }\n",
       "            buttonGroup = document.createElement('div');\n",
       "            buttonGroup.classList = 'btn-group';\n",
       "            continue;\n",
       "        }\n",
       "\n",
       "        button = fig.buttons[name] = document.createElement('button');\n",
       "        button.classList = 'btn btn-default';\n",
       "        button.href = '#';\n",
       "        button.title = name;\n",
       "        button.innerHTML = '<i class=\"fa ' + image + ' fa-lg\"></i>';\n",
       "        button.addEventListener('click', on_click_closure(method_name));\n",
       "        button.addEventListener('mouseover', on_mouseover_closure(tooltip));\n",
       "        buttonGroup.appendChild(button);\n",
       "    }\n",
       "\n",
       "    if (buttonGroup.hasChildNodes()) {\n",
       "        toolbar.appendChild(buttonGroup);\n",
       "    }\n",
       "\n",
       "    // Add the status bar.\n",
       "    var status_bar = document.createElement('span');\n",
       "    status_bar.classList = 'mpl-message pull-right';\n",
       "    toolbar.appendChild(status_bar);\n",
       "    this.message = status_bar;\n",
       "\n",
       "    // Add the close button to the window.\n",
       "    var buttongrp = document.createElement('div');\n",
       "    buttongrp.classList = 'btn-group inline pull-right';\n",
       "    button = document.createElement('button');\n",
       "    button.classList = 'btn btn-mini btn-primary';\n",
       "    button.href = '#';\n",
       "    button.title = 'Stop Interaction';\n",
       "    button.innerHTML = '<i class=\"fa fa-power-off icon-remove icon-large\"></i>';\n",
       "    button.addEventListener('click', function (_evt) {\n",
       "        fig.handle_close(fig, {});\n",
       "    });\n",
       "    button.addEventListener(\n",
       "        'mouseover',\n",
       "        on_mouseover_closure('Stop Interaction')\n",
       "    );\n",
       "    buttongrp.appendChild(button);\n",
       "    var titlebar = this.root.querySelector('.ui-dialog-titlebar');\n",
       "    titlebar.insertBefore(buttongrp, titlebar.firstChild);\n",
       "};\n",
       "\n",
       "mpl.figure.prototype._remove_fig_handler = function (event) {\n",
       "    var fig = event.data.fig;\n",
       "    if (event.target !== this) {\n",
       "        // Ignore bubbled events from children.\n",
       "        return;\n",
       "    }\n",
       "    fig.close_ws(fig, {});\n",
       "};\n",
       "\n",
       "mpl.figure.prototype._root_extra_style = function (el) {\n",
       "    el.style.boxSizing = 'content-box'; // override notebook setting of border-box.\n",
       "};\n",
       "\n",
       "mpl.figure.prototype._canvas_extra_style = function (el) {\n",
       "    // this is important to make the div 'focusable\n",
       "    el.setAttribute('tabindex', 0);\n",
       "    // reach out to IPython and tell the keyboard manager to turn it's self\n",
       "    // off when our div gets focus\n",
       "\n",
       "    // location in version 3\n",
       "    if (IPython.notebook.keyboard_manager) {\n",
       "        IPython.notebook.keyboard_manager.register_events(el);\n",
       "    } else {\n",
       "        // location in version 2\n",
       "        IPython.keyboard_manager.register_events(el);\n",
       "    }\n",
       "};\n",
       "\n",
       "mpl.figure.prototype._key_event_extra = function (event, _name) {\n",
       "    // Check for shift+enter\n",
       "    if (event.shiftKey && event.which === 13) {\n",
       "        this.canvas_div.blur();\n",
       "        // select the cell after this one\n",
       "        var index = IPython.notebook.find_cell_index(this.cell_info[0]);\n",
       "        IPython.notebook.select(index + 1);\n",
       "    }\n",
       "};\n",
       "\n",
       "mpl.figure.prototype.handle_save = function (fig, _msg) {\n",
       "    fig.ondownload(fig, null);\n",
       "};\n",
       "\n",
       "mpl.find_output_cell = function (html_output) {\n",
       "    // Return the cell and output element which can be found *uniquely* in the notebook.\n",
       "    // Note - this is a bit hacky, but it is done because the \"notebook_saving.Notebook\"\n",
       "    // IPython event is triggered only after the cells have been serialised, which for\n",
       "    // our purposes (turning an active figure into a static one), is too late.\n",
       "    var cells = IPython.notebook.get_cells();\n",
       "    var ncells = cells.length;\n",
       "    for (var i = 0; i < ncells; i++) {\n",
       "        var cell = cells[i];\n",
       "        if (cell.cell_type === 'code') {\n",
       "            for (var j = 0; j < cell.output_area.outputs.length; j++) {\n",
       "                var data = cell.output_area.outputs[j];\n",
       "                if (data.data) {\n",
       "                    // IPython >= 3 moved mimebundle to data attribute of output\n",
       "                    data = data.data;\n",
       "                }\n",
       "                if (data['text/html'] === html_output) {\n",
       "                    return [cell, data, j];\n",
       "                }\n",
       "            }\n",
       "        }\n",
       "    }\n",
       "};\n",
       "\n",
       "// Register the function which deals with the matplotlib target/channel.\n",
       "// The kernel may be null if the page has been refreshed.\n",
       "if (IPython.notebook.kernel !== null) {\n",
       "    IPython.notebook.kernel.comm_manager.register_target(\n",
       "        'matplotlib',\n",
       "        mpl.mpl_figure_comm\n",
       "    );\n",
       "}\n"
      ],
      "text/plain": [
       "<IPython.core.display.Javascript object>"
      ]
     },
     "metadata": {},
     "output_type": "display_data"
    },
    {
     "data": {
      "text/html": [
       "<img src=\"data:image/png;base64,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\" width=\"1000\">"
      ],
      "text/plain": [
       "<IPython.core.display.HTML object>"
      ]
     },
     "metadata": {},
     "output_type": "display_data"
    },
    {
     "name": "stderr",
     "output_type": "stream",
     "text": [
      "/tmp/ipykernel_4988/3216523151.py:42: UserWarning: You have mixed positional and keyword arguments, some input may be discarded.\n",
      "  fig.legend([line,z], labels = [\"Predicted\", \"True\"], loc = \"lower center\")\n",
      "Epoch: 283:   3%|██▋                                                                                           | 283/10000 [12:19:34<8:24:11,  3.11s/it, lowest_loss=0.0151, pred_loss=0.000194, trigger=3]"
     ]
    }
   ],
   "source": [
    "n_epochs = 10000\n",
    "lr_model = 0.001\n",
    "lr_alignment = 0.001\n",
    "\n",
    "# if self.opt == \"Adam\":\n",
    "opt_model = torch.optim.Adam(model1.parameters(), lr = lr_model, weight_decay = 0)\n",
    "opt_alignment = torch.optim.Adam([soap_dataset.alignment], lr = lr_alignment, weight_decay = 0)\n",
    "# if valdata_loader is not None:\n",
    "#     threshold = 1000\n",
    "#     scheduler_threshold = 100\n",
    "# else:\n",
    "threshold = 1000\n",
    "scheduler_threshold = 100\n",
    "tol = 1e-4\n",
    "# if self.opt == \"LBFGS\":\n",
    "#     opt = torch.optim.LBFGS(self.parameters(), lr = lr, line_search_fn = \"strong_wolfe\")\n",
    "#     if valdata_loader is not None:\n",
    "#         threshold = 2000\n",
    "#         scheduler_threshold = 2000\n",
    "#     else:\n",
    "#         threshold = 30\n",
    "#         scheduler_threshold = 5\n",
    "#     tol = 1e-4\n",
    "scheduler_model = torch.optim.lr_scheduler.ReduceLROnPlateau(opt_model, factor = 0.1, patience = scheduler_threshold)#0.5)\n",
    "scheduler_alignment = torch.optim.lr_scheduler.ReduceLROnPlateau(opt_alignment, factor = 0.1, patience = scheduler_threshold)\n",
    "best_state = copy.deepcopy(model1.state_dict())\n",
    "lowest_loss = torch.tensor(9999)\n",
    "pred_loss = torch.tensor(0)\n",
    "trigger = 0\n",
    "loss_history =[]\n",
    "pbar = tqdm(range(n_epochs))\n",
    "\n",
    "fig, ax_list = plt.subplots(4,2)\n",
    "ax_list = ax_list.flatten()\n",
    "lines = []\n",
    "critical_indexes = np.arange(8)\n",
    "#critical_indexes = np.array([369, 341, 745, 521, 278, 5, 193, 37])\n",
    "for i in range(len(critical_indexes)):\n",
    "    line, = ax_list[i].plot(model1.xdos.cpu(), reconstructed_ldos_t[train_index[critical_indexes[i]]], label = \"Prediction\")\n",
    "    lines.append(line)\n",
    "    z = ax_list[i].plot(model1.xdos.cpu(), reconstructed_ldos_t[train_index[critical_indexes[i]]], label = \"True\")\n",
    "fig.legend([line,z], labels = [\"Predicted\", \"True\"], loc = \"lower center\")\n",
    "for epoch in pbar:\n",
    "    total_error = 0\n",
    "    pbar.set_description(f\"Epoch: {epoch}\")\n",
    "#     if valdata_loader is not None:\n",
    "#         pbar.set_postfix(val_loss = lowest_loss.item(), trigger = trigger, train_loss = pred_loss.item())\n",
    "#     else:\n",
    "    pbar.set_postfix(pred_loss = pred_loss.item(), lowest_loss = lowest_loss.item(), trigger = trigger)\n",
    "\n",
    "    for x_data, y_data in soap_dataloader:\n",
    "        opt_model.zero_grad()\n",
    "        opt_alignment.zero_grad()\n",
    "        x_data, y_data = x_data.to(model1.device), y_data.to(model1.device)\n",
    "#         if self.opt == \"LBFGS\":\n",
    "#             def closure(predictions = False):\n",
    "#                 \"\"\"\n",
    "#                 Function is necessary for LBFGS, returns the total loss of the model\n",
    "\n",
    "#                 Args:\n",
    "#                     predictions (bool, optional): Returns prediction loss if true, returns total loss if False\n",
    "\n",
    "#                 Returns:\n",
    "#                     tensor: Loss\n",
    "#                 \"\"\"\n",
    "#                 opt.zero_grad()\n",
    "#                 _pred = self.forward(x_data)\n",
    "#                 _pred_loss = t_get_mse(_pred, y_data)#, self.xdos), perc = True)       \n",
    "#                 _pred_loss *= 1e7\n",
    "#                 #self.alignment = (self.alignment - 20) * (self.xdos[1] - self.xdos[0])\n",
    "#                 _pred_loss = torch.nan_to_num(_pred_loss, nan=lowest_loss.item(), posinf = lowest_loss.item(), neginf = lowest_loss.item())                 \n",
    "#                 _reg_loss = torch.sum(torch.pow(self.linear.weight,2))\n",
    "#                 _reg_loss *= self.reg.item()\n",
    "#                 _new_loss = _pred_loss + _reg_loss\n",
    "#                 _new_loss.backward()\n",
    "#                 # global z \n",
    "#                 # z = (torch.sum(abs(self.linear.weight.grad)))\n",
    "#                 if predictions:\n",
    "#                     return _pred_loss\n",
    "#                 return _new_loss\n",
    "#             opt.step(closure)\n",
    "#             #print (z)\n",
    "#             with torch.no_grad():\n",
    "#                 pred = self.forward(x_data)\n",
    "#                 pred_loss = t_get_rmse(pred, y_data)\n",
    "#                 reg_loss = torch.sum(torch.pow(self.linear.weight,2))\n",
    "#                 reg_loss *= self.reg.item()\n",
    "#                 new_loss = pred_loss + reg_loss\n",
    "#             if pred_loss >100000 or (pred_loss.isnan().any()) :\n",
    "#                 print (\"Optimizer shows weird behaviour, reinitializing at previous best_State\")\n",
    "#                 self.load_state_dict(best_state)\n",
    "#                 opt = torch.optim.LBFGS(self.parameters(), lr = lr)\n",
    "#             if epoch %10 == 1:\n",
    "#                 loss_history.append(lowest_loss.item())\n",
    "#         elif self.opt == \"Adam\":\n",
    "        pred = model1.forward(x_data)\n",
    "\n",
    "    \n",
    "        pred_loss = loss.t_get_mse(pred, y_data)#, self.xdos, perc = True)\n",
    "        total_error += pred_loss\n",
    "        new_loss = 1E7 * pred_loss\n",
    "        new_loss.backward()\n",
    "        opt_model.step()\n",
    "        opt_alignment.step()\n",
    "        if pred_loss >100000 or (pred_loss.isnan().any()) :\n",
    "            print (\"Optimizer shows weird behaviour, reinitializing at previous best_State\")\n",
    "            model1.load_state_dict(best_state)\n",
    "            opt = torch.optim.Adam(model1.parameters(), lr = lr, weight_decay = 0)\n",
    "\n",
    "    with torch.no_grad():\n",
    "        critical_pred = model1.forward(soap_dataset.X[critical_indexes])\n",
    "        new_loss = total_error\n",
    "        scheduler_model.step(new_loss)\n",
    "        scheduler_alignment.step(new_loss)\n",
    "        if lowest_loss - new_loss > tol: #threshold to stop training\n",
    "            best_state = copy.deepcopy(model1.state_dict())\n",
    "            lowest_loss = new_loss\n",
    "            trigger = 0\n",
    "        else:\n",
    "            trigger +=1\n",
    "        if epoch %1000 == 1:\n",
    "            loss_history.append(lowest_loss.item())\n",
    "        for i in range(len(critical_indexes)):\n",
    "            lines[i].set_ydata(critical_pred[i].detach().numpy())\n",
    "        fig.suptitle(\"Epochs: {}, Pred loss: {}, Lowest loss:{}, Trigger: {}\".format(epoch, new_loss.item(), lowest_loss.item(), trigger))\n",
    "        fig.canvas.draw()\n",
    "        fig.canvas.flush_events()\n",
    "\n",
    "        if trigger > threshold:\n",
    "            model1.load_state_dict(best_state)\n",
    "            print (\"Implemented early stopping with lowest_loss: {}\".format(lowest_loss))\n"
   ]
  },
  {
   "cell_type": "code",
   "execution_count": 12,
   "id": "66786581",
   "metadata": {
    "ExecuteTime": {
     "end_time": "2023-02-16T08:39:06.823661Z",
     "start_time": "2023-02-16T08:39:06.819813Z"
    }
   },
   "outputs": [],
   "source": [
    "def generate_energy_index(eigenenergy_length):\n",
    "    n_structures = len(eigenenergy_length)\n",
    "    total_index = []\n",
    "    for i, e_vals in enumerate(eigenenergy_length):\n",
    "        indiv_index = torch.zeros(e_vals) + i\n",
    "        total_index.append(indiv_index)\n",
    "    total_index = torch.hstack(total_index)\n",
    "    return total_index.long()"
   ]
  },
  {
   "cell_type": "code",
   "execution_count": 13,
   "id": "54ca4d16",
   "metadata": {
    "ExecuteTime": {
     "end_time": "2023-02-16T08:39:07.380768Z",
     "start_time": "2023-02-16T08:39:07.157417Z"
    }
   },
   "outputs": [],
   "source": [
    "energy_index = generate_energy_index(eigenenergy_length)"
   ]
  },
  {
   "cell_type": "code",
   "execution_count": 14,
   "id": "c5a39d14",
   "metadata": {
    "ExecuteTime": {
     "end_time": "2023-02-16T08:39:07.473228Z",
     "start_time": "2023-02-16T08:39:07.387758Z"
    }
   },
   "outputs": [],
   "source": [
    "energies = torch.hstack(full_eigen_energies).view(-1,1)"
   ]
  },
  {
   "cell_type": "code",
   "execution_count": 15,
   "id": "d9e44023",
   "metadata": {
    "ExecuteTime": {
     "end_time": "2023-02-16T08:39:08.146583Z",
     "start_time": "2023-02-16T08:39:08.136158Z"
    }
   },
   "outputs": [],
   "source": [
    "def torch_generate_dos(energies, eigenenergy_length_t, normalization, splits):\n",
    "    ldoses = []\n",
    "    for i in tqdm(range(len(splits) - 1)):\n",
    "        indexes = generate_energy_index(eigenenergy_length_t[splits[i]:splits[i+1]])\n",
    "        E = energies[torch.sum(eigenenergy_length_t[:splits[i]]):torch.sum(eigenenergy_length_t[:splits[i]]) + torch.sum(eigenenergy_length_t[splits[i]:splits[i+1]])]\n",
    "        split_ldos = torch.zeros(splits[i+1] - splits[i], len(xdos))\n",
    "        \n",
    "        new_ldos = (torch.exp(-0.5*((xdos - E)/sigma)**2))\n",
    "        \n",
    "        split_ldos.index_add_(0, indexes, new_ldos)\n",
    "        \n",
    "        ldoses.append(split_ldos)\n",
    "    ldoses = torch.vstack(ldoses)     \n",
    "    \n",
    "    final_ldos = ((ldoses.T * normalization ).T)* 2\n",
    "    return final_ldos\n",
    "    \n"
   ]
  },
  {
   "cell_type": "code",
   "execution_count": 16,
   "id": "7689c586",
   "metadata": {
    "ExecuteTime": {
     "end_time": "2023-02-16T08:39:08.576690Z",
     "start_time": "2023-02-16T08:39:08.574219Z"
    }
   },
   "outputs": [],
   "source": [
    "# ldos2 = torch_generate_dos(energies, eigenenergy_length_t, normalization, [0, 100, 200, 300, 400, 500, 800, 1039])"
   ]
  },
  {
   "cell_type": "code",
   "execution_count": 17,
   "id": "d7efc2ab",
   "metadata": {
    "ExecuteTime": {
     "end_time": "2023-02-16T08:39:09.032679Z",
     "start_time": "2023-02-16T08:39:09.027183Z"
    }
   },
   "outputs": [
    {
     "data": {
      "text/plain": [
       "torch.Size([435])"
      ]
     },
     "execution_count": 17,
     "metadata": {},
     "output_type": "execute_result"
    }
   ],
   "source": [
    "alignment.shape"
   ]
  },
  {
   "cell_type": "code",
   "execution_count": 18,
   "id": "d61874f7",
   "metadata": {
    "ExecuteTime": {
     "end_time": "2023-02-16T08:39:09.588529Z",
     "start_time": "2023-02-16T08:39:09.585975Z"
    }
   },
   "outputs": [],
   "source": [
    "lr = 100\n",
    "n_epochs = 1000\n",
    "\n"
   ]
  },
  {
   "cell_type": "code",
   "execution_count": 19,
   "id": "54872698",
   "metadata": {
    "ExecuteTime": {
     "end_time": "2023-02-16T08:39:19.381624Z",
     "start_time": "2023-02-16T08:39:13.631029Z"
    }
   },
   "outputs": [
    {
     "name": "stderr",
     "output_type": "stream",
     "text": [
      "100%|████████████████████████████████████████████████████████████████████████████████████████████████████████████████████████████████████████████████████████████████████| 435/435 [00:05<00:00, 75.96it/s]\n"
     ]
    }
   ],
   "source": [
    "sigma = torch.tensor(0.3)\n",
    "dx = 0.05\n",
    "\n",
    "emin = -24.5537\n",
    "emax = 11.3464\n",
    "\n",
    "\n",
    "ndos = int((emax-emin+3) / dx) #number of points\n",
    "xdos = torch.linspace(emin-1.5, emax+1.5, ndos) # extend the energy grid by 3eV \n",
    "ldos = torch.zeros((len(small_index), ndos))\n",
    "for i in tqdm(range(len(small_index))):#for every structure    \n",
    "    ldos[i] = torch.sum(torch.exp(-0.5*((alignment[i] + xdos - full_eigen_energies[small_index[i]].view(-1,1))/sigma)**2), dim = 0)\n",
    "\n",
    "final_ldos = ((ldos.T * normalization ).T)* 2"
   ]
  },
  {
   "cell_type": "code",
   "execution_count": 20,
   "id": "60bd101f",
   "metadata": {
    "ExecuteTime": {
     "end_time": "2023-02-16T08:39:19.400819Z",
     "start_time": "2023-02-16T08:39:19.385744Z"
    }
   },
   "outputs": [],
   "source": [
    "loss = torch.sum((1 - torch.abs((torch.corrcoef(torch.hstack([kernel_features, final_ldos]).T)[0][1:])))**2)"
   ]
  },
  {
   "cell_type": "code",
   "execution_count": 21,
   "id": "908f44b7",
   "metadata": {
    "ExecuteTime": {
     "end_time": "2023-02-16T08:39:19.417545Z",
     "start_time": "2023-02-16T08:39:19.404028Z"
    }
   },
   "outputs": [
    {
     "name": "stdout",
     "output_type": "stream",
     "text": [
      "tensor(212.8861, grad_fn=<SumBackward0>)\n"
     ]
    }
   ],
   "source": [
    "print (loss)"
   ]
  },
  {
   "cell_type": "code",
   "execution_count": null,
   "id": "7e04ff2d",
   "metadata": {
    "ExecuteTime": {
     "start_time": "2023-02-16T08:39:58.336Z"
    }
   },
   "outputs": [
    {
     "name": "stderr",
     "output_type": "stream",
     "text": [
      "  0%|▏                                                                                                                                                                  | 1/1000 [00:09<2:45:56,  9.97s/it]"
     ]
    },
    {
     "name": "stdout",
     "output_type": "stream",
     "text": [
      "tensor(212.8861, grad_fn=<SumBackward0>)\n"
     ]
    },
    {
     "name": "stderr",
     "output_type": "stream",
     "text": [
      "\r",
      "  0%|▎                                                                                                                                                                  | 2/1000 [00:21<2:56:37, 10.62s/it]"
     ]
    },
    {
     "name": "stdout",
     "output_type": "stream",
     "text": [
      "tensor(212.1835, grad_fn=<SumBackward0>)\n"
     ]
    },
    {
     "name": "stderr",
     "output_type": "stream",
     "text": [
      "\r",
      "  0%|▍                                                                                                                                                                  | 3/1000 [00:29<2:41:25,  9.71s/it]"
     ]
    },
    {
     "name": "stdout",
     "output_type": "stream",
     "text": [
      "tensor(207.9559, grad_fn=<SumBackward0>)\n"
     ]
    },
    {
     "name": "stderr",
     "output_type": "stream",
     "text": [
      "\r",
      "  0%|▋                                                                                                                                                                  | 4/1000 [00:37<2:27:05,  8.86s/it]"
     ]
    },
    {
     "name": "stdout",
     "output_type": "stream",
     "text": [
      "tensor(204.2679, grad_fn=<SumBackward0>)\n"
     ]
    },
    {
     "name": "stderr",
     "output_type": "stream",
     "text": [
      "\r",
      "  0%|▊                                                                                                                                                                  | 5/1000 [00:45<2:25:24,  8.77s/it]"
     ]
    },
    {
     "name": "stdout",
     "output_type": "stream",
     "text": [
      "tensor(202.9791, grad_fn=<SumBackward0>)\n"
     ]
    },
    {
     "name": "stderr",
     "output_type": "stream",
     "text": [
      "\r",
      "  1%|▉                                                                                                                                                                  | 6/1000 [00:54<2:23:37,  8.67s/it]"
     ]
    },
    {
     "name": "stdout",
     "output_type": "stream",
     "text": [
      "tensor(203.2197, grad_fn=<SumBackward0>)\n"
     ]
    },
    {
     "name": "stderr",
     "output_type": "stream",
     "text": [
      "\r",
      "  1%|█▏                                                                                                                                                                 | 7/1000 [01:02<2:21:07,  8.53s/it]"
     ]
    },
    {
     "name": "stdout",
     "output_type": "stream",
     "text": [
      "tensor(203.7145, grad_fn=<SumBackward0>)\n"
     ]
    },
    {
     "name": "stderr",
     "output_type": "stream",
     "text": [
      "\r",
      "  1%|█▎                                                                                                                                                                 | 8/1000 [01:10<2:20:22,  8.49s/it]"
     ]
    },
    {
     "name": "stdout",
     "output_type": "stream",
     "text": [
      "tensor(203.2850, grad_fn=<SumBackward0>)\n"
     ]
    },
    {
     "name": "stderr",
     "output_type": "stream",
     "text": [
      "\r",
      "  1%|█▍                                                                                                                                                                 | 9/1000 [01:18<2:16:03,  8.24s/it]"
     ]
    },
    {
     "name": "stdout",
     "output_type": "stream",
     "text": [
      "tensor(202.0296, grad_fn=<SumBackward0>)\n"
     ]
    }
   ],
   "source": [
    "lr = 0.01\n",
    "alignment = torch.nn.parameter.Parameter(torch.zeros(len(small_index)))\n",
    "n_epochs = 1000\n",
    "\n",
    "optimizer = torch.optim.Adam(\n",
    "                [alignment],\n",
    "                lr=lr)#,  line_search_fn=\"strong_wolfe\")\n",
    "\n",
    "for i in tqdm(range(n_epochs)):\n",
    "    def closure():\n",
    "        optimizer.zero_grad()\n",
    "        sigma = torch.tensor(0.3)\n",
    "        dx = 0.05\n",
    "\n",
    "        emin = -24.5537\n",
    "        emax = 11.3464\n",
    "\n",
    "\n",
    "        ndos = int((emax-emin+3) / dx) #number of points\n",
    "        xdos = torch.linspace(emin-1.5, emax+1.5, ndos) # extend the energy grid by 3eV \n",
    "        ldos = torch.zeros((len(small_index), ndos))\n",
    "        for i in (range(len(small_index))):#for every structure    \n",
    "            ldos[i] = torch.sum(torch.exp(-0.5*((alignment[i] + xdos - full_eigen_energies[small_index[i]].view(-1,1))/sigma)**2), dim = 0)\n",
    "\n",
    "        final_ldos = ((ldos.T * normalization ).T)* 2\n",
    "        pc_loss = torch.sum((1 - torch.abs((torch.corrcoef(torch.hstack([kernel_features, final_ldos]).T)[0][1:])))**2)\n",
    "        #print (pc_loss)\n",
    "        pc_loss.backward()\n",
    "        return pc_loss\n",
    "    \n",
    "    mse = optimizer.step(closure)\n",
    "    \n",
    "    print (mse)"
   ]
  },
  {
   "cell_type": "code",
   "execution_count": null,
   "id": "a27ee561",
   "metadata": {},
   "outputs": [],
   "source": []
  },
  {
   "cell_type": "code",
   "execution_count": 80,
   "id": "50611879",
   "metadata": {
    "ExecuteTime": {
     "end_time": "2023-02-15T21:35:58.937150Z",
     "start_time": "2023-02-15T21:35:58.697835Z"
    }
   },
   "outputs": [
    {
     "data": {
      "text/plain": [
       "[<matplotlib.lines.Line2D at 0x7f10ec0a2c10>]"
      ]
     },
     "execution_count": 80,
     "metadata": {},
     "output_type": "execute_result"
    },
    {
     "data": {
      "image/png": "[encoded data removed]",
      "text/plain": [
       "<Figure size 432x288 with 1 Axes>"
      ]
     },
     "metadata": {
      "needs_background": "light"
     },
     "output_type": "display_data"
    }
   ],
   "source": [
    "%matplotlib inline\n",
    "index = 50\n",
    "plt.plot(xdos, o_ldos[small_index[index]], c = 'r')\n",
    "plt.plot(xdos, final_ldos[index].detach(), c = 'b')"
   ]
  },
  {
   "cell_type": "markdown",
   "id": "9e9f040b",
   "metadata": {},
   "source": [
    "torch.corrcoef\n",
    "torch.var"
   ]
  },
  {
   "cell_type": "code",
   "execution_count": 24,
   "id": "675d9ffc",
   "metadata": {
    "ExecuteTime": {
     "end_time": "2023-02-16T10:05:38.418301Z",
     "start_time": "2023-02-16T10:05:38.353655Z"
    }
   },
   "outputs": [
    {
     "name": "stdout",
     "output_type": "stream",
     "text": [
      "tensor(552253)\n"
     ]
    },
    {
     "ename": "NameError",
     "evalue": "name 'test_ldos' is not defined",
     "output_type": "error",
     "traceback": [
      "\u001b[0;31m---------------------------------------------------------------------------\u001b[0m",
      "\u001b[0;31mNameError\u001b[0m                                 Traceback (most recent call last)",
      "Input \u001b[0;32mIn [24]\u001b[0m, in \u001b[0;36m<cell line: 4>\u001b[0;34m()\u001b[0m\n\u001b[1;32m      1\u001b[0m tol \u001b[38;5;241m=\u001b[39m \u001b[38;5;241m1E-4\u001b[39m\n\u001b[1;32m      2\u001b[0m \u001b[38;5;28mprint\u001b[39m (torch\u001b[38;5;241m.\u001b[39msum(ldos \u001b[38;5;241m>\u001b[39m tol))\n\u001b[0;32m----> 4\u001b[0m plt\u001b[38;5;241m.\u001b[39mplot(xdos[(\u001b[43mtest_ldos\u001b[49m \u001b[38;5;241m>\u001b[39m tol)], test_ldos[(test_ldos \u001b[38;5;241m>\u001b[39m tol)])\n",
      "\u001b[0;31mNameError\u001b[0m: name 'test_ldos' is not defined"
     ]
    }
   ],
   "source": [
    "tol = 1E-4\n",
    "print (torch.sum(test_ldos > tol))\n",
    "\n",
    "plt.plot(xdos[(test_ldos > tol)], test_ldos[(test_ldos > tol)])"
   ]
  },
  {
   "cell_type": "code",
   "execution_count": 22,
   "id": "938df9f3",
   "metadata": {
    "ExecuteTime": {
     "end_time": "2023-02-16T10:05:21.184180Z",
     "start_time": "2023-02-16T10:05:20.379077Z"
    }
   },
   "outputs": [
    {
     "ename": "NameError",
     "evalue": "name 'test_ldos' is not defined",
     "output_type": "error",
     "traceback": [
      "\u001b[0;31m---------------------------------------------------------------------------\u001b[0m",
      "\u001b[0;31mNameError\u001b[0m                                 Traceback (most recent call last)",
      "Input \u001b[0;32mIn [22]\u001b[0m, in \u001b[0;36m<cell line: 1>\u001b[0;34m()\u001b[0m\n\u001b[0;32m----> 1\u001b[0m \u001b[38;5;28mlen\u001b[39m(xdos[(\u001b[43mtest_ldos\u001b[49m \u001b[38;5;241m>\u001b[39m tol)])\n",
      "\u001b[0;31mNameError\u001b[0m: name 'test_ldos' is not defined"
     ]
    }
   ],
   "source": [
    "len(xdos[(test_ldos > tol)])"
   ]
  },
  {
   "cell_type": "code",
   "execution_count": 212,
   "id": "e357e0fa",
   "metadata": {
    "ExecuteTime": {
     "end_time": "2023-02-15T18:43:55.022917Z",
     "start_time": "2023-02-15T18:43:55.004512Z"
    }
   },
   "outputs": [
    {
     "data": {
      "text/plain": [
       "tensor([6.3422e-155, 5.0089e-153, 3.8472e-151, 2.8738e-149, 2.0878e-147,\n",
       "        1.4751e-145, 1.0136e-143, 6.7735e-142, 4.4023e-140, 2.7826e-138,\n",
       "        1.7105e-136, 1.0226e-134, 5.9460e-133, 3.3623e-131, 1.8491e-129,\n",
       "        9.8900e-128, 5.1445e-126, 2.6026e-124, 1.2805e-122, 6.1272e-121,\n",
       "        2.8514e-119, 1.2906e-117, 5.6807e-116, 2.4319e-114, 1.0125e-112,\n",
       "        4.0999e-111, 1.6146e-109, 6.1840e-108, 2.3035e-106, 8.3453e-105,\n",
       "        2.9404e-103, 1.0076e-101, 3.3580e-100,  1.0885e-98,  3.4313e-97,\n",
       "         1.0520e-95,  3.1370e-94,  9.0977e-93,  2.5661e-91,  7.0396e-90,\n",
       "         1.8782e-88,  4.8739e-87,  1.2301e-85,  3.0194e-84,  7.2086e-83,\n",
       "         1.6738e-81,  3.7801e-80,  8.3031e-79,  1.7738e-77,  3.6858e-76,\n",
       "         7.4489e-75,  1.4642e-73,  2.7993e-72,  5.2054e-71,  9.4147e-70,\n",
       "         1.6562e-68,  2.8339e-67,  4.7164e-66,  7.6348e-65,  1.2021e-63,\n",
       "         1.8411e-62,  2.7426e-61,  3.9740e-60,  5.6011e-59,  7.6789e-58,\n",
       "         1.0240e-56,  1.3284e-55,  1.6761e-54,  2.0573e-53,  2.4563e-52,\n",
       "         2.8529e-51,  3.2233e-50,  3.5426e-49,  3.7876e-48,  3.9395e-47,\n",
       "         3.9860e-46,  3.9235e-45,  3.7572e-44,  3.5002e-43,  3.1723e-42,\n",
       "         2.7972e-41,  2.3996e-40,  2.0027e-39,  1.6263e-38,  1.2848e-37,\n",
       "         9.8763e-37,  7.3866e-36,  5.3754e-35,  3.8061e-34,  2.6223e-33,\n",
       "         1.7580e-32,  1.1468e-31,  7.2798e-31,  4.4967e-30,  2.7030e-29,\n",
       "         1.5811e-28,  9.0000e-28,  4.9857e-27,  2.6878e-26,  1.4102e-25,\n",
       "         7.2005e-25,  3.5783e-24,  1.7306e-23,  8.1466e-23,  3.7324e-22,\n",
       "         1.6644e-21,  7.2239e-21,  3.0518e-20,  1.2549e-19,  5.0228e-19,\n",
       "         1.9569e-18,  7.4212e-18,  2.7396e-17,  9.8450e-17,  3.4439e-16,\n",
       "         1.1728e-15,  3.8879e-15,  1.2547e-14,  3.9422e-14,  1.2058e-13,\n",
       "         3.5908e-13,  1.0411e-12,  2.9388e-12,  8.0771e-12,  2.1615e-11,\n",
       "         5.6326e-11,  1.4292e-10,  3.5316e-10,  8.4984e-10,  1.9917e-09,\n",
       "         4.5462e-09,  1.0108e-08,  2.1891e-08,  4.6188e-08,  9.4948e-08,\n",
       "         1.9018e-07,  3.7123e-07,  7.0625e-07,  1.3097e-06,  2.3680e-06,\n",
       "         4.1747e-06,  7.1780e-06,  1.2040e-05,  1.9703e-05,  3.1471e-05,\n",
       "         4.9073e-05,  7.4723e-05,  1.1115e-04,  1.6157e-04,  2.2961e-04,\n",
       "         3.1913e-04,  4.3403e-04,  5.7795e-04,  7.5390e-04,  9.6401e-04,\n",
       "         1.2092e-03,  1.4889e-03,  1.8013e-03,  2.1430e-03,  2.5095e-03,\n",
       "         2.8954e-03,  3.2947e-03,  3.7016e-03,  4.1104e-03,  4.5160e-03,\n",
       "         4.9145e-03,  5.3026e-03,  5.6785e-03,  6.0412e-03,  6.3907e-03,\n",
       "         6.7276e-03,  7.0533e-03,  7.3692e-03,  7.6766e-03,  7.9769e-03,\n",
       "         8.2709e-03,  8.5594e-03,  8.8429e-03,  9.1222e-03,  9.3985e-03,\n",
       "         9.6734e-03,  9.9487e-03,  1.0227e-02,  1.0510e-02,  1.0801e-02,\n",
       "         1.1099e-02,  1.1406e-02,  1.1722e-02,  1.2045e-02,  1.2374e-02,\n",
       "         1.2710e-02,  1.3052e-02,  1.3400e-02,  1.3755e-02,  1.4118e-02,\n",
       "         1.4490e-02,  1.4869e-02,  1.5254e-02,  1.5642e-02,  1.6028e-02,\n",
       "         1.6404e-02,  1.6766e-02,  1.7105e-02,  1.7414e-02,  1.7688e-02,\n",
       "         1.7922e-02,  1.8112e-02,  1.8255e-02,  1.8351e-02,  1.8399e-02,\n",
       "         1.8399e-02,  1.8352e-02,  1.8259e-02,  1.8120e-02,  1.7937e-02,\n",
       "         1.7710e-02,  1.7442e-02,  1.7136e-02,  1.6794e-02,  1.6423e-02,\n",
       "         1.6028e-02,  1.5613e-02,  1.5183e-02,  1.4743e-02,  1.4293e-02,\n",
       "         1.3835e-02,  1.3368e-02,  1.2889e-02,  1.2397e-02,  1.1888e-02,\n",
       "         1.1362e-02,  1.0818e-02,  1.0259e-02,  9.6895e-03,  9.1150e-03,\n",
       "         8.5447e-03,  7.9887e-03,  7.4592e-03,  6.9691e-03,  6.5323e-03,\n",
       "         6.1628e-03,  5.8745e-03,  5.6806e-03,  5.5934e-03,  5.6234e-03,\n",
       "         5.7799e-03,  6.0695e-03,  6.4967e-03,  7.0630e-03,  7.7663e-03,\n",
       "         8.6010e-03,  9.5568e-03,  1.0619e-02,  1.1768e-02,  1.2979e-02,\n",
       "         1.4224e-02,  1.5471e-02,  1.6688e-02,  1.7842e-02,  1.8901e-02,\n",
       "         1.9838e-02,  2.0628e-02,  2.1254e-02,  2.1703e-02,  2.1969e-02,\n",
       "         2.2054e-02,  2.1963e-02,  2.1709e-02,  2.1309e-02,  2.0785e-02,\n",
       "         2.0162e-02,  1.9465e-02,  1.8721e-02,  1.7956e-02,  1.7192e-02,\n",
       "         1.6449e-02,  1.5740e-02,  1.5075e-02,  1.4459e-02,  1.3892e-02,\n",
       "         1.3370e-02,  1.2888e-02,  1.2440e-02,  1.2019e-02,  1.1618e-02,\n",
       "         1.1233e-02,  1.0862e-02,  1.0505e-02,  1.0161e-02,  9.8354e-03,\n",
       "         9.5303e-03,  9.2505e-03,  9.0001e-03,  8.7829e-03,  8.6025e-03,\n",
       "         8.4619e-03,  8.3648e-03,  8.3153e-03,  8.3191e-03,  8.3840e-03,\n",
       "         8.5201e-03,  8.7394e-03,  9.0557e-03,  9.4823e-03,  1.0031e-02,\n",
       "         1.0711e-02,  1.1523e-02,  1.2465e-02,  1.3523e-02,  1.4678e-02,\n",
       "         1.5903e-02,  1.7166e-02,  1.8430e-02,  1.9662e-02,  2.0826e-02,\n",
       "         2.1895e-02,  2.2845e-02,  2.3663e-02,  2.4343e-02,  2.4887e-02,\n",
       "         2.5307e-02,  2.5619e-02,  2.5846e-02,  2.6013e-02,  2.6148e-02,\n",
       "         2.6274e-02,  2.6415e-02,  2.6587e-02,  2.6803e-02,  2.7072e-02,\n",
       "         2.7395e-02,  2.7774e-02,  2.8203e-02,  2.8676e-02,  2.9185e-02,\n",
       "         2.9720e-02,  3.0271e-02,  3.0826e-02,  3.1369e-02,  3.1886e-02,\n",
       "         3.2363e-02,  3.2785e-02,  3.3140e-02,  3.3418e-02,  3.3616e-02,\n",
       "         3.3734e-02,  3.3776e-02,  3.3752e-02,  3.3675e-02,  3.3559e-02,\n",
       "         3.3418e-02,  3.3263e-02,  3.3102e-02,  3.2942e-02,  3.2781e-02,\n",
       "         3.2618e-02,  3.2444e-02,  3.2252e-02,  3.2032e-02,  3.1775e-02,\n",
       "         3.1472e-02,  3.1116e-02,  3.0701e-02,  3.0226e-02,  2.9688e-02,\n",
       "         2.9089e-02,  2.8432e-02,  2.7722e-02,  2.6965e-02,  2.6168e-02,\n",
       "         2.5340e-02,  2.4489e-02,  2.3622e-02,  2.2749e-02,  2.1873e-02,\n",
       "         2.1000e-02,  2.0131e-02,  1.9268e-02,  1.8409e-02,  1.7553e-02,\n",
       "         1.6697e-02,  1.5840e-02,  1.4981e-02,  1.4119e-02,  1.3255e-02,\n",
       "         1.2392e-02,  1.1534e-02,  1.0685e-02,  9.8508e-03,  9.0375e-03,\n",
       "         8.2506e-03,  7.4957e-03,  6.7779e-03,  6.1023e-03,  5.4731e-03,\n",
       "         4.8947e-03,  4.3709e-03,  3.9051e-03,  3.5007e-03,  3.1604e-03,\n",
       "         2.8866e-03,  2.6809e-03,  2.5448e-03,  2.4785e-03,  2.4823e-03,\n",
       "         2.5554e-03,  2.6967e-03,  2.9047e-03,  3.1773e-03,  3.5120e-03,\n",
       "         3.9057e-03,  4.3549e-03,  4.8558e-03,  5.4040e-03,  5.9951e-03,\n",
       "         6.6248e-03,  7.2894e-03,  7.9860e-03,  8.7128e-03,  9.4696e-03,\n",
       "         1.0257e-02,  1.1078e-02,  1.1935e-02,  1.2832e-02,  1.3770e-02,\n",
       "         1.4753e-02,  1.5779e-02,  1.6847e-02,  1.7953e-02,  1.9089e-02,\n",
       "         2.0248e-02,  2.1419e-02,  2.2587e-02,  2.3740e-02,  2.4860e-02,\n",
       "         2.5930e-02,  2.6934e-02,  2.7854e-02,  2.8677e-02,  2.9391e-02,\n",
       "         2.9987e-02,  3.0465e-02,  3.0828e-02,  3.1083e-02,  3.1246e-02,\n",
       "         3.1334e-02,  3.1367e-02,  3.1367e-02,  3.1353e-02,  3.1345e-02,\n",
       "         3.1357e-02,  3.1402e-02,  3.1485e-02,  3.1612e-02,  3.1781e-02,\n",
       "         3.1991e-02,  3.2236e-02,  3.2511e-02,  3.2810e-02,  3.3127e-02,\n",
       "         3.3455e-02,  3.3790e-02,  3.4128e-02,  3.4464e-02,  3.4794e-02,\n",
       "         3.5115e-02,  3.5424e-02,  3.5715e-02,  3.5985e-02,  3.6228e-02,\n",
       "         3.6439e-02,  3.6610e-02,  3.6737e-02,  3.6813e-02,  3.6834e-02,\n",
       "         3.6796e-02,  3.6700e-02,  3.6546e-02,  3.6337e-02,  3.6082e-02,\n",
       "         3.5786e-02,  3.5457e-02,  3.5104e-02,  3.4733e-02,  3.4347e-02,\n",
       "         3.3949e-02,  3.3540e-02,  3.3121e-02,  3.2693e-02,  3.2260e-02,\n",
       "         3.1829e-02,  3.1409e-02,  3.1009e-02,  3.0644e-02,  3.0325e-02,\n",
       "         3.0061e-02,  2.9857e-02,  2.9716e-02,  2.9633e-02,  2.9600e-02,\n",
       "         2.9603e-02,  2.9629e-02,  2.9661e-02,  2.9684e-02,  2.9686e-02,\n",
       "         2.9655e-02,  2.9585e-02,  2.9473e-02,  2.9319e-02,  2.9126e-02,\n",
       "         2.8900e-02,  2.8650e-02,  2.8384e-02,  2.8113e-02,  2.7847e-02,\n",
       "         2.7594e-02,  2.7362e-02,  2.7156e-02,  2.6977e-02,  2.6824e-02,\n",
       "         2.6696e-02,  2.6588e-02,  2.6496e-02,  2.6415e-02,  2.6346e-02,\n",
       "         2.6287e-02,  2.6243e-02,  2.6218e-02,  2.6216e-02,  2.6243e-02,\n",
       "         2.6301e-02,  2.6393e-02,  2.6517e-02,  2.6669e-02,  2.6844e-02,\n",
       "         2.7035e-02,  2.7236e-02,  2.7439e-02,  2.7637e-02,  2.7824e-02,\n",
       "         2.7993e-02,  2.8140e-02,  2.8262e-02,  2.8354e-02,  2.8416e-02,\n",
       "         2.8448e-02,  2.8452e-02,  2.8433e-02,  2.8395e-02,  2.8345e-02,\n",
       "         2.8290e-02,  2.8237e-02,  2.8193e-02,  2.8165e-02,  2.8157e-02,\n",
       "         2.8174e-02,  2.8218e-02,  2.8288e-02,  2.8385e-02,  2.8504e-02,\n",
       "         2.8638e-02,  2.8781e-02,  2.8924e-02,  2.9058e-02,  2.9173e-02,\n",
       "         2.9263e-02,  2.9321e-02,  2.9345e-02,  2.9334e-02,  2.9291e-02,\n",
       "         2.9219e-02,  2.9125e-02,  2.9017e-02,  2.8904e-02,  2.8792e-02,\n",
       "         2.8691e-02,  2.8606e-02,  2.8541e-02,  2.8500e-02,  2.8481e-02,\n",
       "         2.8483e-02,  2.8499e-02,  2.8521e-02,  2.8540e-02,  2.8546e-02,\n",
       "         2.8530e-02,  2.8484e-02,  2.8405e-02,  2.8292e-02,  2.8148e-02,\n",
       "         2.7980e-02,  2.7796e-02,  2.7609e-02,  2.7430e-02,  2.7269e-02,\n",
       "         2.7134e-02,  2.7031e-02,  2.6963e-02,  2.6927e-02,  2.6919e-02,\n",
       "         2.6930e-02,  2.6948e-02,  2.6961e-02,  2.6952e-02,  2.6904e-02,\n",
       "         2.6801e-02,  2.6626e-02,  2.6365e-02,  2.6006e-02,  2.5543e-02,\n",
       "         2.4973e-02,  2.4301e-02,  2.3538e-02,  2.2700e-02,  2.1810e-02,\n",
       "         2.0892e-02,  1.9973e-02,  1.9080e-02,  1.8233e-02,  1.7450e-02,\n",
       "         1.6737e-02,  1.6094e-02,  1.5512e-02,  1.4972e-02,  1.4453e-02,\n",
       "         1.3929e-02,  1.3377e-02,  1.2778e-02,  1.2118e-02,  1.1393e-02,\n",
       "         1.0608e-02,  9.7757e-03,  8.9154e-03,  8.0504e-03,  7.2048e-03,\n",
       "         6.4011e-03,  5.6575e-03,  4.9864e-03,  4.3937e-03,  3.8789e-03,\n",
       "         3.4362e-03,  3.0560e-03,  2.7265e-03,  2.4358e-03,  2.1729e-03,\n",
       "         1.9294e-03,  1.6996e-03,  1.4805e-03,  1.2716e-03,  1.0744e-03,\n",
       "         8.9123e-04,  7.2458e-04,  5.7664e-04,  4.4874e-04,  3.4120e-04,\n",
       "         2.5331e-04,  1.8353e-04,  1.2972e-04,  8.9409e-05,  6.0078e-05,\n",
       "         3.9347e-05,  2.5111e-05,  1.5615e-05,  9.4585e-06,  5.5809e-06,\n",
       "         3.2071e-06,  1.7948e-06,  9.7804e-07,  5.1895e-07,  2.6809e-07,\n",
       "         1.3483e-07,  6.6014e-08,  3.1463e-08,  1.4596e-08,  6.5912e-09,\n",
       "         2.8969e-09,  1.2392e-09,  5.1590e-10,  2.0903e-10,  8.2419e-11,\n",
       "         3.1625e-11,  1.1809e-11,  4.2907e-12,  1.5171e-12,  5.2193e-13,\n",
       "         1.7472e-13,  5.6912e-14,  1.8037e-14,  5.5620e-15,  1.6688e-15,\n",
       "         4.8712e-16,  1.3835e-16,  3.8227e-17,  1.0276e-17,  2.6876e-18,\n",
       "         6.8383e-19,  1.6927e-19,  4.0763e-20,  9.5496e-21,  2.1764e-21,\n",
       "         4.8253e-22,  1.0407e-22,  2.1836e-23,  4.4569e-24,  8.8491e-25,\n",
       "         1.7091e-25,  3.2112e-26,  5.8689e-27,  1.0434e-27,  1.8044e-28,\n",
       "         3.0355e-29,  4.9671e-30,  7.9062e-31,  1.2241e-31,  1.8435e-32,\n",
       "         2.7007e-33,  3.8482e-34,  5.3338e-35,  7.1908e-36,  9.4296e-37,\n",
       "         1.2028e-37,  1.4922e-38,  1.8008e-39,  2.1137e-40,  2.4132e-41,\n",
       "         2.6798e-42,  2.8944e-43,  3.0408e-44,  3.1072e-45,  3.0882e-46,\n",
       "         2.9853e-47,  2.8069e-48,  2.5669e-49,  2.2832e-50,  1.9753e-51,\n",
       "         1.6621e-52,  1.3603e-53,  1.0828e-54,  8.3836e-56,  6.3130e-57,\n",
       "         4.6236e-58,  3.2936e-59,  2.2819e-60,  1.5377e-61,  1.0078e-62,\n",
       "         6.4239e-64,  3.9826e-65,  2.4015e-66,  1.4084e-67,  8.0333e-69,\n",
       "         4.4566e-70,  2.4046e-71,  1.2619e-72,  6.4403e-74,  3.1970e-75,\n",
       "         1.5435e-76,  7.2475e-78,  3.3098e-79,  1.4701e-80,  6.3506e-82,\n",
       "         2.6681e-83,  1.0903e-84,  4.3329e-86,  1.6748e-87,  6.2957e-89,\n",
       "         2.3018e-90,  8.1849e-92,  2.8306e-93,  9.5207e-95,  3.1144e-96,\n",
       "         9.9086e-98,  3.0660e-99, 9.2266e-101, 2.7005e-102, 7.6870e-104,\n",
       "        2.1281e-105, 5.7300e-107, 1.5005e-108])"
      ]
     },
     "execution_count": 212,
     "metadata": {},
     "output_type": "execute_result"
    }
   ],
   "source": [
    "ldos[0]"
   ]
  },
  {
   "cell_type": "code",
   "execution_count": 154,
   "id": "0d021141",
   "metadata": {
    "ExecuteTime": {
     "end_time": "2023-02-14T12:47:02.295618Z",
     "start_time": "2023-02-14T12:33:29.004700Z"
    }
   },
   "outputs": [
    {
     "name": "stderr",
     "output_type": "stream",
     "text": [
      "100%|██████████████████████████████████████████████████████████████████████████████████████████████████████████████████████████████████████████████████████████████████| 1039/1039 [13:33<00:00,  1.28it/s]\n"
     ]
    }
   ],
   "source": [
    "sigma = torch.tensor(0.3)\n",
    "dx = 0.05\n",
    "\n",
    "ndos = int((emax-emin+3) / dx) #number of points\n",
    "xdos = torch.linspace(emin-1.5, emax+1.5, ndos) # extend the energy grid by 3eV \n",
    "ldos = torch.zeros((len(full_eigen_energies), ndos))\n",
    "for i in tqdm(range(len(full_eigen_energies))):#for every structure    \n",
    "    for ei in full_eigen_energies[i]:#for every energy level\n",
    "        ldos[i] += torch.exp(-0.5*((xdos[:]-ei)/sigma)**2) #puts a gaussian centered on the energy level\n",
    "    ldos[i] *= 1/torch.sqrt(2*torch.tensor(np.pi)*sigma**2)/n_atoms[i]/len(full_eigen_energies[i]) #normalize"
   ]
  },
  {
   "cell_type": "code",
   "execution_count": 181,
   "id": "f7fd98cd",
   "metadata": {
    "ExecuteTime": {
     "end_time": "2023-02-14T13:14:29.018511Z",
     "start_time": "2023-02-14T13:00:48.948943Z"
    }
   },
   "outputs": [
    {
     "name": "stderr",
     "output_type": "stream",
     "text": [
      "100%|██████████████████████████████████████████████████████████████████████████████████████████████████████████████████████████████████████████████████████████████████| 1039/1039 [13:40<00:00,  1.27it/s]\n"
     ]
    }
   ],
   "source": [
    "sigma = torch.tensor(0.3)\n",
    "dx = 0.05\n",
    "\n",
    "ndos3 = int((emax-emin+3) / dx) #number of points\n",
    "xdos3 = torch.linspace(emin-1.5, emax+1.5, ndos) # extend the energy grid by 3eV \n",
    "ldos3 = torch.zeros((len(full_eigen_energies), ndos))\n",
    "for i in tqdm(range(len(eigen_energies))):#for every structure    \n",
    "    for ei in full_eigen_energies[i]:#for every energy level\n",
    "        ldos3[i] += torch.exp(-0.5*((xdos[:]-ei)/sigma)**2) #puts a gaussian centered on the energy level\n",
    "    ldos3[i] *= 1/torch.sqrt(2*np.pi*sigma**2)/n_atoms[i]/len(eigen_energies[i]) #normalize"
   ]
  },
  {
   "cell_type": "code",
   "execution_count": 139,
   "id": "c9f7e311",
   "metadata": {
    "ExecuteTime": {
     "end_time": "2023-02-13T19:02:53.046358Z",
     "start_time": "2023-02-13T19:02:52.696381Z"
    }
   },
   "outputs": [
    {
     "name": "stdout",
     "output_type": "stream",
     "text": [
      "SOAP PCA explained variance with 1 PCA is: [0.85417772]\n",
      "Kernel PCA explained variance with 1 PCA is: [0.76640756]\n"
     ]
    }
   ],
   "source": [
    "from sklearn.decomposition import PCA\n",
    "\n",
    "soap = Silicon.Features['structure_avedescriptors'] \n",
    "soap_pca = PCA(n_components = 1, svd_solver = \"full\")\n",
    "soap_pca.fit(soap)\n",
    "\n",
    "print (\"SOAP PCA explained variance with 1 PCA is: {}\".format(soap_pca.explained_variance_ratio_))\n",
    "\n",
    "PCA_soap = soap_pca.transform(soap)\n",
    "\n",
    "kernel = Silicon.Features['structure_avekerneldescriptors']\n",
    "kernel_pca = PCA(n_components = 1, svd_solver = \"full\")\n",
    "kernel_pca.fit(kernel)\n",
    "\n",
    "print (\"Kernel PCA explained variance with 1 PCA is: {}\".format(kernel_pca.explained_variance_ratio_))\n",
    "\n",
    "PCA_kernel = kernel_pca.transform(kernel)"
   ]
  },
  {
   "cell_type": "code",
   "execution_count": 146,
   "id": "110f93f1",
   "metadata": {
    "ExecuteTime": {
     "end_time": "2023-02-13T19:05:58.302764Z",
     "start_time": "2023-02-13T19:05:58.288914Z"
    }
   },
   "outputs": [
    {
     "data": {
      "text/plain": [
       "array([[-3.49913423e-03, -1.76411215e-02,  3.32522948e-02,\n",
       "         3.61629233e-01,  1.87222390e-01,  7.49472932e-02,\n",
       "         7.73753721e-02,  2.89413546e-02, -1.76411215e-02,\n",
       "         7.01613627e-04, -6.64714922e-03, -1.96539716e-02,\n",
       "        -1.21993389e-02, -6.67081254e-03, -4.36700539e-03,\n",
       "        -1.68577363e-03,  3.32522948e-02, -6.64714922e-03,\n",
       "         2.20352739e-02,  1.41889410e-01,  7.26851954e-02,\n",
       "         3.15241013e-02,  2.88627511e-02,  1.08549650e-02,\n",
       "         3.61629233e-01, -1.96539716e-02,  1.41889410e-01,\n",
       "         4.92546963e-01,  2.89406316e-01,  1.51981690e-01,\n",
       "         1.06534352e-01,  4.10607729e-02,  1.87222390e-01,\n",
       "        -1.21993389e-02,  7.26851954e-02,  2.89406316e-01,\n",
       "         1.62030561e-01,  8.08235013e-02,  6.02749031e-02,\n",
       "         2.31914869e-02,  7.49472932e-02, -6.67081254e-03,\n",
       "         3.15241013e-02,  1.51981690e-01,  8.08235013e-02,\n",
       "         3.70043392e-02,  3.02939232e-02,  1.15274716e-02,\n",
       "         7.73753721e-02, -4.36700539e-03,  2.88627511e-02,\n",
       "         1.06534352e-01,  6.02749031e-02,  3.02939232e-02,\n",
       "         2.17846734e-02,  8.37328373e-03,  2.89413546e-02,\n",
       "        -1.68577363e-03,  1.08549650e-02,  4.10607729e-02,\n",
       "         2.31914869e-02,  1.15274716e-02,  8.37328373e-03,\n",
       "         3.21169845e-03, -2.42678062e-05,  5.11123332e-05,\n",
       "        -3.53316626e-04, -5.69486606e-04, -3.00272506e-04,\n",
       "        -2.40257378e-04, -8.47122357e-05, -3.94519317e-05,\n",
       "         5.11123332e-05, -1.69061333e-04,  8.91359912e-04,\n",
       "         1.52903701e-03,  7.98658394e-04,  5.79778184e-04,\n",
       "         1.83320028e-04,  8.26635902e-05, -3.53316626e-04,\n",
       "         8.91359912e-04, -5.43889188e-03, -9.33776686e-03,\n",
       "        -5.16824236e-03, -3.94312423e-03, -1.41001255e-03,\n",
       "        -6.45440361e-04, -5.69486606e-04,  1.52903701e-03,\n",
       "        -9.33776686e-03, -1.70537584e-02, -9.57630675e-03,\n",
       "        -6.39819664e-03, -2.20517209e-03, -9.70570198e-04,\n",
       "        -3.00272506e-04,  7.98658394e-04, -5.16824236e-03,\n",
       "        -9.57630675e-03, -6.90821221e-03, -4.72774768e-03,\n",
       "        -1.80610336e-03, -7.53570430e-04, -2.40257378e-04,\n",
       "         5.79778184e-04, -3.94312423e-03, -6.39819664e-03,\n",
       "        -4.72774768e-03, -3.68062261e-03, -1.42088201e-03,\n",
       "        -6.01509578e-04, -8.47122357e-05,  1.83320028e-04,\n",
       "        -1.41001255e-03, -2.20517209e-03, -1.80610336e-03,\n",
       "        -1.42088201e-03, -5.76636427e-04, -2.39698375e-04,\n",
       "        -3.94519317e-05,  8.26635902e-05, -6.45440361e-04,\n",
       "        -9.70570198e-04, -7.53570430e-04, -6.01509578e-04,\n",
       "        -2.39698375e-04, -1.00730273e-04, -8.58758363e-06,\n",
       "         3.54320192e-05, -1.33048376e-04, -4.02508982e-04,\n",
       "        -9.06240701e-05,  1.25316756e-05,  6.69886108e-06,\n",
       "        -3.79706680e-06,  3.54320192e-05, -4.69333435e-05,\n",
       "         6.44297922e-04,  4.61774643e-04,  2.24269773e-04,\n",
       "        -3.27066608e-05, -1.11055172e-05,  8.79788855e-06,\n",
       "        -1.33048376e-04,  6.44297922e-04, -2.00324396e-03,\n",
       "        -6.23215987e-03, -1.12522536e-03, -3.43541622e-06,\n",
       "         1.58350714e-04, -2.30601944e-05, -4.02508982e-04,\n",
       "         4.61774643e-04, -6.23215987e-03, -5.40760398e-03,\n",
       "        -1.82666612e-03, -4.18024769e-05,  2.30771920e-04,\n",
       "        -2.17776046e-05, -9.06240701e-05,  2.24269773e-04,\n",
       "        -1.12522536e-03, -1.82666612e-03, -3.44104695e-04,\n",
       "        -8.42776342e-04, -8.02835618e-06,  2.13334142e-05,\n",
       "         1.25316756e-05, -3.27066608e-05, -3.43541622e-06,\n",
       "        -4.18024769e-05, -8.42776342e-04, -4.37251369e-04,\n",
       "        -2.51613975e-04, -9.74882526e-05,  6.69886108e-06,\n",
       "        -1.11055172e-05,  1.58350714e-04,  2.30771920e-04,\n",
       "        -8.02835618e-06, -2.51613975e-04, -8.49561794e-05,\n",
       "        -2.61261272e-05, -3.79706680e-06,  8.79788855e-06,\n",
       "        -2.30601944e-05, -2.17776046e-05,  2.13334142e-05,\n",
       "        -9.74882526e-05, -2.61261272e-05, -8.82993811e-06,\n",
       "        -1.36932787e-04,  3.14708918e-04, -2.45644041e-03,\n",
       "        -4.91953300e-03, -9.45603141e-04,  4.32227611e-04,\n",
       "         1.70934099e-04,  1.82215577e-05,  3.14708918e-04,\n",
       "        -7.39813355e-04,  5.39783324e-03,  1.00309471e-02,\n",
       "         1.77314627e-03, -7.10253863e-04, -3.82378572e-04,\n",
       "        -4.25116022e-05, -2.45644041e-03,  5.39783324e-03,\n",
       "        -4.06359761e-02, -7.10010143e-02, -1.12217390e-02,\n",
       "         5.20759821e-03,  2.69665377e-03,  1.12269107e-04,\n",
       "        -4.91953300e-03,  1.00309471e-02, -7.10010143e-02,\n",
       "        -9.03459590e-02, -5.51929567e-03,  2.30618802e-03,\n",
       "         4.41800631e-03, -2.48145527e-04, -9.45603141e-04,\n",
       "         1.77314627e-03, -1.12217390e-02, -5.51929567e-03,\n",
       "         2.20724073e-03, -1.90025875e-03,  4.85091238e-04,\n",
       "        -2.30001097e-04,  4.32227611e-04, -7.10253863e-04,\n",
       "         5.20759821e-03,  2.30618802e-03, -1.90025875e-03,\n",
       "        -1.47095066e-04, -3.85901561e-04,  7.76001765e-05,\n",
       "         1.70934099e-04, -3.82378572e-04,  2.69665377e-03,\n",
       "         4.41800631e-03,  4.85091238e-04, -3.85901561e-04,\n",
       "        -2.27680329e-04, -1.73486176e-05,  1.82215577e-05,\n",
       "        -4.25116022e-05,  1.12269107e-04, -2.48145527e-04,\n",
       "        -2.30001097e-04,  7.76001765e-05, -1.73486176e-05,\n",
       "         4.65229984e-06,  3.17205927e-04, -8.76536785e-04,\n",
       "         3.50296059e-03,  4.71843202e-03, -2.69920876e-03,\n",
       "         1.43909137e-04, -9.16594629e-05,  1.13397437e-04,\n",
       "        -8.76536785e-04,  2.45432174e-03, -9.84106713e-03,\n",
       "        -1.39200745e-02,  6.91016052e-03, -3.64375614e-04,\n",
       "         2.88172028e-04, -3.00361411e-04,  3.50296059e-03,\n",
       "        -9.84106713e-03,  3.74407831e-02,  5.06135592e-02,\n",
       "        -3.43059449e-02,  1.25872089e-03, -6.90009087e-04,\n",
       "         1.44113709e-03,  4.71843202e-03, -1.39200745e-02,\n",
       "         5.06135592e-02,  7.61404092e-02, -4.66312567e-02,\n",
       "         1.01025823e-03, -8.37839837e-04,  2.07138845e-03,\n",
       "        -2.69920876e-03,  6.91016052e-03, -3.43059449e-02,\n",
       "        -4.66312567e-02,  6.76587152e-03, -2.70728159e-03,\n",
       "         1.78997504e-03, -3.28286014e-04,  1.43909137e-04,\n",
       "        -3.64375614e-04,  1.25872089e-03,  1.01025823e-03,\n",
       "        -2.70728159e-03, -4.12028445e-04, -8.67012673e-05,\n",
       "         5.88660250e-05, -9.16594629e-05,  2.88172028e-04,\n",
       "        -6.90009087e-04, -8.37839837e-04,  1.78997504e-03,\n",
       "        -8.67012673e-05, -1.03002646e-04, -9.94709926e-05,\n",
       "         1.13397437e-04, -3.00361411e-04,  1.44113709e-03,\n",
       "         2.07138845e-03, -3.28286014e-04,  5.88660250e-05,\n",
       "        -9.94709926e-05,  5.47791295e-06,  2.69703453e-05,\n",
       "        -1.10821617e-04,  4.41077242e-04,  1.23213413e-03,\n",
       "         1.50384057e-05, -1.15836237e-04,  1.38452625e-05,\n",
       "         2.04876918e-05, -1.10821617e-04,  4.22802069e-04,\n",
       "        -1.72640876e-03, -4.46305808e-03,  9.17482665e-06,\n",
       "         3.79278770e-04, -2.60887171e-05, -7.11566938e-05,\n",
       "         4.41077242e-04, -1.72640876e-03,  7.03149316e-03,\n",
       "         1.87433195e-02, -1.58944095e-04, -1.84394597e-03,\n",
       "         1.64785462e-04,  3.17329064e-04,  1.23213413e-03,\n",
       "        -4.46305808e-03,  1.87433195e-02,  4.53418297e-02,\n",
       "        -8.67120540e-04, -3.81488630e-03,  8.44223976e-05,\n",
       "         7.13357786e-04,  1.50384057e-05,  9.17482665e-06,\n",
       "        -1.58944095e-04, -8.67120540e-04, -2.30985229e-03,\n",
       "        -1.13637796e-03, -1.09402371e-04,  4.47829321e-05,\n",
       "        -1.15836237e-04,  3.79278770e-04, -1.84394597e-03,\n",
       "        -3.81488630e-03, -1.13637796e-03, -5.18684389e-04,\n",
       "        -6.37093505e-05, -4.47195135e-05,  1.38452625e-05,\n",
       "        -2.60887171e-05,  1.64785462e-04,  8.44223976e-05,\n",
       "        -1.09402371e-04, -6.37093505e-05, -5.49075207e-05,\n",
       "        -1.44111513e-05,  2.04876918e-05, -7.11566938e-05,\n",
       "         3.17329064e-04,  7.13357786e-04,  4.47829321e-05,\n",
       "        -4.47195135e-05, -1.44111513e-05,  3.71990815e-06,\n",
       "        -8.84232851e-05,  2.13432424e-04, -1.05365352e-03,\n",
       "        -1.28227484e-03,  1.03529794e-03,  4.26027676e-04,\n",
       "         1.97772524e-04,  3.48733255e-05,  2.13432424e-04,\n",
       "        -3.84820427e-04,  2.14430254e-03,  5.43098790e-04,\n",
       "        -3.77062969e-03, -9.54267572e-04, -4.48106798e-04,\n",
       "        -8.23291730e-05, -1.05365352e-03,  2.14430254e-03,\n",
       "        -1.11990161e-02, -7.06210927e-03,  1.65057707e-02,\n",
       "         4.76842957e-03,  2.22422284e-03,  3.92803788e-04,\n",
       "        -1.28227484e-03,  5.43098790e-04, -7.06210927e-03,\n",
       "         3.26782253e-02,  4.05656950e-02,  4.51914962e-03,\n",
       "         2.11034472e-03,  3.70105452e-04,  1.03529794e-03,\n",
       "        -3.77062969e-03,  1.65057707e-02,  4.05656950e-02,\n",
       "         1.45538059e-04, -6.85922464e-03, -2.82650992e-03,\n",
       "        -4.43771147e-04,  4.26027676e-04, -9.54267572e-04,\n",
       "         4.76842957e-03,  4.51914962e-03, -6.85922464e-03,\n",
       "        -3.18102152e-03, -1.14176178e-03, -1.75230454e-04,\n",
       "         1.97772524e-04, -4.48106798e-04,  2.22422284e-03,\n",
       "         2.11034472e-03, -2.82650992e-03, -1.14176178e-03,\n",
       "        -4.65548759e-04, -7.20415672e-05,  3.48733255e-05,\n",
       "        -8.23291730e-05,  3.92803788e-04,  3.70105452e-04,\n",
       "        -4.43771147e-04, -1.75230454e-04, -7.20415672e-05,\n",
       "        -7.51907251e-06]])"
      ]
     },
     "execution_count": 146,
     "metadata": {},
     "output_type": "execute_result"
    }
   ],
   "source": [
    "soap_pca.components_"
   ]
  },
  {
   "cell_type": "markdown",
   "id": "30c25902",
   "metadata": {},
   "source": [
    "## Baseline Model (SOAP)"
   ]
  },
  {
   "cell_type": "code",
   "execution_count": 325,
   "id": "3b29440b",
   "metadata": {
    "ExecuteTime": {
     "end_time": "2023-02-21T19:02:24.430143Z",
     "start_time": "2023-02-21T19:02:24.150335Z"
    }
   },
   "outputs": [
    {
     "name": "stdout",
     "output_type": "stream",
     "text": [
      "tensor(0.0613)\n",
      "tensor(0.0636)\n"
     ]
    }
   ],
   "source": [
    "from sklearn.linear_model import Ridge\n",
    "from dostools.loss import loss\n",
    "from dostools.consistency import consistency\n",
    "\n",
    "Features = copy.deepcopy(PCA_kernel)\n",
    "o_ldos = torch.tensor(data.load_ldos())\n",
    "o_ldos *= 2\n",
    "y_pw = o_ldos# - o_ldos[train_index].mean(axis = 0)\n",
    "y_shifted = copy.deepcopy(y_pw)\n",
    "#y_shifted = consistency.shifted_ldos()\n",
    "\n",
    "baselinemodel = Ridge(alpha = 0, fit_intercept = True, solver = 'svd')\n",
    "\n",
    "x = Features[train_index]\n",
    "y = y_shifted[train_index]\n",
    "\n",
    "baselinemodel.fit(x,y)\n",
    "\n",
    "baseline_predictions = baselinemodel.predict(x)\n",
    "train_rmse = loss.t_get_rmse(torch.tensor(baseline_predictions), y)\n",
    "\n",
    "# small_test_index = torch.arange(1039)\n",
    "# small_test_index[small_index] = False\n",
    "# small_test_index = small_test_index.nonzero().flatten()\n",
    "\n",
    "\n",
    "baseline_test_predictions = baselinemodel.predict(Features[test_index])\n",
    "test_rmse = loss.t_get_rmse(torch.tensor(baseline_test_predictions), y_shifted[test_index])\n",
    "\n",
    "print(train_rmse)\n",
    "print(test_rmse)"
   ]
  },
  {
   "cell_type": "markdown",
   "id": "ec309322",
   "metadata": {},
   "source": [
    "## Misc Visualizations"
   ]
  },
  {
   "cell_type": "code",
   "execution_count": 326,
   "id": "021bfb0e",
   "metadata": {
    "ExecuteTime": {
     "end_time": "2023-02-21T19:05:40.302401Z",
     "start_time": "2023-02-21T19:05:39.368377Z"
    }
   },
   "outputs": [
    {
     "data": {
      "text/plain": [
       "[<matplotlib.lines.Line2D at 0x7f6e384d7370>]"
      ]
     },
     "execution_count": 326,
     "metadata": {},
     "output_type": "execute_result"
    },
    {
     "data": {
      "image/png": "[encoded data removed]",
      "text/plain": [
       "<Figure size 432x288 with 1 Axes>"
      ]
     },
     "metadata": {
      "needs_background": "light"
     },
     "output_type": "display_data"
    }
   ],
   "source": [
    "plt.plot(xdos, ldos[700])"
   ]
  },
  {
   "cell_type": "code",
   "execution_count": 194,
   "id": "999cfd9c",
   "metadata": {
    "ExecuteTime": {
     "end_time": "2023-02-21T15:10:19.556678Z",
     "start_time": "2023-02-21T15:10:18.772098Z"
    }
   },
   "outputs": [
    {
     "data": {
      "text/plain": [
       "<matplotlib.collections.PathCollection at 0x7f6e3a747850>"
      ]
     },
     "execution_count": 194,
     "metadata": {},
     "output_type": "execute_result"
    },
    {
     "data": {
      "image/png": "[encoded data removed]",
      "text/plain": [
       "<Figure size 432x288 with 1 Axes>"
      ]
     },
     "metadata": {
      "needs_background": "light"
     },
     "output_type": "display_data"
    }
   ],
   "source": [
    "plt.plot(np.array([1,0.5,0.1,0.05,0.01,0.001]), np.array([0.6768, 0.0426, 0.0079, 0.0036, 0.0019, 0.0017]))\n",
    "plt.scatter(np.array([1,0.5,0.1,0.05,0.01,0.001]), np.array([0.6768, 0.0426, 0.0079, 0.0036, 0.0019, 0.0017]))"
   ]
  },
  {
   "cell_type": "code",
   "execution_count": null,
   "id": "8981b05b",
   "metadata": {},
   "outputs": [],
   "source": [
    "1\n",
    "tensor(24)\n",
    "tensor(0.6768)\n",
    "\n",
    "5E-1\n",
    "tensor(49)\n",
    "tensor(0.0426)\n",
    "\n",
    "\n",
    "1E-1\n",
    "tensor(245)\n",
    "tensor(0.0079)\n",
    "\n",
    "5E-2\n",
    "tensor(484)\n",
    "tensor(0.0036)\n",
    "\n",
    "1E-2 \n",
    "tensor(2149)\n",
    "tensor(0.0019)\n",
    "\n",
    "1E-3\n",
    "tensor(7013)\n",
    "tensor(0.0017)"
   ]
  }
 ],
 "metadata": {
  "kernelspec": {
   "display_name": "Python 3 (ipykernel)",
   "language": "python",
   "name": "python3"
  },
  "language_info": {
   "codemirror_mode": {
    "name": "ipython",
    "version": 3
   },
   "file_extension": ".py",
   "mimetype": "text/x-python",
   "name": "python",
   "nbconvert_exporter": "python",
   "pygments_lexer": "ipython3",
   "version": "3.9.12"
  },
  "toc": {
   "base_numbering": 1,
   "nav_menu": {},
   "number_sections": true,
   "sideBar": true,
   "skip_h1_title": false,
   "title_cell": "Table of Contents",
   "title_sidebar": "Contents",
   "toc_cell": false,
   "toc_position": {
    "height": "calc(100% - 180px)",
    "left": "10px",
    "top": "150px",
    "width": "165px"
   },
   "toc_section_display": true,
   "toc_window_display": true
  }
 },
 "nbformat": 4,
 "nbformat_minor": 5
}
