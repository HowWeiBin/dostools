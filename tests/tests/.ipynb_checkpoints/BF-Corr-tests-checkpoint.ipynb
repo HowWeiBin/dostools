{
 "cells": [
  {
   "cell_type": "code",
   "execution_count": 16,
   "id": "ee53854f",
   "metadata": {
    "ExecuteTime": {
     "end_time": "2023-04-27T11:41:39.548542Z",
     "start_time": "2023-04-27T11:41:39.542949Z"
    }
   },
   "outputs": [],
   "source": [
    "import numpy as np\n",
    "import torch\n",
    "import copy\n",
    "import scipy \n",
    "import copy\n",
    "import ase\n",
    "import ase.io\n",
    "from tqdm import tqdm\n",
    "torch.set_default_dtype(torch.float64) \n",
    "# %matplotlib notebook\n",
    "# matplotlib.rcParams['figure.figsize'] = (10, 10)"
   ]
  },
  {
   "cell_type": "markdown",
   "id": "1ed5f011",
   "metadata": {},
   "source": [
    "### Data loading"
   ]
  },
  {
   "cell_type": "code",
   "execution_count": 2,
   "id": "af18caf2",
   "metadata": {
    "ExecuteTime": {
     "end_time": "2023-04-27T11:40:06.671140Z",
     "start_time": "2023-04-27T11:40:06.558750Z"
    }
   },
   "outputs": [],
   "source": [
    "with torch.no_grad():\n",
    "       \n",
    "    xdos = torch.load(\"./xdos.pt\")\n",
    "    \n",
    "    total_dos3 = torch.load(\"./total_ldos3.pt\")\n",
    "    total_dos1 = torch.load(\"./total_ldos1.pt\")\n",
    "    \n",
    "    surface_dos3 = torch.load(\"./surface_ldos3.pt\")\n",
    "    surface_dos1 = torch.load(\"./surface_ldos1.pt\")\n",
    "    \n",
    "    surface_aligned_dos3 = torch.load(\"./surface_aligned_dos3.pt\")\n",
    "    surface_aligned_dos1 = torch.load(\"./surface_aligned_dos1.pt\")\n",
    "    \n",
    "    bulk_dos3 = torch.load(\"./bulk_ldos3.pt\")\n",
    "    bulk_dos1 = torch.load(\"./bulk_ldos1.pt\")\n",
    "    \n",
    "    total_aligned_dos3 = torch.load(\"./total_aligned_dos3.pt\")\n",
    "    total_aligned_dos1 = torch.load(\"./total_aligned_dos1.pt\")\n",
    "    \n",
    "    surface_soap = torch.load(\"./surface_soap.pt\")\n",
    "    bulk_soap = torch.load(\"./bulk_soap.pt\")\n",
    "    total_soap = torch.load(\"./total_soap.pt\")\n",
    "    \n",
    "    surface_kernel_30 = torch.load(\"./surface_kernel_30.pt\")\n",
    "    surface_kMM_30 = torch.load(\"./surface_kMM_30.pt\")\n",
    "    \n",
    "    bulk_kernel_200 = torch.load(\"./bulk_kernel_200.pt\")\n",
    "    bulk_kMM_200 = torch.load(\"./bulk_kMM_200.pt\")\n",
    "    \n",
    "    bulk_kernel_100 = torch.load(\"./bulk_kernel_100.pt\")\n",
    "    bulk_kMM_100 = torch.load(\"./bulk_kMM_100.pt\")\n",
    "    \n",
    "    total_kernel_100 = torch.load(\"./total_kernel_100.pt\")\n",
    "    total_kMM_100 = torch.load(\"./total_kMM_100.pt\")\n",
    "    \n",
    "    total_kernel_150 = torch.load(\"./total_kernel_150.pt\")\n",
    "    total_kMM_150 = torch.load(\"./total_kMM_150.pt\")\n",
    "    \n",
    "    "
   ]
  },
  {
   "cell_type": "code",
   "execution_count": 3,
   "id": "91165f41",
   "metadata": {
    "ExecuteTime": {
     "end_time": "2023-04-27T11:40:06.686455Z",
     "start_time": "2023-04-27T11:40:06.673120Z"
    }
   },
   "outputs": [],
   "source": [
    "def generate_train_test_split(n_samples):\n",
    "    n_structures = n_samples\n",
    "    np.random.seed(0)\n",
    "    n_train = int(0.8 * n_structures)\n",
    "    train_index = np.arange(n_structures)\n",
    "    np.random.shuffle(train_index)\n",
    "    test_index = train_index[n_train:]\n",
    "    train_index = train_index[:n_train]\n",
    "    \n",
    "    return train_index, test_index\n",
    "\n",
    "def generate_biased_train_test_split(n_samples):\n",
    "    #Assumes 100 amorphous structures at the end\n",
    "    n_structures = n_samples\n",
    "    amorph_train = np.arange(n_samples-100, n_samples,1)\n",
    "    np.random.seed(0)\n",
    "    np.random.shuffle(amorph_train)\n",
    "    \n",
    "    amorph_test = amorph_train[:80]\n",
    "    amorph_train = amorph_train[80:]\n",
    "\n",
    "    n_structures = n_samples - 100\n",
    "    np.random.seed(0)\n",
    "    n_train = int(0.8 * n_samples)-20\n",
    "    remaining_train_index = np.arange(n_structures)\n",
    "    np.random.shuffle(remaining_train_index)\n",
    "\n",
    "    remaining_test_index = remaining_train_index[n_train:]\n",
    "    remaining_train_index = remaining_train_index[:n_train]\n",
    "\n",
    "    biased_train_index = np.concatenate([remaining_train_index, amorph_train])\n",
    "    biased_test_index = np.concatenate([remaining_test_index, amorph_test])\n",
    "    \n",
    "    return biased_train_index, biased_test_index\n",
    "\n",
    "def generate_surface_holdout_split(n_samples):\n",
    "    #Assumes that we are using the 110 surfaces for test which are located at 673 + 31st-57th index\n",
    "    #26 structures\n",
    "    \n",
    "    n_test = int(0.2 * n_samples) - 26\n",
    "    n_train = n_samples - n_test\n",
    "    \n",
    "    remaining_indexes = np.concatenate([np.arange(673+31), np.arange(673+57,n_samples,1)])\n",
    "    indexes_110 = np.arange(673+31, 673+57,1)\n",
    "    np.random.seed(0)\n",
    "    \n",
    "    np.random.shuffle(remaining_indexes)\n",
    "    \n",
    "    remaining_test_index = remaining_indexes[n_train:]\n",
    "    remaining_train_index = remaining_indexes[:n_train]\n",
    "    \n",
    "    total_train_index = remaining_train_index\n",
    "    total_test_index = np.concatenate([remaining_test_index, indexes_110])\n",
    "    \n",
    "    return total_train_index, total_test_index\n",
    "    \n",
    "def surface_holdout(n_samples):\n",
    "    test_index = np.arange(31,57,1)\n",
    "    train_index = np.concatenate([np.arange(31), np.arange(57, n_samples)])\n",
    "    \n",
    "    return train_index, test_index\n",
    "\n",
    "n_surfaces = 154\n",
    "n_bulkstructures = 773\n",
    "n_total_structures = 773 + 154\n",
    "\n",
    "\n",
    "surface_train_index, surface_test_index = generate_train_test_split(n_surfaces)\n",
    "bulk_train_index, bulk_test_index = generate_train_test_split(n_bulkstructures)\n",
    "total_train_index, total_test_index = generate_train_test_split(n_total_structures)\n",
    "surface_holdout_train_index, surface_holdout_test_index = surface_holdout(n_surfaces)\n",
    "bulk_biased_train_index, bulk_biased_test_index = generate_biased_train_test_split(n_bulkstructures)\n",
    "total_biased_train_index, total_biased_test_index = generate_biased_train_test_split(n_total_structures)\n",
    "holdout_train_index, holdout_test_index = generate_surface_holdout_split(n_total_structures)"
   ]
  },
  {
   "cell_type": "code",
   "execution_count": 127,
   "id": "ed621084",
   "metadata": {
    "ExecuteTime": {
     "end_time": "2023-04-29T19:22:54.212973Z",
     "start_time": "2023-04-29T19:22:54.205952Z"
    }
   },
   "outputs": [],
   "source": [
    "from scipy.signal import convolve, correlate, correlation_lags\n",
    "def find_optimal_discrete_shift(prediction, true):\n",
    "    extension = true.shape[1] - prediction.shape[1]\n",
    "    correction = extension/2\n",
    "    if true.shape[0] == prediction.shape[0] and len(prediction.shape) == 2:\n",
    "        shift = []\n",
    "        for i in range(true.shape[0]):\n",
    "            corr = correlate(true[i], prediction[i], mode='full')\n",
    "            shift_i = np.argmax(corr) - len(true[i]) + correction + 1   \n",
    "            shift.append(shift_i)\n",
    "        \n",
    "        \n",
    "    elif true.shape[0] == prediction.shape[0] and len(prediction.shape) == 1:\n",
    "        corr = correlate(true, prediction, mode='full')\n",
    "        shift = np.argmax(corr) - len(true) + correction + 1   \n",
    "    else:\n",
    "        print (\"input shapes are not the same\")\n",
    "        raise Exception\n",
    "    return torch.tensor(shift)\n"
   ]
  },
  {
   "cell_type": "code",
   "execution_count": 90,
   "id": "e3277c55",
   "metadata": {
    "ExecuteTime": {
     "end_time": "2023-04-29T19:14:19.718245Z",
     "start_time": "2023-04-29T19:14:19.622571Z"
    }
   },
   "outputs": [],
   "source": [
    "#Testing if i need to extend the bounds\n",
    "extended_target = \n",
    "original_target = shifted_ldos_discrete(shifted_target, xdos, shift)"
   ]
  },
  {
   "cell_type": "code",
   "execution_count": 5,
   "id": "bc7afc58",
   "metadata": {
    "ExecuteTime": {
     "end_time": "2023-04-27T11:40:07.222042Z",
     "start_time": "2023-04-27T11:40:07.212353Z"
    }
   },
   "outputs": [],
   "source": [
    "#Generate shifted data\n",
    "def shifted_ldos_discrete(ldos, xdos, shift): \n",
    "    shifted_ldos = torch.zeros_like(ldos)\n",
    "    if len(ldos.shape) > 1:\n",
    "        xdos_shift = torch.round(shift).int()\n",
    "        for i in range(len(ldos)):\n",
    "            if xdos_shift[i] > 0:\n",
    "                shifted_ldos[i] = torch.nn.functional.pad(ldos[i,:-1*xdos_shift[i]], (xdos_shift[i],0))\n",
    "            elif xdos_shift[i] < 0:\n",
    "                shifted_ldos[i] = torch.nn.functional.pad(ldos[i,(-1*xdos_shift[i]):], (0,(-1*xdos_shift[i])))\n",
    "            else:\n",
    "                shifted_ldos[i] = ldos[i]\n",
    "    else:        \n",
    "        xdos_shift = int(torch.round(shift))\n",
    "        if xdos_shift > 0:\n",
    "            shifted_ldos = torch.nn.functional.pad(ldos[:-1*xdos_shift], (xdos_shift,0))\n",
    "        elif xdos_shift < 0:\n",
    "            shifted_ldos = torch.nn.functional.pad(ldos[(-1*xdos_shift):], (0,(-1*xdos_shift)))\n",
    "        else:\n",
    "            shifted_ldos = ldos\n",
    "    return shifted_ldos\n",
    "\n"
   ]
  },
  {
   "cell_type": "code",
   "execution_count": 211,
   "id": "983908a0",
   "metadata": {
    "ExecuteTime": {
     "end_time": "2023-04-29T19:29:49.658457Z",
     "start_time": "2023-04-29T19:29:49.650114Z"
    }
   },
   "outputs": [],
   "source": [
    "reference_total_dos3 = torch.nn.functional.pad(total_dos3, (600,600), value = 0)"
   ]
  },
  {
   "cell_type": "code",
   "execution_count": 212,
   "id": "741e19b3",
   "metadata": {
    "ExecuteTime": {
     "end_time": "2023-04-29T19:29:50.857012Z",
     "start_time": "2023-04-29T19:29:50.196198Z"
    }
   },
   "outputs": [],
   "source": [
    "# true = torch.randint(low = -200, high = 200, size = (927,))\n",
    "true = torch.zeros(927) - 700\n",
    "shifted_target = shifted_ldos_discrete(total_dos3, xdos, true) \n",
    "shift = find_optimal_discrete_shift(shifted_target, reference_total_dos3)"
   ]
  },
  {
   "cell_type": "code",
   "execution_count": 213,
   "id": "d286b4aa",
   "metadata": {
    "ExecuteTime": {
     "end_time": "2023-04-29T19:29:51.001658Z",
     "start_time": "2023-04-29T19:29:50.858926Z"
    }
   },
   "outputs": [
    {
     "data": {
      "text/plain": [
       "[<matplotlib.lines.Line2D at 0x7ff54c0d0370>]"
      ]
     },
     "execution_count": 213,
     "metadata": {},
     "output_type": "execute_result"
    },
    {
     "data": {
      "image/png": "[encoded data removed]",
      "text/plain": [
       "<Figure size 432x288 with 1 Axes>"
      ]
     },
     "metadata": {
      "needs_background": "light"
     },
     "output_type": "display_data"
    }
   ],
   "source": [
    "index = torch.argmax(abs(true + shift))\n",
    "plt.plot(shifted_target[index])"
   ]
  },
  {
   "cell_type": "code",
   "execution_count": 214,
   "id": "8c385977",
   "metadata": {
    "ExecuteTime": {
     "end_time": "2023-04-29T19:29:51.538966Z",
     "start_time": "2023-04-29T19:29:51.535435Z"
    }
   },
   "outputs": [
    {
     "name": "stdout",
     "output_type": "stream",
     "text": [
      "tensor(2)\n"
     ]
    }
   ],
   "source": [
    "print (index)"
   ]
  },
  {
   "cell_type": "code",
   "execution_count": 6,
   "id": "de1445cd",
   "metadata": {
    "ExecuteTime": {
     "end_time": "2023-04-27T11:40:07.245887Z",
     "start_time": "2023-04-27T11:40:07.224015Z"
    }
   },
   "outputs": [],
   "source": [
    "def t_get_mse(a, b, xdos = None, perc = False):\n",
    "    if xdos is not None:\n",
    "        if len(a.size()) > 1:\n",
    "            mse = (torch.trapezoid((a - b)**2, xdos, axis=1)).mean()\n",
    "        else:\n",
    "            mse = (torch.trapezoid((a - b)**2, xdos, axis=0)).mean()\n",
    "        if not perc:\n",
    "            return mse\n",
    "        else:\n",
    "            mean = b.mean(axis = 0)\n",
    "            std = torch.trapezoid((b - mean)**2, xdos, axis=1).mean()\n",
    "            return (100 * mse / std)\n",
    "    else:\n",
    "        if len(a.size()) > 1:\n",
    "            mse = ((a - b)**2).mean(dim = 1)\n",
    "        else:\n",
    "            mse = ((a - b)**2).mean()\n",
    "        if len(mse.shape) > 1:\n",
    "            raise ValueError('Loss became 2D')\n",
    "        if not perc:\n",
    "            return torch.mean(mse, 0)\n",
    "        else:\n",
    "            return torch.mean(100 * (mse / b.std(dim=0, unbiased = True)),0)\n",
    "        \n",
    "        \n",
    "def t_get_rmse(a, b, xdos=None, perc=False): #account for the fact that DOS is continuous but we are training them pointwise\n",
    "    \"\"\" computes  Root Mean Squared Error (RMSE) of array properties (DOS/aofd).\n",
    "         a=pred, b=target, xdos, perc: if False return RMSE else return %RMSE\"\"\"\n",
    "    #MIGHT NOT WORK FOR PC\n",
    "    if xdos is not None:\n",
    "        if len(a.size()) > 1:\n",
    "            rmse = torch.sqrt((torch.trapezoid((a - b)**2, xdos, axis=1)).mean())\n",
    "        else:\n",
    "            rmse = torch.sqrt((torch.trapezoid((a - b)**2, xdos, axis=0)).mean())\n",
    "        if not perc:\n",
    "            return rmse\n",
    "        else:\n",
    "            mean = b.mean(axis = 0)\n",
    "            std = torch.sqrt((torch.trapezoid((b - mean)**2, xdos, axis=1)).mean())\n",
    "            return (100 * rmse / std)\n",
    "    else:\n",
    "        if len(a.size()) > 1:\n",
    "            rmse = torch.sqrt(((a - b)**2).mean(dim =0))\n",
    "        else:\n",
    "            rmse = torch.sqrt(((a - b)**2).mean())\n",
    "        if not perc:\n",
    "            return torch.mean(rmse, 0)\n",
    "        else:\n",
    "            return torch.mean(100 * (rmse / b.std(dim = 0,unbiased=True)), 0)"
   ]
  },
  {
   "cell_type": "code",
   "execution_count": 20,
   "id": "c110556b",
   "metadata": {
    "ExecuteTime": {
     "end_time": "2023-04-27T11:52:30.714126Z",
     "start_time": "2023-04-27T11:52:30.672805Z"
    }
   },
   "outputs": [],
   "source": [
    "from dostools.loss import loss\n",
    "\n",
    "def normal_reg_train_L(feat, target, train_index, test_index, regularization, n_epochs, lr):\n",
    "    \n",
    "    patience = 20\n",
    "    index = train_index\n",
    "    t_index = test_index\n",
    "    features = torch.hstack([feat, torch.ones(feat.shape[0]).view(-1,1)])\n",
    "    Features = features[index]\n",
    "    t_Features = features[t_index]\n",
    "    n_col = Features.shape[1]\n",
    "    Target = target[index]\n",
    "    t_Target = target[t_index]\n",
    "    reg = regularization * torch.eye(n_col)\n",
    "    reg[-1, -1] = 0\n",
    "    reg_features = torch.vstack([Features, reg])\n",
    "    reg_target = torch.vstack([Target, torch.zeros(n_col,Target.shape[1])])\n",
    "    \n",
    "    weights = torch.nn.Parameter(torch.rand(Features.shape[1], Target.shape[1])- 0.5)\n",
    "    opt = torch.optim.LBFGS([weights], lr = lr, line_search_fn = \"strong_wolfe\", tolerance_grad = 1e-20, tolerance_change = 1-20, history_size = 200)\n",
    "    pbar = tqdm(range(n_epochs))\n",
    "    current_rmse = torch.tensor(100)\n",
    "    pred_loss = torch.tensor(100)\n",
    "    prev_loss = torch.tensor(100)\n",
    "    best_mse = torch.tensor(100)\n",
    "    trigger = 0\n",
    "    for epoch in pbar:\n",
    "        pbar.set_description(f\"Epoch: {epoch}\")\n",
    "        pbar.set_postfix(pred_loss = pred_loss.item(), lowest_mse = best_mse.item(), trigger = trigger)\n",
    "        def closure():\n",
    "            opt.zero_grad()\n",
    "            pred_i = reg_features @ weights\n",
    "            opt_shift = find_optimal_discrete_shift(np.array(pred_i[:len(index)].detach()),np.array(reg_target[:len(index)].detach()))\n",
    "            pred_i[:len(index)] = shifted_ldos_discrete(pred_i[:len(index)], xdos, torch.tensor(opt_shift))\n",
    "            loss_i = loss.t_get_mse(pred_i, reg_target)\n",
    "            loss_i.backward()\n",
    "            return loss_i\n",
    "        opt.step(closure)\n",
    "\n",
    "        with torch.no_grad():\n",
    "            preds = Features @ weights\n",
    "            opt_shift = find_optimal_discrete_shift(np.array(preds),np.array(Target))\n",
    "            preds = shifted_ldos_discrete(preds, xdos, torch.tensor(opt_shift))\n",
    "            epoch_rmse = loss.t_get_rmse(preds, Target, xdos, perc = True)\n",
    "            epoch_mse = loss.t_get_mse(preds, Target, xdos)\n",
    "            \n",
    "            \n",
    "\n",
    "\n",
    "            pred_loss = epoch_rmse\n",
    "\n",
    "            if epoch_mse < best_mse:\n",
    "                best_mse = epoch_mse\n",
    "                best_state = weights.clone()\n",
    "\n",
    "            if epoch_mse < prev_loss * ( 1 + 1e-3):\n",
    "                trigger =0\n",
    "            else:\n",
    "                trigger +=1 \n",
    "                if trigger >= patience:\n",
    "                    weights = best_state\n",
    "                    opt = torch.optim.Adam([weights], lr = opt.param_groups[0]['lr'], weight_decay = 0)\n",
    "\n",
    "            epoch_mse = prev_loss\n",
    "\n",
    "\n",
    "    \n",
    "    with torch.no_grad():\n",
    "        final_preds = Features @ best_state \n",
    "        final_t_preds = t_Features @ best_state\n",
    "\n",
    "        opt_shift_train = find_optimal_discrete_shift(np.array(final_preds),np.array(Target))\n",
    "        final_preds = shifted_ldos_discrete(final_preds, xdos, torch.tensor(opt_shift_train))\n",
    "        opt_shift_test = find_optimal_discrete_shift(np.array(final_t_preds),np.array(t_Target))\n",
    "        final_t_preds = shifted_ldos_discrete(final_t_preds, xdos, torch.tensor(opt_shift_test))\n",
    "\n",
    "        loss_dos = loss.t_get_rmse(final_preds, Target, xdos, perc = True)\n",
    "        test_loss_dos = loss.t_get_rmse(final_t_preds, t_Target, xdos, perc = True)\n",
    "        return best_state, loss_dos, test_loss_dos\n",
    "        \n",
    "\n",
    "def normal_reg_train_Ad(feat, target, train_index, test_index, regularization, n_epochs, batch_size, lr):\n",
    "    patience = 20\n",
    "    index = train_index\n",
    "    t_index = test_index\n",
    "\n",
    "    features = torch.hstack([feat, torch.ones(feat.shape[0]).view(-1,1)])\n",
    "\n",
    "    Sampler = torch.utils.data.RandomSampler(index, replacement = False)\n",
    "    Batcher = torch.utils.data.BatchSampler(Sampler, batch_size, False)\n",
    "\n",
    "    Features = features[index]\n",
    "    t_Features = features[t_index]\n",
    "    n_col = Features.shape[1]\n",
    "\n",
    "\n",
    "    Target = target[index]\n",
    "    t_Target = target[t_index]\n",
    "\n",
    "\n",
    "    # reg_features = torch.vstack([Features, reg])\n",
    "    # reg_target = torch.vstack([Target, torch.zeros(n_col,Target.shape[1])])\n",
    "\n",
    "\n",
    "    reg = regularization * torch.eye(n_col)\n",
    "    reg[-1, -1] = 0\n",
    "\n",
    "\n",
    "    weights = torch.nn.Parameter((torch.rand(Features.shape[1], Target.shape[1])- 0.5))\n",
    "    opt = torch.optim.Adam([weights], lr = lr, weight_decay = 0)\n",
    "    scheduler = torch.optim.lr_scheduler.ReduceLROnPlateau(opt, factor = 0.1, patience = 500, threshold = 1e-7, min_lr = 1e-8)\n",
    "\n",
    "    pbar = tqdm(range(n_epochs))\n",
    "\n",
    "    current_rmse = torch.tensor(100)\n",
    "    pred_loss = torch.tensor(100)\n",
    "    prev_loss = torch.tensor(100)\n",
    "    best_mse = torch.tensor(100)\n",
    "    trigger = 0\n",
    "    for epoch in pbar:\n",
    "        pbar.set_description(f\"Epoch: {epoch}\")\n",
    "        pbar.set_postfix(pred_loss = pred_loss.item(), lowest_mse = best_mse.item(), trigger = trigger)\n",
    "        for i_batch in Batcher:\n",
    "            def closure():\n",
    "                opt.zero_grad()\n",
    "                reg_features_i = torch.vstack([Features[i_batch], reg])\n",
    "                target_i = torch.vstack([Target[i_batch], torch.zeros(n_col, Target.shape[1])])\n",
    "                pred_i = reg_features_i @ weights\n",
    "                opt_shift = find_optimal_discrete_shift(np.array(pred_i[:len(i_batch)].detach()),np.array(target_i[:len(i_batch)].detach()))\n",
    "                pred_i[:len(i_batch)] = shifted_ldos_discrete(pred_i[:len(i_batch)], xdos, torch.tensor(opt_shift))\n",
    "                loss_i = loss.t_get_mse(pred_i, target_i)\n",
    "                loss_i.backward()\n",
    "                return loss_i\n",
    "            opt.step(closure)\n",
    "\n",
    "        with torch.no_grad():\n",
    "            preds = Features @ weights\n",
    "            opt_shift = find_optimal_discrete_shift(np.array(preds),np.array(Target))\n",
    "            preds = shifted_ldos_discrete(preds, xdos, torch.tensor(opt_shift))\n",
    "            epoch_rmse = loss.t_get_rmse(preds, Target, xdos, perc = True)\n",
    "            epoch_mse = loss.t_get_mse(preds, Target, xdos)\n",
    "\n",
    "\n",
    "            pred_loss = epoch_rmse\n",
    "\n",
    "            if epoch_mse < best_mse:\n",
    "                best_mse = epoch_mse\n",
    "                best_state = weights.clone()\n",
    "\n",
    "            if epoch_mse < prev_loss * ( 1 + 1e-3):\n",
    "                trigger =0\n",
    "            else:\n",
    "                trigger +=1 \n",
    "                if trigger >= patience:\n",
    "                    weights = best_state\n",
    "                    opt = torch.optim.Adam([weights], lr = opt.param_groups[0]['lr'], weight_decay = 0)\n",
    "\n",
    "            epoch_mse = prev_loss\n",
    "\n",
    "            scheduler.step(epoch_mse)\n",
    "\n",
    "            if Batcher.batch_size > 1024:\n",
    "                break\n",
    "\n",
    "            if opt.param_groups[0]['lr'] < 1e-4:\n",
    "                Batcher.batch_size *= 2\n",
    "                opt.param_groups[0]['lr'] = lr\n",
    "                print (\"The batch_size is now: \", Batcher.batch_size)\n",
    "\n",
    "    \n",
    "    with torch.no_grad():\n",
    "        final_preds = Features @ best_state \n",
    "        final_t_preds = t_Features @ best_state\n",
    "\n",
    "        opt_shift_train = find_optimal_discrete_shift(np.array(final_preds),np.array(Target))\n",
    "        final_preds = shifted_ldos_discrete(final_preds, xdos, torch.tensor(opt_shift_train))\n",
    "        opt_shift_test = find_optimal_discrete_shift(np.array(final_t_preds),np.array(t_Target))\n",
    "        final_t_preds = shifted_ldos_discrete(final_t_preds, xdos, torch.tensor(opt_shift_test))\n",
    "\n",
    "        loss_dos = loss.t_get_rmse(final_preds, Target, xdos, perc = True)\n",
    "        test_loss_dos = loss.t_get_rmse(final_t_preds, t_Target, xdos, perc = True)\n",
    "        return best_state, loss_dos, test_loss_dos\n",
    "        "
   ]
  },
  {
   "cell_type": "code",
   "execution_count": 73,
   "id": "2b0e0691",
   "metadata": {
    "ExecuteTime": {
     "end_time": "2023-04-29T19:06:30.488240Z",
     "start_time": "2023-04-29T19:06:30.472540Z"
    }
   },
   "outputs": [
    {
     "data": {
      "text/plain": [
       "tensor([ 125,  114,  123, -162,  257,  191, -262, -252,   18,  221,   53, -124,\n",
       "         101,  227, -262,  -71,  -25,  182,   -8, -247,  269,  -58,  208, -252,\n",
       "         -94,  208,  -69,    2,   79,   98,   90,  207,  289,  -42,  193,   58,\n",
       "          43,  -70, -246, -219, -193, -213,  268, -270,  281,  220,  263, -205,\n",
       "          83,  -50, -160, -180,  137,  141,  -70,  190,   42,   91,  144,   10,\n",
       "         -39,  113,  196,  -62,  -97,  -73,  100, -172,  -65,  234, -235, -168,\n",
       "         -84, -223,  192,  253,  -64, -195,  -75,   34,   85,   45, -101,  -57,\n",
       "          52,  154,  237,  -42,  -10,  115,  -35,  -67, -239,  -49,   46,  -27,\n",
       "        -138, -286, -268,  213, -216, -198,  167,  165,  -64, -102,  -60, -225,\n",
       "         244,  144, -242,  287, -162, -261,  102,  145,  151, -226,  220,   39,\n",
       "         -61,  264,  286,   76,  246,  155, -242,  134,  215,  298,  197,  186,\n",
       "         261,   67,  273,  242, -225,  282, -277, -142,  155,  -88,  -78, -116,\n",
       "          90,  -70,   60,  136, -103,  218,   85,  205, -239,  219,  -68, -193,\n",
       "         -15,  -90,   61, -235,  126,   67,   94,  -20,   80,   37,   51, -104,\n",
       "         -64,  251, -250, -219, -252, -240, -223,   58, -168,  -74, -201,  242,\n",
       "        -274,  -77,   20,  -85,    8,  -24,    3,  193, -277,   65,  251, -136,\n",
       "         -91,  296, -238,  279,  169, -272,   52,   70,  133, -249,   30, -134,\n",
       "         176,    4, -247,  255,  259,   62,  294,   41, -269,    7,   62,  -43,\n",
       "          72, -239,   94,  -67,  287,  193,  215,  -14,  -21,  -82, -231,  172,\n",
       "         170, -217, -207,   53, -246,  254,  -70,  263, -294,  267, -263, -161,\n",
       "         180,   36, -266, -263,  154,   97,  -92,  236, -177,    0, -253,  137,\n",
       "         139,   52,  297,  259,  294,  109,   84,  239,   50, -181, -128,    1,\n",
       "        -254,  191, -116, -290,  157, -200,  143, -103,  190, -234,   83, -234,\n",
       "        -162, -297, -251,  191, -131,  242, -253,  141, -288,  134, -186,  168,\n",
       "        -295, -106,   80,  232,   97,  266,  117,  173,   75,   97,  -97,  197,\n",
       "         -45, -153,  -16,  -80,  275, -236, -190,  116,  214, -294,  -81,  192,\n",
       "          98, -283,  274, -105,  -26, -131, -257,  -92, -297,   10,   67,   42,\n",
       "        -207, -125,   28,  292, -169,   11, -263,   48,   26,  225, -278, -278,\n",
       "         124, -211,  156, -153,  126,  271,   26, -174, -178,   68,  130,   98,\n",
       "        -197,  167,  -87,   43,   -2,   39,  152, -121,  287,   30,  166,  -81,\n",
       "        -247, -109,   48,   24, -168, -296,  124,   -9,   27, -251,  -63, -163,\n",
       "           2, -258,  128, -292,  216,  -51, -160,  173, -175,  -10,  -74,   77,\n",
       "        -237,   71, -240, -267, -128,  118, -151,   -6, -217,  246,  107, -280,\n",
       "         -85,  -72,  161,   52, -169, -112,  -79, -116,  180, -128, -171,  -94,\n",
       "        -178, -166,  -85,   85,  227,  166,   52,   16,  241, -133, -242,   87,\n",
       "           6, -214,   82,   83, -117,  250,   33, -127, -281, -252,  107,  -72,\n",
       "         287, -129, -215, -131,  -37,  265,  159,  193, -101,   25,  241,  283,\n",
       "         -53, -201,  246, -142,  208, -295,  120,   19, -194, -239,  -72,   21,\n",
       "          91, -159,  -80,    8,  244,  117,  -80, -184, -165, -260,  255,   15,\n",
       "         -85,  209,  251, -112,  132, -295, -267,  217,  158,  108,  181,  237,\n",
       "          54,  -13,  -50,  -74, -205,  -96, -278,  195,    1, -266, -172,  112,\n",
       "         236, -287,  255,  140,  -52,  126, -226,  133, -134,  185,  255, -113,\n",
       "          40,  156, -148,  204,  247,  236,  -96,  183,   50,  -64,   94,  275,\n",
       "        -204, -236,   87,  -32,  250, -266,   33,  240,   61,  147,  177, -134,\n",
       "         120,  274,   90, -181, -289,   62,  197, -124, -116,  169,  293,  -81,\n",
       "         -14,   -9,  171,  151, -168,  103,  298,  208,   47,  251, -182,  152,\n",
       "        -287, -265,   37,  -26, -147,  188,  121,  193,   78, -255,    6,  151,\n",
       "         228,  162,  156, -208,   48,  291, -202, -239,   16,  155,  -15,  -31,\n",
       "        -168,  -43,  222, -181,  273,   38,  191,   11,  147,  -97,  -84, -296,\n",
       "         112,  -69,  226,  274,  239, -231,  109,  -80,  212,  128,  -94, -230,\n",
       "          30,    4,  111,  176,  111, -263, -188, -141, -113,  -82,   47, -110,\n",
       "         171,  189,  299, -111, -169,  294,  253, -125,  111,  151,  -35, -137,\n",
       "          29, -148, -133, -287,  144, -154, -117, -178, -247, -199,   -8,  154,\n",
       "         265,  -58,   68, -283,   58,  208,  228,  256, -131,  202,  -31, -290,\n",
       "        -131,  250,    5, -210, -187, -151,  -83,  203,  220,   -6, -108,   52,\n",
       "        -221,   -4, -235,  197,   40,   66,  167,  263,  185,  -83,  135,  203,\n",
       "         -69,  181,  266,  -65,   18,  240,  235,  -54, -104, -139,   32,  265,\n",
       "         239,  271,  -42,  108,  214,    9,  201,   16,  -23, -132, -161,  -72,\n",
       "          53, -297, -139,  115,  145,  248, -238, -140,   58,  297, -205,  109,\n",
       "           3, -165, -229, -153, -164,  272, -168,   44,  -33,  226,   71,  159,\n",
       "         -56,  229,  245, -185,  151,    7, -253, -143,  240,  240,   42, -194,\n",
       "          36,  188,  159,   14,   68,   -6, -105,  -18,  124, -194,  295,  285,\n",
       "        -103, -155,  150, -236,   -4,   50,  265,   -6, -257, -275,  185,   -6,\n",
       "           1, -231,  207, -157,  234, -199,  -68,  169,   -8,   73, -157,  116,\n",
       "        -176,  211, -272,  153,  109,  155,   30,  -28,  130,  110,   44,  158,\n",
       "        -140, -132,  -16,  233, -188, -201, -194, -157,   46,  156,  -70, -279,\n",
       "         184,  -33,  227,   -3,   74,  -18,  107,   31, -132, -266,   59,  196,\n",
       "         140, -267, -164,   26, -122,  284, -293,   20, -217,  -46,  224,   70,\n",
       "        -276,  156,  221, -293,  189, -287,  157,  247,   -7, -218,  283,  -76,\n",
       "         -97,   -5, -248,  245, -207,  101, -241, -202,   -4,  167, -128, -253,\n",
       "         -38,  -36,  175, -276,   69,  222,  287, -265, -116,  210,   68,  147,\n",
       "         180,  292,  291,  193, -144, -158,  154,  277, -274,   57,   82,  228,\n",
       "          25,   99,   84, -251, -140,  -39,  145, -242,   75,  154, -131, -121,\n",
       "        -228,  -96, -224, -297, -264,   14,  -51,  267,  -10,  -56, -291,  268,\n",
       "         135,   79, -118,  173, -270,  227,  197,  217,  137,  144, -215,  150,\n",
       "         -19,  186, -165,  -14,   61,  268, -145,  215, -180,   34,  -71,   58,\n",
       "        -189, -116,   37,   60, -150, -141,  186,  279,  298,  123,  -57, -231,\n",
       "        -299, -128,  292])"
      ]
     },
     "execution_count": 73,
     "metadata": {},
     "output_type": "execute_result"
    }
   ],
   "source": [
    "true"
   ]
  },
  {
   "cell_type": "code",
   "execution_count": 87,
   "id": "549ade0e",
   "metadata": {
    "ExecuteTime": {
     "end_time": "2023-04-29T19:13:12.595426Z",
     "start_time": "2023-04-29T19:13:12.586686Z"
    }
   },
   "outputs": [
    {
     "data": {
      "text/plain": [
       "tensor([-176,  -62,  115,  297,  275, -169,  101,  270, -184,  -79,   -8, -123,\n",
       "         174, -208, -225, -247, -114,   -2, -257,  214,  161, -116,    4, -142,\n",
       "         -40, -228,  238,   45, -290, -145,   76,  -50,  162,  -55,  220, -167,\n",
       "         296,  101, -176,  -20,  -63,   85, -278,  182,  169, -131,  169,  247,\n",
       "         243,  206, -271,  -61, -194,  289,  270,  175,  239, -267, -124, -103,\n",
       "         250,  166,  -48,  280,  150, -200,  143, -105,  173,  130,  -37,  143,\n",
       "         201,  249,  267,   95,   70, -180,  109,  280,  262,  181,   23,  128,\n",
       "         257,  270, -215,   14,  -25,  174,   89,    8, -213,  -19,  180,  292,\n",
       "           5, -294,  208,  174,  137,  194,  176,  177, -293,  265,  152, -140,\n",
       "         289,  238, -242,   78, -148,  280,  247, -221,  -95,    6, -263, -179,\n",
       "        -143, -173,   54,  254,   68, -115,   31,  234,  -93,  248,  -78,  257,\n",
       "         -69, -253,  290,  -82, -199, -202,  159, -299,  282,  239,  160, -151,\n",
       "         122,  130, -178,  183, -247,  211,  187,  214,  161,  243,  142, -124,\n",
       "         130, -122,  226,   90, -190,   72,  236,  180, -197,  -41, -260, -219,\n",
       "         198,  277,  190, -163,   93,  211, -101, -228, -133,   78,  268,  239,\n",
       "         -29,  -12,  -54,   77,  -32,  257,  129,   50,   19,   65,  244, -169,\n",
       "        -189,   11,   -9, -163,  -89, -193,  226, -238,   85,   93,  -20,  200,\n",
       "        -177,   50, -247, -107, -196, -121, -168, -217,  -38,  269,   78, -160,\n",
       "         250,  -30,   96,  -61,  163, -114,  -90,   88, -186, -180, -255, -276,\n",
       "         109,  -66,   24,  -36,  -45, -182,   42,  249,    8,  266,   31, -118,\n",
       "          45,  145, -142, -225,  189,  269,  264,  232, -194,  -59, -271, -110,\n",
       "         276, -231,    6,   82, -154,  133,  119,   34,  259,   66,  211,  -47,\n",
       "          71, -211,   60,  164, -218, -157,   36,  173, -116,  162,  269,  109,\n",
       "        -167,   59,  249,   93,   34,    3, -160,  -45, -247, -100,   41, -290,\n",
       "         253, -115,   27,  233,  204,  -41,   56,  123,   99, -188,   88,    9,\n",
       "         258, -264,  -49,  -60,   40,  189,  -79, -268,  285,  242,  275,  -73,\n",
       "         -26, -268,  283,  -88,   46,  224,  281,  198,  162, -227, -291, -237,\n",
       "          71, -108, -247,   85, -209,   43,  131,  271,  287,   75,  169,  -21,\n",
       "        -167,   27,   22,  297, -269,  245,  -82,  127, -246,  217,  -29,  117,\n",
       "        -102,  -23, -184,  254,   88,  257,  141,  202,  143,  296,  133,  264,\n",
       "         159,   76,  230, -164,  221, -236,   68, -178,   95,  186, -102,  217,\n",
       "         289, -279,  132,  108, -262,  262,   61,  212,   12, -184, -137, -247,\n",
       "          96,   13,  110,  169,  207,  149, -286,  276, -296,  -17, -263,  294,\n",
       "        -295,  262,  -48,  -24,  272,  -86, -238,   88, -135,   21,  105,  104,\n",
       "        -217,  -45,  102,  -59,    9, -154,   89,  199,  270,  173,   39,  -92,\n",
       "           9,   68,   22,  -19, -234, -160,   64,  167,  104,   -5,  149,  105,\n",
       "         139,  225,   10, -221,  -99,   -4,  -48,  170, -198, -104,  297,  112,\n",
       "          51,   99,  165,   22,  -91,  -11,  -44,  -61,  208, -111,  224, -263,\n",
       "        -293,  -69,  -43,  253,  -82, -230, -131, -289,  -39,  222, -116,   82,\n",
       "         162, -168, -237,  105,   43,   95,  293,  -86,  -44,  -49,  104,  -57,\n",
       "         243,  252,  -10,  -77,  -63, -110,   -4, -120,  191,  217,  -94,  245,\n",
       "         -44,  -20, -273, -199, -105,  298,   83,  154,  246, -161,  -28,  110,\n",
       "         -38,   96,   56, -106,   58,  -48, -113,  109,  128,  248, -182,  147,\n",
       "         229,   -7, -297, -118, -284,   -6,  -69, -105,   -3,   20,  -63,  171,\n",
       "         225, -231,  104,  264, -264,  -73,   43,  256,   29,  -84,  247,  268,\n",
       "          35,  -18, -278,  177,  263, -254,  108, -296,   10, -262, -222, -140,\n",
       "          15, -199, -206,  230,  -53, -256,  193, -246,  212, -260,  263,   18,\n",
       "          16, -230,  132,  252,  240,  199,  -86,  132,   62, -138,  268, -179,\n",
       "        -224,   14,  165, -179,   84,  238, -213,  125,  283, -276,  220,   70,\n",
       "        -116,  137,   96,  271,  -20,  275,  296,  -51, -157,  -23,  -62,   88,\n",
       "         158,  296, -291,  -56,  -56, -265, -229,  -34,  -31,  138,   63, -129,\n",
       "         -29,  256,   44, -224,  -16,  260, -254,  236, -155,  129,  184, -161,\n",
       "         194,  231,   42, -203,  -14, -140,  245,  274,  205,   27,  280,  165,\n",
       "         291,   50, -124,  -95,  -55,  190,  226,   11, -228,  -37, -197,  266,\n",
       "        -175, -165,  152,  221,  275,  209,  144, -266,  -44,  -40,   85, -158,\n",
       "          10,  -37,  109, -215,   88, -106,  -75, -111, -273,   71,  201,   63,\n",
       "         -67,   97, -136,  -43,  -69, -274,   50, -162,  186,   14, -169, -289,\n",
       "          88,  158, -193,  263,  122, -249,   15,  237,  140,  133,  246,   99,\n",
       "         -31, -132,  229, -257,   82,   13,  222,  -51, -220, -189,  277,   50,\n",
       "         217,   87, -101,  279,  -84, -279,  182, -253, -225, -252, -283, -228,\n",
       "          90, -229,  142, -281,   -2,  290,  128, -252,   72, -140,  264,  102,\n",
       "        -282,   17, -219,  -86, -180,  -60,   30,  276, -114,  203,  226,  -99,\n",
       "         -71,  124,  295,  298, -167,  247,  272,   52,  220,   28,  -63,  291,\n",
       "         -84,  149, -135, -103,   74,  164,  160, -260, -189, -239,  103,   64,\n",
       "         -87, -112, -129,   67,   49,  132,  132, -281, -140, -262,   61,   97,\n",
       "        -213,   -6,   59, -203,  293,  218,  -38, -287,  162, -183,   63,  -34,\n",
       "          96, -155,  121,  -53, -110,   -1,  129, -280, -236,  197, -108,   49,\n",
       "        -200,  226, -300,  -83,  191,  169,  122, -262, -151,  126, -220, -255,\n",
       "          66,  214,  149,   85,  206, -252, -196,   77,  270,   -7,  -62,  210,\n",
       "         222,  -88, -211,  -96,  121,  -42,   56, -261, -162,  277,  190,   83,\n",
       "        -266,  -39, -100,  183, -253,  144,   67,  106, -158, -144,  236,  -64,\n",
       "        -143,  193,  185, -288,  -73,   85,  -24,  208, -247,   57,   62, -153,\n",
       "        -131,   16,  135,   36,  253,  154,   77,  -38, -246, -249,  194,  -89,\n",
       "          13, -205,  137, -296,  287,  126,  241,  244,  177,  146, -111, -266,\n",
       "         107, -260, -300,  253, -104,  267,    4,  -65, -129,  -63,  232,  139,\n",
       "        -165,  282,   -6,  262, -116,  230, -259, -272, -140,  161, -189,  171,\n",
       "         114,  129,  -16,  159,   24,  -31, -238, -112, -102,  221, -134,  -45,\n",
       "         121,  -29,   55])"
      ]
     },
     "execution_count": 87,
     "metadata": {},
     "output_type": "execute_result"
    }
   ],
   "source": [
    "true"
   ]
  },
  {
   "cell_type": "code",
   "execution_count": 107,
   "id": "ba92d314",
   "metadata": {
    "ExecuteTime": {
     "end_time": "2023-04-29T19:20:38.384406Z",
     "start_time": "2023-04-29T19:20:38.375754Z"
    }
   },
   "outputs": [
    {
     "data": {
      "text/plain": [
       "tensor([0., 0., 0., 0., 0., 0., 0., 0., 0., 0., 0., 0., 0., 0., 0., 0., 0., 0., 0., 0., 0., 0., 0., 0.,\n",
       "        0., 0., 0., 0., 0., 0., 0., 0., 0., 0., 0., 0., 0., 0., 0., 0., 0., 0., 0., 0., 0., 0., 0., 0.,\n",
       "        0., 0., 0., 0., 0., 0., 0., 0., 0., 0., 0., 0., 0., 0., 0., 0., 0., 0., 0., 0., 0., 0., 0., 0.,\n",
       "        0., 0., 0., 0., 0., 0., 0., 0., 0., 0., 0., 0., 0., 0., 0., 0., 0., 0., 0., 0., 0., 0., 0., 0.,\n",
       "        0., 0., 0., 0., 0., 0., 0., 0., 0., 0., 0., 0., 0., 0., 0., 0., 0., 0., 0., 0., 0., 0., 0., 0.,\n",
       "        0., 0., 0., 0., 0., 0., 0., 0., 0., 0., 0., 0., 0., 0., 0., 0., 0., 0., 0., 0., 0., 0., 0., 0.,\n",
       "        0., 0., 0., 0., 0., 0., 0., 0., 0., 0., 0., 0., 0., 0., 0., 0., 0., 0., 0., 0., 0., 0., 0., 0.,\n",
       "        0., 0., 0., 0., 0., 0., 0., 0., 0., 0., 0., 0., 0., 0., 0., 0., 0., 0., 0., 0., 0., 0., 0., 0.,\n",
       "        0., 0., 0., 0., 0., 0., 0., 0., 0., 0., 0., 0., 0., 0., 0., 0., 0., 0., 0., 0., 0., 0., 0., 0.,\n",
       "        0., 0., 0., 0., 0., 0., 0., 0., 0., 0., 0., 0., 0., 0., 0., 0., 0., 0., 0., 0., 0., 0., 0., 0.,\n",
       "        0., 0., 0., 0., 0., 0., 0., 0., 0., 0., 0., 0., 0., 0., 0., 0., 0., 0., 0., 0., 0., 0., 0., 0.,\n",
       "        0., 0., 0., 0., 0., 0., 0., 0., 0., 0., 0., 0., 0., 0., 0., 0., 0., 0., 0., 0., 0., 0., 0., 0.,\n",
       "        0., 0., 0., 0., 0., 0., 0., 0., 0., 0., 0., 0., 0., 0., 0., 0., 0., 0., 0., 0., 0., 0., 0., 0.,\n",
       "        0., 0., 0., 0., 0., 0., 0., 0., 0., 0., 0., 0., 0., 0., 0., 0., 0., 0., 0., 0., 0., 0., 0., 0.,\n",
       "        0., 0., 0., 0., 0., 0., 0., 0., 0., 0., 0., 0., 0., 0., 0., 0., 0., 0., 0., 0., 0., 0., 0., 0.,\n",
       "        0., 0., 0., 0., 0., 0., 0., 0., 0., 0., 0., 0., 0., 0., 0., 0., 0., 0., 0., 0., 0., 0., 0., 0.,\n",
       "        0., 0., 0., 0., 0., 0., 0., 0., 0., 0., 0., 0., 0., 0., 0., 0., 0., 0., 0., 0., 0., 0., 0., 0.,\n",
       "        0., 0., 0., 0., 0., 0., 0., 0., 0., 0., 0., 0., 0., 0., 0., 0., 0., 0., 0., 0., 0., 0., 0., 0.,\n",
       "        0., 0., 0., 0., 0., 0., 0., 0., 0., 0., 0., 0., 0., 0., 0., 0., 0., 0., 0., 0., 0., 0., 0., 0.,\n",
       "        0., 0., 0., 0., 0., 0., 0., 0., 0., 0., 0., 0., 0., 0., 0., 0., 0., 0., 0., 0., 0., 0., 0., 0.,\n",
       "        0., 0., 0., 0., 0., 0., 0., 0., 0., 0., 0., 0., 0., 0., 0., 0., 0., 0., 0., 0., 0., 0., 0., 0.,\n",
       "        0., 0., 0., 0., 0., 0., 0., 0., 0., 0., 0., 0., 0., 0., 0., 0., 0., 0., 0., 0., 0., 0., 0., 0.,\n",
       "        0., 0., 0., 0., 0., 0., 0., 0., 0., 0., 0., 0., 0., 0., 0., 0., 0., 0., 0., 0., 0., 0., 0., 0.,\n",
       "        0., 0., 0., 0., 0., 0., 0., 0., 0., 0., 0., 0., 0., 0., 0., 0., 0., 0., 0., 0., 0., 0., 0., 0.,\n",
       "        0., 0., 0., 0., 0., 0., 0., 0., 0., 0., 0., 0., 0., 0., 0., 0., 0., 0., 0., 0., 0., 0., 0., 0.,\n",
       "        0., 0., 0., 0., 0., 0., 0., 0., 0., 0., 0., 0., 0., 0., 0., 0., 0., 0., 0., 0., 0., 0., 0., 0.,\n",
       "        0., 0., 0., 0., 0., 0., 0., 0., 0., 0., 0., 0., 0., 0., 0., 0., 0., 0., 0., 0., 0., 0., 0., 0.,\n",
       "        0., 0., 0., 0., 0., 0., 0., 0., 0., 0., 0., 0., 0., 0., 0., 0., 0., 0., 0., 0., 0., 0., 0., 0.,\n",
       "        0., 0., 0., 0., 0., 0., 0., 0., 0., 0., 0., 0., 0., 0., 0., 0., 0., 0., 0., 0., 0., 0., 0., 0.,\n",
       "        0., 0., 0., 0., 0., 0., 0., 0., 0., 0., 0., 0., 0., 0., 0., 0., 0., 0., 0., 0., 0., 0., 0., 0.,\n",
       "        0., 0., 0., 0., 0., 0., 0., 0., 0., 0., 0., 0., 0., 0., 0., 0., 0., 0., 0., 0., 0., 0., 0., 0.,\n",
       "        0., 0., 0., 0., 0., 0., 0., 0., 0., 0., 0., 0., 0., 0., 0., 0., 0., 0., 0., 0., 0., 0., 0., 0.,\n",
       "        0., 0., 0., 0., 0., 0., 0., 0., 0., 0., 0., 0., 0., 0., 0., 0., 0., 0., 0., 0., 0., 0., 0., 0.,\n",
       "        0., 0., 0., 0., 0., 0., 0., 0., 0., 0., 0., 0., 0., 0., 0., 0., 0., 0., 0., 0., 0., 0., 0., 0.,\n",
       "        0., 0., 0., 0., 0., 0., 0., 0., 0., 0., 0., 0., 0., 0., 0., 0., 0., 0., 0., 0., 0., 0., 0., 0.,\n",
       "        0., 0., 0., 0., 0., 0., 0., 0., 0., 0., 0., 0., 0., 0., 0., 0., 0., 0., 0., 0., 0., 0., 0., 0.,\n",
       "        0., 0., 0., 0., 0., 0., 0., 0., 0., 0., 0., 0., 0., 0., 0., 0., 0., 0., 0., 0., 0., 0., 0., 0.,\n",
       "        0., 0., 0., 0., 0., 0., 0., 0., 0., 0., 0., 0., 0., 0., 0., 0., 0., 0., 0., 0., 0., 0., 0., 0.,\n",
       "        0., 0., 0., 0., 0., 0., 0., 0., 0., 0., 0., 0., 0., 0., 0.])"
      ]
     },
     "execution_count": 107,
     "metadata": {},
     "output_type": "execute_result"
    }
   ],
   "source": [
    "true"
   ]
  },
  {
   "cell_type": "code",
   "execution_count": 136,
   "id": "39e926ce",
   "metadata": {
    "ExecuteTime": {
     "end_time": "2023-04-29T19:23:28.142193Z",
     "start_time": "2023-04-29T19:23:28.133480Z"
    }
   },
   "outputs": [
    {
     "data": {
      "text/plain": [
       "tensor([ 173, -150,  -95,  -76,  207,  -62,  -53,  113,  -69,   -7,  172,  288,\n",
       "         294,  251,  162,  -52, -132, -278, -146,  217,  157,  190,   67, -113,\n",
       "          32, -100,  198,   76,  -98,  243,  181,  -32,  139, -113,  198,    4,\n",
       "          68,   97, -213, -176,  157,   81,  -94,   82,  -42, -149, -204,   31,\n",
       "           9,  -56,  147, -149,   41, -251, -229,   83,  281, -134,  211,  279,\n",
       "        -157,  228, -291,   35,  270,   78,  251, -280,  173, -117, -256,    7,\n",
       "         294,  270,   17,  222, -163, -245,  -45,  109,  -33,  132,  231,  186,\n",
       "         265,  106, -264,  258,   79,  120,  182,  113,   55,  285,  273, -126,\n",
       "         242, -145, -189, -159,  152,    3,  128,  227, -218,  221,  -94, -231,\n",
       "          59, -138,   73, -218,  267, -203, -224, -197, -158, -219,   41,  -30,\n",
       "          88,   87,  152, -182,   94,   23, -246,  102, -213, -110,  234,  179,\n",
       "         198,   23, -120, -163,  235,  148, -216,   58,  154,  -68,  149, -293,\n",
       "         -76, -153,  -74,  209, -120,  263, -197, -104, -213,  228,  237, -122,\n",
       "        -177, -219, -300,   48,   -7,  245,  -32,  194,  251,   75, -225,  108,\n",
       "        -227,   36,  -69,   95, -172, -140, -118, -271,  129, -189,  -73, -259,\n",
       "         195, -249, -185,  133,  238,  249, -285, -186,  293,  108, -168,   96,\n",
       "          13, -226,  204,  -56, -147,   -7, -152,   19,  -75,    3,  154,   44,\n",
       "        -127,  244, -219,   43,  -99,  170,  286, -226,  172,  286, -123,   74,\n",
       "         287, -166,  289,  283,  223,  118,   16, -270, -169, -298,  156,  203,\n",
       "        -267,  222,   44,  105, -147,  110,  -26,  261,  169,   87,  165,  113,\n",
       "         149,  162, -227,  280,  235,   47, -123,   43,   94, -147,  181, -123,\n",
       "         266,  140,   32,   83, -162,  -87,   38,   34, -289,  -29, -183, -242,\n",
       "         -66,  140,  -48,  244,  284, -163,   86,  -11,  235,   72,  137,   98,\n",
       "        -248,  102,  137,   -9,  -30,   56,  289, -229, -229,  -23, -196,  113,\n",
       "           5,  193, -141,  233,  157,  170,  -16,   44,   -7,  266,  230, -172,\n",
       "          33,  -68, -123,  129,   92,  297,  296,  139,  -31,  111, -158,   15,\n",
       "        -269,  294,  131,   79,  -15, -160,  -85,   21, -296, -209,  166,  -62,\n",
       "        -273,  122,  295, -275,    6,  139,  102, -137, -143,  166,   26, -127,\n",
       "        -266,  -31,  250,  206,  165,  178,  129,  182, -228,  -11, -176,  254,\n",
       "        -187,  120,  181,   52, -156,  -19,   79,  289,  186, -153,   80, -196,\n",
       "        -260, -134, -207, -174,  117,  -74,  -43,   79,  179, -212,  -45, -219,\n",
       "        -141,  238,  112,  -79,   -8,  288,  294, -106,  238, -267, -204,   81,\n",
       "         240,  -44, -183,  293,  266,  151, -284,   70, -271,   57,  177,   27,\n",
       "        -291, -123,   95, -137,   73, -247,  111,   61,   77,  116,  209,   21,\n",
       "        -107,  -52, -133, -236, -111,   56,   84,  -72,   79, -217,   62, -139,\n",
       "         295,    0,  172,  100,  209,  -85,  101,  -45,  251,  159,  289,  180,\n",
       "        -157, -177,   38, -150, -262, -144,  278, -104,   94,  164,  282, -123,\n",
       "        -110, -246,   89,  117,   54, -174,   -1, -111,  187, -284, -139,  225,\n",
       "         -90,  -71,  211,  201,   59,    0,  -64, -206,  181,   -8,  -61, -161,\n",
       "        -261, -196,   56, -190,  283,  296,  204,  217,  -49, -140, -158, -214,\n",
       "         280,  258,  149,   86,  -24, -131, -219, -178, -102, -275,   60, -119,\n",
       "         281, -297, -199, -283, -118,  -50,  270,  199, -146,  216, -206,  190,\n",
       "        -206, -170,  132,  212,  153,  -76, -241,  -89,  254,  138, -237, -193,\n",
       "        -139,  163,  194,   36,   12,  171, -187, -220, -230,  -26, -268,   49,\n",
       "         131, -151,  -90, -149,  230, -291,  -66,  -64,  -21,   -8,  128, -118,\n",
       "        -142,   24,  -12,  -56, -262,  -47, -100,  188, -280,  -69, -292,   31,\n",
       "         119, -218, -278, -125, -299, -290, -262, -111,  122,  -22, -193, -143,\n",
       "          51,  274, -232, -251, -178,  161,   55, -237,  206, -177,  269,  -64,\n",
       "         -42,  -57,  177, -100, -251,  243, -269,  215, -232,  -19,  -75,   78,\n",
       "         258, -243,  -38,  244,  104,  290,  237, -138,  182, -165,   55,   42,\n",
       "        -101,   18, -258,   60,  133, -160,  196,  278,   -8, -234,  -89,  256,\n",
       "        -211,  149,  243,  -45, -276,   16,  136, -185, -123,  246,  260,   72,\n",
       "        -164,  -66,  156, -150,  244,  199,  -94, -272,   22,  296, -260,  179,\n",
       "          45, -167, -218,  171,   32,  156,  192, -291,  -76,   49,  234,  108,\n",
       "        -290,  112,  243,  268, -118, -281,  -37,  172,  213,   76,  123, -269,\n",
       "        -299,  -35, -287,  209,  279,  135, -187, -198, -139, -166,  283, -176,\n",
       "         159,  118,  -59, -173,   59,  177, -270, -115, -150,   93, -177,  263,\n",
       "         -47,    1,  183,  137,  -14, -202, -263,  188,   62,  -62,   -4,  246,\n",
       "        -139, -133,   16,  127, -250, -282, -185,  283,  226,  -79,  243, -240,\n",
       "         202,  114, -124, -196,  -37,  100,   74, -215,   59,  102,  132, -106,\n",
       "         -25,  101,  -57, -248,  281,  -75, -109,  146,  119,   57,  -77,  241,\n",
       "         281,  -88, -255,  233,  -55,  -23,  139,  146, -243,  -99,  259, -112,\n",
       "         188, -216, -179, -259, -233, -186,  161,  159,  196,  255, -248,   18,\n",
       "         157, -159,   96,  -94,    9, -257,  203,  114, -252, -129, -144, -257,\n",
       "         -80, -101,   67,  156,  133,  124,  -25,  144, -136,    4,   91,  -90,\n",
       "          28,  154,   30, -159,    6,  117, -249,  -33,  -65, -232,   28, -283,\n",
       "         215, -272,  -56,  211,  249, -153, -190, -238,  -78,  280, -174, -197,\n",
       "         104,  -20,  154, -224,  264,  213, -111,  285, -116, -195,  298, -224,\n",
       "        -292, -182,  216,  154,  -74,  169, -175, -170,  261, -279,  -28,   18,\n",
       "        -293,  164, -260, -172,  -65,   -5, -176,   83, -168, -199, -107, -118,\n",
       "        -140, -172,  130,    2,  -21,  -89,   64,  -62,   16,   27, -159,  -12,\n",
       "         116, -291, -296,   65, -193,  229,  -28,   98, -151, -137,  175, -220,\n",
       "        -271,  299,   -9,  166,  -31,  -10,  -91, -105,  221,   62,   26, -167,\n",
       "        -136,  165,  159,  -14,  175,   60,  162,  101, -278,  -29,  249,    8,\n",
       "         246,  157, -262, -160,  222,  -30,  -82,   80, -173, -253,  -42, -176,\n",
       "        -132, -225,  -93, -248, -265, -134,   92, -244, -202,  144,  153,  220,\n",
       "        -185,  -75,  153,  -60,  137,  -82,  270,  190,  286,  262,  -82,  151,\n",
       "         243,   71,  201])"
      ]
     },
     "execution_count": 136,
     "metadata": {},
     "output_type": "execute_result"
    }
   ],
   "source": [
    "true"
   ]
  },
  {
   "cell_type": "code",
   "execution_count": 137,
   "id": "77dbf7b2",
   "metadata": {
    "ExecuteTime": {
     "end_time": "2023-04-29T19:23:35.520451Z",
     "start_time": "2023-04-29T19:23:35.505626Z"
    }
   },
   "outputs": [
    {
     "data": {
      "text/plain": [
       "tensor([ 173, -150,  -95,  -76,  207,  -62,  -53,  113,  -69,   -7,  172,  288,\n",
       "         294,  251,  162,  -52, -132, -278, -146,  217,  157,  190,   67, -113,\n",
       "          32, -100,  198,   76,  -98,  243,  181,  -32,  139, -113,  198,    4,\n",
       "          68,   97, -213, -176,  157,   81,  -94,   82,  -42, -149, -204,   31,\n",
       "           9,  -56,  147, -149,   41, -251, -229,   83,  281, -134,  211,  279,\n",
       "        -157,  228, -291,   35,  270,   78,  251, -280,  173, -117, -256,    7,\n",
       "         294,  270,   17,  222, -163, -245,  -45,  109,  -33,  132,  231,  186,\n",
       "         265,  106, -264,  258,   79,  120,  182,  113,   55,  285,  273, -126,\n",
       "         242, -145, -189, -159,  152,    3,  128,  227, -218,  221,  -94, -231,\n",
       "          59, -138,   73, -218,  267, -203, -224, -197, -158, -219,   41,  -30,\n",
       "          88,   87,  152, -182,   94,   23, -246,  102, -213, -110,  234,  179,\n",
       "         198,   23, -120, -163,  235,  148, -216,   58,  154,  -68,  149, -293,\n",
       "         -76, -153,  -74,  209, -120,  263, -197, -104, -213,  228,  237, -122,\n",
       "        -177, -219, -300,   48,   -7,  245,  -32,  194,  251,   75, -225,  108,\n",
       "        -227,   36,  -69,   95, -172, -140, -118, -271,  129, -189,  -73, -259,\n",
       "         195, -249, -185,  133,  238,  249, -285, -186,  293,  108, -168,   96,\n",
       "          13, -226,  204,  -56, -147,   -7, -152,   19,  -75,    3,  154,   44,\n",
       "        -127,  244, -219,   43,  -99,  170,  286, -226,  172,  286, -123,   74,\n",
       "         287, -166,  289,  283,  223,  118,   16, -270, -169, -298,  156,  203,\n",
       "        -267,  222,   44,  105, -147,  110,  -26,  261,  169,   87,  165,  113,\n",
       "         149,  162, -227,  280,  235,   47, -123,   43,   94, -147,  181, -123,\n",
       "         266,  140,   32,   83, -162,  -87,   38,   34, -289,  -29, -183, -242,\n",
       "         -66,  140,  -48,  244,  284, -163,   86,  -11,  235,   72,  137,   98,\n",
       "        -248,  102,  137,   -9,  -30,   56,  289, -229, -229,  -23, -196,  113,\n",
       "           5,  193, -141,  233,  157,  170,  -16,   44,   -7,  266,  230, -172,\n",
       "          33,  -68, -123,  129,   92,  297,  296,  139,  -31,  111, -158,   15,\n",
       "        -269,  294,  131,   79,  -15, -160,  -85,   21, -296, -209,  166,  -62,\n",
       "        -273,  122,  295, -275,    6,  139,  102, -137, -143,  166,   26, -127,\n",
       "        -266,  -31,  250,  206,  165,  178,  129,  182, -228,  -11, -176,  254,\n",
       "        -187,  120,  181,   52, -156,  -19,   79,  289,  186, -153,   80, -196,\n",
       "        -260, -134, -207, -174,  117,  -74,  -43,   79,  179, -212,  -45, -219,\n",
       "        -141,  238,  112,  -79,   -8,  288,  294, -106,  238, -267, -204,   81,\n",
       "         240,  -44, -183,  293,  266,  151, -284,   70, -271,   57,  177,   27,\n",
       "        -291, -123,   95, -137,   73, -247,  111,   61,   77,  116,  209,   21,\n",
       "        -107,  -52, -133, -236, -111,   56,   84,  -72,   79, -217,   62, -139,\n",
       "         295,    0,  172,  100,  209,  -85,  101,  -45,  251,  159,  289,  180,\n",
       "        -157, -177,   38, -150, -262, -144,  278, -104,   94,  164,  282, -123,\n",
       "        -110, -246,   89,  117,   54, -174,   -1, -111,  187, -284, -139,  225,\n",
       "         -90,  -71,  211,  201,   59,    0,  -64, -206,  181,   -8,  -61, -161,\n",
       "        -261, -196,   56, -190,  283,  296,  204,  217,  -49, -140, -158, -214,\n",
       "         280,  258,  149,   86,  -24, -131, -219, -178, -102, -275,   60, -119,\n",
       "         281, -297, -199, -283, -118,  -50,  270,  199, -146,  216, -206,  190,\n",
       "        -206, -170,  132,  212,  153,  -76, -241,  -89,  254,  138, -237, -193,\n",
       "        -139,  163,  194,   36,   12,  171, -187, -220, -230,  -26, -268,   49,\n",
       "         131, -151,  -90, -149,  230, -291,  -66,  -64,  -21,   -8,  128, -118,\n",
       "        -142,   24,  -12,  -56, -262,  -47, -100,  188, -280,  -69, -292,   31,\n",
       "         119, -218, -278, -125, -299, -290, -262, -111,  122,  -22, -193, -143,\n",
       "          51,  274, -232, -251, -178,  161,   55, -237,  206, -177,  269,  -64,\n",
       "         -42,  -57,  177, -100, -251,  243, -269,  215, -232,  -19,  -75,   78,\n",
       "         258, -243,  -38,  244,  104,  290,  237, -138,  182, -165,   55,   42,\n",
       "        -101,   18, -258,   60,  133, -160,  196,  278,   -8, -234,  -89,  256,\n",
       "        -211,  149,  243,  -45, -276,   16,  136, -185, -123,  246,  260,   72,\n",
       "        -164,  -66,  156, -150,  244,  199,  -94, -272,   22,  296, -260,  179,\n",
       "          45, -167, -218,  171,   32,  156,  192, -291,  -76,   49,  234,  108,\n",
       "        -290,  112,  243,  268, -118, -281,  -37,  172,  213,   76,  123, -269,\n",
       "        -299,  -35, -287,  209,  279,  135, -187, -198, -139, -166,  283, -176,\n",
       "         159,  118,  -59, -173,   59,  177, -270, -115, -150,   93, -177,  263,\n",
       "         -47,    1,  183,  137,  -14, -202, -263,  188,   62,  -62,   -4,  246,\n",
       "        -139, -133,   16,  127, -250, -282, -185,  283,  226,  -79,  243, -240,\n",
       "         202,  114, -124, -196,  -37,  100,   74, -215,   59,  102,  132, -106,\n",
       "         -25,  101,  -57, -248,  281,  -75, -109,  146,  119,   57,  -77,  241,\n",
       "         281,  -88, -255,  233,  -55,  -23,  139,  146, -243,  -99,  259, -112,\n",
       "         188, -216, -179, -259, -233, -186,  161,  159,  196,  255, -248,   18,\n",
       "         157, -159,   96,  -94,    9, -257,  203,  114, -252, -129, -144, -257,\n",
       "         -80, -101,   67,  156,  133,  124,  -25,  144, -136,    4,   91,  -90,\n",
       "          28,  154,   30, -159,    6,  117, -249,  -33,  -65, -232,   28, -283,\n",
       "         215, -272,  -56,  211,  249, -153, -190, -238,  -78,  280, -174, -197,\n",
       "         104,  -20,  154, -224,  264,  213, -111,  285, -116, -195,  298, -224,\n",
       "        -292, -182,  216,  154,  -74,  169, -175, -170,  261, -279,  -28,   18,\n",
       "        -293,  164, -260, -172,  -65,   -5, -176,   83, -168, -199, -107, -118,\n",
       "        -140, -172,  130,    2,  -21,  -89,   64,  -62,   16,   27, -159,  -12,\n",
       "         116, -291, -296,   65, -193,  229,  -28,   98, -151, -137,  175, -220,\n",
       "        -271,  299,   -9,  166,  -31,  -10,  -91, -105,  221,   62,   26, -167,\n",
       "        -136,  165,  159,  -14,  175,   60,  162,  101, -278,  -29,  249,    8,\n",
       "         246,  157, -262, -160,  222,  -30,  -82,   80, -173, -253,  -42, -176,\n",
       "        -132, -225,  -93, -248, -265, -134,   92, -244, -202,  144,  153,  220,\n",
       "        -185,  -75,  153,  -60,  137,  -82,  270,  190,  286,  262,  -82,  151,\n",
       "         243,   71,  201])"
      ]
     },
     "execution_count": 137,
     "metadata": {},
     "output_type": "execute_result"
    }
   ],
   "source": [
    "true"
   ]
  },
  {
   "cell_type": "code",
   "execution_count": 21,
   "id": "a1364600",
   "metadata": {
    "ExecuteTime": {
     "end_time": "2023-04-27T11:52:31.059669Z",
     "start_time": "2023-04-27T11:52:31.050519Z"
    }
   },
   "outputs": [],
   "source": [
    "def evaluate_weights(weights, feat, target, train_index, test_index):\n",
    "    \n",
    "    features = torch.hstack([feat, torch.ones(feat.shape[0]).view(-1,1)])\n",
    "    \n",
    "    best_state = weights\n",
    "    Features = features[train_index]\n",
    "    t_Features = features[test_index]\n",
    "    \n",
    "    Target = target[train_index]\n",
    "    t_Target = target[test_index]\n",
    "    \n",
    "    with torch.no_grad():\n",
    "        final_preds = Features @ best_state \n",
    "        final_t_preds = t_Features @ best_state\n",
    "\n",
    "        opt_shift_train = find_optimal_discrete_shift(np.array(final_preds),np.array(Target))\n",
    "        final_preds = shifted_ldos_discrete(final_preds, xdos, torch.tensor(opt_shift_train))\n",
    "        opt_shift_test = find_optimal_discrete_shift(np.array(final_t_preds),np.array(t_Target))\n",
    "        final_t_preds = shifted_ldos_discrete(final_t_preds, xdos, torch.tensor(opt_shift_test))\n",
    "\n",
    "        loss_dos = t_get_rmse(final_preds, Target, xdos, perc = True)\n",
    "        test_loss_dos = t_get_rmse(final_t_preds, t_Target, xdos, perc = True)\n",
    "    \n",
    "    return loss_dos, test_loss_dos, opt_shift_train, opt_shift_test"
   ]
  },
  {
   "cell_type": "code",
   "execution_count": 22,
   "id": "ce43a0b0",
   "metadata": {
    "ExecuteTime": {
     "end_time": "2023-04-27T11:52:31.618630Z",
     "start_time": "2023-04-27T11:52:31.608525Z"
    }
   },
   "outputs": [],
   "source": [
    "def get_predictions(weights, feat, target, train_index, test_index):\n",
    "    features = torch.hstack([feat, torch.ones(feat.shape[0]).view(-1,1)])\n",
    "    \n",
    "    best_state = weights\n",
    "    Features = features[train_index]\n",
    "    t_Features = features[test_index]\n",
    "    \n",
    "    Target = target[train_index]\n",
    "    t_Target = target[test_index]\n",
    "    \n",
    "    with torch.no_grad():\n",
    "        final_preds = Features @ best_state \n",
    "        final_t_preds = t_Features @ best_state\n",
    "\n",
    "        opt_shift_train = find_optimal_discrete_shift(np.array(final_preds),np.array(Target))\n",
    "        final_preds2 = shifted_ldos_discrete(final_preds, xdos, torch.tensor(opt_shift_train))\n",
    "        opt_shift_test = find_optimal_discrete_shift(np.array(final_t_preds),np.array(t_Target))\n",
    "        final_t_preds2 = shifted_ldos_discrete(final_t_preds, xdos, torch.tensor(opt_shift_test))\n",
    "        \n",
    "    return final_preds, final_t_preds, opt_shift_train, opt_shift_test"
   ]
  },
  {
   "cell_type": "code",
   "execution_count": 23,
   "id": "9ecf5c5b",
   "metadata": {
    "ExecuteTime": {
     "end_time": "2023-04-27T11:52:32.187758Z",
     "start_time": "2023-04-27T11:52:32.181506Z"
    }
   },
   "outputs": [],
   "source": [
    "def reverse_index(train_align, test_align, train_index, test_index):\n",
    "    total_number = len(train_align) + len(test_align)\n",
    "    original_index = torch.zeros(total_number).float()\n",
    "    \n",
    "    original_index.index_add_(0, train_index, train_align)\n",
    "    original_index.index_add_(0, test_index, test_align)\n",
    "    \n",
    "    return original_index"
   ]
  },
  {
   "cell_type": "markdown",
   "id": "8d4bb29d",
   "metadata": {},
   "source": [
    "### Tests - Randomized starting point"
   ]
  },
  {
   "cell_type": "code",
   "execution_count": 29,
   "id": "cec4d3c1",
   "metadata": {
    "ExecuteTime": {
     "end_time": "2023-04-27T12:56:39.484806Z",
     "start_time": "2023-04-27T11:59:16.270850Z"
    },
    "scrolled": true
   },
   "outputs": [
    {
     "name": "stderr",
     "output_type": "stream",
     "text": [
      "Epoch: 1003:   5%|█████▍                                                                                                      | 1003/20000 [11:47<3:43:43,  1.42it/s, lowest_mse=0.0127, pred_loss=23.9, trigger=0]"
     ]
    },
    {
     "name": "stdout",
     "output_type": "stream",
     "text": [
      "The batch_size is now:  120\n"
     ]
    },
    {
     "name": "stderr",
     "output_type": "stream",
     "text": [
      "Epoch: 2005:  10%|██████████▊                                                                                                 | 2005/20000 [22:55<3:20:25,  1.50it/s, lowest_mse=0.0099, pred_loss=21.1, trigger=0]"
     ]
    },
    {
     "name": "stdout",
     "output_type": "stream",
     "text": [
      "The batch_size is now:  240\n"
     ]
    },
    {
     "name": "stderr",
     "output_type": "stream",
     "text": [
      "Epoch: 3007:  15%|████████████████                                                                                           | 3007/20000 [34:15<3:16:33,  1.44it/s, lowest_mse=0.00907, pred_loss=20.2, trigger=0]"
     ]
    },
    {
     "name": "stdout",
     "output_type": "stream",
     "text": [
      "The batch_size is now:  480\n"
     ]
    },
    {
     "name": "stderr",
     "output_type": "stream",
     "text": [
      "Epoch: 4009:  20%|█████████████████████▍                                                                                     | 4009/20000 [45:34<2:59:35,  1.48it/s, lowest_mse=0.00854, pred_loss=19.6, trigger=0]"
     ]
    },
    {
     "name": "stdout",
     "output_type": "stream",
     "text": [
      "The batch_size is now:  960\n"
     ]
    },
    {
     "name": "stderr",
     "output_type": "stream",
     "text": [
      "Epoch: 5011:  25%|██████████████████████████▊                                                                                | 5011/20000 [57:22<2:53:06,  1.44it/s, lowest_mse=0.00822, pred_loss=19.3, trigger=0]"
     ]
    },
    {
     "name": "stdout",
     "output_type": "stream",
     "text": [
      "The batch_size is now:  1920\n"
     ]
    },
    {
     "name": "stderr",
     "output_type": "stream",
     "text": [
      "Epoch: 5011:  25%|██████████████████████████▊                                                                                | 5011/20000 [57:22<2:51:38,  1.46it/s, lowest_mse=0.00822, pred_loss=19.3, trigger=0]\n"
     ]
    },
    {
     "name": "stdout",
     "output_type": "stream",
     "text": [
      "Adam Unbiased\n",
      "The train error is 19.25 for SOAP\n",
      "The test error is 21.4 for SOAP\n"
     ]
    }
   ],
   "source": [
    "aweights, loss_dos, test_loss_dos = normal_reg_train_Ad(total_soap, total_aligned_dos3,\n",
    "                                                       total_train_index, total_test_index,\n",
    "                                                       1e-2, 20000, 60, 1e-3)\n",
    "\n",
    "\n",
    "print (\"Adam Unbiased\")\n",
    "print (\"The train error is {:.4} for SOAP\".format(loss_dos))\n",
    "print (\"The test error is {:.4} for SOAP\".format(test_loss_dos))"
   ]
  },
  {
   "cell_type": "code",
   "execution_count": 30,
   "id": "e1136799",
   "metadata": {
    "ExecuteTime": {
     "end_time": "2023-04-27T12:56:39.800334Z",
     "start_time": "2023-04-27T12:56:39.488267Z"
    }
   },
   "outputs": [
    {
     "name": "stdout",
     "output_type": "stream",
     "text": [
      "The train error is 19.25 for SOAP\n",
      "The test error is 21.4 for SOAP\n"
     ]
    }
   ],
   "source": [
    "# adam_opt_weights = weights.clone()\n",
    "loss_dos, test_loss_dos, opt_shift_train, opt_shift_test = evaluate_weights(aweights, total_soap, total_aligned_dos3, total_train_index, total_test_index)\n",
    "\n",
    "print (\"The train error is {:.4} for SOAP\".format(loss_dos))\n",
    "print (\"The test error is {:.4} for SOAP\".format(test_loss_dos))"
   ]
  },
  {
   "cell_type": "code",
   "execution_count": 32,
   "id": "a17d145d",
   "metadata": {
    "ExecuteTime": {
     "end_time": "2023-04-27T14:15:00.735440Z",
     "start_time": "2023-04-27T14:15:00.732317Z"
    }
   },
   "outputs": [],
   "source": [
    "total_train_index, total_test_index = torch.tensor(total_train_index), torch.tensor(total_test_index)"
   ]
  },
  {
   "cell_type": "code",
   "execution_count": 95,
   "id": "de751c68",
   "metadata": {
    "ExecuteTime": {
     "end_time": "2023-04-29T19:16:23.686543Z",
     "start_time": "2023-04-29T19:16:23.345109Z"
    }
   },
   "outputs": [
    {
     "name": "stderr",
     "output_type": "stream",
     "text": [
      "/tmp/ipykernel_10466/3319986621.py:16: UserWarning: To copy construct from a tensor, it is recommended to use sourceTensor.clone().detach() or sourceTensor.clone().detach().requires_grad_(True), rather than torch.tensor(sourceTensor).\n",
      "  final_preds2 = shifted_ldos_discrete(final_preds, xdos, torch.tensor(opt_shift_train))\n",
      "/tmp/ipykernel_10466/3319986621.py:18: UserWarning: To copy construct from a tensor, it is recommended to use sourceTensor.clone().detach() or sourceTensor.clone().detach().requires_grad_(True), rather than torch.tensor(sourceTensor).\n",
      "  final_t_preds2 = shifted_ldos_discrete(final_t_preds, xdos, torch.tensor(opt_shift_test))\n",
      "/tmp/ipykernel_10466/2403169529.py:3: UserWarning: To copy construct from a tensor, it is recommended to use sourceTensor.clone().detach() or sourceTensor.clone().detach().requires_grad_(True), rather than torch.tensor(sourceTensor).\n",
      "  first_total_shift = reverse_index(-1 * torch.tensor(train_shift).float(), torch.tensor(-1 * test_shift).float(), total_train_index, total_test_index)\n"
     ]
    }
   ],
   "source": [
    "train_pred, test_pred, train_shift, test_shift = get_predictions(aweights, total_soap, total_aligned_dos3, total_train_index, total_test_index)\n",
    "\n",
    "first_total_shift = reverse_index(-1 * torch.tensor(train_shift).float(), torch.tensor(-1 * test_shift).float(), total_train_index, total_test_index)"
   ]
  },
  {
   "cell_type": "code",
   "execution_count": 96,
   "id": "c355e521",
   "metadata": {
    "ExecuteTime": {
     "end_time": "2023-04-29T19:16:24.707451Z",
     "start_time": "2023-04-29T19:16:24.683490Z"
    }
   },
   "outputs": [
    {
     "data": {
      "text/plain": [
       "tensor([ -5.,  -7.,  -5.,  -7.,  -7.,  -8.,  -7.,  -5.,  -5.,  -7.,  -4.,  -7.,\n",
       "         -3.,  -6.,  -8.,  -7.,  -3.,  -7.,  -6.,  -3.,  -1.,  -4.,  -8.,  -4.,\n",
       "         -4.,  -4.,  -1.,  -6.,  -5.,  -2.,  -2.,  -3.,  -4.,  -2.,  -4.,  -4.,\n",
       "         -3.,  -3.,  -3.,  -2.,  -1.,  -2.,  -1.,  -1.,  -3.,  -1.,  -2.,   0.,\n",
       "          0.,   0.,  -2.,   3.,  -1.,  -3.,  -1.,   1.,   1.,   2.,  -1.,   0.,\n",
       "          1.,  -2.,   0.,   1.,   4.,   1.,   2.,   1.,   2.,   2.,   0.,   3.,\n",
       "          2.,   1.,   3.,   0.,   0.,   1.,   5.,   4.,   4.,   3.,   0.,   2.,\n",
       "          2.,   4.,   2.,   2.,   3.,   3.,   5.,   4.,   5.,   4.,   4.,   1.,\n",
       "          9.,   3.,   5.,   5.,   3.,   3.,   3.,   6.,  -6.,  -6.,  -7.,  -7.,\n",
       "         -7.,  -6.,  -6.,  -6.,  -6.,  -7.,  -7.,  -7.,  -6.,  -6.,  -6.,  -6.,\n",
       "         -6.,  -7.,  -7.,  -7.,  -5.,  -5.,  -5.,  -5.,  -5.,  -5.,  -5.,  -5.,\n",
       "         -5.,  -5.,  -5.,  -5.,  -5.,  -5.,  -5.,  -5.,  -5.,  -5.,  -5.,  -5.,\n",
       "         -4.,  -4.,  -4.,  -4.,  -4.,  -4.,  -4.,  -4.,  -4.,  -4.,  -4.,  -4.,\n",
       "         -4.,  -4.,  -4.,  -4.,  -4.,  -4.,  -4.,  -4.,  -3.,  -3.,  -3.,  -3.,\n",
       "         -3.,  -3.,  -3.,  -3.,  -3.,  -3.,  -3.,  -3.,  -3.,  -3.,  -3.,  -3.,\n",
       "         -3.,  -3.,  -3.,  -3.,  -2.,  -2.,  -2.,  -2.,  -2.,  -2.,  -2.,  -2.,\n",
       "         -2.,  -2.,  -2.,  -2.,  -2.,  -2.,  -2.,  -2.,  -2.,  -2.,  -2.,  -2.,\n",
       "         -1.,  -1.,  -1.,  -1.,  -1.,  -1.,  -1.,  -1.,  -1.,  -1.,  -1.,  -1.,\n",
       "         -1.,  -1.,  -1.,  -1.,  -1.,  -1.,  -1.,  -1.,   0.,   0.,   0.,   0.,\n",
       "          0.,   0.,   0.,   0.,   0.,   0.,   0.,   0.,   0.,   0.,   0.,   0.,\n",
       "          0.,   0.,   0.,   0.,   1.,   1.,   1.,   1.,   1.,   1.,   1.,   1.,\n",
       "          1.,   1.,   1.,   1.,   0.,   0.,   0.,   0.,   0.,   0.,   0.,   0.,\n",
       "          2.,   2.,   2.,   2.,   2.,   2.,   2.,   2.,   2.,   1.,   1.,   1.,\n",
       "          1.,   1.,   1.,   1.,   1.,   1.,   1.,   1.,   3.,   3.,   3.,   2.,\n",
       "          2.,   1.,   1.,   0.,  -1.,  -1.,  -1.,  -1.,  -1.,   0.,   0.,   0.,\n",
       "          0.,   0.,   0.,   0.,   4.,   4.,   3.,   3.,   2.,   1.,   1.,   0.,\n",
       "          0.,   0.,  -1.,  -1.,  -1.,  -2.,  -1.,  -2.,  -1.,  -1.,  -1.,  -1.,\n",
       "        -12.,  -8., -13., -18., -13., -14.,  -6., -13., -18., -18., -17., -11.,\n",
       "         -8., -19., -15., -25., -12., -19.,  -1., -13., -13., -20., -18.,  -8.,\n",
       "        -13.,  -7.,  -9., -24., -23., -13., -17., -21., -24., -21., -24., -16.,\n",
       "        -23., -11., -23., -13., -16.,   0., -11., -21., -19., -18., -21., -25.,\n",
       "         -9., -10., -15., -11., -17., -17., -10., -22., -16., -19., -10., -15.,\n",
       "        -18., -18., -18., -18., -18., -18., -18., -18., -18., -18., -18., -18.,\n",
       "        -18., -18., -18., -18., -18., -18., -18., -18., -18., -18., -18., -18.,\n",
       "        -18., -18., -18., -18., -18., -18., -18., -18., -18., -18., -19., -19.,\n",
       "        -19., -19., -19., -19., -19., -19., -19., -19., -19., -19., -19., -19.,\n",
       "        -19., -19., -19., -19., -19., -19., -19., -19., -19., -20., -20., -20.,\n",
       "        -20., -20., -16., -15., -15., -15., -15., -15., -15., -15., -15., -15.,\n",
       "        -15., -15., -15., -15., -15., -15., -15., -15., -16., -16., -16., -16.,\n",
       "        -16., -16., -16., -16., -16., -16., -16., -16., -16., -16., -16., -16.,\n",
       "        -16., -16., -16., -16., -16., -16., -17., -17., -17., -17., -17., -17.,\n",
       "        -17., -17., -17., -17., -17., -17., -17., -17., -17., -17., -17., -17.,\n",
       "        -17., -17., -18., -18., -18., -18., -18., -18., -19., -19., -19., -19.,\n",
       "        -19., -19., -19., -19., -19., -19., -19., -19., -19., -19., -19., -19.,\n",
       "        -19., -20., -20., -19., -19., -19., -19., -20., -20., -20., -20., -20.,\n",
       "        -20., -20., -20., -20., -20., -19., -19., -20., -20., -20., -20., -20.,\n",
       "        -20., -20., -20., -20., -20., -20., -20., -20., -20., -20., -20., -20.,\n",
       "        -20., -20., -20., -20., -20., -20., -20., -20., -20., -20., -20., -20.,\n",
       "        -20., -20., -20., -20., -20., -20., -20., -20., -20., -20., -20., -20.,\n",
       "        -20., -20., -20., -20., -20., -20., -20., -20., -20., -20., -20., -20.,\n",
       "        -20., -20., -20., -20., -10.,  -9.,  -9.,  -8.,  -9.,  -9.,  -9.,  -8.,\n",
       "        -10.,  -9., -10.,  -9.,  -9.,  -9., -10., -10.,  -9.,  -8., -16., -17.,\n",
       "        -18., -17., -18., -18., -18., -18., -18., -18.,  -9., -10., -10., -10.,\n",
       "         -9.,  -9., -10., -10., -10., -10., -10., -11., -10., -10., -10., -10.,\n",
       "         -9.,  -9.,  -9.,  -9.,  -9.,  -9.,  -9.,  -9.,  -9., -19., -19., -20.,\n",
       "        -19., -19., -19., -19., -19., -19., -18., -10., -10.,  -7.,  -8.,  -8.,\n",
       "         -7., -14., -16., -12., -13., -17., -17., -17., -18., -18., -18., -18.,\n",
       "        -18., -17., -17., -18., -17., -18., -18., -18., -18., -18., -17., -17.,\n",
       "        -17., -17., -19., -17., -16., -17., -14., -17., -18., -16., -17., -18.,\n",
       "        -18., -18., -18., -19., -18., -18., -18., -18., -18., -18., -18., -18.,\n",
       "        -18., -17., -16., -18., -17., -17., -17., -17., -18., -18., -12., -10.,\n",
       "        -11., -11., -10., -12., -10., -10., -11., -11., -11., -10., -10., -11.,\n",
       "        -12., -11., -10., -11., -10., -11., -11., -11., -12., -10., -11., -11.,\n",
       "        -11., -12., -11., -11., -11., -11., -11., -11., -12., -12., -12., -11.,\n",
       "        -11., -11., -11., -11., -11., -11., -11., -10., -10., -10.,  -8.,  -9.,\n",
       "         -9., -10., -10.,  -8.,  -8.,  -8.,  -9.,  -9.,  -9.,  -9., -10.,  -9.,\n",
       "        -10.,  -9.,  -8.,  -8.,  -9.,  -9.,  -9.,  -9.,  -9.,  -9.,  -9.,  -9.,\n",
       "         -8.,  -8.,  -9.,  -9.,  -9.,  -9.,  -9.,  -9.,  -9.,  -9., -10., -10.,\n",
       "        -10., -10.,  -9., -10., -10., -10.,  -9.,  -9., -10., -10., -10.,  -9.,\n",
       "         -9.,  -9.,  -9.,  -9., -10.,  -9.,  -9.,  -9., -10., -10.,  -9.,  -9.,\n",
       "        -10., -10.,  -9.,  -9., -10.,  -9.,  -9.,  -9.,  -9.,  -9.,  -9.,  -9.,\n",
       "         -9.,  -9.,  -9.,  -9.,  -9.,  -9.,  -9.,  -9., -10.,  -9., -10., -10.,\n",
       "        -10.,  -9., -10.,  -9.,  -9.,  -9.,  -9.,  -9.,  -9.,  -9.,  -9., -10.,\n",
       "         -9.,  -9.,  -9.,  -9.,  -9.,  -9.,  -9., -10.,  -9.,  -9.,  -9.,  -9.,\n",
       "         -9.,  -9.,  -9.,  -9., -10., -10.,  -9.,  -9.,  -9., -10., -10.,  -9.,\n",
       "         -9.,  -9., -10.,  -9.,  -9.,  -9.,  -9., -10.,  -9.,  -9., -10.,  -9.,\n",
       "        -10.,  -9.,  -8.,  -9.,  -9., -10., -10., -10.,  -9.,  -9.,  -9.,  -9.,\n",
       "         -9.,  -9.,  -9.], dtype=torch.float32)"
      ]
     },
     "execution_count": 96,
     "metadata": {},
     "output_type": "execute_result"
    }
   ],
   "source": [
    "first_total_shift"
   ]
  },
  {
   "cell_type": "code",
   "execution_count": 39,
   "id": "da1b9121",
   "metadata": {
    "ExecuteTime": {
     "end_time": "2023-04-27T14:17:02.506898Z",
     "start_time": "2023-04-27T14:17:02.490055Z"
    }
   },
   "outputs": [
    {
     "data": {
      "text/plain": [
       "tensor([-0.2409, -0.1409, -0.2409, -0.1409, -0.1409, -0.0909, -0.1409, -0.2409,\n",
       "        -0.2409, -0.1409, -0.2909, -0.1409, -0.3409, -0.1909, -0.0909, -0.1409,\n",
       "        -0.3409, -0.1409, -0.1909, -0.3409, -0.4409, -0.2909, -0.0909, -0.2909,\n",
       "        -0.2909, -0.2909, -0.4409, -0.1909, -0.2409, -0.3909, -0.3909, -0.3409,\n",
       "        -0.2909, -0.3909, -0.2909, -0.2909, -0.3409, -0.3409, -0.3409, -0.3909,\n",
       "        -0.4409, -0.3909, -0.4409, -0.4409, -0.3409, -0.4409, -0.3909, -0.4909,\n",
       "        -0.4909, -0.4909, -0.3909, -0.6409, -0.4409, -0.3409, -0.4409, -0.5409,\n",
       "        -0.5409, -0.5909, -0.4409, -0.4909, -0.5409, -0.3909, -0.4909, -0.5409,\n",
       "        -0.6909, -0.5409, -0.5909, -0.5409, -0.5909, -0.5909, -0.4909, -0.6409,\n",
       "        -0.5909, -0.5409, -0.6409, -0.4909, -0.4909, -0.5409, -0.7409, -0.6909,\n",
       "        -0.6909, -0.6409, -0.4909, -0.5909, -0.5909, -0.6909, -0.5909, -0.5909,\n",
       "        -0.6409, -0.6409, -0.7409, -0.6909, -0.7409, -0.6909, -0.6909, -0.5409,\n",
       "        -0.9409, -0.6409, -0.7409, -0.7409, -0.6409, -0.6409, -0.6409, -0.7909,\n",
       "        -0.1909, -0.1909, -0.1409, -0.1409, -0.1409, -0.1909, -0.1909, -0.1909,\n",
       "        -0.1909, -0.1409, -0.1409, -0.1409, -0.1909, -0.1909, -0.1909, -0.1909,\n",
       "        -0.1909, -0.1409, -0.1409, -0.1409, -0.2409, -0.2409, -0.2409, -0.2409,\n",
       "        -0.2409, -0.2409, -0.2409, -0.2409, -0.2409, -0.2409, -0.2409, -0.2409,\n",
       "        -0.2409, -0.2409, -0.2409, -0.2409, -0.2409, -0.2409, -0.2409, -0.2409,\n",
       "        -0.2909, -0.2909, -0.2909, -0.2909, -0.2909, -0.2909, -0.2909, -0.2909,\n",
       "        -0.2909, -0.2909, -0.2909, -0.2909, -0.2909, -0.2909, -0.2909, -0.2909,\n",
       "        -0.2909, -0.2909, -0.2909, -0.2909, -0.3409, -0.3409, -0.3409, -0.3409,\n",
       "        -0.3409, -0.3409, -0.3409, -0.3409, -0.3409, -0.3409, -0.3409, -0.3409,\n",
       "        -0.3409, -0.3409, -0.3409, -0.3409, -0.3409, -0.3409, -0.3409, -0.3409,\n",
       "        -0.3909, -0.3909, -0.3909, -0.3909, -0.3909, -0.3909, -0.3909, -0.3909,\n",
       "        -0.3909, -0.3909, -0.3909, -0.3909, -0.3909, -0.3909, -0.3909, -0.3909,\n",
       "        -0.3909, -0.3909, -0.3909, -0.3909, -0.4409, -0.4409, -0.4409, -0.4409,\n",
       "        -0.4409, -0.4409, -0.4409, -0.4409, -0.4409, -0.4409, -0.4409, -0.4409,\n",
       "        -0.4409, -0.4409, -0.4409, -0.4409, -0.4409, -0.4409, -0.4409, -0.4409,\n",
       "        -0.4909, -0.4909, -0.4909, -0.4909, -0.4909, -0.4909, -0.4909, -0.4909,\n",
       "        -0.4909, -0.4909, -0.4909, -0.4909, -0.4909, -0.4909, -0.4909, -0.4909,\n",
       "        -0.4909, -0.4909, -0.4909, -0.4909, -0.5409, -0.5409, -0.5409, -0.5409,\n",
       "        -0.5409, -0.5409, -0.5409, -0.5409, -0.5409, -0.5409, -0.5409, -0.5409,\n",
       "        -0.4909, -0.4909, -0.4909, -0.4909, -0.4909, -0.4909, -0.4909, -0.4909,\n",
       "        -0.5909, -0.5909, -0.5909, -0.5909, -0.5909, -0.5909, -0.5909, -0.5909,\n",
       "        -0.5909, -0.5409, -0.5409, -0.5409, -0.5409, -0.5409, -0.5409, -0.5409,\n",
       "        -0.5409, -0.5409, -0.5409, -0.5409, -0.6409, -0.6409, -0.6409, -0.5909,\n",
       "        -0.5909, -0.5409, -0.5409, -0.4909, -0.4409, -0.4409, -0.4409, -0.4409,\n",
       "        -0.4409, -0.4909, -0.4909, -0.4909, -0.4909, -0.4909, -0.4909, -0.4909,\n",
       "        -0.6909, -0.6909, -0.6409, -0.6409, -0.5909, -0.5409, -0.5409, -0.4909,\n",
       "        -0.4909, -0.4909, -0.4409, -0.4409, -0.4409, -0.3909, -0.4409, -0.3909,\n",
       "        -0.4409, -0.4409, -0.4409, -0.4409,  0.1091, -0.0909,  0.1591,  0.4091,\n",
       "         0.1591,  0.2091, -0.1909,  0.1591,  0.4091,  0.4091,  0.3591,  0.0591,\n",
       "        -0.0909,  0.4591,  0.2591,  0.7591,  0.1091,  0.4591, -0.4409,  0.1591,\n",
       "         0.1591,  0.5091,  0.4091, -0.0909,  0.1591, -0.1409, -0.0409,  0.7091,\n",
       "         0.6591,  0.1591,  0.3591,  0.5591,  0.7091,  0.5591,  0.7091,  0.3091,\n",
       "         0.6591,  0.0591,  0.6591,  0.1591,  0.3091, -0.4909,  0.0591,  0.5591,\n",
       "         0.4591,  0.4091,  0.5591,  0.7591, -0.0409,  0.0091,  0.2591,  0.0591,\n",
       "         0.3591,  0.3591,  0.0091,  0.6091,  0.3091,  0.4591,  0.0091,  0.2591,\n",
       "         0.4091,  0.4091,  0.4091,  0.4091,  0.4091,  0.4091,  0.4091,  0.4091,\n",
       "         0.4091,  0.4091,  0.4091,  0.4091,  0.4091,  0.4091,  0.4091,  0.4091,\n",
       "         0.4091,  0.4091,  0.4091,  0.4091,  0.4091,  0.4091,  0.4091,  0.4091,\n",
       "         0.4091,  0.4091,  0.4091,  0.4091,  0.4091,  0.4091,  0.4091,  0.4091,\n",
       "         0.4091,  0.4091,  0.4591,  0.4591,  0.4591,  0.4591,  0.4591,  0.4591,\n",
       "         0.4591,  0.4591,  0.4591,  0.4591,  0.4591,  0.4591,  0.4591,  0.4591,\n",
       "         0.4591,  0.4591,  0.4591,  0.4591,  0.4591,  0.4591,  0.4591,  0.4591,\n",
       "         0.4591,  0.5091,  0.5091,  0.5091,  0.5091,  0.5091,  0.3091,  0.2591,\n",
       "         0.2591,  0.2591,  0.2591,  0.2591,  0.2591,  0.2591,  0.2591,  0.2591,\n",
       "         0.2591,  0.2591,  0.2591,  0.2591,  0.2591,  0.2591,  0.2591,  0.2591,\n",
       "         0.3091,  0.3091,  0.3091,  0.3091,  0.3091,  0.3091,  0.3091,  0.3091,\n",
       "         0.3091,  0.3091,  0.3091,  0.3091,  0.3091,  0.3091,  0.3091,  0.3091,\n",
       "         0.3091,  0.3091,  0.3091,  0.3091,  0.3091,  0.3091,  0.3591,  0.3591,\n",
       "         0.3591,  0.3591,  0.3591,  0.3591,  0.3591,  0.3591,  0.3591,  0.3591,\n",
       "         0.3591,  0.3591,  0.3591,  0.3591,  0.3591,  0.3591,  0.3591,  0.3591,\n",
       "         0.3591,  0.3591,  0.4091,  0.4091,  0.4091,  0.4091,  0.4091,  0.4091,\n",
       "         0.4591,  0.4591,  0.4591,  0.4591,  0.4591,  0.4591,  0.4591,  0.4591,\n",
       "         0.4591,  0.4591,  0.4591,  0.4591,  0.4591,  0.4591,  0.4591,  0.4591,\n",
       "         0.4591,  0.5091,  0.5091,  0.4591,  0.4591,  0.4591,  0.4591,  0.5091,\n",
       "         0.5091,  0.5091,  0.5091,  0.5091,  0.5091,  0.5091,  0.5091,  0.5091,\n",
       "         0.5091,  0.4591,  0.4591,  0.5091,  0.5091,  0.5091,  0.5091,  0.5091,\n",
       "         0.5091,  0.5091,  0.5091,  0.5091,  0.5091,  0.5091,  0.5091,  0.5091,\n",
       "         0.5091,  0.5091,  0.5091,  0.5091,  0.5091,  0.5091,  0.5091,  0.5091,\n",
       "         0.5091,  0.5091,  0.5091,  0.5091,  0.5091,  0.5091,  0.5091,  0.5091,\n",
       "         0.5091,  0.5091,  0.5091,  0.5091,  0.5091,  0.5091,  0.5091,  0.5091,\n",
       "         0.5091,  0.5091,  0.5091,  0.5091,  0.5091,  0.5091,  0.5091,  0.5091,\n",
       "         0.5091,  0.5091,  0.5091,  0.5091,  0.5091,  0.5091,  0.5091,  0.5091,\n",
       "         0.5091,  0.5091,  0.5091,  0.5091,  0.0091, -0.0409, -0.0409, -0.0909,\n",
       "        -0.0409, -0.0409, -0.0409, -0.0909,  0.0091, -0.0409,  0.0091, -0.0409,\n",
       "        -0.0409, -0.0409,  0.0091,  0.0091, -0.0409, -0.0909,  0.3091,  0.3591,\n",
       "         0.4091,  0.3591,  0.4091,  0.4091,  0.4091,  0.4091,  0.4091,  0.4091,\n",
       "        -0.0409,  0.0091,  0.0091,  0.0091, -0.0409, -0.0409,  0.0091,  0.0091,\n",
       "         0.0091,  0.0091,  0.0091,  0.0591,  0.0091,  0.0091,  0.0091,  0.0091,\n",
       "        -0.0409, -0.0409, -0.0409, -0.0409, -0.0409, -0.0409, -0.0409, -0.0409,\n",
       "        -0.0409,  0.4591,  0.4591,  0.5091,  0.4591,  0.4591,  0.4591,  0.4591,\n",
       "         0.4591,  0.4591,  0.4091,  0.0091,  0.0091, -0.1409, -0.0909, -0.0909,\n",
       "        -0.1409,  0.2091,  0.3091,  0.1091,  0.1591,  0.3591,  0.3591,  0.3591,\n",
       "         0.4091,  0.4091,  0.4091,  0.4091,  0.4091,  0.3591,  0.3591,  0.4091,\n",
       "         0.3591,  0.4091,  0.4091,  0.4091,  0.4091,  0.4091,  0.3591,  0.3591,\n",
       "         0.3591,  0.3591,  0.4591,  0.3591,  0.3091,  0.3591,  0.2091,  0.3591,\n",
       "         0.4091,  0.3091,  0.3591,  0.4091,  0.4091,  0.4091,  0.4091,  0.4591,\n",
       "         0.4091,  0.4091,  0.4091,  0.4091,  0.4091,  0.4091,  0.4091,  0.4091,\n",
       "         0.4091,  0.3591,  0.3091,  0.4091,  0.3591,  0.3591,  0.3591,  0.3591,\n",
       "         0.4091,  0.4091,  0.1091,  0.0091,  0.0591,  0.0591,  0.0091,  0.1091,\n",
       "         0.0091,  0.0091,  0.0591,  0.0591,  0.0591,  0.0091,  0.0091,  0.0591,\n",
       "         0.1091,  0.0591,  0.0091,  0.0591,  0.0091,  0.0591,  0.0591,  0.0591,\n",
       "         0.1091,  0.0091,  0.0591,  0.0591,  0.0591,  0.1091,  0.0591,  0.0591,\n",
       "         0.0591,  0.0591,  0.0591,  0.0591,  0.1091,  0.1091,  0.1091,  0.0591,\n",
       "         0.0591,  0.0591,  0.0591,  0.0591,  0.0591,  0.0591,  0.0591,  0.0091,\n",
       "         0.0091,  0.0091, -0.0909, -0.0409, -0.0409,  0.0091,  0.0091, -0.0909,\n",
       "        -0.0909, -0.0909, -0.0409, -0.0409, -0.0409, -0.0409,  0.0091, -0.0409,\n",
       "         0.0091, -0.0409, -0.0909, -0.0909, -0.0409, -0.0409, -0.0409, -0.0409,\n",
       "        -0.0409, -0.0409, -0.0409, -0.0409, -0.0909, -0.0909, -0.0409, -0.0409,\n",
       "        -0.0409, -0.0409, -0.0409, -0.0409, -0.0409, -0.0409,  0.0091,  0.0091,\n",
       "         0.0091,  0.0091, -0.0409,  0.0091,  0.0091,  0.0091, -0.0409, -0.0409,\n",
       "         0.0091,  0.0091,  0.0091, -0.0409, -0.0409, -0.0409, -0.0409, -0.0409,\n",
       "         0.0091, -0.0409, -0.0409, -0.0409,  0.0091,  0.0091, -0.0409, -0.0409,\n",
       "         0.0091,  0.0091, -0.0409, -0.0409,  0.0091, -0.0409, -0.0409, -0.0409,\n",
       "        -0.0409, -0.0409, -0.0409, -0.0409, -0.0409, -0.0409, -0.0409, -0.0409,\n",
       "        -0.0409, -0.0409, -0.0409, -0.0409,  0.0091, -0.0409,  0.0091,  0.0091,\n",
       "         0.0091, -0.0409,  0.0091, -0.0409, -0.0409, -0.0409, -0.0409, -0.0409,\n",
       "        -0.0409, -0.0409, -0.0409,  0.0091, -0.0409, -0.0409, -0.0409, -0.0409,\n",
       "        -0.0409, -0.0409, -0.0409,  0.0091, -0.0409, -0.0409, -0.0409, -0.0409,\n",
       "        -0.0409, -0.0409, -0.0409, -0.0409,  0.0091,  0.0091, -0.0409, -0.0409,\n",
       "        -0.0409,  0.0091,  0.0091, -0.0409, -0.0409, -0.0409,  0.0091, -0.0409,\n",
       "        -0.0409, -0.0409, -0.0409,  0.0091, -0.0409, -0.0409,  0.0091, -0.0409,\n",
       "         0.0091, -0.0409, -0.0909, -0.0409, -0.0409,  0.0091,  0.0091,  0.0091,\n",
       "        -0.0409, -0.0409, -0.0409, -0.0409, -0.0409, -0.0409, -0.0409],\n",
       "       dtype=torch.float32)"
      ]
     },
     "execution_count": 39,
     "metadata": {},
     "output_type": "execute_result"
    }
   ],
   "source": [
    "(first_total_shift - torch.mean(first_total_shift)) * 0.05"
   ]
  },
  {
   "cell_type": "code",
   "execution_count": 54,
   "id": "82e6a4fc",
   "metadata": {
    "ExecuteTime": {
     "end_time": "2023-04-27T15:22:23.133209Z",
     "start_time": "2023-04-27T14:27:08.052329Z"
    },
    "scrolled": true
   },
   "outputs": [
    {
     "name": "stderr",
     "output_type": "stream",
     "text": [
      "Epoch: 1003:   5%|█████▍                                                                                                      | 1003/20000 [11:16<3:33:40,  1.48it/s, lowest_mse=0.0148, pred_loss=25.9, trigger=0]"
     ]
    },
    {
     "name": "stdout",
     "output_type": "stream",
     "text": [
      "The batch_size is now:  120\n"
     ]
    },
    {
     "name": "stderr",
     "output_type": "stream",
     "text": [
      "Epoch: 2005:  10%|██████████▊                                                                                                 | 2005/20000 [22:02<3:13:21,  1.55it/s, lowest_mse=0.0113, pred_loss=22.6, trigger=0]"
     ]
    },
    {
     "name": "stdout",
     "output_type": "stream",
     "text": [
      "The batch_size is now:  240\n"
     ]
    },
    {
     "name": "stderr",
     "output_type": "stream",
     "text": [
      "Epoch: 3007:  15%|████████████████▏                                                                                           | 3007/20000 [32:28<2:56:45,  1.60it/s, lowest_mse=0.0103, pred_loss=21.6, trigger=0]"
     ]
    },
    {
     "name": "stdout",
     "output_type": "stream",
     "text": [
      "The batch_size is now:  480\n"
     ]
    },
    {
     "name": "stderr",
     "output_type": "stream",
     "text": [
      "Epoch: 4009:  20%|█████████████████████▍                                                                                     | 4009/20000 [43:38<2:58:23,  1.49it/s, lowest_mse=0.00966, pred_loss=20.9, trigger=0]"
     ]
    },
    {
     "name": "stdout",
     "output_type": "stream",
     "text": [
      "The batch_size is now:  960\n"
     ]
    },
    {
     "name": "stderr",
     "output_type": "stream",
     "text": [
      "Epoch: 5011:  25%|███████████████████████████                                                                                 | 5011/20000 [55:14<2:52:02,  1.45it/s, lowest_mse=0.0093, pred_loss=20.5, trigger=0]"
     ]
    },
    {
     "name": "stdout",
     "output_type": "stream",
     "text": [
      "The batch_size is now:  1920\n"
     ]
    },
    {
     "name": "stderr",
     "output_type": "stream",
     "text": [
      "Epoch: 5011:  25%|███████████████████████████                                                                                 | 5011/20000 [55:14<2:45:15,  1.51it/s, lowest_mse=0.0093, pred_loss=20.5, trigger=0]\n"
     ]
    },
    {
     "name": "stdout",
     "output_type": "stream",
     "text": [
      "Adam Unbiased\n",
      "The train error is 20.47 for SOAP\n",
      "The test error is 22.58 for SOAP\n"
     ]
    }
   ],
   "source": [
    "aweights2, loss_dos, test_loss_dos = normal_reg_train_Ad(total_soap, total_aligned_dos3,\n",
    "                                                       total_train_index, total_test_index,\n",
    "                                                       1e-2, 20000, 60, 1e-3)\n",
    "\n",
    "\n",
    "print (\"Adam Unbiased\")\n",
    "print (\"The train error is {:.4} for SOAP\".format(loss_dos))\n",
    "print (\"The test error is {:.4} for SOAP\".format(test_loss_dos))"
   ]
  },
  {
   "cell_type": "code",
   "execution_count": 55,
   "id": "9038532f",
   "metadata": {
    "ExecuteTime": {
     "end_time": "2023-04-27T15:22:23.444566Z",
     "start_time": "2023-04-27T15:22:23.136515Z"
    }
   },
   "outputs": [
    {
     "name": "stdout",
     "output_type": "stream",
     "text": [
      "The train error is 20.47 for SOAP\n",
      "The test error is 22.58 for SOAP\n"
     ]
    }
   ],
   "source": [
    "# adam_opt_weights = weights.clone()\n",
    "loss_dos, test_loss_dos, opt_shift_train, opt_shift_test = evaluate_weights(aweights2, total_soap, total_aligned_dos3, total_train_index, total_test_index)\n",
    "\n",
    "print (\"The train error is {:.4} for SOAP\".format(loss_dos))\n",
    "print (\"The test error is {:.4} for SOAP\".format(test_loss_dos))"
   ]
  },
  {
   "cell_type": "code",
   "execution_count": 56,
   "id": "28dcd93c",
   "metadata": {
    "ExecuteTime": {
     "end_time": "2023-04-27T15:22:23.752388Z",
     "start_time": "2023-04-27T15:22:23.446792Z"
    }
   },
   "outputs": [],
   "source": [
    "train_pred, test_pred, train_shift, test_shift = get_predictions(aweights2, total_soap, total_aligned_dos3, total_train_index, total_test_index)\n",
    "\n",
    "second_total_shift = reverse_index(torch.tensor(train_shift).float(), torch.tensor(test_shift).float(), total_train_index, total_test_index)"
   ]
  },
  {
   "cell_type": "code",
   "execution_count": 60,
   "id": "d25fc8ca",
   "metadata": {
    "ExecuteTime": {
     "end_time": "2023-04-27T15:31:23.100802Z",
     "start_time": "2023-04-27T15:31:23.071900Z"
    }
   },
   "outputs": [
    {
     "data": {
      "text/plain": [
       "tensor([122., 122., 121., 122., 123., 124., 124., 121., 121., 123., 121., 122.,\n",
       "        119., 123., 124., 124., 120., 123., 122., 120., 118., 121., 123., 121.,\n",
       "        121., 121., 119., 122., 122., 119., 119., 120., 121., 119., 121., 121.,\n",
       "        120., 120., 120., 119., 118., 119., 118., 118., 120., 117., 118., 117.,\n",
       "        117., 117., 119., 114., 118., 120., 118., 117., 116., 115., 119., 117.,\n",
       "        116., 119., 117., 116., 113., 116., 115., 116., 115., 115., 117., 114.,\n",
       "        116., 116., 114., 118., 117., 116., 112., 113., 114., 114., 117., 115.,\n",
       "        115., 113., 115., 114., 114., 114., 112., 113., 112., 113., 113., 116.,\n",
       "        108., 114., 112., 111., 113., 114., 114., 110., 123., 123., 123., 123.,\n",
       "        123., 123., 123., 123., 123., 123., 123., 123., 123., 123., 123., 123.,\n",
       "        123., 123., 123., 123., 122., 122., 122., 122., 122., 122., 122., 122.,\n",
       "        122., 122., 122., 122., 122., 122., 122., 122., 122., 122., 122., 122.,\n",
       "        121., 121., 121., 121., 121., 121., 121., 121., 121., 121., 121., 121.,\n",
       "        121., 121., 121., 121., 121., 121., 121., 121., 120., 120., 120., 120.,\n",
       "        120., 120., 120., 120., 120., 120., 120., 120., 120., 120., 120., 120.,\n",
       "        120., 120., 120., 120., 119., 119., 119., 119., 119., 119., 119., 119.,\n",
       "        119., 119., 119., 119., 119., 119., 119., 119., 119., 119., 119., 119.,\n",
       "        118., 118., 118., 118., 118., 118., 118., 118., 118., 118., 118., 118.,\n",
       "        118., 118., 118., 118., 118., 118., 118., 118., 117., 117., 117., 117.,\n",
       "        117., 117., 117., 117., 117., 117., 117., 117., 117., 117., 117., 117.,\n",
       "        117., 117., 117., 117., 116., 116., 116., 116., 116., 116., 116., 116.,\n",
       "        116., 116., 116., 117., 117., 117., 117., 117., 117., 117., 117., 117.,\n",
       "        115., 115., 115., 115., 115., 115., 115., 115., 115., 116., 116., 116.,\n",
       "        116., 116., 116., 116., 116., 116., 116., 116., 114., 114., 114., 115.,\n",
       "        115., 116., 116., 117., 117., 118., 118., 118., 117., 117., 117., 117.,\n",
       "        117., 117., 117., 116., 113., 113., 114., 114., 115., 115., 116., 116.,\n",
       "        117., 117., 117., 118., 118., 118., 118., 118., 118., 118., 118., 117.,\n",
       "         83., 108., 100.,  84., 113., 115.,  91., 109., 104., 101., 104., 110.,\n",
       "        103.,  81.,  93.,  93.,  88., 109.,  95.,  64.,  84.,  92.,  58.,  82.,\n",
       "         89.,  81.,  95.,  90.,  86., 103.,  78.,  79.,  92., 102.,  89., 104.,\n",
       "        102.,  77., 100.,  98.,  85.,  71.,  85., 101.,  95.,  89.,  95.,  84.,\n",
       "         73.,  94.,  99.,  93., 104., 100., 105., 108.,  94., 103., 108., 100.,\n",
       "        103., 103., 103., 104., 103., 103., 103., 103., 103., 103., 104., 104.,\n",
       "        104., 104., 102., 102., 102., 102., 102., 102., 102., 103., 103., 103.,\n",
       "        103., 103., 102., 103., 103., 103., 103., 103., 103., 103., 102., 102.,\n",
       "        102., 102., 102., 102., 102., 102., 102., 102., 102., 102., 102., 102.,\n",
       "        102., 102., 102., 102., 102., 102., 101., 101., 101., 101., 101., 100.,\n",
       "        100., 100., 105., 105., 105., 105., 105., 105., 105., 105., 104., 104.,\n",
       "        104., 105., 105., 105., 105., 105., 105., 105., 105., 105., 105., 105.,\n",
       "        105., 105., 105., 105., 105., 104., 105., 104., 105., 105., 105., 105.,\n",
       "        105., 105., 105., 105., 105., 105., 105., 104., 104., 104., 104., 104.,\n",
       "        104., 104., 104., 104., 104., 104., 105., 104., 104., 104., 104., 104.,\n",
       "        104., 104., 104., 103., 104., 104., 104., 104., 101., 101., 101., 101.,\n",
       "        101., 101., 101., 101., 101., 101., 101., 101., 101., 101., 101., 101.,\n",
       "        101., 101., 101., 101., 101., 101., 101., 101., 101., 101., 101., 101.,\n",
       "        101., 101., 101., 101., 101., 101., 101., 100., 100., 100., 100., 100.,\n",
       "        101., 100., 100., 100., 100., 101., 100., 100., 101., 101., 101., 101.,\n",
       "        101., 101., 101., 100., 100., 100., 100., 100., 100., 100., 100., 100.,\n",
       "        100., 100., 100., 100., 100., 100., 100., 100., 100., 100., 100., 100.,\n",
       "        100., 100., 100., 100., 100., 100., 100., 100., 100., 100., 100., 100.,\n",
       "        100., 100., 100., 100., 120., 119., 118., 118., 118., 118., 117., 117.,\n",
       "        119., 119., 119., 118., 118., 118., 119., 119., 117., 117., 118., 119.,\n",
       "        120., 120., 121., 121., 121., 120., 121., 121., 121., 121., 121., 121.,\n",
       "        121., 121., 121., 121., 121., 121., 118., 118., 118., 118., 118., 118.,\n",
       "        118., 118., 118., 117., 121., 121., 121., 121., 121., 121., 121., 122.,\n",
       "        121., 120., 121., 120., 121., 121., 119., 118., 118., 116., 117., 117.,\n",
       "        116., 127., 130., 126., 127., 130., 129., 130., 130., 130., 131., 130.,\n",
       "        130., 130., 130., 130., 130., 131., 130., 130., 131., 130., 129., 129.,\n",
       "        129., 129., 131., 129., 128., 129., 127., 129., 132., 130., 131., 131.,\n",
       "        131., 132., 131., 132., 131., 131., 131., 131., 131., 131., 130., 130.,\n",
       "        130., 129., 128., 129., 129., 129., 129., 129., 130., 130., 124., 122.,\n",
       "        123., 123., 122., 124., 122., 122., 123., 122., 123., 122., 122., 123.,\n",
       "        123., 123., 122., 122., 122., 123., 123., 123., 124., 122., 123., 123.,\n",
       "        123., 124., 123., 123., 124., 124., 124., 124., 124., 124., 124., 124.,\n",
       "        124., 123., 123., 123., 123., 123., 123., 123., 123., 122., 120., 121.,\n",
       "        122., 122., 122., 120., 121., 120., 121., 121., 121., 121., 122., 121.,\n",
       "        122., 121., 120., 120., 121., 121., 121., 121., 121., 121., 121., 121.,\n",
       "        120., 120., 120., 121., 121., 121., 121., 121., 121., 121., 121., 121.,\n",
       "        121., 122., 121., 121., 121., 121., 121., 121., 121., 122., 122., 121.,\n",
       "        121., 120., 120., 121., 121., 120., 120., 121., 121., 121., 120., 121.,\n",
       "        121., 121., 121., 121., 121., 121., 121., 121., 121., 121., 120., 120.,\n",
       "        121., 120., 121., 120., 121., 120., 121., 121., 121., 121., 121., 121.,\n",
       "        121., 121., 121., 121., 120., 120., 120., 121., 120., 121., 121., 121.,\n",
       "        120., 120., 121., 121., 121., 120., 120., 121., 120., 121., 120., 121.,\n",
       "        121., 121., 120., 121., 121., 121., 121., 120., 121., 121., 121., 121.,\n",
       "        121., 121., 121., 120., 121., 121., 121., 121., 120., 121., 121., 121.,\n",
       "        121., 120., 120., 121., 121., 121., 122., 121., 121., 121., 121., 121.,\n",
       "        121., 121., 121.], dtype=torch.float32)"
      ]
     },
     "execution_count": 60,
     "metadata": {},
     "output_type": "execute_result"
    }
   ],
   "source": [
    "second_total_shift"
   ]
  },
  {
   "cell_type": "code",
   "execution_count": 57,
   "id": "b952f70c",
   "metadata": {
    "ExecuteTime": {
     "end_time": "2023-04-27T15:22:23.769817Z",
     "start_time": "2023-04-27T15:22:23.754948Z"
    }
   },
   "outputs": [
    {
     "data": {
      "text/plain": [
       "tensor([ 0.3843,  0.3843,  0.3343,  0.3843,  0.4343,  0.4843,  0.4843,  0.3343,\n",
       "         0.3343,  0.4343,  0.3343,  0.3843,  0.2343,  0.4343,  0.4843,  0.4843,\n",
       "         0.2843,  0.4343,  0.3843,  0.2843,  0.1843,  0.3343,  0.4343,  0.3343,\n",
       "         0.3343,  0.3343,  0.2343,  0.3843,  0.3843,  0.2343,  0.2343,  0.2843,\n",
       "         0.3343,  0.2343,  0.3343,  0.3343,  0.2843,  0.2843,  0.2843,  0.2343,\n",
       "         0.1843,  0.2343,  0.1843,  0.1843,  0.2843,  0.1343,  0.1843,  0.1343,\n",
       "         0.1343,  0.1343,  0.2343, -0.0157,  0.1843,  0.2843,  0.1843,  0.1343,\n",
       "         0.0843,  0.0343,  0.2343,  0.1343,  0.0843,  0.2343,  0.1343,  0.0843,\n",
       "        -0.0657,  0.0843,  0.0343,  0.0843,  0.0343,  0.0343,  0.1343, -0.0157,\n",
       "         0.0843,  0.0843, -0.0157,  0.1843,  0.1343,  0.0843, -0.1157, -0.0657,\n",
       "        -0.0157, -0.0157,  0.1343,  0.0343,  0.0343, -0.0657,  0.0343, -0.0157,\n",
       "        -0.0157, -0.0157, -0.1157, -0.0657, -0.1157, -0.0657, -0.0657,  0.0843,\n",
       "        -0.3157, -0.0157, -0.1157, -0.1657, -0.0657, -0.0157, -0.0157, -0.2157,\n",
       "         0.4343,  0.4343,  0.4343,  0.4343,  0.4343,  0.4343,  0.4343,  0.4343,\n",
       "         0.4343,  0.4343,  0.4343,  0.4343,  0.4343,  0.4343,  0.4343,  0.4343,\n",
       "         0.4343,  0.4343,  0.4343,  0.4343,  0.3843,  0.3843,  0.3843,  0.3843,\n",
       "         0.3843,  0.3843,  0.3843,  0.3843,  0.3843,  0.3843,  0.3843,  0.3843,\n",
       "         0.3843,  0.3843,  0.3843,  0.3843,  0.3843,  0.3843,  0.3843,  0.3843,\n",
       "         0.3343,  0.3343,  0.3343,  0.3343,  0.3343,  0.3343,  0.3343,  0.3343,\n",
       "         0.3343,  0.3343,  0.3343,  0.3343,  0.3343,  0.3343,  0.3343,  0.3343,\n",
       "         0.3343,  0.3343,  0.3343,  0.3343,  0.2843,  0.2843,  0.2843,  0.2843,\n",
       "         0.2843,  0.2843,  0.2843,  0.2843,  0.2843,  0.2843,  0.2843,  0.2843,\n",
       "         0.2843,  0.2843,  0.2843,  0.2843,  0.2843,  0.2843,  0.2843,  0.2843,\n",
       "         0.2343,  0.2343,  0.2343,  0.2343,  0.2343,  0.2343,  0.2343,  0.2343,\n",
       "         0.2343,  0.2343,  0.2343,  0.2343,  0.2343,  0.2343,  0.2343,  0.2343,\n",
       "         0.2343,  0.2343,  0.2343,  0.2343,  0.1843,  0.1843,  0.1843,  0.1843,\n",
       "         0.1843,  0.1843,  0.1843,  0.1843,  0.1843,  0.1843,  0.1843,  0.1843,\n",
       "         0.1843,  0.1843,  0.1843,  0.1843,  0.1843,  0.1843,  0.1843,  0.1843,\n",
       "         0.1343,  0.1343,  0.1343,  0.1343,  0.1343,  0.1343,  0.1343,  0.1343,\n",
       "         0.1343,  0.1343,  0.1343,  0.1343,  0.1343,  0.1343,  0.1343,  0.1343,\n",
       "         0.1343,  0.1343,  0.1343,  0.1343,  0.0843,  0.0843,  0.0843,  0.0843,\n",
       "         0.0843,  0.0843,  0.0843,  0.0843,  0.0843,  0.0843,  0.0843,  0.1343,\n",
       "         0.1343,  0.1343,  0.1343,  0.1343,  0.1343,  0.1343,  0.1343,  0.1343,\n",
       "         0.0343,  0.0343,  0.0343,  0.0343,  0.0343,  0.0343,  0.0343,  0.0343,\n",
       "         0.0343,  0.0843,  0.0843,  0.0843,  0.0843,  0.0843,  0.0843,  0.0843,\n",
       "         0.0843,  0.0843,  0.0843,  0.0843, -0.0157, -0.0157, -0.0157,  0.0343,\n",
       "         0.0343,  0.0843,  0.0843,  0.1343,  0.1343,  0.1843,  0.1843,  0.1843,\n",
       "         0.1343,  0.1343,  0.1343,  0.1343,  0.1343,  0.1343,  0.1343,  0.0843,\n",
       "        -0.0657, -0.0657, -0.0157, -0.0157,  0.0343,  0.0343,  0.0843,  0.0843,\n",
       "         0.1343,  0.1343,  0.1343,  0.1843,  0.1843,  0.1843,  0.1843,  0.1843,\n",
       "         0.1843,  0.1843,  0.1843,  0.1343, -1.5657, -0.3157, -0.7157, -1.5157,\n",
       "        -0.0657,  0.0343, -1.1657, -0.2657, -0.5157, -0.6657, -0.5157, -0.2157,\n",
       "        -0.5657, -1.6657, -1.0657, -1.0657, -1.3157, -0.2657, -0.9657, -2.5157,\n",
       "        -1.5157, -1.1157, -2.8157, -1.6157, -1.2657, -1.6657, -0.9657, -1.2157,\n",
       "        -1.4157, -0.5657, -1.8157, -1.7657, -1.1157, -0.6157, -1.2657, -0.5157,\n",
       "        -0.6157, -1.8657, -0.7157, -0.8157, -1.4657, -2.1657, -1.4657, -0.6657,\n",
       "        -0.9657, -1.2657, -0.9657, -1.5157, -2.0657, -1.0157, -0.7657, -1.0657,\n",
       "        -0.5157, -0.7157, -0.4657, -0.3157, -1.0157, -0.5657, -0.3157, -0.7157,\n",
       "        -0.5657, -0.5657, -0.5657, -0.5157, -0.5657, -0.5657, -0.5657, -0.5657,\n",
       "        -0.5657, -0.5657, -0.5157, -0.5157, -0.5157, -0.5157, -0.6157, -0.6157,\n",
       "        -0.6157, -0.6157, -0.6157, -0.6157, -0.6157, -0.5657, -0.5657, -0.5657,\n",
       "        -0.5657, -0.5657, -0.6157, -0.5657, -0.5657, -0.5657, -0.5657, -0.5657,\n",
       "        -0.5657, -0.5657, -0.6157, -0.6157, -0.6157, -0.6157, -0.6157, -0.6157,\n",
       "        -0.6157, -0.6157, -0.6157, -0.6157, -0.6157, -0.6157, -0.6157, -0.6157,\n",
       "        -0.6157, -0.6157, -0.6157, -0.6157, -0.6157, -0.6157, -0.6657, -0.6657,\n",
       "        -0.6657, -0.6657, -0.6657, -0.7157, -0.7157, -0.7157, -0.4657, -0.4657,\n",
       "        -0.4657, -0.4657, -0.4657, -0.4657, -0.4657, -0.4657, -0.5157, -0.5157,\n",
       "        -0.5157, -0.4657, -0.4657, -0.4657, -0.4657, -0.4657, -0.4657, -0.4657,\n",
       "        -0.4657, -0.4657, -0.4657, -0.4657, -0.4657, -0.4657, -0.4657, -0.4657,\n",
       "        -0.4657, -0.5157, -0.4657, -0.5157, -0.4657, -0.4657, -0.4657, -0.4657,\n",
       "        -0.4657, -0.4657, -0.4657, -0.4657, -0.4657, -0.4657, -0.4657, -0.5157,\n",
       "        -0.5157, -0.5157, -0.5157, -0.5157, -0.5157, -0.5157, -0.5157, -0.5157,\n",
       "        -0.5157, -0.5157, -0.4657, -0.5157, -0.5157, -0.5157, -0.5157, -0.5157,\n",
       "        -0.5157, -0.5157, -0.5157, -0.5657, -0.5157, -0.5157, -0.5157, -0.5157,\n",
       "        -0.6657, -0.6657, -0.6657, -0.6657, -0.6657, -0.6657, -0.6657, -0.6657,\n",
       "        -0.6657, -0.6657, -0.6657, -0.6657, -0.6657, -0.6657, -0.6657, -0.6657,\n",
       "        -0.6657, -0.6657, -0.6657, -0.6657, -0.6657, -0.6657, -0.6657, -0.6657,\n",
       "        -0.6657, -0.6657, -0.6657, -0.6657, -0.6657, -0.6657, -0.6657, -0.6657,\n",
       "        -0.6657, -0.6657, -0.6657, -0.7157, -0.7157, -0.7157, -0.7157, -0.7157,\n",
       "        -0.6657, -0.7157, -0.7157, -0.7157, -0.7157, -0.6657, -0.7157, -0.7157,\n",
       "        -0.6657, -0.6657, -0.6657, -0.6657, -0.6657, -0.6657, -0.6657, -0.7157,\n",
       "        -0.7157, -0.7157, -0.7157, -0.7157, -0.7157, -0.7157, -0.7157, -0.7157,\n",
       "        -0.7157, -0.7157, -0.7157, -0.7157, -0.7157, -0.7157, -0.7157, -0.7157,\n",
       "        -0.7157, -0.7157, -0.7157, -0.7157, -0.7157, -0.7157, -0.7157, -0.7157,\n",
       "        -0.7157, -0.7157, -0.7157, -0.7157, -0.7157, -0.7157, -0.7157, -0.7157,\n",
       "        -0.7157, -0.7157, -0.7157, -0.7157,  0.2843,  0.2343,  0.1843,  0.1843,\n",
       "         0.1843,  0.1843,  0.1343,  0.1343,  0.2343,  0.2343,  0.2343,  0.1843,\n",
       "         0.1843,  0.1843,  0.2343,  0.2343,  0.1343,  0.1343,  0.1843,  0.2343,\n",
       "         0.2843,  0.2843,  0.3343,  0.3343,  0.3343,  0.2843,  0.3343,  0.3343,\n",
       "         0.3343,  0.3343,  0.3343,  0.3343,  0.3343,  0.3343,  0.3343,  0.3343,\n",
       "         0.3343,  0.3343,  0.1843,  0.1843,  0.1843,  0.1843,  0.1843,  0.1843,\n",
       "         0.1843,  0.1843,  0.1843,  0.1343,  0.3343,  0.3343,  0.3343,  0.3343,\n",
       "         0.3343,  0.3343,  0.3343,  0.3843,  0.3343,  0.2843,  0.3343,  0.2843,\n",
       "         0.3343,  0.3343,  0.2343,  0.1843,  0.1843,  0.0843,  0.1343,  0.1343,\n",
       "         0.0843,  0.6343,  0.7843,  0.5843,  0.6343,  0.7843,  0.7343,  0.7843,\n",
       "         0.7843,  0.7843,  0.8343,  0.7843,  0.7843,  0.7843,  0.7843,  0.7843,\n",
       "         0.7843,  0.8343,  0.7843,  0.7843,  0.8343,  0.7843,  0.7343,  0.7343,\n",
       "         0.7343,  0.7343,  0.8343,  0.7343,  0.6843,  0.7343,  0.6343,  0.7343,\n",
       "         0.8843,  0.7843,  0.8343,  0.8343,  0.8343,  0.8843,  0.8343,  0.8843,\n",
       "         0.8343,  0.8343,  0.8343,  0.8343,  0.8343,  0.8343,  0.7843,  0.7843,\n",
       "         0.7843,  0.7343,  0.6843,  0.7343,  0.7343,  0.7343,  0.7343,  0.7343,\n",
       "         0.7843,  0.7843,  0.4843,  0.3843,  0.4343,  0.4343,  0.3843,  0.4843,\n",
       "         0.3843,  0.3843,  0.4343,  0.3843,  0.4343,  0.3843,  0.3843,  0.4343,\n",
       "         0.4343,  0.4343,  0.3843,  0.3843,  0.3843,  0.4343,  0.4343,  0.4343,\n",
       "         0.4843,  0.3843,  0.4343,  0.4343,  0.4343,  0.4843,  0.4343,  0.4343,\n",
       "         0.4843,  0.4843,  0.4843,  0.4843,  0.4843,  0.4843,  0.4843,  0.4843,\n",
       "         0.4843,  0.4343,  0.4343,  0.4343,  0.4343,  0.4343,  0.4343,  0.4343,\n",
       "         0.4343,  0.3843,  0.2843,  0.3343,  0.3843,  0.3843,  0.3843,  0.2843,\n",
       "         0.3343,  0.2843,  0.3343,  0.3343,  0.3343,  0.3343,  0.3843,  0.3343,\n",
       "         0.3843,  0.3343,  0.2843,  0.2843,  0.3343,  0.3343,  0.3343,  0.3343,\n",
       "         0.3343,  0.3343,  0.3343,  0.3343,  0.2843,  0.2843,  0.2843,  0.3343,\n",
       "         0.3343,  0.3343,  0.3343,  0.3343,  0.3343,  0.3343,  0.3343,  0.3343,\n",
       "         0.3343,  0.3843,  0.3343,  0.3343,  0.3343,  0.3343,  0.3343,  0.3343,\n",
       "         0.3343,  0.3843,  0.3843,  0.3343,  0.3343,  0.2843,  0.2843,  0.3343,\n",
       "         0.3343,  0.2843,  0.2843,  0.3343,  0.3343,  0.3343,  0.2843,  0.3343,\n",
       "         0.3343,  0.3343,  0.3343,  0.3343,  0.3343,  0.3343,  0.3343,  0.3343,\n",
       "         0.3343,  0.3343,  0.2843,  0.2843,  0.3343,  0.2843,  0.3343,  0.2843,\n",
       "         0.3343,  0.2843,  0.3343,  0.3343,  0.3343,  0.3343,  0.3343,  0.3343,\n",
       "         0.3343,  0.3343,  0.3343,  0.3343,  0.2843,  0.2843,  0.2843,  0.3343,\n",
       "         0.2843,  0.3343,  0.3343,  0.3343,  0.2843,  0.2843,  0.3343,  0.3343,\n",
       "         0.3343,  0.2843,  0.2843,  0.3343,  0.2843,  0.3343,  0.2843,  0.3343,\n",
       "         0.3343,  0.3343,  0.2843,  0.3343,  0.3343,  0.3343,  0.3343,  0.2843,\n",
       "         0.3343,  0.3343,  0.3343,  0.3343,  0.3343,  0.3343,  0.3343,  0.2843,\n",
       "         0.3343,  0.3343,  0.3343,  0.3343,  0.2843,  0.3343,  0.3343,  0.3343,\n",
       "         0.3343,  0.2843,  0.2843,  0.3343,  0.3343,  0.3343,  0.3843,  0.3343,\n",
       "         0.3343,  0.3343,  0.3343,  0.3343,  0.3343,  0.3343,  0.3343],\n",
       "       dtype=torch.float32)"
      ]
     },
     "execution_count": 57,
     "metadata": {},
     "output_type": "execute_result"
    }
   ],
   "source": [
    "(second_total_shift - torch.mean(second_total_shift)) * 0.05"
   ]
  },
  {
   "cell_type": "code",
   "execution_count": 58,
   "id": "5019e47f",
   "metadata": {
    "ExecuteTime": {
     "end_time": "2023-04-27T15:30:20.523422Z",
     "start_time": "2023-04-27T15:22:23.771528Z"
    },
    "scrolled": true
   },
   "outputs": [
    {
     "name": "stderr",
     "output_type": "stream",
     "text": [
      "Epoch: 676:   3%|███▋                                                                                                          | 676/20000 [07:56<3:47:04,  1.42it/s, lowest_mse=0.0165, pred_loss=27.3, trigger=0]\n"
     ]
    },
    {
     "ename": "KeyboardInterrupt",
     "evalue": "",
     "output_type": "error",
     "traceback": [
      "\u001b[0;31m---------------------------------------------------------------------------\u001b[0m",
      "\u001b[0;31mKeyboardInterrupt\u001b[0m                         Traceback (most recent call last)",
      "Input \u001b[0;32mIn [58]\u001b[0m, in \u001b[0;36m<cell line: 1>\u001b[0;34m()\u001b[0m\n\u001b[0;32m----> 1\u001b[0m aweights3, loss_dos, test_loss_dos \u001b[38;5;241m=\u001b[39m \u001b[43mnormal_reg_train_Ad\u001b[49m\u001b[43m(\u001b[49m\u001b[43mtotal_soap\u001b[49m\u001b[43m,\u001b[49m\u001b[43m \u001b[49m\u001b[43mtotal_aligned_dos3\u001b[49m\u001b[43m,\u001b[49m\n\u001b[1;32m      2\u001b[0m \u001b[43m                                                       \u001b[49m\u001b[43mtotal_train_index\u001b[49m\u001b[43m,\u001b[49m\u001b[43m \u001b[49m\u001b[43mtotal_test_index\u001b[49m\u001b[43m,\u001b[49m\n\u001b[1;32m      3\u001b[0m \u001b[43m                                                       \u001b[49m\u001b[38;5;241;43m1e-2\u001b[39;49m\u001b[43m,\u001b[49m\u001b[43m \u001b[49m\u001b[38;5;241;43m20000\u001b[39;49m\u001b[43m,\u001b[49m\u001b[43m \u001b[49m\u001b[38;5;241;43m60\u001b[39;49m\u001b[43m,\u001b[49m\u001b[43m \u001b[49m\u001b[38;5;241;43m1e-3\u001b[39;49m\u001b[43m)\u001b[49m\n\u001b[1;32m      6\u001b[0m \u001b[38;5;28mprint\u001b[39m (\u001b[38;5;124m\"\u001b[39m\u001b[38;5;124mAdam Unbiased\u001b[39m\u001b[38;5;124m\"\u001b[39m)\n\u001b[1;32m      7\u001b[0m \u001b[38;5;28mprint\u001b[39m (\u001b[38;5;124m\"\u001b[39m\u001b[38;5;124mThe train error is \u001b[39m\u001b[38;5;132;01m{:.4}\u001b[39;00m\u001b[38;5;124m for SOAP\u001b[39m\u001b[38;5;124m\"\u001b[39m\u001b[38;5;241m.\u001b[39mformat(loss_dos))\n",
      "Input \u001b[0;32mIn [20]\u001b[0m, in \u001b[0;36mnormal_reg_train_Ad\u001b[0;34m(feat, target, train_index, test_index, regularization, n_epochs, batch_size, lr)\u001b[0m\n\u001b[1;32m    134\u001b[0m         loss_i\u001b[38;5;241m.\u001b[39mbackward()\n\u001b[1;32m    135\u001b[0m         \u001b[38;5;28;01mreturn\u001b[39;00m loss_i\n\u001b[0;32m--> 136\u001b[0m     \u001b[43mopt\u001b[49m\u001b[38;5;241;43m.\u001b[39;49m\u001b[43mstep\u001b[49m\u001b[43m(\u001b[49m\u001b[43mclosure\u001b[49m\u001b[43m)\u001b[49m\n\u001b[1;32m    138\u001b[0m \u001b[38;5;28;01mwith\u001b[39;00m torch\u001b[38;5;241m.\u001b[39mno_grad():\n\u001b[1;32m    139\u001b[0m     preds \u001b[38;5;241m=\u001b[39m Features \u001b[38;5;241m@\u001b[39m weights\n",
      "File \u001b[0;32m~/anaconda3/lib/python3.9/site-packages/torch/optim/optimizer.py:140\u001b[0m, in \u001b[0;36mOptimizer._hook_for_profile.<locals>.profile_hook_step.<locals>.wrapper\u001b[0;34m(*args, **kwargs)\u001b[0m\n\u001b[1;32m    138\u001b[0m profile_name \u001b[38;5;241m=\u001b[39m \u001b[38;5;124m\"\u001b[39m\u001b[38;5;124mOptimizer.step#\u001b[39m\u001b[38;5;132;01m{}\u001b[39;00m\u001b[38;5;124m.step\u001b[39m\u001b[38;5;124m\"\u001b[39m\u001b[38;5;241m.\u001b[39mformat(obj\u001b[38;5;241m.\u001b[39m\u001b[38;5;18m__class__\u001b[39m\u001b[38;5;241m.\u001b[39m\u001b[38;5;18m__name__\u001b[39m)\n\u001b[1;32m    139\u001b[0m \u001b[38;5;28;01mwith\u001b[39;00m torch\u001b[38;5;241m.\u001b[39mautograd\u001b[38;5;241m.\u001b[39mprofiler\u001b[38;5;241m.\u001b[39mrecord_function(profile_name):\n\u001b[0;32m--> 140\u001b[0m     out \u001b[38;5;241m=\u001b[39m \u001b[43mfunc\u001b[49m\u001b[43m(\u001b[49m\u001b[38;5;241;43m*\u001b[39;49m\u001b[43margs\u001b[49m\u001b[43m,\u001b[49m\u001b[43m \u001b[49m\u001b[38;5;241;43m*\u001b[39;49m\u001b[38;5;241;43m*\u001b[39;49m\u001b[43mkwargs\u001b[49m\u001b[43m)\u001b[49m\n\u001b[1;32m    141\u001b[0m     obj\u001b[38;5;241m.\u001b[39m_optimizer_step_code()\n\u001b[1;32m    142\u001b[0m     \u001b[38;5;28;01mreturn\u001b[39;00m out\n",
      "File \u001b[0;32m~/anaconda3/lib/python3.9/site-packages/torch/optim/optimizer.py:23\u001b[0m, in \u001b[0;36m_use_grad_for_differentiable.<locals>._use_grad\u001b[0;34m(self, *args, **kwargs)\u001b[0m\n\u001b[1;32m     21\u001b[0m \u001b[38;5;28;01mtry\u001b[39;00m:\n\u001b[1;32m     22\u001b[0m     torch\u001b[38;5;241m.\u001b[39mset_grad_enabled(\u001b[38;5;28mself\u001b[39m\u001b[38;5;241m.\u001b[39mdefaults[\u001b[38;5;124m'\u001b[39m\u001b[38;5;124mdifferentiable\u001b[39m\u001b[38;5;124m'\u001b[39m])\n\u001b[0;32m---> 23\u001b[0m     ret \u001b[38;5;241m=\u001b[39m \u001b[43mfunc\u001b[49m\u001b[43m(\u001b[49m\u001b[38;5;28;43mself\u001b[39;49m\u001b[43m,\u001b[49m\u001b[43m \u001b[49m\u001b[38;5;241;43m*\u001b[39;49m\u001b[43margs\u001b[49m\u001b[43m,\u001b[49m\u001b[43m \u001b[49m\u001b[38;5;241;43m*\u001b[39;49m\u001b[38;5;241;43m*\u001b[39;49m\u001b[43mkwargs\u001b[49m\u001b[43m)\u001b[49m\n\u001b[1;32m     24\u001b[0m \u001b[38;5;28;01mfinally\u001b[39;00m:\n\u001b[1;32m     25\u001b[0m     torch\u001b[38;5;241m.\u001b[39mset_grad_enabled(prev_grad)\n",
      "File \u001b[0;32m~/anaconda3/lib/python3.9/site-packages/torch/optim/adam.py:183\u001b[0m, in \u001b[0;36mAdam.step\u001b[0;34m(self, closure, grad_scaler)\u001b[0m\n\u001b[1;32m    181\u001b[0m \u001b[38;5;28;01mif\u001b[39;00m closure \u001b[38;5;129;01mis\u001b[39;00m \u001b[38;5;129;01mnot\u001b[39;00m \u001b[38;5;28;01mNone\u001b[39;00m:\n\u001b[1;32m    182\u001b[0m     \u001b[38;5;28;01mwith\u001b[39;00m torch\u001b[38;5;241m.\u001b[39menable_grad():\n\u001b[0;32m--> 183\u001b[0m         loss \u001b[38;5;241m=\u001b[39m \u001b[43mclosure\u001b[49m\u001b[43m(\u001b[49m\u001b[43m)\u001b[49m\n\u001b[1;32m    185\u001b[0m \u001b[38;5;28;01mfor\u001b[39;00m group \u001b[38;5;129;01min\u001b[39;00m \u001b[38;5;28mself\u001b[39m\u001b[38;5;241m.\u001b[39mparam_groups:\n\u001b[1;32m    186\u001b[0m     params_with_grad \u001b[38;5;241m=\u001b[39m []\n",
      "Input \u001b[0;32mIn [20]\u001b[0m, in \u001b[0;36mnormal_reg_train_Ad.<locals>.closure\u001b[0;34m()\u001b[0m\n\u001b[1;32m    129\u001b[0m target_i \u001b[38;5;241m=\u001b[39m torch\u001b[38;5;241m.\u001b[39mvstack([Target[i_batch], torch\u001b[38;5;241m.\u001b[39mzeros(n_col, Target\u001b[38;5;241m.\u001b[39mshape[\u001b[38;5;241m1\u001b[39m])])\n\u001b[1;32m    130\u001b[0m pred_i \u001b[38;5;241m=\u001b[39m reg_features_i \u001b[38;5;241m@\u001b[39m weights\n\u001b[0;32m--> 131\u001b[0m opt_shift \u001b[38;5;241m=\u001b[39m \u001b[43mfind_optimal_discrete_shift\u001b[49m\u001b[43m(\u001b[49m\u001b[43mnp\u001b[49m\u001b[38;5;241;43m.\u001b[39;49m\u001b[43marray\u001b[49m\u001b[43m(\u001b[49m\u001b[43mpred_i\u001b[49m\u001b[43m[\u001b[49m\u001b[43m:\u001b[49m\u001b[38;5;28;43mlen\u001b[39;49m\u001b[43m(\u001b[49m\u001b[43mi_batch\u001b[49m\u001b[43m)\u001b[49m\u001b[43m]\u001b[49m\u001b[38;5;241;43m.\u001b[39;49m\u001b[43mdetach\u001b[49m\u001b[43m(\u001b[49m\u001b[43m)\u001b[49m\u001b[43m)\u001b[49m\u001b[43m,\u001b[49m\u001b[43mnp\u001b[49m\u001b[38;5;241;43m.\u001b[39;49m\u001b[43marray\u001b[49m\u001b[43m(\u001b[49m\u001b[43mtarget_i\u001b[49m\u001b[43m[\u001b[49m\u001b[43m:\u001b[49m\u001b[38;5;28;43mlen\u001b[39;49m\u001b[43m(\u001b[49m\u001b[43mi_batch\u001b[49m\u001b[43m)\u001b[49m\u001b[43m]\u001b[49m\u001b[38;5;241;43m.\u001b[39;49m\u001b[43mdetach\u001b[49m\u001b[43m(\u001b[49m\u001b[43m)\u001b[49m\u001b[43m)\u001b[49m\u001b[43m)\u001b[49m\n\u001b[1;32m    132\u001b[0m pred_i[:\u001b[38;5;28mlen\u001b[39m(i_batch)] \u001b[38;5;241m=\u001b[39m shifted_ldos_discrete(pred_i[:\u001b[38;5;28mlen\u001b[39m(i_batch)], xdos, torch\u001b[38;5;241m.\u001b[39mtensor(opt_shift))\n\u001b[1;32m    133\u001b[0m loss_i \u001b[38;5;241m=\u001b[39m loss\u001b[38;5;241m.\u001b[39mt_get_mse(pred_i, target_i)\n",
      "Input \u001b[0;32mIn [4]\u001b[0m, in \u001b[0;36mfind_optimal_discrete_shift\u001b[0;34m(prediction, true)\u001b[0m\n\u001b[1;32m      4\u001b[0m shift \u001b[38;5;241m=\u001b[39m []\n\u001b[1;32m      5\u001b[0m \u001b[38;5;28;01mfor\u001b[39;00m i \u001b[38;5;129;01min\u001b[39;00m \u001b[38;5;28mrange\u001b[39m(true\u001b[38;5;241m.\u001b[39mshape[\u001b[38;5;241m0\u001b[39m]):\n\u001b[0;32m----> 6\u001b[0m     corr \u001b[38;5;241m=\u001b[39m \u001b[43mcorrelate\u001b[49m\u001b[43m(\u001b[49m\u001b[43mtrue\u001b[49m\u001b[43m[\u001b[49m\u001b[43mi\u001b[49m\u001b[43m]\u001b[49m\u001b[43m,\u001b[49m\u001b[43m \u001b[49m\u001b[43mprediction\u001b[49m\u001b[43m[\u001b[49m\u001b[43mi\u001b[49m\u001b[43m]\u001b[49m\u001b[43m,\u001b[49m\u001b[43m \u001b[49m\u001b[43mmode\u001b[49m\u001b[38;5;241;43m=\u001b[39;49m\u001b[38;5;124;43m'\u001b[39;49m\u001b[38;5;124;43mfull\u001b[39;49m\u001b[38;5;124;43m'\u001b[39;49m\u001b[43m)\u001b[49m\n\u001b[1;32m      7\u001b[0m     shift_i \u001b[38;5;241m=\u001b[39m np\u001b[38;5;241m.\u001b[39margmax(corr) \u001b[38;5;241m-\u001b[39m \u001b[38;5;28mlen\u001b[39m(true[i]) \u001b[38;5;241m+\u001b[39m \u001b[38;5;241m1\u001b[39m   \n\u001b[1;32m      8\u001b[0m     shift\u001b[38;5;241m.\u001b[39mappend(shift_i)\n",
      "File \u001b[0;32m~/anaconda3/lib/python3.9/site-packages/scipy/signal/signaltools.py:239\u001b[0m, in \u001b[0;36mcorrelate\u001b[0;34m(in1, in2, mode, method)\u001b[0m\n\u001b[1;32m    237\u001b[0m \u001b[38;5;66;03m# this either calls fftconvolve or this function with method=='direct'\u001b[39;00m\n\u001b[1;32m    238\u001b[0m \u001b[38;5;28;01mif\u001b[39;00m method \u001b[38;5;129;01min\u001b[39;00m (\u001b[38;5;124m'\u001b[39m\u001b[38;5;124mfft\u001b[39m\u001b[38;5;124m'\u001b[39m, \u001b[38;5;124m'\u001b[39m\u001b[38;5;124mauto\u001b[39m\u001b[38;5;124m'\u001b[39m):\n\u001b[0;32m--> 239\u001b[0m     \u001b[38;5;28;01mreturn\u001b[39;00m \u001b[43mconvolve\u001b[49m\u001b[43m(\u001b[49m\u001b[43min1\u001b[49m\u001b[43m,\u001b[49m\u001b[43m \u001b[49m\u001b[43m_reverse_and_conj\u001b[49m\u001b[43m(\u001b[49m\u001b[43min2\u001b[49m\u001b[43m)\u001b[49m\u001b[43m,\u001b[49m\u001b[43m \u001b[49m\u001b[43mmode\u001b[49m\u001b[43m,\u001b[49m\u001b[43m \u001b[49m\u001b[43mmethod\u001b[49m\u001b[43m)\u001b[49m\n\u001b[1;32m    241\u001b[0m \u001b[38;5;28;01melif\u001b[39;00m method \u001b[38;5;241m==\u001b[39m \u001b[38;5;124m'\u001b[39m\u001b[38;5;124mdirect\u001b[39m\u001b[38;5;124m'\u001b[39m:\n\u001b[1;32m    242\u001b[0m     \u001b[38;5;66;03m# fastpath to faster numpy.correlate for 1d inputs when possible\u001b[39;00m\n\u001b[1;32m    243\u001b[0m     \u001b[38;5;28;01mif\u001b[39;00m _np_conv_ok(in1, in2, mode):\n",
      "File \u001b[0;32m~/anaconda3/lib/python3.9/site-packages/scipy/signal/signaltools.py:1408\u001b[0m, in \u001b[0;36mconvolve\u001b[0;34m(in1, in2, mode, method)\u001b[0m\n\u001b[1;32m   1405\u001b[0m \u001b[38;5;28;01melif\u001b[39;00m method \u001b[38;5;241m==\u001b[39m \u001b[38;5;124m'\u001b[39m\u001b[38;5;124mdirect\u001b[39m\u001b[38;5;124m'\u001b[39m:\n\u001b[1;32m   1406\u001b[0m     \u001b[38;5;66;03m# fastpath to faster numpy.convolve for 1d inputs when possible\u001b[39;00m\n\u001b[1;32m   1407\u001b[0m     \u001b[38;5;28;01mif\u001b[39;00m _np_conv_ok(volume, kernel, mode):\n\u001b[0;32m-> 1408\u001b[0m         \u001b[38;5;28;01mreturn\u001b[39;00m \u001b[43mnp\u001b[49m\u001b[38;5;241;43m.\u001b[39;49m\u001b[43mconvolve\u001b[49m\u001b[43m(\u001b[49m\u001b[43mvolume\u001b[49m\u001b[43m,\u001b[49m\u001b[43m \u001b[49m\u001b[43mkernel\u001b[49m\u001b[43m,\u001b[49m\u001b[43m \u001b[49m\u001b[43mmode\u001b[49m\u001b[43m)\u001b[49m\n\u001b[1;32m   1410\u001b[0m     \u001b[38;5;28;01mreturn\u001b[39;00m correlate(volume, _reverse_and_conj(kernel), mode, \u001b[38;5;124m'\u001b[39m\u001b[38;5;124mdirect\u001b[39m\u001b[38;5;124m'\u001b[39m)\n\u001b[1;32m   1411\u001b[0m \u001b[38;5;28;01melse\u001b[39;00m:\n",
      "File \u001b[0;32m<__array_function__ internals>:5\u001b[0m, in \u001b[0;36mconvolve\u001b[0;34m(*args, **kwargs)\u001b[0m\n",
      "File \u001b[0;32m~/anaconda3/lib/python3.9/site-packages/numpy/core/numeric.py:844\u001b[0m, in \u001b[0;36mconvolve\u001b[0;34m(a, v, mode)\u001b[0m\n\u001b[1;32m    842\u001b[0m \u001b[38;5;28;01mif\u001b[39;00m \u001b[38;5;28mlen\u001b[39m(v) \u001b[38;5;241m==\u001b[39m \u001b[38;5;241m0\u001b[39m:\n\u001b[1;32m    843\u001b[0m     \u001b[38;5;28;01mraise\u001b[39;00m \u001b[38;5;167;01mValueError\u001b[39;00m(\u001b[38;5;124m'\u001b[39m\u001b[38;5;124mv cannot be empty\u001b[39m\u001b[38;5;124m'\u001b[39m)\n\u001b[0;32m--> 844\u001b[0m \u001b[38;5;28;01mreturn\u001b[39;00m \u001b[43mmultiarray\u001b[49m\u001b[38;5;241;43m.\u001b[39;49m\u001b[43mcorrelate\u001b[49m\u001b[43m(\u001b[49m\u001b[43ma\u001b[49m\u001b[43m,\u001b[49m\u001b[43m \u001b[49m\u001b[43mv\u001b[49m\u001b[43m[\u001b[49m\u001b[43m:\u001b[49m\u001b[43m:\u001b[49m\u001b[38;5;241;43m-\u001b[39;49m\u001b[38;5;241;43m1\u001b[39;49m\u001b[43m]\u001b[49m\u001b[43m,\u001b[49m\u001b[43m \u001b[49m\u001b[43mmode\u001b[49m\u001b[43m)\u001b[49m\n",
      "\u001b[0;31mKeyboardInterrupt\u001b[0m: "
     ]
    }
   ],
   "source": [
    "aweights3, loss_dos, test_loss_dos = normal_reg_train_Ad(total_soap, total_aligned_dos3,\n",
    "                                                       total_train_index, total_test_index,\n",
    "                                                       1e-2, 20000, 60, 1e-3)\n",
    "\n",
    "\n",
    "print (\"Adam Unbiased\")\n",
    "print (\"The train error is {:.4} for SOAP\".format(loss_dos))\n",
    "print (\"The test error is {:.4} for SOAP\".format(test_loss_dos))"
   ]
  },
  {
   "cell_type": "code",
   "execution_count": null,
   "id": "0db52f82",
   "metadata": {
    "ExecuteTime": {
     "end_time": "2023-04-27T15:30:20.526377Z",
     "start_time": "2023-04-27T15:30:20.526360Z"
    }
   },
   "outputs": [],
   "source": [
    "# adam_opt_weights = weights.clone()\n",
    "loss_dos, test_loss_dos, opt_shift_train, opt_shift_test = evaluate_weights(aweights3, total_soap, total_aligned_dos3, total_train_index, total_test_index)\n",
    "\n",
    "print (\"The train error is {:.4} for SOAP\".format(loss_dos))\n",
    "print (\"The test error is {:.4} for SOAP\".format(test_loss_dos))"
   ]
  },
  {
   "cell_type": "code",
   "execution_count": null,
   "id": "3b3fd1bd",
   "metadata": {
    "ExecuteTime": {
     "end_time": "2023-04-27T15:30:20.527705Z",
     "start_time": "2023-04-27T15:30:20.527689Z"
    }
   },
   "outputs": [],
   "source": [
    "train_pred, test_pred, train_shift, test_shift = get_predictions(aweights3, total_soap, total_aligned_dos3, total_train_index, total_test_index)\n",
    "\n",
    "third_total_shift = reverse_index(torch.tensor(train_shift).float(), torch.tensor(test_shift).float(), total_train_index, total_test_index)"
   ]
  },
  {
   "cell_type": "code",
   "execution_count": null,
   "id": "1116c029",
   "metadata": {
    "ExecuteTime": {
     "end_time": "2023-04-27T15:30:20.528957Z",
     "start_time": "2023-04-27T15:30:20.528941Z"
    }
   },
   "outputs": [],
   "source": [
    "(third_total_shift - torch.mean(third_total_shift)) * 0.05"
   ]
  },
  {
   "cell_type": "code",
   "execution_count": null,
   "id": "d91c3105",
   "metadata": {
    "ExecuteTime": {
     "end_time": "2023-04-27T15:30:20.530196Z",
     "start_time": "2023-04-27T15:30:20.530179Z"
    }
   },
   "outputs": [],
   "source": [
    "shifted_aligned_dos3 = shifted_ldos_discrete(total_aligned_dos3, xdos, torch.ones(len(total_aligned_dos3)))"
   ]
  },
  {
   "cell_type": "code",
   "execution_count": null,
   "id": "58a947eb",
   "metadata": {
    "ExecuteTime": {
     "end_time": "2023-04-27T15:30:20.531429Z",
     "start_time": "2023-04-27T15:30:20.531412Z"
    },
    "scrolled": true
   },
   "outputs": [],
   "source": [
    "aweights4, loss_dos, test_loss_dos = normal_reg_train_Ad(total_soap, shifted_aligned_dos3,\n",
    "                                                       total_train_index, total_test_index,\n",
    "                                                       1e-2, 20000, 60, 1e-3)\n",
    "\n",
    "\n",
    "print (\"Adam Unbiased\")\n",
    "print (\"The train error is {:.4} for SOAP\".format(loss_dos))\n",
    "print (\"The test error is {:.4} for SOAP\".format(test_loss_dos))"
   ]
  },
  {
   "cell_type": "code",
   "execution_count": null,
   "id": "689dac34",
   "metadata": {
    "ExecuteTime": {
     "end_time": "2023-04-27T15:30:20.532663Z",
     "start_time": "2023-04-27T15:30:20.532647Z"
    }
   },
   "outputs": [],
   "source": [
    "# adam_opt_weights = weights.clone()\n",
    "loss_dos, test_loss_dos, opt_shift_train, opt_shift_test = evaluate_weights(aweights4, total_soap, shifted_aligned_dos3, total_train_index, total_test_index)\n",
    "\n",
    "print (\"The train error is {:.4} for SOAP\".format(loss_dos))\n",
    "print (\"The test error is {:.4} for SOAP\".format(test_loss_dos))"
   ]
  },
  {
   "cell_type": "code",
   "execution_count": null,
   "id": "b60e2b3c",
   "metadata": {
    "ExecuteTime": {
     "end_time": "2023-04-27T15:30:20.533891Z",
     "start_time": "2023-04-27T15:30:20.533875Z"
    }
   },
   "outputs": [],
   "source": [
    "train_pred, test_pred, train_shift, test_shift = get_predictions(aweights4, total_soap, shifted_aligned_dos3, total_train_index, total_test_index)\n",
    "\n",
    "fourth_total_shift = reverse_index(torch.tensor(train_shift).float(), torch.tensor(test_shift).float(), total_train_index, total_test_index)"
   ]
  },
  {
   "cell_type": "code",
   "execution_count": null,
   "id": "4f4cd291",
   "metadata": {
    "ExecuteTime": {
     "end_time": "2023-04-27T15:30:20.535103Z",
     "start_time": "2023-04-27T15:30:20.535086Z"
    }
   },
   "outputs": [],
   "source": [
    "(fourth_total_shift - torch.mean(fourth_total_shift)) * 0.05"
   ]
  },
  {
   "cell_type": "code",
   "execution_count": null,
   "id": "b99e7e09",
   "metadata": {},
   "outputs": [],
   "source": []
  },
  {
   "cell_type": "code",
   "execution_count": 61,
   "id": "e23717ae",
   "metadata": {
    "ExecuteTime": {
     "end_time": "2023-04-27T18:45:26.093931Z",
     "start_time": "2023-04-27T17:46:17.982357Z"
    },
    "scrolled": true
   },
   "outputs": [
    {
     "name": "stderr",
     "output_type": "stream",
     "text": [
      "Epoch: 1003:   5%|█████▍                                                                                                      | 1003/20000 [12:18<3:44:32,  1.41it/s, lowest_mse=0.0154, pred_loss=17.5, trigger=0]"
     ]
    },
    {
     "name": "stdout",
     "output_type": "stream",
     "text": [
      "The batch_size is now:  120\n"
     ]
    },
    {
     "name": "stderr",
     "output_type": "stream",
     "text": [
      "Epoch: 2005:  10%|██████████▊                                                                                                 | 2005/20000 [23:51<3:26:34,  1.45it/s, lowest_mse=0.0121, pred_loss=15.5, trigger=0]"
     ]
    },
    {
     "name": "stdout",
     "output_type": "stream",
     "text": [
      "The batch_size is now:  240\n"
     ]
    },
    {
     "name": "stderr",
     "output_type": "stream",
     "text": [
      "Epoch: 3007:  15%|████████████████▏                                                                                           | 3007/20000 [35:17<3:07:56,  1.51it/s, lowest_mse=0.0111, pred_loss=14.8, trigger=0]"
     ]
    },
    {
     "name": "stdout",
     "output_type": "stream",
     "text": [
      "The batch_size is now:  480\n"
     ]
    },
    {
     "name": "stderr",
     "output_type": "stream",
     "text": [
      "Epoch: 4009:  20%|█████████████████████▋                                                                                      | 4009/20000 [47:00<3:07:23,  1.42it/s, lowest_mse=0.0105, pred_loss=14.4, trigger=0]"
     ]
    },
    {
     "name": "stdout",
     "output_type": "stream",
     "text": [
      "The batch_size is now:  960\n"
     ]
    },
    {
     "name": "stderr",
     "output_type": "stream",
     "text": [
      "Epoch: 5011:  25%|███████████████████████████                                                                                 | 5011/20000 [59:06<3:00:26,  1.38it/s, lowest_mse=0.0101, pred_loss=14.1, trigger=0]"
     ]
    },
    {
     "name": "stdout",
     "output_type": "stream",
     "text": [
      "The batch_size is now:  1920\n"
     ]
    },
    {
     "name": "stderr",
     "output_type": "stream",
     "text": [
      "Epoch: 5011:  25%|███████████████████████████                                                                                 | 5011/20000 [59:07<2:56:50,  1.41it/s, lowest_mse=0.0101, pred_loss=14.1, trigger=0]\n"
     ]
    },
    {
     "name": "stdout",
     "output_type": "stream",
     "text": [
      "Adam Unbiased\n",
      "The train error is 14.13 for SOAP\n",
      "The test error is 15.45 for SOAP\n",
      "The train error is 14.13 for SOAP\n",
      "The test error is 15.45 for SOAP\n"
     ]
    }
   ],
   "source": [
    "true_alignment = torch.randint(-50, 50, size = (len(total_aligned_dos3),))\n",
    "random_shifted_aligned_dos3 = shifted_ldos_discrete(total_aligned_dos3, xdos, true_alignment)\n",
    "\n",
    "aweights5, loss_dos, test_loss_dos = normal_reg_train_Ad(total_soap, random_shifted_aligned_dos3,\n",
    "                                                       total_train_index, total_test_index,\n",
    "                                                       1e-2, 20000, 60, 1e-3)\n",
    "\n",
    "\n",
    "print (\"Adam Unbiased\")\n",
    "print (\"The train error is {:.4} for SOAP\".format(loss_dos))\n",
    "print (\"The test error is {:.4} for SOAP\".format(test_loss_dos))\n",
    "\n",
    "# adam_opt_weights = weights.clone()\n",
    "loss_dos, test_loss_dos, opt_shift_train, opt_shift_test = evaluate_weights(aweights5, total_soap, random_shifted_aligned_dos3, total_train_index, total_test_index)\n",
    "\n",
    "print (\"The train error is {:.4} for SOAP\".format(loss_dos))\n",
    "print (\"The test error is {:.4} for SOAP\".format(test_loss_dos))\n",
    "\n",
    "train_pred, test_pred, train_shift, test_shift = get_predictions(aweights5, total_soap, random_shifted_aligned_dos3, total_train_index, total_test_index)\n",
    "\n",
    "fifth_total_shift = reverse_index(torch.tensor(train_shift).float(), torch.tensor(test_shift).float(), total_train_index, total_test_index)"
   ]
  },
  {
   "cell_type": "code",
   "execution_count": 62,
   "id": "08d791ff",
   "metadata": {
    "ExecuteTime": {
     "end_time": "2023-04-27T18:45:26.110027Z",
     "start_time": "2023-04-27T18:45:26.096776Z"
    }
   },
   "outputs": [
    {
     "data": {
      "text/plain": [
       "tensor([ 1.3430, -2.1570, -0.1570, -1.0570,  2.0430,  2.0930,  2.0930, -1.5070,\n",
       "         0.4430,  1.8930,  0.4930,  2.2430, -2.6570,  0.3930,  2.1430,  1.4930,\n",
       "         1.8930,  1.6930, -0.6070,  0.9930, -0.8070,  1.9430, -1.5570,  1.3430,\n",
       "        -1.6070,  0.7430, -1.7070, -0.7070,  0.5430,  0.1930,  0.3430, -1.8070,\n",
       "         0.2430, -1.3570, -2.4570, -0.7570,  1.6930, -0.4570, -1.7570,  1.9430,\n",
       "         0.2430, -1.2570,  0.9930,  1.6430,  0.8430, -0.7070, -0.1570,  0.2430,\n",
       "         0.0430,  1.9430, -2.6070, -0.0070,  0.9430,  1.2430,  0.2430, -1.3070,\n",
       "        -0.6070,  0.9930,  0.2430,  1.0430, -2.4070,  0.3430, -0.1070,  0.1930,\n",
       "         1.0430,  1.5430, -2.5070,  1.4930, -1.6570,  0.8930,  1.6930, -0.5070,\n",
       "        -2.0570, -2.4070, -1.8070,  2.0430,  0.2930,  1.8430, -0.9070,  0.9930,\n",
       "        -1.2570,  2.0930, -1.4070,  1.8930,  0.0930, -0.6570,  0.3430, -1.9570,\n",
       "        -0.6070, -2.0570,  0.8930, -0.9570, -0.2570, -0.1070, -1.9070, -2.6570,\n",
       "        -0.3570, -2.1070, -0.3570, -0.1070, -2.2070,  0.3430, -2.0570, -2.5570,\n",
       "        -1.3070, -0.4070, -0.9570, -0.9570, -2.5070,  2.0930,  0.8430,  1.9930,\n",
       "        -0.3570,  1.9930, -0.3070,  1.1930, -2.3570,  1.6930, -2.0070, -0.9070,\n",
       "        -0.9070, -2.5070, -1.5570, -0.2070,  0.7930, -2.4070,  0.1930, -2.5570,\n",
       "         1.1430,  0.9430,  1.2930, -2.7070,  0.0430, -1.1570,  2.1930, -1.4070,\n",
       "         1.7430,  0.4930,  1.2430, -1.7570, -0.5570, -1.4570, -1.1070, -2.0570,\n",
       "         0.5930, -0.4570,  0.3930, -1.1570, -2.3070,  1.5430, -1.4570, -2.4070,\n",
       "         1.4930, -2.2070,  0.2430, -2.7570, -1.8570, -2.1570,  1.6930, -2.5570,\n",
       "        -0.6070, -1.6070, -2.6070, -0.0570,  1.1930,  1.3930, -2.2070,  0.7930,\n",
       "        -1.1070, -1.9070,  0.8430,  0.9930, -1.8570, -0.1070,  1.9430, -1.7070,\n",
       "         0.3930,  1.6930, -1.6570,  0.9430,  1.5430,  0.5930, -0.5070,  0.3430,\n",
       "         1.5430,  0.0930, -2.2070,  0.0430, -2.5570,  1.0930, -2.6570, -0.1570,\n",
       "        -2.6570, -0.3570, -0.2570, -0.0070,  0.4930, -2.6570, -0.3070, -0.4070,\n",
       "        -2.4070, -1.4570,  0.9430, -0.2570, -1.6070,  1.8430, -1.0570,  0.8430,\n",
       "        -2.2570,  1.1430, -0.4070, -1.3070, -0.7070, -0.4070, -2.1570, -2.2070,\n",
       "         0.7430, -1.0070, -1.7070, -0.1070, -1.8570, -1.8570,  1.5430, -2.6570,\n",
       "        -2.4570,  1.9930, -2.1570,  1.5430, -2.7570,  0.7430, -0.8570, -0.2070,\n",
       "         1.8930, -0.8570, -0.9570, -0.3070,  1.9430,  0.1930, -1.1070, -1.1070,\n",
       "        -0.6570, -2.2570,  0.6930,  1.3930, -1.1570, -2.4570,  0.6930, -0.4570,\n",
       "        -2.8070, -1.2070, -1.7070, -2.2070,  1.6930, -0.7570, -2.4570, -0.3570,\n",
       "         0.0930,  1.3930,  0.7930, -1.8070, -0.6570,  1.1430, -2.1570,  0.6930,\n",
       "         0.7430,  0.5430, -0.3070, -1.1070,  0.4430,  1.2430, -2.5570, -0.1570,\n",
       "        -0.0570, -0.0070,  1.0430,  0.1430,  0.4430,  0.3930, -0.1070, -0.3570,\n",
       "        -1.7070, -0.4070,  2.0930, -2.6570, -1.3570,  1.2430, -2.1070, -1.9070,\n",
       "         1.5930, -0.8070,  0.1430,  0.1430, -2.7070, -2.6570, -1.5070, -2.5070,\n",
       "        -2.4570,  1.4430, -2.0070,  0.9930, -2.6570,  0.0430, -2.2570,  1.4430,\n",
       "         1.9930,  1.9930,  1.5930, -1.7070, -0.0070,  1.3430, -1.6070,  0.1430,\n",
       "        -0.4570,  1.1430,  1.9930,  0.1430,  0.4430,  0.7430,  0.6930,  1.5430,\n",
       "        -1.9570,  1.7430, -2.0070, -1.9570, -0.4570, -0.0070,  1.2930,  0.4930,\n",
       "         3.0430, -0.4570,  3.8430,  1.7430, -0.1570,  2.9430,  1.1930,  2.0930,\n",
       "         0.8430,  2.3930,  2.0430,  3.7930,  4.2930,  1.7430,  0.8430,  3.2430,\n",
       "         0.1430,  1.1430,  2.5930,  1.6430,  2.2430,  5.2930,  4.3930,  2.7930,\n",
       "         2.7430,  1.6430,  3.9930,  4.0930,  2.8430, -0.3570,  0.4930,  0.4930,\n",
       "         1.0930,  3.0930,  2.3930,  2.8930, -0.5570,  3.4430,  0.3930,  0.1930,\n",
       "        -0.5570,  0.9930,  3.5930,  0.5930,  4.1930,  4.4430,  2.1430,  4.8430,\n",
       "         0.5430,  2.9430,  0.2430, -0.2570,  2.5930,  0.3430,  3.0930, -0.6570,\n",
       "         2.3430, -0.5570, -1.7070,  0.1930,  0.0930,  0.8930, -0.5070,  2.1930,\n",
       "         0.0430, -0.6070, -0.6570,  0.9930,  2.3430, -2.0570, -1.3570,  1.0930,\n",
       "        -0.5070, -1.6570,  0.5930, -1.8070,  1.4930, -1.3570,  1.8430, -0.6070,\n",
       "        -1.6070,  2.0930, -1.9070,  1.6930,  2.6930, -1.9570, -1.1070,  2.7430,\n",
       "         1.5930, -0.8070, -1.6570, -1.3070, -1.6070,  1.0930, -1.0570, -1.5070,\n",
       "         2.0430,  2.7430,  2.4930, -0.9070,  1.3430, -1.5570, -0.4070,  2.5930,\n",
       "        -1.7070,  0.0430,  2.1930,  1.8430, -1.2070, -0.9570, -1.7070, -1.7070,\n",
       "         1.3430,  1.5930,  0.2930,  0.4430,  2.4930,  1.5430,  0.6930, -0.0570,\n",
       "        -0.1070,  1.7930,  0.6430, -1.3570,  2.3930, -1.3570,  2.0930,  1.6930,\n",
       "        -2.1570, -0.7070, -0.3570,  1.9930, -2.2570,  2.2930, -1.2570,  1.8430,\n",
       "        -0.5570, -0.1070,  1.8930,  0.8930, -2.0070, -1.0070, -0.4570,  1.5930,\n",
       "        -1.0570, -2.2570, -0.1570, -2.2570,  1.0430,  0.9430,  2.3430,  0.3930,\n",
       "         1.8930,  1.2430,  2.1430, -0.2570,  2.1430,  1.7930,  0.2930, -1.7570,\n",
       "        -2.1070, -0.9570,  1.6430, -0.8070, -0.5070, -0.9070, -2.0570, -0.8070,\n",
       "         2.2930,  0.0430,  2.2930, -0.5570,  2.1430,  1.1430, -0.6570, -1.0570,\n",
       "         2.0930,  0.8430, -1.0570,  1.3930,  0.1430,  2.2430,  0.1430,  1.7930,\n",
       "        -1.0070, -1.4570,  2.5930,  0.6930,  2.3430, -1.2070,  0.8930,  1.8430,\n",
       "        -0.0570,  1.0930,  1.7930,  1.6930, -0.9570,  1.5430,  2.5430, -0.6570,\n",
       "        -1.6570,  2.1930, -0.8570, -0.6070, -0.1570,  2.3430, -0.9570, -0.8570,\n",
       "         0.7930, -1.5570,  1.9930,  0.4430, -0.6070, -0.6070, -1.5570, -1.8570,\n",
       "        -0.0070, -0.3070,  1.5930, -1.5070, -1.5570, -1.3570,  1.1930, -1.4070,\n",
       "        -1.5570,  1.7930, -1.9570,  0.9430,  0.4430, -1.2570,  2.1930,  0.1430,\n",
       "         1.3930, -1.3070, -1.2570,  1.7930,  2.3430,  0.0430, -1.8070,  1.2930,\n",
       "         2.6430,  0.8430,  1.4430,  1.1430,  0.8430, -0.9570,  2.4430,  1.3430,\n",
       "        -1.7570,  1.5930,  2.3930,  0.4930, -1.3070,  2.0930,  0.3430,  1.2430,\n",
       "         1.1930, -0.6070,  0.6930,  2.0930,  2.7930,  1.0430,  1.2430, -1.2070,\n",
       "         1.0430, -1.9070,  0.2930, -1.1070, -1.7570, -1.2070,  2.5930,  2.8930,\n",
       "         1.5430,  1.1930,  1.3430, -2.0070,  0.2430,  1.4430, -2.6570, -1.3070,\n",
       "        -1.5070, -2.7070, -0.2070, -0.2570,  1.6930,  1.7430, -2.0570, -1.9070,\n",
       "         1.6930,  0.9930, -2.6570, -0.5570,  0.1930, -2.7070, -0.9570,  1.1930,\n",
       "        -1.3570,  0.1930, -1.0570, -1.6570,  0.7430,  0.4930, -0.6070,  1.6930,\n",
       "         1.5930, -1.3570, -1.4070,  1.5930, -0.5070, -1.1570, -1.3070, -2.1570,\n",
       "        -1.5070, -0.3070, -1.0570,  1.5430,  1.1430,  1.3430, -1.3070, -1.5070,\n",
       "         2.0430,  0.4930, -1.5570, -1.3570,  0.4930, -0.8070, -1.5070,  0.9430,\n",
       "         0.9430, -2.1070,  2.4930, -0.5570,  2.0430, -0.5070,  1.7930,  1.2930,\n",
       "        -0.7570,  1.8930,  0.9430, -2.3070, -0.8570, -1.9570, -0.7570,  1.3430,\n",
       "        -0.3070,  1.1930,  0.8430, -0.3070, -2.0570,  1.2430,  2.5930,  1.5430,\n",
       "         2.0430, -1.5570, -2.0070, -1.8570, -0.2570, -2.2570,  0.7930,  0.2430,\n",
       "        -2.2070, -1.2570,  0.6430, -2.0070, -2.2570,  1.0430,  1.4930, -1.0570,\n",
       "        -0.5070, -1.8070,  0.5930,  2.2930,  2.0430, -1.9070,  2.3430, -1.0570,\n",
       "         1.3930, -0.4570, -0.9070,  1.8930,  2.0430, -0.2070, -1.0570,  0.4930,\n",
       "        -0.4570, -0.1070, -1.5570, -1.5570, -0.2070, -0.3570,  1.3930,  0.6930,\n",
       "        -0.9070,  2.3930,  1.9930,  1.7930,  1.5430, -2.2570,  2.5930, -0.7070,\n",
       "        -1.0070, -0.4070, -1.4570,  1.0430, -2.2570, -2.4570, -1.1070, -1.8070,\n",
       "        -0.0070, -0.5070, -2.0070,  0.7430, -0.9570,  0.1930, -1.6070,  0.7430,\n",
       "         1.5430, -1.7570, -2.3570,  2.2430, -1.5570, -0.9570,  0.6430, -0.0070,\n",
       "         1.7430,  0.0430, -1.0070, -0.2570,  1.7430, -1.6570,  1.3430,  1.1430,\n",
       "        -0.6070,  1.5930,  1.2930, -1.2070, -2.0070,  1.7430,  0.5430,  2.2430,\n",
       "         1.5430,  0.8430, -2.2070, -0.2570, -0.4070, -1.6070,  2.0930,  1.9430,\n",
       "        -1.8570,  0.3930, -2.3570, -0.9570, -2.4070,  0.7430, -0.4570,  0.5930,\n",
       "         1.4430,  1.7430, -2.2570, -2.0570,  0.6430,  1.6430,  1.8430, -1.3570,\n",
       "         0.6430,  1.2930, -0.8070, -2.0570, -0.0570, -1.8570, -2.7570,  0.9930,\n",
       "        -1.1070, -1.7570, -2.4070, -2.3070, -2.1570,  1.4930,  0.0930,  0.8430,\n",
       "         1.7430, -2.5070,  0.4430, -2.3570,  1.2930, -1.1570, -1.0070, -1.7570,\n",
       "         1.4930,  1.7930, -1.0570,  0.9930, -2.5070,  1.8930,  1.7430, -2.4570,\n",
       "        -1.5570,  1.6930, -0.4070, -1.2570,  0.7430, -2.3070,  0.0930,  1.6930,\n",
       "         2.0430, -1.2570,  0.6930, -2.2570, -2.1070, -1.4570,  1.2430, -1.3070,\n",
       "         2.0930,  1.4430, -1.4070,  0.1430,  0.9430,  1.7430,  1.0930,  2.0430,\n",
       "        -0.5070, -1.5070, -1.3570,  1.1930,  0.2430, -1.3570, -0.1070,  0.2430,\n",
       "        -2.3070,  1.1430, -1.4570,  0.4930,  2.2430, -0.6570,  2.0430,  1.0430,\n",
       "         1.3430, -1.0570,  1.5430, -1.6070, -2.6070, -2.2070,  2.0430, -2.3570,\n",
       "        -2.7070, -1.6570,  1.8430,  0.4430, -0.0070,  0.6930, -1.7070, -2.6070,\n",
       "        -1.9570, -1.4570, -0.5570, -0.6070,  1.5930, -2.2070, -0.3570, -1.9070,\n",
       "        -2.2070,  1.7930,  1.1430,  1.8930,  1.0930, -2.1570,  1.8430,  0.0430,\n",
       "         1.6930, -1.1570, -0.1570, -0.9570, -1.5070, -1.8570, -2.4070, -2.2570,\n",
       "         0.3430, -2.6570, -2.2570,  1.3930,  0.5430, -1.3070,  0.6930,  0.5930,\n",
       "        -1.7070, -0.1070, -1.6570, -0.9070, -0.4570,  1.7930, -1.4070, -2.3070,\n",
       "         0.5930, -2.2070, -0.4070, -2.1570,  0.4930,  0.0430,  0.0930],\n",
       "       dtype=torch.float32)"
      ]
     },
     "execution_count": 62,
     "metadata": {},
     "output_type": "execute_result"
    }
   ],
   "source": [
    "(fifth_total_shift - torch.mean(fifth_total_shift)) * 0.05"
   ]
  },
  {
   "cell_type": "code",
   "execution_count": 156,
   "id": "a5bc45e3",
   "metadata": {
    "ExecuteTime": {
     "end_time": "2023-04-25T13:03:09.565323Z",
     "start_time": "2023-04-25T13:03:09.452804Z"
    }
   },
   "outputs": [
    {
     "data": {
      "text/plain": [
       "[<matplotlib.lines.Line2D at 0x7fcbf94bf130>]"
      ]
     },
     "execution_count": 156,
     "metadata": {},
     "output_type": "execute_result"
    },
    {
     "data": {
      "image/png": "[encoded data removed]",
      "text/plain": [
       "<Figure size 432x288 with 1 Axes>"
      ]
     },
     "metadata": {
      "needs_background": "light"
     },
     "output_type": "display_data"
    }
   ],
   "source": [
    "i = 454\n",
    "plt.plot(xdos, train_pred[i])\n",
    "plt.plot(xdos, total_aligned_dos3[total_train_index[i]])"
   ]
  },
  {
   "cell_type": "code",
   "execution_count": 63,
   "id": "658fa954",
   "metadata": {
    "ExecuteTime": {
     "end_time": "2023-04-27T19:32:10.398587Z",
     "start_time": "2023-04-27T18:45:26.111744Z"
    }
   },
   "outputs": [
    {
     "name": "stderr",
     "output_type": "stream",
     "text": [
      "Epoch: 1003:   5%|█████▍                                                                                                      | 1003/20000 [11:16<3:32:43,  1.49it/s, lowest_mse=0.0312, pred_loss=37.1, trigger=0]"
     ]
    },
    {
     "name": "stdout",
     "output_type": "stream",
     "text": [
      "The batch_size is now:  120\n"
     ]
    },
    {
     "name": "stderr",
     "output_type": "stream",
     "text": [
      "Epoch: 2005:  10%|██████████▊                                                                                                 | 2005/20000 [22:02<3:13:24,  1.55it/s, lowest_mse=0.0209, pred_loss=30.4, trigger=0]"
     ]
    },
    {
     "name": "stdout",
     "output_type": "stream",
     "text": [
      "The batch_size is now:  240\n"
     ]
    },
    {
     "name": "stderr",
     "output_type": "stream",
     "text": [
      "Epoch: 3007:  15%|████████████████▏                                                                                           | 3007/20000 [30:09<2:15:46,  2.09it/s, lowest_mse=0.0178, pred_loss=28.1, trigger=0]"
     ]
    },
    {
     "name": "stdout",
     "output_type": "stream",
     "text": [
      "The batch_size is now:  480\n"
     ]
    },
    {
     "name": "stderr",
     "output_type": "stream",
     "text": [
      "Epoch: 4009:  20%|█████████████████████▋                                                                                      | 4009/20000 [38:16<2:07:28,  2.09it/s, lowest_mse=0.0162, pred_loss=26.8, trigger=0]"
     ]
    },
    {
     "name": "stdout",
     "output_type": "stream",
     "text": [
      "The batch_size is now:  960\n"
     ]
    },
    {
     "name": "stderr",
     "output_type": "stream",
     "text": [
      "Epoch: 5011:  25%|███████████████████████████▌                                                                                  | 5011/20000 [46:42<2:16:41,  1.83it/s, lowest_mse=0.0154, pred_loss=26, trigger=0]"
     ]
    },
    {
     "name": "stdout",
     "output_type": "stream",
     "text": [
      "The batch_size is now:  1920\n"
     ]
    },
    {
     "name": "stderr",
     "output_type": "stream",
     "text": [
      "Epoch: 5011:  25%|███████████████████████████▌                                                                                  | 5011/20000 [46:43<2:19:45,  1.79it/s, lowest_mse=0.0154, pred_loss=26, trigger=0]\n"
     ]
    },
    {
     "name": "stdout",
     "output_type": "stream",
     "text": [
      "Adam Unbiased\n",
      "The train error is 26.04 for SOAP\n",
      "The test error is 27.09 for SOAP\n",
      "The train error is 26.04 for SOAP\n",
      "The test error is 27.09 for SOAP\n"
     ]
    }
   ],
   "source": [
    "true_alignment2 = torch.randint(-5, 5, size = (len(total_aligned_dos3),))\n",
    "\n",
    "random_shifted_aligned_dos3 = shifted_ldos_discrete(total_aligned_dos3, xdos, true_alignment2)\n",
    "\n",
    "aweights6, loss_dos, test_loss_dos = normal_reg_train_Ad(total_soap, random_shifted_aligned_dos3,\n",
    "                                                       total_train_index, total_test_index,\n",
    "                                                       1e-2, 20000, 60, 1e-3)\n",
    "\n",
    "\n",
    "print (\"Adam Unbiased\")\n",
    "print (\"The train error is {:.4} for SOAP\".format(loss_dos))\n",
    "print (\"The test error is {:.4} for SOAP\".format(test_loss_dos))\n",
    "\n",
    "# adam_opt_weights = weights.clone()\n",
    "loss_dos, test_loss_dos, opt_shift_train, opt_shift_test = evaluate_weights(aweights6, total_soap, random_shifted_aligned_dos3, total_train_index, total_test_index)\n",
    "\n",
    "print (\"The train error is {:.4} for SOAP\".format(loss_dos))\n",
    "print (\"The test error is {:.4} for SOAP\".format(test_loss_dos))\n",
    "\n",
    "train_pred, test_pred, train_shift, test_shift = get_predictions(aweights6, total_soap, random_shifted_aligned_dos3, total_train_index, total_test_index)\n",
    "\n",
    "sixth_total_shift = reverse_index(torch.tensor(train_shift).float(), torch.tensor(test_shift).float(), total_train_index, total_test_index)"
   ]
  },
  {
   "cell_type": "code",
   "execution_count": 64,
   "id": "c420b754",
   "metadata": {
    "ExecuteTime": {
     "end_time": "2023-04-27T19:32:10.413191Z",
     "start_time": "2023-04-27T19:32:10.401085Z"
    }
   },
   "outputs": [
    {
     "data": {
      "text/plain": [
       "tensor([ 0.7944,  1.1944,  0.8444,  1.0944,  0.7944,  1.1444,  1.0944,  0.5944,\n",
       "         0.6444,  1.1444,  0.7944,  0.9944,  0.8444,  0.7444,  0.9944,  1.1944,\n",
       "         0.8444,  0.9944,  0.7444,  0.7444,  0.6444,  0.6944,  0.9444,  0.4944,\n",
       "         0.7944,  0.8944,  0.6444,  0.9444,  0.7944,  0.4444,  0.7944,  0.5944,\n",
       "         0.8944,  0.7444,  0.8444,  0.8944,  0.5944,  0.6944,  0.5944,  0.4444,\n",
       "         0.6944,  0.3944,  0.3444,  0.6944,  0.5444,  0.1444,  0.5444,  0.4444,\n",
       "         0.5444,  0.4944,  0.3944,  0.2944,  0.4944,  0.3944,  0.4444,  0.4444,\n",
       "         0.2944,  0.2444,  0.5444,  0.3444,  0.4444,  0.4944,  0.0944,  0.4444,\n",
       "        -0.0056,  0.1944,  0.2444,  0.1944,  0.3944,  0.2444,  0.3444,  0.3944,\n",
       "         0.2944,  0.3944,  0.0444,  0.5944,  0.5444,  0.0944, -0.1556,  0.1944,\n",
       "        -0.0556, -0.0056,  0.1444,  0.1444,  0.2944, -0.0056,  0.3444, -0.0556,\n",
       "         0.2444,  0.2444, -0.2056,  0.1444,  0.2444,  0.1444,  0.1444,  0.0444,\n",
       "        -0.1056,  0.3444, -0.0056,  0.1944, -0.0056,  0.0444,  0.3444, -0.3556,\n",
       "         1.0444,  0.9444,  1.0444,  0.8444,  1.0944,  0.7444,  0.6944,  0.9444,\n",
       "         0.7944,  0.8944,  0.7444,  0.7944,  0.9444,  1.0944,  1.0944,  0.8944,\n",
       "         0.8944,  0.7944,  1.0444,  1.1944,  0.9444,  0.7944,  0.6944,  1.0444,\n",
       "         0.5944,  1.0444,  0.6944,  0.8944,  0.5944,  0.5944,  0.7444,  0.7444,\n",
       "         0.7444,  0.8944,  0.5944,  0.9944,  0.8444,  1.0444,  0.5944,  0.8444,\n",
       "         0.6444,  0.5944,  0.9444,  0.7944,  0.8944,  0.7444,  0.8444,  0.8444,\n",
       "         0.7444,  0.5444,  0.9444,  0.6944,  0.8944,  0.5944,  0.5944,  0.8944,\n",
       "         0.6444,  0.4944,  0.5444,  0.8444,  0.7444,  0.4444,  0.4944,  0.7444,\n",
       "         0.7944,  0.5444,  0.6944,  0.8444,  0.3944,  0.6444,  0.5444,  0.6444,\n",
       "         0.4444,  0.5944,  0.7444,  0.5944,  0.4444,  0.7444,  0.3944,  0.5944,\n",
       "         0.7444,  0.2944,  0.7944,  0.6944,  0.7944,  0.4944,  0.5444,  0.5944,\n",
       "         0.7944,  0.6944,  0.3944,  0.3444,  0.5444,  0.3444,  0.5444,  0.3944,\n",
       "         0.7444,  0.3444,  0.5444,  0.4944,  0.5944,  0.2444,  0.4444,  0.4444,\n",
       "         0.6944,  0.5944,  0.6444,  0.2444,  0.6944,  0.2944,  0.3444,  0.5444,\n",
       "         0.5944,  0.4944,  0.6944,  0.5444,  0.5444,  0.2944,  0.2444,  0.5444,\n",
       "         0.2444,  0.2444,  0.2944,  0.1944,  0.1944,  0.6444,  0.4944,  0.2944,\n",
       "         0.3444,  0.4444,  0.4444,  0.6444,  0.3944,  0.1944,  0.5944,  0.6444,\n",
       "         0.2944,  0.1944,  0.3444,  0.3444,  0.2444,  0.2944,  0.5444,  0.1944,\n",
       "         0.4444,  0.2444,  0.5444,  0.4944,  0.1944,  0.2444,  0.4444,  0.3444,\n",
       "         0.5444,  0.3944,  0.2944,  0.2944,  0.1444,  0.4944,  0.4944,  0.4944,\n",
       "         0.4444,  0.1444,  0.3944,  0.4944,  0.0944,  0.0444,  0.1444,  0.1944,\n",
       "         0.3444,  0.4944,  0.3944,  0.1444,  0.4444,  0.1444,  0.4444,  0.0944,\n",
       "         0.3944,  0.3444,  0.4444,  0.5944,  0.3944,  0.3944,  0.1444,  0.1944,\n",
       "         0.1944,  0.0444,  0.0944,  0.3944,  0.1944,  0.6444,  0.3944,  0.3444,\n",
       "         0.5944,  0.5944,  0.4944,  0.3944,  0.5944,  0.1944,  0.2944,  0.2444,\n",
       "         0.3444,  0.1944,  0.2944,  0.0944,  0.1444,  0.3444,  0.4444,  0.4444,\n",
       "         0.3944,  0.1944,  0.5444,  0.6444,  0.4944,  0.2944,  0.2944,  0.3444,\n",
       "         0.5944,  0.6944,  0.4444,  0.3444, -3.0556, -0.7556, -2.0056, -2.3556,\n",
       "        -0.3056, -0.3556, -2.8056, -0.7056, -1.8056, -2.3056, -1.6056, -0.4556,\n",
       "        -1.4556, -3.4056, -2.3056, -1.7556, -2.3056, -1.0056, -1.6056, -4.3556,\n",
       "        -3.3056, -2.2556, -5.0056, -3.1056, -2.7556, -2.4056, -1.8556, -2.3556,\n",
       "        -1.9556, -1.5056, -3.5556, -3.7056, -2.5056, -2.1056, -2.7556, -1.9056,\n",
       "        -1.7556, -3.3556, -1.5556, -2.1556, -2.9556, -3.6556, -2.6056, -2.3056,\n",
       "        -2.0056, -3.1556, -2.3056, -2.8056, -3.7556, -1.6556, -1.5056, -1.2556,\n",
       "        -1.5556, -2.2056, -0.9056, -1.8556, -2.3056, -2.0556, -0.1056, -1.7556,\n",
       "        -1.9556, -1.9056, -2.1056, -2.1056, -1.8056, -2.2056, -2.1556, -2.0056,\n",
       "        -2.2056, -2.1556, -2.1556, -2.2056, -2.0556, -1.8556, -2.2556, -2.1556,\n",
       "        -2.1056, -2.2056, -2.1556, -2.1056, -1.8556, -1.8556, -1.8556, -1.9556,\n",
       "        -2.2056, -2.2056, -2.1556, -2.0556, -1.8056, -1.9556, -2.1056, -1.8556,\n",
       "        -1.8556, -2.2056, -2.0056, -2.1056, -2.1556, -2.0056, -1.8556, -2.1056,\n",
       "        -2.1556, -2.0556, -2.2056, -2.0056, -2.2056, -2.0056, -2.1556, -2.0056,\n",
       "        -2.0556, -2.1556, -2.2556, -2.1556, -2.3056, -2.2056, -2.2056, -1.9556,\n",
       "        -2.0556, -2.0556, -2.1056, -2.4056, -2.3056, -2.0556, -2.1556, -2.1556,\n",
       "        -2.1056, -1.9556, -1.9056, -2.1556, -1.9056, -1.7056, -1.8556, -1.9056,\n",
       "        -2.0556, -2.1556, -1.8056, -2.1056, -2.0556, -1.9056, -1.8056, -1.9056,\n",
       "        -1.9556, -1.9056, -2.1056, -1.8556, -2.1056, -2.1056, -1.7056, -1.7556,\n",
       "        -2.0556, -1.7056, -1.7056, -2.0056, -1.8056, -1.7056, -1.9556, -2.1556,\n",
       "        -2.0556, -1.8556, -1.9556, -1.9556, -1.8556, -1.9056, -1.7056, -2.2056,\n",
       "        -1.8556, -1.9056, -2.0556, -1.8056, -2.2056, -1.8056, -1.9056, -2.0556,\n",
       "        -2.0556, -1.9556, -1.8556, -1.9056, -1.9056, -2.1056, -1.8556, -2.2056,\n",
       "        -2.2056, -2.2056, -2.1556, -1.8556, -1.8556, -1.8556, -2.1056, -2.2056,\n",
       "        -2.2556, -1.9556, -2.3056, -2.0556, -1.8556, -1.9556, -1.8556, -1.8556,\n",
       "        -2.2556, -1.8556, -2.2556, -2.2556, -2.0056, -2.3056, -2.2556, -2.3056,\n",
       "        -2.1556, -1.9556, -2.1056, -1.9556, -2.3556, -2.2556, -2.1056, -2.0056,\n",
       "        -1.9556, -2.2056, -2.1556, -1.9556, -2.0556, -2.3556, -2.1556, -1.9056,\n",
       "        -1.9556, -2.3556, -2.0556, -2.2556, -1.9556, -2.0556, -2.2556, -2.3056,\n",
       "        -2.1056, -2.3556, -1.9556, -2.1556, -2.1056, -2.3556, -1.9556, -2.2056,\n",
       "        -2.0556, -1.9056, -2.0556, -2.2056, -2.3056, -2.0056, -1.9556, -2.1056,\n",
       "        -2.0056, -1.9556, -2.3056, -1.9556, -2.0556, -2.3556, -2.2056, -2.2056,\n",
       "        -2.4056, -2.0056, -2.2556, -2.3556, -2.3556, -2.1556, -2.0056, -2.1556,\n",
       "        -1.9556, -2.2056, -2.0556, -2.1556, -2.3556, -1.9556, -2.0556, -2.2056,\n",
       "        -2.3556, -1.9556, -2.1556, -2.0556, -2.1056, -1.9556, -2.0556, -1.9556,\n",
       "        -2.2056, -2.4056, -2.4056, -2.3056,  1.1944,  0.9444,  1.1944,  0.8944,\n",
       "         1.3444,  0.9944,  0.8444,  0.8944,  1.2944,  0.9944,  1.3444,  0.9444,\n",
       "         1.1444,  1.0944,  1.2944,  1.1944,  1.1444,  1.2444,  0.7444,  0.6444,\n",
       "         0.9444,  0.7444,  0.7944,  0.7944,  0.6944,  1.0444,  0.6444,  0.6944,\n",
       "         1.2444,  1.0944,  1.2944,  1.5444,  1.3444,  1.2444,  1.3944,  1.2944,\n",
       "         1.1944,  1.0944,  0.9944,  1.0444,  0.9444,  1.1444,  0.7944,  0.8444,\n",
       "         1.0944,  0.9944,  0.8444,  0.9944,  1.2944,  1.2944,  1.2944,  1.4944,\n",
       "         1.2944,  0.5444,  0.6944,  0.7444,  0.5944,  0.5944,  0.5444,  0.9444,\n",
       "         0.7944,  0.5944,  0.6944,  0.7444,  1.0444,  1.0444,  1.3444,  0.9944,\n",
       "         1.1444,  1.8444,  1.5944,  1.3444,  1.6444,  1.7444,  1.6944,  1.7944,\n",
       "         1.6944,  1.8944,  1.9444,  1.9944,  1.5944,  1.8944,  1.5944,  1.8444,\n",
       "         1.7444,  1.6944,  1.9444,  1.6944,  1.9944,  1.8444,  1.9444,  1.5944,\n",
       "         1.9944,  1.8444,  1.7944,  1.6944,  1.5444,  1.9944,  1.7444,  1.9944,\n",
       "         1.4444,  1.7944,  1.6944,  1.9944,  1.5944,  1.7944,  1.8444,  1.7444,\n",
       "         1.9444,  1.9444,  1.6444,  1.5444,  1.7444,  1.9944,  1.9444,  1.8944,\n",
       "         1.8944,  1.8444,  1.6444,  1.9944,  1.8444,  1.5444,  1.6944,  1.6444,\n",
       "         1.5444,  1.8444,  1.4944,  1.3444,  1.6944,  1.5944,  1.6444,  1.3944,\n",
       "         1.3444,  1.5944,  1.3444,  1.4944,  1.6444,  1.2944,  1.5444,  1.3444,\n",
       "         1.2944,  1.5444,  1.3944,  1.5444,  1.5944,  1.3444,  1.6944,  1.7444,\n",
       "         1.3444,  1.5444,  1.6444,  1.4444,  1.3444,  1.6944,  1.4944,  1.7944,\n",
       "         1.3444,  1.4944,  1.6944,  1.6444,  1.7444,  1.6444,  1.6944,  1.3444,\n",
       "         1.3444,  1.4944,  1.3944,  1.4444,  1.2944,  1.6944,  1.3444,  1.3944,\n",
       "         1.4444,  1.5944,  1.2944,  1.3944,  1.4944,  1.5944,  1.2444,  1.3444,\n",
       "         1.2944,  1.1944,  1.2444,  1.5444,  1.3944,  1.2444,  1.3444,  1.4944,\n",
       "         1.6944,  1.4444,  1.5444,  1.1944,  1.4944,  1.6444,  1.6444,  1.6444,\n",
       "         1.1944,  1.1944,  1.4444,  1.5944,  1.3944,  1.5944,  1.1444,  1.6444,\n",
       "         1.5944,  1.6444,  1.1944,  1.5944,  1.2944,  1.3444,  1.5944,  1.2944,\n",
       "         1.4944,  1.4944,  1.2944,  1.5444,  1.3444,  1.6444,  1.6444,  1.3944,\n",
       "         1.3944,  1.2944,  1.3944,  1.1444,  1.2944,  1.0444,  1.0444,  0.9944,\n",
       "         0.9944,  0.8944,  0.9444,  1.1944,  1.0444,  0.8944,  0.8444,  0.9944,\n",
       "         1.2444,  1.1444,  0.9444,  1.1444,  1.1944,  1.0944,  1.2944,  0.8944,\n",
       "         1.0444,  1.2444,  1.2444,  0.7944,  0.7944,  0.8944,  0.9444,  0.7944,\n",
       "         0.8444,  0.9444,  1.2444,  0.7944,  0.9444,  0.8444,  1.2944,  1.0944,\n",
       "         1.0444,  0.8444,  1.1944,  0.9444,  0.9944,  0.9444,  0.9944,  1.0444,\n",
       "         0.8944,  1.2444,  1.2944,  1.0944,  1.1444,  0.7944,  1.0944,  0.9944,\n",
       "         0.8944,  1.1944,  1.1444,  0.9444,  1.0944,  1.0944,  1.1944,  1.2444,\n",
       "         1.0444,  1.0944,  0.9444,  1.1444,  0.9944,  1.2944,  1.1444,  1.2444,\n",
       "         1.1444,  1.2444,  0.8944,  0.8944,  1.0444,  0.9944,  0.7944,  1.0444,\n",
       "         1.2944,  0.9944,  0.8944,  0.9444,  1.0444,  1.1444,  1.0944,  0.9944,\n",
       "         0.9944,  0.9944,  1.2444,  1.2444,  1.1444,  0.8944,  0.8944,  0.9944,\n",
       "         0.9944,  1.2944,  1.1444,  1.2944,  1.2444,  1.1944,  1.0444],\n",
       "       dtype=torch.float32)"
      ]
     },
     "execution_count": 64,
     "metadata": {},
     "output_type": "execute_result"
    }
   ],
   "source": [
    "(sixth_total_shift - torch.mean(sixth_total_shift)) * 0.05"
   ]
  },
  {
   "cell_type": "markdown",
   "id": "a8215313",
   "metadata": {},
   "source": [
    "### Tests - single structure shift "
   ]
  },
  {
   "cell_type": "code",
   "execution_count": null,
   "id": "83a94482",
   "metadata": {},
   "outputs": [],
   "source": []
  },
  {
   "cell_type": "code",
   "execution_count": null,
   "id": "3532f9e7",
   "metadata": {},
   "outputs": [],
   "source": []
  },
  {
   "cell_type": "code",
   "execution_count": 47,
   "id": "c959697d",
   "metadata": {
    "ExecuteTime": {
     "end_time": "2023-04-27T14:20:59.059924Z",
     "start_time": "2023-04-27T14:20:59.055172Z"
    }
   },
   "outputs": [],
   "source": [
    "\n"
   ]
  },
  {
   "cell_type": "code",
   "execution_count": null,
   "id": "e964d002",
   "metadata": {
    "ExecuteTime": {
     "start_time": "2023-04-27T11:56:21.315Z"
    }
   },
   "outputs": [],
   "source": []
  },
  {
   "cell_type": "code",
   "execution_count": null,
   "id": "0de87946",
   "metadata": {
    "ExecuteTime": {
     "start_time": "2023-04-27T11:56:20.768Z"
    }
   },
   "outputs": [],
   "source": []
  },
  {
   "cell_type": "code",
   "execution_count": 132,
   "id": "dd988b80",
   "metadata": {
    "ExecuteTime": {
     "end_time": "2023-04-25T11:12:43.352218Z",
     "start_time": "2023-04-25T11:12:35.214200Z"
    }
   },
   "outputs": [
    {
     "name": "stderr",
     "output_type": "stream",
     "text": [
      "Epoch: 4:   7%|████████                                                                                                                 | 4/60 [00:07<01:50,  1.98s/it, lowest_mse=0.259, pred_loss=193, trigger=0]\n"
     ]
    },
    {
     "ename": "KeyboardInterrupt",
     "evalue": "",
     "output_type": "error",
     "traceback": [
      "\u001b[0;31m---------------------------------------------------------------------------\u001b[0m",
      "\u001b[0;31mKeyboardInterrupt\u001b[0m                         Traceback (most recent call last)",
      "Input \u001b[0;32mIn [132]\u001b[0m, in \u001b[0;36m<cell line: 1>\u001b[0;34m()\u001b[0m\n\u001b[0;32m----> 1\u001b[0m U_L_weights3 , loss_dos, test_loss_dos \u001b[38;5;241m=\u001b[39m \u001b[43mnormal_reg_train_L\u001b[49m\u001b[43m(\u001b[49m\u001b[43msurface_soap\u001b[49m\u001b[43m,\u001b[49m\u001b[43m \u001b[49m\u001b[43msurface_dos3\u001b[49m\u001b[43m,\u001b[49m\u001b[43m \u001b[49m\u001b[43msurface_train_index\u001b[49m\u001b[43m,\u001b[49m\u001b[43m \u001b[49m\u001b[43msurface_test_index\u001b[49m\u001b[43m,\u001b[49m\n\u001b[1;32m      2\u001b[0m \u001b[43m                                                            \u001b[49m\u001b[38;5;241;43m1e-2\u001b[39;49m\u001b[43m,\u001b[49m\u001b[43m \u001b[49m\u001b[38;5;241;43m60\u001b[39;49m\u001b[43m,\u001b[49m\u001b[43m \u001b[49m\u001b[38;5;241;43m1\u001b[39;49m\u001b[43m)\u001b[49m\n\u001b[1;32m      3\u001b[0m \u001b[38;5;28mprint\u001b[39m (\u001b[38;5;124m\"\u001b[39m\u001b[38;5;124mLBFGS Unbiased\u001b[39m\u001b[38;5;124m\"\u001b[39m)\n\u001b[1;32m      4\u001b[0m \u001b[38;5;28mprint\u001b[39m (\u001b[38;5;124m\"\u001b[39m\u001b[38;5;124mThe train error is \u001b[39m\u001b[38;5;132;01m{:.4}\u001b[39;00m\u001b[38;5;124m for SOAP\u001b[39m\u001b[38;5;124m\"\u001b[39m\u001b[38;5;241m.\u001b[39mformat(loss_dos))\n",
      "Input \u001b[0;32mIn [126]\u001b[0m, in \u001b[0;36mnormal_reg_train_L\u001b[0;34m(feat, target, train_index, test_index, regularization, n_epochs, lr)\u001b[0m\n\u001b[1;32m     38\u001b[0m     loss_i\u001b[38;5;241m.\u001b[39mbackward()\n\u001b[1;32m     39\u001b[0m     \u001b[38;5;28;01mreturn\u001b[39;00m loss_i\n\u001b[0;32m---> 40\u001b[0m \u001b[43mopt\u001b[49m\u001b[38;5;241;43m.\u001b[39;49m\u001b[43mstep\u001b[49m\u001b[43m(\u001b[49m\u001b[43mclosure\u001b[49m\u001b[43m)\u001b[49m\n\u001b[1;32m     42\u001b[0m \u001b[38;5;28;01mwith\u001b[39;00m torch\u001b[38;5;241m.\u001b[39mno_grad():\n\u001b[1;32m     43\u001b[0m     preds \u001b[38;5;241m=\u001b[39m Features \u001b[38;5;241m@\u001b[39m weights\n",
      "File \u001b[0;32m~/anaconda3/lib/python3.9/site-packages/torch/optim/optimizer.py:140\u001b[0m, in \u001b[0;36mOptimizer._hook_for_profile.<locals>.profile_hook_step.<locals>.wrapper\u001b[0;34m(*args, **kwargs)\u001b[0m\n\u001b[1;32m    138\u001b[0m profile_name \u001b[38;5;241m=\u001b[39m \u001b[38;5;124m\"\u001b[39m\u001b[38;5;124mOptimizer.step#\u001b[39m\u001b[38;5;132;01m{}\u001b[39;00m\u001b[38;5;124m.step\u001b[39m\u001b[38;5;124m\"\u001b[39m\u001b[38;5;241m.\u001b[39mformat(obj\u001b[38;5;241m.\u001b[39m\u001b[38;5;18m__class__\u001b[39m\u001b[38;5;241m.\u001b[39m\u001b[38;5;18m__name__\u001b[39m)\n\u001b[1;32m    139\u001b[0m \u001b[38;5;28;01mwith\u001b[39;00m torch\u001b[38;5;241m.\u001b[39mautograd\u001b[38;5;241m.\u001b[39mprofiler\u001b[38;5;241m.\u001b[39mrecord_function(profile_name):\n\u001b[0;32m--> 140\u001b[0m     out \u001b[38;5;241m=\u001b[39m \u001b[43mfunc\u001b[49m\u001b[43m(\u001b[49m\u001b[38;5;241;43m*\u001b[39;49m\u001b[43margs\u001b[49m\u001b[43m,\u001b[49m\u001b[43m \u001b[49m\u001b[38;5;241;43m*\u001b[39;49m\u001b[38;5;241;43m*\u001b[39;49m\u001b[43mkwargs\u001b[49m\u001b[43m)\u001b[49m\n\u001b[1;32m    141\u001b[0m     obj\u001b[38;5;241m.\u001b[39m_optimizer_step_code()\n\u001b[1;32m    142\u001b[0m     \u001b[38;5;28;01mreturn\u001b[39;00m out\n",
      "File \u001b[0;32m~/anaconda3/lib/python3.9/site-packages/torch/autograd/grad_mode.py:27\u001b[0m, in \u001b[0;36m_DecoratorContextManager.__call__.<locals>.decorate_context\u001b[0;34m(*args, **kwargs)\u001b[0m\n\u001b[1;32m     24\u001b[0m \u001b[38;5;129m@functools\u001b[39m\u001b[38;5;241m.\u001b[39mwraps(func)\n\u001b[1;32m     25\u001b[0m \u001b[38;5;28;01mdef\u001b[39;00m \u001b[38;5;21mdecorate_context\u001b[39m(\u001b[38;5;241m*\u001b[39margs, \u001b[38;5;241m*\u001b[39m\u001b[38;5;241m*\u001b[39mkwargs):\n\u001b[1;32m     26\u001b[0m     \u001b[38;5;28;01mwith\u001b[39;00m \u001b[38;5;28mself\u001b[39m\u001b[38;5;241m.\u001b[39mclone():\n\u001b[0;32m---> 27\u001b[0m         \u001b[38;5;28;01mreturn\u001b[39;00m \u001b[43mfunc\u001b[49m\u001b[43m(\u001b[49m\u001b[38;5;241;43m*\u001b[39;49m\u001b[43margs\u001b[49m\u001b[43m,\u001b[49m\u001b[43m \u001b[49m\u001b[38;5;241;43m*\u001b[39;49m\u001b[38;5;241;43m*\u001b[39;49m\u001b[43mkwargs\u001b[49m\u001b[43m)\u001b[49m\n",
      "File \u001b[0;32m~/anaconda3/lib/python3.9/site-packages/torch/optim/lbfgs.py:426\u001b[0m, in \u001b[0;36mLBFGS.step\u001b[0;34m(self, closure)\u001b[0m\n\u001b[1;32m    423\u001b[0m     \u001b[38;5;28;01mdef\u001b[39;00m \u001b[38;5;21mobj_func\u001b[39m(x, t, d):\n\u001b[1;32m    424\u001b[0m         \u001b[38;5;28;01mreturn\u001b[39;00m \u001b[38;5;28mself\u001b[39m\u001b[38;5;241m.\u001b[39m_directional_evaluate(closure, x, t, d)\n\u001b[0;32m--> 426\u001b[0m     loss, flat_grad, t, ls_func_evals \u001b[38;5;241m=\u001b[39m \u001b[43m_strong_wolfe\u001b[49m\u001b[43m(\u001b[49m\n\u001b[1;32m    427\u001b[0m \u001b[43m        \u001b[49m\u001b[43mobj_func\u001b[49m\u001b[43m,\u001b[49m\u001b[43m \u001b[49m\u001b[43mx_init\u001b[49m\u001b[43m,\u001b[49m\u001b[43m \u001b[49m\u001b[43mt\u001b[49m\u001b[43m,\u001b[49m\u001b[43m \u001b[49m\u001b[43md\u001b[49m\u001b[43m,\u001b[49m\u001b[43m \u001b[49m\u001b[43mloss\u001b[49m\u001b[43m,\u001b[49m\u001b[43m \u001b[49m\u001b[43mflat_grad\u001b[49m\u001b[43m,\u001b[49m\u001b[43m \u001b[49m\u001b[43mgtd\u001b[49m\u001b[43m)\u001b[49m\n\u001b[1;32m    428\u001b[0m \u001b[38;5;28mself\u001b[39m\u001b[38;5;241m.\u001b[39m_add_grad(t, d)\n\u001b[1;32m    429\u001b[0m opt_cond \u001b[38;5;241m=\u001b[39m flat_grad\u001b[38;5;241m.\u001b[39mabs()\u001b[38;5;241m.\u001b[39mmax() \u001b[38;5;241m<\u001b[39m\u001b[38;5;241m=\u001b[39m tolerance_grad\n",
      "File \u001b[0;32m~/anaconda3/lib/python3.9/site-packages/torch/optim/lbfgs.py:148\u001b[0m, in \u001b[0;36m_strong_wolfe\u001b[0;34m(obj_func, x, t, d, f, g, gtd, c1, c2, tolerance_change, max_ls)\u001b[0m\n\u001b[1;32m    145\u001b[0m     insuf_progress \u001b[38;5;241m=\u001b[39m \u001b[38;5;28;01mFalse\u001b[39;00m\n\u001b[1;32m    147\u001b[0m \u001b[38;5;66;03m# Evaluate new point\u001b[39;00m\n\u001b[0;32m--> 148\u001b[0m f_new, g_new \u001b[38;5;241m=\u001b[39m \u001b[43mobj_func\u001b[49m\u001b[43m(\u001b[49m\u001b[43mx\u001b[49m\u001b[43m,\u001b[49m\u001b[43m \u001b[49m\u001b[43mt\u001b[49m\u001b[43m,\u001b[49m\u001b[43m \u001b[49m\u001b[43md\u001b[49m\u001b[43m)\u001b[49m\n\u001b[1;32m    149\u001b[0m ls_func_evals \u001b[38;5;241m+\u001b[39m\u001b[38;5;241m=\u001b[39m \u001b[38;5;241m1\u001b[39m\n\u001b[1;32m    150\u001b[0m gtd_new \u001b[38;5;241m=\u001b[39m g_new\u001b[38;5;241m.\u001b[39mdot(d)\n",
      "File \u001b[0;32m~/anaconda3/lib/python3.9/site-packages/torch/optim/lbfgs.py:424\u001b[0m, in \u001b[0;36mLBFGS.step.<locals>.obj_func\u001b[0;34m(x, t, d)\u001b[0m\n\u001b[1;32m    423\u001b[0m \u001b[38;5;28;01mdef\u001b[39;00m \u001b[38;5;21mobj_func\u001b[39m(x, t, d):\n\u001b[0;32m--> 424\u001b[0m     \u001b[38;5;28;01mreturn\u001b[39;00m \u001b[38;5;28;43mself\u001b[39;49m\u001b[38;5;241;43m.\u001b[39;49m\u001b[43m_directional_evaluate\u001b[49m\u001b[43m(\u001b[49m\u001b[43mclosure\u001b[49m\u001b[43m,\u001b[49m\u001b[43m \u001b[49m\u001b[43mx\u001b[49m\u001b[43m,\u001b[49m\u001b[43m \u001b[49m\u001b[43mt\u001b[49m\u001b[43m,\u001b[49m\u001b[43m \u001b[49m\u001b[43md\u001b[49m\u001b[43m)\u001b[49m\n",
      "File \u001b[0;32m~/anaconda3/lib/python3.9/site-packages/torch/optim/lbfgs.py:278\u001b[0m, in \u001b[0;36mLBFGS._directional_evaluate\u001b[0;34m(self, closure, x, t, d)\u001b[0m\n\u001b[1;32m    276\u001b[0m \u001b[38;5;28;01mdef\u001b[39;00m \u001b[38;5;21m_directional_evaluate\u001b[39m(\u001b[38;5;28mself\u001b[39m, closure, x, t, d):\n\u001b[1;32m    277\u001b[0m     \u001b[38;5;28mself\u001b[39m\u001b[38;5;241m.\u001b[39m_add_grad(t, d)\n\u001b[0;32m--> 278\u001b[0m     loss \u001b[38;5;241m=\u001b[39m \u001b[38;5;28mfloat\u001b[39m(\u001b[43mclosure\u001b[49m\u001b[43m(\u001b[49m\u001b[43m)\u001b[49m)\n\u001b[1;32m    279\u001b[0m     flat_grad \u001b[38;5;241m=\u001b[39m \u001b[38;5;28mself\u001b[39m\u001b[38;5;241m.\u001b[39m_gather_flat_grad()\n\u001b[1;32m    280\u001b[0m     \u001b[38;5;28mself\u001b[39m\u001b[38;5;241m.\u001b[39m_set_param(x)\n",
      "File \u001b[0;32m~/anaconda3/lib/python3.9/site-packages/torch/autograd/grad_mode.py:27\u001b[0m, in \u001b[0;36m_DecoratorContextManager.__call__.<locals>.decorate_context\u001b[0;34m(*args, **kwargs)\u001b[0m\n\u001b[1;32m     24\u001b[0m \u001b[38;5;129m@functools\u001b[39m\u001b[38;5;241m.\u001b[39mwraps(func)\n\u001b[1;32m     25\u001b[0m \u001b[38;5;28;01mdef\u001b[39;00m \u001b[38;5;21mdecorate_context\u001b[39m(\u001b[38;5;241m*\u001b[39margs, \u001b[38;5;241m*\u001b[39m\u001b[38;5;241m*\u001b[39mkwargs):\n\u001b[1;32m     26\u001b[0m     \u001b[38;5;28;01mwith\u001b[39;00m \u001b[38;5;28mself\u001b[39m\u001b[38;5;241m.\u001b[39mclone():\n\u001b[0;32m---> 27\u001b[0m         \u001b[38;5;28;01mreturn\u001b[39;00m \u001b[43mfunc\u001b[49m\u001b[43m(\u001b[49m\u001b[38;5;241;43m*\u001b[39;49m\u001b[43margs\u001b[49m\u001b[43m,\u001b[49m\u001b[43m \u001b[49m\u001b[38;5;241;43m*\u001b[39;49m\u001b[38;5;241;43m*\u001b[39;49m\u001b[43mkwargs\u001b[49m\u001b[43m)\u001b[49m\n",
      "Input \u001b[0;32mIn [126]\u001b[0m, in \u001b[0;36mnormal_reg_train_L.<locals>.closure\u001b[0;34m()\u001b[0m\n\u001b[1;32m     33\u001b[0m opt\u001b[38;5;241m.\u001b[39mzero_grad()\n\u001b[1;32m     34\u001b[0m pred_i \u001b[38;5;241m=\u001b[39m reg_features \u001b[38;5;241m@\u001b[39m weights\n\u001b[0;32m---> 35\u001b[0m opt_shift \u001b[38;5;241m=\u001b[39m \u001b[43mfind_optimal_discrete_shift\u001b[49m\u001b[43m(\u001b[49m\u001b[43mnp\u001b[49m\u001b[38;5;241;43m.\u001b[39;49m\u001b[43marray\u001b[49m\u001b[43m(\u001b[49m\u001b[43mpred_i\u001b[49m\u001b[43m[\u001b[49m\u001b[43m:\u001b[49m\u001b[38;5;28;43mlen\u001b[39;49m\u001b[43m(\u001b[49m\u001b[43mindex\u001b[49m\u001b[43m)\u001b[49m\u001b[43m]\u001b[49m\u001b[38;5;241;43m.\u001b[39;49m\u001b[43mdetach\u001b[49m\u001b[43m(\u001b[49m\u001b[43m)\u001b[49m\u001b[43m)\u001b[49m\u001b[43m,\u001b[49m\u001b[43mnp\u001b[49m\u001b[38;5;241;43m.\u001b[39;49m\u001b[43marray\u001b[49m\u001b[43m(\u001b[49m\u001b[43mreg_target\u001b[49m\u001b[43m[\u001b[49m\u001b[43m:\u001b[49m\u001b[38;5;28;43mlen\u001b[39;49m\u001b[43m(\u001b[49m\u001b[43mindex\u001b[49m\u001b[43m)\u001b[49m\u001b[43m]\u001b[49m\u001b[38;5;241;43m.\u001b[39;49m\u001b[43mdetach\u001b[49m\u001b[43m(\u001b[49m\u001b[43m)\u001b[49m\u001b[43m)\u001b[49m\u001b[43m)\u001b[49m\n\u001b[1;32m     36\u001b[0m pred_i[:\u001b[38;5;28mlen\u001b[39m(index)] \u001b[38;5;241m=\u001b[39m shifted_ldos_discrete(pred_i[:\u001b[38;5;28mlen\u001b[39m(index)], xdos, torch\u001b[38;5;241m.\u001b[39mtensor(opt_shift))\n\u001b[1;32m     37\u001b[0m loss_i \u001b[38;5;241m=\u001b[39m loss\u001b[38;5;241m.\u001b[39mt_get_mse(pred_i, reg_target)\n",
      "Input \u001b[0;32mIn [46]\u001b[0m, in \u001b[0;36mfind_optimal_discrete_shift\u001b[0;34m(prediction, true)\u001b[0m\n\u001b[1;32m      4\u001b[0m shift \u001b[38;5;241m=\u001b[39m []\n\u001b[1;32m      5\u001b[0m \u001b[38;5;28;01mfor\u001b[39;00m i \u001b[38;5;129;01min\u001b[39;00m \u001b[38;5;28mrange\u001b[39m(true\u001b[38;5;241m.\u001b[39mshape[\u001b[38;5;241m0\u001b[39m]):\n\u001b[0;32m----> 6\u001b[0m     corr \u001b[38;5;241m=\u001b[39m \u001b[43mcorrelate\u001b[49m\u001b[43m(\u001b[49m\u001b[43mtrue\u001b[49m\u001b[43m[\u001b[49m\u001b[43mi\u001b[49m\u001b[43m]\u001b[49m\u001b[43m,\u001b[49m\u001b[43m \u001b[49m\u001b[43mprediction\u001b[49m\u001b[43m[\u001b[49m\u001b[43mi\u001b[49m\u001b[43m]\u001b[49m\u001b[43m,\u001b[49m\u001b[43m \u001b[49m\u001b[43mmode\u001b[49m\u001b[38;5;241;43m=\u001b[39;49m\u001b[38;5;124;43m'\u001b[39;49m\u001b[38;5;124;43mfull\u001b[39;49m\u001b[38;5;124;43m'\u001b[39;49m\u001b[43m)\u001b[49m\n\u001b[1;32m      7\u001b[0m     shift_i \u001b[38;5;241m=\u001b[39m np\u001b[38;5;241m.\u001b[39margmax(corr) \u001b[38;5;241m-\u001b[39m \u001b[38;5;28mlen\u001b[39m(true[i]) \u001b[38;5;241m+\u001b[39m \u001b[38;5;241m1\u001b[39m   \n\u001b[1;32m      8\u001b[0m     shift\u001b[38;5;241m.\u001b[39mappend(shift_i)\n",
      "File \u001b[0;32m~/anaconda3/lib/python3.9/site-packages/scipy/signal/signaltools.py:239\u001b[0m, in \u001b[0;36mcorrelate\u001b[0;34m(in1, in2, mode, method)\u001b[0m\n\u001b[1;32m    237\u001b[0m \u001b[38;5;66;03m# this either calls fftconvolve or this function with method=='direct'\u001b[39;00m\n\u001b[1;32m    238\u001b[0m \u001b[38;5;28;01mif\u001b[39;00m method \u001b[38;5;129;01min\u001b[39;00m (\u001b[38;5;124m'\u001b[39m\u001b[38;5;124mfft\u001b[39m\u001b[38;5;124m'\u001b[39m, \u001b[38;5;124m'\u001b[39m\u001b[38;5;124mauto\u001b[39m\u001b[38;5;124m'\u001b[39m):\n\u001b[0;32m--> 239\u001b[0m     \u001b[38;5;28;01mreturn\u001b[39;00m \u001b[43mconvolve\u001b[49m\u001b[43m(\u001b[49m\u001b[43min1\u001b[49m\u001b[43m,\u001b[49m\u001b[43m \u001b[49m\u001b[43m_reverse_and_conj\u001b[49m\u001b[43m(\u001b[49m\u001b[43min2\u001b[49m\u001b[43m)\u001b[49m\u001b[43m,\u001b[49m\u001b[43m \u001b[49m\u001b[43mmode\u001b[49m\u001b[43m,\u001b[49m\u001b[43m \u001b[49m\u001b[43mmethod\u001b[49m\u001b[43m)\u001b[49m\n\u001b[1;32m    241\u001b[0m \u001b[38;5;28;01melif\u001b[39;00m method \u001b[38;5;241m==\u001b[39m \u001b[38;5;124m'\u001b[39m\u001b[38;5;124mdirect\u001b[39m\u001b[38;5;124m'\u001b[39m:\n\u001b[1;32m    242\u001b[0m     \u001b[38;5;66;03m# fastpath to faster numpy.correlate for 1d inputs when possible\u001b[39;00m\n\u001b[1;32m    243\u001b[0m     \u001b[38;5;28;01mif\u001b[39;00m _np_conv_ok(in1, in2, mode):\n",
      "File \u001b[0;32m~/anaconda3/lib/python3.9/site-packages/scipy/signal/signaltools.py:1408\u001b[0m, in \u001b[0;36mconvolve\u001b[0;34m(in1, in2, mode, method)\u001b[0m\n\u001b[1;32m   1405\u001b[0m \u001b[38;5;28;01melif\u001b[39;00m method \u001b[38;5;241m==\u001b[39m \u001b[38;5;124m'\u001b[39m\u001b[38;5;124mdirect\u001b[39m\u001b[38;5;124m'\u001b[39m:\n\u001b[1;32m   1406\u001b[0m     \u001b[38;5;66;03m# fastpath to faster numpy.convolve for 1d inputs when possible\u001b[39;00m\n\u001b[1;32m   1407\u001b[0m     \u001b[38;5;28;01mif\u001b[39;00m _np_conv_ok(volume, kernel, mode):\n\u001b[0;32m-> 1408\u001b[0m         \u001b[38;5;28;01mreturn\u001b[39;00m \u001b[43mnp\u001b[49m\u001b[38;5;241;43m.\u001b[39;49m\u001b[43mconvolve\u001b[49m\u001b[43m(\u001b[49m\u001b[43mvolume\u001b[49m\u001b[43m,\u001b[49m\u001b[43m \u001b[49m\u001b[43mkernel\u001b[49m\u001b[43m,\u001b[49m\u001b[43m \u001b[49m\u001b[43mmode\u001b[49m\u001b[43m)\u001b[49m\n\u001b[1;32m   1410\u001b[0m     \u001b[38;5;28;01mreturn\u001b[39;00m correlate(volume, _reverse_and_conj(kernel), mode, \u001b[38;5;124m'\u001b[39m\u001b[38;5;124mdirect\u001b[39m\u001b[38;5;124m'\u001b[39m)\n\u001b[1;32m   1411\u001b[0m \u001b[38;5;28;01melse\u001b[39;00m:\n",
      "File \u001b[0;32m<__array_function__ internals>:5\u001b[0m, in \u001b[0;36mconvolve\u001b[0;34m(*args, **kwargs)\u001b[0m\n",
      "File \u001b[0;32m~/anaconda3/lib/python3.9/site-packages/numpy/core/numeric.py:844\u001b[0m, in \u001b[0;36mconvolve\u001b[0;34m(a, v, mode)\u001b[0m\n\u001b[1;32m    842\u001b[0m \u001b[38;5;28;01mif\u001b[39;00m \u001b[38;5;28mlen\u001b[39m(v) \u001b[38;5;241m==\u001b[39m \u001b[38;5;241m0\u001b[39m:\n\u001b[1;32m    843\u001b[0m     \u001b[38;5;28;01mraise\u001b[39;00m \u001b[38;5;167;01mValueError\u001b[39;00m(\u001b[38;5;124m'\u001b[39m\u001b[38;5;124mv cannot be empty\u001b[39m\u001b[38;5;124m'\u001b[39m)\n\u001b[0;32m--> 844\u001b[0m \u001b[38;5;28;01mreturn\u001b[39;00m \u001b[43mmultiarray\u001b[49m\u001b[38;5;241;43m.\u001b[39;49m\u001b[43mcorrelate\u001b[49m\u001b[43m(\u001b[49m\u001b[43ma\u001b[49m\u001b[43m,\u001b[49m\u001b[43m \u001b[49m\u001b[43mv\u001b[49m\u001b[43m[\u001b[49m\u001b[43m:\u001b[49m\u001b[43m:\u001b[49m\u001b[38;5;241;43m-\u001b[39;49m\u001b[38;5;241;43m1\u001b[39;49m\u001b[43m]\u001b[49m\u001b[43m,\u001b[49m\u001b[43m \u001b[49m\u001b[43mmode\u001b[49m\u001b[43m)\u001b[49m\n",
      "\u001b[0;31mKeyboardInterrupt\u001b[0m: "
     ]
    }
   ],
   "source": [
    "U_L_weights3 , loss_dos, test_loss_dos = normal_reg_train_L(surface_soap, surface_dos3, surface_train_index, surface_test_index,\n",
    "                                                            1e-2, 60, 1)\n",
    "print (\"LBFGS Unbiased\")\n",
    "print (\"The train error is {:.4} for SOAP\".format(loss_dos))\n",
    "print (\"The test error is {:.4} for SOAP\".format(test_loss_dos))"
   ]
  },
  {
   "cell_type": "code",
   "execution_count": 135,
   "id": "d6fe123c",
   "metadata": {
    "ExecuteTime": {
     "end_time": "2023-04-25T11:21:51.115360Z",
     "start_time": "2023-04-25T11:17:37.519949Z"
    }
   },
   "outputs": [
    {
     "name": "stderr",
     "output_type": "stream",
     "text": [
      "Epoch: 29: 100%|█████████████████████████████████████████████████████████████████████████████████████████████████████████████████████| 30/30 [04:13<00:00,  8.44s/it, lowest_mse=0.0537, pred_loss=49.2, trigger=0]\n"
     ]
    },
    {
     "name": "stdout",
     "output_type": "stream",
     "text": [
      "LBFGS Unbiased\n",
      "The train error is 49.19 for SOAP\n",
      "The test error is 49.19 for SOAP\n"
     ]
    }
   ],
   "source": [
    "U_L_weights3 , loss_dos, test_loss_dos = normal_reg_train_L(total_soap, total_aligned_dos3,\n",
    "                                                            total_train_index, total_test_index,\n",
    "                                                            1e-2, 30, 1)\n",
    "print (\"LBFGS Unbiased\")\n",
    "print (\"The train error is {:.4} for SOAP\".format(loss_dos))\n",
    "print (\"The test error is {:.4} for SOAP\".format(test_loss_dos))"
   ]
  },
  {
   "cell_type": "markdown",
   "id": "3d11eeae",
   "metadata": {},
   "source": [
    "22.36, 24.29"
   ]
  },
  {
   "cell_type": "code",
   "execution_count": 136,
   "id": "a4db7317",
   "metadata": {
    "ExecuteTime": {
     "end_time": "2023-04-25T11:32:41.829922Z",
     "start_time": "2023-04-25T11:21:51.117999Z"
    }
   },
   "outputs": [
    {
     "name": "stderr",
     "output_type": "stream",
     "text": [
      "Epoch: 1005:  10%|███████████                                                                                                   | 1005/10000 [01:53<15:39,  9.57it/s, lowest_mse=0.0152, pred_loss=46.7, trigger=0]"
     ]
    },
    {
     "name": "stdout",
     "output_type": "stream",
     "text": [
      "The batch_size is now:  32\n"
     ]
    },
    {
     "name": "stderr",
     "output_type": "stream",
     "text": [
      "Epoch: 2007:  20%|█████████████████████▉                                                                                       | 2007/10000 [03:28<12:29, 10.66it/s, lowest_mse=0.00871, pred_loss=35.4, trigger=0]"
     ]
    },
    {
     "name": "stdout",
     "output_type": "stream",
     "text": [
      "The batch_size is now:  64\n"
     ]
    },
    {
     "name": "stderr",
     "output_type": "stream",
     "text": [
      "Epoch: 3009:  30%|████████████████████████████████▊                                                                            | 3009/10000 [04:58<10:23, 11.22it/s, lowest_mse=0.00751, pred_loss=32.8, trigger=0]"
     ]
    },
    {
     "name": "stdout",
     "output_type": "stream",
     "text": [
      "The batch_size is now:  128\n"
     ]
    },
    {
     "name": "stderr",
     "output_type": "stream",
     "text": [
      "Epoch: 4011:  40%|███████████████████████████████████████████▋                                                                 | 4010/10000 [06:27<08:41, 11.50it/s, lowest_mse=0.00695, pred_loss=31.6, trigger=0]"
     ]
    },
    {
     "name": "stdout",
     "output_type": "stream",
     "text": [
      "The batch_size is now:  256\n"
     ]
    },
    {
     "name": "stderr",
     "output_type": "stream",
     "text": [
      "Epoch: 5013:  50%|██████████████████████████████████████████████████████▋                                                      | 5013/10000 [07:56<07:13, 11.51it/s, lowest_mse=0.00656, pred_loss=30.7, trigger=0]"
     ]
    },
    {
     "name": "stdout",
     "output_type": "stream",
     "text": [
      "The batch_size is now:  512\n"
     ]
    },
    {
     "name": "stderr",
     "output_type": "stream",
     "text": [
      "Epoch: 6015:  60%|██████████████████████████████████████████████████████████████████▊                                            | 6015/10000 [09:23<05:45, 11.54it/s, lowest_mse=0.00628, pred_loss=30, trigger=0]"
     ]
    },
    {
     "name": "stdout",
     "output_type": "stream",
     "text": [
      "The batch_size is now:  1024\n"
     ]
    },
    {
     "name": "stderr",
     "output_type": "stream",
     "text": [
      "Epoch: 7015:  70%|████████████████████████████████████████████████████████████████████████████▍                                | 7015/10000 [10:50<04:36, 10.78it/s, lowest_mse=0.00604, pred_loss=29.4, trigger=0]\n"
     ]
    },
    {
     "name": "stdout",
     "output_type": "stream",
     "text": [
      "The batch_size is now:  2048\n",
      "Adam Unbiased\n",
      "The train error is 29.43 for SOAP\n",
      "The test error is 38.52 for SOAP\n"
     ]
    }
   ],
   "source": [
    "weights, loss_dos, test_loss_dos = normal_reg_train_Ad(surface_soap, surface_dos3, surface_train_index, surface_test_index, 1e-2, 10000, 16, 1e-3)\n",
    "print (\"Adam Unbiased\")\n",
    "print (\"The train error is {:.4} for SOAP\".format(loss_dos))\n",
    "print (\"The test error is {:.4} for SOAP\".format(test_loss_dos))"
   ]
  },
  {
   "cell_type": "code",
   "execution_count": null,
   "id": "a885a4d0",
   "metadata": {},
   "outputs": [],
   "source": []
  }
 ],
 "metadata": {
  "kernelspec": {
   "display_name": "Python 3 (ipykernel)",
   "language": "python",
   "name": "python3"
  },
  "language_info": {
   "codemirror_mode": {
    "name": "ipython",
    "version": 3
   },
   "file_extension": ".py",
   "mimetype": "text/x-python",
   "name": "python",
   "nbconvert_exporter": "python",
   "pygments_lexer": "ipython3",
   "version": "3.9.12"
  },
  "toc": {
   "base_numbering": 1,
   "nav_menu": {},
   "number_sections": true,
   "sideBar": true,
   "skip_h1_title": false,
   "title_cell": "Table of Contents",
   "title_sidebar": "Contents",
   "toc_cell": false,
   "toc_position": {
    "height": "calc(100% - 180px)",
    "left": "10px",
    "top": "150px",
    "width": "497.6px"
   },
   "toc_section_display": true,
   "toc_window_display": true
  }
 },
 "nbformat": 4,
 "nbformat_minor": 5
}
