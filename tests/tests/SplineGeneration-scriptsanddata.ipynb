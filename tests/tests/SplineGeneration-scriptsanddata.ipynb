{
 "cells": [
  {
   "cell_type": "code",
   "execution_count": 1,
   "id": "e1cff03f",
   "metadata": {
    "ExecuteTime": {
     "end_time": "2023-04-28T13:09:21.404326Z",
     "start_time": "2023-04-28T13:09:17.082351Z"
    }
   },
   "outputs": [],
   "source": [
    "import os\n",
    "import torch\n",
    "import numpy as np\n",
    "import json\n",
    "import ase\n",
    "import ase.io\n",
    "import dostools.datasets.data as data"
   ]
  },
  {
   "cell_type": "code",
   "execution_count": 7,
   "id": "9f487ac0",
   "metadata": {
    "ExecuteTime": {
     "end_time": "2023-04-28T13:16:48.072544Z",
     "start_time": "2023-04-28T13:16:45.262667Z"
    }
   },
   "outputs": [
    {
     "name": "stdout",
     "output_type": "stream",
     "text": [
      "hi\n"
     ]
    }
   ],
   "source": [
    "with torch.no_grad():\n",
    "    surface_structures = ase.io.read(\"./surfaces.xyz\", \":\")\n",
    "    bulk_structures = data.load_structures(\":\")\n",
    "    total_structures = bulk_structures[:673] + surface_structures + bulk_structures[939:]\n",
    "    n_structures = len(total_structures) #total number of structures\n",
    "    for structure in structures:#implement periodicity\n",
    "        structure.wrap(eps = 1e-12) \n",
    "    n_atoms = np.zeros(n_structures, dtype = int) #stores number of atoms in each structures\n",
    "    for i in range(n_structures):\n",
    "        n_atoms[i] = len(total_structures[i])\n",
    "        \n",
    "    "
   ]
  },
  {
   "cell_type": "code",
   "execution_count": 131,
   "id": "29e771de",
   "metadata": {
    "ExecuteTime": {
     "end_time": "2023-04-29T18:31:46.824960Z",
     "start_time": "2023-04-29T18:31:46.760271Z"
    }
   },
   "outputs": [
    {
     "data": {
      "text/plain": [
       "[Atoms(symbols='Si96', pbc=[True, True, False], cell=[15.361142576428, 15.361142576428, 60.0000002590845]),\n",
       " Atoms(symbols='Si160', pbc=[True, True, False], cell=[15.361142576428, 15.361142576428, 70.0000003886267]),\n",
       " Atoms(symbols='Si144', pbc=[True, True, False], cell=[16.35000126, 16.35000126, 60.900001610000004], dft_force=...),\n",
       " Atoms(symbols='Si144', pbc=[True, True, False], cell=[16.35000126, 16.35000126, 60.900001610000004], dft_force=...),\n",
       " Atoms(symbols='Si144', pbc=[True, True, False], cell=[16.35000126, 16.35000126, 60.900001610000004], dft_force=...),\n",
       " Atoms(symbols='Si144', pbc=[True, True, False], cell=[16.35000126, 16.35000126, 60.900001610000004], dft_force=...),\n",
       " Atoms(symbols='Si144', pbc=[True, True, False], cell=[16.35000126, 16.35000126, 60.900001610000004], dft_force=...),\n",
       " Atoms(symbols='Si144', pbc=[True, True, False], cell=[16.35000126, 16.35000126, 60.900001610000004], dft_force=...),\n",
       " Atoms(symbols='Si144', pbc=[True, True, False], cell=[16.35000126, 16.35000126, 60.900001610000004], dft_force=...),\n",
       " Atoms(symbols='Si144', pbc=[True, True, False], cell=[16.35000126, 16.35000126, 60.900001610000004], dft_force=...),\n",
       " Atoms(symbols='Si144', pbc=[True, True, False], cell=[16.35000126, 16.35000126, 60.900001610000004], dft_force=...),\n",
       " Atoms(symbols='Si144', pbc=[True, True, False], cell=[16.35000126, 16.35000126, 60.900001610000004], dft_force=...),\n",
       " Atoms(symbols='Si144', pbc=[True, True, False], cell=[16.35000126, 16.35000126, 60.900001610000004], dft_force=...),\n",
       " Atoms(symbols='Si144', pbc=[True, True, False], cell=[16.35000126, 16.35000126, 60.900001610000004], dft_force=...),\n",
       " Atoms(symbols='Si144', pbc=[True, True, False], cell=[16.35000126, 16.35000126, 60.900001610000004], dft_force=...),\n",
       " Atoms(symbols='Si144', pbc=[True, True, False], cell=[16.35000126, 16.35000126, 60.900001610000004], dft_force=...),\n",
       " Atoms(symbols='Si144', pbc=[True, True, False], cell=[16.35000126, 16.35000126, 60.900001610000004], dft_force=...),\n",
       " Atoms(symbols='Si144', pbc=[True, True, False], cell=[16.35000126, 16.35000126, 60.900001610000004], dft_force=...),\n",
       " Atoms(symbols='Si144', pbc=[True, True, False], cell=[16.35000126, 16.35000126, 60.900001610000004], dft_force=...),\n",
       " Atoms(symbols='Si144', pbc=[True, True, False], cell=[16.35000126, 16.35000126, 60.900001610000004], dft_force=...),\n",
       " Atoms(symbols='Si144', pbc=[True, True, False], cell=[16.35000126, 16.35000126, 60.900001610000004], dft_force=...),\n",
       " Atoms(symbols='Si144', pbc=[True, True, False], cell=[16.350001, 16.350001, 60.900002], dft_force=..., force_ewald=..., force_locpot=..., force_nlpot=..., frac_pos=..., gap_force=..., map_shift=..., n_neighb=...),\n",
       " Atoms(symbols='Si144', pbc=[True, True, False], cell=[16.350001, 16.350001, 60.900002], dft_force=..., force_ewald=..., force_locpot=..., force_nlpot=..., frac_pos=..., gap_force=..., map_shift=..., n_neighb=...),\n",
       " Atoms(symbols='Si144', pbc=[True, True, False], cell=[16.350001, 16.350001, 60.900002], dft_force=..., force_ewald=..., force_locpot=..., force_nlpot=..., frac_pos=..., gap_force=..., map_shift=..., n_neighb=...),\n",
       " Atoms(symbols='Si144', pbc=[True, True, False], cell=[16.350001, 16.350001, 60.900002], dft_force=..., force_ewald=..., force_locpot=..., force_nlpot=..., frac_pos=..., gap_force=..., map_shift=..., n_neighb=...),\n",
       " Atoms(symbols='Si144', pbc=[True, True, False], cell=[16.350001, 16.350001, 60.900002], dft_force=..., force_ewald=..., force_locpot=..., force_nlpot=..., frac_pos=..., gap_force=..., map_shift=..., n_neighb=...),\n",
       " Atoms(symbols='Si144', pbc=[True, True, False], cell=[16.350001, 16.350001, 60.900002], dft_force=..., force_ewald=..., force_locpot=..., force_nlpot=..., frac_pos=..., gap_force=..., map_shift=..., n_neighb=...),\n",
       " Atoms(symbols='Si144', pbc=[True, True, False], cell=[16.350001, 16.350001, 60.900002], dft_force=..., force_ewald=..., force_locpot=..., force_nlpot=..., frac_pos=..., gap_force=..., map_shift=..., n_neighb=...),\n",
       " Atoms(symbols='Si144', pbc=[True, True, False], cell=[16.350001, 16.350001, 60.900002], dft_force=..., force_ewald=..., force_locpot=..., force_nlpot=..., frac_pos=..., gap_force=..., map_shift=..., n_neighb=...),\n",
       " Atoms(symbols='Si144', pbc=[True, True, False], cell=[16.350001, 16.350001, 60.900002], dft_force=..., force_ewald=..., force_locpot=..., force_nlpot=..., frac_pos=..., gap_force=..., map_shift=..., n_neighb=...),\n",
       " Atoms(symbols='Si144', pbc=[True, True, False], cell=[16.350001, 16.350001, 60.900002], dft_force=..., force_ewald=..., force_locpot=..., force_nlpot=..., frac_pos=..., gap_force=..., map_shift=..., n_neighb=...),\n",
       " Atoms(symbols='Si108', pbc=[True, True, False], cell=[11.56119689, 16.35000126, 66.56119805], dft_force=...),\n",
       " Atoms(symbols='Si108', pbc=[True, True, False], cell=[11.56119689, 16.35000126, 66.56119805], dft_force=...),\n",
       " Atoms(symbols='Si108', pbc=[True, True, False], cell=[11.56119689, 16.35000126, 66.56119805], dft_force=...),\n",
       " Atoms(symbols='Si108', pbc=[True, True, False], cell=[11.56119689, 16.35000126, 66.56119805], dft_force=...),\n",
       " Atoms(symbols='Si108', pbc=[True, True, False], cell=[11.56119689, 16.35000126, 66.56119805], dft_force=...),\n",
       " Atoms(symbols='Si108', pbc=[True, True, False], cell=[11.56119689, 16.35000126, 66.56119805], dft_force=...),\n",
       " Atoms(symbols='Si108', pbc=[True, True, False], cell=[11.56119689, 16.35000126, 66.56119805], dft_force=...),\n",
       " Atoms(symbols='Si108', pbc=[True, True, False], cell=[11.56119689, 16.35000126, 66.56119805], dft_force=...),\n",
       " Atoms(symbols='Si108', pbc=[True, True, False], cell=[11.56119689, 16.35000126, 66.56119805], dft_force=...),\n",
       " Atoms(symbols='Si108', pbc=[True, True, False], cell=[11.56119689, 16.35000126, 66.56119805], dft_force=...),\n",
       " Atoms(symbols='Si108', pbc=[True, True, False], cell=[11.56119689, 16.35000126, 66.56119805], dft_force=...),\n",
       " Atoms(symbols='Si108', pbc=[True, True, False], cell=[11.56119689, 16.35000126, 66.56119805], dft_force=...),\n",
       " Atoms(symbols='Si108', pbc=[True, True, False], cell=[11.56119689, 16.35000126, 66.56119805], dft_force=...),\n",
       " Atoms(symbols='Si108', pbc=[True, True, False], cell=[11.56119689, 16.35000126, 66.56119805], dft_force=...),\n",
       " Atoms(symbols='Si108', pbc=[True, True, False], cell=[11.561197, 16.350001, 66.561198], dft_force=..., force_ewald=..., force_locpot=..., force_nlpot=..., frac_pos=..., gap_force=..., map_shift=..., n_neighb=...),\n",
       " Atoms(symbols='Si108', pbc=[True, True, False], cell=[11.561197, 16.350001, 66.561198], dft_force=..., force_ewald=..., force_locpot=..., force_nlpot=..., frac_pos=..., gap_force=..., map_shift=..., n_neighb=...),\n",
       " Atoms(symbols='Si108', pbc=[True, True, False], cell=[11.561197, 16.350001, 66.561198], dft_force=..., force_ewald=..., force_locpot=..., force_nlpot=..., frac_pos=..., gap_force=..., map_shift=..., n_neighb=...),\n",
       " Atoms(symbols='Si108', pbc=[True, True, False], cell=[11.561197, 16.350001, 66.561198], dft_force=..., force_ewald=..., force_locpot=..., force_nlpot=..., frac_pos=..., gap_force=..., map_shift=..., n_neighb=...),\n",
       " Atoms(symbols='Si108', pbc=[True, True, False], cell=[11.561197, 16.350001, 66.561198], dft_force=..., force_ewald=..., force_locpot=..., force_nlpot=..., frac_pos=..., gap_force=..., map_shift=..., n_neighb=...),\n",
       " Atoms(symbols='Si108', pbc=[True, True, False], cell=[11.561197, 16.350001, 66.561198], dft_force=..., force_ewald=..., force_locpot=..., force_nlpot=..., frac_pos=..., gap_force=..., map_shift=..., n_neighb=...),\n",
       " Atoms(symbols='Si108', pbc=[True, True, False], cell=[11.561197, 16.350001, 66.561198], dft_force=..., force_ewald=..., force_locpot=..., force_nlpot=..., frac_pos=..., gap_force=..., map_shift=..., n_neighb=...),\n",
       " Atoms(symbols='Si108', pbc=[True, True, False], cell=[11.561197, 16.350001, 66.561198], dft_force=..., force_ewald=..., force_locpot=..., force_nlpot=..., frac_pos=..., gap_force=..., map_shift=..., n_neighb=...),\n",
       " Atoms(symbols='Si108', pbc=[True, True, False], cell=[11.561197, 16.350001, 66.561198], dft_force=..., force_ewald=..., force_locpot=..., force_nlpot=..., frac_pos=..., gap_force=..., map_shift=..., n_neighb=...),\n",
       " Atoms(symbols='Si108', pbc=[True, True, False], cell=[11.561197, 16.350001, 66.561198], dft_force=..., force_ewald=..., force_locpot=..., force_nlpot=..., frac_pos=..., gap_force=..., map_shift=..., n_neighb=...),\n",
       " Atoms(symbols='Si108', pbc=[True, True, False], cell=[11.561197, 16.350001, 66.561198], dft_force=..., force_ewald=..., force_locpot=..., force_nlpot=..., frac_pos=..., gap_force=..., map_shift=..., n_neighb=...),\n",
       " Atoms(symbols='Si108', pbc=[True, True, False], cell=[11.561197, 16.350001, 66.561198], dft_force=..., force_ewald=..., force_locpot=..., force_nlpot=..., frac_pos=..., gap_force=..., map_shift=..., n_neighb=...),\n",
       " Atoms(symbols='Si96', pbc=[True, True, False], cell=[13.325224, 20.0, 55.386644000000004], dft_force=..., force_ewald=..., force_locpot=..., force_nlpot=..., frac_pos=..., gap_force=..., map_shift=..., n_neighb=...),\n",
       " Atoms(symbols='Si96', pbc=[True, True, False], cell=[13.325224, 20.0, 55.386644000000004], dft_force=..., force_ewald=..., force_locpot=..., force_nlpot=..., frac_pos=..., gap_force=..., map_shift=..., n_neighb=...),\n",
       " Atoms(symbols='Si96', pbc=[True, True, False], cell=[13.325224, 20.0, 55.386644000000004], dft_force=..., force_ewald=..., force_locpot=..., force_nlpot=..., frac_pos=..., gap_force=..., map_shift=..., n_neighb=...),\n",
       " Atoms(symbols='Si96', pbc=[True, True, False], cell=[13.325224, 20.0, 55.386644000000004], dft_force=..., force_ewald=..., force_locpot=..., force_nlpot=..., frac_pos=..., gap_force=..., map_shift=..., n_neighb=...),\n",
       " Atoms(symbols='Si96', pbc=[True, True, False], cell=[13.325224, 20.0, 55.386644000000004], dft_force=..., force_ewald=..., force_locpot=..., force_nlpot=..., frac_pos=..., gap_force=..., map_shift=..., n_neighb=...),\n",
       " Atoms(symbols='Si96', pbc=[True, True, False], cell=[13.325224, 20.0, 55.386644000000004], dft_force=..., force_ewald=..., force_locpot=..., force_nlpot=..., frac_pos=..., gap_force=..., map_shift=..., n_neighb=...),\n",
       " Atoms(symbols='Si96', pbc=[True, True, False], cell=[13.325224, 20.0, 55.386644000000004], dft_force=..., force_ewald=..., force_locpot=..., force_nlpot=..., frac_pos=..., gap_force=..., map_shift=..., n_neighb=...),\n",
       " Atoms(symbols='Si96', pbc=[True, True, False], cell=[13.325224, 20.0, 55.386644000000004], dft_force=..., force_ewald=..., force_locpot=..., force_nlpot=..., frac_pos=..., gap_force=..., map_shift=..., n_neighb=...),\n",
       " Atoms(symbols='Si96', pbc=[True, True, False], cell=[13.325224, 20.0, 55.386644000000004], dft_force=..., force_ewald=..., force_locpot=..., force_nlpot=..., frac_pos=..., gap_force=..., map_shift=..., n_neighb=...),\n",
       " Atoms(symbols='Si96', pbc=[True, True, False], cell=[13.325224, 20.0, 55.386644000000004], dft_force=..., force_ewald=..., force_locpot=..., force_nlpot=..., frac_pos=..., gap_force=..., map_shift=..., n_neighb=...),\n",
       " Atoms(symbols='Si96', pbc=[True, True, False], cell=[13.325224, 20.0, 55.386644000000004], dft_force=..., force_ewald=..., force_locpot=..., force_nlpot=..., frac_pos=..., gap_force=..., map_shift=..., n_neighb=...),\n",
       " Atoms(symbols='Si96', pbc=[True, True, False], cell=[13.325224, 20.0, 55.386644000000004], dft_force=..., force_ewald=..., force_locpot=..., force_nlpot=..., frac_pos=..., gap_force=..., map_shift=..., n_neighb=...),\n",
       " Atoms(symbols='Si96', pbc=[True, True, False], cell=[13.325224, 20.0, 55.386644000000004], dft_force=..., force_ewald=..., force_locpot=..., force_nlpot=..., frac_pos=..., gap_force=..., map_shift=..., n_neighb=...),\n",
       " Atoms(symbols='Si96', pbc=[True, True, False], cell=[13.325224, 20.0, 55.386644000000004], dft_force=..., force_ewald=..., force_locpot=..., force_nlpot=..., frac_pos=..., gap_force=..., map_shift=..., n_neighb=...),\n",
       " Atoms(symbols='Si96', pbc=[True, True, False], cell=[13.325224, 20.0, 55.386644000000004], dft_force=..., force_ewald=..., force_locpot=..., force_nlpot=..., frac_pos=..., gap_force=..., map_shift=..., n_neighb=...),\n",
       " Atoms(symbols='Si96', pbc=[True, True, False], cell=[13.325224, 20.0, 55.386644000000004], dft_force=..., force_ewald=..., force_locpot=..., force_nlpot=..., frac_pos=..., gap_force=..., map_shift=..., n_neighb=...),\n",
       " Atoms(symbols='Si96', pbc=[True, True, False], cell=[13.325224, 20.0, 55.386644000000004], dft_force=..., force_ewald=..., force_locpot=..., force_nlpot=..., frac_pos=..., gap_force=..., map_shift=..., n_neighb=...),\n",
       " Atoms(symbols='Si96', pbc=[True, True, False], cell=[13.325224, 20.0, 55.386644000000004], dft_force=..., force_ewald=..., force_locpot=..., force_nlpot=..., frac_pos=..., gap_force=..., map_shift=..., n_neighb=...),\n",
       " Atoms(symbols='Si96', pbc=[True, True, False], cell=[13.325224, 20.0, 55.386644000000004], dft_force=..., force_ewald=..., force_locpot=..., force_nlpot=..., frac_pos=..., gap_force=..., map_shift=..., n_neighb=...),\n",
       " Atoms(symbols='Si96', pbc=[True, True, False], cell=[13.325224, 20.0, 55.386644000000004], dft_force=..., force_ewald=..., force_locpot=..., force_nlpot=..., frac_pos=..., gap_force=..., map_shift=..., n_neighb=...),\n",
       " Atoms(symbols='Si96', pbc=[True, True, False], cell=[13.325224, 20.0, 55.386644000000004], dft_force=..., force_ewald=..., force_locpot=..., force_nlpot=..., frac_pos=..., gap_force=..., map_shift=..., n_neighb=...),\n",
       " Atoms(symbols='Si96', pbc=[True, True, False], cell=[13.325224, 20.0, 55.386644000000004], dft_force=..., force_ewald=..., force_locpot=..., force_nlpot=..., frac_pos=..., gap_force=..., map_shift=..., n_neighb=...),\n",
       " Atoms(symbols='Si96', pbc=[True, True, False], cell=[13.325224, 20.0, 55.386644000000004], dft_force=..., force_ewald=..., force_locpot=..., force_nlpot=..., frac_pos=..., gap_force=..., map_shift=..., n_neighb=...),\n",
       " Atoms(symbols='Si96', pbc=[True, True, False], cell=[13.325224, 20.0, 55.386644000000004], dft_force=..., force_ewald=..., force_locpot=..., force_nlpot=..., frac_pos=..., gap_force=..., map_shift=..., n_neighb=...),\n",
       " Atoms(symbols='Si96', pbc=[True, True, False], cell=[13.325224, 20.0, 55.386644000000004], dft_force=..., force_ewald=..., force_locpot=..., force_nlpot=..., frac_pos=..., gap_force=..., map_shift=..., n_neighb=...),\n",
       " Atoms(symbols='Si96', pbc=[True, True, False], cell=[13.325224, 20.0, 55.386644000000004], dft_force=..., force_ewald=..., force_locpot=..., force_nlpot=..., frac_pos=..., gap_force=..., map_shift=..., n_neighb=...),\n",
       " Atoms(symbols='Si96', pbc=[True, True, False], cell=[13.325224, 20.0, 55.386644000000004], dft_force=..., force_ewald=..., force_locpot=..., force_nlpot=..., frac_pos=..., gap_force=..., map_shift=..., n_neighb=...),\n",
       " Atoms(symbols='Si96', pbc=[True, True, False], cell=[13.325224, 20.0, 55.386644000000004], dft_force=..., force_ewald=..., force_locpot=..., force_nlpot=..., frac_pos=..., gap_force=..., map_shift=..., n_neighb=...),\n",
       " Atoms(symbols='Si96', pbc=[True, True, False], cell=[13.325225, 20.000002, 55.386645], dft_force=..., force_ewald=..., force_locpot=..., force_nlpot=..., frac_pos=..., momenta=..., velo=...),\n",
       " Atoms(symbols='Si96', pbc=[True, True, False], cell=[13.325225, 20.000002, 55.386645], dft_force=..., force_ewald=..., force_locpot=..., force_nlpot=..., frac_pos=..., momenta=..., velo=...),\n",
       " Atoms(symbols='Si96', pbc=[True, True, False], cell=[13.325225, 20.000002, 55.386645], dft_force=..., force_ewald=..., force_locpot=..., force_nlpot=..., frac_pos=..., momenta=..., velo=...),\n",
       " Atoms(symbols='Si96', pbc=[True, True, False], cell=[13.325225, 20.000002, 55.386645], dft_force=..., force_ewald=..., force_locpot=..., force_nlpot=..., frac_pos=..., momenta=..., velo=...),\n",
       " Atoms(symbols='Si96', pbc=[True, True, False], cell=[13.325225, 20.000002, 55.386645], dft_force=..., force_ewald=..., force_locpot=..., force_nlpot=..., frac_pos=..., momenta=..., velo=...),\n",
       " Atoms(symbols='Si96', pbc=[True, True, False], cell=[13.325225, 20.000002, 55.386645], dft_force=..., force_ewald=..., force_locpot=..., force_nlpot=..., frac_pos=..., momenta=..., velo=...),\n",
       " Atoms(symbols='Si96', pbc=[True, True, False], cell=[13.325225, 20.000002, 55.386645], dft_force=..., force_ewald=..., force_locpot=..., force_nlpot=..., frac_pos=..., momenta=..., velo=...),\n",
       " Atoms(symbols='Si96', pbc=[True, True, False], cell=[13.325225, 20.000002, 55.386645], dft_force=..., force_ewald=..., force_locpot=..., force_nlpot=..., frac_pos=..., momenta=..., velo=...),\n",
       " Atoms(symbols='Si96', pbc=[True, True, False], cell=[13.325225, 20.000002, 55.386645], dft_force=..., force_ewald=..., force_locpot=..., force_nlpot=..., frac_pos=..., momenta=..., velo=...),\n",
       " Atoms(symbols='Si96', pbc=[True, True, False], cell=[13.325225, 20.000002, 55.386645], dft_force=..., force_ewald=..., force_locpot=..., force_nlpot=..., frac_pos=..., momenta=..., velo=...),\n",
       " Atoms(symbols='Si96', pbc=[True, True, False], cell=[13.325225, 20.000002, 55.386645], dft_force=..., force_ewald=..., force_locpot=..., force_nlpot=..., frac_pos=..., momenta=..., velo=...),\n",
       " Atoms(symbols='Si96', pbc=[True, True, False], cell=[13.325225, 20.000002, 55.386645], dft_force=..., force_ewald=..., force_locpot=..., force_nlpot=..., frac_pos=..., momenta=..., velo=...),\n",
       " Atoms(symbols='Si96', pbc=[True, True, False], cell=[13.325225, 20.000002, 55.386645], dft_force=..., force_ewald=..., force_locpot=..., force_nlpot=..., frac_pos=..., momenta=..., velo=...),\n",
       " Atoms(symbols='Si96', pbc=[True, True, False], cell=[13.325225, 20.000002, 55.386645], dft_force=..., force_ewald=..., force_locpot=..., force_nlpot=..., frac_pos=..., momenta=..., velo=...),\n",
       " Atoms(symbols='Si96', pbc=[True, True, False], cell=[13.325225, 20.000002, 55.386645], dft_force=..., force_ewald=..., force_locpot=..., force_nlpot=..., frac_pos=..., momenta=..., velo=...),\n",
       " Atoms(symbols='Si96', pbc=[True, True, False], cell=[13.325225, 20.000002, 55.386645], dft_force=..., force_ewald=..., force_locpot=..., force_nlpot=..., frac_pos=..., momenta=..., velo=...),\n",
       " Atoms(symbols='Si96', pbc=[True, True, False], cell=[13.325225, 20.000002, 55.386645], dft_force=..., force_ewald=..., force_locpot=..., force_nlpot=..., frac_pos=..., momenta=..., velo=...),\n",
       " Atoms(symbols='Si96', pbc=[True, True, False], cell=[13.325225, 20.000002, 55.386645], dft_force=..., force_ewald=..., force_locpot=..., force_nlpot=..., frac_pos=..., momenta=..., velo=...),\n",
       " Atoms(symbols='Si96', pbc=[True, True, False], cell=[13.325225, 20.000002, 55.386645], dft_force=..., force_ewald=..., force_locpot=..., force_nlpot=..., frac_pos=..., momenta=..., velo=...),\n",
       " Atoms(symbols='Si96', pbc=[True, True, False], cell=[13.325224, 15.0, 55.386644000000004], dft_force=..., frac_pos=..., map_shift=..., n_neighb=...),\n",
       " Atoms(symbols='Si96', pbc=[True, True, False], cell=[13.325224, 15.0, 55.386644000000004], dft_force=..., frac_pos=..., map_shift=..., n_neighb=...),\n",
       " Atoms(symbols='Si96', pbc=[True, True, False], cell=[13.325224, 15.0, 55.386644000000004], dft_force=..., frac_pos=..., map_shift=..., n_neighb=...),\n",
       " Atoms(symbols='Si96', pbc=[True, True, False], cell=[13.325224, 15.0, 55.386644000000004], dft_force=..., frac_pos=..., map_shift=..., n_neighb=...),\n",
       " Atoms(symbols='Si96', pbc=[True, True, False], cell=[13.325224, 15.0, 55.386644000000004], dft_force=..., frac_pos=..., map_shift=..., n_neighb=...),\n",
       " Atoms(symbols='Si96', pbc=[True, True, False], cell=[13.325224, 15.0, 55.386644000000004], dft_force=..., frac_pos=..., map_shift=..., n_neighb=...),\n",
       " Atoms(symbols='Si96', pbc=[True, True, False], cell=[13.325224, 15.0, 55.386644000000004], dft_force=..., frac_pos=..., map_shift=..., n_neighb=...),\n",
       " Atoms(symbols='Si96', pbc=[True, True, False], cell=[13.325224, 15.0, 55.386644000000004], dft_force=..., frac_pos=..., map_shift=..., n_neighb=...),\n",
       " Atoms(symbols='Si96', pbc=[True, True, False], cell=[13.325224, 15.0, 55.386644000000004], dft_force=..., frac_pos=..., map_shift=..., n_neighb=...),\n",
       " Atoms(symbols='Si96', pbc=[True, True, False], cell=[13.325224, 15.0, 55.386644000000004], dft_force=..., frac_pos=..., map_shift=..., n_neighb=...),\n",
       " Atoms(symbols='Si96', pbc=[True, True, False], cell=[13.325224, 15.0, 55.386644000000004], dft_force=..., frac_pos=..., map_shift=..., n_neighb=...),\n",
       " Atoms(symbols='Si96', pbc=[True, True, False], cell=[13.325224, 15.0, 55.386644000000004], dft_force=..., frac_pos=..., map_shift=..., n_neighb=...),\n",
       " Atoms(symbols='Si96', pbc=[True, True, False], cell=[13.325224, 15.0, 55.386644000000004], dft_force=..., frac_pos=..., map_shift=..., n_neighb=...),\n",
       " Atoms(symbols='Si96', pbc=[True, True, False], cell=[13.325224, 15.0, 55.386644000000004], dft_force=..., frac_pos=..., map_shift=..., n_neighb=...),\n",
       " Atoms(symbols='Si96', pbc=[True, True, False], cell=[13.325224, 15.0, 55.386644000000004], dft_force=..., frac_pos=..., map_shift=..., n_neighb=...),\n",
       " Atoms(symbols='Si96', pbc=[True, True, False], cell=[13.325224, 15.0, 55.386644000000004], dft_force=..., frac_pos=..., map_shift=..., n_neighb=...),\n",
       " Atoms(symbols='Si96', pbc=[True, True, False], cell=[13.325224, 15.0, 55.386644000000004], dft_force=..., frac_pos=..., map_shift=..., n_neighb=...),\n",
       " Atoms(symbols='Si96', pbc=[True, True, False], cell=[13.325224, 15.0, 55.386644000000004], dft_force=..., frac_pos=..., map_shift=..., n_neighb=...),\n",
       " Atoms(symbols='Si96', pbc=[True, True, False], cell=[13.325224, 15.0, 55.386644000000004], dft_force=..., frac_pos=..., map_shift=..., n_neighb=...),\n",
       " Atoms(symbols='Si96', pbc=[True, True, False], cell=[13.325224, 15.0, 55.386644000000004], dft_force=..., frac_pos=..., map_shift=..., n_neighb=...),\n",
       " Atoms(symbols='Si96', pbc=[True, True, False], cell=[13.325224, 15.0, 55.386644000000004], dft_force=..., frac_pos=..., map_shift=..., n_neighb=...),\n",
       " Atoms(symbols='Si96', pbc=[True, True, False], cell=[13.325224, 15.0, 55.386644000000004], dft_force=..., frac_pos=..., map_shift=..., n_neighb=...),\n",
       " Atoms(symbols='Si96', pbc=[True, True, False], cell=[13.325224, 15.0, 55.386644000000004], dft_force=..., frac_pos=..., map_shift=..., n_neighb=...),\n",
       " Atoms(symbols='Si96', pbc=[True, True, False], cell=[13.325224, 15.0, 55.386644000000004], dft_force=..., frac_pos=..., map_shift=..., n_neighb=...),\n",
       " Atoms(symbols='Si96', pbc=[True, True, False], cell=[13.325224, 15.0, 55.386644000000004], dft_force=..., frac_pos=..., map_shift=..., n_neighb=...),\n",
       " Atoms(symbols='Si96', pbc=[True, True, False], cell=[13.325224, 15.0, 55.386644000000004], dft_force=..., frac_pos=..., map_shift=..., n_neighb=...),\n",
       " Atoms(symbols='Si96', pbc=[True, True, False], cell=[13.325224, 15.0, 55.386644000000004], dft_force=..., frac_pos=..., map_shift=..., n_neighb=...),\n",
       " Atoms(symbols='Si96', pbc=[True, True, False], cell=[13.325224, 15.0, 55.386644000000004], dft_force=..., frac_pos=..., map_shift=..., n_neighb=...),\n",
       " Atoms(symbols='Si96', pbc=[True, True, False], cell=[13.325224, 15.0, 55.386644000000004], dft_force=..., frac_pos=..., map_shift=..., n_neighb=...),\n",
       " Atoms(symbols='Si96', pbc=[True, True, False], cell=[13.325224, 15.0, 55.386644000000004], dft_force=..., frac_pos=..., map_shift=..., n_neighb=...),\n",
       " Atoms(symbols='Si96', pbc=[True, True, False], cell=[13.325224, 15.0, 55.386644000000004], dft_force=..., frac_pos=..., map_shift=..., n_neighb=...),\n",
       " Atoms(symbols='Si96', pbc=[True, True, False], cell=[13.325224, 15.0, 55.386644000000004], dft_force=..., frac_pos=..., map_shift=..., n_neighb=...),\n",
       " Atoms(symbols='Si96', pbc=[True, True, False], cell=[13.325224, 15.0, 55.386644000000004], dft_force=..., frac_pos=..., map_shift=..., n_neighb=...),\n",
       " Atoms(symbols='Si96', pbc=[True, True, False], cell=[13.325224, 15.0, 55.386644000000004], dft_force=..., frac_pos=..., map_shift=..., n_neighb=...),\n",
       " Atoms(symbols='Si96', pbc=[True, True, False], cell=[13.325224, 15.0, 55.386644000000004], dft_force=..., frac_pos=..., map_shift=..., n_neighb=...),\n",
       " Atoms(symbols='Si96', pbc=[True, True, False], cell=[13.325224, 15.0, 55.386644000000004], dft_force=..., frac_pos=..., map_shift=..., n_neighb=...),\n",
       " Atoms(symbols='Si96', pbc=[True, True, False], cell=[13.325224, 15.0, 55.386644000000004], dft_force=..., frac_pos=..., map_shift=..., n_neighb=...),\n",
       " Atoms(symbols='Si96', pbc=[True, True, False], cell=[13.325224, 15.0, 55.386644000000004], dft_force=..., frac_pos=..., map_shift=..., n_neighb=...),\n",
       " Atoms(symbols='Si96', pbc=[True, True, False], cell=[13.325224, 15.0, 55.386644000000004], dft_force=..., frac_pos=..., map_shift=..., n_neighb=...),\n",
       " Atoms(symbols='Si96', pbc=[True, True, False], cell=[13.325224, 15.0, 55.386644000000004], dft_force=..., frac_pos=..., map_shift=..., n_neighb=...),\n",
       " Atoms(symbols='Si96', pbc=[True, True, False], cell=[13.325224, 15.0, 55.386644000000004], dft_force=..., frac_pos=..., map_shift=..., n_neighb=...),\n",
       " Atoms(symbols='Si96', pbc=[True, True, False], cell=[13.325224, 15.0, 55.386644000000004], dft_force=..., frac_pos=..., map_shift=..., n_neighb=...),\n",
       " Atoms(symbols='Si96', pbc=[True, True, False], cell=[13.325224, 15.0, 55.386644000000004], dft_force=..., frac_pos=..., map_shift=..., n_neighb=...),\n",
       " Atoms(symbols='Si96', pbc=[True, True, False], cell=[13.325224, 15.0, 55.386644000000004], dft_force=..., frac_pos=..., map_shift=..., n_neighb=...),\n",
       " Atoms(symbols='Si96', pbc=[True, True, False], cell=[13.325224, 15.0, 55.386644000000004], dft_force=..., frac_pos=..., map_shift=..., n_neighb=...),\n",
       " Atoms(symbols='Si96', pbc=[True, True, False], cell=[13.325224, 15.0, 55.386644000000004], dft_force=..., frac_pos=..., map_shift=..., n_neighb=...),\n",
       " Atoms(symbols='Si96', pbc=[True, True, False], cell=[13.325224, 15.0, 55.386644000000004], dft_force=..., frac_pos=..., map_shift=..., n_neighb=...),\n",
       " Atoms(symbols='Si96', pbc=[True, True, False], cell=[13.325224, 15.0, 55.386644000000004], dft_force=..., frac_pos=..., map_shift=..., n_neighb=...),\n",
       " Atoms(symbols='Si96', pbc=[True, True, False], cell=[13.325224, 15.0, 55.386644000000004], dft_force=..., frac_pos=..., map_shift=..., n_neighb=...),\n",
       " Atoms(symbols='Si96', pbc=[True, True, False], cell=[13.325224, 15.0, 55.386644000000004], dft_force=..., frac_pos=..., map_shift=..., n_neighb=...)]"
      ]
     },
     "execution_count": 131,
     "metadata": {},
     "output_type": "execute_result"
    }
   ],
   "source": [
    "total_structures[673:673+154]"
   ]
  },
  {
   "cell_type": "code",
   "execution_count": 129,
   "id": "c6e08683",
   "metadata": {
    "ExecuteTime": {
     "end_time": "2023-04-29T18:31:09.615485Z",
     "start_time": "2023-04-29T18:31:09.609934Z"
    }
   },
   "outputs": [
    {
     "data": {
      "text/plain": [
       "927"
      ]
     },
     "execution_count": 129,
     "metadata": {},
     "output_type": "execute_result"
    }
   ],
   "source": [
    "len(total_structures)"
   ]
  },
  {
   "cell_type": "code",
   "execution_count": 11,
   "id": "2bd2d50e",
   "metadata": {
    "ExecuteTime": {
     "end_time": "2023-04-28T13:20:09.973261Z",
     "start_time": "2023-04-28T13:20:09.077167Z"
    }
   },
   "outputs": [],
   "source": [
    "ase.io.write(\"total_structures.xyz\", total_structures)"
   ]
  },
  {
   "cell_type": "code",
   "execution_count": 62,
   "id": "b27cb0ae",
   "metadata": {
    "ExecuteTime": {
     "end_time": "2023-04-28T13:58:58.390000Z",
     "start_time": "2023-04-28T13:58:50.789350Z"
    }
   },
   "outputs": [
    {
     "name": "stdout",
     "output_type": "stream",
     "text": [
      "This file contains the eigenenergies and their corresponding kpoints of the training Silicon structures generated using DFT PBE as implemented in FHI-AIMS version 171221_1 with the ``tight'' settings\n"
     ]
    },
    {
     "ename": "RuntimeError",
     "evalue": "The size of tensor a (927) must match the size of tensor b (1039) at non-singleton dimension 0",
     "output_type": "error",
     "traceback": [
      "\u001b[0;31m---------------------------------------------------------------------------\u001b[0m",
      "\u001b[0;31mRuntimeError\u001b[0m                              Traceback (most recent call last)",
      "Input \u001b[0;32mIn [62]\u001b[0m, in \u001b[0;36m<cell line: 7>\u001b[0;34m()\u001b[0m\n\u001b[1;32m      5\u001b[0m normalization_eiglength \u001b[38;5;241m=\u001b[39m [\u001b[38;5;28mlen\u001b[39m(i) \u001b[38;5;28;01mfor\u001b[39;00m i \u001b[38;5;129;01min\u001b[39;00m eigen_energies]\n\u001b[1;32m      6\u001b[0m normalization_eiglength_t \u001b[38;5;241m=\u001b[39m torch\u001b[38;5;241m.\u001b[39mtensor(normalization_eiglength)\n\u001b[0;32m----> 7\u001b[0m normalization \u001b[38;5;241m=\u001b[39m \u001b[38;5;241;43m1\u001b[39;49m\u001b[38;5;241;43m/\u001b[39;49m\u001b[43mtorch\u001b[49m\u001b[38;5;241;43m.\u001b[39;49m\u001b[43msqrt\u001b[49m\u001b[43m(\u001b[49m\u001b[38;5;241;43m2\u001b[39;49m\u001b[38;5;241;43m*\u001b[39;49m\u001b[43mtorch\u001b[49m\u001b[38;5;241;43m.\u001b[39;49m\u001b[43mtensor\u001b[49m\u001b[43m(\u001b[49m\u001b[43mnp\u001b[49m\u001b[38;5;241;43m.\u001b[39;49m\u001b[43mpi\u001b[49m\u001b[43m)\u001b[49m\u001b[38;5;241;43m*\u001b[39;49m\u001b[43msigma\u001b[49m\u001b[38;5;241;43m*\u001b[39;49m\u001b[38;5;241;43m*\u001b[39;49m\u001b[38;5;241;43m2\u001b[39;49m\u001b[43m)\u001b[49m\u001b[38;5;241;43m/\u001b[39;49m\u001b[43mn_atoms\u001b[49m\u001b[38;5;241;43m/\u001b[39;49m\u001b[43mnormalization_eiglength_t\u001b[49m\n\u001b[1;32m      8\u001b[0m normalization_quartic \u001b[38;5;241m=\u001b[39m \u001b[38;5;241m1\u001b[39m\u001b[38;5;241m/\u001b[39mn_atoms\u001b[38;5;241m/\u001b[39mnormalization_eiglength_t\n",
      "\u001b[0;31mRuntimeError\u001b[0m: The size of tensor a (927) must match the size of tensor b (1039) at non-singleton dimension 0"
     ]
    }
   ],
   "source": [
    "eigen_energies, emin, emax = data.load_eigenenergies(unpack = True, n_structures = 1039)\n",
    "full_eigen_energies = [torch.tensor(i.flatten()) for i in eigen_energies]\n",
    "eigenenergy_length = [len(i) for i in full_eigen_energies]\n",
    "eigenenergy_length_t = torch.tensor(eigenenergy_length)\n",
    "normalization_eiglength = [len(i) for i in eigen_energies]\n",
    "normalization_eiglength_t = torch.tensor(normalization_eiglength)\n",
    "# normalization = 1/torch.sqrt(2*torch.tensor(np.pi)*sigma**2)/n_atoms/normalization_eiglength_t\n",
    "# normalization_quartic = 1/n_atoms/normalization_eiglength_t"
   ]
  },
  {
   "cell_type": "code",
   "execution_count": 65,
   "id": "ec7444ec",
   "metadata": {
    "ExecuteTime": {
     "end_time": "2023-04-28T13:59:23.777657Z",
     "start_time": "2023-04-28T13:59:23.773534Z"
    }
   },
   "outputs": [],
   "source": [
    "bulk_eigen_energies = eigen_energies.copy()"
   ]
  },
  {
   "cell_type": "code",
   "execution_count": 63,
   "id": "e3ae0a57",
   "metadata": {
    "ExecuteTime": {
     "end_time": "2023-04-28T13:59:08.989710Z",
     "start_time": "2023-04-28T13:59:08.985102Z"
    }
   },
   "outputs": [
    {
     "data": {
      "text/plain": [
       "1039"
      ]
     },
     "execution_count": 63,
     "metadata": {},
     "output_type": "execute_result"
    }
   ],
   "source": [
    "len(eigen_energies)"
   ]
  },
  {
   "cell_type": "code",
   "execution_count": 32,
   "id": "f3c5f5b2",
   "metadata": {
    "ExecuteTime": {
     "end_time": "2023-04-28T13:30:50.462357Z",
     "start_time": "2023-04-28T13:30:46.865432Z"
    }
   },
   "outputs": [],
   "source": [
    "f = open(\"./eigenenergies.json\")\n",
    "surfaces_eigen_energies = json.load(f)\n",
    "\n",
    "t_surfaces_eigen_energies = [torch.tensor(surfaces_eigen_energies[i]) for i in surfaces_eigen_energies]\n",
    "k_normalization = torch.tensor([len(i) for i in t_surfaces_eigen_energies])\n",
    "t_surfaces_eigen_energies = [i[i>-70] for i in t_surfaces_eigen_energies]\n",
    "normalization_surface = 1/torch.sqrt(2*torch.tensor(np.pi)*sigma**2)/n_atoms/k_normalization"
   ]
  },
  {
   "cell_type": "code",
   "execution_count": 33,
   "id": "f7fd10c6",
   "metadata": {
    "ExecuteTime": {
     "end_time": "2023-04-28T13:32:35.126755Z",
     "start_time": "2023-04-28T13:32:33.999670Z"
    }
   },
   "outputs": [],
   "source": [
    "surface_eigen_energies = []\n",
    "for i in surfaces_eigen_energies:\n",
    "    surface_eigen_energies.append(np.array(surfaces_eigen_energies[i]))\n",
    "    "
   ]
  },
  {
   "cell_type": "code",
   "execution_count": 43,
   "id": "9de1c21f",
   "metadata": {
    "ExecuteTime": {
     "end_time": "2023-04-28T13:56:28.740173Z",
     "start_time": "2023-04-28T13:56:28.735453Z"
    }
   },
   "outputs": [
    {
     "data": {
      "text/plain": [
       "tensor([64, 64, 49, 49, 49, 49, 49, 49, 49, 49, 49, 49, 49, 49, 49, 49, 49, 49,\n",
       "        49, 49, 49, 49, 49, 49, 49, 49, 49, 49, 49, 49, 49, 70, 70, 70, 70, 70,\n",
       "        70, 70, 70, 70, 70, 70, 70, 70, 70, 70, 70, 70, 70, 70, 70, 70, 70, 70,\n",
       "        70, 70, 70, 54, 54, 54, 54, 54, 54, 54, 54, 54, 54, 54, 54, 54, 54, 54,\n",
       "        54, 54, 54, 54, 54, 54, 54, 54, 54, 54, 54, 54, 54, 54, 54, 54, 54, 54,\n",
       "        54, 54, 54, 54, 54, 54, 54, 54, 54, 54, 54, 54, 54, 54, 72, 72, 72, 72,\n",
       "        72, 72, 72, 72, 72, 72, 72, 72, 72, 72, 72, 72, 72, 72, 72, 72, 72, 72,\n",
       "        72, 72, 72, 72, 72, 72, 72, 72, 72, 72, 72, 72, 72, 72, 72, 72, 72, 72,\n",
       "        72, 72, 72, 72, 72, 72, 72, 72, 72, 72])"
      ]
     },
     "execution_count": 43,
     "metadata": {},
     "output_type": "execute_result"
    }
   ],
   "source": [
    "k_normalization"
   ]
  },
  {
   "cell_type": "code",
   "execution_count": null,
   "id": "0af486c8",
   "metadata": {},
   "outputs": [],
   "source": []
  },
  {
   "cell_type": "code",
   "execution_count": 41,
   "id": "ff7b62d0",
   "metadata": {
    "ExecuteTime": {
     "end_time": "2023-04-28T13:56:10.934863Z",
     "start_time": "2023-04-28T13:56:10.598811Z"
    }
   },
   "outputs": [
    {
     "ename": "RuntimeError",
     "evalue": "The size of tensor a (927) must match the size of tensor b (827) at non-singleton dimension 0",
     "output_type": "error",
     "traceback": [
      "\u001b[0;31m---------------------------------------------------------------------------\u001b[0m",
      "\u001b[0;31mRuntimeError\u001b[0m                              Traceback (most recent call last)",
      "Input \u001b[0;32mIn [41]\u001b[0m, in \u001b[0;36m<cell line: 6>\u001b[0;34m()\u001b[0m\n\u001b[1;32m      4\u001b[0m normalization_eiglength \u001b[38;5;241m=\u001b[39m [\u001b[38;5;28mlen\u001b[39m(i) \u001b[38;5;28;01mfor\u001b[39;00m i \u001b[38;5;129;01min\u001b[39;00m total_eigen_energies]\n\u001b[1;32m      5\u001b[0m normalization_eiglength_t \u001b[38;5;241m=\u001b[39m torch\u001b[38;5;241m.\u001b[39mtensor(normalization_eiglength)\n\u001b[0;32m----> 6\u001b[0m normalization \u001b[38;5;241m=\u001b[39m \u001b[38;5;241;43m1\u001b[39;49m\u001b[38;5;241;43m/\u001b[39;49m\u001b[43mtorch\u001b[49m\u001b[38;5;241;43m.\u001b[39;49m\u001b[43msqrt\u001b[49m\u001b[43m(\u001b[49m\u001b[38;5;241;43m2\u001b[39;49m\u001b[38;5;241;43m*\u001b[39;49m\u001b[43mtorch\u001b[49m\u001b[38;5;241;43m.\u001b[39;49m\u001b[43mtensor\u001b[49m\u001b[43m(\u001b[49m\u001b[43mnp\u001b[49m\u001b[38;5;241;43m.\u001b[39;49m\u001b[43mpi\u001b[49m\u001b[43m)\u001b[49m\u001b[38;5;241;43m*\u001b[39;49m\u001b[43msigma\u001b[49m\u001b[38;5;241;43m*\u001b[39;49m\u001b[38;5;241;43m*\u001b[39;49m\u001b[38;5;241;43m2\u001b[39;49m\u001b[43m)\u001b[49m\u001b[38;5;241;43m/\u001b[39;49m\u001b[43mn_atoms\u001b[49m\u001b[38;5;241;43m/\u001b[39;49m\u001b[43mnormalization_eiglength_t\u001b[49m\n",
      "\u001b[0;31mRuntimeError\u001b[0m: The size of tensor a (927) must match the size of tensor b (827) at non-singleton dimension 0"
     ]
    }
   ],
   "source": [
    "full_eigen_energies = [torch.tensor(i.flatten()) for i in total_eigen_energies]\n",
    "eigenenergy_length = [len(i) for i in full_eigen_energies]\n",
    "eigenenergy_length_t = torch.tensor(eigenenergy_length)\n",
    "normalization_eiglength = [len(i) for i in total_eigen_energies]\n",
    "normalization_eiglength_t = torch.tensor(normalization_eiglength)\n",
    "normalization = 1/torch.sqrt(2*torch.tensor(np.pi)*sigma**2)/n_atoms/normalization_eiglength_t\n",
    "# normalization_quartic = 1/n_atoms/normalization_eiglength_t"
   ]
  },
  {
   "cell_type": "code",
   "execution_count": 122,
   "id": "8916bb43",
   "metadata": {
    "ExecuteTime": {
     "end_time": "2023-04-29T18:25:13.529935Z",
     "start_time": "2023-04-29T18:25:12.807604Z"
    }
   },
   "outputs": [],
   "source": [
    "total_eigen_energies_list = bulk_eigen_energies[:673] + surface_eigen_energies + bulk_eigen_energies[939:]\n",
    "total_eigen_energies = [torch.tensor(i).flatten() for i in total_eigen_energies_list]\n",
    "total_eigen_energies = [i[i>-70] for i in total_eigen_energies]\n",
    "\n",
    "emin = torch.min(torch.tensor([torch.min(i) for i in total_eigen_energies]))\n",
    "emax = torch.max(torch.tensor([torch.max(i) for i in total_eigen_energies]))\n",
    "\n",
    "normalization_eiglength = [len(i) for i in total_eigen_energies_list]\n",
    "normalization_eiglength_t = torch.tensor(normalization_eiglength)\n",
    "normalization = 1/torch.sqrt(2*torch.tensor(np.pi)*sigma**2)/n_atoms/normalization_eiglength_t"
   ]
  },
  {
   "cell_type": "code",
   "execution_count": 123,
   "id": "7326cb7d",
   "metadata": {
    "ExecuteTime": {
     "end_time": "2023-04-29T18:25:14.345910Z",
     "start_time": "2023-04-29T18:25:14.339674Z"
    }
   },
   "outputs": [
    {
     "data": {
      "text/plain": [
       "tensor(-24.5537, dtype=torch.float64)"
      ]
     },
     "execution_count": 123,
     "metadata": {},
     "output_type": "execute_result"
    }
   ],
   "source": [
    "emin"
   ]
  },
  {
   "cell_type": "code",
   "execution_count": 127,
   "id": "5b8b872d",
   "metadata": {
    "ExecuteTime": {
     "end_time": "2023-04-29T18:27:12.023120Z",
     "start_time": "2023-04-29T18:27:12.005915Z"
    },
    "scrolled": true
   },
   "outputs": [
    {
     "data": {
      "text/plain": [
       "tensor([0.0004, 0.0004, 0.0004, 0.0004, 0.0004, 0.0004, 0.0004, 0.0004, 0.0004,\n",
       "        0.0004, 0.0004, 0.0004, 0.0004, 0.0004, 0.0004, 0.0004, 0.0004, 0.0004,\n",
       "        0.0004, 0.0004, 0.0004, 0.0004, 0.0004, 0.0004, 0.0004, 0.0004, 0.0004,\n",
       "        0.0004, 0.0004, 0.0004, 0.0004, 0.0004, 0.0004, 0.0004, 0.0004, 0.0004,\n",
       "        0.0004, 0.0004, 0.0004, 0.0004, 0.0004, 0.0004, 0.0004, 0.0004, 0.0004,\n",
       "        0.0004, 0.0004, 0.0004, 0.0004, 0.0004, 0.0004, 0.0004, 0.0004, 0.0004,\n",
       "        0.0004, 0.0004, 0.0004, 0.0003, 0.0004, 0.0004, 0.0004, 0.0004, 0.0004,\n",
       "        0.0003, 0.0004, 0.0004, 0.0004, 0.0003, 0.0004, 0.0003, 0.0003, 0.0004,\n",
       "        0.0003, 0.0003, 0.0004, 0.0004, 0.0004, 0.0004, 0.0004, 0.0003, 0.0004,\n",
       "        0.0003, 0.0004, 0.0004, 0.0004, 0.0003, 0.0003, 0.0004, 0.0004, 0.0003,\n",
       "        0.0003, 0.0003, 0.0003, 0.0003, 0.0003, 0.0004, 0.0003, 0.0003, 0.0003,\n",
       "        0.0003, 0.0003, 0.0003, 0.0004, 0.0003, 0.0004, 0.0004, 0.0004, 0.0004,\n",
       "        0.0004, 0.0004, 0.0004, 0.0004, 0.0004, 0.0004, 0.0004, 0.0004, 0.0004,\n",
       "        0.0004, 0.0004, 0.0004, 0.0004, 0.0004, 0.0004, 0.0004, 0.0004, 0.0004,\n",
       "        0.0004, 0.0004, 0.0004, 0.0004, 0.0004, 0.0004, 0.0004, 0.0004, 0.0004,\n",
       "        0.0004, 0.0004, 0.0004, 0.0004, 0.0004, 0.0004, 0.0004, 0.0004, 0.0004,\n",
       "        0.0004, 0.0004, 0.0004, 0.0004, 0.0004, 0.0004, 0.0004, 0.0004, 0.0004,\n",
       "        0.0004, 0.0004, 0.0004, 0.0004, 0.0004, 0.0004, 0.0004, 0.0004, 0.0004,\n",
       "        0.0004, 0.0004, 0.0004, 0.0004, 0.0004, 0.0004, 0.0004, 0.0004, 0.0004,\n",
       "        0.0004, 0.0004, 0.0004, 0.0004, 0.0004, 0.0004, 0.0004, 0.0004, 0.0004,\n",
       "        0.0004, 0.0004, 0.0004, 0.0004, 0.0004, 0.0004, 0.0004, 0.0004, 0.0004,\n",
       "        0.0004, 0.0004, 0.0004, 0.0004, 0.0004, 0.0004, 0.0004, 0.0004, 0.0004,\n",
       "        0.0004, 0.0004, 0.0004, 0.0004, 0.0004, 0.0004, 0.0004, 0.0004, 0.0004,\n",
       "        0.0004, 0.0004, 0.0004, 0.0004, 0.0004, 0.0004, 0.0004, 0.0004, 0.0004,\n",
       "        0.0004, 0.0004, 0.0004, 0.0004, 0.0004, 0.0004, 0.0004, 0.0004, 0.0004,\n",
       "        0.0004, 0.0004, 0.0004, 0.0004, 0.0004, 0.0004, 0.0004, 0.0004, 0.0004,\n",
       "        0.0004, 0.0004, 0.0004, 0.0004, 0.0004, 0.0004, 0.0004, 0.0004, 0.0004,\n",
       "        0.0004, 0.0004, 0.0004, 0.0004, 0.0004, 0.0004, 0.0004, 0.0004, 0.0004,\n",
       "        0.0004, 0.0004, 0.0004, 0.0004, 0.0004, 0.0004, 0.0004, 0.0004, 0.0004,\n",
       "        0.0004, 0.0004, 0.0004, 0.0004, 0.0004, 0.0004, 0.0004, 0.0004, 0.0004,\n",
       "        0.0004, 0.0004, 0.0004, 0.0004, 0.0004, 0.0004, 0.0004, 0.0004, 0.0004,\n",
       "        0.0004, 0.0004, 0.0004, 0.0004, 0.0004, 0.0004, 0.0004, 0.0004, 0.0004,\n",
       "        0.0004, 0.0004, 0.0004, 0.0004, 0.0004, 0.0004, 0.0004, 0.0004, 0.0004,\n",
       "        0.0004, 0.0004, 0.0004, 0.0004, 0.0004, 0.0004, 0.0004, 0.0004, 0.0004,\n",
       "        0.0004, 0.0004, 0.0004, 0.0004, 0.0004, 0.0004, 0.0004, 0.0004, 0.0004,\n",
       "        0.0004, 0.0004, 0.0004, 0.0004, 0.0004, 0.0004, 0.0004, 0.0004, 0.0004,\n",
       "        0.0002, 0.0002, 0.0002, 0.0002, 0.0002, 0.0002, 0.0002, 0.0002, 0.0003,\n",
       "        0.0003, 0.0002, 0.0002, 0.0002, 0.0002, 0.0002, 0.0003, 0.0002, 0.0002,\n",
       "        0.0002, 0.0002, 0.0002, 0.0002, 0.0002, 0.0002, 0.0002, 0.0002, 0.0002,\n",
       "        0.0002, 0.0002, 0.0002, 0.0002, 0.0002, 0.0002, 0.0002, 0.0002, 0.0002,\n",
       "        0.0002, 0.0001, 0.0002, 0.0002, 0.0002, 0.0002, 0.0002, 0.0002, 0.0002,\n",
       "        0.0002, 0.0002, 0.0002, 0.0001, 0.0002, 0.0002, 0.0002, 0.0002, 0.0002,\n",
       "        0.0002, 0.0002, 0.0002, 0.0002, 0.0002, 0.0002, 0.0002, 0.0002, 0.0002,\n",
       "        0.0002, 0.0002, 0.0002, 0.0002, 0.0002, 0.0002, 0.0002, 0.0002, 0.0002,\n",
       "        0.0002, 0.0002, 0.0002, 0.0002, 0.0002, 0.0002, 0.0002, 0.0002, 0.0002,\n",
       "        0.0002, 0.0002, 0.0002, 0.0002, 0.0002, 0.0002, 0.0002, 0.0002, 0.0002,\n",
       "        0.0002, 0.0002, 0.0002, 0.0002, 0.0002, 0.0002, 0.0002, 0.0002, 0.0002,\n",
       "        0.0002, 0.0002, 0.0002, 0.0002, 0.0002, 0.0002, 0.0002, 0.0002, 0.0002,\n",
       "        0.0002, 0.0002, 0.0002, 0.0002, 0.0002, 0.0002, 0.0002, 0.0002, 0.0002,\n",
       "        0.0002, 0.0002, 0.0002, 0.0002, 0.0002, 0.0002, 0.0002, 0.0002, 0.0002,\n",
       "        0.0002, 0.0002, 0.0002, 0.0002, 0.0002, 0.0002, 0.0002, 0.0002, 0.0002,\n",
       "        0.0002, 0.0002, 0.0002, 0.0002, 0.0002, 0.0002, 0.0002, 0.0002, 0.0002,\n",
       "        0.0002, 0.0002, 0.0002, 0.0002, 0.0002, 0.0002, 0.0002, 0.0002, 0.0002,\n",
       "        0.0002, 0.0002, 0.0002, 0.0002, 0.0002, 0.0002, 0.0002, 0.0002, 0.0002,\n",
       "        0.0002, 0.0002, 0.0002, 0.0002, 0.0002, 0.0002, 0.0002, 0.0002, 0.0002,\n",
       "        0.0002, 0.0002, 0.0002, 0.0002, 0.0002, 0.0002, 0.0002, 0.0002, 0.0002,\n",
       "        0.0002, 0.0002, 0.0002, 0.0002, 0.0002, 0.0002, 0.0002, 0.0002, 0.0002,\n",
       "        0.0002, 0.0002, 0.0002, 0.0002, 0.0002, 0.0002, 0.0002, 0.0002, 0.0002,\n",
       "        0.0002, 0.0002, 0.0002, 0.0002, 0.0002, 0.0002, 0.0002, 0.0002, 0.0002,\n",
       "        0.0002, 0.0002, 0.0002, 0.0002, 0.0002, 0.0002, 0.0002, 0.0002, 0.0002,\n",
       "        0.0002, 0.0002, 0.0002, 0.0002, 0.0002, 0.0002, 0.0002, 0.0002, 0.0002,\n",
       "        0.0002, 0.0002, 0.0002, 0.0002, 0.0002, 0.0002, 0.0002, 0.0002, 0.0002,\n",
       "        0.0002, 0.0002, 0.0002, 0.0002, 0.0002, 0.0002, 0.0002, 0.0002, 0.0002,\n",
       "        0.0002, 0.0002, 0.0002, 0.0002, 0.0002, 0.0002, 0.0002, 0.0002, 0.0002,\n",
       "        0.0002, 0.0002, 0.0002, 0.0002, 0.0002, 0.0002, 0.0002, 0.0002, 0.0002,\n",
       "        0.0002, 0.0002, 0.0002, 0.0002, 0.0002, 0.0002, 0.0002, 0.0002, 0.0002,\n",
       "        0.0002, 0.0002, 0.0002, 0.0002, 0.0002, 0.0002, 0.0002, 0.0002, 0.0002,\n",
       "        0.0002, 0.0008, 0.0008, 0.0008, 0.0008, 0.0008, 0.0008, 0.0008, 0.0008,\n",
       "        0.0008, 0.0008, 0.0008, 0.0008, 0.0008, 0.0008, 0.0008, 0.0008, 0.0008,\n",
       "        0.0008, 0.0008, 0.0008, 0.0008, 0.0008, 0.0008, 0.0008, 0.0008, 0.0008,\n",
       "        0.0008, 0.0008, 0.0008, 0.0008, 0.0008, 0.0008, 0.0008, 0.0008, 0.0008,\n",
       "        0.0008, 0.0008, 0.0008, 0.0008, 0.0008, 0.0008, 0.0008, 0.0008, 0.0008,\n",
       "        0.0008, 0.0008, 0.0008, 0.0008, 0.0008, 0.0008, 0.0008, 0.0008, 0.0008,\n",
       "        0.0008, 0.0008, 0.0008, 0.0008, 0.0008, 0.0008, 0.0008, 0.0008, 0.0008,\n",
       "        0.0008, 0.0008, 0.0008, 0.0008, 0.0008, 0.0008, 0.0008, 0.0002, 0.0001,\n",
       "        0.0002, 0.0002, 0.0002, 0.0002, 0.0002, 0.0002, 0.0002, 0.0002, 0.0002,\n",
       "        0.0002, 0.0002, 0.0002, 0.0002, 0.0002, 0.0002, 0.0002, 0.0002, 0.0002,\n",
       "        0.0002, 0.0002, 0.0002, 0.0002, 0.0002, 0.0002, 0.0002, 0.0002, 0.0002,\n",
       "        0.0002, 0.0002, 0.0002, 0.0002, 0.0002, 0.0002, 0.0002, 0.0002, 0.0002,\n",
       "        0.0002, 0.0002, 0.0002, 0.0002, 0.0002, 0.0002, 0.0002, 0.0002, 0.0002,\n",
       "        0.0002, 0.0002, 0.0002, 0.0002, 0.0002, 0.0002, 0.0002, 0.0002, 0.0002,\n",
       "        0.0002, 0.0003, 0.0003, 0.0003, 0.0003, 0.0003, 0.0003, 0.0003, 0.0003,\n",
       "        0.0003, 0.0003, 0.0003, 0.0003, 0.0003, 0.0003, 0.0003, 0.0003, 0.0003,\n",
       "        0.0003, 0.0003, 0.0003, 0.0003, 0.0003, 0.0003, 0.0003, 0.0003, 0.0003,\n",
       "        0.0003, 0.0003, 0.0003, 0.0003, 0.0003, 0.0003, 0.0003, 0.0003, 0.0003,\n",
       "        0.0003, 0.0003, 0.0003, 0.0003, 0.0003, 0.0003, 0.0003, 0.0003, 0.0003,\n",
       "        0.0003, 0.0003, 0.0003, 0.0002, 0.0002, 0.0002, 0.0002, 0.0002, 0.0002,\n",
       "        0.0002, 0.0002, 0.0002, 0.0002, 0.0002, 0.0002, 0.0002, 0.0002, 0.0002,\n",
       "        0.0002, 0.0002, 0.0002, 0.0002, 0.0002, 0.0002, 0.0002, 0.0002, 0.0002,\n",
       "        0.0002, 0.0002, 0.0002, 0.0002, 0.0002, 0.0002, 0.0002, 0.0002, 0.0002,\n",
       "        0.0002, 0.0002, 0.0002, 0.0002, 0.0002, 0.0002, 0.0002, 0.0002, 0.0002,\n",
       "        0.0002, 0.0002, 0.0002, 0.0002, 0.0002, 0.0002, 0.0002, 0.0002, 0.0026,\n",
       "        0.0026, 0.0026, 0.0026, 0.0026, 0.0026, 0.0026, 0.0026, 0.0026, 0.0026,\n",
       "        0.0026, 0.0026, 0.0026, 0.0026, 0.0026, 0.0026, 0.0026, 0.0026, 0.0026,\n",
       "        0.0026, 0.0026, 0.0026, 0.0026, 0.0026, 0.0026, 0.0026, 0.0026, 0.0026,\n",
       "        0.0026, 0.0026, 0.0026, 0.0026, 0.0026, 0.0026, 0.0026, 0.0026, 0.0026,\n",
       "        0.0026, 0.0026, 0.0026, 0.0026, 0.0026, 0.0026, 0.0026, 0.0026, 0.0026,\n",
       "        0.0026, 0.0026, 0.0026, 0.0026, 0.0026, 0.0026, 0.0026, 0.0026, 0.0026,\n",
       "        0.0026, 0.0026, 0.0026, 0.0026, 0.0026, 0.0026, 0.0026, 0.0026, 0.0026,\n",
       "        0.0026, 0.0026, 0.0026, 0.0026, 0.0026, 0.0026, 0.0026, 0.0026, 0.0026,\n",
       "        0.0026, 0.0026, 0.0026, 0.0026, 0.0026, 0.0026, 0.0026, 0.0026, 0.0026,\n",
       "        0.0026, 0.0026, 0.0026, 0.0026, 0.0026, 0.0026, 0.0026, 0.0026, 0.0026,\n",
       "        0.0026, 0.0026, 0.0026, 0.0026, 0.0026, 0.0026, 0.0026, 0.0026, 0.0026],\n",
       "       dtype=torch.float64)"
      ]
     },
     "execution_count": 127,
     "metadata": {},
     "output_type": "execute_result"
    }
   ],
   "source": [
    "normalization"
   ]
  },
  {
   "cell_type": "code",
   "execution_count": 110,
   "id": "49c02ee7",
   "metadata": {
    "ExecuteTime": {
     "end_time": "2023-04-28T14:36:52.452801Z",
     "start_time": "2023-04-28T14:36:52.447207Z"
    }
   },
   "outputs": [
    {
     "data": {
      "text/plain": [
       "12.8464"
      ]
     },
     "execution_count": 110,
     "metadata": {},
     "output_type": "execute_result"
    }
   ],
   "source": [
    "emax"
   ]
  },
  {
   "cell_type": "code",
   "execution_count": 121,
   "id": "b42fbf5b",
   "metadata": {
    "ExecuteTime": {
     "end_time": "2023-04-29T18:25:11.426425Z",
     "start_time": "2023-04-29T18:25:11.423785Z"
    }
   },
   "outputs": [],
   "source": [
    "sigma = 0.3"
   ]
  },
  {
   "cell_type": "code",
   "execution_count": 115,
   "id": "9eda6061",
   "metadata": {
    "ExecuteTime": {
     "end_time": "2023-04-29T18:24:52.499134Z",
     "start_time": "2023-04-29T18:24:52.494922Z"
    }
   },
   "outputs": [],
   "source": [
    "sigma = 0.1\n",
    "normalization1 = 1/torch.sqrt(2*torch.tensor(np.pi)*sigma**2)/n_atoms/normalization_eiglength_t"
   ]
  },
  {
   "cell_type": "code",
   "execution_count": 126,
   "id": "725d63f3",
   "metadata": {
    "ExecuteTime": {
     "end_time": "2023-04-29T18:26:02.846448Z",
     "start_time": "2023-04-29T18:26:02.835007Z"
    }
   },
   "outputs": [],
   "source": [
    "torch.save(normalization1, \"./total_normalization_1.pt\")"
   ]
  },
  {
   "cell_type": "code",
   "execution_count": 125,
   "id": "bf782e08",
   "metadata": {
    "ExecuteTime": {
     "end_time": "2023-04-29T18:25:55.432734Z",
     "start_time": "2023-04-29T18:25:55.420186Z"
    }
   },
   "outputs": [
    {
     "data": {
      "text/plain": [
       "tensor([0.0012, 0.0012, 0.0012, 0.0012, 0.0012, 0.0012, 0.0012, 0.0012, 0.0012,\n",
       "        0.0012, 0.0012, 0.0012, 0.0012, 0.0012, 0.0012, 0.0012, 0.0012, 0.0012,\n",
       "        0.0012, 0.0012, 0.0012, 0.0012, 0.0012, 0.0012, 0.0012, 0.0012, 0.0012,\n",
       "        0.0012, 0.0012, 0.0012, 0.0012, 0.0012, 0.0012, 0.0012, 0.0012, 0.0012,\n",
       "        0.0012, 0.0012, 0.0012, 0.0012, 0.0012, 0.0012, 0.0012, 0.0012, 0.0012,\n",
       "        0.0012, 0.0012, 0.0012, 0.0012, 0.0012, 0.0012, 0.0012, 0.0012, 0.0012,\n",
       "        0.0012, 0.0012, 0.0012, 0.0010, 0.0012, 0.0012, 0.0012, 0.0012, 0.0012,\n",
       "        0.0010, 0.0012, 0.0012, 0.0012, 0.0010, 0.0012, 0.0010, 0.0010, 0.0012,\n",
       "        0.0010, 0.0008, 0.0012, 0.0012, 0.0012, 0.0012, 0.0012, 0.0010, 0.0012,\n",
       "        0.0008, 0.0012, 0.0012, 0.0012, 0.0008, 0.0010, 0.0012, 0.0012, 0.0010,\n",
       "        0.0008, 0.0010, 0.0010, 0.0008, 0.0010, 0.0012, 0.0008, 0.0010, 0.0010,\n",
       "        0.0008, 0.0010, 0.0008, 0.0012, 0.0008, 0.0012, 0.0012, 0.0012, 0.0012,\n",
       "        0.0012, 0.0012, 0.0012, 0.0012, 0.0012, 0.0012, 0.0012, 0.0012, 0.0012,\n",
       "        0.0012, 0.0012, 0.0012, 0.0012, 0.0012, 0.0012, 0.0012, 0.0012, 0.0012,\n",
       "        0.0012, 0.0012, 0.0012, 0.0012, 0.0012, 0.0012, 0.0012, 0.0012, 0.0012,\n",
       "        0.0012, 0.0012, 0.0012, 0.0012, 0.0012, 0.0012, 0.0012, 0.0012, 0.0012,\n",
       "        0.0012, 0.0012, 0.0012, 0.0012, 0.0012, 0.0012, 0.0012, 0.0012, 0.0012,\n",
       "        0.0012, 0.0012, 0.0012, 0.0012, 0.0012, 0.0012, 0.0012, 0.0012, 0.0012,\n",
       "        0.0012, 0.0012, 0.0012, 0.0012, 0.0012, 0.0012, 0.0012, 0.0012, 0.0012,\n",
       "        0.0012, 0.0012, 0.0012, 0.0012, 0.0012, 0.0012, 0.0012, 0.0012, 0.0012,\n",
       "        0.0012, 0.0012, 0.0012, 0.0012, 0.0012, 0.0012, 0.0012, 0.0012, 0.0012,\n",
       "        0.0012, 0.0012, 0.0012, 0.0012, 0.0012, 0.0012, 0.0012, 0.0012, 0.0012,\n",
       "        0.0012, 0.0012, 0.0012, 0.0012, 0.0012, 0.0012, 0.0012, 0.0012, 0.0012,\n",
       "        0.0012, 0.0012, 0.0012, 0.0012, 0.0012, 0.0012, 0.0012, 0.0012, 0.0012,\n",
       "        0.0012, 0.0012, 0.0012, 0.0012, 0.0012, 0.0012, 0.0012, 0.0012, 0.0012,\n",
       "        0.0012, 0.0012, 0.0012, 0.0012, 0.0012, 0.0012, 0.0012, 0.0012, 0.0012,\n",
       "        0.0012, 0.0012, 0.0012, 0.0012, 0.0012, 0.0012, 0.0012, 0.0012, 0.0012,\n",
       "        0.0012, 0.0012, 0.0012, 0.0012, 0.0012, 0.0012, 0.0012, 0.0012, 0.0012,\n",
       "        0.0012, 0.0012, 0.0012, 0.0012, 0.0012, 0.0012, 0.0012, 0.0012, 0.0012,\n",
       "        0.0012, 0.0012, 0.0012, 0.0012, 0.0012, 0.0012, 0.0012, 0.0012, 0.0012,\n",
       "        0.0012, 0.0012, 0.0012, 0.0012, 0.0012, 0.0012, 0.0012, 0.0012, 0.0012,\n",
       "        0.0012, 0.0012, 0.0012, 0.0012, 0.0012, 0.0012, 0.0012, 0.0012, 0.0012,\n",
       "        0.0012, 0.0012, 0.0012, 0.0012, 0.0012, 0.0012, 0.0012, 0.0012, 0.0012,\n",
       "        0.0012, 0.0012, 0.0012, 0.0012, 0.0012, 0.0012, 0.0012, 0.0012, 0.0012,\n",
       "        0.0012, 0.0012, 0.0012, 0.0012, 0.0012, 0.0012, 0.0012, 0.0012, 0.0012,\n",
       "        0.0012, 0.0012, 0.0012, 0.0012, 0.0012, 0.0012, 0.0012, 0.0012, 0.0012,\n",
       "        0.0006, 0.0006, 0.0006, 0.0006, 0.0007, 0.0007, 0.0007, 0.0007, 0.0008,\n",
       "        0.0008, 0.0006, 0.0006, 0.0006, 0.0006, 0.0006, 0.0008, 0.0005, 0.0005,\n",
       "        0.0006, 0.0006, 0.0006, 0.0006, 0.0005, 0.0005, 0.0006, 0.0005, 0.0006,\n",
       "        0.0006, 0.0006, 0.0006, 0.0005, 0.0006, 0.0006, 0.0006, 0.0006, 0.0006,\n",
       "        0.0005, 0.0004, 0.0007, 0.0007, 0.0005, 0.0005, 0.0005, 0.0005, 0.0005,\n",
       "        0.0006, 0.0005, 0.0006, 0.0004, 0.0005, 0.0006, 0.0006, 0.0006, 0.0006,\n",
       "        0.0007, 0.0006, 0.0006, 0.0006, 0.0006, 0.0007, 0.0006, 0.0006, 0.0006,\n",
       "        0.0006, 0.0006, 0.0006, 0.0006, 0.0006, 0.0006, 0.0006, 0.0006, 0.0006,\n",
       "        0.0006, 0.0006, 0.0006, 0.0006, 0.0006, 0.0006, 0.0006, 0.0006, 0.0006,\n",
       "        0.0006, 0.0006, 0.0006, 0.0006, 0.0006, 0.0006, 0.0006, 0.0006, 0.0006,\n",
       "        0.0006, 0.0006, 0.0006, 0.0006, 0.0006, 0.0006, 0.0006, 0.0006, 0.0006,\n",
       "        0.0006, 0.0006, 0.0006, 0.0006, 0.0006, 0.0006, 0.0006, 0.0006, 0.0006,\n",
       "        0.0006, 0.0006, 0.0006, 0.0006, 0.0006, 0.0006, 0.0006, 0.0006, 0.0006,\n",
       "        0.0006, 0.0006, 0.0006, 0.0006, 0.0006, 0.0006, 0.0006, 0.0006, 0.0006,\n",
       "        0.0006, 0.0006, 0.0006, 0.0006, 0.0006, 0.0006, 0.0006, 0.0006, 0.0006,\n",
       "        0.0006, 0.0006, 0.0006, 0.0006, 0.0006, 0.0006, 0.0006, 0.0006, 0.0006,\n",
       "        0.0006, 0.0006, 0.0006, 0.0006, 0.0006, 0.0006, 0.0006, 0.0006, 0.0006,\n",
       "        0.0006, 0.0006, 0.0006, 0.0006, 0.0006, 0.0006, 0.0006, 0.0006, 0.0006,\n",
       "        0.0006, 0.0006, 0.0006, 0.0006, 0.0006, 0.0006, 0.0006, 0.0006, 0.0006,\n",
       "        0.0006, 0.0006, 0.0006, 0.0006, 0.0006, 0.0006, 0.0006, 0.0006, 0.0006,\n",
       "        0.0006, 0.0006, 0.0006, 0.0006, 0.0006, 0.0006, 0.0006, 0.0006, 0.0006,\n",
       "        0.0006, 0.0006, 0.0006, 0.0006, 0.0006, 0.0006, 0.0006, 0.0006, 0.0006,\n",
       "        0.0006, 0.0006, 0.0006, 0.0006, 0.0006, 0.0006, 0.0006, 0.0006, 0.0006,\n",
       "        0.0006, 0.0006, 0.0006, 0.0006, 0.0006, 0.0006, 0.0006, 0.0006, 0.0006,\n",
       "        0.0006, 0.0006, 0.0006, 0.0006, 0.0006, 0.0006, 0.0006, 0.0006, 0.0006,\n",
       "        0.0006, 0.0006, 0.0006, 0.0006, 0.0006, 0.0006, 0.0006, 0.0006, 0.0006,\n",
       "        0.0006, 0.0006, 0.0006, 0.0006, 0.0006, 0.0006, 0.0006, 0.0006, 0.0006,\n",
       "        0.0006, 0.0006, 0.0006, 0.0006, 0.0006, 0.0006, 0.0006, 0.0006, 0.0006,\n",
       "        0.0006, 0.0006, 0.0006, 0.0006, 0.0006, 0.0006, 0.0006, 0.0006, 0.0006,\n",
       "        0.0006, 0.0006, 0.0006, 0.0006, 0.0006, 0.0006, 0.0006, 0.0006, 0.0006,\n",
       "        0.0006, 0.0006, 0.0006, 0.0006, 0.0006, 0.0006, 0.0006, 0.0006, 0.0006,\n",
       "        0.0006, 0.0023, 0.0023, 0.0023, 0.0023, 0.0023, 0.0023, 0.0023, 0.0023,\n",
       "        0.0023, 0.0023, 0.0023, 0.0023, 0.0023, 0.0023, 0.0023, 0.0023, 0.0023,\n",
       "        0.0023, 0.0023, 0.0023, 0.0023, 0.0023, 0.0023, 0.0023, 0.0023, 0.0023,\n",
       "        0.0023, 0.0023, 0.0023, 0.0023, 0.0023, 0.0023, 0.0023, 0.0023, 0.0023,\n",
       "        0.0023, 0.0023, 0.0023, 0.0023, 0.0023, 0.0023, 0.0023, 0.0023, 0.0023,\n",
       "        0.0023, 0.0023, 0.0023, 0.0023, 0.0023, 0.0023, 0.0023, 0.0023, 0.0023,\n",
       "        0.0023, 0.0023, 0.0023, 0.0023, 0.0023, 0.0023, 0.0023, 0.0023, 0.0023,\n",
       "        0.0023, 0.0023, 0.0023, 0.0023, 0.0023, 0.0023, 0.0023, 0.0006, 0.0004,\n",
       "        0.0006, 0.0006, 0.0006, 0.0006, 0.0006, 0.0006, 0.0006, 0.0006, 0.0006,\n",
       "        0.0006, 0.0006, 0.0006, 0.0006, 0.0006, 0.0006, 0.0006, 0.0006, 0.0006,\n",
       "        0.0006, 0.0006, 0.0006, 0.0006, 0.0006, 0.0006, 0.0006, 0.0006, 0.0006,\n",
       "        0.0006, 0.0006, 0.0005, 0.0005, 0.0005, 0.0005, 0.0005, 0.0005, 0.0005,\n",
       "        0.0005, 0.0005, 0.0005, 0.0005, 0.0005, 0.0005, 0.0005, 0.0005, 0.0005,\n",
       "        0.0005, 0.0005, 0.0005, 0.0005, 0.0005, 0.0005, 0.0005, 0.0005, 0.0005,\n",
       "        0.0005, 0.0008, 0.0008, 0.0008, 0.0008, 0.0008, 0.0008, 0.0008, 0.0008,\n",
       "        0.0008, 0.0008, 0.0008, 0.0008, 0.0008, 0.0008, 0.0008, 0.0008, 0.0008,\n",
       "        0.0008, 0.0008, 0.0008, 0.0008, 0.0008, 0.0008, 0.0008, 0.0008, 0.0008,\n",
       "        0.0008, 0.0008, 0.0008, 0.0008, 0.0008, 0.0008, 0.0008, 0.0008, 0.0008,\n",
       "        0.0008, 0.0008, 0.0008, 0.0008, 0.0008, 0.0008, 0.0008, 0.0008, 0.0008,\n",
       "        0.0008, 0.0008, 0.0008, 0.0006, 0.0006, 0.0006, 0.0006, 0.0006, 0.0006,\n",
       "        0.0006, 0.0006, 0.0006, 0.0006, 0.0006, 0.0006, 0.0006, 0.0006, 0.0006,\n",
       "        0.0006, 0.0006, 0.0006, 0.0006, 0.0006, 0.0006, 0.0006, 0.0006, 0.0006,\n",
       "        0.0006, 0.0006, 0.0006, 0.0006, 0.0006, 0.0006, 0.0006, 0.0006, 0.0006,\n",
       "        0.0006, 0.0006, 0.0006, 0.0006, 0.0006, 0.0006, 0.0006, 0.0006, 0.0006,\n",
       "        0.0006, 0.0006, 0.0006, 0.0006, 0.0006, 0.0006, 0.0006, 0.0006, 0.0078,\n",
       "        0.0078, 0.0078, 0.0078, 0.0078, 0.0078, 0.0078, 0.0078, 0.0078, 0.0078,\n",
       "        0.0078, 0.0078, 0.0078, 0.0078, 0.0078, 0.0078, 0.0078, 0.0078, 0.0078,\n",
       "        0.0078, 0.0078, 0.0078, 0.0078, 0.0078, 0.0078, 0.0078, 0.0078, 0.0078,\n",
       "        0.0078, 0.0078, 0.0078, 0.0078, 0.0078, 0.0078, 0.0078, 0.0078, 0.0078,\n",
       "        0.0078, 0.0078, 0.0078, 0.0078, 0.0078, 0.0078, 0.0078, 0.0078, 0.0078,\n",
       "        0.0078, 0.0078, 0.0078, 0.0078, 0.0078, 0.0078, 0.0078, 0.0078, 0.0078,\n",
       "        0.0078, 0.0078, 0.0078, 0.0078, 0.0078, 0.0078, 0.0078, 0.0078, 0.0078,\n",
       "        0.0078, 0.0078, 0.0078, 0.0078, 0.0078, 0.0078, 0.0078, 0.0078, 0.0078,\n",
       "        0.0078, 0.0078, 0.0078, 0.0078, 0.0078, 0.0078, 0.0078, 0.0078, 0.0078,\n",
       "        0.0078, 0.0078, 0.0078, 0.0078, 0.0078, 0.0078, 0.0078, 0.0078, 0.0078,\n",
       "        0.0078, 0.0078, 0.0078, 0.0078, 0.0078, 0.0078, 0.0078, 0.0078, 0.0078],\n",
       "       dtype=torch.float64)"
      ]
     },
     "execution_count": 125,
     "metadata": {},
     "output_type": "execute_result"
    }
   ],
   "source": [
    "normalization1"
   ]
  },
  {
   "cell_type": "code",
   "execution_count": 128,
   "id": "1ee6a897",
   "metadata": {
    "ExecuteTime": {
     "end_time": "2023-04-29T18:27:18.842212Z",
     "start_time": "2023-04-29T18:27:18.822720Z"
    }
   },
   "outputs": [],
   "source": [
    "torch.save(normalization, \"./total_normalization_3.pt\")\n",
    "torch.save(total_eigen_energies, \"./total_eigen_energies.pt\")"
   ]
  },
  {
   "cell_type": "code",
   "execution_count": 100,
   "id": "1fcab8bd",
   "metadata": {
    "ExecuteTime": {
     "end_time": "2023-04-28T14:22:42.879874Z",
     "start_time": "2023-04-28T14:22:42.877193Z"
    }
   },
   "outputs": [],
   "source": [
    "from tqdm import tqdm"
   ]
  },
  {
   "cell_type": "code",
   "execution_count": 102,
   "id": "72c9ce75",
   "metadata": {
    "ExecuteTime": {
     "end_time": "2023-04-28T14:24:44.543511Z",
     "start_time": "2023-04-28T14:22:50.693762Z"
    }
   },
   "outputs": [
    {
     "name": "stderr",
     "output_type": "stream",
     "text": [
      "100%|████████████████████████████████████████████████████████████████████████████████████████████████████████████████████████████████████████████████████████████████████████████| 927/927 [01:53<00:00,  8.14it/s]\n"
     ]
    }
   ],
   "source": [
    "##Generate individual xdos, ldos\n",
    "new_train_ldos = []\n",
    "\n",
    "sigma = torch.tensor(0.3)\n",
    "ndos = 778\n",
    "\n",
    "emin = -24.5537 - 1.5\n",
    "emax = 11.3464 + 1.5\n",
    "x_dos = torch.linspace(emin, emax, 778)\n",
    "for j, i in enumerate(tqdm(range(n_structures))):\n",
    "    \n",
    "    l_dos = torch.sum(torch.exp(-0.5*((x_dos- total_eigen_energies[i].view(-1,1))/sigma)**2), dim = 0)\n",
    "    new_train_ldos.append(l_dos)\n",
    "\n",
    "new_train_ldos = torch.vstack(new_train_ldos)\n",
    "new_train_ldos = ((new_train_ldos.T * normalization).T)* 2"
   ]
  },
  {
   "cell_type": "code",
   "execution_count": 94,
   "id": "b4ba590b",
   "metadata": {
    "ExecuteTime": {
     "end_time": "2023-04-28T14:17:10.072275Z",
     "start_time": "2023-04-28T14:17:10.065473Z"
    }
   },
   "outputs": [
    {
     "data": {
      "text/plain": [
       "tensor([64, 64, 49, 49, 49, 49, 49, 49, 49, 49, 49, 49, 49, 49, 49, 49, 49, 49,\n",
       "        49, 49, 49, 49, 49, 49, 49, 49, 49, 49, 49, 49, 49, 70, 70, 70, 70, 70,\n",
       "        70, 70, 70, 70, 70, 70, 70, 70, 70, 70, 70, 70, 70, 70, 70, 70, 70, 70,\n",
       "        70, 70, 70, 54, 54, 54, 54, 54, 54, 54, 54, 54, 54, 54, 54, 54, 54, 54,\n",
       "        54, 54, 54, 54, 54, 54, 54, 54, 54, 54, 54, 54, 54, 54, 54, 54, 54, 54,\n",
       "        54, 54, 54, 54, 54, 54, 54, 54, 54, 54, 54, 54, 54, 54, 72, 72, 72, 72,\n",
       "        72, 72, 72, 72, 72, 72, 72, 72, 72, 72, 72, 72, 72, 72, 72, 72, 72, 72,\n",
       "        72, 72, 72, 72, 72, 72, 72, 72, 72, 72, 72, 72, 72, 72, 72, 72, 72, 72,\n",
       "        72, 72, 72, 72, 72, 72, 72, 72, 72, 72])"
      ]
     },
     "execution_count": 94,
     "metadata": {},
     "output_type": "execute_result"
    }
   ],
   "source": [
    "k_normalization"
   ]
  },
  {
   "cell_type": "code",
   "execution_count": 88,
   "id": "d4eaa4ee",
   "metadata": {
    "ExecuteTime": {
     "end_time": "2023-04-28T14:10:01.941773Z",
     "start_time": "2023-04-28T14:10:01.936949Z"
    }
   },
   "outputs": [
    {
     "data": {
      "text/plain": [
       "927"
      ]
     },
     "execution_count": 88,
     "metadata": {},
     "output_type": "execute_result"
    }
   ],
   "source": [
    "len(total_eigen_energies)"
   ]
  },
  {
   "cell_type": "code",
   "execution_count": 89,
   "id": "7b6d536c",
   "metadata": {
    "ExecuteTime": {
     "end_time": "2023-04-28T14:10:02.630123Z",
     "start_time": "2023-04-28T14:10:02.624012Z"
    }
   },
   "outputs": [
    {
     "data": {
      "text/plain": [
       "tensor(-24.5537, dtype=torch.float64)"
      ]
     },
     "execution_count": 89,
     "metadata": {},
     "output_type": "execute_result"
    }
   ],
   "source": [
    "emin"
   ]
  },
  {
   "cell_type": "code",
   "execution_count": 90,
   "id": "64505587",
   "metadata": {
    "ExecuteTime": {
     "end_time": "2023-04-28T14:10:03.294277Z",
     "start_time": "2023-04-28T14:10:03.289859Z"
    }
   },
   "outputs": [
    {
     "data": {
      "text/plain": [
       "tensor(11.3464, dtype=torch.float64)"
      ]
     },
     "execution_count": 90,
     "metadata": {},
     "output_type": "execute_result"
    }
   ],
   "source": [
    "emax"
   ]
  },
  {
   "cell_type": "code",
   "execution_count": null,
   "id": "531cbd4f",
   "metadata": {},
   "outputs": [],
   "source": []
  }
 ],
 "metadata": {
  "kernelspec": {
   "display_name": "Python 3 (ipykernel)",
   "language": "python",
   "name": "python3"
  },
  "language_info": {
   "codemirror_mode": {
    "name": "ipython",
    "version": 3
   },
   "file_extension": ".py",
   "mimetype": "text/x-python",
   "name": "python",
   "nbconvert_exporter": "python",
   "pygments_lexer": "ipython3",
   "version": "3.9.12"
  },
  "toc": {
   "base_numbering": 1,
   "nav_menu": {},
   "number_sections": true,
   "sideBar": true,
   "skip_h1_title": false,
   "title_cell": "Table of Contents",
   "title_sidebar": "Contents",
   "toc_cell": false,
   "toc_position": {},
   "toc_section_display": true,
   "toc_window_display": false
  }
 },
 "nbformat": 4,
 "nbformat_minor": 5
}
