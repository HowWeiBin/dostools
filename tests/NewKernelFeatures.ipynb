{
 "cells": [
  {
   "cell_type": "code",
   "execution_count": 1,
   "id": "cfc7fe9e",
   "metadata": {
    "ExecuteTime": {
     "end_time": "2023-03-31T16:24:38.381679Z",
     "start_time": "2023-03-31T16:24:35.630116Z"
    }
   },
   "outputs": [],
   "source": [
    "import dostools\n",
    "import importlib\n",
    "import numpy as np\n",
    "import pickle\n",
    "import torch\n",
    "import sys\n",
    "import matplotlib.pyplot as plt\n",
    "import copy\n",
    "from tqdm import tqdm\n",
    "import matplotlib\n",
    "import time\n",
    "torch.set_default_dtype(torch.float64) \n"
   ]
  },
  {
   "cell_type": "code",
   "execution_count": 2,
   "id": "24c0d714",
   "metadata": {
    "ExecuteTime": {
     "end_time": "2023-03-31T16:24:40.955356Z",
     "start_time": "2023-03-31T16:24:38.383789Z"
    }
   },
   "outputs": [
    {
     "name": "stdout",
     "output_type": "stream",
     "text": [
      "ldos shape is torch.Size([1039, 778])\n",
      "mean dos shape is torch.Size([778])\n",
      "Variance covered with 10 PCs is = 0.9871211778950163\n"
     ]
    }
   ],
   "source": [
    "import dostools.datasets.data as data\n",
    "import dostools.utils.utils as utils\n",
    "\n",
    "n_structures = 1039\n",
    "np.random.seed(0)\n",
    "n_train = int(0.8 * n_structures)\n",
    "train_index = np.arange(n_structures)\n",
    "np.random.shuffle(train_index)\n",
    "test_index = train_index[n_train:]\n",
    "train_index = train_index[:n_train]\n",
    "\n",
    "with torch.no_grad():\n",
    "    structures = data.load_structures(\":\")\n",
    "    n_structures = len(structures) #total number of structures\n",
    "    for structure in structures:#implement periodicity\n",
    "        structure.wrap(eps = 1e-12) \n",
    "    n_atoms = np.zeros(n_structures, dtype = int) #stores number of atoms in each structures\n",
    "    for i in range(n_structures):\n",
    "        n_atoms[i] = len(structures[i])\n",
    "\n",
    "    #eigenergies, emin, emax = dostools.src.datasets.data.load_eigenenergies(unpack = True, n_structures = len(structures))\n",
    "    xdos = torch.tensor(data.load_xdos())\n",
    "    ldos = torch.tensor(data.load_ldos())\n",
    "    ldos *= 2\n",
    "\n",
    "    print (\"ldos shape is {}\".format(ldos.shape))\n",
    "    mean_dos_per_atom = ldos[train_index].mean(axis = 0) #only calculated for train set to prevent data leakage\n",
    "    print (\"mean dos shape is {}\".format(mean_dos_per_atom.shape))\n",
    "    \n",
    "    \n",
    "    y_pw = ldos - mean_dos_per_atom\n",
    "    y_lcdf = torch.cumsum(y_pw, dim = 1)\n",
    "    _, pc_vectors = utils.build_pc(ldos[train_index], mean_dos_per_atom[None,:], n_pc = 10)\n",
    "    y_pc = utils.build_coeffs(ldos - mean_dos_per_atom[None,:], pc_vectors)\n",
    "    Silicon = data.load_features()\n",
    "    kMM = data.load_kMM()"
   ]
  },
  {
   "cell_type": "code",
   "execution_count": 3,
   "id": "dee090a3",
   "metadata": {
    "ExecuteTime": {
     "end_time": "2023-03-31T16:24:40.971933Z",
     "start_time": "2023-03-31T16:24:40.957355Z"
    }
   },
   "outputs": [],
   "source": [
    "#Testing linalg solver\n",
    "Features = torch.rand(1000,1000)\n",
    "Target = torch.sum(Features, dim = 1)"
   ]
  },
  {
   "cell_type": "code",
   "execution_count": 8,
   "id": "2412c02d",
   "metadata": {
    "ExecuteTime": {
     "end_time": "2023-03-31T16:24:54.211662Z",
     "start_time": "2023-03-31T16:24:54.205100Z"
    }
   },
   "outputs": [],
   "source": [
    "HYPER_PARAMETERS = {\n",
    "    \"cutoff\": 4.0,#6.0,#4.0,\n",
    "    \"max_radial\": 8,#12,#8,\n",
    "    \"max_angular\": 6,#9,#6,\n",
    "    \"atomic_gaussian_width\": 0.45,\n",
    "    \"center_atom_weight\": 1.0,\n",
    "    \"radial_basis\":{\n",
    "        \"Gto\":{}\n",
    "    },\n",
    "    \"cutoff_function\":{\n",
    "        \"Step\":{}, #maybe \n",
    "    },\n",
    "    \"radial_scaling\":{\n",
    "        \"Willatt2018\":{\n",
    "        'exponent': 5,\n",
    "        'rate' : 1,\n",
    "        'scale' : 3.,\n",
    "        },\n",
    "    },\n",
    "}\n"
   ]
  },
  {
   "cell_type": "code",
   "execution_count": 27,
   "id": "678226a9",
   "metadata": {
    "ExecuteTime": {
     "end_time": "2023-03-31T16:55:53.838069Z",
     "start_time": "2023-03-31T16:52:48.216542Z"
    }
   },
   "outputs": [
    {
     "data": {
      "application/vnd.jupyter.widget-view+json": {
       "model_id": "0d8d99816b654f5eaf414e7875391489",
       "version_major": 2,
       "version_minor": 0
      },
      "text/plain": [
       "  0%|          | 0/999 [00:00<?, ?it/s]"
      ]
     },
     "metadata": {},
     "output_type": "display_data"
    }
   ],
   "source": [
    "from dostools.datasets import dataset\n",
    "importlib.reload(dataset)\n",
    "Silicon = dataset.TensorFeatures(structures, HYPERS = HYPER_PARAMETERS)"
   ]
  },
  {
   "cell_type": "code",
   "execution_count": 33,
   "id": "764060df",
   "metadata": {
    "ExecuteTime": {
     "end_time": "2023-03-31T16:57:24.466410Z",
     "start_time": "2023-03-31T16:57:23.699985Z"
    }
   },
   "outputs": [
    {
     "data": {
      "text/plain": [
       "TensorMap with 1 blocks\n",
       "keys: ['species_center']\n",
       "             14"
      ]
     },
     "execution_count": 33,
     "metadata": {},
     "output_type": "execute_result"
    }
   ],
   "source": [
    "import rascaline\n",
    "calculator = rascaline.SoapPowerSpectrum(**HYPER_PARAMETERS)\n",
    "descriptors = calculator.compute(structures)\n",
    "descriptors.keys_to_samples(\"species_center\")\n",
    "descriptors.keys_to_properties([\"species_neighbor_1\", \"species_neighbor_2\"])"
   ]
  },
  {
   "cell_type": "code",
   "execution_count": 115,
   "id": "ddfca1ac",
   "metadata": {
    "ExecuteTime": {
     "end_time": "2023-04-01T08:48:43.191090Z",
     "start_time": "2023-04-01T08:42:11.961165Z"
    }
   },
   "outputs": [
    {
     "data": {
      "application/vnd.jupyter.widget-view+json": {
       "model_id": "a93dd4f89f71461b82a12db08504e478",
       "version_major": 2,
       "version_minor": 0
      },
      "text/plain": [
       "  0%|          | 0/9 [00:00<?, ?it/s]"
      ]
     },
     "metadata": {},
     "output_type": "display_data"
    },
    {
     "data": {
      "application/vnd.jupyter.widget-view+json": {
       "model_id": "a4ac71efeb6b45d5a87b04913b0c7ce3",
       "version_major": 2,
       "version_minor": 0
      },
      "text/plain": [
       "  0%|          | 0/99 [00:00<?, ?it/s]"
      ]
     },
     "metadata": {},
     "output_type": "display_data"
    },
    {
     "data": {
      "application/vnd.jupyter.widget-view+json": {
       "model_id": "6c0f4a57b9414a51a9ccf7db52dd61b1",
       "version_major": 2,
       "version_minor": 0
      },
      "text/plain": [
       "  0%|          | 0/199 [00:00<?, ?it/s]"
      ]
     },
     "metadata": {},
     "output_type": "display_data"
    },
    {
     "data": {
      "application/vnd.jupyter.widget-view+json": {
       "model_id": "344c12d1ab1f43a1b8acdcc293cdecfd",
       "version_major": 2,
       "version_minor": 0
      },
      "text/plain": [
       "  0%|          | 0/299 [00:00<?, ?it/s]"
      ]
     },
     "metadata": {},
     "output_type": "display_data"
    },
    {
     "data": {
      "application/vnd.jupyter.widget-view+json": {
       "model_id": "8f6781cbf32945c48335e54b22ee3710",
       "version_major": 2,
       "version_minor": 0
      },
      "text/plain": [
       "  0%|          | 0/499 [00:00<?, ?it/s]"
      ]
     },
     "metadata": {},
     "output_type": "display_data"
    },
    {
     "data": {
      "application/vnd.jupyter.widget-view+json": {
       "model_id": "cbb354ec0a534e88836f1f81fb70c7e5",
       "version_major": 2,
       "version_minor": 0
      },
      "text/plain": [
       "  0%|          | 0/999 [00:00<?, ?it/s]"
      ]
     },
     "metadata": {},
     "output_type": "display_data"
    }
   ],
   "source": [
    "from skcosmo.feature_selection import FPS\n",
    "\n",
    "n_refs_list = [10,100,200,300,500,1000]\n",
    "features = []\n",
    "references_list = []\n",
    "for i in n_refs_list:\n",
    "    n_refs = i\n",
    "    n_atoms = descriptors.block(0).values.shape[0]\n",
    "    n_structures = np.unique(descriptors.block(0).samples[\"structure\"])\n",
    "    feature = torch.zeros(len(n_structures), n_refs)\n",
    "    atom_descriptors = torch.tensor(descriptors.block(0).values)\n",
    "    atom_descriptors = torch.nn.functional.normalize(atom_descriptors, dim = 1)\n",
    "    selector = FPS(n_to_select = n_refs,\n",
    "               progress_bar = True,\n",
    "               score_threshold = 1e-12,\n",
    "               full = False,\n",
    "               initialize = 0\n",
    "              )\n",
    "    selector.fit(atom_descriptors.T)\n",
    "    references = selector.transform(atom_descriptors.T).T\n",
    "    references_list.append(references)\n",
    "    atomkernel_descriptors = torch.pow(atom_descriptors @ references.T, 2)\n",
    "    for structure_i in n_structures:\n",
    "        a_i = descriptors.block(0).samples[\"structure\"] == structure_i\n",
    "        feature[structure_i, :] = torch.sum(atomkernel_descriptors[a_i, :], axis = 0)/np.sum(a_i)\n",
    "    \n",
    "    features.append(feature)\n",
    "    "
   ]
  },
  {
   "cell_type": "code",
   "execution_count": 123,
   "id": "e943e78c",
   "metadata": {
    "ExecuteTime": {
     "end_time": "2023-04-01T09:13:32.103462Z",
     "start_time": "2023-04-01T09:13:32.094014Z"
    }
   },
   "outputs": [
    {
     "data": {
      "text/plain": [
       "array([1.        , 0.96632736, 0.86986185, 0.90142101, 0.85702559,\n",
       "       0.83123826, 0.9725669 , 0.92358503, 0.93671668, 0.95975516,\n",
       "       0.94431939, 0.89330837, 0.94240001, 0.87765371, 0.96293411,\n",
       "       0.93096273, 0.95057861, 0.92019552, 0.94001133, 0.77642409,\n",
       "       0.88282718, 0.83647533, 0.89917572, 0.80321235, 0.8373274 ,\n",
       "       0.93604405, 0.90523543, 0.85469427, 0.93380464, 0.98492286,\n",
       "       0.95946996, 0.97065462, 0.95290117, 0.81265865, 0.86292156,\n",
       "       0.92098442, 0.86749019, 0.95964987, 0.9106295 , 0.98141447,\n",
       "       0.95330467, 0.94920076, 0.97550968, 0.86911248, 0.90232848,\n",
       "       0.86298411, 0.88082986, 0.83393233, 0.85578193, 0.86891578,\n",
       "       0.8256393 , 0.80365978, 0.88065644, 0.88192544, 0.92652282,\n",
       "       0.92661697, 0.89107062, 0.92364297, 0.81822085, 0.9332443 ,\n",
       "       0.85046409, 0.85899991, 0.88690372, 0.88675728, 0.89323711,\n",
       "       0.93011608, 0.89591242, 0.94752131, 0.96382072, 0.92933705,\n",
       "       0.95189218, 0.89926599, 0.93237377, 0.93900668, 0.92292831,\n",
       "       0.83792567, 0.9320396 , 0.88644297, 0.8925114 , 0.90138865,\n",
       "       0.88207319, 0.95768688, 0.93198988, 0.79599433, 0.95077499,\n",
       "       0.94268025, 0.92736667, 0.8878891 , 0.93220744, 0.97533876,\n",
       "       0.92487435, 0.97071776, 0.92992223, 0.96226473, 0.92186374,\n",
       "       0.9543482 , 0.96901734, 0.96870089, 0.94773249, 0.97600572])"
      ]
     },
     "execution_count": 123,
     "metadata": {},
     "output_type": "execute_result"
    }
   ],
   "source": [
    "ref = references_list[1]\n",
    "(ref @ ref.T)[0]"
   ]
  },
  {
   "cell_type": "code",
   "execution_count": 103,
   "id": "2742505e",
   "metadata": {
    "ExecuteTime": {
     "end_time": "2023-04-01T08:37:01.228713Z",
     "start_time": "2023-04-01T08:37:01.221596Z"
    }
   },
   "outputs": [
    {
     "data": {
      "text/plain": [
       "array([[ 0.4923334 ,  0.34286131,  0.64359844, ...,  0.54424215,\n",
       "         0.62024215,  0.48815145],\n",
       "       [ 0.27081983,  0.1828978 ,  0.35657218, ...,  0.29623356,\n",
       "         0.33448261,  0.26189865],\n",
       "       [ 0.0359634 ,  0.0309307 ,  0.19616021, ...,  0.04133072,\n",
       "         0.05713942,  0.0451317 ],\n",
       "       ...,\n",
       "       [-0.01586898,  0.00155525,  0.00267389, ...,  0.00543415,\n",
       "         0.00345414,  0.00836395],\n",
       "       [ 0.01439919,  0.00298427,  0.00480714, ...,  0.00482142,\n",
       "         0.00328138,  0.00672281],\n",
       "       [ 0.01541978,  0.00175395,  0.0026493 , ...,  0.00228569,\n",
       "         0.00178636,  0.00292208]])"
      ]
     },
     "execution_count": 103,
     "metadata": {},
     "output_type": "execute_result"
    }
   ],
   "source": [
    "selector.X_selected_"
   ]
  },
  {
   "cell_type": "code",
   "execution_count": 114,
   "id": "0b287c56",
   "metadata": {
    "ExecuteTime": {
     "end_time": "2023-04-01T08:42:09.700535Z",
     "start_time": "2023-04-01T08:42:09.695207Z"
    }
   },
   "outputs": [
    {
     "data": {
      "text/plain": [
       "(50, 448)"
      ]
     },
     "execution_count": 114,
     "metadata": {},
     "output_type": "execute_result"
    }
   ],
   "source": [
    "references.shape"
   ]
  },
  {
   "cell_type": "code",
   "execution_count": 113,
   "id": "a47ca434",
   "metadata": {
    "ExecuteTime": {
     "end_time": "2023-04-01T08:41:59.997300Z",
     "start_time": "2023-04-01T08:41:59.987067Z"
    }
   },
   "outputs": [
    {
     "data": {
      "text/plain": [
       "30"
      ]
     },
     "execution_count": 113,
     "metadata": {},
     "output_type": "execute_result"
    }
   ],
   "source": [
    "np.sum((references @ references.T)[0]>0.9)"
   ]
  },
  {
   "cell_type": "code",
   "execution_count": 96,
   "id": "3ab18790",
   "metadata": {
    "ExecuteTime": {
     "end_time": "2023-04-01T08:36:15.667795Z",
     "start_time": "2023-04-01T08:36:15.657658Z"
    }
   },
   "outputs": [
    {
     "data": {
      "text/plain": [
       "array([[1.        , 0.96632736, 0.86986185, ..., 0.92992223, 0.96870089,\n",
       "        0.97600572],\n",
       "       [0.96632736, 1.        , 0.90978503, ..., 0.89939367, 0.94623085,\n",
       "        0.94465566],\n",
       "       [0.86986185, 0.90978503, 1.        , ..., 0.92596412, 0.90371158,\n",
       "        0.90835236],\n",
       "       ...,\n",
       "       [0.92992223, 0.89939367, 0.92596412, ..., 1.        , 0.9401854 ,\n",
       "        0.97571001],\n",
       "       [0.96870089, 0.94623085, 0.90371158, ..., 0.9401854 , 1.        ,\n",
       "        0.97080159],\n",
       "       [0.97600572, 0.94465566, 0.90835236, ..., 0.97571001, 0.97080159,\n",
       "        1.        ]])"
      ]
     },
     "execution_count": 96,
     "metadata": {},
     "output_type": "execute_result"
    }
   ],
   "source": [
    "references @ references.T"
   ]
  },
  {
   "cell_type": "code",
   "execution_count": 104,
   "id": "c0bd1e76",
   "metadata": {
    "ExecuteTime": {
     "end_time": "2023-04-01T08:37:09.069933Z",
     "start_time": "2023-04-01T08:37:09.062608Z"
    }
   },
   "outputs": [
    {
     "data": {
      "text/plain": [
       "array([[ 4.92333403e-01,  2.70819830e-01,  3.59634029e-02, ...,\n",
       "        -1.58689810e-02,  1.43991933e-02,  1.54197787e-02],\n",
       "       [ 4.11635953e-01,  2.21560647e-01,  5.10777589e-02, ...,\n",
       "         3.25896568e-04,  2.17442138e-02,  1.39618361e-02],\n",
       "       [ 3.40482618e-01,  1.81236431e-01,  4.79457651e-02, ...,\n",
       "         8.77447087e-03,  7.48807291e-03,  3.40624759e-03],\n",
       "       ...,\n",
       "       [ 4.31384174e-01,  2.38385080e-01,  2.68996786e-02, ...,\n",
       "         6.15506436e-04,  1.05952854e-03,  8.97425091e-04],\n",
       "       [ 5.04393928e-01,  2.74378861e-01,  4.10343368e-02, ...,\n",
       "         1.80856769e-03,  7.18183711e-03,  4.73787403e-03],\n",
       "       [ 4.47899226e-01,  2.48465055e-01,  2.75294591e-02, ...,\n",
       "         8.42089482e-04,  6.16194472e-03,  5.28876391e-03]])"
      ]
     },
     "execution_count": 104,
     "metadata": {},
     "output_type": "execute_result"
    }
   ],
   "source": [
    "references"
   ]
  },
  {
   "cell_type": "code",
   "execution_count": 89,
   "id": "d15f791e",
   "metadata": {
    "ExecuteTime": {
     "end_time": "2023-04-01T08:33:58.704198Z",
     "start_time": "2023-04-01T08:33:58.671393Z"
    }
   },
   "outputs": [
    {
     "data": {
      "text/plain": [
       "tensor(3.6432e+08)"
      ]
     },
     "execution_count": 89,
     "metadata": {},
     "output_type": "execute_result"
    }
   ],
   "source": [
    "torch.linalg.cond(features[2])"
   ]
  },
  {
   "cell_type": "code",
   "execution_count": 43,
   "id": "d4e2082a",
   "metadata": {
    "ExecuteTime": {
     "end_time": "2023-03-31T19:57:09.304925Z",
     "start_time": "2023-03-31T19:57:09.291724Z"
    }
   },
   "outputs": [
    {
     "data": {
      "text/plain": [
       "tensor([[1.0000, 0.6910, 0.8774,  ..., 0.8087, 0.8686, 0.6336],\n",
       "        [0.9954, 0.6765, 0.8903,  ..., 0.8480, 0.8828, 0.6544],\n",
       "        [0.9974, 0.6843, 0.8924,  ..., 0.8378, 0.8890, 0.6556],\n",
       "        ...,\n",
       "        [0.9579, 0.7939, 0.8952,  ..., 0.8066, 0.8550, 0.6117],\n",
       "        [0.9567, 0.7964, 0.8965,  ..., 0.8048, 0.8549, 0.6107],\n",
       "        [0.9563, 0.8012, 0.8983,  ..., 0.8070, 0.8558, 0.6106]])"
      ]
     },
     "execution_count": 43,
     "metadata": {},
     "output_type": "execute_result"
    }
   ],
   "source": [
    "features[0]"
   ]
  },
  {
   "cell_type": "code",
   "execution_count": 125,
   "id": "8ae89209",
   "metadata": {
    "ExecuteTime": {
     "end_time": "2023-04-01T09:14:28.728752Z",
     "start_time": "2023-04-01T09:14:28.667153Z"
    }
   },
   "outputs": [
    {
     "name": "stdout",
     "output_type": "stream",
     "text": [
      "Regularization: 0.001\n",
      "The train error is 11.36 for n_refs = 200\n",
      "The test error is 12.98 for n_refs = 200\n"
     ]
    }
   ],
   "source": [
    "main = features[2]\n",
    "\n",
    "Features = main[train_index]#Silicon.Features['structure_avekerneldescriptors'][train_index]\n",
    "test_features = main[test_index]#Silicon.Features['structure_avekerneldescriptors'][test_index]\n",
    "Target = ldos[train_index]\n",
    "test_target = ldos[test_index]\n",
    "m = Features.shape[1]\n",
    "regularization = 1e-3\n",
    "reg = regularization * torch.eye(m)\n",
    "reg[-1, -1] = 0\n",
    "A = torch.vstack([Features, reg])\n",
    "b = torch.vstack([Target, torch.zeros(m,Target.shape[1])])\n",
    "weights = torch.linalg.lstsq(A, b, rcond=1e-10).solution\n",
    "pred = Features @ weights \n",
    "test_pred = test_features @ weights\n",
    "\n",
    "loss_dos = loss.t_get_rmse(pred, Target, xdos, perc = True)\n",
    "test_loss_dos = loss.t_get_rmse(test_pred, test_target, xdos, perc = True)\n",
    "print (\"Regularization: {}\".format(regularization))\n",
    "print (\"The train error is {:.4} for n_refs = {}\".format(loss_dos,m))\n",
    "print (\"The test error is {:.4} for n_refs = {}\".format(test_loss_dos, m))"
   ]
  },
  {
   "cell_type": "code",
   "execution_count": 130,
   "id": "b059361b",
   "metadata": {
    "ExecuteTime": {
     "end_time": "2023-04-01T09:42:06.286843Z",
     "start_time": "2023-04-01T09:42:06.280191Z"
    }
   },
   "outputs": [
    {
     "data": {
      "text/plain": [
       "0.9999999999999994"
      ]
     },
     "execution_count": 130,
     "metadata": {},
     "output_type": "execute_result"
    }
   ],
   "source": [
    "kMM"
   ]
  },
  {
   "cell_type": "code",
   "execution_count": 164,
   "id": "b1d2b7a7",
   "metadata": {
    "ExecuteTime": {
     "end_time": "2023-04-01T10:25:24.883888Z",
     "start_time": "2023-04-01T10:25:24.878444Z"
    }
   },
   "outputs": [],
   "source": [
    "kMM = references_list[i] @ references_list[i].T"
   ]
  },
  {
   "cell_type": "code",
   "execution_count": 167,
   "id": "45184425",
   "metadata": {
    "ExecuteTime": {
     "end_time": "2023-04-01T10:25:38.011358Z",
     "start_time": "2023-04-01T10:25:38.004077Z"
    }
   },
   "outputs": [
    {
     "data": {
      "text/plain": [
       "0"
      ]
     },
     "execution_count": 167,
     "metadata": {},
     "output_type": "execute_result"
    }
   ],
   "source": [
    "np.sum(kMM<0)"
   ]
  },
  {
   "cell_type": "code",
   "execution_count": 200,
   "id": "796ebb09",
   "metadata": {
    "ExecuteTime": {
     "end_time": "2023-04-01T10:42:14.896931Z",
     "start_time": "2023-04-01T10:42:14.816848Z"
    }
   },
   "outputs": [
    {
     "name": "stdout",
     "output_type": "stream",
     "text": [
      "Regularization: 0\n",
      "The train error is 5.284 for n_refs = 200\n",
      "The test error is 23.26 for n_refs = 200\n"
     ]
    }
   ],
   "source": [
    "import scipy \n",
    "\n",
    "i = 2\n",
    "main = features[i]\n",
    "kMM = references_list[i] @ references_list[i].T\n",
    "\n",
    "Features = main[train_index]#Silicon.Features['structure_avekerneldescriptors'][train_index]\n",
    "test_features = main[test_index]#Silicon.Features['structure_avekerneldescriptors'][test_index]\n",
    "Target = ldos[train_index]\n",
    "test_target = ldos[test_index]\n",
    "m = Features.shape[1]\n",
    "regularization = 0\n",
    "rtkMM = scipy.linalg.sqrtm(kMM)\n",
    "reg = torch.tensor(regularization * rtkMM)\n",
    "reg[-1, -1] = 0\n",
    "A = torch.vstack([Features, reg])\n",
    "b = torch.vstack([Target, torch.zeros(m,Target.shape[1])])\n",
    "\n",
    "\n",
    "\n",
    "weights = torch.linalg.lstsq(A, b, driver = \"gelsd\", rcond = 1e-10).solution\n",
    "pred = Features @ weights \n",
    "test_pred = test_features @ weights\n",
    "\n",
    "loss_dos = loss.t_get_rmse(pred, Target, xdos, perc = True)\n",
    "test_loss_dos = loss.t_get_rmse(test_pred, test_target, xdos, perc = True)\n",
    "print (\"Regularization: {}\".format(regularization))\n",
    "print (\"The train error is {:.4} for n_refs = {}\".format(loss_dos,m))\n",
    "print (\"The test error is {:.4} for n_refs = {}\".format(test_loss_dos, m))"
   ]
  },
  {
   "cell_type": "code",
   "execution_count": null,
   "id": "8fffb763",
   "metadata": {},
   "outputs": [],
   "source": [
    "#Lets go for 200"
   ]
  },
  {
   "cell_type": "code",
   "execution_count": 201,
   "id": "e0c4e410",
   "metadata": {
    "ExecuteTime": {
     "end_time": "2023-04-01T10:42:25.924862Z",
     "start_time": "2023-04-01T10:42:25.905134Z"
    }
   },
   "outputs": [
    {
     "data": {
      "text/plain": [
       "tensor(4.0676e+08)"
      ]
     },
     "execution_count": 201,
     "metadata": {},
     "output_type": "execute_result"
    }
   ],
   "source": [
    "torch.linalg.cond(A)"
   ]
  },
  {
   "cell_type": "code",
   "execution_count": 299,
   "id": "51a8b494",
   "metadata": {
    "ExecuteTime": {
     "end_time": "2023-04-01T12:46:09.388989Z",
     "start_time": "2023-04-01T12:46:09.286590Z"
    }
   },
   "outputs": [
    {
     "name": "stdout",
     "output_type": "stream",
     "text": [
      "torch.Size([1031, 200])\n",
      "torch.Size([1031, 778])\n",
      "tensor(11.2006) tensor(12.6701)\n"
     ]
    }
   ],
   "source": [
    "z = features[2]\n",
    "y = references_list[2]\n",
    "m = z.shape[1]\n",
    "regularization = 1\n",
    "kMM = y @ y.T\n",
    "rtkMM = scipy.linalg.sqrtm(kMM)\n",
    "reg = torch.tensor(regularization * rtkMM)\n",
    "reg[-1, -1] = 0\n",
    "m_train_loss = 0\n",
    "m_test_loss = 0\n",
    "\n",
    "A = torch.vstack([z[train_index], reg])\n",
    "b = torch.vstack([ldos[train_index], torch.zeros(m,ldos.shape[1])])\n",
    "\n",
    "\n",
    "weights = torch.linalg.lstsq(A, b, driver = \"gelsd\", rcond = 1e-10).solution\n",
    "\n",
    "train_pred = z[train_index] @ weights\n",
    "test_pred = z[test_index] @ weights\n",
    "\n",
    "train_loss = loss.t_get_rmse(train_pred, ldos[train_index], xdos, perc = True)\n",
    "test_loss = loss.t_get_rmse(test_pred, ldos[test_index], xdos, perc = True)\n",
    "\n",
    "print (train_loss, test_loss)"
   ]
  },
  {
   "cell_type": "code",
   "execution_count": 352,
   "id": "1eb1d144",
   "metadata": {
    "ExecuteTime": {
     "end_time": "2023-04-01T13:01:22.755185Z",
     "start_time": "2023-04-01T13:01:22.651142Z"
    }
   },
   "outputs": [
    {
     "name": "stdout",
     "output_type": "stream",
     "text": [
      "tensor(10.9057) tensor(12.4247)\n"
     ]
    }
   ],
   "source": [
    "\n",
    "z = torch.hstack([features[2], torch.ones(features[2].shape[0]).view(-1,1)]).double()\n",
    "m = z.shape[1]\n",
    "kMM = references_list[2] @ references_list[2].T\n",
    "rtkMM = scipy.linalg.sqrtm(kMM)\n",
    "reg = torch.hstack([torch.real(torch.tensor(regularization * rtkMM)), torch.zeros(kMM.shape[0]).view(-1,1)])\n",
    "reg = torch.vstack([reg, torch.zeros(m)])\n",
    "\n",
    "#     reg[-1, -1] = 0\n",
    "m_train_loss = 0\n",
    "m_test_loss = 0\n",
    "\n",
    "A = torch.vstack([z[train_index], reg])\n",
    "b = torch.vstack([ldos[train_index], torch.zeros(m,ldos.shape[1])])\n",
    "weights = torch.linalg.lstsq(A, b, driver = \"gelsd\", rcond = 1e-10).solution\n",
    "\n",
    "\n",
    "train_pred = z[train_index] @ weights\n",
    "\n",
    "test_pred = z[test_index] @ weights\n",
    "\n",
    "train_loss = loss.t_get_rmse(train_pred, ldos[train_index], xdos, perc = True)\n",
    "test_loss = loss.t_get_rmse(test_pred, ldos[test_index], xdos, perc = True)\n",
    "\n",
    "print (train_loss, test_loss)"
   ]
  },
  {
   "cell_type": "code",
   "execution_count": 353,
   "id": "261ac3fd",
   "metadata": {
    "ExecuteTime": {
     "end_time": "2023-04-01T13:01:24.184799Z",
     "start_time": "2023-04-01T13:01:24.125900Z"
    }
   },
   "outputs": [
    {
     "name": "stdout",
     "output_type": "stream",
     "text": [
      "tensor(10.9057) tensor(12.4247)\n"
     ]
    }
   ],
   "source": [
    "weights = torch.linalg.lstsq(A, B, driver = \"gelsd\", rcond = 1e-10).solution\n",
    "\n",
    "\n",
    "train_pred = z[train_index] @ weights\n",
    "\n",
    "test_pred = z[test_index] @ weights\n",
    "\n",
    "train_loss = loss.t_get_rmse(train_pred, ldos[train_index], xdos, perc = True)\n",
    "test_loss = loss.t_get_rmse(test_pred, ldos[test_index], xdos, perc = True)\n",
    "\n",
    "print (train_loss, test_loss)"
   ]
  },
  {
   "cell_type": "code",
   "execution_count": 357,
   "id": "fc7dcb00",
   "metadata": {
    "ExecuteTime": {
     "end_time": "2023-04-01T13:01:40.302990Z",
     "start_time": "2023-04-01T13:01:40.298462Z"
    }
   },
   "outputs": [
    {
     "data": {
      "text/plain": [
       "tensor(10.9057)"
      ]
     },
     "execution_count": 357,
     "metadata": {},
     "output_type": "execute_result"
    }
   ],
   "source": [
    "train_loss2"
   ]
  },
  {
   "cell_type": "code",
   "execution_count": 337,
   "id": "2e10ac4b",
   "metadata": {
    "ExecuteTime": {
     "end_time": "2023-04-01T13:00:03.038582Z",
     "start_time": "2023-04-01T13:00:03.031524Z"
    }
   },
   "outputs": [],
   "source": [
    "def test(A,b):\n",
    "    weights = torch.linalg.lstsq(A, b, driver = \"gelsd\", rcond = 1e-10).solution\n",
    "\n",
    "    train_pred = z[train_index] @ weights\n",
    "\n",
    "    test_pred = z[test_index] @ weights\n",
    "\n",
    "    train_loss = loss.t_get_rmse(train_pred, ldos[train_index], xdos, perc = True)\n",
    "    test_loss = loss.t_get_rmse(test_pred, ldos[test_index], xdos, perc = True)\n",
    "\n",
    "    print (train_loss, test_loss)"
   ]
  },
  {
   "cell_type": "code",
   "execution_count": 319,
   "id": "a8916a5e",
   "metadata": {
    "ExecuteTime": {
     "end_time": "2023-04-01T12:51:30.102442Z",
     "start_time": "2023-04-01T12:51:30.033135Z"
    }
   },
   "outputs": [
    {
     "name": "stdout",
     "output_type": "stream",
     "text": [
      "tensor(10.9057) tensor(12.4247)\n"
     ]
    }
   ],
   "source": [
    "test(A,b)"
   ]
  },
  {
   "cell_type": "code",
   "execution_count": 322,
   "id": "dfeeea3c",
   "metadata": {
    "ExecuteTime": {
     "end_time": "2023-04-01T12:51:51.044336Z",
     "start_time": "2023-04-01T12:51:50.991710Z"
    }
   },
   "outputs": [
    {
     "name": "stdout",
     "output_type": "stream",
     "text": [
      "tensor(10.9057) tensor(12.4247)\n"
     ]
    }
   ],
   "source": [
    "test(C,d)"
   ]
  },
  {
   "cell_type": "code",
   "execution_count": 252,
   "id": "12b87950",
   "metadata": {
    "ExecuteTime": {
     "end_time": "2023-04-01T11:13:24.524289Z",
     "start_time": "2023-04-01T11:13:24.421436Z"
    }
   },
   "outputs": [],
   "source": [
    "kMM = references_list[3] @ references_list[3].T\n",
    "rtkMM = scipy.linalg.sqrtm(kMM)\n",
    "reg = torch.tensor(regularization * rtkMM)"
   ]
  },
  {
   "cell_type": "code",
   "execution_count": 333,
   "id": "5e500094",
   "metadata": {
    "ExecuteTime": {
     "end_time": "2023-04-01T12:58:52.916432Z",
     "start_time": "2023-04-01T12:58:52.901376Z"
    }
   },
   "outputs": [
    {
     "name": "stdout",
     "output_type": "stream",
     "text": [
      "tensor(10.9057) tensor(12.4247)\n"
     ]
    }
   ],
   "source": [
    "train_pred = z[train_index] @ weights\n",
    "\n",
    "test_pred = z[test_index] @ weights\n",
    "\n",
    "train_loss = loss.t_get_rmse(train_pred, ldos[train_index], xdos, perc = True)\n",
    "test_loss = loss.t_get_rmse(test_pred, ldos[test_index], xdos, perc = True)\n",
    "\n",
    "print (train_loss, test_loss)"
   ]
  },
  {
   "cell_type": "code",
   "execution_count": 341,
   "id": "2a9b4d9b",
   "metadata": {
    "ExecuteTime": {
     "end_time": "2023-04-01T13:00:16.666006Z",
     "start_time": "2023-04-01T13:00:16.638250Z"
    }
   },
   "outputs": [
    {
     "ename": "RuntimeError",
     "evalue": "torch.linalg.lstsq: input.size(-2) should match other.size(-2)",
     "output_type": "error",
     "traceback": [
      "\u001b[0;31m---------------------------------------------------------------------------\u001b[0m",
      "\u001b[0;31mRuntimeError\u001b[0m                              Traceback (most recent call last)",
      "Input \u001b[0;32mIn [341]\u001b[0m, in \u001b[0;36m<cell line: 1>\u001b[0;34m()\u001b[0m\n\u001b[0;32m----> 1\u001b[0m \u001b[43mtest\u001b[49m\u001b[43m(\u001b[49m\u001b[43mA\u001b[49m\u001b[43m,\u001b[49m\u001b[43mb\u001b[49m\u001b[43m)\u001b[49m\n",
      "Input \u001b[0;32mIn [337]\u001b[0m, in \u001b[0;36mtest\u001b[0;34m(A, b)\u001b[0m\n\u001b[1;32m      1\u001b[0m \u001b[38;5;28;01mdef\u001b[39;00m \u001b[38;5;21mtest\u001b[39m(A,b):\n\u001b[0;32m----> 2\u001b[0m     weights \u001b[38;5;241m=\u001b[39m \u001b[43mtorch\u001b[49m\u001b[38;5;241;43m.\u001b[39;49m\u001b[43mlinalg\u001b[49m\u001b[38;5;241;43m.\u001b[39;49m\u001b[43mlstsq\u001b[49m\u001b[43m(\u001b[49m\u001b[43mA\u001b[49m\u001b[43m,\u001b[49m\u001b[43m \u001b[49m\u001b[43mb\u001b[49m\u001b[43m,\u001b[49m\u001b[43m \u001b[49m\u001b[43mdriver\u001b[49m\u001b[43m \u001b[49m\u001b[38;5;241;43m=\u001b[39;49m\u001b[43m \u001b[49m\u001b[38;5;124;43m\"\u001b[39;49m\u001b[38;5;124;43mgelsd\u001b[39;49m\u001b[38;5;124;43m\"\u001b[39;49m\u001b[43m,\u001b[49m\u001b[43m \u001b[49m\u001b[43mrcond\u001b[49m\u001b[43m \u001b[49m\u001b[38;5;241;43m=\u001b[39;49m\u001b[43m \u001b[49m\u001b[38;5;241;43m1e-10\u001b[39;49m\u001b[43m)\u001b[49m\u001b[38;5;241m.\u001b[39msolution\n\u001b[1;32m      4\u001b[0m     train_pred \u001b[38;5;241m=\u001b[39m z[train_index] \u001b[38;5;241m@\u001b[39m weights\n\u001b[1;32m      6\u001b[0m     test_pred \u001b[38;5;241m=\u001b[39m z[test_index] \u001b[38;5;241m@\u001b[39m weights\n",
      "\u001b[0;31mRuntimeError\u001b[0m: torch.linalg.lstsq: input.size(-2) should match other.size(-2)"
     ]
    }
   ],
   "source": [
    "test(A,b)"
   ]
  },
  {
   "cell_type": "code",
   "execution_count": 339,
   "id": "61430720",
   "metadata": {
    "ExecuteTime": {
     "end_time": "2023-04-01T13:00:14.333275Z",
     "start_time": "2023-04-01T13:00:14.327401Z"
    }
   },
   "outputs": [
    {
     "data": {
      "text/plain": [
       "torch.Size([831, 778])"
      ]
     },
     "execution_count": 339,
     "metadata": {},
     "output_type": "execute_result"
    }
   ],
   "source": [
    "A.shape"
   ]
  },
  {
   "cell_type": "code",
   "execution_count": 342,
   "id": "aca2e3c3",
   "metadata": {
    "ExecuteTime": {
     "end_time": "2023-04-01T13:00:21.197449Z",
     "start_time": "2023-04-01T13:00:21.191611Z"
    }
   },
   "outputs": [
    {
     "data": {
      "text/plain": [
       "torch.Size([208, 778])"
      ]
     },
     "execution_count": 342,
     "metadata": {},
     "output_type": "execute_result"
    }
   ],
   "source": [
    "b.shape"
   ]
  },
  {
   "cell_type": "code",
   "execution_count": 363,
   "id": "82dfb347",
   "metadata": {
    "ExecuteTime": {
     "end_time": "2023-04-01T13:02:35.961840Z",
     "start_time": "2023-04-01T13:02:35.770038Z"
    }
   },
   "outputs": [
    {
     "data": {
      "text/plain": [
       "(tensor(10.1991), tensor(16.3043), tensor(10.9057), tensor(12.4247))"
      ]
     },
     "execution_count": 363,
     "metadata": {},
     "output_type": "execute_result"
    }
   ],
   "source": [
    "find_reg_CV(features[2], ldos, xdos, references_list[2], 1, train_index, test_index)"
   ]
  },
  {
   "cell_type": "code",
   "execution_count": 379,
   "id": "a16748c8",
   "metadata": {
    "ExecuteTime": {
     "end_time": "2023-04-01T13:33:06.139391Z",
     "start_time": "2023-04-01T13:33:06.118910Z"
    }
   },
   "outputs": [],
   "source": [
    "#find reg using CV and see what happens\n",
    "from sklearn.model_selection import KFold\n",
    "n_refs_list = [10,100,200,300,500,1000]\n",
    "regs = [0, 1e-10, 1e-5, 1e-3, 1e-1, 1, 10, 100, 1000]\n",
    "\n",
    "def find_reg_CV(features, target, xdos, references, regularization, train_index, test_index, cv = 2):\n",
    "    kf = KFold(n_splits = cv)\n",
    "    features = torch.hstack([features, torch.ones(features.shape[0]).view(-1,1)]).type(dtype = torch.complex128)\n",
    "    m = features.shape[1]\n",
    "    kMM = references @ references.T\n",
    "    rtkMM = scipy.linalg.sqrtm(kMM)\n",
    "    reg = torch.hstack([(torch.tensor(regularization * rtkMM)), torch.zeros(kMM.shape[0]).view(-1,1)])\n",
    "    reg = torch.vstack([reg, torch.zeros(m)]).type(dtype = torch.complex128)\n",
    "    target = target.type(dtype = torch.complex128)\n",
    "#     reg[-1, -1] = 0\n",
    "    m_train_loss = 0\n",
    "    m_test_loss = 0\n",
    "    \n",
    "    \n",
    "    \n",
    "    for (cv_train_index, cv_test_index) in kf.split(features[train_index]):\n",
    "        A = torch.vstack([features[train_index[cv_train_index]], reg])\n",
    "        b = torch.vstack([target[train_index[cv_train_index]], torch.zeros(m,target.shape[1])])\n",
    "\n",
    "        weights = torch.linalg.lstsq(A, b, driver = \"gelsd\", rcond = 1e-10).solution\n",
    "        \n",
    "        train_pred = features[train_index[cv_train_index]] @ weights\n",
    "        test_pred = features[train_index[cv_test_index]] @ weights\n",
    "        \n",
    "        train_loss = torch.abs(loss.t_get_rmse(train_pred, target[train_index[cv_train_index]], xdos, perc = True))\n",
    "        test_loss = torch.abs(loss.t_get_rmse(test_pred, target[train_index[cv_test_index]], xdos, perc = True))\n",
    "    \n",
    "        \n",
    "        m_train_loss += train_loss/cv\n",
    "        m_test_loss += test_loss/cv\n",
    "        \n",
    "    \n",
    "    A = torch.vstack([features[train_index], reg])\n",
    "    b = torch.vstack([target[train_index], torch.zeros(m,target.shape[1])])\n",
    "    \n",
    "    weights = torch.linalg.lstsq(A, b, driver = \"gelsd\", rcond = 1e-10).solution\n",
    "    \n",
    "    \n",
    "    \n",
    "    train_pred = features[train_index] @ weights\n",
    "    \n",
    "    test_pred = features[test_index] @ weights\n",
    "\n",
    "    train_loss = torch.abs(loss.t_get_rmse(train_pred, target[train_index], xdos, perc = True))\n",
    "    test_loss = torch.abs(loss.t_get_rmse(test_pred, target[test_index], xdos, perc = True))\n",
    "    \n",
    "    return m_train_loss, m_test_loss, train_loss, test_loss\n",
    "\n"
   ]
  },
  {
   "cell_type": "code",
   "execution_count": 380,
   "id": "161d6088",
   "metadata": {
    "ExecuteTime": {
     "end_time": "2023-04-01T13:37:02.926137Z",
     "start_time": "2023-04-01T13:33:07.296945Z"
    }
   },
   "outputs": [
    {
     "name": "stdout",
     "output_type": "stream",
     "text": [
      "The cv_train, cv_test loss at reg: 0 is 32.26, 33.19 for n_ref = 10\n",
      "The train, test loss at reg: 0 is 32.5, 32.28 for n_ref = 10\n",
      "The cv_train, cv_test loss at reg: 1e-10 is 32.26, 33.19 for n_ref = 10\n",
      "The train, test loss at reg: 1e-10 is 32.5, 32.28 for n_ref = 10\n",
      "The cv_train, cv_test loss at reg: 1e-05 is 32.26, 33.19 for n_ref = 10\n",
      "The train, test loss at reg: 1e-05 is 32.5, 32.28 for n_ref = 10\n",
      "The cv_train, cv_test loss at reg: 0.001 is 32.26, 33.19 for n_ref = 10\n",
      "The train, test loss at reg: 0.001 is 32.5, 32.28 for n_ref = 10\n",
      "The cv_train, cv_test loss at reg: 0.1 is 33.97, 34.47 for n_ref = 10\n",
      "The train, test loss at reg: 0.1 is 33.41, 33.44 for n_ref = 10\n",
      "The cv_train, cv_test loss at reg: 1 is 41.8, 42.02 for n_ref = 10\n",
      "The train, test loss at reg: 1 is 39.71, 39.42 for n_ref = 10\n",
      "The cv_train, cv_test loss at reg: 10 is 84.11, 84.27 for n_ref = 10\n",
      "The train, test loss at reg: 10 is 75.98, 76.65 for n_ref = 10\n",
      "The cv_train, cv_test loss at reg: 100 is 99.75, 99.84 for n_ref = 10\n",
      "The train, test loss at reg: 100 is 99.5, 99.67 for n_ref = 10\n",
      "The cv_train, cv_test loss at reg: 1000 is 100.0, 100.1 for n_ref = 10\n",
      "The train, test loss at reg: 1000 is 99.99, 100.1 for n_ref = 10\n",
      "---------------------------------------------\n",
      "The cv_train, cv_test loss at reg: 0 is 6.545, 22.99 for n_ref = 100\n",
      "The train, test loss at reg: 0 is 8.152, 14.74 for n_ref = 100\n",
      "The cv_train, cv_test loss at reg: 1e-10 is 6.545, 22.99 for n_ref = 100\n",
      "The train, test loss at reg: 1e-10 is 8.152, 14.74 for n_ref = 100\n",
      "The cv_train, cv_test loss at reg: 1e-05 is 6.545, 22.99 for n_ref = 100\n",
      "The train, test loss at reg: 1e-05 is 8.152, 14.74 for n_ref = 100\n",
      "The cv_train, cv_test loss at reg: 0.001 is 6.612, 21.17 for n_ref = 100\n",
      "The train, test loss at reg: 0.001 is 8.158, 14.41 for n_ref = 100\n",
      "The cv_train, cv_test loss at reg: 0.1 is 13.35, 16.08 for n_ref = 100\n",
      "The train, test loss at reg: 0.1 is 12.72, 13.3 for n_ref = 100\n",
      "The cv_train, cv_test loss at reg: 1 is 27.46, 28.23 for n_ref = 100\n",
      "The train, test loss at reg: 1 is 25.05, 24.51 for n_ref = 100\n",
      "The cv_train, cv_test loss at reg: 10 is 42.58, 42.81 for n_ref = 100\n",
      "The train, test loss at reg: 10 is 40.18, 39.88 for n_ref = 100\n",
      "The cv_train, cv_test loss at reg: 100 is 68.64, 68.83 for n_ref = 100\n",
      "The train, test loss at reg: 100 is 61.25, 61.85 for n_ref = 100\n",
      "The cv_train, cv_test loss at reg: 1000 is 98.13, 98.24 for n_ref = 100\n",
      "The train, test loss at reg: 1000 is 96.55, 96.99 for n_ref = 100\n",
      "---------------------------------------------\n",
      "The cv_train, cv_test loss at reg: 0 is 3.03, 77.56 for n_ref = 200\n",
      "The train, test loss at reg: 0 is 5.256, 23.1 for n_ref = 200\n",
      "The cv_train, cv_test loss at reg: 1e-10 is 3.03, 77.56 for n_ref = 200\n",
      "The train, test loss at reg: 1e-10 is 5.256, 23.1 for n_ref = 200\n",
      "The cv_train, cv_test loss at reg: 1e-05 is 3.03, 77.16 for n_ref = 200\n",
      "The train, test loss at reg: 1e-05 is 5.256, 23.1 for n_ref = 200\n",
      "The cv_train, cv_test loss at reg: 0.001 is 3.955, 33.18 for n_ref = 200\n",
      "The train, test loss at reg: 0.001 is 5.471, 17.39 for n_ref = 200\n",
      "The cv_train, cv_test loss at reg: 0.1 is 7.939, 17.31 for n_ref = 200\n",
      "The train, test loss at reg: 0.1 is 8.864, 12.54 for n_ref = 200\n",
      "The cv_train, cv_test loss at reg: 1 is 10.2, 16.3 for n_ref = 200\n",
      "The train, test loss at reg: 1 is 10.91, 12.42 for n_ref = 200\n",
      "The cv_train, cv_test loss at reg: 10 is 13.69, 17.9 for n_ref = 200\n",
      "The train, test loss at reg: 10 is 13.91, 14.31 for n_ref = 200\n",
      "The cv_train, cv_test loss at reg: 100 is 18.97, 21.51 for n_ref = 200\n",
      "The train, test loss at reg: 100 is 18.43, 17.99 for n_ref = 200\n",
      "The cv_train, cv_test loss at reg: 1000 is 30.44, 31.35 for n_ref = 200\n",
      "The train, test loss at reg: 1000 is 29.07, 29.21 for n_ref = 200\n",
      "---------------------------------------------\n",
      "The cv_train, cv_test loss at reg: 0 is 1.806, 178.1 for n_ref = 300\n",
      "The train, test loss at reg: 0 is 3.548, 40.81 for n_ref = 300\n",
      "The cv_train, cv_test loss at reg: 1e-10 is 1.806, 178.1 for n_ref = 300\n",
      "The train, test loss at reg: 1e-10 is 3.548, 40.81 for n_ref = 300\n",
      "The cv_train, cv_test loss at reg: 1e-05 is 1.808, 167.4 for n_ref = 300\n",
      "The train, test loss at reg: 1e-05 is 3.548, 40.71 for n_ref = 300\n",
      "The cv_train, cv_test loss at reg: 0.001 is 2.928, 51.38 for n_ref = 300\n",
      "The train, test loss at reg: 0.001 is 4.259, 23.93 for n_ref = 300\n",
      "The cv_train, cv_test loss at reg: 0.1 is 4.754, 31.21 for n_ref = 300\n",
      "The train, test loss at reg: 0.1 is 6.357, 14.78 for n_ref = 300\n",
      "The cv_train, cv_test loss at reg: 1 is 5.573, 27.29 for n_ref = 300\n",
      "The train, test loss at reg: 1 is 7.056, 14.0 for n_ref = 300\n",
      "The cv_train, cv_test loss at reg: 10 is 6.555, 22.2 for n_ref = 300\n",
      "The train, test loss at reg: 10 is 7.919, 12.96 for n_ref = 300\n",
      "The cv_train, cv_test loss at reg: 100 is 8.11, 16.66 for n_ref = 300\n",
      "The train, test loss at reg: 100 is 9.066, 11.68 for n_ref = 300\n",
      "The cv_train, cv_test loss at reg: 1000 is 11.06, 15.73 for n_ref = 300\n",
      "The train, test loss at reg: 1000 is 11.4, 12.18 for n_ref = 300\n",
      "---------------------------------------------\n",
      "The cv_train, cv_test loss at reg: 0 is 1.506, 165.5 for n_ref = 500\n",
      "The train, test loss at reg: 0 is 2.443, 69.0 for n_ref = 500\n",
      "The cv_train, cv_test loss at reg: 1e-10 is 1.506, 165.5 for n_ref = 500\n",
      "The train, test loss at reg: 1e-10 is 2.443, 69.0 for n_ref = 500\n",
      "The cv_train, cv_test loss at reg: 1e-05 is 1.495, 155.7 for n_ref = 500\n",
      "The train, test loss at reg: 1e-05 is 2.439, 68.06 for n_ref = 500\n",
      "The cv_train, cv_test loss at reg: 0.001 is 1.898, 116.0 for n_ref = 500\n",
      "The train, test loss at reg: 0.001 is 2.981, 46.76 for n_ref = 500\n",
      "The cv_train, cv_test loss at reg: 0.1 is 2.073, 99.17 for n_ref = 500\n",
      "The train, test loss at reg: 0.1 is 3.481, 35.37 for n_ref = 500\n",
      "The cv_train, cv_test loss at reg: 1 is 2.475, 63.58 for n_ref = 500\n",
      "The train, test loss at reg: 1 is 3.906, 27.53 for n_ref = 500\n",
      "The cv_train, cv_test loss at reg: 10 is 3.733, 32.23 for n_ref = 500\n",
      "The train, test loss at reg: 10 is 4.932, 14.91 for n_ref = 500\n",
      "The cv_train, cv_test loss at reg: 100 is 5.774, 19.28 for n_ref = 500\n",
      "The train, test loss at reg: 100 is 6.671, 11.81 for n_ref = 500\n",
      "The cv_train, cv_test loss at reg: 1000 is 8.839, 14.63 for n_ref = 500\n",
      "The train, test loss at reg: 1000 is 9.261, 11.46 for n_ref = 500\n",
      "---------------------------------------------\n",
      "The cv_train, cv_test loss at reg: 0 is 1.4, 180.1 for n_ref = 1000\n",
      "The train, test loss at reg: 0 is 2.232, 74.28 for n_ref = 1000\n",
      "The cv_train, cv_test loss at reg: 1e-10 is 1.4, 180.1 for n_ref = 1000\n",
      "The train, test loss at reg: 1e-10 is 2.232, 74.28 for n_ref = 1000\n",
      "The cv_train, cv_test loss at reg: 1e-05 is 1.365, 166.8 for n_ref = 1000\n",
      "The train, test loss at reg: 1e-05 is 2.227, 73.96 for n_ref = 1000\n",
      "The cv_train, cv_test loss at reg: 0.001 is 1.652, 140.5 for n_ref = 1000\n",
      "The train, test loss at reg: 0.001 is 2.539, 56.33 for n_ref = 1000\n",
      "The cv_train, cv_test loss at reg: 0.1 is 1.673, 125.1 for n_ref = 1000\n",
      "The train, test loss at reg: 0.1 is 2.603, 52.04 for n_ref = 1000\n",
      "The cv_train, cv_test loss at reg: 1 is 1.847, 85.1 for n_ref = 1000\n",
      "The train, test loss at reg: 1 is 2.68, 39.31 for n_ref = 1000\n",
      "The cv_train, cv_test loss at reg: 10 is 2.926, 42.36 for n_ref = 1000\n",
      "The train, test loss at reg: 10 is 3.913, 18.06 for n_ref = 1000\n",
      "The cv_train, cv_test loss at reg: 100 is 4.88, 22.42 for n_ref = 1000\n",
      "The train, test loss at reg: 100 is 5.781, 12.12 for n_ref = 1000\n",
      "The cv_train, cv_test loss at reg: 1000 is 7.66, 15.25 for n_ref = 1000\n",
      "The train, test loss at reg: 1000 is 8.222, 11.12 for n_ref = 1000\n",
      "---------------------------------------------\n"
     ]
    }
   ],
   "source": [
    "\n",
    "for i, feat in enumerate(features):\n",
    "    for reg in regs:\n",
    "        m_trainloss, m_testloss, train_loss, test_loss = find_reg_CV(feat, ldos, xdos, references_list[i], reg, train_index, test_index)\n",
    "        \n",
    "        print (\"The cv_train, cv_test loss at reg: {} is {:.4}, {:.4} for n_ref = {}\".format(reg, m_trainloss, m_testloss, n_refs_list[i]))\n",
    "        print (\"The train, test loss at reg: {} is {:.4}, {:.4} for n_ref = {}\".format(reg, train_loss, test_loss, n_refs_list[i]))\n",
    "    print (\"---------------------------------------------\")"
   ]
  },
  {
   "cell_type": "code",
   "execution_count": null,
   "id": "725907cc",
   "metadata": {},
   "outputs": [],
   "source": []
  },
  {
   "cell_type": "code",
   "execution_count": 371,
   "id": "3027438b",
   "metadata": {
    "ExecuteTime": {
     "end_time": "2023-04-01T13:10:17.498724Z",
     "start_time": "2023-04-01T13:10:17.476499Z"
    }
   },
   "outputs": [],
   "source": [
    "#find reg using CV and see what happens\n",
    "from sklearn.model_selection import KFold\n",
    "n_refs_list = [10,100,200,300,500,1000]\n",
    "regs = [0, 1e-10, 1e-5, 1e-3, 1e-1, 1, 10,100,1000]\n",
    "\n",
    "def find_reg_CV(features, target, xdos, references, regularization, train_index, test_index, cv = 2):\n",
    "    kf = KFold(n_splits = cv)\n",
    "    features = torch.hstack([features, torch.ones(features.shape[0]).view(-1,1)])\n",
    "    m = features.shape[1]\n",
    "    reg = torch.tensor(regularization * torch.eye(m))\n",
    "\n",
    "    reg[-1, -1] = 0\n",
    "    m_train_loss = 0\n",
    "    m_test_loss = 0\n",
    "    \n",
    "    \n",
    "    \n",
    "    for (cv_train_index, cv_test_index) in kf.split(features[train_index]):\n",
    "        A = torch.vstack([features[train_index[cv_train_index]], reg])\n",
    "        b = torch.vstack([target[train_index[cv_train_index]], torch.zeros(m,target.shape[1])])\n",
    "\n",
    "        weights = torch.linalg.lstsq(A, b, rcond = 1e-10).solution\n",
    "        \n",
    "        train_pred = features[train_index[cv_train_index]] @ weights\n",
    "        test_pred = features[train_index[cv_test_index]] @ weights\n",
    "        \n",
    "        train_loss = loss.t_get_rmse(train_pred, target[train_index[cv_train_index]], xdos, perc = True)\n",
    "        test_loss = loss.t_get_rmse(test_pred, target[train_index[cv_test_index]], xdos, perc = True)\n",
    "    \n",
    "        \n",
    "        m_train_loss += train_loss/cv\n",
    "        m_test_loss += test_loss/cv\n",
    "        \n",
    "    \n",
    "    A = torch.vstack([features[train_index], reg])\n",
    "    b = torch.vstack([target[train_index], torch.zeros(m,target.shape[1])])\n",
    "    \n",
    "    \n",
    "    weights = torch.linalg.lstsq(A, b, rcond = 1e-10).solution\n",
    "    \n",
    "    \n",
    "    \n",
    "    train_pred = features[train_index] @ weights\n",
    "    \n",
    "    test_pred = features[test_index] @ weights\n",
    "\n",
    "    train_loss = loss.t_get_rmse(train_pred, target[train_index], xdos, perc = True)\n",
    "    test_loss = loss.t_get_rmse(test_pred, target[test_index], xdos, perc = True)\n",
    "    \n",
    "    return m_train_loss, m_test_loss, train_loss, test_loss\n",
    "\n",
    "\n"
   ]
  },
  {
   "cell_type": "code",
   "execution_count": null,
   "id": "4e712b80",
   "metadata": {},
   "outputs": [],
   "source": [
    "for i, feat in enumerate(features):\n",
    "    for reg in regs:\n",
    "        m_trainloss, m_testloss, train_loss, test_loss = find_reg_CV(feat, ldos, xdos, references_list[i], reg, train_index, test_index)\n",
    "        \n",
    "        print (\"The cv_train, cv_test loss at reg: {} is {:.4}, {:.4} for n_ref = {}\".format(reg, m_trainloss, m_testloss, n_refs_list[i]))\n",
    "        print (\"The train, test loss at reg: {} is {:.4}, {:.4} for n_ref = {}\".format(reg, train_loss, test_loss, n_refs_list[i]))\n",
    "    print (\"---------------------------------------------\")"
   ]
  },
  {
   "cell_type": "markdown",
   "id": "b6de5905",
   "metadata": {},
   "source": [
    "reg: 1 for 200 refs kMM\n",
    "The cv_train, cv_test loss at reg: 1 is 10.2, 16.3 for n_ref = 200\n",
    "The train, test loss at reg: 1 is 10.91, 12.42 for n_ref = 200\n",
    "\n",
    "reg: 0.001 for 200 refs L2 \n",
    "The cv_train, cv_test loss at reg: 0.001 is 10.96, 16.36 for n_ref = 200\n",
    "The train, test loss at reg: 0.001 is 11.27, 13.24 for n_ref = 20"
   ]
  },
  {
   "cell_type": "raw",
   "id": "a3339b6b",
   "metadata": {},
   "source": [
    "reg: 0, 1e-10, 1e-5, 1e-3, 1e-1, 1\n",
    "1000: 2.69, 67.15| 2.69, 67.15|  5.073, 17.79|  10.22, 12.92| 25.84, 25.4| 38.38, 38.05\n",
    "500: 2.65, 76.07| 2.41, 92.05|5.24, 16.04 |10.64, 13.0 |27.4, 26.89 |39.95, 39.4\n",
    "300: 3.56, 41.12| 3.56, 41.12| 5.801, 14.5| 11.06, 13.0| 28.61, 28.13| 41.16, 40.57\n",
    "200: 5.284, 23.26| 5.284, 23.26| 6.324, 13.24 | 11.36, 12.98| 29.6, 29.14| 42.6, 42.1\n",
    "100: 8.168 14.63| 8.168 14.63| 8.188 14.28| 12.37, 13.19| 31.35, 31.0| 43.8, 43.09\n",
    "10: 34.33, 34.21 |34.33, 34.21 |34.33, 34.21 | 34.33, 34.21| 37.03, 36.8| 49.93, 49.63\n"
   ]
  },
  {
   "cell_type": "code",
   "execution_count": 31,
   "id": "b0f989d2",
   "metadata": {
    "ExecuteTime": {
     "end_time": "2023-03-31T16:56:11.314386Z",
     "start_time": "2023-03-31T16:56:11.310188Z"
    }
   },
   "outputs": [
    {
     "data": {
      "text/plain": [
       "-34.51"
      ]
     },
     "execution_count": 31,
     "metadata": {},
     "output_type": "execute_result"
    }
   ],
   "source": [
    "8.5 - 43.01"
   ]
  },
  {
   "cell_type": "code",
   "execution_count": null,
   "id": "21a03387",
   "metadata": {},
   "outputs": [],
   "source": [
    "2.956 - 37.61"
   ]
  },
  {
   "cell_type": "code",
   "execution_count": 21,
   "id": "028e29ac",
   "metadata": {
    "ExecuteTime": {
     "end_time": "2023-03-31T16:49:09.096609Z",
     "start_time": "2023-03-31T16:49:09.091487Z"
    }
   },
   "outputs": [
    {
     "data": {
      "text/plain": [
       "torch.Size([100, 778])"
      ]
     },
     "execution_count": 21,
     "metadata": {},
     "output_type": "execute_result"
    }
   ],
   "source": [
    "weights.shape"
   ]
  },
  {
   "cell_type": "code",
   "execution_count": 127,
   "id": "ab63d781",
   "metadata": {
    "ExecuteTime": {
     "end_time": "2023-03-31T13:53:00.644682Z",
     "start_time": "2023-03-31T13:53:00.507010Z"
    }
   },
   "outputs": [
    {
     "name": "stdout",
     "output_type": "stream",
     "text": [
      "error1 : 1.261e-24\n"
     ]
    }
   ],
   "source": [
    "regularization = 100\n",
    "n_col = Features.shape[1]\n",
    "reg = regularization * torch.eye(n_col)\n",
    "reg[n_col-1, n_col-1] = 0\n",
    "reg_features = Features.T @ Features + reg\n",
    "\n",
    "\n",
    "# matinv = torch.linalg.inv(Features.T @ Features)\n",
    "# weight = matinv @ Features.T @ Target\n",
    "\n",
    "weight2 = torch.linalg.lstsq(((Features.T @ Features)+reg),Features.T @ Target, driver = \"gelsd\", rcond = 1e-15).solution\n",
    "preds1 = Features @ weight2\n",
    "# preds2 = Features @ weight\n",
    "\n",
    "print (\"error1 : {:.4}\".format(torch.mean(Target - preds1)**2))\n",
    "# print (\"error2 : {:.4}\".format(torch.mean(Target - preds2)**2))"
   ]
  },
  {
   "cell_type": "code",
   "execution_count": 126,
   "id": "6f2049e3",
   "metadata": {
    "ExecuteTime": {
     "end_time": "2023-03-31T13:52:34.476381Z",
     "start_time": "2023-03-31T13:52:34.469049Z"
    }
   },
   "outputs": [
    {
     "data": {
      "text/plain": [
       "tensor([1.1406e-01, 9.8752e-02, 7.7868e-02,  ..., 1.1185e-01, 8.9080e-02,\n",
       "        8.1009e+02])"
      ]
     },
     "execution_count": 126,
     "metadata": {},
     "output_type": "execute_result"
    }
   ],
   "source": [
    "weight2"
   ]
  },
  {
   "cell_type": "code",
   "execution_count": 113,
   "id": "87a61f91",
   "metadata": {
    "ExecuteTime": {
     "end_time": "2023-03-31T13:48:47.580633Z",
     "start_time": "2023-03-31T13:48:47.573073Z"
    }
   },
   "outputs": [
    {
     "data": {
      "text/plain": [
       "tensor([152238.9036, -81631.2050,  93461.0305,  ..., 135140.0196,\n",
       "        -71803.1538, -79685.7966])"
      ]
     },
     "execution_count": 113,
     "metadata": {},
     "output_type": "execute_result"
    }
   ],
   "source": [
    "weight"
   ]
  },
  {
   "cell_type": "code",
   "execution_count": 92,
   "id": "9bf8ae08",
   "metadata": {
    "ExecuteTime": {
     "end_time": "2023-03-31T13:30:03.767240Z",
     "start_time": "2023-03-31T13:30:03.759332Z"
    }
   },
   "outputs": [
    {
     "data": {
      "text/plain": [
       "tensor(32.8394)"
      ]
     },
     "execution_count": 92,
     "metadata": {},
     "output_type": "execute_result"
    }
   ],
   "source": [
    "torch.mean(Target - preds2)**2"
   ]
  },
  {
   "cell_type": "code",
   "execution_count": 93,
   "id": "3a0dab55",
   "metadata": {
    "ExecuteTime": {
     "end_time": "2023-03-31T13:30:04.483848Z",
     "start_time": "2023-03-31T13:30:04.476799Z"
    }
   },
   "outputs": [
    {
     "data": {
      "text/plain": [
       "tensor([731.6263])"
      ]
     },
     "execution_count": 93,
     "metadata": {},
     "output_type": "execute_result"
    }
   ],
   "source": [
    "shifted_weights"
   ]
  },
  {
   "cell_type": "code",
   "execution_count": null,
   "id": "8c4a9410",
   "metadata": {},
   "outputs": [],
   "source": []
  }
 ],
 "metadata": {
  "kernelspec": {
   "display_name": "Python 3 (ipykernel)",
   "language": "python",
   "name": "python3"
  },
  "language_info": {
   "codemirror_mode": {
    "name": "ipython",
    "version": 3
   },
   "file_extension": ".py",
   "mimetype": "text/x-python",
   "name": "python",
   "nbconvert_exporter": "python",
   "pygments_lexer": "ipython3",
   "version": "3.9.12"
  },
  "toc": {
   "base_numbering": 1,
   "nav_menu": {},
   "number_sections": true,
   "sideBar": true,
   "skip_h1_title": false,
   "title_cell": "Table of Contents",
   "title_sidebar": "Contents",
   "toc_cell": false,
   "toc_position": {},
   "toc_section_display": true,
   "toc_window_display": false
  }
 },
 "nbformat": 4,
 "nbformat_minor": 5
}
