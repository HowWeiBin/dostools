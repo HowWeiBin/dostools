{
 "cells": [
  {
   "cell_type": "markdown",
   "id": "84565b74",
   "metadata": {
    "hide_input": false
   },
   "source": [
    "## Imports"
   ]
  },
  {
   "cell_type": "code",
   "execution_count": 2,
   "id": "dfdaeca7",
   "metadata": {
    "ExecuteTime": {
     "end_time": "2023-01-26T15:09:16.303388Z",
     "start_time": "2023-01-26T15:09:16.300285Z"
    }
   },
   "outputs": [],
   "source": [
    "import dostools\n",
    "import importlib\n",
    "import numpy as np\n",
    "import pickle\n",
    "import torch\n",
    "import sys\n",
    "import matplotlib.pyplot as plt\n",
    "torch.set_default_dtype(torch.float64) "
   ]
  },
  {
   "cell_type": "code",
   "execution_count": 6,
   "id": "7ccbf26d",
   "metadata": {
    "ExecuteTime": {
     "end_time": "2023-01-26T15:11:18.349203Z",
     "start_time": "2023-01-26T15:11:13.545167Z"
    }
   },
   "outputs": [
    {
     "name": "stdout",
     "output_type": "stream",
     "text": [
      "ldos shape is torch.Size([1039, 778])\n",
      "mean dos shape is torch.Size([778])\n",
      "Variance covered with 10 PCs is = 0.9871211778950157\n"
     ]
    }
   ],
   "source": [
    "import dostools.src.datasets.data as data\n",
    "import dostools.src.utils.utils as utils\n",
    "\n",
    "n_structures = 1039\n",
    "np.random.seed(0)\n",
    "n_train = int(0.8 * n_structures)\n",
    "train_index = np.arange(n_structures)\n",
    "np.random.shuffle(train_index)\n",
    "test_index = train_index[n_train:]\n",
    "train_index = train_index[:n_train]\n",
    "\n",
    "with torch.no_grad():\n",
    "    structures = data.load_structures(\":\")\n",
    "    n_structures = len(structures) #total number of structures\n",
    "    for structure in structures:#implement periodicity\n",
    "        structure.wrap(eps = 1e-12) \n",
    "    n_atoms = np.zeros(n_structures, dtype = int) #stores number of atoms in each structures\n",
    "    for i in range(n_structures):\n",
    "        n_atoms[i] = len(structures[i])\n",
    "\n",
    "    #eigenergies, emin, emax = dostools.src.datasets.data.load_eigenenergies(unpack = True, n_structures = len(structures))\n",
    "    xdos = torch.tensor(data.load_xdos())\n",
    "    ldos = torch.tensor(data.load_ldos())\n",
    "    ldos *= 2\n",
    "\n",
    "    print (\"ldos shape is {}\".format(ldos.shape))\n",
    "    mean_dos_per_atom = ldos[train_index].mean(axis = 0) #only calculated for train set to prevent data leakage\n",
    "    print (\"mean dos shape is {}\".format(mean_dos_per_atom.shape))\n",
    "    \n",
    "    \n",
    "    y_pw = ldos - mean_dos_per_atom\n",
    "    y_lcdf = torch.cumsum(y_pw, dim = 1)\n",
    "    _, pc_vectors = utils.build_pc(ldos[train_index], mean_dos_per_atom[None,:], n_pc = 10)\n",
    "    y_pc = utils.build_coeffs(ldos - mean_dos_per_atom[None,:], pc_vectors)\n",
    "    Silicon = data.load_features()\n",
    "    kMM = data.load_kMM()"
   ]
  },
  {
   "cell_type": "markdown",
   "id": "3a7c7af2",
   "metadata": {},
   "source": [
    "## Evaluator"
   ]
  },
  {
   "cell_type": "code",
   "execution_count": 7,
   "id": "8cfe1751",
   "metadata": {
    "ExecuteTime": {
     "end_time": "2023-01-26T15:11:25.661213Z",
     "start_time": "2023-01-26T15:11:25.654075Z"
    }
   },
   "outputs": [],
   "source": [
    "import dostools.src.evaluation.evaluation as evaluation\n",
    "importlib.reload(evaluation)\n",
    "import dostools.src.models.training as training\n",
    "importlib.reload(training)\n",
    "\n",
    "targets = {\n",
    "    'pw' : ldos,\n",
    "    'lcdf' : y_lcdf,\n",
    "    'pc' : y_pc\n",
    "}\n",
    "evaluator = evaluation.Evaluator(targets, xdos, mean_dos_per_atom)"
   ]
  },
  {
   "cell_type": "markdown",
   "id": "2db6462d",
   "metadata": {},
   "source": [
    "## Analytical Models"
   ]
  },
  {
   "cell_type": "code",
   "execution_count": 100,
   "id": "778eedc2",
   "metadata": {
    "ExecuteTime": {
     "end_time": "2023-01-26T16:25:25.907465Z",
     "start_time": "2023-01-26T16:23:38.998624Z"
    },
    "scrolled": true
   },
   "outputs": [
    {
     "name": "stdout",
     "output_type": "stream",
     "text": [
      "The performance at reg value 9.999999999999996e-11 is 0.02488911074035507\n",
      "The performance at reg value 9.999999999999982e-09 is 0.015987433510106452\n",
      "The performance at reg value 1.0000000000000004e-06 is 0.014727581673490999\n",
      "The performance at reg value 0.00010000000000000009 is 0.018910912251443146\n",
      "The performance at reg value 0.010000000000000004 is 0.027055844562503713\n",
      "The performance at reg value 1.0 is 0.03807414403136081\n",
      "The performance at reg value 100.00000000000004 is 0.05733310370242155\n",
      "The log_grid error is:\n",
      "[0.02488911 0.01598743 0.01472758 0.01891091 0.02705584 0.03807414\n",
      " 0.0573331 ]\n",
      "Init value is: 1.0000000000000004e-06\n",
      "The performance at reg value 1.0000000000000004e-06 is 0.014727581673490999\n",
      "The performance at reg value 5.011872336272722e-07 is 0.014678866992408106\n",
      "The performance at reg value 2.511886431509578e-07 is 0.014766975654236724\n",
      "The performance at reg value 7.07945784384138e-07 is 0.014682803520750489\n",
      "Optimal regularization value for Ridge, Feature:avekernels, target: pw, train_ratio: 1.0 is 5.011872336272722e-07\n",
      "The performance at reg value 9.999999999999996e-11 is 0.037386557829904354\n",
      "The performance at reg value 9.999999999999982e-09 is 0.023986865099872162\n",
      "The performance at reg value 1.0000000000000004e-06 is 0.01838902673011883\n",
      "The performance at reg value 0.00010000000000000009 is 0.02260962698187747\n",
      "The performance at reg value 0.010000000000000004 is 0.029039625537309564\n",
      "The performance at reg value 1.0 is 0.039186463152302564\n",
      "The performance at reg value 100.00000000000004 is 0.059869710134370833\n",
      "The log_grid error is:\n",
      "[0.03738656 0.02398687 0.01838903 0.02260963 0.02903963 0.03918646\n",
      " 0.05986971]\n",
      "Init value is: 1.0000000000000004e-06\n",
      "The performance at reg value 1.0000000000000004e-06 is 0.01838902673011883\n",
      "The performance at reg value 5.011872336272722e-07 is 0.018655947681033652\n",
      "The performance at reg value 1.995262314968882e-06 is 0.018587474650909236\n",
      "The performance at reg value 1.4125375446227554e-06 is 0.018430715340015426\n",
      "Optimal regularization value for Ridge, Feature:avekernels, target: pw, train_ratio: 0.75 is 1.0000000000000004e-06\n",
      "The performance at reg value 9.999999999999996e-11 is 0.04187772630091208\n",
      "The performance at reg value 9.999999999999982e-09 is 0.027450663043833028\n",
      "The performance at reg value 1.0000000000000004e-06 is 0.021122894274475272\n",
      "The performance at reg value 0.00010000000000000009 is 0.021886484484581505\n",
      "The performance at reg value 0.010000000000000004 is 0.029231787051558544\n",
      "The performance at reg value 1.0 is 0.04025582038384956\n",
      "The performance at reg value 100.00000000000004 is 0.06366131033196465\n",
      "The log_grid error is:\n",
      "[0.04187773 0.02745066 0.02112289 0.02188648 0.02923179 0.04025582\n",
      " 0.06366131]\n",
      "Init value is: 1.0000000000000004e-06\n",
      "The performance at reg value 1.0000000000000004e-06 is 0.021122894274475272\n",
      "The performance at reg value 5.011872336272722e-07 is 0.021239787675048007\n",
      "The performance at reg value 1.995262314968882e-06 is 0.02115125455467235\n",
      "The performance at reg value 1.4125375446227554e-06 is 0.02111970045828421\n",
      "Optimal regularization value for Ridge, Feature:avekernels, target: pw, train_ratio: 0.5 is 1.4125375446227554e-06\n",
      "The performance at reg value 9.999999999999996e-11 is 0.08055856277628824\n",
      "The performance at reg value 9.999999999999982e-09 is 0.05370750336866714\n",
      "The performance at reg value 1.0000000000000004e-06 is 0.03900486324439941\n",
      "The performance at reg value 0.00010000000000000009 is 0.03491323949385216\n",
      "The performance at reg value 0.010000000000000004 is 0.03409659514716862\n",
      "The performance at reg value 1.0 is 0.043095385968240335\n",
      "The performance at reg value 100.00000000000004 is 0.07133267716073186\n",
      "The log_grid error is:\n",
      "[0.08055856 0.0537075  0.03900486 0.03491324 0.0340966  0.04309539\n",
      " 0.07133268]\n",
      "Init value is: 0.010000000000000004\n",
      "The performance at reg value 0.010000000000000004 is 0.03409659514716862\n",
      "The performance at reg value 0.007943282347242819 is 0.03402648196704281\n",
      "The performance at reg value 0.006309573444801936 is 0.03396848884462954\n",
      "The performance at reg value 0.005011872336272726 is 0.033917585001101085\n",
      "Optimal regularization value for Ridge, Feature:avekernels, target: pw, train_ratio: 0.25 is 0.005011872336272726\n",
      "The performance at reg value 9.999999999999996e-11 is 0.0470273564726883\n",
      "The performance at reg value 9.999999999999982e-09 is 0.03135393777242554\n",
      "The performance at reg value 1.0000000000000004e-06 is 0.020054425087597604\n",
      "The performance at reg value 0.00010000000000000009 is 0.016362072888277648\n",
      "The performance at reg value 0.010000000000000004 is 0.02395674318210591\n",
      "The performance at reg value 1.0 is 0.04281414485376572\n",
      "The performance at reg value 100.00000000000004 is 0.08142463483743637\n",
      "The log_grid error is:\n",
      "[0.04702736 0.03135394 0.02005443 0.01636207 0.02395674 0.04281414\n",
      " 0.08142463]\n",
      "Init value is: 0.00010000000000000009\n",
      "The performance at reg value 0.00010000000000000009 is 0.016362072888277648\n",
      "The performance at reg value 6.309573444801939e-05 is 0.016439094014605245\n",
      "The performance at reg value 0.00015848931924611147 is 0.016417027215670447\n",
      "The performance at reg value 0.00012589254117941672 is 0.01637212888920042\n",
      "Optimal regularization value for Ridge, Feature:avesoap, target: pw, train_ratio: 1.0 is 0.00010000000000000009\n",
      "The performance at reg value 9.999999999999996e-11 is 0.07649137862756472\n",
      "The performance at reg value 9.999999999999982e-09 is 0.051560582343073584\n",
      "The performance at reg value 1.0000000000000004e-06 is 0.028278030495667482\n",
      "The performance at reg value 0.00010000000000000009 is 0.020419557988239127\n",
      "The performance at reg value 0.010000000000000004 is 0.02698844644084375\n",
      "The performance at reg value 1.0 is 0.044534545861463964\n",
      "The performance at reg value 100.00000000000004 is 0.08312541138962976\n",
      "The log_grid error is:\n",
      "[0.07649138 0.05156058 0.02827803 0.02041956 0.02698845 0.04453455\n",
      " 0.08312541]\n",
      "Init value is: 0.00010000000000000009\n",
      "The performance at reg value 0.00010000000000000009 is 0.020419557988239127\n",
      "The performance at reg value 6.309573444801939e-05 is 0.020495881238122862\n",
      "The performance at reg value 0.00015848931924611147 is 0.020541711768919228\n",
      "The performance at reg value 7.943282347242815e-05 is 0.0204286935266388\n",
      "Optimal regularization value for Ridge, Feature:avesoap, target: pw, train_ratio: 0.75 is 0.00010000000000000009\n",
      "The performance at reg value 9.999999999999996e-11 is 0.1096621962654267\n",
      "The performance at reg value 9.999999999999982e-09 is 0.061763607982083565\n",
      "The performance at reg value 1.0000000000000004e-06 is 0.03128935071380948\n",
      "The performance at reg value 0.00010000000000000009 is 0.02306864171375883\n",
      "The performance at reg value 0.010000000000000004 is 0.02720018416224277\n",
      "The performance at reg value 1.0 is 0.04677009491029993\n",
      "The performance at reg value 100.00000000000004 is 0.08561635270714567\n",
      "The log_grid error is:\n",
      "[0.1096622  0.06176361 0.03128935 0.02306864 0.02720018 0.04677009\n",
      " 0.08561635]\n",
      "Init value is: 0.00010000000000000009\n",
      "The performance at reg value 0.00010000000000000009 is 0.02306864171375883\n",
      "The performance at reg value 6.309573444801939e-05 is 0.02333003855656592\n",
      "The performance at reg value 0.00015848931924611147 is 0.022829925565568843\n",
      "The performance at reg value 0.00025118864315095774 is 0.02258992466219104\n",
      "Optimal regularization value for Ridge, Feature:avesoap, target: pw, train_ratio: 0.5 is 0.00025118864315095774\n",
      "The performance at reg value 9.999999999999996e-11 is 0.17225805589331217\n",
      "The performance at reg value 9.999999999999982e-09 is 0.08774873781975547\n",
      "The performance at reg value 1.0000000000000004e-06 is 0.0496467318617505\n",
      "The performance at reg value 0.00010000000000000009 is 0.03435531244805744\n",
      "The performance at reg value 0.010000000000000004 is 0.033041014496038856\n",
      "The performance at reg value 1.0 is 0.0527095571986758\n",
      "The performance at reg value 100.00000000000004 is 0.0892196646173871\n",
      "The log_grid error is:\n",
      "[0.17225806 0.08774874 0.04964673 0.03435531 0.03304101 0.05270956\n",
      " 0.08921966]\n",
      "Init value is: 0.010000000000000004\n",
      "The performance at reg value 0.010000000000000004 is 0.033041014496038856\n",
      "The performance at reg value 0.007943282347242819 is 0.032733926755527165\n",
      "The performance at reg value 0.006309573444801936 is 0.03248540294930424\n",
      "The performance at reg value 0.005011872336272726 is 0.03229491986021738\n",
      "Optimal regularization value for Ridge, Feature:avesoap, target: pw, train_ratio: 0.25 is 0.005011872336272726\n"
     ]
    },
    {
     "name": "stdout",
     "output_type": "stream",
     "text": [
      "The performance at reg value 9.999999999999996e-11 is 0.02360740219628505\n",
      "The performance at reg value 9.999999999999982e-09 is 0.041994877468587835\n",
      "The performance at reg value 1.0000000000000004e-06 is 0.09412310200608882\n",
      "The performance at reg value 0.00010000000000000009 is 0.0942241889697976\n",
      "The performance at reg value 0.010000000000000004 is 0.09422419910593646\n",
      "The performance at reg value 1.0 is 0.0942241991069501\n",
      "The performance at reg value 100.00000000000004 is 0.0942241991069502\n",
      "The log_grid error is:\n",
      "[0.0236074  0.04199488 0.0941231  0.09422419 0.0942242  0.0942242\n",
      " 0.0942242 ]\n",
      "Init value is: 9.999999999999996e-11\n",
      "The performance at reg value [1.e-10] is 0.024605752572204456\n",
      "The performance at reg value [3.16227766e-11] is 0.02340259997103994\n",
      "The performance at reg value [1.e-11] is 0.023934284283943095\n",
      "The performance at reg value [1.77827941e-11] is 0.024046408158937847\n",
      "The performance at reg value [5.62341325e-11] is 0.023886622098559983\n",
      "Optimal Regularization value for GPR, Feature:avekernels, Target: pw, train_ratio: 1.0 is: 3.162277660168371e-11\n",
      "The performance at reg value 9.999999999999996e-11 is 0.027761739046167695\n",
      "The performance at reg value 9.999999999999982e-09 is 0.04378774273317339\n",
      "The performance at reg value 1.0000000000000004e-06 is 0.09371385737148519\n",
      "The performance at reg value 0.00010000000000000009 is 0.09378613877768457\n",
      "The performance at reg value 0.010000000000000004 is 0.09378614602094251\n",
      "The performance at reg value 1.0 is 0.09378614602166685\n",
      "The performance at reg value 100.00000000000004 is 0.09378614602166693\n",
      "The log_grid error is:\n",
      "[0.02776174 0.04378774 0.09371386 0.09378614 0.09378615 0.09378615\n",
      " 0.09378615]\n",
      "Init value is: 9.999999999999996e-11\n",
      "The performance at reg value [1.e-10] is 0.027936939772111976\n",
      "The performance at reg value [3.16227766e-11] is 0.026568128766156635\n",
      "The performance at reg value [1.e-11] is 0.027807840489169525\n",
      "The performance at reg value [1.77827941e-11] is 0.027253161765698676\n",
      "Optimal Regularization value for GPR, Feature:avekernels, Target: pw, train_ratio: 0.75 is: 3.162277660168371e-11\n",
      "The performance at reg value 9.999999999999996e-11 is 0.027875040464917566\n",
      "The performance at reg value 9.999999999999982e-09 is 0.046412506872641326\n",
      "The performance at reg value 1.0000000000000004e-06 is 0.0934224560997429\n",
      "The performance at reg value 0.00010000000000000009 is 0.0934678976667995\n",
      "The performance at reg value 0.010000000000000004 is 0.09346790221755664\n",
      "The performance at reg value 1.0 is 0.09346790221801171\n",
      "The performance at reg value 100.00000000000004 is 0.09346790221801175\n",
      "The log_grid error is:\n",
      "[0.02787504 0.04641251 0.09342246 0.0934679  0.0934679  0.0934679\n",
      " 0.0934679 ]\n",
      "Init value is: 9.999999999999996e-11\n",
      "The performance at reg value [1.e-10] is 0.026401608989692203\n",
      "The performance at reg value [3.16227766e-11] is 0.027877084610189763\n",
      "The performance at reg value [3.16227766e-10] is 0.025850145391997086\n",
      "The performance at reg value [1.e-09] is 0.027889102677115973\n",
      "Optimal Regularization value for GPR, Feature:avekernels, Target: pw, train_ratio: 0.5 is: 3.162277660168385e-10\n",
      "The performance at reg value 9.999999999999996e-11 is 0.03504756598998357\n",
      "The performance at reg value 9.999999999999982e-09 is 0.0537996906935647\n",
      "The performance at reg value 1.0000000000000004e-06 is 0.09295077409164136\n",
      "The performance at reg value 0.00010000000000000009 is 0.09296421175594842\n",
      "The performance at reg value 0.010000000000000004 is 0.09296421309827232\n",
      "The performance at reg value 1.0 is 0.09296421309840656\n",
      "The performance at reg value 100.00000000000004 is 0.09296421309840658\n",
      "The log_grid error is:\n",
      "[0.03504757 0.05379969 0.09295077 0.09296421 0.09296421 0.09296421\n",
      " 0.09296421]\n",
      "Init value is: 9.999999999999996e-11\n",
      "The performance at reg value [1.e-10] is 0.036442494935615945\n",
      "The performance at reg value [3.16227766e-11] is 0.04000092848131968\n",
      "The performance at reg value [3.16227766e-10] is 0.03161513626419702\n",
      "The performance at reg value [1.e-09] is 0.03195435634981961\n",
      "Optimal Regularization value for GPR, Feature:avekernels, Target: pw, train_ratio: 0.25 is: 3.162277660168385e-10\n"
     ]
    }
   ],
   "source": [
    "import dostools.src.models.models as models\n",
    "importlib.reload(models)\n",
    "\n",
    "\n",
    "Ridge_pw_kernel = models.RidgeRegression(Silicon.Features['structure_avekerneldescriptors'], \"avekernels\", y_pw, \"pw\", xdos)\n",
    "Ridge_pw_kernel.obtain_weights([1.0,0.75,0.5,0.25], train_index)\n",
    "Ridge_pw_kernel.get_DosRMSE(evaluator, train_index, test_index)\n",
    "Ridge_pw_kernel.get_targetRMSE(evaluator, train_index, test_index)\n",
    "\n",
    "Ridge_pw_soap = models.RidgeRegression(Silicon.Features['structure_avedescriptors'], \"avesoap\", y_pw, \"pw\", xdos)\n",
    "Ridge_pw_soap.obtain_weights([1.0,0.75,0.5,0.25], train_index) \n",
    "Ridge_pw_soap.get_DosRMSE(evaluator, train_index, test_index) \n",
    "Ridge_pw_soap.get_targetRMSE(evaluator, train_index, test_index) \n",
    "\n",
    "GPR_pw = models.GPR(Silicon.Features['structure_avekerneldescriptors'], \"avekernels\", y_pw, \"pw\", xdos, kMM)\n",
    "GPR_pw.obtain_weights([1.0,0.75,0.5,0.25], train_index)\n",
    "GPR_pw.get_DosRMSE(evaluator, train_index, test_index)\n",
    "GPR_pw.get_targetRMSE(evaluator, train_index, test_index)\n"
   ]
  },
  {
   "cell_type": "code",
   "execution_count": 101,
   "id": "3649a67d",
   "metadata": {
    "ExecuteTime": {
     "end_time": "2023-01-26T16:27:27.489872Z",
     "start_time": "2023-01-26T16:25:25.915391Z"
    }
   },
   "outputs": [
    {
     "name": "stdout",
     "output_type": "stream",
     "text": [
      "The performance at reg value 9.999999999999996e-11 is 0.30294051089969054\n",
      "The performance at reg value 9.999999999999982e-09 is 0.24961739104436304\n",
      "The performance at reg value 1.0000000000000004e-06 is 0.26596574913017423\n",
      "The performance at reg value 0.00010000000000000009 is 0.3076890689349757\n",
      "The performance at reg value 0.010000000000000004 is 0.4288955801160411\n",
      "The performance at reg value 1.0 is 1.0168938487096923\n",
      "The performance at reg value 100.00000000000004 is 2.0934131122906705\n",
      "The log_grid error is:\n",
      "[0.30294051 0.24961739 0.26596575 0.30768907 0.42889558 1.01689385\n",
      " 2.09341311]\n",
      "Init value is: 9.999999999999982e-09\n",
      "The performance at reg value 9.999999999999982e-09 is 0.24961739104436304\n",
      "The performance at reg value 3.9810717055349665e-09 is 0.2517374519703249\n",
      "The performance at reg value 2.511886431509575e-08 is 0.2525078253184684\n",
      "The performance at reg value 6.309573444801934e-09 is 0.2500443950833206\n",
      "Optimal regularization value for Ridge, Feature:avekernels, target: lcdf, train_ratio: 1.0 is 9.999999999999982e-09\n",
      "The performance at reg value 9.999999999999996e-11 is 0.4482873896038605\n",
      "The performance at reg value 9.999999999999982e-09 is 0.33138560261446315\n",
      "The performance at reg value 1.0000000000000004e-06 is 0.3147528845368423\n",
      "The performance at reg value 0.00010000000000000009 is 0.3751511352973762\n",
      "The performance at reg value 0.010000000000000004 is 0.47720616615724665\n",
      "The performance at reg value 1.0 is 1.1274427426507492\n",
      "The performance at reg value 100.00000000000004 is 2.2931540412754097\n",
      "The log_grid error is:\n",
      "[0.44828739 0.3313856  0.31475288 0.37515114 0.47720617 1.12744274\n",
      " 2.29315404]\n",
      "Init value is: 1.0000000000000004e-06\n",
      "The performance at reg value 1.0000000000000004e-06 is 0.3147528845368423\n",
      "The performance at reg value 5.011872336272722e-07 is 0.31033207227519655\n",
      "The performance at reg value 2.511886431509578e-07 is 0.3092388414406722\n",
      "The performance at reg value 1.2589254117941606e-07 is 0.3109915877861795\n",
      "Optimal regularization value for Ridge, Feature:avekernels, target: lcdf, train_ratio: 0.75 is 2.511886431509578e-07\n",
      "The performance at reg value 9.999999999999996e-11 is 0.5033807589938672\n",
      "The performance at reg value 9.999999999999982e-09 is 0.38551033647689925\n",
      "The performance at reg value 1.0000000000000004e-06 is 0.3574136920096966\n",
      "The performance at reg value 0.00010000000000000009 is 0.37396288986553344\n",
      "The performance at reg value 0.010000000000000004 is 0.4942980594248164\n",
      "The performance at reg value 1.0 is 1.1602233339909205\n",
      "The performance at reg value 100.00000000000004 is 2.535283534804463\n",
      "The log_grid error is:\n",
      "[0.50338076 0.38551034 0.35741369 0.37396289 0.49429806 1.16022333\n",
      " 2.53528353]\n",
      "Init value is: 1.0000000000000004e-06\n",
      "The performance at reg value 1.0000000000000004e-06 is 0.3574136920096966\n",
      "The performance at reg value 5.011872336272722e-07 is 0.35498663574115413\n",
      "The performance at reg value 2.511886431509578e-07 is 0.35364989689049464\n",
      "The performance at reg value 1.2589254117941606e-07 is 0.3544565069420771\n",
      "Optimal regularization value for Ridge, Feature:avekernels, target: lcdf, train_ratio: 0.5 is 2.511886431509578e-07\n",
      "The performance at reg value 9.999999999999996e-11 is 0.9389996093205999\n",
      "The performance at reg value 9.999999999999982e-09 is 0.7128011850751295\n",
      "The performance at reg value 1.0000000000000004e-06 is 0.5315971665640584\n",
      "The performance at reg value 0.00010000000000000009 is 0.5859104898222298\n",
      "The performance at reg value 0.010000000000000004 is 0.6590557462053305\n",
      "The performance at reg value 1.0 is 1.235061394884601\n",
      "The performance at reg value 100.00000000000004 is 3.1195752862441646\n",
      "The log_grid error is:\n",
      "[0.93899961 0.71280119 0.53159717 0.58591049 0.65905575 1.23506139\n",
      " 3.11957529]\n",
      "Init value is: 1.0000000000000004e-06\n",
      "The performance at reg value 1.0000000000000004e-06 is 0.5315971665640584\n",
      "The performance at reg value 5.011872336272722e-07 is 0.5504838157993218\n",
      "The performance at reg value 1.995262314968882e-06 is 0.5366611732644544\n",
      "The performance at reg value 1.4125375446227554e-06 is 0.531290871637805\n",
      "Optimal regularization value for Ridge, Feature:avekernels, target: lcdf, train_ratio: 0.25 is 1.4125375446227554e-06\n",
      "The performance at reg value 9.999999999999996e-11 is 0.6630193698446885\n",
      "The performance at reg value 9.999999999999982e-09 is 0.506247788788405\n",
      "The performance at reg value 1.0000000000000004e-06 is 0.3693242167092311\n",
      "The performance at reg value 0.00010000000000000009 is 0.336333629872251\n",
      "The performance at reg value 0.010000000000000004 is 0.40804209517720286\n",
      "The performance at reg value 1.0 is 1.4124314870179069\n",
      "The performance at reg value 100.00000000000004 is 4.134063294086957\n",
      "The log_grid error is:\n",
      "[0.66301937 0.50624779 0.36932422 0.33633363 0.4080421  1.41243149\n",
      " 4.13406329]\n",
      "Init value is: 0.00010000000000000009\n",
      "The performance at reg value 0.00010000000000000009 is 0.336333629872251\n",
      "The performance at reg value 6.309573444801939e-05 is 0.34000906511180795\n",
      "The performance at reg value 0.00015848931924611147 is 0.33332839474865855\n",
      "The performance at reg value 0.00025118864315095774 is 0.3310798199927173\n",
      "Optimal regularization value for Ridge, Feature:avesoap, target: lcdf, train_ratio: 1.0 is 0.00025118864315095774\n",
      "The performance at reg value 9.999999999999996e-11 is 1.0420440340969748\n",
      "The performance at reg value 9.999999999999982e-09 is 0.7105928500289218\n",
      "The performance at reg value 1.0000000000000004e-06 is 0.4669814285165339\n",
      "The performance at reg value 0.00010000000000000009 is 0.3943053070934317\n",
      "The performance at reg value 0.010000000000000004 is 0.48188267646044114\n",
      "The performance at reg value 1.0 is 1.5668528192951356\n",
      "The performance at reg value 100.00000000000004 is 4.298588369897248\n",
      "The log_grid error is:\n",
      "[1.04204403 0.71059285 0.46698143 0.39430531 0.48188268 1.56685282\n",
      " 4.29858837]\n",
      "Init value is: 0.00010000000000000009\n",
      "The performance at reg value 0.00010000000000000009 is 0.3943053070934317\n",
      "The performance at reg value 6.309573444801939e-05 is 0.3985930502139098\n",
      "The performance at reg value 0.00015848931924611147 is 0.39104786539318925\n",
      "The performance at reg value 0.00025118864315095774 is 0.3892166895818653\n",
      "Optimal regularization value for Ridge, Feature:avesoap, target: lcdf, train_ratio: 0.75 is 0.00025118864315095774\n",
      "The performance at reg value 9.999999999999996e-11 is 1.486216777996514\n",
      "The performance at reg value 9.999999999999982e-09 is 0.8516484298189729\n",
      "The performance at reg value 1.0000000000000004e-06 is 0.5502584142428852\n",
      "The performance at reg value 0.00010000000000000009 is 0.3944448603904803\n",
      "The performance at reg value 0.010000000000000004 is 0.5161273480509964\n",
      "The performance at reg value 1.0 is 1.7008355657926022\n",
      "The performance at reg value 100.00000000000004 is 4.501337847762627\n",
      "The log_grid error is:\n",
      "[1.48621678 0.85164843 0.55025841 0.39444486 0.51612735 1.70083557\n",
      " 4.50133785]\n",
      "Init value is: 0.00010000000000000009\n",
      "The performance at reg value 0.00010000000000000009 is 0.3944448603904803\n",
      "The performance at reg value 6.309573444801939e-05 is 0.40173165385689025\n",
      "The performance at reg value 0.00015848931924611147 is 0.38932442848703386\n",
      "The performance at reg value 0.00025118864315095774 is 0.3861801197619532\n",
      "Optimal regularization value for Ridge, Feature:avesoap, target: lcdf, train_ratio: 0.5 is 0.00025118864315095774\n",
      "The performance at reg value 9.999999999999996e-11 is 2.3680608230724705\n",
      "The performance at reg value 9.999999999999982e-09 is 1.3239613995771127\n",
      "The performance at reg value 1.0000000000000004e-06 is 0.8690247226609412\n",
      "The performance at reg value 0.00010000000000000009 is 0.5407016521329484\n",
      "The performance at reg value 0.010000000000000004 is 0.7146018195883836\n",
      "The performance at reg value 1.0 is 2.0309496461836485\n",
      "The performance at reg value 100.00000000000004 is 4.911764209975294\n",
      "The log_grid error is:\n",
      "[2.36806082 1.3239614  0.86902472 0.54070165 0.71460182 2.03094965\n",
      " 4.91176421]\n",
      "Init value is: 0.00010000000000000009\n",
      "The performance at reg value 0.00010000000000000009 is 0.5407016521329484\n",
      "The performance at reg value 6.309573444801939e-05 is 0.5391291662257744\n",
      "The performance at reg value 3.981071705534977e-05 is 0.540872900249114\n",
      "The performance at reg value 7.943282347242815e-05 is 0.5396595831142276\n",
      "Optimal regularization value for Ridge, Feature:avesoap, target: lcdf, train_ratio: 0.25 is 6.309573444801939e-05\n"
     ]
    },
    {
     "name": "stdout",
     "output_type": "stream",
     "text": [
      "The performance at reg value 9.999999999999996e-11 is 0.3582900919139367\n",
      "The performance at reg value 9.999999999999982e-09 is 0.37275894760787504\n",
      "The performance at reg value 1.0000000000000004e-06 is 0.3683979085803729\n",
      "The performance at reg value 0.00010000000000000009 is 2.628841196282138\n",
      "The performance at reg value 0.010000000000000004 is 5.318819596087717\n",
      "The performance at reg value 1.0 is 5.319751341043245\n",
      "The performance at reg value 100.00000000000004 is 5.319751434245397\n",
      "The log_grid error is:\n",
      "[0.35829009 0.37275895 0.36839791 2.6288412  5.3188196  5.31975134\n",
      " 5.31975143]\n",
      "Init value is: 9.999999999999996e-11\n",
      "The performance at reg value [1.e-10] is 0.3617312696251491\n",
      "The performance at reg value [3.16227766e-11] is 0.37745795705207075\n",
      "The performance at reg value [3.16227766e-10] is 0.36972685644010284\n",
      "The performance at reg value [1.77827941e-10] is 0.3745893194886805\n",
      "The performance at reg value [5.62341325e-11] is 0.36559214078515645\n",
      "Optimal Regularization value for GPR, Feature:avekernels, Target: lcdf, train_ratio: 1.0 is: 9.999999999999996e-11\n",
      "The performance at reg value 9.999999999999996e-11 is 0.4340260315931246\n",
      "The performance at reg value 9.999999999999982e-09 is 0.47139107421715953\n",
      "The performance at reg value 1.0000000000000004e-06 is 0.4210788485043201\n",
      "The performance at reg value 0.00010000000000000009 is 2.94074862089035\n",
      "The performance at reg value 0.010000000000000004 is 5.296646093349638\n",
      "The performance at reg value 1.0 is 5.297306559930177\n",
      "The performance at reg value 100.00000000000004 is 5.297306625990325\n",
      "The log_grid error is:\n",
      "[0.43402603 0.47139107 0.42107885 2.94074862 5.29664609 5.29730656\n",
      " 5.29730663]\n",
      "Init value is: 1.0000000000000004e-06\n",
      "The performance at reg value [1.e-06] is 0.4257672219413349\n",
      "The performance at reg value [5.01187234e-07] is 0.4304584775215439\n",
      "The performance at reg value [1.99526231e-06] is 0.4410306904980141\n",
      "The performance at reg value [7.07945784e-07] is 0.43815294168131036\n",
      "The performance at reg value [7.07945784e-07] is 0.43815294168131036\n",
      "Optimal Regularization value for GPR, Feature:avekernels, Target: lcdf, train_ratio: 0.75 is: 1.0000000000000004e-06\n",
      "The performance at reg value 9.999999999999996e-11 is 0.44069235891570546\n",
      "The performance at reg value 9.999999999999982e-09 is 0.4303131929688214\n",
      "The performance at reg value 1.0000000000000004e-06 is 0.40530212379482466\n",
      "The performance at reg value 0.00010000000000000009 is 3.3581230835628393\n",
      "The performance at reg value 0.010000000000000004 is 5.235893252857495\n",
      "The performance at reg value 1.0 is 5.23629191177551\n",
      "The performance at reg value 100.00000000000004 is 5.236291951646471\n",
      "The log_grid error is:\n",
      "[0.44069236 0.43031319 0.40530212 3.35812308 5.23589325 5.23629191\n",
      " 5.23629195]\n",
      "Init value is: 1.0000000000000004e-06\n",
      "The performance at reg value [1.e-06] is 0.38819219222814777\n",
      "The performance at reg value [5.01187234e-07] is 0.41704707136896113\n",
      "The performance at reg value [1.99526231e-06] is 0.424678342284683\n",
      "The performance at reg value [7.07945784e-07] is 0.4108102059663111\n",
      "Optimal Regularization value for GPR, Feature:avekernels, Target: lcdf, train_ratio: 0.5 is: 1.0000000000000004e-06\n",
      "The performance at reg value 9.999999999999996e-11 is 0.6145240192890891\n",
      "The performance at reg value 9.999999999999982e-09 is 0.6412284335183529\n",
      "The performance at reg value 1.0000000000000004e-06 is 0.5134558157322296\n",
      "The performance at reg value 0.00010000000000000009 is 4.117941871174333\n",
      "The performance at reg value 0.010000000000000004 is 5.246740977846014\n",
      "The performance at reg value 1.0 is 5.246855732385827\n",
      "The performance at reg value 100.00000000000004 is 5.246855743859846\n",
      "The log_grid error is:\n",
      "[0.61452402 0.64122843 0.51345582 4.11794187 5.24674098 5.24685573\n",
      " 5.24685574]\n",
      "Init value is: 1.0000000000000004e-06\n",
      "The performance at reg value [1.e-06] is 0.5116860736418338\n",
      "The performance at reg value [5.01187234e-07] is 0.5716312778394667\n",
      "The performance at reg value [1.99526231e-06] is 0.5414270305743742\n",
      "The performance at reg value [1.41253754e-06] is 0.5136521376961325\n",
      "Optimal Regularization value for GPR, Feature:avekernels, Target: lcdf, train_ratio: 0.25 is: 1.0000000000000004e-06\n"
     ]
    }
   ],
   "source": [
    "Ridge_lcdf_kernel = models.RidgeRegression(Silicon.Features['structure_avekerneldescriptors'], \"avekernels\", y_lcdf, \"lcdf\", xdos)\n",
    "Ridge_lcdf_kernel.obtain_weights([1.0,0.75,0.5,0.25], train_index)\n",
    "Ridge_lcdf_kernel.get_DosRMSE(evaluator, train_index, test_index)\n",
    "Ridge_lcdf_kernel.get_targetRMSE(evaluator, train_index, test_index)\n",
    "\n",
    "Ridge_lcdf_soap = models.RidgeRegression(Silicon.Features['structure_avedescriptors'], \"avesoap\", y_lcdf, \"lcdf\", xdos)\n",
    "Ridge_lcdf_soap.obtain_weights([1.0,0.75,0.5,0.25], train_index)\n",
    "Ridge_lcdf_soap.get_DosRMSE(evaluator, train_index, test_index)\n",
    "Ridge_lcdf_soap.get_targetRMSE(evaluator, train_index, test_index)\n",
    "\n",
    "GPR_lcdf = models.GPR(Silicon.Features['structure_avekerneldescriptors'], \"avekernels\", y_lcdf, \"lcdf\", xdos, kMM)\n",
    "GPR_lcdf.obtain_weights([1.0,0.75,0.5,0.25], train_index)\n",
    "GPR_lcdf.get_DosRMSE(evaluator, train_index, test_index)\n",
    "GPR_lcdf.get_targetRMSE(evaluator, train_index, test_index)"
   ]
  },
  {
   "cell_type": "code",
   "execution_count": null,
   "id": "f618582a",
   "metadata": {},
   "outputs": [],
   "source": [
    "[369, 341, 745, 521, 278, 5, 193, 37]"
   ]
  },
  {
   "cell_type": "markdown",
   "id": "7844ccf4",
   "metadata": {},
   "source": [
    "## Analytical Evaluation"
   ]
  },
  {
   "cell_type": "code",
   "execution_count": 105,
   "id": "42e964a9",
   "metadata": {
    "ExecuteTime": {
     "end_time": "2023-01-26T16:28:32.671191Z",
     "start_time": "2023-01-26T16:28:32.658228Z"
    }
   },
   "outputs": [
    {
     "name": "stdout",
     "output_type": "stream",
     "text": [
      "Ridge_pw_kernel DOS RMSE\n",
      "{1.0: array([ 8.94896867, 10.260054  ,  9.21725818,  0.04963029,  0.05958249,\n",
      "        0.05162265]), 0.75: array([ 9.77312821, 11.12209438, 10.04892532,  0.05420102,  0.06458855,\n",
      "        0.05628052]), 0.5: array([10.86239665, 11.71137637, 11.03393834,  0.06024202,  0.06801065,\n",
      "        0.06179724]), 0.25: array([26.12161199, 26.06197913, 26.09796345,  0.14486845,  0.15134789,\n",
      "        0.14616559])}\n",
      "Ridge_pw_kernel Target RMSE\n",
      "{1.0: array([ 8.94896867, 10.260054  ,  9.21725818,  0.04963029,  0.05958249,\n",
      "        0.05162265]), 0.75: array([ 9.77312821, 11.12209438, 10.04892532,  0.05420102,  0.06458855,\n",
      "        0.05628052]), 0.5: array([10.86239665, 11.71137637, 11.03393834,  0.06024202,  0.06801065,\n",
      "        0.06179724]), 0.25: array([26.12161199, 26.06197913, 26.09796345,  0.14486845,  0.15134789,\n",
      "        0.14616559])}\n"
     ]
    }
   ],
   "source": [
    "print (\"Ridge_pw_kernel DOS RMSE\")\n",
    "print (Ridge_pw_kernel.DOSrmse)\n",
    "print (\"Ridge_pw_kernel Target RMSE\")\n",
    "print (Ridge_pw_kernel.targetrmse)"
   ]
  },
  {
   "cell_type": "code",
   "execution_count": 104,
   "id": "eb011577",
   "metadata": {
    "ExecuteTime": {
     "end_time": "2023-01-26T16:28:28.540275Z",
     "start_time": "2023-01-26T16:28:28.527426Z"
    }
   },
   "outputs": [
    {
     "name": "stdout",
     "output_type": "stream",
     "text": [
      "Ridge_pw_soap DOS RMSE\n",
      "{1.0: array([10.74889973, 11.6362159 , 10.92844813,  0.05961257,  0.06757417,\n",
      "        0.06120643]), 0.75: array([11.20180752, 12.09020208, 11.38138437,  0.06212436,  0.07021058,\n",
      "        0.06374316]), 0.5: array([13.1183806 , 13.29469995, 13.14932045,  0.07275353,  0.07720537,\n",
      "        0.07364476]), 0.25: array([23.03672075, 22.73477731, 22.9641052 ,  0.12775988,  0.13202607,\n",
      "        0.12861394])}\n",
      "Ridge_pw_soap Target RMSE\n",
      "{1.0: array([10.74889973, 11.6362159 , 10.92844813,  0.05961257,  0.06757417,\n",
      "        0.06120643]), 0.75: array([11.20180752, 12.09020208, 11.38138437,  0.06212436,  0.07021058,\n",
      "        0.06374316]), 0.5: array([13.1183806 , 13.29469995, 13.14932045,  0.07275353,  0.07720537,\n",
      "        0.07364476]), 0.25: array([23.03672075, 22.73477731, 22.9641052 ,  0.12775988,  0.13202607,\n",
      "        0.12861394])}\n"
     ]
    }
   ],
   "source": [
    "print (\"Ridge_pw_soap DOS RMSE\")\n",
    "print (Ridge_pw_soap.DOSrmse)\n",
    "print (\"Ridge_pw_soap Target RMSE\")\n",
    "print (Ridge_pw_soap.targetrmse)"
   ]
  },
  {
   "cell_type": "code",
   "execution_count": 106,
   "id": "fa331725",
   "metadata": {
    "ExecuteTime": {
     "end_time": "2023-01-26T16:29:00.928518Z",
     "start_time": "2023-01-26T16:29:00.914658Z"
    }
   },
   "outputs": [
    {
     "name": "stdout",
     "output_type": "stream",
     "text": [
      "GPR_pw DOS RMSE\n",
      "{1.0: array([22.11708717, 21.35773438, 21.94992095,  0.12265967,  0.12402926,\n",
      "        0.12293385]), 0.75: array([21.5088905 , 20.74365928, 21.20937588,  0.11865888,  0.12046319,\n",
      "        0.11878631]), 0.5: array([21.06248509, 20.88436152, 21.41177157,  0.11681263,  0.12128028,\n",
      "        0.11991986]), 0.25: array([23.83315022, 24.49232399, 24.30919548,  0.12613305,  0.14223254,\n",
      "        0.13614732])}\n",
      "GPR_pw Target RMSE\n",
      "{1.0: array([22.11708717, 21.35773438, 21.94992095,  0.12265967,  0.12402926,\n",
      "        0.12293385]), 0.75: array([21.5088905 , 20.74365928, 21.20937588,  0.11865888,  0.12046319,\n",
      "        0.11878631]), 0.5: array([21.06248509, 20.88436152, 21.41177157,  0.11681263,  0.12128028,\n",
      "        0.11991986]), 0.25: array([23.83315022, 24.49232399, 24.30919548,  0.12613305,  0.14223254,\n",
      "        0.13614732])}\n"
     ]
    }
   ],
   "source": [
    "print (\"GPR_pw DOS RMSE\")\n",
    "print (GPR_pw.DOSrmse)\n",
    "print (\"GPR_pw Target RMSE\")\n",
    "print (GPR_pw.targetrmse)"
   ]
  },
  {
   "cell_type": "code",
   "execution_count": 109,
   "id": "b6ea6b64",
   "metadata": {
    "ExecuteTime": {
     "end_time": "2023-01-26T16:30:10.231577Z",
     "start_time": "2023-01-26T16:30:10.220459Z"
    }
   },
   "outputs": [
    {
     "name": "stdout",
     "output_type": "stream",
     "text": [
      "Ridge_lcdf_kernel DOS RMSE\n",
      "{1.0: array([ 8.21098306, 10.33286287,  8.64789288,  0.04553748,  0.0600053 ,\n",
      "        0.04843383]), 0.75: array([10.21666806, 11.8486123 , 10.5510134 ,  0.05666086,  0.06880761,\n",
      "        0.05909255]), 0.5: array([11.17952744, 12.5301001 , 11.45505122,  0.0620008 ,  0.07276516,\n",
      "        0.06415575]), 0.25: array([15.06591952, 14.74258081, 14.99230181,  0.08355443,  0.08561355,\n",
      "        0.08396665])}\n",
      "Ridge_lcdf_kernel Target RMSE\n",
      "{1.0: array([1.51905341, 2.06275147, 1.63040385, 0.44271821, 0.62213614,\n",
      "       0.47863633]), 0.75: array([2.19245196, 2.57954095, 2.27138249, 0.63897583, 0.77800242,\n",
      "       0.66680791]), 0.5: array([2.50723751, 2.78201543, 2.5629707 , 0.73071803, 0.83906974,\n",
      "       0.75240923]), 0.25: array([3.8251488 , 3.57944404, 3.77342258, 1.11481469, 1.07957818,\n",
      "       1.1077606 ])}\n"
     ]
    }
   ],
   "source": [
    "print (\"Ridge_lcdf_kernel DOS RMSE\")\n",
    "print (Ridge_lcdf_kernel.DOSrmse)\n",
    "print (\"Ridge_lcdf_kernel Target RMSE\")\n",
    "print (Ridge_lcdf_kernel.targetrmse)"
   ]
  },
  {
   "cell_type": "code",
   "execution_count": 107,
   "id": "9501f5fc",
   "metadata": {
    "ExecuteTime": {
     "end_time": "2023-01-26T16:29:47.481087Z",
     "start_time": "2023-01-26T16:29:47.477560Z"
    }
   },
   "outputs": [
    {
     "name": "stdout",
     "output_type": "stream",
     "text": [
      "Ridge_lcdf_soap DOS RMSE\n",
      "{1.0: array([12.5041179 , 13.05041966, 12.61212243,  0.06934688,  0.07578678,\n",
      "        0.0706361 ]), 0.75: array([13.0034001 , 13.53473352, 13.10808214,  0.07211586,  0.0785993 ,\n",
      "        0.07341379]), 0.5: array([13.97558488, 14.06515944, 13.9881487 ,  0.07750752,  0.08167961,\n",
      "        0.07834274]), 0.25: array([16.73216006, 15.43007066, 16.45465778,  0.09279527,  0.08960596,\n",
      "        0.0921568 ])}\n",
      "Ridge_lcdf_soap Target RMSE\n",
      "{1.0: array([3.14754043, 3.16554191, 3.15026236, 0.91733014, 0.95474324,\n",
      "       0.92481996]), 0.75: array([3.31747847, 3.35290847, 3.32373203, 0.96685748, 1.01125393,\n",
      "       0.97574531]), 0.5: array([3.67800992, 3.57160966, 3.65498061, 1.07193202, 1.07721529,\n",
      "       1.07298969]), 0.25: array([4.50041176, 3.95253412, 4.3863266 , 1.31161567, 1.19210401,\n",
      "       1.28769034])}\n"
     ]
    }
   ],
   "source": [
    "print (\"Ridge_lcdf_soap DOS RMSE\")\n",
    "print (Ridge_lcdf_soap.DOSrmse)\n",
    "print (\"Ridge_lcdf_soap Target RMSE\")\n",
    "print (Ridge_lcdf_soap.targetrmse)"
   ]
  },
  {
   "cell_type": "code",
   "execution_count": 108,
   "id": "0309af72",
   "metadata": {
    "ExecuteTime": {
     "end_time": "2023-01-26T16:30:03.510814Z",
     "start_time": "2023-01-26T16:30:03.499779Z"
    }
   },
   "outputs": [
    {
     "name": "stdout",
     "output_type": "stream",
     "text": [
      "GPR_lcdf DOS RMSE\n",
      "{1.0: array([20.90363469, 20.46987494, 20.80457749,  0.11592995,  0.11887326,\n",
      "        0.11651918]), 0.75: array([22.40731733, 22.02863113, 22.25118271,  0.12361527,  0.12792531,\n",
      "        0.12462111]), 0.5: array([22.55960419, 22.07145294, 22.64809633,  0.12511565,  0.12817399,\n",
      "        0.12684409]), 0.25: array([23.69955108, 22.92802315, 23.60884309,  0.125426  ,  0.13314829,\n",
      "        0.13222489])}\n",
      "GPR_lcdf Target RMSE\n",
      "{1.0: array([5.63197171, 5.46999487, 5.59690318, 1.64140145, 1.64977775,\n",
      "       1.64307832]), 0.75: array([6.08147253, 5.83454171, 5.94154172, 1.75597532, 1.75972689,\n",
      "       1.74425358]), 0.5: array([6.05751721, 6.14648197, 6.31087866, 1.79060255, 1.85380963,\n",
      "       1.85267952]), 0.25: array([6.62111657, 6.19329568, 6.35071534, 1.75255165, 1.86792888,\n",
      "       1.86437434])}\n"
     ]
    }
   ],
   "source": [
    "print (\"GPR_lcdf DOS RMSE\")\n",
    "print (GPR_lcdf.DOSrmse)\n",
    "print (\"GPR_lcdf Target RMSE\")\n",
    "print (GPR_lcdf.targetrmse)"
   ]
  },
  {
   "cell_type": "markdown",
   "id": "c91e6519",
   "metadata": {},
   "source": [
    "## Torch Model"
   ]
  },
  {
   "cell_type": "code",
   "execution_count": 283,
   "id": "091a655c",
   "metadata": {
    "ExecuteTime": {
     "end_time": "2023-01-27T14:18:49.479577Z",
     "start_time": "2023-01-27T14:18:49.449653Z"
    }
   },
   "outputs": [],
   "source": [
    "import dostools.src.models.models as models\n",
    "import dostools.src.models.training as training\n",
    "import dostools.src.models.architectures as architecture\n",
    "import dostools.src.loss.loss as loss\n",
    "importlib.reload(models)\n",
    "importlib.reload(training)\n",
    "importlib.reload(architecture)\n",
    "importlib.reload(loss)\n",
    "\n",
    "TLReg_pw_soap = models.TRegression(Silicon.Features['structure_avedescriptors'].double(), \"avedesc\", y_pw.double(), \"pw\", \"pw\", xdos, \"LBFGS\", \"cpu\")\n",
    "TLReg_pw_kernel = models.TRegression(Silicon.Features['structure_avekerneldescriptors'].double(), \"avekerneldesc\", y_pw.double(), \"pw\", \"pw\", xdos, \"LBFGS\", \"cpu\")\n",
    "TLReg_lcdf_soap = models.TRegression(Silicon.Features['structure_avedescriptors'].double(), \"avedesc\", y_lcdf.double(), \"lcdf\", \"pw\", xdos, \"LBFGS\", \"cpu\")\n",
    "TLReg_lcdf_kernel = models.TRegression(Silicon.Features['structure_avekerneldescriptors'].double(), \"avekerneldesc\", y_lcdf.double(), \"lcdf\", \"pw\", xdos, \"LBFGS\", \"cpu\")\n"
   ]
  },
  {
   "cell_type": "code",
   "execution_count": 284,
   "id": "866ba7d4",
   "metadata": {
    "ExecuteTime": {
     "end_time": "2023-01-27T17:26:27.474608Z",
     "start_time": "2023-01-27T14:18:50.105262Z"
    },
    "scrolled": true
   },
   "outputs": [
    {
     "name": "stdout",
     "output_type": "stream",
     "text": [
      "Currently training torch linear model with features :avedesc, target: pw, opt: LBFGS, lr:1\n"
     ]
    },
    {
     "name": "stderr",
     "output_type": "stream",
     "text": [
      "Epoch: 63:   0%|▎                                                                                                     | 63/20000 [01:18<6:53:11,  1.24s/it, lowest_loss=0.944, pred_loss=0.936, trigger=30]\n"
     ]
    },
    {
     "name": "stdout",
     "output_type": "stream",
     "text": [
      "Implemented early stopping with lowest_loss: 0.9442992561216077\n",
      "Currently training torch linear model with features :avedesc, target: pw, opt: LBFGS, lr:1\n"
     ]
    },
    {
     "name": "stderr",
     "output_type": "stream",
     "text": [
      "Epoch: 56:   0%|▎                                                                                                       | 56/20000 [01:04<6:22:51,  1.15s/it, lowest_loss=1.01, pred_loss=1.01, trigger=30]\n"
     ]
    },
    {
     "name": "stdout",
     "output_type": "stream",
     "text": [
      "Implemented early stopping with lowest_loss: 1.0097232858565601\n",
      "Currently training torch linear model with features :avedesc, target: pw, opt: LBFGS, lr:1\n"
     ]
    },
    {
     "name": "stderr",
     "output_type": "stream",
     "text": [
      "Epoch: 64:   0%|▎                                                                                                     | 64/20000 [01:21<7:00:43,  1.27s/it, lowest_loss=0.959, pred_loss=0.949, trigger=30]\n"
     ]
    },
    {
     "name": "stdout",
     "output_type": "stream",
     "text": [
      "Implemented early stopping with lowest_loss: 0.9585811136212399\n",
      "Currently training torch linear model with features :avedesc, target: pw, opt: LBFGS, lr:1\n"
     ]
    },
    {
     "name": "stderr",
     "output_type": "stream",
     "text": [
      "Epoch: 74:   0%|▍                                                                                                             | 74/20000 [01:14<5:35:40,  1.01s/it, lowest_loss=1, pred_loss=1, trigger=30]\n"
     ]
    },
    {
     "name": "stdout",
     "output_type": "stream",
     "text": [
      "Implemented early stopping with lowest_loss: 1.0028169816103687\n",
      "Currently trying regularization :9.999999999999996e-11\n"
     ]
    },
    {
     "name": "stderr",
     "output_type": "stream",
     "text": [
      "Epoch: 55:   0%|▎                                                                                                      | 55/20000 [03:05<18:39:03,  3.37s/it, lowest_loss=2.23, pred_loss=2.23, trigger=30]\n"
     ]
    },
    {
     "name": "stdout",
     "output_type": "stream",
     "text": [
      "Implemented early stopping with lowest_loss: 2.233548744353652\n"
     ]
    },
    {
     "name": "stderr",
     "output_type": "stream",
     "text": [
      "Epoch: 51:   0%|▎                                                                                                        | 51/20000 [02:45<17:58:59,  3.25s/it, lowest_loss=2.5, pred_loss=2.5, trigger=30]\n"
     ]
    },
    {
     "name": "stdout",
     "output_type": "stream",
     "text": [
      "Implemented early stopping with lowest_loss: 2.5020694206310923\n",
      "The performance at reg value:9.999999999999996e-11 is 0.00033435810875861354\n",
      "Currently trying regularization :9.999999999999982e-09\n"
     ]
    },
    {
     "name": "stderr",
     "output_type": "stream",
     "text": [
      "Epoch: 65:   0%|▎                                                                                                      | 65/20000 [03:36<18:24:27,  3.32s/it, lowest_loss=2.07, pred_loss=2.07, trigger=30]\n"
     ]
    },
    {
     "name": "stdout",
     "output_type": "stream",
     "text": [
      "Implemented early stopping with lowest_loss: 2.0723958602706385\n"
     ]
    },
    {
     "name": "stderr",
     "output_type": "stream",
     "text": [
      "Epoch: 65:   0%|▎                                                                                                      | 65/20000 [03:51<19:43:57,  3.56s/it, lowest_loss=2.25, pred_loss=2.25, trigger=30]\n"
     ]
    },
    {
     "name": "stdout",
     "output_type": "stream",
     "text": [
      "Implemented early stopping with lowest_loss: 2.2521840701275053\n",
      "The performance at reg value:9.999999999999982e-09 is 0.0003103572594404036\n",
      "Currently trying regularization :1.0000000000000004e-06\n"
     ]
    },
    {
     "name": "stderr",
     "output_type": "stream",
     "text": [
      "Epoch: 67:   0%|▎                                                                                                      | 67/20000 [03:25<16:58:37,  3.07s/it, lowest_loss=2.39, pred_loss=2.25, trigger=30]\n"
     ]
    },
    {
     "name": "stdout",
     "output_type": "stream",
     "text": [
      "Implemented early stopping with lowest_loss: 2.3902966952807736\n"
     ]
    },
    {
     "name": "stderr",
     "output_type": "stream",
     "text": [
      "Epoch: 53:   0%|▎                                                                                                       | 53/20000 [03:03<19:08:49,  3.46s/it, lowest_loss=2.4, pred_loss=2.26, trigger=30]\n"
     ]
    },
    {
     "name": "stdout",
     "output_type": "stream",
     "text": [
      "Implemented early stopping with lowest_loss: 2.4016740863253343\n",
      "The performance at reg value:1.0000000000000004e-06 is 0.00032150281287445496\n",
      "Currently trying regularization :0.00010000000000000009\n"
     ]
    },
    {
     "name": "stderr",
     "output_type": "stream",
     "text": [
      "Epoch: 36:   0%|▏                                                                                                       | 36/20000 [02:02<18:52:59,  3.41s/it, lowest_loss=5.9, pred_loss=2.98, trigger=30]\n"
     ]
    },
    {
     "name": "stdout",
     "output_type": "stream",
     "text": [
      "Implemented early stopping with lowest_loss: 5.899432723574687\n"
     ]
    },
    {
     "name": "stderr",
     "output_type": "stream",
     "text": [
      "Epoch: 35:   0%|▏                                                                                                      | 35/20000 [02:01<19:13:58,  3.47s/it, lowest_loss=5.85, pred_loss=3.32, trigger=30]\n"
     ]
    },
    {
     "name": "stdout",
     "output_type": "stream",
     "text": [
      "Implemented early stopping with lowest_loss: 5.85408245538177\n",
      "The performance at reg value:0.00010000000000000009 is 0.0006486852414614918\n",
      "Currently trying regularization :0.010000000000000004\n"
     ]
    },
    {
     "name": "stderr",
     "output_type": "stream",
     "text": [
      "Epoch: 32:   0%|▏                                                                                                      | 32/20000 [01:54<19:51:20,  3.58s/it, lowest_loss=14.6, pred_loss=4.27, trigger=30]\n"
     ]
    },
    {
     "name": "stdout",
     "output_type": "stream",
     "text": [
      "Implemented early stopping with lowest_loss: 14.645357479471276\n"
     ]
    },
    {
     "name": "stderr",
     "output_type": "stream",
     "text": [
      "Epoch: 32:   0%|▏                                                                                                       | 32/20000 [01:59<20:37:47,  3.72s/it, lowest_loss=14.6, pred_loss=3.8, trigger=30]\n"
     ]
    },
    {
     "name": "stdout",
     "output_type": "stream",
     "text": [
      "Implemented early stopping with lowest_loss: 14.64797269843572\n",
      "The performance at reg value:0.010000000000000004 is 0.0011863767198648986\n",
      "Currently trying regularization :1.0\n"
     ]
    },
    {
     "name": "stderr",
     "output_type": "stream",
     "text": [
      "Epoch: 31:   0%|▏                                                                                                       | 31/20000 [01:44<18:44:32,  3.38s/it, lowest_loss=325, pred_loss=6.24, trigger=30]\n"
     ]
    },
    {
     "name": "stdout",
     "output_type": "stream",
     "text": [
      "Implemented early stopping with lowest_loss: 324.7880126663898\n"
     ]
    },
    {
     "name": "stderr",
     "output_type": "stream",
     "text": [
      "Epoch: 31:   0%|▏                                                                                                       | 31/20000 [01:43<18:33:35,  3.35s/it, lowest_loss=317, pred_loss=6.24, trigger=30]\n"
     ]
    },
    {
     "name": "stdout",
     "output_type": "stream",
     "text": [
      "Implemented early stopping with lowest_loss: 316.6871619720949\n",
      "The performance at reg value:1.0 is 0.0017701423504639427\n",
      "Currently trying regularization :100.00000000000004\n"
     ]
    },
    {
     "name": "stderr",
     "output_type": "stream",
     "text": [
      "Epoch: 34:   0%|▏                                                                                                    | 34/20000 [00:10<1:43:59,  3.20it/s, lowest_loss=3.35e+3, pred_loss=12.2, trigger=30]\n"
     ]
    },
    {
     "name": "stdout",
     "output_type": "stream",
     "text": [
      "Implemented early stopping with lowest_loss: 3354.7031841675766\n"
     ]
    },
    {
     "name": "stderr",
     "output_type": "stream",
     "text": [
      "Epoch: 32:   0%|▏                                                                                                    | 32/20000 [00:07<1:19:38,  4.18it/s, lowest_loss=3.34e+3, pred_loss=12.2, trigger=30]\n"
     ]
    },
    {
     "name": "stdout",
     "output_type": "stream",
     "text": [
      "Implemented early stopping with lowest_loss: 3344.214608762289\n",
      "The performance at reg value:100.00000000000004 is 0.0018706953538720466\n",
      "The log_grid error is:\n",
      "[0.00033436 0.00031036 0.0003215  0.00064869 0.00118638 0.00177014\n",
      " 0.0018707 ]\n",
      "Init value is: 9.999999999999982e-09\n",
      "Currently trying regularization :[1.e-08]\n"
     ]
    },
    {
     "name": "stderr",
     "output_type": "stream",
     "text": [
      "Epoch: 47:   0%|▏                                                                                                        | 47/20000 [02:35<18:20:56,  3.31s/it, lowest_loss=2.5, pred_loss=2.5, trigger=30]\n"
     ]
    },
    {
     "name": "stdout",
     "output_type": "stream",
     "text": [
      "Implemented early stopping with lowest_loss: 2.50460168877648\n"
     ]
    },
    {
     "name": "stderr",
     "output_type": "stream",
     "text": [
      "Epoch: 50:   0%|▎                                                                                                       | 50/20000 [02:47<18:35:34,  3.36s/it, lowest_loss=2.51, pred_loss=2.5, trigger=30]\n"
     ]
    },
    {
     "name": "stdout",
     "output_type": "stream",
     "text": [
      "Implemented early stopping with lowest_loss: 2.5075214052369414\n",
      "The performance at reg value:[1.e-08] is 0.0003563429406390058\n",
      "Currently trying regularization :[3.98107171e-09]\n"
     ]
    },
    {
     "name": "stderr",
     "output_type": "stream",
     "text": [
      "Epoch: 45:   0%|▏                                                                                                      | 45/20000 [02:30<18:30:51,  3.34s/it, lowest_loss=2.81, pred_loss=2.81, trigger=30]\n"
     ]
    },
    {
     "name": "stdout",
     "output_type": "stream",
     "text": [
      "Implemented early stopping with lowest_loss: 2.8101717408635145\n"
     ]
    },
    {
     "name": "stderr",
     "output_type": "stream",
     "text": [
      "Epoch: 45:   0%|▏                                                                                                      | 45/20000 [02:41<19:56:12,  3.60s/it, lowest_loss=2.81, pred_loss=2.81, trigger=30]\n"
     ]
    },
    {
     "name": "stdout",
     "output_type": "stream",
     "text": [
      "Implemented early stopping with lowest_loss: 2.809071304872681\n",
      "The performance at reg value:[3.98107171e-09] is 0.0004000065908913039\n",
      "Currently trying regularization :[2.51188643e-08]\n"
     ]
    },
    {
     "name": "stderr",
     "output_type": "stream",
     "text": [
      "Epoch: 60:   0%|▎                                                                                                      | 60/20000 [03:42<20:30:54,  3.70s/it, lowest_loss=1.93, pred_loss=1.92, trigger=30]\n"
     ]
    },
    {
     "name": "stdout",
     "output_type": "stream",
     "text": [
      "Implemented early stopping with lowest_loss: 1.9250090248561373\n"
     ]
    },
    {
     "name": "stderr",
     "output_type": "stream",
     "text": [
      "Epoch: 57:   0%|▎                                                                                                      | 57/20000 [03:25<19:56:02,  3.60s/it, lowest_loss=1.97, pred_loss=1.95, trigger=30]\n"
     ]
    },
    {
     "name": "stdout",
     "output_type": "stream",
     "text": [
      "Implemented early stopping with lowest_loss: 1.9652074593227171\n",
      "The performance at reg value:[2.51188643e-08] is 0.000276269420241576\n",
      "Currently trying regularization :[6.30957344e-08]\n"
     ]
    },
    {
     "name": "stderr",
     "output_type": "stream",
     "text": [
      "Epoch: 54:   0%|▎                                                                                                      | 54/20000 [03:05<19:03:25,  3.44s/it, lowest_loss=2.82, pred_loss=2.81, trigger=30]\n"
     ]
    },
    {
     "name": "stdout",
     "output_type": "stream",
     "text": [
      "Implemented early stopping with lowest_loss: 2.821789564330106\n"
     ]
    },
    {
     "name": "stderr",
     "output_type": "stream",
     "text": [
      "Epoch: 43:   0%|▏                                                                                                      | 43/20000 [02:22<18:21:12,  3.31s/it, lowest_loss=2.82, pred_loss=2.81, trigger=30]\n"
     ]
    },
    {
     "name": "stdout",
     "output_type": "stream",
     "text": [
      "Implemented early stopping with lowest_loss: 2.816987569414214\n",
      "The performance at reg value:[6.30957344e-08] is 0.00040065321759835725\n",
      "Optimal regularization value for Ridge, Feature:avedesc, target: pw is 2.511886431509575e-08\n",
      "Currently training torch linear model with features :avedesc, target: pw, opt: LBFGS, lr:1\n"
     ]
    },
    {
     "name": "stderr",
     "output_type": "stream",
     "text": [
      "Epoch: 70:   0%|▎                                                                                                      | 70/20000 [03:56<18:42:17,  3.38s/it, lowest_loss=2.62, pred_loss=2.61, trigger=30]\n"
     ]
    },
    {
     "name": "stdout",
     "output_type": "stream",
     "text": [
      "Implemented early stopping with lowest_loss: 2.6172693509334213\n",
      "Currently training torch linear model with features :avedesc, target: pw, opt: LBFGS, lr:1\n"
     ]
    },
    {
     "name": "stderr",
     "output_type": "stream",
     "text": [
      "Epoch: 61:   0%|▎                                                                                                      | 61/20000 [03:33<19:24:27,  3.50s/it, lowest_loss=2.26, pred_loss=2.26, trigger=30]\n"
     ]
    },
    {
     "name": "stdout",
     "output_type": "stream",
     "text": [
      "Implemented early stopping with lowest_loss: 2.2628316982929464\n",
      "Currently training torch linear model with features :avedesc, target: pw, opt: LBFGS, lr:1\n"
     ]
    },
    {
     "name": "stderr",
     "output_type": "stream",
     "text": [
      "Epoch: 58:   0%|▎                                                                                                      | 58/20000 [03:36<20:40:18,  3.73s/it, lowest_loss=2.32, pred_loss=2.31, trigger=30]\n"
     ]
    },
    {
     "name": "stdout",
     "output_type": "stream",
     "text": [
      "Implemented early stopping with lowest_loss: 2.323743798198797\n",
      "Currently training torch linear model with features :avedesc, target: pw, opt: LBFGS, lr:1\n"
     ]
    },
    {
     "name": "stderr",
     "output_type": "stream",
     "text": [
      "Epoch: 51:   0%|▎                                                                                                      | 51/20000 [03:08<20:27:32,  3.69s/it, lowest_loss=2.27, pred_loss=2.25, trigger=30]\n"
     ]
    },
    {
     "name": "stdout",
     "output_type": "stream",
     "text": [
      "Implemented early stopping with lowest_loss: 2.266765862083716\n",
      "Currently trying regularization :9.999999999999996e-11\n"
     ]
    },
    {
     "name": "stderr",
     "output_type": "stream",
     "text": [
      "Epoch: 82:   0%|▍                                                                                                        | 82/20000 [01:49<7:23:18,  1.34s/it, lowest_loss=4.7, pred_loss=4.68, trigger=30]\n"
     ]
    },
    {
     "name": "stdout",
     "output_type": "stream",
     "text": [
      "Implemented early stopping with lowest_loss: 4.6996654191308105\n"
     ]
    },
    {
     "name": "stderr",
     "output_type": "stream",
     "text": [
      "Epoch: 82:   0%|▍                                                                                                       | 82/20000 [01:40<6:47:41,  1.23s/it, lowest_loss=4.93, pred_loss=4.92, trigger=30]\n"
     ]
    },
    {
     "name": "stdout",
     "output_type": "stream",
     "text": [
      "Implemented early stopping with lowest_loss: 4.92899041233935\n",
      "The performance at reg value:9.999999999999996e-11 is 0.03564369026097572\n",
      "Currently trying regularization :9.999999999999982e-09\n"
     ]
    },
    {
     "name": "stderr",
     "output_type": "stream",
     "text": [
      "Epoch: 78:   0%|▍                                                                                                       | 78/20000 [01:43<7:18:59,  1.32s/it, lowest_loss=5.51, pred_loss=4.95, trigger=30]\n"
     ]
    },
    {
     "name": "stdout",
     "output_type": "stream",
     "text": [
      "Implemented early stopping with lowest_loss: 5.509493765833942\n"
     ]
    },
    {
     "name": "stderr",
     "output_type": "stream",
     "text": [
      "Epoch: 72:   0%|▎                                                                                                       | 72/20000 [01:29<6:54:48,  1.25s/it, lowest_loss=5.52, pred_loss=4.91, trigger=30]\n"
     ]
    },
    {
     "name": "stdout",
     "output_type": "stream",
     "text": [
      "Implemented early stopping with lowest_loss: 5.517355666919779\n",
      "The performance at reg value:9.999999999999982e-09 is 0.03704266163753239\n",
      "Currently trying regularization :1.0000000000000004e-06\n"
     ]
    },
    {
     "name": "stderr",
     "output_type": "stream",
     "text": [
      "Epoch: 36:   0%|▏                                                                                                       | 36/20000 [00:42<6:34:41,  1.19s/it, lowest_loss=21.6, pred_loss=6.86, trigger=30]\n"
     ]
    },
    {
     "name": "stdout",
     "output_type": "stream",
     "text": [
      "Implemented early stopping with lowest_loss: 21.6300064273863\n"
     ]
    },
    {
     "name": "stderr",
     "output_type": "stream",
     "text": [
      "Epoch: 36:   0%|▏                                                                                                       | 36/20000 [00:42<6:35:30,  1.19s/it, lowest_loss=21.6, pred_loss=6.39, trigger=30]\n"
     ]
    },
    {
     "name": "stdout",
     "output_type": "stream",
     "text": [
      "Implemented early stopping with lowest_loss: 21.64615670800866\n",
      "The performance at reg value:1.0000000000000004e-06 is 0.0784942417685564\n",
      "Currently trying regularization :0.00010000000000000009\n"
     ]
    },
    {
     "name": "stderr",
     "output_type": "stream",
     "text": [
      "Epoch: 31:   0%|▏                                                                                                        | 31/20000 [00:39<6:59:35,  1.26s/it, lowest_loss=343, pred_loss=7.76, trigger=30]\n"
     ]
    },
    {
     "name": "stdout",
     "output_type": "stream",
     "text": [
      "Implemented early stopping with lowest_loss: 343.3683553948135\n"
     ]
    },
    {
     "name": "stderr",
     "output_type": "stream",
     "text": [
      "Epoch: 31:   0%|▏                                                                                                        | 31/20000 [00:39<7:03:04,  1.27s/it, lowest_loss=341, pred_loss=9.04, trigger=30]\n"
     ]
    },
    {
     "name": "stdout",
     "output_type": "stream",
     "text": [
      "Implemented early stopping with lowest_loss: 341.4846159708796\n",
      "The performance at reg value:0.00010000000000000009 is 2.0055410803370517\n",
      "Currently trying regularization :0.010000000000000004\n"
     ]
    },
    {
     "name": "stderr",
     "output_type": "stream",
     "text": [
      "Epoch: 31:   0%|▏                                                                                                    | 31/20000 [00:39<7:01:22,  1.27s/it, lowest_loss=7.68e+3, pred_loss=8.61, trigger=30]\n"
     ]
    },
    {
     "name": "stdout",
     "output_type": "stream",
     "text": [
      "Implemented early stopping with lowest_loss: 7680.395056380747\n"
     ]
    },
    {
     "name": "stderr",
     "output_type": "stream",
     "text": [
      "Epoch: 31:   0%|▏                                                                                                     | 31/20000 [00:37<6:39:51,  1.20s/it, lowest_loss=7.7e+3, pred_loss=9.22, trigger=30]\n"
     ]
    },
    {
     "name": "stdout",
     "output_type": "stream",
     "text": [
      "Implemented early stopping with lowest_loss: 7696.33003576796\n",
      "The performance at reg value:0.010000000000000004 is 2.009820034050965\n",
      "Currently trying regularization :1.0\n"
     ]
    },
    {
     "name": "stderr",
     "output_type": "stream",
     "text": [
      "Epoch: 30:   0%|▏                                                                                                       | 30/20000 [00:35<6:33:56,  1.18s/it, lowest_loss=9999, pred_loss=31.7, trigger=30]\n"
     ]
    },
    {
     "name": "stdout",
     "output_type": "stream",
     "text": [
      "Implemented early stopping with lowest_loss: 9999\n"
     ]
    },
    {
     "name": "stderr",
     "output_type": "stream",
     "text": [
      "Epoch: 30:   0%|▏                                                                                                       | 30/20000 [00:37<6:52:23,  1.24s/it, lowest_loss=9999, pred_loss=31.7, trigger=30]\n"
     ]
    },
    {
     "name": "stdout",
     "output_type": "stream",
     "text": [
      "Implemented early stopping with lowest_loss: 9999\n",
      "The performance at reg value:1.0 is 28.307116174891576\n",
      "Currently trying regularization :100.00000000000004\n"
     ]
    },
    {
     "name": "stderr",
     "output_type": "stream",
     "text": [
      "Epoch: 30:   0%|▏                                                                                                          | 30/20000 [00:03<40:44,  8.17it/s, lowest_loss=9999, pred_loss=454, trigger=30]\n"
     ]
    },
    {
     "name": "stdout",
     "output_type": "stream",
     "text": [
      "Implemented early stopping with lowest_loss: 9999\n"
     ]
    },
    {
     "name": "stderr",
     "output_type": "stream",
     "text": [
      "Epoch: 30:   0%|▏                                                                                                          | 30/20000 [00:02<33:04, 10.06it/s, lowest_loss=9999, pred_loss=454, trigger=30]\n"
     ]
    },
    {
     "name": "stdout",
     "output_type": "stream",
     "text": [
      "Implemented early stopping with lowest_loss: 9999\n",
      "The performance at reg value:100.00000000000004 is 28.304018970636633\n",
      "The log_grid error is:\n",
      "[ 0.03564369  0.03704266  0.07849424  2.00554108  2.00982003 28.30711617\n",
      " 28.30401897]\n",
      "Init value is: 9.999999999999996e-11\n",
      "Currently trying regularization :[1.e-10]\n"
     ]
    },
    {
     "name": "stderr",
     "output_type": "stream",
     "text": [
      "Epoch: 85:   0%|▍                                                                                                        | 85/20000 [01:46<6:57:01,  1.26s/it, lowest_loss=4.7, pred_loss=4.69, trigger=30]\n"
     ]
    },
    {
     "name": "stdout",
     "output_type": "stream",
     "text": [
      "Implemented early stopping with lowest_loss: 4.698297791836325\n"
     ]
    },
    {
     "name": "stderr",
     "output_type": "stream",
     "text": [
      "Epoch: 68:   0%|▎                                                                                                        | 68/20000 [01:20<6:35:22,  1.19s/it, lowest_loss=4.91, pred_loss=4.9, trigger=30]\n"
     ]
    },
    {
     "name": "stdout",
     "output_type": "stream",
     "text": [
      "Implemented early stopping with lowest_loss: 4.912279815592368\n",
      "The performance at reg value:[1.e-10] is 0.03555438385906215\n",
      "Currently trying regularization :[3.16227766e-11]\n"
     ]
    },
    {
     "name": "stderr",
     "output_type": "stream",
     "text": [
      "Epoch: 90:   0%|▍                                                                                                       | 90/20000 [01:54<7:03:28,  1.28s/it, lowest_loss=4.94, pred_loss=4.94, trigger=30]\n"
     ]
    },
    {
     "name": "stdout",
     "output_type": "stream",
     "text": [
      "Implemented early stopping with lowest_loss: 4.944393703512622\n"
     ]
    },
    {
     "name": "stderr",
     "output_type": "stream",
     "text": [
      "Epoch: 91:   0%|▍                                                                                                       | 91/20000 [01:51<6:46:00,  1.22s/it, lowest_loss=4.73, pred_loss=4.72, trigger=30]\n"
     ]
    },
    {
     "name": "stdout",
     "output_type": "stream",
     "text": [
      "Implemented early stopping with lowest_loss: 4.728176096002852\n",
      "The performance at reg value:[3.16227766e-11] is 0.036482415776377376\n",
      "Currently trying regularization :[3.16227766e-10]\n"
     ]
    },
    {
     "name": "stderr",
     "output_type": "stream",
     "text": [
      "Epoch: 70:   0%|▎                                                                                                        | 70/20000 [01:27<6:54:19,  1.25s/it, lowest_loss=4.93, pred_loss=4.9, trigger=30]\n"
     ]
    },
    {
     "name": "stdout",
     "output_type": "stream",
     "text": [
      "Implemented early stopping with lowest_loss: 4.931204196625441\n"
     ]
    },
    {
     "name": "stderr",
     "output_type": "stream",
     "text": [
      "Epoch: 64:   0%|▎                                                                                                        | 64/20000 [01:17<6:41:55,  1.21s/it, lowest_loss=4.92, pred_loss=4.9, trigger=30]\n"
     ]
    },
    {
     "name": "stdout",
     "output_type": "stream",
     "text": [
      "Implemented early stopping with lowest_loss: 4.922990888993969\n",
      "The performance at reg value:[3.16227766e-10] is 0.03674465816244373\n",
      "Currently trying regularization :[5.62341325e-11]\n"
     ]
    },
    {
     "name": "stderr",
     "output_type": "stream",
     "text": [
      "Epoch: 73:   0%|▍                                                                                                        | 73/20000 [01:31<6:56:16,  1.25s/it, lowest_loss=4.9, pred_loss=4.88, trigger=30]\n"
     ]
    },
    {
     "name": "stdout",
     "output_type": "stream",
     "text": [
      "Implemented early stopping with lowest_loss: 4.896542368031091\n"
     ]
    },
    {
     "name": "stderr",
     "output_type": "stream",
     "text": [
      "Epoch: 81:   0%|▍                                                                                                       | 81/20000 [01:39<6:48:46,  1.23s/it, lowest_loss=4.86, pred_loss=4.85, trigger=30]\n"
     ]
    },
    {
     "name": "stdout",
     "output_type": "stream",
     "text": [
      "Implemented early stopping with lowest_loss: 4.858514884921227\n",
      "The performance at reg value:[5.62341325e-11] is 0.03658875623056194\n",
      "Currently trying regularization :[5.62341325e-11]\n"
     ]
    },
    {
     "name": "stderr",
     "output_type": "stream",
     "text": [
      "Epoch: 83:   0%|▍                                                                                                       | 83/20000 [01:39<6:36:56,  1.20s/it, lowest_loss=4.87, pred_loss=4.87, trigger=30]\n"
     ]
    },
    {
     "name": "stdout",
     "output_type": "stream",
     "text": [
      "Implemented early stopping with lowest_loss: 4.873216405276295\n"
     ]
    },
    {
     "name": "stderr",
     "output_type": "stream",
     "text": [
      "Epoch: 85:   0%|▍                                                                                                       | 85/20000 [01:38<6:25:59,  1.16s/it, lowest_loss=4.68, pred_loss=4.67, trigger=30]\n"
     ]
    },
    {
     "name": "stdout",
     "output_type": "stream",
     "text": [
      "Implemented early stopping with lowest_loss: 4.676947937654781\n",
      "The performance at reg value:[5.62341325e-11] is 0.03614919142402064\n",
      "Optimal regularization value for Ridge, Feature:avedesc, target: pw is 9.999999999999996e-11\n",
      "Currently training torch linear model with features :avedesc, target: pw, opt: LBFGS, lr:1\n"
     ]
    },
    {
     "name": "stderr",
     "output_type": "stream",
     "text": [
      "Epoch: 77:   0%|▍                                                                                                       | 77/20000 [01:29<6:26:01,  1.16s/it, lowest_loss=4.69, pred_loss=4.67, trigger=30]\n"
     ]
    },
    {
     "name": "stdout",
     "output_type": "stream",
     "text": [
      "Implemented early stopping with lowest_loss: 4.687571003651845\n",
      "Currently training torch linear model with features :avedesc, target: pw, opt: LBFGS, lr:1\n"
     ]
    },
    {
     "name": "stderr",
     "output_type": "stream",
     "text": [
      "Epoch: 85:   0%|▍                                                                                                       | 85/20000 [01:44<6:49:19,  1.23s/it, lowest_loss=4.66, pred_loss=4.65, trigger=30]\n"
     ]
    },
    {
     "name": "stdout",
     "output_type": "stream",
     "text": [
      "Implemented early stopping with lowest_loss: 4.663809824180909\n",
      "Currently training torch linear model with features :avedesc, target: pw, opt: LBFGS, lr:1\n"
     ]
    },
    {
     "name": "stderr",
     "output_type": "stream",
     "text": [
      "Epoch: 89:   0%|▍                                                                                                       | 89/20000 [01:43<6:24:25,  1.16s/it, lowest_loss=4.89, pred_loss=4.88, trigger=30]\n"
     ]
    },
    {
     "name": "stdout",
     "output_type": "stream",
     "text": [
      "Implemented early stopping with lowest_loss: 4.889329132037187\n",
      "Currently training torch linear model with features :avedesc, target: pw, opt: LBFGS, lr:1\n"
     ]
    },
    {
     "name": "stderr",
     "output_type": "stream",
     "text": [
      "Epoch: 68:   0%|▎                                                                                                        | 68/20000 [01:22<6:41:33,  1.21s/it, lowest_loss=4.92, pred_loss=4.9, trigger=30]\n"
     ]
    },
    {
     "name": "stdout",
     "output_type": "stream",
     "text": [
      "Implemented early stopping with lowest_loss: 4.91588905806784\n",
      "Currently trying regularization :9.999999999999996e-11\n"
     ]
    },
    {
     "name": "stderr",
     "output_type": "stream",
     "text": [
      "Epoch: 89:   0%|▍                                                                                                          | 89/20000 [05:25<20:14:44,  3.66s/it, lowest_loss=11, pred_loss=11, trigger=30]\n"
     ]
    },
    {
     "name": "stdout",
     "output_type": "stream",
     "text": [
      "Implemented early stopping with lowest_loss: 11.000739243353946\n"
     ]
    },
    {
     "name": "stderr",
     "output_type": "stream",
     "text": [
      "Epoch: 60:   0%|▎                                                                                                      | 60/20000 [03:33<19:41:15,  3.55s/it, lowest_loss=8.83, pred_loss=8.82, trigger=30]\n"
     ]
    },
    {
     "name": "stdout",
     "output_type": "stream",
     "text": [
      "Implemented early stopping with lowest_loss: 8.83412177736503\n",
      "The performance at reg value:9.999999999999996e-11 is 0.07520557110834832\n",
      "Currently trying regularization :9.999999999999982e-09\n"
     ]
    },
    {
     "name": "stderr",
     "output_type": "stream",
     "text": [
      "Epoch: 64:   0%|▎                                                                                                      | 64/20000 [03:47<19:42:32,  3.56s/it, lowest_loss=10.5, pred_loss=10.1, trigger=30]\n"
     ]
    },
    {
     "name": "stdout",
     "output_type": "stream",
     "text": [
      "Implemented early stopping with lowest_loss: 10.516145918325423\n"
     ]
    },
    {
     "name": "stderr",
     "output_type": "stream",
     "text": [
      "Epoch: 69:   0%|▎                                                                                                      | 69/20000 [04:01<19:22:07,  3.50s/it, lowest_loss=10.6, pred_loss=10.3, trigger=30]\n"
     ]
    },
    {
     "name": "stdout",
     "output_type": "stream",
     "text": [
      "Implemented early stopping with lowest_loss: 10.624669469109827\n",
      "The performance at reg value:9.999999999999982e-09 is 0.07612311982898645\n",
      "Currently trying regularization :1.0000000000000004e-06\n"
     ]
    },
    {
     "name": "stderr",
     "output_type": "stream",
     "text": [
      "Epoch: 41:   0%|▏                                                                                                      | 41/20000 [02:25<19:37:41,  3.54s/it, lowest_loss=24.7, pred_loss=12.9, trigger=30]\n"
     ]
    },
    {
     "name": "stdout",
     "output_type": "stream",
     "text": [
      "Implemented early stopping with lowest_loss: 24.67392614178935\n"
     ]
    },
    {
     "name": "stderr",
     "output_type": "stream",
     "text": [
      "Epoch: 40:   0%|▏                                                                                                      | 40/20000 [02:22<19:44:32,  3.56s/it, lowest_loss=24.7, pred_loss=12.9, trigger=30]\n"
     ]
    },
    {
     "name": "stdout",
     "output_type": "stream",
     "text": [
      "Implemented early stopping with lowest_loss: 24.659620181660117\n",
      "The performance at reg value:1.0000000000000004e-06 is 0.13301130639405262\n",
      "Currently trying regularization :0.00010000000000000009\n"
     ]
    },
    {
     "name": "stderr",
     "output_type": "stream",
     "text": [
      "Epoch: 33:   0%|▏                                                                                                       | 33/20000 [01:48<18:18:05,  3.30s/it, lowest_loss=135, pred_loss=17.8, trigger=30]\n"
     ]
    },
    {
     "name": "stdout",
     "output_type": "stream",
     "text": [
      "Implemented early stopping with lowest_loss: 134.9562859881242\n"
     ]
    },
    {
     "name": "stderr",
     "output_type": "stream",
     "text": [
      "Epoch: 33:   0%|▏                                                                                                       | 33/20000 [01:48<18:14:13,  3.29s/it, lowest_loss=138, pred_loss=17.8, trigger=30]\n"
     ]
    },
    {
     "name": "stdout",
     "output_type": "stream",
     "text": [
      "Implemented early stopping with lowest_loss: 138.08860572917584\n",
      "The performance at reg value:0.00010000000000000009 is 0.6155878091263134\n",
      "Currently trying regularization :0.010000000000000004\n"
     ]
    },
    {
     "name": "stderr",
     "output_type": "stream",
     "text": [
      "Epoch: 31:   0%|▏                                                                                                       | 31/20000 [01:41<18:07:14,  3.27s/it, lowest_loss=622, pred_loss=20.5, trigger=30]\n"
     ]
    },
    {
     "name": "stdout",
     "output_type": "stream",
     "text": [
      "Implemented early stopping with lowest_loss: 622.4103491385056\n"
     ]
    },
    {
     "name": "stderr",
     "output_type": "stream",
     "text": [
      "Epoch: 31:   0%|▏                                                                                                       | 31/20000 [01:43<18:30:00,  3.34s/it, lowest_loss=622, pred_loss=20.4, trigger=30]\n"
     ]
    },
    {
     "name": "stdout",
     "output_type": "stream",
     "text": [
      "Implemented early stopping with lowest_loss: 622.3533876031624\n",
      "The performance at reg value:0.010000000000000004 is 2.4951138756285705\n",
      "Currently trying regularization :1.0\n"
     ]
    },
    {
     "name": "stderr",
     "output_type": "stream",
     "text": [
      "Epoch: 30:   0%|▏                                                                                                      | 30/20000 [01:39<18:26:58,  3.33s/it, lowest_loss=9999, pred_loss=35.4, trigger=30]\n"
     ]
    },
    {
     "name": "stdout",
     "output_type": "stream",
     "text": [
      "Implemented early stopping with lowest_loss: 9999\n"
     ]
    },
    {
     "name": "stderr",
     "output_type": "stream",
     "text": [
      "Epoch: 30:   0%|▏                                                                                                      | 30/20000 [01:40<18:38:15,  3.36s/it, lowest_loss=9999, pred_loss=34.9, trigger=30]\n"
     ]
    },
    {
     "name": "stdout",
     "output_type": "stream",
     "text": [
      "Implemented early stopping with lowest_loss: 9999\n",
      "The performance at reg value:1.0 is 28.532902364863148\n",
      "Currently trying regularization :100.00000000000004\n"
     ]
    },
    {
     "name": "stderr",
     "output_type": "stream",
     "text": [
      "Epoch: 30:   0%|▏                                                                                                        | 30/20000 [00:25<4:47:49,  1.16it/s, lowest_loss=9999, pred_loss=188, trigger=30]\n"
     ]
    },
    {
     "name": "stdout",
     "output_type": "stream",
     "text": [
      "Implemented early stopping with lowest_loss: 9999\n"
     ]
    },
    {
     "name": "stderr",
     "output_type": "stream",
     "text": [
      "Epoch: 30:   0%|▏                                                                                                        | 30/20000 [00:28<5:19:58,  1.04it/s, lowest_loss=9999, pred_loss=188, trigger=30]\n"
     ]
    },
    {
     "name": "stdout",
     "output_type": "stream",
     "text": [
      "Implemented early stopping with lowest_loss: 9999\n",
      "The performance at reg value:100.00000000000004 is 28.565772371399653\n",
      "The log_grid error is:\n",
      "[ 0.07520557  0.07612312  0.13301131  0.61558781  2.49511388 28.53290236\n",
      " 28.56577237]\n",
      "Init value is: 9.999999999999996e-11\n",
      "Currently trying regularization :[1.e-10]\n"
     ]
    },
    {
     "name": "stderr",
     "output_type": "stream",
     "text": [
      "Epoch: 56:   0%|▎                                                                                                      | 56/20000 [03:07<18:34:46,  3.35s/it, lowest_loss=10.3, pred_loss=10.3, trigger=30]\n"
     ]
    },
    {
     "name": "stdout",
     "output_type": "stream",
     "text": [
      "Implemented early stopping with lowest_loss: 10.34189575107597\n"
     ]
    },
    {
     "name": "stderr",
     "output_type": "stream",
     "text": [
      "Epoch: 71:   0%|▎                                                                                                      | 71/20000 [03:41<17:14:29,  3.11s/it, lowest_loss=8.84, pred_loss=8.83, trigger=30]\n"
     ]
    },
    {
     "name": "stdout",
     "output_type": "stream",
     "text": [
      "Implemented early stopping with lowest_loss: 8.837206810744378\n",
      "The performance at reg value:[1.e-10] is 0.0722529402189902\n",
      "Currently trying regularization :[3.16227766e-11]\n"
     ]
    },
    {
     "name": "stderr",
     "output_type": "stream",
     "text": [
      "Epoch: 64:   0%|▎                                                                                                      | 64/20000 [03:11<16:34:22,  2.99s/it, lowest_loss=11.6, pred_loss=11.6, trigger=30]\n"
     ]
    },
    {
     "name": "stdout",
     "output_type": "stream",
     "text": [
      "Implemented early stopping with lowest_loss: 11.5780726799433\n"
     ]
    },
    {
     "name": "stderr",
     "output_type": "stream",
     "text": [
      "Epoch: 63:   0%|▎                                                                                                      | 63/20000 [03:08<16:36:11,  3.00s/it, lowest_loss=11.1, pred_loss=11.1, trigger=30]\n"
     ]
    },
    {
     "name": "stdout",
     "output_type": "stream",
     "text": [
      "Implemented early stopping with lowest_loss: 11.131559494104277\n",
      "The performance at reg value:[3.16227766e-11] is 0.08499673576345333\n",
      "Currently trying regularization :[3.16227766e-10]\n"
     ]
    },
    {
     "name": "stderr",
     "output_type": "stream",
     "text": [
      "Epoch: 70:   0%|▎                                                                                                      | 70/20000 [03:32<16:47:15,  3.03s/it, lowest_loss=9.67, pred_loss=9.65, trigger=30]\n"
     ]
    },
    {
     "name": "stdout",
     "output_type": "stream",
     "text": [
      "Implemented early stopping with lowest_loss: 9.666894462346463\n"
     ]
    },
    {
     "name": "stderr",
     "output_type": "stream",
     "text": [
      "Epoch: 86:   0%|▍                                                                                                      | 86/20000 [04:34<17:41:01,  3.20s/it, lowest_loss=8.21, pred_loss=8.18, trigger=30]\n"
     ]
    },
    {
     "name": "stdout",
     "output_type": "stream",
     "text": [
      "Implemented early stopping with lowest_loss: 8.211550229027376\n",
      "The performance at reg value:[3.16227766e-10] is 0.06718026213547271\n",
      "Currently trying regularization :[1.e-09]\n"
     ]
    },
    {
     "name": "stderr",
     "output_type": "stream",
     "text": [
      "Epoch: 58:   0%|▎                                                                                                      | 58/20000 [03:18<18:55:03,  3.42s/it, lowest_loss=11.6, pred_loss=11.6, trigger=30]\n"
     ]
    },
    {
     "name": "stdout",
     "output_type": "stream",
     "text": [
      "Implemented early stopping with lowest_loss: 11.613234056753615\n"
     ]
    },
    {
     "name": "stderr",
     "output_type": "stream",
     "text": [
      "Epoch: 78:   0%|▍                                                                                                      | 78/20000 [04:32<19:18:25,  3.49s/it, lowest_loss=8.85, pred_loss=8.78, trigger=30]\n"
     ]
    },
    {
     "name": "stdout",
     "output_type": "stream",
     "text": [
      "Implemented early stopping with lowest_loss: 8.845120462406156\n",
      "The performance at reg value:[1.e-09] is 0.07706217733451633\n",
      "Optimal regularization value for Ridge, Feature:avedesc, target: pw is 3.162277660168385e-10\n",
      "Currently training torch linear model with features :avedesc, target: pw, opt: LBFGS, lr:1\n"
     ]
    },
    {
     "name": "stderr",
     "output_type": "stream",
     "text": [
      "Epoch: 77:   0%|▍                                                                                                      | 77/20000 [04:43<20:23:41,  3.69s/it, lowest_loss=9.65, pred_loss=9.63, trigger=30]\n"
     ]
    },
    {
     "name": "stdout",
     "output_type": "stream",
     "text": [
      "Implemented early stopping with lowest_loss: 9.647427644471584\n",
      "Currently training torch linear model with features :avedesc, target: pw, opt: LBFGS, lr:1\n"
     ]
    },
    {
     "name": "stderr",
     "output_type": "stream",
     "text": [
      "Epoch: 87:   0%|▍                                                                                                         | 87/20000 [05:21<20:25:42,  3.69s/it, lowest_loss=9, pred_loss=8.98, trigger=30]\n"
     ]
    },
    {
     "name": "stdout",
     "output_type": "stream",
     "text": [
      "Implemented early stopping with lowest_loss: 9.00176011701582\n",
      "Currently training torch linear model with features :avedesc, target: pw, opt: LBFGS, lr:1\n"
     ]
    },
    {
     "name": "stderr",
     "output_type": "stream",
     "text": [
      "Epoch: 54:   0%|▎                                                                                                      | 54/20000 [03:16<20:08:37,  3.64s/it, lowest_loss=10.3, pred_loss=10.3, trigger=30]\n"
     ]
    },
    {
     "name": "stdout",
     "output_type": "stream",
     "text": [
      "Implemented early stopping with lowest_loss: 10.348100292758737\n",
      "Currently training torch linear model with features :avedesc, target: pw, opt: LBFGS, lr:1\n"
     ]
    },
    {
     "name": "stderr",
     "output_type": "stream",
     "text": [
      "Epoch: 62:   0%|▎                                                                                                      | 62/20000 [03:47<20:20:03,  3.67s/it, lowest_loss=10.8, pred_loss=10.8, trigger=30]"
     ]
    },
    {
     "name": "stdout",
     "output_type": "stream",
     "text": [
      "Implemented early stopping with lowest_loss: 10.811720761936554\n"
     ]
    },
    {
     "name": "stderr",
     "output_type": "stream",
     "text": [
      "\n"
     ]
    }
   ],
   "source": [
    "torch.manual_seed(0)\n",
    "TLReg_pw_soap.obtain_weights([1.0,0.75,0.5,0.25], train_index, 1e-11, 1, 20000, loss.t_get_mse)\n",
    "torch.manual_seed(0)\n",
    "TLReg_pw_kernel.obtain_weights([1.0,0.75,0.5,0.25], train_index, 2.5119e-08, 1, 20000, loss.t_get_mse)\n",
    "torch.manual_seed(0)\n",
    "TLReg_lcdf_soap.obtain_weights([1.0,0.75,0.5,0.25], train_index, 1e-10, 1, 20000, loss.t_get_mse)\n",
    "torch.manual_seed(0)\n",
    "TLReg_lcdf_kernel.obtain_weights([1.0,0.75,0.5,0.25], train_index, 3.1623e-10, 1, 20000, loss.t_get_mse)"
   ]
  },
  {
   "cell_type": "code",
   "execution_count": 70,
   "id": "79b35ed8",
   "metadata": {
    "ExecuteTime": {
     "end_time": "2023-01-26T16:06:01.418908Z",
     "start_time": "2023-01-26T16:05:58.792630Z"
    }
   },
   "outputs": [
    {
     "name": "stdout",
     "output_type": "stream",
     "text": [
      "The performance at reg value 9.999999999999996e-11 is 0.0470273564726883\n",
      "The performance at reg value 9.999999999999982e-09 is 0.03135393777242554\n",
      "The performance at reg value 1.0000000000000004e-06 is 0.020054425087597604\n",
      "The performance at reg value 0.00010000000000000009 is 0.016362072888277648\n",
      "The performance at reg value 0.010000000000000004 is 0.02395674318210591\n",
      "The performance at reg value 1.0 is 0.04281414485376572\n",
      "The performance at reg value 100.00000000000004 is 0.08142463483743637\n",
      "The log_grid error is:\n",
      "[0.04702736 0.03135394 0.02005443 0.01636207 0.02395674 0.04281414\n",
      " 0.08142463]\n",
      "Init value is: 0.00010000000000000009\n",
      "The performance at reg value 0.00010000000000000009 is 0.016362072888277648\n",
      "The performance at reg value 6.309573444801939e-05 is 0.016439094014605245\n",
      "The performance at reg value 0.00015848931924611147 is 0.016417027215670447\n",
      "The performance at reg value 0.00012589254117941672 is 0.01637212888920042\n",
      "Optimal regularization value for Ridge, Feature:avedesc, target: pw, train_ratio: 1.0 is 0.00010000000000000009\n",
      "The performance at reg value 9.999999999999996e-11 is 0.1096621962654267\n",
      "The performance at reg value 9.999999999999982e-09 is 0.061763607982083565\n",
      "The performance at reg value 1.0000000000000004e-06 is 0.03128935071380948\n",
      "The performance at reg value 0.00010000000000000009 is 0.02306864171375883\n",
      "The performance at reg value 0.010000000000000004 is 0.02720018416224277\n",
      "The performance at reg value 1.0 is 0.04677009491029993\n",
      "The performance at reg value 100.00000000000004 is 0.08561635270714567\n",
      "The log_grid error is:\n",
      "[0.1096622  0.06176361 0.03128935 0.02306864 0.02720018 0.04677009\n",
      " 0.08561635]\n",
      "Init value is: 0.00010000000000000009\n",
      "The performance at reg value 0.00010000000000000009 is 0.02306864171375883\n",
      "The performance at reg value 6.309573444801939e-05 is 0.02333003855656592\n",
      "The performance at reg value 0.00015848931924611147 is 0.022829925565568843\n",
      "The performance at reg value 0.00025118864315095774 is 0.02258992466219104\n",
      "Optimal regularization value for Ridge, Feature:avedesc, target: pw, train_ratio: 0.5 is 0.00025118864315095774\n"
     ]
    }
   ],
   "source": [
    "Ridge_pw = models.RidgeRegression(Silicon.Features['structure_avedescriptors'], \"avedesc\", y_pw, \"pw\", xdos)\n",
    "Ridge_pw.obtain_weights([1.0,0.5], train_index)\n",
    "Ridge_pw.get_DosRMSE(evaluator, train_index, test_index)\n",
    "Ridge_pw.get_targetRMSE(evaluator, train_index, test_index)\n"
   ]
  },
  {
   "cell_type": "code",
   "execution_count": 287,
   "id": "aa4142ef",
   "metadata": {
    "ExecuteTime": {
     "end_time": "2023-01-27T17:33:46.746468Z",
     "start_time": "2023-01-27T17:33:45.264591Z"
    }
   },
   "outputs": [],
   "source": [
    "TLReg_pw_soap.get_DosRMSE(evaluator, train_index, test_index) \n",
    "TLReg_pw_kernel.get_DosRMSE(evaluator, train_index, test_index) \n",
    "TLReg_lcdf_soap.get_DosRMSE(evaluator, train_index, test_index) \n",
    "TLReg_lcdf_kernel.get_DosRMSE(evaluator, train_index, test_index)\n",
    "TLReg_pw_soap.get_targetRMSE(evaluator, train_index, test_index) \n",
    "TLReg_pw_kernel.get_targetRMSE(evaluator, train_index, test_index) \n",
    "TLReg_lcdf_soap.get_targetRMSE(evaluator, train_index, test_index) \n",
    "TLReg_lcdf_kernel.get_targetRMSE(evaluator, train_index, test_index)"
   ]
  },
  {
   "cell_type": "code",
   "execution_count": 295,
   "id": "bf1d7cce",
   "metadata": {
    "ExecuteTime": {
     "end_time": "2023-01-27T17:35:49.586088Z",
     "start_time": "2023-01-27T17:35:49.581376Z"
    }
   },
   "outputs": [
    {
     "name": "stdout",
     "output_type": "stream",
     "text": [
      "soap\n",
      "tensor(1.0000e-11)\n",
      "{1.0: array([11.10363366, 11.84994029, 11.25375874,  0.0615799 ,  0.06881532,\n",
      "        0.06302838]), 0.75: array([11.39326201, 12.08773556, 11.53250281,  0.06318616,  0.07019625,\n",
      "        0.06458952]), 0.5: array([11.08235802, 11.82524186, 11.23178179,  0.06146191,  0.06867189,\n",
      "        0.06290529]), 0.25: array([11.3848421 , 12.0876758 , 11.5258219 ,  0.06313946,  0.07019591,\n",
      "        0.06455211])}\n",
      "{1.0: array([11.10363366, 11.84994029, 11.25375874,  0.0615799 ,  0.06881532,\n",
      "        0.06302838]), 0.75: array([11.39326201, 12.08773556, 11.53250281,  0.06318616,  0.07019625,\n",
      "        0.06458952]), 0.5: array([11.08235802, 11.82524186, 11.23178179,  0.06146191,  0.06867189,\n",
      "        0.06290529]), 0.25: array([11.3848421 , 12.0876758 , 11.5258219 ,  0.06313946,  0.07019591,\n",
      "        0.06455211])}\n"
     ]
    }
   ],
   "source": [
    "print (\"soap pw\")\n",
    "print (TLReg_pw_soap.models[1.0].reg)\n",
    "print (TLReg_pw_soap.DOSrmse)\n",
    "print (TLReg_pw_soap.targetrmse)"
   ]
  },
  {
   "cell_type": "code",
   "execution_count": 296,
   "id": "4bf9b9ac",
   "metadata": {
    "ExecuteTime": {
     "end_time": "2023-01-27T17:36:17.551807Z",
     "start_time": "2023-01-27T17:36:17.547464Z"
    }
   },
   "outputs": [
    {
     "name": "stdout",
     "output_type": "stream",
     "text": [
      "soap lcdf\n",
      "tensor(1.0000e-10)\n",
      "{1.0: array([5250.50813994, 5145.91094413, 5226.53088909,   29.11891488,\n",
      "         29.88348498,   29.27197607]), 0.75: array([5251.75167346, 5146.74725943, 5227.68935715,   29.12581142,\n",
      "         29.88834166,   29.27846425]), 0.5: array([5250.56392374, 5145.85978877, 5226.56445077,   29.11922425,\n",
      "         29.88318791,   29.27216404]), 0.25: array([5250.45447671, 5145.62601985, 5226.42924465,   29.11861727,\n",
      "         29.88183036,   29.2714068 ])}\n",
      "{1.0: array([5250.50813994, 5145.91094413, 5226.53088909,   29.11891488,\n",
      "         29.88348498,   29.27197607]), 0.75: array([5251.75167346, 5146.74725943, 5227.68935715,   29.12581142,\n",
      "         29.88834166,   29.27846425]), 0.5: array([5250.56392374, 5145.85978877, 5226.56445077,   29.11922425,\n",
      "         29.88318791,   29.27216404]), 0.25: array([5250.45447671, 5145.62601985, 5226.42924465,   29.11861727,\n",
      "         29.88183036,   29.2714068 ])}\n"
     ]
    }
   ],
   "source": [
    "print (\"soap lcdf\")\n",
    "print (TLReg_lcdf_soap.models[1.0].reg)\n",
    "print (TLReg_lcdf_soap.DOSrmse)\n",
    "print (TLReg_lcdf_soap.targetrmse) <-???"
   ]
  },
  {
   "cell_type": "code",
   "execution_count": 294,
   "id": "6518d09e",
   "metadata": {
    "ExecuteTime": {
     "end_time": "2023-01-27T17:35:35.505107Z",
     "start_time": "2023-01-27T17:35:35.497982Z"
    }
   },
   "outputs": [
    {
     "name": "stdout",
     "output_type": "stream",
     "text": [
      "kernel\n",
      "tensor(2.5119e-08)\n",
      "{1.0: array([18.45811321, 18.01306498, 18.35776791,  0.10236728,  0.104606  ,\n",
      "        0.10281545]), 0.75: array([17.1342939 , 16.9566007 , 17.09001638,  0.09502548,  0.09847087,\n",
      "        0.09571522]), 0.5: array([17.42045947, 17.147869  , 17.35636004,  0.09661253,  0.09958161,\n",
      "        0.09720692]), 0.25: array([17.17396184, 16.98331934, 17.12697923,  0.09524547,  0.09862603,\n",
      "        0.09592224])}\n",
      "{1.0: array([18.45811321, 18.01306498, 18.35776791,  0.10236728,  0.104606  ,\n",
      "        0.10281545]), 0.75: array([17.1342939 , 16.9566007 , 17.09001638,  0.09502548,  0.09847087,\n",
      "        0.09571522]), 0.5: array([17.42045947, 17.147869  , 17.35636004,  0.09661253,  0.09958161,\n",
      "        0.09720692]), 0.25: array([17.17396184, 16.98331934, 17.12697923,  0.09524547,  0.09862603,\n",
      "        0.09592224])}\n"
     ]
    }
   ],
   "source": [
    "print (\"kernel pw \")\n",
    "print (TLReg_pw_kernel.models[1.0].reg)\n",
    "print (TLReg_pw_kernel.DOSrmse)\n",
    "print (TLReg_pw_kernel.targetrmse)"
   ]
  },
  {
   "cell_type": "code",
   "execution_count": 297,
   "id": "be870eed",
   "metadata": {
    "ExecuteTime": {
     "end_time": "2023-01-27T17:36:48.786470Z",
     "start_time": "2023-01-27T17:36:48.778281Z"
    }
   },
   "outputs": [
    {
     "name": "stdout",
     "output_type": "stream",
     "text": [
      "kernel lcdf \n",
      "tensor(3.1623e-10)\n",
      "{1.0: array([5245.2327782 , 5141.31965511, 5221.39980085,   29.08965813,\n",
      "         29.85682231,   29.24323864]), 0.75: array([5244.5669767 , 5138.31529928, 5220.24885762,   29.08596564,\n",
      "         29.83937533,   29.23679261]), 0.5: array([5243.3780059 , 5140.54490559, 5219.77001617,   29.0793717 ,\n",
      "         29.85232317,   29.23411078]), 0.25: array([5245.13358744, 5140.27060078, 5221.1034835 ,   29.08910802,\n",
      "         29.85073022,   29.24157907])}\n",
      "{1.0: array([5245.2327782 , 5141.31965511, 5221.39980085,   29.08965813,\n",
      "         29.85682231,   29.24323864]), 0.75: array([5244.5669767 , 5138.31529928, 5220.24885762,   29.08596564,\n",
      "         29.83937533,   29.23679261]), 0.5: array([5243.3780059 , 5140.54490559, 5219.77001617,   29.0793717 ,\n",
      "         29.85232317,   29.23411078]), 0.25: array([5245.13358744, 5140.27060078, 5221.1034835 ,   29.08910802,\n",
      "         29.85073022,   29.24157907])}\n"
     ]
    }
   ],
   "source": [
    "print (\"kernel lcdf \")\n",
    "print (TLReg_lcdf_kernel.models[1.0].reg)\n",
    "print (TLReg_lcdf_kernel.DOSrmse)\n",
    "print (TLReg_lcdf_kernel.targetrmse)"
   ]
  },
  {
   "cell_type": "code",
   "execution_count": null,
   "id": "563a737b",
   "metadata": {},
   "outputs": [],
   "source": []
  },
  {
   "cell_type": "markdown",
   "id": "1ebfb2bd",
   "metadata": {},
   "source": [
    "Multiplying loss by col A : Train error col B\n",
    "1e0 = 16.188\n",
    "1e3 = 11.73\n",
    "1e5 = 11.79\n",
    "1e7 = 11.41\n",
    "1e10 = 11.66\n",
    "1e20 = 11.27\n",
    "1e90 = 11.29"
   ]
  },
  {
   "cell_type": "code",
   "execution_count": 229,
   "id": "2cb6ab8a",
   "metadata": {
    "ExecuteTime": {
     "end_time": "2023-01-27T12:17:19.324624Z",
     "start_time": "2023-01-27T12:17:19.319001Z"
    }
   },
   "outputs": [
    {
     "data": {
      "text/plain": [
       "{1.0: array([11.41705718, 12.11622485, 11.5572621 ,  0.06331812,  0.0703617 ,\n",
       "         0.06472819])}"
      ]
     },
     "execution_count": 229,
     "metadata": {},
     "output_type": "execute_result"
    }
   ],
   "source": []
  },
  {
   "cell_type": "code",
   "execution_count": 28,
   "id": "6604fc00",
   "metadata": {
    "ExecuteTime": {
     "end_time": "2023-01-26T15:19:06.587911Z",
     "start_time": "2023-01-26T15:19:05.572484Z"
    },
    "scrolled": true
   },
   "outputs": [
    {
     "ename": "RuntimeError",
     "evalue": "mat1 and mat2 shapes cannot be multiplied (1039x448 and 1000x778)",
     "output_type": "error",
     "traceback": [
      "\u001b[0;31m---------------------------------------------------------------------------\u001b[0m",
      "\u001b[0;31mRuntimeError\u001b[0m                              Traceback (most recent call last)",
      "Input \u001b[0;32mIn [28]\u001b[0m, in \u001b[0;36m<cell line: 1>\u001b[0;34m()\u001b[0m\n\u001b[1;32m      2\u001b[0m GPR_pred \u001b[38;5;241m=\u001b[39m Silicon\u001b[38;5;241m.\u001b[39mFeatures[\u001b[38;5;124m'\u001b[39m\u001b[38;5;124mstructure_avekerneldescriptors\u001b[39m\u001b[38;5;124m'\u001b[39m] \u001b[38;5;241m@\u001b[39m GPR_pw\u001b[38;5;241m.\u001b[39mweights[\u001b[38;5;241m1.0\u001b[39m]\n\u001b[1;32m      3\u001b[0m Ridge_pred \u001b[38;5;241m=\u001b[39m Ridge_pw\u001b[38;5;241m.\u001b[39mmodels[\u001b[38;5;241m1.0\u001b[39m]\u001b[38;5;241m.\u001b[39mpredict(Silicon\u001b[38;5;241m.\u001b[39mFeatures[\u001b[38;5;124m'\u001b[39m\u001b[38;5;124mstructure_avekerneldescriptors\u001b[39m\u001b[38;5;124m'\u001b[39m])\n\u001b[0;32m----> 4\u001b[0m torch_pred \u001b[38;5;241m=\u001b[39m \u001b[43mTLReg\u001b[49m\u001b[38;5;241;43m.\u001b[39;49m\u001b[43mmodels\u001b[49m\u001b[43m[\u001b[49m\u001b[38;5;241;43m1.0\u001b[39;49m\u001b[43m]\u001b[49m\u001b[43m(\u001b[49m\u001b[43mSilicon\u001b[49m\u001b[38;5;241;43m.\u001b[39;49m\u001b[43mFeatures\u001b[49m\u001b[43m[\u001b[49m\u001b[38;5;124;43m'\u001b[39;49m\u001b[38;5;124;43mstructure_avedescriptors\u001b[39;49m\u001b[38;5;124;43m'\u001b[39;49m\u001b[43m]\u001b[49m\u001b[38;5;241;43m.\u001b[39;49m\u001b[43mdouble\u001b[49m\u001b[43m(\u001b[49m\u001b[43m)\u001b[49m\u001b[43m)\u001b[49m\n",
      "File \u001b[0;32m~/anaconda3/envs/rascaline/lib/python3.10/site-packages/torch/nn/modules/module.py:1130\u001b[0m, in \u001b[0;36mModule._call_impl\u001b[0;34m(self, *input, **kwargs)\u001b[0m\n\u001b[1;32m   1126\u001b[0m \u001b[38;5;66;03m# If we don't have any hooks, we want to skip the rest of the logic in\u001b[39;00m\n\u001b[1;32m   1127\u001b[0m \u001b[38;5;66;03m# this function, and just call forward.\u001b[39;00m\n\u001b[1;32m   1128\u001b[0m \u001b[38;5;28;01mif\u001b[39;00m \u001b[38;5;129;01mnot\u001b[39;00m (\u001b[38;5;28mself\u001b[39m\u001b[38;5;241m.\u001b[39m_backward_hooks \u001b[38;5;129;01mor\u001b[39;00m \u001b[38;5;28mself\u001b[39m\u001b[38;5;241m.\u001b[39m_forward_hooks \u001b[38;5;129;01mor\u001b[39;00m \u001b[38;5;28mself\u001b[39m\u001b[38;5;241m.\u001b[39m_forward_pre_hooks \u001b[38;5;129;01mor\u001b[39;00m _global_backward_hooks\n\u001b[1;32m   1129\u001b[0m         \u001b[38;5;129;01mor\u001b[39;00m _global_forward_hooks \u001b[38;5;129;01mor\u001b[39;00m _global_forward_pre_hooks):\n\u001b[0;32m-> 1130\u001b[0m     \u001b[38;5;28;01mreturn\u001b[39;00m \u001b[43mforward_call\u001b[49m\u001b[43m(\u001b[49m\u001b[38;5;241;43m*\u001b[39;49m\u001b[38;5;28;43minput\u001b[39;49m\u001b[43m,\u001b[49m\u001b[43m \u001b[49m\u001b[38;5;241;43m*\u001b[39;49m\u001b[38;5;241;43m*\u001b[39;49m\u001b[43mkwargs\u001b[49m\u001b[43m)\u001b[49m\n\u001b[1;32m   1131\u001b[0m \u001b[38;5;66;03m# Do not call functions when jit is used\u001b[39;00m\n\u001b[1;32m   1132\u001b[0m full_backward_hooks, non_full_backward_hooks \u001b[38;5;241m=\u001b[39m [], []\n",
      "File \u001b[0;32m/scratch/how/dostools/src/models/architectures.py:38\u001b[0m, in \u001b[0;36mLinearModel.forward\u001b[0;34m(self, x)\u001b[0m\n\u001b[1;32m     28\u001b[0m \u001b[38;5;28;01mdef\u001b[39;00m \u001b[38;5;21mforward\u001b[39m(\u001b[38;5;28mself\u001b[39m, x):\n\u001b[1;32m     29\u001b[0m     \u001b[38;5;124;03m\"\"\"\u001b[39;00m\n\u001b[1;32m     30\u001b[0m \u001b[38;5;124;03m    Performs the transformations to the features based on the model\u001b[39;00m\n\u001b[1;32m     31\u001b[0m \u001b[38;5;124;03m    \u001b[39;00m\n\u001b[0;32m   (...)\u001b[0m\n\u001b[1;32m     36\u001b[0m \u001b[38;5;124;03m        tensor: output\u001b[39;00m\n\u001b[1;32m     37\u001b[0m \u001b[38;5;124;03m    \"\"\"\u001b[39;00m\n\u001b[0;32m---> 38\u001b[0m     out \u001b[38;5;241m=\u001b[39m \u001b[38;5;28;43mself\u001b[39;49m\u001b[38;5;241;43m.\u001b[39;49m\u001b[43mlinear\u001b[49m\u001b[43m(\u001b[49m\u001b[43mx\u001b[49m\u001b[43m)\u001b[49m\n\u001b[1;32m     39\u001b[0m     \u001b[38;5;28;01mreturn\u001b[39;00m out\n",
      "File \u001b[0;32m~/anaconda3/envs/rascaline/lib/python3.10/site-packages/torch/nn/modules/module.py:1130\u001b[0m, in \u001b[0;36mModule._call_impl\u001b[0;34m(self, *input, **kwargs)\u001b[0m\n\u001b[1;32m   1126\u001b[0m \u001b[38;5;66;03m# If we don't have any hooks, we want to skip the rest of the logic in\u001b[39;00m\n\u001b[1;32m   1127\u001b[0m \u001b[38;5;66;03m# this function, and just call forward.\u001b[39;00m\n\u001b[1;32m   1128\u001b[0m \u001b[38;5;28;01mif\u001b[39;00m \u001b[38;5;129;01mnot\u001b[39;00m (\u001b[38;5;28mself\u001b[39m\u001b[38;5;241m.\u001b[39m_backward_hooks \u001b[38;5;129;01mor\u001b[39;00m \u001b[38;5;28mself\u001b[39m\u001b[38;5;241m.\u001b[39m_forward_hooks \u001b[38;5;129;01mor\u001b[39;00m \u001b[38;5;28mself\u001b[39m\u001b[38;5;241m.\u001b[39m_forward_pre_hooks \u001b[38;5;129;01mor\u001b[39;00m _global_backward_hooks\n\u001b[1;32m   1129\u001b[0m         \u001b[38;5;129;01mor\u001b[39;00m _global_forward_hooks \u001b[38;5;129;01mor\u001b[39;00m _global_forward_pre_hooks):\n\u001b[0;32m-> 1130\u001b[0m     \u001b[38;5;28;01mreturn\u001b[39;00m \u001b[43mforward_call\u001b[49m\u001b[43m(\u001b[49m\u001b[38;5;241;43m*\u001b[39;49m\u001b[38;5;28;43minput\u001b[39;49m\u001b[43m,\u001b[49m\u001b[43m \u001b[49m\u001b[38;5;241;43m*\u001b[39;49m\u001b[38;5;241;43m*\u001b[39;49m\u001b[43mkwargs\u001b[49m\u001b[43m)\u001b[49m\n\u001b[1;32m   1131\u001b[0m \u001b[38;5;66;03m# Do not call functions when jit is used\u001b[39;00m\n\u001b[1;32m   1132\u001b[0m full_backward_hooks, non_full_backward_hooks \u001b[38;5;241m=\u001b[39m [], []\n",
      "File \u001b[0;32m~/anaconda3/envs/rascaline/lib/python3.10/site-packages/torch/nn/modules/linear.py:114\u001b[0m, in \u001b[0;36mLinear.forward\u001b[0;34m(self, input)\u001b[0m\n\u001b[1;32m    113\u001b[0m \u001b[38;5;28;01mdef\u001b[39;00m \u001b[38;5;21mforward\u001b[39m(\u001b[38;5;28mself\u001b[39m, \u001b[38;5;28minput\u001b[39m: Tensor) \u001b[38;5;241m-\u001b[39m\u001b[38;5;241m>\u001b[39m Tensor:\n\u001b[0;32m--> 114\u001b[0m     \u001b[38;5;28;01mreturn\u001b[39;00m \u001b[43mF\u001b[49m\u001b[38;5;241;43m.\u001b[39;49m\u001b[43mlinear\u001b[49m\u001b[43m(\u001b[49m\u001b[38;5;28;43minput\u001b[39;49m\u001b[43m,\u001b[49m\u001b[43m \u001b[49m\u001b[38;5;28;43mself\u001b[39;49m\u001b[38;5;241;43m.\u001b[39;49m\u001b[43mweight\u001b[49m\u001b[43m,\u001b[49m\u001b[43m \u001b[49m\u001b[38;5;28;43mself\u001b[39;49m\u001b[38;5;241;43m.\u001b[39;49m\u001b[43mbias\u001b[49m\u001b[43m)\u001b[49m\n",
      "\u001b[0;31mRuntimeError\u001b[0m: mat1 and mat2 shapes cannot be multiplied (1039x448 and 1000x778)"
     ]
    }
   ],
   "source": [
    "with torch.no_grad():\n",
    "    GPR_pred = Silicon.Features['structure_avekerneldescriptors'] @ GPR_pw.weights[1.0]\n",
    "    Ridge_pred = Ridge_pw.models[1.0].predict(Silicon.Features['structure_avekerneldescriptors'])\n",
    "    torch_pred = TLReg.models[1.0](Silicon.Features['structure_avedescriptors'].double())"
   ]
  },
  {
   "cell_type": "code",
   "execution_count": null,
   "id": "5f3193b2",
   "metadata": {
    "ExecuteTime": {
     "end_time": "2023-01-26T15:19:06.590024Z",
     "start_time": "2023-01-26T15:19:06.590012Z"
    }
   },
   "outputs": [],
   "source": [
    "plt.plot(xdos, GPR_pred[369], color = 'r', label = \"GPR_pred\")\n",
    "plt.plot(xdos, Ridge_pred[369], color = 'g', label = \"Ridge_pred\")\n",
    "plt.plot(xdos, torch_pred[369], color = 'c', label = \"Torch_pred\")\n",
    "plt.plot(xdos, y_pw[369], color = 'b', label = 'true')\n",
    "plt.legend()\n",
    "\n"
   ]
  },
  {
   "cell_type": "code",
   "execution_count": null,
   "id": "7a400e30",
   "metadata": {},
   "outputs": [],
   "source": []
  }
 ],
 "metadata": {
  "kernelspec": {
   "display_name": "Python 3 (ipykernel)",
   "language": "python",
   "name": "python3"
  },
  "language_info": {
   "codemirror_mode": {
    "name": "ipython",
    "version": 3
   },
   "file_extension": ".py",
   "mimetype": "text/x-python",
   "name": "python",
   "nbconvert_exporter": "python",
   "pygments_lexer": "ipython3",
   "version": "3.10.4"
  },
  "toc": {
   "base_numbering": 1,
   "nav_menu": {},
   "number_sections": true,
   "sideBar": true,
   "skip_h1_title": false,
   "title_cell": "Table of Contents",
   "title_sidebar": "Contents",
   "toc_cell": false,
   "toc_position": {
    "height": "calc(100% - 180px)",
    "left": "10px",
    "top": "150px",
    "width": "165px"
   },
   "toc_section_display": true,
   "toc_window_display": true
  }
 },
 "nbformat": 4,
 "nbformat_minor": 5
}
