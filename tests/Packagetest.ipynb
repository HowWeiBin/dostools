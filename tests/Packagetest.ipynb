{
 "cells": [
  {
   "cell_type": "markdown",
   "id": "84565b74",
   "metadata": {
    "hide_input": false
   },
   "source": [
    "## Imports"
   ]
  },
  {
   "cell_type": "code",
   "execution_count": 2,
   "id": "dfdaeca7",
   "metadata": {
    "ExecuteTime": {
     "end_time": "2023-01-26T15:09:16.303388Z",
     "start_time": "2023-01-26T15:09:16.300285Z"
    }
   },
   "outputs": [],
   "source": [
    "import dostools\n",
    "import importlib\n",
    "import numpy as np\n",
    "import pickle\n",
    "import torch\n",
    "import sys\n",
    "import matplotlib.pyplot as plt\n",
    "torch.set_default_dtype(torch.float64) \n",
    "sys.modules['dostools.src'] = dostools"
   ]
  },
  {
   "cell_type": "code",
   "execution_count": 3,
   "id": "7ccbf26d",
   "metadata": {
    "ExecuteTime": {
     "end_time": "2023-01-26T15:11:18.349203Z",
     "start_time": "2023-01-26T15:11:13.545167Z"
    }
   },
   "outputs": [
    {
     "name": "stdout",
     "output_type": "stream",
     "text": [
      "ldos shape is torch.Size([1039, 778])\n",
      "mean dos shape is torch.Size([778])\n",
      "Variance covered with 10 PCs is = 0.9871211778950163\n"
     ]
    }
   ],
   "source": [
    "import dostools.datasets.data as data\n",
    "import dostools.utils.utils as utils\n",
    "\n",
    "n_structures = 1039\n",
    "np.random.seed(0)\n",
    "n_train = int(0.8 * n_structures)\n",
    "train_index = np.arange(n_structures)\n",
    "np.random.shuffle(train_index)\n",
    "test_index = train_index[n_train:]\n",
    "train_index = train_index[:n_train]\n",
    "\n",
    "with torch.no_grad():\n",
    "    structures = data.load_structures(\":\")\n",
    "    n_structures = len(structures) #total number of structures\n",
    "    for structure in structures:#implement periodicity\n",
    "        structure.wrap(eps = 1e-12) \n",
    "    n_atoms = np.zeros(n_structures, dtype = int) #stores number of atoms in each structures\n",
    "    for i in range(n_structures):\n",
    "        n_atoms[i] = len(structures[i])\n",
    "\n",
    "    #eigenergies, emin, emax = dostools.src.datasets.data.load_eigenenergies(unpack = True, n_structures = len(structures))\n",
    "    xdos = torch.tensor(data.load_xdos())\n",
    "    ldos = torch.tensor(data.load_ldos())\n",
    "    ldos *= 2\n",
    "\n",
    "    print (\"ldos shape is {}\".format(ldos.shape))\n",
    "    mean_dos_per_atom = ldos[train_index].mean(axis = 0) #only calculated for train set to prevent data leakage\n",
    "    print (\"mean dos shape is {}\".format(mean_dos_per_atom.shape))\n",
    "    \n",
    "    \n",
    "    y_pw = ldos - mean_dos_per_atom\n",
    "    y_lcdf = torch.cumsum(y_pw, dim = 1)\n",
    "    _, pc_vectors = utils.build_pc(ldos[train_index], mean_dos_per_atom[None,:], n_pc = 10)\n",
    "    y_pc = utils.build_coeffs(ldos - mean_dos_per_atom[None,:], pc_vectors)\n",
    "    Silicon = data.load_features()\n",
    "    kMM = data.load_kMM()"
   ]
  },
  {
   "cell_type": "markdown",
   "id": "3a7c7af2",
   "metadata": {},
   "source": [
    "## Evaluator"
   ]
  },
  {
   "cell_type": "code",
   "execution_count": 4,
   "id": "8cfe1751",
   "metadata": {
    "ExecuteTime": {
     "end_time": "2023-01-26T15:11:25.661213Z",
     "start_time": "2023-01-26T15:11:25.654075Z"
    }
   },
   "outputs": [],
   "source": [
    "import dostools.evaluation.evaluation as evaluation\n",
    "importlib.reload(evaluation)\n",
    "import dostools.models.training as training\n",
    "importlib.reload(training)\n",
    "\n",
    "targets = {\n",
    "    'pw' : ldos,\n",
    "    'lcdf' : y_lcdf,\n",
    "    'pc' : y_pc\n",
    "}\n",
    "evaluator = evaluation.Evaluator(targets, xdos, mean_dos_per_atom)"
   ]
  },
  {
   "cell_type": "markdown",
   "id": "2db6462d",
   "metadata": {},
   "source": [
    "## Analytical Models"
   ]
  },
  {
   "cell_type": "code",
   "execution_count": 5,
   "id": "778eedc2",
   "metadata": {
    "ExecuteTime": {
     "end_time": "2023-01-26T16:25:25.907465Z",
     "start_time": "2023-01-26T16:23:38.998624Z"
    },
    "scrolled": true
   },
   "outputs": [
    {
     "name": "stdout",
     "output_type": "stream",
     "text": [
      "The performance at reg value 1.0000000000000031e-10 is 0.0248891107414344\n",
      "The performance at reg value 1.0000000000000018e-08 is 0.01598743351010591\n",
      "The performance at reg value 1.0000000000000004e-06 is 0.01472758167349197\n",
      "The performance at reg value 9.999999999999991e-05 is 0.018910912251443382\n",
      "The performance at reg value 0.010000000000000005 is 0.027055844562504025\n",
      "The performance at reg value 1.0 is 0.03807414403136081\n",
      "The performance at reg value 100.00000000000004 is 0.05733310370242154\n",
      "The log_grid error is:\n",
      "[0.02488911 0.01598743 0.01472758 0.01891091 0.02705584 0.03807414\n",
      " 0.0573331 ]\n",
      "Init value is: 1.0000000000000004e-06\n",
      "The performance at reg value 1.0000000000000004e-06 is 0.01472758167349197\n",
      "The performance at reg value 5.011872336272722e-07 is 0.014678866992409521\n",
      "The performance at reg value 2.511886431509578e-07 is 0.01476697565423737\n",
      "The performance at reg value 7.07945784384138e-07 is 0.014682803520751407\n",
      "Optimal regularization value for Ridge, Feature:avekernels, target: pw, train_ratio: 1.0 is 5.011872336272722e-07\n",
      "The performance at reg value 1.0000000000000031e-10 is 0.03738655782911948\n",
      "The performance at reg value 1.0000000000000018e-08 is 0.023986865099915947\n",
      "The performance at reg value 1.0000000000000004e-06 is 0.018389026730126948\n",
      "The performance at reg value 9.999999999999991e-05 is 0.02260962698187899\n",
      "The performance at reg value 0.010000000000000005 is 0.02903962553730957\n",
      "The performance at reg value 1.0 is 0.039186463152302536\n",
      "The performance at reg value 100.00000000000004 is 0.05986971013437084\n",
      "The log_grid error is:\n",
      "[0.03738656 0.02398687 0.01838903 0.02260963 0.02903963 0.03918646\n",
      " 0.05986971]\n",
      "Init value is: 1.0000000000000004e-06\n",
      "The performance at reg value 1.0000000000000004e-06 is 0.018389026730126948\n",
      "The performance at reg value 5.011872336272722e-07 is 0.01865594768104477\n",
      "The performance at reg value 1.995262314968882e-06 is 0.018587474650914974\n",
      "The performance at reg value 1.4125375446227554e-06 is 0.018430715340021726\n",
      "Optimal regularization value for Ridge, Feature:avekernels, target: pw, train_ratio: 0.75 is 1.0000000000000004e-06\n",
      "The performance at reg value 1.0000000000000031e-10 is 0.04187772630277875\n",
      "The performance at reg value 1.0000000000000018e-08 is 0.027450663043861876\n",
      "The performance at reg value 1.0000000000000004e-06 is 0.021122894274485805\n",
      "The performance at reg value 9.999999999999991e-05 is 0.021886484484582434\n",
      "The performance at reg value 0.010000000000000005 is 0.029231787051558974\n",
      "The performance at reg value 1.0 is 0.040255820383849616\n",
      "The performance at reg value 100.00000000000004 is 0.06366131033196465\n",
      "The log_grid error is:\n",
      "[0.04187773 0.02745066 0.02112289 0.02188648 0.02923179 0.04025582\n",
      " 0.06366131]\n",
      "Init value is: 1.0000000000000004e-06\n",
      "The performance at reg value 1.0000000000000004e-06 is 0.021122894274485805\n",
      "The performance at reg value 5.011872336272722e-07 is 0.021239787675062807\n",
      "The performance at reg value 1.995262314968882e-06 is 0.021151254554679404\n",
      "The performance at reg value 1.4125375446227554e-06 is 0.02111970045829259\n",
      "Optimal regularization value for Ridge, Feature:avekernels, target: pw, train_ratio: 0.5 is 1.4125375446227554e-06\n",
      "The performance at reg value 1.0000000000000031e-10 is 0.08055856278364695\n",
      "The performance at reg value 1.0000000000000018e-08 is 0.053707503368596324\n",
      "The performance at reg value 1.0000000000000004e-06 is 0.03900486324439693\n",
      "The performance at reg value 9.999999999999991e-05 is 0.034913239493847836\n",
      "The performance at reg value 0.010000000000000005 is 0.03409659514716781\n",
      "The performance at reg value 1.0 is 0.04309538596824032\n",
      "The performance at reg value 100.00000000000004 is 0.07133267716073186\n",
      "The log_grid error is:\n",
      "[0.08055856 0.0537075  0.03900486 0.03491324 0.0340966  0.04309539\n",
      " 0.07133268]\n",
      "Init value is: 0.010000000000000005\n",
      "The performance at reg value 0.010000000000000005 is 0.03409659514716781\n",
      "The performance at reg value 0.007943282347242819 is 0.034026481967041874\n",
      "The performance at reg value 0.006309573444801936 is 0.03396848884462847\n",
      "The performance at reg value 0.005011872336272726 is 0.033917585001099884\n",
      "Optimal regularization value for Ridge, Feature:avekernels, target: pw, train_ratio: 0.25 is 0.005011872336272726\n",
      "The performance at reg value 1.0000000000000031e-10 is 0.04702735647311947\n",
      "The performance at reg value 1.0000000000000018e-08 is 0.03135393777241987\n",
      "The performance at reg value 1.0000000000000004e-06 is 0.020054425087597968\n",
      "The performance at reg value 9.999999999999991e-05 is 0.016362072888277616\n",
      "The performance at reg value 0.010000000000000005 is 0.02395674318210593\n",
      "The performance at reg value 1.0 is 0.04281414485376574\n",
      "The performance at reg value 100.00000000000004 is 0.08142463483743637\n",
      "The log_grid error is:\n",
      "[0.04702736 0.03135394 0.02005443 0.01636207 0.02395674 0.04281414\n",
      " 0.08142463]\n",
      "Init value is: 9.999999999999991e-05\n",
      "The performance at reg value 9.999999999999991e-05 is 0.016362072888277616\n",
      "The performance at reg value 6.309573444801928e-05 is 0.016439094014605228\n",
      "The performance at reg value 0.0001584893192461112 is 0.01641702721567042\n",
      "The performance at reg value 0.0001258925411794165 is 0.016372128889200387\n",
      "Optimal regularization value for Ridge, Feature:avesoap, target: pw, train_ratio: 1.0 is 9.999999999999991e-05\n",
      "The performance at reg value 1.0000000000000031e-10 is 0.07649137862729696\n",
      "The performance at reg value 1.0000000000000018e-08 is 0.05156058234305369\n",
      "The performance at reg value 1.0000000000000004e-06 is 0.0282780304956671\n",
      "The performance at reg value 9.999999999999991e-05 is 0.020419557988239134\n",
      "The performance at reg value 0.010000000000000005 is 0.026988446440843757\n",
      "The performance at reg value 1.0 is 0.044534545861463964\n",
      "The performance at reg value 100.00000000000004 is 0.08312541138962976\n",
      "The log_grid error is:\n",
      "[0.07649138 0.05156058 0.02827803 0.02041956 0.02698845 0.04453455\n",
      " 0.08312541]\n",
      "Init value is: 9.999999999999991e-05\n",
      "The performance at reg value 9.999999999999991e-05 is 0.020419557988239134\n",
      "The performance at reg value 6.309573444801928e-05 is 0.02049588123812287\n",
      "The performance at reg value 0.0001584893192461112 is 0.020541711768919228\n",
      "The performance at reg value 7.943282347242815e-05 is 0.020428693526638807\n",
      "Optimal regularization value for Ridge, Feature:avesoap, target: pw, train_ratio: 0.75 is 9.999999999999991e-05\n",
      "The performance at reg value 1.0000000000000031e-10 is 0.10966219626417181\n",
      "The performance at reg value 1.0000000000000018e-08 is 0.061763607982036554\n",
      "The performance at reg value 1.0000000000000004e-06 is 0.03128935071380969\n",
      "The performance at reg value 9.999999999999991e-05 is 0.023068641713758546\n",
      "The performance at reg value 0.010000000000000005 is 0.027200184162242753\n",
      "The performance at reg value 1.0 is 0.046770094910299924\n",
      "The performance at reg value 100.00000000000004 is 0.08561635270714565\n",
      "The log_grid error is:\n",
      "[0.1096622  0.06176361 0.03128935 0.02306864 0.02720018 0.04677009\n",
      " 0.08561635]\n",
      "Init value is: 9.999999999999991e-05\n",
      "The performance at reg value 9.999999999999991e-05 is 0.023068641713758546\n",
      "The performance at reg value 6.309573444801928e-05 is 0.02333003855656567\n",
      "The performance at reg value 0.0001584893192461112 is 0.022829925565568555\n",
      "The performance at reg value 0.00025118864315095774 is 0.02258992466219075\n",
      "Optimal regularization value for Ridge, Feature:avesoap, target: pw, train_ratio: 0.5 is 0.00025118864315095774\n",
      "The performance at reg value 1.0000000000000031e-10 is 0.17225805589360305\n",
      "The performance at reg value 1.0000000000000018e-08 is 0.08774873781975465\n",
      "The performance at reg value 1.0000000000000004e-06 is 0.04964673186174979\n",
      "The performance at reg value 9.999999999999991e-05 is 0.034355312448057146\n",
      "The performance at reg value 0.010000000000000005 is 0.03304101449603885\n",
      "The performance at reg value 1.0 is 0.0527095571986758\n",
      "The performance at reg value 100.00000000000004 is 0.0892196646173871\n",
      "The log_grid error is:\n",
      "[0.17225806 0.08774874 0.04964673 0.03435531 0.03304101 0.05270956\n",
      " 0.08921966]\n",
      "Init value is: 0.010000000000000005\n",
      "The performance at reg value 0.010000000000000005 is 0.03304101449603885\n",
      "The performance at reg value 0.007943282347242819 is 0.03273392675552717\n",
      "The performance at reg value 0.006309573444801936 is 0.03248540294930424\n"
     ]
    },
    {
     "name": "stdout",
     "output_type": "stream",
     "text": [
      "The performance at reg value 0.005011872336272726 is 0.032294919860217396\n",
      "Optimal regularization value for Ridge, Feature:avesoap, target: pw, train_ratio: 0.25 is 0.005011872336272726\n",
      "The performance at reg value 1.0000000000000031e-10 is 0.02445598347678289\n",
      "The performance at reg value 1.0000000000000018e-08 is 0.041981368302301106\n",
      "The performance at reg value 1.0000000000000004e-06 is 0.09412310200603374\n",
      "The performance at reg value 9.999999999999991e-05 is 0.0942241889697976\n",
      "The performance at reg value 0.010000000000000005 is 0.09422419910593646\n",
      "The performance at reg value 1.0 is 0.0942241991069501\n",
      "The performance at reg value 100.00000000000004 is 0.0942241991069502\n",
      "The log_grid error is:\n",
      "[0.02445598 0.04198137 0.0941231  0.09422419 0.0942242  0.0942242\n",
      " 0.0942242 ]\n",
      "Init value is: 1.0000000000000031e-10\n",
      "The performance at reg value [1.e-10] is 0.024806809158555702\n",
      "The performance at reg value [3.16227766e-11] is 0.023891115448401216\n",
      "The performance at reg value [1.e-11] is 0.023548023039218963\n",
      "The performance at reg value [3.16227766e-12] is 0.0239082239057829\n",
      "Optimal Regularization value for GPR, Feature:avekernels, Target: pw, train_ratio: 1.0 is: 9.999999999999985e-12\n",
      "The performance at reg value 1.0000000000000031e-10 is 0.029852808505638324\n",
      "The performance at reg value 1.0000000000000018e-08 is 0.04378220750496844\n",
      "The performance at reg value 1.0000000000000004e-06 is 0.09371385737195131\n",
      "The performance at reg value 9.999999999999991e-05 is 0.09378613877768457\n",
      "The performance at reg value 0.010000000000000005 is 0.09378614602094251\n",
      "The performance at reg value 1.0 is 0.09378614602166685\n",
      "The performance at reg value 100.00000000000004 is 0.09378614602166693\n",
      "The log_grid error is:\n",
      "[0.02985281 0.04378221 0.09371386 0.09378614 0.09378615 0.09378615\n",
      " 0.09378615]\n",
      "Init value is: 1.0000000000000031e-10\n",
      "The performance at reg value [1.e-10] is 0.028189477486019805\n",
      "The performance at reg value [3.16227766e-11] is 0.028352664776334066\n",
      "The performance at reg value [3.16227766e-10] is 0.028226248423660054\n",
      "The performance at reg value [1.77827941e-10] is 0.025875663594362004\n",
      "Optimal Regularization value for GPR, Feature:avekernels, Target: pw, train_ratio: 0.75 is: 1.7782794100389242e-10\n",
      "The performance at reg value 1.0000000000000031e-10 is 0.025986621174381094\n",
      "The performance at reg value 1.0000000000000018e-08 is 0.04640082892912692\n",
      "The performance at reg value 1.0000000000000004e-06 is 0.0934224560996895\n",
      "The performance at reg value 9.999999999999991e-05 is 0.0934678976667995\n",
      "The performance at reg value 0.010000000000000005 is 0.09346790221755664\n",
      "The performance at reg value 1.0 is 0.09346790221801171\n",
      "The performance at reg value 100.00000000000004 is 0.09346790221801175\n",
      "The log_grid error is:\n",
      "[0.02598662 0.04640083 0.09342246 0.0934679  0.0934679  0.0934679\n",
      " 0.0934679 ]\n",
      "Init value is: 1.0000000000000031e-10\n",
      "The performance at reg value [1.e-10] is 0.026918975323437802\n",
      "The performance at reg value [3.16227766e-11] is 0.026906303343487502\n",
      "The performance at reg value [1.e-11] is 0.02642725051797572\n",
      "The performance at reg value [3.16227766e-12] is 0.025648400694710586\n",
      "Optimal Regularization value for GPR, Feature:avekernels, Target: pw, train_ratio: 0.5 is: 3.1622776601683673e-12\n",
      "The performance at reg value 1.0000000000000031e-10 is 0.034276415027307314\n",
      "The performance at reg value 1.0000000000000018e-08 is 0.05380017459141222\n",
      "The performance at reg value 1.0000000000000004e-06 is 0.09295077409164029\n",
      "The performance at reg value 9.999999999999991e-05 is 0.09296421175594842\n",
      "The performance at reg value 0.010000000000000005 is 0.09296421309827232\n",
      "The performance at reg value 1.0 is 0.09296421309840656\n",
      "The performance at reg value 100.00000000000004 is 0.09296421309840658\n",
      "The log_grid error is:\n",
      "[0.03427642 0.05380017 0.09295077 0.09296421 0.09296421 0.09296421\n",
      " 0.09296421]\n",
      "Init value is: 1.0000000000000031e-10\n",
      "The performance at reg value [1.e-10] is 0.035583526487193096\n",
      "The performance at reg value [3.16227766e-11] is 0.04054860683062916\n",
      "The performance at reg value [3.16227766e-10] is 0.03153571420052837\n",
      "The performance at reg value [1.e-09] is 0.03186843306215709\n",
      "Optimal Regularization value for GPR, Feature:avekernels, Target: pw, train_ratio: 0.25 is: 3.1622776601683966e-10\n"
     ]
    }
   ],
   "source": [
    "import dostools.models.models as models\n",
    "importlib.reload(models)\n",
    "\n",
    "\n",
    "Ridge_pw_kernel = models.RidgeRegression(Silicon.Features['structure_avekerneldescriptors'], \"avekernels\", y_pw, \"pw\", xdos)\n",
    "Ridge_pw_kernel.obtain_weights([1.0,0.75,0.5,0.25], train_index)\n",
    "Ridge_pw_kernel.get_DosRMSE(evaluator, train_index, test_index)\n",
    "Ridge_pw_kernel.get_targetRMSE(evaluator, train_index, test_index)\n",
    "\n",
    "Ridge_pw_soap = models.RidgeRegression(Silicon.Features['structure_avedescriptors'], \"avesoap\", y_pw, \"pw\", xdos)\n",
    "Ridge_pw_soap.obtain_weights([1.0,0.75,0.5,0.25], train_index) \n",
    "Ridge_pw_soap.get_DosRMSE(evaluator, train_index, test_index) \n",
    "Ridge_pw_soap.get_targetRMSE(evaluator, train_index, test_index) \n",
    "\n",
    "GPR_pw = models.GPR(Silicon.Features['structure_avekerneldescriptors'], \"avekernels\", y_pw, \"pw\", xdos, kMM)\n",
    "GPR_pw.obtain_weights([1.0,0.75,0.5,0.25], train_index)\n",
    "GPR_pw.get_DosRMSE(evaluator, train_index, test_index)\n",
    "GPR_pw.get_targetRMSE(evaluator, train_index, test_index)\n"
   ]
  },
  {
   "cell_type": "code",
   "execution_count": 101,
   "id": "3649a67d",
   "metadata": {
    "ExecuteTime": {
     "end_time": "2023-01-26T16:27:27.489872Z",
     "start_time": "2023-01-26T16:25:25.915391Z"
    }
   },
   "outputs": [
    {
     "name": "stdout",
     "output_type": "stream",
     "text": [
      "The performance at reg value 9.999999999999996e-11 is 0.30294051089969054\n",
      "The performance at reg value 9.999999999999982e-09 is 0.24961739104436304\n",
      "The performance at reg value 1.0000000000000004e-06 is 0.26596574913017423\n",
      "The performance at reg value 0.00010000000000000009 is 0.3076890689349757\n",
      "The performance at reg value 0.010000000000000004 is 0.4288955801160411\n",
      "The performance at reg value 1.0 is 1.0168938487096923\n",
      "The performance at reg value 100.00000000000004 is 2.0934131122906705\n",
      "The log_grid error is:\n",
      "[0.30294051 0.24961739 0.26596575 0.30768907 0.42889558 1.01689385\n",
      " 2.09341311]\n",
      "Init value is: 9.999999999999982e-09\n",
      "The performance at reg value 9.999999999999982e-09 is 0.24961739104436304\n",
      "The performance at reg value 3.9810717055349665e-09 is 0.2517374519703249\n",
      "The performance at reg value 2.511886431509575e-08 is 0.2525078253184684\n",
      "The performance at reg value 6.309573444801934e-09 is 0.2500443950833206\n",
      "Optimal regularization value for Ridge, Feature:avekernels, target: lcdf, train_ratio: 1.0 is 9.999999999999982e-09\n",
      "The performance at reg value 9.999999999999996e-11 is 0.4482873896038605\n",
      "The performance at reg value 9.999999999999982e-09 is 0.33138560261446315\n",
      "The performance at reg value 1.0000000000000004e-06 is 0.3147528845368423\n",
      "The performance at reg value 0.00010000000000000009 is 0.3751511352973762\n",
      "The performance at reg value 0.010000000000000004 is 0.47720616615724665\n",
      "The performance at reg value 1.0 is 1.1274427426507492\n",
      "The performance at reg value 100.00000000000004 is 2.2931540412754097\n",
      "The log_grid error is:\n",
      "[0.44828739 0.3313856  0.31475288 0.37515114 0.47720617 1.12744274\n",
      " 2.29315404]\n",
      "Init value is: 1.0000000000000004e-06\n",
      "The performance at reg value 1.0000000000000004e-06 is 0.3147528845368423\n",
      "The performance at reg value 5.011872336272722e-07 is 0.31033207227519655\n",
      "The performance at reg value 2.511886431509578e-07 is 0.3092388414406722\n",
      "The performance at reg value 1.2589254117941606e-07 is 0.3109915877861795\n",
      "Optimal regularization value for Ridge, Feature:avekernels, target: lcdf, train_ratio: 0.75 is 2.511886431509578e-07\n",
      "The performance at reg value 9.999999999999996e-11 is 0.5033807589938672\n",
      "The performance at reg value 9.999999999999982e-09 is 0.38551033647689925\n",
      "The performance at reg value 1.0000000000000004e-06 is 0.3574136920096966\n",
      "The performance at reg value 0.00010000000000000009 is 0.37396288986553344\n",
      "The performance at reg value 0.010000000000000004 is 0.4942980594248164\n",
      "The performance at reg value 1.0 is 1.1602233339909205\n",
      "The performance at reg value 100.00000000000004 is 2.535283534804463\n",
      "The log_grid error is:\n",
      "[0.50338076 0.38551034 0.35741369 0.37396289 0.49429806 1.16022333\n",
      " 2.53528353]\n",
      "Init value is: 1.0000000000000004e-06\n",
      "The performance at reg value 1.0000000000000004e-06 is 0.3574136920096966\n",
      "The performance at reg value 5.011872336272722e-07 is 0.35498663574115413\n",
      "The performance at reg value 2.511886431509578e-07 is 0.35364989689049464\n",
      "The performance at reg value 1.2589254117941606e-07 is 0.3544565069420771\n",
      "Optimal regularization value for Ridge, Feature:avekernels, target: lcdf, train_ratio: 0.5 is 2.511886431509578e-07\n",
      "The performance at reg value 9.999999999999996e-11 is 0.9389996093205999\n",
      "The performance at reg value 9.999999999999982e-09 is 0.7128011850751295\n",
      "The performance at reg value 1.0000000000000004e-06 is 0.5315971665640584\n",
      "The performance at reg value 0.00010000000000000009 is 0.5859104898222298\n",
      "The performance at reg value 0.010000000000000004 is 0.6590557462053305\n",
      "The performance at reg value 1.0 is 1.235061394884601\n",
      "The performance at reg value 100.00000000000004 is 3.1195752862441646\n",
      "The log_grid error is:\n",
      "[0.93899961 0.71280119 0.53159717 0.58591049 0.65905575 1.23506139\n",
      " 3.11957529]\n",
      "Init value is: 1.0000000000000004e-06\n",
      "The performance at reg value 1.0000000000000004e-06 is 0.5315971665640584\n",
      "The performance at reg value 5.011872336272722e-07 is 0.5504838157993218\n",
      "The performance at reg value 1.995262314968882e-06 is 0.5366611732644544\n",
      "The performance at reg value 1.4125375446227554e-06 is 0.531290871637805\n",
      "Optimal regularization value for Ridge, Feature:avekernels, target: lcdf, train_ratio: 0.25 is 1.4125375446227554e-06\n",
      "The performance at reg value 9.999999999999996e-11 is 0.6630193698446885\n",
      "The performance at reg value 9.999999999999982e-09 is 0.506247788788405\n",
      "The performance at reg value 1.0000000000000004e-06 is 0.3693242167092311\n",
      "The performance at reg value 0.00010000000000000009 is 0.336333629872251\n",
      "The performance at reg value 0.010000000000000004 is 0.40804209517720286\n",
      "The performance at reg value 1.0 is 1.4124314870179069\n",
      "The performance at reg value 100.00000000000004 is 4.134063294086957\n",
      "The log_grid error is:\n",
      "[0.66301937 0.50624779 0.36932422 0.33633363 0.4080421  1.41243149\n",
      " 4.13406329]\n",
      "Init value is: 0.00010000000000000009\n",
      "The performance at reg value 0.00010000000000000009 is 0.336333629872251\n",
      "The performance at reg value 6.309573444801939e-05 is 0.34000906511180795\n",
      "The performance at reg value 0.00015848931924611147 is 0.33332839474865855\n",
      "The performance at reg value 0.00025118864315095774 is 0.3310798199927173\n",
      "Optimal regularization value for Ridge, Feature:avesoap, target: lcdf, train_ratio: 1.0 is 0.00025118864315095774\n",
      "The performance at reg value 9.999999999999996e-11 is 1.0420440340969748\n",
      "The performance at reg value 9.999999999999982e-09 is 0.7105928500289218\n",
      "The performance at reg value 1.0000000000000004e-06 is 0.4669814285165339\n",
      "The performance at reg value 0.00010000000000000009 is 0.3943053070934317\n",
      "The performance at reg value 0.010000000000000004 is 0.48188267646044114\n",
      "The performance at reg value 1.0 is 1.5668528192951356\n",
      "The performance at reg value 100.00000000000004 is 4.298588369897248\n",
      "The log_grid error is:\n",
      "[1.04204403 0.71059285 0.46698143 0.39430531 0.48188268 1.56685282\n",
      " 4.29858837]\n",
      "Init value is: 0.00010000000000000009\n",
      "The performance at reg value 0.00010000000000000009 is 0.3943053070934317\n",
      "The performance at reg value 6.309573444801939e-05 is 0.3985930502139098\n",
      "The performance at reg value 0.00015848931924611147 is 0.39104786539318925\n",
      "The performance at reg value 0.00025118864315095774 is 0.3892166895818653\n",
      "Optimal regularization value for Ridge, Feature:avesoap, target: lcdf, train_ratio: 0.75 is 0.00025118864315095774\n",
      "The performance at reg value 9.999999999999996e-11 is 1.486216777996514\n",
      "The performance at reg value 9.999999999999982e-09 is 0.8516484298189729\n",
      "The performance at reg value 1.0000000000000004e-06 is 0.5502584142428852\n",
      "The performance at reg value 0.00010000000000000009 is 0.3944448603904803\n",
      "The performance at reg value 0.010000000000000004 is 0.5161273480509964\n",
      "The performance at reg value 1.0 is 1.7008355657926022\n",
      "The performance at reg value 100.00000000000004 is 4.501337847762627\n",
      "The log_grid error is:\n",
      "[1.48621678 0.85164843 0.55025841 0.39444486 0.51612735 1.70083557\n",
      " 4.50133785]\n",
      "Init value is: 0.00010000000000000009\n",
      "The performance at reg value 0.00010000000000000009 is 0.3944448603904803\n",
      "The performance at reg value 6.309573444801939e-05 is 0.40173165385689025\n",
      "The performance at reg value 0.00015848931924611147 is 0.38932442848703386\n",
      "The performance at reg value 0.00025118864315095774 is 0.3861801197619532\n",
      "Optimal regularization value for Ridge, Feature:avesoap, target: lcdf, train_ratio: 0.5 is 0.00025118864315095774\n",
      "The performance at reg value 9.999999999999996e-11 is 2.3680608230724705\n",
      "The performance at reg value 9.999999999999982e-09 is 1.3239613995771127\n",
      "The performance at reg value 1.0000000000000004e-06 is 0.8690247226609412\n",
      "The performance at reg value 0.00010000000000000009 is 0.5407016521329484\n",
      "The performance at reg value 0.010000000000000004 is 0.7146018195883836\n",
      "The performance at reg value 1.0 is 2.0309496461836485\n",
      "The performance at reg value 100.00000000000004 is 4.911764209975294\n",
      "The log_grid error is:\n",
      "[2.36806082 1.3239614  0.86902472 0.54070165 0.71460182 2.03094965\n",
      " 4.91176421]\n",
      "Init value is: 0.00010000000000000009\n",
      "The performance at reg value 0.00010000000000000009 is 0.5407016521329484\n",
      "The performance at reg value 6.309573444801939e-05 is 0.5391291662257744\n",
      "The performance at reg value 3.981071705534977e-05 is 0.540872900249114\n",
      "The performance at reg value 7.943282347242815e-05 is 0.5396595831142276\n",
      "Optimal regularization value for Ridge, Feature:avesoap, target: lcdf, train_ratio: 0.25 is 6.309573444801939e-05\n"
     ]
    },
    {
     "name": "stdout",
     "output_type": "stream",
     "text": [
      "The performance at reg value 9.999999999999996e-11 is 0.3582900919139367\n",
      "The performance at reg value 9.999999999999982e-09 is 0.37275894760787504\n",
      "The performance at reg value 1.0000000000000004e-06 is 0.3683979085803729\n",
      "The performance at reg value 0.00010000000000000009 is 2.628841196282138\n",
      "The performance at reg value 0.010000000000000004 is 5.318819596087717\n",
      "The performance at reg value 1.0 is 5.319751341043245\n",
      "The performance at reg value 100.00000000000004 is 5.319751434245397\n",
      "The log_grid error is:\n",
      "[0.35829009 0.37275895 0.36839791 2.6288412  5.3188196  5.31975134\n",
      " 5.31975143]\n",
      "Init value is: 9.999999999999996e-11\n",
      "The performance at reg value [1.e-10] is 0.3617312696251491\n",
      "The performance at reg value [3.16227766e-11] is 0.37745795705207075\n",
      "The performance at reg value [3.16227766e-10] is 0.36972685644010284\n",
      "The performance at reg value [1.77827941e-10] is 0.3745893194886805\n",
      "The performance at reg value [5.62341325e-11] is 0.36559214078515645\n",
      "Optimal Regularization value for GPR, Feature:avekernels, Target: lcdf, train_ratio: 1.0 is: 9.999999999999996e-11\n",
      "The performance at reg value 9.999999999999996e-11 is 0.4340260315931246\n",
      "The performance at reg value 9.999999999999982e-09 is 0.47139107421715953\n",
      "The performance at reg value 1.0000000000000004e-06 is 0.4210788485043201\n",
      "The performance at reg value 0.00010000000000000009 is 2.94074862089035\n",
      "The performance at reg value 0.010000000000000004 is 5.296646093349638\n",
      "The performance at reg value 1.0 is 5.297306559930177\n",
      "The performance at reg value 100.00000000000004 is 5.297306625990325\n",
      "The log_grid error is:\n",
      "[0.43402603 0.47139107 0.42107885 2.94074862 5.29664609 5.29730656\n",
      " 5.29730663]\n",
      "Init value is: 1.0000000000000004e-06\n",
      "The performance at reg value [1.e-06] is 0.4257672219413349\n",
      "The performance at reg value [5.01187234e-07] is 0.4304584775215439\n",
      "The performance at reg value [1.99526231e-06] is 0.4410306904980141\n",
      "The performance at reg value [7.07945784e-07] is 0.43815294168131036\n",
      "The performance at reg value [7.07945784e-07] is 0.43815294168131036\n",
      "Optimal Regularization value for GPR, Feature:avekernels, Target: lcdf, train_ratio: 0.75 is: 1.0000000000000004e-06\n",
      "The performance at reg value 9.999999999999996e-11 is 0.44069235891570546\n",
      "The performance at reg value 9.999999999999982e-09 is 0.4303131929688214\n",
      "The performance at reg value 1.0000000000000004e-06 is 0.40530212379482466\n",
      "The performance at reg value 0.00010000000000000009 is 3.3581230835628393\n",
      "The performance at reg value 0.010000000000000004 is 5.235893252857495\n",
      "The performance at reg value 1.0 is 5.23629191177551\n",
      "The performance at reg value 100.00000000000004 is 5.236291951646471\n",
      "The log_grid error is:\n",
      "[0.44069236 0.43031319 0.40530212 3.35812308 5.23589325 5.23629191\n",
      " 5.23629195]\n",
      "Init value is: 1.0000000000000004e-06\n",
      "The performance at reg value [1.e-06] is 0.38819219222814777\n",
      "The performance at reg value [5.01187234e-07] is 0.41704707136896113\n",
      "The performance at reg value [1.99526231e-06] is 0.424678342284683\n",
      "The performance at reg value [7.07945784e-07] is 0.4108102059663111\n",
      "Optimal Regularization value for GPR, Feature:avekernels, Target: lcdf, train_ratio: 0.5 is: 1.0000000000000004e-06\n",
      "The performance at reg value 9.999999999999996e-11 is 0.6145240192890891\n",
      "The performance at reg value 9.999999999999982e-09 is 0.6412284335183529\n",
      "The performance at reg value 1.0000000000000004e-06 is 0.5134558157322296\n",
      "The performance at reg value 0.00010000000000000009 is 4.117941871174333\n",
      "The performance at reg value 0.010000000000000004 is 5.246740977846014\n",
      "The performance at reg value 1.0 is 5.246855732385827\n",
      "The performance at reg value 100.00000000000004 is 5.246855743859846\n",
      "The log_grid error is:\n",
      "[0.61452402 0.64122843 0.51345582 4.11794187 5.24674098 5.24685573\n",
      " 5.24685574]\n",
      "Init value is: 1.0000000000000004e-06\n",
      "The performance at reg value [1.e-06] is 0.5116860736418338\n",
      "The performance at reg value [5.01187234e-07] is 0.5716312778394667\n",
      "The performance at reg value [1.99526231e-06] is 0.5414270305743742\n",
      "The performance at reg value [1.41253754e-06] is 0.5136521376961325\n",
      "Optimal Regularization value for GPR, Feature:avekernels, Target: lcdf, train_ratio: 0.25 is: 1.0000000000000004e-06\n"
     ]
    }
   ],
   "source": [
    "Ridge_lcdf_kernel = models.RidgeRegression(Silicon.Features['structure_avekerneldescriptors'], \"avekernels\", y_lcdf, \"lcdf\", xdos)\n",
    "Ridge_lcdf_kernel.obtain_weights([1.0,0.75,0.5,0.25], train_index)\n",
    "Ridge_lcdf_kernel.get_DosRMSE(evaluator, train_index, test_index)\n",
    "Ridge_lcdf_kernel.get_targetRMSE(evaluator, train_index, test_index)\n",
    "\n",
    "Ridge_lcdf_soap = models.RidgeRegression(Silicon.Features['structure_avedescriptors'], \"avesoap\", y_lcdf, \"lcdf\", xdos)\n",
    "Ridge_lcdf_soap.obtain_weights([1.0,0.75,0.5,0.25], train_index)\n",
    "Ridge_lcdf_soap.get_DosRMSE(evaluator, train_index, test_index)\n",
    "Ridge_lcdf_soap.get_targetRMSE(evaluator, train_index, test_index)\n",
    "\n",
    "GPR_lcdf = models.GPR(Silicon.Features['structure_avekerneldescriptors'], \"avekernels\", y_lcdf, \"lcdf\", xdos, kMM)\n",
    "GPR_lcdf.obtain_weights([1.0,0.75,0.5,0.25], train_index)\n",
    "GPR_lcdf.get_DosRMSE(evaluator, train_index, test_index)\n",
    "GPR_lcdf.get_targetRMSE(evaluator, train_index, test_index)"
   ]
  },
  {
   "cell_type": "code",
   "execution_count": null,
   "id": "f618582a",
   "metadata": {},
   "outputs": [],
   "source": [
    "[369, 341, 745, 521, 278, 5, 193, 37]"
   ]
  },
  {
   "cell_type": "markdown",
   "id": "7844ccf4",
   "metadata": {},
   "source": [
    "## Analytical Evaluation"
   ]
  },
  {
   "cell_type": "code",
   "execution_count": 105,
   "id": "42e964a9",
   "metadata": {
    "ExecuteTime": {
     "end_time": "2023-01-26T16:28:32.671191Z",
     "start_time": "2023-01-26T16:28:32.658228Z"
    },
    "scrolled": true
   },
   "outputs": [
    {
     "name": "stdout",
     "output_type": "stream",
     "text": [
      "Ridge_pw_kernel DOS RMSE\n",
      "{1.0: array([ 8.94896867, 10.260054  ,  9.21725818,  0.04963029,  0.05958249,\n",
      "        0.05162265]), 0.75: array([ 9.77312821, 11.12209438, 10.04892532,  0.05420102,  0.06458855,\n",
      "        0.05628052]), 0.5: array([10.86239665, 11.71137637, 11.03393834,  0.06024202,  0.06801065,\n",
      "        0.06179724]), 0.25: array([26.12161199, 26.06197913, 26.09796345,  0.14486845,  0.15134789,\n",
      "        0.14616559])}\n",
      "Ridge_pw_kernel Target RMSE\n",
      "{1.0: array([ 8.94896867, 10.260054  ,  9.21725818,  0.04963029,  0.05958249,\n",
      "        0.05162265]), 0.75: array([ 9.77312821, 11.12209438, 10.04892532,  0.05420102,  0.06458855,\n",
      "        0.05628052]), 0.5: array([10.86239665, 11.71137637, 11.03393834,  0.06024202,  0.06801065,\n",
      "        0.06179724]), 0.25: array([26.12161199, 26.06197913, 26.09796345,  0.14486845,  0.15134789,\n",
      "        0.14616559])}\n"
     ]
    }
   ],
   "source": [
    "print (\"Ridge_pw_kernel DOS RMSE\")\n",
    "print (Ridge_pw_kernel.DOSrmse)\n",
    "print (\"Ridge_pw_kernel Target RMSE\")\n",
    "print (Ridge_pw_kernel.targetrmse)"
   ]
  },
  {
   "cell_type": "code",
   "execution_count": 104,
   "id": "eb011577",
   "metadata": {
    "ExecuteTime": {
     "end_time": "2023-01-26T16:28:28.540275Z",
     "start_time": "2023-01-26T16:28:28.527426Z"
    }
   },
   "outputs": [
    {
     "name": "stdout",
     "output_type": "stream",
     "text": [
      "Ridge_pw_soap DOS RMSE\n",
      "{1.0: array([10.74889973, 11.6362159 , 10.92844813,  0.05961257,  0.06757417,\n",
      "        0.06120643]), 0.75: array([11.20180752, 12.09020208, 11.38138437,  0.06212436,  0.07021058,\n",
      "        0.06374316]), 0.5: array([13.1183806 , 13.29469995, 13.14932045,  0.07275353,  0.07720537,\n",
      "        0.07364476]), 0.25: array([23.03672075, 22.73477731, 22.9641052 ,  0.12775988,  0.13202607,\n",
      "        0.12861394])}\n",
      "Ridge_pw_soap Target RMSE\n",
      "{1.0: array([10.74889973, 11.6362159 , 10.92844813,  0.05961257,  0.06757417,\n",
      "        0.06120643]), 0.75: array([11.20180752, 12.09020208, 11.38138437,  0.06212436,  0.07021058,\n",
      "        0.06374316]), 0.5: array([13.1183806 , 13.29469995, 13.14932045,  0.07275353,  0.07720537,\n",
      "        0.07364476]), 0.25: array([23.03672075, 22.73477731, 22.9641052 ,  0.12775988,  0.13202607,\n",
      "        0.12861394])}\n"
     ]
    }
   ],
   "source": [
    "print (\"Ridge_pw_soap DOS RMSE\")\n",
    "print (Ridge_pw_soap.DOSrmse)\n",
    "print (\"Ridge_pw_soap Target RMSE\")\n",
    "print (Ridge_pw_soap.targetrmse)"
   ]
  },
  {
   "cell_type": "code",
   "execution_count": 106,
   "id": "fa331725",
   "metadata": {
    "ExecuteTime": {
     "end_time": "2023-01-26T16:29:00.928518Z",
     "start_time": "2023-01-26T16:29:00.914658Z"
    }
   },
   "outputs": [
    {
     "name": "stdout",
     "output_type": "stream",
     "text": [
      "GPR_pw DOS RMSE\n",
      "{1.0: array([22.11708717, 21.35773438, 21.94992095,  0.12265967,  0.12402926,\n",
      "        0.12293385]), 0.75: array([21.5088905 , 20.74365928, 21.20937588,  0.11865888,  0.12046319,\n",
      "        0.11878631]), 0.5: array([21.06248509, 20.88436152, 21.41177157,  0.11681263,  0.12128028,\n",
      "        0.11991986]), 0.25: array([23.83315022, 24.49232399, 24.30919548,  0.12613305,  0.14223254,\n",
      "        0.13614732])}\n",
      "GPR_pw Target RMSE\n",
      "{1.0: array([22.11708717, 21.35773438, 21.94992095,  0.12265967,  0.12402926,\n",
      "        0.12293385]), 0.75: array([21.5088905 , 20.74365928, 21.20937588,  0.11865888,  0.12046319,\n",
      "        0.11878631]), 0.5: array([21.06248509, 20.88436152, 21.41177157,  0.11681263,  0.12128028,\n",
      "        0.11991986]), 0.25: array([23.83315022, 24.49232399, 24.30919548,  0.12613305,  0.14223254,\n",
      "        0.13614732])}\n"
     ]
    }
   ],
   "source": [
    "print (\"GPR_pw DOS RMSE\")\n",
    "print (GPR_pw.DOSrmse)\n",
    "print (\"GPR_pw Target RMSE\")\n",
    "print (GPR_pw.targetrmse)"
   ]
  },
  {
   "cell_type": "code",
   "execution_count": 109,
   "id": "b6ea6b64",
   "metadata": {
    "ExecuteTime": {
     "end_time": "2023-01-26T16:30:10.231577Z",
     "start_time": "2023-01-26T16:30:10.220459Z"
    }
   },
   "outputs": [
    {
     "name": "stdout",
     "output_type": "stream",
     "text": [
      "Ridge_lcdf_kernel DOS RMSE\n",
      "{1.0: array([ 8.21098306, 10.33286287,  8.64789288,  0.04553748,  0.0600053 ,\n",
      "        0.04843383]), 0.75: array([10.21666806, 11.8486123 , 10.5510134 ,  0.05666086,  0.06880761,\n",
      "        0.05909255]), 0.5: array([11.17952744, 12.5301001 , 11.45505122,  0.0620008 ,  0.07276516,\n",
      "        0.06415575]), 0.25: array([15.06591952, 14.74258081, 14.99230181,  0.08355443,  0.08561355,\n",
      "        0.08396665])}\n",
      "Ridge_lcdf_kernel Target RMSE\n",
      "{1.0: array([1.51905341, 2.06275147, 1.63040385, 0.44271821, 0.62213614,\n",
      "       0.47863633]), 0.75: array([2.19245196, 2.57954095, 2.27138249, 0.63897583, 0.77800242,\n",
      "       0.66680791]), 0.5: array([2.50723751, 2.78201543, 2.5629707 , 0.73071803, 0.83906974,\n",
      "       0.75240923]), 0.25: array([3.8251488 , 3.57944404, 3.77342258, 1.11481469, 1.07957818,\n",
      "       1.1077606 ])}\n"
     ]
    }
   ],
   "source": [
    "print (\"Ridge_lcdf_kernel DOS RMSE\")\n",
    "print (Ridge_lcdf_kernel.DOSrmse)\n",
    "print (\"Ridge_lcdf_kernel Target RMSE\")\n",
    "print (Ridge_lcdf_kernel.targetrmse)"
   ]
  },
  {
   "cell_type": "code",
   "execution_count": 107,
   "id": "9501f5fc",
   "metadata": {
    "ExecuteTime": {
     "end_time": "2023-01-26T16:29:47.481087Z",
     "start_time": "2023-01-26T16:29:47.477560Z"
    }
   },
   "outputs": [
    {
     "name": "stdout",
     "output_type": "stream",
     "text": [
      "Ridge_lcdf_soap DOS RMSE\n",
      "{1.0: array([12.5041179 , 13.05041966, 12.61212243,  0.06934688,  0.07578678,\n",
      "        0.0706361 ]), 0.75: array([13.0034001 , 13.53473352, 13.10808214,  0.07211586,  0.0785993 ,\n",
      "        0.07341379]), 0.5: array([13.97558488, 14.06515944, 13.9881487 ,  0.07750752,  0.08167961,\n",
      "        0.07834274]), 0.25: array([16.73216006, 15.43007066, 16.45465778,  0.09279527,  0.08960596,\n",
      "        0.0921568 ])}\n",
      "Ridge_lcdf_soap Target RMSE\n",
      "{1.0: array([3.14754043, 3.16554191, 3.15026236, 0.91733014, 0.95474324,\n",
      "       0.92481996]), 0.75: array([3.31747847, 3.35290847, 3.32373203, 0.96685748, 1.01125393,\n",
      "       0.97574531]), 0.5: array([3.67800992, 3.57160966, 3.65498061, 1.07193202, 1.07721529,\n",
      "       1.07298969]), 0.25: array([4.50041176, 3.95253412, 4.3863266 , 1.31161567, 1.19210401,\n",
      "       1.28769034])}\n"
     ]
    }
   ],
   "source": [
    "print (\"Ridge_lcdf_soap DOS RMSE\")\n",
    "print (Ridge_lcdf_soap.DOSrmse)\n",
    "print (\"Ridge_lcdf_soap Target RMSE\")\n",
    "print (Ridge_lcdf_soap.targetrmse)"
   ]
  },
  {
   "cell_type": "code",
   "execution_count": 108,
   "id": "0309af72",
   "metadata": {
    "ExecuteTime": {
     "end_time": "2023-01-26T16:30:03.510814Z",
     "start_time": "2023-01-26T16:30:03.499779Z"
    }
   },
   "outputs": [
    {
     "name": "stdout",
     "output_type": "stream",
     "text": [
      "GPR_lcdf DOS RMSE\n",
      "{1.0: array([20.90363469, 20.46987494, 20.80457749,  0.11592995,  0.11887326,\n",
      "        0.11651918]), 0.75: array([22.40731733, 22.02863113, 22.25118271,  0.12361527,  0.12792531,\n",
      "        0.12462111]), 0.5: array([22.55960419, 22.07145294, 22.64809633,  0.12511565,  0.12817399,\n",
      "        0.12684409]), 0.25: array([23.69955108, 22.92802315, 23.60884309,  0.125426  ,  0.13314829,\n",
      "        0.13222489])}\n",
      "GPR_lcdf Target RMSE\n",
      "{1.0: array([5.63197171, 5.46999487, 5.59690318, 1.64140145, 1.64977775,\n",
      "       1.64307832]), 0.75: array([6.08147253, 5.83454171, 5.94154172, 1.75597532, 1.75972689,\n",
      "       1.74425358]), 0.5: array([6.05751721, 6.14648197, 6.31087866, 1.79060255, 1.85380963,\n",
      "       1.85267952]), 0.25: array([6.62111657, 6.19329568, 6.35071534, 1.75255165, 1.86792888,\n",
      "       1.86437434])}\n"
     ]
    }
   ],
   "source": [
    "print (\"GPR_lcdf DOS RMSE\")\n",
    "print (GPR_lcdf.DOSrmse)\n",
    "print (\"GPR_lcdf Target RMSE\")\n",
    "print (GPR_lcdf.targetrmse)"
   ]
  },
  {
   "cell_type": "markdown",
   "id": "c91e6519",
   "metadata": {},
   "source": [
    "## Torch Model"
   ]
  },
  {
   "cell_type": "code",
   "execution_count": 56,
   "id": "091a655c",
   "metadata": {
    "ExecuteTime": {
     "end_time": "2023-01-27T14:18:49.479577Z",
     "start_time": "2023-01-27T14:18:49.449653Z"
    }
   },
   "outputs": [],
   "source": [
    "import dostools.models.models as models\n",
    "import dostools.models.training as training\n",
    "import dostools.models.architectures as architecture\n",
    "import dostools.loss.loss as loss\n",
    "importlib.reload(models)\n",
    "importlib.reload(training)\n",
    "importlib.reload(architecture)\n",
    "importlib.reload(loss)\n",
    "\n",
    "TLReg_pw_soap = models.TRegression(Silicon.Features['structure_avedescriptors'].double(), \"avedesc\", y_pw.double(), \"pw\", \"pw\", xdos, \"Adam\", \"cpu\")\n",
    "TLReg_pw_kernel = models.TRegression(Silicon.Features['structure_avekerneldescriptors'].double(), \"avekerneldesc\", y_pw.double(), \"pw\", \"pw\", xdos, \"Adam\", \"cpu\")\n",
    "TLReg_lcdf_soap = models.TRegression(Silicon.Features['structure_avedescriptors'].double(), \"avedesc\", y_lcdf.double(), \"lcdf\", \"pw\", xdos, \"Adam\", \"cpu\")\n",
    "TLReg_lcdf_kernel = models.TRegression(Silicon.Features['structure_avekerneldescriptors'].double(), \"avekerneldesc\", y_lcdf.double(), \"lcdf\", \"pw\", xdos, \"Adam\", \"cpu\")\n"
   ]
  },
  {
   "cell_type": "code",
   "execution_count": 57,
   "id": "866ba7d4",
   "metadata": {
    "ExecuteTime": {
     "end_time": "2023-01-27T17:26:27.474608Z",
     "start_time": "2023-01-27T14:18:50.105262Z"
    },
    "scrolled": true
   },
   "outputs": [
    {
     "name": "stdout",
     "output_type": "stream",
     "text": [
      "Currently trying regularization :1.0000000000000031e-10\n"
     ]
    },
    {
     "name": "stderr",
     "output_type": "stream",
     "text": [
      "Epoch: 4898:   0%|▏                                                                                                | 4898/2000000 [01:46<12:02:41, 46.01it/s, lowest_loss=0.0146, pred_loss=0.000213, trigger=1300]\n"
     ]
    },
    {
     "name": "stdout",
     "output_type": "stream",
     "text": [
      "Implemented early stopping with lowest_loss: 0.01460984729623029\n"
     ]
    },
    {
     "name": "stderr",
     "output_type": "stream",
     "text": [
      "Epoch: 4895:   0%|▏                                                                                                | 4895/2000000 [01:45<11:54:11, 46.56it/s, lowest_loss=0.0147, pred_loss=0.000216, trigger=1300]\n"
     ]
    },
    {
     "name": "stdout",
     "output_type": "stream",
     "text": [
      "Implemented early stopping with lowest_loss: 0.014700051137602775\n",
      "The performance at reg value:1.0000000000000031e-10 is 0.00021480600769089138\n",
      "Currently trying regularization :1.0000000000000018e-08\n"
     ]
    },
    {
     "name": "stderr",
     "output_type": "stream",
     "text": [
      "Epoch: 5617:   0%|▎                                                                                                | 5617/2000000 [02:02<12:03:19, 45.95it/s, lowest_loss=0.0184, pred_loss=0.000338, trigger=1300]\n"
     ]
    },
    {
     "name": "stdout",
     "output_type": "stream",
     "text": [
      "Implemented early stopping with lowest_loss: 0.01837476808515232\n"
     ]
    },
    {
     "name": "stderr",
     "output_type": "stream",
     "text": [
      "Epoch: 4840:   0%|▏                                                                                                | 4840/2000000 [01:45<12:03:47, 45.94it/s, lowest_loss=0.0184, pred_loss=0.000338, trigger=1300]\n"
     ]
    },
    {
     "name": "stdout",
     "output_type": "stream",
     "text": [
      "Implemented early stopping with lowest_loss: 0.018401996271018108\n",
      "The performance at reg value:1.0000000000000018e-08 is 0.0003382527884219765\n",
      "Currently trying regularization :1.0000000000000004e-06\n"
     ]
    },
    {
     "name": "stderr",
     "output_type": "stream",
     "text": [
      "Epoch: 4300:   0%|▏                                                                                                 | 4300/2000000 [01:32<11:57:53, 46.33it/s, lowest_loss=0.0343, pred_loss=0.00118, trigger=1300]\n"
     ]
    },
    {
     "name": "stdout",
     "output_type": "stream",
     "text": [
      "Implemented early stopping with lowest_loss: 0.03430628857148687\n"
     ]
    },
    {
     "name": "stderr",
     "output_type": "stream",
     "text": [
      "Epoch: 4016:   0%|▏                                                                                                 | 4016/2000000 [01:26<11:57:22, 46.37it/s, lowest_loss=0.0343, pred_loss=0.00118, trigger=1300]\n"
     ]
    },
    {
     "name": "stdout",
     "output_type": "stream",
     "text": [
      "Implemented early stopping with lowest_loss: 0.03430852898595736\n",
      "The performance at reg value:1.0000000000000004e-06 is 0.0011770499586201489\n",
      "Currently trying regularization :9.999999999999991e-05\n"
     ]
    },
    {
     "name": "stderr",
     "output_type": "stream",
     "text": [
      "Epoch: 1432:   0%|                                                                                                    | 1432/2000000 [00:30<11:43:57, 47.32it/s, lowest_loss=0.064, pred_loss=0.0041, trigger=1300]\n"
     ]
    },
    {
     "name": "stdout",
     "output_type": "stream",
     "text": [
      "Implemented early stopping with lowest_loss: 0.06401722092320913\n"
     ]
    },
    {
     "name": "stderr",
     "output_type": "stream",
     "text": [
      "Epoch: 1432:   0%|                                                                                                    | 1432/2000000 [00:31<12:04:41, 45.96it/s, lowest_loss=0.064, pred_loss=0.0041, trigger=1300]\n"
     ]
    },
    {
     "name": "stdout",
     "output_type": "stream",
     "text": [
      "Implemented early stopping with lowest_loss: 0.06401609082117621\n",
      "The performance at reg value:9.999999999999991e-05 is 0.004098080648992898\n",
      "Currently trying regularization :0.010000000000000005\n"
     ]
    },
    {
     "name": "stderr",
     "output_type": "stream",
     "text": [
      "Epoch: 1346:   0%|                                                                                                  | 1346/2000000 [00:28<11:48:54, 46.99it/s, lowest_loss=0.0923, pred_loss=0.00853, trigger=1300]\n"
     ]
    },
    {
     "name": "stdout",
     "output_type": "stream",
     "text": [
      "Implemented early stopping with lowest_loss: 0.09230138610154055\n"
     ]
    },
    {
     "name": "stderr",
     "output_type": "stream",
     "text": [
      "Epoch: 1338:   0%|                                                                                                  | 1338/2000000 [00:28<11:53:48, 46.67it/s, lowest_loss=0.0923, pred_loss=0.00853, trigger=1300]\n"
     ]
    },
    {
     "name": "stdout",
     "output_type": "stream",
     "text": [
      "Implemented early stopping with lowest_loss: 0.09228854268221402\n",
      "The performance at reg value:0.010000000000000005 is 0.008527607021859477\n",
      "Currently trying regularization :1.0\n"
     ]
    },
    {
     "name": "stderr",
     "output_type": "stream",
     "text": [
      "Epoch: 1383:   0%|                                                                                                  | 1383/2000000 [00:29<11:58:43, 46.35it/s, lowest_loss=0.0942, pred_loss=0.00887, trigger=1300]\n"
     ]
    },
    {
     "name": "stdout",
     "output_type": "stream",
     "text": [
      "Implemented early stopping with lowest_loss: 0.09419871743630996\n"
     ]
    },
    {
     "name": "stderr",
     "output_type": "stream",
     "text": [
      "Epoch: 1383:   0%|                                                                                                  | 1383/2000000 [00:29<11:49:26, 46.95it/s, lowest_loss=0.0942, pred_loss=0.00887, trigger=1300]\n"
     ]
    },
    {
     "name": "stdout",
     "output_type": "stream",
     "text": [
      "Implemented early stopping with lowest_loss: 0.09419312724157318\n",
      "The performance at reg value:1.0 is 0.008873772567017933\n",
      "Currently trying regularization :100.00000000000004\n"
     ]
    },
    {
     "name": "stderr",
     "output_type": "stream",
     "text": [
      "Epoch: 1375:   0%|                                                                                                  | 1375/2000000 [00:29<11:58:48, 46.34it/s, lowest_loss=0.0942, pred_loss=0.00888, trigger=1300]\n"
     ]
    },
    {
     "name": "stdout",
     "output_type": "stream",
     "text": [
      "Implemented early stopping with lowest_loss: 0.09423526400541825\n"
     ]
    },
    {
     "name": "stderr",
     "output_type": "stream",
     "text": [
      "Epoch: 1396:   0%|                                                                                                  | 1396/2000000 [00:30<12:01:08, 46.19it/s, lowest_loss=0.0942, pred_loss=0.00888, trigger=1300]\n"
     ]
    },
    {
     "name": "stdout",
     "output_type": "stream",
     "text": [
      "Implemented early stopping with lowest_loss: 0.09422737839068697\n",
      "The performance at reg value:100.00000000000004 is 0.008879665993233575\n",
      "The log_grid error is:\n",
      "[0.00021481 0.00033825 0.00117705 0.00409808 0.00852761 0.00887377\n",
      " 0.00887967]\n",
      "Init value is: 1.0000000000000031e-10\n",
      "Currently trying regularization :[1.e-10]\n"
     ]
    },
    {
     "name": "stderr",
     "output_type": "stream",
     "text": [
      "Epoch: 4828:   0%|▏                                                                                                | 4828/2000000 [01:43<11:55:45, 46.46it/s, lowest_loss=0.0147, pred_loss=0.000216, trigger=1300]\n"
     ]
    },
    {
     "name": "stdout",
     "output_type": "stream",
     "text": [
      "Implemented early stopping with lowest_loss: 0.014702705896698948\n"
     ]
    },
    {
     "name": "stderr",
     "output_type": "stream",
     "text": [
      "Epoch: 4865:   0%|▏                                                                                                | 4865/2000000 [01:44<11:55:45, 46.46it/s, lowest_loss=0.0146, pred_loss=0.000213, trigger=1300]\n"
     ]
    },
    {
     "name": "stdout",
     "output_type": "stream",
     "text": [
      "Implemented early stopping with lowest_loss: 0.014617502113199031\n",
      "The performance at reg value:[1.e-10] is 0.00021491939412930273\n",
      "Currently trying regularization :[3.16227766e-11]\n"
     ]
    },
    {
     "name": "stderr",
     "output_type": "stream",
     "text": [
      "Epoch: 5046:   0%|▏                                                                                                 | 5046/2000000 [01:51<12:14:47, 45.25it/s, lowest_loss=0.0145, pred_loss=0.00021, trigger=1300]\n"
     ]
    },
    {
     "name": "stdout",
     "output_type": "stream",
     "text": [
      "Implemented early stopping with lowest_loss: 0.014509118181533913\n"
     ]
    },
    {
     "name": "stderr",
     "output_type": "stream",
     "text": [
      "Epoch: 5872:   0%|▎                                                                                                 | 5872/2000000 [02:07<12:02:32, 46.00it/s, lowest_loss=0.0145, pred_loss=0.00021, trigger=1300]\n"
     ]
    },
    {
     "name": "stdout",
     "output_type": "stream",
     "text": [
      "Implemented early stopping with lowest_loss: 0.014509418315374488\n",
      "The performance at reg value:[3.16227766e-11] is 0.000210444785052635\n",
      "Currently trying regularization :[1.e-11]\n"
     ]
    },
    {
     "name": "stderr",
     "output_type": "stream",
     "text": [
      "Epoch: 4973:   0%|▏                                                                                                 | 4973/2000000 [01:48<12:04:31, 45.89it/s, lowest_loss=0.0145, pred_loss=0.00021, trigger=1300]\n"
     ]
    },
    {
     "name": "stdout",
     "output_type": "stream",
     "text": [
      "Implemented early stopping with lowest_loss: 0.014499589349799166\n"
     ]
    },
    {
     "name": "stderr",
     "output_type": "stream",
     "text": [
      "Epoch: 5317:   0%|▎                                                                                                 | 5317/2000000 [01:54<11:52:47, 46.64it/s, lowest_loss=0.0145, pred_loss=0.00021, trigger=1300]\n"
     ]
    },
    {
     "name": "stdout",
     "output_type": "stream",
     "text": [
      "Implemented early stopping with lowest_loss: 0.014486668520929967\n",
      "The performance at reg value:[1.e-11] is 0.00021005158770659896\n",
      "Currently trying regularization :[3.16227766e-12]\n"
     ]
    },
    {
     "name": "stderr",
     "output_type": "stream",
     "text": [
      "Epoch: 4944:   0%|▏                                                                                                | 4944/2000000 [01:46<11:54:32, 46.53it/s, lowest_loss=0.0145, pred_loss=0.000209, trigger=1300]\n"
     ]
    },
    {
     "name": "stdout",
     "output_type": "stream",
     "text": [
      "Implemented early stopping with lowest_loss: 0.014470120139434873\n"
     ]
    },
    {
     "name": "stderr",
     "output_type": "stream",
     "text": [
      "Epoch: 5058:   0%|▏                                                                                                | 5058/2000000 [01:49<12:00:06, 46.17it/s, lowest_loss=0.0145, pred_loss=0.000209, trigger=1300]\n"
     ]
    },
    {
     "name": "stdout",
     "output_type": "stream",
     "text": [
      "Implemented early stopping with lowest_loss: 0.014470813023410868\n",
      "The performance at reg value:[3.16227766e-12] is 0.00020942513392409578\n",
      "Optimal regularization value for Ridge, Feature:avedesc, target: pw is 3.1622776601683673e-12\n",
      "Currently training torch linear model with features :avedesc, target: pw, opt: Adam, lr:0.1\n"
     ]
    },
    {
     "name": "stderr",
     "output_type": "stream",
     "text": [
      "Epoch: 5839:   0%|▎                                                                                                | 5839/2000000 [02:07<12:05:14, 45.83it/s, lowest_loss=0.0145, pred_loss=0.000209, trigger=1300]\n"
     ]
    },
    {
     "name": "stdout",
     "output_type": "stream",
     "text": [
      "Implemented early stopping with lowest_loss: 0.014474158217777014\n",
      "Currently trying regularization :1.0000000000000031e-10\n"
     ]
    },
    {
     "name": "stderr",
     "output_type": "stream",
     "text": [
      "Epoch: 5241:   0%|▎                                                                                                 | 5241/2000000 [02:34<16:21:40, 33.87it/s, lowest_loss=0.0429, pred_loss=0.00184, trigger=1300]\n"
     ]
    },
    {
     "name": "stdout",
     "output_type": "stream",
     "text": [
      "Implemented early stopping with lowest_loss: 0.0428601771571922\n"
     ]
    },
    {
     "name": "stderr",
     "output_type": "stream",
     "text": [
      "Epoch: 5216:   0%|▎                                                                                                 | 5216/2000000 [02:33<16:20:18, 33.91it/s, lowest_loss=0.0428, pred_loss=0.00183, trigger=1300]\n"
     ]
    },
    {
     "name": "stdout",
     "output_type": "stream",
     "text": [
      "Implemented early stopping with lowest_loss: 0.04278429917262287\n",
      "The performance at reg value:1.0000000000000031e-10 is 0.0018338934423836077\n",
      "Currently trying regularization :1.0000000000000018e-08\n"
     ]
    },
    {
     "name": "stderr",
     "output_type": "stream",
     "text": [
      "Epoch: 6023:   0%|▎                                                                                                 | 6023/2000000 [02:59<16:30:50, 33.54it/s, lowest_loss=0.0428, pred_loss=0.00183, trigger=1300]\n"
     ]
    },
    {
     "name": "stdout",
     "output_type": "stream",
     "text": [
      "Implemented early stopping with lowest_loss: 0.04277744051080507\n"
     ]
    },
    {
     "name": "stderr",
     "output_type": "stream",
     "text": [
      "Epoch: 5194:   0%|▎                                                                                                 | 5194/2000000 [02:34<16:27:42, 33.66it/s, lowest_loss=0.0428, pred_loss=0.00183, trigger=1300]\n"
     ]
    },
    {
     "name": "stdout",
     "output_type": "stream",
     "text": [
      "Implemented early stopping with lowest_loss: 0.04280268758209192\n",
      "The performance at reg value:1.0000000000000018e-08 is 0.0018310093226522005\n",
      "Currently trying regularization :1.0000000000000004e-06\n"
     ]
    },
    {
     "name": "stderr",
     "output_type": "stream",
     "text": [
      "Epoch: 5397:   0%|▎                                                                                                 | 5397/2000000 [02:39<16:21:06, 33.88it/s, lowest_loss=0.0429, pred_loss=0.00184, trigger=1300]\n"
     ]
    },
    {
     "name": "stdout",
     "output_type": "stream",
     "text": [
      "Implemented early stopping with lowest_loss: 0.042851197194313045\n"
     ]
    },
    {
     "name": "stderr",
     "output_type": "stream",
     "text": [
      "Epoch: 6103:   0%|▎                                                                                                 | 6103/2000000 [03:00<16:22:31, 33.82it/s, lowest_loss=0.0428, pred_loss=0.00183, trigger=1300]\n"
     ]
    },
    {
     "name": "stdout",
     "output_type": "stream",
     "text": [
      "Implemented early stopping with lowest_loss: 0.0428076211061505\n",
      "The performance at reg value:1.0000000000000004e-06 is 0.0018345631789133529\n",
      "Currently trying regularization :9.999999999999991e-05\n"
     ]
    },
    {
     "name": "stderr",
     "output_type": "stream",
     "text": [
      "Epoch: 4048:   0%|▏                                                                                                 | 4048/2000000 [01:59<16:24:17, 33.80it/s, lowest_loss=0.0467, pred_loss=0.00218, trigger=1300]\n"
     ]
    },
    {
     "name": "stdout",
     "output_type": "stream",
     "text": [
      "Implemented early stopping with lowest_loss: 0.04667414426616123\n"
     ]
    },
    {
     "name": "stderr",
     "output_type": "stream",
     "text": [
      "Epoch: 4077:   0%|▏                                                                                                 | 4077/2000000 [01:59<16:19:04, 33.98it/s, lowest_loss=0.0467, pred_loss=0.00218, trigger=1300]\n"
     ]
    },
    {
     "name": "stdout",
     "output_type": "stream",
     "text": [
      "Implemented early stopping with lowest_loss: 0.04667417384147107\n",
      "The performance at reg value:9.999999999999991e-05 is 0.002178526275930431\n",
      "Currently trying regularization :0.010000000000000005\n"
     ]
    },
    {
     "name": "stderr",
     "output_type": "stream",
     "text": [
      "Epoch: 2426:   0%|                                                                                                  | 2426/2000000 [01:10<16:07:20, 34.42it/s, lowest_loss=0.0808, pred_loss=0.00652, trigger=1300]\n"
     ]
    },
    {
     "name": "stdout",
     "output_type": "stream",
     "text": [
      "Implemented early stopping with lowest_loss: 0.080777130807295\n"
     ]
    },
    {
     "name": "stderr",
     "output_type": "stream",
     "text": [
      "Epoch: 2433:   0%|                                                                                                  | 2433/2000000 [01:12<16:25:38, 33.78it/s, lowest_loss=0.0808, pred_loss=0.00652, trigger=1300]\n"
     ]
    },
    {
     "name": "stdout",
     "output_type": "stream",
     "text": [
      "Implemented early stopping with lowest_loss: 0.08077663222090141\n",
      "The performance at reg value:0.010000000000000005 is 0.006524930431045611\n",
      "Currently trying regularization :1.0\n"
     ]
    },
    {
     "name": "stderr",
     "output_type": "stream",
     "text": [
      "Epoch: 1400:   0%|                                                                                                  | 1400/2000000 [00:41<16:33:35, 33.52it/s, lowest_loss=0.0939, pred_loss=0.00883, trigger=1300]\n"
     ]
    },
    {
     "name": "stdout",
     "output_type": "stream",
     "text": [
      "Implemented early stopping with lowest_loss: 0.0939483855323077\n"
     ]
    },
    {
     "name": "stderr",
     "output_type": "stream",
     "text": [
      "Epoch: 1385:   0%|                                                                                                  | 1385/2000000 [00:41<16:28:45, 33.69it/s, lowest_loss=0.0939, pred_loss=0.00883, trigger=1300]\n"
     ]
    },
    {
     "name": "stdout",
     "output_type": "stream",
     "text": [
      "Implemented early stopping with lowest_loss: 0.09394071886520285\n",
      "The performance at reg value:1.0 is 0.00882560626318004\n",
      "Currently trying regularization :100.00000000000004\n"
     ]
    },
    {
     "name": "stderr",
     "output_type": "stream",
     "text": [
      "Epoch: 1424:   0%|                                                                                                  | 1424/2000000 [00:42<16:27:32, 33.73it/s, lowest_loss=0.0942, pred_loss=0.00888, trigger=1300]\n"
     ]
    },
    {
     "name": "stdout",
     "output_type": "stream",
     "text": [
      "Implemented early stopping with lowest_loss: 0.09422759910175461\n"
     ]
    },
    {
     "name": "stderr",
     "output_type": "stream",
     "text": [
      "Epoch: 1410:   0%|                                                                                                  | 1410/2000000 [00:42<16:36:22, 33.43it/s, lowest_loss=0.0942, pred_loss=0.00888, trigger=1300]\n"
     ]
    },
    {
     "name": "stdout",
     "output_type": "stream",
     "text": [
      "Implemented early stopping with lowest_loss: 0.09423252131378594\n",
      "The performance at reg value:100.00000000000004 is 0.008879190706194182\n",
      "The log_grid error is:\n",
      "[0.00183389 0.00183101 0.00183456 0.00217853 0.00652493 0.00882561\n",
      " 0.00887919]\n",
      "Init value is: 1.0000000000000018e-08\n",
      "Currently trying regularization :[1.e-08]\n"
     ]
    },
    {
     "name": "stderr",
     "output_type": "stream",
     "text": [
      "Epoch: 5502:   0%|▎                                                                                                 | 5502/2000000 [02:40<16:11:44, 34.21it/s, lowest_loss=0.0428, pred_loss=0.00183, trigger=1300]\n"
     ]
    },
    {
     "name": "stdout",
     "output_type": "stream",
     "text": [
      "Implemented early stopping with lowest_loss: 0.04282433089898341\n"
     ]
    },
    {
     "name": "stderr",
     "output_type": "stream",
     "text": [
      "Epoch: 5377:   0%|▎                                                                                                 | 5377/2000000 [02:38<16:19:02, 33.96it/s, lowest_loss=0.0428, pred_loss=0.00183, trigger=1300]\n"
     ]
    },
    {
     "name": "stdout",
     "output_type": "stream",
     "text": [
      "Implemented early stopping with lowest_loss: 0.042784440331583094\n",
      "The performance at reg value:[1.e-08] is 0.001832355620088993\n",
      "Currently trying regularization :[3.98107171e-09]\n"
     ]
    },
    {
     "name": "stderr",
     "output_type": "stream",
     "text": [
      "Epoch: 5741:   0%|▎                                                                                                 | 5741/2000000 [02:48<16:16:32, 34.04it/s, lowest_loss=0.0428, pred_loss=0.00183, trigger=1300]\n"
     ]
    },
    {
     "name": "stdout",
     "output_type": "stream",
     "text": [
      "Implemented early stopping with lowest_loss: 0.0427679801658768\n"
     ]
    },
    {
     "name": "stderr",
     "output_type": "stream",
     "text": [
      "Epoch: 6129:   0%|▎                                                                                                 | 6129/2000000 [03:01<16:21:49, 33.85it/s, lowest_loss=0.0428, pred_loss=0.00183, trigger=1300]\n"
     ]
    },
    {
     "name": "stdout",
     "output_type": "stream",
     "text": [
      "Implemented early stopping with lowest_loss: 0.04276245728327587\n",
      "The performance at reg value:[3.98107171e-09] is 0.001828968878866616\n",
      "Currently trying regularization :[1.58489319e-09]\n"
     ]
    },
    {
     "name": "stderr",
     "output_type": "stream",
     "text": [
      "Epoch: 5404:   0%|▎                                                                                                 | 5404/2000000 [02:39<16:23:37, 33.80it/s, lowest_loss=0.0428, pred_loss=0.00183, trigger=1300]\n"
     ]
    },
    {
     "name": "stdout",
     "output_type": "stream",
     "text": [
      "Implemented early stopping with lowest_loss: 0.04275899236627952\n"
     ]
    },
    {
     "name": "stderr",
     "output_type": "stream",
     "text": [
      "Epoch: 6053:   0%|▎                                                                                                 | 6053/2000000 [02:59<16:25:37, 33.72it/s, lowest_loss=0.0428, pred_loss=0.00183, trigger=1300]\n"
     ]
    },
    {
     "name": "stdout",
     "output_type": "stream",
     "text": [
      "Implemented early stopping with lowest_loss: 0.04275363351029247\n",
      "The performance at reg value:[1.58489319e-09] is 0.001828091968160553\n",
      "Currently trying regularization :[6.30957344e-10]\n"
     ]
    },
    {
     "name": "stderr",
     "output_type": "stream",
     "text": [
      "Epoch: 5199:   0%|▎                                                                                                 | 5199/2000000 [02:33<16:23:32, 33.80it/s, lowest_loss=0.0428, pred_loss=0.00183, trigger=1300]\n"
     ]
    },
    {
     "name": "stdout",
     "output_type": "stream",
     "text": [
      "Implemented early stopping with lowest_loss: 0.04277883571718157\n"
     ]
    },
    {
     "name": "stderr",
     "output_type": "stream",
     "text": [
      "Epoch: 6080:   0%|▎                                                                                                 | 6080/2000000 [03:00<16:25:46, 33.71it/s, lowest_loss=0.0427, pred_loss=0.00182, trigger=1300]\n"
     ]
    },
    {
     "name": "stdout",
     "output_type": "stream",
     "text": [
      "Implemented early stopping with lowest_loss: 0.042693734853131333\n",
      "The performance at reg value:[6.30957344e-10] is 0.001826364861473551\n",
      "Optimal regularization value for Ridge, Feature:avekerneldesc, target: pw is 6.309573444801949e-10\n",
      "Currently training torch linear model with features :avekerneldesc, target: pw, opt: Adam, lr:0.001\n"
     ]
    },
    {
     "name": "stderr",
     "output_type": "stream",
     "text": [
      "Epoch: 5322:   0%|▎                                                                                                 | 5322/2000000 [02:35<16:11:06, 34.23it/s, lowest_loss=0.0428, pred_loss=0.00183, trigger=1300]\n"
     ]
    },
    {
     "name": "stdout",
     "output_type": "stream",
     "text": [
      "Implemented early stopping with lowest_loss: 0.04282098367984266\n",
      "Currently trying regularization :1.0000000000000031e-10\n"
     ]
    },
    {
     "name": "stderr",
     "output_type": "stream",
     "text": [
      "Epoch: 8668:   0%|▍                                                                                                   | 8668/2000000 [03:04<11:46:48, 46.96it/s, lowest_loss=0.263, pred_loss=0.0693, trigger=1300]\n"
     ]
    },
    {
     "name": "stdout",
     "output_type": "stream",
     "text": [
      "Implemented early stopping with lowest_loss: 0.26316683407297425\n"
     ]
    },
    {
     "name": "stderr",
     "output_type": "stream",
     "text": [
      "Epoch: 8136:   0%|▍                                                                                                   | 8136/2000000 [02:52<11:42:25, 47.26it/s, lowest_loss=0.263, pred_loss=0.0692, trigger=1300]\n"
     ]
    },
    {
     "name": "stdout",
     "output_type": "stream",
     "text": [
      "Implemented early stopping with lowest_loss: 0.2630398233286805\n",
      "The performance at reg value:1.0000000000000031e-10 is 0.06921536198322722\n",
      "Currently trying regularization :1.0000000000000018e-08\n"
     ]
    },
    {
     "name": "stderr",
     "output_type": "stream",
     "text": [
      "Epoch: 7169:   0%|▎                                                                                                   | 7169/2000000 [02:32<11:45:07, 47.10it/s, lowest_loss=0.313, pred_loss=0.0978, trigger=1300]\n"
     ]
    },
    {
     "name": "stdout",
     "output_type": "stream",
     "text": [
      "Implemented early stopping with lowest_loss: 0.3127709269147396\n"
     ]
    },
    {
     "name": "stderr",
     "output_type": "stream",
     "text": [
      "Epoch: 7209:   0%|▎                                                                                                   | 7209/2000000 [02:31<11:38:53, 47.52it/s, lowest_loss=0.312, pred_loss=0.0973, trigger=1300]\n"
     ]
    },
    {
     "name": "stdout",
     "output_type": "stream",
     "text": [
      "Implemented early stopping with lowest_loss: 0.3120053991986277\n",
      "The performance at reg value:1.0000000000000018e-08 is 0.09762577042885834\n",
      "Currently trying regularization :1.0000000000000004e-06\n"
     ]
    },
    {
     "name": "stderr",
     "output_type": "stream",
     "text": [
      "Epoch: 5070:   0%|▎                                                                                                    | 5070/2000000 [01:48<11:53:11, 46.62it/s, lowest_loss=0.792, pred_loss=0.627, trigger=1300]\n"
     ]
    },
    {
     "name": "stdout",
     "output_type": "stream",
     "text": [
      "Implemented early stopping with lowest_loss: 0.7915819220204127\n"
     ]
    },
    {
     "name": "stderr",
     "output_type": "stream",
     "text": [
      "Epoch: 5870:   0%|▎                                                                                                    | 5870/2000000 [02:06<11:56:56, 46.36it/s, lowest_loss=0.792, pred_loss=0.627, trigger=1300]\n"
     ]
    },
    {
     "name": "stdout",
     "output_type": "stream",
     "text": [
      "Implemented early stopping with lowest_loss: 0.7916447361926351\n",
      "The performance at reg value:1.0000000000000004e-06 is 0.626631482350982\n",
      "Currently trying regularization :9.999999999999991e-05\n"
     ]
    },
    {
     "name": "stderr",
     "output_type": "stream",
     "text": [
      "Epoch: 1427:   0%|                                                                                                       | 1427/2000000 [00:30<11:45:28, 47.22it/s, lowest_loss=2.81, pred_loss=7.91, trigger=1300]\n"
     ]
    },
    {
     "name": "stdout",
     "output_type": "stream",
     "text": [
      "Implemented early stopping with lowest_loss: 2.8129737980671172\n"
     ]
    },
    {
     "name": "stderr",
     "output_type": "stream",
     "text": [
      "Epoch: 1431:   0%|                                                                                                       | 1431/2000000 [00:30<11:43:04, 47.38it/s, lowest_loss=2.81, pred_loss=7.91, trigger=1300]\n"
     ]
    },
    {
     "name": "stdout",
     "output_type": "stream",
     "text": [
      "Implemented early stopping with lowest_loss: 2.8129652030840373\n",
      "The performance at reg value:9.999999999999991e-05 is 7.912956041499851\n",
      "Currently trying regularization :0.010000000000000005\n"
     ]
    },
    {
     "name": "stderr",
     "output_type": "stream",
     "text": [
      "Epoch: 1303:   0%|                                                                                                       | 1303/2000000 [00:28<12:07:17, 45.80it/s, lowest_loss=4.92, pred_loss=26.3, trigger=1300]\n"
     ]
    },
    {
     "name": "stdout",
     "output_type": "stream",
     "text": [
      "Implemented early stopping with lowest_loss: 4.921220097247267\n"
     ]
    },
    {
     "name": "stderr",
     "output_type": "stream",
     "text": [
      "Epoch: 1303:   0%|                                                                                                       | 1303/2000000 [00:27<11:34:47, 47.94it/s, lowest_loss=4.93, pred_loss=26.3, trigger=1300]\n"
     ]
    },
    {
     "name": "stdout",
     "output_type": "stream",
     "text": [
      "Implemented early stopping with lowest_loss: 4.934584369206409\n",
      "The performance at reg value:0.010000000000000005 is 44.08384118161518\n",
      "Currently trying regularization :1.0\n"
     ]
    },
    {
     "name": "stderr",
     "output_type": "stream",
     "text": [
      "Epoch: 1331:   0%|                                                                                                       | 1331/2000000 [00:28<11:49:13, 46.97it/s, lowest_loss=5.31, pred_loss=28.3, trigger=1300]\n"
     ]
    },
    {
     "name": "stdout",
     "output_type": "stream",
     "text": [
      "Implemented early stopping with lowest_loss: 5.31466137352239\n"
     ]
    },
    {
     "name": "stderr",
     "output_type": "stream",
     "text": [
      "Epoch: 1320:   0%|                                                                                                       | 1320/2000000 [00:28<11:48:01, 47.05it/s, lowest_loss=5.31, pred_loss=28.3, trigger=1300]\n"
     ]
    },
    {
     "name": "stdout",
     "output_type": "stream",
     "text": [
      "Implemented early stopping with lowest_loss: 5.313713108249434\n",
      "The performance at reg value:1.0 is 28.29170896268404\n",
      "Currently trying regularization :100.00000000000004\n"
     ]
    },
    {
     "name": "stderr",
     "output_type": "stream",
     "text": [
      "Epoch: 1364:   0%|                                                                                                       | 1364/2000000 [00:28<11:42:40, 47.41it/s, lowest_loss=5.32, pred_loss=28.3, trigger=1300]\n"
     ]
    },
    {
     "name": "stdout",
     "output_type": "stream",
     "text": [
      "Implemented early stopping with lowest_loss: 5.319953270907256\n"
     ]
    },
    {
     "name": "stderr",
     "output_type": "stream",
     "text": [
      "Epoch: 1366:   0%|                                                                                                       | 1366/2000000 [00:28<11:39:12, 47.64it/s, lowest_loss=5.32, pred_loss=28.3, trigger=1300]\n"
     ]
    },
    {
     "name": "stdout",
     "output_type": "stream",
     "text": [
      "Implemented early stopping with lowest_loss: 5.320317196580742\n",
      "The performance at reg value:100.00000000000004 is 28.306427817260925\n",
      "The log_grid error is:\n",
      "[ 0.06921536  0.09762577  0.62663148  7.91295604 44.08384118 28.29170896\n",
      " 28.30642782]\n",
      "Init value is: 1.0000000000000031e-10\n",
      "Currently trying regularization :[1.e-10]\n"
     ]
    },
    {
     "name": "stderr",
     "output_type": "stream",
     "text": [
      "Epoch: 7524:   0%|▍                                                                                                   | 7524/2000000 [02:40<11:47:39, 46.93it/s, lowest_loss=0.263, pred_loss=0.0692, trigger=1300]\n"
     ]
    },
    {
     "name": "stdout",
     "output_type": "stream",
     "text": [
      "Implemented early stopping with lowest_loss: 0.26313056783407035\n"
     ]
    },
    {
     "name": "stderr",
     "output_type": "stream",
     "text": [
      "Epoch: 8479:   0%|▍                                                                                                   | 8479/2000000 [03:02<11:55:12, 46.41it/s, lowest_loss=0.261, pred_loss=0.0683, trigger=1300]\n"
     ]
    },
    {
     "name": "stdout",
     "output_type": "stream",
     "text": [
      "Implemented early stopping with lowest_loss: 0.2613652101518756\n",
      "The performance at reg value:[1.e-10] is 0.06876417836082992\n",
      "Currently trying regularization :[3.16227766e-11]\n"
     ]
    },
    {
     "name": "stderr",
     "output_type": "stream",
     "text": [
      "Epoch: 7700:   0%|▍                                                                                                   | 7700/2000000 [02:42<11:42:21, 47.28it/s, lowest_loss=0.261, pred_loss=0.0682, trigger=1300]\n"
     ]
    },
    {
     "name": "stdout",
     "output_type": "stream",
     "text": [
      "Implemented early stopping with lowest_loss: 0.2610742499167625\n"
     ]
    },
    {
     "name": "stderr",
     "output_type": "stream",
     "text": [
      "Epoch: 8219:   0%|▍                                                                                                    | 8219/2000000 [02:54<11:46:33, 46.98it/s, lowest_loss=0.26, pred_loss=0.0675, trigger=1300]\n"
     ]
    },
    {
     "name": "stdout",
     "output_type": "stream",
     "text": [
      "Implemented early stopping with lowest_loss: 0.2598831746943923\n",
      "The performance at reg value:[3.16227766e-11] is 0.06784744828925982\n",
      "Currently trying regularization :[1.e-11]\n"
     ]
    },
    {
     "name": "stderr",
     "output_type": "stream",
     "text": [
      "Epoch: 7543:   0%|▍                                                                                                    | 7543/2000000 [02:38<11:36:59, 47.64it/s, lowest_loss=0.26, pred_loss=0.0674, trigger=1300]\n"
     ]
    },
    {
     "name": "stdout",
     "output_type": "stream",
     "text": [
      "Implemented early stopping with lowest_loss: 0.2595775477670516\n"
     ]
    },
    {
     "name": "stderr",
     "output_type": "stream",
     "text": [
      "Epoch: 7613:   0%|▍                                                                                                    | 7613/2000000 [02:41<11:43:03, 47.23it/s, lowest_loss=0.26, pred_loss=0.0676, trigger=1300]\n"
     ]
    },
    {
     "name": "stdout",
     "output_type": "stream",
     "text": [
      "Implemented early stopping with lowest_loss: 0.26004792776302693\n",
      "The performance at reg value:[1.e-11] is 0.06749104950770941\n",
      "Currently trying regularization :[3.16227766e-12]\n"
     ]
    },
    {
     "name": "stderr",
     "output_type": "stream",
     "text": [
      "Epoch: 7775:   0%|▍                                                                                                    | 7775/2000000 [02:45<11:46:41, 46.98it/s, lowest_loss=0.26, pred_loss=0.0673, trigger=1300]\n"
     ]
    },
    {
     "name": "stdout",
     "output_type": "stream",
     "text": [
      "Implemented early stopping with lowest_loss: 0.2595081205331626\n"
     ]
    },
    {
     "name": "stderr",
     "output_type": "stream",
     "text": [
      "Epoch: 7903:   0%|▍                                                                                                    | 7903/2000000 [02:46<11:39:35, 47.46it/s, lowest_loss=0.259, pred_loss=0.067, trigger=1300]\n"
     ]
    },
    {
     "name": "stdout",
     "output_type": "stream",
     "text": [
      "Implemented early stopping with lowest_loss: 0.2588285283447921\n",
      "The performance at reg value:[3.16227766e-12] is 0.06713113979176788\n",
      "Optimal regularization value for Ridge, Feature:avedesc, target: lcdf is 3.1622776601683673e-12\n",
      "Currently training torch linear model with features :avedesc, target: lcdf, opt: Adam, lr:1\n"
     ]
    },
    {
     "name": "stderr",
     "output_type": "stream",
     "text": [
      "Epoch: 8777:   0%|▍                                                                                                    | 8777/2000000 [03:03<11:33:28, 47.86it/s, lowest_loss=0.26, pred_loss=0.0674, trigger=1300]\n"
     ]
    },
    {
     "name": "stdout",
     "output_type": "stream",
     "text": [
      "Implemented early stopping with lowest_loss: 0.259693736764835\n",
      "Currently trying regularization :1.0000000000000031e-10\n"
     ]
    },
    {
     "name": "stderr",
     "output_type": "stream",
     "text": [
      "Epoch: 14470:   1%|▋                                                                                                    | 14470/2000000 [06:59<15:59:05, 34.50it/s, lowest_loss=1.03, pred_loss=1.07, trigger=1300]\n"
     ]
    },
    {
     "name": "stdout",
     "output_type": "stream",
     "text": [
      "Implemented early stopping with lowest_loss: 1.0323749412330345\n"
     ]
    },
    {
     "name": "stderr",
     "output_type": "stream",
     "text": [
      "Epoch: 15136:   1%|▊                                                                                                    | 15136/2000000 [07:16<15:52:56, 34.71it/s, lowest_loss=1.04, pred_loss=1.07, trigger=1300]\n"
     ]
    },
    {
     "name": "stdout",
     "output_type": "stream",
     "text": [
      "Implemented early stopping with lowest_loss: 1.0360630693682327\n",
      "The performance at reg value:1.0000000000000031e-10 is 1.0696962740058524\n",
      "Currently trying regularization :1.0000000000000018e-08\n"
     ]
    },
    {
     "name": "stderr",
     "output_type": "stream",
     "text": [
      "Epoch: 14738:   1%|▋                                                                                                    | 14738/2000000 [07:05<15:55:34, 34.63it/s, lowest_loss=1.03, pred_loss=1.06, trigger=1300]\n"
     ]
    },
    {
     "name": "stdout",
     "output_type": "stream",
     "text": [
      "Implemented early stopping with lowest_loss: 1.0313800915046039\n"
     ]
    },
    {
     "name": "stderr",
     "output_type": "stream",
     "text": [
      "Epoch: 14691:   1%|▋                                                                                                    | 14691/2000000 [07:02<15:51:11, 34.79it/s, lowest_loss=1.03, pred_loss=1.07, trigger=1300]\n"
     ]
    },
    {
     "name": "stdout",
     "output_type": "stream",
     "text": [
      "Implemented early stopping with lowest_loss: 1.0339073721986913\n",
      "The performance at reg value:1.0000000000000018e-08 is 1.0664334097297163\n",
      "Currently trying regularization :1.0000000000000004e-06\n"
     ]
    },
    {
     "name": "stderr",
     "output_type": "stream",
     "text": [
      "Epoch: 14090:   1%|▋                                                                                                    | 14090/2000000 [06:43<15:48:06, 34.91it/s, lowest_loss=1.06, pred_loss=1.12, trigger=1300]\n"
     ]
    },
    {
     "name": "stdout",
     "output_type": "stream",
     "text": [
      "Implemented early stopping with lowest_loss: 1.0564800115482684\n"
     ]
    },
    {
     "name": "stderr",
     "output_type": "stream",
     "text": [
      "Epoch: 14385:   1%|▋                                                                                                     | 14385/2000000 [06:54<15:53:16, 34.72it/s, lowest_loss=1.05, pred_loss=1.1, trigger=1300]\n"
     ]
    },
    {
     "name": "stdout",
     "output_type": "stream",
     "text": [
      "Implemented early stopping with lowest_loss: 1.0484031740782251\n",
      "The performance at reg value:1.0000000000000004e-06 is 1.107719932462397\n",
      "Currently trying regularization :9.999999999999991e-05\n"
     ]
    },
    {
     "name": "stderr",
     "output_type": "stream",
     "text": [
      "Epoch: 6963:   0%|▎                                                                                                       | 6963/2000000 [03:18<15:46:02, 35.11it/s, lowest_loss=1.4, pred_loss=1.97, trigger=1300]\n"
     ]
    },
    {
     "name": "stdout",
     "output_type": "stream",
     "text": [
      "Implemented early stopping with lowest_loss: 1.404581611821883\n"
     ]
    },
    {
     "name": "stderr",
     "output_type": "stream",
     "text": [
      "Epoch: 5989:   0%|▎                                                                                                       | 5989/2000000 [02:50<15:45:51, 35.14it/s, lowest_loss=1.4, pred_loss=1.97, trigger=1300]\n"
     ]
    },
    {
     "name": "stdout",
     "output_type": "stream",
     "text": [
      "Implemented early stopping with lowest_loss: 1.4046827567806488\n",
      "The performance at reg value:9.999999999999991e-05 is 1.9730693431122956\n",
      "Currently trying regularization :0.010000000000000005\n"
     ]
    },
    {
     "name": "stderr",
     "output_type": "stream",
     "text": [
      "Epoch: 1370:   0%|                                                                                                       | 1370/2000000 [00:39<15:57:25, 34.79it/s, lowest_loss=3.89, pred_loss=15.2, trigger=1300]\n"
     ]
    },
    {
     "name": "stdout",
     "output_type": "stream",
     "text": [
      "Implemented early stopping with lowest_loss: 3.89457810063231\n"
     ]
    },
    {
     "name": "stderr",
     "output_type": "stream",
     "text": [
      "Epoch: 1370:   0%|                                                                                                        | 1370/2000000 [00:39<16:10:40, 34.32it/s, lowest_loss=3.9, pred_loss=15.2, trigger=1300]\n"
     ]
    },
    {
     "name": "stdout",
     "output_type": "stream",
     "text": [
      "Implemented early stopping with lowest_loss: 3.8966530513351754\n",
      "The performance at reg value:0.010000000000000005 is 15.177557375100138\n",
      "Currently trying regularization :1.0\n"
     ]
    },
    {
     "name": "stderr",
     "output_type": "stream",
     "text": [
      "Epoch: 1308:   0%|                                                                                                         | 1308/2000000 [00:37<15:52:56, 34.96it/s, lowest_loss=5.28, pred_loss=28, trigger=1300]\n"
     ]
    },
    {
     "name": "stdout",
     "output_type": "stream",
     "text": [
      "Implemented early stopping with lowest_loss: 5.276222209638129\n"
     ]
    },
    {
     "name": "stderr",
     "output_type": "stream",
     "text": [
      "Epoch: 1308:   0%|                                                                                                         | 1308/2000000 [00:37<15:57:34, 34.79it/s, lowest_loss=5.28, pred_loss=28, trigger=1300]\n"
     ]
    },
    {
     "name": "stdout",
     "output_type": "stream",
     "text": [
      "Implemented early stopping with lowest_loss: 5.27666258919315\n",
      "The performance at reg value:1.0 is 27.861685921890462\n",
      "Currently trying regularization :100.00000000000004\n"
     ]
    },
    {
     "name": "stderr",
     "output_type": "stream",
     "text": [
      "Epoch: 1352:   0%|                                                                                                       | 1352/2000000 [00:38<15:52:25, 34.97it/s, lowest_loss=5.32, pred_loss=28.3, trigger=1300]\n"
     ]
    },
    {
     "name": "stdout",
     "output_type": "stream",
     "text": [
      "Implemented early stopping with lowest_loss: 5.320066275733129\n"
     ]
    },
    {
     "name": "stderr",
     "output_type": "stream",
     "text": [
      "Epoch: 1383:   0%|                                                                                                       | 1383/2000000 [00:39<15:53:57, 34.92it/s, lowest_loss=5.32, pred_loss=28.3, trigger=1300]\n"
     ]
    },
    {
     "name": "stdout",
     "output_type": "stream",
     "text": [
      "Implemented early stopping with lowest_loss: 5.320071270709167\n",
      "The performance at reg value:100.00000000000004 is 28.304291586362652\n",
      "The log_grid error is:\n",
      "[ 1.06969627  1.06643341  1.10771993  1.97306934 15.17755738 27.86168592\n",
      " 28.30429159]\n",
      "Init value is: 1.0000000000000018e-08\n",
      "Currently trying regularization :[1.e-08]\n"
     ]
    },
    {
     "name": "stderr",
     "output_type": "stream",
     "text": [
      "Epoch: 15168:   1%|▊                                                                                                    | 15168/2000000 [07:11<15:41:55, 35.12it/s, lowest_loss=1.04, pred_loss=1.07, trigger=1300]\n"
     ]
    },
    {
     "name": "stdout",
     "output_type": "stream",
     "text": [
      "Implemented early stopping with lowest_loss: 1.0350121298788797\n"
     ]
    },
    {
     "name": "stderr",
     "output_type": "stream",
     "text": [
      "Epoch: 14682:   1%|▋                                                                                                    | 14682/2000000 [07:02<15:52:15, 34.75it/s, lowest_loss=1.03, pred_loss=1.07, trigger=1300]\n"
     ]
    },
    {
     "name": "stdout",
     "output_type": "stream",
     "text": [
      "Implemented early stopping with lowest_loss: 1.0341783284527275\n",
      "The performance at reg value:[1.e-08] is 1.070460608552903\n",
      "Currently trying regularization :[3.98107171e-09]\n"
     ]
    },
    {
     "name": "stderr",
     "output_type": "stream",
     "text": [
      "Epoch: 14606:   1%|▋                                                                                                    | 14606/2000000 [07:04<16:00:54, 34.44it/s, lowest_loss=1.03, pred_loss=1.07, trigger=1300]\n"
     ]
    },
    {
     "name": "stdout",
     "output_type": "stream",
     "text": [
      "Implemented early stopping with lowest_loss: 1.0344424625645023\n"
     ]
    },
    {
     "name": "stderr",
     "output_type": "stream",
     "text": [
      "Epoch: 14614:   1%|▋                                                                                                    | 14614/2000000 [06:57<15:45:42, 34.99it/s, lowest_loss=1.04, pred_loss=1.07, trigger=1300]\n"
     ]
    },
    {
     "name": "stdout",
     "output_type": "stream",
     "text": [
      "Implemented early stopping with lowest_loss: 1.0359839240284163\n",
      "The performance at reg value:[3.98107171e-09] is 1.0717305073676322\n",
      "Currently trying regularization :[2.51188643e-08]\n"
     ]
    },
    {
     "name": "stderr",
     "output_type": "stream",
     "text": [
      "Epoch: 14661:   1%|▋                                                                                                    | 14661/2000000 [07:02<15:52:48, 34.73it/s, lowest_loss=1.03, pred_loss=1.07, trigger=1300]\n"
     ]
    },
    {
     "name": "stdout",
     "output_type": "stream",
     "text": [
      "Implemented early stopping with lowest_loss: 1.0332915903001576\n"
     ]
    },
    {
     "name": "stderr",
     "output_type": "stream",
     "text": [
      "Epoch: 14751:   1%|▋                                                                                                    | 14751/2000000 [07:09<16:04:20, 34.31it/s, lowest_loss=1.03, pred_loss=1.07, trigger=1300]\n"
     ]
    },
    {
     "name": "stdout",
     "output_type": "stream",
     "text": [
      "Implemented early stopping with lowest_loss: 1.034385233681503\n",
      "The performance at reg value:[2.51188643e-08] is 1.0689111004487473\n",
      "Currently trying regularization :[6.30957344e-08]\n"
     ]
    },
    {
     "name": "stderr",
     "output_type": "stream",
     "text": [
      "Epoch: 14630:   1%|▋                                                                                                    | 14630/2000000 [07:02<15:54:56, 34.65it/s, lowest_loss=1.03, pred_loss=1.07, trigger=1300]\n"
     ]
    },
    {
     "name": "stdout",
     "output_type": "stream",
     "text": [
      "Implemented early stopping with lowest_loss: 1.033612076020491\n"
     ]
    },
    {
     "name": "stderr",
     "output_type": "stream",
     "text": [
      "Epoch: 14579:   1%|▋                                                                                                    | 14579/2000000 [06:58<15:49:58, 34.83it/s, lowest_loss=1.03, pred_loss=1.06, trigger=1300]\n"
     ]
    },
    {
     "name": "stdout",
     "output_type": "stream",
     "text": [
      "Implemented early stopping with lowest_loss: 1.0296956071502261\n",
      "The performance at reg value:[6.30957344e-08] is 1.0643871558180287\n",
      "Optimal regularization value for Ridge, Feature:avekerneldesc, target: lcdf is 6.309573444801918e-08\n",
      "Currently training torch linear model with features :avekerneldesc, target: lcdf, opt: Adam, lr:0.01\n"
     ]
    },
    {
     "name": "stderr",
     "output_type": "stream",
     "text": [
      "Epoch: 14693:   1%|▋                                                                                                    | 14693/2000000 [07:03<15:53:31, 34.70it/s, lowest_loss=1.04, pred_loss=1.07, trigger=1300]"
     ]
    },
    {
     "name": "stdout",
     "output_type": "stream",
     "text": [
      "Implemented early stopping with lowest_loss: 1.0366479699046682\n"
     ]
    },
    {
     "name": "stderr",
     "output_type": "stream",
     "text": [
      "\n"
     ]
    }
   ],
   "source": [
    "torch.manual_seed(0)\n",
    "TLReg_pw_soap.obtain_weights([1.0], train_index, None, 0.1, 2000000, loss.t_get_mse)\n",
    "torch.manual_seed(0)\n",
    "TLReg_pw_kernel.obtain_weights([1.0], train_index, None, 0.001, 2000000, loss.t_get_mse)\n",
    "torch.manual_seed(0)\n",
    "TLReg_lcdf_soap.obtain_weights([1.0], train_index, None, 1, 2000000, loss.t_get_mse)\n",
    "torch.manual_seed(0)\n",
    "TLReg_lcdf_kernel.obtain_weights([1.0], train_index, None, 0.01, 2000000, loss.t_get_mse)"
   ]
  },
  {
   "cell_type": "code",
   "execution_count": 70,
   "id": "79b35ed8",
   "metadata": {
    "ExecuteTime": {
     "end_time": "2023-01-26T16:06:01.418908Z",
     "start_time": "2023-01-26T16:05:58.792630Z"
    }
   },
   "outputs": [
    {
     "name": "stdout",
     "output_type": "stream",
     "text": [
      "The performance at reg value 9.999999999999996e-11 is 0.0470273564726883\n",
      "The performance at reg value 9.999999999999982e-09 is 0.03135393777242554\n",
      "The performance at reg value 1.0000000000000004e-06 is 0.020054425087597604\n",
      "The performance at reg value 0.00010000000000000009 is 0.016362072888277648\n",
      "The performance at reg value 0.010000000000000004 is 0.02395674318210591\n",
      "The performance at reg value 1.0 is 0.04281414485376572\n",
      "The performance at reg value 100.00000000000004 is 0.08142463483743637\n",
      "The log_grid error is:\n",
      "[0.04702736 0.03135394 0.02005443 0.01636207 0.02395674 0.04281414\n",
      " 0.08142463]\n",
      "Init value is: 0.00010000000000000009\n",
      "The performance at reg value 0.00010000000000000009 is 0.016362072888277648\n",
      "The performance at reg value 6.309573444801939e-05 is 0.016439094014605245\n",
      "The performance at reg value 0.00015848931924611147 is 0.016417027215670447\n",
      "The performance at reg value 0.00012589254117941672 is 0.01637212888920042\n",
      "Optimal regularization value for Ridge, Feature:avedesc, target: pw, train_ratio: 1.0 is 0.00010000000000000009\n",
      "The performance at reg value 9.999999999999996e-11 is 0.1096621962654267\n",
      "The performance at reg value 9.999999999999982e-09 is 0.061763607982083565\n",
      "The performance at reg value 1.0000000000000004e-06 is 0.03128935071380948\n",
      "The performance at reg value 0.00010000000000000009 is 0.02306864171375883\n",
      "The performance at reg value 0.010000000000000004 is 0.02720018416224277\n",
      "The performance at reg value 1.0 is 0.04677009491029993\n",
      "The performance at reg value 100.00000000000004 is 0.08561635270714567\n",
      "The log_grid error is:\n",
      "[0.1096622  0.06176361 0.03128935 0.02306864 0.02720018 0.04677009\n",
      " 0.08561635]\n",
      "Init value is: 0.00010000000000000009\n",
      "The performance at reg value 0.00010000000000000009 is 0.02306864171375883\n",
      "The performance at reg value 6.309573444801939e-05 is 0.02333003855656592\n",
      "The performance at reg value 0.00015848931924611147 is 0.022829925565568843\n",
      "The performance at reg value 0.00025118864315095774 is 0.02258992466219104\n",
      "Optimal regularization value for Ridge, Feature:avedesc, target: pw, train_ratio: 0.5 is 0.00025118864315095774\n"
     ]
    }
   ],
   "source": [
    "Ridge_pw = models.RidgeRegression(Silicon.Features['structure_avedescriptors'], \"avedesc\", y_pw, \"pw\", xdos)\n",
    "Ridge_pw.obtain_weights([1.0,0.5], train_index)\n",
    "Ridge_pw.get_DosRMSE(evaluator, train_index, test_index)\n",
    "Ridge_pw.get_targetRMSE(evaluator, train_index, test_index)\n"
   ]
  },
  {
   "cell_type": "code",
   "execution_count": 58,
   "id": "aa4142ef",
   "metadata": {
    "ExecuteTime": {
     "end_time": "2023-01-27T17:33:46.746468Z",
     "start_time": "2023-01-27T17:33:45.264591Z"
    }
   },
   "outputs": [],
   "source": [
    "TLReg_pw_soap.get_DosRMSE(evaluator, train_index, test_index) \n",
    "TLReg_pw_kernel.get_DosRMSE(evaluator, train_index, test_index) \n",
    "TLReg_lcdf_soap.get_DosRMSE(evaluator, train_index, test_index) \n",
    "TLReg_lcdf_kernel.get_DosRMSE(evaluator, train_index, test_index)\n",
    "TLReg_pw_soap.get_targetRMSE(evaluator, train_index, test_index) \n",
    "TLReg_pw_kernel.get_targetRMSE(evaluator, train_index, test_index) \n",
    "TLReg_lcdf_soap.get_targetRMSE(evaluator, train_index, test_index) \n",
    "TLReg_lcdf_kernel.get_targetRMSE(evaluator, train_index, test_index)"
   ]
  },
  {
   "cell_type": "code",
   "execution_count": 59,
   "id": "bf1d7cce",
   "metadata": {
    "ExecuteTime": {
     "end_time": "2023-01-27T17:35:49.586088Z",
     "start_time": "2023-01-27T17:35:49.581376Z"
    }
   },
   "outputs": [
    {
     "name": "stdout",
     "output_type": "stream",
     "text": [
      "soap pw\n",
      "tensor(3.1623e-12)\n",
      "{1.0: array([13.67663314, 13.834722  , 13.7035479 ,  0.07584956,  0.0803414 ,\n",
      "        0.07674879])}\n",
      "{1.0: array([13.67663314, 13.834722  , 13.7035479 ,  0.07584956,  0.0803414 ,\n",
      "        0.07674879])}\n"
     ]
    }
   ],
   "source": [
    "print (\"soap pw\")\n",
    "print (TLReg_pw_soap.models[1.0].reg)\n",
    "print (TLReg_pw_soap.DOSrmse)\n",
    "print (TLReg_pw_soap.targetrmse)"
   ]
  },
  {
   "cell_type": "code",
   "execution_count": 60,
   "id": "4bf9b9ac",
   "metadata": {
    "ExecuteTime": {
     "end_time": "2023-01-27T17:36:17.551807Z",
     "start_time": "2023-01-27T17:36:17.547464Z"
    }
   },
   "outputs": [
    {
     "name": "stdout",
     "output_type": "stream",
     "text": [
      "soap lcdf\n",
      "tensor(3.1623e-12)\n",
      "{1.0: array([15.62364639, 15.66332171, 15.62514124,  0.08664754,  0.0909605 ,\n",
      "        0.08751096])}\n",
      "{1.0: array([3.8455992 , 3.77437849, 3.82975315, 1.12077482, 1.13837139,\n",
      "       1.12429752])}\n"
     ]
    }
   ],
   "source": [
    "print (\"soap lcdf\")\n",
    "print (TLReg_lcdf_soap.models[1.0].reg)\n",
    "print (TLReg_lcdf_soap.DOSrmse)\n",
    "print (TLReg_lcdf_soap.targetrmse) "
   ]
  },
  {
   "cell_type": "code",
   "execution_count": 61,
   "id": "6518d09e",
   "metadata": {
    "ExecuteTime": {
     "end_time": "2023-01-27T17:35:35.505107Z",
     "start_time": "2023-01-27T17:35:35.497982Z"
    }
   },
   "outputs": [
    {
     "name": "stdout",
     "output_type": "stream",
     "text": [
      "kernel pw \n",
      "tensor(6.3096e-10)\n",
      "{1.0: array([42.99324575, 42.21080844, 42.81228073,  0.23843724,  0.24512784,\n",
      "        0.23977665])}\n",
      "{1.0: array([42.99324575, 42.21080844, 42.81228073,  0.23843724,  0.24512784,\n",
      "        0.23977665])}\n"
     ]
    }
   ],
   "source": [
    "print (\"kernel pw \")\n",
    "print (TLReg_pw_kernel.models[1.0].reg)\n",
    "print (TLReg_pw_kernel.DOSrmse)\n",
    "print (TLReg_pw_kernel.targetrmse)"
   ]
  },
  {
   "cell_type": "code",
   "execution_count": 62,
   "id": "be870eed",
   "metadata": {
    "ExecuteTime": {
     "end_time": "2023-01-27T17:36:48.786470Z",
     "start_time": "2023-01-27T17:36:48.778281Z"
    }
   },
   "outputs": [
    {
     "name": "stdout",
     "output_type": "stream",
     "text": [
      "kernel lcdf \n",
      "tensor(6.3096e-08)\n",
      "{1.0: array([38.80565144, 37.57889253, 38.53426242,  0.21521316,  0.21822925,\n",
      "        0.21581696])}\n",
      "{1.0: array([17.80732676, 16.09720864, 17.45005574,  5.18982932,  4.85499845,\n",
      "        5.12279869])}\n"
     ]
    }
   ],
   "source": [
    "print (\"kernel lcdf \")\n",
    "print (TLReg_lcdf_kernel.models[1.0].reg)\n",
    "print (TLReg_lcdf_kernel.DOSrmse)\n",
    "print (TLReg_lcdf_kernel.targetrmse)"
   ]
  },
  {
   "cell_type": "code",
   "execution_count": null,
   "id": "563a737b",
   "metadata": {},
   "outputs": [],
   "source": []
  },
  {
   "cell_type": "markdown",
   "id": "1ebfb2bd",
   "metadata": {},
   "source": [
    "Multiplying loss by col A : Train error col B\n",
    "1e0 = 16.188\n",
    "1e3 = 11.73\n",
    "1e5 = 11.79\n",
    "1e7 = 11.41\n",
    "1e10 = 11.66\n",
    "1e20 = 11.27\n",
    "1e90 = 11.29"
   ]
  },
  {
   "cell_type": "code",
   "execution_count": 229,
   "id": "2cb6ab8a",
   "metadata": {
    "ExecuteTime": {
     "end_time": "2023-01-27T12:17:19.324624Z",
     "start_time": "2023-01-27T12:17:19.319001Z"
    }
   },
   "outputs": [
    {
     "data": {
      "text/plain": [
       "{1.0: array([11.41705718, 12.11622485, 11.5572621 ,  0.06331812,  0.0703617 ,\n",
       "         0.06472819])}"
      ]
     },
     "execution_count": 229,
     "metadata": {},
     "output_type": "execute_result"
    }
   ],
   "source": []
  },
  {
   "cell_type": "code",
   "execution_count": 28,
   "id": "6604fc00",
   "metadata": {
    "ExecuteTime": {
     "end_time": "2023-01-26T15:19:06.587911Z",
     "start_time": "2023-01-26T15:19:05.572484Z"
    },
    "scrolled": true
   },
   "outputs": [
    {
     "ename": "RuntimeError",
     "evalue": "mat1 and mat2 shapes cannot be multiplied (1039x448 and 1000x778)",
     "output_type": "error",
     "traceback": [
      "\u001b[0;31m---------------------------------------------------------------------------\u001b[0m",
      "\u001b[0;31mRuntimeError\u001b[0m                              Traceback (most recent call last)",
      "Input \u001b[0;32mIn [28]\u001b[0m, in \u001b[0;36m<cell line: 1>\u001b[0;34m()\u001b[0m\n\u001b[1;32m      2\u001b[0m GPR_pred \u001b[38;5;241m=\u001b[39m Silicon\u001b[38;5;241m.\u001b[39mFeatures[\u001b[38;5;124m'\u001b[39m\u001b[38;5;124mstructure_avekerneldescriptors\u001b[39m\u001b[38;5;124m'\u001b[39m] \u001b[38;5;241m@\u001b[39m GPR_pw\u001b[38;5;241m.\u001b[39mweights[\u001b[38;5;241m1.0\u001b[39m]\n\u001b[1;32m      3\u001b[0m Ridge_pred \u001b[38;5;241m=\u001b[39m Ridge_pw\u001b[38;5;241m.\u001b[39mmodels[\u001b[38;5;241m1.0\u001b[39m]\u001b[38;5;241m.\u001b[39mpredict(Silicon\u001b[38;5;241m.\u001b[39mFeatures[\u001b[38;5;124m'\u001b[39m\u001b[38;5;124mstructure_avekerneldescriptors\u001b[39m\u001b[38;5;124m'\u001b[39m])\n\u001b[0;32m----> 4\u001b[0m torch_pred \u001b[38;5;241m=\u001b[39m \u001b[43mTLReg\u001b[49m\u001b[38;5;241;43m.\u001b[39;49m\u001b[43mmodels\u001b[49m\u001b[43m[\u001b[49m\u001b[38;5;241;43m1.0\u001b[39;49m\u001b[43m]\u001b[49m\u001b[43m(\u001b[49m\u001b[43mSilicon\u001b[49m\u001b[38;5;241;43m.\u001b[39;49m\u001b[43mFeatures\u001b[49m\u001b[43m[\u001b[49m\u001b[38;5;124;43m'\u001b[39;49m\u001b[38;5;124;43mstructure_avedescriptors\u001b[39;49m\u001b[38;5;124;43m'\u001b[39;49m\u001b[43m]\u001b[49m\u001b[38;5;241;43m.\u001b[39;49m\u001b[43mdouble\u001b[49m\u001b[43m(\u001b[49m\u001b[43m)\u001b[49m\u001b[43m)\u001b[49m\n",
      "File \u001b[0;32m~/anaconda3/envs/rascaline/lib/python3.10/site-packages/torch/nn/modules/module.py:1130\u001b[0m, in \u001b[0;36mModule._call_impl\u001b[0;34m(self, *input, **kwargs)\u001b[0m\n\u001b[1;32m   1126\u001b[0m \u001b[38;5;66;03m# If we don't have any hooks, we want to skip the rest of the logic in\u001b[39;00m\n\u001b[1;32m   1127\u001b[0m \u001b[38;5;66;03m# this function, and just call forward.\u001b[39;00m\n\u001b[1;32m   1128\u001b[0m \u001b[38;5;28;01mif\u001b[39;00m \u001b[38;5;129;01mnot\u001b[39;00m (\u001b[38;5;28mself\u001b[39m\u001b[38;5;241m.\u001b[39m_backward_hooks \u001b[38;5;129;01mor\u001b[39;00m \u001b[38;5;28mself\u001b[39m\u001b[38;5;241m.\u001b[39m_forward_hooks \u001b[38;5;129;01mor\u001b[39;00m \u001b[38;5;28mself\u001b[39m\u001b[38;5;241m.\u001b[39m_forward_pre_hooks \u001b[38;5;129;01mor\u001b[39;00m _global_backward_hooks\n\u001b[1;32m   1129\u001b[0m         \u001b[38;5;129;01mor\u001b[39;00m _global_forward_hooks \u001b[38;5;129;01mor\u001b[39;00m _global_forward_pre_hooks):\n\u001b[0;32m-> 1130\u001b[0m     \u001b[38;5;28;01mreturn\u001b[39;00m \u001b[43mforward_call\u001b[49m\u001b[43m(\u001b[49m\u001b[38;5;241;43m*\u001b[39;49m\u001b[38;5;28;43minput\u001b[39;49m\u001b[43m,\u001b[49m\u001b[43m \u001b[49m\u001b[38;5;241;43m*\u001b[39;49m\u001b[38;5;241;43m*\u001b[39;49m\u001b[43mkwargs\u001b[49m\u001b[43m)\u001b[49m\n\u001b[1;32m   1131\u001b[0m \u001b[38;5;66;03m# Do not call functions when jit is used\u001b[39;00m\n\u001b[1;32m   1132\u001b[0m full_backward_hooks, non_full_backward_hooks \u001b[38;5;241m=\u001b[39m [], []\n",
      "File \u001b[0;32m/scratch/how/dostools/src/models/architectures.py:38\u001b[0m, in \u001b[0;36mLinearModel.forward\u001b[0;34m(self, x)\u001b[0m\n\u001b[1;32m     28\u001b[0m \u001b[38;5;28;01mdef\u001b[39;00m \u001b[38;5;21mforward\u001b[39m(\u001b[38;5;28mself\u001b[39m, x):\n\u001b[1;32m     29\u001b[0m     \u001b[38;5;124;03m\"\"\"\u001b[39;00m\n\u001b[1;32m     30\u001b[0m \u001b[38;5;124;03m    Performs the transformations to the features based on the model\u001b[39;00m\n\u001b[1;32m     31\u001b[0m \u001b[38;5;124;03m    \u001b[39;00m\n\u001b[0;32m   (...)\u001b[0m\n\u001b[1;32m     36\u001b[0m \u001b[38;5;124;03m        tensor: output\u001b[39;00m\n\u001b[1;32m     37\u001b[0m \u001b[38;5;124;03m    \"\"\"\u001b[39;00m\n\u001b[0;32m---> 38\u001b[0m     out \u001b[38;5;241m=\u001b[39m \u001b[38;5;28;43mself\u001b[39;49m\u001b[38;5;241;43m.\u001b[39;49m\u001b[43mlinear\u001b[49m\u001b[43m(\u001b[49m\u001b[43mx\u001b[49m\u001b[43m)\u001b[49m\n\u001b[1;32m     39\u001b[0m     \u001b[38;5;28;01mreturn\u001b[39;00m out\n",
      "File \u001b[0;32m~/anaconda3/envs/rascaline/lib/python3.10/site-packages/torch/nn/modules/module.py:1130\u001b[0m, in \u001b[0;36mModule._call_impl\u001b[0;34m(self, *input, **kwargs)\u001b[0m\n\u001b[1;32m   1126\u001b[0m \u001b[38;5;66;03m# If we don't have any hooks, we want to skip the rest of the logic in\u001b[39;00m\n\u001b[1;32m   1127\u001b[0m \u001b[38;5;66;03m# this function, and just call forward.\u001b[39;00m\n\u001b[1;32m   1128\u001b[0m \u001b[38;5;28;01mif\u001b[39;00m \u001b[38;5;129;01mnot\u001b[39;00m (\u001b[38;5;28mself\u001b[39m\u001b[38;5;241m.\u001b[39m_backward_hooks \u001b[38;5;129;01mor\u001b[39;00m \u001b[38;5;28mself\u001b[39m\u001b[38;5;241m.\u001b[39m_forward_hooks \u001b[38;5;129;01mor\u001b[39;00m \u001b[38;5;28mself\u001b[39m\u001b[38;5;241m.\u001b[39m_forward_pre_hooks \u001b[38;5;129;01mor\u001b[39;00m _global_backward_hooks\n\u001b[1;32m   1129\u001b[0m         \u001b[38;5;129;01mor\u001b[39;00m _global_forward_hooks \u001b[38;5;129;01mor\u001b[39;00m _global_forward_pre_hooks):\n\u001b[0;32m-> 1130\u001b[0m     \u001b[38;5;28;01mreturn\u001b[39;00m \u001b[43mforward_call\u001b[49m\u001b[43m(\u001b[49m\u001b[38;5;241;43m*\u001b[39;49m\u001b[38;5;28;43minput\u001b[39;49m\u001b[43m,\u001b[49m\u001b[43m \u001b[49m\u001b[38;5;241;43m*\u001b[39;49m\u001b[38;5;241;43m*\u001b[39;49m\u001b[43mkwargs\u001b[49m\u001b[43m)\u001b[49m\n\u001b[1;32m   1131\u001b[0m \u001b[38;5;66;03m# Do not call functions when jit is used\u001b[39;00m\n\u001b[1;32m   1132\u001b[0m full_backward_hooks, non_full_backward_hooks \u001b[38;5;241m=\u001b[39m [], []\n",
      "File \u001b[0;32m~/anaconda3/envs/rascaline/lib/python3.10/site-packages/torch/nn/modules/linear.py:114\u001b[0m, in \u001b[0;36mLinear.forward\u001b[0;34m(self, input)\u001b[0m\n\u001b[1;32m    113\u001b[0m \u001b[38;5;28;01mdef\u001b[39;00m \u001b[38;5;21mforward\u001b[39m(\u001b[38;5;28mself\u001b[39m, \u001b[38;5;28minput\u001b[39m: Tensor) \u001b[38;5;241m-\u001b[39m\u001b[38;5;241m>\u001b[39m Tensor:\n\u001b[0;32m--> 114\u001b[0m     \u001b[38;5;28;01mreturn\u001b[39;00m \u001b[43mF\u001b[49m\u001b[38;5;241;43m.\u001b[39;49m\u001b[43mlinear\u001b[49m\u001b[43m(\u001b[49m\u001b[38;5;28;43minput\u001b[39;49m\u001b[43m,\u001b[49m\u001b[43m \u001b[49m\u001b[38;5;28;43mself\u001b[39;49m\u001b[38;5;241;43m.\u001b[39;49m\u001b[43mweight\u001b[49m\u001b[43m,\u001b[49m\u001b[43m \u001b[49m\u001b[38;5;28;43mself\u001b[39;49m\u001b[38;5;241;43m.\u001b[39;49m\u001b[43mbias\u001b[49m\u001b[43m)\u001b[49m\n",
      "\u001b[0;31mRuntimeError\u001b[0m: mat1 and mat2 shapes cannot be multiplied (1039x448 and 1000x778)"
     ]
    }
   ],
   "source": [
    "with torch.no_grad():\n",
    "    GPR_pred = Silicon.Features['structure_avekerneldescriptors'] @ GPR_pw.weights[1.0]\n",
    "    Ridge_pred = Ridge_pw.models[1.0].predict(Silicon.Features['structure_avekerneldescriptors'])\n",
    "    torch_pred = TLReg.models[1.0](Silicon.Features['structure_avedescriptors'].double())"
   ]
  },
  {
   "cell_type": "code",
   "execution_count": null,
   "id": "5f3193b2",
   "metadata": {
    "ExecuteTime": {
     "end_time": "2023-01-26T15:19:06.590024Z",
     "start_time": "2023-01-26T15:19:06.590012Z"
    }
   },
   "outputs": [],
   "source": [
    "plt.plot(xdos, GPR_pred[369], color = 'r', label = \"GPR_pred\")\n",
    "plt.plot(xdos, Ridge_pred[369], color = 'g', label = \"Ridge_pred\")\n",
    "plt.plot(xdos, torch_pred[369], color = 'c', label = \"Torch_pred\")\n",
    "plt.plot(xdos, y_pw[369], color = 'b', label = 'true')\n",
    "plt.legend()\n",
    "\n"
   ]
  },
  {
   "cell_type": "code",
   "execution_count": null,
   "id": "7a400e30",
   "metadata": {},
   "outputs": [],
   "source": []
  }
 ],
 "metadata": {
  "kernelspec": {
   "display_name": "Python 3 (ipykernel)",
   "language": "python",
   "name": "python3"
  },
  "language_info": {
   "codemirror_mode": {
    "name": "ipython",
    "version": 3
   },
   "file_extension": ".py",
   "mimetype": "text/x-python",
   "name": "python",
   "nbconvert_exporter": "python",
   "pygments_lexer": "ipython3",
   "version": "3.9.12"
  },
  "toc": {
   "base_numbering": 1,
   "nav_menu": {},
   "number_sections": true,
   "sideBar": true,
   "skip_h1_title": false,
   "title_cell": "Table of Contents",
   "title_sidebar": "Contents",
   "toc_cell": false,
   "toc_position": {
    "height": "calc(100% - 180px)",
    "left": "10px",
    "top": "150px",
    "width": "165px"
   },
   "toc_section_display": true,
   "toc_window_display": true
  }
 },
 "nbformat": 4,
 "nbformat_minor": 5
}
