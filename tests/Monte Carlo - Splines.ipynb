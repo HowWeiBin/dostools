{
 "cells": [
  {
   "cell_type": "code",
   "execution_count": 63,
   "id": "414f85d8",
   "metadata": {
    "ExecuteTime": {
     "end_time": "2023-04-13T13:36:11.311880Z",
     "start_time": "2023-04-13T13:36:11.305703Z"
    }
   },
   "outputs": [],
   "source": [
    "import dostools\n",
    "import importlib\n",
    "import numpy as np\n",
    "import pickle\n",
    "import torch\n",
    "import sys\n",
    "import matplotlib.pyplot as plt\n",
    "import copy\n",
    "from tqdm import tqdm\n",
    "import matplotlib\n",
    "import time\n",
    "torch.set_default_dtype(torch.float64) "
   ]
  },
  {
   "cell_type": "markdown",
   "id": "9c851af0",
   "metadata": {},
   "source": [
    "## Data Loading"
   ]
  },
  {
   "cell_type": "code",
   "execution_count": 64,
   "id": "3c34c2b0",
   "metadata": {
    "ExecuteTime": {
     "end_time": "2023-04-13T13:36:15.362551Z",
     "start_time": "2023-04-13T13:36:13.885897Z"
    }
   },
   "outputs": [
    {
     "name": "stdout",
     "output_type": "stream",
     "text": [
      "ldos shape is torch.Size([1039, 778])\n",
      "mean dos shape is torch.Size([778])\n"
     ]
    }
   ],
   "source": [
    "import dostools.datasets.data as data\n",
    "import dostools.utils.utils as utils\n",
    "importlib.reload(data)\n",
    "\n",
    "n_structures = 1039\n",
    "np.random.seed(0)\n",
    "n_train = int(0.8 * n_structures)\n",
    "train_index = np.arange(n_structures)\n",
    "np.random.shuffle(train_index)\n",
    "test_index = train_index[n_train:]\n",
    "train_index = train_index[:n_train]\n",
    "\n",
    "with torch.no_grad():\n",
    "    structures = data.load_structures(\":\")\n",
    "    n_structures = len(structures) #total number of structures\n",
    "    for structure in structures:#implement periodicity\n",
    "        structure.wrap(eps = 1e-12) \n",
    "    n_atoms = np.zeros(n_structures, dtype = int) #stores number of atoms in each structures\n",
    "    for i in range(n_structures):\n",
    "        n_atoms[i] = len(structures[i])\n",
    "\n",
    "    #eigenergies, emin, emax = dostools.src.datasets.data.load_eigenenergies(unpack = True, n_structures = len(structures))\n",
    "    xdos = torch.tensor(data.load_xdos())\n",
    "    ldos = torch.tensor(data.load_ldos())\n",
    "    ldos *= 2\n",
    "\n",
    "    print (\"ldos shape is {}\".format(ldos.shape))\n",
    "    mean_dos_per_atom = ldos[train_index].mean(axis = 0) #only calculated for train set to prevent data leakage\n",
    "    print (\"mean dos shape is {}\".format(mean_dos_per_atom.shape))\n",
    "    \n",
    "    \n",
    "#     y_pw = ldos - mean_dos_per_atom\n",
    "#     y_lcdf = torch.cumsum(y_pw, dim = 1)\n",
    "#     _, pc_vectors = utils.build_pc(ldos[train_index], mean_dos_per_atom[None,:], n_pc = 10)\n",
    "#     y_pc = utils.build_coeffs(ldos - mean_dos_per_atom[None,:], pc_vectors)\n",
    "#     Silicon = data.load_features()\n",
    "#     kMM = data.load_kMM()\n",
    "#     structure_eigvals_t, structure_coefficients_t, reconstructed_ldos_t = data.load_structure_gaussians()\n"
   ]
  },
  {
   "cell_type": "code",
   "execution_count": 65,
   "id": "b4c0fbae",
   "metadata": {
    "ExecuteTime": {
     "end_time": "2023-04-13T13:36:15.370241Z",
     "start_time": "2023-04-13T13:36:15.367667Z"
    }
   },
   "outputs": [],
   "source": [
    "# sigma = 0.3\n",
    "# dx = 0.05\n",
    "# eigen_energies, emin, emax = data.load_eigenenergies(unpack = True, n_structures = 1039)\n",
    "# full_eigen_energies = [torch.tensor(i.flatten()) for i in eigen_energies]\n",
    "# eigenenergy_length = [len(i) for i in full_eigen_energies]\n",
    "# eigenenergy_length_t = torch.tensor(eigenenergy_length)\n",
    "# n_atoms_t = torch.tensor(n_atoms)\n",
    "# normalization_eiglength = [len(i) for i in eigen_energies]\n",
    "# normalization_eiglength_t = torch.tensor(normalization_eiglength)\n",
    "# normalization = 1/torch.sqrt(2*torch.tensor(np.pi)*sigma**2)/n_atoms_t/normalization_eiglength_t\n",
    "# normalization_quartic = 1/n_atoms/normalization_eiglength_t"
   ]
  },
  {
   "cell_type": "code",
   "execution_count": 66,
   "id": "b759b653",
   "metadata": {
    "ExecuteTime": {
     "end_time": "2023-04-13T13:36:16.079929Z",
     "start_time": "2023-04-13T13:36:15.371926Z"
    }
   },
   "outputs": [],
   "source": [
    "#Try for full ldos and shifted ldos for splines\n",
    "emin = -24.553719539983\n",
    "max_efermi = -4.3758\n",
    "# emax = 11.346414696331\n",
    "Total_splines = torch.load(\"./Splines_dataset3.pt\").float()\n",
    "# lower_bound = torch.round(torch.tensor(emin-1.5).float(), decimals = 3)\n",
    "# upper_bound = torch.round(torch.tensor(max_efermi+3).float(), decimals = 3)\n",
    "# n_points = ((upper_bound - lower_bound)/0.001).long()\n",
    "# xaxis = torch.linspace(lower_bound,upper_bound,n_points).float()\n",
    "lower_bound = -24.553719539983-3\n",
    "upper_bound = -4.3758+3\n",
    "xaxis = torch.arange(lower_bound,upper_bound,0.001)\n",
    "import dostools.datasets.data as data\n",
    "xdos = torch.tensor(data.load_xdos())"
   ]
  },
  {
   "cell_type": "code",
   "execution_count": 67,
   "id": "d1b8c694",
   "metadata": {
    "ExecuteTime": {
     "end_time": "2023-04-13T13:36:16.088051Z",
     "start_time": "2023-04-13T13:36:16.082136Z"
    }
   },
   "outputs": [],
   "source": [
    "def manual_call2(spline_coefs, spline_positions, x):\n",
    "    \"\"\"\n",
    "    spline_coefs: shape of (n x 4 x spline_positions)\n",
    "    \n",
    "    return value: shape of (n x x)\n",
    "    \"\"\"\n",
    "    interval = torch.round(spline_positions[1] - spline_positions[0], decimals = 4)\n",
    "    indexes = torch.floor((x - spline_positions[0])/interval).long()\n",
    "    expanded_index = indexes.unsqueeze(dim=1).expand(-1,4,-1)\n",
    "    x_1 = x - spline_positions[indexes]\n",
    "    x_2 = x_1 * x_1\n",
    "    x_3 = x_2 * x_1\n",
    "    x_0 = torch.ones_like(x_1)\n",
    "    x_powers = torch.stack([x_3, x_2, x_1, x_0]).permute(1,0,2)\n",
    "    value = torch.sum(torch.mul(x_powers, torch.gather(spline_coefs, 2, expanded_index)), axis = 1) \n",
    "    \n",
    "    \n",
    "    return value"
   ]
  },
  {
   "cell_type": "code",
   "execution_count": 68,
   "id": "3b97c5ca",
   "metadata": {
    "ExecuteTime": {
     "end_time": "2023-04-13T13:36:53.834083Z",
     "start_time": "2023-04-13T13:36:16.275889Z"
    }
   },
   "outputs": [
    {
     "data": {
      "application/vnd.jupyter.widget-view+json": {
       "model_id": "2164310bfada45419a499a0e1edbaae3",
       "version_major": 2,
       "version_minor": 0
      },
      "text/plain": [
       "  0%|          | 0/199 [00:00<?, ?it/s]"
      ]
     },
     "metadata": {},
     "output_type": "display_data"
    }
   ],
   "source": [
    "import rascaline\n",
    "from skcosmo.feature_selection import FPS\n",
    "import scipy\n",
    "\n",
    "HYPER_PARAMETERS = {\n",
    "    \"cutoff\": 4.0,#6.0,#4.0,\n",
    "    \"max_radial\": 8,#12,#8,\n",
    "    \"max_angular\": 6,#9,#6,\n",
    "    \"atomic_gaussian_width\": 0.45,\n",
    "    \"center_atom_weight\": 1.0,\n",
    "    \"radial_basis\":{\n",
    "        \"Gto\":{}\n",
    "    },\n",
    "    \"cutoff_function\":{\n",
    "        \"Step\":{}, #maybe \n",
    "    },\n",
    "    \"radial_scaling\":{\n",
    "        \"Willatt2018\":{\n",
    "        'exponent': 5,\n",
    "        'rate' : 1,\n",
    "        'scale' : 3.,\n",
    "        },\n",
    "    },\n",
    "}\n",
    "\n",
    "calculator = rascaline.SoapPowerSpectrum(**HYPER_PARAMETERS)\n",
    "descriptors = calculator.compute(structures)\n",
    "descriptors.keys_to_samples(\"species_center\")\n",
    "descriptors.keys_to_properties([\"species_neighbor_1\", \"species_neighbor_2\"])\n",
    "\n",
    "\n",
    "\n",
    "n_refs = 200\n",
    "n_atoms = descriptors.block(0).values.shape[0]\n",
    "n_structures = np.unique(descriptors.block(0).samples[\"structure\"])\n",
    "feature = torch.zeros(len(n_structures), n_refs)\n",
    "atom_descriptors = torch.tensor(descriptors.block(0).values)\n",
    "atom_descriptors = torch.nn.functional.normalize(atom_descriptors, dim = 1)\n",
    "selector = FPS(n_to_select = n_refs,\n",
    "           progress_bar = True,\n",
    "           score_threshold = 1e-12,\n",
    "           full = False,\n",
    "           initialize = 0\n",
    "          )\n",
    "selector.fit(atom_descriptors.T)\n",
    "references = selector.transform(atom_descriptors.T).T\n",
    "atomkernel_descriptors = torch.pow(atom_descriptors @ references.T, 2)\n",
    "for structure_i in n_structures:\n",
    "    a_i = descriptors.block(0).samples[\"structure\"] == structure_i\n",
    "    feature[structure_i, :] = torch.sum(atomkernel_descriptors[a_i, :], axis = 0)/np.sum(a_i)\n",
    "\n",
    "kMM = references @ references.T\n",
    "rtkMM = scipy.linalg.sqrtm(kMM)"
   ]
  },
  {
   "cell_type": "code",
   "execution_count": 69,
   "id": "aec8d792",
   "metadata": {
    "ExecuteTime": {
     "end_time": "2023-04-13T13:36:53.840155Z",
     "start_time": "2023-04-13T13:36:53.837031Z"
    }
   },
   "outputs": [],
   "source": [
    "pred_xdos = torch.arange(lower_bound+1.5, upper_bound - 1, 0.05)"
   ]
  },
  {
   "cell_type": "markdown",
   "id": "d979d382",
   "metadata": {},
   "source": [
    "## Unbiased Index"
   ]
  },
  {
   "cell_type": "code",
   "execution_count": 131,
   "id": "aeab6b01",
   "metadata": {
    "ExecuteTime": {
     "end_time": "2023-04-13T14:35:51.462604Z",
     "start_time": "2023-04-13T14:35:51.338987Z"
    }
   },
   "outputs": [
    {
     "name": "stdout",
     "output_type": "stream",
     "text": [
      "Reference training loss: 10.5108\n",
      "Reference test loss : 11.9648\n"
     ]
    }
   ],
   "source": [
    "from dostools.loss import loss\n",
    "#normal dataset\n",
    "\n",
    "\n",
    "index = train_index\n",
    "t_index = test_index\n",
    "\n",
    "\n",
    "\n",
    "Features = torch.hstack([feature[index], torch.ones(len(index)).view(-1,1)])#.type(dtype = torch.complex128)\n",
    "t_Features = torch.hstack([feature[t_index], torch.ones(len(t_index)).view(-1,1)])#.type(dtype = torch.complex128)\n",
    "# Features = torch.hstack([Silicon.Features['structure_avedescriptors'][index].double(), torch.ones(len(index)).view(-1,1)])\n",
    "# t_Features = torch.hstack([Silicon.Features['structure_avedescriptors'][t_index].double(), torch.ones(len(t_index)).view(-1,1)])\n",
    "alignment = torch.nn.parameter.Parameter(torch.zeros(len(index)))\n",
    "# alignment = torch.nn.parameter.Parameter((torch.rand(len(index))-0.5) *2 ) \n",
    "\n",
    "\n",
    "\n",
    "xdos_i = xdos.clone()\n",
    "# cutoff = torch.max(efermi) + 3\n",
    "# cutoff_index = torch.searchsorted(xdos, cutoff)\n",
    "\n",
    "train_ldos = manual_call2(Total_splines[index], xaxis, pred_xdos + alignment.view(-1,1))\n",
    "test_ldos = manual_call2(Total_splines[t_index], xaxis, pred_xdos + torch.zeros(len(t_index)).view(-1,1))\n",
    "\n",
    "best_mse = torch.tensor(100)\n",
    "best_state = alignment.clone()\n",
    "\n",
    "n_col = Features.shape[1]\n",
    "regularization = 1\n",
    "\n",
    "reg = torch.hstack([torch.real(torch.tensor(regularization * rtkMM)), torch.zeros(rtkMM.shape[0]).view(-1,1)])\n",
    "reg = torch.vstack([reg, torch.zeros(n_col)])\n",
    "\n",
    "\n",
    "reg_features = torch.vstack([Features, reg])\n",
    "reg_target = torch.vstack([train_ldos, torch.zeros(n_col,train_ldos.shape[1])])\n",
    "reference_weights = torch.linalg.lstsq(reg_features, reg_target, driver = \"gelsd\", rcond = 1e-10).solution\n",
    "reference_pred = Features @ reference_weights\n",
    "reference_t_pred = t_Features @ reference_weights\n",
    "\n",
    "\n",
    "\n",
    "train_loss = loss.t_get_rmse(reference_pred, train_ldos, pred_xdos, perc = True)#torch.mean(abs(reference_pred- train_ldos)**2) \n",
    "test_loss = loss.t_get_rmse(reference_t_pred, test_ldos, pred_xdos, perc = True)#torch.mean(abs(reference_t_pred- test_ldos)**2) \n",
    "\n",
    "print (\"Reference training loss: {:.6}\".format(train_loss))\n",
    "print (\"Reference test loss : {:.6}\".format(test_loss))\n"
   ]
  },
  {
   "cell_type": "code",
   "execution_count": 221,
   "id": "0c28028f",
   "metadata": {
    "ExecuteTime": {
     "end_time": "2023-04-13T15:24:32.244186Z",
     "start_time": "2023-04-13T15:20:28.308955Z"
    }
   },
   "outputs": [
    {
     "name": "stdout",
     "output_type": "stream",
     "text": [
      "Initial RMSE is 0.04557377558334627\n"
     ]
    },
    {
     "name": "stderr",
     "output_type": "stream",
     "text": [
      "Epoch: 2999: 100%|███████████████████████████████████████████████████████████████████████████████████████████████████| 3000/3000 [04:03<00:00, 12.30it/s, current_loss=0.0453, lowest_mse=0.0453, pred_loss=0.0453]\n"
     ]
    }
   ],
   "source": [
    "#Monte Carlo Step\n",
    "\n",
    "B = 1000000 #Need to change\n",
    "step_size = 1e-4 #Need to change\n",
    "# alignment = torch.nn.parameter.Parameter(torch.zeros(len(index)))\n",
    "# loss_trajectory = []\n",
    "# prev_loss = loss.t_get_rmse(reference_pred, train_ldos, pred_xdos, perc = False)\n",
    "# best_mse = prev_loss.clone()\n",
    "batch_size = 831\n",
    "n_epochs = 3000\n",
    "patience = 20\n",
    "\n",
    "prev_loss = torch.tensor(1)\n",
    "\n",
    "current_rmse = torch.tensor(100)\n",
    "pred_loss = torch.tensor(100)\n",
    "\n",
    "print (\"Initial RMSE is {}\".format(prev_loss))\n",
    "trigger = 0\n",
    "accepted = 0\n",
    "\n",
    "with torch.no_grad():\n",
    "    pbar = tqdm(range(n_epochs))\n",
    "    for epoch in pbar:\n",
    "        pbar.set_description(f\"Epoch: {epoch}\")\n",
    "        pbar.set_postfix(pred_loss = pred_loss.item(), lowest_mse = best_mse.item(), current_loss = prev_loss.item())\n",
    "        \n",
    "        #MC\n",
    "        new_alignment = alignment + (torch.rand(len(index)) - 0.5)* 2 * step_size\n",
    "        shifted_target = manual_call2(Total_splines[index], xaxis, pred_xdos + new_alignment.view(-1,1))\n",
    "        shifted_reg_target = torch.vstack([shifted_target, torch.zeros(n_col,train_ldos.shape[1])])   \n",
    "        train_weights = torch.linalg.lstsq(reg_features, shifted_reg_target, rcond = 1e-10, driver = \"gelsd\").solution\n",
    "        shifted_train_preds = Features @ train_weights\n",
    "        loss_i = loss.t_get_rmse(shifted_train_preds, shifted_target, pred_xdos)\n",
    "        pred_loss = loss_i\n",
    "\n",
    "        criteria = torch.exp(B*(prev_loss - loss_i))\n",
    "        acceptance = torch.rand(1)\n",
    "        \n",
    "        if acceptance < criteria:\n",
    "            alignment = new_alignment\n",
    "            prev_loss = loss_i\n",
    "            loss_trajectory.append(loss_i.item())\n",
    "            accepted += 1\n",
    "        else:\n",
    "            loss_trajectory.append(prev_loss.item())\n",
    "            \n",
    "        if loss_i < best_mse:\n",
    "            best_mse = loss_i\n",
    "        \n",
    "        "
   ]
  },
  {
   "cell_type": "code",
   "execution_count": 216,
   "id": "098c335c",
   "metadata": {
    "ExecuteTime": {
     "end_time": "2023-04-13T15:15:24.006860Z",
     "start_time": "2023-04-13T15:15:23.997125Z"
    }
   },
   "outputs": [
    {
     "data": {
      "text/plain": [
       "tensor(0., grad_fn=<SubBackward0>)"
      ]
     },
     "execution_count": 216,
     "metadata": {},
     "output_type": "execute_result"
    }
   ],
   "source": [
    "loss.t_get_rmse(reference_pred, train_ldos, pred_xdos, perc = False) - best_mse "
   ]
  },
  {
   "cell_type": "code",
   "execution_count": 217,
   "id": "797eff2d",
   "metadata": {
    "ExecuteTime": {
     "end_time": "2023-04-13T15:15:25.116251Z",
     "start_time": "2023-04-13T15:15:25.111623Z"
    }
   },
   "outputs": [
    {
     "data": {
      "text/plain": [
       "0.988"
      ]
     },
     "execution_count": 217,
     "metadata": {},
     "output_type": "execute_result"
    }
   ],
   "source": [
    "accepted/n_epochs"
   ]
  },
  {
   "cell_type": "code",
   "execution_count": 220,
   "id": "691ddb2f",
   "metadata": {
    "ExecuteTime": {
     "end_time": "2023-04-13T15:20:14.102942Z",
     "start_time": "2023-04-13T15:20:13.990824Z"
    }
   },
   "outputs": [
    {
     "data": {
      "text/plain": [
       "[<matplotlib.lines.Line2D at 0x7f6a8da297f0>]"
      ]
     },
     "execution_count": 220,
     "metadata": {},
     "output_type": "execute_result"
    },
    {
     "data": {
      "image/png": "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\n",
      "text/plain": [
       "<Figure size 432x288 with 1 Axes>"
      ]
     },
     "metadata": {
      "needs_background": "light"
     },
     "output_type": "display_data"
    }
   ],
   "source": [
    "plt.plot(np.arange(len(loss_trajectory)), np.array(loss_trajectory))"
   ]
  },
  {
   "cell_type": "code",
<<<<<<< HEAD
   "execution_count": 289,
   "id": "b92a45cf",
   "metadata": {
    "ExecuteTime": {
     "end_time": "2023-04-17T17:22:21.338106Z",
     "start_time": "2023-04-17T10:45:19.942757Z"
=======
   "execution_count": null,
   "id": "b92a45cf",
   "metadata": {
    "ExecuteTime": {
     "start_time": "2023-04-14T10:11:44.534Z"
>>>>>>> d22a6c4f71ffcfe88e87f8f7402568f1c6e91048
    }
   },
   "outputs": [
    {
     "name": "stdout",
     "output_type": "stream",
     "text": [
<<<<<<< HEAD
      "Initial RMSE is 0.03926728713002782\n"
=======
      "Initial RMSE is 0.03991508646200551\n"
>>>>>>> d22a6c4f71ffcfe88e87f8f7402568f1c6e91048
     ]
    },
    {
     "name": "stderr",
     "output_type": "stream",
     "text": [
<<<<<<< HEAD
      "Epoch: 9999: 100%|████████████████████████████████████████████████████████████████| 10000/10000 [6:37:01<00:00,  2.38s/it, AR=0.475, current_loss=0.0391, lowest_mse=0.0385, p_loss=9.15, pred_loss=0.0391]\n"
=======
      "Epoch: 7868:  79%|█████████████████████████████████████████████████▌             | 7868/10000 [5:03:29<1:22:05,  2.31s/it, AR=0.479, current_loss=0.0396, lowest_mse=0.0389, p_loss=9.29, pred_loss=0.0396]"
>>>>>>> d22a6c4f71ffcfe88e87f8f7402568f1c6e91048
     ]
    }
   ],
   "source": [
    "#Monte Carlo Step batchwise-R\n",
    "\n",
    "B = 100000 #Need to change\n",
    "step_size = 1e-2 #Need to change\n",
    "\n",
    "batch_size = 32\n",
    "n_epochs = 10000\n",
    "patience = 20\n",
    "accepted = 0\n",
    "total = 0\n",
    "AR = 0\n",
    "# alignment = torch.nn.parameter.Parameter(torch.zeros(len(index)))\n",
    "# loss_trajectory = []\n",
    "# prev_loss = loss.t_get_rmse(reference_pred, train_ldos, pred_xdos, perc = False)\n",
    "# best_mse = prev_loss.clone()\n",
    "\n",
    "\n",
    "\n",
    "Sampler = torch.utils.data.RandomSampler(index, replacement = False)\n",
    "Batcher = torch.utils.data.BatchSampler(Sampler, batch_size, False)\n",
    "\n",
    "current_rmse = torch.tensor(100)\n",
    "pred_loss = torch.tensor(100)\n",
    "\n",
    "print (\"Initial RMSE is {}\".format(prev_loss))\n",
    "trigger = 0\n",
    "\n",
    "loss_p = 0\n",
    "\n",
    "with torch.no_grad():\n",
    "    pbar = tqdm(range(n_epochs))\n",
    "    for epoch in pbar:\n",
    "        pbar.set_description(f\"Epoch: {epoch}\")\n",
    "        pbar.set_postfix(pred_loss = pred_loss.item(), lowest_mse = best_mse.item(), current_loss = prev_loss.item(), AR = AR, p_loss = loss_p)\n",
    "        #MC\n",
    "        for i_batch in Batcher:\n",
    "            new_alignment = alignment.clone()\n",
    "            new_alignment[i_batch] += (torch.rand(len(i_batch)) - 0.5)* 2 * step_size\n",
    "            new_alignment = torch.clamp(new_alignment, -1.5, 1)\n",
    "#             reg_features_i = torch.vstack([Features[i_batch], reg])\n",
    "            shifted_target = manual_call2(Total_splines[index], xaxis, pred_xdos + new_alignment.view(-1,1))\n",
    "            shifted_reg_target = torch.vstack([shifted_target, torch.zeros(n_col,train_ldos.shape[1])])   \n",
    "            train_weights = torch.linalg.lstsq(reg_features, shifted_reg_target, rcond = 1e-10, driver = \"gelsd\").solution\n",
    "            shifted_train_preds = Features @ train_weights\n",
    "            loss_i = loss.t_get_rmse(shifted_train_preds, shifted_target, pred_xdos)\n",
    "            loss_p = loss.t_get_rmse(shifted_train_preds, shifted_target, pred_xdos, perc = True).item()\n",
    "            pred_loss = loss_i\n",
    "\n",
    "            criteria = torch.exp(B*(prev_loss - loss_i))\n",
    "            acceptance = torch.rand(1)\n",
    "\n",
    "            if acceptance < criteria:\n",
    "                alignment = new_alignment\n",
    "                prev_loss = loss_i\n",
    "                loss_trajectory.append(loss_i.item())\n",
    "                accepted += 1\n",
    "            else:\n",
    "                loss_trajectory.append(prev_loss.detach().item())\n",
    "\n",
    "            if loss_i < best_mse:\n",
    "                best_mse = loss_i\n",
    "            total +=1\n",
    "        AR = accepted/total\n"
   ]
  },
  {
   "cell_type": "code",
   "execution_count": 282,
   "id": "4556fe9e",
   "metadata": {
    "ExecuteTime": {
     "end_time": "2023-04-14T07:24:50.386980Z",
     "start_time": "2023-04-14T07:24:50.380020Z"
    }
   },
   "outputs": [
    {
     "data": {
      "text/plain": [
       "tensor(-0.8474)"
      ]
     },
     "execution_count": 282,
     "metadata": {},
     "output_type": "execute_result"
    }
   ],
   "source": [
    "torch.min(new_alignment)"
   ]
  },
  {
   "cell_type": "code",
<<<<<<< HEAD
   "execution_count": 288,
   "id": "04701f03",
   "metadata": {
    "ExecuteTime": {
     "end_time": "2023-04-17T10:45:11.995812Z",
     "start_time": "2023-04-17T10:45:11.780729Z"
=======
   "execution_count": 286,
   "id": "04701f03",
   "metadata": {
    "ExecuteTime": {
     "end_time": "2023-04-14T09:35:38.276256Z",
     "start_time": "2023-04-14T09:35:37.962043Z"
>>>>>>> d22a6c4f71ffcfe88e87f8f7402568f1c6e91048
    }
   },
   "outputs": [
    {
     "data": {
      "text/plain": [
<<<<<<< HEAD
       "[<matplotlib.lines.Line2D at 0x7f69dd35fd60>]"
      ]
     },
     "execution_count": 288,
=======
       "[<matplotlib.lines.Line2D at 0x7f6a4c6505b0>]"
      ]
     },
     "execution_count": 286,
>>>>>>> d22a6c4f71ffcfe88e87f8f7402568f1c6e91048
     "metadata": {},
     "output_type": "execute_result"
    },
    {
     "data": {
<<<<<<< HEAD
      "image/png": "iVBORw0KGgoAAAANSUhEUgAAAmUAAAI/CAYAAAA2mq62AAAAOXRFWHRTb2Z0d2FyZQBNYXRwbG90bGliIHZlcnNpb24zLjUuMSwgaHR0cHM6Ly9tYXRwbG90bGliLm9yZy/YYfK9AAAACXBIWXMAAAsTAAALEwEAmpwYAABoCUlEQVR4nO3dd5hU1f3H8c/ZTi9SBBalCiKIIgJ2BVEQo1Fj1MSWZoyaaBI1GGOLsfxM0ZhYosYkxl5iJIJixU6vIkVAygLSe91yfn/MzO6dmTszd/rd3ffreXiYuffOnbM7q/vhlO8x1loBAAAgvwry3QAAAAAQygAAAHyBUAYAAOADhDIAAAAfIJQBAAD4AKEMAADAB4ry3YBktGvXznbr1i3fzQAAAEhoxowZG6217b1eX69CWbdu3TR9+vR8NwMAACAhY8yKZK5n+BIAAMAHCGUAAAA+QCgDAADwAUIZAACADxDKAAAAfIBQBgAA4AOEMgAAAB8glAEAAPgAoQwAAMAHCGUAAAA+QCgDAADwAUIZAACADxDKAAAAfIBQBgAA4AOEMgAAAB8glAEAAPgAoQwAAMAHCGUAAAA+QCgDAADwAUIZAACADxDKAAAAfIBQBgAA4AOEMhePfbhUv3v9i3w3AwAANCJF+W6A35z78CeauXKrJOn60/uorLgwvw0CAACNAj1lEUKBTJI27NiXv4YAAIBGhVAWx/ode/PdBAAA0EgQyuJ4d8H6fDcBAAA0EoSyOIoKTL6bAAAAGglCWRz9OrfKdxMAAEAjQSiLo2f7ZvluAgAAaCQIZXHU2Hy3AAAANBaEsjhqLKkMAADkBqEsDkIZAADIFUJZHGQyAACQK4QyBxuRwugpAwAAuUIoc6iOmNk/e9XW/DQEAAA0OoQyh6qIUPbc1FV5agkAAGhsCGUO+6pqwp4vWLs9Ty0BAACNDaHMYV9ldb6bAAAAGilCmcPeyprEFwEAAGQBocxhXxU9ZQAAID8IZQ70lAEAgHwhlDm0alKc7yYAAIBGilDmUFrMtwMAAOQHKcQhsngsAABArhDKHELbKp1+WMc8twQAADQ2hDKHmuA8/2E9DpAkHdG1df4aAwAAGhVPocwYM8oYs8gYs8QYM9blvDHGPBg8P9cYMyjifKExZpYx5vWI4z8N3ne+Mea+9L6U9IV6ylo3LVZZcYGGdm+b5xYBAIDGoijRBcaYQkkPSRopqULSNGPMOGvtF47LRkvqHfwzVNIjwb9DrpW0QFJLx31PkXS2pMOttfuMMR3S/FrSVh0MZQXGqMAY5pgBAICc8dJTNkTSEmvtMmvtfknPKxCmnM6W9JQNmCyptTGmkyQZY8oljZH0RMRrfiLpXmvtPkmy1q5P4+vICOsIZbv3V+uJj7/S6fd/mOdWAQCAxsBLKOsiaZXjeUXwmNdrHpB0o6TIyqyHSDrBGDPFGPOBMeZor43OlupgCwuMqT22aN2OPLUGAAA0Jl5CmXE5Fjmu53qNMeZMSeuttTNczhdJaiNpmKQbJL1ojIm6jzHmCmPMdGPM9A0bNnhobupCc8oKWf4AAAByzEv8qJDU1fG8XNIaj9ccJ+ksY8xyBYY9hxtjnna85j/BIc+pCvSktYt8c2vtY9bawdbawe3bt/fQ3NQt37hLkrTwa3rHAABAbnkJZdMk9TbGdDfGlEi6UNK4iGvGSbo0uApzmKRt1tq11tqbrLXl1tpuwde9Z629OPia/0oaLknGmEMklUjamPZXlIaJ87+WJP1n5up8NgMAADRCCUOZtbZK0jWSJiqwgvJFa+18Y8yVxpgrg5dNkLRM0hJJj0u6ysN7PymphzHmcwV60S6zoZn2eTLi0EDR2MuO7ZbPZgAAgEYoYUkMSbLWTlAgeDmPPep4bCVdneAekyRNcjzfL+niWNfnQ/sWpZKkQzu1yHNLAABAY8OUdoeamrqSGAAAALlEKHMI1YotLCCUAQCA3CKUOdRV9M9zQwAAQKNDKHN4Y95aSdLidTvz3BIAANDYEMocmpQUSpJalHla/wAAAJAxhDKHod3bSpJ6tGue55YAAIDGhlDmEKqSVsB3BQAA5BjxwyG0+pKSGAAAINcIZQ41rL4EAAB5QihzqKnd5YlUBgAAcotQ5iKyp2xvZXV+GgIAABoNQplD3fCl0VkDO9ceH/y7d/LVJAAA0EgQyhxqagJ/FxijBy44ovb4zn1V+WkQAABoNAhlDqGeMmOkAscYZp+OLfLVJAAA0EgQyhxC8/wjK2LsrWJOGQAAyC5CmYNV3ZwyAACAXCKUOcQqHrti0+48tAYAADQmhDIHiscCAIB8IZQ51FA7FgAA5AmhzMkypwwAAOQHocwhck7Z7d/ol8fWAACAxoRQ5hA5p+ycI8vz2BoAANCYEMoc9lUFSvoXFQa+LYWFDGMCAIDcKMp3A/zkW0eVq3/nVmpeGvi2hP4GAADINlKHQ7vmpTq+d2m+mwEAABohQlkCbZoWq03Tknw3AwAANHCEsgR6tm+u0mKm3gEAgOwibSRgjFRTk+9WAACAho5QloAxpnajcgAAgGwhlCVg5Nh+CQAAIEsIZQkUGCM6ygAAQLYRyhIoKKir9A8AAJAthLIEjAyhDAAAZB0lMRKY8tUmVVYTygAAQHbRU5YAgQwAAOQCoQwAAMAHCGUAAAA+QCjzaF9Vdb6bAAAAGjBCmUf7qthrCQAAZA+hzKN5Fdvy3QQAANCAEco8Wr5pV76bAAAAGjBCmUfUjwUAANlEKPOITAYAALKJUObRvkpWXwIAgOwhlHn0u/EL8t0EAADQgBHKAAAAfIBQlsCvRvXNdxMAAEAjQChLYEj3NvluAgAAaAQIZQlQCgMAAOQCoSyB6hpSGQAAyD5CWQLVdJUBAIAcIJQlUFVNKAMAANlHKAMAAPABQlkCRxzUOt9NAAAAjQChLIGWZcX5bgIAAGgECGUAAAA+4CmUGWNGGWMWGWOWGGPGupw3xpgHg+fnGmMGRZwvNMbMMsa87jh2uzFmtTFmdvDPGel/OQAAAPVTUaILjDGFkh6SNFJShaRpxphx1tovHJeNltQ7+GeopEeCf4dcK2mBpJYRt7/fWvuH1JsPAADQMHjpKRsiaYm1dpm1dr+k5yWdHXHN2ZKesgGTJbU2xnSSJGNMuaQxkp7IYLsBAAAaFC+hrIukVY7nFcFjXq95QNKNkmpc7n1NcLjzSWMMm0wCAIBGy0soMy7HIiuqul5jjDlT0npr7QyX849I6inpCElrJf3R9c2NucIYM90YM33Dhg0emgsAAFD/eAllFZK6Op6XS1rj8ZrjJJ1ljFmuwLDncGPM05JkrV1nra221tZIelyBYdIo1trHrLWDrbWD27dv76G5AAAA9Y+XUDZNUm9jTHdjTImkCyWNi7hmnKRLg6swh0naZq1da629yVpbbq3tFnzde9baiyUpNOcs6BxJn6f7xWTb/iq3EVgAAID0JQxl1toqSddImqjACsoXrbXzjTFXGmOuDF42QdIySUsU6PW6ysN732eMmWeMmSvpFEk/T+ULyKWXZ1TkuwkAAKCBSlgSQ5KstRMUCF7OY486HltJVye4xyRJkxzPL0minb7wwrSV+s7Qg/LdDAAA0ABR0T8Jcyq25bsJAACggSKUAQAA+AChDAAAwAcIZQAAAD5AKAMAAPABQhkAAIAPEMo8+NslR+W7CQAAoIEjlHnQp2OLfDcBAAA0cIQyD8qKC/PdBAAA0MARyjwoKeLbBAAAsou04UHz0rrdqOZWbM1fQwAAQINFKPPA2VP21cZdeWwJAABoqAhlAAAAPkAoAwAA8AFCGQAAgA8QypI0a+XWfDcBAAA0QISyJL0yoyLfTQAAAA0QoSxJO/ZV5bsJAACgASKUAQAA+AChDAAAwAcIZQAAAD5AKAMAAPABQplHT14+ON9NAAAADRihzKOB5a3z3QQAANCAEco8qrY2300AAAANGKHMo/bNS/PdBAAA0IARyjwyxuS7CQAAoAEjlAEAAPgAoQwAAMAHCGUAAAA+QCgDAADwAUJZEr49uFydWpXluxkAAKABIpQl4T8zV2vttr36fPW2fDcFAAA0MISyJFTVBArInvmXj7Vm6548twYAADQkhLIUfbFme76bAAAAGhBCWRIuPebg2sePfbQsjy0BAAANDaEsCS3KimofT/1qcx5bAgAAGhpCWRIenrQ0300AAAANFKEsCdbmuwUAAKChIpQBAAD4AKEMAADABwhlAAAAPkAoAwAA8AFCGQAAgA8QypLQpXWTfDcBAAA0UISyJOyrqsl3EwAAQANFKEtC+xalYc+Pu/e9PLUEAAA0NISyJPzk5J5hz1dv3ZOnlgAAgIaGUJYES0l/AACQJYSyJFRVR4cyghoAAMgEQlkSBpS3ijq2bU9lHloCAAAaGkJZEvbsr446tmzjrjy0BAAANDSEsiQUFpioY/sqKZMBAADSRyhLQu+OzXV0tzZhx6yYUwYAANJHKEtCaVGhXrry2LBj+ykoCwAAMoBQliZCGQAAyARCWZqem7oy300AAAANgKdQZowZZYxZZIxZYowZ63LeGGMeDJ6fa4wZFHG+0BgzyxjzustrrzfGWGNMu9S/jPx5f9GGfDcBAAA0AAlDmTGmUNJDkkZL6ifpImNMv4jLRkvqHfxzhaRHIs5fK2mBy727Shopie4mAADQqHnpKRsiaYm1dpm1dr+k5yWdHXHN2ZKesgGTJbU2xnSSJGNMuaQxkp5wuff9km6UWMIIAAAaNy+hrIukVY7nFcFjXq95QIHgFTYj3hhzlqTV1to5SbQXAACgQfISyqIrpkb3bLleY4w5U9J6a+2MsIuNaSrpZkm3JnxzY64wxkw3xkzfsIH5WwAAoGHyEsoqJHV1PC+XtMbjNcdJOssYs1yBYc/hxpinJfWU1F3SnOC5ckkzjTEHRr65tfYxa+1ga+3g9u3be/qiAAAA6hsvoWyapN7GmO7GmBJJF0oaF3HNOEmXBldhDpO0zVq71lp7k7W23FrbLfi696y1F1tr51lrO1hruwXPVUgaZK39OmNfGQAAQD1SlOgCa22VMeYaSRMlFUp60lo73xhzZfD8o5ImSDpD0hJJuyV9L3tNBgAAaHiMtfVn4ePgwYPt9OnT890MbdixT0ff9U7t8+X3jsljawAAgB8ZY2ZYawd7vZ6K/ilo36JU5x4ZuQAVAAAgdYSyFPXv0irfTQAAAA0IoSxFo/pHLRQFAABIGaEsRZ1bN6l9XFVdE+dKAACAxAhlGbB22958NwEAANRzhLIM2FdVne8mAACAeo5QlgHrt+/LdxMAAEA9RyjLgA8WsycnAABID6EsA2rqUQFeAADgT4SyDKisJpQBAID0EMoyYD8lMQAAQJoIZRmwv4pQBgAA0kMoy4B9hDIAAJAmQlkGbN9Tme8mAACAeo5QlgGUxAAAAOkilGXIw5OWqKbGavG6HRpy1ztav4OtlwAAgHeEsjScfUTn2sf3vblIkxav198/+krrd+zTewvW57FlAACgviGUpaFjy7Kw589PXVX72JhctwYAANRnhLI02IhK/vuqavTJ0o15ag0AAKjPivLdgPps+56qsOdM+AcAAKmipywNTUsLY57bsGNfDlsCAADqO0JZGpqWxA5l2/dWxTwHAAAQiVCWhr4Htox57s3Pv85hSwAAQH1HKEvD6P4Hxjy3cvPuHLYEAADUd4SyNBQV8u0DAACZQaoAAADwAUIZAACADxDKAAAAfIBQBgAA4AOEMgAAAB8glAEAAPgAoSyL1m3fm+8mAACAeoJQlkVD735XldU1+W4GAACoBwhlWVZdY/PdBAAAUA8QyrLs7x9/pQ8Xb8h3MwAAgM8V5bsBDd3vJy6SJC2/d0yeWwIAAPyMnjIAAAAfIJQBAAD4AKEsTWXFfAsBAED6SBRpOrRTy7DnBSZPDQEAAPUaoSxNT1w6OOz5nNtOy1NLAABAfUYoS1PbZiVhz1uUFevyY7vlpzEAAKDeIpSlyZjo8crT+nXMQ0sAAEB9RijLoMk3jZAkVVuq+AMAgOQQyjKkV4fmOrBVmSSpiq2VAABAkqjonwFvXneCOrVsUvt8+57KqGuWbdipHu2b57JZAACgHqGnLAP6HthSrZoW1z4fP3dt1DVvf7Eul00CAAD1DKEsR77auCvfTQAAAD5GKMuClk2Ko459sXZ7HloCAADqC0JZFpw3qDzqGIX+AQBAPISyLCgpiv62dmvXLA8tAQAA9QWhLAtc6snqkI4tct8QAABQbxDKsqDAJZX9fuIi7auqzkNrAABAfUAoy4LOrctcj5/3yKc5bgkAAKgvCGVZ0KFFmebfcXrU8c9Xb1cN1f4BAIALQlmWNCstUtOSwqjjT322POz55GWb9PnqbTlqFQAA8CtPocwYM8oYs8gYs8QYM9blvDHGPBg8P9cYMyjifKExZpYx5nXHsTuD1842xrxljOmc/pfjL277ks9bHV6v7MLHJuvMv3ycoxYBAAC/ShjKjDGFkh6SNFpSP0kXGWP6RVw2WlLv4J8rJD0Scf5aSQsijv3eWnu4tfYISa9LujXp1vucVXQqe2VmRR5aAgAA/M5LT9kQSUustcustfslPS/p7Ihrzpb0lA2YLKm1MaaTJBljyiWNkfSE8wXWWmeXUTPJJcHUc1XVDe5LAgAAWVLk4ZouklY5nldIGurhmi6S1kp6QNKNkqIKdRlj7pJ0qaRtkk7x2uj6oopJ/QAAwCMvPWVuOwRFpg3Xa4wxZ0pab62d4XZja+3N1tqukp6RdI3rmxtzhTFmujFm+oYNGzw0FwAAoP7xEsoqJHV1PC+XtMbjNcdJOssYs1yBYc/hxpinXd7jWUnnub25tfYxa+1ga+3g9u3be2iuv40d3Ve791fpp8/N0u79VfluDgAA8AkvoWyapN7GmO7GmBJJF0oaF3HNOEmXBldhDpO0zVq71lp7k7W23FrbLfi696y1F0uSMaa34/VnSVqY7hdTX/z43zP0vzlrdNhtE/PdFAAA4BMJ55RZa6uMMddImiipUNKT1tr5xpgrg+cflTRB0hmSlkjaLel7Ht77XmNMH0k1klZIujK1L6F+ufeNuuzpVjIDAAA0Tl4m+staO0GB4OU89qjjsZV0dYJ7TJI0yfHcdbgSAACgMaKiPwAAgA8Qynxi8679+W4CAADII0KZT6zesiffTQAAAHlEKMuBW86M3JUq2rY9lTloCQAA8CtCWR4NLG9V+3jHXkIZAACNGaEsB3budS8SO6diW+3jPZXVuWoOAADwIUJZDhzYqjThNUs37MxBSwAAgF8RynJgQJfWCa956P2l2W8IAADwLUJZDpQUGV1/2iH5bgYAAPAxQlkOFBcW6LyjyvPdDAAA4GOEshwoLixQp1ZN8t0MAADgY4SyHCgqNPluAgAA8DlCWRb9bHgvSdIBzRKvvgQAAI1bUb4b0JD94rQ++sVpffLdDAAAUA/QUwYAAOADhDIAAAAfIJQBAAD4AKEMAADAB5jon0MTrztRb83/WnurqtlWCQAAhCGU5VCfA1uoz4EtJLHXJQAACMfwJQAAgA8Qynzktdmr890EAACQJ4SyPLn/goFRx659fnbuGwIAAHyBUJYn//hkeb6bAAAAfIRQlidHd2ub7yYAAAAfIZTlSb9OLfPdBAAA4COEsjxpVppcNZLPV2/T63PXZKk1AAAg36hTlifd2zVL6voz//Jx4O/DO2ejOQAAIM/oKcuT8jZNJEk3nN4nzy0BAAB+QCjLk2alRfrqnjN01ck9890UAADgAwxf5pExJt9NAAAAPkFPmc8s3bAz6pi1Ng8tAQAAuUQo85m9ldVRx6prCGUAADR0hDKfcXaKWWv12IdLVbFlT/4aBAAAcoI5ZT7j7BVbtnGX7p6wUM9PW1V7bPveSrUsK85H0wAAQBbRU+YDfQ9sUft46lebax+HAtqGHftqj32xZnvuGgYAAHKGUOYDr151XO3jVVt2S5KenbJS3/vHNEnSjr1VtecvfGxybhsHAAByguFLH2hSUlj7uCrYO/brV+flqzkAACAP6CnzmWenrMx3EwAAQB4QynyohhIYAAA0OoQyH3ryk6/y3QQAAJBjhDKfePCiI2sf/278gjy2BAAA5AOhzCdaNaH2GAAAjRmhzCc27dyX+CIAANBgEcp84pCOLRJfBAAAGixCGQAAgA8QyuqhbbsrtW1PZb6bAQAAMoiK/vXQwN++JUlafu+YPLcEAABkCj1lDdSarXs04LaJ+nLdjnw3BQAAeEAo84niwsx+FM9OWakd+6r0l/eWZPS+AAAgOwhlPnFIx+YZvV9ok3PqnwEAUD8QynzCGJPS65Zu2KlFX0cPURYXBu5XVsxHDABAfcBE/3puxB8/kBQ96d+ypzkAAPUK3SgNXKo9cAAAILcIZQ3cll37890EAADgAaGsHquuiT1G+cXa7ZKkl2ZU5Ko5AAAgDYSyeuzpyStinntt9poctgQAAKTLUygzxowyxiwyxiwxxox1OW+MMQ8Gz881xgyKOF9ojJlljHndcez3xpiFwetfNca0TvurqeeaBstYxNIs4vyGHftiXnviIe0z0iYAAJAbCUOZMaZQ0kOSRkvqJ+kiY0y/iMtGS+od/HOFpEcizl8raUHEsbcl9bfWHi5psaSbkm59A/Pp2OFhz3t1CK9dVlgQPml/8+7Y88W6tC6TJDHPHwCA+sFLT9kQSUustcustfslPS/p7Ihrzpb0lA2YLKm1MaaTJBljyiWNkfSE8wXW2restVXBp5MllafxdTQIrZuWhD2feN2JYc+vOLFH2PNJC9fHvNdzU1dJko46qE2GWgcAALLJSyjrImmV43lF8JjXax6QdKOkmjjv8X1Jb3hoS6MS2TP2veO6hz0/tV/HhPeYvmJLRtsEAACyw0socxsAi1z253qNMeZMSeuttTNi3tyYmyVVSXomxvkrjDHTjTHTN2zY4KG5DdPd5wxQs9LwWr8791bVPu42dry+XLdDC9ZuV7ex43PdPAAAkCYvFf0rJHV1PC+XFLm0L9Y135J0ljHmDEllkloaY5621l4sScaYyySdKWmEte416K21j0l6TJIGDx7c6OrUz7/jdL06a7W+M/SgqHP/mbU67PmL01dp257KXDUNAABkkJeesmmSehtjuhtjSiRdKGlcxDXjJF0aXIU5TNI2a+1aa+1N1tpya2234OvecwSyUZJ+Jeksa+3uTH1BDU2z0iJdPOxgT9e+/cU6rdzMtxIAgPooYSgLTsa/RtJEBVZQvmitnW+MudIYc2XwsgmSlklaIulxSVd5eO+/Smoh6W1jzGxjzKOpfAGoc9bAzpq8bHPU8ZkrA/PKHnp/id6a/3WumwUAADwwMUYNfWnw4MF2+vTp+W5GVu2trFbfW96UFL3JuKS488XaNS/Vxp2xa5eFuN0XAABkljFmhrV2sNfrqejvMyWFqX8kXgIZAADwJ0KZz1DsFQCAxsnL6kvkkDFG3zqqXOcOiiwFBwAAGjJ6ynzoD+cP1LE927meO/XQxAVjAQBA/UMoq2euOqVnvpsAAACygFBWz+yvirdbVXKWb9yl61+ao6rqzN0TAACkhlBWz+zaV5X4Io9+8eJsvTyjQrNXbc3YPQEAQGoIZfVMURolMyKFKtSx4hMAgPwjlNUzmSz2W3crUhkAAPlGKKtnQjnqsM4t075XaNgyk/PUAABAaqhTVs+EesqKClLv3dqzv1p/ee/L2ue792dunhoAAEgNPWX1TE2wU6vQEcoOaFYS8/pzj4wuQvuNv36shyctrX3epLgwcw0EAAApIZTVM1XBVFZUUPfR3XVO/5jXu81AW7J+Z9jzZqV0mAIAkG+EsnqmLNir1aFlae2xwoLYH+OQ7m0T3nPxuh3pNwwAAKSFUFbPnHRIe933rcN10xmH1h7r3Los5vUn92mf8J43vDw3I20DAACpY9yqnjHG6NuDu6qmxqpTqzLd9o3DVN6mqeu1V53cU14raOytrK7thQMAALlHT1k9VVBg9NlNIzSq/4Exr2nbrETNy7zl7kNvfTNTTQMAACmgp6wBaNWkOOz5Xy46Ul9v26vLju3muQZZBmvSAgCAFNBT1kD883tH1z4uMEY/OrGHigsLVODYQ2l43w75aBoAAPCAUNZAnNynLnA5hyyd+1qeMaBT3Hv0u/VNbd61P+NtAwAAiRHKGqDNu/bVPi4tKlCP9s30x/MHKtEmALv3V+vfn63IcusAAIAbQlkDMvOWkTr3yC765hF1VfyNMXrvlyfrvKPKw4YyY/lg8fpsNhEAAMTARP8GpG2zEv3pgiNinvcy6X/phl0ZbBEAAPCKnrJGZNycNQmv2bansvZxdY3V3srqbDYJAAAEEcoakYuGHOT52pkrt6jnryeo7y2B+mXrtu/VO1+sy1bTAABo9AhljciqLbs9Xzth7trax3v2V+vCxybrh09NV3UNBc0AAMgGQlkjksxQpDN7VWzZra82BuaaEcoAAMgOQlkjsnV3ZeKLgmocJf6XbdzlehwAAGQOoawR2brbe2HYfVV1vWprtu6pfVxFTxkAAFlBKGtE+nZq6fna56auqn3cv0ur2sf/mVmho+58W6sdQQ0AAKSPUNaIzFixxdN1qzaHLwgocmwFcOtr87Vp1349+fFXGW0bAACNHaGsEZm10lsoO+G+98Oer9gUvWrzg8UbMtImAAAQQChrRG4c1Tel1133wuyoYzXMLQMAIKMIZY3I+UeVZ+xea7YF5pSt3rpHS9bvyNh9AQBorAhljYgxRt9yBLPu7ZqlfK+9lYF9NI+79z2d+qcP024bAACNHaGskTnnyC61j9+//mS9ce0JKd/LUrMMAICMIZQ1MsaEPz+0U0vNu/00ffyrU5K+17sL1meoVQAAoCjfDUButWlaEnWsRVmxWpQVJ32vdTv2ZqJJnlRV16iokH9DAAAaLn7LNTKHJlFANpEPFuWmLMaMFVvU6+Y39PGXG3PyfgAA5AOhrJE68ZD2ad/jrS/Web728Q+X6b2Fdddf/MQUnfKHSZ5e++mSQBj7bBmhDADQcDF82Qh98dvTVZyFocD1O/aqXbNSFRSYqHN3TVggSVp+7xhJ0sdLvAWsKcs26Y9vL5YklRQWZqilAAD4D6GsEWpakvmPvdvY8ZKk6087RNcM752x+17w2OTaxyVFdOwCABoufssho7K5/dLSDTuzdm8AAPKNUAZfK3EMs748oyKPLQEAILsYvkROPTtlpazqis5u2bVfbZpFl+kI2V9dk4tmAQCQd4Qy5NSvX50X9vzSJ6fqfz89Pk+tAQDAPxi+RFJOPbRj3PPTlm9J6n7zVm9LpzkAADQYhDIkpaqG4UQAALKBUIaY3v3lSTqmxwFhx87o3ynp+9TUsHE5AACJEMpQa0TfDrWPZ94yUj3bN9fuyuraY1/eNVrfPrpr0vetpHcNAICECGWo9YfzB9Y+bhtcEdm+eWntsVR3AdhbGT+UXff8rJTuCwBAQ0IoQy230hRNS5Lf2mjB2u3qNna8Pl0a2Eppr6O3zc1/Z69xPc6wJwCgMSGUIa4mxcmHss+WbpIkvTU/sAH5rn1VKb33is27U3odAAD1EaEMcTUrTb6UnXOF5t7Kag3/4wcpvXclhWMBAI0IxWMR5k/fHqgyR+9YaPjylD7tPd9j865KSYFw1veWN1Nuyz8/XZ7yayN1Gztevxx5iH46InObpQMAkEn0lCHMuYPKdcaAurIXnVs3kSSNTqIUxuRlgeHLpyevTKstcyu2pvX6kM279kuS/vj24ozcDwCAbPAUyowxo4wxi4wxS4wxY13OG2PMg8Hzc40xgyLOFxpjZhljXnccO98YM98YU2OMGZz+l4JsuPDornri0sE6f3B57bEWCYY0Z6/ampH3/nz1ds/XWmtjLgx48uOvMtIeAACyKWEoM8YUSnpI0mhJ/SRdZIzpF3HZaEm9g3+ukPRIxPlrJS2IOPa5pHMlfZh8s5ErBQVGp/brKGNM7bFPbxqexxa5+9FT09Xj1xOiVnpaa/X8tFV5ahUAAN556SkbImmJtXaZtXa/pOclnR1xzdmSnrIBkyW1NsZ0kiRjTLmkMZKecL7AWrvAWrso7a8AOVdaVDfnrFkKJTOy4Z0F6yVJ2/dWhh1/ZeZqbdy5Lx9NAgAgKV4m+neR5OxqqJA01MM1XSStlfSApBsltUi5lfCV4sK6XrNeHVtoToaGKyXptPs/0OJ1O1N+fXXEEGYm2wYAQDZ56SkzLsciJ++4XmOMOVPSemvtjKRbFrqxMVcYY6YbY6Zv2LAh1dsgg5xDmaGK/3ed0z8j904nkElSVXX4j+a/J69I634AAOSKl1BWIcm54WG5pMgS7LGuOU7SWcaY5QoMew43xjydTAOttY9Zawdbawe3b++9LANy48qTesgY6fTDDkzrPt3GjtekReuTes2WXfvVbex4vTKjovZYy7LitNoBAEC+eAll0yT1NsZ0N8aUSLpQ0riIa8ZJujS4CnOYpG3W2rXW2pusteXW2m7B171nrb04k18A8mtwt7b66p4xaufYIzNVl/9jmuvxod3b6qC2TTX44DZhx7/atEuS9MuX5tQeq7FszQQAqJ8ShjJrbZWkayRNVGAF5YvW2vnGmCuNMVcGL5sgaZmkJZIel3RVovsaY84xxlRIOkbSeGPMxBS/BjRwvz7jUHVoUaqSorof11Wbd+vxD5dFXZtuJPvTW4u0iu2dAAB54Kmiv7V2ggLBy3nsUcdjK+nqBPeYJGmS4/mrkl713lT4XZumxdqyuzLxhUlq2aRY01dsCTt2+T+maumGXVHXvjR9lX58Us+U3mf5xl168L0levC9JVp+75iU7gEAQKqo6I+M6d+lVVbu6+whC1m+yb0368MvU18MsnRDeosMAABIB6EMGfPQdwclvigFzhIcIW2blbhe66yh5mbDjtg1yz76cmNyDfMZa62mLd8sy7w6AKiXCGXImGYl2dnfvrig7sf0rL9+rEcmLY0Zrjq1Kot7r7P++nHMczv2VqXWQJ94ZeZqnf/oZxo3J3JxNACgPsjOb1E0SgVu1eoyoNDRUza3YpvmVmyLee3eypq491q7bW/Mc6/MrIh5rj4IDb9WbNmT55YAAFJBKENKrjyppw7r3DLsmLOobCY5e8oS2VtVt/dlZHX/RI7u1kbTlm9JfKFPhTZkL8xWOgYAZBXDl0jJ2NF99Y2BndO6xwWDuya+SFJZsfcf032ODcl/8eLspNrTpqn7PLVUWGu1e39uh0NDm7Hvr4rfWwgA8CdCGXJi2s2n6p1fnFT7fOzovmrfwlvB2WR64PZV1WjSovXqNna8XpvtPrdqxaZdmrZ8c9TxdHclcHrio6/U79aJmrFis77/z2k5CWjj562VJD0zha2lAKA+IpQhJ9q3KFWvDs3145N6SApU3r/qlNTqicXTvLQo5s4AISf9fpLOf/QzVWwJL6vRqklqWzS9MG2l7nljQdixl2askiSd98hnem/hek1alP19Wzfu3C9JWh9nhSkAwL8IZci6HxzfvfZxSWHgR67QGDXNwmrNi4Yc5PnaVZvDJ8SnukXTr16Zp799EL67QLobq6ejuJD/rAGgPuL/3siKG0f1qX1c5Fg9eeVJPXX5sd106THdYr72/KPKU37fZILVa7NXhz0PvdLrsGoysl06zLk1VAmhDADqJVZfIiv6Htii9vH2PXVbLzUrLdLtZx0W97XplHRIJpRF9iiFiq7GKzCbqmxvlH7Zk1NrHxe5FNsFAPgf/6RG1hUkWSrDWdYiWTVJLDyM3L4pUY2zRDbs2KduY8dr6lfRiwienbIyrXsn4gyYDF8CQP3E/72RFcf2bFf7eGuSm5Q3LYm/VVI81Un0SEX2KN35+hcpv68k3fLfzyVJj324LOpceZsmad07kQJHbbJi6pQBQL1EKENWlBXXBatQqQavLj+2e+KLYvjjW4s8X2sUHl427dqf8vtK0pvzv5YkvbNgXdS5gw9omta9k7Emzq4FAAD/IpQh4yKHBeMZ3T+6NljHlqlPtE9m1WO8eV6Z3tT7D28tzuj9nK55dqYWrN2etfsDAHKDUIaM+nTscE25aYTn6/984ZG6dkTvsGNuc9BKkwh6Xu3cF7ug68yVWz3dI9PhLRWvz02uJxIA4E+EMmRU59ZN1KaZ9+2KSooK9PORh4Qdc67WDKmsjj0J/++XDdZ7vzwp5vlY4k2+97pvZjLba744fVXtVkgAAEQilMF3KrZGl8Q4tFNLlysDRhzaMeObcHstK5FMqYsbX56r30/0PucNANC4EMqQdcf0OCDhNc/9aFjt42KXQHT/BUfEfX1oi6FYTu7T3vX4mq17NGvllqjj5z78qb71yKdx7ykp5v6asXyyZGNS12fbnFVbddy972n73uRWyAIAMo9QhqwZO7qvJKlvpxYJrpQObFVW+9itzlaz0vh1jvfsjz0seNs3+umf3xviugDh2Hvf0zkPu4ev6Suiw1pIqCbZ9S/NiduuSAu/3pHU9dn2p7cXa/XWPZqxPPbXCgDIDUIZsua9BeslSU9PXpHw2t376ybdu4WyRBP9B3RpFfNcKIzdeHqfmNe4GXRQ65jnPl+zLal7+VVo+LWA2mYAkHeEMmTN6uDcsMrqxPOu1mytq621vyp6Un+75vHLZJg4P8nnDQrspfmX95YkbIdTtirjb99bqUmL1mfl3skKTYkjkwFA/hHKkDWnHdZRkjT44DYJr12xaVft4zmrtrpe884vToz5+uo4wS9UyHaby6rOkMG/eyfqWLzFA+mUwhj8u3d0+T+mhW0ini+hVabJboUFAMg8NiRH1tx6Zj8d1rmVzjmyS8Jrh3avWwwQq6RGrw7Rc9Me/u4gSfFLZnixcWf0JuTLNuzSqs271bVtU23bU6l9VdXq0KIs+H6ph7JQT+DidTvUtW16lf5jzaWrqbGehiRrhy8JZQCQd/SUIWuMMfrWUeWeylW0bFL374PT+nX0/B5nDOgkSWqSxn6ZsXy9fa9OuO99SdLQu9/RkLverT33tw+Wpn3/ogwMjz4zxX2+3gqPvXChUJZMaQ8AQHYQyuALpUV1oapJSaHODfau/fB4b/tgtigrzkq7QvZWhvfEea34H89rs1anfY/3Y8xNO89DOQ+pbkg3W/PnvKisrlHFlvwP5QJAvhHK4AvOchXtmpfqrnMG6MZRfWrLajRE/8lAKPtkySbX45s9bq4eCrP5HL28/+3FOv7/3g9bgduQVGzZrfXb2SQeQGKEMviCs2BsWXGhmpQU6qqTe2VkiC+TNu/arzP/8lG+m+GJlyAQWrCQzxllz00NbHcVr9ZcfXb8/72vIXe/m/hCn6qusbp93Hx9vY1gCWSbv37jodHyOnzmVgDWq3vOHZDya0PGzV6tz1dvT/s+ueAlCIRmkjl7yp74aJlenVWRnUbFYRrgYoOaZDZH9akPv9ygf366XMPuqb/BEqgvCGXwBa97V3Z2VP5/6vtDknqPo7slLs3hZuHXdSEsVnDo5GhXLkV+346MU/DWTSgzbNhRN9z5u/EL9PMX5kRtyl5dY3Xa/R/ozc+/TqmtjVFlTd1cxKo0VwjnS6gItNRwezMBvyCUwRcKPfaSNC+rW6V54iHu+1nG0rN9c91weh99dtPwpF436oG64cpF69y3SRpxaIek7hlirdUd/5ufckmPJsV1CyRG9uuoz1cnt9NAqCbclU/PiDr30Zcbwp7v3Fulxet26oaXvW8t9fCkJXp3wbqk2tSQOEunvDQj972PO/ZWph0Gl6zfWfv4s2X+2rsVaGgIZfAFr9v8HNYp9nZKiRhjdPUpvdSpVRP9bHivlO7x7JSVrserUqxbdvWzM/WPT5ZrxB8/SOn1px92YO3j+au3RdVPi1cwN5Hdkb0ioY8oiS/1vjcX6Qf/mh73mi27A21c6YNiupnmDET56GUacPtbuvHluWndY9nGnYkvApARhDLUK1ee3DMj9xnkYZeBZBwWZ+/NeKZ+tVlS6oHEOhLSnsroX/oD73jL871mrNhc2x5J+nBxeE9ZKDdna5bUNx/6JEt3zp/9jlCWr9llmVjlG0I5OyC7qOiPeqV7u2a685v91a9Ty4TXdm3bREd0dQ9fJ/ZObugznoMPaKoTerWLeb5Hu2ZatnGX67mNO72VrojlPzPrfuFu2V2pU/q01/uLNsR5RWznPfJZ2PPQUK21VhVb9tTutBCv0Oy+qmrd8NJcXX9aHx10QHK7FRzYMj/z8rJp8rK6kLuvqn7OxzKOtbkNYN0C4Gv0lMFXurZtkvCaS4YdrKNcero+uvGUiOfD9ZeLjnS9h9fhUi8KjFF5G/d2fzJ2uG44vU/G3isRrwsmvJgVLJA7+s8f6YT73teMFVskxe8t+XTJJo2bs0Y/f3F20u93fO/Ywba+WrN1T+1jZ4HkXMhUCQvndE92fgCyi1AG3/jv1cfpv1cdl/Lr091HMlVGsbdM6tK6icqysAVULKf0jb3g4OMvN+pnz81K+p4Lvw70mP0qODfJbZg0ZOryQM9QKMAloyEWj3XOy8v1BvRbdqfXCxvijPmtm2R35wygsSOUwTeO6NpaBzQvTese7/7ypAy1JgkRnVPv/OLEsOdHd2ubk2Y89J1BOqVP7FB28d+naNycNbUFY5P1tYditM7Vn8m+z/6qhtcLs8cRNL9Ym9v6dqmu6I3k/FQYvgSyi1CGBqVn++Y5f891EcNEvTq00P0XDNQ/v3e0JKl5aWanbm7fW6mPv9wYNkdp6s0jNObwTq6TyXvcND7s+b6qGs+9NrHKWdw+br7r8Y++rCuZEJnJNu7cp2ufnxVV/yzEWQ+uPphXsU2LvnYvkSJJKzbtClutW5HjnrKtu1Nfeeu01vHzHeuzA5AZhDI0OM1KCvWLkYfk7P12BYeompYUqmWwjto5R5brZEev1fJ7x2Ts/a55dpYu/vsU9fnNm1Hn3HqnIn+P/vyF2Trhvvf13sLE9cN+89/PXY//b86ahK+tjmjL4N+9o9dmr9F/ZrrX66rYssf1uB9s212p9xeGb/7+jb9+rNMf+DDma37wr+m1PxuStMZljldNjVW3seP1h4mLUmrXzJVbNGtl9FBxVXWNLn1yau3zP729OKX7R5rylfteqwAyg1CGBmf+b0fpZyN65/x9Z996mmbcMjLr77N0fXTdqJokRqreDYaLRV8nrj+1NsZk8cjA5SbWpPB4tdP+/dly7Y0zZy1ffvLMDH3vn9O0cee+qHOxAuoSl88pUug79PCkJSm169yHP9U5D38adXxvVfgPxIPvfpnS/SNNnM9uDkA2EcqADCkpKvC8h2ek8jZNYoaRq5+dqaufnSkpMMS3emt0j1IoJHWMU1YitDAzNAT1f28uTKmtkrehsVi5rX2LwLzBPfur9fYX4b11t7w2X8fe+17K7cqWT5cGeojc9rL8aYzFE1629QpNR8z0qGAGF+GGWbxupza5BFMAmUEoQ6Pl3KLIKVuLBeKVq6jYskejHvhQ/521Wl+sCZ9bNX7uWo2fu1ZS+JZPTgcEa4jFC4WhfTtzNS8o1vvs2hcIn+f/7VP96Knoav+bd2Vm1WCmOFeFJrNperz5ZiFfbXKvX5cNKzL0XqmsrAXgDaEMjdZnNw1XcWH0L9me7ZvrzetOyHl7lm/aretemK0zHqwLXl63SSqLETBDPli8IeeTtGMNX4ZKNXy+un5M7O9368Tax0VJdEFt35u4xEeqWy9Za/X4h8vinI8+dtLvJ6X0XpF2ePi6AKSGUIZGq3XTEi28c7Trub4HttTbPz/R9VyqkglFL01fJSlz+yVe5pj0nWk79lbqlv9+HlVnLNY8t9Ki+vu/HS9z6eKZMG9t2MrXVLeW+mDxBt01YUHM89mM34vXJ+4BBJCa+vt/RyADCguMlt19Ru3z606tWyDQq0Nmy2sMj1PYNdINwUKtBSn8FxprWDYbfvHCbA24/S39e/IK3TU+PCTE6il7dqr7pu71QboV7a96Zqaue2F27fOqFHsvY4X1tdv2yFqbci06L/bmYWN1oLEglKHRc265dPUpvWofG2M0/TenqrDA6PFLB6f9Pg9/d5Dev/7kpMpjJLOqMmTyTSN0Sp/M7e0Zj3Oz62emhIetTTHmhrUsqz9V4SPDz979qRdk/dEJ3SVlZk7Wh456cFJgmHvR1zt0zD3v6clPlsddOLB5137969PlKb93JbXKgKwhlAEOkXOG2jUv1dK7z9DIfh2jrk12n8my4kJ1b9csqdekUpW9VdNi/f2yo5N+Xaat3eZed8zLXHm3oV5rrWas2BLWC/Tp0o1R9cMy6eUZq8Kfx6ix5sXjH32VbnNqPRfR27hnf7WWByfyf7pkY9zxy0F3vq3bxs3XghR3GNhfVaPRf/5Il/8je0PiQGNFKAMkPfvDoTprYOekVtd94/BOKb+f10CX6vBWQYHRQXnaCzTEraaXJNeAG+k3/50XdezlGRU675FPNWHe11qyfod27avSdx6fou/9c1rabY3li7UR86d8uiH3/qoard8R+H6/u3C9lmxIXCNt087Eq1zdwvH+qhotWLtdkxZtSL6hAOLK7P4vQD11bK92OrZXu6ReU5jKhK+gksIC7alJPDfHWbvs6mdmJvUeNqvTvRPvbfnZUvfq790PSNxb+NzUVbrn3MPDji3dEOgJ+u/s1VH1zTLtvjcXasShHbQ/oghrMqE9m1o1KQ5bmbunslq3OHZfqNjivqWT8+ep0sPYuFtPLQVkgeyhpwzw6OSIeVrJlEeI9NKVxyS85pUZFWFDfePnrU3qPbbvyW7pgkTteXG6+1DfIx8sTen9QoEiU/W24nl40lKd98hnUQV951Zsjfma1+eu0ZI0ViZ+sWa7a3FaN5E/e7siVr7Gysuvza6bA7jPw84JG3ZE93buq8rMRuf1xdkPfaKfOxZnANlEKAM8OumQ8FCWzkq8/l1aJbzm7gkL0qotlk5o9OKaZ90r2cfStW0TSdIalx0J3FQFe2m6jR2vbmPH65/ByemL1yUemkuHM1hF1ombuXJrzNdd8+wsnfqn2HthhsQauj7jwY90s8uwrRe79kWEshi9pA++W7ed098/TjzHbaGHArgN3ZxVW/WqY0ELkE2EMsCjPge2CHs+f012i59u2rU/rVD27x8MzWBr0mOtrV11eeHRB3l6zZ487IG5fsfesGD18ZLoVY7pqq6x2r2/Svuqor++56aucnlFtGN6HhD2fHfEKtFY/15wbtEVa19Tp6Ue5qYByBxCGeBRm6YlYc+P63VAjCu9ueH0Pgmvmb1qa8JrLh7mHnL6dW6ZbJOyprrG1obYv76/JKoavdvOCkVpzNlL1TYPe3pK0fPpdjp6qmau3OIauJz63TpRN/0ntV4xSRraI/xnL3Lz857tE9fYq9iSuMfSj5vDp2vSovUpDTPv3MdOBsg+QhngUY/2yZWzSMRLcdpbX5uf8Jo7z+6fieZkVeQq0shq9Hd9c0DUa4oKTVaLoLrxWq4jspdp+ca6eW7nPvypvu9YERqrLl2sYVy33tHIlazFEUOgv5+4KOz52R52Cujp4ef5xWneeu7qk8v/Mc3TMHOk/rdNTHwRkCZCGeBRaVGhnnAUkW1WGli8PLr/gSndb2FkuYUUZXJF4AtXDNOzPxyqbw8uz9g9pcS9DE1KonchKDDG86TyqhTquaXqyY+/iupBOvMvH4c9/2SJ+8pTp1iLH3/y9Iyo54N/947eXVC34jQTH7mXLbzWeBjirO8WrN2ul2e4L0pJpU4gkA5CGZCEUx01tk46pL0euOAI/fHbA1O6l5daUrk2tMcBOrZXO/1iZPTQ6q1n9tMLVwxL6b6JVhUWuKSM/VU1nofPHnxvSeKLPIjsmGvbrCTqmgVfb9eHi9Ov0TV1+WbX429FlPt44/NACYrHHEO+mcgKHVuVJbwmtOLYbXi5oRj95490/UtzXM/1vvmNHLcGjR2hDEjSC1cMU5+OLdSvc0t988gualpSf8v9ndDbvTZbs9LonqvvH989ai6TV7G2XAopdPk/0bY9lZ6L505aFF3Vf19VtV6aviqpIdDIK93KRvxn5mpt9FB4NdO27K57z3Q3Rpek1k0CCy927qtSt7Hj9dL06KHKfp0C8xKHxfjcF36d3cUuQGPjKZQZY0YZYxYZY5YYY8a6nDfGmAeD5+caYwZFnC80xswyxrzuONbWGPO2MebL4N9t0v9ygOwb2uMATfz5iSotSm/j7+N6prdQIBO+dZT7MKVbz1VI66bJ7105LUavkCRN+NkJ6tgyutfGGPf5VW7mVmyLCl93jV+gG16eq5di1EtzExqSDtkVY4gvle9Bunbtq9anSzbqy3U7tD0Dq0DfD1bkD82Hu+Hlufr1q+GLD7YG32fs6L6u9xj1wEdpt6M+Wb+j4Q/nIr8ShjJjTKGkhySNltRP0kXGmH4Rl42W1Dv45wpJj0Scv1bSgohjYyW9a63tLend4HOg0YgssZEP7ZuX6o1rT4g6HpnJOjuGukb0TbxNUqR4Cxb6dW6pHu2iFz0YI53jYcJ6SGSv2lOfrZAk/entxZ7v4bVXLR8FVFdv3aPvPDFFI+//MGpifyraNQ8MzTr3Dn02uKn8kvU71W3s+NrnJW5dmUFfZLk0TCalW3h4ZgY2k0f69lZW66Tfv6+Pv9yY+OJ6xktP2RBJS6y1y6y1+yU9L+nsiGvOlvSUDZgsqbUxppMkGWPKJY2R9ITLa/4VfPwvSd9M7UsA6qdcbNkzIEaR2lvP7Kd/XH60ju3VTmXF0T1+zmwyrEdbvXHtibXPWzWJ30t0SsTOB164Dcfd+foC14nmfWOE2Vi9ak1dhmJj8ToqGCpkm017K6v18KT05srdfc4A9eno/v366fDektx7A0/90wdhz+P9rP7qlblptDDz4i0qOen3k3LXEGTN0g07tWLT7qhV3A2Bl1DWRZJzskFF8JjXax6QdKOkyH9adrTWrpWk4N8dvDUZaBhCv+ZiBadMiFU9vrDA6JS+gf/kEm1c/vwVx6iVY7guslr8pcccHPb8L98Jm73gSVlx9P+K/jdnTVL32LHX/Zdxmcsw87Y9lWn1mrhtP5RpD72/RPe9mV6P2AVHd9W1p/aOe82jHra9irc5xLzV28Kez1y5Jac1vay1tUV9P1i8Qf1vm6jJyxKvfnVTWV2j3/x3ntZvdx+m9Ol+9I1OqKe6tKjhTYv38hW5/ecY+aPpeo0x5kxJ6621M1zOe2KMucIYM90YM33DhvRXPAF+0Sk4JDiyX/LDgSGJdlJy1kL77dmH1T6+bVzdcKJbcIucW+XUvkVp2PPQMGFIKv1/ySyWiDX5P1bdr+JCo8nLNumO/82vHZ4c/cCHrr0m6WydlWlzKrYlviiBwgKjMwZ00vJ7x0R9ztU11rV30W0I1xijn42IH+72Vlbr9blrdO7Dn+rW1z6Pe20mffeJKRp4x1tasWmXrvx34FfNBx5Xx0auCn53wXo9PXmlLnhscsbbicz5bGkgdHsprl3feAllFZK6Op6XS4r8J2ysa46TdJYxZrkCw57DjTFPB69Z5xji7CQpevmUJGvtY9bawdbawe3bJz8sAvhVh5Zlmn3rSF1zSq+U7/HEZYPjnv/dN+sKy549MLKDOzVXnNAj6phzSDFeoMuE1TEq0ccKa/urrS58bLL+8clybQ1W7I9VfyudKvuZlomyG06FEUOQT3223LUO197K6GNrt+7RL0YeohZxPtvbx82v3Q/1owzP9dmwY58G3D5Rn0f0ys1YsVmfBn9Br9i0u3ZrLq9FbyN/ZkKV/r/a6N6LmsauZ8igVHtC6wMvoWyapN7GmO7GmBJJF0oaF3HNOEmXBldhDpO0zVq71lp7k7W23FrbLfi696y1Fztec1nw8WWSXkv3iwHqm9ZNS1SQxsbhwxNMui8rLqztTXOWubhoiLf9J90UuUz6HnRw+ounfzHyEP3k5J4Jr4u1J6ZbGQ8pUBw0JHLu2qrNu7V4XV0R39Av+IZof0QAW75pt752CaduW0QVB4eJurWLvQvA+Llrax9v2LFPF/zts1SbGuXDxRu0Y2+VnozYRN25F6lzyDRRCZaQyJ7RYsfPtluP4eqtuz3dtyGz1urLdfndqH799uxPH8iXhKHMWlsl6RpJExVYQfmitXa+MeZKY8yVwcsmSFomaYmkxyVd5eG975U00hjzpaSRwecAMuxf3x+iUYcdGDZ81bJJZnuzjjoo/VD2sxG9deqhqQ/lxqqQ71RdY8N+2Z5w3/s67f4PtXRDYLVhpr105TEZv2cmnfyHSVHH3HrKugfD2NY9scPOjoh5ZFO+il0GJVWRPVvGMVj+wDvhq2z/5mGuXOTw7auzVtc+XrohurfsrxkqUlyf/Xf2ao28/8OwVbu58MA7i3Xuw4HV2IvyHAqzydMsOWvtBGvtIdbantbau4LHHrXWPhp8bK21VwfPD7DWTne5xyRr7ZmO55ustSOstb2Df2f+v2CggRret0PMPRUjndC7vR695KjwFXQZHoZxq3yfimQ7Defeflrt4zMeTFwzK1bts9fnrHW5OjlDu7eNOpbNRRzZsmt/9CT9ds0D8whXbXYfOr4oy3OwXpkZqDU3LmLxh/NHOrIH9Z43Fia8r7OnbPveSi38uu6XvevQbh5KofjNguD2cLkORg+886VmrtwadXzr7twXcs6mhrd0AaiHurRuUvv4O0PjDy1Ou/lUPXJx8iscJdXuaVnkYducbwzsHLNoaKSTUyiD4aY4Tj0sNy3Lkivi+sa8r1VZHR3K7n/Hey2zWK5ymRsYWUli6q9HpP0+XqUalHfvi7211bhrjnM9/lkSc3yqqmu02ePwYsj6GKtdnf/QKDBGR0UMozuHNN22+nL2rh5++1vh51yGL8sd/502VtODhaDTrfmWKT95ema+m5BRhDLAB1qUBYYTfzWqr5onmCjfvkVpyrsJvBisbv/CtPAq91N+PUKzbx0ZduwvFx2pK09KPMdLSr3m2qtXHRv2/LDOLVO6j1e3jZsfNocsk046pL3+d83xYcdCw2svXDFMf/3OkergsnNBtpw1sHNKr/tNnJWTh5e3TrE1dX43foEG3fm2tiQRzJasd98n1tmzWlhgolbgPvx+3XCjW8iKnGPo/PlzGw5PdZuxhiTUWzVlmT8Gt5L5B0F9QCgDfOCJywZr7Oi+uvKkHnGrykf2BCTrh8d3lySdOyh8JWbHlmVq3TQzQ5DJODJiLpoxRpcf283Tay8Y3DXxRS7+PXlFwmsOiOhl+unwXmG7GsQyoLyV/nzhEbXPQ6FhaI8DdObhgZD00Y2nJLzP447Nx1PVL8WAOyfLZQZChXePvPPttO/lnCe5r7JGayMWLjw8qW5emVuB4sihbOdODZUuqez4Xu57xTZGy2KsUM22VOd+Xv3szKRrH+YDoQzwgfI2TXXlST1ljIm77H5njAKpXrUMVuNPt+ji6YelPiE/pCjGBDKv+0re4ai7loyXZyTeCzNy9d4vT+ujT2+KHnp0273g5EPq6mC7rVTtmqBYr6SMVCo/pU/Dr8ft7FVeHaNOXYjbv3VWbg5fTbnXMS9tl0sBXLd5Zqgfxs9dq58+NyvfzUiIUAb4TP8usXs40p1cG4pB6RZJfeS7R9U+TnXIMVZdse17vAXPZOefZcPNYyK3AU5+Zauzllwmed3Hsz7bE2PDeDduCzxC+3+GOOegXfL3qVHXP+2hlzUbqmtsWPkPNFz5/78agDDfPKKL3v3lSa7nmrjsU5mMY3oG5sQc1zO9YRhnbbVQzbMfn9hDPeLUsZK8TT4/rpe3eTuxtpDas79az01d6ekesYw67EBP17nVRkt2fl26n2kskXXJ8s1aqxtfnpPReyZTed/tHyKRuzqEigvHEtqaLFMqq2t09TMzE9b9+t34LzTwjre022VlbEP35Mdf6UdPRRV0SGjCvLW1JTTqE0IZ4DPGGPVs3zzs2A+Cc8F6dogfehIZ3K2tFv1ulI7N4NyYi4cF9r686YxD9d71J8e99sUfD6tdaRprCDRWSIm1EbnT19v26r6JC9OuzF/oYXWqFFjxl4oTetd9/7O1L33nVv5aKbhi0+7ahSbJ2LQzM4VCvdSxS+T3E9PbizTS63PXaPy8tfreP6fFvGbV5t16fmpgh4JdcVbGNlS/ff0Lvf3FuqRfd9UzMzVz5VbXVbd+RigD6oE2wXlWBzQrTXBlYqmu3MyEXh1a6JOxw7X83jH62yXuW0S5zcOSvM01G3bPu/rHJ8vTaaIkqcTRhnhhMNVA9e8fDK19PKJvR/Xr1FJvXHtCajeLIZmdIuItYrgsYsP5Jy8PfG43eSyXEnLx36ckdX3Ix0vCt2x6abq3LZQifeHY2UFyL5HhhdsuCKn6w8RAKZaKLXvU/7aJrvPYTrjv/doabH4Ykj77iNRW9WbT9r2xezh7/HpCvephJJQBPhUq2CkFFgJI0sDy+leMNFmxgk4ufx8VO3rKvh/spXQTKnkRuVrzi9+eri/vGu3pvVo1LdaEa0/QoZ1SXC15a10B3YFdW6d0D7dFDCGRw7HD+3bU8nvH6Mcey6W8/cU6XfnvGdruMidqR5xfprHe362AqBcXPR4+1BlrTmMif/84/ZWxIc4FNzv3VYUVr3Xjh06fgz0sVMm1ZS67LzjNSvFnJh8IZYBPjexXN7x31sDOuvucAbp6eOqbl2davAn+LcuiJ7t7ndAeqwcjl6HMOV/t247SGyURq1ZjBcimJUU5W4jQqmmx/nv1cbru1N46weOwtJe9T4f1COxQkO7w6o+emq4353+t7S4rhwfc/lbY3qRuIie4h+ZFehWrd8lt4n8sFw2p+xl4enJ68xXDRHxvb3gp/py7jTv3adQDH2rV5vztwen2c723slo3vzovrcUI97+9WJ8uDe8V9Tp0nei6yFIpfkYoA3zqtm/UrewrKDD6ztCD8jr0GOl/1xyvZXef4Xru9rPCy1X88PjutXPPEjm6W/R2RZJ73ShJuuH0Pp7um4yyGPPaIksi5HM06dGLB+m0YHA/omtrXXfqIZ4DlJfhnKKCwK+HePPmbj0zevWpk5fhtvMe+TTu+eUR9bCSzYixsteOfd4CxI9P7KHfOFbZ9urQPM7VyYlcPZqo9ters1Zr4dc79PeIjdlzyW2+5QvTVumZKSs18I63XF7hzZ/f/VLfeTx8iNstyLuZujx+Ids7X/8i5XblGqEM8KlYwcAvCgpMzHlLZwzoJCkw7+idX5ykm8ccmtR93cxaudV1t4PIocNM6BJjO53rRhwS9twGNxHN1mT9eEb176THLg2fl1fextvk/o0eeiBCqxV3xyk7EW9oN/A+iav2JxpG7NMxfE5fst/rdxckP0ncqX2L0rCeU7d5X5Hv98sXva0yTfa/8VDGDRXgzYa9ldX641uL9LcPlrr+nBiXWLw8zS2X3MJ7TY3V2m3xa8+FtElQ+Lo+lRMhlAHIuLLiwtp5R706NE95Gyankw5pr5m3jIw6no3OqlZN3BcV/GxE3fDxoINa1y4IiNW7l2vf9rjLwSYPYenA4OT/Fi5D0U5nDIhdPsRLT9n+BJt83/jK3LDniUJRpCv+PcO15MS7C9Z7en3TkqKw3sLI3qy12/aox03j9fnqbZKkH/xreu0G6umYV7Etqnr9l+uzvwn4j56arr+8t0T3vLFQVz0Tva+kdfkvLt3FNYvXRW+jdf3Lc6J6zmJJtDVdfUIoA+B79513uP707YGutclGHJr5yvWxNmx3hsuT+3RQ66Yl+stFR+q3Z2emAOyYwzu5Hu/Z3lspFK/hN9HEaEkaO7qv+h7YQpcl2PbqT98+wtN7xrNu+151GzveU8X1X70yL+lViNOWb4k65rVsipWNWRNPkt5ZsF41Vno2hdp48b6OuyZED7l99OVGlytTN2vlFnUbOz5sP1jne7jtT3rfm5ktCyJJd7vsYPGfmas9v37Fpl16bbb36/2MUAbA9759dFcd0LzUdT5RrF6tdIwZkHjZf6hMyTcGdlb7FsmXKjn9sI61e5GGfCNGKHvxx8do+b1jkn6PWLwUlu3QokxvXndizKHckLLiQs257TR966hyvfKTY8LOeV3hGCpX4XVvwu43TdC/P1vu6Vop9obmXvRo11xumWxuxVa9PndNbU9fKluXVVa7f3+Wb9ylyTnY8Pt/c9ZKkj5cvMH1fOR+ocksjkjGBzHe36vHP/pK1z4/29O1T378lbqNHR+2pZafEMoAH7vh9D66/rRDEl/YSLh1BLnNcXHzx/MHen6f0CpL56q7kBd/HAge6Rbg/dslg/WbiInyo/p3igpfN5zeRwc0T78+XTa1alKsP5w/UEcdHD6MO2HeWk+vHz/X23VOt7w23/O1zmK9yerXqaVrD+RZf/1E1zw7S/uqAr/cI1fmuhk/d61+ECwU+9nSTVH7dR7aqaX2V9Xo5D9MSnivTNQsCw1FxlrMERnCshXKMqXb2PH6KsFiiXveCPTKbdmdeAg/HwhlgI9dfUovXTO8d76b4RtuvxyLPVbfT/Z/wsvvHaN7zj086viQ7m21/N4xUbsuZMvVp2SmDMr/rjk+I/dJhlttMjeRBVm37t6vbmPH67Olm5J+zx+4LD5IpzyJSfDSdcG2xxoSfueLdfrnJ4HVklc/O1PvLgzMZYusmyZJV5zYXX9+d7Gndm3Ykf5OBy/PiD/3LXIHgcitqrJRzNZL7bp4IstqRAr1TlbF6KXMN0IZgHrN6zyqeEN2iYboGoIB5a30xW9P1+xbwxdLeKlZlqqVHutpRZYaeTJY8sEtuCTiFmLd9r10irdna6KttEI7DkRuBRSaj/XDp6br9v99ofU76oJnvDDzwjRvOxZ46ZlLZEew5MSsVVtdzydapZuNnrN4q32dhsRYXOM1J+Zi0UQqCGUAfCdR71fXtsmHqBZlseee/e+nue9FyqZYw3VNS4rUOqJ8wK9GZb7OW8h/Z3ubIxY55JTKHL2Qts1KtPzeMWrXvO7rTBQeBndrE/NcoUsoc95v+Sb34Lljb1VY+Bpy17u1j7+MMcft5y/M8VRGxGn+mm2qytHm82sihluzMZrpdRurshL3ciKRtd9i2bLLn2UyCGUAfOf602IHhWd+OFSv/OTYsGMPf3dQwnt2jPhF/5tg7bRHLz5KbZuV1PaW3H3OgGSbm3OT42yLtPzeMWF7ayYSGdLSNfG6E5N+zYaIHpkDM7CZunPFZKJ6YD3iDEW7dZRVOQoZxwt8P4sx+TxRz50XKzbt1hdrtmvMgx/rgXe+TOte7wR7+dx68Jas36n12wNBKXIYuMZaLfw6/o4MybruhdmernNbGSoFitBKgRI68XRqHXu/13wilAHwnR+f1FNzbz/N9dxxvdqpQ4vw/6EO7Z64TljkMNToAYFJ9aP6B+psTbj2BP3tkqP0naHZG85L1/w7TteUX4+orSGWSVNvjh30ktEnzgbusXjJKFec2CPhNc7SIc75UDvj1Da74sQe6hTn++kWyj5a7D5vKXKnhFirSad+lf7KyrMf+kQrNwd6GBNtVZVIqGe1+00Tos6d+qcPNOTud6OOS4HPbdQDH6X13pESTdQPWexSe06q+6wTBd92Pl08QygD4Est4ww3Rmrroar/SX3C/+VcHFHnoKy4UKcfFrsQqh80Ky1Sx5bpB7LQ9kyXOLa+6tCiLGNlN+IVlPXiR09Njzp2ZoxyIU5LHZPtnfuvut0v5FtHldcGczfFwe2mHnfsnvDDGPdzTvbfHGdhyfrt6U/Sl6SH3l8qKXZdPa+8/PcjRYdnt+Aza2V4TbjPV2/Tdx6fXLtKNVPOObJL3POJarox0R8AkvTnC4/Qy1cek/A6L5P9o4deUm5WvfenC47Q94/rntT2V8k48/DEdd6SVd6maVLXf8vj7galRQVx95QNbfs1Mhhk45m8rG61aLwgGGsrsWSFNtreW5nenLKtu73Nr4qs5l+xJXobpFBQDLn51Xn6dOkmfbHGe2/eS9MTL3Y476hyDejSyvM9I63b7s9NygllAHzr7CO6aLDHLYzuPPswTfjZCXrt6uNiXnPkQa1rH3ds6c/hi1xoXlqkW7/RL2v7q6ZTriHWHK3QhPv+XVp6uo+X4U4p0PuYKc6Cr/G+B5H7eaYqtDoymeKr3/jLx7p93Pyw/SDfnP+1p9de82z4jguPf7Qs6prIHrE5FYHtp2IVEnabx3bDy3Ndrgy3Ycc+3Xte6vM/vxesF+c3hDIADcIlx3RTv84tNbBr69pj3x5cHnbNq1fVBbZM7MfZEB15UGvdc256ix1uG+e9sGukK+L0MEnS56vDe1x+9033La68frqhuUUj+3XU4eWp97xI3vflfOPz5IvlZsq81dv0z0+X6/kUtoWaF9zfM2TR19HzumING8ban9Lrrg+RDu3UMub2V9mon5YrhDIADdY95x6ukf066l/fH5LvptQbr151XNq1y0b0dd+P9JCOgVWO8UqaRFa5Dyktdv91dWgn956zZH8tP37pYI1Ls8Bu307eesCcw5y5NMdRjyxWKY9kRIa0eCYtcu/Ni6xR58XCO0epe7tmMWvI1eepCYQyAA1WYYHR45cOTrg83m9+fJK3oTe/6h1jeG7QQYF6YD85KfYuBaG9JCPF6hXp1cG9nEV1HiZye13Rl2wtskw5+6FPah/nujfp/95c6Hr8veAOB16Vt2lSO+wea2pefe4DJ5QBgM+EqtLHGvLxu1jFfw8+IFCyomPLUh3hGGZ2WhajJIJbEdeSwoKYG9JX1uSmoKrTsB4H5Pw9U+VcOemlWG+3seOz0o7IeWrxjLvmOI3/6Qm1z2NNQQjtslAfEcoAwGdalBbpB8d31/NXDMt3U1LSJEa19StO7KF/fX+IRhya/JCy24rFyK2znGUwUq1DNf+O03VQ2+RWeob84sXZKb0uGZmqJ+fsKLv82G4ZuadXO/dV6b+zVkcdT/SZdWxZplZN60J4rOFLtzl7N5yevZ0rMolQBqDBefoHQ/XYJUfluxkpM8boljP7qX8aS/7z6dwjy12PFxaY2qFktx6uWD2Dz/3IWzg964jwUhyvXnVsjCtja1ZapB+dEL2puRcrMjBPK5EmKa6YjdyKaYVjX9JNO/driss8t1TfK7QDwGuzw4NXqA2/eXWernthdtgcN8m9UK9TZD21WCt1F6yNXoBQmoG9QnOhfrQSAJJwfO92Os3nhWAbskR7l4ZE/tKPVXk/Vs9bSKhn67DO4SE21tBmIgtdVhX6RaIN0mOJnGjvXCn65Cdf6YLHojd/T3U7qHXB4riPTAqvWXb+3z7Tll379XUwtO2K2AEhUfm2yCHs5TGGuj93WYAQ2avqV4QyAI3KF789XXNudd/CCZkRa1J+qtcdmmBV4wc3nKzXrj5OFx4dXjDW7f6/GtW39vEPjnfvEXtmSvLlIuobL7XS9sVYdFHeJv7epH/7cKmqa2xUuJ21cquOvPPt2tB2e0TpFLfA+ecLj6g7H/F5FsYI/25lNt6YF16L7Scn94z9BeQRoQxAo9K0pChsXgoyz2vF+mN7Jp4Y/+wPh8atuC8FhnsHdm0dNfHbrYDrZcfWbS11y5n9PLUzX7q0jg4/kTtTOH26dKO6jR2vz5ZGD0VGlhRJp2juk5cfHff863PX6pUZFTHPh/a3XLxuZ+2xbwzs7BrKzj4i9nZKXROEQ6fIH8ndHmvK5RqhDACQUZHDTO2al+hWlwAU7xduyMHtmiW8JpZNu6JLTxQV+OvX3m3f6KfPbhoedXzS9SfrgxtOjjpeUlSgds3d96r8zuNTJEmX/H1K1LnI3RtSLdoqydNCiMjN2RPpdkDTmHPKYu3i0CGNfWD/9dmKqHl2fuCvn04AQL3n/OV66qEdNP03I/V9l6HCPge61xjLlENchui8DJm2yWFP6oAurdSpVXSPT7d2zVQUo1fs7nOid1xYsalufpXbXLCSiHu1jxHsvHALT5GLKh5498uk7jlv9baY8+We/dEwvXndCVHHk5ldt3t/9IbosYZn84lQBgDIKOcv1ycuiz3U5WWT8XQKgbpN9PcysvrdoYEhzmtOiV3kNlNS6a9y+7qc2xvVWGnJ+vD5XEUR86827069gK1beIqsO+d1k/OQ+Wu2a+Vm99WrLcuK1ffA6N6yRHX87nVsF+YWcKvyUGA4EUIZACCjijzOKcs2t1Z42fP0mOBctyHd24YdP2NA5lf0prLAMTJgSdElH07904davnFX7YrWyPd5enLqixki57VdO6J32nvJtm0a3XN31MFt4r7GGKPl946Jeb67Y+j76lOiJ/bvq47uPcs3QhkAIKOKCgvUtlmJOrZMrYBrpqSaE47r1U5zbjtNJ0Zsz/Xwd1OvfVdWXBC1OlRKbbsjtwAUOWdMkk7+wyT1v22ipNTLW3jx85GHpH0Pt8Uh93/7CM+vP/PwTlHHBnerC9VuCyR27vXfZH9CGQAg42beMlJTfn1q3GvcgoTToZ1aetoCKJZ0em9SrXEWy1Un96rdZsrpwFbxJ6u7DdEdHJxof+qhdRu///S5+NsVJTOvv0VZ7rf36uGyoKNZqbfitcvvHaO/fmdQ1HFnznMLv5c+OdV7A3OEUAYA8J3l947RG9eeELcERCKRmSzZrZ0yqcbasOE0KTA53i2oOQPKIR0DiyG+Pbhc/7vmeEnSAc1LtfzeMXHn60VKpkfuHwlKXmTDbWdFr86tTHPOlzFGTYOFh91CacWWPWndPxsIZQCAvPv+cYm3Nrr+tOSGyZwT0v/xvaNrt3jKFC911iRp0EGt9Z2hB+mwzuGT1Y88yH3O1J3f7F/7OJQlLji6qwaUp77tlteesgITPuyXKx1aRPcYpjM1MbTK9uUrj9Woww7U4Wl873KJUAYAyLse7RPXI7tmeO+k7un8nX5Mj7oA9bdLjtITlw5O6l5u7r/gCE/X/eeq49ShRZnnHQz6daoLb3UdXOkunvCWytIoX5ay6051/1y9FiEOcW6sfnWwYn+/zi316CVHua709cuCFCdCGQAg7yJXOmaas9fs9MMO1Kn9OqZ9z47B4qWR5SBi8TLF7fFLB6uNY+PtUEZKc3FjxsOWs9xEIucNct+gPiRWfbIDmiVXS22QY7VmpYcvOJ0CutlCKAMA5FXvDs3VrnnmV2o6f9dnqlfkZ8PDa5ctvfsM/ecnx8a42rvQ0GbbZuELDH7/rcM16rAD1b9zesNve1yKp6ajeRKLAf7vvPgBLtZHk+xCjfcXrq997LbVVKRuBySuk5drhDIAQN7Mue00/e+nxycsBBrSorQobHgvntAigYuHHZT0UFgskUGhsMB4vneTOKtNm5UEvv7Iye2HdGyhRy85SiVF6f26zvRKw9B2VS09hLOiwgJ1iLOKNt0aZyE7HftZzl61NeZ1vxlzqCTp6DzMnUuEUAYAyJtWTYpVVlzoOXTMu+N0Tbg2essdN8WFBZp/x+m646z+iS/26JWZsTfaDnnxx8e4Hm/tUiA1pF+wpyzTpTgk6bXZq2sfRy52ODiit2iMS72v+751eNSxBWu3S5K2e6z1NfXmU3XNKb10XK/oxRFvfv61p3skcniX+L2Jn44dro9uPEVnHdFZrZsWu279lW+EMgCArzx5efqT8EOalRZ5nmDvhZcyCkO6t41bad7Nr884VC/++Bgd6rEXMOTZHw5NeM21z8+ufRw57Pjsj4aFPf9ZcDHFVSfXVcD/9uC6orev/CQQOEM15pqV1PX+PX/FMD3y3eh6YSHXn95Hz/xwWNTxeau3JfoSPPnpiPgLQTq3bqKubZuqQ4syzb71tKS/17lAKAMA+Mrwvt4m4Y/un/ltj1I1rEd6Q2ElRQUpLXY4tle7pK4PFZ4NcYaq332zv/ocGNjEvX9Er1Nozl/X4OtD87GO7133/sN6HKDRA6J72iJN/038osKSdOfZhyW8Jp6xo/um9fp8yX3ZXgAA0jTnttNqC4P6wbAeB2jyss35bkbSmgbnsp07qIsuHnZw7fFQOPvj+QMlRa/+DA23nnl457j3v/+CgVHHvCzquOSYbgmviacszTl4+UIoAwD4hrOeWDzZmHuVjkRbRvlFZBGIkqICTb15hNpEzHfr2b65Ft45KubXdfABzbTs7jMSLnIoK8rP98V/xS68qZ9REgDQ4My+daT++f3cb/GTCYUZWkGYbc1LizT/jtMlSQOCQ5QdWpS5bmflDGS/CG467gzDXlad5isczavIzDy1XKOnDADgC/FWJ/qdW0C5aEhX9erQIg+tia1L6yZqVlqkObedptIkhvguGnKQLhpyUFLv1aKsSCNTKNLbp2Pq37M/nD9Q1780R+cmKFjrV/SUAQCQplAm++7QuuByz7mH6wc5LLtwvIdJ/5OXBYqqhkqRZMPgYGX9e84dEHND+TEuCwJaBGvVpfM9+9ZR5Vp+75iwBQj1CaEMAIA0hcpuxNoyKNJRji2BMmX0gMSrUVdu3p3x9400fcUWSdLS9btiXtPPsTn7NacEdkmY9ptT9Y/Lj9a3j+4a62UNHqEMAIAkdWndJOz5yH4d1aS4UN8d5m2Ir13zzA/VlnqYVH9aBvb8TGRE3w6SwoNXpLaOfS2bBFfRlhUX6pTgaxsrQhkAAEmK3IGgU6smWnDnKPU90FtB0pMOyXz4OOrgNvrH5UfH3YbqsmO7Zfx9I4V6DavjbPjtXBiRqX1JGwJPocwYM8oYs8gYs8QYM9blvDHGPBg8P9cYMyh4vMwYM9UYM8cYM98Yc4fjNQONMZ8ZY+YZY/5njPFfaV0AABy+dVRgAvnlaYabVCbAx7LkrtF695cnqXu7Zjqlbwf9+wdDXK97/NLBGdtnMp4ubQK9iHH3M3U0I9a8s8Yo4epLY0yhpIckjZRUIWmaMWactfYLx2WjJfUO/hkq6ZHg3/skDbfW7jTGFEv62BjzhrV2sqQnJF1vrf3AGPN9STdIuiWDXxsAABn1h/MH6sZRfdShRVla98lk4duiwgL1bN+89nmseW256pH61ai+OvKgNq77XIY4W1JcTwu9ZoOX78QQSUustcustfslPS/p7Ihrzpb0lA2YLKm1MaZT8PnO4DXFwT+h/sw+kj4MPn5b0nnpfCEAAORCOoHsmR8O1bE9D1CzeL1IaYpVPyyTe4DGU1ZcqLMGdo7bK+c816Nds1w0q17wEsq6SFrleF4RPObpGmNMoTFmtqT1kt621k4JXvO5pLOCj8+X1HiXWwAAGoXjerWL2gQ802JlLz/N3XK25Lgk9+9syLyEMrdPMXL2XsxrrLXV1tojJJVLGmKM6R88/31JVxtjZkhqIWm/65sbc4UxZroxZvqGDRs8NBcAgMarpsb9eOTihHxav2NfvpvgS14+oQqF92KVS1qT7DXW2q2SJkkaFXy+0Fp7mrX2KEnPSVrq9ubW2sestYOttYPbt2/vobkAADRepcXuv9qzURstVV4K3TZGXga1p0nqbYzpLmm1pAslfSfimnGSrjHGPK/ABP9t1tq1xpj2kiqttVuNMU0knSrp/yTJGNPBWrveGFMg6TeSHs3MlwQAACTpvV+epBorLVm/IycrL70aUN4q303wpYShzFpbZYy5RtJESYWSnrTWzjfGXBk8/6ikCZLOkLRE0m5J3wu+vJOkfwVXcBZIetFa+3rw3EXGmKuDj/8j6R8Z+poAAGi0nNmrS5smKi0qVK8OzWO/IE/G/+x4Ld0Qu+p/Y+Rp+Ye1doICwct57FHHYyvpapfXzZV0ZIx7/lnSn5NpLAAAiM9Z2b/QR71jkQ7r3EqHdabHzMk/s/4AAEBG5aoMBjKDUAYAQAPlp3lkSIxQBgAA4AOEMgAAGpg7zz5M3amUX+9kb58HAACQF5cc002XHNMt381AkugpAwAA8AFCGQAAgA8QygAAAHyAUAYAAOADhDIAAAAfIJQBAAD4AKEMAADABwhlAAAAPkAoAwAA8AFCGQAAgA8QygAAAHyAUAYAAOADhDIAAAAfIJQBAAD4AKEMAADABwhlAAAAPkAoAwAA8AFCGQAAgA8QygAAAHyAUAYAAOADhDIAAAAfIJQBAAD4AKEMAADAB4y1Nt9t8MwYs0HSiiy/TTtJG7P8Hkgdn4+/8fn4F5+Nv/H5+Fuqn8/B1tr2Xi+uV6EsF4wx0621g/PdDrjj8/E3Ph//4rPxNz4ff8vV58PwJQAAgA8QygAAAHyAUBbtsXw3AHHx+fgbn49/8dn4G5+Pv+Xk82FOGQAAgA/QUwYAAOADhDIHY8woY8wiY8wSY8zYfLenITHGPGmMWW+M+dxxrK0x5m1jzJfBv9s4zt0U/BwWGWNOdxw/yhgzL3juQWOMCR4vNca8EDw+xRjTzfGay4Lv8aUx5rIcfcn1hjGmqzHmfWPMAmPMfGPMtcHjfD4+YIwpM8ZMNcbMCX4+dwSP8/n4hDGm0BgzyxjzevA5n41PGGOWB7+vs40x04PH/Pv5WGv5ExjCLZS0VFIPSSWS5kjql+92NZQ/kk6UNEjS545j90kaG3w8VtL/BR/3C37/SyV1D34uhcFzUyUdI8lIekPS6ODxqyQ9Gnx8oaQXgo/bSloW/LtN8HGbfH8//PRHUidJg4KPW0haHPwM+Hx88Cf4vWwefFwsaYqkYXw+/vkj6ReSnpX0evA5n41P/khaLqldxDHffj70lNUZImmJtXaZtXa/pOclnZ3nNjUY1toPJW2OOHy2pH8FH/9L0jcdx5+31u6z1n4laYmkIcaYTpJaWms/s4Gf+qciXhO618uSRgT/JXO6pLettZuttVskvS1pVKa/vvrMWrvWWjsz+HiHpAWSuojPxxdswM7g0+LgHys+H18wxpRLGiPpCcdhPht/8+3nQyir00XSKsfziuAxZE9Ha+1aKRAMJHUIHo/1WXQJPo48HvYaa22VpG2SDohzL7gIdr0fqUBvDJ+PTwSHx2ZLWq/A/+j5fPzjAUk3SqpxHOOz8Q8r6S1jzAxjzBXBY779fIo8f1kNn3E5xtLU/Ij1WcT7jFJ5DRyMMc0lvSLpOmvt9uCUCddLXY7x+WSRtbZa0hHGmNaSXjXG9I9zOZ9PjhhjzpS03lo7wxhzspeXuBzjs8mu46y1a4wxHSS9bYxZGOfavH8+9JTVqZDU1fG8XNKaPLWlsVgX7BZW8O/1weOxPouK4OPI42GvMcYUSWqlwHApn6sHxphiBQLZM9ba/wQP8/n4jLV2q6RJCgyD8Pnk33GSzjLGLFdgystwY8zT4rPxDWvtmuDf6yW9qsBUJd9+PoSyOtMk9TbGdDfGlCgwYW9cntvU0I2TFFqRcpmk1xzHLwyuaukuqbekqcFu5h3GmGHBMftLI14Tute3JL0XHPufKOk0Y0yb4Aqb04LHEBT8Xv5d0gJr7Z8cp/h8fMAY0z7YQyZjTBNJp0paKD6fvLPW3mStLbfWdlPgd8Z71tqLxWfjC8aYZsaYFqHHCnyPPpefP59srHaor38knaHAyrOlkm7Od3sa0h9Jz0laK6lSgX9B/ECBcfd3JX0Z/Lut4/qbg5/DIgVXuQSPDw7+R7VU0l9VVwC5TNJLCkzMnCqph+M13w8eXyLpe/n+Xvjtj6TjFehWnytpdvDPGXw+/vgj6XBJs4Kfz+eSbg0e5/Px0R9JJ6tu9SWfjQ/+KFBNYU7wz3wFf6/7+fOhoj8AAIAPMHwJAADgA4QyAAAAHyCUAQAA+AChDAAAwAcIZQAAAD5AKAMAAPABQhkAAIAPEMoAAAB84P8B9da426ytBvMAAAAASUVORK5CYII=\n",
=======
      "image/png": "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\n",
>>>>>>> d22a6c4f71ffcfe88e87f8f7402568f1c6e91048
      "text/plain": [
       "<Figure size 720x720 with 1 Axes>"
      ]
     },
     "metadata": {
      "needs_background": "light"
     },
     "output_type": "display_data"
    }
   ],
   "source": [
    "plt.plot(loss_trajectory)"
   ]
  },
  {
   "cell_type": "code",
   "execution_count": null,
   "id": "6eb1d239",
   "metadata": {
    "ExecuteTime": {
     "end_time": "2023-04-13T20:07:32.456495Z",
     "start_time": "2023-04-13T20:07:32.456484Z"
    }
   },
   "outputs": [],
   "source": [
    "#Monte Carlo Step batchwise-R\n",
    "\n",
    "B = 1000000 #Need to change\n",
    "step_size = 1e-2 #Need to change\n",
    "\n",
    "batch_size = 32\n",
    "n_epochs = 10000\n",
    "patience = 20\n",
    "accepted = 0\n",
    "total = 0\n",
    "AR = 0\n",
    "# alignment = torch.nn.parameter.Parameter(torch.zeros(len(index)))\n",
    "# loss_trajectory = []\n",
    "# prev_loss = loss.t_get_rmse(reference_pred, train_ldos, pred_xdos, perc = False)\n",
    "# best_mse = prev_loss.clone()\n",
    "\n",
    "\n",
    "\n",
    "Sampler = torch.utils.data.RandomSampler(index, replacement = False)\n",
    "Batcher = torch.utils.data.BatchSampler(Sampler, batch_size, False)\n",
    "\n",
    "prev_loss = torch.tensor(1)\n",
    "\n",
    "current_rmse = torch.tensor(100)\n",
    "pred_loss = torch.tensor(100)\n",
    "\n",
    "print (\"Initial RMSE is {}\".format(prev_loss))\n",
    "trigger = 0\n",
    "\n",
    "loss_p = 0\n",
    "\n",
    "with torch.no_grad():\n",
    "    pbar = tqdm(range(n_epochs))\n",
    "    for epoch in pbar:\n",
    "        pbar.set_description(f\"Epoch: {epoch}\")\n",
    "        pbar.set_postfix(pred_loss = pred_loss.item(), lowest_mse = best_mse.item(), current_loss = prev_loss.item(), AR = AR, p_loss = loss_p)\n",
    "        #MC\n",
    "        for i_batch in Batcher:\n",
    "            new_alignment = alignment.clone()\n",
    "            new_alignment[i_batch] += (torch.rand(len(i_batch)) - 0.5)* 2 * step_size\n",
    "            new_alignment = torch.clamp(new_alignment, -1.5, 1)\n",
    "#             reg_features_i = torch.vstack([Features[i_batch], reg])\n",
    "            shifted_target = manual_call2(Total_splines[index], xaxis, pred_xdos + new_alignment.view(-1,1))\n",
    "            shifted_reg_target = torch.vstack([shifted_target, torch.zeros(n_col,train_ldos.shape[1])])   \n",
    "            train_weights = torch.linalg.lstsq(reg_features, shifted_reg_target, rcond = 1e-10, driver = \"gelsd\").solution\n",
    "            shifted_train_preds = Features @ train_weights\n",
    "            loss_i = loss.t_get_rmse(shifted_train_preds, shifted_target, pred_xdos)\n",
    "            loss_p = loss.t_get_rmse(shifted_train_preds, shifted_target, pred_xdos, perc = True).item()\n",
    "            pred_loss = loss_i\n",
    "\n",
    "            criteria = torch.exp(B*(prev_loss - loss_i))\n",
    "            acceptance = torch.rand(1)\n",
    "\n",
    "            if acceptance < criteria:\n",
    "                alignment = new_alignment\n",
    "                prev_loss = loss_i\n",
    "                loss_trajectory.append(loss_i.item())\n",
    "                accepted += 1\n",
    "            else:\n",
    "                loss_trajectory.append(prev_loss.detach().item())\n",
    "\n",
    "            if loss_i < best_mse:\n",
    "                best_mse = loss_i\n",
    "            total +=1\n",
    "        AR = accepted/total\n"
   ]
  },
  {
   "cell_type": "code",
   "execution_count": null,
   "id": "41aad999",
   "metadata": {
    "ExecuteTime": {
     "end_time": "2023-04-13T20:07:32.457801Z",
     "start_time": "2023-04-13T20:07:32.457786Z"
    }
   },
   "outputs": [],
   "source": [
    "plt.plot(loss_trajectory)"
   ]
  },
  {
   "cell_type": "code",
   "execution_count": 239,
   "id": "6eaf79b0",
   "metadata": {
    "ExecuteTime": {
     "end_time": "2023-04-13T15:55:48.495158Z",
     "start_time": "2023-04-13T15:55:48.490450Z"
    }
   },
   "outputs": [
    {
     "data": {
      "text/plain": [
       "0.1453846153846154"
      ]
     },
     "execution_count": 239,
     "metadata": {},
     "output_type": "execute_result"
    }
   ],
   "source": [
    "accepted/ (26 * 500)"
   ]
  },
  {
   "cell_type": "code",
   "execution_count": 250,
   "id": "0a58f40f",
   "metadata": {
    "ExecuteTime": {
     "end_time": "2023-04-13T16:01:19.354859Z",
     "start_time": "2023-04-13T16:01:19.257822Z"
    }
   },
   "outputs": [
    {
     "data": {
      "text/plain": [
       "[<matplotlib.lines.Line2D at 0x7f6a8d113400>]"
      ]
     },
     "execution_count": 250,
     "metadata": {},
     "output_type": "execute_result"
    },
    {
     "data": {
      "image/png": "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\n",
      "text/plain": [
       "<Figure size 432x288 with 1 Axes>"
      ]
     },
     "metadata": {
      "needs_background": "light"
     },
     "output_type": "display_data"
    }
   ],
   "source": [
    "plt.plot(np.arange(len(loss_trajectory)), np.array(loss_trajectory))"
   ]
  },
  {
   "cell_type": "code",
   "execution_count": null,
   "id": "75f85ab0",
   "metadata": {},
   "outputs": [],
   "source": [
    "#Monte Carloception\n",
    "\n",
    "B = 1000000 #Need to change\n",
    "step_size = 1e-2 #Need to change\n",
    "alignment = torch.nn.parameter.Parameter(torch.zeros(len(index)))\n",
    "batch_size = 32\n",
    "n_epochs = 500\n",
    "patience = 20\n",
    "\n",
    "Sampler = torch.utils.data.RandomSampler(index, replacement = False)\n",
    "Batcher = torch.utils.data.BatchSampler(Sampler, batch_size, False)\n",
    "\n",
    "prev_loss = torch.tensor(1)\n",
    "\n",
    "current_rmse = torch.tensor(100)\n",
    "pred_loss = torch.tensor(100)\n",
    "prev_loss = loss.t_get_rmse(reference_pred, train_ldos, pred_xdos, perc = False)\n",
    "best_mse = prev_loss.clone()\n",
    "print (\"Initial RMSE is {}\".format(prev_loss))\n",
    "trigger = 0\n",
    "accepted = 0\n",
    "loss_trajectory = []\n",
    "with torch.no_grad():\n",
    "    pbar = tqdm(range(n_epochs))\n",
    "    for epoch in pbar:\n",
    "        pbar.set_description(f\"Epoch: {epoch}\")\n",
    "        pbar.set_postfix(pred_loss = pred_loss.item(), lowest_mse = best_mse.item(), current_loss = prev_loss.item())\n",
    "        #MC\n",
    "        for i_batch in Batcher:\n",
    "            new_alignment = alignment.clone()\n",
    "            new_alignment[i_batch] += (torch.rand(len(i_batch)) - 0.5)* 2 * step_size\n",
    "#             reg_features_i = torch.vstack([Features[i_batch], reg])\n",
    "            shifted_target = manual_call2(Total_splines[index], xaxis, pred_xdos + new_alignment.view(-1,1))\n",
    "            shifted_reg_target = torch.vstack([shifted_target, torch.zeros(n_col,train_ldos.shape[1])])   \n",
    "            train_weights = torch.linalg.lstsq(reg_features, shifted_reg_target, rcond = 1e-10, driver = \"gelsd\").solution\n",
    "            shifted_train_preds = Features @ train_weights\n",
    "            loss_i = loss.t_get_rmse(shifted_train_preds, shifted_target, pred_xdos)\n",
    "            pred_loss = loss_i\n",
    "\n",
    "            criteria = torch.exp(B*(prev_loss - loss_i))\n",
    "            acceptance = torch.rand(1)\n",
    "\n",
    "            if acceptance < criteria:\n",
    "                alignment = new_alignment\n",
    "                prev_loss = loss_i\n",
    "                loss_trajectory.append(loss_i.item())\n",
    "                accepted += 1\n",
    "            else:\n",
    "                loss_trajectory.append(prev_loss.item())\n",
    "\n",
    "            if loss_i < best_mse:\n",
    "                best_mse = loss_i"
   ]
  },
  {
   "cell_type": "code",
   "execution_count": null,
   "id": "67f9b57f",
   "metadata": {},
   "outputs": [],
   "source": []
  },
  {
   "cell_type": "code",
   "execution_count": null,
   "id": "a8cf2257",
   "metadata": {},
   "outputs": [],
   "source": []
  },
  {
   "cell_type": "code",
   "execution_count": null,
   "id": "402b09d4",
   "metadata": {},
   "outputs": [],
   "source": []
  },
  {
   "cell_type": "code",
   "execution_count": null,
   "id": "bb0daf49",
   "metadata": {},
   "outputs": [],
   "source": []
  },
  {
   "cell_type": "code",
   "execution_count": null,
   "id": "be22fbab",
   "metadata": {},
   "outputs": [],
   "source": [
    "#Gradient Descent\n",
    "\n",
    "n_epochs = 1000000\n",
    "batch_size = 32\n",
    "patience = 20\n",
    "\n",
    "opt = torch.optim.Adam([alignment], lr = 1e-3, weight_decay = 0)\n",
    "# opt_LBFGS = torch.optim.LBFGS([alignment], lr = 1e-3, line_search_fn = 'strong_wolfe', tolerance_grad = 1e-15, tolerance_change = 1e-15)#, weight_decay = 0)\n",
    "scheduler = torch.optim.lr_scheduler.ReduceLROnPlateau(opt, factor = 0.1, patience = 20, threshold = 1e-5, min_lr = 1e-8)\n",
    "\n",
    "\n",
    "pbar = tqdm(range(n_epochs))\n",
    "for epoch in pbar:\n",
    "    pbar.set_description(f\"Epoch: {epoch}\")\n",
    "    pbar.set_postfix(pred_loss = pred_loss.item(), lowest_mse = best_mse.item(), trigger = trigger)\n",
    "    for i_batch in Batcher:\n",
    "        def closure():\n",
    "            opt.zero_grad()\n",
    "            reg_features_i = torch.vstack([Features[i_batch], reg])\n",
    "            shifted_target = manual_call2(Total_splines[index[i_batch]], xaxis, pred_xdos + alignment[i_batch].view(-1,1))\n",
    "            shifted_reg_target = torch.vstack([shifted_target, torch.zeros(n_col,train_ldos.shape[1])])          \n",
    "            train_weights = torch.linalg.lstsq(reg_features_i, shifted_reg_target, rcond = 1e-10, driver = \"gelsd\").solution\n",
    "            shifted_train_preds = Features[i_batch] @ train_weights\n",
    "            loss_i = loss.t_get_mse(shifted_train_preds, shifted_target)#torch.mean(abs(shifted_train_preds - shifted_target)**2) \n",
    "            loss_i.backward(inputs = alignment)\n",
    "            return loss_i\n",
    "        opt.step(closure)\n",
    "        train_ldos = train_ldos.detach()\n",
    "        \n",
    "    with torch.no_grad():\n",
    "        shifted_target = manual_call2(Total_splines[index], xaxis, pred_xdos + alignment.view(-1,1))\n",
    "        shifted_reg_target = torch.vstack([shifted_target, torch.zeros(n_col,train_ldos.shape[1])])          \n",
    "        train_weights = torch.linalg.lstsq(reg_features, shifted_reg_target, rcond = 1e-10, driver = \"gelsd\").solution\n",
    "        pred_i = Features @ train_weights\n",
    "        \n",
    "        \n",
    "        i_loss = loss.t_get_rmse(pred_i, shifted_target)#torch.mean(abs(pred_i - shifted_target)**2) \n",
    "        pred_loss = loss.t_get_rmse(pred_i, shifted_target, pred_xdos, perc = True)\n",
    "#         pred_loss = i_loss\n",
    "        if i_loss < prev_loss * (1 + 1e-3): \n",
    "            trigger = 0\n",
    "        else:\n",
    "            trigger +=1 \n",
    "            if trigger >= patience:\n",
    "                alignment = torch.nn.parameter.Parameter(best_state)\n",
    "                opt = torch.optim.Adam([alignment], lr = opt.param_groups[0]['lr'], weight_decay = 0)\n",
    "                counter = 0\n",
    "\n",
    "        if i_loss < best_mse:\n",
    "            best_mse = i_loss\n",
    "            best_state = alignment.clone()\n",
    "\n",
    "        prev_loss = i_loss\n",
    "\n",
    "        scheduler.step(i_loss)\n",
    "        if Batcher.batch_size > 1024:\n",
    "            break\n",
    "            \n",
    "        if opt.param_groups[0]['lr'] < 1e-3:\n",
    "            Batcher.batch_size *= 2 \n",
    "            opt.param_groups[0]['lr'] = 1e-3\n",
    "            print (\"The batch_size is now:\", Batcher.batch_size)\n",
    "\n",
    "            \n",
    "            \n",
    "\n",
    "\n",
    "shifted_target = manual_call2(Total_splines[index], xaxis, pred_xdos + best_state.view(-1,1))\n",
    "shifted_reg_target = torch.vstack([shifted_target, torch.zeros(n_col,shifted_target.shape[1])])   \n",
    "\n",
    "\n",
    "shifted_weights = torch.linalg.lstsq(reg_features, shifted_reg_target, driver = \"gelsd\").solution\n",
    "shifted_preds = Features @ shifted_weights\n",
    "shifted_t_preds = t_Features @ shifted_weights\n",
    "\n",
    "\n",
    "shifted_train_loss = loss.t_get_rmse(shifted_preds, shifted_target, pred_xdos, perc = True)#torch.mean(abs(shifted_preds - shifted_target)**2)#\n",
    "# shifted_test_loss = loss.t_get_rmse(shifted_t_preds, shifted_ldos, xdos, perc = True) Need the one with the new loss function\n",
    "\n",
    "print (\"Final training loss: {:.6}\".format(shifted_train_loss))\n"
   ]
  },
  {
   "cell_type": "code",
   "execution_count": null,
   "id": "caf88a26",
   "metadata": {},
   "outputs": [],
   "source": []
  },
  {
   "cell_type": "code",
   "execution_count": null,
   "id": "893f44e1",
   "metadata": {},
   "outputs": [],
   "source": []
  }
 ],
 "metadata": {
  "kernelspec": {
   "display_name": "Python 3 (ipykernel)",
   "language": "python",
   "name": "python3"
  },
  "language_info": {
   "codemirror_mode": {
    "name": "ipython",
    "version": 3
   },
   "file_extension": ".py",
   "mimetype": "text/x-python",
   "name": "python",
   "nbconvert_exporter": "python",
   "pygments_lexer": "ipython3",
   "version": "3.9.12"
  },
  "toc": {
   "base_numbering": 1,
   "nav_menu": {},
   "number_sections": true,
   "sideBar": true,
   "skip_h1_title": false,
   "title_cell": "Table of Contents",
   "title_sidebar": "Contents",
   "toc_cell": false,
   "toc_position": {
    "height": "786px",
    "left": "51px",
    "top": "379px",
    "width": "165px"
   },
   "toc_section_display": true,
   "toc_window_display": true
  }
 },
 "nbformat": 4,
 "nbformat_minor": 5
}
