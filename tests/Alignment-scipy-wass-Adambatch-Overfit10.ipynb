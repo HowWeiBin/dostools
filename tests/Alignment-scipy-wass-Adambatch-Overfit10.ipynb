{
 "cells": [
  {
   "cell_type": "markdown",
   "id": "84565b74",
   "metadata": {
    "hide_input": false
   },
   "source": [
    "## Imports"
   ]
  },
  {
   "cell_type": "code",
   "execution_count": 1,
   "id": "dfdaeca7",
   "metadata": {
    "ExecuteTime": {
     "end_time": "2023-01-27T17:15:54.616738Z",
     "start_time": "2023-01-27T17:15:54.609357Z"
    }
   },
   "outputs": [],
   "source": [
    "import dostools\n",
    "import importlib\n",
    "import numpy as np\n",
    "import pickle\n",
    "import torch\n",
    "import sys\n",
    "import matplotlib.pyplot as plt\n",
    "import copy\n",
    "from tqdm import tqdm\n",
    "import matplotlib\n",
    "import time\n",
    "torch.set_default_dtype(torch.float64) \n",
    "%matplotlib notebook\n",
    "matplotlib.rcParams['figure.figsize'] = (10, 10)\n",
    "sys.modules['dostools.src'] = dostools"
   ]
  },
  {
   "cell_type": "code",
   "execution_count": 2,
   "id": "7ccbf26d",
   "metadata": {
    "ExecuteTime": {
     "end_time": "2023-01-27T11:28:53.055005Z",
     "start_time": "2023-01-27T11:28:44.621291Z"
    }
   },
   "outputs": [
    {
     "name": "stderr",
     "output_type": "stream",
     "text": [
      "<frozen importlib._bootstrap>:228: RuntimeWarning: scipy._lib.messagestream.MessageStream size changed, may indicate binary incompatibility. Expected 56 from C header, got 64 from PyObject\n"
     ]
    },
    {
     "name": "stdout",
     "output_type": "stream",
     "text": [
      "ldos shape is torch.Size([1039, 778])\n",
      "mean dos shape is torch.Size([778])\n",
      "Variance covered with 10 PCs is = 0.9871211778950166\n"
     ]
    }
   ],
   "source": [
    "import dostools.datasets.data as data\n",
    "import dostools.utils.utils as utils\n",
    "\n",
    "n_structures = 1039\n",
    "np.random.seed(0)\n",
    "n_train = int(0.8 * n_structures)\n",
    "train_index = np.arange(n_structures)\n",
    "np.random.shuffle(train_index)\n",
    "test_index = train_index[n_train:]\n",
    "train_index = train_index[:n_train]\n",
    "\n",
    "with torch.no_grad():\n",
    "    structures = data.load_structures(\":\")\n",
    "    n_structures = len(structures) #total number of structures\n",
    "    for structure in structures:#implement periodicity\n",
    "        structure.wrap(eps = 1e-12) \n",
    "    n_atoms = np.zeros(n_structures, dtype = int) #stores number of atoms in each structures\n",
    "    for i in range(n_structures):\n",
    "        n_atoms[i] = len(structures[i])\n",
    "\n",
    "    #eigenergies, emin, emax = dostools.src.datasets.data.load_eigenenergies(unpack = True, n_structures = len(structures))\n",
    "    xdos = torch.tensor(data.load_xdos())\n",
    "    ldos = torch.tensor(data.load_ldos())\n",
    "    ldos *= 2\n",
    "\n",
    "    print (\"ldos shape is {}\".format(ldos.shape))\n",
    "    mean_dos_per_atom = ldos[train_index].mean(axis = 0) #only calculated for train set to prevent data leakage\n",
    "    print (\"mean dos shape is {}\".format(mean_dos_per_atom.shape))\n",
    "    \n",
    "    \n",
    "    y_pw = ldos - mean_dos_per_atom\n",
    "    y_lcdf = torch.cumsum(y_pw, dim = 1)\n",
    "    _, pc_vectors = utils.build_pc(ldos[train_index], mean_dos_per_atom[None,:], n_pc = 10)\n",
    "    y_pc = utils.build_coeffs(ldos - mean_dos_per_atom[None,:], pc_vectors)\n",
    "    Silicon = data.load_features()\n",
    "    kMM = data.load_kMM()"
   ]
  },
  {
   "cell_type": "markdown",
   "id": "3a7c7af2",
   "metadata": {},
   "source": [
    "## Evaluator"
   ]
  },
  {
   "cell_type": "code",
   "execution_count": 3,
   "id": "8cfe1751",
   "metadata": {
    "ExecuteTime": {
     "end_time": "2023-01-27T11:28:53.067505Z",
     "start_time": "2023-01-27T11:28:53.058565Z"
    }
   },
   "outputs": [],
   "source": [
    "import dostools.evaluation.evaluation as evaluation\n",
    "importlib.reload(evaluation)\n",
    "import dostools.models.training as training\n",
    "importlib.reload(training)\n",
    "\n",
    "targets = {\n",
    "    'pw' : ldos,\n",
    "    'lcdf' : y_lcdf,\n",
    "    'pc' : y_pc\n",
    "}\n",
    "evaluator = evaluation.Evaluator(targets, xdos, mean_dos_per_atom)"
   ]
  },
  {
   "cell_type": "markdown",
   "id": "794ebc76",
   "metadata": {},
   "source": [
    "## Dataset and DataLoader"
   ]
  },
  {
   "cell_type": "code",
   "execution_count": 10,
   "id": "7efa3cb3",
   "metadata": {
    "ExecuteTime": {
     "end_time": "2023-01-27T17:16:59.548164Z",
     "start_time": "2023-01-27T17:16:59.507360Z"
    }
   },
   "outputs": [],
   "source": [
    "import dostools.datasets.dataset as data\n",
    "from torch.utils.data import TensorDataset, DataLoader\n",
    "import dostools.consistency.consistency as consistency\n",
    "\n",
    "device = 'cpu'\n",
    "kwargs = {\"pin_memory\":True} if device == \"cuda:0\" else {}\n",
    "#Dataset\n",
    "y_shifted = copy.deepcopy(y_pw)\n",
    "#y_shifted[train_index][:100] = consistency.shifted_ldos(y_shifted[:100], xdos, torch.zeros(100)-10)\n",
    "train_data_soap = TensorDataset(Silicon.Features[\"structure_avedescriptors\"][train_index[:1]].double(), y_shifted[train_index[:1]].double())\n",
    "train_data_kernel = TensorDataset(Silicon.Features[\"structure_avekerneldescriptors\"][train_index[:1]].double(), y_shifted[train_index[:1]].double())\n",
    "\n",
    "test_data_soap = TensorDataset(Silicon.Features[\"structure_avedescriptors\"][test_index].double(), y_shifted[test_index].double())\n",
    "test_data_kernel = TensorDataset(Silicon.Features[\"structure_avekerneldescriptors\"][test_index].double(), y_shifted[test_index].double())\n",
    "\n",
    "#Dataloader\n",
    "\n",
    "train_dataloader_soap = DataLoader(train_data_soap, batch_size = 4, shuffle = True, **kwargs)\n",
    "train_dataloader_kernel = DataLoader(train_data_kernel, batch_size = 4, shuffle = True, **kwargs)\n",
    "\n"
   ]
  },
  {
   "cell_type": "markdown",
   "id": "7c7691fc",
   "metadata": {
    "ExecuteTime": {
     "end_time": "2023-01-27T16:19:17.672020Z",
     "start_time": "2023-01-27T16:19:17.669361Z"
    }
   },
   "source": [
    "## Loss Function"
   ]
  },
  {
   "cell_type": "code",
   "execution_count": 6,
   "id": "fcd3ea42",
   "metadata": {
    "ExecuteTime": {
     "end_time": "2023-01-27T17:30:43.824172Z",
     "start_time": "2023-01-27T17:30:43.801134Z"
    }
   },
   "outputs": [],
   "source": [
    "import dostools.src.consistency.consistency as consistency\n",
    "import dostools.src.loss.loss as loss\n",
    "importlib.reload(loss)\n",
    "importlib.reload(consistency)\n",
    "\n",
    "def t_get_BF_shift_index_mse(prediction, true, shift_range, xdos = None, perc = False):\n",
    "    if xdos is not None:\n",
    "        mse = torch.zeros(true.shape[0])\n",
    "        index = torch.zeros(true.shape[0])\n",
    "        for i, pred in enumerate((prediction)):\n",
    "            shifted_preds = consistency.shifted_ldos(pred.repeat(shift_range.shape[0],1), xdos, shift_range)\n",
    "            mse[i], index[i] = torch.min(loss.t_get_each_mse(shifted_preds, true[i].repeat(shift_range.shape[0],1)),0)\n",
    "        mse = torch.mean(mse, 0)\n",
    "        \n",
    "        return mse,index        \n",
    "    else:\n",
    "        raise ValueError(\"xdos not defined\")\n",
    "\n",
    "def t_get_wasserstein_shift(prediction, true):\n",
    "    if len(prediction.size()) > 1:\n",
    "        u_values = prediction\n",
    "        v_values = true\n",
    "\n",
    "        u_sorted, _ = torch.sort(u_values, dim = 1)\n",
    "        v_sorted, _ = torch.sort(v_values, dim = 1)\n",
    "\n",
    "        all_values = torch.concatenate((u_values, v_values), dim = 1)\n",
    "        all_values, _ = all_values.sort(dim = 1)\n",
    "\n",
    "        deltas = torch.diff(all_values, dim =1)\n",
    "\n",
    "        u_cdf_indices = torch.searchsorted(u_sorted.contiguous(), all_values[:,:-1], side = 'right')\n",
    "        v_cdf_indices = torch.searchsorted(v_sorted.contiguous(), all_values[:,:-1], side = 'right')\n",
    "\n",
    "        u_cdf = u_cdf_indices / u_values.numel()\n",
    "\n",
    "        v_cdf = v_cdf_indices / v_values.numel()\n",
    "\n",
    "        result = torch.sum(torch.multiply(torch.abs(u_cdf - v_cdf),deltas))\n",
    "\n",
    "        return (result)\n",
    "        \n",
    "    else:\n",
    "        u_values = prediction\n",
    "        v_values = true\n",
    "\n",
    "        u_sorted, _ = torch.sort(u_values)\n",
    "        v_sorted, _ = torch.sort(v_values)\n",
    "\n",
    "        all_values = torch.concatenate((u_values, v_values))\n",
    "        all_values, _ = all_values.sort(dim = 0)\n",
    "\n",
    "        deltas = torch.diff(all_values) \n",
    "\n",
    "        u_cdf_indices = torch.searchsorted(u_sorted, all_values[:-1], side = 'right')\n",
    "        v_cdf_indices = torch.searchsorted(v_sorted, all_values[:-1], side = 'right')\n",
    "\n",
    "        u_cdf = u_cdf_indices / u_values.numel()\n",
    "\n",
    "        v_cdf = v_cdf_indices / v_values.numel()\n",
    "\n",
    "        result = torch.sum(torch.multiply(torch.abs(u_cdf - v_cdf),deltas))\n",
    "\n",
    "        return (result)\n"
   ]
  },
  {
   "cell_type": "code",
   "execution_count": 27,
   "id": "afa0dbe8",
   "metadata": {},
   "outputs": [],
   "source": [
    "xdos_step = xdos[1] - xdos[0]\n",
    "shift_range = torch.tensor([x*xdos_step for x in range(-778,778)])\n",
    "shifted_preds = consistency.shifted_ldos(y_pw[1].repeat(shift_range.shape[0],1), xdos, shift_range)\n",
    "all_mse = loss.t_get_each_mse(shifted_preds, y_pw[0].repeat(shift_range.shape[0],1))\n",
    "mse, index = torch.min(all_mse,0)\n"
   ]
  },
  {
   "cell_type": "markdown",
   "id": "db9de533",
   "metadata": {
    "heading_collapsed": true
   },
   "source": [
    "## Testing out scipy's alignment"
   ]
  },
  {
   "cell_type": "code",
   "execution_count": 28,
   "id": "aaf9a36a",
   "metadata": {
    "hidden": true
   },
   "outputs": [
    {
     "name": "stdout",
     "output_type": "stream",
     "text": [
      "tensor(0.)\n"
     ]
    }
   ],
   "source": [
    "u_values = y_pw[1]\n",
    "v_values = y_shifted[1]\n",
    "\n",
    "u_sorted, _ = torch.sort(u_values)\n",
    "v_sorted, _ = torch.sort(v_values)\n",
    "\n",
    "all_values = torch.concatenate((u_values, v_values))\n",
    "all_values, _ = all_values.sort(dim = 0)\n",
    "\n",
    "deltas = torch.diff(all_values) \n",
    "\n",
    "u_cdf_indices = torch.searchsorted(u_sorted, all_values[:-1], side = 'right')\n",
    "v_cdf_indices = torch.searchsorted(v_sorted, all_values[:-1], side = 'right')\n",
    "\n",
    "u_cdf = u_cdf_indices / u_values.numel()\n",
    "\n",
    "v_cdf = v_cdf_indices / v_values.numel()\n",
    "\n",
    "result = torch.sum(torch.multiply(torch.abs(u_cdf - v_cdf),deltas))\n",
    "\n",
    "print (result)"
   ]
  },
  {
   "cell_type": "code",
   "execution_count": 143,
   "id": "744df602",
   "metadata": {
    "hidden": true
   },
   "outputs": [
    {
     "name": "stdout",
     "output_type": "stream",
     "text": [
      "tensor(0.)\n"
     ]
    }
   ],
   "source": [
    "u_values = y_pw\n",
    "v_values = y_shifted\n",
    "\n",
    "u_sorted, _ = torch.sort(u_values, dim = 1)\n",
    "v_sorted, _ = torch.sort(v_values, dim = 1)\n",
    "\n",
    "all_values = torch.concatenate((u_values, v_values), dim = 1)\n",
    "all_values, _ = all_values.sort(dim = 1)\n",
    "\n",
    "deltas = torch.diff(all_values, dim =1)\n",
    "\n",
    "u_cdf_indices = torch.searchsorted(u_sorted.contiguous(), all_values[:,:-1], side = 'right')\n",
    "v_cdf_indices = torch.searchsorted(v_sorted.contiguous(), all_values[:,:-1], side = 'right')\n",
    "\n",
    "u_cdf = u_cdf_indices / u_values.numel()\n",
    "\n",
    "v_cdf = v_cdf_indices / v_values.numel()\n",
    "\n",
    "result = torch.sum(torch.multiply(torch.abs(u_cdf - v_cdf),deltas))\n",
    "\n",
    "print (result)"
   ]
  },
  {
   "cell_type": "code",
   "execution_count": 137,
   "id": "902fb619",
   "metadata": {
    "hidden": true
   },
   "outputs": [
    {
     "data": {
      "text/plain": [
       "torch.Size([1039, 778])"
      ]
     },
     "execution_count": 137,
     "metadata": {},
     "output_type": "execute_result"
    }
   ],
   "source": [
    "u_sorted.shape"
   ]
  },
  {
   "cell_type": "code",
   "execution_count": 138,
   "id": "166502e9",
   "metadata": {
    "hidden": true
   },
   "outputs": [
    {
     "data": {
      "text/plain": [
       "torch.Size([1039, 778])"
      ]
     },
     "execution_count": 138,
     "metadata": {},
     "output_type": "execute_result"
    }
   ],
   "source": [
    "v_sorted.shape"
   ]
  },
  {
   "cell_type": "code",
   "execution_count": null,
   "id": "6ab43c02",
   "metadata": {
    "hidden": true
   },
   "outputs": [],
   "source": [
    "#Can train on just this metric or convert to shifts"
   ]
  },
  {
   "cell_type": "code",
   "execution_count": 70,
   "id": "96fa1b8a",
   "metadata": {
    "hidden": true
   },
   "outputs": [
    {
     "data": {
      "text/plain": [
       "torch.Size([778])"
      ]
     },
     "execution_count": 70,
     "metadata": {},
     "output_type": "execute_result"
    }
   ],
   "source": [
    "u_cdf_indices.shape"
   ]
  },
  {
   "cell_type": "code",
   "execution_count": 65,
   "id": "be8961b5",
   "metadata": {
    "hidden": true
   },
   "outputs": [],
   "source": [
    "u2 = y_pw[0].numpy()\n",
    "v2 = y_shifted[0].numpy()\n",
    "\n",
    "u2_s = np.argsort(u2)\n",
    "v2_s = np.argsort(v2)\n",
    "\n",
    "av = np.concatenate((u2,v2))\n",
    "av.sort(kind='mergesort')\n",
    "\n",
    "d = np.diff(av)\n",
    "\n",
    "u_cdf_i = u2[u2_s].searchsorted(av[:-1], 'right')\n",
    "v_cdf_i = v2[v2_s].searchsorted(av[:-1], 'right')\n",
    "\n",
    "u_c = u_cdf_i / u2.size\n",
    "v_c = v_cdf_i / v2.size\n",
    "\n",
    "r = np.sum(np.multiply(np.abs(u_c - v_c), d))"
   ]
  },
  {
   "cell_type": "code",
   "execution_count": 69,
   "id": "33b3433d",
   "metadata": {
    "hidden": true
   },
   "outputs": [
    {
     "data": {
      "text/plain": [
       "(1555,)"
      ]
     },
     "execution_count": 69,
     "metadata": {},
     "output_type": "execute_result"
    }
   ],
   "source": [
    "u_cdf_i.shape"
   ]
  },
  {
   "cell_type": "code",
   "execution_count": 67,
   "id": "98a6eaa6",
   "metadata": {
    "hidden": true
   },
   "outputs": [
    {
     "data": {
      "text/plain": [
       "(1555,)"
      ]
     },
     "execution_count": 67,
     "metadata": {},
     "output_type": "execute_result"
    }
   ],
   "source": [
    "np.abs(u_c - v_c).shape"
   ]
  },
  {
   "cell_type": "code",
   "execution_count": 61,
   "id": "a45653b6",
   "metadata": {
    "hidden": true
   },
   "outputs": [
    {
     "data": {
      "text/plain": [
       "1.0565957960197742e-14"
      ]
     },
     "execution_count": 61,
     "metadata": {},
     "output_type": "execute_result"
    }
   ],
   "source": [
    "r"
   ]
  },
  {
   "cell_type": "code",
   "execution_count": 62,
   "id": "4adcd0c3",
   "metadata": {
    "hidden": true
   },
   "outputs": [
    {
     "data": {
      "text/plain": [
       "(1555,)"
      ]
     },
     "execution_count": 62,
     "metadata": {},
     "output_type": "execute_result"
    }
   ],
   "source": [
    "d.shape"
   ]
  },
  {
   "cell_type": "code",
   "execution_count": 30,
   "id": "f2dd1b10",
   "metadata": {
    "hidden": true
   },
   "outputs": [],
   "source": [
    "a = np.array([[1,2,3,4,5],[1,2,3,4,7]])"
   ]
  },
  {
   "cell_type": "code",
   "execution_count": 31,
   "id": "cf2a8e45",
   "metadata": {
    "hidden": true
   },
   "outputs": [
    {
     "data": {
      "text/plain": [
       "10"
      ]
     },
     "execution_count": 31,
     "metadata": {},
     "output_type": "execute_result"
    }
   ],
   "source": [
    "a.size"
   ]
  },
  {
   "cell_type": "code",
   "execution_count": 36,
   "id": "c340755b",
   "metadata": {
    "hidden": true
   },
   "outputs": [
    {
     "data": {
      "text/plain": [
       "778"
      ]
     },
     "execution_count": 36,
     "metadata": {},
     "output_type": "execute_result"
    }
   ],
   "source": [
    "y_pw[0].numel()"
   ]
  },
  {
   "cell_type": "code",
   "execution_count": null,
   "id": "d833f6b5",
   "metadata": {
    "hidden": true
   },
   "outputs": [],
   "source": [
    "#Try for 2 different distributions"
   ]
  },
  {
   "cell_type": "markdown",
   "id": "edfaf523",
   "metadata": {},
   "source": [
    "## Evaluation Function"
   ]
  },
  {
   "cell_type": "code",
   "execution_count": 7,
   "id": "21a54f85",
   "metadata": {
    "ExecuteTime": {
     "end_time": "2023-01-27T17:32:53.309190Z",
     "start_time": "2023-01-27T17:32:53.298140Z"
    }
   },
   "outputs": [],
   "source": [
    "def t_get_rmse(a, b, xdos=None, perc=False): #account for the fact that DOS is continuous but we are training them pointwise\n",
    "    \"\"\" computes  Root Mean Squared Error (RMSE) of array properties (DOS/aofd).\n",
    "         a=pred, b=target, xdos, perc: if False return RMSE else return %RMSE\"\"\"\n",
    "    #MIGHT NOT WORK FOR PC\n",
    "    if xdos is not None:\n",
    "        rmse = torch.sqrt(torch.trapezoid((a - b)**2, xdos, axis=1)).mean()\n",
    "        if not perc:\n",
    "            return rmse\n",
    "        else:\n",
    "            mean = b.mean(axis = 0)\n",
    "            std = torch.sqrt(torch.trapezoid((b - mean)**2, xdos, axis=1)).mean()\n",
    "            return (100 * rmse / std)\n",
    "    else:\n",
    "        rmse = torch.sqrt(((a - b)**2).mean(dim =0))\n",
    "        if not perc:\n",
    "            return torch.mean(rmse, 0)\n",
    "        else:\n",
    "            return torch.mean(100 * (rmse / b.std(dim = 0,unbiased=True)), 0)"
   ]
  },
  {
   "cell_type": "markdown",
   "id": "2db6462d",
   "metadata": {},
   "source": [
    "## Alignment Model"
   ]
  },
  {
   "cell_type": "code",
   "execution_count": 15,
   "id": "ba5bb960",
   "metadata": {
    "ExecuteTime": {
     "end_time": "2023-01-27T17:32:53.935041Z",
     "start_time": "2023-01-27T17:32:53.896654Z"
    }
   },
   "outputs": [],
   "source": [
    "import dostools.src.models.models as models\n",
    "import dostools.src.models.training as training\n",
    "import dostools.src.models.architectures as architecture\n",
    "import dostools.src.loss.loss as loss\n",
    "import torch.nn as nn\n",
    "\n",
    "importlib.reload(models)\n",
    "importlib.reload(training)\n",
    "importlib.reload(architecture)\n",
    "importlib.reload(loss)\n",
    "\n",
    "\n",
    "class WassLinearModel(nn.Module):\n",
    "    def __init__(self, inputSize, outputSize, train_size, xdos, reg, opt, device):\n",
    "        super(WassLinearModel, self).__init__()\n",
    "        self.linear = nn.Linear(inputSize, outputSize, bias = False)\n",
    "        self.xdos = xdos\n",
    "        self.opt = opt\n",
    "        self.device = device\n",
    "        self.reg = torch.tensor(reg, requires_grad = False).to(self.device)\n",
    "        #self.alignment = torch.zeros(train_size, device = self.device)\n",
    "        self.to(self.device)\n",
    "\n",
    "    def forward(self, x):\n",
    "        \"\"\"\n",
    "        Performs the transformations to the features based on the model\n",
    "        \n",
    "        Args:\n",
    "            x (tensor): input features\n",
    "        \n",
    "        Returns:\n",
    "            tensor: output\n",
    "        \"\"\"\n",
    "        out = self.linear(x)\n",
    "        return out\n",
    "\n",
    "    def fit(self, traindata_loader, valdata_loader, loss, lr ,n_epochs):\n",
    "        \"\"\"\n",
    "        Fits the model based on the training data, early stopping is based on performance on training data (or validation data)\n",
    "        Returns the loss history \n",
    "        \n",
    "        Args:\n",
    "            traindata_loader (DataLoader): Train dataloader\n",
    "            valdata_loader (DataLoader): Validation dataloader\n",
    "            loss (function): Loss function\n",
    "            lr (float): Learning rate\n",
    "            n_epochs (int): Max number of epochs\n",
    "        \n",
    "        Returns:\n",
    "            list: Loss history of the training process\n",
    "        \"\"\"\n",
    "        if self.opt == \"Adam\":\n",
    "            opt = torch.optim.Adam(self.parameters(), lr = lr, weight_decay = self.reg.item())\n",
    "            if valdata_loader is not None:\n",
    "                threshold = 1000\n",
    "                scheduler_threshold = 100\n",
    "            else:\n",
    "                threshold = 1000\n",
    "                scheduler_threshold = 100\n",
    "            tol = 1e-4\n",
    "        if self.opt == \"LBFGS\":\n",
    "            opt = torch.optim.LBFGS(self.parameters(), lr = lr)\n",
    "            if valdata_loader is not None:\n",
    "                threshold = 2000\n",
    "                scheduler_threshold = 2000\n",
    "            else:\n",
    "                threshold = 30\n",
    "                scheduler_threshold = 5\n",
    "            tol = 0\n",
    "        scheduler = torch.optim.lr_scheduler.ReduceLROnPlateau(opt, factor = 0.1, patience = scheduler_threshold)#0.5)\n",
    "        best_state = copy.deepcopy(self.state_dict())\n",
    "        lowest_loss = torch.tensor(9999)\n",
    "        pred_loss = torch.tensor(0)\n",
    "        trigger = 0\n",
    "        loss_history =[]\n",
    "        pbar = tqdm(range(n_epochs))\n",
    "        \n",
    "        fig, ax_list = plt.subplots(4,2)\n",
    "        ax_list = ax_list.flatten()\n",
    "        lines = []\n",
    "        critical_indexes = np.arange(1)\n",
    "        #critical_indexes = np.array([369, 341, 745, 521, 278, 5, 193, 37])\n",
    "        for i in range(len(critical_indexes)):\n",
    "            line, = ax_list[i].plot(self.xdos.cpu(), traindata_loader.dataset.tensors[1][critical_indexes[i]], label = \"Prediction\")\n",
    "            lines.append(line)\n",
    "            z = ax_list[i].plot(self.xdos.cpu(), traindata_loader.dataset.tensors[1][critical_indexes[i]], label = \"True\")\n",
    "        fig.legend([line,z], labels = [\"Predicted\", \"True\"], loc = \"lower center\")\n",
    "        for epoch in pbar:\n",
    "            pbar.set_description(f\"Epoch: {epoch}\")\n",
    "            if valdata_loader is not None:\n",
    "                pbar.set_postfix(val_loss = lowest_loss.item(), trigger = trigger, train_loss = pred_loss.item())\n",
    "            else:\n",
    "                pbar.set_postfix(pred_loss = pred_loss.item(), lowest_loss = lowest_loss.item(), trigger = trigger)\n",
    "\n",
    "            for x_data, y_data in traindata_loader:\n",
    "                opt.zero_grad()\n",
    "                x_data, y_data = x_data.to(self.device), y_data.to(self.device)\n",
    "                if self.opt == \"LBFGS\":\n",
    "                    def closure(predictions = False):\n",
    "                        \"\"\"\n",
    "                        Function is necessary for LBFGS, returns the total loss of the model\n",
    "                        \n",
    "                        Args:\n",
    "                            predictions (bool, optional): Returns prediction loss if true, returns total loss if False\n",
    "                        \n",
    "                        Returns:\n",
    "                            tensor: Loss\n",
    "                        \"\"\"\n",
    "                        opt.zero_grad()\n",
    "                        _pred = self.forward(x_data)\n",
    "                        _pred_loss = t_get_wasserstein_shift(_pred, y_data)#, self.xdos), perc = True)       \n",
    "                        _pred_loss *= 1e7\n",
    "                        #self.alignment = (self.alignment - 20) * (self.xdos[1] - self.xdos[0])\n",
    "                        _pred_loss = torch.nan_to_num(_pred_loss, nan=lowest_loss.item(), posinf = lowest_loss.item(), neginf = lowest_loss.item())                 \n",
    "                        _reg_loss = torch.sum(torch.pow(self.linear.weight,2))\n",
    "                        _reg_loss *= self.reg.item()\n",
    "                        _new_loss = _pred_loss + _reg_loss\n",
    "                        _new_loss.backward()\n",
    "                        # global z \n",
    "                        # z = (torch.sum(abs(self.linear.weight.grad)))\n",
    "                        if predictions:\n",
    "                            return _pred_loss\n",
    "                        return _new_loss\n",
    "                    opt.step(closure)\n",
    "                    #print (z)\n",
    "                    with torch.no_grad():\n",
    "                        pred = self.forward(x_data)\n",
    "                        pred_loss = t_get_wasserstein_shift(pred, y_data)\n",
    "                        reg_loss = torch.sum(torch.pow(self.linear.weight,2))\n",
    "                        reg_loss *= self.reg.item()\n",
    "                        new_loss = pred_loss + reg_loss\n",
    "                    if pred_loss >100000 or (pred_loss.isnan().any()) :\n",
    "                        print (\"Optimizer shows weird behaviour, reinitializing at previous best_State\")\n",
    "                        self.load_state_dict(best_state)\n",
    "                        opt = torch.optim.LBFGS(self.parameters(), lr = lr)\n",
    "                    if epoch %10 == 1:\n",
    "                        loss_history.append(lowest_loss.item())\n",
    "                elif self.opt == \"Adam\":\n",
    "                    pred = self.forward(x_data)\n",
    "                    pred_loss = t_get_wasserstein_shift(pred, y_data)#, self.xdos, perc = True)\n",
    "                    new_loss = 1E7 * pred_loss\n",
    "                    new_loss.backward()\n",
    "                    opt.step()\n",
    "                    if pred_loss >100000 or (pred_loss.isnan().any()) :\n",
    "                        print (\"Optimizer shows weird behaviour, reinitializing at previous best_State\")\n",
    "                        self.load_state_dict(best_state)\n",
    "                        opt = torch.optim.Adam(self.parameters(), lr = lr, weight_decay = self.reg.item())\n",
    "\n",
    "\n",
    "            with torch.no_grad():\n",
    "                total_pred = self.forward(traindata_loader.dataset.tensors[0])\n",
    "                total_loss = t_get_wasserstein_shift(total_pred, traindata_loader.dataset.tensors[1])\n",
    "                new_loss = total_loss\n",
    "                if lowest_loss - new_loss > tol: #threshold to stop training\n",
    "                    best_state = copy.deepcopy(self.state_dict())\n",
    "                    lowest_loss = new_loss\n",
    "                    trigger = 0\n",
    "                if epoch %1000 == 1:\n",
    "                    loss_history.append(lowest_loss.item())\n",
    "                for i in range(len(critical_indexes)):\n",
    "                    lines[i].set_ydata(total_pred[critical_indexes[i]].detach().numpy())\n",
    "                fig.suptitle(\"Epochs: {}, Pred loss: {}, Lowest loss:{}, Trigger: {}\".format(epoch, new_loss.item(), lowest_loss.item(), trigger))\n",
    "                fig.canvas.draw()\n",
    "                fig.canvas.flush_events()\n",
    "                scheduler.step(new_loss)\n",
    "                \n",
    "                \n",
    "                \n",
    "                \n",
    "                if valdata_loader is not None:\n",
    "                    new_loss = torch.zeros(1, requires_grad = False).to(self.device)\n",
    "                    for x_val, y_val in valdata_loader:\n",
    "                        x_val, y_val = x_val.to(self.device), y_val.to(self.device)\n",
    "                        val_pred = self.forward(x_val)\n",
    "                        new_loss += loss(val_pred, y_val, self.xdos, perc = False)\n",
    "\n",
    "\n",
    "\n",
    "                else:\n",
    "                    trigger +=1\n",
    "                    \n",
    "#                     if trigger > threshold:\n",
    "#                         self.load_state_dict(best_state)\n",
    "#                         print (\"Implemented early stopping with lowest_loss: {}\".format(lowest_loss))\n",
    "#                         return loss_history\n",
    "        return loss_history"
   ]
  },
  {
   "cell_type": "code",
   "execution_count": null,
   "id": "9441e750",
   "metadata": {
    "ExecuteTime": {
     "end_time": "2023-01-27T17:37:38.673859Z",
     "start_time": "2023-01-27T17:37:26.800637Z"
    },
    "scrolled": false
   },
   "outputs": [
    {
     "name": "stderr",
     "output_type": "stream",
     "text": [
      "\r",
      "  0%|                                                                                                                                                                                    | 0/20000 [00:00<?, ?it/s]"
     ]
    },
    {
     "data": {
      "application/javascript": [
       "/* Put everything inside the global mpl namespace */\n",
       "/* global mpl */\n",
       "window.mpl = {};\n",
       "\n",
       "mpl.get_websocket_type = function () {\n",
       "    if (typeof WebSocket !== 'undefined') {\n",
       "        return WebSocket;\n",
       "    } else if (typeof MozWebSocket !== 'undefined') {\n",
       "        return MozWebSocket;\n",
       "    } else {\n",
       "        alert(\n",
       "            'Your browser does not have WebSocket support. ' +\n",
       "                'Please try Chrome, Safari or Firefox ≥ 6. ' +\n",
       "                'Firefox 4 and 5 are also supported but you ' +\n",
       "                'have to enable WebSockets in about:config.'\n",
       "        );\n",
       "    }\n",
       "};\n",
       "\n",
       "mpl.figure = function (figure_id, websocket, ondownload, parent_element) {\n",
       "    this.id = figure_id;\n",
       "\n",
       "    this.ws = websocket;\n",
       "\n",
       "    this.supports_binary = this.ws.binaryType !== undefined;\n",
       "\n",
       "    if (!this.supports_binary) {\n",
       "        var warnings = document.getElementById('mpl-warnings');\n",
       "        if (warnings) {\n",
       "            warnings.style.display = 'block';\n",
       "            warnings.textContent =\n",
       "                'This browser does not support binary websocket messages. ' +\n",
       "                'Performance may be slow.';\n",
       "        }\n",
       "    }\n",
       "\n",
       "    this.imageObj = new Image();\n",
       "\n",
       "    this.context = undefined;\n",
       "    this.message = undefined;\n",
       "    this.canvas = undefined;\n",
       "    this.rubberband_canvas = undefined;\n",
       "    this.rubberband_context = undefined;\n",
       "    this.format_dropdown = undefined;\n",
       "\n",
       "    this.image_mode = 'full';\n",
       "\n",
       "    this.root = document.createElement('div');\n",
       "    this.root.setAttribute('style', 'display: inline-block');\n",
       "    this._root_extra_style(this.root);\n",
       "\n",
       "    parent_element.appendChild(this.root);\n",
       "\n",
       "    this._init_header(this);\n",
       "    this._init_canvas(this);\n",
       "    this._init_toolbar(this);\n",
       "\n",
       "    var fig = this;\n",
       "\n",
       "    this.waiting = false;\n",
       "\n",
       "    this.ws.onopen = function () {\n",
       "        fig.send_message('supports_binary', { value: fig.supports_binary });\n",
       "        fig.send_message('send_image_mode', {});\n",
       "        if (fig.ratio !== 1) {\n",
       "            fig.send_message('set_device_pixel_ratio', {\n",
       "                device_pixel_ratio: fig.ratio,\n",
       "            });\n",
       "        }\n",
       "        fig.send_message('refresh', {});\n",
       "    };\n",
       "\n",
       "    this.imageObj.onload = function () {\n",
       "        if (fig.image_mode === 'full') {\n",
       "            // Full images could contain transparency (where diff images\n",
       "            // almost always do), so we need to clear the canvas so that\n",
       "            // there is no ghosting.\n",
       "            fig.context.clearRect(0, 0, fig.canvas.width, fig.canvas.height);\n",
       "        }\n",
       "        fig.context.drawImage(fig.imageObj, 0, 0);\n",
       "    };\n",
       "\n",
       "    this.imageObj.onunload = function () {\n",
       "        fig.ws.close();\n",
       "    };\n",
       "\n",
       "    this.ws.onmessage = this._make_on_message_function(this);\n",
       "\n",
       "    this.ondownload = ondownload;\n",
       "};\n",
       "\n",
       "mpl.figure.prototype._init_header = function () {\n",
       "    var titlebar = document.createElement('div');\n",
       "    titlebar.classList =\n",
       "        'ui-dialog-titlebar ui-widget-header ui-corner-all ui-helper-clearfix';\n",
       "    var titletext = document.createElement('div');\n",
       "    titletext.classList = 'ui-dialog-title';\n",
       "    titletext.setAttribute(\n",
       "        'style',\n",
       "        'width: 100%; text-align: center; padding: 3px;'\n",
       "    );\n",
       "    titlebar.appendChild(titletext);\n",
       "    this.root.appendChild(titlebar);\n",
       "    this.header = titletext;\n",
       "};\n",
       "\n",
       "mpl.figure.prototype._canvas_extra_style = function (_canvas_div) {};\n",
       "\n",
       "mpl.figure.prototype._root_extra_style = function (_canvas_div) {};\n",
       "\n",
       "mpl.figure.prototype._init_canvas = function () {\n",
       "    var fig = this;\n",
       "\n",
       "    var canvas_div = (this.canvas_div = document.createElement('div'));\n",
       "    canvas_div.setAttribute(\n",
       "        'style',\n",
       "        'border: 1px solid #ddd;' +\n",
       "            'box-sizing: content-box;' +\n",
       "            'clear: both;' +\n",
       "            'min-height: 1px;' +\n",
       "            'min-width: 1px;' +\n",
       "            'outline: 0;' +\n",
       "            'overflow: hidden;' +\n",
       "            'position: relative;' +\n",
       "            'resize: both;'\n",
       "    );\n",
       "\n",
       "    function on_keyboard_event_closure(name) {\n",
       "        return function (event) {\n",
       "            return fig.key_event(event, name);\n",
       "        };\n",
       "    }\n",
       "\n",
       "    canvas_div.addEventListener(\n",
       "        'keydown',\n",
       "        on_keyboard_event_closure('key_press')\n",
       "    );\n",
       "    canvas_div.addEventListener(\n",
       "        'keyup',\n",
       "        on_keyboard_event_closure('key_release')\n",
       "    );\n",
       "\n",
       "    this._canvas_extra_style(canvas_div);\n",
       "    this.root.appendChild(canvas_div);\n",
       "\n",
       "    var canvas = (this.canvas = document.createElement('canvas'));\n",
       "    canvas.classList.add('mpl-canvas');\n",
       "    canvas.setAttribute('style', 'box-sizing: content-box;');\n",
       "\n",
       "    this.context = canvas.getContext('2d');\n",
       "\n",
       "    var backingStore =\n",
       "        this.context.backingStorePixelRatio ||\n",
       "        this.context.webkitBackingStorePixelRatio ||\n",
       "        this.context.mozBackingStorePixelRatio ||\n",
       "        this.context.msBackingStorePixelRatio ||\n",
       "        this.context.oBackingStorePixelRatio ||\n",
       "        this.context.backingStorePixelRatio ||\n",
       "        1;\n",
       "\n",
       "    this.ratio = (window.devicePixelRatio || 1) / backingStore;\n",
       "\n",
       "    var rubberband_canvas = (this.rubberband_canvas = document.createElement(\n",
       "        'canvas'\n",
       "    ));\n",
       "    rubberband_canvas.setAttribute(\n",
       "        'style',\n",
       "        'box-sizing: content-box; position: absolute; left: 0; top: 0; z-index: 1;'\n",
       "    );\n",
       "\n",
       "    // Apply a ponyfill if ResizeObserver is not implemented by browser.\n",
       "    if (this.ResizeObserver === undefined) {\n",
       "        if (window.ResizeObserver !== undefined) {\n",
       "            this.ResizeObserver = window.ResizeObserver;\n",
       "        } else {\n",
       "            var obs = _JSXTOOLS_RESIZE_OBSERVER({});\n",
       "            this.ResizeObserver = obs.ResizeObserver;\n",
       "        }\n",
       "    }\n",
       "\n",
       "    this.resizeObserverInstance = new this.ResizeObserver(function (entries) {\n",
       "        var nentries = entries.length;\n",
       "        for (var i = 0; i < nentries; i++) {\n",
       "            var entry = entries[i];\n",
       "            var width, height;\n",
       "            if (entry.contentBoxSize) {\n",
       "                if (entry.contentBoxSize instanceof Array) {\n",
       "                    // Chrome 84 implements new version of spec.\n",
       "                    width = entry.contentBoxSize[0].inlineSize;\n",
       "                    height = entry.contentBoxSize[0].blockSize;\n",
       "                } else {\n",
       "                    // Firefox implements old version of spec.\n",
       "                    width = entry.contentBoxSize.inlineSize;\n",
       "                    height = entry.contentBoxSize.blockSize;\n",
       "                }\n",
       "            } else {\n",
       "                // Chrome <84 implements even older version of spec.\n",
       "                width = entry.contentRect.width;\n",
       "                height = entry.contentRect.height;\n",
       "            }\n",
       "\n",
       "            // Keep the size of the canvas and rubber band canvas in sync with\n",
       "            // the canvas container.\n",
       "            if (entry.devicePixelContentBoxSize) {\n",
       "                // Chrome 84 implements new version of spec.\n",
       "                canvas.setAttribute(\n",
       "                    'width',\n",
       "                    entry.devicePixelContentBoxSize[0].inlineSize\n",
       "                );\n",
       "                canvas.setAttribute(\n",
       "                    'height',\n",
       "                    entry.devicePixelContentBoxSize[0].blockSize\n",
       "                );\n",
       "            } else {\n",
       "                canvas.setAttribute('width', width * fig.ratio);\n",
       "                canvas.setAttribute('height', height * fig.ratio);\n",
       "            }\n",
       "            canvas.setAttribute(\n",
       "                'style',\n",
       "                'width: ' + width + 'px; height: ' + height + 'px;'\n",
       "            );\n",
       "\n",
       "            rubberband_canvas.setAttribute('width', width);\n",
       "            rubberband_canvas.setAttribute('height', height);\n",
       "\n",
       "            // And update the size in Python. We ignore the initial 0/0 size\n",
       "            // that occurs as the element is placed into the DOM, which should\n",
       "            // otherwise not happen due to the minimum size styling.\n",
       "            if (fig.ws.readyState == 1 && width != 0 && height != 0) {\n",
       "                fig.request_resize(width, height);\n",
       "            }\n",
       "        }\n",
       "    });\n",
       "    this.resizeObserverInstance.observe(canvas_div);\n",
       "\n",
       "    function on_mouse_event_closure(name) {\n",
       "        return function (event) {\n",
       "            return fig.mouse_event(event, name);\n",
       "        };\n",
       "    }\n",
       "\n",
       "    rubberband_canvas.addEventListener(\n",
       "        'mousedown',\n",
       "        on_mouse_event_closure('button_press')\n",
       "    );\n",
       "    rubberband_canvas.addEventListener(\n",
       "        'mouseup',\n",
       "        on_mouse_event_closure('button_release')\n",
       "    );\n",
       "    rubberband_canvas.addEventListener(\n",
       "        'dblclick',\n",
       "        on_mouse_event_closure('dblclick')\n",
       "    );\n",
       "    // Throttle sequential mouse events to 1 every 20ms.\n",
       "    rubberband_canvas.addEventListener(\n",
       "        'mousemove',\n",
       "        on_mouse_event_closure('motion_notify')\n",
       "    );\n",
       "\n",
       "    rubberband_canvas.addEventListener(\n",
       "        'mouseenter',\n",
       "        on_mouse_event_closure('figure_enter')\n",
       "    );\n",
       "    rubberband_canvas.addEventListener(\n",
       "        'mouseleave',\n",
       "        on_mouse_event_closure('figure_leave')\n",
       "    );\n",
       "\n",
       "    canvas_div.addEventListener('wheel', function (event) {\n",
       "        if (event.deltaY < 0) {\n",
       "            event.step = 1;\n",
       "        } else {\n",
       "            event.step = -1;\n",
       "        }\n",
       "        on_mouse_event_closure('scroll')(event);\n",
       "    });\n",
       "\n",
       "    canvas_div.appendChild(canvas);\n",
       "    canvas_div.appendChild(rubberband_canvas);\n",
       "\n",
       "    this.rubberband_context = rubberband_canvas.getContext('2d');\n",
       "    this.rubberband_context.strokeStyle = '#000000';\n",
       "\n",
       "    this._resize_canvas = function (width, height, forward) {\n",
       "        if (forward) {\n",
       "            canvas_div.style.width = width + 'px';\n",
       "            canvas_div.style.height = height + 'px';\n",
       "        }\n",
       "    };\n",
       "\n",
       "    // Disable right mouse context menu.\n",
       "    this.rubberband_canvas.addEventListener('contextmenu', function (_e) {\n",
       "        event.preventDefault();\n",
       "        return false;\n",
       "    });\n",
       "\n",
       "    function set_focus() {\n",
       "        canvas.focus();\n",
       "        canvas_div.focus();\n",
       "    }\n",
       "\n",
       "    window.setTimeout(set_focus, 100);\n",
       "};\n",
       "\n",
       "mpl.figure.prototype._init_toolbar = function () {\n",
       "    var fig = this;\n",
       "\n",
       "    var toolbar = document.createElement('div');\n",
       "    toolbar.classList = 'mpl-toolbar';\n",
       "    this.root.appendChild(toolbar);\n",
       "\n",
       "    function on_click_closure(name) {\n",
       "        return function (_event) {\n",
       "            return fig.toolbar_button_onclick(name);\n",
       "        };\n",
       "    }\n",
       "\n",
       "    function on_mouseover_closure(tooltip) {\n",
       "        return function (event) {\n",
       "            if (!event.currentTarget.disabled) {\n",
       "                return fig.toolbar_button_onmouseover(tooltip);\n",
       "            }\n",
       "        };\n",
       "    }\n",
       "\n",
       "    fig.buttons = {};\n",
       "    var buttonGroup = document.createElement('div');\n",
       "    buttonGroup.classList = 'mpl-button-group';\n",
       "    for (var toolbar_ind in mpl.toolbar_items) {\n",
       "        var name = mpl.toolbar_items[toolbar_ind][0];\n",
       "        var tooltip = mpl.toolbar_items[toolbar_ind][1];\n",
       "        var image = mpl.toolbar_items[toolbar_ind][2];\n",
       "        var method_name = mpl.toolbar_items[toolbar_ind][3];\n",
       "\n",
       "        if (!name) {\n",
       "            /* Instead of a spacer, we start a new button group. */\n",
       "            if (buttonGroup.hasChildNodes()) {\n",
       "                toolbar.appendChild(buttonGroup);\n",
       "            }\n",
       "            buttonGroup = document.createElement('div');\n",
       "            buttonGroup.classList = 'mpl-button-group';\n",
       "            continue;\n",
       "        }\n",
       "\n",
       "        var button = (fig.buttons[name] = document.createElement('button'));\n",
       "        button.classList = 'mpl-widget';\n",
       "        button.setAttribute('role', 'button');\n",
       "        button.setAttribute('aria-disabled', 'false');\n",
       "        button.addEventListener('click', on_click_closure(method_name));\n",
       "        button.addEventListener('mouseover', on_mouseover_closure(tooltip));\n",
       "\n",
       "        var icon_img = document.createElement('img');\n",
       "        icon_img.src = '_images/' + image + '.png';\n",
       "        icon_img.srcset = '_images/' + image + '_large.png 2x';\n",
       "        icon_img.alt = tooltip;\n",
       "        button.appendChild(icon_img);\n",
       "\n",
       "        buttonGroup.appendChild(button);\n",
       "    }\n",
       "\n",
       "    if (buttonGroup.hasChildNodes()) {\n",
       "        toolbar.appendChild(buttonGroup);\n",
       "    }\n",
       "\n",
       "    var fmt_picker = document.createElement('select');\n",
       "    fmt_picker.classList = 'mpl-widget';\n",
       "    toolbar.appendChild(fmt_picker);\n",
       "    this.format_dropdown = fmt_picker;\n",
       "\n",
       "    for (var ind in mpl.extensions) {\n",
       "        var fmt = mpl.extensions[ind];\n",
       "        var option = document.createElement('option');\n",
       "        option.selected = fmt === mpl.default_extension;\n",
       "        option.innerHTML = fmt;\n",
       "        fmt_picker.appendChild(option);\n",
       "    }\n",
       "\n",
       "    var status_bar = document.createElement('span');\n",
       "    status_bar.classList = 'mpl-message';\n",
       "    toolbar.appendChild(status_bar);\n",
       "    this.message = status_bar;\n",
       "};\n",
       "\n",
       "mpl.figure.prototype.request_resize = function (x_pixels, y_pixels) {\n",
       "    // Request matplotlib to resize the figure. Matplotlib will then trigger a resize in the client,\n",
       "    // which will in turn request a refresh of the image.\n",
       "    this.send_message('resize', { width: x_pixels, height: y_pixels });\n",
       "};\n",
       "\n",
       "mpl.figure.prototype.send_message = function (type, properties) {\n",
       "    properties['type'] = type;\n",
       "    properties['figure_id'] = this.id;\n",
       "    this.ws.send(JSON.stringify(properties));\n",
       "};\n",
       "\n",
       "mpl.figure.prototype.send_draw_message = function () {\n",
       "    if (!this.waiting) {\n",
       "        this.waiting = true;\n",
       "        this.ws.send(JSON.stringify({ type: 'draw', figure_id: this.id }));\n",
       "    }\n",
       "};\n",
       "\n",
       "mpl.figure.prototype.handle_save = function (fig, _msg) {\n",
       "    var format_dropdown = fig.format_dropdown;\n",
       "    var format = format_dropdown.options[format_dropdown.selectedIndex].value;\n",
       "    fig.ondownload(fig, format);\n",
       "};\n",
       "\n",
       "mpl.figure.prototype.handle_resize = function (fig, msg) {\n",
       "    var size = msg['size'];\n",
       "    if (size[0] !== fig.canvas.width || size[1] !== fig.canvas.height) {\n",
       "        fig._resize_canvas(size[0], size[1], msg['forward']);\n",
       "        fig.send_message('refresh', {});\n",
       "    }\n",
       "};\n",
       "\n",
       "mpl.figure.prototype.handle_rubberband = function (fig, msg) {\n",
       "    var x0 = msg['x0'] / fig.ratio;\n",
       "    var y0 = (fig.canvas.height - msg['y0']) / fig.ratio;\n",
       "    var x1 = msg['x1'] / fig.ratio;\n",
       "    var y1 = (fig.canvas.height - msg['y1']) / fig.ratio;\n",
       "    x0 = Math.floor(x0) + 0.5;\n",
       "    y0 = Math.floor(y0) + 0.5;\n",
       "    x1 = Math.floor(x1) + 0.5;\n",
       "    y1 = Math.floor(y1) + 0.5;\n",
       "    var min_x = Math.min(x0, x1);\n",
       "    var min_y = Math.min(y0, y1);\n",
       "    var width = Math.abs(x1 - x0);\n",
       "    var height = Math.abs(y1 - y0);\n",
       "\n",
       "    fig.rubberband_context.clearRect(\n",
       "        0,\n",
       "        0,\n",
       "        fig.canvas.width / fig.ratio,\n",
       "        fig.canvas.height / fig.ratio\n",
       "    );\n",
       "\n",
       "    fig.rubberband_context.strokeRect(min_x, min_y, width, height);\n",
       "};\n",
       "\n",
       "mpl.figure.prototype.handle_figure_label = function (fig, msg) {\n",
       "    // Updates the figure title.\n",
       "    fig.header.textContent = msg['label'];\n",
       "};\n",
       "\n",
       "mpl.figure.prototype.handle_cursor = function (fig, msg) {\n",
       "    fig.rubberband_canvas.style.cursor = msg['cursor'];\n",
       "};\n",
       "\n",
       "mpl.figure.prototype.handle_message = function (fig, msg) {\n",
       "    fig.message.textContent = msg['message'];\n",
       "};\n",
       "\n",
       "mpl.figure.prototype.handle_draw = function (fig, _msg) {\n",
       "    // Request the server to send over a new figure.\n",
       "    fig.send_draw_message();\n",
       "};\n",
       "\n",
       "mpl.figure.prototype.handle_image_mode = function (fig, msg) {\n",
       "    fig.image_mode = msg['mode'];\n",
       "};\n",
       "\n",
       "mpl.figure.prototype.handle_history_buttons = function (fig, msg) {\n",
       "    for (var key in msg) {\n",
       "        if (!(key in fig.buttons)) {\n",
       "            continue;\n",
       "        }\n",
       "        fig.buttons[key].disabled = !msg[key];\n",
       "        fig.buttons[key].setAttribute('aria-disabled', !msg[key]);\n",
       "    }\n",
       "};\n",
       "\n",
       "mpl.figure.prototype.handle_navigate_mode = function (fig, msg) {\n",
       "    if (msg['mode'] === 'PAN') {\n",
       "        fig.buttons['Pan'].classList.add('active');\n",
       "        fig.buttons['Zoom'].classList.remove('active');\n",
       "    } else if (msg['mode'] === 'ZOOM') {\n",
       "        fig.buttons['Pan'].classList.remove('active');\n",
       "        fig.buttons['Zoom'].classList.add('active');\n",
       "    } else {\n",
       "        fig.buttons['Pan'].classList.remove('active');\n",
       "        fig.buttons['Zoom'].classList.remove('active');\n",
       "    }\n",
       "};\n",
       "\n",
       "mpl.figure.prototype.updated_canvas_event = function () {\n",
       "    // Called whenever the canvas gets updated.\n",
       "    this.send_message('ack', {});\n",
       "};\n",
       "\n",
       "// A function to construct a web socket function for onmessage handling.\n",
       "// Called in the figure constructor.\n",
       "mpl.figure.prototype._make_on_message_function = function (fig) {\n",
       "    return function socket_on_message(evt) {\n",
       "        if (evt.data instanceof Blob) {\n",
       "            var img = evt.data;\n",
       "            if (img.type !== 'image/png') {\n",
       "                /* FIXME: We get \"Resource interpreted as Image but\n",
       "                 * transferred with MIME type text/plain:\" errors on\n",
       "                 * Chrome.  But how to set the MIME type?  It doesn't seem\n",
       "                 * to be part of the websocket stream */\n",
       "                img.type = 'image/png';\n",
       "            }\n",
       "\n",
       "            /* Free the memory for the previous frames */\n",
       "            if (fig.imageObj.src) {\n",
       "                (window.URL || window.webkitURL).revokeObjectURL(\n",
       "                    fig.imageObj.src\n",
       "                );\n",
       "            }\n",
       "\n",
       "            fig.imageObj.src = (window.URL || window.webkitURL).createObjectURL(\n",
       "                img\n",
       "            );\n",
       "            fig.updated_canvas_event();\n",
       "            fig.waiting = false;\n",
       "            return;\n",
       "        } else if (\n",
       "            typeof evt.data === 'string' &&\n",
       "            evt.data.slice(0, 21) === 'data:image/png;base64'\n",
       "        ) {\n",
       "            fig.imageObj.src = evt.data;\n",
       "            fig.updated_canvas_event();\n",
       "            fig.waiting = false;\n",
       "            return;\n",
       "        }\n",
       "\n",
       "        var msg = JSON.parse(evt.data);\n",
       "        var msg_type = msg['type'];\n",
       "\n",
       "        // Call the  \"handle_{type}\" callback, which takes\n",
       "        // the figure and JSON message as its only arguments.\n",
       "        try {\n",
       "            var callback = fig['handle_' + msg_type];\n",
       "        } catch (e) {\n",
       "            console.log(\n",
       "                \"No handler for the '\" + msg_type + \"' message type: \",\n",
       "                msg\n",
       "            );\n",
       "            return;\n",
       "        }\n",
       "\n",
       "        if (callback) {\n",
       "            try {\n",
       "                // console.log(\"Handling '\" + msg_type + \"' message: \", msg);\n",
       "                callback(fig, msg);\n",
       "            } catch (e) {\n",
       "                console.log(\n",
       "                    \"Exception inside the 'handler_\" + msg_type + \"' callback:\",\n",
       "                    e,\n",
       "                    e.stack,\n",
       "                    msg\n",
       "                );\n",
       "            }\n",
       "        }\n",
       "    };\n",
       "};\n",
       "\n",
       "// from https://stackoverflow.com/questions/1114465/getting-mouse-location-in-canvas\n",
       "mpl.findpos = function (e) {\n",
       "    //this section is from http://www.quirksmode.org/js/events_properties.html\n",
       "    var targ;\n",
       "    if (!e) {\n",
       "        e = window.event;\n",
       "    }\n",
       "    if (e.target) {\n",
       "        targ = e.target;\n",
       "    } else if (e.srcElement) {\n",
       "        targ = e.srcElement;\n",
       "    }\n",
       "    if (targ.nodeType === 3) {\n",
       "        // defeat Safari bug\n",
       "        targ = targ.parentNode;\n",
       "    }\n",
       "\n",
       "    // pageX,Y are the mouse positions relative to the document\n",
       "    var boundingRect = targ.getBoundingClientRect();\n",
       "    var x = e.pageX - (boundingRect.left + document.body.scrollLeft);\n",
       "    var y = e.pageY - (boundingRect.top + document.body.scrollTop);\n",
       "\n",
       "    return { x: x, y: y };\n",
       "};\n",
       "\n",
       "/*\n",
       " * return a copy of an object with only non-object keys\n",
       " * we need this to avoid circular references\n",
       " * https://stackoverflow.com/a/24161582/3208463\n",
       " */\n",
       "function simpleKeys(original) {\n",
       "    return Object.keys(original).reduce(function (obj, key) {\n",
       "        if (typeof original[key] !== 'object') {\n",
       "            obj[key] = original[key];\n",
       "        }\n",
       "        return obj;\n",
       "    }, {});\n",
       "}\n",
       "\n",
       "mpl.figure.prototype.mouse_event = function (event, name) {\n",
       "    var canvas_pos = mpl.findpos(event);\n",
       "\n",
       "    if (name === 'button_press') {\n",
       "        this.canvas.focus();\n",
       "        this.canvas_div.focus();\n",
       "    }\n",
       "\n",
       "    var x = canvas_pos.x * this.ratio;\n",
       "    var y = canvas_pos.y * this.ratio;\n",
       "\n",
       "    this.send_message(name, {\n",
       "        x: x,\n",
       "        y: y,\n",
       "        button: event.button,\n",
       "        step: event.step,\n",
       "        guiEvent: simpleKeys(event),\n",
       "    });\n",
       "\n",
       "    /* This prevents the web browser from automatically changing to\n",
       "     * the text insertion cursor when the button is pressed.  We want\n",
       "     * to control all of the cursor setting manually through the\n",
       "     * 'cursor' event from matplotlib */\n",
       "    event.preventDefault();\n",
       "    return false;\n",
       "};\n",
       "\n",
       "mpl.figure.prototype._key_event_extra = function (_event, _name) {\n",
       "    // Handle any extra behaviour associated with a key event\n",
       "};\n",
       "\n",
       "mpl.figure.prototype.key_event = function (event, name) {\n",
       "    // Prevent repeat events\n",
       "    if (name === 'key_press') {\n",
       "        if (event.key === this._key) {\n",
       "            return;\n",
       "        } else {\n",
       "            this._key = event.key;\n",
       "        }\n",
       "    }\n",
       "    if (name === 'key_release') {\n",
       "        this._key = null;\n",
       "    }\n",
       "\n",
       "    var value = '';\n",
       "    if (event.ctrlKey && event.key !== 'Control') {\n",
       "        value += 'ctrl+';\n",
       "    }\n",
       "    else if (event.altKey && event.key !== 'Alt') {\n",
       "        value += 'alt+';\n",
       "    }\n",
       "    else if (event.shiftKey && event.key !== 'Shift') {\n",
       "        value += 'shift+';\n",
       "    }\n",
       "\n",
       "    value += 'k' + event.key;\n",
       "\n",
       "    this._key_event_extra(event, name);\n",
       "\n",
       "    this.send_message(name, { key: value, guiEvent: simpleKeys(event) });\n",
       "    return false;\n",
       "};\n",
       "\n",
       "mpl.figure.prototype.toolbar_button_onclick = function (name) {\n",
       "    if (name === 'download') {\n",
       "        this.handle_save(this, null);\n",
       "    } else {\n",
       "        this.send_message('toolbar_button', { name: name });\n",
       "    }\n",
       "};\n",
       "\n",
       "mpl.figure.prototype.toolbar_button_onmouseover = function (tooltip) {\n",
       "    this.message.textContent = tooltip;\n",
       "};\n",
       "\n",
       "///////////////// REMAINING CONTENT GENERATED BY embed_js.py /////////////////\n",
       "// prettier-ignore\n",
       "var _JSXTOOLS_RESIZE_OBSERVER=function(A){var t,i=new WeakMap,n=new WeakMap,a=new WeakMap,r=new WeakMap,o=new Set;function s(e){if(!(this instanceof s))throw new TypeError(\"Constructor requires 'new' operator\");i.set(this,e)}function h(){throw new TypeError(\"Function is not a constructor\")}function c(e,t,i,n){e=0 in arguments?Number(arguments[0]):0,t=1 in arguments?Number(arguments[1]):0,i=2 in arguments?Number(arguments[2]):0,n=3 in arguments?Number(arguments[3]):0,this.right=(this.x=this.left=e)+(this.width=i),this.bottom=(this.y=this.top=t)+(this.height=n),Object.freeze(this)}function d(){t=requestAnimationFrame(d);var s=new WeakMap,p=new Set;o.forEach((function(t){r.get(t).forEach((function(i){var r=t instanceof window.SVGElement,o=a.get(t),d=r?0:parseFloat(o.paddingTop),f=r?0:parseFloat(o.paddingRight),l=r?0:parseFloat(o.paddingBottom),u=r?0:parseFloat(o.paddingLeft),g=r?0:parseFloat(o.borderTopWidth),m=r?0:parseFloat(o.borderRightWidth),w=r?0:parseFloat(o.borderBottomWidth),b=u+f,F=d+l,v=(r?0:parseFloat(o.borderLeftWidth))+m,W=g+w,y=r?0:t.offsetHeight-W-t.clientHeight,E=r?0:t.offsetWidth-v-t.clientWidth,R=b+v,z=F+W,M=r?t.width:parseFloat(o.width)-R-E,O=r?t.height:parseFloat(o.height)-z-y;if(n.has(t)){var k=n.get(t);if(k[0]===M&&k[1]===O)return}n.set(t,[M,O]);var S=Object.create(h.prototype);S.target=t,S.contentRect=new c(u,d,M,O),s.has(i)||(s.set(i,[]),p.add(i)),s.get(i).push(S)}))})),p.forEach((function(e){i.get(e).call(e,s.get(e),e)}))}return s.prototype.observe=function(i){if(i instanceof window.Element){r.has(i)||(r.set(i,new Set),o.add(i),a.set(i,window.getComputedStyle(i)));var n=r.get(i);n.has(this)||n.add(this),cancelAnimationFrame(t),t=requestAnimationFrame(d)}},s.prototype.unobserve=function(i){if(i instanceof window.Element&&r.has(i)){var n=r.get(i);n.has(this)&&(n.delete(this),n.size||(r.delete(i),o.delete(i))),n.size||r.delete(i),o.size||cancelAnimationFrame(t)}},A.DOMRectReadOnly=c,A.ResizeObserver=s,A.ResizeObserverEntry=h,A}; // eslint-disable-line\n",
       "mpl.toolbar_items = [[\"Home\", \"Reset original view\", \"fa fa-home icon-home\", \"home\"], [\"Back\", \"Back to previous view\", \"fa fa-arrow-left icon-arrow-left\", \"back\"], [\"Forward\", \"Forward to next view\", \"fa fa-arrow-right icon-arrow-right\", \"forward\"], [\"\", \"\", \"\", \"\"], [\"Pan\", \"Left button pans, Right button zooms\\nx/y fixes axis, CTRL fixes aspect\", \"fa fa-arrows icon-move\", \"pan\"], [\"Zoom\", \"Zoom to rectangle\\nx/y fixes axis\", \"fa fa-square-o icon-check-empty\", \"zoom\"], [\"\", \"\", \"\", \"\"], [\"Download\", \"Download plot\", \"fa fa-floppy-o icon-save\", \"download\"]];\n",
       "\n",
       "mpl.extensions = [\"eps\", \"jpeg\", \"pgf\", \"pdf\", \"png\", \"ps\", \"raw\", \"svg\", \"tif\"];\n",
       "\n",
       "mpl.default_extension = \"png\";/* global mpl */\n",
       "\n",
       "var comm_websocket_adapter = function (comm) {\n",
       "    // Create a \"websocket\"-like object which calls the given IPython comm\n",
       "    // object with the appropriate methods. Currently this is a non binary\n",
       "    // socket, so there is still some room for performance tuning.\n",
       "    var ws = {};\n",
       "\n",
       "    ws.binaryType = comm.kernel.ws.binaryType;\n",
       "    ws.readyState = comm.kernel.ws.readyState;\n",
       "    function updateReadyState(_event) {\n",
       "        if (comm.kernel.ws) {\n",
       "            ws.readyState = comm.kernel.ws.readyState;\n",
       "        } else {\n",
       "            ws.readyState = 3; // Closed state.\n",
       "        }\n",
       "    }\n",
       "    comm.kernel.ws.addEventListener('open', updateReadyState);\n",
       "    comm.kernel.ws.addEventListener('close', updateReadyState);\n",
       "    comm.kernel.ws.addEventListener('error', updateReadyState);\n",
       "\n",
       "    ws.close = function () {\n",
       "        comm.close();\n",
       "    };\n",
       "    ws.send = function (m) {\n",
       "        //console.log('sending', m);\n",
       "        comm.send(m);\n",
       "    };\n",
       "    // Register the callback with on_msg.\n",
       "    comm.on_msg(function (msg) {\n",
       "        //console.log('receiving', msg['content']['data'], msg);\n",
       "        var data = msg['content']['data'];\n",
       "        if (data['blob'] !== undefined) {\n",
       "            data = {\n",
       "                data: new Blob(msg['buffers'], { type: data['blob'] }),\n",
       "            };\n",
       "        }\n",
       "        // Pass the mpl event to the overridden (by mpl) onmessage function.\n",
       "        ws.onmessage(data);\n",
       "    });\n",
       "    return ws;\n",
       "};\n",
       "\n",
       "mpl.mpl_figure_comm = function (comm, msg) {\n",
       "    // This is the function which gets called when the mpl process\n",
       "    // starts-up an IPython Comm through the \"matplotlib\" channel.\n",
       "\n",
       "    var id = msg.content.data.id;\n",
       "    // Get hold of the div created by the display call when the Comm\n",
       "    // socket was opened in Python.\n",
       "    var element = document.getElementById(id);\n",
       "    var ws_proxy = comm_websocket_adapter(comm);\n",
       "\n",
       "    function ondownload(figure, _format) {\n",
       "        window.open(figure.canvas.toDataURL());\n",
       "    }\n",
       "\n",
       "    var fig = new mpl.figure(id, ws_proxy, ondownload, element);\n",
       "\n",
       "    // Call onopen now - mpl needs it, as it is assuming we've passed it a real\n",
       "    // web socket which is closed, not our websocket->open comm proxy.\n",
       "    ws_proxy.onopen();\n",
       "\n",
       "    fig.parent_element = element;\n",
       "    fig.cell_info = mpl.find_output_cell(\"<div id='\" + id + \"'></div>\");\n",
       "    if (!fig.cell_info) {\n",
       "        console.error('Failed to find cell for figure', id, fig);\n",
       "        return;\n",
       "    }\n",
       "    fig.cell_info[0].output_area.element.on(\n",
       "        'cleared',\n",
       "        { fig: fig },\n",
       "        fig._remove_fig_handler\n",
       "    );\n",
       "};\n",
       "\n",
       "mpl.figure.prototype.handle_close = function (fig, msg) {\n",
       "    var width = fig.canvas.width / fig.ratio;\n",
       "    fig.cell_info[0].output_area.element.off(\n",
       "        'cleared',\n",
       "        fig._remove_fig_handler\n",
       "    );\n",
       "    fig.resizeObserverInstance.unobserve(fig.canvas_div);\n",
       "\n",
       "    // Update the output cell to use the data from the current canvas.\n",
       "    fig.push_to_output();\n",
       "    var dataURL = fig.canvas.toDataURL();\n",
       "    // Re-enable the keyboard manager in IPython - without this line, in FF,\n",
       "    // the notebook keyboard shortcuts fail.\n",
       "    IPython.keyboard_manager.enable();\n",
       "    fig.parent_element.innerHTML =\n",
       "        '<img src=\"' + dataURL + '\" width=\"' + width + '\">';\n",
       "    fig.close_ws(fig, msg);\n",
       "};\n",
       "\n",
       "mpl.figure.prototype.close_ws = function (fig, msg) {\n",
       "    fig.send_message('closing', msg);\n",
       "    // fig.ws.close()\n",
       "};\n",
       "\n",
       "mpl.figure.prototype.push_to_output = function (_remove_interactive) {\n",
       "    // Turn the data on the canvas into data in the output cell.\n",
       "    var width = this.canvas.width / this.ratio;\n",
       "    var dataURL = this.canvas.toDataURL();\n",
       "    this.cell_info[1]['text/html'] =\n",
       "        '<img src=\"' + dataURL + '\" width=\"' + width + '\">';\n",
       "};\n",
       "\n",
       "mpl.figure.prototype.updated_canvas_event = function () {\n",
       "    // Tell IPython that the notebook contents must change.\n",
       "    IPython.notebook.set_dirty(true);\n",
       "    this.send_message('ack', {});\n",
       "    var fig = this;\n",
       "    // Wait a second, then push the new image to the DOM so\n",
       "    // that it is saved nicely (might be nice to debounce this).\n",
       "    setTimeout(function () {\n",
       "        fig.push_to_output();\n",
       "    }, 1000);\n",
       "};\n",
       "\n",
       "mpl.figure.prototype._init_toolbar = function () {\n",
       "    var fig = this;\n",
       "\n",
       "    var toolbar = document.createElement('div');\n",
       "    toolbar.classList = 'btn-toolbar';\n",
       "    this.root.appendChild(toolbar);\n",
       "\n",
       "    function on_click_closure(name) {\n",
       "        return function (_event) {\n",
       "            return fig.toolbar_button_onclick(name);\n",
       "        };\n",
       "    }\n",
       "\n",
       "    function on_mouseover_closure(tooltip) {\n",
       "        return function (event) {\n",
       "            if (!event.currentTarget.disabled) {\n",
       "                return fig.toolbar_button_onmouseover(tooltip);\n",
       "            }\n",
       "        };\n",
       "    }\n",
       "\n",
       "    fig.buttons = {};\n",
       "    var buttonGroup = document.createElement('div');\n",
       "    buttonGroup.classList = 'btn-group';\n",
       "    var button;\n",
       "    for (var toolbar_ind in mpl.toolbar_items) {\n",
       "        var name = mpl.toolbar_items[toolbar_ind][0];\n",
       "        var tooltip = mpl.toolbar_items[toolbar_ind][1];\n",
       "        var image = mpl.toolbar_items[toolbar_ind][2];\n",
       "        var method_name = mpl.toolbar_items[toolbar_ind][3];\n",
       "\n",
       "        if (!name) {\n",
       "            /* Instead of a spacer, we start a new button group. */\n",
       "            if (buttonGroup.hasChildNodes()) {\n",
       "                toolbar.appendChild(buttonGroup);\n",
       "            }\n",
       "            buttonGroup = document.createElement('div');\n",
       "            buttonGroup.classList = 'btn-group';\n",
       "            continue;\n",
       "        }\n",
       "\n",
       "        button = fig.buttons[name] = document.createElement('button');\n",
       "        button.classList = 'btn btn-default';\n",
       "        button.href = '#';\n",
       "        button.title = name;\n",
       "        button.innerHTML = '<i class=\"fa ' + image + ' fa-lg\"></i>';\n",
       "        button.addEventListener('click', on_click_closure(method_name));\n",
       "        button.addEventListener('mouseover', on_mouseover_closure(tooltip));\n",
       "        buttonGroup.appendChild(button);\n",
       "    }\n",
       "\n",
       "    if (buttonGroup.hasChildNodes()) {\n",
       "        toolbar.appendChild(buttonGroup);\n",
       "    }\n",
       "\n",
       "    // Add the status bar.\n",
       "    var status_bar = document.createElement('span');\n",
       "    status_bar.classList = 'mpl-message pull-right';\n",
       "    toolbar.appendChild(status_bar);\n",
       "    this.message = status_bar;\n",
       "\n",
       "    // Add the close button to the window.\n",
       "    var buttongrp = document.createElement('div');\n",
       "    buttongrp.classList = 'btn-group inline pull-right';\n",
       "    button = document.createElement('button');\n",
       "    button.classList = 'btn btn-mini btn-primary';\n",
       "    button.href = '#';\n",
       "    button.title = 'Stop Interaction';\n",
       "    button.innerHTML = '<i class=\"fa fa-power-off icon-remove icon-large\"></i>';\n",
       "    button.addEventListener('click', function (_evt) {\n",
       "        fig.handle_close(fig, {});\n",
       "    });\n",
       "    button.addEventListener(\n",
       "        'mouseover',\n",
       "        on_mouseover_closure('Stop Interaction')\n",
       "    );\n",
       "    buttongrp.appendChild(button);\n",
       "    var titlebar = this.root.querySelector('.ui-dialog-titlebar');\n",
       "    titlebar.insertBefore(buttongrp, titlebar.firstChild);\n",
       "};\n",
       "\n",
       "mpl.figure.prototype._remove_fig_handler = function (event) {\n",
       "    var fig = event.data.fig;\n",
       "    if (event.target !== this) {\n",
       "        // Ignore bubbled events from children.\n",
       "        return;\n",
       "    }\n",
       "    fig.close_ws(fig, {});\n",
       "};\n",
       "\n",
       "mpl.figure.prototype._root_extra_style = function (el) {\n",
       "    el.style.boxSizing = 'content-box'; // override notebook setting of border-box.\n",
       "};\n",
       "\n",
       "mpl.figure.prototype._canvas_extra_style = function (el) {\n",
       "    // this is important to make the div 'focusable\n",
       "    el.setAttribute('tabindex', 0);\n",
       "    // reach out to IPython and tell the keyboard manager to turn it's self\n",
       "    // off when our div gets focus\n",
       "\n",
       "    // location in version 3\n",
       "    if (IPython.notebook.keyboard_manager) {\n",
       "        IPython.notebook.keyboard_manager.register_events(el);\n",
       "    } else {\n",
       "        // location in version 2\n",
       "        IPython.keyboard_manager.register_events(el);\n",
       "    }\n",
       "};\n",
       "\n",
       "mpl.figure.prototype._key_event_extra = function (event, _name) {\n",
       "    // Check for shift+enter\n",
       "    if (event.shiftKey && event.which === 13) {\n",
       "        this.canvas_div.blur();\n",
       "        // select the cell after this one\n",
       "        var index = IPython.notebook.find_cell_index(this.cell_info[0]);\n",
       "        IPython.notebook.select(index + 1);\n",
       "    }\n",
       "};\n",
       "\n",
       "mpl.figure.prototype.handle_save = function (fig, _msg) {\n",
       "    fig.ondownload(fig, null);\n",
       "};\n",
       "\n",
       "mpl.find_output_cell = function (html_output) {\n",
       "    // Return the cell and output element which can be found *uniquely* in the notebook.\n",
       "    // Note - this is a bit hacky, but it is done because the \"notebook_saving.Notebook\"\n",
       "    // IPython event is triggered only after the cells have been serialised, which for\n",
       "    // our purposes (turning an active figure into a static one), is too late.\n",
       "    var cells = IPython.notebook.get_cells();\n",
       "    var ncells = cells.length;\n",
       "    for (var i = 0; i < ncells; i++) {\n",
       "        var cell = cells[i];\n",
       "        if (cell.cell_type === 'code') {\n",
       "            for (var j = 0; j < cell.output_area.outputs.length; j++) {\n",
       "                var data = cell.output_area.outputs[j];\n",
       "                if (data.data) {\n",
       "                    // IPython >= 3 moved mimebundle to data attribute of output\n",
       "                    data = data.data;\n",
       "                }\n",
       "                if (data['text/html'] === html_output) {\n",
       "                    return [cell, data, j];\n",
       "                }\n",
       "            }\n",
       "        }\n",
       "    }\n",
       "};\n",
       "\n",
       "// Register the function which deals with the matplotlib target/channel.\n",
       "// The kernel may be null if the page has been refreshed.\n",
       "if (IPython.notebook.kernel !== null) {\n",
       "    IPython.notebook.kernel.comm_manager.register_target(\n",
       "        'matplotlib',\n",
       "        mpl.mpl_figure_comm\n",
       "    );\n",
       "}\n"
      ],
      "text/plain": [
       "<IPython.core.display.Javascript object>"
      ]
     },
     "metadata": {},
     "output_type": "display_data"
    },
    {
     "data": {
      "text/html": [
       "<img src=\"data:image/png;base64,iVBORw0KGgoAAAANSUhEUgAAA+gAAAPoCAYAAABNo9TkAAAgAElEQVR4XuydCbwW0//HP/e2k8pStIdCCz+VitIqhX6ULUuiVNYQibKWXSEJaaHV9s+W+IWkQhFS0m1HSautrO395zPXueY+zfPMPHeee3tm+pzXq1d175mZc97fc77n+znnzJmM3VaCkgiIgAiIgAiIgAiIgAiIgAiIgAiIwF4lkCGBvlf56+EiIAIiIAIiIAIiIAIiIAIiIAIiYBOQQFdDEAEREAEREAEREAEREAEREAEREIE0ICCBngZGUBFEQAREQAREQAREQAREQAREQAREQAJdbUAEREAEREAEREAEREAEREAEREAE0oCABHoaGEFFEAEREAEREAEREAEREAEREAEREAEJdLUBERABERABERABERABERABERABEUgDAhLoaWAEFUEEREAEREAEREAEREAEREAEREAEJNDVBkRABERABERABERABERABERABEQgDQhIoKeBEVQEERABERABERABERABERABERABEZBAVxsQAREQAREQAREQAREQAREQAREQgTQgIIGeBkZQEURABERABERABERABERABERABERAAl1tQAREQAREQAREQAREQAREQAREQATSgIAEehoYQUUQAREQAREQAREQAREQAREQAREQAQl0tQEREAEREAEREAEREAEREAEREAERSAMCEuhpYAQVQQREQAREQAREQAREQAREQAREQAQk0NUGREAEREAEREAEREAEREAEREAERCANCEigp4ERVAQREAEREAEREAEREAEREAEREAERkEBXGxABERABERABERABERABERABERCBNCAggZ4GRlARREAEREAEREAEREAEREAEREAEREACPZ/bwJgxY9C1a9e4T5k+fTpatGiRz6WIf/uVK1fi8MMPx6BBg3DzzTcXaDk+/vhjkM+8efOwcOFCbNu2Dd999x2qVavmWo5Vq1ZhwIABeOedd/Dzzz/jkEMOQcOGDfH666/nyk+mDzzwAL766iv89ddfOOKII9C9e3dce+21KFSoUE7et956C//3f/9nP3/JkiXYsWMHdu/eHYhBly5dMHbs2Jx7FC1a1K7PhRdeiH79+qF48eKB7u91sbHn6NGjwbLESzNmzEDLli2xt9ufV334+99++w1Dhw7F1KlTbTv98ccfdpu95JJLcMMNN+Riunr1alx//fW27Tds2IDChQvb9u/WrRuuuuoq+/9eie2B7eyzzz7Dpk2bUKVKFVx88cV2/9hvv/1yLmdbGTVqFJ555hksX74cRYoUQZ06dXDLLbegXbt2cR+zaNEi1K1b127vn3/+OU444YRced99913cc889+PLLL8H206xZMzz00EOoXbt2rny8/r777sP48eOxZs0alC9f3i7nXXfdhRIlSuTknTt3Lp577jl8+OGHYPtgHY499ljcdtttaNWqVa57sq2yn7mlYsWKYcuWLbl+9dJLL9llo10OOuggdOzY0S5TyZIlc/KZtuZ2z08++QQnnnii6/PIt3nz5vjoo4/svvvkk0/myvf444/bdaK9WC/m5bNi0/vvv4+HH34YWVlZtt8oXbq0bSfa84wzzsjJnkw7MxfRb7Gt8Lm8njbgPZ9++mmvZub6+4yMDNe65ulme/kitnP6V/qheD7dWUQzViYaA/ZWlbZv326PKfSr69ats/0P2+R1113nq0j0WXfccYfN45dffsExxxyDvn372uNCbGK/pw/59NNPbX/FPvrII4/Yfixe8vIpvG7SpEl47LHH7P6yc+dO2yb0n1dccYXrbf/++2/85z//sX2bW3ywYsUKu+3PnDkTP/74IypUqID27dvj9ttvx8EHH5xzz2R8Sry8V155pe1nTfrggw8wYcIEzJ49G/T5ZcqUsf0ofV/9+vVz1SeZOIP9zy09+OCDtr1ikxdTMx7Hs1vbtm3teMYkv0xj78ex8Pnnn7fHHcY1zvT777/bNnn11Vfx008/oWrVqnY81Lt371zxkLmGvNjW6Zvp7ytVqoRLL70Ud955Z85tn3jiCbzwwgtgeXn/Qw89FI0bN7bzxI5TXh3Ei5Hz+ni+ge2GcTR9SJQSfcb8+fPtPrt27VpcdtllcevI8ZL1HzZsmD3WMdatXr067r77brtfmsRxiuPhxIkT8cMPP+DAAw+0bde/f/9ctqNd77333pzns+3wXsynVDAEJNDzmbMJOjiwc1COTbVq1UKpUqXyuRTxb783BToHd3KhWKEQYpAbzwEzEKYDZpDSq1cve9BgoEQxQ/FhEoNxDnoUNcy3//77480337QFHoXbkCFDcvJStDH45/O/+eYbUMikQqAzCGMAwfTrr7/ixRdftEUUxcvLL7+cr7aOokCn7TmZ0LlzZ7sNUPzRbhSGTZo0sYW7CawoFBlMMR+FNUXs//73P1vc0d4U1IkSA10GeEcffbQtYDkJRBFI0cnghwGZSQwGOYBR+J9zzjl2MGMmEhgM8WexiYExy8ygkgNurEDn/c8++2x7QO3Rowc2b95sB8EbN2608x555JE5tzz33HPturEcDRo0sAMqlpPtn23eJApRBtEU7wy4//zzTzvY5bWcTGLwZRIDga1bt+Yq9vfff48LLrjAFhNsyyYxIGRgyGCP9162bBluvfVWe9Lsvffey8lnBDqDPtrRmSiUnWLe+TvajNewn7sJdPpT9u/jjz8ekydPBn2pm0BnnyObk046CYcddpgtkFh/lpH9knVgSqadMT8nt9gmmjZtaoscthWyIkMKobykKAn0V155Beeff77vScB0Fujsi2wr7O/saxx3GOSyv9FPeKU2bdrY/Zc+66ijjrLFDX0R+xD7jkn0X+w/bNMUhPQp7N8cRxioly1bNmmfwgv4XIo0+qozzzzTnkzkszje9ezZ07X49Bvs7/RTsQKdgrxmzZp27MKgnb6W7Z7/pijgWJqZmWnfNxmfQqHFsZ0TEs5EAchJEZPYrjjZxr/Z71meRx99FF988YVtG+fEYzJxBvvfeeedZ4tXZ2L9OAHhTH6Y0pey/rHpjTfesNsP/RAnH5iSYeq839tvv237Zwoy+iKnQOeiw8knn2z7ZrZdtj1OCAwePNi2O4W2M7FdcpxlrMJ2Sd/M2IhtgO3QJNqZ9uV4QoH37bff2m2ME8W0PcdPv8mN0TXXXGOPfewfzsRYjRPFsYmM2Rad46Pf56dzPo5vxx13nO0PGOdedNFFcQU6+zZ96I033ojWrVvbC05ff/01KlasaF9nEiey2U8otDmpRZHOBQEuaDA/J3CYGEvyubQx2w39lQR6wbYWCfR85m2CDreVsnx+tK/b702BvmvXrpxBnANynz59XAU6g4h69erZ9eGqgpuDNpVlsM3AkIM3nZtJFC28lk7fJOfzOVg99dRTKRHofD5XTJyJEwYUlXSGdJhuiSsWzpVPXwaMyRRFgU5ByeS0J/9v2gy5MghJlBjAvPbaa7ZdErUfzljff//99sqAc7BnEDVixAhb3DEgYWIgyaCRzzeJATVFIAdBp5g3v2eZufLLFTKuXsX6BYpOlo/BuJl04Io2B0gGjiZgYVum4GRQetNNN+U8n5MTFAwUn6eeeqr9c4r7cuXK5cLDiQL2KbJlXRMlBrgczDn5dcopp9hZeX3lypXtlXgGxCYxwOvUqZMt/k8//XT7x0agc8aedfCT2I5573HjxtkTHW4C3dl/KfQpkN0EutvzuCJK23HCjxMwTMm0M+7MoRAhQ04OxFt581NXZx4J9K4Jd1ElyzMV+bkaxbZIv8BdUCZxUoaruPTp3D0SL7EvcCKHfcMZKFO0896c1DE7uyiMOPFDUWQm7tn/a9SoYQfeFHWxycunUDBR9NM30O/4Sdw9RLFHf0MRHCvQGaxz0sLpE3hf43+4C4BiKl5y8ynMS4HOvhy7Chx7HzefRt/OPsnrWS6T/MYZzO+3/+WFqbMOnKgkY04+GjvnhSnjGa5Yc0KBiw+x7LjDiW0udsKY4xmfxwlpI6YprvlvTtjmZQfQ4sWL7ckSrqJT8AVJnGDnii0nTROlVMRMQcrp91rGsIwNko3vnG2XkyUcP912CXDChxP7nIymD4mXONbTlzDO4YSNSZzA5io6J5bpZ5jMYhX7BG3ByUEJdL8WT00+CfTUcIx7l2QEuhkcGAww8ObATJHAmcvYrXB0XJwRZ3BJJ8XAnh2LW2CciSvT7IjcBk4HzO2dnDVjR+Q1ToHOGVGuAHIml2XgLKtz+ylnSRn885kUwNxWxgGBZeVMW5CUSKBz9c9sX4qtX+wz+ToBByPW28zgMw8FGoN3zhK6pfwW6AyMGOTMmjXLdoQmELn88stt+3Bw44o/Z6HXr19vO0LOjDMQoaDnNlHa27lFm7PavGbKlCl2XU877TS7DVC45XWLO1deGWRxiziDRtqfgy3vaRLbB8vC57J8DDAoIBl0ceaWiTPaHKgZhDCI4JZHBmzDhw+3hW0qEtshhXBs4BvPviNHjrRFWKJt7iZwZB0p+EziyjDbKLeHmYkCCjwGR7HBpBHosbsluFWUs9EMmij02VadAt28tsFnsR04E1f1ueLF59Mu7HNc4WK7ce7M4Qw4Z9xjt4S6MWHbYwAeu2LuzMtBmvXkMzm4GyHKdsxJEa6wOX0ThS/FCoNCTmgw5UWgU7wwIOGkip+gOVmBznLxGk5cmN0u8dqkWzvjzgP2SdaNbTBVyU9d2XYYYHECiO2U/Ym8OU6YySeKKgbfFIAmceXUvNbD3zNRSLFtsd/z90x+/Q+3UnIFkGKS5aaf4mQKdz3Ee7UrkV+Kt4LOlSOKj6VLl9qvZ5A3n8EVXJP8jE20M30Z+wgnWBhwcjWcK+POV1dibUlhTt4UU+zbJpmgNnYVPPZ6Cln2ea6CO30P+w5XKc2YwBUv+lIKJOd2bt6PE8zcXcaVUGfy8inMSz9DX0T/4kcgcNcRJ57YB7nrzO0VONP+YycY2Sa4+sm257SPH5/CPH4Ferz+xpVzxjlsK24pUZzB/H76X16YOsvC/kKRxFiG/cGkvDDl7iWO1ZywZawYK9D5CgYXHjjuOW3PScWzzjrLHuvN1n0z9jEmNKuo8Ti7/dyION7HudqezD1MXjeBnihmctviTt/HeIhb9jlmU7jy9aP//ve/uXb1cIwjB8YmjA/JkP9nv2dyTvpy/KUPYYzJdkYfQl/KvM4FBNOOeC/6LtqcuxW4yp3XlEigc8KHdqOPSJSoKcgqdsLNTK5wYubqq6/e4xYS6Hm1WrDrJNCD8fO82gQddKCx70axEzvfieb/uSp1wAEH2OKGHZ4dhluSnKtPHHwYWDC4pJCj+OFMPgd8zrCbWXK+Q0JhxY7LoL9Ro0b2CiIDTm6hNZ2aAzA7LQN940D4fK4MsMNT1DPx91w5M1va2Gn5DhgdnnmP3rmlP9E70LHgEg2cFLB0+HSKnPVloMVAh8/kdU6BMmfOHDuA48DFyQQGXhyMuL2ZTjd265opR34LdAaunCRhgMXBmbwZCHHQZPBHG9DetD9XOyi4WX4OumbrMoNwM6BzUobtiSKd2ywpkCnoOZPKFZm8CHSz+snAjEEWhdvAgQPtgHbatGk5q9ScCGBgz0GJz+VkCP/P2XNOhDAY4ADPOrEtcnsig36uDDHgM4EbV2U5mOf1PXhzPQMUilJn4qDLtso+wNVk2p/PZmCfKLGvcCKBEw3sSxyAOUHEnRkMnJ1bArkSTpHMgd1scefAxyCVKzjcym4Sy8P2ShZ8BcJt4o4CgNso2dbJxZk4qcN2wL5P5malisLEufWT7YurIOz37JvxEsUA7UBfQ9vFS3x9gO2BbYyTMiaxzvQVDIJod2eib+IWWvN8I9DprygS2CdZPvoYt50P7OPkyiCfPPwEzX4EOlcj+IeTSiw/GbJPJjovgPVya2dsTxSO7Be0Fyei2H/ZNzh5Ersd1nOg+CeDV125CkM/zoCPbYTtnjs4WBfaiT6AydiH/oHvxdPenDjh32zLZvKE/Zt2pehnW2A/9eN/zMocBQCFPf0VJ3BoMwaknDigHenDKBDMDij6M7dt2iyzm0A37Zy+j+Vm+6E9+DfFIX2pn7GJ/ZrtnavC3I3ByWUG2Bxb2af5fyZzhojzVSs+m3Zmu3Em+jkGzVxVT+RX2Nbpi9hGnIl9h+2WtuJqPPs2xzLyov91Ju4uY7vixII5x8SPT+E9yJz1o1jhWEo7sU2QJ8UGz7lwJo5HnHTgIgDt6CbQOenKtsdxjDEK/T39CLdHcxLS+YpNbNuP51OYj/djWzQrjrQv+xonop2xklt/YplYDop0Tuy5JT8CnTukOL7SV9A+jA1izxFKlqmzLOxvbC8Ujs4xIlmmHGMoONkPyNxtcoMTtc8++6y9euucHOKYyEkftm2O+0zcHcWdW/w/40Xanz6DYxv9hNurmGzX9CnsLxT6HKO4fZpxTJAUT6C7xUwcb2IFOsdSLjLRJ7ONc+xhfExfSV/gjDnoo+hn2AdZV75+xn7CyWaOtUags+/RXoyLeQ3bP/uwOfeA9jAT2GbCkrE5uXBij2XghD7LysRyJJPiCXTy5+/YFjie0v+yjOwL9COMeZ07vDp06GC3GWoGsmNe+nHGDrS/2SHoLJsEejKWSl1eCfTUsXS9U6JD4jjgsHOZxE5EwUZnx0CeiQ6QgwTzcbaciU6VgSX/73SE7KAUEwzKKKqNsOWAaFY2YwtpVtDpzLjqaQZBdmAGamaFzKzuUZRwa268xC2pXJlj8Op8t9ULc6KBk0KAQQwHCM5Wsv50wAwkGCQtWLDADjhMojBgPnJgYp3ogBnkxEupFugUrUz8mwMeAwzuXDBBGp00HSMDWg4CJrGuDI7o+Pnem0lmxdQIIq6wcKaTq2icCTeJgwxXipMV6AxG2JY4oNBJm90HnNBhMMKtg1zpYWIgzwkQ7rBwS9z+x7pyssB5OElsXg6c/MPgN9lVSNqcq/sURG7BGFegzXZU9isOqBSZfhJXqrldjH+bRHHPth+7lZntkv3BrEIzoOFqVWx/4/vUHMg5U82+7SbQaQOKF04QOLdomoPqONnAts2An3bnQOt8h5plZb9jQMs2FW8VifnMVn4vG3F1nK9scObd+WoGA0wGmrGrirw3Az/6FfN8+hWuDjHoYvuiQOBEBgMCCkrmN4miiUEMA0JzeJWXaOW1fgQ624rZjk9fQhvQzolSvHZm7kXhw3Ly/6wPmTDA4aRRolXZeM/0qqsR3pzkMavgvBd5Mag2rzZQwLPP0h9TNJkdD5ww42QvJ3aYKOrpQ03f9ut/GNAxwOOqcLwU9B10tntOdHAi2Uw88FkMoCnceAYDfaWfsYmTu9weSt9GMRMvse+wrZKfWUUkI056Ov2BuZ47FijqaZd4iX2Rr1I4DwNjXjMhx75EX8W+TQEQuyuFec1EhZlw4c/8+BTmo6CnCKdAY0zACTX6XPpITqg63/MlH477nNQ2/TjeIbIsP21AUWYS2yR9UqLXiOL5FN6DkyccOzjmsG2xrZqzLnjfRIkTDvS9bosh5jovgc7Xczhhx7GQEzIUt9wpFrslOBmmzjIznmO74hjKsSA2+WXKcZkxG2MhMznkJtAp1hh7xL4GZs5PYds2PpGTQ/TznFxle+Q4wziQCzKcYOM9Ysc/cjBjH9s5x5N4OycSGi/ml/EEulvMxEtjBTr9HG3NSQbnBLLx20ags40xduRYyklHk8wrZM6DR82ZA1wEch7sanyL87UucmIMzlg+VvDSLzN5vVoWyyueQOekKuvAMY1/uHDCXVXsO4wTGfuY3QC8Jyce2M8YJ5rEyQbGFGbyIPbZEujJtN7U5ZVATx1L1zuZQJyBUqzjYid2rqrz/1yN5uDoTGYFh4EJOx4DfDoIZ9DC/AzaOOByQKEj4qobg5dEgboR6JzlYxBgEp0unS+dEgM/zmgzKOJMLN95ZdDEQMe5jTwIykQDpxGdsSeeMpigmGFQbMQXxSEnKrjKxOs4g8oVdwawHGSdJ5E6y5tKge48xZ3PoF35Pi5XrYzIoSOkmItdvaR9ORjGik4G/xQuZguSsTO3XDmTWa1MVqCbLU7kFDuRwVlYBqAUiBQdnGlnuTkzSyHKNsxB3SSuBDCo44wxgwO+fx+7yhqkrbDN8p6czGJw6Pb+JwctDuZcjaH9OZnA9sBXOBIl3pvvbrOPccWJgpkDMtsXA3wGbCaRMSdJ2HZoX87us59z9Yj2M8KTQQ8FJAU+BQBTvFdfTODEiQuuftC+ZMjgnsEdAwe2bT6L7YGz+rwXZ8L5O4oFDqbsq24BIJ9t3nWk/WIPY3KyITsKJNo4dhu/EejkbCYTzbWsN+vsJmhMHoovBpi0HcWsSVyNZZ3Zjp2rEW7voDvL6kegc0KTz2UQTHHJYJJ91flesPOeidoZA1tOfMa+SmAmThj8cBIr2eQl0Nnv6ffZF53BMsUE7eB8PYJ9kP2EdeQYwjZJscNgjMEhfQ2DR/Z3s2PDr/+hWOIELMUW/1BYOl8JYb2DCnSOY/TlsZMRvDd/Th/E9udnbKLgpg/iq1j0Z1xJT3QqutNutDXHXrf+RCHK1dXYLenO6ylcKDhZH2cyAt1sMzYCnUKBdnYmI9DNhFgyPoXinEF5rPCnf6NPYr+gaOAiAMU5/YoRw/HOqKGwYT+n/6EAoKClGOIEAPs126jbq0SJfEq8vsLJIE5GJHqvneM6fTT9e7xD73h/L4HuVgb6JPpfTo6Y3R9+mcbej1wY47mdip8MU9aRk3GcQDQ7KtwEOscC7qiib+B4xX+zHXLc4jjNONG0S7ZTtoXYE+uNyHdb6KFNOBaxf3GM5ZjLyZ9kT3KP5RRPoLvFTLw2VqBzjOQuCPJxJvMagRHoxse4HepK/8nJFLOCztVp+l3GmM7EmJjCmH7UnBFB38zJ33g7OZIdF5g/nkBnuzRxZexXUVgGtl3uhDGHsXJc4gIf+wxjTfpQtkdqBXJxe71BAj0vFgt+jQR6cIYJ75DsO+jsPM6ZLd7crJaa2X8OfAzEY0+k5pYpBh4MPjkTzCCdq7B0mPFSokPi6GSch0IwKKBw4CDDd3XoLPkczs5xRjhISjRwcjaXEwXOAyzMsyggGHRx9pKJq6oMGpy7Afhz1oMDOAcgt8AslQKdAaU5eIoBHB1e7PYwDigcxGInWSh0nbsqYpmSPx0rRRPtYXZVmHwURZwISlagm7YTuyLL+5KbeeWBAwGdNX9GgcMy0PFzIKC4N+9ocls82wWDCDNLzXcxOUniFPPJthk+j4M32yYZ+32fnQMnJ6G8Di+i2OAgxRVG5ztl5MmdIeadY9aJLPiz2M9/sXwsp3kfjAEZBz9ngM5dFRSdfBYnmcxrJLQ9Z/+5zZWBDxNXdDhDzv5uJun4c4osro5SmDOxvBTODJI5eeZchTecWQ/6GP6hX4ldEXHag1t/uTuAgzlXGJwpmS3u8WzMIJFlYH/lZAsFHcUy26LzFGCKSLYdti/W0a39+BHoseXgpAonX9ieYycavdoZy0khxQDMuQrPYI2TWFyJzstBS14Cnf2ePttt9YVcOC6Y8YM2ZnDGoJnBJYNW7sRhH6Ug5/jAyTb2I44bTH79D/OyLfFZ3BXE3R+cJKJfMIcTBhXoHMfYvt0OgWTdGGxTeDL5GZt4H7Yh9jnuGuA4wJ0xiXaE8d7puMU9GZ9C38Eg3HnAJetltjmbg6U4BtN+3KJsJlu4c4C+hD6FYyTHee5Ioy/leEzuzt1rZMst5ox73M6LSeRT4vkJ9lGO6/HejzXvTnO88TpRPy8CnXw4LjhXSP0yja0Tt1BzspN9MvbgTr9M2d/Ig77HvFrI53DijZNQ9Ev0p2YXA1fBaQszwcRdTOwHnCx2ftmEK+YcS2LHSPPalPP1STdbUbxyoodlczsgNZmxPp5Ad4uZeN9Ygc5yUGBzUsGZ6A/p941ANz4m9nUDXsN6cPLDCHT6y0Sr3owFzAQ+/TgnAjmOpyrFE+iciOC4yL7pPASZz+WiECeR2Yc4+WbqH3tgKyeuyZBjmfNcBFN2CfRUWTG5+0igJ8cr6dzJCvRUrKCzE3J2O5kVdLcZ3ViB7qw8nTaFKFdmTLCfNBzHBYkGTnOYjptA50DJFVyzwkeH6nxX2zyCvzeHJLm9c5pKge52inssG7fZbuZhfTjQOrckOa/lhAT/7M0VdGd5GMBxxZjBBUVA7DZOrm5xFpv9gKs18b4n66ftGNHEe/JVjmQOsjGBo9vqlPPZ3OZHGzC/M3F1iCtDFOMU1mYLnFsgyvenKYQYsHBQpa3jfVucz6A4N69EmGdyCyMFPgNllof9mZMxZmuys2zcFs7gm6t0HKDZPtwO6jHinMEaA4lE4pz3Z2DOiTgGk7GrYfFW+zjBQEHtPCQunm3NqysMMNhvzU6hRG3BbbKA+fMi0Dlpxwmv2F0AftqZWdGMJ9AZnMVO3Php414Cnf2eQoG7DNxW0J07oYzfZHDGFW7uzOKKGQ8m4+QPV8y44si2YyY9/PofZ10odinyyZO7ITg2sG8GFeheK+ichOWKcmzyGpu4E4UilHXnjgK3LeXOe8Z7ncP4AK9D4rhzh8+IPSTOvMcfe0gc+yfPsXAm2o193xwSl4xPoe+gGI8V6NzazPuaYN28f5+onZI5J8R5HXfmxR5KRb9FoUAfyJgiNiXyKfGeazg7P0lm8hpxTt/B9ueV8iLQjZ1MXMVn+GXqLA93uXBCma+ksW/EJr9ME702ae7J1WzuvHImTuyxr1JochWY8aHzM5vmSyWxAt2cjeAWI8bWgVvCWc94u7e87GN+n+iQOLcT/v2uoBt2flbQeU/+MQKdExjk5/ysr7M+HKvNFnEvP+6XgzNfokPiOKHNcSxWoJuJdHOYo3n1z+0gQO7KZbmZNzZJoOfFYsGvkUAPzjDhHZIV6PHeQedKgZm9Y4DFQJXbipyHEZnTKWPfQecKuvO7oLFOO947ZokEurkHV/8Y3MUegGNZd6wAACAASURBVJMs1kQDJ8ULVysZZDq/r2xOIObsPldmmbgqwtlE7jZwHipjDmaJ9w5iugh0rhQyAKcgdDusw3DNj3fQuduCW/jI1QT/ZqWJgzpnmeMlzrwy0Iw9SMmZn/Xh6hondpJNnAjg4M/gmgOm3+2p5jlm6zgD89jDGp1lYT8hewbDzu9zc6WQgbZ5Z5vloQihyHQG05w84Gokzxbgqjk5MsDkyqozMdgz38HlqkCiz8TRHpz9puj3Wu3j6yecNWdQ5XxnnH6IqyV8T5NC3evVFHLiiihX890+7WQ+s8aA27kzwASz5jWbeHamWOGEB9ub+U4wgwa3g3P4Og1X8Fl3I8Rj75usQKedeF8KSm7/MxMQftsZd6pwtYqTk+bANZaJfpmrZG47Ufy0ea/AzqyIxE4MGP/p3IbKvsjVcvY59hky5+o+A0xux2Qf4iqecxePX//jVhezvZ/34xZ0c1K0c+UxEYPYQ+LMO+gsv3NFjhNGXCHjKydcAYuXvMYmBrM8Q4AsuKIYL5nPrHFShq8QmMS+z1davD6zZiYaYicHuZLHyUvnZ9bM10Y41ptdafy9+cya+bpDMj7FtJnYiQT2J04i0dfRl7FNM8h3Jv6fk22sK8vGIJ5+kauFbOPsr04/Yw6AczurxsunxOPPyS762Nix25yxE/t+eKI2lheBzgl91otxldlZ4Jepsyzm2fH6g1+mtInb60Nc5Wcsx3bK/hFvdxl9H88K4HZotjNzurvZURG7E4Fin+OK1+dMKeI46WcmA/34u3h5ggp0v++gm1cueFaO86srbu+gkwsn6xgfOA9mdauDlx/PC5tEAt0cdGcm+8z9WS++4sexgHamv+IEYKwvYqzCOnFHFcew2CSBnheLBb9GAj04w4R3MEEHg2LnaePmIueptuzU8U5xd3Yoc4o7VzsoPLjVnIMv/zjfITanuHNFiCsrDPK5WsXVR4p55ynuXivoDCQoYunYGSzwHSx2fLMialZ8kzkkjoExy8LEYI7Xchsbg3b+cR4cZg5Jo3NhwMBBituuyYwBvnkPmasi3LbI4IczwgxIOUHB6+n0nVueyMXMFnJF0ZyWz/JwJtR5EIiZGfU6eZOrEEFW0LkixJlaOlPWgzOjFHd8Lgd2CnMOvNwWzACUK5xkT5vw93SuQU9xZ3BNdjyHgO2CIsac4s6glu2Gk0RszwwiyZC2oDBhG+QMN+1IUUURwICAgoJlZ2BDEcDk95A4Di5kwpVi2sn5fXLehzxMMMJVFDLhu7cMHBnk064U2Cyfc3LA7fncDcByczsw39FkQMbBmu2cExhsa+bUYx6QRMHOdyTJjLy4IsH32ZyTRm4OIt7EHYUUeXIXBblx4osCmcwpUpyTTuaVApaLdWbdWB4GzrSPSVwhY/DGlS/2j1hxznYUe6iT2X5uTo13q4PZHsiJC/ZJrvAzMKKwd06ksSwsI/sTeTIf+yMnGCle4h1gaZ4ZL9hhwG/6IwNItkXzLjXLYHZYMEjhRALrz+2dDLTJn2V0npidTDtj2Wh3tnOuVNHfcHWTYoG+gm3GtBNzLoSfb8iyrlxJM2cVOLlzQoD9iW2TK5esKyc5OHHGwJFCNvaVGbYjvm7C9mM+J2cml3jv2F1Jfv0P+zB9FINxs92XfYTlon3pv/lvlpf9iecdcJcEg0DaIFGfcJ6gbnYqcKs72xgDSdabY4c5xd3P2ETfw/pTbLEt0qdyooK+mivJfM+cye2QOP6c9WW/4hZw075ZNv7fua06nk/j/dle2ZcpnriiTp9kXkczPCi8eH++G8oxm+XkGE8hQYEa7wR8Xh/Pp3Byn9t12d9YPrYjvv5Cwch+nuhcjnivwJkVWPpiltO8g04ebMMUMbFnEnj5FL72w3GCNmLfpe+m72Lsw3HVufXWxAPsK24r587Pw/qNMzjWcWKVIoXjiTkkjn4idoU+L0z56hknvMnUbYI0L0yd/SjerjwuTtBPsJ+y77Pdc1cNfQX9gjNxdZ/1pR8jQ7ZZ8/lUczYSYwD6Gvp1xh30A/R9fFed92dM54ydGHfxZ+a72q6dP+aHQQU6fTx9nznFne/gs31xpw/jPpaHMQKTEbeMebjQwAk31pm7wRjjGL9J23Hyne2JsQHvz1d7WGcyo4+jb2ZKJNCTOSSO5eTzmOgDaRPu4GNifGz8Af0Dx3GWmbEH2y99G30M+7n5ehF3uHAymzuw2C7oZ+jz2fY5TtAvOF+b4PjMelNLcAKJ8b/5zjpjnrwchOrH/sqTTUACPZ9bgtd2JOdhQqZTc0WNAxA7PgdAih9nwM0icwA03ySn6KbzZ6AY+2kzDnIcXCjc2BG5iskAgPen+PP7DjoHK64eMPDke7AsK4MvHpDDQNUIB+eEhNdn1kzg6mYC5+mZ5vd8B5eDAAcDBuMcnLmiEDtTzEGes74MdsiGAxcFCp2q873iRLbhRAB/bxIdIR2r88Rat3IHFei8J2cr6WQ5IHKwYF0Z2LK+fB/f1IGClasgDDBpDwaBdMTcupbsO+imLhSBbt9B5z2ZKELZzrjFmW2HgQoDXvKlOKPDpqjjAEdxyYGSQoVtjSshzvcS/X5mLVE7YZmcwofM+J4jBxsG8xQFDEi5cswA0blVO97zuf2N7YqBP4MRBp98PYLsneKCwTNXoBi4U1RwJwlXEDiRxf6aaAt5vGCaXCk2uUWQrBkAsU1xsib23WsG22YFj0ESB2/6BPM+sbGp19ZVpyDiNewzDOYoas0EWjw3SaFBVuxrnCTj4M0JI+fuA/6eqxN8DgME5uOOAfKkL/JK8YKdRPVytn9OZDBY4WoRAxOumjKApN9yvu6STDtjmbmLgMEP/RKDPgoSilGKZfPZLuYzr9e4bdGNrXuiNmPaOYMxBlfmO+iciGJ74+9jJ1rYlugLY1fFzIFQbOMM3p3Jj/9hu2MbpqDhyjzrTpsysHfej/7aBO7klZfvoHNSjn2abYztnAEkGZuDJ/2MTRy32A7MwXJsnwxU6S/N99/JwO0za/w5/RwZsvycHOaYwn7ONuRM8XwK2z1txkk02o+BP9s//WZsolDjWMuxhv6Ku3rYzmInJmOvS7Rbj8+kb+AEHv/N8YSTDmwfiXbTJIoPOFnJcYoTJRQRbIcsKycUYj+z5cen0EZsP9yxQN9Nf8dYiDEGxZOznEb0xfMdTjHoN87g2ME2wvGLbZptzRwq6GanZJiaV4LcPqHprEMyTGPrHk+gc9ylGGe75Vk4jK3oK2L7vfH9HLspZs0hhjxnyOlbOC6x7XO1lrEgx0Hu1KFN2KZjD4Slr2Ws4vY6Sjz7BRXovC/bEWMVTmAyLqH4pihnDOL8NCvbCv0J/TN9Cfumea2FMa7zoDeKVY5nnDjieMY2wviHk8zss+bA1EQC3e9iD+uQqJ3Hfp6WtmAMxniQ5WQ9WP/YTwSyHdCXmfNJOB5T3JtJGadNEr1KExs3eI3j+n3yBCTQk2eWb1fkx7aYfCvsPnRjBqEMFBhoe30zeR/CoqqKgAj4IMCgiRMZXFk2Jy77uExZREAERCDUBLjySgHIVx7Myu/erJA5D4ITQGaHk1t5KD4pcDkx4XXw4N6sj54dbQIS6GlkXwn0NDKGoyjcBsut25wFVxIBERCBZAhwlwBXK8133ZO5VnlFQAREIKwEuHJPYc5dj4kEcX7UjzvMeEYTV8G5g4ULLNztxJVi/s4krqZzApW7BLnDgDsouJOCu624UzX2M6L5UVbdUwTcCEigp1G7kEBPI2OoKCIgAiIgAiIgAiIgAqEjwFf1+NoHXxPku9l8XYyHevK1QOerRHz1iYcgUqjzlVB+VYVby7kN3Pm5z9ABUIFDT0ACPfQmVAVEQAREQAREQAREQAREQAREQASiQEACPQpWVB1EQAREQAREQAREQAREQAREQARCT0ACPfQmVAVEQAREQAREQAREQAREQAREQASiQEACPQpWVB1EQAREQAREQAREQAREQAREQARCT0ACPfQmVAVEQAREQAREQAREQAREQAREQASiQEACPQpWVB1EQAREQAREQAREQAREQAREQARCT0ACPfQmVAVEQAREQAREQAREQAREQAREQASiQEACPQpWVB1EQAREQAREQAREQAREQAREQARCT0ACPfQmVAVEQAREQAREQAREQAREQAREQASiQEACPQpWVB1EQAREQAREQAREQAREQAREQARCT0ACPfQmVAVEQAREQAREQAREQAREQAREQASiQEACPQpWVB1EQAREQAREQAREQAREQAREQARCT0ACPfQmVAVEQAREQAREQAREQAREQAREQASiQEACPQpWVB1EQAREQAREQAREQAREQAREQARCT0ACPfQmVAVEQAREQAREQAREQAREQAREQASiQEACPQpWVB1EQAREQAREQAREQAREQAREQARCT0ACPfQmVAVEQAREQAREQAREQAREQAREQASiQEACPQpWVB1EQAREQAREQAREQAREQAREQARCT0ACPfQmVAVEQAREQAREQAREQAREQAREQASiQEACPQpWVB1EQAREQAREQAREQAREQAREQARCT0ACPfQmVAVEQAREQAREQAREQAREQAREQASiQEACPQpWVB1EQAREQAREQAREQAREQAREQARCT0ACPfQmVAVEQAREQAREQAREQAREQAREQASiQEACPQpWVB1EQAREQAREQAREQAREQAREQARCT0ACPfQmVAVEQAREQAREQAREQAREQAREQASiQEACPQpWVB1EQAREQAREQAREQAREQAREQARCT0ACPfQmVAVEQAREQAREQAREQAREQAREQASiQEACPQpWVB1EQAREQAREQAREQAREQAREQARCT0ACPfQmVAVEQAREQAREQAREQAREQAREQASiQEACPQpWVB1EQAREQAREQAREQAREQAREQARCT0ACPfQmVAVEQAREQAREQAREQAREQAREQASiQEACPQpWVB1EQAREQAREQAREQAREQAREQARCT0ACPfQmVAVEQAREQAREQAREQAREQAREQASiQEACPQpWVB1EQAREQAREQAREQAREQAREQARCT0ACPfQmVAVEQAREQAREQAREQAREQAREQASiQEACPQpWVB1EQAREQAREQAREQAREQAREQARCT0ACPfQmVAVEQAREQAREQAREQAREQAREQASiQEACPQpWVB1EQAREQAREQAREQAREQAREQARCT0ACPfQmVAVEQAREQAREQAREQAREQAREQASiQEACPQpWVB1EQAREQAREQAREQAREQAREQARCT0ACPfQmVAVEQAREQAREQAREQAREQAREQASiQEACPQpWVB1EQAREQAREQAREQAREQAREQARCT0ACPfQmVAVEQAREQAREQAREQAREQAREQASiQEACPQpWVB1EQAREQAREQAREQAREQAREQARCT0ACPfQmVAVEQAREQAREQAREQAREQAREQASiQEACPQpWVB1EQAREQAREQAREQAREQAREQARCT0ACPfQmVAVEQAREQAREQAREQAREQAREQASiQEACPQpWVB1EQAREQAREQAREQAREQAREQARCT0ACPfQmVAVEQAREQAREQAREQAREQAREQASiQEACPQpWVB1EQAREQAREQAREQAREQAREQARCT0ACPfQmVAVEQAREQAREQAREQAREQAREQASiQEACPQpWVB1EQAREQAREQAREQAREQAREQARCT0ACPfQmVAVEQAREQAREQAREQAREQAREQASiQEACPQpWVB1EQAREQAREQAREQAREQAREQARCT0ACPfQmVAVEQAREQAREQAREQAREQAREQASiQEACPQpWVB1EQAREQAREQAREQAREQAREQARCT0ACPfQmVAVEQAREQAREQAREQAREQAREQASiQEACPQpWVB1EQAREQAREQAREQAREQAREQARCT0ACPfQmVAVEQAREQAREQAREQAREQAREQASiQEACPQpWVB1EQAREQAREQAREQAREQAREQARCT0ACPfQmVAVEQAREQAREQAREQAREQAREQASiQEACPQpWVB1EQAREQAREQAREQAREQAREQARCT0ACPfQmVAVEQAREQAREQAREQAREQAREQASiQEACPQpWVB1EQAREQAREQAREQAREQAREQARCT0ACPfQmVAVEQAREQAREQAREQAREQAREQASiQEACPQpWVB1EQAREQAREQAREQAREQAREQARCT0ACPfQmVAVEQAREQAREQAREQAREQAREQASiQEACPQpWVB1EQAREQAREQAREQAREQAREQARCT0ACPfQmVAVEQAREQAREQAREQAREQAREQASiQEACPQpWVB1EQAREQAREQAREQAREQAREQARCT0ACPfQmVAVEQAREQAREQAREQAREQAREQASiQEACPQpWVB1EQAREQAREQAREQAREQAREQARCT0ACPfQmVAVEQAREQAREQAREQAREQAREQASiQEACPQpWVB1EQAREQAREQAREQAREQAREQARCT0ACPfQmVAVEQAREQAREQAREQAREQAREQASiQEACPQpWVB1EQAREQAREQAREQAREQAREQARCT0ACPfQmVAVEQAREQAREQAREQAREQAREQASiQEACPQpWVB1EQAREQAREQAREQAREQAREQARCT0ACPfQmVAVEQAREQAREQAREQAREQAREQASiQEACPQpWVB1EQAREQAREQAREQAREQAREQARCT0ACPfQmVAVEQAREQAREQAREQAREQAREQASiQEACPQpWVB1EQAREQAREIAUEPvzwQwwaNAhz587FunXr8Prrr6NDhw4J7zxz5kzcdNNNyMrKQoUKFXDLLbfgqquuSkFpdAsREAEREAER2PcISKDvezZXjUVABERABETAlcCUKVMwa9Ys1KtXD+eee66nQP/uu+9Qp04d9OjRA1deeaV97TXXXIMXX3zRvl5JBERABERABEQgOQIS6MnxUm4REAEREAER2CcIZGRkeAr0W2+9FW+++SYWL16cw4Sr51999RU++eSTfYKTKikCIiACIiACqSQggZ5KmiG4165du7B27VoccMABYPClJAIiIAIiUDAEdu/ejd9//93eBp6ZmVkwDw3wFD8CvVmzZqhbty6GDBmS8yRui+/YsSP++usvFClSxLUEW7duBf+YxLHpl19+wcEHH6yxKYDNdKkIiIAIJEsgbGNTsvULY34J9DBaLUCZf/jhB1SuXDnAHXSpCIiACIhAEAKrV69GpUqVgtyiQK71I9CPOuoodOnSBbfddltOmWbPno0mTZrYk8Hly5d3LWv//v0xYMCAAqmHHiICIiACIuBNICxjk3dNwp9DAj38NkyqBps3b0aZMmXATliqVKmkrmXm//tiNe6ZvMi+7v2bmuGw0iXi3mP5ht9x9tOz7d9/etspKFmsMD755mf0GPeF/bOFA9om/fz8uODrHzbhopFz7FuPuLQ+Gh95SJ4fM23xBtzw0vx/A9V+rVCquPsKksn0wy9/4bQhH9n/HdzxPzi19mGez69z97s5ecixw1MfY8XGPxNyvfHleZi6aGPK2DvLYApzRNn98WbPk/HS59/jvreyt7ze0e4Y3Pf2Evvf17Q4Ete0rJ6wfua+p9QsiyEX1svJO2PpRvR8YZ79/8nXNcHhh5TMdR9zXfnSxTH1puauz3hhzio88L/ssni1v1jGnkZxZNi+cxfq3jPV/kn3kw9Hr1OPsv+92rL16f/Y2mSf1LMJjiybuy7OZz04ZTGe//T7nB8dX7kMJnRvlExxfOf94rtf0GXM53b+t64/GdUO3t/12mdmfIMnp6+wfzf0orpoeUw538/wk9HZJ+45qzbOqf+vmN301zac/PD0XLf56JaWaDow98+YYeSlJ+T4m7a1DsW81Zuw8ffsVdtE9n9n4TrcPHGBne9Nq60dEdPW/NTBLc9vv/1mT5Bu2rQJpUuXzuttCuw6vwK9a9eu6NevX065+B76ySefbB8yd9hh7v4sdgWdY1OVKlXyPDYVGBQ9SAREQAQiRiBsY1PE8LtWRwJ9X7Cyo47shAwMGQzlRaC/MOd73Pb61/YdP7HEZ/kEAn3p+t/R9vEPc4JhCvSPl/+ES57NFsMrH2qXFvS/soL29k/NsssyvltDNK1RNs/lei9rPa4YPzfn+gX923gKdIo2Iy6GdaqH0491X3FyFqpa37dz/kuObQbPxLINfyTkevWEuZiycH3K2DvLYApTvVxJa+KmOcZ/ugp3vrHQ/vG97WvjzklZ9r97ta5h/ckWq/GSuW/b2odieOcTcrJx8qPb2OzJnQ96N8cRMaLWXFexTAnM6tvK9fZjZ6/E3W9ml8Wr/cUyTqZRUKDXuH2KfQknJW457Rj739///BeaDcotJMmL3OKlAZOzMHrWypxf1696IF69unEyxfGdd863P+OCEZ/a+aff3MKaBHEX6EOnLcejU5fZ+UZZIri1JX5TmZx9YuC5x6Fjg393/VCgH//P5Id55rw7T0Xde7MnRJxpQrdGOf6mndWv5q76Fet/2+Jp/7cWrM2ZDJpmtbVEEyjJ1Duo/03mWanI60eg53WLe2z5wsYmFXx1DxEQARFIBwLyv+lghdxlkEBPP5vka4mCdkIJ9MTmkUCXQGcLkUAP5sYk0IPxS9XVfgQ6D4mbPHkyFi3K3lnFdPXVV2P+/PlJHRIXdGxKVZ11HxEQARHY1wjI/6afxSXQ088m+VqioJ1QAl0C3RDQCnr8tiCBHsyNSaAH4xfk6j/++AMrVmS/vsDD3x577DG0bNkSBx10kL0FnVvZ16xZg3Hjxtl5zGfW+Ik1fmqNJ7fzFPdkP7MWdGwKUmddKwIiIAL7MgH53/SzvgR6+tkkX0sUtBNKoEugS6B7d1EJdG9GiXJIoAfjF+TqGTNm2II8Nl122WUYM2aMfSDcypUrwXwmzZw5EzfeeCOysrLsE+q5qk6RnkwKOjYl8yzlFQEREAER+JeA/G/6tQYJ9PSzSb6WKGgnlECXQJdA9+6ikRToO7cDS6336qs2xtBPf9U76N7NYI8cQf1vHh4ZmkvEJjSmUkFFQAQiRkD+N/0MKoGefjbJ1xIF7YQS6BLoEujeXTSSAv3d262TIZ8EDjkKQ4+ZgEffz94GrUPivNuDyRHU//p/Uvhyik34bKYSi4AIRIOA/G/62VECPf1skq8lCtoJJdAl0CXQvbto5AT6rl3AwGrAls125V+s+zz6fZIhge7dFHLlCOp/k3xcqLKLTajMpcKKgAhEiID8b/oZUwI9/WySryUK2gkl0CXQJdC9u2jkBPpG65v2T5+YU/EZR96CLlnHS6B7NwUJdJ+Mgo5NPh+jbCIgAiIgAjEE5H/Tr0lIoKefTfK1REE7oQS6BLoEuncXjZxA/+ol4PUrcyo+r+LFOPub/0qgezcFCXSfjIKOTT4fo2wiIAIiIAIS6GnfBiTQ095EqS1g0CBIAl0CXQLdu09GTqB/cD/w4cCcin97cHO0WpMt2PUOund7MDmC+l//TwpfTrEJn81UYhEQgWgQkP9NPztKoKefTfK1REE7oQS6BLoEuncXjZxAf+VyYOGrwOHNrA9ff4if9q+BE34eIIHu3RRy5Qjqf5N8XKiyi02ozKXCioAIRIiA/G/6GVMCfS/b5Omnn8agQYOwbt061K5dG48//jiaNm3qWqrXXnsNw4YNw/z587F161Y7f//+/dG2bVvftQjaCSXQJdAl0L27W+QE+vDmwLr5QIt+wIwH8VeRg1Drd+tEdytpBd27PZgcQf2v/yeFL6fYhM9mKrEIiEA0CMj/pp8dJdD3ok1efvlldO7cGRTpTZo0wfDhwzFq1CgsWrQIVapU2aNkvXr1QoUKFdCyZUuUKVMGo0ePxiOPPII5c+agbt26vmoStBNKoEugS6B7d7VICfTdu4GHLH+09Tfg0knAuPbYhUxU3zLO/lsC3bs9SKB7Mwo6Nnk/QTlEQAREQATcCMj/pl+7kEDfizZp1KgR6tWrZ6+Km1SzZk106NABDz74oK+ScRX9ggsuwF133eUrf9BOKIEugS6B7t3VIiXQ//gReKS6VWnrs2r9fgAerGgDqL9lGH5GaQl07+aQkyOo/03iUaHLKjahM5kKLAIiEBEC8r/pZ0gJ9L1kk23btmG//fbDxIkTcfbZZ+eU4oYbbrC3sM+cOdOzZLusbxNXq1YNt9xyC3r27Oman1vh+cckdsLKlStj8+bNKFWqlOczYjNIoEugS6B7d5tICfQ1XwIjWwIlDwNuXgo8fDjw9y9os/VhLNtdWQLduzlIoPtgpADRByRlEQEREIF8ICD/mw9QA95SAj0gwLxevnbtWlSsWBGzZs1C48aNc27zwAMPYOzYsVi61AqEPRLfXX/ooYewePFilCtXzjU331EfMCD7MCdnkkD/l8ZXqzeh/VOz7B+M79YQTWuU9UIf9/fvZa3HFePn5vx+Qf82KFW8SML7rf7lLzQdON3OM6xTPZx+bHnP51fr+3ZOnpUPtUObwTOxbMMf9s/4f7d09YS5mLJwfcI8ng92ZHCWwfy4ermSeP+m5hj/6Src+cZC+8f3tq+NOydl2f/u1bqG9eeohI8x921b+1AM73xCTt5pizeg29gv7P9/0Ls5jihbMtd9zHUVy5TArL6tXJ8xdvZK3P1mdlnicTIXxjJOhk2kBPoSq629dDFQwXqN5ooZwJMNgJ+W4aJtt+OTXbUl0JNoGAqC4sMSmyQakrKKgAiIQAoJyP+mEGaKbiWBniKQyd7GCPTZs2fjpJNOyrn8/vvvx/jx47FkyZKEt3zxxRfRvXt3TJo0Ca1bt46bVyvo3paRQPdm5JZDAj0+t0gJ9M9HAW/3Bo62Jn4uesE6Fc7yNz98jiu23Yj3djWQQE+i+ygIkkBPorkoqwiIgAgUCAGNTQWCOamHSKAnhSt1mYNscefhcl27SMeszgAAIABJREFUdrW3x7dr575aGq+kQTuhtrgnbgNaQdcKOltIpAT6tHuBjx4BGnQH2j1qbTM5B/hmGnpvuwqv7momgZ7EsBDU/ybxqNBlFZvQmUwFFgERiAgB+d/0M6QE+l60CQ+Jq1+/vn2Ku0m1atVC+/bt4x4Sx5Xzyy+/HPybh8klm4J2Qgl0CXRDQCvo8dtCpAT6G9cA858HWt0BNOsDTOwCZL2O/tsvxZidp0mgJ+GEg/rfJB4VuqxiEzqTqcAiIAIRISD/m36GlEDfizYxn1l75pln7G3uI0aMwMiRI5GVlYWqVauiX79+WLNmDcaNG2eXkqL80ksvxZAhQ3DOOdYq1j+pRIkSKF26tK+aBO2EEugS6BLo3l0tUgJ9vHWI5TcfAO2ticS6nYA3rwe+HItHt5+HoTvPkUD3bg45OYL63yQeFbqsYhM6k6nAIiACESEg/5t+hpRA38s24er5wIEDsW7dOtSpUweDBw9Gs2bN7FJ16dIFK1euxIwZM+z/t2jRwvV098suuwxjxozxVZOgnVACXQJdAt27q0VKoD91IvDjYqDz68CR1uF771kr6bOHYsSOdnhgRycJdO/mIIHug1HQscnHI5RFBERABETAhYD8b/o1Cwn09LNJvpYoaCeUQJdAl0D37qKREugPVQW2bAKu+RQoVxOYOQiYfh9e2tECfXdcIYHu3Rwk0H0wCjo2+XiEsoiACIiACEigh6INSKCHwkypK2TQIEgCXQJdAt27P0ZGoJfOBO63vn/OdOsqoEQZYM5wYMoteHtnQ1y7vZcEundzkED3wSjo2OTjEcoiAiIgAiIggR6KNiCBHgozpa6QQYMgCXQJdAl07/4YGYGeuQF4wvr+eZH9gNvWAhkZ1oFxLwJvXIUPdx6LS7f3k0D3bg4S6D4YBR2bfDxCWURABERABCTQQ9EGJNBDYabUFTJoECSBLoEuge7dHyMj0P+YD4w5AzjoCOD6edkVX/I28NLFmL/rSHTYdq8EundzkED3wSjo2OTjEcoiAiIgAiIggR6KNiCBHgozpa6QQYMgCXQJdAl07/4YGYG+bgrwajeg6slAV0uYM6382BLt7fDNrvI4ZdujEujezUEC3QejoGOTj0coiwiIgAiIgAR6KNqABHoozJS6QgYNgiTQJdAl0L37Y2QE+grrE4/v9AVqW591PH90dsXXLQCGN8XG3WXQcOvTEujezUEC3QejoGOTj0coiwiIgAiIgAR6KNqABHoozJS6QgYNgiTQJdAl0L37Y2QE+lePAh9ZfxpeAZxhnd7O9OtKYMh/8Pfuoqi5dYwEundzCKVA5ydABw0aZH8CtHbt2nj88cfRtGnTuLV9/vnn7U+GLl++HKVLl8Zpp52GRx55BAcffLAvQkHHJl8PUSYREAEREIE9CMj/pl+jkEBPP5vka4mCdkIJdAl0CXTvLhoZgT67H/DlWKDFbdafW7Mr/tcvwMDD7X9W3zIOz1x6IlrXOtQbShI5Vv/yF5oOnG5fMfDc49CxQeWcqzf9tQ3H3zM1193m3Xkq6t6b+2fMMKFbI1zy7Bw7b7tjy2Puql+x/rct9v9XPtQuboneWrAWPV/Ifud+Wu/mOLJsySRKHz9rUP+bkkL4uMnLL7+Mzp07gyK9SZMmGD58OEaNGoVFixahSpUqe9zh448/RvPmzTF48GCceeaZWLNmDa666irUqFEDr7/+uo8nAmFh46syyiQCIiACISIg/5t+xpJATz+b5GuJgnZCCfTE5nkvaz2uGD83J9OC/m1QqniRhBc5xciwTvVwuiUkvFK1vv+8D/yP0GgzeCaWbfgjofC4esJcTFm43lOceD3b/N5ZBvOz6uVK4v2bmmP8p6tw5xsL7R/f27427pyUZf+7V+sa1p+jEj7C3Ldt7UMxvPMJOXmnLd6AbmO/sP//gSWajogRTea6imVKYFbfVq7PGDt7Je5+M7ssiQQafx/L2C8X5ouMQJ/aA1hqtbV2jwENrHfRmXbusIyavSpad8szGHRpKwl0n40jqP/1+ZjA2Ro1aoR69eph2LBhOfeqWbMmOnTogAcffHCP+3OlnHm/+eabnN8NHTrUXlFfvXq1r/KEhY2vyiiTCIiACISIgPxv+hlLAj39bJKvJQraCSXQE5tHAl0CPVICfdLZwGprBbqj9S56rfY5jX/ngENQaPd2NNkyBAMuPV0C3afXDup/fT4mULZt27Zhv/32w8SJE3H22Zb9/0k33HAD5s+fj5kzZ+5x/9mzZ6Nly5b2avnpp5+OjRs3omPHjqCof+aZZ1zLs3XrVvCPSWRTuXJlbN68GaVKlQpUB10sAiIgAiLgn0AYxib/tYlGTgn0aNjRdy2CdkIJdAl0Q0Ar6PHbQmRW0F+w3jn+xVoV7Wqd5l61cU6Ft9xXGcV3/IbWWweib+cOEug+PXBQ/+vzMYGyrV27FhUrVsSsWbPQuPG/Nn/ggQcwduxYLF261PX+r7zyCrp27YotW7Zgx44dOOuss8CfFSnivoOof//+GDBgwB73kkAPZD5dLAIiIAJJEwjD2JR0pUJ+gQR6yA2YbPGDdkIJdAl0CXTvXhcZgT6yJrB1M3Dt50DZf19N+P2Bo3DAtg04a+u9uL7zBRLo3k3CzhHU//p8TKBsRqBzVfykk07Kudf999+P8ePHY8mSJXvcn++mt27dGjfeeCPatm1rHyzXp08fNGjQAM8++6xrebSCHshMulgEREAEUkYgDGNTyiobkhtJoIfEUKkqZtBOKIEugS6B7t0bIyHQb2yMw4dVy67sLd8B+x2UU/FfHz4OB/69ChduuwPdL7lUAt27SYRGoOdlizsPlOPKObfFm8SD43jqOwV/+fLe52oEHZt8mkDZREAEREAEYgjI/6Zfk5BATz+b5GuJgnZCCXQJdAl07y4aBYH+4VXHoMqYekBGIeDOn4DMzJyKb3jkRBz6x2J03dYHnS7pIYHu3SRCI9BZUB4SV79+ffsUd5Nq1aqF9u3bux4Sd+6556Jw4cLg6e8mffLJJ/YWeZ7oXqFCBU9CQccmzwcogwiIgAiIgCsB+d/0axgS6Olnk3wtUdBOKIEugS6B7t1FoyDQZ112CCq+3AbYvxzQZ3muSq95rCUq/vYlrt12Pc6+pKcEuneTCJVAN59Z4wFv3OY+YsQIjBw5EllZWahatSr69etnC+9x46zDA600ZswY9OjRA0888UTOFvdevXpZczqZmDMn+zN3Xino2OR1f/1eBERABETAnYD8b/q1DAn09LNJvpYoaCeUQJdAl0D37qJREOifdMxA+TcvAsrVAq75JFelVw45HdV+nY0+269A2043S6B7N4lQCXQWlqvn/Ewa3yevU6eO/Y3zZs2a2fXo0qULVq5ciRkzZuTUnJ9Vo6D/7rvvUKZMGbRq1QoPP/ywfeCcnxR0bPLzDOURAREQARHYk4D8b/q1Cgn09LNJvpYoaCeUQJdAl0D37qJREOifnfkLyk3tCRxuibLLJueq9PInz0GNn6bhru2XoVmn2yXQvZtE6AS6zyqlLFvQsSllBdGNREAERGAfIyD/m34Gl0BPP5vka4mCdkIJdAl0CXTvLhoFgT639XIc/PHdQO1zgPNH56r04qc7oebGt/DQ9gtxQqd7JNC9m4QEugejoGOTTxMomwiIgAiIQAwB+d/0axIS6Olnk3wtUdBOKIEugS6B7t1FoyDQ5zf5FGXmPgE0vAI4Y1CuSi8Y3h3HrZuIITvORu2LH5ZA924SEugS6D5bibKJgAiIQMESCKoNCra0+8bTJND3DTvn1DJoJwwq0Get+AmdRmUfGrTyoXZpQf+r1ZvQ/qlZdlnGd2uIpjXK5rlc72WtxxXj5+Zcv6B/G5QqXiTh/Vb/8heaDpxu5xnWqR5OP9b7k0TV+r6dc09ybDN4JpZt+CMh16snzMWUhetTxt5ZBlOY6uVK4v2bmmP8p6tw5xsL7R/f27427pyUZf+7V+sa1p9/v6ftBsbct23tQzG88wk5WaYt3oBuY7+w//9B7+Y4omzJXJeb6yqWKYFZfVu5Mh87eyXufjO7LF7tL5ZxMo0iCgL963pv4YBFLwAtbrP+3Jqr+nNH9UT9H8Zj5I4zcPjFj0ug+2wcQf2vz8eEMpvYhNJsKrQIiEAECMj/pp8RJdDTzyb5WqKgnVACPbF5JNAl0NlCoiDQs2pNwP7f/s9aPX/EWkXvkavhz3muDxp9PwLP7zgFh148TALdp9cO6n99PiaU2cQmlGZToUVABCJAQP43/YwogZ5+NsnXEgXthBLoEuiGgFbQ47eFKAj0xUc+hRJrrJ0l54wCjjs/V2U/HnsXTv5uCF7beTJKXfScBLpPrx3U//p8TCiziU0ozaZCi4AIRICA/G/6GVECPf1skq8lCtoJJdAl0CXQvbtoFAT60kr3o9hP1usAnV4FarTOVenp4x9Ey28ewjs7G6DwRc9LoHs3CTtHUP/r8zGhzCY2oTSbCi0CIhABAvK/6WdECfT0s0m+lihoJ5RAl0CXQPfuolEQ6MvL3oIiv/8AdJ8GVPr3LADWfuoLg3Hqsv74cOex2HbRqxLo3k1CAt2DUdCxyacJlE0EREAERCCGgPxv+jUJCfT0s0m+lihoJ5RAl0CXQPfuok6BfnGjKjinbkXUr3ogVv/yN5oNyj4Q0CQeqsfD9eKlAZOzMHrWypxf8z6vXt3YuxB5yDHn259xwYhP7Su/PeAKZG63Dh7saR16eEj1XHf738vP4IzFt+LzXUdh84VvSaD7ZB3U//p8TCiziU0ozaZCi4AIRICA/G/6GVECPf1skq8lCtoJJdAl0CXQvbuoU6Cb3CMvPQFHH3pAKAR6IezEN8U7Zxe9z7fA/gfnqvSkiWPRPut6ZO2qinUXTpVA924Sdo6g/tfnY0KZTWxCaTYVWgREIAIE5H/Tz4gS6Olnk3wtUdBOKIEugS6B7t1F3QR6xxMqoWfLGqEQ6AfiN8wrflV2Re/8GShUOFelX33t/3Dugh74dtdh+PbCDyXQvZuEBLoHo6Bjk08TKJsIiIAIiEAMAfnf9GsSEujpZ5N8LVHQTiiBLoGeNgK92O/A5BuA3buAdo+g2sPZ3zdPt++gG15hEuiHZ6zD9GK9gaIHALdZ76HHpJcmTcaF8y7B+t0HYuEFcyTQfXrtoP7X52NCmU1sQmk2FVoERCACBOR/08+IEujpZ5N8LVHQTiiBLoGeNgL9fevb3Eut73QzVWqIaisssY4MCfQAHsS8g358xgq8UewuoHRl4MaFe9xxwuSpuGTuedi0e398ccE8CXSfzIP6X5+PCWU2sQml2VRoERCBCBCQ/00/I0qgp59N8rVEQTuhBLoEejoI9JlXVEfVcY2souzOMcjZWwdg3u4aEugBPIgR6M0zv8LYog8Dhx0LXPXxHncc/fZH6Pr5f7F1dxF8dEGWBLpP5kH9r8/HhDKb2ITSbCq0CIhABAjI/6afESXQ088m+VqioJ1QAl0CPR0E+udtV6HszH5AlZOAg44A5j+PV3c2Re/tV0ugB/AgRqCflTkLTxR9CqjWFOjy1h53HPnO5+jxafa30d8/bzFa16kQ4Kl7Xrr6l7/QdGD2afcDzz0OHRtYK/n/pE1/bcPx90zNddG8O09F3Xtz/4wZJnRrhEuenWPnbXdsecxd9SvW/7bF/v/Kh9rFLfNbC9ai5wvz7N9P690cR5aNf8p+MhUP6n+TeVbY8opN2Cym8oqACESFgPxv+llSAj39bJKvJQraCSXQE5vnvaz1uGK89Vmqf9KC/m1QqniRhBc5xciwTvVwuiUkvFK1vm/nZKHQaDN4JpZtsD6JlUB4XD1hLqYsXO8pTryebX7vLIP5GT8Xxs+Gjf90Fe58I3tr9L3ta+POSdnvh/dqXcP6c1TCR5j7tq19KIZ3/vf729MWb0C3sV/Y1y6s8xJKrngTaHk7cHhz4Lk2+H13CZywdRgOKVMas/q2cn3G2Nkrcfeb2WVJJND4+1jGfrkwX9gPietc6D3cW2QMUPNM4IIJe1R92Htf4+rZJ9s/n372PLT8jzVJksIkgZ5CmCG5VdCxKSTVVDFFQAREIO0IyP+mnUkggZ5+NsnXEgXthBLoic0jgV4wAn3ZYXei6KZvgEteA45oCQyuDfy+Ft239cbiUieHTKA3s76Dbh3GFiftje+g9yz0Om4uMhGodylw1tA9Sjb0/WW47uMG9s9nnvUJmterlVK/lSqBPr5bQ3R+9jO7bFpBT6mJUn6zoGNTygukG4qACIjAPkJA/jf9DC2Bnn42ydcSBe2EEugS6IbA3lpBL4EtWFS8m3UcnPX++c3LgZLlgCl9gTnDrG3uJ+Ox/XtLoOfRi5gt7ncUHo/uhacAja8H2ty7p0CfthzdPmyC/TK24uN2H+DkBvXz+ET3yyTQU4ozFDcLOjaFopIqpAiIgAikIQH53/QzigR6+tkkX0sUtBNKoEug722BXjdjOV4vdrclzA+1BPqy7OJ8/6m1zb0tfrO2uZ9VfCxm9Gvraqj03OKefivogwo/g/MLfwicYp3k3tT63FpMGmoJ9Is/bImDM37HJ23fxkknZW93T1WSQE8VyfDcJ+jYFJ6aqqQiIAIikF4E5H/Tyx4sjQT6XrbJ008/jUGDBmHdunWoXbs2Hn/8cTRtah3M5JKYp3fv3pg7dy6WL1+O66+/3s6fTAraCSXQE9PWFvf83+J+caFpeKDIs0B165CyS17NNsiuXVg/4AgclvEr+hS5DYNuv1UCPRnH8E9es4I+osijaFPIOkuh3WNAg2573IkC/ewPT0OljJ/wWetX0PDkU/PwtPiXSKCnFGcobhZ0bApFJVVIERABEUhDAvK/6WcUCfS9aJOXX34ZnTt3BkV6kyZNMHz4cIwaNQqLFi1ClSpV9ijZypUrMXjwYNSvX9/+u3nz5hLoKbDfV6s3of1Ts+w78Z3VpjXK5vmuEuj5L9BvLzwBPQpb3z8/8VrgtAdybDX6jo7oWvhdTMlsgdPvmiSBnodWbAT6y0XvQaPMJcB5o4E657gK9NNnnoXqmWvxRYsJOKGFdZhcCpMEegphhuRWChBDYigVUwREIHIE5H/Tz6QS6HvRJo0aNUK9evUwbNiwnFLUrFkTHTp0wIMPPpiwZC1atMDxxx8vgZ4C+0mg5w3i3noHfXiRx9C2kHWa+xmPAA175BT+/H6PYmKxe/A79sMBd6wCChfdo2La4p7Y1kagv1P0VhyTuRro/Dpw5J4n4nMFvcXM83Bs5krMazoSdU/pmLdGFOcqCfSU4gzFzRQghsJMKqQIiEAECcj/pp9RJdD3kk22bduG/fbbDxMnTsTZZ5+dU4obbrgB8+fPx8yZM1Mi0Ldu3Qr+MYmdsHLlyti8eTNKlSqVdO21xT0xMq2g5/8K+hRLPNakeOz0ClDj363VR/SdjE+L9US5jE3AxdYJ5Ee1kUBPsocbgT6r2HWomPEz0P0DoNKeB8BRoDea2QkNM5diQeOhOK6Nddp7CpMEegphhuRWChBDYigVUwREIHIE5H/Tz6QS6HvJJmvXrkXFihUxa9YsNG7cOKcUDzzwAMaOHYulS5emRKD3798fAwYM2ONeEuj/ItEKet46wd5ZQf8cWcUux/7W6eHoaa2iH1Ijp/Asz4DCo3FZ4anA8Z2ADk9LoCdpWiPQFxTrjlIZf+3B2NyOAv0/M7qiWaGvsbDhQNQ548okn5Q4uwR6SnHm6WbJnI/CB3Ai+J577sGECROwfv16VKpUCbfffjsuv/xyX89XgOgLkzKJgAiIQMoJyP+mHGngG0qgB0aYtxsYgT579mzrBOSTcm5y//33Y/z48ViyxHr/M0Hyu8VdK+je9pFA92bklmNvCPRbxk7D3OJXWx9Yy0DGHRusbezFcgn0RhmL8XIx67NgxUsDva0T3osUz1V0bXFPbOtsgf4Jvi12CTIzrM/Y9bYmCg84bI+LKNCPmnGV/arB4vr3oOaZN+StEcW5SgI9pTiTvlmy56PwAe3bt8eGDRtw3333oXr16ti4cSN27NiRawI6UUEUICZtJl0gAiIgAikhIP+bEowpvYkEekpx+r9ZQW1xjy1R0E6oLe6Jbawt7vm7xf3JcS/an1jbUbICCt+8OJcxOGGQiV2YXbwXDsNPwFlDgXq5t15LoHsL9K4jZljfmf9n1fO2tUDR/V0FeuUZ16NDodlY9p9+OOps6zv0KUwS6CmEmYdbJXs+yjvvvIMLL7wQ3377LQ466KA8PBEIOjbl6aG6SAREQAREQP43DduABPpeNAqDIJ7Izq2EJtWqVcteidAhcQVnGOcK+pRTfkTNH98BChUB6nZ2fY85Uckk0PNXoL82/kk8VfQJ/F2+IUpcaW1ldySzot+n5Du4dsc4oGxN4JpPrI9JZuTkkkD3FujXjZiCz4pfi90Zmci465dc/MzVXEE/ZHofXFR4OlbUuRHVz+uf0g4rgZ5SnEndLC+Tx9dccw2WLVuGE044wd4Btv/+++Oss87CvffeixIlSvh6vgS6L0zKJAIiIAIpJyD/m3KkgW8ogR4YYd5vYLYRPvPMM/Y29xEjRmDkyJHIyspC1apV0a9fP6xZswbjxlli45/EA+SYunfvjqOPPhp9+vRB0aJFQWHvJwXthFFeQb+l8Eu4pvCbuTGe1BNoc5+rSHHjLYGevwL9own3oX+RcfjjyP+iZOfnXQX60aV34d1d1jvR2/8ELnoZOPo0CXQ/zsHKwy3ut418FdOK9cHOYqVRqN/3rldSoJecfrv9Wbvval6Fwy942OcT/GWTQPfHKT9y5eV8lNNOOw0zZsxA69atcdddd+Gnn34CRXurVq3w3HPPuRYz1a9f5QcL3VMEREAE9gUCQbXBvsCooOsogV7QxGOex9XzgQMHYt26dahTp479ffNmzZrZubp06QJ++5yBj0kZjtVA8zOKeebzk4J2wqgK9KeHDcbwoo9nI6Qo37kd+Gx49v9PvglofbcfvJBAz1+BvvT5m+1JlM3HXo7S5w7OZROzgl6xTAnMqjcdmP0EUK42cNVHQGYhO69W0BM3Ywr0B0ZOwKRid2HHARVRuPci1wso0AtNv8e2xfc1uqBKpyG++offTBLofkmlPl9ezkdp06YNPvroI/twuNKlrfMfrPTaa6/hvPPOw59//um6ip7qA0xTT0J3FAEREIF9g0BQbbBvUCrYWkqgFyzvvf60oJ0wkgJ91U8o/WxjVMvcgNW1rkDljoOy7fTFaOCtXtn/bvco0KC7p/1CJdC/nwNMtg73OqyOdcLTU7kOXPOsqJVhbxwS98vz3XF+4Q/xy4l9cdBp/XIVM5dAv/54YIj1Z+tm6130J6130a3XFawkgZ7YshToT4waieeLPohtBx2DotdbbcQlUaBv++Ah9C7yCn444gJUunSEnybjO48Eum9UKc+Yly3ul112mf1FkhUrVuSUZ/HixfbOLm59r1Hj368tmAxaQU+56XRDERABEcgTgaDaIE8P1UUJCUig72MNJGgnjKJAXzV9NKrO7IWfdx+AJRfOQpOaVf9tFTMHAtPvt7a4ZwKnW//m3798C9Q+x/X70KER6A9Y276fqAtsWpVd11OsHQJNrZ0CSaS9IdALv3AemhdagI2tHkO5Zt3iC/S+rYBZ1gr61DsBa6s2rv0UKFVBAt3DvhToz416wt5NsqV8AxS/8v24An3zB4NxR5Hnsa7qWSjfdXwSLcc7qwS6N6P8zJHs+Sh8PatXr172ye0lS5a0izZp0iScc845+OOPP3y9hx50bMpPHrq3CIiACESZgPxv+llXAj39bJKvJQraCSMn0HftwpYnLCGyaQUGbr8AJ3W5H01rlP3XBrutT01xlfnLsbntkmkdInf5u3uI9NAI9KvKAGPO+LdOB1YDrrfON3B5hSJeg9wbAr3Ci61RM/N7rPvvBJQ/4czEAn3nDuDZU4G1XwJHtAAueQ1jP12Nu9/Msq9b+VC7hH3NWT+vvLE32r5zF2rcPiXXjzueUAk9W9ZAs0HW9ntHev+mZqhe7oC4ZRkwOQujZ63M+X39qgfi1asb54ufoECf+OzDeKTIcPxVtRX26/q663O4gr7hg6dwX5HR2FixDcr1mJjS8kigpxRn0jdL9nwUivCaNWvixBNPxIABA+x30HlOSvPmze1zVfykoGOTn2cojwiIgAiIwJ4E5H/Tr1VIoKefTfK1REE7YeQEetYbwMTLsHn3fmiy9QkM69Yit0CnNSj0plsHxS1+y1qFLQ9s+Q1YZ4nZI1oAl07KZa/QCPRTLdH60SPAMf8FVkwDdvwNXDETqGBtC/eZ9oZAP+6lE1A24zf8cMF7qFSzUa6S5trizhV0ph+t73iPsOy0/S+gxW0YW/QCCfQE9qVAn/Js/+yD+GqchZKd3FfGKdBXThuFR4s+g58Oa4pDrrL6RgqTBHoKYebxVsmej7JkyRJcd9119lb3gw8+GB07drS/ia5T3PNoAF0mAiIgAgVEIKg2KKBi7lOPkUDfp8wd/FuzkRLoXB1/pimw4WsM2XEOBu84D+O7NdxToMe2kV+tbeFDjsv+ae9lwAGH5uQIjUCvaR2A950lyP9rHYz3rbWiu8iaaGjWB2h1h+8eUdAC/YOsNWjxf7WRmbEbq7rOt750cLi3QGeO+S8Ab1xt/SMD79YfjitnZW/B9VoV31dX0D969lbcXGQifqvVCaU6/vsJSCdsCvTF08bhaeuTd7+WbYADr3XfCu+7McVklEDPK7nwXqcAMby2U8lFQATCTUD+N/3sJ4GefjbJ1xIF7YSREuhLrS3IL16InUX2R73fB2MzSvoT6LTQcOuk/XVfAWdbQvc/F4ZPoB9onVT/t/WNa66ar18AvHkdUMXaNn157m3ZiRpjQQv0j75cgKZvNsWO3Zn4/pqVOOLQ7NOiTXJdQTe/nGTVd954/F30IDT+7QH8ilIS6C4+AylmAAAgAElEQVTG5Qr6vOeux1WF38Lm469E6Q7WuQsuiQL9y2kvY3TRQdh8YB2UvmFWSv2WBHpKcYbiZkHHplBUUoUUAREQgTQkIP+bfkaRQE8/m+RriYJ2wsgIdK6ejzoFWDMXG4+7Gg0/s1bSreRrBZ0Z3x8AfPwYcOz5wLmjQiXQy+B3zC9ufSec6ba1wO/rgaH1gEJFgb6rgSLFfbXBghbon82ahoZTz8GG3WXwZ88sHFE2eyXcpIQCfbu1hX+kte194yKM3tEWA3ZcJoHuYmUK9BXP9UCnwtPwa8ObceAZ1iF7LokCffa01/Fi0fvxR6nqKHnTXF9txm8mCXS/pKKTL+jYFB0SqokIiIAIFCwB+d+C5e3naRLofihFKE/QThgZgb7c2pL7/LnWp8VKIKvjx2j3nPWuspV8C/TvrG9rj7Xe3y5VEbjp329Fh2GLe72MZXitWH+r7JWsslsHpnGy4tGjgT82AF2tFfSq/g4gK2iBPn/aSzj+oyvx9a5q2P+6WckJdBr3G2sr//gO2La7EE7c+hS+fOiihD17X93ivn70JWhfaDZ+PnkADm79z2cGY0hRoE97/394w/pe+t/7V0KJPtkH76UqSaCnimR47hN0bApPTVVSERABEUgvAvK/6WUPlkYCPf1skq8lCtoJIyHQd+3M3qK+YSFwUk98VauP9Rnw7C26vgX61t+BBytbV1ji9mbr278ls09+D4NAP7/QDAwqYn23+ogW/x5yN7ELkGWd2M130Pkuuo9U0AJ98VtDUfOLOzBtZ10cfv1byQt0q04/PdYYh/yWhQHbO+Pu+63voydI+6pA/2P0uTil0Dz82OpRlG3W3ZUQBfpb77+Pd4v1xdZiB6NYP+vTgylMEugphBmSWwUdm0JSTRVTBERABNKOgPxv2plEAj39TJK/JQraCSMh0Oc9b32k9xqguPUOs/Vpsa9+zkxeoNNMQ08Afl4OdHoVqNE6NAK9b+EXrXeMJwMNegDtrJPcmT6zPoX0v5st0d7SEu3WyfY+UkEL9G9euQtHLhyCl3a0QMMbns+TQJ/z0oNotOQhLNh1OI67xzqJXwI9FwFucefn9xplLsGG00bg0BMviCvQJ77/ET4sdiN2FN4fhe+wXpVIYZJATyHMkNwq6NgUkmqqmCIgAiKQdgTkf9POJBLo6WeS/C1R0E4YeoHOd5GH1reOs18DnHoP0OQGfLV6U94E+qvW6uLX1vefHavOYVhBf6bIYJxW6HPgtIeBE6/KbnAbrC3Kw6yt7daBeej7vfU+emHPhljQAv2HCVej0ooX8MSODvjvDU/lSaC/PP0LXDDzFOzanYHMW61V3/0OilvPfXUF/YAxLVErcxXWn/UCDqvn/q14rqCPmzoHnxe/FrszMpFxl3XgYEaGZ5vxm0EC3S+p6OQLOjZFh4RqIgIiIAIFS0D+t2B5+3matrj7oRShPEE7YegF+qwhwNS7st+/vs462Mo6EC3PAn32UGtPu7UlvOaZwAUT7FYSBoE+uehtODZzJXDRS8DRp2e37l27gIHWZ8u2bAJ6fABUtCYxPFJBC/SNI89DuTVTcef2Luja6/48CfSxs1ei8TtnoEamNUFzgbWToqZ1jkCctK8K9PJjGqFK5o9Ye95kVKhjvQrikijQR0ydj6+L/7MF/o6N1nkOxbyajO/fS6D7RhWZjEHHpsiAUEVEQAREoIAJyP8WMHAfj5NA9wEpSlmCdsJQC/S/LfHJ75dv2Qx0GAYcf7Ft2jwL9G9nAOPaAwdawvaG7O3SYRDoc4tdiYMzrHfor/oYOOzYf5v3C9bn4pZZh8S1uQ9obH12Lc0E+uahzVH65/m4clsv3HpjnzwL9Mz/9UbnwtYhgY2s3QOnW7sIJNBzCHCLe42xx+GgjD/ww8UzUOmounEF+pCpi7Ci+KXZv791JVDiQK8m4/v3Eui+UUUmY9CxKTIgVBEREAERKGAC8r8FDNzH4yTQfUCKUpagnTDUAv3TZ4B3bgUOsU4sv+YTILOQbdo8C/Q/rfd1Bx2R3Tz6/QAUOyDtBfr0hauwpHhXd1E16wlrd4H1Wa2jz7BW11/0bPYFvYL+96DaKPHnDzhna388clOPPAv0uW+NwBNFnwIqNQS6T41bz31yBf2bn1B33FEomrET33f5AlWq1Ygr0B+dugzLi3VGESsvblps7Uqp4Nlm/GaQQPdLKjr5go5N0SGhmoiACIhAwRKQ/y1Y3n6eJoHuh1KE8gTthKEV6PyU2NMnAT9aQuIM62C0htYBaf+kPAt0Xv/oMdZ3xNcBl78LVDkx7QX6kqx5mF6sN1DU+oY4JxWc7w3/YG35H2V9K7x4GeAW6/3sfyYw4jX/AhXolv123lsOhXZtw8lbH8e4m87Ps0AfP/ldvF/slmwG/O57ZqZrFfdFgf7Z8rVo+HxNm8fKK5aiWoXDEgr0BcW6oVSGda7DdV8CBx+ZMk8pgZ4ylKG5UdCxKTQVVUFFQAREIM0IyP+mmUGs4kigp59N8rVEQTthMgJ9yfrfcNrj1vfCrbRwQFuULFYYs1b8hE6j5mQLgIfcD6DKFwAbl1gCvZF1+Jn1nuzNy6ztuJYITYVAn3AesMJahf1H9Mducf/q7jYoXaJIwio5xciwTvVw+rHlPRHEisc2g2di2YY/EnK9esJc/LZoKp4v+iBQ1ppYuDbbDjlp5w5rR4Alsvgeetd3rO+hWxMaCVKBCvS/fwUermaX5ugtYzCl96l5EuhjZn2Heyd/jUXFuqJYhlVf6xR/HGS9ouCS9kWBPjdrKepPtHYWWOm7a3/A4WUPcGXDd9C5gv5ZsWtQLsNqL7GvS3i24MQZJNADAgzh5UHHphBWWUUWAREQgbQgIP+bFmbIVQgJ9PSzSb6WKGgnDCrQZ1sC/eK9IdDN4XDVrc+hXWJ9Fs2RAq2gvz8A+PgxoH4X4Mwhe6ygp5tAL7n4pexvoLtwsJG8au0s+Pr/rHfQr7feRb83YVssUIH+41LgqYb4bfd+OG7rKHzQu3meBXr/yYvwlnVQXh0elJfgoLj8EOjXtaqBpgOn5+L6/k3NUL2cuxBmxgGTszB6llXWf1L9qgfi1autE/fzIc2fPxfHv9EKv+8ugZ+u+waHH2Kd6u+SjECfWbQXqmZaB8R1syapKmcL+1QkCfRUUAzXPYKOTeGqrUorAiIgAulDQP43fWxhSiKBnn42ydcSBe2EoRXoo633qlfNsg4FG2QdDnZFLsaBBPpCS+y/crl16rn1TfQe09JeoB+95En0KvwaUO8y4CzrnfPYtND63SvWO+qlK2evLif43FqBCvRvZ1oH8p2FFbsqoPW2RwIL9EeKPIPzCn0ItLjN+mOdS+CS9kWB/vXnM3Ds2+2xbvdB2HLdQk+BPqXoraiZab0mcOkk4IgWKfNdEugpQxmaGwUdm0JTURVUBERABNKMgPxvmhnEKo4EevrZJF9LFLQThlKgb98CPGQJzp3bXN+VDSTQf7S2yz/VwPpc2372O93vLf4RV4y33uX+J6XbCnrzJffgwsIzgJbW5+Ga99mzrfE78Y/VAv62vmt9/ligdoe47bFABfoC63vzr3XH7J21cPH2OwIL9GsKTfp/9s4CzIrqDePvFkundEsooX9CQBqVEFFCFDDoVpRSJERAaZBQOiQVFJUSA0QBpURK6ZYGpRHZZeP/nbl7l+07987cu3Pvfb/n2UfcPXPmzO/UvHPO+T70C/kceLQl8LzsKKBA1wgc3PINSq19BUej8iP4zR0OBfryNO+hfOAxoJU4FXxYPoKZZBToJoH0omyMzk1e9KgsKgmQAAlYigDHX0tVh1YYCnTr1YlbS2S0E3qlQD+9DfikAZAhp5w/PxrfMZrQNiTQo8SD9cj8QIQI2x47sfZSRksL9FaHe6F20B9Ak2lA+VeSbmvrZWv7L+JIL1sR29li8U7vSMDa/148V0b82Kc2Fm37C4NX7NN+/UGTMhi8cr/27151S8hPyRTbuF34NyiTGzNby84EZTEx51dGVkPPez0MC/RnArdhWhrZQZCCJ3d/XEE/smEpSm7oil1RxZHtzU0OBfpnIcNRLegA0Hwu8Ij4YzDJKNBNAulF2Ridm7zoUVlUEiABErAUAY6/lqoOrTAU6NarE7eWyGgn9EqB/usk4MchssL3rKz0fZqIryGBrnKb9QRwXrxYvzAPawOqWVqg9zrSBg8Fivf21iuAYlLupEzFiZ9eHbghW5eLiVf3l5YCweJcL4F5dAX9h0HA1imYHfEMRkS8aliglwk4iTWhkqf6aPO2rAAnYf4o0I+vm4Nim/tiU+QjKNjzB4cCfW7IODwVtFuOS0yRYxOtTRu7KNBNQ+k1GRmdm7zmQVlQEiABErAYAY6/FqsQCnTrVYi7S2S0E3qlQF8qK8WHvgHqvQ9U72m+QF8lDtV2yXbwmn2xNk8XSwv0MUeflbBYd8SD+w7x5J7CSvbZ34EFzwH3JG2pxkCLhYl2HnhUoMc4rxt57yXMinzOsEDPhDv4M20nW1uIiWGf0gcIZyMO3IuMQolB38XLssVjBWB1J3Gnvp2IIr8NxZrIyijdc4VDgT4lZDKeDZJoAEn4djAyllGgG6HnndcanZu886lZahIgARJIfQIcf1O/DhKWgCvo1qsTt5bIaCf0SoE+8RFZDT4NtBWRXrSm+QL9t9nAt2/JavNTWFthmvkC/aJsFQ9KE09QuxJmrdfCXzDphOwiSEGUxoNzXLyNf9bCdnY/iS3MHhXo6mPByU3oFf4aVkTVMCzQ1XOeytbDdta+q4QCzPtoonbhjyvoZ1Z+gIK7x+PziDqo3OszhwI91tleXYlmUKOXaWMXBbppKL0mI6Nzk9c8KAtKAiRAAhYjwPHXYhUixaFAt16duLVERjuh1wn0OPGz8c4piX+ezXyBfvFPYEYNcRSXAesab0fnT+WMd4wZdhIXc/Zay67pdKDcy9o/XRHoQz9ZjqGn20mosnTIPOyivna2Ubze/zwcyFrY5tU9MDD2Oo8K9KkSw/7vQ3g5fCC2RJU1R6AXk/B452SngNodULoJBboQOP/lO8i3bwbmRjTEk73mOhToHwR/gtbBP4rDwf7ieHCAvjalIxUFug5IPpbE6NzkYzj4OCRAAiTgMQIcfz2GWveNKNB1o/KNhEY7odcJ9JOyOrpAVo2zFhIPZSKkkzDDZ9CjooBxxbTV2O1PLEHL76LNEei3Jb70xLKygh1myy9tVqDPQSBNepcE+uRZs9Dz/Ns4Ih66S74vjr30WLhscf/wYSBMzqW3XS07EGqljkAfLR8I7l5HvbCxOBpdwByBXmm5xHwX7/DJrP764wr6pSWvI/fhxZgc8Twa95riUKAPDP4UXYLXANXkmEd9cS5oklGgmwTSi7IxOjd50aOyqCRAAiRgKQIcfy1VHVphKNCtVyduLZHRTuh1An2reCv/QVb2knEQp2AbFugqky/aAAdW4njp1/HULnGwFmOGVtA3i5fxdYNl+3U521bs67JNP2aruSsr6AumjUDby2M1B2C1PhDv7HpttZzb3zlfVu/lLH9T4RljHltBV2HyRuTW7vq/u7NwAxnNEej1ZUfAprHJxoT3R4H+z8K2eODECgy/9wpe6T3OoUDvHbwMPYPlQ0elzkAj8fxvklGgmwTSi7IxOjd50aOyqCRAAiRgKQIcfy1VHVphKNCtVyduLZHRTuh1An15N1HgEqO5joj0OrINNwkzRaDvkXus6IZ/MxZGmX9Gqq6l3cmQQF/UDDj+E/D0GODOPyImZbt5CQkX98oXLq2gr/qoFxpfnaedL245fKX+dmbfhZD+AVuYupht7h4T6OrDxKRHEBUYggfvyIcCYftT39p4MGfGeM9gL0/+rOmwub94n0/C5m8+iaGrbbsHTrWSXQErutt2BajdAQnMHwX6tTnNke3sj+h/rxO69n7foUDvHrQK74SIl/9yr8rHm6n625SDlBTopqH0moyMzk1e86AsKAmQAAlYjADHX4tViHrTjRazXrFYIncRMNoJvU6gq3Bhl8TJWisR0A8/kyRWUwR6+L/AePGKHn4bLcMGY3t0KWMCPfIeoLZ135N8u22Wnipnv6dXlXBnaYH+p1HkXTn3G2PKw3j9iRtx5NJtm/CU/0/KNk14FbVurta2L/ccPk9/E4sQJ3FjitjKEsehmscE+pnfgLn18F/6fCh11bZKa4pA7y7+COY1tJ2v73Xfb4AdjD8K9JvTGyDzpW3oEf4G+vYZ4FCgtwv6HkND5Ax/meeBF51oUxToyJw5s/4+6Acpjc5NfoCIj0gCJEACbiHA8dctWA1lSoFuCJ/3XWy0E3qVQI+Qs9sj8wFRESLARKRnLeg+ga5yXi1erHfOw/aoh9EyXLamy0qvyyvoZyQM2ty6Nqd2b5+whTj78CHg9iWg3RoUmSGrv04K9D/HNsAjd7Zpq6OjR3zoXOP99EXg6Np4oeo8JtD3yxbqZe1w/YEKKHdWvOWbJdAHlgcmyIeUgCDgXTnvHxQcj4k/CvR/P6qODFf3oV14Pwzp08uhQG8Z9DPGhEgUg5LyoeNlWUk3ybiCbhJIA9lMmzYN48aNw4ULF1CmTBlMmjQJNWsmjoKR8BabN29G7dq1UbZsWezZI8dIdJrRuUnnbZiMBEiABEggAQGOv9ZrEhTo1qsTt5bIaCf0KoF+YS8wU7YvK+dqyoO7ErlJmCkr6CrfG2cRObkCgqLC0DW8N36IquS6QP91IvDjUOAhWQ1/6TNbqb/sCOz7Ujxmv4MiP/wv9kn0rqCfGVkBBcOPa+Jr/shBzrWzLVOAtXJNHCHmMYG+VbZO/zAQlwo+gypHZSu1mCkr6CNFVI7IY3PC11PaSrYi8Zj4o0C/++GjSHvrLzQPG4Lxfbs6FOiNAzfjozRSP0VryzGBVc61qRRSU6CbhtKljD7//HO0bt0aSqRXr14dM2fOxJw5c3DgwAEUKiQON5OxGzduoEKFCihevDguXbpEge4SfV5EAiRAAp4lYFQbeLa0/nE3CnT/qOfYpzTaCb1KoO+Srber3pCYZLLq005ioCdjpgl0yf/E5+/gwYMzcCYqJ+qGj8NvQ55FlnQhKbayuGJk+isV0PCRvMDiF4Bj64AGcp696uu263cukFV68ZZdqCqKHJHnijG9Av32+wWRMeomGoSNxg+j5Oy1M3Z6O/BJfSBDTts5dPnY4TGB/oN8GNg6BX891AG198quAjFTBLo6CvBxReDKMaCNiMsHRWTGMX8U6PdGP4iQu1fwtLSR6X3bOBTo9QN3YFYa+ZhUoDLQSdqrSUaBbhJIF7OpUqWKJrSnT5fQjjFWqlQpNG3aFKNGjUo211atWqFEiRIICgrCihUrKNBd5M/LSIAESMCTBIxqA0+W1V/uRYHuLzUd85xGO6FXCfRv+gC/z5UQUCJm60ss72TMTIG+fu8JPPx1XeQPuIJR917Ca+9+7LxALy0iWJ35Dr8FdNkI5BMv7squngQ+kn8HBqP0nVm4AzmPLqZLoN/7z7ZaLPaoeEL/Y3RL51q+un6UHBGIkrPxMavNHhPosr0dss39SLmBqL9Nws6JmSbQF8nZ6ePrgcYfizd38cQfx/xRoEd9kAuBsqOg+t3JWPzWiw4Fes3AP7AozWgg9yNAdyciAzhofRToznVPM1OHh4cjffr0WLZsGZo1E0eVMdazZ09NcG/cKGNSEjZv3jxtxX3r1q0YPny4Q4EeFhYG9WM3NTcVLFgQahWe5/PNrFHmRQIkQAIpEzCqDcjXfAIU6OYztXSORjuhVwn02eLJ+9xO4IVPgLLNk60XMwX62v0XsfazCRgfMhOXo7Mi9K19yJIpU4ptItEKevYLwOwngNAssjVfRHmgnJFWpvw5TnpUttKfRpvwd7ApyrbNXZdAv3JcVosr4E50KEqHfSLXSGx4Z22WlOn8riRDvdmzKp4rI37sUxuLtv2FwSvk3L/YB03KYPDK/dq/e9UtIT/iTC8FswvjBmVyY2brx+Qsvqzcn9mOP6t9hOd+Ek/yYqYJdPtHnJpytv0p5TfgvvmdQFfOAIfLxyEx9RFn5VvPOhTojwUcwpeh7wPZiwFvStswySjQTQLpQjbnz59H/vz5oc6SV6tWLTaHkSNHYsGCBTh8+HCiXI8ePYoaNWrgl19+QcmSJTF06FCHAl2lGTZsWKK8KNBdqDReQgIkQAIGCBjVBgZuzUuTIUCB7mdNw2gn9BqBrrygj8xvO1/8hgiHHCIgkjGzBfrri7ZjQ2hvbRX9zjMfI33l+CuzCYuRSKDfknPma9+NDakWL/0K2e6+ZzFmRDyH0REvaX/SJdCPidf3xc1xOKoAGoSPTdbTe4rd4du3gd9mAVVke3zD0Z7b4j5RVs1vnMGOp77Ai2vE4Z+YaQJ982SJNf+efMCRIwUvyG6LOOZ3Av3fK8C4BzUCD95djPVvPelQoJcJOIk1oXIEIZM4Y+x70LTRlALdNJROZ2QX6Fu2bEHVqhI5IsZGjBiBRYsW4dChQ/HyjIyMxOOPP46OHTuiWzcJaymmR6BzBd3pquEFJEACJOAWAka1gVsK5eeZUqD7WQMw2gm9RqBfkLBZM+XsuVqF7v9Xsg7iVPWbLdC7LNqJbhIfur/Eh47M/SiCum1K8f6JBPqfvYEj38XzmB7bTPd+Dizvgr1RD6JJuG3bvi6B/pt42v72LayLrIjO9/q6JtD/+AL4ujOQX1a1O6/3jEB/Wbb0j8iteeL/9blNeHXZWe2ZTRPo+1eIh/i2coa6kpyhvh+6Tt3D7wR6zBGKf2WXRZmwefj5rToOBXqxgHNYHyofbtKqfibx6k0yCnSTQLqQjbNb3K9fv45s2bJp587tFhUVJRt+orXfrV27Fk8+KbuZHJjRuclR/vw7CZAACZBA0gQ4/lqvZVCgp3KdOBvKRp3/69OnD/bv3498+fKhX79+sasWeh7FaCf0GoGu00GcuwR6VtzCttAeSBsgK/kdxXlWQXGilYzFE+gv/w8Nv5VtpXcljFqnn0Q4ihOzuHbzvBYaLDI6AOXDZuImMuoT6N8PBLZNxZyIhhge0do1gR6zTR5BocCAsxKLPbFTMNO3uD8jYeZkaz6C02H987vRcaFtG7VpAv38bmBWHXF+l0vC2YnzuzjmdwI95qPWJTmaUSVsmi6BngdXsC2t+HgIFEeIg/9O8UOUnvHJnoYC3Rla5qdVTuIqVqyonSm3W+nSpdGkSZNETuKUGFfe3eOauu6nn37Cl19+iaJFiyJDhgwOC2l0bnJ4AyYgARIgARJIkgDHX+s1DAr0VKwTZ0PZnDx5Uost27lzZ3Tt2lU7I/jaa69hyZIlaN48+TPW8fSdOOLJkiWLy454vEagrxJv57vE67kDB3GKjTtW0FW+Y4NnokWwOFRKYvt03DqJK0YWN0qHGuvFMVOajHL+XFb+E8Tm1q77WFawrxxF9/Ce+C6qij6BvkS2wx/+Fu/ea4/FkfVcE+jqDLxyXnf3ujiv24AiH8nHggRmukCv/A+wRBza5S6L9XW+RscFv2t3NE2g/3fN9kzKBsrZ/zTpY5/I7wT6qc3A/GdwPCovngr/UJdAzyiuCvel7WRjNugSEGJzXGjUKNCNEjR2vX1umjFjhrbNfdasWZg9e7b2Ybhw4cIYMGAAzp07h4ULJVJGEqZni3vCy/iCaKzOeDUJkAAJuEqA46+r5Nx3HQW6+9g6zNnZUDbvvPMOVq1ahYMH75/1VGf+9u7dq3nO1WNGO6HXCPTJsjX6mjhYe0m2hD/0dIpo3CXQY8/nitd19BYnaZlsXtQTWlwx8l2lvSj15xig2FNA66+TLndM2LFvIh9Hj3tv6hPoUx8H/j4Y61xObYt3yexezxt9iCJfSTi4BGa6QC8m7Vqdxy/TDOvLjjFfoKvyj5K4zmGyY+G1bUCuUrFP5HcC/bAcq1jSCnvk+ERTOT6hZ4t7AKJwMq0tNj3eknB1GW1O5owaBbpRgsavV6vgY8eOxYULF7QPwxMnTkStWrW0jNu1a4dTp05hw4YNSd6IAt04f+ZAAiRAAp4iYFQbeKqc/nQfCvRUqm1nz/mpYqqXo/Lly2PyZHFsFWPLly9HixYtcOfOHYSEJI63baojHvHyfGtCRfx9OxzRCEDhBzIiODBQtrWqnwApkfxo/1aFC8B/kdE4culfSQs8UkDOKEram3cjcPiy+l0AKhfJcf9adV1IOvmRFUztR/6dPjuQpYD8SHivvOKxXP2/HrsuZ2EnSdinADkT+c4pOR+bOcWr3CXQ1U2PFZuE4HO/AXUGyE//++W4sFdCwM3TnvV8qQ6oNt3mGXlnwUnI8bekf1pCVz2eTKzyc7LNW7y8K4/slWQr8v7RL6D+xI3C+raWRyLxLVtQMVKceEX8h9phE/BXdB7XVtBV5j+NADaNBcq9giLbEot80wV6FtkFoY4r1OqH9Xk7uUegz6gBXPwz0cccvxPoMT4Gfo0sg1fvDdIl0LU2nrEzgiP+deiMUU/XtadJJNDLiff+qyeAmxfw77Xz+GjlFmQPUAc87soxkjA893AWbD10Rv4djiD5aKB+AuXnwQfS4cw/t7V/Z0kbiLDwCESq/iBWLGfy265vh0Xg0k1bCLCC2dMhTZCMT3Gt0QTxpFfbmUfS0vIlKHlkZON0c+IFJEACJGAKAY6/pmA0NRMKdFNx6s/MlVA2KnyNWrkYOFDOE8eY8rRbvXp1qPzy5k28omlqKJs4sbT1P6mJKXMUB0rKangZiV2dX84lax8FkrAd4o17jcRALyDnvjslPied8Ap3CvQDL95G+tVdZGVRHJ29Keed04go+FO8tK8Q8R0pYa3EIjLmw5NX3sb16AzYk647AqMjJe0eCV1VNOnnk63mx4aURvHA8xh/70W8NWJOygL9HzlbPeUxhAWkRan/5mjSxeUV9MPf27ac53wYRc6I9/MEZrpAvyehzy/0fW0AACAASURBVE5vAZ6fjfUhtd0j0Je+Ahz6RjzTy4eHKl1jn8jvBPqOOdJv+uK7yErofq+3boF+KFtvpP1Ptrd3keMc+WTnilG7cxV/H9qMJV9/if8FnMBjGf9Bhv/k+IH2qc8i9tJS2ZnT0OnC8CUoeWRk43Rz4gUkQAIkYAoBjr+mYDQ1Ewp0U3Hqz8zZUDYqZyXQ27dvr53/s5s6h67iz6ptiHnyJN5CbeoKelQk1v2wGrM2HZf172hMf7U8cqSXVXt1Nlm9PEfLylTsvyV09dXbeG/lPi3tVPHGnS44EIcu3MDEdUe03814pfz969SqlqzwIvwOcC/m5185f3xDvHZflRjeavUsruWWFfKqEnJMxTcPThP/b7Nle/g5OatcT+IzV+/psFLcKdD3vlsHWWaJh/Cb54CHJfZ4Zgn99ttMW5mK15Nt+Ke08+QnovLgm6jH8WaweBXPVUa2W4soTcHeHDgIH6WZoq2ip++0BvW/vJP8Crr6IPBVR5wILY0nb8h2cTGXBfrty8D4EpJDAMrenQ35/BCvlGYK9IalH8D0M3Ie/56sznbbjPXXcrpHoMccGcDj0p6eHhn7PH4n0H+dCPw4FMsiauHtiG66Bfq+XIOR8ab00bbykaOoRE5wxf4+YvtIckQ+AJ2RHSRJiXEVkSFrQdxL9wBWH4/AlejMuB2dTk7Bh6JXw3IY/O0JWU9Pg4iY9fNI+RDVt/7DGLP2qHyUCkClojlxWHb0/POvOG4UW9btfgixhEXefPyKNk4pm9yqPPJnlR09cS3nQ/p39MS5ji9ByTcOsnGl4/AaEiABEjBOgOOvcYZm50CBbjZRnfl5aot7wuIY7YSpdgZdVtVw6lfggAjYQ9/axLwytf29Ri+gfGsR6uJd3O6VW5377iNn9TOKd24H5laBPqQ+slzaDixoLJpDVsbtppzX1ZUPCP9eRsSsJxF8SwS83Z6dBDzWPsVSF+2/GgtCxqBWkGzNFg/n40K6YOq1Kto1icS3ivMt8b43Zm6MtpdbJZ3GEaS4f4+JS/5S+CBsjZKPCXHMTIHetdg1DDgnolkJs3dOYv3hf9wj0GNC0GkfUFp9Gvs0fifQ10t7/OVDzItogGERbXUL9L35RiPLVQlr2GqJfIR6Rn9LihSh/Ocy21GPs0qU37d7WR/Eqiv5sTuqOJ6sVQdPyi4hZJBt7rJr5vqdcJR7P/7OmN2D66H8B4l3yyzqWBmt59rybvRIXuz86xou3rzrsA9888d59PhMdryIre9bW7bDi9NGE8zo+GtCESybBdlYtmpYMBIgAR8nwPHXehVMgZ6KdeJMKBtVTOUkbvXq1fFC2nTv3h179uzxLydxSqzvnA9snwHclq21yjLJGev/ifg8sNK24v6obMN+fpau2nW7QE8nuwxObBCR/JGEo5IPB491iOe47sLR3Qhc3BS5A67jcp7ayNVluaS7H1M4qYdQ4jG9rBdODZmMJ4LkPLvYe/faYmFkg8QCfWFTuf/PWJyzD949Ix7gxVxeQVcXf9FG4zz6XivMiJQPD3HMTIE+J/dXqHvjK6B0E6DFQqw/eMk9Av3IWuCzFzVP8egunsxjzO8E+pq3gB2z8VFEU0yIaKFboO8sPAU5LsmOj2bS3/4n/c6RqV02+6Re1QeB6xKpQJnqFw/WsW0bl2MsZyKzo+bYn7U/jW3+KFpUkg9xMUaB7giwd/6dL4jeWW8sNQmQgPcT4PhrvTqkQE/FOnE2lI09zJoKsaZCrSnP7cqLu9+GWVNn4nctEuErK85qC7ndMotjuc4SQzyTnPvWYR4R6CmUQznEqjv2B+QJuIr+LzVEw0flY4MDs4tHzYt2XXEa9+sEhEcHoVH4KKwbdf8cNRSjMXKWXXYcDC84G3OO2hxjGRLoshoPWZW3n1WOW1QzBHrZ/svwVvAXaBP8o+bcCy/LKmvJ+u4T6H+Lg76p4q8gTSaJ734m1reBpwT6ut61UCK33DsZG7Z6P+ZtPhX714qFs+Gr7tUcNRHn//61tJs/lmLkvZcwK/I53QJ9e7H5yH1OPnI8Mx6o3Dnl+6pjKyoE4uE1tnQq/vzj3cTpoHiCj9NfzfLivrBDZbT5hCvozjcGz1/BF0TPM+cdSYAESEAR4PhrvXZAgZ7KdeJsKJuNGzeid+/eWjzafPnyaavqSqTrNaOdMNW2uKf0gBHibVltlT0jW8kzSJinKsJDx9Z2e5ZWEOj21cLpr1RAQ9mK68jiicdRz2DbiHp4PGIH1kVWQL0PbCuPmh2Vbb+fvqCdfe+ecyG+22/bcWBIoKujBvMb4Xx0dlQLmxKvqIYFuqyubnyvFmoHyZZpZY/KrohmslNCtja7bQU9rvPDfhKaLyZagN8J9CUva8J5wL2OWBL5lG6BvvnhL5H/lIQEfGoIUFOcMyZnV4XtIvEpoMIfBsquktr9xI9Ej3ix5+2XUqA7GgF87+9G5ybfI8InIgESIAHPEOD46xnOztyFAt0ZWj6Q1mgntKRAN1gvXi/QJaZ5h/GfYtatHggOkBXn9hLPunDMCqtardwlocoqtkP3G23w3b6LxgV6mIRzGy1bjsUpYKW7U/E3ssXWgGGBflo+snxSH2HRIZiZdxje7Ppa7Iq22wS6Kv14cfp1W9h0lo8bKkKAmN8J9PlyBv/UL3gjvAdWR1XTLdA3PfI9Ch2VUHg1+4pIT+zZX4P57xVgVh1x+ighELNK3PlWnwF5xNFjMkaBbnBQ88LLjc5NXvjILDIJkAAJWIIAx19LVEO8QlCgW69O3Foio52QAj3l6lm7/yK6LNoZm2ivchKnzqCnYHHFiEsr6CLQVRz0tlcm45Xg9SIwK0p4Ofnvv3/b4sFHiFOsdmvQ/dd05gh09SzTxAP25QPoEt4ba6PES32MGRbo38qqqni5/zKyFtaVHIKZrW1n5pW5VaDPrW/bgfHifAnjJ6u8Yn4n0GfWAi7sRbvwt7Ehqrxugf5T+V/x4MFpsr1dwgk+My5xS1cRGhaJH4GTm4Bsctyig3hqz5Q44kTcCynQ3ToNWDJzo3OTJR+KhSIBEiABLyDA8dd6lUSBbr06cWuJjHZCCvSUqyc1Bfq1S2exIbQ3MgTIln+1knlOzqar0FUFREB3XIfun+4yT6CvlvB14qhvZkQjjIqQOOJmCfSp4on+70PoGi6e+Us95zmB/pWcnf7zC/GsP1SiAvT2T4H+kYQ9lHCGL4S9h9+jH9Yt0NdW3oOSf0gM+f+9ZDuOkNCUn4hVspU9RPwfdJYPR7lKORzjKNAdIvK5BEbnJp8DwgciARIgAQ8R4PjrIdBO3IYC3QlYvpDUaCekQLeuQD9y6TbaBX2PoSGy3dhuQRIjXm15L/AYui/eaZ5A3yMhtVZ0w86oEmgePswcga62zo+SOPFiFe7OQKUyJTwi0P8Ni8DaKW+g2S3Zdl1Rwts9J04HxfxuBX1ccW3XxdNho3EoupBugf5t9WMovVM+CCUIU6dBvCe7NyY/aou2UH8EUE2Eug6jQNcByceSGJ2bfAwHH4cESIAEPEaA46/HUOu+EQW6blS+kdBoJ6RAt7ZAl4PhOFVXtthvkZBuoZltYlOFKRMzVaArh18fldM8xz8SNhdhkA8BYoa2uJ/ZAcyti0vRWVElbBoalMntEYE+5aejOPnjHHyYRlZ/i8o277ar/VOgD5eoB3IcokbYZJyNzqlboK+ucxGPbBPncHHYxfaSXfKxaNUbmpNCvLkHCLa1E0dGge6IkO/93ejc5HtE+EQkQAIk4BkCHH89w9mZu1CgO0PLB9Ia7YQU6FYX6DEe2pVnexVbOk48dVMFunhbvzy0CHJJ7PYXZUv0DtkSbVigq9j2snV+U+QjaHNvgMcE+qjvDuK3TT9geah4Ic8kIe76HvQ/gR4RDgyXCAhij96dhZvIqFugf13vX1T4RY4IKKdv3cTDf1ybWVvOtYswrz9cVs9FqOs0CnSdoHwomdG5yYdQ8FFIgARIwKMEOP56FLeum1Gg68LkO4mMdkIKdC8R6EkU01SBLvmvGVwPjYJ+w9h7LTEt0rZKb2gF/du3xUHcLMySc+0j5Vy7p1bQlUBfuvEP7E0rTs6UDTgnuw8y+tcWd+VlfdyD2uMXu7sIkQjSLdCXPpsWj//4fLyPG1pGfx+R+PLi/0B9KOor/86QQ/dASoGuG5XPJDQ6N/kMCD4ICZAACXiYAMdfDwPXcTsKdB2QfCmJ0U5IgU6Bbifw/qAeeC9kEdZHlkfHeyKujQr0mDBffcO74auoWh4V6DM3nsDO0K7IEXAL6LIRyFfOkgK9TuBuNMx2Hi3fGAWkzWLe0BRzZCEyKC2K/fuJlu/Pb9VB0QfEsVsS9vH6o/hwnYhusYUv5Eetb2SlXMU2HyyRAyRmvWYbRsuPlLNEA+AVccDnhFGgOwHLR5IanZt8BAMfgwRIgAQ8ToDjr8eRO7whBbpDRL6VwGgnpEBPuT2kphd35SRO2SkJu5aUmb2C/tyAj7E69F3ciE6PcmGz5PR7oLEV9AmlgZvn0CxsGHZHl/C4QF+WZigqBYrobD4XeOQFtwn0YePHo23QD5gZ+Rx+jXoE63rXQoncmZJtWMNW78e8zadQLuAYvk4zBIEB0VK+F6Wcc8wbnM7v1uKUh6fLjZLXJmr56hXoc195BE99FRPT/J1TQLpstnLZQ9c9J/4QKrZ1qqwU6E7h8onERucmn4DAhyABEiCBVCDA8TcVoDu4JQW69erErSUy2gkp0CnQ7QSK91+JP0I7I72EdasXNhZHowu4LtCVt+8RKjZ2tObB/Soye1ygjwmehZbBG4A6A+Snv1sE+pvVciLHzP8hXUA4bkWnw+NhU7CidwNdAn1SyBQ0Ddpiw6+2jb997L4YNjpqHP9ZYpU3xZ2sJVH64lCnBPrsNo+h3kqJVx92E+jxO/BACeCu/HtMEanOSKDXn0DWQk6VkALdKVw+kdjo3OQTEPgQJEACJJAKBDj+pgJ0CnTrQU/NEhnthBToFOh2AioM2Wchw1Et6AD63euMLyKfcF2g288rp5Gz3zdnyi0CPC7QuwWtQv+QpUDZF4AX5rpFoPfPsxPZf7TFWVf2RngPvNmzv0OBvnDzceySLfhZAu7cb4AvSVkfamjOcLJ/ObCsHW7mqoRHT9vKp3cFXRPoP0o5rh63hfQrXA049C2wVOKiZy8m3tt3OV1GCnSnkXn9BUbnJq8HwAcgARIggVQiwPE3lcCncFuuoFuvTtxaIqOdkAKdAj2uQB8Y/Cm6BK/B/Ij6GBrRznWBfmQt8Jls285dFkX+GqjdwpNO4tQZ9PqBOzArjWzvzvs/oOsmtwj0IREfI8OhZbGNaGlEHVR8Y7FDgb5vy/dYFvo+rkVnxK501fDUXeFVQ0Kb1RXP82bY73Lu/JveuFagLsof6+C8QN/aBjizDWghYdVUWL9v+4nDP/nQ8lhH4NkJTpeQAt1pZF5/gdG5yesB8AFIgARIIJUIcPxNJfAU6NYDn1olMtoJKdAp0OMK9KaBv2JSmmnYHvUwWoa/57pA3z4L+E4czT38LIrseTlVBHqxgHNYHyplkFV8DDiLIgNkFTjGkjvXn1xruBcZhRKDZDU5jrV4rABGnG2HkOsnsCiiLloH/4iDUYUQ/PoWhwI91/ZR6B68Gisiq+GfrI+i0y2J2f6Q+Bp46TP9Q0mY8lEg59dDkzjv/ouI6PXD8Hex5qi0v7nzAv0P+Vhw6BvgmfFAZQm5NqUy8M9hEeyLRLA31l/GmJQU6E4j8/oLjM5NXg+AD0ACJEACqUSA428qgadAtx741CqR0U5oWKAf/wcvz96uPb6zosddzPaeuY4mUzdr2S/qWBk1S9jiQbti/uQkTm1xLxlwBmtD39HOUz8aNhvFcmXGj31qY9G2vzB4xT4N4QdNymDwyv3av3vVLSE/JROj/V7OfW+bBlTtgSI/yxZpMU+voIcgAkfTtRMNGwX0OYQiI+9vzXa2rSYl0F+qkAsjD9ZHgOTfJOx9rAx9D/eig/BX1yMonu+BZJubchLXYkdLlAo8gzfDX0eOXPkx5LrsMshRXPbI79TXTJUTuAUilNXZ9U4/yrWy9TyurXsP2DwZF0p1QNXddbW/OLXF/bh4a985D6jd3+YQbkIpyUG8ub9z0qVz8hTo+qrVl1IZnZt8iQWfhQRIgAQ8SYDjrydp67sXt7jr4+QzqYx2Qgr0lJuCvwn0YBG1+0M7IDQgAjXDJiI0ZzHXBPoSOa98WFasZQW2yNf5UkWgq5ueyjsIuCaiss0qFJll84qv/T4Zz/jJtYakBHqPshF461gb7WPGI2FzsFvOlGcLuI3TL3yLQmWrJ9uwJn61Hr3/fB6R0QGoEDYTlQukw+x/Wov+DQIGXQSC0zgenz5rCRz53pau/KuQL1Lxr1n1BrBrIc6U642a2yR2uZhTAv2ieJTfNFbEeXugYBVgRTcJVVdBQtaJ8zkXjALdBWhefonRucnLH5/FJwESIIFUI8DxN9XQJ3tjCnTr1YlbS2S0E1Kgp1w9/ibQFY3VaQbikcBT6BreC8cfeNI1gT5NVs0vyyr7K1+hyNwwDbKnV9DVPU/9b7HtQ8HTY1BkRcHYyjZDoA8teRLtTg/CH1FF0Th8BBaHjECNoP24VHsMcj8hgjYZWzt7EOqfm4Lfoh5Ci/AhqFgoK766LoI7XGK2vybnvnOp1eoUTHnIH1MYiJD/KlNh0PrJRwh7vHL1u89F8B9chVOVh6LOJtsOB6cEetg6YOXrQFGJh54xF/CnnLM3cEaeAt2t04AlMzc6N1nyoVgoEiABEvACAhx/rVdJFOjWqxO3lshoJ6RAT7l6/FGg28OTTY5ohtXZ2zsv0KPlXPTI/MC9f7UwXUXGSyxysVQR6PVlK/imcbLK3BpFtt73kG6GQJ9a+Bc0ujQdK+Ucec97PTBAHOx1FQd718u2Q9YXJifdsITNpTEVkPvuCQy41xFLIp9CxcLZ8FXwu8A52d7+4gKgTNOUG+VpEfGfNBBhnl1EvTCOlA8gPeTaB2SLvN0WPAec3IRjNSai7o+5nRfomf6SuOf1RJxLqDyV/3/XxKO7rNgXrurSeEaB7hI2Uy+aNm0axo0bhwsXLqBMmTKYNGkSatasmeQ9vv76a0yfPh179uxBWFiYln7o0KFo0EDanU4zOjfpvA2TkQAJkAAJJCDA8dd6TYIC3Xp14tYSGe2EFOgU6HYC6gy6svZB32FIyCL8EPkYxmV7z3mB/u8/wDh1JlrOLMuW7SKD16eeQG8droUbU9uzi5x4K7ayzRDon+f9DFWufYNJEc/Lzwt4PnATJqSZgTv5Hkf6Lj8k3bAOrAK+aI270SGoHDYNN5HBJtBzidd1tUpdd6isVN8P25ZkJjvnyzaHnkBxOVseJqvuZ8QHRDPxsP6/VveTzxDhdfEPHHpqHp5eE6r93qkV9KKyzV7FPbebWqV/S+K0B8mZdxeMAt0FaCZe8vnnn6N169ZQIr169eqYOXMm5syZgwMHDqBQocQx7Xv16oV8+fLhiSeeQNasWTFv3jyMHz8e27dvR/ny5XWVzOjcpOsmTEQCJEACJJCIAMdf6zUKCnTr1YlbS2S0E1Kgp1w9/riCXjVwP5akGYFTUbnRKevsRAJ9/NO5UPynLigacBG/F++Jp1qLI7G4dvZ3YM5TQCY5e973YGx4s1RZQX9LtndPeUzOdafDg7dnIwqBWknNEOg/ZR+DB+/s1Ry9rYqqjjIBJ7EmdBAiQ7MiqP+p+FvO1U1/mw0o53lR9zAtojHGRtgEtSbQH5Kz3erMdwVxyNb4o5QbZRwHfFC7FbbJ+fNK4mm9kXhct9vER4Abp7Gv4dd4drltK7xTAr20rLpPrwFc+tOW46NS1udVPHvXjALdNW5mXVWlShVUqFBBWxW3W6lSpdC0aVOMGiUOAXWYWkVv2bIl3ntPHBDqMKNzk45bMAkJkAAJkEASBDj+Wq9ZUKBbr07cWiKjnZACPeXq8UeBngM3sDNtd0SJE7PGmT/HN30bxPPivqHIAhS5aFshjpZV8oBuvwB5RBDa7c8vga8kXnYhOYfe4bvUFegjnwZGFZDt9ndQL2wsjkbLv8XMEOh/ZOyBzBFX8WzYcOyLfhChCMeB0PYIChDR3FdCkmWS7eF22zIFWCsO68QOZK2DJhc74B5sq9GaQK96Shyxdbed+W4rq+wp2aJmwPGfgOdEyKfJYGOdXz5CdLbtVNBslJy3D7uJvU1/RJOll7VfOS3Qt4oX/h/kg4LyFN9Z7qfiybtoFOgugjPhsvDwcKRPnx7Lli1Ds2bSdmKsZ8+e2hb2jRs3OrxLVFQUihQpgn79+qFHjx4O06sERucmXTdhIhIgARIggUQEOP5ar1FQoFuvTtxaIqOdkAI95erxR4GuiOwI7YacATfxWoYPMe3tTrECPReuYVu6ngiMjsC56BzIH3BFtlZLnPNm91fmsElWcn/6IPb39q3zqbKCrry1z39WFPkvsWe+1fMZFegZcQf70nbSGk/Zu3NwG+m1f69P0xfFAi8Ar34tW9BlF4Gyq+LAbdrjNqdudQZi2M1GmLdFznjHmCbQn5HjAPPkY0JW2W7cK2bVOrmmOaGMqJ+z8vFjLZA2sy3vNBILfcAZ26p9hJwZHy6O3cR+b7kLLyw4pP3baYEuogwHVgDZi8oRAX3bmpMrMgW6W6eBFDM/f/488ufPj82bN6NaNVvIQ2UjR47EggULcPiwfExyYOrs+ujRo3Hw4EHkymVrWwlNnVVXP3ZTc1PBggVx48YNZM4s7ZRGAiRAAiTgEQJGtYFHCulnN6FA97MKN9oJKdBTbjD+KtA/FY/k1cUj+bi0b+Lt/h/ECvRuQavQP2Sp5oF8zL1W+Cp0GBAi4vQtcQQXKiJR2UpZYdu9SMSorL7W6Z+6K+hKoP80Qts+/lVkDfS995pWRKMCvWzACXwT+i4i0+dCsauTYhvRtJBJeCboN6D+cKCahDpT9t07wPYZsjpeSwv3NuybA5i3+VTsNZpAf/VB4MOHRGDLFvxBl5IPtaacwo20ha3DO5JHiKygq/+XbfPoJXHqs8rK+fXTwCTZ0RCUBttfPoiWs+WMupjTAt3EsZQC3USYTmZlF+hbtmxB1ar3nfyNGDECixYtwqFDtg84ydmSJUvQqVMnrFy5EnXrit+DZEw5kRs2TMaDBEaB7mSFMTkJkAAJGCRgVBsYvD0vT4IABbqfNQujnZACPeUG468C/b3ghegQ/D2WpWmCFwcujBXoC0NGoVbQnxhyry0WRNbHrmwDkP0/EYTPy/nqR1vYYMZ4ELc7Lkv1FfRjsvV78fM4G/0AaoQp7+oBhgV648At+CjNFNwVh3APn3gzthH1DPoKvUO+ur+rQK1mK+GtvKBLyDmUqIthq/cnFujdRDiNyCur3/8Bb+wCcigne0nYZRFT0yQueWgWWTEX7sqmygr63wclfzlaUEI8r9t9AGQpiO1NNqLlLPH6LkaBLh79xdb3rY1iOTOaMlMYHX9NKYSDTIxscVfO5dq3b69tj2/USD52pWBcQfdEbfIeJEACJOCYgDfMTY6fwrdSUKD7Vn06fBqjnZACPWXE/irQWwb9jDEhs/F7UDk8NnijJtDfX7EHe0M7I31AGOqHjcGR6IL4ovg6VD47T0KDydnWF+fbYH4ocbxvnbdtwS5UJfVX0NWq87gSWti358OGYld0ScMC3S7Eb5d5GWV3yhb6GKsX+Dtmp5kA5HwYeF1WrvfJVvcv2wOZJeyc2roeGJS0QO8uW4/tQvtVEfLKQ3tSdkSYfvYikLss0H2zLYXyUr9/OVDvfaC6eHc/JN74l8qxAzmXvv2pLyjQBdE3f5xHj8/8U6CrJqKcxFWsWFHz4m630qVLo0mTJsk6iVMr5x06dID6r3Im56wZnZucvR/TkwAJkAAJ2Ahw/LVeS6BAt16duLVERjshBXrK1eOvAr1cwDGsCH0P/wRkxwNDTmoCfcXKr7Qt7XdDsqHUrY/FQVwgRlcJQ6u9IkDVGeh+x21xucfKmWVl/eVMtJyRTvUVdFWWFbK1fc+nWBZRC29HdDMs0CeFTEHToC24Xn0wyq2XDxIxlhW3sCdtV9v/qbBky7vYHLrVeht4UmKdiyW5gq4E+pKXgMPfAs/IGf7K4pU9KdsxB1jTFygpMd1fXmpLsWGM/Iy8v2q/Y66k6QM81Ajbq3xMgS6I/F2g28OszZgxQ9vmPmvWLMyePRv79+9H4cKFMWDAAJw7dw4LFy7UmpQS5W3atMHkyZPx/PPPx7bEdOnSIUsW2b2hw4zOTTpuwSQkQAIkQAJJEOD4a71mQYFuvTpxa4mMdkIK9JSrx18Fegb8h/1pxTu4sn4i0P+4hUurP8BbIcvwV+56qP2XiHKxXk8VQ6+9jYHbcm5aOUYLlpjb82UrbNbC8sc/tDSWEOhn5Fz43HqaZ/r3I1pj6HDxgK4cqum0e5FRKDHou9jUK9O8i/8FnsDfjeah0le2OON2O5z/A4RekS3nT0k4qvXiLE8+ZeBNWb3NLufMxZIV6N8PtIVMqypn+BvIufmkbN0QYLOcea8swv+ZcbYUB1ZKbPU2NkduXTbIXnYJm7VxtLiHb4/tZQZToAsifxfoqpmo1fOxY8fiwoULKFu2LCZOnIhatcQvgli7du1w6tQpbNgg7UesTp06SXp3b9u2LebPn6+r1xidm3TdhIlIgARIgAQSEeD4a71GQYFuvTpxa4mMdkIK9JSrx18FuqLyS5qeKBj4t7y9r8GiiwVRdM1LqCGO47aXGoCWu21h1XrVLYFedySE2K4FEotbvJo/IHHHv+unrd7ipc+0NJYQ6FKO2e++hM7BskKtTAnchhJ3XKdIjy/Qo/FnaCdkCvgPF17diKpzzsVrRLsr/Yhsf35y/3clGsj58C9i/z9Zgb59lrCTlfaHZct8q0+TbphfdpBt87IFiR9lZgAAIABJREFUvp4I/+oxZ9//Fgd9UyvZnPUNkLKo1fOdcuygdn9sL9yFAl1IUqC7dRpKMnOjc5PnS8w7kgAJkIBvEOD4a716pEC3Xp24tURGOyEFOgW6nYBdSNv/f3bIeNQLEodlsuX604g6aP5DVaQNuIdV1b/Gm+slZJhdoBeSMGKfiYM4dc76wSdkK/li2dItIv1JW9xvqwj0Iv2/QeegNegfvMQWq7yliOBS98+Pp9QS4gr0nLiOHWlfQ5Rs8T/32gnUnLAl3qWbXs2GQl/KFnS7tZOPAkWqOxboR9cBn74A5JIwaq/FzzP24jnKCZzsBlDn/dW5f2WREeLJXRzMRYYDPfcC34v3fLVVvtEEbM/RlAJdEFGgu3UaSjJzo3OT50vMO5IACZCAbxDg+Gu9eqRAt16duLVERjshBXrK1ePPK+hvBy/F68GrZKt0O6wNrIH6Ozrh7+gs+L7BRgxedeC+QK8tob3Gyvbte3fuw3x5mZyTrm8xgS7O08T6yXO9pp6rgKw6d/pRV/+MK9ArBxzEF6Ef4EpIPtzpvhM1x/4cL491vWuhxDFZQf9dfsq3lo8Vb8X7e7Ir6P/ImfUpFW2h0wbKSnhSq/sfivO5WxJnvZOcay8gae02Tc6wX94vuxY+l+3tcib9vHxYkQ8Q20OrUqBToOtq42YnMjo3mV0e5kcCJEAC/kKA46/1apoC3Xp14tYSGe2EFOgU6HYCCVfQnw78DTPSyHlnWdHdl6Eyyp6cp8USv/PMVAxeKWJQTNviXle2tasz0OostDK11fptcRiXRv4rZp0VdJtA11bA00mM8uhIWakWT+u5RPQ6sLgC/aWg9RgVMheHMlZBhg4rkhbouWNiwieRb7ICPUJWwIfnkitkdb+vbFvPlDv+1XH//tZRIKNKG2P2re91h8oZdQklp8K6dfsV2+/ko0AXRFxBd9TCzf+70bnJ/BIxRxIgARLwDwIcf61XzxTo1qsTt5bIaCekQE+5evx5BT07bmJX2m4aoLtpsiFt+DW8Gf46Kj3XJbFAv7gPmPOUxPGWre9y9hlPyDbrGLOaQFfFOvU/2d5+WAR7HO/qKbWEuAJ9aPB8tAtei40PtMKDL080T6CrAkyU8Gk3xPt9TIi6eGW6KkcJPioHBIlTunfFKV/cFfZN4jDup+ESB13Oux/9wXbZwPPYfvYuBToFulvnoOQyNzo3pUqheVMSIAES8AECHH+tV4kU6NarE7eWyGgnpECnQE8opOMSWZPhfZSJPKT9Kjw6CFXCpqJPk6qJBbpKcEVWza//BRStI/G+A2OzsaRAb3VDQq91v+/53EEvjSvQl6b5AI8HHsTS/ANRvfkb5gr0+XIm/tQvQLOZEjatVfxSnZTfL5C/Zy8mXuFlC3tcO/gN8Pkr93+TSc6k9z2E7SeuUKBToLt1DqJATxW8vCkJkAAJJEvAqDYgWvMJUKCbz9TSORrthBToFOgpCfQu2X7HwP8maEmWiqO4/hFd8EGTMkkL9GRQWlKgD5Lz2x8+JCWWUGtvy9nvDA+k2BDuC/Ro7A7timwBtzGp2Bw0b9TIXIG+Srbe75JY1Al2IWiF2yNe8dVHhaK1gbZyhj6u3b4MjC9x/zcPPSPn0ZdQoMcQ4RZ3z09jRucmz5eYdyQBEiAB3yDA8dd69UiBbr06cWuJjHZCCnQK9JQEevGcGfDjU+fxx5970HJ/FYmOntY3BPpoCQM3vQZw6U/g+TnAoy/qEui5cA2/pX0dkRJPfXCZtehet6y5Av0X+RiyfpiUp6WUS8KuxbWNEhbuZ4mPXv5VoInES09oM+R5LsrzKKv3voRh60mBToHu1vknpcyNzk2pVnDemARIgAS8nADHX+tVIAW69erErSUy2gkp0CnQUxTouTLixz61sWjbXxi8Qs6Zi/nECroS6OuGiEM1cYKXlBhO0CzsK+gNxHHeTHGcdziqAOY++hneeLKEuQJ939fAl+2T9jC/sgewexFQR87315Fz/glt/3JgmVwbmhl4Y6c4kctJgU6B7tb5hwI91fDyxiRAAiSQLAGj2oBozSdAgW4+U105XrsmDrTefBOrVtm2njZu3Bgff/wxsmbNmuz1X3/9NWbOnImdO3fiypUr2L17N8qVEydQTpjRTkiBToHutwLdfqY7fQ7gLdnmHufcfMJWYRfoQ4IXoH3wD1gYUQ/7yg02X6D/fRiYWtnmCX/AWSlT0P2iLGwKnJCQbk2mySp6nPPmcQurrk8jYdqyFNB+yzPoNjjc4u7EpGJSUqNzk0nFYDYkQAIk4HcEOP5ar8op0FOpTho2bIizZ89i1izbttQuXbqgSJEiWL16dbIlWrRoEU6ePIl8+fKhc+fOFOgm1d3eM9dlB/BmLbdFHSujZomcLufsz17cFbTivryCHnnPFr897GbiuOIJWoxdoH+bZgBKB/6F18PfRIYKL5gv0KMk9NvoQuKR7zbQfSuQu/T9knz8mDjik/BqbeQj4INyDl2HUaBToOtoJm5JwhdEt2BlpiRAAiTgkADHX4eIPJ6AAt3jyIGDBw+idOnS2LZtG6pUqaKVQP27atWqOHToEB56SDmjSt5OnTqFokWLUqCbVHcU6K6BTBgH3ecFunpAe/z2Gr2BukMlnpyIdbWNPDpKVqlbA+lsO2CUQK85aDG2pRUnbmKV7k7DE4+VNV+gq8zniYO3v+QDU9yV8miJjT5CPLNH/Cce3HeLJ3f5sKDDKNBtkLiCrqOxmJyEL4gmA2V2JEACJKCTAMdfnaA8mIwC3YOw7bf65JNP0KdPH1y/fj3e3dX29okTJ6J9ezkXmoI5I9DDwsKgfuymOmHBggVx48YNZM4sZ0+dNG5xTxkYV9B9+Ay6qvr9K+Tcdlvx4i67LLpskC0XzwP/yDZxZVlkJfuVL4BcpTSBPuW9Tugd8hW2Rz2MluHvocVjBdwj0H8YBGydAjzWAXh2oq0st/8WL+3Fbf9+Vzy2B0ssdB1GgW6DRIGuo7GYnIQviCYDZXYkQAIkoJMAx1+doDyYjALdg7Dttxo5ciTmz5+PI0eOxLt7yZIlNXE+YIA4dUrBnBHoQ4cOxbBh4uU5gVGg3wfCFXTXOoFfrqCrbe6THgFuXbgPLWMeICgEuHFGVtCzi0OJjxERFIqwT19BhoAwvBHeA6ujqrlPoNtjmucQQa6cvSk7JSvq82VlPat8NOgV46ldRzVToFOg62gmbknCF0S3YGWmJEACJOCQAMdfh4g8noAC3UTkyYnhuLfYsWMH1q5diwULFuDw4ZiVt5gEJUqUQMeOHdG/fxIel+Nk4oxA5wq64wqmQHfMKKkUfinQFQgVd1zFH1eWrQjQWryhp5Wt7YubA+d3xUO1JbI0Xrk3ENEIdJ9Av3sDGFNUttnLeXQlxpUo3zEXWNMHKFFfVvWX6a5gCnQKdN2NxeSEfEE0GSizIwESIAGdBDj+6gTlwWQU6CbC/ueff6B+UjLlCO6zzz7z2Bb3hGUx2gm5xT3lBsMt7j6+xd1e/cd+FAdsx4FHJB56elk1VxYmjto2jAL+XCZa+R6+uPUohke8ilsQD+tibtvirjKf2wA4s022uEsYuMfkiMy3/YDfZgJVJdRaA4mFrtMo0CnQdTYV05MZnZtMLxAzJAESIAE/IcDx13oVTYGeCnVidxK3fft2VK4sIZLE1L8ff/xxOolLhfrgCrpr0P12BV0HLrsX97hJ3SrQf/kQWP8+UOxJ24r+wiYSYm2DbLeXs+kVxHmdTqNAp0DX2VRMT8YXRNORMkMSIAES0EWA468uTB5NRIHuUdz3b6bCrJ0/f16La65MhVkrXLhwvDBrDz/8MEaNGoVmzZppaa5evYrTp09r1zVq1AhLly7VPL7nyZNH+9FjRjshV9BTpswVdD9ZQXfQ2Twu0NVq/scVgACJg/6W+LaYXk0cxV0COq4DCto+AuoxCnQKdD3txB1pjM5N7igT8yQBEiABfyDA8dd6tUyBnkp1osT2m2++iVWrJEaxWOPGjTFlyhQoT+52CwgIwLx589CuXTvtV8qxXFIe3ocMGQJ1/l2PGe2EFOgU6HYCXEFPvi14XKCrosyUWOcX9siKeRvbOfmgNED/00BIOj1Dg5aGAp0CXXdjMTmh0bnJ5OIwOxIgARLwGwIcf61X1RTo1qsTt5bIaCekQKdAp0B33EVTRaDvXgysfP1+4YrUBNp947iwcVJQoFOgO9VgTExsdG4ysSjMigRIgAT8igDHX+tVNwW69erErSUy2gkp0CnQKdAdd9FUEegRYcBH5YGb52wFbDodKPey48JSoCdixDjoTjUbUxIbnZtMKQQzIQESIAE/JMDx13qVToFuvTpxa4mMdkIKdAp0CnTHXTRVBLoq1oW9wLr3gFxlgPofAIFyJt0J4wq6DRYFuhONxqSkRucmk4rBbEiABEjA7whw/LVelVOgW69O3Foio52QAp0CnQLdcRdNNYHuuGgppqBAp0A32IRcvtzo3OTyjXkhCZAACfg5AY6/1msAFOjWqxO3lshoJ6RAp0CnQHfcRSnQHTNKKcWZq3dQc+zPWpKxzR9Fi0oFY5NfvxOOcu+Ld/o4tntwPZT/IP7v1J8XdqiMNp/8pqVs9Ehe7PzrGi7evKv9/6nRjZItAlfQjdWfK1cbnZtcuSevIQESIAESkJNxN28iS5YsuHHjBjJnzkwkFiBAgW6BSvBkEYx2Qgr0lGuLYdYYZk21EAp0Y6MaBboxfmZcPW3aNIwbNw4XLlxAmTJlMGnSJNSsKY4Hk7GNGzeiT58+2L9/P/Lly4d+/fqhW7duuotidG7SfSMmJAESIAESiEeA46/1GgQFuvXqxK0lMtoJKdAp0O0EGGYt+bZAgW5sGKNAN8bP6NWff/45WrduDSXSq1evjpkzZ2LOnDk4cOAAChUqlCj7kydPomzZsujcuTO6du2KzZs347XXXsOSJUvQvHlzXcUxOjfpugkTkQAJkAAJJCLA8dd6jYIC3Xp14tYSGe2EFOgU6BTojrsoBbpjRimloEA3xs/o1VWqVEGFChUwfbpEAoixUqVKoWnTphg1alSi7N955x2sWrUKBw8ejP2bWj3fu3cvtm7dqqs4RucmXTdhIhIgARIgAQp0L2gDFOheUElmFlGdL8maNSvOnDnj0jmTL34/g/dXH9CKtK53LeTNmi7Z4h25dBPPT7O9nG0d8CQypQ2BckLVccHv2u/2DWtg5qO5nNefZ6/jpdnbtetntq6I6sUfcDmv9QcvoefSPbHXb37nSWRJH5JifmflvO3Tk3/R0kxo8T/UL5PH4f3LDvkhNo3i2HTqrzh2+d8Uufb+fDfWHbhsGvu4ZbAXpugD6bH6jZpYuuM0hn9je1kf1OhhjFhzSPt399rF8PqTxVN8Pnu+T5XKicmtKsSm3XD4Mnp8tlv7/9VvVEfRBzLGy8d+XZ7Mofixb50k7/HptlMY9d3heAw+XHcY8349lYhLQsYOKyVOAiXQyyc4J920XD50k+e317U9+YrXq6F4rkzJZj/qu4P4dNvp2L+XK5gViztVcaY4utP+fvIq2s3fkSxje0YzNhzHlJ+Paf87uVU5PFUqt+576EkYt08Ma1wazSvGP4NeY4ztfLrdNvV7ArVizqzH/f0M6c/dFu3UflW/dC7sOXMDl29JODqxlMaf7/ddwFvL/tDSrexRHcVyxm9rep4hqTRKhBYsWBDXr1/XzvtZ0cLDw5E+fXosW7YMzZo1iy1iz549sWfPHqit7AmtVq1aKF++PCZPnhz7p+XLl6NFixa4c+cOQkISj4FhYWFQP3ZTc5NanXd1brIiS5aJBEiABLyBgDfMTd7A0cwyUqCbSdML8jp79qz2gkgjARIgARJIHQJKhBYoUCB1bu7grufPn0f+/Pm1berVqlWLTT1y5EgsWLAAhw/bPnDFtZIlS6Jdu3YYOHBg7K+3bNmibY9X+eXNmzfRNUOHDsWwYcMsyYCFIgESIAF/JHD8+HE8+OCD/vjolntmCnTLVYl7CxQVFaW9MGXKlAkBAQHuvZmFc7d/LeRqjbFKIkdj/OJeTZbmsLQyx+joaNy6dUtzohYYGGjOA5uci12gK4FdtWrV2NxHjBiBRYsW4dAh226YhAK9ffv2GDBgQOyvlcCvUaOG5mQuT57Eu4ISrqCrXQWFCxfG6dOnLbu7wGTUurKzcnvW9QBuTEQ2ScMll+QbHdkkzca+g+natWvaLlta6hOgQE/9OmAJUoEAzzuaA50czeGociFLc1iSozGOntrinrCUrLfkxRbDH5GNM72afSllgc7+lJgP24wzPcwzaSnQPcOZd7EYAQ5G5lQIOZrDkQKdHM0jYDwn5SSuYsWKmhd3u5UuXRpNmjRJ1knc6tWrNS/vduvevbt2Zp1O4ozVB8dYii1nWxDbDNsM24yzBKyXngLdenXCEnmAACcwcyCTozkcKdDJ0TwCxnOyh1mbMWOGts191qxZmD17thbjXG1DV1vZz507h4ULF2o3s4dZUyHWVKg1JcqVF3eGWTNeFxxjKbacbUVsM2wzbDPOErBeegp069UJS+QBAur8owoXpF40Q0NDPXBH37wFOZpXr2RpDktyNIejWj0fO3asdoZcxTifOHEilLd2Zcoh3KlTp7Bhw4bYmynv7r1799ZEvDpjr0KvKZGu11hvSZMil+RbENmwzegdX+zp2GbYZpxtM6mVngI9tcjzviRAAiRAAiRAAiRAAiRAAiRAAiQQhwAFOpsDCZAACZAACZAACZAACZAACZAACViAAAW6BSqBRSABEiABEiABEiABEiABEiABEiABCnS2ARIgARIgARIgARIgARIgARIgARKwAAEKdAtUAotAAiRAAiRAAiRAAiRAAiRAAiRAAhTobAN+RUB5Hv7ggw/w008/4eLFi5q34VdffRWDBg1CmjRpYlmcPn0ar7/+upYuXbp0ePnllzF+/Ph4afwKXBIPO2LECKxZs0aLdazYXb9+PVEqctTXSpTH7HHjxmkes8uUKYNJkyahZs2a+i7201SbNm3SmO3cuVPjtnz5cjRt2jSWRnR0NIYNG6aFCLt27RpUbO+pU6dqfGmpQ8DZdq48w/fp0yfWM3y/fv2c8gyfOk/p/F2d4fL1119j+vTp2rirPFKr9jx06FA0aNDA+Rtb/ApnuMR9lM2bN6N27dpa9AHFyRfNWTaqrbz//vtYvHix9u5ToEAB7b2nQ4cOPoXHWS6ffvqpFq3i6NGjyJIlC55++mntXS9Hjhw+w8XRXJnUg/rL2GvlSqZAt3LtsGymE/j++++hYvy+9NJLKF68OPbt26fF7W3durU2KCuLjIxEuXLlkDNnTnz44Ye4cuUK2rZti+effx4ff/yx6WXy1gyHDBmCrFmz4uzZs5g7d24igU6O+mrWHnNavVhUr14dM2fOxJw5c3DgwAEUKlRIXyZ+mOq7776DehGvUKECmjdvnkigjxkzBuoj0vz581GyZEkMHz4c6kXl8OHDyJQpkx8SS91Hdrad22Orq/FZxVdXdf3aa685FVs9dZ9Y392d5dKrVy/tw/ITTzyhjb/z5s3T5q7t27ejfPny+m7qBamc5WJ/pBs3bmhjgprfL1265JMC3RU2TZo00XiocVCxuXz5MiIiIlCtWjUvaA36iugsl19//VX7kKNCSD733HM4d+6c9gGwRIkS2nziK+Zorkz4nP4y9lq9finQrV5DLJ/bCahVOLUiceLECe1eajB79tlncebMGe1FSNnSpUu12L9qUsucObPby+RNN1ACSL00JlxBJ0d9tahWdtULpWqDditVqpS2Gjxq1Ch9mfh5qoCAgHgCXa2eq76r2qWKx61MrSDlzp0bSrgrwUfzLAFn27mqt1WrVuHgwYOxBVUvz3v37sXWrVs9W3g33s1ZLkkVRa2it2zZEu+9954bS+rZrF3l0qpVK01gBQUFYcWKFT4p0J1loxYmFBf1jpM9e3bPVqQH7+YsF/VhS827x48fjy2lWoRRK+rq/c8XLeFcmdQz+svYa/X6pUC3eg2xfG4n8O6770JNYL///rt2L/WSs3LlSu1F0G5qi6ya2NSWd7VyQbtPIDmBTo6OW0l4eDjSp0+PZcuWoVmzZrEX9OzZU3uxVNvMaI4JJHzpUC+ixYoVw65du+KtKqpVJLXquGDBAseZMoVpBFxp57Vq1dLqbvLkybHlUKtaLVq0wJ07dxASEmJa+VIrI1e4JCxrVFQUihQpArX9v0ePHqn1KKbe11UuajeB2omkPuColWJfFOiusFE7T44cOYLHHnsMixYtQoYMGdC4cWPtuJ86wucL5gqXLVu2aO9zalxp2LChtgCjxhf1gXzGjBm+gCXRM+gR6P4w9npD5VKge0MtsYxuI6C+nKrVS7WVvVOnTtp9unTpAnVWfe3atfHuGxoaqm2XVdvjaY4FOjk6biXnz59H/vz5te27cbcajhw5UhORajs2zTGBhC8d6sVLHRdQWxbtu2Dsffuvv/7CDz/84DhTpjCNgCvtXB1LULuWBg4cGFsOe72q/PLmzWta+VIrI1e4JCyr2gE2evRobadBrly5UutRTL2vK1zUGeIaNWrgl19+0Y60qHP5vijQXWGjzlVv2LABdevW1RYg/vnnH+24yJNPPolPPvnE1LpLrcxc4aLK+uWXX6J9+/a4e/eutuVffbhQv/OFD4BJ1YUege4PY29qtVNn7kuB7gwtprUsATUZK4dQKdmOHTu0L8h2UwO6On+kftSZX7spYZnUS7xyhLZw4UJtq5ivmisck1tB92eOetuH/aVCCY+qVavGXqbOTquVjkOHDunNyq/TJSfQEwo5dZ5ZbV1UO2ZoniPgSjtXL4nqxXnAgAGxBVUfspQIU04B8+TJ47kHcNOdXOEStyhLlizRPiyrHV9KfPmKOctF+Tt5/PHH0bFjx1gngr4u0J2ZM+rXr699uFDO4ZQjNGXK2eALL7yAf//91ydW0Z1tM4qB8vOi+k3v3r01J4tqXHn77bdRqVIlza+OL5pege7rY6831C0FujfUEsvokID6Iqx+UjK1DTBt2rRaEjWYq61N6sySEpiBgYGxl/rz1mxnOSpo3OLusHkmm8CVbXmu3813r+QWd2vXrSvt3B+2WbrCxV7TyiGWeolWx2MaNWpk7QbgZOmc5aL8n2TLlk07d243tfVf+aJQv1O74dRqsS+Ys2zUMysnt+rj1rFjx2IRqB0XpUuX1ra+qzP73m6ucFHOgdXKuepDdlOO41QEFV/ZpZOwXvUIdH8Ye72hvVOge0MtsYymElDbXpU4r1ixohZyJO6krm5kd26mvJPbt1GqlyE1ydFJXOKqcOQkjhxTbr7qI5Fqi+rspN3Ui5M6L00ncfq6fnJO4tTKiDqbq0y9wKktwHQSp4+p2amcbefKUdHq1au1VS67de/eXfPN4GtO4pzt/2rlXIXHUv+NG1rQ7DpLzfycaS9KjMdtJ6rcajxVPmPUduWiRYtq5659xZxho55ZhZpUDjPV+0vGjBk1DGrXhYpMc/v2bZ9YQVfP5CwXFf0jODhYi+xjNzW2qONmCY9H+Urb0SPQ/WXstXqdUqBbvYZYPlMJ2Le1q/BVart6XHFu3zJpDw+mPD6r831Xr17VzkKqFyGGWbtfHSrGuWKjPC0rTmoLnTIVwkW9BJCjvqZrDw2jnNKobe7qZWr27Nla7OfChQvry8QPU6kXS/uKkHImNmHCBO3Dm3LmqPq3EuLqA4dyHKVWiNS5fnUOk2HWUqexOGrnaiu7eilW47Iye6gf5XFfHU1QL87Ki7sSperF2lfMWS7q+du0aaM5z1MCy27K2Zd9+7IvsHGWS8Jn9tUt7uo5nWWjxkrl+EwdA1BHAdVOOXU0Qh3vU3ONr5izXNTighpbPvroo9gt7upDhtpRqcIW+oo5miv9dey1ev1SoFu9hlg+UwmoAVltC0zK1HY4uynxqZyoqC/w6sXn5Zdf1mLNKkdxNBsB9dEiKW/YP//8M+rUqaOlIUd9rUWt9qjQLuoMXNmyZbW4rGqbGS15AkpsJxVRQe10Uf1c9Wf1MqriyqsoDGp1ZerUqRpfWuoQSKmdq/FEOedU9Wo3FcVA7YJQH6uUsz+1sqNEuq+ZM1zU2JpUdAd7u/clNs5wSfjcvizQ1bM6y0b5M3njjTe0re45cuTQvJUrT/e+4sXdXv/OclGLLurjuPogqCJ8qKMQ6uOuct7qK+ZorvTnsdfKdUyBbuXaYdlIgARIgARIgARIgARIgARIgAT8hgAFut9UNR+UBEiABEiABEiABEiABEiABEjAygQo0K1cOywbCZAACZAACZAACZAACZAACZCA3xCgQPebquaDkgAJkAAJkAAJkAAJkAAJkAAJWJkABbqVa4dlIwESIAESIAESIAESIAESIAES8BsCFOh+U9V8UBIgARIgARIgARIgARIgARIgASsToEC3cu2wbCRAAiRAAiRAAiRAAiRAAiRAAn5DgALdb6qaD0oCJEACJEACJEACJEACJEACJGBlAhToqVg7mzZtwrhx47Bz505cuHABy5cvR9OmTVMs0caNG9GnTx/s378f+fLlQ79+/dCtW7dUfAremgRIgARIwFcIcF7ylZrkc5AACZAACXgrAQr0VKy57777Dps3b0aFChXQvHlzhwL95MmTKFu2LDp37oyuXbtq17722mtYsmSJdj2NBEiABEiABIwQ4LxkhB6vJQESIAESIAHjBCjQjTM0JYeAgACHAv2dd97BqlWrcPDgwdh7qtXzvXv3YuvWraaUg5mQAAmQAAmQgCLAeYntgARIgARIgAQ8T4AC3fPMk7yjnhehWrVqoXz58pg8eXJsHmpbfIsWLXDnzh2EhIRY5GlYDBIgARIgAW8nwHnJ22uQ5ScBEiABEvBGAhToFqk1PS9CJUuWRLt27TBw4MDYUm/ZsgXVq1fH+fPnkTdv3kQHBTD9AAAgAElEQVRPExYWBvVjt6ioKFy9ehU5cuTQVkdoJEACJEACniEQHR2NW7duaf5DAgMDPXNTA3dx17ykisS5yUDF8FISIAESMJGAt81NJj66ZbOiQLdI1eh9EWrfvj0GDBgQW2p1Dr1GjRqak7k8efIkepqhQ4di2LBhFnlKFoMESIAESODMmTMoUKCA5UG4a15SD865yfLVzwKSAAn4GQFvmZv8oVoo0C1Sy3pehFzZ4p5wleLGjRsoVKgQVCfMnDmzRZ6exSABEiAB3ydw8+ZNFCxYENevX0eWLFks/8DumpfUg3Nusnz1s4AkQAJ+QsDb5iZ/qBYKdIvUsp4XIeUkbvXq1Thw4EBsqbt37449e/bodhKnOqF6MVRCnQLdIpXPYpAACfgFAW8bfz01L6nK9zY2ftFg+ZAkQAJ+QYDjr/WqmQI9Fevk9u3bOHbsmFYC5fxtwoQJeOKJJ5A9e3ZtlVttZT937hwWLlyopbGHWVMh1lSoNeW5XXlxdybMGjthKlY4b00CJODXBLxh/E2NeYkC3a+7BR+eBEgglQl4w9yUyog8fnsKdI8jv3/DDRs2aII8obVt2xbz58/XHMKdOnUKKp3dNm7ciN69e2P//v2aoyG1qq5Eul5jJ9RLiulIgARIwFwC3jD+psa8RIFubjtjbiRAAiTgDAFvmJuceR5fSEuB7gu16MQzsBM6AYtJSYAESMBEAhx/k4dJNiY2NGZFAiRAAk4Q4PjrBCwPJaVA9xBoq9yGndAqNcFykAAJ+BsBjr8U6P7W5vm8JEAC1ifAucl6dUSBbr06cWuJ2AndipeZkwAJkECyBDj+UqCze5AACZCA1QhwbrJajQAU6NarE7eWiJ3QrXiZOQmQAAlQoLvQBjg3uQCNl5AACZCACQQ4/poA0eQsKNBNBmr17NgJrV5DLB8JkICvEuD4yxV0X23bfC4SIAHvJcC5yXp1R4FuvTpxa4nYCd2Kl5mTAAmQAFfQXWgDnJtcgMZLSIAESMAEAhx/TYBochYU6CYDtXp27IRWryGWjwRIwFcJcPzlCrqvtm0+FwmQgPcS4NxkvbqjQLdenbi1ROyEbsXLzEmABEiAK+gutAHOTS5A4yUkQAIkYAIBjr8mQDQ5Cwp0k4FaPTt2QqvXEMtHAiTgqwQ4/nIF3VfbNp+LBEjAewlwbrJe3VGgW69O3FoidkK34mXmJEACJMAVdBfaAOcmF6DxEhIgARIwgQDHXxMgmpwFBbrJQK2eHTuh1WuI5SMBEvBVAhx/uYLuq22bz0UCJOC9BDg3Wa/uKNCtVyduLRE7oVvxMnMSIAES4Aq6C22Ac5ML0HgJCZAACZhAgOOvCRBNzoIC3WSgVs+OndDqNcTykQAJ+CoBjr9cQffVts3nIgES8F4CnJusV3cU6NarE7eWiJ3QrXiZOQmQAAlwBd2FNsC5yQVovIQESIAETCDA8dcEiCZnQYFuMlCrZ8dOaPUaYvlIgAR8lQDHX66g+2rb5nORAAl4LwHOTdarOwp069WJW0vETuhWvMycBEiABLiC7kIb4NzkAjReQgIkQAImEOD4awJEk7OgQDcZqNWzYye0eg2xfCRAAr5KgOMvV9B9tW3zuUiABLyXAOcm69UdBbr16sStJWIndCteZk4CJEACXEF3oQ1wbnIBGi8hARIgARMIcPw1AaLJWVCgmwzU6tmxE1q9hlg+EiABXyXA8Zcr6L7atvlcJEAC3kuAc5P16o4C3Xp14tYSsRO6FS8zJwESIAGuoLvQBjg3uQCNl5AACZCACQQ4/poA0eQsKNBNBmr17NgJrV5DLB8JkICvEuD4yxV0X23bfC4SIAHvJcC5yXp1R4FuvTpxa4nYCd2Kl5mTAAmQAFfQXWgDnJtcgMZLSIAESMAEAhx/TYBochYU6CYDtXp27IRWryGWjwRIwFcJcPzlCrqvtm0+FwmQgPcS4NxkvbqjQLdenbi1ROyEbsXLzEmABEiAK+gutAHOTS5A4yUkQAIkYAIBjr8mQDQ5Cwp0k4E6m920adMwbtw4XLhwAWXKlMGkSZNQs2bNZLP59NNPMXbsWBw9ehRZsmTB008/jfHjxyNHjhy6bs1OqAsTE5EACZCA6QS8afzl3GR69TNDEiABErAkAW+amywJ0A2FokB3A1S9WX7++edo3bo11ItQ9erVMXPmTMyZMwcHDhxAoUKFEmXz66+/onbt2pg4cSKee+45nDt3Dt26dUOJEiWwfPlyXbdlJ9SFiYlIgARIwHQC3jL+cm4yveqZIQmQAAlYloC3zE2WBeiGglGguwGq3iyrVKmCChUqYPr06bGXlCpVCk2bNsWoUaMSZaNWylXa48ePx/7t448/1lbUz5w5o+u27IS6MDERCZAACZhOwFvGX85Nplc9MyQBEiAByxLwlrnJsgDdUDAKdDdA1ZNleHg40qdPj2XLlqFZs2axl/Ts2RN79uzBxo0bE2WzZcsWPPHEE9pqecOGDXH58mW0aNECStTPmDEjyduGhYVB/dhNdcKCBQvixo0byJw5s56iMg0JkAAJkIAJBLzhJYhzkwkVzSxIgARIwIsIeMPc5EU4TSkqBbopGJ3P5Pz588ifPz82b96MatWqxWYwcuRILFiwAIcPH04y0y+//BLt27fH3bt3ERERgcaNG0P9LiQkJMn0Q4cOxbBhwxL9jQLd+TrjFSRAAiRghIA3vARxbjJSw7yWBEiABLyPgDfMTd5H1ViJKdCN8XP5avtLkFoVr1q1amw+I0aMwKJFi3Do0KFEeauz6XXr1kXv3r3RoEEDzbHc22+/jUqVKmHu3LlJloUr6C5XES8kARIgAVMJeMNLEOcmU6ucmZEACZCA5Ql4w9xkeYgmF5AC3WSgerNzZRuhciinVs7Vtni7Kcdxyuu7eqnKmzevw9uzEzpExAQkQAIk4BYC3jD+cm5yS9UzUxIgARKwLAFvmJssC89NBaNAdxNYPdkqRzwVK1bUvLjbrXTp0mjSpEmSTuKaN2+O4OBgKA+7dtu6dau2RV55dM+XL5/D27ITOkTEBCRAAiTgFgLeMv5ybnJL9TNTEiABErAkAW+ZmywJz02FokB3E1g92dpD2SgHb2qb+6xZszB79mzs378fhQsXxoABAzThvXDhQi27+fPno3Pnzvjoo49it7j36tULgYGB2L59u55bgp1QFyYmIgESIAHTCXjL+Mu5yfSqZ4YkQAIkYFkC3jI3WRagGwpGge4GqM5kqVbPVZg0dZ68bNmyWozzWrVqaVm0a9cOp06dwoYNG2KzVGHVlKA/efIksmbNiieffBJjxozRHM7pMXZCPZSYhgRIgATMJ+BN4y/nJvPrnzmSAAmQgBUJeNPcZEV+7igTBbo7qFo4T3ZCC1cOi0YCJODTBDj+Jl+9ZOPTTZ8PRwIkYGECHH+tVzkU6NarE7eWiJ3QrXiZOQmQAAkkS4DjLwU6uwcJkAAJWI0A5yar1QhAgW69OnFridgJ3YqXmZMACZAABboLbYBzkwvQeAkJkAAJmECA468JEE3OggLdZKBWz46d0Oo1xPKRAAn4KgGOv1xB99W2zeciARLwXgKcm6xXdxTo1qsTt5aIndCteJk5CZAACXAF3YU2wLnJBWi8hARIgARMIMDx1wSIJmdBgW4yUKtnx05o9Rpi+UiABHyVAMdfrqD7atvmc5EACXgvAc5N1qs7CnTr1YlbS8RO6Fa8zJwESIAEuILuQhvg3OQCNF5CAiRAAiYQ4PhrAkSTs6BANxmo1bNjJ7R6DbF8JEACvkqA4y9X0H21bfO5SIAEvJcA5ybr1R0FuvXqxK0lYid0K15mTgIkQAJcQXehDXBucgEaLyEBEiABEwhw/DUBoslZUKCbDNTq2bETWr2GWD4SIAFfJcDxlyvovtq2+VwkQALeS4Bzk/XqjgLdenXi1hKxE7oVLzMnARIgAa6gu9AGODe5AI2XkAAJkIAJBDj+mgDR5Cwo0E0GavXs2AmtXkMsHwmQgK8S4PjLFXRfbdt8LhIgAe8lwLnJenVHgW69OnFridgJ3YqXmZMACZAAV9BdaAOcm1yAxktIgARIwAQCHH9NgGhyFhToJgO1enbshFavIZaPBEjAVwlw/OUKuq+2bT4XCZCA9xLg3GS9uqNAt16duLVE7IRuxcvMSYAESIAr6C60Ac5NLkDjJSRAAiRgAgGOvyZANDkLCnSTgVo9O3ZCq9cQy0cCJOCrBDj+cgXdV9s2n4sESMB7CXBusl7dUaBbr07cWiJ2QrfiZeYkQAIkwBV0F9oA5yYXoPESEiABEjCBAMdfEyCanAUFuslArZ4dO6HVa4jlIwES8FUCHH+5gu6rbZvPRQIk4L0EODdZr+4o0K1XJ24tETuhW/EycxIgARLgCroLbYBzkwvQeAkJkAAJmECA468JEE3OggLdZKBWz46d0Oo1xPKRAAn4KgGOv1xB99W2zeciARLwXgKcm6xXdxTo1qsTt5aIndCteJk5CZAACXAF3YU2wLnJBWi8hARIgARMIMDx1wSIJmdBgW4yUKtnx05o9Rpi+UiABHyVAMdfrqD7atvmc5EACXgvAc5N1qs7CnTr1YlbS8RO6Fa8zJwESIAEuILuQhvg3OQCNF5CAiRAAiYQ4PhrAkSTs6BANxmos9lNmzYN48aNw4ULF1CmTBlMmjQJNWvWTDabsLAwvP/++1i8eDEuXryIAgUKYNCgQejQoYOuW7MT6sLERCRAAv9n7+5iq6jWx48/vpBfKKYgJEZAip4ACdAbiqZAoQghijFCAYPcIEUxItEUTMRUE9IqL0qNgCa8K9BqCIGA6IXGC9OKLfHCBC9aQFCbQ9oKMefQc9AIQfhnTbL330NbOzNdq/tZM9+dkJMjM89e83nWy35Ys2cjYF3Ap/mXtcl6+gmIAAIIqBTwaW1SCeigURToDlDDhjx06JAsXbpUzAehkpIS2bVrl+zdu1daWlqkoKCg2zDz58+Xixcvyvr162XMmDFy6dIluX79ukybNi3U2zIIQzFxEAIIIGBdwJf5l7XJeuoJiAACCKgV8GVtUgvooGEU6A5Qw4YsLi6WoqIi2bFjR/aU8ePHS1lZmWzatKlLmC+++EKWLFkiP/30kwwdOjTs2/zPcQzCWGychAACCPRZwJf5l7Wpz6kmAAIIIOCNgC9rkzegFhpKgW4BMU6Ia9euSV5enhw+fFgWLFiQDVFRUSGnTp2ShoaGLmFXrVolP/zwgzz44INSV1cngwYNknnz5smbb74pAwcODNUMBmEoJg5CAAEErAv4MP+yNllPOwERQAAB1QI+rE2qAR00jgLdAWqYkO3t7TJy5EhpbGz8n9vTN27cKAcOHJCzZ892CTN37lypr6+XOXPmyLp16+TXX38VU7TPnj1bPvzww27f1nxn3fzJvMwgHDVqlHR2dkp+fn6YpnIMAggggIAFAR8+BLE2WUg0IRBAAAGPBHxYmzzitNJUCnQrjNGDZD4ENTU1ydSpU7MBNmzYEOyOnzlzpkvQRx55RE6cOBE8HG7w4MHB3x89elSefPJJ+e2337rdRa+qqpLq6uousSjQo+eMMxBAAIG+CPjwIYi1qS8Z5lwEEEDAPwEf1ib/VPvWYgr0vvnFPjvObYTLli0LdtzPnz+ffd/Tp0/LhAkTglvfx44d26U97KDHThEnIoAAAlYFfPgQxNpkNeUEQwABBNQL+LA2qUe03EAKdMugUcKZB/FMnjw5eIp75mWKbfOk9u4eErd7925ZvXp18OT2u+66Kzjl+PHjsnDhQrly5Uqo76EzCKNkiGMRQAABewK+zL+sTfZyTiQEEEBAu4Ava5N2R5vto0C3qRkxVuanbHbu3Bnc5m4K8D179khzc7OMHj1aKisrpa2tTWpra4PIpgg3T3mfMmVKcNu6+Q76ihUrZObMmcF5YV4MwjBKHIMAAgjYF/Bl/mVtsp97IiKAAAJaBXxZm7T6uWgXBboL1Qgxze755s2bpaOjQwoLC2XLli1SWloaRCgvL5fW1tbgwXCZl/lu+ksvvRTc6j5s2DBZvHhx8JvoPMU9AjqHIoAAAjkQ8OlDEGtTDjoIb4kAAgjkQMCntSkHPDl5Swr0nLDn7k0ZhLmz550RQCDdAsy/Pecfm3SPDa4eAQRyJ8D8mzv7nt6ZAl1fTpy2iEHolJfgCCCAQI8CzL8U6AwPBBBAQJsAa5O2jIhQoOvLidMWMQid8hIcAQQQoECP0QdYm2KgcQoCCCBgQYD51wKi5RAU6JZBtYdjEGrPEO1DAIGkCjD/soOe1L7NdSGAgL8CrE36ckeBri8nTlvEIHTKS3AEEECAHfQYfYC1KQYapyCAAAIWBJh/LSBaDkGBbhlUezgGofYM0T4EEEiqAPMvO+hJ7dtcFwII+CvA2qQvdxTo+nLitEUMQqe8BEcAAQTYQY/RB1ibYqBxCgIIIGBBgPnXAqLlEBTolkG1h2MQas8Q7UMAgaQKMP+yg57Uvs11IYCAvwKsTfpyR4GuLydOW8QgdMpLcAQQQIAd9Bh9gLUpBhqnIIAAAhYEmH8tIFoOQYFuGVR7OAah9gzRPgQQSKoA8y876Ent21wXAgj4K8DapC93FOj6cuK0RQxCp7wERwABBNhBj9EHWJtioHEKAgggYEGA+dcCouUQFOiWQbWHYxBqzxDtQwCBpAow/7KDntS+zXUhgIC/AqxN+nJHga4vJ05bxCB0yktwBBBAgB30GH2AtSkGGqcggAACFgSYfy0gWg5BgW4ZVHs4BqH2DNE+BBBIqgDzLzvoSe3bXBcCCPgrwNqkL3cU6Ppy4rRFDEKnvARHAAEE2EGP0QdYm2KgcQoCCCBgQYD51wKi5RAU6JZBtYdjEGrPEO1DAIGkCjD/soOe1L7NdSGAgL8CrE36ckeBri8nTlvEIHTKS3AEEECAHfQYfYC1KQYapyCAAAIWBJh/LSBaDkGBbhlUezgGofYM0T4EEEiqAPMvO+hJ7dtcFwII+CvA2qQvdxTo+nLitEUMQqe8BEcAAQTYQY/RB1ibYqBxCgIIIGBBgPnXAqLlEBTolkG1h2MQas8Q7UMAgaQKMP+yg57Uvs11IYCAvwKsTfpyR4GuLydOW8QgdMpLcAQQQIAd9Bh9gLUpBhqnIIAAAhYEmH8tIFoOQYFuGVR7OAah9gzRPgQQSKoA8y876Ent21wXAgj4K8DapC93FOj6cuK0RQxCp7wERwABBNhBj9EHWJtioHEKAgggYEGA+dcCouUQFOiWQbWHYxBqzxDtQwCBpAow/7KDntS+zXUhgIC/AqxN+nJHgZ7jnGzfvl1qamqko6NDJk6cKFu3bpUZM2b02qrGxkaZOXOmFBYWyqlTp3o9PnMAgzA0FQcigAACVgV8mn9Zm6ymnmAIIICAWgGf1ia1iJYbRoFuGTRKuEOHDsnSpUvFfBAqKSmRXbt2yd69e6WlpUUKCgp6DNXZ2SlFRUUyZswYuXjxIgV6FHSORQABBHIk4MuHINamHHUQ3hYBBBDIgYAva1MOaHL2lhToOaMXKS4uDgrtHTt2ZFsxfvx4KSsrk02bNvXYsiVLlsjYsWPljjvukE8++YQCPYc55K0RQACBsAK+fAhibQqbUY5DAAEE/BfwZW3yXzr8FVCgh7eyeuS1a9ckLy9PDh8+LAsWLMjGrqioCAruhoaGbt9v3759wY77yZMnZf369b0W6FevXhXzJ/Myg3DUqFFiduHz8/OtXhPBEEAAAQR6FvDhQxBrEz0YAQQQSJeAD2tTujIiQoGeo4y3t7fLyJEjxXyXfNq0adlWbNy4UQ4cOCBnz57t0rJz587J9OnT5cSJEzJu3DipqqrqtUA3x1RXV3eJRYGeo8TztgggkFoBHz4EsTaltnty4QggkFIBH9amtKWGAj1HGc98CGpqapKpU6dmW7Fhwwapq6uTM2fO/E/L/vzzT5kyZYo8++yzsnLlyuDvwhTo7KDnKMG8LQIIIHCLgA8fglib6LYIIIBAugR8WJvSlRF20HOW76i3EV6+fFnuvvvu4HvnmdeNGzfk5s2bwX/78ssvZfbs2b1eD4OwVyIOQAABBJwI+DD/sjY5ST1BEUAAAbUCPqxNavEcNYwddEewYcKaB/FMnjw5+E555jVhwgSZP39+l4fEmWLcPN39ry9z3ldffSVHjhyRBx54QAYNGtTr2zIIeyXiAAQQQMCJgC/zL2uTk/QTFAEEEFAp4MvapBLPUaMo0B3Bhgmb+SmbnTt3Bre57969W/bs2SPNzc0yevRoqayslLa2Nqmtre02XJhb3G89kUEYJjMcgwACCNgX8GX+ZW2yn3siIoAAAloFfFmbtPq5aBcFugvVCDHNLvjmzZulo6NDCgsLZcuWLVJaWhpEKC8vl9bWVqmvr6dAj2DKoQgggIBGAZ8+BLE2aexBtAkBBBCwL+DT2mT/6nVGpEDXmRdnrWIQOqMlMAIIIPC3Asy/PfNgw+BBAAEEciPA/Jsb9797Vwp0fTlx2iIGoVNegiOAAAI9CjD/UqAzPBBAAAFtAqxN2jLCU9z1ZcRxixiEjoEJjwACCPQgwPxLgc7gQAABBLQJsDZpywgFur6MOG4Rg9AxMOERQAABCvTIfYC1KTIZJyCAAAJWBJh/rTBaDcIt7lY59QdjEOrPES1EAIFkCjD/soOezJ7NVSGAgM8CrE36skeBri8nTlvEIHTKS3AEEECgRwHmXwp0hgcCCCCgTYC1SVtGuMVdX0Yct4hB6BiY8AgggEAPAsy/FOgMDgQQQECbAGuTtoxQoOvLiOMWMQgdAxMeAQQQoECP3AdYmyKTcQICCCBgRYD51wqj1SDc4m6VU38wBqH+HNFCBBBIpgDzLzvoyezZXBUCCPgswNqkL3sU6Ppy4rRFDEKnvARHAAEEehRg/qVAZ3gggAAC2gRYm7RlhFvc9WXEcYsYhI6BCY8AAgj0IMD8S4HO4EAAAQS0CbA2acsIBbq+jDhuEYPQMTDhEUAAAQr0yH2AtSkyGScggAACVgSYf60wWg3CLe5WOfUHYxDqzxEtRACBZAow/7KDnsyezVUhgIDPAqxN+rJHga4vJ05bxCB0yktwBBBAoEcB5l8KdIYHAgggoE2AtUlbRrjFXV9GHLeIQegYmPAIIIBADwLMvxToDA4EEEBAmwBrk7aMUKDry4jjFjEIHQMTHgEEEKBAj9wHWJsik3ECAgggYEWA+dcKo9Ug3OJulVN/MAah/hzRQgQQSKYA8y876Mns2VwVAgj4LMDapC97FOj6cuK0RQxCp7wERwABBHoUYP6lQGd4IIAAAtoEWJu0ZYRb3PVlxHGLGISOgQmPAAII9CDA/EuBzuBAAAEEtAmwNmnLCAW6vow4bhGD0DEw4RFAAAEK9Mh9gLUpMhknIIAAAlYEmH+tMFoNwi3uVjn1B2MQ6s8RLUQAgWQKMP+yg57Mns1VIYCAzwKsTfqyR4GuLydOW8QgdMpLcAQQQKBHAeZfCnSGBwIIIKBNgLVJW0a4xV1fRhy3iEHoGJjwCCCAQA8CzL8U6AwOBBBAQJsAa5O2jFCg5zwj27dvl5qaGuno6JCJEyfK1q1bZcaMGd226+jRo7Jjxw45deqUXL16NTi+qqpKHn300dDXwSAMTcWBCCCAgFUBn+Zf1iarqScYAgggoFbAp7VJLaLlhnGLu2XQKOEOHTokS5cuFfNBqKSkRHbt2iV79+6VlpYWKSgo6BJq9erVMmLECJk1a5YMGTJE9u3bJ++88458++23MmnSpFBvzSAMxcRBCCCAgHUBX+Zf1ibrqScgAgggoFbAl7VJLaCDhlGgO0ANG7K4uFiKioqCXfHMa/z48VJWViabNm0KFcbsoj/11FOybt26UMczCEMxcRACCCBgXcCX+Ze1yXrqCYgAAgioFfBlbVIL6KBhFOgOUMOEvHbtmuTl5cnhw4dlwYIF2VMqKiqCW9gbGhp6DXPjxg25//77Ze3atfLiiy/2erw5gEEYiomDEEAAAesCPsy/rE3W005ABBBAQLWAD2uTakAHjaNAd4AaJmR7e7uMHDlSGhsbZdq0adlTNm7cKAcOHJCzZ8/2GsZ8d/2tt96S06dPyz333NPt8ea76uZP5mUG4ahRo6Szs1Py8/N7fQ8OQAABBBCwI+DDhyDWJju5JgoCCCDgi4APa5MvlrbaSYFuSzJinMyHoKamJpk6dWr27A0bNkhdXZ2cOXPmbyMePHhQVqxYIcePH5c5c+b0eKx5iFx1dXWXv6dAj5gwDkcAAQT6KODDhyDWpj4mmdMRQAABzwR8WJs8I+1zcynQ+0wYL0BfbiM0D/BZvnx5cHv8448//rcNYAc9Xn44CwEEELAt4MOHINYm21knHgIIIKBbwIe1Sbeg/dZRoNs3DR3RPIhn8uTJwVPcM68JEybI/Pnze3xInNk5f+aZZ8T8r3mYXNQXgzCqGMcjgAACdgR8mX9Zm+zkmygIIICADwK+rE0+WNpqIwW6LckYcTI/ZbNz587gNvfdu3fLnj17pLm5WUaPHi2VlZXS1tYmtbW1QXRTlD/99NOybds2WbhwYfYdBw4cKIMHDw7VAgZhKCYOQgABBKwL+DL/sjZZTz0BEUAAAbUCvqxNagEdNIwC3QFqlJBm93zz5s3S0dEhhYWFsmXLFiktLQ1ClJeXS2trq9TX1wf//+GHH+726e7Lli2T/fv3h3pbBmEoJg5CAAEErAv4NP+yNllPPwERQAABlQI+rU0qAR00igLdAarmkAxCzdmhbQggkGQB5t+es4tNkns+14YAApoFmH/1ZYcCXV9OnLaIQeiUl+AIIIBAjwLMvxToDA8EEEBAmwBrk7aMiFCg68uJ0xYxCJ3yEhwBBBCgQI/RB1ibYqBxCgIIIGBBgPnXAqLlEBTolkG1h2MQas8Q7UMAgaQKMP+yg57Uvs11IYCAvwKsTfpyR4GuLydOW8QgdMpLcGgAszIAACAASURBVAQQQIAd9Bh9gLUpBhqnIIAAAhYEmH8tIFoOQYFuGVR7OAah9gzRPgQQSKoA8y876Ent21wXAgj4K8DapC93FOj6cuK0RQxCp7wERwABBNhBj9EHWJtioHEKAgggYEGA+dcCouUQFOiWQbWHYxBqzxDtQwCBpAow/7KDntS+zXUhgIC/AqxN+nJHga4vJ05bxCB0yktwBBBAgB30GH2AtSkGGqcggAACFgSYfy0gWg5BgW4ZVHs4BqH2DNE+BBBIqgDzLzvoSe3bXBcCCPgrwNqkL3cU6Ppy4rRFDEKnvARHAAEE2EGP0QdYm2KgcQoCCCBgQYD51wKi5RAU6JZBtYdjEGrPEO1DAIGkCjD/soOe1L7NdSGAgL8CrE36ckeBri8nTlvEIHTKS3AEEECAHfQYfYC1KQYapyCAAAIWBJh/LSBaDkGBbhlUezgGofYM0T4EEEiqAPMvO+hJ7dtcFwII+CvA2qQvdxTo+nLitEUMQqe8BEcAAQTYQY/RB1ibYqBxCgIIIGBBgPnXAqLlEBTolkG1h2MQas8Q7UMAgaQKMP+yg57Uvs11IYCAvwKsTfpyR4GuLydOW8QgdMpLcAQQQIAd9Bh9gLUpBhqnIIAAAhYEmH8tIFoOQYFuGVR7OAah9gzRPgQQSKoA8y876Ent21wXAgj4K8DapC93FOj6cuK0RQxCp7wERwABBNhBj9EHWJtioHEKAgggYEGA+dcCouUQFOiWQbWHYxBqzxDtQwCBpAow/7KDntS+zXUhgIC/AqxN+nJHga4vJ05bxCB0yktwBBBAgB30GH2AtSkGGqcggAACFgSYfy0gWg5BgW4ZVHs4BqH2DNE+BBBIqgDzLzvoSe3bXBcCCPgrwNqkL3cU6Ppy4rRFDEKnvARHAAEE2EGP0QdYm2KgcQoCCCBgQYD51wKi5RAU6JZBtYdjEGrPEO1DAIGkCjD/soOe1L7NdSGAgL8CrE36ckeBnuOcbN++XWpqaqSjo0MmTpwoW7dulRkzZvTYqoaGBnn55ZelublZRowYIWvXrpWVK1eGvgoGYWgqDkQAAQSsCvg0/7I2WU09wRBAAAG1Aj6tTWoRLTeMAt0yaJRwhw4dkqVLl4r5IFRSUiK7du2SvXv3SktLixQUFHQJ9fPPP0thYaE899xz8vzzz0tjY6OsWrVKDh48KIsWLQr11gzCUEwchAACCFgX8GX+ZW2ynnoCIoAAAmoFfFmb1AI6aBgFugPUsCGLi4ulqKhIduzYkT1l/PjxUlZWJps2beoS5tVXX5VPP/1UTp8+nf07s3v+/fffy8mTJ0O9LYMwFBMHIYAAAtYFfJl/WZusp56ACCCAgFoBX9YmtYAOGkaB7gA1TMhr165JXl6eHD58WBYsWJA9paKiQk6dOiXmVvZbX6WlpTJp0iTZtm1b9q+OHTsmixcvlt9//10GDBjQ5ZyrV6+K+ZN5dXZ2BrvzFy5ckPz8/DBN5RgEEEAAAQsC5kPQqFGj5PLlyzJ48GALEe2HYG2yb0pEBBBAQLOAD2uTZj8XbaNAd6EaImZ7e7uMHDkyuE192rRp2TM2btwoBw4ckLNnz3aJMm7cOCkvL5fXXnst+3dNTU3B7fEm3vDhw7ucU1VVJdXV1SFaxCEIIIAAAv0h8OOPP8o//vGP/niryO/B2hSZjBMQQACBRAhoXpsSARzhIijQI2DZPDTzIcgU2FOnTs2G3rBhg9TV1cmZM2e6LdCXL18ulZWV2b8zBf706dODh8zde++9Xc65dQfd7NyMHj1a/vnPf6rdwbHpHDZW5l8PubOgqxg23fciXHoeXdh0b5O5g+nf//63DBkyJOz01K/HsTb1K3evb8ZYYp7ptZPccgB9hj4Ttc/4sDZFvSbfj6dAz1EG++s2wlsvj++Z9FxsmVtOzSTFrf//a0Sfoc9EnSbpM/72GdamqL3d7fGMpb8vtli3u/9HdVz8nYPdzii45MI3zntSoMdRs3SOeRDP5MmTg6e4Z14TJkyQ+fPn9/iQuM8++yx4ynvm9cILLwTfWechcX1LCh+C+BAUtQfRZ+gzSe0zrE1RM+vueOYZ5pmovYs+Q5+hz0QV0Hc8BXoOc5L5KZudO3cGt7nv3r1b9uzZE/zGubkN3dzK3tbWJrW1tUErMz+zZn5izfzUminKzVPc+Zm1vieRBY0FLWovos/QZ5LaZ1ibombW3fHMM8wzUXsXfYY+Q5+JKqDveAr0HOfE7J5v3rw5+A65+Y3zLVu2iHlau3mZB8K1trZKfX19tpXm6e5r1qwJivgRI0aI+ek1U6SHfZnvpJufcDPF///93/+FPS3xx+HSc4qx6d4GF/pM1InRpz7D2hQ1u26O96nPuBFgnonqSp+hz9BnogroO54CXV9OaBECCCCAAAIIIIAAAggggEAKBSjQU5h0LhkBBBBAAAEEEEAAAQQQQECfAAW6vpzQIgQQQAABBBBAAAEEEEAAgRQKUKCnMOlcMgIIIIAAAggggAACCCCAgD4BCnR9OaFFCCCAAAIIIIAAAggggAACKRSgQE9g0s3Td2tqaoInw0+cOFG2bt0qM2bM6PFKzZPhX3755eyT4deuXRvpyfC+EEZxOXr0qOzYsSP4jXnzRFTjWFVVJY8++qgvlxupnVFs/hq4sbFRZs6cGfwCgbFK2iuqi+krb7zxhnz00Ufyyy+/yH333Sevv/66PPPMM0mjkag2H3/8cfCLFefOnZPBgwfL3Llz5Z133pFhw4Ylxubrr78O5t7vvvsumH+PHTsmZWVlf3t9aZl/DULUPpMWmyguaVqborikaV2KM5bSsjZF7TOsS90vT2mZezV/+KBA15ydGG3L/H6tmaRKSkpk165dsnfvXmlpaZGCgoIuETO/rW5+V938vropuFatWhXpt9VjNLPfT4nqsnr16uBn7GbNmiVDhgyRffv2BcXEt99+K5MmTer39rt8w6g2mbZ0dnZKUVGRjBkzRi5evJi4Aj2Oy/z58wOL9evXBy6XLl2S69evy7Rp01ymsN9jR7X55ptvgn/IMT8j+cQTT0hbW1vwj4Bjx44NitikvD7//PNgDjXjYtGiRb0W6GmZf01+o/aZtNhEdUnL2hTVJS3rUpyxZM5Jw9oUtc+wLnW/8qZl7tX+uYMCXXuGIravuLg4+HBodn8zr/Hjxwe7OOb3z299md9R//TTT+X06dPZvzIfnL///ns5efJkxHfXe3hUl+6uxOyiP/XUU7Ju3Tq9FxqjZXFtlixZEhRYd9xxh3zyySeJK9CjunzxxRdiTH766ScZOnRojEz4c0pUG/OPW2ZO+vHHH7MX+f777wc76hcuXPDnwiO09Lbbbuu1QE/L/GvYovaZtNhEdUnL2hTXJenrUpyxlJa1KWqfYV3qfkFLy9wbYTnPyaEU6Dlhd/Om165dk7y8PDl8+LAsWLAg+yYVFRVB8WRuWbn1VVpaGuwIb9u2LftXZkdr8eLF8vvvv8uAAQPcNLYfo8ZxubV5N27ckPvvv1/M7f8vvvhiP7be7VvFtTF3FJi7NMw/4pjd4qQV6HFczJ0nP/zwgzz44INSV1cngwYNknnz5smbb74pAwcOdJvIfowex6apqSm4G8XMLY899lhwZ4GZY8w/Hu7cubMfW99/bxWmQE/D/GvE4/SZNNjEcUnD2hTXJenrUtyxlIa1KU6fYV3qfj1Mw9zbf58E4r8TBXp8O3Vntre3y8iRI4NbLP96S+3GjRvlwIEDcvbs2S5tHjdunJSXl8trr72W/TszaZnb40284cOHq7vOqA2K43Lre5jvlb711lvBnQb33HNP1CaoPT6OjfkO8fTp0+XEiRNi+o/5bn7SCvQ4LuY71fX19TJnzpzgLotff/01+LrI7Nmz5cMPP1TbB6I2LI6NeY8jR47I8uXL5Y8//ghu+zf/eGH+WxL+EbA7wzAFehrmX2MTp8+kwSaOSxrWpjguaViX4o6lNKxNcfoM61L3q38a5t6on3tycTwFei7UHb1nZoIyBfbUqVOz77Jhw4ZgR+/MmTPdFujmQ3NlZWX270yBbwow85Cje++911Fr+y9sHJe/tu7gwYOyYsUKOX78eFB8JekV1ebPP/+UKVOmyLPPPpt9kGCSC/QoY+mRRx4J/tHCPBzOPATNvMwDnZ588kn57bffErOLHrXPGAfzDAwzdtasWRM8aNHMLa+88oo89NBD8sEHHyRpSGWvJWyBnvT5969FRZTxZD4kJt0mzlhKw9oU1SUt61LcsZSGtSlqn2Fd6vnhpWmYe3340EGB7kOWQrYxzi0+abiVJY5Lhtw8dMR8SDRfG3j88cdDZsKfw6LaXL58We6+++7ge+eZl7n9/+bNm8F/+/LLL4MdY99fUV3M9S5btiy4e+X8+fPZyzd3XEyYMCG49d18Xz8Jrzg2S5cuDXbOzTjKvMwDesyvSyTlTp1bcxumQE/D/Gtc4vSZNNjEcUnD2hTVJS3rUtyxlIa1KWqfMZasS91/IknD3OvDZzEKdB+yFKGN5iEZkydPDr4fnHmZAsE8wbOnh8R99tlnwQ5X5vXCCy8E31lP2kPiorgYC7Nzbn4ey/xvbz+VFCFF6g6N0mdMMf7XvmIuxvS1r776Krhd+YEHHgi+e52EVxQXc727d+8W84Rl8/3qu+66KyAwd10sXLhQrly5kpgddHNdUW3ME83vvPPO4EnemZeZX8xXccwT3c0vJiTtFaZANw/jScP8G6fPpMUm6lhKy9oUxSVN61KcsZSWtSlKnzGOrEvdr7ppmXu1f+agQNeeoYjty/zMhHnwkrnN3UzMe/bsCX7jfPTo0cGt7OYDcW1tbRA583MK5ifWzE+tmQ/N5inupig1k1dSXlFdzPU//fTTwcPzTIGVeZmHfWVuX06rza3XncRb3M01Ru0zpgg3Dz0zXwGorq4OvoNuvhphfl7MjMEkvaLa7N+/P5hf3nvvvewt7uYfM26//fbgpwuT8jJ9IHMHhXn45rvvvhs8HM881d/8zGVa598444m1qfs1Oy1rU9Q5Ji3rUpyxlJa1KWqfYV1iXdL82YMCXXN2YrbN7Giany8y3/MsLCwMfnvY3LJiXuaBcK2trcHDrDIv83R3891QU8SbnSzzr2emSE/aK4rLww8/3O1T782tYmZST9orik2aPghFdTHPeXjppZeCW92HDRsWPKncPOU+SU9xz+Q/qo35WTXzD4em8BoyZEjwVYi33347eLBlUl5mXjUF+a2vzLyR5vnXmETtM6xNXdfsNK1NUfvLX8ddUv/hOO78m5a1KWqfYV3an+q6QPNnDwp0zdmhbQgggAACCCCAAAIIIIAAAqkRoEBPTaq5UAQQQAABBBBAAAEEEEAAAc0CFOias0PbEEAAAQQQQAABBBBAAAEEUiNAgZ6aVHOhCCCAAAIIIIAAAggggAACmgUo0DVnh7YhgAACCCCAAAIIIIAAAgikRoACPTWp5kIRQAABBBBAAAEEEEAAAQQ0C1Cga84ObUMAAQQQQAABBBBAAAEEEEiNAAV6alLNhSKAAAIIIIAAAggggAACCGgWoEDPYXa+/vprqampke+++046Ojrk2LFjUlZW9rctamhokJdfflmam5tlxIgRsnbtWlm5cmUOr4K3RgABBBBIigDrUlIyyXUggAACCPgqQIGew8x9/vnn0tjYKEVFRbJo0aJeC/Sff/5ZCgsL5bnnnpPnn38+OHfVqlVy8ODB4HxeCCCAAAII9EWAdakvepyLAAIIIIBA3wUo0PtuaCXCbbfd1muB/uqrr8qnn34qp0+fzr6n2T3//vvv5eTJk1baQRAEEEAAAQSMAOsS/QABBBBAAIH+F6BA73/zbt8xzAeh0tJSmTRpkmzbti0bw9wWv3jxYvn9999lwIABSq6GZiCAAAII+C7AuuR7Bmk/AggggICPAhToSrIW5oPQuHHjpLy8XF577bVsq5uamqSkpETa29tl+PDhXa7m6tWrYv5kXjdu3JB//etfMmzYsGB3hBcCCCCAQP8I3Lx5U/773/8Gzw+5/fbb++dN+/AurtYl0yTWpj4khlMRQAABiwK+rU0WL11tKAp0JakJ+0Fo+fLlUllZmW21+R769OnTg4fM3XvvvV2upqqqSqqrq5VcJc1AAAEEELhw4YLcd9996iFcrUvmwlmb1KefBiKAQMoEfFmb0pAWCnQlWQ7zQSjOLe637lJ0dnZKQUGBmEGYn5+v5OppBgIIIJB8gf/85z8yatQouXz5sgwePFj9Bbtal8yFszapTz8NRACBlAj4tjalIS0U6EqyHOaDkHlI3GeffSYtLS3ZVr/wwgty6tSp0A+JM4PQfDA0hToFupLk0wwEEEiFgG/zb3+tSyb5vtmkosNykQggkAoB5l99aaZAz2FOrly5IufPnw9aYB7+9u6778qsWbNk6NChwS63uZW9ra1Namtrg2MyP7NmfmLN/NSaeXK7eYp7lJ9ZYxDmMOG8NQIIpFrAh/k3F+sSBXqqhwUXjwACORbwYW3KMVG/vz0Fer+T//83rK+vDwryW1/Lli2T/fv3Bw+Ea21tFXNc5tXQ0CBr1qyR5ubm4EFDZlfdFOlhXwzCsFIchwACCNgV8GH+zcW6RIFut58RDQEEEIgi4MPaFOV6knAsBXoSshjhGhiEEbA4FAEEELAowPzbMyY2FjsaoRBAAIEIAsy/EbD66VAK9H6C1vI2DEItmaAdCCCQNgHmXwr0tPV5rhcBBPQLsDbpyxEFur6cOG0Rg9ApL8ERQACBHgWYfynQGR4IIICANgHWJm0ZEaFA15cTpy1iEDrlJTgCCCBAgR6jD7A2xUDjFAQQQMCCAPOvBUTLISjQLYNqD8cg1J4h2ocAAkkVYP5lBz2pfZvrQgABfwVYm/TljgJdX06ctohB6JSX4AgggAA76DH6AGtTDDROQQABBCwIMP9aQLQcggLdMqj2cAxC7RmifQggkFQB5l920JPat7kuBBDwV4C1SV/uKND15cRpixiETnkJjgACCLCDHqMPsDbFQOMUBBBAwIIA868FRMshKNAtg2oPxyDUniHahwACSRVg/mUHPal9m+tCAAF/BVib9OWOAl1fTpy2iEHolJfgCCCAADvoMfoAa1MMNE5BAAEELAgw/1pAtByCAt0yqPZwDELtGaJ9CCCQVAHmX3bQk9q3uS4EEPBXgLVJX+4o0PXlxGmLGIROeQmOAAIIsIMeow+wNsVA4xQEEEDAggDzrwVEyyEo0C2Dag/HINSeIdqHAAJJFWD+ZQc9qX2b60IAAX8FWJv05Y4CXV9OnLaIQeiUl+AIIIAAO+gx+gBrUww0TkEAAQQsCDD/WkC0HIIC3TKo9nAMQu0Zon0IIJBUAeZfdtCT2re5LgQQ8FeAtUlf7ijQ9eXEaYsYhE55CY4AAgiwgx6jD7A2xUDjFAQQQMCCAPOvBUTLISjQLYNqD8cg1J4h2ocAAkkVYP5lBz2pfZvrQgABfwVYm/TljgJdX06ctohB6JSX4AgggAA76DH6AGtTDDROQQABBCwIMP9aQLQcggLdMqj2cAxC7RmifQggkFQB5l920JPat7kuBBDwV4C1SV/uKND15cRpixiETnkJjgACCLCDHqMPsDbFQOMUBBBAwIIA868FRMshKNAtg2oPxyDUniHahwACSRVg/mUHPal9m+tCAAF/BVib9OWOAl1fTpy2iEHolJfgCCCAADvoMfoAa1MMNE5BAAEELAgw/1pAtByCAt0yqPZwDELtGaJ9CCCQVAHmX3bQk9q3uS4EEPBXgLVJX+4o0PXlxGmLGIROeQmOAAIIsIMeow+wNsVA4xQEEEDAggDzrwVEyyEo0C2DRg23fft2qampkY6ODpk4caJs3bpVZsyY0WOYjz/+WDZv3iznzp2TwYMHy9y5c+Wdd96RYcOGhXprBmEoJg5CAAEErAv4NP+yNllPPwERQAABlQI+rU0qAR00igLdAWrYkIcOHZKlS5eK+SBUUlIiu3btkr1790pLS4sUFBR0CfPNN9/IzJkzZcuWLfLEE09IW1ubrFy5UsaOHSvHjh0L9bYMwlBMHIQAAghYF/Bl/mVtsp56AiKAAAJqBXxZm9QCOmgYBboD1LAhi4uLpaioSHbs2JE9Zfz48VJWViabNm3qEsbslJtjf/zxx+zfvf/++8GO+oULF0K9LYMwFBMHIYAAAtYFfJl/WZusp56ACCCAgFoBX9YmtYAOGkaB7gA1TMhr165JXl6eHD58WBYsWJA9paKiQk6dOiUNDQ1dwjQ1NcmsWbOC3fLHHntMLl26JIsXLxZT1O/cubPbt7169aqYP5mXGYSjRo2Szs5Oyc/PD9NUjkEAAQQQsCDgw4cg1iYLiSYEAggg4JGAD2uTR5xWmkqBboUxepD29nYZOXKkNDY2yrRp07IBNm7cKAcOHJCzZ892G/TIkSOyfPly+eOPP+T69esyb948Mf9twIAB3R5fVVUl1dXVXf6OAj16zjgDAQQQ6IuADx+CWJv6kmHORQABBPwT8GFt8k+1by2mQO+bX+yzMx+CzK741KlTs3E2bNggdXV1cubMmS6xzXfT58yZI2vWrJFHH300eLDcK6+8Ig899JB88MEH3baFHfTYKeJEBBBAwKqADx+CWJusppxgCCCAgHoBH9Ym9YiWG0iBbhk0bLg4txGaB8qZnXNzW3zmZR4cZ576bj5UDR8+vNe3ZxD2SsQBCCCAgBMBH+Zf1iYnqScoAgggoFbAh7VJLZ6jhlGgO4INE9Y8iGfy5MnBU9wzrwkTJsj8+fO7fUjcokWL5M477xTzhN3M6+TJk8Et8uaJ7iNGjOj1bRmEvRJxAAIIIOBEwJf5l7XJSfoJigACCKgU8GVtUonnqFEU6I5gw4TN/JSNecCbuc199+7dsmfPHmlubpbRo0dLZWVlUHjX1tYG4fbv3y/PPfecvPfee9lb3FevXi233367fPvtt2HeUhiEoZg4CAEEELAu4Mv8y9pkPfUERAABBNQK+LI2qQV00DAKdAeoUUKa3XPzM2nm++SFhYXBb5yXlpYGIcrLy6W1tVXq6+uzIc3PqpmC/ueff5YhQ4bI7Nmz5e233w4eOBfmxSAMo8QxCCCAgH0Bn+Zf1ib7+SciAgggoFHAp7VJo5+LNlGgu1BVHJNBqDg5NA0BBBItwPzbc3qxSXTX5+IQQECxAPOvvuRQoOvLidMWMQid8hIcAQQQ6FGA+ZcCneGBAAIIaBNgbdKWEREKdH05cdoiBqFTXoIjgAACFOgx+gBrUww0TkEAAQQsCDD/WkC0HIIC3TKo9nAMQu0Zon0IIJBUAeZfdtCT2re5LgQQ8FeAtUlf7ijQ9eXEaYsYhE55CY4AAgiwgx6jD7A2xUDjFAQQQMCCAPOvBUTLISjQLYNqD8cg1J4h2ocAAkkVYP5lBz2pfZvrQgABfwVYm/TljgJdX06ctohB6JSX4AgggAA76DH6AGtTDDROQQABBCwIMP9aQLQcggLdMqj2cAxC7RmifQggkFQB5l920JPat7kuBBDwV4C1SV/uKND15cRpixiETnkJjgACCLCDHqMPsDbFQOMUBBBAwIIA868FRMshKNAtg2oPxyDUniHahwACSRVg/mUHPal9m+tCAAF/BVib9OWOAl1fTpy2iEHolJfgCCCAADvoMfoAa1MMNE5BAAEELAgw/1pAtByCAt0yqPZwDELtGaJ9CCCQVAHmX3bQk9q3uS4EEPBXgLVJX+4o0PXlxGmLGIROeQmOAAIIsIMeow+wNsVA4xQEEEDAggDzrwVEyyEo0C2Dag/HINSeIdqHAAJJFWD+ZQc9qX2b60IAAX8FWJv05Y4CXV9OnLaIQeiUl+AIIIAAO+gx+gBrUww0TkEAAQQsCDD/WkC0HIIC3TKo9nAMQu0Zon0IIJBUAeZfdtCT2re5LgQQ8FeAtUlf7ijQ9eXEaYsYhE55CY4AAgiwgx6jD7A2xUDjFAQQQMCCAPOvBUTLISjQLYNqD8cg1J4h2ocAAkkVYP5lBz2pfZvrQgABfwVYm/TljgJdX06ctohB6JSX4AgggAA76DH6AGtTDDROQQABBCwIMP9aQLQcggLdMqj2cAxC7RmifQggkFQB5l920JPat7kuBBDwV4C1SV/uKND15cRpixiETnkJjgACCLCDHqMPsDbFQOMUBBBAwIIA868FRMshKNAtg2oPxyDUniHahwACSRVg/mUHPal9m+tCAAF/BVib9OWOAl1fTpy2iEHolJfgCCCAADvoMfoAa1MMNE5BAAEELAgw/1pAtByCAt0yaNRw27dvl5qaGuno6JCJEyfK1q1bZcaMGT2GuXr1qrzxxhvy0UcfyS+//CL33XefvP766/LMM8+EemsGYSgmDkIAAQSsC/g0/7I2WU8/ARFAAAGVAj6tTSoBHTSKAt0BatiQhw4dkqVLl4r5IFRSUiK7du2SvXv3SktLixQUFHQbZv78+XLx4kVZv369jBkzRi5duiTXr1+XadOmhXpbBmEoJg5CAAEErAv4Mv+yNllPPQERQAABtQK+rE1qAR00jALdAWrYkMXFxVJUVCQ7duzInjJ+/HgpKyuTTZs2dQnzxRdfyJIlS+Snn36SoUOHhn2b/zmOQRiLjZMQQACBPgv4Mv+yNvU51QRAAAEEvBHwZW3yBtRCQynQLSDGCXHt2jXJy8uTw4cPy4IFC7IhKioq5NSpU9LQ0NAl7KpVq+SHH36QBx98UOrq6mTQoEEyb948efPNN2XgwIGhmsEgDMXEQQgggIB1AR/mX9Ym62knIAIIIKBawIe1STWgg8ZRoDtADROyvb1dRo4cKY2Njf9ze/rGjRvlwIEDcvbs2S5h5s6dK/X19TJnzhxZt26d/Prrr2KK9tmzZ8uHH37Y7dua76ybP5mXGYSjRo2Szs5Oyc/PD9NUjkEAAQQQsCDgw4cg1iYLiSYEAgggIKxCEwAAIABJREFU4JGAD2uTR5xWmkqBboUxepDMh6CmpiaZOnVqNsCGDRuC3fEzZ850CfrII4/IiRMngofDDR48OPj7o0ePypNPPim//fZbt7voVVVVUl1d3SUWBXr0nHEGAggg0BcBHz4EsTb1JcOciwACCPgn4MPa5J9q31pMgd43v9hnx7mNcNmyZcGO+/nz57Pve/r0aZkwYUJw6/vYsWO7tIcd9Ngp4kQEEEDAqoAPH4JYm6ymnGAIIICAegEf1ib1iJYbSIFuGTRKOPMgnsmTJwdPcc+8TLFtntTe3UPidu/eLatXrw6e3H7XXXcFpxw/flwWLlwoV65cCfU9dAZhlAxxLAIIIGBPwJf5l7XJXs6JhAACCGgX8GVt0u5os30U6DY1I8bK/JTNzp07g9vcTQG+Z88eaW5ultGjR0tlZaW0tbVJbW1tENkU4eYp71OmTAluWzffQV+xYoXMnDkzOC/Mi0EYRoljEEAAAfsCvsy/rE32c09EBBBAQKuAL2uTVj8X7aJAd6EaIabZPd+8ebN0dHRIYWGhbNmyRUpLS4MI5eXl0traGjwYLvMy301/6aWXglvdhw0bJosXLw5+E52nuEdA51AEEEAgBwI+fQhibcpBB+EtEUAAgRwI+LQ25YAnJ29JgZ4T9ty9KYMwd/a8MwIIpFuA+bfn/GOT7rHB1SOAQO4EmH9zZ9/TO1Og68uJ0xYxCJ3yEhwBBBDoUYD5lwKd4YEAAghoE2Bt0pYREQp0fTlx2iIGoVNegiOAAAIU6DH6AGtTDDROQQABBCwIMP9aQLQcggLdMqj2cAxC7RmifQggkFQB5l920JPat7kuBBDwV4C1SV/uKND15cRpixiETnkJjgACCLCDHqMPsDbFQOMUBBBAwIIA868FRMshKNAtg2oPxyDUniHahwACSRVg/mUHPal9m+tCAAF/BVib9OWOAl1fTpy2iEHolJfgCCCAADvoMfoAa1MMNE5BAAEELAgw/1pAtByCAt0yqPZwDELtGaJ9CCCQVAHmX3bQk9q3uS4EEPBXgLVJX+4o0PXlxGmLGIROeQmOAAIIsIMeow+wNsVA4xQEEEDAggDzrwVEyyEo0C2Dag/HINSeIdqHAAJJFWD+ZQc9qX2b60IAAX8FWJv05Y4CXV9OnLaIQeiUl+AIIIAAO+gx+gBrUww0TkEAAQQsCDD/WkC0HIIC3TKo9nAMQu0Zon0IIJBUAeZfdtCT2re5LgQQ8FeAtUlf7ijQ9eXEaYsYhE55CY4AAgiwgx6jD7A2xUDjFAQQQMCCAPOvBUTLISjQLYNqD8cg1J4h2ocAAkkVYP5lBz2pfZvrQgABfwVYm/TljgJdX06ctohB6JSX4AgggAA76DH6AGtTDDROQQABBCwIMP9aQLQcggLdMqj2cAxC7RmifQggkFQB5l920JPat7kuBBDwV4C1SV/uKND15cRpixiETnkJjgACCLCDHqMPsDbFQOMUBBBAwIIA868FRMshKNAtg2oPxyDUniHahwACSRVg/mUHPal9m+tCAAF/BVib9OWOAl1fTpy2iEHolJfgCCCAADvoMfoAa1MMNE5BAAEELAgw/1pAtByCAt0yqPZwDELtGaJ9CCCQVAHmX3bQk9q3uS4EEPBXgLVJX+4o0PXlxGmLGIROeQmOAAIIsIMeow+wNsVA4xQEEEDAggDzrwVEyyEo0C2Dag/HINSeIdqHAAJJFWD+ZQc9qX2b60IAAX8FWJv05Y4CXV9OnLaIQeiUl+AIIIAAO+gx+gBrUww0TkEAAQQsCDD/WkC0HIIC3TKo9nAMQu0Zon0IIJBUAeZfdtCT2re5LgQQ8FeAtUlf7ijQc5yT7du3S01NjXR0dMjEiRNl69atMmPGjF5b1djYKDNnzpTCwkI5depUr8dnDmAQhqbiQAQQQMCqgE/zL2uT1dQTDAEEEFAr4NPapBbRcsMo0C2DRgl36NAhWbp0qZgPQiUlJbJr1y7Zu3evtLS0SEFBQY+hOjs7paioSMaMGSMXL16kQI+CzrEIIIBAjgR8+RDE2pSjDsLbIoAAAjkQ8GVtygFNzt6SAj1n9CLFxcVBob1jx45sK8aPHy9lZWWyadOmHlu2ZMkSGTt2rNxxxx3yySefUKDnMIe8NQIIIBBWwJcPQaxNYTPKcQgggID/Ar6sTf5Lh78CCvTwVlaPvHbtmuTl5cnhw4dlwYIF2dgVFRVBwd3Q0NDt++3bty/YcT958qSsX7++1wL96tWrYv5kXmYQjho1SswufH5+vtVrIhgCCCCAQM8CPnwIYm2iByOAAALpEvBhbUpXRkQo0HOU8fb2dhk5cqSY75JPmzYt24qNGzfKgQMH5OzZs11adu7cOZk+fbqcOHFCxo0bJ1VVVb0W6OaY6urqLrEo0HOUeN4WAQRSK+DDhyDWptR2Ty4cAQRSKuDD2pS21FCg5yjjmQ9BTU1NMnXq1GwrNmzYIHV1dXLmzJn/admff/4pU6ZMkWeffVZWrlwZ/F2YAp0d9BwlmLdFAAEEbhHw4UMQaxPdFgEEEEiXgA9rU7oywg56zvId9TbCy5cvy9133x187zzzunHjhty8eTP4b19++aXMnj271+thEPZKxAEIIICAEwEf5l/WJiepJygCCCCgVsCHtUktnqOGsYPuCDZMWPMgnsmTJwffKc+8JkyYIPPnz+/ykDhTjJunu//1Zc776quv5MiRI/LAAw/IoEGDen1bBmGvRByAAAIIOBHwZf5lbXKSfoIigAACKgV8WZtU4jlqFAW6I9gwYTM/ZbNz587gNvfdu3fLnj17pLm5WUaPHi2VlZXS1tYmtbW13YYLc4v7rScyCMNkhmMQQAAB+wK+zL+sTfZzT0QEEEBAq4Ava5NWPxftokB3oRohptkF37x5s3R0dEhhYaFs2bJFSktLgwjl5eXS2toq9fX1FOgRTDkUAQQQ0Cjg04cg1iaNPYg2IYAAAvYFfFqb7F+9zogU6Drz4qxVDEJntARGAAEE/laA+bdnHmwYPAgggEBuBJh/c+P+d+9Kga4vJ05bxCB0yktwBBBAoEcB5l8KdIYHAgggoE2AtUlbRniKu76MOG4Rg9AxMOERQACBHgSYfynQGRwIIICANgHWJm0ZoUDXlxHHLWIQOgYmPAIIIECBHrkPsDZFJuMEBBBAwIoA868VRqtBuMXdKqf+YAxC/TmihQggkEwB5l920JPZs7kqBBDwWYC1SV/2KND15cRpixiETnkJjgACCPQowPxLgc7wQAABBLQJsDZpywi3uOvLiOMWMQgdAxMeAQQQ6EGA+ZcCncGBAAIIaBNgbdKWEQp0fRlx3CIGoWNgwiOAAAIU6JH7AGtTZDJOQAABBKwIMP9aYbQahFvcrXLqD8Yg1J8jWogAAskUYP5lBz2ZPZurQgABnwVYm/RljwJdX06ctohB6JSX4AgggECPAsy/FOgMDwQQQECbAGuTtoxwi7u+jDhuEYPQMTDhEUAAgR4EmH8p0BkcCCCAgDYB1iZtGaFA15cRxy1iEDoGJjwCCCBAgR65D7A2RSbjBAQQQMCKAPOvFUarQbjF3Sqn/mAMQv05ooUIIJBMAeZfdtCT2bO5KgQQ8FmAtUlf9ijQ9eXEaYsYhE55CY4AAgj0KMD8S4HO8EAAAQS0CbA2acsIt7jry4jjFjEIHQMTHgEEEOhBgPmXAp3BgQACCGgTYG3SlhEKdH0ZcdwiBqFjYMIjgAACFOiR+wBrU2QyTkAAAQSsCDD/WmG0GoRb3K1y6g/GINSfI1qIAALJFGD+ZQc9mT2bq0IAAZ8FWJv0ZY8CXV9OnLaIQeiUl+AIIIBAjwLMvxToDA8EEEBAmwBrk7aMcIu7vow4bhGD0DEw4RFAAIEeBJh/KdAZHAgggIA2AdYmbRmhQNeXEcctYhA6BiY8AgggQIEeuQ+wNkUm4wQEEEDAigDzrxVGq0G4xd0qp/5gDEL9OaKFCCCQTAHmX3bQk9mzuSoEEPBZgLVJX/Yo0PXlxGmLGIROeQmOAAII9CjA/EuBzvBAAAEEtAmwNmnLCLe468uI4xYxCB0DEx4BBBDoQYD5lwKdwYEAAghoE2Bt0pYRCvScZ2T79u1SU1MjHR0dMnHiRNm6davMmDGj23YdPXpUduzYIadOnZKrV68Gx1dVVcmjjz4a+joYhKGpOBABBBCwKuDT/MvaZDX1BEMAAQTUCvi0NqlFtNwwbnG3DBol3KFDh2Tp0qViPgiVlJTIrl27ZO/evdLS0iIFBQVdQq1evVpGjBghs2bNkiFDhsi+ffvknXfekW+//VYmTZoU6q0ZhKGYOAgBBBCwLuDL/MvaZD31BEQAAQTUCviyNqkFdNAwCnQHqGFDFhcXS1FRUbArnnmNHz9eysrKZNOmTaHCmF30p556StatWxfqeAZhKCYOQgABBKwL+DL/sjZZTz0BEUAAAbUCvqxNagEdNIwC3QFqmJDXrl2TvLw8OXz4sCxYsCB7SkVFRXALe0NDQ69hbty4Iffff7+sXbtWXnzxxV6PNwcwCEMxcRACCCBgXcCH+Ze1yXraCYgAAgioFvBhbVIN6KBxFOgOUMOEbG9vl5EjR0pjY6NMmzYte8rGjRvlwIEDcvbs2V7DmO+uv/XWW3L69Gm55557uj3efFfd/Mm8zCAcNWqUdHZ2Sn5+fq/vwQEIIIAAAnYEfPgQxNpkJ9dEQQABBHwR8GFt8sXSVjsp0G1JRoyT+RDU1NQkU6dOzZ69YcMGqaurkzNnzvxtxIMHD8qKFSvk+PHjMmfOnB6PNQ+Rq66u7vL3FOgRE8bhCCCAQB8FfPgQxNrUxyRzOgIIIOCZgA9rk2ekfW4uBXqfCeMF6MtthOYBPsuXLw9uj3/88cf/tgHsoMfLD2chgAACtgV8+BDE2mQ768RDAAEEdAv4sDbpFrTfOgp0+6ahI5oH8UyePDl4invmNWHCBJk/f36PD4kzO+fPPPOMmP81D5OL+mIQRhXjeAQQQMCOgC/zL2uTnXwTBQEEEPBBwJe1yQdLW22kQLclGSNO5qdsdu7cGdzmvnv3btmzZ480NzfL6NGjpbKyUtra2qS2tjaIboryp59+WrZt2yYLFy7MvuPAgQNl8ODBoVrAIAzFxEEIIICAdQFf5l/WJuupJyACCCCgVsCXtUktoIOGUaA7QI0S0uyeb968WTo6OqSwsFC2bNkipaWlQYjy8nJpbW2V+vr64P8//PDD3T7dfdmyZbJ///5Qb8sgDMXEQQgggIB1AZ/mX9Ym6+knIAIIIKBSwKe1SSWgg0ZRoDtA1RySQag5O7QNAQSSLMD823N2sUlyz+faEEBAswDzr77sUKDry4nTFjEInfISHAEEEOhRgPmXAp3hgQACCGgTYG3SlhERCnR9OXHaIgahU16CI4AAAhToMfoAa1MMNE5BAAEELAgw/1pAtByCAt0yqPZwDELtGaJ9CCCQVAHmX3bQk9q3uS4EEPBXgLVJX+4o0PXlxGmLGIROeQmOAAIIsIMeow+wNsVA4xQEEEDAggDzrwVEyyEo0C2Dag/HINSeIdqHAAJJFWD+ZQc9qX2b60IAAX8FWJv05Y4CXV9OnLaIQeiUl+AIIIAAO+gx+gBrUww0TkEAAQQsCDD/WkC0HIIC3TKo9nAMQu0Zon0IIJBUAeZfdtCT2re5LgQQ8FeAtUlf7ijQ9eXEaYsYhE55CY4AAgiwgx6jD7A2xUDjFAQQQMCCAPOvBUTLISjQLYNqD8cg1J4h2ocAAkkVYP5lBz2pfZvrQgABfwVYm/TljgJdX06ctohB6JSX4AgggAA76DH6AGtTDDROQQABBCwIMP9aQLQcggLdMqj2cAxC7RmifQggkFQB5l920JPat7kuBBDwV4C1SV/uKND15cRpixiETnkJjgACCLCDHqMPsDbFQOMUBBBAwIIA868FRMshKNAtg2oPxyDUniHahwACSRVg/mUHPal9m+tCAAF/BVib9OWOAl1fTpy2iEHolJfgCCCAADvoMfoAa1MMNE5BAAEELAgw/1pAtByCAt0yqPZwDELtGaJ9CCCQVAHmX3bQk9q3uS4EEPBXgLVJX+4o0PXlxGmLGIROeQmOAAIIsIMeow+wNsVA4xQEEEDAggDzrwVEyyEo0C2Dag/HINSeIdqHAAJJFWD+ZQc9qX2b60IAAX8FWJv05Y4CXV9OnLaIQeiUl+AIIIAAO+gx+gBrUww0TkEAAQQsCDD/WkC0HIIC3TKo9nAMQu0Zon0IIJBUAeZfdtCT2re5LgQQ8FeAtUlf7ijQ9eXEaYsYhE55CY4AAgiwgx6jD7A2xUDjFAQQQMCCAPOvBUTLISjQLYNqD8cg1J4h2ocAAkkVYP5lBz2pfZvrQgABfwVYm/TljgJdX06ctohB6JSX4AgggAA76DH6AGtTDDROQQABBCwIMP9aQLQcggLdMqj2cAxC7RmifQggkFQB5l920JPat7kuBBDwV4C1SV/uKNBznJPt27dLTU2NdHR0yMSJE2Xr1q0yY8aMHlvV0NAgL7/8sjQ3N8uIESNk7dq1snLlytBXwSAMTcWBCCCAgFUBn+Zf1iarqScYAgggoFbAp7VJLaLlhlGgWwaNEu7QoUOydOlSMR+ESkpKZNeuXbJ3715paWmRgoKCLqF+/vlnKSwslOeee06ef/55aWxslFWrVsnBgwdl0aJFod6aQRiKiYMQQAAB6wK+zL+sTdZTT0AEEEBArYAva5NaQAcNo0B3gBo2ZHFxsRQVFcmOHTuyp4wfP17Kyspk06ZNXcK8+uqr8umnn8rp06ezf2d2z7///ns5efJkqLdlEIZi4iAEEEDAuoAv8y9rk/XUExABBBBQK+DL2qQW0EHDKNAdoIYJee3aNcnLy5PDhw/LggULsqdUVFTIqVOnxNzKfuurtLRUJk2aJNu2bcv+1bFjx2Tx4sXy+++/y4ABA7qcc/XqVTF/Mq/Ozs5gd/7ChQuSn58fpqkcgwACCCBgQcB8CBo1apRcvnxZBg8ebCGi/RCsTfZNiYgAAghoFvBhbdLs56JtFOguVEPEbG9vl5EjRwa3qU+bNi17xsaNG+XAgQNy9uzZLlHGjRsn5eXl8tprr2X/rqmpKbg93sQbPnx4l3Oqqqqkuro6RIs4BAEEEECgPwR+/PFH+cc//tEfbxX5PVibIpNxAgIIIJAIAc1rUyKAI1wEBXoELJuHZj4EmQJ76tSp2dAbNmyQuro6OXPmTLcF+vLly6WysjL7d6bAnz59evCQuXvvvbfLObfuoJudm9GjR8s///lPtTs4Np3Dxsr86yF3FnQVw6b7XoRLz6MLm+5tMncw/fvf/5YhQ4aEnZ769TjWpn7l7vXNGEvMM712klsOoM/QZ6L2GR/WpqjX5PvxFOg5ymB/3UZ46+XxPZOeiy1zy6mZpLj1/3+N6DP0majTJH3G3z7D2hS1t7s9nrH098UW63b3/6iOi79zsNsZBZdc+MZ5Twr0OGqWzjEP4pk8eXLwFPfMa8KECTJ//vweHxL32WefBU95z7xeeOGF4DvrPCSub0nhQxAfgqL2IPoMfSapfYa1KWpm3R3PPMM8E7V30WfoM/SZqAL6jqdAz2FOMj9ls3PnzuA29927d8uePXuC3zg3t6GbW9nb2tqktrY2aGXmZ9bMT6yZn1ozRbl5ijs/s9b3JLKgsaBF7UX0GfpMUvsMa1PUzLo7nnmGeSZq76LP0GfoM1EF9B1PgZ7jnJjd882bNwffITe/cb5lyxYxT2s3L/NAuNbWVqmvr8+20jzdfc2aNUERP2LECDE/vWaK9LAv85108xNupvj/v//7v7CnJf44XHpOMTbd2+BCn4k6MfrUZ1ibombXzfE+9Rk3AswzUV3pM/QZ+kxUAX3HU6DrywktQgABBBBAAAEEEEAAAQQQSKEABXoKk84lI4AAAggggAACCCCAAAII6BOgQNeXE1qEAAIIIIAAAggggAACCCCQQgEK9BQmnUtGAAEEEEAAAQQQQAABBBDQJ0CBri8ntAgBBBBAAAEEEEAAAQQQQCCFAhToCUy6efpuTU1N8GT4iRMnytatW2XGjBk9Xql5MvzLL7+cfTL82rVrIz0Z3hfCKC5Hjx6VHTt2BL8xb56Iahyrqqrk0Ucf9eVyI7Uzis1fAzc2NsrMmTODXyAwVkl7RXUxfeWNN96Qjz76SH755Re577775PXXX5dnnnkmaTQS1ebjjz8OfrHi3LlzMnjwYJk7d6688847MmzYsMTYfP3118Hc+9133wXz77Fjx6SsrOxvry8t869BiNpn0mITxSVNa1MUlzStS3HGUlrWpqh9hnWp++UpLXOv5g8fFOiasxOjbZnfrzWTVElJiezatUv27t0rLS0tUlBQ0CVi5rfVze+qm99XNwXXqlWrIv22eoxm9vspUV1Wr14d/IzdrFmzZMiQIbJv376gmPj2229l0qRJ/d5+l28Y1SbTls7OTikqKpIxY8bIxYsXE1egx3GZP39+YLF+/frA5dKlS3L9+nWZNm2ayxT2e+yoNt98803wDznmZySfeOIJaWtrC/4RcOzYsUERm5TX559/HsyhZlwsWrSo1wI9LfOvyW/UPpMWm6guaVmborqkZV2KM5bMOWlYm6L2Gdal7lfetMy92j93UKBrz1DE9hUXFwcfDs3ub+Y1fvz4YBfH/P75rS/zO+qffvqpnD59OvtX5oPz999/LydPnoz47noPj+rS3ZWYXfSnnnpK1q1bp/dCY7Qsrs2SJUuCAuuOO+6QTz75JHEFelSXL774QozJTz/9JEOHDo2RCX9OiWpj/nHLzEk//vhj9iLff//9YEf9woUL/lx4hJbedtttvRboaZl/DVvUPpMWm6guaVmb4rokfV2KM5bSsjZF7TOsS90vaGmZeyMs5zk5lAI9J+xu3vTatWuSl5cnhw8flgULFmTfpKKiIiiezC0rt75KS0uDHeFt27Zl/8rsaC1evFh+//13GTBggJvG9mPUOC63Nu/GjRty//33i7n9/8UXX+zH1rt9q7g25o4Cc5eG+Uccs1uctAI9jou58+SHH36QBx98UOrq6mTQoEEyb948efPNN2XgwIFuE9mP0ePYNDU1BXejmLnlscceC+4sMHOM+cfDnTt39mPr+++twhToaZh/jXicPpMGmzguaVib4rokfV2KO5bSsDbF6TOsS92vh2mYe/vvk0D8d6JAj2+n7sz29nYZOXJkcIvlX2+p3bhxoxw4cEDOnj3bpc3jxo2T8vJyee2117J/ZyYtc3u8iTd8+HB11xm1QXFcbn0P873St956K7jT4J577onaBLXHx7Ex3yGePn26nDhxQkz/Md/NT1qBHsfFfKe6vr5e5syZE9xl8euvvwZfF5k9e7Z8+OGHavtA1IbFsTHvceTIEVm+fLn88ccfwW3/5h8vzH9Lwj8CdmcYpkBPw/xrbOL0mTTYxHFJw9oUxyUN61LcsZSGtSlOn2Fd6n71T8PcG/VzTy6Op0DPhbqj98xMUKbAnjp1avZdNmzYEOzonTlzptsC3XxorqyszP6dKfBNAWYecnTvvfc6am3/hY3j8tfWHTx4UFasWCHHjx8Piq8kvaLa/PnnnzJlyhR59tlnsw8STHKBHmUsPfLII8E/WpiHw5mHoJmXeaDTk08+Kb/99ltidtGj9hnjYJ6BYcbOmjVrggctmrnllVdekYceekg++OCDJA2p7LWELdCTPv/+taiIMp7Mh8Sk28QZS2lYm6K6pGVdijuW0rA2Re0zrEs9P7w0DXOvDx86KNB9yFLINsa5xScNt7LEccmQm4eOmA+J5msDjz/+eMhM+HNYVJvLly/L3XffHXzvPPMyt//fvHkz+G9ffvllsGPs+yuqi7neZcuWBXevnD9/Pnv55o6LCRMmBLe+m+/rJ+EVx2bp0qXBzrkZR5mXeUCP+XWJpNypc2tuwxToaZh/jUucPpMGmzguaViborqkZV2KO5bSsDZF7TPGknWp+08kaZh7ffgsRoHuQ5YitNE8JGPy5MnB94MzL1MgmCd49vSQuM8++yzY4cq8XnjhheA760l7SFwUF2Nhds7Nz2OZ/+3tp5IipEjdoVH6jCnG/9pXzMWYvvbVV18Ftys/8MADwXevk/CK4mKud/fu3WKesGy+X33XXXcFBOaui4ULF8qVK1cSs4NuriuqjXmi+Z133hk8yTvzMvOL+SqOeaK7+cWEpL3CFOjmYTxpmH/j9Jm02EQdS2lZm6K4pGldijOW0rI2RekzxpF1qftVNy1zr/bPHBTo2jMUsX2Zn5kwD14yt7mbiXnPnj3Bb5yPHj06uJXdfCCura0NImd+TsH8xJr5qTXzodk8xd0UpWbySsorqou5/qeffjp4eJ4psDIv87CvzO3LabW59bqTeIu7ucaofcYU4eahZ+YrANXV1cF30M1XI8zPi5kxmKRXVJv9+/cH88t7772XvcXd/GPG7bffHvx0YVJepg9k7qAwD9989913g4fjmaf6m5+5TOv8G2c8sTZ1v2anZW2KOsekZV2KM5bSsjZF7TOsS6xLmj97UKBrzk7MtpkdTfPzReZ7noWFhcFvD5tbVszLPBCutbU1eJhV5mWe7m6+G2qKeLOTZf71zBTpSXtFcXn44Ye7feq9uVXMTOpJe0WxSdMHoagu5jkPL730UnCr+7Bhw4InlZun3CfpKe6Z/Ee1MT+rZv7h0BReQ4YMCb4K8fbbbwcPtkzKy8yrpiC/9ZWZN9I8/xqTqH2Gtanrmp2mtSlqf/nruEvqPxzHnX/TsjZF7TOsS/tTXRdo/uxBga45O7QNAQQQQAABBBBAAAEEEEAgNQIU6KlJNReKAAIIIIAAAggggAACCCCgWYACXXN2aBsCCCCAAAIIIIAAAggggEBqBCjQU5NqLhQBBBBAAAEEEEAAAQQQQECzAAW65uzQNgQQQAABBBBAAAEEEECOkWmXAAAgAElEQVQAgdQIUKCnJtVcKAIIIIAAAggggAACCCCAgGYBCnTN2aFtCCCAAAIIIIAAAggggAACqRGgQE9NqrlQBBBAAAEEEEAAAQQQQAABzQIU6DnMztdffy01NTXy3XffSUdHhxw7dkzKysr+tkUNDQ3y8ssvS3Nzs4wYMULWrl0rK1euzOFV8NYIIIAAAkkRYF1KSia5DgQQQAABXwUo0HOYuc8//1waGxulqKhIFi1a1GuB/vPPP0thYaE899xz8vzzzwfnrlq1Sg4ePBiczwsBBBBAAIG+CLAu9UWPcxFAAAEEEOi7AAV63w2tRLjtttt6LdBfffVV+fTTT+X06dPZ9zS7599//72cPHnSSjsIggACCCCAgBFgXaIfIIAAAggg0P8CFOj9b97tO4b5IFRaWiqTJk2Sbdu2ZWOY2+IXL14sv//+uwwYMEDJ1dAMBBBAAAHfBViXfM8g7UcAAQQQ8FGAAl1J1sJ8EBo3bpyUl5fLa6+9lm11U1OTlJSUSHt7uwwfPrzL1Vy9elXMn8zrxo0b8q9//UuGDRsW7I7wQgABBBDoH4GbN2/Kf//73+D5Ibfffnv/vGkf3sXVumSaxNrUh8RwKgIIIGBRwLe1yeKlqw1Fga4kNWE/CC1fvlwqKyuzrTbfQ58+fXrwkLl77723y9VUVVVJdXW1kqukGQgggAACFy5ckPvuu089hKt1yVw4a5P69NNABBBImYAva1Ma0kKBriTLYT4IxbnF/dZdis7OTikoKBAzCPPz85VcPc1AAAEEki/wn//8R0aNGiWXL1+WwYMHq79gV+uSuXDWJvXpp4EIIJASAd/WpjSkhQJdSZbDfBAyD4n77LPPpKWlJdvqF154QU6dOhX6IXFmEJoPhqZQp0BXknyagQACqRDwbf7tr3XJJN83m1R0WC4SAQRSIcD8qy/NFOg5zMmVK1fk/PnzQQvMw9/effddmTVrlgwdOjTY5Ta3sre1tUltbW1wTOZn1sxPrJmfWjNPbjdPcY/yM2sMwhwmnLdGAIFUC/gw/+ZiXaJAT/Ww4OIRQCDHAj6sTTkm6ve3p0Dvd/L//4b19fVBQX7ra9myZbJ///7ggXCtra1ijsu8GhoaZM2aNdLc3Bw8aMjsqpsiPeyLQRhWiuMQQAABuwI+zL+5WJco0O32M6IhgAACUQR8WJuiXE8SjqVAT0IWI1wDgzACFocigAACFgWYf3vGxMZiRyMUAgggEEGA+TcCVj8dSoHeT9Ba3oZBqCUTtAMBBNImwPxLgZ62Ps/1IoCAfgHWJn05okDXlxOnLWIQOuUlOAIIINCjAPMvBTrDAwEEENAmwNqkLSMiFOj6cuK0RQxCp7wERwABBCjQY/QB1qYYaJyCAAIIWBBg/rWAaDkEBbplUO3hGITaM0T7EEAgqQLMv+ygJ7Vvc10IIOCvAGuTvtxRoOvLidMWMQid8hIcAQQQYAc9Rh9gbYqBxikIIICABQHmXwuIlkNQoFsG1R6OQag9Q7QPAQSSKsD8yw56Uvs214UAAv4KsDbpyx0Fur6cOG0Rg9ApL8ERQAABdtBj9AHWphhonIIAAghYEGD+tYBoOQQFumVQ7eEYhNozRPsQQCCpAsy/7KAntW9zXQgg4K8Aa5O+3FGg68uJ0xYxCJ3yEhwBBBBgBz1GH2BtioHGKQgggIAFAeZfC4iWQ1CgWwbVHo5BqD1DtA8BBJIqwPzLDnpS+zbXhQAC/gqwNunLHQW6vpw4bRGD0CkvwRFAAAF20GP0AdamGGicggACCFgQYP61gGg5BAW6ZVDt4RiE2jNE+xBAIKkCzL/soCe1b3NdCCDgrwBrk77cUaDry4nTFjEInfISHAEEEGAHPUYfYG2KgcYpCCCAgAUB5l8LiJZDUKBbBtUejkGoPUO0DwEEkirA/MsOelL7NteFAAL+CrA26csdBbq+nDhtEYPQKS/BEUAAAXbQY/QB1qYYaJyCAAIIWBBg/rWAaDkEBbplUO3hGITaM0T7EEAgqQLMv+ygJ7Vvc10IIOCvAGuTvtxRoOvLidMWMQid8hIcAQQQYAc9Rh9gbYqBxikIIICABQHmXwuIlkNQoFsG1R6OQag9Q7QPAQSSKsD8yw56Uvs214UAAv4KsDbpyx0Fur6cOG0Rg9ApL8ERQAABdtBj9AHWphhonIIAAghYEGD+tYBoOQQFumVQ7eEYhNozRPsQQCCpAsy/7KAntW9zXQgg4K8Aa5O+3FGg68uJ0xYxCJ3yEhwBBBBgBz1GH2BtioHGKQgggIAFAeZfC4iWQ1CgWwbVHo5BqD1DtA8BBJIqwPzLDnpS+zbXhQAC/gqwNunLHQW6vpw4bRGD0CkvwRFAAAF20GP0AdamGGicggACCFgQYP61gGg5BAW6ZdCo4bZv3y41NTXS0dEhEydOlK1bt8qMGTN6DPPxxx/L5s2b5dy5czJ48GCZO3euvPPOOzJs2LBQb80gDMXEQQgggIB1AZ/mX9Ym6+knIAIIIKBSwKe1SSWgg0ZRoDtADRvy0KFDsnTpUjEfhEpKSmTXrl2yd+9eaWlpkYKCgi5hvvnmG5k5c6Zs2bJFnnjiCWlra5OVK1fK2LFj5dixY6HelkEYiomDEEAAAesCvsy/rE3WU09ABBBAQK2AL2uTWkAHDaNAd4AaNmRxcbEUFRXJjh07sqeMHz9eysrKZNOmTV3CmJ1yc+yPP/6Y/bv3338/2FG/cOFCqLdlEIZi4iAEEEDAuoAv8y9rk/XUExABBBBQK+DL2qQW0EHDKNAdoIYJee3aNcnLy5PDhw/LggULsqdUVFTIqVOnpKGhoUuYpqYmmTVrVrBb/thjj8mlS5dk8eLFYor6nTt3dvu2V69eFfMn8zKDcNSoUdLZ2Sn5+flhmsoxCCCAAAIWBHz4EMTaZCHRhEAAAQQ8EvBhbfKI00pTKdCtMEYP0t7eLiNHjpTGxkaZNm1aNsDGjRvlwIEDcvbs2W6DHjlyRJYvXy5//PGHXL9+XebNmyfmvw0YMKDb46uqqqS6urrL31GgR88ZZyCAAAJ9EfDhQxBrU18yzLkIIICAfwI+rE3+qfatxRToffOLfXbmQ5DZFZ86dWo2zoYNG6Surk7OnDnTJbb5bvqcOXNkzZo18uijjwYPlnvllVfkoYcekg8++KDbtrCDHjtFnIgAAghYFfDhQxBrk9WUEwwBBBBQL+DD2qQe0XIDKdAtg4YNF+c2QvNAObNzbm6Lz7zMg+PMU9/Nh6rhw4f3+vYMwl6JOAABBBBwIuDD/Mva5CT1BEUAAQTUCviwNqnFc9QwCnRHsGHCmgfxTJ48OXiKe+Y1YcIEmT9/frcPiVu0aJHceeedYp6wm3mdPHkyuEXePNF9xIgRvb4tg7BXIg5AAAEEnAj4Mv+yNjlJP0ERQAABlQK+rE0q8Rw1igLdEWyYsJmfsjEPeDO3ue/evVv27Nkjzc3NMnr0aKmsrAwK79ra2iDc/v375bnnnpP33nsve4v76tWr5fbbb5dvv/02zFsKgzAUEwchgAAC1gV8mX9Zm6ynnoAIIICAWgFf1ia1gA4aRoHuADVKSLN7bn4mzXyfvLCwMPiN89LS0iBEeXm5tLa2Sn19fTak+Vk1U9D//PPPMmTIEJk9e7a8/fbbwQPnwrwYhGGUOAYBBBCwL+DT/MvaZD//REQAAQQ0Cvi0Nmn0c9EmCnQXqopjMggVJ4emIYBAogWYf3tOLzaJ7vpcHAIIKBZg/tWXHAp0fTlx2iIGoVNegiOAAAI9CjD/UqAzPBBAAAFtAqxN2jIiQoGuLydOW8QgdMpLcAQQQIACPUYfYG2KgcYpCCCAgAUB5l8LiJZDUKBbBtUejkGoPUO0DwEEkirA/MsOelL7NteFAAL+CrA26csdBbq+nDhtEYPQKS/BEUAAAXbQY/QB1qYYaJyCAAIIWBBg/rWAaDkEBbplUO3hGITaM0T7EEAgqQLMv+ygJ7Vvc10IIOCvAGuTvtxRoOvLidMWMQid8hIcAQQQYAc9Rh9gbYqBxikIIICABQHmXwuIlkNQoFsG1R6OQag9Q7QPAQSSKsD8yw56Uvs214UAAv4KsDbpyx0Fur6cOG0Rg9ApL8ERQAABdtBj9AHWphhonIIAAghYEGD+tYBoOQQFumVQ7eEYhNozRPsQQCCpAsy/7KAntW9zXQgg4K8Aa5O+3FGg68uJ0xYxCJ3yEhwBBBBgBz1GH2BtioHGKQgggIAFAeZfC4iWQ1CgWwbVHo5BqD1DtA8BBJIqwPzLDnpS+zbXhQAC/gqwNunLHQW6vpw4bRGD0CkvwRFAAAF20GP0AdamGGicggACCFgQYP61gGg5BAW6ZVDt4RiE2jNE+xBAIKkCzL/soCe1b3NdCCDgrwBrk77cUaDry4nTFjEInfISHAEEEGAHPUYfYG2KgcYpCCCAgAUB5l8LiJZDUKBbBtUejkGoPUO0DwEEkirA/MsOelL7NteFAAL+CrA26csdBbq+nDhtEYPQKS/BEUAAAXbQY/QB1qYYaJyCAAIIWBBg/rWAaDkEBbplUO3hGITaM0T7EEAgqQLMv+ygJ7Vvc10IIOCvAGuTvtxRoOvLidMWMQid8hIcAQQQYAc9Rh9gbYqBxikIIICABQHmXwuIlkNQoFsG1R6OQag9Q7QPAQSSKsD8yw56Uvs214UAAv4KsDbpyx0Fur6cOG0Rg9ApL8ERQAABdtBj9AHWphhonIIAAghYEGD+tYBoOQQFumVQ7eEYhNozRPsQQCCpAsy/7KAntW9zXQgg4K8Aa5O+3FGg68uJ0xYxCJ3yEhwBBBBgBz1GH2BtioHGKQgggIAFAeZfC4iWQ1CgWwaNGm779u1SU1MjHR0dMnHiRNm6davMmDGjxzBXr16VN954Qz766CP55Zdf5L777pPXX39dnnnmmVBvzSAMxcRBCCCAgHUBn+Zf1ibr6ScgAgggoFLAp7VJJaCDRlGgO0ANG/LQoUOydOlSMR+ESkpKZNeuXbJ3715paWmRgoKCbsPMnz9fLl68KOvXr5cxY8bIpUuX5Pr16zJt2rRQb8sgDMXEQQgggIB1AV/mX9Ym66knIAIIIKBWwJe1SS2gg4ZRoDtADRuyuLhYioqKZMeOHdlTxo8fL2VlZbJp06YuYb744gtZsmSJ/PTTTzJ06NCwb/M/xzEIY7FxEgIIINBnAV/mX9amPqeaAAgggIA3Ar6sTd6AWmgoBboFxDghrl27Jnl5eXL48GFZsGBBNkRFRYWcOnVKGhoauoRdtWqV/PDDD/Lggw9KXV2dDBo0SObNmydvvvmmDBw4MFQzGIShmDgIAQQQsC7gw/zL2mQ97QREAAEEVAv4sDapBnTQOAp0B6hhQra3t8vIkSOlsbHxf25P37hxoxw4cEDOnj3bJczcuXOlvr5e5syZI+vWrZNff/1VTNE+e/Zs+fDDD7t9W/OddfMn8zKDcNSoUdLZ2Sn5+flhmsoxCCCAAAIWBHz4EMTaZCHRhEAAAQQ8EvBhbfKI00pTKdCtMEYPkvkQ1NTUJFOnTs0G2LBhQ7A7fubMmS5BH3nkETlx4kTwcLjBgwcHf3/06FF58skn5bfffut2F72qqkqqq6u7xKJAj54zzkAAAQT6IuDDhyDWpr5kmHMRQAAB/wR8WJv8U+1biynQ++YX++w4txEuW7Ys2HE/f/589n1Pnz4tEyZMCG59Hzt2bJf2sIMeO0WciAACCFgV8OFDEGuT1ZQTDAEEEFAv4MPapB7RcgMp0C2DRglnHsQzefLk4CnumZcpts2T2rt7SNzu3btl9erVwZPb77rrruCU48ePy8KFC+XKlSuhvofOIIySIY5FAAEE7An4Mv+yNtnLOZEQQAAB7QK+rE3aHW22jwLdpmbEWJmfstm5c2dwm7spwPfs2SPNzc0yevRoqayslLa2NqmtrQ0imyLcPOV9ypQpwW3r5jvoK1askJkzZwbnhXkxCMMocQwCCCBgX8CX+Ze1yX7uiYgAAghoFfBlbdLq56JdFOguVCPENLvnmzdvlo6ODiksLJQtW7ZIaWlpEKG8vFxaW1uDB8NlXua76S+99FJwq/uwYcNk8eLFwW+i8xT3COgcigACCORAwKcPQaxNOeggvCUCCCCQAwGf1qYc8OTkLSnQc8KeuzdlEObOnndGAIF0CzD/9px/bNI9Nrh6BBDInQDzb+7se3pnCnR9OXHaIgahU16CI4AAAj0KMP9SoDM8EEAAAW0CrE3aMiJCga4vJ05bxCB0yktwBBBAgAI9Rh9gbYqBxikIIICABQHmXwuIlkNQoFsG1R6OQag9Q7QPAQSSKsD8yw56Uvs214UAAv4KsDbpyx0Fur6cOG0Rg9ApL8ERQAABdtBj9AHWphhonIIAAghYEGD+tYBoOQQFumVQ7eEYhNozRPsQQCCpAsy/7KAntW9zXQgg4K8Aa5O+3FGg68uJ0xYxCJ3yEhwBBBBgBz1GH2BtioHGKQgggIAFAeZfC4iWQ1CgWwbVHo5BqD1DtA8BBJIqwPzLDnpS+zbXhQAC/gqwNunLHQW6vpw4bRGD0CkvwRFAAAF20GP0AdamGGicggACCFgQYP61gGg5BAW6ZVDt4RiE2jNE+xBAIKkCzL/soCe1b3NdCCDgrwBrk77cUaDry4nTFjEInfISHAEEEGAHPUYfYG2KgcYpCCCAgAUB5l8LiJZDUKBbBtUejkGoPUO0DwEEkirA/MsOelL7NteFAAL+CrA26csdBbq+nDhtEYPQKS/BEUAAAXbQY/QB1qYYaJyCAAIIWBBg/rWAaDkEBbplUO3hGITaM0T7EEAgqQLMv+ygJ7Vvc10IIOCvAGuTvtxRoOvLidMWMQid8hIcAQQQYAc9Rh9gbYqBxikIIICABQHmXwuIlkNQoFsG1R6OQag9Q7QPAQSSKsD8yw56Uvs214UAAv4KsDbpyx0Fur6cOG0Rg9ApL8ERQAABdtBj9AHWphhonIIAAghYEGD+tYBoOQQFumVQ7eEYhNozRPsQQCCpAsy/7KAntW9zXQgg4K8Aa5O+3FGg68uJ0xYxCJ3yEhwBBBBgBz1GH2BtioHGKQgggIAFAeZfC4iWQ1CgWwbVHo5BqD1DtA8BBJIqwPzLDnpS+zbXhQAC/gqwNunLHQW6vpw4bRGD0CkvwRFAAAF20GP0AdamGGicggACCFgQYP61gGg5BAW6ZVDt4RiE2jNE+xBAIKkCzL/soCe1b3NdCCDgrwBrk77cUaDry4nTFjEInfISHAEEEGAHPUYfYG2KgcYpCCCAgAUB5l8LiJZDUKBbBtUejkGoPUO0DwEEkirA/MsOelL7NteFAAL+CrA26csdBXqOc7J9+3apqamRjo4OmThxomzdulVmzJjRa6saGxtl5syZUlhYKKdOner1+MwBDMLQVByIAAIIWBXwaf5lbbKaeoIhgAACagV8WpvUIlpuGAW6ZdAo4Q4dOiRLly4V80GopKREdu3aJXv37pWWlhYpKCjoMVRnZ6cUFRXJmDFj5OLFixToUdA5FgEEEMiRgC8fglibctRBeFsEEEAgBwK+rE05oMnZW1Kg54xepLi4OCi0d+zYkW3F+PHjpaysTDZt2tRjy5YsWSJjx46VO+64Qz755BMK9BzmkLdGAAEEwgr48iGItSlsRjkOAQQQ8F/Al7XJf+nwV0CBHt7K6pHXrl2TvLw8OXz4sCxYsCAbu6KiIii4Gxoaun2/ffv2BTvuJ0+elPXr1/daoF+9elXMn8zLDMJRo0aJ2YXPz8+3ek0EQwABBBDoWcCHD0GsTfRgBBBAIF0CPqxN6cqICAV6jjLe3t4uI0eOFPNd8mnTpmVbsXHjRjlw4ICcPXu2S8vOnTsn06dPlxMnTsi4ceOkqqqq1wLdHFNdXd0lFgV6jhLP2yKAQGoFfPgQxNqU2u7JhSOAQEoFfFib0pYaCvQcZTzzIaipqUmmTp2abcWGDRukrq5Ozpw58z8t+/PPP2XKlCny7LPPysqVK4O/C1Ogs4OeowTztggggMAtAj58CGJtotsigAAC6RLwYW1KV0bYQc9ZvqPeRnj58mW5++67g++dZ143btyQmzdvBv/tyy+/lNmzZ/d6PQzCXok4AAEEEHAi4MP8y9rkJPUERQABBNQK+LA2qcVz1DB20B3BhglrHsQzefLk4DvlmdeECRNk/vz5XR4SZ4px83T3v77MeV999ZUcOXJEHnjgARk0aFCvb8sg7JWIAxBAAAEnAr7Mv6xNTtJPUAQQQEClgC9rk0o8R42iQHcEGyZs5qds/l97dwKjVXU+fvwBHGGGBkZpp+wMxmJYbAVskdWltpaals1gTcOmUIRQWVKxaEWg7FAWFxhmaFmVUKqiNpYusVgFtbUR2rC6MC2FAawFWgXZf//n/PO+wZl3mPde7p0595zvTZpG5r7nPefznOV93nvfc4uKisxt7sXFxVJSUiI7duyQVq1ayaRJk+TAgQOyevXqjMVlc4t7+RcyCLOJDOcggAAC0QskZf5lbYo+9pSIAAII2CqQlLXJVr846kWCHodqgDL1KvjcuXOlrKxMOnToIAsXLpRevXqZEoYOHSqlpaWyefNmEvQAppyKAAII2CiQpA9BrE029iDqhAACCEQvkKS1KfrW21kiCbqdcYmtVgzC2GgpGAEEELikAPNv5TzYMHgQQACBmhFg/q0Z90u9Kwm6fTGJtUYMwlh5KRwBBBCoVID5lwSd4YEAAgjYJsDaZFtE2MXdvojEXCMGYczAFI8AAghUIsD8S4LO4EAAAQRsE2Btsi0iJOj2RSTmGjEIYwameAQQQIAEPXAfYG0KTMYLEEAAgUgEmH8jYYy0EG5xj5TT/sIYhPbHiBoigICbAsy/XEF3s2fTKgQQSLIAa5N90SNBty8msdaIQRgrL4UjgAAClQow/5KgMzwQQAAB2wRYm2yLCLe42xeRmGvEIIwZmOIRQACBSgSYf0nQGRwIIICAbQKsTbZFhATdvojEXCMGYczAFI8AAgiQoAfuA6xNgcl4AQIIIBCJAPNvJIyRFsIt7pFy2l8Yg9D+GFFDBBBwU4D5lyvobvZsWoUAAkkWYG2yL3ok6PbFJNYaMQhj5aVwBBBAoFIB5l8SdIYHAgggYJsAa5NtEeEWd/siEnONGIQxA1M8AgggUIkA8y8JOoMDAQQQsE2Atcm2iJCg2xeRmGvEIIwZmOIRQAABEvTAfYC1KTAZL0AAAQQiEWD+jYQx0kK4xT1STvsLYxDaHyNqiAACbgow/3IF3c2eTasQQCDJAqxN9kWPBN2+mMRaIwZhrLwUjgACCFQqwPxLgs7wQAABBGwTYG2yLSLc4m5fRGKuEYMwZmCKRwABBCoRYP4lQWdwIIAAArYJsDbZFhESdPsiEnONGIQxA1M8AgggQIIeuA+wNgUm4wUIIIBAJALMv5EwRloIt7hHyml/YQxC+2NEDRFAwE0B5l+uoLvZs2kVAggkWYC1yb7okaDbF5NYa8QgjJWXwhFAAIFKBZh/SdAZHggggIBtAqxNtkWEW9zti0jMNWIQxgxM8QgggEAlAsy/JOgMDgQQQMA2AdYm2yJCgm5fRGKuEYMwZmCKRwABBEjQA/cB1qbAZLwAAQQQiESA+TcSxkgL4Rb3SDntL4xBaH+MqCECCLgpwPzLFXQ3ezatQgCBJAuwNtkXPRJ0+2ISa40YhLHyUjgCCCBQqQDzLwk6wwMBBBCwTYC1ybaIcIu7fRGJuUYMwpiBKR4BBBCoRID5lwSdwYEAAgjYJsDaZFtESNBrPCJLliyRefPmSVlZmbRv314WLVokPXv2zFiv5557TpYuXSrbtm2TU6dOmfOnTJkid9xxR9btYBBmTcWJCCCAQKQCSZp/WZsiDT2FIYAAAtYKJGltshYx4opxi3vEoEGKW79+vQwaNEj0g1D37t1l2bJlsnz5ctm5c6e0bNmyQlHjxo2Tpk2byq233ir5+fmyYsUKmT9/vrz11lvSsWPHrN6aQZgVEychgAACkQskZf5lbYo89BSIAAIIWCuQlLXJWsAYKkaCHgNqtkV26dJFOnXqZK6Kp462bdtK3759ZdasWVkVo1fR7777bpk8eXJW5zMIs2LiJAQQQCBygaTMv6xNkYeeAhFAAAFrBZKyNlkLGEPFSNBjQM2myNOnT0teXp5s2LBB+vXrl37J2LFjzS3sr776apXFnD9/XgoLC2XixIkyZsyYKs/XExiEWTFxEgIIIBC5QBLmX9amyMNOgQgggIDVAklYm6wGjKFyJOgxoGZT5MGDB6VZs2ayZcsW6datW/olM2fOlFWrVsmePXuqLEZ/uz579mzZtWuXFBQUZDxff6uu/0sdOghbtGghx48flwYNGlT5HpyAAAIIIBCNQBI+BLE2RRNrSkEAAQSSIpCEtSkpllHVkwQ9KsmA5aQ+BG3dulW6du2afvWMGTNkzZo1snv37kuWuG7dOhk+fLi88MILcvvtt1d6rm4iN3Xq1Ap/J0EPGDBORwABBC5TIAkfglibLjPIvBwBBBBImEAS1qaEkV52dUnQL5swXAGXcxuhbuAzbNgwc3v8nXfeeckKcAU9XHx4FQIIIBC1QBI+BLE2RR11ykMAAQTsFkjC2mS3YPS1I0GP3jTrEnUjns6dO5td3FNHu3btpE+fPpVuEqdXzu+9917R/9fN5IIeDMKgYpyPAAIIRCOQlPmXtSmaeFMKAgggkASBpKxNSbCMqo4k6FFJhign9SiboqIic5t7cXGxlJSUyI4dO6RVq1YyadIkOXDggKxevdqUrkn54MGDZfHixdK/f//0O+bm5krDhg2zqgGDMCsmTkIAAQQiF0jK/MvaFHnoKRABBBCwViApa5O1gDFUjAQ9BtQgRerV87lz50pZWZl06NBBFi5cKL169TJFDB06VEpLS2Xz5s3mv2+55ZaMu7sPGTJEVq5cmdXbMgizYuIkBCkIiAwAACAASURBVBBAIHKBJM2/rE2Rh58CEUAAASsFkrQ2WQkYQ6VI0GNAtblIBqHN0aFuCCDgsgDzb+XRxcblnk/bEEDAZgHmX/uiQ4JuX0xirRGDMFZeCkcAAQQqFWD+JUFneCCAAAK2CbA22RYRERJ0+2ISa40YhLHyUjgCCCBAgh6iD7A2hUDjJQgggEAEAsy/ESBGXAQJesSgthfHILQ9QtQPAQRcFWD+5Qq6q32bdiGAQHIFWJvsix0Jun0xibVGDMJYeSkcAQQQ4Ap6iD7A2hQCjZcggAACEQgw/0aAGHERJOgRg9peHIPQ9ghRPwQQcFWA+Zcr6K72bdqFAALJFWBtsi92JOj2xSTWGjEIY+WlcAQQQIAr6CH6AGtTCDReggACCEQgwPwbAWLERZCgRwxqe3EMQtsjRP0QQMBVAeZfrqC72rdpFwIIJFeAtcm+2JGg2xeTWGvEIIyVl8IRQAABrqCH6AOsTSHQeAkCCCAQgQDzbwSIERdBgh4xqO3FMQhtjxD1QwABVwWYf7mC7mrfpl0IIJBcAdYm+2JHgm5fTGKtEYMwVl4KRwABBLiCHqIPsDaFQOMlCCCAQAQCzL8RIEZcBAl6xKC2F8cgtD1C1A8BBFwVYP7lCrqrfZt2IYBAcgVYm+yLHQm6fTGJtUYMwlh5KRwBBBDgCnqIPsDaFAKNlyCAAAIRCDD/RoAYcREk6BGD2l4cg9D2CFE/BBBwVYD5lyvorvZt2oUAAskVYG2yL3Yk6PbFJNYaMQhj5aVwBBBAgCvoIfoAa1MINF6CAAIIRCDA/BsBYsRFkKBHDGp7cQxC2yNE/RBAwFUB5l+uoLvat2kXAggkV4C1yb7YkaDbF5NYa8QgjJWXwhFAAAGuoIfoA6xNIdB4CQIIIBCBAPNvBIgRF0GCHjGo7cUxCG2PEPVDAAFXBZh/uYLuat+mXQggkFwB1ib7YkeCbl9MYq0RgzBWXgpHAAEEuIIeog+wNoVA4yUIIIBABALMvxEgRlwECXrEoLYXxyC0PULUDwEEXBVg/uUKuqt9m3YhgEByBVib7IsdCbp9MYm1RgzCWHkpHAEEEOAKeog+wNoUAo2XIIAAAhEIMP9GgBhxESToEYPaXhyD0PYIUT8EEHBVgPmXK+iu9m3ahQACyRVgbbIvdiTo9sUk1hoxCGPlpXAEEECAK+gh+gBrUwg0XoIAAghEIMD8GwFixEWQoEcMantxDELbI0T9EEDAVQHmX66gu9q3aRcCCCRXgLXJvtiRoNdwTJYsWSLz5s2TsrIyad++vSxatEh69uxZaa1effVVmTBhguzYsUOaNm0qEydOlPvvvz/rVjAIs6biRAQQQCBSgSTNv6xNkYaewhBAAAFrBZK0NlmLGHHFSNAjBg1S3Pr162XQoEGiH4S6d+8uy5Ytk+XLl8vOnTulZcuWFYrat2+fdOjQQUaMGCEjR46ULVu2yOjRo2XdunUyYMCArN6aQZgVEychgAACkQskZf5lbYo89BSIAAIIWCuQlLXJWsAYKkaCHgNqtkV26dJFOnXqJEuXLk2/pG3bttK3b1+ZNWtWhWIeeughefHFF2XXrl3pv+nV8+3bt8sbb7yR1dsyCLNi4iQEEEAgcoGkzL+sTZGHngIRQAABawWSsjZZCxhDxUjQY0DNpsjTp09LXl6ebNiwQfr165d+ydixY2Xbtm2it7KXP3r16iUdO3aUxYsXp//0/PPPy8CBA+XEiROSk5NT4TWnTp0S/V/qOH78uLk6v3//fmnQoEE2VeUcBBBAAIEIBPRDUIsWLeTYsWPSsGHDCEqMvgjWpuhNKREBBBCwWSAJa5PNfnHUjQQ9DtUsyjx48KA0a9bM3KberVu39Ctmzpwpq1atkj179lQopU2bNjJ06FB5+OGH03/bunWruT1ey2vSpEmF10yZMkWmTp2aRY04BQEEEECgOgTef/99ueaaa6rjrQK/B2tTYDJegAACCDghYPPa5ARwgEaQoAfAivLU1IcgTbC7du2aLnrGjBmyZs0a2b17d8YEfdiwYTJp0qT03zTB79Gjh9lkrnHjxhVeU/4Kul65adWqlfzzn/+09gpOlM7ZlpX69pA7CyqKYZO5F+FS+ejCJrNN6g6mo0ePSn5+frbTU7Wex9pUrdxVvhljiXmmyk5S7gT6DH0maJ9JwtoUtE1JP58EvYYiWF23EZZvHr8zqTzZ0ltOdZLi1v/PGtFn6DNBp0n6THL7DGtT0N4e7/mMpUsnW6zbmb9UxyW5c3C8MwouNeEb5j1J0MOoRfQa3Yinc+fOZhf31NGuXTvp06dPpZvEvfTSS2aX99QxatQo85t1Nom7vKDwIYgPQUF7EH2GPuNqn2FtChrZ+M5nnmGeCdq76DP0GfpMUAH7zidBr8GYpB5lU1RUZG5zLy4ulpKSEvOMc70NXW9lP3DggKxevdrUMvWYNX3Emj5qTZNy3cWdx6xdfhBZ0FjQgvYi+gx9xtU+w9oUNLLxnc88wzwTtHfRZ+gz9JmgAvadT4JewzHRq+dz5841vyHXZ5wvXLhQdLd2PXRDuNLSUtm8eXO6lrq7+/jx400S37RpU9FHr2mSnu2hv0nXR7hp8l+3bt1sX+b8ebhUHmJsMtvgQp8JOjEmqc+wNgWNbjznJ6nPxCPAPBPUlT5Dn6HPBBWw73wSdPtiQo0QQAABBBBAAAEEEEAAAQQ8FCBB9zDoNBkBBBBAAAEEEEAAAQQQQMA+ARJ0+2JCjRBAAAEEEEAAAQQQQAABBDwUIEH3MOg0GQEEEEAAAQQQQAABBBBAwD4BEnT7YkKNEEAAAQQQQAABBBBAAAEEPBQgQXcw6Lr77rx588zO8O3bt5dFixZJz549K22p7gw/YcKE9M7wEydODLQzfFIIg7g899xzsnTpUvOMed0RVR2nTJkid9xxR1KaG6ieQWwuLnjLli1y8803mycQqJVrR1AX7SvTpk2TtWvXyqFDh6R58+byyCOPyL333usajQS1efrpp80TK959911p2LChfOtb35L58+dLo0aNnLH505/+ZObev/71r2b+ff7556Vv376XbJ8v868iBO0zvtgEcfFpbQri4tO6FGYs+bI2Be0zrEuZlydf5l6bP3yQoNscnRB1Sz2/Viep7t27y7Jly2T58uWyc+dOadmyZYUSU89W1+eq6/PVNeEaPXp0oGerh6hmtb8kqMu4cePMY+xuvfVWyc/PlxUrVphk4q233pKOHTtWe/3jfMOgNqm6HD9+XDp16iTXXnutHD582LkEPYxLnz59jMX06dONy5EjR+Ts2bPSrVu3OENY7WUHtXn99dfNFzn6GMnvfOc7cuDAAfMl4Je+9CWTxLpy/OY3vzFzqI6LAQMGVJmg+zL/anyD9hlfbIK6+LI2BXXxZV0KM5b0NT6sTUH7DOtS5pXXl7nX9s8dJOi2Ryhg/bp06WI+HOrV39TRtm1bcxVHn39e/tDnqL/44ouya9eu9J/0g/P27dvljTfeCPju9p4e1CVTS/Qq+t133y2TJ0+2t6EhahbW5nvf+55JsOrUqSMbN250LkEP6rJp0yZRkw8++ECuvvrqEJFIzkuC2uiXWzonvf/+++lGPvHEE+aK+v79+5PT8AA1rVWrVpUJui/zr7IF7TO+2AR18WVtCuvi+roUZiz5sjYF7TOsS5kXNF/m3gDLeY2cSoJeI+zxvOnp06clLy9PNmzYIP369Uu/ydixY03ypLeslD969eplrggvXrw4/Se9ojVw4EA5ceKE5OTkxFPZaiw1jEv56p0/f14KCwtFb/8fM2ZMNdY+3rcKa6N3FOhdGvoljl4tdi1BD+Oid57s3btXbrzxRlmzZo3Ur19fvvvd78pPf/pTyc3NjTeQ1Vh6GJutW7eau1F0bundu7e5s0DnGP3ysKioqBprX31vlU2C7sP8q+Jh+owPNmFcfFibwrq4vi6FHUs+rE1h+gzrUub10Ie5t/o+CYR/JxL08HbWvfLgwYPSrFkzc4vlxbfUzpw5U1atWiV79uypUOc2bdrI0KFD5eGHH07/TSctvT1ey2vSpIl17QxaoTAu5d9Df1c6e/Zsc6dBQUFB0CpYe34YG/0NcY8ePeS1114T7T/623zXEvQwLvqb6s2bN8vtt99u7rL497//bX4uctttt8kvfvELa/tA0IqFsdH3+NWvfiXDhg2TTz/91Nz2r19e6L+58CVgJsNsEnQf5l+1CdNnfLAJ4+LD2hTGxYd1KexY8mFtCtNnWJcyr/4+zL1BP/fUxPkk6DWhHtN7piYoTbC7du2afpcZM2aYK3q7d+/OmKDrh+ZJkyal/6YJviZguslR48aNY6pt9RUbxuXi2q1bt06GDx8uL7zwgkm+XDqC2pw7d05uuukmue+++9IbCbqcoAcZS9/85jfNlxa6OZxugqaHbuh01113ySeffOLMVfSgfUYddA8MHTvjx483Gy3q3PLggw/KV7/6Vfn5z3/u0pBKtyXbBN31+ffipCLIeNIPia7bhBlLPqxNQV18WZfCjiUf1qagfYZ1qfLNS32Ye5PwoYMEPQlRyrKOYW7x8eFWljAuKXLddEQ/JOrPBu68884sI5Gc04LaHDt2TK666irzu/PUobf/X7hwwfzb7373O3PFOOlHUBdt75AhQ8zdK++99166+XrHRbt27cyt7/p7fReOMDaDBg0yV851HKUO3aBHny7hyp065WObTYLuw/yrLmH6jA82YVx8WJuCuviyLoUdSz6sTUH7jFqyLmX+ROLD3JuEz2Ik6EmIUoA66iYZnTt3Nr8PTh2aIOgOnpVtEvfSSy+ZK1ypY9SoUeY3665tEhfERS30yrk+Hkv/v6pHJQUIkXWnBukzmoxf3Fe0MdrXXnnlFXO7cuvWrc1vr104grhoe4uLi0V3WNbfV3/uc58zBHrXRf/+/eXjjz925gq6tiuoje5ofsUVV5idvFOHzi/6Uxzd0V2fmODakU2Crpvx+DD/hukzvtgEHUu+rE1BXHxal8KMJV/WpiB9Rh1ZlzKvur7MvbZ/5iBBtz1CAeuXesyEbrykt7nrxFxSUmKecd6qVStzK7t+IF69erUpOfU4BX3Emj5qTT806y7umpTq5OXKEdRF2z948GCzeZ4mWKlDN/tK3b7sq035drt4i7u2MWif0SRcNz3TnwBMnTrV/AZdfxqhjxfTMejSEdRm5cqVZn55/PHH07e465cZtWvXNo8udOXQPpC6g0I331ywYIHZHE939dfHXPo6/4YZT6xNmddsX9amoHOML+tSmLHky9oUtM+wLrEu2fzZgwTd5uiErJte0dTHF+nvPDt06GCePay3rOihG8KVlpaazaxSh+7urr8N1SRer2Tpt2eapLt2BHG55ZZbMu56r7eK6aTu2hHExqcPQkFddJ+HH/7wh+ZW90aNGpmdynWXe5d2cU/FP6iNPlZNvzjUxCs/P9/8FGLOnDlmY0tXDp1XNSEvf6TmDZ/nXzUJ2mdYmyqu2T6tTUH7y8XjztUvjsPOv76sTUH7DOvSSq/zAps/e5Cg2xwd6oYAAggggAACCCCAAAIIIOCNAAm6N6GmoQgggAACCCCAAAIIIIAAAjYLkKDbHB3qhgACCCCAAAIIIIAAAggg4I0ACbo3oaahCCCAAAIIIIAAAggggAACNguQoNscHeqGAAIIIIAAAggggAACCCDgjQAJujehpqEIIIAAAggggAACCCCAAAI2C5Cg2xwd6oYAAggggAACCCCAAAIIIOCNAAm6N6GmoQgggAACCCCAAAIIIIAAAjYLkKDbHB3qhgACCCCAAAIIIIAAAggg4I0ACbo3oaahCCCAAAIIIIAAAggggAACNguQoNscHeqGAAIIIIAAAggggAACCCDgjQAJujehpqEIIIAAAggggAACCCCAAAI2C5Cg2xwd6oYAAggggAACCCCAAAIIIOCNAAm6N6GmoQgggAACCCCAAAIIIIAAAjYLkKDbHB3qhgACCCCAAAIIIIAAAggg4I0ACbo3oaahCCCAAAIIIIAAAggggAACNguQoNscHeqGAAIIIIAAAggggAACCCDgjQAJujehpqEIIIAAAggggAACCCCAAAI2C5Cg2xwd6oYAAggggAACCCCAAAIIIOCNAAm6N6GmoQgggAACCCCAAAIIIIAAAjYLkKDbHB3qhgACCCCAAAIIIIAAAggg4I0ACbo3oaahCCCAAAIIIIAAAggggAACNguQoNscHeqGAAIIIIAAAggggAACCCDgjQAJujehpqEIIIAAAggggAACCCCAAAI2C5Cg2xwd6oYAAggggAACCCCAAAIIIOCNAAm6N6GmoQgggAACCCCAAAIIIIAAAjYLkKDbHB3qhgACCCCAAAIIIIAAAggg4I0ACbo3oaahCCCAAAIIIIAAAggggAACNguQoNscHeqGAAIIIIAAAggggAACCCDgjQAJujehpqEIIIAAAggggAACCCCAAAI2C5Cg2xwd6oYAAggggAACCCCAAAIIIOCNAAm6N6GmoQgggAACCCCAAAIIIIAAAjYLkKDbHB3qhgACCCCAAAIIIIAAAggg4I0ACbo3oaahCCCAAAIIIIAAAggggAACNguQoNscHeqGAAIIIIAAAggggAACCCDgjQAJujehpqEIIICA3wLnzp2TM2fO+I2Q4Nbn5ORInTp1EtwCqo4AAggggEDVAiToVRtxBgIIIIBAggUuXLgghw4dkmPHjiW4FVRdBfLz86Vx48ZSq1YtQBBAAAEEEHBSgATdybDSKAQQQACBlEBZWZlJzgsKCiQvL4/kLoFdQ79kOXHihBw5csQk6U2aNElgK6gyAggggAACVQuQoFdtxBkIIIAAAgkV0Nva9+7da5LzRo0aJbQVVDsl8NFHH5kkvU2bNtzuTrdAAAEEEHBSgATdybDSKAQQQAABFfj0009l3759UlhYKLm5uaAkXODkyZNSWloqrVu3lnr16iW8NVQfAQQQQACBigIk6PQKBBBAAAFnBVIJOgmdGyEmnm7EkVYggAACCFQuQIJO70AAAQQQcFaAhM6t0BJPt+JJaxBAAAEEuIJOH0AAAQQQ8EiAhK7qYE+ZMkU2btwo27ZtMycPHTrUbKqn/1adR+rW9XfeeUduuOGGjG9NPKszIrwXAggggEBNCHAFvSbUeU8EEEAAgWoRSHJCp4nyqlWrjNMVV1whLVq0kP79+8vUqVOlfv36kfmVT9CPHz8uumu67pZe1ZFNUl1VGam/Z1NWkuOZrQPnIYAAAgj4LUCC7nf8aT0CCCDgtECSEzpN0A8fPiwrVqyQM2fOyGuvvSbDhw+XIUOGyNKlSz8TN/17Tk5OqFiWT9CDFJJNUp1tedmUleR4ZuvAeQgggAACfguQoPsdf1qPAAIIOC2Q5IQu063mI0aMkF//+tcycuRIcwv6Aw88INOnTzc7m+sj5f773//Kgw8+aP6mbb/xxhtl4cKF8pWvfCUd59mzZ5t/0+eKDxw4UL7whS/Ipk2bKr3F/fz58zJv3jwpKSmR/fv3yxe/+EXz/o888kiFZ8rffPPNsnnzZvNe+sXC3Llz07voa11Hjx6drsef//xnU86uXbukQ4cOpjy9Q4Bb3J0ekjQOAQQQQKAKARJ0uggCCCCAgLMCmRJ0vX375JlzNdLm3Jw6FZLayiqSKUHXJPeZZ56RMWPGyPz586VHjx4ya9Ys80zw66+/Xnr27ClXX321TJ48WRo2bCjLli2TlStXmmfB67//8pe/lEGDBslTTz1lzl2zZo08/vjjcs0111SaoD/00EMmOdekXt+vrKxMdu/eba7m/+Uvf5Gvfe1r8oc//EHat28vV155pXkfPf+xxx6TJ598Ujp27GiSbv1yYcGCBeYOgE8++cQ8Ku22226TRx991CTxY8eOlQ8++IAEvUZ6Jm+KAAIIIGCLAAm6LZGgHggggAACkQtkStBPnD4r7Sb/NvL3yqbAndPukLwrr8jm1AqbtekV529/+9vy9a9/Xdq2bSszZ86UAwcOmCvgerzyyivSr18/OXLkiNStWzf9Htdee61MnDhRfvCDH0i3bt3M1fSLb5G/6aabzNX2TJvE/e9//zPla6KtCXn5o7Lb0lu2bClz5syRe+65J/0SvdL/8ssvy9atW6W4uFgmTZpkrsjn5eWZc4qKimTUqFEk6Fn1Dk5CAAEEEHBVgATd1cjSLgQQQAABk3jq1dmLn4OepAR97dq1Uq9ePTl79qz5HXqfPn1MIrtkyRJ5+umn5d13301HWW9D//GPfyy5ubmfifzJkyflRz/6kUmYr7rqKlm8eLEMHjw4fc748ePlj3/8Y8YEXb8U6NKli7myrYbZJOgffvihFBQUmHrUrl07/RJtg17V19/V63tu377dfKmQOvS/dfd2bnFn4CKAAAII+CxAgu5z9Gk7Aggg4LhA0m9x1yvkerVbN4Br2rRpeiO4TBu7aQL+xBNPpH8DfnFodUf2z3/+84ET9L///e/y5S9/OVCCrgl448aNRb9c0OT+4kNvxddEf9y4cfK3v/2NBN3x8UfzEEAAAQSCC5CgBzfjFQgggAACCRFwbZO4FHumBP33v/+99O7dW9577z0pLCzMGCG9xV2vUusV+NTRtWtX0avsmW5xVz/9Tbn+Tj3TLe4HDx6UZs2aydtvvy2dO3dOl9m8eXOzAZz+vjzTkbrF/V//+lf6ir/+Xv7+++/nCnpCxhbVRAABBBCIR4AEPR5XSkUAAQQQsEDApwRdN7/r1auX6O/G9Wr6ddddJ5pA6++++/bta3Z0X79+vdmkTRN03fBNb5PXzd8utUmcPnddb4tftGiRdO/eXfQW9h07dsh9991nbr1v0KCB2YFdE3i9HV9vY1++fLnZYV43sNMvDU6dOmWS+KNHj8qECRPk448/NlfSv/GNb8hPfvITswu9bhKnXy5wi7sFA4cqIIAAAgjUmAAJeo3R88YIIIAAAnEL+JSgq6Um55osP/vssyaR1lvNNWnXRLlFixaGWzeX06RcbQYMGGAem/bb3/72ko9Z09frzuya8Ddp0sRc6dZN3vTQZHzatGlmwzrdGT71mDXdbV5/F79z506pX7++2WVeb23Xjez0ePPNN005+pi1du3amavtWh8S9LhHBeUjgAACCNgsQIJuc3SoGwIIIIDAZQkkOUG/rIY7+mLi6WhgaRYCCCCAQFqABJ3OgAACCCDgrAAJnVuhJZ5uxZPWIIAAAghUFCBBp1cggAACCDgrQELnVmiJp1vxpDUIIIAAAiTo9AEEEEAAAY8ESOjcCjbxdCuetAYBBBBAgASdPoAAAggg4JEACZ1bwSaebsWT1iCAAAIIkKDTBxBAAAEEPBIgoXMr2MTTrXjSGgQQQAABEnT6AAIIIICARwIkdG4Fm3i6FU9agwACCCBAgk4fQAABBBDwSICEzq1gE0+34klrEEAAAQRI0OkDCCCAAAIeCZDQuRVs4ulWPGkNAggggAAJOn0AAQQQQMAjARI6t4JNPN2KJ61BAAEEECBBpw8ggAACCHgkkNSErlatWpeM0pAhQ2TlypUeRfL/NzWp8fQuUDQYAQQQQCC0QK0L/+8I/WpeiAACCCCAgMUCSU3oDh06lFZdv369TJ48Wfbs2ZP+t9zcXGnYsGH6v8+cOSM5OTkWRyKaqiU1ntG0nlIQQAABBHwQIEH3Icq0EQEEEPBUwIWETq+Ujxs3To4dO2aiWFpaKq1btxZN3JcsWSJvvvmmLF26VP7xj3/Ixo0bZdu2beloL1q0SPR/+prUsWLFCpk7d67s27dPCgsL5YEHHpDRo0cnooe4EM9EQFNJBBBAAIEaEyBBrzF63hgBBBBAIG4BFxK6yhJ0Ta5/9rOfSceOHaVu3bpSXFxcZYJeUlIijz32mDz55JPmde+8846MGDFCFixYIHrbvO2HC/G03Zj6IYAAAgjUrAAJes368+4IIIAAAjEKZEzo9JddZ07E+K6XKDonT6SK35eXf3VlCbpeGR87dmz69ClTplSZoLds2VLmzJkj99xzT/p106dPl5dfflm2bt1aMyYB3pUEPQAWpyKAAAIIJFKABD2RYaPSCCCAAALZCGRM6E5/IjKzaTYvj/6chw+KXFk/ULmVJeivv/66dO/ePesE/cMPP5SCggLR36/Xrl07/bqzZ8+a37MfPnw4UL1q4mQS9JpQ5z0RQAABBKpTgAS9OrV5LwQQQACBahVwOUHX29NvuOGGtOe0adPk2Wefle3bt6f/bd68efLUU0+Z36BrAt64cWNZu3atdOnS5TNxqFOnjvldu+0HCbrtEaJ+CCCAAAKXK0CCfrmCvB4BBBBAwFoBl29xL5+g60Zxepu77gCfekzb97//fdmyZUt6k7jmzZvLyJEj5dFHH7U2ZpeqGAl6IsNGpRFAAAEEAgiQoAfA4lQEEEAAgWQJuJDQVXaLe/kEfdeuXdK+fXuZNWuW3HXXXbJp0yaTiDdo0CCdoC9fvtzs2q7n9O7dW06dOiVvv/22HD16VCZMmGB9cF2Ip/XIVBABBBBAoEYFSNBrlJ83RwABBBCIU8CFhC7bBF0di4qKZObMmfKf//xHBgwYINddd53Z3f3ix6w988wzore+79y5U+rXry/XX3+9eYxbv3794gxFJGW7EM9IICgEAQQQQMBZARJ0Z0NLwxBAAAEESOjc6gPE06140hoEEEAAgYoCJOj0CgQQQAABZwVI6NwKLfF0K560BgEEEECABJ0+gAACCCDgkQAJnVvBJp5uxZPWIIAAAgiQoNMHEEAAAQQ8EiChcyvYxNOteNIaBBBAAAESdPoAAggggIBHAiR0bgWbeLoVT1qDAAIIIECCTh9AAAEEEPBIgITOrWATT7fiSWsQQAABBEjQ6QMIIIAAAh4JpBK6wsJCyc3N9ajlbjb15MmT5pFxrVu3lnr16rnZSFqFAAIIIOC1ALu4ex1+ELixlwAAAT1JREFUGo8AAgi4LXDu3DnZu3evFBQUSKNGjdxurAet++ijj+TIkSPSpk0bqVOnjgctpokIIIAAAr4JkKD7FnHaiwACCHgmUFZWJseOHTNJel5entSqVcszgeQ398KFC3LixAmTnOfn50uTJk2S3yhagAACCCCAQAYBEnS6BQIIIICA0wKa3B06dMgk6RzJFtDkvHHjxnzJkuwwUnsEEEAAgUsIkKDTPRBAAAEEvBDQ293PnDnjRVtdbGROTg63tbsYWNqEAAIIIPAZARJ0OgQCCCCAAAIIIIAAAggggAACFgiQoFsQBKqAAAIIIIAAAggggAACCCCAAAk6fQABBBBAAAEEEEAAAQQQQAABCwRI0C0IAlVAAAEEEEAAAQQQQAABBBBAgASdPoAAAggggAACCCCAAAIIIICABQL/B9cfO85qCEi0AAAAAElFTkSuQmCC\" width=\"1000\">"
      ],
      "text/plain": [
       "<IPython.core.display.HTML object>"
      ]
     },
     "metadata": {},
     "output_type": "display_data"
    },
    {
     "name": "stderr",
     "output_type": "stream",
     "text": [
      "/tmp/ipykernel_574043/927488179.py:87: UserWarning: You have mixed positional and keyword arguments, some input may be discarded.\n",
      "  fig.legend([line,z], labels = [\"Predicted\", \"True\"], loc = \"lower center\")\n",
      "Epoch: 2:   0%|                                                                                                             | 2/20000 [01:51<332:45:00, 59.90s/it, lowest_loss=0.00465, pred_loss=0.259, trigger=2]"
     ]
    },
    {
     "name": "stdout",
     "output_type": "stream",
     "text": [
      "Optimizer shows weird behaviour, reinitializing at previous best_State\n"
     ]
    },
    {
     "name": "stderr",
     "output_type": "stream",
     "text": [
      "Epoch: 4:   0%|                                                                                                              | 4/20000 [04:10<345:40:36, 62.23s/it, lowest_loss=0.00465, pred_loss=23.9, trigger=4]"
     ]
    },
    {
     "name": "stdout",
     "output_type": "stream",
     "text": [
      "Optimizer shows weird behaviour, reinitializing at previous best_State\n"
     ]
    },
    {
     "name": "stderr",
     "output_type": "stream",
     "text": [
      "Epoch: 6:   0%|                                                                                                              | 6/20000 [05:54<303:08:03, 54.58s/it, lowest_loss=0.00465, pred_loss=23.9, trigger=6]"
     ]
    },
    {
     "name": "stdout",
     "output_type": "stream",
     "text": [
      "Optimizer shows weird behaviour, reinitializing at previous best_State\n"
     ]
    },
    {
     "name": "stderr",
     "output_type": "stream",
     "text": [
      "Epoch: 8:   0%|                                                                                                              | 8/20000 [07:38<283:18:20, 51.02s/it, lowest_loss=0.00465, pred_loss=23.9, trigger=8]"
     ]
    },
    {
     "name": "stdout",
     "output_type": "stream",
     "text": [
      "Optimizer shows weird behaviour, reinitializing at previous best_State\n"
     ]
    },
    {
     "name": "stderr",
     "output_type": "stream",
     "text": [
      "Epoch: 10:   0%|                                                                                                           | 10/20000 [09:18<268:25:17, 48.34s/it, lowest_loss=0.00465, pred_loss=23.9, trigger=10]"
     ]
    },
    {
     "name": "stdout",
     "output_type": "stream",
     "text": [
      "Optimizer shows weird behaviour, reinitializing at previous best_State\n"
     ]
    },
    {
     "name": "stderr",
     "output_type": "stream",
     "text": [
      "Epoch: 12:   0%|                                                                                                           | 12/20000 [11:09<279:12:02, 50.29s/it, lowest_loss=0.00465, pred_loss=23.9, trigger=12]"
     ]
    },
    {
     "name": "stdout",
     "output_type": "stream",
     "text": [
      "Optimizer shows weird behaviour, reinitializing at previous best_State\n"
     ]
    },
    {
     "name": "stderr",
     "output_type": "stream",
     "text": [
      "Epoch: 14:   0%|                                                                                                           | 14/20000 [12:55<277:44:31, 50.03s/it, lowest_loss=0.00465, pred_loss=23.9, trigger=14]"
     ]
    },
    {
     "name": "stdout",
     "output_type": "stream",
     "text": [
      "Optimizer shows weird behaviour, reinitializing at previous best_State\n"
     ]
    },
    {
     "name": "stderr",
     "output_type": "stream",
     "text": [
      "Epoch: 16:   0%|                                                                                                           | 16/20000 [14:37<271:19:20, 48.88s/it, lowest_loss=0.00465, pred_loss=23.9, trigger=16]"
     ]
    },
    {
     "name": "stdout",
     "output_type": "stream",
     "text": [
      "Optimizer shows weird behaviour, reinitializing at previous best_State\n"
     ]
    },
    {
     "name": "stderr",
     "output_type": "stream",
     "text": [
      "Epoch: 18:   0%|                                                                                                           | 18/20000 [16:27<277:53:30, 50.07s/it, lowest_loss=0.00465, pred_loss=23.9, trigger=18]"
     ]
    },
    {
     "name": "stdout",
     "output_type": "stream",
     "text": [
      "Optimizer shows weird behaviour, reinitializing at previous best_State\n"
     ]
    },
    {
     "name": "stderr",
     "output_type": "stream",
     "text": [
      "Epoch: 20:   0%|                                                                                                           | 20/20000 [18:15<279:39:56, 50.39s/it, lowest_loss=0.00465, pred_loss=23.9, trigger=20]"
     ]
    },
    {
     "name": "stdout",
     "output_type": "stream",
     "text": [
      "Optimizer shows weird behaviour, reinitializing at previous best_State\n"
     ]
    },
    {
     "name": "stderr",
     "output_type": "stream",
     "text": [
      "Epoch: 22:   0%|                                                                                                           | 22/20000 [19:44<255:15:40, 46.00s/it, lowest_loss=0.00465, pred_loss=23.9, trigger=22]"
     ]
    },
    {
     "name": "stdout",
     "output_type": "stream",
     "text": [
      "Optimizer shows weird behaviour, reinitializing at previous best_State\n"
     ]
    },
    {
     "name": "stderr",
     "output_type": "stream",
     "text": [
      "Epoch: 24:   0%|▏                                                                                                          | 24/20000 [21:29<264:44:24, 47.71s/it, lowest_loss=0.00465, pred_loss=23.9, trigger=24]"
     ]
    },
    {
     "name": "stdout",
     "output_type": "stream",
     "text": [
      "Optimizer shows weird behaviour, reinitializing at previous best_State\n"
     ]
    },
    {
     "name": "stderr",
     "output_type": "stream",
     "text": [
      "Epoch: 26:   0%|▏                                                                                                          | 26/20000 [22:55<242:32:11, 43.71s/it, lowest_loss=0.00465, pred_loss=23.9, trigger=26]"
     ]
    },
    {
     "name": "stdout",
     "output_type": "stream",
     "text": [
      "Optimizer shows weird behaviour, reinitializing at previous best_State\n"
     ]
    },
    {
     "name": "stderr",
     "output_type": "stream",
     "text": [
      "Epoch: 28:   0%|▏                                                                                                          | 28/20000 [24:25<237:16:39, 42.77s/it, lowest_loss=0.00465, pred_loss=23.9, trigger=28]"
     ]
    },
    {
     "name": "stdout",
     "output_type": "stream",
     "text": [
      "Optimizer shows weird behaviour, reinitializing at previous best_State\n"
     ]
    },
    {
     "name": "stderr",
     "output_type": "stream",
     "text": [
      "Epoch: 30:   0%|▏                                                                                                          | 30/20000 [26:02<245:03:37, 44.18s/it, lowest_loss=0.00465, pred_loss=23.9, trigger=30]"
     ]
    },
    {
     "name": "stdout",
     "output_type": "stream",
     "text": [
      "Optimizer shows weird behaviour, reinitializing at previous best_State\n"
     ]
    },
    {
     "name": "stderr",
     "output_type": "stream",
     "text": [
      "Epoch: 32:   0%|▏                                                                                                          | 32/20000 [27:37<246:25:16, 44.43s/it, lowest_loss=0.00465, pred_loss=23.9, trigger=32]"
     ]
    },
    {
     "name": "stdout",
     "output_type": "stream",
     "text": [
      "Optimizer shows weird behaviour, reinitializing at previous best_State\n"
     ]
    },
    {
     "name": "stderr",
     "output_type": "stream",
     "text": [
      "Epoch: 34:   0%|▏                                                                                                          | 34/20000 [29:12<246:43:31, 44.49s/it, lowest_loss=0.00465, pred_loss=23.9, trigger=34]"
     ]
    },
    {
     "name": "stdout",
     "output_type": "stream",
     "text": [
      "Optimizer shows weird behaviour, reinitializing at previous best_State\n"
     ]
    },
    {
     "name": "stderr",
     "output_type": "stream",
     "text": [
      "Epoch: 36:   0%|▏                                                                                                          | 36/20000 [30:44<242:07:04, 43.66s/it, lowest_loss=0.00465, pred_loss=23.9, trigger=36]"
     ]
    },
    {
     "name": "stdout",
     "output_type": "stream",
     "text": [
      "Optimizer shows weird behaviour, reinitializing at previous best_State\n"
     ]
    },
    {
     "name": "stderr",
     "output_type": "stream",
     "text": [
      "Epoch: 38:   0%|▏                                                                                                          | 38/20000 [32:14<239:09:05, 43.13s/it, lowest_loss=0.00465, pred_loss=23.9, trigger=38]"
     ]
    },
    {
     "name": "stdout",
     "output_type": "stream",
     "text": [
      "Optimizer shows weird behaviour, reinitializing at previous best_State\n"
     ]
    },
    {
     "name": "stderr",
     "output_type": "stream",
     "text": [
      "Epoch: 40:   0%|▏                                                                                                          | 40/20000 [33:54<249:35:58, 45.02s/it, lowest_loss=0.00465, pred_loss=23.9, trigger=40]"
     ]
    },
    {
     "name": "stdout",
     "output_type": "stream",
     "text": [
      "Optimizer shows weird behaviour, reinitializing at previous best_State\n"
     ]
    },
    {
     "name": "stderr",
     "output_type": "stream",
     "text": [
      "Epoch: 42:   0%|▏                                                                                                          | 42/20000 [35:22<237:36:53, 42.86s/it, lowest_loss=0.00465, pred_loss=23.9, trigger=42]"
     ]
    },
    {
     "name": "stdout",
     "output_type": "stream",
     "text": [
      "Optimizer shows weird behaviour, reinitializing at previous best_State\n"
     ]
    },
    {
     "name": "stderr",
     "output_type": "stream",
     "text": [
      "Epoch: 44:   0%|▏                                                                                                          | 44/20000 [36:58<242:18:20, 43.71s/it, lowest_loss=0.00465, pred_loss=23.9, trigger=44]"
     ]
    },
    {
     "name": "stdout",
     "output_type": "stream",
     "text": [
      "Optimizer shows weird behaviour, reinitializing at previous best_State\n"
     ]
    },
    {
     "name": "stderr",
     "output_type": "stream",
     "text": [
      "Epoch: 46:   0%|▏                                                                                                          | 46/20000 [38:29<238:48:57, 43.09s/it, lowest_loss=0.00465, pred_loss=23.9, trigger=46]"
     ]
    },
    {
     "name": "stdout",
     "output_type": "stream",
     "text": [
      "Optimizer shows weird behaviour, reinitializing at previous best_State\n"
     ]
    },
    {
     "name": "stderr",
     "output_type": "stream",
     "text": [
      "Epoch: 48:   0%|▎                                                                                                          | 48/20000 [39:59<235:54:51, 42.57s/it, lowest_loss=0.00465, pred_loss=23.9, trigger=48]"
     ]
    },
    {
     "name": "stdout",
     "output_type": "stream",
     "text": [
      "Optimizer shows weird behaviour, reinitializing at previous best_State\n"
     ]
    },
    {
     "name": "stderr",
     "output_type": "stream",
     "text": [
      "Epoch: 50:   0%|▎                                                                                                          | 50/20000 [41:36<240:44:00, 43.44s/it, lowest_loss=0.00465, pred_loss=23.9, trigger=50]"
     ]
    },
    {
     "name": "stdout",
     "output_type": "stream",
     "text": [
      "Optimizer shows weird behaviour, reinitializing at previous best_State\n"
     ]
    },
    {
     "name": "stderr",
     "output_type": "stream",
     "text": [
      "Epoch: 52:   0%|▎                                                                                                          | 52/20000 [43:17<250:28:12, 45.20s/it, lowest_loss=0.00465, pred_loss=23.9, trigger=52]"
     ]
    },
    {
     "name": "stdout",
     "output_type": "stream",
     "text": [
      "Optimizer shows weird behaviour, reinitializing at previous best_State\n"
     ]
    },
    {
     "name": "stderr",
     "output_type": "stream",
     "text": [
      "Epoch: 54:   0%|▎                                                                                                          | 54/20000 [44:47<240:51:21, 43.47s/it, lowest_loss=0.00465, pred_loss=23.9, trigger=54]"
     ]
    },
    {
     "name": "stdout",
     "output_type": "stream",
     "text": [
      "Optimizer shows weird behaviour, reinitializing at previous best_State\n"
     ]
    },
    {
     "name": "stderr",
     "output_type": "stream",
     "text": [
      "Epoch: 56:   0%|▎                                                                                                          | 56/20000 [46:18<237:17:06, 42.83s/it, lowest_loss=0.00465, pred_loss=23.9, trigger=56]"
     ]
    },
    {
     "name": "stdout",
     "output_type": "stream",
     "text": [
      "Optimizer shows weird behaviour, reinitializing at previous best_State\n"
     ]
    },
    {
     "name": "stderr",
     "output_type": "stream",
     "text": [
      "Epoch: 58:   0%|▎                                                                                                          | 58/20000 [47:50<238:07:42, 42.99s/it, lowest_loss=0.00465, pred_loss=23.9, trigger=58]"
     ]
    },
    {
     "name": "stdout",
     "output_type": "stream",
     "text": [
      "Optimizer shows weird behaviour, reinitializing at previous best_State\n"
     ]
    },
    {
     "name": "stderr",
     "output_type": "stream",
     "text": [
      "Epoch: 60:   0%|▎                                                                                                          | 60/20000 [49:20<235:00:55, 42.43s/it, lowest_loss=0.00465, pred_loss=23.9, trigger=60]"
     ]
    },
    {
     "name": "stdout",
     "output_type": "stream",
     "text": [
      "Optimizer shows weird behaviour, reinitializing at previous best_State\n"
     ]
    },
    {
     "name": "stderr",
     "output_type": "stream",
     "text": [
      "Epoch: 62:   0%|▎                                                                                                          | 62/20000 [50:56<241:17:49, 43.57s/it, lowest_loss=0.00465, pred_loss=23.9, trigger=62]"
     ]
    },
    {
     "name": "stdout",
     "output_type": "stream",
     "text": [
      "Optimizer shows weird behaviour, reinitializing at previous best_State\n"
     ]
    },
    {
     "name": "stderr",
     "output_type": "stream",
     "text": [
      "Epoch: 64:   0%|▎                                                                                                          | 64/20000 [52:24<234:26:31, 42.34s/it, lowest_loss=0.00465, pred_loss=23.9, trigger=64]"
     ]
    },
    {
     "name": "stdout",
     "output_type": "stream",
     "text": [
      "Optimizer shows weird behaviour, reinitializing at previous best_State\n"
     ]
    },
    {
     "name": "stderr",
     "output_type": "stream",
     "text": [
      "Epoch: 66:   0%|▎                                                                                                          | 66/20000 [53:57<238:09:09, 43.01s/it, lowest_loss=0.00465, pred_loss=23.9, trigger=66]"
     ]
    },
    {
     "name": "stdout",
     "output_type": "stream",
     "text": [
      "Optimizer shows weird behaviour, reinitializing at previous best_State\n"
     ]
    },
    {
     "name": "stderr",
     "output_type": "stream",
     "text": [
      "Epoch: 68:   0%|▎                                                                                                          | 68/20000 [55:32<241:21:47, 43.59s/it, lowest_loss=0.00465, pred_loss=23.9, trigger=68]"
     ]
    },
    {
     "name": "stdout",
     "output_type": "stream",
     "text": [
      "Optimizer shows weird behaviour, reinitializing at previous best_State\n"
     ]
    },
    {
     "name": "stderr",
     "output_type": "stream",
     "text": [
      "Epoch: 70:   0%|▎                                                                                                          | 70/20000 [57:05<243:56:27, 44.06s/it, lowest_loss=0.00465, pred_loss=23.9, trigger=70]"
     ]
    },
    {
     "name": "stdout",
     "output_type": "stream",
     "text": [
      "Optimizer shows weird behaviour, reinitializing at previous best_State\n"
     ]
    },
    {
     "name": "stderr",
     "output_type": "stream",
     "text": [
      "Epoch: 72:   0%|▍                                                                                                          | 72/20000 [58:27<225:38:34, 40.76s/it, lowest_loss=0.00465, pred_loss=23.9, trigger=72]"
     ]
    },
    {
     "name": "stdout",
     "output_type": "stream",
     "text": [
      "Optimizer shows weird behaviour, reinitializing at previous best_State\n"
     ]
    },
    {
     "name": "stderr",
     "output_type": "stream",
     "text": [
      "Epoch: 74:   0%|▍                                                                                                          | 74/20000 [59:48<219:13:50, 39.61s/it, lowest_loss=0.00465, pred_loss=23.9, trigger=74]"
     ]
    },
    {
     "name": "stdout",
     "output_type": "stream",
     "text": [
      "Optimizer shows weird behaviour, reinitializing at previous best_State\n"
     ]
    },
    {
     "name": "stderr",
     "output_type": "stream",
     "text": [
      "Epoch: 76:   0%|▍                                                                                                        | 76/20000 [1:01:17<225:22:38, 40.72s/it, lowest_loss=0.00465, pred_loss=23.9, trigger=76]"
     ]
    },
    {
     "name": "stdout",
     "output_type": "stream",
     "text": [
      "Optimizer shows weird behaviour, reinitializing at previous best_State\n"
     ]
    },
    {
     "name": "stderr",
     "output_type": "stream",
     "text": [
      "Epoch: 78:   0%|▍                                                                                                        | 78/20000 [1:02:49<230:29:52, 41.65s/it, lowest_loss=0.00465, pred_loss=23.9, trigger=78]"
     ]
    },
    {
     "name": "stdout",
     "output_type": "stream",
     "text": [
      "Optimizer shows weird behaviour, reinitializing at previous best_State\n"
     ]
    },
    {
     "name": "stderr",
     "output_type": "stream",
     "text": [
      "Epoch: 80:   0%|▍                                                                                                        | 80/20000 [1:04:27<240:48:43, 43.52s/it, lowest_loss=0.00465, pred_loss=23.9, trigger=80]"
     ]
    },
    {
     "name": "stdout",
     "output_type": "stream",
     "text": [
      "Optimizer shows weird behaviour, reinitializing at previous best_State\n"
     ]
    },
    {
     "name": "stderr",
     "output_type": "stream",
     "text": [
      "Epoch: 82:   0%|▍                                                                                                        | 82/20000 [1:06:00<240:51:07, 43.53s/it, lowest_loss=0.00465, pred_loss=23.9, trigger=82]"
     ]
    },
    {
     "name": "stdout",
     "output_type": "stream",
     "text": [
      "Optimizer shows weird behaviour, reinitializing at previous best_State\n"
     ]
    },
    {
     "name": "stderr",
     "output_type": "stream",
     "text": [
      "Epoch: 84:   0%|▍                                                                                                        | 84/20000 [1:07:26<234:08:24, 42.32s/it, lowest_loss=0.00465, pred_loss=23.9, trigger=84]"
     ]
    },
    {
     "name": "stdout",
     "output_type": "stream",
     "text": [
      "Optimizer shows weird behaviour, reinitializing at previous best_State\n"
     ]
    },
    {
     "name": "stderr",
     "output_type": "stream",
     "text": [
      "Epoch: 86:   0%|▍                                                                                                        | 86/20000 [1:08:53<228:54:58, 41.38s/it, lowest_loss=0.00465, pred_loss=23.9, trigger=86]"
     ]
    },
    {
     "name": "stdout",
     "output_type": "stream",
     "text": [
      "Optimizer shows weird behaviour, reinitializing at previous best_State\n"
     ]
    },
    {
     "name": "stderr",
     "output_type": "stream",
     "text": [
      "Epoch: 88:   0%|▍                                                                                                        | 88/20000 [1:10:28<236:16:23, 42.72s/it, lowest_loss=0.00465, pred_loss=23.9, trigger=88]"
     ]
    },
    {
     "name": "stdout",
     "output_type": "stream",
     "text": [
      "Optimizer shows weird behaviour, reinitializing at previous best_State\n"
     ]
    },
    {
     "name": "stderr",
     "output_type": "stream",
     "text": [
      "Epoch: 90:   0%|▍                                                                                                        | 90/20000 [1:12:09<250:31:03, 45.30s/it, lowest_loss=0.00465, pred_loss=23.9, trigger=90]"
     ]
    },
    {
     "name": "stdout",
     "output_type": "stream",
     "text": [
      "Optimizer shows weird behaviour, reinitializing at previous best_State\n"
     ]
    },
    {
     "name": "stderr",
     "output_type": "stream",
     "text": [
      "Epoch: 92:   0%|▍                                                                                                        | 92/20000 [1:13:41<243:47:36, 44.09s/it, lowest_loss=0.00465, pred_loss=23.9, trigger=92]"
     ]
    },
    {
     "name": "stdout",
     "output_type": "stream",
     "text": [
      "Optimizer shows weird behaviour, reinitializing at previous best_State\n"
     ]
    },
    {
     "name": "stderr",
     "output_type": "stream",
     "text": [
      "Epoch: 94:   0%|▍                                                                                                        | 94/20000 [1:15:12<241:14:36, 43.63s/it, lowest_loss=0.00465, pred_loss=23.9, trigger=94]"
     ]
    },
    {
     "name": "stdout",
     "output_type": "stream",
     "text": [
      "Optimizer shows weird behaviour, reinitializing at previous best_State\n"
     ]
    },
    {
     "name": "stderr",
     "output_type": "stream",
     "text": [
      "Epoch: 96:   0%|▌                                                                                                        | 96/20000 [1:16:48<243:13:41, 43.99s/it, lowest_loss=0.00465, pred_loss=23.9, trigger=96]"
     ]
    },
    {
     "name": "stdout",
     "output_type": "stream",
     "text": [
      "Optimizer shows weird behaviour, reinitializing at previous best_State\n"
     ]
    },
    {
     "name": "stderr",
     "output_type": "stream",
     "text": [
      "Epoch: 98:   0%|▌                                                                                                        | 98/20000 [1:18:18<237:47:05, 43.01s/it, lowest_loss=0.00465, pred_loss=23.9, trigger=98]"
     ]
    },
    {
     "name": "stdout",
     "output_type": "stream",
     "text": [
      "Optimizer shows weird behaviour, reinitializing at previous best_State\n"
     ]
    },
    {
     "name": "stderr",
     "output_type": "stream",
     "text": [
      "Epoch: 100:   0%|▌                                                                                                     | 100/20000 [1:19:47<235:11:59, 42.55s/it, lowest_loss=0.00465, pred_loss=23.9, trigger=100]"
     ]
    },
    {
     "name": "stdout",
     "output_type": "stream",
     "text": [
      "Optimizer shows weird behaviour, reinitializing at previous best_State\n"
     ]
    },
    {
     "name": "stderr",
     "output_type": "stream",
     "text": [
      "Epoch: 102:   1%|▌                                                                                                     | 102/20000 [1:21:21<238:49:42, 43.21s/it, lowest_loss=0.00465, pred_loss=23.9, trigger=102]"
     ]
    },
    {
     "name": "stdout",
     "output_type": "stream",
     "text": [
      "Optimizer shows weird behaviour, reinitializing at previous best_State\n"
     ]
    },
    {
     "name": "stderr",
     "output_type": "stream",
     "text": [
      "Epoch: 104:   1%|▌                                                                                                     | 104/20000 [1:22:54<238:39:18, 43.18s/it, lowest_loss=0.00465, pred_loss=23.9, trigger=104]"
     ]
    },
    {
     "name": "stdout",
     "output_type": "stream",
     "text": [
      "Optimizer shows weird behaviour, reinitializing at previous best_State\n"
     ]
    },
    {
     "name": "stderr",
     "output_type": "stream",
     "text": [
      "Epoch: 106:   1%|▌                                                                                                     | 106/20000 [1:24:31<244:38:52, 44.27s/it, lowest_loss=0.00465, pred_loss=23.9, trigger=106]"
     ]
    },
    {
     "name": "stdout",
     "output_type": "stream",
     "text": [
      "Optimizer shows weird behaviour, reinitializing at previous best_State\n"
     ]
    },
    {
     "name": "stderr",
     "output_type": "stream",
     "text": [
      "Epoch: 108:   1%|▌                                                                                                     | 108/20000 [1:26:03<240:19:26, 43.49s/it, lowest_loss=0.00465, pred_loss=23.9, trigger=108]"
     ]
    },
    {
     "name": "stdout",
     "output_type": "stream",
     "text": [
      "Optimizer shows weird behaviour, reinitializing at previous best_State\n"
     ]
    },
    {
     "name": "stderr",
     "output_type": "stream",
     "text": [
      "Epoch: 110:   1%|▌                                                                                                     | 110/20000 [1:27:30<233:33:49, 42.27s/it, lowest_loss=0.00465, pred_loss=23.9, trigger=110]"
     ]
    },
    {
     "name": "stdout",
     "output_type": "stream",
     "text": [
      "Optimizer shows weird behaviour, reinitializing at previous best_State\n"
     ]
    },
    {
     "name": "stderr",
     "output_type": "stream",
     "text": [
      "Epoch: 112:   1%|▌                                                                                                     | 112/20000 [1:28:57<230:43:34, 41.76s/it, lowest_loss=0.00465, pred_loss=23.9, trigger=112]"
     ]
    },
    {
     "name": "stdout",
     "output_type": "stream",
     "text": [
      "Optimizer shows weird behaviour, reinitializing at previous best_State\n"
     ]
    },
    {
     "name": "stderr",
     "output_type": "stream",
     "text": [
      "Epoch: 114:   1%|▌                                                                                                     | 114/20000 [1:30:32<237:59:38, 43.08s/it, lowest_loss=0.00465, pred_loss=23.9, trigger=114]"
     ]
    },
    {
     "name": "stdout",
     "output_type": "stream",
     "text": [
      "Optimizer shows weird behaviour, reinitializing at previous best_State\n"
     ]
    },
    {
     "name": "stderr",
     "output_type": "stream",
     "text": [
      "Epoch: 116:   1%|▌                                                                                                     | 116/20000 [1:31:57<228:03:32, 41.29s/it, lowest_loss=0.00465, pred_loss=23.9, trigger=116]"
     ]
    },
    {
     "name": "stdout",
     "output_type": "stream",
     "text": [
      "Optimizer shows weird behaviour, reinitializing at previous best_State\n"
     ]
    },
    {
     "name": "stderr",
     "output_type": "stream",
     "text": [
      "Epoch: 118:   1%|▌                                                                                                     | 118/20000 [1:33:24<227:12:06, 41.14s/it, lowest_loss=0.00465, pred_loss=23.9, trigger=118]"
     ]
    },
    {
     "name": "stdout",
     "output_type": "stream",
     "text": [
      "Optimizer shows weird behaviour, reinitializing at previous best_State\n"
     ]
    },
    {
     "name": "stderr",
     "output_type": "stream",
     "text": [
      "Epoch: 120:   1%|▌                                                                                                     | 120/20000 [1:34:53<226:55:33, 41.09s/it, lowest_loss=0.00465, pred_loss=23.9, trigger=120]"
     ]
    },
    {
     "name": "stdout",
     "output_type": "stream",
     "text": [
      "Optimizer shows weird behaviour, reinitializing at previous best_State\n"
     ]
    },
    {
     "name": "stderr",
     "output_type": "stream",
     "text": [
      "Epoch: 122:   1%|▌                                                                                                     | 122/20000 [1:36:18<223:57:06, 40.56s/it, lowest_loss=0.00465, pred_loss=23.9, trigger=122]"
     ]
    },
    {
     "name": "stdout",
     "output_type": "stream",
     "text": [
      "Optimizer shows weird behaviour, reinitializing at previous best_State\n"
     ]
    },
    {
     "name": "stderr",
     "output_type": "stream",
     "text": [
      "Epoch: 124:   1%|▋                                                                                                     | 124/20000 [1:37:50<231:56:02, 42.01s/it, lowest_loss=0.00465, pred_loss=23.9, trigger=124]"
     ]
    },
    {
     "name": "stdout",
     "output_type": "stream",
     "text": [
      "Optimizer shows weird behaviour, reinitializing at previous best_State\n"
     ]
    },
    {
     "name": "stderr",
     "output_type": "stream",
     "text": [
      "Epoch: 126:   1%|▋                                                                                                     | 126/20000 [1:39:15<226:39:57, 41.06s/it, lowest_loss=0.00465, pred_loss=23.9, trigger=126]"
     ]
    },
    {
     "name": "stdout",
     "output_type": "stream",
     "text": [
      "Optimizer shows weird behaviour, reinitializing at previous best_State\n"
     ]
    },
    {
     "name": "stderr",
     "output_type": "stream",
     "text": [
      "Epoch: 128:   1%|▋                                                                                                     | 128/20000 [1:40:41<222:28:08, 40.30s/it, lowest_loss=0.00465, pred_loss=23.9, trigger=128]"
     ]
    },
    {
     "name": "stdout",
     "output_type": "stream",
     "text": [
      "Optimizer shows weird behaviour, reinitializing at previous best_State\n"
     ]
    },
    {
     "name": "stderr",
     "output_type": "stream",
     "text": [
      "Epoch: 130:   1%|▋                                                                                                     | 130/20000 [1:42:10<225:52:43, 40.92s/it, lowest_loss=0.00465, pred_loss=23.9, trigger=130]"
     ]
    },
    {
     "name": "stdout",
     "output_type": "stream",
     "text": [
      "Optimizer shows weird behaviour, reinitializing at previous best_State\n"
     ]
    },
    {
     "name": "stderr",
     "output_type": "stream",
     "text": [
      "Epoch: 132:   1%|▋                                                                                                     | 132/20000 [1:43:38<227:46:52, 41.27s/it, lowest_loss=0.00465, pred_loss=23.9, trigger=132]"
     ]
    },
    {
     "name": "stdout",
     "output_type": "stream",
     "text": [
      "Optimizer shows weird behaviour, reinitializing at previous best_State\n"
     ]
    },
    {
     "name": "stderr",
     "output_type": "stream",
     "text": [
      "Epoch: 134:   1%|▋                                                                                                     | 134/20000 [1:45:10<232:19:08, 42.10s/it, lowest_loss=0.00465, pred_loss=23.9, trigger=134]"
     ]
    },
    {
     "name": "stdout",
     "output_type": "stream",
     "text": [
      "Optimizer shows weird behaviour, reinitializing at previous best_State\n"
     ]
    },
    {
     "name": "stderr",
     "output_type": "stream",
     "text": [
      "Epoch: 136:   1%|▋                                                                                                     | 136/20000 [1:46:50<243:04:40, 44.05s/it, lowest_loss=0.00465, pred_loss=23.9, trigger=136]"
     ]
    },
    {
     "name": "stdout",
     "output_type": "stream",
     "text": [
      "Optimizer shows weird behaviour, reinitializing at previous best_State\n"
     ]
    },
    {
     "name": "stderr",
     "output_type": "stream",
     "text": [
      "Epoch: 138:   1%|▋                                                                                                     | 138/20000 [1:48:21<239:34:42, 43.42s/it, lowest_loss=0.00465, pred_loss=23.9, trigger=138]"
     ]
    },
    {
     "name": "stdout",
     "output_type": "stream",
     "text": [
      "Optimizer shows weird behaviour, reinitializing at previous best_State\n"
     ]
    },
    {
     "name": "stderr",
     "output_type": "stream",
     "text": [
      "Epoch: 140:   1%|▋                                                                                                     | 140/20000 [1:49:40<223:01:13, 40.43s/it, lowest_loss=0.00465, pred_loss=23.9, trigger=140]"
     ]
    },
    {
     "name": "stdout",
     "output_type": "stream",
     "text": [
      "Optimizer shows weird behaviour, reinitializing at previous best_State\n"
     ]
    },
    {
     "name": "stderr",
     "output_type": "stream",
     "text": [
      "Epoch: 142:   1%|▋                                                                                                     | 142/20000 [1:51:11<228:11:20, 41.37s/it, lowest_loss=0.00465, pred_loss=23.9, trigger=142]"
     ]
    },
    {
     "name": "stdout",
     "output_type": "stream",
     "text": [
      "Optimizer shows weird behaviour, reinitializing at previous best_State\n"
     ]
    },
    {
     "name": "stderr",
     "output_type": "stream",
     "text": [
      "Epoch: 144:   1%|▋                                                                                                     | 144/20000 [1:52:40<229:49:18, 41.67s/it, lowest_loss=0.00465, pred_loss=23.9, trigger=144]"
     ]
    },
    {
     "name": "stdout",
     "output_type": "stream",
     "text": [
      "Optimizer shows weird behaviour, reinitializing at previous best_State\n"
     ]
    },
    {
     "name": "stderr",
     "output_type": "stream",
     "text": [
      "Epoch: 146:   1%|▋                                                                                                     | 146/20000 [1:54:03<220:07:03, 39.91s/it, lowest_loss=0.00465, pred_loss=23.9, trigger=146]"
     ]
    },
    {
     "name": "stdout",
     "output_type": "stream",
     "text": [
      "Optimizer shows weird behaviour, reinitializing at previous best_State\n"
     ]
    },
    {
     "name": "stderr",
     "output_type": "stream",
     "text": [
      "Epoch: 148:   1%|▊                                                                                                     | 148/20000 [1:55:27<218:00:45, 39.53s/it, lowest_loss=0.00465, pred_loss=23.9, trigger=148]"
     ]
    },
    {
     "name": "stdout",
     "output_type": "stream",
     "text": [
      "Optimizer shows weird behaviour, reinitializing at previous best_State\n"
     ]
    },
    {
     "name": "stderr",
     "output_type": "stream",
     "text": [
      "Epoch: 150:   1%|▊                                                                                                     | 150/20000 [1:56:50<214:19:13, 38.87s/it, lowest_loss=0.00465, pred_loss=23.9, trigger=150]"
     ]
    },
    {
     "name": "stdout",
     "output_type": "stream",
     "text": [
      "Optimizer shows weird behaviour, reinitializing at previous best_State\n"
     ]
    },
    {
     "name": "stderr",
     "output_type": "stream",
     "text": [
      "Epoch: 152:   1%|▊                                                                                                     | 152/20000 [1:58:18<221:11:41, 40.12s/it, lowest_loss=0.00465, pred_loss=23.9, trigger=152]"
     ]
    },
    {
     "name": "stdout",
     "output_type": "stream",
     "text": [
      "Optimizer shows weird behaviour, reinitializing at previous best_State\n"
     ]
    },
    {
     "name": "stderr",
     "output_type": "stream",
     "text": [
      "Epoch: 154:   1%|▊                                                                                                     | 154/20000 [1:59:50<228:42:45, 41.49s/it, lowest_loss=0.00465, pred_loss=23.9, trigger=154]"
     ]
    },
    {
     "name": "stdout",
     "output_type": "stream",
     "text": [
      "Optimizer shows weird behaviour, reinitializing at previous best_State\n"
     ]
    },
    {
     "name": "stderr",
     "output_type": "stream",
     "text": [
      "Epoch: 156:   1%|▊                                                                                                     | 156/20000 [2:01:26<236:03:51, 42.83s/it, lowest_loss=0.00465, pred_loss=23.9, trigger=156]"
     ]
    },
    {
     "name": "stdout",
     "output_type": "stream",
     "text": [
      "Optimizer shows weird behaviour, reinitializing at previous best_State\n"
     ]
    },
    {
     "name": "stderr",
     "output_type": "stream",
     "text": [
      "Epoch: 158:   1%|▊                                                                                                     | 158/20000 [2:02:56<236:29:12, 42.91s/it, lowest_loss=0.00465, pred_loss=23.9, trigger=158]"
     ]
    },
    {
     "name": "stdout",
     "output_type": "stream",
     "text": [
      "Optimizer shows weird behaviour, reinitializing at previous best_State\n"
     ]
    },
    {
     "name": "stderr",
     "output_type": "stream",
     "text": [
      "Epoch: 160:   1%|▊                                                                                                     | 160/20000 [2:04:29<236:48:49, 42.97s/it, lowest_loss=0.00465, pred_loss=23.9, trigger=160]"
     ]
    },
    {
     "name": "stdout",
     "output_type": "stream",
     "text": [
      "Optimizer shows weird behaviour, reinitializing at previous best_State\n"
     ]
    },
    {
     "name": "stderr",
     "output_type": "stream",
     "text": [
      "Epoch: 162:   1%|▊                                                                                                     | 162/20000 [2:06:05<242:10:54, 43.95s/it, lowest_loss=0.00465, pred_loss=23.9, trigger=162]"
     ]
    },
    {
     "name": "stdout",
     "output_type": "stream",
     "text": [
      "Optimizer shows weird behaviour, reinitializing at previous best_State\n"
     ]
    },
    {
     "name": "stderr",
     "output_type": "stream",
     "text": [
      "Epoch: 164:   1%|▊                                                                                                     | 164/20000 [2:07:32<231:14:28, 41.97s/it, lowest_loss=0.00465, pred_loss=23.9, trigger=164]"
     ]
    },
    {
     "name": "stdout",
     "output_type": "stream",
     "text": [
      "Optimizer shows weird behaviour, reinitializing at previous best_State\n"
     ]
    },
    {
     "name": "stderr",
     "output_type": "stream",
     "text": [
      "Epoch: 166:   1%|▊                                                                                                     | 166/20000 [2:08:58<228:10:18, 41.41s/it, lowest_loss=0.00465, pred_loss=23.9, trigger=166]"
     ]
    },
    {
     "name": "stdout",
     "output_type": "stream",
     "text": [
      "Optimizer shows weird behaviour, reinitializing at previous best_State\n"
     ]
    },
    {
     "name": "stderr",
     "output_type": "stream",
     "text": [
      "Epoch: 168:   1%|▊                                                                                                     | 168/20000 [2:10:35<239:25:26, 43.46s/it, lowest_loss=0.00465, pred_loss=23.9, trigger=168]"
     ]
    },
    {
     "name": "stdout",
     "output_type": "stream",
     "text": [
      "Optimizer shows weird behaviour, reinitializing at previous best_State\n"
     ]
    },
    {
     "name": "stderr",
     "output_type": "stream",
     "text": [
      "Epoch: 170:   1%|▊                                                                                                     | 170/20000 [2:12:00<228:15:58, 41.44s/it, lowest_loss=0.00465, pred_loss=23.9, trigger=170]"
     ]
    },
    {
     "name": "stdout",
     "output_type": "stream",
     "text": [
      "Optimizer shows weird behaviour, reinitializing at previous best_State\n"
     ]
    },
    {
     "name": "stderr",
     "output_type": "stream",
     "text": [
      "Epoch: 172:   1%|▉                                                                                                     | 172/20000 [2:13:36<237:24:43, 43.10s/it, lowest_loss=0.00465, pred_loss=23.9, trigger=172]"
     ]
    },
    {
     "name": "stdout",
     "output_type": "stream",
     "text": [
      "Optimizer shows weird behaviour, reinitializing at previous best_State\n"
     ]
    },
    {
     "name": "stderr",
     "output_type": "stream",
     "text": [
      "Epoch: 174:   1%|▉                                                                                                     | 174/20000 [2:15:05<235:21:21, 42.74s/it, lowest_loss=0.00465, pred_loss=23.9, trigger=174]"
     ]
    },
    {
     "name": "stdout",
     "output_type": "stream",
     "text": [
      "Optimizer shows weird behaviour, reinitializing at previous best_State\n"
     ]
    },
    {
     "name": "stderr",
     "output_type": "stream",
     "text": [
      "Epoch: 176:   1%|▉                                                                                                     | 176/20000 [2:16:34<233:55:23, 42.48s/it, lowest_loss=0.00465, pred_loss=23.9, trigger=176]"
     ]
    },
    {
     "name": "stdout",
     "output_type": "stream",
     "text": [
      "Optimizer shows weird behaviour, reinitializing at previous best_State\n"
     ]
    },
    {
     "name": "stderr",
     "output_type": "stream",
     "text": [
      "Epoch: 178:   1%|▉                                                                                                     | 178/20000 [2:18:14<246:33:56, 44.78s/it, lowest_loss=0.00465, pred_loss=23.9, trigger=178]"
     ]
    },
    {
     "name": "stdout",
     "output_type": "stream",
     "text": [
      "Optimizer shows weird behaviour, reinitializing at previous best_State\n"
     ]
    },
    {
     "name": "stderr",
     "output_type": "stream",
     "text": [
      "Epoch: 180:   1%|▉                                                                                                     | 180/20000 [2:19:38<231:10:38, 41.99s/it, lowest_loss=0.00465, pred_loss=23.9, trigger=180]"
     ]
    },
    {
     "name": "stdout",
     "output_type": "stream",
     "text": [
      "Optimizer shows weird behaviour, reinitializing at previous best_State\n"
     ]
    },
    {
     "name": "stderr",
     "output_type": "stream",
     "text": [
      "Epoch: 182:   1%|▉                                                                                                     | 182/20000 [2:21:05<225:43:02, 41.00s/it, lowest_loss=0.00465, pred_loss=23.9, trigger=182]"
     ]
    },
    {
     "name": "stdout",
     "output_type": "stream",
     "text": [
      "Optimizer shows weird behaviour, reinitializing at previous best_State\n"
     ]
    },
    {
     "name": "stderr",
     "output_type": "stream",
     "text": [
      "Epoch: 184:   1%|▉                                                                                                     | 184/20000 [2:22:32<225:44:16, 41.01s/it, lowest_loss=0.00465, pred_loss=23.9, trigger=184]"
     ]
    },
    {
     "name": "stdout",
     "output_type": "stream",
     "text": [
      "Optimizer shows weird behaviour, reinitializing at previous best_State\n"
     ]
    },
    {
     "name": "stderr",
     "output_type": "stream",
     "text": [
      "Epoch: 186:   1%|▉                                                                                                     | 186/20000 [2:24:03<229:05:38, 41.62s/it, lowest_loss=0.00465, pred_loss=23.9, trigger=186]"
     ]
    },
    {
     "name": "stdout",
     "output_type": "stream",
     "text": [
      "Optimizer shows weird behaviour, reinitializing at previous best_State\n"
     ]
    },
    {
     "name": "stderr",
     "output_type": "stream",
     "text": [
      "Epoch: 188:   1%|▉                                                                                                     | 188/20000 [2:25:31<226:02:07, 41.07s/it, lowest_loss=0.00465, pred_loss=23.9, trigger=188]"
     ]
    },
    {
     "name": "stdout",
     "output_type": "stream",
     "text": [
      "Optimizer shows weird behaviour, reinitializing at previous best_State\n"
     ]
    },
    {
     "name": "stderr",
     "output_type": "stream",
     "text": [
      "Epoch: 190:   1%|▉                                                                                                     | 190/20000 [2:27:04<233:17:19, 42.39s/it, lowest_loss=0.00465, pred_loss=23.9, trigger=190]"
     ]
    },
    {
     "name": "stdout",
     "output_type": "stream",
     "text": [
      "Optimizer shows weird behaviour, reinitializing at previous best_State\n"
     ]
    },
    {
     "name": "stderr",
     "output_type": "stream",
     "text": [
      "Epoch: 192:   1%|▉                                                                                                     | 192/20000 [2:28:34<232:22:42, 42.23s/it, lowest_loss=0.00465, pred_loss=23.9, trigger=192]"
     ]
    },
    {
     "name": "stdout",
     "output_type": "stream",
     "text": [
      "Optimizer shows weird behaviour, reinitializing at previous best_State\n"
     ]
    },
    {
     "name": "stderr",
     "output_type": "stream",
     "text": [
      "Epoch: 194:   1%|▉                                                                                                     | 194/20000 [2:30:07<235:19:48, 42.77s/it, lowest_loss=0.00465, pred_loss=23.9, trigger=194]"
     ]
    },
    {
     "name": "stdout",
     "output_type": "stream",
     "text": [
      "Optimizer shows weird behaviour, reinitializing at previous best_State\n"
     ]
    },
    {
     "name": "stderr",
     "output_type": "stream",
     "text": [
      "Epoch: 196:   1%|▉                                                                                                     | 196/20000 [2:31:35<233:07:06, 42.38s/it, lowest_loss=0.00465, pred_loss=23.9, trigger=196]"
     ]
    },
    {
     "name": "stdout",
     "output_type": "stream",
     "text": [
      "Optimizer shows weird behaviour, reinitializing at previous best_State\n"
     ]
    },
    {
     "name": "stderr",
     "output_type": "stream",
     "text": [
      "Epoch: 198:   1%|█                                                                                                     | 198/20000 [2:32:56<220:48:44, 40.14s/it, lowest_loss=0.00465, pred_loss=23.9, trigger=198]"
     ]
    },
    {
     "name": "stdout",
     "output_type": "stream",
     "text": [
      "Optimizer shows weird behaviour, reinitializing at previous best_State\n"
     ]
    },
    {
     "name": "stderr",
     "output_type": "stream",
     "text": [
      "Epoch: 200:   1%|█                                                                                                     | 200/20000 [2:34:31<232:41:54, 42.31s/it, lowest_loss=0.00465, pred_loss=23.9, trigger=200]"
     ]
    },
    {
     "name": "stdout",
     "output_type": "stream",
     "text": [
      "Optimizer shows weird behaviour, reinitializing at previous best_State\n"
     ]
    },
    {
     "name": "stderr",
     "output_type": "stream",
     "text": [
      "Epoch: 202:   1%|█                                                                                                     | 202/20000 [2:35:50<219:31:18, 39.92s/it, lowest_loss=0.00465, pred_loss=23.9, trigger=202]"
     ]
    },
    {
     "name": "stdout",
     "output_type": "stream",
     "text": [
      "Optimizer shows weird behaviour, reinitializing at previous best_State\n"
     ]
    },
    {
     "name": "stderr",
     "output_type": "stream",
     "text": [
      "Epoch: 204:   1%|█                                                                                                     | 204/20000 [2:37:29<238:31:51, 43.38s/it, lowest_loss=0.00465, pred_loss=23.9, trigger=204]"
     ]
    },
    {
     "name": "stdout",
     "output_type": "stream",
     "text": [
      "Optimizer shows weird behaviour, reinitializing at previous best_State\n"
     ]
    },
    {
     "name": "stderr",
     "output_type": "stream",
     "text": [
      "Epoch: 206:   1%|█                                                                                                     | 206/20000 [2:38:59<234:57:11, 42.73s/it, lowest_loss=0.00465, pred_loss=23.9, trigger=206]"
     ]
    },
    {
     "name": "stdout",
     "output_type": "stream",
     "text": [
      "Optimizer shows weird behaviour, reinitializing at previous best_State\n"
     ]
    },
    {
     "name": "stderr",
     "output_type": "stream",
     "text": [
      "Epoch: 208:   1%|█                                                                                                     | 208/20000 [2:40:35<240:26:35, 43.73s/it, lowest_loss=0.00465, pred_loss=23.9, trigger=208]"
     ]
    },
    {
     "name": "stdout",
     "output_type": "stream",
     "text": [
      "Optimizer shows weird behaviour, reinitializing at previous best_State\n"
     ]
    },
    {
     "name": "stderr",
     "output_type": "stream",
     "text": [
      "Epoch: 210:   1%|█                                                                                                     | 210/20000 [2:42:07<237:00:49, 43.12s/it, lowest_loss=0.00465, pred_loss=23.9, trigger=210]"
     ]
    },
    {
     "name": "stdout",
     "output_type": "stream",
     "text": [
      "Optimizer shows weird behaviour, reinitializing at previous best_State\n"
     ]
    },
    {
     "name": "stderr",
     "output_type": "stream",
     "text": [
      "Epoch: 212:   1%|█                                                                                                     | 212/20000 [2:43:37<235:54:26, 42.92s/it, lowest_loss=0.00465, pred_loss=23.9, trigger=212]"
     ]
    },
    {
     "name": "stdout",
     "output_type": "stream",
     "text": [
      "Optimizer shows weird behaviour, reinitializing at previous best_State\n"
     ]
    },
    {
     "name": "stderr",
     "output_type": "stream",
     "text": [
      "Epoch: 214:   1%|█                                                                                                     | 214/20000 [2:45:08<233:02:17, 42.40s/it, lowest_loss=0.00465, pred_loss=23.9, trigger=214]"
     ]
    },
    {
     "name": "stdout",
     "output_type": "stream",
     "text": [
      "Optimizer shows weird behaviour, reinitializing at previous best_State\n"
     ]
    },
    {
     "name": "stderr",
     "output_type": "stream",
     "text": [
      "Epoch: 216:   1%|█                                                                                                     | 216/20000 [2:46:51<248:22:53, 45.20s/it, lowest_loss=0.00465, pred_loss=23.9, trigger=216]"
     ]
    },
    {
     "name": "stdout",
     "output_type": "stream",
     "text": [
      "Optimizer shows weird behaviour, reinitializing at previous best_State\n"
     ]
    },
    {
     "name": "stderr",
     "output_type": "stream",
     "text": [
      "Epoch: 218:   1%|█                                                                                                     | 218/20000 [2:48:22<240:53:49, 43.84s/it, lowest_loss=0.00465, pred_loss=23.9, trigger=218]"
     ]
    },
    {
     "name": "stdout",
     "output_type": "stream",
     "text": [
      "Optimizer shows weird behaviour, reinitializing at previous best_State\n"
     ]
    },
    {
     "name": "stderr",
     "output_type": "stream",
     "text": [
      "Epoch: 220:   1%|█                                                                                                     | 220/20000 [2:49:55<239:53:01, 43.66s/it, lowest_loss=0.00465, pred_loss=23.9, trigger=220]"
     ]
    },
    {
     "name": "stdout",
     "output_type": "stream",
     "text": [
      "Optimizer shows weird behaviour, reinitializing at previous best_State\n"
     ]
    },
    {
     "name": "stderr",
     "output_type": "stream",
     "text": [
      "Epoch: 222:   1%|█▏                                                                                                    | 222/20000 [2:51:30<242:00:19, 44.05s/it, lowest_loss=0.00465, pred_loss=23.9, trigger=222]"
     ]
    },
    {
     "name": "stdout",
     "output_type": "stream",
     "text": [
      "Optimizer shows weird behaviour, reinitializing at previous best_State\n"
     ]
    },
    {
     "name": "stderr",
     "output_type": "stream",
     "text": [
      "Epoch: 224:   1%|█▏                                                                                                    | 224/20000 [2:53:02<240:16:03, 43.74s/it, lowest_loss=0.00465, pred_loss=23.9, trigger=224]"
     ]
    },
    {
     "name": "stdout",
     "output_type": "stream",
     "text": [
      "Optimizer shows weird behaviour, reinitializing at previous best_State\n"
     ]
    },
    {
     "name": "stderr",
     "output_type": "stream",
     "text": [
      "Epoch: 226:   1%|█▏                                                                                                    | 226/20000 [2:54:37<241:29:02, 43.96s/it, lowest_loss=0.00465, pred_loss=23.9, trigger=226]"
     ]
    },
    {
     "name": "stdout",
     "output_type": "stream",
     "text": [
      "Optimizer shows weird behaviour, reinitializing at previous best_State\n"
     ]
    },
    {
     "name": "stderr",
     "output_type": "stream",
     "text": [
      "Epoch: 228:   1%|█▏                                                                                                    | 228/20000 [2:56:06<234:38:30, 42.72s/it, lowest_loss=0.00465, pred_loss=23.9, trigger=228]"
     ]
    },
    {
     "name": "stdout",
     "output_type": "stream",
     "text": [
      "Optimizer shows weird behaviour, reinitializing at previous best_State\n"
     ]
    },
    {
     "name": "stderr",
     "output_type": "stream",
     "text": [
      "Epoch: 230:   1%|█▏                                                                                                    | 230/20000 [2:57:40<236:25:47, 43.05s/it, lowest_loss=0.00465, pred_loss=23.9, trigger=230]"
     ]
    },
    {
     "name": "stdout",
     "output_type": "stream",
     "text": [
      "Optimizer shows weird behaviour, reinitializing at previous best_State\n"
     ]
    },
    {
     "name": "stderr",
     "output_type": "stream",
     "text": [
      "Epoch: 232:   1%|█▏                                                                                                    | 232/20000 [2:59:17<241:42:28, 44.02s/it, lowest_loss=0.00465, pred_loss=23.9, trigger=232]"
     ]
    },
    {
     "name": "stdout",
     "output_type": "stream",
     "text": [
      "Optimizer shows weird behaviour, reinitializing at previous best_State\n"
     ]
    },
    {
     "name": "stderr",
     "output_type": "stream",
     "text": [
      "Epoch: 234:   1%|█▏                                                                                                    | 234/20000 [3:00:43<231:13:40, 42.11s/it, lowest_loss=0.00465, pred_loss=23.9, trigger=234]"
     ]
    },
    {
     "name": "stdout",
     "output_type": "stream",
     "text": [
      "Optimizer shows weird behaviour, reinitializing at previous best_State\n"
     ]
    },
    {
     "name": "stderr",
     "output_type": "stream",
     "text": [
      "Epoch: 236:   1%|█▏                                                                                                    | 236/20000 [3:02:13<232:17:22, 42.31s/it, lowest_loss=0.00465, pred_loss=23.9, trigger=236]"
     ]
    },
    {
     "name": "stdout",
     "output_type": "stream",
     "text": [
      "Optimizer shows weird behaviour, reinitializing at previous best_State\n"
     ]
    },
    {
     "name": "stderr",
     "output_type": "stream",
     "text": [
      "Epoch: 238:   1%|█▏                                                                                                    | 238/20000 [3:03:37<223:38:05, 40.74s/it, lowest_loss=0.00465, pred_loss=23.9, trigger=238]"
     ]
    },
    {
     "name": "stdout",
     "output_type": "stream",
     "text": [
      "Optimizer shows weird behaviour, reinitializing at previous best_State\n"
     ]
    },
    {
     "name": "stderr",
     "output_type": "stream",
     "text": [
      "Epoch: 240:   1%|█▏                                                                                                    | 240/20000 [3:05:03<220:40:51, 40.21s/it, lowest_loss=0.00465, pred_loss=23.9, trigger=240]"
     ]
    },
    {
     "name": "stdout",
     "output_type": "stream",
     "text": [
      "Optimizer shows weird behaviour, reinitializing at previous best_State\n"
     ]
    },
    {
     "name": "stderr",
     "output_type": "stream",
     "text": [
      "Epoch: 242:   1%|█▏                                                                                                    | 242/20000 [3:06:34<227:59:03, 41.54s/it, lowest_loss=0.00465, pred_loss=23.9, trigger=242]"
     ]
    },
    {
     "name": "stdout",
     "output_type": "stream",
     "text": [
      "Optimizer shows weird behaviour, reinitializing at previous best_State\n"
     ]
    },
    {
     "name": "stderr",
     "output_type": "stream",
     "text": [
      "Epoch: 244:   1%|█▏                                                                                                    | 244/20000 [3:08:03<227:40:58, 41.49s/it, lowest_loss=0.00465, pred_loss=23.9, trigger=244]"
     ]
    },
    {
     "name": "stdout",
     "output_type": "stream",
     "text": [
      "Optimizer shows weird behaviour, reinitializing at previous best_State\n"
     ]
    },
    {
     "name": "stderr",
     "output_type": "stream",
     "text": [
      "Epoch: 246:   1%|█▎                                                                                                    | 246/20000 [3:09:34<232:47:35, 42.42s/it, lowest_loss=0.00465, pred_loss=23.9, trigger=246]"
     ]
    },
    {
     "name": "stdout",
     "output_type": "stream",
     "text": [
      "Optimizer shows weird behaviour, reinitializing at previous best_State\n"
     ]
    },
    {
     "name": "stderr",
     "output_type": "stream",
     "text": [
      "Epoch: 248:   1%|█▎                                                                                                    | 248/20000 [3:11:10<239:15:22, 43.61s/it, lowest_loss=0.00465, pred_loss=23.9, trigger=248]"
     ]
    },
    {
     "name": "stdout",
     "output_type": "stream",
     "text": [
      "Optimizer shows weird behaviour, reinitializing at previous best_State\n"
     ]
    },
    {
     "name": "stderr",
     "output_type": "stream",
     "text": [
      "Epoch: 250:   1%|█▎                                                                                                    | 250/20000 [3:12:35<229:31:00, 41.84s/it, lowest_loss=0.00465, pred_loss=23.9, trigger=250]"
     ]
    },
    {
     "name": "stdout",
     "output_type": "stream",
     "text": [
      "Optimizer shows weird behaviour, reinitializing at previous best_State\n"
     ]
    },
    {
     "name": "stderr",
     "output_type": "stream",
     "text": [
      "Epoch: 252:   1%|█▎                                                                                                    | 252/20000 [3:14:16<244:18:13, 44.54s/it, lowest_loss=0.00465, pred_loss=23.9, trigger=252]"
     ]
    },
    {
     "name": "stdout",
     "output_type": "stream",
     "text": [
      "Optimizer shows weird behaviour, reinitializing at previous best_State\n"
     ]
    },
    {
     "name": "stderr",
     "output_type": "stream",
     "text": [
      "Epoch: 254:   1%|█▎                                                                                                    | 254/20000 [3:15:50<239:05:00, 43.59s/it, lowest_loss=0.00465, pred_loss=23.9, trigger=254]"
     ]
    },
    {
     "name": "stdout",
     "output_type": "stream",
     "text": [
      "Optimizer shows weird behaviour, reinitializing at previous best_State\n"
     ]
    },
    {
     "name": "stderr",
     "output_type": "stream",
     "text": [
      "Epoch: 256:   1%|█▎                                                                                                    | 256/20000 [3:17:22<239:08:51, 43.60s/it, lowest_loss=0.00465, pred_loss=23.9, trigger=256]"
     ]
    },
    {
     "name": "stdout",
     "output_type": "stream",
     "text": [
      "Optimizer shows weird behaviour, reinitializing at previous best_State\n"
     ]
    },
    {
     "name": "stderr",
     "output_type": "stream",
     "text": [
      "Epoch: 258:   1%|█▎                                                                                                    | 258/20000 [3:18:58<242:40:01, 44.25s/it, lowest_loss=0.00465, pred_loss=23.9, trigger=258]"
     ]
    },
    {
     "name": "stdout",
     "output_type": "stream",
     "text": [
      "Optimizer shows weird behaviour, reinitializing at previous best_State\n"
     ]
    },
    {
     "name": "stderr",
     "output_type": "stream",
     "text": [
      "Epoch: 260:   1%|█▎                                                                                                    | 260/20000 [3:20:28<234:19:26, 42.73s/it, lowest_loss=0.00465, pred_loss=23.9, trigger=260]"
     ]
    },
    {
     "name": "stdout",
     "output_type": "stream",
     "text": [
      "Optimizer shows weird behaviour, reinitializing at previous best_State\n"
     ]
    },
    {
     "name": "stderr",
     "output_type": "stream",
     "text": [
      "Epoch: 262:   1%|█▎                                                                                                    | 262/20000 [3:22:07<243:41:29, 44.45s/it, lowest_loss=0.00465, pred_loss=23.9, trigger=262]"
     ]
    },
    {
     "name": "stdout",
     "output_type": "stream",
     "text": [
      "Optimizer shows weird behaviour, reinitializing at previous best_State\n"
     ]
    },
    {
     "name": "stderr",
     "output_type": "stream",
     "text": [
      "Epoch: 264:   1%|█▎                                                                                                    | 264/20000 [3:23:39<239:59:14, 43.78s/it, lowest_loss=0.00465, pred_loss=23.9, trigger=264]"
     ]
    },
    {
     "name": "stdout",
     "output_type": "stream",
     "text": [
      "Optimizer shows weird behaviour, reinitializing at previous best_State\n"
     ]
    },
    {
     "name": "stderr",
     "output_type": "stream",
     "text": [
      "Epoch: 266:   1%|█▎                                                                                                    | 266/20000 [3:25:04<227:46:29, 41.55s/it, lowest_loss=0.00465, pred_loss=23.9, trigger=266]"
     ]
    },
    {
     "name": "stdout",
     "output_type": "stream",
     "text": [
      "Optimizer shows weird behaviour, reinitializing at previous best_State\n"
     ]
    },
    {
     "name": "stderr",
     "output_type": "stream",
     "text": [
      "Epoch: 268:   1%|█▎                                                                                                    | 268/20000 [3:26:35<228:49:36, 41.75s/it, lowest_loss=0.00465, pred_loss=23.9, trigger=268]"
     ]
    },
    {
     "name": "stdout",
     "output_type": "stream",
     "text": [
      "Optimizer shows weird behaviour, reinitializing at previous best_State\n"
     ]
    },
    {
     "name": "stderr",
     "output_type": "stream",
     "text": [
      "Epoch: 270:   1%|█▍                                                                                                    | 270/20000 [3:28:04<228:35:09, 41.71s/it, lowest_loss=0.00465, pred_loss=23.9, trigger=270]"
     ]
    },
    {
     "name": "stdout",
     "output_type": "stream",
     "text": [
      "Optimizer shows weird behaviour, reinitializing at previous best_State\n"
     ]
    },
    {
     "name": "stderr",
     "output_type": "stream",
     "text": [
      "Epoch: 272:   1%|█▍                                                                                                    | 272/20000 [3:29:21<211:41:44, 38.63s/it, lowest_loss=0.00465, pred_loss=23.9, trigger=272]"
     ]
    },
    {
     "name": "stdout",
     "output_type": "stream",
     "text": [
      "Optimizer shows weird behaviour, reinitializing at previous best_State\n"
     ]
    },
    {
     "name": "stderr",
     "output_type": "stream",
     "text": [
      "Epoch: 274:   1%|█▍                                                                                                    | 274/20000 [3:30:40<207:44:35, 37.91s/it, lowest_loss=0.00465, pred_loss=23.9, trigger=274]"
     ]
    },
    {
     "name": "stdout",
     "output_type": "stream",
     "text": [
      "Optimizer shows weird behaviour, reinitializing at previous best_State\n"
     ]
    },
    {
     "name": "stderr",
     "output_type": "stream",
     "text": [
      "Epoch: 276:   1%|█▍                                                                                                    | 276/20000 [3:32:05<214:38:15, 39.18s/it, lowest_loss=0.00465, pred_loss=23.9, trigger=276]"
     ]
    },
    {
     "name": "stdout",
     "output_type": "stream",
     "text": [
      "Optimizer shows weird behaviour, reinitializing at previous best_State\n"
     ]
    },
    {
     "name": "stderr",
     "output_type": "stream",
     "text": [
      "Epoch: 278:   1%|█▍                                                                                                    | 278/20000 [3:33:32<218:32:41, 39.89s/it, lowest_loss=0.00465, pred_loss=23.9, trigger=278]"
     ]
    },
    {
     "name": "stdout",
     "output_type": "stream",
     "text": [
      "Optimizer shows weird behaviour, reinitializing at previous best_State\n"
     ]
    },
    {
     "name": "stderr",
     "output_type": "stream",
     "text": [
      "Epoch: 280:   1%|█▍                                                                                                    | 280/20000 [3:34:55<216:24:54, 39.51s/it, lowest_loss=0.00465, pred_loss=23.9, trigger=280]"
     ]
    },
    {
     "name": "stdout",
     "output_type": "stream",
     "text": [
      "Optimizer shows weird behaviour, reinitializing at previous best_State\n"
     ]
    },
    {
     "name": "stderr",
     "output_type": "stream",
     "text": [
      "Epoch: 282:   1%|█▍                                                                                                    | 282/20000 [3:36:25<222:16:31, 40.58s/it, lowest_loss=0.00465, pred_loss=23.9, trigger=282]"
     ]
    },
    {
     "name": "stdout",
     "output_type": "stream",
     "text": [
      "Optimizer shows weird behaviour, reinitializing at previous best_State\n"
     ]
    },
    {
     "name": "stderr",
     "output_type": "stream",
     "text": [
      "Epoch: 284:   1%|█▍                                                                                                    | 284/20000 [3:37:54<225:19:05, 41.14s/it, lowest_loss=0.00465, pred_loss=23.9, trigger=284]"
     ]
    },
    {
     "name": "stdout",
     "output_type": "stream",
     "text": [
      "Optimizer shows weird behaviour, reinitializing at previous best_State\n"
     ]
    },
    {
     "name": "stderr",
     "output_type": "stream",
     "text": [
      "Epoch: 286:   1%|█▍                                                                                                    | 286/20000 [3:39:20<222:12:41, 40.58s/it, lowest_loss=0.00465, pred_loss=23.9, trigger=286]"
     ]
    },
    {
     "name": "stdout",
     "output_type": "stream",
     "text": [
      "Optimizer shows weird behaviour, reinitializing at previous best_State\n"
     ]
    },
    {
     "name": "stderr",
     "output_type": "stream",
     "text": [
      "Epoch: 288:   1%|█▍                                                                                                    | 288/20000 [3:40:48<225:20:01, 41.15s/it, lowest_loss=0.00465, pred_loss=23.9, trigger=288]"
     ]
    },
    {
     "name": "stdout",
     "output_type": "stream",
     "text": [
      "Optimizer shows weird behaviour, reinitializing at previous best_State\n"
     ]
    },
    {
     "name": "stderr",
     "output_type": "stream",
     "text": [
      "Epoch: 290:   1%|█▍                                                                                                    | 290/20000 [3:42:20<230:19:30, 42.07s/it, lowest_loss=0.00465, pred_loss=23.9, trigger=290]"
     ]
    },
    {
     "name": "stdout",
     "output_type": "stream",
     "text": [
      "Optimizer shows weird behaviour, reinitializing at previous best_State\n"
     ]
    },
    {
     "name": "stderr",
     "output_type": "stream",
     "text": [
      "Epoch: 292:   1%|█▍                                                                                                    | 292/20000 [3:43:43<220:33:37, 40.29s/it, lowest_loss=0.00465, pred_loss=23.9, trigger=292]"
     ]
    },
    {
     "name": "stdout",
     "output_type": "stream",
     "text": [
      "Optimizer shows weird behaviour, reinitializing at previous best_State\n"
     ]
    },
    {
     "name": "stderr",
     "output_type": "stream",
     "text": [
      "Epoch: 294:   1%|█▍                                                                                                    | 294/20000 [3:45:17<229:57:11, 42.01s/it, lowest_loss=0.00465, pred_loss=23.9, trigger=294]"
     ]
    },
    {
     "name": "stdout",
     "output_type": "stream",
     "text": [
      "Optimizer shows weird behaviour, reinitializing at previous best_State\n"
     ]
    },
    {
     "name": "stderr",
     "output_type": "stream",
     "text": [
      "Epoch: 296:   1%|█▌                                                                                                    | 296/20000 [3:46:49<234:29:34, 42.84s/it, lowest_loss=0.00465, pred_loss=23.9, trigger=296]"
     ]
    },
    {
     "name": "stdout",
     "output_type": "stream",
     "text": [
      "Optimizer shows weird behaviour, reinitializing at previous best_State\n"
     ]
    },
    {
     "name": "stderr",
     "output_type": "stream",
     "text": [
      "Epoch: 298:   1%|█▌                                                                                                    | 298/20000 [3:48:21<235:09:45, 42.97s/it, lowest_loss=0.00465, pred_loss=23.9, trigger=298]"
     ]
    },
    {
     "name": "stdout",
     "output_type": "stream",
     "text": [
      "Optimizer shows weird behaviour, reinitializing at previous best_State\n"
     ]
    },
    {
     "name": "stderr",
     "output_type": "stream",
     "text": [
      "Epoch: 300:   2%|█▌                                                                                                    | 300/20000 [3:49:57<239:39:35, 43.80s/it, lowest_loss=0.00465, pred_loss=23.9, trigger=300]"
     ]
    },
    {
     "name": "stdout",
     "output_type": "stream",
     "text": [
      "Optimizer shows weird behaviour, reinitializing at previous best_State\n"
     ]
    },
    {
     "name": "stderr",
     "output_type": "stream",
     "text": [
      "Epoch: 302:   2%|█▌                                                                                                    | 302/20000 [3:51:27<232:53:20, 42.56s/it, lowest_loss=0.00465, pred_loss=23.9, trigger=302]"
     ]
    },
    {
     "name": "stdout",
     "output_type": "stream",
     "text": [
      "Optimizer shows weird behaviour, reinitializing at previous best_State\n"
     ]
    },
    {
     "name": "stderr",
     "output_type": "stream",
     "text": [
      "Epoch: 304:   2%|█▌                                                                                                    | 304/20000 [3:52:58<232:09:54, 42.43s/it, lowest_loss=0.00465, pred_loss=23.9, trigger=304]"
     ]
    },
    {
     "name": "stdout",
     "output_type": "stream",
     "text": [
      "Optimizer shows weird behaviour, reinitializing at previous best_State\n"
     ]
    },
    {
     "name": "stderr",
     "output_type": "stream",
     "text": [
      "Epoch: 306:   2%|█▌                                                                                                    | 306/20000 [3:54:30<235:15:19, 43.00s/it, lowest_loss=0.00465, pred_loss=23.9, trigger=306]"
     ]
    },
    {
     "name": "stdout",
     "output_type": "stream",
     "text": [
      "Optimizer shows weird behaviour, reinitializing at previous best_State\n"
     ]
    },
    {
     "name": "stderr",
     "output_type": "stream",
     "text": [
      "Epoch: 308:   2%|█▌                                                                                                    | 308/20000 [3:55:57<230:50:29, 42.20s/it, lowest_loss=0.00465, pred_loss=23.9, trigger=308]"
     ]
    },
    {
     "name": "stdout",
     "output_type": "stream",
     "text": [
      "Optimizer shows weird behaviour, reinitializing at previous best_State\n"
     ]
    },
    {
     "name": "stderr",
     "output_type": "stream",
     "text": [
      "Epoch: 310:   2%|█▌                                                                                                    | 310/20000 [3:57:31<236:02:13, 43.16s/it, lowest_loss=0.00465, pred_loss=23.9, trigger=310]"
     ]
    },
    {
     "name": "stdout",
     "output_type": "stream",
     "text": [
      "Optimizer shows weird behaviour, reinitializing at previous best_State\n"
     ]
    },
    {
     "name": "stderr",
     "output_type": "stream",
     "text": [
      "Epoch: 312:   2%|█▌                                                                                                    | 312/20000 [3:59:11<244:09:14, 44.64s/it, lowest_loss=0.00465, pred_loss=23.9, trigger=312]"
     ]
    },
    {
     "name": "stdout",
     "output_type": "stream",
     "text": [
      "Optimizer shows weird behaviour, reinitializing at previous best_State\n"
     ]
    },
    {
     "name": "stderr",
     "output_type": "stream",
     "text": [
      "Epoch: 314:   2%|█▌                                                                                                    | 314/20000 [4:00:48<246:43:35, 45.12s/it, lowest_loss=0.00465, pred_loss=23.9, trigger=314]"
     ]
    },
    {
     "name": "stdout",
     "output_type": "stream",
     "text": [
      "Optimizer shows weird behaviour, reinitializing at previous best_State\n"
     ]
    },
    {
     "name": "stderr",
     "output_type": "stream",
     "text": [
      "Epoch: 316:   2%|█▌                                                                                                    | 316/20000 [4:02:23<244:48:49, 44.77s/it, lowest_loss=0.00465, pred_loss=23.9, trigger=316]"
     ]
    },
    {
     "name": "stdout",
     "output_type": "stream",
     "text": [
      "Optimizer shows weird behaviour, reinitializing at previous best_State\n"
     ]
    },
    {
     "name": "stderr",
     "output_type": "stream",
     "text": [
      "Epoch: 318:   2%|█▌                                                                                                    | 318/20000 [4:04:00<244:16:19, 44.68s/it, lowest_loss=0.00465, pred_loss=23.9, trigger=318]"
     ]
    },
    {
     "name": "stdout",
     "output_type": "stream",
     "text": [
      "Optimizer shows weird behaviour, reinitializing at previous best_State\n"
     ]
    },
    {
     "name": "stderr",
     "output_type": "stream",
     "text": [
      "Epoch: 320:   2%|█▋                                                                                                    | 320/20000 [4:05:32<241:05:14, 44.10s/it, lowest_loss=0.00465, pred_loss=23.9, trigger=320]"
     ]
    },
    {
     "name": "stdout",
     "output_type": "stream",
     "text": [
      "Optimizer shows weird behaviour, reinitializing at previous best_State\n"
     ]
    },
    {
     "name": "stderr",
     "output_type": "stream",
     "text": [
      "Epoch: 322:   2%|█▋                                                                                                    | 322/20000 [4:06:50<221:28:44, 40.52s/it, lowest_loss=0.00465, pred_loss=23.9, trigger=322]"
     ]
    },
    {
     "name": "stdout",
     "output_type": "stream",
     "text": [
      "Optimizer shows weird behaviour, reinitializing at previous best_State\n"
     ]
    },
    {
     "name": "stderr",
     "output_type": "stream",
     "text": [
      "Epoch: 324:   2%|█▋                                                                                                    | 324/20000 [4:08:25<233:03:00, 42.64s/it, lowest_loss=0.00465, pred_loss=23.9, trigger=324]"
     ]
    },
    {
     "name": "stdout",
     "output_type": "stream",
     "text": [
      "Optimizer shows weird behaviour, reinitializing at previous best_State\n"
     ]
    },
    {
     "name": "stderr",
     "output_type": "stream",
     "text": [
      "Epoch: 326:   2%|█▋                                                                                                    | 326/20000 [4:09:52<227:33:17, 41.64s/it, lowest_loss=0.00465, pred_loss=23.9, trigger=326]"
     ]
    },
    {
     "name": "stdout",
     "output_type": "stream",
     "text": [
      "Optimizer shows weird behaviour, reinitializing at previous best_State\n"
     ]
    },
    {
     "name": "stderr",
     "output_type": "stream",
     "text": [
      "Epoch: 328:   2%|█▋                                                                                                    | 328/20000 [4:11:23<230:19:58, 42.15s/it, lowest_loss=0.00465, pred_loss=23.9, trigger=328]"
     ]
    },
    {
     "name": "stdout",
     "output_type": "stream",
     "text": [
      "Optimizer shows weird behaviour, reinitializing at previous best_State\n"
     ]
    },
    {
     "name": "stderr",
     "output_type": "stream",
     "text": [
      "Epoch: 330:   2%|█▋                                                                                                    | 330/20000 [4:12:55<234:22:35, 42.90s/it, lowest_loss=0.00465, pred_loss=23.9, trigger=330]"
     ]
    },
    {
     "name": "stdout",
     "output_type": "stream",
     "text": [
      "Optimizer shows weird behaviour, reinitializing at previous best_State\n"
     ]
    },
    {
     "name": "stderr",
     "output_type": "stream",
     "text": [
      "Epoch: 332:   2%|█▋                                                                                                    | 332/20000 [4:14:26<232:05:12, 42.48s/it, lowest_loss=0.00465, pred_loss=23.9, trigger=332]"
     ]
    },
    {
     "name": "stdout",
     "output_type": "stream",
     "text": [
      "Optimizer shows weird behaviour, reinitializing at previous best_State\n"
     ]
    },
    {
     "name": "stderr",
     "output_type": "stream",
     "text": [
      "Epoch: 334:   2%|█▋                                                                                                    | 334/20000 [4:15:58<233:25:47, 42.73s/it, lowest_loss=0.00465, pred_loss=23.9, trigger=334]"
     ]
    },
    {
     "name": "stdout",
     "output_type": "stream",
     "text": [
      "Optimizer shows weird behaviour, reinitializing at previous best_State\n"
     ]
    },
    {
     "name": "stderr",
     "output_type": "stream",
     "text": [
      "Epoch: 336:   2%|█▋                                                                                                    | 336/20000 [4:17:18<219:48:04, 40.24s/it, lowest_loss=0.00465, pred_loss=23.9, trigger=336]"
     ]
    },
    {
     "name": "stdout",
     "output_type": "stream",
     "text": [
      "Optimizer shows weird behaviour, reinitializing at previous best_State\n"
     ]
    },
    {
     "name": "stderr",
     "output_type": "stream",
     "text": [
      "Epoch: 338:   2%|█▋                                                                                                    | 338/20000 [4:18:49<224:18:17, 41.07s/it, lowest_loss=0.00465, pred_loss=23.9, trigger=338]"
     ]
    },
    {
     "name": "stdout",
     "output_type": "stream",
     "text": [
      "Optimizer shows weird behaviour, reinitializing at previous best_State\n"
     ]
    },
    {
     "name": "stderr",
     "output_type": "stream",
     "text": [
      "Epoch: 340:   2%|█▋                                                                                                    | 340/20000 [4:20:17<224:02:40, 41.03s/it, lowest_loss=0.00465, pred_loss=23.9, trigger=340]"
     ]
    },
    {
     "name": "stdout",
     "output_type": "stream",
     "text": [
      "Optimizer shows weird behaviour, reinitializing at previous best_State\n"
     ]
    },
    {
     "name": "stderr",
     "output_type": "stream",
     "text": [
      "Epoch: 342:   2%|█▋                                                                                                    | 342/20000 [4:21:40<216:50:36, 39.71s/it, lowest_loss=0.00465, pred_loss=23.9, trigger=342]"
     ]
    },
    {
     "name": "stdout",
     "output_type": "stream",
     "text": [
      "Optimizer shows weird behaviour, reinitializing at previous best_State\n"
     ]
    },
    {
     "name": "stderr",
     "output_type": "stream",
     "text": [
      "Epoch: 344:   2%|█▊                                                                                                    | 344/20000 [4:23:22<238:43:12, 43.72s/it, lowest_loss=0.00465, pred_loss=23.9, trigger=344]"
     ]
    },
    {
     "name": "stdout",
     "output_type": "stream",
     "text": [
      "Optimizer shows weird behaviour, reinitializing at previous best_State\n"
     ]
    },
    {
     "name": "stderr",
     "output_type": "stream",
     "text": [
      "Epoch: 346:   2%|█▊                                                                                                    | 346/20000 [4:24:55<238:17:09, 43.65s/it, lowest_loss=0.00465, pred_loss=23.9, trigger=346]"
     ]
    },
    {
     "name": "stdout",
     "output_type": "stream",
     "text": [
      "Optimizer shows weird behaviour, reinitializing at previous best_State\n"
     ]
    },
    {
     "name": "stderr",
     "output_type": "stream",
     "text": [
      "Epoch: 348:   2%|█▊                                                                                                    | 348/20000 [4:26:22<229:06:39, 41.97s/it, lowest_loss=0.00465, pred_loss=23.9, trigger=348]"
     ]
    },
    {
     "name": "stdout",
     "output_type": "stream",
     "text": [
      "Optimizer shows weird behaviour, reinitializing at previous best_State\n"
     ]
    },
    {
     "name": "stderr",
     "output_type": "stream",
     "text": [
      "Epoch: 350:   2%|█▊                                                                                                    | 350/20000 [4:27:50<226:35:18, 41.51s/it, lowest_loss=0.00465, pred_loss=23.9, trigger=350]"
     ]
    },
    {
     "name": "stdout",
     "output_type": "stream",
     "text": [
      "Optimizer shows weird behaviour, reinitializing at previous best_State\n"
     ]
    },
    {
     "name": "stderr",
     "output_type": "stream",
     "text": [
      "Epoch: 352:   2%|█▊                                                                                                    | 352/20000 [4:29:21<230:57:09, 42.32s/it, lowest_loss=0.00465, pred_loss=23.9, trigger=352]"
     ]
    },
    {
     "name": "stdout",
     "output_type": "stream",
     "text": [
      "Optimizer shows weird behaviour, reinitializing at previous best_State\n"
     ]
    },
    {
     "name": "stderr",
     "output_type": "stream",
     "text": [
      "Epoch: 354:   2%|█▊                                                                                                    | 354/20000 [4:31:04<245:33:27, 45.00s/it, lowest_loss=0.00465, pred_loss=23.9, trigger=354]"
     ]
    },
    {
     "name": "stdout",
     "output_type": "stream",
     "text": [
      "Optimizer shows weird behaviour, reinitializing at previous best_State\n"
     ]
    },
    {
     "name": "stderr",
     "output_type": "stream",
     "text": [
      "Epoch: 356:   2%|█▊                                                                                                    | 356/20000 [4:32:39<242:52:07, 44.51s/it, lowest_loss=0.00465, pred_loss=23.9, trigger=356]"
     ]
    },
    {
     "name": "stdout",
     "output_type": "stream",
     "text": [
      "Optimizer shows weird behaviour, reinitializing at previous best_State\n"
     ]
    },
    {
     "name": "stderr",
     "output_type": "stream",
     "text": [
      "Epoch: 358:   2%|█▊                                                                                                    | 358/20000 [4:34:07<233:32:05, 42.80s/it, lowest_loss=0.00465, pred_loss=23.9, trigger=358]"
     ]
    },
    {
     "name": "stdout",
     "output_type": "stream",
     "text": [
      "Optimizer shows weird behaviour, reinitializing at previous best_State\n"
     ]
    },
    {
     "name": "stderr",
     "output_type": "stream",
     "text": [
      "Epoch: 360:   2%|█▊                                                                                                    | 360/20000 [4:35:32<226:22:12, 41.49s/it, lowest_loss=0.00465, pred_loss=23.9, trigger=360]"
     ]
    },
    {
     "name": "stdout",
     "output_type": "stream",
     "text": [
      "Optimizer shows weird behaviour, reinitializing at previous best_State\n"
     ]
    },
    {
     "name": "stderr",
     "output_type": "stream",
     "text": [
      "Epoch: 362:   2%|█▊                                                                                                    | 362/20000 [4:37:05<232:05:00, 42.55s/it, lowest_loss=0.00465, pred_loss=23.9, trigger=362]"
     ]
    },
    {
     "name": "stdout",
     "output_type": "stream",
     "text": [
      "Optimizer shows weird behaviour, reinitializing at previous best_State\n"
     ]
    },
    {
     "name": "stderr",
     "output_type": "stream",
     "text": [
      "Epoch: 364:   2%|█▊                                                                                                    | 364/20000 [4:38:34<228:03:24, 41.81s/it, lowest_loss=0.00465, pred_loss=23.9, trigger=364]"
     ]
    },
    {
     "name": "stdout",
     "output_type": "stream",
     "text": [
      "Optimizer shows weird behaviour, reinitializing at previous best_State\n"
     ]
    },
    {
     "name": "stderr",
     "output_type": "stream",
     "text": [
      "Epoch: 366:   2%|█▊                                                                                                    | 366/20000 [4:40:05<230:19:55, 42.23s/it, lowest_loss=0.00465, pred_loss=23.9, trigger=366]"
     ]
    },
    {
     "name": "stdout",
     "output_type": "stream",
     "text": [
      "Optimizer shows weird behaviour, reinitializing at previous best_State\n"
     ]
    },
    {
     "name": "stderr",
     "output_type": "stream",
     "text": [
      "Epoch: 368:   2%|█▉                                                                                                    | 368/20000 [4:41:32<224:22:19, 41.14s/it, lowest_loss=0.00465, pred_loss=23.9, trigger=368]"
     ]
    },
    {
     "name": "stdout",
     "output_type": "stream",
     "text": [
      "Optimizer shows weird behaviour, reinitializing at previous best_State\n"
     ]
    },
    {
     "name": "stderr",
     "output_type": "stream",
     "text": [
      "Epoch: 370:   2%|█▉                                                                                                    | 370/20000 [4:42:58<222:53:47, 40.88s/it, lowest_loss=0.00465, pred_loss=23.9, trigger=370]"
     ]
    },
    {
     "name": "stdout",
     "output_type": "stream",
     "text": [
      "Optimizer shows weird behaviour, reinitializing at previous best_State\n"
     ]
    },
    {
     "name": "stderr",
     "output_type": "stream",
     "text": [
      "Epoch: 372:   2%|█▉                                                                                                    | 372/20000 [4:44:31<230:39:20, 42.30s/it, lowest_loss=0.00465, pred_loss=23.9, trigger=372]"
     ]
    },
    {
     "name": "stdout",
     "output_type": "stream",
     "text": [
      "Optimizer shows weird behaviour, reinitializing at previous best_State\n"
     ]
    },
    {
     "name": "stderr",
     "output_type": "stream",
     "text": [
      "Epoch: 374:   2%|█▉                                                                                                    | 374/20000 [4:45:58<227:00:51, 41.64s/it, lowest_loss=0.00465, pred_loss=23.9, trigger=374]"
     ]
    },
    {
     "name": "stdout",
     "output_type": "stream",
     "text": [
      "Optimizer shows weird behaviour, reinitializing at previous best_State\n"
     ]
    },
    {
     "name": "stderr",
     "output_type": "stream",
     "text": [
      "Epoch: 376:   2%|█▉                                                                                                    | 376/20000 [4:47:34<236:38:27, 43.41s/it, lowest_loss=0.00465, pred_loss=23.9, trigger=376]"
     ]
    },
    {
     "name": "stdout",
     "output_type": "stream",
     "text": [
      "Optimizer shows weird behaviour, reinitializing at previous best_State\n"
     ]
    },
    {
     "name": "stderr",
     "output_type": "stream",
     "text": [
      "Epoch: 378:   2%|█▉                                                                                                    | 378/20000 [4:49:02<232:01:46, 42.57s/it, lowest_loss=0.00465, pred_loss=23.9, trigger=378]"
     ]
    },
    {
     "name": "stdout",
     "output_type": "stream",
     "text": [
      "Optimizer shows weird behaviour, reinitializing at previous best_State\n"
     ]
    },
    {
     "name": "stderr",
     "output_type": "stream",
     "text": [
      "Epoch: 380:   2%|█▉                                                                                                    | 380/20000 [4:50:38<237:22:15, 43.55s/it, lowest_loss=0.00465, pred_loss=23.9, trigger=380]"
     ]
    },
    {
     "name": "stdout",
     "output_type": "stream",
     "text": [
      "Optimizer shows weird behaviour, reinitializing at previous best_State\n"
     ]
    },
    {
     "name": "stderr",
     "output_type": "stream",
     "text": [
      "Epoch: 382:   2%|█▉                                                                                                    | 382/20000 [4:52:01<223:07:01, 40.94s/it, lowest_loss=0.00465, pred_loss=23.9, trigger=382]"
     ]
    },
    {
     "name": "stdout",
     "output_type": "stream",
     "text": [
      "Optimizer shows weird behaviour, reinitializing at previous best_State\n"
     ]
    },
    {
     "name": "stderr",
     "output_type": "stream",
     "text": [
      "Epoch: 384:   2%|█▉                                                                                                    | 384/20000 [4:53:36<232:37:06, 42.69s/it, lowest_loss=0.00465, pred_loss=23.9, trigger=384]"
     ]
    },
    {
     "name": "stdout",
     "output_type": "stream",
     "text": [
      "Optimizer shows weird behaviour, reinitializing at previous best_State\n"
     ]
    },
    {
     "name": "stderr",
     "output_type": "stream",
     "text": [
      "Epoch: 386:   2%|█▉                                                                                                    | 386/20000 [4:55:07<232:07:19, 42.60s/it, lowest_loss=0.00465, pred_loss=23.9, trigger=386]"
     ]
    },
    {
     "name": "stdout",
     "output_type": "stream",
     "text": [
      "Optimizer shows weird behaviour, reinitializing at previous best_State\n"
     ]
    },
    {
     "name": "stderr",
     "output_type": "stream",
     "text": [
      "Epoch: 388:   2%|█▉                                                                                                    | 388/20000 [4:56:36<228:51:48, 42.01s/it, lowest_loss=0.00465, pred_loss=23.9, trigger=388]"
     ]
    },
    {
     "name": "stdout",
     "output_type": "stream",
     "text": [
      "Optimizer shows weird behaviour, reinitializing at previous best_State\n"
     ]
    },
    {
     "name": "stderr",
     "output_type": "stream",
     "text": [
      "Epoch: 390:   2%|█▉                                                                                                    | 390/20000 [4:58:02<222:57:24, 40.93s/it, lowest_loss=0.00465, pred_loss=23.9, trigger=390]"
     ]
    },
    {
     "name": "stdout",
     "output_type": "stream",
     "text": [
      "Optimizer shows weird behaviour, reinitializing at previous best_State\n"
     ]
    },
    {
     "name": "stderr",
     "output_type": "stream",
     "text": [
      "Epoch: 392:   2%|█▉                                                                                                    | 392/20000 [4:59:35<228:52:23, 42.02s/it, lowest_loss=0.00465, pred_loss=23.9, trigger=392]"
     ]
    },
    {
     "name": "stdout",
     "output_type": "stream",
     "text": [
      "Optimizer shows weird behaviour, reinitializing at previous best_State\n"
     ]
    },
    {
     "name": "stderr",
     "output_type": "stream",
     "text": [
      "Epoch: 394:   2%|██                                                                                                    | 394/20000 [5:01:09<233:12:59, 42.82s/it, lowest_loss=0.00465, pred_loss=23.9, trigger=394]"
     ]
    },
    {
     "name": "stdout",
     "output_type": "stream",
     "text": [
      "Optimizer shows weird behaviour, reinitializing at previous best_State\n"
     ]
    },
    {
     "name": "stderr",
     "output_type": "stream",
     "text": [
      "Epoch: 396:   2%|██                                                                                                    | 396/20000 [5:02:39<230:48:54, 42.39s/it, lowest_loss=0.00465, pred_loss=23.9, trigger=396]"
     ]
    },
    {
     "name": "stdout",
     "output_type": "stream",
     "text": [
      "Optimizer shows weird behaviour, reinitializing at previous best_State\n"
     ]
    },
    {
     "name": "stderr",
     "output_type": "stream",
     "text": [
      "Epoch: 398:   2%|██                                                                                                    | 398/20000 [5:04:08<226:06:36, 41.53s/it, lowest_loss=0.00465, pred_loss=23.9, trigger=398]"
     ]
    },
    {
     "name": "stdout",
     "output_type": "stream",
     "text": [
      "Optimizer shows weird behaviour, reinitializing at previous best_State\n"
     ]
    },
    {
     "name": "stderr",
     "output_type": "stream",
     "text": [
      "Epoch: 400:   2%|██                                                                                                    | 400/20000 [5:05:31<217:17:48, 39.91s/it, lowest_loss=0.00465, pred_loss=23.9, trigger=400]"
     ]
    },
    {
     "name": "stdout",
     "output_type": "stream",
     "text": [
      "Optimizer shows weird behaviour, reinitializing at previous best_State\n"
     ]
    },
    {
     "name": "stderr",
     "output_type": "stream",
     "text": [
      "Epoch: 402:   2%|██                                                                                                    | 402/20000 [5:06:46<204:41:09, 37.60s/it, lowest_loss=0.00465, pred_loss=23.9, trigger=402]"
     ]
    },
    {
     "name": "stdout",
     "output_type": "stream",
     "text": [
      "Optimizer shows weird behaviour, reinitializing at previous best_State\n"
     ]
    },
    {
     "name": "stderr",
     "output_type": "stream",
     "text": [
      "Epoch: 404:   2%|██                                                                                                    | 404/20000 [5:07:59<195:08:35, 35.85s/it, lowest_loss=0.00465, pred_loss=23.9, trigger=404]"
     ]
    },
    {
     "name": "stdout",
     "output_type": "stream",
     "text": [
      "Optimizer shows weird behaviour, reinitializing at previous best_State\n"
     ]
    },
    {
     "name": "stderr",
     "output_type": "stream",
     "text": [
      "Epoch: 406:   2%|██                                                                                                    | 406/20000 [5:09:04<180:49:40, 33.22s/it, lowest_loss=0.00465, pred_loss=23.9, trigger=406]"
     ]
    },
    {
     "name": "stdout",
     "output_type": "stream",
     "text": [
      "Optimizer shows weird behaviour, reinitializing at previous best_State\n"
     ]
    },
    {
     "name": "stderr",
     "output_type": "stream",
     "text": [
      "Epoch: 408:   2%|██                                                                                                    | 408/20000 [5:10:12<175:58:38, 32.34s/it, lowest_loss=0.00465, pred_loss=23.9, trigger=408]"
     ]
    },
    {
     "name": "stdout",
     "output_type": "stream",
     "text": [
      "Optimizer shows weird behaviour, reinitializing at previous best_State\n"
     ]
    },
    {
     "name": "stderr",
     "output_type": "stream",
     "text": [
      "Epoch: 410:   2%|██                                                                                                    | 410/20000 [5:11:25<181:01:17, 33.27s/it, lowest_loss=0.00465, pred_loss=23.9, trigger=410]"
     ]
    },
    {
     "name": "stdout",
     "output_type": "stream",
     "text": [
      "Optimizer shows weird behaviour, reinitializing at previous best_State\n"
     ]
    },
    {
     "name": "stderr",
     "output_type": "stream",
     "text": [
      "Epoch: 412:   2%|██                                                                                                    | 412/20000 [5:12:42<189:16:53, 34.79s/it, lowest_loss=0.00465, pred_loss=23.9, trigger=412]"
     ]
    },
    {
     "name": "stdout",
     "output_type": "stream",
     "text": [
      "Optimizer shows weird behaviour, reinitializing at previous best_State\n"
     ]
    },
    {
     "name": "stderr",
     "output_type": "stream",
     "text": [
      "Epoch: 414:   2%|██                                                                                                    | 414/20000 [5:14:03<197:25:53, 36.29s/it, lowest_loss=0.00465, pred_loss=23.9, trigger=414]"
     ]
    },
    {
     "name": "stdout",
     "output_type": "stream",
     "text": [
      "Optimizer shows weird behaviour, reinitializing at previous best_State\n"
     ]
    },
    {
     "name": "stderr",
     "output_type": "stream",
     "text": [
      "Epoch: 416:   2%|██                                                                                                    | 416/20000 [5:15:14<189:11:55, 34.78s/it, lowest_loss=0.00465, pred_loss=23.9, trigger=416]"
     ]
    },
    {
     "name": "stdout",
     "output_type": "stream",
     "text": [
      "Optimizer shows weird behaviour, reinitializing at previous best_State\n"
     ]
    },
    {
     "name": "stderr",
     "output_type": "stream",
     "text": [
      "Epoch: 418:   2%|██▏                                                                                                   | 418/20000 [5:16:29<189:17:57, 34.80s/it, lowest_loss=0.00465, pred_loss=23.9, trigger=418]"
     ]
    },
    {
     "name": "stdout",
     "output_type": "stream",
     "text": [
      "Optimizer shows weird behaviour, reinitializing at previous best_State\n"
     ]
    },
    {
     "name": "stderr",
     "output_type": "stream",
     "text": [
      "Epoch: 420:   2%|██▏                                                                                                   | 420/20000 [5:17:46<191:18:19, 35.17s/it, lowest_loss=0.00465, pred_loss=23.9, trigger=420]"
     ]
    },
    {
     "name": "stdout",
     "output_type": "stream",
     "text": [
      "Optimizer shows weird behaviour, reinitializing at previous best_State\n"
     ]
    },
    {
     "name": "stderr",
     "output_type": "stream",
     "text": [
      "Epoch: 422:   2%|██▏                                                                                                   | 422/20000 [5:18:57<184:45:36, 33.97s/it, lowest_loss=0.00465, pred_loss=23.9, trigger=422]"
     ]
    },
    {
     "name": "stdout",
     "output_type": "stream",
     "text": [
      "Optimizer shows weird behaviour, reinitializing at previous best_State\n"
     ]
    },
    {
     "name": "stderr",
     "output_type": "stream",
     "text": [
      "Epoch: 424:   2%|██▏                                                                                                   | 424/20000 [5:20:09<183:54:57, 33.82s/it, lowest_loss=0.00465, pred_loss=23.9, trigger=424]"
     ]
    },
    {
     "name": "stdout",
     "output_type": "stream",
     "text": [
      "Optimizer shows weird behaviour, reinitializing at previous best_State\n"
     ]
    },
    {
     "name": "stderr",
     "output_type": "stream",
     "text": [
      "Epoch: 426:   2%|██▏                                                                                                   | 426/20000 [5:21:29<193:41:47, 35.62s/it, lowest_loss=0.00465, pred_loss=23.9, trigger=426]"
     ]
    },
    {
     "name": "stdout",
     "output_type": "stream",
     "text": [
      "Optimizer shows weird behaviour, reinitializing at previous best_State\n"
     ]
    },
    {
     "name": "stderr",
     "output_type": "stream",
     "text": [
      "Epoch: 428:   2%|██▏                                                                                                   | 428/20000 [5:22:40<185:26:35, 34.11s/it, lowest_loss=0.00465, pred_loss=23.9, trigger=428]"
     ]
    },
    {
     "name": "stdout",
     "output_type": "stream",
     "text": [
      "Optimizer shows weird behaviour, reinitializing at previous best_State\n"
     ]
    },
    {
     "name": "stderr",
     "output_type": "stream",
     "text": [
      "Epoch: 430:   2%|██▏                                                                                                   | 430/20000 [5:23:58<190:26:25, 35.03s/it, lowest_loss=0.00465, pred_loss=23.9, trigger=430]"
     ]
    },
    {
     "name": "stdout",
     "output_type": "stream",
     "text": [
      "Optimizer shows weird behaviour, reinitializing at previous best_State\n"
     ]
    },
    {
     "name": "stderr",
     "output_type": "stream",
     "text": [
      "Epoch: 432:   2%|██▏                                                                                                   | 432/20000 [5:25:17<195:39:19, 36.00s/it, lowest_loss=0.00465, pred_loss=23.9, trigger=432]"
     ]
    },
    {
     "name": "stdout",
     "output_type": "stream",
     "text": [
      "Optimizer shows weird behaviour, reinitializing at previous best_State\n"
     ]
    },
    {
     "name": "stderr",
     "output_type": "stream",
     "text": [
      "Epoch: 434:   2%|██▏                                                                                                   | 434/20000 [5:26:34<195:49:37, 36.03s/it, lowest_loss=0.00465, pred_loss=23.9, trigger=434]"
     ]
    },
    {
     "name": "stdout",
     "output_type": "stream",
     "text": [
      "Optimizer shows weird behaviour, reinitializing at previous best_State\n"
     ]
    },
    {
     "name": "stderr",
     "output_type": "stream",
     "text": [
      "Epoch: 436:   2%|██▏                                                                                                   | 436/20000 [5:27:48<191:51:55, 35.31s/it, lowest_loss=0.00465, pred_loss=23.9, trigger=436]"
     ]
    },
    {
     "name": "stdout",
     "output_type": "stream",
     "text": [
      "Optimizer shows weird behaviour, reinitializing at previous best_State\n"
     ]
    },
    {
     "name": "stderr",
     "output_type": "stream",
     "text": [
      "Epoch: 438:   2%|██▏                                                                                                   | 438/20000 [5:29:01<187:52:46, 34.58s/it, lowest_loss=0.00465, pred_loss=23.9, trigger=438]"
     ]
    },
    {
     "name": "stdout",
     "output_type": "stream",
     "text": [
      "Optimizer shows weird behaviour, reinitializing at previous best_State\n"
     ]
    },
    {
     "name": "stderr",
     "output_type": "stream",
     "text": [
      "Epoch: 440:   2%|██▏                                                                                                   | 440/20000 [5:30:08<181:06:05, 33.33s/it, lowest_loss=0.00465, pred_loss=23.9, trigger=440]"
     ]
    },
    {
     "name": "stdout",
     "output_type": "stream",
     "text": [
      "Optimizer shows weird behaviour, reinitializing at previous best_State\n"
     ]
    },
    {
     "name": "stderr",
     "output_type": "stream",
     "text": [
      "Epoch: 442:   2%|██▎                                                                                                   | 442/20000 [5:31:25<188:20:39, 34.67s/it, lowest_loss=0.00465, pred_loss=23.9, trigger=442]"
     ]
    },
    {
     "name": "stdout",
     "output_type": "stream",
     "text": [
      "Optimizer shows weird behaviour, reinitializing at previous best_State\n"
     ]
    },
    {
     "name": "stderr",
     "output_type": "stream",
     "text": [
      "Epoch: 444:   2%|██▎                                                                                                   | 444/20000 [5:32:42<191:51:18, 35.32s/it, lowest_loss=0.00465, pred_loss=23.9, trigger=444]"
     ]
    },
    {
     "name": "stdout",
     "output_type": "stream",
     "text": [
      "Optimizer shows weird behaviour, reinitializing at previous best_State\n"
     ]
    },
    {
     "name": "stderr",
     "output_type": "stream",
     "text": [
      "Epoch: 446:   2%|██▎                                                                                                   | 446/20000 [5:33:52<183:46:47, 33.83s/it, lowest_loss=0.00465, pred_loss=23.9, trigger=446]"
     ]
    },
    {
     "name": "stdout",
     "output_type": "stream",
     "text": [
      "Optimizer shows weird behaviour, reinitializing at previous best_State\n"
     ]
    },
    {
     "name": "stderr",
     "output_type": "stream",
     "text": [
      "Epoch: 448:   2%|██▎                                                                                                   | 448/20000 [5:35:09<190:00:52, 34.99s/it, lowest_loss=0.00465, pred_loss=23.9, trigger=448]"
     ]
    },
    {
     "name": "stdout",
     "output_type": "stream",
     "text": [
      "Optimizer shows weird behaviour, reinitializing at previous best_State\n"
     ]
    },
    {
     "name": "stderr",
     "output_type": "stream",
     "text": [
      "Epoch: 450:   2%|██▎                                                                                                   | 450/20000 [5:36:14<177:24:55, 32.67s/it, lowest_loss=0.00465, pred_loss=23.9, trigger=450]"
     ]
    },
    {
     "name": "stdout",
     "output_type": "stream",
     "text": [
      "Optimizer shows weird behaviour, reinitializing at previous best_State\n"
     ]
    },
    {
     "name": "stderr",
     "output_type": "stream",
     "text": [
      "Epoch: 452:   2%|██▎                                                                                                   | 452/20000 [5:37:29<185:08:09, 34.10s/it, lowest_loss=0.00465, pred_loss=23.9, trigger=452]"
     ]
    },
    {
     "name": "stdout",
     "output_type": "stream",
     "text": [
      "Optimizer shows weird behaviour, reinitializing at previous best_State\n"
     ]
    },
    {
     "name": "stderr",
     "output_type": "stream",
     "text": [
      "Epoch: 454:   2%|██▎                                                                                                   | 454/20000 [5:38:53<198:21:55, 36.54s/it, lowest_loss=0.00465, pred_loss=23.9, trigger=454]"
     ]
    },
    {
     "name": "stdout",
     "output_type": "stream",
     "text": [
      "Optimizer shows weird behaviour, reinitializing at previous best_State\n"
     ]
    },
    {
     "name": "stderr",
     "output_type": "stream",
     "text": [
      "Epoch: 456:   2%|██▎                                                                                                   | 456/20000 [5:40:05<191:58:29, 35.36s/it, lowest_loss=0.00465, pred_loss=23.9, trigger=456]"
     ]
    },
    {
     "name": "stdout",
     "output_type": "stream",
     "text": [
      "Optimizer shows weird behaviour, reinitializing at previous best_State\n"
     ]
    },
    {
     "name": "stderr",
     "output_type": "stream",
     "text": [
      "Epoch: 458:   2%|██▎                                                                                                   | 458/20000 [5:41:19<192:14:00, 35.41s/it, lowest_loss=0.00465, pred_loss=23.9, trigger=458]"
     ]
    },
    {
     "name": "stdout",
     "output_type": "stream",
     "text": [
      "Optimizer shows weird behaviour, reinitializing at previous best_State\n"
     ]
    },
    {
     "name": "stderr",
     "output_type": "stream",
     "text": [
      "Epoch: 460:   2%|██▎                                                                                                   | 460/20000 [5:42:34<191:37:24, 35.30s/it, lowest_loss=0.00465, pred_loss=23.9, trigger=460]"
     ]
    },
    {
     "name": "stdout",
     "output_type": "stream",
     "text": [
      "Optimizer shows weird behaviour, reinitializing at previous best_State\n"
     ]
    },
    {
     "name": "stderr",
     "output_type": "stream",
     "text": [
      "Epoch: 462:   2%|██▎                                                                                                   | 462/20000 [5:43:53<194:30:05, 35.84s/it, lowest_loss=0.00465, pred_loss=23.9, trigger=462]"
     ]
    },
    {
     "name": "stdout",
     "output_type": "stream",
     "text": [
      "Optimizer shows weird behaviour, reinitializing at previous best_State\n"
     ]
    },
    {
     "name": "stderr",
     "output_type": "stream",
     "text": [
      "Epoch: 464:   2%|██▎                                                                                                   | 464/20000 [5:45:08<192:25:49, 35.46s/it, lowest_loss=0.00465, pred_loss=23.9, trigger=464]"
     ]
    },
    {
     "name": "stdout",
     "output_type": "stream",
     "text": [
      "Optimizer shows weird behaviour, reinitializing at previous best_State\n"
     ]
    },
    {
     "name": "stderr",
     "output_type": "stream",
     "text": [
      "Epoch: 466:   2%|██▍                                                                                                   | 466/20000 [5:46:26<195:29:20, 36.03s/it, lowest_loss=0.00465, pred_loss=23.9, trigger=466]"
     ]
    },
    {
     "name": "stdout",
     "output_type": "stream",
     "text": [
      "Optimizer shows weird behaviour, reinitializing at previous best_State\n"
     ]
    },
    {
     "name": "stderr",
     "output_type": "stream",
     "text": [
      "Epoch: 468:   2%|██▍                                                                                                   | 468/20000 [5:47:43<195:31:46, 36.04s/it, lowest_loss=0.00465, pred_loss=23.9, trigger=468]"
     ]
    },
    {
     "name": "stdout",
     "output_type": "stream",
     "text": [
      "Optimizer shows weird behaviour, reinitializing at previous best_State\n"
     ]
    },
    {
     "name": "stderr",
     "output_type": "stream",
     "text": [
      "Epoch: 470:   2%|██▍                                                                                                   | 470/20000 [5:48:53<188:11:03, 34.69s/it, lowest_loss=0.00465, pred_loss=23.9, trigger=470]"
     ]
    },
    {
     "name": "stdout",
     "output_type": "stream",
     "text": [
      "Optimizer shows weird behaviour, reinitializing at previous best_State\n"
     ]
    },
    {
     "name": "stderr",
     "output_type": "stream",
     "text": [
      "Epoch: 472:   2%|██▍                                                                                                   | 472/20000 [5:50:01<179:08:19, 33.02s/it, lowest_loss=0.00465, pred_loss=23.9, trigger=472]"
     ]
    },
    {
     "name": "stdout",
     "output_type": "stream",
     "text": [
      "Optimizer shows weird behaviour, reinitializing at previous best_State\n"
     ]
    },
    {
     "name": "stderr",
     "output_type": "stream",
     "text": [
      "Epoch: 474:   2%|██▍                                                                                                   | 474/20000 [5:51:10<177:44:22, 32.77s/it, lowest_loss=0.00465, pred_loss=23.9, trigger=474]"
     ]
    },
    {
     "name": "stdout",
     "output_type": "stream",
     "text": [
      "Optimizer shows weird behaviour, reinitializing at previous best_State\n"
     ]
    },
    {
     "name": "stderr",
     "output_type": "stream",
     "text": [
      "Epoch: 476:   2%|██▍                                                                                                   | 476/20000 [5:52:28<188:44:32, 34.80s/it, lowest_loss=0.00465, pred_loss=23.9, trigger=476]"
     ]
    },
    {
     "name": "stdout",
     "output_type": "stream",
     "text": [
      "Optimizer shows weird behaviour, reinitializing at previous best_State\n"
     ]
    },
    {
     "name": "stderr",
     "output_type": "stream",
     "text": [
      "Epoch: 478:   2%|██▍                                                                                                   | 478/20000 [5:53:44<189:32:15, 34.95s/it, lowest_loss=0.00465, pred_loss=23.9, trigger=478]"
     ]
    },
    {
     "name": "stdout",
     "output_type": "stream",
     "text": [
      "Optimizer shows weird behaviour, reinitializing at previous best_State\n"
     ]
    },
    {
     "name": "stderr",
     "output_type": "stream",
     "text": [
      "Epoch: 480:   2%|██▍                                                                                                   | 480/20000 [5:55:02<192:54:36, 35.58s/it, lowest_loss=0.00465, pred_loss=23.9, trigger=480]"
     ]
    },
    {
     "name": "stdout",
     "output_type": "stream",
     "text": [
      "Optimizer shows weird behaviour, reinitializing at previous best_State\n"
     ]
    },
    {
     "name": "stderr",
     "output_type": "stream",
     "text": [
      "Epoch: 482:   2%|██▍                                                                                                   | 482/20000 [5:56:17<192:30:08, 35.51s/it, lowest_loss=0.00465, pred_loss=23.9, trigger=482]"
     ]
    },
    {
     "name": "stdout",
     "output_type": "stream",
     "text": [
      "Optimizer shows weird behaviour, reinitializing at previous best_State\n"
     ]
    },
    {
     "name": "stderr",
     "output_type": "stream",
     "text": [
      "Epoch: 484:   2%|██▍                                                                                                   | 484/20000 [5:57:33<194:23:24, 35.86s/it, lowest_loss=0.00465, pred_loss=23.9, trigger=484]"
     ]
    },
    {
     "name": "stdout",
     "output_type": "stream",
     "text": [
      "Optimizer shows weird behaviour, reinitializing at previous best_State\n"
     ]
    },
    {
     "name": "stderr",
     "output_type": "stream",
     "text": [
      "Epoch: 486:   2%|██▍                                                                                                   | 486/20000 [5:58:53<196:59:57, 36.34s/it, lowest_loss=0.00465, pred_loss=23.9, trigger=486]"
     ]
    },
    {
     "name": "stdout",
     "output_type": "stream",
     "text": [
      "Optimizer shows weird behaviour, reinitializing at previous best_State\n"
     ]
    },
    {
     "name": "stderr",
     "output_type": "stream",
     "text": [
      "Epoch: 488:   2%|██▍                                                                                                   | 488/20000 [6:00:12<197:21:09, 36.41s/it, lowest_loss=0.00465, pred_loss=23.9, trigger=488]"
     ]
    },
    {
     "name": "stdout",
     "output_type": "stream",
     "text": [
      "Optimizer shows weird behaviour, reinitializing at previous best_State\n"
     ]
    },
    {
     "name": "stderr",
     "output_type": "stream",
     "text": [
      "Epoch: 490:   2%|██▍                                                                                                   | 490/20000 [6:01:30<198:39:51, 36.66s/it, lowest_loss=0.00465, pred_loss=23.9, trigger=490]"
     ]
    },
    {
     "name": "stdout",
     "output_type": "stream",
     "text": [
      "Optimizer shows weird behaviour, reinitializing at previous best_State\n"
     ]
    },
    {
     "name": "stderr",
     "output_type": "stream",
     "text": [
      "Epoch: 492:   2%|██▌                                                                                                   | 492/20000 [6:02:44<190:20:13, 35.12s/it, lowest_loss=0.00465, pred_loss=23.9, trigger=492]"
     ]
    },
    {
     "name": "stdout",
     "output_type": "stream",
     "text": [
      "Optimizer shows weird behaviour, reinitializing at previous best_State\n"
     ]
    },
    {
     "name": "stderr",
     "output_type": "stream",
     "text": [
      "Epoch: 494:   2%|██▌                                                                                                   | 494/20000 [6:04:05<199:14:55, 36.77s/it, lowest_loss=0.00465, pred_loss=23.9, trigger=494]"
     ]
    },
    {
     "name": "stdout",
     "output_type": "stream",
     "text": [
      "Optimizer shows weird behaviour, reinitializing at previous best_State\n"
     ]
    },
    {
     "name": "stderr",
     "output_type": "stream",
     "text": [
      "Epoch: 496:   2%|██▌                                                                                                   | 496/20000 [6:05:22<196:06:47, 36.20s/it, lowest_loss=0.00465, pred_loss=23.9, trigger=496]"
     ]
    },
    {
     "name": "stdout",
     "output_type": "stream",
     "text": [
      "Optimizer shows weird behaviour, reinitializing at previous best_State\n"
     ]
    },
    {
     "name": "stderr",
     "output_type": "stream",
     "text": [
      "Epoch: 498:   2%|██▌                                                                                                   | 498/20000 [6:06:31<183:47:45, 33.93s/it, lowest_loss=0.00465, pred_loss=23.9, trigger=498]"
     ]
    },
    {
     "name": "stdout",
     "output_type": "stream",
     "text": [
      "Optimizer shows weird behaviour, reinitializing at previous best_State\n"
     ]
    },
    {
     "name": "stderr",
     "output_type": "stream",
     "text": [
      "Epoch: 500:   2%|██▌                                                                                                   | 500/20000 [6:07:44<181:51:21, 33.57s/it, lowest_loss=0.00465, pred_loss=23.9, trigger=500]"
     ]
    },
    {
     "name": "stdout",
     "output_type": "stream",
     "text": [
      "Optimizer shows weird behaviour, reinitializing at previous best_State\n"
     ]
    },
    {
     "name": "stderr",
     "output_type": "stream",
     "text": [
      "Epoch: 502:   3%|██▌                                                                                                   | 502/20000 [6:08:57<183:00:08, 33.79s/it, lowest_loss=0.00465, pred_loss=23.9, trigger=502]"
     ]
    },
    {
     "name": "stdout",
     "output_type": "stream",
     "text": [
      "Optimizer shows weird behaviour, reinitializing at previous best_State\n"
     ]
    },
    {
     "name": "stderr",
     "output_type": "stream",
     "text": [
      "Epoch: 504:   3%|██▌                                                                                                   | 504/20000 [6:10:14<188:09:20, 34.74s/it, lowest_loss=0.00465, pred_loss=23.9, trigger=504]"
     ]
    },
    {
     "name": "stdout",
     "output_type": "stream",
     "text": [
      "Optimizer shows weird behaviour, reinitializing at previous best_State\n"
     ]
    },
    {
     "name": "stderr",
     "output_type": "stream",
     "text": [
      "Epoch: 506:   3%|██▌                                                                                                   | 506/20000 [6:11:23<179:54:11, 33.22s/it, lowest_loss=0.00465, pred_loss=23.9, trigger=506]"
     ]
    },
    {
     "name": "stdout",
     "output_type": "stream",
     "text": [
      "Optimizer shows weird behaviour, reinitializing at previous best_State\n"
     ]
    },
    {
     "name": "stderr",
     "output_type": "stream",
     "text": [
      "Epoch: 508:   3%|██▌                                                                                                   | 508/20000 [6:12:28<171:58:05, 31.76s/it, lowest_loss=0.00465, pred_loss=23.9, trigger=508]"
     ]
    },
    {
     "name": "stdout",
     "output_type": "stream",
     "text": [
      "Optimizer shows weird behaviour, reinitializing at previous best_State\n"
     ]
    },
    {
     "name": "stderr",
     "output_type": "stream",
     "text": [
      "Epoch: 510:   3%|██▌                                                                                                   | 510/20000 [6:13:42<179:16:48, 33.11s/it, lowest_loss=0.00465, pred_loss=23.9, trigger=510]"
     ]
    },
    {
     "name": "stdout",
     "output_type": "stream",
     "text": [
      "Optimizer shows weird behaviour, reinitializing at previous best_State\n"
     ]
    },
    {
     "name": "stderr",
     "output_type": "stream",
     "text": [
      "Epoch: 512:   3%|██▌                                                                                                   | 512/20000 [6:14:55<180:13:20, 33.29s/it, lowest_loss=0.00465, pred_loss=23.9, trigger=512]"
     ]
    },
    {
     "name": "stdout",
     "output_type": "stream",
     "text": [
      "Optimizer shows weird behaviour, reinitializing at previous best_State\n"
     ]
    },
    {
     "name": "stderr",
     "output_type": "stream",
     "text": [
      "Epoch: 514:   3%|██▌                                                                                                   | 514/20000 [6:16:02<174:22:06, 32.21s/it, lowest_loss=0.00465, pred_loss=23.9, trigger=514]"
     ]
    },
    {
     "name": "stdout",
     "output_type": "stream",
     "text": [
      "Optimizer shows weird behaviour, reinitializing at previous best_State\n"
     ]
    },
    {
     "name": "stderr",
     "output_type": "stream",
     "text": [
      "Epoch: 516:   3%|██▋                                                                                                   | 516/20000 [6:17:15<180:03:23, 33.27s/it, lowest_loss=0.00465, pred_loss=23.9, trigger=516]"
     ]
    },
    {
     "name": "stdout",
     "output_type": "stream",
     "text": [
      "Optimizer shows weird behaviour, reinitializing at previous best_State\n"
     ]
    },
    {
     "name": "stderr",
     "output_type": "stream",
     "text": [
      "Epoch: 518:   3%|██▋                                                                                                   | 518/20000 [6:18:24<178:32:55, 32.99s/it, lowest_loss=0.00465, pred_loss=23.9, trigger=518]"
     ]
    },
    {
     "name": "stdout",
     "output_type": "stream",
     "text": [
      "Optimizer shows weird behaviour, reinitializing at previous best_State\n"
     ]
    },
    {
     "name": "stderr",
     "output_type": "stream",
     "text": [
      "Epoch: 520:   3%|██▋                                                                                                   | 520/20000 [6:19:38<182:52:50, 33.80s/it, lowest_loss=0.00465, pred_loss=23.9, trigger=520]"
     ]
    },
    {
     "name": "stdout",
     "output_type": "stream",
     "text": [
      "Optimizer shows weird behaviour, reinitializing at previous best_State\n"
     ]
    },
    {
     "name": "stderr",
     "output_type": "stream",
     "text": [
      "Epoch: 522:   3%|██▋                                                                                                   | 522/20000 [6:20:54<190:36:01, 35.23s/it, lowest_loss=0.00465, pred_loss=23.9, trigger=522]"
     ]
    },
    {
     "name": "stdout",
     "output_type": "stream",
     "text": [
      "Optimizer shows weird behaviour, reinitializing at previous best_State\n"
     ]
    },
    {
     "name": "stderr",
     "output_type": "stream",
     "text": [
      "Epoch: 524:   3%|██▋                                                                                                   | 524/20000 [6:22:06<186:15:47, 34.43s/it, lowest_loss=0.00465, pred_loss=23.9, trigger=524]"
     ]
    },
    {
     "name": "stdout",
     "output_type": "stream",
     "text": [
      "Optimizer shows weird behaviour, reinitializing at previous best_State\n"
     ]
    },
    {
     "name": "stderr",
     "output_type": "stream",
     "text": [
      "Epoch: 526:   3%|██▋                                                                                                   | 526/20000 [6:23:19<186:11:24, 34.42s/it, lowest_loss=0.00465, pred_loss=23.9, trigger=526]"
     ]
    },
    {
     "name": "stdout",
     "output_type": "stream",
     "text": [
      "Optimizer shows weird behaviour, reinitializing at previous best_State\n"
     ]
    },
    {
     "name": "stderr",
     "output_type": "stream",
     "text": [
      "Epoch: 528:   3%|██▋                                                                                                   | 528/20000 [6:24:25<175:43:40, 32.49s/it, lowest_loss=0.00465, pred_loss=23.9, trigger=528]"
     ]
    },
    {
     "name": "stdout",
     "output_type": "stream",
     "text": [
      "Optimizer shows weird behaviour, reinitializing at previous best_State\n"
     ]
    },
    {
     "name": "stderr",
     "output_type": "stream",
     "text": [
      "Epoch: 530:   3%|██▋                                                                                                   | 530/20000 [6:25:43<187:00:57, 34.58s/it, lowest_loss=0.00465, pred_loss=23.9, trigger=530]"
     ]
    },
    {
     "name": "stdout",
     "output_type": "stream",
     "text": [
      "Optimizer shows weird behaviour, reinitializing at previous best_State\n"
     ]
    },
    {
     "name": "stderr",
     "output_type": "stream",
     "text": [
      "Epoch: 532:   3%|██▋                                                                                                   | 532/20000 [6:27:00<193:00:07, 35.69s/it, lowest_loss=0.00465, pred_loss=23.9, trigger=532]"
     ]
    },
    {
     "name": "stdout",
     "output_type": "stream",
     "text": [
      "Optimizer shows weird behaviour, reinitializing at previous best_State\n"
     ]
    },
    {
     "name": "stderr",
     "output_type": "stream",
     "text": [
      "Epoch: 534:   3%|██▋                                                                                                   | 534/20000 [6:28:13<189:17:55, 35.01s/it, lowest_loss=0.00465, pred_loss=23.9, trigger=534]"
     ]
    },
    {
     "name": "stdout",
     "output_type": "stream",
     "text": [
      "Optimizer shows weird behaviour, reinitializing at previous best_State\n"
     ]
    },
    {
     "name": "stderr",
     "output_type": "stream",
     "text": [
      "Epoch: 536:   3%|██▋                                                                                                   | 536/20000 [6:29:26<186:28:24, 34.49s/it, lowest_loss=0.00465, pred_loss=23.9, trigger=536]"
     ]
    },
    {
     "name": "stdout",
     "output_type": "stream",
     "text": [
      "Optimizer shows weird behaviour, reinitializing at previous best_State\n"
     ]
    },
    {
     "name": "stderr",
     "output_type": "stream",
     "text": [
      "Epoch: 538:   3%|██▋                                                                                                   | 538/20000 [6:30:37<183:18:31, 33.91s/it, lowest_loss=0.00465, pred_loss=23.9, trigger=538]"
     ]
    },
    {
     "name": "stdout",
     "output_type": "stream",
     "text": [
      "Optimizer shows weird behaviour, reinitializing at previous best_State\n"
     ]
    },
    {
     "name": "stderr",
     "output_type": "stream",
     "text": [
      "Epoch: 540:   3%|██▊                                                                                                   | 540/20000 [6:31:56<190:57:17, 35.33s/it, lowest_loss=0.00465, pred_loss=23.9, trigger=540]"
     ]
    },
    {
     "name": "stdout",
     "output_type": "stream",
     "text": [
      "Optimizer shows weird behaviour, reinitializing at previous best_State\n"
     ]
    },
    {
     "name": "stderr",
     "output_type": "stream",
     "text": [
      "Epoch: 542:   3%|██▊                                                                                                   | 542/20000 [6:33:12<192:20:08, 35.58s/it, lowest_loss=0.00465, pred_loss=23.9, trigger=542]"
     ]
    },
    {
     "name": "stdout",
     "output_type": "stream",
     "text": [
      "Optimizer shows weird behaviour, reinitializing at previous best_State\n"
     ]
    },
    {
     "name": "stderr",
     "output_type": "stream",
     "text": [
      "Epoch: 544:   3%|██▊                                                                                                   | 544/20000 [6:34:28<191:19:43, 35.40s/it, lowest_loss=0.00465, pred_loss=23.9, trigger=544]"
     ]
    },
    {
     "name": "stdout",
     "output_type": "stream",
     "text": [
      "Optimizer shows weird behaviour, reinitializing at previous best_State\n"
     ]
    },
    {
     "name": "stderr",
     "output_type": "stream",
     "text": [
      "Epoch: 546:   3%|██▊                                                                                                   | 546/20000 [6:35:42<189:06:09, 34.99s/it, lowest_loss=0.00465, pred_loss=23.9, trigger=546]"
     ]
    },
    {
     "name": "stdout",
     "output_type": "stream",
     "text": [
      "Optimizer shows weird behaviour, reinitializing at previous best_State\n"
     ]
    },
    {
     "name": "stderr",
     "output_type": "stream",
     "text": [
      "Epoch: 548:   3%|██▊                                                                                                   | 548/20000 [6:37:06<200:49:29, 37.17s/it, lowest_loss=0.00465, pred_loss=23.9, trigger=548]"
     ]
    },
    {
     "name": "stdout",
     "output_type": "stream",
     "text": [
      "Optimizer shows weird behaviour, reinitializing at previous best_State\n"
     ]
    },
    {
     "name": "stderr",
     "output_type": "stream",
     "text": [
      "Epoch: 550:   3%|██▊                                                                                                   | 550/20000 [6:38:27<202:36:50, 37.50s/it, lowest_loss=0.00465, pred_loss=23.9, trigger=550]"
     ]
    },
    {
     "name": "stdout",
     "output_type": "stream",
     "text": [
      "Optimizer shows weird behaviour, reinitializing at previous best_State\n"
     ]
    },
    {
     "name": "stderr",
     "output_type": "stream",
     "text": [
      "Epoch: 552:   3%|██▊                                                                                                   | 552/20000 [6:39:49<205:32:03, 38.05s/it, lowest_loss=0.00465, pred_loss=23.9, trigger=552]"
     ]
    },
    {
     "name": "stdout",
     "output_type": "stream",
     "text": [
      "Optimizer shows weird behaviour, reinitializing at previous best_State\n"
     ]
    },
    {
     "name": "stderr",
     "output_type": "stream",
     "text": [
      "Epoch: 554:   3%|██▊                                                                                                   | 554/20000 [6:41:02<196:13:59, 36.33s/it, lowest_loss=0.00465, pred_loss=23.9, trigger=554]"
     ]
    },
    {
     "name": "stdout",
     "output_type": "stream",
     "text": [
      "Optimizer shows weird behaviour, reinitializing at previous best_State\n"
     ]
    },
    {
     "name": "stderr",
     "output_type": "stream",
     "text": [
      "Epoch: 556:   3%|██▊                                                                                                   | 556/20000 [6:42:23<200:09:55, 37.06s/it, lowest_loss=0.00465, pred_loss=23.9, trigger=556]"
     ]
    },
    {
     "name": "stdout",
     "output_type": "stream",
     "text": [
      "Optimizer shows weird behaviour, reinitializing at previous best_State\n"
     ]
    },
    {
     "name": "stderr",
     "output_type": "stream",
     "text": [
      "Epoch: 558:   3%|██▊                                                                                                   | 558/20000 [6:43:49<207:17:10, 38.38s/it, lowest_loss=0.00465, pred_loss=23.9, trigger=558]"
     ]
    },
    {
     "name": "stdout",
     "output_type": "stream",
     "text": [
      "Optimizer shows weird behaviour, reinitializing at previous best_State\n"
     ]
    },
    {
     "name": "stderr",
     "output_type": "stream",
     "text": [
      "Epoch: 560:   3%|██▊                                                                                                   | 560/20000 [6:45:00<193:45:16, 35.88s/it, lowest_loss=0.00465, pred_loss=23.9, trigger=560]"
     ]
    },
    {
     "name": "stdout",
     "output_type": "stream",
     "text": [
      "Optimizer shows weird behaviour, reinitializing at previous best_State\n"
     ]
    },
    {
     "name": "stderr",
     "output_type": "stream",
     "text": [
      "Epoch: 562:   3%|██▊                                                                                                   | 562/20000 [6:46:25<205:23:50, 38.04s/it, lowest_loss=0.00465, pred_loss=23.9, trigger=562]"
     ]
    },
    {
     "name": "stdout",
     "output_type": "stream",
     "text": [
      "Optimizer shows weird behaviour, reinitializing at previous best_State\n"
     ]
    },
    {
     "name": "stderr",
     "output_type": "stream",
     "text": [
      "Epoch: 564:   3%|██▉                                                                                                   | 564/20000 [6:47:35<190:26:06, 35.27s/it, lowest_loss=0.00465, pred_loss=23.9, trigger=564]"
     ]
    },
    {
     "name": "stdout",
     "output_type": "stream",
     "text": [
      "Optimizer shows weird behaviour, reinitializing at previous best_State\n"
     ]
    },
    {
     "name": "stderr",
     "output_type": "stream",
     "text": [
      "Epoch: 566:   3%|██▉                                                                                                   | 566/20000 [6:48:51<191:56:32, 35.56s/it, lowest_loss=0.00465, pred_loss=23.9, trigger=566]"
     ]
    },
    {
     "name": "stdout",
     "output_type": "stream",
     "text": [
      "Optimizer shows weird behaviour, reinitializing at previous best_State\n"
     ]
    },
    {
     "name": "stderr",
     "output_type": "stream",
     "text": [
      "Epoch: 568:   3%|██▉                                                                                                   | 568/20000 [6:50:04<185:42:41, 34.41s/it, lowest_loss=0.00465, pred_loss=23.9, trigger=568]"
     ]
    },
    {
     "name": "stdout",
     "output_type": "stream",
     "text": [
      "Optimizer shows weird behaviour, reinitializing at previous best_State\n"
     ]
    },
    {
     "name": "stderr",
     "output_type": "stream",
     "text": [
      "Epoch: 570:   3%|██▉                                                                                                   | 570/20000 [6:51:19<186:43:46, 34.60s/it, lowest_loss=0.00465, pred_loss=23.9, trigger=570]"
     ]
    },
    {
     "name": "stdout",
     "output_type": "stream",
     "text": [
      "Optimizer shows weird behaviour, reinitializing at previous best_State\n"
     ]
    },
    {
     "name": "stderr",
     "output_type": "stream",
     "text": [
      "Epoch: 572:   3%|██▉                                                                                                   | 572/20000 [6:52:36<191:07:58, 35.42s/it, lowest_loss=0.00465, pred_loss=23.9, trigger=572]"
     ]
    },
    {
     "name": "stdout",
     "output_type": "stream",
     "text": [
      "Optimizer shows weird behaviour, reinitializing at previous best_State\n"
     ]
    },
    {
     "name": "stderr",
     "output_type": "stream",
     "text": [
      "Epoch: 574:   3%|██▉                                                                                                   | 574/20000 [6:53:50<190:55:13, 35.38s/it, lowest_loss=0.00465, pred_loss=23.9, trigger=574]"
     ]
    },
    {
     "name": "stdout",
     "output_type": "stream",
     "text": [
      "Optimizer shows weird behaviour, reinitializing at previous best_State\n"
     ]
    },
    {
     "name": "stderr",
     "output_type": "stream",
     "text": [
      "Epoch: 576:   3%|██▉                                                                                                   | 576/20000 [6:55:07<193:28:29, 35.86s/it, lowest_loss=0.00465, pred_loss=23.9, trigger=576]"
     ]
    },
    {
     "name": "stdout",
     "output_type": "stream",
     "text": [
      "Optimizer shows weird behaviour, reinitializing at previous best_State\n"
     ]
    },
    {
     "name": "stderr",
     "output_type": "stream",
     "text": [
      "Epoch: 578:   3%|██▉                                                                                                   | 578/20000 [6:56:22<193:21:06, 35.84s/it, lowest_loss=0.00465, pred_loss=23.9, trigger=578]"
     ]
    },
    {
     "name": "stdout",
     "output_type": "stream",
     "text": [
      "Optimizer shows weird behaviour, reinitializing at previous best_State\n"
     ]
    },
    {
     "name": "stderr",
     "output_type": "stream",
     "text": [
      "Epoch: 580:   3%|██▉                                                                                                   | 580/20000 [6:57:33<184:36:48, 34.22s/it, lowest_loss=0.00465, pred_loss=23.9, trigger=580]"
     ]
    },
    {
     "name": "stdout",
     "output_type": "stream",
     "text": [
      "Optimizer shows weird behaviour, reinitializing at previous best_State\n"
     ]
    },
    {
     "name": "stderr",
     "output_type": "stream",
     "text": [
      "Epoch: 582:   3%|██▉                                                                                                   | 582/20000 [6:58:43<180:07:28, 33.39s/it, lowest_loss=0.00465, pred_loss=23.9, trigger=582]"
     ]
    },
    {
     "name": "stdout",
     "output_type": "stream",
     "text": [
      "Optimizer shows weird behaviour, reinitializing at previous best_State\n"
     ]
    },
    {
     "name": "stderr",
     "output_type": "stream",
     "text": [
      "Epoch: 584:   3%|██▉                                                                                                   | 584/20000 [6:59:44<169:16:27, 31.39s/it, lowest_loss=0.00465, pred_loss=23.9, trigger=584]"
     ]
    },
    {
     "name": "stdout",
     "output_type": "stream",
     "text": [
      "Optimizer shows weird behaviour, reinitializing at previous best_State\n"
     ]
    },
    {
     "name": "stderr",
     "output_type": "stream",
     "text": [
      "Epoch: 586:   3%|██▉                                                                                                   | 586/20000 [7:00:58<177:45:09, 32.96s/it, lowest_loss=0.00465, pred_loss=23.9, trigger=586]"
     ]
    },
    {
     "name": "stdout",
     "output_type": "stream",
     "text": [
      "Optimizer shows weird behaviour, reinitializing at previous best_State\n"
     ]
    },
    {
     "name": "stderr",
     "output_type": "stream",
     "text": [
      "Epoch: 588:   3%|██▉                                                                                                   | 588/20000 [7:02:12<184:03:30, 34.13s/it, lowest_loss=0.00465, pred_loss=23.9, trigger=588]"
     ]
    },
    {
     "name": "stdout",
     "output_type": "stream",
     "text": [
      "Optimizer shows weird behaviour, reinitializing at previous best_State\n"
     ]
    },
    {
     "name": "stderr",
     "output_type": "stream",
     "text": [
      "Epoch: 590:   3%|███                                                                                                   | 590/20000 [7:03:27<186:05:12, 34.51s/it, lowest_loss=0.00465, pred_loss=23.9, trigger=590]"
     ]
    },
    {
     "name": "stdout",
     "output_type": "stream",
     "text": [
      "Optimizer shows weird behaviour, reinitializing at previous best_State\n"
     ]
    },
    {
     "name": "stderr",
     "output_type": "stream",
     "text": [
      "Epoch: 592:   3%|███                                                                                                   | 592/20000 [7:04:40<186:31:26, 34.60s/it, lowest_loss=0.00465, pred_loss=23.9, trigger=592]"
     ]
    },
    {
     "name": "stdout",
     "output_type": "stream",
     "text": [
      "Optimizer shows weird behaviour, reinitializing at previous best_State\n"
     ]
    },
    {
     "name": "stderr",
     "output_type": "stream",
     "text": [
      "Epoch: 594:   3%|███                                                                                                   | 594/20000 [7:05:54<186:17:46, 34.56s/it, lowest_loss=0.00465, pred_loss=23.9, trigger=594]"
     ]
    },
    {
     "name": "stdout",
     "output_type": "stream",
     "text": [
      "Optimizer shows weird behaviour, reinitializing at previous best_State\n"
     ]
    },
    {
     "name": "stderr",
     "output_type": "stream",
     "text": [
      "Epoch: 596:   3%|███                                                                                                   | 596/20000 [7:07:09<188:38:36, 35.00s/it, lowest_loss=0.00465, pred_loss=23.9, trigger=596]"
     ]
    },
    {
     "name": "stdout",
     "output_type": "stream",
     "text": [
      "Optimizer shows weird behaviour, reinitializing at previous best_State\n"
     ]
    },
    {
     "name": "stderr",
     "output_type": "stream",
     "text": [
      "Epoch: 598:   3%|███                                                                                                   | 598/20000 [7:08:33<200:46:02, 37.25s/it, lowest_loss=0.00465, pred_loss=23.9, trigger=598]"
     ]
    },
    {
     "name": "stdout",
     "output_type": "stream",
     "text": [
      "Optimizer shows weird behaviour, reinitializing at previous best_State\n"
     ]
    },
    {
     "name": "stderr",
     "output_type": "stream",
     "text": [
      "Epoch: 600:   3%|███                                                                                                   | 600/20000 [7:09:47<193:28:26, 35.90s/it, lowest_loss=0.00465, pred_loss=23.9, trigger=600]"
     ]
    },
    {
     "name": "stdout",
     "output_type": "stream",
     "text": [
      "Optimizer shows weird behaviour, reinitializing at previous best_State\n"
     ]
    },
    {
     "name": "stderr",
     "output_type": "stream",
     "text": [
      "Epoch: 602:   3%|███                                                                                                   | 602/20000 [7:10:58<187:45:56, 34.85s/it, lowest_loss=0.00465, pred_loss=23.9, trigger=602]"
     ]
    },
    {
     "name": "stdout",
     "output_type": "stream",
     "text": [
      "Optimizer shows weird behaviour, reinitializing at previous best_State\n"
     ]
    },
    {
     "name": "stderr",
     "output_type": "stream",
     "text": [
      "Epoch: 604:   3%|███                                                                                                   | 604/20000 [7:12:14<189:13:46, 35.12s/it, lowest_loss=0.00465, pred_loss=23.9, trigger=604]"
     ]
    },
    {
     "name": "stdout",
     "output_type": "stream",
     "text": [
      "Optimizer shows weird behaviour, reinitializing at previous best_State\n"
     ]
    },
    {
     "name": "stderr",
     "output_type": "stream",
     "text": [
      "Epoch: 606:   3%|███                                                                                                   | 606/20000 [7:13:27<185:04:23, 34.35s/it, lowest_loss=0.00465, pred_loss=23.9, trigger=606]"
     ]
    },
    {
     "name": "stdout",
     "output_type": "stream",
     "text": [
      "Optimizer shows weird behaviour, reinitializing at previous best_State\n"
     ]
    },
    {
     "name": "stderr",
     "output_type": "stream",
     "text": [
      "Epoch: 608:   3%|███                                                                                                   | 608/20000 [7:14:40<185:38:19, 34.46s/it, lowest_loss=0.00465, pred_loss=23.9, trigger=608]"
     ]
    },
    {
     "name": "stdout",
     "output_type": "stream",
     "text": [
      "Optimizer shows weird behaviour, reinitializing at previous best_State\n"
     ]
    },
    {
     "name": "stderr",
     "output_type": "stream",
     "text": [
      "Epoch: 610:   3%|███                                                                                                   | 610/20000 [7:15:57<189:46:08, 35.23s/it, lowest_loss=0.00465, pred_loss=23.9, trigger=610]"
     ]
    },
    {
     "name": "stdout",
     "output_type": "stream",
     "text": [
      "Optimizer shows weird behaviour, reinitializing at previous best_State\n"
     ]
    },
    {
     "name": "stderr",
     "output_type": "stream",
     "text": [
      "Epoch: 612:   3%|███                                                                                                   | 612/20000 [7:17:09<185:44:48, 34.49s/it, lowest_loss=0.00465, pred_loss=23.9, trigger=612]"
     ]
    },
    {
     "name": "stdout",
     "output_type": "stream",
     "text": [
      "Optimizer shows weird behaviour, reinitializing at previous best_State\n"
     ]
    },
    {
     "name": "stderr",
     "output_type": "stream",
     "text": [
      "Epoch: 614:   3%|███▏                                                                                                  | 614/20000 [7:18:32<198:43:45, 36.90s/it, lowest_loss=0.00465, pred_loss=23.9, trigger=614]"
     ]
    },
    {
     "name": "stdout",
     "output_type": "stream",
     "text": [
      "Optimizer shows weird behaviour, reinitializing at previous best_State\n"
     ]
    },
    {
     "name": "stderr",
     "output_type": "stream",
     "text": [
      "Epoch: 616:   3%|███▏                                                                                                  | 616/20000 [7:19:53<200:19:11, 37.20s/it, lowest_loss=0.00465, pred_loss=23.9, trigger=616]"
     ]
    },
    {
     "name": "stdout",
     "output_type": "stream",
     "text": [
      "Optimizer shows weird behaviour, reinitializing at previous best_State\n"
     ]
    },
    {
     "name": "stderr",
     "output_type": "stream",
     "text": [
      "Epoch: 618:   3%|███▏                                                                                                  | 618/20000 [7:21:09<196:22:28, 36.47s/it, lowest_loss=0.00465, pred_loss=23.9, trigger=618]"
     ]
    },
    {
     "name": "stdout",
     "output_type": "stream",
     "text": [
      "Optimizer shows weird behaviour, reinitializing at previous best_State\n"
     ]
    },
    {
     "name": "stderr",
     "output_type": "stream",
     "text": [
      "Epoch: 620:   3%|███▏                                                                                                  | 620/20000 [7:22:21<189:04:22, 35.12s/it, lowest_loss=0.00465, pred_loss=23.9, trigger=620]"
     ]
    },
    {
     "name": "stdout",
     "output_type": "stream",
     "text": [
      "Optimizer shows weird behaviour, reinitializing at previous best_State\n"
     ]
    },
    {
     "name": "stderr",
     "output_type": "stream",
     "text": [
      "Epoch: 622:   3%|███▏                                                                                                  | 622/20000 [7:23:32<182:27:43, 33.90s/it, lowest_loss=0.00465, pred_loss=23.9, trigger=622]"
     ]
    },
    {
     "name": "stdout",
     "output_type": "stream",
     "text": [
      "Optimizer shows weird behaviour, reinitializing at previous best_State\n"
     ]
    },
    {
     "name": "stderr",
     "output_type": "stream",
     "text": [
      "Epoch: 624:   3%|███▏                                                                                                  | 624/20000 [7:24:42<181:02:02, 33.64s/it, lowest_loss=0.00465, pred_loss=23.9, trigger=624]"
     ]
    },
    {
     "name": "stdout",
     "output_type": "stream",
     "text": [
      "Optimizer shows weird behaviour, reinitializing at previous best_State\n"
     ]
    },
    {
     "name": "stderr",
     "output_type": "stream",
     "text": [
      "Epoch: 626:   3%|███▏                                                                                                  | 626/20000 [7:26:06<197:15:25, 36.65s/it, lowest_loss=0.00465, pred_loss=23.9, trigger=626]"
     ]
    },
    {
     "name": "stdout",
     "output_type": "stream",
     "text": [
      "Optimizer shows weird behaviour, reinitializing at previous best_State\n"
     ]
    },
    {
     "name": "stderr",
     "output_type": "stream",
     "text": [
      "Epoch: 628:   3%|███▏                                                                                                  | 628/20000 [7:27:17<186:35:21, 34.67s/it, lowest_loss=0.00465, pred_loss=23.9, trigger=628]"
     ]
    },
    {
     "name": "stdout",
     "output_type": "stream",
     "text": [
      "Optimizer shows weird behaviour, reinitializing at previous best_State\n"
     ]
    },
    {
     "name": "stderr",
     "output_type": "stream",
     "text": [
      "Epoch: 630:   3%|███▏                                                                                                  | 630/20000 [7:28:36<193:05:48, 35.89s/it, lowest_loss=0.00465, pred_loss=23.9, trigger=630]"
     ]
    },
    {
     "name": "stdout",
     "output_type": "stream",
     "text": [
      "Optimizer shows weird behaviour, reinitializing at previous best_State\n"
     ]
    },
    {
     "name": "stderr",
     "output_type": "stream",
     "text": [
      "Epoch: 632:   3%|███▏                                                                                                  | 632/20000 [7:29:50<189:01:03, 35.13s/it, lowest_loss=0.00465, pred_loss=23.9, trigger=632]"
     ]
    },
    {
     "name": "stdout",
     "output_type": "stream",
     "text": [
      "Optimizer shows weird behaviour, reinitializing at previous best_State\n"
     ]
    },
    {
     "name": "stderr",
     "output_type": "stream",
     "text": [
      "Epoch: 634:   3%|███▏                                                                                                  | 634/20000 [7:31:10<196:59:56, 36.62s/it, lowest_loss=0.00465, pred_loss=23.9, trigger=634]"
     ]
    },
    {
     "name": "stdout",
     "output_type": "stream",
     "text": [
      "Optimizer shows weird behaviour, reinitializing at previous best_State\n"
     ]
    },
    {
     "name": "stderr",
     "output_type": "stream",
     "text": [
      "Epoch: 636:   3%|███▏                                                                                                  | 636/20000 [7:32:26<193:43:46, 36.02s/it, lowest_loss=0.00465, pred_loss=23.9, trigger=636]"
     ]
    },
    {
     "name": "stdout",
     "output_type": "stream",
     "text": [
      "Optimizer shows weird behaviour, reinitializing at previous best_State\n"
     ]
    },
    {
     "name": "stderr",
     "output_type": "stream",
     "text": [
      "Epoch: 638:   3%|███▎                                                                                                  | 638/20000 [7:33:37<186:36:14, 34.70s/it, lowest_loss=0.00465, pred_loss=23.9, trigger=638]"
     ]
    },
    {
     "name": "stdout",
     "output_type": "stream",
     "text": [
      "Optimizer shows weird behaviour, reinitializing at previous best_State\n"
     ]
    },
    {
     "name": "stderr",
     "output_type": "stream",
     "text": [
      "Epoch: 640:   3%|███▎                                                                                                  | 640/20000 [7:34:51<185:05:41, 34.42s/it, lowest_loss=0.00465, pred_loss=23.9, trigger=640]"
     ]
    },
    {
     "name": "stdout",
     "output_type": "stream",
     "text": [
      "Optimizer shows weird behaviour, reinitializing at previous best_State\n"
     ]
    },
    {
     "name": "stderr",
     "output_type": "stream",
     "text": [
      "Epoch: 642:   3%|███▎                                                                                                  | 642/20000 [7:35:53<172:00:05, 31.99s/it, lowest_loss=0.00465, pred_loss=23.9, trigger=642]"
     ]
    },
    {
     "name": "stdout",
     "output_type": "stream",
     "text": [
      "Optimizer shows weird behaviour, reinitializing at previous best_State\n"
     ]
    },
    {
     "name": "stderr",
     "output_type": "stream",
     "text": [
      "Epoch: 644:   3%|███▎                                                                                                  | 644/20000 [7:37:10<182:21:15, 33.92s/it, lowest_loss=0.00465, pred_loss=23.9, trigger=644]"
     ]
    },
    {
     "name": "stdout",
     "output_type": "stream",
     "text": [
      "Optimizer shows weird behaviour, reinitializing at previous best_State\n"
     ]
    },
    {
     "name": "stderr",
     "output_type": "stream",
     "text": [
      "Epoch: 646:   3%|███▎                                                                                                  | 646/20000 [7:38:19<177:53:06, 33.09s/it, lowest_loss=0.00465, pred_loss=23.9, trigger=646]"
     ]
    },
    {
     "name": "stdout",
     "output_type": "stream",
     "text": [
      "Optimizer shows weird behaviour, reinitializing at previous best_State\n"
     ]
    },
    {
     "name": "stderr",
     "output_type": "stream",
     "text": [
      "Epoch: 648:   3%|███▎                                                                                                  | 648/20000 [7:39:30<177:16:13, 32.98s/it, lowest_loss=0.00465, pred_loss=23.9, trigger=648]"
     ]
    },
    {
     "name": "stdout",
     "output_type": "stream",
     "text": [
      "Optimizer shows weird behaviour, reinitializing at previous best_State\n"
     ]
    },
    {
     "name": "stderr",
     "output_type": "stream",
     "text": [
      "Epoch: 650:   3%|███▎                                                                                                  | 650/20000 [7:40:36<171:46:04, 31.96s/it, lowest_loss=0.00465, pred_loss=23.9, trigger=650]"
     ]
    },
    {
     "name": "stdout",
     "output_type": "stream",
     "text": [
      "Optimizer shows weird behaviour, reinitializing at previous best_State\n"
     ]
    },
    {
     "name": "stderr",
     "output_type": "stream",
     "text": [
      "Epoch: 652:   3%|███▎                                                                                                  | 652/20000 [7:41:54<184:49:07, 34.39s/it, lowest_loss=0.00465, pred_loss=23.9, trigger=652]"
     ]
    },
    {
     "name": "stdout",
     "output_type": "stream",
     "text": [
      "Optimizer shows weird behaviour, reinitializing at previous best_State\n"
     ]
    },
    {
     "name": "stderr",
     "output_type": "stream",
     "text": [
      "Epoch: 654:   3%|███▎                                                                                                  | 654/20000 [7:43:02<177:33:58, 33.04s/it, lowest_loss=0.00465, pred_loss=23.9, trigger=654]"
     ]
    },
    {
     "name": "stdout",
     "output_type": "stream",
     "text": [
      "Optimizer shows weird behaviour, reinitializing at previous best_State\n"
     ]
    },
    {
     "name": "stderr",
     "output_type": "stream",
     "text": [
      "Epoch: 656:   3%|███▎                                                                                                  | 656/20000 [7:44:20<188:35:26, 35.10s/it, lowest_loss=0.00465, pred_loss=23.9, trigger=656]"
     ]
    },
    {
     "name": "stdout",
     "output_type": "stream",
     "text": [
      "Optimizer shows weird behaviour, reinitializing at previous best_State\n"
     ]
    },
    {
     "name": "stderr",
     "output_type": "stream",
     "text": [
      "Epoch: 658:   3%|███▎                                                                                                  | 658/20000 [7:45:44<201:27:32, 37.50s/it, lowest_loss=0.00465, pred_loss=23.9, trigger=658]"
     ]
    },
    {
     "name": "stdout",
     "output_type": "stream",
     "text": [
      "Optimizer shows weird behaviour, reinitializing at previous best_State\n"
     ]
    },
    {
     "name": "stderr",
     "output_type": "stream",
     "text": [
      "Epoch: 660:   3%|███▎                                                                                                  | 660/20000 [7:46:56<191:22:30, 35.62s/it, lowest_loss=0.00465, pred_loss=23.9, trigger=660]"
     ]
    },
    {
     "name": "stdout",
     "output_type": "stream",
     "text": [
      "Optimizer shows weird behaviour, reinitializing at previous best_State\n"
     ]
    },
    {
     "name": "stderr",
     "output_type": "stream",
     "text": [
      "Epoch: 662:   3%|███▍                                                                                                  | 662/20000 [7:48:10<186:24:52, 34.70s/it, lowest_loss=0.00465, pred_loss=23.9, trigger=662]"
     ]
    },
    {
     "name": "stdout",
     "output_type": "stream",
     "text": [
      "Optimizer shows weird behaviour, reinitializing at previous best_State\n"
     ]
    },
    {
     "name": "stderr",
     "output_type": "stream",
     "text": [
      "Epoch: 664:   3%|███▍                                                                                                  | 664/20000 [7:49:19<178:34:37, 33.25s/it, lowest_loss=0.00465, pred_loss=23.9, trigger=664]"
     ]
    },
    {
     "name": "stdout",
     "output_type": "stream",
     "text": [
      "Optimizer shows weird behaviour, reinitializing at previous best_State\n"
     ]
    },
    {
     "name": "stderr",
     "output_type": "stream",
     "text": [
      "Epoch: 666:   3%|███▍                                                                                                  | 666/20000 [7:50:28<177:03:34, 32.97s/it, lowest_loss=0.00465, pred_loss=23.9, trigger=666]"
     ]
    },
    {
     "name": "stdout",
     "output_type": "stream",
     "text": [
      "Optimizer shows weird behaviour, reinitializing at previous best_State\n"
     ]
    },
    {
     "name": "stderr",
     "output_type": "stream",
     "text": [
      "Epoch: 668:   3%|███▍                                                                                                  | 668/20000 [7:51:39<178:50:42, 33.30s/it, lowest_loss=0.00465, pred_loss=23.9, trigger=668]"
     ]
    },
    {
     "name": "stdout",
     "output_type": "stream",
     "text": [
      "Optimizer shows weird behaviour, reinitializing at previous best_State\n"
     ]
    },
    {
     "name": "stderr",
     "output_type": "stream",
     "text": [
      "Epoch: 670:   3%|███▍                                                                                                  | 670/20000 [7:52:52<181:12:56, 33.75s/it, lowest_loss=0.00465, pred_loss=23.9, trigger=670]"
     ]
    },
    {
     "name": "stdout",
     "output_type": "stream",
     "text": [
      "Optimizer shows weird behaviour, reinitializing at previous best_State\n"
     ]
    },
    {
     "name": "stderr",
     "output_type": "stream",
     "text": [
      "Epoch: 672:   3%|███▍                                                                                                  | 672/20000 [7:54:05<182:37:11, 34.01s/it, lowest_loss=0.00465, pred_loss=23.9, trigger=672]"
     ]
    },
    {
     "name": "stdout",
     "output_type": "stream",
     "text": [
      "Optimizer shows weird behaviour, reinitializing at previous best_State\n"
     ]
    },
    {
     "name": "stderr",
     "output_type": "stream",
     "text": [
      "Epoch: 674:   3%|███▍                                                                                                  | 674/20000 [7:55:27<194:06:46, 36.16s/it, lowest_loss=0.00465, pred_loss=23.9, trigger=674]"
     ]
    },
    {
     "name": "stdout",
     "output_type": "stream",
     "text": [
      "Optimizer shows weird behaviour, reinitializing at previous best_State\n"
     ]
    },
    {
     "name": "stderr",
     "output_type": "stream",
     "text": [
      "Epoch: 676:   3%|███▍                                                                                                  | 676/20000 [7:56:50<200:39:33, 37.38s/it, lowest_loss=0.00465, pred_loss=23.9, trigger=676]"
     ]
    },
    {
     "name": "stdout",
     "output_type": "stream",
     "text": [
      "Optimizer shows weird behaviour, reinitializing at previous best_State\n"
     ]
    },
    {
     "name": "stderr",
     "output_type": "stream",
     "text": [
      "Epoch: 678:   3%|███▍                                                                                                  | 678/20000 [7:58:04<192:47:40, 35.92s/it, lowest_loss=0.00465, pred_loss=23.9, trigger=678]"
     ]
    },
    {
     "name": "stdout",
     "output_type": "stream",
     "text": [
      "Optimizer shows weird behaviour, reinitializing at previous best_State\n"
     ]
    },
    {
     "name": "stderr",
     "output_type": "stream",
     "text": [
      "Epoch: 680:   3%|███▍                                                                                                  | 680/20000 [7:59:14<183:47:23, 34.25s/it, lowest_loss=0.00465, pred_loss=23.9, trigger=680]"
     ]
    },
    {
     "name": "stdout",
     "output_type": "stream",
     "text": [
      "Optimizer shows weird behaviour, reinitializing at previous best_State\n"
     ]
    },
    {
     "name": "stderr",
     "output_type": "stream",
     "text": [
      "Epoch: 682:   3%|███▍                                                                                                  | 682/20000 [8:00:32<188:02:05, 35.04s/it, lowest_loss=0.00465, pred_loss=23.9, trigger=682]"
     ]
    },
    {
     "name": "stdout",
     "output_type": "stream",
     "text": [
      "Optimizer shows weird behaviour, reinitializing at previous best_State\n"
     ]
    },
    {
     "name": "stderr",
     "output_type": "stream",
     "text": [
      "Epoch: 684:   3%|███▍                                                                                                  | 684/20000 [8:01:50<191:37:24, 35.71s/it, lowest_loss=0.00465, pred_loss=23.9, trigger=684]"
     ]
    },
    {
     "name": "stdout",
     "output_type": "stream",
     "text": [
      "Optimizer shows weird behaviour, reinitializing at previous best_State\n"
     ]
    },
    {
     "name": "stderr",
     "output_type": "stream",
     "text": [
      "Epoch: 686:   3%|███▍                                                                                                  | 686/20000 [8:03:07<192:52:23, 35.95s/it, lowest_loss=0.00465, pred_loss=23.9, trigger=686]"
     ]
    },
    {
     "name": "stdout",
     "output_type": "stream",
     "text": [
      "Optimizer shows weird behaviour, reinitializing at previous best_State\n"
     ]
    },
    {
     "name": "stderr",
     "output_type": "stream",
     "text": [
      "Epoch: 688:   3%|███▌                                                                                                  | 688/20000 [8:04:27<198:38:52, 37.03s/it, lowest_loss=0.00465, pred_loss=23.9, trigger=688]"
     ]
    },
    {
     "name": "stdout",
     "output_type": "stream",
     "text": [
      "Optimizer shows weird behaviour, reinitializing at previous best_State\n"
     ]
    },
    {
     "name": "stderr",
     "output_type": "stream",
     "text": [
      "Epoch: 690:   3%|███▌                                                                                                  | 690/20000 [8:05:38<185:45:00, 34.63s/it, lowest_loss=0.00465, pred_loss=23.9, trigger=690]"
     ]
    },
    {
     "name": "stdout",
     "output_type": "stream",
     "text": [
      "Optimizer shows weird behaviour, reinitializing at previous best_State\n"
     ]
    },
    {
     "name": "stderr",
     "output_type": "stream",
     "text": [
      "Epoch: 692:   3%|███▌                                                                                                  | 692/20000 [8:06:56<190:24:38, 35.50s/it, lowest_loss=0.00465, pred_loss=23.9, trigger=692]"
     ]
    },
    {
     "name": "stdout",
     "output_type": "stream",
     "text": [
      "Optimizer shows weird behaviour, reinitializing at previous best_State\n"
     ]
    },
    {
     "name": "stderr",
     "output_type": "stream",
     "text": [
      "Epoch: 694:   3%|███▌                                                                                                  | 694/20000 [8:08:09<187:00:19, 34.87s/it, lowest_loss=0.00465, pred_loss=23.9, trigger=694]"
     ]
    },
    {
     "name": "stdout",
     "output_type": "stream",
     "text": [
      "Optimizer shows weird behaviour, reinitializing at previous best_State\n"
     ]
    },
    {
     "name": "stderr",
     "output_type": "stream",
     "text": [
      "Epoch: 696:   3%|███▌                                                                                                  | 696/20000 [8:09:26<190:06:26, 35.45s/it, lowest_loss=0.00465, pred_loss=23.9, trigger=696]"
     ]
    },
    {
     "name": "stdout",
     "output_type": "stream",
     "text": [
      "Optimizer shows weird behaviour, reinitializing at previous best_State\n"
     ]
    },
    {
     "name": "stderr",
     "output_type": "stream",
     "text": [
      "Epoch: 698:   3%|███▌                                                                                                  | 698/20000 [8:10:43<191:51:42, 35.78s/it, lowest_loss=0.00465, pred_loss=23.9, trigger=698]"
     ]
    },
    {
     "name": "stdout",
     "output_type": "stream",
     "text": [
      "Optimizer shows weird behaviour, reinitializing at previous best_State\n"
     ]
    },
    {
     "name": "stderr",
     "output_type": "stream",
     "text": [
      "Epoch: 700:   4%|███▌                                                                                                  | 700/20000 [8:11:56<188:31:09, 35.16s/it, lowest_loss=0.00465, pred_loss=23.9, trigger=700]"
     ]
    },
    {
     "name": "stdout",
     "output_type": "stream",
     "text": [
      "Optimizer shows weird behaviour, reinitializing at previous best_State\n"
     ]
    },
    {
     "name": "stderr",
     "output_type": "stream",
     "text": [
      "Epoch: 702:   4%|███▌                                                                                                  | 702/20000 [8:13:08<184:11:33, 34.36s/it, lowest_loss=0.00465, pred_loss=23.9, trigger=702]"
     ]
    },
    {
     "name": "stdout",
     "output_type": "stream",
     "text": [
      "Optimizer shows weird behaviour, reinitializing at previous best_State\n"
     ]
    },
    {
     "name": "stderr",
     "output_type": "stream",
     "text": [
      "Epoch: 704:   4%|███▌                                                                                                  | 704/20000 [8:14:08<166:57:19, 31.15s/it, lowest_loss=0.00465, pred_loss=23.9, trigger=704]"
     ]
    },
    {
     "name": "stdout",
     "output_type": "stream",
     "text": [
      "Optimizer shows weird behaviour, reinitializing at previous best_State\n"
     ]
    },
    {
     "name": "stderr",
     "output_type": "stream",
     "text": [
      "Epoch: 706:   4%|███▌                                                                                                  | 706/20000 [8:15:21<174:04:56, 32.48s/it, lowest_loss=0.00465, pred_loss=23.9, trigger=706]"
     ]
    },
    {
     "name": "stdout",
     "output_type": "stream",
     "text": [
      "Optimizer shows weird behaviour, reinitializing at previous best_State\n"
     ]
    },
    {
     "name": "stderr",
     "output_type": "stream",
     "text": [
      "Epoch: 708:   4%|███▌                                                                                                  | 708/20000 [8:16:31<173:05:54, 32.30s/it, lowest_loss=0.00465, pred_loss=23.9, trigger=708]"
     ]
    },
    {
     "name": "stdout",
     "output_type": "stream",
     "text": [
      "Optimizer shows weird behaviour, reinitializing at previous best_State\n"
     ]
    },
    {
     "name": "stderr",
     "output_type": "stream",
     "text": [
      "Epoch: 710:   4%|███▌                                                                                                  | 710/20000 [8:17:49<185:39:27, 34.65s/it, lowest_loss=0.00465, pred_loss=23.9, trigger=710]"
     ]
    },
    {
     "name": "stdout",
     "output_type": "stream",
     "text": [
      "Optimizer shows weird behaviour, reinitializing at previous best_State\n"
     ]
    },
    {
     "name": "stderr",
     "output_type": "stream",
     "text": [
      "Epoch: 712:   4%|███▋                                                                                                  | 712/20000 [8:18:57<176:23:13, 32.92s/it, lowest_loss=0.00465, pred_loss=23.9, trigger=712]"
     ]
    },
    {
     "name": "stdout",
     "output_type": "stream",
     "text": [
      "Optimizer shows weird behaviour, reinitializing at previous best_State\n"
     ]
    },
    {
     "name": "stderr",
     "output_type": "stream",
     "text": [
      "Epoch: 714:   4%|███▋                                                                                                  | 714/20000 [8:20:12<183:15:02, 34.21s/it, lowest_loss=0.00465, pred_loss=23.9, trigger=714]"
     ]
    },
    {
     "name": "stdout",
     "output_type": "stream",
     "text": [
      "Optimizer shows weird behaviour, reinitializing at previous best_State\n"
     ]
    },
    {
     "name": "stderr",
     "output_type": "stream",
     "text": [
      "Epoch: 716:   4%|███▋                                                                                                  | 716/20000 [8:21:24<180:57:24, 33.78s/it, lowest_loss=0.00465, pred_loss=23.9, trigger=716]"
     ]
    },
    {
     "name": "stdout",
     "output_type": "stream",
     "text": [
      "Optimizer shows weird behaviour, reinitializing at previous best_State\n"
     ]
    },
    {
     "name": "stderr",
     "output_type": "stream",
     "text": [
      "Epoch: 718:   4%|███▋                                                                                                  | 718/20000 [8:22:41<186:38:25, 34.85s/it, lowest_loss=0.00465, pred_loss=23.9, trigger=718]"
     ]
    },
    {
     "name": "stdout",
     "output_type": "stream",
     "text": [
      "Optimizer shows weird behaviour, reinitializing at previous best_State\n"
     ]
    },
    {
     "name": "stderr",
     "output_type": "stream",
     "text": [
      "Epoch: 720:   4%|███▋                                                                                                  | 720/20000 [8:23:48<178:14:38, 33.28s/it, lowest_loss=0.00465, pred_loss=23.9, trigger=720]"
     ]
    },
    {
     "name": "stdout",
     "output_type": "stream",
     "text": [
      "Optimizer shows weird behaviour, reinitializing at previous best_State\n"
     ]
    },
    {
     "name": "stderr",
     "output_type": "stream",
     "text": [
      "Epoch: 722:   4%|███▋                                                                                                  | 722/20000 [8:25:06<186:05:01, 34.75s/it, lowest_loss=0.00465, pred_loss=23.9, trigger=722]"
     ]
    },
    {
     "name": "stdout",
     "output_type": "stream",
     "text": [
      "Optimizer shows weird behaviour, reinitializing at previous best_State\n"
     ]
    },
    {
     "name": "stderr",
     "output_type": "stream",
     "text": [
      "Epoch: 724:   4%|███▋                                                                                                  | 724/20000 [8:26:17<183:54:33, 34.35s/it, lowest_loss=0.00465, pred_loss=23.9, trigger=724]"
     ]
    },
    {
     "name": "stdout",
     "output_type": "stream",
     "text": [
      "Optimizer shows weird behaviour, reinitializing at previous best_State\n"
     ]
    },
    {
     "name": "stderr",
     "output_type": "stream",
     "text": [
      "Epoch: 726:   4%|███▋                                                                                                  | 726/20000 [8:27:37<193:24:41, 36.13s/it, lowest_loss=0.00465, pred_loss=23.9, trigger=726]"
     ]
    },
    {
     "name": "stdout",
     "output_type": "stream",
     "text": [
      "Optimizer shows weird behaviour, reinitializing at previous best_State\n"
     ]
    },
    {
     "name": "stderr",
     "output_type": "stream",
     "text": [
      "Epoch: 728:   4%|███▋                                                                                                  | 728/20000 [8:28:49<186:21:12, 34.81s/it, lowest_loss=0.00465, pred_loss=23.9, trigger=728]"
     ]
    },
    {
     "name": "stdout",
     "output_type": "stream",
     "text": [
      "Optimizer shows weird behaviour, reinitializing at previous best_State\n"
     ]
    },
    {
     "name": "stderr",
     "output_type": "stream",
     "text": [
      "Epoch: 730:   4%|███▋                                                                                                  | 730/20000 [8:30:04<187:20:02, 35.00s/it, lowest_loss=0.00465, pred_loss=23.9, trigger=730]"
     ]
    },
    {
     "name": "stdout",
     "output_type": "stream",
     "text": [
      "Optimizer shows weird behaviour, reinitializing at previous best_State\n"
     ]
    },
    {
     "name": "stderr",
     "output_type": "stream",
     "text": [
      "Epoch: 732:   4%|███▋                                                                                                  | 732/20000 [8:31:17<185:10:41, 34.60s/it, lowest_loss=0.00465, pred_loss=23.9, trigger=732]"
     ]
    },
    {
     "name": "stdout",
     "output_type": "stream",
     "text": [
      "Optimizer shows weird behaviour, reinitializing at previous best_State\n"
     ]
    },
    {
     "name": "stderr",
     "output_type": "stream",
     "text": [
      "Epoch: 734:   4%|███▋                                                                                                  | 734/20000 [8:32:29<181:45:58, 33.96s/it, lowest_loss=0.00465, pred_loss=23.9, trigger=734]"
     ]
    },
    {
     "name": "stdout",
     "output_type": "stream",
     "text": [
      "Optimizer shows weird behaviour, reinitializing at previous best_State\n"
     ]
    },
    {
     "name": "stderr",
     "output_type": "stream",
     "text": [
      "Epoch: 736:   4%|███▊                                                                                                  | 736/20000 [8:33:38<178:11:37, 33.30s/it, lowest_loss=0.00465, pred_loss=23.9, trigger=736]"
     ]
    },
    {
     "name": "stdout",
     "output_type": "stream",
     "text": [
      "Optimizer shows weird behaviour, reinitializing at previous best_State\n"
     ]
    },
    {
     "name": "stderr",
     "output_type": "stream",
     "text": [
      "Epoch: 738:   4%|███▊                                                                                                  | 738/20000 [8:34:47<175:18:46, 32.77s/it, lowest_loss=0.00465, pred_loss=23.9, trigger=738]"
     ]
    },
    {
     "name": "stdout",
     "output_type": "stream",
     "text": [
      "Optimizer shows weird behaviour, reinitializing at previous best_State\n"
     ]
    },
    {
     "name": "stderr",
     "output_type": "stream",
     "text": [
      "Epoch: 740:   4%|███▊                                                                                                  | 740/20000 [8:36:00<178:49:03, 33.42s/it, lowest_loss=0.00465, pred_loss=23.9, trigger=740]"
     ]
    },
    {
     "name": "stdout",
     "output_type": "stream",
     "text": [
      "Optimizer shows weird behaviour, reinitializing at previous best_State\n"
     ]
    },
    {
     "name": "stderr",
     "output_type": "stream",
     "text": [
      "Epoch: 742:   4%|███▊                                                                                                  | 742/20000 [8:37:04<169:41:45, 31.72s/it, lowest_loss=0.00465, pred_loss=23.9, trigger=742]"
     ]
    },
    {
     "name": "stdout",
     "output_type": "stream",
     "text": [
      "Optimizer shows weird behaviour, reinitializing at previous best_State\n"
     ]
    },
    {
     "name": "stderr",
     "output_type": "stream",
     "text": [
      "Epoch: 744:   4%|███▊                                                                                                  | 744/20000 [8:38:20<180:27:39, 33.74s/it, lowest_loss=0.00465, pred_loss=23.9, trigger=744]"
     ]
    },
    {
     "name": "stdout",
     "output_type": "stream",
     "text": [
      "Optimizer shows weird behaviour, reinitializing at previous best_State\n"
     ]
    },
    {
     "name": "stderr",
     "output_type": "stream",
     "text": [
      "Epoch: 746:   4%|███▊                                                                                                  | 746/20000 [8:39:31<180:36:57, 33.77s/it, lowest_loss=0.00465, pred_loss=23.9, trigger=746]"
     ]
    },
    {
     "name": "stdout",
     "output_type": "stream",
     "text": [
      "Optimizer shows weird behaviour, reinitializing at previous best_State\n"
     ]
    },
    {
     "name": "stderr",
     "output_type": "stream",
     "text": [
      "Epoch: 748:   4%|███▊                                                                                                  | 748/20000 [8:40:42<177:41:24, 33.23s/it, lowest_loss=0.00465, pred_loss=23.9, trigger=748]"
     ]
    },
    {
     "name": "stdout",
     "output_type": "stream",
     "text": [
      "Optimizer shows weird behaviour, reinitializing at previous best_State\n"
     ]
    },
    {
     "name": "stderr",
     "output_type": "stream",
     "text": [
      "Epoch: 750:   4%|███▊                                                                                                  | 750/20000 [8:41:53<178:04:16, 33.30s/it, lowest_loss=0.00465, pred_loss=23.9, trigger=750]"
     ]
    },
    {
     "name": "stdout",
     "output_type": "stream",
     "text": [
      "Optimizer shows weird behaviour, reinitializing at previous best_State\n"
     ]
    },
    {
     "name": "stderr",
     "output_type": "stream",
     "text": [
      "Epoch: 752:   4%|███▊                                                                                                  | 752/20000 [8:43:11<185:08:48, 34.63s/it, lowest_loss=0.00465, pred_loss=23.9, trigger=752]"
     ]
    },
    {
     "name": "stdout",
     "output_type": "stream",
     "text": [
      "Optimizer shows weird behaviour, reinitializing at previous best_State\n"
     ]
    },
    {
     "name": "stderr",
     "output_type": "stream",
     "text": [
      "Epoch: 754:   4%|███▊                                                                                                  | 754/20000 [8:44:23<181:33:05, 33.96s/it, lowest_loss=0.00465, pred_loss=23.9, trigger=754]"
     ]
    },
    {
     "name": "stdout",
     "output_type": "stream",
     "text": [
      "Optimizer shows weird behaviour, reinitializing at previous best_State\n"
     ]
    },
    {
     "name": "stderr",
     "output_type": "stream",
     "text": [
      "Epoch: 756:   4%|███▊                                                                                                  | 756/20000 [8:45:33<176:23:25, 33.00s/it, lowest_loss=0.00465, pred_loss=23.9, trigger=756]"
     ]
    },
    {
     "name": "stdout",
     "output_type": "stream",
     "text": [
      "Optimizer shows weird behaviour, reinitializing at previous best_State\n"
     ]
    },
    {
     "name": "stderr",
     "output_type": "stream",
     "text": [
      "Epoch: 758:   4%|███▊                                                                                                  | 758/20000 [8:46:54<191:03:56, 35.75s/it, lowest_loss=0.00465, pred_loss=23.9, trigger=758]"
     ]
    },
    {
     "name": "stdout",
     "output_type": "stream",
     "text": [
      "Optimizer shows weird behaviour, reinitializing at previous best_State\n"
     ]
    },
    {
     "name": "stderr",
     "output_type": "stream",
     "text": [
      "Epoch: 760:   4%|███▉                                                                                                  | 760/20000 [8:48:21<203:59:01, 38.17s/it, lowest_loss=0.00465, pred_loss=23.9, trigger=760]"
     ]
    },
    {
     "name": "stdout",
     "output_type": "stream",
     "text": [
      "Optimizer shows weird behaviour, reinitializing at previous best_State\n"
     ]
    },
    {
     "name": "stderr",
     "output_type": "stream",
     "text": [
      "Epoch: 762:   4%|███▉                                                                                                  | 762/20000 [8:49:42<203:16:36, 38.04s/it, lowest_loss=0.00465, pred_loss=23.9, trigger=762]"
     ]
    },
    {
     "name": "stdout",
     "output_type": "stream",
     "text": [
      "Optimizer shows weird behaviour, reinitializing at previous best_State\n"
     ]
    },
    {
     "name": "stderr",
     "output_type": "stream",
     "text": [
      "Epoch: 764:   4%|███▉                                                                                                  | 764/20000 [8:50:47<184:20:45, 34.50s/it, lowest_loss=0.00465, pred_loss=23.9, trigger=764]"
     ]
    },
    {
     "name": "stdout",
     "output_type": "stream",
     "text": [
      "Optimizer shows weird behaviour, reinitializing at previous best_State\n"
     ]
    },
    {
     "name": "stderr",
     "output_type": "stream",
     "text": [
      "Epoch: 766:   4%|███▉                                                                                                  | 766/20000 [8:52:03<187:44:56, 35.14s/it, lowest_loss=0.00465, pred_loss=23.9, trigger=766]"
     ]
    },
    {
     "name": "stdout",
     "output_type": "stream",
     "text": [
      "Optimizer shows weird behaviour, reinitializing at previous best_State\n"
     ]
    },
    {
     "name": "stderr",
     "output_type": "stream",
     "text": [
      "Epoch: 768:   4%|███▉                                                                                                  | 768/20000 [8:53:17<185:08:46, 34.66s/it, lowest_loss=0.00465, pred_loss=23.9, trigger=768]"
     ]
    },
    {
     "name": "stdout",
     "output_type": "stream",
     "text": [
      "Optimizer shows weird behaviour, reinitializing at previous best_State\n"
     ]
    },
    {
     "name": "stderr",
     "output_type": "stream",
     "text": [
      "Epoch: 770:   4%|███▉                                                                                                  | 770/20000 [8:54:40<196:46:21, 36.84s/it, lowest_loss=0.00465, pred_loss=23.9, trigger=770]"
     ]
    },
    {
     "name": "stdout",
     "output_type": "stream",
     "text": [
      "Optimizer shows weird behaviour, reinitializing at previous best_State\n"
     ]
    },
    {
     "name": "stderr",
     "output_type": "stream",
     "text": [
      "Epoch: 772:   4%|███▉                                                                                                  | 772/20000 [8:55:45<181:16:23, 33.94s/it, lowest_loss=0.00465, pred_loss=23.9, trigger=772]"
     ]
    },
    {
     "name": "stdout",
     "output_type": "stream",
     "text": [
      "Optimizer shows weird behaviour, reinitializing at previous best_State\n"
     ]
    },
    {
     "name": "stderr",
     "output_type": "stream",
     "text": [
      "Epoch: 774:   4%|███▉                                                                                                  | 774/20000 [8:56:56<177:56:15, 33.32s/it, lowest_loss=0.00465, pred_loss=23.9, trigger=774]"
     ]
    },
    {
     "name": "stdout",
     "output_type": "stream",
     "text": [
      "Optimizer shows weird behaviour, reinitializing at previous best_State\n"
     ]
    },
    {
     "name": "stderr",
     "output_type": "stream",
     "text": [
      "Epoch: 776:   4%|███▉                                                                                                  | 776/20000 [8:58:15<189:33:49, 35.50s/it, lowest_loss=0.00465, pred_loss=23.9, trigger=776]"
     ]
    },
    {
     "name": "stdout",
     "output_type": "stream",
     "text": [
      "Optimizer shows weird behaviour, reinitializing at previous best_State\n"
     ]
    },
    {
     "name": "stderr",
     "output_type": "stream",
     "text": [
      "Epoch: 778:   4%|███▉                                                                                                  | 778/20000 [8:59:28<186:04:38, 34.85s/it, lowest_loss=0.00465, pred_loss=23.9, trigger=778]"
     ]
    },
    {
     "name": "stdout",
     "output_type": "stream",
     "text": [
      "Optimizer shows weird behaviour, reinitializing at previous best_State\n"
     ]
    },
    {
     "name": "stderr",
     "output_type": "stream",
     "text": [
      "Epoch: 780:   4%|███▉                                                                                                  | 780/20000 [9:00:28<166:38:05, 31.21s/it, lowest_loss=0.00465, pred_loss=23.9, trigger=780]"
     ]
    },
    {
     "name": "stdout",
     "output_type": "stream",
     "text": [
      "Optimizer shows weird behaviour, reinitializing at previous best_State\n"
     ]
    },
    {
     "name": "stderr",
     "output_type": "stream",
     "text": [
      "Epoch: 782:   4%|███▉                                                                                                  | 782/20000 [9:01:44<179:31:15, 33.63s/it, lowest_loss=0.00465, pred_loss=23.9, trigger=782]"
     ]
    },
    {
     "name": "stdout",
     "output_type": "stream",
     "text": [
      "Optimizer shows weird behaviour, reinitializing at previous best_State\n"
     ]
    },
    {
     "name": "stderr",
     "output_type": "stream",
     "text": [
      "Epoch: 784:   4%|███▉                                                                                                  | 784/20000 [9:02:52<173:30:10, 32.50s/it, lowest_loss=0.00465, pred_loss=23.9, trigger=784]"
     ]
    },
    {
     "name": "stdout",
     "output_type": "stream",
     "text": [
      "Optimizer shows weird behaviour, reinitializing at previous best_State\n"
     ]
    },
    {
     "name": "stderr",
     "output_type": "stream",
     "text": [
      "Epoch: 786:   4%|████                                                                                                  | 786/20000 [9:04:08<182:22:21, 34.17s/it, lowest_loss=0.00465, pred_loss=23.9, trigger=786]"
     ]
    },
    {
     "name": "stdout",
     "output_type": "stream",
     "text": [
      "Optimizer shows weird behaviour, reinitializing at previous best_State\n"
     ]
    },
    {
     "name": "stderr",
     "output_type": "stream",
     "text": [
      "Epoch: 788:   4%|████                                                                                                  | 788/20000 [9:05:19<179:16:09, 33.59s/it, lowest_loss=0.00465, pred_loss=23.9, trigger=788]"
     ]
    },
    {
     "name": "stdout",
     "output_type": "stream",
     "text": [
      "Optimizer shows weird behaviour, reinitializing at previous best_State\n"
     ]
    },
    {
     "name": "stderr",
     "output_type": "stream",
     "text": [
      "Epoch: 790:   4%|████                                                                                                  | 790/20000 [9:06:38<188:44:04, 35.37s/it, lowest_loss=0.00465, pred_loss=23.9, trigger=790]"
     ]
    },
    {
     "name": "stdout",
     "output_type": "stream",
     "text": [
      "Optimizer shows weird behaviour, reinitializing at previous best_State\n"
     ]
    },
    {
     "name": "stderr",
     "output_type": "stream",
     "text": [
      "Epoch: 792:   4%|████                                                                                                  | 792/20000 [9:07:56<192:56:57, 36.16s/it, lowest_loss=0.00465, pred_loss=23.9, trigger=792]"
     ]
    },
    {
     "name": "stdout",
     "output_type": "stream",
     "text": [
      "Optimizer shows weird behaviour, reinitializing at previous best_State\n"
     ]
    },
    {
     "name": "stderr",
     "output_type": "stream",
     "text": [
      "Epoch: 794:   4%|████                                                                                                  | 794/20000 [9:09:09<187:27:03, 35.14s/it, lowest_loss=0.00465, pred_loss=23.9, trigger=794]"
     ]
    },
    {
     "name": "stdout",
     "output_type": "stream",
     "text": [
      "Optimizer shows weird behaviour, reinitializing at previous best_State\n"
     ]
    },
    {
     "name": "stderr",
     "output_type": "stream",
     "text": [
      "Epoch: 796:   4%|████                                                                                                  | 796/20000 [9:10:29<193:41:27, 36.31s/it, lowest_loss=0.00465, pred_loss=23.9, trigger=796]"
     ]
    },
    {
     "name": "stdout",
     "output_type": "stream",
     "text": [
      "Optimizer shows weird behaviour, reinitializing at previous best_State\n"
     ]
    },
    {
     "name": "stderr",
     "output_type": "stream",
     "text": [
      "Epoch: 798:   4%|████                                                                                                  | 798/20000 [9:11:44<191:53:18, 35.98s/it, lowest_loss=0.00465, pred_loss=23.9, trigger=798]"
     ]
    },
    {
     "name": "stdout",
     "output_type": "stream",
     "text": [
      "Optimizer shows weird behaviour, reinitializing at previous best_State\n"
     ]
    },
    {
     "name": "stderr",
     "output_type": "stream",
     "text": [
      "Epoch: 800:   4%|████                                                                                                  | 800/20000 [9:13:00<190:01:07, 35.63s/it, lowest_loss=0.00465, pred_loss=23.9, trigger=800]"
     ]
    },
    {
     "name": "stdout",
     "output_type": "stream",
     "text": [
      "Optimizer shows weird behaviour, reinitializing at previous best_State\n"
     ]
    },
    {
     "name": "stderr",
     "output_type": "stream",
     "text": [
      "Epoch: 802:   4%|████                                                                                                  | 802/20000 [9:14:10<182:48:18, 34.28s/it, lowest_loss=0.00465, pred_loss=23.9, trigger=802]"
     ]
    },
    {
     "name": "stdout",
     "output_type": "stream",
     "text": [
      "Optimizer shows weird behaviour, reinitializing at previous best_State\n"
     ]
    },
    {
     "name": "stderr",
     "output_type": "stream",
     "text": [
      "Epoch: 804:   4%|████                                                                                                  | 804/20000 [9:15:35<196:58:12, 36.94s/it, lowest_loss=0.00465, pred_loss=23.9, trigger=804]"
     ]
    },
    {
     "name": "stdout",
     "output_type": "stream",
     "text": [
      "Optimizer shows weird behaviour, reinitializing at previous best_State\n"
     ]
    },
    {
     "name": "stderr",
     "output_type": "stream",
     "text": [
      "Epoch: 806:   4%|████                                                                                                  | 806/20000 [9:16:40<178:31:25, 33.48s/it, lowest_loss=0.00465, pred_loss=23.9, trigger=806]"
     ]
    },
    {
     "name": "stdout",
     "output_type": "stream",
     "text": [
      "Optimizer shows weird behaviour, reinitializing at previous best_State\n"
     ]
    },
    {
     "name": "stderr",
     "output_type": "stream",
     "text": [
      "Epoch: 808:   4%|████                                                                                                  | 808/20000 [9:18:00<190:03:06, 35.65s/it, lowest_loss=0.00465, pred_loss=23.9, trigger=808]"
     ]
    },
    {
     "name": "stdout",
     "output_type": "stream",
     "text": [
      "Optimizer shows weird behaviour, reinitializing at previous best_State\n"
     ]
    },
    {
     "name": "stderr",
     "output_type": "stream",
     "text": [
      "Epoch: 810:   4%|████▏                                                                                                 | 810/20000 [9:19:20<194:28:43, 36.48s/it, lowest_loss=0.00465, pred_loss=23.9, trigger=810]"
     ]
    },
    {
     "name": "stdout",
     "output_type": "stream",
     "text": [
      "Optimizer shows weird behaviour, reinitializing at previous best_State\n"
     ]
    },
    {
     "name": "stderr",
     "output_type": "stream",
     "text": [
      "Epoch: 812:   4%|████▏                                                                                                 | 812/20000 [9:20:38<195:58:36, 36.77s/it, lowest_loss=0.00465, pred_loss=23.9, trigger=812]"
     ]
    },
    {
     "name": "stdout",
     "output_type": "stream",
     "text": [
      "Optimizer shows weird behaviour, reinitializing at previous best_State\n"
     ]
    },
    {
     "name": "stderr",
     "output_type": "stream",
     "text": [
      "Epoch: 814:   4%|████▏                                                                                                 | 814/20000 [9:21:54<191:09:19, 35.87s/it, lowest_loss=0.00465, pred_loss=23.9, trigger=814]"
     ]
    },
    {
     "name": "stdout",
     "output_type": "stream",
     "text": [
      "Optimizer shows weird behaviour, reinitializing at previous best_State\n"
     ]
    },
    {
     "name": "stderr",
     "output_type": "stream",
     "text": [
      "Epoch: 816:   4%|████▏                                                                                                 | 816/20000 [9:23:05<184:01:34, 34.53s/it, lowest_loss=0.00465, pred_loss=23.9, trigger=816]"
     ]
    },
    {
     "name": "stdout",
     "output_type": "stream",
     "text": [
      "Optimizer shows weird behaviour, reinitializing at previous best_State\n"
     ]
    },
    {
     "name": "stderr",
     "output_type": "stream",
     "text": [
      "Epoch: 818:   4%|████▏                                                                                                 | 818/20000 [9:24:24<191:30:23, 35.94s/it, lowest_loss=0.00465, pred_loss=23.9, trigger=818]"
     ]
    },
    {
     "name": "stdout",
     "output_type": "stream",
     "text": [
      "Optimizer shows weird behaviour, reinitializing at previous best_State\n"
     ]
    },
    {
     "name": "stderr",
     "output_type": "stream",
     "text": [
      "Epoch: 820:   4%|████▏                                                                                                 | 820/20000 [9:25:38<188:27:54, 35.37s/it, lowest_loss=0.00465, pred_loss=23.9, trigger=820]"
     ]
    },
    {
     "name": "stdout",
     "output_type": "stream",
     "text": [
      "Optimizer shows weird behaviour, reinitializing at previous best_State\n"
     ]
    },
    {
     "name": "stderr",
     "output_type": "stream",
     "text": [
      "Epoch: 822:   4%|████▏                                                                                                 | 822/20000 [9:26:52<186:17:48, 34.97s/it, lowest_loss=0.00465, pred_loss=23.9, trigger=822]"
     ]
    },
    {
     "name": "stdout",
     "output_type": "stream",
     "text": [
      "Optimizer shows weird behaviour, reinitializing at previous best_State\n"
     ]
    },
    {
     "name": "stderr",
     "output_type": "stream",
     "text": [
      "Epoch: 824:   4%|████▏                                                                                                 | 824/20000 [9:27:59<176:43:23, 33.18s/it, lowest_loss=0.00465, pred_loss=23.9, trigger=824]"
     ]
    },
    {
     "name": "stdout",
     "output_type": "stream",
     "text": [
      "Optimizer shows weird behaviour, reinitializing at previous best_State\n"
     ]
    },
    {
     "name": "stderr",
     "output_type": "stream",
     "text": [
      "Epoch: 826:   4%|████▏                                                                                                 | 826/20000 [9:29:15<184:11:35, 34.58s/it, lowest_loss=0.00465, pred_loss=23.9, trigger=826]"
     ]
    },
    {
     "name": "stdout",
     "output_type": "stream",
     "text": [
      "Optimizer shows weird behaviour, reinitializing at previous best_State\n"
     ]
    },
    {
     "name": "stderr",
     "output_type": "stream",
     "text": [
      "Epoch: 828:   4%|████▏                                                                                                 | 828/20000 [9:30:34<190:24:23, 35.75s/it, lowest_loss=0.00465, pred_loss=23.9, trigger=828]"
     ]
    },
    {
     "name": "stdout",
     "output_type": "stream",
     "text": [
      "Optimizer shows weird behaviour, reinitializing at previous best_State\n"
     ]
    },
    {
     "name": "stderr",
     "output_type": "stream",
     "text": [
      "Epoch: 830:   4%|████▏                                                                                                 | 830/20000 [9:31:47<184:53:47, 34.72s/it, lowest_loss=0.00465, pred_loss=23.9, trigger=830]"
     ]
    },
    {
     "name": "stdout",
     "output_type": "stream",
     "text": [
      "Optimizer shows weird behaviour, reinitializing at previous best_State\n"
     ]
    },
    {
     "name": "stderr",
     "output_type": "stream",
     "text": [
      "Epoch: 832:   4%|████▏                                                                                                 | 832/20000 [9:33:05<189:20:39, 35.56s/it, lowest_loss=0.00465, pred_loss=23.9, trigger=832]"
     ]
    },
    {
     "name": "stdout",
     "output_type": "stream",
     "text": [
      "Optimizer shows weird behaviour, reinitializing at previous best_State\n"
     ]
    },
    {
     "name": "stderr",
     "output_type": "stream",
     "text": [
      "Epoch: 834:   4%|████▎                                                                                                 | 834/20000 [9:34:18<184:32:14, 34.66s/it, lowest_loss=0.00465, pred_loss=23.9, trigger=834]"
     ]
    },
    {
     "name": "stdout",
     "output_type": "stream",
     "text": [
      "Optimizer shows weird behaviour, reinitializing at previous best_State\n"
     ]
    },
    {
     "name": "stderr",
     "output_type": "stream",
     "text": [
      "Epoch: 836:   4%|████▎                                                                                                 | 836/20000 [9:35:28<180:47:25, 33.96s/it, lowest_loss=0.00465, pred_loss=23.9, trigger=836]"
     ]
    },
    {
     "name": "stdout",
     "output_type": "stream",
     "text": [
      "Optimizer shows weird behaviour, reinitializing at previous best_State\n"
     ]
    },
    {
     "name": "stderr",
     "output_type": "stream",
     "text": [
      "Epoch: 838:   4%|████▎                                                                                                 | 838/20000 [9:36:37<178:08:33, 33.47s/it, lowest_loss=0.00465, pred_loss=23.9, trigger=838]"
     ]
    },
    {
     "name": "stdout",
     "output_type": "stream",
     "text": [
      "Optimizer shows weird behaviour, reinitializing at previous best_State\n"
     ]
    },
    {
     "name": "stderr",
     "output_type": "stream",
     "text": [
      "Epoch: 840:   4%|████▎                                                                                                 | 840/20000 [9:37:48<177:54:28, 33.43s/it, lowest_loss=0.00465, pred_loss=23.9, trigger=840]"
     ]
    },
    {
     "name": "stdout",
     "output_type": "stream",
     "text": [
      "Optimizer shows weird behaviour, reinitializing at previous best_State\n"
     ]
    },
    {
     "name": "stderr",
     "output_type": "stream",
     "text": [
      "Epoch: 842:   4%|████▎                                                                                                 | 842/20000 [9:38:57<176:34:27, 33.18s/it, lowest_loss=0.00465, pred_loss=23.9, trigger=842]"
     ]
    },
    {
     "name": "stdout",
     "output_type": "stream",
     "text": [
      "Optimizer shows weird behaviour, reinitializing at previous best_State\n"
     ]
    },
    {
     "name": "stderr",
     "output_type": "stream",
     "text": [
      "Epoch: 844:   4%|████▎                                                                                                 | 844/20000 [9:40:04<169:21:07, 31.83s/it, lowest_loss=0.00465, pred_loss=23.9, trigger=844]"
     ]
    },
    {
     "name": "stdout",
     "output_type": "stream",
     "text": [
      "Optimizer shows weird behaviour, reinitializing at previous best_State\n"
     ]
    },
    {
     "name": "stderr",
     "output_type": "stream",
     "text": [
      "Epoch: 846:   4%|████▎                                                                                                 | 846/20000 [9:41:13<168:42:57, 31.71s/it, lowest_loss=0.00465, pred_loss=23.9, trigger=846]"
     ]
    },
    {
     "name": "stdout",
     "output_type": "stream",
     "text": [
      "Optimizer shows weird behaviour, reinitializing at previous best_State\n"
     ]
    },
    {
     "name": "stderr",
     "output_type": "stream",
     "text": [
      "Epoch: 848:   4%|████▎                                                                                                 | 848/20000 [9:42:33<182:58:58, 34.40s/it, lowest_loss=0.00465, pred_loss=23.9, trigger=848]"
     ]
    },
    {
     "name": "stdout",
     "output_type": "stream",
     "text": [
      "Optimizer shows weird behaviour, reinitializing at previous best_State\n"
     ]
    },
    {
     "name": "stderr",
     "output_type": "stream",
     "text": [
      "Epoch: 850:   4%|████▎                                                                                                 | 850/20000 [9:43:45<180:23:39, 33.91s/it, lowest_loss=0.00465, pred_loss=23.9, trigger=850]"
     ]
    },
    {
     "name": "stdout",
     "output_type": "stream",
     "text": [
      "Optimizer shows weird behaviour, reinitializing at previous best_State\n"
     ]
    },
    {
     "name": "stderr",
     "output_type": "stream",
     "text": [
      "Epoch: 852:   4%|████▎                                                                                                 | 852/20000 [9:45:04<189:47:43, 35.68s/it, lowest_loss=0.00465, pred_loss=23.9, trigger=852]"
     ]
    },
    {
     "name": "stdout",
     "output_type": "stream",
     "text": [
      "Optimizer shows weird behaviour, reinitializing at previous best_State\n"
     ]
    },
    {
     "name": "stderr",
     "output_type": "stream",
     "text": [
      "Epoch: 854:   4%|████▎                                                                                                 | 854/20000 [9:46:06<171:11:28, 32.19s/it, lowest_loss=0.00465, pred_loss=23.9, trigger=854]"
     ]
    },
    {
     "name": "stdout",
     "output_type": "stream",
     "text": [
      "Optimizer shows weird behaviour, reinitializing at previous best_State\n"
     ]
    },
    {
     "name": "stderr",
     "output_type": "stream",
     "text": [
      "Epoch: 856:   4%|████▎                                                                                                 | 856/20000 [9:47:12<168:49:37, 31.75s/it, lowest_loss=0.00465, pred_loss=23.9, trigger=856]"
     ]
    },
    {
     "name": "stdout",
     "output_type": "stream",
     "text": [
      "Optimizer shows weird behaviour, reinitializing at previous best_State\n"
     ]
    },
    {
     "name": "stderr",
     "output_type": "stream",
     "text": [
      "Epoch: 858:   4%|████▍                                                                                                 | 858/20000 [9:48:24<172:54:30, 32.52s/it, lowest_loss=0.00465, pred_loss=23.9, trigger=858]"
     ]
    },
    {
     "name": "stdout",
     "output_type": "stream",
     "text": [
      "Optimizer shows weird behaviour, reinitializing at previous best_State\n"
     ]
    },
    {
     "name": "stderr",
     "output_type": "stream",
     "text": [
      "Epoch: 860:   4%|████▍                                                                                                 | 860/20000 [9:49:37<178:27:43, 33.57s/it, lowest_loss=0.00465, pred_loss=23.9, trigger=860]"
     ]
    },
    {
     "name": "stdout",
     "output_type": "stream",
     "text": [
      "Optimizer shows weird behaviour, reinitializing at previous best_State\n"
     ]
    },
    {
     "name": "stderr",
     "output_type": "stream",
     "text": [
      "Epoch: 862:   4%|████▍                                                                                                 | 862/20000 [9:50:52<183:05:09, 34.44s/it, lowest_loss=0.00465, pred_loss=23.9, trigger=862]"
     ]
    },
    {
     "name": "stdout",
     "output_type": "stream",
     "text": [
      "Optimizer shows weird behaviour, reinitializing at previous best_State\n"
     ]
    },
    {
     "name": "stderr",
     "output_type": "stream",
     "text": [
      "Epoch: 864:   4%|████▍                                                                                                 | 864/20000 [9:52:03<181:17:33, 34.11s/it, lowest_loss=0.00465, pred_loss=23.9, trigger=864]"
     ]
    },
    {
     "name": "stdout",
     "output_type": "stream",
     "text": [
      "Optimizer shows weird behaviour, reinitializing at previous best_State\n"
     ]
    },
    {
     "name": "stderr",
     "output_type": "stream",
     "text": [
      "Epoch: 866:   4%|████▍                                                                                                 | 866/20000 [9:53:26<194:05:06, 36.52s/it, lowest_loss=0.00465, pred_loss=23.9, trigger=866]"
     ]
    },
    {
     "name": "stdout",
     "output_type": "stream",
     "text": [
      "Optimizer shows weird behaviour, reinitializing at previous best_State\n"
     ]
    },
    {
     "name": "stderr",
     "output_type": "stream",
     "text": [
      "Epoch: 868:   4%|████▍                                                                                                 | 868/20000 [9:54:33<178:54:54, 33.67s/it, lowest_loss=0.00465, pred_loss=23.9, trigger=868]"
     ]
    },
    {
     "name": "stdout",
     "output_type": "stream",
     "text": [
      "Optimizer shows weird behaviour, reinitializing at previous best_State\n"
     ]
    },
    {
     "name": "stderr",
     "output_type": "stream",
     "text": [
      "Epoch: 870:   4%|████▍                                                                                                 | 870/20000 [9:55:53<187:49:45, 35.35s/it, lowest_loss=0.00465, pred_loss=23.9, trigger=870]"
     ]
    },
    {
     "name": "stdout",
     "output_type": "stream",
     "text": [
      "Optimizer shows weird behaviour, reinitializing at previous best_State\n"
     ]
    },
    {
     "name": "stderr",
     "output_type": "stream",
     "text": [
      "Epoch: 872:   4%|████▍                                                                                                 | 872/20000 [9:57:12<192:48:34, 36.29s/it, lowest_loss=0.00465, pred_loss=23.9, trigger=872]"
     ]
    },
    {
     "name": "stdout",
     "output_type": "stream",
     "text": [
      "Optimizer shows weird behaviour, reinitializing at previous best_State\n"
     ]
    },
    {
     "name": "stderr",
     "output_type": "stream",
     "text": [
      "Epoch: 874:   4%|████▍                                                                                                 | 874/20000 [9:58:27<188:38:07, 35.51s/it, lowest_loss=0.00465, pred_loss=23.9, trigger=874]"
     ]
    },
    {
     "name": "stdout",
     "output_type": "stream",
     "text": [
      "Optimizer shows weird behaviour, reinitializing at previous best_State\n"
     ]
    },
    {
     "name": "stderr",
     "output_type": "stream",
     "text": [
      "Epoch: 876:   4%|████▍                                                                                                 | 876/20000 [9:59:43<188:55:49, 35.57s/it, lowest_loss=0.00465, pred_loss=23.9, trigger=876]"
     ]
    },
    {
     "name": "stdout",
     "output_type": "stream",
     "text": [
      "Optimizer shows weird behaviour, reinitializing at previous best_State\n"
     ]
    },
    {
     "name": "stderr",
     "output_type": "stream",
     "text": [
      "Epoch: 878:   4%|████▍                                                                                                | 878/20000 [10:00:59<189:52:58, 35.75s/it, lowest_loss=0.00465, pred_loss=23.9, trigger=878]"
     ]
    },
    {
     "name": "stdout",
     "output_type": "stream",
     "text": [
      "Optimizer shows weird behaviour, reinitializing at previous best_State\n"
     ]
    },
    {
     "name": "stderr",
     "output_type": "stream",
     "text": [
      "Epoch: 880:   4%|████▍                                                                                                | 880/20000 [10:02:10<182:52:48, 34.43s/it, lowest_loss=0.00465, pred_loss=23.9, trigger=880]"
     ]
    },
    {
     "name": "stdout",
     "output_type": "stream",
     "text": [
      "Optimizer shows weird behaviour, reinitializing at previous best_State\n"
     ]
    },
    {
     "name": "stderr",
     "output_type": "stream",
     "text": [
      "Epoch: 882:   4%|████▍                                                                                                | 882/20000 [10:03:20<177:54:52, 33.50s/it, lowest_loss=0.00465, pred_loss=23.9, trigger=882]"
     ]
    },
    {
     "name": "stdout",
     "output_type": "stream",
     "text": [
      "Optimizer shows weird behaviour, reinitializing at previous best_State\n"
     ]
    },
    {
     "name": "stderr",
     "output_type": "stream",
     "text": [
      "Epoch: 884:   4%|████▍                                                                                                | 884/20000 [10:04:35<181:39:56, 34.21s/it, lowest_loss=0.00465, pred_loss=23.9, trigger=884]"
     ]
    },
    {
     "name": "stdout",
     "output_type": "stream",
     "text": [
      "Optimizer shows weird behaviour, reinitializing at previous best_State\n"
     ]
    },
    {
     "name": "stderr",
     "output_type": "stream",
     "text": [
      "Epoch: 886:   4%|████▍                                                                                                | 886/20000 [10:05:47<179:24:21, 33.79s/it, lowest_loss=0.00465, pred_loss=23.9, trigger=886]"
     ]
    },
    {
     "name": "stdout",
     "output_type": "stream",
     "text": [
      "Optimizer shows weird behaviour, reinitializing at previous best_State\n"
     ]
    },
    {
     "name": "stderr",
     "output_type": "stream",
     "text": [
      "Epoch: 888:   4%|████▍                                                                                                | 888/20000 [10:07:02<185:08:25, 34.87s/it, lowest_loss=0.00465, pred_loss=23.9, trigger=888]"
     ]
    },
    {
     "name": "stdout",
     "output_type": "stream",
     "text": [
      "Optimizer shows weird behaviour, reinitializing at previous best_State\n"
     ]
    },
    {
     "name": "stderr",
     "output_type": "stream",
     "text": [
      "Epoch: 890:   4%|████▍                                                                                                | 890/20000 [10:08:15<182:23:48, 34.36s/it, lowest_loss=0.00465, pred_loss=23.9, trigger=890]"
     ]
    },
    {
     "name": "stdout",
     "output_type": "stream",
     "text": [
      "Optimizer shows weird behaviour, reinitializing at previous best_State\n"
     ]
    },
    {
     "name": "stderr",
     "output_type": "stream",
     "text": [
      "Epoch: 892:   4%|████▌                                                                                                | 892/20000 [10:09:31<185:47:13, 35.00s/it, lowest_loss=0.00465, pred_loss=23.9, trigger=892]"
     ]
    },
    {
     "name": "stdout",
     "output_type": "stream",
     "text": [
      "Optimizer shows weird behaviour, reinitializing at previous best_State\n"
     ]
    },
    {
     "name": "stderr",
     "output_type": "stream",
     "text": [
      "Epoch: 894:   4%|████▌                                                                                                | 894/20000 [10:10:42<179:45:47, 33.87s/it, lowest_loss=0.00465, pred_loss=23.9, trigger=894]"
     ]
    },
    {
     "name": "stdout",
     "output_type": "stream",
     "text": [
      "Optimizer shows weird behaviour, reinitializing at previous best_State\n"
     ]
    },
    {
     "name": "stderr",
     "output_type": "stream",
     "text": [
      "Epoch: 896:   4%|████▌                                                                                                | 896/20000 [10:11:51<174:13:05, 32.83s/it, lowest_loss=0.00465, pred_loss=23.9, trigger=896]"
     ]
    },
    {
     "name": "stdout",
     "output_type": "stream",
     "text": [
      "Optimizer shows weird behaviour, reinitializing at previous best_State\n"
     ]
    },
    {
     "name": "stderr",
     "output_type": "stream",
     "text": [
      "Epoch: 898:   4%|████▌                                                                                                | 898/20000 [10:13:12<187:34:02, 35.35s/it, lowest_loss=0.00465, pred_loss=23.9, trigger=898]"
     ]
    },
    {
     "name": "stdout",
     "output_type": "stream",
     "text": [
      "Optimizer shows weird behaviour, reinitializing at previous best_State\n"
     ]
    },
    {
     "name": "stderr",
     "output_type": "stream",
     "text": [
      "Epoch: 900:   4%|████▌                                                                                                | 900/20000 [10:14:36<197:28:36, 37.22s/it, lowest_loss=0.00465, pred_loss=23.9, trigger=900]"
     ]
    },
    {
     "name": "stdout",
     "output_type": "stream",
     "text": [
      "Optimizer shows weird behaviour, reinitializing at previous best_State\n"
     ]
    },
    {
     "name": "stderr",
     "output_type": "stream",
     "text": [
      "Epoch: 902:   5%|████▌                                                                                                | 902/20000 [10:15:46<185:14:11, 34.92s/it, lowest_loss=0.00465, pred_loss=23.9, trigger=902]"
     ]
    },
    {
     "name": "stdout",
     "output_type": "stream",
     "text": [
      "Optimizer shows weird behaviour, reinitializing at previous best_State\n"
     ]
    },
    {
     "name": "stderr",
     "output_type": "stream",
     "text": [
      "Epoch: 904:   5%|████▌                                                                                                | 904/20000 [10:16:56<180:08:24, 33.96s/it, lowest_loss=0.00465, pred_loss=23.9, trigger=904]"
     ]
    },
    {
     "name": "stdout",
     "output_type": "stream",
     "text": [
      "Optimizer shows weird behaviour, reinitializing at previous best_State\n"
     ]
    },
    {
     "name": "stderr",
     "output_type": "stream",
     "text": [
      "Epoch: 906:   5%|████▌                                                                                                | 906/20000 [10:18:07<177:32:05, 33.47s/it, lowest_loss=0.00465, pred_loss=23.9, trigger=906]"
     ]
    },
    {
     "name": "stdout",
     "output_type": "stream",
     "text": [
      "Optimizer shows weird behaviour, reinitializing at previous best_State\n"
     ]
    },
    {
     "name": "stderr",
     "output_type": "stream",
     "text": [
      "Epoch: 908:   5%|████▌                                                                                                | 908/20000 [10:19:13<171:07:16, 32.27s/it, lowest_loss=0.00465, pred_loss=23.9, trigger=908]"
     ]
    },
    {
     "name": "stdout",
     "output_type": "stream",
     "text": [
      "Optimizer shows weird behaviour, reinitializing at previous best_State\n"
     ]
    },
    {
     "name": "stderr",
     "output_type": "stream",
     "text": [
      "Epoch: 910:   5%|████▌                                                                                                | 910/20000 [10:20:35<186:25:48, 35.16s/it, lowest_loss=0.00465, pred_loss=23.9, trigger=910]"
     ]
    },
    {
     "name": "stdout",
     "output_type": "stream",
     "text": [
      "Optimizer shows weird behaviour, reinitializing at previous best_State\n"
     ]
    },
    {
     "name": "stderr",
     "output_type": "stream",
     "text": [
      "Epoch: 912:   5%|████▌                                                                                                | 912/20000 [10:21:50<186:03:13, 35.09s/it, lowest_loss=0.00465, pred_loss=23.9, trigger=912]"
     ]
    },
    {
     "name": "stdout",
     "output_type": "stream",
     "text": [
      "Optimizer shows weird behaviour, reinitializing at previous best_State\n"
     ]
    },
    {
     "name": "stderr",
     "output_type": "stream",
     "text": [
      "Epoch: 914:   5%|████▌                                                                                                | 914/20000 [10:23:10<192:06:26, 36.24s/it, lowest_loss=0.00465, pred_loss=23.9, trigger=914]"
     ]
    },
    {
     "name": "stdout",
     "output_type": "stream",
     "text": [
      "Optimizer shows weird behaviour, reinitializing at previous best_State\n"
     ]
    },
    {
     "name": "stderr",
     "output_type": "stream",
     "text": [
      "Epoch: 916:   5%|████▋                                                                                                | 916/20000 [10:24:13<174:17:17, 32.88s/it, lowest_loss=0.00465, pred_loss=23.9, trigger=916]"
     ]
    },
    {
     "name": "stdout",
     "output_type": "stream",
     "text": [
      "Optimizer shows weird behaviour, reinitializing at previous best_State\n"
     ]
    },
    {
     "name": "stderr",
     "output_type": "stream",
     "text": [
      "Epoch: 918:   5%|████▋                                                                                                | 918/20000 [10:25:25<177:11:39, 33.43s/it, lowest_loss=0.00465, pred_loss=23.9, trigger=918]"
     ]
    },
    {
     "name": "stdout",
     "output_type": "stream",
     "text": [
      "Optimizer shows weird behaviour, reinitializing at previous best_State\n"
     ]
    },
    {
     "name": "stderr",
     "output_type": "stream",
     "text": [
      "Epoch: 920:   5%|████▋                                                                                                | 920/20000 [10:26:39<179:55:36, 33.95s/it, lowest_loss=0.00465, pred_loss=23.9, trigger=920]"
     ]
    },
    {
     "name": "stdout",
     "output_type": "stream",
     "text": [
      "Optimizer shows weird behaviour, reinitializing at previous best_State\n"
     ]
    },
    {
     "name": "stderr",
     "output_type": "stream",
     "text": [
      "Epoch: 922:   5%|████▋                                                                                                | 922/20000 [10:27:42<169:51:39, 32.05s/it, lowest_loss=0.00465, pred_loss=23.9, trigger=922]"
     ]
    },
    {
     "name": "stdout",
     "output_type": "stream",
     "text": [
      "Optimizer shows weird behaviour, reinitializing at previous best_State\n"
     ]
    },
    {
     "name": "stderr",
     "output_type": "stream",
     "text": [
      "Epoch: 924:   5%|████▋                                                                                                | 924/20000 [10:28:46<164:07:25, 30.97s/it, lowest_loss=0.00465, pred_loss=23.9, trigger=924]"
     ]
    },
    {
     "name": "stdout",
     "output_type": "stream",
     "text": [
      "Optimizer shows weird behaviour, reinitializing at previous best_State\n"
     ]
    },
    {
     "name": "stderr",
     "output_type": "stream",
     "text": [
      "Epoch: 926:   5%|████▋                                                                                                | 926/20000 [10:29:59<171:43:59, 32.41s/it, lowest_loss=0.00465, pred_loss=23.9, trigger=926]"
     ]
    },
    {
     "name": "stdout",
     "output_type": "stream",
     "text": [
      "Optimizer shows weird behaviour, reinitializing at previous best_State\n"
     ]
    },
    {
     "name": "stderr",
     "output_type": "stream",
     "text": [
      "Epoch: 928:   5%|████▋                                                                                                | 928/20000 [10:31:19<183:49:45, 34.70s/it, lowest_loss=0.00465, pred_loss=23.9, trigger=928]"
     ]
    },
    {
     "name": "stdout",
     "output_type": "stream",
     "text": [
      "Optimizer shows weird behaviour, reinitializing at previous best_State\n"
     ]
    },
    {
     "name": "stderr",
     "output_type": "stream",
     "text": [
      "Epoch: 930:   5%|████▋                                                                                                | 930/20000 [10:32:36<186:54:14, 35.28s/it, lowest_loss=0.00465, pred_loss=23.9, trigger=930]"
     ]
    },
    {
     "name": "stdout",
     "output_type": "stream",
     "text": [
      "Optimizer shows weird behaviour, reinitializing at previous best_State\n"
     ]
    },
    {
     "name": "stderr",
     "output_type": "stream",
     "text": [
      "Epoch: 932:   5%|████▋                                                                                                | 932/20000 [10:33:50<186:55:07, 35.29s/it, lowest_loss=0.00465, pred_loss=23.9, trigger=932]"
     ]
    },
    {
     "name": "stdout",
     "output_type": "stream",
     "text": [
      "Optimizer shows weird behaviour, reinitializing at previous best_State\n"
     ]
    },
    {
     "name": "stderr",
     "output_type": "stream",
     "text": [
      "Epoch: 934:   5%|████▋                                                                                                | 934/20000 [10:35:00<180:05:23, 34.00s/it, lowest_loss=0.00465, pred_loss=23.9, trigger=934]"
     ]
    },
    {
     "name": "stdout",
     "output_type": "stream",
     "text": [
      "Optimizer shows weird behaviour, reinitializing at previous best_State\n"
     ]
    },
    {
     "name": "stderr",
     "output_type": "stream",
     "text": [
      "Epoch: 936:   5%|████▋                                                                                                | 936/20000 [10:36:13<180:30:12, 34.09s/it, lowest_loss=0.00465, pred_loss=23.9, trigger=936]"
     ]
    },
    {
     "name": "stdout",
     "output_type": "stream",
     "text": [
      "Optimizer shows weird behaviour, reinitializing at previous best_State\n"
     ]
    },
    {
     "name": "stderr",
     "output_type": "stream",
     "text": [
      "Epoch: 938:   5%|████▋                                                                                                | 938/20000 [10:37:32<187:44:23, 35.46s/it, lowest_loss=0.00465, pred_loss=23.9, trigger=938]"
     ]
    },
    {
     "name": "stdout",
     "output_type": "stream",
     "text": [
      "Optimizer shows weird behaviour, reinitializing at previous best_State\n"
     ]
    },
    {
     "name": "stderr",
     "output_type": "stream",
     "text": [
      "Epoch: 940:   5%|████▋                                                                                                | 940/20000 [10:38:42<180:28:33, 34.09s/it, lowest_loss=0.00465, pred_loss=23.9, trigger=940]"
     ]
    },
    {
     "name": "stdout",
     "output_type": "stream",
     "text": [
      "Optimizer shows weird behaviour, reinitializing at previous best_State\n"
     ]
    },
    {
     "name": "stderr",
     "output_type": "stream",
     "text": [
      "Epoch: 942:   5%|████▊                                                                                                | 942/20000 [10:40:05<192:55:18, 36.44s/it, lowest_loss=0.00465, pred_loss=23.9, trigger=942]"
     ]
    },
    {
     "name": "stdout",
     "output_type": "stream",
     "text": [
      "Optimizer shows weird behaviour, reinitializing at previous best_State\n"
     ]
    },
    {
     "name": "stderr",
     "output_type": "stream",
     "text": [
      "Epoch: 944:   5%|████▊                                                                                                | 944/20000 [10:41:17<185:50:08, 35.11s/it, lowest_loss=0.00465, pred_loss=23.9, trigger=944]"
     ]
    },
    {
     "name": "stdout",
     "output_type": "stream",
     "text": [
      "Optimizer shows weird behaviour, reinitializing at previous best_State\n"
     ]
    },
    {
     "name": "stderr",
     "output_type": "stream",
     "text": [
      "Epoch: 946:   5%|████▊                                                                                                | 946/20000 [10:42:35<188:20:46, 35.59s/it, lowest_loss=0.00465, pred_loss=23.9, trigger=946]"
     ]
    },
    {
     "name": "stdout",
     "output_type": "stream",
     "text": [
      "Optimizer shows weird behaviour, reinitializing at previous best_State\n"
     ]
    },
    {
     "name": "stderr",
     "output_type": "stream",
     "text": [
      "Epoch: 948:   5%|████▊                                                                                                | 948/20000 [10:44:00<198:33:54, 37.52s/it, lowest_loss=0.00465, pred_loss=23.9, trigger=948]"
     ]
    },
    {
     "name": "stdout",
     "output_type": "stream",
     "text": [
      "Optimizer shows weird behaviour, reinitializing at previous best_State\n"
     ]
    },
    {
     "name": "stderr",
     "output_type": "stream",
     "text": [
      "Epoch: 950:   5%|████▊                                                                                                | 950/20000 [10:45:19<197:53:12, 37.40s/it, lowest_loss=0.00465, pred_loss=23.9, trigger=950]"
     ]
    },
    {
     "name": "stdout",
     "output_type": "stream",
     "text": [
      "Optimizer shows weird behaviour, reinitializing at previous best_State\n"
     ]
    },
    {
     "name": "stderr",
     "output_type": "stream",
     "text": [
      "Epoch: 952:   5%|████▊                                                                                                | 952/20000 [10:46:38<197:49:55, 37.39s/it, lowest_loss=0.00465, pred_loss=23.9, trigger=952]"
     ]
    },
    {
     "name": "stdout",
     "output_type": "stream",
     "text": [
      "Optimizer shows weird behaviour, reinitializing at previous best_State\n"
     ]
    },
    {
     "name": "stderr",
     "output_type": "stream",
     "text": [
      "Epoch: 954:   5%|████▊                                                                                                | 954/20000 [10:47:53<193:35:06, 36.59s/it, lowest_loss=0.00465, pred_loss=23.9, trigger=954]"
     ]
    },
    {
     "name": "stdout",
     "output_type": "stream",
     "text": [
      "Optimizer shows weird behaviour, reinitializing at previous best_State\n"
     ]
    },
    {
     "name": "stderr",
     "output_type": "stream",
     "text": [
      "Epoch: 956:   5%|████▊                                                                                                | 956/20000 [10:49:14<194:16:30, 36.72s/it, lowest_loss=0.00465, pred_loss=23.9, trigger=956]"
     ]
    },
    {
     "name": "stdout",
     "output_type": "stream",
     "text": [
      "Optimizer shows weird behaviour, reinitializing at previous best_State\n"
     ]
    },
    {
     "name": "stderr",
     "output_type": "stream",
     "text": [
      "Epoch: 958:   5%|████▊                                                                                                | 958/20000 [10:50:35<197:58:12, 37.43s/it, lowest_loss=0.00465, pred_loss=23.9, trigger=958]"
     ]
    },
    {
     "name": "stdout",
     "output_type": "stream",
     "text": [
      "Optimizer shows weird behaviour, reinitializing at previous best_State\n"
     ]
    },
    {
     "name": "stderr",
     "output_type": "stream",
     "text": [
      "Epoch: 960:   5%|████▊                                                                                                | 960/20000 [10:51:49<188:52:56, 35.71s/it, lowest_loss=0.00465, pred_loss=23.9, trigger=960]"
     ]
    },
    {
     "name": "stdout",
     "output_type": "stream",
     "text": [
      "Optimizer shows weird behaviour, reinitializing at previous best_State\n"
     ]
    },
    {
     "name": "stderr",
     "output_type": "stream",
     "text": [
      "Epoch: 962:   5%|████▊                                                                                                | 962/20000 [10:53:14<199:10:36, 37.66s/it, lowest_loss=0.00465, pred_loss=23.9, trigger=962]"
     ]
    },
    {
     "name": "stdout",
     "output_type": "stream",
     "text": [
      "Optimizer shows weird behaviour, reinitializing at previous best_State\n"
     ]
    },
    {
     "name": "stderr",
     "output_type": "stream",
     "text": [
      "Epoch: 964:   5%|████▊                                                                                                | 964/20000 [10:54:40<206:49:28, 39.11s/it, lowest_loss=0.00465, pred_loss=23.9, trigger=964]"
     ]
    },
    {
     "name": "stdout",
     "output_type": "stream",
     "text": [
      "Optimizer shows weird behaviour, reinitializing at previous best_State\n"
     ]
    },
    {
     "name": "stderr",
     "output_type": "stream",
     "text": [
      "Epoch: 966:   5%|████▉                                                                                                | 966/20000 [10:55:54<196:08:39, 37.10s/it, lowest_loss=0.00465, pred_loss=23.9, trigger=966]"
     ]
    },
    {
     "name": "stdout",
     "output_type": "stream",
     "text": [
      "Optimizer shows weird behaviour, reinitializing at previous best_State\n"
     ]
    },
    {
     "name": "stderr",
     "output_type": "stream",
     "text": [
      "Epoch: 968:   5%|████▉                                                                                                | 968/20000 [10:57:22<206:05:14, 38.98s/it, lowest_loss=0.00465, pred_loss=23.9, trigger=968]"
     ]
    },
    {
     "name": "stdout",
     "output_type": "stream",
     "text": [
      "Optimizer shows weird behaviour, reinitializing at previous best_State\n"
     ]
    },
    {
     "name": "stderr",
     "output_type": "stream",
     "text": [
      "Epoch: 970:   5%|████▉                                                                                                | 970/20000 [10:58:41<201:34:41, 38.13s/it, lowest_loss=0.00465, pred_loss=23.9, trigger=970]"
     ]
    },
    {
     "name": "stdout",
     "output_type": "stream",
     "text": [
      "Optimizer shows weird behaviour, reinitializing at previous best_State\n"
     ]
    },
    {
     "name": "stderr",
     "output_type": "stream",
     "text": [
      "Epoch: 972:   5%|████▉                                                                                                | 972/20000 [11:00:02<199:47:01, 37.80s/it, lowest_loss=0.00465, pred_loss=23.9, trigger=972]"
     ]
    },
    {
     "name": "stdout",
     "output_type": "stream",
     "text": [
      "Optimizer shows weird behaviour, reinitializing at previous best_State\n"
     ]
    },
    {
     "name": "stderr",
     "output_type": "stream",
     "text": [
      "Epoch: 974:   5%|████▉                                                                                                | 974/20000 [11:01:18<191:49:14, 36.30s/it, lowest_loss=0.00465, pred_loss=23.9, trigger=974]"
     ]
    },
    {
     "name": "stdout",
     "output_type": "stream",
     "text": [
      "Optimizer shows weird behaviour, reinitializing at previous best_State\n"
     ]
    },
    {
     "name": "stderr",
     "output_type": "stream",
     "text": [
      "Epoch: 976:   5%|████▉                                                                                                | 976/20000 [11:02:35<191:32:53, 36.25s/it, lowest_loss=0.00465, pred_loss=23.9, trigger=976]"
     ]
    },
    {
     "name": "stdout",
     "output_type": "stream",
     "text": [
      "Optimizer shows weird behaviour, reinitializing at previous best_State\n"
     ]
    },
    {
     "name": "stderr",
     "output_type": "stream",
     "text": [
      "Epoch: 978:   5%|████▉                                                                                                | 978/20000 [11:03:46<182:32:10, 34.55s/it, lowest_loss=0.00465, pred_loss=23.9, trigger=978]"
     ]
    },
    {
     "name": "stdout",
     "output_type": "stream",
     "text": [
      "Optimizer shows weird behaviour, reinitializing at previous best_State\n"
     ]
    },
    {
     "name": "stderr",
     "output_type": "stream",
     "text": [
      "Epoch: 980:   5%|████▉                                                                                                | 980/20000 [11:05:02<186:28:27, 35.29s/it, lowest_loss=0.00465, pred_loss=23.9, trigger=980]"
     ]
    },
    {
     "name": "stdout",
     "output_type": "stream",
     "text": [
      "Optimizer shows weird behaviour, reinitializing at previous best_State\n"
     ]
    },
    {
     "name": "stderr",
     "output_type": "stream",
     "text": [
      "Epoch: 982:   5%|████▉                                                                                                | 982/20000 [11:06:20<191:10:30, 36.19s/it, lowest_loss=0.00465, pred_loss=23.9, trigger=982]"
     ]
    },
    {
     "name": "stdout",
     "output_type": "stream",
     "text": [
      "Optimizer shows weird behaviour, reinitializing at previous best_State\n"
     ]
    },
    {
     "name": "stderr",
     "output_type": "stream",
     "text": [
      "Epoch: 984:   5%|████▉                                                                                                | 984/20000 [11:07:33<187:15:32, 35.45s/it, lowest_loss=0.00465, pred_loss=23.9, trigger=984]"
     ]
    },
    {
     "name": "stdout",
     "output_type": "stream",
     "text": [
      "Optimizer shows weird behaviour, reinitializing at previous best_State\n"
     ]
    },
    {
     "name": "stderr",
     "output_type": "stream",
     "text": [
      "Epoch: 986:   5%|████▉                                                                                                | 986/20000 [11:08:49<186:03:39, 35.23s/it, lowest_loss=0.00465, pred_loss=23.9, trigger=986]"
     ]
    },
    {
     "name": "stdout",
     "output_type": "stream",
     "text": [
      "Optimizer shows weird behaviour, reinitializing at previous best_State\n"
     ]
    },
    {
     "name": "stderr",
     "output_type": "stream",
     "text": [
      "Epoch: 988:   5%|████▉                                                                                                | 988/20000 [11:09:59<180:46:27, 34.23s/it, lowest_loss=0.00465, pred_loss=23.9, trigger=988]"
     ]
    },
    {
     "name": "stdout",
     "output_type": "stream",
     "text": [
      "Optimizer shows weird behaviour, reinitializing at previous best_State\n"
     ]
    },
    {
     "name": "stderr",
     "output_type": "stream",
     "text": [
      "Epoch: 990:   5%|████▉                                                                                                | 990/20000 [11:11:08<174:59:05, 33.14s/it, lowest_loss=0.00465, pred_loss=23.9, trigger=990]"
     ]
    },
    {
     "name": "stdout",
     "output_type": "stream",
     "text": [
      "Optimizer shows weird behaviour, reinitializing at previous best_State\n"
     ]
    },
    {
     "name": "stderr",
     "output_type": "stream",
     "text": [
      "Epoch: 992:   5%|█████                                                                                                | 992/20000 [11:12:23<179:53:46, 34.07s/it, lowest_loss=0.00465, pred_loss=23.9, trigger=992]"
     ]
    },
    {
     "name": "stdout",
     "output_type": "stream",
     "text": [
      "Optimizer shows weird behaviour, reinitializing at previous best_State\n"
     ]
    },
    {
     "name": "stderr",
     "output_type": "stream",
     "text": [
      "Epoch: 994:   5%|█████                                                                                                | 994/20000 [11:13:33<177:03:02, 33.54s/it, lowest_loss=0.00465, pred_loss=23.9, trigger=994]"
     ]
    },
    {
     "name": "stdout",
     "output_type": "stream",
     "text": [
      "Optimizer shows weird behaviour, reinitializing at previous best_State\n"
     ]
    },
    {
     "name": "stderr",
     "output_type": "stream",
     "text": [
      "Epoch: 996:   5%|█████                                                                                                | 996/20000 [11:14:54<188:29:51, 35.71s/it, lowest_loss=0.00465, pred_loss=23.9, trigger=996]"
     ]
    },
    {
     "name": "stdout",
     "output_type": "stream",
     "text": [
      "Optimizer shows weird behaviour, reinitializing at previous best_State\n"
     ]
    },
    {
     "name": "stderr",
     "output_type": "stream",
     "text": [
      "Epoch: 998:   5%|█████                                                                                                | 998/20000 [11:16:05<181:42:18, 34.42s/it, lowest_loss=0.00465, pred_loss=23.9, trigger=998]"
     ]
    },
    {
     "name": "stdout",
     "output_type": "stream",
     "text": [
      "Optimizer shows weird behaviour, reinitializing at previous best_State\n"
     ]
    },
    {
     "name": "stderr",
     "output_type": "stream",
     "text": [
      "Epoch: 1000:   5%|████▉                                                                                             | 1000/20000 [11:17:28<191:17:54, 36.25s/it, lowest_loss=0.00465, pred_loss=23.9, trigger=1000]"
     ]
    },
    {
     "name": "stdout",
     "output_type": "stream",
     "text": [
      "Optimizer shows weird behaviour, reinitializing at previous best_State\n"
     ]
    },
    {
     "name": "stderr",
     "output_type": "stream",
     "text": [
      "Epoch: 1002:   5%|████▉                                                                                             | 1002/20000 [11:18:42<186:57:59, 35.43s/it, lowest_loss=0.00465, pred_loss=23.9, trigger=1002]"
     ]
    },
    {
     "name": "stdout",
     "output_type": "stream",
     "text": [
      "Optimizer shows weird behaviour, reinitializing at previous best_State\n"
     ]
    },
    {
     "name": "stderr",
     "output_type": "stream",
     "text": [
      "Epoch: 1004:   5%|████▉                                                                                             | 1004/20000 [11:19:53<181:45:33, 34.45s/it, lowest_loss=0.00465, pred_loss=23.9, trigger=1004]"
     ]
    },
    {
     "name": "stdout",
     "output_type": "stream",
     "text": [
      "Optimizer shows weird behaviour, reinitializing at previous best_State\n"
     ]
    },
    {
     "name": "stderr",
     "output_type": "stream",
     "text": [
      "Epoch: 1006:   5%|████▉                                                                                             | 1006/20000 [11:21:03<175:42:53, 33.30s/it, lowest_loss=0.00465, pred_loss=23.9, trigger=1006]"
     ]
    },
    {
     "name": "stdout",
     "output_type": "stream",
     "text": [
      "Optimizer shows weird behaviour, reinitializing at previous best_State\n"
     ]
    },
    {
     "name": "stderr",
     "output_type": "stream",
     "text": [
      "Epoch: 1008:   5%|████▉                                                                                             | 1008/20000 [11:22:15<177:28:33, 33.64s/it, lowest_loss=0.00465, pred_loss=23.9, trigger=1008]"
     ]
    },
    {
     "name": "stdout",
     "output_type": "stream",
     "text": [
      "Optimizer shows weird behaviour, reinitializing at previous best_State\n"
     ]
    },
    {
     "name": "stderr",
     "output_type": "stream",
     "text": [
      "Epoch: 1010:   5%|████▉                                                                                             | 1010/20000 [11:23:29<179:36:03, 34.05s/it, lowest_loss=0.00465, pred_loss=23.9, trigger=1010]"
     ]
    },
    {
     "name": "stdout",
     "output_type": "stream",
     "text": [
      "Optimizer shows weird behaviour, reinitializing at previous best_State\n"
     ]
    },
    {
     "name": "stderr",
     "output_type": "stream",
     "text": [
      "Epoch: 1012:   5%|████▉                                                                                             | 1012/20000 [11:24:49<186:48:58, 35.42s/it, lowest_loss=0.00465, pred_loss=23.9, trigger=1012]"
     ]
    },
    {
     "name": "stdout",
     "output_type": "stream",
     "text": [
      "Optimizer shows weird behaviour, reinitializing at previous best_State\n"
     ]
    },
    {
     "name": "stderr",
     "output_type": "stream",
     "text": [
      "Epoch: 1014:   5%|████▉                                                                                             | 1014/20000 [11:26:03<185:14:31, 35.12s/it, lowest_loss=0.00465, pred_loss=23.9, trigger=1014]"
     ]
    },
    {
     "name": "stdout",
     "output_type": "stream",
     "text": [
      "Optimizer shows weird behaviour, reinitializing at previous best_State\n"
     ]
    },
    {
     "name": "stderr",
     "output_type": "stream",
     "text": [
      "Epoch: 1016:   5%|████▉                                                                                             | 1016/20000 [11:27:25<195:37:19, 37.10s/it, lowest_loss=0.00465, pred_loss=23.9, trigger=1016]"
     ]
    },
    {
     "name": "stdout",
     "output_type": "stream",
     "text": [
      "Optimizer shows weird behaviour, reinitializing at previous best_State\n"
     ]
    },
    {
     "name": "stderr",
     "output_type": "stream",
     "text": [
      "Epoch: 1018:   5%|████▉                                                                                             | 1018/20000 [11:28:35<181:08:32, 34.35s/it, lowest_loss=0.00465, pred_loss=23.9, trigger=1018]"
     ]
    },
    {
     "name": "stdout",
     "output_type": "stream",
     "text": [
      "Optimizer shows weird behaviour, reinitializing at previous best_State\n"
     ]
    },
    {
     "name": "stderr",
     "output_type": "stream",
     "text": [
      "Epoch: 1020:   5%|████▉                                                                                             | 1020/20000 [11:29:45<177:58:30, 33.76s/it, lowest_loss=0.00465, pred_loss=23.9, trigger=1020]"
     ]
    },
    {
     "name": "stdout",
     "output_type": "stream",
     "text": [
      "Optimizer shows weird behaviour, reinitializing at previous best_State\n"
     ]
    },
    {
     "name": "stderr",
     "output_type": "stream",
     "text": [
      "Epoch: 1022:   5%|█████                                                                                             | 1022/20000 [11:31:02<182:53:57, 34.69s/it, lowest_loss=0.00465, pred_loss=23.9, trigger=1022]"
     ]
    },
    {
     "name": "stdout",
     "output_type": "stream",
     "text": [
      "Optimizer shows weird behaviour, reinitializing at previous best_State\n"
     ]
    },
    {
     "name": "stderr",
     "output_type": "stream",
     "text": [
      "Epoch: 1024:   5%|█████                                                                                             | 1024/20000 [11:32:13<178:54:56, 33.94s/it, lowest_loss=0.00465, pred_loss=23.9, trigger=1024]"
     ]
    },
    {
     "name": "stdout",
     "output_type": "stream",
     "text": [
      "Optimizer shows weird behaviour, reinitializing at previous best_State\n"
     ]
    },
    {
     "name": "stderr",
     "output_type": "stream",
     "text": [
      "Epoch: 1026:   5%|█████                                                                                             | 1026/20000 [11:33:27<180:39:29, 34.28s/it, lowest_loss=0.00465, pred_loss=23.9, trigger=1026]"
     ]
    },
    {
     "name": "stdout",
     "output_type": "stream",
     "text": [
      "Optimizer shows weird behaviour, reinitializing at previous best_State\n"
     ]
    },
    {
     "name": "stderr",
     "output_type": "stream",
     "text": [
      "Epoch: 1028:   5%|█████                                                                                             | 1028/20000 [11:34:43<184:30:04, 35.01s/it, lowest_loss=0.00465, pred_loss=23.9, trigger=1028]"
     ]
    },
    {
     "name": "stdout",
     "output_type": "stream",
     "text": [
      "Optimizer shows weird behaviour, reinitializing at previous best_State\n"
     ]
    },
    {
     "name": "stderr",
     "output_type": "stream",
     "text": [
      "Epoch: 1030:   5%|█████                                                                                             | 1030/20000 [11:35:53<177:00:12, 33.59s/it, lowest_loss=0.00465, pred_loss=23.9, trigger=1030]"
     ]
    },
    {
     "name": "stdout",
     "output_type": "stream",
     "text": [
      "Optimizer shows weird behaviour, reinitializing at previous best_State\n"
     ]
    },
    {
     "name": "stderr",
     "output_type": "stream",
     "text": [
      "Epoch: 1032:   5%|█████                                                                                             | 1032/20000 [11:37:13<188:56:38, 35.86s/it, lowest_loss=0.00465, pred_loss=23.9, trigger=1032]"
     ]
    },
    {
     "name": "stdout",
     "output_type": "stream",
     "text": [
      "Optimizer shows weird behaviour, reinitializing at previous best_State\n"
     ]
    },
    {
     "name": "stderr",
     "output_type": "stream",
     "text": [
      "Epoch: 1034:   5%|█████                                                                                             | 1034/20000 [11:38:31<191:23:41, 36.33s/it, lowest_loss=0.00465, pred_loss=23.9, trigger=1034]"
     ]
    },
    {
     "name": "stdout",
     "output_type": "stream",
     "text": [
      "Optimizer shows weird behaviour, reinitializing at previous best_State\n"
     ]
    },
    {
     "name": "stderr",
     "output_type": "stream",
     "text": [
      "Epoch: 1036:   5%|█████                                                                                             | 1036/20000 [11:39:45<186:09:46, 35.34s/it, lowest_loss=0.00465, pred_loss=23.9, trigger=1036]"
     ]
    },
    {
     "name": "stdout",
     "output_type": "stream",
     "text": [
      "Optimizer shows weird behaviour, reinitializing at previous best_State\n"
     ]
    },
    {
     "name": "stderr",
     "output_type": "stream",
     "text": [
      "Epoch: 1038:   5%|█████                                                                                             | 1038/20000 [11:41:00<185:09:25, 35.15s/it, lowest_loss=0.00465, pred_loss=23.9, trigger=1038]"
     ]
    },
    {
     "name": "stdout",
     "output_type": "stream",
     "text": [
      "Optimizer shows weird behaviour, reinitializing at previous best_State\n"
     ]
    },
    {
     "name": "stderr",
     "output_type": "stream",
     "text": [
      "Epoch: 1040:   5%|█████                                                                                             | 1040/20000 [11:42:21<191:18:20, 36.32s/it, lowest_loss=0.00465, pred_loss=23.9, trigger=1040]"
     ]
    },
    {
     "name": "stdout",
     "output_type": "stream",
     "text": [
      "Optimizer shows weird behaviour, reinitializing at previous best_State\n"
     ]
    },
    {
     "name": "stderr",
     "output_type": "stream",
     "text": [
      "Epoch: 1042:   5%|█████                                                                                             | 1042/20000 [11:43:40<192:11:44, 36.50s/it, lowest_loss=0.00465, pred_loss=23.9, trigger=1042]"
     ]
    },
    {
     "name": "stdout",
     "output_type": "stream",
     "text": [
      "Optimizer shows weird behaviour, reinitializing at previous best_State\n"
     ]
    },
    {
     "name": "stderr",
     "output_type": "stream",
     "text": [
      "Epoch: 1044:   5%|█████                                                                                             | 1044/20000 [11:44:48<179:22:32, 34.07s/it, lowest_loss=0.00465, pred_loss=23.9, trigger=1044]"
     ]
    },
    {
     "name": "stdout",
     "output_type": "stream",
     "text": [
      "Optimizer shows weird behaviour, reinitializing at previous best_State\n"
     ]
    },
    {
     "name": "stderr",
     "output_type": "stream",
     "text": [
      "Epoch: 1046:   5%|█████▏                                                                                            | 1046/20000 [11:46:04<183:01:30, 34.76s/it, lowest_loss=0.00465, pred_loss=23.9, trigger=1046]"
     ]
    },
    {
     "name": "stdout",
     "output_type": "stream",
     "text": [
      "Optimizer shows weird behaviour, reinitializing at previous best_State\n"
     ]
    },
    {
     "name": "stderr",
     "output_type": "stream",
     "text": [
      "Epoch: 1048:   5%|█████▏                                                                                            | 1048/20000 [11:47:24<189:41:09, 36.03s/it, lowest_loss=0.00465, pred_loss=23.9, trigger=1048]"
     ]
    },
    {
     "name": "stdout",
     "output_type": "stream",
     "text": [
      "Optimizer shows weird behaviour, reinitializing at previous best_State\n"
     ]
    },
    {
     "name": "stderr",
     "output_type": "stream",
     "text": [
      "Epoch: 1050:   5%|█████▏                                                                                            | 1050/20000 [11:48:44<193:49:40, 36.82s/it, lowest_loss=0.00465, pred_loss=23.9, trigger=1050]"
     ]
    },
    {
     "name": "stdout",
     "output_type": "stream",
     "text": [
      "Optimizer shows weird behaviour, reinitializing at previous best_State\n"
     ]
    },
    {
     "name": "stderr",
     "output_type": "stream",
     "text": [
      "Epoch: 1052:   5%|█████▏                                                                                            | 1052/20000 [11:50:01<190:55:52, 36.28s/it, lowest_loss=0.00465, pred_loss=23.9, trigger=1052]"
     ]
    },
    {
     "name": "stdout",
     "output_type": "stream",
     "text": [
      "Optimizer shows weird behaviour, reinitializing at previous best_State\n"
     ]
    },
    {
     "name": "stderr",
     "output_type": "stream",
     "text": [
      "Epoch: 1054:   5%|█████▏                                                                                            | 1054/20000 [11:51:13<184:01:05, 34.97s/it, lowest_loss=0.00465, pred_loss=23.9, trigger=1054]"
     ]
    },
    {
     "name": "stdout",
     "output_type": "stream",
     "text": [
      "Optimizer shows weird behaviour, reinitializing at previous best_State\n"
     ]
    },
    {
     "name": "stderr",
     "output_type": "stream",
     "text": [
      "Epoch: 1056:   5%|█████▏                                                                                            | 1056/20000 [11:52:29<185:19:24, 35.22s/it, lowest_loss=0.00465, pred_loss=23.9, trigger=1056]"
     ]
    },
    {
     "name": "stdout",
     "output_type": "stream",
     "text": [
      "Optimizer shows weird behaviour, reinitializing at previous best_State\n"
     ]
    },
    {
     "name": "stderr",
     "output_type": "stream",
     "text": [
      "Epoch: 1058:   5%|█████▏                                                                                            | 1058/20000 [11:53:50<192:44:15, 36.63s/it, lowest_loss=0.00465, pred_loss=23.9, trigger=1058]"
     ]
    },
    {
     "name": "stdout",
     "output_type": "stream",
     "text": [
      "Optimizer shows weird behaviour, reinitializing at previous best_State\n"
     ]
    },
    {
     "name": "stderr",
     "output_type": "stream",
     "text": [
      "Epoch: 1060:   5%|█████▏                                                                                            | 1060/20000 [11:54:57<176:13:00, 33.49s/it, lowest_loss=0.00465, pred_loss=23.9, trigger=1060]"
     ]
    },
    {
     "name": "stdout",
     "output_type": "stream",
     "text": [
      "Optimizer shows weird behaviour, reinitializing at previous best_State\n"
     ]
    },
    {
     "name": "stderr",
     "output_type": "stream",
     "text": [
      "Epoch: 1062:   5%|█████▏                                                                                            | 1062/20000 [11:56:08<176:20:47, 33.52s/it, lowest_loss=0.00465, pred_loss=23.9, trigger=1062]"
     ]
    },
    {
     "name": "stdout",
     "output_type": "stream",
     "text": [
      "Optimizer shows weird behaviour, reinitializing at previous best_State\n"
     ]
    },
    {
     "name": "stderr",
     "output_type": "stream",
     "text": [
      "Epoch: 1064:   5%|█████▏                                                                                            | 1064/20000 [11:57:16<171:43:28, 32.65s/it, lowest_loss=0.00465, pred_loss=23.9, trigger=1064]"
     ]
    },
    {
     "name": "stdout",
     "output_type": "stream",
     "text": [
      "Optimizer shows weird behaviour, reinitializing at previous best_State\n"
     ]
    },
    {
     "name": "stderr",
     "output_type": "stream",
     "text": [
      "Epoch: 1066:   5%|█████▏                                                                                            | 1066/20000 [11:58:28<174:04:17, 33.10s/it, lowest_loss=0.00465, pred_loss=23.9, trigger=1066]"
     ]
    },
    {
     "name": "stdout",
     "output_type": "stream",
     "text": [
      "Optimizer shows weird behaviour, reinitializing at previous best_State\n"
     ]
    },
    {
     "name": "stderr",
     "output_type": "stream",
     "text": [
      "Epoch: 1068:   5%|█████▏                                                                                            | 1068/20000 [11:59:38<172:34:33, 32.82s/it, lowest_loss=0.00465, pred_loss=23.9, trigger=1068]"
     ]
    },
    {
     "name": "stdout",
     "output_type": "stream",
     "text": [
      "Optimizer shows weird behaviour, reinitializing at previous best_State\n"
     ]
    },
    {
     "name": "stderr",
     "output_type": "stream",
     "text": [
      "Epoch: 1070:   5%|█████▏                                                                                            | 1070/20000 [12:00:55<179:09:12, 34.07s/it, lowest_loss=0.00465, pred_loss=23.9, trigger=1070]"
     ]
    },
    {
     "name": "stdout",
     "output_type": "stream",
     "text": [
      "Optimizer shows weird behaviour, reinitializing at previous best_State\n"
     ]
    },
    {
     "name": "stderr",
     "output_type": "stream",
     "text": [
      "Epoch: 1072:   5%|█████▎                                                                                            | 1072/20000 [12:02:06<178:20:16, 33.92s/it, lowest_loss=0.00465, pred_loss=23.9, trigger=1072]"
     ]
    },
    {
     "name": "stdout",
     "output_type": "stream",
     "text": [
      "Optimizer shows weird behaviour, reinitializing at previous best_State\n"
     ]
    },
    {
     "name": "stderr",
     "output_type": "stream",
     "text": [
      "Epoch: 1074:   5%|█████▎                                                                                            | 1074/20000 [12:03:17<177:04:23, 33.68s/it, lowest_loss=0.00465, pred_loss=23.9, trigger=1074]"
     ]
    },
    {
     "name": "stdout",
     "output_type": "stream",
     "text": [
      "Optimizer shows weird behaviour, reinitializing at previous best_State\n"
     ]
    },
    {
     "name": "stderr",
     "output_type": "stream",
     "text": [
      "Epoch: 1076:   5%|█████▎                                                                                            | 1076/20000 [12:04:27<173:15:38, 32.96s/it, lowest_loss=0.00465, pred_loss=23.9, trigger=1076]"
     ]
    },
    {
     "name": "stdout",
     "output_type": "stream",
     "text": [
      "Optimizer shows weird behaviour, reinitializing at previous best_State\n"
     ]
    },
    {
     "name": "stderr",
     "output_type": "stream",
     "text": [
      "Epoch: 1078:   5%|█████▎                                                                                            | 1078/20000 [12:05:36<170:25:33, 32.42s/it, lowest_loss=0.00465, pred_loss=23.9, trigger=1078]"
     ]
    },
    {
     "name": "stdout",
     "output_type": "stream",
     "text": [
      "Optimizer shows weird behaviour, reinitializing at previous best_State\n"
     ]
    },
    {
     "name": "stderr",
     "output_type": "stream",
     "text": [
      "Epoch: 1080:   5%|█████▎                                                                                            | 1080/20000 [12:06:49<173:53:30, 33.09s/it, lowest_loss=0.00465, pred_loss=23.9, trigger=1080]"
     ]
    },
    {
     "name": "stdout",
     "output_type": "stream",
     "text": [
      "Optimizer shows weird behaviour, reinitializing at previous best_State\n"
     ]
    },
    {
     "name": "stderr",
     "output_type": "stream",
     "text": [
      "Epoch: 1082:   5%|█████▎                                                                                            | 1082/20000 [12:07:54<166:14:39, 31.64s/it, lowest_loss=0.00465, pred_loss=23.9, trigger=1082]"
     ]
    },
    {
     "name": "stdout",
     "output_type": "stream",
     "text": [
      "Optimizer shows weird behaviour, reinitializing at previous best_State\n"
     ]
    },
    {
     "name": "stderr",
     "output_type": "stream",
     "text": [
      "Epoch: 1084:   5%|█████▎                                                                                            | 1084/20000 [12:09:12<179:19:55, 34.13s/it, lowest_loss=0.00465, pred_loss=23.9, trigger=1084]"
     ]
    },
    {
     "name": "stdout",
     "output_type": "stream",
     "text": [
      "Optimizer shows weird behaviour, reinitializing at previous best_State\n"
     ]
    },
    {
     "name": "stderr",
     "output_type": "stream",
     "text": [
      "Epoch: 1086:   5%|█████▎                                                                                            | 1086/20000 [12:10:29<182:50:43, 34.80s/it, lowest_loss=0.00465, pred_loss=23.9, trigger=1086]"
     ]
    },
    {
     "name": "stdout",
     "output_type": "stream",
     "text": [
      "Optimizer shows weird behaviour, reinitializing at previous best_State\n"
     ]
    },
    {
     "name": "stderr",
     "output_type": "stream",
     "text": [
      "Epoch: 1088:   5%|█████▎                                                                                            | 1088/20000 [12:11:43<182:01:21, 34.65s/it, lowest_loss=0.00465, pred_loss=23.9, trigger=1088]"
     ]
    },
    {
     "name": "stdout",
     "output_type": "stream",
     "text": [
      "Optimizer shows weird behaviour, reinitializing at previous best_State\n"
     ]
    },
    {
     "name": "stderr",
     "output_type": "stream",
     "text": [
      "Epoch: 1090:   5%|█████▎                                                                                            | 1090/20000 [12:12:53<175:16:53, 33.37s/it, lowest_loss=0.00465, pred_loss=23.9, trigger=1090]"
     ]
    },
    {
     "name": "stdout",
     "output_type": "stream",
     "text": [
      "Optimizer shows weird behaviour, reinitializing at previous best_State\n"
     ]
    },
    {
     "name": "stderr",
     "output_type": "stream",
     "text": [
      "Epoch: 1092:   5%|█████▎                                                                                            | 1092/20000 [12:13:59<167:42:05, 31.93s/it, lowest_loss=0.00465, pred_loss=23.9, trigger=1092]"
     ]
    },
    {
     "name": "stdout",
     "output_type": "stream",
     "text": [
      "Optimizer shows weird behaviour, reinitializing at previous best_State\n"
     ]
    },
    {
     "name": "stderr",
     "output_type": "stream",
     "text": [
      "Epoch: 1094:   5%|█████▎                                                                                            | 1094/20000 [12:15:10<171:26:21, 32.64s/it, lowest_loss=0.00465, pred_loss=23.9, trigger=1094]"
     ]
    },
    {
     "name": "stdout",
     "output_type": "stream",
     "text": [
      "Optimizer shows weird behaviour, reinitializing at previous best_State\n"
     ]
    },
    {
     "name": "stderr",
     "output_type": "stream",
     "text": [
      "Epoch: 1096:   5%|█████▎                                                                                            | 1096/20000 [12:16:25<175:55:04, 33.50s/it, lowest_loss=0.00465, pred_loss=23.9, trigger=1096]"
     ]
    },
    {
     "name": "stdout",
     "output_type": "stream",
     "text": [
      "Optimizer shows weird behaviour, reinitializing at previous best_State\n"
     ]
    },
    {
     "name": "stderr",
     "output_type": "stream",
     "text": [
      "Epoch: 1098:   5%|█████▍                                                                                            | 1098/20000 [12:17:44<186:06:52, 35.45s/it, lowest_loss=0.00465, pred_loss=23.9, trigger=1098]"
     ]
    },
    {
     "name": "stdout",
     "output_type": "stream",
     "text": [
      "Optimizer shows weird behaviour, reinitializing at previous best_State\n"
     ]
    },
    {
     "name": "stderr",
     "output_type": "stream",
     "text": [
      "Epoch: 1100:   6%|█████▍                                                                                            | 1100/20000 [12:19:05<192:47:53, 36.72s/it, lowest_loss=0.00465, pred_loss=23.9, trigger=1100]"
     ]
    },
    {
     "name": "stdout",
     "output_type": "stream",
     "text": [
      "Optimizer shows weird behaviour, reinitializing at previous best_State\n"
     ]
    },
    {
     "name": "stderr",
     "output_type": "stream",
     "text": [
      "Epoch: 1102:   6%|█████▍                                                                                            | 1102/20000 [12:20:14<180:17:02, 34.34s/it, lowest_loss=0.00465, pred_loss=23.9, trigger=1102]"
     ]
    },
    {
     "name": "stdout",
     "output_type": "stream",
     "text": [
      "Optimizer shows weird behaviour, reinitializing at previous best_State\n"
     ]
    },
    {
     "name": "stderr",
     "output_type": "stream",
     "text": [
      "Epoch: 1104:   6%|█████▍                                                                                            | 1104/20000 [12:21:37<192:49:38, 36.74s/it, lowest_loss=0.00465, pred_loss=23.9, trigger=1104]"
     ]
    },
    {
     "name": "stdout",
     "output_type": "stream",
     "text": [
      "Optimizer shows weird behaviour, reinitializing at previous best_State\n"
     ]
    },
    {
     "name": "stderr",
     "output_type": "stream",
     "text": [
      "Epoch: 1106:   6%|█████▍                                                                                            | 1106/20000 [12:22:56<193:46:21, 36.92s/it, lowest_loss=0.00465, pred_loss=23.9, trigger=1106]"
     ]
    },
    {
     "name": "stdout",
     "output_type": "stream",
     "text": [
      "Optimizer shows weird behaviour, reinitializing at previous best_State\n"
     ]
    },
    {
     "name": "stderr",
     "output_type": "stream",
     "text": [
      "Epoch: 1108:   6%|█████▍                                                                                            | 1108/20000 [12:24:07<184:48:01, 35.21s/it, lowest_loss=0.00465, pred_loss=23.9, trigger=1108]"
     ]
    },
    {
     "name": "stdout",
     "output_type": "stream",
     "text": [
      "Optimizer shows weird behaviour, reinitializing at previous best_State\n"
     ]
    },
    {
     "name": "stderr",
     "output_type": "stream",
     "text": [
      "Epoch: 1110:   6%|█████▍                                                                                            | 1110/20000 [12:25:28<191:50:26, 36.56s/it, lowest_loss=0.00465, pred_loss=23.9, trigger=1110]"
     ]
    },
    {
     "name": "stdout",
     "output_type": "stream",
     "text": [
      "Optimizer shows weird behaviour, reinitializing at previous best_State\n"
     ]
    },
    {
     "name": "stderr",
     "output_type": "stream",
     "text": [
      "Epoch: 1112:   6%|█████▍                                                                                            | 1112/20000 [12:26:41<184:14:16, 35.12s/it, lowest_loss=0.00465, pred_loss=23.9, trigger=1112]"
     ]
    },
    {
     "name": "stdout",
     "output_type": "stream",
     "text": [
      "Optimizer shows weird behaviour, reinitializing at previous best_State\n"
     ]
    },
    {
     "name": "stderr",
     "output_type": "stream",
     "text": [
      "Epoch: 1114:   6%|█████▍                                                                                            | 1114/20000 [12:28:02<188:34:01, 35.94s/it, lowest_loss=0.00465, pred_loss=23.9, trigger=1114]"
     ]
    },
    {
     "name": "stdout",
     "output_type": "stream",
     "text": [
      "Optimizer shows weird behaviour, reinitializing at previous best_State\n"
     ]
    },
    {
     "name": "stderr",
     "output_type": "stream",
     "text": [
      "Epoch: 1116:   6%|█████▍                                                                                            | 1116/20000 [12:29:24<195:27:48, 37.26s/it, lowest_loss=0.00465, pred_loss=23.9, trigger=1116]"
     ]
    },
    {
     "name": "stdout",
     "output_type": "stream",
     "text": [
      "Optimizer shows weird behaviour, reinitializing at previous best_State\n"
     ]
    },
    {
     "name": "stderr",
     "output_type": "stream",
     "text": [
      "Epoch: 1118:   6%|█████▍                                                                                            | 1118/20000 [12:30:39<191:13:59, 36.46s/it, lowest_loss=0.00465, pred_loss=23.9, trigger=1118]"
     ]
    },
    {
     "name": "stdout",
     "output_type": "stream",
     "text": [
      "Optimizer shows weird behaviour, reinitializing at previous best_State\n"
     ]
    },
    {
     "name": "stderr",
     "output_type": "stream",
     "text": [
      "Epoch: 1120:   6%|█████▍                                                                                            | 1120/20000 [12:31:55<189:19:29, 36.10s/it, lowest_loss=0.00465, pred_loss=23.9, trigger=1120]"
     ]
    },
    {
     "name": "stdout",
     "output_type": "stream",
     "text": [
      "Optimizer shows weird behaviour, reinitializing at previous best_State\n"
     ]
    },
    {
     "name": "stderr",
     "output_type": "stream",
     "text": [
      "Epoch: 1122:   6%|█████▍                                                                                            | 1122/20000 [12:33:00<175:03:08, 33.38s/it, lowest_loss=0.00465, pred_loss=23.9, trigger=1122]"
     ]
    },
    {
     "name": "stdout",
     "output_type": "stream",
     "text": [
      "Optimizer shows weird behaviour, reinitializing at previous best_State\n"
     ]
    },
    {
     "name": "stderr",
     "output_type": "stream",
     "text": [
      "Epoch: 1124:   6%|█████▌                                                                                            | 1124/20000 [12:34:13<176:41:41, 33.70s/it, lowest_loss=0.00465, pred_loss=23.9, trigger=1124]"
     ]
    },
    {
     "name": "stdout",
     "output_type": "stream",
     "text": [
      "Optimizer shows weird behaviour, reinitializing at previous best_State\n"
     ]
    },
    {
     "name": "stderr",
     "output_type": "stream",
     "text": [
      "Epoch: 1126:   6%|█████▌                                                                                            | 1126/20000 [12:35:26<178:20:09, 34.02s/it, lowest_loss=0.00465, pred_loss=23.9, trigger=1126]"
     ]
    },
    {
     "name": "stdout",
     "output_type": "stream",
     "text": [
      "Optimizer shows weird behaviour, reinitializing at previous best_State\n"
     ]
    },
    {
     "name": "stderr",
     "output_type": "stream",
     "text": [
      "Epoch: 1128:   6%|█████▌                                                                                            | 1128/20000 [12:36:39<179:34:27, 34.26s/it, lowest_loss=0.00465, pred_loss=23.9, trigger=1128]"
     ]
    },
    {
     "name": "stdout",
     "output_type": "stream",
     "text": [
      "Optimizer shows weird behaviour, reinitializing at previous best_State\n"
     ]
    },
    {
     "name": "stderr",
     "output_type": "stream",
     "text": [
      "Epoch: 1130:   6%|█████▌                                                                                            | 1130/20000 [12:37:58<186:49:44, 35.64s/it, lowest_loss=0.00465, pred_loss=23.9, trigger=1130]"
     ]
    },
    {
     "name": "stdout",
     "output_type": "stream",
     "text": [
      "Optimizer shows weird behaviour, reinitializing at previous best_State\n"
     ]
    },
    {
     "name": "stderr",
     "output_type": "stream",
     "text": [
      "Epoch: 1132:   6%|█████▌                                                                                            | 1132/20000 [12:39:04<173:16:08, 33.06s/it, lowest_loss=0.00465, pred_loss=23.9, trigger=1132]"
     ]
    },
    {
     "name": "stdout",
     "output_type": "stream",
     "text": [
      "Optimizer shows weird behaviour, reinitializing at previous best_State\n"
     ]
    },
    {
     "name": "stderr",
     "output_type": "stream",
     "text": [
      "Epoch: 1134:   6%|█████▌                                                                                            | 1134/20000 [12:40:18<176:49:49, 33.74s/it, lowest_loss=0.00465, pred_loss=23.9, trigger=1134]"
     ]
    },
    {
     "name": "stdout",
     "output_type": "stream",
     "text": [
      "Optimizer shows weird behaviour, reinitializing at previous best_State\n"
     ]
    },
    {
     "name": "stderr",
     "output_type": "stream",
     "text": [
      "Epoch: 1136:   6%|█████▌                                                                                            | 1136/20000 [12:41:29<174:31:23, 33.31s/it, lowest_loss=0.00465, pred_loss=23.9, trigger=1136]"
     ]
    },
    {
     "name": "stdout",
     "output_type": "stream",
     "text": [
      "Optimizer shows weird behaviour, reinitializing at previous best_State\n"
     ]
    },
    {
     "name": "stderr",
     "output_type": "stream",
     "text": [
      "Epoch: 1138:   6%|█████▌                                                                                            | 1138/20000 [12:42:48<186:23:48, 35.58s/it, lowest_loss=0.00465, pred_loss=23.9, trigger=1138]"
     ]
    },
    {
     "name": "stdout",
     "output_type": "stream",
     "text": [
      "Optimizer shows weird behaviour, reinitializing at previous best_State\n"
     ]
    },
    {
     "name": "stderr",
     "output_type": "stream",
     "text": [
      "Epoch: 1140:   6%|█████▌                                                                                            | 1140/20000 [12:44:02<181:19:41, 34.61s/it, lowest_loss=0.00465, pred_loss=23.9, trigger=1140]"
     ]
    },
    {
     "name": "stdout",
     "output_type": "stream",
     "text": [
      "Optimizer shows weird behaviour, reinitializing at previous best_State\n"
     ]
    },
    {
     "name": "stderr",
     "output_type": "stream",
     "text": [
      "Epoch: 1142:   6%|█████▌                                                                                            | 1142/20000 [12:45:16<179:20:28, 34.24s/it, lowest_loss=0.00465, pred_loss=23.9, trigger=1142]"
     ]
    },
    {
     "name": "stdout",
     "output_type": "stream",
     "text": [
      "Optimizer shows weird behaviour, reinitializing at previous best_State\n"
     ]
    },
    {
     "name": "stderr",
     "output_type": "stream",
     "text": [
      "Epoch: 1144:   6%|█████▌                                                                                            | 1144/20000 [12:46:23<172:23:09, 32.91s/it, lowest_loss=0.00465, pred_loss=23.9, trigger=1144]"
     ]
    },
    {
     "name": "stdout",
     "output_type": "stream",
     "text": [
      "Optimizer shows weird behaviour, reinitializing at previous best_State\n"
     ]
    },
    {
     "name": "stderr",
     "output_type": "stream",
     "text": [
      "Epoch: 1146:   6%|█████▌                                                                                            | 1146/20000 [12:47:35<174:10:12, 33.26s/it, lowest_loss=0.00465, pred_loss=23.9, trigger=1146]"
     ]
    },
    {
     "name": "stdout",
     "output_type": "stream",
     "text": [
      "Optimizer shows weird behaviour, reinitializing at previous best_State\n"
     ]
    },
    {
     "name": "stderr",
     "output_type": "stream",
     "text": [
      "Epoch: 1148:   6%|█████▋                                                                                            | 1148/20000 [12:48:44<172:32:38, 32.95s/it, lowest_loss=0.00465, pred_loss=23.9, trigger=1148]"
     ]
    },
    {
     "name": "stdout",
     "output_type": "stream",
     "text": [
      "Optimizer shows weird behaviour, reinitializing at previous best_State\n"
     ]
    },
    {
     "name": "stderr",
     "output_type": "stream",
     "text": [
      "Epoch: 1150:   6%|█████▋                                                                                            | 1150/20000 [12:49:56<175:49:09, 33.58s/it, lowest_loss=0.00465, pred_loss=23.9, trigger=1150]"
     ]
    },
    {
     "name": "stdout",
     "output_type": "stream",
     "text": [
      "Optimizer shows weird behaviour, reinitializing at previous best_State\n"
     ]
    },
    {
     "name": "stderr",
     "output_type": "stream",
     "text": [
      "Epoch: 1152:   6%|█████▋                                                                                            | 1152/20000 [12:51:06<172:23:24, 32.93s/it, lowest_loss=0.00465, pred_loss=23.9, trigger=1152]"
     ]
    },
    {
     "name": "stdout",
     "output_type": "stream",
     "text": [
      "Optimizer shows weird behaviour, reinitializing at previous best_State\n"
     ]
    },
    {
     "name": "stderr",
     "output_type": "stream",
     "text": [
      "Epoch: 1154:   6%|█████▋                                                                                            | 1154/20000 [12:52:25<182:59:40, 34.96s/it, lowest_loss=0.00465, pred_loss=23.9, trigger=1154]"
     ]
    },
    {
     "name": "stdout",
     "output_type": "stream",
     "text": [
      "Optimizer shows weird behaviour, reinitializing at previous best_State\n"
     ]
    },
    {
     "name": "stderr",
     "output_type": "stream",
     "text": [
      "Epoch: 1156:   6%|█████▋                                                                                            | 1156/20000 [12:53:38<180:41:15, 34.52s/it, lowest_loss=0.00465, pred_loss=23.9, trigger=1156]"
     ]
    },
    {
     "name": "stdout",
     "output_type": "stream",
     "text": [
      "Optimizer shows weird behaviour, reinitializing at previous best_State\n"
     ]
    },
    {
     "name": "stderr",
     "output_type": "stream",
     "text": [
      "Epoch: 1158:   6%|█████▋                                                                                            | 1158/20000 [12:54:56<186:38:23, 35.66s/it, lowest_loss=0.00465, pred_loss=23.9, trigger=1158]"
     ]
    },
    {
     "name": "stdout",
     "output_type": "stream",
     "text": [
      "Optimizer shows weird behaviour, reinitializing at previous best_State\n"
     ]
    },
    {
     "name": "stderr",
     "output_type": "stream",
     "text": [
      "Epoch: 1160:   6%|█████▋                                                                                            | 1160/20000 [12:56:05<176:06:25, 33.65s/it, lowest_loss=0.00465, pred_loss=23.9, trigger=1160]"
     ]
    },
    {
     "name": "stdout",
     "output_type": "stream",
     "text": [
      "Optimizer shows weird behaviour, reinitializing at previous best_State\n"
     ]
    },
    {
     "name": "stderr",
     "output_type": "stream",
     "text": [
      "Epoch: 1162:   6%|█████▋                                                                                            | 1162/20000 [12:57:22<183:38:20, 35.09s/it, lowest_loss=0.00465, pred_loss=23.9, trigger=1162]"
     ]
    },
    {
     "name": "stdout",
     "output_type": "stream",
     "text": [
      "Optimizer shows weird behaviour, reinitializing at previous best_State\n"
     ]
    },
    {
     "name": "stderr",
     "output_type": "stream",
     "text": [
      "Epoch: 1164:   6%|█████▋                                                                                            | 1164/20000 [12:58:42<188:43:43, 36.07s/it, lowest_loss=0.00465, pred_loss=23.9, trigger=1164]"
     ]
    },
    {
     "name": "stdout",
     "output_type": "stream",
     "text": [
      "Optimizer shows weird behaviour, reinitializing at previous best_State\n"
     ]
    },
    {
     "name": "stderr",
     "output_type": "stream",
     "text": [
      "Epoch: 1166:   6%|█████▋                                                                                            | 1166/20000 [13:00:00<190:34:47, 36.43s/it, lowest_loss=0.00465, pred_loss=23.9, trigger=1166]"
     ]
    },
    {
     "name": "stdout",
     "output_type": "stream",
     "text": [
      "Optimizer shows weird behaviour, reinitializing at previous best_State\n"
     ]
    },
    {
     "name": "stderr",
     "output_type": "stream",
     "text": [
      "Epoch: 1168:   6%|█████▋                                                                                            | 1168/20000 [13:01:22<196:14:02, 37.51s/it, lowest_loss=0.00465, pred_loss=23.9, trigger=1168]"
     ]
    },
    {
     "name": "stdout",
     "output_type": "stream",
     "text": [
      "Optimizer shows weird behaviour, reinitializing at previous best_State\n"
     ]
    },
    {
     "name": "stderr",
     "output_type": "stream",
     "text": [
      "Epoch: 1170:   6%|█████▋                                                                                            | 1170/20000 [13:02:39<192:49:35, 36.87s/it, lowest_loss=0.00465, pred_loss=23.9, trigger=1170]"
     ]
    },
    {
     "name": "stdout",
     "output_type": "stream",
     "text": [
      "Optimizer shows weird behaviour, reinitializing at previous best_State\n"
     ]
    },
    {
     "name": "stderr",
     "output_type": "stream",
     "text": [
      "Epoch: 1172:   6%|█████▋                                                                                            | 1172/20000 [13:03:56<190:33:57, 36.44s/it, lowest_loss=0.00465, pred_loss=23.9, trigger=1172]"
     ]
    },
    {
     "name": "stdout",
     "output_type": "stream",
     "text": [
      "Optimizer shows weird behaviour, reinitializing at previous best_State\n"
     ]
    },
    {
     "name": "stderr",
     "output_type": "stream",
     "text": [
      "Epoch: 1174:   6%|█████▊                                                                                            | 1174/20000 [13:05:07<182:22:57, 34.88s/it, lowest_loss=0.00465, pred_loss=23.9, trigger=1174]"
     ]
    },
    {
     "name": "stdout",
     "output_type": "stream",
     "text": [
      "Optimizer shows weird behaviour, reinitializing at previous best_State\n"
     ]
    },
    {
     "name": "stderr",
     "output_type": "stream",
     "text": [
      "Epoch: 1176:   6%|█████▊                                                                                            | 1176/20000 [13:06:20<181:19:54, 34.68s/it, lowest_loss=0.00465, pred_loss=23.9, trigger=1176]"
     ]
    },
    {
     "name": "stdout",
     "output_type": "stream",
     "text": [
      "Optimizer shows weird behaviour, reinitializing at previous best_State\n"
     ]
    },
    {
     "name": "stderr",
     "output_type": "stream",
     "text": [
      "Epoch: 1178:   6%|█████▊                                                                                            | 1178/20000 [13:07:40<187:50:17, 35.93s/it, lowest_loss=0.00465, pred_loss=23.9, trigger=1178]"
     ]
    },
    {
     "name": "stdout",
     "output_type": "stream",
     "text": [
      "Optimizer shows weird behaviour, reinitializing at previous best_State\n"
     ]
    },
    {
     "name": "stderr",
     "output_type": "stream",
     "text": [
      "Epoch: 1180:   6%|█████▊                                                                                            | 1180/20000 [13:08:57<188:34:58, 36.07s/it, lowest_loss=0.00465, pred_loss=23.9, trigger=1180]"
     ]
    },
    {
     "name": "stdout",
     "output_type": "stream",
     "text": [
      "Optimizer shows weird behaviour, reinitializing at previous best_State\n"
     ]
    },
    {
     "name": "stderr",
     "output_type": "stream",
     "text": [
      "Epoch: 1182:   6%|█████▊                                                                                            | 1182/20000 [13:10:10<186:17:10, 35.64s/it, lowest_loss=0.00465, pred_loss=23.9, trigger=1182]"
     ]
    },
    {
     "name": "stdout",
     "output_type": "stream",
     "text": [
      "Optimizer shows weird behaviour, reinitializing at previous best_State\n"
     ]
    },
    {
     "name": "stderr",
     "output_type": "stream",
     "text": [
      "Epoch: 1184:   6%|█████▊                                                                                            | 1184/20000 [13:11:29<188:28:18, 36.06s/it, lowest_loss=0.00465, pred_loss=23.9, trigger=1184]"
     ]
    },
    {
     "name": "stdout",
     "output_type": "stream",
     "text": [
      "Optimizer shows weird behaviour, reinitializing at previous best_State\n"
     ]
    },
    {
     "name": "stderr",
     "output_type": "stream",
     "text": [
      "Epoch: 1186:   6%|█████▊                                                                                            | 1186/20000 [13:12:47<188:47:25, 36.12s/it, lowest_loss=0.00465, pred_loss=23.9, trigger=1186]"
     ]
    },
    {
     "name": "stdout",
     "output_type": "stream",
     "text": [
      "Optimizer shows weird behaviour, reinitializing at previous best_State\n"
     ]
    },
    {
     "name": "stderr",
     "output_type": "stream",
     "text": [
      "Epoch: 1188:   6%|█████▊                                                                                            | 1188/20000 [13:13:54<175:43:17, 33.63s/it, lowest_loss=0.00465, pred_loss=23.9, trigger=1188]"
     ]
    },
    {
     "name": "stdout",
     "output_type": "stream",
     "text": [
      "Optimizer shows weird behaviour, reinitializing at previous best_State\n"
     ]
    },
    {
     "name": "stderr",
     "output_type": "stream",
     "text": [
      "Epoch: 1190:   6%|█████▊                                                                                            | 1190/20000 [13:15:09<179:41:13, 34.39s/it, lowest_loss=0.00465, pred_loss=23.9, trigger=1190]"
     ]
    },
    {
     "name": "stdout",
     "output_type": "stream",
     "text": [
      "Optimizer shows weird behaviour, reinitializing at previous best_State\n"
     ]
    },
    {
     "name": "stderr",
     "output_type": "stream",
     "text": [
      "Epoch: 1192:   6%|█████▊                                                                                            | 1192/20000 [13:16:20<177:34:36, 33.99s/it, lowest_loss=0.00465, pred_loss=23.9, trigger=1192]"
     ]
    },
    {
     "name": "stdout",
     "output_type": "stream",
     "text": [
      "Optimizer shows weird behaviour, reinitializing at previous best_State\n"
     ]
    },
    {
     "name": "stderr",
     "output_type": "stream",
     "text": [
      "Epoch: 1194:   6%|█████▊                                                                                            | 1194/20000 [13:17:33<175:31:40, 33.60s/it, lowest_loss=0.00465, pred_loss=23.9, trigger=1194]"
     ]
    },
    {
     "name": "stdout",
     "output_type": "stream",
     "text": [
      "Optimizer shows weird behaviour, reinitializing at previous best_State\n"
     ]
    },
    {
     "name": "stderr",
     "output_type": "stream",
     "text": [
      "Epoch: 1196:   6%|█████▊                                                                                            | 1196/20000 [13:18:44<174:53:06, 33.48s/it, lowest_loss=0.00465, pred_loss=23.9, trigger=1196]"
     ]
    },
    {
     "name": "stdout",
     "output_type": "stream",
     "text": [
      "Optimizer shows weird behaviour, reinitializing at previous best_State\n"
     ]
    },
    {
     "name": "stderr",
     "output_type": "stream",
     "text": [
      "Epoch: 1198:   6%|█████▊                                                                                            | 1198/20000 [13:19:58<177:27:11, 33.98s/it, lowest_loss=0.00465, pred_loss=23.9, trigger=1198]"
     ]
    },
    {
     "name": "stdout",
     "output_type": "stream",
     "text": [
      "Optimizer shows weird behaviour, reinitializing at previous best_State\n"
     ]
    },
    {
     "name": "stderr",
     "output_type": "stream",
     "text": [
      "Epoch: 1200:   6%|█████▉                                                                                            | 1200/20000 [13:21:15<183:23:16, 35.12s/it, lowest_loss=0.00465, pred_loss=23.9, trigger=1200]"
     ]
    },
    {
     "name": "stdout",
     "output_type": "stream",
     "text": [
      "Optimizer shows weird behaviour, reinitializing at previous best_State\n"
     ]
    },
    {
     "name": "stderr",
     "output_type": "stream",
     "text": [
      "Epoch: 1202:   6%|█████▉                                                                                            | 1202/20000 [13:22:34<188:12:04, 36.04s/it, lowest_loss=0.00465, pred_loss=23.9, trigger=1202]"
     ]
    },
    {
     "name": "stdout",
     "output_type": "stream",
     "text": [
      "Optimizer shows weird behaviour, reinitializing at previous best_State\n"
     ]
    },
    {
     "name": "stderr",
     "output_type": "stream",
     "text": [
      "Epoch: 1204:   6%|█████▉                                                                                            | 1204/20000 [13:23:54<191:42:02, 36.72s/it, lowest_loss=0.00465, pred_loss=23.9, trigger=1204]"
     ]
    },
    {
     "name": "stdout",
     "output_type": "stream",
     "text": [
      "Optimizer shows weird behaviour, reinitializing at previous best_State\n"
     ]
    },
    {
     "name": "stderr",
     "output_type": "stream",
     "text": [
      "Epoch: 1206:   6%|█████▉                                                                                            | 1206/20000 [13:25:06<181:49:15, 34.83s/it, lowest_loss=0.00465, pred_loss=23.9, trigger=1206]"
     ]
    },
    {
     "name": "stdout",
     "output_type": "stream",
     "text": [
      "Optimizer shows weird behaviour, reinitializing at previous best_State\n"
     ]
    },
    {
     "name": "stderr",
     "output_type": "stream",
     "text": [
      "Epoch: 1208:   6%|█████▉                                                                                            | 1208/20000 [13:26:15<174:29:31, 33.43s/it, lowest_loss=0.00465, pred_loss=23.9, trigger=1208]"
     ]
    },
    {
     "name": "stdout",
     "output_type": "stream",
     "text": [
      "Optimizer shows weird behaviour, reinitializing at previous best_State\n"
     ]
    },
    {
     "name": "stderr",
     "output_type": "stream",
     "text": [
      "Epoch: 1210:   6%|█████▉                                                                                            | 1210/20000 [13:27:30<179:59:48, 34.49s/it, lowest_loss=0.00465, pred_loss=23.9, trigger=1210]"
     ]
    },
    {
     "name": "stdout",
     "output_type": "stream",
     "text": [
      "Optimizer shows weird behaviour, reinitializing at previous best_State\n"
     ]
    },
    {
     "name": "stderr",
     "output_type": "stream",
     "text": [
      "Epoch: 1212:   6%|█████▉                                                                                            | 1212/20000 [13:28:49<185:01:20, 35.45s/it, lowest_loss=0.00465, pred_loss=23.9, trigger=1212]"
     ]
    },
    {
     "name": "stdout",
     "output_type": "stream",
     "text": [
      "Optimizer shows weird behaviour, reinitializing at previous best_State\n"
     ]
    },
    {
     "name": "stderr",
     "output_type": "stream",
     "text": [
      "Epoch: 1214:   6%|█████▉                                                                                            | 1214/20000 [13:30:02<181:17:34, 34.74s/it, lowest_loss=0.00465, pred_loss=23.9, trigger=1214]"
     ]
    },
    {
     "name": "stdout",
     "output_type": "stream",
     "text": [
      "Optimizer shows weird behaviour, reinitializing at previous best_State\n"
     ]
    },
    {
     "name": "stderr",
     "output_type": "stream",
     "text": [
      "Epoch: 1216:   6%|█████▉                                                                                            | 1216/20000 [13:31:22<189:17:11, 36.28s/it, lowest_loss=0.00465, pred_loss=23.9, trigger=1216]"
     ]
    },
    {
     "name": "stdout",
     "output_type": "stream",
     "text": [
      "Optimizer shows weird behaviour, reinitializing at previous best_State\n"
     ]
    },
    {
     "name": "stderr",
     "output_type": "stream",
     "text": [
      "Epoch: 1218:   6%|█████▉                                                                                            | 1218/20000 [13:32:40<188:37:24, 36.15s/it, lowest_loss=0.00465, pred_loss=23.9, trigger=1218]"
     ]
    },
    {
     "name": "stdout",
     "output_type": "stream",
     "text": [
      "Optimizer shows weird behaviour, reinitializing at previous best_State\n"
     ]
    },
    {
     "name": "stderr",
     "output_type": "stream",
     "text": [
      "Epoch: 1220:   6%|█████▉                                                                                            | 1220/20000 [13:33:54<184:01:00, 35.27s/it, lowest_loss=0.00465, pred_loss=23.9, trigger=1220]"
     ]
    },
    {
     "name": "stdout",
     "output_type": "stream",
     "text": [
      "Optimizer shows weird behaviour, reinitializing at previous best_State\n"
     ]
    },
    {
     "name": "stderr",
     "output_type": "stream",
     "text": [
      "Epoch: 1222:   6%|█████▉                                                                                            | 1222/20000 [13:35:08<183:34:42, 35.19s/it, lowest_loss=0.00465, pred_loss=23.9, trigger=1222]"
     ]
    },
    {
     "name": "stdout",
     "output_type": "stream",
     "text": [
      "Optimizer shows weird behaviour, reinitializing at previous best_State\n"
     ]
    },
    {
     "name": "stderr",
     "output_type": "stream",
     "text": [
      "Epoch: 1224:   6%|█████▉                                                                                            | 1224/20000 [13:36:25<184:02:14, 35.29s/it, lowest_loss=0.00465, pred_loss=23.9, trigger=1224]"
     ]
    },
    {
     "name": "stdout",
     "output_type": "stream",
     "text": [
      "Optimizer shows weird behaviour, reinitializing at previous best_State\n"
     ]
    },
    {
     "name": "stderr",
     "output_type": "stream",
     "text": [
      "Epoch: 1226:   6%|██████                                                                                            | 1226/20000 [13:37:46<190:26:50, 36.52s/it, lowest_loss=0.00465, pred_loss=23.9, trigger=1226]"
     ]
    },
    {
     "name": "stdout",
     "output_type": "stream",
     "text": [
      "Optimizer shows weird behaviour, reinitializing at previous best_State\n"
     ]
    },
    {
     "name": "stderr",
     "output_type": "stream",
     "text": [
      "Epoch: 1228:   6%|██████                                                                                            | 1228/20000 [13:39:00<185:54:22, 35.65s/it, lowest_loss=0.00465, pred_loss=23.9, trigger=1228]"
     ]
    },
    {
     "name": "stdout",
     "output_type": "stream",
     "text": [
      "Optimizer shows weird behaviour, reinitializing at previous best_State\n"
     ]
    },
    {
     "name": "stderr",
     "output_type": "stream",
     "text": [
      "Epoch: 1230:   6%|██████                                                                                            | 1230/20000 [13:40:20<189:31:39, 36.35s/it, lowest_loss=0.00465, pred_loss=23.9, trigger=1230]"
     ]
    },
    {
     "name": "stdout",
     "output_type": "stream",
     "text": [
      "Optimizer shows weird behaviour, reinitializing at previous best_State\n"
     ]
    },
    {
     "name": "stderr",
     "output_type": "stream",
     "text": [
      "Epoch: 1232:   6%|██████                                                                                            | 1232/20000 [13:41:43<197:09:58, 37.82s/it, lowest_loss=0.00465, pred_loss=23.9, trigger=1232]"
     ]
    },
    {
     "name": "stdout",
     "output_type": "stream",
     "text": [
      "Optimizer shows weird behaviour, reinitializing at previous best_State\n"
     ]
    },
    {
     "name": "stderr",
     "output_type": "stream",
     "text": [
      "Epoch: 1234:   6%|██████                                                                                            | 1234/20000 [13:43:09<205:08:00, 39.35s/it, lowest_loss=0.00465, pred_loss=23.9, trigger=1234]"
     ]
    },
    {
     "name": "stdout",
     "output_type": "stream",
     "text": [
      "Optimizer shows weird behaviour, reinitializing at previous best_State\n"
     ]
    },
    {
     "name": "stderr",
     "output_type": "stream",
     "text": [
      "Epoch: 1236:   6%|██████                                                                                            | 1236/20000 [13:44:36<207:50:42, 39.88s/it, lowest_loss=0.00465, pred_loss=23.9, trigger=1236]"
     ]
    },
    {
     "name": "stdout",
     "output_type": "stream",
     "text": [
      "Optimizer shows weird behaviour, reinitializing at previous best_State\n"
     ]
    },
    {
     "name": "stderr",
     "output_type": "stream",
     "text": [
      "Epoch: 1238:   6%|██████                                                                                            | 1238/20000 [13:45:51<193:29:50, 37.13s/it, lowest_loss=0.00465, pred_loss=23.9, trigger=1238]"
     ]
    },
    {
     "name": "stdout",
     "output_type": "stream",
     "text": [
      "Optimizer shows weird behaviour, reinitializing at previous best_State\n"
     ]
    },
    {
     "name": "stderr",
     "output_type": "stream",
     "text": [
      "Epoch: 1240:   6%|██████                                                                                            | 1240/20000 [13:47:01<181:22:14, 34.80s/it, lowest_loss=0.00465, pred_loss=23.9, trigger=1240]"
     ]
    },
    {
     "name": "stdout",
     "output_type": "stream",
     "text": [
      "Optimizer shows weird behaviour, reinitializing at previous best_State\n"
     ]
    },
    {
     "name": "stderr",
     "output_type": "stream",
     "text": [
      "Epoch: 1242:   6%|██████                                                                                            | 1242/20000 [13:48:06<168:29:00, 32.34s/it, lowest_loss=0.00465, pred_loss=23.9, trigger=1242]"
     ]
    },
    {
     "name": "stdout",
     "output_type": "stream",
     "text": [
      "Optimizer shows weird behaviour, reinitializing at previous best_State\n"
     ]
    },
    {
     "name": "stderr",
     "output_type": "stream",
     "text": [
      "Epoch: 1244:   6%|██████                                                                                            | 1244/20000 [13:49:25<179:28:45, 34.45s/it, lowest_loss=0.00465, pred_loss=23.9, trigger=1244]"
     ]
    },
    {
     "name": "stdout",
     "output_type": "stream",
     "text": [
      "Optimizer shows weird behaviour, reinitializing at previous best_State\n"
     ]
    },
    {
     "name": "stderr",
     "output_type": "stream",
     "text": [
      "Epoch: 1246:   6%|██████                                                                                            | 1246/20000 [13:50:41<180:57:23, 34.74s/it, lowest_loss=0.00465, pred_loss=23.9, trigger=1246]"
     ]
    },
    {
     "name": "stdout",
     "output_type": "stream",
     "text": [
      "Optimizer shows weird behaviour, reinitializing at previous best_State\n"
     ]
    },
    {
     "name": "stderr",
     "output_type": "stream",
     "text": [
      "Epoch: 1248:   6%|██████                                                                                            | 1248/20000 [13:51:50<173:44:10, 33.35s/it, lowest_loss=0.00465, pred_loss=23.9, trigger=1248]"
     ]
    },
    {
     "name": "stdout",
     "output_type": "stream",
     "text": [
      "Optimizer shows weird behaviour, reinitializing at previous best_State\n"
     ]
    },
    {
     "name": "stderr",
     "output_type": "stream",
     "text": [
      "Epoch: 1250:   6%|██████▏                                                                                           | 1250/20000 [13:53:04<177:45:04, 34.13s/it, lowest_loss=0.00465, pred_loss=23.9, trigger=1250]"
     ]
    },
    {
     "name": "stdout",
     "output_type": "stream",
     "text": [
      "Optimizer shows weird behaviour, reinitializing at previous best_State\n"
     ]
    },
    {
     "name": "stderr",
     "output_type": "stream",
     "text": [
      "Epoch: 1252:   6%|██████▏                                                                                           | 1252/20000 [13:54:17<178:47:44, 34.33s/it, lowest_loss=0.00465, pred_loss=23.9, trigger=1252]"
     ]
    },
    {
     "name": "stdout",
     "output_type": "stream",
     "text": [
      "Optimizer shows weird behaviour, reinitializing at previous best_State\n"
     ]
    },
    {
     "name": "stderr",
     "output_type": "stream",
     "text": [
      "Epoch: 1254:   6%|██████▏                                                                                           | 1254/20000 [13:55:32<181:11:06, 34.79s/it, lowest_loss=0.00465, pred_loss=23.9, trigger=1254]"
     ]
    },
    {
     "name": "stdout",
     "output_type": "stream",
     "text": [
      "Optimizer shows weird behaviour, reinitializing at previous best_State\n"
     ]
    },
    {
     "name": "stderr",
     "output_type": "stream",
     "text": [
      "Epoch: 1256:   6%|██████▏                                                                                           | 1256/20000 [13:56:48<182:36:12, 35.07s/it, lowest_loss=0.00465, pred_loss=23.9, trigger=1256]"
     ]
    },
    {
     "name": "stdout",
     "output_type": "stream",
     "text": [
      "Optimizer shows weird behaviour, reinitializing at previous best_State\n"
     ]
    },
    {
     "name": "stderr",
     "output_type": "stream",
     "text": [
      "Epoch: 1258:   6%|██████▏                                                                                           | 1258/20000 [13:57:50<167:24:34, 32.16s/it, lowest_loss=0.00465, pred_loss=23.9, trigger=1258]"
     ]
    },
    {
     "name": "stdout",
     "output_type": "stream",
     "text": [
      "Optimizer shows weird behaviour, reinitializing at previous best_State\n"
     ]
    },
    {
     "name": "stderr",
     "output_type": "stream",
     "text": [
      "Epoch: 1260:   6%|██████▏                                                                                           | 1260/20000 [13:59:02<170:07:03, 32.68s/it, lowest_loss=0.00465, pred_loss=23.9, trigger=1260]"
     ]
    },
    {
     "name": "stdout",
     "output_type": "stream",
     "text": [
      "Optimizer shows weird behaviour, reinitializing at previous best_State\n"
     ]
    },
    {
     "name": "stderr",
     "output_type": "stream",
     "text": [
      "Epoch: 1262:   6%|██████▏                                                                                           | 1262/20000 [14:00:13<170:26:55, 32.75s/it, lowest_loss=0.00465, pred_loss=23.9, trigger=1262]"
     ]
    },
    {
     "name": "stdout",
     "output_type": "stream",
     "text": [
      "Optimizer shows weird behaviour, reinitializing at previous best_State\n"
     ]
    },
    {
     "name": "stderr",
     "output_type": "stream",
     "text": [
      "Epoch: 1264:   6%|██████▏                                                                                           | 1264/20000 [14:01:18<164:25:26, 31.59s/it, lowest_loss=0.00465, pred_loss=23.9, trigger=1264]"
     ]
    },
    {
     "name": "stdout",
     "output_type": "stream",
     "text": [
      "Optimizer shows weird behaviour, reinitializing at previous best_State\n"
     ]
    },
    {
     "name": "stderr",
     "output_type": "stream",
     "text": [
      "Epoch: 1266:   6%|██████▏                                                                                           | 1266/20000 [14:02:34<175:06:38, 33.65s/it, lowest_loss=0.00465, pred_loss=23.9, trigger=1266]"
     ]
    },
    {
     "name": "stdout",
     "output_type": "stream",
     "text": [
      "Optimizer shows weird behaviour, reinitializing at previous best_State\n"
     ]
    },
    {
     "name": "stderr",
     "output_type": "stream",
     "text": [
      "Epoch: 1268:   6%|██████▏                                                                                           | 1268/20000 [14:03:51<179:46:03, 34.55s/it, lowest_loss=0.00465, pred_loss=23.9, trigger=1268]"
     ]
    },
    {
     "name": "stdout",
     "output_type": "stream",
     "text": [
      "Optimizer shows weird behaviour, reinitializing at previous best_State\n"
     ]
    },
    {
     "name": "stderr",
     "output_type": "stream",
     "text": [
      "Epoch: 1270:   6%|██████▏                                                                                           | 1270/20000 [14:05:07<180:51:25, 34.76s/it, lowest_loss=0.00465, pred_loss=23.9, trigger=1270]"
     ]
    },
    {
     "name": "stdout",
     "output_type": "stream",
     "text": [
      "Optimizer shows weird behaviour, reinitializing at previous best_State\n"
     ]
    },
    {
     "name": "stderr",
     "output_type": "stream",
     "text": [
      "Epoch: 1272:   6%|██████▏                                                                                           | 1272/20000 [14:06:24<182:13:00, 35.03s/it, lowest_loss=0.00465, pred_loss=23.9, trigger=1272]"
     ]
    },
    {
     "name": "stdout",
     "output_type": "stream",
     "text": [
      "Optimizer shows weird behaviour, reinitializing at previous best_State\n"
     ]
    },
    {
     "name": "stderr",
     "output_type": "stream",
     "text": [
      "Epoch: 1274:   6%|██████▏                                                                                           | 1274/20000 [14:07:36<180:45:52, 34.75s/it, lowest_loss=0.00465, pred_loss=23.9, trigger=1274]"
     ]
    },
    {
     "name": "stdout",
     "output_type": "stream",
     "text": [
      "Optimizer shows weird behaviour, reinitializing at previous best_State\n"
     ]
    },
    {
     "name": "stderr",
     "output_type": "stream",
     "text": [
      "Epoch: 1276:   6%|██████▎                                                                                           | 1276/20000 [14:08:56<187:55:48, 36.13s/it, lowest_loss=0.00465, pred_loss=23.9, trigger=1276]"
     ]
    },
    {
     "name": "stdout",
     "output_type": "stream",
     "text": [
      "Optimizer shows weird behaviour, reinitializing at previous best_State\n"
     ]
    },
    {
     "name": "stderr",
     "output_type": "stream",
     "text": [
      "Epoch: 1278:   6%|██████▎                                                                                           | 1278/20000 [14:10:09<183:32:37, 35.29s/it, lowest_loss=0.00465, pred_loss=23.9, trigger=1278]"
     ]
    },
    {
     "name": "stdout",
     "output_type": "stream",
     "text": [
      "Optimizer shows weird behaviour, reinitializing at previous best_State\n"
     ]
    },
    {
     "name": "stderr",
     "output_type": "stream",
     "text": [
      "Epoch: 1280:   6%|██████▎                                                                                           | 1280/20000 [14:11:34<196:02:30, 37.70s/it, lowest_loss=0.00465, pred_loss=23.9, trigger=1280]"
     ]
    },
    {
     "name": "stdout",
     "output_type": "stream",
     "text": [
      "Optimizer shows weird behaviour, reinitializing at previous best_State\n"
     ]
    },
    {
     "name": "stderr",
     "output_type": "stream",
     "text": [
      "Epoch: 1282:   6%|██████▎                                                                                           | 1282/20000 [14:12:55<196:54:21, 37.87s/it, lowest_loss=0.00465, pred_loss=23.9, trigger=1282]"
     ]
    },
    {
     "name": "stdout",
     "output_type": "stream",
     "text": [
      "Optimizer shows weird behaviour, reinitializing at previous best_State\n"
     ]
    },
    {
     "name": "stderr",
     "output_type": "stream",
     "text": [
      "Epoch: 1284:   6%|██████▎                                                                                           | 1284/20000 [14:14:19<201:13:25, 38.71s/it, lowest_loss=0.00465, pred_loss=23.9, trigger=1284]"
     ]
    },
    {
     "name": "stdout",
     "output_type": "stream",
     "text": [
      "Optimizer shows weird behaviour, reinitializing at previous best_State\n"
     ]
    },
    {
     "name": "stderr",
     "output_type": "stream",
     "text": [
      "Epoch: 1286:   6%|██████▎                                                                                           | 1286/20000 [14:15:35<192:30:18, 37.03s/it, lowest_loss=0.00465, pred_loss=23.9, trigger=1286]"
     ]
    },
    {
     "name": "stdout",
     "output_type": "stream",
     "text": [
      "Optimizer shows weird behaviour, reinitializing at previous best_State\n"
     ]
    },
    {
     "name": "stderr",
     "output_type": "stream",
     "text": [
      "Epoch: 1288:   6%|██████▎                                                                                           | 1288/20000 [14:16:54<190:48:35, 36.71s/it, lowest_loss=0.00465, pred_loss=23.9, trigger=1288]"
     ]
    },
    {
     "name": "stdout",
     "output_type": "stream",
     "text": [
      "Optimizer shows weird behaviour, reinitializing at previous best_State\n"
     ]
    },
    {
     "name": "stderr",
     "output_type": "stream",
     "text": [
      "Epoch: 1290:   6%|██████▎                                                                                           | 1290/20000 [14:18:05<180:32:38, 34.74s/it, lowest_loss=0.00465, pred_loss=23.9, trigger=1290]"
     ]
    },
    {
     "name": "stdout",
     "output_type": "stream",
     "text": [
      "Optimizer shows weird behaviour, reinitializing at previous best_State\n"
     ]
    },
    {
     "name": "stderr",
     "output_type": "stream",
     "text": [
      "Epoch: 1292:   6%|██████▎                                                                                           | 1292/20000 [14:19:17<177:08:29, 34.09s/it, lowest_loss=0.00465, pred_loss=23.9, trigger=1292]"
     ]
    },
    {
     "name": "stdout",
     "output_type": "stream",
     "text": [
      "Optimizer shows weird behaviour, reinitializing at previous best_State\n"
     ]
    },
    {
     "name": "stderr",
     "output_type": "stream",
     "text": [
      "Epoch: 1294:   6%|██████▎                                                                                           | 1294/20000 [14:20:37<184:04:42, 35.43s/it, lowest_loss=0.00465, pred_loss=23.9, trigger=1294]"
     ]
    },
    {
     "name": "stdout",
     "output_type": "stream",
     "text": [
      "Optimizer shows weird behaviour, reinitializing at previous best_State\n"
     ]
    },
    {
     "name": "stderr",
     "output_type": "stream",
     "text": [
      "Epoch: 1296:   6%|██████▎                                                                                           | 1296/20000 [14:21:43<172:55:56, 33.28s/it, lowest_loss=0.00465, pred_loss=23.9, trigger=1296]"
     ]
    },
    {
     "name": "stdout",
     "output_type": "stream",
     "text": [
      "Optimizer shows weird behaviour, reinitializing at previous best_State\n"
     ]
    },
    {
     "name": "stderr",
     "output_type": "stream",
     "text": [
      "Epoch: 1298:   6%|██████▎                                                                                           | 1298/20000 [14:22:58<175:36:17, 33.80s/it, lowest_loss=0.00465, pred_loss=23.9, trigger=1298]"
     ]
    },
    {
     "name": "stdout",
     "output_type": "stream",
     "text": [
      "Optimizer shows weird behaviour, reinitializing at previous best_State\n"
     ]
    },
    {
     "name": "stderr",
     "output_type": "stream",
     "text": [
      "Epoch: 1300:   6%|██████▎                                                                                           | 1300/20000 [14:24:20<189:22:04, 36.46s/it, lowest_loss=0.00465, pred_loss=23.9, trigger=1300]"
     ]
    },
    {
     "name": "stdout",
     "output_type": "stream",
     "text": [
      "Optimizer shows weird behaviour, reinitializing at previous best_State\n"
     ]
    },
    {
     "name": "stderr",
     "output_type": "stream",
     "text": [
      "Epoch: 1302:   7%|██████▍                                                                                           | 1302/20000 [14:25:24<172:04:31, 33.13s/it, lowest_loss=0.00465, pred_loss=23.9, trigger=1302]"
     ]
    },
    {
     "name": "stdout",
     "output_type": "stream",
     "text": [
      "Optimizer shows weird behaviour, reinitializing at previous best_State\n"
     ]
    },
    {
     "name": "stderr",
     "output_type": "stream",
     "text": [
      "Epoch: 1304:   7%|██████▍                                                                                           | 1304/20000 [14:26:37<174:06:38, 33.53s/it, lowest_loss=0.00465, pred_loss=23.9, trigger=1304]"
     ]
    },
    {
     "name": "stdout",
     "output_type": "stream",
     "text": [
      "Optimizer shows weird behaviour, reinitializing at previous best_State\n"
     ]
    },
    {
     "name": "stderr",
     "output_type": "stream",
     "text": [
      "Epoch: 1306:   7%|██████▍                                                                                           | 1306/20000 [14:27:47<172:05:28, 33.14s/it, lowest_loss=0.00465, pred_loss=23.9, trigger=1306]"
     ]
    },
    {
     "name": "stdout",
     "output_type": "stream",
     "text": [
      "Optimizer shows weird behaviour, reinitializing at previous best_State\n"
     ]
    },
    {
     "name": "stderr",
     "output_type": "stream",
     "text": [
      "Epoch: 1308:   7%|██████▍                                                                                           | 1308/20000 [14:28:54<167:20:06, 32.23s/it, lowest_loss=0.00465, pred_loss=23.9, trigger=1308]"
     ]
    },
    {
     "name": "stdout",
     "output_type": "stream",
     "text": [
      "Optimizer shows weird behaviour, reinitializing at previous best_State\n"
     ]
    },
    {
     "name": "stderr",
     "output_type": "stream",
     "text": [
      "Epoch: 1310:   7%|██████▍                                                                                           | 1310/20000 [14:30:06<169:48:33, 32.71s/it, lowest_loss=0.00465, pred_loss=23.9, trigger=1310]"
     ]
    },
    {
     "name": "stdout",
     "output_type": "stream",
     "text": [
      "Optimizer shows weird behaviour, reinitializing at previous best_State\n"
     ]
    },
    {
     "name": "stderr",
     "output_type": "stream",
     "text": [
      "Epoch: 1312:   7%|██████▍                                                                                           | 1312/20000 [14:31:18<170:57:30, 32.93s/it, lowest_loss=0.00465, pred_loss=23.9, trigger=1312]"
     ]
    },
    {
     "name": "stdout",
     "output_type": "stream",
     "text": [
      "Optimizer shows weird behaviour, reinitializing at previous best_State\n"
     ]
    },
    {
     "name": "stderr",
     "output_type": "stream",
     "text": [
      "Epoch: 1314:   7%|██████▍                                                                                           | 1314/20000 [14:32:35<178:44:35, 34.44s/it, lowest_loss=0.00465, pred_loss=23.9, trigger=1314]"
     ]
    },
    {
     "name": "stdout",
     "output_type": "stream",
     "text": [
      "Optimizer shows weird behaviour, reinitializing at previous best_State\n"
     ]
    },
    {
     "name": "stderr",
     "output_type": "stream",
     "text": [
      "Epoch: 1316:   7%|██████▍                                                                                           | 1316/20000 [14:33:50<179:12:39, 34.53s/it, lowest_loss=0.00465, pred_loss=23.9, trigger=1316]"
     ]
    },
    {
     "name": "stdout",
     "output_type": "stream",
     "text": [
      "Optimizer shows weird behaviour, reinitializing at previous best_State\n"
     ]
    },
    {
     "name": "stderr",
     "output_type": "stream",
     "text": [
      "Epoch: 1318:   7%|██████▍                                                                                           | 1318/20000 [14:35:05<180:19:48, 34.75s/it, lowest_loss=0.00465, pred_loss=23.9, trigger=1318]"
     ]
    },
    {
     "name": "stdout",
     "output_type": "stream",
     "text": [
      "Optimizer shows weird behaviour, reinitializing at previous best_State\n"
     ]
    },
    {
     "name": "stderr",
     "output_type": "stream",
     "text": [
      "Epoch: 1320:   7%|██████▍                                                                                           | 1320/20000 [14:36:18<180:40:21, 34.82s/it, lowest_loss=0.00465, pred_loss=23.9, trigger=1320]"
     ]
    },
    {
     "name": "stdout",
     "output_type": "stream",
     "text": [
      "Optimizer shows weird behaviour, reinitializing at previous best_State\n"
     ]
    },
    {
     "name": "stderr",
     "output_type": "stream",
     "text": [
      "Epoch: 1322:   7%|██████▍                                                                                           | 1322/20000 [14:37:23<169:28:38, 32.67s/it, lowest_loss=0.00465, pred_loss=23.9, trigger=1322]"
     ]
    },
    {
     "name": "stdout",
     "output_type": "stream",
     "text": [
      "Optimizer shows weird behaviour, reinitializing at previous best_State\n"
     ]
    },
    {
     "name": "stderr",
     "output_type": "stream",
     "text": [
      "Epoch: 1324:   7%|██████▍                                                                                           | 1324/20000 [14:38:46<185:35:24, 35.77s/it, lowest_loss=0.00465, pred_loss=23.9, trigger=1324]"
     ]
    },
    {
     "name": "stdout",
     "output_type": "stream",
     "text": [
      "Optimizer shows weird behaviour, reinitializing at previous best_State\n"
     ]
    },
    {
     "name": "stderr",
     "output_type": "stream",
     "text": [
      "Epoch: 1326:   7%|██████▍                                                                                           | 1326/20000 [14:40:07<191:19:09, 36.88s/it, lowest_loss=0.00465, pred_loss=23.9, trigger=1326]"
     ]
    },
    {
     "name": "stdout",
     "output_type": "stream",
     "text": [
      "Optimizer shows weird behaviour, reinitializing at previous best_State\n"
     ]
    },
    {
     "name": "stderr",
     "output_type": "stream",
     "text": [
      "Epoch: 1328:   7%|██████▌                                                                                           | 1328/20000 [14:41:21<184:11:16, 35.51s/it, lowest_loss=0.00465, pred_loss=23.9, trigger=1328]"
     ]
    },
    {
     "name": "stdout",
     "output_type": "stream",
     "text": [
      "Optimizer shows weird behaviour, reinitializing at previous best_State\n"
     ]
    },
    {
     "name": "stderr",
     "output_type": "stream",
     "text": [
      "Epoch: 1330:   7%|██████▌                                                                                           | 1330/20000 [14:42:40<187:35:54, 36.17s/it, lowest_loss=0.00465, pred_loss=23.9, trigger=1330]"
     ]
    },
    {
     "name": "stdout",
     "output_type": "stream",
     "text": [
      "Optimizer shows weird behaviour, reinitializing at previous best_State\n"
     ]
    },
    {
     "name": "stderr",
     "output_type": "stream",
     "text": [
      "Epoch: 1332:   7%|██████▌                                                                                           | 1332/20000 [14:43:58<189:07:33, 36.47s/it, lowest_loss=0.00465, pred_loss=23.9, trigger=1332]"
     ]
    },
    {
     "name": "stdout",
     "output_type": "stream",
     "text": [
      "Optimizer shows weird behaviour, reinitializing at previous best_State\n"
     ]
    },
    {
     "name": "stderr",
     "output_type": "stream",
     "text": [
      "Epoch: 1334:   7%|██████▌                                                                                           | 1334/20000 [14:45:19<191:45:08, 36.98s/it, lowest_loss=0.00465, pred_loss=23.9, trigger=1334]"
     ]
    },
    {
     "name": "stdout",
     "output_type": "stream",
     "text": [
      "Optimizer shows weird behaviour, reinitializing at previous best_State\n"
     ]
    },
    {
     "name": "stderr",
     "output_type": "stream",
     "text": [
      "Epoch: 1336:   7%|██████▌                                                                                           | 1336/20000 [14:46:30<181:46:42, 35.06s/it, lowest_loss=0.00465, pred_loss=23.9, trigger=1336]"
     ]
    },
    {
     "name": "stdout",
     "output_type": "stream",
     "text": [
      "Optimizer shows weird behaviour, reinitializing at previous best_State\n"
     ]
    },
    {
     "name": "stderr",
     "output_type": "stream",
     "text": [
      "Epoch: 1338:   7%|██████▌                                                                                           | 1338/20000 [14:47:45<179:54:37, 34.71s/it, lowest_loss=0.00465, pred_loss=23.9, trigger=1338]"
     ]
    },
    {
     "name": "stdout",
     "output_type": "stream",
     "text": [
      "Optimizer shows weird behaviour, reinitializing at previous best_State\n"
     ]
    },
    {
     "name": "stderr",
     "output_type": "stream",
     "text": [
      "Epoch: 1340:   7%|██████▌                                                                                           | 1340/20000 [14:48:53<169:40:48, 32.74s/it, lowest_loss=0.00465, pred_loss=23.9, trigger=1340]"
     ]
    },
    {
     "name": "stdout",
     "output_type": "stream",
     "text": [
      "Optimizer shows weird behaviour, reinitializing at previous best_State\n"
     ]
    },
    {
     "name": "stderr",
     "output_type": "stream",
     "text": [
      "Epoch: 1342:   7%|██████▌                                                                                           | 1342/20000 [14:50:12<180:59:03, 34.92s/it, lowest_loss=0.00465, pred_loss=23.9, trigger=1342]"
     ]
    },
    {
     "name": "stdout",
     "output_type": "stream",
     "text": [
      "Optimizer shows weird behaviour, reinitializing at previous best_State\n"
     ]
    },
    {
     "name": "stderr",
     "output_type": "stream",
     "text": [
      "Epoch: 1344:   7%|██████▌                                                                                           | 1344/20000 [14:51:26<179:58:10, 34.73s/it, lowest_loss=0.00465, pred_loss=23.9, trigger=1344]"
     ]
    },
    {
     "name": "stdout",
     "output_type": "stream",
     "text": [
      "Optimizer shows weird behaviour, reinitializing at previous best_State\n"
     ]
    },
    {
     "name": "stderr",
     "output_type": "stream",
     "text": [
      "Epoch: 1346:   7%|██████▌                                                                                           | 1346/20000 [14:52:45<183:18:03, 35.37s/it, lowest_loss=0.00465, pred_loss=23.9, trigger=1346]"
     ]
    },
    {
     "name": "stdout",
     "output_type": "stream",
     "text": [
      "Optimizer shows weird behaviour, reinitializing at previous best_State\n"
     ]
    },
    {
     "name": "stderr",
     "output_type": "stream",
     "text": [
      "Epoch: 1348:   7%|██████▌                                                                                           | 1348/20000 [14:54:01<185:05:47, 35.73s/it, lowest_loss=0.00465, pred_loss=23.9, trigger=1348]"
     ]
    },
    {
     "name": "stdout",
     "output_type": "stream",
     "text": [
      "Optimizer shows weird behaviour, reinitializing at previous best_State\n"
     ]
    },
    {
     "name": "stderr",
     "output_type": "stream",
     "text": [
      "Epoch: 1350:   7%|██████▌                                                                                           | 1350/20000 [14:55:19<188:04:10, 36.30s/it, lowest_loss=0.00465, pred_loss=23.9, trigger=1350]"
     ]
    },
    {
     "name": "stdout",
     "output_type": "stream",
     "text": [
      "Optimizer shows weird behaviour, reinitializing at previous best_State\n"
     ]
    },
    {
     "name": "stderr",
     "output_type": "stream",
     "text": [
      "Epoch: 1352:   7%|██████▌                                                                                           | 1352/20000 [14:56:35<186:32:47, 36.01s/it, lowest_loss=0.00465, pred_loss=23.9, trigger=1352]"
     ]
    },
    {
     "name": "stdout",
     "output_type": "stream",
     "text": [
      "Optimizer shows weird behaviour, reinitializing at previous best_State\n"
     ]
    },
    {
     "name": "stderr",
     "output_type": "stream",
     "text": [
      "Epoch: 1354:   7%|██████▋                                                                                           | 1354/20000 [14:57:59<197:19:17, 38.10s/it, lowest_loss=0.00465, pred_loss=23.9, trigger=1354]"
     ]
    },
    {
     "name": "stdout",
     "output_type": "stream",
     "text": [
      "Optimizer shows weird behaviour, reinitializing at previous best_State\n"
     ]
    },
    {
     "name": "stderr",
     "output_type": "stream",
     "text": [
      "Epoch: 1356:   7%|██████▋                                                                                           | 1356/20000 [14:59:11<186:45:34, 36.06s/it, lowest_loss=0.00465, pred_loss=23.9, trigger=1356]"
     ]
    },
    {
     "name": "stdout",
     "output_type": "stream",
     "text": [
      "Optimizer shows weird behaviour, reinitializing at previous best_State\n"
     ]
    },
    {
     "name": "stderr",
     "output_type": "stream",
     "text": [
      "Epoch: 1358:   7%|██████▋                                                                                           | 1358/20000 [15:00:22<178:36:22, 34.49s/it, lowest_loss=0.00465, pred_loss=23.9, trigger=1358]"
     ]
    },
    {
     "name": "stdout",
     "output_type": "stream",
     "text": [
      "Optimizer shows weird behaviour, reinitializing at previous best_State\n"
     ]
    },
    {
     "name": "stderr",
     "output_type": "stream",
     "text": [
      "Epoch: 1360:   7%|██████▋                                                                                           | 1360/20000 [15:01:36<180:35:18, 34.88s/it, lowest_loss=0.00465, pred_loss=23.9, trigger=1360]"
     ]
    },
    {
     "name": "stdout",
     "output_type": "stream",
     "text": [
      "Optimizer shows weird behaviour, reinitializing at previous best_State\n"
     ]
    },
    {
     "name": "stderr",
     "output_type": "stream",
     "text": [
      "Epoch: 1362:   7%|██████▋                                                                                           | 1362/20000 [15:02:48<175:55:47, 33.98s/it, lowest_loss=0.00465, pred_loss=23.9, trigger=1362]"
     ]
    },
    {
     "name": "stdout",
     "output_type": "stream",
     "text": [
      "Optimizer shows weird behaviour, reinitializing at previous best_State\n"
     ]
    },
    {
     "name": "stderr",
     "output_type": "stream",
     "text": [
      "Epoch: 1364:   7%|██████▋                                                                                           | 1364/20000 [15:04:01<177:08:09, 34.22s/it, lowest_loss=0.00465, pred_loss=23.9, trigger=1364]"
     ]
    },
    {
     "name": "stdout",
     "output_type": "stream",
     "text": [
      "Optimizer shows weird behaviour, reinitializing at previous best_State\n"
     ]
    },
    {
     "name": "stderr",
     "output_type": "stream",
     "text": [
      "Epoch: 1366:   7%|██████▋                                                                                           | 1366/20000 [15:05:15<174:50:39, 33.78s/it, lowest_loss=0.00465, pred_loss=23.9, trigger=1366]"
     ]
    },
    {
     "name": "stdout",
     "output_type": "stream",
     "text": [
      "Optimizer shows weird behaviour, reinitializing at previous best_State\n"
     ]
    },
    {
     "name": "stderr",
     "output_type": "stream",
     "text": [
      "Epoch: 1368:   7%|██████▋                                                                                           | 1368/20000 [15:06:32<179:27:23, 34.67s/it, lowest_loss=0.00465, pred_loss=23.9, trigger=1368]"
     ]
    },
    {
     "name": "stdout",
     "output_type": "stream",
     "text": [
      "Optimizer shows weird behaviour, reinitializing at previous best_State\n"
     ]
    },
    {
     "name": "stderr",
     "output_type": "stream",
     "text": [
      "Epoch: 1370:   7%|██████▋                                                                                           | 1370/20000 [15:07:34<165:51:48, 32.05s/it, lowest_loss=0.00465, pred_loss=23.9, trigger=1370]"
     ]
    },
    {
     "name": "stdout",
     "output_type": "stream",
     "text": [
      "Optimizer shows weird behaviour, reinitializing at previous best_State\n"
     ]
    },
    {
     "name": "stderr",
     "output_type": "stream",
     "text": [
      "Epoch: 1372:   7%|██████▋                                                                                           | 1372/20000 [15:08:46<171:39:43, 33.17s/it, lowest_loss=0.00465, pred_loss=23.9, trigger=1372]"
     ]
    },
    {
     "name": "stdout",
     "output_type": "stream",
     "text": [
      "Optimizer shows weird behaviour, reinitializing at previous best_State\n"
     ]
    },
    {
     "name": "stderr",
     "output_type": "stream",
     "text": [
      "Epoch: 1374:   7%|██████▋                                                                                           | 1374/20000 [15:10:09<186:59:58, 36.14s/it, lowest_loss=0.00465, pred_loss=23.9, trigger=1374]"
     ]
    },
    {
     "name": "stdout",
     "output_type": "stream",
     "text": [
      "Optimizer shows weird behaviour, reinitializing at previous best_State\n"
     ]
    },
    {
     "name": "stderr",
     "output_type": "stream",
     "text": [
      "Epoch: 1376:   7%|██████▋                                                                                           | 1376/20000 [15:11:30<191:51:55, 37.09s/it, lowest_loss=0.00465, pred_loss=23.9, trigger=1376]"
     ]
    },
    {
     "name": "stdout",
     "output_type": "stream",
     "text": [
      "Optimizer shows weird behaviour, reinitializing at previous best_State\n"
     ]
    },
    {
     "name": "stderr",
     "output_type": "stream",
     "text": [
      "Epoch: 1378:   7%|██████▊                                                                                           | 1378/20000 [15:12:53<195:23:24, 37.77s/it, lowest_loss=0.00465, pred_loss=23.9, trigger=1378]"
     ]
    },
    {
     "name": "stdout",
     "output_type": "stream",
     "text": [
      "Optimizer shows weird behaviour, reinitializing at previous best_State\n"
     ]
    },
    {
     "name": "stderr",
     "output_type": "stream",
     "text": [
      "Epoch: 1380:   7%|██████▊                                                                                           | 1380/20000 [15:14:17<200:01:37, 38.67s/it, lowest_loss=0.00465, pred_loss=23.9, trigger=1380]"
     ]
    },
    {
     "name": "stdout",
     "output_type": "stream",
     "text": [
      "Optimizer shows weird behaviour, reinitializing at previous best_State\n"
     ]
    },
    {
     "name": "stderr",
     "output_type": "stream",
     "text": [
      "Epoch: 1382:   7%|██████▊                                                                                           | 1382/20000 [15:15:31<188:50:43, 36.52s/it, lowest_loss=0.00465, pred_loss=23.9, trigger=1382]"
     ]
    },
    {
     "name": "stdout",
     "output_type": "stream",
     "text": [
      "Optimizer shows weird behaviour, reinitializing at previous best_State\n"
     ]
    },
    {
     "name": "stderr",
     "output_type": "stream",
     "text": [
      "Epoch: 1384:   7%|██████▊                                                                                           | 1384/20000 [15:16:38<174:27:23, 33.74s/it, lowest_loss=0.00465, pred_loss=23.9, trigger=1384]"
     ]
    },
    {
     "name": "stdout",
     "output_type": "stream",
     "text": [
      "Optimizer shows weird behaviour, reinitializing at previous best_State\n"
     ]
    },
    {
     "name": "stderr",
     "output_type": "stream",
     "text": [
      "Epoch: 1386:   7%|██████▊                                                                                           | 1386/20000 [15:17:48<171:43:04, 33.21s/it, lowest_loss=0.00465, pred_loss=23.9, trigger=1386]"
     ]
    },
    {
     "name": "stdout",
     "output_type": "stream",
     "text": [
      "Optimizer shows weird behaviour, reinitializing at previous best_State\n"
     ]
    },
    {
     "name": "stderr",
     "output_type": "stream",
     "text": [
      "Epoch: 1388:   7%|██████▊                                                                                           | 1388/20000 [15:19:01<175:34:37, 33.96s/it, lowest_loss=0.00465, pred_loss=23.9, trigger=1388]"
     ]
    },
    {
     "name": "stdout",
     "output_type": "stream",
     "text": [
      "Optimizer shows weird behaviour, reinitializing at previous best_State\n"
     ]
    },
    {
     "name": "stderr",
     "output_type": "stream",
     "text": [
      "Epoch: 1390:   7%|██████▊                                                                                           | 1390/20000 [15:20:09<169:13:35, 32.74s/it, lowest_loss=0.00465, pred_loss=23.9, trigger=1390]"
     ]
    },
    {
     "name": "stdout",
     "output_type": "stream",
     "text": [
      "Optimizer shows weird behaviour, reinitializing at previous best_State\n"
     ]
    },
    {
     "name": "stderr",
     "output_type": "stream",
     "text": [
      "Epoch: 1392:   7%|██████▊                                                                                           | 1392/20000 [15:21:28<178:43:26, 34.58s/it, lowest_loss=0.00465, pred_loss=23.9, trigger=1392]"
     ]
    },
    {
     "name": "stdout",
     "output_type": "stream",
     "text": [
      "Optimizer shows weird behaviour, reinitializing at previous best_State\n"
     ]
    },
    {
     "name": "stderr",
     "output_type": "stream",
     "text": [
      "Epoch: 1394:   7%|██████▊                                                                                           | 1394/20000 [15:22:32<167:02:20, 32.32s/it, lowest_loss=0.00465, pred_loss=23.9, trigger=1394]"
     ]
    },
    {
     "name": "stdout",
     "output_type": "stream",
     "text": [
      "Optimizer shows weird behaviour, reinitializing at previous best_State\n"
     ]
    },
    {
     "name": "stderr",
     "output_type": "stream",
     "text": [
      "Epoch: 1396:   7%|██████▊                                                                                           | 1396/20000 [15:23:43<169:15:21, 32.75s/it, lowest_loss=0.00465, pred_loss=23.9, trigger=1396]"
     ]
    },
    {
     "name": "stdout",
     "output_type": "stream",
     "text": [
      "Optimizer shows weird behaviour, reinitializing at previous best_State\n"
     ]
    },
    {
     "name": "stderr",
     "output_type": "stream",
     "text": [
      "Epoch: 1398:   7%|██████▊                                                                                           | 1398/20000 [15:24:56<173:45:23, 33.63s/it, lowest_loss=0.00465, pred_loss=23.9, trigger=1398]"
     ]
    },
    {
     "name": "stdout",
     "output_type": "stream",
     "text": [
      "Optimizer shows weird behaviour, reinitializing at previous best_State\n"
     ]
    },
    {
     "name": "stderr",
     "output_type": "stream",
     "text": [
      "Epoch: 1400:   7%|██████▊                                                                                           | 1400/20000 [15:26:00<163:18:58, 31.61s/it, lowest_loss=0.00465, pred_loss=23.9, trigger=1400]"
     ]
    },
    {
     "name": "stdout",
     "output_type": "stream",
     "text": [
      "Optimizer shows weird behaviour, reinitializing at previous best_State\n"
     ]
    },
    {
     "name": "stderr",
     "output_type": "stream",
     "text": [
      "Epoch: 1402:   7%|██████▊                                                                                           | 1402/20000 [15:27:15<173:03:29, 33.50s/it, lowest_loss=0.00465, pred_loss=23.9, trigger=1402]"
     ]
    },
    {
     "name": "stdout",
     "output_type": "stream",
     "text": [
      "Optimizer shows weird behaviour, reinitializing at previous best_State\n"
     ]
    },
    {
     "name": "stderr",
     "output_type": "stream",
     "text": [
      "Epoch: 1404:   7%|██████▉                                                                                           | 1404/20000 [15:28:28<175:31:03, 33.98s/it, lowest_loss=0.00465, pred_loss=23.9, trigger=1404]"
     ]
    },
    {
     "name": "stdout",
     "output_type": "stream",
     "text": [
      "Optimizer shows weird behaviour, reinitializing at previous best_State\n"
     ]
    },
    {
     "name": "stderr",
     "output_type": "stream",
     "text": [
      "Epoch: 1406:   7%|██████▉                                                                                           | 1406/20000 [15:29:42<178:55:46, 34.64s/it, lowest_loss=0.00465, pred_loss=23.9, trigger=1406]"
     ]
    },
    {
     "name": "stdout",
     "output_type": "stream",
     "text": [
      "Optimizer shows weird behaviour, reinitializing at previous best_State\n"
     ]
    },
    {
     "name": "stderr",
     "output_type": "stream",
     "text": [
      "Epoch: 1408:   7%|██████▉                                                                                           | 1408/20000 [15:30:54<174:51:47, 33.86s/it, lowest_loss=0.00465, pred_loss=23.9, trigger=1408]"
     ]
    },
    {
     "name": "stdout",
     "output_type": "stream",
     "text": [
      "Optimizer shows weird behaviour, reinitializing at previous best_State\n"
     ]
    },
    {
     "name": "stderr",
     "output_type": "stream",
     "text": [
      "Epoch: 1410:   7%|██████▉                                                                                           | 1410/20000 [15:32:16<186:37:29, 36.14s/it, lowest_loss=0.00465, pred_loss=23.9, trigger=1410]"
     ]
    },
    {
     "name": "stdout",
     "output_type": "stream",
     "text": [
      "Optimizer shows weird behaviour, reinitializing at previous best_State\n"
     ]
    },
    {
     "name": "stderr",
     "output_type": "stream",
     "text": [
      "Epoch: 1412:   7%|██████▉                                                                                           | 1412/20000 [15:33:23<173:11:26, 33.54s/it, lowest_loss=0.00465, pred_loss=23.9, trigger=1412]"
     ]
    },
    {
     "name": "stdout",
     "output_type": "stream",
     "text": [
      "Optimizer shows weird behaviour, reinitializing at previous best_State\n"
     ]
    },
    {
     "name": "stderr",
     "output_type": "stream",
     "text": [
      "Epoch: 1414:   7%|██████▉                                                                                           | 1414/20000 [15:34:43<183:22:55, 35.52s/it, lowest_loss=0.00465, pred_loss=23.9, trigger=1414]"
     ]
    },
    {
     "name": "stdout",
     "output_type": "stream",
     "text": [
      "Optimizer shows weird behaviour, reinitializing at previous best_State\n"
     ]
    },
    {
     "name": "stderr",
     "output_type": "stream",
     "text": [
      "Epoch: 1416:   7%|██████▉                                                                                           | 1416/20000 [15:36:01<187:04:09, 36.24s/it, lowest_loss=0.00465, pred_loss=23.9, trigger=1416]"
     ]
    },
    {
     "name": "stdout",
     "output_type": "stream",
     "text": [
      "Optimizer shows weird behaviour, reinitializing at previous best_State\n"
     ]
    },
    {
     "name": "stderr",
     "output_type": "stream",
     "text": [
      "Epoch: 1418:   7%|██████▉                                                                                           | 1418/20000 [15:37:19<186:05:19, 36.05s/it, lowest_loss=0.00465, pred_loss=23.9, trigger=1418]"
     ]
    },
    {
     "name": "stdout",
     "output_type": "stream",
     "text": [
      "Optimizer shows weird behaviour, reinitializing at previous best_State\n"
     ]
    },
    {
     "name": "stderr",
     "output_type": "stream",
     "text": [
      "Epoch: 1420:   7%|██████▉                                                                                           | 1420/20000 [15:38:31<179:54:02, 34.86s/it, lowest_loss=0.00465, pred_loss=23.9, trigger=1420]"
     ]
    },
    {
     "name": "stdout",
     "output_type": "stream",
     "text": [
      "Optimizer shows weird behaviour, reinitializing at previous best_State\n"
     ]
    },
    {
     "name": "stderr",
     "output_type": "stream",
     "text": [
      "Epoch: 1422:   7%|██████▉                                                                                           | 1422/20000 [15:39:47<180:56:34, 35.06s/it, lowest_loss=0.00465, pred_loss=23.9, trigger=1422]"
     ]
    },
    {
     "name": "stdout",
     "output_type": "stream",
     "text": [
      "Optimizer shows weird behaviour, reinitializing at previous best_State\n"
     ]
    },
    {
     "name": "stderr",
     "output_type": "stream",
     "text": [
      "Epoch: 1424:   7%|██████▉                                                                                           | 1424/20000 [15:41:08<189:02:24, 36.64s/it, lowest_loss=0.00465, pred_loss=23.9, trigger=1424]"
     ]
    },
    {
     "name": "stdout",
     "output_type": "stream",
     "text": [
      "Optimizer shows weird behaviour, reinitializing at previous best_State\n"
     ]
    },
    {
     "name": "stderr",
     "output_type": "stream",
     "text": [
      "Epoch: 1426:   7%|██████▉                                                                                           | 1426/20000 [15:42:18<177:42:15, 34.44s/it, lowest_loss=0.00465, pred_loss=23.9, trigger=1426]"
     ]
    },
    {
     "name": "stdout",
     "output_type": "stream",
     "text": [
      "Optimizer shows weird behaviour, reinitializing at previous best_State\n"
     ]
    },
    {
     "name": "stderr",
     "output_type": "stream",
     "text": [
      "Epoch: 1428:   7%|██████▉                                                                                           | 1428/20000 [15:43:31<176:21:16, 34.18s/it, lowest_loss=0.00465, pred_loss=23.9, trigger=1428]"
     ]
    },
    {
     "name": "stdout",
     "output_type": "stream",
     "text": [
      "Optimizer shows weird behaviour, reinitializing at previous best_State\n"
     ]
    },
    {
     "name": "stderr",
     "output_type": "stream",
     "text": [
      "Epoch: 1430:   7%|███████                                                                                           | 1430/20000 [15:44:44<176:20:39, 34.19s/it, lowest_loss=0.00465, pred_loss=23.9, trigger=1430]"
     ]
    },
    {
     "name": "stdout",
     "output_type": "stream",
     "text": [
      "Optimizer shows weird behaviour, reinitializing at previous best_State\n"
     ]
    },
    {
     "name": "stderr",
     "output_type": "stream",
     "text": [
      "Epoch: 1432:   7%|███████                                                                                           | 1432/20000 [15:45:56<174:20:16, 33.80s/it, lowest_loss=0.00465, pred_loss=23.9, trigger=1432]"
     ]
    },
    {
     "name": "stdout",
     "output_type": "stream",
     "text": [
      "Optimizer shows weird behaviour, reinitializing at previous best_State\n"
     ]
    },
    {
     "name": "stderr",
     "output_type": "stream",
     "text": [
      "Epoch: 1434:   7%|███████                                                                                           | 1434/20000 [15:47:11<177:35:47, 34.44s/it, lowest_loss=0.00465, pred_loss=23.9, trigger=1434]"
     ]
    },
    {
     "name": "stdout",
     "output_type": "stream",
     "text": [
      "Optimizer shows weird behaviour, reinitializing at previous best_State\n"
     ]
    },
    {
     "name": "stderr",
     "output_type": "stream",
     "text": [
      "Epoch: 1436:   7%|███████                                                                                           | 1436/20000 [15:48:24<177:47:43, 34.48s/it, lowest_loss=0.00465, pred_loss=23.9, trigger=1436]"
     ]
    },
    {
     "name": "stdout",
     "output_type": "stream",
     "text": [
      "Optimizer shows weird behaviour, reinitializing at previous best_State\n"
     ]
    },
    {
     "name": "stderr",
     "output_type": "stream",
     "text": [
      "Epoch: 1438:   7%|███████                                                                                           | 1438/20000 [15:49:32<170:45:36, 33.12s/it, lowest_loss=0.00465, pred_loss=23.9, trigger=1438]"
     ]
    },
    {
     "name": "stdout",
     "output_type": "stream",
     "text": [
      "Optimizer shows weird behaviour, reinitializing at previous best_State\n"
     ]
    },
    {
     "name": "stderr",
     "output_type": "stream",
     "text": [
      "Epoch: 1440:   7%|███████                                                                                           | 1440/20000 [15:50:36<161:57:54, 31.42s/it, lowest_loss=0.00465, pred_loss=23.9, trigger=1440]"
     ]
    },
    {
     "name": "stdout",
     "output_type": "stream",
     "text": [
      "Optimizer shows weird behaviour, reinitializing at previous best_State\n"
     ]
    },
    {
     "name": "stderr",
     "output_type": "stream",
     "text": [
      "Epoch: 1442:   7%|███████                                                                                           | 1442/20000 [15:51:40<157:51:34, 30.62s/it, lowest_loss=0.00465, pred_loss=23.9, trigger=1442]"
     ]
    },
    {
     "name": "stdout",
     "output_type": "stream",
     "text": [
      "Optimizer shows weird behaviour, reinitializing at previous best_State\n"
     ]
    },
    {
     "name": "stderr",
     "output_type": "stream",
     "text": [
      "Epoch: 1444:   7%|███████                                                                                           | 1444/20000 [15:52:57<172:58:53, 33.56s/it, lowest_loss=0.00465, pred_loss=23.9, trigger=1444]"
     ]
    },
    {
     "name": "stdout",
     "output_type": "stream",
     "text": [
      "Optimizer shows weird behaviour, reinitializing at previous best_State\n"
     ]
    },
    {
     "name": "stderr",
     "output_type": "stream",
     "text": [
      "Epoch: 1446:   7%|███████                                                                                           | 1446/20000 [15:54:04<164:52:14, 31.99s/it, lowest_loss=0.00465, pred_loss=23.9, trigger=1446]"
     ]
    },
    {
     "name": "stdout",
     "output_type": "stream",
     "text": [
      "Optimizer shows weird behaviour, reinitializing at previous best_State\n"
     ]
    },
    {
     "name": "stderr",
     "output_type": "stream",
     "text": [
      "Epoch: 1448:   7%|███████                                                                                           | 1448/20000 [15:55:24<178:58:14, 34.73s/it, lowest_loss=0.00465, pred_loss=23.9, trigger=1448]"
     ]
    },
    {
     "name": "stdout",
     "output_type": "stream",
     "text": [
      "Optimizer shows weird behaviour, reinitializing at previous best_State\n"
     ]
    },
    {
     "name": "stderr",
     "output_type": "stream",
     "text": [
      "Epoch: 1450:   7%|███████                                                                                           | 1450/20000 [15:56:32<171:50:28, 33.35s/it, lowest_loss=0.00465, pred_loss=23.9, trigger=1450]"
     ]
    },
    {
     "name": "stdout",
     "output_type": "stream",
     "text": [
      "Optimizer shows weird behaviour, reinitializing at previous best_State\n"
     ]
    },
    {
     "name": "stderr",
     "output_type": "stream",
     "text": [
      "Epoch: 1452:   7%|███████                                                                                           | 1452/20000 [15:57:38<165:10:09, 32.06s/it, lowest_loss=0.00465, pred_loss=23.9, trigger=1452]"
     ]
    },
    {
     "name": "stdout",
     "output_type": "stream",
     "text": [
      "Optimizer shows weird behaviour, reinitializing at previous best_State\n"
     ]
    },
    {
     "name": "stderr",
     "output_type": "stream",
     "text": [
      "Epoch: 1454:   7%|███████                                                                                           | 1454/20000 [15:58:52<172:30:49, 33.49s/it, lowest_loss=0.00465, pred_loss=23.9, trigger=1454]"
     ]
    },
    {
     "name": "stdout",
     "output_type": "stream",
     "text": [
      "Optimizer shows weird behaviour, reinitializing at previous best_State\n"
     ]
    },
    {
     "name": "stderr",
     "output_type": "stream",
     "text": [
      "Epoch: 1456:   7%|███████▏                                                                                          | 1456/20000 [16:00:07<176:47:14, 34.32s/it, lowest_loss=0.00465, pred_loss=23.9, trigger=1456]"
     ]
    },
    {
     "name": "stdout",
     "output_type": "stream",
     "text": [
      "Optimizer shows weird behaviour, reinitializing at previous best_State\n"
     ]
    },
    {
     "name": "stderr",
     "output_type": "stream",
     "text": [
      "Epoch: 1458:   7%|███████▏                                                                                          | 1458/20000 [16:01:12<167:30:55, 32.52s/it, lowest_loss=0.00465, pred_loss=23.9, trigger=1458]"
     ]
    },
    {
     "name": "stdout",
     "output_type": "stream",
     "text": [
      "Optimizer shows weird behaviour, reinitializing at previous best_State\n"
     ]
    },
    {
     "name": "stderr",
     "output_type": "stream",
     "text": [
      "Epoch: 1460:   7%|███████▏                                                                                          | 1460/20000 [16:02:26<170:35:16, 33.12s/it, lowest_loss=0.00465, pred_loss=23.9, trigger=1460]"
     ]
    },
    {
     "name": "stdout",
     "output_type": "stream",
     "text": [
      "Optimizer shows weird behaviour, reinitializing at previous best_State\n"
     ]
    },
    {
     "name": "stderr",
     "output_type": "stream",
     "text": [
      "Epoch: 1462:   7%|███████▏                                                                                          | 1462/20000 [16:03:41<177:45:54, 34.52s/it, lowest_loss=0.00465, pred_loss=23.9, trigger=1462]"
     ]
    },
    {
     "name": "stdout",
     "output_type": "stream",
     "text": [
      "Optimizer shows weird behaviour, reinitializing at previous best_State\n"
     ]
    },
    {
     "name": "stderr",
     "output_type": "stream",
     "text": [
      "Epoch: 1464:   7%|███████▏                                                                                          | 1464/20000 [16:04:59<182:48:37, 35.50s/it, lowest_loss=0.00465, pred_loss=23.9, trigger=1464]"
     ]
    },
    {
     "name": "stdout",
     "output_type": "stream",
     "text": [
      "Optimizer shows weird behaviour, reinitializing at previous best_State\n"
     ]
    },
    {
     "name": "stderr",
     "output_type": "stream",
     "text": [
      "Epoch: 1466:   7%|███████▏                                                                                          | 1466/20000 [16:06:16<186:28:03, 36.22s/it, lowest_loss=0.00465, pred_loss=23.9, trigger=1466]"
     ]
    },
    {
     "name": "stdout",
     "output_type": "stream",
     "text": [
      "Optimizer shows weird behaviour, reinitializing at previous best_State\n"
     ]
    },
    {
     "name": "stderr",
     "output_type": "stream",
     "text": [
      "Epoch: 1468:   7%|███████▏                                                                                          | 1468/20000 [16:07:29<181:34:48, 35.27s/it, lowest_loss=0.00465, pred_loss=23.9, trigger=1468]"
     ]
    },
    {
     "name": "stdout",
     "output_type": "stream",
     "text": [
      "Optimizer shows weird behaviour, reinitializing at previous best_State\n"
     ]
    },
    {
     "name": "stderr",
     "output_type": "stream",
     "text": [
      "Epoch: 1470:   7%|███████▏                                                                                          | 1470/20000 [16:08:44<180:35:55, 35.09s/it, lowest_loss=0.00465, pred_loss=23.9, trigger=1470]"
     ]
    },
    {
     "name": "stdout",
     "output_type": "stream",
     "text": [
      "Optimizer shows weird behaviour, reinitializing at previous best_State\n"
     ]
    },
    {
     "name": "stderr",
     "output_type": "stream",
     "text": [
      "Epoch: 1472:   7%|███████▏                                                                                          | 1472/20000 [16:10:00<182:09:10, 35.39s/it, lowest_loss=0.00465, pred_loss=23.9, trigger=1472]"
     ]
    },
    {
     "name": "stdout",
     "output_type": "stream",
     "text": [
      "Optimizer shows weird behaviour, reinitializing at previous best_State\n"
     ]
    },
    {
     "name": "stderr",
     "output_type": "stream",
     "text": [
      "Epoch: 1474:   7%|███████▏                                                                                          | 1474/20000 [16:11:19<185:51:04, 36.11s/it, lowest_loss=0.00465, pred_loss=23.9, trigger=1474]"
     ]
    },
    {
     "name": "stdout",
     "output_type": "stream",
     "text": [
      "Optimizer shows weird behaviour, reinitializing at previous best_State\n"
     ]
    },
    {
     "name": "stderr",
     "output_type": "stream",
     "text": [
      "Epoch: 1476:   7%|███████▏                                                                                          | 1476/20000 [16:12:38<188:15:07, 36.59s/it, lowest_loss=0.00465, pred_loss=23.9, trigger=1476]"
     ]
    },
    {
     "name": "stdout",
     "output_type": "stream",
     "text": [
      "Optimizer shows weird behaviour, reinitializing at previous best_State\n"
     ]
    },
    {
     "name": "stderr",
     "output_type": "stream",
     "text": [
      "Epoch: 1478:   7%|███████▏                                                                                          | 1478/20000 [16:13:46<176:57:45, 34.40s/it, lowest_loss=0.00465, pred_loss=23.9, trigger=1478]"
     ]
    },
    {
     "name": "stdout",
     "output_type": "stream",
     "text": [
      "Optimizer shows weird behaviour, reinitializing at previous best_State\n"
     ]
    },
    {
     "name": "stderr",
     "output_type": "stream",
     "text": [
      "Epoch: 1480:   7%|███████▎                                                                                          | 1480/20000 [16:15:00<175:38:07, 34.14s/it, lowest_loss=0.00465, pred_loss=23.9, trigger=1480]"
     ]
    },
    {
     "name": "stdout",
     "output_type": "stream",
     "text": [
      "Optimizer shows weird behaviour, reinitializing at previous best_State\n"
     ]
    },
    {
     "name": "stderr",
     "output_type": "stream",
     "text": [
      "Epoch: 1482:   7%|███████▎                                                                                          | 1482/20000 [16:16:18<182:09:57, 35.41s/it, lowest_loss=0.00465, pred_loss=23.9, trigger=1482]"
     ]
    },
    {
     "name": "stdout",
     "output_type": "stream",
     "text": [
      "Optimizer shows weird behaviour, reinitializing at previous best_State\n"
     ]
    },
    {
     "name": "stderr",
     "output_type": "stream",
     "text": [
      "Epoch: 1484:   7%|███████▎                                                                                          | 1484/20000 [16:17:23<169:07:29, 32.88s/it, lowest_loss=0.00465, pred_loss=23.9, trigger=1484]"
     ]
    },
    {
     "name": "stdout",
     "output_type": "stream",
     "text": [
      "Optimizer shows weird behaviour, reinitializing at previous best_State\n"
     ]
    },
    {
     "name": "stderr",
     "output_type": "stream",
     "text": [
      "Epoch: 1486:   7%|███████▎                                                                                          | 1486/20000 [16:18:43<180:50:57, 35.17s/it, lowest_loss=0.00465, pred_loss=23.9, trigger=1486]"
     ]
    },
    {
     "name": "stdout",
     "output_type": "stream",
     "text": [
      "Optimizer shows weird behaviour, reinitializing at previous best_State\n"
     ]
    },
    {
     "name": "stderr",
     "output_type": "stream",
     "text": [
      "Epoch: 1488:   7%|███████▎                                                                                          | 1488/20000 [16:19:55<176:53:05, 34.40s/it, lowest_loss=0.00465, pred_loss=23.9, trigger=1488]"
     ]
    },
    {
     "name": "stdout",
     "output_type": "stream",
     "text": [
      "Optimizer shows weird behaviour, reinitializing at previous best_State\n"
     ]
    },
    {
     "name": "stderr",
     "output_type": "stream",
     "text": [
      "Epoch: 1490:   7%|███████▎                                                                                          | 1490/20000 [16:21:09<178:59:19, 34.81s/it, lowest_loss=0.00465, pred_loss=23.9, trigger=1490]"
     ]
    },
    {
     "name": "stdout",
     "output_type": "stream",
     "text": [
      "Optimizer shows weird behaviour, reinitializing at previous best_State\n"
     ]
    },
    {
     "name": "stderr",
     "output_type": "stream",
     "text": [
      "Epoch: 1492:   7%|███████▎                                                                                          | 1492/20000 [16:22:26<179:48:09, 34.97s/it, lowest_loss=0.00465, pred_loss=23.9, trigger=1492]"
     ]
    },
    {
     "name": "stdout",
     "output_type": "stream",
     "text": [
      "Optimizer shows weird behaviour, reinitializing at previous best_State\n"
     ]
    },
    {
     "name": "stderr",
     "output_type": "stream",
     "text": [
      "Epoch: 1494:   7%|███████▎                                                                                          | 1494/20000 [16:23:43<183:21:25, 35.67s/it, lowest_loss=0.00465, pred_loss=23.9, trigger=1494]"
     ]
    },
    {
     "name": "stdout",
     "output_type": "stream",
     "text": [
      "Optimizer shows weird behaviour, reinitializing at previous best_State\n"
     ]
    },
    {
     "name": "stderr",
     "output_type": "stream",
     "text": [
      "Epoch: 1496:   7%|███████▎                                                                                          | 1496/20000 [16:24:58<181:34:16, 35.33s/it, lowest_loss=0.00465, pred_loss=23.9, trigger=1496]"
     ]
    },
    {
     "name": "stdout",
     "output_type": "stream",
     "text": [
      "Optimizer shows weird behaviour, reinitializing at previous best_State\n"
     ]
    },
    {
     "name": "stderr",
     "output_type": "stream",
     "text": [
      "Epoch: 1498:   7%|███████▎                                                                                          | 1498/20000 [16:26:14<182:28:18, 35.50s/it, lowest_loss=0.00465, pred_loss=23.9, trigger=1498]"
     ]
    },
    {
     "name": "stdout",
     "output_type": "stream",
     "text": [
      "Optimizer shows weird behaviour, reinitializing at previous best_State\n"
     ]
    },
    {
     "name": "stderr",
     "output_type": "stream",
     "text": [
      "Epoch: 1500:   8%|███████▎                                                                                          | 1500/20000 [16:27:24<174:33:20, 33.97s/it, lowest_loss=0.00465, pred_loss=23.9, trigger=1500]"
     ]
    },
    {
     "name": "stdout",
     "output_type": "stream",
     "text": [
      "Optimizer shows weird behaviour, reinitializing at previous best_State\n"
     ]
    },
    {
     "name": "stderr",
     "output_type": "stream",
     "text": [
      "Epoch: 1502:   8%|███████▎                                                                                          | 1502/20000 [16:28:36<174:13:38, 33.91s/it, lowest_loss=0.00465, pred_loss=23.9, trigger=1502]"
     ]
    },
    {
     "name": "stdout",
     "output_type": "stream",
     "text": [
      "Optimizer shows weird behaviour, reinitializing at previous best_State\n"
     ]
    },
    {
     "name": "stderr",
     "output_type": "stream",
     "text": [
      "Epoch: 1504:   8%|███████▎                                                                                          | 1504/20000 [16:29:52<178:47:38, 34.80s/it, lowest_loss=0.00465, pred_loss=23.9, trigger=1504]"
     ]
    },
    {
     "name": "stdout",
     "output_type": "stream",
     "text": [
      "Optimizer shows weird behaviour, reinitializing at previous best_State\n"
     ]
    },
    {
     "name": "stderr",
     "output_type": "stream",
     "text": [
      "Epoch: 1506:   8%|███████▍                                                                                          | 1506/20000 [16:31:02<172:25:20, 33.56s/it, lowest_loss=0.00465, pred_loss=23.9, trigger=1506]"
     ]
    },
    {
     "name": "stdout",
     "output_type": "stream",
     "text": [
      "Optimizer shows weird behaviour, reinitializing at previous best_State\n"
     ]
    },
    {
     "name": "stderr",
     "output_type": "stream",
     "text": [
      "Epoch: 1508:   8%|███████▍                                                                                          | 1508/20000 [16:32:08<166:22:44, 32.39s/it, lowest_loss=0.00465, pred_loss=23.9, trigger=1508]"
     ]
    },
    {
     "name": "stdout",
     "output_type": "stream",
     "text": [
      "Optimizer shows weird behaviour, reinitializing at previous best_State\n"
     ]
    },
    {
     "name": "stderr",
     "output_type": "stream",
     "text": [
      "Epoch: 1510:   8%|███████▍                                                                                          | 1510/20000 [16:33:21<171:59:24, 33.49s/it, lowest_loss=0.00465, pred_loss=23.9, trigger=1510]"
     ]
    },
    {
     "name": "stdout",
     "output_type": "stream",
     "text": [
      "Optimizer shows weird behaviour, reinitializing at previous best_State\n"
     ]
    },
    {
     "name": "stderr",
     "output_type": "stream",
     "text": [
      "Epoch: 1512:   8%|███████▍                                                                                          | 1512/20000 [16:34:39<180:19:02, 35.11s/it, lowest_loss=0.00465, pred_loss=23.9, trigger=1512]"
     ]
    },
    {
     "name": "stdout",
     "output_type": "stream",
     "text": [
      "Optimizer shows weird behaviour, reinitializing at previous best_State\n"
     ]
    },
    {
     "name": "stderr",
     "output_type": "stream",
     "text": [
      "Epoch: 1514:   8%|███████▍                                                                                          | 1514/20000 [16:35:48<172:39:00, 33.62s/it, lowest_loss=0.00465, pred_loss=23.9, trigger=1514]"
     ]
    },
    {
     "name": "stdout",
     "output_type": "stream",
     "text": [
      "Optimizer shows weird behaviour, reinitializing at previous best_State\n"
     ]
    },
    {
     "name": "stderr",
     "output_type": "stream",
     "text": [
      "Epoch: 1516:   8%|███████▍                                                                                          | 1516/20000 [16:37:00<173:03:34, 33.71s/it, lowest_loss=0.00465, pred_loss=23.9, trigger=1516]"
     ]
    },
    {
     "name": "stdout",
     "output_type": "stream",
     "text": [
      "Optimizer shows weird behaviour, reinitializing at previous best_State\n"
     ]
    },
    {
     "name": "stderr",
     "output_type": "stream",
     "text": [
      "Epoch: 1518:   8%|███████▍                                                                                          | 1518/20000 [16:38:08<167:56:23, 32.71s/it, lowest_loss=0.00465, pred_loss=23.9, trigger=1518]"
     ]
    },
    {
     "name": "stdout",
     "output_type": "stream",
     "text": [
      "Optimizer shows weird behaviour, reinitializing at previous best_State\n"
     ]
    },
    {
     "name": "stderr",
     "output_type": "stream",
     "text": [
      "Epoch: 1520:   8%|███████▍                                                                                          | 1520/20000 [16:39:17<166:17:29, 32.39s/it, lowest_loss=0.00465, pred_loss=23.9, trigger=1520]"
     ]
    },
    {
     "name": "stdout",
     "output_type": "stream",
     "text": [
      "Optimizer shows weird behaviour, reinitializing at previous best_State\n"
     ]
    },
    {
     "name": "stderr",
     "output_type": "stream",
     "text": [
      "Epoch: 1522:   8%|███████▍                                                                                          | 1522/20000 [16:40:31<173:01:13, 33.71s/it, lowest_loss=0.00465, pred_loss=23.9, trigger=1522]"
     ]
    },
    {
     "name": "stdout",
     "output_type": "stream",
     "text": [
      "Optimizer shows weird behaviour, reinitializing at previous best_State\n"
     ]
    },
    {
     "name": "stderr",
     "output_type": "stream",
     "text": [
      "Epoch: 1524:   8%|███████▍                                                                                          | 1524/20000 [16:41:46<175:11:13, 34.13s/it, lowest_loss=0.00465, pred_loss=23.9, trigger=1524]"
     ]
    },
    {
     "name": "stdout",
     "output_type": "stream",
     "text": [
      "Optimizer shows weird behaviour, reinitializing at previous best_State\n"
     ]
    },
    {
     "name": "stderr",
     "output_type": "stream",
     "text": [
      "Epoch: 1526:   8%|███████▍                                                                                          | 1526/20000 [16:42:53<169:08:26, 32.96s/it, lowest_loss=0.00465, pred_loss=23.9, trigger=1526]"
     ]
    },
    {
     "name": "stdout",
     "output_type": "stream",
     "text": [
      "Optimizer shows weird behaviour, reinitializing at previous best_State\n"
     ]
    },
    {
     "name": "stderr",
     "output_type": "stream",
     "text": [
      "Epoch: 1528:   8%|███████▍                                                                                          | 1528/20000 [16:43:58<161:27:46, 31.47s/it, lowest_loss=0.00465, pred_loss=23.9, trigger=1528]"
     ]
    },
    {
     "name": "stdout",
     "output_type": "stream",
     "text": [
      "Optimizer shows weird behaviour, reinitializing at previous best_State\n"
     ]
    },
    {
     "name": "stderr",
     "output_type": "stream",
     "text": [
      "Epoch: 1530:   8%|███████▍                                                                                          | 1530/20000 [16:45:15<170:49:55, 33.30s/it, lowest_loss=0.00465, pred_loss=23.9, trigger=1530]"
     ]
    },
    {
     "name": "stdout",
     "output_type": "stream",
     "text": [
      "Optimizer shows weird behaviour, reinitializing at previous best_State\n"
     ]
    },
    {
     "name": "stderr",
     "output_type": "stream",
     "text": [
      "Epoch: 1532:   8%|███████▌                                                                                          | 1532/20000 [16:46:23<168:18:10, 32.81s/it, lowest_loss=0.00465, pred_loss=23.9, trigger=1532]"
     ]
    },
    {
     "name": "stdout",
     "output_type": "stream",
     "text": [
      "Optimizer shows weird behaviour, reinitializing at previous best_State\n"
     ]
    },
    {
     "name": "stderr",
     "output_type": "stream",
     "text": [
      "Epoch: 1534:   8%|███████▌                                                                                          | 1534/20000 [16:47:38<174:16:50, 33.98s/it, lowest_loss=0.00465, pred_loss=23.9, trigger=1534]"
     ]
    },
    {
     "name": "stdout",
     "output_type": "stream",
     "text": [
      "Optimizer shows weird behaviour, reinitializing at previous best_State\n"
     ]
    },
    {
     "name": "stderr",
     "output_type": "stream",
     "text": [
      "Epoch: 1536:   8%|███████▌                                                                                          | 1536/20000 [16:48:53<177:46:19, 34.66s/it, lowest_loss=0.00465, pred_loss=23.9, trigger=1536]"
     ]
    },
    {
     "name": "stdout",
     "output_type": "stream",
     "text": [
      "Optimizer shows weird behaviour, reinitializing at previous best_State\n"
     ]
    },
    {
     "name": "stderr",
     "output_type": "stream",
     "text": [
      "Epoch: 1538:   8%|███████▌                                                                                          | 1538/20000 [16:50:04<174:22:45, 34.00s/it, lowest_loss=0.00465, pred_loss=23.9, trigger=1538]"
     ]
    },
    {
     "name": "stdout",
     "output_type": "stream",
     "text": [
      "Optimizer shows weird behaviour, reinitializing at previous best_State\n"
     ]
    },
    {
     "name": "stderr",
     "output_type": "stream",
     "text": [
      "Epoch: 1540:   8%|███████▌                                                                                          | 1540/20000 [16:51:13<170:14:04, 33.20s/it, lowest_loss=0.00465, pred_loss=23.9, trigger=1540]"
     ]
    },
    {
     "name": "stdout",
     "output_type": "stream",
     "text": [
      "Optimizer shows weird behaviour, reinitializing at previous best_State\n"
     ]
    },
    {
     "name": "stderr",
     "output_type": "stream",
     "text": [
      "Epoch: 1542:   8%|███████▌                                                                                          | 1542/20000 [16:52:27<176:07:51, 34.35s/it, lowest_loss=0.00465, pred_loss=23.9, trigger=1542]"
     ]
    },
    {
     "name": "stdout",
     "output_type": "stream",
     "text": [
      "Optimizer shows weird behaviour, reinitializing at previous best_State\n"
     ]
    },
    {
     "name": "stderr",
     "output_type": "stream",
     "text": [
      "Epoch: 1544:   8%|███████▌                                                                                          | 1544/20000 [16:53:38<173:50:21, 33.91s/it, lowest_loss=0.00465, pred_loss=23.9, trigger=1544]"
     ]
    },
    {
     "name": "stdout",
     "output_type": "stream",
     "text": [
      "Optimizer shows weird behaviour, reinitializing at previous best_State\n"
     ]
    },
    {
     "name": "stderr",
     "output_type": "stream",
     "text": [
      "Epoch: 1546:   8%|███████▌                                                                                          | 1546/20000 [16:54:53<175:54:45, 34.32s/it, lowest_loss=0.00465, pred_loss=23.9, trigger=1546]"
     ]
    },
    {
     "name": "stdout",
     "output_type": "stream",
     "text": [
      "Optimizer shows weird behaviour, reinitializing at previous best_State\n"
     ]
    },
    {
     "name": "stderr",
     "output_type": "stream",
     "text": [
      "Epoch: 1548:   8%|███████▌                                                                                          | 1548/20000 [16:56:13<185:02:32, 36.10s/it, lowest_loss=0.00465, pred_loss=23.9, trigger=1548]"
     ]
    },
    {
     "name": "stdout",
     "output_type": "stream",
     "text": [
      "Optimizer shows weird behaviour, reinitializing at previous best_State\n"
     ]
    },
    {
     "name": "stderr",
     "output_type": "stream",
     "text": [
      "Epoch: 1550:   8%|███████▌                                                                                          | 1550/20000 [16:57:25<178:34:14, 34.84s/it, lowest_loss=0.00465, pred_loss=23.9, trigger=1550]"
     ]
    },
    {
     "name": "stdout",
     "output_type": "stream",
     "text": [
      "Optimizer shows weird behaviour, reinitializing at previous best_State\n"
     ]
    },
    {
     "name": "stderr",
     "output_type": "stream",
     "text": [
      "Epoch: 1552:   8%|███████▌                                                                                          | 1552/20000 [16:58:46<186:39:52, 36.43s/it, lowest_loss=0.00465, pred_loss=23.9, trigger=1552]"
     ]
    },
    {
     "name": "stdout",
     "output_type": "stream",
     "text": [
      "Optimizer shows weird behaviour, reinitializing at previous best_State\n"
     ]
    },
    {
     "name": "stderr",
     "output_type": "stream",
     "text": [
      "Epoch: 1554:   8%|███████▌                                                                                          | 1554/20000 [17:00:02<186:17:03, 36.36s/it, lowest_loss=0.00465, pred_loss=23.9, trigger=1554]"
     ]
    },
    {
     "name": "stdout",
     "output_type": "stream",
     "text": [
      "Optimizer shows weird behaviour, reinitializing at previous best_State\n"
     ]
    },
    {
     "name": "stderr",
     "output_type": "stream",
     "text": [
      "Epoch: 1556:   8%|███████▌                                                                                          | 1556/20000 [17:01:10<172:32:06, 33.68s/it, lowest_loss=0.00465, pred_loss=23.9, trigger=1556]"
     ]
    },
    {
     "name": "stdout",
     "output_type": "stream",
     "text": [
      "Optimizer shows weird behaviour, reinitializing at previous best_State\n"
     ]
    },
    {
     "name": "stderr",
     "output_type": "stream",
     "text": [
      "Epoch: 1558:   8%|███████▋                                                                                          | 1558/20000 [17:02:16<164:32:56, 32.12s/it, lowest_loss=0.00465, pred_loss=23.9, trigger=1558]"
     ]
    },
    {
     "name": "stdout",
     "output_type": "stream",
     "text": [
      "Optimizer shows weird behaviour, reinitializing at previous best_State\n"
     ]
    },
    {
     "name": "stderr",
     "output_type": "stream",
     "text": [
      "Epoch: 1560:   8%|███████▋                                                                                          | 1560/20000 [17:03:29<169:39:33, 33.12s/it, lowest_loss=0.00465, pred_loss=23.9, trigger=1560]"
     ]
    },
    {
     "name": "stdout",
     "output_type": "stream",
     "text": [
      "Optimizer shows weird behaviour, reinitializing at previous best_State\n"
     ]
    },
    {
     "name": "stderr",
     "output_type": "stream",
     "text": [
      "Epoch: 1562:   8%|███████▋                                                                                          | 1562/20000 [17:04:44<174:47:45, 34.13s/it, lowest_loss=0.00465, pred_loss=23.9, trigger=1562]"
     ]
    },
    {
     "name": "stdout",
     "output_type": "stream",
     "text": [
      "Optimizer shows weird behaviour, reinitializing at previous best_State\n"
     ]
    },
    {
     "name": "stderr",
     "output_type": "stream",
     "text": [
      "Epoch: 1564:   8%|███████▋                                                                                          | 1564/20000 [17:06:05<183:18:37, 35.80s/it, lowest_loss=0.00465, pred_loss=23.9, trigger=1564]"
     ]
    },
    {
     "name": "stdout",
     "output_type": "stream",
     "text": [
      "Optimizer shows weird behaviour, reinitializing at previous best_State\n"
     ]
    },
    {
     "name": "stderr",
     "output_type": "stream",
     "text": [
      "Epoch: 1566:   8%|███████▋                                                                                          | 1566/20000 [17:07:15<173:49:31, 33.95s/it, lowest_loss=0.00465, pred_loss=23.9, trigger=1566]"
     ]
    },
    {
     "name": "stdout",
     "output_type": "stream",
     "text": [
      "Optimizer shows weird behaviour, reinitializing at previous best_State\n"
     ]
    },
    {
     "name": "stderr",
     "output_type": "stream",
     "text": [
      "Epoch: 1568:   8%|███████▋                                                                                          | 1568/20000 [17:08:18<161:01:23, 31.45s/it, lowest_loss=0.00465, pred_loss=23.9, trigger=1568]"
     ]
    },
    {
     "name": "stdout",
     "output_type": "stream",
     "text": [
      "Optimizer shows weird behaviour, reinitializing at previous best_State\n"
     ]
    },
    {
     "name": "stderr",
     "output_type": "stream",
     "text": [
      "Epoch: 1570:   8%|███████▋                                                                                          | 1570/20000 [17:09:43<182:11:52, 35.59s/it, lowest_loss=0.00465, pred_loss=23.9, trigger=1570]"
     ]
    },
    {
     "name": "stdout",
     "output_type": "stream",
     "text": [
      "Optimizer shows weird behaviour, reinitializing at previous best_State\n"
     ]
    },
    {
     "name": "stderr",
     "output_type": "stream",
     "text": [
      "Epoch: 1572:   8%|███████▋                                                                                          | 1572/20000 [17:10:47<166:44:28, 32.57s/it, lowest_loss=0.00465, pred_loss=23.9, trigger=1572]"
     ]
    },
    {
     "name": "stdout",
     "output_type": "stream",
     "text": [
      "Optimizer shows weird behaviour, reinitializing at previous best_State\n"
     ]
    },
    {
     "name": "stderr",
     "output_type": "stream",
     "text": [
      "Epoch: 1574:   8%|███████▋                                                                                          | 1574/20000 [17:11:59<170:45:00, 33.36s/it, lowest_loss=0.00465, pred_loss=23.9, trigger=1574]"
     ]
    },
    {
     "name": "stdout",
     "output_type": "stream",
     "text": [
      "Optimizer shows weird behaviour, reinitializing at previous best_State\n"
     ]
    },
    {
     "name": "stderr",
     "output_type": "stream",
     "text": [
      "Epoch: 1576:   8%|███████▋                                                                                          | 1576/20000 [17:13:12<175:12:59, 34.24s/it, lowest_loss=0.00465, pred_loss=23.9, trigger=1576]"
     ]
    },
    {
     "name": "stdout",
     "output_type": "stream",
     "text": [
      "Optimizer shows weird behaviour, reinitializing at previous best_State\n"
     ]
    },
    {
     "name": "stderr",
     "output_type": "stream",
     "text": [
      "Epoch: 1578:   8%|███████▋                                                                                          | 1578/20000 [17:14:22<172:03:50, 33.62s/it, lowest_loss=0.00465, pred_loss=23.9, trigger=1578]"
     ]
    },
    {
     "name": "stdout",
     "output_type": "stream",
     "text": [
      "Optimizer shows weird behaviour, reinitializing at previous best_State\n"
     ]
    },
    {
     "name": "stderr",
     "output_type": "stream",
     "text": [
      "Epoch: 1580:   8%|███████▋                                                                                          | 1580/20000 [17:15:31<169:49:58, 33.19s/it, lowest_loss=0.00465, pred_loss=23.9, trigger=1580]"
     ]
    },
    {
     "name": "stdout",
     "output_type": "stream",
     "text": [
      "Optimizer shows weird behaviour, reinitializing at previous best_State\n"
     ]
    },
    {
     "name": "stderr",
     "output_type": "stream",
     "text": [
      "Epoch: 1582:   8%|███████▊                                                                                          | 1582/20000 [17:16:43<170:26:01, 33.31s/it, lowest_loss=0.00465, pred_loss=23.9, trigger=1582]"
     ]
    },
    {
     "name": "stdout",
     "output_type": "stream",
     "text": [
      "Optimizer shows weird behaviour, reinitializing at previous best_State\n"
     ]
    },
    {
     "name": "stderr",
     "output_type": "stream",
     "text": [
      "Epoch: 1584:   8%|███████▊                                                                                          | 1584/20000 [17:18:00<175:03:34, 34.22s/it, lowest_loss=0.00465, pred_loss=23.9, trigger=1584]"
     ]
    },
    {
     "name": "stdout",
     "output_type": "stream",
     "text": [
      "Optimizer shows weird behaviour, reinitializing at previous best_State\n"
     ]
    },
    {
     "name": "stderr",
     "output_type": "stream",
     "text": [
      "Epoch: 1586:   8%|███████▊                                                                                          | 1586/20000 [17:19:13<173:59:25, 34.02s/it, lowest_loss=0.00465, pred_loss=23.9, trigger=1586]"
     ]
    },
    {
     "name": "stdout",
     "output_type": "stream",
     "text": [
      "Optimizer shows weird behaviour, reinitializing at previous best_State\n"
     ]
    },
    {
     "name": "stderr",
     "output_type": "stream",
     "text": [
      "Epoch: 1588:   8%|███████▊                                                                                          | 1588/20000 [17:20:23<173:47:01, 33.98s/it, lowest_loss=0.00465, pred_loss=23.9, trigger=1588]"
     ]
    },
    {
     "name": "stdout",
     "output_type": "stream",
     "text": [
      "Optimizer shows weird behaviour, reinitializing at previous best_State\n"
     ]
    },
    {
     "name": "stderr",
     "output_type": "stream",
     "text": [
      "Epoch: 1590:   8%|███████▊                                                                                          | 1590/20000 [17:21:32<168:00:07, 32.85s/it, lowest_loss=0.00465, pred_loss=23.9, trigger=1590]"
     ]
    },
    {
     "name": "stdout",
     "output_type": "stream",
     "text": [
      "Optimizer shows weird behaviour, reinitializing at previous best_State\n"
     ]
    },
    {
     "name": "stderr",
     "output_type": "stream",
     "text": [
      "Epoch: 1592:   8%|███████▊                                                                                          | 1592/20000 [17:22:43<167:11:28, 32.70s/it, lowest_loss=0.00465, pred_loss=23.9, trigger=1592]"
     ]
    },
    {
     "name": "stdout",
     "output_type": "stream",
     "text": [
      "Optimizer shows weird behaviour, reinitializing at previous best_State\n"
     ]
    },
    {
     "name": "stderr",
     "output_type": "stream",
     "text": [
      "Epoch: 1594:   8%|███████▊                                                                                          | 1594/20000 [17:23:46<160:37:51, 31.42s/it, lowest_loss=0.00465, pred_loss=23.9, trigger=1594]"
     ]
    },
    {
     "name": "stdout",
     "output_type": "stream",
     "text": [
      "Optimizer shows weird behaviour, reinitializing at previous best_State\n"
     ]
    },
    {
     "name": "stderr",
     "output_type": "stream",
     "text": [
      "Epoch: 1596:   8%|███████▊                                                                                          | 1596/20000 [17:24:58<166:02:45, 32.48s/it, lowest_loss=0.00465, pred_loss=23.9, trigger=1596]"
     ]
    },
    {
     "name": "stdout",
     "output_type": "stream",
     "text": [
      "Optimizer shows weird behaviour, reinitializing at previous best_State\n"
     ]
    },
    {
     "name": "stderr",
     "output_type": "stream",
     "text": [
      "Epoch: 1598:   8%|███████▊                                                                                          | 1598/20000 [17:26:14<174:53:59, 34.22s/it, lowest_loss=0.00465, pred_loss=23.9, trigger=1598]"
     ]
    },
    {
     "name": "stdout",
     "output_type": "stream",
     "text": [
      "Optimizer shows weird behaviour, reinitializing at previous best_State\n"
     ]
    },
    {
     "name": "stderr",
     "output_type": "stream",
     "text": [
      "Epoch: 1600:   8%|███████▊                                                                                          | 1600/20000 [17:27:30<176:29:48, 34.53s/it, lowest_loss=0.00465, pred_loss=23.9, trigger=1600]"
     ]
    },
    {
     "name": "stdout",
     "output_type": "stream",
     "text": [
      "Optimizer shows weird behaviour, reinitializing at previous best_State\n"
     ]
    },
    {
     "name": "stderr",
     "output_type": "stream",
     "text": [
      "Epoch: 1602:   8%|███████▊                                                                                          | 1602/20000 [17:28:45<179:55:17, 35.21s/it, lowest_loss=0.00465, pred_loss=23.9, trigger=1602]"
     ]
    },
    {
     "name": "stdout",
     "output_type": "stream",
     "text": [
      "Optimizer shows weird behaviour, reinitializing at previous best_State\n"
     ]
    },
    {
     "name": "stderr",
     "output_type": "stream",
     "text": [
      "Epoch: 1604:   8%|███████▊                                                                                          | 1604/20000 [17:29:57<176:16:35, 34.50s/it, lowest_loss=0.00465, pred_loss=23.9, trigger=1604]"
     ]
    },
    {
     "name": "stdout",
     "output_type": "stream",
     "text": [
      "Optimizer shows weird behaviour, reinitializing at previous best_State\n"
     ]
    },
    {
     "name": "stderr",
     "output_type": "stream",
     "text": [
      "Epoch: 1606:   8%|███████▊                                                                                          | 1606/20000 [17:31:06<172:20:54, 33.73s/it, lowest_loss=0.00465, pred_loss=23.9, trigger=1606]"
     ]
    },
    {
     "name": "stdout",
     "output_type": "stream",
     "text": [
      "Optimizer shows weird behaviour, reinitializing at previous best_State\n"
     ]
    },
    {
     "name": "stderr",
     "output_type": "stream",
     "text": [
      "Epoch: 1608:   8%|███████▉                                                                                          | 1608/20000 [17:32:23<178:18:30, 34.90s/it, lowest_loss=0.00465, pred_loss=23.9, trigger=1608]"
     ]
    },
    {
     "name": "stdout",
     "output_type": "stream",
     "text": [
      "Optimizer shows weird behaviour, reinitializing at previous best_State\n"
     ]
    },
    {
     "name": "stderr",
     "output_type": "stream",
     "text": [
      "Epoch: 1610:   8%|███████▉                                                                                          | 1610/20000 [17:33:39<178:35:38, 34.96s/it, lowest_loss=0.00465, pred_loss=23.9, trigger=1610]"
     ]
    },
    {
     "name": "stdout",
     "output_type": "stream",
     "text": [
      "Optimizer shows weird behaviour, reinitializing at previous best_State\n"
     ]
    },
    {
     "name": "stderr",
     "output_type": "stream",
     "text": [
      "Epoch: 1612:   8%|███████▉                                                                                          | 1612/20000 [17:34:47<170:47:11, 33.44s/it, lowest_loss=0.00465, pred_loss=23.9, trigger=1612]"
     ]
    },
    {
     "name": "stdout",
     "output_type": "stream",
     "text": [
      "Optimizer shows weird behaviour, reinitializing at previous best_State\n"
     ]
    },
    {
     "name": "stderr",
     "output_type": "stream",
     "text": [
      "Epoch: 1614:   8%|███████▉                                                                                          | 1614/20000 [17:35:54<163:38:36, 32.04s/it, lowest_loss=0.00465, pred_loss=23.9, trigger=1614]"
     ]
    },
    {
     "name": "stdout",
     "output_type": "stream",
     "text": [
      "Optimizer shows weird behaviour, reinitializing at previous best_State\n"
     ]
    },
    {
     "name": "stderr",
     "output_type": "stream",
     "text": [
      "Epoch: 1616:   8%|███████▉                                                                                          | 1616/20000 [17:37:10<172:20:20, 33.75s/it, lowest_loss=0.00465, pred_loss=23.9, trigger=1616]"
     ]
    },
    {
     "name": "stdout",
     "output_type": "stream",
     "text": [
      "Optimizer shows weird behaviour, reinitializing at previous best_State\n"
     ]
    },
    {
     "name": "stderr",
     "output_type": "stream",
     "text": [
      "Epoch: 1618:   8%|███████▉                                                                                          | 1618/20000 [17:38:29<179:50:48, 35.22s/it, lowest_loss=0.00465, pred_loss=23.9, trigger=1618]"
     ]
    },
    {
     "name": "stdout",
     "output_type": "stream",
     "text": [
      "Optimizer shows weird behaviour, reinitializing at previous best_State\n"
     ]
    },
    {
     "name": "stderr",
     "output_type": "stream",
     "text": [
      "Epoch: 1620:   8%|███████▉                                                                                          | 1620/20000 [17:39:43<180:23:39, 35.33s/it, lowest_loss=0.00465, pred_loss=23.9, trigger=1620]"
     ]
    },
    {
     "name": "stdout",
     "output_type": "stream",
     "text": [
      "Optimizer shows weird behaviour, reinitializing at previous best_State\n"
     ]
    },
    {
     "name": "stderr",
     "output_type": "stream",
     "text": [
      "Epoch: 1622:   8%|███████▉                                                                                          | 1622/20000 [17:40:54<175:21:13, 34.35s/it, lowest_loss=0.00465, pred_loss=23.9, trigger=1622]"
     ]
    },
    {
     "name": "stdout",
     "output_type": "stream",
     "text": [
      "Optimizer shows weird behaviour, reinitializing at previous best_State\n"
     ]
    },
    {
     "name": "stderr",
     "output_type": "stream",
     "text": [
      "Epoch: 1624:   8%|███████▉                                                                                          | 1624/20000 [17:42:19<188:39:32, 36.96s/it, lowest_loss=0.00465, pred_loss=23.9, trigger=1624]"
     ]
    },
    {
     "name": "stdout",
     "output_type": "stream",
     "text": [
      "Optimizer shows weird behaviour, reinitializing at previous best_State\n"
     ]
    },
    {
     "name": "stderr",
     "output_type": "stream",
     "text": [
      "Epoch: 1626:   8%|███████▉                                                                                          | 1626/20000 [17:43:30<180:17:06, 35.32s/it, lowest_loss=0.00465, pred_loss=23.9, trigger=1626]"
     ]
    },
    {
     "name": "stdout",
     "output_type": "stream",
     "text": [
      "Optimizer shows weird behaviour, reinitializing at previous best_State\n"
     ]
    },
    {
     "name": "stderr",
     "output_type": "stream",
     "text": [
      "Epoch: 1628:   8%|███████▉                                                                                          | 1628/20000 [17:44:46<180:16:49, 35.33s/it, lowest_loss=0.00465, pred_loss=23.9, trigger=1628]"
     ]
    },
    {
     "name": "stdout",
     "output_type": "stream",
     "text": [
      "Optimizer shows weird behaviour, reinitializing at previous best_State\n"
     ]
    },
    {
     "name": "stderr",
     "output_type": "stream",
     "text": [
      "Epoch: 1630:   8%|███████▉                                                                                          | 1630/20000 [17:46:06<185:36:48, 36.37s/it, lowest_loss=0.00465, pred_loss=23.9, trigger=1630]"
     ]
    },
    {
     "name": "stdout",
     "output_type": "stream",
     "text": [
      "Optimizer shows weird behaviour, reinitializing at previous best_State\n"
     ]
    },
    {
     "name": "stderr",
     "output_type": "stream",
     "text": [
      "Epoch: 1632:   8%|███████▉                                                                                          | 1632/20000 [17:47:19<180:15:48, 35.33s/it, lowest_loss=0.00465, pred_loss=23.9, trigger=1632]"
     ]
    },
    {
     "name": "stdout",
     "output_type": "stream",
     "text": [
      "Optimizer shows weird behaviour, reinitializing at previous best_State\n"
     ]
    },
    {
     "name": "stderr",
     "output_type": "stream",
     "text": [
      "Epoch: 1634:   8%|████████                                                                                          | 1634/20000 [17:48:32<177:21:05, 34.76s/it, lowest_loss=0.00465, pred_loss=23.9, trigger=1634]"
     ]
    },
    {
     "name": "stdout",
     "output_type": "stream",
     "text": [
      "Optimizer shows weird behaviour, reinitializing at previous best_State\n"
     ]
    },
    {
     "name": "stderr",
     "output_type": "stream",
     "text": [
      "Epoch: 1636:   8%|████████                                                                                          | 1636/20000 [17:49:41<170:44:17, 33.47s/it, lowest_loss=0.00465, pred_loss=23.9, trigger=1636]"
     ]
    },
    {
     "name": "stdout",
     "output_type": "stream",
     "text": [
      "Optimizer shows weird behaviour, reinitializing at previous best_State\n"
     ]
    },
    {
     "name": "stderr",
     "output_type": "stream",
     "text": [
      "Epoch: 1638:   8%|████████                                                                                          | 1638/20000 [17:50:56<174:31:34, 34.22s/it, lowest_loss=0.00465, pred_loss=23.9, trigger=1638]"
     ]
    },
    {
     "name": "stdout",
     "output_type": "stream",
     "text": [
      "Optimizer shows weird behaviour, reinitializing at previous best_State\n"
     ]
    },
    {
     "name": "stderr",
     "output_type": "stream",
     "text": [
      "Epoch: 1640:   8%|████████                                                                                          | 1640/20000 [17:52:12<177:28:42, 34.80s/it, lowest_loss=0.00465, pred_loss=23.9, trigger=1640]"
     ]
    },
    {
     "name": "stdout",
     "output_type": "stream",
     "text": [
      "Optimizer shows weird behaviour, reinitializing at previous best_State\n"
     ]
    },
    {
     "name": "stderr",
     "output_type": "stream",
     "text": [
      "Epoch: 1642:   8%|████████                                                                                          | 1642/20000 [17:53:24<174:45:10, 34.27s/it, lowest_loss=0.00465, pred_loss=23.9, trigger=1642]"
     ]
    },
    {
     "name": "stdout",
     "output_type": "stream",
     "text": [
      "Optimizer shows weird behaviour, reinitializing at previous best_State\n"
     ]
    },
    {
     "name": "stderr",
     "output_type": "stream",
     "text": [
      "Epoch: 1644:   8%|████████                                                                                          | 1644/20000 [17:54:28<163:22:15, 32.04s/it, lowest_loss=0.00465, pred_loss=23.9, trigger=1644]"
     ]
    },
    {
     "name": "stdout",
     "output_type": "stream",
     "text": [
      "Optimizer shows weird behaviour, reinitializing at previous best_State\n"
     ]
    },
    {
     "name": "stderr",
     "output_type": "stream",
     "text": [
      "Epoch: 1646:   8%|████████                                                                                          | 1646/20000 [17:55:29<154:01:24, 30.21s/it, lowest_loss=0.00465, pred_loss=23.9, trigger=1646]"
     ]
    },
    {
     "name": "stdout",
     "output_type": "stream",
     "text": [
      "Optimizer shows weird behaviour, reinitializing at previous best_State\n"
     ]
    },
    {
     "name": "stderr",
     "output_type": "stream",
     "text": [
      "Epoch: 1648:   8%|████████                                                                                          | 1648/20000 [17:56:40<161:59:05, 31.78s/it, lowest_loss=0.00465, pred_loss=23.9, trigger=1648]"
     ]
    },
    {
     "name": "stdout",
     "output_type": "stream",
     "text": [
      "Optimizer shows weird behaviour, reinitializing at previous best_State\n"
     ]
    },
    {
     "name": "stderr",
     "output_type": "stream",
     "text": [
      "Epoch: 1650:   8%|████████                                                                                          | 1650/20000 [17:57:47<161:28:46, 31.68s/it, lowest_loss=0.00465, pred_loss=23.9, trigger=1650]"
     ]
    },
    {
     "name": "stdout",
     "output_type": "stream",
     "text": [
      "Optimizer shows weird behaviour, reinitializing at previous best_State\n"
     ]
    },
    {
     "name": "stderr",
     "output_type": "stream",
     "text": [
      "Epoch: 1652:   8%|████████                                                                                          | 1652/20000 [17:59:07<176:30:58, 34.63s/it, lowest_loss=0.00465, pred_loss=23.9, trigger=1652]"
     ]
    },
    {
     "name": "stdout",
     "output_type": "stream",
     "text": [
      "Optimizer shows weird behaviour, reinitializing at previous best_State\n"
     ]
    },
    {
     "name": "stderr",
     "output_type": "stream",
     "text": [
      "Epoch: 1654:   8%|████████                                                                                          | 1654/20000 [18:00:26<182:58:27, 35.90s/it, lowest_loss=0.00465, pred_loss=23.9, trigger=1654]"
     ]
    },
    {
     "name": "stdout",
     "output_type": "stream",
     "text": [
      "Optimizer shows weird behaviour, reinitializing at previous best_State\n"
     ]
    },
    {
     "name": "stderr",
     "output_type": "stream",
     "text": [
      "Epoch: 1656:   8%|████████                                                                                          | 1656/20000 [18:01:37<175:37:37, 34.47s/it, lowest_loss=0.00465, pred_loss=23.9, trigger=1656]"
     ]
    },
    {
     "name": "stdout",
     "output_type": "stream",
     "text": [
      "Optimizer shows weird behaviour, reinitializing at previous best_State\n"
     ]
    },
    {
     "name": "stderr",
     "output_type": "stream",
     "text": [
      "Epoch: 1658:   8%|████████                                                                                          | 1658/20000 [18:02:53<176:57:40, 34.73s/it, lowest_loss=0.00465, pred_loss=23.9, trigger=1658]"
     ]
    },
    {
     "name": "stdout",
     "output_type": "stream",
     "text": [
      "Optimizer shows weird behaviour, reinitializing at previous best_State\n"
     ]
    },
    {
     "name": "stderr",
     "output_type": "stream",
     "text": [
      "Epoch: 1660:   8%|████████▏                                                                                         | 1660/20000 [18:04:03<172:07:36, 33.79s/it, lowest_loss=0.00465, pred_loss=23.9, trigger=1660]"
     ]
    },
    {
     "name": "stdout",
     "output_type": "stream",
     "text": [
      "Optimizer shows weird behaviour, reinitializing at previous best_State\n"
     ]
    },
    {
     "name": "stderr",
     "output_type": "stream",
     "text": [
      "Epoch: 1662:   8%|████████▏                                                                                         | 1662/20000 [18:05:19<175:42:14, 34.49s/it, lowest_loss=0.00465, pred_loss=23.9, trigger=1662]"
     ]
    },
    {
     "name": "stdout",
     "output_type": "stream",
     "text": [
      "Optimizer shows weird behaviour, reinitializing at previous best_State\n"
     ]
    },
    {
     "name": "stderr",
     "output_type": "stream",
     "text": [
      "Epoch: 1664:   8%|████████▏                                                                                         | 1664/20000 [18:06:34<178:55:47, 35.13s/it, lowest_loss=0.00465, pred_loss=23.9, trigger=1664]"
     ]
    },
    {
     "name": "stdout",
     "output_type": "stream",
     "text": [
      "Optimizer shows weird behaviour, reinitializing at previous best_State\n"
     ]
    },
    {
     "name": "stderr",
     "output_type": "stream",
     "text": [
      "Epoch: 1666:   8%|████████▏                                                                                         | 1666/20000 [18:07:45<172:49:59, 33.94s/it, lowest_loss=0.00465, pred_loss=23.9, trigger=1666]"
     ]
    },
    {
     "name": "stdout",
     "output_type": "stream",
     "text": [
      "Optimizer shows weird behaviour, reinitializing at previous best_State\n"
     ]
    },
    {
     "name": "stderr",
     "output_type": "stream",
     "text": [
      "Epoch: 1668:   8%|████████▏                                                                                         | 1668/20000 [18:08:59<172:12:30, 33.82s/it, lowest_loss=0.00465, pred_loss=23.9, trigger=1668]"
     ]
    },
    {
     "name": "stdout",
     "output_type": "stream",
     "text": [
      "Optimizer shows weird behaviour, reinitializing at previous best_State\n"
     ]
    },
    {
     "name": "stderr",
     "output_type": "stream",
     "text": [
      "Epoch: 1670:   8%|████████▏                                                                                         | 1670/20000 [18:10:16<177:44:02, 34.91s/it, lowest_loss=0.00465, pred_loss=23.9, trigger=1670]"
     ]
    },
    {
     "name": "stdout",
     "output_type": "stream",
     "text": [
      "Optimizer shows weird behaviour, reinitializing at previous best_State\n"
     ]
    },
    {
     "name": "stderr",
     "output_type": "stream",
     "text": [
      "Epoch: 1672:   8%|████████▏                                                                                         | 1672/20000 [18:11:30<177:07:21, 34.79s/it, lowest_loss=0.00465, pred_loss=23.9, trigger=1672]"
     ]
    },
    {
     "name": "stdout",
     "output_type": "stream",
     "text": [
      "Optimizer shows weird behaviour, reinitializing at previous best_State\n"
     ]
    },
    {
     "name": "stderr",
     "output_type": "stream",
     "text": [
      "Epoch: 1674:   8%|████████▏                                                                                         | 1674/20000 [18:12:38<170:33:43, 33.51s/it, lowest_loss=0.00465, pred_loss=23.9, trigger=1674]"
     ]
    },
    {
     "name": "stdout",
     "output_type": "stream",
     "text": [
      "Optimizer shows weird behaviour, reinitializing at previous best_State\n"
     ]
    },
    {
     "name": "stderr",
     "output_type": "stream",
     "text": [
      "Epoch: 1676:   8%|████████▏                                                                                         | 1676/20000 [18:13:48<168:03:58, 33.02s/it, lowest_loss=0.00465, pred_loss=23.9, trigger=1676]"
     ]
    },
    {
     "name": "stdout",
     "output_type": "stream",
     "text": [
      "Optimizer shows weird behaviour, reinitializing at previous best_State\n"
     ]
    },
    {
     "name": "stderr",
     "output_type": "stream",
     "text": [
      "Epoch: 1678:   8%|████████▏                                                                                         | 1678/20000 [18:14:55<164:16:35, 32.28s/it, lowest_loss=0.00465, pred_loss=23.9, trigger=1678]"
     ]
    },
    {
     "name": "stdout",
     "output_type": "stream",
     "text": [
      "Optimizer shows weird behaviour, reinitializing at previous best_State\n"
     ]
    },
    {
     "name": "stderr",
     "output_type": "stream",
     "text": [
      "Epoch: 1680:   8%|████████▏                                                                                         | 1680/20000 [18:16:08<166:49:56, 32.78s/it, lowest_loss=0.00465, pred_loss=23.9, trigger=1680]"
     ]
    },
    {
     "name": "stdout",
     "output_type": "stream",
     "text": [
      "Optimizer shows weird behaviour, reinitializing at previous best_State\n"
     ]
    },
    {
     "name": "stderr",
     "output_type": "stream",
     "text": [
      "Epoch: 1682:   8%|████████▏                                                                                         | 1682/20000 [18:17:16<162:34:11, 31.95s/it, lowest_loss=0.00465, pred_loss=23.9, trigger=1682]"
     ]
    }
   ],
   "source": [
    "#xdos_step = xdos[1] - xdos[0]\n",
    "#shift_range = torch.tensor([x*xdos_step for x in range(-20,20)])\n",
    "M_soap = WassLinearModel(448, 778, n_train, xdos, 1e-11, \"LBFGS\", \"cpu\")\n",
    "loss_history = M_soap.fit(train_dataloader_soap,None, None, 1, 20000)"
   ]
  },
  {
   "cell_type": "code",
   "execution_count": null,
   "id": "99793859",
   "metadata": {},
   "outputs": [],
   "source": []
  },
  {
   "cell_type": "code",
   "execution_count": null,
   "id": "91da43ff",
   "metadata": {},
   "outputs": [],
   "source": []
  },
  {
   "cell_type": "code",
   "execution_count": 22,
   "id": "73706139",
   "metadata": {},
   "outputs": [
    {
     "data": {
      "text/plain": [
       "tensor([-15., -16., -15.,  -8., -20., -19., -20.,   4.,  -5.,  -6.,  -3.,  -6.,\n",
       "        -16.,  -8., -19.,  -5., -17., -16., -20., -18.,  -1.,   2., -18.,  -1.,\n",
       "        -18., -18.,   4.,   5., -20.,  -8., -20.,   4.,   2., -17., -17., -17.,\n",
       "        -18.,   6.,  -5., -19.,  -5.,  -3.,  -4., -17.,  -1.,  -8., -18.,  -1.,\n",
       "         -1.,   1., -17.,  -6.,  -2., -20.,  -6., -20.,  -2.,   4.,   2., -18.,\n",
       "        -18., -18., -17., -20.,  -5.,  -4., -17., -15., -17., -15.,  -4.,  -4.,\n",
       "          4.,   3., -18.,  -4.,  -1., -20., -20.,   4., -15., -17.,  -4., -20.,\n",
       "        -18., -19., -18., -11., -17.,   4.,   5., -19., -18., -15.,   4.,  -5.,\n",
       "         -5., -20.,  -9., -20.,   3.,   3.,  -9., -20.,  -4., -15., -20.,  -4.,\n",
       "        -18., -11., -20., -19.,  -1., -15.,  -6., -18., -18., -18.,  -2., -17.,\n",
       "        -18., -20.,   4., -15., -18.,  -2., -15., -15.,  -5., -16.,  -6., -17.,\n",
       "        -17., -16., -17.,  -5.,   6., -15., -19.,  -4.,  -1., -17., -16.,  -1.,\n",
       "         -4.,  -9.,  -6., -18.,  -7.,  -5.,  -8., -19.,  -4., -17., -11., -20.,\n",
       "        -18., -15., -17., -20.,   5., -19., -20.,  -5.,   1.,   4., -17.,  -4.,\n",
       "         -6., -20., -19., -17.,  -5., -20., -15., -19., -18.,  -3.,  -1.,  -4.,\n",
       "         -2., -17., -18.,  -5., -16., -20.,   3., -17., -17., -18.,   5.,   4.,\n",
       "        -15.,  -4., -20., -18., -16., -17., -17.,   5.,  -2.,  -6., -18.,   4.,\n",
       "         -1., -17., -20., -15., -15.,   3., -17.,  -5., -16.,  -1., -17., -15.,\n",
       "        -17., -19., -11.,  -3., -16., -16., -15., -20., -19., -18., -20.,   0.,\n",
       "         -3., -16.,  -1., -18., -15.,   4., -15., -19., -16.,   0.,  -4.,   3.,\n",
       "        -15., -18., -20., -18., -18.,  -6., -18., -20.,  -4., -15., -17.,  -1.,\n",
       "        -15.,  -1., -16., -16.,   4.,   0.,  -2., -17., -20., -15., -18., -17.,\n",
       "         -4.,  -4., -20.,  -1., -17., -18., -18., -20.,  -4.,  -9.,  -2., -18.,\n",
       "         -1., -20., -13.,  -1., -17., -17., -20., -15.,  -5.,  -1.,  -6.,   4.,\n",
       "         -1.,   3., -15.,  -6.,  -6.,   1.,  -1.,  -2., -15., -15., -17., -20.,\n",
       "        -14.,  -4.,  -2.,   0., -18.,  -8., -18., -18., -18., -17.,  -1.,   5.,\n",
       "        -20., -18., -15., -17., -17.,  -2., -18., -17.,   0.,  -3., -16.,  -3.,\n",
       "         -7., -15.,   4., -15.,  -1., -17., -17., -20.,  -1.,  -1.,  -4.,  -7.,\n",
       "        -20., -20.,  -5., -18.,   5.,  -7., -18., -18.,   4.,   4.,  -3.,  -3.,\n",
       "         -4.,   5., -19., -17.,  -7., -11.,  -6.,  -4.,  -1., -17., -20.,  -1.,\n",
       "         -5.,  -3.,  -4., -20.,  -5., -17., -17.,   4., -20.,  -6., -17.,  -3.,\n",
       "        -20., -20.,   1., -16., -20., -20.,   3., -19.,  -6.,  -1.,  -4.,   0.,\n",
       "        -20.,   1.,  -4.,  -4., -18.,  -4.,  -4., -20.,   5.,   4., -17., -17.,\n",
       "        -20.,   4., -17., -20.,  -4.,  -1.,   4.,  -2., -20., -20.,  -3., -20.,\n",
       "        -17., -20.,  -8.,  -4., -20.,  -1.,  -2.,   5.,   1.,  -6., -15.,  -4.,\n",
       "         -8.,  -7., -18., -20., -20.,  -2., -20., -20.,   4., -20.,   3.,  -5.,\n",
       "        -17., -18., -15.,   1., -16., -15.,   4.,  -5.,  -4., -18.,  -1.,  -6.,\n",
       "          0., -16., -20., -17., -20., -16.,  -1., -11., -20., -16., -18.,  -7.,\n",
       "        -20., -18.,   4.,  -4., -20.,  -4.,  -3., -20.,  -3.,  -1.,  -1.,  -4.,\n",
       "         -2., -17., -13.,  -7., -20., -18., -17., -20., -16., -17.,   0., -18.,\n",
       "        -18., -17.,   1., -20.,  -5.,  19.,  -4.,  -4.,  -6.,   0., -11., -18.,\n",
       "        -16.,  -1., -15., -19.,  -9., -18., -18.,  -4., -20.,   4., -15., -17.,\n",
       "        -17.,   4.,  -3., -20.,   4., -18.,  -8., -17., -17., -19.,  -6., -13.,\n",
       "        -17.,  -1.,   4.,  -6., -18., -20.,  -4., -20.,  -3., -18., -17.,  -1.,\n",
       "         -3., -16., -20., -18., -20.,  -2., -20., -17., -19., -17., -16., -18.,\n",
       "          1.,  -1., -18., -18.,   4., -18.,   4., -13., -12., -20.,  -6.,  -5.,\n",
       "        -17.,   3.,   1., -20., -20., -17., -18.,  -1., -15.,   8.,  -3., -20.,\n",
       "         -6., -15., -20.,  -3.,   1.,  -6.,   4.,   4., -18.,   4., -20., -17.,\n",
       "         -2., -16., -19.,  -6., -18.,  -4.,   1., -20., -17., -18., -17., -17.,\n",
       "        -17.,  -4., -17., -20., -17., -20., -19., -17.,   4., -20.,  -3.,   4.,\n",
       "        -20.,  -4.,  -1., -17., -18., -18.,   1.,  -5., -17., -15.,   1.,   1.,\n",
       "        -20., -18., -15., -17., -19., -15., -20.,   0., -18., -18., -20.,   4.,\n",
       "         -4., -16., -17.,  -4., -19., -18., -20., -20., -16., -16., -20., -16.,\n",
       "          4.,   4.,  -6., -17., -16., -18.,   0.,  -7., -20.,  -3., -18.,   4.,\n",
       "        -20., -17., -20., -17., -18., -18.,   4., -17.,  -3., -16., -18.,  -5.,\n",
       "        -20., -16.,  -1.,   4., -20., -17., -16., -17., -18., -18., -18., -19.,\n",
       "        -17.,   4., -18.,  -1.,  -6.,  -7., -20., -18.,  -6.,  -1., -18.,   5.,\n",
       "         -1., -17., -20., -18.,   4.,   0.,   5., -16., -15., -15.,  -2.,  -2.,\n",
       "        -15., -18., -17.,  -1.,  -1.,  -1., -18.,   4., -15., -18., -20., -20.,\n",
       "        -20., -17., -20., -15.,  -9., -18.,  -5., -17., -17., -16., -15., -19.,\n",
       "        -13.,   5., -15., -15.,   4., -17.,  -8., -18., -20.,  -4., -18., -20.,\n",
       "        -20.,  -3.,   4.,  -1.,  -6.,  -2.,  -1., -20., -17.,   4.,  -1.,  -1.,\n",
       "        -20., -20.,   3., -17.,   4., -17.,  -2.,   1., -20., -17.,  -5., -17.,\n",
       "         -6.,   4., -17.,  -4., -13.,  -2.,  -5.,  -1., -20.,  -2.,   3.,  -2.,\n",
       "        -18., -15., -20., -17., -15.,  -6.,  -4., -20., -18., -18., -18., -17.,\n",
       "        -17.,   4., -15.,  -3., -18., -17.,   4., -11., -16., -17., -19., -16.,\n",
       "          1.,  -3.,  -4., -18., -17., -17., -15.,   4., -16., -15.,   5., -16.,\n",
       "         -4., -15.,  -4.,   1., -20.,  -3., -14.,   1., -20.,  -1.,  -1.,   5.,\n",
       "         -3., -18., -18.,  -6., -17., -18., -17., -17., -18.,  -7., -20., -20.,\n",
       "         -1.,   5., -20.])"
      ]
     },
     "execution_count": 22,
     "metadata": {},
     "output_type": "execute_result"
    }
   ],
   "source": [
    "M_soap.alignment/xdos_step"
   ]
  },
  {
   "cell_type": "code",
   "execution_count": null,
   "id": "57b97464",
   "metadata": {},
   "outputs": [],
   "source": []
  }
 ],
 "metadata": {
  "kernelspec": {
   "display_name": "Python 3 (ipykernel)",
   "language": "python",
   "name": "python3"
  },
  "language_info": {
   "codemirror_mode": {
    "name": "ipython",
    "version": 3
   },
   "file_extension": ".py",
   "mimetype": "text/x-python",
   "name": "python",
   "nbconvert_exporter": "python",
   "pygments_lexer": "ipython3",
   "version": "3.9.12"
  },
  "toc": {
   "base_numbering": 1,
   "nav_menu": {},
   "number_sections": true,
   "sideBar": true,
   "skip_h1_title": false,
   "title_cell": "Table of Contents",
   "title_sidebar": "Contents",
   "toc_cell": false,
   "toc_position": {
    "height": "calc(100% - 180px)",
    "left": "10px",
    "top": "150px",
    "width": "165px"
   },
   "toc_section_display": true,
   "toc_window_display": true
  }
 },
 "nbformat": 4,
 "nbformat_minor": 5
}
