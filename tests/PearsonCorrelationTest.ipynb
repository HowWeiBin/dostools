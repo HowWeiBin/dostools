{
 "cells": [
  {
   "cell_type": "markdown",
   "id": "eaf7a7b0",
   "metadata": {},
   "source": [
    "In this notebook we will only test if a higher pearson correlation coeffecient implies better prediction accuracy with a linear model"
   ]
  },
  {
   "cell_type": "markdown",
   "id": "84565b74",
   "metadata": {
    "hide_input": false
   },
   "source": [
    "## Imports"
   ]
  },
  {
   "cell_type": "code",
   "execution_count": 1,
   "id": "dfdaeca7",
   "metadata": {
    "ExecuteTime": {
     "end_time": "2023-02-22T10:20:46.459673Z",
     "start_time": "2023-02-22T10:20:42.793400Z"
    }
   },
   "outputs": [],
   "source": [
    "import dostools\n",
    "import importlib\n",
    "import numpy as np\n",
    "import pickle\n",
    "import torch\n",
    "import sys\n",
    "import matplotlib.pyplot as plt\n",
    "import copy\n",
    "from tqdm import tqdm\n",
    "import matplotlib\n",
    "import time\n",
    "torch.set_default_dtype(torch.float64) \n",
    "%matplotlib notebook\n",
    "matplotlib.rcParams['figure.figsize'] = (10, 10)"
   ]
  },
  {
   "cell_type": "code",
   "execution_count": 2,
   "id": "7ccbf26d",
   "metadata": {
    "ExecuteTime": {
     "end_time": "2023-02-22T10:20:49.466373Z",
     "start_time": "2023-02-22T10:20:46.462139Z"
    }
   },
   "outputs": [
    {
     "name": "stdout",
     "output_type": "stream",
     "text": [
      "ldos shape is torch.Size([1039, 778])\n",
      "mean dos shape is torch.Size([778])\n",
      "Variance covered with 10 PCs is = 0.9871211778950163\n"
     ]
    }
   ],
   "source": [
    "import dostools.datasets.data as data\n",
    "import dostools.utils.utils as utils\n",
    "\n",
    "n_structures = 1039\n",
    "np.random.seed(0)\n",
    "n_train = int(0.8 * n_structures)\n",
    "train_index = np.arange(n_structures)\n",
    "np.random.shuffle(train_index)\n",
    "test_index = train_index[n_train:]\n",
    "train_index = train_index[:n_train]\n",
    "\n",
    "with torch.no_grad():\n",
    "    structures = data.load_structures(\":\")\n",
    "    n_structures = len(structures) #total number of structures\n",
    "    for structure in structures:#implement periodicity\n",
    "        structure.wrap(eps = 1e-12) \n",
    "    n_atoms = np.zeros(n_structures, dtype = int) #stores number of atoms in each structures\n",
    "    for i in range(n_structures):\n",
    "        n_atoms[i] = len(structures[i])\n",
    "\n",
    "    #eigenergies, emin, emax = dostools.src.datasets.data.load_eigenenergies(unpack = True, n_structures = len(structures))\n",
    "    xdos = torch.tensor(data.load_xdos())\n",
    "    ldos = torch.tensor(data.load_ldos())\n",
    "    ldos *= 2\n",
    "\n",
    "    print (\"ldos shape is {}\".format(ldos.shape))\n",
    "    mean_dos_per_atom = ldos[train_index].mean(axis = 0) #only calculated for train set to prevent data leakage\n",
    "    print (\"mean dos shape is {}\".format(mean_dos_per_atom.shape))\n",
    "    \n",
    "    \n",
    "    y_pw = ldos - mean_dos_per_atom\n",
    "    y_lcdf = torch.cumsum(y_pw, dim = 1)\n",
    "    _, pc_vectors = utils.build_pc(ldos[train_index], mean_dos_per_atom[None,:], n_pc = 10)\n",
    "    y_pc = utils.build_coeffs(ldos - mean_dos_per_atom[None,:], pc_vectors)\n",
    "    Silicon = data.load_features()\n",
    "    kMM = data.load_kMM()\n",
    "    structure_eigvals_t, structure_coefficients_t, reconstructed_ldos_t = data.load_structure_gaussians()"
   ]
  },
  {
   "cell_type": "code",
   "execution_count": 6,
   "id": "8001a4d6",
   "metadata": {
    "ExecuteTime": {
     "end_time": "2023-02-16T09:45:40.351436Z",
     "start_time": "2023-02-16T09:45:40.341855Z"
    }
   },
   "outputs": [],
   "source": [
    "# importlib.reload(data)\n",
    "# eigen_energies, emin, emax = data.load_eigenenergies(unpack = True, n_structures = n_structures)\n",
    "# gb = 0.3 #eV\n",
    "# dE = 0.05 #eV\n",
    "\n",
    "# # build the DOS of the dataset, \n",
    "# # normalized by number of atoms and number of eigenvalues\n",
    "# xdos2, ldos2 = utils.build_dos(gb, eigen_energies, dE, emin, emax, n_atoms) #sigma, eigenvalues, dx, emin, emax\n",
    "\n",
    "# xdos2_tensor = torch.tensor(xdos2)\n",
    "# ldos2 *= 2\n",
    "# ldos2 = torch.tensor(ldos2)"
   ]
  },
  {
   "cell_type": "markdown",
   "id": "9e0652c3",
   "metadata": {},
   "source": [
    "## Features PCA"
   ]
  },
  {
   "cell_type": "code",
   "execution_count": 3,
   "id": "35332a42",
   "metadata": {
    "ExecuteTime": {
     "end_time": "2023-02-22T10:20:50.055135Z",
     "start_time": "2023-02-22T10:20:49.607892Z"
    }
   },
   "outputs": [
    {
     "name": "stdout",
     "output_type": "stream",
     "text": [
      "SOAP PCA explained variance with 1 PCA is: [0.85417772]\n",
      "Kernel PCA explained variance with 1 PCA is: [0.76640756]\n"
     ]
    }
   ],
   "source": [
    "from sklearn.decomposition import PCA\n",
    "\n",
    "soap = Silicon.Features['structure_avedescriptors'] \n",
    "soap_pca = PCA(n_components = 1, svd_solver = \"full\")\n",
    "soap_pca.fit(soap)\n",
    "\n",
    "print (\"SOAP PCA explained variance with 1 PCA is: {}\".format(soap_pca.explained_variance_ratio_))\n",
    "\n",
    "PCA_soap = soap_pca.transform(soap)\n",
    "\n",
    "kernel = Silicon.Features['structure_avekerneldescriptors']\n",
    "kernel_pca = PCA(n_components = 1, svd_solver = \"full\")\n",
    "kernel_pca.fit(kernel)\n",
    "\n",
    "print (\"Kernel PCA explained variance with 1 PCA is: {}\".format(kernel_pca.explained_variance_ratio_))\n",
    "\n",
    "PCA_kernel = kernel_pca.transform(kernel)"
   ]
  },
  {
   "cell_type": "markdown",
   "id": "8a9fbd94",
   "metadata": {},
   "source": [
    "## Translation invariant Loss function"
   ]
  },
  {
   "cell_type": "code",
   "execution_count": 378,
   "id": "645836db",
   "metadata": {
    "ExecuteTime": {
     "end_time": "2023-02-21T19:48:45.907767Z",
     "start_time": "2023-02-21T19:48:42.197225Z"
    }
   },
   "outputs": [
    {
     "name": "stdout",
     "output_type": "stream",
     "text": [
      "tensor(0.5939)\n"
     ]
    }
   ],
   "source": [
    "# importlib.reload(loss)\n",
    "# with torch.no_grad():\n",
    "#     shift_range = torch.tensor([0.05 * a for a in torch.arange(-5,5)])\n",
    "#     #shift_range = torch.tensor([0])\n",
    "#     a = loss.t_get_BF_shift_rmse(reconstructed_ldos_t, ldos, shift_range, xdos, perc = True)\n",
    "#     print (a)"
   ]
  },
  {
   "cell_type": "markdown",
   "id": "3a7c7af2",
   "metadata": {},
   "source": [
    "## Variance Minimization"
   ]
  },
  {
   "cell_type": "code",
   "execution_count": 12,
   "id": "cab5bf0b",
   "metadata": {
    "ExecuteTime": {
     "end_time": "2023-02-22T10:30:06.287374Z",
     "start_time": "2023-02-22T10:29:55.653025Z"
    }
   },
   "outputs": [
    {
     "name": "stdout",
     "output_type": "stream",
     "text": [
      "This file contains the eigenenergies and their corresponding kpoints of the training Silicon structures generated using DFT PBE as implemented in FHI-AIMS version 171221_1 with the ``tight'' settings\n"
     ]
    }
   ],
   "source": [
    "sigma = 0.3\n",
    "dx = 0.05\n",
    "eigen_energies, emin, emax = data.load_eigenenergies(unpack = True, n_structures = n_structures)\n",
    "full_eigen_energies = [torch.tensor(i.flatten()) for i in eigen_energies]\n",
    "eigenenergy_length = [len(i) for i in full_eigen_energies]\n",
    "eigenenergy_length_t = torch.tensor(eigenenergy_length)\n",
    "n_atoms_t = torch.tensor(n_atoms)\n",
    "normalization_eiglength = [len(i) for i in eigen_energies]\n",
    "normalization_eiglength_t = torch.tensor(normalization_eiglength)\n",
    "normalization = 1/torch.sqrt(2*torch.tensor(np.pi)*sigma**2)/n_atoms_t/normalization_eiglength_t"
   ]
  },
  {
   "cell_type": "code",
   "execution_count": 13,
   "id": "f521a9cc",
   "metadata": {
    "ExecuteTime": {
     "end_time": "2023-02-22T10:30:09.427832Z",
     "start_time": "2023-02-22T10:30:09.423247Z"
    }
   },
   "outputs": [],
   "source": [
    "kernel_features = torch.tensor(PCA_kernel[train_index])\n",
    "alignment = torch.nn.parameter.Parameter(torch.zeros(len(train_index)))"
   ]
  },
  {
   "cell_type": "code",
   "execution_count": 16,
   "id": "acff601d",
   "metadata": {
    "ExecuteTime": {
     "end_time": "2023-02-22T10:30:34.388549Z",
     "start_time": "2023-02-22T10:30:34.377717Z"
    }
   },
   "outputs": [],
   "source": [
    "from sklearn.linear_model import Ridge\n",
    "from dostools.loss import loss\n",
    "from dostools.consistency import consistency\n",
    "\n",
    "def evaluate_performance(shifted_ldos):\n",
    "    Features = copy.deepcopy(PCA_kernel)\n",
    "    y_shifted = shifted_ldos.clone().detach()\n",
    "    #y_shifted = consistency.shifted_ldos()\n",
    "\n",
    "    model = Ridge(alpha = 0, fit_intercept = True, solver = 'svd')\n",
    "\n",
    "    x = Features[train_index]\n",
    "    y = y_shifted\n",
    "\n",
    "    model.fit(x,y)\n",
    "\n",
    "    predictions = model.predict(x)\n",
    "    train_rmse = loss.t_get_rmse(torch.tensor(predictions), y)\n",
    "\n",
    "    # small_test_index = torch.arange(1039)\n",
    "    # small_test_index[small_index] = False\n",
    "    # small_test_index = small_test_index.nonzero().flatten()\n",
    "\n",
    "\n",
    "#     baseline_test_predictions = baselinemodel.predict(Features[test_index])\n",
    "#     test_rmse = loss.t_get_rmse(torch.tensor(baseline_test_predictions), y_shifted[test_index])\n",
    "\n",
    "    print(train_rmse)\n",
    "#     print(test_rmse)\n",
    "    return train_rmse#, test_rmse"
   ]
  },
  {
   "cell_type": "code",
   "execution_count": 122,
   "id": "5431e02e",
   "metadata": {
    "ExecuteTime": {
     "end_time": "2023-02-22T15:29:24.314470Z",
     "start_time": "2023-02-22T14:20:01.127250Z"
    },
    "scrolled": true
   },
   "outputs": [
    {
     "name": "stdout",
     "output_type": "stream",
     "text": [
      "tensor(0.0613)\n",
      "The pc_loss at epoch 0 is : 6.90689086440562\n",
      "tensor(0.0690)\n",
      "The pc_loss at epoch 1 is : 8.517513627408615\n",
      "tensor(0.0635)\n",
      "The pc_loss at epoch 2 is : 6.8626614412820945\n",
      "tensor(0.0646)\n",
      "The pc_loss at epoch 3 is : 7.026863825111283\n",
      "tensor(0.0669)\n",
      "The pc_loss at epoch 4 is : 7.4756205534345135\n",
      "tensor(0.0668)\n",
      "The pc_loss at epoch 5 is : 7.302425715480197\n",
      "tensor(0.0650)\n",
      "The pc_loss at epoch 6 is : 6.793887023017172\n",
      "tensor(0.0637)\n",
      "The pc_loss at epoch 7 is : 6.690890218371505\n",
      "tensor(0.0639)\n",
      "The pc_loss at epoch 8 is : 6.976492598676464\n",
      "tensor(0.0637)\n",
      "The pc_loss at epoch 9 is : 6.897467364886445\n",
      "tensor(0.0629)\n",
      "The pc_loss at epoch 10 is : 6.677600171284303\n",
      "tensor(0.0622)\n",
      "The pc_loss at epoch 11 is : 6.681533712532628\n",
      "tensor(0.0624)\n",
      "The pc_loss at epoch 12 is : 6.78925929396596\n",
      "tensor(0.0628)\n",
      "The pc_loss at epoch 13 is : 6.7806450285885695\n",
      "tensor(0.0631)\n",
      "The pc_loss at epoch 14 is : 6.657142601709709\n",
      "tensor(0.0635)\n",
      "The pc_loss at epoch 15 is : 6.575554769279014\n",
      "tensor(0.0640)\n",
      "The pc_loss at epoch 16 is : 6.639497503321239\n",
      "tensor(0.0641)\n",
      "The pc_loss at epoch 17 is : 6.692090489522812\n",
      "tensor(0.0637)\n",
      "The pc_loss at epoch 18 is : 6.616948931376871\n",
      "tensor(0.0631)\n",
      "The pc_loss at epoch 19 is : 6.544497950710452\n",
      "tensor(0.0628)\n",
      "The pc_loss at epoch 20 is : 6.578706943383878\n",
      "tensor(0.0626)\n",
      "The pc_loss at epoch 21 is : 6.618834714511445\n",
      "tensor(0.0624)\n",
      "The pc_loss at epoch 22 is : 6.5898870281849\n",
      "tensor(0.0624)\n",
      "The pc_loss at epoch 23 is : 6.539924548279609\n",
      "tensor(0.0627)\n",
      "The pc_loss at epoch 24 is : 6.538926212998469\n",
      "tensor(0.0630)\n",
      "The pc_loss at epoch 25 is : 6.565599328329516\n",
      "tensor(0.0630)\n",
      "The pc_loss at epoch 26 is : 6.55699064113541\n",
      "tensor(0.0628)\n",
      "The pc_loss at epoch 27 is : 6.527344553657084\n",
      "tensor(0.0628)\n",
      "The pc_loss at epoch 28 is : 6.528572151567586\n",
      "tensor(0.0627)\n",
      "The pc_loss at epoch 29 is : 6.54395557970277\n",
      "tensor(0.0625)\n",
      "The pc_loss at epoch 30 is : 6.533111310291732\n",
      "tensor(0.0624)\n",
      "The pc_loss at epoch 31 is : 6.5115945175284216\n",
      "tensor(0.0626)\n",
      "The pc_loss at epoch 32 is : 6.514208383488374\n",
      "tensor(0.0628)\n",
      "The pc_loss at epoch 33 is : 6.528550654317481\n",
      "tensor(0.0628)\n",
      "The pc_loss at epoch 34 is : 6.522906063206603\n",
      "tensor(0.0626)\n",
      "The pc_loss at epoch 35 is : 6.506742446714245\n",
      "tensor(0.0625)\n",
      "The pc_loss at epoch 36 is : 6.506955331259211\n",
      "tensor(0.0625)\n",
      "The pc_loss at epoch 37 is : 6.513754548048939\n",
      "tensor(0.0625)\n",
      "The pc_loss at epoch 38 is : 6.509368267149174\n",
      "tensor(0.0625)\n",
      "The pc_loss at epoch 39 is : 6.502964337984414\n",
      "tensor(0.0625)\n",
      "The pc_loss at epoch 40 is : 6.504812572925291\n",
      "tensor(0.0625)\n",
      "The pc_loss at epoch 41 is : 6.506268600721384\n",
      "tensor(0.0624)\n",
      "The pc_loss at epoch 42 is : 6.50227573998663\n",
      "tensor(0.0623)\n",
      "The pc_loss at epoch 43 is : 6.500406976099254\n",
      "tensor(0.0623)\n",
      "The pc_loss at epoch 44 is : 6.501829016360148\n",
      "tensor(0.0623)\n",
      "The pc_loss at epoch 45 is : 6.499821444563665\n",
      "tensor(0.0624)\n",
      "The pc_loss at epoch 46 is : 6.497078260566219\n",
      "tensor(0.0625)\n",
      "The pc_loss at epoch 47 is : 6.498782345750286\n",
      "tensor(0.0626)\n",
      "The pc_loss at epoch 48 is : 6.49975871269753\n",
      "tensor(0.0625)\n",
      "The pc_loss at epoch 49 is : 6.496454876478757\n",
      "tensor(0.0624)\n",
      "The pc_loss at epoch 50 is : 6.495133895361444\n",
      "tensor(0.0623)\n",
      "The pc_loss at epoch 51 is : 6.4971677671318755\n",
      "tensor(0.0623)\n",
      "The pc_loss at epoch 52 is : 6.4965505684003535\n",
      "tensor(0.0623)\n",
      "The pc_loss at epoch 53 is : 6.494190917089598\n",
      "tensor(0.0623)\n",
      "The pc_loss at epoch 54 is : 6.494831369435287\n",
      "tensor(0.0624)\n",
      "The pc_loss at epoch 55 is : 6.4958311481818845\n",
      "tensor(0.0624)\n",
      "The pc_loss at epoch 56 is : 6.494248322293714\n",
      "tensor(0.0623)\n",
      "The pc_loss at epoch 57 is : 6.493436573779806\n",
      "tensor(0.0623)\n",
      "The pc_loss at epoch 58 is : 6.494407330424089\n",
      "tensor(0.0623)\n",
      "The pc_loss at epoch 59 is : 6.494029375140678\n",
      "tensor(0.0624)\n",
      "The pc_loss at epoch 60 is : 6.492989657573433\n",
      "tensor(0.0624)\n",
      "The pc_loss at epoch 61 is : 6.4934557766554\n",
      "tensor(0.0624)\n",
      "The pc_loss at epoch 62 is : 6.493746528268077\n",
      "tensor(0.0624)\n",
      "The pc_loss at epoch 63 is : 6.492871631315822\n",
      "tensor(0.0623)\n",
      "The pc_loss at epoch 64 is : 6.492676401936739\n",
      "tensor(0.0623)\n",
      "The pc_loss at epoch 65 is : 6.493086291507437\n",
      "tensor(0.0623)\n",
      "The pc_loss at epoch 66 is : 6.492810133815654\n",
      "tensor(0.0623)\n",
      "The pc_loss at epoch 67 is : 6.492497943193409\n",
      "tensor(0.0623)\n",
      "The pc_loss at epoch 68 is : 6.492654638838812\n",
      "tensor(0.0623)\n",
      "The pc_loss at epoch 69 is : 6.492543844196048\n",
      "tensor(0.0623)\n",
      "The pc_loss at epoch 70 is : 6.49234117189787\n",
      "tensor(0.0623)\n",
      "The pc_loss at epoch 71 is : 6.492401921627486\n",
      "tensor(0.0623)\n",
      "The pc_loss at epoch 72 is : 6.492324803876622\n",
      "tensor(0.0623)\n",
      "The pc_loss at epoch 73 is : 6.492199824209443\n",
      "tensor(0.0624)\n",
      "The pc_loss at epoch 74 is : 6.492264547145499\n",
      "tensor(0.0623)\n",
      "The pc_loss at epoch 75 is : 6.492191881849772\n",
      "tensor(0.0623)\n",
      "The pc_loss at epoch 76 is : 6.492068659491077\n",
      "tensor(0.0623)\n",
      "The pc_loss at epoch 77 is : 6.492142160970111\n",
      "tensor(0.0623)\n",
      "The pc_loss at epoch 78 is : 6.492105687306714\n",
      "tensor(0.0623)\n",
      "The pc_loss at epoch 79 is : 6.492009246893602\n",
      "tensor(0.0623)\n",
      "The pc_loss at epoch 80 is : 6.492156986805835\n",
      "tensor(0.0623)\n",
      "The pc_loss at epoch 81 is : 6.492316532130488\n",
      "tensor(0.0623)\n",
      "The pc_loss at epoch 82 is : 6.492358954786271\n",
      "tensor(0.0623)\n",
      "The pc_loss at epoch 83 is : 6.492328169883185\n",
      "tensor(0.0623)\n",
      "The pc_loss at epoch 84 is : 6.492174635802728\n",
      "tensor(0.0623)\n",
      "The pc_loss at epoch 85 is : 6.492158982541795\n",
      "tensor(0.0623)\n",
      "The pc_loss at epoch 86 is : 6.492306529078317\n",
      "tensor(0.0624)\n",
      "The pc_loss at epoch 87 is : 6.492436128651331\n",
      "tensor(0.0624)\n",
      "The pc_loss at epoch 88 is : 6.492600531608085\n",
      "tensor(0.0623)\n",
      "The pc_loss at epoch 89 is : 6.492561377501069\n",
      "tensor(0.0623)\n",
      "The pc_loss at epoch 90 is : 6.492173951325705\n",
      "tensor(0.0623)\n",
      "The pc_loss at epoch 91 is : 6.49220557114065\n",
      "tensor(0.0623)\n",
      "The pc_loss at epoch 92 is : 6.4924283846912445\n",
      "tensor(0.0623)\n",
      "The pc_loss at epoch 93 is : 6.492151949439505\n",
      "tensor(0.0623)\n",
      "The pc_loss at epoch 94 is : 6.492122865314647\n",
      "tensor(0.0623)\n",
      "The pc_loss at epoch 95 is : 6.492336416122489\n",
      "tensor(0.0623)\n",
      "The pc_loss at epoch 96 is : 6.492165696123679\n",
      "tensor(0.0623)\n",
      "The pc_loss at epoch 97 is : 6.49215469049591\n",
      "tensor(0.0623)\n",
      "The pc_loss at epoch 98 is : 6.492348582055289\n",
      "tensor(0.0623)\n",
      "The pc_loss at epoch 99 is : 6.492355477252241\n",
      "tensor(0.0623)\n",
      "The pc_loss at epoch 100 is : 6.49259198140986\n",
      "tensor(0.0624)\n",
      "The pc_loss at epoch 101 is : 6.493275352352102\n",
      "tensor(0.0624)\n",
      "The pc_loss at epoch 102 is : 6.494387328247111\n",
      "tensor(0.0624)\n",
      "The pc_loss at epoch 103 is : 6.495334826281907\n",
      "tensor(0.0624)\n",
      "The pc_loss at epoch 104 is : 6.49507060803024\n",
      "tensor(0.0624)\n",
      "The pc_loss at epoch 105 is : 6.494014951708543\n",
      "tensor(0.0624)\n",
      "The pc_loss at epoch 106 is : 6.49399475286213\n",
      "tensor(0.0624)\n",
      "The pc_loss at epoch 107 is : 6.494516244741922\n",
      "tensor(0.0624)\n",
      "The pc_loss at epoch 108 is : 6.494236972594191\n",
      "tensor(0.0624)\n",
      "The pc_loss at epoch 109 is : 6.493612153480091\n",
      "tensor(0.0624)\n",
      "The pc_loss at epoch 110 is : 6.493839430780903\n",
      "tensor(0.0624)\n",
      "The pc_loss at epoch 111 is : 6.493947222085607\n",
      "tensor(0.0623)\n",
      "The pc_loss at epoch 112 is : 6.492018507167455\n",
      "tensor(0.0624)\n",
      "The pc_loss at epoch 113 is : 6.493294163617993\n",
      "tensor(0.0623)\n",
      "The pc_loss at epoch 114 is : 6.492345772580374\n",
      "tensor(0.0623)\n",
      "The pc_loss at epoch 115 is : 6.492580135923564\n",
      "tensor(0.0623)\n",
      "The pc_loss at epoch 116 is : 6.492664755259982\n",
      "tensor(0.0623)\n",
      "The pc_loss at epoch 117 is : 6.4920614283026\n",
      "tensor(0.0624)\n",
      "The pc_loss at epoch 118 is : 6.4927372937515315\n",
      "tensor(0.0623)\n",
      "The pc_loss at epoch 119 is : 6.491895460742747\n",
      "tensor(0.0623)\n",
      "The pc_loss at epoch 120 is : 6.4925504753361585\n",
      "tensor(0.0623)\n",
      "The pc_loss at epoch 121 is : 6.491979583146669\n",
      "tensor(0.0623)\n",
      "The pc_loss at epoch 122 is : 6.4922477529111\n",
      "tensor(0.0623)\n",
      "The pc_loss at epoch 123 is : 6.492119754934867\n",
      "tensor(0.0623)\n",
      "The pc_loss at epoch 124 is : 6.491994121087961\n",
      "tensor(0.0623)\n",
      "The pc_loss at epoch 125 is : 6.4921863117719925\n",
      "tensor(0.0623)\n",
      "The pc_loss at epoch 126 is : 6.491871917147911\n",
      "tensor(0.0623)\n",
      "The pc_loss at epoch 127 is : 6.4921387027081625\n",
      "tensor(0.0623)\n",
      "The pc_loss at epoch 128 is : 6.491870836531723\n",
      "tensor(0.0623)\n",
      "The pc_loss at epoch 129 is : 6.4920249889470645\n",
      "tensor(0.0623)\n",
      "The pc_loss at epoch 130 is : 6.491918831045513\n",
      "tensor(0.0623)\n",
      "The pc_loss at epoch 131 is : 6.491910498062323\n"
     ]
    },
    {
     "name": "stdout",
     "output_type": "stream",
     "text": [
      "tensor(0.0623)\n",
      "The pc_loss at epoch 132 is : 6.491952424181402\n",
      "tensor(0.0623)\n",
      "The pc_loss at epoch 133 is : 6.491840468338381\n",
      "tensor(0.0623)\n",
      "The pc_loss at epoch 134 is : 6.4919474603812795\n",
      "tensor(0.0623)\n",
      "The pc_loss at epoch 135 is : 6.491819207101143\n",
      "tensor(0.0623)\n",
      "The pc_loss at epoch 136 is : 6.49191088527661\n",
      "tensor(0.0623)\n",
      "The pc_loss at epoch 137 is : 6.491827100622485\n",
      "tensor(0.0623)\n",
      "The pc_loss at epoch 138 is : 6.49186465058171\n",
      "tensor(0.0623)\n",
      "The pc_loss at epoch 139 is : 6.491841156192804\n",
      "tensor(0.0623)\n",
      "The pc_loss at epoch 140 is : 6.4918270977364685\n",
      "tensor(0.0623)\n",
      "The pc_loss at epoch 141 is : 6.491846570969907\n",
      "tensor(0.0623)\n",
      "The pc_loss at epoch 142 is : 6.4918058519700566\n",
      "tensor(0.0623)\n",
      "The pc_loss at epoch 143 is : 6.491806546101536\n",
      "tensor(0.0623)\n",
      "The pc_loss at epoch 144 is : 6.491795411396634\n",
      "tensor(0.0623)\n",
      "The pc_loss at epoch 145 is : 6.491795811022975\n",
      "tensor(0.0623)\n",
      "The pc_loss at epoch 146 is : 6.491797502608586\n",
      "tensor(0.0623)\n",
      "The pc_loss at epoch 147 is : 6.491793081465908\n",
      "tensor(0.0623)\n",
      "The pc_loss at epoch 148 is : 6.491790400877514\n",
      "tensor(0.0623)\n",
      "The pc_loss at epoch 149 is : 6.491790577990383\n",
      "tensor(0.0623)\n",
      "The pc_loss at epoch 150 is : 6.491790201804328\n",
      "tensor(0.0623)\n",
      "The pc_loss at epoch 151 is : 6.491787290718982\n",
      "tensor(0.0623)\n",
      "The pc_loss at epoch 152 is : 6.491785843402368\n",
      "tensor(0.0623)\n",
      "The pc_loss at epoch 153 is : 6.4917871945414465\n",
      "tensor(0.0623)\n",
      "The pc_loss at epoch 154 is : 6.491785212548821\n",
      "tensor(0.0623)\n",
      "The pc_loss at epoch 155 is : 6.491782914505475\n",
      "tensor(0.0623)\n",
      "The pc_loss at epoch 156 is : 6.491784554721926\n",
      "tensor(0.0623)\n",
      "The pc_loss at epoch 157 is : 6.4917835775239965\n",
      "tensor(0.0623)\n",
      "The pc_loss at epoch 158 is : 6.491781145844703\n",
      "tensor(0.0623)\n",
      "The pc_loss at epoch 159 is : 6.491782449083\n",
      "tensor(0.0623)\n",
      "The pc_loss at epoch 160 is : 6.491782168756746\n",
      "tensor(0.0623)\n",
      "The pc_loss at epoch 161 is : 6.491780089040463\n",
      "tensor(0.0623)\n",
      "The pc_loss at epoch 162 is : 6.491780924058605\n",
      "tensor(0.0623)\n",
      "The pc_loss at epoch 163 is : 6.491780971374196\n",
      "tensor(0.0623)\n",
      "The pc_loss at epoch 164 is : 6.491779404971538\n",
      "tensor(0.0623)\n",
      "The pc_loss at epoch 165 is : 6.4917798496189185\n",
      "tensor(0.0623)\n",
      "The pc_loss at epoch 166 is : 6.491779980814752\n",
      "tensor(0.0623)\n",
      "The pc_loss at epoch 167 is : 6.491778944474085\n",
      "tensor(0.0623)\n",
      "The pc_loss at epoch 168 is : 6.491779125569318\n",
      "tensor(0.0623)\n",
      "The pc_loss at epoch 169 is : 6.491779199969141\n",
      "tensor(0.0623)\n",
      "The pc_loss at epoch 170 is : 6.49177858944061\n",
      "tensor(0.0623)\n",
      "The pc_loss at epoch 171 is : 6.491778619488262\n",
      "tensor(0.0623)\n",
      "The pc_loss at epoch 172 is : 6.491778621612568\n",
      "tensor(0.0623)\n",
      "The pc_loss at epoch 173 is : 6.491778324779867\n",
      "tensor(0.0623)\n",
      "The pc_loss at epoch 174 is : 6.4917780251357255\n",
      "tensor(0.0623)\n",
      "The pc_loss at epoch 175 is : 6.491777693147165\n",
      "tensor(0.0623)\n",
      "The pc_loss at epoch 176 is : 6.491777750293939\n",
      "tensor(0.0623)\n",
      "The pc_loss at epoch 177 is : 6.491777954455493\n",
      "tensor(0.0623)\n",
      "The pc_loss at epoch 178 is : 6.491777871359844\n",
      "tensor(0.0623)\n",
      "The pc_loss at epoch 179 is : 6.491777597469667\n",
      "tensor(0.0623)\n",
      "The pc_loss at epoch 180 is : 6.491777529011429\n",
      "tensor(0.0623)\n",
      "The pc_loss at epoch 181 is : 6.491777678762177\n",
      "tensor(0.0623)\n",
      "The pc_loss at epoch 182 is : 6.491777714049669\n",
      "tensor(0.0623)\n",
      "The pc_loss at epoch 183 is : 6.491777546862295\n",
      "tensor(0.0623)\n",
      "The pc_loss at epoch 184 is : 6.4917774325760496\n",
      "tensor(0.0623)\n",
      "The pc_loss at epoch 185 is : 6.491777499533195\n",
      "tensor(0.0623)\n",
      "The pc_loss at epoch 186 is : 6.491777567714495\n",
      "tensor(0.0623)\n",
      "The pc_loss at epoch 187 is : 6.491777495168074\n",
      "tensor(0.0623)\n",
      "The pc_loss at epoch 188 is : 6.49177739565935\n",
      "tensor(0.0623)\n",
      "The pc_loss at epoch 189 is : 6.491777404451064\n",
      "tensor(0.0623)\n",
      "The pc_loss at epoch 190 is : 6.4917774589766\n",
      "tensor(0.0623)\n",
      "The pc_loss at epoch 191 is : 6.491777441048756\n",
      "tensor(0.0623)\n",
      "The pc_loss at epoch 192 is : 6.491777375504024\n",
      "tensor(0.0623)\n",
      "The pc_loss at epoch 193 is : 6.491777357655897\n",
      "tensor(0.0623)\n",
      "The pc_loss at epoch 194 is : 6.49177738719804\n",
      "tensor(0.0623)\n",
      "The pc_loss at epoch 195 is : 6.491777392137855\n",
      "tensor(0.0623)\n",
      "The pc_loss at epoch 196 is : 6.491777358349804\n",
      "tensor(0.0623)\n",
      "The pc_loss at epoch 197 is : 6.491777336136832\n",
      "tensor(0.0623)\n",
      "The pc_loss at epoch 198 is : 6.491777345751346\n",
      "tensor(0.0623)\n",
      "The pc_loss at epoch 199 is : 6.491777354572773\n",
      "tensor(0.0623)\n",
      "The pc_loss at epoch 200 is : 6.491777341191904\n",
      "tensor(0.0623)\n",
      "The pc_loss at epoch 201 is : 6.4917773243518475\n",
      "tensor(0.0623)\n",
      "The pc_loss at epoch 202 is : 6.491777323245362\n",
      "tensor(0.0623)\n",
      "The pc_loss at epoch 203 is : 6.491777328948194\n",
      "tensor(0.0623)\n",
      "The pc_loss at epoch 204 is : 6.491777325850869\n",
      "tensor(0.0623)\n",
      "The pc_loss at epoch 205 is : 6.491777317162844\n",
      "tensor(0.0623)\n",
      "The pc_loss at epoch 206 is : 6.491777305325002\n",
      "tensor(0.0623)\n",
      "The pc_loss at epoch 207 is : 6.491777299411694\n",
      "tensor(0.0623)\n",
      "The pc_loss at epoch 208 is : 6.491777301769556\n",
      "tensor(0.0623)\n",
      "The pc_loss at epoch 209 is : 6.491777307230184\n",
      "tensor(0.0623)\n",
      "The pc_loss at epoch 210 is : 6.49177730907552\n",
      "tensor(0.0623)\n",
      "The pc_loss at epoch 211 is : 6.491777305218587\n",
      "tensor(0.0623)\n",
      "The pc_loss at epoch 212 is : 6.491777299102182\n",
      "tensor(0.0623)\n",
      "The pc_loss at epoch 213 is : 6.491777295554015\n",
      "tensor(0.0623)\n",
      "The pc_loss at epoch 214 is : 6.491777296259384\n",
      "tensor(0.0623)\n",
      "The pc_loss at epoch 215 is : 6.49177729892311\n",
      "tensor(0.0623)\n",
      "The pc_loss at epoch 216 is : 6.49177730010264\n",
      "tensor(0.0623)\n",
      "The pc_loss at epoch 217 is : 6.491777298453191\n",
      "tensor(0.0623)\n",
      "The pc_loss at epoch 218 is : 6.491777295445428\n",
      "tensor(0.0623)\n",
      "The pc_loss at epoch 219 is : 6.4917772934682905\n",
      "tensor(0.0623)\n",
      "The pc_loss at epoch 220 is : 6.491777293545274\n",
      "tensor(0.0623)\n",
      "The pc_loss at epoch 221 is : 6.491777294741401\n",
      "tensor(0.0623)\n",
      "The pc_loss at epoch 222 is : 6.491777295400303\n",
      "tensor(0.0623)\n",
      "The pc_loss at epoch 223 is : 6.491777294729381\n",
      "tensor(0.0623)\n",
      "The pc_loss at epoch 224 is : 6.491777293287157\n",
      "tensor(0.0623)\n",
      "The pc_loss at epoch 225 is : 6.491777292202868\n",
      "tensor(0.0623)\n",
      "The pc_loss at epoch 226 is : 6.491777292082422\n",
      "tensor(0.0623)\n",
      "The pc_loss at epoch 227 is : 6.491777292602585\n",
      "tensor(0.0623)\n",
      "The pc_loss at epoch 228 is : 6.491777292983464\n",
      "tensor(0.0623)\n",
      "The pc_loss at epoch 229 is : 6.491777292746301\n",
      "tensor(0.0623)\n",
      "The pc_loss at epoch 230 is : 6.491777292056293\n",
      "tensor(0.0623)\n",
      "The pc_loss at epoch 231 is : 6.4917772914498135\n",
      "tensor(0.0623)\n",
      "The pc_loss at epoch 232 is : 6.49177729130184\n",
      "tensor(0.0623)\n",
      "The pc_loss at epoch 233 is : 6.491777291533808\n",
      "tensor(0.0623)\n",
      "The pc_loss at epoch 234 is : 6.491777291763275\n",
      "tensor(0.0623)\n",
      "The pc_loss at epoch 235 is : 6.4917772916880985\n",
      "tensor(0.0623)\n",
      "The pc_loss at epoch 236 is : 6.491777291458234\n",
      "tensor(0.0623)\n",
      "The pc_loss at epoch 237 is : 6.491777291104073\n",
      "tensor(0.0623)\n",
      "The pc_loss at epoch 238 is : 6.491777290786178\n",
      "tensor(0.0623)\n",
      "The pc_loss at epoch 239 is : 6.491777290623336\n",
      "tensor(0.0623)\n",
      "The pc_loss at epoch 240 is : 6.491777290641025\n",
      "tensor(0.0623)\n",
      "The pc_loss at epoch 241 is : 6.491777290774357\n",
      "tensor(0.0623)\n",
      "The pc_loss at epoch 242 is : 6.491777290915179\n",
      "tensor(0.0623)\n",
      "The pc_loss at epoch 243 is : 6.491777290972676\n",
      "tensor(0.0623)\n",
      "The pc_loss at epoch 244 is : 6.491777290915175\n",
      "tensor(0.0623)\n",
      "The pc_loss at epoch 245 is : 6.491777290775426\n",
      "tensor(0.0623)\n",
      "The pc_loss at epoch 246 is : 6.491777290622888\n",
      "tensor(0.0623)\n",
      "The pc_loss at epoch 247 is : 6.4917772905224975\n",
      "tensor(0.0623)\n",
      "The pc_loss at epoch 248 is : 6.491777290502858\n",
      "tensor(0.0623)\n",
      "The pc_loss at epoch 249 is : 6.491777290548233\n",
      "tensor(0.0623)\n",
      "The pc_loss at epoch 250 is : 6.491777290614218\n",
      "tensor(0.0623)\n",
      "The pc_loss at epoch 251 is : 6.491777290655089\n",
      "tensor(0.0623)\n",
      "The pc_loss at epoch 252 is : 6.491777290646974\n",
      "tensor(0.0623)\n",
      "The pc_loss at epoch 253 is : 6.491777290595846\n",
      "tensor(0.0623)\n",
      "The pc_loss at epoch 254 is : 6.491777290529015\n",
      "tensor(0.0623)\n",
      "The pc_loss at epoch 255 is : 6.491777290477348\n",
      "tensor(0.0623)\n",
      "The pc_loss at epoch 256 is : 6.491777290458907\n",
      "tensor(0.0623)\n",
      "The pc_loss at epoch 257 is : 6.491777290472067\n",
      "tensor(0.0623)\n",
      "The pc_loss at epoch 258 is : 6.491777290499905\n",
      "tensor(0.0623)\n",
      "The pc_loss at epoch 259 is : 6.491777290521603\n",
      "tensor(0.0623)\n",
      "The pc_loss at epoch 260 is : 6.4917772905237445\n",
      "tensor(0.0623)\n",
      "The pc_loss at epoch 261 is : 6.491777290505751\n",
      "tensor(0.0623)\n"
     ]
    },
    {
     "name": "stdout",
     "output_type": "stream",
     "text": [
      "The pc_loss at epoch 262 is : 6.491777290477767\n",
      "tensor(0.0623)\n",
      "The pc_loss at epoch 263 is : 6.491777290453432\n",
      "tensor(0.0623)\n",
      "The pc_loss at epoch 264 is : 6.4917772904421955\n",
      "tensor(0.0623)\n",
      "The pc_loss at epoch 265 is : 6.491777290445232\n",
      "tensor(0.0623)\n",
      "The pc_loss at epoch 266 is : 6.4917772904563495\n",
      "tensor(0.0623)\n",
      "The pc_loss at epoch 267 is : 6.491777290460673\n",
      "tensor(0.0623)\n",
      "The pc_loss at epoch 268 is : 6.491777290461091\n",
      "tensor(0.0623)\n",
      "The pc_loss at epoch 269 is : 6.49177729045771\n",
      "tensor(0.0623)\n",
      "The pc_loss at epoch 270 is : 6.491777290451689\n",
      "tensor(0.0623)\n",
      "The pc_loss at epoch 271 is : 6.491777290444716\n",
      "tensor(0.0623)\n",
      "The pc_loss at epoch 272 is : 6.4917772904384465\n",
      "tensor(0.0623)\n",
      "The pc_loss at epoch 273 is : 6.491777290434066\n",
      "tensor(0.0623)\n",
      "The pc_loss at epoch 274 is : 6.4917772904320525\n",
      "tensor(0.0623)\n",
      "The pc_loss at epoch 275 is : 6.491777290432184\n",
      "tensor(0.0623)\n",
      "The pc_loss at epoch 276 is : 6.4917772904337365\n",
      "tensor(0.0623)\n",
      "The pc_loss at epoch 277 is : 6.49177729043577\n",
      "tensor(0.0623)\n",
      "The pc_loss at epoch 278 is : 6.4917772904374225\n",
      "tensor(0.0623)\n",
      "The pc_loss at epoch 279 is : 6.491777290438132\n",
      "tensor(0.0623)\n",
      "The pc_loss at epoch 280 is : 6.491777290437719\n",
      "tensor(0.0623)\n",
      "The pc_loss at epoch 281 is : 6.491777290436358\n",
      "tensor(0.0623)\n",
      "The pc_loss at epoch 282 is : 6.491777290434468\n",
      "tensor(0.0623)\n",
      "The pc_loss at epoch 283 is : 6.4917772904325375\n",
      "tensor(0.0623)\n",
      "The pc_loss at epoch 284 is : 6.491777290430983\n",
      "tensor(0.0623)\n",
      "The pc_loss at epoch 285 is : 6.491777290430045\n",
      "tensor(0.0623)\n",
      "The pc_loss at epoch 286 is : 6.491777290429765\n",
      "tensor(0.0623)\n",
      "The pc_loss at epoch 287 is : 6.491777290429997\n",
      "tensor(0.0623)\n",
      "The pc_loss at epoch 288 is : 6.4917772904305036\n",
      "tensor(0.0623)\n",
      "The pc_loss at epoch 289 is : 6.4917772904310205\n",
      "tensor(0.0623)\n",
      "The pc_loss at epoch 290 is : 6.491777290431343\n",
      "tensor(0.0623)\n",
      "The pc_loss at epoch 291 is : 6.491777290431365\n",
      "tensor(0.0623)\n",
      "The pc_loss at epoch 292 is : 6.491777290431092\n",
      "tensor(0.0623)\n",
      "The pc_loss at epoch 293 is : 6.491777290430612\n",
      "tensor(0.0623)\n",
      "The pc_loss at epoch 294 is : 6.491777290430055\n",
      "tensor(0.0623)\n",
      "The pc_loss at epoch 295 is : 6.491777290429555\n",
      "tensor(0.0623)\n",
      "The pc_loss at epoch 296 is : 6.4917772904292015\n",
      "tensor(0.0623)\n",
      "The pc_loss at epoch 297 is : 6.491777290429034\n",
      "tensor(0.0623)\n",
      "The pc_loss at epoch 298 is : 6.491777290429006\n",
      "tensor(0.0623)\n",
      "The pc_loss at epoch 299 is : 6.491777290428995\n",
      "tensor(0.0623)\n",
      "The pc_loss at epoch 300 is : 6.491777290428994\n",
      "tensor(0.0623)\n",
      "The pc_loss at epoch 301 is : 6.4917772904289945\n",
      "tensor(0.0623)\n",
      "The pc_loss at epoch 302 is : 6.491777290428989\n",
      "tensor(0.0623)\n",
      "The pc_loss at epoch 303 is : 6.491777290428978\n",
      "tensor(0.0623)\n",
      "The pc_loss at epoch 304 is : 6.491777290428958\n",
      "tensor(0.0623)\n",
      "The pc_loss at epoch 305 is : 6.4917772904289315\n",
      "tensor(0.0623)\n",
      "The pc_loss at epoch 306 is : 6.491777290428899\n",
      "tensor(0.0623)\n",
      "The pc_loss at epoch 307 is : 6.491777290428866\n",
      "tensor(0.0623)\n",
      "The pc_loss at epoch 308 is : 6.491777290428828\n",
      "tensor(0.0623)\n",
      "The pc_loss at epoch 309 is : 6.491777290428795\n",
      "tensor(0.0623)\n",
      "The pc_loss at epoch 310 is : 6.4917772904287645\n",
      "tensor(0.0623)\n",
      "The pc_loss at epoch 311 is : 6.49177729042874\n",
      "tensor(0.0623)\n",
      "The pc_loss at epoch 312 is : 6.491777290428718\n",
      "tensor(0.0623)\n",
      "The pc_loss at epoch 313 is : 6.491777290428704\n",
      "tensor(0.0623)\n",
      "The pc_loss at epoch 314 is : 6.491777290428694\n",
      "tensor(0.0623)\n",
      "The pc_loss at epoch 315 is : 6.491777290428689\n",
      "tensor(0.0623)\n",
      "The pc_loss at epoch 316 is : 6.491777290428685\n",
      "tensor(0.0623)\n",
      "The pc_loss at epoch 317 is : 6.491777290428683\n",
      "tensor(0.0623)\n",
      "The pc_loss at epoch 318 is : 6.491777290428683\n",
      "tensor(0.0623)\n",
      "The pc_loss at epoch 319 is : 6.49177729042868\n",
      "tensor(0.0623)\n",
      "The pc_loss at epoch 320 is : 6.491777290428678\n",
      "tensor(0.0623)\n",
      "The pc_loss at epoch 321 is : 6.491777290428676\n",
      "tensor(0.0623)\n",
      "The pc_loss at epoch 322 is : 6.491777290428671\n",
      "tensor(0.0623)\n",
      "The pc_loss at epoch 323 is : 6.491777290428667\n",
      "tensor(0.0623)\n",
      "The pc_loss at epoch 324 is : 6.49177729042866\n",
      "tensor(0.0623)\n",
      "The pc_loss at epoch 325 is : 6.491777290428654\n",
      "tensor(0.0623)\n",
      "The pc_loss at epoch 326 is : 6.491777290428648\n",
      "tensor(0.0623)\n",
      "The pc_loss at epoch 327 is : 6.491777290428644\n",
      "tensor(0.0623)\n",
      "The pc_loss at epoch 328 is : 6.4917772904286375\n",
      "tensor(0.0623)\n",
      "The pc_loss at epoch 329 is : 6.491777290428637\n",
      "tensor(0.0623)\n",
      "The pc_loss at epoch 330 is : 6.491777290428635\n",
      "tensor(0.0623)\n",
      "The pc_loss at epoch 331 is : 6.491777290428633\n",
      "tensor(0.0623)\n",
      "The pc_loss at epoch 332 is : 6.491777290428631\n",
      "tensor(0.0623)\n",
      "The pc_loss at epoch 333 is : 6.491777290428629\n",
      "tensor(0.0623)\n",
      "The pc_loss at epoch 334 is : 6.491777290428628\n",
      "tensor(0.0623)\n",
      "The pc_loss at epoch 335 is : 6.491777290428625\n",
      "tensor(0.0623)\n",
      "The pc_loss at epoch 336 is : 6.491777290428624\n",
      "tensor(0.0623)\n",
      "The pc_loss at epoch 337 is : 6.491777290428624\n",
      "tensor(0.0623)\n",
      "The pc_loss at epoch 338 is : 6.491777290428622\n",
      "tensor(0.0623)\n",
      "The pc_loss at epoch 339 is : 6.491777290428622\n",
      "tensor(0.0623)\n",
      "The pc_loss at epoch 340 is : 6.491777290428622\n",
      "tensor(0.0623)\n",
      "The pc_loss at epoch 341 is : 6.4917772904286215\n",
      "tensor(0.0623)\n",
      "The pc_loss at epoch 342 is : 6.4917772904286215\n",
      "tensor(0.0623)\n",
      "The pc_loss at epoch 343 is : 6.491777290428622\n",
      "tensor(0.0623)\n",
      "The pc_loss at epoch 344 is : 6.4917772904286215\n",
      "tensor(0.0623)\n",
      "The pc_loss at epoch 345 is : 6.491777290428622\n",
      "tensor(0.0623)\n",
      "The pc_loss at epoch 346 is : 6.491777290428622\n",
      "tensor(0.0623)\n",
      "The pc_loss at epoch 347 is : 6.4917772904286215\n",
      "tensor(0.0623)\n",
      "The pc_loss at epoch 348 is : 6.4917772904286215\n",
      "tensor(0.0623)\n",
      "The pc_loss at epoch 349 is : 6.4917772904286215\n",
      "tensor(0.0623)\n",
      "The pc_loss at epoch 350 is : 6.4917772904286215\n",
      "tensor(0.0623)\n",
      "The pc_loss at epoch 351 is : 6.491777290428621\n",
      "tensor(0.0623)\n",
      "The pc_loss at epoch 352 is : 6.491777290428621\n",
      "tensor(0.0623)\n",
      "The pc_loss at epoch 353 is : 6.491777290428621\n",
      "tensor(0.0623)\n",
      "The pc_loss at epoch 354 is : 6.491777290428621\n",
      "tensor(0.0623)\n",
      "The pc_loss at epoch 355 is : 6.491777290428619\n",
      "tensor(0.0623)\n",
      "The pc_loss at epoch 356 is : 6.491777290428619\n",
      "tensor(0.0623)\n",
      "The pc_loss at epoch 357 is : 6.49177729042862\n",
      "tensor(0.0623)\n",
      "The pc_loss at epoch 358 is : 6.491777290428619\n",
      "tensor(0.0623)\n",
      "The pc_loss at epoch 359 is : 6.491777290428619\n",
      "tensor(0.0623)\n",
      "The pc_loss at epoch 360 is : 6.491777290428621\n",
      "tensor(0.0623)\n",
      "The pc_loss at epoch 361 is : 6.491777290428619\n",
      "tensor(0.0623)\n",
      "The pc_loss at epoch 362 is : 6.491777290428619\n",
      "tensor(0.0623)\n",
      "The pc_loss at epoch 363 is : 6.491777290428619\n",
      "tensor(0.0623)\n",
      "The pc_loss at epoch 364 is : 6.49177729042862\n",
      "tensor(0.0623)\n",
      "The pc_loss at epoch 365 is : 6.491777290428619\n",
      "tensor(0.0623)\n",
      "The pc_loss at epoch 366 is : 6.491777290428619\n",
      "tensor(0.0623)\n",
      "The pc_loss at epoch 367 is : 6.491777290428619\n",
      "tensor(0.0623)\n",
      "The pc_loss at epoch 368 is : 6.491777290428619\n",
      "tensor(0.0623)\n",
      "The pc_loss at epoch 369 is : 6.491777290428619\n",
      "tensor(0.0623)\n",
      "The pc_loss at epoch 370 is : 6.491777290428619\n",
      "tensor(0.0623)\n",
      "The pc_loss at epoch 371 is : 6.491777290428619\n",
      "tensor(0.0623)\n",
      "The pc_loss at epoch 372 is : 6.491777290428619\n",
      "tensor(0.0623)\n",
      "The pc_loss at epoch 373 is : 6.491777290428619\n",
      "tensor(0.0623)\n",
      "The pc_loss at epoch 374 is : 6.491777290428619\n",
      "tensor(0.0623)\n",
      "The pc_loss at epoch 375 is : 6.491777290428619\n",
      "tensor(0.0623)\n",
      "The pc_loss at epoch 376 is : 6.491777290428619\n",
      "tensor(0.0623)\n",
      "The pc_loss at epoch 377 is : 6.491777290428619\n",
      "tensor(0.0623)\n",
      "The pc_loss at epoch 378 is : 6.491777290428621\n",
      "tensor(0.0623)\n",
      "The pc_loss at epoch 379 is : 6.491777290428619\n",
      "tensor(0.0623)\n",
      "The pc_loss at epoch 380 is : 6.491777290428619\n",
      "tensor(0.0623)\n",
      "The pc_loss at epoch 381 is : 6.491777290428619\n",
      "tensor(0.0623)\n",
      "The pc_loss at epoch 382 is : 6.491777290428619\n",
      "tensor(0.0623)\n",
      "The pc_loss at epoch 383 is : 6.491777290428618\n",
      "tensor(0.0623)\n",
      "The pc_loss at epoch 384 is : 6.491777290428619\n",
      "tensor(0.0623)\n",
      "The pc_loss at epoch 385 is : 6.491777290428619\n",
      "tensor(0.0623)\n",
      "The pc_loss at epoch 386 is : 6.491777290428619\n",
      "tensor(0.0623)\n",
      "The pc_loss at epoch 387 is : 6.491777290428619\n",
      "tensor(0.0623)\n",
      "The pc_loss at epoch 388 is : 6.491777290428619\n",
      "tensor(0.0623)\n",
      "The pc_loss at epoch 389 is : 6.491777290428619\n",
      "tensor(0.0623)\n",
      "The pc_loss at epoch 390 is : 6.491777290428619\n",
      "tensor(0.0623)\n",
      "The pc_loss at epoch 391 is : 6.491777290428619\n",
      "tensor(0.0623)\n"
     ]
    },
    {
     "name": "stdout",
     "output_type": "stream",
     "text": [
      "The pc_loss at epoch 392 is : 6.491777290428619\n",
      "tensor(0.0623)\n",
      "The pc_loss at epoch 393 is : 6.491777290428619\n",
      "tensor(0.0623)\n",
      "The pc_loss at epoch 394 is : 6.491777290428619\n",
      "tensor(0.0623)\n",
      "The pc_loss at epoch 395 is : 6.491777290428619\n",
      "tensor(0.0623)\n",
      "The pc_loss at epoch 396 is : 6.491777290428619\n",
      "tensor(0.0623)\n",
      "The pc_loss at epoch 397 is : 6.491777290428619\n",
      "tensor(0.0623)\n",
      "The pc_loss at epoch 398 is : 6.491777290428619\n",
      "tensor(0.0623)\n",
      "The pc_loss at epoch 399 is : 6.491777290428619\n",
      "tensor(0.0623)\n",
      "The pc_loss at epoch 400 is : 6.491777290428619\n",
      "tensor(0.0623)\n",
      "The pc_loss at epoch 401 is : 6.491777290428619\n",
      "tensor(0.0623)\n",
      "The pc_loss at epoch 402 is : 6.491777290428619\n",
      "tensor(0.0623)\n",
      "The pc_loss at epoch 403 is : 6.491777290428619\n",
      "tensor(0.0623)\n",
      "The pc_loss at epoch 404 is : 6.491777290428619\n",
      "tensor(0.0623)\n",
      "The pc_loss at epoch 405 is : 6.491777290428619\n",
      "tensor(0.0623)\n",
      "The pc_loss at epoch 406 is : 6.491777290428619\n",
      "tensor(0.0623)\n",
      "The pc_loss at epoch 407 is : 6.491777290428619\n",
      "tensor(0.0623)\n",
      "The pc_loss at epoch 408 is : 6.491777290428619\n",
      "tensor(0.0623)\n",
      "The pc_loss at epoch 409 is : 6.491777290428619\n",
      "tensor(0.0623)\n",
      "The pc_loss at epoch 410 is : 6.491777290428619\n",
      "tensor(0.0623)\n",
      "The pc_loss at epoch 411 is : 6.491777290428619\n",
      "tensor(0.0623)\n",
      "The pc_loss at epoch 412 is : 6.491777290428619\n",
      "tensor(0.0623)\n",
      "The pc_loss at epoch 413 is : 6.491777290428619\n",
      "tensor(0.0623)\n",
      "The pc_loss at epoch 414 is : 6.491777290428619\n",
      "tensor(0.0623)\n",
      "The pc_loss at epoch 415 is : 6.491777290428619\n",
      "tensor(0.0623)\n",
      "The pc_loss at epoch 416 is : 6.491777290428618\n",
      "tensor(0.0623)\n",
      "The pc_loss at epoch 417 is : 6.491777290428619\n",
      "tensor(0.0623)\n",
      "The pc_loss at epoch 418 is : 6.49177729042862\n",
      "tensor(0.0623)\n",
      "The pc_loss at epoch 419 is : 6.491777290428618\n",
      "tensor(0.0623)\n",
      "The pc_loss at epoch 420 is : 6.491777290428619\n",
      "tensor(0.0623)\n",
      "The pc_loss at epoch 421 is : 6.491777290428619\n",
      "tensor(0.0623)\n",
      "The pc_loss at epoch 422 is : 6.491777290428619\n",
      "tensor(0.0623)\n",
      "The pc_loss at epoch 423 is : 6.491777290428619\n",
      "tensor(0.0623)\n",
      "The pc_loss at epoch 424 is : 6.491777290428619\n",
      "tensor(0.0623)\n",
      "The pc_loss at epoch 425 is : 6.491777290428619\n",
      "tensor(0.0623)\n",
      "The pc_loss at epoch 426 is : 6.491777290428619\n",
      "tensor(0.0623)\n",
      "The pc_loss at epoch 427 is : 6.491777290428619\n",
      "tensor(0.0623)\n",
      "The pc_loss at epoch 428 is : 6.491777290428619\n",
      "tensor(0.0623)\n",
      "The pc_loss at epoch 429 is : 6.491777290428619\n",
      "tensor(0.0623)\n",
      "The pc_loss at epoch 430 is : 6.491777290428619\n",
      "tensor(0.0623)\n",
      "The pc_loss at epoch 431 is : 6.491777290428619\n",
      "tensor(0.0623)\n",
      "The pc_loss at epoch 432 is : 6.491777290428619\n",
      "tensor(0.0623)\n",
      "The pc_loss at epoch 433 is : 6.491777290428619\n",
      "tensor(0.0623)\n",
      "The pc_loss at epoch 434 is : 6.491777290428619\n",
      "tensor(0.0623)\n",
      "The pc_loss at epoch 435 is : 6.491777290428619\n",
      "tensor(0.0623)\n",
      "The pc_loss at epoch 436 is : 6.491777290428619\n",
      "tensor(0.0623)\n",
      "The pc_loss at epoch 437 is : 6.491777290428619\n",
      "tensor(0.0623)\n",
      "The pc_loss at epoch 438 is : 6.491777290428619\n",
      "tensor(0.0623)\n",
      "The pc_loss at epoch 439 is : 6.491777290428619\n",
      "tensor(0.0623)\n",
      "The pc_loss at epoch 440 is : 6.491777290428619\n",
      "tensor(0.0623)\n",
      "The pc_loss at epoch 441 is : 6.49177729042862\n",
      "tensor(0.0623)\n",
      "The pc_loss at epoch 442 is : 6.491777290428619\n",
      "tensor(0.0623)\n",
      "The pc_loss at epoch 443 is : 6.491777290428619\n",
      "tensor(0.0623)\n",
      "The pc_loss at epoch 444 is : 6.491777290428619\n",
      "tensor(0.0623)\n",
      "The pc_loss at epoch 445 is : 6.491777290428619\n",
      "tensor(0.0623)\n",
      "The pc_loss at epoch 446 is : 6.491777290428619\n",
      "tensor(0.0623)\n",
      "The pc_loss at epoch 447 is : 6.491777290428619\n",
      "tensor(0.0623)\n",
      "The pc_loss at epoch 448 is : 6.491777290428619\n",
      "tensor(0.0623)\n",
      "The pc_loss at epoch 449 is : 6.491777290428619\n",
      "tensor(0.0623)\n",
      "The pc_loss at epoch 450 is : 6.49177729042862\n",
      "tensor(0.0623)\n",
      "The pc_loss at epoch 451 is : 6.491777290428619\n",
      "tensor(0.0623)\n",
      "The pc_loss at epoch 452 is : 6.491777290428619\n",
      "tensor(0.0623)\n",
      "The pc_loss at epoch 453 is : 6.491777290428619\n",
      "tensor(0.0623)\n",
      "The pc_loss at epoch 454 is : 6.491777290428619\n",
      "tensor(0.0623)\n",
      "The pc_loss at epoch 455 is : 6.491777290428619\n",
      "tensor(0.0623)\n",
      "The pc_loss at epoch 456 is : 6.491777290428618\n",
      "tensor(0.0623)\n",
      "The pc_loss at epoch 457 is : 6.491777290428619\n",
      "tensor(0.0623)\n",
      "The pc_loss at epoch 458 is : 6.491777290428619\n",
      "tensor(0.0623)\n",
      "The pc_loss at epoch 459 is : 6.491777290428619\n",
      "tensor(0.0623)\n",
      "The pc_loss at epoch 460 is : 6.491777290428619\n",
      "tensor(0.0623)\n",
      "The pc_loss at epoch 461 is : 6.491777290428619\n",
      "tensor(0.0623)\n",
      "The pc_loss at epoch 462 is : 6.491777290428619\n",
      "tensor(0.0623)\n",
      "The pc_loss at epoch 463 is : 6.491777290428619\n",
      "tensor(0.0623)\n",
      "The pc_loss at epoch 464 is : 6.491777290428618\n",
      "tensor(0.0623)\n",
      "The pc_loss at epoch 465 is : 6.491777290428619\n",
      "tensor(0.0623)\n",
      "The pc_loss at epoch 466 is : 6.491777290428619\n",
      "tensor(0.0623)\n",
      "The pc_loss at epoch 467 is : 6.491777290428618\n",
      "tensor(0.0623)\n",
      "The pc_loss at epoch 468 is : 6.491777290428619\n",
      "tensor(0.0623)\n",
      "The pc_loss at epoch 469 is : 6.491777290428618\n",
      "tensor(0.0623)\n",
      "The pc_loss at epoch 470 is : 6.49177729042862\n",
      "tensor(0.0623)\n",
      "The pc_loss at epoch 471 is : 6.491777290428619\n",
      "tensor(0.0623)\n",
      "The pc_loss at epoch 472 is : 6.491777290428619\n",
      "tensor(0.0623)\n",
      "The pc_loss at epoch 473 is : 6.491777290428619\n",
      "tensor(0.0623)\n",
      "The pc_loss at epoch 474 is : 6.491777290428619\n",
      "tensor(0.0623)\n",
      "The pc_loss at epoch 475 is : 6.491777290428619\n",
      "tensor(0.0623)\n",
      "The pc_loss at epoch 476 is : 6.491777290428619\n",
      "tensor(0.0623)\n",
      "The pc_loss at epoch 477 is : 6.491777290428619\n",
      "tensor(0.0623)\n",
      "The pc_loss at epoch 478 is : 6.491777290428619\n",
      "tensor(0.0623)\n",
      "The pc_loss at epoch 479 is : 6.491777290428619\n",
      "tensor(0.0623)\n",
      "The pc_loss at epoch 480 is : 6.491777290428619\n",
      "tensor(0.0623)\n",
      "The pc_loss at epoch 481 is : 6.491777290428619\n",
      "tensor(0.0623)\n",
      "The pc_loss at epoch 482 is : 6.491777290428619\n",
      "tensor(0.0623)\n",
      "The pc_loss at epoch 483 is : 6.49177729042862\n",
      "tensor(0.0623)\n",
      "The pc_loss at epoch 484 is : 6.491777290428619\n",
      "tensor(0.0623)\n",
      "The pc_loss at epoch 485 is : 6.491777290428619\n",
      "tensor(0.0623)\n",
      "The pc_loss at epoch 486 is : 6.491777290428619\n",
      "tensor(0.0623)\n",
      "The pc_loss at epoch 487 is : 6.491777290428619\n",
      "tensor(0.0623)\n",
      "The pc_loss at epoch 488 is : 6.491777290428619\n",
      "tensor(0.0623)\n",
      "The pc_loss at epoch 489 is : 6.491777290428619\n",
      "tensor(0.0623)\n",
      "The pc_loss at epoch 490 is : 6.491777290428619\n",
      "tensor(0.0623)\n",
      "The pc_loss at epoch 491 is : 6.491777290428619\n",
      "tensor(0.0623)\n",
      "The pc_loss at epoch 492 is : 6.491777290428619\n",
      "tensor(0.0623)\n",
      "The pc_loss at epoch 493 is : 6.491777290428619\n",
      "tensor(0.0623)\n",
      "The pc_loss at epoch 494 is : 6.491777290428619\n",
      "tensor(0.0623)\n",
      "The pc_loss at epoch 495 is : 6.491777290428618\n",
      "tensor(0.0623)\n",
      "The pc_loss at epoch 496 is : 6.491777290428619\n",
      "tensor(0.0623)\n",
      "The pc_loss at epoch 497 is : 6.491777290428619\n",
      "tensor(0.0623)\n",
      "The pc_loss at epoch 498 is : 6.491777290428619\n",
      "tensor(0.0623)\n",
      "The pc_loss at epoch 499 is : 6.491777290428619\n",
      "tensor(0.0623)\n",
      "The pc_loss at epoch 500 is : 6.491777290428619\n",
      "tensor(0.0623)\n",
      "The pc_loss at epoch 501 is : 6.491777290428619\n",
      "tensor(0.0623)\n",
      "The pc_loss at epoch 502 is : 6.491777290428619\n",
      "tensor(0.0623)\n",
      "The pc_loss at epoch 503 is : 6.491777290428621\n",
      "tensor(0.0623)\n",
      "The pc_loss at epoch 504 is : 6.491777290428619\n",
      "tensor(0.0623)\n",
      "The pc_loss at epoch 505 is : 6.491777290428619\n",
      "tensor(0.0623)\n",
      "The pc_loss at epoch 506 is : 6.491777290428619\n",
      "tensor(0.0623)\n",
      "The pc_loss at epoch 507 is : 6.491777290428619\n",
      "tensor(0.0623)\n",
      "The pc_loss at epoch 508 is : 6.491777290428619\n",
      "tensor(0.0623)\n",
      "The pc_loss at epoch 509 is : 6.491777290428619\n",
      "tensor(0.0623)\n",
      "The pc_loss at epoch 510 is : 6.491777290428619\n",
      "tensor(0.0623)\n",
      "The pc_loss at epoch 511 is : 6.491777290428619\n",
      "tensor(0.0623)\n",
      "The pc_loss at epoch 512 is : 6.491777290428619\n",
      "tensor(0.0623)\n",
      "The pc_loss at epoch 513 is : 6.491777290428619\n",
      "tensor(0.0623)\n",
      "The pc_loss at epoch 514 is : 6.491777290428619\n",
      "tensor(0.0623)\n",
      "The pc_loss at epoch 515 is : 6.491777290428619\n",
      "tensor(0.0623)\n",
      "The pc_loss at epoch 516 is : 6.491777290428619\n",
      "tensor(0.0623)\n"
     ]
    },
    {
     "ename": "KeyboardInterrupt",
     "evalue": "",
     "output_type": "error",
     "traceback": [
      "\u001b[0;31m---------------------------------------------------------------------------\u001b[0m",
      "\u001b[0;31mKeyboardInterrupt\u001b[0m                         Traceback (most recent call last)",
      "Input \u001b[0;32mIn [122]\u001b[0m, in \u001b[0;36m<cell line: 12>\u001b[0;34m()\u001b[0m\n\u001b[1;32m     21\u001b[0m \u001b[38;5;66;03m#         return pc_loss\u001b[39;00m\n\u001b[1;32m     22\u001b[0m         \u001b[38;5;28;01mreturn\u001b[39;00m var_loss\n\u001b[0;32m---> 23\u001b[0m     pc_loss \u001b[38;5;241m=\u001b[39m \u001b[43moptimizer\u001b[49m\u001b[38;5;241;43m.\u001b[39;49m\u001b[43mstep\u001b[49m\u001b[43m(\u001b[49m\u001b[43mclosure\u001b[49m\u001b[43m)\u001b[49m\n\u001b[1;32m     24\u001b[0m     scheduler\u001b[38;5;241m.\u001b[39mstep(pc_loss)\n\u001b[1;32m     26\u001b[0m     \u001b[38;5;28mprint\u001b[39m (\u001b[38;5;124m\"\u001b[39m\u001b[38;5;124mThe pc_loss at epoch \u001b[39m\u001b[38;5;132;01m{}\u001b[39;00m\u001b[38;5;124m is : \u001b[39m\u001b[38;5;132;01m{}\u001b[39;00m\u001b[38;5;124m\"\u001b[39m\u001b[38;5;241m.\u001b[39mformat(epoch, pc_loss))\n",
      "File \u001b[0;32m~/anaconda3/lib/python3.9/site-packages/torch/optim/optimizer.py:140\u001b[0m, in \u001b[0;36mOptimizer._hook_for_profile.<locals>.profile_hook_step.<locals>.wrapper\u001b[0;34m(*args, **kwargs)\u001b[0m\n\u001b[1;32m    138\u001b[0m profile_name \u001b[38;5;241m=\u001b[39m \u001b[38;5;124m\"\u001b[39m\u001b[38;5;124mOptimizer.step#\u001b[39m\u001b[38;5;132;01m{}\u001b[39;00m\u001b[38;5;124m.step\u001b[39m\u001b[38;5;124m\"\u001b[39m\u001b[38;5;241m.\u001b[39mformat(obj\u001b[38;5;241m.\u001b[39m\u001b[38;5;18m__class__\u001b[39m\u001b[38;5;241m.\u001b[39m\u001b[38;5;18m__name__\u001b[39m)\n\u001b[1;32m    139\u001b[0m \u001b[38;5;28;01mwith\u001b[39;00m torch\u001b[38;5;241m.\u001b[39mautograd\u001b[38;5;241m.\u001b[39mprofiler\u001b[38;5;241m.\u001b[39mrecord_function(profile_name):\n\u001b[0;32m--> 140\u001b[0m     out \u001b[38;5;241m=\u001b[39m \u001b[43mfunc\u001b[49m\u001b[43m(\u001b[49m\u001b[38;5;241;43m*\u001b[39;49m\u001b[43margs\u001b[49m\u001b[43m,\u001b[49m\u001b[43m \u001b[49m\u001b[38;5;241;43m*\u001b[39;49m\u001b[38;5;241;43m*\u001b[39;49m\u001b[43mkwargs\u001b[49m\u001b[43m)\u001b[49m\n\u001b[1;32m    141\u001b[0m     obj\u001b[38;5;241m.\u001b[39m_optimizer_step_code()\n\u001b[1;32m    142\u001b[0m     \u001b[38;5;28;01mreturn\u001b[39;00m out\n",
      "File \u001b[0;32m~/anaconda3/lib/python3.9/site-packages/torch/optim/optimizer.py:23\u001b[0m, in \u001b[0;36m_use_grad_for_differentiable.<locals>._use_grad\u001b[0;34m(self, *args, **kwargs)\u001b[0m\n\u001b[1;32m     21\u001b[0m \u001b[38;5;28;01mtry\u001b[39;00m:\n\u001b[1;32m     22\u001b[0m     torch\u001b[38;5;241m.\u001b[39mset_grad_enabled(\u001b[38;5;28mself\u001b[39m\u001b[38;5;241m.\u001b[39mdefaults[\u001b[38;5;124m'\u001b[39m\u001b[38;5;124mdifferentiable\u001b[39m\u001b[38;5;124m'\u001b[39m])\n\u001b[0;32m---> 23\u001b[0m     ret \u001b[38;5;241m=\u001b[39m \u001b[43mfunc\u001b[49m\u001b[43m(\u001b[49m\u001b[38;5;28;43mself\u001b[39;49m\u001b[43m,\u001b[49m\u001b[43m \u001b[49m\u001b[38;5;241;43m*\u001b[39;49m\u001b[43margs\u001b[49m\u001b[43m,\u001b[49m\u001b[43m \u001b[49m\u001b[38;5;241;43m*\u001b[39;49m\u001b[38;5;241;43m*\u001b[39;49m\u001b[43mkwargs\u001b[49m\u001b[43m)\u001b[49m\n\u001b[1;32m     24\u001b[0m \u001b[38;5;28;01mfinally\u001b[39;00m:\n\u001b[1;32m     25\u001b[0m     torch\u001b[38;5;241m.\u001b[39mset_grad_enabled(prev_grad)\n",
      "File \u001b[0;32m~/anaconda3/lib/python3.9/site-packages/torch/optim/adam.py:183\u001b[0m, in \u001b[0;36mAdam.step\u001b[0;34m(self, closure, grad_scaler)\u001b[0m\n\u001b[1;32m    181\u001b[0m \u001b[38;5;28;01mif\u001b[39;00m closure \u001b[38;5;129;01mis\u001b[39;00m \u001b[38;5;129;01mnot\u001b[39;00m \u001b[38;5;28;01mNone\u001b[39;00m:\n\u001b[1;32m    182\u001b[0m     \u001b[38;5;28;01mwith\u001b[39;00m torch\u001b[38;5;241m.\u001b[39menable_grad():\n\u001b[0;32m--> 183\u001b[0m         loss \u001b[38;5;241m=\u001b[39m \u001b[43mclosure\u001b[49m\u001b[43m(\u001b[49m\u001b[43m)\u001b[49m\n\u001b[1;32m    185\u001b[0m \u001b[38;5;28;01mfor\u001b[39;00m group \u001b[38;5;129;01min\u001b[39;00m \u001b[38;5;28mself\u001b[39m\u001b[38;5;241m.\u001b[39mparam_groups:\n\u001b[1;32m    186\u001b[0m     params_with_grad \u001b[38;5;241m=\u001b[39m []\n",
      "Input \u001b[0;32mIn [122]\u001b[0m, in \u001b[0;36mclosure\u001b[0;34m()\u001b[0m\n\u001b[1;32m     17\u001b[0m \u001b[38;5;66;03m#         pc_loss = torch.sum((1 - ((torch.corrcoef(torch.hstack([kernel_features, new_dos]).T)[0][1:]))**2))\u001b[39;00m\n\u001b[1;32m     18\u001b[0m \u001b[38;5;66;03m#         pc_loss.backward()\u001b[39;00m\n\u001b[1;32m     19\u001b[0m         var_loss \u001b[38;5;241m=\u001b[39m torch\u001b[38;5;241m.\u001b[39msum(torch\u001b[38;5;241m.\u001b[39mvar(new_dos, dim \u001b[38;5;241m=\u001b[39m \u001b[38;5;241m0\u001b[39m, unbiased \u001b[38;5;241m=\u001b[39m \u001b[38;5;28;01mFalse\u001b[39;00m))\n\u001b[0;32m---> 20\u001b[0m         \u001b[43mvar_loss\u001b[49m\u001b[38;5;241;43m.\u001b[39;49m\u001b[43mbackward\u001b[49m\u001b[43m(\u001b[49m\u001b[43m)\u001b[49m\n\u001b[1;32m     21\u001b[0m \u001b[38;5;66;03m#         return pc_loss\u001b[39;00m\n\u001b[1;32m     22\u001b[0m         \u001b[38;5;28;01mreturn\u001b[39;00m var_loss\n",
      "File \u001b[0;32m~/anaconda3/lib/python3.9/site-packages/torch/_tensor.py:487\u001b[0m, in \u001b[0;36mTensor.backward\u001b[0;34m(self, gradient, retain_graph, create_graph, inputs)\u001b[0m\n\u001b[1;32m    477\u001b[0m \u001b[38;5;28;01mif\u001b[39;00m has_torch_function_unary(\u001b[38;5;28mself\u001b[39m):\n\u001b[1;32m    478\u001b[0m     \u001b[38;5;28;01mreturn\u001b[39;00m handle_torch_function(\n\u001b[1;32m    479\u001b[0m         Tensor\u001b[38;5;241m.\u001b[39mbackward,\n\u001b[1;32m    480\u001b[0m         (\u001b[38;5;28mself\u001b[39m,),\n\u001b[0;32m   (...)\u001b[0m\n\u001b[1;32m    485\u001b[0m         inputs\u001b[38;5;241m=\u001b[39minputs,\n\u001b[1;32m    486\u001b[0m     )\n\u001b[0;32m--> 487\u001b[0m \u001b[43mtorch\u001b[49m\u001b[38;5;241;43m.\u001b[39;49m\u001b[43mautograd\u001b[49m\u001b[38;5;241;43m.\u001b[39;49m\u001b[43mbackward\u001b[49m\u001b[43m(\u001b[49m\n\u001b[1;32m    488\u001b[0m \u001b[43m    \u001b[49m\u001b[38;5;28;43mself\u001b[39;49m\u001b[43m,\u001b[49m\u001b[43m \u001b[49m\u001b[43mgradient\u001b[49m\u001b[43m,\u001b[49m\u001b[43m \u001b[49m\u001b[43mretain_graph\u001b[49m\u001b[43m,\u001b[49m\u001b[43m \u001b[49m\u001b[43mcreate_graph\u001b[49m\u001b[43m,\u001b[49m\u001b[43m \u001b[49m\u001b[43minputs\u001b[49m\u001b[38;5;241;43m=\u001b[39;49m\u001b[43minputs\u001b[49m\n\u001b[1;32m    489\u001b[0m \u001b[43m\u001b[49m\u001b[43m)\u001b[49m\n",
      "File \u001b[0;32m~/anaconda3/lib/python3.9/site-packages/torch/autograd/__init__.py:197\u001b[0m, in \u001b[0;36mbackward\u001b[0;34m(tensors, grad_tensors, retain_graph, create_graph, grad_variables, inputs)\u001b[0m\n\u001b[1;32m    192\u001b[0m     retain_graph \u001b[38;5;241m=\u001b[39m create_graph\n\u001b[1;32m    194\u001b[0m \u001b[38;5;66;03m# The reason we repeat same the comment below is that\u001b[39;00m\n\u001b[1;32m    195\u001b[0m \u001b[38;5;66;03m# some Python versions print out the first line of a multi-line function\u001b[39;00m\n\u001b[1;32m    196\u001b[0m \u001b[38;5;66;03m# calls in the traceback and some print out the last line\u001b[39;00m\n\u001b[0;32m--> 197\u001b[0m \u001b[43mVariable\u001b[49m\u001b[38;5;241;43m.\u001b[39;49m\u001b[43m_execution_engine\u001b[49m\u001b[38;5;241;43m.\u001b[39;49m\u001b[43mrun_backward\u001b[49m\u001b[43m(\u001b[49m\u001b[43m  \u001b[49m\u001b[38;5;66;43;03m# Calls into the C++ engine to run the backward pass\u001b[39;49;00m\n\u001b[1;32m    198\u001b[0m \u001b[43m    \u001b[49m\u001b[43mtensors\u001b[49m\u001b[43m,\u001b[49m\u001b[43m \u001b[49m\u001b[43mgrad_tensors_\u001b[49m\u001b[43m,\u001b[49m\u001b[43m \u001b[49m\u001b[43mretain_graph\u001b[49m\u001b[43m,\u001b[49m\u001b[43m \u001b[49m\u001b[43mcreate_graph\u001b[49m\u001b[43m,\u001b[49m\u001b[43m \u001b[49m\u001b[43minputs\u001b[49m\u001b[43m,\u001b[49m\n\u001b[1;32m    199\u001b[0m \u001b[43m    \u001b[49m\u001b[43mallow_unreachable\u001b[49m\u001b[38;5;241;43m=\u001b[39;49m\u001b[38;5;28;43;01mTrue\u001b[39;49;00m\u001b[43m,\u001b[49m\u001b[43m \u001b[49m\u001b[43maccumulate_grad\u001b[49m\u001b[38;5;241;43m=\u001b[39;49m\u001b[38;5;28;43;01mTrue\u001b[39;49;00m\u001b[43m)\u001b[49m\n",
      "\u001b[0;31mKeyboardInterrupt\u001b[0m: "
     ]
    }
   ],
   "source": [
    "alignment = torch.nn.parameter.Parameter(torch.zeros(len(train_index)))\n",
    "lr = 1\n",
    "sigma = 0.3\n",
    "n_epochs = 100000\n",
    "optimizer = torch.optim.Adam(\n",
    "        [alignment],\n",
    "        lr=lr)#,  line_search_fn=\"strong_wolfe\")\n",
    "\n",
    "all_losses = []\n",
    "all_train_loss = []\n",
    "scheduler = torch.optim.lr_scheduler.ReduceLROnPlateau(optimizer, factor = 0.5, patience = 30)#0.5)\n",
    "for epoch in (range(n_epochs)):\n",
    "    def closure():\n",
    "        optimizer.zero_grad()\n",
    "        new_dos = (torch.sum((structure_coefficients_t[train_index].view(1, 831, 687) * (torch.exp(-0.5*((alignment.view(1,-1,1) + xdos.view(-1,1,1) - structure_eigvals_t[train_index])/sigma)**2))), dim = 2)).T * normalization[train_index].view(-1,1) * 2\n",
    "        train_loss = evaluate_performance(new_dos)\n",
    "#         pc_loss = torch.sum((1 - ((torch.corrcoef(torch.hstack([kernel_features, new_dos]).T)[0][1:]))**2))\n",
    "#         pc_loss.backward()\n",
    "        var_loss = torch.sum(torch.var(new_dos, dim = 0, unbiased = False))\n",
    "        var_loss.backward()\n",
    "#         return pc_loss\n",
    "        return var_loss\n",
    "    pc_loss = optimizer.step(closure)\n",
    "    scheduler.step(pc_loss)\n",
    "    \n",
    "    print (\"The pc_loss at epoch {} is : {}\".format(epoch, pc_loss))\n",
    "#     with torch.no_grad():\n",
    "#         new_dos = (torch.sum((structure_coefficients_t[train_index].view(1, 831, 687) * (torch.exp(-0.5*((alignment.view(1,-1,1) + xdos.view(-1,1,1) - structure_eigvals_t[train_index])/sigma)**2))), dim = 2)).T * normalization[train_index].view(-1,1) * 2\n",
    "#         train_loss = evaluate_performance(new_dos)\n",
    "#         all_losses.append(pc_loss)\n",
    "#         all_train_loss.append(train_loss)\n",
    "\n"
   ]
  },
  {
   "cell_type": "code",
   "execution_count": 111,
   "id": "ecdb3780",
   "metadata": {
    "ExecuteTime": {
     "end_time": "2023-02-22T14:13:47.044849Z",
     "start_time": "2023-02-22T14:13:46.981749Z"
    }
   },
   "outputs": [
    {
     "name": "stdout",
     "output_type": "stream",
     "text": [
      "tensor(0.5925)\n"
     ]
    }
   ],
   "source": [
    "mldos = ldos.mean(axis = 0)\n",
    "std2 = torch.sqrt((torch.trapezoid((ldos - mldos)**2, xdos, axis=1)).mean())\n",
    "print (std2)"
   ]
  },
  {
   "cell_type": "code",
   "execution_count": 116,
   "id": "b6520907",
   "metadata": {
    "ExecuteTime": {
     "end_time": "2023-02-22T14:14:45.147844Z",
     "start_time": "2023-02-22T14:14:45.143757Z"
    }
   },
   "outputs": [
    {
     "data": {
      "text/plain": [
       "0.5485232067510548"
      ]
     },
     "execution_count": 116,
     "metadata": {},
     "output_type": "execute_result"
    }
   ],
   "source": [
    "0.00325/0.5925 * 100"
   ]
  },
  {
   "cell_type": "code",
   "execution_count": 115,
   "id": "ce014ec1",
   "metadata": {
    "ExecuteTime": {
     "end_time": "2023-02-22T14:14:38.078250Z",
     "start_time": "2023-02-22T14:14:38.074418Z"
    }
   },
   "outputs": [
    {
     "data": {
      "text/plain": [
       "0.4970228163162273"
      ]
     },
     "execution_count": 115,
     "metadata": {},
     "output_type": "execute_result"
    }
   ],
   "source": [
    "0.0029448601866736467/0.5925 * 100"
   ]
  },
  {
   "cell_type": "code",
   "execution_count": 108,
   "id": "6d6ee02f",
   "metadata": {
    "ExecuteTime": {
     "end_time": "2023-02-22T14:01:49.348715Z",
     "start_time": "2023-02-22T14:01:49.014167Z"
    }
   },
   "outputs": [
    {
     "data": {
      "text/plain": [
       "<matplotlib.collections.PathCollection at 0x7f6175f40820>"
      ]
     },
     "execution_count": 108,
     "metadata": {},
     "output_type": "execute_result"
    },
    {
     "data": {
      "image/png": "[encoded data removed]",
      "text/plain": [
       "<Figure size 432x288 with 1 Axes>"
      ]
     },
     "metadata": {
      "needs_background": "light"
     },
     "output_type": "display_data"
    }
   ],
   "source": [
    "%matplotlib inline\n",
    "plt.scatter(kernel_features, new_fulldos[:,400])"
   ]
  },
  {
   "cell_type": "code",
   "execution_count": 94,
   "id": "91e8af3b",
   "metadata": {
    "ExecuteTime": {
     "end_time": "2023-02-22T14:00:04.020231Z",
     "start_time": "2023-02-22T13:59:57.501254Z"
    }
   },
   "outputs": [],
   "source": [
    "with torch.no_grad():\n",
    "    new_fulldos = (torch.sum((structure_coefficients_t[train_index].view(1, 831, 687) * (torch.exp(-0.5*((alignment.view(1,-1,1) + xdos.view(-1,1,1) - structure_eigvals_t[train_index])/sigma)**2))), dim = 2)).T * normalization[train_index].view(-1,1) * 2"
   ]
  },
  {
   "cell_type": "code",
   "execution_count": 97,
   "id": "2166a3d9",
   "metadata": {
    "ExecuteTime": {
     "end_time": "2023-02-22T14:00:16.226710Z",
     "start_time": "2023-02-22T14:00:16.202924Z"
    }
   },
   "outputs": [
    {
     "data": {
      "text/plain": [
       "tensor([ 243.3183, -201.3365,  288.1693, -242.9149,  247.5340, -203.6818,\n",
       "         245.5170, -228.1841, -238.2267, -240.3568, -234.4764, -221.8536,\n",
       "        -201.2681, -243.0868,  275.6026, -241.2248, -187.3932, -201.2555,\n",
       "         248.7494,  253.9962, -218.9832, -221.9200,  254.0054, -228.4642,\n",
       "         252.8444,  253.6824, -227.4862, -227.7941,  261.3792, -243.4928,\n",
       "         259.3247, -227.8989, -222.3545, -187.5023, -187.2678, -187.6751,\n",
       "         252.8320, -225.9506, -241.2909,  250.3453, -240.0731, -233.8006,\n",
       "        -231.1003, -187.3535, -217.1784, -242.9698,  254.8952, -216.2898,\n",
       "        -217.5295, -222.3268, -187.8814, -243.6653, -231.2563,  248.9743,\n",
       "        -238.3794,  267.5631, -231.2929, -227.4435, -222.2984,  254.8895,\n",
       "         252.8016,  251.4262, -187.2975,  245.4787, -238.0574, -238.4515,\n",
       "        -187.8629, -180.1261, -188.1604, -180.1827, -221.8760, -237.3917,\n",
       "        -227.8073, -227.7418,  250.2687, -217.2501, -217.8986,  250.2841,\n",
       "         243.2132, -228.8587, -180.2094, -186.8700, -238.8912,  272.4170,\n",
       "         256.0574,  250.1909,  257.1424,  243.4073, -187.4671, -228.2383,\n",
       "        -227.6637,  251.6127,  255.9570, -179.9989, -228.7385, -239.8888,\n",
       "        -242.1952,  263.8008, -243.1521,  245.9943, -228.5637, -226.9966,\n",
       "        -250.0665,  267.3632, -236.1137, -180.6692,  248.8023, -222.7341,\n",
       "         251.3630,  245.4301, -232.4149,  251.5645, -228.6165, -180.2361,\n",
       "        -241.9822, -210.6472, -187.7096,  256.0703, -231.1321, -187.8420,\n",
       "        -188.2028,  244.0832, -228.5975, -180.0783,  256.0173, -231.1368,\n",
       "        -180.4883, -180.1235, -238.1673, -201.1605, -241.6653, -187.4557,\n",
       "        -187.8164, -201.2055, -187.4906, -238.1740, -221.8474, -180.0009,\n",
       "         251.6294, -239.4920, -240.3385, -187.1795, -201.2560, -328.3350,\n",
       "        -225.2678, -243.6642, -240.4738,  251.3263, -243.9053, -239.4505,\n",
       "        -243.1814,  251.5770, -220.7424, -187.3956,  243.0291,  248.6221,\n",
       "        -187.9266, -180.0408, -187.4281,  247.3969, -228.9069,  252.5517,\n",
       "         243.3803, -238.2740, -225.2303, -228.8664, -187.6074, -243.2660,\n",
       "        -240.4394,  247.3800,  251.4134, -187.9622, -238.2334,  243.8501,\n",
       "        -180.0362, -329.3664,  256.0957, -233.6635, -227.0826, -236.0136,\n",
       "        -230.7312, -187.2341, -188.3042, -233.7554, -201.2795,  245.7064,\n",
       "        -228.5539, -187.6700, -187.7368,  252.6911, -228.2629, -229.7505,\n",
       "        -180.0521, -177.4360,  245.6878,  252.7972, -201.2334, -187.4276,\n",
       "        -187.5475, -229.7448, -231.3050, -240.0518,  253.9494, -228.0016,\n",
       "        -225.9494, -187.4474,  245.7355, -179.9497,  243.3774, -228.1211,\n",
       "        -187.3423, -222.2648, -201.1908, -225.8814, -187.3507, -179.9781,\n",
       "         289.6744,  250.3655,  245.6998, -233.8361, -201.2564, -201.2280,\n",
       "        -180.3654,  271.8986,  250.3374,  252.5579,  248.9944, -225.7232,\n",
       "        -233.9395, -201.2336, -216.3388,  257.0466, -180.1596, -229.8746,\n",
       "        -180.0374,  250.1210, -201.2596, -225.7866, -236.1364, -227.1828,\n",
       "         243.2120,  257.0390,  247.4372,  254.9944,  256.8020, -240.2996,\n",
       "         253.7135,  244.2954, -235.9910, -180.1162, -187.3481, -217.9744,\n",
       "        -180.2606, -229.5648, -201.2698, -201.2499, -227.5872, -225.5832,\n",
       "        -233.3495,  274.3345,  245.3913,  273.1955,  256.0796, -188.0010,\n",
       "        -235.9841, -217.9548,  247.3259, -337.0285, -187.0741,  254.8655,\n",
       "         286.8102,  247.4131, -237.4058, -247.4072, -231.3476,  250.2602,\n",
       "        -228.5221,  257.3197, -224.1903, -216.6603, -187.5074, -187.3897,\n",
       "         247.4468, -180.0104, -237.9823, -217.0259, -240.4203, -228.3874,\n",
       "        -229.8742, -228.6441, -180.4385, -241.6450, -240.3428, -222.3594,\n",
       "        -234.2882, -231.3079, -180.2267,  245.5863, -187.2014,  244.3121,\n",
       "        -180.1714, -227.0121, -232.2371, -225.4407,  254.0033, -243.5265,\n",
       "         250.1939, -187.3461,  255.9969, -187.6407, -228.7002, -228.2767,\n",
       "         276.0696, -188.2604, -179.9919, -187.2470, -187.9709, -230.4327,\n",
       "         257.0206, -187.4852, -225.6640, -233.6748, -201.1999, -233.8391,\n",
       "        -244.1698, -180.0312, -228.3624, -180.3837, -228.6942, -187.6059,\n",
       "        -186.9445,  265.3132, -227.1862, -218.3484, -239.9456, -246.0315,\n",
       "         245.8069,  247.5989, -238.0763,  257.0102, -228.3009, -244.3202,\n",
       "        -187.8093,  255.0570, -227.5712, -229.7210, -233.8757, -234.3632,\n",
       "        -227.1385, -228.3613,  251.6352, -187.8978, -242.4426,  245.4867,\n",
       "        -241.3618, -236.5572, -228.5237, -187.5272,  267.2629, -218.2207,\n",
       "        -241.2114, -235.3432, -236.9884,  248.7552, -237.9940, -187.8377,\n",
       "        -187.2736, -228.7124,  262.1719, -245.9078, -188.0549, -233.9492,\n",
       "         270.9441,  247.4343, -222.9599, -201.2629,  243.7799,  245.9175,\n",
       "        -227.9849,  252.6678, -241.8941, -219.6017, -227.9992, -225.6137,\n",
       "         274.6218, -222.8576, -234.3685, -236.0623,  256.1241, -236.0511,\n",
       "        -230.5468,  247.4487, -228.4539, -230.0458, -187.6054, -187.5954,\n",
       "         269.1024, -227.6965, -187.3485,  275.0121, -219.4577, -219.0729,\n",
       "        -227.6243, -231.3439,  243.0593,  274.7035, -233.8981,  245.5684,\n",
       "        -187.6499,  273.6656, -243.3650, -236.0138,  245.5777, -228.7318,\n",
       "        -231.3284, -228.6277, -222.5650, -241.8466, -180.1727, -218.2090,\n",
       "        -242.9592, -246.2644, -188.2921,  281.7460,  248.7492, -231.2497,\n",
       "         248.9564,  248.9662, -228.1769,  246.0601, -227.2513, -229.2708,\n",
       "        -187.3729,  255.0672, -180.3349, -225.9840, -201.2929, -180.5494,\n",
       "        -227.3312, -238.2194, -236.0613,  256.8259, -226.6236, -243.0168,\n",
       "        -225.5460, -201.2465,  253.4982, -187.4397,  247.3974, -201.2228,\n",
       "        -218.6283,  243.5893,  259.7447, -201.2489,  254.8777, -246.0700,\n",
       "         247.2389,  252.7289, -229.4565, -222.6005,  248.9222, -223.0599,\n",
       "        -236.0661,  245.9314, -233.7974, -228.6648, -228.7331, -235.9750,\n",
       "        -231.3088, -187.6176,  245.8198, -211.5885,  270.3380,  256.1157,\n",
       "        -187.3701,  247.1902, -201.2508, -187.0095, -225.6784,  252.6788,\n",
       "         256.8112, -187.7227, -222.8716,  244.6025, -239.6677, -332.5700,\n",
       "        -236.1044, -236.1945, -240.4300, -225.4105,  243.1000,  253.8836,\n",
       "        -201.2552, -228.5544, -180.2153,  250.1187, -247.5379,  256.1309,\n",
       "        -211.7348, -236.1205,  259.7801, -226.9438, -180.5079, -187.2997,\n",
       "        -187.3992, -228.4962, -233.7139,  248.8830, -228.7952,  251.5296,\n",
       "        -243.7446, -187.7042, -187.5082,  252.5772, -238.3297, -220.3934,\n",
       "        -185.1524, -219.0319, -229.4388, -241.7383,  282.5277,  242.9396,\n",
       "        -216.6560,  268.8467, -233.7383,  253.9047, -187.5674, -229.3166,\n",
       "        -233.8998, -201.1781,  247.3519,  252.8429,  272.0392, -231.3358,\n",
       "         250.3490, -187.1784,  250.3606, -187.3599, -201.2558,  253.9238,\n",
       "        -222.6030, -228.6171,  251.5396,  256.9742, -228.3797, -188.3972,\n",
       "        -228.6077, -131.0377,  243.2807,  247.3647, -241.4881, -244.9605,\n",
       "        -187.0581, -227.6015, -223.3358,  248.8031,  245.7120, -188.1461,\n",
       "         252.7803, -217.4431, -180.2628, -239.8342, -233.5866,  262.8793,\n",
       "        -242.3821, -180.7957,  245.7693, -233.7707, -222.4435, -238.3128,\n",
       "        -228.3937, -229.1827, -210.4225, -230.4507,  283.8979, -187.5255,\n",
       "        -233.0272, -201.2228,  250.1501, -219.0078,  257.0272, -216.6475,\n",
       "        -222.5686,  275.4947, -187.4521, -188.3714, -187.3452, -187.3938,\n",
       "        -187.6200, -236.1755, -187.8777,  266.3104, -187.7308,  270.9416,\n",
       "         251.6410, -187.9837, -228.0856,  244.3073, -238.4255, -229.4253,\n",
       "         267.1407, -236.0132, -218.8257, -187.4942,  253.9728,  256.0082,\n",
       "        -222.8356, -238.1568, -187.9423, -180.3540, -222.4405, -225.2466,\n",
       "         247.2913, -187.8465, -180.4292, -187.9565,  250.2804, -180.0082,\n",
       "         274.5193, -225.7541,  254.7604,  253.7254,  272.5816, -227.9982,\n",
       "        -230.7369, -201.2467, -187.3674, -238.5195,  250.3801,  256.0714,\n",
       "         245.8872,  245.9598, -201.2964, -201.2582,  247.2177, -201.2293,\n",
       "        -228.8576, -227.0179, -241.7345, -187.1171, -201.2188,  256.1050,\n",
       "        -225.3045, -214.8040,  268.0908, -236.8783, -187.6764, -227.8767,\n",
       "         247.4718, -188.0949,  243.2633, -187.1443,  251.2818,  254.8457,\n",
       "        -228.5441, -187.3458, -233.7741, -201.2208,  257.1011, -239.9384,\n",
       "         276.4493, -201.2633, -217.0931, -228.4426,  243.6860, -187.4710,\n",
       "        -201.2533, -187.5089,  252.8392, -210.8987,  256.0650, -234.7779,\n",
       "        -187.3828, -227.6553,  253.8913, -228.7606, -240.0490, -242.4420,\n",
       "         245.9223,  251.5341, -240.0441, -218.4608,  257.0384, -228.6450,\n",
       "        -219.8012, -187.5809,  244.5772,  255.9445, -227.1904, -225.5427,\n",
       "        -228.3016, -201.2484, -180.1321, -180.0367, -231.2865, -231.3216,\n",
       "         243.3550,  253.9329, -187.4865, -228.6732, -217.5820, -228.6425,\n",
       "         256.0912, -228.3065, -180.0576,  253.8180,  257.3039,  245.5906,\n",
       "         247.3550, -187.5003,  250.3120, -179.9682, -246.3820,  251.4491,\n",
       "        -240.0676, -187.2108, -187.3553, -201.2388,  245.7285,  250.1210,\n",
       "         245.8526, -227.4347, -180.0526, -179.9493, -228.2662, -186.8798,\n",
       "        -243.4131,  254.9147,  271.7372, -239.6603,  252.8604,  248.6531,\n",
       "         277.1543, -233.6712, -228.4658, -225.8708, -242.0017, -230.9472,\n",
       "        -217.3632,  248.6776, -187.9695, -228.1495, -228.6207, -228.7041,\n",
       "         281.2781,  261.2341, -228.7734, -187.4216, -228.1528, -187.2790,\n",
       "        -231.3709, -222.4255,  244.4541, -187.5835, -238.1688, -187.6378,\n",
       "        -241.8128, -228.0198, -187.3105, -236.0906, -332.8288, -232.5847,\n",
       "        -244.9393, -228.8243,  258.2190, -231.1773, -228.0900, -231.1562,\n",
       "         251.4988, -180.0374,  248.7819, -188.1710, -180.1611, -241.5508,\n",
       "        -239.9597,  248.7935,  254.9954,  256.0025,  253.7992, -187.0230,\n",
       "        -187.4858, -229.8548,  245.5151, -233.7857,  253.8837, -187.5104,\n",
       "        -228.2439,  242.8986, -328.2250, -187.3846,  251.6143, -201.2505,\n",
       "        -222.3950, -233.8101, -226.0676, -187.8823, -187.6060, -187.5700,\n",
       "        -179.9870, -227.9287, -201.2122, -180.0156, -229.6750, -201.2068,\n",
       "        -236.0473, -179.9433, -238.8852, -226.3640,  261.3569, -233.8325,\n",
       "        -180.3586, -222.8452,  276.2164, -219.4188, -228.6643, -228.5610,\n",
       "        -233.9104,  252.8137,  254.9567, -240.1261, -187.8032,  257.0147,\n",
       "        -187.3784, -187.7311,  252.6274, -242.3636,  245.9610,  259.1227,\n",
       "        -217.4708, -228.0337,  248.6766], grad_fn=<DivBackward0>)"
      ]
     },
     "execution_count": 97,
     "metadata": {},
     "output_type": "execute_result"
    }
   ],
   "source": [
    "alignment/0.05"
   ]
  },
  {
   "cell_type": "code",
   "execution_count": 101,
   "id": "eeb66872",
   "metadata": {
    "ExecuteTime": {
     "end_time": "2023-02-22T14:00:36.416505Z",
     "start_time": "2023-02-22T14:00:36.203717Z"
    }
   },
   "outputs": [
    {
     "data": {
      "image/png": "[encoded data removed]",
      "text/plain": [
       "<Figure size 432x288 with 1 Axes>"
      ]
     },
     "metadata": {
      "needs_background": "light"
     },
     "output_type": "display_data"
    }
   ],
   "source": [
    "indexes = [0,1,2,3,4,5,6]\n",
    "# plt.vlines(x = xdos[400], ymin = 0, ymax = 1)\n",
    "for i in indexes:\n",
    "    plt.plot(xdos, new_fulldos[i], c= 'r')\n",
    "    plt.plot(xdos, ldos[train_index[i]] , c='b')"
   ]
  },
  {
   "cell_type": "code",
   "execution_count": null,
   "id": "08f8b279",
   "metadata": {},
   "outputs": [],
   "source": []
  },
  {
   "cell_type": "code",
   "execution_count": 106,
   "id": "d9d49eb3",
   "metadata": {
    "ExecuteTime": {
     "end_time": "2023-02-22T14:01:29.734730Z",
     "start_time": "2023-02-22T14:01:29.457872Z"
    }
   },
   "outputs": [
    {
     "data": {
      "text/plain": [
       "<matplotlib.collections.PathCollection at 0x7f6176051400>"
      ]
     },
     "execution_count": 106,
     "metadata": {},
     "output_type": "execute_result"
    },
    {
     "data": {
      "image/png": "[encoded data removed]",
      "text/plain": [
       "<Figure size 432x288 with 1 Axes>"
      ]
     },
     "metadata": {
      "needs_background": "light"
     },
     "output_type": "display_data"
    }
   ],
   "source": [
    "plt.scatter(np.arange(len(new_fulldos)),new_fulldos[:,500])"
   ]
  },
  {
   "cell_type": "code",
   "execution_count": 104,
   "id": "365b0626",
   "metadata": {
    "ExecuteTime": {
     "end_time": "2023-02-22T14:01:06.637692Z",
     "start_time": "2023-02-22T14:01:06.589183Z"
    }
   },
   "outputs": [
    {
     "ename": "IndexError",
     "evalue": "index 953 is out of bounds for dimension 0 with size 831",
     "output_type": "error",
     "traceback": [
      "\u001b[0;31m---------------------------------------------------------------------------\u001b[0m",
      "\u001b[0;31mIndexError\u001b[0m                                Traceback (most recent call last)",
      "Input \u001b[0;32mIn [104]\u001b[0m, in \u001b[0;36m<cell line: 1>\u001b[0;34m()\u001b[0m\n\u001b[0;32m----> 1\u001b[0m plt\u001b[38;5;241m.\u001b[39mscatter(kernel_features, \u001b[43mnew_fulldos\u001b[49m\u001b[43m[\u001b[49m\u001b[43mtrain_index\u001b[49m\u001b[43m,\u001b[49m\u001b[43m \u001b[49m\u001b[38;5;241;43m400\u001b[39;49m\u001b[43m]\u001b[49m)\n",
      "\u001b[0;31mIndexError\u001b[0m: index 953 is out of bounds for dimension 0 with size 831"
     ]
    }
   ],
   "source": [
    "plt.scatter(kernel_features, ldos[train_index, 400])"
   ]
  },
  {
   "cell_type": "code",
   "execution_count": 61,
   "id": "d620a965",
   "metadata": {
    "ExecuteTime": {
     "end_time": "2023-02-22T10:49:44.151719Z",
     "start_time": "2023-02-22T10:49:44.016415Z"
    }
   },
   "outputs": [
    {
     "data": {
      "text/plain": [
       "<matplotlib.collections.PathCollection at 0x7f6176b3fd90>"
      ]
     },
     "execution_count": 61,
     "metadata": {},
     "output_type": "execute_result"
    },
    {
     "data": {
      "image/png": "[encoded data removed]",
      "text/plain": [
       "<Figure size 432x288 with 1 Axes>"
      ]
     },
     "metadata": {
      "needs_background": "light"
     },
     "output_type": "display_data"
    }
   ],
   "source": [
    "plt.scatter(np.arange(len(train_index)),ldos[train_index,400])"
   ]
  },
  {
   "cell_type": "code",
   "execution_count": 411,
   "id": "76c7a30a",
   "metadata": {
    "ExecuteTime": {
     "end_time": "2023-02-21T19:58:35.672837Z",
     "start_time": "2023-02-21T19:58:24.303305Z"
    }
   },
   "outputs": [
    {
     "name": "stdout",
     "output_type": "stream",
     "text": [
      "torch.Size([831, 778])\n"
     ]
    }
   ],
   "source": [
    "z = (torch.sum((structure_coefficients_t[train_index].view(1, 831, 687) * (torch.exp(-0.5*((alignment.view(1,-1,1) + xdos.view(-1,1,1) - structure_eigvals_t[train_index])/sigma)**2))), dim = 2)).T * normalization[train_index].view(-1,1) * 2\n"
   ]
  },
  {
   "cell_type": "code",
   "execution_count": null,
   "id": "0c2fe60b",
   "metadata": {},
   "outputs": [],
   "source": []
  },
  {
   "cell_type": "code",
   "execution_count": null,
   "id": "f7561d16",
   "metadata": {},
   "outputs": [],
   "source": []
  },
  {
   "cell_type": "code",
   "execution_count": 412,
   "id": "61502d11",
   "metadata": {
    "ExecuteTime": {
     "end_time": "2023-02-21T19:58:50.784049Z",
     "start_time": "2023-02-21T19:58:50.738296Z"
    }
   },
   "outputs": [],
   "source": [
    "k = loss.t_get_mse(z, reconstructed_ldos_t[train_index])"
   ]
  },
  {
   "cell_type": "code",
   "execution_count": 413,
   "id": "299990af",
   "metadata": {
    "ExecuteTime": {
     "end_time": "2023-02-21T19:58:50.895885Z",
     "start_time": "2023-02-21T19:58:50.886412Z"
    }
   },
   "outputs": [
    {
     "data": {
      "text/plain": [
       "tensor(3.2786e-33, grad_fn=<MeanBackward1>)"
      ]
     },
     "execution_count": 413,
     "metadata": {},
     "output_type": "execute_result"
    }
   ],
   "source": [
    "k"
   ]
  },
  {
   "cell_type": "code",
   "execution_count": 394,
   "id": "4a75399a",
   "metadata": {
    "ExecuteTime": {
     "end_time": "2023-02-21T19:53:06.409665Z",
     "start_time": "2023-02-21T19:53:06.405341Z"
    }
   },
   "outputs": [
    {
     "data": {
      "text/plain": [
       "torch.Size([831, 687])"
      ]
     },
     "execution_count": 394,
     "metadata": {},
     "output_type": "execute_result"
    }
   ],
   "source": [
    "structure_coefficients_t[train_index].shape"
   ]
  },
  {
   "cell_type": "code",
   "execution_count": 388,
   "id": "78508db2",
   "metadata": {
    "ExecuteTime": {
     "end_time": "2023-02-21T19:51:11.392646Z",
     "start_time": "2023-02-21T19:51:11.386725Z"
    }
   },
   "outputs": [
    {
     "data": {
      "text/plain": [
       "tensor(-20.7719)"
      ]
     },
     "execution_count": 388,
     "metadata": {},
     "output_type": "execute_result"
    }
   ],
   "source": [
    "structure_eigvals_t[train_index[0]][0]"
   ]
  },
  {
   "cell_type": "code",
   "execution_count": null,
   "id": "76ec7b16",
   "metadata": {},
   "outputs": [],
   "source": []
  },
  {
   "cell_type": "code",
   "execution_count": 389,
   "id": "072f3c15",
   "metadata": {
    "ExecuteTime": {
     "end_time": "2023-02-21T19:51:13.339271Z",
     "start_time": "2023-02-21T19:51:13.334491Z"
    }
   },
   "outputs": [
    {
     "data": {
      "text/plain": [
       "tensor(-5.2818, grad_fn=<SelectBackward0>)"
      ]
     },
     "execution_count": 389,
     "metadata": {},
     "output_type": "execute_result"
    }
   ],
   "source": [
    "z[0,0,0]"
   ]
  },
  {
   "cell_type": "code",
   "execution_count": null,
   "id": "11662451",
   "metadata": {},
   "outputs": [],
   "source": [
    "i_ldos = torch.sum(coeffs.view(-1,1) * (torch.exp(-0.5*(((xdos - evals.view(-1,1))/sigma)**2))), dim = 0)"
   ]
  },
  {
   "cell_type": "code",
   "execution_count": null,
   "id": "1e5685e4",
   "metadata": {},
   "outputs": [],
   "source": [
    "ldos = "
   ]
  },
  {
   "cell_type": "code",
   "execution_count": 328,
   "id": "12e41728",
   "metadata": {
    "ExecuteTime": {
     "end_time": "2023-02-21T19:07:55.893505Z",
     "start_time": "2023-02-21T19:07:55.887803Z"
    }
   },
   "outputs": [],
   "source": []
  },
  {
   "cell_type": "code",
   "execution_count": 330,
   "id": "d9bd8dbc",
   "metadata": {
    "ExecuteTime": {
     "end_time": "2023-02-21T19:14:17.161339Z",
     "start_time": "2023-02-21T19:14:17.098571Z"
    }
   },
   "outputs": [
    {
     "ename": "RuntimeError",
     "evalue": "Expected both self and other to be nested, but got a nested self and non-nested other",
     "output_type": "error",
     "traceback": [
      "\u001b[0;31m---------------------------------------------------------------------------\u001b[0m",
      "\u001b[0;31mRuntimeError\u001b[0m                              Traceback (most recent call last)",
      "Input \u001b[0;32mIn [330]\u001b[0m, in \u001b[0;36m<cell line: 1>\u001b[0;34m()\u001b[0m\n\u001b[0;32m----> 1\u001b[0m \u001b[43mstructure_eigvals_t\u001b[49m\u001b[43m \u001b[49m\u001b[38;5;241;43m+\u001b[39;49m\u001b[43m \u001b[49m\u001b[43malignment\u001b[49m\u001b[38;5;241;43m.\u001b[39;49m\u001b[43mview\u001b[49m\u001b[43m(\u001b[49m\u001b[38;5;241;43m-\u001b[39;49m\u001b[38;5;241;43m1\u001b[39;49m\u001b[43m,\u001b[49m\u001b[38;5;241;43m1\u001b[39;49m\u001b[43m)\u001b[49m\n",
      "\u001b[0;31mRuntimeError\u001b[0m: Expected both self and other to be nested, but got a nested self and non-nested other"
     ]
    }
   ],
   "source": [
    "structure_eigvals_t + alignment"
   ]
  },
  {
   "cell_type": "code",
   "execution_count": 331,
   "id": "b681f577",
   "metadata": {
    "ExecuteTime": {
     "end_time": "2023-02-21T19:16:11.432164Z",
     "start_time": "2023-02-21T19:16:11.424218Z"
    }
   },
   "outputs": [],
   "source": [
    "lengths = [len(a) for a in structure_coefficients]"
   ]
  },
  {
   "cell_type": "code",
   "execution_count": 333,
   "id": "6f2e33b9",
   "metadata": {
    "ExecuteTime": {
     "end_time": "2023-02-21T19:16:37.124826Z",
     "start_time": "2023-02-21T19:16:37.117096Z"
    }
   },
   "outputs": [
    {
     "name": "stdout",
     "output_type": "stream",
     "text": [
      "tensor(687)\n",
      "tensor(165)\n"
     ]
    },
    {
     "name": "stderr",
     "output_type": "stream",
     "text": [
      "/tmp/ipykernel_43144/649679528.py:1: UserWarning: To copy construct from a tensor, it is recommended to use sourceTensor.clone().detach() or sourceTensor.clone().detach().requires_grad_(True), rather than torch.tensor(sourceTensor).\n",
      "  lengths = torch.tensor(lengths)\n"
     ]
    }
   ],
   "source": [
    "lengths = torch.tensor(lengths)\n",
    "print (lengths.max())\n",
    "print (lengths.min())"
   ]
  },
  {
   "cell_type": "code",
   "execution_count": null,
   "id": "7f8ea9a9",
   "metadata": {},
   "outputs": [],
   "source": []
  },
  {
   "cell_type": "code",
   "execution_count": null,
   "id": "34818235",
   "metadata": {},
   "outputs": [],
   "source": []
  },
  {
   "cell_type": "code",
   "execution_count": null,
   "id": "e0372c67",
   "metadata": {},
   "outputs": [],
   "source": []
  },
  {
   "cell_type": "code",
   "execution_count": null,
   "id": "a5c86946",
   "metadata": {},
   "outputs": [],
   "source": []
  },
  {
   "cell_type": "code",
   "execution_count": 11,
   "id": "6c661f55",
   "metadata": {
    "ExecuteTime": {
     "end_time": "2023-02-16T08:39:06.323528Z",
     "start_time": "2023-02-16T08:39:06.319872Z"
    }
   },
   "outputs": [],
   "source": [
    "kernel_features = torch.tensor(PCA_kernel[small_index])\n",
    "alignment = torch.nn.parameter.Parameter(torch.zeros(len(small_index)))"
   ]
  },
  {
   "cell_type": "code",
   "execution_count": 12,
   "id": "66786581",
   "metadata": {
    "ExecuteTime": {
     "end_time": "2023-02-16T08:39:06.823661Z",
     "start_time": "2023-02-16T08:39:06.819813Z"
    }
   },
   "outputs": [],
   "source": [
    "def generate_energy_index(eigenenergy_length):\n",
    "    n_structures = len(eigenenergy_length)\n",
    "    total_index = []\n",
    "    for i, e_vals in enumerate(eigenenergy_length):\n",
    "        indiv_index = torch.zeros(e_vals) + i\n",
    "        total_index.append(indiv_index)\n",
    "    total_index = torch.hstack(total_index)\n",
    "    return total_index.long()"
   ]
  },
  {
   "cell_type": "code",
   "execution_count": 13,
   "id": "54ca4d16",
   "metadata": {
    "ExecuteTime": {
     "end_time": "2023-02-16T08:39:07.380768Z",
     "start_time": "2023-02-16T08:39:07.157417Z"
    }
   },
   "outputs": [],
   "source": [
    "energy_index = generate_energy_index(eigenenergy_length)"
   ]
  },
  {
   "cell_type": "code",
   "execution_count": 14,
   "id": "c5a39d14",
   "metadata": {
    "ExecuteTime": {
     "end_time": "2023-02-16T08:39:07.473228Z",
     "start_time": "2023-02-16T08:39:07.387758Z"
    }
   },
   "outputs": [],
   "source": [
    "energies = torch.hstack(full_eigen_energies).view(-1,1)"
   ]
  },
  {
   "cell_type": "code",
   "execution_count": 15,
   "id": "d9e44023",
   "metadata": {
    "ExecuteTime": {
     "end_time": "2023-02-16T08:39:08.146583Z",
     "start_time": "2023-02-16T08:39:08.136158Z"
    }
   },
   "outputs": [],
   "source": [
    "def torch_generate_dos(energies, eigenenergy_length_t, normalization, splits):\n",
    "    ldoses = []\n",
    "    for i in tqdm(range(len(splits) - 1)):\n",
    "        indexes = generate_energy_index(eigenenergy_length_t[splits[i]:splits[i+1]])\n",
    "        E = energies[torch.sum(eigenenergy_length_t[:splits[i]]):torch.sum(eigenenergy_length_t[:splits[i]]) + torch.sum(eigenenergy_length_t[splits[i]:splits[i+1]])]\n",
    "        split_ldos = torch.zeros(splits[i+1] - splits[i], len(xdos))\n",
    "        \n",
    "        new_ldos = (torch.exp(-0.5*((xdos - E)/sigma)**2))\n",
    "        \n",
    "        split_ldos.index_add_(0, indexes, new_ldos)\n",
    "        \n",
    "        ldoses.append(split_ldos)\n",
    "    ldoses = torch.vstack(ldoses)     \n",
    "    \n",
    "    final_ldos = ((ldoses.T * normalization ).T)* 2\n",
    "    return final_ldos\n",
    "    \n"
   ]
  },
  {
   "cell_type": "code",
   "execution_count": 16,
   "id": "7689c586",
   "metadata": {
    "ExecuteTime": {
     "end_time": "2023-02-16T08:39:08.576690Z",
     "start_time": "2023-02-16T08:39:08.574219Z"
    }
   },
   "outputs": [],
   "source": [
    "# ldos2 = torch_generate_dos(energies, eigenenergy_length_t, normalization, [0, 100, 200, 300, 400, 500, 800, 1039])"
   ]
  },
  {
   "cell_type": "code",
   "execution_count": 17,
   "id": "d7efc2ab",
   "metadata": {
    "ExecuteTime": {
     "end_time": "2023-02-16T08:39:09.032679Z",
     "start_time": "2023-02-16T08:39:09.027183Z"
    }
   },
   "outputs": [
    {
     "data": {
      "text/plain": [
       "torch.Size([435])"
      ]
     },
     "execution_count": 17,
     "metadata": {},
     "output_type": "execute_result"
    }
   ],
   "source": [
    "alignment.shape"
   ]
  },
  {
   "cell_type": "code",
   "execution_count": 18,
   "id": "d61874f7",
   "metadata": {
    "ExecuteTime": {
     "end_time": "2023-02-16T08:39:09.588529Z",
     "start_time": "2023-02-16T08:39:09.585975Z"
    }
   },
   "outputs": [],
   "source": [
    "lr = 100\n",
    "n_epochs = 1000\n",
    "\n"
   ]
  },
  {
   "cell_type": "code",
   "execution_count": 19,
   "id": "54872698",
   "metadata": {
    "ExecuteTime": {
     "end_time": "2023-02-16T08:39:19.381624Z",
     "start_time": "2023-02-16T08:39:13.631029Z"
    }
   },
   "outputs": [
    {
     "name": "stderr",
     "output_type": "stream",
     "text": [
      "100%|████████████████████████████████████████████████████████████████████████████████████████████████████████████████████████████████████████████████████████████████████| 435/435 [00:05<00:00, 75.96it/s]\n"
     ]
    }
   ],
   "source": [
    "sigma = torch.tensor(0.3)\n",
    "dx = 0.05\n",
    "\n",
    "emin = -24.5537\n",
    "emax = 11.3464\n",
    "\n",
    "\n",
    "ndos = int((emax-emin+3) / dx) #number of points\n",
    "xdos = torch.linspace(emin-1.5, emax+1.5, ndos) # extend the energy grid by 3eV \n",
    "ldos = torch.zeros((len(small_index), ndos))\n",
    "for i in tqdm(range(len(small_index))):#for every structure    \n",
    "    ldos[i] = torch.sum(torch.exp(-0.5*((alignment[i] + xdos - full_eigen_energies[small_index[i]].view(-1,1))/sigma)**2), dim = 0)\n",
    "\n",
    "final_ldos = ((ldos.T * normalization ).T)* 2"
   ]
  },
  {
   "cell_type": "code",
   "execution_count": 20,
   "id": "60bd101f",
   "metadata": {
    "ExecuteTime": {
     "end_time": "2023-02-16T08:39:19.400819Z",
     "start_time": "2023-02-16T08:39:19.385744Z"
    }
   },
   "outputs": [],
   "source": [
    "loss = torch.sum((1 - torch.abs((torch.corrcoef(torch.hstack([kernel_features, final_ldos]).T)[0][1:])))**2)"
   ]
  },
  {
   "cell_type": "code",
   "execution_count": 21,
   "id": "908f44b7",
   "metadata": {
    "ExecuteTime": {
     "end_time": "2023-02-16T08:39:19.417545Z",
     "start_time": "2023-02-16T08:39:19.404028Z"
    }
   },
   "outputs": [
    {
     "name": "stdout",
     "output_type": "stream",
     "text": [
      "tensor(212.8861, grad_fn=<SumBackward0>)\n"
     ]
    }
   ],
   "source": [
    "print (loss)"
   ]
  },
  {
   "cell_type": "code",
   "execution_count": null,
   "id": "7e04ff2d",
   "metadata": {
    "ExecuteTime": {
     "start_time": "2023-02-16T08:39:58.336Z"
    }
   },
   "outputs": [
    {
     "name": "stderr",
     "output_type": "stream",
     "text": [
      "  0%|▏                                                                                                                                                                  | 1/1000 [00:09<2:45:56,  9.97s/it]"
     ]
    },
    {
     "name": "stdout",
     "output_type": "stream",
     "text": [
      "tensor(212.8861, grad_fn=<SumBackward0>)\n"
     ]
    },
    {
     "name": "stderr",
     "output_type": "stream",
     "text": [
      "\r",
      "  0%|▎                                                                                                                                                                  | 2/1000 [00:21<2:56:37, 10.62s/it]"
     ]
    },
    {
     "name": "stdout",
     "output_type": "stream",
     "text": [
      "tensor(212.1835, grad_fn=<SumBackward0>)\n"
     ]
    },
    {
     "name": "stderr",
     "output_type": "stream",
     "text": [
      "\r",
      "  0%|▍                                                                                                                                                                  | 3/1000 [00:29<2:41:25,  9.71s/it]"
     ]
    },
    {
     "name": "stdout",
     "output_type": "stream",
     "text": [
      "tensor(207.9559, grad_fn=<SumBackward0>)\n"
     ]
    },
    {
     "name": "stderr",
     "output_type": "stream",
     "text": [
      "\r",
      "  0%|▋                                                                                                                                                                  | 4/1000 [00:37<2:27:05,  8.86s/it]"
     ]
    },
    {
     "name": "stdout",
     "output_type": "stream",
     "text": [
      "tensor(204.2679, grad_fn=<SumBackward0>)\n"
     ]
    },
    {
     "name": "stderr",
     "output_type": "stream",
     "text": [
      "\r",
      "  0%|▊                                                                                                                                                                  | 5/1000 [00:45<2:25:24,  8.77s/it]"
     ]
    },
    {
     "name": "stdout",
     "output_type": "stream",
     "text": [
      "tensor(202.9791, grad_fn=<SumBackward0>)\n"
     ]
    },
    {
     "name": "stderr",
     "output_type": "stream",
     "text": [
      "\r",
      "  1%|▉                                                                                                                                                                  | 6/1000 [00:54<2:23:37,  8.67s/it]"
     ]
    },
    {
     "name": "stdout",
     "output_type": "stream",
     "text": [
      "tensor(203.2197, grad_fn=<SumBackward0>)\n"
     ]
    },
    {
     "name": "stderr",
     "output_type": "stream",
     "text": [
      "\r",
      "  1%|█▏                                                                                                                                                                 | 7/1000 [01:02<2:21:07,  8.53s/it]"
     ]
    },
    {
     "name": "stdout",
     "output_type": "stream",
     "text": [
      "tensor(203.7145, grad_fn=<SumBackward0>)\n"
     ]
    },
    {
     "name": "stderr",
     "output_type": "stream",
     "text": [
      "\r",
      "  1%|█▎                                                                                                                                                                 | 8/1000 [01:10<2:20:22,  8.49s/it]"
     ]
    },
    {
     "name": "stdout",
     "output_type": "stream",
     "text": [
      "tensor(203.2850, grad_fn=<SumBackward0>)\n"
     ]
    },
    {
     "name": "stderr",
     "output_type": "stream",
     "text": [
      "\r",
      "  1%|█▍                                                                                                                                                                 | 9/1000 [01:18<2:16:03,  8.24s/it]"
     ]
    },
    {
     "name": "stdout",
     "output_type": "stream",
     "text": [
      "tensor(202.0296, grad_fn=<SumBackward0>)\n"
     ]
    }
   ],
   "source": [
    "lr = 0.01\n",
    "alignment = torch.nn.parameter.Parameter(torch.zeros(len(small_index)))\n",
    "n_epochs = 1000\n",
    "\n",
    "optimizer = torch.optim.Adam(\n",
    "                [alignment],\n",
    "                lr=lr)#,  line_search_fn=\"strong_wolfe\")\n",
    "\n",
    "for i in tqdm(range(n_epochs)):\n",
    "    def closure():\n",
    "        optimizer.zero_grad()\n",
    "        sigma = torch.tensor(0.3)\n",
    "        dx = 0.05\n",
    "\n",
    "        emin = -24.5537\n",
    "        emax = 11.3464\n",
    "\n",
    "\n",
    "        ndos = int((emax-emin+3) / dx) #number of points\n",
    "        xdos = torch.linspace(emin-1.5, emax+1.5, ndos) # extend the energy grid by 3eV \n",
    "        ldos = torch.zeros((len(small_index), ndos))\n",
    "        for i in (range(len(small_index))):#for every structure    \n",
    "            ldos[i] = torch.sum(torch.exp(-0.5*((alignment[i] + xdos - full_eigen_energies[small_index[i]].view(-1,1))/sigma)**2), dim = 0)\n",
    "\n",
    "        final_ldos = ((ldos.T * normalization ).T)* 2\n",
    "        pc_loss = torch.sum((1 - torch.abs((torch.corrcoef(torch.hstack([kernel_features, final_ldos]).T)[0][1:])))**2)\n",
    "        #print (pc_loss)\n",
    "        pc_loss.backward()\n",
    "        return pc_loss\n",
    "    \n",
    "    mse = optimizer.step(closure)\n",
    "    \n",
    "    print (mse)"
   ]
  },
  {
   "cell_type": "code",
   "execution_count": null,
   "id": "a27ee561",
   "metadata": {},
   "outputs": [],
   "source": []
  },
  {
   "cell_type": "code",
   "execution_count": 80,
   "id": "50611879",
   "metadata": {
    "ExecuteTime": {
     "end_time": "2023-02-15T21:35:58.937150Z",
     "start_time": "2023-02-15T21:35:58.697835Z"
    }
   },
   "outputs": [
    {
     "data": {
      "text/plain": [
       "[<matplotlib.lines.Line2D at 0x7f10ec0a2c10>]"
      ]
     },
     "execution_count": 80,
     "metadata": {},
     "output_type": "execute_result"
    },
    {
     "data": {
      "image/png": "[encoded data removed]",
      "text/plain": [
       "<Figure size 432x288 with 1 Axes>"
      ]
     },
     "metadata": {
      "needs_background": "light"
     },
     "output_type": "display_data"
    }
   ],
   "source": [
    "%matplotlib inline\n",
    "index = 50\n",
    "plt.plot(xdos, o_ldos[small_index[index]], c = 'r')\n",
    "plt.plot(xdos, final_ldos[index].detach(), c = 'b')"
   ]
  },
  {
   "cell_type": "markdown",
   "id": "9e9f040b",
   "metadata": {},
   "source": [
    "torch.corrcoef\n",
    "torch.var"
   ]
  },
  {
   "cell_type": "code",
   "execution_count": 24,
   "id": "675d9ffc",
   "metadata": {
    "ExecuteTime": {
     "end_time": "2023-02-16T10:05:38.418301Z",
     "start_time": "2023-02-16T10:05:38.353655Z"
    }
   },
   "outputs": [
    {
     "name": "stdout",
     "output_type": "stream",
     "text": [
      "tensor(552253)\n"
     ]
    },
    {
     "ename": "NameError",
     "evalue": "name 'test_ldos' is not defined",
     "output_type": "error",
     "traceback": [
      "\u001b[0;31m---------------------------------------------------------------------------\u001b[0m",
      "\u001b[0;31mNameError\u001b[0m                                 Traceback (most recent call last)",
      "Input \u001b[0;32mIn [24]\u001b[0m, in \u001b[0;36m<cell line: 4>\u001b[0;34m()\u001b[0m\n\u001b[1;32m      1\u001b[0m tol \u001b[38;5;241m=\u001b[39m \u001b[38;5;241m1E-4\u001b[39m\n\u001b[1;32m      2\u001b[0m \u001b[38;5;28mprint\u001b[39m (torch\u001b[38;5;241m.\u001b[39msum(ldos \u001b[38;5;241m>\u001b[39m tol))\n\u001b[0;32m----> 4\u001b[0m plt\u001b[38;5;241m.\u001b[39mplot(xdos[(\u001b[43mtest_ldos\u001b[49m \u001b[38;5;241m>\u001b[39m tol)], test_ldos[(test_ldos \u001b[38;5;241m>\u001b[39m tol)])\n",
      "\u001b[0;31mNameError\u001b[0m: name 'test_ldos' is not defined"
     ]
    }
   ],
   "source": [
    "tol = 1E-4\n",
    "print (torch.sum(test_ldos > tol))\n",
    "\n",
    "plt.plot(xdos[(test_ldos > tol)], test_ldos[(test_ldos > tol)])"
   ]
  },
  {
   "cell_type": "code",
   "execution_count": 22,
   "id": "938df9f3",
   "metadata": {
    "ExecuteTime": {
     "end_time": "2023-02-16T10:05:21.184180Z",
     "start_time": "2023-02-16T10:05:20.379077Z"
    }
   },
   "outputs": [
    {
     "ename": "NameError",
     "evalue": "name 'test_ldos' is not defined",
     "output_type": "error",
     "traceback": [
      "\u001b[0;31m---------------------------------------------------------------------------\u001b[0m",
      "\u001b[0;31mNameError\u001b[0m                                 Traceback (most recent call last)",
      "Input \u001b[0;32mIn [22]\u001b[0m, in \u001b[0;36m<cell line: 1>\u001b[0;34m()\u001b[0m\n\u001b[0;32m----> 1\u001b[0m \u001b[38;5;28mlen\u001b[39m(xdos[(\u001b[43mtest_ldos\u001b[49m \u001b[38;5;241m>\u001b[39m tol)])\n",
      "\u001b[0;31mNameError\u001b[0m: name 'test_ldos' is not defined"
     ]
    }
   ],
   "source": [
    "len(xdos[(test_ldos > tol)])"
   ]
  },
  {
   "cell_type": "code",
   "execution_count": 212,
   "id": "e357e0fa",
   "metadata": {
    "ExecuteTime": {
     "end_time": "2023-02-15T18:43:55.022917Z",
     "start_time": "2023-02-15T18:43:55.004512Z"
    }
   },
   "outputs": [
    {
     "data": {
      "text/plain": [
       "tensor([6.3422e-155, 5.0089e-153, 3.8472e-151, 2.8738e-149, 2.0878e-147,\n",
       "        1.4751e-145, 1.0136e-143, 6.7735e-142, 4.4023e-140, 2.7826e-138,\n",
       "        1.7105e-136, 1.0226e-134, 5.9460e-133, 3.3623e-131, 1.8491e-129,\n",
       "        9.8900e-128, 5.1445e-126, 2.6026e-124, 1.2805e-122, 6.1272e-121,\n",
       "        2.8514e-119, 1.2906e-117, 5.6807e-116, 2.4319e-114, 1.0125e-112,\n",
       "        4.0999e-111, 1.6146e-109, 6.1840e-108, 2.3035e-106, 8.3453e-105,\n",
       "        2.9404e-103, 1.0076e-101, 3.3580e-100,  1.0885e-98,  3.4313e-97,\n",
       "         1.0520e-95,  3.1370e-94,  9.0977e-93,  2.5661e-91,  7.0396e-90,\n",
       "         1.8782e-88,  4.8739e-87,  1.2301e-85,  3.0194e-84,  7.2086e-83,\n",
       "         1.6738e-81,  3.7801e-80,  8.3031e-79,  1.7738e-77,  3.6858e-76,\n",
       "         7.4489e-75,  1.4642e-73,  2.7993e-72,  5.2054e-71,  9.4147e-70,\n",
       "         1.6562e-68,  2.8339e-67,  4.7164e-66,  7.6348e-65,  1.2021e-63,\n",
       "         1.8411e-62,  2.7426e-61,  3.9740e-60,  5.6011e-59,  7.6789e-58,\n",
       "         1.0240e-56,  1.3284e-55,  1.6761e-54,  2.0573e-53,  2.4563e-52,\n",
       "         2.8529e-51,  3.2233e-50,  3.5426e-49,  3.7876e-48,  3.9395e-47,\n",
       "         3.9860e-46,  3.9235e-45,  3.7572e-44,  3.5002e-43,  3.1723e-42,\n",
       "         2.7972e-41,  2.3996e-40,  2.0027e-39,  1.6263e-38,  1.2848e-37,\n",
       "         9.8763e-37,  7.3866e-36,  5.3754e-35,  3.8061e-34,  2.6223e-33,\n",
       "         1.7580e-32,  1.1468e-31,  7.2798e-31,  4.4967e-30,  2.7030e-29,\n",
       "         1.5811e-28,  9.0000e-28,  4.9857e-27,  2.6878e-26,  1.4102e-25,\n",
       "         7.2005e-25,  3.5783e-24,  1.7306e-23,  8.1466e-23,  3.7324e-22,\n",
       "         1.6644e-21,  7.2239e-21,  3.0518e-20,  1.2549e-19,  5.0228e-19,\n",
       "         1.9569e-18,  7.4212e-18,  2.7396e-17,  9.8450e-17,  3.4439e-16,\n",
       "         1.1728e-15,  3.8879e-15,  1.2547e-14,  3.9422e-14,  1.2058e-13,\n",
       "         3.5908e-13,  1.0411e-12,  2.9388e-12,  8.0771e-12,  2.1615e-11,\n",
       "         5.6326e-11,  1.4292e-10,  3.5316e-10,  8.4984e-10,  1.9917e-09,\n",
       "         4.5462e-09,  1.0108e-08,  2.1891e-08,  4.6188e-08,  9.4948e-08,\n",
       "         1.9018e-07,  3.7123e-07,  7.0625e-07,  1.3097e-06,  2.3680e-06,\n",
       "         4.1747e-06,  7.1780e-06,  1.2040e-05,  1.9703e-05,  3.1471e-05,\n",
       "         4.9073e-05,  7.4723e-05,  1.1115e-04,  1.6157e-04,  2.2961e-04,\n",
       "         3.1913e-04,  4.3403e-04,  5.7795e-04,  7.5390e-04,  9.6401e-04,\n",
       "         1.2092e-03,  1.4889e-03,  1.8013e-03,  2.1430e-03,  2.5095e-03,\n",
       "         2.8954e-03,  3.2947e-03,  3.7016e-03,  4.1104e-03,  4.5160e-03,\n",
       "         4.9145e-03,  5.3026e-03,  5.6785e-03,  6.0412e-03,  6.3907e-03,\n",
       "         6.7276e-03,  7.0533e-03,  7.3692e-03,  7.6766e-03,  7.9769e-03,\n",
       "         8.2709e-03,  8.5594e-03,  8.8429e-03,  9.1222e-03,  9.3985e-03,\n",
       "         9.6734e-03,  9.9487e-03,  1.0227e-02,  1.0510e-02,  1.0801e-02,\n",
       "         1.1099e-02,  1.1406e-02,  1.1722e-02,  1.2045e-02,  1.2374e-02,\n",
       "         1.2710e-02,  1.3052e-02,  1.3400e-02,  1.3755e-02,  1.4118e-02,\n",
       "         1.4490e-02,  1.4869e-02,  1.5254e-02,  1.5642e-02,  1.6028e-02,\n",
       "         1.6404e-02,  1.6766e-02,  1.7105e-02,  1.7414e-02,  1.7688e-02,\n",
       "         1.7922e-02,  1.8112e-02,  1.8255e-02,  1.8351e-02,  1.8399e-02,\n",
       "         1.8399e-02,  1.8352e-02,  1.8259e-02,  1.8120e-02,  1.7937e-02,\n",
       "         1.7710e-02,  1.7442e-02,  1.7136e-02,  1.6794e-02,  1.6423e-02,\n",
       "         1.6028e-02,  1.5613e-02,  1.5183e-02,  1.4743e-02,  1.4293e-02,\n",
       "         1.3835e-02,  1.3368e-02,  1.2889e-02,  1.2397e-02,  1.1888e-02,\n",
       "         1.1362e-02,  1.0818e-02,  1.0259e-02,  9.6895e-03,  9.1150e-03,\n",
       "         8.5447e-03,  7.9887e-03,  7.4592e-03,  6.9691e-03,  6.5323e-03,\n",
       "         6.1628e-03,  5.8745e-03,  5.6806e-03,  5.5934e-03,  5.6234e-03,\n",
       "         5.7799e-03,  6.0695e-03,  6.4967e-03,  7.0630e-03,  7.7663e-03,\n",
       "         8.6010e-03,  9.5568e-03,  1.0619e-02,  1.1768e-02,  1.2979e-02,\n",
       "         1.4224e-02,  1.5471e-02,  1.6688e-02,  1.7842e-02,  1.8901e-02,\n",
       "         1.9838e-02,  2.0628e-02,  2.1254e-02,  2.1703e-02,  2.1969e-02,\n",
       "         2.2054e-02,  2.1963e-02,  2.1709e-02,  2.1309e-02,  2.0785e-02,\n",
       "         2.0162e-02,  1.9465e-02,  1.8721e-02,  1.7956e-02,  1.7192e-02,\n",
       "         1.6449e-02,  1.5740e-02,  1.5075e-02,  1.4459e-02,  1.3892e-02,\n",
       "         1.3370e-02,  1.2888e-02,  1.2440e-02,  1.2019e-02,  1.1618e-02,\n",
       "         1.1233e-02,  1.0862e-02,  1.0505e-02,  1.0161e-02,  9.8354e-03,\n",
       "         9.5303e-03,  9.2505e-03,  9.0001e-03,  8.7829e-03,  8.6025e-03,\n",
       "         8.4619e-03,  8.3648e-03,  8.3153e-03,  8.3191e-03,  8.3840e-03,\n",
       "         8.5201e-03,  8.7394e-03,  9.0557e-03,  9.4823e-03,  1.0031e-02,\n",
       "         1.0711e-02,  1.1523e-02,  1.2465e-02,  1.3523e-02,  1.4678e-02,\n",
       "         1.5903e-02,  1.7166e-02,  1.8430e-02,  1.9662e-02,  2.0826e-02,\n",
       "         2.1895e-02,  2.2845e-02,  2.3663e-02,  2.4343e-02,  2.4887e-02,\n",
       "         2.5307e-02,  2.5619e-02,  2.5846e-02,  2.6013e-02,  2.6148e-02,\n",
       "         2.6274e-02,  2.6415e-02,  2.6587e-02,  2.6803e-02,  2.7072e-02,\n",
       "         2.7395e-02,  2.7774e-02,  2.8203e-02,  2.8676e-02,  2.9185e-02,\n",
       "         2.9720e-02,  3.0271e-02,  3.0826e-02,  3.1369e-02,  3.1886e-02,\n",
       "         3.2363e-02,  3.2785e-02,  3.3140e-02,  3.3418e-02,  3.3616e-02,\n",
       "         3.3734e-02,  3.3776e-02,  3.3752e-02,  3.3675e-02,  3.3559e-02,\n",
       "         3.3418e-02,  3.3263e-02,  3.3102e-02,  3.2942e-02,  3.2781e-02,\n",
       "         3.2618e-02,  3.2444e-02,  3.2252e-02,  3.2032e-02,  3.1775e-02,\n",
       "         3.1472e-02,  3.1116e-02,  3.0701e-02,  3.0226e-02,  2.9688e-02,\n",
       "         2.9089e-02,  2.8432e-02,  2.7722e-02,  2.6965e-02,  2.6168e-02,\n",
       "         2.5340e-02,  2.4489e-02,  2.3622e-02,  2.2749e-02,  2.1873e-02,\n",
       "         2.1000e-02,  2.0131e-02,  1.9268e-02,  1.8409e-02,  1.7553e-02,\n",
       "         1.6697e-02,  1.5840e-02,  1.4981e-02,  1.4119e-02,  1.3255e-02,\n",
       "         1.2392e-02,  1.1534e-02,  1.0685e-02,  9.8508e-03,  9.0375e-03,\n",
       "         8.2506e-03,  7.4957e-03,  6.7779e-03,  6.1023e-03,  5.4731e-03,\n",
       "         4.8947e-03,  4.3709e-03,  3.9051e-03,  3.5007e-03,  3.1604e-03,\n",
       "         2.8866e-03,  2.6809e-03,  2.5448e-03,  2.4785e-03,  2.4823e-03,\n",
       "         2.5554e-03,  2.6967e-03,  2.9047e-03,  3.1773e-03,  3.5120e-03,\n",
       "         3.9057e-03,  4.3549e-03,  4.8558e-03,  5.4040e-03,  5.9951e-03,\n",
       "         6.6248e-03,  7.2894e-03,  7.9860e-03,  8.7128e-03,  9.4696e-03,\n",
       "         1.0257e-02,  1.1078e-02,  1.1935e-02,  1.2832e-02,  1.3770e-02,\n",
       "         1.4753e-02,  1.5779e-02,  1.6847e-02,  1.7953e-02,  1.9089e-02,\n",
       "         2.0248e-02,  2.1419e-02,  2.2587e-02,  2.3740e-02,  2.4860e-02,\n",
       "         2.5930e-02,  2.6934e-02,  2.7854e-02,  2.8677e-02,  2.9391e-02,\n",
       "         2.9987e-02,  3.0465e-02,  3.0828e-02,  3.1083e-02,  3.1246e-02,\n",
       "         3.1334e-02,  3.1367e-02,  3.1367e-02,  3.1353e-02,  3.1345e-02,\n",
       "         3.1357e-02,  3.1402e-02,  3.1485e-02,  3.1612e-02,  3.1781e-02,\n",
       "         3.1991e-02,  3.2236e-02,  3.2511e-02,  3.2810e-02,  3.3127e-02,\n",
       "         3.3455e-02,  3.3790e-02,  3.4128e-02,  3.4464e-02,  3.4794e-02,\n",
       "         3.5115e-02,  3.5424e-02,  3.5715e-02,  3.5985e-02,  3.6228e-02,\n",
       "         3.6439e-02,  3.6610e-02,  3.6737e-02,  3.6813e-02,  3.6834e-02,\n",
       "         3.6796e-02,  3.6700e-02,  3.6546e-02,  3.6337e-02,  3.6082e-02,\n",
       "         3.5786e-02,  3.5457e-02,  3.5104e-02,  3.4733e-02,  3.4347e-02,\n",
       "         3.3949e-02,  3.3540e-02,  3.3121e-02,  3.2693e-02,  3.2260e-02,\n",
       "         3.1829e-02,  3.1409e-02,  3.1009e-02,  3.0644e-02,  3.0325e-02,\n",
       "         3.0061e-02,  2.9857e-02,  2.9716e-02,  2.9633e-02,  2.9600e-02,\n",
       "         2.9603e-02,  2.9629e-02,  2.9661e-02,  2.9684e-02,  2.9686e-02,\n",
       "         2.9655e-02,  2.9585e-02,  2.9473e-02,  2.9319e-02,  2.9126e-02,\n",
       "         2.8900e-02,  2.8650e-02,  2.8384e-02,  2.8113e-02,  2.7847e-02,\n",
       "         2.7594e-02,  2.7362e-02,  2.7156e-02,  2.6977e-02,  2.6824e-02,\n",
       "         2.6696e-02,  2.6588e-02,  2.6496e-02,  2.6415e-02,  2.6346e-02,\n",
       "         2.6287e-02,  2.6243e-02,  2.6218e-02,  2.6216e-02,  2.6243e-02,\n",
       "         2.6301e-02,  2.6393e-02,  2.6517e-02,  2.6669e-02,  2.6844e-02,\n",
       "         2.7035e-02,  2.7236e-02,  2.7439e-02,  2.7637e-02,  2.7824e-02,\n",
       "         2.7993e-02,  2.8140e-02,  2.8262e-02,  2.8354e-02,  2.8416e-02,\n",
       "         2.8448e-02,  2.8452e-02,  2.8433e-02,  2.8395e-02,  2.8345e-02,\n",
       "         2.8290e-02,  2.8237e-02,  2.8193e-02,  2.8165e-02,  2.8157e-02,\n",
       "         2.8174e-02,  2.8218e-02,  2.8288e-02,  2.8385e-02,  2.8504e-02,\n",
       "         2.8638e-02,  2.8781e-02,  2.8924e-02,  2.9058e-02,  2.9173e-02,\n",
       "         2.9263e-02,  2.9321e-02,  2.9345e-02,  2.9334e-02,  2.9291e-02,\n",
       "         2.9219e-02,  2.9125e-02,  2.9017e-02,  2.8904e-02,  2.8792e-02,\n",
       "         2.8691e-02,  2.8606e-02,  2.8541e-02,  2.8500e-02,  2.8481e-02,\n",
       "         2.8483e-02,  2.8499e-02,  2.8521e-02,  2.8540e-02,  2.8546e-02,\n",
       "         2.8530e-02,  2.8484e-02,  2.8405e-02,  2.8292e-02,  2.8148e-02,\n",
       "         2.7980e-02,  2.7796e-02,  2.7609e-02,  2.7430e-02,  2.7269e-02,\n",
       "         2.7134e-02,  2.7031e-02,  2.6963e-02,  2.6927e-02,  2.6919e-02,\n",
       "         2.6930e-02,  2.6948e-02,  2.6961e-02,  2.6952e-02,  2.6904e-02,\n",
       "         2.6801e-02,  2.6626e-02,  2.6365e-02,  2.6006e-02,  2.5543e-02,\n",
       "         2.4973e-02,  2.4301e-02,  2.3538e-02,  2.2700e-02,  2.1810e-02,\n",
       "         2.0892e-02,  1.9973e-02,  1.9080e-02,  1.8233e-02,  1.7450e-02,\n",
       "         1.6737e-02,  1.6094e-02,  1.5512e-02,  1.4972e-02,  1.4453e-02,\n",
       "         1.3929e-02,  1.3377e-02,  1.2778e-02,  1.2118e-02,  1.1393e-02,\n",
       "         1.0608e-02,  9.7757e-03,  8.9154e-03,  8.0504e-03,  7.2048e-03,\n",
       "         6.4011e-03,  5.6575e-03,  4.9864e-03,  4.3937e-03,  3.8789e-03,\n",
       "         3.4362e-03,  3.0560e-03,  2.7265e-03,  2.4358e-03,  2.1729e-03,\n",
       "         1.9294e-03,  1.6996e-03,  1.4805e-03,  1.2716e-03,  1.0744e-03,\n",
       "         8.9123e-04,  7.2458e-04,  5.7664e-04,  4.4874e-04,  3.4120e-04,\n",
       "         2.5331e-04,  1.8353e-04,  1.2972e-04,  8.9409e-05,  6.0078e-05,\n",
       "         3.9347e-05,  2.5111e-05,  1.5615e-05,  9.4585e-06,  5.5809e-06,\n",
       "         3.2071e-06,  1.7948e-06,  9.7804e-07,  5.1895e-07,  2.6809e-07,\n",
       "         1.3483e-07,  6.6014e-08,  3.1463e-08,  1.4596e-08,  6.5912e-09,\n",
       "         2.8969e-09,  1.2392e-09,  5.1590e-10,  2.0903e-10,  8.2419e-11,\n",
       "         3.1625e-11,  1.1809e-11,  4.2907e-12,  1.5171e-12,  5.2193e-13,\n",
       "         1.7472e-13,  5.6912e-14,  1.8037e-14,  5.5620e-15,  1.6688e-15,\n",
       "         4.8712e-16,  1.3835e-16,  3.8227e-17,  1.0276e-17,  2.6876e-18,\n",
       "         6.8383e-19,  1.6927e-19,  4.0763e-20,  9.5496e-21,  2.1764e-21,\n",
       "         4.8253e-22,  1.0407e-22,  2.1836e-23,  4.4569e-24,  8.8491e-25,\n",
       "         1.7091e-25,  3.2112e-26,  5.8689e-27,  1.0434e-27,  1.8044e-28,\n",
       "         3.0355e-29,  4.9671e-30,  7.9062e-31,  1.2241e-31,  1.8435e-32,\n",
       "         2.7007e-33,  3.8482e-34,  5.3338e-35,  7.1908e-36,  9.4296e-37,\n",
       "         1.2028e-37,  1.4922e-38,  1.8008e-39,  2.1137e-40,  2.4132e-41,\n",
       "         2.6798e-42,  2.8944e-43,  3.0408e-44,  3.1072e-45,  3.0882e-46,\n",
       "         2.9853e-47,  2.8069e-48,  2.5669e-49,  2.2832e-50,  1.9753e-51,\n",
       "         1.6621e-52,  1.3603e-53,  1.0828e-54,  8.3836e-56,  6.3130e-57,\n",
       "         4.6236e-58,  3.2936e-59,  2.2819e-60,  1.5377e-61,  1.0078e-62,\n",
       "         6.4239e-64,  3.9826e-65,  2.4015e-66,  1.4084e-67,  8.0333e-69,\n",
       "         4.4566e-70,  2.4046e-71,  1.2619e-72,  6.4403e-74,  3.1970e-75,\n",
       "         1.5435e-76,  7.2475e-78,  3.3098e-79,  1.4701e-80,  6.3506e-82,\n",
       "         2.6681e-83,  1.0903e-84,  4.3329e-86,  1.6748e-87,  6.2957e-89,\n",
       "         2.3018e-90,  8.1849e-92,  2.8306e-93,  9.5207e-95,  3.1144e-96,\n",
       "         9.9086e-98,  3.0660e-99, 9.2266e-101, 2.7005e-102, 7.6870e-104,\n",
       "        2.1281e-105, 5.7300e-107, 1.5005e-108])"
      ]
     },
     "execution_count": 212,
     "metadata": {},
     "output_type": "execute_result"
    }
   ],
   "source": [
    "ldos[0]"
   ]
  },
  {
   "cell_type": "code",
   "execution_count": 154,
   "id": "0d021141",
   "metadata": {
    "ExecuteTime": {
     "end_time": "2023-02-14T12:47:02.295618Z",
     "start_time": "2023-02-14T12:33:29.004700Z"
    }
   },
   "outputs": [
    {
     "name": "stderr",
     "output_type": "stream",
     "text": [
      "100%|██████████████████████████████████████████████████████████████████████████████████████████████████████████████████████████████████████████████████████████████████| 1039/1039 [13:33<00:00,  1.28it/s]\n"
     ]
    }
   ],
   "source": [
    "sigma = torch.tensor(0.3)\n",
    "dx = 0.05\n",
    "\n",
    "ndos = int((emax-emin+3) / dx) #number of points\n",
    "xdos = torch.linspace(emin-1.5, emax+1.5, ndos) # extend the energy grid by 3eV \n",
    "ldos = torch.zeros((len(full_eigen_energies), ndos))\n",
    "for i in tqdm(range(len(full_eigen_energies))):#for every structure    \n",
    "    for ei in full_eigen_energies[i]:#for every energy level\n",
    "        ldos[i] += torch.exp(-0.5*((xdos[:]-ei)/sigma)**2) #puts a gaussian centered on the energy level\n",
    "    ldos[i] *= 1/torch.sqrt(2*torch.tensor(np.pi)*sigma**2)/n_atoms[i]/len(full_eigen_energies[i]) #normalize"
   ]
  },
  {
   "cell_type": "code",
   "execution_count": 181,
   "id": "f7fd98cd",
   "metadata": {
    "ExecuteTime": {
     "end_time": "2023-02-14T13:14:29.018511Z",
     "start_time": "2023-02-14T13:00:48.948943Z"
    }
   },
   "outputs": [
    {
     "name": "stderr",
     "output_type": "stream",
     "text": [
      "100%|██████████████████████████████████████████████████████████████████████████████████████████████████████████████████████████████████████████████████████████████████| 1039/1039 [13:40<00:00,  1.27it/s]\n"
     ]
    }
   ],
   "source": [
    "sigma = torch.tensor(0.3)\n",
    "dx = 0.05\n",
    "\n",
    "ndos3 = int((emax-emin+3) / dx) #number of points\n",
    "xdos3 = torch.linspace(emin-1.5, emax+1.5, ndos) # extend the energy grid by 3eV \n",
    "ldos3 = torch.zeros((len(full_eigen_energies), ndos))\n",
    "for i in tqdm(range(len(eigen_energies))):#for every structure    \n",
    "    for ei in full_eigen_energies[i]:#for every energy level\n",
    "        ldos3[i] += torch.exp(-0.5*((xdos[:]-ei)/sigma)**2) #puts a gaussian centered on the energy level\n",
    "    ldos3[i] *= 1/torch.sqrt(2*np.pi*sigma**2)/n_atoms[i]/len(eigen_energies[i]) #normalize"
   ]
  },
  {
   "cell_type": "code",
   "execution_count": 139,
   "id": "c9f7e311",
   "metadata": {
    "ExecuteTime": {
     "end_time": "2023-02-13T19:02:53.046358Z",
     "start_time": "2023-02-13T19:02:52.696381Z"
    }
   },
   "outputs": [
    {
     "name": "stdout",
     "output_type": "stream",
     "text": [
      "SOAP PCA explained variance with 1 PCA is: [0.85417772]\n",
      "Kernel PCA explained variance with 1 PCA is: [0.76640756]\n"
     ]
    }
   ],
   "source": [
    "from sklearn.decomposition import PCA\n",
    "\n",
    "soap = Silicon.Features['structure_avedescriptors'] \n",
    "soap_pca = PCA(n_components = 1, svd_solver = \"full\")\n",
    "soap_pca.fit(soap)\n",
    "\n",
    "print (\"SOAP PCA explained variance with 1 PCA is: {}\".format(soap_pca.explained_variance_ratio_))\n",
    "\n",
    "PCA_soap = soap_pca.transform(soap)\n",
    "\n",
    "kernel = Silicon.Features['structure_avekerneldescriptors']\n",
    "kernel_pca = PCA(n_components = 1, svd_solver = \"full\")\n",
    "kernel_pca.fit(kernel)\n",
    "\n",
    "print (\"Kernel PCA explained variance with 1 PCA is: {}\".format(kernel_pca.explained_variance_ratio_))\n",
    "\n",
    "PCA_kernel = kernel_pca.transform(kernel)"
   ]
  },
  {
   "cell_type": "code",
   "execution_count": 146,
   "id": "110f93f1",
   "metadata": {
    "ExecuteTime": {
     "end_time": "2023-02-13T19:05:58.302764Z",
     "start_time": "2023-02-13T19:05:58.288914Z"
    }
   },
   "outputs": [
    {
     "data": {
      "text/plain": [
       "array([[-3.49913423e-03, -1.76411215e-02,  3.32522948e-02,\n",
       "         3.61629233e-01,  1.87222390e-01,  7.49472932e-02,\n",
       "         7.73753721e-02,  2.89413546e-02, -1.76411215e-02,\n",
       "         7.01613627e-04, -6.64714922e-03, -1.96539716e-02,\n",
       "        -1.21993389e-02, -6.67081254e-03, -4.36700539e-03,\n",
       "        -1.68577363e-03,  3.32522948e-02, -6.64714922e-03,\n",
       "         2.20352739e-02,  1.41889410e-01,  7.26851954e-02,\n",
       "         3.15241013e-02,  2.88627511e-02,  1.08549650e-02,\n",
       "         3.61629233e-01, -1.96539716e-02,  1.41889410e-01,\n",
       "         4.92546963e-01,  2.89406316e-01,  1.51981690e-01,\n",
       "         1.06534352e-01,  4.10607729e-02,  1.87222390e-01,\n",
       "        -1.21993389e-02,  7.26851954e-02,  2.89406316e-01,\n",
       "         1.62030561e-01,  8.08235013e-02,  6.02749031e-02,\n",
       "         2.31914869e-02,  7.49472932e-02, -6.67081254e-03,\n",
       "         3.15241013e-02,  1.51981690e-01,  8.08235013e-02,\n",
       "         3.70043392e-02,  3.02939232e-02,  1.15274716e-02,\n",
       "         7.73753721e-02, -4.36700539e-03,  2.88627511e-02,\n",
       "         1.06534352e-01,  6.02749031e-02,  3.02939232e-02,\n",
       "         2.17846734e-02,  8.37328373e-03,  2.89413546e-02,\n",
       "        -1.68577363e-03,  1.08549650e-02,  4.10607729e-02,\n",
       "         2.31914869e-02,  1.15274716e-02,  8.37328373e-03,\n",
       "         3.21169845e-03, -2.42678062e-05,  5.11123332e-05,\n",
       "        -3.53316626e-04, -5.69486606e-04, -3.00272506e-04,\n",
       "        -2.40257378e-04, -8.47122357e-05, -3.94519317e-05,\n",
       "         5.11123332e-05, -1.69061333e-04,  8.91359912e-04,\n",
       "         1.52903701e-03,  7.98658394e-04,  5.79778184e-04,\n",
       "         1.83320028e-04,  8.26635902e-05, -3.53316626e-04,\n",
       "         8.91359912e-04, -5.43889188e-03, -9.33776686e-03,\n",
       "        -5.16824236e-03, -3.94312423e-03, -1.41001255e-03,\n",
       "        -6.45440361e-04, -5.69486606e-04,  1.52903701e-03,\n",
       "        -9.33776686e-03, -1.70537584e-02, -9.57630675e-03,\n",
       "        -6.39819664e-03, -2.20517209e-03, -9.70570198e-04,\n",
       "        -3.00272506e-04,  7.98658394e-04, -5.16824236e-03,\n",
       "        -9.57630675e-03, -6.90821221e-03, -4.72774768e-03,\n",
       "        -1.80610336e-03, -7.53570430e-04, -2.40257378e-04,\n",
       "         5.79778184e-04, -3.94312423e-03, -6.39819664e-03,\n",
       "        -4.72774768e-03, -3.68062261e-03, -1.42088201e-03,\n",
       "        -6.01509578e-04, -8.47122357e-05,  1.83320028e-04,\n",
       "        -1.41001255e-03, -2.20517209e-03, -1.80610336e-03,\n",
       "        -1.42088201e-03, -5.76636427e-04, -2.39698375e-04,\n",
       "        -3.94519317e-05,  8.26635902e-05, -6.45440361e-04,\n",
       "        -9.70570198e-04, -7.53570430e-04, -6.01509578e-04,\n",
       "        -2.39698375e-04, -1.00730273e-04, -8.58758363e-06,\n",
       "         3.54320192e-05, -1.33048376e-04, -4.02508982e-04,\n",
       "        -9.06240701e-05,  1.25316756e-05,  6.69886108e-06,\n",
       "        -3.79706680e-06,  3.54320192e-05, -4.69333435e-05,\n",
       "         6.44297922e-04,  4.61774643e-04,  2.24269773e-04,\n",
       "        -3.27066608e-05, -1.11055172e-05,  8.79788855e-06,\n",
       "        -1.33048376e-04,  6.44297922e-04, -2.00324396e-03,\n",
       "        -6.23215987e-03, -1.12522536e-03, -3.43541622e-06,\n",
       "         1.58350714e-04, -2.30601944e-05, -4.02508982e-04,\n",
       "         4.61774643e-04, -6.23215987e-03, -5.40760398e-03,\n",
       "        -1.82666612e-03, -4.18024769e-05,  2.30771920e-04,\n",
       "        -2.17776046e-05, -9.06240701e-05,  2.24269773e-04,\n",
       "        -1.12522536e-03, -1.82666612e-03, -3.44104695e-04,\n",
       "        -8.42776342e-04, -8.02835618e-06,  2.13334142e-05,\n",
       "         1.25316756e-05, -3.27066608e-05, -3.43541622e-06,\n",
       "        -4.18024769e-05, -8.42776342e-04, -4.37251369e-04,\n",
       "        -2.51613975e-04, -9.74882526e-05,  6.69886108e-06,\n",
       "        -1.11055172e-05,  1.58350714e-04,  2.30771920e-04,\n",
       "        -8.02835618e-06, -2.51613975e-04, -8.49561794e-05,\n",
       "        -2.61261272e-05, -3.79706680e-06,  8.79788855e-06,\n",
       "        -2.30601944e-05, -2.17776046e-05,  2.13334142e-05,\n",
       "        -9.74882526e-05, -2.61261272e-05, -8.82993811e-06,\n",
       "        -1.36932787e-04,  3.14708918e-04, -2.45644041e-03,\n",
       "        -4.91953300e-03, -9.45603141e-04,  4.32227611e-04,\n",
       "         1.70934099e-04,  1.82215577e-05,  3.14708918e-04,\n",
       "        -7.39813355e-04,  5.39783324e-03,  1.00309471e-02,\n",
       "         1.77314627e-03, -7.10253863e-04, -3.82378572e-04,\n",
       "        -4.25116022e-05, -2.45644041e-03,  5.39783324e-03,\n",
       "        -4.06359761e-02, -7.10010143e-02, -1.12217390e-02,\n",
       "         5.20759821e-03,  2.69665377e-03,  1.12269107e-04,\n",
       "        -4.91953300e-03,  1.00309471e-02, -7.10010143e-02,\n",
       "        -9.03459590e-02, -5.51929567e-03,  2.30618802e-03,\n",
       "         4.41800631e-03, -2.48145527e-04, -9.45603141e-04,\n",
       "         1.77314627e-03, -1.12217390e-02, -5.51929567e-03,\n",
       "         2.20724073e-03, -1.90025875e-03,  4.85091238e-04,\n",
       "        -2.30001097e-04,  4.32227611e-04, -7.10253863e-04,\n",
       "         5.20759821e-03,  2.30618802e-03, -1.90025875e-03,\n",
       "        -1.47095066e-04, -3.85901561e-04,  7.76001765e-05,\n",
       "         1.70934099e-04, -3.82378572e-04,  2.69665377e-03,\n",
       "         4.41800631e-03,  4.85091238e-04, -3.85901561e-04,\n",
       "        -2.27680329e-04, -1.73486176e-05,  1.82215577e-05,\n",
       "        -4.25116022e-05,  1.12269107e-04, -2.48145527e-04,\n",
       "        -2.30001097e-04,  7.76001765e-05, -1.73486176e-05,\n",
       "         4.65229984e-06,  3.17205927e-04, -8.76536785e-04,\n",
       "         3.50296059e-03,  4.71843202e-03, -2.69920876e-03,\n",
       "         1.43909137e-04, -9.16594629e-05,  1.13397437e-04,\n",
       "        -8.76536785e-04,  2.45432174e-03, -9.84106713e-03,\n",
       "        -1.39200745e-02,  6.91016052e-03, -3.64375614e-04,\n",
       "         2.88172028e-04, -3.00361411e-04,  3.50296059e-03,\n",
       "        -9.84106713e-03,  3.74407831e-02,  5.06135592e-02,\n",
       "        -3.43059449e-02,  1.25872089e-03, -6.90009087e-04,\n",
       "         1.44113709e-03,  4.71843202e-03, -1.39200745e-02,\n",
       "         5.06135592e-02,  7.61404092e-02, -4.66312567e-02,\n",
       "         1.01025823e-03, -8.37839837e-04,  2.07138845e-03,\n",
       "        -2.69920876e-03,  6.91016052e-03, -3.43059449e-02,\n",
       "        -4.66312567e-02,  6.76587152e-03, -2.70728159e-03,\n",
       "         1.78997504e-03, -3.28286014e-04,  1.43909137e-04,\n",
       "        -3.64375614e-04,  1.25872089e-03,  1.01025823e-03,\n",
       "        -2.70728159e-03, -4.12028445e-04, -8.67012673e-05,\n",
       "         5.88660250e-05, -9.16594629e-05,  2.88172028e-04,\n",
       "        -6.90009087e-04, -8.37839837e-04,  1.78997504e-03,\n",
       "        -8.67012673e-05, -1.03002646e-04, -9.94709926e-05,\n",
       "         1.13397437e-04, -3.00361411e-04,  1.44113709e-03,\n",
       "         2.07138845e-03, -3.28286014e-04,  5.88660250e-05,\n",
       "        -9.94709926e-05,  5.47791295e-06,  2.69703453e-05,\n",
       "        -1.10821617e-04,  4.41077242e-04,  1.23213413e-03,\n",
       "         1.50384057e-05, -1.15836237e-04,  1.38452625e-05,\n",
       "         2.04876918e-05, -1.10821617e-04,  4.22802069e-04,\n",
       "        -1.72640876e-03, -4.46305808e-03,  9.17482665e-06,\n",
       "         3.79278770e-04, -2.60887171e-05, -7.11566938e-05,\n",
       "         4.41077242e-04, -1.72640876e-03,  7.03149316e-03,\n",
       "         1.87433195e-02, -1.58944095e-04, -1.84394597e-03,\n",
       "         1.64785462e-04,  3.17329064e-04,  1.23213413e-03,\n",
       "        -4.46305808e-03,  1.87433195e-02,  4.53418297e-02,\n",
       "        -8.67120540e-04, -3.81488630e-03,  8.44223976e-05,\n",
       "         7.13357786e-04,  1.50384057e-05,  9.17482665e-06,\n",
       "        -1.58944095e-04, -8.67120540e-04, -2.30985229e-03,\n",
       "        -1.13637796e-03, -1.09402371e-04,  4.47829321e-05,\n",
       "        -1.15836237e-04,  3.79278770e-04, -1.84394597e-03,\n",
       "        -3.81488630e-03, -1.13637796e-03, -5.18684389e-04,\n",
       "        -6.37093505e-05, -4.47195135e-05,  1.38452625e-05,\n",
       "        -2.60887171e-05,  1.64785462e-04,  8.44223976e-05,\n",
       "        -1.09402371e-04, -6.37093505e-05, -5.49075207e-05,\n",
       "        -1.44111513e-05,  2.04876918e-05, -7.11566938e-05,\n",
       "         3.17329064e-04,  7.13357786e-04,  4.47829321e-05,\n",
       "        -4.47195135e-05, -1.44111513e-05,  3.71990815e-06,\n",
       "        -8.84232851e-05,  2.13432424e-04, -1.05365352e-03,\n",
       "        -1.28227484e-03,  1.03529794e-03,  4.26027676e-04,\n",
       "         1.97772524e-04,  3.48733255e-05,  2.13432424e-04,\n",
       "        -3.84820427e-04,  2.14430254e-03,  5.43098790e-04,\n",
       "        -3.77062969e-03, -9.54267572e-04, -4.48106798e-04,\n",
       "        -8.23291730e-05, -1.05365352e-03,  2.14430254e-03,\n",
       "        -1.11990161e-02, -7.06210927e-03,  1.65057707e-02,\n",
       "         4.76842957e-03,  2.22422284e-03,  3.92803788e-04,\n",
       "        -1.28227484e-03,  5.43098790e-04, -7.06210927e-03,\n",
       "         3.26782253e-02,  4.05656950e-02,  4.51914962e-03,\n",
       "         2.11034472e-03,  3.70105452e-04,  1.03529794e-03,\n",
       "        -3.77062969e-03,  1.65057707e-02,  4.05656950e-02,\n",
       "         1.45538059e-04, -6.85922464e-03, -2.82650992e-03,\n",
       "        -4.43771147e-04,  4.26027676e-04, -9.54267572e-04,\n",
       "         4.76842957e-03,  4.51914962e-03, -6.85922464e-03,\n",
       "        -3.18102152e-03, -1.14176178e-03, -1.75230454e-04,\n",
       "         1.97772524e-04, -4.48106798e-04,  2.22422284e-03,\n",
       "         2.11034472e-03, -2.82650992e-03, -1.14176178e-03,\n",
       "        -4.65548759e-04, -7.20415672e-05,  3.48733255e-05,\n",
       "        -8.23291730e-05,  3.92803788e-04,  3.70105452e-04,\n",
       "        -4.43771147e-04, -1.75230454e-04, -7.20415672e-05,\n",
       "        -7.51907251e-06]])"
      ]
     },
     "execution_count": 146,
     "metadata": {},
     "output_type": "execute_result"
    }
   ],
   "source": [
    "soap_pca.components_"
   ]
  },
  {
   "cell_type": "markdown",
   "id": "30c25902",
   "metadata": {},
   "source": [
    "## Baseline Model (SOAP)"
   ]
  },
  {
   "cell_type": "code",
   "execution_count": 325,
   "id": "3b29440b",
   "metadata": {
    "ExecuteTime": {
     "end_time": "2023-02-21T19:02:24.430143Z",
     "start_time": "2023-02-21T19:02:24.150335Z"
    }
   },
   "outputs": [
    {
     "name": "stdout",
     "output_type": "stream",
     "text": [
      "tensor(0.0613)\n",
      "tensor(0.0636)\n"
     ]
    }
   ],
   "source": [
    "from sklearn.linear_model import Ridge\n",
    "from dostools.loss import loss\n",
    "from dostools.consistency import consistency\n",
    "\n",
    "Features = copy.deepcopy(PCA_kernel)\n",
    "o_ldos = torch.tensor(data.load_ldos())\n",
    "o_ldos *= 2\n",
    "y_pw = o_ldos# - o_ldos[train_index].mean(axis = 0)\n",
    "y_shifted = copy.deepcopy(y_pw)\n",
    "#y_shifted = consistency.shifted_ldos()\n",
    "\n",
    "baselinemodel = Ridge(alpha = 0, fit_intercept = True, solver = 'svd')\n",
    "\n",
    "x = Features[train_index]\n",
    "y = y_shifted[train_index]\n",
    "\n",
    "baselinemodel.fit(x,y)\n",
    "\n",
    "baseline_predictions = baselinemodel.predict(x)\n",
    "train_rmse = loss.t_get_rmse(torch.tensor(baseline_predictions), y)\n",
    "\n",
    "# small_test_index = torch.arange(1039)\n",
    "# small_test_index[small_index] = False\n",
    "# small_test_index = small_test_index.nonzero().flatten()\n",
    "\n",
    "\n",
    "baseline_test_predictions = baselinemodel.predict(Features[test_index])\n",
    "test_rmse = loss.t_get_rmse(torch.tensor(baseline_test_predictions), y_shifted[test_index])\n",
    "\n",
    "print(train_rmse)\n",
    "print(test_rmse)"
   ]
  },
  {
   "cell_type": "markdown",
   "id": "ec309322",
   "metadata": {},
   "source": [
    "## Misc Visualizations"
   ]
  },
  {
   "cell_type": "code",
   "execution_count": 326,
   "id": "021bfb0e",
   "metadata": {
    "ExecuteTime": {
     "end_time": "2023-02-21T19:05:40.302401Z",
     "start_time": "2023-02-21T19:05:39.368377Z"
    }
   },
   "outputs": [
    {
     "data": {
      "text/plain": [
       "[<matplotlib.lines.Line2D at 0x7f6e384d7370>]"
      ]
     },
     "execution_count": 326,
     "metadata": {},
     "output_type": "execute_result"
    },
    {
     "data": {
      "image/png": "[encoded data removed]",
      "text/plain": [
       "<Figure size 432x288 with 1 Axes>"
      ]
     },
     "metadata": {
      "needs_background": "light"
     },
     "output_type": "display_data"
    }
   ],
   "source": [
    "plt.plot(xdos, ldos[700])"
   ]
  },
  {
   "cell_type": "code",
   "execution_count": 194,
   "id": "2dbe25a0",
   "metadata": {
    "ExecuteTime": {
     "end_time": "2023-02-21T15:10:19.556678Z",
     "start_time": "2023-02-21T15:10:18.772098Z"
    }
   },
   "outputs": [
    {
     "data": {
      "text/plain": [
       "<matplotlib.collections.PathCollection at 0x7f6e3a747850>"
      ]
     },
     "execution_count": 194,
     "metadata": {},
     "output_type": "execute_result"
    },
    {
     "data": {
      "image/png": "[encoded data removed]",
      "text/plain": [
       "<Figure size 432x288 with 1 Axes>"
      ]
     },
     "metadata": {
      "needs_background": "light"
     },
     "output_type": "display_data"
    }
   ],
   "source": [
    "plt.plot(np.array([1,0.5,0.1,0.05,0.01,0.001]), np.array([0.6768, 0.0426, 0.0079, 0.0036, 0.0019, 0.0017]))\n",
    "plt.scatter(np.array([1,0.5,0.1,0.05,0.01,0.001]), np.array([0.6768, 0.0426, 0.0079, 0.0036, 0.0019, 0.0017]))"
   ]
  },
  {
   "cell_type": "code",
   "execution_count": null,
   "id": "3db48976",
   "metadata": {},
   "outputs": [],
   "source": [
    "1\n",
    "tensor(24)\n",
    "tensor(0.6768)\n",
    "\n",
    "5E-1\n",
    "tensor(49)\n",
    "tensor(0.0426)\n",
    "\n",
    "\n",
    "1E-1\n",
    "tensor(245)\n",
    "tensor(0.0079)\n",
    "\n",
    "5E-2\n",
    "tensor(484)\n",
    "tensor(0.0036)\n",
    "\n",
    "1E-2 \n",
    "tensor(2149)\n",
    "tensor(0.0019)\n",
    "\n",
    "1E-3\n",
    "tensor(7013)\n",
    "tensor(0.0017)"
   ]
  }
 ],
 "metadata": {
  "kernelspec": {
   "display_name": "Python 3 (ipykernel)",
   "language": "python",
   "name": "python3"
  },
  "language_info": {
   "codemirror_mode": {
    "name": "ipython",
    "version": 3
   },
   "file_extension": ".py",
   "mimetype": "text/x-python",
   "name": "python",
   "nbconvert_exporter": "python",
   "pygments_lexer": "ipython3",
   "version": "3.9.12"
  },
  "toc": {
   "base_numbering": 1,
   "nav_menu": {},
   "number_sections": true,
   "sideBar": true,
   "skip_h1_title": false,
   "title_cell": "Table of Contents",
   "title_sidebar": "Contents",
   "toc_cell": false,
   "toc_position": {
    "height": "calc(100% - 180px)",
    "left": "10px",
    "top": "150px",
    "width": "165px"
   },
   "toc_section_display": true,
   "toc_window_display": true
  }
 },
 "nbformat": 4,
 "nbformat_minor": 5
}
