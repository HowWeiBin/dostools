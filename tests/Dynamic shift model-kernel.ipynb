{
 "cells": [
  {
   "cell_type": "markdown",
   "id": "84565b74",
   "metadata": {
    "hide_input": false
   },
   "source": [
    "## Imports"
   ]
  },
  {
   "cell_type": "code",
   "execution_count": 1,
   "id": "dfdaeca7",
   "metadata": {
    "ExecuteTime": {
     "end_time": "2023-02-22T17:42:21.482622Z",
     "start_time": "2023-02-22T17:42:17.124549Z"
    }
   },
   "outputs": [],
   "source": [
    "import dostools\n",
    "import importlib\n",
    "import numpy as np\n",
    "import pickle\n",
    "import torch\n",
    "import sys\n",
    "import matplotlib.pyplot as plt\n",
    "import copy\n",
    "from tqdm import tqdm\n",
    "import matplotlib\n",
    "import time\n",
    "torch.set_default_dtype(torch.float64) \n",
    "%matplotlib notebook\n",
    "matplotlib.rcParams['figure.figsize'] = (10, 10)"
   ]
  },
  {
   "cell_type": "code",
   "execution_count": 2,
   "id": "7ccbf26d",
   "metadata": {
    "ExecuteTime": {
     "end_time": "2023-02-22T17:42:25.934872Z",
     "start_time": "2023-02-22T17:42:21.484759Z"
    }
   },
   "outputs": [
    {
     "name": "stdout",
     "output_type": "stream",
     "text": [
      "ldos shape is torch.Size([1039, 778])\n",
      "mean dos shape is torch.Size([778])\n",
      "Variance covered with 10 PCs is = 0.9871211778950163\n"
     ]
    }
   ],
   "source": [
    "import dostools.datasets.data as data\n",
    "import dostools.utils.utils as utils\n",
    "\n",
    "n_structures = 1039\n",
    "np.random.seed(0)\n",
    "n_train = int(0.8 * n_structures)\n",
    "train_index = np.arange(n_structures)\n",
    "np.random.shuffle(train_index)\n",
    "test_index = train_index[n_train:]\n",
    "train_index = train_index[:n_train]\n",
    "\n",
    "with torch.no_grad():\n",
    "    structures = data.load_structures(\":\")\n",
    "    n_structures = len(structures) #total number of structures\n",
    "    for structure in structures:#implement periodicity\n",
    "        structure.wrap(eps = 1e-12) \n",
    "    n_atoms = np.zeros(n_structures, dtype = int) #stores number of atoms in each structures\n",
    "    for i in range(n_structures):\n",
    "        n_atoms[i] = len(structures[i])\n",
    "\n",
    "    #eigenergies, emin, emax = dostools.src.datasets.data.load_eigenenergies(unpack = True, n_structures = len(structures))\n",
    "    xdos = torch.tensor(data.load_xdos())\n",
    "    ldos = torch.tensor(data.load_ldos())\n",
    "    ldos *= 2\n",
    "\n",
    "    print (\"ldos shape is {}\".format(ldos.shape))\n",
    "    mean_dos_per_atom = ldos[train_index].mean(axis = 0) #only calculated for train set to prevent data leakage\n",
    "    print (\"mean dos shape is {}\".format(mean_dos_per_atom.shape))\n",
    "    \n",
    "    \n",
    "    y_pw = ldos - mean_dos_per_atom\n",
    "    y_lcdf = torch.cumsum(y_pw, dim = 1)\n",
    "    _, pc_vectors = utils.build_pc(ldos[train_index], mean_dos_per_atom[None,:], n_pc = 10)\n",
    "    y_pc = utils.build_coeffs(ldos - mean_dos_per_atom[None,:], pc_vectors)\n",
    "    Silicon = data.load_features()\n",
    "    kMM = data.load_kMM()"
   ]
  },
  {
   "cell_type": "code",
   "execution_count": 3,
   "id": "c7a83067",
   "metadata": {
    "ExecuteTime": {
     "end_time": "2023-02-22T17:42:36.781608Z",
     "start_time": "2023-02-22T17:42:25.937718Z"
    }
   },
   "outputs": [
    {
     "name": "stdout",
     "output_type": "stream",
     "text": [
      "This file contains the eigenenergies and their corresponding kpoints of the training Silicon structures generated using DFT PBE as implemented in FHI-AIMS version 171221_1 with the ``tight'' settings\n"
     ]
    }
   ],
   "source": [
    "importlib.reload(data)\n",
    "eigen_energies, emin, emax = data.load_eigenenergies(unpack = True, n_structures = n_structures)"
   ]
  },
  {
   "cell_type": "code",
   "execution_count": 4,
   "id": "dccbde1a",
   "metadata": {
    "ExecuteTime": {
     "end_time": "2023-02-22T17:42:36.794748Z",
     "start_time": "2023-02-22T17:42:36.788407Z"
    }
   },
   "outputs": [
    {
     "name": "stdout",
     "output_type": "stream",
     "text": [
      "-24.553719539983\n"
     ]
    }
   ],
   "source": [
    "print (emin)"
   ]
  },
  {
   "cell_type": "code",
   "execution_count": 5,
   "id": "c4132d76",
   "metadata": {
    "ExecuteTime": {
     "end_time": "2023-02-22T17:42:36.808955Z",
     "start_time": "2023-02-22T17:42:36.797434Z"
    }
   },
   "outputs": [
    {
     "name": "stdout",
     "output_type": "stream",
     "text": [
      "11.346414696331\n"
     ]
    }
   ],
   "source": [
    "print (emax)"
   ]
  },
  {
   "cell_type": "code",
   "execution_count": 6,
   "id": "8001a4d6",
   "metadata": {
    "ExecuteTime": {
     "end_time": "2023-02-22T17:42:36.822519Z",
     "start_time": "2023-02-22T17:42:36.811779Z"
    }
   },
   "outputs": [],
   "source": [
    "# gb = 0.3 #eV\n",
    "# dE = 0.05 #eV\n",
    "\n",
    "# # build the DOS of the dataset, \n",
    "# # normalized by number of atoms and number of eigenvalues\n",
    "# xdos2, ldos2 = utils.build_dos(gb, eigen_energies, dE, emin, emax, n_atoms) #sigma, eigenvalues, dx, emin, emax\n",
    "\n",
    "# xdos2_tensor = torch.tensor(xdos2)\n",
    "# ldos2 *= 2\n",
    "# ldos2 = torch.tensor(ldos2)"
   ]
  },
  {
   "cell_type": "markdown",
   "id": "459624a6",
   "metadata": {},
   "source": []
  },
  {
   "cell_type": "code",
   "execution_count": null,
   "id": "eeb115b1",
   "metadata": {
    "ExecuteTime": {
     "end_time": "2023-02-15T21:18:14.754862Z",
     "start_time": "2023-02-15T21:18:14.002114Z"
    }
   },
   "outputs": [],
   "source": []
  },
  {
   "cell_type": "code",
   "execution_count": null,
   "id": "c2b15734",
   "metadata": {
    "ExecuteTime": {
     "end_time": "2023-02-15T21:18:14.763222Z",
     "start_time": "2023-02-15T21:18:14.756960Z"
    }
   },
   "outputs": [],
   "source": []
  },
  {
   "cell_type": "code",
   "execution_count": null,
   "id": "a09ca373",
   "metadata": {
    "ExecuteTime": {
     "end_time": "2023-02-15T21:18:14.785247Z",
     "start_time": "2023-02-15T21:18:14.765407Z"
    }
   },
   "outputs": [],
   "source": []
  },
  {
   "cell_type": "markdown",
   "id": "9e0652c3",
   "metadata": {},
   "source": [
    "## Features PCA"
   ]
  },
  {
   "cell_type": "code",
   "execution_count": 7,
   "id": "35332a42",
   "metadata": {
    "ExecuteTime": {
     "end_time": "2023-02-22T17:42:37.491999Z",
     "start_time": "2023-02-22T17:42:36.825313Z"
    }
   },
   "outputs": [
    {
     "name": "stdout",
     "output_type": "stream",
     "text": [
      "SOAP PCA explained variance with 1 PCA is: [0.85417772]\n",
      "Kernel PCA explained variance with 1 PCA is: [0.76640756]\n"
     ]
    }
   ],
   "source": [
    "from sklearn.decomposition import PCA\n",
    "\n",
    "soap = Silicon.Features['structure_avedescriptors'] \n",
    "soap_pca = PCA(n_components = 1, svd_solver = \"full\")\n",
    "soap_pca.fit(soap)\n",
    "\n",
    "print (\"SOAP PCA explained variance with 1 PCA is: {}\".format(soap_pca.explained_variance_ratio_))\n",
    "\n",
    "PCA_soap = soap_pca.transform(soap)\n",
    "\n",
    "kernel = Silicon.Features['structure_avekerneldescriptors']\n",
    "kernel_pca = PCA(n_components = 1, svd_solver = \"full\")\n",
    "kernel_pca.fit(kernel)\n",
    "\n",
    "print (\"Kernel PCA explained variance with 1 PCA is: {}\".format(kernel_pca.explained_variance_ratio_))\n",
    "\n",
    "PCA_kernel = kernel_pca.transform(kernel)"
   ]
  },
  {
   "cell_type": "markdown",
   "id": "09757efc",
   "metadata": {},
   "source": [
    "## Translation invariant Loss function"
   ]
  },
  {
   "cell_type": "code",
   "execution_count": 8,
   "id": "fea8a204",
   "metadata": {
    "ExecuteTime": {
     "end_time": "2023-02-22T17:42:37.508283Z",
     "start_time": "2023-02-22T17:42:37.493949Z"
    }
   },
   "outputs": [],
   "source": [
    "import dostools.loss.loss as loss\n",
    "\n",
    "# importlib.reload(loss)\n",
    "# with torch.no_grad():\n",
    "#     shift_range = torch.tensor([0.05 * a for a in torch.arange(-5,5)])\n",
    "#     #shift_range = torch.tensor([0])\n",
    "#     a = loss.t_get_BF_shift_rmse(reconstructed_ldos_t, ldos, shift_range, xdos, perc = True)\n",
    "#     print (a)"
   ]
  },
  {
   "cell_type": "code",
   "execution_count": 9,
   "id": "3af34687",
   "metadata": {
    "ExecuteTime": {
     "end_time": "2023-02-22T17:42:37.512212Z",
     "start_time": "2023-02-22T17:42:37.510058Z"
    }
   },
   "outputs": [],
   "source": [
    "# z = (torch.sum((structure_coefficients_t[train_index].view(1, 831, 687) * (torch.exp(-0.5*((alignment.view(1,-1,1) + xdos.view(-1,1,1) - structure_eigvals_t[train_index])/sigma)**2))), dim = 2)).T * normalization[train_index].view(-1,1) * 2\n"
   ]
  },
  {
   "cell_type": "markdown",
   "id": "4ff86aaf",
   "metadata": {},
   "source": [
    "## Dataset and Dataloader"
   ]
  },
  {
   "cell_type": "code",
   "execution_count": 10,
   "id": "b4c2dddc",
   "metadata": {
    "ExecuteTime": {
     "end_time": "2023-02-22T17:42:37.761750Z",
     "start_time": "2023-02-22T17:42:37.514850Z"
    }
   },
   "outputs": [],
   "source": [
    "structure_coefficients_t = torch.load('structure_coefficients.pt')\n",
    "structure_eigvals_t = torch.load('structure_eigvals.pt')\n",
    "reconstructed_ldos_t = torch.load('reconstructed_ldos.pt')\n",
    "\n",
    "sigma = 0.3\n",
    "dx = 0.05\n",
    "\n",
    "full_eigen_energies = [torch.tensor(i.flatten()) for i in eigen_energies]\n",
    "eigenenergy_length = [len(i) for i in full_eigen_energies]\n",
    "eigenenergy_length_t = torch.tensor(eigenenergy_length)\n",
    "# small_index = (eigenenergy_length_t<10000)\n",
    "# small_index = small_index.nonzero()\n",
    "# small_index = small_index.flatten()\n",
    "n_atoms_t = torch.tensor(n_atoms)\n",
    "normalization_eiglength = [len(i) for i in eigen_energies]\n",
    "normalization_eiglength_t = torch.tensor(normalization_eiglength)\n",
    "normalization = 1/torch.sqrt(2*torch.tensor(np.pi)*sigma**2)/n_atoms_t/normalization_eiglength_t\n",
    "\n"
   ]
  },
  {
   "cell_type": "code",
   "execution_count": 11,
   "id": "0d2ccf27",
   "metadata": {
    "ExecuteTime": {
     "end_time": "2023-02-22T17:42:37.784770Z",
     "start_time": "2023-02-22T17:42:37.763641Z"
    }
   },
   "outputs": [],
   "source": [
    "from torch.utils.data import Dataset\n",
    "class ShiftingDataset(Dataset):\n",
    "    def __init__(self, X, y_coeff, y_eigval, normalization, xdos):\n",
    "        self.X = X\n",
    "        self.y_coeff = y_coeff\n",
    "        self.y_eigval = y_eigval\n",
    "        self.normalization = normalization\n",
    "        self.alignment = torch.nn.parameter.Parameter(torch.zeros(len(X)))\n",
    "        self.xdos = xdos\n",
    "        \n",
    "        \n",
    "    def __len__(self):\n",
    "        return len(self.X)\n",
    "    \n",
    "    def project_dos(self, idx):\n",
    "        new_dos = (torch.sum((self.y_coeff[idx].view(1, -1, 687) * (torch.exp(-0.5*((self.alignment[idx].view(1,-1,1) + self.xdos.view(-1,1,1) - self.y_eigval[idx])/sigma)**2))), dim = 2)).T * self.normalization[idx].view(-1,1) * 2\n",
    "        return new_dos.squeeze()\n",
    "    \n",
    "    def __getitem__(self, idx):\n",
    "        y = self.project_dos(idx)\n",
    "        return self.X[idx], y.double()\n",
    "        "
   ]
  },
  {
   "cell_type": "code",
   "execution_count": 12,
   "id": "d961889d",
   "metadata": {
    "ExecuteTime": {
     "end_time": "2023-02-22T17:42:37.789974Z",
     "start_time": "2023-02-22T17:42:37.787493Z"
    }
   },
   "outputs": [],
   "source": [
    "##Remeber to save the good struct coeffs and eigvals and integrate into the database folder"
   ]
  },
  {
   "cell_type": "code",
   "execution_count": null,
   "id": "957e76d9",
   "metadata": {
    "ExecuteTime": {
     "end_time": "2023-02-21T21:32:21.692715Z",
     "start_time": "2023-02-21T21:32:21.487372Z"
    }
   },
   "outputs": [],
   "source": []
  },
  {
   "cell_type": "code",
   "execution_count": 19,
   "id": "1d5aeaa1",
   "metadata": {
    "ExecuteTime": {
     "end_time": "2023-02-22T17:44:11.894715Z",
     "start_time": "2023-02-22T17:44:11.870898Z"
    }
   },
   "outputs": [],
   "source": [
    "from torch.utils.data import TensorDataset, DataLoader\n",
    "# soap_dataset = ShiftingDataset(Silicon.Features['structure_avedescriptors'][:10].double(), structure_coefficients_t[:10], structure_eigvals_t[:10], normalization[:10], xdos)\n",
    "kernel_dataset = ShiftingDataset(Silicon.Features['structure_avekerneldescriptors'][train_index].double(), structure_coefficients_t[train_index], structure_eigvals_t[train_index], normalization[train_index], xdos)\n",
    "device = 'cpu'\n",
    "kwargs = {\"pin_memory\":True} if device == \"cuda:0\" else {}\n",
    "kernel_dataloader = DataLoader(kernel_dataset, batch_size = 8, shuffle = True,**kwargs)"
   ]
  },
  {
   "cell_type": "code",
   "execution_count": 20,
   "id": "d2bddde6",
   "metadata": {
    "ExecuteTime": {
     "end_time": "2023-02-22T17:44:13.958670Z",
     "start_time": "2023-02-22T17:44:13.792967Z"
    }
   },
   "outputs": [
    {
     "name": "stdout",
     "output_type": "stream",
     "text": [
      "torch.Size([8, 1000])\n",
      "torch.Size([8, 778])\n"
     ]
    }
   ],
   "source": [
    "for x,y in soap_dataloader:\n",
    "    print (x.shape)\n",
    "    print (y.shape)\n",
    "    break"
   ]
  },
  {
   "cell_type": "markdown",
   "id": "efbaeb84",
   "metadata": {},
   "source": [
    "## Model"
   ]
  },
  {
   "cell_type": "code",
   "execution_count": 21,
   "id": "fa9c9dbc",
   "metadata": {
    "ExecuteTime": {
     "end_time": "2023-02-22T17:44:14.071330Z",
     "start_time": "2023-02-22T17:44:14.058630Z"
    }
   },
   "outputs": [],
   "source": [
    "import dostools.models.models as models\n",
    "import dostools.models.training as training\n",
    "import dostools.models.architectures as architecture\n",
    "import dostools.loss.loss as loss\n",
    "import torch.nn as nn\n",
    "\n",
    "importlib.reload(models)\n",
    "importlib.reload(training)\n",
    "importlib.reload(architecture)\n",
    "importlib.reload(loss)\n",
    "\n",
    "#can consider normalization layer here, start with bias and stuff first\n",
    "\n",
    "class WassLinearModel(nn.Module):\n",
    "    def __init__(self, inputSize, outputSize, xdos, device):\n",
    "        super(WassLinearModel, self).__init__()\n",
    "        self.linear = nn.Linear(inputSize, outputSize, bias = True)\n",
    "        self.xdos = xdos\n",
    "        self.device = device\n",
    "        #self.alignment = torch.zeros(train_size, device = self.device)\n",
    "        self.to(self.device)\n",
    "\n",
    "    def forward(self, x):\n",
    "        \"\"\"\n",
    "        Performs the transformations to the features based on the model\n",
    "        \n",
    "        Args:\n",
    "            x (tensor): input features\n",
    "        \n",
    "        Returns:\n",
    "            tensor: output\n",
    "        \"\"\"\n",
    "        out = self.linear(x)\n",
    "        return out\n",
    "    \n",
    "    "
   ]
  },
  {
   "cell_type": "code",
   "execution_count": 22,
   "id": "db388a2d",
   "metadata": {
    "ExecuteTime": {
     "end_time": "2023-02-22T17:44:14.760767Z",
     "start_time": "2023-02-22T17:44:14.714692Z"
    }
   },
   "outputs": [],
   "source": [
    "model1 = WassLinearModel(1000, 778, xdos, \"cpu\")\n",
    "# model1.load_state_dict(torch.load('./DynamicAdam_kernel.pt'))\n",
    "# kernel_dataset.alignment = torch.load('DynamicAdam_kernel_trainalignment.pt')"
   ]
  },
  {
   "cell_type": "code",
   "execution_count": 36,
   "id": "88ca8e30",
   "metadata": {
    "ExecuteTime": {
     "end_time": "2023-02-23T11:52:05.766019Z",
     "start_time": "2023-02-23T11:52:05.760351Z"
    }
   },
   "outputs": [
    {
     "data": {
      "text/plain": [
       "array([631, 679, 364, 319, 487, 723, 483, 953])"
      ]
     },
     "execution_count": 36,
     "metadata": {},
     "output_type": "execute_result"
    }
   ],
   "source": [
    "train_index[critical_indexes]"
   ]
  },
  {
   "cell_type": "code",
   "execution_count": 23,
   "id": "2ce77792",
   "metadata": {
    "ExecuteTime": {
     "end_time": "2023-02-22T22:32:25.874853Z",
     "start_time": "2023-02-22T17:44:15.307495Z"
    }
   },
   "outputs": [
    {
     "name": "stderr",
     "output_type": "stream",
     "text": [
      "\r",
      "  0%|                                                                                                                                                                                    | 0/10000 [00:00<?, ?it/s]"
     ]
    },
    {
     "data": {
      "application/javascript": [
       "/* Put everything inside the global mpl namespace */\n",
       "/* global mpl */\n",
       "window.mpl = {};\n",
       "\n",
       "mpl.get_websocket_type = function () {\n",
       "    if (typeof WebSocket !== 'undefined') {\n",
       "        return WebSocket;\n",
       "    } else if (typeof MozWebSocket !== 'undefined') {\n",
       "        return MozWebSocket;\n",
       "    } else {\n",
       "        alert(\n",
       "            'Your browser does not have WebSocket support. ' +\n",
       "                'Please try Chrome, Safari or Firefox ≥ 6. ' +\n",
       "                'Firefox 4 and 5 are also supported but you ' +\n",
       "                'have to enable WebSockets in about:config.'\n",
       "        );\n",
       "    }\n",
       "};\n",
       "\n",
       "mpl.figure = function (figure_id, websocket, ondownload, parent_element) {\n",
       "    this.id = figure_id;\n",
       "\n",
       "    this.ws = websocket;\n",
       "\n",
       "    this.supports_binary = this.ws.binaryType !== undefined;\n",
       "\n",
       "    if (!this.supports_binary) {\n",
       "        var warnings = document.getElementById('mpl-warnings');\n",
       "        if (warnings) {\n",
       "            warnings.style.display = 'block';\n",
       "            warnings.textContent =\n",
       "                'This browser does not support binary websocket messages. ' +\n",
       "                'Performance may be slow.';\n",
       "        }\n",
       "    }\n",
       "\n",
       "    this.imageObj = new Image();\n",
       "\n",
       "    this.context = undefined;\n",
       "    this.message = undefined;\n",
       "    this.canvas = undefined;\n",
       "    this.rubberband_canvas = undefined;\n",
       "    this.rubberband_context = undefined;\n",
       "    this.format_dropdown = undefined;\n",
       "\n",
       "    this.image_mode = 'full';\n",
       "\n",
       "    this.root = document.createElement('div');\n",
       "    this.root.setAttribute('style', 'display: inline-block');\n",
       "    this._root_extra_style(this.root);\n",
       "\n",
       "    parent_element.appendChild(this.root);\n",
       "\n",
       "    this._init_header(this);\n",
       "    this._init_canvas(this);\n",
       "    this._init_toolbar(this);\n",
       "\n",
       "    var fig = this;\n",
       "\n",
       "    this.waiting = false;\n",
       "\n",
       "    this.ws.onopen = function () {\n",
       "        fig.send_message('supports_binary', { value: fig.supports_binary });\n",
       "        fig.send_message('send_image_mode', {});\n",
       "        if (fig.ratio !== 1) {\n",
       "            fig.send_message('set_device_pixel_ratio', {\n",
       "                device_pixel_ratio: fig.ratio,\n",
       "            });\n",
       "        }\n",
       "        fig.send_message('refresh', {});\n",
       "    };\n",
       "\n",
       "    this.imageObj.onload = function () {\n",
       "        if (fig.image_mode === 'full') {\n",
       "            // Full images could contain transparency (where diff images\n",
       "            // almost always do), so we need to clear the canvas so that\n",
       "            // there is no ghosting.\n",
       "            fig.context.clearRect(0, 0, fig.canvas.width, fig.canvas.height);\n",
       "        }\n",
       "        fig.context.drawImage(fig.imageObj, 0, 0);\n",
       "    };\n",
       "\n",
       "    this.imageObj.onunload = function () {\n",
       "        fig.ws.close();\n",
       "    };\n",
       "\n",
       "    this.ws.onmessage = this._make_on_message_function(this);\n",
       "\n",
       "    this.ondownload = ondownload;\n",
       "};\n",
       "\n",
       "mpl.figure.prototype._init_header = function () {\n",
       "    var titlebar = document.createElement('div');\n",
       "    titlebar.classList =\n",
       "        'ui-dialog-titlebar ui-widget-header ui-corner-all ui-helper-clearfix';\n",
       "    var titletext = document.createElement('div');\n",
       "    titletext.classList = 'ui-dialog-title';\n",
       "    titletext.setAttribute(\n",
       "        'style',\n",
       "        'width: 100%; text-align: center; padding: 3px;'\n",
       "    );\n",
       "    titlebar.appendChild(titletext);\n",
       "    this.root.appendChild(titlebar);\n",
       "    this.header = titletext;\n",
       "};\n",
       "\n",
       "mpl.figure.prototype._canvas_extra_style = function (_canvas_div) {};\n",
       "\n",
       "mpl.figure.prototype._root_extra_style = function (_canvas_div) {};\n",
       "\n",
       "mpl.figure.prototype._init_canvas = function () {\n",
       "    var fig = this;\n",
       "\n",
       "    var canvas_div = (this.canvas_div = document.createElement('div'));\n",
       "    canvas_div.setAttribute(\n",
       "        'style',\n",
       "        'border: 1px solid #ddd;' +\n",
       "            'box-sizing: content-box;' +\n",
       "            'clear: both;' +\n",
       "            'min-height: 1px;' +\n",
       "            'min-width: 1px;' +\n",
       "            'outline: 0;' +\n",
       "            'overflow: hidden;' +\n",
       "            'position: relative;' +\n",
       "            'resize: both;'\n",
       "    );\n",
       "\n",
       "    function on_keyboard_event_closure(name) {\n",
       "        return function (event) {\n",
       "            return fig.key_event(event, name);\n",
       "        };\n",
       "    }\n",
       "\n",
       "    canvas_div.addEventListener(\n",
       "        'keydown',\n",
       "        on_keyboard_event_closure('key_press')\n",
       "    );\n",
       "    canvas_div.addEventListener(\n",
       "        'keyup',\n",
       "        on_keyboard_event_closure('key_release')\n",
       "    );\n",
       "\n",
       "    this._canvas_extra_style(canvas_div);\n",
       "    this.root.appendChild(canvas_div);\n",
       "\n",
       "    var canvas = (this.canvas = document.createElement('canvas'));\n",
       "    canvas.classList.add('mpl-canvas');\n",
       "    canvas.setAttribute('style', 'box-sizing: content-box;');\n",
       "\n",
       "    this.context = canvas.getContext('2d');\n",
       "\n",
       "    var backingStore =\n",
       "        this.context.backingStorePixelRatio ||\n",
       "        this.context.webkitBackingStorePixelRatio ||\n",
       "        this.context.mozBackingStorePixelRatio ||\n",
       "        this.context.msBackingStorePixelRatio ||\n",
       "        this.context.oBackingStorePixelRatio ||\n",
       "        this.context.backingStorePixelRatio ||\n",
       "        1;\n",
       "\n",
       "    this.ratio = (window.devicePixelRatio || 1) / backingStore;\n",
       "\n",
       "    var rubberband_canvas = (this.rubberband_canvas = document.createElement(\n",
       "        'canvas'\n",
       "    ));\n",
       "    rubberband_canvas.setAttribute(\n",
       "        'style',\n",
       "        'box-sizing: content-box; position: absolute; left: 0; top: 0; z-index: 1;'\n",
       "    );\n",
       "\n",
       "    // Apply a ponyfill if ResizeObserver is not implemented by browser.\n",
       "    if (this.ResizeObserver === undefined) {\n",
       "        if (window.ResizeObserver !== undefined) {\n",
       "            this.ResizeObserver = window.ResizeObserver;\n",
       "        } else {\n",
       "            var obs = _JSXTOOLS_RESIZE_OBSERVER({});\n",
       "            this.ResizeObserver = obs.ResizeObserver;\n",
       "        }\n",
       "    }\n",
       "\n",
       "    this.resizeObserverInstance = new this.ResizeObserver(function (entries) {\n",
       "        var nentries = entries.length;\n",
       "        for (var i = 0; i < nentries; i++) {\n",
       "            var entry = entries[i];\n",
       "            var width, height;\n",
       "            if (entry.contentBoxSize) {\n",
       "                if (entry.contentBoxSize instanceof Array) {\n",
       "                    // Chrome 84 implements new version of spec.\n",
       "                    width = entry.contentBoxSize[0].inlineSize;\n",
       "                    height = entry.contentBoxSize[0].blockSize;\n",
       "                } else {\n",
       "                    // Firefox implements old version of spec.\n",
       "                    width = entry.contentBoxSize.inlineSize;\n",
       "                    height = entry.contentBoxSize.blockSize;\n",
       "                }\n",
       "            } else {\n",
       "                // Chrome <84 implements even older version of spec.\n",
       "                width = entry.contentRect.width;\n",
       "                height = entry.contentRect.height;\n",
       "            }\n",
       "\n",
       "            // Keep the size of the canvas and rubber band canvas in sync with\n",
       "            // the canvas container.\n",
       "            if (entry.devicePixelContentBoxSize) {\n",
       "                // Chrome 84 implements new version of spec.\n",
       "                canvas.setAttribute(\n",
       "                    'width',\n",
       "                    entry.devicePixelContentBoxSize[0].inlineSize\n",
       "                );\n",
       "                canvas.setAttribute(\n",
       "                    'height',\n",
       "                    entry.devicePixelContentBoxSize[0].blockSize\n",
       "                );\n",
       "            } else {\n",
       "                canvas.setAttribute('width', width * fig.ratio);\n",
       "                canvas.setAttribute('height', height * fig.ratio);\n",
       "            }\n",
       "            canvas.setAttribute(\n",
       "                'style',\n",
       "                'width: ' + width + 'px; height: ' + height + 'px;'\n",
       "            );\n",
       "\n",
       "            rubberband_canvas.setAttribute('width', width);\n",
       "            rubberband_canvas.setAttribute('height', height);\n",
       "\n",
       "            // And update the size in Python. We ignore the initial 0/0 size\n",
       "            // that occurs as the element is placed into the DOM, which should\n",
       "            // otherwise not happen due to the minimum size styling.\n",
       "            if (fig.ws.readyState == 1 && width != 0 && height != 0) {\n",
       "                fig.request_resize(width, height);\n",
       "            }\n",
       "        }\n",
       "    });\n",
       "    this.resizeObserverInstance.observe(canvas_div);\n",
       "\n",
       "    function on_mouse_event_closure(name) {\n",
       "        return function (event) {\n",
       "            return fig.mouse_event(event, name);\n",
       "        };\n",
       "    }\n",
       "\n",
       "    rubberband_canvas.addEventListener(\n",
       "        'mousedown',\n",
       "        on_mouse_event_closure('button_press')\n",
       "    );\n",
       "    rubberband_canvas.addEventListener(\n",
       "        'mouseup',\n",
       "        on_mouse_event_closure('button_release')\n",
       "    );\n",
       "    rubberband_canvas.addEventListener(\n",
       "        'dblclick',\n",
       "        on_mouse_event_closure('dblclick')\n",
       "    );\n",
       "    // Throttle sequential mouse events to 1 every 20ms.\n",
       "    rubberband_canvas.addEventListener(\n",
       "        'mousemove',\n",
       "        on_mouse_event_closure('motion_notify')\n",
       "    );\n",
       "\n",
       "    rubberband_canvas.addEventListener(\n",
       "        'mouseenter',\n",
       "        on_mouse_event_closure('figure_enter')\n",
       "    );\n",
       "    rubberband_canvas.addEventListener(\n",
       "        'mouseleave',\n",
       "        on_mouse_event_closure('figure_leave')\n",
       "    );\n",
       "\n",
       "    canvas_div.addEventListener('wheel', function (event) {\n",
       "        if (event.deltaY < 0) {\n",
       "            event.step = 1;\n",
       "        } else {\n",
       "            event.step = -1;\n",
       "        }\n",
       "        on_mouse_event_closure('scroll')(event);\n",
       "    });\n",
       "\n",
       "    canvas_div.appendChild(canvas);\n",
       "    canvas_div.appendChild(rubberband_canvas);\n",
       "\n",
       "    this.rubberband_context = rubberband_canvas.getContext('2d');\n",
       "    this.rubberband_context.strokeStyle = '#000000';\n",
       "\n",
       "    this._resize_canvas = function (width, height, forward) {\n",
       "        if (forward) {\n",
       "            canvas_div.style.width = width + 'px';\n",
       "            canvas_div.style.height = height + 'px';\n",
       "        }\n",
       "    };\n",
       "\n",
       "    // Disable right mouse context menu.\n",
       "    this.rubberband_canvas.addEventListener('contextmenu', function (_e) {\n",
       "        event.preventDefault();\n",
       "        return false;\n",
       "    });\n",
       "\n",
       "    function set_focus() {\n",
       "        canvas.focus();\n",
       "        canvas_div.focus();\n",
       "    }\n",
       "\n",
       "    window.setTimeout(set_focus, 100);\n",
       "};\n",
       "\n",
       "mpl.figure.prototype._init_toolbar = function () {\n",
       "    var fig = this;\n",
       "\n",
       "    var toolbar = document.createElement('div');\n",
       "    toolbar.classList = 'mpl-toolbar';\n",
       "    this.root.appendChild(toolbar);\n",
       "\n",
       "    function on_click_closure(name) {\n",
       "        return function (_event) {\n",
       "            return fig.toolbar_button_onclick(name);\n",
       "        };\n",
       "    }\n",
       "\n",
       "    function on_mouseover_closure(tooltip) {\n",
       "        return function (event) {\n",
       "            if (!event.currentTarget.disabled) {\n",
       "                return fig.toolbar_button_onmouseover(tooltip);\n",
       "            }\n",
       "        };\n",
       "    }\n",
       "\n",
       "    fig.buttons = {};\n",
       "    var buttonGroup = document.createElement('div');\n",
       "    buttonGroup.classList = 'mpl-button-group';\n",
       "    for (var toolbar_ind in mpl.toolbar_items) {\n",
       "        var name = mpl.toolbar_items[toolbar_ind][0];\n",
       "        var tooltip = mpl.toolbar_items[toolbar_ind][1];\n",
       "        var image = mpl.toolbar_items[toolbar_ind][2];\n",
       "        var method_name = mpl.toolbar_items[toolbar_ind][3];\n",
       "\n",
       "        if (!name) {\n",
       "            /* Instead of a spacer, we start a new button group. */\n",
       "            if (buttonGroup.hasChildNodes()) {\n",
       "                toolbar.appendChild(buttonGroup);\n",
       "            }\n",
       "            buttonGroup = document.createElement('div');\n",
       "            buttonGroup.classList = 'mpl-button-group';\n",
       "            continue;\n",
       "        }\n",
       "\n",
       "        var button = (fig.buttons[name] = document.createElement('button'));\n",
       "        button.classList = 'mpl-widget';\n",
       "        button.setAttribute('role', 'button');\n",
       "        button.setAttribute('aria-disabled', 'false');\n",
       "        button.addEventListener('click', on_click_closure(method_name));\n",
       "        button.addEventListener('mouseover', on_mouseover_closure(tooltip));\n",
       "\n",
       "        var icon_img = document.createElement('img');\n",
       "        icon_img.src = '_images/' + image + '.png';\n",
       "        icon_img.srcset = '_images/' + image + '_large.png 2x';\n",
       "        icon_img.alt = tooltip;\n",
       "        button.appendChild(icon_img);\n",
       "\n",
       "        buttonGroup.appendChild(button);\n",
       "    }\n",
       "\n",
       "    if (buttonGroup.hasChildNodes()) {\n",
       "        toolbar.appendChild(buttonGroup);\n",
       "    }\n",
       "\n",
       "    var fmt_picker = document.createElement('select');\n",
       "    fmt_picker.classList = 'mpl-widget';\n",
       "    toolbar.appendChild(fmt_picker);\n",
       "    this.format_dropdown = fmt_picker;\n",
       "\n",
       "    for (var ind in mpl.extensions) {\n",
       "        var fmt = mpl.extensions[ind];\n",
       "        var option = document.createElement('option');\n",
       "        option.selected = fmt === mpl.default_extension;\n",
       "        option.innerHTML = fmt;\n",
       "        fmt_picker.appendChild(option);\n",
       "    }\n",
       "\n",
       "    var status_bar = document.createElement('span');\n",
       "    status_bar.classList = 'mpl-message';\n",
       "    toolbar.appendChild(status_bar);\n",
       "    this.message = status_bar;\n",
       "};\n",
       "\n",
       "mpl.figure.prototype.request_resize = function (x_pixels, y_pixels) {\n",
       "    // Request matplotlib to resize the figure. Matplotlib will then trigger a resize in the client,\n",
       "    // which will in turn request a refresh of the image.\n",
       "    this.send_message('resize', { width: x_pixels, height: y_pixels });\n",
       "};\n",
       "\n",
       "mpl.figure.prototype.send_message = function (type, properties) {\n",
       "    properties['type'] = type;\n",
       "    properties['figure_id'] = this.id;\n",
       "    this.ws.send(JSON.stringify(properties));\n",
       "};\n",
       "\n",
       "mpl.figure.prototype.send_draw_message = function () {\n",
       "    if (!this.waiting) {\n",
       "        this.waiting = true;\n",
       "        this.ws.send(JSON.stringify({ type: 'draw', figure_id: this.id }));\n",
       "    }\n",
       "};\n",
       "\n",
       "mpl.figure.prototype.handle_save = function (fig, _msg) {\n",
       "    var format_dropdown = fig.format_dropdown;\n",
       "    var format = format_dropdown.options[format_dropdown.selectedIndex].value;\n",
       "    fig.ondownload(fig, format);\n",
       "};\n",
       "\n",
       "mpl.figure.prototype.handle_resize = function (fig, msg) {\n",
       "    var size = msg['size'];\n",
       "    if (size[0] !== fig.canvas.width || size[1] !== fig.canvas.height) {\n",
       "        fig._resize_canvas(size[0], size[1], msg['forward']);\n",
       "        fig.send_message('refresh', {});\n",
       "    }\n",
       "};\n",
       "\n",
       "mpl.figure.prototype.handle_rubberband = function (fig, msg) {\n",
       "    var x0 = msg['x0'] / fig.ratio;\n",
       "    var y0 = (fig.canvas.height - msg['y0']) / fig.ratio;\n",
       "    var x1 = msg['x1'] / fig.ratio;\n",
       "    var y1 = (fig.canvas.height - msg['y1']) / fig.ratio;\n",
       "    x0 = Math.floor(x0) + 0.5;\n",
       "    y0 = Math.floor(y0) + 0.5;\n",
       "    x1 = Math.floor(x1) + 0.5;\n",
       "    y1 = Math.floor(y1) + 0.5;\n",
       "    var min_x = Math.min(x0, x1);\n",
       "    var min_y = Math.min(y0, y1);\n",
       "    var width = Math.abs(x1 - x0);\n",
       "    var height = Math.abs(y1 - y0);\n",
       "\n",
       "    fig.rubberband_context.clearRect(\n",
       "        0,\n",
       "        0,\n",
       "        fig.canvas.width / fig.ratio,\n",
       "        fig.canvas.height / fig.ratio\n",
       "    );\n",
       "\n",
       "    fig.rubberband_context.strokeRect(min_x, min_y, width, height);\n",
       "};\n",
       "\n",
       "mpl.figure.prototype.handle_figure_label = function (fig, msg) {\n",
       "    // Updates the figure title.\n",
       "    fig.header.textContent = msg['label'];\n",
       "};\n",
       "\n",
       "mpl.figure.prototype.handle_cursor = function (fig, msg) {\n",
       "    fig.rubberband_canvas.style.cursor = msg['cursor'];\n",
       "};\n",
       "\n",
       "mpl.figure.prototype.handle_message = function (fig, msg) {\n",
       "    fig.message.textContent = msg['message'];\n",
       "};\n",
       "\n",
       "mpl.figure.prototype.handle_draw = function (fig, _msg) {\n",
       "    // Request the server to send over a new figure.\n",
       "    fig.send_draw_message();\n",
       "};\n",
       "\n",
       "mpl.figure.prototype.handle_image_mode = function (fig, msg) {\n",
       "    fig.image_mode = msg['mode'];\n",
       "};\n",
       "\n",
       "mpl.figure.prototype.handle_history_buttons = function (fig, msg) {\n",
       "    for (var key in msg) {\n",
       "        if (!(key in fig.buttons)) {\n",
       "            continue;\n",
       "        }\n",
       "        fig.buttons[key].disabled = !msg[key];\n",
       "        fig.buttons[key].setAttribute('aria-disabled', !msg[key]);\n",
       "    }\n",
       "};\n",
       "\n",
       "mpl.figure.prototype.handle_navigate_mode = function (fig, msg) {\n",
       "    if (msg['mode'] === 'PAN') {\n",
       "        fig.buttons['Pan'].classList.add('active');\n",
       "        fig.buttons['Zoom'].classList.remove('active');\n",
       "    } else if (msg['mode'] === 'ZOOM') {\n",
       "        fig.buttons['Pan'].classList.remove('active');\n",
       "        fig.buttons['Zoom'].classList.add('active');\n",
       "    } else {\n",
       "        fig.buttons['Pan'].classList.remove('active');\n",
       "        fig.buttons['Zoom'].classList.remove('active');\n",
       "    }\n",
       "};\n",
       "\n",
       "mpl.figure.prototype.updated_canvas_event = function () {\n",
       "    // Called whenever the canvas gets updated.\n",
       "    this.send_message('ack', {});\n",
       "};\n",
       "\n",
       "// A function to construct a web socket function for onmessage handling.\n",
       "// Called in the figure constructor.\n",
       "mpl.figure.prototype._make_on_message_function = function (fig) {\n",
       "    return function socket_on_message(evt) {\n",
       "        if (evt.data instanceof Blob) {\n",
       "            var img = evt.data;\n",
       "            if (img.type !== 'image/png') {\n",
       "                /* FIXME: We get \"Resource interpreted as Image but\n",
       "                 * transferred with MIME type text/plain:\" errors on\n",
       "                 * Chrome.  But how to set the MIME type?  It doesn't seem\n",
       "                 * to be part of the websocket stream */\n",
       "                img.type = 'image/png';\n",
       "            }\n",
       "\n",
       "            /* Free the memory for the previous frames */\n",
       "            if (fig.imageObj.src) {\n",
       "                (window.URL || window.webkitURL).revokeObjectURL(\n",
       "                    fig.imageObj.src\n",
       "                );\n",
       "            }\n",
       "\n",
       "            fig.imageObj.src = (window.URL || window.webkitURL).createObjectURL(\n",
       "                img\n",
       "            );\n",
       "            fig.updated_canvas_event();\n",
       "            fig.waiting = false;\n",
       "            return;\n",
       "        } else if (\n",
       "            typeof evt.data === 'string' &&\n",
       "            evt.data.slice(0, 21) === 'data:image/png;base64'\n",
       "        ) {\n",
       "            fig.imageObj.src = evt.data;\n",
       "            fig.updated_canvas_event();\n",
       "            fig.waiting = false;\n",
       "            return;\n",
       "        }\n",
       "\n",
       "        var msg = JSON.parse(evt.data);\n",
       "        var msg_type = msg['type'];\n",
       "\n",
       "        // Call the  \"handle_{type}\" callback, which takes\n",
       "        // the figure and JSON message as its only arguments.\n",
       "        try {\n",
       "            var callback = fig['handle_' + msg_type];\n",
       "        } catch (e) {\n",
       "            console.log(\n",
       "                \"No handler for the '\" + msg_type + \"' message type: \",\n",
       "                msg\n",
       "            );\n",
       "            return;\n",
       "        }\n",
       "\n",
       "        if (callback) {\n",
       "            try {\n",
       "                // console.log(\"Handling '\" + msg_type + \"' message: \", msg);\n",
       "                callback(fig, msg);\n",
       "            } catch (e) {\n",
       "                console.log(\n",
       "                    \"Exception inside the 'handler_\" + msg_type + \"' callback:\",\n",
       "                    e,\n",
       "                    e.stack,\n",
       "                    msg\n",
       "                );\n",
       "            }\n",
       "        }\n",
       "    };\n",
       "};\n",
       "\n",
       "// from https://stackoverflow.com/questions/1114465/getting-mouse-location-in-canvas\n",
       "mpl.findpos = function (e) {\n",
       "    //this section is from http://www.quirksmode.org/js/events_properties.html\n",
       "    var targ;\n",
       "    if (!e) {\n",
       "        e = window.event;\n",
       "    }\n",
       "    if (e.target) {\n",
       "        targ = e.target;\n",
       "    } else if (e.srcElement) {\n",
       "        targ = e.srcElement;\n",
       "    }\n",
       "    if (targ.nodeType === 3) {\n",
       "        // defeat Safari bug\n",
       "        targ = targ.parentNode;\n",
       "    }\n",
       "\n",
       "    // pageX,Y are the mouse positions relative to the document\n",
       "    var boundingRect = targ.getBoundingClientRect();\n",
       "    var x = e.pageX - (boundingRect.left + document.body.scrollLeft);\n",
       "    var y = e.pageY - (boundingRect.top + document.body.scrollTop);\n",
       "\n",
       "    return { x: x, y: y };\n",
       "};\n",
       "\n",
       "/*\n",
       " * return a copy of an object with only non-object keys\n",
       " * we need this to avoid circular references\n",
       " * https://stackoverflow.com/a/24161582/3208463\n",
       " */\n",
       "function simpleKeys(original) {\n",
       "    return Object.keys(original).reduce(function (obj, key) {\n",
       "        if (typeof original[key] !== 'object') {\n",
       "            obj[key] = original[key];\n",
       "        }\n",
       "        return obj;\n",
       "    }, {});\n",
       "}\n",
       "\n",
       "mpl.figure.prototype.mouse_event = function (event, name) {\n",
       "    var canvas_pos = mpl.findpos(event);\n",
       "\n",
       "    if (name === 'button_press') {\n",
       "        this.canvas.focus();\n",
       "        this.canvas_div.focus();\n",
       "    }\n",
       "\n",
       "    var x = canvas_pos.x * this.ratio;\n",
       "    var y = canvas_pos.y * this.ratio;\n",
       "\n",
       "    this.send_message(name, {\n",
       "        x: x,\n",
       "        y: y,\n",
       "        button: event.button,\n",
       "        step: event.step,\n",
       "        guiEvent: simpleKeys(event),\n",
       "    });\n",
       "\n",
       "    /* This prevents the web browser from automatically changing to\n",
       "     * the text insertion cursor when the button is pressed.  We want\n",
       "     * to control all of the cursor setting manually through the\n",
       "     * 'cursor' event from matplotlib */\n",
       "    event.preventDefault();\n",
       "    return false;\n",
       "};\n",
       "\n",
       "mpl.figure.prototype._key_event_extra = function (_event, _name) {\n",
       "    // Handle any extra behaviour associated with a key event\n",
       "};\n",
       "\n",
       "mpl.figure.prototype.key_event = function (event, name) {\n",
       "    // Prevent repeat events\n",
       "    if (name === 'key_press') {\n",
       "        if (event.key === this._key) {\n",
       "            return;\n",
       "        } else {\n",
       "            this._key = event.key;\n",
       "        }\n",
       "    }\n",
       "    if (name === 'key_release') {\n",
       "        this._key = null;\n",
       "    }\n",
       "\n",
       "    var value = '';\n",
       "    if (event.ctrlKey && event.key !== 'Control') {\n",
       "        value += 'ctrl+';\n",
       "    }\n",
       "    else if (event.altKey && event.key !== 'Alt') {\n",
       "        value += 'alt+';\n",
       "    }\n",
       "    else if (event.shiftKey && event.key !== 'Shift') {\n",
       "        value += 'shift+';\n",
       "    }\n",
       "\n",
       "    value += 'k' + event.key;\n",
       "\n",
       "    this._key_event_extra(event, name);\n",
       "\n",
       "    this.send_message(name, { key: value, guiEvent: simpleKeys(event) });\n",
       "    return false;\n",
       "};\n",
       "\n",
       "mpl.figure.prototype.toolbar_button_onclick = function (name) {\n",
       "    if (name === 'download') {\n",
       "        this.handle_save(this, null);\n",
       "    } else {\n",
       "        this.send_message('toolbar_button', { name: name });\n",
       "    }\n",
       "};\n",
       "\n",
       "mpl.figure.prototype.toolbar_button_onmouseover = function (tooltip) {\n",
       "    this.message.textContent = tooltip;\n",
       "};\n",
       "\n",
       "///////////////// REMAINING CONTENT GENERATED BY embed_js.py /////////////////\n",
       "// prettier-ignore\n",
       "var _JSXTOOLS_RESIZE_OBSERVER=function(A){var t,i=new WeakMap,n=new WeakMap,a=new WeakMap,r=new WeakMap,o=new Set;function s(e){if(!(this instanceof s))throw new TypeError(\"Constructor requires 'new' operator\");i.set(this,e)}function h(){throw new TypeError(\"Function is not a constructor\")}function c(e,t,i,n){e=0 in arguments?Number(arguments[0]):0,t=1 in arguments?Number(arguments[1]):0,i=2 in arguments?Number(arguments[2]):0,n=3 in arguments?Number(arguments[3]):0,this.right=(this.x=this.left=e)+(this.width=i),this.bottom=(this.y=this.top=t)+(this.height=n),Object.freeze(this)}function d(){t=requestAnimationFrame(d);var s=new WeakMap,p=new Set;o.forEach((function(t){r.get(t).forEach((function(i){var r=t instanceof window.SVGElement,o=a.get(t),d=r?0:parseFloat(o.paddingTop),f=r?0:parseFloat(o.paddingRight),l=r?0:parseFloat(o.paddingBottom),u=r?0:parseFloat(o.paddingLeft),g=r?0:parseFloat(o.borderTopWidth),m=r?0:parseFloat(o.borderRightWidth),w=r?0:parseFloat(o.borderBottomWidth),b=u+f,F=d+l,v=(r?0:parseFloat(o.borderLeftWidth))+m,W=g+w,y=r?0:t.offsetHeight-W-t.clientHeight,E=r?0:t.offsetWidth-v-t.clientWidth,R=b+v,z=F+W,M=r?t.width:parseFloat(o.width)-R-E,O=r?t.height:parseFloat(o.height)-z-y;if(n.has(t)){var k=n.get(t);if(k[0]===M&&k[1]===O)return}n.set(t,[M,O]);var S=Object.create(h.prototype);S.target=t,S.contentRect=new c(u,d,M,O),s.has(i)||(s.set(i,[]),p.add(i)),s.get(i).push(S)}))})),p.forEach((function(e){i.get(e).call(e,s.get(e),e)}))}return s.prototype.observe=function(i){if(i instanceof window.Element){r.has(i)||(r.set(i,new Set),o.add(i),a.set(i,window.getComputedStyle(i)));var n=r.get(i);n.has(this)||n.add(this),cancelAnimationFrame(t),t=requestAnimationFrame(d)}},s.prototype.unobserve=function(i){if(i instanceof window.Element&&r.has(i)){var n=r.get(i);n.has(this)&&(n.delete(this),n.size||(r.delete(i),o.delete(i))),n.size||r.delete(i),o.size||cancelAnimationFrame(t)}},A.DOMRectReadOnly=c,A.ResizeObserver=s,A.ResizeObserverEntry=h,A}; // eslint-disable-line\n",
       "mpl.toolbar_items = [[\"Home\", \"Reset original view\", \"fa fa-home icon-home\", \"home\"], [\"Back\", \"Back to previous view\", \"fa fa-arrow-left icon-arrow-left\", \"back\"], [\"Forward\", \"Forward to next view\", \"fa fa-arrow-right icon-arrow-right\", \"forward\"], [\"\", \"\", \"\", \"\"], [\"Pan\", \"Left button pans, Right button zooms\\nx/y fixes axis, CTRL fixes aspect\", \"fa fa-arrows icon-move\", \"pan\"], [\"Zoom\", \"Zoom to rectangle\\nx/y fixes axis\", \"fa fa-square-o icon-check-empty\", \"zoom\"], [\"\", \"\", \"\", \"\"], [\"Download\", \"Download plot\", \"fa fa-floppy-o icon-save\", \"download\"]];\n",
       "\n",
       "mpl.extensions = [\"eps\", \"jpeg\", \"pgf\", \"pdf\", \"png\", \"ps\", \"raw\", \"svg\", \"tif\"];\n",
       "\n",
       "mpl.default_extension = \"png\";/* global mpl */\n",
       "\n",
       "var comm_websocket_adapter = function (comm) {\n",
       "    // Create a \"websocket\"-like object which calls the given IPython comm\n",
       "    // object with the appropriate methods. Currently this is a non binary\n",
       "    // socket, so there is still some room for performance tuning.\n",
       "    var ws = {};\n",
       "\n",
       "    ws.binaryType = comm.kernel.ws.binaryType;\n",
       "    ws.readyState = comm.kernel.ws.readyState;\n",
       "    function updateReadyState(_event) {\n",
       "        if (comm.kernel.ws) {\n",
       "            ws.readyState = comm.kernel.ws.readyState;\n",
       "        } else {\n",
       "            ws.readyState = 3; // Closed state.\n",
       "        }\n",
       "    }\n",
       "    comm.kernel.ws.addEventListener('open', updateReadyState);\n",
       "    comm.kernel.ws.addEventListener('close', updateReadyState);\n",
       "    comm.kernel.ws.addEventListener('error', updateReadyState);\n",
       "\n",
       "    ws.close = function () {\n",
       "        comm.close();\n",
       "    };\n",
       "    ws.send = function (m) {\n",
       "        //console.log('sending', m);\n",
       "        comm.send(m);\n",
       "    };\n",
       "    // Register the callback with on_msg.\n",
       "    comm.on_msg(function (msg) {\n",
       "        //console.log('receiving', msg['content']['data'], msg);\n",
       "        var data = msg['content']['data'];\n",
       "        if (data['blob'] !== undefined) {\n",
       "            data = {\n",
       "                data: new Blob(msg['buffers'], { type: data['blob'] }),\n",
       "            };\n",
       "        }\n",
       "        // Pass the mpl event to the overridden (by mpl) onmessage function.\n",
       "        ws.onmessage(data);\n",
       "    });\n",
       "    return ws;\n",
       "};\n",
       "\n",
       "mpl.mpl_figure_comm = function (comm, msg) {\n",
       "    // This is the function which gets called when the mpl process\n",
       "    // starts-up an IPython Comm through the \"matplotlib\" channel.\n",
       "\n",
       "    var id = msg.content.data.id;\n",
       "    // Get hold of the div created by the display call when the Comm\n",
       "    // socket was opened in Python.\n",
       "    var element = document.getElementById(id);\n",
       "    var ws_proxy = comm_websocket_adapter(comm);\n",
       "\n",
       "    function ondownload(figure, _format) {\n",
       "        window.open(figure.canvas.toDataURL());\n",
       "    }\n",
       "\n",
       "    var fig = new mpl.figure(id, ws_proxy, ondownload, element);\n",
       "\n",
       "    // Call onopen now - mpl needs it, as it is assuming we've passed it a real\n",
       "    // web socket which is closed, not our websocket->open comm proxy.\n",
       "    ws_proxy.onopen();\n",
       "\n",
       "    fig.parent_element = element;\n",
       "    fig.cell_info = mpl.find_output_cell(\"<div id='\" + id + \"'></div>\");\n",
       "    if (!fig.cell_info) {\n",
       "        console.error('Failed to find cell for figure', id, fig);\n",
       "        return;\n",
       "    }\n",
       "    fig.cell_info[0].output_area.element.on(\n",
       "        'cleared',\n",
       "        { fig: fig },\n",
       "        fig._remove_fig_handler\n",
       "    );\n",
       "};\n",
       "\n",
       "mpl.figure.prototype.handle_close = function (fig, msg) {\n",
       "    var width = fig.canvas.width / fig.ratio;\n",
       "    fig.cell_info[0].output_area.element.off(\n",
       "        'cleared',\n",
       "        fig._remove_fig_handler\n",
       "    );\n",
       "    fig.resizeObserverInstance.unobserve(fig.canvas_div);\n",
       "\n",
       "    // Update the output cell to use the data from the current canvas.\n",
       "    fig.push_to_output();\n",
       "    var dataURL = fig.canvas.toDataURL();\n",
       "    // Re-enable the keyboard manager in IPython - without this line, in FF,\n",
       "    // the notebook keyboard shortcuts fail.\n",
       "    IPython.keyboard_manager.enable();\n",
       "    fig.parent_element.innerHTML =\n",
       "        '<img src=\"' + dataURL + '\" width=\"' + width + '\">';\n",
       "    fig.close_ws(fig, msg);\n",
       "};\n",
       "\n",
       "mpl.figure.prototype.close_ws = function (fig, msg) {\n",
       "    fig.send_message('closing', msg);\n",
       "    // fig.ws.close()\n",
       "};\n",
       "\n",
       "mpl.figure.prototype.push_to_output = function (_remove_interactive) {\n",
       "    // Turn the data on the canvas into data in the output cell.\n",
       "    var width = this.canvas.width / this.ratio;\n",
       "    var dataURL = this.canvas.toDataURL();\n",
       "    this.cell_info[1]['text/html'] =\n",
       "        '<img src=\"' + dataURL + '\" width=\"' + width + '\">';\n",
       "};\n",
       "\n",
       "mpl.figure.prototype.updated_canvas_event = function () {\n",
       "    // Tell IPython that the notebook contents must change.\n",
       "    IPython.notebook.set_dirty(true);\n",
       "    this.send_message('ack', {});\n",
       "    var fig = this;\n",
       "    // Wait a second, then push the new image to the DOM so\n",
       "    // that it is saved nicely (might be nice to debounce this).\n",
       "    setTimeout(function () {\n",
       "        fig.push_to_output();\n",
       "    }, 1000);\n",
       "};\n",
       "\n",
       "mpl.figure.prototype._init_toolbar = function () {\n",
       "    var fig = this;\n",
       "\n",
       "    var toolbar = document.createElement('div');\n",
       "    toolbar.classList = 'btn-toolbar';\n",
       "    this.root.appendChild(toolbar);\n",
       "\n",
       "    function on_click_closure(name) {\n",
       "        return function (_event) {\n",
       "            return fig.toolbar_button_onclick(name);\n",
       "        };\n",
       "    }\n",
       "\n",
       "    function on_mouseover_closure(tooltip) {\n",
       "        return function (event) {\n",
       "            if (!event.currentTarget.disabled) {\n",
       "                return fig.toolbar_button_onmouseover(tooltip);\n",
       "            }\n",
       "        };\n",
       "    }\n",
       "\n",
       "    fig.buttons = {};\n",
       "    var buttonGroup = document.createElement('div');\n",
       "    buttonGroup.classList = 'btn-group';\n",
       "    var button;\n",
       "    for (var toolbar_ind in mpl.toolbar_items) {\n",
       "        var name = mpl.toolbar_items[toolbar_ind][0];\n",
       "        var tooltip = mpl.toolbar_items[toolbar_ind][1];\n",
       "        var image = mpl.toolbar_items[toolbar_ind][2];\n",
       "        var method_name = mpl.toolbar_items[toolbar_ind][3];\n",
       "\n",
       "        if (!name) {\n",
       "            /* Instead of a spacer, we start a new button group. */\n",
       "            if (buttonGroup.hasChildNodes()) {\n",
       "                toolbar.appendChild(buttonGroup);\n",
       "            }\n",
       "            buttonGroup = document.createElement('div');\n",
       "            buttonGroup.classList = 'btn-group';\n",
       "            continue;\n",
       "        }\n",
       "\n",
       "        button = fig.buttons[name] = document.createElement('button');\n",
       "        button.classList = 'btn btn-default';\n",
       "        button.href = '#';\n",
       "        button.title = name;\n",
       "        button.innerHTML = '<i class=\"fa ' + image + ' fa-lg\"></i>';\n",
       "        button.addEventListener('click', on_click_closure(method_name));\n",
       "        button.addEventListener('mouseover', on_mouseover_closure(tooltip));\n",
       "        buttonGroup.appendChild(button);\n",
       "    }\n",
       "\n",
       "    if (buttonGroup.hasChildNodes()) {\n",
       "        toolbar.appendChild(buttonGroup);\n",
       "    }\n",
       "\n",
       "    // Add the status bar.\n",
       "    var status_bar = document.createElement('span');\n",
       "    status_bar.classList = 'mpl-message pull-right';\n",
       "    toolbar.appendChild(status_bar);\n",
       "    this.message = status_bar;\n",
       "\n",
       "    // Add the close button to the window.\n",
       "    var buttongrp = document.createElement('div');\n",
       "    buttongrp.classList = 'btn-group inline pull-right';\n",
       "    button = document.createElement('button');\n",
       "    button.classList = 'btn btn-mini btn-primary';\n",
       "    button.href = '#';\n",
       "    button.title = 'Stop Interaction';\n",
       "    button.innerHTML = '<i class=\"fa fa-power-off icon-remove icon-large\"></i>';\n",
       "    button.addEventListener('click', function (_evt) {\n",
       "        fig.handle_close(fig, {});\n",
       "    });\n",
       "    button.addEventListener(\n",
       "        'mouseover',\n",
       "        on_mouseover_closure('Stop Interaction')\n",
       "    );\n",
       "    buttongrp.appendChild(button);\n",
       "    var titlebar = this.root.querySelector('.ui-dialog-titlebar');\n",
       "    titlebar.insertBefore(buttongrp, titlebar.firstChild);\n",
       "};\n",
       "\n",
       "mpl.figure.prototype._remove_fig_handler = function (event) {\n",
       "    var fig = event.data.fig;\n",
       "    if (event.target !== this) {\n",
       "        // Ignore bubbled events from children.\n",
       "        return;\n",
       "    }\n",
       "    fig.close_ws(fig, {});\n",
       "};\n",
       "\n",
       "mpl.figure.prototype._root_extra_style = function (el) {\n",
       "    el.style.boxSizing = 'content-box'; // override notebook setting of border-box.\n",
       "};\n",
       "\n",
       "mpl.figure.prototype._canvas_extra_style = function (el) {\n",
       "    // this is important to make the div 'focusable\n",
       "    el.setAttribute('tabindex', 0);\n",
       "    // reach out to IPython and tell the keyboard manager to turn it's self\n",
       "    // off when our div gets focus\n",
       "\n",
       "    // location in version 3\n",
       "    if (IPython.notebook.keyboard_manager) {\n",
       "        IPython.notebook.keyboard_manager.register_events(el);\n",
       "    } else {\n",
       "        // location in version 2\n",
       "        IPython.keyboard_manager.register_events(el);\n",
       "    }\n",
       "};\n",
       "\n",
       "mpl.figure.prototype._key_event_extra = function (event, _name) {\n",
       "    // Check for shift+enter\n",
       "    if (event.shiftKey && event.which === 13) {\n",
       "        this.canvas_div.blur();\n",
       "        // select the cell after this one\n",
       "        var index = IPython.notebook.find_cell_index(this.cell_info[0]);\n",
       "        IPython.notebook.select(index + 1);\n",
       "    }\n",
       "};\n",
       "\n",
       "mpl.figure.prototype.handle_save = function (fig, _msg) {\n",
       "    fig.ondownload(fig, null);\n",
       "};\n",
       "\n",
       "mpl.find_output_cell = function (html_output) {\n",
       "    // Return the cell and output element which can be found *uniquely* in the notebook.\n",
       "    // Note - this is a bit hacky, but it is done because the \"notebook_saving.Notebook\"\n",
       "    // IPython event is triggered only after the cells have been serialised, which for\n",
       "    // our purposes (turning an active figure into a static one), is too late.\n",
       "    var cells = IPython.notebook.get_cells();\n",
       "    var ncells = cells.length;\n",
       "    for (var i = 0; i < ncells; i++) {\n",
       "        var cell = cells[i];\n",
       "        if (cell.cell_type === 'code') {\n",
       "            for (var j = 0; j < cell.output_area.outputs.length; j++) {\n",
       "                var data = cell.output_area.outputs[j];\n",
       "                if (data.data) {\n",
       "                    // IPython >= 3 moved mimebundle to data attribute of output\n",
       "                    data = data.data;\n",
       "                }\n",
       "                if (data['text/html'] === html_output) {\n",
       "                    return [cell, data, j];\n",
       "                }\n",
       "            }\n",
       "        }\n",
       "    }\n",
       "};\n",
       "\n",
       "// Register the function which deals with the matplotlib target/channel.\n",
       "// The kernel may be null if the page has been refreshed.\n",
       "if (IPython.notebook.kernel !== null) {\n",
       "    IPython.notebook.kernel.comm_manager.register_target(\n",
       "        'matplotlib',\n",
       "        mpl.mpl_figure_comm\n",
       "    );\n",
       "}\n"
      ],
      "text/plain": [
       "<IPython.core.display.Javascript object>"
      ]
     },
     "metadata": {},
     "output_type": "display_data"
    },
    {
     "data": {
      "text/html": [
       "<img src=\"data:image/png;base64,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\" width=\"1000\">"
      ],
      "text/plain": [
       "<IPython.core.display.HTML object>"
      ]
     },
     "metadata": {},
     "output_type": "display_data"
    },
    {
     "name": "stderr",
     "output_type": "stream",
     "text": [
      "/tmp/ipykernel_28086/2912193684.py:42: UserWarning: You have mixed positional and keyword arguments, some input may be discarded.\n",
      "  fig.legend([line,z], labels = [\"Predicted\", \"True\"], loc = \"lower center\")\n",
      "Epoch: 1673:  17%|████████████████▌                                                                                  | 1673/10000 [4:48:10<23:54:19, 10.34s/it, lowest_loss=0.126, pred_loss=0.00035, trigger=1000]"
     ]
    },
    {
     "name": "stdout",
     "output_type": "stream",
     "text": [
      "Implemented early stopping with lowest_loss: 0.12602978680795762\n"
     ]
    },
    {
     "name": "stderr",
     "output_type": "stream",
     "text": [
      "\n"
     ]
    }
   ],
   "source": [
    "n_epochs = 10000\n",
    "lr_model = 0.001\n",
    "lr_alignment = 0.001\n",
    "\n",
    "# if self.opt == \"Adam\":\n",
    "opt_model = torch.optim.Adam(model1.parameters(), lr = lr_model, weight_decay = 0)\n",
    "opt_alignment = torch.optim.Adam([kernel_dataset.alignment], lr = lr_alignment, weight_decay = 0)\n",
    "# if valdata_loader is not None:\n",
    "#     threshold = 1000\n",
    "#     scheduler_threshold = 100\n",
    "# else:\n",
    "threshold = 1000\n",
    "scheduler_threshold = 100\n",
    "tol = 1e-4\n",
    "# if self.opt == \"LBFGS\":\n",
    "#     opt = torch.optim.LBFGS(self.parameters(), lr = lr, line_search_fn = \"strong_wolfe\")\n",
    "#     if valdata_loader is not None:\n",
    "#         threshold = 2000\n",
    "#         scheduler_threshold = 2000\n",
    "#     else:\n",
    "#         threshold = 30\n",
    "#         scheduler_threshold = 5\n",
    "#     tol = 1e-4\n",
    "scheduler_model = torch.optim.lr_scheduler.ReduceLROnPlateau(opt_model, factor = 0.1, patience = scheduler_threshold)#0.5)\n",
    "scheduler_alignment = torch.optim.lr_scheduler.ReduceLROnPlateau(opt_alignment, factor = 0.1, patience = scheduler_threshold)\n",
    "best_state = copy.deepcopy(model1.state_dict())\n",
    "lowest_loss = torch.tensor(9999)\n",
    "pred_loss = torch.tensor(0)\n",
    "trigger = 0\n",
    "loss_history =[]\n",
    "pbar = tqdm(range(n_epochs))\n",
    "\n",
    "fig, ax_list = plt.subplots(4,2)\n",
    "ax_list = ax_list.flatten()\n",
    "lines = []\n",
    "# critical_indexes = np.arange(8)\n",
    "critical_indexes = np.array([369, 341, 745, 521, 278, 5, 193, 37])\n",
    "for i in range(len(critical_indexes)):\n",
    "    line, = ax_list[i].plot(model1.xdos.cpu(), reconstructed_ldos_t[train_index[critical_indexes[i]]], label = \"Prediction\")\n",
    "    lines.append(line)\n",
    "    z = ax_list[i].plot(model1.xdos.cpu(), reconstructed_ldos_t[train_index[critical_indexes[i]]], label = \"True\")\n",
    "fig.legend([line,z], labels = [\"Predicted\", \"True\"], loc = \"lower center\")\n",
    "for epoch in pbar:\n",
    "    total_error = 0\n",
    "    pbar.set_description(f\"Epoch: {epoch}\")\n",
    "#     if valdata_loader is not None:\n",
    "#         pbar.set_postfix(val_loss = lowest_loss.item(), trigger = trigger, train_loss = pred_loss.item())\n",
    "#     else:\n",
    "    pbar.set_postfix(pred_loss = pred_loss.item(), lowest_loss = lowest_loss.item(), trigger = trigger)\n",
    "\n",
    "    for x_data, y_data in kernel_dataloader:\n",
    "        opt_model.zero_grad()\n",
    "        opt_alignment.zero_grad()\n",
    "        x_data, y_data = x_data.to(model1.device), y_data.to(model1.device)\n",
    "#         if self.opt == \"LBFGS\":\n",
    "#             def closure(predictions = False):\n",
    "#                 \"\"\"\n",
    "#                 Function is necessary for LBFGS, returns the total loss of the model\n",
    "\n",
    "#                 Args:\n",
    "#                     predictions (bool, optional): Returns prediction loss if true, returns total loss if False\n",
    "\n",
    "#                 Returns:\n",
    "#                     tensor: Loss\n",
    "#                 \"\"\"\n",
    "#                 opt.zero_grad()\n",
    "#                 _pred = self.forward(x_data)\n",
    "#                 _pred_loss = t_get_mse(_pred, y_data)#, self.xdos), perc = True)       \n",
    "#                 _pred_loss *= 1e7\n",
    "#                 #self.alignment = (self.alignment - 20) * (self.xdos[1] - self.xdos[0])\n",
    "#                 _pred_loss = torch.nan_to_num(_pred_loss, nan=lowest_loss.item(), posinf = lowest_loss.item(), neginf = lowest_loss.item())                 \n",
    "#                 _reg_loss = torch.sum(torch.pow(self.linear.weight,2))\n",
    "#                 _reg_loss *= self.reg.item()\n",
    "#                 _new_loss = _pred_loss + _reg_loss\n",
    "#                 _new_loss.backward()\n",
    "#                 # global z \n",
    "#                 # z = (torch.sum(abs(self.linear.weight.grad)))\n",
    "#                 if predictions:\n",
    "#                     return _pred_loss\n",
    "#                 return _new_loss\n",
    "#             opt.step(closure)\n",
    "#             #print (z)\n",
    "#             with torch.no_grad():\n",
    "#                 pred = self.forward(x_data)\n",
    "#                 pred_loss = t_get_rmse(pred, y_data)\n",
    "#                 reg_loss = torch.sum(torch.pow(self.linear.weight,2))\n",
    "#                 reg_loss *= self.reg.item()\n",
    "#                 new_loss = pred_loss + reg_loss\n",
    "#             if pred_loss >100000 or (pred_loss.isnan().any()) :\n",
    "#                 print (\"Optimizer shows weird behaviour, reinitializing at previous best_State\")\n",
    "#                 self.load_state_dict(best_state)\n",
    "#                 opt = torch.optim.LBFGS(self.parameters(), lr = lr)\n",
    "#             if epoch %10 == 1:\n",
    "#                 loss_history.append(lowest_loss.item())\n",
    "#         elif self.opt == \"Adam\":\n",
    "        pred = model1.forward(x_data)\n",
    "\n",
    "    \n",
    "        pred_loss = loss.t_get_mse(pred, y_data)#, self.xdos, perc = True)\n",
    "        total_error += pred_loss\n",
    "        new_loss = 1E7 * pred_loss\n",
    "        new_loss.backward()\n",
    "        opt_model.step()\n",
    "        opt_alignment.step()\n",
    "        if pred_loss >100000 or (pred_loss.isnan().any()) :\n",
    "            print (\"Optimizer shows weird behaviour, reinitializing at previous best_State\")\n",
    "            model1.load_state_dict(best_state)\n",
    "            opt = torch.optim.Adam(model1.parameters(), lr = lr, weight_decay = 0)\n",
    "\n",
    "    with torch.no_grad():\n",
    "        critical_pred = model1.forward(kernel_dataset.X[critical_indexes])\n",
    "        new_loss = total_error\n",
    "        scheduler_model.step(new_loss)\n",
    "        scheduler_alignment.step(new_loss)\n",
    "        if lowest_loss - new_loss > tol: #threshold to stop training\n",
    "            best_state = copy.deepcopy(model1.state_dict())\n",
    "            lowest_loss = new_loss\n",
    "            trigger = 0\n",
    "        else:\n",
    "            trigger +=1\n",
    "        if epoch %1000 == 1:\n",
    "            loss_history.append(lowest_loss.item())\n",
    "        for i in range(len(critical_indexes)):\n",
    "            lines[i].set_ydata(critical_pred[i].detach().numpy())\n",
    "        fig.suptitle(\"Epochs: {}, Pred loss: {}, Lowest loss:{}, Trigger: {}\".format(epoch, new_loss.item(), lowest_loss.item(), trigger))\n",
    "        fig.canvas.draw()\n",
    "        fig.canvas.flush_events()\n",
    "\n",
    "        if trigger > threshold:\n",
    "            model1.load_state_dict(best_state)\n",
    "            print (\"Implemented early stopping with lowest_loss: {}\".format(lowest_loss))\n",
    "            break\n"
   ]
  },
  {
   "cell_type": "code",
   "execution_count": 24,
   "id": "ba9b915e",
   "metadata": {
    "ExecuteTime": {
     "end_time": "2023-02-22T22:32:26.221311Z",
     "start_time": "2023-02-22T22:32:26.139423Z"
    }
   },
   "outputs": [],
   "source": [
    "torch.save(model1.state_dict(), \"./DynamicAdam_kernel.pt\")"
   ]
  },
  {
   "cell_type": "code",
   "execution_count": 26,
   "id": "3a23f365",
   "metadata": {
    "ExecuteTime": {
     "end_time": "2023-02-23T10:15:35.709085Z",
     "start_time": "2023-02-23T10:15:35.698871Z"
    }
   },
   "outputs": [],
   "source": [
    "torch.save(kernel_dataset.alignment, \"./DynamicAdam_kernel_trainalignment.pt\")"
   ]
  },
  {
   "cell_type": "code",
   "execution_count": 34,
   "id": "6bed0b6d",
   "metadata": {
    "ExecuteTime": {
     "end_time": "2023-02-23T10:16:41.282710Z",
     "start_time": "2023-02-23T10:16:41.263345Z"
    }
   },
   "outputs": [
    {
     "data": {
      "text/plain": [
       "tensor([-2.,  1., 11., -4.,  5.,  2.,  4., -2., -3., -3., -2., -0.,  1., -4.,\n",
       "         6., -4.,  1.,  1.,  5.,  5., -0., -1.,  5., -2.,  5.,  5., -2., -2.,\n",
       "        10., -4.,  4., -2., -1.,  1.,  1.,  1.,  5., -1., -4.,  5., -3., -2.,\n",
       "        -1.,  1., -1., -4.,  4., -0., -1., -1.,  1., -3., -2.,  5., -3., 10.,\n",
       "        -2., -2., -1.,  4.,  5.,  5.,  1.,  4., -3., -0.,  1.,  1.,  1.,  1.,\n",
       "        -2., -2., -2., -2.,  5., -2., -1.,  5.,  4., -2.,  1.,  1., -2., 17.,\n",
       "         4.,  5.,  4., -1.,  1., -2., -2.,  5.,  5.,  1., -2., -3., -1., 10.,\n",
       "        -4.,  4., -2., -2., -4.,  8., -2.,  1.,  4., -1.,  5., -1., -2.,  5.,\n",
       "        -2.,  1., -4., -2.,  1.,  4., -2.,  1.,  1.,  4., -2.,  1.,  5., -2.,\n",
       "         1.,  1., -3.,  1., -4.,  1.,  1.,  1.,  1., -3., -2.,  1.,  5., -1.,\n",
       "        -1.,  1.,  1., -2., -0., -4., -3.,  5., -4., -2., -4.,  5., -2.,  1.,\n",
       "        -1.,  5.,  1.,  1.,  1.,  4., -2.,  5.,  3., -3., -1., -2.,  1., -3.,\n",
       "        -3.,  5.,  5.,  1., -3.,  4.,  1., -1.,  4., -2., -1., -2., -2.,  1.,\n",
       "         1., -1.,  1.,  4., -2.,  1.,  1.,  5., -2., -2.,  1.,  1.,  4.,  5.,\n",
       "         1.,  1.,  1., -2., -2., -3.,  5., -2., -1.,  1.,  4.,  1., -1., -2.,\n",
       "         1., -1.,  1., -1.,  1.,  1., 11.,  5., -2., -2.,  1.,  1.,  1., 13.,\n",
       "         5.,  5.,  5., -1., -2.,  1., -0.,  4.,  1., -3.,  1.,  5.,  1., -1.,\n",
       "        -2., -2., -0.,  4.,  5.,  4.,  4., -3.,  5.,  4., -2.,  1.,  1., -1.,\n",
       "         1., -2.,  1.,  1., -2., -1., -1., 20.,  4., 12.,  4.,  1., -2., -2.,\n",
       "         5., -1.,  1.,  4., 17.,  4., -2., -3., -2.,  5., -2.,  5., -1., -0.,\n",
       "         1.,  1.,  4.,  1., -3., -0., -3., -1., -1., -2.,  1., -4., -3., -1.,\n",
       "        -1., -2.,  1., -1.,  1.,  4.,  1., -0., -2., -1.,  5., -4.,  5.,  1.,\n",
       "         4.,  1., -2., -2., 17.,  1.,  1.,  1.,  1., -2.,  4.,  1., -1., -2.,\n",
       "         1., -2., -3.,  1., -2.,  1., -2.,  1.,  1.,  3., -1., -1., -1., -4.,\n",
       "         4.,  5., -3.,  4., -2., -3.,  1.,  5., -2., -3., -2., -2., -2., -1.,\n",
       "         5.,  1., -3., -1., -2., -2., -2.,  1.,  6., -1., -4., -2., -2.,  4.,\n",
       "        -3.,  1.,  1., -2.,  8., -2.,  1., -2.,  8.,  5., -1.,  1.,  4.,  4.,\n",
       "        -2.,  5., -4., -1., -1., -1., 17., -1., -1., -2.,  4., -2., -1.,  5.,\n",
       "        -2., -2.,  1.,  1., 13., -2.,  1., 15., -2., -1., -2., -2.,  3., 14.,\n",
       "        -2.,  4.,  1., 14., -4., -2.,  4., -2., -2., -2., -1., -4.,  1., -2.,\n",
       "        -4., -4.,  1., 22.,  5., -2.,  5.,  5., -2.,  4., -2., -1.,  1.,  5.,\n",
       "         1., -1.,  1.,  1., -3., -3., -2.,  4., -1., -3., -1.,  1.,  7.,  1.,\n",
       "         4.,  1., -1., -1.,  7.,  1.,  5., -3.,  5.,  5., -3., -3.,  5., -2.,\n",
       "        -2.,  4., -2., -2., -2., -2., -2.,  1., -2., -2., 17.,  4.,  1.,  5.,\n",
       "         1.,  1., -1.,  5.,  4.,  1., -1.,  4., -2., -0., -2., -2., -3., -1.,\n",
       "        -1.,  5.,  1., -2.,  1.,  5., -3.,  4., -2., -2.,  2., -2.,  1.,  1.,\n",
       "         1., -2., -2.,  5., -2.,  5., -4.,  1.,  1.,  5., -3., -1.,  2., -1.,\n",
       "        -2., -3., 20.,  3., -0., 14., -2.,  5.,  1., -2., -2.,  1.,  4.,  5.,\n",
       "        12., -2.,  5.,  1.,  5.,  1.,  1.,  5., -1., -2.,  5.,  4., -2.,  1.,\n",
       "        -2., -5., -1.,  5., -3., -2.,  1., -3., -1.,  5.,  4.,  1.,  5., -1.,\n",
       "         1., -0., -2., 21., -3.,  1.,  4., -2., -1., -3., -2., -2., -2., -2.,\n",
       "        20.,  1., -1.,  1.,  5., -1.,  4., -0., -1., 11.,  1.,  1.,  1.,  1.,\n",
       "         1., -2.,  1., 12.,  1., 16.,  5.,  1., -2.,  4., -1., -2., 11., -2.,\n",
       "        -1.,  1.,  5.,  4., -1., -3.,  1.,  1., -1., -1.,  5.,  1.,  1.,  1.,\n",
       "         5.,  1., 11., -1.,  5.,  5., 25., -2., -1.,  1.,  1., -2.,  5.,  4.,\n",
       "         4.,  4.,  1.,  1.,  5.,  1., -2., -2., -4.,  1.,  1.,  4., -1., -2.,\n",
       "        18., -2.,  1., -2.,  5.,  1.,  4.,  1.,  5.,  4., -2.,  1., -2.,  1.,\n",
       "         4., -3., 16.,  1., -0., -2.,  4.,  1.,  1.,  1.,  5., -2.,  4., -1.,\n",
       "         1., -2.,  5., -2., -3., -3.,  4.,  5., -3., -1.,  4., -2., -1.,  1.,\n",
       "         4.,  5., -2., -1., -2.,  1.,  1.,  1., -2., -2., -1.,  5.,  1., -2.,\n",
       "        -1., -1.,  4., -2.,  1.,  5.,  9.,  4.,  4.,  1.,  5.,  1., -2.,  5.,\n",
       "        -2.,  1.,  1.,  1., -1.,  5., -2., -2.,  1.,  1., -2.,  1., -4.,  4.,\n",
       "         6., -2.,  5.,  5., 12., -2., -2., -1., -3., -1., -1.,  5.,  1., -2.,\n",
       "        -2., -2., 17.,  3., -3.,  1., -2.,  1., -2., -1.,  4.,  1., -3.,  1.,\n",
       "        -3., -2.,  1., -2., -1., -2., -2., -2.,  6., -2., -2., -2.,  5.,  1.,\n",
       "         5.,  1.,  1., -4., -1.,  5.,  5.,  4.,  5.,  1.,  1., -2., -1., -2.,\n",
       "         5.,  1., -2., -1., -2.,  1.,  5.,  1., -1., -2., -1.,  1.,  1.,  1.,\n",
       "         1., -2.,  1.,  1., -2.,  1., -2.,  1., -2., -1.,  6., -2.,  1., -1.,\n",
       "        18., -1., -2., -2., -2.,  5.,  4., -3.,  1.,  4.,  1.,  1.,  5., -3.,\n",
       "         4.,  6., -1., -2.,  5.], grad_fn=<RoundBackward0>)"
      ]
     },
     "execution_count": 34,
     "metadata": {},
     "output_type": "execute_result"
    }
   ],
   "source": [
    "torch.round((kernel_dataset.alignment - soap_alignment)/0.05)"
   ]
  },
  {
   "cell_type": "code",
   "execution_count": 31,
   "id": "d8cae2ec",
   "metadata": {
    "ExecuteTime": {
     "end_time": "2023-02-23T10:16:11.746010Z",
     "start_time": "2023-02-23T10:16:11.729961Z"
    }
   },
   "outputs": [
    {
     "data": {
      "text/plain": [
       "tensor([ 5.3353e+00, -1.1213e+00, -3.8923e+00, -1.0511e+00,  8.9888e-01,\n",
       "        -3.5429e+00,  4.4761e-01,  1.5291e+00, -1.1120e+00, -1.9111e+00,\n",
       "        -5.2563e-01, -5.5603e+00, -1.1258e+00, -1.1585e+00,  1.9839e+00,\n",
       "        -1.1293e+00, -6.8605e-01, -1.1777e+00,  1.3661e+00,  1.8240e+00,\n",
       "         4.0511e+00,  3.6255e+00,  1.8534e+00,  1.5007e+00,  1.6174e+00,\n",
       "         1.9914e+00,  9.9002e-01,  4.7661e-01, -4.8459e+00, -1.7154e+00,\n",
       "         1.3648e+00,  1.1855e+00,  3.3669e+00, -6.5394e-01, -7.6510e-01,\n",
       "        -9.4288e-01,  1.7916e+00,  5.6238e-01, -1.2188e+00,  1.3526e+00,\n",
       "        -1.5258e+00,  9.2270e-02, -2.0335e+00, -5.7729e-01,  3.8432e+00,\n",
       "        -1.1349e+00,  2.3076e+00,  4.8334e+00,  4.4328e+00,  2.6915e+00,\n",
       "        -6.2693e-01, -3.7145e+00,  7.9563e-01,  1.3069e+00, -1.3210e+00,\n",
       "        -3.6525e+00,  7.5309e-01,  9.9204e-01,  2.7113e+00,  2.1867e+00,\n",
       "         1.7017e+00,  1.6320e+00, -6.2904e-01,  4.5454e-01, -9.5597e-01,\n",
       "        -2.6602e+00, -7.6212e-01, -3.3664e-01, -9.0131e-01, -1.0818e-01,\n",
       "         1.6614e+00, -1.2690e+00,  9.6031e-01,  1.2998e+00,  1.4808e+00,\n",
       "         1.5720e+00,  3.6663e+00,  1.3767e+00,  7.2492e-02,  9.4088e-01,\n",
       "        -1.2011e-01, -4.3973e-01, -1.9327e+00, -7.2777e+00,  2.1799e+00,\n",
       "         1.4863e+00,  2.3950e+00,  4.4555e+00, -8.7614e-01,  1.5570e+00,\n",
       "         8.2420e-01,  1.4819e+00,  2.1068e+00, -3.4048e-01,  8.4648e-01,\n",
       "        -1.4038e+00, -3.7339e+00, -7.5226e+00, -1.1814e+00,  5.7904e-01,\n",
       "         7.6314e-01,  6.2784e-01, -5.8859e+00, -3.7234e+00, -5.3107e-01,\n",
       "        -3.2582e-01,  1.4890e+00,  2.8404e+00,  1.5261e+00,  5.4184e+00,\n",
       "        -1.2572e+00,  1.5475e+00,  1.4124e+00, -5.9814e-01, -1.6581e+00,\n",
       "         5.9645e-01, -9.7543e-01,  2.3070e+00,  8.5088e-01, -5.0253e-01,\n",
       "        -9.3753e-01,  9.1119e-02,  1.4512e+00, -1.7899e-01,  2.0575e+00,\n",
       "         8.4649e-01, -2.5482e-01, -2.5455e-01, -1.0471e+00, -1.1627e+00,\n",
       "        -1.5386e+00, -9.0693e-01, -6.0403e-01, -1.1510e+00, -7.3347e-01,\n",
       "        -1.0960e+00, -3.7662e-01, -5.0193e-01,  1.5753e+00, -3.2350e+00,\n",
       "        -1.9177e+00, -6.4602e-01, -1.1870e+00, -1.2183e+00, -2.8142e+00,\n",
       "        -2.1490e+00, -2.1470e+00,  1.5737e+00, -2.5550e+00, -1.9835e+00,\n",
       "        -1.2107e+00,  1.5556e+00,  1.7926e+00, -7.1749e-01,  4.1499e+00,\n",
       "         1.2515e+00, -7.8767e-01, -4.4522e-01, -7.4534e-01,  1.0170e+00,\n",
       "         8.9232e-01,  1.7726e+00, -2.0710e-01, -1.1801e+00,  2.7521e+00,\n",
       "         5.8285e-01, -5.4554e-01, -3.0740e+00, -2.0199e+00,  9.4905e-01,\n",
       "         1.5481e+00, -8.3174e-01, -1.1062e+00, -2.4180e-01, -2.7070e-01,\n",
       "        -1.4173e+00,  2.1542e+00, -1.3618e-01,  2.1107e+00, -5.0093e-01,\n",
       "         1.0003e+00, -5.8774e-01, -9.5600e-01, -2.5484e+00, -1.1270e+00,\n",
       "         5.4419e-01,  1.2551e+00, -7.4448e-01, -4.0094e-01,  1.7268e+00,\n",
       "         1.2410e+00,  7.6711e-01, -2.9838e-01, -1.0442e+00,  5.0495e-01,\n",
       "         1.7158e+00, -1.1657e+00, -4.2224e-01, -8.9839e-01,  7.0023e-01,\n",
       "         7.3028e-01, -1.5518e+00,  1.8286e+00,  9.2604e-01,  1.9338e+00,\n",
       "        -5.3086e-01,  5.5333e-01, -4.7194e-01,  4.3430e+00,  7.0857e-01,\n",
       "        -7.2106e-01, -4.1616e+00, -1.1490e+00,  2.0130e+00, -6.2384e-01,\n",
       "        -3.7615e-01, -8.2509e+00,  1.3861e+00,  5.6041e+00,  5.0239e-02,\n",
       "        -1.1298e+00, -1.1592e+00, -3.2581e-01, -1.3597e+00,  1.3946e+00,\n",
       "         1.8404e+00,  1.2623e+00,  2.0107e+00, -1.7337e-02, -1.1586e+00,\n",
       "         4.8807e+00,  2.5156e+00, -2.8166e-01,  1.4575e+00, -2.8686e-01,\n",
       "         1.4128e+00, -1.1525e+00,  2.0103e+00, -5.2543e-01,  1.4465e+00,\n",
       "         4.7029e+00,  2.5258e+00,  9.4805e-01,  2.1517e+00,  2.4733e+00,\n",
       "        -1.8581e+00,  2.0113e+00, -2.2622e-01, -5.1370e-01, -5.4266e-01,\n",
       "        -6.0621e-01,  3.6531e+00, -3.9903e-01,  1.3906e+00, -1.1296e+00,\n",
       "        -1.1614e+00,  1.1650e+00,  2.0590e+00, -2.1062e-01, -1.4642e+01,\n",
       "         4.8243e-01, -4.8992e+00,  2.2057e+00, -7.2261e-01, -4.4658e-01,\n",
       "         1.0574e+00,  9.1964e-01, -2.0072e+00, -6.0258e-01,  2.1857e+00,\n",
       "        -9.7241e+00,  9.9674e-01, -1.6604e+00, -5.4222e+00,  7.6307e-01,\n",
       "         1.4464e+00,  1.4572e+00, -3.5671e+00, -2.5318e+00,  4.5944e+00,\n",
       "        -8.7999e-01, -6.8705e-01,  1.0089e+00, -2.5173e-01, -9.5558e-01,\n",
       "         4.6506e+00, -2.0738e+00,  3.1219e-01,  1.2767e+00,  4.9761e-01,\n",
       "        -4.7196e-01, -1.5003e+00, -1.8885e+00,  2.6885e+00, -2.0493e+00,\n",
       "         7.8131e-01, -2.6246e-01,  5.5927e+00, -7.0182e-01,  3.0112e-01,\n",
       "        -1.0566e-01, -2.9411e+00,  4.8385e-01,  2.0898e+00,  1.7522e+00,\n",
       "        -1.8967e+00,  1.4915e+00, -7.4590e-01,  2.2210e+00, -6.9095e-01,\n",
       "         1.4279e+00,  1.4735e+00, -7.7590e+00, -9.4390e-01, -2.5316e-01,\n",
       "        -4.0624e-01, -8.4646e-01,  1.0046e+00,  2.5822e+00, -7.2116e-01,\n",
       "         2.0385e+00,  1.7955e-01, -1.1498e+00,  1.0262e-01, -3.1009e+00,\n",
       "        -2.6114e-01,  9.6284e-01, -8.1915e-02,  1.3681e+00, -4.8459e-01,\n",
       "        -4.5615e-01,  2.0468e+00,  2.0884e+00,  3.4970e+00, -3.3796e+00,\n",
       "        -4.3275e+00,  5.3478e-01,  9.3650e-01, -9.6429e-01,  2.4974e+00,\n",
       "         3.0554e-01, -3.4444e+00, -1.0139e+00,  2.0322e+00,  7.7611e-01,\n",
       "         1.7346e+00,  8.6982e-02, -4.5289e-01, -2.8652e+00,  3.9606e-01,\n",
       "         1.4814e+00, -8.0924e-01, -2.7429e+00,  5.2402e+00, -3.1505e+00,\n",
       "        -8.4936e-01,  1.4488e+00, -8.6806e-01, -2.3364e-01,  3.5547e+00,\n",
       "        -1.1597e+00, -7.8222e-01, -1.4566e+00,  1.4186e+00, -9.6790e-01,\n",
       "        -6.9403e-01, -7.5934e-01,  1.0393e+00,  1.0571e+00, -5.2031e+00,\n",
       "        -8.5254e-01, -8.8119e-02,  2.2908e+00,  9.6660e-01,  2.5637e+00,\n",
       "        -1.1348e+00, -2.2200e-01,  5.8288e-01,  7.6234e-01,  1.6654e+00,\n",
       "        -1.5560e+00,  3.2441e+00,  1.8834e+00,  2.0615e+00, -1.8898e+01,\n",
       "         2.5888e+00, -7.2146e-01, -4.7532e-01,  2.2658e+00, -5.7600e-01,\n",
       "        -3.2310e+00,  9.1106e-01,  9.1458e-01,  9.6875e-01, -4.0670e-01,\n",
       "        -5.8898e-01, -2.2895e+00,  6.7101e-01, -7.6130e-01, -4.6160e+00,\n",
       "         1.6136e+00,  4.0261e+00,  1.3108e+00,  7.6039e-01, -2.1351e-01,\n",
       "        -5.1206e+00,  6.7914e-02,  4.7145e-01, -6.3781e-01, -7.1497e+00,\n",
       "        -1.5539e+00, -5.6008e-01,  4.6244e-01,  1.4054e+00,  7.7959e-01,\n",
       "         1.4789e+00,  2.6371e+00, -1.5604e+00, -4.7621e-01,  1.6528e+00,\n",
       "        -1.0556e+00, -4.1326e+00, -9.6520e-01, -1.9564e+01,  1.4354e+00,\n",
       "         8.1626e-01,  1.1966e+00,  1.2735e+00,  1.3103e+00,  5.8154e-01,\n",
       "         5.8919e-01, -3.1349e+00, -7.2235e-01,  1.9825e+00, -5.4171e-01,\n",
       "         2.2189e+00, -1.1210e+00, -3.9579e-01,  1.5719e+00, -1.1457e+00,\n",
       "        -5.8544e-01,  2.5935e+00,  2.1575e+00, -3.4586e+00,  2.0874e+00,\n",
       "        -1.1344e+00,  2.4595e-01, -4.5391e-01,  1.0091e+00, -1.1596e+00,\n",
       "         3.4213e+00,  4.7953e+00,  2.3761e+00, -1.1783e+00,  2.1571e+00,\n",
       "        -4.7775e+00,  9.0713e-01,  1.7501e+00,  1.6665e+00, -1.8849e-01,\n",
       "         1.1922e+00, -2.4181e+00, -1.2616e+00,  5.6394e-01,  1.1601e-01,\n",
       "         1.4289e+00,  1.3635e+00, -4.6785e-01,  7.7924e-01, -5.8544e-01,\n",
       "         5.6333e+00,  1.0340e+00, -1.4129e+01,  2.1984e+00, -5.8716e-01,\n",
       "         8.2700e-01, -1.1401e+00, -5.9801e-01,  2.0101e+00,  1.7235e+00,\n",
       "         2.4615e+00, -7.4902e-01,  2.5915e+00, -2.3011e-01, -2.2812e+00,\n",
       "        -2.5139e+00, -4.9303e-01, -6.6234e-01, -2.0037e+00,  2.1003e+00,\n",
       "         4.8774e+00,  2.0577e+00, -1.1583e+00,  1.4163e+00, -3.2020e-01,\n",
       "         1.4292e+00, -5.2212e+00,  2.2669e+00,  1.1882e+00, -5.2754e-01,\n",
       "         3.5309e+00,  1.1060e+00, -1.4500e-01, -6.7865e-01, -6.2499e-01,\n",
       "         9.8440e-01,  1.4747e-01,  1.2451e+00,  9.0304e-01,  1.6276e+00,\n",
       "        -2.2982e+00, -7.7014e-01, -6.0101e-01,  1.7174e+00, -1.4242e+00,\n",
       "        -5.1388e+00, -1.0337e+00,  3.2775e+00,  1.0926e+00, -2.8198e+00,\n",
       "        -1.0011e+01, -1.4504e-01,  4.3052e+00, -3.2603e+00,  1.1752e-01,\n",
       "         1.9504e+00, -3.6704e-01,  4.0146e-01,  2.2531e-02, -1.1514e+00,\n",
       "         9.9486e-01,  1.7912e+00, -4.7256e+00,  7.5456e-01,  1.2739e+00,\n",
       "        -4.5301e-01,  1.4221e+00, -6.0955e-01, -1.1762e+00,  2.0572e+00,\n",
       "         2.6095e+00,  1.4306e+00,  1.6172e+00,  2.4188e+00,  1.2184e+00,\n",
       "        -1.0086e+00,  1.2928e+00, -6.8983e+00,  3.2315e+00,  9.3248e-01,\n",
       "        -2.6031e+00, -4.6318e+00, -5.1317e-01,  1.9105e+00,  3.0483e+00,\n",
       "         1.3107e+00,  5.2026e-01, -9.2150e-01,  1.6769e+00,  3.7380e+00,\n",
       "        -1.4945e-01, -2.1767e+00,  2.3126e-01, -1.5840e+01, -2.8778e+00,\n",
       "        -2.7007e-01,  5.1959e-01,  1.0936e-01,  2.6619e+00, -1.3660e+00,\n",
       "         1.4803e+00,  1.1203e+00,  8.8164e-01,  6.3488e-01, -1.7080e+01,\n",
       "        -6.1064e-01,  7.4526e-02, -1.1400e+00,  1.4499e+00, -4.7314e+00,\n",
       "         2.5161e+00,  4.5292e+00,  2.6399e+00, -9.4253e+00, -6.0532e-01,\n",
       "        -9.8993e-01, -5.0782e-01, -8.4354e-01, -1.0116e+00, -5.7333e-01,\n",
       "        -8.6067e-01, -8.5080e+00, -7.7398e-01, -8.0188e+00,  1.5481e+00,\n",
       "        -6.5333e-01,  6.0585e-01, -2.4909e-01, -2.0580e+00,  6.8221e-01,\n",
       "         6.9442e-02, -4.1481e-01,  3.4127e+00, -6.4372e-01,  1.8304e+00,\n",
       "         2.2721e+00,  2.5937e+00, -9.7342e-01, -8.3782e-01, -1.9671e-01,\n",
       "         2.6419e+00,  2.7210e+00,  9.3178e-01, -8.3183e-01, -1.0712e-01,\n",
       "        -6.8880e-01,  1.4333e+00, -2.6805e-01, -1.6208e-01,  2.0017e+00,\n",
       "         2.1087e+00,  2.0706e+00, -1.8386e+01,  6.6535e-01, -2.3417e+00,\n",
       "        -1.1313e+00, -5.3953e-01, -1.9500e+00,  1.4322e+00,  2.1436e+00,\n",
       "         5.5610e-01,  5.9324e-01, -1.1178e+00, -1.1858e+00,  8.6859e-01,\n",
       "        -1.1378e+00,  6.4008e-01,  8.3960e-01, -1.5293e+00, -6.2117e-01,\n",
       "        -1.1421e+00,  2.2332e+00,  2.0932e+00,  1.4077e+00, -5.1826e+00,\n",
       "        -1.1926e+00, -9.1632e-01,  3.1587e-01,  9.2289e-01, -8.8593e-01,\n",
       "        -5.4511e-02, -4.9533e-01,  1.5807e+00,  2.2016e+00,  1.3868e+00,\n",
       "        -5.7763e-01,  1.1566e-01, -1.1459e+00,  2.4122e+00, -1.4735e+00,\n",
       "        -6.4886e+00, -1.1996e+00,  4.5281e+00,  6.6608e-01,  2.1455e-01,\n",
       "        -5.9518e-01, -1.1515e+00, -6.3204e-01,  1.7871e+00,  7.3588e-01,\n",
       "         2.1003e+00, -1.7321e+00, -7.4691e-01,  1.5311e+00,  1.8730e+00,\n",
       "         1.1393e+00, -1.5072e+00, -2.8193e+00,  5.7958e-01,  1.6094e+00,\n",
       "        -1.5341e+00,  3.4863e+00,  2.4527e+00,  1.4589e+00,  3.9018e+00,\n",
       "        -6.5018e-01, -2.7828e-01,  2.1253e+00,  1.5522e+00,  2.0627e+00,\n",
       "         8.1846e-01, -1.1530e+00, -2.1075e-01, -6.0336e-01,  7.8590e-01,\n",
       "         7.3961e-01,  5.1979e+00,  2.0336e+00, -6.1396e-01,  1.3690e+00,\n",
       "         3.7069e+00,  1.4766e+00,  2.2935e+00,  1.3681e+00, -1.6384e-01,\n",
       "         2.0630e+00,  2.2591e+00,  4.5771e-01,  9.6701e-01, -5.8787e-01,\n",
       "         1.2939e+00, -5.7529e-01, -5.9180e+00,  1.5671e+00, -2.5544e+00,\n",
       "        -6.2456e-01, -7.9394e-01, -1.1567e+00,  5.1939e+00,  1.4294e+00,\n",
       "         6.0146e+00,  6.6470e-01, -4.2029e-01, -3.4708e-01,  1.3702e+00,\n",
       "        -4.2917e-01, -1.2784e+00,  2.2308e+00,  3.3635e+00, -2.3878e+00,\n",
       "         1.6664e+00,  1.2642e+00, -4.0453e+00,  1.5958e-01,  1.2246e+00,\n",
       "         2.0009e+00, -2.0384e+00,  5.3272e-01,  3.7899e+00,  1.3062e+00,\n",
       "        -8.9992e-01,  9.1050e-01,  1.4103e+00,  1.3849e+00, -6.4734e+00,\n",
       "         2.3155e-01,  1.6135e+00, -6.0944e-01,  1.6942e+00, -7.3185e-01,\n",
       "         7.2843e-01,  2.6279e+00,  1.6626e-01, -6.4529e-01, -1.0943e+00,\n",
       "        -6.3241e-01, -1.7175e+00,  1.1784e+00, -4.7097e-01, -5.2767e-01,\n",
       "        -1.5875e+00,  4.2217e-01, -5.2716e+00,  1.5665e+00, -2.1213e+00,\n",
       "         8.9034e-01,  1.4152e+00,  8.3939e-01,  1.6280e+00, -2.8686e-01,\n",
       "         1.4633e+00, -9.1197e-01, -3.4201e-01, -1.4260e+00, -2.9652e+00,\n",
       "         1.4188e+00,  2.0390e+00,  2.2494e+00,  2.1426e+00, -5.0885e-01,\n",
       "        -7.9639e-01,  4.9678e-01,  4.7650e+00,  6.2185e-02,  2.0362e+00,\n",
       "        -8.3097e-01,  4.9343e-01,  3.7285e+00, -9.5628e-01, -6.6251e-01,\n",
       "         1.5315e+00, -1.1366e+00,  2.6609e+00,  7.2873e-02, -2.8746e+00,\n",
       "        -8.1566e-01, -4.3661e-01, -6.2044e-01, -2.7602e-01,  1.0355e+00,\n",
       "        -1.1440e+00, -2.9861e-01,  5.8742e-01, -1.1435e+00, -4.9750e-01,\n",
       "        -4.5271e-01, -1.8366e+00,  2.3928e+00,  2.2827e-02,  6.1220e-02,\n",
       "        -6.7568e-02,  2.5739e+00, -1.0271e+01,  3.2636e+00,  1.3907e+00,\n",
       "         3.4532e-01,  2.7672e-02,  1.7259e+00,  2.0917e+00, -1.6809e+00,\n",
       "        -4.4944e-01,  2.4457e+00, -5.7729e-01, -1.0555e+00,  1.8364e+00,\n",
       "        -2.4691e+00,  5.9766e-01, -5.5263e+00,  3.7372e+00,  8.5993e-01,\n",
       "         1.3222e+00], grad_fn=<DivBackward0>)"
      ]
     },
     "execution_count": 31,
     "metadata": {},
     "output_type": "execute_result"
    }
   ],
   "source": [
    "soap_alignment/0.05"
   ]
  },
  {
   "cell_type": "code",
   "execution_count": 28,
   "id": "117e6284",
   "metadata": {
    "ExecuteTime": {
     "end_time": "2023-02-23T10:15:56.932259Z",
     "start_time": "2023-02-23T10:15:56.926494Z"
    }
   },
   "outputs": [],
   "source": [
    "soap_alignment = torch.load(\"./DynamicAdam_trainalignment\")"
   ]
  },
  {
   "cell_type": "code",
   "execution_count": 18,
   "id": "52773fc3",
   "metadata": {
    "ExecuteTime": {
     "end_time": "2023-02-22T16:46:59.731556Z",
     "start_time": "2023-02-22T16:46:59.724395Z"
    }
   },
   "outputs": [
    {
     "data": {
      "text/plain": [
       "<module 'dostools.loss.loss' from '/home/how/dostools/src/dostools/loss/loss.py'>"
      ]
     },
     "execution_count": 18,
     "metadata": {},
     "output_type": "execute_result"
    }
   ],
   "source": [
    "import dostools.loss.loss as loss\n",
    "importlib.reload(loss)\n",
    "#t_get_BF_shift_index_error\n",
    "# importlib.reload(loss)\n",
    "# with torch.no_grad():\n",
    "#     shift_range = torch.tensor([0.05 * a for a in torch.arange(-5,5)])\n",
    "#     #shift_range = torch.tensor([0])\n",
    "#     a = loss.t_get_BF_shift_rmse(reconstructed_ldos_t, ldos, shift_range, xdos, perc = True)\n",
    "#     print (a)"
   ]
  },
  {
   "cell_type": "code",
   "execution_count": 23,
   "id": "1b8875a1",
   "metadata": {
    "ExecuteTime": {
     "end_time": "2023-02-22T16:47:40.497969Z",
     "start_time": "2023-02-22T16:47:36.538364Z"
    }
   },
   "outputs": [],
   "source": [
    "_, new_dos = soap_dataset[:]"
   ]
  },
  {
   "cell_type": "code",
   "execution_count": 28,
   "id": "9d45b548",
   "metadata": {
    "ExecuteTime": {
     "end_time": "2023-02-22T16:48:12.026545Z",
     "start_time": "2023-02-22T16:48:03.018889Z"
    }
   },
   "outputs": [],
   "source": [
    "with torch.no_grad():\n",
    "    shift_range = torch.tensor([0.05 * a for a in torch.arange(-30,30)])\n",
    "    Total_preds = model1.forward(Silicon.Features['structure_avedescriptors'])\n",
    "    train_loss, train_indexes = loss.t_get_BF_shift_index_error(Total_preds[train_index], ldos[train_index], shift_range, xdos, perc = False)\n",
    "    test_loss, test_indexes = loss.t_get_BF_shift_index_error(Total_preds[test_index], ldos[test_index], shift_range, xdos, perc = False)\n",
    "    total_loss, total_indexes = loss.t_get_BF_shift_index_error(Total_preds, ldos, shift_range, xdos, perc = False)"
   ]
  },
  {
   "cell_type": "code",
   "execution_count": 29,
   "id": "711fbb30",
   "metadata": {
    "ExecuteTime": {
     "end_time": "2023-02-22T16:48:21.649750Z",
     "start_time": "2023-02-22T16:48:12.028996Z"
    }
   },
   "outputs": [],
   "source": [
    "with torch.no_grad():\n",
    "    shift_range = torch.tensor([0.05 * a for a in torch.arange(-30,30)])\n",
    "    Total_preds = model1.forward(Silicon.Features['structure_avedescriptors'])\n",
    "    atrain_loss, atrain_indexes = loss.t_get_BF_shift_index_error(Total_preds[train_index], ldos[train_index], shift_range, xdos, perc = True)\n",
    "    atest_loss, atest_indexes = loss.t_get_BF_shift_index_error(Total_preds[test_index], ldos[test_index], shift_range, xdos, perc = True)\n",
    "    atotal_loss, atotal_indexes = loss.t_get_BF_shift_index_error(Total_preds, ldos, shift_range, xdos, perc = True)"
   ]
  },
  {
   "cell_type": "code",
   "execution_count": 21,
   "id": "a34d999f",
   "metadata": {
    "ExecuteTime": {
     "end_time": "2023-02-22T16:47:21.617393Z",
     "start_time": "2023-02-22T16:47:18.298168Z"
    }
   },
   "outputs": [],
   "source": [
    "train_loss_abs, train_indexes_abs = loss.t_get_BF_shift_index_error(Total_preds[train_index], ldos[train_index], shift_range, xdos, perc = False)"
   ]
  },
  {
   "cell_type": "code",
   "execution_count": 30,
   "id": "38cabd79",
   "metadata": {
    "ExecuteTime": {
     "end_time": "2023-02-22T16:48:24.158864Z",
     "start_time": "2023-02-22T16:48:24.139333Z"
    }
   },
   "outputs": [
    {
     "name": "stdout",
     "output_type": "stream",
     "text": [
      "tensor(0.0541, grad_fn=<SqrtBackward0>)\n"
     ]
    }
   ],
   "source": [
    "z = loss.t_get_rmse(Total_preds[train_index], new_dos, xdos, perc = False)\n",
    "print (z)"
   ]
  },
  {
   "cell_type": "code",
   "execution_count": 31,
   "id": "809682bc",
   "metadata": {
    "ExecuteTime": {
     "end_time": "2023-02-22T16:48:25.101632Z",
     "start_time": "2023-02-22T16:48:25.092940Z"
    }
   },
   "outputs": [
    {
     "name": "stdout",
     "output_type": "stream",
     "text": [
      "tensor(0.1019)\n"
     ]
    }
   ],
   "source": [
    "z = loss.t_get_rmse(Total_preds[train_index], ldos[train_index], xdos, perc = False)\n",
    "print (z)"
   ]
  },
  {
   "cell_type": "code",
   "execution_count": 32,
   "id": "cb584695",
   "metadata": {
    "ExecuteTime": {
     "end_time": "2023-02-22T16:48:26.600812Z",
     "start_time": "2023-02-22T16:48:26.593808Z"
    }
   },
   "outputs": [
    {
     "data": {
      "text/plain": [
       "tensor(0.0559)"
      ]
     },
     "execution_count": 32,
     "metadata": {},
     "output_type": "execute_result"
    }
   ],
   "source": [
    "train_loss"
   ]
  },
  {
   "cell_type": "code",
   "execution_count": 33,
   "id": "bf066995",
   "metadata": {
    "ExecuteTime": {
     "end_time": "2023-02-22T16:48:27.711959Z",
     "start_time": "2023-02-22T16:48:27.688450Z"
    }
   },
   "outputs": [],
   "source": [
    "mldos = ldos[train_index].mean(axis = 0)\n",
    "std_train = torch.sqrt((torch.trapezoid((ldos[train_index] - mldos)**2, xdos, axis=1)).mean())\n",
    "mldos = ldos[test_index].mean(axis = 0)\n",
    "std_test = torch.sqrt((torch.trapezoid((ldos[test_index] - mldos)**2, xdos, axis=1)).mean())\n",
    "mldos = ldos.mean(axis = 0)\n",
    "std_all = torch.sqrt((torch.trapezoid((ldos - mldos)**2, xdos, axis=1)).mean())"
   ]
  },
  {
   "cell_type": "code",
   "execution_count": 34,
   "id": "a1beca51",
   "metadata": {
    "ExecuteTime": {
     "end_time": "2023-02-22T16:48:28.120404Z",
     "start_time": "2023-02-22T16:48:28.114134Z"
    }
   },
   "outputs": [
    {
     "data": {
      "text/plain": [
       "tensor(0.0559)"
      ]
     },
     "execution_count": 34,
     "metadata": {},
     "output_type": "execute_result"
    }
   ],
   "source": [
    "train_loss"
   ]
  },
  {
   "cell_type": "code",
   "execution_count": 35,
   "id": "1252e710",
   "metadata": {
    "ExecuteTime": {
     "end_time": "2023-02-22T16:48:28.531781Z",
     "start_time": "2023-02-22T16:48:28.526304Z"
    }
   },
   "outputs": [
    {
     "data": {
      "text/plain": [
       "tensor(0.0559)"
      ]
     },
     "execution_count": 35,
     "metadata": {},
     "output_type": "execute_result"
    }
   ],
   "source": [
    "train_loss"
   ]
  },
  {
   "cell_type": "code",
   "execution_count": 36,
   "id": "3fdf9389",
   "metadata": {
    "ExecuteTime": {
     "end_time": "2023-02-22T16:48:29.235449Z",
     "start_time": "2023-02-22T16:48:29.228342Z"
    }
   },
   "outputs": [
    {
     "data": {
      "text/plain": [
       "tensor(9.5086)"
      ]
     },
     "execution_count": 36,
     "metadata": {},
     "output_type": "execute_result"
    }
   ],
   "source": [
    "100 * train_loss / std_train"
   ]
  },
  {
   "cell_type": "code",
   "execution_count": 37,
   "id": "d20f6727",
   "metadata": {
    "ExecuteTime": {
     "end_time": "2023-02-22T16:48:31.790964Z",
     "start_time": "2023-02-22T16:48:31.786409Z"
    }
   },
   "outputs": [
    {
     "data": {
      "text/plain": [
       "tensor(9.5086)"
      ]
     },
     "execution_count": 37,
     "metadata": {},
     "output_type": "execute_result"
    }
   ],
   "source": [
    "atrain_loss"
   ]
  },
  {
   "cell_type": "code",
   "execution_count": 38,
   "id": "3419ec1f",
   "metadata": {
    "ExecuteTime": {
     "end_time": "2023-02-22T16:48:32.282170Z",
     "start_time": "2023-02-22T16:48:32.269348Z"
    }
   },
   "outputs": [
    {
     "data": {
      "text/plain": [
       "tensor([  5.0000,  -1.0000,  -4.0000,  -1.0000,   1.0000,  -4.0000,   0.0000,\n",
       "          2.0000,  -1.0000,  -2.0000,  -1.0000,  -6.0000,  -1.0000,  -1.0000,\n",
       "          2.0000,  -1.0000,  -1.0000,  -1.0000,   1.0000,   2.0000,   4.0000,\n",
       "          4.0000,   2.0000,   2.0000,   2.0000,   2.0000,   1.0000,   0.0000,\n",
       "         -5.0000,  -2.0000,   1.0000,   1.0000,   3.0000,  -1.0000,  -1.0000,\n",
       "         -1.0000,   2.0000,   1.0000,  -1.0000,   1.0000,  -2.0000,   0.0000,\n",
       "         -2.0000,  -1.0000,   4.0000,  -1.0000,   2.0000,   5.0000,   4.0000,\n",
       "          3.0000,  -1.0000,  -4.0000,   1.0000,   1.0000,  -1.0000,  -4.0000,\n",
       "          1.0000,   1.0000,   3.0000,   2.0000,   2.0000,   2.0000,  -1.0000,\n",
       "          0.0000,  -1.0000,  -3.0000,  -1.0000,   0.0000,  -1.0000,   0.0000,\n",
       "          2.0000,  -1.0000,   1.0000,   1.0000,   2.0000,   2.0000,   4.0000,\n",
       "          1.0000,   0.0000,   1.0000,   0.0000,   0.0000,  -2.0000,  -7.0000,\n",
       "          2.0000,   1.0000,   2.0000,   4.0000,  -1.0000,   2.0000,   1.0000,\n",
       "          1.0000,   2.0000,   0.0000,   1.0000,  -1.0000,  -4.0000,  -8.0000,\n",
       "         -1.0000,   1.0000,   1.0000,   1.0000,  -6.0000,  -4.0000,  -1.0000,\n",
       "          0.0000,   2.0000,   3.0000,   2.0000,   5.0000,  -1.0000,   2.0000,\n",
       "          1.0000,  -1.0000,  -2.0000,   1.0000,  -1.0000,   2.0000,   1.0000,\n",
       "         -1.0000,  -1.0000,   0.0000,   1.0000,   0.0000,   2.0000,   1.0000,\n",
       "          0.0000,   0.0000,  -1.0000,  -1.0000,  -2.0000,  -1.0000,  -1.0000,\n",
       "         -1.0000,  -1.0000,  -1.0000,   0.0000,  -1.0000,   2.0000,  -3.0000,\n",
       "         -2.0000,  -1.0000,  -1.0000,  -1.0000,  -3.0000,  -2.0000,  -2.0000,\n",
       "          2.0000,  -3.0000,  -2.0000,  -1.0000,   2.0000,   2.0000,  -1.0000,\n",
       "          4.0000,   1.0000,  -1.0000,   0.0000,  -1.0000,   1.0000,   1.0000,\n",
       "          2.0000,   0.0000,  -1.0000,   3.0000,   1.0000,  -1.0000,  -3.0000,\n",
       "         -2.0000,   1.0000,   2.0000,  -1.0000,  -1.0000,   0.0000,   0.0000,\n",
       "         -1.0000,   2.0000,   0.0000,   2.0000,   0.0000,   1.0000,  -1.0000,\n",
       "         -1.0000,  -3.0000,  -1.0000,   1.0000,   1.0000,  -1.0000,   0.0000,\n",
       "          2.0000,   1.0000,   1.0000,   0.0000,  -1.0000,   0.0000,   2.0000,\n",
       "         -1.0000,   0.0000,  -1.0000,   1.0000,   1.0000,  -2.0000,   2.0000,\n",
       "          1.0000,   2.0000,  -1.0000,   1.0000,   0.0000,   4.0000,   1.0000,\n",
       "         -1.0000,  -4.0000,  -1.0000,   2.0000,  -1.0000,   0.0000,  -8.0000,\n",
       "          1.0000,   6.0000,   0.0000,  -1.0000,  -1.0000,   0.0000,  -1.0000,\n",
       "          1.0000,   2.0000,   1.0000,   2.0000,   0.0000,  -1.0000,   5.0000,\n",
       "          3.0000,   0.0000,   1.0000,   0.0000,   1.0000,  -1.0000,   2.0000,\n",
       "         -1.0000,   1.0000,   5.0000,   3.0000,   1.0000,   2.0000,   2.0000,\n",
       "         -2.0000,   2.0000,   0.0000,  -1.0000,  -1.0000,  -1.0000,   4.0000,\n",
       "          0.0000,   1.0000,  -1.0000,  -1.0000,   1.0000,   2.0000,   0.0000,\n",
       "        -15.0000,   0.0000,  -5.0000,   2.0000,  -1.0000,   0.0000,   1.0000,\n",
       "          1.0000,  -2.0000,  -1.0000,   2.0000, -10.0000,   1.0000,  -2.0000,\n",
       "         -5.0000,   1.0000,   1.0000,   1.0000,  -4.0000,  -3.0000,   5.0000,\n",
       "         -1.0000,  -1.0000,   1.0000,   0.0000,  -1.0000,   5.0000,  -2.0000,\n",
       "          0.0000,   1.0000,   1.0000,   0.0000,  -1.0000,  -2.0000,   3.0000,\n",
       "         -2.0000,   1.0000,   0.0000,   6.0000,  -1.0000,   0.0000,   0.0000,\n",
       "         -3.0000,   0.0000,   2.0000,   2.0000,  -2.0000,   1.0000,  -1.0000,\n",
       "          2.0000,  -1.0000,   1.0000,   1.0000,  -8.0000,  -1.0000,   0.0000,\n",
       "          0.0000,  -1.0000,   1.0000,   3.0000,  -1.0000,   2.0000,   0.0000,\n",
       "         -1.0000,   0.0000,  -3.0000,   0.0000,   1.0000,   0.0000,   1.0000,\n",
       "          0.0000,   0.0000,   2.0000,   2.0000,   3.0000,  -3.0000,  -4.0000,\n",
       "          1.0000,   1.0000,  -1.0000,   3.0000,   0.0000,  -3.0000,  -1.0000,\n",
       "          2.0000,   1.0000,   2.0000,   0.0000,   0.0000,  -3.0000,   0.0000,\n",
       "          1.0000,  -1.0000,  -3.0000,   5.0000,  -3.0000,  -1.0000,   1.0000,\n",
       "         -1.0000,   0.0000,   4.0000,  -1.0000,  -1.0000,  -1.0000,   1.0000,\n",
       "         -1.0000,  -1.0000,  -1.0000,   1.0000,   1.0000,  -5.0000,  -1.0000,\n",
       "          0.0000,   2.0000,   1.0000,   3.0000,  -1.0000,   0.0000,   1.0000,\n",
       "          1.0000,   2.0000,  -2.0000,   3.0000,   2.0000,   2.0000, -19.0000,\n",
       "          3.0000,  -1.0000,   0.0000,   2.0000,  -1.0000,  -3.0000,   1.0000,\n",
       "          1.0000,   1.0000,   0.0000,  -1.0000,  -2.0000,   1.0000,  -1.0000,\n",
       "         -5.0000,   2.0000,   4.0000,   1.0000,   1.0000,   0.0000,  -5.0000,\n",
       "          0.0000,   0.0000,  -1.0000,  -7.0000,  -2.0000,  -1.0000,   0.0000,\n",
       "          1.0000,   1.0000,   1.0000,   3.0000,  -2.0000,   0.0000,   2.0000,\n",
       "         -1.0000,  -4.0000,  -1.0000, -19.0000,   1.0000,   1.0000,   1.0000,\n",
       "          1.0000,   1.0000,   1.0000,   1.0000,  -3.0000,  -1.0000,   2.0000,\n",
       "         -1.0000,   2.0000,  -1.0000,   0.0000,   2.0000,  -1.0000,  -1.0000,\n",
       "          3.0000,   2.0000,  -3.0000,   2.0000,  -1.0000,   0.0000,   0.0000,\n",
       "          1.0000,  -1.0000,   3.0000,   5.0000,   2.0000,  -1.0000,   2.0000,\n",
       "         -5.0000,   1.0000,   2.0000,   2.0000,   0.0000,   1.0000,  -2.0000,\n",
       "         -1.0000,   1.0000,   0.0000,   1.0000,   1.0000,   0.0000,   1.0000,\n",
       "         -1.0000,   6.0000,   1.0000, -14.0000,   2.0000,  -1.0000,   1.0000,\n",
       "         -1.0000,  -1.0000,   2.0000,   2.0000,   2.0000,  -1.0000,   3.0000,\n",
       "          0.0000,  -2.0000,  -3.0000,   0.0000,  -1.0000,  -2.0000,   2.0000,\n",
       "          5.0000,   2.0000,  -1.0000,   1.0000,   0.0000,   1.0000,  -5.0000,\n",
       "          2.0000,   1.0000,  -1.0000,   4.0000,   1.0000,   0.0000,  -1.0000,\n",
       "         -1.0000,   1.0000,   0.0000,   1.0000,   1.0000,   2.0000,  -2.0000,\n",
       "         -1.0000,  -1.0000,   2.0000,  -1.0000,  -5.0000,  -1.0000,   3.0000,\n",
       "          1.0000,  -3.0000, -10.0000,   0.0000,   4.0000,  -3.0000,   0.0000,\n",
       "          2.0000,   0.0000,   0.0000,   0.0000,  -1.0000,   1.0000,   2.0000,\n",
       "         -5.0000,   1.0000,   1.0000,   0.0000,   1.0000,  -1.0000,  -1.0000,\n",
       "          2.0000,   3.0000,   1.0000,   2.0000,   2.0000,   1.0000,  -1.0000,\n",
       "          1.0000,  -7.0000,   3.0000,   1.0000,  -3.0000,  -5.0000,  -1.0000,\n",
       "          2.0000,   3.0000,   1.0000,   1.0000,  -1.0000,   2.0000,   4.0000,\n",
       "          0.0000,  -2.0000,   0.0000, -16.0000,  -3.0000,   0.0000,   1.0000,\n",
       "          0.0000,   3.0000,  -1.0000,   1.0000,   1.0000,   1.0000,   1.0000,\n",
       "        -17.0000,  -1.0000,   0.0000,  -1.0000,   1.0000,  -5.0000,   3.0000,\n",
       "          5.0000,   3.0000,  -9.0000,  -1.0000,  -1.0000,  -1.0000,  -1.0000,\n",
       "         -1.0000,  -1.0000,  -1.0000,  -8.0000,  -1.0000,  -8.0000,   2.0000,\n",
       "         -1.0000,   1.0000,   0.0000,  -2.0000,   1.0000,   0.0000,   0.0000,\n",
       "          3.0000,  -1.0000,   2.0000,   2.0000,   3.0000,  -1.0000,  -1.0000,\n",
       "          0.0000,   3.0000,   3.0000,   1.0000,  -1.0000,   0.0000,  -1.0000,\n",
       "          1.0000,   0.0000,   0.0000,   2.0000,   2.0000,   2.0000, -18.0000,\n",
       "          1.0000,  -2.0000,  -1.0000,  -1.0000,  -2.0000,   1.0000,   2.0000,\n",
       "          1.0000,   1.0000,  -1.0000,  -1.0000,   1.0000,  -1.0000,   1.0000,\n",
       "          1.0000,  -2.0000,  -1.0000,  -1.0000,   2.0000,   2.0000,   1.0000,\n",
       "         -5.0000,  -1.0000,  -1.0000,   0.0000,   1.0000,  -1.0000,   0.0000,\n",
       "          0.0000,   2.0000,   2.0000,   1.0000,  -1.0000,   0.0000,  -1.0000,\n",
       "          2.0000,  -1.0000,  -6.0000,  -1.0000,   5.0000,   1.0000,   0.0000,\n",
       "         -1.0000,  -1.0000,  -1.0000,   2.0000,   1.0000,   2.0000,  -2.0000,\n",
       "         -1.0000,   2.0000,   2.0000,   1.0000,  -2.0000,  -3.0000,   1.0000,\n",
       "          2.0000,  -2.0000,   3.0000,   2.0000,   1.0000,   4.0000,  -1.0000,\n",
       "          0.0000,   2.0000,   2.0000,   2.0000,   1.0000,  -1.0000,   0.0000,\n",
       "         -1.0000,   1.0000,   1.0000,   5.0000,   2.0000,  -1.0000,   1.0000,\n",
       "          4.0000,   1.0000,   2.0000,   1.0000,   0.0000,   2.0000,   2.0000,\n",
       "          0.0000,   1.0000,  -1.0000,   1.0000,  -1.0000,  -6.0000,   2.0000,\n",
       "         -3.0000,  -1.0000,  -1.0000,  -1.0000,   5.0000,   1.0000,   6.0000,\n",
       "          1.0000,   0.0000,   0.0000,   1.0000,   0.0000,  -1.0000,   2.0000,\n",
       "          3.0000,  -2.0000,   2.0000,   1.0000,  -4.0000,   0.0000,   1.0000,\n",
       "          2.0000,  -2.0000,   1.0000,   4.0000,   1.0000,  -1.0000,   1.0000,\n",
       "          1.0000,   1.0000,  -6.0000,   0.0000,   2.0000,  -1.0000,   2.0000,\n",
       "         -1.0000,   1.0000,   3.0000,   0.0000,  -1.0000,  -1.0000,  -1.0000,\n",
       "         -2.0000,   1.0000,   0.0000,  -1.0000,  -2.0000,   0.0000,  -5.0000,\n",
       "          2.0000,  -2.0000,   1.0000,   1.0000,   1.0000,   2.0000,   0.0000,\n",
       "          1.0000,  -1.0000,   0.0000,  -1.0000,  -3.0000,   1.0000,   2.0000,\n",
       "          2.0000,   2.0000,  -1.0000,  -1.0000,   0.0000,   5.0000,   0.0000,\n",
       "          2.0000,  -1.0000,   1.0000,   4.0000,  -1.0000,  -1.0000,   2.0000,\n",
       "         -1.0000,   3.0000,   0.0000,  -3.0000,  -1.0000,   0.0000,  -1.0000,\n",
       "          0.0000,   1.0000,  -1.0000,   0.0000,   1.0000,  -1.0000,  -1.0000,\n",
       "          0.0000,  -2.0000,   2.0000,   0.0000,   0.0000,   0.0000,   3.0000,\n",
       "        -10.0000,   3.0000,   1.0000,   0.0000,   0.0000,   2.0000,   2.0000,\n",
       "         -2.0000,   0.0000,   2.0000,  -1.0000,  -1.0000,   2.0000,  -2.0000,\n",
       "          1.0000,  -6.0000,   4.0000,   1.0000,   1.0000])"
      ]
     },
     "execution_count": 38,
     "metadata": {},
     "output_type": "execute_result"
    }
   ],
   "source": [
    "shift_range[train_indexes.long()]/0.05"
   ]
  },
  {
   "cell_type": "code",
   "execution_count": 39,
   "id": "e4513b5b",
   "metadata": {
    "ExecuteTime": {
     "end_time": "2023-02-22T16:48:32.595247Z",
     "start_time": "2023-02-22T16:48:32.588893Z"
    }
   },
   "outputs": [
    {
     "data": {
      "text/plain": [
       "tensor(10.3370)"
      ]
     },
     "execution_count": 39,
     "metadata": {},
     "output_type": "execute_result"
    }
   ],
   "source": [
    "100 * test_loss / std_test"
   ]
  },
  {
   "cell_type": "code",
   "execution_count": 40,
   "id": "904d1b2e",
   "metadata": {
    "ExecuteTime": {
     "end_time": "2023-02-22T16:48:33.093062Z",
     "start_time": "2023-02-22T16:48:33.088616Z"
    }
   },
   "outputs": [
    {
     "data": {
      "text/plain": [
       "tensor(10.3370)"
      ]
     },
     "execution_count": 40,
     "metadata": {},
     "output_type": "execute_result"
    }
   ],
   "source": [
    "atest_loss"
   ]
  },
  {
   "cell_type": "code",
   "execution_count": 41,
   "id": "3b25b946",
   "metadata": {
    "ExecuteTime": {
     "end_time": "2023-02-22T16:48:33.446991Z",
     "start_time": "2023-02-22T16:48:33.440510Z"
    }
   },
   "outputs": [
    {
     "data": {
      "text/plain": [
       "tensor([ -1.0000,  -1.0000,   2.0000,   2.0000,   3.0000,   0.0000,   2.0000,\n",
       "          3.0000,   2.0000,   2.0000,   2.0000,  -1.0000,  -3.0000,   0.0000,\n",
       "          2.0000,   3.0000,   0.0000,  -1.0000,  -1.0000,  -1.0000,  -1.0000,\n",
       "          1.0000,  -1.0000,   0.0000,   1.0000,  -1.0000,  -2.0000,   1.0000,\n",
       "          0.0000,  -1.0000,  -2.0000,  -1.0000,  -4.0000,   2.0000,  -1.0000,\n",
       "          1.0000,  -2.0000,  -3.0000,   3.0000,   1.0000,   2.0000,   1.0000,\n",
       "        -11.0000,   0.0000,   1.0000,  -2.0000,  -1.0000,   2.0000,   1.0000,\n",
       "          2.0000,  -3.0000,  -3.0000,   0.0000,   5.0000,  -1.0000,   0.0000,\n",
       "         -3.0000,  -1.0000,   1.0000,   1.0000,   0.0000,   0.0000,  -1.0000,\n",
       "          1.0000,   2.0000,   0.0000,   2.0000,   0.0000,   2.0000,   4.0000,\n",
       "          0.0000,   2.0000,  -4.0000,  -4.0000,   3.0000,  -1.0000,   2.0000,\n",
       "         -1.0000,   2.0000,   2.0000,  -1.0000,   2.0000,  -1.0000,   1.0000,\n",
       "         -4.0000,   2.0000,  -3.0000,   1.0000,  -1.0000,  -1.0000,  -1.0000,\n",
       "         -1.0000,   0.0000,  -1.0000,  -1.0000,   1.0000,  -2.0000,   2.0000,\n",
       "          1.0000,   1.0000,   2.0000,  -3.0000,   2.0000,  -1.0000,  -7.0000,\n",
       "         -1.0000,  -1.0000,  -1.0000,   0.0000,   6.0000,   3.0000,  -1.0000,\n",
       "          1.0000,   0.0000,   3.0000,   1.0000,  -2.0000,  -1.0000,  -8.0000,\n",
       "          1.0000,  -2.0000,  -2.0000,   2.0000,  -1.0000,   2.0000,  -4.0000,\n",
       "          1.0000,  -1.0000,  -4.0000,  -1.0000,   2.0000,  -1.0000,   3.0000,\n",
       "         -1.0000,  -1.0000,  -2.0000,  -1.0000,  -1.0000,  -1.0000,  -1.0000,\n",
       "          1.0000,   2.0000,   0.0000,  -3.0000,   1.0000,  -1.0000,  -2.0000,\n",
       "          0.0000,   1.0000,   2.0000,   0.0000,   1.0000,  -1.0000,   1.0000,\n",
       "          3.0000,  -1.0000,   3.0000,   1.0000,  -1.0000,   0.0000,   1.0000,\n",
       "         -1.0000,   2.0000,  -1.0000,  -1.0000,   2.0000,   2.0000,   2.0000,\n",
       "         -1.0000,  -2.0000,   1.0000,  -2.0000,   2.0000,  -1.0000,   2.0000,\n",
       "          6.0000,  -1.0000,   1.0000,   1.0000,   0.0000,  -8.0000,  -1.0000,\n",
       "          0.0000,   2.0000,  -1.0000,  -1.0000,   0.0000,   2.0000,   4.0000,\n",
       "         -1.0000,  -1.0000,  -2.0000,  -1.0000,   2.0000,  -1.0000,   1.0000,\n",
       "         -5.0000,   2.0000,  -1.0000,  -1.0000,   3.0000,   2.0000,  -2.0000,\n",
       "          1.0000,   0.0000,  -1.0000,   2.0000,  -1.0000])"
      ]
     },
     "execution_count": 41,
     "metadata": {},
     "output_type": "execute_result"
    }
   ],
   "source": [
    "shift_range[test_indexes.long()]/0.05"
   ]
  },
  {
   "cell_type": "code",
   "execution_count": 42,
   "id": "8ca3151b",
   "metadata": {
    "ExecuteTime": {
     "end_time": "2023-02-22T16:48:33.619571Z",
     "start_time": "2023-02-22T16:48:33.613052Z"
    }
   },
   "outputs": [
    {
     "data": {
      "text/plain": [
       "tensor(9.6875)"
      ]
     },
     "execution_count": 42,
     "metadata": {},
     "output_type": "execute_result"
    }
   ],
   "source": [
    "100 * total_loss/ std_all"
   ]
  },
  {
   "cell_type": "code",
   "execution_count": 43,
   "id": "8efa4b37",
   "metadata": {
    "ExecuteTime": {
     "end_time": "2023-02-22T16:48:34.576825Z",
     "start_time": "2023-02-22T16:48:34.570619Z"
    }
   },
   "outputs": [
    {
     "data": {
      "text/plain": [
       "tensor(9.6875)"
      ]
     },
     "execution_count": 43,
     "metadata": {},
     "output_type": "execute_result"
    }
   ],
   "source": [
    "atotal_loss"
   ]
  },
  {
   "cell_type": "code",
   "execution_count": 44,
   "id": "abb7f04d",
   "metadata": {
    "ExecuteTime": {
     "end_time": "2023-02-22T16:48:34.738828Z",
     "start_time": "2023-02-22T16:48:34.728860Z"
    }
   },
   "outputs": [
    {
     "data": {
      "text/plain": [
       "tensor([2., 1., 1., 1., 1., 1., 1., 1., 1., 1., 1., 1., 0., 1., 2., 1., 1., 1.,\n",
       "        1., 2., 1., 1., 1., 0., 1., 1., 1., 1., 0., 1., 0., 1., 0., 1., 2., 1.,\n",
       "        1., 2., 1., 1., 1., 1., 1., 0., 1., 0., 1., 2., 1., 1., 0., 1., 2., 1.,\n",
       "        1., 1., 1., 1., 2., 1., 1., 1., 1., 1., 1., 1., 2., 1., 1., 1., 1., 2.,\n",
       "        1., 0., 2., 1., 1., 1., 1., 1., 1., 0., 1., 1., 1., 1., 1., 1., 1., 1.,\n",
       "        1., 1., 2., 2., 1., 1., 1., 1., 1., 1.])"
      ]
     },
     "execution_count": 44,
     "metadata": {},
     "output_type": "execute_result"
    }
   ],
   "source": [
    "(shift_range[total_indexes.long()]/0.05)[939:1039]"
   ]
  },
  {
   "cell_type": "markdown",
   "id": "1cdc58d9",
   "metadata": {},
   "source": [
    "## Analytical"
   ]
  },
  {
   "cell_type": "code",
   "execution_count": 207,
   "id": "50dc881f",
   "metadata": {
    "ExecuteTime": {
     "end_time": "2023-02-22T16:25:54.246110Z",
     "start_time": "2023-02-22T16:25:54.092206Z"
    }
   },
   "outputs": [],
   "source": []
  },
  {
   "cell_type": "code",
   "execution_count": 47,
   "id": "f31a1f17",
   "metadata": {
    "ExecuteTime": {
     "end_time": "2023-02-22T17:09:24.697739Z",
     "start_time": "2023-02-22T16:51:19.032635Z"
    }
   },
   "outputs": [
    {
     "name": "stderr",
     "output_type": "stream",
     "text": [
      "100%|████████████████████████████████████████████████████████████████████████████████████████████████████████████████████████████████████████████████████████████████████████████| 831/831 [18:05<00:00,  1.31s/it]\n"
     ]
    }
   ],
   "source": [
    "#use alignment to make full dataset\n",
    "sigma = torch.tensor(0.3)\n",
    "dx = 0.05\n",
    "\n",
    "emin = -24.5537\n",
    "emax = 11.3464\n",
    "\n",
    "\n",
    "ndos = int((emax-emin+3) / dx) #number of points\n",
    "xdos = torch.linspace(emin-1.5, emax+1.5, ndos) # extend the energy grid by 3eV \n",
    "final_ldos = []\n",
    "with torch.no_grad():\n",
    "    for i in tqdm(range(len(train_index))):#for every structure    \n",
    "        i_ldos = torch.zeros(ndos)\n",
    "        for j in (full_eigen_energies[i]):\n",
    "            i_ldos += (torch.exp(-0.5*((soap_dataset.alignment[i] + xdos - j)/sigma)**2))\n",
    "        final_ldos.append(i_ldos * normalization[train_index[i]])\n",
    "\n",
    "#final_ldos = ((ldos.T * normalization ).T)* 2"
   ]
  },
  {
   "cell_type": "code",
   "execution_count": 49,
   "id": "a6aea555",
   "metadata": {
    "ExecuteTime": {
     "end_time": "2023-02-22T17:34:45.467536Z",
     "start_time": "2023-02-22T17:34:45.435532Z"
    }
   },
   "outputs": [],
   "source": [
    "final_ldos = torch.vstack(final_ldos)"
   ]
  },
  {
   "cell_type": "code",
   "execution_count": 52,
   "id": "e7f96737",
   "metadata": {
    "ExecuteTime": {
     "end_time": "2023-02-22T17:35:19.600650Z",
     "start_time": "2023-02-22T17:35:19.521844Z"
    }
   },
   "outputs": [],
   "source": [
    "\n"
   ]
  },
  {
   "cell_type": "code",
   "execution_count": null,
   "id": "871d4fce",
   "metadata": {
    "ExecuteTime": {
     "start_time": "2023-02-22T17:36:00.144Z"
    }
   },
   "outputs": [
    {
     "name": "stdout",
     "output_type": "stream",
     "text": [
      "training over\n"
     ]
    }
   ],
   "source": [
    "#def evaluate_performance(new_dos):\n",
    "\n",
    "\n",
    "\n",
    "\n",
    "with torch.no_grad():\n",
    "    Features = torch.hstack([Silicon.Features['structure_avedescriptors'][train_index].double(), torch.ones(len(train_index)).view(-1,1)])\n",
    "    Target = final_ldos\n",
    "    optimal_weights = torch.linalg.lstsq(Features, Target, driver = 'gelsd').solution\n",
    "    Total_Features = torch.hstack([Silicon.Features['structure_avedescriptors'].double(), torch.ones(len(Silicon.Features['structure_avedescriptors'])).view(-1,1)])\n",
    "    print (\"training over\")\n",
    "    shift_range = torch.tensor([0.05 * a for a in torch.arange(-80,80)])\n",
    "    Total_preds = Total_Features @ optimal_weights\n",
    "    atrain_loss, atrain_indexes = loss.t_get_BF_shift_index_error(Total_preds[train_index], ldos[train_index], shift_range, xdos, perc = True)\n",
    "    atest_loss, atest_indexes = loss.t_get_BF_shift_index_error(Total_preds[test_index], ldos[test_index], shift_range, xdos, perc = True)\n",
    "    atotal_loss, atotal_indexes = loss.t_get_BF_shift_index_error(Total_preds, ldos, shift_range, xdos, perc = True)\n",
    "\n"
   ]
  },
  {
   "cell_type": "code",
   "execution_count": null,
   "id": "622855e2",
   "metadata": {
    "ExecuteTime": {
     "start_time": "2023-02-22T17:36:17.485Z"
    }
   },
   "outputs": [],
   "source": [
    "print (atrain_loss)"
   ]
  },
  {
   "cell_type": "code",
   "execution_count": null,
   "id": "950af5af",
   "metadata": {
    "ExecuteTime": {
     "start_time": "2023-02-22T17:36:21.632Z"
    }
   },
   "outputs": [],
   "source": [
    "print (atest_loss)"
   ]
  },
  {
   "cell_type": "code",
   "execution_count": null,
   "id": "0266ad36",
   "metadata": {
    "ExecuteTime": {
     "start_time": "2023-02-22T17:36:25.236Z"
    }
   },
   "outputs": [],
   "source": [
    "print (atotal_loss)"
   ]
  },
  {
   "cell_type": "code",
   "execution_count": null,
   "id": "af2c332d",
   "metadata": {},
   "outputs": [],
   "source": []
  },
  {
   "cell_type": "code",
   "execution_count": 106,
   "id": "c82d1b52",
   "metadata": {
    "ExecuteTime": {
     "end_time": "2023-02-22T14:27:38.441374Z",
     "start_time": "2023-02-22T14:27:34.059252Z"
    }
   },
   "outputs": [],
   "source": []
  },
  {
   "cell_type": "code",
   "execution_count": 111,
   "id": "88c3c56f",
   "metadata": {
    "ExecuteTime": {
     "end_time": "2023-02-22T14:28:43.208743Z",
     "start_time": "2023-02-22T14:28:42.961990Z"
    }
   },
   "outputs": [
    {
     "data": {
      "text/plain": [
       "[<matplotlib.lines.Line2D at 0x7fb709cbe190>]"
      ]
     },
     "execution_count": 111,
     "metadata": {},
     "output_type": "execute_result"
    },
    {
     "data": {
      "image/png": "[encoded data removed]",
      "text/plain": [
       "<Figure size 432x288 with 1 Axes>"
      ]
     },
     "metadata": {
      "needs_background": "light"
     },
     "output_type": "display_data"
    }
   ],
   "source": [
    "%matplotlib inline\n",
    "i = 3\n",
    "plt.plot(xdos,new_dos[i].detach().numpy(), c = 'r')\n",
    "plt.plot(xdos, ldos[train_index[i]], c= 'b')"
   ]
  },
  {
   "cell_type": "code",
   "execution_count": 12,
   "id": "66786581",
   "metadata": {
    "ExecuteTime": {
     "end_time": "2023-02-16T08:39:06.823661Z",
     "start_time": "2023-02-16T08:39:06.819813Z"
    }
   },
   "outputs": [],
   "source": [
    "def generate_energy_index(eigenenergy_length):\n",
    "    n_structures = len(eigenenergy_length)\n",
    "    total_index = []\n",
    "    for i, e_vals in enumerate(eigenenergy_length):\n",
    "        indiv_index = torch.zeros(e_vals) + i\n",
    "        total_index.append(indiv_index)\n",
    "    total_index = torch.hstack(total_index)\n",
    "    return total_index.long()"
   ]
  },
  {
   "cell_type": "code",
   "execution_count": 13,
   "id": "54ca4d16",
   "metadata": {
    "ExecuteTime": {
     "end_time": "2023-02-16T08:39:07.380768Z",
     "start_time": "2023-02-16T08:39:07.157417Z"
    }
   },
   "outputs": [],
   "source": [
    "energy_index = generate_energy_index(eigenenergy_length)"
   ]
  },
  {
   "cell_type": "code",
   "execution_count": 14,
   "id": "c5a39d14",
   "metadata": {
    "ExecuteTime": {
     "end_time": "2023-02-16T08:39:07.473228Z",
     "start_time": "2023-02-16T08:39:07.387758Z"
    }
   },
   "outputs": [],
   "source": [
    "energies = torch.hstack(full_eigen_energies).view(-1,1)"
   ]
  },
  {
   "cell_type": "code",
   "execution_count": 15,
   "id": "d9e44023",
   "metadata": {
    "ExecuteTime": {
     "end_time": "2023-02-16T08:39:08.146583Z",
     "start_time": "2023-02-16T08:39:08.136158Z"
    }
   },
   "outputs": [],
   "source": [
    "def torch_generate_dos(energies, eigenenergy_length_t, normalization, splits):\n",
    "    ldoses = []\n",
    "    for i in tqdm(range(len(splits) - 1)):\n",
    "        indexes = generate_energy_index(eigenenergy_length_t[splits[i]:splits[i+1]])\n",
    "        E = energies[torch.sum(eigenenergy_length_t[:splits[i]]):torch.sum(eigenenergy_length_t[:splits[i]]) + torch.sum(eigenenergy_length_t[splits[i]:splits[i+1]])]\n",
    "        split_ldos = torch.zeros(splits[i+1] - splits[i], len(xdos))\n",
    "        \n",
    "        new_ldos = (torch.exp(-0.5*((xdos - E)/sigma)**2))\n",
    "        \n",
    "        split_ldos.index_add_(0, indexes, new_ldos)\n",
    "        \n",
    "        ldoses.append(split_ldos)\n",
    "    ldoses = torch.vstack(ldoses)     \n",
    "    \n",
    "    final_ldos = ((ldoses.T * normalization ).T)* 2\n",
    "    return final_ldos\n",
    "    \n"
   ]
  },
  {
   "cell_type": "code",
   "execution_count": 16,
   "id": "7689c586",
   "metadata": {
    "ExecuteTime": {
     "end_time": "2023-02-16T08:39:08.576690Z",
     "start_time": "2023-02-16T08:39:08.574219Z"
    }
   },
   "outputs": [],
   "source": [
    "# ldos2 = torch_generate_dos(energies, eigenenergy_length_t, normalization, [0, 100, 200, 300, 400, 500, 800, 1039])"
   ]
  },
  {
   "cell_type": "code",
   "execution_count": 17,
   "id": "d7efc2ab",
   "metadata": {
    "ExecuteTime": {
     "end_time": "2023-02-16T08:39:09.032679Z",
     "start_time": "2023-02-16T08:39:09.027183Z"
    }
   },
   "outputs": [
    {
     "data": {
      "text/plain": [
       "torch.Size([435])"
      ]
     },
     "execution_count": 17,
     "metadata": {},
     "output_type": "execute_result"
    }
   ],
   "source": [
    "alignment.shape"
   ]
  },
  {
   "cell_type": "code",
   "execution_count": 18,
   "id": "d61874f7",
   "metadata": {
    "ExecuteTime": {
     "end_time": "2023-02-16T08:39:09.588529Z",
     "start_time": "2023-02-16T08:39:09.585975Z"
    }
   },
   "outputs": [],
   "source": [
    "lr = 100\n",
    "n_epochs = 1000\n",
    "\n"
   ]
  },
  {
   "cell_type": "code",
   "execution_count": 19,
   "id": "54872698",
   "metadata": {
    "ExecuteTime": {
     "end_time": "2023-02-16T08:39:19.381624Z",
     "start_time": "2023-02-16T08:39:13.631029Z"
    }
   },
   "outputs": [
    {
     "name": "stderr",
     "output_type": "stream",
     "text": [
      "100%|████████████████████████████████████████████████████████████████████████████████████████████████████████████████████████████████████████████████████████████████████| 435/435 [00:05<00:00, 75.96it/s]\n"
     ]
    }
   ],
   "source": [
    "sigma = torch.tensor(0.3)\n",
    "dx = 0.05\n",
    "\n",
    "emin = -24.5537\n",
    "emax = 11.3464\n",
    "\n",
    "\n",
    "ndos = int((emax-emin+3) / dx) #number of points\n",
    "xdos = torch.linspace(emin-1.5, emax+1.5, ndos) # extend the energy grid by 3eV \n",
    "ldos = torch.zeros((len(small_index), ndos))\n",
    "for i in tqdm(range(len(small_index))):#for every structure    \n",
    "    ldos[i] = torch.sum(torch.exp(-0.5*((alignment[i] + xdos - full_eigen_energies[small_index[i]].view(-1,1))/sigma)**2), dim = 0)\n",
    "\n",
    "final_ldos = ((ldos.T * normalization ).T)* 2"
   ]
  },
  {
   "cell_type": "code",
   "execution_count": 20,
   "id": "60bd101f",
   "metadata": {
    "ExecuteTime": {
     "end_time": "2023-02-16T08:39:19.400819Z",
     "start_time": "2023-02-16T08:39:19.385744Z"
    }
   },
   "outputs": [],
   "source": [
    "loss = torch.sum((1 - torch.abs((torch.corrcoef(torch.hstack([kernel_features, final_ldos]).T)[0][1:])))**2)"
   ]
  },
  {
   "cell_type": "code",
   "execution_count": 21,
   "id": "908f44b7",
   "metadata": {
    "ExecuteTime": {
     "end_time": "2023-02-16T08:39:19.417545Z",
     "start_time": "2023-02-16T08:39:19.404028Z"
    }
   },
   "outputs": [
    {
     "name": "stdout",
     "output_type": "stream",
     "text": [
      "tensor(212.8861, grad_fn=<SumBackward0>)\n"
     ]
    }
   ],
   "source": [
    "print (loss)"
   ]
  },
  {
   "cell_type": "code",
   "execution_count": null,
   "id": "7e04ff2d",
   "metadata": {
    "ExecuteTime": {
     "start_time": "2023-02-16T08:39:58.336Z"
    }
   },
   "outputs": [
    {
     "name": "stderr",
     "output_type": "stream",
     "text": [
      "  0%|▏                                                                                                                                                                  | 1/1000 [00:09<2:45:56,  9.97s/it]"
     ]
    },
    {
     "name": "stdout",
     "output_type": "stream",
     "text": [
      "tensor(212.8861, grad_fn=<SumBackward0>)\n"
     ]
    },
    {
     "name": "stderr",
     "output_type": "stream",
     "text": [
      "\r",
      "  0%|▎                                                                                                                                                                  | 2/1000 [00:21<2:56:37, 10.62s/it]"
     ]
    },
    {
     "name": "stdout",
     "output_type": "stream",
     "text": [
      "tensor(212.1835, grad_fn=<SumBackward0>)\n"
     ]
    },
    {
     "name": "stderr",
     "output_type": "stream",
     "text": [
      "\r",
      "  0%|▍                                                                                                                                                                  | 3/1000 [00:29<2:41:25,  9.71s/it]"
     ]
    },
    {
     "name": "stdout",
     "output_type": "stream",
     "text": [
      "tensor(207.9559, grad_fn=<SumBackward0>)\n"
     ]
    },
    {
     "name": "stderr",
     "output_type": "stream",
     "text": [
      "\r",
      "  0%|▋                                                                                                                                                                  | 4/1000 [00:37<2:27:05,  8.86s/it]"
     ]
    },
    {
     "name": "stdout",
     "output_type": "stream",
     "text": [
      "tensor(204.2679, grad_fn=<SumBackward0>)\n"
     ]
    },
    {
     "name": "stderr",
     "output_type": "stream",
     "text": [
      "\r",
      "  0%|▊                                                                                                                                                                  | 5/1000 [00:45<2:25:24,  8.77s/it]"
     ]
    },
    {
     "name": "stdout",
     "output_type": "stream",
     "text": [
      "tensor(202.9791, grad_fn=<SumBackward0>)\n"
     ]
    },
    {
     "name": "stderr",
     "output_type": "stream",
     "text": [
      "\r",
      "  1%|▉                                                                                                                                                                  | 6/1000 [00:54<2:23:37,  8.67s/it]"
     ]
    },
    {
     "name": "stdout",
     "output_type": "stream",
     "text": [
      "tensor(203.2197, grad_fn=<SumBackward0>)\n"
     ]
    },
    {
     "name": "stderr",
     "output_type": "stream",
     "text": [
      "\r",
      "  1%|█▏                                                                                                                                                                 | 7/1000 [01:02<2:21:07,  8.53s/it]"
     ]
    },
    {
     "name": "stdout",
     "output_type": "stream",
     "text": [
      "tensor(203.7145, grad_fn=<SumBackward0>)\n"
     ]
    },
    {
     "name": "stderr",
     "output_type": "stream",
     "text": [
      "\r",
      "  1%|█▎                                                                                                                                                                 | 8/1000 [01:10<2:20:22,  8.49s/it]"
     ]
    },
    {
     "name": "stdout",
     "output_type": "stream",
     "text": [
      "tensor(203.2850, grad_fn=<SumBackward0>)\n"
     ]
    },
    {
     "name": "stderr",
     "output_type": "stream",
     "text": [
      "\r",
      "  1%|█▍                                                                                                                                                                 | 9/1000 [01:18<2:16:03,  8.24s/it]"
     ]
    },
    {
     "name": "stdout",
     "output_type": "stream",
     "text": [
      "tensor(202.0296, grad_fn=<SumBackward0>)\n"
     ]
    }
   ],
   "source": [
    "lr = 0.01\n",
    "alignment = torch.nn.parameter.Parameter(torch.zeros(len(small_index)))\n",
    "n_epochs = 1000\n",
    "\n",
    "optimizer = torch.optim.Adam(\n",
    "                [alignment],\n",
    "                lr=lr)#,  line_search_fn=\"strong_wolfe\")\n",
    "\n",
    "for i in tqdm(range(n_epochs)):\n",
    "    def closure():\n",
    "        optimizer.zero_grad()\n",
    "        sigma = torch.tensor(0.3)\n",
    "        dx = 0.05\n",
    "\n",
    "        emin = -24.5537\n",
    "        emax = 11.3464\n",
    "\n",
    "\n",
    "        ndos = int((emax-emin+3) / dx) #number of points\n",
    "        xdos = torch.linspace(emin-1.5, emax+1.5, ndos) # extend the energy grid by 3eV \n",
    "        ldos = torch.zeros((len(small_index), ndos))\n",
    "        for i in (range(len(small_index))):#for every structure    \n",
    "            ldos[i] = torch.sum(torch.exp(-0.5*((alignment[i] + xdos - full_eigen_energies[small_index[i]].view(-1,1))/sigma)**2), dim = 0)\n",
    "\n",
    "        final_ldos = ((ldos.T * normalization ).T)* 2\n",
    "        pc_loss = torch.sum((1 - torch.abs((torch.corrcoef(torch.hstack([kernel_features, final_ldos]).T)[0][1:])))**2)\n",
    "        #print (pc_loss)\n",
    "        pc_loss.backward()\n",
    "        return pc_loss\n",
    "    \n",
    "    mse = optimizer.step(closure)\n",
    "    \n",
    "    print (mse)"
   ]
  },
  {
   "cell_type": "code",
   "execution_count": null,
   "id": "a27ee561",
   "metadata": {},
   "outputs": [],
   "source": []
  },
  {
   "cell_type": "code",
   "execution_count": 80,
   "id": "50611879",
   "metadata": {
    "ExecuteTime": {
     "end_time": "2023-02-15T21:35:58.937150Z",
     "start_time": "2023-02-15T21:35:58.697835Z"
    }
   },
   "outputs": [
    {
     "data": {
      "text/plain": [
       "[<matplotlib.lines.Line2D at 0x7f10ec0a2c10>]"
      ]
     },
     "execution_count": 80,
     "metadata": {},
     "output_type": "execute_result"
    },
    {
     "data": {
      "image/png": "[encoded data removed]",
      "text/plain": [
       "<Figure size 432x288 with 1 Axes>"
      ]
     },
     "metadata": {
      "needs_background": "light"
     },
     "output_type": "display_data"
    }
   ],
   "source": [
    "%matplotlib inline\n",
    "index = 50\n",
    "plt.plot(xdos, o_ldos[small_index[index]], c = 'r')\n",
    "plt.plot(xdos, final_ldos[index].detach(), c = 'b')"
   ]
  },
  {
   "cell_type": "markdown",
   "id": "9e9f040b",
   "metadata": {},
   "source": [
    "torch.corrcoef\n",
    "torch.var"
   ]
  },
  {
   "cell_type": "code",
   "execution_count": 24,
   "id": "675d9ffc",
   "metadata": {
    "ExecuteTime": {
     "end_time": "2023-02-16T10:05:38.418301Z",
     "start_time": "2023-02-16T10:05:38.353655Z"
    }
   },
   "outputs": [
    {
     "name": "stdout",
     "output_type": "stream",
     "text": [
      "tensor(552253)\n"
     ]
    },
    {
     "ename": "NameError",
     "evalue": "name 'test_ldos' is not defined",
     "output_type": "error",
     "traceback": [
      "\u001b[0;31m---------------------------------------------------------------------------\u001b[0m",
      "\u001b[0;31mNameError\u001b[0m                                 Traceback (most recent call last)",
      "Input \u001b[0;32mIn [24]\u001b[0m, in \u001b[0;36m<cell line: 4>\u001b[0;34m()\u001b[0m\n\u001b[1;32m      1\u001b[0m tol \u001b[38;5;241m=\u001b[39m \u001b[38;5;241m1E-4\u001b[39m\n\u001b[1;32m      2\u001b[0m \u001b[38;5;28mprint\u001b[39m (torch\u001b[38;5;241m.\u001b[39msum(ldos \u001b[38;5;241m>\u001b[39m tol))\n\u001b[0;32m----> 4\u001b[0m plt\u001b[38;5;241m.\u001b[39mplot(xdos[(\u001b[43mtest_ldos\u001b[49m \u001b[38;5;241m>\u001b[39m tol)], test_ldos[(test_ldos \u001b[38;5;241m>\u001b[39m tol)])\n",
      "\u001b[0;31mNameError\u001b[0m: name 'test_ldos' is not defined"
     ]
    }
   ],
   "source": [
    "tol = 1E-4\n",
    "print (torch.sum(test_ldos > tol))\n",
    "\n",
    "plt.plot(xdos[(test_ldos > tol)], test_ldos[(test_ldos > tol)])"
   ]
  },
  {
   "cell_type": "code",
   "execution_count": 22,
   "id": "938df9f3",
   "metadata": {
    "ExecuteTime": {
     "end_time": "2023-02-16T10:05:21.184180Z",
     "start_time": "2023-02-16T10:05:20.379077Z"
    }
   },
   "outputs": [
    {
     "ename": "NameError",
     "evalue": "name 'test_ldos' is not defined",
     "output_type": "error",
     "traceback": [
      "\u001b[0;31m---------------------------------------------------------------------------\u001b[0m",
      "\u001b[0;31mNameError\u001b[0m                                 Traceback (most recent call last)",
      "Input \u001b[0;32mIn [22]\u001b[0m, in \u001b[0;36m<cell line: 1>\u001b[0;34m()\u001b[0m\n\u001b[0;32m----> 1\u001b[0m \u001b[38;5;28mlen\u001b[39m(xdos[(\u001b[43mtest_ldos\u001b[49m \u001b[38;5;241m>\u001b[39m tol)])\n",
      "\u001b[0;31mNameError\u001b[0m: name 'test_ldos' is not defined"
     ]
    }
   ],
   "source": [
    "len(xdos[(test_ldos > tol)])"
   ]
  },
  {
   "cell_type": "code",
   "execution_count": 212,
   "id": "e357e0fa",
   "metadata": {
    "ExecuteTime": {
     "end_time": "2023-02-15T18:43:55.022917Z",
     "start_time": "2023-02-15T18:43:55.004512Z"
    }
   },
   "outputs": [
    {
     "data": {
      "text/plain": [
       "tensor([6.3422e-155, 5.0089e-153, 3.8472e-151, 2.8738e-149, 2.0878e-147,\n",
       "        1.4751e-145, 1.0136e-143, 6.7735e-142, 4.4023e-140, 2.7826e-138,\n",
       "        1.7105e-136, 1.0226e-134, 5.9460e-133, 3.3623e-131, 1.8491e-129,\n",
       "        9.8900e-128, 5.1445e-126, 2.6026e-124, 1.2805e-122, 6.1272e-121,\n",
       "        2.8514e-119, 1.2906e-117, 5.6807e-116, 2.4319e-114, 1.0125e-112,\n",
       "        4.0999e-111, 1.6146e-109, 6.1840e-108, 2.3035e-106, 8.3453e-105,\n",
       "        2.9404e-103, 1.0076e-101, 3.3580e-100,  1.0885e-98,  3.4313e-97,\n",
       "         1.0520e-95,  3.1370e-94,  9.0977e-93,  2.5661e-91,  7.0396e-90,\n",
       "         1.8782e-88,  4.8739e-87,  1.2301e-85,  3.0194e-84,  7.2086e-83,\n",
       "         1.6738e-81,  3.7801e-80,  8.3031e-79,  1.7738e-77,  3.6858e-76,\n",
       "         7.4489e-75,  1.4642e-73,  2.7993e-72,  5.2054e-71,  9.4147e-70,\n",
       "         1.6562e-68,  2.8339e-67,  4.7164e-66,  7.6348e-65,  1.2021e-63,\n",
       "         1.8411e-62,  2.7426e-61,  3.9740e-60,  5.6011e-59,  7.6789e-58,\n",
       "         1.0240e-56,  1.3284e-55,  1.6761e-54,  2.0573e-53,  2.4563e-52,\n",
       "         2.8529e-51,  3.2233e-50,  3.5426e-49,  3.7876e-48,  3.9395e-47,\n",
       "         3.9860e-46,  3.9235e-45,  3.7572e-44,  3.5002e-43,  3.1723e-42,\n",
       "         2.7972e-41,  2.3996e-40,  2.0027e-39,  1.6263e-38,  1.2848e-37,\n",
       "         9.8763e-37,  7.3866e-36,  5.3754e-35,  3.8061e-34,  2.6223e-33,\n",
       "         1.7580e-32,  1.1468e-31,  7.2798e-31,  4.4967e-30,  2.7030e-29,\n",
       "         1.5811e-28,  9.0000e-28,  4.9857e-27,  2.6878e-26,  1.4102e-25,\n",
       "         7.2005e-25,  3.5783e-24,  1.7306e-23,  8.1466e-23,  3.7324e-22,\n",
       "         1.6644e-21,  7.2239e-21,  3.0518e-20,  1.2549e-19,  5.0228e-19,\n",
       "         1.9569e-18,  7.4212e-18,  2.7396e-17,  9.8450e-17,  3.4439e-16,\n",
       "         1.1728e-15,  3.8879e-15,  1.2547e-14,  3.9422e-14,  1.2058e-13,\n",
       "         3.5908e-13,  1.0411e-12,  2.9388e-12,  8.0771e-12,  2.1615e-11,\n",
       "         5.6326e-11,  1.4292e-10,  3.5316e-10,  8.4984e-10,  1.9917e-09,\n",
       "         4.5462e-09,  1.0108e-08,  2.1891e-08,  4.6188e-08,  9.4948e-08,\n",
       "         1.9018e-07,  3.7123e-07,  7.0625e-07,  1.3097e-06,  2.3680e-06,\n",
       "         4.1747e-06,  7.1780e-06,  1.2040e-05,  1.9703e-05,  3.1471e-05,\n",
       "         4.9073e-05,  7.4723e-05,  1.1115e-04,  1.6157e-04,  2.2961e-04,\n",
       "         3.1913e-04,  4.3403e-04,  5.7795e-04,  7.5390e-04,  9.6401e-04,\n",
       "         1.2092e-03,  1.4889e-03,  1.8013e-03,  2.1430e-03,  2.5095e-03,\n",
       "         2.8954e-03,  3.2947e-03,  3.7016e-03,  4.1104e-03,  4.5160e-03,\n",
       "         4.9145e-03,  5.3026e-03,  5.6785e-03,  6.0412e-03,  6.3907e-03,\n",
       "         6.7276e-03,  7.0533e-03,  7.3692e-03,  7.6766e-03,  7.9769e-03,\n",
       "         8.2709e-03,  8.5594e-03,  8.8429e-03,  9.1222e-03,  9.3985e-03,\n",
       "         9.6734e-03,  9.9487e-03,  1.0227e-02,  1.0510e-02,  1.0801e-02,\n",
       "         1.1099e-02,  1.1406e-02,  1.1722e-02,  1.2045e-02,  1.2374e-02,\n",
       "         1.2710e-02,  1.3052e-02,  1.3400e-02,  1.3755e-02,  1.4118e-02,\n",
       "         1.4490e-02,  1.4869e-02,  1.5254e-02,  1.5642e-02,  1.6028e-02,\n",
       "         1.6404e-02,  1.6766e-02,  1.7105e-02,  1.7414e-02,  1.7688e-02,\n",
       "         1.7922e-02,  1.8112e-02,  1.8255e-02,  1.8351e-02,  1.8399e-02,\n",
       "         1.8399e-02,  1.8352e-02,  1.8259e-02,  1.8120e-02,  1.7937e-02,\n",
       "         1.7710e-02,  1.7442e-02,  1.7136e-02,  1.6794e-02,  1.6423e-02,\n",
       "         1.6028e-02,  1.5613e-02,  1.5183e-02,  1.4743e-02,  1.4293e-02,\n",
       "         1.3835e-02,  1.3368e-02,  1.2889e-02,  1.2397e-02,  1.1888e-02,\n",
       "         1.1362e-02,  1.0818e-02,  1.0259e-02,  9.6895e-03,  9.1150e-03,\n",
       "         8.5447e-03,  7.9887e-03,  7.4592e-03,  6.9691e-03,  6.5323e-03,\n",
       "         6.1628e-03,  5.8745e-03,  5.6806e-03,  5.5934e-03,  5.6234e-03,\n",
       "         5.7799e-03,  6.0695e-03,  6.4967e-03,  7.0630e-03,  7.7663e-03,\n",
       "         8.6010e-03,  9.5568e-03,  1.0619e-02,  1.1768e-02,  1.2979e-02,\n",
       "         1.4224e-02,  1.5471e-02,  1.6688e-02,  1.7842e-02,  1.8901e-02,\n",
       "         1.9838e-02,  2.0628e-02,  2.1254e-02,  2.1703e-02,  2.1969e-02,\n",
       "         2.2054e-02,  2.1963e-02,  2.1709e-02,  2.1309e-02,  2.0785e-02,\n",
       "         2.0162e-02,  1.9465e-02,  1.8721e-02,  1.7956e-02,  1.7192e-02,\n",
       "         1.6449e-02,  1.5740e-02,  1.5075e-02,  1.4459e-02,  1.3892e-02,\n",
       "         1.3370e-02,  1.2888e-02,  1.2440e-02,  1.2019e-02,  1.1618e-02,\n",
       "         1.1233e-02,  1.0862e-02,  1.0505e-02,  1.0161e-02,  9.8354e-03,\n",
       "         9.5303e-03,  9.2505e-03,  9.0001e-03,  8.7829e-03,  8.6025e-03,\n",
       "         8.4619e-03,  8.3648e-03,  8.3153e-03,  8.3191e-03,  8.3840e-03,\n",
       "         8.5201e-03,  8.7394e-03,  9.0557e-03,  9.4823e-03,  1.0031e-02,\n",
       "         1.0711e-02,  1.1523e-02,  1.2465e-02,  1.3523e-02,  1.4678e-02,\n",
       "         1.5903e-02,  1.7166e-02,  1.8430e-02,  1.9662e-02,  2.0826e-02,\n",
       "         2.1895e-02,  2.2845e-02,  2.3663e-02,  2.4343e-02,  2.4887e-02,\n",
       "         2.5307e-02,  2.5619e-02,  2.5846e-02,  2.6013e-02,  2.6148e-02,\n",
       "         2.6274e-02,  2.6415e-02,  2.6587e-02,  2.6803e-02,  2.7072e-02,\n",
       "         2.7395e-02,  2.7774e-02,  2.8203e-02,  2.8676e-02,  2.9185e-02,\n",
       "         2.9720e-02,  3.0271e-02,  3.0826e-02,  3.1369e-02,  3.1886e-02,\n",
       "         3.2363e-02,  3.2785e-02,  3.3140e-02,  3.3418e-02,  3.3616e-02,\n",
       "         3.3734e-02,  3.3776e-02,  3.3752e-02,  3.3675e-02,  3.3559e-02,\n",
       "         3.3418e-02,  3.3263e-02,  3.3102e-02,  3.2942e-02,  3.2781e-02,\n",
       "         3.2618e-02,  3.2444e-02,  3.2252e-02,  3.2032e-02,  3.1775e-02,\n",
       "         3.1472e-02,  3.1116e-02,  3.0701e-02,  3.0226e-02,  2.9688e-02,\n",
       "         2.9089e-02,  2.8432e-02,  2.7722e-02,  2.6965e-02,  2.6168e-02,\n",
       "         2.5340e-02,  2.4489e-02,  2.3622e-02,  2.2749e-02,  2.1873e-02,\n",
       "         2.1000e-02,  2.0131e-02,  1.9268e-02,  1.8409e-02,  1.7553e-02,\n",
       "         1.6697e-02,  1.5840e-02,  1.4981e-02,  1.4119e-02,  1.3255e-02,\n",
       "         1.2392e-02,  1.1534e-02,  1.0685e-02,  9.8508e-03,  9.0375e-03,\n",
       "         8.2506e-03,  7.4957e-03,  6.7779e-03,  6.1023e-03,  5.4731e-03,\n",
       "         4.8947e-03,  4.3709e-03,  3.9051e-03,  3.5007e-03,  3.1604e-03,\n",
       "         2.8866e-03,  2.6809e-03,  2.5448e-03,  2.4785e-03,  2.4823e-03,\n",
       "         2.5554e-03,  2.6967e-03,  2.9047e-03,  3.1773e-03,  3.5120e-03,\n",
       "         3.9057e-03,  4.3549e-03,  4.8558e-03,  5.4040e-03,  5.9951e-03,\n",
       "         6.6248e-03,  7.2894e-03,  7.9860e-03,  8.7128e-03,  9.4696e-03,\n",
       "         1.0257e-02,  1.1078e-02,  1.1935e-02,  1.2832e-02,  1.3770e-02,\n",
       "         1.4753e-02,  1.5779e-02,  1.6847e-02,  1.7953e-02,  1.9089e-02,\n",
       "         2.0248e-02,  2.1419e-02,  2.2587e-02,  2.3740e-02,  2.4860e-02,\n",
       "         2.5930e-02,  2.6934e-02,  2.7854e-02,  2.8677e-02,  2.9391e-02,\n",
       "         2.9987e-02,  3.0465e-02,  3.0828e-02,  3.1083e-02,  3.1246e-02,\n",
       "         3.1334e-02,  3.1367e-02,  3.1367e-02,  3.1353e-02,  3.1345e-02,\n",
       "         3.1357e-02,  3.1402e-02,  3.1485e-02,  3.1612e-02,  3.1781e-02,\n",
       "         3.1991e-02,  3.2236e-02,  3.2511e-02,  3.2810e-02,  3.3127e-02,\n",
       "         3.3455e-02,  3.3790e-02,  3.4128e-02,  3.4464e-02,  3.4794e-02,\n",
       "         3.5115e-02,  3.5424e-02,  3.5715e-02,  3.5985e-02,  3.6228e-02,\n",
       "         3.6439e-02,  3.6610e-02,  3.6737e-02,  3.6813e-02,  3.6834e-02,\n",
       "         3.6796e-02,  3.6700e-02,  3.6546e-02,  3.6337e-02,  3.6082e-02,\n",
       "         3.5786e-02,  3.5457e-02,  3.5104e-02,  3.4733e-02,  3.4347e-02,\n",
       "         3.3949e-02,  3.3540e-02,  3.3121e-02,  3.2693e-02,  3.2260e-02,\n",
       "         3.1829e-02,  3.1409e-02,  3.1009e-02,  3.0644e-02,  3.0325e-02,\n",
       "         3.0061e-02,  2.9857e-02,  2.9716e-02,  2.9633e-02,  2.9600e-02,\n",
       "         2.9603e-02,  2.9629e-02,  2.9661e-02,  2.9684e-02,  2.9686e-02,\n",
       "         2.9655e-02,  2.9585e-02,  2.9473e-02,  2.9319e-02,  2.9126e-02,\n",
       "         2.8900e-02,  2.8650e-02,  2.8384e-02,  2.8113e-02,  2.7847e-02,\n",
       "         2.7594e-02,  2.7362e-02,  2.7156e-02,  2.6977e-02,  2.6824e-02,\n",
       "         2.6696e-02,  2.6588e-02,  2.6496e-02,  2.6415e-02,  2.6346e-02,\n",
       "         2.6287e-02,  2.6243e-02,  2.6218e-02,  2.6216e-02,  2.6243e-02,\n",
       "         2.6301e-02,  2.6393e-02,  2.6517e-02,  2.6669e-02,  2.6844e-02,\n",
       "         2.7035e-02,  2.7236e-02,  2.7439e-02,  2.7637e-02,  2.7824e-02,\n",
       "         2.7993e-02,  2.8140e-02,  2.8262e-02,  2.8354e-02,  2.8416e-02,\n",
       "         2.8448e-02,  2.8452e-02,  2.8433e-02,  2.8395e-02,  2.8345e-02,\n",
       "         2.8290e-02,  2.8237e-02,  2.8193e-02,  2.8165e-02,  2.8157e-02,\n",
       "         2.8174e-02,  2.8218e-02,  2.8288e-02,  2.8385e-02,  2.8504e-02,\n",
       "         2.8638e-02,  2.8781e-02,  2.8924e-02,  2.9058e-02,  2.9173e-02,\n",
       "         2.9263e-02,  2.9321e-02,  2.9345e-02,  2.9334e-02,  2.9291e-02,\n",
       "         2.9219e-02,  2.9125e-02,  2.9017e-02,  2.8904e-02,  2.8792e-02,\n",
       "         2.8691e-02,  2.8606e-02,  2.8541e-02,  2.8500e-02,  2.8481e-02,\n",
       "         2.8483e-02,  2.8499e-02,  2.8521e-02,  2.8540e-02,  2.8546e-02,\n",
       "         2.8530e-02,  2.8484e-02,  2.8405e-02,  2.8292e-02,  2.8148e-02,\n",
       "         2.7980e-02,  2.7796e-02,  2.7609e-02,  2.7430e-02,  2.7269e-02,\n",
       "         2.7134e-02,  2.7031e-02,  2.6963e-02,  2.6927e-02,  2.6919e-02,\n",
       "         2.6930e-02,  2.6948e-02,  2.6961e-02,  2.6952e-02,  2.6904e-02,\n",
       "         2.6801e-02,  2.6626e-02,  2.6365e-02,  2.6006e-02,  2.5543e-02,\n",
       "         2.4973e-02,  2.4301e-02,  2.3538e-02,  2.2700e-02,  2.1810e-02,\n",
       "         2.0892e-02,  1.9973e-02,  1.9080e-02,  1.8233e-02,  1.7450e-02,\n",
       "         1.6737e-02,  1.6094e-02,  1.5512e-02,  1.4972e-02,  1.4453e-02,\n",
       "         1.3929e-02,  1.3377e-02,  1.2778e-02,  1.2118e-02,  1.1393e-02,\n",
       "         1.0608e-02,  9.7757e-03,  8.9154e-03,  8.0504e-03,  7.2048e-03,\n",
       "         6.4011e-03,  5.6575e-03,  4.9864e-03,  4.3937e-03,  3.8789e-03,\n",
       "         3.4362e-03,  3.0560e-03,  2.7265e-03,  2.4358e-03,  2.1729e-03,\n",
       "         1.9294e-03,  1.6996e-03,  1.4805e-03,  1.2716e-03,  1.0744e-03,\n",
       "         8.9123e-04,  7.2458e-04,  5.7664e-04,  4.4874e-04,  3.4120e-04,\n",
       "         2.5331e-04,  1.8353e-04,  1.2972e-04,  8.9409e-05,  6.0078e-05,\n",
       "         3.9347e-05,  2.5111e-05,  1.5615e-05,  9.4585e-06,  5.5809e-06,\n",
       "         3.2071e-06,  1.7948e-06,  9.7804e-07,  5.1895e-07,  2.6809e-07,\n",
       "         1.3483e-07,  6.6014e-08,  3.1463e-08,  1.4596e-08,  6.5912e-09,\n",
       "         2.8969e-09,  1.2392e-09,  5.1590e-10,  2.0903e-10,  8.2419e-11,\n",
       "         3.1625e-11,  1.1809e-11,  4.2907e-12,  1.5171e-12,  5.2193e-13,\n",
       "         1.7472e-13,  5.6912e-14,  1.8037e-14,  5.5620e-15,  1.6688e-15,\n",
       "         4.8712e-16,  1.3835e-16,  3.8227e-17,  1.0276e-17,  2.6876e-18,\n",
       "         6.8383e-19,  1.6927e-19,  4.0763e-20,  9.5496e-21,  2.1764e-21,\n",
       "         4.8253e-22,  1.0407e-22,  2.1836e-23,  4.4569e-24,  8.8491e-25,\n",
       "         1.7091e-25,  3.2112e-26,  5.8689e-27,  1.0434e-27,  1.8044e-28,\n",
       "         3.0355e-29,  4.9671e-30,  7.9062e-31,  1.2241e-31,  1.8435e-32,\n",
       "         2.7007e-33,  3.8482e-34,  5.3338e-35,  7.1908e-36,  9.4296e-37,\n",
       "         1.2028e-37,  1.4922e-38,  1.8008e-39,  2.1137e-40,  2.4132e-41,\n",
       "         2.6798e-42,  2.8944e-43,  3.0408e-44,  3.1072e-45,  3.0882e-46,\n",
       "         2.9853e-47,  2.8069e-48,  2.5669e-49,  2.2832e-50,  1.9753e-51,\n",
       "         1.6621e-52,  1.3603e-53,  1.0828e-54,  8.3836e-56,  6.3130e-57,\n",
       "         4.6236e-58,  3.2936e-59,  2.2819e-60,  1.5377e-61,  1.0078e-62,\n",
       "         6.4239e-64,  3.9826e-65,  2.4015e-66,  1.4084e-67,  8.0333e-69,\n",
       "         4.4566e-70,  2.4046e-71,  1.2619e-72,  6.4403e-74,  3.1970e-75,\n",
       "         1.5435e-76,  7.2475e-78,  3.3098e-79,  1.4701e-80,  6.3506e-82,\n",
       "         2.6681e-83,  1.0903e-84,  4.3329e-86,  1.6748e-87,  6.2957e-89,\n",
       "         2.3018e-90,  8.1849e-92,  2.8306e-93,  9.5207e-95,  3.1144e-96,\n",
       "         9.9086e-98,  3.0660e-99, 9.2266e-101, 2.7005e-102, 7.6870e-104,\n",
       "        2.1281e-105, 5.7300e-107, 1.5005e-108])"
      ]
     },
     "execution_count": 212,
     "metadata": {},
     "output_type": "execute_result"
    }
   ],
   "source": [
    "ldos[0]"
   ]
  },
  {
   "cell_type": "code",
   "execution_count": 154,
   "id": "0d021141",
   "metadata": {
    "ExecuteTime": {
     "end_time": "2023-02-14T12:47:02.295618Z",
     "start_time": "2023-02-14T12:33:29.004700Z"
    }
   },
   "outputs": [
    {
     "name": "stderr",
     "output_type": "stream",
     "text": [
      "100%|██████████████████████████████████████████████████████████████████████████████████████████████████████████████████████████████████████████████████████████████████| 1039/1039 [13:33<00:00,  1.28it/s]\n"
     ]
    }
   ],
   "source": [
    "sigma = torch.tensor(0.3)\n",
    "dx = 0.05\n",
    "\n",
    "ndos = int((emax-emin+3) / dx) #number of points\n",
    "xdos = torch.linspace(emin-1.5, emax+1.5, ndos) # extend the energy grid by 3eV \n",
    "ldos = torch.zeros((len(full_eigen_energies), ndos))\n",
    "for i in tqdm(range(len(full_eigen_energies))):#for every structure    \n",
    "    for ei in full_eigen_energies[i]:#for every energy level\n",
    "        ldos[i] += torch.exp(-0.5*((xdos[:]-ei)/sigma)**2) #puts a gaussian centered on the energy level\n",
    "    ldos[i] *= 1/torch.sqrt(2*torch.tensor(np.pi)*sigma**2)/n_atoms[i]/len(full_eigen_energies[i]) #normalize"
   ]
  },
  {
   "cell_type": "code",
   "execution_count": 181,
   "id": "f7fd98cd",
   "metadata": {
    "ExecuteTime": {
     "end_time": "2023-02-14T13:14:29.018511Z",
     "start_time": "2023-02-14T13:00:48.948943Z"
    }
   },
   "outputs": [
    {
     "name": "stderr",
     "output_type": "stream",
     "text": [
      "100%|██████████████████████████████████████████████████████████████████████████████████████████████████████████████████████████████████████████████████████████████████| 1039/1039 [13:40<00:00,  1.27it/s]\n"
     ]
    }
   ],
   "source": [
    "sigma = torch.tensor(0.3)\n",
    "dx = 0.05\n",
    "\n",
    "ndos3 = int((emax-emin+3) / dx) #number of points\n",
    "xdos3 = torch.linspace(emin-1.5, emax+1.5, ndos) # extend the energy grid by 3eV \n",
    "ldos3 = torch.zeros((len(full_eigen_energies), ndos))\n",
    "for i in tqdm(range(len(eigen_energies))):#for every structure    \n",
    "    for ei in full_eigen_energies[i]:#for every energy level\n",
    "        ldos3[i] += torch.exp(-0.5*((xdos[:]-ei)/sigma)**2) #puts a gaussian centered on the energy level\n",
    "    ldos3[i] *= 1/torch.sqrt(2*np.pi*sigma**2)/n_atoms[i]/len(eigen_energies[i]) #normalize"
   ]
  },
  {
   "cell_type": "code",
   "execution_count": 139,
   "id": "c9f7e311",
   "metadata": {
    "ExecuteTime": {
     "end_time": "2023-02-13T19:02:53.046358Z",
     "start_time": "2023-02-13T19:02:52.696381Z"
    }
   },
   "outputs": [
    {
     "name": "stdout",
     "output_type": "stream",
     "text": [
      "SOAP PCA explained variance with 1 PCA is: [0.85417772]\n",
      "Kernel PCA explained variance with 1 PCA is: [0.76640756]\n"
     ]
    }
   ],
   "source": [
    "from sklearn.decomposition import PCA\n",
    "\n",
    "soap = Silicon.Features['structure_avedescriptors'] \n",
    "soap_pca = PCA(n_components = 1, svd_solver = \"full\")\n",
    "soap_pca.fit(soap)\n",
    "\n",
    "print (\"SOAP PCA explained variance with 1 PCA is: {}\".format(soap_pca.explained_variance_ratio_))\n",
    "\n",
    "PCA_soap = soap_pca.transform(soap)\n",
    "\n",
    "kernel = Silicon.Features['structure_avekerneldescriptors']\n",
    "kernel_pca = PCA(n_components = 1, svd_solver = \"full\")\n",
    "kernel_pca.fit(kernel)\n",
    "\n",
    "print (\"Kernel PCA explained variance with 1 PCA is: {}\".format(kernel_pca.explained_variance_ratio_))\n",
    "\n",
    "PCA_kernel = kernel_pca.transform(kernel)"
   ]
  },
  {
   "cell_type": "code",
   "execution_count": 146,
   "id": "110f93f1",
   "metadata": {
    "ExecuteTime": {
     "end_time": "2023-02-13T19:05:58.302764Z",
     "start_time": "2023-02-13T19:05:58.288914Z"
    }
   },
   "outputs": [
    {
     "data": {
      "text/plain": [
       "array([[-3.49913423e-03, -1.76411215e-02,  3.32522948e-02,\n",
       "         3.61629233e-01,  1.87222390e-01,  7.49472932e-02,\n",
       "         7.73753721e-02,  2.89413546e-02, -1.76411215e-02,\n",
       "         7.01613627e-04, -6.64714922e-03, -1.96539716e-02,\n",
       "        -1.21993389e-02, -6.67081254e-03, -4.36700539e-03,\n",
       "        -1.68577363e-03,  3.32522948e-02, -6.64714922e-03,\n",
       "         2.20352739e-02,  1.41889410e-01,  7.26851954e-02,\n",
       "         3.15241013e-02,  2.88627511e-02,  1.08549650e-02,\n",
       "         3.61629233e-01, -1.96539716e-02,  1.41889410e-01,\n",
       "         4.92546963e-01,  2.89406316e-01,  1.51981690e-01,\n",
       "         1.06534352e-01,  4.10607729e-02,  1.87222390e-01,\n",
       "        -1.21993389e-02,  7.26851954e-02,  2.89406316e-01,\n",
       "         1.62030561e-01,  8.08235013e-02,  6.02749031e-02,\n",
       "         2.31914869e-02,  7.49472932e-02, -6.67081254e-03,\n",
       "         3.15241013e-02,  1.51981690e-01,  8.08235013e-02,\n",
       "         3.70043392e-02,  3.02939232e-02,  1.15274716e-02,\n",
       "         7.73753721e-02, -4.36700539e-03,  2.88627511e-02,\n",
       "         1.06534352e-01,  6.02749031e-02,  3.02939232e-02,\n",
       "         2.17846734e-02,  8.37328373e-03,  2.89413546e-02,\n",
       "        -1.68577363e-03,  1.08549650e-02,  4.10607729e-02,\n",
       "         2.31914869e-02,  1.15274716e-02,  8.37328373e-03,\n",
       "         3.21169845e-03, -2.42678062e-05,  5.11123332e-05,\n",
       "        -3.53316626e-04, -5.69486606e-04, -3.00272506e-04,\n",
       "        -2.40257378e-04, -8.47122357e-05, -3.94519317e-05,\n",
       "         5.11123332e-05, -1.69061333e-04,  8.91359912e-04,\n",
       "         1.52903701e-03,  7.98658394e-04,  5.79778184e-04,\n",
       "         1.83320028e-04,  8.26635902e-05, -3.53316626e-04,\n",
       "         8.91359912e-04, -5.43889188e-03, -9.33776686e-03,\n",
       "        -5.16824236e-03, -3.94312423e-03, -1.41001255e-03,\n",
       "        -6.45440361e-04, -5.69486606e-04,  1.52903701e-03,\n",
       "        -9.33776686e-03, -1.70537584e-02, -9.57630675e-03,\n",
       "        -6.39819664e-03, -2.20517209e-03, -9.70570198e-04,\n",
       "        -3.00272506e-04,  7.98658394e-04, -5.16824236e-03,\n",
       "        -9.57630675e-03, -6.90821221e-03, -4.72774768e-03,\n",
       "        -1.80610336e-03, -7.53570430e-04, -2.40257378e-04,\n",
       "         5.79778184e-04, -3.94312423e-03, -6.39819664e-03,\n",
       "        -4.72774768e-03, -3.68062261e-03, -1.42088201e-03,\n",
       "        -6.01509578e-04, -8.47122357e-05,  1.83320028e-04,\n",
       "        -1.41001255e-03, -2.20517209e-03, -1.80610336e-03,\n",
       "        -1.42088201e-03, -5.76636427e-04, -2.39698375e-04,\n",
       "        -3.94519317e-05,  8.26635902e-05, -6.45440361e-04,\n",
       "        -9.70570198e-04, -7.53570430e-04, -6.01509578e-04,\n",
       "        -2.39698375e-04, -1.00730273e-04, -8.58758363e-06,\n",
       "         3.54320192e-05, -1.33048376e-04, -4.02508982e-04,\n",
       "        -9.06240701e-05,  1.25316756e-05,  6.69886108e-06,\n",
       "        -3.79706680e-06,  3.54320192e-05, -4.69333435e-05,\n",
       "         6.44297922e-04,  4.61774643e-04,  2.24269773e-04,\n",
       "        -3.27066608e-05, -1.11055172e-05,  8.79788855e-06,\n",
       "        -1.33048376e-04,  6.44297922e-04, -2.00324396e-03,\n",
       "        -6.23215987e-03, -1.12522536e-03, -3.43541622e-06,\n",
       "         1.58350714e-04, -2.30601944e-05, -4.02508982e-04,\n",
       "         4.61774643e-04, -6.23215987e-03, -5.40760398e-03,\n",
       "        -1.82666612e-03, -4.18024769e-05,  2.30771920e-04,\n",
       "        -2.17776046e-05, -9.06240701e-05,  2.24269773e-04,\n",
       "        -1.12522536e-03, -1.82666612e-03, -3.44104695e-04,\n",
       "        -8.42776342e-04, -8.02835618e-06,  2.13334142e-05,\n",
       "         1.25316756e-05, -3.27066608e-05, -3.43541622e-06,\n",
       "        -4.18024769e-05, -8.42776342e-04, -4.37251369e-04,\n",
       "        -2.51613975e-04, -9.74882526e-05,  6.69886108e-06,\n",
       "        -1.11055172e-05,  1.58350714e-04,  2.30771920e-04,\n",
       "        -8.02835618e-06, -2.51613975e-04, -8.49561794e-05,\n",
       "        -2.61261272e-05, -3.79706680e-06,  8.79788855e-06,\n",
       "        -2.30601944e-05, -2.17776046e-05,  2.13334142e-05,\n",
       "        -9.74882526e-05, -2.61261272e-05, -8.82993811e-06,\n",
       "        -1.36932787e-04,  3.14708918e-04, -2.45644041e-03,\n",
       "        -4.91953300e-03, -9.45603141e-04,  4.32227611e-04,\n",
       "         1.70934099e-04,  1.82215577e-05,  3.14708918e-04,\n",
       "        -7.39813355e-04,  5.39783324e-03,  1.00309471e-02,\n",
       "         1.77314627e-03, -7.10253863e-04, -3.82378572e-04,\n",
       "        -4.25116022e-05, -2.45644041e-03,  5.39783324e-03,\n",
       "        -4.06359761e-02, -7.10010143e-02, -1.12217390e-02,\n",
       "         5.20759821e-03,  2.69665377e-03,  1.12269107e-04,\n",
       "        -4.91953300e-03,  1.00309471e-02, -7.10010143e-02,\n",
       "        -9.03459590e-02, -5.51929567e-03,  2.30618802e-03,\n",
       "         4.41800631e-03, -2.48145527e-04, -9.45603141e-04,\n",
       "         1.77314627e-03, -1.12217390e-02, -5.51929567e-03,\n",
       "         2.20724073e-03, -1.90025875e-03,  4.85091238e-04,\n",
       "        -2.30001097e-04,  4.32227611e-04, -7.10253863e-04,\n",
       "         5.20759821e-03,  2.30618802e-03, -1.90025875e-03,\n",
       "        -1.47095066e-04, -3.85901561e-04,  7.76001765e-05,\n",
       "         1.70934099e-04, -3.82378572e-04,  2.69665377e-03,\n",
       "         4.41800631e-03,  4.85091238e-04, -3.85901561e-04,\n",
       "        -2.27680329e-04, -1.73486176e-05,  1.82215577e-05,\n",
       "        -4.25116022e-05,  1.12269107e-04, -2.48145527e-04,\n",
       "        -2.30001097e-04,  7.76001765e-05, -1.73486176e-05,\n",
       "         4.65229984e-06,  3.17205927e-04, -8.76536785e-04,\n",
       "         3.50296059e-03,  4.71843202e-03, -2.69920876e-03,\n",
       "         1.43909137e-04, -9.16594629e-05,  1.13397437e-04,\n",
       "        -8.76536785e-04,  2.45432174e-03, -9.84106713e-03,\n",
       "        -1.39200745e-02,  6.91016052e-03, -3.64375614e-04,\n",
       "         2.88172028e-04, -3.00361411e-04,  3.50296059e-03,\n",
       "        -9.84106713e-03,  3.74407831e-02,  5.06135592e-02,\n",
       "        -3.43059449e-02,  1.25872089e-03, -6.90009087e-04,\n",
       "         1.44113709e-03,  4.71843202e-03, -1.39200745e-02,\n",
       "         5.06135592e-02,  7.61404092e-02, -4.66312567e-02,\n",
       "         1.01025823e-03, -8.37839837e-04,  2.07138845e-03,\n",
       "        -2.69920876e-03,  6.91016052e-03, -3.43059449e-02,\n",
       "        -4.66312567e-02,  6.76587152e-03, -2.70728159e-03,\n",
       "         1.78997504e-03, -3.28286014e-04,  1.43909137e-04,\n",
       "        -3.64375614e-04,  1.25872089e-03,  1.01025823e-03,\n",
       "        -2.70728159e-03, -4.12028445e-04, -8.67012673e-05,\n",
       "         5.88660250e-05, -9.16594629e-05,  2.88172028e-04,\n",
       "        -6.90009087e-04, -8.37839837e-04,  1.78997504e-03,\n",
       "        -8.67012673e-05, -1.03002646e-04, -9.94709926e-05,\n",
       "         1.13397437e-04, -3.00361411e-04,  1.44113709e-03,\n",
       "         2.07138845e-03, -3.28286014e-04,  5.88660250e-05,\n",
       "        -9.94709926e-05,  5.47791295e-06,  2.69703453e-05,\n",
       "        -1.10821617e-04,  4.41077242e-04,  1.23213413e-03,\n",
       "         1.50384057e-05, -1.15836237e-04,  1.38452625e-05,\n",
       "         2.04876918e-05, -1.10821617e-04,  4.22802069e-04,\n",
       "        -1.72640876e-03, -4.46305808e-03,  9.17482665e-06,\n",
       "         3.79278770e-04, -2.60887171e-05, -7.11566938e-05,\n",
       "         4.41077242e-04, -1.72640876e-03,  7.03149316e-03,\n",
       "         1.87433195e-02, -1.58944095e-04, -1.84394597e-03,\n",
       "         1.64785462e-04,  3.17329064e-04,  1.23213413e-03,\n",
       "        -4.46305808e-03,  1.87433195e-02,  4.53418297e-02,\n",
       "        -8.67120540e-04, -3.81488630e-03,  8.44223976e-05,\n",
       "         7.13357786e-04,  1.50384057e-05,  9.17482665e-06,\n",
       "        -1.58944095e-04, -8.67120540e-04, -2.30985229e-03,\n",
       "        -1.13637796e-03, -1.09402371e-04,  4.47829321e-05,\n",
       "        -1.15836237e-04,  3.79278770e-04, -1.84394597e-03,\n",
       "        -3.81488630e-03, -1.13637796e-03, -5.18684389e-04,\n",
       "        -6.37093505e-05, -4.47195135e-05,  1.38452625e-05,\n",
       "        -2.60887171e-05,  1.64785462e-04,  8.44223976e-05,\n",
       "        -1.09402371e-04, -6.37093505e-05, -5.49075207e-05,\n",
       "        -1.44111513e-05,  2.04876918e-05, -7.11566938e-05,\n",
       "         3.17329064e-04,  7.13357786e-04,  4.47829321e-05,\n",
       "        -4.47195135e-05, -1.44111513e-05,  3.71990815e-06,\n",
       "        -8.84232851e-05,  2.13432424e-04, -1.05365352e-03,\n",
       "        -1.28227484e-03,  1.03529794e-03,  4.26027676e-04,\n",
       "         1.97772524e-04,  3.48733255e-05,  2.13432424e-04,\n",
       "        -3.84820427e-04,  2.14430254e-03,  5.43098790e-04,\n",
       "        -3.77062969e-03, -9.54267572e-04, -4.48106798e-04,\n",
       "        -8.23291730e-05, -1.05365352e-03,  2.14430254e-03,\n",
       "        -1.11990161e-02, -7.06210927e-03,  1.65057707e-02,\n",
       "         4.76842957e-03,  2.22422284e-03,  3.92803788e-04,\n",
       "        -1.28227484e-03,  5.43098790e-04, -7.06210927e-03,\n",
       "         3.26782253e-02,  4.05656950e-02,  4.51914962e-03,\n",
       "         2.11034472e-03,  3.70105452e-04,  1.03529794e-03,\n",
       "        -3.77062969e-03,  1.65057707e-02,  4.05656950e-02,\n",
       "         1.45538059e-04, -6.85922464e-03, -2.82650992e-03,\n",
       "        -4.43771147e-04,  4.26027676e-04, -9.54267572e-04,\n",
       "         4.76842957e-03,  4.51914962e-03, -6.85922464e-03,\n",
       "        -3.18102152e-03, -1.14176178e-03, -1.75230454e-04,\n",
       "         1.97772524e-04, -4.48106798e-04,  2.22422284e-03,\n",
       "         2.11034472e-03, -2.82650992e-03, -1.14176178e-03,\n",
       "        -4.65548759e-04, -7.20415672e-05,  3.48733255e-05,\n",
       "        -8.23291730e-05,  3.92803788e-04,  3.70105452e-04,\n",
       "        -4.43771147e-04, -1.75230454e-04, -7.20415672e-05,\n",
       "        -7.51907251e-06]])"
      ]
     },
     "execution_count": 146,
     "metadata": {},
     "output_type": "execute_result"
    }
   ],
   "source": [
    "soap_pca.components_"
   ]
  },
  {
   "cell_type": "markdown",
   "id": "30c25902",
   "metadata": {},
   "source": [
    "## Baseline Model (SOAP)"
   ]
  },
  {
   "cell_type": "code",
   "execution_count": 325,
   "id": "3b29440b",
   "metadata": {
    "ExecuteTime": {
     "end_time": "2023-02-21T19:02:24.430143Z",
     "start_time": "2023-02-21T19:02:24.150335Z"
    }
   },
   "outputs": [
    {
     "name": "stdout",
     "output_type": "stream",
     "text": [
      "tensor(0.0613)\n",
      "tensor(0.0636)\n"
     ]
    }
   ],
   "source": [
    "from sklearn.linear_model import Ridge\n",
    "from dostools.loss import loss\n",
    "from dostools.consistency import consistency\n",
    "\n",
    "Features = copy.deepcopy(PCA_kernel)\n",
    "o_ldos = torch.tensor(data.load_ldos())\n",
    "o_ldos *= 2\n",
    "y_pw = o_ldos# - o_ldos[train_index].mean(axis = 0)\n",
    "y_shifted = copy.deepcopy(y_pw)\n",
    "#y_shifted = consistency.shifted_ldos()\n",
    "\n",
    "baselinemodel = Ridge(alpha = 0, fit_intercept = True, solver = 'svd')\n",
    "\n",
    "x = Features[train_index]\n",
    "y = y_shifted[train_index]\n",
    "\n",
    "baselinemodel.fit(x,y)\n",
    "\n",
    "baseline_predictions = baselinemodel.predict(x)\n",
    "train_rmse = loss.t_get_rmse(torch.tensor(baseline_predictions), y)\n",
    "\n",
    "# small_test_index = torch.arange(1039)\n",
    "# small_test_index[small_index] = False\n",
    "# small_test_index = small_test_index.nonzero().flatten()\n",
    "\n",
    "\n",
    "baseline_test_predictions = baselinemodel.predict(Features[test_index])\n",
    "test_rmse = loss.t_get_rmse(torch.tensor(baseline_test_predictions), y_shifted[test_index])\n",
    "\n",
    "print(train_rmse)\n",
    "print(test_rmse)"
   ]
  },
  {
   "cell_type": "markdown",
   "id": "ec309322",
   "metadata": {},
   "source": [
    "## Misc Visualizations"
   ]
  },
  {
   "cell_type": "code",
   "execution_count": 326,
   "id": "021bfb0e",
   "metadata": {
    "ExecuteTime": {
     "end_time": "2023-02-21T19:05:40.302401Z",
     "start_time": "2023-02-21T19:05:39.368377Z"
    }
   },
   "outputs": [
    {
     "data": {
      "text/plain": [
       "[<matplotlib.lines.Line2D at 0x7f6e384d7370>]"
      ]
     },
     "execution_count": 326,
     "metadata": {},
     "output_type": "execute_result"
    },
    {
     "data": {
      "image/png": "[encoded data removed]",
      "text/plain": [
       "<Figure size 432x288 with 1 Axes>"
      ]
     },
     "metadata": {
      "needs_background": "light"
     },
     "output_type": "display_data"
    }
   ],
   "source": [
    "plt.plot(xdos, ldos[700])"
   ]
  },
  {
   "cell_type": "code",
   "execution_count": 194,
   "id": "999cfd9c",
   "metadata": {
    "ExecuteTime": {
     "end_time": "2023-02-21T15:10:19.556678Z",
     "start_time": "2023-02-21T15:10:18.772098Z"
    }
   },
   "outputs": [
    {
     "data": {
      "text/plain": [
       "<matplotlib.collections.PathCollection at 0x7f6e3a747850>"
      ]
     },
     "execution_count": 194,
     "metadata": {},
     "output_type": "execute_result"
    },
    {
     "data": {
      "image/png": "[encoded data removed]",
      "text/plain": [
       "<Figure size 432x288 with 1 Axes>"
      ]
     },
     "metadata": {
      "needs_background": "light"
     },
     "output_type": "display_data"
    }
   ],
   "source": [
    "plt.plot(np.array([1,0.5,0.1,0.05,0.01,0.001]), np.array([0.6768, 0.0426, 0.0079, 0.0036, 0.0019, 0.0017]))\n",
    "plt.scatter(np.array([1,0.5,0.1,0.05,0.01,0.001]), np.array([0.6768, 0.0426, 0.0079, 0.0036, 0.0019, 0.0017]))"
   ]
  },
  {
   "cell_type": "code",
   "execution_count": null,
   "id": "8981b05b",
   "metadata": {},
   "outputs": [],
   "source": [
    "1\n",
    "tensor(24)\n",
    "tensor(0.6768)\n",
    "\n",
    "5E-1\n",
    "tensor(49)\n",
    "tensor(0.0426)\n",
    "\n",
    "\n",
    "1E-1\n",
    "tensor(245)\n",
    "tensor(0.0079)\n",
    "\n",
    "5E-2\n",
    "tensor(484)\n",
    "tensor(0.0036)\n",
    "\n",
    "1E-2 \n",
    "tensor(2149)\n",
    "tensor(0.0019)\n",
    "\n",
    "1E-3\n",
    "tensor(7013)\n",
    "tensor(0.0017)"
   ]
  }
 ],
 "metadata": {
  "kernelspec": {
   "display_name": "Python 3 (ipykernel)",
   "language": "python",
   "name": "python3"
  },
  "language_info": {
   "codemirror_mode": {
    "name": "ipython",
    "version": 3
   },
   "file_extension": ".py",
   "mimetype": "text/x-python",
   "name": "python",
   "nbconvert_exporter": "python",
   "pygments_lexer": "ipython3",
   "version": "3.9.12"
  },
  "toc": {
   "base_numbering": 1,
   "nav_menu": {},
   "number_sections": true,
   "sideBar": true,
   "skip_h1_title": false,
   "title_cell": "Table of Contents",
   "title_sidebar": "Contents",
   "toc_cell": false,
   "toc_position": {
    "height": "calc(100% - 180px)",
    "left": "10px",
    "top": "150px",
    "width": "165px"
   },
   "toc_section_display": true,
   "toc_window_display": true
  }
 },
 "nbformat": 4,
 "nbformat_minor": 5
}
