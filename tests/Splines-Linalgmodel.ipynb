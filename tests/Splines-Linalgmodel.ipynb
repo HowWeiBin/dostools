{
 "cells": [
  {
   "cell_type": "markdown",
   "id": "84565b74",
   "metadata": {
    "hide_input": false
   },
   "source": [
    "## Imports"
   ]
  },
  {
   "cell_type": "code",
<<<<<<< HEAD
   "execution_count": 3,
   "id": "dfdaeca7",
   "metadata": {
    "ExecuteTime": {
     "end_time": "2023-04-28T12:21:08.749470Z",
     "start_time": "2023-04-28T12:21:07.619364Z"
=======
   "execution_count": 1,
   "id": "dfdaeca7",
   "metadata": {
    "ExecuteTime": {
     "end_time": "2023-04-04T15:30:27.684141Z",
     "start_time": "2023-04-04T15:30:23.574296Z"
>>>>>>> d22a6c4f71ffcfe88e87f8f7402568f1c6e91048
    }
   },
   "outputs": [],
   "source": [
    "import dostools\n",
    "import importlib\n",
    "import numpy as np\n",
    "import pickle\n",
    "import torch\n",
    "import sys\n",
    "import matplotlib.pyplot as plt\n",
    "import copy\n",
    "from tqdm import tqdm\n",
    "import matplotlib\n",
    "import time\n",
    "torch.set_default_dtype(torch.float64) \n",
    "# %matplotlib notebook\n",
    "# matplotlib.rcParams['figure.figsize'] = (10, 10)"
   ]
  },
  {
   "cell_type": "code",
<<<<<<< HEAD
   "execution_count": 4,
   "id": "7ccbf26d",
   "metadata": {
    "ExecuteTime": {
     "end_time": "2023-04-28T12:21:09.804215Z",
     "start_time": "2023-04-28T12:21:08.752549Z"
    }
   },
   "outputs": [],
=======
   "execution_count": 2,
   "id": "7ccbf26d",
   "metadata": {
    "ExecuteTime": {
     "end_time": "2023-04-04T15:30:31.778146Z",
     "start_time": "2023-04-04T15:30:27.687696Z"
    }
   },
   "outputs": [
    {
     "name": "stdout",
     "output_type": "stream",
     "text": [
      "ldos shape is torch.Size([1039, 778])\n",
      "mean dos shape is torch.Size([778])\n",
      "Variance covered with 10 PCs is = 0.9871211778950163\n"
     ]
    }
   ],
>>>>>>> d22a6c4f71ffcfe88e87f8f7402568f1c6e91048
   "source": [
    "import dostools.datasets.data as data\n",
    "import dostools.utils.utils as utils\n",
    "importlib.reload(data)\n",
    "\n",
    "n_structures = 1039\n",
    "np.random.seed(0)\n",
    "n_train = int(0.8 * n_structures)\n",
    "train_index = np.arange(n_structures)\n",
    "np.random.shuffle(train_index)\n",
    "test_index = train_index[n_train:]\n",
    "train_index = train_index[:n_train]\n",
    "\n",
    "with torch.no_grad():\n",
<<<<<<< HEAD
    "#     structures = data.load_structures(\":\")\n",
    "#     n_structures = len(structures) #total number of structures\n",
    "#     for structure in structures:#implement periodicity\n",
    "#         structure.wrap(eps = 1e-12) \n",
    "#     n_atoms = np.zeros(n_structures, dtype = int) #stores number of atoms in each structures\n",
    "#     for i in range(n_structures):\n",
    "#         n_atoms[i] = len(structures[i])\n",
    "\n",
    "#     #eigenergies, emin, emax = dostools.src.datasets.data.load_eigenenergies(unpack = True, n_structures = len(structures))\n",
    "#     xdos = torch.tensor(data.load_xdos())\n",
    "#     ldos = torch.tensor(data.load_ldos())\n",
    "#     ldos *= 2\n",
    "\n",
    "#     print (\"ldos shape is {}\".format(ldos.shape))\n",
    "#     mean_dos_per_atom = ldos[train_index].mean(axis = 0) #only calculated for train set to prevent data leakage\n",
    "#     print (\"mean dos shape is {}\".format(mean_dos_per_atom.shape))\n",
    "    \n",
    "    \n",
    "#     y_pw = ldos - mean_dos_per_atom\n",
    "#     y_lcdf = torch.cumsum(y_pw, dim = 1)\n",
    "#     _, pc_vectors = utils.build_pc(ldos[train_index], mean_dos_per_atom[None,:], n_pc = 10)\n",
    "#     y_pc = utils.build_coeffs(ldos - mean_dos_per_atom[None,:], pc_vectors)\n",
    "#     Silicon = data.load_features()\n",
    "#     kMM = data.load_kMM()\n",
    "#     structure_eigvals_t, structure_coefficients_t, reconstructed_ldos_t = data.load_structure_gaussians()\n",
    "    xdos = torch.tensor(data.load_xdos())\n",
    "    ldos3 = torch.tensor(data.load_ldos())\n",
    "    ldos3 *= 2\n",
    "    \n",
    "    kMM_200 = torch.load(\"./kMM200.pt\")\n",
    "    SOAP = torch.load(\"./Soap.pt\")\n",
    "    KERNEL = torch.load(\"./kernel200.pt\")\n",
    "    ldos1 = torch.load(\"./ldos_01.pt\")\n",
    "    \n",
    "    biased_train_index = np.load(\"./biased_train_index.npy\")\n",
    "    biased_test_index = np.load(\"./biased_test_index.npy\")\n"
=======
    "    structures = data.load_structures(\":\")\n",
    "    n_structures = len(structures) #total number of structures\n",
    "    for structure in structures:#implement periodicity\n",
    "        structure.wrap(eps = 1e-12) \n",
    "    n_atoms = np.zeros(n_structures, dtype = int) #stores number of atoms in each structures\n",
    "    for i in range(n_structures):\n",
    "        n_atoms[i] = len(structures[i])\n",
    "\n",
    "    #eigenergies, emin, emax = dostools.src.datasets.data.load_eigenenergies(unpack = True, n_structures = len(structures))\n",
    "    xdos = torch.tensor(data.load_xdos())\n",
    "    ldos = torch.tensor(data.load_ldos())\n",
    "    ldos *= 2\n",
    "\n",
    "    print (\"ldos shape is {}\".format(ldos.shape))\n",
    "    mean_dos_per_atom = ldos[train_index].mean(axis = 0) #only calculated for train set to prevent data leakage\n",
    "    print (\"mean dos shape is {}\".format(mean_dos_per_atom.shape))\n",
    "    \n",
    "    \n",
    "    y_pw = ldos - mean_dos_per_atom\n",
    "    y_lcdf = torch.cumsum(y_pw, dim = 1)\n",
    "    _, pc_vectors = utils.build_pc(ldos[train_index], mean_dos_per_atom[None,:], n_pc = 10)\n",
    "    y_pc = utils.build_coeffs(ldos - mean_dos_per_atom[None,:], pc_vectors)\n",
    "    Silicon = data.load_features()\n",
    "    kMM = data.load_kMM()\n",
    "#     structure_eigvals_t, structure_coefficients_t, reconstructed_ldos_t = data.load_structure_gaussians()\n"
>>>>>>> d22a6c4f71ffcfe88e87f8f7402568f1c6e91048
   ]
  },
  {
   "cell_type": "code",
   "execution_count": 5,
   "id": "61091a5d",
   "metadata": {
    "ExecuteTime": {
<<<<<<< HEAD
     "end_time": "2023-04-28T12:21:09.822921Z",
     "start_time": "2023-04-28T12:21:09.809988Z"
=======
     "end_time": "2023-04-06T11:33:33.298688Z",
     "start_time": "2023-04-06T11:33:33.285573Z"
>>>>>>> d22a6c4f71ffcfe88e87f8f7402568f1c6e91048
    }
   },
   "outputs": [],
   "source": [
    "def manual_call(spline_coefs, spline_positions, x):\n",
    "    \"\"\"\n",
    "    spline_coefs: shape of (n x 4 x spline_positions)\n",
    "    \n",
    "    return value: shape of (n x x)\n",
    "    \"\"\"\n",
    "    interval = torch.round(spline_positions[1] - spline_positions[0], decimals = 4)\n",
    "    indexes = torch.floor((x - spline_positions[0])/interval).long()\n",
    "    x_1 = x - spline_positions[indexes]\n",
    "    x_2 = x_1 * x_1\n",
    "    x_3 = x_2 * x_1\n",
    "    x_0 = torch.ones_like(x_1)\n",
    "    x_powers = torch.stack([x_3, x_2, x_1, x_0])\n",
    "    \n",
    "    value = torch.sum(torch.mul(x_powers, torch.index_select(spline_coefs, 2, indexes)), axis = 1) \n",
    "    \n",
    "    \n",
    "    return value"
   ]
  },
  {
   "cell_type": "code",
   "execution_count": 6,
   "id": "24690649",
   "metadata": {
    "ExecuteTime": {
<<<<<<< HEAD
     "end_time": "2023-04-28T12:21:09.841303Z",
     "start_time": "2023-04-28T12:21:09.826712Z"
=======
     "end_time": "2023-04-11T13:47:22.156102Z",
     "start_time": "2023-04-11T13:47:22.146208Z"
>>>>>>> d22a6c4f71ffcfe88e87f8f7402568f1c6e91048
    }
   },
   "outputs": [],
   "source": [
    "def manual_call2(spline_coefs, spline_positions, x):\n",
    "    \"\"\"\n",
    "    spline_coefs: shape of (n x 4 x spline_positions)\n",
    "    \n",
    "    return value: shape of (n x x)\n",
    "    \"\"\"\n",
    "    interval = torch.round(spline_positions[1] - spline_positions[0], decimals = 4)\n",
    "    indexes = torch.floor((x - spline_positions[0])/interval).long()\n",
    "    expanded_index = indexes.unsqueeze(dim=1).expand(-1,4,-1)\n",
    "    x_1 = x - spline_positions[indexes]\n",
    "    x_2 = x_1 * x_1\n",
    "    x_3 = x_2 * x_1\n",
    "    x_0 = torch.ones_like(x_1)\n",
    "    x_powers = torch.stack([x_3, x_2, x_1, x_0]).permute(1,0,2)\n",
    "    value = torch.sum(torch.mul(x_powers, torch.gather(spline_coefs, 2, expanded_index)), axis = 1) \n",
    "    \n",
    "    \n",
    "    return value"
   ]
  },
  {
   "cell_type": "code",
<<<<<<< HEAD
   "execution_count": 7,
   "id": "8d594135",
   "metadata": {
    "ExecuteTime": {
     "end_time": "2023-04-28T12:21:09.983270Z",
     "start_time": "2023-04-28T12:21:09.979715Z"
    }
   },
   "outputs": [],
   "source": [
    "# sigma = 0.3\n",
    "# dx = 0.05\n",
    "# eigen_energies, emin, emax = data.load_eigenenergies(unpack = True, n_structures = 1039)\n",
    "# full_eigen_energies = [torch.tensor(i.flatten()) for i in eigen_energies]\n",
    "# eigenenergy_length = [len(i) for i in full_eigen_energies]\n",
    "# eigenenergy_length_t = torch.tensor(eigenenergy_length)\n",
    "# n_atoms_t = torch.tensor(n_atoms)\n",
    "# normalization_eiglength = [len(i) for i in eigen_energies]\n",
    "# normalization_eiglength_t = torch.tensor(normalization_eiglength)\n",
    "# normalization = 1/torch.sqrt(2*torch.tensor(np.pi)*sigma**2)/n_atoms_t/normalization_eiglength_t\n",
    "# normalization_quartic = 1/n_atoms/normalization_eiglength_t"
   ]
  },
  {
   "cell_type": "code",
   "execution_count": 8,
   "id": "12dc6582",
   "metadata": {
    "ExecuteTime": {
     "end_time": "2023-04-28T12:21:10.674806Z",
     "start_time": "2023-04-28T12:21:10.670861Z"
    }
   },
   "outputs": [],
   "source": [
    "# len(full_eigen_energies[0])"
   ]
  },
  {
   "cell_type": "code",
   "execution_count": 9,
   "id": "d2d4c275",
   "metadata": {
    "ExecuteTime": {
     "end_time": "2023-04-28T12:21:11.139373Z",
     "start_time": "2023-04-28T12:21:11.137004Z"
    }
   },
   "outputs": [],
   "source": [
    "# normalization"
=======
   "execution_count": 624,
   "id": "8d594135",
   "metadata": {
    "ExecuteTime": {
     "end_time": "2023-04-12T11:34:07.852373Z",
     "start_time": "2023-04-12T11:34:02.399695Z"
    }
   },
   "outputs": [
    {
     "name": "stdout",
     "output_type": "stream",
     "text": [
      "This file contains the eigenenergies and their corresponding kpoints of the training Silicon structures generated using DFT PBE as implemented in FHI-AIMS version 171221_1 with the ``tight'' settings\n"
     ]
    }
   ],
   "source": [
    "sigma = 0.3\n",
    "dx = 0.05\n",
    "eigen_energies, emin, emax = data.load_eigenenergies(unpack = True, n_structures = 1039)\n",
    "full_eigen_energies = [torch.tensor(i.flatten()) for i in eigen_energies]\n",
    "eigenenergy_length = [len(i) for i in full_eigen_energies]\n",
    "eigenenergy_length_t = torch.tensor(eigenenergy_length)\n",
    "n_atoms_t = torch.tensor(n_atoms)\n",
    "normalization_eiglength = [len(i) for i in eigen_energies]\n",
    "normalization_eiglength_t = torch.tensor(normalization_eiglength)\n",
    "normalization = 1/torch.sqrt(2*torch.tensor(np.pi)*sigma**2)/n_atoms_t/normalization_eiglength_t\n",
    "normalization_quartic = 1/n_atoms/normalization_eiglength_t"
>>>>>>> d22a6c4f71ffcfe88e87f8f7402568f1c6e91048
   ]
  },
  {
   "cell_type": "markdown",
   "id": "23308202",
   "metadata": {},
   "source": [
    "## Spline Loading"
   ]
  },
  {
   "cell_type": "code",
<<<<<<< HEAD
   "execution_count": 10,
   "id": "ff81f660",
   "metadata": {
    "ExecuteTime": {
     "end_time": "2023-04-28T12:21:18.491279Z",
     "start_time": "2023-04-28T12:21:17.571576Z"
=======
   "execution_count": 1130,
   "id": "ff81f660",
   "metadata": {
    "ExecuteTime": {
     "end_time": "2023-04-12T16:14:17.809627Z",
     "start_time": "2023-04-12T16:14:17.296145Z"
>>>>>>> d22a6c4f71ffcfe88e87f8f7402568f1c6e91048
    }
   },
   "outputs": [],
   "source": [
    "#Try for full ldos and shifted ldos for splines\n",
    "emin = -24.553719539983\n",
    "max_efermi = -4.3758\n",
    "# emax = 11.346414696331\n",
<<<<<<< HEAD
    "Total_splines = torch.load(\"./Splines_dataset4.pt\")\n",
=======
    "Total_splines = torch.load(\"./Splines_dataset3.pt\")\n",
>>>>>>> d22a6c4f71ffcfe88e87f8f7402568f1c6e91048
    "# lower_bound = torch.round(torch.tensor(emin-1.5).float(), decimals = 3)\n",
    "# upper_bound = torch.round(torch.tensor(max_efermi+3).float(), decimals = 3)\n",
    "# n_points = ((upper_bound - lower_bound)/0.001).long()\n",
    "# xaxis = torch.linspace(lower_bound,upper_bound,n_points).float()\n",
<<<<<<< HEAD
    "lower_bound = -24.553719539983-4.5\n",
    "upper_bound = -4.3758+5.5\n",
=======
    "lower_bound = -24.553719539983-3\n",
    "upper_bound = -4.3758+3\n",
>>>>>>> d22a6c4f71ffcfe88e87f8f7402568f1c6e91048
    "xaxis = torch.arange(lower_bound,upper_bound,0.001)\n",
    "import dostools.datasets.data as data\n",
    "xdos = torch.tensor(data.load_xdos())"
   ]
  },
  {
   "cell_type": "markdown",
   "id": "ed3d190b",
   "metadata": {},
   "source": [
    "## Biased Train-test split"
   ]
  },
  {
   "cell_type": "code",
<<<<<<< HEAD
   "execution_count": 12,
   "id": "0a69a2b5",
   "metadata": {
    "ExecuteTime": {
     "end_time": "2023-04-28T12:26:54.819360Z",
     "start_time": "2023-04-28T12:26:54.815451Z"
=======
   "execution_count": 1131,
   "id": "0a69a2b5",
   "metadata": {
    "ExecuteTime": {
     "end_time": "2023-04-12T16:14:19.118505Z",
     "start_time": "2023-04-12T16:14:19.107931Z"
>>>>>>> d22a6c4f71ffcfe88e87f8f7402568f1c6e91048
    }
   },
   "outputs": [],
   "source": [
<<<<<<< HEAD
    "# #Selected Amorphous structures\n",
    "\n",
    "# amorph_train = np.arange(939,1039,1)\n",
    "# np.random.seed(0)\n",
    "# np.random.shuffle(amorph_train)\n",
    "\n",
    "# amorph_test = amorph_train[:80]\n",
    "# amorph_train = amorph_train[80:]\n",
    "\n",
    "# n_structures2 = 939\n",
    "# np.random.seed(0)\n",
    "# n_train = int(0.8 * 1039)-20\n",
    "# remaining_train_index = np.arange(n_structures2)\n",
    "# np.random.shuffle(remaining_train_index)\n",
    "\n",
    "# remaining_test_index = remaining_train_index[n_train:]\n",
    "# remaining_train_index = remaining_train_index[:n_train]\n",
    "\n",
    "# biased_train_index = np.concatenate([remaining_train_index, amorph_train])\n",
    "# biased_test_index = np.concatenate([remaining_test_index, amorph_test])"
=======
    "#Selected Amorphous structures\n",
    "\n",
    "amorph_train = np.arange(939,1039,1)\n",
    "np.random.seed(0)\n",
    "np.random.shuffle(amorph_train)\n",
    "\n",
    "amorph_test = amorph_train[:80]\n",
    "amorph_train = amorph_train[80:]\n",
    "\n",
    "n_structures2 = 939\n",
    "np.random.seed(0)\n",
    "n_train = int(0.8 * 1039)-20\n",
    "remaining_train_index = np.arange(n_structures2)\n",
    "np.random.shuffle(remaining_train_index)\n",
    "\n",
    "remaining_test_index = remaining_train_index[n_train:]\n",
    "remaining_train_index = remaining_train_index[:n_train]\n",
    "\n",
    "biased_train_index = np.concatenate([remaining_train_index, amorph_train])\n",
    "biased_test_index = np.concatenate([remaining_test_index, amorph_test])"
>>>>>>> d22a6c4f71ffcfe88e87f8f7402568f1c6e91048
   ]
  },
  {
   "cell_type": "code",
<<<<<<< HEAD
   "execution_count": 13,
   "id": "ea2de713",
   "metadata": {
    "ExecuteTime": {
     "end_time": "2023-04-28T12:27:02.386429Z",
     "start_time": "2023-04-28T12:26:54.958559Z"
    }
   },
   "outputs": [],
=======
   "execution_count": 1132,
   "id": "ea2de713",
   "metadata": {
    "ExecuteTime": {
     "end_time": "2023-04-12T16:14:19.912900Z",
     "start_time": "2023-04-12T16:14:19.889352Z"
    }
   },
   "outputs": [
    {
     "ename": "TypeError",
     "evalue": "zeros(): argument 'size' (position 1) must be tuple of SymInts, not Labels",
     "output_type": "error",
     "traceback": [
      "\u001b[0;31m---------------------------------------------------------------------------\u001b[0m",
      "\u001b[0;31mTypeError\u001b[0m                                 Traceback (most recent call last)",
      "Input \u001b[0;32mIn [1132]\u001b[0m, in \u001b[0;36m<cell line: 6>\u001b[0;34m()\u001b[0m\n\u001b[1;32m      4\u001b[0m T_0 \u001b[38;5;241m=\u001b[39m \u001b[38;5;241m200\u001b[39m\n\u001b[1;32m      5\u001b[0m beta_0 \u001b[38;5;241m=\u001b[39m \u001b[38;5;241m1\u001b[39m \u001b[38;5;241m/\u001b[39m (ase\u001b[38;5;241m.\u001b[39munits\u001b[38;5;241m.\u001b[39mkB \u001b[38;5;241m*\u001b[39m T_0) \u001b[38;5;66;03m# inverse temperature\u001b[39;00m\n\u001b[0;32m----> 6\u001b[0m efermi \u001b[38;5;241m=\u001b[39m \u001b[43mtorch\u001b[49m\u001b[38;5;241;43m.\u001b[39;49m\u001b[43mzeros\u001b[49m\u001b[43m(\u001b[49m\u001b[43mn_structures\u001b[49m\u001b[43m)\u001b[49m\n\u001b[1;32m      7\u001b[0m \u001b[38;5;28;01mfor\u001b[39;00m i \u001b[38;5;129;01min\u001b[39;00m \u001b[38;5;28mrange\u001b[39m(n_structures):\n\u001b[1;32m      8\u001b[0m     efermi[i] \u001b[38;5;241m=\u001b[39m torch\u001b[38;5;241m.\u001b[39mtensor(utils\u001b[38;5;241m.\u001b[39mgetmu(ldos[i], beta_0, xdos, n\u001b[38;5;241m=\u001b[39m\u001b[38;5;241m4\u001b[39m))\n",
      "\u001b[0;31mTypeError\u001b[0m: zeros(): argument 'size' (position 1) must be tuple of SymInts, not Labels"
     ]
    }
   ],
>>>>>>> d22a6c4f71ffcfe88e87f8f7402568f1c6e91048
   "source": [
    "# Fermi level\n",
    "import ase\n",
    "\n",
    "T_0 = 200\n",
    "beta_0 = 1 / (ase.units.kB * T_0) # inverse temperature\n",
    "efermi = torch.zeros(n_structures)\n",
    "for i in range(n_structures):\n",
<<<<<<< HEAD
    "    efermi[i] = torch.tensor(utils.getmu(ldos3[i], beta_0, xdos, n=4))"
=======
    "    efermi[i] = torch.tensor(utils.getmu(ldos[i], beta_0, xdos, n=4))"
>>>>>>> d22a6c4f71ffcfe88e87f8f7402568f1c6e91048
   ]
  },
  {
   "cell_type": "code",
<<<<<<< HEAD
   "execution_count": 14,
   "id": "6bd87d3d",
   "metadata": {
    "ExecuteTime": {
     "end_time": "2023-04-28T12:27:02.399171Z",
     "start_time": "2023-04-28T12:27:02.393891Z"
=======
   "execution_count": 807,
   "id": "6bd87d3d",
   "metadata": {
    "ExecuteTime": {
     "end_time": "2023-04-12T12:06:53.032669Z",
     "start_time": "2023-04-12T12:06:53.028723Z"
>>>>>>> d22a6c4f71ffcfe88e87f8f7402568f1c6e91048
    }
   },
   "outputs": [],
   "source": [
    "cutoff = torch.max(efermi) + 3\n",
    "cutoff_index = torch.searchsorted(xdos, cutoff)"
   ]
  },
  {
   "cell_type": "code",
<<<<<<< HEAD
   "execution_count": 15,
   "id": "15f17b26",
   "metadata": {
    "ExecuteTime": {
     "end_time": "2023-04-28T12:27:02.417453Z",
     "start_time": "2023-04-28T12:27:02.404911Z"
=======
   "execution_count": 808,
   "id": "15f17b26",
   "metadata": {
    "ExecuteTime": {
     "end_time": "2023-04-12T12:06:53.047290Z",
     "start_time": "2023-04-12T12:06:53.034350Z"
>>>>>>> d22a6c4f71ffcfe88e87f8f7402568f1c6e91048
    }
   },
   "outputs": [],
   "source": [
    "# #Build critical x-axis (Not implemented yet)\n",
    "# min_eigen_energies = torch.tensor([torch.min(i) for i in full_eigen_energies])\n",
    "# l_bound = min_eigen_energies - 0.5\n",
    "# r_bound = efermi + 2"
   ]
  },
  {
   "cell_type": "code",
<<<<<<< HEAD
   "execution_count": 16,
   "id": "e638b884",
   "metadata": {
    "ExecuteTime": {
     "end_time": "2023-04-28T12:27:02.432653Z",
     "start_time": "2023-04-28T12:27:02.424053Z"
=======
   "execution_count": 1232,
   "id": "e638b884",
   "metadata": {
    "ExecuteTime": {
     "end_time": "2023-04-13T13:02:13.606777Z",
     "start_time": "2023-04-13T13:02:13.599359Z"
>>>>>>> d22a6c4f71ffcfe88e87f8f7402568f1c6e91048
    }
   },
   "outputs": [
    {
     "name": "stdout",
     "output_type": "stream",
     "text": [
      "torch.Size([474])\n"
     ]
    }
   ],
   "source": [
    "#Prediction will be done from lowest lbound to highest rbound\n",
    "emin = -24.553719539983\n",
    "max_efermi = -4.3758\n",
    "pred_xdos = torch.arange(emin-1.5, torch.max(efermi) + 2, 0.05)\n",
    "print (pred_xdos.shape)\n"
   ]
  },
  {
   "cell_type": "code",
<<<<<<< HEAD
   "execution_count": 17,
   "id": "0d5365e9",
   "metadata": {
    "ExecuteTime": {
     "end_time": "2023-04-28T12:27:02.454184Z",
     "start_time": "2023-04-28T12:27:02.437850Z"
=======
   "execution_count": 1227,
   "id": "0d5365e9",
   "metadata": {
    "ExecuteTime": {
     "end_time": "2023-04-13T12:52:46.252524Z",
     "start_time": "2023-04-13T12:52:46.238487Z"
>>>>>>> d22a6c4f71ffcfe88e87f8f7402568f1c6e91048
    }
   },
   "outputs": [
    {
     "data": {
      "text/plain": [
       "tensor([-26.0537, -26.0037, -25.9537, -25.9037, -25.8537, -25.8037, -25.7537,\n",
       "        -25.7037, -25.6537, -25.6037, -25.5537, -25.5037, -25.4537, -25.4037,\n",
       "        -25.3537, -25.3037, -25.2537, -25.2037, -25.1537, -25.1037, -25.0537,\n",
       "        -25.0037, -24.9537, -24.9037, -24.8537, -24.8037, -24.7537, -24.7037,\n",
       "        -24.6537, -24.6037, -24.5537, -24.5037, -24.4537, -24.4037, -24.3537,\n",
       "        -24.3037, -24.2537, -24.2037, -24.1537, -24.1037, -24.0537, -24.0037,\n",
       "        -23.9537, -23.9037, -23.8537, -23.8037, -23.7537, -23.7037, -23.6537,\n",
       "        -23.6037, -23.5537, -23.5037, -23.4537, -23.4037, -23.3537, -23.3037,\n",
       "        -23.2537, -23.2037, -23.1537, -23.1037, -23.0537, -23.0037, -22.9537,\n",
       "        -22.9037, -22.8537, -22.8037, -22.7537, -22.7037, -22.6537, -22.6037,\n",
       "        -22.5537, -22.5037, -22.4537, -22.4037, -22.3537, -22.3037, -22.2537,\n",
       "        -22.2037, -22.1537, -22.1037, -22.0537, -22.0037, -21.9537, -21.9037,\n",
       "        -21.8537, -21.8037, -21.7537, -21.7037, -21.6537, -21.6037, -21.5537,\n",
       "        -21.5037, -21.4537, -21.4037, -21.3537, -21.3037, -21.2537, -21.2037,\n",
       "        -21.1537, -21.1037, -21.0537, -21.0037, -20.9537, -20.9037, -20.8537,\n",
       "        -20.8037, -20.7537, -20.7037, -20.6537, -20.6037, -20.5537, -20.5037,\n",
       "        -20.4537, -20.4037, -20.3537, -20.3037, -20.2537, -20.2037, -20.1537,\n",
       "        -20.1037, -20.0537, -20.0037, -19.9537, -19.9037, -19.8537, -19.8037,\n",
       "        -19.7537, -19.7037, -19.6537, -19.6037, -19.5537, -19.5037, -19.4537,\n",
       "        -19.4037, -19.3537, -19.3037, -19.2537, -19.2037, -19.1537, -19.1037,\n",
       "        -19.0537, -19.0037, -18.9537, -18.9037, -18.8537, -18.8037, -18.7537,\n",
       "        -18.7037, -18.6537, -18.6037, -18.5537, -18.5037, -18.4537, -18.4037,\n",
       "        -18.3537, -18.3037, -18.2537, -18.2037, -18.1537, -18.1037, -18.0537,\n",
       "        -18.0037, -17.9537, -17.9037, -17.8537, -17.8037, -17.7537, -17.7037,\n",
       "        -17.6537, -17.6037, -17.5537, -17.5037, -17.4537, -17.4037, -17.3537,\n",
       "        -17.3037, -17.2537, -17.2037, -17.1537, -17.1037, -17.0537, -17.0037,\n",
       "        -16.9537, -16.9037, -16.8537, -16.8037, -16.7537, -16.7037, -16.6537,\n",
       "        -16.6037, -16.5537, -16.5037, -16.4537, -16.4037, -16.3537, -16.3037,\n",
       "        -16.2537, -16.2037, -16.1537, -16.1037, -16.0537, -16.0037, -15.9537,\n",
       "        -15.9037, -15.8537, -15.8037, -15.7537, -15.7037, -15.6537, -15.6037,\n",
       "        -15.5537, -15.5037, -15.4537, -15.4037, -15.3537, -15.3037, -15.2537,\n",
       "        -15.2037, -15.1537, -15.1037, -15.0537, -15.0037, -14.9537, -14.9037,\n",
       "        -14.8537, -14.8037, -14.7537, -14.7037, -14.6537, -14.6037, -14.5537,\n",
       "        -14.5037, -14.4537, -14.4037, -14.3537, -14.3037, -14.2537, -14.2037,\n",
       "        -14.1537, -14.1037, -14.0537, -14.0037, -13.9537, -13.9037, -13.8537,\n",
       "        -13.8037, -13.7537, -13.7037, -13.6537, -13.6037, -13.5537, -13.5037,\n",
       "        -13.4537, -13.4037, -13.3537, -13.3037, -13.2537, -13.2037, -13.1537,\n",
       "        -13.1037, -13.0537, -13.0037, -12.9537, -12.9037, -12.8537, -12.8037,\n",
       "        -12.7537, -12.7037, -12.6537, -12.6037, -12.5537, -12.5037, -12.4537,\n",
       "        -12.4037, -12.3537, -12.3037, -12.2537, -12.2037, -12.1537, -12.1037,\n",
       "        -12.0537, -12.0037, -11.9537, -11.9037, -11.8537, -11.8037, -11.7537,\n",
       "        -11.7037, -11.6537, -11.6037, -11.5537, -11.5037, -11.4537, -11.4037,\n",
       "        -11.3537, -11.3037, -11.2537, -11.2037, -11.1537, -11.1037, -11.0537,\n",
       "        -11.0037, -10.9537, -10.9037, -10.8537, -10.8037, -10.7537, -10.7037,\n",
       "        -10.6537, -10.6037, -10.5537, -10.5037, -10.4537, -10.4037, -10.3537,\n",
       "        -10.3037, -10.2537, -10.2037, -10.1537, -10.1037, -10.0537, -10.0037,\n",
       "         -9.9537,  -9.9037,  -9.8537,  -9.8037,  -9.7537,  -9.7037,  -9.6537,\n",
       "         -9.6037,  -9.5537,  -9.5037,  -9.4537,  -9.4037,  -9.3537,  -9.3037,\n",
       "         -9.2537,  -9.2037,  -9.1537,  -9.1037,  -9.0537,  -9.0037,  -8.9537,\n",
       "         -8.9037,  -8.8537,  -8.8037,  -8.7537,  -8.7037,  -8.6537,  -8.6037,\n",
       "         -8.5537,  -8.5037,  -8.4537,  -8.4037,  -8.3537,  -8.3037,  -8.2537,\n",
       "         -8.2037,  -8.1537,  -8.1037,  -8.0537,  -8.0037,  -7.9537,  -7.9037,\n",
       "         -7.8537,  -7.8037,  -7.7537,  -7.7037,  -7.6537,  -7.6037,  -7.5537,\n",
       "         -7.5037,  -7.4537,  -7.4037,  -7.3537,  -7.3037,  -7.2537,  -7.2037,\n",
       "         -7.1537,  -7.1037,  -7.0537,  -7.0037,  -6.9537,  -6.9037,  -6.8537,\n",
       "         -6.8037,  -6.7537,  -6.7037,  -6.6537,  -6.6037,  -6.5537,  -6.5037,\n",
       "         -6.4537,  -6.4037,  -6.3537,  -6.3037,  -6.2537,  -6.2037,  -6.1537,\n",
       "         -6.1037,  -6.0537,  -6.0037,  -5.9537,  -5.9037,  -5.8537,  -5.8037,\n",
       "         -5.7537,  -5.7037,  -5.6537,  -5.6037,  -5.5537,  -5.5037,  -5.4537,\n",
       "         -5.4037,  -5.3537,  -5.3037,  -5.2537,  -5.2037,  -5.1537,  -5.1037,\n",
       "         -5.0537,  -5.0037,  -4.9537,  -4.9037,  -4.8537,  -4.8037,  -4.7537,\n",
       "         -4.7037,  -4.6537,  -4.6037,  -4.5537,  -4.5037,  -4.4537,  -4.4037,\n",
       "         -4.3537,  -4.3037,  -4.2537,  -4.2037,  -4.1537,  -4.1037,  -4.0537,\n",
       "         -4.0037,  -3.9537,  -3.9037,  -3.8537,  -3.8037,  -3.7537,  -3.7037,\n",
       "         -3.6537,  -3.6037,  -3.5537,  -3.5037,  -3.4537,  -3.4037,  -3.3537,\n",
       "         -3.3037,  -3.2537,  -3.2037,  -3.1537,  -3.1037,  -3.0537,  -3.0037,\n",
       "         -2.9537,  -2.9037,  -2.8537,  -2.8037,  -2.7537,  -2.7037,  -2.6537,\n",
       "         -2.6037,  -2.5537,  -2.5037,  -2.4537,  -2.4037])"
      ]
     },
<<<<<<< HEAD
     "execution_count": 17,
=======
     "execution_count": 1227,
>>>>>>> d22a6c4f71ffcfe88e87f8f7402568f1c6e91048
     "metadata": {},
     "output_type": "execute_result"
    }
   ],
   "source": [
    "pred_xdos"
   ]
  },
  {
   "cell_type": "markdown",
   "id": "6f27e076",
   "metadata": {},
   "source": [
    "## Test Loss function"
   ]
  },
  {
   "cell_type": "code",
<<<<<<< HEAD
   "execution_count": 18,
   "id": "e8543d83",
   "metadata": {
    "ExecuteTime": {
     "end_time": "2023-04-28T12:27:02.534473Z",
     "start_time": "2023-04-28T12:27:02.460277Z"
    }
   },
   "outputs": [],
   "source": [
    "from scipy.signal import convolve, correlate, correlation_lags\n",
    "\n",
    "def find_optimal_discrete_shift(y1, y2):\n",
    "    if y2.shape == y1.shape and len(y1.shape) == 2:\n",
    "        shift = []\n",
    "        for i in range(y2.shape[0]):\n",
    "            corr = correlate(y1[i], y2[i], mode='full')\n",
    "            shift_i = np.argmax(corr) - len(y2[i]) + 1   \n",
    "            shift.append(shift_i)\n",
    "        \n",
    "        \n",
    "    elif y2.shape == y1.shape and len(y1.shape) == 1:\n",
    "        corr = correlate(y1, y2, mode='full')\n",
    "        shift = np.argmax(corr) - len(y2) + 1   \n",
    "    else:\n",
    "        print (\"input shapes are not the same\")\n",
    "        raise Exception\n",
    "    return shift"
   ]
  },
  {
   "cell_type": "code",
   "execution_count": 97,
   "id": "e132b89d",
   "metadata": {
    "ExecuteTime": {
     "end_time": "2023-04-28T14:31:26.697853Z",
     "start_time": "2023-04-28T14:31:26.688537Z"
=======
   "execution_count": 1134,
   "id": "e132b89d",
   "metadata": {
    "ExecuteTime": {
     "end_time": "2023-04-12T16:14:28.600124Z",
     "start_time": "2023-04-12T16:14:28.587122Z"
>>>>>>> d22a6c4f71ffcfe88e87f8f7402568f1c6e91048
    }
   },
   "outputs": [],
   "source": [
    "from dostools.loss import loss\n",
    "def MSE_shift_spline(y_pred, critical_xdos, target_splines, spline_positions, n_epochs):\n",
    "    shifts = torch.nn.parameter.Parameter(torch.zeros(y_pred.shape[0]))\n",
<<<<<<< HEAD
    "    opt_LBFGS = torch.optim.LBFGS([shifts], lr = 0.1, line_search_fn = 'strong_wolfe', tolerance_grad = 1e-15, tolerance_change = 1e-15)#, weight_decay = 0)\n",
=======
    "    opt_LBFGS = torch.optim.LBFGS([shifts], lr = 0.01, line_search_fn = 'strong_wolfe', tolerance_grad = 1e-15, tolerance_change = 1e-15)#, weight_decay = 0)\n",
>>>>>>> d22a6c4f71ffcfe88e87f8f7402568f1c6e91048
    "    opt_adam = torch.optim.Adam([shifts], lr = 1e-2, weight_decay = 0)\n",
    "    scheduler = torch.optim.lr_scheduler.ReduceLROnPlateau(opt_adam, factor = 0.1, patience = 20, threshold = 1e-7, min_lr = 1e-7)\n",
    "   \n",
    "    for i in tqdm(range(n_epochs)):\n",
    "        def closure():\n",
    "            opt_adam.zero_grad()\n",
<<<<<<< HEAD
    "            shifted_target = manual_call2(target_splines, spline_positions, critical_xdos + torch.clamp(shifts, -3 , 3.5).view(-1,1))\n",
    "#             shifted_ldos = evaluate_dos_from_fourier(shifted_preds, emin, emax, num_eval=778)\n",
    "            #loss_i = torch.mean((y_pred - shifted_target)**2)\n",
    "#             loss_i = loss.t_get_mse(y_pred, shifted_target)\n",
    "            loss_i = loss.t_get_mse(y_pred, shifted_target)\n",
    "#             loss_i += loss.t_get_mse(shifted_target[:,cutoff_index], target[:,cutoff_index])\n",
=======
    "            shifted_target = manual_call2(target_splines, spline_positions, critical_xdos + torch.clamp(shifts, -1 , 1).view(-1,1))\n",
    "#             shifted_ldos = evaluate_dos_from_fourier(shifted_preds, emin, emax, num_eval=778)\n",
    "            #loss_i = torch.mean((y_pred - shifted_target)**2)\n",
    "            loss_i = loss.t_get_mse(y_pred, shifted_target)\n",
    "#             loss_i = loss.t_get_mse(shifted_target[:,cutoff_index], target[:,cutoff_index])\n",
>>>>>>> d22a6c4f71ffcfe88e87f8f7402568f1c6e91048
    "            loss_i.backward(gradient = torch.tensor(1), inputs = shifts)\n",
    "#             print (loss_i.item(), shifts.grad.item(), shifts.item())\n",
    "            return (loss_i)\n",
    "\n",
    "        mse = opt_adam.step(closure)\n",
<<<<<<< HEAD
    "    shifts = torch.clamp(shifts, -3, 3.5)\n",
    "    shifted_target = manual_call2(target_splines, spline_positions, critical_xdos + torch.clamp(shifts, -3 , 3.5).view(-1,1))\n",
    "    rmse = loss.t_get_rmse(y_pred, shifted_target, critical_xdos, perc = True)\n",
    "    return rmse, shifts"
=======
    "        \n",
    "    return mse, shifts"
>>>>>>> d22a6c4f71ffcfe88e87f8f7402568f1c6e91048
   ]
  },
  {
   "cell_type": "code",
<<<<<<< HEAD
   "execution_count": 111,
   "id": "f14eaa60",
   "metadata": {
    "ExecuteTime": {
     "end_time": "2023-05-01T16:24:05.336369Z",
     "start_time": "2023-05-01T16:24:05.113402Z"
=======
   "execution_count": 1135,
   "id": "f14eaa60",
   "metadata": {
    "ExecuteTime": {
     "end_time": "2023-04-12T16:14:35.054776Z",
     "start_time": "2023-04-12T16:14:29.989867Z"
>>>>>>> d22a6c4f71ffcfe88e87f8f7402568f1c6e91048
    },
    "scrolled": true
   },
   "outputs": [
    {
<<<<<<< HEAD
     "ename": "IndexError",
     "evalue": "index 30200 is out of bounds for dimension 0 with size 30178",
     "output_type": "error",
     "traceback": [
      "\u001b[0;31m---------------------------------------------------------------------------\u001b[0m",
      "\u001b[0;31mIndexError\u001b[0m                                Traceback (most recent call last)",
      "Input \u001b[0;32mIn [111]\u001b[0m, in \u001b[0;36m<cell line: 6>\u001b[0;34m()\u001b[0m\n\u001b[1;32m      3\u001b[0m \u001b[38;5;66;03m# true_alignments = (torch.rand(batch_size)-0.5) * 2 #torch.tensor([0.9])\u001b[39;00m\n\u001b[1;32m      5\u001b[0m true_alignments \u001b[38;5;241m=\u001b[39m torch\u001b[38;5;241m.\u001b[39mzeros(\u001b[38;5;241m1039\u001b[39m) \u001b[38;5;241m+\u001b[39m \u001b[38;5;241m4\u001b[39m\n\u001b[0;32m----> 6\u001b[0m shift_target \u001b[38;5;241m=\u001b[39m \u001b[43mmanual_call2\u001b[49m\u001b[43m(\u001b[49m\u001b[43mTotal_splines\u001b[49m\u001b[43m[\u001b[49m\u001b[43mindex\u001b[49m\u001b[43m:\u001b[49m\u001b[43mindex\u001b[49m\u001b[38;5;241;43m+\u001b[39;49m\u001b[43mbatch_size\u001b[49m\u001b[43m]\u001b[49m\u001b[43m,\u001b[49m\u001b[43m \u001b[49m\u001b[43mxaxis\u001b[49m\u001b[43m,\u001b[49m\u001b[43m \u001b[49m\u001b[43mpred_xdos\u001b[49m\u001b[43m \u001b[49m\u001b[38;5;241;43m+\u001b[39;49m\u001b[43m \u001b[49m\u001b[43mtrue_alignments\u001b[49m\u001b[38;5;241;43m.\u001b[39;49m\u001b[43mview\u001b[49m\u001b[43m(\u001b[49m\u001b[38;5;241;43m-\u001b[39;49m\u001b[38;5;241;43m1\u001b[39;49m\u001b[43m,\u001b[49m\u001b[38;5;241;43m1\u001b[39;49m\u001b[43m)\u001b[49m\u001b[43m)\u001b[49m\n\u001b[1;32m      7\u001b[0m error, align \u001b[38;5;241m=\u001b[39m MSE_shift_spline(shift_target, pred_xdos, Total_splines[index:index\u001b[38;5;241m+\u001b[39mbatch_size], xaxis, \u001b[38;5;241m800\u001b[39m)\n",
      "Input \u001b[0;32mIn [6]\u001b[0m, in \u001b[0;36mmanual_call2\u001b[0;34m(spline_coefs, spline_positions, x)\u001b[0m\n\u001b[1;32m      8\u001b[0m indexes \u001b[38;5;241m=\u001b[39m torch\u001b[38;5;241m.\u001b[39mfloor((x \u001b[38;5;241m-\u001b[39m spline_positions[\u001b[38;5;241m0\u001b[39m])\u001b[38;5;241m/\u001b[39minterval)\u001b[38;5;241m.\u001b[39mlong()\n\u001b[1;32m      9\u001b[0m expanded_index \u001b[38;5;241m=\u001b[39m indexes\u001b[38;5;241m.\u001b[39munsqueeze(dim\u001b[38;5;241m=\u001b[39m\u001b[38;5;241m1\u001b[39m)\u001b[38;5;241m.\u001b[39mexpand(\u001b[38;5;241m-\u001b[39m\u001b[38;5;241m1\u001b[39m,\u001b[38;5;241m4\u001b[39m,\u001b[38;5;241m-\u001b[39m\u001b[38;5;241m1\u001b[39m)\n\u001b[0;32m---> 10\u001b[0m x_1 \u001b[38;5;241m=\u001b[39m x \u001b[38;5;241m-\u001b[39m \u001b[43mspline_positions\u001b[49m\u001b[43m[\u001b[49m\u001b[43mindexes\u001b[49m\u001b[43m]\u001b[49m\n\u001b[1;32m     11\u001b[0m x_2 \u001b[38;5;241m=\u001b[39m x_1 \u001b[38;5;241m*\u001b[39m x_1\n\u001b[1;32m     12\u001b[0m x_3 \u001b[38;5;241m=\u001b[39m x_2 \u001b[38;5;241m*\u001b[39m x_1\n",
      "\u001b[0;31mIndexError\u001b[0m: index 30200 is out of bounds for dimension 0 with size 30178"
=======
     "name": "stderr",
     "output_type": "stream",
     "text": [
      "100%|████████████████████████████████████████████████████████████████████████████████████████████████████████████████████████████████████████████████████████████████████████████| 500/500 [00:05<00:00, 99.17it/s]\n"
>>>>>>> d22a6c4f71ffcfe88e87f8f7402568f1c6e91048
     ]
    }
   ],
   "source": [
    "batch_size = 1039\n",
    "index = 0\n",
    "# true_alignments = (torch.rand(batch_size)-0.5) * 2 #torch.tensor([0.9])\n",
<<<<<<< HEAD
    "\n",
    "true_alignments = torch.zeros(1039) - \n",
    "shift_target = manual_call2(Total_splines[index:index+batch_size], xaxis, pred_xdos + true_alignments.view(-1,1))\n",
    "error, align = MSE_shift_spline(shift_target, pred_xdos, Total_splines[index:index+batch_size], xaxis, 800)\n",
=======
    "true_alignments = true_alignments.clone()\n",
    "shift_target = manual_call2(Total_splines[index:index+batch_size], xaxis, pred_xdos + true_alignments.view(-1,1))\n",
    "error, align = MSE_shift_spline(shift_target, pred_xdos, Total_splines[index:index+batch_size], xaxis, 500)\n",
>>>>>>> d22a6c4f71ffcfe88e87f8f7402568f1c6e91048
    "# print (torch.where(abs(true_alignments + align)>1e-3))"
   ]
  },
  {
   "cell_type": "code",
<<<<<<< HEAD
   "execution_count": 102,
   "id": "3ef7184c",
   "metadata": {
    "ExecuteTime": {
     "end_time": "2023-04-28T14:33:00.846130Z",
     "start_time": "2023-04-28T14:33:00.840487Z"
    }
   },
   "outputs": [
    {
     "data": {
      "text/plain": [
       "tensor(72.2774, grad_fn=<DivBackward0>)"
      ]
     },
     "execution_count": 102,
     "metadata": {},
     "output_type": "execute_result"
    }
   ],
   "source": [
    "error"
   ]
  },
  {
   "cell_type": "code",
   "execution_count": 100,
   "id": "89e6b39f",
   "metadata": {
    "ExecuteTime": {
     "end_time": "2023-04-28T14:31:44.448371Z",
     "start_time": "2023-04-28T14:31:44.444018Z"
    }
   },
   "outputs": [
    {
     "data": {
      "text/plain": [
       "tensor(44.6090, grad_fn=<DivBackward0>)"
      ]
     },
     "execution_count": 100,
     "metadata": {},
     "output_type": "execute_result"
    }
   ],
   "source": [
    "error"
   ]
  },
  {
   "cell_type": "code",
   "execution_count": 89,
   "id": "366ddcb7",
   "metadata": {
    "ExecuteTime": {
     "end_time": "2023-04-28T14:30:25.530201Z",
     "start_time": "2023-04-28T14:30:25.526462Z"
    }
   },
   "outputs": [
    {
     "ename": "SyntaxError",
     "evalue": "invalid syntax (2025052124.py, line 1)",
     "output_type": "error",
     "traceback": [
      "\u001b[0;36m  Input \u001b[0;32mIn [89]\u001b[0;36m\u001b[0m\n\u001b[0;31m    is BF first easier\u001b[0m\n\u001b[0m    ^\u001b[0m\n\u001b[0;31mSyntaxError\u001b[0m\u001b[0;31m:\u001b[0m invalid syntax\n"
     ]
    }
   ],
   "source": [
    "is BF first easier?"
   ]
  },
  {
   "cell_type": "code",
   "execution_count": 82,
   "id": "b255d6d7",
   "metadata": {
    "ExecuteTime": {
     "end_time": "2023-04-28T14:29:45.092226Z",
     "start_time": "2023-04-28T14:29:45.086708Z"
    }
   },
   "outputs": [
    {
     "data": {
      "text/plain": [
       "tensor(0.0014, grad_fn=<MeanBackward1>)"
      ]
     },
     "execution_count": 82,
     "metadata": {},
     "output_type": "execute_result"
    }
   ],
   "source": [
    "error"
   ]
  },
  {
   "cell_type": "code",
   "execution_count": 83,
   "id": "42b91f5c",
   "metadata": {
    "ExecuteTime": {
     "end_time": "2023-04-28T14:29:46.060257Z",
     "start_time": "2023-04-28T14:29:46.055505Z"
    }
   },
   "outputs": [
    {
     "data": {
      "text/plain": [
       "tensor([-1.2000, -1.2000, -1.2000,  ..., -1.2000, -1.1989, -1.1990],\n",
       "       grad_fn=<ClampBackward1>)"
      ]
     },
     "execution_count": 83,
     "metadata": {},
     "output_type": "execute_result"
    }
   ],
   "source": [
    "align\n"
   ]
  },
  {
   "cell_type": "code",
   "execution_count": 80,
   "id": "bfde8a57",
   "metadata": {
    "ExecuteTime": {
     "end_time": "2023-04-28T14:29:19.247159Z",
     "start_time": "2023-04-28T14:29:19.240437Z"
    }
   },
   "outputs": [
    {
     "data": {
      "text/plain": [
       "tensor([-1.2000, -1.2000, -1.2000,  ..., -1.2000, -1.1989, -1.1990],\n",
       "       grad_fn=<ClampBackward1>)"
      ]
     },
     "execution_count": 80,
     "metadata": {},
     "output_type": "execute_result"
    }
   ],
   "source": [
    "align"
   ]
  },
  {
   "cell_type": "code",
   "execution_count": 72,
   "id": "e87c892a",
   "metadata": {
    "ExecuteTime": {
     "end_time": "2023-04-28T14:28:55.276516Z",
     "start_time": "2023-04-28T14:28:55.111180Z"
    }
   },
   "outputs": [
    {
     "data": {
      "text/plain": [
       "[<matplotlib.lines.Line2D at 0x7f8e5c1599a0>]"
      ]
     },
     "execution_count": 72,
     "metadata": {},
     "output_type": "execute_result"
    },
    {
     "data": {
      "image/png": "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\n",
      "text/plain": [
       "<Figure size 432x288 with 1 Axes>"
      ]
     },
     "metadata": {
      "needs_background": "light"
     },
     "output_type": "display_data"
    }
   ],
   "source": [
    "plt.plot(shift_target[0], c = 'r')"
   ]
  },
  {
   "cell_type": "code",
   "execution_count": null,
   "id": "aae2898c",
   "metadata": {},
   "outputs": [],
   "source": [
    "plt.plot()"
   ]
  },
  {
   "cell_type": "code",
   "execution_count": 57,
   "id": "1ca91d38",
   "metadata": {
    "ExecuteTime": {
     "end_time": "2023-04-28T14:24:07.330538Z",
     "start_time": "2023-04-28T14:24:07.323495Z"
    }
   },
   "outputs": [
    {
     "data": {
      "text/plain": [
       "tensor([-1.2000, -1.2000, -1.2000,  ..., -1.2000, -1.1989, -1.1990],\n",
       "       grad_fn=<ClampBackward1>)"
      ]
     },
     "execution_count": 57,
     "metadata": {},
     "output_type": "execute_result"
    }
   ],
   "source": [
    "align"
   ]
  },
  {
   "cell_type": "code",
   "execution_count": 62,
   "id": "ca1649cc",
   "metadata": {
    "ExecuteTime": {
     "end_time": "2023-04-28T14:28:09.829461Z",
     "start_time": "2023-04-28T14:28:09.824576Z"
    }
   },
   "outputs": [
    {
     "data": {
      "text/plain": [
       "tensor(0.0014, grad_fn=<MeanBackward1>)"
      ]
     },
     "execution_count": 62,
     "metadata": {},
     "output_type": "execute_result"
    }
   ],
   "source": [
    "error"
   ]
  },
  {
   "cell_type": "code",
   "execution_count": null,
   "id": "be0d9c11",
   "metadata": {},
   "outputs": [],
   "source": []
  },
  {
   "cell_type": "code",
   "execution_count": 52,
   "id": "eca96694",
   "metadata": {
    "ExecuteTime": {
     "end_time": "2023-04-28T12:48:39.548023Z",
     "start_time": "2023-04-28T12:48:39.535565Z"
    }
   },
   "outputs": [
    {
     "data": {
      "text/plain": [
       "tensor(0.0166, grad_fn=<MeanBackward1>)"
      ]
     },
     "execution_count": 52,
     "metadata": {},
     "output_type": "execute_result"
    }
   ],
   "source": [
    "error"
   ]
  },
  {
   "cell_type": "code",
   "execution_count": null,
   "id": "9b4b325c",
   "metadata": {
    "ExecuteTime": {
     "end_time": "2023-04-28T12:45:11.928999Z",
     "start_time": "2023-04-28T12:45:11.928982Z"
    }
   },
   "outputs": [],
   "source": [
    "print (error)"
   ]
  },
  {
   "cell_type": "code",
   "execution_count": null,
   "id": "de22f9bc",
   "metadata": {},
   "outputs": [],
   "source": []
  },
  {
   "cell_type": "code",
   "execution_count": 22,
   "id": "bc4704c0",
   "metadata": {
    "ExecuteTime": {
     "end_time": "2023-04-28T12:33:35.037668Z",
     "start_time": "2023-04-28T12:33:35.021995Z"
    }
   },
   "outputs": [
    {
     "data": {
      "text/plain": [
       "tensor([0.3484, 0.3352, 0.2274, 0.2562, 0.2951, 0.3451, 0.3752, 0.2850, 0.3034,\n",
       "        0.3134, 0.2906, 0.2581, 0.3422, 0.3433, 0.3200, 0.2416, 0.2785, 0.2839,\n",
       "        0.2835, 0.3028, 0.3320, 0.2785, 0.2889, 0.2532, 0.2690, 0.3001, 0.2691,\n",
       "        0.3389, 0.2594, 0.2898, 0.3090, 0.2617, 0.2750, 0.2618, 0.3245, 0.2818,\n",
       "        0.3053, 0.3091, 0.2796, 0.3339, 0.3454, 0.2113, 0.3020, 0.2432, 0.3025,\n",
       "        0.3561, 0.2954, 0.2264, 0.2810], grad_fn=<SliceBackward0>)"
      ]
     },
     "execution_count": 22,
     "metadata": {},
     "output_type": "execute_result"
    }
   ],
   "source": [
    "align[673:722]"
   ]
  },
  {
   "cell_type": "code",
   "execution_count": 84,
   "id": "77865825",
   "metadata": {
    "ExecuteTime": {
     "end_time": "2023-04-28T14:29:55.896854Z",
     "start_time": "2023-04-28T14:29:55.889178Z"
    }
   },
   "outputs": [
    {
     "data": {
      "text/plain": [
       "(tensor([673, 674, 675, 676, 677, 678, 679, 680, 681, 682, 683, 684, 685, 686,\n",
       "         687, 688, 689, 690, 691, 692, 693, 694, 695, 696, 697, 698, 699, 700,\n",
       "         701, 702, 703, 704, 705, 706, 707, 708, 709, 710, 711, 712, 713, 714,\n",
       "         715, 716, 717, 718, 719, 720, 721, 722, 723]),)"
      ]
     },
     "execution_count": 84,
     "metadata": {},
     "output_type": "execute_result"
    }
   ],
   "source": [
    "torch.where(align>0)"
   ]
  },
  {
   "cell_type": "code",
   "execution_count": 88,
   "id": "c8de3009",
   "metadata": {
    "ExecuteTime": {
     "end_time": "2023-04-28T14:30:10.423747Z",
     "start_time": "2023-04-28T14:30:10.416407Z"
    }
   },
   "outputs": [
    {
     "data": {
      "text/plain": [
       "(tensor([ 324,  325,  326,  327,  328,  329,  330,  331,  332,  333,  334,  335,\n",
       "          336,  337,  338,  339,  340,  341,  342,  343,  344,  345,  346,  347,\n",
       "          348,  349,  350,  351,  352,  353,  354,  355,  356,  357,  358,  359,\n",
       "          360,  361,  362,  363,  364,  365,  366,  367,  368,  369,  370,  371,\n",
       "          372,  373,  374,  375,  376,  377,  378,  379,  380,  381,  382,  383,\n",
       "          384,  385,  386,  387,  388,  389,  390,  391,  392,  393,  394,  395,\n",
       "          396,  397,  398,  399,  400,  401,  402,  403,  404,  405,  406,  407,\n",
       "          408,  409,  410,  411,  412,  413,  414,  415,  416,  417,  418,  419,\n",
       "          420,  421,  422,  423,  424,  425,  426,  427,  428,  429,  430,  431,\n",
       "          432,  433,  434,  435,  436,  437,  438,  439,  440,  441,  442,  443,\n",
       "          444,  445,  446,  447,  448,  449,  450,  451,  452,  453,  454,  455,\n",
       "          456,  457,  458,  459,  460,  461,  462,  463,  464,  465,  466,  467,\n",
       "          468,  469,  470,  471,  472,  473,  474,  475,  476,  477,  478,  479,\n",
       "          480,  481,  482,  483,  484,  485,  486,  487,  488,  489,  490,  491,\n",
       "          492,  493,  494,  495,  496,  497,  498,  499,  500,  501,  502,  503,\n",
       "          504,  505,  506,  507,  508,  509,  510,  511,  512,  513,  514,  515,\n",
       "          516,  517,  518,  519,  520,  521,  522,  523,  524,  525,  526,  527,\n",
       "          528,  529,  530,  531,  532,  533,  534,  535,  536,  537,  538,  539,\n",
       "          540,  541,  542,  543,  544,  545,  546,  547,  548,  549,  550,  551,\n",
       "          552,  553,  554,  555,  556,  557,  558,  559,  560,  561,  562,  563,\n",
       "          564,  565,  566,  567,  568,  569,  570,  571,  572,  573,  574,  575,\n",
       "          576,  577,  578,  579,  580,  581,  582,  583,  584,  585,  586,  587,\n",
       "          588,  589,  590,  591,  592,  593,  594,  595,  596,  597,  598,  599,\n",
       "          600,  601,  602,  603,  604,  605,  606,  607,  608,  609,  610,  611,\n",
       "          612,  613,  614,  615,  616,  617,  618,  619,  620,  621,  622,  623,\n",
       "          624,  625,  626,  627,  628,  629,  630,  631,  632,  633,  642,  643,\n",
       "          644,  645,  646,  647,  648,  649,  650,  651,  657,  658,  659,  660,\n",
       "          661,  662,  663,  664,  665,  666,  667,  668,  669,  670,  671,  672,\n",
       "          673,  674,  675,  676,  677,  678,  679,  680,  681,  682,  683,  684,\n",
       "          685,  686,  687,  688,  689,  690,  691,  692,  693,  694,  695,  696,\n",
       "          697,  698,  699,  700,  701,  702,  703,  704,  705,  706,  707,  708,\n",
       "          709,  710,  711,  712,  713,  714,  715,  716,  717,  718,  719,  720,\n",
       "          721,  722,  723,  757,  774,  869,  939,  940,  941,  942,  943,  944,\n",
       "          945,  946,  947,  948,  949,  950,  951,  952,  953,  954,  955,  956,\n",
       "          957,  958,  959,  960,  961,  962,  963,  964,  965,  967,  968,  969,\n",
       "          970,  971,  972,  973,  974,  975,  976,  977,  978,  979,  980,  981,\n",
       "          982,  983,  984,  985,  986,  987,  988,  989,  990,  991,  992,  993,\n",
       "          994,  995,  996,  997,  998,  999, 1000, 1001, 1002, 1004, 1005, 1006,\n",
       "         1007, 1008, 1009, 1010, 1011, 1012, 1013, 1014, 1015, 1016, 1017, 1018,\n",
       "         1019, 1020, 1021, 1022, 1023, 1024, 1025, 1026, 1027, 1029, 1031, 1032,\n",
       "         1033, 1034, 1035, 1037, 1038]),)"
      ]
     },
     "execution_count": 88,
     "metadata": {},
     "output_type": "execute_result"
    }
   ],
   "source": [
    "torch.where(abs(align - true_alignments) > 0.001)"
   ]
  },
  {
   "cell_type": "code",
   "execution_count": 837,
   "id": "0277379a",
   "metadata": {
    "ExecuteTime": {
     "end_time": "2023-04-19T13:09:49.891752Z",
     "start_time": "2023-04-19T13:09:49.793695Z"
    }
   },
   "outputs": [
    {
     "data": {
      "text/plain": [
       "[<matplotlib.lines.Line2D at 0x7fe126e57400>]"
      ]
     },
     "execution_count": 837,
     "metadata": {},
     "output_type": "execute_result"
    },
    {
     "data": {
      "image/png": "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\n",
      "text/plain": [
       "<Figure size 432x288 with 1 Axes>"
      ]
     },
     "metadata": {
      "needs_background": "light"
     },
     "output_type": "display_data"
    }
   ],
   "source": [
    "i = 1038\n",
    "plt.plot(ldos3[i])"
   ]
  },
  {
   "cell_type": "code",
   "execution_count": 795,
   "id": "a413dbf9",
   "metadata": {
    "ExecuteTime": {
     "end_time": "2023-04-19T12:51:36.617596Z",
     "start_time": "2023-04-19T12:51:36.610489Z"
    }
   },
   "outputs": [
    {
     "data": {
      "text/plain": [
       "tensor(-1.1898, grad_fn=<SelectBackward0>)"
      ]
     },
     "execution_count": 795,
     "metadata": {},
     "output_type": "execute_result"
    }
   ],
   "source": [
    "align[352]"
   ]
  },
  {
   "cell_type": "code",
   "execution_count": 800,
   "id": "ef638596",
   "metadata": {
    "ExecuteTime": {
     "end_time": "2023-04-19T13:01:49.765086Z",
     "start_time": "2023-04-19T13:01:49.758528Z"
    }
   },
   "outputs": [
    {
     "data": {
      "text/plain": [
       "773"
      ]
     },
     "execution_count": 800,
     "metadata": {},
     "output_type": "execute_result"
    }
   ],
   "source": [
    "1039 - 266"
   ]
  },
  {
   "cell_type": "code",
   "execution_count": 771,
   "id": "6d02598c",
   "metadata": {
    "ExecuteTime": {
     "end_time": "2023-04-19T12:48:16.693614Z",
     "start_time": "2023-04-19T12:48:16.687050Z"
    }
   },
   "outputs": [
    {
     "data": {
      "text/plain": [
       "tensor(-1.2000, grad_fn=<SelectBackward0>)"
      ]
     },
     "execution_count": 771,
     "metadata": {},
     "output_type": "execute_result"
    }
   ],
   "source": [
    "align[81]"
   ]
  },
  {
   "cell_type": "code",
   "execution_count": 681,
   "id": "5c3ee6c4",
   "metadata": {
    "ExecuteTime": {
     "end_time": "2023-04-19T10:26:32.860727Z",
     "start_time": "2023-04-19T10:26:32.853685Z"
    }
   },
   "outputs": [
    {
     "data": {
      "text/plain": [
       "array([33, 33, 33, 33, 33, 33, 33, 33, 33, 33, 33, 33, 33, 33, 33, 33, 33,\n",
       "       33, 33, 33, 33, 33, 33, 33, 33, 33, 33, 33, 33, 33, 33, 33, 33, 33,\n",
       "       33, 33, 33, 33, 33, 33, 33, 33, 33, 33, 33, 33, 33, 33, 33])"
      ]
     },
     "execution_count": 681,
     "metadata": {},
     "output_type": "execute_result"
    }
   ],
   "source": [
    "n_atoms[673:722]"
   ]
  },
  {
   "cell_type": "code",
   "execution_count": 161,
   "id": "ae8d2cd7",
   "metadata": {
    "ExecuteTime": {
     "end_time": "2023-04-18T22:35:57.705218Z",
     "start_time": "2023-04-18T22:35:57.698586Z"
    }
   },
   "outputs": [
    {
     "data": {
      "text/plain": [
       "(tensor([346, 373, 620, 622, 625, 626, 627, 629, 631, 648, 649, 651, 658, 660,\n",
       "         663, 664]),)"
      ]
     },
     "execution_count": 161,
     "metadata": {},
     "output_type": "execute_result"
    }
   ],
   "source": [
    "torch.where(abs(true_alignments - align) > 1e-1)"
   ]
  },
  {
   "cell_type": "code",
   "execution_count": 159,
   "id": "82881589",
   "metadata": {
    "ExecuteTime": {
     "end_time": "2023-04-18T22:35:41.465246Z",
     "start_time": "2023-04-18T22:35:41.459763Z"
    }
   },
   "outputs": [
    {
     "data": {
      "text/plain": [
       "(tensor([623, 626, 628, 629, 631, 646, 664, 666]),)"
      ]
     },
     "execution_count": 159,
     "metadata": {},
     "output_type": "execute_result"
    }
   ],
   "source": [
    "torch.where(abs(true_alignments - align) > 1e-1)"
   ]
  },
  {
   "cell_type": "code",
   "execution_count": 155,
   "id": "a2586c9c",
   "metadata": {
    "ExecuteTime": {
     "end_time": "2023-04-18T22:35:14.385283Z",
     "start_time": "2023-04-18T22:35:14.378314Z"
    }
   },
   "outputs": [
    {
     "data": {
      "text/plain": [
       "tensor(0.1852, grad_fn=<SelectBackward0>)"
      ]
     },
     "execution_count": 155,
     "metadata": {},
     "output_type": "execute_result"
    }
   ],
   "source": [
    "abs(true_alignments - align)[629]"
   ]
  },
  {
   "cell_type": "code",
   "execution_count": 105,
   "id": "85d9a7be",
   "metadata": {
    "ExecuteTime": {
     "end_time": "2023-04-18T22:23:37.761596Z",
     "start_time": "2023-04-18T22:23:37.515032Z"
    }
   },
   "outputs": [
    {
     "data": {
      "text/plain": [
       "[<matplotlib.lines.Line2D at 0x7fe1601b3190>]"
      ]
     },
     "execution_count": 105,
     "metadata": {},
     "output_type": "execute_result"
    },
    {
     "data": {
      "image/png": "iVBORw0KGgoAAAANSUhEUgAAAXQAAAD4CAYAAAD8Zh1EAAAAOXRFWHRTb2Z0d2FyZQBNYXRwbG90bGliIHZlcnNpb24zLjUuMSwgaHR0cHM6Ly9tYXRwbG90bGliLm9yZy/YYfK9AAAACXBIWXMAAAsTAAALEwEAmpwYAAA2XklEQVR4nO3dd3hVVdb48e9OQgjSQon0kNCbgBCKqIAFbChgG9RRURTQ0Rnf9/fOjN2IOjPOKO9rGyIqgo4jzoggCigOICSGkqC00AKEEmpooYTUu35/7ARC6jlJbm7K+jxPnpt7zln3rJuEdTf77L2PERGUUkpVf36+TkAppVTF0IKulFI1hBZ0pZSqIbSgK6VUDaEFXSmlaogAX524efPmEhYW5qvTK6VUtbR27dqjIhJS1D6fFfSwsDDi4+N9dXqllKqWjDF7itunXS5KKVVDaEFXSqkaQgu6UkrVEFrQlVKqhtCCrpRSNYQWdKWUqiG0oCulVA2hBV0ppSqJCEyZAuvXe+f1fTaxSCmlapvXX4eXXoJz56BPn4p/fW2hK6VUJYiPh+eeg3Hj4LXXvHMOLehKKeVlIvBf/wUhIRAVBX5eqrxa0JVSPnH4MDz0EDRrBg0bwq23wrp1JcfsOL6D27+4nUZ/bkST15tw75x7STqRVCn5lkdsLMTEwAsvQOPG3juPFnSlVKWLjYXLLoPPP4fbboMHH4TVq2HwYJg5s+iYuVvm0jeqL0uTlnLfZfdxZ/c7+Wb7N/Sb3o/vdnxXqfm79eab0LQpjB/v5ROJiE+++vfvL0qp2ueXX0QaNRLp1Elk06YL21NSRK67TgRE/vGPi2MWJS6SOlPqyOAPB8u+1H3nt+88vlP6TOsjga8EyrKkZZWSv1u7dokYI/LssxXzekC8FFNXtYWulKo0p0/D7bdDo0awZAn07HlhX/PmsGABXHONbcnGxNjtyaeSGfflOHqE9GDRfYto26jt+ZgOTTqw9MGldGzSkdGzR7Pj+I7KfUMOfPaZ7UOfONH759KCrpSqNP/zP7B7t+1qCQ0tvL9uXZg7F9q3h3vugaNHhQnzJ5DlyeLLu78kOCi4UEzTek1ZdN8i/I0/v/ryV2RkZ3j9fTglYgv61Vfb9+RtWtCVUpXiu+9g+nRb1K+6qvjjGjeGL76AI0fg2rF7WLxjMW+MeINOTTsVG9M+uD0fj/6Ynw/+zB9++IMXsi+bdetg61a4777KOZ+jgm6MudEYs80Ys8MY83QR+4cbY1KNMetyv16s+FSVUtXViRMwYYLtYpkypfTj+/eHp19OYWNMGF22RzE5YnKpMaO7jeapQU/x9pq3mbtlbgVkXX5ffAEBAXDnnZVzvlILujHGH3gPuAnoAdxjjOlRxKHRItI398vBr0wpVVs88YRtcX/yCQQFlX58jieH/4SMJaDnN+z690Sio42j87w+4nUiWkcw/uvxbD+2vZxZl9+339rulmbNKud8TlroA4EdIrJLRDKB2cBo76allKopvvwS/vlPOwa7Xz9nMVNXTiU2+SfejTpLhw6Gu+6C/ftLjwv0D2TO3XMI9A9k7BdjOZ1xunzJl0NSEiQkwKhRlXdOJwW9DbAv3/Pk3G0FXWGMWW+MWWSM6VnEfqVULXP4MEyeDBER8MwzzmISjiTw/LLnGdttLBOv/BVz58LZs3Z0zLlzpceHNg7lizu/YOvRrTw470E84infmyijBQvs4623Vt45nRT0ov6vIwWe/wy0F5E+wDvAvCJfyJiJxph4Y0x8SkqKq0SVUtVL3lC9M2dg1iyoU6f0mKycLB6Y9wCN6zYmalQUxhh69IBPP4U1a+CRR+zrluba8Gt5c+SbzN06l5eWvVT+N1MGCxZA5872q7I4KejJQLt8z9sCB/IfICKnRORM7vcLgTrGmOYFX0hEpotIhIhEhISElCNtpVRVN2sWzJ8Pf/oT9CjqqlsRXl3xKj8f/Jn3R73PpfUvPb997Fh49VXbdfOXvzh7rd8N+h0TLp/Aq9Gv8vnGz8vwDsouMxNWrIAbbqjU05Y+UxS7xO4uIBwIBNYDPQsc0xIwud8PBPbmPS/uS2eKKlVz7dljZ4MOHSqSk+MsJm5/nPi/7C/3f3V/kfs9HpF77rEzSZcscfaaGdkZcvWMqyXo1SDZkrLFYfblFxNj85wzp+Jfm/LMFBWRbOAJ4HtgC/AvEUkwxkw2xuSNJboT2GSMWQ+8DYzLPbFSqpbxeODhhyEnx67L4mRlwXNZ53hg7gO0bNCSt296u8hjjIGPPoKOHeHxxyE7u/TXDfQP5N93/ZuggCB+u+i37t5IOSxbZvMdNqzSTgk4HIcuIgtFpIuIdBSR13K3RYlIVO7374pITxHpIyKDRSTWm0krpaquDz6w0/qnToXwcGcxLy9/mS1HtzBj9IwiZ4PmqVcP/vY32LbNzjZ1okWDFrww9AV+2PUDMXtjnAWV07Jl0Lt35Q1XzKMzRZVSFebwYfjjH+Haa+HRR53FbDy8kTdXvsnDfR9mZMeRpR4/ZoydoPTOO87zmhwxmSZBTXhnjYugMsrIsKtJXnON109ViBZ0pVSF+X//zw4t/PvfbZdDaTziYfKCyTSu25i/jviro3MYA5MmQVwcbNjgLK9L6lzCg30eZO6WuRw/d9xZUBmtXw/p6SUvb+AtWtCVUhVi+XK7ENXTT0PXrs5iPln/CbH7Ynlj5Bs0u8R5/8SvfmX75ufMcZ7ffb3vI8uTxfxt850HlcGqVfZx0CCvnqZIWtCVUuUmYu+X2aaN8wlEmTmZRP4YyYDWA3iwz4OuznfppXZK/VwXS7b0b9Wf0MahzNs6z9W53Fq9Glq3hrZtSz+2omlBV0qV2+LF8NNP8PzzztZqAZjxywz2pO7hlWtewTjpnyngpptg40Y4dMjZ8cYYbup0E0uTlpLtcTBEpoxWr/ZN6xy0oCulykkEXnzRrvf98MPOYtKz03kt+jWGtBvi6EJoUa6/3j4uWeIipsP1nM48zZr9a8p0ztIcPQo7d9pb6fmCFnSlVLksXmyn5T//PAQGOouZuW4myaeSmTJ8Spla5wB9+9o7H/30k/OYYe3twPCf9roIcmFN7ueEttCVUtXS//0ftGoFDzzg7HiPeHhr9VtEtI7g2vBry3xef3+7bnpcnPOYkPohhAWHEXfARZALv/xiHy+/3CsvXyot6EqpMtu61d6J6LHHnLfOF+9czNajW/ndoN+VuXWeZ8AAO0www8Vd5yJaRxB/IL5c5y3O+vXQoYP9n4MvaEFXSpXZ22/b+4BOmuQ85q3Vb9GyQUvu7nl3uc8fEQFZWfbiqFMDWg8g6WQSR9OOlvv8Ba1fD336VPjLOqYFXSlVJidO2BUV773XDiN0YtvRbXy34zsej3icQH+HTfoSDBhgH910uwxobYMqupV+9iwkJmpBV0pVQ//4B6SlwZNPOo95f+371PGrw8T+Eyskh/btoXlziHdRm/u1srdNquiCvmmTHfGjBV0pVa2I2EW4+vd3fgEwIzuDT9Z/wuhuo2nRoEWF5GGM7Xb5+WfnMY2DGtOlWRd+PugiyIF16+xj374V+rKuaEFXSrkWF2f7rZ0uwAUwd+tcjp07xqP9XAQ50KOHXX3R4+JOcz1CerDl6JYKzWPDBnsxtH37Cn1ZV7SgK6Vc++ADuOQSuOceFzE/f0BYcBjXd7i+QnPp3t0uCLZnj4uY5t3ZcXwHmTmZFZZHQoJdBbKcA3fKRQu6UsqV06ftWuS/+pXz4Xk7j+9kadJSJlw+AT9TsWWne3f7uHmz85geIT3I9mSz4/iOCstjy5YLufiKFnSllCuzZ9sRHW66Wz78+UP8jB8P9X2owvPJK6JbXPSgdG9ug7akVEy3y/HjcOSIFnSlVDUzY4btWnC6XkmOJ4dZ62dxc+ebadOoTYXn07QptGjhrqB3a94NoML60fPO7fRm2N6iBV0p5diuXXa97wcecN5X/OPuHzl45qDrJXLd6N7dXUGvH1if9o3bV3hB1xa6UqrayLuP57hxzmP+ufGfNAxsyC2db/FOUthCunmzHU7pOCakO5tTXHS8l2DzZnu/U1+OcAEt6Eoph0TsHYmuvhpCQ53FZGRnMGfLHMZ2H0u9OvW8llu3bpCaavuxHcc068a2o9sQN58Cxdiyxd6lyc/HFVULulLKkQ0bbOG6917nMYt2LCI1I5V7e7kIKoNOnezjzp3OYzo27ci57HMcPnu43OevCiNcQAu6Usqhf/4TAgLgzjtdxGz8JyGXhHBdh+u8lxh2hUOwffxOdWzSEbBDKssjPR327oUuXcr1MhVCC7pSqlQi9obM111n105xIj07nQWJC7ij+x0E+AV4Nb+wMHuR1k0LvUMT+ymw64SLT4Ei7Nplfz6dO5frZSqEFnSlVKm2brXFcswY5zFLk5aSlpXGmG4ugsooKMjeoNpNCz0sOAyDYeeJ8rXQd+TOTdKCrpSqFubPt4+jRrmI2TafBoENGB423Cs5FdSxo7sWet2AurRt1LbcLfTERPuY14/vS1rQlVKlmj/frqzYtq2z4z3iYf62+dzY6UbqBtT1bnK5OnRw10IHe2G0vC30xEQ7ualp03K9TIXQgq6UKlFqqp1MdIuLYeSbjmzi4JmDXh17XlDHjnDwoF2j3akOwR3K3ULfsaNqtM5BC7pSqhQrV9qlaYcNcx4TszcGgGHtXQSVU95Il6Qk5zEdm3bk0JlDnM08W+bzJiZWjf5zcFjQjTE3GmO2GWN2GGOeLuG4AcaYHGOMi4FNSqmqLDraDlccNMhFzN5o2jRsQ1hwmNfyKqijHYVYppEuSSddfArkk54O+/ZVo4JujPEH3gNuAnoA9xhjCi1Bk3vc68D3FZ2kUsp3YmKgXz+oX9/Z8SJC9J5orgq9ClOJi4OXZSx6XkEv61j0vCGL1anLZSCwQ0R2iUgmMBsYXcRxTwJzABeTb5VSVVlGBqxeDVdd5Txmb+pe9p/ez1WhLoIqQLNmdn12V7NFcycXlbUfPW+ES7VpoQNtgH35nifnbjvPGNMGGAtElfRCxpiJxph4Y0x8SkqK21yVUpVs7Vpb1K++2nlM9N5oAK4OdRFUAYxxP9Klab2mNKrbqMwjXfLGoFenFnpR/2cquJrN/wF/FJGckl5IRKaLSISIRISEhDhMUSnlKzH22iZXXukiZm8Mjeo2otelvbyTVAncjkU3xtCxScdytdCrypBFcFbQk4F2+Z63BQ4UOCYCmG2M2Q3cCfzdGDOmIhJUSvlOdLRdydBN+yt6bzRXtrsSfz9/7yVWjA4d7CgXNzeM7tCkQ7la6G67W3636Hd8vfXrMp2vNE4KehzQ2RgTbowJBMYB8/MfICLhIhImImHAl8DjIjKvopNVSlUejwd++sld//mxtGNsTtlc6f3necLDITMTDhRscpYUExzO7pO78YiLT4FciYnuulvOZZ3j7TVvs/7wetfncqLUgi4i2cAT2NErW4B/iUiCMWayMWayV7JSSvnc5s1w4oS7gh67LxbApwUdYPduFzFNwsnMyeTQmUOuzlWWIYt5wyPzLsZWNEdLoInIQmBhgW1FXgAVkfHlT0sp5Wt5/eduL4gG+gcysM1A7yRViryCnpTk/IMoPNgGJZ1IonXD1o7PVZZVFncct1dROzX1zlVUnSmqlCpSdDS0anWhSDoRszeGiNYRBAUEeS+xEuTdAs7NbNHwJrkF3eXkorIsyqUFXSnlEzExtpXrdG7QuaxzxB+I56p2vuluAbuMbuvW7gp63mzWpBPuCnpZhizuPL6TxnUb07Sed4bFaEFXShWyd6/9ctPdsmb/GrI8WVzdvnLHnxcUHu6uoAcFBNGqQasytdCbNXM3ZDHxeCKdm3X22gxaLehKqULy+s/dXBDNW5BrSLshXsjIubAwdwUdbLeL24K+fbv7IYvbj22nc1PvTSvVgq6UKiQmBho2hN69ncdE742m16W9vNad4FR4OCQnQ1aWi5jgcNddLm5XWUzPTmdv6l4t6EqpyhUdDUOGgL/DuUE5nhxi98X6tP88T3i4HUO/d6/zmLDgMPad2kdWjrNPgbQ0+6HhpqDvOrELQejcTAu6UqqSnDgBmza5627ZeGQjpzNP+2z8eX5lGoseHI5HPCSfSnZ0fN7yAl26OD9H4jE7LKZLMxdBLmlBV0pd5Kef7KOr8ed7chfk8vEFUbh4LLrjGJdDF8uyymLicRukXS5KqUoTEwN16sBAF3ODYvbF0K5RO0Ibh3ovMYfatrVdRa4Ker7JRU5s324fXRX0Y4k0q9eMJvWaOA9ySQu6Uuoi0dEQEQH16jk7Pu+GFlWhdQ727kqhoe4KervG7fA3/q5a6C1a2AvHTuUNWfQmLehKqfPOnYO4OHf950knkzh45mCVuCCax+3QxQC/ANo1bueqoLsdsph4PNGr/eegBV0plU98vB3uV5bx51Xhgmget5OLwN3QxcREdxdE07LSSD6V7NX+c9CCrpTKJ9pe23R1Q4voPdEEBwXT89Ke3kmqDMLD4fBhO7zQcUyws8lFp0/DoUNlW5RLC7pSqtJER0OPHnZKu+OY3Bta+JmqU07KuozuoTOHOJd1rsTjyjTCJXfIovahK6UqRVaWHeEydKjzmIOnD7Lt2DaGtncRVAnKUtDzFunak7qnxOOq6pBF0IKulMq1di2cOQPXXus85sfdPwJwXfh13kmqjMo0Ft3h0MWtW+0KlG5WWdx6dCutGrSiYV0Xw2LKQAu6UgqApUvt4/DhLmKSlhIcFEzfln29kVKZtWxpl9L1xuSihAR779JLLnH+2gkpCZVyjUELulIKgGXL4LLL3N0QetnuZQxrP8wnN4QuiTH2ZhduCnrLBi2p61+31BZ6QgL0dFGbPeJhc8pmeoZoQVdKVYL0dDvl/5prnMfsObmHnSd2ck2Yi6BK5Hboop/xIyw4rMQWemamnSXqpqDvObmHtKw0LehKqcqxdKmdVHTDDc5jvt3+LQA3dHIRVInKNBa9lHXRt2+H7Gx3BX3TkU0A2uWilKocX38NDRrAdS6ubX697Wu6NutKt+bdvJdYOYSHw8mT9stxTCmTixIS7KObgp6QYoN6hPRwHlRGWtCVquU8Hpg/H266CerWdRZzMv0ky3YvY0y3MV7NrTzKuozuifQTpKanFrk/IQH8/KCbi8+whJQE2jRsQ3BQsPOgMtKCrlQtt3q1nfk4erTzmAXbF5DtyWZ0VxdBlaw8y+juPrm7yP0JCdCxox1B41TCkcoZ4QJa0JWq9WbMsCsr3nKLi5h1MwhtHMqgtoO8l1g5laWg500uKq4fPT4eLr/c+eulZ6ez8chGLm/pIqgctKArVYudPAmffQb33QfBwc5itqRsYWnSUib3n1ylpvsX1KSJXd62oiYXHTlib2s3YIDz11t/aD3ZnmwGtHYRVA5V97ehlPK6mTPt6Jbf/MZ5zLT4adTxq8OEfhO8lldFMMb9SJem9ZrSMLBhkS30uDj76ObGH3EHbNDANi6CykELulK11Jkz8Prrdu2Wvn2dxexL3cf0tdO597J7ubT+pV7NryKEh8OuXc6PN8YQ3iScXScKB8XF2Qui/fo5f724A3G0qN+Cto3aOg8qBy3oStVSTz9tL4a+/rqz40WExxY8hp/x4+XhL3s3uQrSubMt6Dk5LmKadj6/3G1+cXHQvbsd3ulU3P44BrQZgDHGeVA5OCroxpgbjTHbjDE7jDFPF7F/tDFmgzFmnTEm3hhTdVa6V0oVEhUF770HTz0FgweXfryI8MySZ1iQuIDXr3+d9sHtvZ5jRejSBTIybN+345hmXdh5YidZOVnnt4nYgu6m//xUxim2Ht1aaf3n4KCgG2P8gfeAm4AewD3GmIIj5JcAfUSkL/Aw8GEF56mUqgAi8PLL8Nhjdtz5X/9aekxWThaPzH+E1396nYn9JvLEwCe8n2gF6drVPubd1NlRTLOuZHuyLxq6uHkzpKS4u/HHij0rEIQr27kIKicnLfSBwA4R2SUimcBs4KLBpyJyRkQk92l9QFBKVSk5OTBxIkRGwvjxdnZonTolx6RlpTF69mhmrJvBC0NfIGpUVKV1H1SEvNvEuSnoeff93HZs2/ltixfbx5Ejnb/O4p2LqRdQr1JvzeekoLcB9uV7npy77SLGmLHGmK3AAmwrvRBjzMTcLpn4lJSUsuSrlCoDjwceeQQ+/BCef96OPS+tmKdnpzNm9hi+3/k97496nynXTKlWxRygRQto1Ai2bSv92Dxdm9tm/fZjFz4Fvv/ezg4NDXX+Ot/v/J7hYcOpG+Bw+m0FcFLQi/oNFmqBi8hcEekGjAFeKeqFRGS6iESISESImzU6lVLlMmWKHaIYGQmvvGKH9JVm0reT+GHXD3x020dM7D/R2yl6hTG2le6mhd60XlOa1Wt2vqCnp8Py5e4WLtt9cjfbj23nho6Vu3CZk4KeDLTL97wtcKC4g0VkBdDRGNO8nLkppSpAdLQt4vffDy++6Czmsw2f8cn6T3hx6IuM7zveq/l5m9uCDrbbJa/LZdkyW9RHjHAevzBxIQAjOroIqgBOCnoc0NkYE26MCQTGAfPzH2CM6WRy/y9mjOkHBALHKjpZpZQ7mZm2qyU83I5qcdIyP37uOE8uepIh7YbwwrAXvJ+kl3Xtake5nCv53s8XxzTver6F/umndtbp9dc7j/90w6f0urQX3Zt3d5lt+ZRa0EUkG3gC+B7YAvxLRBKMMZONMZNzD7sD2GSMWYcdEfOrfBdJlVI+EhVlW6dvvWWnwTsxZfkUUjNSiboligC/AO8mWAm6dLGje3YUHlpefEzTLhw4fYB9h08zdy7cc4/zlSi3Ht3KquRVjO8zvtKvOTj6bYnIQmBhgW1R+b5/HXA4PUEpVRmOH7d95tdfDzff7Cxm+7HtvBf3HhMun8BlLS7zan6VJf9Il8scvqW8kS5Rs06Qnt6Q8eOdn2/mupn4G3/u632fu0QrgM4UVbXWpk125bz27eHzz53FLN+9nC7vdKHbu91YsmuJdxMsp1dfhdRUmDrVWVcLwB9++ANBAUG8ck2R4xqqpbyC7nqki8ePj/8eTN++EBHhLO5UxineX/s+t3W9jZYNWrrOtby0oKtaKT0dbr8dDhyApk3taoPffVdyzJGzRxj7xVhyJAePeLj181vZcHhD5STsUmIivPsuTJjgvFW6LGkZX2/7mmevepYWDVp4N8FK1KABtG7t7sJoxyYdIeFuDu5pxHPPOf9AfG/Ne5xMP8lzVz9XtmTLSQu6qpVmzrRF79NP7c2Re/SASZPsglXFeSP2DU5lnOLbe74l+qFoGtZtyKPfPEqOx8VCIS6kptq1VtxcjTqadpSjaUf5wx9sn++UKc7icjw5/Pfi/ya0cShPDX6qTPlWZV27wtatzo+v61+POj9F0qhtMrff7izmbOZZpq6ayk2dbqJ/6/5lS7Scqv8VD6XKYNo0u2reiBG29TV9up3WHRkJb7xR+PjMnExm/DKDMd3G0D3EjlyYOnIqv577a6Lio/jNQBfrz2Jnab7xhl3atUUL+4HSowdkZcGWLfZGCnkX8Xr2hDffFJJDZjAtfhpHzh6hdcPW9AzpSZdmXUjLSmPjkY2sPbiWval7IfFGmLeIx59OpmVLZ6v8vb/2fdYdWsfnd3xOvTr1XL2X6qBXLzuZyuOxKyaWZt48yDrUlUsf/AN+fg7WRwCi4qM4mnaUF4b6bmSQ8dVglIiICImPj/fJuVXttm2bnfX3zjvwRL5lSSZOtP/o168vfBPg73Z8x02zbuPJoHiObOxNcDA89JDw3LYRrD24lm1PbCtyOdkzmWeYvnY6K5NX0qZhGyZHTObf07rx4ou21Th4MBw+bPvzk5NtTGio7bPt39/eSWjaNCEx0cBVf6bfr+fQq0VPkk8ls/HwRlLS7Izrzk07E9E6gl5NBvLm/Q+SmnUMz+TL+Ptt/8vkiMmF8srv0JlDdHu3GxGtI/jh/h+q3WxQJz76yA7f3L7drsBYEhH7s9995CipE9pw9oVUggJKvufcuaxzhL8VTq9Le/GfB/5TgZkXZoxZKyJF9+qLiE+++vfvL0r5wl/+IgIi+/ZdvD0lRaRJE5Hhw0U8nov33TvjD+LXZq2ASPv2Ig0b2td46rnD4v9ygDw076FC59lwaIN0eKuDEIl0eruTBL0aJP6/HiUgcv/9IpmZFx9/5kzhbSIib8VECf2jBEQeesgjWVl2u8fjkdMZpyU7Jzv3ucgDD4gYIzL/u9My6p+jhEgkclmkeAq+oVxZOVkyfOZwCXo1SLYd3ebkx1ctxcXZ39e//136sd99Z4+dPGWNEInE748vNWZa3DQhElmWtKz8yZYCiJdi6qoWdFXr3HSTSI8eRe+LirL/Kt5888K2uDiRgOCDElDvrHz5pS2cp0+L3HuvPXbwuKVCJPLV5q/OxyzcvlAa/bmRtHqjlSzfvVxERLYnH5G6TY4IIZvknZ+mO8p11/FdUv+1+nL9rBHywgseAZGbb7bnz8/jEXnlFZtPZKTdlpmdKePnjRcikUe+fkQysy/+tMjKyZJHvn5EiERmrZvlKJ/qKi1NxM9P5PnnSz92xAiRVq1ENu7fLkQiH/38UYnH53hypPPbnWXA9AHFfnBWJC3oSuXKyREJDhZ59NGi93s8ImPH2lbuf/+3yLPPigQGeoTGu+W3H39Y6LUmTbL/itr/+jUJejVIIpdFym8W/EaIRPpM6yN7T+49f/z48SL+/h65cspT4v+yvyxKXFRyrp4cGT5zuDT8U0PZc3KPiNgPHD8/kfBwkc8/Fzl2TGTLFpFf/9rmce+9Nq8L78cjzy15TohE+kb1lQXbF0hqeqqsPbBWRn46UohEnlvyXNl+mNVM9+4it95a8jHr19uf45//LJKdky2XvHaJ/Hbhb0uMmbdlnhCJzN44uwKzLZ4WdKVyJSTYv/qPPy7+mLQ02yVie1NFrhh5QPhD0/Mt7fyysmyL39/fIxF/fFaIRPxf9pdJ30yStMy088d9+619rWeeETmdcVr6RvWVhn9qKOsPrS82j3dXvytEIh+s/eCi7StWiHTrdiE/EKlTR+Slly4u5vl9tfkraf1mayGS81/1X6svUXFRJf24apRx40RCQ0s+ZtIkkXr1RI4ft88HfTBIhn08rMSYkZ+OlHZT20lWTlbFJFoKLehK5frgA/tXv81Bd/HRo/brmf88IwFTAuRs5tkij0tNFend2/arL115VE6eO3nR/mPHRFq3FunZUyQ93W7bl7pP2rzZRtq82Ub2pe4r9Jo7ju2Q+q/Vlxs+vaHI/8ZnZoosXy7yt7+JTJ8ukpxc+vtJy0yTRYmL5C/Rf5FZ62bJsbRjpQfVIHnXTo4eLXr/mTP2d/jggxe2TfpmkjT+c2PJ8RT9SZl0IklMpJHIZZEVn3AxtKArleuhh0SaNSt80bMkw2cOlwHTB5R4zL59Im3a2K/duy9sz84WufFG24KOi7s4Zt3BddLwTw2l97Tecjzt+PntZzPPSp9pfST4L8EXddmo8lm+3Fa8efOK3v/xx3Z/dPSFbTN/mSlEUuz/pF5c+qKYSHO+S6wylFTQdWKRqlViY2HIEOcz/7Jyslizfw1D2g0p8bi2bWHhQjh9GgYNsne4OX7cTlb67js7RLLg9PE+Lfvw5d1fsiVlC4M+HETc/jgOnD7AXf++iw2HN/D5HZ/TrnG7ok+oXBs40E62WrGi6P0ffmiHkua/zdywsGGAvZ1cQTmeHGasm8ENnW4gtLGLO194kRZ0VWscPWrHoA8puTZfZMPhDaRlpXFF2ytKPbZ3b1i50q5qeMMN0KyZHf/83HN2jHtRRnYcyZIHlpCakcrADwfSZmobvt/xPVGjorix043OE1WlCgqy4/6XLy+8b8sWO2P4kUcu/rAPCw4jtHEoy/cUDlq8czHJp5J55PJHvJi1OzpTVNUaq1bZRzcFPXZfrI0ppYWep0cP2LAB5syB/fvtSof9S5kFfnX7q9n6m618uflLUjNSubXLredvg6Yq1tCh8NprcOqUvTVdnvfft7fku//+ImLaD2XxzsWIyEWTrqLWRhFySQi3dr21EjJ3Rgu6qjVWroSAAOcr5wHEJsfStlFbV10f9erBr3/tLrcm9ZrwaP9H3QUp14YNs3dvio6GW26x29LSYNYsuOMOuwxDoZj2w/jHhn+w5egWeoT0AGBv6l6+3f4tf7zyjwT6B1biOyiZdrmoWiM21i6Xe8klLmL2xTpunauq78orbZfYV19d2DZ7Npw8CY8/XnRM3n1Bv9pyIWj62umICJP6T/Jitu5pQVe1QlYWrFnjrrtl/6n97E3dy5C2WtBriqAgGDsWvvzSdrtkZ8Nf/2qvf1x1VdEx7Rq34+rQq/lk/SfkeHI4mX6Sv8f9ndu63kb74PaV+wZKoV0uqlbYsMH+19pNQV+ZvBJw3n+uqocnn4RPPrE3AGnUyF4onzu35JFPTw58kru/vJvpa6cTfyCeE+kneGnYS5WXtENa0FWtEGuvbbq+IFovoB59W/b1Sk7KNyIiYPx4+Nvf7PNx42D06JJj7uhxB8PDhvP4Qtsv88xVz3B5q8u9m2gZaEFXtUJsrB0r3tbZ8uA2Zl8sEa0jqONfx3uJKZ+YPh2uuMK2ysePL31egp/xY/64+Xz0y0e0atCKu3veXSl5uqUFXdV4Inbs8bBhzmNOZ5xm7cG1/H7I772XmPKZOnWKnxtQnIZ1G1b5uznpRVFV7Z09C3v2FL9/2zY4eBCuvfbCtpPpJzlw+kCxMTF7Y8j2ZHNt+LXFHqNUVaMFXVVrmzfbO9CEhcHDD9tbjBW0dKl9zCvoP+7+kdD/DaXN1DZMWV70TTeXJi0l0D9QL4iqakULuqq2ROxaKVlZ8OCD8PHH9k73BS1dam/r1qEDpGen8/DXD9OiQQtGdx3NSz++xDfbvikcs3spV7S9gkvquBi0rpSPaUFX1daqVRATAy+/bIv5jTfCCy/AkSMXjvF4YNkyuO46e+FrzuY5JJ1M4u0b3+Zfd/2LXpf24nff/Y6M7IzzMcfPHeeXg79wXfh1PnhXSpWdFnRVbc2caWd93n+/LdZTp9r+9MjIC8csX25XPbzBTvZj1vpZhAWHcUOnGwj0D2TqyKkknUzinTXvnI+Zt3UegujiWKra0YKuqiURWLAAbr7ZTuUG6N4dJk+2Cy0lJNhtM2dCgwZw661wNvMsP+7+kbt63IWfsX/6IzqO4ObON/PKildIOZtiY9bNpFPTTkS0drHoi1JVgBZ0VS1t335hNcP8IiPt7L8JE2D1avjsM3joIduSj94bTZYni+s7XBz0xog3OJt5lscWPMb8bfOJ3hvN4xGPX7SynlLVgaOCboy50RizzRizwxjzdBH77zPGbMj9ijXG9Kn4VJW6YMkS+3hdgW7u5s3hgw9sMR882D5/7rncmF1LCPQP5KrQixft6B7Snb9c/xfmbJnD6Nmj6RHSg8cGPFYJ70KpilXqxCJjjD/wHjACSAbijDHzRWRzvsOSgGEicsIYcxMwHRjkjYSVAlvQQ0OhY8fC++68E3780d6Z5r77LiyJuiRpCUPaDSly5Mr/DPkfOjftzOaUzUzoN4GggCDvvgGlvMDJTNGBwA4R2QVgjJkNjAbOF3QRic13/CrAxQRrpdzxeGzBHj26+Cnbw4ZdPDP0WNoxfjn0C69c80qxrzu622hGdytlUQ+lqjAnXS5tgH35nifnbivOBGBRUTuMMRONMfHGmPiUlBTnWSqVT2KiHblS3HKnRVmzfw1Aoe4WpWoSJwW9qDaQFHmgMddgC/ofi9ovItNFJEJEIkJCQpxnqVQ+cXH2ccAAFzEH4jAY+rcq5X5wSlVjTrpckoH8999qCxRaBMMY0xv4ELhJRI5VTHpKFRYXZ0etdO/uIuZAHN2ad6Nh3YbeS0wpH3PSQo8DOhtjwo0xgcA4YH7+A4wxocBXwP0isr3i01Tqgrg46NfP3h/UCREhbn8cA9q4aNIrVQ2VWtBFJBt4Avge2AL8S0QSjDGTjTGTcw97EWgG/N0Ys84YE++1jFWtlpUFv/wCAwc6j0k+lczhs4cZ0FoLuqrZHLVxRGQhsLDAtqh83z8CPFKxqSlV2KZNkJ7uvv8c0IKuajydKaqqlfjc//tFuJiVH38gngC/APq01PluqmbTgq6qlfh4CA4uekJRsTEH4rns0st0spCq8bSgq2olPt62zp0usyIixB+I14W2VK2gBV1VG+npsHGju+6WXSd2cSL9hBZ0VStoQVfVxsaNdpSLmwui8Qdsp7teEFW1gRZ0VW2U9YJoXf+69Ly0p3eSUqoK0YKuqo24OAgJgXbtSj82T/zBePq07EOgf6D3ElOqitCCrqoNtxdEPeJh7YG1RLTS/nNVO2hBV9VCWpq9rZyb7pbtx7ZzOvO0XhBVtYYWdFUtrF1r10F3U9BXJ68G0IKuag0t6KpaWL7cdrW4WQN9+Z7lNAlqohdEVa2hBV1VCz/+CL17Q9OmzmOW71nOsLBh+Bn9M1e1g/6lqyovMxNiY2H4cOcx+1L3sevELoa3dxGkVDWnBV1VeXFxcO7cxfcILc3yPcsBGBbmIkipak4Luqryliyxj0OHuohJWkKToCb0btHbO0kpVQVpQVdV3pdfwpVXQrNmzo7Pysni661fc0uXW7T/XNUq+teuqrStW+0aLnff7TxmSdISTqSf4O4eLoKUqgG0oKsq7d//tsMV77jDecy/Ev5Fo7qNGNlxpPcSU6oK0oKuqqycHPjkEzv2vE0bZzGp6anM2TKHMd3GUDegrncTVKqK0YKuqqwvvoAdO+Cpp5zHvLvmXU5lnOKpQS6ClKohtKCrKsnjgddeg169YMwYZzGnM04zddVURnUZxeWtLvdqfkpVRQG+TkCponz1FWzeDJ9/Dn4Omx3T4qdx/NxxXhj6gneTU6qK0ha6qnI8HnjlFejaFe66y1lMWlYab658k5EdRzKwzUDvJqhUFaUtdFXlfPMNbNgAs2aBv7+zmOlrp3Pk7BFtnataTVvoqkoRgVdfhQ4d4N57ncWkZ6fz15/+yvCw4VwV6mI5RqVqGG2hqypl9Wp7Z6Jp0yDA4V/nV1u+4uCZg3w8+mPvJqdUFactdFWlTJ8O9evDffe5iFk7nQ5NOjCi4wjvJaZUNaAFXVUZqakwe7btamnY0FnM9mPbWb5nOY9c/oiu26JqPUf/AowxNxpjthljdhhjni5ifzdjzEpjTIYx5n8qPk1VG8ybZ5fJnTDBecxnGz7Dz/gxvu94b6WlVLVRai+lMcYfeA8YASQDccaY+SKyOd9hx4HfAmO8kaSqHb75Blq3hoEuRh1+m/gtV7S9glYNW3kvMaWqCSct9IHADhHZJSKZwGxgdP4DROSIiMQBWV7IUdUCmZnw/fcwapRdjMuJ/af28/PBnxnVZZR3k1OqmnBS0NsA+/I9T87d5poxZqIxJt4YE5+SklKWl1A11PLlcOYM3Hqr85gFiQsAuLWLiyClajAnBb2o9pKU5WQiMl1EIkQkIiQkpCwvoWqoRYsgKAiuvdZ5zMLEhYQFh9EjpIf3ElOqGnFS0JOBdvmetwUOeCcdVVvFxMDgwXDJJc6OFxFi9sZwTdg1GKd9NErVcE4KehzQ2RgTbowJBMYB872blqpNzp2DX36BK65wHpN4PJFj545xRVsXQUrVcKWOchGRbGPME8D3gD8wQ0QSjDGTc/dHGWNaAvFAI8BjjHkK6CEip7yXuqop4uMhOxuGDHEes3LfSgCGtHMRpFQN52hytYgsBBYW2BaV7/tD2K4YpVyLjbWPgwe7iNkXS+O6jeke0t07SSlVDenUOuVzsbHQpQs0b+4iJjmWwW0H6+xQpfLRfw3Kp0RsQXfT3ZKankrCkQTtblGqAC3oyqd27oSjR90V9NX7VyOIFnSlCtCCrnwqr//cTUGP3ReLn/HTOxMpVYAWdOVTsbHQuDF0d3Ftc2XySnpd2otGdRt5LzGlqiEt6MqnYmPt6BanN4LO8eSwKnkVQ9pqd4tSBWlBVz5z6hRs2uSuu2VzymZOZZzS/nOliqAFXfnM6tV2lIubGaKx+2yn+xXtdIaoUgVpQVc+Extrl8odNMh5zMrklYRcEkLHJh29l5hS1ZQWdOUzsbFw2WXQyMW1zdh9sQxpN0QX5FKqCFrQlU94PLBqlbvulpSzKSQeT9QFuZQqhhZ05RObN9uLom4uiK5KXgXoglxKFUcLuvKJvAlFbi+IBvgFENE6wjtJKVXNaUFXPhEdDS1aQKdOLmL2RhPROoJ6dep5LzGlqjEt6MonVqyAoUOd3xD6XNY51uxfw9DQod5NTKlqTAu6qnR79sDevbagO7V6/2qyPFkMba8FXaniaEFXlW7FCvvopqCv2LMCg+HK0Cu9k5RSNYAWdFXpVqyA4GDo1ctFzJ4V9GnZh+CgYG+lpVS1pwVdVSoRWLwYhg1zviDX2cyzxOyNYXj74V7NTanqTgu6qlQJCbb/fNQo5zFLkpaQkZPBqC4ugpSqhbSgq0r17bf28eabnccs2L6AhoENubr91d5JSqkaQgu6qlQLFkC/ftC6tbPjRYRvE79lZMeRBPoHejc5pao5Leiq0hw4YGeIuuluWb1/NQdOH9DuFqUc0IKuKs3HH9tFuR54wHnMB2s/oH6d+tzR/Q7vJaZUDaEFXVUKjwc+/BCuvRY6OlzK/FTGKWYnzOaeXvfQsG5D7yaoVA2gBV1VioULYfduePRR5zGz1s0iLSuNR/u7CFKqFtOCrrwuJwdeeAHCw+H2253FnM44zZ9i/sRVoVcxoPUA7yaoVA0R4OsEVM33xhuwbh188QUEOhyo8vsffs/hM4eZ+6u5encipRxy1EI3xtxojNlmjNlhjHm6iP3GGPN27v4Nxph+FZ+qqo4++QSefRbuust+lcYjHl5b8Rrvr32f3w/5PYPbDvZ+kkrVEKW20I0x/sB7wAggGYgzxswXkc35DrsJ6Jz7NQiYlvuoahkRSEmBuDiIirITiYYNsyNcimtoe8TDoTOHiNkbw1ur3yJ2Xyz39LqHP133p8pNXqlqzkmXy0Bgh4jsAjDGzAZGA/kL+mjgExERYJUxJtgY00pEDlZ0wq99HM+UZ5tc2CBFHWUu2i4UqCTFxVx0zIXnUuD5ha3Fx+Q9L3wqc3EChV63iKpX4BgpFFOE0l63qNcolG9puRZ+XcmqC1n17Z6gVC65+X/ZeFUU7d/LtvuL+ImczTxLRk4GAC0btOTj0R/zYJ8HtatFKZecFPQ2wL58z5Mp3Pou6pg2wEUF3RgzEZgIEBoa6jZXAEKa1OXSsCMXbzSFSnah+mWMXLzDSHGHXjjESIGNBcpdEfWm0DYnueW9bm7whbKa78DcXAyFdxXO1R5QaFuR5714o425+LympDzyPTGAn38ODVscp0m7Q7TutYOAwBzgzoKZXfQ8KCCI8CbhXHbpZQxpNwR/P3+UUu45KehFNZMKV4/Sj0FEpgPTASIiIopsJ5dm4pjLmDimLJFKKVWzObkomgy0y/e8LXCgDMcopZTyIicFPQ7obIwJN8YEAuOA+QWOmQ88kDvaZTCQ6o3+c6WUUsUrtctFRLKNMU8A3wP+wAwRSTDGTM7dHwUsBG4GdgBpwEPeS1kppVRRHE0sEpGF2KKdf1tUvu8F+E3FpqaUUsoNnfqvlFI1hBZ0pZSqIbSgK6VUDaEFXSmlaghjr2f64MTGpAB7Kvm0zYGjlXzOqqS2v3/Qn4G+/+r//tuLSEhRO3xW0H3BGBMvIhG+zsNXavv7B/0Z6Puv2e9fu1yUUqqG0IKulFI1RG0r6NN9nYCP1fb3D/oz0Pdfg9WqPnSllKrJalsLXSmlaiwt6EopVUPUioJujPmbMWZr7g2s5xpjgnO3hxljzhlj1uV+RZXyUtVSce8/d98zuTf33maMucGHaXqNMeYuY0yCMcZjjInIt71W/P6h+J9B7r4a/zeQnzEm0hizP9/v/WZf51RRakVBB34AeolIb2A78Ey+fTtFpG/u12TfpOd1Rb5/Y0wP7Pr2PYEbgb/n3hS8ptkE3A6sKGJfbfj9QzE/g1r0N1DQ/+b7vS8s/fDqoVYUdBFZLCLZuU9XYe+oVGuU8P5HA7NFJENEkrDr2Q/0RY7eJCJbRGSbr/PwpRJ+BrXib6C2qBUFvYCHgUX5nocbY34xxiw3xlztq6QqUf73X9zNvWuT2vb7L6i2/g08kdsFOcMY08TXyVQURze4qA6MMf8BWhax6zkR+Tr3mOeAbOCz3H0HgVAROWaM6Q/MM8b0FJFTlZJ0BSrj+3d0c+/qwMn7L0KN+f1DmX8GNeZvIL+SfhbANOAV7Pt8BXgT29Cp9mpMQReR60vab4x5EBgFXJd7hyVEJAPIyP1+rTFmJ9AFiPdyuhWuLO+fGnRz79LefzExNeb3D2X7GVCD/gbyc/qzMMZ8AHzr5XQqTa3ocjHG3Aj8EbhNRNLybQ/JuwBkjOkAdAZ2+SZL7ynu/WNv7j3OGFPXGBOOff9rfJGjL9SW338pat3fgDGmVb6nY7EXjGuEGtNCL8W7QF3gB2MMwKrcEQ1DgSnGmGwgB5gsIsd9l6bXFPn+c2/2/S9gM7Yr5jcikuPDPL3CGDMWeAcIARYYY9aJyA3Unt9/sT+D2vI3UMBfjTF9sV0uu4FJPs2mAunUf6WUqiFqRZeLUkrVBlrQlVKqhtCCrpRSNYQWdKWUqiG0oCulVA2hBV0ppWoILehKKVVD/H8kFm+DK0QXwgAAAABJRU5ErkJggg==\n",
      "text/plain": [
       "<Figure size 432x288 with 1 Axes>"
      ]
     },
     "metadata": {
      "needs_background": "light"
     },
     "output_type": "display_data"
    }
   ],
   "source": [
    "plt.plot(pred_xdos, shift_target[-1], c= 'g')\n",
    "plt.plot(pred_xdos, original_target[-1], c= 'b')"
   ]
  },
  {
   "cell_type": "code",
   "execution_count": 392,
   "id": "5c06be01",
   "metadata": {
    "ExecuteTime": {
     "end_time": "2023-04-19T09:24:08.692992Z",
     "start_time": "2023-04-19T09:24:08.686172Z"
    }
   },
   "outputs": [
    {
     "name": "stdout",
     "output_type": "stream",
     "text": [
      "torch.Size([604])\n"
     ]
    }
   ],
   "source": [
    "\n",
    "emin = -24.553719539983\n",
    "max_efermi = -4.3758\n",
    "search_xdos = torch.arange(emin-4.5, torch.max(efermi) + 5.5, 0.05)\n",
    "print (search_xdos.shape)"
   ]
  },
  {
   "cell_type": "code",
   "execution_count": 486,
   "id": "d25ad11a",
   "metadata": {
    "ExecuteTime": {
     "end_time": "2023-04-19T09:39:25.426134Z",
     "start_time": "2023-04-19T09:39:25.418919Z"
    }
   },
   "outputs": [
    {
     "name": "stdout",
     "output_type": "stream",
     "text": [
      "torch.Size([474])\n"
     ]
    }
   ],
   "source": [
    "#Prediction will be done from lowest lbound to highest rbound\n",
    "emin = -24.553719539983\n",
    "max_efermi = -4.3758\n",
    "pred_xdos = torch.arange(emin-1.5, torch.max(efermi) + 2, 0.05)\n",
    "print (pred_xdos.shape)"
   ]
  },
  {
   "cell_type": "code",
   "execution_count": 571,
   "id": "9c283f20",
   "metadata": {
    "ExecuteTime": {
     "end_time": "2023-04-19T10:02:02.337550Z",
     "start_time": "2023-04-19T10:02:02.216556Z"
    }
   },
   "outputs": [
    {
     "data": {
      "text/plain": [
       "[<matplotlib.lines.Line2D at 0x7fe1284d3700>]"
      ]
     },
     "execution_count": 571,
     "metadata": {},
     "output_type": "execute_result"
    },
    {
     "data": {
      "image/png": "iVBORw0KGgoAAAANSUhEUgAAAXQAAAD4CAYAAAD8Zh1EAAAAOXRFWHRTb2Z0d2FyZQBNYXRwbG90bGliIHZlcnNpb24zLjUuMSwgaHR0cHM6Ly9tYXRwbG90bGliLm9yZy/YYfK9AAAACXBIWXMAAAsTAAALEwEAmpwYAAA4jElEQVR4nO3dd3hc1bXw4d9SL1axim0V25Lce0E2xvRu00wPHZIQQm5Ihwu5N73zJaRCcAiQQC6hQzDEQOiYYuMuF7nIsmSrWL13afb3xxkZWR5Jo9GZIzRa7/PomdGZPbP2dlna2mcXMcaglFJq5Asa7goopZSyhyZ0pZQKEJrQlVIqQGhCV0qpAKEJXSmlAkTIcAVOSkoyGRkZwxVeKaVGpM2bN1caY5I9vTZsCT0jI4NNmzYNV3illBqRRKSwr9d0yEUppQKEJnSllAoQmtCVUipAaEJXSqkAoQldKaUChFcJXURWiMheEckTkXv6KHOGiGwTkV0i8p691VRKKTWQAactikgw8ABwLlAEbBSRNcaY3T3KxAN/BlYYYw6JyDg/1VcppVQfvJmHvhTIM8bkA4jIU8AqYHePMtcBLxhjDgEYY8rtrqhSStmuYh/seRmikmD+1RAaOdw1GhJvEnoacLjH90XAib3KTAdCReRdIAb4gzHm8d4fJCK3AbcBTJo0yZf6KqXU0HW2w9s/gY/+9Om1jQ/DzS9DZPywVWuovBlDFw/Xep+KEQKcAFwInA98X0SmH/cmYx4yxmQbY7KTkz2uXFVKKf86sgP+ttJK5id8Hu7cD9c8CRV74JkbweUa7hr6zJuEXgRM7PF9OlDiocxrxpgmY0wl8D6wwJ4qKqWUDeqK4MWvwOpToSoPrvo7XPx7GDMOZl4AF/wGDr4Pm/823DX1mTcJfSMwTUQyRSQMuAZY06vMS8CpIhIiIlFYQzK59lZVKTWSHaho5IUtRc4HbqmFN34If1wMO5+H5V+Db2yDOZcdW27xTZB5ulW2bhjqaYMBx9CNMZ0icgfwOhAMPGqM2SUit7tfX22MyRWR14AcwAU8bIzZ6c+KK6VGho4uF39+5wB/ens/MREhrJybQmRYsDPB974Ka74OTRWw4Bo4838hfqLnsiJw8R/gweXWe2543ro2gshwHRKdnZ1tdLdFpQJbQ2sHtz2+mY/zq7h0YSrfu2g2SWPC/R/YGHjn5/D+r2H8PFh1P6Qu9O69Gx6CV++Ci/8IJ9zs12r6QkQ2G2OyPb02bNvnKqUCW3uni1sf28Smwhruu2oBV5yQ7lzw939tfS26AS78HYSEef/eJbdC7hpYexeMGQ8zVvivnjbThK6U8osfv7yLDQer+cM1C1m1MM25wHv+bfXOF1wLl9w/+GGToCC4+nF4/BJ48nOQsgAi4qCtETpbIeMUOOVbEJvqn/oPge7lopSy3bt7y3liwyFuOy3L2WTeVGmNf0+Yb42H+zoGHpUAX3gdzvkRRI615q1HJUJsGmx+DP58EuR/9nY40R66UspW7Z0ufrhmF1PHjeHb5x63HMW/3voJtNZaC4RChjhWHxZt9cRP+dax1yvz4Okb4J9Xw+eegGnnDC2OjbSHrpSy1T/WF1JY1cz3LpxFRKhDs1kAynNh6z+sMfDxs/0XJ2kq3PJvSJoOT10Lu3vP4h4+mtCVUrZp6+xi9XsHWD4lkTNmOLxH37rfQkgknH63/2NFJ8LNa6zx9Wdvhk/+as2s6e3QenjyOnj8Ush92e/V0oSulLLNS1tLqGho4ytnTHE2cO1ha9HQCbdY499OiBwLN70EU8+FtXfCC1+yFjEBdHXAWz+1thgo2QI1BdYwzUtftcbj/UTH0JVStnC5DA+ty2d2SiynTE1yNvj6B63HZV9xNm5YNFz7JKy7D979Jex/A7JOh5KtUHsIFt4AK38FIRHw7q9g3W+gKh8+9w+Itv/PSHvoSilbvL2nnLzyRr58ehbi5ArLlhrY/HeYd2Xfq0D9KSgYTv9vuO09mHo2lG6HuElw3bNw6QMQHgPBoXD29+GKR6we+zs/90tVtIeulLLFQ+/nkxYfyQXzUpwNvOlR6Giy9mgZTinz4cpH+y8z70pInAqJ/hmS0h66UmrINhdW80lBNV84JZPQYAfTSkcLrF8NU86CCfOcizsUqQutXrsfaEJXSg3ZH9/KIzE6jGuXOjzksfkxaCqH0+5yNu5nlCZ0pdSQfJRXyXv7Krj11CyiwhwcxW2psW5GTj4FJi93Lu5nmCZ0pZTP6ls7uPuFHDISo7hleYZzgY2BV++G5ipY8Qvn4n7G6U1RpdSgtHe6WJ9fxb6yBp7eeJgjda08cesy/+9xbgyUboOSbdb0wL3/hjO+ay3uUYAmdKXUILy7t5zvPLOdqiZrcUxmUjSP3LyEpZl+XsxTe9hamFO6zfo+PA7O/uHx+6yMcprQlVJeOVjZxFef2MLEhCh+fdV8FqTHkxAd5v85553t8MxNUJ0PF/0OppwNcROtbW7VMTShK6W88j8v7CAkOIhHb1lCanykc4E3PGgtxrn6cZi9yrm4I5D+iFPKQV0uw4d5lby8vYTKxjZng5ftgpxnrF0JB2nLoRo+zq/ia2dNdTaZd7TCxw9A1pmazL2gPXSlHFJa18Lt/7eF7YdrARgTHsJPVs3h8sV+Ppqtsx1eu9taUdltyZdgxS+tJeleeHhdPnGRoVy7dJKfKtmHHc9CYxlc/pCzcUcoTehKOaC2uZ1rH1pPZWM79121gCnjxvCLtbl8+5ntiMBli/yU1I2BNXdAztNw0h2w8HrY8rg1jNFWD5f9ZcBTfepaOnhzdznXL5tEdLjDKSPnaUicBpmnOxt3hNIhF6UccOezOZTUtvLYF5ZwxQnpLJwYz+NfWMpJWYnc/fwO9h5p8E/gTY9aSfGs78H5P7cOflj5Kzjze9b1T/464Ee8vusI7V0uZ4+SA6gvgYIPrP1PnNzsawTThK6Un72xu4w3c8u46/wZnDD50+l9EaHB/Om6RcSEh/DNp7fR1tllb+DGCnjrx1bv9tQ7j33ttDutfbzf+D5U7Ov3Y17JKWVSQhQL0uPsrd9Adr8EGJh7pbNxRzBN6Er5UUt7Fz9as4vp48dwy8kZx72eNCace6+YT25pPX94c7+9wd/8IbQ3wwW/Ob6HKwKr7ofQKHjxNujq9PgRze2drD9QxXmzxzu7JS7AvtchaYZ15JvyilcJXURWiMheEckTkXs8vH6GiNSJyDb31w/sr6pSI8+D7+ZRXNvCT1bN7XMXwnNmj+eqE9JZ/d6BozdMh+zQetj2BCy/A5L7OKg5ZgJc9FvrMIYPf++xyMcHqmjvcjl/nFx7ExR+CNPOdTbuCDdgQheRYOABYCUwG7hWRDydwLrOGLPQ/fUTm+up1IhTUNnE6vfyuXRhKsuyEvst+/2LZzM+NoLvPLud1o4hDr10dcK/74TY9IF3IZxzmfX17q/gyM7jXn53bwVRYcEsyRw7tDoN1sF10NUOU89xNu4I500PfSmQZ4zJN8a0A08BOiFUqX4YY/jRy7sIDwnify6YNWD52IhQ7r1iPnnljfz2jf7HtAe06REo22FtWhUWPXD5C+6DyHj41+3HnXf54YFKlmUlEh7i531aejv4nnVsm+6iOCjeJPQ04HCP74vc13o7SUS2i8irIjLH0weJyG0isklENlVUVPhQXaVGhtd3lfHu3gq+de50xsVGePWe06Ync92Jk/jrunw+zKv0LXBDGbz9M2t5/KxLvHtPdCJc9Hs4sgPe/unRy1WNbeRXNLEkw6FDl3s69DGkZUNIuPOxRzBvErqnOyGm1/dbgMnGmAXAn4B/efogY8xDxphsY0x2cnLyoCqq1EjR3N7JT1/ZzcwJMdx00uRBvfd7F84iKymabz69zbeVpG/8ADpb4YJfD26q36yL4ITPw0d/hLw3AdhUWAPAkgyHh1vaGqE0ByYtczZuAPAmoRcBPY8hSQdKehYwxtQbYxrdz9cCoSLi8LHfSn02PPDOpzdCQwZ5HFtUWAj3X7eYupYO7n4uZ3CBCz6EnKdg+dd9O7NyxS8heRa8eDs0VbG5sIaw4CDmpjk8XbF4M5guTeg+8OZf20ZgmohkikgYcA2wpmcBEZkg7jlNIrLU/blVdldWqc+6/IpGHno/n8sXp/m8peyslFi+c+503tpTzsaCau/e1NUBa++0diE89Ts+xSU0Eq54GJoqYf0DbCyoZn56HBGhDo+fH1oPCKQvcTZuABgwoRtjOoE7gNeBXOAZY8wuEbldRG53F7sS2Cki24E/AtcYY3oPyygV8H788m4iQoL57sqBb4T256aTMkgaE8af3s7z7g0bH4Hy3bDiVxAW5XvgCXNh9irMhr9QWFxC9nCNn4+fY92oVYPi1e+Dxpi1xpjpxpgpxpifu6+tNsasdj+/3xgzxxizwBizzBjzkT8rrdRn0Qf7rbM1v372NJJjhnYzLzIsmJtOyuD9fRUU1TT3X7i1Dt6711oROvPCIcUF4ORvIO2NnM/HZE92ePzc1QVFm2Diic7GDRC6UlQpG7hchl++mkv62EhuWj64G6F9uWyRNZnstZ1H+i/4we+hpRrO+6k9e56kLqI2KoMLgjYwf6LD4+fV+dDeAGmLnY0bIDShK2WD13cdYVdJPXeeN8O2OdsTE6LISo7mowP93I5qqoT1D8K8q+07W1OE7RFLWBK8j3GRDi/3L91uPU6Y72zcAKEJXSkbPLQun8mJUVy8INXWzz0pK5EN+VV0dLk8F9j4CHS2WJtt2eidthlE0A5FG2393AEd2QFBoZA809m4AUITulJDtLmwmq2HavniKZkEB9nbo10+JYmm9i52FNcd/2JHK2z8K0w7H5Jn2BazrbOLl2oycBEEB9+37XO9ciQHxs2EkDBn4wYITehKDdHD6w4SFxnKlSfYf0jFsixrlsnGgx6mL+54BpoqrA24bLS/rJEaVxT18bOg0MH5DcZYPfQJNg0djUKa0JUagsrGNt7YXcbnlkwkKsz+03wSx4STEhdBbmn98S9uedxaCJRxqq0xuw/bCEpdCGU7rUTrhOYq6wfUeI87hygvaEJXagj+tbWYTpfhKj/0zrvNSoklt7TXiUYVe63x7UXX236az4GKRkKDhehJC6ClBhpKbf38PlW6NyXra7tfNSBN6Er5yBjDc5uLWDAxnmnjY/wWZ+aEGA5UNB57otG2J0CCYf7nbI93oKKRyYnRBKfMsy542FbXL7oTepImdF9pQlfKRzuL69lzpMGvvXOweuidLkNeeaN1oasTtj8F08+HMfYfPJFX3siU5OhPhz7KHEroFfsgJNLax135RBO6Uj56bvNhwkKCbJ+q2NusFKv3f3TY5cDb0FgGC6+3PVZHl4vCqmamJI+BiDiIm+RcQq/cZx03F6RpyVf6J6eUDzq7XLycU8p5s8cTFxnq11gZidGEBAkHKtw99JynITIBpp1ne6xD1c10uoyV0MGaQlg5xAM3vFW5T4dbhkgTulI++OhAFdVN7X7vnQOEBAcxMSGKwqom69Dnva/C7Ev8Mlf7gHtYZ+o4d0JPyIKqfP/PdOlogdpD1qHQymea0JXywb9zShkTHsLp0505qCUjMYqDlc2Q9wZ0NMGcy/0S50BFEwBZye6j6xKmWPEay/0S76iqA4CBpGn+jRPgNKErNUjtnS5e23WEc2ePd2yv8MmJ0RRWNWF2vgDRyTD5ZL/EyStvZHxsODER7mGkhCzrsfqAX+IdVbnXetQhlyHRhK7UIH2YV0ldSwcXzU9xLGZmUjS0N8G+12H2Kgi2fxETWFMWs5LGfHohsTuh5/sl3lGV+wHx7aQldZQmdKUG6ZWcUmIiQjhlmnOnLE5OjOKsoK1IZwvMucxvcQ5XN5OR1OOAjLhJEBTiHhLxo5oCiE21Tk1SPtOErtQgdHa5eDO3jHNnj7dtm1xvZCZFc37wRlrCE2HSSX6J0dTWSVVTO+ljeyT04BCIn+z/HnpNoRVHDYkmdKUGYevhWupaOjhn1nhH46bFhHB6UA55ccshyD8/SA67T0aalNDrCLuxGVYP2p9qCqw4akg0oSs1CG/llhMSJI4OtwCElGwkVprZFLbUbzEOV7cA1sEax4ifCHVFfotLZ5u1X8xY7aEPlSZ0pQbhnT3lLM1MIDbCv4uJjrPvNToI4d0O/+1EeLja6qFPHNtrHDsuHZorrTnw/lB7GDA65GIDTehKeamoppm9ZQ2cNdP+/VMGtO8/5EctIL/Bf0fCHa5pJiosmIToXguW4iZZj/XF/glcW2A9ag99yDShK+WldfsrAThjhsMJva4IKvdSlHwqpbWtdLn8s2rzcHULE8dGIb23441zb5ZVe8gvcakptB61hz5kmtCV8tInB6tJjgm3diJ0kvvUoJa05XS6DBUNbX4Jc7i6+fjxc/g0oftrHL2mAILDIMa5ef2BShO6Ul4wxrAhv4qlmQnH92D9rfBDCI8jOn0+AMW1LbaHMMZwuKaZiQke5oHHpoIE+S+h1xZC/CTdZdEGXv0JisgKEdkrInkick8/5ZaISJeIXGlfFZUafkU1LZTUtXJiZoLzwQs+hEnLSE2wVnD6I6FXN7XT3N7FxLEeeujBoVbvue6w7XEBnYNuowETuogEAw8AK4HZwLUiMruPcvcCr9tdSaWG2wb3Ic1LnU7ojeVQtR8mLyc1PgKAEj8k9MM1fUxZ7Bbnx6mLtYV6Q9Qm3vTQlwJ5xph8Y0w78BSwykO5rwHPA37elk0p531ysIr4qFCmj/PfUXMeucfPmXwyMRGhxEaEUFzjh4TePWXR05ALWOPo/rgp2lpnnVuqPXRbeJPQ04Cev2sVua8dJSJpwGXA6v4+SERuE5FNIrKpoqJisHVVathsLKghe3ICQUEOj58f+tg6li11IQBpY6P80kM/dHQOeh899PiJUF8Cri7Pr/uqe4aLrhK1hTcJ3dO/4N7zpn4P3G2M6fdv2xjzkDEm2xiTnZzszD7SSg1VXUsHByubWDQp3vngJVutZB5sLWRKi4/wyxh6UU0zidFhRIf3sYtjXDq4Oqyj7+xU253QtYduB28SehEwscf36UBJrzLZwFMiUgBcCfxZRC61o4JKDbddxXUAzE2LczZwVyeU5kDKwqOXUuMj/TTk0kJ6X+PnYI2hg3tVp410DrqtvEnoG4FpIpIpImHANcCangWMMZnGmAxjTAbwHPBfxph/2V1ZpYbDDndCn+d0Qq/cB50tkLro6KXU+Ega2jppaO2wNdThmubjl/z31D0Xvd7mG6O1hRAeC5Fj7f3cUWrAhG6M6QTuwJq9kgs8Y4zZJSK3i8jt/q6gUsMtp7iO9LGRxy+J97eSrdZjr4QOUFrXaluYLpehpLal7xku0GNxkc3L/2sPWb1zp+f2Byivjj0xxqwF1va65vEGqDHmlqFXS6nPjp3Fdc73zgFKt0HYGEicevRSapw1dbG4toXp4+2ZcVNW30pHlyG9vx56RByExdg/dbGm8NNj7tSQ6dIspfpR19xBYVUz89KHIaGXbIWUBcesoEzp7qHX2tdDL+qeg97XDJducWn2btBljNVD1xuittGErlQ/usfP56fFOxu4qxOO7DhmuAVgfEw4QWLv4qLuOej99tDBGnaxc7VocxV0NFnL/pUtNKEr1Y8dR2e4xDobuGIPdLYeM8MFICQ4iPGxEZTU2ZfQu3voaQMl9Ng0e8fQa3WGi900oSvVjx3FtUxKiCI+avhviHZLjY+0dcjlcE0z42PDBz4jNW6iddBFh00/TI5OWdQeul00oSvVj5yiuuEbPw+P9XjDMCXO7h5687EHQ/clzr1AvL73MhQfdW8loAndNprQlepDTVM7RTUtzB+uGS69boh2S4uPpLSuFZdNB11YB1sMMNwC9u+LXltozT+PcHg4K4BpQleqD8O2oKirA47sPLp/S28pcRG0d7qoamofcqjOLhdH6lu966HHunvotiX0Q9o7t5kmdKX6kFNUC8AcpxN62S7oavM4fg49pi7aMOxSWmcdadfnLos9dSd0u6Yu6j7ottOErlQfcorqyEqKJi4y1NnAR2+ILvb4cpo7oZfYcGP0cE33lEUveuihERCdbE8P3RhrCqT20G2lCV2pPuQU1TF/WG6IbrHGlvvYUjYlzr6DLoqqvVxU1C02zZ6E3lhmTcvUbXNtpQldKQ/K61s5Ut/KvPR454MXb7WGW/rY3yQhOozwkCBbhlyKapoJEkhxn4Y0oLh0e4ZcdIaLX2hCV8qD7UXWDdEFTvfQ25uhfHefwy0AIkJqfKRNQy4tpMRFEhrsZSqIS7d66GaIM2x021y/0ISulAc5RbUEBwlzUh1O6Ed2gOmCtL4TOtg3F72opnngFaI9xaZBe6N1dNxQHF0lOrH/cmpQNKEr5cH2ojqmjRtDZNgAqyftVrLFeuynhw72rRYtrGpmUn/b5vZ2dF/0IQ671ByE6HEQFj20z1HH0ISuVC8ul2H74VoWDMf4edEmiEmB2JR+i6XGRVDW0EpHl8vnUI1tnZQ3tJGZNIikatfioqoDx2wLrOyhCV2pXvaWNVDX0sHSzARnAxsDhR/C5OUDFk2Nj8QYay9zXxVUNgGQNSwJPQ8SpwztM9RxNKEr1cuG/CoATsxyOKFX50NDKUw+ecCiKTbMRT/oTuiZyYNI6GPGQ1DI0BJ6ax00VWgP3Q80oSvVy4aD1aTFR3q32MZOhR9ajxmnDFg0zT3NcChTFw9WNiECGYmDSOhBwRCTOrQx9KoD1qMmdNtpQleqh84uF+vzq5zvnQPkv2etxEyaPmDRlDh7euipcZFEhA7yxm/cEPdF707oSdN8/wzlkSZ0pXrYXFhDTXMHZ88c72zgznbY/wZMO9+rA5Ojw0OIjQgZ0mrR/MomsgYz3NItNm1oJxdV5YEE6SpRP9CErlQP/9ldRlhwEKfPSHY2cOEH0FYHMy/0+i2p8ZE+D7m4XIb9ZQ1MSR4z+DfHpVt7ort8nGFTvttK5iHhvr1f9UkTulJuXS7DazuPcPLURMaEhzgbfPdLEBoFU870+i2p8ZEU+zjkcqi6meb2LmalxAz+zXHp4OqApnKfYlO2E8bP9e29ql+a0JVyeyu3jOLaFq44Id3ZwM3VkPMMzLkMQr1ftZkaH+FzDz23tB6AWSk+HC5xdOqiD+PobY1QfRAmzBv8e9WANKErBRhjeHjdQdLiI1kxZ4KzwTf/DTqaYdlXBvW2lLhIaps7aG7vHHTI3CMNBAlMH+9DD/3ovug+TF0szwWM9tD9xKuELiIrRGSviOSJyD0eXl8lIjkisk1ENonIwPOulPoMeWFLMZ8UVPPl07MI8XajKjvUFMD791k3QwfZa02N795Gd/DDLrml9WQljxn8DBcY2uKish3W4wRN6P4w4L9cEQkGHgBWArOBa0Vkdq9ibwELjDELgS8AD9tcT6X8ZuuhGn64ZhfZk8dy/YkO7v7XXA1P32jN+LjwvkG/PTXO95OLdhXX+TbcAtZe7aFRvg25lG6HiDiI0025/MGbrshSIM8Yk2+MaQeeAlb1LGCMaTTm6H6a0YA9p9cq5WdbD9Vw0yOfkDgmjD9dt4jgoIGnDNqiuRoeXwUVe+Cqv/u062Dq0dWig0voRTXNlNS1kj157KBjAta0Sl+nLhZ+DBNP9Gpqpho8bxJ6GtDzb67Ife0YInKZiOwB/o3VSz+OiNzmHpLZVFFR4Ut9lbJNXnkjNz/6CWOjw3jyS8uOLtbxu45W+OfnrGR+zT9h2jk+fcz42AhEGPRMl08OVgMMba+a7n3RB6OxAir3erVXjfKNNwnd04/S43rgxpgXjTEzgUuBn3r6IGPMQ8aYbGNMdnKyw/N8leqhpb2LLz2+ibCQIJ649cSjvV1HvHoXFH0Cl/8Vpp3r88eEhQSRGhfJoaqmQb3vk4PVxEaEMMOXG6LdEjKtLXAH49DH1qMXe9Uo33iT0IuAnr8PpgMlfRU2xrwPTBGRpCHWTSm/+d2b+zhY2cQfr13ExMHsBz5U+e/Clsfh5G/CnEuH/HEZSVEUVDV7Xd4Yw8f5VSzJSCBoKMNLCVnQUmMNHXmrYB2ERELKQt/jqn55k9A3AtNEJFNEwoBrgDU9C4jIVBFrUExEFgNhQJXdlVXKDoeqmnnkg4Ncs2Qiy6c42O9wueC178LYTDjjuMliPpmcGE3BIHroe440UFjVzFmzxg0tcEKW9VjtZS/d5YLcV2DKWRASNrTYqk8DJnRjTCdwB/A6kAs8Y4zZJSK3i8jt7mJXADtFZBvWjJjP9bhJqtRnyv3v7CckSPj2uQNvgmWr3DXWsvezvjeoBUT9yUyMpra5g9rmdq/Kr91RSpDA+UOda5/g3su8Ot+78kUboaHElt9KVN+8Wt9sjFkLrO11bXWP5/cC99pbNTVS7C6pp7KxjVOnJSFOzl5oLIdD663l8uHejQcfqmrm+S3F3LhsMuNivTzp3g4uF7x3r7WT4pzLbPvYyYnWcFFhVTPxUf33fI0xvJJTyomZiSSNGeI+KmMzAPE+oe98HoLDYPr5Q4ur+uXwhhUq0Lyzt5xbH9tEl8tw7dJJ/PJyh5Z0N1bA6lOh8Qgkz4Iv/gciBp5X/cA7eQQHCV85w+HTcva8bPXOL3/Y2lPcJhnu04YKqppYMDG+37Lr9ldysLKJr51lwz7koRHW1EVvEnpbA2x/EmZdYs1BV36jS/+Vz4wx/OyV3UxOjOLapZN48pNDvLfPoemoH/wWmivh7B9YU+He+cWAbymobOL5LUVct3QS4x3tnXfBu7+CxGkw93JbP3pSQhQiUFA58I3Rv39UQNKYcC6c3/95pV5LzILqAwOX2/4UtNUPemsDNXjaQ1c+21xYw4GKJn5z1QIuWZDKh3mV/HJtLqdMTbJtgY4xhpdzSnlvbwWxkSHMmhBLemwwJ2x+gt1jTuOeTUv4n+gVnLrxYYJOvO3Tm3Ue/P7NfYQEC/91ppe985KtsPkxwFhDJeNmWTM7ijbB4Q2AQPbnYcF1ENRP32jn81bv/MpHbe2dA0SEBpMSG0HhADdGD1Y28faecr5x9jTCQ2yqQ0IW5L7cfxmXCzb8BdJOgPRse+KqPmlCVz7r3jt8xdwJhIUEcdf5M/jak1tZs72YyxYdu2NhRUMbT288RGuHi8sXp5HlxT7cxhh+sTaXv647SNKYMJrbu2hu7+KkoF08GVbHP7qySZkYwS+KLuPFrrcof/Z/yfjyk8d+SGc75DxFdcEOqnISueXUSxkX40XvfN/r8PQNEBxu7dvdXPnpayERkLrYOhvzpa/CgXfg0gc9z97o6oB3fg7j58Fs+8bOe/JmpstjHxUQGixcv2ySfYETsqC5ClpqITLec5kDb0PVfmuoSfmdJnTls/f2VrAkc+zRvcMvnJfC6vcO8Ns39nHBvJSjPcFdJXXc/OhGqpraCBLh0Q8P8rvPLRxwpsUrOaX8dd1Bbj5pMj+8eA4AB6uaiHz3XUxuKPfd/XUkPIbGtsW8/cBbXFDyNK/85z9cdN551ge01sGT10HhB8QQwj/COml11YH5Rf9Lz+tL4NnPw7jZcOOLEJUADWVWYgqPheSZVvI2xhr6eesn0NUGV/4dgnv9l1p3n7UB13XP9t+LH4KMpGhe33Wkz9dbO7p4fnMRF85L8e6Hmbd6znRJW+y5zKZHIXoczF7l+XVlKx1DVz5paO1gX3kDJ2YmHr0WFCTcs3Imh6tb+PVrewH4+EAV1/xlPaHBwmvfOI0P7z6L6eNj+No/t7KxoO9FKU1tnfxibS5zUmP5wcVzCAoSgoKEKcljSG3YiaQuQtwzW8aEh3Del35JU3AsmR/cyTMf50F9Kfz9Qszh9byU+QNmtz5KfuZ1RGz8M7z/6/4b98YPwNVp7bES5V4eHzPeOrw5Zf6nPXEROPU7cP4vraGHF79s9ci77X8T3vt/MO9qmH7eoP+MvZWVFE11Uzs1TZ6nLr6ZW0ZDWydXZdu8IVb3Ic+V+z2/3lwN+/8D86/WuecO0R668smuknqMgXlpx85aOHVaMjcum8zDHxxkb1kD6/OryEiM5rEvLD26vP7vn1/CZX/+iK/83xbWfuMUj73GB97Jo7SulT9d22vDLFeXtWPfouuPKR8WkwBXrmbOM9fS9eqV1L1ZTxTNPDDup/w+dzI3nTSZzIsfgJeMNQSSstBzki34EHY8C6fdZS1v98ZJ/2X10N/8kXVe5gk3W73WDX+B8XPgggF+gAzRTPepQ7ml9SyfevxCqX9tLWZCbATLshKPe21IEqdaUxHLdgCfO/71XS9YJxstuMbeuKpP2kNXPtlZXAfA3LTjp6F976JZ3LI8g8PVzVyyII3nvrL8mL1S4qPCWH3DCTS2dfD1J7fS5Tp2DVpBZRMPrzvIZYvSyM7otYFUVR50NHlcPh42+wI6L7qflGght3MCq5q/z8OlU7jr/Bn8+JI5SFAQXPQ7azz7xduO31yqqxNe/W+ITYdTvj24P5BTvgVXPQZNFfDKt+Cj+61hhpte6nt82SYzJ1jTNXe7TyHqqbqpnXf3VrBqYar9O0kGh1jDT0d2en495xlr2EoPs3CM9tCVT3YU1zEhNoLkmOMXqISHBPOjS+YAc/p8/4wJMfzs0nnc+ex2fv/mPr5z3gzAuhH6/Zd2EhosfHflzOPfWLLNekxd6PFzQ7JvJDn7RmI6unigrpWUuIhjD3EIjYSrH4O/nA7P3gK3rP10OOCTv1jnXV71dwjzYX+XOZdac61rDlpDNZE+bk87SMkx4SSNCSe3tOG4117JKaHTZbh00XEbpNpjwjxrWKW36nxrJtA5P9atch2kPXTlkx3FdR5754Nx5QnpXJ2dzv3v5PHsJmuH5kc+OMi6/ZXcs3Km55WcpdusDZ6SZvT72RGhwWQmRXs+kSdxCqz6k7Ucfc0d1rh36XZ488cwfSXMvtT3RgUFWZ/vUDLvNisl5ug5oT29uLWYmRNifD/MYiDj51q/lTSUHXs951lAYN5V/omrPNIeuhq0xrZODlY2sWrB0Ht9P1k1l9K6Vu56LoeH11nj7ufOHs8Ny/o4Oahkm3V8We/ZJIM15zJr+Obtn1k9ycZyiEqES/40InuUs1Ni+duHBbR3uggLsfppByub2Hqo1vNvOnbpPkruyA7rxjFYs39ynoLMUyHOT78ZKI+0h64GbVdxnXVDNH3ovb6I0GAevjmbb587neSYcL5x9jTuv26R5z1hXC44kmPf9qun3WWNe3ev4Pzif2DMyNynf+HEeNq7XOwsqTt67V9bixGBSxam+i9wykLrCL2iTz69VrzZGnKZ7+FGqfIr7aGrQdvRzw1RX4SHBPP1s6cNXLAqD9ob+xw/98mcSwNiB8Dum8efHKxm8aSxuFyGF7cWs3xKon9PYoqItYZdCj/69Nr2J63FV7Mu8V9c5ZH20NWg7XTfELV1kYo3SrdZj6mLnI07AiTHhDNzQgzv7CkHYF1eJYeqm7na7rnnnmSdYe162Vrn3ojraes+hBebpSl7aUJXg2bHDVGflGzz6oboaHXe7PFsLKimtK6Fx90bca2ca9NGXP2ZeZE13zz3ZWsjrvYGWPol/8dVx9GErgalsa2T/Mqm4xYUOaJkqz03RAPUVdkTERGuf3gDb+0p58Zlk4/eIPWriUth3BxrYdXbP4P0JdZmXMpxmtDVoNh5Q3RQ7L4hGoAmJkTx7XOnk1/RRPbksXz59L53nrSVCFx4H3S0QHAoXPyHETlTKBBoV0cNit03RL1Wtd/+G6IB6KtnTuWmkyYzJjzE2dOjJp8Ed+6HoBDdt2UYaUJXg7K5sIb0sZHO3xA9vMF6TF/qbNwRKCYidHgC+7K6VtlKh1zUcX6xNpeZ33+Ve1/bc8x1YwybCms4YbKfVkHuWQu/mgR/vwhae616PLzBWn2ZaMPxaUoFKE3o6hifHKzmoffziYkI5cF3D/DB/k8PdiiqaaGioY1sfyT09iZY8zUICoWCD6wDlXs6/AlMPNFve4orFQj0f4c6xhMbComPCuXNb5/OxIRIfvbv3bjcuyFuLqwBYLE/Enruy9apQFc/BotusLae7T6AuKkKKvdZsymUUn3ShK6Oau908ebuMlbMmUBcZCh3njeDPUcaeHWndRrO23vKSYgOO7pdq612r7FOkZ+0HM76nnX25vv3Wa/lvWE9Zp5uf1ylAogmdHXUtsO1NLV3cebMcQBcND+VKcnR/PGt/dQ1d/D2nnLOmTXO/n21uzqhYB1MO9caUomZACd83lpCXp1vHTgRk2qd46mU6pNXCV1EVojIXhHJE5F7PLx+vYjkuL8+EpEF9ldV+duG/CpE4MRMa1+Q4CDh2+fOYG9ZA+f87j0a2zq5cVmG/YHLdkBbPWSc+um1k78BoVHwyPmQ9yZkf0HHz5UawID/Q0QkGHgAWAnMBq4Vkdm9ih0ETjfGzAd+Cjxkd0WV/+0sqSMzMZr4qE/nEV8wbwJfPCWThtYOvn7WVOal+2H+efehFT1XF8amwGWroasdMk+zjnlTSvXLm3noS4E8Y0w+gIg8BawCdncXMMb02GqN9UC6nZVUzsgtbThuSb+I8P2LZvP9i3r/DLdR2U4Ii4H4Xnugz7rI+lJKecWb32HTgMM9vi9yX+vLF4FXPb0gIreJyCYR2VRRUeF9LZXfNbR2cKi6mVnuA4cddWSndZiyDqkoNSTe/A/ydAfMeLiGiJyJldDv9vS6MeYhY0y2MSY7OXlkHiQQqPYcsc6jnJ06DHu0lO20zqZUSg2JN0MuRUDPTZXTgZLehURkPvAwsNIYU2VP9ZRTus+j9NvZk32pLbD2aJmgJ8MrNVTe9NA3AtNEJFNEwoBrgDU9C4jIJOAF4EZjzD77q6n8bXdJPWOjQpng6WBmfzqy03rUHrpSQzZgD90Y0ykidwCvA8HAo8aYXSJyu/v11cAPgETgz+4d3jqNMdn+q7ayW25pPbNSYp3doQ+sw4UlCMb58aarUqOEV7stGmPWAmt7XVvd4/mtwK32Vk05pbPLxZ4jDdywbPLAhe1WttPacCvUj+deKjVK6LQCRUFVE22dLmY7PX4OVg9dh1uUsoUmdMWukmG6IdpSA3WHrVPjlVJDpgldkVvaQGiwMHXcGGcDl+2yHrWHrpQtNKErdpfWM3VcjDMHCvd0ZIf1qAldKVtoQlfuGS7DtEI0KgnGjHc+tlIBSBP6KFfR0EZFQ9sw3RDNsRYU6QnxStlCE/oot7O4DoC5aX7YRbE/nW1QngspC52Nq1QA04Q+ynUn9DlO7+FSvhtcHZC60Nm4SgUwTeij3I7iOjKToomJCHU2cPce6Cl6FopSdtGEPsrtKql3frgFoHQ7RMTB2EznYysVoDShj2LlDa0U17YwL20YbogWb7Z653pDVCnbaEIfxTbkVwNwYmais4Fbaqw56JNPcTauUgFOE/oo9nF+FWPCQ5y/IVr4EWAgQxO6UnbShD6Krc+vYmlmAiHBDv8zKPgAQiIgXXdYVspOmtBHqcPVzeRXNLF8isPDLcZA3pswaRmEhDsbW6kApwl9lFqz3TpF8Pw5E5wNfGQHVO6DWZc4G1epUUAT+ij18vYSFk+KZ2JClLOBdz4HQSEw+1Jn4yo1CmhCH4W2Ha5lz5EGVi1MczZwZxtsfwqmnAXRDg/1KDUKaEIfhf76fj4xESFccUK6s4F3PAuNZbDsK87GVWqU0IQ+yhyububVnaVcf+JkxoR7daSsPYyBj+63TifKOtO5uEqNIprQR5m/fVhAcJBwy/IMZwMfeBsqcuGkO3R1qFJ+ogl9FGnt6OK5zYdZMTeFCXERzgbf9Kh1mMXcK5yNq9Qoogl9FPl3Tin1rZ1ct3SSs4HrS2Hvq7DoeggJcza2UqOIJvRR5KXtJUxOjGJZVoKzgXf/C0wXLLrJ2bhKjTJeJXQRWSEie0UkT0Tu8fD6TBH5WETaRORO+6uphqqxrZP1B6o4d9Z4xOkx7L2vQtIMSJrqbFylRpkBE7qIBAMPACuB2cC1IjK7V7Fq4OvAb2yvobLFB/sraO9ycc5shw9kbq2Dwg9hxkpn4yo1CnnTQ18K5Blj8o0x7cBTwKqeBYwx5caYjUCHH+qobPDOngpiI0LInjzW2cD574KrE6avcDauUqOQNwk9DTjc4/si97VBE5HbRGSTiGyqqKjw5SOUjzYWVLM0M9H5nRULP4aQSN1ZUSkHePO/29OAq/ElmDHmIWNMtjEmOzk52ZePUD6obGwjv7KJJRkO984BDn1sJfNgh88sVWoU8iahFwETe3yfDpT4pzrKHzYV1ACQneHw7Ja2BjiSA5NOcjauUqOUNwl9IzBNRDJFJAy4Bljj32opO20qqCYsJIi5Tp8dWrQJjAsmnehsXKVGqQE38zDGdIrIHcDrQDDwqDFml4jc7n59tYhMADYBsYBLRL4JzDbG1Puv6spbOcV1zE2NJTwk2NnAJVutxzQdP1fKCV7tzmSMWQus7XVtdY/nR7CGYtRnjMtl2F1Sz+WLHd4qF6B0O4zNgMh452MrNQrpStEAV1jdTGNbp/MHQYOV0CfMdz6uUqOUJvQAt7O4DoA5qXHOBm6phZqDkLLA2bhKjWKa0APczpI6QoOF6eNjnA18ZIf1mLLQ2bhKjWKa0APcruJ6ZkyIISzE4b/q0u3WY4oOuSjlFE3oAcwYw66SOuY6PdwC1vzzmFQYM8752EqNUprQA1hJXSs1zR3MSRuGhF66XcfPlXKYJvQA1n1DdK7TM1zam6BynyZ0pRymCT2A7SquIzhImJXicEIv22WtENWErpSjNKEHsJziOqYmjyEidJhWiGpCV8pRmtADlDGGnKI65qcPw/h58RYYMx5iU52PrdQopgk9QBXVtFDd1M78ifHOBy/ZAqmLwemj7pQa5TShB6icIuuG6AKne+it9VC5H9IWOxtXKaUJPVDlFNUSFhzEzAkO3xAt3QYYq4eulHKUJvQAtb2ollkpw7BCtHiL9Zi6yNm4SilN6IHI5TLsLK5nfnq888FLtkD8ZIhOdD62UqOcJvQAtL+8kca2TudnuBhjnVKk4+dKDQtN6AHo4wOVACzLcriXXJ0P9cWQcYqzcZVSgCb0gPThgSomJkQyMSHK2cAH37MeM093Nq5SCtCEHnA6u1ysz6/i5ClJzgfPf8/aYTFxqvOxlVKa0APNlkO1NLR2cvJUhxN6ZzvkvwtZZ+iCIqWGiSb0ALNmezERoUGcNdPhfcgPvAWttTDnUmfjKqWO0oQeQDq6XKzdcYSzZ40nOjzE2eA7noPIsZB1prNxlVJHaUIPIC9vL6G6qZ3LF6U5G7iuGHLXwNwrICTM2dhKqaM0oQeIji4Xf3hrP7NTYjlzhsPDLet+Y81BP/kbzsZVSh3Dq4QuIitEZK+I5InIPR5eFxH5o/v1HBHRlSUOMsbw01d2U1jVzJ3nTycoyMGbkntfhU2PQvbnIX6Sc3GVUscZcKBVRIKBB4BzgSJgo4isMcbs7lFsJTDN/XUi8KD7UflRR5eLvUcaePC9A/w7p5RbT8nkrJnj/R/YGKgrgm3/hPd/bR1kce5P/B9XKdUvb+6cLQXyjDH5ACLyFLAK6JnQVwGPG2MMsF5E4kUkxRhTaneFc959nrj3f+j+zngsIxgPLx1ftnc/VtxljIdrfX3f18f39b7+P9uLD+75WQYSgR9guDc2hOi9IbC3+2293+eh3seV8VDOU5mOZusLYNbFcPEfITTSY+2VUs7xJqGnAYd7fF/E8b1vT2XSgGMSuojcBtwGMGmSb7+eh0XHURWVddx10zsdepwL7eHaceX6eF+Pyz1jSY9r0ust5uhTcZc5PoI5Jn4fQyXiOV5YcBCxkaGkxEUQ7vGYOT/9mYSEQ0IWZJ4GyTM811kp5ThvErqnLNC72+ZNGYwxDwEPAWRnZ/fR1e3fzCXnwJJzfHmrUkoFNG9uihYBE3t8nw6U+FBGKaWUH3mT0DcC00QkU0TCgGuANb3KrAFucs92WQbU+WP8XCmlVN8GHHIxxnSKyB3A60Aw8KgxZpeI3O5+fTWwFrgAyAOagc/7r8pKKaU88Wp9uDFmLVbS7nltdY/nBviqvVVTSik1GLpSVCmlAoQmdKWUChCa0JVSKkBoQldKqQAhxuPybwcCi1QAhT6+PQmotLE6wylQ2hIo7YDAaUugtAMCpy12tGOyMSbZ0wvDltCHQkQ2GWOyh7sedgiUtgRKOyBw2hIo7YDAaYu/26FDLkopFSA0oSulVIAYqQn9oeGugI0CpS2B0g4InLYESjsgcNri13aMyDF0pZRSxxupPXSllFK9aEJXSqkAMeIS+kAHVn+WiMijIlIuIjt7XEsQkTdEZL/7cWyP177rbtdeETl/eGrtmYhMFJF3RCRXRHaJyDfc10dUe0QkQkQ+EZHt7nb82H19RLWjm4gEi8hWEXnF/f1IbUeBiOwQkW0issl9bcS1xX385nMissf9f+UkR9thjBkxX1jb9x4AsoAwYDswe7jr1U99TwMWAzt7XPt/wD3u5/cA97qfz3a3JxzIdLczeLjb0KPeKcBi9/MYYJ+7ziOqPVina41xPw8FNgDLRlo7erTn28A/gVdG+L+vAiCp17UR1xbgMeBW9/MwIN7Jdoy0HvrRA6uNMe1A94HVn0nGmPeB6l6XV2H9peN+vLTH9aeMMW3GmINYe8svdaKe3jDGlBpjtrifNwC5WOfGjqj2GEuj+9tQ95dhhLUDQETSgQuBh3tcHnHt6MeIaouIxGJ14h4BMMa0G2NqcbAdIy2h93UY9Ugy3rhPc3I/jnNfHzFtE5EMYBFW73bEtcc9TLENKAfeMMaMyHYAvwf+G3D1uDYS2wHWD9X/iMhm92HyMPLakgVUAH9zD4M9LCLRONiOkZbQvTqMeoQaEW0TkTHA88A3jTH1/RX1cO0z0R5jTJcxZiHW2bdLRWRuP8U/k+0QkYuAcmPMZm/f4uHasLejh5ONMYuBlcBXReS0fsp+VtsSgjXE+qAxZhHQhDXE0hfb2zHSEnogHEZdJiIpAO7Hcvf1z3zbRCQUK5k/YYx5wX15xLbH/evwu8AKRl47TgYuEZECrKHHs0Tk/xh57QDAGFPifiwHXsQaehhpbSkCity/8QE8h5XgHWvHSEvo3hxY/Vm3BrjZ/fxm4KUe168RkXARyQSmAZ8MQ/08EhHBGhvMNcb8tsdLI6o9IpIsIvHu55HAOcAeRlg7jDHfNcakG2MysP4fvG2MuYER1g4AEYkWkZju58B5wE5GWFuMMUeAwyIyw33pbGA3TrZjuO8K+3AX+QKsGRYHgP8d7voMUNcngVKgA+un8ReBROAtYL/7MaFH+f91t2svsHK469+rLadg/TqYA2xzf10w0toDzAe2utuxE/iB+/qIakevNp3Bp7NcRlw7sMaet7u/dnX/vx6hbVkIbHL/+/oXMNbJdujSf6WUChAjbchFKaVUHzShK6VUgNCErpRSAUITulJKBQhN6EopFSA0oSulVIDQhK6UUgHi/wPMsnJiUnSzZAAAAABJRU5ErkJggg==\n",
      "text/plain": [
       "<Figure size 432x288 with 1 Axes>"
      ]
     },
     "metadata": {
      "needs_background": "light"
     },
     "output_type": "display_data"
    }
   ],
   "source": [
    "plt.plot(shift_target[-1])\n",
    "plt.plot(original_fulltarget[-1])"
   ]
  },
  {
   "cell_type": "code",
   "execution_count": 648,
   "id": "c4cb7624",
   "metadata": {
    "ExecuteTime": {
     "end_time": "2023-04-19T10:21:53.385122Z",
     "start_time": "2023-04-19T10:21:53.351958Z"
    }
   },
   "outputs": [],
   "source": [
    "i = -1\n",
    "\n",
    "from scipy.signal import convolve, correlate, correlation_lags\n",
    "original_fulltarget = manual_call2(Total_splines[index:index+batch_size], xaxis, search_xdos + torch.zeros(1039).view(-1,1))\n",
    "shift_target = manual_call2(Total_splines[index:index+batch_size], xaxis, pred_xdos + (torch.zeros(1039)+1).view(-1,1))\n",
    "\n",
    "\n",
    "def find_optimal_discrete_shift(y1, y2):\n",
    "    if len(y2.shape) == len(y1.shape) and len(y1.shape) == 2:\n",
    "        shift = []\n",
    "        for i in range(y2.shape[0]):\n",
    "            corr = correlate(y2[i], y1[i], mode='valid')\n",
    "            shift_i = np.argmax(corr) - 67 #Needs calibration  \n",
    "            shift.append(shift_i)\n",
    "        \n",
    "        \n",
    "    elif len(y2.shape) == len(y1.shape) and len(y1.shape) == 1:\n",
    "        corr = correlate(y2, y1, mode='valid')\n",
    "        return corr\n",
    "        shift = np.argmax(corr) - 67\n",
    "    else:\n",
    "        print (\"input shapes are not the same\")\n",
    "        raise Exception\n",
    "    return shift\n",
    "\n",
    "\n",
    "opt_shift = find_optimal_discrete_shift(shift_target[i].detach(), original_fulltarget[i].detach())"
   ]
  },
  {
   "cell_type": "code",
   "execution_count": 649,
   "id": "b3fc5840",
   "metadata": {
    "ExecuteTime": {
     "end_time": "2023-04-19T10:21:53.622504Z",
     "start_time": "2023-04-19T10:21:53.518292Z"
    }
   },
   "outputs": [
    {
     "data": {
      "text/plain": [
       "[<matplotlib.lines.Line2D at 0x7fe128dcfd90>]"
      ]
     },
     "execution_count": 649,
     "metadata": {},
     "output_type": "execute_result"
    },
    {
     "data": {
      "image/png": "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\n",
      "text/plain": [
       "<Figure size 432x288 with 1 Axes>"
      ]
     },
     "metadata": {
      "needs_background": "light"
     },
     "output_type": "display_data"
    }
   ],
   "source": [
    "plt.plot(pred_xdos,shift_target[i], alpha = 0.8, c= 'b')\n",
    "plt.plot(search_xdos, original_fulltarget[i], alpha = 0.5, c= 'y')"
   ]
  },
  {
   "cell_type": "code",
   "execution_count": 650,
   "id": "cf78b941",
   "metadata": {
    "ExecuteTime": {
     "end_time": "2023-04-19T10:21:55.449133Z",
     "start_time": "2023-04-19T10:21:55.440240Z"
    }
   },
   "outputs": [
    {
     "data": {
      "text/plain": [
       "array([34.37300712, 34.40366604, 34.4401311 , 34.48313739, 34.53339749,\n",
       "       34.59156559, 34.65820582, 34.73376819, 34.81857274, 34.91280363,\n",
       "       35.01651109, 35.12962195, 35.25195552, 35.38324357, 35.52315284,\n",
       "       35.67130845, 35.82731606, 35.99078209, 36.16132987, 36.33861078,\n",
       "       36.52230945, 36.71214247, 36.9078508 , 37.10918773, 37.3159038 ,\n",
       "       37.52773189, 37.74437517, 37.96550107, 38.19074306, 38.41971144,\n",
       "       38.65201247, 38.88727399, 39.12517403, 39.36546817, 39.60801129,\n",
       "       39.85276976, 40.09982141, 40.34934262, 40.60158355, 40.85683474,\n",
       "       41.11538932, 41.37750572, 41.64337549, 41.91309947, 42.18667421,\n",
       "       42.4639885 , 42.74482874, 43.02889066, 43.31579475, 43.60510309,\n",
       "       43.89633609, 44.18898795, 44.48254099, 44.77647877, 45.07029812,\n",
       "       45.3635203 , 45.65570075, 45.94643736, 46.23537655, 46.52221699,\n",
       "       46.80671056, 47.08866028, 47.3679152 , 47.64436183, 47.91791217,\n",
       "       48.18848824, 48.45600344, 48.72034161, 48.98133519, 49.23874429,\n",
       "       49.49223927, 49.74138935, 49.98565964, 50.22441861, 50.45695665,\n",
       "       50.68251536, 50.90032575, 51.10965204, 51.30983713, 51.50034529,\n",
       "       51.68079765, 51.85099727, 52.01094142, 52.16082006, 52.30100132,\n",
       "       52.43200535, 52.55446938, 52.66910695, 52.77666472, 52.87788013,\n",
       "       52.97344277, 53.06396227, 53.14994445, 53.23177743, 53.30972843,\n",
       "       53.38395135, 53.45450421, 53.52137486, 53.58451211, 53.64385887,\n",
       "       53.69938354, 53.75110586, 53.79911451, 53.84357484, 53.88472701,\n",
       "       53.92287645, 53.9583798 , 53.9916302 , 54.02304502, 54.05305839,\n",
       "       54.08211856, 54.11068845, 54.13924636, 54.16828317, 54.19829285,\n",
       "       54.22975502, 54.26311019, 54.29873096, 54.33689411, 54.37775932,\n",
       "       54.42135942, 54.46760572, 54.51630857, 54.56721114, 54.62003125,\n",
       "       54.67450525, 54.73042743, 54.78767987, 54.84624957, 54.90623245,\n",
       "       54.96782574])"
      ]
     },
     "execution_count": 650,
     "metadata": {},
     "output_type": "execute_result"
    }
   ],
   "source": [
    "opt_shift"
   ]
  },
  {
   "cell_type": "code",
   "execution_count": 651,
   "id": "4084fb47",
   "metadata": {
    "ExecuteTime": {
     "end_time": "2023-04-19T10:21:56.230056Z",
     "start_time": "2023-04-19T10:21:56.223900Z"
    }
   },
   "outputs": [
    {
     "data": {
      "text/plain": [
       "(131,)"
      ]
     },
     "execution_count": 651,
     "metadata": {},
     "output_type": "execute_result"
    }
   ],
   "source": [
    "opt_shift.shape"
   ]
  },
  {
   "cell_type": "code",
   "execution_count": 652,
   "id": "a0912928",
   "metadata": {
    "ExecuteTime": {
     "end_time": "2023-04-19T10:21:58.266501Z",
     "start_time": "2023-04-19T10:21:58.260047Z"
    }
   },
   "outputs": [
    {
     "data": {
      "text/plain": [
       "130"
      ]
     },
     "execution_count": 652,
     "metadata": {},
     "output_type": "execute_result"
    }
   ],
   "source": [
    "np.argmax(opt_shift)"
   ]
  },
  {
   "cell_type": "code",
   "execution_count": 638,
   "id": "aa959298",
   "metadata": {
    "ExecuteTime": {
     "end_time": "2023-04-19T10:21:26.176022Z",
     "start_time": "2023-04-19T10:21:26.172652Z"
    }
   },
   "outputs": [],
   "source": [
    "#gives 15 for some reason"
   ]
  },
  {
   "cell_type": "code",
   "execution_count": 639,
   "id": "1b5ba933",
   "metadata": {
    "ExecuteTime": {
     "end_time": "2023-04-19T10:21:26.319481Z",
     "start_time": "2023-04-19T10:21:26.313173Z"
    }
   },
   "outputs": [
    {
     "data": {
      "text/plain": [
       "46"
      ]
     },
     "execution_count": 639,
     "metadata": {},
     "output_type": "execute_result"
    }
   ],
   "source": [
    "np.argmax(opt_shift)"
   ]
  },
  {
   "cell_type": "code",
   "execution_count": 640,
   "id": "3b9b6ad0",
   "metadata": {
    "ExecuteTime": {
     "end_time": "2023-04-19T10:21:26.452086Z",
     "start_time": "2023-04-19T10:21:26.446041Z"
    }
   },
   "outputs": [
    {
     "data": {
      "text/plain": [
       "474"
      ]
     },
     "execution_count": 640,
     "metadata": {},
     "output_type": "execute_result"
    }
   ],
   "source": [
    "len(shift_target[i])"
   ]
  },
  {
   "cell_type": "code",
   "execution_count": 642,
   "id": "04f6efba",
   "metadata": {
    "ExecuteTime": {
     "end_time": "2023-04-19T10:21:27.337762Z",
     "start_time": "2023-04-19T10:21:27.331688Z"
    }
   },
   "outputs": [
    {
     "data": {
      "text/plain": [
       "604"
      ]
     },
     "execution_count": 642,
     "metadata": {},
     "output_type": "execute_result"
    }
   ],
   "source": [
    "len(original_fulltarget[i])"
   ]
  },
  {
   "cell_type": "code",
   "execution_count": 98,
   "id": "193c4462",
   "metadata": {
    "ExecuteTime": {
     "end_time": "2023-04-18T22:22:58.567808Z",
     "start_time": "2023-04-18T22:22:58.558835Z"
    }
   },
   "outputs": [
    {
     "data": {
      "text/plain": [
       "torch.Size([474])"
      ]
     },
     "execution_count": 98,
     "metadata": {},
     "output_type": "execute_result"
    }
   ],
   "source": [
    "pred_xdos.shape"
   ]
  },
  {
   "cell_type": "code",
   "execution_count": 99,
   "id": "920316b0",
   "metadata": {
    "ExecuteTime": {
     "end_time": "2023-04-18T22:22:59.104280Z",
     "start_time": "2023-04-18T22:22:59.096583Z"
    }
   },
   "outputs": [
    {
     "data": {
      "text/plain": [
       "0"
      ]
     },
     "execution_count": 99,
     "metadata": {},
     "output_type": "execute_result"
    }
   ],
   "source": [
    "np.argmax(opt_shift) - 474 + 1"
   ]
  },
  {
   "cell_type": "code",
   "execution_count": 100,
   "id": "bc4179d5",
   "metadata": {
    "ExecuteTime": {
     "end_time": "2023-04-18T22:22:59.988431Z",
     "start_time": "2023-04-18T22:22:59.727514Z"
    }
   },
   "outputs": [
    {
     "data": {
      "text/plain": [
       "[<matplotlib.lines.Line2D at 0x7fe1602e87f0>]"
      ]
     },
     "execution_count": 100,
     "metadata": {},
     "output_type": "execute_result"
    },
    {
     "data": {
      "image/png": "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\n",
      "text/plain": [
       "<Figure size 432x288 with 1 Axes>"
      ]
     },
     "metadata": {
      "needs_background": "light"
     },
     "output_type": "display_data"
    }
   ],
   "source": [
    "plt.plot(opt_shift)"
   ]
  },
  {
   "cell_type": "code",
   "execution_count": 64,
   "id": "3b551793",
   "metadata": {
    "ExecuteTime": {
     "end_time": "2023-04-18T22:15:13.965577Z",
     "start_time": "2023-04-18T22:15:13.958026Z"
    }
   },
   "outputs": [
    {
     "data": {
      "text/plain": [
       "tensor(0.0500)"
      ]
     },
     "execution_count": 64,
     "metadata": {},
     "output_type": "execute_result"
    }
   ],
   "source": [
    "(pred_xdos[1] - pred_xdos[0])"
   ]
  },
  {
   "cell_type": "code",
   "execution_count": 65,
   "id": "810c4298",
   "metadata": {
    "ExecuteTime": {
     "end_time": "2023-04-18T22:15:18.156335Z",
     "start_time": "2023-04-18T22:15:18.138325Z"
    }
   },
   "outputs": [
    {
     "data": {
      "text/plain": [
       "tensor([1., 1., 1.,  ..., 1., 1., 1.])"
      ]
     },
     "execution_count": 65,
     "metadata": {},
     "output_type": "execute_result"
    }
   ],
   "source": [
    "true_alignments"
   ]
  },
  {
   "cell_type": "code",
   "execution_count": 27,
   "id": "8fd7ee97",
   "metadata": {
    "ExecuteTime": {
     "end_time": "2023-04-18T22:10:42.015623Z",
     "start_time": "2023-04-18T22:10:42.006491Z"
    }
   },
   "outputs": [
    {
     "data": {
      "text/plain": [
       "tensor([ 0.0000, -0.2500,  0.0000,  ...,  0.0000,  0.0000,  0.0000])"
      ]
     },
     "execution_count": 27,
     "metadata": {},
     "output_type": "execute_result"
    }
   ],
   "source": [
    "error"
   ]
  },
  {
   "cell_type": "code",
=======
>>>>>>> d22a6c4f71ffcfe88e87f8f7402568f1c6e91048
   "execution_count": 1119,
   "id": "e568cfcc",
   "metadata": {
    "ExecuteTime": {
     "end_time": "2023-04-12T14:54:54.078138Z",
     "start_time": "2023-04-12T14:54:54.029759Z"
    }
   },
   "outputs": [
    {
     "ename": "IndexError",
     "evalue": "index 24691 is out of bounds for dimension 0 with size 24678",
     "output_type": "error",
     "traceback": [
      "\u001b[0;31m---------------------------------------------------------------------------\u001b[0m",
      "\u001b[0;31mIndexError\u001b[0m                                Traceback (most recent call last)",
      "Input \u001b[0;32mIn [1119]\u001b[0m, in \u001b[0;36m<cell line: 4>\u001b[0;34m()\u001b[0m\n\u001b[1;32m      2\u001b[0m cat \u001b[38;5;241m=\u001b[39m torch\u001b[38;5;241m.\u001b[39mzeros(\u001b[38;5;241m1\u001b[39m)\n\u001b[1;32m      4\u001b[0m \u001b[38;5;28;01mwith\u001b[39;00m torch\u001b[38;5;241m.\u001b[39mno_grad():\n\u001b[0;32m----> 5\u001b[0m     aligned_target \u001b[38;5;241m=\u001b[39m \u001b[43mmanual_call2\u001b[49m\u001b[43m(\u001b[49m\u001b[43mTotal_splines\u001b[49m\u001b[43m[\u001b[49m\u001b[43mindex\u001b[49m\u001b[43m:\u001b[49m\u001b[43mindex\u001b[49m\u001b[38;5;241;43m+\u001b[39;49m\u001b[38;5;241;43m1\u001b[39;49m\u001b[43m]\u001b[49m\u001b[43m,\u001b[49m\u001b[43m \u001b[49m\u001b[43mxaxis\u001b[49m\u001b[43m,\u001b[49m\u001b[43m \u001b[49m\u001b[43mpred_xdos\u001b[49m\u001b[43m \u001b[49m\u001b[38;5;241;43m+\u001b[39;49m\u001b[43m \u001b[49m\u001b[43malign\u001b[49m\u001b[38;5;241;43m.\u001b[39;49m\u001b[43mview\u001b[49m\u001b[43m(\u001b[49m\u001b[38;5;241;43m-\u001b[39;49m\u001b[38;5;241;43m1\u001b[39;49m\u001b[43m,\u001b[49m\u001b[38;5;241;43m1\u001b[39;49m\u001b[43m)\u001b[49m\u001b[43m)\u001b[49m\n\u001b[1;32m      6\u001b[0m \u001b[38;5;66;03m#     aligned_target = manual_call2(Total_splines[index:index+1], xaxis, pred_xdos + torch.zeros(1).view(-1,1))\u001b[39;00m\n\u001b[1;32m      7\u001b[0m     plt\u001b[38;5;241m.\u001b[39mplot(pred_xdos, shift_target[\u001b[38;5;241m0\u001b[39m], c\u001b[38;5;241m=\u001b[39m \u001b[38;5;124m'\u001b[39m\u001b[38;5;124mr\u001b[39m\u001b[38;5;124m'\u001b[39m)\n",
      "Input \u001b[0;32mIn [6]\u001b[0m, in \u001b[0;36mmanual_call2\u001b[0;34m(spline_coefs, spline_positions, x)\u001b[0m\n\u001b[1;32m      8\u001b[0m indexes \u001b[38;5;241m=\u001b[39m torch\u001b[38;5;241m.\u001b[39mfloor((x \u001b[38;5;241m-\u001b[39m spline_positions[\u001b[38;5;241m0\u001b[39m])\u001b[38;5;241m/\u001b[39minterval)\u001b[38;5;241m.\u001b[39mlong()\n\u001b[1;32m      9\u001b[0m expanded_index \u001b[38;5;241m=\u001b[39m indexes\u001b[38;5;241m.\u001b[39munsqueeze(dim\u001b[38;5;241m=\u001b[39m\u001b[38;5;241m1\u001b[39m)\u001b[38;5;241m.\u001b[39mexpand(\u001b[38;5;241m-\u001b[39m\u001b[38;5;241m1\u001b[39m,\u001b[38;5;241m4\u001b[39m,\u001b[38;5;241m-\u001b[39m\u001b[38;5;241m1\u001b[39m)\n\u001b[0;32m---> 10\u001b[0m x_1 \u001b[38;5;241m=\u001b[39m x \u001b[38;5;241m-\u001b[39m \u001b[43mspline_positions\u001b[49m\u001b[43m[\u001b[49m\u001b[43mindexes\u001b[49m\u001b[43m]\u001b[49m\n\u001b[1;32m     11\u001b[0m x_2 \u001b[38;5;241m=\u001b[39m x_1 \u001b[38;5;241m*\u001b[39m x_1\n\u001b[1;32m     12\u001b[0m x_3 \u001b[38;5;241m=\u001b[39m x_2 \u001b[38;5;241m*\u001b[39m x_1\n",
      "\u001b[0;31mIndexError\u001b[0m: index 24691 is out of bounds for dimension 0 with size 24678"
     ]
    }
   ],
   "source": [
    "%matplotlib notebook\n",
    "cat = torch.zeros(1)\n",
    "\n",
    "with torch.no_grad():\n",
    "    aligned_target = manual_call2(Total_splines[index:index+1], xaxis, pred_xdos + align.view(-1,1))\n",
    "#     aligned_target = manual_call2(Total_splines[index:index+1], xaxis, pred_xdos + torch.zeros(1).view(-1,1))\n",
    "    plt.plot(pred_xdos, shift_target[0], c= 'r')\n",
    "    plt.plot(pred_xdos, aligned_target[0], c = 'b')\n",
    "    loss_i = torch.mean((shift_target - aligned_target)**2) \n",
    "    print (loss_i)"
   ]
  },
  {
   "cell_type": "markdown",
   "id": "f7d37e26",
   "metadata": {},
   "source": [
    "## Generate Features"
   ]
  },
  {
   "cell_type": "code",
   "execution_count": 1120,
   "id": "f0d94518",
   "metadata": {
    "ExecuteTime": {
     "end_time": "2023-04-12T14:55:39.373205Z",
     "start_time": "2023-04-12T14:55:00.824059Z"
    }
   },
   "outputs": [
    {
     "data": {
      "application/vnd.jupyter.widget-view+json": {
       "model_id": "4e8a2fb9ecbc4f6ca574ad6c6dca71e9",
       "version_major": 2,
       "version_minor": 0
      },
      "text/plain": [
       "  0%|          | 0/199 [00:00<?, ?it/s]"
      ]
     },
     "metadata": {},
     "output_type": "display_data"
    }
   ],
   "source": [
    "import rascaline\n",
    "from skcosmo.feature_selection import FPS\n",
    "import scipy\n",
    "\n",
    "HYPER_PARAMETERS = {\n",
    "    \"cutoff\": 4.0,#6.0,#4.0,\n",
    "    \"max_radial\": 8,#12,#8,\n",
    "    \"max_angular\": 6,#9,#6,\n",
    "    \"atomic_gaussian_width\": 0.45,\n",
    "    \"center_atom_weight\": 1.0,\n",
    "    \"radial_basis\":{\n",
    "        \"Gto\":{}\n",
    "    },\n",
    "    \"cutoff_function\":{\n",
    "        \"Step\":{}, #maybe \n",
    "    },\n",
    "    \"radial_scaling\":{\n",
    "        \"Willatt2018\":{\n",
    "        'exponent': 5,\n",
    "        'rate' : 1,\n",
    "        'scale' : 3.,\n",
    "        },\n",
    "    },\n",
    "}\n",
    "\n",
    "calculator = rascaline.SoapPowerSpectrum(**HYPER_PARAMETERS)\n",
    "descriptors = calculator.compute(structures)\n",
    "descriptors.keys_to_samples(\"species_center\")\n",
    "descriptors.keys_to_properties([\"species_neighbor_1\", \"species_neighbor_2\"])\n",
    "\n",
    "\n",
    "\n",
    "n_refs = 200\n",
    "n_atoms = descriptors.block(0).values.shape[0]\n",
    "n_structures = np.unique(descriptors.block(0).samples[\"structure\"])\n",
    "feature = torch.zeros(len(n_structures), n_refs)\n",
    "atom_descriptors = torch.tensor(descriptors.block(0).values)\n",
    "atom_descriptors = torch.nn.functional.normalize(atom_descriptors, dim = 1)\n",
    "selector = FPS(n_to_select = n_refs,\n",
    "           progress_bar = True,\n",
    "           score_threshold = 1e-12,\n",
    "           full = False,\n",
    "           initialize = 0\n",
    "          )\n",
    "selector.fit(atom_descriptors.T)\n",
    "references = selector.transform(atom_descriptors.T).T\n",
    "atomkernel_descriptors = torch.pow(atom_descriptors @ references.T, 2)\n",
    "for structure_i in n_structures:\n",
    "    a_i = descriptors.block(0).samples[\"structure\"] == structure_i\n",
    "    feature[structure_i, :] = torch.sum(atomkernel_descriptors[a_i, :], axis = 0)/np.sum(a_i)\n",
    "\n",
    "kMM = references @ references.T\n",
    "rtkMM = scipy.linalg.sqrtm(kMM)"
   ]
  },
  {
   "cell_type": "markdown",
   "id": "4d5a327e",
   "metadata": {},
   "source": [
    "## Analytical training Unbiased\n"
   ]
  },
  {
   "cell_type": "code",
   "execution_count": 1244,
   "id": "e3c26a50",
   "metadata": {
    "ExecuteTime": {
     "end_time": "2023-04-13T13:06:24.131517Z",
     "start_time": "2023-04-13T13:06:24.102521Z"
    }
   },
   "outputs": [
    {
     "data": {
      "text/plain": [
       "<module 'dostools.loss.loss' from '/home/how/dostools/src/dostools/loss/loss.py'>"
      ]
     },
     "execution_count": 1244,
     "metadata": {},
     "output_type": "execute_result"
    }
   ],
   "source": [
    "importlib.reload(loss)"
   ]
  },
  {
   "cell_type": "code",
   "execution_count": 1257,
   "id": "cd3dd7ea",
   "metadata": {
    "ExecuteTime": {
     "end_time": "2023-04-13T13:47:26.400534Z",
     "start_time": "2023-04-13T13:24:37.972918Z"
    }
   },
   "outputs": [
    {
     "name": "stdout",
     "output_type": "stream",
     "text": [
      "Reference training loss: 10.5108\n",
      "Reference test loss : 11.9648\n"
     ]
    },
    {
     "name": "stderr",
     "output_type": "stream",
     "text": [
      "Epoch: 375:   0%|▍                                                                                                          | 375/100000 [06:47<29:33:26,  1.07s/it, lowest_mse=0.00668, pred_loss=8.85, trigger=0]"
     ]
    },
    {
     "name": "stdout",
     "output_type": "stream",
     "text": [
      "The batch_size is now: 64\n"
     ]
    },
    {
     "name": "stderr",
     "output_type": "stream",
     "text": [
      "Epoch: 566:   1%|▌                                                                                                          | 566/100000 [08:50<16:53:39,  1.63it/s, lowest_mse=0.00654, pred_loss=8.68, trigger=0]"
     ]
    },
    {
     "name": "stdout",
     "output_type": "stream",
     "text": [
      "The batch_size is now: 128\n"
     ]
    },
    {
     "name": "stderr",
     "output_type": "stream",
     "text": [
      "Epoch: 821:   1%|▉                                                                                                          | 821/100000 [10:37<12:03:00,  2.29it/s, lowest_mse=0.00643, pred_loss=8.56, trigger=0]"
     ]
    },
    {
     "name": "stdout",
     "output_type": "stream",
     "text": [
      "The batch_size is now: 256\n"
     ]
    },
    {
     "name": "stderr",
     "output_type": "stream",
     "text": [
      "Epoch: 1163:   1%|█▏                                                                                                        | 1163/100000 [12:13<8:20:56,  3.29it/s, lowest_mse=0.00632, pred_loss=8.44, trigger=0]"
     ]
    },
    {
     "name": "stdout",
     "output_type": "stream",
     "text": [
      "The batch_size is now: 512\n"
     ]
    },
    {
     "name": "stderr",
     "output_type": "stream",
     "text": [
      "Epoch: 3354:   3%|███▌                                                                                                      | 3354/100000 [18:58<4:27:54,  6.01it/s, lowest_mse=0.00603, pred_loss=8.12, trigger=0]"
     ]
    },
    {
     "name": "stdout",
     "output_type": "stream",
     "text": [
      "The batch_size is now: 1024\n"
     ]
    },
    {
     "name": "stderr",
     "output_type": "stream",
     "text": [
      "Epoch: 5043:   5%|█████▍                                                                                                     | 5043/100000 [22:48<7:09:21,  3.69it/s, lowest_mse=0.00599, pred_loss=8.1, trigger=0]"
     ]
    },
    {
     "name": "stdout",
     "output_type": "stream",
     "text": [
      "The batch_size is now: 2048\n",
      "Final training loss: 8.09868\n"
     ]
    },
    {
     "name": "stderr",
     "output_type": "stream",
     "text": [
      "\n"
     ]
    }
   ],
   "source": [
    "from dostools.loss import loss\n",
    "#normal dataset\n",
    "\n",
    "batch_size = 32\n",
    "sigma = 0.3\n",
    "n_epochs = 100000\n",
    "patience = 20\n",
    "\n",
    "index = train_index\n",
    "t_index = test_index\n",
    "\n",
    "Sampler = torch.utils.data.RandomSampler(index, replacement = False)\n",
    "Batcher = torch.utils.data.BatchSampler(Sampler, batch_size, False)\n",
    "\n",
    "Features = torch.hstack([feature[index], torch.ones(len(index)).view(-1,1)])#.type(dtype = torch.complex128)\n",
    "t_Features = torch.hstack([feature[t_index], torch.ones(len(t_index)).view(-1,1)])#.type(dtype = torch.complex128)\n",
    "# Features = torch.hstack([Silicon.Features['structure_avedescriptors'][index].double(), torch.ones(len(index)).view(-1,1)])\n",
    "# t_Features = torch.hstack([Silicon.Features['structure_avedescriptors'][t_index].double(), torch.ones(len(t_index)).view(-1,1)])\n",
    "alignment = torch.nn.parameter.Parameter(torch.zeros(len(index)))\n",
    "# alignment = torch.nn.parameter.Parameter((torch.rand(len(index))-0.5) *2 ) \n",
    "\n",
    "opt = torch.optim.Adam([alignment], lr = 1e-3, weight_decay = 0)\n",
    "# opt_LBFGS = torch.optim.LBFGS([alignment], lr = 1e-3, line_search_fn = 'strong_wolfe', tolerance_grad = 1e-15, tolerance_change = 1e-15)#, weight_decay = 0)\n",
    "scheduler = torch.optim.lr_scheduler.ReduceLROnPlateau(opt, factor = 0.1, patience = 20, threshold = 1e-5, min_lr = 1e-8)\n",
    "\n",
    "xdos_i = xdos.clone()\n",
    "# cutoff = torch.max(efermi) + 3\n",
    "# cutoff_index = torch.searchsorted(xdos, cutoff)\n",
    "\n",
    "train_ldos = manual_call2(Total_splines[index], xaxis, pred_xdos + alignment.view(-1,1))\n",
    "test_ldos = manual_call2(Total_splines[t_index], xaxis, pred_xdos + torch.zeros(len(t_index)).view(-1,1))\n",
    "\n",
    "best_mse = torch.tensor(100)\n",
    "best_state = alignment.clone()\n",
    "\n",
    "n_col = Features.shape[1]\n",
    "regularization = 1\n",
    "\n",
    "reg = torch.hstack([torch.real(torch.tensor(regularization * rtkMM)), torch.zeros(rtkMM.shape[0]).view(-1,1)])\n",
    "reg = torch.vstack([reg, torch.zeros(n_col)])\n",
    "\n",
    "\n",
    "reg_features = torch.vstack([Features, reg])\n",
    "reg_target = torch.vstack([train_ldos, torch.zeros(n_col,train_ldos.shape[1])])\n",
    "reference_weights = torch.linalg.lstsq(reg_features, reg_target, driver = \"gelsd\", rcond = 1e-10).solution\n",
    "reference_pred = Features @ reference_weights\n",
    "reference_t_pred = t_Features @ reference_weights\n",
    "\n",
    "\n",
    "\n",
    "train_loss = loss.t_get_rmse(reference_pred, train_ldos, pred_xdos, perc = True)#torch.mean(abs(reference_pred- train_ldos)**2) \n",
    "test_loss = loss.t_get_rmse(reference_t_pred, test_ldos, pred_xdos, perc = True)#torch.mean(abs(reference_t_pred- test_ldos)**2) \n",
    "current_rmse = torch.tensor(100)\n",
    "pred_loss = torch.tensor(100)\n",
    "prev_loss = torch.tensor(100)\n",
    "trigger = 0\n",
    "print (\"Reference training loss: {:.6}\".format(train_loss))\n",
    "print (\"Reference test loss : {:.6}\".format(test_loss))\n",
    "\n",
    "pbar = tqdm(range(n_epochs))\n",
    "for epoch in pbar:\n",
    "    pbar.set_description(f\"Epoch: {epoch}\")\n",
    "    pbar.set_postfix(pred_loss = pred_loss.item(), lowest_mse = best_mse.item(), trigger = trigger)\n",
    "    for i_batch in Batcher:\n",
    "        def closure():\n",
    "            opt.zero_grad()\n",
    "            reg_features_i = torch.vstack([Features[i_batch], reg])\n",
    "            shifted_target = manual_call2(Total_splines[index[i_batch]], xaxis, pred_xdos + alignment[i_batch].view(-1,1))\n",
    "            shifted_reg_target = torch.vstack([shifted_target, torch.zeros(n_col,train_ldos.shape[1])])          \n",
    "            train_weights = torch.linalg.lstsq(reg_features_i, shifted_reg_target, rcond = 1e-10, driver = \"gelsd\").solution\n",
    "            shifted_train_preds = Features[i_batch] @ train_weights\n",
    "            loss_i = loss.t_get_rmse(shifted_train_preds, shifted_target, pred_xdos)#torch.mean(abs(shifted_train_preds - shifted_target)**2) \n",
    "            loss_i.backward(inputs = alignment)\n",
    "            return loss_i\n",
    "        opt.step(closure)\n",
    "        train_ldos = train_ldos.detach()\n",
    "        \n",
    "    with torch.no_grad():\n",
    "        shifted_target = manual_call2(Total_splines[index], xaxis, pred_xdos + alignment.view(-1,1))\n",
    "        shifted_reg_target = torch.vstack([shifted_target, torch.zeros(n_col,train_ldos.shape[1])])          \n",
    "        train_weights = torch.linalg.lstsq(reg_features, shifted_reg_target, rcond = 1e-10, driver = \"gelsd\").solution\n",
    "        pred_i = Features @ train_weights\n",
    "        \n",
    "\n",
    "        i_loss = loss.t_get_rmse(pred_i, shifted_target)#torch.mean(abs(pred_i - shifted_target)**2) \n",
    "        pred_loss = loss.t_get_rmse(pred_i, shifted_target, pred_xdos, perc = True)\n",
    "#         pred_loss = i_loss\n",
    "        if i_loss < prev_loss * (1 + 1e-3): \n",
    "            trigger = 0\n",
    "        else:\n",
    "            trigger +=1 \n",
    "            if trigger >= patience:\n",
    "                alignment = torch.nn.parameter.Parameter(best_state)\n",
    "                opt = torch.optim.Adam([alignment], lr = opt.param_groups[0]['lr'], weight_decay = 0)\n",
    "                counter = 0\n",
    "\n",
    "        if i_loss < best_mse:\n",
    "            best_mse = i_loss\n",
    "            best_state = alignment.clone()\n",
    "\n",
    "        prev_loss = i_loss\n",
    "\n",
    "        scheduler.step(i_loss)\n",
    "        if Batcher.batch_size > 1024:\n",
    "            break\n",
    "            \n",
    "        if opt.param_groups[0]['lr'] < 1e-3:\n",
    "            Batcher.batch_size *= 2 \n",
    "            opt.param_groups[0]['lr'] = 1e-3\n",
    "            print (\"The batch_size is now:\", Batcher.batch_size)\n",
    "\n",
    "            \n",
    "            \n",
    "\n",
    "\n",
    "shifted_target = manual_call2(Total_splines[index], xaxis, pred_xdos + best_state.view(-1,1))\n",
    "shifted_reg_target = torch.vstack([shifted_target, torch.zeros(n_col,shifted_target.shape[1])])   \n",
    "\n",
    "\n",
    "shifted_weights = torch.linalg.lstsq(reg_features, shifted_reg_target, driver = \"gelsd\").solution\n",
    "shifted_preds = Features @ shifted_weights\n",
    "shifted_t_preds = t_Features @ shifted_weights\n",
    "\n",
    "\n",
    "shifted_train_loss = loss.t_get_rmse(shifted_preds, shifted_target, pred_xdos, perc = True)#torch.mean(abs(shifted_preds - shifted_target)**2)#\n",
    "# shifted_test_loss = loss.t_get_rmse(shifted_t_preds, shifted_ldos, xdos, perc = True) Need the one with the new loss function\n",
    "\n",
    "print (\"Final training loss: {:.6}\".format(shifted_train_loss))\n"
   ]
  },
  {
   "cell_type": "code",
   "execution_count": 1147,
   "id": "b347e364",
   "metadata": {
    "ExecuteTime": {
     "end_time": "2023-04-12T17:42:03.449417Z",
     "start_time": "2023-04-12T17:42:03.444580Z"
    }
   },
   "outputs": [],
   "source": [
    "best_state1 = best_state.clone()"
   ]
  },
  {
   "cell_type": "code",
   "execution_count": 1196,
   "id": "37025838",
   "metadata": {
    "ExecuteTime": {
     "end_time": "2023-04-13T10:44:51.951017Z",
     "start_time": "2023-04-13T10:44:51.940089Z"
    }
   },
   "outputs": [],
   "source": [
    "torch.save(best_state1, \"./Splines_beststate_0\")"
   ]
  },
  {
   "cell_type": "code",
   "execution_count": 1222,
   "id": "ea756a64",
   "metadata": {
    "ExecuteTime": {
     "end_time": "2023-04-13T11:44:08.098719Z",
     "start_time": "2023-04-13T11:44:08.091044Z"
    }
   },
   "outputs": [
    {
     "data": {
      "text/plain": [
       "tensor(-0.9601)"
      ]
     },
     "execution_count": 1222,
     "metadata": {},
     "output_type": "execute_result"
    }
   ],
   "source": [
    "torch.min(best_state1)"
   ]
  },
  {
   "cell_type": "code",
   "execution_count": 1174,
   "id": "69cbb216",
   "metadata": {
    "ExecuteTime": {
     "end_time": "2023-04-13T09:46:47.440540Z",
     "start_time": "2023-04-13T09:46:45.452588Z"
    }
   },
   "outputs": [
    {
     "name": "stderr",
     "output_type": "stream",
     "text": [
      "100%|███████████████████████████████████████████████████████████████████████████████████████████████████████████████████████████████████████████████████████████████████████████| 300/300 [00:01<00:00, 158.95it/s]\n"
     ]
    }
   ],
   "source": [
    "train_error, train_align = MSE_shift_spline(shifted_preds, pred_xdos, Total_splines[index], xaxis, 300)"
   ]
  },
  {
   "cell_type": "code",
   "execution_count": 1191,
   "id": "506c6788",
   "metadata": {
    "ExecuteTime": {
     "end_time": "2023-04-13T09:56:18.022965Z",
     "start_time": "2023-04-13T09:56:17.060676Z"
    }
   },
   "outputs": [
    {
     "name": "stderr",
     "output_type": "stream",
     "text": [
      "100%|███████████████████████████████████████████████████████████████████████████████████████████████████████████████████████████████████████████████████████████████████████████| 300/300 [00:00<00:00, 324.16it/s]\n"
     ]
    }
   ],
   "source": [
    "test_error, test_align = MSE_shift_spline(shifted_t_preds, pred_xdos, Total_splines[t_index], xaxis, 300)"
   ]
  },
  {
   "cell_type": "code",
   "execution_count": 1258,
   "id": "c73ddf13",
   "metadata": {
    "ExecuteTime": {
     "end_time": "2023-04-13T15:55:31.036977Z",
     "start_time": "2023-04-13T15:55:27.809973Z"
    }
   },
   "outputs": [
    {
     "name": "stderr",
     "output_type": "stream",
     "text": [
      "100%|███████████████████████████████████████████████████████████████████████████████████████████████████████████████████████████████████████████████████████████████████████████| 300/300 [00:02<00:00, 138.27it/s]\n",
      "100%|███████████████████████████████████████████████████████████████████████████████████████████████████████████████████████████████████████████████████████████████████████████| 300/300 [00:00<00:00, 318.80it/s]"
     ]
    },
    {
     "name": "stdout",
     "output_type": "stream",
     "text": [
      "Train loss is 0.03533325635500744\n",
      "Test loss is 9.684926519953992\n"
     ]
    },
    {
     "name": "stderr",
     "output_type": "stream",
     "text": [
      "\n"
     ]
    }
   ],
   "source": [
    "train_error, train_align = MSE_shift_spline(shifted_preds, pred_xdos, Total_splines[index], xaxis, 300)\n",
    "test_error, test_align = MSE_shift_spline(shifted_t_preds, pred_xdos, Total_splines[t_index], xaxis, 300)\n",
    "with torch.no_grad():\n",
    "    original_ldos = manual_call2(Total_splines, xaxis, pred_xdos + torch.zeros(1039).view(-1,1))\n",
    "    opt_shifted_train_preds = manual_call2(Total_splines[index], xaxis, pred_xdos + train_align.view(-1,1))\n",
    "    shifted_train_loss = loss.t_get_rmse(shifted_preds, opt_shifted_train_preds, pred_xdos, perc = False)#torch.mean(abs(shifted_preds - shifted_target)**2)#\n",
    "    print (\"Train loss is {}\".format(shifted_train_loss))\n",
    "    \n",
    "    opt_shifted_test_preds = manual_call2(Total_splines[t_index], xaxis, pred_xdos + test_align.view(-1,1))\n",
    "    shifted_test_loss = loss.t_get_rmse(shifted_t_preds, opt_shifted_test_preds, pred_xdos, perc = True)#torch.mean(abs(shifted_preds - shifted_target)**2)#\n",
    "    print (\"Test loss is {}\".format(shifted_test_loss))"
   ]
  },
  {
   "cell_type": "code",
   "execution_count": 1168,
   "id": "acf88d79",
   "metadata": {
    "ExecuteTime": {
     "end_time": "2023-04-13T09:41:45.156785Z",
     "start_time": "2023-04-13T09:41:45.147737Z"
    }
   },
   "outputs": [
    {
     "data": {
      "text/plain": [
       "tensor(0.0350)"
      ]
     },
     "execution_count": 1168,
     "metadata": {},
     "output_type": "execute_result"
    }
   ],
   "source": [
    "shifted_train_loss = loss.t_get_rmse(shifted_preds, shifted_target, pred_xdos, perc = False)\n",
    "shifted_train_loss"
   ]
  },
  {
   "cell_type": "code",
   "execution_count": 1224,
   "id": "504ceebb",
   "metadata": {
    "ExecuteTime": {
     "end_time": "2023-04-13T12:10:53.947260Z",
     "start_time": "2023-04-13T12:10:53.937076Z"
    }
   },
   "outputs": [],
   "source": [
    "torch.save(test_align, \"./Splines_testalign_0\")"
   ]
  },
  {
   "cell_type": "code",
   "execution_count": 1209,
   "id": "de7bd703",
   "metadata": {
    "ExecuteTime": {
     "end_time": "2023-04-13T10:53:34.439076Z",
     "start_time": "2023-04-13T10:53:34.318995Z"
    }
   },
   "outputs": [
    {
     "data": {
      "text/plain": [
       "[<matplotlib.lines.Line2D at 0x7fe9944627f0>]"
      ]
     },
     "execution_count": 1209,
     "metadata": {},
     "output_type": "execute_result"
    },
    {
     "data": {
      "image/png": "iVBORw0KGgoAAAANSUhEUgAAAXQAAAD8CAYAAABn919SAAAAOXRFWHRTb2Z0d2FyZQBNYXRwbG90bGliIHZlcnNpb24zLjUuMSwgaHR0cHM6Ly9tYXRwbG90bGliLm9yZy/YYfK9AAAACXBIWXMAAAsTAAALEwEAmpwYAAAnuUlEQVR4nO3deXyU5b338c9vZjKTDQhLWATCJlsEQQjgrj22FayKti6oVVprlR6Xnj49Vvv0tNr2tKftc2ztYqW41a2irWhREduqaCsihH1R9tUIhM1AIOtczx+ZYIiBTGYmuWcm3/frlVdmuZl8uV/w5eK6l8ucc4iISOrzeR1AREQSQ4UuIpImVOgiImlChS4ikiZU6CIiaUKFLiKSJqIqdDObaGZrzWyDmd19nG3ON7NlZrbazN5KbEwREWmONXceupn5gXXA54AdwCLgGufcmgbb5AHzgYnOuW1m1t05t7vVUouIyKdEM0IfD2xwzm1yzlUBM4HJjba5FpjlnNsGoDIXEWl7gSi26Q1sb/B8BzCh0TZDgAwzmwd0AH7tnHviRB/arVs3179//+iTiogIixcv3uOcy2/qvWgK3Zp4rfE8TQAYC1wAZAHvmtkC59y6Yz7I7GbgZoCCggKKi4uj+PEiIlLPzLYe771oplx2AH0bPO8DlDSxzVznXLlzbg/wNjCq8Qc552Y454qcc0X5+U3+AyMiIjGKptAXAYPNbICZBYEpwOxG2/wVOMfMAmaWTd2UzPuJjSoiIifS7JSLc67GzG4DXgP8wKPOudVmNi3y/nTn3PtmNhdYAYSBh51zq1ozuIiIHKvZ0xZbS1FRkdMcuohIy5jZYudcUVPv6UpREZE0oUIXEUkTKnQRkTShQheRNrN+10EenLeRdbsOeh0lLUVzYZGISNz+XLyd//vCSqprHb9/cwOvf/s8unfM9DpWWtEIXURa3TMLt3HnX1Zw+sCu/HnaGZRX1fDUe9u8jpV2VOgiEpP95VXsLqtodrunFmzlu7NWcv7QfB66oYhx/btQ1K8Lr7+/qw1Sti8qdBFpsSff3cK4n/yD8T99ndufWUp5ZU2T2z0+fwv/9eIqLhjWnT9cP5bMDD8Apw/swvsflXGkqrYtY6c9FbqItMj8jXu4Z/ZqzhncjWnnDeKVFSV86cH5lBw4cnQb5xy/e2M998xezecKe/Dgl8cSCviPvj+idyfCDtZ8VObFbyFt6aCoiEStNuz44ew19OmczQPXjSE7GOCMQV257eklTH7gHe68cCi987J4fP4W/rZmF5eNPolfXDGKYODYsePJ3XMB2LynnLH9OnvxW0lLKnQRidqsJTtYu+sgv7v2NLKDdfVx3pB8/vKNM/nWs8v4zl9WAJCZ4ePuScO45dyBmH36Dtx9Omfj9xlb9pS3af50p0IXkahUVNfyq7+v49Q+nfjCyF7HvDe0Zwdevv1sVn74MWUV1Yzum0eHzIzjflYw4OOkvEy27jvc2rHbFRW6iETlqQVbKfm4gv+9clSTo26fzxjVNy/qz+vVMYtdHzd/loxETwdFRaRZJQeO8OvX13PO4G6ceXK3hHxmz06Z7IzitEeJngpdRE5oV1kFNz1eTG3Y8d+XjUjY59YXule38E5HmnIRkU+pqQ3z5tpSZi8v4R9rdhF2jj9cP5Z+XXMS9jPyc0NU1YQpq6ihU9bx59sleip0ETnGe5v28p3nV7B172G65gS57LTeTDtvYELLHCAvu67EPz5crUJPEBW6iBw1Z+VH3PanJfTtks30L4/ls8O7E/C3zsxs5+wgAAeOVFFAdqv8jPZGhS4iACzdtp9vzlzKaQWdeeLG8eSEWrce6kfo+w9Xt+rPaU90UFREqKoJc9fzK+iWG+LRqeNavcwB8upH6IerWv1ntRcaoYsIM97eyLpdh3j4hiI6ZbfNfHb9CP2ARugJo0IXSWM1tWEWb91PZU2Ysf06Nzny3lR6iN+8sYEvjOzFZwt7tFm2vCwVeqKp0EXS0O6yCp5ZuJ1nFm47evFO15wgP7l8BBNHfHLZfm3Y8Z2/rCAz4OOeSwvbNGPA76NDKMB+TbkkjApdJI2UV9Zw39/W8dSCrVTVhjl3SD73XFJIdijAfX9by7SnljDtvEHceeFQ/D5j+lsbKd66n19dPYruHdp+Obi8nAw+PqIReqKo0EXSRFlFNVf/YQFrd5Zx5di+TDt/EAO6fXLu+OkDu/DDl9Yw/a2NrPzwAEN6dOCxd7bwhVN7cdno3p5kzssKaoSeQCp0kTRQG3bc8cxS1u86yCNTx/GZYd0/tU0o4Oenl49kVJ9O3DN7Ne9u3MsVY/vwk8tHNHmzrbaQl52h0xYTKKpCN7OJwK8BP/Cwc+5njd4/H/grsDny0izn3I8SF1NETuTncz9g3tpSfnL5iCbLvKGrxxUweXRvqmrDdDzBLW7bQsfMjGNWOpL4NFvoZuYHHgA+B+wAFpnZbOfcmkab/tM5d3ErZBSRE5i5cBsz3t7E1DP6cd2EflH9mswM/9H1Pb2UE/JTXql1RRMlmguLxgMbnHObnHNVwExgcuvGEpHmOOeY/tZG7p61knOH5PP9i9v2LJVEyAkFKK9qeoFpabloCr03sL3B8x2R1xo7w8yWm9mrZnZKQtKJSJNqw44fvrSGn736ARef2ouHbhjbavdcaU05wQDllTW6hW6CRDOH3tTRksZ7fwnQzzl3yMwuAl4EBn/qg8xuBm4GKCgoaFlSEQHqLhb65rPLeGXFR9x09gD+70XD8fm8OagZr5xQgLCDiuowWUHvp4BSXTT/pO8A+jZ43gcoabiBc67MOXco8ngOkGFmn1rWxDk3wzlX5Jwrys/PjyO2SPtUG3Z867nlvLLiI747aRj/dXFhypY5QG6orsQ17ZIY0RT6ImCwmQ0wsyAwBZjdcAMz62mR857MbHzkc/cmOqxIe7HwpRlcet+rfPnh95i3djdQV+Z3/nk5Ly0v4a6Jw7jlvEEep4xfdrBukqC8UoWeCM1OuTjnaszsNuA16k5bfNQ5t9rMpkXenw5cAXzDzGqAI8AUp0kxkZgsmPs0py++kymZ1/DAnqv4ymOLOOvkrlTXOBZu2ce3PzeEb5yf+mUOHL23zCEVekJEdR56ZBplTqPXpjd4/Dvgd4mNJtL+7Nu7h8ELvsumwCCu/NYvucKfyZMLtjLj7Y0EfD5+9sWRTBmfPsefciOFfrhKpy4mgq4UFUkiK5+9l/P4mMOX/YmMUN0qPl87ewBfO3uAx8laR3ZkDl0j9MRIvfOcRNLU5vVrmLBrJss7f56+I872Ok6bqB+haw49MVToIkmi9IW7cGb0u+oXXkdpM/Vz6Id1tWhCqNBFksCCuU8z/vDbrBlwI3m90nN6pSk5QU25JJIKXcRjq957neHv3snmwEBGTbnH6zhtKkdTLgmlg6Iiraz41T/Sqfi3FNRsZZe/B7v7TqLb2EupCRul7zzO2N2z2OPLp8NXniMQORDaXmT4fQQDPsp1lktCqNBFWkl1dRWLHvw6Z+57ka2+vizp8SVy9r/PmC0P49v6EAD9nJ/lXS5kyPX307FL263nmUxygn6N0BNEhS7SCmpra1n82+s5s2wui076MmNuvJ9+gbp7j+/Yvo2S5X/H5zP6n3YBRb2iu+VtusoOBjhSrRF6IqjQRVrB/Cfv4ZyyuRT3v4VxXzn2rJU+fQvo0/drHiVLPpkZPhV6guigqEiCvb/0n0zY/HuWdziPoqk/9zpO0ssK+qnQHHpCqNBFEqj80EGyZk+jzDoy8MaHwKO1OlNJZsBPRY0KPRFU6CIJtPyRW+nvdrDngl/RoXP7PMjZUllBP0c0Qk8IFbpIgsz/8684c/9fWdT7eoadc7nXcVJGKODnSHXY6xhpQQdFRRLgX0/9iLM33MeazDGcNvU+r+OklKygn0odFE0IFbpIHFw4zDuP3MnZHz7M8txzKbz9OQLBkNexUkqWznJJGBW6SBNqqqtYX/wPDm5bgfn8dDl5HINGn3fMQc7q6iqKH/w6Z+97kcWdL+K0W5/AFznXXKKXmeFXoSeICl2kkVX/epkur3+L4W73Jy+uhvVzhlI54Q4Kz7+avbtLKHniRs6oKGbhSdcz7qbfYD4dkopFVoafChV6QqjQRRpYPm8Ww9+8iZ3+niwedz99Rp1PbU0tWxa8QP/3ZzD4X7dS/q9v08VV0gk/xSN/wPgrvu117JSWmeGnojpMOOxSesHrZKBCF4ko3bWdvvPu4EN/H7re8QYFed2OvndSvzuprLqDRa8/S83GtyAzj4J/u5Gigad4mDg9ZGbU3UK3siZMVuR2uhIbFboI4Jxj6xO3cqo7wqGrHqNjgzKvFwqGGDfpBuCGtg+YxrIy6qaqKqprVehx0qSfCFA85xGKyt9i6aBpFAwb63WcdqV+hK4Do/FToUu7t+vDTQxZ9APWBYZQdO29Xsdpd+pH5Sr0+KnQpV0r2bKW8kcuJ8PVkH31I/h12mGbqx+h60yX+GkOXdqlmuoqFv3pXkZvegiHsemzMxgx+FSvY7VLKvTEUaFLu3Ok/CAbf30xZ1QtY0nuOZw05X5G9D3Z61jtVlb9HHqV7ucSr6imXMxsopmtNbMNZnb3CbYbZ2a1ZnZF4iKKJNbq6TdQWLmchaP+mzF3vkxPlbmnsjRCT5hmC93M/MADwCSgELjGzAqPs93PgdcSHVIkUZb+/U8UHXyDhf1vYfzlt3sdR6hbsQh0UDQRohmhjwc2OOc2OeeqgJnA5Ca2ux14HtjdxHsinis/+DG93vk+W3wFjL3uh17HkQidtpg40RR6b2B7g+c7Iq8dZWa9gcuB6YmLJpJYK566i57soWLifWQEM72OIxGhyAi9skZz6PGKptCburmCa/T8fuAu59wJ/4k1s5vNrNjMiktLS6OMKBK/Dxa9zvidM1nY5VKGjf+813GkgVAgcum/Ruhxi+Yslx1A3wbP+wAljbYpAmZa3a1FuwEXmVmNc+7Fhhs552YAMwCKiooa/6Mg0ioO7NlJ7pxbKbVuDJ/6a6/jSCOhgEboiRJNoS8CBpvZAOBDYApwbcMNnHMD6h+b2R+BlxuXuYgXNq9+D56/mZPCe9h00dP07NTF60jSSH2hV6nQ49ZsoTvnaszsNurOXvEDjzrnVpvZtMj7mjcXzy2d+xi+FTMxF6YqVFfanQ+uZ1DtRg6Qy7oLHmLkhAs9TilNMTOCAZ9G6AkQ1YVFzrk5wJxGrzVZ5M65r8QfSyR67z39Iyasv48d1pMKXzbdj2zCCFMa7MO7/b5J4cW3MbJLd69jygmEAj4qazSHHi9dKSpJz4XDvD//JSoO7KLwguvIzMo5+t7m1Qs5bd39LMk5i5HfepGMjODR93p4EVZiEgr4NUJPABW6JDUXDrPowZsYX/o8AFuX/Ibg1Ofp1W8o1VWV1M6axkHLpf9XHj6mzCW1hAI+KqtV6PHS3RYlqRU//0vGlz7P/O5TWHrWg+SF9+F/bCLb1i1jycO3c3LtRrac/hO6dD/J66gSh1CGplwSQSN0SVofbVrNKat+wYrMMZx+y+/x+f1s7DmITs9fRZ+nz6fAHO/mX8kZE6/3OqrESVMuiaFCl6RUW1NN2TM3kYOf/Osewuevu/hk0MgJ7Mh+lffm/hK6DmL8FXd6nFQSIaSzXBJChS5JafHj32F89RreO+1nTCg49m6IfQYV0ufWhz1KJq2hbg5dUy7x0hy6JJ1lrz5K0bbHeK/TJMZPnuZ1HGkDoQxNuSSCCl2SyrJXH2HEgm/zQbCQEV+fQeR2EpLmNOWSGCp0SRor/vEkIxd8m7XBQvre/go5uR29jiRtRBcWJYYKXZLChiVvMPSf32J9xhAKbn+ZDh07ex1J2lBQ56EnhApdPFddeYTgy7ezz/LIv+WvKvN2SKctJoYKXTy39Jl7KQjv4KNzfkrX/F5exxEPaMolMVTo4qmSDSsYvflhFuWez5gLrvI6jnik7kpRjdDjpUIXz4Rra/n4uX/nCCH6Xftbr+OIh0IBP1U1YZzTujfxUKGLZxY/+xOGV61k9ci76H5SgddxxENatSgxVOjiidVvPsuotfezOOtMzvji7V7HEY+p0BNDl/5Lm6qtqWbJE3cxduujbPQPZODXn8R8Gle0d6GMyELRNbVAhrdhUpgKXdrMnpJN7Pnj9YyrWsWCTpM45abpdOiY53UsSQJHR+g6Fz0uKnRpE6vefJY+b32bvq6aBaf9DxMmf0OX9ctRmnJJDBW6tC7nKP7TvRStv5/1voEErv4jpw8d5XUqSTKhQN2US5UKPS4qdGlVS1/8FUXr72dhzvmMuPVpsrNzvY4kSSiUUT9C18VF8VChS6vZ99EWhi/7KctDYxjzrecJBPTHTZqmKZfE0OkF0mo2zfohPsLkXf2AylxOqH7KRYUeHxW6tIqK8jIKS19hcd6F9BtU6HUcSXKfnOWiKZd4qNClVXwwbybZVJI9Xgs4S/MyMzTlkggqdGkVgVXPUUJ3Rpx+oddRJAVoyiUxoip0M5toZmvNbIOZ3d3E+5PNbIWZLTOzYjM7O/FRJVUc2LWN4YeL2dTrIvx+v9dxJAV8clBUUy7xaLbQzcwPPABMAgqBa8ys8aTo68Ao59xo4EZAS7K3YxveeBy/OXqcM9XrKJIijo7QdaVoXKIZoY8HNjjnNjnnqoCZwOSGGzjnDrlP7nuZA+gemO1Yl42zWOsfzMnDT/M6iqSIkObQEyKaQu8NbG/wfEfktWOY2eVm9gHwCnWj9E8xs5sjUzLFpaWlseSVJLfjg0UMrNnE7gGX69J+iVrQrymXRIim0Jv6W/mpEbhz7gXn3DDgMuDHTX2Qc26Gc67IOVeUn5/foqCSGna+OZ1Kl8GwzzX5b7pIk3w+I+jXqkXxiqbQdwB9GzzvA5Qcb2Pn3NvAIDPrFmc2STFVRw4xZNerLOtwLvk9tDaotEww4NMcepyiKfRFwGAzG2BmQWAKMLvhBmZ2skX+f21mY4AgsDfRYSW5rZ47g46UExz3Va+jSArSQtHxa/Z6bOdcjZndBrwG+IFHnXOrzWxa5P3pwJeAG8ysGjgCXO20OGC7UnWknJNWPMD7/qGMOvsLXseRFFRX6BqhxyOqG2w45+YAcxq9Nr3B458DP09sNEklK578T4rcHkrOvx+fX9erScuFMvwq9Djpb57EbcWcP1BU8ifeyZvMaedc4nUcSVGhgE/3comTCl3isn7hXIa9911WZpzKmFv+4HUcSWGacomfCl1itmXFv+g556uU+Hpx0i1/ISsry+tIksJCAb8OisZJhS4x2bZmAZ1nXU0ZufhveIGu3Xp4HUlSXChDI/R4qdClRVxtDcvnPESX5y7jCJnUXD+bvgOGeB1L0kBI56HHTcvISFQ+Lt3B2pfup//2WYxye/nAP5Tc65+iX3+VuSRGKOCnqlaFHg8VujRrzZsz6ffWNylylazIHMvmU7/H6M9eRyiU6XU0SSO6sCh+KnQ5oc1L53HyvH9nc2AggSsfZvSw0V5HkjQVytCUS7xU6HJcZXtKyJl9I7utG12nvUK3fB34lNZTd5aLCj0eOigqTQrXVPPhw9fQMVxG2aWPqsyl1YUCPip0YVFcVOjyac6xfMbNDK9YxqIR36dwjFYUlNZXf2GRbgMVOxW6HKPi0H6WTL+J03bP4q3uX+bsK+7wOpK0E6GMumXodKZL7DSH3s5tXz2fA6/cy0mH15Ljysm0asYA/+x6FWfd/GutOiRtpn6h6Irq8NE1RqVlVOjt2Kbiv3HSS9eSZdlsyDub2lAeLphLp5ETOWf8v3kdT9qZ+hF63amLGd6GSVEq9HZq+/vvkf/yVHb78gnd/BoTehV4HUnauczICF2nLsZOc+jt0M61i8h59grKyYIbXqSHylySwLEjdImFCr0dceFaip//JTnPXEIVGZRfPYuCAUO9jiUCHDuHLrHRlEs7se/D9ex64msUVS5nVXAUnaY8xKCBKnNJHpkaocdNhd4ObF/zLrnPXUVfV838Efdw+hf/Q8vESdIJaQ49bir0NLd76/t0eu4Kyslkz9WzObPwNK8jiTTpaKHr8v+YaZiWxsJVFRx+8lqccxya8iKDVeaSxOqnXHT5f+xU6GmseNZ99K/ZxIpxP2PwsJFexxE5IY3Q46dCT1PlZfs5+YPprAqO5uwvXO91HJFm6aBo/FToaWrVrJ/RhTL8n79Hl+9LStBpi/FToaehg/t3UbjlcRZnncXwIl3CL6lBFxbFL6pCN7OJZrbWzDaY2d1NvH+dma2IfM03s1GJjyrRWvvnH5HtKuhw0Q+9jiISNV36H79mC93M/MADwCSgELjGzAobbbYZOM85dyrwY2BGooNKdA7s3MLID59lYcfPM2TkOK/jiEQt4Pfh9xkVGqHHLJoR+nhgg3Nuk3OuCpgJTG64gXNuvnNuf+TpAqBPYmNKtLa9cA9GmO6X3ON1FJEWCwW0rmg8oin03sD2Bs93RF47nq8Br8YTSmJTvmsThbtm889OlzJoyClexxFpscwMrSsaj2iuFG3qFIkm14gys89QV+hNrllmZjcDNwMUFOgOf4m25aWfMdgZPSbd5XUUkZhoXdH4RDNC3wH0bfC8D1DSeCMzOxV4GJjsnNvb1Ac552Y454qcc0X5+fmx5JXjqPx4F4N2vMD87AsYMXy413FEYlK/rqjEJppCXwQMNrMBZhYEpgCzG25gZgXALOB659y6xMcUgNJta/lwy/om31v30i/JpIrcC/5PG6cSSZzMDL9G6HFottCdczXAbcBrwPvAc8651WY2zcymRTb7AdAV+L2ZLTOz4lZL3E6tff0Jujwyge6PTeCdV5485r3aioP02/AUCzJOZ+zY0z1KKBI/jdDjE9XdFp1zc4A5jV6b3uDxTcBNiY0m9WorDtHjn99jg38gQV+YwQu/T+npk8jv2g2A91/5HSM4hDvrm7oqVFJaKODXhUVx0JWiKWDd3AfIo4x95/yY0GW/pbvtZ+WzdRcNuZoquq96hBX+QiacO8njpCLxCWX4dOl/HHQ/9GQXDtN55WMst2GMO3cSAb+Pla9/jjN2zWTL5jsoX/5XTnGlrB37I3w+jc4ltYUCfvbUVHkdI2VphJ7kti78Kz1rP6K0cCqByCpDfb70U/yEOfz09fRZ9iuWB0Zy5oVTPE4qEr/MDJ+mXOKgQk9yh/81nVKXx7iJU4++1rnPENaO/QGDq9dxmEyyvvg7/FpSTtJAKODXlaJx0JRLEtu/bQ1DD77Hmz2/wgUdco55b+Sl3+TQ+dfTOZhNr8xMjxKKJFZII/S4qNCT2Iez/osgQQZO+maT7+d27NLGiURaV6ZG6HHR/9OT1MZ5TzHiwOu82+NaBvQf4HUckTYRyvDpbotxUKEnof07PqDHvDtZ4xvM+Kk/8TqOSJsJBXxU1zpqw03eLkqaoUJPMuGqCg488WVqneG/6o90zMlp/heJpIn6dUWrdLVoTFToSWblU3cyoGo9S8f8N0OHjfA6jkib+mRdUU27xEKFnkS2LZ7LyK1PMq/DJZx36Ve9jiPS5kKB+nVFNUKPhQo9SdRWHib0yu1ss16M+OpvdE8WaZeygnWVdEQj9Jio0JPEmlk/pUd4NzvO/h+6ddHpiNI+ZUXm0I9UqdBjoUJPAhUHdjFo7UPMD57FWRdMbv4XiKSprGDdpTFHqms8TpKaVOhJYP3LvyKbCrIu/IGmWqRd+2SErjn0WKjQPRauOETBhqdYkDGB0WMmeB1HxFPZwbpCP1ylEXosVOgeW/fmk3TiIDWn36rRubR79eeh66BobFToXlv5HNvowfhzL/Y6iYjn6kfoOigaGxW6h8p2bWVI+VI29vwCwcjIRKQ9y9IIPS4qdA9tfOMxfObodc7U5jcWaQeyjs6hq9BjoUL3inN02fgCq/3DGFo4yus0IkkhFPDhM136HysVukc+XLuIfjVb2DfoMh0MFYkwM7Iy/Bqhx0iF7pGd/3ycKudn8L/d4HUUkaSSFQxoDj1GKnQPuNoa+pW8wvKs8fTs2dvrOCJJJSvo01kuMVKhe2DLolfp5vZTMfxKr6OIJJ3sjIAKPUYqdA8cWvgUH7scRn5GhS7SWGbQz2FNucQkqkI3s4lmttbMNpjZ3U28P8zM3jWzSjP7z8THTB+1h/YyeN8bLOl0AXkdO3odRyTpZGf4qdAIPSbNFrqZ+YEHgElAIXCNmRU22mwfcAfwvwlPmGY2/2MGmVThH/c1r6OIJKWsoJ/DuttiTKIZoY8HNjjnNjnnqoCZwDH3eHXO7XbOLQKqWyFj+giH6bDqCZbYcE4/41yv04gkpaygX3PoMYqm0HsD2xs83xF5rcXM7GYzKzaz4tLS0lg+IqXtXPoqPWpK2DnkywQDOnwh0pTsDBV6rKJplaauenGx/DDn3AznXJFzrig/Pz+Wj0hpH7/9IHtcR4om6txzkePJCQU4VKkpl1hEU+g7gL4NnvcBSlonTvo6vHszJx/4F4u7Xkr3zjoYKnI8uaEA5VW1OBfTuLFdi6bQFwGDzWyAmQWBKcDs1o2VfjbO/R0AvS74hsdJRJJbbmaA2rDT1aIxCDS3gXOuxsxuA14D/MCjzrnVZjYt8v50M+sJFAMdgbCZ/QdQ6Jwra73oKaS2hj6b/8LCjPGcXniK12lEklqHzLpaOlRRQ3aw2YqSBqLaW865OcCcRq9Nb/B4J3VTMdKEHUvn0scd4NDwq3QjLpFm5Ibqaqmsoobump1sEZ1q0Qb2vfs0ZS6b0y7QlaEizTk6QteB0RZTobe26goG7X2Tpbnn0i2vk9dpRJJeh8wMAA5W6LKWllKht7LSNfPI4QiVgy/yOopISqifcjlUoRF6S6nQW1npsrlUOT8Diy70OopISqgv9IOacmkxFXoryyl5h9W+oQzq3cPrKCIpoX4O/aBG6C2mQm9FruowvSs3sLfrWJ3dIhIlTbnEToXeinavLyZAmEDfsV5HEUkZAb+PrAy/DorGQIXeivasWwBA/tAzPE4iklpyM3U/l1io0FtR+MMl7HZ5nDzoZK+jiKSUDpkBzaHHQIXeirocWMXm4BBCGbp8WaQlOmVlcOBIldcxUo4KvZWEj3xMr+odHOx6qtdRRFJO15wQew+p0FtKhd5Kdq59D585MnRAVKTFuuUG2VuuQm8pFXor2b++7oBor+FnepxEJPV0zQ2yr7yKcFj3RG8JFXprKVnGDpfPwH4FXicRSTldc0LUhh1lOnWxRVToraRb2Wq2Zg4l4NcuFmmprrlBAPZoHr1F1DatoOZgKT1qd3K4mw6IisSia04IgL2HKj1OklpU6K2gZM18ALL6jfM4iUhqqh+h79OB0RZRobeCsvXzqXVGnxFnex1FJCUdnXJRobeICr0VBHcuYb0V0K9XvtdRRFJSl+wgfp+x8+MjXkdJKSr0RAuHOal8NR/mjNAdFkViFPD76Ns5iy17D3sdJaWo0BPs8EdryHXlVPXUBUUi8ejXNYcte8q9jpFSVOgJtm3ZmwB0H675c5F4DOhWV+jO6eKiaKnQE8yt/wc7XRdOOVUjdJF49O+aTXlVrc5FbwEVegK5mir6HljImpzxZAZ1h0WRePTvlgPAxtJDHidJHSr0BNpW/DK5HMY3dJLXUURS3ojenQBYtv2At0FSSFSFbmYTzWytmW0ws7ubeN/M7DeR91eY2ZjER01+R+Y/TKnrxKmfudLrKCIpr1tuiIH5ObyzYY/XUVJGs4VuZn7gAWASUAhcY2aFjTabBAyOfN0MPJjgnElv58p5DCt7h2XdL6dLxxyv44ikhc8X9uTdjXvZVVbhdZSUEM0IfTywwTm3yTlXBcwEJjfaZjLwhKuzAMgzs14JzpqUXLiWTYteIzDrq5S4boy46vteRxJJG9eOr7tb6XdnrdSdF6MQzZG73sD2Bs93ABOi2KY38FFc6ZqwYt7zdHr7HqDuVCY7ekpT5HnkmeFwke80+F6/acPXj92uwUafev2Tz6h/PccdYaBVsosu7L7kCUbnd0vEb1NEgIKu2fzgkkLumb2aMT/6O11zg+QEAw3/otL48r2GF/Ql66V9V4/ry03nDEz450ZT6E3tk8YnhkazDWZ2M3VTMhQUxHaf8GBOJ/ZmD4z8AKv/4GNjNH6OgdVtbzT4fjR1/fPoPqfh9jW+TKzXqQw5/zpGd+4c0+9JRI7vhjP6M7pvHq+t3smeg1WUV32yePSnSuaYcVvynr/eLTfUKp8bTaHvAPo2eN4HKIlhG5xzM4AZAEVFRTHt7WHjPgvjPhvLLxWRFHVqnzxO7ZPndYykF80c+iJgsJkNMLMgMAWY3Wib2cANkbNdTgc+ds4lfLpFRESOr9kRunOuxsxuA14D/MCjzrnVZjYt8v50YA5wEbABOAx8tfUii4hIU6K6nNE5N4e60m742vQGjx1wa2KjiYhIS+hKURGRNKFCFxFJEyp0EZE0oUIXEUkTKnQRkTRhXq0GYmalwNZW/BHdgGS9TZuyxUbZYqNssUvGfP2cc02uQO9Zobc2Myt2zhV5naMpyhYbZYuNssUu2fM1pikXEZE0oUIXEUkT6VzoM7wOcALKFhtli42yxS7Z8x0jbefQRUTam3QeoYuItCtpVehm9v/M7IPIQtUvmFle5PX+ZnbEzJZFvqY381Ftli3y3ncjC2yvNbMLPch2pZmtNrOwmRU1eN3z/XaifJH3PN13jbLca2YfNthfF3mZJ5LphAu8e8nMtpjZysi+KvY4y6NmttvMVjV4rYuZ/d3M1ke+J/8KNs65tPkCPg8EIo9/Dvw88rg/sCpJsxUCy4EQMADYCPjbONtwYCgwDyhq8Lrn+62ZfJ7vu0Y57wX+0+v91SCPP7JPBgLByL4q9DpXg3xbgG5e54hkORcY0/DPO/AL4O7I47vr/84m81dajdCdc39zztWvT7WAupWTksIJsk0GZjrnKp1zm6m7p/z4Ns72vnNubVv+zJY4QT7P912Si2aBdwGcc28D+xq9PBl4PPL4ceCytswUi7Qq9EZuBF5t8HyAmS01s7fM7ByvQkU0zHa8BbaTRTLtt8aScd/dFplWezQJ/ouejPunIQf8zcwWR9YbTjY9XGTltcj37h7naVZUC1wkEzP7B9Czibe+55z7a2Sb7wE1wNOR9z4CCpxze81sLPCimZ3inCtLgmxRLbDdFtma0Cb7LY58bbLvjvmBJ8gJPAj8OJLhx8B91P3j7ZU23z8tdJZzrsTMugN/N7MPIiNliVHKFbpz7oQrRJvZVOBi4AIXmfxyzlUClZHHi81sIzAESOiBmFiyEeUC262d7Ti/pk32W+TzY1n5u032XUPR5jSzh4CXWzNLFNp8/7SEc64k8n23mb1A3RRRMhX6LjPr5Zz7yMx6Abu9DtSctJpyMbOJwF3Apc65ww1ezzczf+TxQGAwsCkZslG3wPYUMwuZ2YBItoVtme14kmG/NSOp9l3kL329y4FVx9u2jUSzwLsnzCzHzDrUP6bupAGv91djs4GpkcdTgeP9TzF5eH1UNpFf1B0U2w4si3xNj7z+JWA1dUf5lwCXJEu2yHvfo+5shLXAJA+yXU7daK4S2AW8liz77UT5kmHfNcr5JLASWEFdGfTyMk8k00XAusg++p7XeRrkGhj5c7U88mfM02zAM9RNMVZH/qx9DegKvA6sj3zv4vV+a+5LV4qKiKSJtJpyERFpz1ToIiJpQoUuIpImVOgiImlChS4ikiZU6CIiaUKFLiKSJlToIiJp4v8DL8F4bxzW2cUAAAAASUVORK5CYII=\n",
      "text/plain": [
       "<Figure size 432x288 with 1 Axes>"
      ]
     },
     "metadata": {
      "needs_background": "light"
     },
     "output_type": "display_data"
    }
   ],
   "source": [
    "%matplotlib inline\n",
    "plt.plot(xdos, new_train_ldos[0])\n",
    "plt.plot(xdos[:474], opt_shifted_train_preds[0])"
   ]
  },
  {
   "cell_type": "markdown",
   "id": "f5d9ef27",
   "metadata": {},
   "source": [
    "### Evaluate the equivalent shift using normal ldos"
   ]
  },
  {
   "cell_type": "code",
   "execution_count": 1212,
   "id": "c9300e10",
   "metadata": {
    "ExecuteTime": {
     "end_time": "2023-04-13T10:55:06.995570Z",
     "start_time": "2023-04-13T10:54:05.001397Z"
    }
   },
   "outputs": [
    {
     "name": "stderr",
     "output_type": "stream",
     "text": [
      "100%|████████████████████████████████████████████████████████████████████████████████████████████████████████████████████████████████████████████████████████████████████████████| 831/831 [01:01<00:00, 13.43it/s]\n"
     ]
    }
   ],
   "source": [
    "##Generate individual xdos, ldos\n",
    "new_train_ldos = []\n",
    "\n",
    "sigma = torch.tensor(0.3)\n",
    "ndos = 778\n",
    "\n",
    "emin = -24.5537 - 1.5\n",
    "emax = 11.3464 + 1.5\n",
    "x_dos = torch.linspace(emin, emax, 778)\n",
    "for j, i in enumerate(tqdm(train_index)):\n",
    "    \n",
    "    l_dos = torch.sum(torch.exp(-0.5*((x_dos + best_state1[j] - full_eigen_energies[i].view(-1,1))/sigma)**2), dim = 0)\n",
    "    new_train_ldos.append(l_dos[:474])\n",
    "\n",
    "new_train_ldos = torch.vstack(new_train_ldos)\n",
    "new_train_ldos = ((new_train_ldos.T * normalization[train_index] ).T)* 2"
   ]
  },
  {
   "cell_type": "code",
   "execution_count": 1213,
   "id": "b8924610",
   "metadata": {
    "ExecuteTime": {
     "end_time": "2023-04-13T10:55:20.648635Z",
     "start_time": "2023-04-13T10:55:07.015395Z"
    }
   },
   "outputs": [
    {
     "name": "stderr",
     "output_type": "stream",
     "text": [
      "100%|████████████████████████████████████████████████████████████████████████████████████████████████████████████████████████████████████████████████████████████████████████████| 208/208 [00:13<00:00, 15.29it/s]\n"
     ]
    }
   ],
   "source": [
    "##Generate individual xdos, ldos\n",
    "new_test_ldos = []\n",
    "\n",
    "sigma = torch.tensor(0.3)\n",
    "ndos = 778\n",
    "\n",
    "emin = -24.5537 - 1.5\n",
    "emax = 11.3464 + 1.5\n",
    "x_dos = torch.linspace(emin, emax, 778)\n",
    "for j, i in enumerate(tqdm(test_index)):\n",
    "    \n",
    "    l_dos = torch.sum(torch.exp(-0.5*((x_dos + test_align[j]- full_eigen_energies[i].view(-1,1))/sigma)**2), dim = 0)\n",
    "    new_test_ldos.append(l_dos[:474])\n",
    "    \n",
    "new_test_ldos = torch.vstack(new_test_ldos)\n",
    "new_test_ldos = ((new_test_ldos.T * normalization[test_index] ).T)* 2"
   ]
  },
  {
   "cell_type": "code",
   "execution_count": 1204,
   "id": "0ac9bd65",
   "metadata": {
    "ExecuteTime": {
     "end_time": "2023-04-13T10:52:25.723818Z",
     "start_time": "2023-04-13T10:52:25.693294Z"
    },
    "scrolled": true
   },
   "outputs": [
    {
     "ename": "NameError",
     "evalue": "name 'shifted_train_preds' is not defined",
     "output_type": "error",
     "traceback": [
      "\u001b[0;31m---------------------------------------------------------------------------\u001b[0m",
      "\u001b[0;31mNameError\u001b[0m                                 Traceback (most recent call last)",
      "Input \u001b[0;32mIn [1204]\u001b[0m, in \u001b[0;36m<cell line: 3>\u001b[0;34m()\u001b[0m\n\u001b[1;32m      1\u001b[0m plt\u001b[38;5;241m.\u001b[39mplot(xdos, ldos[train_index[\u001b[38;5;241m1\u001b[39m]], c\u001b[38;5;241m=\u001b[39m \u001b[38;5;124m'\u001b[39m\u001b[38;5;124mb\u001b[39m\u001b[38;5;124m'\u001b[39m)\n\u001b[1;32m      2\u001b[0m plt\u001b[38;5;241m.\u001b[39mplot(x_dos, new_train_ldos[\u001b[38;5;241m1\u001b[39m], c\u001b[38;5;241m=\u001b[39m \u001b[38;5;124m'\u001b[39m\u001b[38;5;124mg\u001b[39m\u001b[38;5;124m'\u001b[39m)\n\u001b[0;32m----> 3\u001b[0m plt\u001b[38;5;241m.\u001b[39mplot(xdos, \u001b[43mshifted_train_preds\u001b[49m[\u001b[38;5;241m1\u001b[39m], c\u001b[38;5;241m=\u001b[39m \u001b[38;5;124m'\u001b[39m\u001b[38;5;124mr\u001b[39m\u001b[38;5;124m'\u001b[39m)\n",
      "\u001b[0;31mNameError\u001b[0m: name 'shifted_train_preds' is not defined"
     ]
    }
   ],
   "source": [
    "plt.plot(xdos, ldos[train_index[1]], c= 'b')\n",
    "plt.plot(x_dos, new_train_ldos[1], c= 'g')\n",
    "plt.plot(xdos, shifted_train_preds[1], c= 'r')"
   ]
  },
  {
   "cell_type": "code",
   "execution_count": null,
   "id": "8f55b9ac",
   "metadata": {
    "ExecuteTime": {
     "end_time": "2023-04-03T14:32:44.441794Z",
     "start_time": "2023-04-03T14:32:44.359048Z"
    }
   },
   "outputs": [],
   "source": [
    "%matplotlib notebook\n",
    "plt.plot(xdos, ldos[test_index[0]], c= 'b')\n",
    "plt.plot(xdos, new_test_ldos[0].detach(), c= 'g')\n",
    "plt.plot(xdos, shifted_test_preds[0], c= 'r')"
   ]
  },
  {
   "cell_type": "code",
   "execution_count": 1217,
   "id": "ffda61f9",
   "metadata": {
    "ExecuteTime": {
     "end_time": "2023-04-13T10:56:20.966889Z",
     "start_time": "2023-04-13T10:56:20.920039Z"
    }
   },
   "outputs": [
    {
     "name": "stdout",
     "output_type": "stream",
     "text": [
      "Using Spline shifts, Train_rmse:8.16759, Test_rmse 9.66818\n"
     ]
    }
   ],
   "source": [
    "# shifted_target = shift_coeffs(new_train_ldos, emin, emax, best_state1) \n",
    "# shifted_reg_target = torch.vstack([shifted_target, torch.zeros(n_col,new_train_ldos.shape[1])])   \n",
    "shifted_reg_target = torch.vstack([new_train_ldos, torch.zeros(n_col,new_train_ldos.shape[1])])\n",
    "\n",
    "shifted_weights = torch.linalg.lstsq(reg_features.double(), shifted_reg_target, driver = \"gelsd\").solution\n",
    "\n",
    "shifted_train_preds = Features.double() @ shifted_weights\n",
    "shifted_test_preds = t_Features.double() @ shifted_weights\n",
    "\n",
    "train_rmse = loss.t_get_rmse(shifted_train_preds, new_train_ldos, xdos[:474], perc = True)\n",
    "test_rmse = loss.t_get_rmse(shifted_test_preds, new_test_ldos, xdos[:474], perc = True)\n",
    "\n",
    "print (\"Using Spline shifts, Train_rmse:{:.6}, Test_rmse {:.6}\".format(train_rmse, test_rmse)) "
   ]
  },
  {
   "cell_type": "code",
   "execution_count": 1220,
   "id": "35420a25",
   "metadata": {
    "ExecuteTime": {
     "end_time": "2023-04-13T10:56:35.293673Z",
     "start_time": "2023-04-13T10:56:35.178224Z"
    }
   },
   "outputs": [
    {
     "data": {
      "text/plain": [
       "[<matplotlib.lines.Line2D at 0x7fe99433cdf0>]"
      ]
     },
     "execution_count": 1220,
     "metadata": {},
     "output_type": "execute_result"
    },
    {
     "data": {
      "image/png": "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\n",
      "text/plain": [
       "<Figure size 432x288 with 1 Axes>"
      ]
     },
     "metadata": {
      "needs_background": "light"
     },
     "output_type": "display_data"
    }
   ],
   "source": [
    "plt.plot(xdos, ldos[train_index[0]], c= 'b')\n",
    "plt.plot(xdos[:474], new_train_ldos[0], c= 'g')"
   ]
  },
  {
   "cell_type": "code",
   "execution_count": null,
   "id": "8221161b",
   "metadata": {},
   "outputs": [],
   "source": [
    "10.5, 17.4"
   ]
  },
  {
   "cell_type": "code",
   "execution_count": 32,
   "id": "ce91bb70",
   "metadata": {
    "ExecuteTime": {
     "end_time": "2023-04-01T21:29:13.493990Z",
     "start_time": "2023-04-01T21:29:13.382702Z"
    }
   },
   "outputs": [
    {
     "data": {
      "text/plain": [
       "[<matplotlib.lines.Line2D at 0x7f41802fd370>]"
      ]
     },
     "execution_count": 32,
     "metadata": {},
     "output_type": "execute_result"
    },
    {
     "data": {
      "image/png": "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\n",
      "text/plain": [
       "<Figure size 432x288 with 1 Axes>"
      ]
     },
     "metadata": {
      "needs_background": "light"
     },
     "output_type": "display_data"
    }
   ],
   "source": [
    "plt.plot(xdos, shifted_test_preds[0], c= 'r')\n",
    "plt.plot(xdos, new_test_ldos[0].detach(), c= 'b')"
   ]
  },
  {
   "cell_type": "code",
   "execution_count": 67,
   "id": "cc4a1f02",
   "metadata": {
    "ExecuteTime": {
     "end_time": "2023-04-04T15:20:52.256472Z",
     "start_time": "2023-04-04T15:20:52.158850Z"
    }
   },
   "outputs": [
    {
     "name": "stdout",
     "output_type": "stream",
     "text": [
      "No shifts, Train_rmse:10.9057, Test_rmse 12.4247\n"
     ]
    }
   ],
   "source": [
    "# original_target = shift_coeffs(ldos[train_index], emin, emax, best_state1) \n",
    "# original_reg_target = torch.vstack([original_target, torch.zeros(n_col,ldos.shape[1])])   \n",
    "\n",
    "\n",
    "original_reg_target = torch.vstack([ldos[train_index], torch.zeros(n_col,ldos.shape[1])])\n",
    "\n",
    "original_weights = torch.linalg.lstsq(reg_features.double(), original_reg_target, driver = \"gelsd\").solution\n",
    "\n",
    "original_train_preds = Features.double() @ original_weights\n",
    "original_test_preds = t_Features.double() @ original_weights\n",
    "\n",
    "train_rmse = loss.t_get_rmse(original_train_preds, ldos[train_index], xdos, perc = True)\n",
    "test_rmse = loss.t_get_rmse(original_test_preds, ldos[test_index], xdos, perc = True)\n",
    "\n",
    "print (\"No shifts, Train_rmse:{:.6}, Test_rmse {:.6}\".format(train_rmse, test_rmse))"
   ]
  },
  {
   "cell_type": "code",
   "execution_count": 248,
   "id": "0c0ce608",
   "metadata": {
    "ExecuteTime": {
     "end_time": "2023-04-01T21:17:16.226372Z",
     "start_time": "2023-04-01T21:17:16.120940Z"
    }
   },
   "outputs": [
    {
     "data": {
      "text/plain": [
       "[<matplotlib.lines.Line2D at 0x7feaa3fe5d30>]"
      ]
     },
     "execution_count": 248,
     "metadata": {},
     "output_type": "execute_result"
    },
    {
     "data": {
      "image/png": "iVBORw0KGgoAAAANSUhEUgAAAXQAAAD8CAYAAABn919SAAAAOXRFWHRTb2Z0d2FyZQBNYXRwbG90bGliIHZlcnNpb24zLjUuMSwgaHR0cHM6Ly9tYXRwbG90bGliLm9yZy/YYfK9AAAACXBIWXMAAAsTAAALEwEAmpwYAAAu1klEQVR4nO3de5yM5f/H8ddnZw+zyzplRdgofKWSaqPSUQdUQoevQ0VRkvSNjtJRKtSvvh2clVSIzqkUpYNKhG9SQm0SixyW7K49zu71++Ma21rLzs7O7D0z+3k+HvOYw32b+ext973XXvd9XZcYY1BKKRX+opwuQCmlVGBooCulVITQQFdKqQihga6UUhFCA10ppSKEBrpSSkUInwJdRLqIyHoRSRWREYfY5zwRWSUia0Tkq8CWqZRSqjxS3nXoIuICfgUuAtKA5UAfY8wvJfapAywBuhhjNolIA2PMjqBVrZRS6iC+tNDbA6nGmA3GmHxgDtC91D59gXeMMZsANMyVUqrqRfuwT2Ngc4nnaUCHUvu0AmJE5EsgEXjOGPPq4d60fv36plmzZr5XqpRSipUrV+4yxiSVtc2XQJcyXivdTxMNnApcAMQD34nIUmPMrwe8kcggYBBAcnIyK1as8OHjlVJK7Scifx5qmy9dLmlA0xLPmwBby9jnE2PMPmPMLmAxcFLpNzLGTDXGpBhjUpKSyvwFo5RSyk++BPpyoKWINBeRWKA3MK/UPu8DZ4tItIgkYLtk1ga2VKWUUodTbpeLMcYjIkOBBYALmG6MWSMig73bJxtj1orIJ8BqoAh40RjzczALV0opdaByL1sMlpSUFKN96EopVTEistIYk1LWNh0pqpRSEUIDXSmlIoQGulJKRQgNdKVUlfn9dxg3DlaudLqSyOTLwCKllKq02bNh0CDYtw/i4mD1amjVyumqIou20JVSwVFYCPn5AEyaBNdcA6eeCsuWgQg8/7zD9UUgDXSllF927oSNG0u96PHAc8/Z5Ha7IS6OF+qPYsgQ6HaZYeFCaN8eunaFeaWHJ6pK00BXSvlm/friBJ81Cxo3hubN4aKLYNs2oKAAunWDYcNsn8qddzL+0vn8J/1hevIOb+V1Iy4rHYBzz4XNm2HLFse+moikga6UKt/EidC6NbRoweqnP6VfPzjzTHjiCViyBE47DX4YNAk++QQmTMB8u4RnGozlto+60qOHYe7E3cR+9SmccQb8+SennWbf9ocfnP2yIo2eFFVKHd4ff8Cdd8KFF8KePdw9wkXtWkW8+24UdevCJZdAt64FnDVjII+mNKD10b2Z1hPefx+uuAJef12Iib0RTmoDl14KZ51F6w++BZJZvx4uu8zpLzByaAtdKXV4//0vFBXByy+zcPA7LPR04sHj36VuXbv5pJPg+1Nu4cyoZdy1ojeXXQaLFsHYsfDmmxAb632fM8+Er76CjAzq3dKL+vUN69c79lVFJG2hK6UOLTcXZs6Enj0pbNSEu1+A5ok7GbK0H/zeDo49FpYto+FHL/HpI035tU8nduyAtm2hVq0y3q9tW5gwAa67jubH7mbTpiOq+iuKaNpCV0od2rx5sGcPDBzIjBn22vEx41zExRp48EHbcr/nHkhKgjvvpFUrOOusQ4T5fn37QosWNNm7hs2bD7OfqjBtoSulDm36dEhO5q82nbinN3TsCP8eXA/Shtszonv2wOLFMHUq1Kzp23tGRUHv3jR9bBWL8s5C25WBo0dSKVW2zZth4UL+7HE7l17uIjcXpkyxg4K47z644AJ7Vct//gM33lix9+7cmcakkZEZRVZWUKqvlrSFrlSky8wEY8rpBzlQXh7MHfY/ZppPWDT+IhIS4K234PjjvTvUrAmffWb72N3uitd06qnUlxlgID3d98a9OjxtoSsVyX780Y4AatrU5xmxFi2Cli0N/d/pzu/xJzBypPDTT3Z050H8CXOA+HiOSK4BwK5d/r2FOpgGulKRyhi45RbbRxITY0dwlmP2bOjcGRJlH5/QmdRpXzJ6NDRrFvjy6h9bG7AtdBUY2uWiVKT6/nv47js7M1ZWFtx9N6xdC8cdd8jdBwywV6l8ENOPxPzVcPVVQSvviOMawOeQvi0fiC13f1U+baErFalee812ifTtC9deCy4XvPJKmbvm5trZEBs1grefWE/iZ+/CrbeWGBUUeEe0rAfArj8yg/YZ1Y0GulKRKD8f5syB7t3tydCGDe3Q/TfftF0xpTzxBKSmwrSphiMeG27/zc03B7XEui3rIxSRvmlfUD+nOtFAVyoSffIJpKezu8cA5syBadNg47n9YcMGe6K0hLVr7TD9a6+FC9eNh48/hlGj7GChIIpOPoo6/M2uLXlB/ZzqRPvQlYpAayd8znPuGbw64CJycuxrLldvRstPjHj7HaRdO8CuQTFwICQmGp5u8iz85w64/HJ7bXmwNW5MfXaSvqMo+J9VTWgLXakIkp4O1/fNo83CZ5lR0Je+fYVly+xU5ldeKYw0T9DvhRTyvI3iJ56w502fO+VVGoy9w/a3v/GGHc0ZbHXqcITsYddujaFA0Ra6UhFiyxY4/3zYuCGaexnLnQsvJanTicXb58yBttnf8cCHl/PLydm0ODGBN96Aa1su45rPrrdT5D71lHcoaBUQ4Yj4bLZmNKiaz6sGfPrVKCJdRGS9iKSKyIgytp8nIntFZJX39lDgS1VKHUpuLvTsCdu2Gb5oMYixJ84m6fwTDthHBO5/tTVvuK8jM20vn31muKvtQl767Wzk3nurNsy9atcsJCM3pko/M5KV20IXERcwAbgISAOWi8g8Y8wvpXb92hijU9UrVcX2jx9avhzeHfUTHR+eXmLSlVLq1uXq4U25esxR0KYNrP7Fzsvy+ONVHuZg++4z0/0cbaoO4kuXS3sg1RizAUBE5gDdgdKBrpRywDPPwIwZ8PDD0OObu+DII6Ffv0P/g4cftis8L1sGL75oRxM5EOYAiTUhszDBkc+ORL4EemOg5KzFaUCHMvY7Q0R+BLYCdxlj1gSgPqXUIRgDTz4JI0bAVVfBQx0WwKhPbdfJ4eZYiYuz1zGGgMRaQg4JeAoM0THO/FKJJL4EellHufTIhP8BRxtjskTkEuA9oOVBbyQyCBgEkJycXLFKlVJWTg75k15i8Ovn8PKKtvTqBS8/vZuojjdDy5Zw221OV+izxNr2NF7W9n3UaaJTLlaWLydF04CmJZ43wbbCixljMowxWd7H84EYEalf+o2MMVONMSnGmJSkIA9aUCoi7dlD3hnnccWdzXh5RVseZhSv5/Yk/oIzYds2mDXLtsDDRGI9e0I0M22vw5VEBl9a6MuBliLSHNgC9Ab6ltxBRBoC240xRkTaY39R6BxqSlVCfj5ER5e4JDw/n/yevbh69YN8xGVMGruXwXvzYMpiqFvXjvA87TRHa66oWvXtXDEZW3Q+l0Aot4VujPEAQ4EFwFrgDWPMGhEZLCKDvbtdBfzs7UN/HuhtTBkTRiilymUMPPYYJCbaKVhGj4bsDA+5A2/l6q9u5QNzGRMmwOB7a9uRQenpdiKWTp2cLr3CEpNsX3/m9myHK4kMPg0s8najzC/12uQSj8cD4wNbmlLV06RJdv3l7vUWY3I8PPRQJyY9upsYzwNslmQmjIchQ5yuMjASj7RXuGigB4aOFFUqhGzdCncPL6ALn/FOw3uIat2Kr397m6e29qWgyTFMe1K4+GKnqwycxIZ21aLMnbkOVxIZNNCVqkp79tgmeFKSvf7b5Tpg84PDMynIj2N8xzlEffE/iInhbOBsZ6oNusTGdp3TzN0FDlcSGTTQlaoqRUV2Yc5ly+zzr7+2I4K8Zz3/9z94+Y0aDI8ez7FzHrfLxkW44hb6Ho/DlUQGDXSlqsq779owf+klSEuzIzZbtYIHHsAYuP26dOpTyIP3F0GTJk5XWyUSa9lhLpl7dQrdQNBAV6oqFBbCQw9B69bQv79tlf/6q32tXTvG/3gO3/xyBNOOepg6I+93utoqExcHMeSTmaWjRANBA12pKpDz6pv8/ovQePoY6u7vN582DfPLWl7u8T7DC7vQzfURA9+/PKjreIYaEUh0ZZORrVEUCHoUlQqi/Hx49OFCnhnXnRx647rJcOFc6NYNoqPjmRn7Hd8UxnLBET8we259JOVUp0uucjVcuWTn6iIXgaCBrlSQ/P23De5vvnHRl3e47M7W/Bh9Km+8AUOH2n2aNYvlhRfglltOLn3BS7WREF1Adn41/eIDTANdqSDIzoZLL4Xlyw2zaw+hz3Gr4Kkl9BEYMwY2bbIjQo8+2rGZa0NGQkwB2fkaRYGgf+coVVHZ2TB3Lqxde8hdhg+3a3XOPm8affZOtpOWe5NbxAZ5s2Ya5gAJsR6yCyL/Es2qoIGuVEXk59s5U3r3hpNOgi++OGiXefNg6lS4+/L1XPXpzXDPPXDGGQ4UGx4S4grJ9lSfE8HBpIGuVEXMmGGvJX/uOTjmGHsJYlZW8ea//oIbb4R2x+cz+suzoUMHO9OWOqSE+CKyC8Nnyt9QpoGulK+MgbFj4fTT7SIS06fD5s3w9NOAvdT82mshK8swq/atxBbsg5kzq8WIz8pIcBuyTTwU6PD/ytJAV8pXP/wAf/wBN99sO7/PPBOuvBKeeoqibdu57TZYtAhe6PMdbZa8aJeCa9HC6apDXkICZJNwwF86yj8a6Er56r337AjPyy7757UnniA/p5C+52xm0iS4+7YcBszrYfvMBw8+1DupEhJqiAZ6gGigK+Wr996Ds86C+v+srrivcSu6NV7J3NQUxt25nSfTb0T27LYzKkbpj5cv4mtEaaAHiF78qVQZfv0VZs+GH3+0z09utpsBP+2mydPXF++zcydcfjl8v+U4XoofyoDnpoDHY0+CnnSSM4WHoYTEKPJwU5SRpS3MStJAV6qUJ5+EkSPtOdBWrWx3+fvv1+UxNtBvaS79v4YtW+Cuu2DXLnj7baFH85vg+Ry7pufNNzv9JYSVhEQbQznp2dRwuJZwp4GuVAnPPQf33gv//jc8/zwceaR9/Y8Offi/1B68NK83L71pX2vdGj78ENq1AzjJTourKiyhtr0KKHt3rgZ6JWmgK+X1889w993QvbvtbimeW2XXLpqveJMJI1vy6DBYuhRq1bIXuVTX+VcCqTjQ03McriT8aaCr6m3VKtiwAU/Xblx/fQx16sCLL5YK6vfft6sN9ejBEUfYOVpU4CTUsaNEs/fqdeiVpYGuqq8PP7RnNY1hTOPJrNxyM2+8ccBFLNbcuXZU6CmnOFJmpCtuoWfqMnSVpSeVVfWUlwe33w5t2vDtfR8yastA+tb+iKvP3XHgfn/+CZ9/Dr166UxaQVLcQs/UZegqSwNdVU9vv43ZsIHZl8zk0omX0uyofCbk3QjnnQe//fbPfk8+aa8nv+UWx0qNdPG19wd6ocOVhD/tclHV0qbJ8+kft4Qvn2pHSgq8/XYCdTa8brtg2rSBnj2hcWM7QGjwYGja1OmSI1ZCTduuzN5nHK4k/Gmgq2pnw/e7OPPr/yMnrg5TpsDAgd6ToMnn2RFFY8fCnDmwfTv06GHnZFFBk5Bg77Ozna0jEvjU5SIiXURkvYikisiIw+x3mogUishVgStRqcApKIArroR8YvluziYGDSp1RUvDhvDss7Btmx31+e67UEOvjg6m+Hh7r4FeeeUGuoi4gAlAV6AN0EdE2hxiv3HAgkAXqVSg/Pe/8GNafaYf9QBturc89I4iepF5Fdkf6Hm52uVSWb600NsDqcaYDcaYfGAO0L2M/W4D3gZ2lLFNKcf98Qc88oihB+/R44Z6etVKiHC77X1urrN1RAJfAr0xsLnE8zTva8VEpDHQE5gcuNKUOoTNm2HAALs00NatPv0TY+yFKq6iAl5gKFylvYKhojjQ8/QXbGX5clK0rKNc+m+jZ4F7jTGFcphWj4gMAgYBJCcn+1iiUiXk5MCFF0Jamh29uWKFXY15/9/tJS1dCm+9BVdcwczfz2TBAnih6bM0qZGosyGGkOhocFGogR4AvgR6GlDymq0mQOlmUQowxxvm9YFLRMRjjHmv5E7GmKnAVICUlBTtMFMVN3asvRLls8/sgs2XXALjxsEjjxy43/LlcM45UFDAkmeWcnP0F5x9Qha3/HwfTJ6o3S0hxu3KJzdfh8VUli9HcDnQUkSai0gs0BuYV3IHY0xzY0wzY0wz4C1gSOkwV6rSCgth2jTo1g0uuAC6drVLwD3zDKSn8/ffdlrbnGxD0e3DWVfndB4Y+jcXyCIaF2zkzTVtcLU4Bvr1c/orUaW4XQXkFmigV1a5LXRjjEdEhmKvXnEB040xa0RksHe79purqrFokb2csH//f14bNYqct+czoOMm5qw/wvui4OJLColGJsBVVxQxvu0iGuy40k6nWFb3jHKU2+Uht0CvKqosnwYWGWPmA/NLvVZmkBtjrq98WUqVYeZMqFPnwOkOjz+ee1rPY866k7l70F6OPakmu0e9QEZBPMc8MZAul0bTtGkUoOt7hjJ3jIfcfB3nWFl6BFXI27MH7rmjgNRZNzL8wg5cvv+yCGD+fBi/7kKGuV7gyW2fQr3jYcdYOyCoh357hwt3tIecnBinywh72mmlQlpeHnTqBDNec7GxqCndF97Kk0/abdu3ww03QNu2MGYM8MEH9qRp3752yL4KG+6YInI9GuiVpU0YFdJGjrRrULzX7lEu2TOL/mf8yr33Clu3wrffQkaGnd3WffxtcOrxsGOHPVGqwoo7tohcE2tPfOsIXb9poKuQ9dln9gKWIf330f210TByJK89ItRMtGt/xsbCm2/C8cd7/0GnTo7Wq/znjisiB7cdLqpz5/hNu1xUSNq5017M0ro1PPWvF+0gouuuw+WCKVPgl19g0yY7260Kf+44Qy5uO3BM+U1b6CrkFBZCnz6Qng4ffWhI6PcitG8PrVoBdkzQccc5XKQKKHccGugBoIGuQkphoT3RuWiRXay5XdY38PPP9omKWG63N9B1Dt1K0UBXIcPjsd0ss2fDo4/CwAEGLn4U6ta1TXYVsdzx4m2h73S6lLCmga5CgjEwZIgN8zFjYMQIYNyT9szoCy/8s6yNikjuBNEulwDQk6IqJEyYYKdpGTkSRtxr4L77bKr36mXX9FQRzR0fpYEeABroynGbN9v87tIFHnsMGD3aDhAaPBhmzbLzq6qIFl/DBrrZp33olaGBrhz3n//Yk6ETJ4J8+w08/LCdEXHiRB1kUk24a7gowoUnS5ctqgxt+ihHvfeevY0bB82beqDHrdC0qTfddc7y6sJd00ZRbkY+OgGA/zTQlWN27bInQtu2heHDsR3pq1fD22/raMFqxp3oDfTMAhIdriWcaZeLqlrz58O551J43AkMOOMX0tMNr74KMTu3woMP2o70nj2drlJVMXdN2y7PzSxwuJLwpoGuqkZeHgwbBpdeStaWvVz793g+SG3D/0Xfx0kLn7JznHs89hJF7WqpdtyJGuiBoF0uKvj+/NPOgLhyJT9dM5Z/r7ib9dujGPOfbdy26ju4ZzHUrGm7Wlq0cLpa5YDiQN9X6HAl4U0DXQXXtm1w9tmYvRlMvvkH7nilHXXq2PFCnTo1AvMl/PYbNGwItWo5Xa1yiDve/lWmgV45GugquIYOZc+OAgacuZH3ptShc2d45RU48kjvdpHiSbdU9bV/ESoN9MrRQFfBs3o1f7+ziPMbruOXb+rw9NO2Gz1Kz9yoUooDPcc4W0iY00BXwTNlCrdETWXNriP56CO4+GKnC1KhSgM9MLStpILDGL6Zk8acon/z4IOiYa4OqzjQczXQK0MDXQXH2rU8vnswDRJzuOsup4tRoe6fQNdLVitDA10FxZa3l7KAztx8fa7OfKvKtT/QczTQK0UDXQXF7DlRGKK47ra6TpeiwkBxCz1PA70yfAp0EekiIutFJFVERpSxvbuIrBaRVSKyQkTOCnypKmwUFjJzXQodkjbQsqXTxahwUBzo+drGrIxyj56IuIAJQFegDdBHRNqU2m0RcJIxph0wANAFIKux1XPXsrroBK69ZLfTpagwERdn7zXQK8eXo9ceSDXGbDDG5ANzgO4ldzDGZBlj9p+ergHoqepqbOaULKIpoNfdyU6XosJEdDREi4fcAp3/vjJ8CfTGwOYSz9O8rx1ARHqKyDrgI2wrXVVDhYUwa1kLuiR+S9LxDZwuR4URd7QGemX5EuhlnaU4qAVujHnXGNMa6AGMLvONRAZ5+9hX7Nypq3tHok/n57M1rz7XnbXR6VJUmHFHe8j16FjHyvAl0NOApiWeNwG2HmpnY8xi4FgRqV/GtqnGmBRjTEpSUlKFi1Whb/LYv2nAdnrcpP+/qmI00CvPl0BfDrQUkeYiEgv0BuaV3EFEWojYSaxF5BQgFkgPdLEqtG3eDB98V5+BrleI7Xy+0+WoMOOOKSTXxNp+O+WXcn8dGmM8IjIUWAC4gOnGmDUiMti7fTJwJdBPRAqAHKBXiZOkqpoYO8YQZQoZ1HENOppIVVR8bCG5uCE3V5cg9JNPf98YY+YD80u9NrnE43HAuMCWpsLJTz/B1KmGm5hGs4EXOF2OCkPu2CIN9ErSDitVaRkZ0LePoV7U34yq8wL0WuV0SSoMuePMP4Gu/KJX8Sv/bNsG991HfsqZXNFoCevWeJhZ0IukcXf9M0pEqQooDvScHKdLCVvaQlcV9/LLcOutFOUVcEP9j1mUfSavnDGZi+64Ga66yunqVJhyx8EubaFXiga6qpiXXoIbb6So04UMTnqL2XNr88QT0O++wU5XpsKc2423hb7P6VLClna5KN+lpsLQoeR0upQbjlrAtLm1uf9+GHHQdG1KVZw7XrQPvZK0ha58Ywx/XT+CWeYOJm8YRernUYwaBQ8+aNd5VqqyigNd+9D9poGuypWTA3dd8QdTv30dDzGc3hAmTNE1QlVguROiyCVWW+iVoIGuDis/H7pcXMTX3zTjlrpzGfrV1Rx3on7bqMBzJ0SRQ7wGeiVoH7o6rDvugMXfRPEa1zHh9Xoa5ipo3DVc5BKPydYuF39poFd3eXmwZAlkZR20adYsmDAB7pRnuKZXIXTu7ECBqrqIr2mnzs3Pyne4kvClgV6d5ebC2WdDx45w3HGwbFnxphWfZ3Bj/3zO4SvGnjwXpkxxsFBVHbhr2r/+cjI9DlcSvjTQq7OXXoLly2H0aIiJgXPOgdGjWXPLeC6/MJsGhdt4c8AnRH/xKdSu7XS1KsLtD/TcLA10f2mHaHVlDIwfT9FpHZh3wgN8dfGd7PhgKTsfKmAx51A3LpuPXttDg6vHOF2pqibciTGABnplaKBXVz/+SO66P7jihN/4uCckJMTTqNH51D85n34nFPHI2HocdVQ9p6tU1Uh8gh3QkLOvyOFKwpcGejXlmb+QPrzOxz835YUXYPBgu1CvXZtEqarndtv73H26wIW/NNCrocJCGPj8SbxHZ55/HoYOdboipUoEera20P2lJ0Wrme3b4aoeBby6vTOjz1rAbbc5XZFSVny8vc/N0cXO/KWBXo3MnGmvTvx4QRRPcwcPjIpxuiSliu1voedka6D7SwO9GigogBtvhOuus4G+6t9juCNhir3+XKkQUdzloiP//aaBHqk8HnjrLYqWLOX66+0l5/ffD4sXQ+uVs+w157qykAohxV0uGuh+00CPVMOGwdVXM7bjB8yeDWPGwGOPgWvrZli3Di66yOkKlTpAcZdLns7H7C8N9Ej0888waRI/dHuIh3mEXu73GXFrpt32ySf2XgNdhZjiLpc8jSV/6ZGLRE8/jYlPYFj6A9SrCxNzb4Bx4+y2116Dli3hhBOcrVGpUoq7XPK1he4vvQ490mRkwBtvsODsx1m8IIYJE6Det13h6afh9NPh669t/4suM6RCTHGXS77Gkr+0hR5p5s6lKDuH+zbcRPPm9uoWxoyB2Fjo1g3q1fO+qFRoiY6GKCkit0BjyV8+HTkR6SIi60UkVUQOWhJYRK4RkdXe2xIROSnwpSqfvPQS85rcyqrfajBqlM1xkpPhyy/h7rvhiy+gfn2nq1TqICIQH11AboG20P1V7pETERcwAbgISAOWi8g8Y8wvJXb7AzjXGLNHRLoCU4EOwShYHcZPP2GWLePxpu9xzDHQp0+JbSefbG9KhTB3tEe7XCrBlyPXHkg1xmwAEJE5QHegONCNMUtK7L8UaBLIIpWPpk3j0+hLWLG5IVOn7p9sS6nw4Y72kJsTY6d31vM8FebLj3xjYHOJ52kcvvU9EPi4MkUpP+zeDTNm8Hi9ZTSOgX79nC5IqYqLjy0kF7ddnVwHvlWYL4Fe1q/JMidbEJHzsYF+1iG2DwIGASQnJ/tYovLJM8/wTWZbFmcex7PP6s+CCk/umCJyiIecHP0m9oMvJ0XTgKYlnjcBtpbeSUTaAi8C3Y0x6WW9kTFmqjEmxRiTkpSU5E+9qizr18NTT/F4o/EkJcFNNzldkFL+cccW2Ra6jv/3iy+BvhxoKSLNRSQW6A3MK7mDiCQD7wDXGWN+DXyZaj9T+m+jXbvgyitZ6e7IJ9vaMXw4JCQ4UppSleaOMzbQc3KcLiUsldvlYozxiMhQYAHgAqYbY9aIyGDv9snAQ8ARwESxJzI8xpiU4JVd/WzdCl27QtpGD3MueZWLklZBURG8/z7s3Mnjp31O7Z9gyBCnK1XKf/FuQybx2kL3k0/XQRhj5gPzS702ucTjGwEdrRJEQ4ZA6joPDfI3c+2cS1lXezR1o/ZCmzaseWo+7/ZpwAMPQO3aTleqlP/cbsNObaH7TYdkhYG1a21D/F4zlndPfZxdUQ149IY/7JUt33zDmA9PpEYNuP12pytVqnLcbtE+9ErQQA8Dzz8Pca4CbpHJtHv7QW64QZg4Ef78086E+/rrdpFnHQCqwl18gtirXDTQ/aKBHuJ274ZXXzVcI6+T1OdCOPpoHn7Yjrm4+WZ7RUtioh3Vr1S4c8eLnhStBB1LGOJefBGys4Xb+T+4ZRoATZvCM8/ArbfafWbMgCOPdK5GpQLFnRBFLrHaQveTBnoI83hgwgTD+TWW07ZVNLRvX7xtyBA480xwueDEEx0sUqkAiq8RpS30StBAD2EzZsCmTcJ4RtsELzW3Rbt2jpSlVNC4a7jIw01Rdq72B/tBj1mI+usvGDkSOtZfz2W1vi41daJSkcld07Yx8zLzHa4kPGmgh6DCQpvfWZlFTN7TCxlwA9So4XRZSgVdfKIN9Nwsj8OVhCcN9BD0yCN2PYpJ587lBH6GYcMcrkipqrG/hZ6TVehwJeFJAz3EfP45PP443NBrH/2/uQl69YKjj3a6LKWqRHxNFwA5mdpC94cGegjZtQuuvRb+9S94oeAW2/cyerTTZSlVZfZPLJedqS10f2igh5BhwyA9HV7v/wk13nkN7rsPjjnG6bKUqjL7TxVpoPtHAz1ELF4Ms2bBPdfvoN3oK6FjRxvoSlUj+1vo+7LKXENHlUMDPQQYY4fuN21SxH2LLoRateDNNyEmxunSlKpSxV0u+zTQ/aEDi0LAokXw/fcwpd0UEn5eC198AY0aOV2WUlWuuMtFB4r6RQM9BIwZA41rZ9J/1TB4ehycVeaSrEpFvOIul2ztPPCHHjWHbdhgL1UckjmOuJ6XwvDhTpeklGOKu1xyylqbXpVHW+gOmznDgxDFtQ0XwfSPD5qvRanqpLjLJc/lbCFhSgPdQcbAqxMyOJ8fSH7xIahTx+mSlHJUfLy935en0eQP7XJx0HcLMvh9dz36nbLGrgCtVDUXFQXx0flk52ug+0MD3UGvjlxHAvu4YuKFTpeiVMhIiCkgu0Av2fWHBrpDcvfkMHdVK65IXklihzZOl6NUyEiI9bDPxENBgdOlhB0NdId8+ND3/G3q0O+22k6XolRIqRHnIZsE2LfP6VLCjga6Q16d7eIo13Y6DWvrdClKhZQEd5EGup800B2w4+v1fLy7A9ee/SeuaL1MUamSEtyGfdSA7GynSwk7GugOmPPgGjzEcN2oFk6XolTIqZFgtIXuJ58CXUS6iMh6EUkVkRFlbG8tIt+JSJ6I3BX4MiOHyc5h+jctOaXuBk44p57T5SgVchISsIGuLfQKKzfQRcQFTAC6Am2APiJS+rKM3cB/gP8LeIURZsmYr/ix8ERuvl4XwVWqLDVqiu1y0RZ6hfnSQm8PpBpjNhhj8oE5QPeSOxhjdhhjlgN6nVE5Jkx2UTsqg2se/ZfTpSgVkhJqRtlAz8pyupSw40ugNwY2l3ie5n2twkRkkIisEJEVO3fu9OctwtpfX63nrV3nckPHX6lRU0+GKlWWWvWiySQRMjOdLiXs+BLoZSWPX7PPG2OmGmNSjDEpSUlJ/rxFWJt2byoFxDLkKV1WTqlDqXVEDNnUwLNHA72ifAn0NKBpiedNgK3BKSdyFfy9jynft6Nzwx9p2UFPhip1KIn14wDI3JXncCXhx5dAXw60FJHmIhIL9AbmBbesyPP+yGVsMY259XaddEipw6lVz/6MZOzSCwcqqtx0McZ4RGQosABwAdONMWtEZLB3+2QRaQisAGoBRSIyDGhjjMkIXunh5aVZbprGbOOSu3TeFqUOp1Yte5+x2+NsIWHIp+aiMWY+ML/Ua5NLPP4L2xWjyrB14U8szOjAfZ3/hyta1wpV6nCKA31PobOFhCEdKVoFZo5JowgX/R5t6XQpSoW84kDf69e1F9WaBnqwGcM7SxtxWq11tGpfx+lqlAp5xYGeqZf2VpQGepDtWbKW5bkn0vVsHfWmlC+KA32fritaURroQfb5xHUU4eLiQc2cLkWpsKCB7j8N9CBbuNhNYlQW7bse4XQpSoWFmjXtfUaOLkNXURroweTx8PmWf3F+8u/E6PemUj6JioLE2Fwy8uKcLiXsaKAH0e7FP5NqjuWM0/VsvVIVUcudT0ZhAuTr4KKK0EAPopVvbgDgtO5+zWWmVLVVK97DXmpDho5NrAgN9CBavjgHgFM6V7+JyJSqjLq1CtlNPUhPd7qUsKKBHizGsCK1Di0S/6JuXaeLUSq8JNU37CQJdu1yupSwooEeLOvXsyL/RE47Tq8/V6qiko6M0kD3gwZ6kGz/cDmbSSalU6LTpSgVdpIax7CL+hRtr34L4VSGBnqQrPhoOwCnddX+c6UqKqlpPIVE83eaLkNXERroQbL8h2iiKOLkU3Q+CqUqKqlxLAA703SRi4rQQA+GTZtYsbcFxzXcUzzqTSnlu/0rVO7cquvOV4QGehCYL7/ie9qTcpq2zpXyR3Ggaxd6hWigB8GfH6xmJw3o0LmO06UoFZaKA323TtBVERroQbDsKzugqP3peniV8keDBvb+rz06n0tFaOIE2saNfL+zOXHRHtq2dboYpcJTXBwcVTODPzLqgUfXFvWVBnqgff4539OeU47P1xkWlaqEYxvt43dzDKSlOV1K2NBAD7D8dz9ipaTQ/tx4p0tRKqwde4zhd46FjRudLiVsaKAH0r59fLcwgxwTz3nn6xUuSlXGsW3i2EpjctZvcrqUsKGBHkiffsqn+efiiiri/POdLkap8HbsybUB2PDDXocrCR8a6IH0+uvMd3WjfXuoXdvpYpQKb8edGA3ADz9qTPlKj1Sg7NjBL++s44fCk+jVWw+rUpV14olQNyaTL9Y0cLqUsOFT8ohIFxFZLyKpIjKijO0iIs97t68WkVMCX2qIe+45pngG4HIZ+vRxuhilwp/LBef9axufZ6bAjh1OlxMWyg10EXEBE4CuQBugj4i0KbVbV6Cl9zYImBTgOkPb5s2s/+98JkXdSv/+UjwoQilVOZ27RLGR5nz38jqnSwkL0T7s0x5INcZsABCROUB34JcS+3QHXjXGGGCpiNQRkUbGmG0Br3g/YzCFRVBUhCksOuBxWa8VP84vwOzLhtxcTHYOJicXsrPtfU4OxhWNaXAkHHUUJvloTHzC/o/DmOKPLr7P353F0u6TuSP3fWrVEUaPDtpXrFS10/eeJjz09A6uf6Ilr5wLrVtDrVog+y8iKyhAcnOgZk2IqkRXp8cDW7ZAVonpekXszeWq2C0qyt6k6q908yXQGwObSzxPAzr4sE9jIOCB/uYd3/Hv/54BCODy3pxUE3icY47MYuF8F0cd5XA5SkWQxCQ3b3afRI/3+nPGGWXtEeO9HUzEYHMCwBy40ZR6ThTQtDKllmIO/swS7j39K8Z8F/hL4XwJ9LJ+zZSu1Jd9EJFB2C4ZkpOTffjog7U5N4mHVn4JIvYXaJQc/DgK72tywGsigCsaiY1BYqIhJgaJjSm+l9hoKCxCsjKRv/dAejqyexeya5d9nJeLFBVCUSFSWAgiuJon02ZoJ864pR2xsX59SUqpwzhncl9Sl57Nwu0nsTXmaDLzY+0P89FHY5Kb2XkCMjMxW7fBtm1QkI9BwJ0AcbGQXwDZpZeCFNvUr10b6tTx3teGOLd3e4k/w4sMmKJy7g0UFf3zp3xR0WG/prO61grwUbJ8CfQ0DvzV1QTY6sc+GGOmAlMBUlJSDv3r6zCO796CUd1b+PNPK6A+0DzIn6GU8smRR1Jv9Zf0njjRrjGakgJdu1LmySqPB376CZYsgdWrYd8+qFEDmja1t2bN4OijoXFjInFuDl8CfTnQUkSaA1uA3kDfUvvMA4Z6+9c7AHuD2n+ulKpekpLg4YfL3y86Gk4+2d6qoXID3RjjEZGhwAJsh/V0Y8waERns3T4ZmA9cAqQC2cANwStZKaVUWXxpoWOMmY8N7ZKvTS7x2AC3BrY0pZRSFaFDGpVSKkJooCulVITQQFdKqQihga6UUhFCA10ppSKEBrpSSkUIMQfNaVBFHyyyE/gziB9RH9gVxPevDK3NP1qbf7Q2/4VifUcbY5LK2uBYoAebiKwwxqQ4XUdZtDb/aG3+0dr8F+r1laZdLkopFSE00JVSKkJEcqBPdbqAw9Da/KO1+Udr81+o13eAiO1DV0qp6iaSW+hKKVWtRFSgi8hTIrJORFaLyLsiUsf7ejMRyRGRVd7b5HLeqspq8267T0RSRWS9iHR2oLarRWSNiBSJSEqJ1x0/boerz7vN0WNXqpZHRGRLieN1iZP1eGvq4j02qSIywul6ShKRjSLyk/dYrXC4lukiskNEfi7xWj0R+VREfvPe13WyRp8YYyLmBlwMRHsfjwPGeR83A34O0draAD8Ccdhlkn4HXFVc23HAv4AvgZQSrzt+3Mqpz/FjV6rOR4C7nD5eJepxeY/JMUCs91i1cbquEvVtBOo7XYe3lnOAU0p+vwNPAiO8j0fs/5kN5VtEtdCNMQuNMR7v06XYpfBCwmFq6w7MMcbkGWP+wC4S0r6Ka1trjFlflZ9ZEYepz/FjF+LaA6nGmA3GmHxgDvaYqVKMMYuB3aVe7g684n38CtCjKmvyR0QFeikDgI9LPG8uIj+IyFcicrZTRXmVrK0xsLnEtjTva6EilI5baaF47IZ6u9Wmh8Cf6KF4fEoywEIRWeldQD7UHGm8S2l678tYxDS0+LRiUSgRkc+AhmVsut8Y8753n/sBDzDLu20bkGyMSReRU4H3ROR4Y0xGCNQmZewf8EuPfKmtDFVy3CpRX5UcuwM+8DB1ApOA0d4aRgNPY395O6XKj08FdTTGbBWRBsCnIrLO21JWfgq7QDfGXHi47SLSH7gMuMB4O7+MMXlAnvfxShH5HWgFBPREjD+1YVtNTUvs1gTYGsi6fKntEP+mSo6b9/0rXB9VdOxK8rVOEZkGfBjMWnxQ5cenIowxW733O0TkXWwXUSgF+nYRaWSM2SYijYAdThdUnojqchGRLsC9wOXGmOwSryeJiMv7+BigJbAhFGoD5gG9RSRORJp7a/u+Kms7lFA4buUIqWPn/aHfryfw86H2rSLLgZYi0lxEYoHe2GPmOBGpISKJ+x9jLxpw+niVNg/o733cHzjUX4qhw+mzsoG8YU+KbQZWeW+Tva9fCazBnuX/H9AtVGrzbrsfezXCeqCrA7X1xLbm8oDtwIJQOW6Hqy8Ujl2pOl8DfgJWY8OgkZP1eGu6BPjVe4zud7qeEnUd4/2++tH7PeZobcDr2C7GAu/32kDgCGAR8Jv3vp7Tx628m44UVUqpCBFRXS5KKVWdaaArpVSE0EBXSqkIoYGulFIRQgNdKaUihAa6UkpFCA10pZSKEBroSikVIf4fZGNoewCzUlcAAAAASUVORK5CYII=\n",
      "text/plain": [
       "<Figure size 432x288 with 1 Axes>"
      ]
     },
     "metadata": {
      "needs_background": "light"
     },
     "output_type": "display_data"
    }
   ],
   "source": [
    "plt.plot(xdos, original_train_preds[0], c= 'r')\n",
    "plt.plot(xdos, ldos[train_index[0]], c= 'b')"
   ]
  },
  {
   "cell_type": "markdown",
   "id": "c40f32eb",
   "metadata": {},
   "source": [
    "## For Biased Index"
   ]
  },
  {
   "cell_type": "code",
   "execution_count": 1226,
   "id": "85a61f26",
   "metadata": {
    "ExecuteTime": {
     "end_time": "2023-04-13T12:48:58.648548Z",
     "start_time": "2023-04-13T12:29:52.284203Z"
    }
   },
   "outputs": [
    {
     "name": "stdout",
     "output_type": "stream",
     "text": [
      "Reference training loss: 9.68362\n",
      "Reference test loss : 16.9169\n"
     ]
    },
    {
     "name": "stderr",
     "output_type": "stream",
     "text": [
      "Epoch: 499:   0%|▌                                                                                                          | 499/100000 [08:53<29:09:30,  1.05s/it, lowest_mse=0.00624, pred_loss=7.97, trigger=0]"
     ]
    },
    {
     "name": "stdout",
     "output_type": "stream",
     "text": [
      "The batch_size is now: 64\n"
     ]
    },
    {
     "name": "stderr",
     "output_type": "stream",
     "text": [
      "Epoch: 634:   1%|▋                                                                                                          | 634/100000 [10:17<16:45:12,  1.65it/s, lowest_mse=0.00613, pred_loss=7.84, trigger=0]"
     ]
    },
    {
     "name": "stdout",
     "output_type": "stream",
     "text": [
      "The batch_size is now: 128\n"
     ]
    },
    {
     "name": "stderr",
     "output_type": "stream",
     "text": [
      "Epoch: 763:   1%|▊                                                                                                          | 763/100000 [11:07<12:23:22,  2.22it/s, lowest_mse=0.00608, pred_loss=7.79, trigger=0]"
     ]
    },
    {
     "name": "stdout",
     "output_type": "stream",
     "text": [
      "The batch_size is now: 256\n"
     ]
    },
    {
     "name": "stderr",
     "output_type": "stream",
     "text": [
      "Epoch: 1822:   2%|█▉                                                                                                         | 1822/100000 [15:44<6:24:34,  4.25it/s, lowest_mse=0.00582, pred_loss=7.5, trigger=0]"
     ]
    },
    {
     "name": "stdout",
     "output_type": "stream",
     "text": [
      "The batch_size is now: 512\n"
     ]
    },
    {
     "name": "stderr",
     "output_type": "stream",
     "text": [
      "Epoch: 2541:   3%|██▋                                                                                                       | 2541/100000 [18:00<5:37:52,  4.81it/s, lowest_mse=0.00572, pred_loss=7.41, trigger=0]"
     ]
    },
    {
     "name": "stdout",
     "output_type": "stream",
     "text": [
      "The batch_size is now: 1024\n"
     ]
    },
    {
     "name": "stderr",
     "output_type": "stream",
     "text": [
      "Epoch: 3020:   3%|███▏                                                                                                       | 3020/100000 [19:06<10:13:26,  2.63it/s, lowest_mse=0.0057, pred_loss=7.4, trigger=0]"
     ]
    },
    {
     "name": "stdout",
     "output_type": "stream",
     "text": [
      "The batch_size is now: 2048\n",
      "Final training loss: 7.39511\n"
     ]
    },
    {
     "name": "stderr",
     "output_type": "stream",
     "text": [
      "\n"
     ]
    }
   ],
   "source": [
    "from dostools.loss import loss\n",
    "#normal dataset\n",
    "\n",
    "batch_size = 32\n",
    "sigma = 0.3\n",
    "n_epochs = 100000\n",
    "patience = 20\n",
    "\n",
    "index = biased_train_index\n",
    "t_index = biased_test_index\n",
    "\n",
    "Sampler = torch.utils.data.RandomSampler(index, replacement = False)\n",
    "Batcher = torch.utils.data.BatchSampler(Sampler, batch_size, False)\n",
    "\n",
    "Features = torch.hstack([feature[index].double(), torch.ones(len(index)).view(-1,1)])#.type(dtype = torch.complex128)\n",
    "t_Features = torch.hstack([feature[t_index].double(), torch.ones(len(t_index)).view(-1,1)])#.type(dtype = torch.complex128)\n",
    "# Features = torch.hstack([Silicon.Features['structure_avedescriptors'][index].double(), torch.ones(len(index)).view(-1,1)])\n",
    "# t_Features = torch.hstack([Silicon.Features['structure_avedescriptors'][t_index].double(), torch.ones(len(t_index)).view(-1,1)])\n",
    "alignment = torch.nn.parameter.Parameter(torch.zeros(len(index)))\n",
    "# alignment = torch.nn.parameter.Parameter((torch.rand(len(index))-0.5) *2 ) \n",
    "\n",
    "opt = torch.optim.Adam([alignment], lr = 1e-3, weight_decay = 0)\n",
    "# opt_LBFGS = torch.optim.LBFGS([alignment], lr = 1e-3, line_search_fn = 'strong_wolfe', tolerance_grad = 1e-15, tolerance_change = 1e-15)#, weight_decay = 0)\n",
    "scheduler = torch.optim.lr_scheduler.ReduceLROnPlateau(opt, factor = 0.1, patience = 20, threshold = 1e-5, min_lr = 1e-8)\n",
    "\n",
    "xdos_i = xdos.clone()\n",
    "# cutoff = torch.max(efermi) + 3\n",
    "# cutoff_index = torch.searchsorted(xdos, cutoff)\n",
    "\n",
    "train_ldos = manual_call2(Total_splines[index], xaxis, pred_xdos + alignment.view(-1,1))\n",
    "test_ldos = manual_call2(Total_splines[t_index], xaxis, pred_xdos + torch.zeros(len(t_index)).view(-1,1))\n",
    "\n",
    "best_mse = torch.tensor(100)\n",
    "best_state = alignment.clone()\n",
    "\n",
    "n_col = Features.shape[1]\n",
    "regularization = 1\n",
    "\n",
    "reg = torch.hstack([torch.real(torch.tensor(regularization * rtkMM)), torch.zeros(rtkMM.shape[0]).view(-1,1)])\n",
    "reg = torch.vstack([reg, torch.zeros(n_col)])\n",
    "\n",
    "\n",
    "reg_features = torch.vstack([Features, reg])\n",
    "reg_target = torch.vstack([train_ldos, torch.zeros(n_col,train_ldos.shape[1])])\n",
    "reference_weights = torch.linalg.lstsq(reg_features, reg_target, driver = \"gelsd\", rcond = 1e-10).solution\n",
    "reference_pred = Features @ reference_weights\n",
    "reference_t_pred = t_Features @ reference_weights\n",
    "\n",
    "\n",
    "\n",
    "train_loss = loss.t_get_rmse(reference_pred, train_ldos, pred_xdos, perc = True)#torch.mean(abs(reference_pred- train_ldos)**2) \n",
    "test_loss = loss.t_get_rmse(reference_t_pred, test_ldos, pred_xdos, perc = True)#torch.mean(abs(reference_t_pred- test_ldos)**2) \n",
    "current_rmse = torch.tensor(100)\n",
    "pred_loss = torch.tensor(100)\n",
    "prev_loss = torch.tensor(100)\n",
    "trigger = 0\n",
    "print (\"Reference training loss: {:.6}\".format(train_loss))\n",
    "print (\"Reference test loss : {:.6}\".format(test_loss))\n",
    "\n",
    "pbar = tqdm(range(n_epochs))\n",
    "for epoch in pbar:\n",
    "    pbar.set_description(f\"Epoch: {epoch}\")\n",
    "    pbar.set_postfix(pred_loss = pred_loss.item(), lowest_mse = best_mse.item(), trigger = trigger)\n",
    "    for i_batch in Batcher:\n",
    "        def closure():\n",
    "            opt.zero_grad()\n",
    "            reg_features_i = torch.vstack([Features[i_batch], reg])\n",
    "            shifted_target = manual_call2(Total_splines[index[i_batch]], xaxis, pred_xdos + alignment[i_batch].view(-1,1))\n",
    "            shifted_reg_target = torch.vstack([shifted_target, torch.zeros(n_col,train_ldos.shape[1])])          \n",
    "            train_weights = torch.linalg.lstsq(reg_features_i, shifted_reg_target, rcond = 1e-10, driver = \"gelsd\").solution\n",
    "            shifted_train_preds = Features[i_batch] @ train_weights\n",
    "            loss_i = loss.t_get_mse(shifted_train_preds, shifted_target)#torch.mean(abs(shifted_train_preds - shifted_target)**2) \n",
    "            loss_i.backward(inputs = alignment)\n",
    "            return loss_i\n",
    "        opt.step(closure)\n",
    "        train_ldos = train_ldos.detach()\n",
    "        \n",
    "    with torch.no_grad():\n",
    "        shifted_target = manual_call2(Total_splines[index], xaxis, pred_xdos + alignment.view(-1,1))\n",
    "        shifted_reg_target = torch.vstack([shifted_target, torch.zeros(n_col,train_ldos.shape[1])])          \n",
    "        train_weights = torch.linalg.lstsq(reg_features, shifted_reg_target, rcond = 1e-10, driver = \"gelsd\").solution\n",
    "        pred_i = Features @ train_weights\n",
    "        \n",
    "        \n",
    "        i_loss = loss.t_get_rmse(pred_i, shifted_target)#torch.mean(abs(pred_i - shifted_target)**2) \n",
    "        pred_loss = loss.t_get_rmse(pred_i, shifted_target, pred_xdos, perc = True)\n",
    "#         pred_loss = i_loss\n",
    "        if i_loss < prev_loss * (1 + 1e-3): \n",
    "            trigger = 0\n",
    "        else:\n",
    "            trigger +=1 \n",
    "            if trigger >= patience:\n",
    "                alignment = torch.nn.parameter.Parameter(best_state)\n",
    "                opt = torch.optim.Adam([alignment], lr = opt.param_groups[0]['lr'], weight_decay = 0)\n",
    "                counter = 0\n",
    "\n",
    "        if i_loss < best_mse:\n",
    "            best_mse = i_loss\n",
    "            best_state = alignment.clone()\n",
    "\n",
    "        prev_loss = i_loss\n",
    "\n",
    "        scheduler.step(i_loss)\n",
    "        if Batcher.batch_size > 1024:\n",
    "            break\n",
    "            \n",
    "        if opt.param_groups[0]['lr'] < 1e-3:\n",
    "            Batcher.batch_size *= 2 \n",
    "            opt.param_groups[0]['lr'] = 1e-3\n",
    "            print (\"The batch_size is now:\", Batcher.batch_size)\n",
    "\n",
    "            \n",
    "            \n",
    "\n",
    "\n",
    "shifted_target = manual_call2(Total_splines[index], xaxis, pred_xdos + best_state.view(-1,1))\n",
    "shifted_reg_target = torch.vstack([shifted_target, torch.zeros(n_col,shifted_target.shape[1])])   \n",
    "\n",
    "\n",
    "shifted_weights = torch.linalg.lstsq(reg_features, shifted_reg_target, driver = \"gelsd\").solution\n",
    "shifted_preds = Features @ shifted_weights\n",
    "shifted_t_preds = t_Features @ shifted_weights\n",
    "\n",
    "\n",
    "shifted_train_loss = loss.t_get_rmse(shifted_preds, shifted_target, pred_xdos, perc = True)#torch.mean(abs(shifted_preds - shifted_target)**2)#\n",
    "# shifted_test_loss = loss.t_get_rmse(shifted_t_preds, shifted_ldos, xdos, perc = True) Need the one with the new loss function\n",
    "\n",
    "print (\"Final training loss: {:.6}\".format(shifted_train_loss))\n"
   ]
  },
  {
   "cell_type": "code",
   "execution_count": 46,
   "id": "0b4f588d",
   "metadata": {
    "ExecuteTime": {
     "end_time": "2023-04-04T09:57:34.471304Z",
     "start_time": "2023-04-04T09:57:34.466763Z"
    }
   },
   "outputs": [],
   "source": [
    "biased_best_state = best_state.clone()"
   ]
  },
  {
   "cell_type": "code",
   "execution_count": null,
   "id": "7e3e100c",
   "metadata": {},
   "outputs": [],
   "source": []
  },
  {
   "cell_type": "code",
   "execution_count": null,
   "id": "d57f9335",
   "metadata": {
    "ExecuteTime": {
     "end_time": "2023-04-13T12:10:26.682903Z",
     "start_time": "2023-04-13T12:10:26.682890Z"
    }
   },
   "outputs": [],
   "source": [
    "torch.save(biased_best_state, \"./Splines_biased_best_state_0.pt\")"
   ]
  },
  {
   "cell_type": "code",
   "execution_count": 25,
   "id": "04a32270",
   "metadata": {
    "ExecuteTime": {
     "end_time": "2023-04-04T13:58:20.930036Z",
     "start_time": "2023-04-04T13:58:20.923196Z"
    }
   },
   "outputs": [],
   "source": [
    "biased_best_state = torch.load(\"./biased_best_state2.pt\")\n",
    "\n"
   ]
  },
  {
   "cell_type": "code",
   "execution_count": 1228,
   "id": "2075436a",
   "metadata": {
    "ExecuteTime": {
     "end_time": "2023-04-13T12:53:35.442455Z",
     "start_time": "2023-04-13T12:53:32.487486Z"
    }
   },
   "outputs": [
    {
     "name": "stderr",
     "output_type": "stream",
     "text": [
      "100%|███████████████████████████████████████████████████████████████████████████████████████████████████████████████████████████████████████████████████████████████████████████| 300/300 [00:01<00:00, 155.41it/s]\n",
      "100%|███████████████████████████████████████████████████████████████████████████████████████████████████████████████████████████████████████████████████████████████████████████| 300/300 [00:00<00:00, 332.14it/s]\n"
     ]
    },
    {
     "name": "stdout",
     "output_type": "stream",
     "text": [
      "Train loss is 7.43613250071883\n",
      "Test loss is 14.42680444575426\n"
     ]
    }
   ],
   "source": [
    "train_error, train_align = MSE_shift_spline(shifted_preds, pred_xdos, Total_splines[index], xaxis, 300)\n",
    "test_error, test_align = MSE_shift_spline(shifted_t_preds, pred_xdos, Total_splines[t_index], xaxis, 300)\n",
    "with torch.no_grad():\n",
    "    original_ldos = manual_call2(Total_splines, xaxis, pred_xdos + torch.zeros(1039).view(-1,1))\n",
    "    opt_shifted_train_preds = manual_call2(Total_splines[index], xaxis, pred_xdos + train_align.view(-1,1))\n",
    "    shifted_train_loss = loss.t_get_rmse(shifted_preds, opt_shifted_train_preds, pred_xdos, perc = True)#torch.mean(abs(shifted_preds - shifted_target)**2)#\n",
    "    print (\"Train loss is {}\".format(shifted_train_loss))\n",
    "    \n",
    "    opt_shifted_test_preds = manual_call2(Total_splines[t_index], xaxis, pred_xdos + test_align.view(-1,1))\n",
    "    shifted_test_loss = loss.t_get_rmse(shifted_t_preds, opt_shifted_test_preds, pred_xdos, perc = True)#torch.mean(abs(shifted_preds - shifted_target)**2)#\n",
    "    print (\"Test loss is {}\".format(shifted_test_loss))"
   ]
  },
  {
   "cell_type": "markdown",
   "id": "4368a2e1",
   "metadata": {},
   "source": [
    "### Baseline no shift"
   ]
  },
  {
   "cell_type": "code",
   "execution_count": 26,
   "id": "6d86b890",
   "metadata": {
    "ExecuteTime": {
     "end_time": "2023-04-04T13:58:22.430316Z",
     "start_time": "2023-04-04T13:58:22.367869Z"
    }
   },
   "outputs": [
    {
     "name": "stdout",
     "output_type": "stream",
     "text": [
      "Fourier Space\n",
      "Reference training loss: 0.00153287\n",
      "Reference test loss : 0.00264829\n",
      "Real Space\n",
      "Reference training loss: 10.2953\n",
      "Reference test loss : 16.2029\n",
      "Gaussian Space\n",
      "Reference training loss: 10.4205\n",
      "Reference test loss : 16.2931\n"
     ]
    }
   ],
   "source": [
    "emin = -24.553719539983 - 1.5\n",
    "emax = 11.346414696331 + 1.5\n",
    "index= biased_train_index\n",
    "t_index = biased_test_index\n",
    "\n",
    "Features = torch.hstack([feature[index].double(), torch.ones(len(index)).view(-1,1)]).type(dtype = torch.complex128)\n",
    "t_Features = torch.hstack([feature[t_index].double(), torch.ones(len(t_index)).view(-1,1)]).type(dtype = torch.complex128)\n",
    "\n",
    "xdos_i = xdos.clone()\n",
    "\n",
    "train_ldos = coeffs[index,:].clone()\n",
    "\n",
    "\n",
    "n_col = Features.shape[1]\n",
    "regularization = 1\n",
    "\n",
    "reg = torch.hstack([torch.real(torch.tensor(regularization * rtkMM)), torch.zeros(rtkMM.shape[0]).view(-1,1)])\n",
    "reg = torch.vstack([reg, torch.zeros(n_col)])\n",
    "\n",
    "\n",
    "reg_features = torch.vstack([Features, reg])\n",
    "reg_target = torch.vstack([train_ldos, torch.zeros(n_col,train_ldos.shape[1])])\n",
    "reference_weights = torch.linalg.lstsq(reg_features, reg_target, driver = \"gelsd\", rcond = 1e-10).solution\n",
    "reference_pred = Features @ reference_weights\n",
    "reference_t_pred = t_Features @ reference_weights\n",
    "\n",
    "\n",
    "\n",
    "train_loss = torch.mean(abs(reference_pred- train_ldos)**2) \n",
    "test_loss = torch.mean(abs(reference_t_pred- coeffs[t_index])**2) \n",
    "\n",
    "\n",
    "print (\"Fourier Space\")\n",
    "print (\"Reference training loss: {:.6}\".format(train_loss))\n",
    "print (\"Reference test loss : {:.6}\".format(test_loss))\n",
    "\n",
    "train_rs = evaluate_dos_from_fourier(reference_pred, emin, emax, num_eval=778)\n",
    "test_rs = evaluate_dos_from_fourier(reference_t_pred , emin, emax, num_eval=778)\n",
    "\n",
    "\n",
    "train_rmse = loss.t_get_rmse(train_rs, f_ldos[index], xdos, perc = True)\n",
    "test_rmse = loss.t_get_rmse(test_rs, f_ldos[t_index], xdos, perc = True)\n",
    "\n",
    "print (\"Real Space\")\n",
    "print (\"Reference training loss: {:.6}\".format(train_rmse))\n",
    "print (\"Reference test loss : {:.6}\".format(test_rmse))\n",
    "\n",
    "print (\"Gaussian Space\")\n",
    "train_rmse = loss.t_get_rmse(train_rs, ldos[index], xdos, perc = True)\n",
    "test_rmse = loss.t_get_rmse(test_rs, ldos[t_index], xdos, perc = True)\n",
    "\n",
    "print (\"Reference training loss: {:.6}\".format(train_rmse))\n",
    "print (\"Reference test loss : {:.6}\".format(test_rmse))\n",
    "\n",
    "\n"
   ]
  },
  {
   "cell_type": "code",
   "execution_count": 27,
   "id": "ef883950",
   "metadata": {
    "ExecuteTime": {
     "end_time": "2023-04-04T13:58:24.036676Z",
     "start_time": "2023-04-04T13:58:23.798902Z"
    }
   },
   "outputs": [
    {
     "name": "stdout",
     "output_type": "stream",
     "text": [
      "Fourier Space: Train_loss: 0.00134436, Test_loss:0.0023673\n"
     ]
    }
   ],
   "source": [
    "shifted_target = shift_coeffs(train_ldos, emin, emax, 1 * biased_best_state)    \n",
    "shifted_reg_target = torch.vstack([shifted_target, torch.zeros(n_col,train_ldos.shape[1])])   \n",
    "\n",
    "\n",
    "shifted_weights = torch.linalg.lstsq(reg_features, shifted_reg_target, driver = \"gelsd\").solution\n",
    "shifted_preds = Features @ shifted_weights\n",
    "shifted_t_preds = t_Features @ shifted_weights\n",
    "\n",
    "shifted_train_loss = torch.mean(abs(shifted_preds - shifted_target)**2)\n",
    "shifted_test_loss = MSE_shift_fourier(shifted_t_preds, coeffs[t_index], 5)\n",
    "\n",
    "print (\"Fourier Space: Train_loss: {:.6}, Test_loss:{:.6}\".format(shifted_train_loss, shifted_test_loss[0]))\n"
   ]
  },
  {
   "cell_type": "code",
   "execution_count": 28,
   "id": "0ccbf03e",
   "metadata": {
    "ExecuteTime": {
     "end_time": "2023-04-04T13:58:25.466623Z",
     "start_time": "2023-04-04T13:58:25.221030Z"
    }
   },
   "outputs": [
    {
     "name": "stdout",
     "output_type": "stream",
     "text": [
      "Real Space: Train_loss: 9.64147, Test_loss:15.3193\n"
     ]
    }
   ],
   "source": [
    "shifted_target = shift_coeffs(train_ldos, emin, emax, biased_best_state)    \n",
    "shifted_reg_target = torch.vstack([shifted_target, torch.zeros(n_col,train_ldos.shape[1])])   \n",
    "\n",
    "\n",
    "shifted_weights = torch.linalg.lstsq(reg_features, shifted_reg_target, driver = \"gelsd\").solution\n",
    "shifted_preds = Features @ shifted_weights\n",
    "shifted_t_preds = t_Features @ shifted_weights\n",
    "\n",
    "shifted_train_loss = torch.mean(abs(shifted_preds - shifted_target)**2)\n",
    "biased_shifted_test_loss = MSE_shift_fourier(shifted_t_preds, coeffs[t_index], 5)\n",
    "\n",
    "\n",
    "zeroed_train_predictions = evaluate_dos_from_fourier(shift_coeffs(shifted_preds, emin, emax, -1 * biased_best_state) , emin, emax, num_eval=778)\n",
    "zeroed_test_predictions = evaluate_dos_from_fourier(shift_coeffs(shifted_t_preds, emin, emax, 1 * biased_shifted_test_loss[1]) , emin, emax, num_eval=778)\n",
    "\n",
    "\n",
    "\n",
    "train_rmse = loss.t_get_rmse(zeroed_train_predictions, f_ldos[biased_train_index], xdos, perc = True)\n",
    "test_rmse = loss.t_get_rmse(zeroed_test_predictions, f_ldos[biased_test_index], xdos, perc = True)\n",
    "\n",
    "print (\"Real Space: Train_loss: {:.6}, Test_loss:{:.6}\".format(train_rmse, test_rmse))"
   ]
  },
  {
   "cell_type": "code",
   "execution_count": 29,
   "id": "206700a3",
   "metadata": {
    "ExecuteTime": {
     "end_time": "2023-04-04T13:58:26.755941Z",
     "start_time": "2023-04-04T13:58:26.745770Z"
    }
   },
   "outputs": [
    {
     "name": "stdout",
     "output_type": "stream",
     "text": [
      "Real Space to gaussian: Train_loss: 9.77523, Test_loss:15.4148\n"
     ]
    }
   ],
   "source": [
    "train_rmse = loss.t_get_rmse(zeroed_train_predictions, ldos[biased_train_index], xdos, perc = True)\n",
    "test_rmse = loss.t_get_rmse(zeroed_test_predictions, ldos[biased_test_index], xdos, perc = True)\n",
    "\n",
    "print (\"Real Space to gaussian: Train_loss: {:.6}, Test_loss:{:.6}\".format(train_rmse, test_rmse))"
   ]
  },
  {
   "cell_type": "code",
   "execution_count": 30,
   "id": "4d5fae8b",
   "metadata": {
    "ExecuteTime": {
     "end_time": "2023-04-04T13:58:51.324128Z",
     "start_time": "2023-04-04T13:58:51.316380Z"
    }
   },
   "outputs": [],
   "source": [
    "biased_test_shift = biased_shifted_test_loss[1]\n",
    "torch.save(biased_test_shift, \"./biased_test_shift.pt\")"
   ]
  },
  {
   "cell_type": "markdown",
   "id": "5dfb8b99",
   "metadata": {},
   "source": [
    "### For gaussian dataset"
   ]
  },
  {
   "cell_type": "code",
   "execution_count": 52,
   "id": "1ec30f1e",
   "metadata": {
    "ExecuteTime": {
     "end_time": "2023-04-04T09:59:15.914408Z",
     "start_time": "2023-04-04T09:58:08.737755Z"
    }
   },
   "outputs": [
    {
     "name": "stderr",
     "output_type": "stream",
     "text": [
      "100%|████████████████████████████████████████████████████████████████████████████████████████████████████████████████████████████████████████████████████████████████████████████| 831/831 [01:07<00:00, 12.38it/s]\n"
     ]
    }
   ],
   "source": [
    "##Generate individual xdos, ldos\n",
    "new_biased_train_ldos = []\n",
    "\n",
    "sigma = torch.tensor(0.3)\n",
    "ndos = 778\n",
    "\n",
    "emin = -24.5537 - 1.5\n",
    "emax = 11.3464 + 1.5\n",
    "x_dos = torch.linspace(emin, emax, 778)\n",
    "for j, i in enumerate(tqdm(biased_train_index)):\n",
    "    \n",
    "    l_dos = torch.sum(torch.exp(-0.5*((x_dos + biased_best_state[j] - full_eigen_energies[i].view(-1,1))/sigma)**2), dim = 0)\n",
    "    new_biased_train_ldos.append(l_dos)\n",
    "\n",
    "new_biased_train_ldos = torch.vstack(new_biased_train_ldos)\n",
    "new_biased_train_ldos = ((new_biased_train_ldos.T * normalization[biased_train_index] ).T)* 2"
   ]
  },
  {
   "cell_type": "code",
   "execution_count": 53,
   "id": "8899aef3",
   "metadata": {
    "ExecuteTime": {
     "end_time": "2023-04-04T09:59:26.273532Z",
     "start_time": "2023-04-04T09:59:15.916801Z"
    }
   },
   "outputs": [
    {
     "name": "stderr",
     "output_type": "stream",
     "text": [
      "100%|████████████████████████████████████████████████████████████████████████████████████████████████████████████████████████████████████████████████████████████████████████████| 208/208 [00:09<00:00, 21.78it/s]\n"
     ]
    }
   ],
   "source": [
    "##Generate individual xdos, ldos\n",
    "new_biased_test_ldos = []\n",
    "\n",
    "sigma = torch.tensor(0.3)\n",
    "ndos = 778\n",
    "\n",
    "emin = -24.5537 - 1.5\n",
    "emax = 11.3464 + 1.5\n",
    "x_dos = torch.linspace(emin, emax, 778)\n",
    "for j, i in enumerate(tqdm(biased_test_index)):\n",
    "    \n",
    "    l_dos = torch.sum(torch.exp(-0.5*((x_dos - biased_shifted_test_loss[1][j]- full_eigen_energies[i].view(-1,1))/sigma)**2), dim = 0)\n",
    "    new_biased_test_ldos.append(l_dos)\n",
    "    \n",
    "new_biased_test_ldos = torch.vstack(new_biased_test_ldos)\n",
    "new_biased_test_ldos = ((new_biased_test_ldos.T * normalization[biased_test_index] ).T)* 2"
   ]
  },
  {
   "cell_type": "code",
   "execution_count": 54,
   "id": "d8e9a2da",
   "metadata": {
    "ExecuteTime": {
     "end_time": "2023-04-04T09:59:26.344867Z",
     "start_time": "2023-04-04T09:59:26.275096Z"
    }
   },
   "outputs": [
    {
     "name": "stdout",
     "output_type": "stream",
     "text": [
      "Using fourier shifts, Train_rmse:11.6673, Test_rmse 18.1646\n"
     ]
    }
   ],
   "source": [
    "# shifted_target = shift_coeffs(new_train_ldos, emin, emax, best_state1) \n",
    "# shifted_reg_target = torch.vstack([shifted_target, torch.zeros(n_col,new_train_ldos.shape[1])])   \n",
    "shifted_reg_target = torch.vstack([new_biased_train_ldos, torch.zeros(n_col,new_biased_train_ldos.shape[1])])\n",
    "\n",
    "shifted_weights = torch.linalg.lstsq(reg_features.double(), shifted_reg_target, driver = \"gelsd\", rcond = 1e-10).solution\n",
    "\n",
    "shifted_train_preds = Features.double() @ shifted_weights\n",
    "shifted_test_preds = t_Features.double() @ shifted_weights\n",
    "\n",
    "train_rmse = loss.t_get_rmse(shifted_train_preds, new_biased_train_ldos, xdos, perc = True)\n",
    "test_rmse = loss.t_get_rmse(shifted_test_preds, new_biased_test_ldos, xdos, perc = True)\n",
    "\n",
    "print (\"Using fourier shifts, Train_rmse:{:.6}, Test_rmse {:.6}\".format(train_rmse, test_rmse)) "
   ]
  },
  {
   "cell_type": "code",
   "execution_count": 55,
   "id": "123041f8",
   "metadata": {
    "ExecuteTime": {
     "end_time": "2023-04-04T09:59:26.410386Z",
     "start_time": "2023-04-04T09:59:26.347015Z"
    }
   },
   "outputs": [
    {
     "name": "stdout",
     "output_type": "stream",
     "text": [
      "No shifts, Train_rmse:10.3077, Test_rmse 16.2216\n"
     ]
    }
   ],
   "source": [
    "# original_target = shift_coeffs(ldos[train_index], emin, emax, best_state1) \n",
    "# original_reg_target = torch.vstack([original_target, torch.zeros(n_col,ldos.shape[1])])   \n",
    "\n",
    "\n",
    "original_reg_target = torch.vstack([ldos[biased_train_index], torch.zeros(n_col,ldos.shape[1])])\n",
    "\n",
    "original_weights = torch.linalg.lstsq(reg_features.double(), original_reg_target, driver = \"gelsd\").solution\n",
    "\n",
    "original_train_preds = Features.double() @ original_weights\n",
    "original_test_preds = t_Features.double() @ original_weights\n",
    "\n",
    "train_rmse = loss.t_get_rmse(original_train_preds, ldos[biased_train_index], xdos, perc = True)\n",
    "test_rmse = loss.t_get_rmse(original_test_preds, ldos[biased_test_index], xdos, perc = True)\n",
    "\n",
    "print (\"No shifts, Train_rmse:{:.6}, Test_rmse {:.6}\".format(train_rmse, test_rmse))"
   ]
  },
  {
   "cell_type": "markdown",
   "id": "eae7ea05",
   "metadata": {},
   "source": [
    "### Quartic Dataset"
   ]
  },
  {
   "cell_type": "code",
   "execution_count": 56,
   "id": "5ae9b7b4",
   "metadata": {
    "ExecuteTime": {
     "end_time": "2023-04-04T09:59:28.987613Z",
     "start_time": "2023-04-04T09:59:26.412060Z"
    }
   },
   "outputs": [
    {
     "name": "stderr",
     "output_type": "stream",
     "text": [
      "100%|███████████████████████████████████████████████████████████████████████████████████████████████████████████████████████████████████████████████████████████████████████████| 831/831 [00:02<00:00, 324.02it/s]\n"
     ]
    }
   ],
   "source": [
    "##Generate individual xdos, ldos\n",
    "with torch.no_grad():\n",
    "    biased_train_ldos2 = []\n",
    "\n",
    "    sigma = torch.tensor(0.3)\n",
    "    ndos = 778 #+ int(30/0.05)\n",
    "\n",
    "\n",
    "    emin = -24.5537 - 1.5\n",
    "    emax = 11.3464 + 1.5\n",
    "\n",
    "    x_dos2 = torch.linspace(emin, emax, 778)\n",
    "\n",
    "    for j,i in enumerate(tqdm(biased_train_index)):\n",
    "        #steps = int((rbounds[i].item()- (10 * sigma) - lbounds[i].item() - 1.5)/0.05)    \n",
    "        l_dos2 = quartic_dos(sorted_full_eigen_energies[i] + biased_best_state[j], x_dos2, sigma)#torch.sum(torch.exp(-0.5*((x_dos - full_eigen_energies[i].view(-1,1))/sigma)**2), dim = 0)\n",
    "    #     n_xdos2.append(x_dos2)\n",
    "        biased_train_ldos2.append(l_dos2)\n",
    "\n",
    "    # n_xdos2 = torch.vstack(n_xdos2)\n",
    "    biased_train_ldos2 = torch.vstack(biased_train_ldos2)\n",
    "    biased_train_ldos2 = ((biased_train_ldos2.T * normalization_quartic[biased_train_index] ).T)* 2\n",
    "\n",
    "#Do cutting here?"
   ]
  },
  {
   "cell_type": "code",
   "execution_count": 57,
   "id": "9fba2ded",
   "metadata": {
    "ExecuteTime": {
     "end_time": "2023-04-04T09:59:29.463801Z",
     "start_time": "2023-04-04T09:59:28.989172Z"
    }
   },
   "outputs": [
    {
     "name": "stderr",
     "output_type": "stream",
     "text": [
      "100%|███████████████████████████████████████████████████████████████████████████████████████████████████████████████████████████████████████████████████████████████████████████| 208/208 [00:00<00:00, 446.12it/s]\n"
     ]
    }
   ],
   "source": [
    "##Generate individual xdos, ldos\n",
    "with torch.no_grad():\n",
    "    biased_test_ldos2 = []\n",
    "\n",
    "    sigma = torch.tensor(0.3)\n",
    "    ndos = 778 #+ int(30/0.05)\n",
    "\n",
    "\n",
    "    emin = -24.5537 - 1.5\n",
    "    emax = 11.3464 + 1.5\n",
    "\n",
    "    x_dos2 = torch.linspace(emin, emax, 778)\n",
    "\n",
    "    for j,i in enumerate(tqdm(biased_test_index)):\n",
    "        #steps = int((rbounds[i].item()- (10 * sigma) - lbounds[i].item() - 1.5)/0.05)    \n",
    "        l_dos2 = quartic_dos(sorted_full_eigen_energies[i] - shifted_test_loss[1][j], x_dos2, sigma)#torch.sum(torch.exp(-0.5*((x_dos - full_eigen_energies[i].view(-1,1))/sigma)**2), dim = 0)\n",
    "    #     n_xdos2.append(x_dos2)\n",
    "        biased_test_ldos2.append(l_dos2)\n",
    "\n",
    "    # n_xdos2 = torch.vstack(n_xdos2)\n",
    "    biased_test_ldos2 = torch.vstack(biased_test_ldos2)\n",
    "    biased_test_ldos2 = ((biased_test_ldos2.T * normalization_quartic[biased_test_index] ).T)* 2\n",
    "\n",
    "#Do cutting here?"
   ]
  },
  {
   "cell_type": "code",
   "execution_count": 58,
   "id": "21c92a0d",
   "metadata": {
    "ExecuteTime": {
     "end_time": "2023-04-04T09:59:29.522934Z",
     "start_time": "2023-04-04T09:59:29.465343Z"
    }
   },
   "outputs": [
    {
     "name": "stdout",
     "output_type": "stream",
     "text": [
      "Using fourier shifts, Train_rmse:9.23298, Test_rmse 14.6728\n"
     ]
    }
   ],
   "source": [
    "# shifted_target = shift_coeffs(new_train_ldos, emin, emax, best_state1) \n",
    "# shifted_reg_target = torch.vstack([shifted_target, torch.zeros(n_col,new_train_ldos.shape[1])])   \n",
    "shifted_reg_target = torch.vstack([biased_train_ldos2, torch.zeros(n_col,biased_train_ldos2.shape[1])])\n",
    "\n",
    "shifted_weights = torch.linalg.lstsq(reg_features.double(), shifted_reg_target, driver = \"gelsd\").solution\n",
    "\n",
    "shifted_train_preds = Features.double() @ shifted_weights\n",
    "shifted_test_preds = t_Features.double() @ shifted_weights\n",
    "\n",
    "train_rmse = loss.t_get_rmse(shifted_train_preds, biased_train_ldos2, xdos, perc = True)\n",
    "test_rmse = loss.t_get_rmse(shifted_test_preds, biased_test_ldos2, xdos, perc = True)\n",
    "\n",
    "print (\"Using fourier shifts, Train_rmse:{:.6}, Test_rmse {:.6}\".format(train_rmse, test_rmse)) "
   ]
  },
  {
   "cell_type": "code",
   "execution_count": 59,
   "id": "36e0ac40",
   "metadata": {
    "ExecuteTime": {
     "end_time": "2023-04-04T09:59:29.586661Z",
     "start_time": "2023-04-04T09:59:29.524599Z"
    }
   },
   "outputs": [
    {
     "name": "stdout",
     "output_type": "stream",
     "text": [
      "No shifts, Train_rmse:9.85658, Test_rmse 15.5983\n"
     ]
    }
   ],
   "source": [
    "# original_target = shift_coeffs(ldos[train_index], emin, emax, best_state1) \n",
    "# original_reg_target = torch.vstack([original_target, torch.zeros(n_col,ldos.shape[1])])   \n",
    "\n",
    "\n",
    "original_reg_target = torch.vstack([quartic_ldos[biased_train_index], torch.zeros(n_col,ldos.shape[1])])\n",
    "\n",
    "original_weights = torch.linalg.lstsq(reg_features.double(), original_reg_target, driver = \"gelsd\").solution\n",
    "\n",
    "original_train_preds = Features.double() @ original_weights\n",
    "original_test_preds = t_Features.double() @ original_weights\n",
    "\n",
    "train_rmse = loss.t_get_rmse(original_train_preds, quartic_ldos[biased_train_index], xdos, perc = True)\n",
    "test_rmse = loss.t_get_rmse(original_test_preds, quartic_ldos[biased_test_index], xdos, perc = True)\n",
    "\n",
    "print (\"No shifts, Train_rmse:{:.6}, Test_rmse {:.6}\".format(train_rmse, test_rmse))"
   ]
  },
  {
   "cell_type": "markdown",
   "id": "707310cb",
   "metadata": {},
   "source": [
    "## Last"
   ]
  },
  {
   "cell_type": "code",
   "execution_count": null,
   "id": "4feba9c4",
   "metadata": {},
   "outputs": [],
   "source": []
  }
 ],
 "metadata": {
  "kernelspec": {
   "display_name": "Python 3 (ipykernel)",
   "language": "python",
   "name": "python3"
  },
  "language_info": {
   "codemirror_mode": {
    "name": "ipython",
    "version": 3
   },
   "file_extension": ".py",
   "mimetype": "text/x-python",
   "name": "python",
   "nbconvert_exporter": "python",
   "pygments_lexer": "ipython3",
   "version": "3.9.12"
  },
  "toc": {
   "base_numbering": 1,
   "nav_menu": {},
   "number_sections": true,
   "sideBar": true,
   "skip_h1_title": false,
   "title_cell": "Table of Contents",
   "title_sidebar": "Contents",
   "toc_cell": false,
   "toc_position": {
    "height": "calc(100% - 180px)",
    "left": "10px",
    "top": "150px",
    "width": "165px"
   },
   "toc_section_display": true,
   "toc_window_display": true
  }
 },
 "nbformat": 4,
 "nbformat_minor": 5
}
