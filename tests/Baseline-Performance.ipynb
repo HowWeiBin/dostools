{
 "cells": [
  {
   "cell_type": "code",
   "execution_count": 3,
   "id": "2408af2c",
   "metadata": {
    "ExecuteTime": {
     "end_time": "2023-04-21T16:24:36.112494Z",
     "start_time": "2023-04-21T16:24:35.217272Z"
    }
   },
   "outputs": [],
   "source": [
    "import dostools\n",
    "import importlib\n",
    "import numpy as np\n",
    "import pickle\n",
    "import torch\n",
    "import sys\n",
    "import matplotlib.pyplot as plt\n",
    "import copy\n",
    "from tqdm import tqdm\n",
    "import matplotlib\n",
    "import time\n",
    "import scipy \n",
    "import copy\n",
    "import ase\n",
    "import ase.io\n",
    "torch.set_default_dtype(torch.float64) \n",
    "# %matplotlib notebook\n",
    "matplotlib.rcParams['figure.figsize'] = (10, 10)"
   ]
  },
  {
   "cell_type": "markdown",
   "id": "09d55fa0",
   "metadata": {},
   "source": [
    "## Loading Data"
   ]
  },
  {
   "cell_type": "code",
   "execution_count": 216,
   "id": "db388414",
   "metadata": {
    "ExecuteTime": {
     "end_time": "2023-04-24T12:40:49.885936Z",
     "start_time": "2023-04-24T12:40:49.809317Z"
    }
   },
   "outputs": [],
   "source": [
    "import dostools.datasets.data as data\n",
    "import dostools.utils.utils as utils\n",
    "\n",
    "with torch.no_grad():\n",
    "#     sigma = 0.3\n",
    "#     structures = data.load_structures(\":\")\n",
    "#     n_structures = len(structures) #total number of structures\n",
    "#     for structure in structures:#implement periodicity\n",
    "#         structure.wrap(eps = 1e-12) \n",
    "#     n_atoms = np.zeros(n_structures, dtype = int) #stores number of atoms in each structures\n",
    "#     for i in range(n_structures):\n",
    "#         n_atoms[i] = len(structures[i])\n",
    "        \n",
    "    xdos = torch.tensor(data.load_xdos())\n",
    "    \n",
    "    total_dos3 = torch.load(\"./total_ldos3.pt\")\n",
    "    total_dos1 = torch.load(\"./total_ldos1.pt\")\n",
    "    \n",
    "    surface_dos3 = torch.load(\"./surface_ldos3.pt\")\n",
    "    surface_dos1 = torch.load(\"./surface_ldos1.pt\")\n",
    "    \n",
    "    surface_aligned_dos3 = torch.load(\"./surface_aligned_dos3.pt\")\n",
    "    surface_aligned_dos1 = torch.load(\"./surface_aligned_dos1.pt\")\n",
    "    \n",
    "    bulk_dos3 = torch.load(\"./bulk_ldos3.pt\")\n",
    "    bulk_dos1 = torch.load(\"./bulk_ldos1.pt\")\n",
    "    \n",
    "    total_aligned_dos3 = torch.load(\"./total_aligned_dos3.pt\")\n",
    "    total_aligned_dos1 = torch.load(\"./total_aligned_dos1.pt\")\n",
    "    \n",
    "    surface_soap = torch.load(\"./surface_soap.pt\")\n",
    "    bulk_soap = torch.load(\"./bulk_soap.pt\")\n",
    "    total_soap = torch.load(\"./total_soap.pt\")\n",
    "    \n",
    "    surface_kernel_30 = torch.load(\"./surface_kernel_30.pt\")\n",
    "    surface_kMM_30 = torch.load(\"./surface_kMM_30.pt\")\n",
    "    \n",
    "    bulk_kernel_200 = torch.load(\"./bulk_kernel_200.pt\")\n",
    "    bulk_kMM_200 = torch.load(\"./bulk_kMM_200.pt\")\n",
    "    \n",
    "    bulk_kernel_100 = torch.load(\"./bulk_kernel_100.pt\")\n",
    "    bulk_kMM_100 = torch.load(\"./bulk_kMM_100.pt\")\n",
    "    \n",
    "    total_kernel_100 = torch.load(\"./total_kernel_100.pt\")\n",
    "    total_kMM_100 = torch.load(\"./total_kMM_100.pt\")\n",
    "    \n",
    "    total_kernel_150 = torch.load(\"./total_kernel_150.pt\")\n",
    "    total_kMM_150 = torch.load(\"./total_kMM_150.pt\")\n",
    "    \n",
    "    "
   ]
  },
  {
   "cell_type": "markdown",
   "id": "6efa58ea",
   "metadata": {},
   "source": [
    "## Generate all train-test indexes"
   ]
  },
  {
   "cell_type": "code",
   "execution_count": 6,
   "id": "f608fe30",
   "metadata": {
    "ExecuteTime": {
     "end_time": "2023-04-21T16:25:02.199828Z",
     "start_time": "2023-04-21T16:25:02.184692Z"
    }
   },
   "outputs": [],
   "source": [
    "def generate_train_test_split(n_samples):\n",
    "    n_structures = n_samples\n",
    "    np.random.seed(0)\n",
    "    n_train = int(0.8 * n_structures)\n",
    "    train_index = np.arange(n_structures)\n",
    "    np.random.shuffle(train_index)\n",
    "    test_index = train_index[n_train:]\n",
    "    train_index = train_index[:n_train]\n",
    "    \n",
    "    return train_index, test_index\n",
    "\n",
    "def generate_biased_train_test_split(n_samples):\n",
    "    #Assumes 100 amorphous structures at the end\n",
    "    n_structures = n_samples\n",
    "    amorph_train = np.arange(n_samples-100, n_samples,1)\n",
    "    np.random.seed(0)\n",
    "    np.random.shuffle(amorph_train)\n",
    "    \n",
    "    amorph_test = amorph_train[:80]\n",
    "    amorph_train = amorph_train[80:]\n",
    "\n",
    "    n_structures = n_samples - 100\n",
    "    np.random.seed(0)\n",
    "    n_train = int(0.8 * n_samples)-20\n",
    "    remaining_train_index = np.arange(n_structures)\n",
    "    np.random.shuffle(remaining_train_index)\n",
    "\n",
    "    remaining_test_index = remaining_train_index[n_train:]\n",
    "    remaining_train_index = remaining_train_index[:n_train]\n",
    "\n",
    "    biased_train_index = np.concatenate([remaining_train_index, amorph_train])\n",
    "    biased_test_index = np.concatenate([remaining_test_index, amorph_test])\n",
    "    \n",
    "    return biased_train_index, biased_test_index\n",
    "\n",
    "def generate_surface_holdout_split(n_samples):\n",
    "    #Assumes that we are using the 110 surfaces for test which are located at 673 + 31st-57th index\n",
    "    #26 structures\n",
    "    \n",
    "    n_test = int(0.2 * n_samples) - 26\n",
    "    n_train = n_samples - n_test\n",
    "    \n",
    "    remaining_indexes = np.concatenate([np.arange(673+31), np.arange(673+57,n_samples,1)])\n",
    "    indexes_110 = np.arange(673+31, 673+57,1)\n",
    "    np.random.seed(0)\n",
    "    \n",
    "    np.random.shuffle(remaining_indexes)\n",
    "    \n",
    "    remaining_test_index = remaining_indexes[n_train:]\n",
    "    remaining_train_index = remaining_indexes[:n_train]\n",
    "    \n",
    "    total_train_index = remaining_train_index\n",
    "    total_test_index = np.concatenate([remaining_test_index, indexes_110])\n",
    "    \n",
    "    return total_train_index, total_test_index\n",
    "    \n",
    "def surface_holdout(n_samples):\n",
    "    test_index = np.arange(31,57,1)\n",
    "    train_index = np.concatenate([np.arange(31), np.arange(57, n_samples)])\n",
    "    \n",
    "    return train_index, test_index\n",
    "\n",
    "n_surfaces = 154\n",
    "n_bulkstructures = 773\n",
    "n_total_structures = 773 + 154\n",
    "\n",
    "\n",
    "surface_train_index, surface_test_index = generate_train_test_split(n_surfaces)\n",
    "bulk_train_index, bulk_test_index = generate_train_test_split(n_bulkstructures)\n",
    "total_train_index, total_test_index = generate_train_test_split(n_total_structures)\n",
    "surface_holdout_train_index, surface_holdout_test_index = surface_holdout(n_surfaces)\n",
    "bulk_biased_train_index, bulk_biased_test_index = generate_biased_train_test_split(n_bulkstructures)\n",
    "total_biased_train_index, total_biased_test_index = generate_biased_train_test_split(n_total_structures)\n",
    "holdout_train_index, holdout_test_index = generate_surface_holdout_split(n_total_structures)"
   ]
  },
  {
   "cell_type": "markdown",
   "id": "498176c5",
   "metadata": {},
   "source": [
    "## Determine Cutoff for truncated data"
   ]
  },
  {
   "cell_type": "code",
   "execution_count": 447,
   "id": "29cbed04",
   "metadata": {
    "ExecuteTime": {
     "end_time": "2023-05-01T15:19:21.520713Z",
     "start_time": "2023-05-01T15:19:21.513974Z"
    }
   },
   "outputs": [
    {
     "data": {
      "text/plain": [
       "tensor(-4.7117)"
      ]
     },
     "execution_count": 447,
     "metadata": {},
     "output_type": "execute_result"
    }
   ],
   "source": [
    "cutoff - 3"
   ]
  },
  {
   "cell_type": "code",
   "execution_count": 310,
   "id": "3af01b46",
   "metadata": {
    "ExecuteTime": {
     "end_time": "2023-04-25T19:38:03.622520Z",
     "start_time": "2023-04-25T19:37:59.631752Z"
    }
   },
   "outputs": [],
   "source": [
    "# Fermi level\n",
    "import ase\n",
    "\n",
    "T_0 = 200\n",
    "beta_0 = 1 / (ase.units.kB * T_0) # inverse temperature\n",
    "efermi = torch.zeros(n_total_structures)\n",
    "for i in range(n_total_structures):\n",
    "    efermi[i] = torch.tensor(utils.getmu(total_dos1[i], beta_0, xdos, n=4))\n",
    "cutoff = torch.max(efermi) + 3\n",
    "cutoff_index = torch.searchsorted(xdos, cutoff)\n"
   ]
  },
  {
   "cell_type": "code",
   "execution_count": 443,
   "id": "6ac21adb",
   "metadata": {
    "ExecuteTime": {
     "end_time": "2023-04-26T14:07:38.044258Z",
     "start_time": "2023-04-26T14:07:38.037659Z"
    }
   },
   "outputs": [
    {
     "data": {
      "text/plain": [
       "tensor(487)"
      ]
     },
     "execution_count": 443,
     "metadata": {},
     "output_type": "execute_result"
    }
   ],
   "source": [
    "cutoff_index"
   ]
  },
  {
   "cell_type": "markdown",
   "id": "23c31c4a",
   "metadata": {
    "heading_collapsed": true
   },
   "source": [
    "## Opt Discrete shift"
   ]
  },
  {
   "cell_type": "code",
   "execution_count": 7,
   "id": "bdced428",
   "metadata": {
    "ExecuteTime": {
     "end_time": "2023-04-21T16:25:25.047038Z",
     "start_time": "2023-04-21T16:25:25.034241Z"
    },
    "hidden": true
   },
   "outputs": [],
   "source": [
    "#Generate shifted data\n",
    "def shifted_ldos(ldos, xdos, shift): \n",
    "    xdos_step = xdos[1] - xdos[0]\n",
    "    shifted_ldos = torch.zeros_like(ldos)\n",
    "    if len(ldos.shape) > 1:\n",
    "        xdos_shift = torch.round(shift/xdos_step).int()\n",
    "        for i in range(len(ldos)):\n",
    "            if xdos_shift[i] > 0:\n",
    "                shifted_ldos[i] = torch.nn.functional.pad(ldos[i,:-1*xdos_shift[i]], (xdos_shift[i],0))\n",
    "            elif xdos_shift[i] < 0:\n",
    "                shifted_ldos[i] = torch.nn.functional.pad(ldos[i,(-1*xdos_shift[i]):], (0,(-1*xdos_shift[i])))\n",
    "            else:\n",
    "                shifted_ldos[i] = ldos[i]\n",
    "    else:        \n",
    "        xdos_shift = int(torch.round(shift/xdos_step))\n",
    "        if xdos_shift > 0:\n",
    "            shifted_ldos = torch.nn.functional.pad(ldos[:-1*xdos_shift], (xdos_shift,0))\n",
    "        elif xdos_shift < 0:\n",
    "            shifted_ldos = torch.nn.functional.pad(ldos[(-1*xdos_shift):], (0,(-1*xdos_shift)))\n",
    "        else:\n",
    "            shifted_ldos = ldos\n",
    "    return shifted_ldos\n",
    "\n"
   ]
  },
  {
   "cell_type": "code",
   "execution_count": 239,
   "id": "0d217c4b",
   "metadata": {
    "ExecuteTime": {
     "end_time": "2023-04-18T20:03:29.331692Z",
     "start_time": "2023-04-18T20:03:29.321110Z"
    },
    "hidden": true
   },
   "outputs": [],
   "source": [
    "from scipy.signal import convolve, correlate, correlation_lags\n",
    "def find_optimal_discrete_shift(y1, y2):\n",
    "    if y2.shape == y1.shape and len(y1.shape) == 2:\n",
    "        shift = []\n",
    "        for i in range(y2.shape[0]):\n",
    "            corr = correlate(y1[i], y2[i], mode='full')\n",
    "            shift_i = np.argmax(corr) - len(y2[i]) + 1   \n",
    "            shift.append(shift_i)\n",
    "        \n",
    "        \n",
    "    elif y2.shape == y1.shape and len(y1.shape) == 1:\n",
    "        corr = correlate(y1, y2, mode='full')\n",
    "        shift = np.argmax(corr) - len(y2) + 1   \n",
    "    else:\n",
    "        print (\"input shapes are not the same\")\n",
    "        raise Exception\n",
    "    return shift\n"
   ]
  },
  {
   "cell_type": "code",
   "execution_count": null,
   "id": "f4b0b187",
   "metadata": {
    "hidden": true
   },
   "outputs": [],
   "source": [
    "test_ldos0 = shifted_ldos(ldos3, xdos, torch.ones(1039))\n",
    "optshift = find_optimal_shift(np.array(ldos3), np.array(test_ldos0))"
   ]
  },
  {
   "cell_type": "markdown",
   "id": "af2f80dc",
   "metadata": {},
   "source": [
    "## Training Functions"
   ]
  },
  {
   "cell_type": "markdown",
   "id": "1eda6697",
   "metadata": {},
   "source": [
    "### Analytical"
   ]
  },
  {
   "cell_type": "code",
   "execution_count": 18,
   "id": "bd10345f",
   "metadata": {
    "ExecuteTime": {
     "end_time": "2023-04-21T16:31:41.006051Z",
     "start_time": "2023-04-21T16:31:40.988990Z"
    }
   },
   "outputs": [],
   "source": [
    "def normal_reg_train_A(feat, target, train_index, test_index, reg):\n",
    "    features = torch.hstack([feat, torch.ones(feat.shape[0]).view(-1,1)])\n",
    "    Features = features[train_index]#Silicon.Features['structure_avekerneldescriptors'][train_index]\n",
    "    test_features = features[test_index]#Silicon.Features['structure_avekerneldescriptors'][test_index]\n",
    "    Target = target[train_index]\n",
    "    test_target = target[test_index]\n",
    "    n_col = Features.shape[1]\n",
    "    regularization = reg\n",
    "    reg = regularization * torch.eye(n_col)\n",
    "    reg[-1, -1] = 0\n",
    "    A = torch.vstack([Features, reg])\n",
    "    b = torch.vstack([Target, torch.zeros(n_col,Target.shape[1])])\n",
    "    weights = torch.linalg.lstsq(A, b, rcond=1e-10).solution\n",
    "    pred = Features @ weights \n",
    "    test_pred = test_features @ weights\n",
    "\n",
    "    loss_dos = loss.t_get_rmse(pred, Target, xdos, perc = True)\n",
    "    test_loss_dos = loss.t_get_rmse(test_pred, test_target, xdos, perc = True)\n",
    "    \n",
    "    return weights, loss_dos, test_loss_dos\n",
    "\n",
    "def kernel_reg_train_A(feat, target, train_index, test_index, reg, kMM):\n",
    "    features = torch.hstack([feat, torch.ones(feat.shape[0]).view(-1,1)])\n",
    "    Features = features[train_index]#Silicon.Features['structure_avekerneldescriptors'][train_index]\n",
    "    test_features = features[test_index]#Silicon.Features['structure_avekerneldescriptors'][test_index]\n",
    "    Target = target[train_index]\n",
    "    test_target = target[test_index]\n",
    "    n_col = Features.shape[1]\n",
    "    regularization = reg\n",
    "    rtkMM = scipy.linalg.sqrtm(kMM)\n",
    "    reg = torch.hstack([(torch.tensor(regularization * rtkMM)), torch.zeros(kMM.shape[0]).view(-1,1)])\n",
    "    reg = torch.vstack([reg, torch.zeros(n_col)])\n",
    "    # reg[-1, -1] = 0\n",
    "    A = torch.vstack([Features, reg])\n",
    "    b = torch.vstack([Target, torch.zeros(n_col,Target.shape[1])])\n",
    "\n",
    "    weights = torch.linalg.lstsq(A, b, driver = \"gelsd\", rcond = 1e-10).solution\n",
    "    pred = Features @ weights \n",
    "    test_pred = test_features @ weights\n",
    "\n",
    "    loss_dos = loss.t_get_rmse(pred, Target, xdos, perc = True)\n",
    "    test_loss_dos = loss.t_get_rmse(test_pred, test_target, xdos, perc = True)\n",
    "    \n",
    "    return weights, loss_dos, test_loss_dos"
   ]
  },
  {
   "cell_type": "markdown",
   "id": "dbd8b1cd",
   "metadata": {},
   "source": [
    "\n",
    "### Normal Reg"
   ]
  },
  {
   "cell_type": "code",
   "execution_count": 237,
   "id": "c7d73e37",
   "metadata": {
    "ExecuteTime": {
     "end_time": "2023-04-24T13:23:35.901028Z",
     "start_time": "2023-04-24T13:23:35.874104Z"
    }
   },
   "outputs": [],
   "source": [
    "from dostools.loss import loss\n",
    "\n",
    "def normal_reg_train_L(feat, target, train_index, test_index, regularization, n_epochs, lr):\n",
    "    \n",
    "    patience = 20\n",
    "    index = train_index\n",
    "    t_index = test_index\n",
    "    features = torch.hstack([feat, torch.ones(feat.shape[0]).view(-1,1)])\n",
    "    Features = features[index]\n",
    "    t_Features = features[t_index]\n",
    "    n_col = Features.shape[1]\n",
    "    Target = target[index]\n",
    "    t_Target = target[t_index]\n",
    "    reg = regularization * torch.eye(n_col)\n",
    "    reg[-1, -1] = 0\n",
    "    reg_features = torch.vstack([Features, reg])\n",
    "    reg_target = torch.vstack([Target, torch.zeros(n_col,Target.shape[1])])\n",
    "    \n",
    "\n",
    "\n",
    "    weights = torch.nn.Parameter(torch.rand(Features.shape[1], Target.shape[1])- 0.5)\n",
    "    opt = torch.optim.LBFGS([weights], lr = lr, line_search_fn = \"strong_wolfe\", tolerance_grad = 1e-20, tolerance_change = 1-20, history_size = 200)\n",
    "    pbar = tqdm(range(n_epochs))\n",
    "    current_rmse = torch.tensor(100)\n",
    "    pred_loss = torch.tensor(100)\n",
    "    prev_loss = torch.tensor(100)\n",
    "    best_mse = torch.tensor(100)\n",
    "    trigger = 0\n",
    "    for epoch in pbar:\n",
    "        pbar.set_description(f\"Epoch: {epoch}\")\n",
    "        pbar.set_postfix(pred_loss = pred_loss.item(), lowest_mse = best_mse.item(), trigger = trigger)\n",
    "        def closure():\n",
    "            opt.zero_grad()\n",
    "            pred_i = reg_features @ weights\n",
    "            loss_i = loss.t_get_mse(pred_i, reg_target)\n",
    "            loss_i.backward()\n",
    "            return loss_i\n",
    "        opt.step(closure)\n",
    "\n",
    "        with torch.no_grad():\n",
    "            preds = Features @ weights\n",
    "            epoch_rmse = loss.t_get_rmse(preds, Target, xdos, perc = True)\n",
    "            epoch_mse = loss.t_get_mse(preds, Target, xdos)\n",
    "\n",
    "\n",
    "            pred_loss = epoch_rmse\n",
    "\n",
    "            if epoch_mse < best_mse:\n",
    "                best_mse = epoch_mse\n",
    "                best_state = weights.clone()\n",
    "\n",
    "            if epoch_mse < prev_loss * ( 1 + 1e-3):\n",
    "                trigger =0\n",
    "            else:\n",
    "                trigger +=1 \n",
    "                if trigger >= patience:\n",
    "                    weights = best_state\n",
    "                    opt = torch.optim.Adam([weights], lr = opt.param_groups[0]['lr'], weight_decay = 0)\n",
    "\n",
    "            epoch_mse = prev_loss\n",
    "\n",
    "\n",
    "    \n",
    "\n",
    "    final_preds = Features @ best_state \n",
    "    final_t_preds = t_Features @ best_state\n",
    "\n",
    "    loss_dos = loss.t_get_rmse(final_preds, Target, xdos, perc = True)\n",
    "    test_loss_dos = loss.t_get_rmse(final_t_preds, t_Target, xdos, perc = True)\n",
    "    return best_state, loss_dos, test_loss_dos\n",
    "\n",
    "def normal_reg_train_Ad(feat, target, train_index, test_index, regularization, n_epochs, batch_size, lr):\n",
    "    index = train_index\n",
    "    t_index = test_index\n",
    "\n",
    "    features = torch.hstack([feat, torch.ones(feat.shape[0]).view(-1,1)])\n",
    "\n",
    "    Sampler = torch.utils.data.RandomSampler(index, replacement = False)\n",
    "    Batcher = torch.utils.data.BatchSampler(Sampler, batch_size, False)\n",
    "\n",
    "    Features = features[index]\n",
    "    t_Features = features[t_index]\n",
    "    n_col = Features.shape[1]\n",
    "\n",
    "\n",
    "    Target = target[index]\n",
    "    t_Target = target[t_index]\n",
    "\n",
    "\n",
    "    # reg_features = torch.vstack([Features, reg])\n",
    "    # reg_target = torch.vstack([Target, torch.zeros(n_col,Target.shape[1])])\n",
    "\n",
    "\n",
    "    reg = regularization * torch.eye(n_col)\n",
    "    reg[-1, -1] = 0\n",
    "\n",
    "\n",
    "    weights = torch.nn.Parameter((torch.rand(Features.shape[1], Target.shape[1])- 0.5))\n",
    "    opt = torch.optim.Adam([weights], lr = lr, weight_decay = 0)\n",
    "    scheduler = torch.optim.lr_scheduler.ReduceLROnPlateau(opt, factor = 0.1, patience = 500, threshold = 1e-7, min_lr = 1e-8)\n",
    "\n",
    "    pbar = tqdm(range(n_epochs))\n",
    "\n",
    "    current_rmse = torch.tensor(100)\n",
    "    pred_loss = torch.tensor(100)\n",
    "    prev_loss = torch.tensor(100)\n",
    "    best_mse = torch.tensor(100)\n",
    "    trigger = 0\n",
    "    for epoch in pbar:\n",
    "        pbar.set_description(f\"Epoch: {epoch}\")\n",
    "        pbar.set_postfix(pred_loss = pred_loss.item(), lowest_mse = best_mse.item(), trigger = trigger)\n",
    "        for i_batch in Batcher:\n",
    "            def closure():\n",
    "                opt.zero_grad()\n",
    "                reg_features_i = torch.vstack([Features[i_batch], reg])\n",
    "                target_i = torch.vstack([Target[i_batch], torch.zeros(n_col, Target.shape[1])])\n",
    "                pred_i = reg_features_i @ weights\n",
    "                loss_i = loss.t_get_mse(pred_i, target_i)\n",
    "                loss_i.backward()\n",
    "                return loss_i\n",
    "            opt.step(closure)\n",
    "\n",
    "        with torch.no_grad():\n",
    "            preds = Features @ weights\n",
    "            epoch_rmse = loss.t_get_rmse(preds, Target, xdos, perc = True)\n",
    "            epoch_mse = loss.t_get_mse(preds, Target, xdos)\n",
    "\n",
    "\n",
    "            pred_loss = epoch_rmse\n",
    "\n",
    "            if epoch_mse < best_mse:\n",
    "                best_mse = epoch_mse\n",
    "                best_state = weights.clone()\n",
    "\n",
    "            if epoch_mse < prev_loss * ( 1 + 1e-3):\n",
    "                trigger =0\n",
    "            else:\n",
    "                trigger +=1 \n",
    "                if trigger >= patience:\n",
    "                    weights = best_state\n",
    "                    opt = torch.optim.Adam([weights], lr = opt.param_groups[0]['lr'], weight_decay = 0)\n",
    "\n",
    "            epoch_mse = prev_loss\n",
    "\n",
    "            scheduler.step(epoch_mse)\n",
    "\n",
    "            if Batcher.batch_size > 1024:\n",
    "                break\n",
    "\n",
    "            if opt.param_groups[0]['lr'] < 1e-4:\n",
    "                Batcher.batch_size *= 2\n",
    "                opt.param_groups[0]['lr'] = lr\n",
    "                print (\"The batch_size is now: \", Batcher.batch_size)\n",
    "\n",
    "    \n",
    "\n",
    "    final_preds = Features @ best_state \n",
    "    final_t_preds = t_Features @ best_state\n",
    "\n",
    "    loss_dos = loss.t_get_rmse(final_preds, Target, xdos, perc = True)\n",
    "    test_loss_dos = loss.t_get_rmse(final_t_preds, t_Target, xdos, perc = True)\n",
    "    return best_state, loss_dos, test_loss_dos\n",
    "        "
   ]
  },
  {
   "cell_type": "code",
   "execution_count": 456,
   "id": "3c3e9896",
   "metadata": {
    "ExecuteTime": {
     "end_time": "2023-05-01T21:53:26.668919Z",
     "start_time": "2023-05-01T21:53:26.664870Z"
    }
   },
   "outputs": [
    {
     "name": "stdout",
     "output_type": "stream",
     "text": [
      "10\n"
     ]
    }
   ],
   "source": [
    "a = 3 \\\n",
    "+ 7\n",
    "print (a)"
   ]
  },
  {
   "cell_type": "markdown",
   "id": "6870b559",
   "metadata": {},
   "source": [
    "### Kernel reg"
   ]
  },
  {
   "cell_type": "code",
   "execution_count": 450,
   "id": "eb542ea3",
   "metadata": {
    "ExecuteTime": {
     "end_time": "2023-05-01T21:40:17.285381Z",
     "start_time": "2023-05-01T21:40:17.238144Z"
    }
   },
   "outputs": [],
   "source": [
    "def kernel_reg_train_Ad(feat, target, train_index, test_index, kMM, regularization, n_epochs, batch_size, lr):\n",
    "    index = train_index\n",
    "    t_index = test_index\n",
    "    features = torch.hstack([feat, torch.ones(feat.shape[0]).view(-1,1)])\n",
    "    Features = features[index]\n",
    "    t_Features = features[t_index]\n",
    "    n_col = Features.shape[1]\n",
    "    Target = target[index]\n",
    "    t_Target = target[t_index]\n",
    "    Sampler = torch.utils.data.RandomSampler(index, replacement = False)\n",
    "    Batcher = torch.utils.data.BatchSampler(Sampler, batch_size, False)\n",
    "    rtkMM = scipy.linalg.sqrtm(kMM)\n",
    "    reg = torch.hstack([(torch.tensor(regularization * rtkMM)), torch.zeros(kMM.shape[0]).view(-1,1)])\n",
    "    reg = torch.vstack([reg, torch.zeros(n_col)])\n",
    "\n",
    "    # reg_features = torch.vstack([Features, reg])\n",
    "    # reg_target = torch.vstack([Target, torch.zeros(n_col,Target.shape[1])])\n",
    "    weights = torch.nn.Parameter(torch.rand(Features.shape[1], Target.shape[1])- 0.5) \n",
    "\n",
    "    # weights = torch.nn.Parameter((torch.rand(Features.shape[1], Target.shape[1])- 0.5) * 1e-7)\n",
    "    opt = torch.optim.Adam([weights], lr = 1e-3, weight_decay = 0)\n",
    "    scheduler = torch.optim.lr_scheduler.ReduceLROnPlateau(opt, factor = 0.1, patience = 200, threshold = 1e-5, min_lr = 1e-8)\n",
    "    pbar = tqdm(range(n_epochs))\n",
    "    \n",
    "    current_rmse = torch.tensor(100)\n",
    "    pred_loss = torch.tensor(100)\n",
    "    prev_loss = torch.tensor(100)\n",
    "    best_mse = torch.tensor(100)\n",
    "    trigger = 0\n",
    "    for epoch in pbar:\n",
    "        pbar.set_description(f\"Epoch: {epoch}\")\n",
    "        pbar.set_postfix(pred_loss = pred_loss.item(), lowest_mse = best_mse.item(), trigger = trigger)\n",
    "        for i_batch in Batcher:\n",
    "            def closure():\n",
    "                opt.zero_grad()\n",
    "                reg_features_i = torch.vstack([Features[i_batch], reg])\n",
    "                target_i = torch.vstack([Target[i_batch], torch.zeros(n_col, Target.shape[1])])\n",
    "                pred_i = reg_features_i @ weights\n",
    "                loss_i = loss.t_get_mse(pred_i, target_i)\n",
    "                loss_i.backward()\n",
    "                return loss_i\n",
    "            opt.step(closure)\n",
    "\n",
    "        with torch.no_grad():\n",
    "            preds = Features @ weights\n",
    "            epoch_rmse = loss.t_get_rmse(preds, Target, xdos, perc = True)\n",
    "            epoch_mse = loss.t_get_mse(preds, Target, xdos)\n",
    "\n",
    "\n",
    "            pred_loss = epoch_rmse\n",
    "\n",
    "            if epoch_mse < best_mse:\n",
    "                best_mse = epoch_mse\n",
    "                best_state = weights.clone()\n",
    "\n",
    "            if epoch_mse < prev_loss * ( 1 + 1e-3):\n",
    "                trigger =0\n",
    "            else:\n",
    "                trigger +=1 \n",
    "                if trigger >= patience:\n",
    "                    weights = best_state\n",
    "                    opt = torch.optim.Adam([weights], lr = opt.param_groups[0]['lr'], weight_decay = 0)\n",
    "\n",
    "            epoch_mse = prev_loss\n",
    "\n",
    "            scheduler.step(epoch_mse)\n",
    "\n",
    "            if Batcher.batch_size > 1024:\n",
    "                break\n",
    "\n",
    "            if opt.param_groups[0]['lr'] < 1e-4:\n",
    "                Batcher.batch_size *= 2\n",
    "                opt.param_groups[0]['lr'] = lr\n",
    "                print (\"The batch_size is now: \", Batcher.batch_size)\n",
    "\n",
    "\n",
    "    \n",
    "\n",
    "    final_preds = Features @ best_state \n",
    "    final_t_preds = t_Features @ best_state\n",
    "\n",
    "    loss_dos = loss.t_get_rmse(final_preds, Target, xdos, perc = True)\n",
    "    test_loss_dos = loss.t_get_rmse(final_t_preds, t_Target, xdos, perc = True)\n",
    "    \n",
    "    return best_state, loss_dos, test_loss_dos\n",
    "\n",
    "\n",
    "def kernel_reg_train_L(feat, target, train_index, test_index, kMM, regularization, n_epochs, lr):\n",
    "    index = train_index\n",
    "    t_index = test_index\n",
    "    features = torch.hstack([feat, torch.ones(feat.shape[0]).view(-1,1)])\n",
    "    Features = features[index]\n",
    "    t_Features = features[t_index]\n",
    "    n_col = Features.shape[1]\n",
    "    Target = target[index]\n",
    "    t_Target = target[t_index]\n",
    "    rtkMM = scipy.linalg.sqrtm(kMM)\n",
    "    reg = torch.hstack([(torch.tensor(regularization * rtkMM)), torch.zeros(kMM.shape[0]).view(-1,1)])\n",
    "    reg = torch.vstack([reg, torch.zeros(n_col)])\n",
    "\n",
    "    reg_features = torch.vstack([Features, reg])\n",
    "    reg_target = torch.vstack([Target, torch.zeros(n_col,Target.shape[1])])\n",
    "    weights = torch.nn.Parameter(torch.rand(Features.shape[1], Target.shape[1])- 0.5) \n",
    "    opt = torch.optim.LBFGS([weights], lr = lr, line_search_fn = \"strong_wolfe\", tolerance_grad = 1e-20, tolerance_change = 1-20, history_size = 200)\n",
    "\n",
    "    current_rmse = torch.tensor(100)\n",
    "    pred_loss = torch.tensor(100)\n",
    "    prev_loss = torch.tensor(100)\n",
    "    best_mse = torch.tensor(100)\n",
    "    trigger = 0\n",
    "    pbar = tqdm(range(n_epochs))\n",
    "    for epoch in pbar:\n",
    "        pbar.set_description(f\"Epoch: {epoch}\")\n",
    "        pbar.set_postfix(pred_loss = pred_loss.item(), lowest_mse = best_mse.item(), trigger = trigger)\n",
    "        def closure():\n",
    "            opt.zero_grad()\n",
    "            pred_i = reg_features @ weights\n",
    "            loss_i = loss.t_get_mse(pred_i, reg_target)\n",
    "            loss_i.backward()\n",
    "            return loss_i\n",
    "        opt.step(closure)\n",
    "\n",
    "        with torch.no_grad():\n",
    "            preds = Features @ weights\n",
    "            epoch_rmse = loss.t_get_rmse(preds, Target, xdos, perc = True)\n",
    "            epoch_mse = loss.t_get_mse(preds, Target, xdos)\n",
    "\n",
    "\n",
    "            pred_loss = epoch_rmse\n",
    "\n",
    "            if epoch_mse < best_mse:\n",
    "                best_mse = epoch_mse\n",
    "                best_state = weights.clone()\n",
    "\n",
    "            if epoch_mse < prev_loss * ( 1 + 1e-3):\n",
    "                trigger =0\n",
    "            else:\n",
    "                trigger +=1 \n",
    "                if trigger >= patience:\n",
    "                    weights = best_state\n",
    "                    opt = torch.optim.Adam([weights], lr = opt.param_groups[0]['lr'], weight_decay = 0)\n",
    "\n",
    "            epoch_mse = prev_loss\n",
    "\n",
    "    final_preds = Features @ best_state \n",
    "    final_t_preds = t_Features @ best_state\n",
    "\n",
    "    loss_dos = loss.t_get_rmse(final_preds, Target, xdos, perc = True)\n",
    "    test_loss_dos = loss.t_get_rmse(final_t_preds, t_Target, xdos, perc = True)\n",
    "    \n",
    "    return best_state, loss_dos, test_loss_dos\n",
    "        "
   ]
  },
  {
   "cell_type": "markdown",
   "id": "945d16f8",
   "metadata": {},
   "source": [
    "## Baseline Linalg Models - Full data"
   ]
  },
  {
   "cell_type": "markdown",
   "id": "893f420e",
   "metadata": {},
   "source": [
    "### Surfaces"
   ]
  },
  {
   "cell_type": "markdown",
   "id": "13c89f0e",
   "metadata": {},
   "source": [
    "#### Surfaces - 0.3 SOAP"
   ]
  },
  {
   "cell_type": "code",
   "execution_count": 25,
   "id": "94b2a40f",
   "metadata": {
    "ExecuteTime": {
     "end_time": "2023-04-21T16:34:21.691214Z",
     "start_time": "2023-04-21T16:34:21.652101Z"
    }
   },
   "outputs": [
    {
     "name": "stdout",
     "output_type": "stream",
     "text": [
      "Smearing: 0.3\n",
      "Unbiased\n",
      "The train error is 28.31 for SOAP\n",
      "The test error is 43.85 for SOAP\n",
      "Holdout:\n",
      "The train error is 49.36 for SOAP\n",
      "The test error is 126.7 for SOAP\n"
     ]
    }
   ],
   "source": [
    "U_weight_s03, loss_dos, test_loss_dos =normal_reg_train_A(surface_soap, surface_dos3, surface_train_index, surface_test_index, 1e-2)\n",
    "print (\"Smearing: 0.3\")\n",
    "print (\"Unbiased\")\n",
    "print (\"The train error is {:.4} for SOAP\".format(loss_dos))\n",
    "print (\"The test error is {:.4} for SOAP\".format(test_loss_dos))\n",
    "\n",
    "B_weight_s03, loss_dos, test_loss_dos =normal_reg_train_A(surface_soap, surface_dos3, surface_holdout_train_index, surface_holdout_test_index, 1e-1)\n",
    "\n",
    "print (\"Holdout:\")\n",
    "print (\"The train error is {:.4} for SOAP\".format(loss_dos))\n",
    "print (\"The test error is {:.4} for SOAP\".format(test_loss_dos))\n"
   ]
  },
  {
   "cell_type": "markdown",
   "id": "6c2f7b38",
   "metadata": {},
   "source": [
    "#### Surfaces - 0.1 SOAP"
   ]
  },
  {
   "cell_type": "code",
   "execution_count": 24,
   "id": "c3f36676",
   "metadata": {
    "ExecuteTime": {
     "end_time": "2023-04-21T16:34:07.705372Z",
     "start_time": "2023-04-21T16:34:07.625572Z"
    }
   },
   "outputs": [
    {
     "name": "stdout",
     "output_type": "stream",
     "text": [
      "Smearing: 0.1\n",
      "Unbiased\n",
      "The train error is 39.1 for SOAP\n",
      "The test error is 58.12 for SOAP\n",
      "Biased\n",
      "The train error is 59.98 for SOAP\n",
      "The test error is 132.5 for SOAP\n"
     ]
    }
   ],
   "source": [
    "U_weight_s03, loss_dos, test_loss_dos =normal_reg_train_A(surface_soap, surface_dos1, surface_train_index, surface_test_index, 1e-2)\n",
    "print (\"Smearing: 0.1\")\n",
    "print (\"Unbiased\")\n",
    "print (\"The train error is {:.4} for SOAP\".format(loss_dos))\n",
    "print (\"The test error is {:.4} for SOAP\".format(test_loss_dos))\n",
    "\n",
    "B_weight_s03, loss_dos, test_loss_dos =normal_reg_train_A(surface_soap, surface_dos1, surface_holdout_train_index, surface_holdout_test_index, 1e-1)\n",
    "\n",
    "print (\"Goldout:\")\n",
    "print (\"The train error is {:.4} for SOAP\".format(loss_dos))\n",
    "print (\"The test error is {:.4} for SOAP\".format(test_loss_dos))"
   ]
  },
  {
   "cell_type": "markdown",
   "id": "a83eaf2a",
   "metadata": {},
   "source": [
    "#### Surfaces - 0.3 Kernel"
   ]
  },
  {
   "cell_type": "code",
   "execution_count": 28,
   "id": "d17286fb",
   "metadata": {
    "ExecuteTime": {
     "end_time": "2023-04-21T16:37:54.730928Z",
     "start_time": "2023-04-21T16:37:54.676202Z"
    }
   },
   "outputs": [
    {
     "name": "stdout",
     "output_type": "stream",
     "text": [
      "Smearing: 0.3\n",
      "Unbiased\n",
      "The train error is 24.47 for n_refs = 30\n",
      "The test error is 38.6 for n_refs = 30\n",
      "Biased\n",
      "The train error is 27.03 for n_refs = 30\n",
      "The test error is 109.9 for n_refs = 30\n"
     ]
    }
   ],
   "source": [
    "regularization = 1e-2\n",
    "U_weight_s03, loss_dos , test_loss_dos = kernel_reg_train_A(surface_kernel_30, surface_dos3, surface_train_index, surface_test_index,\n",
    "                                                            regularization, surface_kMM_30)\n",
    "print (\"Smearing: 0.3\")\n",
    "print (\"Unbiased\")\n",
    "print (\"The train error is {:.4} for n_refs = 30\".format(loss_dos))\n",
    "print (\"The test error is {:.4} for n_refs = 30\".format(test_loss_dos))\n",
    "B_weight_s03, loss_dos , test_loss_dos = kernel_reg_train_A(surface_kernel_30, surface_dos3, surface_holdout_train_index, surface_holdout_test_index,\n",
    "                                                            regularization, surface_kMM_30)\n",
    "print (\"Biased\")\n",
    "print (\"The train error is {:.4} for n_refs = 30\".format(loss_dos))\n",
    "print (\"The test error is {:.4} for n_refs = 30\".format(test_loss_dos))\n"
   ]
  },
  {
   "cell_type": "markdown",
   "id": "07e6bcf5",
   "metadata": {},
   "source": [
    "#### Surfaces - 0.1 Kernel"
   ]
  },
  {
   "cell_type": "code",
   "execution_count": 30,
   "id": "349b727f",
   "metadata": {
    "ExecuteTime": {
     "end_time": "2023-04-21T16:49:10.458114Z",
     "start_time": "2023-04-21T16:49:10.417099Z"
    }
   },
   "outputs": [
    {
     "name": "stdout",
     "output_type": "stream",
     "text": [
      "Smearing: 0.1\n",
      "Unbiased\n",
      "The train error is 36.07 for n_refs = 30\n",
      "The test error is 55.46 for n_refs = 30\n",
      "Biased\n",
      "The train error is 53.3 for n_refs = 30\n",
      "The test error is 122.8 for n_refs = 30\n"
     ]
    }
   ],
   "source": [
    "regularization = 1e-2\n",
    "U_weight_s03, loss_dos , test_loss_dos = kernel_reg_train_A(surface_kernel_30, surface_dos1, surface_train_index, surface_test_index,\n",
    "                                                            regularization, surface_kMM_30)\n",
    "print (\"Smearing: 0.1\")\n",
    "print (\"Unbiased\")\n",
    "print (\"The train error is {:.4} for n_refs = 30\".format(loss_dos))\n",
    "print (\"The test error is {:.4} for n_refs = 30\".format(test_loss_dos))\n",
    "B_weight_s03, loss_dos , test_loss_dos = kernel_reg_train_A(surface_kernel_30, surface_dos1, surface_holdout_train_index, surface_holdout_test_index,\n",
    "                                                            1e-1, surface_kMM_30)\n",
    "print (\"Biased\")\n",
    "print (\"The train error is {:.4} for n_refs = 30\".format(loss_dos))\n",
    "print (\"The test error is {:.4} for n_refs = 30\".format(test_loss_dos))"
   ]
  },
  {
   "cell_type": "markdown",
   "id": "a5c5f2a7",
   "metadata": {},
   "source": [
    "### Surfaces Aligned"
   ]
  },
  {
   "cell_type": "markdown",
   "id": "84167cf4",
   "metadata": {},
   "source": [
    "####  Surfaces Aligned - 0.3 SOAP"
   ]
  },
  {
   "cell_type": "code",
   "execution_count": 215,
   "id": "af9eb63c",
   "metadata": {
    "ExecuteTime": {
     "end_time": "2023-04-24T12:40:39.680737Z",
     "start_time": "2023-04-24T12:40:39.644727Z"
    }
   },
   "outputs": [
    {
     "name": "stdout",
     "output_type": "stream",
     "text": [
      "Smearing: 0.3\n",
      "Unbiased\n",
      "The train error is 29.29 for SOAP\n",
      "The test error is 44.48 for SOAP\n",
      "Holdout:\n",
      "The train error is 49.82 for SOAP\n",
      "The test error is 122.8 for SOAP\n"
     ]
    }
   ],
   "source": [
    "U_weight_s03, loss_dos, test_loss_dos =normal_reg_train_A(surface_soap, surface_aligned_dos3, surface_train_index, surface_test_index, 1e-2)\n",
    "print (\"Smearing: 0.3\")\n",
    "print (\"Unbiased\")\n",
    "print (\"The train error is {:.4} for SOAP\".format(loss_dos))\n",
    "print (\"The test error is {:.4} for SOAP\".format(test_loss_dos))\n",
    "\n",
    "B_weight_s03, loss_dos, test_loss_dos =normal_reg_train_A(surface_soap, surface_aligned_dos3, surface_holdout_train_index, surface_holdout_test_index, 1e-1)\n",
    "\n",
    "print (\"Holdout:\")\n",
    "print (\"The train error is {:.4} for SOAP\".format(loss_dos))\n",
    "print (\"The test error is {:.4} for SOAP\".format(test_loss_dos))\n"
   ]
  },
  {
   "cell_type": "markdown",
   "id": "7bfeb70b",
   "metadata": {},
   "source": [
    "####  Surfaces Aligned - 0.1 SOAP"
   ]
  },
  {
   "cell_type": "code",
   "execution_count": 217,
   "id": "ad270079",
   "metadata": {
    "ExecuteTime": {
     "end_time": "2023-04-24T12:40:54.408205Z",
     "start_time": "2023-04-24T12:40:54.244728Z"
    }
   },
   "outputs": [
    {
     "name": "stdout",
     "output_type": "stream",
     "text": [
      "Smearing: 0.1\n",
      "Unbiased\n",
      "The train error is 40.1 for SOAP\n",
      "The test error is 59.12 for SOAP\n",
      "Goldout:\n",
      "The train error is 60.68 for SOAP\n",
      "The test error is 130.3 for SOAP\n"
     ]
    }
   ],
   "source": [
    "U_weight_s03, loss_dos, test_loss_dos =normal_reg_train_A(surface_soap, surface_aligned_dos1, surface_train_index, surface_test_index, 1e-2)\n",
    "print (\"Smearing: 0.1\")\n",
    "print (\"Unbiased\")\n",
    "print (\"The train error is {:.4} for SOAP\".format(loss_dos))\n",
    "print (\"The test error is {:.4} for SOAP\".format(test_loss_dos))\n",
    "\n",
    "B_weight_s03, loss_dos, test_loss_dos =normal_reg_train_A(surface_soap, surface_aligned_dos1, surface_holdout_train_index, surface_holdout_test_index, 1e-1)\n",
    "\n",
    "print (\"Goldout:\")\n",
    "print (\"The train error is {:.4} for SOAP\".format(loss_dos))\n",
    "print (\"The test error is {:.4} for SOAP\".format(test_loss_dos))"
   ]
  },
  {
   "cell_type": "markdown",
   "id": "8f473c72",
   "metadata": {},
   "source": [
    "####  Surfaces Aligned - 0.3 Kernel"
   ]
  },
  {
   "cell_type": "code",
   "execution_count": 196,
   "id": "9bbb5e62",
   "metadata": {
    "ExecuteTime": {
     "end_time": "2023-04-24T11:05:15.523870Z",
     "start_time": "2023-04-24T11:05:15.490091Z"
    }
   },
   "outputs": [
    {
     "name": "stdout",
     "output_type": "stream",
     "text": [
      "Smearing: 0.3\n",
      "Unbiased\n",
      "The train error is 25.79 for n_refs = 30\n",
      "The test error is 39.91 for n_refs = 30\n",
      "Biased\n",
      "The train error is 28.51 for n_refs = 30\n",
      "The test error is 110.8 for n_refs = 30\n"
     ]
    }
   ],
   "source": [
    "regularization = 1e-2\n",
    "U_weight_s03, loss_dos , test_loss_dos = kernel_reg_train_A(surface_kernel_30, surface_aligned_dos3, surface_train_index, surface_test_index,\n",
    "                                                            regularization, surface_kMM_30)\n",
    "print (\"Smearing: 0.3\")\n",
    "print (\"Unbiased\")\n",
    "print (\"The train error is {:.4} for n_refs = 30\".format(loss_dos))\n",
    "print (\"The test error is {:.4} for n_refs = 30\".format(test_loss_dos))\n",
    "B_weight_s03, loss_dos , test_loss_dos = kernel_reg_train_A(surface_kernel_30, surface_aligned_dos3, surface_holdout_train_index, surface_holdout_test_index,\n",
    "                                                            regularization, surface_kMM_30)\n",
    "print (\"Biased\")\n",
    "print (\"The train error is {:.4} for n_refs = 30\".format(loss_dos))\n",
    "print (\"The test error is {:.4} for n_refs = 30\".format(test_loss_dos))\n"
   ]
  },
  {
   "cell_type": "markdown",
   "id": "f14f4028",
   "metadata": {},
   "source": [
    "####  Surfaces Aligned - 0.1 Kernel"
   ]
  },
  {
   "cell_type": "code",
   "execution_count": 235,
   "id": "a8528468",
   "metadata": {
    "ExecuteTime": {
     "end_time": "2023-04-24T12:51:47.182337Z",
     "start_time": "2023-04-24T12:51:47.142219Z"
    }
   },
   "outputs": [
    {
     "name": "stdout",
     "output_type": "stream",
     "text": [
      "Smearing: 0.1\n",
      "Unbiased\n",
      "The train error is 37.3 for n_refs = 30\n",
      "The test error is 56.96 for n_refs = 30\n",
      "Biased\n",
      "The train error is 54.48 for n_refs = 30\n",
      "The test error is 121.1 for n_refs = 30\n"
     ]
    }
   ],
   "source": [
    "regularization = 1e-2\n",
    "U_weight_s03, loss_dos , test_loss_dos = kernel_reg_train_A(surface_kernel_30, surface_aligned_dos1, surface_train_index, surface_test_index,\n",
    "                                                            regularization, surface_kMM_30)\n",
    "print (\"Smearing: 0.1\")\n",
    "print (\"Unbiased\")\n",
    "print (\"The train error is {:.4} for n_refs = 30\".format(loss_dos))\n",
    "print (\"The test error is {:.4} for n_refs = 30\".format(test_loss_dos))\n",
    "B_weight_s03, loss_dos , test_loss_dos = kernel_reg_train_A(surface_kernel_30, surface_aligned_dos1, surface_holdout_train_index, surface_holdout_test_index,\n",
    "                                                            1e-1, surface_kMM_30)\n",
    "print (\"Biased\")\n",
    "print (\"The train error is {:.4} for n_refs = 30\".format(loss_dos))\n",
    "print (\"The test error is {:.4} for n_refs = 30\".format(test_loss_dos))"
   ]
  },
  {
   "cell_type": "markdown",
   "id": "b6507fdd",
   "metadata": {},
   "source": [
    "### Bulk"
   ]
  },
  {
   "cell_type": "markdown",
   "id": "7e4b8d46",
   "metadata": {},
   "source": [
    "#### Bulk - 0.3 SOAP "
   ]
  },
  {
   "cell_type": "code",
   "execution_count": 32,
   "id": "d8a274da",
   "metadata": {
    "ExecuteTime": {
     "end_time": "2023-04-21T16:57:18.694888Z",
     "start_time": "2023-04-21T16:57:18.635166Z"
    }
   },
   "outputs": [
    {
     "name": "stdout",
     "output_type": "stream",
     "text": [
      "Smearing: 0.1\n",
      "Regularization: 0.01\n",
      "Unbiased\n",
      "The train error is 14.79 for SOAP\n",
      "The test error is 20.91 for SOAP\n",
      "Biased\n",
      "The train error is 14.52 for SOAP\n",
      "The test error is 23.67 for SOAP\n"
     ]
    }
   ],
   "source": [
    "regularization = 1e-2\n",
    "U_weight_s01, loss_dos, test_loss_dos =normal_reg_train_A(bulk_soap, bulk_dos3,\n",
    "                                                          bulk_train_index, bulk_test_index,\n",
    "                                                          regularization)\n",
    "print (\"Smearing: 0.1\")\n",
    "print (\"Regularization: {}\".format(regularization))\n",
    "print (\"Unbiased\")\n",
    "print (\"The train error is {:.4} for SOAP\".format(loss_dos))\n",
    "print (\"The test error is {:.4} for SOAP\".format(test_loss_dos))\n",
    "\n",
    "U_weight_s01, loss_dos, test_loss_dos =normal_reg_train_A(bulk_soap, bulk_dos3,\n",
    "                                                          bulk_biased_train_index, bulk_biased_test_index,\n",
    "                                                          regularization)\n",
    "print (\"Biased\")\n",
    "print (\"The train error is {:.4} for SOAP\".format(loss_dos))\n",
    "print (\"The test error is {:.4} for SOAP\".format(test_loss_dos))\n"
   ]
  },
  {
   "cell_type": "markdown",
   "id": "b1b54ab0",
   "metadata": {},
   "source": [
    "#### Bulk- 0.1 SOAP "
   ]
  },
  {
   "cell_type": "code",
   "execution_count": 33,
   "id": "889ffab0",
   "metadata": {
    "ExecuteTime": {
     "end_time": "2023-04-21T16:58:43.957179Z",
     "start_time": "2023-04-21T16:58:43.882139Z"
    }
   },
   "outputs": [
    {
     "name": "stdout",
     "output_type": "stream",
     "text": [
      "Smearing: 0.1\n",
      "Regularization: 0.01\n",
      "Unbiased\n",
      "The train error is 32.97 for SOAP\n",
      "The test error is 40.62 for SOAP\n",
      "Biased\n",
      "The train error is 32.89 for SOAP\n",
      "The test error is 44.41 for SOAP\n"
     ]
    }
   ],
   "source": [
    "regularization = 1e-2\n",
    "U_weight_s01, loss_dos, test_loss_dos =normal_reg_train_A(bulk_soap, bulk_dos1,\n",
    "                                                          bulk_train_index, bulk_test_index,\n",
    "                                                          regularization)\n",
    "print (\"Smearing: 0.1\")\n",
    "print (\"Regularization: {}\".format(regularization))\n",
    "print (\"Unbiased\")\n",
    "print (\"The train error is {:.4} for SOAP\".format(loss_dos))\n",
    "print (\"The test error is {:.4} for SOAP\".format(test_loss_dos))\n",
    "\n",
    "U_weight_s01, loss_dos, test_loss_dos =normal_reg_train_A(bulk_soap, bulk_dos1,\n",
    "                                                          bulk_biased_train_index, bulk_biased_test_index,\n",
    "                                                          regularization)\n",
    "print (\"Biased\")\n",
    "print (\"The train error is {:.4} for SOAP\".format(loss_dos))\n",
    "print (\"The test error is {:.4} for SOAP\".format(test_loss_dos))\n"
   ]
  },
  {
   "cell_type": "markdown",
   "id": "b1b739cc",
   "metadata": {},
   "source": [
    "#### Bulk - 0.3 Kernel"
   ]
  },
  {
   "cell_type": "code",
   "execution_count": 39,
   "id": "47ad6988",
   "metadata": {
    "ExecuteTime": {
     "end_time": "2023-04-21T17:02:49.981944Z",
     "start_time": "2023-04-21T17:02:49.862436Z"
    }
   },
   "outputs": [
    {
     "name": "stdout",
     "output_type": "stream",
     "text": [
      "Smearing: 0.3\n",
      "Unbiased\n",
      "The train error is 12.41 for n_refs = 200\n",
      "The test error is 18.0 for n_refs = 200\n",
      "Biased\n",
      "The train error is 16.86 for n_refs = 100\n",
      "The test error is 22.53 for n_refs = 100\n"
     ]
    }
   ],
   "source": [
    "regularization = 1e-1\n",
    "U_weight_s03, loss_dos , test_loss_dos = kernel_reg_train_A(bulk_kernel_200, bulk_dos3,\n",
    "                                                            bulk_train_index, bulk_test_index,\n",
    "                                                            regularization, bulk_kMM_200)\n",
    "print (\"Smearing: 0.3\")\n",
    "print (\"Unbiased\")\n",
    "print (\"The train error is {:.4} for n_refs = 200\".format(loss_dos))\n",
    "print (\"The test error is {:.4} for n_refs = 200\".format(test_loss_dos))\n",
    "\n",
    "U_weight_s03, loss_dos , test_loss_dos = kernel_reg_train_A(bulk_kernel_100, bulk_dos3,\n",
    "                                                            bulk_biased_train_index, bulk_biased_test_index,\n",
    "                                                            regularization, bulk_kMM_100)\n",
    "print (\"Biased\")\n",
    "print (\"The train error is {:.4} for n_refs = 100\".format(loss_dos))\n",
    "print (\"The test error is {:.4} for n_refs = 100\".format(test_loss_dos))\n"
   ]
  },
  {
   "cell_type": "markdown",
   "id": "d16abe4d",
   "metadata": {},
   "source": [
    "#### Bulk - 0.1 Kernel "
   ]
  },
  {
   "cell_type": "code",
   "execution_count": 40,
   "id": "d20f2d0d",
   "metadata": {
    "ExecuteTime": {
     "end_time": "2023-04-21T17:03:10.403839Z",
     "start_time": "2023-04-21T17:03:10.284469Z"
    }
   },
   "outputs": [
    {
     "name": "stdout",
     "output_type": "stream",
     "text": [
      "Smearing: 0.3\n",
      "Unbiased\n",
      "The train error is 30.49 for n_refs = 200\n",
      "The test error is 37.77 for n_refs = 200\n",
      "Biased\n",
      "The train error is 35.62 for n_refs = 100\n",
      "The test error is 42.45 for n_refs = 100\n"
     ]
    }
   ],
   "source": [
    "regularization = 1e-1\n",
    "U_weight_s03, loss_dos , test_loss_dos = kernel_reg_train_A(bulk_kernel_200, bulk_dos1,\n",
    "                                                            bulk_train_index, bulk_test_index,\n",
    "                                                            regularization, bulk_kMM_200)\n",
    "print (\"Smearing: 0.3\")\n",
    "print (\"Unbiased\")\n",
    "print (\"The train error is {:.4} for n_refs = 200\".format(loss_dos))\n",
    "print (\"The test error is {:.4} for n_refs = 200\".format(test_loss_dos))\n",
    "\n",
    "U_weight_s03, loss_dos , test_loss_dos = kernel_reg_train_A(bulk_kernel_100, bulk_dos1,\n",
    "                                                            bulk_biased_train_index, bulk_biased_test_index,\n",
    "                                                            regularization, bulk_kMM_100)\n",
    "print (\"Biased\")\n",
    "print (\"The train error is {:.4} for n_refs = 100\".format(loss_dos))\n",
    "print (\"The test error is {:.4} for n_refs = 100\".format(test_loss_dos))"
   ]
  },
  {
   "cell_type": "markdown",
   "id": "236485c6",
   "metadata": {},
   "source": [
    "### Total"
   ]
  },
  {
   "cell_type": "markdown",
   "id": "f29103c1",
   "metadata": {},
   "source": [
    "#### Total - 0.3 SOAP"
   ]
  },
  {
   "cell_type": "code",
   "execution_count": 44,
   "id": "c88aa60c",
   "metadata": {
    "ExecuteTime": {
     "end_time": "2023-04-21T17:06:33.033228Z",
     "start_time": "2023-04-21T17:06:32.939999Z"
    }
   },
   "outputs": [
    {
     "name": "stdout",
     "output_type": "stream",
     "text": [
      "Smearing: 0.3\n",
      "Regularization: 0.01\n",
      "Unbiased\n",
      "The train error is 19.48 for SOAP\n",
      "The test error is 23.31 for SOAP\n",
      "Biased\n",
      "The train error is 18.78 for SOAP\n",
      "The test error is 27.53 for SOAP\n",
      "Holdout\n",
      "The train error is 17.71 for SOAP\n",
      "The test error is 33.55 for SOAP\n"
     ]
    }
   ],
   "source": [
    "regularization = 1e-2\n",
    "U_weight_s01, loss_dos, test_loss_dos =normal_reg_train_A(total_soap, total_dos3,\n",
    "                                                          total_train_index, total_test_index,\n",
    "                                                          regularization)\n",
    "print (\"Smearing: 0.3\")\n",
    "print (\"Regularization: {}\".format(regularization))\n",
    "print (\"Unbiased\")\n",
    "print (\"The train error is {:.4} for SOAP\".format(loss_dos))\n",
    "print (\"The test error is {:.4} for SOAP\".format(test_loss_dos))\n",
    "\n",
    "U_weight_s01, loss_dos, test_loss_dos =normal_reg_train_A(total_soap, total_dos3,\n",
    "                                                          total_biased_train_index, total_biased_test_index,\n",
    "                                                          regularization)\n",
    "print (\"Biased\")\n",
    "print (\"The train error is {:.4} for SOAP\".format(loss_dos))\n",
    "print (\"The test error is {:.4} for SOAP\".format(test_loss_dos))\n",
    "\n",
    "U_weight_s01, loss_dos, test_loss_dos =normal_reg_train_A(total_soap, total_dos3,\n",
    "                                                          holdout_train_index, holdout_test_index,\n",
    "                                                          regularization)\n",
    "\n",
    "print (\"Holdout\")\n",
    "print (\"The train error is {:.4} for SOAP\".format(loss_dos))\n",
    "print (\"The test error is {:.4} for SOAP\".format(test_loss_dos))"
   ]
  },
  {
   "cell_type": "markdown",
   "id": "6430fbaa",
   "metadata": {},
   "source": [
    "#### Total - 0.1 SOAP"
   ]
  },
  {
   "cell_type": "code",
   "execution_count": 43,
   "id": "cc228fe9",
   "metadata": {
    "ExecuteTime": {
     "end_time": "2023-04-21T17:06:27.601356Z",
     "start_time": "2023-04-21T17:06:27.493099Z"
    }
   },
   "outputs": [
    {
     "name": "stdout",
     "output_type": "stream",
     "text": [
      "Smearing: 0.1\n",
      "Regularization: 0.01\n",
      "Unbiased\n",
      "The train error is 32.58 for SOAP\n",
      "The test error is 37.84 for SOAP\n",
      "Biased\n",
      "The train error is 32.02 for SOAP\n",
      "The test error is 42.22 for SOAP\n",
      "Holdout\n",
      "The train error is 31.9 for SOAP\n",
      "The test error is 44.47 for SOAP\n"
     ]
    }
   ],
   "source": [
    "regularization = 1e-2\n",
    "U_weight_s01, loss_dos, test_loss_dos =normal_reg_train_A(total_soap, total_dos1,\n",
    "                                                          total_train_index, total_test_index,\n",
    "                                                          regularization)\n",
    "print (\"Smearing: 0.1\")\n",
    "print (\"Regularization: {}\".format(regularization))\n",
    "print (\"Unbiased\")\n",
    "print (\"The train error is {:.4} for SOAP\".format(loss_dos))\n",
    "print (\"The test error is {:.4} for SOAP\".format(test_loss_dos))\n",
    "\n",
    "U_weight_s01, loss_dos, test_loss_dos =normal_reg_train_A(total_soap, total_dos1,\n",
    "                                                          total_biased_train_index, total_biased_test_index,\n",
    "                                                          regularization)\n",
    "print (\"Biased\")\n",
    "print (\"The train error is {:.4} for SOAP\".format(loss_dos))\n",
    "print (\"The test error is {:.4} for SOAP\".format(test_loss_dos))\n",
    "\n",
    "U_weight_s01, loss_dos, test_loss_dos =normal_reg_train_A(total_soap, total_dos1,\n",
    "                                                          holdout_train_index, holdout_test_index,\n",
    "                                                          regularization)\n",
    "\n",
    "print (\"Holdout\")\n",
    "print (\"The train error is {:.4} for SOAP\".format(loss_dos))\n",
    "print (\"The test error is {:.4} for SOAP\".format(test_loss_dos))"
   ]
  },
  {
   "cell_type": "markdown",
   "id": "d12533b1",
   "metadata": {},
   "source": [
    "#### Total - 0.3 Kernel"
   ]
  },
  {
   "cell_type": "code",
   "execution_count": 47,
   "id": "2fbdddbe",
   "metadata": {
    "ExecuteTime": {
     "end_time": "2023-04-21T17:09:24.303829Z",
     "start_time": "2023-04-21T17:09:24.151047Z"
    }
   },
   "outputs": [
    {
     "name": "stdout",
     "output_type": "stream",
     "text": [
      "Smearing: 0.3\n",
      "Unbiased\n",
      "The train error is 12.44 for n_refs = 150\n",
      "The test error is 18.07 for n_refs = 150\n",
      "Biased\n",
      "The train error is 11.89 for n_refs = 150\n",
      "The test error is 21.96 for n_refs = 150\n",
      "Holdout\n",
      "The train error is 13.46 for n_refs = 100\n",
      "The test error is 27.5 for n_refs = 100\n"
     ]
    }
   ],
   "source": [
    "regularization = 1e-2\n",
    "U_weight_s03, loss_dos , test_loss_dos = kernel_reg_train_A(total_kernel_150, total_dos3,\n",
    "                                                            total_train_index, total_test_index,\n",
    "                                                            regularization, total_kMM_150)\n",
    "print (\"Smearing: 0.3\")\n",
    "print (\"Unbiased\")\n",
    "print (\"The train error is {:.4} for n_refs = 150\".format(loss_dos))\n",
    "print (\"The test error is {:.4} for n_refs = 150\".format(test_loss_dos))\n",
    "\n",
    "U_weight_s03, loss_dos , test_loss_dos = kernel_reg_train_A(total_kernel_150, total_dos3,\n",
    "                                                            total_biased_train_index, total_biased_test_index,\n",
    "                                                            regularization, total_kMM_150)\n",
    "print (\"Biased\")\n",
    "print (\"The train error is {:.4} for n_refs = 150\".format(loss_dos))\n",
    "print (\"The test error is {:.4} for n_refs = 150\".format(test_loss_dos))\n",
    "\n",
    "U_weight_s03, loss_dos , test_loss_dos = kernel_reg_train_A(total_kernel_100, total_dos3,\n",
    "                                                            holdout_train_index, holdout_test_index,\n",
    "                                                            regularization, total_kMM_100)\n",
    "print (\"Holdout\")\n",
    "print (\"The train error is {:.4} for n_refs = 100\".format(loss_dos))\n",
    "print (\"The test error is {:.4} for n_refs = 100\".format(test_loss_dos))"
   ]
  },
  {
   "cell_type": "markdown",
   "id": "5f78c2af",
   "metadata": {},
   "source": [
    "#### Total - 0.1 Kernel"
   ]
  },
  {
   "cell_type": "code",
   "execution_count": 82,
   "id": "645b6c40",
   "metadata": {
    "ExecuteTime": {
     "end_time": "2023-04-21T18:33:25.573120Z",
     "start_time": "2023-04-21T18:33:25.412507Z"
    }
   },
   "outputs": [
    {
     "name": "stdout",
     "output_type": "stream",
     "text": [
      "Smearing: 0.3\n",
      "Unbiased\n",
      "The train error is 31.09 for n_refs = 150\n",
      "The test error is 34.86 for n_refs = 150\n",
      "Biased\n",
      "The train error is 30.76 for n_refs = 150\n",
      "The test error is 38.33 for n_refs = 150\n",
      "Holdout\n",
      "The train error is 26.7 for n_refs = 150\n",
      "The test error is 38.73 for n_refs = 150\n"
     ]
    }
   ],
   "source": [
    "U_weight_s03, loss_dos , test_loss_dos = kernel_reg_train_A(total_kernel_150, total_dos1,\n",
    "                                                            total_train_index, total_test_index,\n",
    "                                                            1e-1, total_kMM_150)\n",
    "print (\"Smearing: 0.3\")\n",
    "print (\"Unbiased\")\n",
    "print (\"The train error is {:.4} for n_refs = 150\".format(loss_dos))\n",
    "print (\"The test error is {:.4} for n_refs = 150\".format(test_loss_dos))\n",
    "\n",
    "U_weight_s03, loss_dos , test_loss_dos = kernel_reg_train_A(total_kernel_150, total_dos1,\n",
    "                                                            total_biased_train_index, total_biased_test_index,\n",
    "                                                            1e-1, total_kMM_150)\n",
    "print (\"Biased\")\n",
    "print (\"The train error is {:.4} for n_refs = 150\".format(loss_dos))\n",
    "print (\"The test error is {:.4} for n_refs = 150\".format(test_loss_dos))\n",
    "\n",
    "U_weight_s03, loss_dos , test_loss_dos = kernel_reg_train_A(total_kernel_150, total_dos1,\n",
    "                                                            holdout_train_index, holdout_test_index,\n",
    "                                                            1e-2, total_kMM_150)\n",
    "print (\"Holdout\")\n",
    "print (\"The train error is {:.4} for n_refs = 150\".format(loss_dos))\n",
    "print (\"The test error is {:.4} for n_refs = 150\".format(test_loss_dos))"
   ]
  },
  {
   "cell_type": "markdown",
   "id": "87477ebb",
   "metadata": {},
   "source": [
    "### Total Aligned"
   ]
  },
  {
   "cell_type": "markdown",
   "id": "0938306e",
   "metadata": {},
   "source": [
    "#### Total Aligned - 0.3 SOAP"
   ]
  },
  {
   "cell_type": "code",
   "execution_count": 133,
   "id": "164c95f7",
   "metadata": {
    "ExecuteTime": {
     "end_time": "2023-04-22T08:26:34.404037Z",
     "start_time": "2023-04-22T08:26:34.308900Z"
    }
   },
   "outputs": [
    {
     "name": "stdout",
     "output_type": "stream",
     "text": [
      "Smearing: 0.3\n",
      "Regularization: 0.01\n",
      "Unbiased\n",
      "The train error is 18.12 for SOAP\n",
      "The test error is 22.14 for SOAP\n",
      "Biased\n",
      "The train error is 17.46 for SOAP\n",
      "The test error is 26.29 for SOAP\n",
      "Holdout\n",
      "The train error is 16.88 for SOAP\n",
      "The test error is 29.8 for SOAP\n"
     ]
    }
   ],
   "source": [
    "regularization = 1e-2\n",
    "U_weight_s01, loss_dos, test_loss_dos =normal_reg_train_A(total_soap, total_aligned_dos3,\n",
    "                                                          total_train_index, total_test_index,\n",
    "                                                          regularization)\n",
    "print (\"Smearing: 0.3\")\n",
    "print (\"Regularization: {}\".format(regularization))\n",
    "print (\"Unbiased\")\n",
    "print (\"The train error is {:.4} for SOAP\".format(loss_dos))\n",
    "print (\"The test error is {:.4} for SOAP\".format(test_loss_dos))\n",
    "\n",
    "U_weight_s01, loss_dos, test_loss_dos =normal_reg_train_A(total_soap, total_aligned_dos3,\n",
    "                                                          total_biased_train_index, total_biased_test_index,\n",
    "                                                          regularization)\n",
    "print (\"Biased\")\n",
    "print (\"The train error is {:.4} for SOAP\".format(loss_dos))\n",
    "print (\"The test error is {:.4} for SOAP\".format(test_loss_dos))\n",
    "\n",
    "U_weight_s01, loss_dos, test_loss_dos =normal_reg_train_A(total_soap, total_aligned_dos3,\n",
    "                                                          holdout_train_index, holdout_test_index,\n",
    "                                                          regularization)\n",
    "\n",
    "print (\"Holdout\")\n",
    "print (\"The train error is {:.4} for SOAP\".format(loss_dos))\n",
    "print (\"The test error is {:.4} for SOAP\".format(test_loss_dos))"
   ]
  },
  {
   "cell_type": "markdown",
   "id": "f0e7eddb",
   "metadata": {
    "ExecuteTime": {
     "end_time": "2023-04-22T08:26:06.781389Z",
     "start_time": "2023-04-22T08:26:06.776491Z"
    }
   },
   "source": [
    "#### Total Aligned - 0.1 SOAP"
   ]
  },
  {
   "cell_type": "code",
   "execution_count": 134,
   "id": "3177947b",
   "metadata": {
    "ExecuteTime": {
     "end_time": "2023-04-22T08:27:18.672152Z",
     "start_time": "2023-04-22T08:27:18.586906Z"
    }
   },
   "outputs": [
    {
     "name": "stdout",
     "output_type": "stream",
     "text": [
      "Smearing: 0.1\n",
      "Regularization: 0.01\n",
      "Unbiased\n",
      "The train error is 31.92 for SOAP\n",
      "The test error is 37.29 for SOAP\n",
      "Biased\n",
      "The train error is 31.39 for SOAP\n",
      "The test error is 41.68 for SOAP\n",
      "Holdout\n",
      "The train error is 31.56 for SOAP\n",
      "The test error is 41.96 for SOAP\n"
     ]
    }
   ],
   "source": [
    "regularization = 1e-2\n",
    "U_weight_s01, loss_dos, test_loss_dos =normal_reg_train_A(total_soap, total_aligned_dos1,\n",
    "                                                          total_train_index, total_test_index,\n",
    "                                                          regularization)\n",
    "print (\"Smearing: 0.1\")\n",
    "print (\"Regularization: {}\".format(regularization))\n",
    "print (\"Unbiased\")\n",
    "print (\"The train error is {:.4} for SOAP\".format(loss_dos))\n",
    "print (\"The test error is {:.4} for SOAP\".format(test_loss_dos))\n",
    "\n",
    "U_weight_s01, loss_dos, test_loss_dos =normal_reg_train_A(total_soap, total_aligned_dos1,\n",
    "                                                          total_biased_train_index, total_biased_test_index,\n",
    "                                                          regularization)\n",
    "print (\"Biased\")\n",
    "print (\"The train error is {:.4} for SOAP\".format(loss_dos))\n",
    "print (\"The test error is {:.4} for SOAP\".format(test_loss_dos))\n",
    "\n",
    "U_weight_s01, loss_dos, test_loss_dos =normal_reg_train_A(total_soap, total_aligned_dos1,\n",
    "                                                          holdout_train_index, holdout_test_index,\n",
    "                                                          regularization)\n",
    "\n",
    "print (\"Holdout\")\n",
    "print (\"The train error is {:.4} for SOAP\".format(loss_dos))\n",
    "print (\"The test error is {:.4} for SOAP\".format(test_loss_dos))"
   ]
  },
  {
   "cell_type": "markdown",
   "id": "9f061d9e",
   "metadata": {
    "ExecuteTime": {
     "end_time": "2023-04-22T08:26:06.914392Z",
     "start_time": "2023-04-22T08:26:06.910740Z"
    }
   },
   "source": [
    "#### Total Aligned - 0.3 Kernel"
   ]
  },
  {
   "cell_type": "code",
   "execution_count": 135,
   "id": "20c2a2e1",
   "metadata": {
    "ExecuteTime": {
     "end_time": "2023-04-22T08:27:51.105325Z",
     "start_time": "2023-04-22T08:27:50.980192Z"
    }
   },
   "outputs": [
    {
     "name": "stdout",
     "output_type": "stream",
     "text": [
      "Smearing: 0.3\n",
      "Unbiased\n",
      "The train error is 11.94 for n_refs = 150\n",
      "The test error is 17.52 for n_refs = 150\n",
      "Biased\n",
      "The train error is 11.42 for n_refs = 150\n",
      "The test error is 21.28 for n_refs = 150\n",
      "Holdout\n",
      "The train error is 13.06 for n_refs = 100\n",
      "The test error is 24.41 for n_refs = 100\n"
     ]
    }
   ],
   "source": [
    "regularization = 1e-2\n",
    "U_weight_s03, loss_dos , test_loss_dos = kernel_reg_train_A(total_kernel_150, total_aligned_dos3,\n",
    "                                                            total_train_index, total_test_index,\n",
    "                                                            regularization, total_kMM_150)\n",
    "print (\"Smearing: 0.3\")\n",
    "print (\"Unbiased\")\n",
    "print (\"The train error is {:.4} for n_refs = 150\".format(loss_dos))\n",
    "print (\"The test error is {:.4} for n_refs = 150\".format(test_loss_dos))\n",
    "\n",
    "U_weight_s03, loss_dos , test_loss_dos = kernel_reg_train_A(total_kernel_150, total_aligned_dos3,\n",
    "                                                            total_biased_train_index, total_biased_test_index,\n",
    "                                                            regularization, total_kMM_150)\n",
    "print (\"Biased\")\n",
    "print (\"The train error is {:.4} for n_refs = 150\".format(loss_dos))\n",
    "print (\"The test error is {:.4} for n_refs = 150\".format(test_loss_dos))\n",
    "\n",
    "U_weight_s03, loss_dos , test_loss_dos = kernel_reg_train_A(total_kernel_100, total_aligned_dos3,\n",
    "                                                            holdout_train_index, holdout_test_index,\n",
    "                                                            regularization, total_kMM_100)\n",
    "print (\"Holdout\")\n",
    "print (\"The train error is {:.4} for n_refs = 100\".format(loss_dos))\n",
    "print (\"The test error is {:.4} for n_refs = 100\".format(test_loss_dos))"
   ]
  },
  {
   "cell_type": "markdown",
   "id": "750e6919",
   "metadata": {
    "ExecuteTime": {
     "end_time": "2023-04-22T08:26:07.040922Z",
     "start_time": "2023-04-22T08:26:07.037398Z"
    }
   },
   "source": [
    "#### Total Aligned - 0.1 Kernel"
   ]
  },
  {
   "cell_type": "code",
   "execution_count": 136,
   "id": "bc491922",
   "metadata": {
    "ExecuteTime": {
     "end_time": "2023-04-22T08:27:51.419402Z",
     "start_time": "2023-04-22T08:27:51.278973Z"
    }
   },
   "outputs": [
    {
     "name": "stdout",
     "output_type": "stream",
     "text": [
      "Smearing: 0.3\n",
      "Unbiased\n",
      "The train error is 30.68 for n_refs = 150\n",
      "The test error is 34.5 for n_refs = 150\n",
      "Biased\n",
      "The train error is 30.37 for n_refs = 150\n",
      "The test error is 37.95 for n_refs = 150\n",
      "Holdout\n",
      "The train error is 26.58 for n_refs = 150\n",
      "The test error is 37.09 for n_refs = 150\n"
     ]
    }
   ],
   "source": [
    "U_weight_s03, loss_dos , test_loss_dos = kernel_reg_train_A(total_kernel_150, total_aligned_dos1,\n",
    "                                                            total_train_index, total_test_index,\n",
    "                                                            1e-1, total_kMM_150)\n",
    "print (\"Smearing: 0.3\")\n",
    "print (\"Unbiased\")\n",
    "print (\"The train error is {:.4} for n_refs = 150\".format(loss_dos))\n",
    "print (\"The test error is {:.4} for n_refs = 150\".format(test_loss_dos))\n",
    "\n",
    "U_weight_s03, loss_dos , test_loss_dos = kernel_reg_train_A(total_kernel_150, total_aligned_dos1,\n",
    "                                                            total_biased_train_index, total_biased_test_index,\n",
    "                                                            1e-1, total_kMM_150)\n",
    "print (\"Biased\")\n",
    "print (\"The train error is {:.4} for n_refs = 150\".format(loss_dos))\n",
    "print (\"The test error is {:.4} for n_refs = 150\".format(test_loss_dos))\n",
    "\n",
    "U_weight_s03, loss_dos , test_loss_dos = kernel_reg_train_A(total_kernel_150, total_aligned_dos1,\n",
    "                                                            holdout_train_index, holdout_test_index,\n",
    "                                                            1e-2, total_kMM_150)\n",
    "print (\"Holdout\")\n",
    "print (\"The train error is {:.4} for n_refs = 150\".format(loss_dos))\n",
    "print (\"The test error is {:.4} for n_refs = 150\".format(test_loss_dos))"
   ]
  },
  {
   "cell_type": "markdown",
   "id": "b1d3cd33",
   "metadata": {},
   "source": [
    "## Baseline GD model - Adam "
   ]
  },
  {
   "cell_type": "markdown",
   "id": "477569cb",
   "metadata": {},
   "source": [
    "### Surfaces"
   ]
  },
  {
   "cell_type": "markdown",
   "id": "2f282d8f",
   "metadata": {},
   "source": [
    "#### Surfaces - 0.3 SOAP"
   ]
  },
  {
   "cell_type": "code",
   "execution_count": 67,
   "id": "4bef3495",
   "metadata": {
    "ExecuteTime": {
     "end_time": "2023-04-21T17:34:41.183419Z",
     "start_time": "2023-04-21T17:32:36.414717Z"
    }
   },
   "outputs": [
    {
     "name": "stderr",
     "output_type": "stream",
     "text": [
      "Epoch: 1011:  10%|███████████                                                                                                   | 1008/10000 [00:44<04:49, 31.03it/s, lowest_mse=0.0254, pred_loss=60.3, trigger=0]"
     ]
    },
    {
     "name": "stdout",
     "output_type": "stream",
     "text": [
      "The batch_size is now:  32\n"
     ]
    },
    {
     "name": "stderr",
     "output_type": "stream",
     "text": [
      "Epoch: 2017:  20%|██████████████████████▏                                                                                       | 2012/10000 [01:09<02:58, 44.86it/s, lowest_mse=0.0146, pred_loss=45.8, trigger=0]"
     ]
    },
    {
     "name": "stdout",
     "output_type": "stream",
     "text": [
      "The batch_size is now:  64\n"
     ]
    },
    {
     "name": "stderr",
     "output_type": "stream",
     "text": [
      "Epoch: 3027:  30%|█████████████████████████████████▏                                                                            | 3018/10000 [01:24<01:34, 73.50it/s, lowest_mse=0.0121, pred_loss=41.7, trigger=0]"
     ]
    },
    {
     "name": "stdout",
     "output_type": "stream",
     "text": [
      "The batch_size is now:  128\n"
     ]
    },
    {
     "name": "stderr",
     "output_type": "stream",
     "text": [
      "Epoch: 4029:  40%|███████████████████████████████████████████▉                                                                 | 4028/10000 [01:34<00:58, 101.86it/s, lowest_mse=0.0109, pred_loss=39.4, trigger=0]"
     ]
    },
    {
     "name": "stdout",
     "output_type": "stream",
     "text": [
      "The batch_size is now:  256\n"
     ]
    },
    {
     "name": "stderr",
     "output_type": "stream",
     "text": [
      "Epoch: 5031:  50%|██████████████████████████████████████████████████████▊                                                      | 5030/10000 [01:44<00:49, 101.35it/s, lowest_mse=0.0099, pred_loss=37.7, trigger=0]"
     ]
    },
    {
     "name": "stdout",
     "output_type": "stream",
     "text": [
      "The batch_size is now:  512\n"
     ]
    },
    {
     "name": "stderr",
     "output_type": "stream",
     "text": [
      "Epoch: 6031:  60%|█████████████████████████████████████████████████████████████████▋                                           | 6025/10000 [01:54<00:41, 96.63it/s, lowest_mse=0.00924, pred_loss=36.4, trigger=0]"
     ]
    },
    {
     "name": "stdout",
     "output_type": "stream",
     "text": [
      "The batch_size is now:  1024\n"
     ]
    },
    {
     "name": "stderr",
     "output_type": "stream",
     "text": [
      "Epoch: 7015:  70%|████████████████████████████████████████████████████████████████████████████▍                                | 7015/10000 [02:04<00:53, 56.24it/s, lowest_mse=0.00879, pred_loss=35.5, trigger=0]\n"
     ]
    },
    {
     "name": "stdout",
     "output_type": "stream",
     "text": [
      "The batch_size is now:  2048\n",
      "Adam Unbiased\n",
      "The train error is 35.5 for SOAP\n",
      "The test error is 48.62 for SOAP\n"
     ]
    }
   ],
   "source": [
    "weights, loss_dos, test_loss_dos = normal_reg_train_Ad(surface_soap, surface_dos3, surface_train_index, surface_test_index, 1e-2, 10000, 16, 1e-3)\n",
    "print (\"Adam Unbiased\")\n",
    "print (\"The train error is {:.4} for SOAP\".format(loss_dos))\n",
    "print (\"The test error is {:.4} for SOAP\".format(test_loss_dos))"
   ]
  },
  {
   "cell_type": "code",
   "execution_count": 69,
   "id": "28319c74",
   "metadata": {
    "ExecuteTime": {
     "end_time": "2023-04-21T17:41:39.957047Z",
     "start_time": "2023-04-21T17:38:42.812614Z"
    },
    "scrolled": true
   },
   "outputs": [
    {
     "name": "stderr",
     "output_type": "stream",
     "text": [
      "Epoch: 1008:  10%|███████████                                                                                                   | 1006/10000 [01:08<08:37, 17.38it/s, lowest_mse=0.0303, pred_loss=73.8, trigger=0]"
     ]
    },
    {
     "name": "stdout",
     "output_type": "stream",
     "text": [
      "The batch_size is now:  32\n"
     ]
    },
    {
     "name": "stderr",
     "output_type": "stream",
     "text": [
      "Epoch: 2011:  20%|██████████████████████                                                                                        | 2010/10000 [01:46<04:44, 28.12it/s, lowest_mse=0.0205, pred_loss=60.7, trigger=0]"
     ]
    },
    {
     "name": "stdout",
     "output_type": "stream",
     "text": [
      "The batch_size is now:  64\n"
     ]
    },
    {
     "name": "stderr",
     "output_type": "stream",
     "text": [
      "Epoch: 3023:  30%|█████████████████████████████████▏                                                                            | 3018/10000 [02:09<02:00, 58.04it/s, lowest_mse=0.0175, pred_loss=56.2, trigger=0]"
     ]
    },
    {
     "name": "stdout",
     "output_type": "stream",
     "text": [
      "The batch_size is now:  128\n"
     ]
    },
    {
     "name": "stderr",
     "output_type": "stream",
     "text": [
      "Epoch: 4025:  40%|████████████████████████████████████████████▏                                                                 | 4019/10000 [02:22<01:15, 79.39it/s, lowest_mse=0.0156, pred_loss=52.9, trigger=0]"
     ]
    },
    {
     "name": "stdout",
     "output_type": "stream",
     "text": [
      "The batch_size is now:  256\n"
     ]
    },
    {
     "name": "stderr",
     "output_type": "stream",
     "text": [
      "Epoch: 5026:  50%|███████████████████████████████████████████████████████▎                                                      | 5027/10000 [02:35<01:05, 75.86it/s, lowest_mse=0.0148, pred_loss=51.5, trigger=0]"
     ]
    },
    {
     "name": "stdout",
     "output_type": "stream",
     "text": [
      "The batch_size is now:  512\n"
     ]
    },
    {
     "name": "stderr",
     "output_type": "stream",
     "text": [
      "Epoch: 6032:  60%|██████████████████████████████████████████████████████████████████▎                                           | 6030/10000 [02:46<00:42, 93.18it/s, lowest_mse=0.0143, pred_loss=50.6, trigger=0]"
     ]
    },
    {
     "name": "stdout",
     "output_type": "stream",
     "text": [
      "The batch_size is now:  1024\n"
     ]
    },
    {
     "name": "stderr",
     "output_type": "stream",
     "text": [
      "Epoch: 7015:  70%|█████████████████████████████████████████████████████████████████████████████▏                                | 7015/10000 [02:57<01:15, 39.61it/s, lowest_mse=0.0139, pred_loss=50.1, trigger=0]"
     ]
    },
    {
     "name": "stdout",
     "output_type": "stream",
     "text": [
      "The batch_size is now:  2048\n",
      "Adam Holdout\n",
      "The train error is 50.09 for SOAP\n",
      "The test error is 130.8 for SOAP\n"
     ]
    },
    {
     "name": "stderr",
     "output_type": "stream",
     "text": [
      "\n"
     ]
    }
   ],
   "source": [
    "weights, loss_dos, test_loss_dos = normal_reg_train_Ad(surface_soap, surface_dos3,\n",
    "                                                       surface_holdout_train_index, surface_holdout_test_index, 1e-1,\n",
    "                                                       10000, 16, 1e-3)\n",
    "print (\"Adam Holdout\")\n",
    "print (\"The train error is {:.4} for SOAP\".format(loss_dos))\n",
    "print (\"The test error is {:.4} for SOAP\".format(test_loss_dos))"
   ]
  },
  {
   "cell_type": "markdown",
   "id": "0dd3adda",
   "metadata": {},
   "source": [
    "#### Surfaces - 0.1 SOAP"
   ]
  },
  {
   "cell_type": "code",
   "execution_count": 70,
   "id": "b47ab1be",
   "metadata": {
    "ExecuteTime": {
     "end_time": "2023-04-21T17:44:06.850013Z",
     "start_time": "2023-04-21T17:42:09.016797Z"
    }
   },
   "outputs": [
    {
     "name": "stderr",
     "output_type": "stream",
     "text": [
      "Epoch: 1011:  10%|███████████                                                                                                   | 1009/10000 [00:41<05:00, 29.93it/s, lowest_mse=0.0566, pred_loss=67.9, trigger=0]"
     ]
    },
    {
     "name": "stdout",
     "output_type": "stream",
     "text": [
      "The batch_size is now:  32\n"
     ]
    },
    {
     "name": "stderr",
     "output_type": "stream",
     "text": [
      "Epoch: 2019:  20%|██████████████████████▏                                                                                       | 2017/10000 [01:04<02:19, 57.26it/s, lowest_mse=0.0405, pred_loss=57.4, trigger=0]"
     ]
    },
    {
     "name": "stdout",
     "output_type": "stream",
     "text": [
      "The batch_size is now:  64\n"
     ]
    },
    {
     "name": "stderr",
     "output_type": "stream",
     "text": [
      "Epoch: 3027:  30%|█████████████████████████████████▏                                                                            | 3020/10000 [01:19<01:35, 73.26it/s, lowest_mse=0.0357, pred_loss=53.9, trigger=0]"
     ]
    },
    {
     "name": "stdout",
     "output_type": "stream",
     "text": [
      "The batch_size is now:  128\n"
     ]
    },
    {
     "name": "stderr",
     "output_type": "stream",
     "text": [
      "Epoch: 4030:  40%|███████████████████████████████████████████▉                                                                 | 4027/10000 [01:29<00:55, 108.16it/s, lowest_mse=0.0331, pred_loss=51.9, trigger=0]"
     ]
    },
    {
     "name": "stdout",
     "output_type": "stream",
     "text": [
      "The batch_size is now:  256\n"
     ]
    },
    {
     "name": "stderr",
     "output_type": "stream",
     "text": [
      "Epoch: 5032:  50%|██████████████████████████████████████████████████████▊                                                      | 5030/10000 [01:38<00:44, 111.44it/s, lowest_mse=0.0308, pred_loss=50.1, trigger=0]"
     ]
    },
    {
     "name": "stdout",
     "output_type": "stream",
     "text": [
      "The batch_size is now:  512\n"
     ]
    },
    {
     "name": "stderr",
     "output_type": "stream",
     "text": [
      "Epoch: 6035:  60%|██████████████████████████████████████████████████████████████████▎                                           | 6026/10000 [01:47<00:36, 110.05it/s, lowest_mse=0.029, pred_loss=48.6, trigger=0]"
     ]
    },
    {
     "name": "stdout",
     "output_type": "stream",
     "text": [
      "The batch_size is now:  1024\n"
     ]
    },
    {
     "name": "stderr",
     "output_type": "stream",
     "text": [
      "Epoch: 7015:  70%|█████████████████████████████████████████████████████████████████████████████▏                                | 7015/10000 [01:57<00:50, 59.55it/s, lowest_mse=0.0276, pred_loss=47.4, trigger=0]\n"
     ]
    },
    {
     "name": "stdout",
     "output_type": "stream",
     "text": [
      "The batch_size is now:  2048\n",
      "Adam Unbiased\n",
      "The train error is 47.43 for SOAP\n",
      "The test error is 61.55 for SOAP\n"
     ]
    }
   ],
   "source": [
    "weights, loss_dos, test_loss_dos = normal_reg_train_Ad(surface_soap, surface_dos1, \n",
    "                                                       surface_train_index, surface_test_index,\n",
    "                                                       1e-2, 10000, 16, 1e-3)\n",
    "print (\"Adam Unbiased\")\n",
    "print (\"The train error is {:.4} for SOAP\".format(loss_dos))\n",
    "print (\"The test error is {:.4} for SOAP\".format(test_loss_dos))"
   ]
  },
  {
   "cell_type": "code",
   "execution_count": 71,
   "id": "b4f8c3ff",
   "metadata": {
    "ExecuteTime": {
     "end_time": "2023-04-21T17:45:58.375423Z",
     "start_time": "2023-04-21T17:44:06.852097Z"
    }
   },
   "outputs": [
    {
     "name": "stderr",
     "output_type": "stream",
     "text": [
      "Epoch: 1012:  10%|███████████                                                                                                   | 1010/10000 [00:38<04:21, 34.38it/s, lowest_mse=0.0653, pred_loss=79.4, trigger=0]"
     ]
    },
    {
     "name": "stdout",
     "output_type": "stream",
     "text": [
      "The batch_size is now:  32\n"
     ]
    },
    {
     "name": "stderr",
     "output_type": "stream",
     "text": [
      "Epoch: 2020:  20%|██████████████████████▏                                                                                       | 2016/10000 [01:01<02:17, 58.10it/s, lowest_mse=0.0514, pred_loss=70.5, trigger=0]"
     ]
    },
    {
     "name": "stdout",
     "output_type": "stream",
     "text": [
      "The batch_size is now:  64\n"
     ]
    },
    {
     "name": "stderr",
     "output_type": "stream",
     "text": [
      "Epoch: 3030:  30%|█████████████████████████████████▌                                                                             | 3022/10000 [01:14<01:16, 91.21it/s, lowest_mse=0.046, pred_loss=66.7, trigger=0]"
     ]
    },
    {
     "name": "stdout",
     "output_type": "stream",
     "text": [
      "The batch_size is now:  128\n"
     ]
    },
    {
     "name": "stderr",
     "output_type": "stream",
     "text": [
      "Epoch: 4032:  40%|████████████████████████████████████████████▋                                                                  | 4025/10000 [01:23<00:53, 112.71it/s, lowest_mse=0.0424, pred_loss=64, trigger=0]"
     ]
    },
    {
     "name": "stdout",
     "output_type": "stream",
     "text": [
      "The batch_size is now:  256\n"
     ]
    },
    {
     "name": "stderr",
     "output_type": "stream",
     "text": [
      "Epoch: 5032:  50%|███████████████████████████████████████████████████████▎                                                      | 5024/10000 [01:33<01:11, 69.90it/s, lowest_mse=0.0406, pred_loss=62.7, trigger=0]"
     ]
    },
    {
     "name": "stdout",
     "output_type": "stream",
     "text": [
      "The batch_size is now:  512\n"
     ]
    },
    {
     "name": "stderr",
     "output_type": "stream",
     "text": [
      "Epoch: 6038:  60%|█████████████████████████████████████████████████████████████████▋                                           | 6027/10000 [01:42<00:33, 118.00it/s, lowest_mse=0.0395, pred_loss=61.8, trigger=0]"
     ]
    },
    {
     "name": "stdout",
     "output_type": "stream",
     "text": [
      "The batch_size is now:  1024\n"
     ]
    },
    {
     "name": "stderr",
     "output_type": "stream",
     "text": [
      "Epoch: 7015:  70%|█████████████████████████████████████████████████████████████████████████████▏                                | 7015/10000 [01:51<00:47, 62.91it/s, lowest_mse=0.0387, pred_loss=61.1, trigger=0]\n"
     ]
    },
    {
     "name": "stdout",
     "output_type": "stream",
     "text": [
      "The batch_size is now:  2048\n",
      "Adam Holdout\n",
      "The train error is 61.12 for SOAP\n",
      "The test error is 138.2 for SOAP\n"
     ]
    }
   ],
   "source": [
    "weights, loss_dos, test_loss_dos = normal_reg_train_Ad(surface_soap, surface_dos1,\n",
    "                                                       surface_holdout_train_index, surface_holdout_test_index, 1e-1,\n",
    "                                                       10000, 16, 1e-3)\n",
    "print (\"Adam Holdout\")\n",
    "print (\"The train error is {:.4} for SOAP\".format(loss_dos))\n",
    "print (\"The test error is {:.4} for SOAP\".format(test_loss_dos))"
   ]
  },
  {
   "cell_type": "markdown",
   "id": "f220ca02",
   "metadata": {},
   "source": [
    "#### Surfaces - 0.3 Kernel"
   ]
  },
  {
   "cell_type": "code",
   "execution_count": 72,
   "id": "476be40e",
   "metadata": {
    "ExecuteTime": {
     "end_time": "2023-04-21T17:46:36.020588Z",
     "start_time": "2023-04-21T17:45:58.378220Z"
    }
   },
   "outputs": [
    {
     "name": "stderr",
     "output_type": "stream",
     "text": [
      "Epoch: 828:   8%|█████████▏                                                                                                       | 817/10000 [00:11<01:45, 87.02it/s, lowest_mse=0.0759, pred_loss=104, trigger=0]"
     ]
    },
    {
     "name": "stdout",
     "output_type": "stream",
     "text": [
      "The batch_size is now:  32\n"
     ]
    },
    {
     "name": "stderr",
     "output_type": "stream",
     "text": [
      "Epoch: 1643:  16%|█████████████████▋                                                                                           | 1627/10000 [00:18<01:03, 132.73it/s, lowest_mse=0.0558, pred_loss=89.4, trigger=0]"
     ]
    },
    {
     "name": "stdout",
     "output_type": "stream",
     "text": [
      "The batch_size is now:  64\n"
     ]
    },
    {
     "name": "stderr",
     "output_type": "stream",
     "text": [
      "Epoch: 2457:  24%|██████████████████████████▋                                                                                  | 2443/10000 [00:22<00:39, 190.62it/s, lowest_mse=0.0454, pred_loss=80.6, trigger=0]"
     ]
    },
    {
     "name": "stdout",
     "output_type": "stream",
     "text": [
      "The batch_size is now:  128\n"
     ]
    },
    {
     "name": "stderr",
     "output_type": "stream",
     "text": [
      "Epoch: 3261:  32%|███████████████████████████████████▍                                                                         | 3248/10000 [00:26<00:30, 223.56it/s, lowest_mse=0.0396, pred_loss=75.3, trigger=0]"
     ]
    },
    {
     "name": "stdout",
     "output_type": "stream",
     "text": [
      "The batch_size is now:  256\n"
     ]
    },
    {
     "name": "stderr",
     "output_type": "stream",
     "text": [
      "Epoch: 4065:  41%|████████████████████████████████████████████▌                                                                 | 4052/10000 [00:30<00:26, 223.60it/s, lowest_mse=0.034, pred_loss=69.8, trigger=0]"
     ]
    },
    {
     "name": "stdout",
     "output_type": "stream",
     "text": [
      "The batch_size is now:  512\n"
     ]
    },
    {
     "name": "stderr",
     "output_type": "stream",
     "text": [
      "Epoch: 4869:  49%|████████████████████████████████████████████████████▉                                                        | 4857/10000 [00:33<00:23, 223.27it/s, lowest_mse=0.0291, pred_loss=64.6, trigger=0]"
     ]
    },
    {
     "name": "stdout",
     "output_type": "stream",
     "text": [
      "The batch_size is now:  1024\n"
     ]
    },
    {
     "name": "stderr",
     "output_type": "stream",
     "text": [
      "Epoch: 5629:  56%|█████████████████████████████████████████████████████████████▎                                               | 5629/10000 [00:37<00:29, 149.60it/s, lowest_mse=0.0257, pred_loss=60.7, trigger=0]\n"
     ]
    },
    {
     "name": "stdout",
     "output_type": "stream",
     "text": [
      "The batch_size is now:  2048\n",
      "Adam Unbiased\n",
      "The train error is 60.68 for KERNEL\n",
      "The test error is 66.62 for KERNEL\n"
     ]
    }
   ],
   "source": [
    "A_U_weights_03, loss_dos, test_loss_dos = kernel_reg_train_Ad(surface_kernel_30, surface_dos3,\n",
    "                                                              surface_train_index, surface_test_index,\n",
    "                                                              surface_kMM_30, 1e-2, 10000, 16, 1e-3)\n",
    "\n",
    "print (\"Adam Unbiased\")\n",
    "print (\"The train error is {:.4} for KERNEL\".format(loss_dos))\n",
    "print (\"The test error is {:.4} for KERNEL\".format(test_loss_dos))"
   ]
  },
  {
   "cell_type": "code",
   "execution_count": 73,
   "id": "875e8bd9",
   "metadata": {
    "ExecuteTime": {
     "end_time": "2023-04-21T17:47:16.544366Z",
     "start_time": "2023-04-21T17:46:36.023273Z"
    }
   },
   "outputs": [
    {
     "name": "stderr",
     "output_type": "stream",
     "text": [
      "Epoch: 825:   8%|█████████▏                                                                                                       | 816/10000 [00:11<01:55, 79.44it/s, lowest_mse=0.0617, pred_loss=105, trigger=0]"
     ]
    },
    {
     "name": "stdout",
     "output_type": "stream",
     "text": [
      "The batch_size is now:  32\n"
     ]
    },
    {
     "name": "stderr",
     "output_type": "stream",
     "text": [
      "Epoch: 1641:  16%|█████████████████▋                                                                                           | 1626/10000 [00:19<01:07, 123.74it/s, lowest_mse=0.0471, pred_loss=92.1, trigger=0]"
     ]
    },
    {
     "name": "stdout",
     "output_type": "stream",
     "text": [
      "The batch_size is now:  64\n"
     ]
    },
    {
     "name": "stderr",
     "output_type": "stream",
     "text": [
      "Epoch: 2455:  24%|██████████████████████████▌                                                                                  | 2436/10000 [00:24<00:43, 174.91it/s, lowest_mse=0.0391, pred_loss=83.9, trigger=0]"
     ]
    },
    {
     "name": "stdout",
     "output_type": "stream",
     "text": [
      "The batch_size is now:  128\n"
     ]
    },
    {
     "name": "stderr",
     "output_type": "stream",
     "text": [
      "Epoch: 3262:  32%|███████████████████████████████████▍                                                                         | 3248/10000 [00:28<00:31, 214.59it/s, lowest_mse=0.0348, pred_loss=79.2, trigger=0]"
     ]
    },
    {
     "name": "stdout",
     "output_type": "stream",
     "text": [
      "The batch_size is now:  256\n"
     ]
    },
    {
     "name": "stderr",
     "output_type": "stream",
     "text": [
      "Epoch: 4066:  41%|████████████████████████████████████████████▏                                                                | 4053/10000 [00:32<00:26, 226.61it/s, lowest_mse=0.0307, pred_loss=74.3, trigger=0]"
     ]
    },
    {
     "name": "stdout",
     "output_type": "stream",
     "text": [
      "The batch_size is now:  512\n"
     ]
    },
    {
     "name": "stderr",
     "output_type": "stream",
     "text": [
      "Epoch: 4862:  49%|████████████████████████████████████████████████████▉                                                        | 4860/10000 [00:36<00:27, 186.11it/s, lowest_mse=0.0274, pred_loss=70.2, trigger=0]"
     ]
    },
    {
     "name": "stdout",
     "output_type": "stream",
     "text": [
      "The batch_size is now:  1024\n"
     ]
    },
    {
     "name": "stderr",
     "output_type": "stream",
     "text": [
      "Epoch: 5629:  56%|█████████████████████████████████████████████████████████████▎                                               | 5629/10000 [00:40<00:31, 138.95it/s, lowest_mse=0.0244, pred_loss=66.3, trigger=0]\n"
     ]
    },
    {
     "name": "stdout",
     "output_type": "stream",
     "text": [
      "The batch_size is now:  2048\n",
      "Adam Holdout\n",
      "The train error is 66.24 for KERNEL\n",
      "The test error is 180.0 for KERNEL\n"
     ]
    }
   ],
   "source": [
    "A_U_weights_03, loss_dos, test_loss_dos = kernel_reg_train_Ad(surface_kernel_30, surface_dos3,\n",
    "                                                              surface_holdout_train_index, surface_holdout_test_index,\n",
    "                                                              surface_kMM_30, 1e-2, 10000, 16, 1e-3)\n",
    "print (\"Adam Holdout\")\n",
    "print (\"The train error is {:.4} for KERNEL\".format(loss_dos))\n",
    "print (\"The test error is {:.4} for KERNEL\".format(test_loss_dos))"
   ]
  },
  {
   "cell_type": "markdown",
   "id": "c9c8d32a",
   "metadata": {
    "ExecuteTime": {
     "end_time": "2023-04-21T17:16:47.143487Z",
     "start_time": "2023-04-21T17:16:47.143473Z"
    }
   },
   "source": [
    "#### Surfaces - 0.1 Kernel"
   ]
  },
  {
   "cell_type": "code",
   "execution_count": 74,
   "id": "40a5ce04",
   "metadata": {
    "ExecuteTime": {
     "end_time": "2023-04-21T17:47:56.315714Z",
     "start_time": "2023-04-21T17:47:16.546274Z"
    }
   },
   "outputs": [
    {
     "name": "stderr",
     "output_type": "stream",
     "text": [
      "Epoch: 825:   8%|█████████▎                                                                                                        | 816/10000 [00:12<01:58, 77.42it/s, lowest_mse=0.123, pred_loss=100, trigger=0]"
     ]
    },
    {
     "name": "stdout",
     "output_type": "stream",
     "text": [
      "The batch_size is now:  32\n"
     ]
    },
    {
     "name": "stderr",
     "output_type": "stream",
     "text": [
      "Epoch: 1638:  16%|█████████████████▊                                                                                            | 1624/10000 [00:20<01:14, 112.50it/s, lowest_mse=0.102, pred_loss=91.1, trigger=0]"
     ]
    },
    {
     "name": "stdout",
     "output_type": "stream",
     "text": [
      "The batch_size is now:  64\n"
     ]
    },
    {
     "name": "stderr",
     "output_type": "stream",
     "text": [
      "Epoch: 2458:  24%|██████████████████████████▋                                                                                  | 2448/10000 [00:25<00:38, 197.07it/s, lowest_mse=0.0906, pred_loss=85.9, trigger=0]"
     ]
    },
    {
     "name": "stdout",
     "output_type": "stream",
     "text": [
      "The batch_size is now:  128\n"
     ]
    },
    {
     "name": "stderr",
     "output_type": "stream",
     "text": [
      "Epoch: 3262:  33%|███████████████████████████████████▍                                                                         | 3253/10000 [00:29<00:29, 228.22it/s, lowest_mse=0.0841, pred_loss=82.8, trigger=0]"
     ]
    },
    {
     "name": "stdout",
     "output_type": "stream",
     "text": [
      "The batch_size is now:  256\n"
     ]
    },
    {
     "name": "stderr",
     "output_type": "stream",
     "text": [
      "Epoch: 4066:  41%|████████████████████████████████████████████▋                                                                 | 4058/10000 [00:32<00:26, 227.68it/s, lowest_mse=0.077, pred_loss=79.2, trigger=0]"
     ]
    },
    {
     "name": "stdout",
     "output_type": "stream",
     "text": [
      "The batch_size is now:  512\n"
     ]
    },
    {
     "name": "stderr",
     "output_type": "stream",
     "text": [
      "Epoch: 4868:  49%|█████████████████████████████████████████████████████                                                        | 4863/10000 [00:36<00:23, 219.90it/s, lowest_mse=0.0701, pred_loss=75.5, trigger=0]"
     ]
    },
    {
     "name": "stdout",
     "output_type": "stream",
     "text": [
      "The batch_size is now:  1024\n"
     ]
    },
    {
     "name": "stderr",
     "output_type": "stream",
     "text": [
      "Epoch: 5629:  56%|█████████████████████████████████████████████████████████████▎                                               | 5629/10000 [00:39<00:30, 141.58it/s, lowest_mse=0.0647, pred_loss=72.6, trigger=0]"
     ]
    },
    {
     "name": "stdout",
     "output_type": "stream",
     "text": [
      "The batch_size is now:  2048\n",
      "Adam Unbiased\n",
      "The train error is 72.56 for KERNEL\n",
      "The test error is 77.81 for KERNEL\n"
     ]
    },
    {
     "name": "stderr",
     "output_type": "stream",
     "text": [
      "\n"
     ]
    }
   ],
   "source": [
    "A_U_weights_03, loss_dos, test_loss_dos = kernel_reg_train_Ad(surface_kernel_30, surface_dos1,\n",
    "                                                              surface_train_index, surface_test_index,\n",
    "                                                              surface_kMM_30, 1e-2, 10000, 16, 1e-3)\n",
    "\n",
    "print (\"Adam Unbiased\")\n",
    "print (\"The train error is {:.4} for KERNEL\".format(loss_dos))\n",
    "print (\"The test error is {:.4} for KERNEL\".format(test_loss_dos))"
   ]
  },
  {
   "cell_type": "code",
   "execution_count": 75,
   "id": "794f1b04",
   "metadata": {
    "ExecuteTime": {
     "end_time": "2023-04-21T17:48:35.862702Z",
     "start_time": "2023-04-21T17:47:56.317315Z"
    }
   },
   "outputs": [
    {
     "name": "stderr",
     "output_type": "stream",
     "text": [
      "Epoch: 828:   8%|█████████▎                                                                                                       | 822/10000 [00:10<01:39, 92.21it/s, lowest_mse=0.0607, pred_loss=104, trigger=0]"
     ]
    },
    {
     "name": "stdout",
     "output_type": "stream",
     "text": [
      "The batch_size is now:  32\n"
     ]
    },
    {
     "name": "stderr",
     "output_type": "stream",
     "text": [
      "Epoch: 1639:  16%|█████████████████▋                                                                                           | 1628/10000 [00:18<01:10, 117.92it/s, lowest_mse=0.0464, pred_loss=91.4, trigger=0]"
     ]
    },
    {
     "name": "stdout",
     "output_type": "stream",
     "text": [
      "The batch_size is now:  64\n"
     ]
    },
    {
     "name": "stderr",
     "output_type": "stream",
     "text": [
      "Epoch: 2453:  25%|██████████████████████████▋                                                                                  | 2452/10000 [00:23<00:43, 175.40it/s, lowest_mse=0.0385, pred_loss=83.3, trigger=0]"
     ]
    },
    {
     "name": "stdout",
     "output_type": "stream",
     "text": [
      "The batch_size is now:  128\n"
     ]
    },
    {
     "name": "stderr",
     "output_type": "stream",
     "text": [
      "Epoch: 3256:  32%|███████████████████████████████████▍                                                                         | 3247/10000 [00:27<00:33, 199.04it/s, lowest_mse=0.0344, pred_loss=78.6, trigger=0]"
     ]
    },
    {
     "name": "stdout",
     "output_type": "stream",
     "text": [
      "The batch_size is now:  256\n"
     ]
    },
    {
     "name": "stderr",
     "output_type": "stream",
     "text": [
      "Epoch: 4059:  40%|████████████████████████████████████████████                                                                 | 4046/10000 [00:31<00:31, 188.83it/s, lowest_mse=0.0303, pred_loss=73.8, trigger=0]"
     ]
    },
    {
     "name": "stdout",
     "output_type": "stream",
     "text": [
      "The batch_size is now:  512\n"
     ]
    },
    {
     "name": "stderr",
     "output_type": "stream",
     "text": [
      "Epoch: 4863:  49%|████████████████████████████████████████████████████▉                                                        | 4858/10000 [00:36<00:27, 190.17it/s, lowest_mse=0.0268, pred_loss=69.4, trigger=0]"
     ]
    },
    {
     "name": "stdout",
     "output_type": "stream",
     "text": [
      "The batch_size is now:  1024\n"
     ]
    },
    {
     "name": "stderr",
     "output_type": "stream",
     "text": [
      "Epoch: 5629:  56%|█████████████████████████████████████████████████████████████▎                                               | 5629/10000 [00:39<00:30, 142.38it/s, lowest_mse=0.0239, pred_loss=65.6, trigger=0]\n"
     ]
    },
    {
     "name": "stdout",
     "output_type": "stream",
     "text": [
      "The batch_size is now:  2048\n",
      "Adam Holdout\n",
      "The train error is 65.54 for KERNEL\n",
      "The test error is 176.8 for KERNEL\n"
     ]
    }
   ],
   "source": [
    "A_U_weights_03, loss_dos, test_loss_dos = kernel_reg_train_Ad(surface_kernel_30, surface_dos3,\n",
    "                                                              surface_holdout_train_index, surface_holdout_test_index,\n",
    "                                                              surface_kMM_30, 1e-1, 10000, 16, 1e-3)\n",
    "print (\"Adam Holdout\")\n",
    "print (\"The train error is {:.4} for KERNEL\".format(loss_dos))\n",
    "print (\"The test error is {:.4} for KERNEL\".format(test_loss_dos))"
   ]
  },
  {
   "cell_type": "markdown",
   "id": "e7fe9778",
   "metadata": {},
   "source": [
    "### Surfaces Aligned"
   ]
  },
  {
   "cell_type": "markdown",
   "id": "0d7580c5",
   "metadata": {},
   "source": [
    "#### Surfaces Aligned - 0.3 SOAP"
   ]
  },
  {
   "cell_type": "code",
   "execution_count": 226,
   "id": "6f1a3822",
   "metadata": {
    "ExecuteTime": {
     "end_time": "2023-04-24T12:42:56.946872Z",
     "start_time": "2023-04-24T12:41:14.372804Z"
    }
   },
   "outputs": [
    {
     "name": "stderr",
     "output_type": "stream",
     "text": [
      "Epoch: 1013:  10%|███████████                                                                                                   | 1011/10000 [00:36<04:00, 37.43it/s, lowest_mse=0.0215, pred_loss=57.8, trigger=0]"
     ]
    },
    {
     "name": "stdout",
     "output_type": "stream",
     "text": [
      "The batch_size is now:  32\n"
     ]
    },
    {
     "name": "stderr",
     "output_type": "stream",
     "text": [
      "Epoch: 2021:  20%|██████████████████████▏                                                                                       | 2021/10000 [00:56<02:04, 64.33it/s, lowest_mse=0.0133, pred_loss=45.5, trigger=0]"
     ]
    },
    {
     "name": "stdout",
     "output_type": "stream",
     "text": [
      "The batch_size is now:  64\n"
     ]
    },
    {
     "name": "stderr",
     "output_type": "stream",
     "text": [
      "Epoch: 3031:  30%|█████████████████████████████████▏                                                                            | 3021/10000 [01:09<01:13, 95.48it/s, lowest_mse=0.0113, pred_loss=41.9, trigger=0]"
     ]
    },
    {
     "name": "stdout",
     "output_type": "stream",
     "text": [
      "The batch_size is now:  128\n"
     ]
    },
    {
     "name": "stderr",
     "output_type": "stream",
     "text": [
      "Epoch: 4033:  40%|████████████████████████████████████████████▊                                                                  | 4033/10000 [01:17<00:47, 124.34it/s, lowest_mse=0.0103, pred_loss=40, trigger=0]"
     ]
    },
    {
     "name": "stdout",
     "output_type": "stream",
     "text": [
      "The batch_size is now:  256\n"
     ]
    },
    {
     "name": "stderr",
     "output_type": "stream",
     "text": [
      "Epoch: 5035:  50%|██████████████████████████████████████████████████████▎                                                     | 5032/10000 [01:25<00:41, 120.23it/s, lowest_mse=0.00951, pred_loss=38.5, trigger=0]"
     ]
    },
    {
     "name": "stdout",
     "output_type": "stream",
     "text": [
      "The batch_size is now:  512\n"
     ]
    },
    {
     "name": "stderr",
     "output_type": "stream",
     "text": [
      "Epoch: 6037:  60%|█████████████████████████████████████████████████████████████████▏                                          | 6032/10000 [01:34<00:33, 119.18it/s, lowest_mse=0.00898, pred_loss=37.5, trigger=0]"
     ]
    },
    {
     "name": "stdout",
     "output_type": "stream",
     "text": [
      "The batch_size is now:  1024\n"
     ]
    },
    {
     "name": "stderr",
     "output_type": "stream",
     "text": [
      "Epoch: 7015:  70%|████████████████████████████████████████████████████████████████████████████▍                                | 7015/10000 [01:42<00:43, 68.40it/s, lowest_mse=0.00861, pred_loss=36.6, trigger=0]"
     ]
    },
    {
     "name": "stdout",
     "output_type": "stream",
     "text": [
      "The batch_size is now:  2048\n",
      "Adam Unbiased\n",
      "The train error is 36.59 for SOAP\n",
      "The test error is 49.84 for SOAP\n"
     ]
    },
    {
     "name": "stderr",
     "output_type": "stream",
     "text": [
      "\n"
     ]
    }
   ],
   "source": [
    "weights, loss_dos, test_loss_dos = normal_reg_train_Ad(surface_soap, surface_aligned_dos3, surface_train_index, surface_test_index, 1e-2, 10000, 16, 1e-3)\n",
    "print (\"Adam Unbiased\")\n",
    "print (\"The train error is {:.4} for SOAP\".format(loss_dos))\n",
    "print (\"The test error is {:.4} for SOAP\".format(test_loss_dos))"
   ]
  },
  {
   "cell_type": "code",
   "execution_count": 227,
   "id": "255777b4",
   "metadata": {
    "ExecuteTime": {
     "end_time": "2023-04-24T12:44:36.131420Z",
     "start_time": "2023-04-24T12:42:56.950313Z"
    },
    "scrolled": true
   },
   "outputs": [
    {
     "name": "stderr",
     "output_type": "stream",
     "text": [
      "Epoch: 1012:  10%|███████████▏                                                                                                  | 1012/10000 [00:35<03:57, 37.81it/s, lowest_mse=0.0277, pred_loss=73.4, trigger=0]"
     ]
    },
    {
     "name": "stdout",
     "output_type": "stream",
     "text": [
      "The batch_size is now:  32\n"
     ]
    },
    {
     "name": "stderr",
     "output_type": "stream",
     "text": [
      "Epoch: 2021:  20%|██████████████████████▏                                                                                       | 2015/10000 [00:55<02:10, 60.99it/s, lowest_mse=0.0186, pred_loss=60.2, trigger=0]"
     ]
    },
    {
     "name": "stdout",
     "output_type": "stream",
     "text": [
      "The batch_size is now:  64\n"
     ]
    },
    {
     "name": "stderr",
     "output_type": "stream",
     "text": [
      "Epoch: 3032:  30%|█████████████████████████████████                                                                            | 3030/10000 [01:07<01:07, 103.01it/s, lowest_mse=0.0161, pred_loss=55.9, trigger=0]"
     ]
    },
    {
     "name": "stdout",
     "output_type": "stream",
     "text": [
      "The batch_size is now:  128\n"
     ]
    },
    {
     "name": "stderr",
     "output_type": "stream",
     "text": [
      "Epoch: 4034:  40%|████████████████████████████████████████████▋                                                                  | 4031/10000 [01:15<00:47, 125.51it/s, lowest_mse=0.0144, pred_loss=53, trigger=0]"
     ]
    },
    {
     "name": "stdout",
     "output_type": "stream",
     "text": [
      "The batch_size is now:  256\n"
     ]
    },
    {
     "name": "stderr",
     "output_type": "stream",
     "text": [
      "Epoch: 5035:  50%|██████████████████████████████████████████████████████▊                                                      | 5032/10000 [01:23<00:39, 124.69it/s, lowest_mse=0.0137, pred_loss=51.7, trigger=0]"
     ]
    },
    {
     "name": "stdout",
     "output_type": "stream",
     "text": [
      "The batch_size is now:  512\n"
     ]
    },
    {
     "name": "stderr",
     "output_type": "stream",
     "text": [
      "Epoch: 6038:  60%|██████████████████████████████████████████████████████████████████▉                                            | 6033/10000 [01:31<00:31, 125.67it/s, lowest_mse=0.0133, pred_loss=51, trigger=0]"
     ]
    },
    {
     "name": "stdout",
     "output_type": "stream",
     "text": [
      "The batch_size is now:  1024\n"
     ]
    },
    {
     "name": "stderr",
     "output_type": "stream",
     "text": [
      "Epoch: 7015:  70%|█████████████████████████████████████████████████████████████████████████████▏                                | 7015/10000 [01:39<00:42, 70.74it/s, lowest_mse=0.0131, pred_loss=50.4, trigger=0]\n"
     ]
    },
    {
     "name": "stdout",
     "output_type": "stream",
     "text": [
      "The batch_size is now:  2048\n",
      "Adam Holdout\n",
      "The train error is 50.43 for SOAP\n",
      "The test error is 126.2 for SOAP\n"
     ]
    }
   ],
   "source": [
    "weights, loss_dos, test_loss_dos = normal_reg_train_Ad(surface_soap, surface_aligned_dos3,\n",
    "                                                       surface_holdout_train_index, surface_holdout_test_index, 1e-1,\n",
    "                                                       10000, 16, 1e-3)\n",
    "print (\"Adam Holdout\")\n",
    "print (\"The train error is {:.4} for SOAP\".format(loss_dos))\n",
    "print (\"The test error is {:.4} for SOAP\".format(test_loss_dos))"
   ]
  },
  {
   "cell_type": "markdown",
   "id": "e1511960",
   "metadata": {},
   "source": [
    "#### Surfaces Aligned - 0.1 SOAP"
   ]
  },
  {
   "cell_type": "code",
   "execution_count": 228,
   "id": "4d10edad",
   "metadata": {
    "ExecuteTime": {
     "end_time": "2023-04-24T12:46:16.054969Z",
     "start_time": "2023-04-24T12:44:36.133148Z"
    }
   },
   "outputs": [
    {
     "name": "stderr",
     "output_type": "stream",
     "text": [
      "Epoch: 1012:  10%|███████████▏                                                                                                  | 1012/10000 [00:35<03:58, 37.75it/s, lowest_mse=0.0517, pred_loss=66.7, trigger=0]"
     ]
    },
    {
     "name": "stdout",
     "output_type": "stream",
     "text": [
      "The batch_size is now:  32\n"
     ]
    },
    {
     "name": "stderr",
     "output_type": "stream",
     "text": [
      "Epoch: 2021:  20%|██████████████████████▏                                                                                       | 2016/10000 [00:55<02:09, 61.68it/s, lowest_mse=0.0381, pred_loss=57.3, trigger=0]"
     ]
    },
    {
     "name": "stdout",
     "output_type": "stream",
     "text": [
      "The batch_size is now:  64\n"
     ]
    },
    {
     "name": "stderr",
     "output_type": "stream",
     "text": [
      "Epoch: 3031:  30%|█████████████████████████████████                                                                            | 3031/10000 [01:07<01:08, 102.09it/s, lowest_mse=0.0341, pred_loss=54.2, trigger=0]"
     ]
    },
    {
     "name": "stdout",
     "output_type": "stream",
     "text": [
      "The batch_size is now:  128\n"
     ]
    },
    {
     "name": "stderr",
     "output_type": "stream",
     "text": [
      "Epoch: 4033:  40%|███████████████████████████████████████████▉                                                                 | 4030/10000 [01:15<00:48, 123.74it/s, lowest_mse=0.0319, pred_loss=52.4, trigger=0]"
     ]
    },
    {
     "name": "stdout",
     "output_type": "stream",
     "text": [
      "The batch_size is now:  256\n"
     ]
    },
    {
     "name": "stderr",
     "output_type": "stream",
     "text": [
      "Epoch: 5035:  50%|██████████████████████████████████████████████████████▊                                                      | 5031/10000 [01:23<00:40, 123.25it/s, lowest_mse=0.0299, pred_loss=50.8, trigger=0]"
     ]
    },
    {
     "name": "stdout",
     "output_type": "stream",
     "text": [
      "The batch_size is now:  512\n"
     ]
    },
    {
     "name": "stderr",
     "output_type": "stream",
     "text": [
      "Epoch: 6037:  60%|█████████████████████████████████████████████████████████████████▋                                           | 6031/10000 [01:31<00:32, 123.10it/s, lowest_mse=0.0284, pred_loss=49.5, trigger=0]"
     ]
    },
    {
     "name": "stdout",
     "output_type": "stream",
     "text": [
      "The batch_size is now:  1024\n"
     ]
    },
    {
     "name": "stderr",
     "output_type": "stream",
     "text": [
      "Epoch: 7015:  70%|█████████████████████████████████████████████████████████████████████████████▏                                | 7015/10000 [01:39<00:42, 70.22it/s, lowest_mse=0.0272, pred_loss=48.4, trigger=0]"
     ]
    },
    {
     "name": "stdout",
     "output_type": "stream",
     "text": [
      "The batch_size is now:  2048\n",
      "Adam Unbiased\n",
      "The train error is 48.4 for SOAP\n",
      "The test error is 62.7 for SOAP\n"
     ]
    },
    {
     "name": "stderr",
     "output_type": "stream",
     "text": [
      "\n"
     ]
    }
   ],
   "source": [
    "weights, loss_dos, test_loss_dos = normal_reg_train_Ad(surface_soap, surface_aligned_dos1, \n",
    "                                                       surface_train_index, surface_test_index,\n",
    "                                                       1e-2, 10000, 16, 1e-3)\n",
    "print (\"Adam Unbiased\")\n",
    "print (\"The train error is {:.4} for SOAP\".format(loss_dos))\n",
    "print (\"The test error is {:.4} for SOAP\".format(test_loss_dos))"
   ]
  },
  {
   "cell_type": "code",
   "execution_count": 229,
   "id": "2b95ae2f",
   "metadata": {
    "ExecuteTime": {
     "end_time": "2023-04-24T12:47:55.789267Z",
     "start_time": "2023-04-24T12:46:16.057235Z"
    }
   },
   "outputs": [
    {
     "name": "stderr",
     "output_type": "stream",
     "text": [
      "Epoch: 1013:  10%|███████████▏                                                                                                  | 1013/10000 [00:35<03:48, 39.30it/s, lowest_mse=0.0615, pred_loss=79.1, trigger=0]"
     ]
    },
    {
     "name": "stdout",
     "output_type": "stream",
     "text": [
      "The batch_size is now:  32\n"
     ]
    },
    {
     "name": "stderr",
     "output_type": "stream",
     "text": [
      "Epoch: 2021:  20%|██████████████████████▏                                                                                       | 2018/10000 [00:54<02:05, 63.67it/s, lowest_mse=0.0488, pred_loss=70.5, trigger=0]"
     ]
    },
    {
     "name": "stdout",
     "output_type": "stream",
     "text": [
      "The batch_size is now:  64\n"
     ]
    },
    {
     "name": "stderr",
     "output_type": "stream",
     "text": [
      "Epoch: 3033:  30%|█████████████████████████████████▏                                                                            | 3022/10000 [01:07<01:10, 99.57it/s, lowest_mse=0.0439, pred_loss=66.9, trigger=0]"
     ]
    },
    {
     "name": "stdout",
     "output_type": "stream",
     "text": [
      "The batch_size is now:  128\n"
     ]
    },
    {
     "name": "stderr",
     "output_type": "stream",
     "text": [
      "Epoch: 4034:  40%|███████████████████████████████████████████▉                                                                 | 4034/10000 [01:15<00:47, 125.16it/s, lowest_mse=0.0408, pred_loss=64.4, trigger=0]"
     ]
    },
    {
     "name": "stdout",
     "output_type": "stream",
     "text": [
      "The batch_size is now:  256\n"
     ]
    },
    {
     "name": "stderr",
     "output_type": "stream",
     "text": [
      "Epoch: 5036:  50%|██████████████████████████████████████████████████████▉                                                      | 5035/10000 [01:23<00:39, 125.92it/s, lowest_mse=0.0392, pred_loss=63.2, trigger=0]"
     ]
    },
    {
     "name": "stdout",
     "output_type": "stream",
     "text": [
      "The batch_size is now:  512\n"
     ]
    },
    {
     "name": "stderr",
     "output_type": "stream",
     "text": [
      "Epoch: 6038:  60%|█████████████████████████████████████████████████████████████████▊                                           | 6035/10000 [01:31<00:31, 126.57it/s, lowest_mse=0.0381, pred_loss=62.3, trigger=0]"
     ]
    },
    {
     "name": "stdout",
     "output_type": "stream",
     "text": [
      "The batch_size is now:  1024\n"
     ]
    },
    {
     "name": "stderr",
     "output_type": "stream",
     "text": [
      "Epoch: 7015:  70%|█████████████████████████████████████████████████████████████████████████████▏                                | 7015/10000 [01:39<00:42, 70.35it/s, lowest_mse=0.0374, pred_loss=61.7, trigger=0]\n"
     ]
    },
    {
     "name": "stdout",
     "output_type": "stream",
     "text": [
      "The batch_size is now:  2048\n",
      "Adam Holdout\n",
      "The train error is 61.72 for SOAP\n",
      "The test error is 135.3 for SOAP\n"
     ]
    }
   ],
   "source": [
    "weights, loss_dos, test_loss_dos = normal_reg_train_Ad(surface_soap, surface_aligned_dos1,\n",
    "                                                       surface_holdout_train_index, surface_holdout_test_index, 1e-1,\n",
    "                                                       10000, 16, 1e-3)\n",
    "print (\"Adam Holdout\")\n",
    "print (\"The train error is {:.4} for SOAP\".format(loss_dos))\n",
    "print (\"The test error is {:.4} for SOAP\".format(test_loss_dos))"
   ]
  },
  {
   "cell_type": "markdown",
   "id": "e31dc382",
   "metadata": {},
   "source": [
    "#### Surfaces Aligned - 0.3 Kernel"
   ]
  },
  {
   "cell_type": "code",
   "execution_count": 230,
   "id": "223db9c5",
   "metadata": {
    "ExecuteTime": {
     "end_time": "2023-04-24T12:48:34.721059Z",
     "start_time": "2023-04-24T12:47:55.790905Z"
    }
   },
   "outputs": [
    {
     "name": "stderr",
     "output_type": "stream",
     "text": [
      "Epoch: 828:   8%|█████████▎                                                                                                       | 826/10000 [00:11<01:40, 91.14it/s, lowest_mse=0.0682, pred_loss=103, trigger=0]"
     ]
    },
    {
     "name": "stdout",
     "output_type": "stream",
     "text": [
      "The batch_size is now:  32\n"
     ]
    },
    {
     "name": "stderr",
     "output_type": "stream",
     "text": [
      "Epoch: 1643:  16%|█████████████████▊                                                                                           | 1631/10000 [00:18<01:01, 135.62it/s, lowest_mse=0.0495, pred_loss=87.7, trigger=0]"
     ]
    },
    {
     "name": "stdout",
     "output_type": "stream",
     "text": [
      "The batch_size is now:  64\n"
     ]
    },
    {
     "name": "stderr",
     "output_type": "stream",
     "text": [
      "Epoch: 2457:  24%|██████████████████████████▋                                                                                  | 2447/10000 [00:23<00:39, 189.48it/s, lowest_mse=0.0397, pred_loss=78.6, trigger=0]"
     ]
    },
    {
     "name": "stdout",
     "output_type": "stream",
     "text": [
      "The batch_size is now:  128\n"
     ]
    },
    {
     "name": "stderr",
     "output_type": "stream",
     "text": [
      "Epoch: 3263:  32%|███████████████████████████████████▍                                                                         | 3250/10000 [00:27<00:31, 216.09it/s, lowest_mse=0.0345, pred_loss=73.3, trigger=0]"
     ]
    },
    {
     "name": "stdout",
     "output_type": "stream",
     "text": [
      "The batch_size is now:  256\n"
     ]
    },
    {
     "name": "stderr",
     "output_type": "stream",
     "text": [
      "Epoch: 4060:  40%|████████████████████████████████████████████                                                                 | 4041/10000 [00:31<00:30, 196.77it/s, lowest_mse=0.0298, pred_loss=68.1, trigger=0]"
     ]
    },
    {
     "name": "stdout",
     "output_type": "stream",
     "text": [
      "The batch_size is now:  512\n"
     ]
    },
    {
     "name": "stderr",
     "output_type": "stream",
     "text": [
      "Epoch: 4864:  49%|████████████████████████████████████████████████████▉                                                        | 4853/10000 [00:35<00:26, 197.11it/s, lowest_mse=0.0257, pred_loss=63.3, trigger=0]"
     ]
    },
    {
     "name": "stdout",
     "output_type": "stream",
     "text": [
      "The batch_size is now:  1024\n"
     ]
    },
    {
     "name": "stderr",
     "output_type": "stream",
     "text": [
      "Epoch: 5629:  56%|█████████████████████████████████████████████████████████████▎                                               | 5629/10000 [00:38<00:30, 144.63it/s, lowest_mse=0.0226, pred_loss=59.3, trigger=0]\n"
     ]
    },
    {
     "name": "stdout",
     "output_type": "stream",
     "text": [
      "The batch_size is now:  2048\n",
      "Adam Unbiased\n",
      "The train error is 59.28 for KERNEL\n",
      "The test error is 65.53 for KERNEL\n"
     ]
    }
   ],
   "source": [
    "A_U_weights_03, loss_dos, test_loss_dos = kernel_reg_train_Ad(surface_kernel_30, surface_aligned_dos3,\n",
    "                                                              surface_train_index, surface_test_index,\n",
    "                                                              surface_kMM_30, 1e-2, 10000, 16, 1e-3)\n",
    "\n",
    "print (\"Adam Unbiased\")\n",
    "print (\"The train error is {:.4} for KERNEL\".format(loss_dos))\n",
    "print (\"The test error is {:.4} for KERNEL\".format(test_loss_dos))"
   ]
  },
  {
   "cell_type": "code",
   "execution_count": 231,
   "id": "c1e0399f",
   "metadata": {
    "ExecuteTime": {
     "end_time": "2023-04-24T12:49:11.395795Z",
     "start_time": "2023-04-24T12:48:34.722622Z"
    }
   },
   "outputs": [
    {
     "name": "stderr",
     "output_type": "stream",
     "text": [
      "Epoch: 829:   8%|█████████▍                                                                                                        | 823/10000 [00:10<01:37, 93.94it/s, lowest_mse=0.056, pred_loss=104, trigger=0]"
     ]
    },
    {
     "name": "stdout",
     "output_type": "stream",
     "text": [
      "The batch_size is now:  32\n"
     ]
    },
    {
     "name": "stderr",
     "output_type": "stream",
     "text": [
      "Epoch: 1645:  16%|██████████████████                                                                                            | 1638/10000 [00:17<00:57, 145.02it/s, lowest_mse=0.042, pred_loss=90.4, trigger=0]"
     ]
    },
    {
     "name": "stdout",
     "output_type": "stream",
     "text": [
      "The batch_size is now:  64\n"
     ]
    },
    {
     "name": "stderr",
     "output_type": "stream",
     "text": [
      "Epoch: 2453:  24%|██████████████████████████▌                                                                                  | 2441/10000 [00:22<00:43, 174.86it/s, lowest_mse=0.0347, pred_loss=82.1, trigger=0]"
     ]
    },
    {
     "name": "stdout",
     "output_type": "stream",
     "text": [
      "The batch_size is now:  128\n"
     ]
    },
    {
     "name": "stderr",
     "output_type": "stream",
     "text": [
      "Epoch: 3264:  32%|███████████████████████████████████▍                                                                         | 3249/10000 [00:26<00:29, 231.20it/s, lowest_mse=0.0305, pred_loss=77.1, trigger=0]"
     ]
    },
    {
     "name": "stdout",
     "output_type": "stream",
     "text": [
      "The batch_size is now:  256\n"
     ]
    },
    {
     "name": "stderr",
     "output_type": "stream",
     "text": [
      "Epoch: 4063:  41%|████████████████████████████████████████████▎                                                                | 4062/10000 [00:29<00:27, 217.30it/s, lowest_mse=0.0269, pred_loss=72.4, trigger=0]"
     ]
    },
    {
     "name": "stdout",
     "output_type": "stream",
     "text": [
      "The batch_size is now:  512\n"
     ]
    },
    {
     "name": "stderr",
     "output_type": "stream",
     "text": [
      "Epoch: 4873:  48%|████████████████████████████████████████████████████▊                                                        | 4850/10000 [00:33<00:21, 240.95it/s, lowest_mse=0.0234, pred_loss=67.5, trigger=0]"
     ]
    },
    {
     "name": "stdout",
     "output_type": "stream",
     "text": [
      "The batch_size is now:  1024\n"
     ]
    },
    {
     "name": "stderr",
     "output_type": "stream",
     "text": [
      "Epoch: 5629:  56%|█████████████████████████████████████████████████████████████▎                                               | 5629/10000 [00:36<00:28, 153.53it/s, lowest_mse=0.0213, pred_loss=64.4, trigger=0]\n"
     ]
    },
    {
     "name": "stdout",
     "output_type": "stream",
     "text": [
      "The batch_size is now:  2048\n",
      "Adam Holdout\n",
      "The train error is 64.36 for KERNEL\n",
      "The test error is 164.2 for KERNEL\n"
     ]
    }
   ],
   "source": [
    "A_U_weights_03, loss_dos, test_loss_dos = kernel_reg_train_Ad(surface_kernel_30, surface_aligned_dos3,\n",
    "                                                              surface_holdout_train_index, surface_holdout_test_index,\n",
    "                                                              surface_kMM_30, 1e-2, 10000, 16, 1e-3)\n",
    "print (\"Adam Holdout\")\n",
    "print (\"The train error is {:.4} for KERNEL\".format(loss_dos))\n",
    "print (\"The test error is {:.4} for KERNEL\".format(test_loss_dos))"
   ]
  },
  {
   "cell_type": "markdown",
   "id": "7ead8341",
   "metadata": {
    "ExecuteTime": {
     "end_time": "2023-04-21T17:16:47.143487Z",
     "start_time": "2023-04-21T17:16:47.143473Z"
    }
   },
   "source": [
    "#### Surfaces Aligned - 0.1 Kernel"
   ]
  },
  {
   "cell_type": "code",
   "execution_count": 232,
   "id": "09be81d6",
   "metadata": {
    "ExecuteTime": {
     "end_time": "2023-04-24T12:49:49.221079Z",
     "start_time": "2023-04-24T12:49:11.397361Z"
    }
   },
   "outputs": [
    {
     "name": "stderr",
     "output_type": "stream",
     "text": [
      "Epoch: 828:   8%|█████████▍                                                                                                        | 826/10000 [00:11<01:38, 93.02it/s, lowest_mse=0.119, pred_loss=101, trigger=0]"
     ]
    },
    {
     "name": "stdout",
     "output_type": "stream",
     "text": [
      "The batch_size is now:  32\n"
     ]
    },
    {
     "name": "stderr",
     "output_type": "stream",
     "text": [
      "Epoch: 1642:  16%|█████████████████▊                                                                                           | 1639/10000 [00:18<00:59, 140.05it/s, lowest_mse=0.0975, pred_loss=91.6, trigger=0]"
     ]
    },
    {
     "name": "stdout",
     "output_type": "stream",
     "text": [
      "The batch_size is now:  64\n"
     ]
    },
    {
     "name": "stderr",
     "output_type": "stream",
     "text": [
      "Epoch: 2456:  24%|██████████████████████████▋                                                                                  | 2445/10000 [00:22<00:41, 181.80it/s, lowest_mse=0.0864, pred_loss=86.3, trigger=0]"
     ]
    },
    {
     "name": "stdout",
     "output_type": "stream",
     "text": [
      "The batch_size is now:  128\n"
     ]
    },
    {
     "name": "stderr",
     "output_type": "stream",
     "text": [
      "Epoch: 3261:  32%|████████████████████████████████████▋                                                                            | 3250/10000 [00:26<00:30, 221.96it/s, lowest_mse=0.08, pred_loss=83, trigger=0]"
     ]
    },
    {
     "name": "stdout",
     "output_type": "stream",
     "text": [
      "The batch_size is now:  256\n"
     ]
    },
    {
     "name": "stderr",
     "output_type": "stream",
     "text": [
      "Epoch: 4065:  41%|████████████████████████████████████████████▏                                                                | 4052/10000 [00:30<00:26, 221.68it/s, lowest_mse=0.0731, pred_loss=79.4, trigger=0]"
     ]
    },
    {
     "name": "stdout",
     "output_type": "stream",
     "text": [
      "The batch_size is now:  512\n"
     ]
    },
    {
     "name": "stderr",
     "output_type": "stream",
     "text": [
      "Epoch: 4869:  49%|████████████████████████████████████████████████████▉                                                        | 4851/10000 [00:34<00:23, 221.26it/s, lowest_mse=0.0664, pred_loss=75.6, trigger=0]"
     ]
    },
    {
     "name": "stdout",
     "output_type": "stream",
     "text": [
      "The batch_size is now:  1024\n"
     ]
    },
    {
     "name": "stderr",
     "output_type": "stream",
     "text": [
      "Epoch: 5629:  56%|█████████████████████████████████████████████████████████████▎                                               | 5629/10000 [00:37<00:29, 148.86it/s, lowest_mse=0.0613, pred_loss=72.7, trigger=0]\n"
     ]
    },
    {
     "name": "stdout",
     "output_type": "stream",
     "text": [
      "The batch_size is now:  2048\n",
      "Adam Unbiased\n",
      "The train error is 72.67 for KERNEL\n",
      "The test error is 78.06 for KERNEL\n"
     ]
    }
   ],
   "source": [
    "A_U_weights_03, loss_dos, test_loss_dos = kernel_reg_train_Ad(surface_kernel_30, surface_aligned_dos1,\n",
    "                                                              surface_train_index, surface_test_index,\n",
    "                                                              surface_kMM_30, 1e-2, 10000, 16, 1e-3)\n",
    "\n",
    "print (\"Adam Unbiased\")\n",
    "print (\"The train error is {:.4} for KERNEL\".format(loss_dos))\n",
    "print (\"The test error is {:.4} for KERNEL\".format(test_loss_dos))"
   ]
  },
  {
   "cell_type": "code",
   "execution_count": 233,
   "id": "91e9d5c4",
   "metadata": {
    "ExecuteTime": {
     "end_time": "2023-04-24T12:50:25.825350Z",
     "start_time": "2023-04-24T12:49:49.222458Z"
    }
   },
   "outputs": [
    {
     "name": "stderr",
     "output_type": "stream",
     "text": [
      "Epoch: 829:   8%|█████████▎                                                                                                       | 823/10000 [00:10<01:38, 93.61it/s, lowest_mse=0.0575, pred_loss=106, trigger=0]"
     ]
    },
    {
     "name": "stdout",
     "output_type": "stream",
     "text": [
      "The batch_size is now:  32\n"
     ]
    },
    {
     "name": "stderr",
     "output_type": "stream",
     "text": [
      "Epoch: 1644:  16%|█████████████████▊                                                                                           | 1638/10000 [00:17<00:57, 144.56it/s, lowest_mse=0.0424, pred_loss=90.8, trigger=0]"
     ]
    },
    {
     "name": "stdout",
     "output_type": "stream",
     "text": [
      "The batch_size is now:  64\n"
     ]
    },
    {
     "name": "stderr",
     "output_type": "stream",
     "text": [
      "Epoch: 2460:  24%|██████████████████████████▌                                                                                  | 2438/10000 [00:22<00:38, 195.25it/s, lowest_mse=0.0349, pred_loss=82.4, trigger=0]"
     ]
    },
    {
     "name": "stdout",
     "output_type": "stream",
     "text": [
      "The batch_size is now:  128\n"
     ]
    },
    {
     "name": "stderr",
     "output_type": "stream",
     "text": [
      "Epoch: 3264:  33%|███████████████████████████████████▍                                                                         | 3254/10000 [00:25<00:28, 236.88it/s, lowest_mse=0.0309, pred_loss=77.5, trigger=0]"
     ]
    },
    {
     "name": "stdout",
     "output_type": "stream",
     "text": [
      "The batch_size is now:  256\n"
     ]
    },
    {
     "name": "stderr",
     "output_type": "stream",
     "text": [
      "Epoch: 4068:  40%|████████████████████████████████████████████                                                                 | 4046/10000 [00:29<00:25, 237.23it/s, lowest_mse=0.0271, pred_loss=72.5, trigger=0]"
     ]
    },
    {
     "name": "stdout",
     "output_type": "stream",
     "text": [
      "The batch_size is now:  512\n"
     ]
    },
    {
     "name": "stderr",
     "output_type": "stream",
     "text": [
      "Epoch: 4863:  48%|████████████████████████████████████████████████████▊                                                        | 4846/10000 [00:32<00:25, 200.36it/s, lowest_mse=0.0241, pred_loss=68.5, trigger=0]"
     ]
    },
    {
     "name": "stdout",
     "output_type": "stream",
     "text": [
      "The batch_size is now:  1024\n"
     ]
    },
    {
     "name": "stderr",
     "output_type": "stream",
     "text": [
      "Epoch: 5629:  56%|█████████████████████████████████████████████████████████████▎                                               | 5629/10000 [00:36<00:28, 153.83it/s, lowest_mse=0.0216, pred_loss=64.8, trigger=0]\n"
     ]
    },
    {
     "name": "stdout",
     "output_type": "stream",
     "text": [
      "The batch_size is now:  2048\n",
      "Adam Holdout\n",
      "The train error is 64.83 for KERNEL\n",
      "The test error is 165.6 for KERNEL\n"
     ]
    }
   ],
   "source": [
    "A_U_weights_03, loss_dos, test_loss_dos = kernel_reg_train_Ad(surface_kernel_30, surface_aligned_dos3,\n",
    "                                                              surface_holdout_train_index, surface_holdout_test_index,\n",
    "                                                              surface_kMM_30, 1e-1, 10000, 16, 1e-3)\n",
    "print (\"Adam Holdout\")\n",
    "print (\"The train error is {:.4} for KERNEL\".format(loss_dos))\n",
    "print (\"The test error is {:.4} for KERNEL\".format(test_loss_dos))"
   ]
  },
  {
   "cell_type": "markdown",
   "id": "f66452ee",
   "metadata": {},
   "source": [
    "### Bulk"
   ]
  },
  {
   "cell_type": "markdown",
   "id": "58015924",
   "metadata": {},
   "source": [
    "#### Bulk - 0.3 SOAP"
   ]
  },
  {
   "cell_type": "code",
   "execution_count": 76,
   "id": "3101f4df",
   "metadata": {
    "ExecuteTime": {
     "end_time": "2023-04-21T18:00:42.186377Z",
     "start_time": "2023-04-21T17:48:35.864284Z"
    }
   },
   "outputs": [
    {
     "name": "stderr",
     "output_type": "stream",
     "text": [
      "Epoch: 1004:  10%|███████████                                                                                                   | 1004/10000 [05:50<37:18,  4.02it/s, lowest_mse=0.0085, pred_loss=24.8, trigger=0]"
     ]
    },
    {
     "name": "stdout",
     "output_type": "stream",
     "text": [
      "The batch_size is now:  32\n"
     ]
    },
    {
     "name": "stderr",
     "output_type": "stream",
     "text": [
      "Epoch: 2007:  20%|█████████████████████▉                                                                                       | 2007/10000 [08:30<14:57,  8.90it/s, lowest_mse=0.00711, pred_loss=22.1, trigger=0]"
     ]
    },
    {
     "name": "stdout",
     "output_type": "stream",
     "text": [
      "The batch_size is now:  64\n"
     ]
    },
    {
     "name": "stderr",
     "output_type": "stream",
     "text": [
      "Epoch: 3011:  30%|████████████████████████████████▊                                                                            | 3010/10000 [09:55<08:04, 14.43it/s, lowest_mse=0.00647, pred_loss=20.9, trigger=0]"
     ]
    },
    {
     "name": "stdout",
     "output_type": "stream",
     "text": [
      "The batch_size is now:  128\n"
     ]
    },
    {
     "name": "stderr",
     "output_type": "stream",
     "text": [
      "Epoch: 4014:  40%|███████████████████████████████████████████▋                                                                 | 4013/10000 [10:41<03:57, 25.22it/s, lowest_mse=0.00611, pred_loss=23.8, trigger=0]"
     ]
    },
    {
     "name": "stdout",
     "output_type": "stream",
     "text": [
      "The batch_size is now:  256\n"
     ]
    },
    {
     "name": "stderr",
     "output_type": "stream",
     "text": [
      "Epoch: 5018:  50%|██████████████████████████████████████████████████████▋                                                      | 5016/10000 [11:16<02:33, 32.48it/s, lowest_mse=0.00589, pred_loss=25.7, trigger=0]"
     ]
    },
    {
     "name": "stdout",
     "output_type": "stream",
     "text": [
      "The batch_size is now:  512\n"
     ]
    },
    {
     "name": "stderr",
     "output_type": "stream",
     "text": [
      "Epoch: 6022:  60%|██████████████████████████████████████████████████████████████████▊                                            | 6022/10000 [11:46<01:38, 40.49it/s, lowest_mse=0.00574, pred_loss=19, trigger=0]"
     ]
    },
    {
     "name": "stdout",
     "output_type": "stream",
     "text": [
      "The batch_size is now:  1024\n"
     ]
    },
    {
     "name": "stderr",
     "output_type": "stream",
     "text": [
      "Epoch: 7015:  70%|█████████████████████████████████████████████████████████████████████████████▏                                | 7015/10000 [12:06<05:09,  9.66it/s, lowest_mse=0.0056, pred_loss=18.8, trigger=0]\n"
     ]
    },
    {
     "name": "stdout",
     "output_type": "stream",
     "text": [
      "The batch_size is now:  2048\n",
      "Adam Unbiased\n",
      "The train error is 18.76 for SOAP\n",
      "The test error is 20.88 for SOAP\n"
     ]
    }
   ],
   "source": [
    "weights, loss_dos, test_loss_dos = normal_reg_train_Ad(bulk_soap, bulk_dos3,\n",
    "                                                       bulk_train_index, bulk_test_index,\n",
    "                                                       1e-2, 10000, 16, 1e-3)\n",
    "print (\"Adam Unbiased\")\n",
    "print (\"The train error is {:.4} for SOAP\".format(loss_dos))\n",
    "print (\"The test error is {:.4} for SOAP\".format(test_loss_dos))"
   ]
  },
  {
   "cell_type": "code",
   "execution_count": 77,
   "id": "2fb468c0",
   "metadata": {
    "ExecuteTime": {
     "end_time": "2023-04-21T18:11:39.633222Z",
     "start_time": "2023-04-21T18:00:42.188614Z"
    }
   },
   "outputs": [
    {
     "name": "stderr",
     "output_type": "stream",
     "text": [
      "Epoch: 1004:  10%|██████████▉                                                                                                  | 1004/10000 [04:54<36:37,  4.09it/s, lowest_mse=0.00885, pred_loss=24.5, trigger=0]"
     ]
    },
    {
     "name": "stdout",
     "output_type": "stream",
     "text": [
      "The batch_size is now:  32\n"
     ]
    },
    {
     "name": "stderr",
     "output_type": "stream",
     "text": [
      "Epoch: 2007:  20%|█████████████████████▉                                                                                       | 2007/10000 [07:29<15:26,  8.62it/s, lowest_mse=0.00739, pred_loss=22.1, trigger=0]"
     ]
    },
    {
     "name": "stdout",
     "output_type": "stream",
     "text": [
      "The batch_size is now:  64\n"
     ]
    },
    {
     "name": "stderr",
     "output_type": "stream",
     "text": [
      "Epoch: 3011:  30%|████████████████████████████████▊                                                                            | 3010/10000 [08:52<08:09, 14.29it/s, lowest_mse=0.00672, pred_loss=20.8, trigger=0]"
     ]
    },
    {
     "name": "stdout",
     "output_type": "stream",
     "text": [
      "The batch_size is now:  128\n"
     ]
    },
    {
     "name": "stderr",
     "output_type": "stream",
     "text": [
      "Epoch: 4015:  40%|███████████████████████████████████████████▊                                                                 | 4015/10000 [09:38<03:49, 26.03it/s, lowest_mse=0.00634, pred_loss=22.7, trigger=0]"
     ]
    },
    {
     "name": "stdout",
     "output_type": "stream",
     "text": [
      "The batch_size is now:  256\n"
     ]
    },
    {
     "name": "stderr",
     "output_type": "stream",
     "text": [
      "Epoch: 5018:  50%|██████████████████████████████████████████████████████▋                                                      | 5018/10000 [10:10<02:26, 33.93it/s, lowest_mse=0.00611, pred_loss=26.9, trigger=0]"
     ]
    },
    {
     "name": "stdout",
     "output_type": "stream",
     "text": [
      "The batch_size is now:  512\n"
     ]
    },
    {
     "name": "stderr",
     "output_type": "stream",
     "text": [
      "Epoch: 6023:  60%|█████████████████████████████████████████████████████████████████▋                                           | 6022/10000 [10:37<01:33, 42.57it/s, lowest_mse=0.00595, pred_loss=18.8, trigger=0]"
     ]
    },
    {
     "name": "stdout",
     "output_type": "stream",
     "text": [
      "The batch_size is now:  1024\n"
     ]
    },
    {
     "name": "stderr",
     "output_type": "stream",
     "text": [
      "Epoch: 7015:  70%|████████████████████████████████████████████████████████████████████████████▍                                | 7015/10000 [10:57<04:39, 10.67it/s, lowest_mse=0.00581, pred_loss=18.6, trigger=0]\n"
     ]
    },
    {
     "name": "stdout",
     "output_type": "stream",
     "text": [
      "The batch_size is now:  2048\n",
      "Adam Holdout\n",
      "The train error is 18.62 for SOAP\n",
      "The test error is 23.92 for SOAP\n"
     ]
    }
   ],
   "source": [
    "weights, loss_dos, test_loss_dos = normal_reg_train_Ad(bulk_soap, bulk_dos3,\n",
    "                                                       bulk_biased_train_index, bulk_biased_test_index,\n",
    "                                                       1e-2, 10000, 16, 1e-3)\n",
    "print (\"Adam Holdout\")\n",
    "print (\"The train error is {:.4} for SOAP\".format(loss_dos))\n",
    "print (\"The test error is {:.4} for SOAP\".format(test_loss_dos))"
   ]
  },
  {
   "cell_type": "markdown",
   "id": "97e6bc1e",
   "metadata": {},
   "source": [
    "#### Bulk - 0.1 Soap"
   ]
  },
  {
   "cell_type": "code",
   "execution_count": 78,
   "id": "2dd9a37a",
   "metadata": {
    "ExecuteTime": {
     "end_time": "2023-04-21T18:18:07.203782Z",
     "start_time": "2023-04-21T18:11:39.635396Z"
    }
   },
   "outputs": [
    {
     "name": "stderr",
     "output_type": "stream",
     "text": [
      "Epoch: 1005:  10%|███████████▏                                                                                                   | 1005/10000 [02:38<18:39,  8.04it/s, lowest_mse=0.042, pred_loss=43.2, trigger=0]"
     ]
    },
    {
     "name": "stdout",
     "output_type": "stream",
     "text": [
      "The batch_size is now:  32\n"
     ]
    },
    {
     "name": "stderr",
     "output_type": "stream",
     "text": [
      "Epoch: 2009:  20%|██████████████████████                                                                                        | 2009/10000 [04:05<08:59, 14.81it/s, lowest_mse=0.0385, pred_loss=40.9, trigger=0]"
     ]
    },
    {
     "name": "stdout",
     "output_type": "stream",
     "text": [
      "The batch_size is now:  64\n"
     ]
    },
    {
     "name": "stderr",
     "output_type": "stream",
     "text": [
      "Epoch: 3014:  30%|█████████████████████████████████▏                                                                            | 3012/10000 [04:54<04:31, 25.78it/s, lowest_mse=0.0368, pred_loss=39.7, trigger=0]"
     ]
    },
    {
     "name": "stdout",
     "output_type": "stream",
     "text": [
      "The batch_size is now:  128\n"
     ]
    },
    {
     "name": "stderr",
     "output_type": "stream",
     "text": [
      "Epoch: 4018:  40%|████████████████████████████████████████████▏                                                                 | 4016/10000 [05:24<02:37, 37.94it/s, lowest_mse=0.0358, pred_loss=39.6, trigger=0]"
     ]
    },
    {
     "name": "stdout",
     "output_type": "stream",
     "text": [
      "The batch_size is now:  256\n"
     ]
    },
    {
     "name": "stderr",
     "output_type": "stream",
     "text": [
      "Epoch: 5020:  50%|████████████████████████████████████████████████████████▏                                                       | 5019/10000 [05:47<01:46, 46.66it/s, lowest_mse=0.0351, pred_loss=40, trigger=0]"
     ]
    },
    {
     "name": "stdout",
     "output_type": "stream",
     "text": [
      "The batch_size is now:  512\n"
     ]
    },
    {
     "name": "stderr",
     "output_type": "stream",
     "text": [
      "Epoch: 6024:  60%|██████████████████████████████████████████████████████████████████▎                                           | 6024/10000 [06:09<01:15, 52.73it/s, lowest_mse=0.0346, pred_loss=38.3, trigger=0]"
     ]
    },
    {
     "name": "stdout",
     "output_type": "stream",
     "text": [
      "The batch_size is now:  1024\n"
     ]
    },
    {
     "name": "stderr",
     "output_type": "stream",
     "text": [
      "Epoch: 7015:  70%|██████████████████████████████████████████████████████████████████████████████▌                                 | 7015/10000 [06:27<02:44, 18.10it/s, lowest_mse=0.0342, pred_loss=38, trigger=0]"
     ]
    },
    {
     "name": "stdout",
     "output_type": "stream",
     "text": [
      "The batch_size is now:  2048\n",
      "Adam Unbiased\n",
      "The train error is 38.03 for SOAP\n",
      "The test error is 40.9 for SOAP\n"
     ]
    },
    {
     "name": "stderr",
     "output_type": "stream",
     "text": [
      "\n"
     ]
    }
   ],
   "source": [
    "weights, loss_dos, test_loss_dos = normal_reg_train_Ad(bulk_soap, bulk_dos1,\n",
    "                                                       bulk_train_index, bulk_test_index,\n",
    "                                                       1e-2, 10000, 16, 1e-3)\n",
    "print (\"Adam Unbiased\")\n",
    "print (\"The train error is {:.4} for SOAP\".format(loss_dos))\n",
    "print (\"The test error is {:.4} for SOAP\".format(test_loss_dos))"
   ]
  },
  {
   "cell_type": "code",
   "execution_count": 79,
   "id": "291b63db",
   "metadata": {
    "ExecuteTime": {
     "end_time": "2023-04-21T18:29:49.326183Z",
     "start_time": "2023-04-21T18:18:07.209024Z"
    }
   },
   "outputs": [
    {
     "name": "stderr",
     "output_type": "stream",
     "text": [
      "Epoch: 1004:  10%|███████████                                                                                                   | 1004/10000 [05:01<40:11,  3.73it/s, lowest_mse=0.0445, pred_loss=42.3, trigger=0]"
     ]
    },
    {
     "name": "stdout",
     "output_type": "stream",
     "text": [
      "The batch_size is now:  32\n"
     ]
    },
    {
     "name": "stderr",
     "output_type": "stream",
     "text": [
      "Epoch: 2007:  20%|██████████████████████                                                                                        | 2007/10000 [08:03<17:53,  7.45it/s, lowest_mse=0.0408, pred_loss=41.2, trigger=0]"
     ]
    },
    {
     "name": "stdout",
     "output_type": "stream",
     "text": [
      "The batch_size is now:  64\n"
     ]
    },
    {
     "name": "stderr",
     "output_type": "stream",
     "text": [
      "Epoch: 3011:  30%|█████████████████████████████████▍                                                                             | 3010/10000 [09:29<08:31, 13.68it/s, lowest_mse=0.039, pred_loss=39.9, trigger=0]"
     ]
    },
    {
     "name": "stdout",
     "output_type": "stream",
     "text": [
      "The batch_size is now:  128\n"
     ]
    },
    {
     "name": "stderr",
     "output_type": "stream",
     "text": [
      "Epoch: 4014:  40%|████████████████████████████████████████████▏                                                                 | 4012/10000 [10:18<04:38, 21.48it/s, lowest_mse=0.0379, pred_loss=40.7, trigger=0]"
     ]
    },
    {
     "name": "stdout",
     "output_type": "stream",
     "text": [
      "The batch_size is now:  256\n"
     ]
    },
    {
     "name": "stderr",
     "output_type": "stream",
     "text": [
      "Epoch: 5018:  50%|███████████████████████████████████████████████████████▏                                                      | 5016/10000 [10:52<02:35, 31.97it/s, lowest_mse=0.0372, pred_loss=39.8, trigger=0]"
     ]
    },
    {
     "name": "stdout",
     "output_type": "stream",
     "text": [
      "The batch_size is now:  512\n"
     ]
    },
    {
     "name": "stderr",
     "output_type": "stream",
     "text": [
      "Epoch: 6022:  60%|██████████████████████████████████████████████████████████████████▏                                           | 6020/10000 [11:20<01:42, 38.94it/s, lowest_mse=0.0367, pred_loss=38.4, trigger=0]"
     ]
    },
    {
     "name": "stdout",
     "output_type": "stream",
     "text": [
      "The batch_size is now:  1024\n"
     ]
    },
    {
     "name": "stderr",
     "output_type": "stream",
     "text": [
      "Epoch: 7015:  70%|█████████████████████████████████████████████████████████████████████████████▏                                | 7015/10000 [11:42<04:58,  9.99it/s, lowest_mse=0.0362, pred_loss=38.2, trigger=0]\n"
     ]
    },
    {
     "name": "stdout",
     "output_type": "stream",
     "text": [
      "The batch_size is now:  2048\n",
      "Adam Holdout\n",
      "The train error is 38.16 for SOAP\n",
      "The test error is 44.47 for SOAP\n"
     ]
    }
   ],
   "source": [
    "weights, loss_dos, test_loss_dos = normal_reg_train_Ad(bulk_soap, bulk_dos1,\n",
    "                                                       bulk_biased_train_index, bulk_biased_test_index,\n",
    "                                                       1e-2, 10000, 16, 1e-3)\n",
    "print (\"Adam Holdout\")\n",
    "print (\"The train error is {:.4} for SOAP\".format(loss_dos))\n",
    "print (\"The test error is {:.4} for SOAP\".format(test_loss_dos))"
   ]
  },
  {
   "cell_type": "markdown",
   "id": "d6171f41",
   "metadata": {},
   "source": [
    "#### Bulk - 0.3 Kernel"
   ]
  },
  {
   "cell_type": "code",
   "execution_count": 80,
   "id": "99637c20",
   "metadata": {
    "ExecuteTime": {
     "end_time": "2023-04-21T18:33:19.504756Z",
     "start_time": "2023-04-21T18:29:49.329015Z"
    }
   },
   "outputs": [
    {
     "name": "stderr",
     "output_type": "stream",
     "text": [
      "Epoch: 808:   8%|█████████                                                                                                       | 807/10000 [01:27<12:58, 11.81it/s, lowest_mse=0.0344, pred_loss=67.9, trigger=0]"
     ]
    },
    {
     "name": "stdout",
     "output_type": "stream",
     "text": [
      "The batch_size is now:  32\n"
     ]
    },
    {
     "name": "stderr",
     "output_type": "stream",
     "text": [
      "Epoch: 1614:  16%|█████████████████▋                                                                                            | 1612/10000 [02:14<07:02, 19.85it/s, lowest_mse=0.0272, pred_loss=53.7, trigger=0]"
     ]
    },
    {
     "name": "stdout",
     "output_type": "stream",
     "text": [
      "The batch_size is now:  64\n"
     ]
    },
    {
     "name": "stderr",
     "output_type": "stream",
     "text": [
      "Epoch: 2422:  24%|██████████████████████████▌                                                                                   | 2418/10000 [02:43<03:38, 34.71it/s, lowest_mse=0.0251, pred_loss=54.2, trigger=0]"
     ]
    },
    {
     "name": "stdout",
     "output_type": "stream",
     "text": [
      "The batch_size is now:  128\n"
     ]
    },
    {
     "name": "stderr",
     "output_type": "stream",
     "text": [
      "Epoch: 3230:  32%|███████████████████████████████████▊                                                                           | 3225/10000 [02:59<02:01, 55.92it/s, lowest_mse=0.0243, pred_loss=134, trigger=0]"
     ]
    },
    {
     "name": "stdout",
     "output_type": "stream",
     "text": [
      "The batch_size is now:  256\n"
     ]
    },
    {
     "name": "stderr",
     "output_type": "stream",
     "text": [
      "Epoch: 4038:  40%|█████████████████████████████████████████████▏                                                                  | 4035/10000 [03:12<01:18, 76.30it/s, lowest_mse=0.024, pred_loss=171, trigger=0]"
     ]
    },
    {
     "name": "stdout",
     "output_type": "stream",
     "text": [
      "The batch_size is now:  512\n"
     ]
    },
    {
     "name": "stderr",
     "output_type": "stream",
     "text": [
      "Epoch: 4845:  48%|█████████████████████████████████████████████████████▏                                                        | 4838/10000 [03:22<00:56, 91.10it/s, lowest_mse=0.0238, pred_loss=47.2, trigger=0]"
     ]
    },
    {
     "name": "stdout",
     "output_type": "stream",
     "text": [
      "The batch_size is now:  1024\n"
     ]
    },
    {
     "name": "stderr",
     "output_type": "stream",
     "text": [
      "Epoch: 5629:  56%|█████████████████████████████████████████████████████████████▉                                                | 5629/10000 [03:30<02:43, 26.79it/s, lowest_mse=0.0236, pred_loss=38.5, trigger=0]"
     ]
    },
    {
     "name": "stdout",
     "output_type": "stream",
     "text": [
      "The batch_size is now:  2048\n",
      "Adam Unbiased\n",
      "The train error is 38.53 for KERNEL\n",
      "The test error is 39.54 for KERNEL\n"
     ]
    },
    {
     "name": "stderr",
     "output_type": "stream",
     "text": [
      "\n"
     ]
    }
   ],
   "source": [
    "A_U_weights_03, loss_dos, test_loss_dos = kernel_reg_train_Ad(bulk_kernel_200, bulk_dos3,\n",
    "                                                              bulk_train_index, bulk_test_index,\n",
    "                                                              bulk_kMM_200, 1e-1, 10000, 16, 1e-3)\n",
    "\n",
    "print (\"Adam Unbiased\")\n",
    "print (\"The train error is {:.4} for KERNEL\".format(loss_dos))\n",
    "print (\"The test error is {:.4} for KERNEL\".format(test_loss_dos))"
   ]
  },
  {
   "cell_type": "code",
   "execution_count": 115,
   "id": "b3d04cfc",
   "metadata": {
    "ExecuteTime": {
     "end_time": "2023-04-21T18:38:32.031008Z",
     "start_time": "2023-04-21T18:35:53.080228Z"
    }
   },
   "outputs": [
    {
     "name": "stderr",
     "output_type": "stream",
     "text": [
      "Epoch: 809:   8%|█████████                                                                                                       | 809/10000 [01:05<09:50, 15.55it/s, lowest_mse=0.0369, pred_loss=65.9, trigger=0]"
     ]
    },
    {
     "name": "stdout",
     "output_type": "stream",
     "text": [
      "The batch_size is now:  32\n"
     ]
    },
    {
     "name": "stderr",
     "output_type": "stream",
     "text": [
      "Epoch: 1616:  16%|█████████████████▊                                                                                            | 1614/10000 [01:41<05:01, 27.77it/s, lowest_mse=0.0292, pred_loss=46.8, trigger=0]"
     ]
    },
    {
     "name": "stdout",
     "output_type": "stream",
     "text": [
      "The batch_size is now:  64\n"
     ]
    },
    {
     "name": "stderr",
     "output_type": "stream",
     "text": [
      "Epoch: 2426:  24%|███████████████████████████▏                                                                                    | 2422/10000 [02:01<02:35, 48.73it/s, lowest_mse=0.0264, pred_loss=42, trigger=0]"
     ]
    },
    {
     "name": "stdout",
     "output_type": "stream",
     "text": [
      "The batch_size is now:  128\n"
     ]
    },
    {
     "name": "stderr",
     "output_type": "stream",
     "text": [
      "Epoch: 3233:  32%|████████████████████████████████████▏                                                                           | 3228/10000 [02:14<01:40, 67.69it/s, lowest_mse=0.0252, pred_loss=46, trigger=0]"
     ]
    },
    {
     "name": "stdout",
     "output_type": "stream",
     "text": [
      "The batch_size is now:  256\n"
     ]
    },
    {
     "name": "stderr",
     "output_type": "stream",
     "text": [
      "Epoch: 4038:  40%|████████████████████████████████████████████▎                                                                 | 4032/10000 [02:24<01:14, 80.15it/s, lowest_mse=0.0246, pred_loss=70.6, trigger=0]"
     ]
    },
    {
     "name": "stdout",
     "output_type": "stream",
     "text": [
      "The batch_size is now:  512\n"
     ]
    },
    {
     "name": "stderr",
     "output_type": "stream",
     "text": [
      "Epoch: 4849:  48%|████████████████████████████████████████████████████▊                                                        | 4848/10000 [02:32<00:45, 112.47it/s, lowest_mse=0.0242, pred_loss=39.7, trigger=0]"
     ]
    },
    {
     "name": "stdout",
     "output_type": "stream",
     "text": [
      "The batch_size is now:  1024\n"
     ]
    },
    {
     "name": "stderr",
     "output_type": "stream",
     "text": [
      "Epoch: 5629:  56%|██████████████████████████████████████████████████████████████▍                                                | 5629/10000 [02:38<02:03, 35.42it/s, lowest_mse=0.024, pred_loss=37.8, trigger=0]\n"
     ]
    },
    {
     "name": "stdout",
     "output_type": "stream",
     "text": [
      "The batch_size is now:  2048\n",
      "Adam Biased\n",
      "The train error is 37.8 for KERNEL\n",
      "The test error is 49.49 for KERNEL\n"
     ]
    }
   ],
   "source": [
    "A_U_weights_03, loss_dos, test_loss_dos = kernel_reg_train_Ad(bulk_kernel_100, bulk_dos3,\n",
    "                                                              bulk_biased_train_index, bulk_biased_test_index,\n",
    "                                                              bulk_kMM_100, 1e-1, 10000, 16, 1e-3)\n",
    "\n",
    "print (\"Adam Biased\")\n",
    "print (\"The train error is {:.4} for KERNEL\".format(loss_dos))\n",
    "print (\"The test error is {:.4} for KERNEL\".format(test_loss_dos))"
   ]
  },
  {
   "cell_type": "markdown",
   "id": "cd0864b1",
   "metadata": {},
   "source": [
    "#### Bulk - 0.1 Kernel"
   ]
  },
  {
   "cell_type": "code",
   "execution_count": 116,
   "id": "b88e58ae",
   "metadata": {
    "ExecuteTime": {
     "end_time": "2023-04-21T18:41:59.262187Z",
     "start_time": "2023-04-21T18:38:32.033503Z"
    }
   },
   "outputs": [
    {
     "name": "stderr",
     "output_type": "stream",
     "text": [
      "Epoch: 808:   8%|█████████                                                                                                       | 807/10000 [01:24<12:57, 11.82it/s, lowest_mse=0.0873, pred_loss=85.1, trigger=0]"
     ]
    },
    {
     "name": "stdout",
     "output_type": "stream",
     "text": [
      "The batch_size is now:  32\n"
     ]
    },
    {
     "name": "stderr",
     "output_type": "stream",
     "text": [
      "Epoch: 1615:  16%|█████████████████▋                                                                                            | 1613/10000 [02:09<06:03, 23.05it/s, lowest_mse=0.0775, pred_loss=63.9, trigger=0]"
     ]
    },
    {
     "name": "stdout",
     "output_type": "stream",
     "text": [
      "The batch_size is now:  64\n"
     ]
    },
    {
     "name": "stderr",
     "output_type": "stream",
     "text": [
      "Epoch: 2423:  24%|██████████████████████████▌                                                                                   | 2419/10000 [02:36<03:16, 38.59it/s, lowest_mse=0.0739, pred_loss=63.3, trigger=0]"
     ]
    },
    {
     "name": "stdout",
     "output_type": "stream",
     "text": [
      "The batch_size is now:  128\n"
     ]
    },
    {
     "name": "stderr",
     "output_type": "stream",
     "text": [
      "Epoch: 3230:  32%|███████████████████████████████████▊                                                                           | 3225/10000 [02:52<02:01, 55.94it/s, lowest_mse=0.0723, pred_loss=102, trigger=0]"
     ]
    },
    {
     "name": "stdout",
     "output_type": "stream",
     "text": [
      "The batch_size is now:  256\n"
     ]
    },
    {
     "name": "stderr",
     "output_type": "stream",
     "text": [
      "Epoch: 4036:  40%|████████████████████████████████████████████▊                                                                  | 4034/10000 [03:04<01:25, 69.62it/s, lowest_mse=0.0715, pred_loss=182, trigger=0]"
     ]
    },
    {
     "name": "stdout",
     "output_type": "stream",
     "text": [
      "The batch_size is now:  512\n"
     ]
    },
    {
     "name": "stderr",
     "output_type": "stream",
     "text": [
      "Epoch: 4841:  48%|█████████████████████████████████████████████████████▏                                                        | 4839/10000 [03:17<01:22, 62.64it/s, lowest_mse=0.0712, pred_loss=61.3, trigger=0]"
     ]
    },
    {
     "name": "stdout",
     "output_type": "stream",
     "text": [
      "The batch_size is now:  1024\n"
     ]
    },
    {
     "name": "stderr",
     "output_type": "stream",
     "text": [
      "Epoch: 5629:  56%|█████████████████████████████████████████████████████████████▉                                                | 5629/10000 [03:27<02:40, 27.17it/s, lowest_mse=0.0708, pred_loss=54.7, trigger=0]\n"
     ]
    },
    {
     "name": "stdout",
     "output_type": "stream",
     "text": [
      "The batch_size is now:  2048\n",
      "Adam Unbiased\n",
      "The train error is 54.68 for KERNEL\n",
      "The test error is 56.12 for KERNEL\n"
     ]
    }
   ],
   "source": [
    "A_U_weights_03, loss_dos, test_loss_dos = kernel_reg_train_Ad(bulk_kernel_200, bulk_dos1,\n",
    "                                                              bulk_train_index, bulk_test_index,\n",
    "                                                              bulk_kMM_200, 1e-1, 10000, 16, 1e-3)\n",
    "\n",
    "print (\"Adam Unbiased\")\n",
    "print (\"The train error is {:.4} for KERNEL\".format(loss_dos))\n",
    "print (\"The test error is {:.4} for KERNEL\".format(test_loss_dos))"
   ]
  },
  {
   "cell_type": "code",
   "execution_count": 117,
   "id": "ec50e510",
   "metadata": {
    "ExecuteTime": {
     "end_time": "2023-04-21T18:44:34.280050Z",
     "start_time": "2023-04-21T18:41:59.264980Z"
    }
   },
   "outputs": [
    {
     "name": "stderr",
     "output_type": "stream",
     "text": [
      "Epoch: 809:   8%|█████████▏                                                                                                       | 809/10000 [01:04<09:31, 16.08it/s, lowest_mse=0.092, pred_loss=68.1, trigger=0]"
     ]
    },
    {
     "name": "stdout",
     "output_type": "stream",
     "text": [
      "The batch_size is now:  32\n"
     ]
    },
    {
     "name": "stderr",
     "output_type": "stream",
     "text": [
      "Epoch: 1616:  16%|█████████████████▊                                                                                            | 1614/10000 [01:39<04:58, 28.06it/s, lowest_mse=0.0818, pred_loss=61.2, trigger=0]"
     ]
    },
    {
     "name": "stdout",
     "output_type": "stream",
     "text": [
      "The batch_size is now:  64\n"
     ]
    },
    {
     "name": "stderr",
     "output_type": "stream",
     "text": [
      "Epoch: 2426:  24%|██████████████████████████▋                                                                                   | 2422/10000 [02:00<02:35, 48.88it/s, lowest_mse=0.0779, pred_loss=57.9, trigger=0]"
     ]
    },
    {
     "name": "stdout",
     "output_type": "stream",
     "text": [
      "The batch_size is now:  128\n"
     ]
    },
    {
     "name": "stderr",
     "output_type": "stream",
     "text": [
      "Epoch: 3234:  32%|███████████████████████████████████▌                                                                          | 3230/10000 [02:12<01:31, 73.59it/s, lowest_mse=0.0759, pred_loss=57.9, trigger=0]"
     ]
    },
    {
     "name": "stdout",
     "output_type": "stream",
     "text": [
      "The batch_size is now:  256\n"
     ]
    },
    {
     "name": "stderr",
     "output_type": "stream",
     "text": [
      "Epoch: 4042:  40%|████████████████████████████████████████████▎                                                                 | 4033/10000 [02:21<01:04, 93.23it/s, lowest_mse=0.0747, pred_loss=66.9, trigger=0]"
     ]
    },
    {
     "name": "stdout",
     "output_type": "stream",
     "text": [
      "The batch_size is now:  512\n"
     ]
    },
    {
     "name": "stderr",
     "output_type": "stream",
     "text": [
      "Epoch: 4853:  48%|█████████████████████████████████████████████████████▏                                                        | 4840/10000 [02:29<00:44, 117.18it/s, lowest_mse=0.074, pred_loss=55.3, trigger=0]"
     ]
    },
    {
     "name": "stdout",
     "output_type": "stream",
     "text": [
      "The batch_size is now:  1024\n"
     ]
    },
    {
     "name": "stderr",
     "output_type": "stream",
     "text": [
      "Epoch: 5629:  56%|█████████████████████████████████████████████████████████████▉                                                | 5629/10000 [02:34<02:00, 36.32it/s, lowest_mse=0.0734, pred_loss=54.3, trigger=0]"
     ]
    },
    {
     "name": "stdout",
     "output_type": "stream",
     "text": [
      "The batch_size is now:  2048\n",
      "Adam Biased\n",
      "The train error is 54.33 for KERNEL\n",
      "The test error is 65.97 for KERNEL\n"
     ]
    },
    {
     "name": "stderr",
     "output_type": "stream",
     "text": [
      "\n"
     ]
    }
   ],
   "source": [
    "A_U_weights_03, loss_dos, test_loss_dos = kernel_reg_train_Ad(bulk_kernel_100, bulk_dos1,\n",
    "                                                              bulk_biased_train_index, bulk_biased_test_index,\n",
    "                                                              bulk_kMM_100, 1e-1, 10000, 16, 1e-3)\n",
    "\n",
    "print (\"Adam Biased\")\n",
    "print (\"The train error is {:.4} for KERNEL\".format(loss_dos))\n",
    "print (\"The test error is {:.4} for KERNEL\".format(test_loss_dos))"
   ]
  },
  {
   "cell_type": "markdown",
   "id": "602b17bf",
   "metadata": {},
   "source": [
    "### Total"
   ]
  },
  {
   "cell_type": "markdown",
   "id": "97333c59",
   "metadata": {},
   "source": [
    "#### Total - 0.3 Soap\n"
   ]
  },
  {
   "cell_type": "code",
   "execution_count": 118,
   "id": "b358b68c",
   "metadata": {
    "ExecuteTime": {
     "end_time": "2023-04-21T18:52:13.431273Z",
     "start_time": "2023-04-21T18:44:34.282324Z"
    }
   },
   "outputs": [
    {
     "name": "stderr",
     "output_type": "stream",
     "text": [
      "Epoch: 1004:  10%|███████████                                                                                                   | 1004/10000 [03:22<31:42,  4.73it/s, lowest_mse=0.0172, pred_loss=28.8, trigger=0]"
     ]
    },
    {
     "name": "stdout",
     "output_type": "stream",
     "text": [
      "The batch_size is now:  32\n"
     ]
    },
    {
     "name": "stderr",
     "output_type": "stream",
     "text": [
      "Epoch: 2008:  20%|██████████████████████▍                                                                                         | 2007/10000 [05:10<11:20, 11.74it/s, lowest_mse=0.0153, pred_loss=27, trigger=0]"
     ]
    },
    {
     "name": "stdout",
     "output_type": "stream",
     "text": [
      "The batch_size is now:  64\n"
     ]
    },
    {
     "name": "stderr",
     "output_type": "stream",
     "text": [
      "Epoch: 3012:  30%|█████████████████████████████████                                                                             | 3010/10000 [06:10<05:26, 21.43it/s, lowest_mse=0.0144, pred_loss=25.8, trigger=0]"
     ]
    },
    {
     "name": "stdout",
     "output_type": "stream",
     "text": [
      "The batch_size is now:  128\n"
     ]
    },
    {
     "name": "stderr",
     "output_type": "stream",
     "text": [
      "Epoch: 4018:  40%|████████████████████████████████████████████▏                                                                 | 4014/10000 [06:45<02:55, 34.13it/s, lowest_mse=0.0138, pred_loss=25.2, trigger=0]"
     ]
    },
    {
     "name": "stdout",
     "output_type": "stream",
     "text": [
      "The batch_size is now:  256\n"
     ]
    },
    {
     "name": "stderr",
     "output_type": "stream",
     "text": [
      "Epoch: 5021:  50%|███████████████████████████████████████████████████████▏                                                      | 5020/10000 [07:07<01:39, 50.27it/s, lowest_mse=0.0134, pred_loss=25.4, trigger=0]"
     ]
    },
    {
     "name": "stdout",
     "output_type": "stream",
     "text": [
      "The batch_size is now:  512\n"
     ]
    },
    {
     "name": "stderr",
     "output_type": "stream",
     "text": [
      "Epoch: 6028:  60%|██████████████████████████████████████████████████████████████████▎                                           | 6025/10000 [07:24<01:00, 65.67it/s, lowest_mse=0.0131, pred_loss=24.5, trigger=0]"
     ]
    },
    {
     "name": "stdout",
     "output_type": "stream",
     "text": [
      "The batch_size is now:  1024\n"
     ]
    },
    {
     "name": "stderr",
     "output_type": "stream",
     "text": [
      "Epoch: 7015:  70%|█████████████████████████████████████████████████████████████████████████████▏                                | 7015/10000 [07:39<03:15, 15.28it/s, lowest_mse=0.0129, pred_loss=24.1, trigger=0]"
     ]
    },
    {
     "name": "stdout",
     "output_type": "stream",
     "text": [
      "The batch_size is now:  2048\n",
      "Adam Unbiased\n",
      "The train error is 24.1 for SOAP\n",
      "The test error is 25.9 for SOAP\n"
     ]
    },
    {
     "name": "stderr",
     "output_type": "stream",
     "text": [
      "\n"
     ]
    }
   ],
   "source": [
    "weights, loss_dos, test_loss_dos = normal_reg_train_Ad(total_soap, total_dos3,\n",
    "                                                       total_train_index, total_test_index,\n",
    "                                                       1e-2, 10000, 16, 1e-3)\n",
    "print (\"Adam Unbiased\")\n",
    "print (\"The train error is {:.4} for SOAP\".format(loss_dos))\n",
    "print (\"The test error is {:.4} for SOAP\".format(test_loss_dos))"
   ]
  },
  {
   "cell_type": "code",
   "execution_count": 449,
   "id": "38724663",
   "metadata": {
    "ExecuteTime": {
     "end_time": "2023-05-01T21:39:57.085291Z",
     "start_time": "2023-05-01T21:34:40.801294Z"
    }
   },
   "outputs": [
    {
     "name": "stderr",
     "output_type": "stream",
     "text": [
      "Epoch: 1004:  10%|██████████▉                                                                                                  | 1004/10000 [03:57<28:34,  5.25it/s, lowest_mse=0.00955, pred_loss=27.4, trigger=0]"
     ]
    },
    {
     "name": "stdout",
     "output_type": "stream",
     "text": [
      "The batch_size is now:  32\n"
     ]
    },
    {
     "name": "stderr",
     "output_type": "stream",
     "text": [
      "Epoch: 1671:  17%|██████████████████▏                                                                                          | 1671/10000 [05:16<26:15,  5.29it/s, lowest_mse=0.00855, pred_loss=24.7, trigger=0]\n"
     ]
    },
    {
     "ename": "KeyboardInterrupt",
     "evalue": "",
     "output_type": "error",
     "traceback": [
      "\u001b[0;31m---------------------------------------------------------------------------\u001b[0m",
      "\u001b[0;31mKeyboardInterrupt\u001b[0m                         Traceback (most recent call last)",
      "Input \u001b[0;32mIn [449]\u001b[0m, in \u001b[0;36m<cell line: 1>\u001b[0;34m()\u001b[0m\n\u001b[0;32m----> 1\u001b[0m weights, loss_dos, test_loss_dos \u001b[38;5;241m=\u001b[39m \u001b[43mnormal_reg_train_Ad\u001b[49m\u001b[43m(\u001b[49m\u001b[43mtotal_soap\u001b[49m\u001b[43m,\u001b[49m\u001b[43m \u001b[49m\u001b[43mtotal_dos3\u001b[49m\u001b[43m,\u001b[49m\n\u001b[1;32m      2\u001b[0m \u001b[43m                                                       \u001b[49m\u001b[43mtotal_train_index\u001b[49m\u001b[43m,\u001b[49m\u001b[43m \u001b[49m\u001b[43mtotal_test_index\u001b[49m\u001b[43m,\u001b[49m\n\u001b[1;32m      3\u001b[0m \u001b[43m                                                       \u001b[49m\u001b[38;5;241;43m1e-2\u001b[39;49m\u001b[43m,\u001b[49m\u001b[43m \u001b[49m\u001b[38;5;241;43m10000\u001b[39;49m\u001b[43m,\u001b[49m\u001b[43m \u001b[49m\u001b[38;5;241;43m16\u001b[39;49m\u001b[43m,\u001b[49m\u001b[43m \u001b[49m\u001b[38;5;241;43m1e-3\u001b[39;49m\u001b[43m)\u001b[49m\n\u001b[1;32m      4\u001b[0m \u001b[38;5;28mprint\u001b[39m (\u001b[38;5;124m\"\u001b[39m\u001b[38;5;124mAdam Unbiased\u001b[39m\u001b[38;5;124m\"\u001b[39m)\n\u001b[1;32m      5\u001b[0m \u001b[38;5;28mprint\u001b[39m (\u001b[38;5;124m\"\u001b[39m\u001b[38;5;124mThe train error is \u001b[39m\u001b[38;5;132;01m{:.4}\u001b[39;00m\u001b[38;5;124m for SOAP\u001b[39m\u001b[38;5;124m\"\u001b[39m\u001b[38;5;241m.\u001b[39mformat(loss_dos))\n",
      "Input \u001b[0;32mIn [237]\u001b[0m, in \u001b[0;36mnormal_reg_train_Ad\u001b[0;34m(feat, target, train_index, test_index, regularization, n_epochs, batch_size, lr)\u001b[0m\n\u001b[1;32m    119\u001b[0m         loss_i\u001b[38;5;241m.\u001b[39mbackward()\n\u001b[1;32m    120\u001b[0m         \u001b[38;5;28;01mreturn\u001b[39;00m loss_i\n\u001b[0;32m--> 121\u001b[0m     \u001b[43mopt\u001b[49m\u001b[38;5;241;43m.\u001b[39;49m\u001b[43mstep\u001b[49m\u001b[43m(\u001b[49m\u001b[43mclosure\u001b[49m\u001b[43m)\u001b[49m\n\u001b[1;32m    123\u001b[0m \u001b[38;5;28;01mwith\u001b[39;00m torch\u001b[38;5;241m.\u001b[39mno_grad():\n\u001b[1;32m    124\u001b[0m     preds \u001b[38;5;241m=\u001b[39m Features \u001b[38;5;241m@\u001b[39m weights\n",
      "File \u001b[0;32m~/anaconda3/lib/python3.9/site-packages/torch/optim/optimizer.py:140\u001b[0m, in \u001b[0;36mOptimizer._hook_for_profile.<locals>.profile_hook_step.<locals>.wrapper\u001b[0;34m(*args, **kwargs)\u001b[0m\n\u001b[1;32m    138\u001b[0m profile_name \u001b[38;5;241m=\u001b[39m \u001b[38;5;124m\"\u001b[39m\u001b[38;5;124mOptimizer.step#\u001b[39m\u001b[38;5;132;01m{}\u001b[39;00m\u001b[38;5;124m.step\u001b[39m\u001b[38;5;124m\"\u001b[39m\u001b[38;5;241m.\u001b[39mformat(obj\u001b[38;5;241m.\u001b[39m\u001b[38;5;18m__class__\u001b[39m\u001b[38;5;241m.\u001b[39m\u001b[38;5;18m__name__\u001b[39m)\n\u001b[1;32m    139\u001b[0m \u001b[38;5;28;01mwith\u001b[39;00m torch\u001b[38;5;241m.\u001b[39mautograd\u001b[38;5;241m.\u001b[39mprofiler\u001b[38;5;241m.\u001b[39mrecord_function(profile_name):\n\u001b[0;32m--> 140\u001b[0m     out \u001b[38;5;241m=\u001b[39m \u001b[43mfunc\u001b[49m\u001b[43m(\u001b[49m\u001b[38;5;241;43m*\u001b[39;49m\u001b[43margs\u001b[49m\u001b[43m,\u001b[49m\u001b[43m \u001b[49m\u001b[38;5;241;43m*\u001b[39;49m\u001b[38;5;241;43m*\u001b[39;49m\u001b[43mkwargs\u001b[49m\u001b[43m)\u001b[49m\n\u001b[1;32m    141\u001b[0m     obj\u001b[38;5;241m.\u001b[39m_optimizer_step_code()\n\u001b[1;32m    142\u001b[0m     \u001b[38;5;28;01mreturn\u001b[39;00m out\n",
      "File \u001b[0;32m~/anaconda3/lib/python3.9/site-packages/torch/optim/optimizer.py:23\u001b[0m, in \u001b[0;36m_use_grad_for_differentiable.<locals>._use_grad\u001b[0;34m(self, *args, **kwargs)\u001b[0m\n\u001b[1;32m     21\u001b[0m \u001b[38;5;28;01mtry\u001b[39;00m:\n\u001b[1;32m     22\u001b[0m     torch\u001b[38;5;241m.\u001b[39mset_grad_enabled(\u001b[38;5;28mself\u001b[39m\u001b[38;5;241m.\u001b[39mdefaults[\u001b[38;5;124m'\u001b[39m\u001b[38;5;124mdifferentiable\u001b[39m\u001b[38;5;124m'\u001b[39m])\n\u001b[0;32m---> 23\u001b[0m     ret \u001b[38;5;241m=\u001b[39m \u001b[43mfunc\u001b[49m\u001b[43m(\u001b[49m\u001b[38;5;28;43mself\u001b[39;49m\u001b[43m,\u001b[49m\u001b[43m \u001b[49m\u001b[38;5;241;43m*\u001b[39;49m\u001b[43margs\u001b[49m\u001b[43m,\u001b[49m\u001b[43m \u001b[49m\u001b[38;5;241;43m*\u001b[39;49m\u001b[38;5;241;43m*\u001b[39;49m\u001b[43mkwargs\u001b[49m\u001b[43m)\u001b[49m\n\u001b[1;32m     24\u001b[0m \u001b[38;5;28;01mfinally\u001b[39;00m:\n\u001b[1;32m     25\u001b[0m     torch\u001b[38;5;241m.\u001b[39mset_grad_enabled(prev_grad)\n",
      "File \u001b[0;32m~/anaconda3/lib/python3.9/site-packages/torch/optim/adam.py:183\u001b[0m, in \u001b[0;36mAdam.step\u001b[0;34m(self, closure, grad_scaler)\u001b[0m\n\u001b[1;32m    181\u001b[0m \u001b[38;5;28;01mif\u001b[39;00m closure \u001b[38;5;129;01mis\u001b[39;00m \u001b[38;5;129;01mnot\u001b[39;00m \u001b[38;5;28;01mNone\u001b[39;00m:\n\u001b[1;32m    182\u001b[0m     \u001b[38;5;28;01mwith\u001b[39;00m torch\u001b[38;5;241m.\u001b[39menable_grad():\n\u001b[0;32m--> 183\u001b[0m         loss \u001b[38;5;241m=\u001b[39m \u001b[43mclosure\u001b[49m\u001b[43m(\u001b[49m\u001b[43m)\u001b[49m\n\u001b[1;32m    185\u001b[0m \u001b[38;5;28;01mfor\u001b[39;00m group \u001b[38;5;129;01min\u001b[39;00m \u001b[38;5;28mself\u001b[39m\u001b[38;5;241m.\u001b[39mparam_groups:\n\u001b[1;32m    186\u001b[0m     params_with_grad \u001b[38;5;241m=\u001b[39m []\n",
      "Input \u001b[0;32mIn [237]\u001b[0m, in \u001b[0;36mnormal_reg_train_Ad.<locals>.closure\u001b[0;34m()\u001b[0m\n\u001b[1;32m    117\u001b[0m pred_i \u001b[38;5;241m=\u001b[39m reg_features_i \u001b[38;5;241m@\u001b[39m weights\n\u001b[1;32m    118\u001b[0m loss_i \u001b[38;5;241m=\u001b[39m loss\u001b[38;5;241m.\u001b[39mt_get_mse(pred_i, target_i)\n\u001b[0;32m--> 119\u001b[0m \u001b[43mloss_i\u001b[49m\u001b[38;5;241;43m.\u001b[39;49m\u001b[43mbackward\u001b[49m\u001b[43m(\u001b[49m\u001b[43m)\u001b[49m\n\u001b[1;32m    120\u001b[0m \u001b[38;5;28;01mreturn\u001b[39;00m loss_i\n",
      "File \u001b[0;32m~/anaconda3/lib/python3.9/site-packages/torch/_tensor.py:487\u001b[0m, in \u001b[0;36mTensor.backward\u001b[0;34m(self, gradient, retain_graph, create_graph, inputs)\u001b[0m\n\u001b[1;32m    477\u001b[0m \u001b[38;5;28;01mif\u001b[39;00m has_torch_function_unary(\u001b[38;5;28mself\u001b[39m):\n\u001b[1;32m    478\u001b[0m     \u001b[38;5;28;01mreturn\u001b[39;00m handle_torch_function(\n\u001b[1;32m    479\u001b[0m         Tensor\u001b[38;5;241m.\u001b[39mbackward,\n\u001b[1;32m    480\u001b[0m         (\u001b[38;5;28mself\u001b[39m,),\n\u001b[0;32m   (...)\u001b[0m\n\u001b[1;32m    485\u001b[0m         inputs\u001b[38;5;241m=\u001b[39minputs,\n\u001b[1;32m    486\u001b[0m     )\n\u001b[0;32m--> 487\u001b[0m \u001b[43mtorch\u001b[49m\u001b[38;5;241;43m.\u001b[39;49m\u001b[43mautograd\u001b[49m\u001b[38;5;241;43m.\u001b[39;49m\u001b[43mbackward\u001b[49m\u001b[43m(\u001b[49m\n\u001b[1;32m    488\u001b[0m \u001b[43m    \u001b[49m\u001b[38;5;28;43mself\u001b[39;49m\u001b[43m,\u001b[49m\u001b[43m \u001b[49m\u001b[43mgradient\u001b[49m\u001b[43m,\u001b[49m\u001b[43m \u001b[49m\u001b[43mretain_graph\u001b[49m\u001b[43m,\u001b[49m\u001b[43m \u001b[49m\u001b[43mcreate_graph\u001b[49m\u001b[43m,\u001b[49m\u001b[43m \u001b[49m\u001b[43minputs\u001b[49m\u001b[38;5;241;43m=\u001b[39;49m\u001b[43minputs\u001b[49m\n\u001b[1;32m    489\u001b[0m \u001b[43m\u001b[49m\u001b[43m)\u001b[49m\n",
      "File \u001b[0;32m~/anaconda3/lib/python3.9/site-packages/torch/autograd/__init__.py:197\u001b[0m, in \u001b[0;36mbackward\u001b[0;34m(tensors, grad_tensors, retain_graph, create_graph, grad_variables, inputs)\u001b[0m\n\u001b[1;32m    192\u001b[0m     retain_graph \u001b[38;5;241m=\u001b[39m create_graph\n\u001b[1;32m    194\u001b[0m \u001b[38;5;66;03m# The reason we repeat same the comment below is that\u001b[39;00m\n\u001b[1;32m    195\u001b[0m \u001b[38;5;66;03m# some Python versions print out the first line of a multi-line function\u001b[39;00m\n\u001b[1;32m    196\u001b[0m \u001b[38;5;66;03m# calls in the traceback and some print out the last line\u001b[39;00m\n\u001b[0;32m--> 197\u001b[0m \u001b[43mVariable\u001b[49m\u001b[38;5;241;43m.\u001b[39;49m\u001b[43m_execution_engine\u001b[49m\u001b[38;5;241;43m.\u001b[39;49m\u001b[43mrun_backward\u001b[49m\u001b[43m(\u001b[49m\u001b[43m  \u001b[49m\u001b[38;5;66;43;03m# Calls into the C++ engine to run the backward pass\u001b[39;49;00m\n\u001b[1;32m    198\u001b[0m \u001b[43m    \u001b[49m\u001b[43mtensors\u001b[49m\u001b[43m,\u001b[49m\u001b[43m \u001b[49m\u001b[43mgrad_tensors_\u001b[49m\u001b[43m,\u001b[49m\u001b[43m \u001b[49m\u001b[43mretain_graph\u001b[49m\u001b[43m,\u001b[49m\u001b[43m \u001b[49m\u001b[43mcreate_graph\u001b[49m\u001b[43m,\u001b[49m\u001b[43m \u001b[49m\u001b[43minputs\u001b[49m\u001b[43m,\u001b[49m\n\u001b[1;32m    199\u001b[0m \u001b[43m    \u001b[49m\u001b[43mallow_unreachable\u001b[49m\u001b[38;5;241;43m=\u001b[39;49m\u001b[38;5;28;43;01mTrue\u001b[39;49;00m\u001b[43m,\u001b[49m\u001b[43m \u001b[49m\u001b[43maccumulate_grad\u001b[49m\u001b[38;5;241;43m=\u001b[39;49m\u001b[38;5;28;43;01mTrue\u001b[39;49;00m\u001b[43m)\u001b[49m\n",
      "\u001b[0;31mKeyboardInterrupt\u001b[0m: "
     ]
    }
   ],
   "source": [
    "#CHANGED\n",
    "weights, loss_dos, test_loss_dos = normal_reg_train_Ad(total_soap, total_dos3,\n",
    "                                                       total_train_index, total_test_index,\n",
    "                                                       1e-2, 10000, 16, 1e-3)\n",
    "print (\"Adam Unbiased\")\n",
    "print (\"The train error is {:.4} for SOAP\".format(loss_dos))\n",
    "print (\"The test error is {:.4} for SOAP\".format(test_loss_dos))"
   ]
  },
  {
   "cell_type": "code",
   "execution_count": 119,
   "id": "a46e1f96",
   "metadata": {
    "ExecuteTime": {
     "end_time": "2023-04-21T19:01:44.619963Z",
     "start_time": "2023-04-21T18:52:13.434163Z"
    }
   },
   "outputs": [
    {
     "name": "stderr",
     "output_type": "stream",
     "text": [
      "Epoch: 1004:  10%|███████████                                                                                                   | 1004/10000 [03:21<37:27,  4.00it/s, lowest_mse=0.0178, pred_loss=27.9, trigger=0]"
     ]
    },
    {
     "name": "stdout",
     "output_type": "stream",
     "text": [
      "The batch_size is now:  32\n"
     ]
    },
    {
     "name": "stderr",
     "output_type": "stream",
     "text": [
      "Epoch: 2007:  20%|██████████████████████                                                                                        | 2007/10000 [05:57<16:26,  8.10it/s, lowest_mse=0.0157, pred_loss=26.2, trigger=0]"
     ]
    },
    {
     "name": "stdout",
     "output_type": "stream",
     "text": [
      "The batch_size is now:  64\n"
     ]
    },
    {
     "name": "stderr",
     "output_type": "stream",
     "text": [
      "Epoch: 3010:  30%|█████████████████████████████████                                                                             | 3010/10000 [07:22<08:26, 13.81it/s, lowest_mse=0.0147, pred_loss=25.4, trigger=0]"
     ]
    },
    {
     "name": "stdout",
     "output_type": "stream",
     "text": [
      "The batch_size is now:  128\n"
     ]
    },
    {
     "name": "stderr",
     "output_type": "stream",
     "text": [
      "Epoch: 4015:  40%|████████████████████████████████████████████▏                                                                 | 4013/10000 [08:11<04:11, 23.81it/s, lowest_mse=0.0141, pred_loss=24.7, trigger=0]"
     ]
    },
    {
     "name": "stdout",
     "output_type": "stream",
     "text": [
      "The batch_size is now:  256\n"
     ]
    },
    {
     "name": "stderr",
     "output_type": "stream",
     "text": [
      "Epoch: 5019:  50%|███████████████████████████████████████████████████████▏                                                      | 5016/10000 [08:44<02:26, 34.03it/s, lowest_mse=0.0137, pred_loss=24.3, trigger=0]"
     ]
    },
    {
     "name": "stdout",
     "output_type": "stream",
     "text": [
      "The batch_size is now:  512\n"
     ]
    },
    {
     "name": "stderr",
     "output_type": "stream",
     "text": [
      "Epoch: 6023:  60%|██████████████████████████████████████████████████████████████████▎                                           | 6023/10000 [09:11<01:31, 43.69it/s, lowest_mse=0.0135, pred_loss=24.2, trigger=0]"
     ]
    },
    {
     "name": "stdout",
     "output_type": "stream",
     "text": [
      "The batch_size is now:  1024\n"
     ]
    },
    {
     "name": "stderr",
     "output_type": "stream",
     "text": [
      "Epoch: 7015:  70%|█████████████████████████████████████████████████████████████████████████████▏                                | 7015/10000 [09:31<04:03, 12.28it/s, lowest_mse=0.0132, pred_loss=23.5, trigger=0]\n"
     ]
    },
    {
     "name": "stdout",
     "output_type": "stream",
     "text": [
      "The batch_size is now:  2048\n",
      "Adam Biased\n",
      "The train error is 23.54 for SOAP\n",
      "The test error is 30.39 for SOAP\n"
     ]
    }
   ],
   "source": [
    "weights, loss_dos, test_loss_dos = normal_reg_train_Ad(total_soap, total_dos3,\n",
    "                                                       total_biased_train_index, total_biased_test_index,\n",
    "                                                       1e-2, 10000, 16, 1e-3)\n",
    "print (\"Adam Biased\")\n",
    "print (\"The train error is {:.4} for SOAP\".format(loss_dos))\n",
    "print (\"The test error is {:.4} for SOAP\".format(test_loss_dos))"
   ]
  },
  {
   "cell_type": "code",
   "execution_count": 120,
   "id": "e584d465",
   "metadata": {
    "ExecuteTime": {
     "end_time": "2023-04-21T19:10:47.064071Z",
     "start_time": "2023-04-21T19:01:44.623102Z"
    }
   },
   "outputs": [
    {
     "name": "stderr",
     "output_type": "stream",
     "text": [
      "Epoch: 1004:  10%|███████████▏                                                                                                   | 1004/10000 [04:27<26:09,  5.73it/s, lowest_mse=0.014, pred_loss=26.2, trigger=0]"
     ]
    },
    {
     "name": "stdout",
     "output_type": "stream",
     "text": [
      "The batch_size is now:  32\n"
     ]
    },
    {
     "name": "stderr",
     "output_type": "stream",
     "text": [
      "Epoch: 2008:  20%|██████████████████████                                                                                        | 2007/10000 [06:21<12:09, 10.96it/s, lowest_mse=0.0123, pred_loss=24.2, trigger=0]"
     ]
    },
    {
     "name": "stdout",
     "output_type": "stream",
     "text": [
      "The batch_size is now:  64\n"
     ]
    },
    {
     "name": "stderr",
     "output_type": "stream",
     "text": [
      "Epoch: 3012:  30%|█████████████████████████████████                                                                             | 3010/10000 [07:25<06:18, 18.47it/s, lowest_mse=0.0115, pred_loss=23.4, trigger=0]"
     ]
    },
    {
     "name": "stdout",
     "output_type": "stream",
     "text": [
      "The batch_size is now:  128\n"
     ]
    },
    {
     "name": "stderr",
     "output_type": "stream",
     "text": [
      "Epoch: 4017:  40%|████████████████████████████████████████████▌                                                                  | 4014/10000 [08:03<03:08, 31.84it/s, lowest_mse=0.011, pred_loss=22.8, trigger=0]"
     ]
    },
    {
     "name": "stdout",
     "output_type": "stream",
     "text": [
      "The batch_size is now:  256\n"
     ]
    },
    {
     "name": "stderr",
     "output_type": "stream",
     "text": [
      "Epoch: 5021:  50%|███████████████████████████████████████████████████████▏                                                      | 5017/10000 [08:26<01:49, 45.37it/s, lowest_mse=0.0107, pred_loss=22.7, trigger=0]"
     ]
    },
    {
     "name": "stdout",
     "output_type": "stream",
     "text": [
      "The batch_size is now:  512\n"
     ]
    },
    {
     "name": "stderr",
     "output_type": "stream",
     "text": [
      "Epoch: 6027:  60%|██████████████████████████████████████████████████████████████████▏                                           | 6021/10000 [08:46<01:08, 57.76it/s, lowest_mse=0.0104, pred_loss=22.2, trigger=0]"
     ]
    },
    {
     "name": "stdout",
     "output_type": "stream",
     "text": [
      "The batch_size is now:  1024\n"
     ]
    },
    {
     "name": "stderr",
     "output_type": "stream",
     "text": [
      "Epoch: 7015:  70%|█████████████████████████████████████████████████████████████████████████████▏                                | 7015/10000 [09:02<03:50, 12.93it/s, lowest_mse=0.0103, pred_loss=21.7, trigger=0]\n"
     ]
    },
    {
     "name": "stdout",
     "output_type": "stream",
     "text": [
      "The batch_size is now:  2048\n",
      "Adam Holdout\n",
      "The train error is 21.73 for SOAP\n",
      "The test error is 36.76 for SOAP\n"
     ]
    }
   ],
   "source": [
    "weights, loss_dos, test_loss_dos = normal_reg_train_Ad(total_soap, total_dos3,\n",
    "                                                       holdout_train_index, holdout_test_index,\n",
    "                                                       1e-2, 10000, 16, 1e-3)\n",
    "print (\"Adam Holdout\")\n",
    "print (\"The train error is {:.4} for SOAP\".format(loss_dos))\n",
    "print (\"The test error is {:.4} for SOAP\".format(test_loss_dos))"
   ]
  },
  {
   "cell_type": "markdown",
   "id": "d3545b8e",
   "metadata": {},
   "source": [
    "#### Total - 0.1 Soap"
   ]
  },
  {
   "cell_type": "code",
   "execution_count": 121,
   "id": "ebce7aed",
   "metadata": {
    "ExecuteTime": {
     "end_time": "2023-04-21T19:18:11.150012Z",
     "start_time": "2023-04-21T19:10:47.072327Z"
    }
   },
   "outputs": [
    {
     "name": "stderr",
     "output_type": "stream",
     "text": [
      "Epoch: 1004:  10%|███████████                                                                                                   | 1004/10000 [03:14<26:08,  5.73it/s, lowest_mse=0.0527, pred_loss=42.8, trigger=0]"
     ]
    },
    {
     "name": "stdout",
     "output_type": "stream",
     "text": [
      "The batch_size is now:  32\n"
     ]
    },
    {
     "name": "stderr",
     "output_type": "stream",
     "text": [
      "Epoch: 2008:  20%|██████████████████████                                                                                        | 2007/10000 [04:57<10:51, 12.26it/s, lowest_mse=0.0487, pred_loss=40.6, trigger=0]"
     ]
    },
    {
     "name": "stdout",
     "output_type": "stream",
     "text": [
      "The batch_size is now:  64\n"
     ]
    },
    {
     "name": "stderr",
     "output_type": "stream",
     "text": [
      "Epoch: 3012:  30%|█████████████████████████████████                                                                             | 3010/10000 [05:54<05:32, 21.04it/s, lowest_mse=0.0467, pred_loss=39.4, trigger=0]"
     ]
    },
    {
     "name": "stdout",
     "output_type": "stream",
     "text": [
      "The batch_size is now:  128\n"
     ]
    },
    {
     "name": "stderr",
     "output_type": "stream",
     "text": [
      "Epoch: 4018:  40%|████████████████████████████████████████████▏                                                                 | 4016/10000 [06:28<02:44, 36.34it/s, lowest_mse=0.0455, pred_loss=38.8, trigger=0]"
     ]
    },
    {
     "name": "stdout",
     "output_type": "stream",
     "text": [
      "The batch_size is now:  256\n"
     ]
    },
    {
     "name": "stderr",
     "output_type": "stream",
     "text": [
      "Epoch: 5022:  50%|███████████████████████████████████████████████████████▏                                                      | 5022/10000 [06:50<01:39, 49.99it/s, lowest_mse=0.0447, pred_loss=38.5, trigger=0]"
     ]
    },
    {
     "name": "stdout",
     "output_type": "stream",
     "text": [
      "The batch_size is now:  512\n"
     ]
    },
    {
     "name": "stderr",
     "output_type": "stream",
     "text": [
      "Epoch: 6024:  60%|██████████████████████████████████████████████████████████████████▏                                           | 6021/10000 [07:10<01:21, 48.54it/s, lowest_mse=0.0441, pred_loss=38.2, trigger=0]"
     ]
    },
    {
     "name": "stdout",
     "output_type": "stream",
     "text": [
      "The batch_size is now:  1024\n"
     ]
    },
    {
     "name": "stderr",
     "output_type": "stream",
     "text": [
      "Epoch: 7015:  70%|█████████████████████████████████████████████████████████████████████████████▏                                | 7015/10000 [07:24<03:08, 15.80it/s, lowest_mse=0.0436, pred_loss=37.9, trigger=0]"
     ]
    },
    {
     "name": "stdout",
     "output_type": "stream",
     "text": [
      "The batch_size is now:  2048\n",
      "Adam Unbiased\n",
      "The train error is 37.87 for SOAP\n",
      "The test error is 40.09 for SOAP\n"
     ]
    },
    {
     "name": "stderr",
     "output_type": "stream",
     "text": [
      "\n"
     ]
    }
   ],
   "source": [
    "weights, loss_dos, test_loss_dos = normal_reg_train_Ad(total_soap, total_dos1,\n",
    "                                                       total_train_index, total_test_index,\n",
    "                                                       1e-2, 10000, 16, 1e-3)\n",
    "print (\"Adam Unbiased\")\n",
    "print (\"The train error is {:.4} for SOAP\".format(loss_dos))\n",
    "print (\"The test error is {:.4} for SOAP\".format(test_loss_dos))"
   ]
  },
  {
   "cell_type": "code",
   "execution_count": 122,
   "id": "09147dc1",
   "metadata": {
    "ExecuteTime": {
     "end_time": "2023-04-21T19:25:38.162462Z",
     "start_time": "2023-04-21T19:18:11.153214Z"
    }
   },
   "outputs": [
    {
     "name": "stderr",
     "output_type": "stream",
     "text": [
      "Epoch: 1004:  10%|███████████                                                                                                   | 1004/10000 [03:20<25:00,  5.99it/s, lowest_mse=0.0553, pred_loss=42.2, trigger=0]"
     ]
    },
    {
     "name": "stdout",
     "output_type": "stream",
     "text": [
      "The batch_size is now:  32\n"
     ]
    },
    {
     "name": "stderr",
     "output_type": "stream",
     "text": [
      "Epoch: 2008:  20%|██████████████████████                                                                                        | 2007/10000 [05:04<10:56, 12.18it/s, lowest_mse=0.0511, pred_loss=40.1, trigger=0]"
     ]
    },
    {
     "name": "stdout",
     "output_type": "stream",
     "text": [
      "The batch_size is now:  64\n"
     ]
    },
    {
     "name": "stderr",
     "output_type": "stream",
     "text": [
      "Epoch: 3013:  30%|█████████████████████████████████▍                                                                             | 3011/10000 [06:00<05:13, 22.28it/s, lowest_mse=0.049, pred_loss=39.1, trigger=0]"
     ]
    },
    {
     "name": "stdout",
     "output_type": "stream",
     "text": [
      "The batch_size is now:  128\n"
     ]
    },
    {
     "name": "stderr",
     "output_type": "stream",
     "text": [
      "Epoch: 4016:  40%|████████████████████████████████████████████▏                                                                 | 4016/10000 [06:33<02:58, 33.48it/s, lowest_mse=0.0477, pred_loss=38.4, trigger=0]"
     ]
    },
    {
     "name": "stdout",
     "output_type": "stream",
     "text": [
      "The batch_size is now:  256\n"
     ]
    },
    {
     "name": "stderr",
     "output_type": "stream",
     "text": [
      "Epoch: 5022:  50%|███████████████████████████████████████████████████████▏                                                      | 5017/10000 [06:55<01:45, 47.23it/s, lowest_mse=0.0468, pred_loss=38.1, trigger=0]"
     ]
    },
    {
     "name": "stdout",
     "output_type": "stream",
     "text": [
      "The batch_size is now:  512\n"
     ]
    },
    {
     "name": "stderr",
     "output_type": "stream",
     "text": [
      "Epoch: 6027:  60%|██████████████████████████████████████████████████████████████████▏                                           | 6021/10000 [07:13<01:05, 60.39it/s, lowest_mse=0.0462, pred_loss=37.8, trigger=0]"
     ]
    },
    {
     "name": "stdout",
     "output_type": "stream",
     "text": [
      "The batch_size is now:  1024\n"
     ]
    },
    {
     "name": "stderr",
     "output_type": "stream",
     "text": [
      "Epoch: 7015:  70%|█████████████████████████████████████████████████████████████████████████████▏                                | 7015/10000 [07:26<03:10, 15.69it/s, lowest_mse=0.0457, pred_loss=37.5, trigger=0]"
     ]
    },
    {
     "name": "stdout",
     "output_type": "stream",
     "text": [
      "The batch_size is now:  2048\n",
      "Adam Biased\n",
      "The train error is 37.48 for SOAP\n",
      "The test error is 44.07 for SOAP\n"
     ]
    },
    {
     "name": "stderr",
     "output_type": "stream",
     "text": [
      "\n"
     ]
    }
   ],
   "source": [
    "weights, loss_dos, test_loss_dos = normal_reg_train_Ad(total_soap, total_dos1,\n",
    "                                                       total_biased_train_index, total_biased_test_index,\n",
    "                                                       1e-2, 10000, 16, 1e-3)\n",
    "print (\"Adam Biased\")\n",
    "print (\"The train error is {:.4} for SOAP\".format(loss_dos))\n",
    "print (\"The test error is {:.4} for SOAP\".format(test_loss_dos))"
   ]
  },
  {
   "cell_type": "code",
   "execution_count": 123,
   "id": "25cff7eb",
   "metadata": {
    "ExecuteTime": {
     "end_time": "2023-04-21T19:33:04.474239Z",
     "start_time": "2023-04-21T19:25:38.165881Z"
    }
   },
   "outputs": [
    {
     "name": "stderr",
     "output_type": "stream",
     "text": [
      "Epoch: 1004:  10%|███████████▏                                                                                                   | 1004/10000 [03:14<24:32,  6.11it/s, lowest_mse=0.049, pred_loss=41.1, trigger=0]"
     ]
    },
    {
     "name": "stdout",
     "output_type": "stream",
     "text": [
      "The batch_size is now:  32\n"
     ]
    },
    {
     "name": "stderr",
     "output_type": "stream",
     "text": [
      "Epoch: 2008:  20%|██████████████████████▍                                                                                         | 2007/10000 [05:02<10:47, 12.34it/s, lowest_mse=0.0452, pred_loss=39, trigger=0]"
     ]
    },
    {
     "name": "stdout",
     "output_type": "stream",
     "text": [
      "The batch_size is now:  64\n"
     ]
    },
    {
     "name": "stderr",
     "output_type": "stream",
     "text": [
      "Epoch: 3013:  30%|█████████████████████████████████                                                                             | 3011/10000 [05:59<05:19, 21.89it/s, lowest_mse=0.0433, pred_loss=38.2, trigger=0]"
     ]
    },
    {
     "name": "stdout",
     "output_type": "stream",
     "text": [
      "The batch_size is now:  128\n"
     ]
    },
    {
     "name": "stderr",
     "output_type": "stream",
     "text": [
      "Epoch: 4018:  40%|████████████████████████████████████████████▏                                                                 | 4016/10000 [06:31<02:45, 36.20it/s, lowest_mse=0.0422, pred_loss=37.6, trigger=0]"
     ]
    },
    {
     "name": "stdout",
     "output_type": "stream",
     "text": [
      "The batch_size is now:  256\n"
     ]
    },
    {
     "name": "stderr",
     "output_type": "stream",
     "text": [
      "Epoch: 5022:  50%|███████████████████████████████████████████████████████▏                                                      | 5018/10000 [06:54<01:42, 48.38it/s, lowest_mse=0.0414, pred_loss=37.3, trigger=0]"
     ]
    },
    {
     "name": "stdout",
     "output_type": "stream",
     "text": [
      "The batch_size is now:  512\n"
     ]
    },
    {
     "name": "stderr",
     "output_type": "stream",
     "text": [
      "Epoch: 6027:  60%|███████████████████████████████████████████████████████████████████▍                                            | 6022/10000 [07:12<01:05, 60.54it/s, lowest_mse=0.0409, pred_loss=37, trigger=0]"
     ]
    },
    {
     "name": "stdout",
     "output_type": "stream",
     "text": [
      "The batch_size is now:  1024\n"
     ]
    },
    {
     "name": "stderr",
     "output_type": "stream",
     "text": [
      "Epoch: 7015:  70%|█████████████████████████████████████████████████████████████████████████████▏                                | 7015/10000 [07:26<03:09, 15.72it/s, lowest_mse=0.0405, pred_loss=36.7, trigger=0]\n"
     ]
    },
    {
     "name": "stdout",
     "output_type": "stream",
     "text": [
      "The batch_size is now:  2048\n",
      "Adam holdout\n",
      "The train error is 36.72 for SOAP\n",
      "The test error is 47.14 for SOAP\n"
     ]
    }
   ],
   "source": [
    "weights, loss_dos, test_loss_dos = normal_reg_train_Ad(total_soap, total_dos1,\n",
    "                                                       holdout_train_index, holdout_test_index,\n",
    "                                                       1e-2, 10000, 16, 1e-3)\n",
    "print (\"Adam holdout\")\n",
    "print (\"The train error is {:.4} for SOAP\".format(loss_dos))\n",
    "print (\"The test error is {:.4} for SOAP\".format(test_loss_dos))"
   ]
  },
  {
   "cell_type": "markdown",
   "id": "63f4b0e4",
   "metadata": {},
   "source": [
    "#### Total - 0.3 Kernel"
   ]
  },
  {
   "cell_type": "code",
   "execution_count": 124,
   "id": "2550dce2",
   "metadata": {
    "ExecuteTime": {
     "end_time": "2023-04-21T19:36:33.966797Z",
     "start_time": "2023-04-21T19:33:04.481740Z"
    }
   },
   "outputs": [
    {
     "name": "stderr",
     "output_type": "stream",
     "text": [
      "Epoch: 808:   8%|█████████                                                                                                       | 807/10000 [01:29<13:16, 11.54it/s, lowest_mse=0.0472, pred_loss=60.1, trigger=0]"
     ]
    },
    {
     "name": "stdout",
     "output_type": "stream",
     "text": [
      "The batch_size is now:  32\n"
     ]
    },
    {
     "name": "stderr",
     "output_type": "stream",
     "text": [
      "Epoch: 1615:  16%|█████████████████▋                                                                                            | 1613/10000 [02:17<06:35, 21.20it/s, lowest_mse=0.0392, pred_loss=47.8, trigger=0]"
     ]
    },
    {
     "name": "stdout",
     "output_type": "stream",
     "text": [
      "The batch_size is now:  64\n"
     ]
    },
    {
     "name": "stderr",
     "output_type": "stream",
     "text": [
      "Epoch: 2423:  24%|██████████████████████████▌                                                                                   | 2420/10000 [02:45<03:24, 37.09it/s, lowest_mse=0.0365, pred_loss=44.1, trigger=0]"
     ]
    },
    {
     "name": "stdout",
     "output_type": "stream",
     "text": [
      "The batch_size is now:  128\n"
     ]
    },
    {
     "name": "stderr",
     "output_type": "stream",
     "text": [
      "Epoch: 3231:  32%|███████████████████████████████████▍                                                                          | 3225/10000 [03:02<02:04, 54.48it/s, lowest_mse=0.0354, pred_loss=46.2, trigger=0]"
     ]
    },
    {
     "name": "stdout",
     "output_type": "stream",
     "text": [
      "The batch_size is now:  256\n"
     ]
    },
    {
     "name": "stderr",
     "output_type": "stream",
     "text": [
      "Epoch: 4037:  40%|████████████████████████████████████████████▎                                                                 | 4031/10000 [03:14<01:24, 70.80it/s, lowest_mse=0.0349, pred_loss=44.3, trigger=0]"
     ]
    },
    {
     "name": "stdout",
     "output_type": "stream",
     "text": [
      "The batch_size is now:  512\n"
     ]
    },
    {
     "name": "stderr",
     "output_type": "stream",
     "text": [
      "Epoch: 4848:  48%|█████████████████████████████████████████████████████▊                                                         | 4844/10000 [03:22<00:50, 102.24it/s, lowest_mse=0.0345, pred_loss=55, trigger=0]"
     ]
    },
    {
     "name": "stdout",
     "output_type": "stream",
     "text": [
      "The batch_size is now:  1024\n"
     ]
    },
    {
     "name": "stderr",
     "output_type": "stream",
     "text": [
      "Epoch: 5629:  56%|█████████████████████████████████████████████████████████████▉                                                | 5629/10000 [03:29<02:42, 26.88it/s, lowest_mse=0.0343, pred_loss=39.3, trigger=0]"
     ]
    },
    {
     "name": "stdout",
     "output_type": "stream",
     "text": [
      "The batch_size is now:  2048\n",
      "Adam Unbiased\n",
      "The train error is 39.28 for KERNEL\n",
      "The test error is 40.15 for KERNEL\n"
     ]
    },
    {
     "name": "stderr",
     "output_type": "stream",
     "text": [
      "\n"
     ]
    }
   ],
   "source": [
    "A_U_weights_03, loss_dos, test_loss_dos = kernel_reg_train_Ad(total_kernel_150, total_dos3,\n",
    "                                                              total_train_index, total_test_index,\n",
    "                                                              total_kMM_150, 1e-2, 10000, 16, 1e-3)\n",
    "\n",
    "print (\"Adam Unbiased\")\n",
    "print (\"The train error is {:.4} for KERNEL\".format(loss_dos))\n",
    "print (\"The test error is {:.4} for KERNEL\".format(test_loss_dos))"
   ]
  },
  {
   "cell_type": "code",
   "execution_count": 125,
   "id": "0386a701",
   "metadata": {
    "ExecuteTime": {
     "end_time": "2023-04-21T19:40:00.282413Z",
     "start_time": "2023-04-21T19:36:33.968933Z"
    }
   },
   "outputs": [
    {
     "name": "stderr",
     "output_type": "stream",
     "text": [
      "Epoch: 808:   8%|█████████                                                                                                       | 807/10000 [01:29<13:16, 11.54it/s, lowest_mse=0.0486, pred_loss=55.7, trigger=0]"
     ]
    },
    {
     "name": "stdout",
     "output_type": "stream",
     "text": [
      "The batch_size is now:  32\n"
     ]
    },
    {
     "name": "stderr",
     "output_type": "stream",
     "text": [
      "Epoch: 1615:  16%|█████████████████▋                                                                                            | 1613/10000 [02:18<06:35, 21.19it/s, lowest_mse=0.0403, pred_loss=47.1, trigger=0]"
     ]
    },
    {
     "name": "stdout",
     "output_type": "stream",
     "text": [
      "The batch_size is now:  64\n"
     ]
    },
    {
     "name": "stderr",
     "output_type": "stream",
     "text": [
      "Epoch: 2423:  24%|██████████████████████████▌                                                                                   | 2418/10000 [02:44<03:34, 35.35it/s, lowest_mse=0.0377, pred_loss=43.5, trigger=0]"
     ]
    },
    {
     "name": "stdout",
     "output_type": "stream",
     "text": [
      "The batch_size is now:  128\n"
     ]
    },
    {
     "name": "stderr",
     "output_type": "stream",
     "text": [
      "Epoch: 3232:  32%|███████████████████████████████████▌                                                                          | 3228/10000 [03:00<01:53, 59.76it/s, lowest_mse=0.0366, pred_loss=43.5, trigger=0]"
     ]
    },
    {
     "name": "stdout",
     "output_type": "stream",
     "text": [
      "The batch_size is now:  256\n"
     ]
    },
    {
     "name": "stderr",
     "output_type": "stream",
     "text": [
      "Epoch: 4039:  40%|████████████████████████████████████████████▍                                                                 | 4039/10000 [03:10<01:11, 83.50it/s, lowest_mse=0.0361, pred_loss=40.9, trigger=0]"
     ]
    },
    {
     "name": "stdout",
     "output_type": "stream",
     "text": [
      "The batch_size is now:  512\n"
     ]
    },
    {
     "name": "stderr",
     "output_type": "stream",
     "text": [
      "Epoch: 4847:  48%|█████████████████████████████████████████████████████▎                                                        | 4842/10000 [03:19<00:51, 99.41it/s, lowest_mse=0.0357, pred_loss=53.5, trigger=0]"
     ]
    },
    {
     "name": "stdout",
     "output_type": "stream",
     "text": [
      "The batch_size is now:  1024\n"
     ]
    },
    {
     "name": "stderr",
     "output_type": "stream",
     "text": [
      "Epoch: 5629:  56%|█████████████████████████████████████████████████████████████▉                                                | 5629/10000 [03:26<02:40, 27.29it/s, lowest_mse=0.0354, pred_loss=38.5, trigger=0]\n"
     ]
    },
    {
     "name": "stdout",
     "output_type": "stream",
     "text": [
      "The batch_size is now:  2048\n",
      "Adam Biased\n",
      "The train error is 38.53 for KERNEL\n",
      "The test error is 47.84 for KERNEL\n"
     ]
    }
   ],
   "source": [
    "A_U_weights_03, loss_dos, test_loss_dos = kernel_reg_train_Ad(total_kernel_150, total_dos3,\n",
    "                                                              total_biased_train_index, total_biased_test_index,\n",
    "                                                              total_kMM_150, 1e-2, 10000, 16, 1e-3)\n",
    "\n",
    "print (\"Adam Biased\")\n",
    "print (\"The train error is {:.4} for KERNEL\".format(loss_dos))\n",
    "print (\"The test error is {:.4} for KERNEL\".format(test_loss_dos))"
   ]
  },
  {
   "cell_type": "code",
   "execution_count": 126,
   "id": "deb61aa8",
   "metadata": {
    "ExecuteTime": {
     "end_time": "2023-04-21T19:43:04.454838Z",
     "start_time": "2023-04-21T19:40:00.285474Z"
    }
   },
   "outputs": [
    {
     "name": "stderr",
     "output_type": "stream",
     "text": [
      "Epoch: 808:   8%|█████████                                                                                                       | 807/10000 [01:17<12:43, 12.04it/s, lowest_mse=0.0448, pred_loss=49.7, trigger=0]"
     ]
    },
    {
     "name": "stdout",
     "output_type": "stream",
     "text": [
      "The batch_size is now:  32\n"
     ]
    },
    {
     "name": "stderr",
     "output_type": "stream",
     "text": [
      "Epoch: 1615:  16%|█████████████████▋                                                                                            | 1613/10000 [01:59<05:50, 23.93it/s, lowest_mse=0.0366, pred_loss=43.5, trigger=0]"
     ]
    },
    {
     "name": "stdout",
     "output_type": "stream",
     "text": [
      "The batch_size is now:  64\n"
     ]
    },
    {
     "name": "stderr",
     "output_type": "stream",
     "text": [
      "Epoch: 2423:  24%|██████████████████████████▌                                                                                   | 2419/10000 [02:24<03:19, 37.97it/s, lowest_mse=0.0338, pred_loss=43.1, trigger=0]"
     ]
    },
    {
     "name": "stdout",
     "output_type": "stream",
     "text": [
      "The batch_size is now:  128\n"
     ]
    },
    {
     "name": "stderr",
     "output_type": "stream",
     "text": [
      "Epoch: 3233:  32%|███████████████████████████████████▌                                                                          | 3230/10000 [02:39<01:41, 66.53it/s, lowest_mse=0.0326, pred_loss=40.6, trigger=0]"
     ]
    },
    {
     "name": "stdout",
     "output_type": "stream",
     "text": [
      "The batch_size is now:  256\n"
     ]
    },
    {
     "name": "stderr",
     "output_type": "stream",
     "text": [
      "Epoch: 4041:  40%|████████████████████████████████████████████▎                                                                 | 4031/10000 [02:49<01:06, 89.99it/s, lowest_mse=0.0319, pred_loss=39.6, trigger=0]"
     ]
    },
    {
     "name": "stdout",
     "output_type": "stream",
     "text": [
      "The batch_size is now:  512\n"
     ]
    },
    {
     "name": "stderr",
     "output_type": "stream",
     "text": [
      "Epoch: 4848:  48%|████████████████████████████████████████████████████▊                                                        | 4843/10000 [02:57<00:50, 102.12it/s, lowest_mse=0.0315, pred_loss=43.7, trigger=0]"
     ]
    },
    {
     "name": "stdout",
     "output_type": "stream",
     "text": [
      "The batch_size is now:  1024\n"
     ]
    },
    {
     "name": "stderr",
     "output_type": "stream",
     "text": [
      "Epoch: 5629:  56%|█████████████████████████████████████████████████████████████▉                                                | 5629/10000 [03:04<02:22, 30.57it/s, lowest_mse=0.0311, pred_loss=37.9, trigger=0]\n"
     ]
    },
    {
     "name": "stdout",
     "output_type": "stream",
     "text": [
      "The batch_size is now:  2048\n",
      "Adam holdout\n",
      "The train error is 37.85 for KERNEL\n",
      "The test error is 47.54 for KERNEL\n"
     ]
    }
   ],
   "source": [
    "A_U_weights_03, loss_dos, test_loss_dos = kernel_reg_train_Ad(total_kernel_100, total_dos3,\n",
    "                                                              holdout_train_index, holdout_test_index,\n",
    "                                                              total_kMM_100, 1e-2, 10000, 16, 1e-3)\n",
    "\n",
    "print (\"Adam holdout\")\n",
    "print (\"The train error is {:.4} for KERNEL\".format(loss_dos))\n",
    "print (\"The test error is {:.4} for KERNEL\".format(test_loss_dos))"
   ]
  },
  {
   "cell_type": "markdown",
   "id": "4e980550",
   "metadata": {},
   "source": [
    "#### Total - 0.1 Kernel "
   ]
  },
  {
   "cell_type": "code",
   "execution_count": 127,
   "id": "a9ea4ae0",
   "metadata": {
    "ExecuteTime": {
     "end_time": "2023-04-21T19:46:37.735606Z",
     "start_time": "2023-04-21T19:43:04.456861Z"
    }
   },
   "outputs": [
    {
     "name": "stderr",
     "output_type": "stream",
     "text": [
      "Epoch: 808:   8%|█████████▎                                                                                                         | 807/10000 [01:30<13:25, 11.41it/s, lowest_mse=0.102, pred_loss=73, trigger=0]"
     ]
    },
    {
     "name": "stdout",
     "output_type": "stream",
     "text": [
      "The batch_size is now:  32\n"
     ]
    },
    {
     "name": "stderr",
     "output_type": "stream",
     "text": [
      "Epoch: 1615:  16%|█████████████████▋                                                                                            | 1613/10000 [02:19<06:34, 21.27it/s, lowest_mse=0.0916, pred_loss=59.7, trigger=0]"
     ]
    },
    {
     "name": "stdout",
     "output_type": "stream",
     "text": [
      "The batch_size is now:  64\n"
     ]
    },
    {
     "name": "stderr",
     "output_type": "stream",
     "text": [
      "Epoch: 2422:  24%|██████████████████████████▋                                                                                   | 2421/10000 [02:47<03:29, 36.10it/s, lowest_mse=0.0874, pred_loss=56.9, trigger=0]"
     ]
    },
    {
     "name": "stdout",
     "output_type": "stream",
     "text": [
      "The batch_size is now:  128\n"
     ]
    },
    {
     "name": "stderr",
     "output_type": "stream",
     "text": [
      "Epoch: 3230:  32%|███████████████████████████████████▌                                                                          | 3228/10000 [03:05<02:06, 53.45it/s, lowest_mse=0.0853, pred_loss=57.8, trigger=0]"
     ]
    },
    {
     "name": "stdout",
     "output_type": "stream",
     "text": [
      "The batch_size is now:  256\n"
     ]
    },
    {
     "name": "stderr",
     "output_type": "stream",
     "text": [
      "Epoch: 4038:  40%|████████████████████████████████████████████▍                                                                 | 4037/10000 [03:16<01:16, 77.48it/s, lowest_mse=0.0841, pred_loss=56.4, trigger=0]"
     ]
    },
    {
     "name": "stdout",
     "output_type": "stream",
     "text": [
      "The batch_size is now:  512\n"
     ]
    },
    {
     "name": "stderr",
     "output_type": "stream",
     "text": [
      "Epoch: 4847:  48%|█████████████████████████████████████████████████████▎                                                        | 4842/10000 [03:26<00:54, 95.27it/s, lowest_mse=0.0834, pred_loss=59.1, trigger=0]"
     ]
    },
    {
     "name": "stdout",
     "output_type": "stream",
     "text": [
      "The batch_size is now:  1024\n"
     ]
    },
    {
     "name": "stderr",
     "output_type": "stream",
     "text": [
      "Epoch: 5629:  56%|█████████████████████████████████████████████████████████████▉                                                | 5629/10000 [03:33<02:45, 26.40it/s, lowest_mse=0.0828, pred_loss=52.2, trigger=0]"
     ]
    },
    {
     "name": "stdout",
     "output_type": "stream",
     "text": [
      "The batch_size is now:  2048\n",
      "Adam Unbiased\n",
      "The train error is 52.15 for KERNEL\n",
      "The test error is 53.23 for KERNEL\n"
     ]
    },
    {
     "name": "stderr",
     "output_type": "stream",
     "text": [
      "\n"
     ]
    }
   ],
   "source": [
    "A_U_weights_03, loss_dos, test_loss_dos = kernel_reg_train_Ad(total_kernel_150, total_dos1,\n",
    "                                                              total_train_index, total_test_index,\n",
    "                                                              total_kMM_150, 1e-1, 10000, 16, 1e-3)\n",
    "\n",
    "print (\"Adam Unbiased\")\n",
    "print (\"The train error is {:.4} for KERNEL\".format(loss_dos))\n",
    "print (\"The test error is {:.4} for KERNEL\".format(test_loss_dos))"
   ]
  },
  {
   "cell_type": "code",
   "execution_count": 139,
   "id": "ea142eab",
   "metadata": {
    "ExecuteTime": {
     "end_time": "2023-04-22T08:39:30.326657Z",
     "start_time": "2023-04-22T08:36:01.666891Z"
    }
   },
   "outputs": [
    {
     "name": "stderr",
     "output_type": "stream",
     "text": [
      "Epoch: 808:   8%|█████████                                                                                                        | 807/10000 [01:28<13:18, 11.51it/s, lowest_mse=0.106, pred_loss=72.1, trigger=0]"
     ]
    },
    {
     "name": "stdout",
     "output_type": "stream",
     "text": [
      "The batch_size is now:  32\n"
     ]
    },
    {
     "name": "stderr",
     "output_type": "stream",
     "text": [
      "Epoch: 1615:  16%|█████████████████▋                                                                                            | 1613/10000 [02:16<06:37, 21.12it/s, lowest_mse=0.0946, pred_loss=58.7, trigger=0]"
     ]
    },
    {
     "name": "stdout",
     "output_type": "stream",
     "text": [
      "The batch_size is now:  64\n"
     ]
    },
    {
     "name": "stderr",
     "output_type": "stream",
     "text": [
      "Epoch: 2422:  24%|███████████████████████████                                                                                     | 2420/10000 [02:43<03:27, 36.59it/s, lowest_mse=0.0902, pred_loss=58, trigger=0]"
     ]
    },
    {
     "name": "stdout",
     "output_type": "stream",
     "text": [
      "The batch_size is now:  128\n"
     ]
    },
    {
     "name": "stderr",
     "output_type": "stream",
     "text": [
      "Epoch: 3232:  32%|███████████████████████████████████▌                                                                          | 3232/10000 [02:59<01:48, 62.32it/s, lowest_mse=0.0881, pred_loss=55.4, trigger=0]"
     ]
    },
    {
     "name": "stdout",
     "output_type": "stream",
     "text": [
      "The batch_size is now:  256\n"
     ]
    },
    {
     "name": "stderr",
     "output_type": "stream",
     "text": [
      "Epoch: 4037:  40%|████████████████████████████████████████████▎                                                                 | 4032/10000 [03:10<01:20, 74.03it/s, lowest_mse=0.0869, pred_loss=55.2, trigger=0]"
     ]
    },
    {
     "name": "stdout",
     "output_type": "stream",
     "text": [
      "The batch_size is now:  512\n"
     ]
    },
    {
     "name": "stderr",
     "output_type": "stream",
     "text": [
      "Epoch: 4847:  48%|█████████████████████████████████████████████████████▎                                                        | 4846/10000 [03:20<00:52, 97.83it/s, lowest_mse=0.0862, pred_loss=58.6, trigger=0]"
     ]
    },
    {
     "name": "stdout",
     "output_type": "stream",
     "text": [
      "The batch_size is now:  1024\n"
     ]
    },
    {
     "name": "stderr",
     "output_type": "stream",
     "text": [
      "Epoch: 5629:  56%|█████████████████████████████████████████████████████████████▉                                                | 5629/10000 [03:28<02:42, 26.98it/s, lowest_mse=0.0856, pred_loss=51.3, trigger=0]\n"
     ]
    },
    {
     "name": "stdout",
     "output_type": "stream",
     "text": [
      "The batch_size is now:  2048\n",
      "Adam Biased\n",
      "The train error is 51.31 for KERNEL\n",
      "The test error is 60.57 for KERNEL\n"
     ]
    }
   ],
   "source": [
    "A_U_weights_03, loss_dos, test_loss_dos = kernel_reg_train_Ad(total_kernel_150, total_dos1,\n",
    "                                                              total_biased_train_index, total_biased_test_index,\n",
    "                                                              total_kMM_150, 1e-1, 10000, 16, 1e-3)\n",
    "\n",
    "print (\"Adam Biased\")\n",
    "print (\"The train error is {:.4} for KERNEL\".format(loss_dos))\n",
    "print (\"The test error is {:.4} for KERNEL\".format(test_loss_dos))"
   ]
  },
  {
   "cell_type": "code",
   "execution_count": 140,
   "id": "5628ae3c",
   "metadata": {
    "ExecuteTime": {
     "end_time": "2023-04-22T08:42:42.242987Z",
     "start_time": "2023-04-22T08:39:30.329797Z"
    }
   },
   "outputs": [
    {
     "name": "stderr",
     "output_type": "stream",
     "text": [
      "Epoch: 808:   8%|█████████▏                                                                                                        | 808/10000 [01:21<12:20, 12.42it/s, lowest_mse=0.0999, pred_loss=62, trigger=0]"
     ]
    },
    {
     "name": "stdout",
     "output_type": "stream",
     "text": [
      "The batch_size is now:  32\n"
     ]
    },
    {
     "name": "stderr",
     "output_type": "stream",
     "text": [
      "Epoch: 1615:  16%|█████████████████▊                                                                                            | 1615/10000 [02:06<05:48, 24.03it/s, lowest_mse=0.0892, pred_loss=58.8, trigger=0]"
     ]
    },
    {
     "name": "stdout",
     "output_type": "stream",
     "text": [
      "The batch_size is now:  64\n"
     ]
    },
    {
     "name": "stderr",
     "output_type": "stream",
     "text": [
      "Epoch: 2423:  24%|██████████████████████████▋                                                                                   | 2423/10000 [02:32<03:01, 41.83it/s, lowest_mse=0.0849, pred_loss=56.1, trigger=0]"
     ]
    },
    {
     "name": "stdout",
     "output_type": "stream",
     "text": [
      "The batch_size is now:  128\n"
     ]
    },
    {
     "name": "stderr",
     "output_type": "stream",
     "text": [
      "Epoch: 3233:  32%|███████████████████████████████████▌                                                                          | 3232/10000 [02:47<01:42, 66.35it/s, lowest_mse=0.0828, pred_loss=54.3, trigger=0]"
     ]
    },
    {
     "name": "stdout",
     "output_type": "stream",
     "text": [
      "The batch_size is now:  256\n"
     ]
    },
    {
     "name": "stderr",
     "output_type": "stream",
     "text": [
      "Epoch: 4040:  40%|████████████████████████████████████████████▎                                                                 | 4033/10000 [02:57<01:09, 86.04it/s, lowest_mse=0.0815, pred_loss=53.9, trigger=0]"
     ]
    },
    {
     "name": "stdout",
     "output_type": "stream",
     "text": [
      "The batch_size is now:  512\n"
     ]
    },
    {
     "name": "stderr",
     "output_type": "stream",
     "text": [
      "Epoch: 4850:  48%|█████████████████████████████████████████████████████▊                                                         | 4848/10000 [03:05<00:46, 110.54it/s, lowest_mse=0.0807, pred_loss=54, trigger=0]"
     ]
    },
    {
     "name": "stdout",
     "output_type": "stream",
     "text": [
      "The batch_size is now:  1024\n"
     ]
    },
    {
     "name": "stderr",
     "output_type": "stream",
     "text": [
      "Epoch: 5629:  56%|███████████████████████████████████████████████████████████████                                                 | 5629/10000 [03:11<02:29, 29.33it/s, lowest_mse=0.08, pred_loss=51.6, trigger=0]\n"
     ]
    },
    {
     "name": "stdout",
     "output_type": "stream",
     "text": [
      "The batch_size is now:  2048\n",
      "Adam holdout\n",
      "The train error is 51.6 for KERNEL\n",
      "The test error is 57.83 for KERNEL\n"
     ]
    }
   ],
   "source": [
    "A_U_weights_03, loss_dos, test_loss_dos = kernel_reg_train_Ad(total_kernel_100, total_dos1,\n",
    "                                                              holdout_train_index, holdout_test_index,\n",
    "                                                              total_kMM_100, 1e-2, 10000, 16, 1e-3)\n",
    "\n",
    "print (\"Adam holdout\")\n",
    "print (\"The train error is {:.4} for KERNEL\".format(loss_dos))\n",
    "print (\"The test error is {:.4} for KERNEL\".format(test_loss_dos))"
   ]
  },
  {
   "cell_type": "markdown",
   "id": "591af96d",
   "metadata": {},
   "source": [
    "### Total Aligned"
   ]
  },
  {
   "cell_type": "markdown",
   "id": "2c6b17dc",
   "metadata": {},
   "source": [
    "#### Total Aligned - 0.3 Soap\n"
   ]
  },
  {
   "cell_type": "code",
   "execution_count": 141,
   "id": "d8523d66",
   "metadata": {
    "ExecuteTime": {
     "end_time": "2023-04-22T08:50:08.503337Z",
     "start_time": "2023-04-22T08:42:42.245061Z"
    }
   },
   "outputs": [
    {
     "name": "stderr",
     "output_type": "stream",
     "text": [
      "Epoch: 1004:  10%|███████████▏                                                                                                   | 1004/10000 [03:09<24:19,  6.16it/s, lowest_mse=0.015, pred_loss=27.9, trigger=0]"
     ]
    },
    {
     "name": "stdout",
     "output_type": "stream",
     "text": [
      "The batch_size is now:  32\n"
     ]
    },
    {
     "name": "stderr",
     "output_type": "stream",
     "text": [
      "Epoch: 2008:  20%|██████████████████████                                                                                        | 2007/10000 [04:53<10:48, 12.33it/s, lowest_mse=0.0133, pred_loss=25.2, trigger=0]"
     ]
    },
    {
     "name": "stdout",
     "output_type": "stream",
     "text": [
      "The batch_size is now:  64\n"
     ]
    },
    {
     "name": "stderr",
     "output_type": "stream",
     "text": [
      "Epoch: 3012:  30%|█████████████████████████████████▋                                                                              | 3010/10000 [05:52<05:49, 19.97it/s, lowest_mse=0.0124, pred_loss=24, trigger=0]"
     ]
    },
    {
     "name": "stdout",
     "output_type": "stream",
     "text": [
      "The batch_size is now:  128\n"
     ]
    },
    {
     "name": "stderr",
     "output_type": "stream",
     "text": [
      "Epoch: 4018:  40%|████████████████████████████████████████████▏                                                                 | 4014/10000 [06:28<02:53, 34.45it/s, lowest_mse=0.0119, pred_loss=23.4, trigger=0]"
     ]
    },
    {
     "name": "stdout",
     "output_type": "stream",
     "text": [
      "The batch_size is now:  256\n"
     ]
    },
    {
     "name": "stderr",
     "output_type": "stream",
     "text": [
      "Epoch: 5020:  50%|███████████████████████████████████████████████████████▏                                                      | 5017/10000 [06:52<01:50, 44.98it/s, lowest_mse=0.0115, pred_loss=23.5, trigger=0]"
     ]
    },
    {
     "name": "stdout",
     "output_type": "stream",
     "text": [
      "The batch_size is now:  512\n"
     ]
    },
    {
     "name": "stderr",
     "output_type": "stream",
     "text": [
      "Epoch: 6027:  60%|██████████████████████████████████████████████████████████████████▎                                           | 6025/10000 [07:11<01:03, 63.00it/s, lowest_mse=0.0113, pred_loss=22.8, trigger=0]"
     ]
    },
    {
     "name": "stdout",
     "output_type": "stream",
     "text": [
      "The batch_size is now:  1024\n"
     ]
    },
    {
     "name": "stderr",
     "output_type": "stream",
     "text": [
      "Epoch: 7015:  70%|█████████████████████████████████████████████████████████████████████████████▏                                | 7015/10000 [07:26<03:09, 15.72it/s, lowest_mse=0.0111, pred_loss=22.4, trigger=0]\n"
     ]
    },
    {
     "name": "stdout",
     "output_type": "stream",
     "text": [
      "The batch_size is now:  2048\n",
      "Adam Unbiased\n",
      "The train error is 22.36 for SOAP\n",
      "The test error is 24.29 for SOAP\n"
     ]
    }
   ],
   "source": [
    "weights, loss_dos, test_loss_dos = normal_reg_train_Ad(total_soap, total_aligned_dos3,\n",
    "                                                       total_train_index, total_test_index,\n",
    "                                                       1e-2, 10000, 16, 1e-3)\n",
    "print (\"Adam Unbiased\")\n",
    "print (\"The train error is {:.4} for SOAP\".format(loss_dos))\n",
    "print (\"The test error is {:.4} for SOAP\".format(test_loss_dos))"
   ]
  },
  {
   "cell_type": "code",
   "execution_count": 142,
   "id": "89a11e5c",
   "metadata": {
    "ExecuteTime": {
     "end_time": "2023-04-22T08:57:30.539823Z",
     "start_time": "2023-04-22T08:50:08.506216Z"
    }
   },
   "outputs": [
    {
     "name": "stderr",
     "output_type": "stream",
     "text": [
      "Epoch: 1004:  10%|███████████                                                                                                   | 1004/10000 [03:09<24:18,  6.17it/s, lowest_mse=0.0155, pred_loss=26.3, trigger=0]"
     ]
    },
    {
     "name": "stdout",
     "output_type": "stream",
     "text": [
      "The batch_size is now:  32\n"
     ]
    },
    {
     "name": "stderr",
     "output_type": "stream",
     "text": [
      "Epoch: 2008:  20%|██████████████████████                                                                                        | 2007/10000 [04:53<10:47, 12.34it/s, lowest_mse=0.0136, pred_loss=24.4, trigger=0]"
     ]
    },
    {
     "name": "stdout",
     "output_type": "stream",
     "text": [
      "The batch_size is now:  64\n"
     ]
    },
    {
     "name": "stderr",
     "output_type": "stream",
     "text": [
      "Epoch: 3012:  30%|█████████████████████████████████                                                                             | 3010/10000 [05:51<05:34, 20.92it/s, lowest_mse=0.0127, pred_loss=23.6, trigger=0]"
     ]
    },
    {
     "name": "stdout",
     "output_type": "stream",
     "text": [
      "The batch_size is now:  128\n"
     ]
    },
    {
     "name": "stderr",
     "output_type": "stream",
     "text": [
      "Epoch: 4017:  40%|████████████████████████████████████████████▏                                                                 | 4016/10000 [06:26<02:49, 35.39it/s, lowest_mse=0.0122, pred_loss=22.9, trigger=0]"
     ]
    },
    {
     "name": "stdout",
     "output_type": "stream",
     "text": [
      "The batch_size is now:  256\n"
     ]
    },
    {
     "name": "stderr",
     "output_type": "stream",
     "text": [
      "Epoch: 5022:  50%|███████████████████████████████████████████████████████▏                                                      | 5021/10000 [06:50<01:41, 48.99it/s, lowest_mse=0.0118, pred_loss=22.9, trigger=0]"
     ]
    },
    {
     "name": "stdout",
     "output_type": "stream",
     "text": [
      "The batch_size is now:  512\n"
     ]
    },
    {
     "name": "stderr",
     "output_type": "stream",
     "text": [
      "Epoch: 6027:  60%|██████████████████████████████████████████████████████████████████▎                                           | 6025/10000 [07:08<01:03, 62.88it/s, lowest_mse=0.0116, pred_loss=22.3, trigger=0]"
     ]
    },
    {
     "name": "stdout",
     "output_type": "stream",
     "text": [
      "The batch_size is now:  1024\n"
     ]
    },
    {
     "name": "stderr",
     "output_type": "stream",
     "text": [
      "Epoch: 7015:  70%|█████████████████████████████████████████████████████████████████████████████▏                                | 7015/10000 [07:22<03:08, 15.87it/s, lowest_mse=0.0114, pred_loss=21.8, trigger=0]\n"
     ]
    },
    {
     "name": "stdout",
     "output_type": "stream",
     "text": [
      "The batch_size is now:  2048\n",
      "Adam Biased\n",
      "The train error is 21.84 for SOAP\n",
      "The test error is 28.61 for SOAP\n"
     ]
    }
   ],
   "source": [
    "weights, loss_dos, test_loss_dos = normal_reg_train_Ad(total_soap, total_aligned_dos3,\n",
    "                                                       total_biased_train_index, total_biased_test_index,\n",
    "                                                       1e-2, 10000, 16, 1e-3)\n",
    "print (\"Adam Biased\")\n",
    "print (\"The train error is {:.4} for SOAP\".format(loss_dos))\n",
    "print (\"The test error is {:.4} for SOAP\".format(test_loss_dos))"
   ]
  },
  {
   "cell_type": "code",
   "execution_count": 143,
   "id": "4c1a13e9",
   "metadata": {
    "ExecuteTime": {
     "end_time": "2023-04-22T09:04:57.464461Z",
     "start_time": "2023-04-22T08:57:30.542146Z"
    }
   },
   "outputs": [
    {
     "name": "stderr",
     "output_type": "stream",
     "text": [
      "Epoch: 1004:  10%|███████████                                                                                                   | 1004/10000 [03:14<24:55,  6.02it/s, lowest_mse=0.0129, pred_loss=25.2, trigger=0]"
     ]
    },
    {
     "name": "stdout",
     "output_type": "stream",
     "text": [
      "The batch_size is now:  32\n"
     ]
    },
    {
     "name": "stderr",
     "output_type": "stream",
     "text": [
      "Epoch: 2008:  20%|██████████████████████                                                                                        | 2007/10000 [05:00<10:51, 12.27it/s, lowest_mse=0.0112, pred_loss=23.2, trigger=0]"
     ]
    },
    {
     "name": "stdout",
     "output_type": "stream",
     "text": [
      "The batch_size is now:  64\n"
     ]
    },
    {
     "name": "stderr",
     "output_type": "stream",
     "text": [
      "Epoch: 3013:  30%|█████████████████████████████████▏                                                                            | 3013/10000 [05:58<04:58, 23.44it/s, lowest_mse=0.0104, pred_loss=22.3, trigger=0]"
     ]
    },
    {
     "name": "stdout",
     "output_type": "stream",
     "text": [
      "The batch_size is now:  128\n"
     ]
    },
    {
     "name": "stderr",
     "output_type": "stream",
     "text": [
      "Epoch: 4018:  40%|███████████████████████████████████████████▊                                                                 | 4016/10000 [06:31<02:47, 35.76it/s, lowest_mse=0.00998, pred_loss=21.7, trigger=0]"
     ]
    },
    {
     "name": "stdout",
     "output_type": "stream",
     "text": [
      "The batch_size is now:  256\n"
     ]
    },
    {
     "name": "stderr",
     "output_type": "stream",
     "text": [
      "Epoch: 5022:  50%|██████████████████████████████████████████████████████▋                                                      | 5017/10000 [06:54<01:41, 49.28it/s, lowest_mse=0.00967, pred_loss=21.6, trigger=0]"
     ]
    },
    {
     "name": "stdout",
     "output_type": "stream",
     "text": [
      "The batch_size is now:  512\n"
     ]
    },
    {
     "name": "stderr",
     "output_type": "stream",
     "text": [
      "Epoch: 6028:  60%|█████████████████████████████████████████████████████████████████▋                                           | 6021/10000 [07:12<01:03, 62.54it/s, lowest_mse=0.00946, pred_loss=21.2, trigger=0]"
     ]
    },
    {
     "name": "stdout",
     "output_type": "stream",
     "text": [
      "The batch_size is now:  1024\n"
     ]
    },
    {
     "name": "stderr",
     "output_type": "stream",
     "text": [
      "Epoch: 7015:  70%|█████████████████████████████████████████████████████████████████████████████▏                                | 7015/10000 [07:26<03:10, 15.70it/s, lowest_mse=0.0093, pred_loss=20.7, trigger=0]\n"
     ]
    },
    {
     "name": "stdout",
     "output_type": "stream",
     "text": [
      "The batch_size is now:  2048\n",
      "Adam Holdout\n",
      "The train error is 20.67 for SOAP\n",
      "The test error is 32.52 for SOAP\n"
     ]
    }
   ],
   "source": [
    "weights, loss_dos, test_loss_dos = normal_reg_train_Ad(total_soap, total_aligned_dos3,\n",
    "                                                       holdout_train_index, holdout_test_index,\n",
    "                                                       1e-2, 10000, 16, 1e-3)\n",
    "print (\"Adam Holdout\")\n",
    "print (\"The train error is {:.4} for SOAP\".format(loss_dos))\n",
    "print (\"The test error is {:.4} for SOAP\".format(test_loss_dos))"
   ]
  },
  {
   "cell_type": "markdown",
   "id": "d90a161a",
   "metadata": {},
   "source": [
    "#### Total Aligned - 0.1 Soap"
   ]
  },
  {
   "cell_type": "code",
   "execution_count": 144,
   "id": "9989b103",
   "metadata": {
    "ExecuteTime": {
     "end_time": "2023-04-22T09:12:32.788962Z",
     "start_time": "2023-04-22T09:04:57.466660Z"
    }
   },
   "outputs": [
    {
     "name": "stderr",
     "output_type": "stream",
     "text": [
      "Epoch: 1004:  10%|███████████                                                                                                   | 1004/10000 [03:14<25:49,  5.81it/s, lowest_mse=0.0505, pred_loss=41.3, trigger=0]"
     ]
    },
    {
     "name": "stdout",
     "output_type": "stream",
     "text": [
      "The batch_size is now:  32\n"
     ]
    },
    {
     "name": "stderr",
     "output_type": "stream",
     "text": [
      "Epoch: 2008:  20%|██████████████████████                                                                                        | 2007/10000 [05:04<11:27, 11.63it/s, lowest_mse=0.0467, pred_loss=39.5, trigger=0]"
     ]
    },
    {
     "name": "stdout",
     "output_type": "stream",
     "text": [
      "The batch_size is now:  64\n"
     ]
    },
    {
     "name": "stderr",
     "output_type": "stream",
     "text": [
      "Epoch: 3012:  30%|█████████████████████████████████                                                                             | 3010/10000 [06:04<05:50, 19.95it/s, lowest_mse=0.0447, pred_loss=38.6, trigger=0]"
     ]
    },
    {
     "name": "stdout",
     "output_type": "stream",
     "text": [
      "The batch_size is now:  128\n"
     ]
    },
    {
     "name": "stderr",
     "output_type": "stream",
     "text": [
      "Epoch: 4018:  40%|████████████████████████████████████████████▏                                                                 | 4016/10000 [06:39<02:45, 36.18it/s, lowest_mse=0.0436, pred_loss=37.9, trigger=0]"
     ]
    },
    {
     "name": "stdout",
     "output_type": "stream",
     "text": [
      "The batch_size is now:  256\n"
     ]
    },
    {
     "name": "stderr",
     "output_type": "stream",
     "text": [
      "Epoch: 5022:  50%|███████████████████████████████████████████████████████▏                                                      | 5017/10000 [07:00<01:38, 50.55it/s, lowest_mse=0.0428, pred_loss=37.7, trigger=0]"
     ]
    },
    {
     "name": "stdout",
     "output_type": "stream",
     "text": [
      "The batch_size is now:  512\n"
     ]
    },
    {
     "name": "stderr",
     "output_type": "stream",
     "text": [
      "Epoch: 6028:  60%|██████████████████████████████████████████████████████████████████▏                                           | 6021/10000 [07:19<01:02, 63.87it/s, lowest_mse=0.0422, pred_loss=37.4, trigger=0]"
     ]
    },
    {
     "name": "stdout",
     "output_type": "stream",
     "text": [
      "The batch_size is now:  1024\n"
     ]
    },
    {
     "name": "stderr",
     "output_type": "stream",
     "text": [
      "Epoch: 7015:  70%|██████████████████████████████████████████████████████████████████████████████▌                                 | 7015/10000 [07:35<03:13, 15.41it/s, lowest_mse=0.0418, pred_loss=37, trigger=0]"
     ]
    },
    {
     "name": "stdout",
     "output_type": "stream",
     "text": [
      "The batch_size is now:  2048\n",
      "Adam Unbiased\n",
      "The train error is 37.04 for SOAP\n",
      "The test error is 39.44 for SOAP\n"
     ]
    },
    {
     "name": "stderr",
     "output_type": "stream",
     "text": [
      "\n"
     ]
    }
   ],
   "source": [
    "weights, loss_dos, test_loss_dos = normal_reg_train_Ad(total_soap, total_aligned_dos1,\n",
    "                                                       total_train_index, total_test_index,\n",
    "                                                       1e-2, 10000, 16, 1e-3)\n",
    "print (\"Adam Unbiased\")\n",
    "print (\"The train error is {:.4} for SOAP\".format(loss_dos))\n",
    "print (\"The test error is {:.4} for SOAP\".format(test_loss_dos))"
   ]
  },
  {
   "cell_type": "code",
   "execution_count": 145,
   "id": "f695cd39",
   "metadata": {
    "ExecuteTime": {
     "end_time": "2023-04-22T09:19:54.699441Z",
     "start_time": "2023-04-22T09:12:32.791157Z"
    }
   },
   "outputs": [
    {
     "name": "stderr",
     "output_type": "stream",
     "text": [
      "Epoch: 1004:  10%|███████████                                                                                                   | 1004/10000 [03:12<24:24,  6.14it/s, lowest_mse=0.0532, pred_loss=41.1, trigger=0]"
     ]
    },
    {
     "name": "stdout",
     "output_type": "stream",
     "text": [
      "The batch_size is now:  32\n"
     ]
    },
    {
     "name": "stderr",
     "output_type": "stream",
     "text": [
      "Epoch: 2008:  20%|██████████████████████▎                                                                                        | 2007/10000 [04:57<11:01, 12.08it/s, lowest_mse=0.049, pred_loss=39.3, trigger=0]"
     ]
    },
    {
     "name": "stdout",
     "output_type": "stream",
     "text": [
      "The batch_size is now:  64\n"
     ]
    },
    {
     "name": "stderr",
     "output_type": "stream",
     "text": [
      "Epoch: 3012:  30%|█████████████████████████████████                                                                             | 3010/10000 [05:55<05:37, 20.72it/s, lowest_mse=0.0469, pred_loss=38.3, trigger=0]"
     ]
    },
    {
     "name": "stdout",
     "output_type": "stream",
     "text": [
      "The batch_size is now:  128\n"
     ]
    },
    {
     "name": "stderr",
     "output_type": "stream",
     "text": [
      "Epoch: 4018:  40%|████████████████████████████████████████████▏                                                                 | 4018/10000 [06:29<02:40, 37.38it/s, lowest_mse=0.0457, pred_loss=37.6, trigger=0]"
     ]
    },
    {
     "name": "stdout",
     "output_type": "stream",
     "text": [
      "The batch_size is now:  256\n"
     ]
    },
    {
     "name": "stderr",
     "output_type": "stream",
     "text": [
      "Epoch: 5020:  50%|███████████████████████████████████████████████████████▏                                                      | 5019/10000 [06:50<01:39, 50.26it/s, lowest_mse=0.0448, pred_loss=37.2, trigger=0]"
     ]
    },
    {
     "name": "stdout",
     "output_type": "stream",
     "text": [
      "The batch_size is now:  512\n"
     ]
    },
    {
     "name": "stderr",
     "output_type": "stream",
     "text": [
      "Epoch: 6028:  60%|███████████████████████████████████████████████████████████████████▍                                            | 6024/10000 [07:08<01:01, 64.73it/s, lowest_mse=0.0443, pred_loss=37, trigger=0]"
     ]
    },
    {
     "name": "stdout",
     "output_type": "stream",
     "text": [
      "The batch_size is now:  1024\n"
     ]
    },
    {
     "name": "stderr",
     "output_type": "stream",
     "text": [
      "Epoch: 7015:  70%|█████████████████████████████████████████████████████████████████████████████▏                                | 7015/10000 [07:21<03:08, 15.88it/s, lowest_mse=0.0438, pred_loss=36.7, trigger=0]"
     ]
    },
    {
     "name": "stdout",
     "output_type": "stream",
     "text": [
      "The batch_size is now:  2048\n",
      "Adam Biased\n",
      "The train error is 36.69 for SOAP\n",
      "The test error is 43.51 for SOAP\n"
     ]
    },
    {
     "name": "stderr",
     "output_type": "stream",
     "text": [
      "\n"
     ]
    }
   ],
   "source": [
    "weights, loss_dos, test_loss_dos = normal_reg_train_Ad(total_soap, total_aligned_dos1,\n",
    "                                                       total_biased_train_index, total_biased_test_index,\n",
    "                                                       1e-2, 10000, 16, 1e-3)\n",
    "print (\"Adam Biased\")\n",
    "print (\"The train error is {:.4} for SOAP\".format(loss_dos))\n",
    "print (\"The test error is {:.4} for SOAP\".format(test_loss_dos))"
   ]
  },
  {
   "cell_type": "code",
   "execution_count": 146,
   "id": "70cefd21",
   "metadata": {
    "ExecuteTime": {
     "end_time": "2023-04-22T09:27:17.848687Z",
     "start_time": "2023-04-22T09:19:54.701079Z"
    }
   },
   "outputs": [
    {
     "name": "stderr",
     "output_type": "stream",
     "text": [
      "Epoch: 1004:  10%|███████████                                                                                                   | 1004/10000 [03:16<24:56,  6.01it/s, lowest_mse=0.0481, pred_loss=40.6, trigger=0]"
     ]
    },
    {
     "name": "stdout",
     "output_type": "stream",
     "text": [
      "The batch_size is now:  32\n"
     ]
    },
    {
     "name": "stderr",
     "output_type": "stream",
     "text": [
      "Epoch: 2008:  20%|██████████████████████                                                                                        | 2007/10000 [05:00<10:52, 12.25it/s, lowest_mse=0.0443, pred_loss=38.8, trigger=0]"
     ]
    },
    {
     "name": "stdout",
     "output_type": "stream",
     "text": [
      "The batch_size is now:  64\n"
     ]
    },
    {
     "name": "stderr",
     "output_type": "stream",
     "text": [
      "Epoch: 3013:  30%|█████████████████████████████████                                                                             | 3011/10000 [05:56<05:18, 21.95it/s, lowest_mse=0.0425, pred_loss=37.8, trigger=0]"
     ]
    },
    {
     "name": "stdout",
     "output_type": "stream",
     "text": [
      "The batch_size is now:  128\n"
     ]
    },
    {
     "name": "stderr",
     "output_type": "stream",
     "text": [
      "Epoch: 4017:  40%|████████████████████████████████████████████▏                                                                 | 4014/10000 [06:29<02:53, 34.54it/s, lowest_mse=0.0414, pred_loss=37.2, trigger=0]"
     ]
    },
    {
     "name": "stdout",
     "output_type": "stream",
     "text": [
      "The batch_size is now:  256\n"
     ]
    },
    {
     "name": "stderr",
     "output_type": "stream",
     "text": [
      "Epoch: 5022:  50%|███████████████████████████████████████████████████████▏                                                      | 5020/10000 [06:52<01:36, 51.45it/s, lowest_mse=0.0407, pred_loss=36.9, trigger=0]"
     ]
    },
    {
     "name": "stdout",
     "output_type": "stream",
     "text": [
      "The batch_size is now:  512\n"
     ]
    },
    {
     "name": "stderr",
     "output_type": "stream",
     "text": [
      "Epoch: 6028:  60%|██████████████████████████████████████████████████████████████████▎                                           | 6024/10000 [07:10<01:01, 64.29it/s, lowest_mse=0.0401, pred_loss=36.6, trigger=0]"
     ]
    },
    {
     "name": "stdout",
     "output_type": "stream",
     "text": [
      "The batch_size is now:  1024\n"
     ]
    },
    {
     "name": "stderr",
     "output_type": "stream",
     "text": [
      "Epoch: 7015:  70%|█████████████████████████████████████████████████████████████████████████████▏                                | 7015/10000 [07:23<03:08, 15.83it/s, lowest_mse=0.0397, pred_loss=36.3, trigger=0]\n"
     ]
    },
    {
     "name": "stdout",
     "output_type": "stream",
     "text": [
      "The batch_size is now:  2048\n",
      "Adam holdout\n",
      "The train error is 36.32 for SOAP\n",
      "The test error is 44.49 for SOAP\n"
     ]
    }
   ],
   "source": [
    "weights, loss_dos, test_loss_dos = normal_reg_train_Ad(total_soap, total_aligned_dos1,\n",
    "                                                       holdout_train_index, holdout_test_index,\n",
    "                                                       1e-2, 10000, 16, 1e-3)\n",
    "print (\"Adam holdout\")\n",
    "print (\"The train error is {:.4} for SOAP\".format(loss_dos))\n",
    "print (\"The test error is {:.4} for SOAP\".format(test_loss_dos))"
   ]
  },
  {
   "cell_type": "markdown",
   "id": "a74c17f1",
   "metadata": {},
   "source": [
    "#### Total Aligned - 0.3 Kernel"
   ]
  },
  {
   "cell_type": "code",
   "execution_count": 147,
   "id": "b525898f",
   "metadata": {
    "ExecuteTime": {
     "end_time": "2023-04-22T09:30:48.940295Z",
     "start_time": "2023-04-22T09:27:17.850812Z"
    }
   },
   "outputs": [
    {
     "name": "stderr",
     "output_type": "stream",
     "text": [
      "Epoch: 808:   8%|█████████                                                                                                       | 807/10000 [01:30<13:16, 11.54it/s, lowest_mse=0.0445, pred_loss=56.3, trigger=0]"
     ]
    },
    {
     "name": "stdout",
     "output_type": "stream",
     "text": [
      "The batch_size is now:  32\n"
     ]
    },
    {
     "name": "stderr",
     "output_type": "stream",
     "text": [
      "Epoch: 1614:  16%|█████████████████▋                                                                                            | 1612/10000 [02:21<14:11,  9.85it/s, lowest_mse=0.0364, pred_loss=45.8, trigger=0]"
     ]
    },
    {
     "name": "stdout",
     "output_type": "stream",
     "text": [
      "The batch_size is now:  64\n"
     ]
    },
    {
     "name": "stderr",
     "output_type": "stream",
     "text": [
      "Epoch: 2422:  24%|██████████████████████████▋                                                                                   | 2423/10000 [02:48<03:14, 38.91it/s, lowest_mse=0.0337, pred_loss=43.5, trigger=0]"
     ]
    },
    {
     "name": "stdout",
     "output_type": "stream",
     "text": [
      "The batch_size is now:  128\n"
     ]
    },
    {
     "name": "stderr",
     "output_type": "stream",
     "text": [
      "Epoch: 3232:  32%|███████████████████████████████████▌                                                                          | 3231/10000 [03:04<01:49, 61.93it/s, lowest_mse=0.0325, pred_loss=43.5, trigger=0]"
     ]
    },
    {
     "name": "stdout",
     "output_type": "stream",
     "text": [
      "The batch_size is now:  256\n"
     ]
    },
    {
     "name": "stderr",
     "output_type": "stream",
     "text": [
      "Epoch: 4039:  40%|████████████████████████████████████████████▊                                                                  | 4033/10000 [03:15<01:13, 81.08it/s, lowest_mse=0.032, pred_loss=39.9, trigger=0]"
     ]
    },
    {
     "name": "stdout",
     "output_type": "stream",
     "text": [
      "The batch_size is now:  512\n"
     ]
    },
    {
     "name": "stderr",
     "output_type": "stream",
     "text": [
      "Epoch: 4848:  48%|████████████████████████████████████████████████████▊                                                        | 4847/10000 [03:24<00:50, 102.53it/s, lowest_mse=0.0316, pred_loss=53.5, trigger=0]"
     ]
    },
    {
     "name": "stdout",
     "output_type": "stream",
     "text": [
      "The batch_size is now:  1024\n"
     ]
    },
    {
     "name": "stderr",
     "output_type": "stream",
     "text": [
      "Epoch: 5629:  56%|█████████████████████████████████████████████████████████████▉                                                | 5629/10000 [03:31<02:43, 26.67it/s, lowest_mse=0.0313, pred_loss=37.6, trigger=0]\n"
     ]
    },
    {
     "name": "stdout",
     "output_type": "stream",
     "text": [
      "The batch_size is now:  2048\n",
      "Adam Unbiased\n",
      "The train error is 37.59 for KERNEL\n",
      "The test error is 38.46 for KERNEL\n"
     ]
    }
   ],
   "source": [
    "A_U_weights_03, loss_dos, test_loss_dos = kernel_reg_train_Ad(total_kernel_150, total_aligned_dos3,\n",
    "                                                              total_train_index, total_test_index,\n",
    "                                                              total_kMM_150, 1e-2, 10000, 16, 1e-3)\n",
    "\n",
    "print (\"Adam Unbiased\")\n",
    "print (\"The train error is {:.4} for KERNEL\".format(loss_dos))\n",
    "print (\"The test error is {:.4} for KERNEL\".format(test_loss_dos))"
   ]
  },
  {
   "cell_type": "code",
   "execution_count": 148,
   "id": "9fef8d7a",
   "metadata": {
    "ExecuteTime": {
     "end_time": "2023-04-22T09:34:13.542127Z",
     "start_time": "2023-04-22T09:30:48.943189Z"
    }
   },
   "outputs": [
    {
     "name": "stderr",
     "output_type": "stream",
     "text": [
      "Epoch: 808:   8%|█████████                                                                                                       | 807/10000 [01:28<13:08, 11.66it/s, lowest_mse=0.0449, pred_loss=57.2, trigger=0]"
     ]
    },
    {
     "name": "stdout",
     "output_type": "stream",
     "text": [
      "The batch_size is now:  32\n"
     ]
    },
    {
     "name": "stderr",
     "output_type": "stream",
     "text": [
      "Epoch: 1615:  16%|█████████████████▋                                                                                            | 1613/10000 [02:15<06:32, 21.39it/s, lowest_mse=0.0368, pred_loss=44.2, trigger=0]"
     ]
    },
    {
     "name": "stdout",
     "output_type": "stream",
     "text": [
      "The batch_size is now:  64\n"
     ]
    },
    {
     "name": "stderr",
     "output_type": "stream",
     "text": [
      "Epoch: 2422:  24%|██████████████████████████▋                                                                                   | 2422/10000 [02:41<03:19, 37.92it/s, lowest_mse=0.0343, pred_loss=40.8, trigger=0]"
     ]
    },
    {
     "name": "stdout",
     "output_type": "stream",
     "text": [
      "The batch_size is now:  128\n"
     ]
    },
    {
     "name": "stderr",
     "output_type": "stream",
     "text": [
      "Epoch: 3232:  32%|███████████████████████████████████▍                                                                          | 3227/10000 [02:57<01:54, 59.34it/s, lowest_mse=0.0332, pred_loss=41.6, trigger=0]"
     ]
    },
    {
     "name": "stdout",
     "output_type": "stream",
     "text": [
      "The batch_size is now:  256\n"
     ]
    },
    {
     "name": "stderr",
     "output_type": "stream",
     "text": [
      "Epoch: 4039:  40%|█████████████████████████████████████████████▏                                                                  | 4038/10000 [03:08<01:12, 82.79it/s, lowest_mse=0.0327, pred_loss=41, trigger=0]"
     ]
    },
    {
     "name": "stdout",
     "output_type": "stream",
     "text": [
      "The batch_size is now:  512\n"
     ]
    },
    {
     "name": "stderr",
     "output_type": "stream",
     "text": [
      "Epoch: 4847:  48%|██████████████████████████████████████████████████████▎                                                         | 4844/10000 [03:17<00:53, 96.37it/s, lowest_mse=0.0324, pred_loss=52, trigger=0]"
     ]
    },
    {
     "name": "stdout",
     "output_type": "stream",
     "text": [
      "The batch_size is now:  1024\n"
     ]
    },
    {
     "name": "stderr",
     "output_type": "stream",
     "text": [
      "Epoch: 5629:  56%|█████████████████████████████████████████████████████████████▉                                                | 5629/10000 [03:24<02:38, 27.52it/s, lowest_mse=0.0321, pred_loss=36.7, trigger=0]\n"
     ]
    },
    {
     "name": "stdout",
     "output_type": "stream",
     "text": [
      "The batch_size is now:  2048\n",
      "Adam Biased\n",
      "The train error is 36.69 for KERNEL\n",
      "The test error is 46.22 for KERNEL\n"
     ]
    }
   ],
   "source": [
    "A_U_weights_03, loss_dos, test_loss_dos = kernel_reg_train_Ad(total_kernel_150, total_aligned_dos3,\n",
    "                                                              total_biased_train_index, total_biased_test_index,\n",
    "                                                              total_kMM_150, 1e-2, 10000, 16, 1e-3)\n",
    "\n",
    "print (\"Adam Biased\")\n",
    "print (\"The train error is {:.4} for KERNEL\".format(loss_dos))\n",
    "print (\"The test error is {:.4} for KERNEL\".format(test_loss_dos))"
   ]
  },
  {
   "cell_type": "code",
   "execution_count": 149,
   "id": "00a715fc",
   "metadata": {
    "ExecuteTime": {
     "end_time": "2023-04-22T09:37:23.233069Z",
     "start_time": "2023-04-22T09:34:13.543762Z"
    }
   },
   "outputs": [
    {
     "name": "stderr",
     "output_type": "stream",
     "text": [
      "Epoch: 808:   8%|█████████                                                                                                       | 808/10000 [01:20<12:11, 12.56it/s, lowest_mse=0.0432, pred_loss=50.8, trigger=0]"
     ]
    },
    {
     "name": "stdout",
     "output_type": "stream",
     "text": [
      "The batch_size is now:  32\n"
     ]
    },
    {
     "name": "stderr",
     "output_type": "stream",
     "text": [
      "Epoch: 1615:  16%|█████████████████▊                                                                                            | 1615/10000 [02:04<05:45, 24.25it/s, lowest_mse=0.0349, pred_loss=42.6, trigger=0]"
     ]
    },
    {
     "name": "stdout",
     "output_type": "stream",
     "text": [
      "The batch_size is now:  64\n"
     ]
    },
    {
     "name": "stderr",
     "output_type": "stream",
     "text": [
      "Epoch: 2424:  24%|██████████████████████████▌                                                                                   | 2420/10000 [02:30<03:12, 39.46it/s, lowest_mse=0.0321, pred_loss=40.8, trigger=0]"
     ]
    },
    {
     "name": "stdout",
     "output_type": "stream",
     "text": [
      "The batch_size is now:  128\n"
     ]
    },
    {
     "name": "stderr",
     "output_type": "stream",
     "text": [
      "Epoch: 3233:  32%|███████████████████████████████████▍                                                                          | 3226/10000 [02:45<01:46, 63.41it/s, lowest_mse=0.0308, pred_loss=39.4, trigger=0]"
     ]
    },
    {
     "name": "stdout",
     "output_type": "stream",
     "text": [
      "The batch_size is now:  256\n"
     ]
    },
    {
     "name": "stderr",
     "output_type": "stream",
     "text": [
      "Epoch: 4040:  40%|████████████████████████████████████████████▎                                                                 | 4033/10000 [02:55<01:08, 87.15it/s, lowest_mse=0.0301, pred_loss=38.6, trigger=0]"
     ]
    },
    {
     "name": "stdout",
     "output_type": "stream",
     "text": [
      "The batch_size is now:  512\n"
     ]
    },
    {
     "name": "stderr",
     "output_type": "stream",
     "text": [
      "Epoch: 4850:  48%|████████████████████████████████████████████████████▋                                                        | 4838/10000 [03:03<00:48, 107.45it/s, lowest_mse=0.0297, pred_loss=41.2, trigger=0]"
     ]
    },
    {
     "name": "stdout",
     "output_type": "stream",
     "text": [
      "The batch_size is now:  1024\n"
     ]
    },
    {
     "name": "stderr",
     "output_type": "stream",
     "text": [
      "Epoch: 5629:  56%|█████████████████████████████████████████████████████████████▉                                                | 5629/10000 [03:09<02:27, 29.68it/s, lowest_mse=0.0293, pred_loss=36.7, trigger=0]\n"
     ]
    },
    {
     "name": "stdout",
     "output_type": "stream",
     "text": [
      "The batch_size is now:  2048\n",
      "Adam holdout\n",
      "The train error is 36.71 for KERNEL\n",
      "The test error is 43.37 for KERNEL\n"
     ]
    }
   ],
   "source": [
    "A_U_weights_03, loss_dos, test_loss_dos = kernel_reg_train_Ad(total_kernel_100, total_aligned_dos3,\n",
    "                                                              holdout_train_index, holdout_test_index,\n",
    "                                                              total_kMM_100, 1e-2, 10000, 16, 1e-3)\n",
    "\n",
    "print (\"Adam holdout\")\n",
    "print (\"The train error is {:.4} for KERNEL\".format(loss_dos))\n",
    "print (\"The test error is {:.4} for KERNEL\".format(test_loss_dos))"
   ]
  },
  {
   "cell_type": "markdown",
   "id": "8dc90d48",
   "metadata": {},
   "source": [
    "#### Total Aligned - 0.1 Kernel "
   ]
  },
  {
   "cell_type": "code",
   "execution_count": 150,
   "id": "2c9b024d",
   "metadata": {
    "ExecuteTime": {
     "end_time": "2023-04-22T09:40:51.339093Z",
     "start_time": "2023-04-22T09:37:23.235208Z"
    }
   },
   "outputs": [
    {
     "name": "stderr",
     "output_type": "stream",
     "text": [
      "Epoch: 808:   8%|█████████                                                                                                        | 807/10000 [01:30<13:21, 11.47it/s, lowest_mse=0.099, pred_loss=67.9, trigger=0]"
     ]
    },
    {
     "name": "stdout",
     "output_type": "stream",
     "text": [
      "The batch_size is now:  32\n"
     ]
    },
    {
     "name": "stderr",
     "output_type": "stream",
     "text": [
      "Epoch: 1615:  16%|█████████████████▋                                                                                            | 1613/10000 [02:19<06:38, 21.05it/s, lowest_mse=0.0886, pred_loss=61.1, trigger=0]"
     ]
    },
    {
     "name": "stdout",
     "output_type": "stream",
     "text": [
      "The batch_size is now:  64\n"
     ]
    },
    {
     "name": "stderr",
     "output_type": "stream",
     "text": [
      "Epoch: 2423:  24%|██████████████████████████▌                                                                                   | 2418/10000 [02:45<03:36, 35.09it/s, lowest_mse=0.0844, pred_loss=58.5, trigger=0]"
     ]
    },
    {
     "name": "stdout",
     "output_type": "stream",
     "text": [
      "The batch_size is now:  128\n"
     ]
    },
    {
     "name": "stderr",
     "output_type": "stream",
     "text": [
      "Epoch: 3232:  32%|███████████████████████████████████▍                                                                          | 3225/10000 [03:01<01:57, 57.65it/s, lowest_mse=0.0824, pred_loss=55.4, trigger=0]"
     ]
    },
    {
     "name": "stdout",
     "output_type": "stream",
     "text": [
      "The batch_size is now:  256\n"
     ]
    },
    {
     "name": "stderr",
     "output_type": "stream",
     "text": [
      "Epoch: 4039:  40%|████████████████████████████████████████████▍                                                                 | 4036/10000 [03:12<01:12, 81.98it/s, lowest_mse=0.0812, pred_loss=55.5, trigger=0]"
     ]
    },
    {
     "name": "stdout",
     "output_type": "stream",
     "text": [
      "The batch_size is now:  512\n"
     ]
    },
    {
     "name": "stderr",
     "output_type": "stream",
     "text": [
      "Epoch: 4848:  48%|█████████████████████████████████████████████████████▏                                                        | 4838/10000 [03:21<00:52, 99.16it/s, lowest_mse=0.0805, pred_loss=58.4, trigger=0]"
     ]
    },
    {
     "name": "stdout",
     "output_type": "stream",
     "text": [
      "The batch_size is now:  1024\n"
     ]
    },
    {
     "name": "stderr",
     "output_type": "stream",
     "text": [
      "Epoch: 5629:  56%|█████████████████████████████████████████████████████████████▉                                                | 5629/10000 [03:28<02:41, 27.05it/s, lowest_mse=0.0799, pred_loss=51.2, trigger=0]"
     ]
    },
    {
     "name": "stdout",
     "output_type": "stream",
     "text": [
      "The batch_size is now:  2048\n",
      "Adam Unbiased\n",
      "The train error is 51.2 for KERNEL\n",
      "The test error is 52.35 for KERNEL\n"
     ]
    },
    {
     "name": "stderr",
     "output_type": "stream",
     "text": [
      "\n"
     ]
    }
   ],
   "source": [
    "A_U_weights_03, loss_dos, test_loss_dos = kernel_reg_train_Ad(total_kernel_150, total_aligned_dos1,\n",
    "                                                              total_train_index, total_test_index,\n",
    "                                                              total_kMM_150, 1e-1, 10000, 16, 1e-3)\n",
    "\n",
    "print (\"Adam Unbiased\")\n",
    "print (\"The train error is {:.4} for KERNEL\".format(loss_dos))\n",
    "print (\"The test error is {:.4} for KERNEL\".format(test_loss_dos))"
   ]
  },
  {
   "cell_type": "code",
   "execution_count": 151,
   "id": "8a80d986",
   "metadata": {
    "ExecuteTime": {
     "end_time": "2023-04-22T09:44:23.405819Z",
     "start_time": "2023-04-22T09:40:51.340714Z"
    }
   },
   "outputs": [
    {
     "name": "stderr",
     "output_type": "stream",
     "text": [
      "Epoch: 808:   8%|█████████                                                                                                        | 807/10000 [01:29<13:38, 11.23it/s, lowest_mse=0.102, pred_loss=76.4, trigger=0]"
     ]
    },
    {
     "name": "stdout",
     "output_type": "stream",
     "text": [
      "The batch_size is now:  32\n"
     ]
    },
    {
     "name": "stderr",
     "output_type": "stream",
     "text": [
      "Epoch: 1615:  16%|█████████████████▋                                                                                            | 1613/10000 [02:18<06:38, 21.05it/s, lowest_mse=0.0915, pred_loss=57.7, trigger=0]"
     ]
    },
    {
     "name": "stdout",
     "output_type": "stream",
     "text": [
      "The batch_size is now:  64\n"
     ]
    },
    {
     "name": "stderr",
     "output_type": "stream",
     "text": [
      "Epoch: 2422:  24%|██████████████████████████▌                                                                                   | 2418/10000 [02:46<03:39, 34.58it/s, lowest_mse=0.0873, pred_loss=55.9, trigger=0]"
     ]
    },
    {
     "name": "stdout",
     "output_type": "stream",
     "text": [
      "The batch_size is now:  128\n"
     ]
    },
    {
     "name": "stderr",
     "output_type": "stream",
     "text": [
      "Epoch: 3231:  32%|████████████████████████████████████▏                                                                           | 3226/10000 [03:03<02:13, 50.84it/s, lowest_mse=0.0853, pred_loss=57, trigger=0]"
     ]
    },
    {
     "name": "stdout",
     "output_type": "stream",
     "text": [
      "The batch_size is now:  256\n"
     ]
    },
    {
     "name": "stderr",
     "output_type": "stream",
     "text": [
      "Epoch: 4035:  40%|█████████████████████████████████████████████▏                                                                  | 4031/10000 [03:15<01:32, 64.73it/s, lowest_mse=0.0841, pred_loss=53, trigger=0]"
     ]
    },
    {
     "name": "stdout",
     "output_type": "stream",
     "text": [
      "The batch_size is now:  512\n"
     ]
    },
    {
     "name": "stderr",
     "output_type": "stream",
     "text": [
      "Epoch: 4848:  48%|████████████████████████████████████████████████████▊                                                        | 4844/10000 [03:25<00:50, 101.62it/s, lowest_mse=0.0834, pred_loss=57.2, trigger=0]"
     ]
    },
    {
     "name": "stdout",
     "output_type": "stream",
     "text": [
      "The batch_size is now:  1024\n"
     ]
    },
    {
     "name": "stderr",
     "output_type": "stream",
     "text": [
      "Epoch: 5629:  56%|█████████████████████████████████████████████████████████████▉                                                | 5629/10000 [03:32<02:44, 26.55it/s, lowest_mse=0.0828, pred_loss=50.4, trigger=0]\n"
     ]
    },
    {
     "name": "stdout",
     "output_type": "stream",
     "text": [
      "The batch_size is now:  2048\n",
      "Adam Biased\n",
      "The train error is 50.45 for KERNEL\n",
      "The test error is 60.13 for KERNEL\n"
     ]
    }
   ],
   "source": [
    "A_U_weights_03, loss_dos, test_loss_dos = kernel_reg_train_Ad(total_kernel_150, total_aligned_dos1,\n",
    "                                                              total_biased_train_index, total_biased_test_index,\n",
    "                                                              total_kMM_150, 1e-1, 10000, 16, 1e-3)\n",
    "\n",
    "print (\"Adam Biased\")\n",
    "print (\"The train error is {:.4} for KERNEL\".format(loss_dos))\n",
    "print (\"The test error is {:.4} for KERNEL\".format(test_loss_dos))"
   ]
  },
  {
   "cell_type": "code",
   "execution_count": 152,
   "id": "e42d0050",
   "metadata": {
    "ExecuteTime": {
     "end_time": "2023-04-22T09:47:34.786699Z",
     "start_time": "2023-04-22T09:44:23.407419Z"
    }
   },
   "outputs": [
    {
     "name": "stderr",
     "output_type": "stream",
     "text": [
      "Epoch: 808:   8%|█████████                                                                                                       | 807/10000 [01:21<13:00, 11.77it/s, lowest_mse=0.0987, pred_loss=61.5, trigger=0]"
     ]
    },
    {
     "name": "stdout",
     "output_type": "stream",
     "text": [
      "The batch_size is now:  32\n"
     ]
    },
    {
     "name": "stderr",
     "output_type": "stream",
     "text": [
      "Epoch: 1615:  16%|█████████████████▋                                                                                            | 1613/10000 [02:05<06:08, 22.79it/s, lowest_mse=0.0879, pred_loss=57.2, trigger=0]"
     ]
    },
    {
     "name": "stdout",
     "output_type": "stream",
     "text": [
      "The batch_size is now:  64\n"
     ]
    },
    {
     "name": "stderr",
     "output_type": "stream",
     "text": [
      "Epoch: 2424:  24%|██████████████████████████▋                                                                                   | 2422/10000 [02:30<03:04, 41.16it/s, lowest_mse=0.0836, pred_loss=54.7, trigger=0]"
     ]
    },
    {
     "name": "stdout",
     "output_type": "stream",
     "text": [
      "The batch_size is now:  128\n"
     ]
    },
    {
     "name": "stderr",
     "output_type": "stream",
     "text": [
      "Epoch: 3233:  32%|███████████████████████████████████▌                                                                          | 3230/10000 [02:45<01:41, 66.81it/s, lowest_mse=0.0815, pred_loss=53.4, trigger=0]"
     ]
    },
    {
     "name": "stdout",
     "output_type": "stream",
     "text": [
      "The batch_size is now:  256\n"
     ]
    },
    {
     "name": "stderr",
     "output_type": "stream",
     "text": [
      "Epoch: 4039:  40%|████████████████████████████████████████████▎                                                                 | 4031/10000 [02:55<01:14, 80.51it/s, lowest_mse=0.0802, pred_loss=53.2, trigger=0]"
     ]
    },
    {
     "name": "stdout",
     "output_type": "stream",
     "text": [
      "The batch_size is now:  512\n"
     ]
    },
    {
     "name": "stderr",
     "output_type": "stream",
     "text": [
      "Epoch: 4846:  48%|█████████████████████████████████████████████████████▏                                                        | 4840/10000 [03:04<00:52, 97.82it/s, lowest_mse=0.0792, pred_loss=54.7, trigger=0]"
     ]
    },
    {
     "name": "stdout",
     "output_type": "stream",
     "text": [
      "The batch_size is now:  1024\n"
     ]
    },
    {
     "name": "stderr",
     "output_type": "stream",
     "text": [
      "Epoch: 5629:  56%|█████████████████████████████████████████████████████████████▉                                                | 5629/10000 [03:11<02:28, 29.42it/s, lowest_mse=0.0786, pred_loss=51.1, trigger=0]\n"
     ]
    },
    {
     "name": "stdout",
     "output_type": "stream",
     "text": [
      "The batch_size is now:  2048\n",
      "Adam holdout\n",
      "The train error is 51.07 for KERNEL\n",
      "The test error is 55.2 for KERNEL\n"
     ]
    }
   ],
   "source": [
    "A_U_weights_03, loss_dos, test_loss_dos = kernel_reg_train_Ad(total_kernel_100, total_aligned_dos1,\n",
    "                                                              holdout_train_index, holdout_test_index,\n",
    "                                                              total_kMM_100, 1e-2, 10000, 16, 1e-3)\n",
    "\n",
    "print (\"Adam holdout\")\n",
    "print (\"The train error is {:.4} for KERNEL\".format(loss_dos))\n",
    "print (\"The test error is {:.4} for KERNEL\".format(test_loss_dos))"
   ]
  },
  {
   "cell_type": "code",
   "execution_count": null,
   "id": "70833fa5",
   "metadata": {},
   "outputs": [],
   "source": []
  },
  {
   "cell_type": "code",
   "execution_count": null,
   "id": "f96c1e09",
   "metadata": {},
   "outputs": [],
   "source": []
  },
  {
   "cell_type": "code",
   "execution_count": null,
   "id": "277de7cf",
   "metadata": {},
   "outputs": [],
   "source": []
  },
  {
   "cell_type": "markdown",
   "id": "b4ede87a",
   "metadata": {},
   "source": [
    "## Baseline GD Model - LBFGS"
   ]
  },
  {
   "cell_type": "markdown",
   "id": "55c6da35",
   "metadata": {},
   "source": [
    "### Surfaces"
   ]
  },
  {
   "cell_type": "markdown",
   "id": "1cfa5b37",
   "metadata": {},
   "source": [
    "#### Surfaces - 0.3 SOAP "
   ]
  },
  {
   "cell_type": "code",
   "execution_count": 240,
   "id": "6116ad5a",
   "metadata": {
    "ExecuteTime": {
     "end_time": "2023-04-24T13:24:10.873635Z",
     "start_time": "2023-04-24T13:24:07.650028Z"
    }
   },
   "outputs": [
    {
     "name": "stderr",
     "output_type": "stream",
     "text": [
      "Epoch: 5: 100%|███████████████████████████████████████████████████████████████████████████████████████████████████████████████████████| 6/6 [00:03<00:00,  1.88it/s, lowest_mse=0.00555, pred_loss=28.2, trigger=0]"
     ]
    },
    {
     "name": "stdout",
     "output_type": "stream",
     "text": [
      "LBFGS Unbiased\n",
      "The train error is 28.21 for SOAP\n",
      "The test error is 44.11 for SOAP\n"
     ]
    },
    {
     "name": "stderr",
     "output_type": "stream",
     "text": [
      "\n"
     ]
    }
   ],
   "source": [
    "U_L_weights3 , loss_dos, test_loss_dos = normal_reg_train_L(surface_soap, surface_dos3, surface_train_index, surface_test_index,\n",
    "                                                            1e-2, 6, 1)\n",
    "print (\"LBFGS Unbiased\")\n",
    "print (\"The train error is {:.4} for SOAP\".format(loss_dos))\n",
    "print (\"The test error is {:.4} for SOAP\".format(test_loss_dos))"
   ]
  },
  {
   "cell_type": "code",
   "execution_count": 245,
   "id": "6dbe4445",
   "metadata": {
    "ExecuteTime": {
     "end_time": "2023-04-24T13:24:59.373984Z",
     "start_time": "2023-04-24T13:24:54.362029Z"
    }
   },
   "outputs": [
    {
     "name": "stderr",
     "output_type": "stream",
     "text": [
      "Epoch: 9: 100%|██████████████████████████████████████████████████████████████████████████████████████████████████████████████████████| 10/10 [00:04<00:00,  2.01it/s, lowest_mse=0.0131, pred_loss=49.4, trigger=0]"
     ]
    },
    {
     "name": "stdout",
     "output_type": "stream",
     "text": [
      "LBFGS holdout\n",
      "The train error is 48.58 for SOAP\n",
      "The test error is 124.2 for SOAP\n"
     ]
    },
    {
     "name": "stderr",
     "output_type": "stream",
     "text": [
      "\n"
     ]
    }
   ],
   "source": [
    "U_L_weights3 , loss_dos, test_loss_dos = normal_reg_train_L(surface_soap, surface_dos3, surface_holdout_train_index, surface_holdout_test_index,\n",
    "                                                            1e-1, 10, 1)\n",
    "print (\"LBFGS holdout\")\n",
    "print (\"The train error is {:.4} for SOAP\".format(loss_dos))\n",
    "print (\"The test error is {:.4} for SOAP\".format(test_loss_dos))"
   ]
  },
  {
   "cell_type": "markdown",
   "id": "7e8a70d3",
   "metadata": {},
   "source": [
    "#### Surfaces - 0.1 SOAP "
   ]
  },
  {
   "cell_type": "code",
   "execution_count": 246,
   "id": "6c6f908c",
   "metadata": {
    "ExecuteTime": {
     "end_time": "2023-04-24T13:25:09.190019Z",
     "start_time": "2023-04-24T13:25:03.111480Z"
    }
   },
   "outputs": [
    {
     "name": "stderr",
     "output_type": "stream",
     "text": [
      "Epoch: 9: 100%|██████████████████████████████████████████████████████████████████████████████████████████████████████████████████████| 10/10 [00:06<00:00,  1.65it/s, lowest_mse=0.0187, pred_loss=39.1, trigger=0]"
     ]
    },
    {
     "name": "stdout",
     "output_type": "stream",
     "text": [
      "LBFGS Unbiased\n",
      "The train error is 39.02 for SOAP\n",
      "The test error is 58.14 for SOAP\n"
     ]
    },
    {
     "name": "stderr",
     "output_type": "stream",
     "text": [
      "\n"
     ]
    }
   ],
   "source": [
    "U_L_weights3 , loss_dos, test_loss_dos = normal_reg_train_L(surface_soap, surface_dos1,\n",
    "                                                            surface_train_index, surface_test_index,\n",
    "                                                            1e-2, 10, 1)\n",
    "print (\"LBFGS Unbiased\")\n",
    "print (\"The train error is {:.4} for SOAP\".format(loss_dos))\n",
    "print (\"The test error is {:.4} for SOAP\".format(test_loss_dos))"
   ]
  },
  {
   "cell_type": "code",
   "execution_count": 247,
   "id": "c554fbfb",
   "metadata": {
    "ExecuteTime": {
     "end_time": "2023-04-24T13:25:13.841964Z",
     "start_time": "2023-04-24T13:25:09.191863Z"
    }
   },
   "outputs": [
    {
     "name": "stderr",
     "output_type": "stream",
     "text": [
      "Epoch: 9: 100%|████████████████████████████████████████████████████████████████████████████████████████████████████████████████████████| 10/10 [00:04<00:00,  2.16it/s, lowest_mse=0.0361, pred_loss=60, trigger=0]"
     ]
    },
    {
     "name": "stdout",
     "output_type": "stream",
     "text": [
      "LBFGS holdout\n",
      "The train error is 59.09 for SOAP\n",
      "The test error is 130.2 for SOAP\n"
     ]
    },
    {
     "name": "stderr",
     "output_type": "stream",
     "text": [
      "\n"
     ]
    }
   ],
   "source": [
    "U_L_weights3 , loss_dos, test_loss_dos = normal_reg_train_L(surface_soap, surface_dos1, surface_holdout_train_index, surface_holdout_test_index,\n",
    "                                                            1e-1, 10, 1)\n",
    "print (\"LBFGS holdout\")\n",
    "print (\"The train error is {:.4} for SOAP\".format(loss_dos))\n",
    "print (\"The test error is {:.4} for SOAP\".format(test_loss_dos))"
   ]
  },
  {
   "cell_type": "markdown",
   "id": "51d25f75",
   "metadata": {},
   "source": [
    "#### Surfaces - 0.3 Kernel"
   ]
  },
  {
   "cell_type": "code",
   "execution_count": 248,
   "id": "5d5e36ee",
   "metadata": {
    "ExecuteTime": {
     "end_time": "2023-04-24T13:25:15.520775Z",
     "start_time": "2023-04-24T13:25:13.843671Z"
    }
   },
   "outputs": [
    {
     "name": "stderr",
     "output_type": "stream",
     "text": [
      "Epoch: 9: 100%|█████████████████████████████████████████████████████████████████████████████████████████████████████████████████████| 10/10 [00:01<00:00,  6.07it/s, lowest_mse=0.00915, pred_loss=36.2, trigger=0]"
     ]
    },
    {
     "name": "stdout",
     "output_type": "stream",
     "text": [
      "LBFGS Unbiased\n",
      "The train error is 36.22 for Kernel\n",
      "The test error is 50.28 for Kernel\n"
     ]
    },
    {
     "name": "stderr",
     "output_type": "stream",
     "text": [
      "\n"
     ]
    }
   ],
   "source": [
    "U_L_weights3 , loss_dos, test_loss_dos = kernel_reg_train_L(surface_kernel_30, surface_dos3,\n",
    "                                                            surface_train_index, surface_test_index,\n",
    "                                                            surface_kMM_30, 1e-2, 10, 1)\n",
    "print (\"LBFGS Unbiased\")\n",
    "print (\"The train error is {:.4} for Kernel\".format(loss_dos))\n",
    "print (\"The test error is {:.4} for Kernel\".format(test_loss_dos))"
   ]
  },
  {
   "cell_type": "code",
   "execution_count": 249,
   "id": "2bc6ac43",
   "metadata": {
    "ExecuteTime": {
     "end_time": "2023-04-24T13:25:17.546987Z",
     "start_time": "2023-04-24T13:25:15.522398Z"
    }
   },
   "outputs": [
    {
     "name": "stderr",
     "output_type": "stream",
     "text": [
      "Epoch: 9: 100%|███████████████████████████████████████████████████████████████████████████████████████████████████████████████████████| 10/10 [00:02<00:00,  4.96it/s, lowest_mse=0.00763, pred_loss=37, trigger=0]"
     ]
    },
    {
     "name": "stdout",
     "output_type": "stream",
     "text": [
      "LBFGS Holdout\n",
      "The train error is 37.04 for Kernel\n",
      "The test error is 125.8 for Kernel\n"
     ]
    },
    {
     "name": "stderr",
     "output_type": "stream",
     "text": [
      "\n"
     ]
    }
   ],
   "source": [
    "U_L_weights3 , loss_dos, test_loss_dos = kernel_reg_train_L(surface_kernel_30, surface_dos3,\n",
    "                                                            surface_holdout_train_index, surface_holdout_test_index,\n",
    "                                                            surface_kMM_30, 1e-2, 10, 1)\n",
    "print (\"LBFGS Holdout\")\n",
    "print (\"The train error is {:.4} for Kernel\".format(loss_dos))\n",
    "print (\"The test error is {:.4} for Kernel\".format(test_loss_dos))"
   ]
  },
  {
   "cell_type": "markdown",
   "id": "febe6f61",
   "metadata": {},
   "source": [
    "#### Surfaces - 0.1 Kernel"
   ]
  },
  {
   "cell_type": "code",
   "execution_count": 250,
   "id": "b721c73b",
   "metadata": {
    "ExecuteTime": {
     "end_time": "2023-04-24T13:25:20.217449Z",
     "start_time": "2023-04-24T13:25:17.548854Z"
    }
   },
   "outputs": [
    {
     "name": "stderr",
     "output_type": "stream",
     "text": [
      "Epoch: 9: 100%|██████████████████████████████████████████████████████████████████████████████████████████████████████████████████████| 10/10 [00:02<00:00,  3.76it/s, lowest_mse=0.0233, pred_loss=43.6, trigger=0]"
     ]
    },
    {
     "name": "stdout",
     "output_type": "stream",
     "text": [
      "LBFGS Unbiased\n",
      "The train error is 43.58 for Kernel\n",
      "The test error is 57.74 for Kernel\n"
     ]
    },
    {
     "name": "stderr",
     "output_type": "stream",
     "text": [
      "\n"
     ]
    }
   ],
   "source": [
    "U_L_weights3 , loss_dos, test_loss_dos = kernel_reg_train_L(surface_kernel_30, surface_dos1,\n",
    "                                                            surface_train_index, surface_test_index,\n",
    "                                                            surface_kMM_30, 1e-2, 10, 1)\n",
    "print (\"LBFGS Unbiased\")\n",
    "print (\"The train error is {:.4} for Kernel\".format(loss_dos))\n",
    "print (\"The test error is {:.4} for Kernel\".format(test_loss_dos))"
   ]
  },
  {
   "cell_type": "code",
   "execution_count": 251,
   "id": "a00d7d92",
   "metadata": {
    "ExecuteTime": {
     "end_time": "2023-04-24T13:25:21.454861Z",
     "start_time": "2023-04-24T13:25:20.219291Z"
    }
   },
   "outputs": [
    {
     "name": "stderr",
     "output_type": "stream",
     "text": [
      "Epoch: 9: 100%|██████████████████████████████████████████████████████████████████████████████████████████████████████████████████████| 10/10 [00:01<00:00,  8.16it/s, lowest_mse=0.0257, pred_loss=49.8, trigger=0]"
     ]
    },
    {
     "name": "stdout",
     "output_type": "stream",
     "text": [
      "LBFGS Holdout\n",
      "The train error is 49.83 for Kernel\n",
      "The test error is 132.5 for Kernel\n"
     ]
    },
    {
     "name": "stderr",
     "output_type": "stream",
     "text": [
      "\n"
     ]
    }
   ],
   "source": [
    "U_L_weights3 , loss_dos, test_loss_dos = kernel_reg_train_L(surface_kernel_30, surface_dos1,\n",
    "                                                            surface_holdout_train_index, surface_holdout_test_index,\n",
    "                                                            surface_kMM_30, 1e-2, 10, 1)\n",
    "print (\"LBFGS Holdout\")\n",
    "print (\"The train error is {:.4} for Kernel\".format(loss_dos))\n",
    "print (\"The test error is {:.4} for Kernel\".format(test_loss_dos))"
   ]
  },
  {
   "cell_type": "markdown",
   "id": "beb35ba4",
   "metadata": {},
   "source": [
    "### Surfaces Aligned"
   ]
  },
  {
   "cell_type": "markdown",
   "id": "3c1c96e4",
   "metadata": {},
   "source": [
    "#### Surfaces Aligned - 0.3 SOAP "
   ]
  },
  {
   "cell_type": "code",
   "execution_count": 252,
   "id": "ea04d9b6",
   "metadata": {
    "ExecuteTime": {
     "end_time": "2023-04-24T13:25:34.084936Z",
     "start_time": "2023-04-24T13:25:28.577414Z"
    }
   },
   "outputs": [
    {
     "name": "stderr",
     "output_type": "stream",
     "text": [
      "Epoch: 9: 100%|███████████████████████████████████████████████████████████████████████████████████████████████████████████████████████| 10/10 [00:05<00:00,  1.82it/s, lowest_mse=0.00579, pred_loss=30, trigger=0]"
     ]
    },
    {
     "name": "stdout",
     "output_type": "stream",
     "text": [
      "LBFGS Unbiased\n",
      "The train error is 30.01 for SOAP\n",
      "The test error is 45.27 for SOAP\n"
     ]
    },
    {
     "name": "stderr",
     "output_type": "stream",
     "text": [
      "\n"
     ]
    }
   ],
   "source": [
    "U_L_weights3 , loss_dos, test_loss_dos = normal_reg_train_L(surface_soap, surface_aligned_dos3, surface_train_index, surface_test_index,\n",
    "                                                            1e-2, 10, 1)\n",
    "print (\"LBFGS Unbiased\")\n",
    "print (\"The train error is {:.4} for SOAP\".format(loss_dos))\n",
    "print (\"The test error is {:.4} for SOAP\".format(test_loss_dos))"
   ]
  },
  {
   "cell_type": "code",
   "execution_count": 253,
   "id": "1cd3f655",
   "metadata": {
    "ExecuteTime": {
     "end_time": "2023-04-24T13:25:38.374380Z",
     "start_time": "2023-04-24T13:25:34.086830Z"
    }
   },
   "outputs": [
    {
     "name": "stderr",
     "output_type": "stream",
     "text": [
      "Epoch: 9: 100%|██████████████████████████████████████████████████████████████████████████████████████████████████████████████████████| 10/10 [00:04<00:00,  2.34it/s, lowest_mse=0.0128, pred_loss=49.8, trigger=0]"
     ]
    },
    {
     "name": "stdout",
     "output_type": "stream",
     "text": [
      "LBFGS holdout\n",
      "The train error is 49.8 for SOAP\n",
      "The test error is 123.3 for SOAP\n"
     ]
    },
    {
     "name": "stderr",
     "output_type": "stream",
     "text": [
      "\n"
     ]
    }
   ],
   "source": [
    "U_L_weights3 , loss_dos, test_loss_dos = normal_reg_train_L(surface_soap, surface_aligned_dos3, surface_holdout_train_index, surface_holdout_test_index,\n",
    "                                                            1e-1, 10, 1)\n",
    "print (\"LBFGS holdout\")\n",
    "print (\"The train error is {:.4} for SOAP\".format(loss_dos))\n",
    "print (\"The test error is {:.4} for SOAP\".format(test_loss_dos))"
   ]
  },
  {
   "cell_type": "markdown",
   "id": "fa5dc679",
   "metadata": {},
   "source": [
    "#### Surfaces Aligned - 0.1 SOAP "
   ]
  },
  {
   "cell_type": "code",
   "execution_count": 254,
   "id": "585500ef",
   "metadata": {
    "ExecuteTime": {
     "end_time": "2023-04-24T13:25:43.552978Z",
     "start_time": "2023-04-24T13:25:38.375873Z"
    }
   },
   "outputs": [
    {
     "name": "stderr",
     "output_type": "stream",
     "text": [
      "Epoch: 9: 100%|██████████████████████████████████████████████████████████████████████████████████████████████████████████████████████| 10/10 [00:05<00:00,  1.94it/s, lowest_mse=0.0186, pred_loss=40.1, trigger=0]"
     ]
    },
    {
     "name": "stdout",
     "output_type": "stream",
     "text": [
      "LBFGS Unbiased\n",
      "The train error is 40.03 for SOAP\n",
      "The test error is 59.22 for SOAP\n"
     ]
    },
    {
     "name": "stderr",
     "output_type": "stream",
     "text": [
      "\n"
     ]
    }
   ],
   "source": [
    "U_L_weights3 , loss_dos, test_loss_dos = normal_reg_train_L(surface_soap, surface_aligned_dos1,\n",
    "                                                            surface_train_index, surface_test_index,\n",
    "                                                            1e-2, 10, 1)\n",
    "print (\"LBFGS Unbiased\")\n",
    "print (\"The train error is {:.4} for SOAP\".format(loss_dos))\n",
    "print (\"The test error is {:.4} for SOAP\".format(test_loss_dos))"
   ]
  },
  {
   "cell_type": "code",
   "execution_count": 255,
   "id": "15b4bea8",
   "metadata": {
    "ExecuteTime": {
     "end_time": "2023-04-24T13:25:47.446679Z",
     "start_time": "2023-04-24T13:25:43.554946Z"
    }
   },
   "outputs": [
    {
     "name": "stderr",
     "output_type": "stream",
     "text": [
      "Epoch: 9: 100%|██████████████████████████████████████████████████████████████████████████████████████████████████████████████████████| 10/10 [00:03<00:00,  2.58it/s, lowest_mse=0.0356, pred_loss=60.8, trigger=0]"
     ]
    },
    {
     "name": "stdout",
     "output_type": "stream",
     "text": [
      "LBFGS holdout\n",
      "The train error is 60.18 for SOAP\n",
      "The test error is 127.8 for SOAP\n"
     ]
    },
    {
     "name": "stderr",
     "output_type": "stream",
     "text": [
      "\n"
     ]
    }
   ],
   "source": [
    "U_L_weights3 , loss_dos, test_loss_dos = normal_reg_train_L(surface_soap, surface_aligned_dos1, surface_holdout_train_index, surface_holdout_test_index,\n",
    "                                                            1e-1, 10, 1)\n",
    "print (\"LBFGS holdout\")\n",
    "print (\"The train error is {:.4} for SOAP\".format(loss_dos))\n",
    "print (\"The test error is {:.4} for SOAP\".format(test_loss_dos))"
   ]
  },
  {
   "cell_type": "markdown",
   "id": "331b76fb",
   "metadata": {},
   "source": [
    "#### Surfaces Aligned - 0.3 Kernel"
   ]
  },
  {
   "cell_type": "code",
   "execution_count": 256,
   "id": "12018a18",
   "metadata": {
    "ExecuteTime": {
     "end_time": "2023-04-24T13:25:49.920787Z",
     "start_time": "2023-04-24T13:25:47.448292Z"
    }
   },
   "outputs": [
    {
     "name": "stderr",
     "output_type": "stream",
     "text": [
      "Epoch: 9: 100%|█████████████████████████████████████████████████████████████████████████████████████████████████████████████████████| 10/10 [00:02<00:00,  4.12it/s, lowest_mse=0.00821, pred_loss=35.7, trigger=0]"
     ]
    },
    {
     "name": "stdout",
     "output_type": "stream",
     "text": [
      "LBFGS Unbiased\n",
      "The train error is 35.74 for Kernel\n",
      "The test error is 47.47 for Kernel\n"
     ]
    },
    {
     "name": "stderr",
     "output_type": "stream",
     "text": [
      "\n"
     ]
    }
   ],
   "source": [
    "U_L_weights3 , loss_dos, test_loss_dos = kernel_reg_train_L(surface_kernel_30, surface_aligned_dos3,\n",
    "                                                            surface_train_index, surface_test_index,\n",
    "                                                            surface_kMM_30, 1e-2, 10, 1)\n",
    "print (\"LBFGS Unbiased\")\n",
    "print (\"The train error is {:.4} for Kernel\".format(loss_dos))\n",
    "print (\"The test error is {:.4} for Kernel\".format(test_loss_dos))"
   ]
  },
  {
   "cell_type": "code",
   "execution_count": 257,
   "id": "4b532600",
   "metadata": {
    "ExecuteTime": {
     "end_time": "2023-04-24T13:25:52.236836Z",
     "start_time": "2023-04-24T13:25:49.922568Z"
    }
   },
   "outputs": [
    {
     "name": "stderr",
     "output_type": "stream",
     "text": [
      "Epoch: 9: 100%|█████████████████████████████████████████████████████████████████████████████████████████████████████████████████████| 10/10 [00:02<00:00,  4.34it/s, lowest_mse=0.00766, pred_loss=38.6, trigger=0]"
     ]
    },
    {
     "name": "stdout",
     "output_type": "stream",
     "text": [
      "LBFGS Holdout\n",
      "The train error is 38.61 for Kernel\n",
      "The test error is 122.2 for Kernel\n"
     ]
    },
    {
     "name": "stderr",
     "output_type": "stream",
     "text": [
      "\n"
     ]
    }
   ],
   "source": [
    "U_L_weights3 , loss_dos, test_loss_dos = kernel_reg_train_L(surface_kernel_30, surface_aligned_dos3,\n",
    "                                                            surface_holdout_train_index, surface_holdout_test_index,\n",
    "                                                            surface_kMM_30, 1e-2, 10, 1)\n",
    "print (\"LBFGS Holdout\")\n",
    "print (\"The train error is {:.4} for Kernel\".format(loss_dos))\n",
    "print (\"The test error is {:.4} for Kernel\".format(test_loss_dos))"
   ]
  },
  {
   "cell_type": "markdown",
   "id": "976b0f15",
   "metadata": {},
   "source": [
    "#### Surfaces Aligned - 0.1 Kernel"
   ]
  },
  {
   "cell_type": "code",
   "execution_count": 258,
   "id": "9966201a",
   "metadata": {
    "ExecuteTime": {
     "end_time": "2023-04-24T13:25:53.700262Z",
     "start_time": "2023-04-24T13:25:52.238455Z"
    }
   },
   "outputs": [
    {
     "name": "stderr",
     "output_type": "stream",
     "text": [
      "Epoch: 9: 100%|██████████████████████████████████████████████████████████████████████████████████████████████████████████████████████| 10/10 [00:01<00:00,  6.89it/s, lowest_mse=0.0253, pred_loss=46.7, trigger=0]"
     ]
    },
    {
     "name": "stdout",
     "output_type": "stream",
     "text": [
      "LBFGS Unbiased\n",
      "The train error is 46.72 for Kernel\n",
      "The test error is 60.85 for Kernel\n"
     ]
    },
    {
     "name": "stderr",
     "output_type": "stream",
     "text": [
      "\n"
     ]
    }
   ],
   "source": [
    "U_L_weights3 , loss_dos, test_loss_dos = kernel_reg_train_L(surface_kernel_30, surface_aligned_dos1,\n",
    "                                                            surface_train_index, surface_test_index,\n",
    "                                                            surface_kMM_30, 1e-2, 10, 1)\n",
    "print (\"LBFGS Unbiased\")\n",
    "print (\"The train error is {:.4} for Kernel\".format(loss_dos))\n",
    "print (\"The test error is {:.4} for Kernel\".format(test_loss_dos))"
   ]
  },
  {
   "cell_type": "code",
   "execution_count": 259,
   "id": "15f727a1",
   "metadata": {
    "ExecuteTime": {
     "end_time": "2023-04-24T13:25:55.869981Z",
     "start_time": "2023-04-24T13:25:53.702142Z"
    }
   },
   "outputs": [
    {
     "name": "stderr",
     "output_type": "stream",
     "text": [
      "Epoch: 9: 100%|██████████████████████████████████████████████████████████████████████████████████████████████████████████████████████| 10/10 [00:02<00:00,  4.63it/s, lowest_mse=0.0251, pred_loss=50.5, trigger=0]"
     ]
    },
    {
     "name": "stdout",
     "output_type": "stream",
     "text": [
      "LBFGS Holdout\n",
      "The train error is 50.51 for Kernel\n",
      "The test error is 132.9 for Kernel\n"
     ]
    },
    {
     "name": "stderr",
     "output_type": "stream",
     "text": [
      "\n"
     ]
    }
   ],
   "source": [
    "U_L_weights3 , loss_dos, test_loss_dos = kernel_reg_train_L(surface_kernel_30, surface_aligned_dos1,\n",
    "                                                            surface_holdout_train_index, surface_holdout_test_index,\n",
    "                                                            surface_kMM_30, 1e-2, 10, 1)\n",
    "print (\"LBFGS Holdout\")\n",
    "print (\"The train error is {:.4} for Kernel\".format(loss_dos))\n",
    "print (\"The test error is {:.4} for Kernel\".format(test_loss_dos))"
   ]
  },
  {
   "cell_type": "markdown",
   "id": "a355e95b",
   "metadata": {},
   "source": [
    "### Bulk"
   ]
  },
  {
   "cell_type": "markdown",
   "id": "0426588a",
   "metadata": {},
   "source": [
    "#### Bulk - 0.3 SOAP"
   ]
  },
  {
   "cell_type": "code",
   "execution_count": 263,
   "id": "c7fb9976",
   "metadata": {
    "ExecuteTime": {
     "end_time": "2023-04-24T13:27:01.499665Z",
     "start_time": "2023-04-24T13:26:40.596157Z"
    }
   },
   "outputs": [
    {
     "name": "stderr",
     "output_type": "stream",
     "text": [
      "Epoch: 14: 100%|██████████████████████████████████████████████████████████████████████████████████████████████████████████████████████| 15/15 [00:20<00:00,  1.39s/it, lowest_mse=0.00409, pred_loss=16, trigger=0]"
     ]
    },
    {
     "name": "stdout",
     "output_type": "stream",
     "text": [
      "LBFGS Unbiased\n",
      "The train error is 15.77 for SOAP\n",
      "The test error is 20.84 for SOAP\n"
     ]
    },
    {
     "name": "stderr",
     "output_type": "stream",
     "text": [
      "\n"
     ]
    }
   ],
   "source": [
    "U_L_weights3 , loss_dos, test_loss_dos = normal_reg_train_L(bulk_soap, bulk_dos3,\n",
    "                                                            bulk_train_index, bulk_test_index,\n",
    "                                                            1e-2, 15, 1)\n",
    "print (\"LBFGS Unbiased\")\n",
    "print (\"The train error is {:.4} for SOAP\".format(loss_dos))\n",
    "print (\"The test error is {:.4} for SOAP\".format(test_loss_dos))"
   ]
  },
  {
   "cell_type": "code",
   "execution_count": 264,
   "id": "17568ee9",
   "metadata": {
    "ExecuteTime": {
     "end_time": "2023-04-24T13:27:21.539956Z",
     "start_time": "2023-04-24T13:27:01.501418Z"
    }
   },
   "outputs": [
    {
     "name": "stderr",
     "output_type": "stream",
     "text": [
      "Epoch: 14: 100%|████████████████████████████████████████████████████████████████████████████████████████████████████████████████████| 15/15 [00:20<00:00,  1.33s/it, lowest_mse=0.00451, pred_loss=16.4, trigger=0]"
     ]
    },
    {
     "name": "stdout",
     "output_type": "stream",
     "text": [
      "LBFGS Biased\n",
      "The train error is 16.41 for SOAP\n",
      "The test error is 23.16 for SOAP\n"
     ]
    },
    {
     "name": "stderr",
     "output_type": "stream",
     "text": [
      "\n"
     ]
    }
   ],
   "source": [
    "U_L_weights3 , loss_dos, test_loss_dos = normal_reg_train_L(bulk_soap, bulk_dos3,\n",
    "                                                            bulk_biased_train_index, bulk_biased_test_index,\n",
    "                                                            1e-2, 15, 1)\n",
    "print (\"LBFGS Biased\")\n",
    "print (\"The train error is {:.4} for SOAP\".format(loss_dos))\n",
    "print (\"The test error is {:.4} for SOAP\".format(test_loss_dos))"
   ]
  },
  {
   "cell_type": "markdown",
   "id": "7306150d",
   "metadata": {},
   "source": [
    "#### Bulk - 0.1 SOAP"
   ]
  },
  {
   "cell_type": "code",
   "execution_count": 265,
   "id": "9da8697a",
   "metadata": {
    "ExecuteTime": {
     "end_time": "2023-04-24T13:27:42.607394Z",
     "start_time": "2023-04-24T13:27:21.541658Z"
    }
   },
   "outputs": [
    {
     "name": "stderr",
     "output_type": "stream",
     "text": [
      "Epoch: 14: 100%|█████████████████████████████████████████████████████████████████████████████████████████████████████████████████████| 15/15 [00:21<00:00,  1.40s/it, lowest_mse=0.0277, pred_loss=34.2, trigger=0]"
     ]
    },
    {
     "name": "stdout",
     "output_type": "stream",
     "text": [
      "LBFGS Unbiased\n",
      "The train error is 34.08 for SOAP\n",
      "The test error is 40.3 for SOAP\n"
     ]
    },
    {
     "name": "stderr",
     "output_type": "stream",
     "text": [
      "\n"
     ]
    }
   ],
   "source": [
    "U_L_weights3 , loss_dos, test_loss_dos = normal_reg_train_L(bulk_soap, bulk_dos1,\n",
    "                                                            bulk_train_index, bulk_test_index,\n",
    "                                                            1e-2, 15, 1)\n",
    "print (\"LBFGS Unbiased\")\n",
    "print (\"The train error is {:.4} for SOAP\".format(loss_dos))\n",
    "print (\"The test error is {:.4} for SOAP\".format(test_loss_dos))"
   ]
  },
  {
   "cell_type": "code",
   "execution_count": 266,
   "id": "aa5e7f34",
   "metadata": {
    "ExecuteTime": {
     "end_time": "2023-04-24T13:28:03.032565Z",
     "start_time": "2023-04-24T13:27:42.610166Z"
    }
   },
   "outputs": [
    {
     "name": "stderr",
     "output_type": "stream",
     "text": [
      "Epoch: 14: 100%|██████████████████████████████████████████████████████████████████████████████████████████████████████████████████████| 15/15 [00:20<00:00,  1.36s/it, lowest_mse=0.029, pred_loss=34.1, trigger=0]"
     ]
    },
    {
     "name": "stdout",
     "output_type": "stream",
     "text": [
      "LBFGS Biased\n",
      "The train error is 34.06 for SOAP\n",
      "The test error is 44.22 for SOAP\n"
     ]
    },
    {
     "name": "stderr",
     "output_type": "stream",
     "text": [
      "\n"
     ]
    }
   ],
   "source": [
    "U_L_weights3 , loss_dos, test_loss_dos = normal_reg_train_L(bulk_soap, bulk_dos1,\n",
    "                                                            bulk_biased_train_index, bulk_biased_test_index,\n",
    "                                                            1e-2, 15, 1)\n",
    "print (\"LBFGS Biased\")\n",
    "print (\"The train error is {:.4} for SOAP\".format(loss_dos))\n",
    "print (\"The test error is {:.4} for SOAP\".format(test_loss_dos))"
   ]
  },
  {
   "cell_type": "markdown",
   "id": "8ffeece3",
   "metadata": {},
   "source": [
    "#### Bulk - 0.3 Kernel"
   ]
  },
  {
   "cell_type": "code",
   "execution_count": 267,
   "id": "00978683",
   "metadata": {
    "ExecuteTime": {
     "end_time": "2023-04-24T13:28:11.671571Z",
     "start_time": "2023-04-24T13:28:03.034413Z"
    }
   },
   "outputs": [
    {
     "name": "stderr",
     "output_type": "stream",
     "text": [
      "Epoch: 14: 100%|██████████████████████████████████████████████████████████████████████████████████████████████████████████████████████| 15/15 [00:08<00:00,  1.77it/s, lowest_mse=0.00994, pred_loss=25, trigger=0]"
     ]
    },
    {
     "name": "stdout",
     "output_type": "stream",
     "text": [
      "LBFGS Unbiased\n",
      "The train error is 25.0 for Kernel\n",
      "The test error is 26.22 for Kernel\n"
     ]
    },
    {
     "name": "stderr",
     "output_type": "stream",
     "text": [
      "\n"
     ]
    }
   ],
   "source": [
    "U_L_weights3 , loss_dos, test_loss_dos = kernel_reg_train_L(bulk_kernel_200, bulk_dos3,\n",
    "                                                            bulk_train_index, bulk_test_index,\n",
    "                                                            bulk_kMM_200, 1e-1, 15, 1)\n",
    "print (\"LBFGS Unbiased\")\n",
    "print (\"The train error is {:.4} for Kernel\".format(loss_dos))\n",
    "print (\"The test error is {:.4} for Kernel\".format(test_loss_dos))"
   ]
  },
  {
   "cell_type": "code",
   "execution_count": 268,
   "id": "c12ea99d",
   "metadata": {
    "ExecuteTime": {
     "end_time": "2023-04-24T13:28:19.787743Z",
     "start_time": "2023-04-24T13:28:11.673082Z"
    }
   },
   "outputs": [
    {
     "name": "stderr",
     "output_type": "stream",
     "text": [
      "Epoch: 14: 100%|████████████████████████████████████████████████████████████████████████████████████████████████████████████████████| 15/15 [00:08<00:00,  1.85it/s, lowest_mse=0.00899, pred_loss=23.2, trigger=0]"
     ]
    },
    {
     "name": "stdout",
     "output_type": "stream",
     "text": [
      "LBFGS Biased\n",
      "The train error is 23.16 for Kernel\n",
      "The test error is 27.1 for Kernel\n"
     ]
    },
    {
     "name": "stderr",
     "output_type": "stream",
     "text": [
      "\n"
     ]
    }
   ],
   "source": [
    "U_L_weights3 , loss_dos, test_loss_dos = kernel_reg_train_L(bulk_kernel_100, bulk_dos3,\n",
    "                                                            bulk_biased_train_index, bulk_biased_test_index,\n",
    "                                                            bulk_kMM_100, 1e-1, 15, 1)\n",
    "print (\"LBFGS Biased\")\n",
    "print (\"The train error is {:.4} for Kernel\".format(loss_dos))\n",
    "print (\"The test error is {:.4} for Kernel\".format(test_loss_dos))"
   ]
  },
  {
   "cell_type": "markdown",
   "id": "01e639ef",
   "metadata": {},
   "source": [
    "#### Bulk - 0.1 Kernel"
   ]
  },
  {
   "cell_type": "code",
   "execution_count": 269,
   "id": "414ff4a4",
   "metadata": {
    "ExecuteTime": {
     "end_time": "2023-04-24T13:28:31.503534Z",
     "start_time": "2023-04-24T13:28:19.789209Z"
    }
   },
   "outputs": [
    {
     "name": "stderr",
     "output_type": "stream",
     "text": [
      "Epoch: 14: 100%|█████████████████████████████████████████████████████████████████████████████████████████████████████████████████████| 15/15 [00:11<00:00,  1.28it/s, lowest_mse=0.0406, pred_loss=41.4, trigger=0]"
     ]
    },
    {
     "name": "stdout",
     "output_type": "stream",
     "text": [
      "LBFGS Unbiased\n",
      "The train error is 41.43 for Kernel\n",
      "The test error is 43.47 for Kernel\n"
     ]
    },
    {
     "name": "stderr",
     "output_type": "stream",
     "text": [
      "\n"
     ]
    }
   ],
   "source": [
    "U_L_weights3 , loss_dos, test_loss_dos = kernel_reg_train_L(bulk_kernel_200, bulk_dos1,\n",
    "                                                            bulk_train_index, bulk_test_index,\n",
    "                                                            bulk_kMM_200, 1e-1, 15, 1)\n",
    "print (\"LBFGS Unbiased\")\n",
    "print (\"The train error is {:.4} for Kernel\".format(loss_dos))\n",
    "print (\"The test error is {:.4} for Kernel\".format(test_loss_dos))"
   ]
  },
  {
   "cell_type": "code",
   "execution_count": 270,
   "id": "b77660a8",
   "metadata": {
    "ExecuteTime": {
     "end_time": "2023-04-24T13:28:39.555432Z",
     "start_time": "2023-04-24T13:28:31.505138Z"
    }
   },
   "outputs": [
    {
     "name": "stderr",
     "output_type": "stream",
     "text": [
      "Epoch: 14: 100%|█████████████████████████████████████████████████████████████████████████████████████████████████████████████████████| 15/15 [00:08<00:00,  1.87it/s, lowest_mse=0.0459, pred_loss=42.9, trigger=0]"
     ]
    },
    {
     "name": "stdout",
     "output_type": "stream",
     "text": [
      "LBFGS Biased\n",
      "The train error is 42.94 for Kernel\n",
      "The test error is 48.86 for Kernel\n"
     ]
    },
    {
     "name": "stderr",
     "output_type": "stream",
     "text": [
      "\n"
     ]
    }
   ],
   "source": [
    "U_L_weights3 , loss_dos, test_loss_dos = kernel_reg_train_L(bulk_kernel_100, bulk_dos1,\n",
    "                                                            bulk_biased_train_index, bulk_biased_test_index,\n",
    "                                                            bulk_kMM_100, 1e-1, 15, 1)\n",
    "print (\"LBFGS Biased\")\n",
    "print (\"The train error is {:.4} for Kernel\".format(loss_dos))\n",
    "print (\"The test error is {:.4} for Kernel\".format(test_loss_dos))"
   ]
  },
  {
   "cell_type": "markdown",
   "id": "cff4d5b6",
   "metadata": {},
   "source": [
    "### Total"
   ]
  },
  {
   "cell_type": "markdown",
   "id": "63c7d324",
   "metadata": {
    "ExecuteTime": {
     "end_time": "2023-04-21T18:33:22.704894Z",
     "start_time": "2023-04-21T18:33:22.704881Z"
    }
   },
   "source": [
    "#### Total - 0.3 SOAP"
   ]
  },
  {
   "cell_type": "code",
   "execution_count": 271,
   "id": "274e4279",
   "metadata": {
    "ExecuteTime": {
     "end_time": "2023-04-24T13:28:59.421791Z",
     "start_time": "2023-04-24T13:28:39.557063Z"
    }
   },
   "outputs": [
    {
     "name": "stderr",
     "output_type": "stream",
     "text": [
      "Epoch: 14: 100%|████████████████████████████████████████████████████████████████████████████████████████████████████████████████████| 15/15 [00:19<00:00,  1.32s/it, lowest_mse=0.00966, pred_loss=20.9, trigger=0]"
     ]
    },
    {
     "name": "stdout",
     "output_type": "stream",
     "text": [
      "LBFGS Unbiased\n",
      "The train error is 20.82 for SOAP\n",
      "The test error is 23.87 for SOAP\n"
     ]
    },
    {
     "name": "stderr",
     "output_type": "stream",
     "text": [
      "\n"
     ]
    }
   ],
   "source": [
    "U_L_weights3 , loss_dos, test_loss_dos = normal_reg_train_L(total_soap, total_dos3,\n",
    "                                                            total_train_index, total_test_index,\n",
    "                                                            1e-2, 15, 1)\n",
    "print (\"LBFGS Unbiased\")\n",
    "print (\"The train error is {:.4} for SOAP\".format(loss_dos))\n",
    "print (\"The test error is {:.4} for SOAP\".format(test_loss_dos))"
   ]
  },
  {
   "cell_type": "code",
   "execution_count": 272,
   "id": "e467d8d5",
   "metadata": {
    "ExecuteTime": {
     "end_time": "2023-04-24T13:29:18.689912Z",
     "start_time": "2023-04-24T13:28:59.424340Z"
    }
   },
   "outputs": [
    {
     "name": "stderr",
     "output_type": "stream",
     "text": [
      "Epoch: 14: 100%|████████████████████████████████████████████████████████████████████████████████████████████████████████████████████| 15/15 [00:19<00:00,  1.28s/it, lowest_mse=0.00978, pred_loss=20.2, trigger=0]"
     ]
    },
    {
     "name": "stdout",
     "output_type": "stream",
     "text": [
      "LBFGS Biased\n",
      "The train error is 20.23 for SOAP\n",
      "The test error is 28.22 for SOAP\n"
     ]
    },
    {
     "name": "stderr",
     "output_type": "stream",
     "text": [
      "\n"
     ]
    }
   ],
   "source": [
    "U_L_weights3 , loss_dos, test_loss_dos = normal_reg_train_L(total_soap, total_dos3,\n",
    "                                                            total_biased_train_index, total_biased_test_index,\n",
    "                                                            1e-2, 15, 1)\n",
    "print (\"LBFGS Biased\")\n",
    "print (\"The train error is {:.4} for SOAP\".format(loss_dos))\n",
    "print (\"The test error is {:.4} for SOAP\".format(test_loss_dos))"
   ]
  },
  {
   "cell_type": "code",
   "execution_count": 273,
   "id": "4a8c01d2",
   "metadata": {
    "ExecuteTime": {
     "end_time": "2023-04-24T13:29:38.220171Z",
     "start_time": "2023-04-24T13:29:18.691355Z"
    }
   },
   "outputs": [
    {
     "name": "stderr",
     "output_type": "stream",
     "text": [
      "Epoch: 14: 100%|████████████████████████████████████████████████████████████████████████████████████████████████████████████████████| 15/15 [00:19<00:00,  1.30s/it, lowest_mse=0.00776, pred_loss=18.9, trigger=0]"
     ]
    },
    {
     "name": "stdout",
     "output_type": "stream",
     "text": [
      "LBFGS Holdout\n",
      "The train error is 18.61 for SOAP\n",
      "The test error is 34.42 for SOAP\n"
     ]
    },
    {
     "name": "stderr",
     "output_type": "stream",
     "text": [
      "\n"
     ]
    }
   ],
   "source": [
    "U_L_weights3 , loss_dos, test_loss_dos = normal_reg_train_L(total_soap, total_dos3,\n",
    "                                                            holdout_train_index, holdout_test_index,\n",
    "                                                            1e-2, 15, 1)\n",
    "print (\"LBFGS Holdout\")\n",
    "print (\"The train error is {:.4} for SOAP\".format(loss_dos))\n",
    "print (\"The test error is {:.4} for SOAP\".format(test_loss_dos))"
   ]
  },
  {
   "cell_type": "markdown",
   "id": "bc0c1804",
   "metadata": {},
   "source": [
    "#### Total - 0.1 SOAP"
   ]
  },
  {
   "cell_type": "code",
   "execution_count": 274,
   "id": "e4fd4ddc",
   "metadata": {
    "ExecuteTime": {
     "end_time": "2023-04-24T13:29:58.038910Z",
     "start_time": "2023-04-24T13:29:38.221675Z"
    }
   },
   "outputs": [
    {
     "name": "stderr",
     "output_type": "stream",
     "text": [
      "Epoch: 14: 100%|███████████████████████████████████████████████████████████████████████████████████████████████████████████████████████| 15/15 [00:19<00:00,  1.32s/it, lowest_mse=0.0352, pred_loss=34, trigger=0]"
     ]
    },
    {
     "name": "stdout",
     "output_type": "stream",
     "text": [
      "LBFGS Unbiased\n",
      "The train error is 33.95 for SOAP\n",
      "The test error is 38.03 for SOAP\n"
     ]
    },
    {
     "name": "stderr",
     "output_type": "stream",
     "text": [
      "\n"
     ]
    }
   ],
   "source": [
    "U_L_weights3 , loss_dos, test_loss_dos = normal_reg_train_L(total_soap, total_dos1,\n",
    "                                                            total_train_index, total_test_index,\n",
    "                                                            1e-2, 15, 1)\n",
    "print (\"LBFGS Unbiased\")\n",
    "print (\"The train error is {:.4} for SOAP\".format(loss_dos))\n",
    "print (\"The test error is {:.4} for SOAP\".format(test_loss_dos))"
   ]
  },
  {
   "cell_type": "code",
   "execution_count": 275,
   "id": "677e0b85",
   "metadata": {
    "ExecuteTime": {
     "end_time": "2023-04-24T13:30:18.536820Z",
     "start_time": "2023-04-24T13:29:58.040878Z"
    }
   },
   "outputs": [
    {
     "name": "stderr",
     "output_type": "stream",
     "text": [
      "Epoch: 14: 100%|█████████████████████████████████████████████████████████████████████████████████████████████████████████████████████| 15/15 [00:20<00:00,  1.36s/it, lowest_mse=0.0366, pred_loss=33.5, trigger=0]"
     ]
    },
    {
     "name": "stdout",
     "output_type": "stream",
     "text": [
      "LBFGS Biased\n",
      "The train error is 33.4 for SOAP\n",
      "The test error is 42.61 for SOAP\n"
     ]
    },
    {
     "name": "stderr",
     "output_type": "stream",
     "text": [
      "\n"
     ]
    }
   ],
   "source": [
    "U_L_weights3 , loss_dos, test_loss_dos = normal_reg_train_L(total_soap, total_dos1,\n",
    "                                                            total_biased_train_index, total_biased_test_index,\n",
    "                                                            1e-2, 15, 1)\n",
    "print (\"LBFGS Biased\")\n",
    "print (\"The train error is {:.4} for SOAP\".format(loss_dos))\n",
    "print (\"The test error is {:.4} for SOAP\".format(test_loss_dos))"
   ]
  },
  {
   "cell_type": "code",
   "execution_count": 276,
   "id": "a24876e8",
   "metadata": {
    "ExecuteTime": {
     "end_time": "2023-04-24T13:30:41.181299Z",
     "start_time": "2023-04-24T13:30:18.538356Z"
    }
   },
   "outputs": [
    {
     "name": "stderr",
     "output_type": "stream",
     "text": [
      "Epoch: 14: 100%|█████████████████████████████████████████████████████████████████████████████████████████████████████████████████████| 15/15 [00:22<00:00,  1.51s/it, lowest_mse=0.0335, pred_loss=33.4, trigger=0]"
     ]
    },
    {
     "name": "stdout",
     "output_type": "stream",
     "text": [
      "LBFGS Holdout\n",
      "The train error is 33.23 for SOAP\n",
      "The test error is 44.89 for SOAP\n"
     ]
    },
    {
     "name": "stderr",
     "output_type": "stream",
     "text": [
      "\n"
     ]
    }
   ],
   "source": [
    "U_L_weights3 , loss_dos, test_loss_dos = normal_reg_train_L(total_soap, total_dos1,\n",
    "                                                            holdout_train_index, holdout_test_index,\n",
    "                                                            1e-2, 15, 1)\n",
    "print (\"LBFGS Holdout\")\n",
    "print (\"The train error is {:.4} for SOAP\".format(loss_dos))\n",
    "print (\"The test error is {:.4} for SOAP\".format(test_loss_dos))"
   ]
  },
  {
   "cell_type": "markdown",
   "id": "4ed05a98",
   "metadata": {},
   "source": [
    "#### Total - 0.3 Kernel "
   ]
  },
  {
   "cell_type": "code",
   "execution_count": 277,
   "id": "e499468c",
   "metadata": {
    "ExecuteTime": {
     "end_time": "2023-04-24T13:30:49.352872Z",
     "start_time": "2023-04-24T13:30:41.182990Z"
    }
   },
   "outputs": [
    {
     "name": "stderr",
     "output_type": "stream",
     "text": [
      "Epoch: 14: 100%|█████████████████████████████████████████████████████████████████████████████████████████████████████████████████████| 15/15 [00:08<00:00,  1.85it/s, lowest_mse=0.0165, pred_loss=27.2, trigger=0]"
     ]
    },
    {
     "name": "stdout",
     "output_type": "stream",
     "text": [
      "LBFGS Unbiased\n",
      "The train error is 27.25 for Kernel\n",
      "The test error is 29.13 for Kernel\n"
     ]
    },
    {
     "name": "stderr",
     "output_type": "stream",
     "text": [
      "\n"
     ]
    }
   ],
   "source": [
    "U_L_weights3 , loss_dos, test_loss_dos = kernel_reg_train_L(total_kernel_150, total_dos3,\n",
    "                                                            total_train_index, total_test_index,\n",
    "                                                            total_kMM_150, 1e-2, 15, 1)\n",
    "print (\"LBFGS Unbiased\")\n",
    "print (\"The train error is {:.4} for Kernel\".format(loss_dos))\n",
    "print (\"The test error is {:.4} for Kernel\".format(test_loss_dos))"
   ]
  },
  {
   "cell_type": "code",
   "execution_count": 278,
   "id": "c821ec4e",
   "metadata": {
    "ExecuteTime": {
     "end_time": "2023-04-24T13:30:59.044106Z",
     "start_time": "2023-04-24T13:30:49.358421Z"
    }
   },
   "outputs": [
    {
     "name": "stderr",
     "output_type": "stream",
     "text": [
      "Epoch: 14: 100%|██████████████████████████████████████████████████████████████████████████████████████████████████████████████████████| 15/15 [00:09<00:00,  1.55it/s, lowest_mse=0.017, pred_loss=26.7, trigger=0]"
     ]
    },
    {
     "name": "stdout",
     "output_type": "stream",
     "text": [
      "LBFGS Biased\n",
      "The train error is 26.69 for Kernel\n",
      "The test error is 34.31 for Kernel\n"
     ]
    },
    {
     "name": "stderr",
     "output_type": "stream",
     "text": [
      "\n"
     ]
    }
   ],
   "source": [
    "U_L_weights3 , loss_dos, test_loss_dos = kernel_reg_train_L(total_kernel_150, total_dos3,\n",
    "                                                            total_biased_train_index, total_biased_test_index,\n",
    "                                                            total_kMM_150, 1e-2, 15, 1)\n",
    "print (\"LBFGS Biased\")\n",
    "print (\"The train error is {:.4} for Kernel\".format(loss_dos))\n",
    "print (\"The test error is {:.4} for Kernel\".format(test_loss_dos))"
   ]
  },
  {
   "cell_type": "code",
   "execution_count": 279,
   "id": "2832921a",
   "metadata": {
    "ExecuteTime": {
     "end_time": "2023-04-24T13:31:05.325336Z",
     "start_time": "2023-04-24T13:30:59.045890Z"
    }
   },
   "outputs": [
    {
     "name": "stderr",
     "output_type": "stream",
     "text": [
      "Epoch: 14: 100%|█████████████████████████████████████████████████████████████████████████████████████████████████████████████████████| 15/15 [00:06<00:00,  2.40it/s, lowest_mse=0.0185, pred_loss=29.2, trigger=0]"
     ]
    },
    {
     "name": "stdout",
     "output_type": "stream",
     "text": [
      "LBFGS Holdout\n",
      "The train error is 29.21 for Kernel\n",
      "The test error is 41.58 for Kernel\n"
     ]
    },
    {
     "name": "stderr",
     "output_type": "stream",
     "text": [
      "\n"
     ]
    }
   ],
   "source": [
    "U_L_weights3 , loss_dos, test_loss_dos = kernel_reg_train_L(total_kernel_100, total_dos3,\n",
    "                                                            holdout_train_index, holdout_test_index,\n",
    "                                                            total_kMM_100, 1e-2, 15, 1)\n",
    "print (\"LBFGS Holdout\")\n",
    "print (\"The train error is {:.4} for Kernel\".format(loss_dos))\n",
    "print (\"The test error is {:.4} for Kernel\".format(test_loss_dos))"
   ]
  },
  {
   "cell_type": "markdown",
   "id": "c3b94592",
   "metadata": {},
   "source": [
    "#### Total - 0.1 Kernel"
   ]
  },
  {
   "cell_type": "code",
   "execution_count": 280,
   "id": "f86ff171",
   "metadata": {
    "ExecuteTime": {
     "end_time": "2023-04-24T13:31:13.291768Z",
     "start_time": "2023-04-24T13:31:05.327505Z"
    }
   },
   "outputs": [
    {
     "name": "stderr",
     "output_type": "stream",
     "text": [
      "Epoch: 14: 100%|█████████████████████████████████████████████████████████████████████████████████████████████████████████████████████| 15/15 [00:07<00:00,  1.89it/s, lowest_mse=0.0517, pred_loss=41.2, trigger=0]"
     ]
    },
    {
     "name": "stdout",
     "output_type": "stream",
     "text": [
      "LBFGS Unbiased\n",
      "The train error is 41.2 for Kernel\n",
      "The test error is 43.15 for Kernel\n"
     ]
    },
    {
     "name": "stderr",
     "output_type": "stream",
     "text": [
      "\n"
     ]
    }
   ],
   "source": [
    "U_L_weights3 , loss_dos, test_loss_dos = kernel_reg_train_L(total_kernel_150, total_dos1,\n",
    "                                                            total_train_index, total_test_index,\n",
    "                                                            total_kMM_150, 1e-1, 15, 1)\n",
    "print (\"LBFGS Unbiased\")\n",
    "print (\"The train error is {:.4} for Kernel\".format(loss_dos))\n",
    "print (\"The test error is {:.4} for Kernel\".format(test_loss_dos))"
   ]
  },
  {
   "cell_type": "code",
   "execution_count": 281,
   "id": "95be250b",
   "metadata": {
    "ExecuteTime": {
     "end_time": "2023-04-24T13:31:22.053426Z",
     "start_time": "2023-04-24T13:31:13.293475Z"
    }
   },
   "outputs": [
    {
     "name": "stderr",
     "output_type": "stream",
     "text": [
      "Epoch: 14: 100%|█████████████████████████████████████████████████████████████████████████████████████████████████████████████████████| 15/15 [00:08<00:00,  1.72it/s, lowest_mse=0.0517, pred_loss=39.9, trigger=0]"
     ]
    },
    {
     "name": "stdout",
     "output_type": "stream",
     "text": [
      "LBFGS Biased\n",
      "The train error is 39.88 for Kernel\n",
      "The test error is 46.84 for Kernel\n"
     ]
    },
    {
     "name": "stderr",
     "output_type": "stream",
     "text": [
      "\n"
     ]
    }
   ],
   "source": [
    "U_L_weights3 , loss_dos, test_loss_dos = kernel_reg_train_L(total_kernel_150, total_dos1,\n",
    "                                                            total_biased_train_index, total_biased_test_index,\n",
    "                                                            total_kMM_150, 1e-1, 15, 1)\n",
    "print (\"LBFGS Biased\")\n",
    "print (\"The train error is {:.4} for Kernel\".format(loss_dos))\n",
    "print (\"The test error is {:.4} for Kernel\".format(test_loss_dos))"
   ]
  },
  {
   "cell_type": "code",
   "execution_count": 282,
   "id": "a8de4c0b",
   "metadata": {
    "ExecuteTime": {
     "end_time": "2023-04-24T13:31:30.990009Z",
     "start_time": "2023-04-24T13:31:22.055010Z"
    }
   },
   "outputs": [
    {
     "name": "stderr",
     "output_type": "stream",
     "text": [
      "Epoch: 14: 100%|█████████████████████████████████████████████████████████████████████████████████████████████████████████████████████| 15/15 [00:08<00:00,  1.68it/s, lowest_mse=0.0491, pred_loss=40.4, trigger=0]"
     ]
    },
    {
     "name": "stdout",
     "output_type": "stream",
     "text": [
      "LBFGS Holdout\n",
      "The train error is 40.4 for Kernel\n",
      "The test error is 49.56 for Kernel\n"
     ]
    },
    {
     "name": "stderr",
     "output_type": "stream",
     "text": [
      "\n"
     ]
    }
   ],
   "source": [
    "U_L_weights3 , loss_dos, test_loss_dos = kernel_reg_train_L(total_kernel_150, total_dos1,\n",
    "                                                            holdout_train_index, holdout_test_index,\n",
    "                                                            total_kMM_150, 1e-2, 15, 1)\n",
    "print (\"LBFGS Holdout\")\n",
    "print (\"The train error is {:.4} for Kernel\".format(loss_dos))\n",
    "print (\"The test error is {:.4} for Kernel\".format(test_loss_dos))"
   ]
  },
  {
   "cell_type": "markdown",
   "id": "3627f668",
   "metadata": {},
   "source": [
    "### Total Aligned"
   ]
  },
  {
   "cell_type": "markdown",
   "id": "cefc1ad7",
   "metadata": {
    "ExecuteTime": {
     "end_time": "2023-04-21T18:33:22.704894Z",
     "start_time": "2023-04-21T18:33:22.704881Z"
    }
   },
   "source": [
    "#### Total Aligned - 0.3 SOAP"
   ]
  },
  {
   "cell_type": "code",
   "execution_count": 283,
   "id": "6a5235e7",
   "metadata": {
    "ExecuteTime": {
     "end_time": "2023-04-24T13:31:51.334561Z",
     "start_time": "2023-04-24T13:31:30.991766Z"
    }
   },
   "outputs": [
    {
     "name": "stderr",
     "output_type": "stream",
     "text": [
      "Epoch: 14: 100%|████████████████████████████████████████████████████████████████████████████████████████████████████████████████████| 15/15 [00:20<00:00,  1.35s/it, lowest_mse=0.00843, pred_loss=19.5, trigger=0]"
     ]
    },
    {
     "name": "stdout",
     "output_type": "stream",
     "text": [
      "LBFGS Unbiased\n",
      "The train error is 19.34 for SOAP\n",
      "The test error is 22.58 for SOAP\n"
     ]
    },
    {
     "name": "stderr",
     "output_type": "stream",
     "text": [
      "\n"
     ]
    }
   ],
   "source": [
    "U_L_weights3 , loss_dos, test_loss_dos = normal_reg_train_L(total_soap, total_aligned_dos3,\n",
    "                                                            total_train_index, total_test_index,\n",
    "                                                            1e-2, 15, 1)\n",
    "print (\"LBFGS Unbiased\")\n",
    "print (\"The train error is {:.4} for SOAP\".format(loss_dos))\n",
    "print (\"The test error is {:.4} for SOAP\".format(test_loss_dos))"
   ]
  },
  {
   "cell_type": "code",
   "execution_count": 284,
   "id": "f5f4a400",
   "metadata": {
    "ExecuteTime": {
     "end_time": "2023-04-24T13:32:11.637791Z",
     "start_time": "2023-04-24T13:31:51.336179Z"
    }
   },
   "outputs": [
    {
     "name": "stderr",
     "output_type": "stream",
     "text": [
      "Epoch: 14: 100%|████████████████████████████████████████████████████████████████████████████████████████████████████████████████████| 15/15 [00:20<00:00,  1.35s/it, lowest_mse=0.00841, pred_loss=18.8, trigger=0]"
     ]
    },
    {
     "name": "stdout",
     "output_type": "stream",
     "text": [
      "LBFGS Biased\n",
      "The train error is 18.77 for SOAP\n",
      "The test error is 26.81 for SOAP\n"
     ]
    },
    {
     "name": "stderr",
     "output_type": "stream",
     "text": [
      "\n"
     ]
    }
   ],
   "source": [
    "U_L_weights3 , loss_dos, test_loss_dos = normal_reg_train_L(total_soap, total_aligned_dos3,\n",
    "                                                            total_biased_train_index, total_biased_test_index,\n",
    "                                                            1e-2, 15, 1)\n",
    "print (\"LBFGS Biased\")\n",
    "print (\"The train error is {:.4} for SOAP\".format(loss_dos))\n",
    "print (\"The test error is {:.4} for SOAP\".format(test_loss_dos))"
   ]
  },
  {
   "cell_type": "code",
   "execution_count": 285,
   "id": "5f6004f7",
   "metadata": {
    "ExecuteTime": {
     "end_time": "2023-04-24T13:32:32.530203Z",
     "start_time": "2023-04-24T13:32:11.639421Z"
    }
   },
   "outputs": [
    {
     "name": "stderr",
     "output_type": "stream",
     "text": [
      "Epoch: 14: 100%|████████████████████████████████████████████████████████████████████████████████████████████████████████████████████| 15/15 [00:20<00:00,  1.39s/it, lowest_mse=0.00713, pred_loss=18.1, trigger=0]"
     ]
    },
    {
     "name": "stdout",
     "output_type": "stream",
     "text": [
      "LBFGS Holdout\n",
      "The train error is 18.0 for SOAP\n",
      "The test error is 30.51 for SOAP\n"
     ]
    },
    {
     "name": "stderr",
     "output_type": "stream",
     "text": [
      "\n"
     ]
    }
   ],
   "source": [
    "U_L_weights3 , loss_dos, test_loss_dos = normal_reg_train_L(total_soap, total_aligned_dos3,\n",
    "                                                            holdout_train_index, holdout_test_index,\n",
    "                                                            1e-2, 15, 1)\n",
    "print (\"LBFGS Holdout\")\n",
    "print (\"The train error is {:.4} for SOAP\".format(loss_dos))\n",
    "print (\"The test error is {:.4} for SOAP\".format(test_loss_dos))"
   ]
  },
  {
   "cell_type": "markdown",
   "id": "216a9b40",
   "metadata": {},
   "source": [
    "#### Total Aligned - 0.1 SOAP"
   ]
  },
  {
   "cell_type": "code",
   "execution_count": 286,
   "id": "858c84e2",
   "metadata": {
    "ExecuteTime": {
     "end_time": "2023-04-24T13:33:35.056900Z",
     "start_time": "2023-04-24T13:32:32.531787Z"
    }
   },
   "outputs": [
    {
     "name": "stderr",
     "output_type": "stream",
     "text": [
      "Epoch: 44: 100%|█████████████████████████████████████████████████████████████████████████████████████████████████████████████████████| 45/45 [01:02<00:00,  1.39s/it, lowest_mse=0.0318, pred_loss=32.3, trigger=0]"
     ]
    },
    {
     "name": "stdout",
     "output_type": "stream",
     "text": [
      "LBFGS Unbiased\n",
      "The train error is 32.31 for SOAP\n",
      "The test error is 37.76 for SOAP\n"
     ]
    },
    {
     "name": "stderr",
     "output_type": "stream",
     "text": [
      "\n"
     ]
    }
   ],
   "source": [
    "U_L_weights3 , loss_dos, test_loss_dos = normal_reg_train_L(total_soap, total_aligned_dos1,\n",
    "                                                            total_train_index, total_test_index,\n",
    "                                                            1e-2, 45, 1)\n",
    "print (\"LBFGS Unbiased\")\n",
    "print (\"The train error is {:.4} for SOAP\".format(loss_dos))\n",
    "print (\"The test error is {:.4} for SOAP\".format(test_loss_dos))"
   ]
  },
  {
   "cell_type": "code",
   "execution_count": 294,
   "id": "f98686cc",
   "metadata": {
    "ExecuteTime": {
     "end_time": "2023-04-24T13:35:02.827986Z",
     "start_time": "2023-04-24T13:34:42.238423Z"
    }
   },
   "outputs": [
    {
     "name": "stderr",
     "output_type": "stream",
     "text": [
      "Epoch: 14: 100%|██████████████████████████████████████████████████████████████████████████████████████████████████████████████████████| 15/15 [00:20<00:00,  1.37s/it, lowest_mse=0.036, pred_loss=33.3, trigger=0]"
     ]
    },
    {
     "name": "stdout",
     "output_type": "stream",
     "text": [
      "LBFGS Biased\n",
      "The train error is 32.91 for SOAP\n",
      "The test error is 41.76 for SOAP\n"
     ]
    },
    {
     "name": "stderr",
     "output_type": "stream",
     "text": [
      "\n"
     ]
    }
   ],
   "source": [
    "U_L_weights3 , loss_dos, test_loss_dos = normal_reg_train_L(total_soap, total_aligned_dos1,\n",
    "                                                            total_biased_train_index, total_biased_test_index,\n",
    "                                                            1e-2, 15, 1)\n",
    "print (\"LBFGS Biased\")\n",
    "print (\"The train error is {:.4} for SOAP\".format(loss_dos))\n",
    "print (\"The test error is {:.4} for SOAP\".format(test_loss_dos))"
   ]
  },
  {
   "cell_type": "code",
   "execution_count": 287,
   "id": "968b634f",
   "metadata": {
    "ExecuteTime": {
     "end_time": "2023-04-24T13:33:56.753001Z",
     "start_time": "2023-04-24T13:33:35.058466Z"
    }
   },
   "outputs": [
    {
     "name": "stderr",
     "output_type": "stream",
     "text": [
      "Epoch: 14: 100%|█████████████████████████████████████████████████████████████████████████████████████████████████████████████████████| 15/15 [00:21<00:00,  1.44s/it, lowest_mse=0.0325, pred_loss=32.8, trigger=0]"
     ]
    },
    {
     "name": "stdout",
     "output_type": "stream",
     "text": [
      "LBFGS Holdout\n",
      "The train error is 32.55 for SOAP\n",
      "The test error is 42.52 for SOAP\n"
     ]
    },
    {
     "name": "stderr",
     "output_type": "stream",
     "text": [
      "\n"
     ]
    }
   ],
   "source": [
    "U_L_weights3 , loss_dos, test_loss_dos = normal_reg_train_L(total_soap, total_aligned_dos1,\n",
    "                                                            holdout_train_index, holdout_test_index,\n",
    "                                                            1e-2, 15, 1)\n",
    "print (\"LBFGS Holdout\")\n",
    "print (\"The train error is {:.4} for SOAP\".format(loss_dos))\n",
    "print (\"The test error is {:.4} for SOAP\".format(test_loss_dos))"
   ]
  },
  {
   "cell_type": "markdown",
   "id": "c855437b",
   "metadata": {},
   "source": [
    "#### Total Aligned - 0.3 Kernel "
   ]
  },
  {
   "cell_type": "code",
   "execution_count": 288,
   "id": "54c023f8",
   "metadata": {
    "ExecuteTime": {
     "end_time": "2023-04-24T13:34:03.175902Z",
     "start_time": "2023-04-24T13:33:56.754569Z"
    }
   },
   "outputs": [
    {
     "name": "stderr",
     "output_type": "stream",
     "text": [
      "Epoch: 14: 100%|█████████████████████████████████████████████████████████████████████████████████████████████████████████████████████| 15/15 [00:06<00:00,  2.36it/s, lowest_mse=0.0163, pred_loss=27.1, trigger=0]"
     ]
    },
    {
     "name": "stdout",
     "output_type": "stream",
     "text": [
      "LBFGS Unbiased\n",
      "The train error is 27.1 for Kernel\n",
      "The test error is 28.44 for Kernel\n"
     ]
    },
    {
     "name": "stderr",
     "output_type": "stream",
     "text": [
      "\n"
     ]
    }
   ],
   "source": [
    "U_L_weights3 , loss_dos, test_loss_dos = kernel_reg_train_L(total_kernel_150, total_aligned_dos3,\n",
    "                                                            total_train_index, total_test_index,\n",
    "                                                            total_kMM_150, 1e-2, 15, 1)\n",
    "print (\"LBFGS Unbiased\")\n",
    "print (\"The train error is {:.4} for Kernel\".format(loss_dos))\n",
    "print (\"The test error is {:.4} for Kernel\".format(test_loss_dos))"
   ]
  },
  {
   "cell_type": "code",
   "execution_count": 289,
   "id": "146f107f",
   "metadata": {
    "ExecuteTime": {
     "end_time": "2023-04-24T13:34:11.598482Z",
     "start_time": "2023-04-24T13:34:03.177509Z"
    }
   },
   "outputs": [
    {
     "name": "stderr",
     "output_type": "stream",
     "text": [
      "Epoch: 14: 100%|█████████████████████████████████████████████████████████████████████████████████████████████████████████████████████| 15/15 [00:08<00:00,  1.79it/s, lowest_mse=0.0158, pred_loss=25.7, trigger=0]"
     ]
    },
    {
     "name": "stdout",
     "output_type": "stream",
     "text": [
      "LBFGS Biased\n",
      "The train error is 25.74 for Kernel\n",
      "The test error is 32.59 for Kernel\n"
     ]
    },
    {
     "name": "stderr",
     "output_type": "stream",
     "text": [
      "\n"
     ]
    }
   ],
   "source": [
    "U_L_weights3 , loss_dos, test_loss_dos = kernel_reg_train_L(total_kernel_150, total_aligned_dos3,\n",
    "                                                            total_biased_train_index, total_biased_test_index,\n",
    "                                                            total_kMM_150, 1e-2, 15, 1)\n",
    "print (\"LBFGS Biased\")\n",
    "print (\"The train error is {:.4} for Kernel\".format(loss_dos))\n",
    "print (\"The test error is {:.4} for Kernel\".format(test_loss_dos))"
   ]
  },
  {
   "cell_type": "code",
   "execution_count": 290,
   "id": "dfb00e50",
   "metadata": {
    "ExecuteTime": {
     "end_time": "2023-04-24T13:34:18.523836Z",
     "start_time": "2023-04-24T13:34:11.602437Z"
    }
   },
   "outputs": [
    {
     "name": "stderr",
     "output_type": "stream",
     "text": [
      "Epoch: 14: 100%|█████████████████████████████████████████████████████████████████████████████████████████████████████████████████████| 15/15 [00:06<00:00,  2.17it/s, lowest_mse=0.0134, pred_loss=24.8, trigger=0]"
     ]
    },
    {
     "name": "stdout",
     "output_type": "stream",
     "text": [
      "LBFGS Holdout\n",
      "The train error is 24.78 for Kernel\n",
      "The test error is 35.39 for Kernel\n"
     ]
    },
    {
     "name": "stderr",
     "output_type": "stream",
     "text": [
      "\n"
     ]
    }
   ],
   "source": [
    "U_L_weights3 , loss_dos, test_loss_dos = kernel_reg_train_L(total_kernel_100, total_aligned_dos3,\n",
    "                                                            holdout_train_index, holdout_test_index,\n",
    "                                                            total_kMM_100, 1e-2, 15, 1)\n",
    "print (\"LBFGS Holdout\")\n",
    "print (\"The train error is {:.4} for Kernel\".format(loss_dos))\n",
    "print (\"The test error is {:.4} for Kernel\".format(test_loss_dos))"
   ]
  },
  {
   "cell_type": "markdown",
   "id": "37b884c5",
   "metadata": {},
   "source": [
    "#### Total Aligned - 0.1 Kernel"
   ]
  },
  {
   "cell_type": "code",
   "execution_count": 291,
   "id": "bc93ba13",
   "metadata": {
    "ExecuteTime": {
     "end_time": "2023-04-24T13:34:24.430141Z",
     "start_time": "2023-04-24T13:34:18.525581Z"
    }
   },
   "outputs": [
    {
     "name": "stderr",
     "output_type": "stream",
     "text": [
      "Epoch: 14: 100%|██████████████████████████████████████████████████████████████████████████████████████████████████████████████████████| 15/15 [00:05<00:00,  2.56it/s, lowest_mse=0.053, pred_loss=41.7, trigger=0]"
     ]
    },
    {
     "name": "stdout",
     "output_type": "stream",
     "text": [
      "LBFGS Unbiased\n",
      "The train error is 41.69 for Kernel\n",
      "The test error is 43.45 for Kernel\n"
     ]
    },
    {
     "name": "stderr",
     "output_type": "stream",
     "text": [
      "\n"
     ]
    }
   ],
   "source": [
    "U_L_weights3 , loss_dos, test_loss_dos = kernel_reg_train_L(total_kernel_150, total_aligned_dos1,\n",
    "                                                            total_train_index, total_test_index,\n",
    "                                                            total_kMM_150, 1e-1, 15, 1)\n",
    "print (\"LBFGS Unbiased\")\n",
    "print (\"The train error is {:.4} for Kernel\".format(loss_dos))\n",
    "print (\"The test error is {:.4} for Kernel\".format(test_loss_dos))"
   ]
  },
  {
   "cell_type": "code",
   "execution_count": 292,
   "id": "475b70bd",
   "metadata": {
    "ExecuteTime": {
     "end_time": "2023-04-24T13:34:32.341554Z",
     "start_time": "2023-04-24T13:34:24.432010Z"
    }
   },
   "outputs": [
    {
     "name": "stderr",
     "output_type": "stream",
     "text": [
      "Epoch: 14: 100%|███████████████████████████████████████████████████████████████████████████████████████████████████████████████████████| 15/15 [00:07<00:00,  1.90it/s, lowest_mse=0.0521, pred_loss=40, trigger=0]"
     ]
    },
    {
     "name": "stdout",
     "output_type": "stream",
     "text": [
      "LBFGS Biased\n",
      "The train error is 40.03 for Kernel\n",
      "The test error is 46.99 for Kernel\n"
     ]
    },
    {
     "name": "stderr",
     "output_type": "stream",
     "text": [
      "\n"
     ]
    }
   ],
   "source": [
    "U_L_weights3 , loss_dos, test_loss_dos = kernel_reg_train_L(total_kernel_150, total_aligned_dos1,\n",
    "                                                            total_biased_train_index, total_biased_test_index,\n",
    "                                                            total_kMM_150, 1e-1, 15, 1)\n",
    "print (\"LBFGS Biased\")\n",
    "print (\"The train error is {:.4} for Kernel\".format(loss_dos))\n",
    "print (\"The test error is {:.4} for Kernel\".format(test_loss_dos))"
   ]
  },
  {
   "cell_type": "code",
   "execution_count": 293,
   "id": "9f883e4c",
   "metadata": {
    "ExecuteTime": {
     "end_time": "2023-04-24T13:34:42.236512Z",
     "start_time": "2023-04-24T13:34:32.343324Z"
    }
   },
   "outputs": [
    {
     "name": "stderr",
     "output_type": "stream",
     "text": [
      "Epoch: 14: 100%|█████████████████████████████████████████████████████████████████████████████████████████████████████████████████████| 15/15 [00:09<00:00,  1.52it/s, lowest_mse=0.0501, pred_loss=40.8, trigger=0]"
     ]
    },
    {
     "name": "stdout",
     "output_type": "stream",
     "text": [
      "LBFGS Holdout\n",
      "The train error is 40.76 for Kernel\n",
      "The test error is 47.22 for Kernel\n"
     ]
    },
    {
     "name": "stderr",
     "output_type": "stream",
     "text": [
      "\n"
     ]
    }
   ],
   "source": [
    "U_L_weights3 , loss_dos, test_loss_dos = kernel_reg_train_L(total_kernel_150, total_aligned_dos1,\n",
    "                                                            holdout_train_index, holdout_test_index,\n",
    "                                                            total_kMM_150, 1e-2, 15, 1)\n",
    "print (\"LBFGS Holdout\")\n",
    "print (\"The train error is {:.4} for Kernel\".format(loss_dos))\n",
    "print (\"The test error is {:.4} for Kernel\".format(test_loss_dos))"
   ]
  },
  {
   "cell_type": "markdown",
   "id": "1ea5c75b",
   "metadata": {},
   "source": [
    "## Baseline Linalg Models - Truncated"
   ]
  },
  {
   "cell_type": "code",
   "execution_count": 326,
   "id": "91d43dc3",
   "metadata": {
    "ExecuteTime": {
     "end_time": "2023-04-25T20:21:28.615781Z",
     "start_time": "2023-04-25T20:21:28.602821Z"
    }
   },
   "outputs": [],
   "source": [
    "xdos = xdos2[:cutoff_index]\n",
    "total_dos3 = total_dos3[:, :cutoff_index]\n",
    "total_dos1 = total_dos1[:, :cutoff_index]\n",
    "\n",
    "surface_dos3 = surface_dos3[:, :cutoff_index]\n",
    "surface_dos1 = surface_dos1[:, :cutoff_index]\n",
    "\n",
    "surface_aligned_dos3 = surface_aligned_dos3[:, :cutoff_index]\n",
    "surface_aligned_dos1 = surface_aligned_dos1[:, :cutoff_index]\n",
    "\n",
    "bulk_dos3 = bulk_dos3[:, :cutoff_index]\n",
    "bulk_dos1 = bulk_dos1[:, :cutoff_index]\n",
    "\n",
    "total_aligned_dos3 = total_aligned_dos3[:, :cutoff_index]\n",
    "total_aligned_dos1 = total_aligned_dos1[:, :cutoff_index]"
   ]
  },
  {
   "cell_type": "markdown",
   "id": "045e0c90",
   "metadata": {},
   "source": [
    "### Surfaces"
   ]
  },
  {
   "cell_type": "markdown",
   "id": "84beb385",
   "metadata": {},
   "source": [
    "#### Surfaces - 0.3 SOAP"
   ]
  },
  {
   "cell_type": "code",
   "execution_count": 327,
   "id": "781a8448",
   "metadata": {
    "ExecuteTime": {
     "end_time": "2023-04-25T20:21:29.516083Z",
     "start_time": "2023-04-25T20:21:29.480558Z"
    }
   },
   "outputs": [
    {
     "name": "stdout",
     "output_type": "stream",
     "text": [
      "Smearing: 0.3\n",
      "Unbiased\n",
      "The train error is 38.57 for SOAP\n",
      "The test error is 60.68 for SOAP\n",
      "Holdout:\n",
      "The train error is 56.29 for SOAP\n",
      "The test error is 100.3 for SOAP\n"
     ]
    }
   ],
   "source": [
    "U_weight_s03, loss_dos, test_loss_dos =normal_reg_train_A(surface_soap, surface_dos3, surface_train_index, surface_test_index, 1e-2)\n",
    "print (\"Smearing: 0.3\")\n",
    "print (\"Unbiased\")\n",
    "print (\"The train error is {:.4} for SOAP\".format(loss_dos))\n",
    "print (\"The test error is {:.4} for SOAP\".format(test_loss_dos))\n",
    "\n",
    "B_weight_s03, loss_dos, test_loss_dos =normal_reg_train_A(surface_soap, surface_dos3, surface_holdout_train_index, surface_holdout_test_index, 1e-1)\n",
    "\n",
    "print (\"Holdout:\")\n",
    "print (\"The train error is {:.4} for SOAP\".format(loss_dos))\n",
    "print (\"The test error is {:.4} for SOAP\".format(test_loss_dos))\n"
   ]
  },
  {
   "cell_type": "markdown",
   "id": "1e35681e",
   "metadata": {},
   "source": [
    "#### Surfaces - 0.1 SOAP"
   ]
  },
  {
   "cell_type": "code",
   "execution_count": 328,
   "id": "c945cd50",
   "metadata": {
    "ExecuteTime": {
     "end_time": "2023-04-25T20:21:31.908035Z",
     "start_time": "2023-04-25T20:21:31.857435Z"
    }
   },
   "outputs": [
    {
     "name": "stdout",
     "output_type": "stream",
     "text": [
      "Smearing: 0.1\n",
      "Unbiased\n",
      "The train error is 53.65 for SOAP\n",
      "The test error is 77.04 for SOAP\n",
      "Goldout:\n",
      "The train error is 70.69 for SOAP\n",
      "The test error is 112.2 for SOAP\n"
     ]
    }
   ],
   "source": [
    "U_weight_s03, loss_dos, test_loss_dos =normal_reg_train_A(surface_soap, surface_dos1, surface_train_index, surface_test_index, 1e-2)\n",
    "print (\"Smearing: 0.1\")\n",
    "print (\"Unbiased\")\n",
    "print (\"The train error is {:.4} for SOAP\".format(loss_dos))\n",
    "print (\"The test error is {:.4} for SOAP\".format(test_loss_dos))\n",
    "\n",
    "B_weight_s03, loss_dos, test_loss_dos =normal_reg_train_A(surface_soap, surface_dos1, surface_holdout_train_index, surface_holdout_test_index, 1e-1)\n",
    "\n",
    "print (\"Goldout:\")\n",
    "print (\"The train error is {:.4} for SOAP\".format(loss_dos))\n",
    "print (\"The test error is {:.4} for SOAP\".format(test_loss_dos))"
   ]
  },
  {
   "cell_type": "markdown",
   "id": "dba33471",
   "metadata": {},
   "source": [
    "#### Surfaces - 0.3 Kernel"
   ]
  },
  {
   "cell_type": "code",
   "execution_count": 329,
   "id": "fa4b8519",
   "metadata": {
    "ExecuteTime": {
     "end_time": "2023-04-25T20:21:32.781227Z",
     "start_time": "2023-04-25T20:21:32.749900Z"
    }
   },
   "outputs": [
    {
     "name": "stdout",
     "output_type": "stream",
     "text": [
      "Smearing: 0.3\n",
      "Unbiased\n",
      "The train error is 34.35 for n_refs = 30\n",
      "The test error is 53.55 for n_refs = 30\n",
      "Biased\n",
      "The train error is 35.34 for n_refs = 30\n",
      "The test error is 100.0 for n_refs = 30\n"
     ]
    }
   ],
   "source": [
    "regularization = 1e-2\n",
    "U_weight_s03, loss_dos , test_loss_dos = kernel_reg_train_A(surface_kernel_30, surface_dos3, surface_train_index, surface_test_index,\n",
    "                                                            regularization, surface_kMM_30)\n",
    "print (\"Smearing: 0.3\")\n",
    "print (\"Unbiased\")\n",
    "print (\"The train error is {:.4} for n_refs = 30\".format(loss_dos))\n",
    "print (\"The test error is {:.4} for n_refs = 30\".format(test_loss_dos))\n",
    "B_weight_s03, loss_dos , test_loss_dos = kernel_reg_train_A(surface_kernel_30, surface_dos3, surface_holdout_train_index, surface_holdout_test_index,\n",
    "                                                            regularization, surface_kMM_30)\n",
    "print (\"Biased\")\n",
    "print (\"The train error is {:.4} for n_refs = 30\".format(loss_dos))\n",
    "print (\"The test error is {:.4} for n_refs = 30\".format(test_loss_dos))\n"
   ]
  },
  {
   "cell_type": "markdown",
   "id": "0641ac79",
   "metadata": {},
   "source": [
    "#### Surfaces - 0.1 Kernel"
   ]
  },
  {
   "cell_type": "code",
   "execution_count": 330,
   "id": "c53a54ff",
   "metadata": {
    "ExecuteTime": {
     "end_time": "2023-04-25T20:21:33.400271Z",
     "start_time": "2023-04-25T20:21:33.371086Z"
    }
   },
   "outputs": [
    {
     "name": "stdout",
     "output_type": "stream",
     "text": [
      "Smearing: 0.1\n",
      "Unbiased\n",
      "The train error is 50.45 for n_refs = 30\n",
      "The test error is 72.96 for n_refs = 30\n",
      "Biased\n",
      "The train error is 66.17 for n_refs = 30\n",
      "The test error is 114.2 for n_refs = 30\n"
     ]
    }
   ],
   "source": [
    "regularization = 1e-2\n",
    "U_weight_s03, loss_dos , test_loss_dos = kernel_reg_train_A(surface_kernel_30, surface_dos1, surface_train_index, surface_test_index,\n",
    "                                                            regularization, surface_kMM_30)\n",
    "print (\"Smearing: 0.1\")\n",
    "print (\"Unbiased\")\n",
    "print (\"The train error is {:.4} for n_refs = 30\".format(loss_dos))\n",
    "print (\"The test error is {:.4} for n_refs = 30\".format(test_loss_dos))\n",
    "B_weight_s03, loss_dos , test_loss_dos = kernel_reg_train_A(surface_kernel_30, surface_dos1, surface_holdout_train_index, surface_holdout_test_index,\n",
    "                                                            1e-1, surface_kMM_30)\n",
    "print (\"Biased\")\n",
    "print (\"The train error is {:.4} for n_refs = 30\".format(loss_dos))\n",
    "print (\"The test error is {:.4} for n_refs = 30\".format(test_loss_dos))"
   ]
  },
  {
   "cell_type": "markdown",
   "id": "6ab221c2",
   "metadata": {},
   "source": [
    "### Surfaces Aligned"
   ]
  },
  {
   "cell_type": "markdown",
   "id": "778c4f34",
   "metadata": {},
   "source": [
    "####  Surfaces Aligned - 0.3 SOAP"
   ]
  },
  {
   "cell_type": "code",
   "execution_count": 331,
   "id": "0f3b2f35",
   "metadata": {
    "ExecuteTime": {
     "end_time": "2023-04-25T20:21:33.729574Z",
     "start_time": "2023-04-25T20:21:33.702781Z"
    }
   },
   "outputs": [
    {
     "name": "stdout",
     "output_type": "stream",
     "text": [
      "Smearing: 0.3\n",
      "Unbiased\n",
      "The train error is 37.9 for SOAP\n",
      "The test error is 57.48 for SOAP\n",
      "Holdout:\n",
      "The train error is 55.35 for SOAP\n",
      "The test error is 97.43 for SOAP\n"
     ]
    }
   ],
   "source": [
    "U_weight_s03, loss_dos, test_loss_dos =normal_reg_train_A(surface_soap, surface_aligned_dos3, surface_train_index, surface_test_index, 1e-2)\n",
    "print (\"Smearing: 0.3\")\n",
    "print (\"Unbiased\")\n",
    "print (\"The train error is {:.4} for SOAP\".format(loss_dos))\n",
    "print (\"The test error is {:.4} for SOAP\".format(test_loss_dos))\n",
    "\n",
    "B_weight_s03, loss_dos, test_loss_dos =normal_reg_train_A(surface_soap, surface_aligned_dos3, surface_holdout_train_index, surface_holdout_test_index, 1e-1)\n",
    "\n",
    "print (\"Holdout:\")\n",
    "print (\"The train error is {:.4} for SOAP\".format(loss_dos))\n",
    "print (\"The test error is {:.4} for SOAP\".format(test_loss_dos))\n"
   ]
  },
  {
   "cell_type": "markdown",
   "id": "f62bb798",
   "metadata": {},
   "source": [
    "####  Surfaces Aligned - 0.1 SOAP"
   ]
  },
  {
   "cell_type": "code",
   "execution_count": 332,
   "id": "da5f6416",
   "metadata": {
    "ExecuteTime": {
     "end_time": "2023-04-25T20:21:33.992404Z",
     "start_time": "2023-04-25T20:21:33.942924Z"
    }
   },
   "outputs": [
    {
     "name": "stdout",
     "output_type": "stream",
     "text": [
      "Smearing: 0.1\n",
      "Unbiased\n",
      "The train error is 53.07 for SOAP\n",
      "The test error is 74.84 for SOAP\n",
      "Goldout:\n",
      "The train error is 69.99 for SOAP\n",
      "The test error is 109.9 for SOAP\n"
     ]
    }
   ],
   "source": [
    "U_weight_s03, loss_dos, test_loss_dos =normal_reg_train_A(surface_soap, surface_aligned_dos1, surface_train_index, surface_test_index, 1e-2)\n",
    "print (\"Smearing: 0.1\")\n",
    "print (\"Unbiased\")\n",
    "print (\"The train error is {:.4} for SOAP\".format(loss_dos))\n",
    "print (\"The test error is {:.4} for SOAP\".format(test_loss_dos))\n",
    "\n",
    "B_weight_s03, loss_dos, test_loss_dos =normal_reg_train_A(surface_soap, surface_aligned_dos1, surface_holdout_train_index, surface_holdout_test_index, 1e-1)\n",
    "\n",
    "print (\"Goldout:\")\n",
    "print (\"The train error is {:.4} for SOAP\".format(loss_dos))\n",
    "print (\"The test error is {:.4} for SOAP\".format(test_loss_dos))"
   ]
  },
  {
   "cell_type": "markdown",
   "id": "2f4abc6e",
   "metadata": {},
   "source": [
    "####  Surfaces Aligned - 0.3 Kernel"
   ]
  },
  {
   "cell_type": "code",
   "execution_count": 333,
   "id": "c4298dd8",
   "metadata": {
    "ExecuteTime": {
     "end_time": "2023-04-25T20:21:34.186058Z",
     "start_time": "2023-04-25T20:21:34.160133Z"
    }
   },
   "outputs": [
    {
     "name": "stdout",
     "output_type": "stream",
     "text": [
      "Smearing: 0.3\n",
      "Unbiased\n",
      "The train error is 33.97 for n_refs = 30\n",
      "The test error is 51.68 for n_refs = 30\n",
      "Biased\n",
      "The train error is 35.12 for n_refs = 30\n",
      "The test error is 98.99 for n_refs = 30\n"
     ]
    }
   ],
   "source": [
    "regularization = 1e-2\n",
    "U_weight_s03, loss_dos , test_loss_dos = kernel_reg_train_A(surface_kernel_30, surface_aligned_dos3, surface_train_index, surface_test_index,\n",
    "                                                            regularization, surface_kMM_30)\n",
    "print (\"Smearing: 0.3\")\n",
    "print (\"Unbiased\")\n",
    "print (\"The train error is {:.4} for n_refs = 30\".format(loss_dos))\n",
    "print (\"The test error is {:.4} for n_refs = 30\".format(test_loss_dos))\n",
    "B_weight_s03, loss_dos , test_loss_dos = kernel_reg_train_A(surface_kernel_30, surface_aligned_dos3, surface_holdout_train_index, surface_holdout_test_index,\n",
    "                                                            regularization, surface_kMM_30)\n",
    "print (\"Biased\")\n",
    "print (\"The train error is {:.4} for n_refs = 30\".format(loss_dos))\n",
    "print (\"The test error is {:.4} for n_refs = 30\".format(test_loss_dos))\n"
   ]
  },
  {
   "cell_type": "markdown",
   "id": "846bc009",
   "metadata": {},
   "source": [
    "####  Surfaces Aligned - 0.1 Kernel"
   ]
  },
  {
   "cell_type": "code",
   "execution_count": 334,
   "id": "8333723e",
   "metadata": {
    "ExecuteTime": {
     "end_time": "2023-04-25T20:21:34.394747Z",
     "start_time": "2023-04-25T20:21:34.367861Z"
    }
   },
   "outputs": [
    {
     "name": "stdout",
     "output_type": "stream",
     "text": [
      "Smearing: 0.1\n",
      "Unbiased\n",
      "The train error is 50.05 for n_refs = 30\n",
      "The test error is 71.57 for n_refs = 30\n",
      "Biased\n",
      "The train error is 65.69 for n_refs = 30\n",
      "The test error is 111.6 for n_refs = 30\n"
     ]
    }
   ],
   "source": [
    "regularization = 1e-2\n",
    "U_weight_s03, loss_dos , test_loss_dos = kernel_reg_train_A(surface_kernel_30, surface_aligned_dos1, surface_train_index, surface_test_index,\n",
    "                                                            regularization, surface_kMM_30)\n",
    "print (\"Smearing: 0.1\")\n",
    "print (\"Unbiased\")\n",
    "print (\"The train error is {:.4} for n_refs = 30\".format(loss_dos))\n",
    "print (\"The test error is {:.4} for n_refs = 30\".format(test_loss_dos))\n",
    "B_weight_s03, loss_dos , test_loss_dos = kernel_reg_train_A(surface_kernel_30, surface_aligned_dos1, surface_holdout_train_index, surface_holdout_test_index,\n",
    "                                                            1e-1, surface_kMM_30)\n",
    "print (\"Biased\")\n",
    "print (\"The train error is {:.4} for n_refs = 30\".format(loss_dos))\n",
    "print (\"The test error is {:.4} for n_refs = 30\".format(test_loss_dos))"
   ]
  },
  {
   "cell_type": "markdown",
   "id": "017d7465",
   "metadata": {},
   "source": [
    "### Bulk"
   ]
  },
  {
   "cell_type": "markdown",
   "id": "3062eacf",
   "metadata": {},
   "source": [
    "#### Bulk - 0.3 SOAP "
   ]
  },
  {
   "cell_type": "code",
   "execution_count": 335,
   "id": "8d466daa",
   "metadata": {
    "ExecuteTime": {
     "end_time": "2023-04-25T20:21:34.708832Z",
     "start_time": "2023-04-25T20:21:34.665138Z"
    }
   },
   "outputs": [
    {
     "name": "stdout",
     "output_type": "stream",
     "text": [
      "Smearing: 0.1\n",
      "Regularization: 0.01\n",
      "Unbiased\n",
      "The train error is 12.38 for SOAP\n",
      "The test error is 18.59 for SOAP\n",
      "Biased\n",
      "The train error is 11.69 for SOAP\n",
      "The test error is 23.14 for SOAP\n"
     ]
    }
   ],
   "source": [
    "regularization = 1e-2\n",
    "U_weight_s01, loss_dos, test_loss_dos =normal_reg_train_A(bulk_soap, bulk_dos3,\n",
    "                                                          bulk_train_index, bulk_test_index,\n",
    "                                                          regularization)\n",
    "print (\"Smearing: 0.1\")\n",
    "print (\"Regularization: {}\".format(regularization))\n",
    "print (\"Unbiased\")\n",
    "print (\"The train error is {:.4} for SOAP\".format(loss_dos))\n",
    "print (\"The test error is {:.4} for SOAP\".format(test_loss_dos))\n",
    "\n",
    "U_weight_s01, loss_dos, test_loss_dos =normal_reg_train_A(bulk_soap, bulk_dos3,\n",
    "                                                          bulk_biased_train_index, bulk_biased_test_index,\n",
    "                                                          regularization)\n",
    "print (\"Biased\")\n",
    "print (\"The train error is {:.4} for SOAP\".format(loss_dos))\n",
    "print (\"The test error is {:.4} for SOAP\".format(test_loss_dos))\n"
   ]
  },
  {
   "cell_type": "markdown",
   "id": "71be956b",
   "metadata": {},
   "source": [
    "#### Bulk- 0.1 SOAP "
   ]
  },
  {
   "cell_type": "code",
   "execution_count": 336,
   "id": "2528b644",
   "metadata": {
    "ExecuteTime": {
     "end_time": "2023-04-25T20:21:34.892507Z",
     "start_time": "2023-04-25T20:21:34.850424Z"
    }
   },
   "outputs": [
    {
     "name": "stdout",
     "output_type": "stream",
     "text": [
      "Smearing: 0.1\n",
      "Regularization: 0.01\n",
      "Unbiased\n",
      "The train error is 31.49 for SOAP\n",
      "The test error is 38.62 for SOAP\n",
      "Biased\n",
      "The train error is 30.82 for SOAP\n",
      "The test error is 44.88 for SOAP\n"
     ]
    }
   ],
   "source": [
    "regularization = 1e-2\n",
    "U_weight_s01, loss_dos, test_loss_dos =normal_reg_train_A(bulk_soap, bulk_dos1,\n",
    "                                                          bulk_train_index, bulk_test_index,\n",
    "                                                          regularization)\n",
    "print (\"Smearing: 0.1\")\n",
    "print (\"Regularization: {}\".format(regularization))\n",
    "print (\"Unbiased\")\n",
    "print (\"The train error is {:.4} for SOAP\".format(loss_dos))\n",
    "print (\"The test error is {:.4} for SOAP\".format(test_loss_dos))\n",
    "\n",
    "U_weight_s01, loss_dos, test_loss_dos =normal_reg_train_A(bulk_soap, bulk_dos1,\n",
    "                                                          bulk_biased_train_index, bulk_biased_test_index,\n",
    "                                                          regularization)\n",
    "print (\"Biased\")\n",
    "print (\"The train error is {:.4} for SOAP\".format(loss_dos))\n",
    "print (\"The test error is {:.4} for SOAP\".format(test_loss_dos))\n"
   ]
  },
  {
   "cell_type": "markdown",
   "id": "eda38030",
   "metadata": {},
   "source": [
    "#### Bulk - 0.3 Kernel"
   ]
  },
  {
   "cell_type": "code",
   "execution_count": 337,
   "id": "9372e9f2",
   "metadata": {
    "ExecuteTime": {
     "end_time": "2023-04-25T20:21:35.158853Z",
     "start_time": "2023-04-25T20:21:35.059693Z"
    }
   },
   "outputs": [
    {
     "name": "stdout",
     "output_type": "stream",
     "text": [
      "Smearing: 0.3\n",
      "Unbiased\n",
      "The train error is 10.02 for n_refs = 200\n",
      "The test error is 14.86 for n_refs = 200\n",
      "Biased\n",
      "The train error is 13.22 for n_refs = 100\n",
      "The test error is 21.07 for n_refs = 100\n"
     ]
    }
   ],
   "source": [
    "regularization = 1e-1\n",
    "U_weight_s03, loss_dos , test_loss_dos = kernel_reg_train_A(bulk_kernel_200, bulk_dos3,\n",
    "                                                            bulk_train_index, bulk_test_index,\n",
    "                                                            regularization, bulk_kMM_200)\n",
    "print (\"Smearing: 0.3\")\n",
    "print (\"Unbiased\")\n",
    "print (\"The train error is {:.4} for n_refs = 200\".format(loss_dos))\n",
    "print (\"The test error is {:.4} for n_refs = 200\".format(test_loss_dos))\n",
    "\n",
    "U_weight_s03, loss_dos , test_loss_dos = kernel_reg_train_A(bulk_kernel_100, bulk_dos3,\n",
    "                                                            bulk_biased_train_index, bulk_biased_test_index,\n",
    "                                                            regularization, bulk_kMM_100)\n",
    "print (\"Biased\")\n",
    "print (\"The train error is {:.4} for n_refs = 100\".format(loss_dos))\n",
    "print (\"The test error is {:.4} for n_refs = 100\".format(test_loss_dos))\n"
   ]
  },
  {
   "cell_type": "markdown",
   "id": "73492fa3",
   "metadata": {},
   "source": [
    "#### Bulk - 0.1 Kernel "
   ]
  },
  {
   "cell_type": "code",
   "execution_count": 338,
   "id": "74363953",
   "metadata": {
    "ExecuteTime": {
     "end_time": "2023-04-25T20:21:35.352337Z",
     "start_time": "2023-04-25T20:21:35.269117Z"
    }
   },
   "outputs": [
    {
     "name": "stdout",
     "output_type": "stream",
     "text": [
      "Smearing: 0.3\n",
      "Unbiased\n",
      "The train error is 29.26 for n_refs = 200\n",
      "The test error is 36.1 for n_refs = 200\n",
      "Biased\n",
      "The train error is 32.96 for n_refs = 100\n",
      "The test error is 42.52 for n_refs = 100\n"
     ]
    }
   ],
   "source": [
    "regularization = 1e-1\n",
    "U_weight_s03, loss_dos , test_loss_dos = kernel_reg_train_A(bulk_kernel_200, bulk_dos1,\n",
    "                                                            bulk_train_index, bulk_test_index,\n",
    "                                                            regularization, bulk_kMM_200)\n",
    "print (\"Smearing: 0.3\")\n",
    "print (\"Unbiased\")\n",
    "print (\"The train error is {:.4} for n_refs = 200\".format(loss_dos))\n",
    "print (\"The test error is {:.4} for n_refs = 200\".format(test_loss_dos))\n",
    "\n",
    "U_weight_s03, loss_dos , test_loss_dos = kernel_reg_train_A(bulk_kernel_100, bulk_dos1,\n",
    "                                                            bulk_biased_train_index, bulk_biased_test_index,\n",
    "                                                            regularization, bulk_kMM_100)\n",
    "print (\"Biased\")\n",
    "print (\"The train error is {:.4} for n_refs = 100\".format(loss_dos))\n",
    "print (\"The test error is {:.4} for n_refs = 100\".format(test_loss_dos))"
   ]
  },
  {
   "cell_type": "markdown",
   "id": "a5352fa5",
   "metadata": {},
   "source": [
    "### Total"
   ]
  },
  {
   "cell_type": "markdown",
   "id": "947ddafe",
   "metadata": {},
   "source": [
    "#### Total - 0.3 SOAP"
   ]
  },
  {
   "cell_type": "code",
   "execution_count": 339,
   "id": "4d0db031",
   "metadata": {
    "ExecuteTime": {
     "end_time": "2023-04-25T20:21:35.632490Z",
     "start_time": "2023-04-25T20:21:35.573386Z"
    }
   },
   "outputs": [
    {
     "name": "stdout",
     "output_type": "stream",
     "text": [
      "Smearing: 0.3\n",
      "Regularization: 0.01\n",
      "Unbiased\n",
      "The train error is 18.15 for SOAP\n",
      "The test error is 22.61 for SOAP\n",
      "Biased\n",
      "The train error is 17.23 for SOAP\n",
      "The test error is 27.82 for SOAP\n",
      "Holdout\n",
      "The train error is 16.5 for SOAP\n",
      "The test error is 31.67 for SOAP\n"
     ]
    }
   ],
   "source": [
    "regularization = 1e-2\n",
    "U_weight_s01, loss_dos, test_loss_dos =normal_reg_train_A(total_soap, total_dos3,\n",
    "                                                          total_train_index, total_test_index,\n",
    "                                                          regularization)\n",
    "print (\"Smearing: 0.3\")\n",
    "print (\"Regularization: {}\".format(regularization))\n",
    "print (\"Unbiased\")\n",
    "print (\"The train error is {:.4} for SOAP\".format(loss_dos))\n",
    "print (\"The test error is {:.4} for SOAP\".format(test_loss_dos))\n",
    "\n",
    "U_weight_s01, loss_dos, test_loss_dos =normal_reg_train_A(total_soap, total_dos3,\n",
    "                                                          total_biased_train_index, total_biased_test_index,\n",
    "                                                          regularization)\n",
    "print (\"Biased\")\n",
    "print (\"The train error is {:.4} for SOAP\".format(loss_dos))\n",
    "print (\"The test error is {:.4} for SOAP\".format(test_loss_dos))\n",
    "\n",
    "U_weight_s01, loss_dos, test_loss_dos =normal_reg_train_A(total_soap, total_dos3,\n",
    "                                                          holdout_train_index, holdout_test_index,\n",
    "                                                          regularization)\n",
    "\n",
    "print (\"Holdout\")\n",
    "print (\"The train error is {:.4} for SOAP\".format(loss_dos))\n",
    "print (\"The test error is {:.4} for SOAP\".format(test_loss_dos))"
   ]
  },
  {
   "cell_type": "markdown",
   "id": "d561c04d",
   "metadata": {},
   "source": [
    "#### Total - 0.1 SOAP"
   ]
  },
  {
   "cell_type": "code",
   "execution_count": 340,
   "id": "e2d977a8",
   "metadata": {
    "ExecuteTime": {
     "end_time": "2023-04-25T20:21:35.838740Z",
     "start_time": "2023-04-25T20:21:35.781601Z"
    }
   },
   "outputs": [
    {
     "name": "stdout",
     "output_type": "stream",
     "text": [
      "Smearing: 0.1\n",
      "Regularization: 0.01\n",
      "Unbiased\n",
      "The train error is 32.14 for SOAP\n",
      "The test error is 37.45 for SOAP\n",
      "Biased\n",
      "The train error is 31.24 for SOAP\n",
      "The test error is 43.32 for SOAP\n",
      "Holdout\n",
      "The train error is 31.64 for SOAP\n",
      "The test error is 42.62 for SOAP\n"
     ]
    }
   ],
   "source": [
    "regularization = 1e-2\n",
    "U_weight_s01, loss_dos, test_loss_dos =normal_reg_train_A(total_soap, total_dos1,\n",
    "                                                          total_train_index, total_test_index,\n",
    "                                                          regularization)\n",
    "print (\"Smearing: 0.1\")\n",
    "print (\"Regularization: {}\".format(regularization))\n",
    "print (\"Unbiased\")\n",
    "print (\"The train error is {:.4} for SOAP\".format(loss_dos))\n",
    "print (\"The test error is {:.4} for SOAP\".format(test_loss_dos))\n",
    "\n",
    "U_weight_s01, loss_dos, test_loss_dos =normal_reg_train_A(total_soap, total_dos1,\n",
    "                                                          total_biased_train_index, total_biased_test_index,\n",
    "                                                          regularization)\n",
    "print (\"Biased\")\n",
    "print (\"The train error is {:.4} for SOAP\".format(loss_dos))\n",
    "print (\"The test error is {:.4} for SOAP\".format(test_loss_dos))\n",
    "\n",
    "U_weight_s01, loss_dos, test_loss_dos =normal_reg_train_A(total_soap, total_dos1,\n",
    "                                                          holdout_train_index, holdout_test_index,\n",
    "                                                          regularization)\n",
    "\n",
    "print (\"Holdout\")\n",
    "print (\"The train error is {:.4} for SOAP\".format(loss_dos))\n",
    "print (\"The test error is {:.4} for SOAP\".format(test_loss_dos))"
   ]
  },
  {
   "cell_type": "markdown",
   "id": "9a2b028b",
   "metadata": {},
   "source": [
    "#### Total - 0.3 Kernel"
   ]
  },
  {
   "cell_type": "code",
   "execution_count": 341,
   "id": "d9bc4cb5",
   "metadata": {
    "ExecuteTime": {
     "end_time": "2023-04-25T20:21:36.090395Z",
     "start_time": "2023-04-25T20:21:35.993145Z"
    }
   },
   "outputs": [
    {
     "name": "stdout",
     "output_type": "stream",
     "text": [
      "Smearing: 0.3\n",
      "Unbiased\n",
      "The train error is 11.61 for n_refs = 150\n",
      "The test error is 16.82 for n_refs = 150\n",
      "Biased\n",
      "The train error is 10.85 for n_refs = 150\n",
      "The test error is 21.7 for n_refs = 150\n",
      "Holdout\n",
      "The train error is 12.57 for n_refs = 100\n",
      "The test error is 25.95 for n_refs = 100\n"
     ]
    }
   ],
   "source": [
    "regularization = 1e-2\n",
    "U_weight_s03, loss_dos , test_loss_dos = kernel_reg_train_A(total_kernel_150, total_dos3,\n",
    "                                                            total_train_index, total_test_index,\n",
    "                                                            regularization, total_kMM_150)\n",
    "print (\"Smearing: 0.3\")\n",
    "print (\"Unbiased\")\n",
    "print (\"The train error is {:.4} for n_refs = 150\".format(loss_dos))\n",
    "print (\"The test error is {:.4} for n_refs = 150\".format(test_loss_dos))\n",
    "\n",
    "U_weight_s03, loss_dos , test_loss_dos = kernel_reg_train_A(total_kernel_150, total_dos3,\n",
    "                                                            total_biased_train_index, total_biased_test_index,\n",
    "                                                            regularization, total_kMM_150)\n",
    "print (\"Biased\")\n",
    "print (\"The train error is {:.4} for n_refs = 150\".format(loss_dos))\n",
    "print (\"The test error is {:.4} for n_refs = 150\".format(test_loss_dos))\n",
    "\n",
    "U_weight_s03, loss_dos , test_loss_dos = kernel_reg_train_A(total_kernel_100, total_dos3,\n",
    "                                                            holdout_train_index, holdout_test_index,\n",
    "                                                            regularization, total_kMM_100)\n",
    "print (\"Holdout\")\n",
    "print (\"The train error is {:.4} for n_refs = 100\".format(loss_dos))\n",
    "print (\"The test error is {:.4} for n_refs = 100\".format(test_loss_dos))"
   ]
  },
  {
   "cell_type": "markdown",
   "id": "8be85562",
   "metadata": {},
   "source": [
    "#### Total - 0.1 Kernel"
   ]
  },
  {
   "cell_type": "code",
   "execution_count": 342,
   "id": "3b3ab291",
   "metadata": {
    "ExecuteTime": {
     "end_time": "2023-04-25T20:21:36.318179Z",
     "start_time": "2023-04-25T20:21:36.204616Z"
    }
   },
   "outputs": [
    {
     "name": "stdout",
     "output_type": "stream",
     "text": [
      "Smearing: 0.3\n",
      "Unbiased\n",
      "The train error is 31.01 for n_refs = 150\n",
      "The test error is 34.04 for n_refs = 150\n",
      "Biased\n",
      "The train error is 30.28 for n_refs = 150\n",
      "The test error is 39.04 for n_refs = 150\n",
      "Holdout\n",
      "The train error is 26.96 for n_refs = 150\n",
      "The test error is 38.11 for n_refs = 150\n"
     ]
    }
   ],
   "source": [
    "U_weight_s03, loss_dos , test_loss_dos = kernel_reg_train_A(total_kernel_150, total_dos1,\n",
    "                                                            total_train_index, total_test_index,\n",
    "                                                            1e-1, total_kMM_150)\n",
    "print (\"Smearing: 0.3\")\n",
    "print (\"Unbiased\")\n",
    "print (\"The train error is {:.4} for n_refs = 150\".format(loss_dos))\n",
    "print (\"The test error is {:.4} for n_refs = 150\".format(test_loss_dos))\n",
    "\n",
    "U_weight_s03, loss_dos , test_loss_dos = kernel_reg_train_A(total_kernel_150, total_dos1,\n",
    "                                                            total_biased_train_index, total_biased_test_index,\n",
    "                                                            1e-1, total_kMM_150)\n",
    "print (\"Biased\")\n",
    "print (\"The train error is {:.4} for n_refs = 150\".format(loss_dos))\n",
    "print (\"The test error is {:.4} for n_refs = 150\".format(test_loss_dos))\n",
    "\n",
    "U_weight_s03, loss_dos , test_loss_dos = kernel_reg_train_A(total_kernel_150, total_dos1,\n",
    "                                                            holdout_train_index, holdout_test_index,\n",
    "                                                            1e-2, total_kMM_150)\n",
    "print (\"Holdout\")\n",
    "print (\"The train error is {:.4} for n_refs = 150\".format(loss_dos))\n",
    "print (\"The test error is {:.4} for n_refs = 150\".format(test_loss_dos))"
   ]
  },
  {
   "cell_type": "markdown",
   "id": "03f6b7fe",
   "metadata": {},
   "source": [
    "### Total Aligned"
   ]
  },
  {
   "cell_type": "markdown",
   "id": "ea94b365",
   "metadata": {},
   "source": [
    "#### Total Aligned - 0.3 SOAP"
   ]
  },
  {
   "cell_type": "code",
   "execution_count": 343,
   "id": "9721493a",
   "metadata": {
    "ExecuteTime": {
     "end_time": "2023-04-25T20:21:36.580085Z",
     "start_time": "2023-04-25T20:21:36.504855Z"
    }
   },
   "outputs": [
    {
     "name": "stdout",
     "output_type": "stream",
     "text": [
      "Smearing: 0.3\n",
      "Regularization: 0.01\n",
      "Unbiased\n",
      "The train error is 17.35 for SOAP\n",
      "The test error is 21.77 for SOAP\n",
      "Biased\n",
      "The train error is 16.4 for SOAP\n",
      "The test error is 27.2 for SOAP\n",
      "Holdout\n",
      "The train error is 16.03 for SOAP\n",
      "The test error is 29.26 for SOAP\n"
     ]
    }
   ],
   "source": [
    "regularization = 1e-2\n",
    "U_weight_s01, loss_dos, test_loss_dos =normal_reg_train_A(total_soap, total_aligned_dos3,\n",
    "                                                          total_train_index, total_test_index,\n",
    "                                                          regularization)\n",
    "print (\"Smearing: 0.3\")\n",
    "print (\"Regularization: {}\".format(regularization))\n",
    "print (\"Unbiased\")\n",
    "print (\"The train error is {:.4} for SOAP\".format(loss_dos))\n",
    "print (\"The test error is {:.4} for SOAP\".format(test_loss_dos))\n",
    "\n",
    "U_weight_s01, loss_dos, test_loss_dos =normal_reg_train_A(total_soap, total_aligned_dos3,\n",
    "                                                          total_biased_train_index, total_biased_test_index,\n",
    "                                                          regularization)\n",
    "print (\"Biased\")\n",
    "print (\"The train error is {:.4} for SOAP\".format(loss_dos))\n",
    "print (\"The test error is {:.4} for SOAP\".format(test_loss_dos))\n",
    "\n",
    "U_weight_s01, loss_dos, test_loss_dos =normal_reg_train_A(total_soap, total_aligned_dos3,\n",
    "                                                          holdout_train_index, holdout_test_index,\n",
    "                                                          regularization)\n",
    "\n",
    "print (\"Holdout\")\n",
    "print (\"The train error is {:.4} for SOAP\".format(loss_dos))\n",
    "print (\"The test error is {:.4} for SOAP\".format(test_loss_dos))"
   ]
  },
  {
   "cell_type": "markdown",
   "id": "dc385f76",
   "metadata": {
    "ExecuteTime": {
     "end_time": "2023-04-22T08:26:06.781389Z",
     "start_time": "2023-04-22T08:26:06.776491Z"
    }
   },
   "source": [
    "#### Total Aligned - 0.1 SOAP"
   ]
  },
  {
   "cell_type": "code",
   "execution_count": 344,
   "id": "36f2a67a",
   "metadata": {
    "ExecuteTime": {
     "end_time": "2023-04-25T20:21:36.770175Z",
     "start_time": "2023-04-25T20:21:36.714835Z"
    }
   },
   "outputs": [
    {
     "name": "stdout",
     "output_type": "stream",
     "text": [
      "Smearing: 0.1\n",
      "Regularization: 0.01\n",
      "Unbiased\n",
      "The train error is 32.12 for SOAP\n",
      "The test error is 37.33 for SOAP\n",
      "Biased\n",
      "The train error is 31.2 for SOAP\n",
      "The test error is 43.42 for SOAP\n",
      "Holdout\n",
      "The train error is 31.72 for SOAP\n",
      "The test error is 41.71 for SOAP\n"
     ]
    }
   ],
   "source": [
    "regularization = 1e-2\n",
    "U_weight_s01, loss_dos, test_loss_dos =normal_reg_train_A(total_soap, total_aligned_dos1,\n",
    "                                                          total_train_index, total_test_index,\n",
    "                                                          regularization)\n",
    "print (\"Smearing: 0.1\")\n",
    "print (\"Regularization: {}\".format(regularization))\n",
    "print (\"Unbiased\")\n",
    "print (\"The train error is {:.4} for SOAP\".format(loss_dos))\n",
    "print (\"The test error is {:.4} for SOAP\".format(test_loss_dos))\n",
    "\n",
    "U_weight_s01, loss_dos, test_loss_dos =normal_reg_train_A(total_soap, total_aligned_dos1,\n",
    "                                                          total_biased_train_index, total_biased_test_index,\n",
    "                                                          regularization)\n",
    "print (\"Biased\")\n",
    "print (\"The train error is {:.4} for SOAP\".format(loss_dos))\n",
    "print (\"The test error is {:.4} for SOAP\".format(test_loss_dos))\n",
    "\n",
    "U_weight_s01, loss_dos, test_loss_dos =normal_reg_train_A(total_soap, total_aligned_dos1,\n",
    "                                                          holdout_train_index, holdout_test_index,\n",
    "                                                          regularization)\n",
    "\n",
    "print (\"Holdout\")\n",
    "print (\"The train error is {:.4} for SOAP\".format(loss_dos))\n",
    "print (\"The test error is {:.4} for SOAP\".format(test_loss_dos))"
   ]
  },
  {
   "cell_type": "markdown",
   "id": "90ce3c7c",
   "metadata": {
    "ExecuteTime": {
     "end_time": "2023-04-22T08:26:06.914392Z",
     "start_time": "2023-04-22T08:26:06.910740Z"
    }
   },
   "source": [
    "#### Total Aligned - 0.3 Kernel"
   ]
  },
  {
   "cell_type": "code",
   "execution_count": 345,
   "id": "05fe0b42",
   "metadata": {
    "ExecuteTime": {
     "end_time": "2023-04-25T20:21:37.024382Z",
     "start_time": "2023-04-25T20:21:36.928962Z"
    }
   },
   "outputs": [
    {
     "name": "stdout",
     "output_type": "stream",
     "text": [
      "Smearing: 0.3\n",
      "Unbiased\n",
      "The train error is 11.37 for n_refs = 150\n",
      "The test error is 16.56 for n_refs = 150\n",
      "Biased\n",
      "The train error is 10.61 for n_refs = 150\n",
      "The test error is 21.36 for n_refs = 150\n",
      "Holdout\n",
      "The train error is 12.38 for n_refs = 100\n",
      "The test error is 24.22 for n_refs = 100\n"
     ]
    }
   ],
   "source": [
    "regularization = 1e-2\n",
    "U_weight_s03, loss_dos , test_loss_dos = kernel_reg_train_A(total_kernel_150, total_aligned_dos3,\n",
    "                                                            total_train_index, total_test_index,\n",
    "                                                            regularization, total_kMM_150)\n",
    "print (\"Smearing: 0.3\")\n",
    "print (\"Unbiased\")\n",
    "print (\"The train error is {:.4} for n_refs = 150\".format(loss_dos))\n",
    "print (\"The test error is {:.4} for n_refs = 150\".format(test_loss_dos))\n",
    "\n",
    "U_weight_s03, loss_dos , test_loss_dos = kernel_reg_train_A(total_kernel_150, total_aligned_dos3,\n",
    "                                                            total_biased_train_index, total_biased_test_index,\n",
    "                                                            regularization, total_kMM_150)\n",
    "print (\"Biased\")\n",
    "print (\"The train error is {:.4} for n_refs = 150\".format(loss_dos))\n",
    "print (\"The test error is {:.4} for n_refs = 150\".format(test_loss_dos))\n",
    "\n",
    "U_weight_s03, loss_dos , test_loss_dos = kernel_reg_train_A(total_kernel_100, total_aligned_dos3,\n",
    "                                                            holdout_train_index, holdout_test_index,\n",
    "                                                            regularization, total_kMM_100)\n",
    "print (\"Holdout\")\n",
    "print (\"The train error is {:.4} for n_refs = 100\".format(loss_dos))\n",
    "print (\"The test error is {:.4} for n_refs = 100\".format(test_loss_dos))"
   ]
  },
  {
   "cell_type": "markdown",
   "id": "6cfe8bc4",
   "metadata": {
    "ExecuteTime": {
     "end_time": "2023-04-22T08:26:07.040922Z",
     "start_time": "2023-04-22T08:26:07.037398Z"
    }
   },
   "source": [
    "#### Total Aligned - 0.1 Kernel"
   ]
  },
  {
   "cell_type": "code",
   "execution_count": 346,
   "id": "228aa730",
   "metadata": {
    "ExecuteTime": {
     "end_time": "2023-04-25T20:21:37.249830Z",
     "start_time": "2023-04-25T20:21:37.137174Z"
    }
   },
   "outputs": [
    {
     "name": "stdout",
     "output_type": "stream",
     "text": [
      "Smearing: 0.3\n",
      "Unbiased\n",
      "The train error is 31.11 for n_refs = 150\n",
      "The test error is 34.11 for n_refs = 150\n",
      "Biased\n",
      "The train error is 30.38 for n_refs = 150\n",
      "The test error is 39.31 for n_refs = 150\n",
      "Holdout\n",
      "The train error is 27.18 for n_refs = 150\n",
      "The test error is 37.71 for n_refs = 150\n"
     ]
    }
   ],
   "source": [
    "U_weight_s03, loss_dos , test_loss_dos = kernel_reg_train_A(total_kernel_150, total_aligned_dos1,\n",
    "                                                            total_train_index, total_test_index,\n",
    "                                                            1e-1, total_kMM_150)\n",
    "print (\"Smearing: 0.3\")\n",
    "print (\"Unbiased\")\n",
    "print (\"The train error is {:.4} for n_refs = 150\".format(loss_dos))\n",
    "print (\"The test error is {:.4} for n_refs = 150\".format(test_loss_dos))\n",
    "\n",
    "U_weight_s03, loss_dos , test_loss_dos = kernel_reg_train_A(total_kernel_150, total_aligned_dos1,\n",
    "                                                            total_biased_train_index, total_biased_test_index,\n",
    "                                                            1e-1, total_kMM_150)\n",
    "print (\"Biased\")\n",
    "print (\"The train error is {:.4} for n_refs = 150\".format(loss_dos))\n",
    "print (\"The test error is {:.4} for n_refs = 150\".format(test_loss_dos))\n",
    "\n",
    "U_weight_s03, loss_dos , test_loss_dos = kernel_reg_train_A(total_kernel_150, total_aligned_dos1,\n",
    "                                                            holdout_train_index, holdout_test_index,\n",
    "                                                            1e-2, total_kMM_150)\n",
    "print (\"Holdout\")\n",
    "print (\"The train error is {:.4} for n_refs = 150\".format(loss_dos))\n",
    "print (\"The test error is {:.4} for n_refs = 150\".format(test_loss_dos))"
   ]
  },
  {
   "cell_type": "markdown",
   "id": "62cf99b1",
   "metadata": {},
   "source": [
    "## Baseline GD model - Adam "
   ]
  },
  {
   "cell_type": "markdown",
   "id": "316f422f",
   "metadata": {},
   "source": [
    "### Surfaces"
   ]
  },
  {
   "cell_type": "markdown",
   "id": "aaec2d9b",
   "metadata": {},
   "source": [
    "#### Surfaces - 0.3 SOAP"
   ]
  },
  {
   "cell_type": "code",
   "execution_count": 347,
   "id": "1646290b",
   "metadata": {
    "ExecuteTime": {
     "end_time": "2023-04-25T20:23:05.222682Z",
     "start_time": "2023-04-25T20:21:37.535804Z"
    }
   },
   "outputs": [
    {
     "name": "stderr",
     "output_type": "stream",
     "text": [
      "Epoch: 1014:  10%|███████████▏                                                                                                   | 1010/10000 [00:31<03:40, 40.77it/s, lowest_mse=0.00999, pred_loss=64, trigger=0]"
     ]
    },
    {
     "name": "stdout",
     "output_type": "stream",
     "text": [
      "The batch_size is now:  32\n"
     ]
    },
    {
     "name": "stderr",
     "output_type": "stream",
     "text": [
      "Epoch: 2023:  20%|█████████████████████▉                                                                                       | 2017/10000 [00:48<01:52, 70.84it/s, lowest_mse=0.00724, pred_loss=54.5, trigger=0]"
     ]
    },
    {
     "name": "stdout",
     "output_type": "stream",
     "text": [
      "The batch_size is now:  64\n"
     ]
    },
    {
     "name": "stderr",
     "output_type": "stream",
     "text": [
      "Epoch: 3035:  30%|████████████████████████████████▉                                                                            | 3022/10000 [00:59<01:03, 109.19it/s, lowest_mse=0.0065, pred_loss=51.6, trigger=0]"
     ]
    },
    {
     "name": "stdout",
     "output_type": "stream",
     "text": [
      "The batch_size is now:  128\n"
     ]
    },
    {
     "name": "stderr",
     "output_type": "stream",
     "text": [
      "Epoch: 4037:  40%|███████████████████████████████████████████▍                                                                | 4024/10000 [01:06<00:42, 142.02it/s, lowest_mse=0.00611, pred_loss=50.1, trigger=0]"
     ]
    },
    {
     "name": "stdout",
     "output_type": "stream",
     "text": [
      "The batch_size is now:  256\n"
     ]
    },
    {
     "name": "stderr",
     "output_type": "stream",
     "text": [
      "Epoch: 5039:  50%|██████████████████████████████████████████████████████▊                                                      | 5028/10000 [01:13<00:34, 144.40it/s, lowest_mse=0.0058, pred_loss=48.8, trigger=0]"
     ]
    },
    {
     "name": "stdout",
     "output_type": "stream",
     "text": [
      "The batch_size is now:  512\n"
     ]
    },
    {
     "name": "stderr",
     "output_type": "stream",
     "text": [
      "Epoch: 6041:  60%|█████████████████████████████████████████████████████████████████▏                                          | 6033/10000 [01:20<00:27, 142.71it/s, lowest_mse=0.00555, pred_loss=47.9, trigger=0]"
     ]
    },
    {
     "name": "stdout",
     "output_type": "stream",
     "text": [
      "The batch_size is now:  1024\n"
     ]
    },
    {
     "name": "stderr",
     "output_type": "stream",
     "text": [
      "Epoch: 7015:  70%|████████████████████████████████████████████████████████████████████████████▍                                | 7015/10000 [01:27<00:37, 80.02it/s, lowest_mse=0.00534, pred_loss=46.8, trigger=0]"
     ]
    },
    {
     "name": "stdout",
     "output_type": "stream",
     "text": [
      "The batch_size is now:  2048\n",
      "Adam Unbiased\n",
      "The train error is 46.81 for SOAP\n",
      "The test error is 65.52 for SOAP\n"
     ]
    },
    {
     "name": "stderr",
     "output_type": "stream",
     "text": [
      "\n"
     ]
    }
   ],
   "source": [
    "weights, loss_dos, test_loss_dos = normal_reg_train_Ad(surface_soap, surface_dos3, surface_train_index, surface_test_index, 1e-2, 10000, 16, 1e-3)\n",
    "print (\"Adam Unbiased\")\n",
    "print (\"The train error is {:.4} for SOAP\".format(loss_dos))\n",
    "print (\"The test error is {:.4} for SOAP\".format(test_loss_dos))"
   ]
  },
  {
   "cell_type": "code",
   "execution_count": 348,
   "id": "286adec9",
   "metadata": {
    "ExecuteTime": {
     "end_time": "2023-04-25T20:24:39.002413Z",
     "start_time": "2023-04-25T20:23:05.225241Z"
    },
    "scrolled": true
   },
   "outputs": [
    {
     "name": "stderr",
     "output_type": "stream",
     "text": [
      "Epoch: 1013:  10%|███████████▏                                                                                                   | 1011/10000 [00:31<03:46, 39.61it/s, lowest_mse=0.012, pred_loss=73.4, trigger=0]"
     ]
    },
    {
     "name": "stdout",
     "output_type": "stream",
     "text": [
      "The batch_size is now:  32\n"
     ]
    },
    {
     "name": "stderr",
     "output_type": "stream",
     "text": [
      "Epoch: 2020:  20%|█████████████████████▉                                                                                       | 2015/10000 [00:50<02:04, 64.12it/s, lowest_mse=0.00899, pred_loss=63.4, trigger=0]"
     ]
    },
    {
     "name": "stdout",
     "output_type": "stream",
     "text": [
      "The batch_size is now:  64\n"
     ]
    },
    {
     "name": "stderr",
     "output_type": "stream",
     "text": [
      "Epoch: 3019:  30%|████████████████████████████████▉                                                                            | 3018/10000 [01:03<02:21, 49.34it/s, lowest_mse=0.00814, pred_loss=60.8, trigger=0]"
     ]
    },
    {
     "name": "stdout",
     "output_type": "stream",
     "text": [
      "The batch_size is now:  128\n"
     ]
    },
    {
     "name": "stderr",
     "output_type": "stream",
     "text": [
      "Epoch: 4036:  40%|███████████████████████████████████████████▌                                                                | 4033/10000 [01:11<00:42, 139.17it/s, lowest_mse=0.00755, pred_loss=58.1, trigger=0]"
     ]
    },
    {
     "name": "stdout",
     "output_type": "stream",
     "text": [
      "The batch_size is now:  256\n"
     ]
    },
    {
     "name": "stderr",
     "output_type": "stream",
     "text": [
      "Epoch: 5039:  50%|██████████████████████████████████████████████████████▎                                                     | 5031/10000 [01:19<00:34, 142.22it/s, lowest_mse=0.00735, pred_loss=57.3, trigger=0]"
     ]
    },
    {
     "name": "stdout",
     "output_type": "stream",
     "text": [
      "The batch_size is now:  512\n"
     ]
    },
    {
     "name": "stderr",
     "output_type": "stream",
     "text": [
      "Epoch: 6035:  60%|██████████████████████████████████████████████████████████████████▎                                           | 6034/10000 [01:26<00:35, 112.03it/s, lowest_mse=0.00723, pred_loss=57, trigger=0]"
     ]
    },
    {
     "name": "stdout",
     "output_type": "stream",
     "text": [
      "The batch_size is now:  1024\n"
     ]
    },
    {
     "name": "stderr",
     "output_type": "stream",
     "text": [
      "Epoch: 7015:  70%|████████████████████████████████████████████████████████████████████████████▍                                | 7015/10000 [01:33<00:39, 74.82it/s, lowest_mse=0.00717, pred_loss=56.6, trigger=0]\n"
     ]
    },
    {
     "name": "stdout",
     "output_type": "stream",
     "text": [
      "The batch_size is now:  2048\n",
      "Adam Holdout\n",
      "The train error is 56.62 for SOAP\n",
      "The test error is 100.3 for SOAP\n"
     ]
    }
   ],
   "source": [
    "weights, loss_dos, test_loss_dos = normal_reg_train_Ad(surface_soap, surface_dos3,\n",
    "                                                       surface_holdout_train_index, surface_holdout_test_index, 1e-1,\n",
    "                                                       10000, 16, 1e-3)\n",
    "print (\"Adam Holdout\")\n",
    "print (\"The train error is {:.4} for SOAP\".format(loss_dos))\n",
    "print (\"The test error is {:.4} for SOAP\".format(test_loss_dos))"
   ]
  },
  {
   "cell_type": "markdown",
   "id": "7d121eb7",
   "metadata": {},
   "source": [
    "#### Surfaces - 0.1 SOAP"
   ]
  },
  {
   "cell_type": "code",
   "execution_count": 349,
   "id": "3d35f2f3",
   "metadata": {
    "ExecuteTime": {
     "end_time": "2023-04-25T20:26:08.695759Z",
     "start_time": "2023-04-25T20:24:39.004943Z"
    }
   },
   "outputs": [
    {
     "name": "stderr",
     "output_type": "stream",
     "text": [
      "Epoch: 1014:  10%|███████████▎                                                                                                    | 1012/10000 [00:32<03:32, 42.40it/s, lowest_mse=0.0265, pred_loss=76, trigger=0]"
     ]
    },
    {
     "name": "stdout",
     "output_type": "stream",
     "text": [
      "The batch_size is now:  32\n"
     ]
    },
    {
     "name": "stderr",
     "output_type": "stream",
     "text": [
      "Epoch: 2024:  20%|██████████████████████▏                                                                                       | 2020/10000 [00:49<01:49, 73.12it/s, lowest_mse=0.0219, pred_loss=69.1, trigger=0]"
     ]
    },
    {
     "name": "stdout",
     "output_type": "stream",
     "text": [
      "The batch_size is now:  64\n"
     ]
    },
    {
     "name": "stderr",
     "output_type": "stream",
     "text": [
      "Epoch: 3035:  30%|█████████████████████████████████▎                                                                            | 3032/10000 [01:00<01:10, 98.18it/s, lowest_mse=0.0204, pred_loss=66.8, trigger=0]"
     ]
    },
    {
     "name": "stdout",
     "output_type": "stream",
     "text": [
      "The batch_size is now:  128\n"
     ]
    },
    {
     "name": "stderr",
     "output_type": "stream",
     "text": [
      "Epoch: 4037:  40%|███████████████████████████████████████████▉                                                                 | 4028/10000 [01:08<00:42, 142.15it/s, lowest_mse=0.0196, pred_loss=65.4, trigger=0]"
     ]
    },
    {
     "name": "stdout",
     "output_type": "stream",
     "text": [
      "The batch_size is now:  256\n"
     ]
    },
    {
     "name": "stderr",
     "output_type": "stream",
     "text": [
      "Epoch: 5039:  50%|██████████████████████████████████████████████████████▊                                                      | 5033/10000 [01:15<00:34, 142.10it/s, lowest_mse=0.0189, pred_loss=64.2, trigger=0]"
     ]
    },
    {
     "name": "stdout",
     "output_type": "stream",
     "text": [
      "The batch_size is now:  512\n"
     ]
    },
    {
     "name": "stderr",
     "output_type": "stream",
     "text": [
      "Epoch: 6041:  60%|█████████████████████████████████████████████████████████████████▊                                           | 6035/10000 [01:22<00:28, 140.42it/s, lowest_mse=0.0183, pred_loss=63.2, trigger=0]"
     ]
    },
    {
     "name": "stdout",
     "output_type": "stream",
     "text": [
      "The batch_size is now:  1024\n"
     ]
    },
    {
     "name": "stderr",
     "output_type": "stream",
     "text": [
      "Epoch: 7015:  70%|█████████████████████████████████████████████████████████████████████████████▏                                | 7015/10000 [01:29<00:38, 78.23it/s, lowest_mse=0.0177, pred_loss=62.2, trigger=0]\n"
     ]
    },
    {
     "name": "stdout",
     "output_type": "stream",
     "text": [
      "The batch_size is now:  2048\n",
      "Adam Unbiased\n",
      "The train error is 62.23 for SOAP\n",
      "The test error is 80.45 for SOAP\n"
     ]
    }
   ],
   "source": [
    "weights, loss_dos, test_loss_dos = normal_reg_train_Ad(surface_soap, surface_dos1, \n",
    "                                                       surface_train_index, surface_test_index,\n",
    "                                                       1e-2, 10000, 16, 1e-3)\n",
    "print (\"Adam Unbiased\")\n",
    "print (\"The train error is {:.4} for SOAP\".format(loss_dos))\n",
    "print (\"The test error is {:.4} for SOAP\".format(test_loss_dos))"
   ]
  },
  {
   "cell_type": "code",
   "execution_count": 350,
   "id": "25aef918",
   "metadata": {
    "ExecuteTime": {
     "end_time": "2023-04-25T20:27:39.329319Z",
     "start_time": "2023-04-25T20:26:08.698436Z"
    }
   },
   "outputs": [
    {
     "name": "stderr",
     "output_type": "stream",
     "text": [
      "Epoch: 1014:  10%|███████████                                                                                                   | 1010/10000 [00:31<03:46, 39.72it/s, lowest_mse=0.0303, pred_loss=82.3, trigger=0]"
     ]
    },
    {
     "name": "stdout",
     "output_type": "stream",
     "text": [
      "The batch_size is now:  32\n"
     ]
    },
    {
     "name": "stderr",
     "output_type": "stream",
     "text": [
      "Epoch: 2022:  20%|██████████████████████▏                                                                                       | 2015/10000 [00:49<02:00, 66.26it/s, lowest_mse=0.0262, pred_loss=76.5, trigger=0]"
     ]
    },
    {
     "name": "stdout",
     "output_type": "stream",
     "text": [
      "The batch_size is now:  64\n"
     ]
    },
    {
     "name": "stderr",
     "output_type": "stream",
     "text": [
      "Epoch: 3032:  30%|████████████████████████████████▉                                                                            | 3022/10000 [01:00<01:08, 101.27it/s, lowest_mse=0.0247, pred_loss=74.3, trigger=0]"
     ]
    },
    {
     "name": "stdout",
     "output_type": "stream",
     "text": [
      "The batch_size is now:  128\n"
     ]
    },
    {
     "name": "stderr",
     "output_type": "stream",
     "text": [
      "Epoch: 4035:  40%|███████████████████████████████████████████▊                                                                 | 4025/10000 [01:07<00:45, 131.05it/s, lowest_mse=0.0235, pred_loss=72.6, trigger=0]"
     ]
    },
    {
     "name": "stdout",
     "output_type": "stream",
     "text": [
      "The batch_size is now:  256\n"
     ]
    },
    {
     "name": "stderr",
     "output_type": "stream",
     "text": [
      "Epoch: 5037:  50%|██████████████████████████████████████████████████████▊                                                      | 5033/10000 [01:15<00:37, 131.41it/s, lowest_mse=0.0231, pred_loss=71.8, trigger=0]"
     ]
    },
    {
     "name": "stdout",
     "output_type": "stream",
     "text": [
      "The batch_size is now:  512\n"
     ]
    },
    {
     "name": "stderr",
     "output_type": "stream",
     "text": [
      "Epoch: 6039:  60%|█████████████████████████████████████████████████████████████████▋                                           | 6027/10000 [01:23<00:30, 132.29it/s, lowest_mse=0.0228, pred_loss=71.4, trigger=0]"
     ]
    },
    {
     "name": "stdout",
     "output_type": "stream",
     "text": [
      "The batch_size is now:  1024\n"
     ]
    },
    {
     "name": "stderr",
     "output_type": "stream",
     "text": [
      "Epoch: 7015:  70%|█████████████████████████████████████████████████████████████████████████████▏                                | 7015/10000 [01:30<00:38, 77.42it/s, lowest_mse=0.0226, pred_loss=71.1, trigger=0]"
     ]
    },
    {
     "name": "stdout",
     "output_type": "stream",
     "text": [
      "The batch_size is now:  2048\n",
      "Adam Holdout\n",
      "The train error is 71.06 for SOAP\n",
      "The test error is 112.1 for SOAP\n"
     ]
    },
    {
     "name": "stderr",
     "output_type": "stream",
     "text": [
      "\n"
     ]
    }
   ],
   "source": [
    "weights, loss_dos, test_loss_dos = normal_reg_train_Ad(surface_soap, surface_dos1,\n",
    "                                                       surface_holdout_train_index, surface_holdout_test_index, 1e-1,\n",
    "                                                       10000, 16, 1e-3)\n",
    "print (\"Adam Holdout\")\n",
    "print (\"The train error is {:.4} for SOAP\".format(loss_dos))\n",
    "print (\"The test error is {:.4} for SOAP\".format(test_loss_dos))"
   ]
  },
  {
   "cell_type": "markdown",
   "id": "1f7d9b9a",
   "metadata": {},
   "source": [
    "#### Surfaces - 0.3 Kernel"
   ]
  },
  {
   "cell_type": "code",
   "execution_count": 351,
   "id": "18cddfd5",
   "metadata": {
    "ExecuteTime": {
     "end_time": "2023-04-25T20:28:13.646426Z",
     "start_time": "2023-04-25T20:27:39.332505Z"
    }
   },
   "outputs": [
    {
     "name": "stderr",
     "output_type": "stream",
     "text": [
      "Epoch: 828:   8%|█████████▎                                                                                                       | 828/10000 [00:10<01:33, 98.16it/s, lowest_mse=0.0289, pred_loss=109, trigger=0]"
     ]
    },
    {
     "name": "stdout",
     "output_type": "stream",
     "text": [
      "The batch_size is now:  32\n"
     ]
    },
    {
     "name": "stderr",
     "output_type": "stream",
     "text": [
      "Epoch: 1645:  16%|█████████████████▉                                                                                           | 1641/10000 [00:16<00:54, 154.13it/s, lowest_mse=0.0202, pred_loss=91.1, trigger=0]"
     ]
    },
    {
     "name": "stdout",
     "output_type": "stream",
     "text": [
      "The batch_size is now:  64\n"
     ]
    },
    {
     "name": "stderr",
     "output_type": "stream",
     "text": [
      "Epoch: 2461:  24%|██████████████████████████▌                                                                                  | 2439/10000 [00:21<00:38, 198.88it/s, lowest_mse=0.0159, pred_loss=80.7, trigger=0]"
     ]
    },
    {
     "name": "stdout",
     "output_type": "stream",
     "text": [
      "The batch_size is now:  128\n"
     ]
    },
    {
     "name": "stderr",
     "output_type": "stream",
     "text": [
      "Epoch: 3265:  33%|███████████████████████████████████▌                                                                         | 3263/10000 [00:24<00:27, 240.81it/s, lowest_mse=0.0138, pred_loss=75.2, trigger=0]"
     ]
    },
    {
     "name": "stdout",
     "output_type": "stream",
     "text": [
      "The batch_size is now:  256\n"
     ]
    },
    {
     "name": "stderr",
     "output_type": "stream",
     "text": [
      "Epoch: 4069:  41%|████████████████████████████████████████████▋                                                                 | 4063/10000 [00:27<00:24, 240.75it/s, lowest_mse=0.012, pred_loss=70.1, trigger=0]"
     ]
    },
    {
     "name": "stdout",
     "output_type": "stream",
     "text": [
      "The batch_size is now:  512\n"
     ]
    },
    {
     "name": "stderr",
     "output_type": "stream",
     "text": [
      "Epoch: 4871:  49%|████████████████████████████████████████████████████▉                                                        | 4862/10000 [00:31<00:21, 238.87it/s, lowest_mse=0.0107, pred_loss=66.3, trigger=0]"
     ]
    },
    {
     "name": "stdout",
     "output_type": "stream",
     "text": [
      "The batch_size is now:  1024\n"
     ]
    },
    {
     "name": "stderr",
     "output_type": "stream",
     "text": [
      "Epoch: 5629:  56%|████████████████████████████████████████████████████████████▊                                               | 5629/10000 [00:34<00:26, 164.11it/s, lowest_mse=0.00988, pred_loss=63.7, trigger=0]"
     ]
    },
    {
     "name": "stdout",
     "output_type": "stream",
     "text": [
      "The batch_size is now:  2048\n",
      "Adam Unbiased\n",
      "The train error is 63.67 for KERNEL\n",
      "The test error is 69.17 for KERNEL\n"
     ]
    },
    {
     "name": "stderr",
     "output_type": "stream",
     "text": [
      "\n"
     ]
    }
   ],
   "source": [
    "A_U_weights_03, loss_dos, test_loss_dos = kernel_reg_train_Ad(surface_kernel_30, surface_dos3,\n",
    "                                                              surface_train_index, surface_test_index,\n",
    "                                                              surface_kMM_30, 1e-2, 10000, 16, 1e-3)\n",
    "\n",
    "print (\"Adam Unbiased\")\n",
    "print (\"The train error is {:.4} for KERNEL\".format(loss_dos))\n",
    "print (\"The test error is {:.4} for KERNEL\".format(test_loss_dos))"
   ]
  },
  {
   "cell_type": "code",
   "execution_count": 352,
   "id": "12e9e94b",
   "metadata": {
    "ExecuteTime": {
     "end_time": "2023-04-25T20:28:48.785353Z",
     "start_time": "2023-04-25T20:28:13.648060Z"
    }
   },
   "outputs": [
    {
     "name": "stderr",
     "output_type": "stream",
     "text": [
      "Epoch: 831:   8%|█████████▎                                                                                                      | 826/10000 [00:09<01:28, 103.85it/s, lowest_mse=0.0274, pred_loss=111, trigger=0]"
     ]
    },
    {
     "name": "stdout",
     "output_type": "stream",
     "text": [
      "The batch_size is now:  32\n"
     ]
    },
    {
     "name": "stderr",
     "output_type": "stream",
     "text": [
      "Epoch: 1645:  16%|██████████████████                                                                                             | 1629/10000 [00:15<00:56, 147.49it/s, lowest_mse=0.0198, pred_loss=94, trigger=0]"
     ]
    },
    {
     "name": "stdout",
     "output_type": "stream",
     "text": [
      "The batch_size is now:  64\n"
     ]
    },
    {
     "name": "stderr",
     "output_type": "stream",
     "text": [
      "Epoch: 2462:  25%|██████████████████████████▊                                                                                  | 2457/10000 [00:20<00:34, 215.62it/s, lowest_mse=0.0157, pred_loss=83.9, trigger=0]"
     ]
    },
    {
     "name": "stdout",
     "output_type": "stream",
     "text": [
      "The batch_size is now:  128\n"
     ]
    },
    {
     "name": "stderr",
     "output_type": "stream",
     "text": [
      "Epoch: 3257:  32%|███████████████████████████████████▎                                                                         | 3243/10000 [00:23<00:33, 203.00it/s, lowest_mse=0.0138, pred_loss=78.6, trigger=0]"
     ]
    },
    {
     "name": "stdout",
     "output_type": "stream",
     "text": [
      "The batch_size is now:  256\n"
     ]
    },
    {
     "name": "stderr",
     "output_type": "stream",
     "text": [
      "Epoch: 4061:  41%|████████████████████████████████████████████▋                                                                 | 4061/10000 [00:27<00:29, 203.73it/s, lowest_mse=0.012, pred_loss=73.3, trigger=0]"
     ]
    },
    {
     "name": "stdout",
     "output_type": "stream",
     "text": [
      "The batch_size is now:  512\n"
     ]
    },
    {
     "name": "stderr",
     "output_type": "stream",
     "text": [
      "Epoch: 4865:  49%|████████████████████████████████████████████████████▉                                                        | 4858/10000 [00:31<00:25, 202.65it/s, lowest_mse=0.0106, pred_loss=69.1, trigger=0]"
     ]
    },
    {
     "name": "stdout",
     "output_type": "stream",
     "text": [
      "The batch_size is now:  1024\n"
     ]
    },
    {
     "name": "stderr",
     "output_type": "stream",
     "text": [
      "Epoch: 5629:  56%|████████████████████████████████████████████████████████████▊                                               | 5629/10000 [00:35<00:27, 160.24it/s, lowest_mse=0.00968, pred_loss=65.8, trigger=0]\n"
     ]
    },
    {
     "name": "stdout",
     "output_type": "stream",
     "text": [
      "The batch_size is now:  2048\n",
      "Adam Holdout\n",
      "The train error is 65.8 for KERNEL\n",
      "The test error is 101.3 for KERNEL\n"
     ]
    }
   ],
   "source": [
    "A_U_weights_03, loss_dos, test_loss_dos = kernel_reg_train_Ad(surface_kernel_30, surface_dos3,\n",
    "                                                              surface_holdout_train_index, surface_holdout_test_index,\n",
    "                                                              surface_kMM_30, 1e-2, 10000, 16, 1e-3)\n",
    "print (\"Adam Holdout\")\n",
    "print (\"The train error is {:.4} for KERNEL\".format(loss_dos))\n",
    "print (\"The test error is {:.4} for KERNEL\".format(test_loss_dos))"
   ]
  },
  {
   "cell_type": "markdown",
   "id": "a704bb91",
   "metadata": {
    "ExecuteTime": {
     "end_time": "2023-04-21T17:16:47.143487Z",
     "start_time": "2023-04-21T17:16:47.143473Z"
    }
   },
   "source": [
    "#### Surfaces - 0.1 Kernel"
   ]
  },
  {
   "cell_type": "code",
   "execution_count": 353,
   "id": "3e2456ff",
   "metadata": {
    "ExecuteTime": {
     "end_time": "2023-04-25T20:29:22.369850Z",
     "start_time": "2023-04-25T20:28:48.786994Z"
    }
   },
   "outputs": [
    {
     "name": "stderr",
     "output_type": "stream",
     "text": [
      "Epoch: 831:   8%|█████████▎                                                                                                      | 826/10000 [00:09<01:27, 104.82it/s, lowest_mse=0.0518, pred_loss=106, trigger=0]"
     ]
    },
    {
     "name": "stdout",
     "output_type": "stream",
     "text": [
      "The batch_size is now:  32\n"
     ]
    },
    {
     "name": "stderr",
     "output_type": "stream",
     "text": [
      "Epoch: 1645:  16%|█████████████████▉                                                                                            | 1629/10000 [00:15<00:57, 146.78it/s, lowest_mse=0.042, pred_loss=95.8, trigger=0]"
     ]
    },
    {
     "name": "stdout",
     "output_type": "stream",
     "text": [
      "The batch_size is now:  64\n"
     ]
    },
    {
     "name": "stderr",
     "output_type": "stream",
     "text": [
      "Epoch: 2463:  25%|██████████████████████████▊                                                                                  | 2458/10000 [00:20<00:34, 217.25it/s, lowest_mse=0.0369, pred_loss=89.8, trigger=0]"
     ]
    },
    {
     "name": "stdout",
     "output_type": "stream",
     "text": [
      "The batch_size is now:  128\n"
     ]
    },
    {
     "name": "stderr",
     "output_type": "stream",
     "text": [
      "Epoch: 3264:  33%|███████████████████████████████████▌                                                                         | 3265/10000 [00:23<00:28, 239.08it/s, lowest_mse=0.0342, pred_loss=86.5, trigger=0]"
     ]
    },
    {
     "name": "stdout",
     "output_type": "stream",
     "text": [
      "The batch_size is now:  256\n"
     ]
    },
    {
     "name": "stderr",
     "output_type": "stream",
     "text": [
      "Epoch: 4069:  41%|█████████████████████████████████████████████                                                                  | 4059/10000 [00:26<00:24, 238.44it/s, lowest_mse=0.0316, pred_loss=83, trigger=0]"
     ]
    },
    {
     "name": "stdout",
     "output_type": "stream",
     "text": [
      "The batch_size is now:  512\n"
     ]
    },
    {
     "name": "stderr",
     "output_type": "stream",
     "text": [
      "Epoch: 4873:  48%|█████████████████████████████████████████████████████▊                                                         | 4850/10000 [00:30<00:22, 227.34it/s, lowest_mse=0.0293, pred_loss=80, trigger=0]"
     ]
    },
    {
     "name": "stdout",
     "output_type": "stream",
     "text": [
      "The batch_size is now:  1024\n"
     ]
    },
    {
     "name": "stderr",
     "output_type": "stream",
     "text": [
      "Epoch: 5629:  56%|██████████████████████████████████████████████████████████████▍                                                | 5629/10000 [00:33<00:26, 167.66it/s, lowest_mse=0.0278, pred_loss=78, trigger=0]\n"
     ]
    },
    {
     "name": "stdout",
     "output_type": "stream",
     "text": [
      "The batch_size is now:  2048\n",
      "Adam Unbiased\n",
      "The train error is 77.95 for KERNEL\n",
      "The test error is 83.08 for KERNEL\n"
     ]
    }
   ],
   "source": [
    "A_U_weights_03, loss_dos, test_loss_dos = kernel_reg_train_Ad(surface_kernel_30, surface_dos1,\n",
    "                                                              surface_train_index, surface_test_index,\n",
    "                                                              surface_kMM_30, 1e-2, 10000, 16, 1e-3)\n",
    "\n",
    "print (\"Adam Unbiased\")\n",
    "print (\"The train error is {:.4} for KERNEL\".format(loss_dos))\n",
    "print (\"The test error is {:.4} for KERNEL\".format(test_loss_dos))"
   ]
  },
  {
   "cell_type": "code",
   "execution_count": 354,
   "id": "240fcd8f",
   "metadata": {
    "ExecuteTime": {
     "end_time": "2023-04-25T20:29:55.968174Z",
     "start_time": "2023-04-25T20:29:22.371415Z"
    }
   },
   "outputs": [
    {
     "name": "stderr",
     "output_type": "stream",
     "text": [
      "Epoch: 829:   8%|█████████▎                                                                                                       | 824/10000 [00:09<01:35, 95.90it/s, lowest_mse=0.0283, pred_loss=112, trigger=0]"
     ]
    },
    {
     "name": "stdout",
     "output_type": "stream",
     "text": [
      "The batch_size is now:  32\n"
     ]
    },
    {
     "name": "stderr",
     "output_type": "stream",
     "text": [
      "Epoch: 1645:  16%|██████████████████▏                                                                                            | 1641/10000 [00:15<00:54, 154.50it/s, lowest_mse=0.0202, pred_loss=95, trigger=0]"
     ]
    },
    {
     "name": "stdout",
     "output_type": "stream",
     "text": [
      "The batch_size is now:  64\n"
     ]
    },
    {
     "name": "stderr",
     "output_type": "stream",
     "text": [
      "Epoch: 2460:  24%|███████████████████████████▏                                                                                   | 2445/10000 [00:20<00:37, 200.96it/s, lowest_mse=0.0162, pred_loss=85, trigger=0]"
     ]
    },
    {
     "name": "stdout",
     "output_type": "stream",
     "text": [
      "The batch_size is now:  128\n"
     ]
    },
    {
     "name": "stderr",
     "output_type": "stream",
     "text": [
      "Epoch: 3264:  33%|███████████████████████████████████▌                                                                         | 3261/10000 [00:23<00:28, 235.75it/s, lowest_mse=0.0141, pred_loss=79.4, trigger=0]"
     ]
    },
    {
     "name": "stdout",
     "output_type": "stream",
     "text": [
      "The batch_size is now:  256\n"
     ]
    },
    {
     "name": "stderr",
     "output_type": "stream",
     "text": [
      "Epoch: 4068:  41%|████████████████████████████████████████████▏                                                                | 4053/10000 [00:26<00:25, 236.57it/s, lowest_mse=0.0122, pred_loss=73.9, trigger=0]"
     ]
    },
    {
     "name": "stdout",
     "output_type": "stream",
     "text": [
      "The batch_size is now:  512\n"
     ]
    },
    {
     "name": "stderr",
     "output_type": "stream",
     "text": [
      "Epoch: 4872:  49%|█████████████████████████████████████████████████████                                                        | 4869/10000 [00:30<00:21, 236.65it/s, lowest_mse=0.0108, pred_loss=69.3, trigger=0]"
     ]
    },
    {
     "name": "stdout",
     "output_type": "stream",
     "text": [
      "The batch_size is now:  1024\n"
     ]
    },
    {
     "name": "stderr",
     "output_type": "stream",
     "text": [
      "Epoch: 5629:  56%|████████████████████████████████████████████████████████████▊                                               | 5629/10000 [00:33<00:26, 167.59it/s, lowest_mse=0.00985, pred_loss=66.4, trigger=0]\n"
     ]
    },
    {
     "name": "stdout",
     "output_type": "stream",
     "text": [
      "The batch_size is now:  2048\n",
      "Adam Holdout\n",
      "The train error is 66.37 for KERNEL\n",
      "The test error is 101.5 for KERNEL\n"
     ]
    }
   ],
   "source": [
    "A_U_weights_03, loss_dos, test_loss_dos = kernel_reg_train_Ad(surface_kernel_30, surface_dos3,\n",
    "                                                              surface_holdout_train_index, surface_holdout_test_index,\n",
    "                                                              surface_kMM_30, 1e-1, 10000, 16, 1e-3)\n",
    "print (\"Adam Holdout\")\n",
    "print (\"The train error is {:.4} for KERNEL\".format(loss_dos))\n",
    "print (\"The test error is {:.4} for KERNEL\".format(test_loss_dos))"
   ]
  },
  {
   "cell_type": "markdown",
   "id": "7a4a00e6",
   "metadata": {},
   "source": [
    "### Surfaces Aligned"
   ]
  },
  {
   "cell_type": "markdown",
   "id": "196ac428",
   "metadata": {},
   "source": [
    "#### Surfaces Aligned - 0.3 SOAP"
   ]
  },
  {
   "cell_type": "code",
   "execution_count": 355,
   "id": "015430ce",
   "metadata": {
    "ExecuteTime": {
     "end_time": "2023-04-25T20:31:24.727026Z",
     "start_time": "2023-04-25T20:29:55.969793Z"
    }
   },
   "outputs": [
    {
     "name": "stderr",
     "output_type": "stream",
     "text": [
      "Epoch: 1014:  10%|███████████                                                                                                   | 1010/10000 [00:30<03:40, 40.74it/s, lowest_mse=0.0106, pred_loss=64.5, trigger=0]"
     ]
    },
    {
     "name": "stdout",
     "output_type": "stream",
     "text": [
      "The batch_size is now:  32\n"
     ]
    },
    {
     "name": "stderr",
     "output_type": "stream",
     "text": [
      "Epoch: 2024:  20%|██████████████████████▍                                                                                        | 2019/10000 [00:47<01:48, 73.36it/s, lowest_mse=0.00741, pred_loss=54, trigger=0]"
     ]
    },
    {
     "name": "stdout",
     "output_type": "stream",
     "text": [
      "The batch_size is now:  64\n"
     ]
    },
    {
     "name": "stderr",
     "output_type": "stream",
     "text": [
      "Epoch: 3033:  30%|████████████████████████████████▋                                                                           | 3030/10000 [00:58<01:03, 109.37it/s, lowest_mse=0.00659, pred_loss=50.9, trigger=0]"
     ]
    },
    {
     "name": "stdout",
     "output_type": "stream",
     "text": [
      "The batch_size is now:  128\n"
     ]
    },
    {
     "name": "stderr",
     "output_type": "stream",
     "text": [
      "Epoch: 4037:  40%|███████████████████████████████████████████▍                                                                | 4025/10000 [01:06<00:42, 141.36it/s, lowest_mse=0.00617, pred_loss=49.2, trigger=0]"
     ]
    },
    {
     "name": "stdout",
     "output_type": "stream",
     "text": [
      "The batch_size is now:  256\n"
     ]
    },
    {
     "name": "stderr",
     "output_type": "stream",
     "text": [
      "Epoch: 5039:  50%|███████████████████████████████████████████████████████▍                                                      | 5038/10000 [01:13<00:34, 141.84it/s, lowest_mse=0.00585, pred_loss=48, trigger=0]"
     ]
    },
    {
     "name": "stdout",
     "output_type": "stream",
     "text": [
      "The batch_size is now:  512\n"
     ]
    },
    {
     "name": "stderr",
     "output_type": "stream",
     "text": [
      "Epoch: 6041:  60%|██████████████████████████████████████████████████████████████████▎                                           | 6028/10000 [01:21<00:28, 141.58it/s, lowest_mse=0.00559, pred_loss=47, trigger=0]"
     ]
    },
    {
     "name": "stdout",
     "output_type": "stream",
     "text": [
      "The batch_size is now:  1024\n"
     ]
    },
    {
     "name": "stderr",
     "output_type": "stream",
     "text": [
      "Epoch: 7015:  70%|█████████████████████████████████████████████████████████████████████████████▊                                 | 7015/10000 [01:28<00:37, 79.05it/s, lowest_mse=0.00538, pred_loss=46, trigger=0]"
     ]
    },
    {
     "name": "stdout",
     "output_type": "stream",
     "text": [
      "The batch_size is now:  2048\n",
      "Adam Unbiased\n",
      "The train error is 45.96 for SOAP\n",
      "The test error is 62.37 for SOAP\n"
     ]
    },
    {
     "name": "stderr",
     "output_type": "stream",
     "text": [
      "\n"
     ]
    }
   ],
   "source": [
    "weights, loss_dos, test_loss_dos = normal_reg_train_Ad(surface_soap, surface_aligned_dos3, surface_train_index, surface_test_index, 1e-2, 10000, 16, 1e-3)\n",
    "print (\"Adam Unbiased\")\n",
    "print (\"The train error is {:.4} for SOAP\".format(loss_dos))\n",
    "print (\"The test error is {:.4} for SOAP\".format(test_loss_dos))"
   ]
  },
  {
   "cell_type": "code",
   "execution_count": 356,
   "id": "dbc6cf7a",
   "metadata": {
    "ExecuteTime": {
     "end_time": "2023-04-25T20:32:57.085300Z",
     "start_time": "2023-04-25T20:31:24.730569Z"
    },
    "scrolled": true
   },
   "outputs": [
    {
     "name": "stderr",
     "output_type": "stream",
     "text": [
      "Epoch: 1014:  10%|███████████                                                                                                   | 1010/10000 [00:30<03:41, 40.57it/s, lowest_mse=0.0119, pred_loss=71.6, trigger=0]"
     ]
    },
    {
     "name": "stdout",
     "output_type": "stream",
     "text": [
      "The batch_size is now:  32\n"
     ]
    },
    {
     "name": "stderr",
     "output_type": "stream",
     "text": [
      "Epoch: 2022:  20%|█████████████████████▉                                                                                       | 2013/10000 [00:49<02:06, 63.34it/s, lowest_mse=0.00902, pred_loss=62.3, trigger=0]"
     ]
    },
    {
     "name": "stdout",
     "output_type": "stream",
     "text": [
      "The batch_size is now:  64\n"
     ]
    },
    {
     "name": "stderr",
     "output_type": "stream",
     "text": [
      "Epoch: 3035:  30%|████████████████████████████████▋                                                                           | 3025/10000 [01:00<01:02, 112.34it/s, lowest_mse=0.00816, pred_loss=59.2, trigger=0]"
     ]
    },
    {
     "name": "stdout",
     "output_type": "stream",
     "text": [
      "The batch_size is now:  128\n"
     ]
    },
    {
     "name": "stderr",
     "output_type": "stream",
     "text": [
      "Epoch: 4037:  40%|███████████████████████████████████████████▉                                                                 | 4028/10000 [01:07<00:42, 141.11it/s, lowest_mse=0.0076, pred_loss=57.2, trigger=0]"
     ]
    },
    {
     "name": "stdout",
     "output_type": "stream",
     "text": [
      "The batch_size is now:  256\n"
     ]
    },
    {
     "name": "stderr",
     "output_type": "stream",
     "text": [
      "Epoch: 5038:  50%|██████████████████████████████████████████████████████▊                                                      | 5026/10000 [01:15<00:38, 127.57it/s, lowest_mse=0.0074, pred_loss=56.4, trigger=0]"
     ]
    },
    {
     "name": "stdout",
     "output_type": "stream",
     "text": [
      "The batch_size is now:  512\n"
     ]
    },
    {
     "name": "stderr",
     "output_type": "stream",
     "text": [
      "Epoch: 6034:  60%|█████████████████████████████████████████████████████████████████                                           | 6026/10000 [01:23<00:32, 121.86it/s, lowest_mse=0.00728, pred_loss=56.1, trigger=0]"
     ]
    },
    {
     "name": "stdout",
     "output_type": "stream",
     "text": [
      "The batch_size is now:  1024\n"
     ]
    },
    {
     "name": "stderr",
     "output_type": "stream",
     "text": [
      "Epoch: 7015:  70%|████████████████████████████████████████████████████████████████████████████▍                                | 7015/10000 [01:32<00:39, 75.97it/s, lowest_mse=0.00722, pred_loss=55.7, trigger=0]\n"
     ]
    },
    {
     "name": "stdout",
     "output_type": "stream",
     "text": [
      "The batch_size is now:  2048\n",
      "Adam Holdout\n",
      "The train error is 55.68 for SOAP\n",
      "The test error is 97.52 for SOAP\n"
     ]
    }
   ],
   "source": [
    "weights, loss_dos, test_loss_dos = normal_reg_train_Ad(surface_soap, surface_aligned_dos3,\n",
    "                                                       surface_holdout_train_index, surface_holdout_test_index, 1e-1,\n",
    "                                                       10000, 16, 1e-3)\n",
    "print (\"Adam Holdout\")\n",
    "print (\"The train error is {:.4} for SOAP\".format(loss_dos))\n",
    "print (\"The test error is {:.4} for SOAP\".format(test_loss_dos))"
   ]
  },
  {
   "cell_type": "markdown",
   "id": "857b9bda",
   "metadata": {},
   "source": [
    "#### Surfaces Aligned - 0.1 SOAP"
   ]
  },
  {
   "cell_type": "code",
   "execution_count": 357,
   "id": "766b2531",
   "metadata": {
    "ExecuteTime": {
     "end_time": "2023-04-25T20:34:25.324596Z",
     "start_time": "2023-04-25T20:32:57.087500Z"
    }
   },
   "outputs": [
    {
     "name": "stderr",
     "output_type": "stream",
     "text": [
      "Epoch: 1014:  10%|███████████                                                                                                   | 1009/10000 [00:30<03:47, 39.59it/s, lowest_mse=0.0266, pred_loss=75.2, trigger=0]"
     ]
    },
    {
     "name": "stdout",
     "output_type": "stream",
     "text": [
      "The batch_size is now:  32\n"
     ]
    },
    {
     "name": "stderr",
     "output_type": "stream",
     "text": [
      "Epoch: 2023:  20%|██████████████████████▍                                                                                        | 2023/10000 [00:49<01:46, 74.95it/s, lowest_mse=0.022, pred_loss=68.4, trigger=0]"
     ]
    },
    {
     "name": "stdout",
     "output_type": "stream",
     "text": [
      "The batch_size is now:  64\n"
     ]
    },
    {
     "name": "stderr",
     "output_type": "stream",
     "text": [
      "Epoch: 3035:  30%|█████████████████████████████████▋                                                                             | 3031/10000 [00:59<01:00, 114.64it/s, lowest_mse=0.0205, pred_loss=66, trigger=0]"
     ]
    },
    {
     "name": "stdout",
     "output_type": "stream",
     "text": [
      "The batch_size is now:  128\n"
     ]
    },
    {
     "name": "stderr",
     "output_type": "stream",
     "text": [
      "Epoch: 4037:  40%|███████████████████████████████████████████▉                                                                 | 4036/10000 [01:07<00:41, 142.02it/s, lowest_mse=0.0196, pred_loss=64.6, trigger=0]"
     ]
    },
    {
     "name": "stdout",
     "output_type": "stream",
     "text": [
      "The batch_size is now:  256\n"
     ]
    },
    {
     "name": "stderr",
     "output_type": "stream",
     "text": [
      "Epoch: 5039:  50%|██████████████████████████████████████████████████████▊                                                      | 5025/10000 [01:14<00:35, 139.56it/s, lowest_mse=0.0189, pred_loss=63.3, trigger=0]"
     ]
    },
    {
     "name": "stdout",
     "output_type": "stream",
     "text": [
      "The batch_size is now:  512\n"
     ]
    },
    {
     "name": "stderr",
     "output_type": "stream",
     "text": [
      "Epoch: 6041:  60%|█████████████████████████████████████████████████████████████████▋                                           | 6029/10000 [01:21<00:28, 140.81it/s, lowest_mse=0.0182, pred_loss=62.3, trigger=0]"
     ]
    },
    {
     "name": "stdout",
     "output_type": "stream",
     "text": [
      "The batch_size is now:  1024\n"
     ]
    },
    {
     "name": "stderr",
     "output_type": "stream",
     "text": [
      "Epoch: 7015:  70%|█████████████████████████████████████████████████████████████████████████████▏                                | 7015/10000 [01:28<00:37, 79.51it/s, lowest_mse=0.0177, pred_loss=61.5, trigger=0]\n"
     ]
    },
    {
     "name": "stdout",
     "output_type": "stream",
     "text": [
      "The batch_size is now:  2048\n",
      "Adam Unbiased\n",
      "The train error is 61.45 for SOAP\n",
      "The test error is 77.85 for SOAP\n"
     ]
    }
   ],
   "source": [
    "weights, loss_dos, test_loss_dos = normal_reg_train_Ad(surface_soap, surface_aligned_dos1, \n",
    "                                                       surface_train_index, surface_test_index,\n",
    "                                                       1e-2, 10000, 16, 1e-3)\n",
    "print (\"Adam Unbiased\")\n",
    "print (\"The train error is {:.4} for SOAP\".format(loss_dos))\n",
    "print (\"The test error is {:.4} for SOAP\".format(test_loss_dos))"
   ]
  },
  {
   "cell_type": "code",
   "execution_count": 358,
   "id": "bfa83b5a",
   "metadata": {
    "ExecuteTime": {
     "end_time": "2023-04-25T20:35:51.823665Z",
     "start_time": "2023-04-25T20:34:25.326249Z"
    }
   },
   "outputs": [
    {
     "name": "stderr",
     "output_type": "stream",
     "text": [
      "Epoch: 1014:  10%|███████████                                                                                                   | 1010/10000 [00:30<03:37, 41.29it/s, lowest_mse=0.0302, pred_loss=81.3, trigger=0]"
     ]
    },
    {
     "name": "stdout",
     "output_type": "stream",
     "text": [
      "The batch_size is now:  32\n"
     ]
    },
    {
     "name": "stderr",
     "output_type": "stream",
     "text": [
      "Epoch: 2024:  20%|██████████████████████▎                                                                                       | 2024/10000 [00:47<01:43, 76.79it/s, lowest_mse=0.0261, pred_loss=75.7, trigger=0]"
     ]
    },
    {
     "name": "stdout",
     "output_type": "stream",
     "text": [
      "The batch_size is now:  64\n"
     ]
    },
    {
     "name": "stderr",
     "output_type": "stream",
     "text": [
      "Epoch: 3035:  30%|█████████████████████████████████                                                                            | 3032/10000 [00:57<01:00, 115.80it/s, lowest_mse=0.0247, pred_loss=73.5, trigger=0]"
     ]
    },
    {
     "name": "stdout",
     "output_type": "stream",
     "text": [
      "The batch_size is now:  128\n"
     ]
    },
    {
     "name": "stderr",
     "output_type": "stream",
     "text": [
      "Epoch: 4037:  40%|███████████████████████████████████████████▉                                                                 | 4036/10000 [01:05<00:42, 141.66it/s, lowest_mse=0.0236, pred_loss=71.9, trigger=0]"
     ]
    },
    {
     "name": "stdout",
     "output_type": "stream",
     "text": [
      "The batch_size is now:  256\n"
     ]
    },
    {
     "name": "stderr",
     "output_type": "stream",
     "text": [
      "Epoch: 5039:  50%|██████████████████████████████████████████████████████▊                                                      | 5028/10000 [01:12<00:34, 144.69it/s, lowest_mse=0.0231, pred_loss=71.1, trigger=0]"
     ]
    },
    {
     "name": "stdout",
     "output_type": "stream",
     "text": [
      "The batch_size is now:  512\n"
     ]
    },
    {
     "name": "stderr",
     "output_type": "stream",
     "text": [
      "Epoch: 6041:  60%|█████████████████████████████████████████████████████████████████▊                                           | 6033/10000 [01:19<00:27, 141.80it/s, lowest_mse=0.0228, pred_loss=70.7, trigger=0]"
     ]
    },
    {
     "name": "stdout",
     "output_type": "stream",
     "text": [
      "The batch_size is now:  1024\n"
     ]
    },
    {
     "name": "stderr",
     "output_type": "stream",
     "text": [
      "Epoch: 7015:  70%|█████████████████████████████████████████████████████████████████████████████▏                                | 7015/10000 [01:26<00:36, 81.11it/s, lowest_mse=0.0226, pred_loss=70.4, trigger=0]\n"
     ]
    },
    {
     "name": "stdout",
     "output_type": "stream",
     "text": [
      "The batch_size is now:  2048\n",
      "Adam Holdout\n",
      "The train error is 70.38 for SOAP\n",
      "The test error is 109.9 for SOAP\n"
     ]
    }
   ],
   "source": [
    "weights, loss_dos, test_loss_dos = normal_reg_train_Ad(surface_soap, surface_aligned_dos1,\n",
    "                                                       surface_holdout_train_index, surface_holdout_test_index, 1e-1,\n",
    "                                                       10000, 16, 1e-3)\n",
    "print (\"Adam Holdout\")\n",
    "print (\"The train error is {:.4} for SOAP\".format(loss_dos))\n",
    "print (\"The test error is {:.4} for SOAP\".format(test_loss_dos))"
   ]
  },
  {
   "cell_type": "markdown",
   "id": "f16a7d19",
   "metadata": {},
   "source": [
    "#### Surfaces Aligned - 0.3 Kernel"
   ]
  },
  {
   "cell_type": "code",
   "execution_count": 359,
   "id": "1da4e1a7",
   "metadata": {
    "ExecuteTime": {
     "end_time": "2023-04-25T20:36:25.547046Z",
     "start_time": "2023-04-25T20:35:51.825318Z"
    }
   },
   "outputs": [
    {
     "name": "stderr",
     "output_type": "stream",
     "text": [
      "Epoch: 830:   8%|█████████▏                                                                                                      | 825/10000 [00:09<01:29, 102.77it/s, lowest_mse=0.0297, pred_loss=108, trigger=0]"
     ]
    },
    {
     "name": "stdout",
     "output_type": "stream",
     "text": [
      "The batch_size is now:  32\n"
     ]
    },
    {
     "name": "stderr",
     "output_type": "stream",
     "text": [
      "Epoch: 1645:  16%|█████████████████▊                                                                                           | 1634/10000 [00:15<00:56, 149.15it/s, lowest_mse=0.0204, pred_loss=89.5, trigger=0]"
     ]
    },
    {
     "name": "stdout",
     "output_type": "stream",
     "text": [
      "The batch_size is now:  64\n"
     ]
    },
    {
     "name": "stderr",
     "output_type": "stream",
     "text": [
      "Epoch: 2460:  25%|██████████████████████████▊                                                                                  | 2458/10000 [00:20<00:36, 206.68it/s, lowest_mse=0.0159, pred_loss=79.1, trigger=0]"
     ]
    },
    {
     "name": "stdout",
     "output_type": "stream",
     "text": [
      "The batch_size is now:  128\n"
     ]
    },
    {
     "name": "stderr",
     "output_type": "stream",
     "text": [
      "Epoch: 3264:  32%|███████████████████████████████████▍                                                                         | 3250/10000 [00:23<00:28, 237.21it/s, lowest_mse=0.0138, pred_loss=73.5, trigger=0]"
     ]
    },
    {
     "name": "stdout",
     "output_type": "stream",
     "text": [
      "The batch_size is now:  256\n"
     ]
    },
    {
     "name": "stderr",
     "output_type": "stream",
     "text": [
      "Epoch: 4068:  41%|████████████████████████████████████████████▎                                                                | 4066/10000 [00:27<00:25, 236.97it/s, lowest_mse=0.0119, pred_loss=68.4, trigger=0]"
     ]
    },
    {
     "name": "stdout",
     "output_type": "stream",
     "text": [
      "The batch_size is now:  512\n"
     ]
    },
    {
     "name": "stderr",
     "output_type": "stream",
     "text": [
      "Epoch: 4872:  49%|████████████████████████████████████████████████████▉                                                        | 4858/10000 [00:30<00:21, 237.16it/s, lowest_mse=0.0106, pred_loss=64.5, trigger=0]"
     ]
    },
    {
     "name": "stdout",
     "output_type": "stream",
     "text": [
      "The batch_size is now:  1024\n"
     ]
    },
    {
     "name": "stderr",
     "output_type": "stream",
     "text": [
      "Epoch: 5629:  56%|████████████████████████████████████████████████████████████▊                                               | 5629/10000 [00:33<00:26, 166.98it/s, lowest_mse=0.00982, pred_loss=62.1, trigger=0]\n"
     ]
    },
    {
     "name": "stdout",
     "output_type": "stream",
     "text": [
      "The batch_size is now:  2048\n",
      "Adam Unbiased\n",
      "The train error is 62.07 for KERNEL\n",
      "The test error is 67.28 for KERNEL\n"
     ]
    }
   ],
   "source": [
    "A_U_weights_03, loss_dos, test_loss_dos = kernel_reg_train_Ad(surface_kernel_30, surface_aligned_dos3,\n",
    "                                                              surface_train_index, surface_test_index,\n",
    "                                                              surface_kMM_30, 1e-2, 10000, 16, 1e-3)\n",
    "\n",
    "print (\"Adam Unbiased\")\n",
    "print (\"The train error is {:.4} for KERNEL\".format(loss_dos))\n",
    "print (\"The test error is {:.4} for KERNEL\".format(test_loss_dos))"
   ]
  },
  {
   "cell_type": "code",
   "execution_count": 360,
   "id": "82499b3b",
   "metadata": {
    "ExecuteTime": {
     "end_time": "2023-04-25T20:36:59.491903Z",
     "start_time": "2023-04-25T20:36:25.548691Z"
    }
   },
   "outputs": [
    {
     "name": "stderr",
     "output_type": "stream",
     "text": [
      "Epoch: 831:   8%|█████████▍                                                                                                        | 825/10000 [00:09<01:29, 103.09it/s, lowest_mse=0.03, pred_loss=114, trigger=0]"
     ]
    },
    {
     "name": "stdout",
     "output_type": "stream",
     "text": [
      "The batch_size is now:  32\n"
     ]
    },
    {
     "name": "stderr",
     "output_type": "stream",
     "text": [
      "Epoch: 1645:  16%|██████████████████▏                                                                                            | 1644/10000 [00:15<00:54, 153.81it/s, lowest_mse=0.0214, pred_loss=96, trigger=0]"
     ]
    },
    {
     "name": "stdout",
     "output_type": "stream",
     "text": [
      "The batch_size is now:  64\n"
     ]
    },
    {
     "name": "stderr",
     "output_type": "stream",
     "text": [
      "Epoch: 2459:  24%|██████████████████████████▌                                                                                  | 2439/10000 [00:20<00:38, 197.21it/s, lowest_mse=0.0169, pred_loss=85.2, trigger=0]"
     ]
    },
    {
     "name": "stdout",
     "output_type": "stream",
     "text": [
      "The batch_size is now:  128\n"
     ]
    },
    {
     "name": "stderr",
     "output_type": "stream",
     "text": [
      "Epoch: 3264:  33%|████████████████████████████████████▏                                                                          | 3255/10000 [00:23<00:29, 232.52it/s, lowest_mse=0.0145, pred_loss=79, trigger=0]"
     ]
    },
    {
     "name": "stdout",
     "output_type": "stream",
     "text": [
      "The batch_size is now:  256\n"
     ]
    },
    {
     "name": "stderr",
     "output_type": "stream",
     "text": [
      "Epoch: 4067:  40%|████████████████████████████████████████████                                                                 | 4047/10000 [00:27<00:25, 232.94it/s, lowest_mse=0.0124, pred_loss=72.9, trigger=0]"
     ]
    },
    {
     "name": "stdout",
     "output_type": "stream",
     "text": [
      "The batch_size is now:  512\n"
     ]
    },
    {
     "name": "stderr",
     "output_type": "stream",
     "text": [
      "Epoch: 4871:  49%|█████████████████████████████████████████████████████                                                        | 4863/10000 [00:30<00:22, 233.08it/s, lowest_mse=0.0108, pred_loss=68.1, trigger=0]"
     ]
    },
    {
     "name": "stdout",
     "output_type": "stream",
     "text": [
      "The batch_size is now:  1024\n"
     ]
    },
    {
     "name": "stderr",
     "output_type": "stream",
     "text": [
      "Epoch: 5629:  56%|████████████████████████████████████████████████████████████▊                                               | 5629/10000 [00:33<00:26, 165.88it/s, lowest_mse=0.00982, pred_loss=64.9, trigger=0]"
     ]
    },
    {
     "name": "stdout",
     "output_type": "stream",
     "text": [
      "The batch_size is now:  2048\n",
      "Adam Holdout\n",
      "The train error is 64.93 for KERNEL\n",
      "The test error is 101.0 for KERNEL\n"
     ]
    },
    {
     "name": "stderr",
     "output_type": "stream",
     "text": [
      "\n"
     ]
    }
   ],
   "source": [
    "A_U_weights_03, loss_dos, test_loss_dos = kernel_reg_train_Ad(surface_kernel_30, surface_aligned_dos3,\n",
    "                                                              surface_holdout_train_index, surface_holdout_test_index,\n",
    "                                                              surface_kMM_30, 1e-2, 10000, 16, 1e-3)\n",
    "print (\"Adam Holdout\")\n",
    "print (\"The train error is {:.4} for KERNEL\".format(loss_dos))\n",
    "print (\"The test error is {:.4} for KERNEL\".format(test_loss_dos))"
   ]
  },
  {
   "cell_type": "markdown",
   "id": "33d5a99a",
   "metadata": {
    "ExecuteTime": {
     "end_time": "2023-04-21T17:16:47.143487Z",
     "start_time": "2023-04-21T17:16:47.143473Z"
    }
   },
   "source": [
    "#### Surfaces Aligned - 0.1 Kernel"
   ]
  },
  {
   "cell_type": "code",
   "execution_count": 361,
   "id": "520785e5",
   "metadata": {
    "ExecuteTime": {
     "end_time": "2023-04-25T20:37:33.181889Z",
     "start_time": "2023-04-25T20:36:59.493478Z"
    }
   },
   "outputs": [
    {
     "name": "stderr",
     "output_type": "stream",
     "text": [
      "Epoch: 831:   8%|█████████▎                                                                                                      | 826/10000 [00:09<01:28, 103.87it/s, lowest_mse=0.0525, pred_loss=106, trigger=0]"
     ]
    },
    {
     "name": "stdout",
     "output_type": "stream",
     "text": [
      "The batch_size is now:  32\n"
     ]
    },
    {
     "name": "stderr",
     "output_type": "stream",
     "text": [
      "Epoch: 1645:  16%|█████████████████▉                                                                                           | 1640/10000 [00:15<00:54, 152.16it/s, lowest_mse=0.0421, pred_loss=94.6, trigger=0]"
     ]
    },
    {
     "name": "stdout",
     "output_type": "stream",
     "text": [
      "The batch_size is now:  64\n"
     ]
    },
    {
     "name": "stderr",
     "output_type": "stream",
     "text": [
      "Epoch: 2460:  24%|██████████████████████████▉                                                                                   | 2444/10000 [00:20<00:37, 200.65it/s, lowest_mse=0.037, pred_loss=88.7, trigger=0]"
     ]
    },
    {
     "name": "stdout",
     "output_type": "stream",
     "text": [
      "The batch_size is now:  128\n"
     ]
    },
    {
     "name": "stderr",
     "output_type": "stream",
     "text": [
      "Epoch: 3264:  33%|███████████████████████████████████▌                                                                         | 3260/10000 [00:23<00:28, 236.56it/s, lowest_mse=0.0342, pred_loss=85.3, trigger=0]"
     ]
    },
    {
     "name": "stdout",
     "output_type": "stream",
     "text": [
      "The batch_size is now:  256\n"
     ]
    },
    {
     "name": "stderr",
     "output_type": "stream",
     "text": [
      "Epoch: 4068:  41%|████████████████████████████████████████████▏                                                                | 4052/10000 [00:27<00:25, 236.45it/s, lowest_mse=0.0315, pred_loss=81.9, trigger=0]"
     ]
    },
    {
     "name": "stdout",
     "output_type": "stream",
     "text": [
      "The batch_size is now:  512\n"
     ]
    },
    {
     "name": "stderr",
     "output_type": "stream",
     "text": [
      "Epoch: 4872:  49%|█████████████████████████████████████████████████████                                                        | 4868/10000 [00:30<00:21, 236.19it/s, lowest_mse=0.0292, pred_loss=78.8, trigger=0]"
     ]
    },
    {
     "name": "stdout",
     "output_type": "stream",
     "text": [
      "The batch_size is now:  1024\n"
     ]
    },
    {
     "name": "stderr",
     "output_type": "stream",
     "text": [
      "Epoch: 5629:  56%|█████████████████████████████████████████████████████████████▎                                               | 5629/10000 [00:33<00:26, 167.14it/s, lowest_mse=0.0277, pred_loss=76.8, trigger=0]\n"
     ]
    },
    {
     "name": "stdout",
     "output_type": "stream",
     "text": [
      "The batch_size is now:  2048\n",
      "Adam Unbiased\n",
      "The train error is 76.81 for KERNEL\n",
      "The test error is 81.94 for KERNEL\n"
     ]
    }
   ],
   "source": [
    "A_U_weights_03, loss_dos, test_loss_dos = kernel_reg_train_Ad(surface_kernel_30, surface_aligned_dos1,\n",
    "                                                              surface_train_index, surface_test_index,\n",
    "                                                              surface_kMM_30, 1e-2, 10000, 16, 1e-3)\n",
    "\n",
    "print (\"Adam Unbiased\")\n",
    "print (\"The train error is {:.4} for KERNEL\".format(loss_dos))\n",
    "print (\"The test error is {:.4} for KERNEL\".format(test_loss_dos))"
   ]
  },
  {
   "cell_type": "code",
   "execution_count": 362,
   "id": "35bcc9ea",
   "metadata": {
    "ExecuteTime": {
     "end_time": "2023-04-25T20:38:10.386630Z",
     "start_time": "2023-04-25T20:37:33.183549Z"
    }
   },
   "outputs": [
    {
     "name": "stderr",
     "output_type": "stream",
     "text": [
      "Epoch: 831:   8%|█████████▎                                                                                                      | 826/10000 [00:09<01:28, 104.00it/s, lowest_mse=0.0272, pred_loss=108, trigger=0]"
     ]
    },
    {
     "name": "stdout",
     "output_type": "stream",
     "text": [
      "The batch_size is now:  32\n"
     ]
    },
    {
     "name": "stderr",
     "output_type": "stream",
     "text": [
      "Epoch: 1638:  16%|█████████████████▋                                                                                           | 1625/10000 [00:16<01:10, 119.29it/s, lowest_mse=0.0198, pred_loss=92.2, trigger=0]"
     ]
    },
    {
     "name": "stdout",
     "output_type": "stream",
     "text": [
      "The batch_size is now:  64\n"
     ]
    },
    {
     "name": "stderr",
     "output_type": "stream",
     "text": [
      "Epoch: 2452:  24%|██████████████████████████▌                                                                                  | 2433/10000 [00:22<00:45, 165.32it/s, lowest_mse=0.0158, pred_loss=82.3, trigger=0]"
     ]
    },
    {
     "name": "stdout",
     "output_type": "stream",
     "text": [
      "The batch_size is now:  128\n"
     ]
    },
    {
     "name": "stderr",
     "output_type": "stream",
     "text": [
      "Epoch: 3257:  32%|███████████████████████████████████▎                                                                         | 3237/10000 [00:26<00:34, 196.25it/s, lowest_mse=0.0138, pred_loss=77.1, trigger=0]"
     ]
    },
    {
     "name": "stdout",
     "output_type": "stream",
     "text": [
      "The batch_size is now:  256\n"
     ]
    },
    {
     "name": "stderr",
     "output_type": "stream",
     "text": [
      "Epoch: 4060:  40%|████████████████████████████████████████████▏                                                                | 4049/10000 [00:29<00:29, 198.83it/s, lowest_mse=0.0121, pred_loss=72.1, trigger=0]"
     ]
    },
    {
     "name": "stdout",
     "output_type": "stream",
     "text": [
      "The batch_size is now:  512\n"
     ]
    },
    {
     "name": "stderr",
     "output_type": "stream",
     "text": [
      "Epoch: 4867:  48%|████████████████████████████████████████████████████▊                                                        | 4850/10000 [00:33<00:23, 218.62it/s, lowest_mse=0.0107, pred_loss=67.8, trigger=0]"
     ]
    },
    {
     "name": "stdout",
     "output_type": "stream",
     "text": [
      "The batch_size is now:  1024\n"
     ]
    },
    {
     "name": "stderr",
     "output_type": "stream",
     "text": [
      "Epoch: 5629:  56%|████████████████████████████████████████████████████████████▊                                               | 5629/10000 [00:37<00:28, 151.35it/s, lowest_mse=0.00978, pred_loss=64.8, trigger=0]\n"
     ]
    },
    {
     "name": "stdout",
     "output_type": "stream",
     "text": [
      "The batch_size is now:  2048\n",
      "Adam Holdout\n",
      "The train error is 64.83 for KERNEL\n",
      "The test error is 99.49 for KERNEL\n"
     ]
    }
   ],
   "source": [
    "A_U_weights_03, loss_dos, test_loss_dos = kernel_reg_train_Ad(surface_kernel_30, surface_aligned_dos3,\n",
    "                                                              surface_holdout_train_index, surface_holdout_test_index,\n",
    "                                                              surface_kMM_30, 1e-1, 10000, 16, 1e-3)\n",
    "print (\"Adam Holdout\")\n",
    "print (\"The train error is {:.4} for KERNEL\".format(loss_dos))\n",
    "print (\"The test error is {:.4} for KERNEL\".format(test_loss_dos))"
   ]
  },
  {
   "cell_type": "markdown",
   "id": "ef002fe7",
   "metadata": {},
   "source": [
    "### Bulk"
   ]
  },
  {
   "cell_type": "markdown",
   "id": "e6c65158",
   "metadata": {},
   "source": [
    "#### Bulk - 0.3 SOAP"
   ]
  },
  {
   "cell_type": "code",
   "execution_count": 363,
   "id": "6414f0cc",
   "metadata": {
    "ExecuteTime": {
     "end_time": "2023-04-25T20:43:37.480311Z",
     "start_time": "2023-04-25T20:38:10.389642Z"
    }
   },
   "outputs": [
    {
     "name": "stderr",
     "output_type": "stream",
     "text": [
      "Epoch: 1005:  10%|██████████▉                                                                                                  | 1005/10000 [02:22<15:48,  9.48it/s, lowest_mse=0.00442, pred_loss=21.9, trigger=0]"
     ]
    },
    {
     "name": "stdout",
     "output_type": "stream",
     "text": [
      "The batch_size is now:  32\n"
     ]
    },
    {
     "name": "stderr",
     "output_type": "stream",
     "text": [
      "Epoch: 2009:  20%|█████████████████████▉                                                                                       | 2008/10000 [03:36<07:58, 16.70it/s, lowest_mse=0.00367, pred_loss=18.9, trigger=0]"
     ]
    },
    {
     "name": "stdout",
     "output_type": "stream",
     "text": [
      "The batch_size is now:  64\n"
     ]
    },
    {
     "name": "stderr",
     "output_type": "stream",
     "text": [
      "Epoch: 3014:  30%|████████████████████████████████▊                                                                            | 3014/10000 [04:19<03:55, 29.68it/s, lowest_mse=0.00332, pred_loss=18.3, trigger=0]"
     ]
    },
    {
     "name": "stdout",
     "output_type": "stream",
     "text": [
      "The batch_size is now:  128\n"
     ]
    },
    {
     "name": "stderr",
     "output_type": "stream",
     "text": [
      "Epoch: 4020:  40%|███████████████████████████████████████████▊                                                                 | 4020/10000 [04:44<02:06, 47.17it/s, lowest_mse=0.00312, pred_loss=18.3, trigger=0]"
     ]
    },
    {
     "name": "stdout",
     "output_type": "stream",
     "text": [
      "The batch_size is now:  256\n"
     ]
    },
    {
     "name": "stderr",
     "output_type": "stream",
     "text": [
      "Epoch: 5024:  50%|██████████████████████████████████████████████████████▋                                                      | 5022/10000 [05:02<01:22, 60.42it/s, lowest_mse=0.00299, pred_loss=21.2, trigger=0]"
     ]
    },
    {
     "name": "stdout",
     "output_type": "stream",
     "text": [
      "The batch_size is now:  512\n"
     ]
    },
    {
     "name": "stderr",
     "output_type": "stream",
     "text": [
      "Epoch: 6030:  60%|█████████████████████████████████████████████████████████████████▋                                           | 6023/10000 [05:16<00:52, 76.47it/s, lowest_mse=0.00291, pred_loss=16.2, trigger=0]"
     ]
    },
    {
     "name": "stdout",
     "output_type": "stream",
     "text": [
      "The batch_size is now:  1024\n"
     ]
    },
    {
     "name": "stderr",
     "output_type": "stream",
     "text": [
      "Epoch: 7015:  70%|████████████████████████████████████████████████████████████████████████████▍                                | 7015/10000 [05:27<02:19, 21.45it/s, lowest_mse=0.00283, pred_loss=15.9, trigger=0]"
     ]
    },
    {
     "name": "stdout",
     "output_type": "stream",
     "text": [
      "The batch_size is now:  2048\n",
      "Adam Unbiased\n",
      "The train error is 15.94 for SOAP\n",
      "The test error is 17.75 for SOAP\n"
     ]
    },
    {
     "name": "stderr",
     "output_type": "stream",
     "text": [
      "\n"
     ]
    }
   ],
   "source": [
    "weights, loss_dos, test_loss_dos = normal_reg_train_Ad(bulk_soap, bulk_dos3,\n",
    "                                                       bulk_train_index, bulk_test_index,\n",
    "                                                       1e-2, 10000, 16, 1e-3)\n",
    "print (\"Adam Unbiased\")\n",
    "print (\"The train error is {:.4} for SOAP\".format(loss_dos))\n",
    "print (\"The test error is {:.4} for SOAP\".format(test_loss_dos))"
   ]
  },
  {
   "cell_type": "code",
   "execution_count": 364,
   "id": "18f9c47c",
   "metadata": {
    "ExecuteTime": {
     "end_time": "2023-04-25T20:50:03.064468Z",
     "start_time": "2023-04-25T20:43:37.483392Z"
    }
   },
   "outputs": [
    {
     "name": "stderr",
     "output_type": "stream",
     "text": [
      "Epoch: 1004:  10%|██████████▉                                                                                                  | 1004/10000 [02:55<25:51,  5.80it/s, lowest_mse=0.00446, pred_loss=20.7, trigger=0]"
     ]
    },
    {
     "name": "stdout",
     "output_type": "stream",
     "text": [
      "The batch_size is now:  32\n"
     ]
    },
    {
     "name": "stderr",
     "output_type": "stream",
     "text": [
      "Epoch: 2007:  20%|█████████████████████▊                                                                                       | 2006/10000 [04:31<19:17,  6.91it/s, lowest_mse=0.00367, pred_loss=18.4, trigger=0]"
     ]
    },
    {
     "name": "stdout",
     "output_type": "stream",
     "text": [
      "The batch_size is now:  64\n"
     ]
    },
    {
     "name": "stderr",
     "output_type": "stream",
     "text": [
      "Epoch: 3014:  30%|████████████████████████████████▊                                                                            | 3011/10000 [05:18<04:27, 26.17it/s, lowest_mse=0.00331, pred_loss=17.1, trigger=0]"
     ]
    },
    {
     "name": "stdout",
     "output_type": "stream",
     "text": [
      "The batch_size is now:  128\n"
     ]
    },
    {
     "name": "stderr",
     "output_type": "stream",
     "text": [
      "Epoch: 4018:  40%|████████████████████████████████████████████▏                                                                 | 4014/10000 [05:42<02:33, 38.95it/s, lowest_mse=0.0031, pred_loss=17.7, trigger=0]"
     ]
    },
    {
     "name": "stdout",
     "output_type": "stream",
     "text": [
      "The batch_size is now:  256\n"
     ]
    },
    {
     "name": "stderr",
     "output_type": "stream",
     "text": [
      "Epoch: 5025:  50%|███████████████████████████████████████████████████████▋                                                       | 5018/10000 [05:59<01:20, 61.62it/s, lowest_mse=0.00298, pred_loss=19, trigger=0]"
     ]
    },
    {
     "name": "stdout",
     "output_type": "stream",
     "text": [
      "The batch_size is now:  512\n"
     ]
    },
    {
     "name": "stderr",
     "output_type": "stream",
     "text": [
      "Epoch: 6032:  60%|█████████████████████████████████████████████████████████████████▋                                           | 6023/10000 [06:15<00:49, 80.28it/s, lowest_mse=0.00289, pred_loss=15.4, trigger=0]"
     ]
    },
    {
     "name": "stdout",
     "output_type": "stream",
     "text": [
      "The batch_size is now:  1024\n"
     ]
    },
    {
     "name": "stderr",
     "output_type": "stream",
     "text": [
      "Epoch: 7015:  70%|████████████████████████████████████████████████████████████████████████████▍                                | 7015/10000 [06:25<02:44, 18.19it/s, lowest_mse=0.00281, pred_loss=15.2, trigger=0]"
     ]
    },
    {
     "name": "stdout",
     "output_type": "stream",
     "text": [
      "The batch_size is now:  2048\n",
      "Adam Holdout\n",
      "The train error is 15.23 for SOAP\n",
      "The test error is 23.09 for SOAP\n"
     ]
    },
    {
     "name": "stderr",
     "output_type": "stream",
     "text": [
      "\n"
     ]
    }
   ],
   "source": [
    "weights, loss_dos, test_loss_dos = normal_reg_train_Ad(bulk_soap, bulk_dos3,\n",
    "                                                       bulk_biased_train_index, bulk_biased_test_index,\n",
    "                                                       1e-2, 10000, 16, 1e-3)\n",
    "print (\"Adam Holdout\")\n",
    "print (\"The train error is {:.4} for SOAP\".format(loss_dos))\n",
    "print (\"The test error is {:.4} for SOAP\".format(test_loss_dos))"
   ]
  },
  {
   "cell_type": "markdown",
   "id": "f268b37b",
   "metadata": {},
   "source": [
    "#### Bulk - 0.1 Soap"
   ]
  },
  {
   "cell_type": "code",
   "execution_count": 365,
   "id": "667e229f",
   "metadata": {
    "ExecuteTime": {
     "end_time": "2023-04-25T20:55:16.141004Z",
     "start_time": "2023-04-25T20:50:03.067429Z"
    }
   },
   "outputs": [
    {
     "name": "stderr",
     "output_type": "stream",
     "text": [
      "Epoch: 1005:  10%|███████████                                                                                                   | 1005/10000 [02:15<15:46,  9.50it/s, lowest_mse=0.0238, pred_loss=40.4, trigger=0]"
     ]
    },
    {
     "name": "stdout",
     "output_type": "stream",
     "text": [
      "The batch_size is now:  32\n"
     ]
    },
    {
     "name": "stderr",
     "output_type": "stream",
     "text": [
      "Epoch: 2010:  20%|██████████████████████▎                                                                                        | 2008/10000 [03:27<07:52, 16.91it/s, lowest_mse=0.022, pred_loss=38.3, trigger=0]"
     ]
    },
    {
     "name": "stdout",
     "output_type": "stream",
     "text": [
      "The batch_size is now:  64\n"
     ]
    },
    {
     "name": "stderr",
     "output_type": "stream",
     "text": [
      "Epoch: 3015:  30%|█████████████████████████████████▏                                                                            | 3012/10000 [04:09<03:54, 29.77it/s, lowest_mse=0.0211, pred_loss=37.3, trigger=0]"
     ]
    },
    {
     "name": "stdout",
     "output_type": "stream",
     "text": [
      "The batch_size is now:  128\n"
     ]
    },
    {
     "name": "stderr",
     "output_type": "stream",
     "text": [
      "Epoch: 4021:  40%|████████████████████████████████████████████▏                                                                 | 4021/10000 [04:32<01:55, 51.95it/s, lowest_mse=0.0206, pred_loss=37.2, trigger=0]"
     ]
    },
    {
     "name": "stdout",
     "output_type": "stream",
     "text": [
      "The batch_size is now:  256\n"
     ]
    },
    {
     "name": "stderr",
     "output_type": "stream",
     "text": [
      "Epoch: 5025:  50%|███████████████████████████████████████████████████████▏                                                      | 5021/10000 [04:49<01:17, 64.13it/s, lowest_mse=0.0202, pred_loss=36.9, trigger=0]"
     ]
    },
    {
     "name": "stdout",
     "output_type": "stream",
     "text": [
      "The batch_size is now:  512\n"
     ]
    },
    {
     "name": "stderr",
     "output_type": "stream",
     "text": [
      "Epoch: 6034:  60%|████████████████████████████████████████████████████████████████████▋                                             | 6024/10000 [05:03<00:46, 86.42it/s, lowest_mse=0.02, pred_loss=36, trigger=0]"
     ]
    },
    {
     "name": "stdout",
     "output_type": "stream",
     "text": [
      "The batch_size is now:  1024\n"
     ]
    },
    {
     "name": "stderr",
     "output_type": "stream",
     "text": [
      "Epoch: 7015:  70%|█████████████████████████████████████████████████████████████████████████████▏                                | 7015/10000 [05:13<02:13, 22.41it/s, lowest_mse=0.0197, pred_loss=35.8, trigger=0]\n"
     ]
    },
    {
     "name": "stdout",
     "output_type": "stream",
     "text": [
      "The batch_size is now:  2048\n",
      "Adam Unbiased\n",
      "The train error is 35.76 for SOAP\n",
      "The test error is 38.11 for SOAP\n"
     ]
    }
   ],
   "source": [
    "weights, loss_dos, test_loss_dos = normal_reg_train_Ad(bulk_soap, bulk_dos1,\n",
    "                                                       bulk_train_index, bulk_test_index,\n",
    "                                                       1e-2, 10000, 16, 1e-3)\n",
    "print (\"Adam Unbiased\")\n",
    "print (\"The train error is {:.4} for SOAP\".format(loss_dos))\n",
    "print (\"The test error is {:.4} for SOAP\".format(test_loss_dos))"
   ]
  },
  {
   "cell_type": "code",
   "execution_count": 366,
   "id": "d1bf1d95",
   "metadata": {
    "ExecuteTime": {
     "end_time": "2023-04-25T21:00:34.645366Z",
     "start_time": "2023-04-25T20:55:16.143817Z"
    }
   },
   "outputs": [
    {
     "name": "stderr",
     "output_type": "stream",
     "text": [
      "Epoch: 1005:  10%|███████████▏                                                                                                   | 1005/10000 [02:21<15:59,  9.37it/s, lowest_mse=0.025, pred_loss=39.4, trigger=0]"
     ]
    },
    {
     "name": "stdout",
     "output_type": "stream",
     "text": [
      "The batch_size is now:  32\n"
     ]
    },
    {
     "name": "stderr",
     "output_type": "stream",
     "text": [
      "Epoch: 2009:  20%|██████████████████████▎                                                                                        | 2008/10000 [03:36<08:04, 16.50it/s, lowest_mse=0.023, pred_loss=37.6, trigger=0]"
     ]
    },
    {
     "name": "stdout",
     "output_type": "stream",
     "text": [
      "The batch_size is now:  64\n"
     ]
    },
    {
     "name": "stderr",
     "output_type": "stream",
     "text": [
      "Epoch: 3015:  30%|█████████████████████████████████▏                                                                            | 3012/10000 [04:17<03:49, 30.47it/s, lowest_mse=0.0221, pred_loss=36.6, trigger=0]"
     ]
    },
    {
     "name": "stdout",
     "output_type": "stream",
     "text": [
      "The batch_size is now:  128\n"
     ]
    },
    {
     "name": "stderr",
     "output_type": "stream",
     "text": [
      "Epoch: 4021:  40%|████████████████████████████████████████████▏                                                                 | 4020/10000 [04:40<01:55, 51.70it/s, lowest_mse=0.0215, pred_loss=36.6, trigger=0]"
     ]
    },
    {
     "name": "stdout",
     "output_type": "stream",
     "text": [
      "The batch_size is now:  256\n"
     ]
    },
    {
     "name": "stderr",
     "output_type": "stream",
     "text": [
      "Epoch: 5026:  50%|███████████████████████████████████████████████████████▏                                                      | 5022/10000 [04:56<01:14, 67.15it/s, lowest_mse=0.0211, pred_loss=36.1, trigger=0]"
     ]
    },
    {
     "name": "stdout",
     "output_type": "stream",
     "text": [
      "The batch_size is now:  512\n"
     ]
    },
    {
     "name": "stderr",
     "output_type": "stream",
     "text": [
      "Epoch: 6033:  60%|██████████████████████████████████████████████████████████████████▎                                           | 6024/10000 [05:09<00:47, 84.15it/s, lowest_mse=0.0209, pred_loss=35.3, trigger=0]"
     ]
    },
    {
     "name": "stdout",
     "output_type": "stream",
     "text": [
      "The batch_size is now:  1024\n"
     ]
    },
    {
     "name": "stderr",
     "output_type": "stream",
     "text": [
      "Epoch: 7015:  70%|█████████████████████████████████████████████████████████████████████████████▏                                | 7015/10000 [05:18<02:15, 22.03it/s, lowest_mse=0.0206, pred_loss=35.1, trigger=0]\n"
     ]
    },
    {
     "name": "stdout",
     "output_type": "stream",
     "text": [
      "The batch_size is now:  2048\n",
      "Adam Holdout\n",
      "The train error is 35.11 for SOAP\n",
      "The test error is 44.07 for SOAP\n"
     ]
    }
   ],
   "source": [
    "weights, loss_dos, test_loss_dos = normal_reg_train_Ad(bulk_soap, bulk_dos1,\n",
    "                                                       bulk_biased_train_index, bulk_biased_test_index,\n",
    "                                                       1e-2, 10000, 16, 1e-3)\n",
    "print (\"Adam Holdout\")\n",
    "print (\"The train error is {:.4} for SOAP\".format(loss_dos))\n",
    "print (\"The test error is {:.4} for SOAP\".format(test_loss_dos))"
   ]
  },
  {
   "cell_type": "markdown",
   "id": "2c8cf0a0",
   "metadata": {},
   "source": [
    "#### Bulk - 0.3 Kernel"
   ]
  },
  {
   "cell_type": "code",
   "execution_count": 367,
   "id": "0a8ce091",
   "metadata": {
    "ExecuteTime": {
     "end_time": "2023-04-25T21:03:34.378692Z",
     "start_time": "2023-04-25T21:00:34.647563Z"
    }
   },
   "outputs": [
    {
     "name": "stderr",
     "output_type": "stream",
     "text": [
      "Epoch: 808:   8%|█████████                                                                                                       | 808/10000 [01:16<11:52, 12.91it/s, lowest_mse=0.0203, pred_loss=69.8, trigger=0]"
     ]
    },
    {
     "name": "stdout",
     "output_type": "stream",
     "text": [
      "The batch_size is now:  32\n"
     ]
    },
    {
     "name": "stderr",
     "output_type": "stream",
     "text": [
      "Epoch: 1616:  16%|█████████████████▋                                                                                            | 1613/10000 [01:57<05:40, 24.65it/s, lowest_mse=0.0152, pred_loss=47.1, trigger=0]"
     ]
    },
    {
     "name": "stdout",
     "output_type": "stream",
     "text": [
      "The batch_size is now:  64\n"
     ]
    },
    {
     "name": "stderr",
     "output_type": "stream",
     "text": [
      "Epoch: 2424:  24%|██████████████████████████▌                                                                                   | 2419/10000 [02:20<03:02, 41.53it/s, lowest_mse=0.0137, pred_loss=41.1, trigger=0]"
     ]
    },
    {
     "name": "stdout",
     "output_type": "stream",
     "text": [
      "The batch_size is now:  128\n"
     ]
    },
    {
     "name": "stderr",
     "output_type": "stream",
     "text": [
      "Epoch: 3232:  32%|███████████████████████████████████▍                                                                          | 3225/10000 [02:34<01:49, 61.84it/s, lowest_mse=0.0133, pred_loss=96.3, trigger=0]"
     ]
    },
    {
     "name": "stdout",
     "output_type": "stream",
     "text": [
      "The batch_size is now:  256\n"
     ]
    },
    {
     "name": "stderr",
     "output_type": "stream",
     "text": [
      "Epoch: 4040:  40%|████████████████████████████████████████████▋                                                                  | 4030/10000 [02:44<01:10, 84.28it/s, lowest_mse=0.0131, pred_loss=130, trigger=0]"
     ]
    },
    {
     "name": "stdout",
     "output_type": "stream",
     "text": [
      "The batch_size is now:  512\n"
     ]
    },
    {
     "name": "stderr",
     "output_type": "stream",
     "text": [
      "Epoch: 4850:  48%|█████████████████████████████████████████████████████▎                                                        | 4849/10000 [02:53<00:46, 111.40it/s, lowest_mse=0.013, pred_loss=41.2, trigger=0]"
     ]
    },
    {
     "name": "stdout",
     "output_type": "stream",
     "text": [
      "The batch_size is now:  1024\n"
     ]
    },
    {
     "name": "stderr",
     "output_type": "stream",
     "text": [
      "Epoch: 5629:  56%|█████████████████████████████████████████████████████████████▉                                                | 5629/10000 [02:59<02:19, 31.33it/s, lowest_mse=0.0128, pred_loss=33.9, trigger=0]"
     ]
    },
    {
     "name": "stdout",
     "output_type": "stream",
     "text": [
      "The batch_size is now:  2048\n",
      "Adam Unbiased\n",
      "The train error is 33.93 for KERNEL\n",
      "The test error is 35.07 for KERNEL\n"
     ]
    },
    {
     "name": "stderr",
     "output_type": "stream",
     "text": [
      "\n"
     ]
    }
   ],
   "source": [
    "A_U_weights_03, loss_dos, test_loss_dos = kernel_reg_train_Ad(bulk_kernel_200, bulk_dos3,\n",
    "                                                              bulk_train_index, bulk_test_index,\n",
    "                                                              bulk_kMM_200, 1e-1, 10000, 16, 1e-3)\n",
    "\n",
    "print (\"Adam Unbiased\")\n",
    "print (\"The train error is {:.4} for KERNEL\".format(loss_dos))\n",
    "print (\"The test error is {:.4} for KERNEL\".format(test_loss_dos))"
   ]
  },
  {
   "cell_type": "code",
   "execution_count": 368,
   "id": "b7272bd9",
   "metadata": {
    "ExecuteTime": {
     "end_time": "2023-04-25T21:06:04.632541Z",
     "start_time": "2023-04-25T21:03:34.380887Z"
    }
   },
   "outputs": [
    {
     "name": "stderr",
     "output_type": "stream",
     "text": [
      "Epoch: 809:   8%|█████████▏                                                                                                        | 809/10000 [01:00<08:57, 17.09it/s, lowest_mse=0.0216, pred_loss=50, trigger=0]"
     ]
    },
    {
     "name": "stdout",
     "output_type": "stream",
     "text": [
      "The batch_size is now:  32\n"
     ]
    },
    {
     "name": "stderr",
     "output_type": "stream",
     "text": [
      "Epoch: 1616:  16%|█████████████████▋                                                                                            | 1613/10000 [01:35<05:32, 25.22it/s, lowest_mse=0.0161, pred_loss=40.5, trigger=0]"
     ]
    },
    {
     "name": "stdout",
     "output_type": "stream",
     "text": [
      "The batch_size is now:  64\n"
     ]
    },
    {
     "name": "stderr",
     "output_type": "stream",
     "text": [
      "Epoch: 2425:  24%|██████████████████████████▌                                                                                   | 2420/10000 [01:56<02:41, 46.87it/s, lowest_mse=0.0142, pred_loss=37.4, trigger=0]"
     ]
    },
    {
     "name": "stdout",
     "output_type": "stream",
     "text": [
      "The batch_size is now:  128\n"
     ]
    },
    {
     "name": "stderr",
     "output_type": "stream",
     "text": [
      "Epoch: 3234:  32%|███████████████████████████████████▌                                                                          | 3229/10000 [02:09<01:33, 72.80it/s, lowest_mse=0.0134, pred_loss=38.6, trigger=0]"
     ]
    },
    {
     "name": "stdout",
     "output_type": "stream",
     "text": [
      "The batch_size is now:  256\n"
     ]
    },
    {
     "name": "stderr",
     "output_type": "stream",
     "text": [
      "Epoch: 4043:  40%|████████████████████████████████████████████▍                                                                 | 4036/10000 [02:18<01:00, 98.31it/s, lowest_mse=0.0129, pred_loss=60.2, trigger=0]"
     ]
    },
    {
     "name": "stdout",
     "output_type": "stream",
     "text": [
      "The batch_size is now:  512\n"
     ]
    },
    {
     "name": "stderr",
     "output_type": "stream",
     "text": [
      "Epoch: 4853:  48%|████████████████████████████████████████████████████▊                                                        | 4843/10000 [02:25<00:42, 122.31it/s, lowest_mse=0.0128, pred_loss=33.1, trigger=0]"
     ]
    },
    {
     "name": "stdout",
     "output_type": "stream",
     "text": [
      "The batch_size is now:  1024\n"
     ]
    },
    {
     "name": "stderr",
     "output_type": "stream",
     "text": [
      "Epoch: 5629:  56%|█████████████████████████████████████████████████████████████▉                                                | 5629/10000 [02:30<01:56, 37.47it/s, lowest_mse=0.0126, pred_loss=32.2, trigger=0]\n"
     ]
    },
    {
     "name": "stdout",
     "output_type": "stream",
     "text": [
      "The batch_size is now:  2048\n",
      "Adam Biased\n",
      "The train error is 32.2 for KERNEL\n",
      "The test error is 45.04 for KERNEL\n"
     ]
    }
   ],
   "source": [
    "A_U_weights_03, loss_dos, test_loss_dos = kernel_reg_train_Ad(bulk_kernel_100, bulk_dos3,\n",
    "                                                              bulk_biased_train_index, bulk_biased_test_index,\n",
    "                                                              bulk_kMM_100, 1e-1, 10000, 16, 1e-3)\n",
    "\n",
    "print (\"Adam Biased\")\n",
    "print (\"The train error is {:.4} for KERNEL\".format(loss_dos))\n",
    "print (\"The test error is {:.4} for KERNEL\".format(test_loss_dos))"
   ]
  },
  {
   "cell_type": "markdown",
   "id": "88655a3b",
   "metadata": {},
   "source": [
    "#### Bulk - 0.1 Kernel"
   ]
  },
  {
   "cell_type": "code",
   "execution_count": 369,
   "id": "6bfc0842",
   "metadata": {
    "ExecuteTime": {
     "end_time": "2023-04-25T21:09:01.821195Z",
     "start_time": "2023-04-25T21:06:04.634823Z"
    }
   },
   "outputs": [
    {
     "name": "stderr",
     "output_type": "stream",
     "text": [
      "Epoch: 808:   8%|█████████                                                                                                       | 808/10000 [01:16<11:40, 13.12it/s, lowest_mse=0.0506, pred_loss=72.5, trigger=0]"
     ]
    },
    {
     "name": "stdout",
     "output_type": "stream",
     "text": [
      "The batch_size is now:  32\n"
     ]
    },
    {
     "name": "stderr",
     "output_type": "stream",
     "text": [
      "Epoch: 1616:  16%|█████████████████▊                                                                                            | 1614/10000 [01:56<05:36, 24.95it/s, lowest_mse=0.0434, pred_loss=59.1, trigger=0]"
     ]
    },
    {
     "name": "stdout",
     "output_type": "stream",
     "text": [
      "The batch_size is now:  64\n"
     ]
    },
    {
     "name": "stderr",
     "output_type": "stream",
     "text": [
      "Epoch: 2424:  24%|███████████████████████████                                                                                     | 2420/10000 [02:19<02:58, 42.36it/s, lowest_mse=0.0408, pred_loss=56, trigger=0]"
     ]
    },
    {
     "name": "stdout",
     "output_type": "stream",
     "text": [
      "The batch_size is now:  128\n"
     ]
    },
    {
     "name": "stderr",
     "output_type": "stream",
     "text": [
      "Epoch: 3232:  32%|███████████████████████████████████▍                                                                          | 3227/10000 [02:33<01:43, 65.40it/s, lowest_mse=0.0397, pred_loss=86.5, trigger=0]"
     ]
    },
    {
     "name": "stdout",
     "output_type": "stream",
     "text": [
      "The batch_size is now:  256\n"
     ]
    },
    {
     "name": "stderr",
     "output_type": "stream",
     "text": [
      "Epoch: 4040:  40%|████████████████████████████████████████████▊                                                                  | 4040/10000 [02:43<01:06, 89.15it/s, lowest_mse=0.0393, pred_loss=138, trigger=0]"
     ]
    },
    {
     "name": "stdout",
     "output_type": "stream",
     "text": [
      "The batch_size is now:  512\n"
     ]
    },
    {
     "name": "stderr",
     "output_type": "stream",
     "text": [
      "Epoch: 4852:  48%|████████████████████████████████████████████████████▊                                                        | 4847/10000 [02:51<00:44, 115.91it/s, lowest_mse=0.0391, pred_loss=52.4, trigger=0]"
     ]
    },
    {
     "name": "stdout",
     "output_type": "stream",
     "text": [
      "The batch_size is now:  1024\n"
     ]
    },
    {
     "name": "stderr",
     "output_type": "stream",
     "text": [
      "Epoch: 5629:  56%|█████████████████████████████████████████████████████████████▉                                                | 5629/10000 [02:57<02:17, 31.78it/s, lowest_mse=0.0388, pred_loss=50.1, trigger=0]"
     ]
    },
    {
     "name": "stdout",
     "output_type": "stream",
     "text": [
      "The batch_size is now:  2048\n",
      "Adam Unbiased\n",
      "The train error is 50.13 for KERNEL\n",
      "The test error is 51.49 for KERNEL\n"
     ]
    },
    {
     "name": "stderr",
     "output_type": "stream",
     "text": [
      "\n"
     ]
    }
   ],
   "source": [
    "A_U_weights_03, loss_dos, test_loss_dos = kernel_reg_train_Ad(bulk_kernel_200, bulk_dos1,\n",
    "                                                              bulk_train_index, bulk_test_index,\n",
    "                                                              bulk_kMM_200, 1e-1, 10000, 16, 1e-3)\n",
    "\n",
    "print (\"Adam Unbiased\")\n",
    "print (\"The train error is {:.4} for KERNEL\".format(loss_dos))\n",
    "print (\"The test error is {:.4} for KERNEL\".format(test_loss_dos))"
   ]
  },
  {
   "cell_type": "code",
   "execution_count": 370,
   "id": "d64f315b",
   "metadata": {
    "ExecuteTime": {
     "end_time": "2023-04-25T21:11:26.014286Z",
     "start_time": "2023-04-25T21:09:01.824090Z"
    }
   },
   "outputs": [
    {
     "name": "stderr",
     "output_type": "stream",
     "text": [
      "Epoch: 809:   8%|█████████▏                                                                                                        | 809/10000 [01:00<09:00, 17.00it/s, lowest_mse=0.0529, pred_loss=62, trigger=0]"
     ]
    },
    {
     "name": "stdout",
     "output_type": "stream",
     "text": [
      "The batch_size is now:  32\n"
     ]
    },
    {
     "name": "stderr",
     "output_type": "stream",
     "text": [
      "Epoch: 1617:  16%|██████████████████                                                                                              | 1615/10000 [01:34<04:34, 30.53it/s, lowest_mse=0.0459, pred_loss=57, trigger=0]"
     ]
    },
    {
     "name": "stdout",
     "output_type": "stream",
     "text": [
      "The batch_size is now:  64\n"
     ]
    },
    {
     "name": "stderr",
     "output_type": "stream",
     "text": [
      "Epoch: 2426:  24%|██████████████████████████▋                                                                                   | 2423/10000 [01:52<02:24, 52.33it/s, lowest_mse=0.0432, pred_loss=52.9, trigger=0]"
     ]
    },
    {
     "name": "stdout",
     "output_type": "stream",
     "text": [
      "The batch_size is now:  128\n"
     ]
    },
    {
     "name": "stderr",
     "output_type": "stream",
     "text": [
      "Epoch: 3236:  32%|███████████████████████████████████▌                                                                          | 3233/10000 [02:03<01:20, 84.46it/s, lowest_mse=0.0419, pred_loss=52.3, trigger=0]"
     ]
    },
    {
     "name": "stdout",
     "output_type": "stream",
     "text": [
      "The batch_size is now:  256\n"
     ]
    },
    {
     "name": "stderr",
     "output_type": "stream",
     "text": [
      "Epoch: 4044:  40%|████████████████████████████████████████████▊                                                                  | 4037/10000 [02:11<00:59, 100.85it/s, lowest_mse=0.0411, pred_loss=66, trigger=0]"
     ]
    },
    {
     "name": "stdout",
     "output_type": "stream",
     "text": [
      "The batch_size is now:  512\n"
     ]
    },
    {
     "name": "stderr",
     "output_type": "stream",
     "text": [
      "Epoch: 4854:  48%|████████████████████████████████████████████████████▊                                                        | 4848/10000 [02:18<00:38, 134.69it/s, lowest_mse=0.0407, pred_loss=49.6, trigger=0]"
     ]
    },
    {
     "name": "stdout",
     "output_type": "stream",
     "text": [
      "The batch_size is now:  1024\n"
     ]
    },
    {
     "name": "stderr",
     "output_type": "stream",
     "text": [
      "Epoch: 5629:  56%|█████████████████████████████████████████████████████████████▉                                                | 5629/10000 [02:24<01:51, 39.04it/s, lowest_mse=0.0403, pred_loss=49.1, trigger=0]\n"
     ]
    },
    {
     "name": "stdout",
     "output_type": "stream",
     "text": [
      "The batch_size is now:  2048\n",
      "Adam Biased\n",
      "The train error is 49.06 for KERNEL\n",
      "The test error is 61.5 for KERNEL\n"
     ]
    }
   ],
   "source": [
    "A_U_weights_03, loss_dos, test_loss_dos = kernel_reg_train_Ad(bulk_kernel_100, bulk_dos1,\n",
    "                                                              bulk_biased_train_index, bulk_biased_test_index,\n",
    "                                                              bulk_kMM_100, 1e-1, 10000, 16, 1e-3)\n",
    "\n",
    "print (\"Adam Biased\")\n",
    "print (\"The train error is {:.4} for KERNEL\".format(loss_dos))\n",
    "print (\"The test error is {:.4} for KERNEL\".format(test_loss_dos))"
   ]
  },
  {
   "cell_type": "markdown",
   "id": "a9ea0fd8",
   "metadata": {},
   "source": [
    "### Total"
   ]
  },
  {
   "cell_type": "markdown",
   "id": "d6726bdd",
   "metadata": {},
   "source": [
    "#### Total - 0.3 Soap\n"
   ]
  },
  {
   "cell_type": "code",
   "execution_count": 371,
   "id": "ed1abc60",
   "metadata": {
    "ExecuteTime": {
     "end_time": "2023-04-25T21:17:37.262790Z",
     "start_time": "2023-04-25T21:11:26.016082Z"
    }
   },
   "outputs": [
    {
     "name": "stderr",
     "output_type": "stream",
     "text": [
      "Epoch: 1005:  10%|███████████▏                                                                                                   | 1005/10000 [02:45<18:54,  7.93it/s, lowest_mse=0.00955, pred_loss=27, trigger=0]"
     ]
    },
    {
     "name": "stdout",
     "output_type": "stream",
     "text": [
      "The batch_size is now:  32\n"
     ]
    },
    {
     "name": "stderr",
     "output_type": "stream",
     "text": [
      "Epoch: 2009:  20%|██████████████████████                                                                                        | 2008/10000 [04:12<09:32, 13.97it/s, lowest_mse=0.0085, pred_loss=25.6, trigger=0]"
     ]
    },
    {
     "name": "stdout",
     "output_type": "stream",
     "text": [
      "The batch_size is now:  64\n"
     ]
    },
    {
     "name": "stderr",
     "output_type": "stream",
     "text": [
      "Epoch: 3014:  30%|████████████████████████████████▊                                                                            | 3013/10000 [05:01<04:26, 26.23it/s, lowest_mse=0.00794, pred_loss=24.1, trigger=0]"
     ]
    },
    {
     "name": "stdout",
     "output_type": "stream",
     "text": [
      "The batch_size is now:  128\n"
     ]
    },
    {
     "name": "stderr",
     "output_type": "stream",
     "text": [
      "Epoch: 4020:  40%|███████████████████████████████████████████▊                                                                 | 4015/10000 [05:29<02:23, 41.64it/s, lowest_mse=0.00759, pred_loss=23.6, trigger=0]"
     ]
    },
    {
     "name": "stdout",
     "output_type": "stream",
     "text": [
      "The batch_size is now:  256\n"
     ]
    },
    {
     "name": "stderr",
     "output_type": "stream",
     "text": [
      "Epoch: 5024:  50%|██████████████████████████████████████████████████████▋                                                      | 5021/10000 [05:46<01:24, 59.01it/s, lowest_mse=0.00736, pred_loss=23.7, trigger=0]"
     ]
    },
    {
     "name": "stdout",
     "output_type": "stream",
     "text": [
      "The batch_size is now:  512\n"
     ]
    },
    {
     "name": "stderr",
     "output_type": "stream",
     "text": [
      "Epoch: 6031:  60%|██████████████████████████████████████████████████████████████████▎                                           | 6023/10000 [06:00<00:51, 77.79it/s, lowest_mse=0.0072, pred_loss=22.8, trigger=0]"
     ]
    },
    {
     "name": "stdout",
     "output_type": "stream",
     "text": [
      "The batch_size is now:  1024\n"
     ]
    },
    {
     "name": "stderr",
     "output_type": "stream",
     "text": [
      "Epoch: 7015:  70%|████████████████████████████████████████████████████████████████████████████▍                                | 7015/10000 [06:11<02:37, 18.90it/s, lowest_mse=0.00707, pred_loss=22.4, trigger=0]\n"
     ]
    },
    {
     "name": "stdout",
     "output_type": "stream",
     "text": [
      "The batch_size is now:  2048\n",
      "Adam Unbiased\n",
      "The train error is 22.44 for SOAP\n",
      "The test error is 24.85 for SOAP\n"
     ]
    }
   ],
   "source": [
    "weights, loss_dos, test_loss_dos = normal_reg_train_Ad(total_soap, total_dos3,\n",
    "                                                       total_train_index, total_test_index,\n",
    "                                                       1e-2, 10000, 16, 1e-3)\n",
    "print (\"Adam Unbiased\")\n",
    "print (\"The train error is {:.4} for SOAP\".format(loss_dos))\n",
    "print (\"The test error is {:.4} for SOAP\".format(test_loss_dos))"
   ]
  },
  {
   "cell_type": "code",
   "execution_count": 372,
   "id": "63ca81ee",
   "metadata": {
    "ExecuteTime": {
     "end_time": "2023-04-25T21:23:49.350180Z",
     "start_time": "2023-04-25T21:17:37.264922Z"
    }
   },
   "outputs": [
    {
     "name": "stderr",
     "output_type": "stream",
     "text": [
      "Epoch: 1005:  10%|██████████▉                                                                                                  | 1005/10000 [02:44<18:59,  7.90it/s, lowest_mse=0.00976, pred_loss=27.9, trigger=0]"
     ]
    },
    {
     "name": "stdout",
     "output_type": "stream",
     "text": [
      "The batch_size is now:  32\n"
     ]
    },
    {
     "name": "stderr",
     "output_type": "stream",
     "text": [
      "Epoch: 2009:  20%|█████████████████████▉                                                                                       | 2009/10000 [04:14<08:57, 14.86it/s, lowest_mse=0.00866, pred_loss=24.1, trigger=0]"
     ]
    },
    {
     "name": "stdout",
     "output_type": "stream",
     "text": [
      "The batch_size is now:  64\n"
     ]
    },
    {
     "name": "stderr",
     "output_type": "stream",
     "text": [
      "Epoch: 3014:  30%|████████████████████████████████▊                                                                            | 3012/10000 [05:03<04:37, 25.17it/s, lowest_mse=0.00808, pred_loss=23.5, trigger=0]"
     ]
    },
    {
     "name": "stdout",
     "output_type": "stream",
     "text": [
      "The batch_size is now:  128\n"
     ]
    },
    {
     "name": "stderr",
     "output_type": "stream",
     "text": [
      "Epoch: 4020:  40%|███████████████████████████████████████████▊                                                                 | 4019/10000 [05:30<02:10, 45.68it/s, lowest_mse=0.00772, pred_loss=22.7, trigger=0]"
     ]
    },
    {
     "name": "stdout",
     "output_type": "stream",
     "text": [
      "The batch_size is now:  256\n"
     ]
    },
    {
     "name": "stderr",
     "output_type": "stream",
     "text": [
      "Epoch: 5024:  50%|███████████████████████████████████████████████████████▊                                                       | 5023/10000 [05:47<01:20, 61.99it/s, lowest_mse=0.00748, pred_loss=23, trigger=0]"
     ]
    },
    {
     "name": "stdout",
     "output_type": "stream",
     "text": [
      "The batch_size is now:  512\n"
     ]
    },
    {
     "name": "stderr",
     "output_type": "stream",
     "text": [
      "Epoch: 6031:  60%|██████████████████████████████████████████████████████████████████▉                                            | 6027/10000 [06:01<00:49, 79.84it/s, lowest_mse=0.00731, pred_loss=22, trigger=0]"
     ]
    },
    {
     "name": "stdout",
     "output_type": "stream",
     "text": [
      "The batch_size is now:  1024\n"
     ]
    },
    {
     "name": "stderr",
     "output_type": "stream",
     "text": [
      "Epoch: 7015:  70%|████████████████████████████████████████████████████████████████████████████▍                                | 7015/10000 [06:12<02:38, 18.85it/s, lowest_mse=0.00718, pred_loss=21.6, trigger=0]\n"
     ]
    },
    {
     "name": "stdout",
     "output_type": "stream",
     "text": [
      "The batch_size is now:  2048\n",
      "Adam Biased\n",
      "The train error is 21.65 for SOAP\n",
      "The test error is 30.46 for SOAP\n"
     ]
    }
   ],
   "source": [
    "weights, loss_dos, test_loss_dos = normal_reg_train_Ad(total_soap, total_dos3,\n",
    "                                                       total_biased_train_index, total_biased_test_index,\n",
    "                                                       1e-2, 10000, 16, 1e-3)\n",
    "print (\"Adam Biased\")\n",
    "print (\"The train error is {:.4} for SOAP\".format(loss_dos))\n",
    "print (\"The test error is {:.4} for SOAP\".format(test_loss_dos))"
   ]
  },
  {
   "cell_type": "code",
   "execution_count": 373,
   "id": "50969fe5",
   "metadata": {
    "ExecuteTime": {
     "end_time": "2023-04-25T21:30:00.175810Z",
     "start_time": "2023-04-25T21:23:49.352362Z"
    }
   },
   "outputs": [
    {
     "name": "stderr",
     "output_type": "stream",
     "text": [
      "Epoch: 1005:  10%|██████████▉                                                                                                  | 1005/10000 [02:44<19:12,  7.81it/s, lowest_mse=0.00787, pred_loss=24.5, trigger=0]"
     ]
    },
    {
     "name": "stdout",
     "output_type": "stream",
     "text": [
      "The batch_size is now:  32\n"
     ]
    },
    {
     "name": "stderr",
     "output_type": "stream",
     "text": [
      "Epoch: 2009:  20%|█████████████████████▉                                                                                       | 2008/10000 [04:10<09:18, 14.31it/s, lowest_mse=0.00689, pred_loss=22.8, trigger=0]"
     ]
    },
    {
     "name": "stdout",
     "output_type": "stream",
     "text": [
      "The batch_size is now:  64\n"
     ]
    },
    {
     "name": "stderr",
     "output_type": "stream",
     "text": [
      "Epoch: 3014:  30%|████████████████████████████████▊                                                                            | 3012/10000 [04:59<04:36, 25.30it/s, lowest_mse=0.00639, pred_loss=21.8, trigger=0]"
     ]
    },
    {
     "name": "stdout",
     "output_type": "stream",
     "text": [
      "The batch_size is now:  128\n"
     ]
    },
    {
     "name": "stderr",
     "output_type": "stream",
     "text": [
      "Epoch: 4020:  40%|███████████████████████████████████████████▊                                                                 | 4015/10000 [05:28<02:22, 41.91it/s, lowest_mse=0.00608, pred_loss=21.3, trigger=0]"
     ]
    },
    {
     "name": "stdout",
     "output_type": "stream",
     "text": [
      "The batch_size is now:  256\n"
     ]
    },
    {
     "name": "stderr",
     "output_type": "stream",
     "text": [
      "Epoch: 5022:  50%|██████████████████████████████████████████████████████▋                                                      | 5017/10000 [05:45<01:33, 53.08it/s, lowest_mse=0.00588, pred_loss=21.3, trigger=0]"
     ]
    },
    {
     "name": "stdout",
     "output_type": "stream",
     "text": [
      "The batch_size is now:  512\n"
     ]
    },
    {
     "name": "stderr",
     "output_type": "stream",
     "text": [
      "Epoch: 6031:  60%|█████████████████████████████████████████████████████████████████▋                                           | 6030/10000 [06:00<00:48, 82.04it/s, lowest_mse=0.00574, pred_loss=20.6, trigger=0]"
     ]
    },
    {
     "name": "stdout",
     "output_type": "stream",
     "text": [
      "The batch_size is now:  1024\n"
     ]
    },
    {
     "name": "stderr",
     "output_type": "stream",
     "text": [
      "Epoch: 7015:  70%|████████████████████████████████████████████████████████████████████████████▍                                | 7015/10000 [06:10<02:37, 18.92it/s, lowest_mse=0.00563, pred_loss=20.2, trigger=0]\n"
     ]
    },
    {
     "name": "stdout",
     "output_type": "stream",
     "text": [
      "The batch_size is now:  2048\n",
      "Adam Holdout\n",
      "The train error is 20.22 for SOAP\n",
      "The test error is 34.56 for SOAP\n"
     ]
    }
   ],
   "source": [
    "weights, loss_dos, test_loss_dos = normal_reg_train_Ad(total_soap, total_dos3,\n",
    "                                                       holdout_train_index, holdout_test_index,\n",
    "                                                       1e-2, 10000, 16, 1e-3)\n",
    "print (\"Adam Holdout\")\n",
    "print (\"The train error is {:.4} for SOAP\".format(loss_dos))\n",
    "print (\"The test error is {:.4} for SOAP\".format(test_loss_dos))"
   ]
  },
  {
   "cell_type": "markdown",
   "id": "e3f290ab",
   "metadata": {},
   "source": [
    "#### Total - 0.1 Soap"
   ]
  },
  {
   "cell_type": "code",
   "execution_count": 374,
   "id": "e7077370",
   "metadata": {
    "ExecuteTime": {
     "end_time": "2023-04-25T21:36:11.577178Z",
     "start_time": "2023-04-25T21:30:00.248318Z"
    }
   },
   "outputs": [
    {
     "name": "stderr",
     "output_type": "stream",
     "text": [
      "Epoch: 1005:  10%|███████████                                                                                                   | 1005/10000 [02:41<18:52,  7.95it/s, lowest_mse=0.0296, pred_loss=41.1, trigger=0]"
     ]
    },
    {
     "name": "stdout",
     "output_type": "stream",
     "text": [
      "The batch_size is now:  32\n"
     ]
    },
    {
     "name": "stderr",
     "output_type": "stream",
     "text": [
      "Epoch: 2009:  20%|██████████████████████                                                                                        | 2008/10000 [04:07<09:33, 13.93it/s, lowest_mse=0.0276, pred_loss=39.9, trigger=0]"
     ]
    },
    {
     "name": "stdout",
     "output_type": "stream",
     "text": [
      "The batch_size is now:  64\n"
     ]
    },
    {
     "name": "stderr",
     "output_type": "stream",
     "text": [
      "Epoch: 3014:  30%|█████████████████████████████████                                                                             | 3011/10000 [04:55<04:40, 24.87it/s, lowest_mse=0.0266, pred_loss=38.3, trigger=0]"
     ]
    },
    {
     "name": "stdout",
     "output_type": "stream",
     "text": [
      "The batch_size is now:  128\n"
     ]
    },
    {
     "name": "stderr",
     "output_type": "stream",
     "text": [
      "Epoch: 4020:  40%|████████████████████████████████████████████▏                                                                 | 4016/10000 [05:26<02:18, 43.34it/s, lowest_mse=0.0259, pred_loss=37.7, trigger=0]"
     ]
    },
    {
     "name": "stdout",
     "output_type": "stream",
     "text": [
      "The batch_size is now:  256\n"
     ]
    },
    {
     "name": "stderr",
     "output_type": "stream",
     "text": [
      "Epoch: 5024:  50%|███████████████████████████████████████████████████████▏                                                      | 5021/10000 [05:44<01:23, 59.77it/s, lowest_mse=0.0254, pred_loss=37.4, trigger=0]"
     ]
    },
    {
     "name": "stdout",
     "output_type": "stream",
     "text": [
      "The batch_size is now:  512\n"
     ]
    },
    {
     "name": "stderr",
     "output_type": "stream",
     "text": [
      "Epoch: 6031:  60%|██████████████████████████████████████████████████████████████████▎                                           | 6024/10000 [05:59<00:53, 73.88it/s, lowest_mse=0.0251, pred_loss=37.1, trigger=0]"
     ]
    },
    {
     "name": "stdout",
     "output_type": "stream",
     "text": [
      "The batch_size is now:  1024\n"
     ]
    },
    {
     "name": "stderr",
     "output_type": "stream",
     "text": [
      "Epoch: 7015:  70%|█████████████████████████████████████████████████████████████████████████████▏                                | 7015/10000 [06:11<02:37, 18.90it/s, lowest_mse=0.0249, pred_loss=36.8, trigger=0]"
     ]
    },
    {
     "name": "stdout",
     "output_type": "stream",
     "text": [
      "The batch_size is now:  2048\n",
      "Adam Unbiased\n",
      "The train error is 36.82 for SOAP\n",
      "The test error is 38.99 for SOAP\n"
     ]
    },
    {
     "name": "stderr",
     "output_type": "stream",
     "text": [
      "\n"
     ]
    }
   ],
   "source": [
    "weights, loss_dos, test_loss_dos = normal_reg_train_Ad(total_soap, total_dos1,\n",
    "                                                       total_train_index, total_test_index,\n",
    "                                                       1e-2, 10000, 16, 1e-3)\n",
    "print (\"Adam Unbiased\")\n",
    "print (\"The train error is {:.4} for SOAP\".format(loss_dos))\n",
    "print (\"The test error is {:.4} for SOAP\".format(test_loss_dos))"
   ]
  },
  {
   "cell_type": "code",
   "execution_count": 375,
   "id": "0a84d0aa",
   "metadata": {
    "ExecuteTime": {
     "end_time": "2023-04-25T21:42:18.059489Z",
     "start_time": "2023-04-25T21:36:11.579724Z"
    }
   },
   "outputs": [
    {
     "name": "stderr",
     "output_type": "stream",
     "text": [
      "Epoch: 1005:  10%|███████████                                                                                                   | 1005/10000 [02:42<18:50,  7.96it/s, lowest_mse=0.0309, pred_loss=40.2, trigger=0]"
     ]
    },
    {
     "name": "stdout",
     "output_type": "stream",
     "text": [
      "The batch_size is now:  32\n"
     ]
    },
    {
     "name": "stderr",
     "output_type": "stream",
     "text": [
      "Epoch: 2009:  20%|██████████████████████                                                                                        | 2008/10000 [04:08<09:27, 14.09it/s, lowest_mse=0.0287, pred_loss=38.4, trigger=0]"
     ]
    },
    {
     "name": "stdout",
     "output_type": "stream",
     "text": [
      "The batch_size is now:  64\n"
     ]
    },
    {
     "name": "stderr",
     "output_type": "stream",
     "text": [
      "Epoch: 3014:  30%|█████████████████████████████████                                                                             | 3011/10000 [04:56<04:39, 24.97it/s, lowest_mse=0.0276, pred_loss=37.5, trigger=0]"
     ]
    },
    {
     "name": "stdout",
     "output_type": "stream",
     "text": [
      "The batch_size is now:  128\n"
     ]
    },
    {
     "name": "stderr",
     "output_type": "stream",
     "text": [
      "Epoch: 4020:  40%|████████████████████████████████████████████▏                                                                 | 4018/10000 [05:23<02:12, 45.22it/s, lowest_mse=0.0269, pred_loss=36.8, trigger=0]"
     ]
    },
    {
     "name": "stdout",
     "output_type": "stream",
     "text": [
      "The batch_size is now:  256\n"
     ]
    },
    {
     "name": "stderr",
     "output_type": "stream",
     "text": [
      "Epoch: 5025:  50%|███████████████████████████████████████████████████████▎                                                      | 5023/10000 [05:40<01:17, 64.36it/s, lowest_mse=0.0265, pred_loss=36.6, trigger=0]"
     ]
    },
    {
     "name": "stdout",
     "output_type": "stream",
     "text": [
      "The batch_size is now:  512\n"
     ]
    },
    {
     "name": "stderr",
     "output_type": "stream",
     "text": [
      "Epoch: 6032:  60%|██████████████████████████████████████████████████████████████████▎                                           | 6025/10000 [05:54<00:48, 81.36it/s, lowest_mse=0.0261, pred_loss=36.2, trigger=0]"
     ]
    },
    {
     "name": "stdout",
     "output_type": "stream",
     "text": [
      "The batch_size is now:  1024\n"
     ]
    },
    {
     "name": "stderr",
     "output_type": "stream",
     "text": [
      "Epoch: 7015:  70%|██████████████████████████████████████████████████████████████████████████████▌                                 | 7015/10000 [06:06<02:35, 19.14it/s, lowest_mse=0.0258, pred_loss=36, trigger=0]"
     ]
    },
    {
     "name": "stdout",
     "output_type": "stream",
     "text": [
      "The batch_size is now:  2048\n",
      "Adam Biased\n",
      "The train error is 36.01 for SOAP\n",
      "The test error is 44.75 for SOAP\n"
     ]
    },
    {
     "name": "stderr",
     "output_type": "stream",
     "text": [
      "\n"
     ]
    }
   ],
   "source": [
    "weights, loss_dos, test_loss_dos = normal_reg_train_Ad(total_soap, total_dos1,\n",
    "                                                       total_biased_train_index, total_biased_test_index,\n",
    "                                                       1e-2, 10000, 16, 1e-3)\n",
    "print (\"Adam Biased\")\n",
    "print (\"The train error is {:.4} for SOAP\".format(loss_dos))\n",
    "print (\"The test error is {:.4} for SOAP\".format(test_loss_dos))"
   ]
  },
  {
   "cell_type": "code",
   "execution_count": 376,
   "id": "7d8cd0a1",
   "metadata": {
    "ExecuteTime": {
     "end_time": "2023-04-25T21:48:38.814425Z",
     "start_time": "2023-04-25T21:42:18.062514Z"
    }
   },
   "outputs": [
    {
     "name": "stderr",
     "output_type": "stream",
     "text": [
      "Epoch: 1005:  10%|███████████▏                                                                                                   | 1005/10000 [02:55<19:06,  7.84it/s, lowest_mse=0.028, pred_loss=40.3, trigger=0]"
     ]
    },
    {
     "name": "stdout",
     "output_type": "stream",
     "text": [
      "The batch_size is now:  32\n"
     ]
    },
    {
     "name": "stderr",
     "output_type": "stream",
     "text": [
      "Epoch: 2009:  20%|██████████████████████▎                                                                                        | 2009/10000 [04:22<09:07, 14.59it/s, lowest_mse=0.026, pred_loss=38.5, trigger=0]"
     ]
    },
    {
     "name": "stdout",
     "output_type": "stream",
     "text": [
      "The batch_size is now:  64\n"
     ]
    },
    {
     "name": "stderr",
     "output_type": "stream",
     "text": [
      "Epoch: 3014:  30%|█████████████████████████████████▍                                                                             | 3012/10000 [05:11<04:35, 25.32it/s, lowest_mse=0.025, pred_loss=37.4, trigger=0]"
     ]
    },
    {
     "name": "stdout",
     "output_type": "stream",
     "text": [
      "The batch_size is now:  128\n"
     ]
    },
    {
     "name": "stderr",
     "output_type": "stream",
     "text": [
      "Epoch: 4020:  40%|████████████████████████████████████████████▏                                                                 | 4020/10000 [05:39<02:09, 46.27it/s, lowest_mse=0.0244, pred_loss=36.7, trigger=0]"
     ]
    },
    {
     "name": "stdout",
     "output_type": "stream",
     "text": [
      "The batch_size is now:  256\n"
     ]
    },
    {
     "name": "stderr",
     "output_type": "stream",
     "text": [
      "Epoch: 5024:  50%|███████████████████████████████████████████████████████▊                                                       | 5024/10000 [05:56<01:19, 62.77it/s, lowest_mse=0.024, pred_loss=36.5, trigger=0]"
     ]
    },
    {
     "name": "stdout",
     "output_type": "stream",
     "text": [
      "The batch_size is now:  512\n"
     ]
    },
    {
     "name": "stderr",
     "output_type": "stream",
     "text": [
      "Epoch: 6032:  60%|██████████████████████████████████████████████████████████████████▎                                           | 6026/10000 [06:10<00:49, 80.33it/s, lowest_mse=0.0237, pred_loss=36.2, trigger=0]"
     ]
    },
    {
     "name": "stdout",
     "output_type": "stream",
     "text": [
      "The batch_size is now:  1024\n"
     ]
    },
    {
     "name": "stderr",
     "output_type": "stream",
     "text": [
      "Epoch: 7015:  70%|█████████████████████████████████████████████████████████████████████████████▏                                | 7015/10000 [06:20<02:42, 18.43it/s, lowest_mse=0.0234, pred_loss=35.9, trigger=0]\n"
     ]
    },
    {
     "name": "stdout",
     "output_type": "stream",
     "text": [
      "The batch_size is now:  2048\n",
      "Adam holdout\n",
      "The train error is 35.93 for SOAP\n",
      "The test error is 44.63 for SOAP\n"
     ]
    }
   ],
   "source": [
    "weights, loss_dos, test_loss_dos = normal_reg_train_Ad(total_soap, total_dos1,\n",
    "                                                       holdout_train_index, holdout_test_index,\n",
    "                                                       1e-2, 10000, 16, 1e-3)\n",
    "print (\"Adam holdout\")\n",
    "print (\"The train error is {:.4} for SOAP\".format(loss_dos))\n",
    "print (\"The test error is {:.4} for SOAP\".format(test_loss_dos))"
   ]
  },
  {
   "cell_type": "markdown",
   "id": "5b606f6a",
   "metadata": {},
   "source": [
    "#### Total - 0.3 Kernel"
   ]
  },
  {
   "cell_type": "code",
   "execution_count": 377,
   "id": "709d28f8",
   "metadata": {
    "ExecuteTime": {
     "end_time": "2023-04-25T21:51:42.796357Z",
     "start_time": "2023-04-25T21:48:38.816680Z"
    }
   },
   "outputs": [
    {
     "name": "stderr",
     "output_type": "stream",
     "text": [
      "Epoch: 808:   8%|█████████                                                                                                       | 808/10000 [01:17<11:57, 12.81it/s, lowest_mse=0.0291, pred_loss=62.9, trigger=0]"
     ]
    },
    {
     "name": "stdout",
     "output_type": "stream",
     "text": [
      "The batch_size is now:  32\n"
     ]
    },
    {
     "name": "stderr",
     "output_type": "stream",
     "text": [
      "Epoch: 1615:  16%|██████████████████                                                                                              | 1615/10000 [01:59<05:25, 25.73it/s, lowest_mse=0.0235, pred_loss=48, trigger=0]"
     ]
    },
    {
     "name": "stdout",
     "output_type": "stream",
     "text": [
      "The batch_size is now:  64\n"
     ]
    },
    {
     "name": "stderr",
     "output_type": "stream",
     "text": [
      "Epoch: 2423:  24%|██████████████████████████▌                                                                                   | 2420/10000 [02:23<03:11, 39.62it/s, lowest_mse=0.0217, pred_loss=41.9, trigger=0]"
     ]
    },
    {
     "name": "stdout",
     "output_type": "stream",
     "text": [
      "The batch_size is now:  128\n"
     ]
    },
    {
     "name": "stderr",
     "output_type": "stream",
     "text": [
      "Epoch: 3231:  32%|███████████████████████████████████▍                                                                          | 3226/10000 [02:38<01:53, 59.62it/s, lowest_mse=0.0209, pred_loss=44.6, trigger=0]"
     ]
    },
    {
     "name": "stdout",
     "output_type": "stream",
     "text": [
      "The batch_size is now:  256\n"
     ]
    },
    {
     "name": "stderr",
     "output_type": "stream",
     "text": [
      "Epoch: 4040:  40%|████████████████████████████████████████████▍                                                                 | 4040/10000 [02:49<01:07, 87.70it/s, lowest_mse=0.0206, pred_loss=40.2, trigger=0]"
     ]
    },
    {
     "name": "stdout",
     "output_type": "stream",
     "text": [
      "The batch_size is now:  512\n"
     ]
    },
    {
     "name": "stderr",
     "output_type": "stream",
     "text": [
      "Epoch: 4849:  48%|████████████████████████████████████████████████████▊                                                        | 4846/10000 [02:57<00:48, 107.35it/s, lowest_mse=0.0203, pred_loss=50.4, trigger=0]"
     ]
    },
    {
     "name": "stdout",
     "output_type": "stream",
     "text": [
      "The batch_size is now:  1024\n"
     ]
    },
    {
     "name": "stderr",
     "output_type": "stream",
     "text": [
      "Epoch: 5629:  56%|█████████████████████████████████████████████████████████████▉                                                | 5629/10000 [03:03<02:22, 30.60it/s, lowest_mse=0.0202, pred_loss=37.9, trigger=0]"
     ]
    },
    {
     "name": "stdout",
     "output_type": "stream",
     "text": [
      "The batch_size is now:  2048\n",
      "Adam Unbiased\n",
      "The train error is 37.9 for KERNEL\n",
      "The test error is 39.15 for KERNEL\n"
     ]
    },
    {
     "name": "stderr",
     "output_type": "stream",
     "text": [
      "\n"
     ]
    }
   ],
   "source": [
    "A_U_weights_03, loss_dos, test_loss_dos = kernel_reg_train_Ad(total_kernel_150, total_dos3,\n",
    "                                                              total_train_index, total_test_index,\n",
    "                                                              total_kMM_150, 1e-2, 10000, 16, 1e-3)\n",
    "\n",
    "print (\"Adam Unbiased\")\n",
    "print (\"The train error is {:.4} for KERNEL\".format(loss_dos))\n",
    "print (\"The test error is {:.4} for KERNEL\".format(test_loss_dos))"
   ]
  },
  {
   "cell_type": "code",
   "execution_count": 378,
   "id": "abecfd51",
   "metadata": {
    "ExecuteTime": {
     "end_time": "2023-04-25T21:54:47.397208Z",
     "start_time": "2023-04-25T21:51:42.799228Z"
    }
   },
   "outputs": [
    {
     "name": "stderr",
     "output_type": "stream",
     "text": [
      "Epoch: 808:   8%|█████████                                                                                                       | 807/10000 [01:18<13:19, 11.50it/s, lowest_mse=0.0296, pred_loss=61.9, trigger=0]"
     ]
    },
    {
     "name": "stdout",
     "output_type": "stream",
     "text": [
      "The batch_size is now:  32\n"
     ]
    },
    {
     "name": "stderr",
     "output_type": "stream",
     "text": [
      "Epoch: 1615:  16%|█████████████████▋                                                                                            | 1613/10000 [02:01<05:51, 23.88it/s, lowest_mse=0.0238, pred_loss=48.9, trigger=0]"
     ]
    },
    {
     "name": "stdout",
     "output_type": "stream",
     "text": [
      "The batch_size is now:  64\n"
     ]
    },
    {
     "name": "stderr",
     "output_type": "stream",
     "text": [
      "Epoch: 2423:  24%|██████████████████████████▉                                                                                    | 2423/10000 [02:25<02:59, 42.11it/s, lowest_mse=0.022, pred_loss=41.3, trigger=0]"
     ]
    },
    {
     "name": "stdout",
     "output_type": "stream",
     "text": [
      "The batch_size is now:  128\n"
     ]
    },
    {
     "name": "stderr",
     "output_type": "stream",
     "text": [
      "Epoch: 3232:  32%|███████████████████████████████████▌                                                                          | 3231/10000 [02:40<01:46, 63.76it/s, lowest_mse=0.0213, pred_loss=42.6, trigger=0]"
     ]
    },
    {
     "name": "stdout",
     "output_type": "stream",
     "text": [
      "The batch_size is now:  256\n"
     ]
    },
    {
     "name": "stderr",
     "output_type": "stream",
     "text": [
      "Epoch: 4040:  40%|████████████████████████████████████████████▊                                                                  | 4035/10000 [02:50<01:09, 85.98it/s, lowest_mse=0.021, pred_loss=40.9, trigger=0]"
     ]
    },
    {
     "name": "stdout",
     "output_type": "stream",
     "text": [
      "The batch_size is now:  512\n"
     ]
    },
    {
     "name": "stderr",
     "output_type": "stream",
     "text": [
      "Epoch: 4851:  48%|████████████████████████████████████████████████████▊                                                        | 4850/10000 [02:58<00:43, 117.32it/s, lowest_mse=0.0207, pred_loss=47.3, trigger=0]"
     ]
    },
    {
     "name": "stdout",
     "output_type": "stream",
     "text": [
      "The batch_size is now:  1024\n"
     ]
    },
    {
     "name": "stderr",
     "output_type": "stream",
     "text": [
      "Epoch: 5629:  56%|█████████████████████████████████████████████████████████████▉                                                | 5629/10000 [03:04<02:23, 30.50it/s, lowest_mse=0.0206, pred_loss=36.6, trigger=0]"
     ]
    },
    {
     "name": "stdout",
     "output_type": "stream",
     "text": [
      "The batch_size is now:  2048\n",
      "Adam Biased\n",
      "The train error is 36.64 for KERNEL\n",
      "The test error is 46.88 for KERNEL\n"
     ]
    },
    {
     "name": "stderr",
     "output_type": "stream",
     "text": [
      "\n"
     ]
    }
   ],
   "source": [
    "A_U_weights_03, loss_dos, test_loss_dos = kernel_reg_train_Ad(total_kernel_150, total_dos3,\n",
    "                                                              total_biased_train_index, total_biased_test_index,\n",
    "                                                              total_kMM_150, 1e-2, 10000, 16, 1e-3)\n",
    "\n",
    "print (\"Adam Biased\")\n",
    "print (\"The train error is {:.4} for KERNEL\".format(loss_dos))\n",
    "print (\"The test error is {:.4} for KERNEL\".format(test_loss_dos))"
   ]
  },
  {
   "cell_type": "code",
   "execution_count": 379,
   "id": "4fb62de8",
   "metadata": {
    "ExecuteTime": {
     "end_time": "2023-04-25T21:57:36.732310Z",
     "start_time": "2023-04-25T21:54:47.399475Z"
    }
   },
   "outputs": [
    {
     "name": "stderr",
     "output_type": "stream",
     "text": [
      "Epoch: 809:   8%|█████████                                                                                                       | 809/10000 [01:13<10:55, 14.02it/s, lowest_mse=0.0285, pred_loss=50.3, trigger=0]"
     ]
    },
    {
     "name": "stdout",
     "output_type": "stream",
     "text": [
      "The batch_size is now:  32\n"
     ]
    },
    {
     "name": "stderr",
     "output_type": "stream",
     "text": [
      "Epoch: 1616:  16%|█████████████████▊                                                                                            | 1614/10000 [01:53<05:35, 24.97it/s, lowest_mse=0.0226, pred_loss=43.7, trigger=0]"
     ]
    },
    {
     "name": "stdout",
     "output_type": "stream",
     "text": [
      "The batch_size is now:  64\n"
     ]
    },
    {
     "name": "stderr",
     "output_type": "stream",
     "text": [
      "Epoch: 2425:  24%|███████████████████████████                                                                                     | 2421/10000 [02:15<02:48, 44.97it/s, lowest_mse=0.0205, pred_loss=41, trigger=0]"
     ]
    },
    {
     "name": "stdout",
     "output_type": "stream",
     "text": [
      "The batch_size is now:  128\n"
     ]
    },
    {
     "name": "stderr",
     "output_type": "stream",
     "text": [
      "Epoch: 3235:  32%|███████████████████████████████████▌                                                                          | 3229/10000 [02:28<01:34, 71.76it/s, lowest_mse=0.0196, pred_loss=40.2, trigger=0]"
     ]
    },
    {
     "name": "stdout",
     "output_type": "stream",
     "text": [
      "The batch_size is now:  256\n"
     ]
    },
    {
     "name": "stderr",
     "output_type": "stream",
     "text": [
      "Epoch: 4043:  40%|████████████████████████████████████████████                                                                 | 4042/10000 [02:37<00:58, 101.44it/s, lowest_mse=0.0191, pred_loss=37.9, trigger=0]"
     ]
    },
    {
     "name": "stdout",
     "output_type": "stream",
     "text": [
      "The batch_size is now:  512\n"
     ]
    },
    {
     "name": "stderr",
     "output_type": "stream",
     "text": [
      "Epoch: 4852:  48%|████████████████████████████████████████████████████▊                                                        | 4850/10000 [02:44<00:40, 125.66it/s, lowest_mse=0.0188, pred_loss=39.8, trigger=0]"
     ]
    },
    {
     "name": "stdout",
     "output_type": "stream",
     "text": [
      "The batch_size is now:  1024\n"
     ]
    },
    {
     "name": "stderr",
     "output_type": "stream",
     "text": [
      "Epoch: 5629:  56%|█████████████████████████████████████████████████████████████▉                                                | 5629/10000 [02:49<02:11, 33.25it/s, lowest_mse=0.0185, pred_loss=36.7, trigger=0]\n"
     ]
    },
    {
     "name": "stdout",
     "output_type": "stream",
     "text": [
      "The batch_size is now:  2048\n",
      "Adam holdout\n",
      "The train error is 36.69 for KERNEL\n",
      "The test error is 45.29 for KERNEL\n"
     ]
    }
   ],
   "source": [
    "A_U_weights_03, loss_dos, test_loss_dos = kernel_reg_train_Ad(total_kernel_100, total_dos3,\n",
    "                                                              holdout_train_index, holdout_test_index,\n",
    "                                                              total_kMM_100, 1e-2, 10000, 16, 1e-3)\n",
    "\n",
    "print (\"Adam holdout\")\n",
    "print (\"The train error is {:.4} for KERNEL\".format(loss_dos))\n",
    "print (\"The test error is {:.4} for KERNEL\".format(test_loss_dos))"
   ]
  },
  {
   "cell_type": "markdown",
   "id": "64c410c7",
   "metadata": {},
   "source": [
    "#### Total - 0.1 Kernel "
   ]
  },
  {
   "cell_type": "code",
   "execution_count": 380,
   "id": "e62a3665",
   "metadata": {
    "ExecuteTime": {
     "end_time": "2023-04-25T22:00:40.442140Z",
     "start_time": "2023-04-25T21:57:36.734582Z"
    }
   },
   "outputs": [
    {
     "name": "stderr",
     "output_type": "stream",
     "text": [
      "Epoch: 808:   8%|█████████                                                                                                       | 808/10000 [01:17<11:55, 12.85it/s, lowest_mse=0.0581, pred_loss=67.5, trigger=0]"
     ]
    },
    {
     "name": "stdout",
     "output_type": "stream",
     "text": [
      "The batch_size is now:  32\n"
     ]
    },
    {
     "name": "stderr",
     "output_type": "stream",
     "text": [
      "Epoch: 1615:  16%|█████████████████▊                                                                                            | 1615/10000 [02:00<05:33, 25.14it/s, lowest_mse=0.0516, pred_loss=59.1, trigger=0]"
     ]
    },
    {
     "name": "stdout",
     "output_type": "stream",
     "text": [
      "The batch_size is now:  64\n"
     ]
    },
    {
     "name": "stderr",
     "output_type": "stream",
     "text": [
      "Epoch: 2424:  24%|██████████████████████████▋                                                                                   | 2422/10000 [02:24<03:07, 40.34it/s, lowest_mse=0.0491, pred_loss=55.8, trigger=0]"
     ]
    },
    {
     "name": "stdout",
     "output_type": "stream",
     "text": [
      "The batch_size is now:  128\n"
     ]
    },
    {
     "name": "stderr",
     "output_type": "stream",
     "text": [
      "Epoch: 3233:  32%|███████████████████████████████████▌                                                                          | 3230/10000 [02:39<01:39, 68.25it/s, lowest_mse=0.0478, pred_loss=53.7, trigger=0]"
     ]
    },
    {
     "name": "stdout",
     "output_type": "stream",
     "text": [
      "The batch_size is now:  256\n"
     ]
    },
    {
     "name": "stderr",
     "output_type": "stream",
     "text": [
      "Epoch: 4040:  40%|████████████████████████████████████████████▎                                                                 | 4033/10000 [02:48<01:09, 86.12it/s, lowest_mse=0.0472, pred_loss=53.6, trigger=0]"
     ]
    },
    {
     "name": "stdout",
     "output_type": "stream",
     "text": [
      "The batch_size is now:  512\n"
     ]
    },
    {
     "name": "stderr",
     "output_type": "stream",
     "text": [
      "Epoch: 4851:  48%|████████████████████████████████████████████████████▋                                                        | 4838/10000 [02:57<00:46, 110.47it/s, lowest_mse=0.0468, pred_loss=55.4, trigger=0]"
     ]
    },
    {
     "name": "stdout",
     "output_type": "stream",
     "text": [
      "The batch_size is now:  1024\n"
     ]
    },
    {
     "name": "stderr",
     "output_type": "stream",
     "text": [
      "Epoch: 5629:  56%|█████████████████████████████████████████████████████████████▉                                                | 5629/10000 [03:03<02:22, 30.65it/s, lowest_mse=0.0464, pred_loss=50.3, trigger=0]\n"
     ]
    },
    {
     "name": "stdout",
     "output_type": "stream",
     "text": [
      "The batch_size is now:  2048\n",
      "Adam Unbiased\n",
      "The train error is 50.32 for KERNEL\n",
      "The test error is 51.39 for KERNEL\n"
     ]
    }
   ],
   "source": [
    "A_U_weights_03, loss_dos, test_loss_dos = kernel_reg_train_Ad(total_kernel_150, total_dos1,\n",
    "                                                              total_train_index, total_test_index,\n",
    "                                                              total_kMM_150, 1e-1, 10000, 16, 1e-3)\n",
    "\n",
    "print (\"Adam Unbiased\")\n",
    "print (\"The train error is {:.4} for KERNEL\".format(loss_dos))\n",
    "print (\"The test error is {:.4} for KERNEL\".format(test_loss_dos))"
   ]
  },
  {
   "cell_type": "code",
   "execution_count": 381,
   "id": "95f390be",
   "metadata": {
    "ExecuteTime": {
     "end_time": "2023-04-25T22:03:42.349877Z",
     "start_time": "2023-04-25T22:00:40.444300Z"
    }
   },
   "outputs": [
    {
     "name": "stderr",
     "output_type": "stream",
     "text": [
      "Epoch: 808:   8%|█████████                                                                                                       | 808/10000 [01:18<11:56, 12.83it/s, lowest_mse=0.0612, pred_loss=70.6, trigger=0]"
     ]
    },
    {
     "name": "stdout",
     "output_type": "stream",
     "text": [
      "The batch_size is now:  32\n"
     ]
    },
    {
     "name": "stderr",
     "output_type": "stream",
     "text": [
      "Epoch: 1615:  16%|█████████████████▊                                                                                            | 1615/10000 [02:01<05:26, 25.69it/s, lowest_mse=0.0539, pred_loss=56.7, trigger=0]"
     ]
    },
    {
     "name": "stdout",
     "output_type": "stream",
     "text": [
      "The batch_size is now:  64\n"
     ]
    },
    {
     "name": "stderr",
     "output_type": "stream",
     "text": [
      "Epoch: 2424:  24%|██████████████████████████▋                                                                                   | 2422/10000 [02:24<02:56, 42.90it/s, lowest_mse=0.0511, pred_loss=54.2, trigger=0]"
     ]
    },
    {
     "name": "stdout",
     "output_type": "stream",
     "text": [
      "The batch_size is now:  128\n"
     ]
    },
    {
     "name": "stderr",
     "output_type": "stream",
     "text": [
      "Epoch: 3233:  32%|███████████████████████████████████▌                                                                          | 3230/10000 [02:38<01:39, 67.71it/s, lowest_mse=0.0498, pred_loss=52.3, trigger=0]"
     ]
    },
    {
     "name": "stdout",
     "output_type": "stream",
     "text": [
      "The batch_size is now:  256\n"
     ]
    },
    {
     "name": "stderr",
     "output_type": "stream",
     "text": [
      "Epoch: 4041:  40%|████████████████████████████████████████████▎                                                                 | 4033/10000 [02:48<01:05, 90.82it/s, lowest_mse=0.0491, pred_loss=53.4, trigger=0]"
     ]
    },
    {
     "name": "stdout",
     "output_type": "stream",
     "text": [
      "The batch_size is now:  512\n"
     ]
    },
    {
     "name": "stderr",
     "output_type": "stream",
     "text": [
      "Epoch: 4852:  48%|████████████████████████████████████████████████████▋                                                        | 4839/10000 [02:56<00:45, 113.02it/s, lowest_mse=0.0487, pred_loss=54.1, trigger=0]"
     ]
    },
    {
     "name": "stdout",
     "output_type": "stream",
     "text": [
      "The batch_size is now:  1024\n"
     ]
    },
    {
     "name": "stderr",
     "output_type": "stream",
     "text": [
      "Epoch: 5629:  56%|█████████████████████████████████████████████████████████████▉                                                | 5629/10000 [03:01<02:21, 30.95it/s, lowest_mse=0.0483, pred_loss=49.2, trigger=0]\n"
     ]
    },
    {
     "name": "stdout",
     "output_type": "stream",
     "text": [
      "The batch_size is now:  2048\n",
      "Adam Biased\n",
      "The train error is 49.23 for KERNEL\n",
      "The test error is 58.51 for KERNEL\n"
     ]
    }
   ],
   "source": [
    "A_U_weights_03, loss_dos, test_loss_dos = kernel_reg_train_Ad(total_kernel_150, total_dos1,\n",
    "                                                              total_biased_train_index, total_biased_test_index,\n",
    "                                                              total_kMM_150, 1e-1, 10000, 16, 1e-3)\n",
    "\n",
    "print (\"Adam Biased\")\n",
    "print (\"The train error is {:.4} for KERNEL\".format(loss_dos))\n",
    "print (\"The test error is {:.4} for KERNEL\".format(test_loss_dos))"
   ]
  },
  {
   "cell_type": "code",
   "execution_count": 382,
   "id": "fd57589e",
   "metadata": {
    "ExecuteTime": {
     "end_time": "2023-04-25T22:06:33.753194Z",
     "start_time": "2023-04-25T22:03:42.351501Z"
    }
   },
   "outputs": [
    {
     "name": "stderr",
     "output_type": "stream",
     "text": [
      "Epoch: 809:   8%|█████████                                                                                                       | 809/10000 [01:14<10:56, 14.00it/s, lowest_mse=0.0588, pred_loss=59.5, trigger=0]"
     ]
    },
    {
     "name": "stdout",
     "output_type": "stream",
     "text": [
      "The batch_size is now:  32\n"
     ]
    },
    {
     "name": "stderr",
     "output_type": "stream",
     "text": [
      "Epoch: 1616:  16%|█████████████████▊                                                                                            | 1615/10000 [01:54<05:24, 25.80it/s, lowest_mse=0.0518, pred_loss=56.9, trigger=0]"
     ]
    },
    {
     "name": "stdout",
     "output_type": "stream",
     "text": [
      "The batch_size is now:  64\n"
     ]
    },
    {
     "name": "stderr",
     "output_type": "stream",
     "text": [
      "Epoch: 2425:  24%|██████████████████████████▋                                                                                   | 2423/10000 [02:16<02:41, 46.89it/s, lowest_mse=0.0489, pred_loss=54.9, trigger=0]"
     ]
    },
    {
     "name": "stdout",
     "output_type": "stream",
     "text": [
      "The batch_size is now:  128\n"
     ]
    },
    {
     "name": "stderr",
     "output_type": "stream",
     "text": [
      "Epoch: 3234:  32%|████████████████████████████████████▏                                                                           | 3232/10000 [02:29<01:33, 72.03it/s, lowest_mse=0.0475, pred_loss=53, trigger=0]"
     ]
    },
    {
     "name": "stdout",
     "output_type": "stream",
     "text": [
      "The batch_size is now:  256\n"
     ]
    },
    {
     "name": "stderr",
     "output_type": "stream",
     "text": [
      "Epoch: 4041:  40%|████████████████████████████████████████████▍                                                                 | 4035/10000 [02:38<01:04, 92.80it/s, lowest_mse=0.0467, pred_loss=52.1, trigger=0]"
     ]
    },
    {
     "name": "stdout",
     "output_type": "stream",
     "text": [
      "The batch_size is now:  512\n"
     ]
    },
    {
     "name": "stderr",
     "output_type": "stream",
     "text": [
      "Epoch: 4855:  49%|████████████████████████████████████████████████████▉                                                        | 4851/10000 [02:46<00:39, 128.99it/s, lowest_mse=0.0461, pred_loss=51.6, trigger=0]"
     ]
    },
    {
     "name": "stdout",
     "output_type": "stream",
     "text": [
      "The batch_size is now:  1024\n"
     ]
    },
    {
     "name": "stderr",
     "output_type": "stream",
     "text": [
      "Epoch: 5629:  56%|█████████████████████████████████████████████████████████████▉                                                | 5629/10000 [02:51<02:13, 32.84it/s, lowest_mse=0.0457, pred_loss=50.2, trigger=0]\n"
     ]
    },
    {
     "name": "stdout",
     "output_type": "stream",
     "text": [
      "The batch_size is now:  2048\n",
      "Adam holdout\n",
      "The train error is 50.2 for KERNEL\n",
      "The test error is 55.09 for KERNEL\n"
     ]
    }
   ],
   "source": [
    "A_U_weights_03, loss_dos, test_loss_dos = kernel_reg_train_Ad(total_kernel_100, total_dos1,\n",
    "                                                              holdout_train_index, holdout_test_index,\n",
    "                                                              total_kMM_100, 1e-2, 10000, 16, 1e-3)\n",
    "\n",
    "print (\"Adam holdout\")\n",
    "print (\"The train error is {:.4} for KERNEL\".format(loss_dos))\n",
    "print (\"The test error is {:.4} for KERNEL\".format(test_loss_dos))"
   ]
  },
  {
   "cell_type": "markdown",
   "id": "1d97d3cb",
   "metadata": {},
   "source": [
    "### Total Aligned"
   ]
  },
  {
   "cell_type": "markdown",
   "id": "d5a8b598",
   "metadata": {},
   "source": [
    "#### Total Aligned - 0.3 Soap\n"
   ]
  },
  {
   "cell_type": "code",
   "execution_count": 383,
   "id": "15a07851",
   "metadata": {
    "ExecuteTime": {
     "end_time": "2023-04-25T22:12:47.661783Z",
     "start_time": "2023-04-25T22:06:33.754804Z"
    }
   },
   "outputs": [
    {
     "name": "stderr",
     "output_type": "stream",
     "text": [
      "Epoch: 1005:  10%|██████████▉                                                                                                  | 1005/10000 [02:45<19:02,  7.87it/s, lowest_mse=0.00853, pred_loss=26.2, trigger=0]"
     ]
    },
    {
     "name": "stdout",
     "output_type": "stream",
     "text": [
      "The batch_size is now:  32\n"
     ]
    },
    {
     "name": "stderr",
     "output_type": "stream",
     "text": [
      "Epoch: 2009:  20%|█████████████████████▉                                                                                       | 2009/10000 [04:13<08:54, 14.95it/s, lowest_mse=0.00752, pred_loss=24.1, trigger=0]"
     ]
    },
    {
     "name": "stdout",
     "output_type": "stream",
     "text": [
      "The batch_size is now:  64\n"
     ]
    },
    {
     "name": "stderr",
     "output_type": "stream",
     "text": [
      "Epoch: 3013:  30%|█████████████████████████████████▍                                                                             | 3011/10000 [05:01<04:49, 24.15it/s, lowest_mse=0.007, pred_loss=23.1, trigger=0]"
     ]
    },
    {
     "name": "stdout",
     "output_type": "stream",
     "text": [
      "The batch_size is now:  128\n"
     ]
    },
    {
     "name": "stderr",
     "output_type": "stream",
     "text": [
      "Epoch: 4018:  40%|███████████████████████████████████████████▊                                                                 | 4017/10000 [05:31<02:26, 40.84it/s, lowest_mse=0.00668, pred_loss=22.6, trigger=0]"
     ]
    },
    {
     "name": "stdout",
     "output_type": "stream",
     "text": [
      "The batch_size is now:  256\n"
     ]
    },
    {
     "name": "stderr",
     "output_type": "stream",
     "text": [
      "Epoch: 5024:  50%|███████████████████████████████████████████████████████▋                                                       | 5021/10000 [05:49<01:21, 60.82it/s, lowest_mse=0.00646, pred_loss=23, trigger=0]"
     ]
    },
    {
     "name": "stdout",
     "output_type": "stream",
     "text": [
      "The batch_size is now:  512\n"
     ]
    },
    {
     "name": "stderr",
     "output_type": "stream",
     "text": [
      "Epoch: 6032:  60%|█████████████████████████████████████████████████████████████████▋                                           | 6031/10000 [06:03<00:47, 83.35it/s, lowest_mse=0.00631, pred_loss=21.7, trigger=0]"
     ]
    },
    {
     "name": "stdout",
     "output_type": "stream",
     "text": [
      "The batch_size is now:  1024\n"
     ]
    },
    {
     "name": "stderr",
     "output_type": "stream",
     "text": [
      "Epoch: 7015:  70%|████████████████████████████████████████████████████████████████████████████▍                                | 7015/10000 [06:13<02:39, 18.76it/s, lowest_mse=0.00619, pred_loss=21.4, trigger=0]\n"
     ]
    },
    {
     "name": "stdout",
     "output_type": "stream",
     "text": [
      "The batch_size is now:  2048\n",
      "Adam Unbiased\n",
      "The train error is 21.37 for SOAP\n",
      "The test error is 23.7 for SOAP\n"
     ]
    }
   ],
   "source": [
    "weights, loss_dos, test_loss_dos = normal_reg_train_Ad(total_soap, total_aligned_dos3,\n",
    "                                                       total_train_index, total_test_index,\n",
    "                                                       1e-2, 10000, 16, 1e-3)\n",
    "print (\"Adam Unbiased\")\n",
    "print (\"The train error is {:.4} for SOAP\".format(loss_dos))\n",
    "print (\"The test error is {:.4} for SOAP\".format(test_loss_dos))"
   ]
  },
  {
   "cell_type": "code",
   "execution_count": 384,
   "id": "64c5bbc5",
   "metadata": {
    "ExecuteTime": {
     "end_time": "2023-04-25T22:19:00.511031Z",
     "start_time": "2023-04-25T22:12:47.664020Z"
    }
   },
   "outputs": [
    {
     "name": "stderr",
     "output_type": "stream",
     "text": [
      "Epoch: 1005:  10%|██████████▉                                                                                                  | 1005/10000 [02:43<19:08,  7.83it/s, lowest_mse=0.00865, pred_loss=25.3, trigger=0]"
     ]
    },
    {
     "name": "stdout",
     "output_type": "stream",
     "text": [
      "The batch_size is now:  32\n"
     ]
    },
    {
     "name": "stderr",
     "output_type": "stream",
     "text": [
      "Epoch: 2009:  20%|██████████████████████                                                                                        | 2008/10000 [04:11<09:28, 14.07it/s, lowest_mse=0.0076, pred_loss=23.3, trigger=0]"
     ]
    },
    {
     "name": "stdout",
     "output_type": "stream",
     "text": [
      "The batch_size is now:  64\n"
     ]
    },
    {
     "name": "stderr",
     "output_type": "stream",
     "text": [
      "Epoch: 3014:  30%|████████████████████████████████▊                                                                            | 3011/10000 [05:00<04:39, 25.01it/s, lowest_mse=0.00706, pred_loss=22.1, trigger=0]"
     ]
    },
    {
     "name": "stdout",
     "output_type": "stream",
     "text": [
      "The batch_size is now:  128\n"
     ]
    },
    {
     "name": "stderr",
     "output_type": "stream",
     "text": [
      "Epoch: 4020:  40%|███████████████████████████████████████████▊                                                                 | 4018/10000 [05:28<02:11, 45.54it/s, lowest_mse=0.00673, pred_loss=21.6, trigger=0]"
     ]
    },
    {
     "name": "stdout",
     "output_type": "stream",
     "text": [
      "The batch_size is now:  256\n"
     ]
    },
    {
     "name": "stderr",
     "output_type": "stream",
     "text": [
      "Epoch: 5024:  50%|██████████████████████████████████████████████████████▋                                                      | 5022/10000 [05:45<01:21, 61.24it/s, lowest_mse=0.00651, pred_loss=21.6, trigger=0]"
     ]
    },
    {
     "name": "stdout",
     "output_type": "stream",
     "text": [
      "The batch_size is now:  512\n"
     ]
    },
    {
     "name": "stderr",
     "output_type": "stream",
     "text": [
      "Epoch: 6029:  60%|█████████████████████████████████████████████████████████████████▋                                           | 6026/10000 [06:00<00:57, 69.16it/s, lowest_mse=0.00636, pred_loss=20.9, trigger=0]"
     ]
    },
    {
     "name": "stdout",
     "output_type": "stream",
     "text": [
      "The batch_size is now:  1024\n"
     ]
    },
    {
     "name": "stderr",
     "output_type": "stream",
     "text": [
      "Epoch: 7015:  70%|████████████████████████████████████████████████████████████████████████████▍                                | 7015/10000 [06:12<02:38, 18.82it/s, lowest_mse=0.00624, pred_loss=20.5, trigger=0]"
     ]
    },
    {
     "name": "stdout",
     "output_type": "stream",
     "text": [
      "The batch_size is now:  2048\n",
      "Adam Biased\n",
      "The train error is 20.51 for SOAP\n",
      "The test error is 29.5 for SOAP\n"
     ]
    },
    {
     "name": "stderr",
     "output_type": "stream",
     "text": [
      "\n"
     ]
    }
   ],
   "source": [
    "weights, loss_dos, test_loss_dos = normal_reg_train_Ad(total_soap, total_aligned_dos3,\n",
    "                                                       total_biased_train_index, total_biased_test_index,\n",
    "                                                       1e-2, 10000, 16, 1e-3)\n",
    "print (\"Adam Biased\")\n",
    "print (\"The train error is {:.4} for SOAP\".format(loss_dos))\n",
    "print (\"The test error is {:.4} for SOAP\".format(test_loss_dos))"
   ]
  },
  {
   "cell_type": "code",
   "execution_count": 385,
   "id": "09aa7820",
   "metadata": {
    "ExecuteTime": {
     "end_time": "2023-04-25T22:25:19.878712Z",
     "start_time": "2023-04-25T22:19:00.514048Z"
    }
   },
   "outputs": [
    {
     "name": "stderr",
     "output_type": "stream",
     "text": [
      "Epoch: 1005:  10%|██████████▉                                                                                                  | 1005/10000 [02:46<19:17,  7.77it/s, lowest_mse=0.00729, pred_loss=24.6, trigger=0]"
     ]
    },
    {
     "name": "stdout",
     "output_type": "stream",
     "text": [
      "The batch_size is now:  32\n"
     ]
    },
    {
     "name": "stderr",
     "output_type": "stream",
     "text": [
      "Epoch: 2009:  20%|█████████████████████▉                                                                                       | 2008/10000 [04:13<09:27, 14.09it/s, lowest_mse=0.00635, pred_loss=22.5, trigger=0]"
     ]
    },
    {
     "name": "stdout",
     "output_type": "stream",
     "text": [
      "The batch_size is now:  64\n"
     ]
    },
    {
     "name": "stderr",
     "output_type": "stream",
     "text": [
      "Epoch: 3014:  30%|████████████████████████████████▊                                                                            | 3011/10000 [05:02<04:41, 24.86it/s, lowest_mse=0.00587, pred_loss=21.3, trigger=0]"
     ]
    },
    {
     "name": "stdout",
     "output_type": "stream",
     "text": [
      "The batch_size is now:  128\n"
     ]
    },
    {
     "name": "stderr",
     "output_type": "stream",
     "text": [
      "Epoch: 4020:  40%|███████████████████████████████████████████▊                                                                 | 4016/10000 [05:33<02:18, 43.24it/s, lowest_mse=0.00558, pred_loss=20.6, trigger=0]"
     ]
    },
    {
     "name": "stdout",
     "output_type": "stream",
     "text": [
      "The batch_size is now:  256\n"
     ]
    },
    {
     "name": "stderr",
     "output_type": "stream",
     "text": [
      "Epoch: 5025:  50%|██████████████████████████████████████████████████████▋                                                      | 5020/10000 [05:51<01:19, 62.96it/s, lowest_mse=0.00538, pred_loss=20.9, trigger=0]"
     ]
    },
    {
     "name": "stdout",
     "output_type": "stream",
     "text": [
      "The batch_size is now:  512\n"
     ]
    },
    {
     "name": "stderr",
     "output_type": "stream",
     "text": [
      "Epoch: 6032:  60%|█████████████████████████████████████████████████████████████████▋                                           | 6029/10000 [06:07<00:50, 79.35it/s, lowest_mse=0.00525, pred_loss=19.9, trigger=0]"
     ]
    },
    {
     "name": "stdout",
     "output_type": "stream",
     "text": [
      "The batch_size is now:  1024\n"
     ]
    },
    {
     "name": "stderr",
     "output_type": "stream",
     "text": [
      "Epoch: 7015:  70%|████████████████████████████████████████████████████████████████████████████▍                                | 7015/10000 [06:19<02:41, 18.49it/s, lowest_mse=0.00515, pred_loss=19.6, trigger=0]"
     ]
    },
    {
     "name": "stdout",
     "output_type": "stream",
     "text": [
      "The batch_size is now:  2048\n",
      "Adam Holdout\n",
      "The train error is 19.6 for SOAP\n",
      "The test error is 31.79 for SOAP\n"
     ]
    },
    {
     "name": "stderr",
     "output_type": "stream",
     "text": [
      "\n"
     ]
    }
   ],
   "source": [
    "weights, loss_dos, test_loss_dos = normal_reg_train_Ad(total_soap, total_aligned_dos3,\n",
    "                                                       holdout_train_index, holdout_test_index,\n",
    "                                                       1e-2, 10000, 16, 1e-3)\n",
    "print (\"Adam Holdout\")\n",
    "print (\"The train error is {:.4} for SOAP\".format(loss_dos))\n",
    "print (\"The test error is {:.4} for SOAP\".format(test_loss_dos))"
   ]
  },
  {
   "cell_type": "markdown",
   "id": "eca4aa9d",
   "metadata": {},
   "source": [
    "#### Total Aligned - 0.1 Soap"
   ]
  },
  {
   "cell_type": "code",
   "execution_count": 386,
   "id": "56cfc37a",
   "metadata": {
    "ExecuteTime": {
     "end_time": "2023-04-25T22:31:30.688427Z",
     "start_time": "2023-04-25T22:25:19.881816Z"
    }
   },
   "outputs": [
    {
     "name": "stderr",
     "output_type": "stream",
     "text": [
      "Epoch: 1005:  10%|███████████                                                                                                   | 1005/10000 [02:44<19:02,  7.88it/s, lowest_mse=0.0286, pred_loss=40.7, trigger=0]"
     ]
    },
    {
     "name": "stdout",
     "output_type": "stream",
     "text": [
      "The batch_size is now:  32\n"
     ]
    },
    {
     "name": "stderr",
     "output_type": "stream",
     "text": [
      "Epoch: 2009:  20%|██████████████████████                                                                                        | 2008/10000 [04:10<09:27, 14.09it/s, lowest_mse=0.0266, pred_loss=39.2, trigger=0]"
     ]
    },
    {
     "name": "stdout",
     "output_type": "stream",
     "text": [
      "The batch_size is now:  64\n"
     ]
    },
    {
     "name": "stderr",
     "output_type": "stream",
     "text": [
      "Epoch: 3014:  30%|█████████████████████████████████                                                                             | 3011/10000 [04:58<04:45, 24.46it/s, lowest_mse=0.0256, pred_loss=38.2, trigger=0]"
     ]
    },
    {
     "name": "stdout",
     "output_type": "stream",
     "text": [
      "The batch_size is now:  128\n"
     ]
    },
    {
     "name": "stderr",
     "output_type": "stream",
     "text": [
      "Epoch: 4020:  40%|████████████████████████████████████████████▏                                                                 | 4018/10000 [05:28<02:16, 43.84it/s, lowest_mse=0.0249, pred_loss=37.5, trigger=0]"
     ]
    },
    {
     "name": "stdout",
     "output_type": "stream",
     "text": [
      "The batch_size is now:  256\n"
     ]
    },
    {
     "name": "stderr",
     "output_type": "stream",
     "text": [
      "Epoch: 5024:  50%|███████████████████████████████████████████████████████▏                                                      | 5021/10000 [05:45<01:19, 62.63it/s, lowest_mse=0.0245, pred_loss=37.3, trigger=0]"
     ]
    },
    {
     "name": "stdout",
     "output_type": "stream",
     "text": [
      "The batch_size is now:  512\n"
     ]
    },
    {
     "name": "stderr",
     "output_type": "stream",
     "text": [
      "Epoch: 6032:  60%|██████████████████████████████████████████████████████████████████▎                                           | 6023/10000 [05:59<00:50, 79.39it/s, lowest_mse=0.0242, pred_loss=36.9, trigger=0]"
     ]
    },
    {
     "name": "stdout",
     "output_type": "stream",
     "text": [
      "The batch_size is now:  1024\n"
     ]
    },
    {
     "name": "stderr",
     "output_type": "stream",
     "text": [
      "Epoch: 7015:  70%|█████████████████████████████████████████████████████████████████████████████▊                                 | 7015/10000 [06:10<02:37, 18.92it/s, lowest_mse=0.024, pred_loss=36.6, trigger=0]"
     ]
    },
    {
     "name": "stdout",
     "output_type": "stream",
     "text": [
      "The batch_size is now:  2048\n",
      "Adam Unbiased\n",
      "The train error is 36.64 for SOAP\n",
      "The test error is 38.75 for SOAP\n"
     ]
    },
    {
     "name": "stderr",
     "output_type": "stream",
     "text": [
      "\n"
     ]
    }
   ],
   "source": [
    "weights, loss_dos, test_loss_dos = normal_reg_train_Ad(total_soap, total_aligned_dos1,\n",
    "                                                       total_train_index, total_test_index,\n",
    "                                                       1e-2, 10000, 16, 1e-3)\n",
    "print (\"Adam Unbiased\")\n",
    "print (\"The train error is {:.4} for SOAP\".format(loss_dos))\n",
    "print (\"The test error is {:.4} for SOAP\".format(test_loss_dos))"
   ]
  },
  {
   "cell_type": "code",
   "execution_count": 387,
   "id": "f88a7a07",
   "metadata": {
    "ExecuteTime": {
     "end_time": "2023-04-25T22:37:41.821946Z",
     "start_time": "2023-04-25T22:31:30.690601Z"
    }
   },
   "outputs": [
    {
     "name": "stderr",
     "output_type": "stream",
     "text": [
      "Epoch: 1005:  10%|███████████                                                                                                   | 1005/10000 [02:44<19:07,  7.84it/s, lowest_mse=0.0297, pred_loss=39.9, trigger=0]"
     ]
    },
    {
     "name": "stdout",
     "output_type": "stream",
     "text": [
      "The batch_size is now:  32\n"
     ]
    },
    {
     "name": "stderr",
     "output_type": "stream",
     "text": [
      "Epoch: 2009:  20%|██████████████████████                                                                                        | 2008/10000 [04:10<09:23, 14.18it/s, lowest_mse=0.0276, pred_loss=38.2, trigger=0]"
     ]
    },
    {
     "name": "stdout",
     "output_type": "stream",
     "text": [
      "The batch_size is now:  64\n"
     ]
    },
    {
     "name": "stderr",
     "output_type": "stream",
     "text": [
      "Epoch: 3013:  30%|█████████████████████████████████                                                                             | 3011/10000 [04:59<04:40, 24.95it/s, lowest_mse=0.0266, pred_loss=37.2, trigger=0]"
     ]
    },
    {
     "name": "stdout",
     "output_type": "stream",
     "text": [
      "The batch_size is now:  128\n"
     ]
    },
    {
     "name": "stderr",
     "output_type": "stream",
     "text": [
      "Epoch: 4020:  40%|████████████████████████████████████████████▏                                                                 | 4015/10000 [05:28<02:22, 42.04it/s, lowest_mse=0.0259, pred_loss=36.6, trigger=0]"
     ]
    },
    {
     "name": "stdout",
     "output_type": "stream",
     "text": [
      "The batch_size is now:  256\n"
     ]
    },
    {
     "name": "stderr",
     "output_type": "stream",
     "text": [
      "Epoch: 5024:  50%|███████████████████████████████████████████████████████▏                                                      | 5018/10000 [05:45<01:22, 60.50it/s, lowest_mse=0.0254, pred_loss=36.4, trigger=0]"
     ]
    },
    {
     "name": "stdout",
     "output_type": "stream",
     "text": [
      "The batch_size is now:  512\n"
     ]
    },
    {
     "name": "stderr",
     "output_type": "stream",
     "text": [
      "Epoch: 6031:  60%|███████████████████████████████████████████████████████████████████▍                                            | 6024/10000 [06:00<00:51, 77.02it/s, lowest_mse=0.0251, pred_loss=36, trigger=0]"
     ]
    },
    {
     "name": "stdout",
     "output_type": "stream",
     "text": [
      "The batch_size is now:  1024\n"
     ]
    },
    {
     "name": "stderr",
     "output_type": "stream",
     "text": [
      "Epoch: 7015:  70%|█████████████████████████████████████████████████████████████████████████████▏                                | 7015/10000 [06:11<02:37, 18.90it/s, lowest_mse=0.0249, pred_loss=35.8, trigger=0]\n"
     ]
    },
    {
     "name": "stdout",
     "output_type": "stream",
     "text": [
      "The batch_size is now:  2048\n",
      "Adam Biased\n",
      "The train error is 35.78 for SOAP\n",
      "The test error is 44.7 for SOAP\n"
     ]
    }
   ],
   "source": [
    "weights, loss_dos, test_loss_dos = normal_reg_train_Ad(total_soap, total_aligned_dos1,\n",
    "                                                       total_biased_train_index, total_biased_test_index,\n",
    "                                                       1e-2, 10000, 16, 1e-3)\n",
    "print (\"Adam Biased\")\n",
    "print (\"The train error is {:.4} for SOAP\".format(loss_dos))\n",
    "print (\"The test error is {:.4} for SOAP\".format(test_loss_dos))"
   ]
  },
  {
   "cell_type": "code",
   "execution_count": 388,
   "id": "5497de62",
   "metadata": {
    "ExecuteTime": {
     "end_time": "2023-04-25T22:44:02.157473Z",
     "start_time": "2023-04-25T22:37:41.824256Z"
    }
   },
   "outputs": [
    {
     "name": "stderr",
     "output_type": "stream",
     "text": [
      "Epoch: 1005:  10%|███████████                                                                                                   | 1005/10000 [02:46<19:10,  7.82it/s, lowest_mse=0.0274, pred_loss=40.3, trigger=0]"
     ]
    },
    {
     "name": "stdout",
     "output_type": "stream",
     "text": [
      "The batch_size is now:  32\n"
     ]
    },
    {
     "name": "stderr",
     "output_type": "stream",
     "text": [
      "Epoch: 2009:  20%|██████████████████████                                                                                        | 2008/10000 [04:14<09:18, 14.31it/s, lowest_mse=0.0255, pred_loss=38.3, trigger=0]"
     ]
    },
    {
     "name": "stdout",
     "output_type": "stream",
     "text": [
      "The batch_size is now:  64\n"
     ]
    },
    {
     "name": "stderr",
     "output_type": "stream",
     "text": [
      "Epoch: 3014:  30%|█████████████████████████████████                                                                             | 3011/10000 [05:05<04:39, 25.00it/s, lowest_mse=0.0245, pred_loss=37.3, trigger=0]"
     ]
    },
    {
     "name": "stdout",
     "output_type": "stream",
     "text": [
      "The batch_size is now:  128\n"
     ]
    },
    {
     "name": "stderr",
     "output_type": "stream",
     "text": [
      "Epoch: 4020:  40%|████████████████████████████████████████████▏                                                                 | 4020/10000 [05:34<02:14, 44.61it/s, lowest_mse=0.0239, pred_loss=36.8, trigger=0]"
     ]
    },
    {
     "name": "stdout",
     "output_type": "stream",
     "text": [
      "The batch_size is now:  256\n"
     ]
    },
    {
     "name": "stderr",
     "output_type": "stream",
     "text": [
      "Epoch: 5024:  50%|███████████████████████████████████████████████████████▎                                                      | 5025/10000 [05:52<01:18, 63.42it/s, lowest_mse=0.0235, pred_loss=36.5, trigger=0]"
     ]
    },
    {
     "name": "stdout",
     "output_type": "stream",
     "text": [
      "The batch_size is now:  512\n"
     ]
    },
    {
     "name": "stderr",
     "output_type": "stream",
     "text": [
      "Epoch: 6031:  60%|██████████████████████████████████████████████████████████████████▎                                           | 6029/10000 [06:07<00:53, 74.07it/s, lowest_mse=0.0232, pred_loss=36.2, trigger=0]"
     ]
    },
    {
     "name": "stdout",
     "output_type": "stream",
     "text": [
      "The batch_size is now:  1024\n"
     ]
    },
    {
     "name": "stderr",
     "output_type": "stream",
     "text": [
      "Epoch: 7015:  70%|█████████████████████████████████████████████████████████████████████████████▏                                | 7015/10000 [06:20<02:41, 18.45it/s, lowest_mse=0.0229, pred_loss=35.9, trigger=0]"
     ]
    },
    {
     "name": "stdout",
     "output_type": "stream",
     "text": [
      "The batch_size is now:  2048\n",
      "Adam holdout\n",
      "The train error is 35.94 for SOAP\n",
      "The test error is 43.34 for SOAP\n"
     ]
    },
    {
     "name": "stderr",
     "output_type": "stream",
     "text": [
      "\n"
     ]
    }
   ],
   "source": [
    "weights, loss_dos, test_loss_dos = normal_reg_train_Ad(total_soap, total_aligned_dos1,\n",
    "                                                       holdout_train_index, holdout_test_index,\n",
    "                                                       1e-2, 10000, 16, 1e-3)\n",
    "print (\"Adam holdout\")\n",
    "print (\"The train error is {:.4} for SOAP\".format(loss_dos))\n",
    "print (\"The test error is {:.4} for SOAP\".format(test_loss_dos))"
   ]
  },
  {
   "cell_type": "markdown",
   "id": "efdb52e9",
   "metadata": {},
   "source": [
    "#### Total Aligned - 0.3 Kernel"
   ]
  },
  {
   "cell_type": "code",
   "execution_count": 389,
   "id": "6ddfa09d",
   "metadata": {
    "ExecuteTime": {
     "end_time": "2023-04-25T22:47:04.651298Z",
     "start_time": "2023-04-25T22:44:02.160378Z"
    }
   },
   "outputs": [
    {
     "name": "stderr",
     "output_type": "stream",
     "text": [
      "Epoch: 808:   8%|█████████▏                                                                                                       | 808/10000 [01:17<11:57, 12.82it/s, lowest_mse=0.027, pred_loss=57.9, trigger=0]"
     ]
    },
    {
     "name": "stdout",
     "output_type": "stream",
     "text": [
      "The batch_size is now:  32\n"
     ]
    },
    {
     "name": "stderr",
     "output_type": "stream",
     "text": [
      "Epoch: 1615:  16%|█████████████████▊                                                                                            | 1615/10000 [01:59<05:31, 25.28it/s, lowest_mse=0.0216, pred_loss=56.9, trigger=0]"
     ]
    },
    {
     "name": "stdout",
     "output_type": "stream",
     "text": [
      "The batch_size is now:  64\n"
     ]
    },
    {
     "name": "stderr",
     "output_type": "stream",
     "text": [
      "Epoch: 2423:  24%|██████████████████████████▋                                                                                   | 2422/10000 [02:23<03:01, 41.82it/s, lowest_mse=0.0199, pred_loss=41.9, trigger=0]"
     ]
    },
    {
     "name": "stdout",
     "output_type": "stream",
     "text": [
      "The batch_size is now:  128\n"
     ]
    },
    {
     "name": "stderr",
     "output_type": "stream",
     "text": [
      "Epoch: 3231:  32%|███████████████████████████████████▌                                                                          | 3229/10000 [02:38<01:47, 62.95it/s, lowest_mse=0.0192, pred_loss=43.6, trigger=0]"
     ]
    },
    {
     "name": "stdout",
     "output_type": "stream",
     "text": [
      "The batch_size is now:  256\n"
     ]
    },
    {
     "name": "stderr",
     "output_type": "stream",
     "text": [
      "Epoch: 4038:  40%|████████████████████████████████████████████▎                                                                 | 4031/10000 [02:48<01:12, 82.59it/s, lowest_mse=0.0189, pred_loss=39.1, trigger=0]"
     ]
    },
    {
     "name": "stdout",
     "output_type": "stream",
     "text": [
      "The batch_size is now:  512\n"
     ]
    },
    {
     "name": "stderr",
     "output_type": "stream",
     "text": [
      "Epoch: 4852:  48%|████████████████████████████████████████████████████▊                                                        | 4843/10000 [02:56<00:44, 116.44it/s, lowest_mse=0.0186, pred_loss=47.1, trigger=0]"
     ]
    },
    {
     "name": "stdout",
     "output_type": "stream",
     "text": [
      "The batch_size is now:  1024\n"
     ]
    },
    {
     "name": "stderr",
     "output_type": "stream",
     "text": [
      "Epoch: 5629:  56%|█████████████████████████████████████████████████████████████▉                                                | 5629/10000 [03:02<02:21, 30.85it/s, lowest_mse=0.0185, pred_loss=36.9, trigger=0]\n"
     ]
    },
    {
     "name": "stdout",
     "output_type": "stream",
     "text": [
      "The batch_size is now:  2048\n",
      "Adam Unbiased\n",
      "The train error is 36.89 for KERNEL\n",
      "The test error is 38.14 for KERNEL\n"
     ]
    }
   ],
   "source": [
    "A_U_weights_03, loss_dos, test_loss_dos = kernel_reg_train_Ad(total_kernel_150, total_aligned_dos3,\n",
    "                                                              total_train_index, total_test_index,\n",
    "                                                              total_kMM_150, 1e-2, 10000, 16, 1e-3)\n",
    "\n",
    "print (\"Adam Unbiased\")\n",
    "print (\"The train error is {:.4} for KERNEL\".format(loss_dos))\n",
    "print (\"The test error is {:.4} for KERNEL\".format(test_loss_dos))"
   ]
  },
  {
   "cell_type": "code",
   "execution_count": 390,
   "id": "47fe68b9",
   "metadata": {
    "ExecuteTime": {
     "end_time": "2023-04-25T22:50:12.828750Z",
     "start_time": "2023-04-25T22:47:04.652927Z"
    }
   },
   "outputs": [
    {
     "name": "stderr",
     "output_type": "stream",
     "text": [
      "Epoch: 808:   8%|█████████                                                                                                       | 808/10000 [01:19<11:51, 12.92it/s, lowest_mse=0.0279, pred_loss=78.9, trigger=0]"
     ]
    },
    {
     "name": "stdout",
     "output_type": "stream",
     "text": [
      "The batch_size is now:  32\n"
     ]
    },
    {
     "name": "stderr",
     "output_type": "stream",
     "text": [
      "Epoch: 1615:  16%|█████████████████▊                                                                                            | 1615/10000 [02:02<05:23, 25.92it/s, lowest_mse=0.0221, pred_loss=45.2, trigger=0]"
     ]
    },
    {
     "name": "stdout",
     "output_type": "stream",
     "text": [
      "The batch_size is now:  64\n"
     ]
    },
    {
     "name": "stderr",
     "output_type": "stream",
     "text": [
      "Epoch: 2424:  24%|██████████████████████████▋                                                                                   | 2422/10000 [02:26<02:56, 43.04it/s, lowest_mse=0.0203, pred_loss=39.4, trigger=0]"
     ]
    },
    {
     "name": "stdout",
     "output_type": "stream",
     "text": [
      "The batch_size is now:  128\n"
     ]
    },
    {
     "name": "stderr",
     "output_type": "stream",
     "text": [
      "Epoch: 3231:  32%|███████████████████████████████████▌                                                                          | 3231/10000 [02:42<01:50, 61.05it/s, lowest_mse=0.0196, pred_loss=42.4, trigger=0]"
     ]
    },
    {
     "name": "stdout",
     "output_type": "stream",
     "text": [
      "The batch_size is now:  256\n"
     ]
    },
    {
     "name": "stderr",
     "output_type": "stream",
     "text": [
      "Epoch: 4040:  40%|████████████████████████████████████████████▎                                                                 | 4034/10000 [02:52<01:10, 84.93it/s, lowest_mse=0.0192, pred_loss=37.1, trigger=0]"
     ]
    },
    {
     "name": "stdout",
     "output_type": "stream",
     "text": [
      "The batch_size is now:  512\n"
     ]
    },
    {
     "name": "stderr",
     "output_type": "stream",
     "text": [
      "Epoch: 4846:  48%|█████████████████████████████████████████████████████▋                                                         | 4838/10000 [03:01<00:56, 91.10it/s, lowest_mse=0.019, pred_loss=54.4, trigger=0]"
     ]
    },
    {
     "name": "stdout",
     "output_type": "stream",
     "text": [
      "The batch_size is now:  1024\n"
     ]
    },
    {
     "name": "stderr",
     "output_type": "stream",
     "text": [
      "Epoch: 5629:  56%|█████████████████████████████████████████████████████████████▉                                                | 5629/10000 [03:08<02:26, 29.92it/s, lowest_mse=0.0188, pred_loss=35.7, trigger=0]"
     ]
    },
    {
     "name": "stdout",
     "output_type": "stream",
     "text": [
      "The batch_size is now:  2048\n",
      "Adam Biased\n",
      "The train error is 35.66 for KERNEL\n",
      "The test error is 46.75 for KERNEL\n"
     ]
    },
    {
     "name": "stderr",
     "output_type": "stream",
     "text": [
      "\n"
     ]
    }
   ],
   "source": [
    "A_U_weights_03, loss_dos, test_loss_dos = kernel_reg_train_Ad(total_kernel_150, total_aligned_dos3,\n",
    "                                                              total_biased_train_index, total_biased_test_index,\n",
    "                                                              total_kMM_150, 1e-2, 10000, 16, 1e-3)\n",
    "\n",
    "print (\"Adam Biased\")\n",
    "print (\"The train error is {:.4} for KERNEL\".format(loss_dos))\n",
    "print (\"The test error is {:.4} for KERNEL\".format(test_loss_dos))"
   ]
  },
  {
   "cell_type": "code",
   "execution_count": 391,
   "id": "9312e3ae",
   "metadata": {
    "ExecuteTime": {
     "end_time": "2023-04-25T22:53:00.769140Z",
     "start_time": "2023-04-25T22:50:12.830635Z"
    }
   },
   "outputs": [
    {
     "name": "stderr",
     "output_type": "stream",
     "text": [
      "Epoch: 809:   8%|█████████                                                                                                       | 809/10000 [01:12<10:46, 14.22it/s, lowest_mse=0.0266, pred_loss=48.3, trigger=0]"
     ]
    },
    {
     "name": "stdout",
     "output_type": "stream",
     "text": [
      "The batch_size is now:  32\n"
     ]
    },
    {
     "name": "stderr",
     "output_type": "stream",
     "text": [
      "Epoch: 1616:  16%|█████████████████▉                                                                                             | 1614/10000 [01:51<05:30, 25.34it/s, lowest_mse=0.021, pred_loss=42.3, trigger=0]"
     ]
    },
    {
     "name": "stdout",
     "output_type": "stream",
     "text": [
      "The batch_size is now:  64\n"
     ]
    },
    {
     "name": "stderr",
     "output_type": "stream",
     "text": [
      "Epoch: 2425:  24%|██████████████████████████▋                                                                                   | 2421/10000 [02:14<02:47, 45.14it/s, lowest_mse=0.0191, pred_loss=39.6, trigger=0]"
     ]
    },
    {
     "name": "stdout",
     "output_type": "stream",
     "text": [
      "The batch_size is now:  128\n"
     ]
    },
    {
     "name": "stderr",
     "output_type": "stream",
     "text": [
      "Epoch: 3235:  32%|███████████████████████████████████▌                                                                          | 3229/10000 [02:27<01:32, 72.88it/s, lowest_mse=0.0182, pred_loss=39.8, trigger=0]"
     ]
    },
    {
     "name": "stdout",
     "output_type": "stream",
     "text": [
      "The batch_size is now:  256\n"
     ]
    },
    {
     "name": "stderr",
     "output_type": "stream",
     "text": [
      "Epoch: 4043:  40%|████████████████████████████████████████████                                                                 | 4042/10000 [02:35<00:58, 102.40it/s, lowest_mse=0.0178, pred_loss=38.1, trigger=0]"
     ]
    },
    {
     "name": "stdout",
     "output_type": "stream",
     "text": [
      "The batch_size is now:  512\n"
     ]
    },
    {
     "name": "stderr",
     "output_type": "stream",
     "text": [
      "Epoch: 4853:  48%|████████████████████████████████████████████████████▊                                                        | 4850/10000 [02:42<00:40, 127.21it/s, lowest_mse=0.0175, pred_loss=39.1, trigger=0]"
     ]
    },
    {
     "name": "stdout",
     "output_type": "stream",
     "text": [
      "The batch_size is now:  1024\n"
     ]
    },
    {
     "name": "stderr",
     "output_type": "stream",
     "text": [
      "Epoch: 5629:  56%|█████████████████████████████████████████████████████████████▉                                                | 5629/10000 [02:47<02:10, 33.52it/s, lowest_mse=0.0173, pred_loss=35.9, trigger=0]\n"
     ]
    },
    {
     "name": "stdout",
     "output_type": "stream",
     "text": [
      "The batch_size is now:  2048\n",
      "Adam holdout\n",
      "The train error is 35.92 for KERNEL\n",
      "The test error is 43.15 for KERNEL\n"
     ]
    }
   ],
   "source": [
    "A_U_weights_03, loss_dos, test_loss_dos = kernel_reg_train_Ad(total_kernel_100, total_aligned_dos3,\n",
    "                                                              holdout_train_index, holdout_test_index,\n",
    "                                                              total_kMM_100, 1e-2, 10000, 16, 1e-3)\n",
    "\n",
    "print (\"Adam holdout\")\n",
    "print (\"The train error is {:.4} for KERNEL\".format(loss_dos))\n",
    "print (\"The test error is {:.4} for KERNEL\".format(test_loss_dos))"
   ]
  },
  {
   "cell_type": "markdown",
   "id": "a215eb40",
   "metadata": {},
   "source": [
    "#### Total Aligned - 0.1 Kernel "
   ]
  },
  {
   "cell_type": "code",
   "execution_count": 392,
   "id": "29b7e729",
   "metadata": {
    "ExecuteTime": {
     "end_time": "2023-04-25T22:56:11.998398Z",
     "start_time": "2023-04-25T22:53:00.771330Z"
    }
   },
   "outputs": [
    {
     "name": "stderr",
     "output_type": "stream",
     "text": [
      "Epoch: 808:   8%|█████████                                                                                                       | 808/10000 [01:16<11:50, 12.94it/s, lowest_mse=0.0568, pred_loss=72.7, trigger=0]"
     ]
    },
    {
     "name": "stdout",
     "output_type": "stream",
     "text": [
      "The batch_size is now:  32\n"
     ]
    },
    {
     "name": "stderr",
     "output_type": "stream",
     "text": [
      "Epoch: 1615:  16%|██████████████████                                                                                              | 1615/10000 [02:02<06:06, 22.87it/s, lowest_mse=0.05, pred_loss=59.2, trigger=0]"
     ]
    },
    {
     "name": "stdout",
     "output_type": "stream",
     "text": [
      "The batch_size is now:  64\n"
     ]
    },
    {
     "name": "stderr",
     "output_type": "stream",
     "text": [
      "Epoch: 2422:  24%|██████████████████████████▌                                                                                   | 2420/10000 [02:29<03:38, 34.71it/s, lowest_mse=0.0475, pred_loss=56.7, trigger=0]"
     ]
    },
    {
     "name": "stdout",
     "output_type": "stream",
     "text": [
      "The batch_size is now:  128\n"
     ]
    },
    {
     "name": "stderr",
     "output_type": "stream",
     "text": [
      "Epoch: 3231:  32%|███████████████████████████████████▍                                                                          | 3226/10000 [02:45<02:00, 56.18it/s, lowest_mse=0.0462, pred_loss=54.6, trigger=0]"
     ]
    },
    {
     "name": "stdout",
     "output_type": "stream",
     "text": [
      "The batch_size is now:  256\n"
     ]
    },
    {
     "name": "stderr",
     "output_type": "stream",
     "text": [
      "Epoch: 4039:  40%|████████████████████████████████████████████▍                                                                 | 4038/10000 [02:55<01:10, 84.61it/s, lowest_mse=0.0455, pred_loss=54.3, trigger=0]"
     ]
    },
    {
     "name": "stdout",
     "output_type": "stream",
     "text": [
      "The batch_size is now:  512\n"
     ]
    },
    {
     "name": "stderr",
     "output_type": "stream",
     "text": [
      "Epoch: 4849:  48%|████████████████████████████████████████████████████▋                                                        | 4839/10000 [03:04<00:48, 105.52it/s, lowest_mse=0.0451, pred_loss=56.6, trigger=0]"
     ]
    },
    {
     "name": "stdout",
     "output_type": "stream",
     "text": [
      "The batch_size is now:  1024\n"
     ]
    },
    {
     "name": "stderr",
     "output_type": "stream",
     "text": [
      "Epoch: 5629:  56%|█████████████████████████████████████████████████████████████▉                                                | 5629/10000 [03:11<02:28, 29.44it/s, lowest_mse=0.0448, pred_loss=50.1, trigger=0]\n"
     ]
    },
    {
     "name": "stdout",
     "output_type": "stream",
     "text": [
      "The batch_size is now:  2048\n",
      "Adam Unbiased\n",
      "The train error is 50.11 for KERNEL\n",
      "The test error is 51.27 for KERNEL\n"
     ]
    }
   ],
   "source": [
    "A_U_weights_03, loss_dos, test_loss_dos = kernel_reg_train_Ad(total_kernel_150, total_aligned_dos1,\n",
    "                                                              total_train_index, total_test_index,\n",
    "                                                              total_kMM_150, 1e-1, 10000, 16, 1e-3)\n",
    "\n",
    "print (\"Adam Unbiased\")\n",
    "print (\"The train error is {:.4} for KERNEL\".format(loss_dos))\n",
    "print (\"The test error is {:.4} for KERNEL\".format(test_loss_dos))"
   ]
  },
  {
   "cell_type": "code",
   "execution_count": 393,
   "id": "1afc9df5",
   "metadata": {
    "ExecuteTime": {
     "end_time": "2023-04-25T22:59:18.600100Z",
     "start_time": "2023-04-25T22:56:12.000265Z"
    }
   },
   "outputs": [
    {
     "name": "stderr",
     "output_type": "stream",
     "text": [
      "Epoch: 808:   8%|█████████                                                                                                       | 808/10000 [01:22<11:49, 12.96it/s, lowest_mse=0.0585, pred_loss=68.5, trigger=0]"
     ]
    },
    {
     "name": "stdout",
     "output_type": "stream",
     "text": [
      "The batch_size is now:  32\n"
     ]
    },
    {
     "name": "stderr",
     "output_type": "stream",
     "text": [
      "Epoch: 1615:  16%|██████████████████                                                                                              | 1615/10000 [02:05<05:25, 25.79it/s, lowest_mse=0.0516, pred_loss=56, trigger=0]"
     ]
    },
    {
     "name": "stdout",
     "output_type": "stream",
     "text": [
      "The batch_size is now:  64\n"
     ]
    },
    {
     "name": "stderr",
     "output_type": "stream",
     "text": [
      "Epoch: 2424:  24%|███████████████████████████▎                                                                                     | 2422/10000 [02:28<02:54, 43.35it/s, lowest_mse=0.049, pred_loss=54, trigger=0]"
     ]
    },
    {
     "name": "stdout",
     "output_type": "stream",
     "text": [
      "The batch_size is now:  128\n"
     ]
    },
    {
     "name": "stderr",
     "output_type": "stream",
     "text": [
      "Epoch: 3234:  32%|███████████████████████████████████▌                                                                          | 3231/10000 [02:42<01:36, 70.15it/s, lowest_mse=0.0478, pred_loss=52.3, trigger=0]"
     ]
    },
    {
     "name": "stdout",
     "output_type": "stream",
     "text": [
      "The batch_size is now:  256\n"
     ]
    },
    {
     "name": "stderr",
     "output_type": "stream",
     "text": [
      "Epoch: 4039:  40%|████████████████████████████████████████████▍                                                                 | 4037/10000 [02:51<01:09, 85.49it/s, lowest_mse=0.0471, pred_loss=53.2, trigger=0]"
     ]
    },
    {
     "name": "stdout",
     "output_type": "stream",
     "text": [
      "The batch_size is now:  512\n"
     ]
    },
    {
     "name": "stderr",
     "output_type": "stream",
     "text": [
      "Epoch: 4850:  48%|████████████████████████████████████████████████████▊                                                        | 4841/10000 [03:00<00:47, 107.61it/s, lowest_mse=0.0467, pred_loss=55.6, trigger=0]"
     ]
    },
    {
     "name": "stdout",
     "output_type": "stream",
     "text": [
      "The batch_size is now:  1024\n"
     ]
    },
    {
     "name": "stderr",
     "output_type": "stream",
     "text": [
      "Epoch: 5629:  56%|█████████████████████████████████████████████████████████████▉                                                | 5629/10000 [03:06<02:24, 30.17it/s, lowest_mse=0.0464, pred_loss=48.9, trigger=0]\n"
     ]
    },
    {
     "name": "stdout",
     "output_type": "stream",
     "text": [
      "The batch_size is now:  2048\n",
      "Adam Biased\n",
      "The train error is 48.88 for KERNEL\n",
      "The test error is 58.9 for KERNEL\n"
     ]
    }
   ],
   "source": [
    "A_U_weights_03, loss_dos, test_loss_dos = kernel_reg_train_Ad(total_kernel_150, total_aligned_dos1,\n",
    "                                                              total_biased_train_index, total_biased_test_index,\n",
    "                                                              total_kMM_150, 1e-1, 10000, 16, 1e-3)\n",
    "\n",
    "print (\"Adam Biased\")\n",
    "print (\"The train error is {:.4} for KERNEL\".format(loss_dos))\n",
    "print (\"The test error is {:.4} for KERNEL\".format(test_loss_dos))"
   ]
  },
  {
   "cell_type": "code",
   "execution_count": 394,
   "id": "24c5f473",
   "metadata": {
    "ExecuteTime": {
     "end_time": "2023-04-25T23:02:10.753738Z",
     "start_time": "2023-04-25T22:59:18.602101Z"
    }
   },
   "outputs": [
    {
     "name": "stderr",
     "output_type": "stream",
     "text": [
      "Epoch: 808:   8%|█████████▏                                                                                                       | 808/10000 [01:14<11:29, 13.32it/s, lowest_mse=0.057, pred_loss=61.8, trigger=0]"
     ]
    },
    {
     "name": "stdout",
     "output_type": "stream",
     "text": [
      "The batch_size is now:  32\n"
     ]
    },
    {
     "name": "stderr",
     "output_type": "stream",
     "text": [
      "Epoch: 1616:  16%|█████████████████▊                                                                                            | 1615/10000 [01:54<05:20, 26.18it/s, lowest_mse=0.0502, pred_loss=55.8, trigger=0]"
     ]
    },
    {
     "name": "stdout",
     "output_type": "stream",
     "text": [
      "The batch_size is now:  64\n"
     ]
    },
    {
     "name": "stderr",
     "output_type": "stream",
     "text": [
      "Epoch: 2424:  24%|██████████████████████████▋                                                                                   | 2422/10000 [02:17<02:56, 43.04it/s, lowest_mse=0.0475, pred_loss=53.2, trigger=0]"
     ]
    },
    {
     "name": "stdout",
     "output_type": "stream",
     "text": [
      "The batch_size is now:  128\n"
     ]
    },
    {
     "name": "stderr",
     "output_type": "stream",
     "text": [
      "Epoch: 3234:  32%|███████████████████████████████████▌                                                                          | 3229/10000 [02:30<01:37, 69.62it/s, lowest_mse=0.0462, pred_loss=52.6, trigger=0]"
     ]
    },
    {
     "name": "stdout",
     "output_type": "stream",
     "text": [
      "The batch_size is now:  256\n"
     ]
    },
    {
     "name": "stderr",
     "output_type": "stream",
     "text": [
      "Epoch: 4043:  40%|████████████████████████████████████████████▍                                                                 | 4040/10000 [02:39<01:00, 98.25it/s, lowest_mse=0.0454, pred_loss=51.7, trigger=0]"
     ]
    },
    {
     "name": "stdout",
     "output_type": "stream",
     "text": [
      "The batch_size is now:  512\n"
     ]
    },
    {
     "name": "stderr",
     "output_type": "stream",
     "text": [
      "Epoch: 4853:  48%|████████████████████████████████████████████████████▊                                                        | 4843/10000 [02:47<00:41, 123.52it/s, lowest_mse=0.0449, pred_loss=51.5, trigger=0]"
     ]
    },
    {
     "name": "stdout",
     "output_type": "stream",
     "text": [
      "The batch_size is now:  1024\n"
     ]
    },
    {
     "name": "stderr",
     "output_type": "stream",
     "text": [
      "Epoch: 5629:  56%|█████████████████████████████████████████████████████████████▉                                                | 5629/10000 [02:52<02:13, 32.70it/s, lowest_mse=0.0445, pred_loss=50.1, trigger=0]\n"
     ]
    },
    {
     "name": "stdout",
     "output_type": "stream",
     "text": [
      "The batch_size is now:  2048\n",
      "Adam holdout\n",
      "The train error is 50.05 for KERNEL\n",
      "The test error is 54.2 for KERNEL\n"
     ]
    }
   ],
   "source": [
    "A_U_weights_03, loss_dos, test_loss_dos = kernel_reg_train_Ad(total_kernel_100, total_aligned_dos1,\n",
    "                                                              holdout_train_index, holdout_test_index,\n",
    "                                                              total_kMM_100, 1e-2, 10000, 16, 1e-3)\n",
    "\n",
    "print (\"Adam holdout\")\n",
    "print (\"The train error is {:.4} for KERNEL\".format(loss_dos))\n",
    "print (\"The test error is {:.4} for KERNEL\".format(test_loss_dos))"
   ]
  },
  {
   "cell_type": "markdown",
   "id": "fc330fdc",
   "metadata": {},
   "source": [
    "## Baseline GD Model - LBFGS"
   ]
  },
  {
   "cell_type": "markdown",
   "id": "6ab78320",
   "metadata": {},
   "source": [
    "### Surfaces"
   ]
  },
  {
   "cell_type": "markdown",
   "id": "2000a31e",
   "metadata": {},
   "source": [
    "#### Surfaces - 0.3 SOAP "
   ]
  },
  {
   "cell_type": "code",
   "execution_count": 395,
   "id": "20639600",
   "metadata": {
    "ExecuteTime": {
     "end_time": "2023-04-25T23:02:13.432592Z",
     "start_time": "2023-04-25T23:02:10.755909Z"
    }
   },
   "outputs": [
    {
     "name": "stderr",
     "output_type": "stream",
     "text": [
      "Epoch: 5: 100%|█████████████████████████████████████████████████████████████████████████████████████████████████████████████████████████| 6/6 [00:02<00:00,  2.27it/s, lowest_mse=0.00371, pred_loss=39, trigger=0]"
     ]
    },
    {
     "name": "stdout",
     "output_type": "stream",
     "text": [
      "LBFGS Unbiased\n",
      "The train error is 38.41 for SOAP\n",
      "The test error is 61.11 for SOAP\n"
     ]
    },
    {
     "name": "stderr",
     "output_type": "stream",
     "text": [
      "\n"
     ]
    }
   ],
   "source": [
    "U_L_weights3 , loss_dos, test_loss_dos = normal_reg_train_L(surface_soap, surface_dos3, surface_train_index, surface_test_index,\n",
    "                                                            1e-2, 6, 1)\n",
    "print (\"LBFGS Unbiased\")\n",
    "print (\"The train error is {:.4} for SOAP\".format(loss_dos))\n",
    "print (\"The test error is {:.4} for SOAP\".format(test_loss_dos))"
   ]
  },
  {
   "cell_type": "code",
   "execution_count": 396,
   "id": "b587a248",
   "metadata": {
    "ExecuteTime": {
     "end_time": "2023-04-25T23:02:16.215655Z",
     "start_time": "2023-04-25T23:02:13.434013Z"
    }
   },
   "outputs": [
    {
     "name": "stderr",
     "output_type": "stream",
     "text": [
      "Epoch: 9: 100%|█████████████████████████████████████████████████████████████████████████████████████████████████████████████████████| 10/10 [00:02<00:00,  3.61it/s, lowest_mse=0.00708, pred_loss=56.3, trigger=0]"
     ]
    },
    {
     "name": "stdout",
     "output_type": "stream",
     "text": [
      "LBFGS holdout\n",
      "The train error is 56.29 for SOAP\n",
      "The test error is 100.2 for SOAP\n"
     ]
    },
    {
     "name": "stderr",
     "output_type": "stream",
     "text": [
      "\n"
     ]
    }
   ],
   "source": [
    "U_L_weights3 , loss_dos, test_loss_dos = normal_reg_train_L(surface_soap, surface_dos3, surface_holdout_train_index, surface_holdout_test_index,\n",
    "                                                            1e-1, 10, 1)\n",
    "print (\"LBFGS holdout\")\n",
    "print (\"The train error is {:.4} for SOAP\".format(loss_dos))\n",
    "print (\"The test error is {:.4} for SOAP\".format(test_loss_dos))"
   ]
  },
  {
   "cell_type": "markdown",
   "id": "033358cf",
   "metadata": {},
   "source": [
    "#### Surfaces - 0.1 SOAP "
   ]
  },
  {
   "cell_type": "code",
   "execution_count": 397,
   "id": "fac09f8c",
   "metadata": {
    "ExecuteTime": {
     "end_time": "2023-04-25T23:02:20.490138Z",
     "start_time": "2023-04-25T23:02:16.217289Z"
    }
   },
   "outputs": [
    {
     "name": "stderr",
     "output_type": "stream",
     "text": [
      "Epoch: 9: 100%|██████████████████████████████████████████████████████████████████████████████████████████████████████████████████████| 10/10 [00:04<00:00,  2.35it/s, lowest_mse=0.0131, pred_loss=53.6, trigger=0]"
     ]
    },
    {
     "name": "stdout",
     "output_type": "stream",
     "text": [
      "LBFGS Unbiased\n",
      "The train error is 53.56 for SOAP\n",
      "The test error is 77.05 for SOAP\n"
     ]
    },
    {
     "name": "stderr",
     "output_type": "stream",
     "text": [
      "\n"
     ]
    }
   ],
   "source": [
    "U_L_weights3 , loss_dos, test_loss_dos = normal_reg_train_L(surface_soap, surface_dos1,\n",
    "                                                            surface_train_index, surface_test_index,\n",
    "                                                            1e-2, 10, 1)\n",
    "print (\"LBFGS Unbiased\")\n",
    "print (\"The train error is {:.4} for SOAP\".format(loss_dos))\n",
    "print (\"The test error is {:.4} for SOAP\".format(test_loss_dos))"
   ]
  },
  {
   "cell_type": "code",
   "execution_count": 398,
   "id": "51d23390",
   "metadata": {
    "ExecuteTime": {
     "end_time": "2023-04-25T23:02:23.439781Z",
     "start_time": "2023-04-25T23:02:20.491728Z"
    }
   },
   "outputs": [
    {
     "name": "stderr",
     "output_type": "stream",
     "text": [
      "Epoch: 9: 100%|██████████████████████████████████████████████████████████████████████████████████████████████████████████████████████| 10/10 [00:02<00:00,  3.41it/s, lowest_mse=0.0222, pred_loss=70.7, trigger=0]"
     ]
    },
    {
     "name": "stdout",
     "output_type": "stream",
     "text": [
      "LBFGS holdout\n",
      "The train error is 70.42 for SOAP\n",
      "The test error is 112.7 for SOAP\n"
     ]
    },
    {
     "name": "stderr",
     "output_type": "stream",
     "text": [
      "\n"
     ]
    }
   ],
   "source": [
    "U_L_weights3 , loss_dos, test_loss_dos = normal_reg_train_L(surface_soap, surface_dos1, surface_holdout_train_index, surface_holdout_test_index,\n",
    "                                                            1e-1, 10, 1)\n",
    "print (\"LBFGS holdout\")\n",
    "print (\"The train error is {:.4} for SOAP\".format(loss_dos))\n",
    "print (\"The test error is {:.4} for SOAP\".format(test_loss_dos))"
   ]
  },
  {
   "cell_type": "markdown",
   "id": "269e5477",
   "metadata": {},
   "source": [
    "#### Surfaces - 0.3 Kernel"
   ]
  },
  {
   "cell_type": "code",
   "execution_count": 399,
   "id": "ea65cbe6",
   "metadata": {
    "ExecuteTime": {
     "end_time": "2023-04-25T23:02:24.329379Z",
     "start_time": "2023-04-25T23:02:23.441375Z"
    }
   },
   "outputs": [
    {
     "name": "stderr",
     "output_type": "stream",
     "text": [
      "Epoch: 9: 100%|█████████████████████████████████████████████████████████████████████████████████████████████████████████████████████| 10/10 [00:00<00:00, 11.39it/s, lowest_mse=0.00579, pred_loss=48.7, trigger=0]"
     ]
    },
    {
     "name": "stdout",
     "output_type": "stream",
     "text": [
      "LBFGS Unbiased\n",
      "The train error is 48.75 for Kernel\n",
      "The test error is 65.47 for Kernel\n"
     ]
    },
    {
     "name": "stderr",
     "output_type": "stream",
     "text": [
      "\n"
     ]
    }
   ],
   "source": [
    "U_L_weights3 , loss_dos, test_loss_dos = kernel_reg_train_L(surface_kernel_30, surface_dos3,\n",
    "                                                            surface_train_index, surface_test_index,\n",
    "                                                            surface_kMM_30, 1e-2, 10, 1)\n",
    "print (\"LBFGS Unbiased\")\n",
    "print (\"The train error is {:.4} for Kernel\".format(loss_dos))\n",
    "print (\"The test error is {:.4} for Kernel\".format(test_loss_dos))"
   ]
  },
  {
   "cell_type": "code",
   "execution_count": 400,
   "id": "acd8fde3",
   "metadata": {
    "ExecuteTime": {
     "end_time": "2023-04-25T23:02:25.639435Z",
     "start_time": "2023-04-25T23:02:24.330970Z"
    }
   },
   "outputs": [
    {
     "name": "stderr",
     "output_type": "stream",
     "text": [
      "Epoch: 9: 100%|█████████████████████████████████████████████████████████████████████████████████████████████████████████████████████| 10/10 [00:01<00:00,  7.70it/s, lowest_mse=0.00549, pred_loss=49.5, trigger=0]"
     ]
    },
    {
     "name": "stdout",
     "output_type": "stream",
     "text": [
      "LBFGS Holdout\n",
      "The train error is 49.54 for Kernel\n",
      "The test error is 104.5 for Kernel\n"
     ]
    },
    {
     "name": "stderr",
     "output_type": "stream",
     "text": [
      "\n"
     ]
    }
   ],
   "source": [
    "U_L_weights3 , loss_dos, test_loss_dos = kernel_reg_train_L(surface_kernel_30, surface_dos3,\n",
    "                                                            surface_holdout_train_index, surface_holdout_test_index,\n",
    "                                                            surface_kMM_30, 1e-2, 10, 1)\n",
    "print (\"LBFGS Holdout\")\n",
    "print (\"The train error is {:.4} for Kernel\".format(loss_dos))\n",
    "print (\"The test error is {:.4} for Kernel\".format(test_loss_dos))"
   ]
  },
  {
   "cell_type": "markdown",
   "id": "19916198",
   "metadata": {},
   "source": [
    "#### Surfaces - 0.1 Kernel"
   ]
  },
  {
   "cell_type": "code",
   "execution_count": 401,
   "id": "3d090a61",
   "metadata": {
    "ExecuteTime": {
     "end_time": "2023-04-25T23:02:26.996921Z",
     "start_time": "2023-04-25T23:02:25.641019Z"
    }
   },
   "outputs": [
    {
     "name": "stderr",
     "output_type": "stream",
     "text": [
      "Epoch: 9: 100%|████████████████████████████████████████████████████████████████████████████████████████████████████████████████████████| 10/10 [00:01<00:00,  7.43it/s, lowest_mse=0.0165, pred_loss=60, trigger=0]"
     ]
    },
    {
     "name": "stdout",
     "output_type": "stream",
     "text": [
      "LBFGS Unbiased\n",
      "The train error is 60.02 for Kernel\n",
      "The test error is 76.04 for Kernel\n"
     ]
    },
    {
     "name": "stderr",
     "output_type": "stream",
     "text": [
      "\n"
     ]
    }
   ],
   "source": [
    "U_L_weights3 , loss_dos, test_loss_dos = kernel_reg_train_L(surface_kernel_30, surface_dos1,\n",
    "                                                            surface_train_index, surface_test_index,\n",
    "                                                            surface_kMM_30, 1e-2, 10, 1)\n",
    "print (\"LBFGS Unbiased\")\n",
    "print (\"The train error is {:.4} for Kernel\".format(loss_dos))\n",
    "print (\"The test error is {:.4} for Kernel\".format(test_loss_dos))"
   ]
  },
  {
   "cell_type": "code",
   "execution_count": 402,
   "id": "1bb3b969",
   "metadata": {
    "ExecuteTime": {
     "end_time": "2023-04-25T23:02:28.266185Z",
     "start_time": "2023-04-25T23:02:26.998507Z"
    }
   },
   "outputs": [
    {
     "name": "stderr",
     "output_type": "stream",
     "text": [
      "Epoch: 9: 100%|████████████████████████████████████████████████████████████████████████████████████████████████████████████████████████| 10/10 [00:01<00:00,  7.95it/s, lowest_mse=0.0178, pred_loss=63, trigger=0]"
     ]
    },
    {
     "name": "stdout",
     "output_type": "stream",
     "text": [
      "LBFGS Holdout\n",
      "The train error is 63.02 for Kernel\n",
      "The test error is 120.5 for Kernel\n"
     ]
    },
    {
     "name": "stderr",
     "output_type": "stream",
     "text": [
      "\n"
     ]
    }
   ],
   "source": [
    "U_L_weights3 , loss_dos, test_loss_dos = kernel_reg_train_L(surface_kernel_30, surface_dos1,\n",
    "                                                            surface_holdout_train_index, surface_holdout_test_index,\n",
    "                                                            surface_kMM_30, 1e-2, 10, 1)\n",
    "print (\"LBFGS Holdout\")\n",
    "print (\"The train error is {:.4} for Kernel\".format(loss_dos))\n",
    "print (\"The test error is {:.4} for Kernel\".format(test_loss_dos))"
   ]
  },
  {
   "cell_type": "markdown",
   "id": "a99fe004",
   "metadata": {},
   "source": [
    "### Surfaces Aligned"
   ]
  },
  {
   "cell_type": "markdown",
   "id": "2eac3354",
   "metadata": {},
   "source": [
    "#### Surfaces Aligned - 0.3 SOAP "
   ]
  },
  {
   "cell_type": "code",
   "execution_count": 403,
   "id": "f7a88e80",
   "metadata": {
    "ExecuteTime": {
     "end_time": "2023-04-25T23:02:31.563116Z",
     "start_time": "2023-04-25T23:02:28.267765Z"
    }
   },
   "outputs": [
    {
     "name": "stderr",
     "output_type": "stream",
     "text": [
      "Epoch: 9: 100%|███████████████████████████████████████████████████████████████████████████████████████████████████████████████████████| 10/10 [00:03<00:00,  3.05it/s, lowest_mse=0.00407, pred_loss=40, trigger=0]"
     ]
    },
    {
     "name": "stdout",
     "output_type": "stream",
     "text": [
      "LBFGS Unbiased\n",
      "The train error is 39.99 for SOAP\n",
      "The test error is 57.27 for SOAP\n"
     ]
    },
    {
     "name": "stderr",
     "output_type": "stream",
     "text": [
      "\n"
     ]
    }
   ],
   "source": [
    "U_L_weights3 , loss_dos, test_loss_dos = normal_reg_train_L(surface_soap, surface_aligned_dos3, surface_train_index, surface_test_index,\n",
    "                                                            1e-2, 10, 1)\n",
    "print (\"LBFGS Unbiased\")\n",
    "print (\"The train error is {:.4} for SOAP\".format(loss_dos))\n",
    "print (\"The test error is {:.4} for SOAP\".format(test_loss_dos))"
   ]
  },
  {
   "cell_type": "code",
   "execution_count": 404,
   "id": "d98960c2",
   "metadata": {
    "ExecuteTime": {
     "end_time": "2023-04-25T23:02:34.813538Z",
     "start_time": "2023-04-25T23:02:31.564730Z"
    }
   },
   "outputs": [
    {
     "name": "stderr",
     "output_type": "stream",
     "text": [
      "Epoch: 9: 100%|█████████████████████████████████████████████████████████████████████████████████████████████████████████████████████| 10/10 [00:03<00:00,  3.09it/s, lowest_mse=0.00712, pred_loss=55.4, trigger=0]"
     ]
    },
    {
     "name": "stdout",
     "output_type": "stream",
     "text": [
      "LBFGS holdout\n",
      "The train error is 55.32 for SOAP\n",
      "The test error is 97.64 for SOAP\n"
     ]
    },
    {
     "name": "stderr",
     "output_type": "stream",
     "text": [
      "\n"
     ]
    }
   ],
   "source": [
    "U_L_weights3 , loss_dos, test_loss_dos = normal_reg_train_L(surface_soap, surface_aligned_dos3, surface_holdout_train_index, surface_holdout_test_index,\n",
    "                                                            1e-1, 10, 1)\n",
    "print (\"LBFGS holdout\")\n",
    "print (\"The train error is {:.4} for SOAP\".format(loss_dos))\n",
    "print (\"The test error is {:.4} for SOAP\".format(test_loss_dos))"
   ]
  },
  {
   "cell_type": "markdown",
   "id": "28daeb58",
   "metadata": {},
   "source": [
    "#### Surfaces Aligned - 0.1 SOAP "
   ]
  },
  {
   "cell_type": "code",
   "execution_count": 405,
   "id": "5e8d6454",
   "metadata": {
    "ExecuteTime": {
     "end_time": "2023-04-25T23:02:39.128750Z",
     "start_time": "2023-04-25T23:02:34.815131Z"
    }
   },
   "outputs": [
    {
     "name": "stderr",
     "output_type": "stream",
     "text": [
      "Epoch: 9: 100%|████████████████████████████████████████████████████████████████████████████████████████████████████████████████████████| 10/10 [00:04<00:00,  2.32it/s, lowest_mse=0.0132, pred_loss=53, trigger=0]"
     ]
    },
    {
     "name": "stdout",
     "output_type": "stream",
     "text": [
      "LBFGS Unbiased\n",
      "The train error is 52.98 for SOAP\n",
      "The test error is 74.83 for SOAP\n"
     ]
    },
    {
     "name": "stderr",
     "output_type": "stream",
     "text": [
      "\n"
     ]
    }
   ],
   "source": [
    "U_L_weights3 , loss_dos, test_loss_dos = normal_reg_train_L(surface_soap, surface_aligned_dos1,\n",
    "                                                            surface_train_index, surface_test_index,\n",
    "                                                            1e-2, 10, 1)\n",
    "print (\"LBFGS Unbiased\")\n",
    "print (\"The train error is {:.4} for SOAP\".format(loss_dos))\n",
    "print (\"The test error is {:.4} for SOAP\".format(test_loss_dos))"
   ]
  },
  {
   "cell_type": "code",
   "execution_count": 406,
   "id": "14300510",
   "metadata": {
    "ExecuteTime": {
     "end_time": "2023-04-25T23:02:41.478196Z",
     "start_time": "2023-04-25T23:02:39.130339Z"
    }
   },
   "outputs": [
    {
     "name": "stderr",
     "output_type": "stream",
     "text": [
      "Epoch: 9: 100%|████████████████████████████████████████████████████████████████████████████████████████████████████████████████████████| 10/10 [00:02<00:00,  4.28it/s, lowest_mse=0.0223, pred_loss=70, trigger=0]"
     ]
    },
    {
     "name": "stdout",
     "output_type": "stream",
     "text": [
      "LBFGS holdout\n",
      "The train error is 69.98 for SOAP\n",
      "The test error is 109.9 for SOAP\n"
     ]
    },
    {
     "name": "stderr",
     "output_type": "stream",
     "text": [
      "\n"
     ]
    }
   ],
   "source": [
    "U_L_weights3 , loss_dos, test_loss_dos = normal_reg_train_L(surface_soap, surface_aligned_dos1, surface_holdout_train_index, surface_holdout_test_index,\n",
    "                                                            1e-1, 10, 1)\n",
    "print (\"LBFGS holdout\")\n",
    "print (\"The train error is {:.4} for SOAP\".format(loss_dos))\n",
    "print (\"The test error is {:.4} for SOAP\".format(test_loss_dos))"
   ]
  },
  {
   "cell_type": "markdown",
   "id": "52a119b5",
   "metadata": {},
   "source": [
    "#### Surfaces Aligned - 0.3 Kernel"
   ]
  },
  {
   "cell_type": "code",
   "execution_count": 407,
   "id": "afceebb9",
   "metadata": {
    "ExecuteTime": {
     "end_time": "2023-04-25T23:02:42.421423Z",
     "start_time": "2023-04-25T23:02:41.479785Z"
    }
   },
   "outputs": [
    {
     "name": "stderr",
     "output_type": "stream",
     "text": [
      "Epoch: 9: 100%|███████████████████████████████████████████████████████████████████████████████████████████████████████████████████████| 10/10 [00:00<00:00, 10.73it/s, lowest_mse=0.00586, pred_loss=48, trigger=0]"
     ]
    },
    {
     "name": "stdout",
     "output_type": "stream",
     "text": [
      "LBFGS Unbiased\n",
      "The train error is 47.95 for Kernel\n",
      "The test error is 62.27 for Kernel\n"
     ]
    },
    {
     "name": "stderr",
     "output_type": "stream",
     "text": [
      "\n"
     ]
    }
   ],
   "source": [
    "U_L_weights3 , loss_dos, test_loss_dos = kernel_reg_train_L(surface_kernel_30, surface_aligned_dos3,\n",
    "                                                            surface_train_index, surface_test_index,\n",
    "                                                            surface_kMM_30, 1e-2, 10, 1)\n",
    "print (\"LBFGS Unbiased\")\n",
    "print (\"The train error is {:.4} for Kernel\".format(loss_dos))\n",
    "print (\"The test error is {:.4} for Kernel\".format(test_loss_dos))"
   ]
  },
  {
   "cell_type": "code",
   "execution_count": 408,
   "id": "9e8d6e07",
   "metadata": {
    "ExecuteTime": {
     "end_time": "2023-04-25T23:02:43.528054Z",
     "start_time": "2023-04-25T23:02:42.422997Z"
    }
   },
   "outputs": [
    {
     "name": "stderr",
     "output_type": "stream",
     "text": [
      "Epoch: 9: 100%|██████████████████████████████████████████████████████████████████████████████████████████████████████████████████████| 10/10 [00:01<00:00,  9.13it/s, lowest_mse=0.0056, pred_loss=49.1, trigger=0]"
     ]
    },
    {
     "name": "stdout",
     "output_type": "stream",
     "text": [
      "LBFGS Holdout\n",
      "The train error is 49.06 for Kernel\n",
      "The test error is 100.9 for Kernel\n"
     ]
    },
    {
     "name": "stderr",
     "output_type": "stream",
     "text": [
      "\n"
     ]
    }
   ],
   "source": [
    "U_L_weights3 , loss_dos, test_loss_dos = kernel_reg_train_L(surface_kernel_30, surface_aligned_dos3,\n",
    "                                                            surface_holdout_train_index, surface_holdout_test_index,\n",
    "                                                            surface_kMM_30, 1e-2, 10, 1)\n",
    "print (\"LBFGS Holdout\")\n",
    "print (\"The train error is {:.4} for Kernel\".format(loss_dos))\n",
    "print (\"The test error is {:.4} for Kernel\".format(test_loss_dos))"
   ]
  },
  {
   "cell_type": "markdown",
   "id": "07cde9a1",
   "metadata": {},
   "source": [
    "#### Surfaces Aligned - 0.1 Kernel"
   ]
  },
  {
   "cell_type": "code",
   "execution_count": 409,
   "id": "4c4a4114",
   "metadata": {
    "ExecuteTime": {
     "end_time": "2023-04-25T23:02:44.239046Z",
     "start_time": "2023-04-25T23:02:43.529646Z"
    }
   },
   "outputs": [
    {
     "name": "stderr",
     "output_type": "stream",
     "text": [
      "Epoch: 9: 100%|████████████████████████████████████████████████████████████████████████████████████████████████████████████████████████| 10/10 [00:00<00:00, 14.29it/s, lowest_mse=0.0204, pred_loss=66, trigger=0]"
     ]
    },
    {
     "name": "stdout",
     "output_type": "stream",
     "text": [
      "LBFGS Unbiased\n",
      "The train error is 65.95 for Kernel\n",
      "The test error is 78.35 for Kernel\n"
     ]
    },
    {
     "name": "stderr",
     "output_type": "stream",
     "text": [
      "\n"
     ]
    }
   ],
   "source": [
    "U_L_weights3 , loss_dos, test_loss_dos = kernel_reg_train_L(surface_kernel_30, surface_aligned_dos1,\n",
    "                                                            surface_train_index, surface_test_index,\n",
    "                                                            surface_kMM_30, 1e-2, 10, 1)\n",
    "print (\"LBFGS Unbiased\")\n",
    "print (\"The train error is {:.4} for Kernel\".format(loss_dos))\n",
    "print (\"The test error is {:.4} for Kernel\".format(test_loss_dos))"
   ]
  },
  {
   "cell_type": "code",
   "execution_count": 410,
   "id": "cdd6b92e",
   "metadata": {
    "ExecuteTime": {
     "end_time": "2023-04-25T23:02:45.582127Z",
     "start_time": "2023-04-25T23:02:44.240640Z"
    }
   },
   "outputs": [
    {
     "name": "stderr",
     "output_type": "stream",
     "text": [
      "Epoch: 9: 100%|██████████████████████████████████████████████████████████████████████████████████████████████████████████████████████| 10/10 [00:01<00:00,  7.51it/s, lowest_mse=0.0191, pred_loss=64.7, trigger=0]"
     ]
    },
    {
     "name": "stdout",
     "output_type": "stream",
     "text": [
      "LBFGS Holdout\n",
      "The train error is 64.68 for Kernel\n",
      "The test error is 116.1 for Kernel\n"
     ]
    },
    {
     "name": "stderr",
     "output_type": "stream",
     "text": [
      "\n"
     ]
    }
   ],
   "source": [
    "U_L_weights3 , loss_dos, test_loss_dos = kernel_reg_train_L(surface_kernel_30, surface_aligned_dos1,\n",
    "                                                            surface_holdout_train_index, surface_holdout_test_index,\n",
    "                                                            surface_kMM_30, 1e-2, 10, 1)\n",
    "print (\"LBFGS Holdout\")\n",
    "print (\"The train error is {:.4} for Kernel\".format(loss_dos))\n",
    "print (\"The test error is {:.4} for Kernel\".format(test_loss_dos))"
   ]
  },
  {
   "cell_type": "markdown",
   "id": "6163b35e",
   "metadata": {},
   "source": [
    "### Bulk"
   ]
  },
  {
   "cell_type": "markdown",
   "id": "0a497a19",
   "metadata": {},
   "source": [
    "#### Bulk - 0.3 SOAP"
   ]
  },
  {
   "cell_type": "code",
   "execution_count": 411,
   "id": "bd301872",
   "metadata": {
    "ExecuteTime": {
     "end_time": "2023-04-25T23:03:00.525151Z",
     "start_time": "2023-04-25T23:02:45.583734Z"
    }
   },
   "outputs": [
    {
     "name": "stderr",
     "output_type": "stream",
     "text": [
      "Epoch: 14: 100%|████████████████████████████████████████████████████████████████████████████████████████████████████████████████████| 15/15 [00:14<00:00,  1.01it/s, lowest_mse=0.00197, pred_loss=13.3, trigger=0]"
     ]
    },
    {
     "name": "stdout",
     "output_type": "stream",
     "text": [
      "LBFGS Unbiased\n",
      "The train error is 13.03 for SOAP\n",
      "The test error is 18.6 for SOAP\n"
     ]
    },
    {
     "name": "stderr",
     "output_type": "stream",
     "text": [
      "\n"
     ]
    }
   ],
   "source": [
    "U_L_weights3 , loss_dos, test_loss_dos = normal_reg_train_L(bulk_soap, bulk_dos3,\n",
    "                                                            bulk_train_index, bulk_test_index,\n",
    "                                                            1e-2, 15, 1)\n",
    "print (\"LBFGS Unbiased\")\n",
    "print (\"The train error is {:.4} for SOAP\".format(loss_dos))\n",
    "print (\"The test error is {:.4} for SOAP\".format(test_loss_dos))"
   ]
  },
  {
   "cell_type": "code",
   "execution_count": 412,
   "id": "57fe3bb7",
   "metadata": {
    "ExecuteTime": {
     "end_time": "2023-04-25T23:03:15.159704Z",
     "start_time": "2023-04-25T23:03:00.526761Z"
    }
   },
   "outputs": [
    {
     "name": "stderr",
     "output_type": "stream",
     "text": [
      "Epoch: 14: 100%|████████████████████████████████████████████████████████████████████████████████████████████████████████████████████| 15/15 [00:14<00:00,  1.03it/s, lowest_mse=0.00186, pred_loss=12.4, trigger=0]"
     ]
    },
    {
     "name": "stdout",
     "output_type": "stream",
     "text": [
      "LBFGS Biased\n",
      "The train error is 12.36 for SOAP\n",
      "The test error is 23.16 for SOAP\n"
     ]
    },
    {
     "name": "stderr",
     "output_type": "stream",
     "text": [
      "\n"
     ]
    }
   ],
   "source": [
    "U_L_weights3 , loss_dos, test_loss_dos = normal_reg_train_L(bulk_soap, bulk_dos3,\n",
    "                                                            bulk_biased_train_index, bulk_biased_test_index,\n",
    "                                                            1e-2, 15, 1)\n",
    "print (\"LBFGS Biased\")\n",
    "print (\"The train error is {:.4} for SOAP\".format(loss_dos))\n",
    "print (\"The test error is {:.4} for SOAP\".format(test_loss_dos))"
   ]
  },
  {
   "cell_type": "markdown",
   "id": "f9e06644",
   "metadata": {},
   "source": [
    "#### Bulk - 0.1 SOAP"
   ]
  },
  {
   "cell_type": "code",
   "execution_count": 413,
   "id": "51a13fac",
   "metadata": {
    "ExecuteTime": {
     "end_time": "2023-04-25T23:03:30.467634Z",
     "start_time": "2023-04-25T23:03:15.161262Z"
    }
   },
   "outputs": [
    {
     "name": "stderr",
     "output_type": "stream",
     "text": [
      "Epoch: 14: 100%|█████████████████████████████████████████████████████████████████████████████████████████████████████████████████████| 15/15 [00:15<00:00,  1.02s/it, lowest_mse=0.0166, pred_loss=32.8, trigger=0]"
     ]
    },
    {
     "name": "stdout",
     "output_type": "stream",
     "text": [
      "LBFGS Unbiased\n",
      "The train error is 32.48 for SOAP\n",
      "The test error is 38.2 for SOAP\n"
     ]
    },
    {
     "name": "stderr",
     "output_type": "stream",
     "text": [
      "\n"
     ]
    }
   ],
   "source": [
    "U_L_weights3 , loss_dos, test_loss_dos = normal_reg_train_L(bulk_soap, bulk_dos1,\n",
    "                                                            bulk_train_index, bulk_test_index,\n",
    "                                                            1e-2, 15, 1)\n",
    "print (\"LBFGS Unbiased\")\n",
    "print (\"The train error is {:.4} for SOAP\".format(loss_dos))\n",
    "print (\"The test error is {:.4} for SOAP\".format(test_loss_dos))"
   ]
  },
  {
   "cell_type": "code",
   "execution_count": 414,
   "id": "d20d57b0",
   "metadata": {
    "ExecuteTime": {
     "end_time": "2023-04-25T23:03:45.115895Z",
     "start_time": "2023-04-25T23:03:30.470493Z"
    }
   },
   "outputs": [
    {
     "name": "stderr",
     "output_type": "stream",
     "text": [
      "Epoch: 14: 100%|█████████████████████████████████████████████████████████████████████████████████████████████████████████████████████| 15/15 [00:14<00:00,  1.03it/s, lowest_mse=0.0169, pred_loss=31.8, trigger=0]"
     ]
    },
    {
     "name": "stdout",
     "output_type": "stream",
     "text": [
      "LBFGS Biased\n",
      "The train error is 31.54 for SOAP\n",
      "The test error is 44.99 for SOAP\n"
     ]
    },
    {
     "name": "stderr",
     "output_type": "stream",
     "text": [
      "\n"
     ]
    }
   ],
   "source": [
    "U_L_weights3 , loss_dos, test_loss_dos = normal_reg_train_L(bulk_soap, bulk_dos1,\n",
    "                                                            bulk_biased_train_index, bulk_biased_test_index,\n",
    "                                                            1e-2, 15, 1)\n",
    "print (\"LBFGS Biased\")\n",
    "print (\"The train error is {:.4} for SOAP\".format(loss_dos))\n",
    "print (\"The test error is {:.4} for SOAP\".format(test_loss_dos))"
   ]
  },
  {
   "cell_type": "markdown",
   "id": "9dcb1d3c",
   "metadata": {},
   "source": [
    "#### Bulk - 0.3 Kernel"
   ]
  },
  {
   "cell_type": "code",
   "execution_count": 415,
   "id": "999e7de5",
   "metadata": {
    "ExecuteTime": {
     "end_time": "2023-04-25T23:03:54.041627Z",
     "start_time": "2023-04-25T23:03:45.117698Z"
    }
   },
   "outputs": [
    {
     "name": "stderr",
     "output_type": "stream",
     "text": [
      "Epoch: 14: 100%|████████████████████████████████████████████████████████████████████████████████████████████████████████████████████| 15/15 [00:08<00:00,  1.69it/s, lowest_mse=0.00421, pred_loss=19.4, trigger=0]"
     ]
    },
    {
     "name": "stdout",
     "output_type": "stream",
     "text": [
      "LBFGS Unbiased\n",
      "The train error is 19.42 for Kernel\n",
      "The test error is 20.25 for Kernel\n"
     ]
    },
    {
     "name": "stderr",
     "output_type": "stream",
     "text": [
      "\n"
     ]
    }
   ],
   "source": [
    "U_L_weights3 , loss_dos, test_loss_dos = kernel_reg_train_L(bulk_kernel_200, bulk_dos3,\n",
    "                                                            bulk_train_index, bulk_test_index,\n",
    "                                                            bulk_kMM_200, 1e-1, 15, 1)\n",
    "print (\"LBFGS Unbiased\")\n",
    "print (\"The train error is {:.4} for Kernel\".format(loss_dos))\n",
    "print (\"The test error is {:.4} for Kernel\".format(test_loss_dos))"
   ]
  },
  {
   "cell_type": "code",
   "execution_count": 416,
   "id": "e6972dad",
   "metadata": {
    "ExecuteTime": {
     "end_time": "2023-04-25T23:03:59.313861Z",
     "start_time": "2023-04-25T23:03:54.043532Z"
    }
   },
   "outputs": [
    {
     "name": "stderr",
     "output_type": "stream",
     "text": [
      "Epoch: 14: 100%|████████████████████████████████████████████████████████████████████████████████████████████████████████████████████| 15/15 [00:05<00:00,  2.86it/s, lowest_mse=0.00529, pred_loss=20.9, trigger=0]"
     ]
    },
    {
     "name": "stdout",
     "output_type": "stream",
     "text": [
      "LBFGS Biased\n",
      "The train error is 20.88 for Kernel\n",
      "The test error is 28.45 for Kernel\n"
     ]
    },
    {
     "name": "stderr",
     "output_type": "stream",
     "text": [
      "\n"
     ]
    }
   ],
   "source": [
    "U_L_weights3 , loss_dos, test_loss_dos = kernel_reg_train_L(bulk_kernel_100, bulk_dos3,\n",
    "                                                            bulk_biased_train_index, bulk_biased_test_index,\n",
    "                                                            bulk_kMM_100, 1e-1, 15, 1)\n",
    "print (\"LBFGS Biased\")\n",
    "print (\"The train error is {:.4} for Kernel\".format(loss_dos))\n",
    "print (\"The test error is {:.4} for Kernel\".format(test_loss_dos))"
   ]
  },
  {
   "cell_type": "markdown",
   "id": "ca5fc993",
   "metadata": {},
   "source": [
    "#### Bulk - 0.1 Kernel"
   ]
  },
  {
   "cell_type": "code",
   "execution_count": 417,
   "id": "41011dc4",
   "metadata": {
    "ExecuteTime": {
     "end_time": "2023-04-25T23:04:06.019276Z",
     "start_time": "2023-04-25T23:03:59.315761Z"
    }
   },
   "outputs": [
    {
     "name": "stderr",
     "output_type": "stream",
     "text": [
      "Epoch: 14: 100%|█████████████████████████████████████████████████████████████████████████████████████████████████████████████████████| 15/15 [00:06<00:00,  2.25it/s, lowest_mse=0.0245, pred_loss=39.9, trigger=0]"
     ]
    },
    {
     "name": "stdout",
     "output_type": "stream",
     "text": [
      "LBFGS Unbiased\n",
      "The train error is 39.86 for Kernel\n",
      "The test error is 41.38 for Kernel\n"
     ]
    },
    {
     "name": "stderr",
     "output_type": "stream",
     "text": [
      "\n"
     ]
    }
   ],
   "source": [
    "U_L_weights3 , loss_dos, test_loss_dos = kernel_reg_train_L(bulk_kernel_200, bulk_dos1,\n",
    "                                                            bulk_train_index, bulk_test_index,\n",
    "                                                            bulk_kMM_200, 1e-1, 15, 1)\n",
    "print (\"LBFGS Unbiased\")\n",
    "print (\"The train error is {:.4} for Kernel\".format(loss_dos))\n",
    "print (\"The test error is {:.4} for Kernel\".format(test_loss_dos))"
   ]
  },
  {
   "cell_type": "code",
   "execution_count": 418,
   "id": "68d6f740",
   "metadata": {
    "ExecuteTime": {
     "end_time": "2023-04-25T23:04:11.269569Z",
     "start_time": "2023-04-25T23:04:06.022046Z"
    }
   },
   "outputs": [
    {
     "name": "stderr",
     "output_type": "stream",
     "text": [
      "Epoch: 14: 100%|█████████████████████████████████████████████████████████████████████████████████████████████████████████████████████| 15/15 [00:05<00:00,  2.87it/s, lowest_mse=0.0278, pred_loss=40.7, trigger=0]"
     ]
    },
    {
     "name": "stdout",
     "output_type": "stream",
     "text": [
      "LBFGS Biased\n",
      "The train error is 40.71 for Kernel\n",
      "The test error is 50.18 for Kernel\n"
     ]
    },
    {
     "name": "stderr",
     "output_type": "stream",
     "text": [
      "\n"
     ]
    }
   ],
   "source": [
    "U_L_weights3 , loss_dos, test_loss_dos = kernel_reg_train_L(bulk_kernel_100, bulk_dos1,\n",
    "                                                            bulk_biased_train_index, bulk_biased_test_index,\n",
    "                                                            bulk_kMM_100, 1e-1, 15, 1)\n",
    "print (\"LBFGS Biased\")\n",
    "print (\"The train error is {:.4} for Kernel\".format(loss_dos))\n",
    "print (\"The test error is {:.4} for Kernel\".format(test_loss_dos))"
   ]
  },
  {
   "cell_type": "markdown",
   "id": "bb6aa0a2",
   "metadata": {},
   "source": [
    "### Total"
   ]
  },
  {
   "cell_type": "markdown",
   "id": "b497021c",
   "metadata": {
    "ExecuteTime": {
     "end_time": "2023-04-21T18:33:22.704894Z",
     "start_time": "2023-04-21T18:33:22.704881Z"
    }
   },
   "source": [
    "#### Total - 0.3 SOAP"
   ]
  },
  {
   "cell_type": "code",
   "execution_count": 419,
   "id": "4b122ad0",
   "metadata": {
    "ExecuteTime": {
     "end_time": "2023-04-25T23:04:24.828471Z",
     "start_time": "2023-04-25T23:04:11.271456Z"
    }
   },
   "outputs": [
    {
     "name": "stderr",
     "output_type": "stream",
     "text": [
      "Epoch: 14: 100%|████████████████████████████████████████████████████████████████████████████████████████████████████████████████████| 15/15 [00:13<00:00,  1.11it/s, lowest_mse=0.00532, pred_loss=19.5, trigger=0]"
     ]
    },
    {
     "name": "stdout",
     "output_type": "stream",
     "text": [
      "LBFGS Unbiased\n",
      "The train error is 19.46 for SOAP\n",
      "The test error is 23.15 for SOAP\n"
     ]
    },
    {
     "name": "stderr",
     "output_type": "stream",
     "text": [
      "\n"
     ]
    }
   ],
   "source": [
    "U_L_weights3 , loss_dos, test_loss_dos = normal_reg_train_L(total_soap, total_dos3,\n",
    "                                                            total_train_index, total_test_index,\n",
    "                                                            1e-2, 15, 1)\n",
    "print (\"LBFGS Unbiased\")\n",
    "print (\"The train error is {:.4} for SOAP\".format(loss_dos))\n",
    "print (\"The test error is {:.4} for SOAP\".format(test_loss_dos))"
   ]
  },
  {
   "cell_type": "code",
   "execution_count": 420,
   "id": "ca5c3958",
   "metadata": {
    "ExecuteTime": {
     "end_time": "2023-04-25T23:04:37.346755Z",
     "start_time": "2023-04-25T23:04:24.831004Z"
    }
   },
   "outputs": [
    {
     "name": "stderr",
     "output_type": "stream",
     "text": [
      "Epoch: 14: 100%|████████████████████████████████████████████████████████████████████████████████████████████████████████████████████| 15/15 [00:12<00:00,  1.20it/s, lowest_mse=0.00531, pred_loss=18.6, trigger=0]"
     ]
    },
    {
     "name": "stdout",
     "output_type": "stream",
     "text": [
      "LBFGS Biased\n",
      "The train error is 18.33 for SOAP\n",
      "The test error is 28.4 for SOAP\n"
     ]
    },
    {
     "name": "stderr",
     "output_type": "stream",
     "text": [
      "\n"
     ]
    }
   ],
   "source": [
    "U_L_weights3 , loss_dos, test_loss_dos = normal_reg_train_L(total_soap, total_dos3,\n",
    "                                                            total_biased_train_index, total_biased_test_index,\n",
    "                                                            1e-2, 15, 1)\n",
    "print (\"LBFGS Biased\")\n",
    "print (\"The train error is {:.4} for SOAP\".format(loss_dos))\n",
    "print (\"The test error is {:.4} for SOAP\".format(test_loss_dos))"
   ]
  },
  {
   "cell_type": "code",
   "execution_count": 421,
   "id": "8548e05c",
   "metadata": {
    "ExecuteTime": {
     "end_time": "2023-04-25T23:04:49.869413Z",
     "start_time": "2023-04-25T23:04:37.348678Z"
    }
   },
   "outputs": [
    {
     "name": "stderr",
     "output_type": "stream",
     "text": [
      "Epoch: 14: 100%|█████████████████████████████████████████████████████████████████████████████████████████████████████████████████████| 15/15 [00:12<00:00,  1.20it/s, lowest_mse=0.0043, pred_loss=17.7, trigger=0]"
     ]
    },
    {
     "name": "stdout",
     "output_type": "stream",
     "text": [
      "LBFGS Holdout\n",
      "The train error is 17.68 for SOAP\n",
      "The test error is 32.62 for SOAP\n"
     ]
    },
    {
     "name": "stderr",
     "output_type": "stream",
     "text": [
      "\n"
     ]
    }
   ],
   "source": [
    "U_L_weights3 , loss_dos, test_loss_dos = normal_reg_train_L(total_soap, total_dos3,\n",
    "                                                            holdout_train_index, holdout_test_index,\n",
    "                                                            1e-2, 15, 1)\n",
    "print (\"LBFGS Holdout\")\n",
    "print (\"The train error is {:.4} for SOAP\".format(loss_dos))\n",
    "print (\"The test error is {:.4} for SOAP\".format(test_loss_dos))"
   ]
  },
  {
   "cell_type": "markdown",
   "id": "7adccd1f",
   "metadata": {},
   "source": [
    "#### Total - 0.1 SOAP"
   ]
  },
  {
   "cell_type": "code",
   "execution_count": 422,
   "id": "2102e544",
   "metadata": {
    "ExecuteTime": {
     "end_time": "2023-04-25T23:05:03.839603Z",
     "start_time": "2023-04-25T23:04:49.871513Z"
    }
   },
   "outputs": [
    {
     "name": "stderr",
     "output_type": "stream",
     "text": [
      "Epoch: 14: 100%|█████████████████████████████████████████████████████████████████████████████████████████████████████████████████████| 15/15 [00:13<00:00,  1.08it/s, lowest_mse=0.0208, pred_loss=33.7, trigger=0]"
     ]
    },
    {
     "name": "stdout",
     "output_type": "stream",
     "text": [
      "LBFGS Unbiased\n",
      "The train error is 33.45 for SOAP\n",
      "The test error is 37.42 for SOAP\n"
     ]
    },
    {
     "name": "stderr",
     "output_type": "stream",
     "text": [
      "\n"
     ]
    }
   ],
   "source": [
    "U_L_weights3 , loss_dos, test_loss_dos = normal_reg_train_L(total_soap, total_dos1,\n",
    "                                                            total_train_index, total_test_index,\n",
    "                                                            1e-2, 15, 1)\n",
    "print (\"LBFGS Unbiased\")\n",
    "print (\"The train error is {:.4} for SOAP\".format(loss_dos))\n",
    "print (\"The test error is {:.4} for SOAP\".format(test_loss_dos))"
   ]
  },
  {
   "cell_type": "code",
   "execution_count": 423,
   "id": "b1a96b44",
   "metadata": {
    "ExecuteTime": {
     "end_time": "2023-04-25T23:05:16.400703Z",
     "start_time": "2023-04-25T23:05:03.841578Z"
    }
   },
   "outputs": [
    {
     "name": "stderr",
     "output_type": "stream",
     "text": [
      "Epoch: 14: 100%|█████████████████████████████████████████████████████████████████████████████████████████████████████████████████████| 15/15 [00:12<00:00,  1.20it/s, lowest_mse=0.0212, pred_loss=32.6, trigger=0]"
     ]
    },
    {
     "name": "stdout",
     "output_type": "stream",
     "text": [
      "LBFGS Biased\n",
      "The train error is 32.42 for SOAP\n",
      "The test error is 43.5 for SOAP\n"
     ]
    },
    {
     "name": "stderr",
     "output_type": "stream",
     "text": [
      "\n"
     ]
    }
   ],
   "source": [
    "U_L_weights3 , loss_dos, test_loss_dos = normal_reg_train_L(total_soap, total_dos1,\n",
    "                                                            total_biased_train_index, total_biased_test_index,\n",
    "                                                            1e-2, 15, 1)\n",
    "print (\"LBFGS Biased\")\n",
    "print (\"The train error is {:.4} for SOAP\".format(loss_dos))\n",
    "print (\"The test error is {:.4} for SOAP\".format(test_loss_dos))"
   ]
  },
  {
   "cell_type": "code",
   "execution_count": 424,
   "id": "1723f4a1",
   "metadata": {
    "ExecuteTime": {
     "end_time": "2023-04-25T23:05:29.058502Z",
     "start_time": "2023-04-25T23:05:16.402792Z"
    }
   },
   "outputs": [
    {
     "name": "stderr",
     "output_type": "stream",
     "text": [
      "Epoch: 14: 100%|█████████████████████████████████████████████████████████████████████████████████████████████████████████████████████| 15/15 [00:12<00:00,  1.19it/s, lowest_mse=0.0199, pred_loss=33.1, trigger=0]"
     ]
    },
    {
     "name": "stdout",
     "output_type": "stream",
     "text": [
      "LBFGS Holdout\n",
      "The train error is 32.88 for SOAP\n",
      "The test error is 42.94 for SOAP\n"
     ]
    },
    {
     "name": "stderr",
     "output_type": "stream",
     "text": [
      "\n"
     ]
    }
   ],
   "source": [
    "U_L_weights3 , loss_dos, test_loss_dos = normal_reg_train_L(total_soap, total_dos1,\n",
    "                                                            holdout_train_index, holdout_test_index,\n",
    "                                                            1e-2, 15, 1)\n",
    "print (\"LBFGS Holdout\")\n",
    "print (\"The train error is {:.4} for SOAP\".format(loss_dos))\n",
    "print (\"The test error is {:.4} for SOAP\".format(test_loss_dos))"
   ]
  },
  {
   "cell_type": "markdown",
   "id": "248c0587",
   "metadata": {},
   "source": [
    "#### Total - 0.3 Kernel "
   ]
  },
  {
   "cell_type": "code",
   "execution_count": 425,
   "id": "62014545",
   "metadata": {
    "ExecuteTime": {
     "end_time": "2023-04-25T23:05:35.414840Z",
     "start_time": "2023-04-25T23:05:29.060442Z"
    }
   },
   "outputs": [
    {
     "name": "stderr",
     "output_type": "stream",
     "text": [
      "Epoch: 14: 100%|█████████████████████████████████████████████████████████████████████████████████████████████████████████████████████| 15/15 [00:06<00:00,  2.37it/s, lowest_mse=0.0101, pred_loss=26.8, trigger=0]"
     ]
    },
    {
     "name": "stdout",
     "output_type": "stream",
     "text": [
      "LBFGS Unbiased\n",
      "The train error is 26.83 for Kernel\n",
      "The test error is 29.08 for Kernel\n"
     ]
    },
    {
     "name": "stderr",
     "output_type": "stream",
     "text": [
      "\n"
     ]
    }
   ],
   "source": [
    "U_L_weights3 , loss_dos, test_loss_dos = kernel_reg_train_L(total_kernel_150, total_dos3,\n",
    "                                                            total_train_index, total_test_index,\n",
    "                                                            total_kMM_150, 1e-2, 15, 1)\n",
    "print (\"LBFGS Unbiased\")\n",
    "print (\"The train error is {:.4} for Kernel\".format(loss_dos))\n",
    "print (\"The test error is {:.4} for Kernel\".format(test_loss_dos))"
   ]
  },
  {
   "cell_type": "code",
   "execution_count": 426,
   "id": "fbe4dd0b",
   "metadata": {
    "ExecuteTime": {
     "end_time": "2023-04-25T23:05:41.742704Z",
     "start_time": "2023-04-25T23:05:35.416789Z"
    }
   },
   "outputs": [
    {
     "name": "stderr",
     "output_type": "stream",
     "text": [
      "Epoch: 14: 100%|██████████████████████████████████████████████████████████████████████████████████████████████████████████████████████| 15/15 [00:06<00:00,  2.38it/s, lowest_mse=0.011, pred_loss=26.8, trigger=0]"
     ]
    },
    {
     "name": "stdout",
     "output_type": "stream",
     "text": [
      "LBFGS Biased\n",
      "The train error is 26.82 for Kernel\n",
      "The test error is 35.53 for Kernel\n"
     ]
    },
    {
     "name": "stderr",
     "output_type": "stream",
     "text": [
      "\n"
     ]
    }
   ],
   "source": [
    "U_L_weights3 , loss_dos, test_loss_dos = kernel_reg_train_L(total_kernel_150, total_dos3,\n",
    "                                                            total_biased_train_index, total_biased_test_index,\n",
    "                                                            total_kMM_150, 1e-2, 15, 1)\n",
    "print (\"LBFGS Biased\")\n",
    "print (\"The train error is {:.4} for Kernel\".format(loss_dos))\n",
    "print (\"The test error is {:.4} for Kernel\".format(test_loss_dos))"
   ]
  },
  {
   "cell_type": "code",
   "execution_count": 427,
   "id": "9ddfb679",
   "metadata": {
    "ExecuteTime": {
     "end_time": "2023-04-25T23:05:47.518889Z",
     "start_time": "2023-04-25T23:05:41.744538Z"
    }
   },
   "outputs": [
    {
     "name": "stderr",
     "output_type": "stream",
     "text": [
      "Epoch: 14: 100%|████████████████████████████████████████████████████████████████████████████████████████████████████████████████████| 15/15 [00:05<00:00,  2.61it/s, lowest_mse=0.00805, pred_loss=24.2, trigger=0]"
     ]
    },
    {
     "name": "stdout",
     "output_type": "stream",
     "text": [
      "LBFGS Holdout\n",
      "The train error is 24.19 for Kernel\n",
      "The test error is 37.8 for Kernel\n"
     ]
    },
    {
     "name": "stderr",
     "output_type": "stream",
     "text": [
      "\n"
     ]
    }
   ],
   "source": [
    "U_L_weights3 , loss_dos, test_loss_dos = kernel_reg_train_L(total_kernel_100, total_dos3,\n",
    "                                                            holdout_train_index, holdout_test_index,\n",
    "                                                            total_kMM_100, 1e-2, 15, 1)\n",
    "print (\"LBFGS Holdout\")\n",
    "print (\"The train error is {:.4} for Kernel\".format(loss_dos))\n",
    "print (\"The test error is {:.4} for Kernel\".format(test_loss_dos))"
   ]
  },
  {
   "cell_type": "markdown",
   "id": "376f819e",
   "metadata": {},
   "source": [
    "#### Total - 0.1 Kernel"
   ]
  },
  {
   "cell_type": "code",
   "execution_count": 428,
   "id": "28ecfe83",
   "metadata": {
    "ExecuteTime": {
     "end_time": "2023-04-25T23:05:56.014755Z",
     "start_time": "2023-04-25T23:05:47.525862Z"
    }
   },
   "outputs": [
    {
     "name": "stderr",
     "output_type": "stream",
     "text": [
      "Epoch: 14: 100%|█████████████████████████████████████████████████████████████████████████████████████████████████████████████████████| 15/15 [00:08<00:00,  1.77it/s, lowest_mse=0.0288, pred_loss=39.6, trigger=0]"
     ]
    },
    {
     "name": "stdout",
     "output_type": "stream",
     "text": [
      "LBFGS Unbiased\n",
      "The train error is 39.06 for Kernel\n",
      "The test error is 40.75 for Kernel\n"
     ]
    },
    {
     "name": "stderr",
     "output_type": "stream",
     "text": [
      "\n"
     ]
    }
   ],
   "source": [
    "U_L_weights3 , loss_dos, test_loss_dos = kernel_reg_train_L(total_kernel_150, total_dos1,\n",
    "                                                            total_train_index, total_test_index,\n",
    "                                                            total_kMM_150, 1e-1, 15, 1)\n",
    "print (\"LBFGS Unbiased\")\n",
    "print (\"The train error is {:.4} for Kernel\".format(loss_dos))\n",
    "print (\"The test error is {:.4} for Kernel\".format(test_loss_dos))"
   ]
  },
  {
   "cell_type": "code",
   "execution_count": 429,
   "id": "1210d079",
   "metadata": {
    "ExecuteTime": {
     "end_time": "2023-04-25T23:06:03.917932Z",
     "start_time": "2023-04-25T23:05:56.020471Z"
    }
   },
   "outputs": [
    {
     "name": "stderr",
     "output_type": "stream",
     "text": [
      "Epoch: 14: 100%|█████████████████████████████████████████████████████████████████████████████████████████████████████████████████████| 15/15 [00:07<00:00,  1.91it/s, lowest_mse=0.0306, pred_loss=39.2, trigger=0]"
     ]
    },
    {
     "name": "stdout",
     "output_type": "stream",
     "text": [
      "LBFGS Biased\n",
      "The train error is 39.19 for Kernel\n",
      "The test error is 48.14 for Kernel\n"
     ]
    },
    {
     "name": "stderr",
     "output_type": "stream",
     "text": [
      "\n"
     ]
    }
   ],
   "source": [
    "U_L_weights3 , loss_dos, test_loss_dos = kernel_reg_train_L(total_kernel_150, total_dos1,\n",
    "                                                            total_biased_train_index, total_biased_test_index,\n",
    "                                                            total_kMM_150, 1e-1, 15, 1)\n",
    "print (\"LBFGS Biased\")\n",
    "print (\"The train error is {:.4} for Kernel\".format(loss_dos))\n",
    "print (\"The test error is {:.4} for Kernel\".format(test_loss_dos))"
   ]
  },
  {
   "cell_type": "code",
   "execution_count": 430,
   "id": "1555d10e",
   "metadata": {
    "ExecuteTime": {
     "end_time": "2023-04-25T23:06:10.169402Z",
     "start_time": "2023-04-25T23:06:03.919747Z"
    }
   },
   "outputs": [
    {
     "name": "stderr",
     "output_type": "stream",
     "text": [
      "Epoch: 14: 100%|█████████████████████████████████████████████████████████████████████████████████████████████████████████████████████| 15/15 [00:06<00:00,  2.41it/s, lowest_mse=0.0285, pred_loss=39.6, trigger=0]"
     ]
    },
    {
     "name": "stdout",
     "output_type": "stream",
     "text": [
      "LBFGS Holdout\n",
      "The train error is 39.62 for Kernel\n",
      "The test error is 48.15 for Kernel\n"
     ]
    },
    {
     "name": "stderr",
     "output_type": "stream",
     "text": [
      "\n"
     ]
    }
   ],
   "source": [
    "U_L_weights3 , loss_dos, test_loss_dos = kernel_reg_train_L(total_kernel_150, total_dos1,\n",
    "                                                            holdout_train_index, holdout_test_index,\n",
    "                                                            total_kMM_150, 1e-2, 15, 1)\n",
    "print (\"LBFGS Holdout\")\n",
    "print (\"The train error is {:.4} for Kernel\".format(loss_dos))\n",
    "print (\"The test error is {:.4} for Kernel\".format(test_loss_dos))"
   ]
  },
  {
   "cell_type": "markdown",
   "id": "bffb8135",
   "metadata": {},
   "source": [
    "### Total Aligned"
   ]
  },
  {
   "cell_type": "markdown",
   "id": "98b668c3",
   "metadata": {
    "ExecuteTime": {
     "end_time": "2023-04-21T18:33:22.704894Z",
     "start_time": "2023-04-21T18:33:22.704881Z"
    }
   },
   "source": [
    "#### Total Aligned - 0.3 SOAP"
   ]
  },
  {
   "cell_type": "code",
   "execution_count": 431,
   "id": "cd8c521f",
   "metadata": {
    "ExecuteTime": {
     "end_time": "2023-04-25T23:06:22.319709Z",
     "start_time": "2023-04-25T23:06:10.171144Z"
    }
   },
   "outputs": [
    {
     "name": "stderr",
     "output_type": "stream",
     "text": [
      "Epoch: 14: 100%|████████████████████████████████████████████████████████████████████████████████████████████████████████████████████| 15/15 [00:12<00:00,  1.24it/s, lowest_mse=0.00467, pred_loss=18.6, trigger=0]"
     ]
    },
    {
     "name": "stdout",
     "output_type": "stream",
     "text": [
      "LBFGS Unbiased\n",
      "The train error is 18.56 for SOAP\n",
      "The test error is 22.18 for SOAP\n"
     ]
    },
    {
     "name": "stderr",
     "output_type": "stream",
     "text": [
      "\n"
     ]
    }
   ],
   "source": [
    "U_L_weights3 , loss_dos, test_loss_dos = normal_reg_train_L(total_soap, total_aligned_dos3,\n",
    "                                                            total_train_index, total_test_index,\n",
    "                                                            1e-2, 15, 1)\n",
    "print (\"LBFGS Unbiased\")\n",
    "print (\"The train error is {:.4} for SOAP\".format(loss_dos))\n",
    "print (\"The test error is {:.4} for SOAP\".format(test_loss_dos))"
   ]
  },
  {
   "cell_type": "code",
   "execution_count": 432,
   "id": "37935076",
   "metadata": {
    "ExecuteTime": {
     "end_time": "2023-04-25T23:06:34.268815Z",
     "start_time": "2023-04-25T23:06:22.322253Z"
    }
   },
   "outputs": [
    {
     "name": "stderr",
     "output_type": "stream",
     "text": [
      "Epoch: 14: 100%|████████████████████████████████████████████████████████████████████████████████████████████████████████████████████| 15/15 [00:11<00:00,  1.26it/s, lowest_mse=0.00464, pred_loss=17.7, trigger=0]"
     ]
    },
    {
     "name": "stdout",
     "output_type": "stream",
     "text": [
      "LBFGS Biased\n",
      "The train error is 17.4 for SOAP\n",
      "The test error is 27.59 for SOAP\n"
     ]
    },
    {
     "name": "stderr",
     "output_type": "stream",
     "text": [
      "\n"
     ]
    }
   ],
   "source": [
    "U_L_weights3 , loss_dos, test_loss_dos = normal_reg_train_L(total_soap, total_aligned_dos3,\n",
    "                                                            total_biased_train_index, total_biased_test_index,\n",
    "                                                            1e-2, 15, 1)\n",
    "print (\"LBFGS Biased\")\n",
    "print (\"The train error is {:.4} for SOAP\".format(loss_dos))\n",
    "print (\"The test error is {:.4} for SOAP\".format(test_loss_dos))"
   ]
  },
  {
   "cell_type": "code",
   "execution_count": 433,
   "id": "4aee2095",
   "metadata": {
    "ExecuteTime": {
     "end_time": "2023-04-25T23:06:46.418334Z",
     "start_time": "2023-04-25T23:06:34.270805Z"
    }
   },
   "outputs": [
    {
     "name": "stderr",
     "output_type": "stream",
     "text": [
      "Epoch: 14: 100%|████████████████████████████████████████████████████████████████████████████████████████████████████████████████████| 15/15 [00:12<00:00,  1.24it/s, lowest_mse=0.00408, pred_loss=17.5, trigger=0]"
     ]
    },
    {
     "name": "stdout",
     "output_type": "stream",
     "text": [
      "LBFGS Holdout\n",
      "The train error is 17.22 for SOAP\n",
      "The test error is 30.12 for SOAP\n"
     ]
    },
    {
     "name": "stderr",
     "output_type": "stream",
     "text": [
      "\n"
     ]
    }
   ],
   "source": [
    "U_L_weights3 , loss_dos, test_loss_dos = normal_reg_train_L(total_soap, total_aligned_dos3,\n",
    "                                                            holdout_train_index, holdout_test_index,\n",
    "                                                            1e-2, 15, 1)\n",
    "print (\"LBFGS Holdout\")\n",
    "print (\"The train error is {:.4} for SOAP\".format(loss_dos))\n",
    "print (\"The test error is {:.4} for SOAP\".format(test_loss_dos))"
   ]
  },
  {
   "cell_type": "markdown",
   "id": "82c69c9f",
   "metadata": {},
   "source": [
    "#### Total Aligned - 0.1 SOAP"
   ]
  },
  {
   "cell_type": "code",
   "execution_count": 434,
   "id": "4ffc5db7",
   "metadata": {
    "ExecuteTime": {
     "end_time": "2023-04-25T23:07:28.091579Z",
     "start_time": "2023-04-25T23:06:46.420062Z"
    }
   },
   "outputs": [
    {
     "name": "stderr",
     "output_type": "stream",
     "text": [
      "Epoch: 44: 100%|██████████████████████████████████████████████████████████████████████████████████████████████████████████████████████| 45/45 [00:41<00:00,  1.08it/s, lowest_mse=0.019, pred_loss=32.6, trigger=0]"
     ]
    },
    {
     "name": "stdout",
     "output_type": "stream",
     "text": [
      "LBFGS Unbiased\n",
      "The train error is 32.62 for SOAP\n",
      "The test error is 37.68 for SOAP\n"
     ]
    },
    {
     "name": "stderr",
     "output_type": "stream",
     "text": [
      "\n"
     ]
    }
   ],
   "source": [
    "U_L_weights3 , loss_dos, test_loss_dos = normal_reg_train_L(total_soap, total_aligned_dos1,\n",
    "                                                            total_train_index, total_test_index,\n",
    "                                                            1e-2, 45, 1)\n",
    "print (\"LBFGS Unbiased\")\n",
    "print (\"The train error is {:.4} for SOAP\".format(loss_dos))\n",
    "print (\"The test error is {:.4} for SOAP\".format(test_loss_dos))"
   ]
  },
  {
   "cell_type": "code",
   "execution_count": 435,
   "id": "9234d90e",
   "metadata": {
    "ExecuteTime": {
     "end_time": "2023-04-25T23:07:39.930789Z",
     "start_time": "2023-04-25T23:07:28.094168Z"
    }
   },
   "outputs": [
    {
     "name": "stderr",
     "output_type": "stream",
     "text": [
      "Epoch: 14: 100%|█████████████████████████████████████████████████████████████████████████████████████████████████████████████████████| 15/15 [00:11<00:00,  1.27it/s, lowest_mse=0.0205, pred_loss=32.5, trigger=0]"
     ]
    },
    {
     "name": "stdout",
     "output_type": "stream",
     "text": [
      "LBFGS Biased\n",
      "The train error is 32.39 for SOAP\n",
      "The test error is 43.29 for SOAP\n"
     ]
    },
    {
     "name": "stderr",
     "output_type": "stream",
     "text": [
      "\n"
     ]
    }
   ],
   "source": [
    "U_L_weights3 , loss_dos, test_loss_dos = normal_reg_train_L(total_soap, total_aligned_dos1,\n",
    "                                                            total_biased_train_index, total_biased_test_index,\n",
    "                                                            1e-2, 15, 1)\n",
    "print (\"LBFGS Biased\")\n",
    "print (\"The train error is {:.4} for SOAP\".format(loss_dos))\n",
    "print (\"The test error is {:.4} for SOAP\".format(test_loss_dos))"
   ]
  },
  {
   "cell_type": "code",
   "execution_count": 436,
   "id": "336d5bdf",
   "metadata": {
    "ExecuteTime": {
     "end_time": "2023-04-25T23:07:51.758495Z",
     "start_time": "2023-04-25T23:07:39.932525Z"
    }
   },
   "outputs": [
    {
     "name": "stderr",
     "output_type": "stream",
     "text": [
      "Epoch: 14: 100%|█████████████████████████████████████████████████████████████████████████████████████████████████████████████████████| 15/15 [00:11<00:00,  1.27it/s, lowest_mse=0.0196, pred_loss=33.2, trigger=0]"
     ]
    },
    {
     "name": "stdout",
     "output_type": "stream",
     "text": [
      "LBFGS Holdout\n",
      "The train error is 33.07 for SOAP\n",
      "The test error is 42.03 for SOAP\n"
     ]
    },
    {
     "name": "stderr",
     "output_type": "stream",
     "text": [
      "\n"
     ]
    }
   ],
   "source": [
    "U_L_weights3 , loss_dos, test_loss_dos = normal_reg_train_L(total_soap, total_aligned_dos1,\n",
    "                                                            holdout_train_index, holdout_test_index,\n",
    "                                                            1e-2, 15, 1)\n",
    "print (\"LBFGS Holdout\")\n",
    "print (\"The train error is {:.4} for SOAP\".format(loss_dos))\n",
    "print (\"The test error is {:.4} for SOAP\".format(test_loss_dos))"
   ]
  },
  {
   "cell_type": "markdown",
   "id": "22a63045",
   "metadata": {},
   "source": [
    "#### Total Aligned - 0.3 Kernel "
   ]
  },
  {
   "cell_type": "code",
   "execution_count": 437,
   "id": "defe5d58",
   "metadata": {
    "ExecuteTime": {
     "end_time": "2023-04-25T23:07:57.290180Z",
     "start_time": "2023-04-25T23:07:51.760215Z"
    }
   },
   "outputs": [
    {
     "name": "stderr",
     "output_type": "stream",
     "text": [
      "Epoch: 14: 100%|████████████████████████████████████████████████████████████████████████████████████████████████████████████████████| 15/15 [00:05<00:00,  2.73it/s, lowest_mse=0.00954, pred_loss=26.5, trigger=0]"
     ]
    },
    {
     "name": "stdout",
     "output_type": "stream",
     "text": [
      "LBFGS Unbiased\n",
      "The train error is 26.52 for Kernel\n",
      "The test error is 28.03 for Kernel\n"
     ]
    },
    {
     "name": "stderr",
     "output_type": "stream",
     "text": [
      "\n"
     ]
    }
   ],
   "source": [
    "U_L_weights3 , loss_dos, test_loss_dos = kernel_reg_train_L(total_kernel_150, total_aligned_dos3,\n",
    "                                                            total_train_index, total_test_index,\n",
    "                                                            total_kMM_150, 1e-2, 15, 1)\n",
    "print (\"LBFGS Unbiased\")\n",
    "print (\"The train error is {:.4} for Kernel\".format(loss_dos))\n",
    "print (\"The test error is {:.4} for Kernel\".format(test_loss_dos))"
   ]
  },
  {
   "cell_type": "code",
   "execution_count": 438,
   "id": "dd46b81c",
   "metadata": {
    "ExecuteTime": {
     "end_time": "2023-04-25T23:08:03.692993Z",
     "start_time": "2023-04-25T23:07:57.291911Z"
    }
   },
   "outputs": [
    {
     "name": "stderr",
     "output_type": "stream",
     "text": [
      "Epoch: 14: 100%|████████████████████████████████████████████████████████████████████████████████████████████████████████████████████| 15/15 [00:06<00:00,  2.35it/s, lowest_mse=0.00919, pred_loss=24.9, trigger=0]"
     ]
    },
    {
     "name": "stdout",
     "output_type": "stream",
     "text": [
      "LBFGS Biased\n",
      "The train error is 24.91 for Kernel\n",
      "The test error is 34.07 for Kernel\n"
     ]
    },
    {
     "name": "stderr",
     "output_type": "stream",
     "text": [
      "\n"
     ]
    }
   ],
   "source": [
    "U_L_weights3 , loss_dos, test_loss_dos = kernel_reg_train_L(total_kernel_150, total_aligned_dos3,\n",
    "                                                            total_biased_train_index, total_biased_test_index,\n",
    "                                                            total_kMM_150, 1e-2, 15, 1)\n",
    "print (\"LBFGS Biased\")\n",
    "print (\"The train error is {:.4} for Kernel\".format(loss_dos))\n",
    "print (\"The test error is {:.4} for Kernel\".format(test_loss_dos))"
   ]
  },
  {
   "cell_type": "code",
   "execution_count": 439,
   "id": "53cb353f",
   "metadata": {
    "ExecuteTime": {
     "end_time": "2023-04-25T23:08:10.435778Z",
     "start_time": "2023-04-25T23:08:03.694844Z"
    }
   },
   "outputs": [
    {
     "name": "stderr",
     "output_type": "stream",
     "text": [
      "Epoch: 14: 100%|██████████████████████████████████████████████████████████████████████████████████████████████████████████████████████| 15/15 [00:06<00:00,  2.23it/s, lowest_mse=0.00773, pred_loss=24, trigger=0]"
     ]
    },
    {
     "name": "stdout",
     "output_type": "stream",
     "text": [
      "LBFGS Holdout\n",
      "The train error is 24.02 for Kernel\n",
      "The test error is 35.6 for Kernel\n"
     ]
    },
    {
     "name": "stderr",
     "output_type": "stream",
     "text": [
      "\n"
     ]
    }
   ],
   "source": [
    "U_L_weights3 , loss_dos, test_loss_dos = kernel_reg_train_L(total_kernel_100, total_aligned_dos3,\n",
    "                                                            holdout_train_index, holdout_test_index,\n",
    "                                                            total_kMM_100, 1e-2, 15, 1)\n",
    "print (\"LBFGS Holdout\")\n",
    "print (\"The train error is {:.4} for Kernel\".format(loss_dos))\n",
    "print (\"The test error is {:.4} for Kernel\".format(test_loss_dos))"
   ]
  },
  {
   "cell_type": "markdown",
   "id": "b37a8e59",
   "metadata": {},
   "source": [
    "#### Total Aligned - 0.1 Kernel"
   ]
  },
  {
   "cell_type": "code",
   "execution_count": 440,
   "id": "9185059d",
   "metadata": {
    "ExecuteTime": {
     "end_time": "2023-04-25T23:08:15.951665Z",
     "start_time": "2023-04-25T23:08:10.437513Z"
    }
   },
   "outputs": [
    {
     "name": "stderr",
     "output_type": "stream",
     "text": [
      "Epoch: 14: 100%|██████████████████████████████████████████████████████████████████████████████████████████████████████████████████████| 15/15 [00:05<00:00,  2.73it/s, lowest_mse=0.029, pred_loss=40.3, trigger=0]"
     ]
    },
    {
     "name": "stdout",
     "output_type": "stream",
     "text": [
      "LBFGS Unbiased\n",
      "The train error is 40.3 for Kernel\n",
      "The test error is 42.13 for Kernel\n"
     ]
    },
    {
     "name": "stderr",
     "output_type": "stream",
     "text": [
      "\n"
     ]
    }
   ],
   "source": [
    "U_L_weights3 , loss_dos, test_loss_dos = kernel_reg_train_L(total_kernel_150, total_aligned_dos1,\n",
    "                                                            total_train_index, total_test_index,\n",
    "                                                            total_kMM_150, 1e-1, 15, 1)\n",
    "print (\"LBFGS Unbiased\")\n",
    "print (\"The train error is {:.4} for Kernel\".format(loss_dos))\n",
    "print (\"The test error is {:.4} for Kernel\".format(test_loss_dos))"
   ]
  },
  {
   "cell_type": "code",
   "execution_count": 441,
   "id": "6b5249e6",
   "metadata": {
    "ExecuteTime": {
     "end_time": "2023-04-25T23:08:23.449503Z",
     "start_time": "2023-04-25T23:08:15.953518Z"
    }
   },
   "outputs": [
    {
     "name": "stderr",
     "output_type": "stream",
     "text": [
      "Epoch: 14: 100%|█████████████████████████████████████████████████████████████████████████████████████████████████████████████████████| 15/15 [00:07<00:00,  2.01it/s, lowest_mse=0.0302, pred_loss=39.5, trigger=0]"
     ]
    },
    {
     "name": "stdout",
     "output_type": "stream",
     "text": [
      "LBFGS Biased\n",
      "The train error is 39.46 for Kernel\n",
      "The test error is 48.59 for Kernel\n"
     ]
    },
    {
     "name": "stderr",
     "output_type": "stream",
     "text": [
      "\n"
     ]
    }
   ],
   "source": [
    "U_L_weights3 , loss_dos, test_loss_dos = kernel_reg_train_L(total_kernel_150, total_aligned_dos1,\n",
    "                                                            total_biased_train_index, total_biased_test_index,\n",
    "                                                            total_kMM_150, 1e-1, 15, 1)\n",
    "print (\"LBFGS Biased\")\n",
    "print (\"The train error is {:.4} for Kernel\".format(loss_dos))\n",
    "print (\"The test error is {:.4} for Kernel\".format(test_loss_dos))"
   ]
  },
  {
   "cell_type": "code",
   "execution_count": 442,
   "id": "97207f95",
   "metadata": {
    "ExecuteTime": {
     "end_time": "2023-04-25T23:08:30.450667Z",
     "start_time": "2023-04-25T23:08:23.451215Z"
    }
   },
   "outputs": [
    {
     "name": "stderr",
     "output_type": "stream",
     "text": [
      "Epoch: 14: 100%|█████████████████████████████████████████████████████████████████████████████████████████████████████████████████████| 15/15 [00:06<00:00,  2.15it/s, lowest_mse=0.0271, pred_loss=39.1, trigger=0]"
     ]
    },
    {
     "name": "stdout",
     "output_type": "stream",
     "text": [
      "LBFGS Holdout\n",
      "The train error is 39.07 for Kernel\n",
      "The test error is 46.51 for Kernel\n"
     ]
    },
    {
     "name": "stderr",
     "output_type": "stream",
     "text": [
      "\n"
     ]
    }
   ],
   "source": [
    "U_L_weights3 , loss_dos, test_loss_dos = kernel_reg_train_L(total_kernel_150, total_aligned_dos1,\n",
    "                                                            holdout_train_index, holdout_test_index,\n",
    "                                                            total_kMM_150, 1e-2, 15, 1)\n",
    "print (\"LBFGS Holdout\")\n",
    "print (\"The train error is {:.4} for Kernel\".format(loss_dos))\n",
    "print (\"The test error is {:.4} for Kernel\".format(test_loss_dos))"
   ]
  },
  {
   "cell_type": "code",
   "execution_count": null,
   "id": "d9c38fa6",
   "metadata": {},
   "outputs": [],
   "source": []
  },
  {
   "cell_type": "code",
   "execution_count": null,
   "id": "4b12673c",
   "metadata": {},
   "outputs": [],
   "source": []
  },
  {
   "cell_type": "code",
   "execution_count": null,
   "id": "34d007f0",
   "metadata": {},
   "outputs": [],
   "source": []
  },
  {
   "cell_type": "markdown",
   "id": "87aeae33",
   "metadata": {
    "heading_collapsed": true
   },
   "source": [
    "# Old stuff "
   ]
  },
  {
   "cell_type": "markdown",
   "id": "875c7fc9",
   "metadata": {
    "hidden": true
   },
   "source": [
    "### 0.1eV Smearing"
   ]
  },
  {
   "cell_type": "code",
   "execution_count": 639,
   "id": "e46a567d",
   "metadata": {
    "ExecuteTime": {
     "end_time": "2023-04-19T15:20:06.840332Z",
     "start_time": "2023-04-19T15:13:19.159062Z"
    },
    "hidden": true,
    "scrolled": true
   },
   "outputs": [
    {
     "name": "stderr",
     "output_type": "stream",
     "text": [
      "Epoch: 1007:  10%|██████████▎                                                                                           | 1007/10000 [03:51<29:40,  5.05it/s, lowest_mse=0.0467, pred_loss=27.5, trigger=0]"
     ]
    },
    {
     "name": "stdout",
     "output_type": "stream",
     "text": [
      "The batch_size is now:  32\n"
     ]
    },
    {
     "name": "stderr",
     "output_type": "stream",
     "text": [
      "Epoch: 1611:  16%|████████████████▍                                                                                     | 1611/10000 [05:05<13:38, 10.25it/s, lowest_mse=0.0466, pred_loss=27.4, trigger=0]"
     ]
    },
    {
     "name": "stdout",
     "output_type": "stream",
     "text": [
      "The batch_size is now:  64\n"
     ]
    },
    {
     "name": "stderr",
     "output_type": "stream",
     "text": [
      "Epoch: 2217:  22%|██████████████████████▌                                                                               | 2216/10000 [05:44<06:42, 19.33it/s, lowest_mse=0.0465, pred_loss=27.4, trigger=0]"
     ]
    },
    {
     "name": "stdout",
     "output_type": "stream",
     "text": [
      "The batch_size is now:  128\n"
     ]
    },
    {
     "name": "stderr",
     "output_type": "stream",
     "text": [
      "Epoch: 2822:  28%|████████████████████████████▊                                                                         | 2820/10000 [06:09<04:08, 28.94it/s, lowest_mse=0.0464, pred_loss=27.4, trigger=0]"
     ]
    },
    {
     "name": "stdout",
     "output_type": "stream",
     "text": [
      "The batch_size is now:  256\n"
     ]
    },
    {
     "name": "stderr",
     "output_type": "stream",
     "text": [
      "Epoch: 3428:  34%|██████████████████████████████████▉                                                                   | 3425/10000 [06:26<02:36, 41.92it/s, lowest_mse=0.0464, pred_loss=27.3, trigger=0]"
     ]
    },
    {
     "name": "stdout",
     "output_type": "stream",
     "text": [
      "The batch_size is now:  512\n"
     ]
    },
    {
     "name": "stderr",
     "output_type": "stream",
     "text": [
      "Epoch: 4032:  40%|█████████████████████████████████████████                                                             | 4025/10000 [06:37<01:54, 52.15it/s, lowest_mse=0.0463, pred_loss=27.3, trigger=0]"
     ]
    },
    {
     "name": "stdout",
     "output_type": "stream",
     "text": [
      "The batch_size is now:  1024\n"
     ]
    },
    {
     "name": "stderr",
     "output_type": "stream",
     "text": [
      "Epoch: 4624:  46%|███████████████████████████████████████████████▏                                                      | 4624/10000 [06:47<07:53, 11.34it/s, lowest_mse=0.0463, pred_loss=27.3, trigger=0]\n"
     ]
    },
    {
     "name": "stdout",
     "output_type": "stream",
     "text": [
      "The batch_size is now:  2048\n",
      "Adam Unbiased\n",
      "The train error is 27.32 for SOAP\n",
      "The test error is 26.9 for SOAP\n"
     ]
    }
   ],
   "source": [
    "weights, loss_dos, test_loss_dos = normal_reg_train_Ad(SOAP, ldos1, train_index, test_index, 1e-3, 10000, 16, 1e-2)\n",
    "print (\"Adam Unbiased\")\n",
    "print (\"The train error is {:.4} for SOAP\".format(loss_dos,m))\n",
    "print (\"The test error is {:.4} for SOAP\".format(test_loss_dos, m))"
   ]
  },
  {
   "cell_type": "code",
   "execution_count": 640,
   "id": "e5d7d8f4",
   "metadata": {
    "ExecuteTime": {
     "end_time": "2023-04-19T15:23:45.712446Z",
     "start_time": "2023-04-19T15:20:06.843730Z"
    },
    "hidden": true
   },
   "outputs": [
    {
     "name": "stderr",
     "output_type": "stream",
     "text": [
      "Epoch: 807:   8%|████████▌                                                                                                 | 807/10000 [01:51<15:39,  9.78it/s, lowest_mse=0.37, pred_loss=77.2, trigger=0]"
     ]
    },
    {
     "name": "stdout",
     "output_type": "stream",
     "text": [
      "The batch_size is now:  32\n"
     ]
    },
    {
     "name": "stderr",
     "output_type": "stream",
     "text": [
      "Epoch: 1413:  14%|██████████████▌                                                                                        | 1412/10000 [02:33<07:57, 17.99it/s, lowest_mse=0.328, pred_loss=72.8, trigger=0]"
     ]
    },
    {
     "name": "stdout",
     "output_type": "stream",
     "text": [
      "The batch_size is now:  64\n"
     ]
    },
    {
     "name": "stderr",
     "output_type": "stream",
     "text": [
      "Epoch: 2018:  20%|████████████████████▊                                                                                  | 2016/10000 [02:58<04:31, 29.43it/s, lowest_mse=0.302, pred_loss=69.8, trigger=0]"
     ]
    },
    {
     "name": "stdout",
     "output_type": "stream",
     "text": [
      "The batch_size is now:  128\n"
     ]
    },
    {
     "name": "stderr",
     "output_type": "stream",
     "text": [
      "Epoch: 2624:  26%|███████████████████████████                                                                            | 2623/10000 [03:13<02:43, 45.14it/s, lowest_mse=0.289, pred_loss=68.3, trigger=0]"
     ]
    },
    {
     "name": "stdout",
     "output_type": "stream",
     "text": [
      "The batch_size is now:  256\n"
     ]
    },
    {
     "name": "stderr",
     "output_type": "stream",
     "text": [
      "Epoch: 3232:  32%|█████████████████████████████████▏                                                                     | 3225/10000 [03:24<01:51, 60.91it/s, lowest_mse=0.281, pred_loss=67.4, trigger=0]"
     ]
    },
    {
     "name": "stdout",
     "output_type": "stream",
     "text": [
      "The batch_size is now:  512\n"
     ]
    },
    {
     "name": "stderr",
     "output_type": "stream",
     "text": [
      "Epoch: 3839:  38%|███████████████████████████████████████▌                                                               | 3836/10000 [03:32<01:12, 85.19it/s, lowest_mse=0.276, pred_loss=66.8, trigger=0]"
     ]
    },
    {
     "name": "stdout",
     "output_type": "stream",
     "text": [
      "The batch_size is now:  1024\n"
     ]
    },
    {
     "name": "stderr",
     "output_type": "stream",
     "text": [
      "Epoch: 4423:  44%|█████████████████████████████████████████████▌                                                         | 4423/10000 [03:38<04:35, 20.21it/s, lowest_mse=0.274, pred_loss=66.4, trigger=0]\n"
     ]
    },
    {
     "name": "stdout",
     "output_type": "stream",
     "text": [
      "The batch_size is now:  2048\n",
      "Adam Unbiased\n",
      "The train error is 66.45 for KERNEL\n",
      "The test error is 66.88 for KERNEL\n"
     ]
    }
   ],
   "source": [
    "A_U_weights_01, loss_dos, test_loss_dos = kernel_reg_train_Ad(KERNEL, ldos1, train_index, test_index, kMM, 1, 10000, 16, 1e-3)\n",
    "\n",
    "print (\"Adam Unbiased\")\n",
    "print (\"The train error is {:.4} for KERNEL\".format(loss_dos,m))\n",
    "print (\"The test error is {:.4} for KERNEL\".format(test_loss_dos, m))"
   ]
  },
  {
   "cell_type": "markdown",
   "id": "aa154931",
   "metadata": {
    "hidden": true
   },
   "source": [
    "## Baseline GD model - Adam -biased"
   ]
  },
  {
   "cell_type": "markdown",
   "id": "d207bcb4",
   "metadata": {
    "hidden": true
   },
   "source": [
    "### 0.3eV Smearing"
   ]
  },
  {
   "cell_type": "code",
   "execution_count": 641,
   "id": "065934ae",
   "metadata": {
    "ExecuteTime": {
     "end_time": "2023-04-19T15:30:17.249479Z",
     "start_time": "2023-04-19T15:23:45.714775Z"
    },
    "hidden": true
   },
   "outputs": [
    {
     "name": "stderr",
     "output_type": "stream",
     "text": [
      "Epoch: 1007:  10%|██████████▏                                                                                          | 1007/10000 [03:39<32:13,  4.65it/s, lowest_mse=0.00615, pred_loss=12.9, trigger=0]"
     ]
    },
    {
     "name": "stdout",
     "output_type": "stream",
     "text": [
      "The batch_size is now:  32\n"
     ]
    },
    {
     "name": "stderr",
     "output_type": "stream",
     "text": [
      "Epoch: 1612:  16%|████████████████▎                                                                                    | 1611/10000 [04:51<12:49, 10.90it/s, lowest_mse=0.00613, pred_loss=12.8, trigger=0]"
     ]
    },
    {
     "name": "stdout",
     "output_type": "stream",
     "text": [
      "The batch_size is now:  64\n"
     ]
    },
    {
     "name": "stderr",
     "output_type": "stream",
     "text": [
      "Epoch: 2217:  22%|██████████████████████▌                                                                               | 2215/10000 [05:30<06:57, 18.64it/s, lowest_mse=0.0061, pred_loss=12.8, trigger=0]"
     ]
    },
    {
     "name": "stdout",
     "output_type": "stream",
     "text": [
      "The batch_size is now:  128\n"
     ]
    },
    {
     "name": "stderr",
     "output_type": "stream",
     "text": [
      "Epoch: 2822:  28%|████████████████████████████▌                                                                        | 2822/10000 [05:55<03:58, 30.13it/s, lowest_mse=0.00608, pred_loss=12.8, trigger=0]"
     ]
    },
    {
     "name": "stdout",
     "output_type": "stream",
     "text": [
      "The batch_size is now:  256\n"
     ]
    },
    {
     "name": "stderr",
     "output_type": "stream",
     "text": [
      "Epoch: 3428:  34%|██████████████████████████████████▌                                                                  | 3428/10000 [06:11<02:27, 44.48it/s, lowest_mse=0.00607, pred_loss=12.8, trigger=0]"
     ]
    },
    {
     "name": "stdout",
     "output_type": "stream",
     "text": [
      "The batch_size is now:  512\n"
     ]
    },
    {
     "name": "stderr",
     "output_type": "stream",
     "text": [
      "Epoch: 4034:  40%|████████████████████████████████████████▋                                                            | 4028/10000 [06:23<01:43, 57.83it/s, lowest_mse=0.00605, pred_loss=12.8, trigger=0]"
     ]
    },
    {
     "name": "stdout",
     "output_type": "stream",
     "text": [
      "The batch_size is now:  1024\n"
     ]
    },
    {
     "name": "stderr",
     "output_type": "stream",
     "text": [
      "Epoch: 4624:  46%|██████████████████████████████████████████████▋                                                      | 4624/10000 [06:31<07:35, 11.81it/s, lowest_mse=0.00605, pred_loss=12.8, trigger=0]\n"
     ]
    },
    {
     "name": "stdout",
     "output_type": "stream",
     "text": [
      "The batch_size is now:  2048\n",
      "Adam biased\n",
      "The train error is 12.75 for SOAP\n",
      "The test error is 16.67 for SOAP\n"
     ]
    }
   ],
   "source": [
    "weights, loss_dos, test_loss_dos = normal_reg_train_Ad(SOAP, ldos3, biased_train_index, biased_test_index, 1e-3, 10000, 16, 1e-2)\n",
    "print (\"Adam biased\")\n",
    "print (\"The train error is {:.4} for SOAP\".format(loss_dos,m))\n",
    "print (\"The test error is {:.4} for SOAP\".format(test_loss_dos, m))"
   ]
  },
  {
   "cell_type": "code",
   "execution_count": 642,
   "id": "79661c4e",
   "metadata": {
    "ExecuteTime": {
     "end_time": "2023-04-19T15:33:47.155839Z",
     "start_time": "2023-04-19T15:30:17.251841Z"
    },
    "hidden": true
   },
   "outputs": [
    {
     "name": "stderr",
     "output_type": "stream",
     "text": [
      "Epoch: 807:   8%|████████▍                                                                                                | 807/10000 [01:43<15:31,  9.87it/s, lowest_mse=0.381, pred_loss=76.1, trigger=0]"
     ]
    },
    {
     "name": "stdout",
     "output_type": "stream",
     "text": [
      "The batch_size is now:  32\n"
     ]
    },
    {
     "name": "stderr",
     "output_type": "stream",
     "text": [
      "Epoch: 1413:  14%|██████████████▌                                                                                        | 1412/10000 [02:25<07:53, 18.13it/s, lowest_mse=0.336, pred_loss=71.4, trigger=0]"
     ]
    },
    {
     "name": "stdout",
     "output_type": "stream",
     "text": [
      "The batch_size is now:  64\n"
     ]
    },
    {
     "name": "stderr",
     "output_type": "stream",
     "text": [
      "Epoch: 2018:  20%|████████████████████▊                                                                                  | 2016/10000 [02:49<04:28, 29.78it/s, lowest_mse=0.312, pred_loss=68.9, trigger=0]"
     ]
    },
    {
     "name": "stdout",
     "output_type": "stream",
     "text": [
      "The batch_size is now:  128\n"
     ]
    },
    {
     "name": "stderr",
     "output_type": "stream",
     "text": [
      "Epoch: 2625:  26%|███████████████████████████                                                                            | 2623/10000 [03:05<02:39, 46.20it/s, lowest_mse=0.299, pred_loss=67.3, trigger=0]"
     ]
    },
    {
     "name": "stdout",
     "output_type": "stream",
     "text": [
      "The batch_size is now:  256\n"
     ]
    },
    {
     "name": "stderr",
     "output_type": "stream",
     "text": [
      "Epoch: 3232:  32%|█████████████████████████████████▏                                                                     | 3225/10000 [03:15<01:50, 61.29it/s, lowest_mse=0.292, pred_loss=66.5, trigger=0]"
     ]
    },
    {
     "name": "stdout",
     "output_type": "stream",
     "text": [
      "The batch_size is now:  512\n"
     ]
    },
    {
     "name": "stderr",
     "output_type": "stream",
     "text": [
      "Epoch: 3839:  38%|████████████████████████████████████████▎                                                                | 3836/10000 [03:23<01:12, 85.06it/s, lowest_mse=0.287, pred_loss=66, trigger=0]"
     ]
    },
    {
     "name": "stdout",
     "output_type": "stream",
     "text": [
      "The batch_size is now:  1024\n"
     ]
    },
    {
     "name": "stderr",
     "output_type": "stream",
     "text": [
      "Epoch: 4423:  44%|█████████████████████████████████████████████▌                                                         | 4423/10000 [03:29<04:24, 21.08it/s, lowest_mse=0.284, pred_loss=65.7, trigger=0]"
     ]
    },
    {
     "name": "stdout",
     "output_type": "stream",
     "text": [
      "The batch_size is now:  2048\n",
      "Adam Unbiased\n",
      "The train error is 65.67 for KERNEL\n",
      "The test error is 72.64 for KERNEL\n"
     ]
    },
    {
     "name": "stderr",
     "output_type": "stream",
     "text": [
      "\n"
     ]
    }
   ],
   "source": [
    "A_U_weights_01, loss_dos, test_loss_dos = kernel_reg_train_Ad(KERNEL, ldos1, biased_train_index, biased_test_index, kMM, 1, 10000, 16, 1e-3)\n",
    "\n",
    "print (\"Adam Unbiased\")\n",
    "print (\"The train error is {:.4} for KERNEL\".format(loss_dos,m))\n",
    "print (\"The test error is {:.4} for KERNEL\".format(test_loss_dos, m))"
   ]
  },
  {
   "cell_type": "markdown",
   "id": "69371da6",
   "metadata": {
    "hidden": true
   },
   "source": [
    "### 0.1eV Smearing"
   ]
  },
  {
   "cell_type": "code",
   "execution_count": 643,
   "id": "40fbfc14",
   "metadata": {
    "ExecuteTime": {
     "end_time": "2023-04-19T15:40:16.692655Z",
     "start_time": "2023-04-19T15:33:47.158203Z"
    },
    "hidden": true,
    "scrolled": true
   },
   "outputs": [
    {
     "name": "stderr",
     "output_type": "stream",
     "text": [
      "Epoch: 1007:  10%|██████████▎                                                                                           | 1007/10000 [03:40<27:57,  5.36it/s, lowest_mse=0.0459, pred_loss=26.4, trigger=0]"
     ]
    },
    {
     "name": "stdout",
     "output_type": "stream",
     "text": [
      "The batch_size is now:  32\n"
     ]
    },
    {
     "name": "stderr",
     "output_type": "stream",
     "text": [
      "Epoch: 1612:  16%|████████████████▍                                                                                     | 1611/10000 [04:51<12:48, 10.92it/s, lowest_mse=0.0458, pred_loss=26.4, trigger=0]"
     ]
    },
    {
     "name": "stdout",
     "output_type": "stream",
     "text": [
      "The batch_size is now:  64\n"
     ]
    },
    {
     "name": "stderr",
     "output_type": "stream",
     "text": [
      "Epoch: 2217:  22%|██████████████████████▌                                                                               | 2216/10000 [05:29<06:40, 19.44it/s, lowest_mse=0.0457, pred_loss=26.3, trigger=0]"
     ]
    },
    {
     "name": "stdout",
     "output_type": "stream",
     "text": [
      "The batch_size is now:  128\n"
     ]
    },
    {
     "name": "stderr",
     "output_type": "stream",
     "text": [
      "Epoch: 2822:  28%|████████████████████████████▊                                                                         | 2820/10000 [05:53<04:01, 29.72it/s, lowest_mse=0.0457, pred_loss=26.3, trigger=0]"
     ]
    },
    {
     "name": "stdout",
     "output_type": "stream",
     "text": [
      "The batch_size is now:  256\n"
     ]
    },
    {
     "name": "stderr",
     "output_type": "stream",
     "text": [
      "Epoch: 3428:  34%|██████████████████████████████████▉                                                                   | 3427/10000 [06:09<02:31, 43.29it/s, lowest_mse=0.0456, pred_loss=26.3, trigger=0]"
     ]
    },
    {
     "name": "stdout",
     "output_type": "stream",
     "text": [
      "The batch_size is now:  512\n"
     ]
    },
    {
     "name": "stderr",
     "output_type": "stream",
     "text": [
      "Epoch: 4034:  40%|█████████████████████████████████████████                                                             | 4028/10000 [06:21<01:45, 56.55it/s, lowest_mse=0.0455, pred_loss=26.3, trigger=0]"
     ]
    },
    {
     "name": "stdout",
     "output_type": "stream",
     "text": [
      "The batch_size is now:  1024\n"
     ]
    },
    {
     "name": "stderr",
     "output_type": "stream",
     "text": [
      "Epoch: 4624:  46%|███████████████████████████████████████████████▏                                                      | 4624/10000 [06:29<07:32, 11.87it/s, lowest_mse=0.0455, pred_loss=26.3, trigger=0]"
     ]
    },
    {
     "name": "stdout",
     "output_type": "stream",
     "text": [
      "The batch_size is now:  2048\n",
      "Adam biased\n",
      "The train error is 26.27 for SOAP\n",
      "The test error is 31.64 for SOAP\n"
     ]
    },
    {
     "name": "stderr",
     "output_type": "stream",
     "text": [
      "\n"
     ]
    }
   ],
   "source": [
    "weights, loss_dos, test_loss_dos = normal_reg_train_Ad(SOAP, ldos1, biased_train_index, biased_test_index, 1e-3, 10000, 16, 1e-2)\n",
    "print (\"Adam biased\")\n",
    "print (\"The train error is {:.4} for SOAP\".format(loss_dos,m))\n",
    "print (\"The test error is {:.4} for SOAP\".format(test_loss_dos, m))"
   ]
  },
  {
   "cell_type": "code",
   "execution_count": 644,
   "id": "8fa2ba76",
   "metadata": {
    "ExecuteTime": {
     "end_time": "2023-04-19T15:43:50.793673Z",
     "start_time": "2023-04-19T15:40:16.695777Z"
    },
    "hidden": true
   },
   "outputs": [
    {
     "name": "stderr",
     "output_type": "stream",
     "text": [
      "Epoch: 807:   8%|████████▍                                                                                                | 807/10000 [01:44<15:46,  9.72it/s, lowest_mse=0.379, pred_loss=75.8, trigger=0]"
     ]
    },
    {
     "name": "stdout",
     "output_type": "stream",
     "text": [
      "The batch_size is now:  32\n"
     ]
    },
    {
     "name": "stderr",
     "output_type": "stream",
     "text": [
      "Epoch: 1413:  14%|██████████████▌                                                                                        | 1412/10000 [02:26<07:57, 17.98it/s, lowest_mse=0.337, pred_loss=71.5, trigger=0]"
     ]
    },
    {
     "name": "stdout",
     "output_type": "stream",
     "text": [
      "The batch_size is now:  64\n"
     ]
    },
    {
     "name": "stderr",
     "output_type": "stream",
     "text": [
      "Epoch: 2018:  20%|████████████████████▊                                                                                  | 2016/10000 [02:50<04:26, 29.94it/s, lowest_mse=0.312, pred_loss=68.7, trigger=0]"
     ]
    },
    {
     "name": "stdout",
     "output_type": "stream",
     "text": [
      "The batch_size is now:  128\n"
     ]
    },
    {
     "name": "stderr",
     "output_type": "stream",
     "text": [
      "Epoch: 2625:  26%|███████████████████████████                                                                            | 2623/10000 [03:06<02:40, 46.01it/s, lowest_mse=0.299, pred_loss=67.3, trigger=0]"
     ]
    },
    {
     "name": "stdout",
     "output_type": "stream",
     "text": [
      "The batch_size is now:  256\n"
     ]
    },
    {
     "name": "stderr",
     "output_type": "stream",
     "text": [
      "Epoch: 3229:  32%|█████████████████████████████████▏                                                                     | 3224/10000 [03:18<02:12, 50.97it/s, lowest_mse=0.292, pred_loss=66.5, trigger=0]"
     ]
    },
    {
     "name": "stdout",
     "output_type": "stream",
     "text": [
      "The batch_size is now:  512\n"
     ]
    },
    {
     "name": "stderr",
     "output_type": "stream",
     "text": [
      "Epoch: 3838:  38%|████████████████████████████████████████▎                                                                | 3837/10000 [03:27<01:15, 81.98it/s, lowest_mse=0.287, pred_loss=66, trigger=0]"
     ]
    },
    {
     "name": "stdout",
     "output_type": "stream",
     "text": [
      "The batch_size is now:  1024\n"
     ]
    },
    {
     "name": "stderr",
     "output_type": "stream",
     "text": [
      "Epoch: 4423:  44%|█████████████████████████████████████████████▌                                                         | 4423/10000 [03:34<04:29, 20.66it/s, lowest_mse=0.284, pred_loss=65.7, trigger=0]"
     ]
    },
    {
     "name": "stdout",
     "output_type": "stream",
     "text": [
      "The batch_size is now:  2048\n",
      "Adam Unbiased\n",
      "The train error is 65.67 for KERNEL\n",
      "The test error is 72.58 for KERNEL\n"
     ]
    },
    {
     "name": "stderr",
     "output_type": "stream",
     "text": [
      "\n"
     ]
    }
   ],
   "source": [
    "A_U_weights_01, loss_dos, test_loss_dos = kernel_reg_train_Ad(KERNEL, ldos1, biased_train_index, biased_test_index, kMM, 1, 10000, 16, 1e-3)\n",
    "\n",
    "print (\"Adam Unbiased\")\n",
    "print (\"The train error is {:.4} for KERNEL\".format(loss_dos,m))\n",
    "print (\"The test error is {:.4} for KERNEL\".format(test_loss_dos, m))"
   ]
  },
  {
   "cell_type": "markdown",
   "id": "f90f56aa",
   "metadata": {
    "hidden": true
   },
   "source": [
    "## Baseline GD model - LBFGS - unbiased"
   ]
  },
  {
   "cell_type": "markdown",
   "id": "50f00632",
   "metadata": {
    "hidden": true
   },
   "source": [
    "### 0.3eV Smearing"
   ]
  },
  {
   "cell_type": "code",
   "execution_count": 569,
   "id": "06161d93",
   "metadata": {
    "ExecuteTime": {
     "end_time": "2023-04-19T14:33:08.299364Z",
     "start_time": "2023-04-19T14:33:04.089476Z"
    },
    "hidden": true
   },
   "outputs": [
    {
     "name": "stderr",
     "output_type": "stream",
     "text": [
      "Epoch: 39: 100%|█████████████████████████████████████████████████████████████████████████████████████████████████████████████████| 40/40 [00:04<00:00,  9.56it/s, lowest_mse=0.01, pred_loss=17, trigger=0]\n"
     ]
    },
    {
     "name": "stdout",
     "output_type": "stream",
     "text": [
      "LBFGS Unbiased\n",
      "The train error is 17.04 for SOAP\n",
      "The test error is 15.35 for SOAP\n"
     ]
    }
   ],
   "source": [
    "U_L_weights3 , loss_dos, test_loss_dos = normal_reg_train_L(SOAP, ldos3, train_index, test_index, 1e-3, 40, 1)\n",
    "print (\"LBFGS Unbiased\")\n",
    "print (\"The train error is {:.4} for SOAP\".format(loss_dos,m))\n",
    "print (\"The test error is {:.4} for SOAP\".format(test_loss_dos, m))"
   ]
  },
  {
   "cell_type": "code",
   "execution_count": 570,
   "id": "edca682e",
   "metadata": {
    "ExecuteTime": {
     "end_time": "2023-04-19T14:33:11.400578Z",
     "start_time": "2023-04-19T14:33:09.230118Z"
    },
    "hidden": true
   },
   "outputs": [
    {
     "name": "stderr",
     "output_type": "stream",
     "text": [
      "Epoch: 39: 100%|█████████████████████████████████████████████████████████████████████████████████████████████████████████████| 40/40 [00:02<00:00, 18.77it/s, lowest_mse=0.0476, pred_loss=37.1, trigger=0]\n"
     ]
    },
    {
     "name": "stdout",
     "output_type": "stream",
     "text": [
      "LBFGS Unbiased\n",
      "The train error is 37.09 for Kernel\n",
      "The test error is 36.84 for Kernel\n"
     ]
    }
   ],
   "source": [
    "U_L_weights3 , loss_dos, test_loss_dos = kernel_reg_train_L(KERNEL, ldos3, train_index, test_index, kMM, 1, 40, 1)\n",
    "print (\"LBFGS Unbiased\")\n",
    "print (\"The train error is {:.4} for Kernel\".format(loss_dos,m))\n",
    "print (\"The test error is {:.4} for Kernel\".format(test_loss_dos, m))"
   ]
  },
  {
   "cell_type": "markdown",
   "id": "ed57fba5",
   "metadata": {
    "hidden": true
   },
   "source": [
    "### 0.1eV Smearing"
   ]
  },
  {
   "cell_type": "code",
   "execution_count": 568,
   "id": "910e76cf",
   "metadata": {
    "ExecuteTime": {
     "end_time": "2023-04-19T14:33:00.114712Z",
     "start_time": "2023-04-19T14:32:50.365526Z"
    },
    "hidden": true,
    "scrolled": true
   },
   "outputs": [
    {
     "name": "stderr",
     "output_type": "stream",
     "text": [
      "Epoch: 39: 100%|█████████████████████████████████████████████████████████████████████████████████████████████████████████████| 40/40 [00:09<00:00,  4.12it/s, lowest_mse=0.0438, pred_loss=26.6, trigger=0]\n"
     ]
    },
    {
     "name": "stdout",
     "output_type": "stream",
     "text": [
      "LBFGS Unbiased\n",
      "The train error is 26.57 for SOAP\n",
      "The test error is 26.29 for SOAP\n"
     ]
    }
   ],
   "source": [
    "U_L_weights3 , loss_dos, test_loss_dos = normal_reg_train_L(SOAP, ldos1, train_index, test_index, 1e-3, 40, 1)\n",
    "print (\"LBFGS Unbiased\")\n",
    "print (\"The train error is {:.4} for SOAP\".format(loss_dos,m))\n",
    "print (\"The test error is {:.4} for SOAP\".format(test_loss_dos, m))"
   ]
  },
  {
   "cell_type": "code",
   "execution_count": 571,
   "id": "b9206187",
   "metadata": {
    "ExecuteTime": {
     "end_time": "2023-04-19T14:33:26.071199Z",
     "start_time": "2023-04-19T14:33:22.072530Z"
    },
    "hidden": true
   },
   "outputs": [
    {
     "name": "stderr",
     "output_type": "stream",
     "text": [
      "Epoch: 39: 100%|████████████████████████████████████████████████████████████████████████████████████████████████████████████████| 40/40 [00:03<00:00, 10.16it/s, lowest_mse=0.202, pred_loss=57, trigger=0]"
     ]
    },
    {
     "name": "stdout",
     "output_type": "stream",
     "text": [
      "LBFGS Unbiased\n",
      "The train error is 57.02 for Kernel\n",
      "The test error is 57.55 for Kernel\n"
     ]
    },
    {
     "name": "stderr",
     "output_type": "stream",
     "text": [
      "\n"
     ]
    }
   ],
   "source": [
    "U_L_weights3 , loss_dos, test_loss_dos = kernel_reg_train_L(KERNEL, ldos1, train_index, test_index, kMM, 1, 40, 1)\n",
    "print (\"LBFGS Unbiased\")\n",
    "print (\"The train error is {:.4} for Kernel\".format(loss_dos,m))\n",
    "print (\"The test error is {:.4} for Kernel\".format(test_loss_dos, m))"
   ]
  },
  {
   "cell_type": "markdown",
   "id": "3f6f51f4",
   "metadata": {
    "hidden": true
   },
   "source": [
    "## Baseline GD model - LBFGS - biased"
   ]
  },
  {
   "cell_type": "markdown",
   "id": "021d141b",
   "metadata": {
    "hidden": true
   },
   "source": [
    "### 0.3eV Smearing"
   ]
  },
  {
   "cell_type": "code",
   "execution_count": 573,
   "id": "1eb28ecf",
   "metadata": {
    "ExecuteTime": {
     "end_time": "2023-04-19T14:35:38.432525Z",
     "start_time": "2023-04-19T14:35:35.616825Z"
    },
    "hidden": true
   },
   "outputs": [
    {
     "name": "stderr",
     "output_type": "stream",
     "text": [
      "Epoch: 39: 100%|█████████████████████████████████████████████████████████████████████████████████████████████████████████████| 40/40 [00:02<00:00, 14.33it/s, lowest_mse=0.0111, pred_loss=17.3, trigger=0]"
     ]
    },
    {
     "name": "stdout",
     "output_type": "stream",
     "text": [
      "LBFGS Biased\n",
      "The train error is 17.29 for SOAP\n",
      "The test error is 22.66 for SOAP\n"
     ]
    },
    {
     "name": "stderr",
     "output_type": "stream",
     "text": [
      "\n"
     ]
    }
   ],
   "source": [
    "U_L_weights3 , loss_dos, test_loss_dos = normal_reg_train_L(SOAP, ldos3, biased_train_index, biased_test_index, 1e-3, 40, 1)\n",
    "print (\"LBFGS Biased\")\n",
    "print (\"The train error is {:.4} for SOAP\".format(loss_dos,m))\n",
    "print (\"The test error is {:.4} for SOAP\".format(test_loss_dos, m))"
   ]
  },
  {
   "cell_type": "code",
   "execution_count": 578,
   "id": "b92867e9",
   "metadata": {
    "ExecuteTime": {
     "end_time": "2023-04-19T14:36:37.956183Z",
     "start_time": "2023-04-19T14:36:36.011635Z"
    },
    "hidden": true
   },
   "outputs": [
    {
     "name": "stderr",
     "output_type": "stream",
     "text": [
      "Epoch: 39: 100%|█████████████████████████████████████████████████████████████████████████████████████████████████████████████| 40/40 [00:01<00:00, 21.03it/s, lowest_mse=0.0486, pred_loss=36.2, trigger=0]"
     ]
    },
    {
     "name": "stdout",
     "output_type": "stream",
     "text": [
      "LBFGS Unbiased\n",
      "The train error is 36.15 for Kernel\n",
      "The test error is 41.55 for Kernel\n"
     ]
    },
    {
     "name": "stderr",
     "output_type": "stream",
     "text": [
      "\n"
     ]
    }
   ],
   "source": [
    "U_L_weights3 , loss_dos, test_loss_dos = kernel_reg_train_L(KERNEL, ldos3, biased_train_index, biased_test_index, kMM, 1, 40, 1)\n",
    "print (\"LBFGS Biased\")\n",
    "print (\"The train error is {:.4} for Kernel\".format(loss_dos,m))\n",
    "print (\"The test error is {:.4} for Kernel\".format(test_loss_dos, m))"
   ]
  },
  {
   "cell_type": "markdown",
   "id": "4f4d91f5",
   "metadata": {
    "hidden": true
   },
   "source": [
    "### 0.1 eV Smearing"
   ]
  },
  {
   "cell_type": "code",
   "execution_count": 580,
   "id": "cd384fcd",
   "metadata": {
    "ExecuteTime": {
     "end_time": "2023-04-19T14:36:59.227525Z",
     "start_time": "2023-04-19T14:36:55.402144Z"
    },
    "hidden": true,
    "scrolled": true
   },
   "outputs": [
    {
     "name": "stderr",
     "output_type": "stream",
     "text": [
      "Epoch: 39: 100%|█████████████████████████████████████████████████████████████████████████████████████████████████████████████| 40/40 [00:03<00:00, 10.51it/s, lowest_mse=0.0586, pred_loss=29.8, trigger=0]\n"
     ]
    },
    {
     "name": "stdout",
     "output_type": "stream",
     "text": [
      "LBFGS Biased\n",
      "The train error is 29.8 for SOAP\n",
      "The test error is 35.63 for SOAP\n"
     ]
    }
   ],
   "source": [
    "U_L_weights3 , loss_dos, test_loss_dos = normal_reg_train_L(SOAP, ldos1, biased_train_index, biased_test_index, 1e-3, 40, 1)\n",
    "print (\"LBFGS Biased\")\n",
    "print (\"The train error is {:.4} for SOAP\".format(loss_dos,m))\n",
    "print (\"The test error is {:.4} for SOAP\".format(test_loss_dos, m))"
   ]
  },
  {
   "cell_type": "code",
   "execution_count": 579,
   "id": "f6d2cc09",
   "metadata": {
    "ExecuteTime": {
     "end_time": "2023-04-19T14:36:55.400296Z",
     "start_time": "2023-04-19T14:36:51.750853Z"
    },
    "hidden": true
   },
   "outputs": [
    {
     "name": "stderr",
     "output_type": "stream",
     "text": [
      "Epoch: 39: 100%|███████████████████████████████████████████████████████████████████████████████████████████████████████████████| 40/40 [00:03<00:00, 11.08it/s, lowest_mse=0.21, pred_loss=56.5, trigger=0]"
     ]
    },
    {
     "name": "stdout",
     "output_type": "stream",
     "text": [
      "LBFGS Biased\n",
      "The train error is 56.48 for Kernel\n",
      "The test error is 63.5 for Kernel\n"
     ]
    },
    {
     "name": "stderr",
     "output_type": "stream",
     "text": [
      "\n"
     ]
    }
   ],
   "source": [
    "U_L_weights3 , loss_dos, test_loss_dos = kernel_reg_train_L(KERNEL, ldos1, biased_train_index, biased_test_index, kMM, 1, 40, 1)\n",
    "print (\"LBFGS Biased\")\n",
    "print (\"The train error is {:.4} for Kernel\".format(loss_dos,m))\n",
    "print (\"The test error is {:.4} for Kernel\".format(test_loss_dos, m))"
   ]
  },
  {
   "cell_type": "markdown",
   "id": "84bff374",
   "metadata": {
    "hidden": true
   },
   "source": [
    "## Baseline GF model - Adam - Clusterless Unbiased"
   ]
  },
  {
   "cell_type": "markdown",
   "id": "a119b603",
   "metadata": {
    "hidden": true
   },
   "source": [
    "### 0.3eV Smearing"
   ]
  },
  {
   "cell_type": "code",
   "execution_count": 705,
   "id": "587da6fb",
   "metadata": {
    "ExecuteTime": {
     "end_time": "2023-04-19T16:24:07.275144Z",
     "start_time": "2023-04-19T16:19:09.415319Z"
    },
    "hidden": true
   },
   "outputs": [
    {
     "name": "stderr",
     "output_type": "stream",
     "text": [
      "Epoch: 1008:  10%|██████████▏                                                                                          | 1008/10000 [02:45<19:29,  7.69it/s, lowest_mse=0.00551, pred_loss=14.1, trigger=0]"
     ]
    },
    {
     "name": "stdout",
     "output_type": "stream",
     "text": [
      "The batch_size is now:  32\n"
     ]
    },
    {
     "name": "stderr",
     "output_type": "stream",
     "text": [
      "Epoch: 1613:  16%|████████████████▌                                                                                      | 1613/10000 [03:39<09:47, 14.27it/s, lowest_mse=0.00549, pred_loss=14, trigger=0]"
     ]
    },
    {
     "name": "stdout",
     "output_type": "stream",
     "text": [
      "The batch_size is now:  64\n"
     ]
    },
    {
     "name": "stderr",
     "output_type": "stream",
     "text": [
      "Epoch: 2218:  22%|██████████████████████▊                                                                                | 2216/10000 [04:09<05:27, 23.75it/s, lowest_mse=0.00546, pred_loss=14, trigger=0]"
     ]
    },
    {
     "name": "stdout",
     "output_type": "stream",
     "text": [
      "The batch_size is now:  128\n"
     ]
    },
    {
     "name": "stderr",
     "output_type": "stream",
     "text": [
      "Epoch: 2824:  28%|████████████████████████████▍                                                                        | 2821/10000 [04:27<03:08, 38.14it/s, lowest_mse=0.00545, pred_loss=13.9, trigger=0]"
     ]
    },
    {
     "name": "stdout",
     "output_type": "stream",
     "text": [
      "The batch_size is now:  256\n"
     ]
    },
    {
     "name": "stderr",
     "output_type": "stream",
     "text": [
      "Epoch: 3430:  34%|██████████████████████████████████▋                                                                  | 3429/10000 [04:40<02:02, 53.63it/s, lowest_mse=0.00543, pred_loss=13.9, trigger=0]"
     ]
    },
    {
     "name": "stdout",
     "output_type": "stream",
     "text": [
      "The batch_size is now:  512\n"
     ]
    },
    {
     "name": "stderr",
     "output_type": "stream",
     "text": [
      "Epoch: 4037:  40%|████████████████████████████████████████▋                                                            | 4033/10000 [04:50<01:27, 68.52it/s, lowest_mse=0.00542, pred_loss=13.9, trigger=0]"
     ]
    },
    {
     "name": "stdout",
     "output_type": "stream",
     "text": [
      "The batch_size is now:  1024\n"
     ]
    },
    {
     "name": "stderr",
     "output_type": "stream",
     "text": [
      "Epoch: 4624:  46%|██████████████████████████████████████████████▋                                                      | 4624/10000 [04:57<05:46, 15.53it/s, lowest_mse=0.00541, pred_loss=13.9, trigger=0]\n"
     ]
    },
    {
     "name": "stdout",
     "output_type": "stream",
     "text": [
      "The batch_size is now:  2048\n",
      "Adam Unbiased\n",
      "The train error is 13.88 for SOAP\n",
      "The test error is 15.64 for SOAP\n"
     ]
    }
   ],
   "source": [
    "weights, loss_dos, test_loss_dos = normal_reg_train_Ad(SOAP, ldos3, clusterless_train, clusterless_test, 1e-3, 10000, 16, 1e-2)\n",
    "print (\"Adam Unbiased\")\n",
    "print (\"The train error is {:.4} for SOAP\".format(loss_dos,m))\n",
    "print (\"The test error is {:.4} for SOAP\".format(test_loss_dos, m))"
   ]
  },
  {
   "cell_type": "code",
   "execution_count": 706,
   "id": "1a8c9f43",
   "metadata": {
    "ExecuteTime": {
     "end_time": "2023-04-19T16:26:52.644040Z",
     "start_time": "2023-04-19T16:24:07.277903Z"
    },
    "hidden": true
   },
   "outputs": [
    {
     "name": "stderr",
     "output_type": "stream",
     "text": [
      "Epoch: 808:   8%|████████▍                                                                                                | 807/10000 [01:20<12:55, 11.85it/s, lowest_mse=0.123, pred_loss=66.5, trigger=0]"
     ]
    },
    {
     "name": "stdout",
     "output_type": "stream",
     "text": [
      "The batch_size is now:  32\n"
     ]
    },
    {
     "name": "stderr",
     "output_type": "stream",
     "text": [
      "Epoch: 1414:  14%|██████████████▌                                                                                        | 1414/10000 [01:53<06:09, 23.22it/s, lowest_mse=0.099, pred_loss=60.8, trigger=0]"
     ]
    },
    {
     "name": "stdout",
     "output_type": "stream",
     "text": [
      "The batch_size is now:  64\n"
     ]
    },
    {
     "name": "stderr",
     "output_type": "stream",
     "text": [
      "Epoch: 2021:  20%|████████████████████▌                                                                                 | 2021/10000 [02:12<03:16, 40.56it/s, lowest_mse=0.0796, pred_loss=53.2, trigger=0]"
     ]
    },
    {
     "name": "stdout",
     "output_type": "stream",
     "text": [
      "The batch_size is now:  128\n"
     ]
    },
    {
     "name": "stderr",
     "output_type": "stream",
     "text": [
      "Epoch: 2628:  26%|██████████████████████████▊                                                                           | 2623/10000 [02:24<02:05, 58.62it/s, lowest_mse=0.0702, pred_loss=50.1, trigger=0]"
     ]
    },
    {
     "name": "stdout",
     "output_type": "stream",
     "text": [
      "The batch_size is now:  256\n"
     ]
    },
    {
     "name": "stderr",
     "output_type": "stream",
     "text": [
      "Epoch: 3233:  32%|████████████████████████████████▉                                                                     | 3228/10000 [02:32<01:30, 74.78it/s, lowest_mse=0.0653, pred_loss=48.4, trigger=0]"
     ]
    },
    {
     "name": "stdout",
     "output_type": "stream",
     "text": [
      "The batch_size is now:  512\n"
     ]
    },
    {
     "name": "stderr",
     "output_type": "stream",
     "text": [
      "Epoch: 3841:  38%|███████████████████████████████████████                                                               | 3834/10000 [02:40<01:06, 92.97it/s, lowest_mse=0.0627, pred_loss=47.2, trigger=0]"
     ]
    },
    {
     "name": "stdout",
     "output_type": "stream",
     "text": [
      "The batch_size is now:  1024\n"
     ]
    },
    {
     "name": "stderr",
     "output_type": "stream",
     "text": [
      "Epoch: 4423:  44%|█████████████████████████████████████████████▉                                                          | 4423/10000 [02:45<03:28, 26.75it/s, lowest_mse=0.06, pred_loss=46.2, trigger=0]\n"
     ]
    },
    {
     "name": "stdout",
     "output_type": "stream",
     "text": [
      "The batch_size is now:  2048\n",
      "Adam Unbiased\n",
      "The train error is 46.2 for KERNEL\n",
      "The test error is 46.16 for KERNEL\n"
     ]
    }
   ],
   "source": [
    "A_U_weights_03, loss_dos, test_loss_dos = kernel_reg_train_Ad(KERNEL, ldos3, clusterless_train, clusterless_test, kMM, 1, 10000, 16, 1e-3)\n",
    "\n",
    "print (\"Adam Unbiased\")\n",
    "print (\"The train error is {:.4} for KERNEL\".format(loss_dos,m))\n",
    "print (\"The test error is {:.4} for KERNEL\".format(test_loss_dos, m))"
   ]
  },
  {
   "cell_type": "markdown",
   "id": "6f6c914a",
   "metadata": {
    "hidden": true
   },
   "source": [
    "### 0.1eV Smearing"
   ]
  },
  {
   "cell_type": "code",
   "execution_count": 707,
   "id": "0b06da55",
   "metadata": {
    "ExecuteTime": {
     "end_time": "2023-04-19T16:31:55.243741Z",
     "start_time": "2023-04-19T16:26:52.646269Z"
    },
    "hidden": true
   },
   "outputs": [
    {
     "name": "stderr",
     "output_type": "stream",
     "text": [
      "Epoch: 1008:  10%|██████████▎                                                                                           | 1008/10000 [02:45<19:33,  7.66it/s, lowest_mse=0.0382, pred_loss=27.8, trigger=0]"
     ]
    },
    {
     "name": "stdout",
     "output_type": "stream",
     "text": [
      "The batch_size is now:  32\n"
     ]
    },
    {
     "name": "stderr",
     "output_type": "stream",
     "text": [
      "Epoch: 1613:  16%|████████████████▍                                                                                     | 1613/10000 [03:40<09:51, 14.18it/s, lowest_mse=0.0381, pred_loss=27.7, trigger=0]"
     ]
    },
    {
     "name": "stdout",
     "output_type": "stream",
     "text": [
      "The batch_size is now:  64\n"
     ]
    },
    {
     "name": "stderr",
     "output_type": "stream",
     "text": [
      "Epoch: 2219:  22%|██████████████████████▊                                                                                | 2218/10000 [04:10<05:04, 25.52it/s, lowest_mse=0.038, pred_loss=27.7, trigger=0]"
     ]
    },
    {
     "name": "stdout",
     "output_type": "stream",
     "text": [
      "The batch_size is now:  128\n"
     ]
    },
    {
     "name": "stderr",
     "output_type": "stream",
     "text": [
      "Epoch: 2823:  28%|█████████████████████████████                                                                          | 2823/10000 [04:30<03:05, 38.68it/s, lowest_mse=0.038, pred_loss=27.7, trigger=0]"
     ]
    },
    {
     "name": "stdout",
     "output_type": "stream",
     "text": [
      "The batch_size is now:  256\n"
     ]
    },
    {
     "name": "stderr",
     "output_type": "stream",
     "text": [
      "Epoch: 3430:  34%|██████████████████████████████████▉                                                                   | 3430/10000 [04:45<02:01, 53.93it/s, lowest_mse=0.0379, pred_loss=27.6, trigger=0]"
     ]
    },
    {
     "name": "stdout",
     "output_type": "stream",
     "text": [
      "The batch_size is now:  512\n"
     ]
    },
    {
     "name": "stderr",
     "output_type": "stream",
     "text": [
      "Epoch: 4037:  40%|█████████████████████████████████████████▏                                                            | 4033/10000 [04:54<01:27, 68.57it/s, lowest_mse=0.0379, pred_loss=27.6, trigger=0]"
     ]
    },
    {
     "name": "stdout",
     "output_type": "stream",
     "text": [
      "The batch_size is now:  1024\n"
     ]
    },
    {
     "name": "stderr",
     "output_type": "stream",
     "text": [
      "Epoch: 4624:  46%|███████████████████████████████████████████████▏                                                      | 4624/10000 [05:02<05:51, 15.28it/s, lowest_mse=0.0378, pred_loss=27.6, trigger=0]\n"
     ]
    },
    {
     "name": "stdout",
     "output_type": "stream",
     "text": [
      "The batch_size is now:  2048\n",
      "Adam Unbiased\n",
      "The train error is 27.62 for SOAP\n",
      "The test error is 32.43 for SOAP\n"
     ]
    }
   ],
   "source": [
    "weights, loss_dos, test_loss_dos = normal_reg_train_Ad(SOAP, ldos1, clusterless_train, clusterless_test, 1e-3, 10000, 16, 1e-2)\n",
    "print (\"Adam Unbiased\")\n",
    "print (\"The train error is {:.4} for SOAP\".format(loss_dos,m))\n",
    "print (\"The test error is {:.4} for SOAP\".format(test_loss_dos, m))"
   ]
  },
  {
   "cell_type": "code",
   "execution_count": 708,
   "id": "13d9d9bc",
   "metadata": {
    "ExecuteTime": {
     "end_time": "2023-04-19T16:34:49.993778Z",
     "start_time": "2023-04-19T16:31:55.247660Z"
    },
    "hidden": true
   },
   "outputs": [
    {
     "name": "stderr",
     "output_type": "stream",
     "text": [
      "Epoch: 808:   8%|████████▍                                                                                                | 808/10000 [01:23<12:13, 12.53it/s, lowest_mse=0.288, pred_loss=76.2, trigger=0]"
     ]
    },
    {
     "name": "stdout",
     "output_type": "stream",
     "text": [
      "The batch_size is now:  32\n"
     ]
    },
    {
     "name": "stderr",
     "output_type": "stream",
     "text": [
      "Epoch: 1414:  14%|██████████████▌                                                                                        | 1412/10000 [01:57<06:18, 22.70it/s, lowest_mse=0.251, pred_loss=71.2, trigger=0]"
     ]
    },
    {
     "name": "stdout",
     "output_type": "stream",
     "text": [
      "The batch_size is now:  64\n"
     ]
    },
    {
     "name": "stderr",
     "output_type": "stream",
     "text": [
      "Epoch: 2021:  20%|████████████████████▊                                                                                  | 2017/10000 [02:17<03:38, 36.51it/s, lowest_mse=0.227, pred_loss=67.7, trigger=0]"
     ]
    },
    {
     "name": "stdout",
     "output_type": "stream",
     "text": [
      "The batch_size is now:  128\n"
     ]
    },
    {
     "name": "stderr",
     "output_type": "stream",
     "text": [
      "Epoch: 2626:  26%|███████████████████████████                                                                            | 2623/10000 [02:29<02:12, 55.73it/s, lowest_mse=0.214, pred_loss=65.7, trigger=0]"
     ]
    },
    {
     "name": "stdout",
     "output_type": "stream",
     "text": [
      "The batch_size is now:  256\n"
     ]
    },
    {
     "name": "stderr",
     "output_type": "stream",
     "text": [
      "Epoch: 3231:  32%|█████████████████████████████████▏                                                                     | 3226/10000 [02:40<01:47, 63.06it/s, lowest_mse=0.207, pred_loss=64.7, trigger=0]"
     ]
    },
    {
     "name": "stdout",
     "output_type": "stream",
     "text": [
      "The batch_size is now:  512\n"
     ]
    },
    {
     "name": "stderr",
     "output_type": "stream",
     "text": [
      "Epoch: 3839:  38%|███████████████████████████████████████▌                                                               | 3838/10000 [02:48<01:09, 88.40it/s, lowest_mse=0.203, pred_loss=63.9, trigger=0]"
     ]
    },
    {
     "name": "stdout",
     "output_type": "stream",
     "text": [
      "The batch_size is now:  1024\n"
     ]
    },
    {
     "name": "stderr",
     "output_type": "stream",
     "text": [
      "Epoch: 4423:  44%|█████████████████████████████████████████████▌                                                         | 4423/10000 [02:54<03:40, 25.32it/s, lowest_mse=0.199, pred_loss=63.3, trigger=0]"
     ]
    },
    {
     "name": "stdout",
     "output_type": "stream",
     "text": [
      "The batch_size is now:  2048\n",
      "Adam Unbiased\n",
      "The train error is 63.34 for KERNEL\n",
      "The test error is 64.01 for KERNEL\n"
     ]
    },
    {
     "name": "stderr",
     "output_type": "stream",
     "text": [
      "\n"
     ]
    }
   ],
   "source": [
    "A_U_weights_03, loss_dos, test_loss_dos = kernel_reg_train_Ad(KERNEL, ldos1, clusterless_train, clusterless_test, kMM, 1, 10000, 16, 1e-3)\n",
    "\n",
    "print (\"Adam Unbiased\")\n",
    "print (\"The train error is {:.4} for KERNEL\".format(loss_dos,m))\n",
    "print (\"The test error is {:.4} for KERNEL\".format(test_loss_dos, m))"
   ]
  },
  {
   "cell_type": "markdown",
   "id": "9e20a2ff",
   "metadata": {
    "hidden": true
   },
   "source": [
    "## Baseline GF model - Adam - Clusterless Biased"
   ]
  },
  {
   "cell_type": "markdown",
   "id": "e2545699",
   "metadata": {
    "hidden": true
   },
   "source": [
    "### 0.3eV Smearing"
   ]
  },
  {
   "cell_type": "code",
   "execution_count": 709,
   "id": "1ede661a",
   "metadata": {
    "ExecuteTime": {
     "end_time": "2023-04-19T16:39:53.039419Z",
     "start_time": "2023-04-19T16:34:49.996654Z"
    },
    "hidden": true
   },
   "outputs": [
    {
     "name": "stderr",
     "output_type": "stream",
     "text": [
      "Epoch: 1008:  10%|██████████▏                                                                                          | 1008/10000 [02:47<19:44,  7.59it/s, lowest_mse=0.00535, pred_loss=17.9, trigger=0]"
     ]
    },
    {
     "name": "stdout",
     "output_type": "stream",
     "text": [
      "The batch_size is now:  32\n"
     ]
    },
    {
     "name": "stderr",
     "output_type": "stream",
     "text": [
      "Epoch: 1613:  16%|████████████████▎                                                                                    | 1613/10000 [03:41<09:49, 14.24it/s, lowest_mse=0.00533, pred_loss=17.8, trigger=0]"
     ]
    },
    {
     "name": "stdout",
     "output_type": "stream",
     "text": [
      "The batch_size is now:  64\n"
     ]
    },
    {
     "name": "stderr",
     "output_type": "stream",
     "text": [
      "Epoch: 2218:  22%|██████████████████████▍                                                                              | 2216/10000 [04:13<05:17, 24.52it/s, lowest_mse=0.00531, pred_loss=17.8, trigger=0]"
     ]
    },
    {
     "name": "stdout",
     "output_type": "stream",
     "text": [
      "The batch_size is now:  128\n"
     ]
    },
    {
     "name": "stderr",
     "output_type": "stream",
     "text": [
      "Epoch: 2824:  28%|████████████████████████████▍                                                                        | 2821/10000 [04:30<03:06, 38.47it/s, lowest_mse=0.00529, pred_loss=17.8, trigger=0]"
     ]
    },
    {
     "name": "stdout",
     "output_type": "stream",
     "text": [
      "The batch_size is now:  256\n"
     ]
    },
    {
     "name": "stderr",
     "output_type": "stream",
     "text": [
      "Epoch: 3429:  34%|██████████████████████████████████▌                                                                  | 3424/10000 [04:45<02:11, 50.02it/s, lowest_mse=0.00528, pred_loss=17.7, trigger=0]"
     ]
    },
    {
     "name": "stdout",
     "output_type": "stream",
     "text": [
      "The batch_size is now:  512\n"
     ]
    },
    {
     "name": "stderr",
     "output_type": "stream",
     "text": [
      "Epoch: 4037:  40%|████████████████████████████████████████▋                                                            | 4030/10000 [04:55<01:28, 67.38it/s, lowest_mse=0.00527, pred_loss=17.7, trigger=0]"
     ]
    },
    {
     "name": "stdout",
     "output_type": "stream",
     "text": [
      "The batch_size is now:  1024\n"
     ]
    },
    {
     "name": "stderr",
     "output_type": "stream",
     "text": [
      "Epoch: 4624:  46%|██████████████████████████████████████████████▋                                                      | 4624/10000 [05:03<05:52, 15.26it/s, lowest_mse=0.00526, pred_loss=17.7, trigger=0]"
     ]
    },
    {
     "name": "stdout",
     "output_type": "stream",
     "text": [
      "The batch_size is now:  2048\n",
      "Adam Unbiased\n",
      "The train error is 17.72 for SOAP\n",
      "The test error is 23.06 for SOAP\n"
     ]
    },
    {
     "name": "stderr",
     "output_type": "stream",
     "text": [
      "\n"
     ]
    }
   ],
   "source": [
    "weights, loss_dos, test_loss_dos = normal_reg_train_Ad(SOAP, ldos3, biased_clusterless_train_index, biased_clusterless_test_index, 1e-3, 10000, 16, 1e-2)\n",
    "print (\"Adam Biased\")\n",
    "print (\"The train error is {:.4} for SOAP\".format(loss_dos,m))\n",
    "print (\"The test error is {:.4} for SOAP\".format(test_loss_dos, m))"
   ]
  },
  {
   "cell_type": "code",
   "execution_count": 710,
   "id": "5f5ea552",
   "metadata": {
    "ExecuteTime": {
     "end_time": "2023-04-19T16:42:42.928427Z",
     "start_time": "2023-04-19T16:39:53.042561Z"
    },
    "hidden": true
   },
   "outputs": [
    {
     "name": "stderr",
     "output_type": "stream",
     "text": [
      "Epoch: 808:   8%|████████▍                                                                                               | 808/10000 [01:21<12:18, 12.45it/s, lowest_mse=0.0661, pred_loss=62.8, trigger=0]"
     ]
    },
    {
     "name": "stdout",
     "output_type": "stream",
     "text": [
      "The batch_size is now:  32\n"
     ]
    },
    {
     "name": "stderr",
     "output_type": "stream",
     "text": [
      "Epoch: 1414:  14%|██████████████▍                                                                                       | 1412/10000 [01:55<06:26, 22.24it/s, lowest_mse=0.0549, pred_loss=57.2, trigger=0]"
     ]
    },
    {
     "name": "stdout",
     "output_type": "stream",
     "text": [
      "The batch_size is now:  64\n"
     ]
    },
    {
     "name": "stderr",
     "output_type": "stream",
     "text": [
      "Epoch: 2019:  20%|████████████████████▌                                                                                 | 2016/10000 [02:15<03:50, 34.66it/s, lowest_mse=0.0479, pred_loss=53.5, trigger=0]"
     ]
    },
    {
     "name": "stdout",
     "output_type": "stream",
     "text": [
      "The batch_size is now:  128\n"
     ]
    },
    {
     "name": "stderr",
     "output_type": "stream",
     "text": [
      "Epoch: 2627:  26%|██████████████████████████▊                                                                           | 2627/10000 [02:28<02:06, 58.12it/s, lowest_mse=0.0426, pred_loss=50.7, trigger=0]"
     ]
    },
    {
     "name": "stdout",
     "output_type": "stream",
     "text": [
      "The batch_size is now:  256\n"
     ]
    },
    {
     "name": "stderr",
     "output_type": "stream",
     "text": [
      "Epoch: 3234:  32%|████████████████████████████████▉                                                                     | 3227/10000 [02:37<01:30, 74.73it/s, lowest_mse=0.0397, pred_loss=49.1, trigger=0]"
     ]
    },
    {
     "name": "stdout",
     "output_type": "stream",
     "text": [
      "The batch_size is now:  512\n"
     ]
    },
    {
     "name": "stderr",
     "output_type": "stream",
     "text": [
      "Epoch: 3842:  38%|███████████████████████████████████████                                                               | 3833/10000 [02:44<01:05, 94.72it/s, lowest_mse=0.0381, pred_loss=47.7, trigger=0]"
     ]
    },
    {
     "name": "stdout",
     "output_type": "stream",
     "text": [
      "The batch_size is now:  1024\n"
     ]
    },
    {
     "name": "stderr",
     "output_type": "stream",
     "text": [
      "Epoch: 4423:  44%|█████████████████████████████████████████████                                                         | 4423/10000 [02:49<03:34, 26.04it/s, lowest_mse=0.0363, pred_loss=46.5, trigger=0]\n"
     ]
    },
    {
     "name": "stdout",
     "output_type": "stream",
     "text": [
      "The batch_size is now:  2048\n",
      "Adam Unbiased\n",
      "The train error is 46.52 for KERNEL\n",
      "The test error is 56.51 for KERNEL\n"
     ]
    }
   ],
   "source": [
    "A_U_weights_03, loss_dos, test_loss_dos = kernel_reg_train_Ad(KERNEL, ldos3, biased_clusterless_train_index, biased_clusterless_test_index, kMM, 1, 10000, 16, 1e-3)\n",
    "\n",
    "print (\"Adam Biased\")\n",
    "print (\"The train error is {:.4} for KERNEL\".format(loss_dos,m))\n",
    "print (\"The test error is {:.4} for KERNEL\".format(test_loss_dos, m))"
   ]
  },
  {
   "cell_type": "markdown",
   "id": "d479f919",
   "metadata": {
    "hidden": true
   },
   "source": [
    "### 0.1eV Smearing"
   ]
  },
  {
   "cell_type": "code",
   "execution_count": 711,
   "id": "1ab58957",
   "metadata": {
    "ExecuteTime": {
     "end_time": "2023-04-19T16:47:44.318572Z",
     "start_time": "2023-04-19T16:42:42.930716Z"
    },
    "hidden": true
   },
   "outputs": [
    {
     "name": "stderr",
     "output_type": "stream",
     "text": [
      "Epoch: 1008:  10%|██████████▎                                                                                           | 1008/10000 [02:45<19:35,  7.65it/s, lowest_mse=0.0345, pred_loss=37.3, trigger=0]"
     ]
    },
    {
     "name": "stdout",
     "output_type": "stream",
     "text": [
      "The batch_size is now:  32\n"
     ]
    },
    {
     "name": "stderr",
     "output_type": "stream",
     "text": [
      "Epoch: 1612:  16%|████████████████▍                                                                                     | 1612/10000 [03:39<10:24, 13.43it/s, lowest_mse=0.0344, pred_loss=37.2, trigger=0]"
     ]
    },
    {
     "name": "stdout",
     "output_type": "stream",
     "text": [
      "The batch_size is now:  64\n"
     ]
    },
    {
     "name": "stderr",
     "output_type": "stream",
     "text": [
      "Epoch: 2219:  22%|██████████████████████▌                                                                               | 2216/10000 [04:10<05:25, 23.93it/s, lowest_mse=0.0344, pred_loss=37.2, trigger=0]"
     ]
    },
    {
     "name": "stdout",
     "output_type": "stream",
     "text": [
      "The batch_size is now:  128\n"
     ]
    },
    {
     "name": "stderr",
     "output_type": "stream",
     "text": [
      "Epoch: 2824:  28%|████████████████████████████▊                                                                         | 2820/10000 [04:28<03:07, 38.22it/s, lowest_mse=0.0344, pred_loss=37.2, trigger=0]"
     ]
    },
    {
     "name": "stdout",
     "output_type": "stream",
     "text": [
      "The batch_size is now:  256\n"
     ]
    },
    {
     "name": "stderr",
     "output_type": "stream",
     "text": [
      "Epoch: 3428:  34%|██████████████████████████████████▉                                                                   | 3425/10000 [04:42<02:20, 46.67it/s, lowest_mse=0.0343, pred_loss=37.1, trigger=0]"
     ]
    },
    {
     "name": "stdout",
     "output_type": "stream",
     "text": [
      "The batch_size is now:  512\n"
     ]
    },
    {
     "name": "stderr",
     "output_type": "stream",
     "text": [
      "Epoch: 4037:  40%|█████████████████████████████████████████▏                                                            | 4033/10000 [04:53<01:28, 67.55it/s, lowest_mse=0.0343, pred_loss=37.1, trigger=0]"
     ]
    },
    {
     "name": "stdout",
     "output_type": "stream",
     "text": [
      "The batch_size is now:  1024\n"
     ]
    },
    {
     "name": "stderr",
     "output_type": "stream",
     "text": [
      "Epoch: 4624:  46%|███████████████████████████████████████████████▏                                                      | 4624/10000 [05:01<05:50, 15.34it/s, lowest_mse=0.0343, pred_loss=37.1, trigger=0]\n"
     ]
    },
    {
     "name": "stdout",
     "output_type": "stream",
     "text": [
      "The batch_size is now:  2048\n",
      "Adam Biased\n",
      "The train error is 37.12 for SOAP\n",
      "The test error is 42.79 for SOAP\n"
     ]
    }
   ],
   "source": [
    "weights, loss_dos, test_loss_dos = normal_reg_train_Ad(SOAP, ldos1, biased_clusterless_train_index, biased_clusterless_test_index, 1e-3, 10000, 16, 1e-2)\n",
    "print (\"Adam Biased\")\n",
    "print (\"The train error is {:.4} for SOAP\".format(loss_dos,m))\n",
    "print (\"The test error is {:.4} for SOAP\".format(test_loss_dos, m))"
   ]
  },
  {
   "cell_type": "code",
   "execution_count": 712,
   "id": "5ce25d23",
   "metadata": {
    "ExecuteTime": {
     "end_time": "2023-04-19T16:50:37.018597Z",
     "start_time": "2023-04-19T16:47:44.320847Z"
    },
    "hidden": true
   },
   "outputs": [
    {
     "name": "stderr",
     "output_type": "stream",
     "text": [
      "Epoch: 808:   8%|████████▍                                                                                                | 808/10000 [01:22<12:28, 12.28it/s, lowest_mse=0.128, pred_loss=72.1, trigger=0]"
     ]
    },
    {
     "name": "stdout",
     "output_type": "stream",
     "text": [
      "The batch_size is now:  32\n"
     ]
    },
    {
     "name": "stderr",
     "output_type": "stream",
     "text": [
      "Epoch: 1414:  14%|██████████████▌                                                                                        | 1414/10000 [01:59<05:54, 24.22it/s, lowest_mse=0.116, pred_loss=68.6, trigger=0]"
     ]
    },
    {
     "name": "stdout",
     "output_type": "stream",
     "text": [
      "The batch_size is now:  64\n"
     ]
    },
    {
     "name": "stderr",
     "output_type": "stream",
     "text": [
      "Epoch: 2021:  20%|████████████████████▊                                                                                  | 2019/10000 [02:18<03:26, 38.63it/s, lowest_mse=0.107, pred_loss=65.4, trigger=0]"
     ]
    },
    {
     "name": "stdout",
     "output_type": "stream",
     "text": [
      "The batch_size is now:  128\n"
     ]
    },
    {
     "name": "stderr",
     "output_type": "stream",
     "text": [
      "Epoch: 2627:  26%|███████████████████████████▌                                                                             | 2627/10000 [02:30<02:05, 58.90it/s, lowest_mse=0.1, pred_loss=63.6, trigger=0]"
     ]
    },
    {
     "name": "stdout",
     "output_type": "stream",
     "text": [
      "The batch_size is now:  256\n"
     ]
    },
    {
     "name": "stderr",
     "output_type": "stream",
     "text": [
      "Epoch: 3233:  32%|████████████████████████████████▉                                                                     | 3232/10000 [02:39<01:31, 74.28it/s, lowest_mse=0.0969, pred_loss=62.6, trigger=0]"
     ]
    },
    {
     "name": "stdout",
     "output_type": "stream",
     "text": [
      "The batch_size is now:  512\n"
     ]
    },
    {
     "name": "stderr",
     "output_type": "stream",
     "text": [
      "Epoch: 3841:  38%|███████████████████████████████████████▏                                                              | 3837/10000 [02:46<01:08, 90.40it/s, lowest_mse=0.0948, pred_loss=61.7, trigger=0]"
     ]
    },
    {
     "name": "stdout",
     "output_type": "stream",
     "text": [
      "The batch_size is now:  1024\n"
     ]
    },
    {
     "name": "stderr",
     "output_type": "stream",
     "text": [
      "Epoch: 4423:  44%|█████████████████████████████████████████████▉                                                          | 4423/10000 [02:52<03:37, 25.62it/s, lowest_mse=0.0926, pred_loss=61, trigger=0]"
     ]
    },
    {
     "name": "stdout",
     "output_type": "stream",
     "text": [
      "The batch_size is now:  2048\n",
      "Adam Biased\n",
      "The train error is 60.99 for KERNEL\n",
      "The test error is 72.15 for KERNEL\n"
     ]
    },
    {
     "name": "stderr",
     "output_type": "stream",
     "text": [
      "\n"
     ]
    }
   ],
   "source": [
    "A_U_weights_03, loss_dos, test_loss_dos = kernel_reg_train_Ad(KERNEL, ldos1, biased_clusterless_train_index, biased_clusterless_test_index, kMM, 1, 10000, 16, 1e-3)\n",
    "\n",
    "print (\"Adam Biased\")\n",
    "print (\"The train error is {:.4} for KERNEL\".format(loss_dos,m))\n",
    "print (\"The test error is {:.4} for KERNEL\".format(test_loss_dos, m))"
   ]
  },
  {
   "cell_type": "markdown",
   "id": "3b9400a1",
   "metadata": {
    "hidden": true
   },
   "source": [
    "## Baseline GF model - LBFGS - Clusterless Unbiased"
   ]
  },
  {
   "cell_type": "markdown",
   "id": "a524b30c",
   "metadata": {
    "hidden": true
   },
   "source": [
    "### 0.3 eV Smearing"
   ]
  },
  {
   "cell_type": "code",
   "execution_count": 713,
   "id": "720a2a37",
   "metadata": {
    "ExecuteTime": {
     "end_time": "2023-04-19T16:50:39.798721Z",
     "start_time": "2023-04-19T16:50:37.021043Z"
    },
    "hidden": true
   },
   "outputs": [
    {
     "name": "stderr",
     "output_type": "stream",
     "text": [
      "Epoch: 39: 100%|████████████████████████████████████████████████████████████████████████████████████████████████████████████| 40/40 [00:02<00:00, 14.51it/s, lowest_mse=0.00774, pred_loss=16.6, trigger=0]"
     ]
    },
    {
     "name": "stdout",
     "output_type": "stream",
     "text": [
      "LBFGS Unbiased\n",
      "The train error is 16.6 for SOAP\n",
      "The test error is 17.22 for SOAP\n"
     ]
    },
    {
     "name": "stderr",
     "output_type": "stream",
     "text": [
      "\n"
     ]
    }
   ],
   "source": [
    "U_L_weights3 , loss_dos, test_loss_dos = normal_reg_train_L(SOAP, ldos3, clusterless_train, clusterless_test, 1e-3, 40, 1)\n",
    "print (\"LBFGS Unbiased\")\n",
    "print (\"The train error is {:.4} for SOAP\".format(loss_dos,m))\n",
    "print (\"The test error is {:.4} for SOAP\".format(test_loss_dos, m))"
   ]
  },
  {
   "cell_type": "code",
   "execution_count": 725,
   "id": "a43a9385",
   "metadata": {
    "ExecuteTime": {
     "end_time": "2023-04-20T09:30:53.334614Z",
     "start_time": "2023-04-20T09:30:50.988263Z"
    },
    "hidden": true
   },
   "outputs": [
    {
     "name": "stderr",
     "output_type": "stream",
     "text": [
      "Epoch: 39: 100%|█████████████████████████████████████████████████████████████████████████████████████████████████████████████| 40/40 [00:02<00:00, 17.40it/s, lowest_mse=0.0342, pred_loss=34.9, trigger=0]"
     ]
    },
    {
     "name": "stdout",
     "output_type": "stream",
     "text": [
      "LBFGS Unbiased\n",
      "The train error is 34.91 for Kernel\n",
      "The test error is 35.23 for Kernel\n"
     ]
    },
    {
     "name": "stderr",
     "output_type": "stream",
     "text": [
      "\n"
     ]
    }
   ],
   "source": [
    "U_L_weights3 , loss_dos, test_loss_dos = kernel_reg_train_L(KERNEL, ldos3, clusterless_train, clusterless_test, kMM, 1, 40, 1)\n",
    "print (\"LBFGS Unbiased\")\n",
    "print (\"The train error is {:.4} for Kernel\".format(loss_dos,m))\n",
    "print (\"The test error is {:.4} for Kernel\".format(test_loss_dos, m))"
   ]
  },
  {
   "cell_type": "markdown",
   "id": "c57cce46",
   "metadata": {
    "hidden": true
   },
   "source": [
    "### 0.1eV Smearing"
   ]
  },
  {
   "cell_type": "code",
   "execution_count": 726,
   "id": "3f27695d",
   "metadata": {
    "ExecuteTime": {
     "end_time": "2023-04-20T09:30:59.716111Z",
     "start_time": "2023-04-20T09:30:54.971510Z"
    },
    "hidden": true
   },
   "outputs": [
    {
     "name": "stderr",
     "output_type": "stream",
     "text": [
      "Epoch: 39: 100%|█████████████████████████████████████████████████████████████████████████████████████████████████████████████| 40/40 [00:04<00:00,  8.47it/s, lowest_mse=0.0338, pred_loss=26.1, trigger=0]"
     ]
    },
    {
     "name": "stdout",
     "output_type": "stream",
     "text": [
      "LBFGS Unbiased\n",
      "The train error is 26.12 for SOAP\n",
      "The test error is 31.62 for SOAP\n"
     ]
    },
    {
     "name": "stderr",
     "output_type": "stream",
     "text": [
      "\n"
     ]
    }
   ],
   "source": [
    "U_L_weights3 , loss_dos, test_loss_dos = normal_reg_train_L(SOAP, ldos1, clusterless_train, clusterless_test, 1e-3, 40, 1)\n",
    "print (\"LBFGS Unbiased\")\n",
    "print (\"The train error is {:.4} for SOAP\".format(loss_dos,m))\n",
    "print (\"The test error is {:.4} for SOAP\".format(test_loss_dos, m))"
   ]
  },
  {
   "cell_type": "code",
   "execution_count": 727,
   "id": "c91b6072",
   "metadata": {
    "ExecuteTime": {
     "end_time": "2023-04-20T09:31:01.226668Z",
     "start_time": "2023-04-20T09:30:59.717864Z"
    },
    "hidden": true
   },
   "outputs": [
    {
     "name": "stderr",
     "output_type": "stream",
     "text": [
      "Epoch: 39: 100%|████████████████████████████████████████████████████████████████████████████████████████████████████████████████| 40/40 [00:01<00:00, 27.16it/s, lowest_mse=0.145, pred_loss=54, trigger=0]\n"
     ]
    },
    {
     "name": "stdout",
     "output_type": "stream",
     "text": [
      "LBFGS Unbiased\n",
      "The train error is 54.02 for Kernel\n",
      "The test error is 55.19 for Kernel\n"
     ]
    }
   ],
   "source": [
    "U_L_weights3 , loss_dos, test_loss_dos = kernel_reg_train_L(KERNEL, ldos1, clusterless_train, clusterless_test, kMM, 1, 40, 1)\n",
    "print (\"LBFGS Unbiased\")\n",
    "print (\"The train error is {:.4} for Kernel\".format(loss_dos,m))\n",
    "print (\"The test error is {:.4} for Kernel\".format(test_loss_dos, m))"
   ]
  },
  {
   "cell_type": "markdown",
   "id": "4e5f2c94",
   "metadata": {
    "hidden": true
   },
   "source": [
    "## Baseline GF model - LBFGS - Clusterless Biased"
   ]
  },
  {
   "cell_type": "markdown",
   "id": "df11ba9d",
   "metadata": {
    "hidden": true
   },
   "source": [
    "### 0.3eV Smearing"
   ]
  },
  {
   "cell_type": "code",
   "execution_count": 733,
   "id": "13be6a2e",
   "metadata": {
    "ExecuteTime": {
     "end_time": "2023-04-20T09:31:32.835184Z",
     "start_time": "2023-04-20T09:31:30.527453Z"
    },
    "hidden": true
   },
   "outputs": [
    {
     "name": "stderr",
     "output_type": "stream",
     "text": [
      "Epoch: 39: 100%|████████████████████████████████████████████████████████████████████████████████████████████████████████████| 40/40 [00:02<00:00, 17.52it/s, lowest_mse=0.00751, pred_loss=21.2, trigger=0]\n"
     ]
    },
    {
     "name": "stdout",
     "output_type": "stream",
     "text": [
      "LBFGS Biased\n",
      "The train error is 21.16 for SOAP\n",
      "The test error is 26.97 for SOAP\n"
     ]
    }
   ],
   "source": [
    "U_L_weights3 , loss_dos, test_loss_dos = normal_reg_train_L(SOAP, ldos3, biased_clusterless_train_index, biased_clusterless_test_index, 1e-3, 40, 1)\n",
    "print (\"LBFGS Biased\")\n",
    "print (\"The train error is {:.4} for SOAP\".format(loss_dos,m))\n",
    "print (\"The test error is {:.4} for SOAP\".format(test_loss_dos, m))"
   ]
  },
  {
   "cell_type": "code",
   "execution_count": 729,
   "id": "595b0278",
   "metadata": {
    "ExecuteTime": {
     "end_time": "2023-04-20T09:31:07.590752Z",
     "start_time": "2023-04-20T09:31:04.217454Z"
    },
    "hidden": true
   },
   "outputs": [
    {
     "name": "stderr",
     "output_type": "stream",
     "text": [
      "Epoch: 39: 100%|█████████████████████████████████████████████████████████████████████████████████████████████████████████████| 40/40 [00:03<00:00, 11.99it/s, lowest_mse=0.0193, pred_loss=33.9, trigger=0]"
     ]
    },
    {
     "name": "stdout",
     "output_type": "stream",
     "text": [
      "LBFGS Biased\n",
      "The train error is 33.9 for Kernel\n",
      "The test error is 41.52 for Kernel\n"
     ]
    },
    {
     "name": "stderr",
     "output_type": "stream",
     "text": [
      "\n"
     ]
    }
   ],
   "source": [
    "U_L_weights3 , loss_dos, test_loss_dos = kernel_reg_train_L(KERNEL, ldos3, biased_clusterless_train_index, biased_clusterless_test_index, kMM, 1, 40, 1)\n",
    "print (\"LBFGS Biased\")\n",
    "print (\"The train error is {:.4} for Kernel\".format(loss_dos,m))\n",
    "print (\"The test error is {:.4} for Kernel\".format(test_loss_dos, m))"
   ]
  },
  {
   "cell_type": "markdown",
   "id": "d298536f",
   "metadata": {
    "hidden": true
   },
   "source": [
    "### 0.1eV Smearing"
   ]
  },
  {
   "cell_type": "code",
   "execution_count": 730,
   "id": "e2164981",
   "metadata": {
    "ExecuteTime": {
     "end_time": "2023-04-20T09:31:10.615856Z",
     "start_time": "2023-04-20T09:31:07.592886Z"
    },
    "hidden": true
   },
   "outputs": [
    {
     "name": "stderr",
     "output_type": "stream",
     "text": [
      "Epoch: 39: 100%|█████████████████████████████████████████████████████████████████████████████████████████████████████████████| 40/40 [00:03<00:00, 13.31it/s, lowest_mse=0.0355, pred_loss=37.8, trigger=0]"
     ]
    },
    {
     "name": "stdout",
     "output_type": "stream",
     "text": [
      "LBFGS Biased\n",
      "The train error is 37.76 for SOAP\n",
      "The test error is 45.28 for SOAP\n"
     ]
    },
    {
     "name": "stderr",
     "output_type": "stream",
     "text": [
      "\n"
     ]
    }
   ],
   "source": [
    "U_L_weights3 , loss_dos, test_loss_dos = normal_reg_train_L(SOAP, ldos1, biased_clusterless_train_index, biased_clusterless_test_index, 1e-3, 40, 1)\n",
    "print (\"LBFGS Biased\")\n",
    "print (\"The train error is {:.4} for SOAP\".format(loss_dos,m))\n",
    "print (\"The test error is {:.4} for SOAP\".format(test_loss_dos, m))"
   ]
  },
  {
   "cell_type": "code",
   "execution_count": 731,
   "id": "840fd3bd",
   "metadata": {
    "ExecuteTime": {
     "end_time": "2023-04-20T09:31:13.658705Z",
     "start_time": "2023-04-20T09:31:10.617522Z"
    },
    "hidden": true
   },
   "outputs": [
    {
     "name": "stderr",
     "output_type": "stream",
     "text": [
      "Epoch: 39: 100%|█████████████████████████████████████████████████████████████████████████████████████████████████████████████| 40/40 [00:03<00:00, 13.31it/s, lowest_mse=0.0638, pred_loss=50.7, trigger=0]"
     ]
    },
    {
     "name": "stdout",
     "output_type": "stream",
     "text": [
      "LBFGS Biased\n",
      "The train error is 50.66 for Kernel\n",
      "The test error is 59.31 for Kernel\n"
     ]
    },
    {
     "name": "stderr",
     "output_type": "stream",
     "text": [
      "\n"
     ]
    }
   ],
   "source": [
    "U_L_weights3 , loss_dos, test_loss_dos = kernel_reg_train_L(KERNEL, ldos1, biased_clusterless_train_index, biased_clusterless_test_index, kMM, 1, 40, 1)\n",
    "print (\"LBFGS Biased\")\n",
    "print (\"The train error is {:.4} for Kernel\".format(loss_dos,m))\n",
    "print (\"The test error is {:.4} for Kernel\".format(test_loss_dos, m))"
   ]
  },
  {
   "cell_type": "code",
   "execution_count": null,
   "id": "3f8f34b8",
   "metadata": {
    "hidden": true
   },
   "outputs": [],
   "source": []
  },
  {
   "cell_type": "code",
   "execution_count": null,
   "id": "a287cdb0",
   "metadata": {
    "hidden": true
   },
   "outputs": [],
   "source": []
  }
 ],
 "metadata": {
  "kernelspec": {
   "display_name": "Python 3 (ipykernel)",
   "language": "python",
   "name": "python3"
  },
  "language_info": {
   "codemirror_mode": {
    "name": "ipython",
    "version": 3
   },
   "file_extension": ".py",
   "mimetype": "text/x-python",
   "name": "python",
   "nbconvert_exporter": "python",
   "pygments_lexer": "ipython3",
   "version": "3.9.12"
  },
  "toc": {
   "base_numbering": 1,
   "nav_menu": {},
   "number_sections": true,
   "sideBar": true,
   "skip_h1_title": false,
   "title_cell": "Table of Contents",
   "title_sidebar": "Contents",
   "toc_cell": false,
   "toc_position": {
    "height": "1119px",
    "left": "36px",
    "top": "111.133px",
    "width": "396.6px"
   },
   "toc_section_display": true,
   "toc_window_display": true
  }
 },
 "nbformat": 4,
 "nbformat_minor": 5
}
