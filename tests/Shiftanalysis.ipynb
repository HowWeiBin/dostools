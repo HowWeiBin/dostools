{
 "cells": [
  {
   "cell_type": "code",
<<<<<<< HEAD
   "execution_count": 38,
   "id": "3a9c0245",
   "metadata": {
    "ExecuteTime": {
     "end_time": "2023-04-25T12:09:34.987801Z",
     "start_time": "2023-04-25T12:09:34.983376Z"
=======
   "execution_count": null,
   "id": "3a9c0245",
   "metadata": {
    "ExecuteTime": {
     "end_time": "2023-04-04T11:33:41.037209Z",
     "start_time": "2023-04-04T11:33:30.956518Z"
>>>>>>> d22a6c4f71ffcfe88e87f8f7402568f1c6e91048
    }
   },
   "outputs": [],
   "source": [
    "import torch\n",
<<<<<<< HEAD
    "import numpy as np\n",
    "import json"
   ]
  },
  {
   "cell_type": "markdown",
   "id": "61fb0675",
   "metadata": {},
   "source": [
    "### Dataset Description"
=======
    "import numpy as np\n"
>>>>>>> d22a6c4f71ffcfe88e87f8f7402568f1c6e91048
   ]
  },
  {
   "cell_type": "code",
<<<<<<< HEAD
   "execution_count": 49,
   "id": "5d8497bb",
   "metadata": {
    "ExecuteTime": {
     "end_time": "2023-04-25T12:59:30.252298Z",
     "start_time": "2023-04-25T12:59:30.241139Z"
=======
   "execution_count": 70,
   "id": "e5be2c6a",
   "metadata": {
    "ExecuteTime": {
     "end_time": "2023-04-13T12:12:53.238587Z",
     "start_time": "2023-04-13T12:12:53.123718Z"
>>>>>>> d22a6c4f71ffcfe88e87f8f7402568f1c6e91048
    }
   },
   "outputs": [],
   "source": [
<<<<<<< HEAD
    "diamonds = torch.arange(0,324,1)\n",
    "beta_tin = torch.arange(324, 604, 1)\n",
    "liquid = torch.arange(604, 673, 1)\n",
    "surface_001 = torch.arange(673, 704, 1)\n",
    "surface_110 = torch.arange(704, 730, 1)\n",
    "surface_111 = torch.arange(730, 777, 1)\n",
    "surface_111_pandey =torch.arange(777, 827, 1)\n",
    "amorphous = torch.arange(827,927,1)\n",
    "#First 30 is 001 surface\n",
    "#31 - 56 is 110\n",
    "#57 - 103 is 111\n",
    "#104 - 153 is 111 pandey?\n",
    "\n",
    "surfaces = torch.arange(673, 827)\n",
    "\n",
    "s_surface_001 = torch.arange(0,31,1)\n",
    "s_surface_110 = torch.arange(31, 57,1)\n",
    "s_surface_111 = torch.arange(57,104, 1)\n",
    "s_surface_111_pandey = torch.arange(104, 154,1)"
   ]
  },
  {
   "cell_type": "markdown",
   "id": "a0011fd4",
   "metadata": {},
   "source": [
    "### Generate indexes"
=======
    "unbiased_train_shift = torch.load(\"./best_shift_fourier4.pt\")\n",
    "biased_train_shift = torch.load(\"./biased_best_state2.pt\")\n",
    "unbiased_test_shift = torch.load(\"./unbiased_test_shift.pt\")\n",
    "biased_test_shift = torch.load(\"./biased_test_shift.pt\")\n",
    "\n",
    "Splines_unbiased_train_shift = torch.load(\"./Splines_beststate_0\")\n",
    "Splines_unbiased_test_shift = torch.load(\"./Splines_testalign_0\")"
>>>>>>> d22a6c4f71ffcfe88e87f8f7402568f1c6e91048
   ]
  },
  {
   "cell_type": "code",
<<<<<<< HEAD
   "execution_count": 28,
   "id": "e5be2c6a",
   "metadata": {
    "ExecuteTime": {
     "end_time": "2023-04-25T11:57:14.119055Z",
     "start_time": "2023-04-25T11:57:14.103275Z"
=======
   "execution_count": 71,
   "id": "85ca234d",
   "metadata": {
    "ExecuteTime": {
     "end_time": "2023-04-13T12:12:54.296084Z",
     "start_time": "2023-04-13T12:12:54.283307Z"
>>>>>>> d22a6c4f71ffcfe88e87f8f7402568f1c6e91048
    }
   },
   "outputs": [],
   "source": [
<<<<<<< HEAD
    "def generate_train_test_split(n_samples):\n",
    "    n_structures = n_samples\n",
    "    np.random.seed(0)\n",
    "    n_train = int(0.8 * n_structures)\n",
    "    train_index = np.arange(n_structures)\n",
    "    np.random.shuffle(train_index)\n",
    "    test_index = train_index[n_train:]\n",
    "    train_index = train_index[:n_train]\n",
    "    \n",
    "    return train_index, test_index\n",
    "\n",
    "def generate_biased_train_test_split(n_samples):\n",
    "    #Assumes 100 amorphous structures at the end\n",
    "    n_structures = n_samples\n",
    "    amorph_train = np.arange(n_samples-100, n_samples,1)\n",
    "    np.random.seed(0)\n",
    "    np.random.shuffle(amorph_train)\n",
    "    \n",
    "    amorph_test = amorph_train[:80]\n",
    "    amorph_train = amorph_train[80:]\n",
    "\n",
    "    n_structures = n_samples - 100\n",
    "    np.random.seed(0)\n",
    "    n_train = int(0.8 * n_samples)-20\n",
    "    remaining_train_index = np.arange(n_structures)\n",
    "    np.random.shuffle(remaining_train_index)\n",
    "\n",
    "    remaining_test_index = remaining_train_index[n_train:]\n",
    "    remaining_train_index = remaining_train_index[:n_train]\n",
    "\n",
    "    biased_train_index = np.concatenate([remaining_train_index, amorph_train])\n",
    "    biased_test_index = np.concatenate([remaining_test_index, amorph_test])\n",
    "    \n",
    "    return biased_train_index, biased_test_index\n",
    "\n",
    "def generate_surface_holdout_split(n_samples):\n",
    "    #Assumes that we are using the 110 surfaces for test which are located at 673 + 31st-57th index\n",
    "    #26 structures\n",
    "    \n",
    "    n_test = int(0.2 * n_samples) - 26\n",
    "    n_train = n_samples - n_test\n",
    "    \n",
    "    remaining_indexes = np.concatenate([np.arange(673+31), np.arange(673+57,n_samples,1)])\n",
    "    indexes_110 = np.arange(673+31, 673+57,1)\n",
    "    np.random.seed(0)\n",
    "    \n",
    "    np.random.shuffle(remaining_indexes)\n",
    "    \n",
    "    remaining_test_index = remaining_indexes[n_train:]\n",
    "    remaining_train_index = remaining_indexes[:n_train]\n",
    "    \n",
    "    total_train_index = remaining_train_index\n",
    "    total_test_index = np.concatenate([remaining_test_index, indexes_110])\n",
    "    \n",
    "    return total_train_index, total_test_index\n",
    "    \n",
    "def surface_holdout(n_samples):\n",
    "    test_index = np.arange(31,57,1)\n",
    "    train_index = np.concatenate([np.arange(31), np.arange(57, n_samples)])\n",
    "    \n",
    "    return train_index, test_index\n",
    "\n",
    "n_surfaces = 154\n",
    "n_bulkstructures = 773\n",
    "n_total_structures = 773 + 154\n",
    "\n",
    "\n",
    "surface_train_index, surface_test_index = generate_train_test_split(n_surfaces)\n",
    "bulk_train_index, bulk_test_index = generate_train_test_split(n_bulkstructures)\n",
    "total_train_index, total_test_index = generate_train_test_split(n_total_structures)\n",
    "surface_holdout_train_index, surface_holdout_test_index = surface_holdout(n_surfaces)\n",
    "bulk_biased_train_index, bulk_biased_test_index = generate_biased_train_test_split(n_bulkstructures)\n",
    "total_biased_train_index, total_biased_test_index = generate_biased_train_test_split(n_total_structures)\n",
    "holdout_train_index, holdout_test_index = generate_surface_holdout_split(n_total_structures)"
=======
    "n_structures = 1039\n",
    "np.random.seed(0)\n",
    "n_train = int(0.8 * n_structures)\n",
    "train_index = np.arange(n_structures)\n",
    "np.random.shuffle(train_index)\n",
    "test_index = train_index[n_train:]\n",
    "train_index = train_index[:n_train]\n",
    "\n",
    "#Selected Amorphous structures\n",
    "\n",
    "amorph_train = np.arange(939,1039,1)\n",
    "np.random.seed(0)\n",
    "np.random.shuffle(amorph_train)\n",
    "\n",
    "amorph_test = amorph_train[:80]\n",
    "amorph_train = amorph_train[80:]\n",
    "\n",
    "n_structures2 = 939\n",
    "np.random.seed(0)\n",
    "n_train = int(0.8 * 1039)-20\n",
    "remaining_train_index = np.arange(n_structures2)\n",
    "np.random.shuffle(remaining_train_index)\n",
    "\n",
    "remaining_test_index = remaining_train_index[n_train:]\n",
    "remaining_train_index = remaining_train_index[:n_train]\n",
    "\n",
    "biased_train_index = np.concatenate([remaining_train_index, amorph_train])\n",
    "biased_test_index = np.concatenate([remaining_test_index, amorph_test])"
>>>>>>> d22a6c4f71ffcfe88e87f8f7402568f1c6e91048
   ]
  },
  {
   "cell_type": "code",
<<<<<<< HEAD
   "execution_count": 33,
   "id": "bf80b5ce",
   "metadata": {
    "ExecuteTime": {
     "end_time": "2023-04-25T12:05:21.182563Z",
     "start_time": "2023-04-25T12:05:21.175770Z"
    }
   },
   "outputs": [],
   "source": [
    "def reverse_index(train_align, test_align, train_index, test_index):\n",
    "    total_number = len(train_align) + len(test_align)\n",
    "    original_index = torch.zeros(total_number).float()\n",
    "    \n",
    "    original_index.index_add_(0, train_index, train_align)\n",
    "    original_index.index_add_(0, test_index, test_align)\n",
    "    \n",
    "    return original_index"
=======
   "execution_count": 72,
   "id": "5867dc1c",
   "metadata": {
    "ExecuteTime": {
     "end_time": "2023-04-13T12:13:14.250040Z",
     "start_time": "2023-04-13T12:13:14.167648Z"
    }
   },
   "outputs": [
    {
     "data": {
      "text/plain": [
       "tensor([0.1585, 0.1279, 0.1512,  ..., 0.0969, 0.0829, 0.1146],\n",
       "       dtype=torch.float64, grad_fn=<IndexAddBackward0>)"
      ]
     },
     "execution_count": 72,
     "metadata": {},
     "output_type": "execute_result"
    }
   ],
   "source": [
    "unbiased_shifts = torch.zeros(n_structures).double()\n",
    "biased_shifts = torch.zeros(n_structures).double()\n",
    "\n",
    "\n",
    "unbiased_shifts.index_add_(dim = 0, index = torch.tensor(train_index), source = Splines_unbiased_train_shift)\n",
    "unbiased_shifts.index_add_(dim = 0, index = torch.tensor(test_index), source = Splines_unbiased_test_shift)\n",
    "\n",
    "biased_shifts.index_add_(dim = 0, index = torch.tensor(biased_train_index), source = biased_train_shift)\n",
    "biased_shifts.index_add_(dim = 0, index = torch.tensor(biased_test_index), source = biased_test_shift)\n"
>>>>>>> d22a6c4f71ffcfe88e87f8f7402568f1c6e91048
   ]
  },
  {
   "cell_type": "code",
<<<<<<< HEAD
   "execution_count": 40,
   "id": "6bbf1f54",
   "metadata": {
    "ExecuteTime": {
     "end_time": "2023-04-25T12:10:47.857449Z",
     "start_time": "2023-04-25T12:10:47.847457Z"
    }
   },
   "outputs": [],
   "source": [
    "f = open(\"./vacuum_reference.json\")\n",
    "vacuum_reference = json.load(f)\n",
    "vacuum_reference = torch.tensor([vacuum_reference[i] for i in vacuum_reference])\n",
    "\n",
    "deepest_core_reference = np.load(\"./deepest_core_reference.npy\")"
=======
   "execution_count": 73,
   "id": "f4705a45",
   "metadata": {
    "ExecuteTime": {
     "end_time": "2023-04-13T12:13:16.400611Z",
     "start_time": "2023-04-13T12:13:16.392841Z"
    }
   },
   "outputs": [
    {
     "data": {
      "text/plain": [
       "tensor(0.1330, dtype=torch.float64, grad_fn=<MeanBackward0>)"
      ]
     },
     "execution_count": 73,
     "metadata": {},
     "output_type": "execute_result"
    }
   ],
   "source": [
    "torch.mean((biased_shifts - unbiased_shifts)**2)"
>>>>>>> d22a6c4f71ffcfe88e87f8f7402568f1c6e91048
   ]
  },
  {
   "cell_type": "code",
<<<<<<< HEAD
   "execution_count": 42,
   "id": "02e3222b",
   "metadata": {
    "ExecuteTime": {
     "end_time": "2023-04-25T12:24:59.906413Z",
     "start_time": "2023-04-25T12:24:59.897980Z"
=======
   "execution_count": 74,
   "id": "5a1964f9",
   "metadata": {
    "ExecuteTime": {
     "end_time": "2023-04-13T12:13:17.951417Z",
     "start_time": "2023-04-13T12:13:17.945261Z"
>>>>>>> d22a6c4f71ffcfe88e87f8f7402568f1c6e91048
    }
   },
   "outputs": [],
   "source": [
<<<<<<< HEAD
    "adam_corr_train_shifts = torch.load(\"./adam_corr_train_shifts.pt\")\n",
    "adam_corr_test_shifts = torch.load(\"./adam_corr_test_shifts.pt\")"
   ]
  },
  {
   "cell_type": "code",
   "execution_count": 45,
   "id": "feb2989d",
   "metadata": {
    "ExecuteTime": {
     "end_time": "2023-04-25T12:58:51.613221Z",
     "start_time": "2023-04-25T12:58:51.607200Z"
    }
   },
   "outputs": [],
   "source": [
    "adam_corr_shifts = reverse_index(adam_corr_train_shifts.float(), adam_corr_test_shifts.float(), torch.tensor(total_train_index), torch.tensor(total_test_index))"
=======
    "diamond_range = np.arange(0,324,1)\n",
    "beta_tin_range = np.arange(324,604,1)\n",
    "liquid_range = np.arange(604, 673, 1)\n",
    "clusters_range = np.arange(673, 939, 1)\n",
    "amorphous_range = np.arange(939, 1039, 1)"
   ]
  },
  {
   "cell_type": "markdown",
   "id": "956ca15f",
   "metadata": {
    "ExecuteTime": {
     "end_time": "2023-04-04T14:24:35.113642Z",
     "start_time": "2023-04-04T14:24:35.107252Z"
    }
   },
   "source": [
    "unbiased_shifts: -0.6 to 0.8 eV"
>>>>>>> d22a6c4f71ffcfe88e87f8f7402568f1c6e91048
   ]
  },
  {
   "cell_type": "code",
<<<<<<< HEAD
   "execution_count": 94,
   "id": "16357280",
   "metadata": {
    "ExecuteTime": {
     "end_time": "2023-04-25T14:40:19.207944Z",
     "start_time": "2023-04-25T14:40:19.199469Z"
    }
=======
   "execution_count": 75,
   "id": "99facaf7",
   "metadata": {
    "ExecuteTime": {
     "end_time": "2023-04-13T12:13:20.293626Z",
     "start_time": "2023-04-13T12:13:20.282115Z"
    },
    "scrolled": true
>>>>>>> d22a6c4f71ffcfe88e87f8f7402568f1c6e91048
   },
   "outputs": [
    {
     "data": {
      "text/plain": [
<<<<<<< HEAD
       "tensor(0.2044)"
      ]
     },
     "execution_count": 94,
=======
       "tensor([ 0.0000,  0.0973, -0.0184,  0.1250,  0.1443,  0.2085,  0.1924, -0.0480,\n",
       "        -0.0504,  0.1583, -0.1064,  0.1510, -0.1830,  0.0981,  0.2057,  0.1705,\n",
       "        -0.1820,  0.1238,  0.0298, -0.1703, -0.3380, -0.0686,  0.1340, -0.0990,\n",
       "        -0.0794, -0.0879, -0.2865,  0.0527,  0.0015, -0.2265, -0.2175, -0.1670,\n",
       "        -0.1110, -0.2800, -0.1070, -0.1050, -0.1931, -0.1930, -0.1950, -0.2120,\n",
       "        -0.3101, -0.2689, -0.3260, -0.2941, -0.1750, -0.4440, -0.3370, -0.4260,\n",
       "        -0.4211, -0.4022, -0.2660, -0.5830, -0.3200, -0.1870, -0.3134, -0.4310,\n",
       "        -0.4706, -0.5270, -0.2682, -0.4200, -0.4994, -0.2420, -0.4470, -0.4736,\n",
       "        -0.7490, -0.5490, -0.5120, -0.4910, -0.5155, -0.5180, -0.3950, -0.5740,\n",
       "        -0.4930, -0.5150, -0.5701, -0.3422, -0.3710, -0.4851, -0.7306, -0.7716,\n",
       "        -0.6365, -0.6280, -0.4050, -0.5206, -0.5180, -0.6491, -0.5400, -0.6890,\n",
       "        -0.6916, -0.7110, -0.7283, -0.6601, -0.7420, -0.7570, -0.6916, -0.4986,\n",
       "        -0.9546, -0.5940, -0.7179, -0.8940, -0.7870, -0.6380, -0.6000, -0.8720,\n",
       "         0.1404,  0.1595,  0.1776,  0.1834,  0.1715,  0.1515,  0.1326,  0.1316,\n",
       "         0.1476,  0.1705,  0.1865,  0.1844,  0.1625,  0.1375,  0.1236,  0.1315,\n",
       "         0.1565,  0.1814,  0.1904,  0.1784,  0.0301,  0.0321,  0.0325,  0.0325,\n",
       "         0.0329,  0.0328,  0.0326,  0.0345,  0.0373,  0.0374,  0.0375,  0.0395,\n",
       "         0.0395,  0.0406,  0.0424,  0.0425,  0.0454,  0.0466,  0.0475,  0.0485,\n",
       "        -0.0629, -0.0636, -0.0622, -0.0643, -0.0613, -0.0607, -0.0595, -0.0602,\n",
       "        -0.0581, -0.0576, -0.0567, -0.0561, -0.0537, -0.0538, -0.0507, -0.0501,\n",
       "        -0.0494, -0.0474, -0.0472, -0.0456, -0.1500, -0.1495, -0.1490, -0.1490,\n",
       "        -0.1482, -0.1473, -0.1468, -0.1456, -0.1447, -0.1436, -0.1450, -0.1442,\n",
       "        -0.1448, -0.1439, -0.1427, -0.1404, -0.1406, -0.1395, -0.1395, -0.1375,\n",
       "        -0.2316, -0.2315, -0.2305, -0.2313, -0.2296, -0.2312, -0.2305, -0.2308,\n",
       "        -0.2296, -0.2286, -0.2290, -0.2275, -0.2267, -0.2264, -0.2256, -0.2237,\n",
       "        -0.2235, -0.2218, -0.2216, -0.2219, -0.3115, -0.3105, -0.3095, -0.3097,\n",
       "        -0.3094, -0.3097, -0.3093, -0.3076, -0.3087, -0.3085, -0.3056, -0.3093,\n",
       "        -0.3075, -0.3066, -0.3046, -0.3046, -0.3032, -0.3025, -0.3022, -0.2995,\n",
       "        -0.3826, -0.3826, -0.3826, -0.3833, -0.3835, -0.3825, -0.3825, -0.3815,\n",
       "        -0.3816, -0.3813, -0.3811, -0.3800, -0.3785, -0.3774, -0.3784, -0.3800,\n",
       "        -0.3794, -0.3805, -0.3786, -0.3804, -0.4586, -0.4575, -0.4536, -0.4565,\n",
       "        -0.4516, -0.4536, -0.4535, -0.4525, -0.4534, -0.4506, -0.4528, -0.4505,\n",
       "        -0.4477, -0.4482, -0.4485, -0.4489, -0.4678, -0.4475, -0.4465, -0.4475,\n",
       "        -0.5236, -0.5265, -0.5245, -0.5246, -0.5255, -0.5245, -0.5245, -0.5245,\n",
       "        -0.5226, -0.5216, -0.5205, -0.5176, -0.5178, -0.5156, -0.5165, -0.5165,\n",
       "        -0.5175, -0.5156, -0.5126, -0.5144, -0.5906, -0.5876, -0.5915, -0.5886,\n",
       "        -0.5875, -0.5836, -0.5786, -0.5716, -0.5690, -0.5680, -0.5680, -0.5710,\n",
       "        -0.5839, -0.5809, -0.5820, -0.5820, -0.5820, -0.5834, -0.5836, -0.5890,\n",
       "        -0.6556, -0.6555, -0.6555, -0.6535, -0.6466, -0.6465, -0.6456, -0.6395,\n",
       "        -0.6345, -0.6296, -0.6295, -0.6275, -0.6297, -0.6236, -0.6225, -0.6256,\n",
       "        -0.6305, -0.6364, -0.6386, -0.6445], dtype=torch.float64,\n",
       "       grad_fn=<IndexBackward0>)"
      ]
     },
     "execution_count": 75,
>>>>>>> d22a6c4f71ffcfe88e87f8f7402568f1c6e91048
     "metadata": {},
     "output_type": "execute_result"
    }
   ],
   "source": [
<<<<<<< HEAD
    "torch.mean(torch.abs((adam_corr_shifts[surfaces] * 0.05 + 6.4462) - vacuum_reference))"
=======
    "(unbiased_shifts - unbiased_shifts[0])[diamond_range]"
>>>>>>> d22a6c4f71ffcfe88e87f8f7402568f1c6e91048
   ]
  },
  {
   "cell_type": "code",
<<<<<<< HEAD
   "execution_count": 96,
   "id": "c4cd966d",
   "metadata": {
    "ExecuteTime": {
     "end_time": "2023-04-25T15:02:12.187845Z",
     "start_time": "2023-04-25T15:02:12.183370Z"
    }
   },
   "outputs": [],
   "source": [
    "def functiona():\n",
    "    print (a)"
=======
   "execution_count": 77,
   "id": "450ccf3f",
   "metadata": {
    "ExecuteTime": {
     "end_time": "2023-04-13T12:13:53.807881Z",
     "start_time": "2023-04-13T12:13:53.799725Z"
    }
   },
   "outputs": [
    {
     "name": "stdout",
     "output_type": "stream",
     "text": [
      "tensor(-0.8853, dtype=torch.float64, grad_fn=<MinBackward1>)\n",
      "tensor(0.2778, dtype=torch.float64, grad_fn=<MaxBackward1>)\n"
     ]
    }
   ],
   "source": [
    "print (torch.min((unbiased_shifts - biased_shifts[0])[diamond_range]))\n",
    "print (torch.max((unbiased_shifts - biased_shifts[0])[diamond_range]))"
   ]
  },
  {
   "cell_type": "code",
   "execution_count": null,
   "id": "1d66e105",
   "metadata": {
    "ExecuteTime": {
     "end_time": "2023-04-04T14:20:37.169152Z",
     "start_time": "2023-04-04T14:20:37.159372Z"
    },
    "scrolled": true
   },
   "outputs": [],
   "source": [
    "(unbiased_shifts - unbiased_shifts[0])[beta_tin_range]"
   ]
  },
  {
   "cell_type": "markdown",
   "id": "38097b64",
   "metadata": {
    "ExecuteTime": {
     "end_time": "2023-04-04T14:21:28.935064Z",
     "start_time": "2023-04-04T14:21:28.930458Z"
    }
   },
   "source": [
    "-0.7308 to 0.6845 eV"
>>>>>>> d22a6c4f71ffcfe88e87f8f7402568f1c6e91048
   ]
  },
  {
   "cell_type": "code",
   "execution_count": null,
<<<<<<< HEAD
   "id": "ee3e898d",
   "metadata": {},
   "outputs": [],
   "source": [
    "0.2eV error"
=======
   "id": "04f44649",
   "metadata": {
    "ExecuteTime": {
     "end_time": "2023-04-04T14:21:39.219254Z",
     "start_time": "2023-04-04T14:21:39.211860Z"
    }
   },
   "outputs": [],
   "source": [
    "(unbiased_shifts - unbiased_shifts[0])[liquid_range]"
   ]
  },
  {
   "cell_type": "markdown",
   "id": "3280f693",
   "metadata": {},
   "source": [
    "-0.5366eV to 0.2740eV"
   ]
  },
  {
   "cell_type": "code",
   "execution_count": null,
   "id": "d72f10f6",
   "metadata": {
    "ExecuteTime": {
     "end_time": "2023-04-04T14:23:00.616217Z",
     "start_time": "2023-04-04T14:23:00.607102Z"
    },
    "scrolled": true
   },
   "outputs": [],
   "source": [
    "(unbiased_shifts - unbiased_shifts[0])[clusters_range]"
   ]
  },
  {
   "cell_type": "markdown",
   "id": "0dbf3339",
   "metadata": {},
   "source": [
    "-0.6639 to 0.0285eV"
>>>>>>> d22a6c4f71ffcfe88e87f8f7402568f1c6e91048
   ]
  },
  {
   "cell_type": "code",
<<<<<<< HEAD
   "execution_count": 71,
   "id": "aee33a8a",
   "metadata": {
    "ExecuteTime": {
     "end_time": "2023-04-25T13:09:17.332043Z",
     "start_time": "2023-04-25T13:09:17.324328Z"
=======
   "execution_count": null,
   "id": "681651d9",
   "metadata": {
    "ExecuteTime": {
     "end_time": "2023-04-04T14:23:51.236099Z",
     "start_time": "2023-04-04T14:23:51.228151Z"
    }
   },
   "outputs": [],
   "source": [
    "(unbiased_shifts - unbiased_shifts[0])[amorphous_range]"
   ]
  },
  {
   "cell_type": "markdown",
   "id": "35e3175f",
   "metadata": {
    "ExecuteTime": {
     "end_time": "2023-04-04T14:24:13.160804Z",
     "start_time": "2023-04-04T14:24:13.157653Z"
    }
   },
   "source": [
    "-0.3872 to -0.1448 eV"
   ]
  },
  {
   "cell_type": "code",
   "execution_count": null,
   "id": "c58667ca",
   "metadata": {
    "ExecuteTime": {
     "end_time": "2023-04-04T14:25:11.120971Z",
     "start_time": "2023-04-04T14:25:11.110243Z"
    },
    "scrolled": true
   },
   "outputs": [],
   "source": [
    "(biased_shifts - biased_shifts[0])[diamond_range]"
   ]
  },
  {
   "cell_type": "code",
   "execution_count": 22,
   "id": "83297088",
   "metadata": {
    "ExecuteTime": {
     "end_time": "2023-04-04T14:11:21.777543Z",
     "start_time": "2023-04-04T14:11:21.769415Z"
>>>>>>> d22a6c4f71ffcfe88e87f8f7402568f1c6e91048
    }
   },
   "outputs": [
    {
     "data": {
      "text/plain": [
<<<<<<< HEAD
       "tensor([-0.1269, -0.1822, -0.1325, -0.1535, -0.1991, -0.2056, -0.2090, -0.2104,\n",
       "        -0.2143, -0.2171, -0.2107, -0.2115, -0.2010, -0.2047, -0.2085, -0.2044,\n",
       "        -0.2131, -0.2056, -0.2052, -0.2096, -0.2083, -0.2119, -0.2199, -0.2117,\n",
       "        -0.2149, -0.2511, -0.2018, -0.1975, -0.2372, -0.1941, -0.2144, -0.1968,\n",
       "        -0.2082, -0.2033, -0.2060, -0.1981, -0.2007, -0.1994, -0.2090, -0.1971,\n",
       "        -0.1988, -0.2072, -0.2086, -0.2011, -0.2024, -0.2242, -0.2116, -0.2176,\n",
       "        -0.2151, -0.1897, -0.2043, -0.2031, -0.2024, -0.2066, -0.2074, -0.2128,\n",
       "        -0.2189, -0.1342, -0.1165, -0.1383, -0.1379, -0.1098, -0.1282, -0.1133,\n",
       "        -0.1205, -0.1504, -0.1323, -0.1192, -0.1226, -0.1309, -0.1177, -0.1281,\n",
       "        -0.1374, -0.1237, -0.0989, -0.1141, -0.1313, -0.1023, -0.1323, -0.1167,\n",
       "        -0.1553, -0.1264, -0.1040, -0.1226, -0.1369, -0.0913, -0.0966, -0.1046,\n",
       "        -0.1075, -0.1084, -0.1113, -0.1159, -0.1218, -0.1199, -0.1167, -0.1158,\n",
       "        -0.1154, -0.1105, -0.1128, -0.1147, -0.1140, -0.1168, -0.1162, -0.1150,\n",
       "        -0.1726, -0.1394, -0.1743, -0.1786, -0.1796, -0.1642, -0.1352, -0.1500,\n",
       "        -0.1353, -0.1542, -0.1655, -0.1643, -0.1507, -0.1658, -0.1581, -0.1752,\n",
       "        -0.1619, -0.1506, -0.1433, -0.1636, -0.1714, -0.1479, -0.1610, -0.1650,\n",
       "        -0.1511, -0.1699, -0.1457, -0.1445, -0.1427, -0.1500, -0.1540, -0.1440,\n",
       "        -0.1605, -0.1602, -0.1534, -0.1538, -0.1514, -0.1490, -0.1483, -0.1521,\n",
       "        -0.1685, -0.1624, -0.1755, -0.1543, -0.1550, -0.1534, -0.1525, -0.1589,\n",
       "        -0.1664, -0.1728])"
      ]
     },
     "execution_count": 71,
=======
       "tensor([ 0.0000, -0.0306, -0.0073,  ..., -0.0616, -0.0756, -0.0439],\n",
       "       dtype=torch.float64, grad_fn=<SubBackward0>)"
      ]
     },
     "execution_count": 22,
>>>>>>> d22a6c4f71ffcfe88e87f8f7402568f1c6e91048
     "metadata": {},
     "output_type": "execute_result"
    }
   ],
   "source": [
<<<<<<< HEAD
    "vacuum_reference"
=======
    "biased_shifts - biased_shifts[0]"
>>>>>>> d22a6c4f71ffcfe88e87f8f7402568f1c6e91048
   ]
  },
  {
   "cell_type": "code",
<<<<<<< HEAD
   "execution_count": 69,
   "id": "75a547a7",
   "metadata": {
    "ExecuteTime": {
     "end_time": "2023-04-25T13:08:53.879664Z",
     "start_time": "2023-04-25T13:08:53.872517Z"
=======
   "execution_count": 28,
   "id": "190b1a55",
   "metadata": {
    "ExecuteTime": {
     "end_time": "2023-04-04T14:19:30.892963Z",
     "start_time": "2023-04-04T14:19:30.886453Z"
>>>>>>> d22a6c4f71ffcfe88e87f8f7402568f1c6e91048
    }
   },
   "outputs": [
    {
     "data": {
      "text/plain": [
<<<<<<< HEAD
       "tensor(-6.4462)"
      ]
     },
     "execution_count": 69,
=======
       "tensor(-0.4958)"
      ]
     },
     "execution_count": 28,
>>>>>>> d22a6c4f71ffcfe88e87f8f7402568f1c6e91048
     "metadata": {},
     "output_type": "execute_result"
    }
   ],
   "source": [
<<<<<<< HEAD
    "torch.mean(adam_corr_shifts[surfaces] * 0.05 - vacuum_reference)"
=======
    "torch.min(torch.rand(1039)-0.5)"
>>>>>>> d22a6c4f71ffcfe88e87f8f7402568f1c6e91048
   ]
  },
  {
   "cell_type": "code",
<<<<<<< HEAD
   "execution_count": 59,
   "id": "4d566fcb",
   "metadata": {
    "ExecuteTime": {
     "end_time": "2023-04-25T13:04:40.584486Z",
     "start_time": "2023-04-25T13:04:40.576924Z"
=======
   "execution_count": 76,
   "id": "c9a271a8",
   "metadata": {
    "ExecuteTime": {
     "end_time": "2023-04-13T12:13:31.741900Z",
     "start_time": "2023-04-13T12:13:31.733782Z"
>>>>>>> d22a6c4f71ffcfe88e87f8f7402568f1c6e91048
    }
   },
   "outputs": [
    {
<<<<<<< HEAD
     "data": {
      "text/plain": [
       "tensor([-0.1269, -0.1822, -0.1325, -0.1535, -0.1991, -0.2056, -0.2090, -0.2104,\n",
       "        -0.2143, -0.2171, -0.2107, -0.2115, -0.2010, -0.2047, -0.2085, -0.2044,\n",
       "        -0.2131, -0.2056, -0.2052, -0.2096, -0.2083, -0.2119, -0.2199, -0.2117,\n",
       "        -0.2149, -0.2511, -0.2018, -0.1975, -0.2372, -0.1941, -0.2144, -0.1968,\n",
       "        -0.2082, -0.2033, -0.2060, -0.1981, -0.2007, -0.1994, -0.2090, -0.1971,\n",
       "        -0.1988, -0.2072, -0.2086, -0.2011, -0.2024, -0.2242, -0.2116, -0.2176,\n",
       "        -0.2151, -0.1897, -0.2043, -0.2031, -0.2024, -0.2066, -0.2074, -0.2128,\n",
       "        -0.2189, -0.1342, -0.1165, -0.1383, -0.1379, -0.1098, -0.1282, -0.1133,\n",
       "        -0.1205, -0.1504, -0.1323, -0.1192, -0.1226, -0.1309, -0.1177, -0.1281,\n",
       "        -0.1374, -0.1237, -0.0989, -0.1141, -0.1313, -0.1023, -0.1323, -0.1167,\n",
       "        -0.1553, -0.1264, -0.1040, -0.1226, -0.1369, -0.0913, -0.0966, -0.1046,\n",
       "        -0.1075, -0.1084, -0.1113, -0.1159, -0.1218, -0.1199, -0.1167, -0.1158,\n",
       "        -0.1154, -0.1105, -0.1128, -0.1147, -0.1140, -0.1168, -0.1162, -0.1150,\n",
       "        -0.1726, -0.1394, -0.1743, -0.1786, -0.1796, -0.1642, -0.1352, -0.1500,\n",
       "        -0.1353, -0.1542, -0.1655, -0.1643, -0.1507, -0.1658, -0.1581, -0.1752,\n",
       "        -0.1619, -0.1506, -0.1433, -0.1636, -0.1714, -0.1479, -0.1610, -0.1650,\n",
       "        -0.1511, -0.1699, -0.1457, -0.1445, -0.1427, -0.1500, -0.1540, -0.1440,\n",
       "        -0.1605, -0.1602, -0.1534, -0.1538, -0.1514, -0.1490, -0.1483, -0.1521,\n",
       "        -0.1685, -0.1624, -0.1755, -0.1543, -0.1550, -0.1534, -0.1525, -0.1589,\n",
       "        -0.1664, -0.1728])"
      ]
     },
     "execution_count": 59,
     "metadata": {},
     "output_type": "execute_result"
    }
   ],
   "source": [
    "vacuum_reference"
=======
     "name": "stdout",
     "output_type": "stream",
     "text": [
      "tensor(-0.6878, dtype=torch.float64, grad_fn=<MinBackward1>)\n",
      "tensor(0.4840, dtype=torch.float64, grad_fn=<MaxBackward1>)\n"
     ]
    }
   ],
   "source": [
    "print (torch.min((biased_shifts - biased_shifts[0])[diamond_range]))\n",
    "print (torch.max((biased_shifts - biased_shifts[0])[diamond_range]))"
>>>>>>> d22a6c4f71ffcfe88e87f8f7402568f1c6e91048
   ]
  },
  {
   "cell_type": "code",
<<<<<<< HEAD
   "execution_count": 57,
   "id": "d58b89e3",
   "metadata": {
    "ExecuteTime": {
     "end_time": "2023-04-25T13:02:41.244091Z",
     "start_time": "2023-04-25T13:02:41.236434Z"
=======
   "execution_count": null,
   "id": "46f67971",
   "metadata": {
    "ExecuteTime": {
     "end_time": "2023-04-04T14:26:05.697222Z",
     "start_time": "2023-04-04T14:26:05.685825Z"
    },
    "scrolled": true
   },
   "outputs": [],
   "source": [
    "(biased_shifts - biased_shifts[0])[beta_tin_range]"
   ]
  },
  {
   "cell_type": "code",
   "execution_count": 61,
   "id": "e8250da9",
   "metadata": {
    "ExecuteTime": {
     "end_time": "2023-04-04T14:30:30.438704Z",
     "start_time": "2023-04-04T14:30:30.431483Z"
>>>>>>> d22a6c4f71ffcfe88e87f8f7402568f1c6e91048
    }
   },
   "outputs": [
    {
<<<<<<< HEAD
     "data": {
      "text/plain": [
       "torch.return_types.min(\n",
       "values=tensor(-142),\n",
       "indices=tensor(454))"
      ]
     },
     "execution_count": 57,
     "metadata": {},
     "output_type": "execute_result"
    }
   ],
   "source": [
    "torch.min(adam_corr_train_shifts, 0)"
=======
     "name": "stdout",
     "output_type": "stream",
     "text": [
      "tensor(-0.9028, dtype=torch.float64, grad_fn=<MinBackward1>)\n",
      "tensor(0.5133, dtype=torch.float64, grad_fn=<MaxBackward1>)\n"
     ]
    }
   ],
   "source": [
    "print (torch.min((biased_shifts - biased_shifts[0])[beta_tin_range]))\n",
    "print (torch.max((biased_shifts - biased_shifts[0])[beta_tin_range]))"
   ]
  },
  {
   "cell_type": "code",
   "execution_count": null,
   "id": "4e32b341",
   "metadata": {
    "ExecuteTime": {
     "end_time": "2023-04-04T14:29:01.565580Z",
     "start_time": "2023-04-04T14:29:01.559346Z"
    },
    "scrolled": true
   },
   "outputs": [],
   "source": [
    "(biased_shifts - biased_shifts[0])[liquid_range]"
   ]
  },
  {
   "cell_type": "code",
   "execution_count": null,
   "id": "16c7f4db",
   "metadata": {},
   "outputs": [],
   "source": []
  },
  {
   "cell_type": "code",
   "execution_count": 62,
   "id": "51a2857b",
   "metadata": {
    "ExecuteTime": {
     "end_time": "2023-04-04T14:30:31.642566Z",
     "start_time": "2023-04-04T14:30:31.635526Z"
    }
   },
   "outputs": [
    {
     "name": "stdout",
     "output_type": "stream",
     "text": [
      "tensor(-0.6415, dtype=torch.float64, grad_fn=<MinBackward1>)\n",
      "tensor(0.2849, dtype=torch.float64, grad_fn=<MaxBackward1>)\n"
     ]
    }
   ],
   "source": [
    "print (torch.min((biased_shifts - biased_shifts[0])[liquid_range]))\n",
    "print (torch.max((biased_shifts - biased_shifts[0])[liquid_range]))"
   ]
  },
  {
   "cell_type": "code",
   "execution_count": null,
   "id": "d10400d7",
   "metadata": {
    "ExecuteTime": {
     "end_time": "2023-04-04T14:29:01.847490Z",
     "start_time": "2023-04-04T14:29:01.840870Z"
    },
    "scrolled": true
   },
   "outputs": [],
   "source": [
    "(biased_shifts - biased_shifts[0])[clusters_range]"
>>>>>>> d22a6c4f71ffcfe88e87f8f7402568f1c6e91048
   ]
  },
  {
   "cell_type": "code",
   "execution_count": 63,
<<<<<<< HEAD
   "id": "a6027c2c",
   "metadata": {
    "ExecuteTime": {
     "end_time": "2023-04-25T13:04:57.007865Z",
     "start_time": "2023-04-25T13:04:56.993398Z"
=======
   "id": "de2c7108",
   "metadata": {
    "ExecuteTime": {
     "end_time": "2023-04-04T14:30:32.544703Z",
     "start_time": "2023-04-04T14:30:32.537481Z"
>>>>>>> d22a6c4f71ffcfe88e87f8f7402568f1c6e91048
    }
   },
   "outputs": [
    {
<<<<<<< HEAD
     "data": {
      "text/plain": [
       "array([ 0.72565923,  0.69334156,  0.72267476,  0.65729607,  0.69038358,\n",
       "        0.67575365,  0.67789478,  0.74287965,  0.73520293,  0.66940705,\n",
       "        0.75388326,  0.67962418,  0.75309393,  0.67809806,  0.66200593,\n",
       "        0.68852234,  0.6980107 ,  0.69515279,  0.71697716,  0.71676054,\n",
       "        0.77145731,  0.72849885,  0.63435355,  0.72381027,  0.74874937,\n",
       "        0.74924887,  0.78512607,  0.71740105,  0.72929014,  0.78190546,\n",
       "        0.77345609,  0.73414133,  0.72135374,  0.78483447,  0.73587872,\n",
       "        0.70432459,  0.72593537,  0.73649574,  0.74462285,  0.75133543,\n",
       "        0.73007797,  0.75246892,  0.79227774,  0.77631127,  0.73351916,\n",
       "        0.68640386,  0.61568481,  0.68357789,  0.79958783,  0.8035231 ,\n",
       "        0.77965418,  0.80257177,  0.78901694,  0.74870729,  0.79656902,\n",
       "        0.79936051,  0.80657475,  0.79319723,  0.74400754,  0.7621769 ,\n",
       "        0.79708714,  0.73504051,  0.6654097 ,  0.75881337,  0.70194451,\n",
       "        0.66850316,  0.777604  ,  0.74172273,  0.69273589,  0.78999008,\n",
       "        0.76376641,  0.77352464,  0.79087423,  0.72828989,  0.79889124,\n",
       "        0.78015975,  0.79791557,  0.81042545,  0.79658657,  0.71323753,\n",
       "        0.81227552,  0.79870586,  0.74205358,  0.81537046,  0.78146686,\n",
       "        0.81453374,  0.79366722,  0.66476074,  0.71077754,  0.72385562,\n",
       "        0.81299215,  0.8004331 ,  0.77949116,  0.68716551,  0.7878935 ,\n",
       "        0.80848852,  0.82018312,  0.75642382,  0.80252973,  0.58650497,\n",
       "        0.70806925,  0.72228706,  0.81292814,  0.78165803,  0.65405428,\n",
       "        0.63111061,  0.66007136,  0.63308705,  0.63295711,  0.67206301,\n",
       "        0.64510579,  0.63850533,  0.66390511,  0.65789968,  0.62352975,\n",
       "        0.63732   ,  0.62660874,  0.64827776,  0.65758759,  0.63780223,\n",
       "        0.65073909,  0.65687943,  0.63700035,  0.64513951,  0.65211999,\n",
       "        0.65328345,  0.68015391,  0.68922393,  0.68081622,  0.65847185,\n",
       "        0.66157063,  0.66676152,  0.68087065,  0.67991479,  0.67949756,\n",
       "        0.68816232,  0.69022368,  0.66900616,  0.66894567,  0.68713725,\n",
       "        0.67255764,  0.67058103,  0.67395784,  0.67674699,  0.70319627,\n",
       "        0.71130363,  0.67077637,  0.71408329,  0.71310583,  0.70546656,\n",
       "        0.71837236,  0.66606837,  0.68543097,  0.71341548,  0.70868657,\n",
       "        0.70944297,  0.69191389,  0.70201419,  0.70236601,  0.71275446,\n",
       "        0.69515345,  0.71517019,  0.68280848,  0.71845116,  0.72636931,\n",
       "        0.74204901,  0.72161578,  0.71810251,  0.73106393,  0.70772396,\n",
       "        0.6981089 ,  0.70533134,  0.70629367,  0.71787698,  0.68180459,\n",
       "        0.71379382,  0.72049203,  0.7104268 ,  0.72991827,  0.72843098,\n",
       "        0.72234797,  0.71344768,  0.721517  ,  0.71789008,  0.74524966,\n",
       "        0.74088961,  0.73917538,  0.72559299,  0.7406531 ,  0.71332747,\n",
       "        0.73767531,  0.71987124,  0.71293749,  0.7396777 ,  0.7150555 ,\n",
       "        0.74569306,  0.70785786,  0.7071898 ,  0.69711081,  0.70905312,\n",
       "        0.69737461,  0.71182121,  0.70851502,  0.7136151 ,  0.74696154,\n",
       "        0.75745757,  0.74272279,  0.74271834,  0.74546353,  0.73067084,\n",
       "        0.70241569,  0.7547757 ,  0.71222168,  0.74159925,  0.75549279,\n",
       "        0.74355688,  0.74556183,  0.73034126,  0.71086204,  0.73552964,\n",
       "        0.67425042,  0.73219863,  0.70550562,  0.69465434,  0.77683226,\n",
       "        0.75362375,  0.72975156,  0.7382283 ,  0.71886779,  0.73721259,\n",
       "        0.7271069 ,  0.71721713,  0.74137139,  0.71533516,  0.72974185,\n",
       "        0.71533636,  0.74765366,  0.7274276 ,  0.69697988,  0.71212908,\n",
       "        0.72871577,  0.73582388,  0.74765917,  0.75634092,  0.73588251,\n",
       "        0.78055846,  0.7583991 ,  0.75676371,  0.75273215,  0.73537161,\n",
       "        0.74356155,  0.71604481,  0.73320971,  0.70549657,  0.717225  ,\n",
       "        0.72593346,  0.71605186,  0.70639238,  0.7344552 ,  0.68561374,\n",
       "        0.71153028,  0.69112544,  0.71956909,  0.69869698,  0.77196792,\n",
       "        0.77382123,  0.7789067 ,  0.75018618,  0.73678784,  0.755508  ,\n",
       "        0.7584179 ,  0.73846463,  0.75335329,  0.73235876,  0.70645753,\n",
       "        0.71391377,  0.71284215,  0.73489481,  0.64763584,  0.69952119,\n",
       "        0.69939883,  0.66873751,  0.71005255,  0.69627855,  0.76637625,\n",
       "        0.78367726,  0.75882127,  0.72619737,  0.73310502,  0.67900683,\n",
       "        0.6885357 ,  0.60453897,  0.58729607,  0.57278315,  0.57497852,\n",
       "        0.58463876,  0.6027938 ,  0.64686854,  0.63171402,  0.59942376,\n",
       "        0.59355489,  0.5982578 ,  0.61783279,  0.5908402 ,  0.79377514,\n",
       "        0.77022934,  0.74957632,  0.74121734,  0.70977888,  0.66028933,\n",
       "        0.61792031,  0.60859851,  0.51150805,  0.50923233,  0.54476073,\n",
       "        0.52251271,  0.51580331,  0.46271269,  0.41707611,  0.46084629,\n",
       "        0.40613032,  0.4538754 ,  0.46549071,  0.48368474, -0.35319722,\n",
       "       -0.42460738, -0.29533075, -0.45284836, -0.38763606, -0.34028775,\n",
       "       -0.37383046, -0.43196085, -0.41384626, -0.437629  , -0.49198665,\n",
       "       -0.40501661, -0.45239402, -0.77275902, -0.58719113, -0.86965743,\n",
       "       -0.64186965, -0.54216731, -0.60720386, -0.68099294, -0.57454239,\n",
       "       -0.72172123, -0.96747331, -0.65995893, -0.55174315, -0.8369767 ,\n",
       "       -0.65902255, -0.76348776, -0.93265897, -0.5101647 , -0.82632411,\n",
       "       -0.79633465, -0.7284015 , -0.59525585, -0.87796734, -0.50646353,\n",
       "       -0.67059309, -0.79785859, -0.72717399, -0.62555904, -0.79079586,\n",
       "       -0.84291117, -0.64603332, -0.64685032, -0.70766469, -0.59653895,\n",
       "       -0.71238861, -0.84077991, -0.87135659, -0.72170786, -0.50864095,\n",
       "       -0.82177345, -0.54675557, -0.49266441, -0.43439342, -0.52095839,\n",
       "       -0.53466998, -0.5311766 , -0.45992584, -0.57744323, -0.5827034 ,\n",
       "       -0.58587473, -0.57382063, -0.56929143, -0.57512308, -0.56368639,\n",
       "       -0.56336663, -0.56184367, -0.57083407, -0.58649515, -0.59250393,\n",
       "       -0.56740156, -0.55956878, -0.55499657, -0.55272542, -0.56570562,\n",
       "       -0.57394124, -0.5966254 , -0.61323856, -0.60362699, -0.58877365,\n",
       "       -0.60020122, -0.58813218, -0.58252731, -0.58917246, -0.59983219,\n",
       "       -0.59815632, -0.5868435 , -0.58473283, -0.56947018, -0.57360103,\n",
       "       -0.59014587, -0.61835859, -0.61096648, -0.60644109, -0.60526614,\n",
       "       -0.62033969, -0.61157982, -0.59962367, -0.62449591, -0.62111495,\n",
       "       -0.60673542, -0.59784522, -0.62553277, -0.60864585, -0.61425777,\n",
       "       -0.61547611, -0.62632138, -0.62004644, -0.60013798, -0.57915139,\n",
       "       -0.59984761, -0.60217999, -0.62000181, -0.635866  , -0.63659854,\n",
       "       -0.65209978, -0.6662002 , -0.64654378, -0.73890198, -0.73223545,\n",
       "       -0.75853524, -0.44945489, -0.45795828, -0.47618244, -0.47866929,\n",
       "       -0.47243396, -0.45266238, -0.45160067, -0.45018654, -0.46531012,\n",
       "       -0.47010019, -0.46444513, -0.47324076, -0.47977593, -0.48106078,\n",
       "       -0.47280541, -0.46707883, -0.46020693, -0.48573449, -0.50007604,\n",
       "       -0.48232223, -0.48120816, -0.48947774, -0.51162061, -0.52785412,\n",
       "       -0.5151499 , -0.50879392, -0.50260808, -0.50132289, -0.50243905,\n",
       "       -0.52630075, -0.5202936 , -0.51431314, -0.52021082, -0.52050653,\n",
       "       -0.50179042, -0.51137989, -0.50359986, -0.48987498, -0.49586989,\n",
       "       -0.50102077, -0.50255208, -0.5253418 , -0.52879497, -0.52634806,\n",
       "       -0.53228813, -0.53996057, -0.5502815 , -0.53942927, -0.53304903,\n",
       "       -0.51638129, -0.52823062, -0.54853786, -0.5334937 , -0.52789806,\n",
       "       -0.53037766, -0.5219439 , -0.54268016, -0.56807239, -0.5730402 ,\n",
       "       -0.55210045, -0.55827819, -0.58310329, -0.56307966, -0.58897233,\n",
       "       -0.59930709, -0.58840633, -0.63795009, -0.64233982, -0.62459483,\n",
       "       -0.69262105, -0.70192812, -0.64258139, -0.66230967, -0.64828603,\n",
       "       -0.63172867, -0.6205533 , -0.6568096 , -0.6755157 , -0.64521997,\n",
       "       -0.66749098, -0.64152029, -0.65719163, -0.65401576, -0.65818595,\n",
       "       -0.66924969, -0.68617884, -0.68239103, -0.68094177, -0.68583726,\n",
       "       -0.68365105, -0.66091068, -0.68310826, -0.7147776 , -0.69009634,\n",
       "       -0.68441775, -0.67136   , -0.65058691, -0.66372114, -0.67439865,\n",
       "       -0.68651314, -0.70399672, -0.70699299, -0.69304414, -0.688877  ,\n",
       "       -0.67941439, -0.69835598, -0.71479981, -0.70504818, -0.72675424,\n",
       "       -0.72199182, -0.75520996, -0.73100336, -0.70119236, -0.69869695,\n",
       "       -0.67588952, -0.69271239, -0.69517085, -0.6841552 , -0.73529127,\n",
       "       -0.72132586, -0.78557381, -0.70782172, -0.70090085, -0.71649638,\n",
       "       -0.7265159 , -0.73034188, -0.73352419, -0.7621402 , -0.75730382,\n",
       "       -0.71924549, -0.73179971, -0.73342846, -0.72907872, -0.73640726,\n",
       "       -0.7172906 , -0.70438142, -0.7212946 , -0.733578  , -0.73702944,\n",
       "       -0.75487252, -0.74039577, -0.74970744, -0.75769576, -0.77216667,\n",
       "       -0.77580482, -0.77914253, -0.78436375, -0.75304004, -0.75731802,\n",
       "       -0.74173974, -0.72997112, -0.75563445, -0.74448294, -0.75422529,\n",
       "       -0.74517762, -0.75071661, -0.74477179, -0.7310057 , -0.35156927,\n",
       "       -0.26106892, -0.24052903, -0.3829489 , -0.37049782, -0.37835921,\n",
       "       -0.37478659, -0.34196877, -0.44045973, -0.42775266, -0.42769896,\n",
       "       -0.30085193, -0.33645055, -0.33148787, -0.38221955, -0.31493704,\n",
       "       -0.38636891, -0.37116148, -0.8729263 , -0.89397059, -0.94961633,\n",
       "       -0.82476367, -0.84223646, -0.81860964, -0.80852055, -0.83434347,\n",
       "       -0.82769248, -0.82304955, -0.0092505 , -0.33211234, -0.11089269,\n",
       "       -0.17938071, -0.03957315, -0.22550415, -0.19342372, -0.28910033,\n",
       "       -0.20535545, -0.09005995, -0.46779778, -0.60256066, -0.74987821,\n",
       "       -0.54171524, -0.53110953, -0.38901621, -0.46165913, -0.49438098,\n",
       "       -0.45148989, -0.47152939,  0.11017582, -0.22186098,  0.02785598,\n",
       "       -0.00346272, -0.16089497, -0.90630916, -0.87613378, -0.82808772,\n",
       "       -0.89430307, -0.89571405, -0.91516307, -0.96267269, -0.88693494,\n",
       "       -0.89172517, -0.986576  , -0.54509752, -0.54473749, -0.26672931,\n",
       "       -0.5712138 , -0.36048271, -0.32477045, -0.22471066, -0.10754568,\n",
       "       -0.23393042, -0.08898296, -0.18976435, -0.22474913, -0.51232479,\n",
       "       -0.15036068, -0.2362939 , -0.1990802 , -0.25461404, -0.29563973,\n",
       "       -0.27501711, -0.19100473, -0.24516262, -0.40362997, -0.15274992,\n",
       "       -0.17687013, -0.33170835, -0.16761038, -0.3070767 , -0.29896777,\n",
       "       -0.16054252, -0.37013755, -0.23289705, -0.27904078, -0.27479885,\n",
       "       -0.14022379, -0.17092752, -0.35536907, -0.31507779, -0.2157741 ,\n",
       "       -0.04576427, -0.2013616 , -0.10154235, -0.40574929, -0.28047891,\n",
       "       -0.31068831, -0.0972918 , -0.29602835, -0.19338324, -0.18171994,\n",
       "       -0.29389724, -0.17095007, -0.06835493, -0.19542443, -0.01766112,\n",
       "       -0.3367657 , -0.198814  , -0.3807647 , -0.24167107, -0.21648482,\n",
       "       -0.11654428, -0.13999261, -0.16638869, -0.19526543, -0.2776484 ,\n",
       "       -0.14638258, -0.142491  , -0.14476932, -0.36593682, -0.17393484,\n",
       "       -0.24857168, -0.11995511, -0.04952957, -0.14550055, -0.25928589,\n",
       "       -0.24563581, -0.11776265, -0.22390759, -0.1175271 , -0.25633472,\n",
       "       -0.26649702, -0.08527423, -0.19631321, -0.15421948, -0.37716507,\n",
       "       -0.47752131, -0.37365667, -0.38109757, -0.17765793, -0.32340961,\n",
       "       -0.16767319,  0.03088152, -0.30634949, -0.40584174, -0.2422366 ,\n",
       "       -0.22028035, -0.49327022, -0.11917378, -0.19654753, -0.03328235,\n",
       "        0.00254941, -0.13436747, -0.29603894, -0.11943994, -0.32358217,\n",
       "       -0.27271482, -0.35930672, -0.21269258])"
      ]
     },
     "execution_count": 63,
     "metadata": {},
     "output_type": "execute_result"
    }
   ],
   "source": [
    "deepest_core_reference"
=======
     "name": "stdout",
     "output_type": "stream",
     "text": [
      "tensor(-0.6925, dtype=torch.float64, grad_fn=<MinBackward1>)\n",
      "tensor(0.0377, dtype=torch.float64, grad_fn=<MaxBackward1>)\n"
     ]
    }
   ],
   "source": [
    "print (torch.min((biased_shifts - biased_shifts[0])[clusters_range]))\n",
    "print (torch.max((biased_shifts - biased_shifts[0])[clusters_range]))"
   ]
  },
  {
   "cell_type": "code",
   "execution_count": null,
   "id": "8c062817",
   "metadata": {
    "ExecuteTime": {
     "end_time": "2023-04-04T14:29:02.115956Z",
     "start_time": "2023-04-04T14:29:02.108420Z"
    },
    "scrolled": true
   },
   "outputs": [],
   "source": [
    "(biased_shifts - biased_shifts[0])[amorphous_range]"
>>>>>>> d22a6c4f71ffcfe88e87f8f7402568f1c6e91048
   ]
  },
  {
   "cell_type": "code",
   "execution_count": 64,
<<<<<<< HEAD
   "id": "a668f1ef",
   "metadata": {
    "ExecuteTime": {
     "end_time": "2023-04-25T13:05:12.736596Z",
     "start_time": "2023-04-25T13:05:12.725085Z"
=======
   "id": "1a0253d8",
   "metadata": {
    "ExecuteTime": {
     "end_time": "2023-04-04T14:30:33.966321Z",
     "start_time": "2023-04-04T14:30:33.958883Z"
>>>>>>> d22a6c4f71ffcfe88e87f8f7402568f1c6e91048
    }
   },
   "outputs": [
    {
<<<<<<< HEAD
     "data": {
      "text/plain": [
       "tensor([-139., -139., -139., -139., -139., -139., -139., -139., -139., -139.,\n",
       "        -139., -139., -139., -139., -139., -139., -139., -139., -139., -139.,\n",
       "        -139., -139., -139., -139., -139., -139., -139., -139., -139., -139.,\n",
       "        -139., -138., -138., -138., -138., -138., -138., -138., -138., -138.,\n",
       "        -138., -138., -138., -138., -138., -138., -138., -138., -138., -138.,\n",
       "        -138., -138., -138., -138., -138., -138., -138., -138., -138., -138.,\n",
       "        -138., -138., -138., -138., -138., -138., -138., -138., -138., -138.,\n",
       "        -138., -138., -138., -138., -138., -138., -138., -138., -138., -138.,\n",
       "        -138., -138., -138., -138., -138., -138., -138., -138., -138., -138.,\n",
       "        -138., -137., -137., -137., -137., -137., -137., -137., -137., -137.,\n",
       "        -137., -137., -137., -137., -137., -137., -137., -137., -137., -137.,\n",
       "        -137., -137., -137., -137., -137., -137., -137., -137., -137., -137.,\n",
       "        -137., -137., -137., -137., -137., -137., -137., -137., -137., -137.,\n",
       "        -137., -136., -136., -136., -136., -136., -136., -136., -136., -136.,\n",
       "        -136., -136., -136., -136., -136., -136., -136., -136., -136., -136.,\n",
       "        -136., -141., -139., -139.])"
      ]
     },
     "execution_count": 64,
     "metadata": {},
     "output_type": "execute_result"
    }
   ],
   "source": []
=======
     "name": "stdout",
     "output_type": "stream",
     "text": [
      "tensor(-0.3329, dtype=torch.float64, grad_fn=<MinBackward1>)\n",
      "tensor(-0.0102, dtype=torch.float64, grad_fn=<MaxBackward1>)\n"
     ]
    }
   ],
   "source": [
    "print (torch.min((biased_shifts - biased_shifts[0])[amorphous_range]))\n",
    "print (torch.max((biased_shifts - biased_shifts[0])[amorphous_range]))"
   ]
>>>>>>> d22a6c4f71ffcfe88e87f8f7402568f1c6e91048
  },
  {
   "cell_type": "code",
   "execution_count": null,
<<<<<<< HEAD
   "id": "2c2602eb",
=======
   "id": "6bbf1f54",
>>>>>>> d22a6c4f71ffcfe88e87f8f7402568f1c6e91048
   "metadata": {},
   "outputs": [],
   "source": []
  }
 ],
 "metadata": {
  "kernelspec": {
   "display_name": "Python 3 (ipykernel)",
   "language": "python",
   "name": "python3"
  },
  "language_info": {
   "codemirror_mode": {
    "name": "ipython",
    "version": 3
   },
   "file_extension": ".py",
   "mimetype": "text/x-python",
   "name": "python",
   "nbconvert_exporter": "python",
   "pygments_lexer": "ipython3",
   "version": "3.9.12"
  },
  "toc": {
   "base_numbering": 1,
   "nav_menu": {},
   "number_sections": true,
   "sideBar": true,
   "skip_h1_title": false,
   "title_cell": "Table of Contents",
   "title_sidebar": "Contents",
   "toc_cell": false,
<<<<<<< HEAD
   "toc_position": {
    "height": "calc(100% - 180px)",
    "left": "10px",
    "top": "150px",
    "width": "497.6px"
   },
   "toc_section_display": true,
   "toc_window_display": true
=======
   "toc_position": {},
   "toc_section_display": true,
   "toc_window_display": false
>>>>>>> d22a6c4f71ffcfe88e87f8f7402568f1c6e91048
  }
 },
 "nbformat": 4,
 "nbformat_minor": 5
}
