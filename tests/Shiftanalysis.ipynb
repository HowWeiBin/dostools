{
 "cells": [
  {
   "cell_type": "code",
   "execution_count": null,
   "id": "3a9c0245",
   "metadata": {
    "ExecuteTime": {
     "end_time": "2023-04-04T11:33:41.037209Z",
     "start_time": "2023-04-04T11:33:30.956518Z"
    }
   },
   "outputs": [],
   "source": [
    "import torch\n",
    "import numpy as np\n"
   ]
  },
  {
   "cell_type": "code",
   "execution_count": 70,
   "id": "e5be2c6a",
   "metadata": {
    "ExecuteTime": {
     "end_time": "2023-04-13T12:12:53.238587Z",
     "start_time": "2023-04-13T12:12:53.123718Z"
    }
   },
   "outputs": [],
   "source": [
    "unbiased_train_shift = torch.load(\"./best_shift_fourier4.pt\")\n",
    "biased_train_shift = torch.load(\"./biased_best_state2.pt\")\n",
    "unbiased_test_shift = torch.load(\"./unbiased_test_shift.pt\")\n",
    "biased_test_shift = torch.load(\"./biased_test_shift.pt\")\n",
    "\n",
    "Splines_unbiased_train_shift = torch.load(\"./Splines_beststate_0\")\n",
    "Splines_unbiased_test_shift = torch.load(\"./Splines_testalign_0\")"
   ]
  },
  {
   "cell_type": "code",
   "execution_count": 71,
   "id": "85ca234d",
   "metadata": {
    "ExecuteTime": {
     "end_time": "2023-04-13T12:12:54.296084Z",
     "start_time": "2023-04-13T12:12:54.283307Z"
    }
   },
   "outputs": [],
   "source": [
    "n_structures = 1039\n",
    "np.random.seed(0)\n",
    "n_train = int(0.8 * n_structures)\n",
    "train_index = np.arange(n_structures)\n",
    "np.random.shuffle(train_index)\n",
    "test_index = train_index[n_train:]\n",
    "train_index = train_index[:n_train]\n",
    "\n",
    "#Selected Amorphous structures\n",
    "\n",
    "amorph_train = np.arange(939,1039,1)\n",
    "np.random.seed(0)\n",
    "np.random.shuffle(amorph_train)\n",
    "\n",
    "amorph_test = amorph_train[:80]\n",
    "amorph_train = amorph_train[80:]\n",
    "\n",
    "n_structures2 = 939\n",
    "np.random.seed(0)\n",
    "n_train = int(0.8 * 1039)-20\n",
    "remaining_train_index = np.arange(n_structures2)\n",
    "np.random.shuffle(remaining_train_index)\n",
    "\n",
    "remaining_test_index = remaining_train_index[n_train:]\n",
    "remaining_train_index = remaining_train_index[:n_train]\n",
    "\n",
    "biased_train_index = np.concatenate([remaining_train_index, amorph_train])\n",
    "biased_test_index = np.concatenate([remaining_test_index, amorph_test])"
   ]
  },
  {
   "cell_type": "code",
   "execution_count": 72,
   "id": "5867dc1c",
   "metadata": {
    "ExecuteTime": {
     "end_time": "2023-04-13T12:13:14.250040Z",
     "start_time": "2023-04-13T12:13:14.167648Z"
    }
   },
   "outputs": [
    {
     "data": {
      "text/plain": [
       "tensor([0.1585, 0.1279, 0.1512,  ..., 0.0969, 0.0829, 0.1146],\n",
       "       dtype=torch.float64, grad_fn=<IndexAddBackward0>)"
      ]
     },
     "execution_count": 72,
     "metadata": {},
     "output_type": "execute_result"
    }
   ],
   "source": [
    "unbiased_shifts = torch.zeros(n_structures).double()\n",
    "biased_shifts = torch.zeros(n_structures).double()\n",
    "\n",
    "\n",
    "unbiased_shifts.index_add_(dim = 0, index = torch.tensor(train_index), source = Splines_unbiased_train_shift)\n",
    "unbiased_shifts.index_add_(dim = 0, index = torch.tensor(test_index), source = Splines_unbiased_test_shift)\n",
    "\n",
    "biased_shifts.index_add_(dim = 0, index = torch.tensor(biased_train_index), source = biased_train_shift)\n",
    "biased_shifts.index_add_(dim = 0, index = torch.tensor(biased_test_index), source = biased_test_shift)\n"
   ]
  },
  {
   "cell_type": "code",
   "execution_count": 73,
   "id": "f4705a45",
   "metadata": {
    "ExecuteTime": {
     "end_time": "2023-04-13T12:13:16.400611Z",
     "start_time": "2023-04-13T12:13:16.392841Z"
    }
   },
   "outputs": [
    {
     "data": {
      "text/plain": [
       "tensor(0.1330, dtype=torch.float64, grad_fn=<MeanBackward0>)"
      ]
     },
     "execution_count": 73,
     "metadata": {},
     "output_type": "execute_result"
    }
   ],
   "source": [
    "torch.mean((biased_shifts - unbiased_shifts)**2)"
   ]
  },
  {
   "cell_type": "code",
   "execution_count": 74,
   "id": "5a1964f9",
   "metadata": {
    "ExecuteTime": {
     "end_time": "2023-04-13T12:13:17.951417Z",
     "start_time": "2023-04-13T12:13:17.945261Z"
    }
   },
   "outputs": [],
   "source": [
    "diamond_range = np.arange(0,324,1)\n",
    "beta_tin_range = np.arange(324,604,1)\n",
    "liquid_range = np.arange(604, 673, 1)\n",
    "clusters_range = np.arange(673, 939, 1)\n",
    "amorphous_range = np.arange(939, 1039, 1)"
   ]
  },
  {
   "cell_type": "markdown",
   "id": "956ca15f",
   "metadata": {
    "ExecuteTime": {
     "end_time": "2023-04-04T14:24:35.113642Z",
     "start_time": "2023-04-04T14:24:35.107252Z"
    }
   },
   "source": [
    "unbiased_shifts: -0.6 to 0.8 eV"
   ]
  },
  {
   "cell_type": "code",
   "execution_count": 75,
   "id": "99facaf7",
   "metadata": {
    "ExecuteTime": {
     "end_time": "2023-04-13T12:13:20.293626Z",
     "start_time": "2023-04-13T12:13:20.282115Z"
    },
    "scrolled": true
   },
   "outputs": [
    {
     "data": {
      "text/plain": [
       "tensor([ 0.0000,  0.0973, -0.0184,  0.1250,  0.1443,  0.2085,  0.1924, -0.0480,\n",
       "        -0.0504,  0.1583, -0.1064,  0.1510, -0.1830,  0.0981,  0.2057,  0.1705,\n",
       "        -0.1820,  0.1238,  0.0298, -0.1703, -0.3380, -0.0686,  0.1340, -0.0990,\n",
       "        -0.0794, -0.0879, -0.2865,  0.0527,  0.0015, -0.2265, -0.2175, -0.1670,\n",
       "        -0.1110, -0.2800, -0.1070, -0.1050, -0.1931, -0.1930, -0.1950, -0.2120,\n",
       "        -0.3101, -0.2689, -0.3260, -0.2941, -0.1750, -0.4440, -0.3370, -0.4260,\n",
       "        -0.4211, -0.4022, -0.2660, -0.5830, -0.3200, -0.1870, -0.3134, -0.4310,\n",
       "        -0.4706, -0.5270, -0.2682, -0.4200, -0.4994, -0.2420, -0.4470, -0.4736,\n",
       "        -0.7490, -0.5490, -0.5120, -0.4910, -0.5155, -0.5180, -0.3950, -0.5740,\n",
       "        -0.4930, -0.5150, -0.5701, -0.3422, -0.3710, -0.4851, -0.7306, -0.7716,\n",
       "        -0.6365, -0.6280, -0.4050, -0.5206, -0.5180, -0.6491, -0.5400, -0.6890,\n",
       "        -0.6916, -0.7110, -0.7283, -0.6601, -0.7420, -0.7570, -0.6916, -0.4986,\n",
       "        -0.9546, -0.5940, -0.7179, -0.8940, -0.7870, -0.6380, -0.6000, -0.8720,\n",
       "         0.1404,  0.1595,  0.1776,  0.1834,  0.1715,  0.1515,  0.1326,  0.1316,\n",
       "         0.1476,  0.1705,  0.1865,  0.1844,  0.1625,  0.1375,  0.1236,  0.1315,\n",
       "         0.1565,  0.1814,  0.1904,  0.1784,  0.0301,  0.0321,  0.0325,  0.0325,\n",
       "         0.0329,  0.0328,  0.0326,  0.0345,  0.0373,  0.0374,  0.0375,  0.0395,\n",
       "         0.0395,  0.0406,  0.0424,  0.0425,  0.0454,  0.0466,  0.0475,  0.0485,\n",
       "        -0.0629, -0.0636, -0.0622, -0.0643, -0.0613, -0.0607, -0.0595, -0.0602,\n",
       "        -0.0581, -0.0576, -0.0567, -0.0561, -0.0537, -0.0538, -0.0507, -0.0501,\n",
       "        -0.0494, -0.0474, -0.0472, -0.0456, -0.1500, -0.1495, -0.1490, -0.1490,\n",
       "        -0.1482, -0.1473, -0.1468, -0.1456, -0.1447, -0.1436, -0.1450, -0.1442,\n",
       "        -0.1448, -0.1439, -0.1427, -0.1404, -0.1406, -0.1395, -0.1395, -0.1375,\n",
       "        -0.2316, -0.2315, -0.2305, -0.2313, -0.2296, -0.2312, -0.2305, -0.2308,\n",
       "        -0.2296, -0.2286, -0.2290, -0.2275, -0.2267, -0.2264, -0.2256, -0.2237,\n",
       "        -0.2235, -0.2218, -0.2216, -0.2219, -0.3115, -0.3105, -0.3095, -0.3097,\n",
       "        -0.3094, -0.3097, -0.3093, -0.3076, -0.3087, -0.3085, -0.3056, -0.3093,\n",
       "        -0.3075, -0.3066, -0.3046, -0.3046, -0.3032, -0.3025, -0.3022, -0.2995,\n",
       "        -0.3826, -0.3826, -0.3826, -0.3833, -0.3835, -0.3825, -0.3825, -0.3815,\n",
       "        -0.3816, -0.3813, -0.3811, -0.3800, -0.3785, -0.3774, -0.3784, -0.3800,\n",
       "        -0.3794, -0.3805, -0.3786, -0.3804, -0.4586, -0.4575, -0.4536, -0.4565,\n",
       "        -0.4516, -0.4536, -0.4535, -0.4525, -0.4534, -0.4506, -0.4528, -0.4505,\n",
       "        -0.4477, -0.4482, -0.4485, -0.4489, -0.4678, -0.4475, -0.4465, -0.4475,\n",
       "        -0.5236, -0.5265, -0.5245, -0.5246, -0.5255, -0.5245, -0.5245, -0.5245,\n",
       "        -0.5226, -0.5216, -0.5205, -0.5176, -0.5178, -0.5156, -0.5165, -0.5165,\n",
       "        -0.5175, -0.5156, -0.5126, -0.5144, -0.5906, -0.5876, -0.5915, -0.5886,\n",
       "        -0.5875, -0.5836, -0.5786, -0.5716, -0.5690, -0.5680, -0.5680, -0.5710,\n",
       "        -0.5839, -0.5809, -0.5820, -0.5820, -0.5820, -0.5834, -0.5836, -0.5890,\n",
       "        -0.6556, -0.6555, -0.6555, -0.6535, -0.6466, -0.6465, -0.6456, -0.6395,\n",
       "        -0.6345, -0.6296, -0.6295, -0.6275, -0.6297, -0.6236, -0.6225, -0.6256,\n",
       "        -0.6305, -0.6364, -0.6386, -0.6445], dtype=torch.float64,\n",
       "       grad_fn=<IndexBackward0>)"
      ]
     },
     "execution_count": 75,
     "metadata": {},
     "output_type": "execute_result"
    }
   ],
   "source": [
    "(unbiased_shifts - unbiased_shifts[0])[diamond_range]"
   ]
  },
  {
   "cell_type": "code",
   "execution_count": 77,
   "id": "450ccf3f",
   "metadata": {
    "ExecuteTime": {
     "end_time": "2023-04-13T12:13:53.807881Z",
     "start_time": "2023-04-13T12:13:53.799725Z"
    }
   },
   "outputs": [
    {
     "name": "stdout",
     "output_type": "stream",
     "text": [
      "tensor(-0.8853, dtype=torch.float64, grad_fn=<MinBackward1>)\n",
      "tensor(0.2778, dtype=torch.float64, grad_fn=<MaxBackward1>)\n"
     ]
    }
   ],
   "source": [
    "print (torch.min((unbiased_shifts - biased_shifts[0])[diamond_range]))\n",
    "print (torch.max((unbiased_shifts - biased_shifts[0])[diamond_range]))"
   ]
  },
  {
   "cell_type": "code",
   "execution_count": null,
   "id": "1d66e105",
   "metadata": {
    "ExecuteTime": {
     "end_time": "2023-04-04T14:20:37.169152Z",
     "start_time": "2023-04-04T14:20:37.159372Z"
    },
    "scrolled": true
   },
   "outputs": [],
   "source": [
    "(unbiased_shifts - unbiased_shifts[0])[beta_tin_range]"
   ]
  },
  {
   "cell_type": "markdown",
   "id": "38097b64",
   "metadata": {
    "ExecuteTime": {
     "end_time": "2023-04-04T14:21:28.935064Z",
     "start_time": "2023-04-04T14:21:28.930458Z"
    }
   },
   "source": [
    "-0.7308 to 0.6845 eV"
   ]
  },
  {
   "cell_type": "code",
   "execution_count": null,
   "id": "04f44649",
   "metadata": {
    "ExecuteTime": {
     "end_time": "2023-04-04T14:21:39.219254Z",
     "start_time": "2023-04-04T14:21:39.211860Z"
    }
   },
   "outputs": [],
   "source": [
    "(unbiased_shifts - unbiased_shifts[0])[liquid_range]"
   ]
  },
  {
   "cell_type": "markdown",
   "id": "3280f693",
   "metadata": {},
   "source": [
    "-0.5366eV to 0.2740eV"
   ]
  },
  {
   "cell_type": "code",
   "execution_count": null,
   "id": "d72f10f6",
   "metadata": {
    "ExecuteTime": {
     "end_time": "2023-04-04T14:23:00.616217Z",
     "start_time": "2023-04-04T14:23:00.607102Z"
    },
    "scrolled": true
   },
   "outputs": [],
   "source": [
    "(unbiased_shifts - unbiased_shifts[0])[clusters_range]"
   ]
  },
  {
   "cell_type": "markdown",
   "id": "0dbf3339",
   "metadata": {},
   "source": [
    "-0.6639 to 0.0285eV"
   ]
  },
  {
   "cell_type": "code",
   "execution_count": null,
   "id": "681651d9",
   "metadata": {
    "ExecuteTime": {
     "end_time": "2023-04-04T14:23:51.236099Z",
     "start_time": "2023-04-04T14:23:51.228151Z"
    }
   },
   "outputs": [],
   "source": [
    "(unbiased_shifts - unbiased_shifts[0])[amorphous_range]"
   ]
  },
  {
   "cell_type": "markdown",
   "id": "35e3175f",
   "metadata": {
    "ExecuteTime": {
     "end_time": "2023-04-04T14:24:13.160804Z",
     "start_time": "2023-04-04T14:24:13.157653Z"
    }
   },
   "source": [
    "-0.3872 to -0.1448 eV"
   ]
  },
  {
   "cell_type": "code",
   "execution_count": null,
   "id": "c58667ca",
   "metadata": {
    "ExecuteTime": {
     "end_time": "2023-04-04T14:25:11.120971Z",
     "start_time": "2023-04-04T14:25:11.110243Z"
    },
    "scrolled": true
   },
   "outputs": [],
   "source": [
    "(biased_shifts - biased_shifts[0])[diamond_range]"
   ]
  },
  {
   "cell_type": "code",
   "execution_count": 22,
   "id": "83297088",
   "metadata": {
    "ExecuteTime": {
     "end_time": "2023-04-04T14:11:21.777543Z",
     "start_time": "2023-04-04T14:11:21.769415Z"
    }
   },
   "outputs": [
    {
     "data": {
      "text/plain": [
       "tensor([ 0.0000, -0.0306, -0.0073,  ..., -0.0616, -0.0756, -0.0439],\n",
       "       dtype=torch.float64, grad_fn=<SubBackward0>)"
      ]
     },
     "execution_count": 22,
     "metadata": {},
     "output_type": "execute_result"
    }
   ],
   "source": [
    "biased_shifts - biased_shifts[0]"
   ]
  },
  {
   "cell_type": "code",
   "execution_count": 28,
   "id": "190b1a55",
   "metadata": {
    "ExecuteTime": {
     "end_time": "2023-04-04T14:19:30.892963Z",
     "start_time": "2023-04-04T14:19:30.886453Z"
    }
   },
   "outputs": [
    {
     "data": {
      "text/plain": [
       "tensor(-0.4958)"
      ]
     },
     "execution_count": 28,
     "metadata": {},
     "output_type": "execute_result"
    }
   ],
   "source": [
    "torch.min(torch.rand(1039)-0.5)"
   ]
  },
  {
   "cell_type": "code",
   "execution_count": 76,
   "id": "c9a271a8",
   "metadata": {
    "ExecuteTime": {
     "end_time": "2023-04-13T12:13:31.741900Z",
     "start_time": "2023-04-13T12:13:31.733782Z"
    }
   },
   "outputs": [
    {
     "name": "stdout",
     "output_type": "stream",
     "text": [
      "tensor(-0.6878, dtype=torch.float64, grad_fn=<MinBackward1>)\n",
      "tensor(0.4840, dtype=torch.float64, grad_fn=<MaxBackward1>)\n"
     ]
    }
   ],
   "source": [
    "print (torch.min((biased_shifts - biased_shifts[0])[diamond_range]))\n",
    "print (torch.max((biased_shifts - biased_shifts[0])[diamond_range]))"
   ]
  },
  {
   "cell_type": "code",
   "execution_count": null,
   "id": "46f67971",
   "metadata": {
    "ExecuteTime": {
     "end_time": "2023-04-04T14:26:05.697222Z",
     "start_time": "2023-04-04T14:26:05.685825Z"
    },
    "scrolled": true
   },
   "outputs": [],
   "source": [
    "(biased_shifts - biased_shifts[0])[beta_tin_range]"
   ]
  },
  {
   "cell_type": "code",
   "execution_count": 61,
   "id": "e8250da9",
   "metadata": {
    "ExecuteTime": {
     "end_time": "2023-04-04T14:30:30.438704Z",
     "start_time": "2023-04-04T14:30:30.431483Z"
    }
   },
   "outputs": [
    {
     "name": "stdout",
     "output_type": "stream",
     "text": [
      "tensor(-0.9028, dtype=torch.float64, grad_fn=<MinBackward1>)\n",
      "tensor(0.5133, dtype=torch.float64, grad_fn=<MaxBackward1>)\n"
     ]
    }
   ],
   "source": [
    "print (torch.min((biased_shifts - biased_shifts[0])[beta_tin_range]))\n",
    "print (torch.max((biased_shifts - biased_shifts[0])[beta_tin_range]))"
   ]
  },
  {
   "cell_type": "code",
   "execution_count": null,
   "id": "4e32b341",
   "metadata": {
    "ExecuteTime": {
     "end_time": "2023-04-04T14:29:01.565580Z",
     "start_time": "2023-04-04T14:29:01.559346Z"
    },
    "scrolled": true
   },
   "outputs": [],
   "source": [
    "(biased_shifts - biased_shifts[0])[liquid_range]"
   ]
  },
  {
   "cell_type": "code",
   "execution_count": null,
   "id": "16c7f4db",
   "metadata": {},
   "outputs": [],
   "source": []
  },
  {
   "cell_type": "code",
   "execution_count": 62,
   "id": "51a2857b",
   "metadata": {
    "ExecuteTime": {
     "end_time": "2023-04-04T14:30:31.642566Z",
     "start_time": "2023-04-04T14:30:31.635526Z"
    }
   },
   "outputs": [
    {
     "name": "stdout",
     "output_type": "stream",
     "text": [
      "tensor(-0.6415, dtype=torch.float64, grad_fn=<MinBackward1>)\n",
      "tensor(0.2849, dtype=torch.float64, grad_fn=<MaxBackward1>)\n"
     ]
    }
   ],
   "source": [
    "print (torch.min((biased_shifts - biased_shifts[0])[liquid_range]))\n",
    "print (torch.max((biased_shifts - biased_shifts[0])[liquid_range]))"
   ]
  },
  {
   "cell_type": "code",
   "execution_count": null,
   "id": "d10400d7",
   "metadata": {
    "ExecuteTime": {
     "end_time": "2023-04-04T14:29:01.847490Z",
     "start_time": "2023-04-04T14:29:01.840870Z"
    },
    "scrolled": true
   },
   "outputs": [],
   "source": [
    "(biased_shifts - biased_shifts[0])[clusters_range]"
   ]
  },
  {
   "cell_type": "code",
   "execution_count": 63,
   "id": "de2c7108",
   "metadata": {
    "ExecuteTime": {
     "end_time": "2023-04-04T14:30:32.544703Z",
     "start_time": "2023-04-04T14:30:32.537481Z"
    }
   },
   "outputs": [
    {
     "name": "stdout",
     "output_type": "stream",
     "text": [
      "tensor(-0.6925, dtype=torch.float64, grad_fn=<MinBackward1>)\n",
      "tensor(0.0377, dtype=torch.float64, grad_fn=<MaxBackward1>)\n"
     ]
    }
   ],
   "source": [
    "print (torch.min((biased_shifts - biased_shifts[0])[clusters_range]))\n",
    "print (torch.max((biased_shifts - biased_shifts[0])[clusters_range]))"
   ]
  },
  {
   "cell_type": "code",
   "execution_count": null,
   "id": "8c062817",
   "metadata": {
    "ExecuteTime": {
     "end_time": "2023-04-04T14:29:02.115956Z",
     "start_time": "2023-04-04T14:29:02.108420Z"
    },
    "scrolled": true
   },
   "outputs": [],
   "source": [
    "(biased_shifts - biased_shifts[0])[amorphous_range]"
   ]
  },
  {
   "cell_type": "code",
   "execution_count": 64,
   "id": "1a0253d8",
   "metadata": {
    "ExecuteTime": {
     "end_time": "2023-04-04T14:30:33.966321Z",
     "start_time": "2023-04-04T14:30:33.958883Z"
    }
   },
   "outputs": [
    {
     "name": "stdout",
     "output_type": "stream",
     "text": [
      "tensor(-0.3329, dtype=torch.float64, grad_fn=<MinBackward1>)\n",
      "tensor(-0.0102, dtype=torch.float64, grad_fn=<MaxBackward1>)\n"
     ]
    }
   ],
   "source": [
    "print (torch.min((biased_shifts - biased_shifts[0])[amorphous_range]))\n",
    "print (torch.max((biased_shifts - biased_shifts[0])[amorphous_range]))"
   ]
  },
  {
   "cell_type": "code",
   "execution_count": null,
   "id": "6bbf1f54",
   "metadata": {},
   "outputs": [],
   "source": []
  }
 ],
 "metadata": {
  "kernelspec": {
   "display_name": "Python 3 (ipykernel)",
   "language": "python",
   "name": "python3"
  },
  "language_info": {
   "codemirror_mode": {
    "name": "ipython",
    "version": 3
   },
   "file_extension": ".py",
   "mimetype": "text/x-python",
   "name": "python",
   "nbconvert_exporter": "python",
   "pygments_lexer": "ipython3",
   "version": "3.9.12"
  },
  "toc": {
   "base_numbering": 1,
   "nav_menu": {},
   "number_sections": true,
   "sideBar": true,
   "skip_h1_title": false,
   "title_cell": "Table of Contents",
   "title_sidebar": "Contents",
   "toc_cell": false,
   "toc_position": {},
   "toc_section_display": true,
   "toc_window_display": false
  }
 },
 "nbformat": 4,
 "nbformat_minor": 5
}
